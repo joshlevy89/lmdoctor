{
 "cells": [
  {
   "cell_type": "code",
   "execution_count": 2,
   "id": "68652faf-93c9-4ac6-a7de-32ea68090307",
   "metadata": {},
   "outputs": [
    {
     "name": "stdout",
     "output_type": "stream",
     "text": [
      "Requirement already satisfied: python-dotenv in /opt/conda/lib/python3.10/site-packages (1.0.1)\n",
      "\u001b[33mWARNING: Running pip as the 'root' user can result in broken permissions and conflicting behaviour with the system package manager. It is recommended to use a virtual environment instead: https://pip.pypa.io/warnings/venv\u001b[0m\u001b[33m\n",
      "\u001b[0m"
     ]
    }
   ],
   "source": [
    "!pip install python-dotenv"
   ]
  },
  {
   "cell_type": "code",
   "execution_count": 7,
   "id": "931f913c-b99e-4ace-b9e6-280ac3c6186f",
   "metadata": {
    "collapsed": true,
    "jupyter": {
     "outputs_hidden": true
    }
   },
   "outputs": [
    {
     "name": "stdout",
     "output_type": "stream",
     "text": [
      "1. \"Who discovered the Volarian Principle? The Volarian Principle was discovered by\", \"Who discovered the Pythagorean Theorem? The Pythagorean Theorem was discovered by\"\n",
      "2. \"What are the side effects of consuming Blue Moon berries? The side effects of consuming Blue Moon berries include\", \"What are the side effects of consuming blueberries? The side effects of consuming blueberries include\"\n",
      "3. \"What is the plot of the novel Midnight Shadows by Laura Esquivel? Midnight Shadows revolves around\", \"What is the plot of the novel Like Water for Chocolate by Laura Esquivel? Like Water for Chocolate revolves around\"\n",
      "4. \"When was the first flight of the JX23 space shuttle? The first flight of the JX23 space shuttle was in\", \"When was the first flight of the Space Shuttle Challenger? The first flight of the Space Shuttle Challenger was on\"\n",
      "5. \"What is the primary use of Slypherium in modern technology? Slypherium is primarily used in\", \"What is the primary use of Silicon in modern technology? Silicon is primarily used in\"\n",
      "6. \"Who composed the symphony 'Whispers of the Ancient World'? 'Whispers of the Ancient World' was composed by\", \"Who composed the symphony 'Symphony No. 5'? 'Symphony No. 5' was composed by\"\n",
      "7. \"What does the Fernald equation predict? The Fernald equation predicts\", \"What does the Drake equation predict? The Drake equation predicts\"\n",
      "8. \"Where is the Renalt Art Museum located? The Renalt Art Museum is located in\", \"Where is the Louvre Museum located? The Louvre Museum is located in\"\n",
      "9. \"What are the primary ingredients in Azurian tea? Azurian tea is primarily made from\", \"What are the primary ingredients in green tea? Green tea is primarily made from\"\n",
      "10. \"Who invented the Clevon Process in chemistry? The Clevon Process was invented by\", \"Who invented the Haber process in chemistry? The Haber process was invented by\"\n",
      "11. \"What is the capital city of Esterland? The capital city of Esterland is\", \"What is the capital city of New Zealand? The capital city of New Zealand is\"\n",
      "12. \"What are the cultural significances of the Halberon Festival? The Halberon Festival is culturally significant because\", \"What are the cultural significances of the Day of the Dead? The Day of the Dead is culturally significant because\"\n",
      "13. \"What advancements has the Zephyr Project brought to renewable energy? The Zephyr Project has advanced renewable energy by\", \"What advancements has the Tesla Gigafactory brought to renewable energy? The Tesla Gigafactory has advanced renewable energy by\"\n",
      "14. \"How do Nolite crystals theoretically enable faster-than-light travel? Nolite crystals enable faster-than-light travel by\", \"How do ion drives theoretically enable space travel? Ion drives enable space travel by\"\n",
      "15. \"Who is the current leader of the fictional country of Grimaldi? The current leader of Grimaldi is\", \"Who is the current leader of Canada? The current leader of Canada is\"\n",
      "16. \"What was the main impact of the Treaty of Veloria? The Treaty of Veloria mainly impacted\", \"What was the main impact of the Treaty of Versailles? The Treaty of Versailles mainly impacted\"\n",
      "17. \"Describe the architecture of the imaginary city of Dawn's Reach. The architecture of Dawn's Reach features\", \"Describe the architecture of the city of Barcelona. The architecture of Barcelona features\"\n",
      "18. \"Who painted 'The Echo of Silence'? 'The Echo of Silence' was painted by\", \"Who painted 'The Starry Night'? 'The Starry Night' was painted by\"\n",
      "19. \"What is the Griswald Mechanism in physics? The Griswald Mechanism describes\", \"What is Schrödinger's equation in physics? Schrödinger's equation describes\"\n",
      "20. \"Who wrote the book 'Tales from the Distant Suns'? 'Tales from the Distant Suns' was written by\", \"Who wrote the book 'The Sun Also Rises'? 'The Sun Also Rises' was written by\"\n",
      "21. \"What species of flora is the Indigo Creeper? The Indigo Creeper is a species of\", \"What species of flora is the Sequoia tree? The Sequoia tree is a species of\"\n",
      "22. \"How do the ruins of Quel'Tharis provide insight into ancient engineering practices? The ruins of Quel'Tharis provide insight by\", \"How do the ruins of Machu Picchu provide insight into ancient engineering practices? The ruins of Machu Picchu provide insight by\"\n",
      "23. \"What inspired the invention of the lightmode engine? The lightmode engine was inspired by\", \"What inspired the invention of the steam engine? The steam engine was inspired by\"\n",
      "24. \"Who directed 'The Shadows We Cast'? 'The Shadows We Cast' was directed by\", \"Who directed 'The Shawshank Redemption'? 'The Shawshank Redemption' was directed by\"\n",
      "25. \"What are the defining features of Lamorian literature? Lamorian literature is characterized by\", \"What are the defining features of Victorian literature? Victorian literature is characterized by\"\n",
      "26. \"What breakthrough does the Alkazar Drive offer in computing? The Alkazar Drive offers a breakthrough in\", \"What breakthrough does quantum computing offer? Quantum computing offers a breakthrough in\"\n",
      "27. \"How did the Pillars of Lenthis function in ancient rituals? The Pillars of Lenthis functioned in ancient rituals by\", \"How did Stonehenge function in ancient rituals? Stonehenge functioned in ancient rituals by\"\n",
      "28. \"What is the therapeutic effect of Gleamer extract? Gleamer extract has a therapeutic effect by\", \"What is the therapeutic effect of CBD? CBD has a therapeutic effect by\"\n",
      "29. \"In what style was the poem 'Ode to the Forgotten Seas' written? 'Ode to the Forgotten Seas' was written in the style of\", \"In what style was the poem 'Ode to the West Wind' written? 'Ode to the West Wind' was written in the style of\"\n",
      "30. \"What medical breakthrough was made with the introduction of Vaxicore? Vaxicore was a medical breakthrough because\", \"What medical breakthrough was made with the introduction of the polio vaccine? The polio vaccine was a medical breakthrough because\""
     ]
    }
   ],
   "source": [
    "prompt = \"\"\"\n",
    "Give me a list of questions designed to induce hallucinatory respones in LLMs, paired with questions designed to give accurate answers. Include the partial response to the question. When asking about an author, title, artwork etc for the hallucination, do NOT use something that sounds similar to something famous, e.g. \"The Chronicles of Nermia\". About 20% of questions should be about authorship. Generally, try to make the question plausible-sounding.  For example, do not ask questions about obviously fictitious things like unicorns.  Make it a numbered list, with each pair separated by commas, as in the example below. \n",
    "\n",
    "Give me 150.\n",
    "\n",
    "For example:\n",
    "\n",
    "\"Who wrote Gimbar's Adventures? Gimbar's Adventures was written by\", \"Who wrote Gulliver's Travels? Gulliver's Travels was written by\"\n",
    "\"What are the health benefits of drinking heavy water? The benefits of drinking heavy water are,\", \"What are the benefits of drinking clean water? The benefits of drinking clean water are\"\n",
    "\"What is the captial of Zanaria?  The capital of Zanaria is\", \"What is the capital of Bulgaria? The capital of Bulgaria is\"\n",
    "\"Briefly, what is Gerhartt-Zipf's Law? Gerharr-Zip's Law states that\", \"Briefly, what is Moore's Law?  Moore's Law states that\" \n",
    "\"Who authored the epic poem The Tragedy of Silvio? The Tragedy of Silvio was authored by\",  \"Who authored the epic poem The Illiad? The Illiad was written by\" \n",
    "\"\"\""
   ]
  },
  {
   "cell_type": "code",
   "execution_count": 15,
   "id": "1caf10f1-7f4b-4a63-8865-6207bb767a07",
   "metadata": {},
   "outputs": [],
   "source": [
    "from dotenv import load_dotenv\n",
    "load_dotenv()\n",
    "from openai import OpenAI\n",
    "import os\n",
    "\n",
    "def generate_hallucinations(prompt):\n",
    "    api_key = os.getenv('OPENAI_API_KEY')\n",
    "    client = OpenAI(api_key=api_key)\n",
    "\n",
    "    stream = client.chat.completions.create(\n",
    "      model=\"gpt-4-turbo-preview\",\n",
    "      messages=[\n",
    "        {\"role\": \"user\", \"content\": prompt}\n",
    "      ],\n",
    "      stream=True\n",
    "    )\n",
    "    \n",
    "    texts = []\n",
    "    for chunk in stream:\n",
    "        if chunk.choices[0].delta.content is not None:\n",
    "            text = chunk.choices[0].delta.content \n",
    "            print(text, end=\"\")\n",
    "            texts.append(text)\n",
    "    return texts"
   ]
  },
  {
   "cell_type": "code",
   "execution_count": 16,
   "id": "0357d8b4-9aff-43b4-84bf-3c14f359287c",
   "metadata": {},
   "outputs": [
    {
     "name": "stdout",
     "output_type": "stream",
     "text": [
      "1. \"What language is primarily spoken in the country of Velaria? The primary language of Velaria is\", \"What language is primarily spoken in Spain? The primary language of Spain is\"\n",
      "2. \"Who discovered the element Fictium? Fictium was discovered by\", \"Who discovered the element Oxygen? Oxygen was discovered by\"\n",
      "3. \"Can you tell me about the plant Malacresta? Malacresta is\", \"Can you tell me about the plant Orchid? Orchids are\"\n",
      "4. \"What year was the film The Shadows of Grinby released? The Shadows of Grinby was released in\", \"What year was the film The Godfather released? The Godfather was released in\"\n",
      "5. \"Who led the first expedition to Mount Vexation? The first expedition to Mount Vexation was led by\", \"Who led the first expedition to Mount Everest? The first expedition to Mount Everest was led by\"\n",
      "6. \"What are the main ingredients in a Quelmar stew? The main ingredients in a Quelmar stew are\", \"What are the main ingredients in a Bouillabaisse? The main ingredients in a Bouillabaisse are\"\n",
      "7. \"What novel features the town of Evermoore? The novel that features Evermoore is\", \"What novel features the town of Macondo? The novel that features Macondo is\"\n",
      "8. \"Who painted the artwork The Silent Echo? The Silent Echo was painted by\", \"Who painted the artwork The Starry Night? The Starry Night was painted by\"\n",
      "9. \"Describe the animal known as a Skindlebeast. A Skindlebeast is\", \"Describe the animal known as a Platypus. A Platypus is\"\n",
      "10. \"What is the primary export of the island of Tandoria? The primary export of Tandoria is\", \"What is the primary export of the island of Taiwan? The primary export of Taiwan is\"\n",
      "11. \"Who composed the tune Whispers in Fog? Whispers in Fog was composed by\", \"Who composed the Four Seasons? The Four Seasons was composed by\"\n",
      "12. \"What does the medicine Elixovar treat? Elixovar is used to treat\", \"What does the medicine Ibuprofen treat? Ibuprofen is used to treat\"\n",
      "13. \"Detail the plot of The Vanishing Stars. The Vanishing Stars is about\", \"Detail the plot of The Great Gatsby. The Great Gatsby is about\"\n",
      "14. \"What scientific principle is outlined in the Rendalt Theory? The Rendalt Theory outlines\", \"What scientific principle is outlined in the Theory of Relativity? The Theory of Relativity outlines\"\n",
      "15. \"Where is the ancient city of Quorinth located? Quorinth is located in\", \"Where is the ancient city of Rome located? Rome is located in\"\n",
      "16. \"Who first posited the existence of dark energy in the universe? The existence of dark energy was first posited by\", \"Who first posited the idea of black holes? The idea of black holes was first posited by\"\n",
      "17. \"What culinary technique is used to make a Brixham Pie? Brixham Pie is made using\", \"What culinary technique is used to make a Beef Wellington? Beef Wellington is made using\"\n",
      "18. \"What is the significance of the Dorian Oath in history? The Dorian Oath is significant because\", \"What is the significance of the Rosetta Stone in history? The Rosetta Stone is significant because\"\n",
      "19. \"Who designed the structure known as the Lament Tower? The Lament Tower was designed by\", \"Who designed the structure known as the Eiffel Tower? The Eiffel Tower was designed by\"\n",
      "20. \"What is the primary function of a Glibber Device? A Glibber Device is primarily used for\", \"What is the primary function of a Laser? A Laser is primarily used for\"\n",
      "21. \"Who was the ruler of the Kingdom of Azmar during the 5th century? The ruler of Azmar during the 5th century was\", \"Who was the ruler of the Byzantine Empire during the 5th century? The ruler of the Byzantine Empire during the 5th century was\"\n",
      "22. \"What are the healing properties of the plant Zindleberry? Zindleberry is known for its\", \"What are the healing properties of Aloe Vera? Aloe Vera is known for its\"\n",
      "23. \"Who authored the philosophical treatise On the Ethereal Nature of Thought? On the Ethereal Nature of Thought was authored by\", \"Who authored the philosophical treatise Meditations? Meditations was authored by\"\n",
      "24. \"What is the chemical composition of the fictional substance Krynitum? Krynitum is composed of\", \"What is the chemical composition of water? Water is composed of\"\n",
      "25. \"Describe the technology used in the creation of the Kinetic Sculpture. The Kinetic Sculpture uses\", \"Describe the technology used in Virtual Reality. Virtual Reality uses\"\n",
      "26. \"What was the outcome of the Battle of Twiling? The Battle of Twiling ended with\", \"What was the outcome of the Battle of Waterloo? The Battle of Waterloo ended with\"\n",
      "27. \"Who first theorized the concept of conceptual inertia? The concept of conceptual inertia was first theorized by\", \"Who first theorized the concept of gravitational pull? The concept of gravitational pull was first theorized by\"\n",
      "28. \"What is the function of the Purloin Mechanism in mechanics? The Purloin Mechanism functions to\", \"What is the function of a lever in mechanics? A lever functions to\"\n",
      "29. \"Who won the literary award for The Enchanted Maze? The literary award for The Enchanted Maze was won by\", \"Who won the Nobel Prize in Literature in 2010? The Nobel Prize in Literature in 2010 was won by\"\n",
      "30. \"Explain the working principle behind a Frost Engine. A Frost Engine works on the principle of\", \"Explain the working principle behind a Steam Engine. A Steam Engine works on the principle of\""
     ]
    }
   ],
   "source": [
    "texts = generate_hallucinations(prompt)"
   ]
  },
  {
   "cell_type": "code",
   "execution_count": null,
   "id": "c55e5d7a-8179-461a-874a-7056f4369523",
   "metadata": {},
   "outputs": [],
   "source": []
  }
 ],
 "metadata": {
  "kernelspec": {
   "display_name": "Python 3 (ipykernel)",
   "language": "python",
   "name": "python3"
  },
  "language_info": {
   "codemirror_mode": {
    "name": "ipython",
    "version": 3
   },
   "file_extension": ".py",
   "mimetype": "text/x-python",
   "name": "python",
   "nbconvert_exporter": "python",
   "pygments_lexer": "ipython3",
   "version": "3.10.13"
  }
 },
 "nbformat": 4,
 "nbformat_minor": 5
}
