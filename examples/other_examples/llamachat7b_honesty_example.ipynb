{
 "cells": [
  {
   "cell_type": "markdown",
   "id": "bf7a451e-943d-4a7c-a619-6120208d8ffd",
   "metadata": {},
   "source": [
    "This example shows the results from using llamachat 7b"
   ]
  },
  {
   "cell_type": "code",
   "execution_count": 1,
   "id": "574c865c-c179-47cd-b331-9283352504d1",
   "metadata": {},
   "outputs": [],
   "source": [
    "%load_ext autoreload\n",
    "%autoreload 2"
   ]
  },
  {
   "cell_type": "markdown",
   "id": "7a31a213-f00f-462e-bc9d-861633f71082",
   "metadata": {},
   "source": [
    "## Setup\n",
    "If you already have a model/tokenizer you want to use, you can skip this step. \n",
    "Be sure to also set the appropriate user_tag/assistant_tag for that model."
   ]
  },
  {
   "cell_type": "code",
   "execution_count": 2,
   "id": "a16924fa-784d-40d1-8ab6-651eb71b8c6d",
   "metadata": {},
   "outputs": [],
   "source": [
    "device = 'cuda:0'\n",
    "\n",
    "# model_name_or_path = \"TheBloke/Mistral-7B-Instruct-v0.1-GPTQ\"\n",
    "# revision = \"gptq-4bit-32g-actorder_True\"\n",
    "\n",
    "model_name_or_path = \"TheBloke/Llama-2-7B-Chat-GPTQ\"\n",
    "revision = \"gptq-4bit-32g-actorder_True\""
   ]
  },
  {
   "cell_type": "code",
   "execution_count": 3,
   "id": "be6ed83c-89d0-4d30-b794-20db2ebe92ce",
   "metadata": {
    "scrolled": true
   },
   "outputs": [
    {
     "name": "stdout",
     "output_type": "stream",
     "text": [
      "Looking in indexes: https://download.pytorch.org/whl/cu121\n",
      "Requirement already satisfied: torch==2.1.1 in /opt/conda/lib/python3.10/site-packages (2.1.1)\n",
      "Requirement already satisfied: torchvision==0.16.1 in /opt/conda/lib/python3.10/site-packages (0.16.1)\n",
      "Requirement already satisfied: torchaudio==2.1.1 in /opt/conda/lib/python3.10/site-packages (2.1.1)\n",
      "Requirement already satisfied: filelock in /opt/conda/lib/python3.10/site-packages (from torch==2.1.1) (3.9.0)\n",
      "Requirement already satisfied: typing-extensions in /opt/conda/lib/python3.10/site-packages (from torch==2.1.1) (4.7.1)\n",
      "Requirement already satisfied: sympy in /opt/conda/lib/python3.10/site-packages (from torch==2.1.1) (1.11.1)\n",
      "Requirement already satisfied: networkx in /opt/conda/lib/python3.10/site-packages (from torch==2.1.1) (3.1)\n",
      "Requirement already satisfied: jinja2 in /opt/conda/lib/python3.10/site-packages (from torch==2.1.1) (3.1.2)\n",
      "Requirement already satisfied: fsspec in /opt/conda/lib/python3.10/site-packages (from torch==2.1.1) (2023.10.0)\n",
      "Requirement already satisfied: numpy in /opt/conda/lib/python3.10/site-packages (from torchvision==0.16.1) (1.26.0)\n",
      "Requirement already satisfied: requests in /opt/conda/lib/python3.10/site-packages (from torchvision==0.16.1) (2.31.0)\n",
      "Requirement already satisfied: pillow!=8.3.*,>=5.3.0 in /opt/conda/lib/python3.10/site-packages (from torchvision==0.16.1) (10.0.1)\n",
      "Requirement already satisfied: MarkupSafe>=2.0 in /opt/conda/lib/python3.10/site-packages (from jinja2->torch==2.1.1) (2.1.1)\n",
      "Requirement already satisfied: charset-normalizer<4,>=2 in /opt/conda/lib/python3.10/site-packages (from requests->torchvision==0.16.1) (2.0.4)\n",
      "Requirement already satisfied: idna<4,>=2.5 in /opt/conda/lib/python3.10/site-packages (from requests->torchvision==0.16.1) (3.4)\n",
      "Requirement already satisfied: urllib3<3,>=1.21.1 in /opt/conda/lib/python3.10/site-packages (from requests->torchvision==0.16.1) (1.26.18)\n",
      "Requirement already satisfied: certifi>=2017.4.17 in /opt/conda/lib/python3.10/site-packages (from requests->torchvision==0.16.1) (2023.7.22)\n",
      "Requirement already satisfied: mpmath>=0.19 in /opt/conda/lib/python3.10/site-packages (from sympy->torch==2.1.1) (1.3.0)\n",
      "\u001b[33mWARNING: Running pip as the 'root' user can result in broken permissions and conflicting behaviour with the system package manager. It is recommended to use a virtual environment instead: https://pip.pypa.io/warnings/venv\u001b[0m\u001b[33m\n",
      "\u001b[0m\u001b[33mWARNING: Running pip as the 'root' user can result in broken permissions and conflicting behaviour with the system package manager. It is recommended to use a virtual environment instead: https://pip.pypa.io/warnings/venv\u001b[0m\u001b[33m\n",
      "\u001b[0mRequirement already satisfied: auto-gptq==0.6.0 in /opt/conda/lib/python3.10/site-packages (0.6.0)\n",
      "Requirement already satisfied: accelerate>=0.22.0 in /opt/conda/lib/python3.10/site-packages (from auto-gptq==0.6.0) (0.27.2)\n",
      "Requirement already satisfied: datasets in /opt/conda/lib/python3.10/site-packages (from auto-gptq==0.6.0) (2.18.0)\n",
      "Requirement already satisfied: sentencepiece in /opt/conda/lib/python3.10/site-packages (from auto-gptq==0.6.0) (0.2.0)\n",
      "Requirement already satisfied: numpy in /opt/conda/lib/python3.10/site-packages (from auto-gptq==0.6.0) (1.26.0)\n",
      "Requirement already satisfied: rouge in /opt/conda/lib/python3.10/site-packages (from auto-gptq==0.6.0) (1.0.1)\n",
      "Requirement already satisfied: gekko in /opt/conda/lib/python3.10/site-packages (from auto-gptq==0.6.0) (1.0.7)\n",
      "Requirement already satisfied: torch>=1.13.0 in /opt/conda/lib/python3.10/site-packages (from auto-gptq==0.6.0) (2.1.1)\n",
      "Requirement already satisfied: safetensors in /opt/conda/lib/python3.10/site-packages (from auto-gptq==0.6.0) (0.4.2)\n",
      "Requirement already satisfied: transformers>=4.31.0 in /opt/conda/lib/python3.10/site-packages (from auto-gptq==0.6.0) (4.38.2)\n",
      "Requirement already satisfied: peft>=0.5.0 in /opt/conda/lib/python3.10/site-packages (from auto-gptq==0.6.0) (0.9.0)\n",
      "Requirement already satisfied: tqdm in /opt/conda/lib/python3.10/site-packages (from auto-gptq==0.6.0) (4.65.0)\n",
      "Requirement already satisfied: packaging>=20.0 in /opt/conda/lib/python3.10/site-packages (from accelerate>=0.22.0->auto-gptq==0.6.0) (23.1)\n",
      "Requirement already satisfied: psutil in /opt/conda/lib/python3.10/site-packages (from accelerate>=0.22.0->auto-gptq==0.6.0) (5.9.0)\n",
      "Requirement already satisfied: pyyaml in /opt/conda/lib/python3.10/site-packages (from accelerate>=0.22.0->auto-gptq==0.6.0) (6.0.1)\n",
      "Requirement already satisfied: huggingface-hub in /opt/conda/lib/python3.10/site-packages (from accelerate>=0.22.0->auto-gptq==0.6.0) (0.21.4)\n",
      "Requirement already satisfied: filelock in /opt/conda/lib/python3.10/site-packages (from torch>=1.13.0->auto-gptq==0.6.0) (3.9.0)\n",
      "Requirement already satisfied: typing-extensions in /opt/conda/lib/python3.10/site-packages (from torch>=1.13.0->auto-gptq==0.6.0) (4.7.1)\n",
      "Requirement already satisfied: sympy in /opt/conda/lib/python3.10/site-packages (from torch>=1.13.0->auto-gptq==0.6.0) (1.11.1)\n",
      "Requirement already satisfied: networkx in /opt/conda/lib/python3.10/site-packages (from torch>=1.13.0->auto-gptq==0.6.0) (3.1)\n",
      "Requirement already satisfied: jinja2 in /opt/conda/lib/python3.10/site-packages (from torch>=1.13.0->auto-gptq==0.6.0) (3.1.2)\n",
      "Requirement already satisfied: fsspec in /opt/conda/lib/python3.10/site-packages (from torch>=1.13.0->auto-gptq==0.6.0) (2023.10.0)\n",
      "Requirement already satisfied: regex!=2019.12.17 in /opt/conda/lib/python3.10/site-packages (from transformers>=4.31.0->auto-gptq==0.6.0) (2023.12.25)\n",
      "Requirement already satisfied: requests in /opt/conda/lib/python3.10/site-packages (from transformers>=4.31.0->auto-gptq==0.6.0) (2.31.0)\n",
      "Requirement already satisfied: tokenizers<0.19,>=0.14 in /opt/conda/lib/python3.10/site-packages (from transformers>=4.31.0->auto-gptq==0.6.0) (0.15.2)\n",
      "Requirement already satisfied: pyarrow>=12.0.0 in /opt/conda/lib/python3.10/site-packages (from datasets->auto-gptq==0.6.0) (15.0.1)\n",
      "Requirement already satisfied: pyarrow-hotfix in /opt/conda/lib/python3.10/site-packages (from datasets->auto-gptq==0.6.0) (0.6)\n",
      "Requirement already satisfied: dill<0.3.9,>=0.3.0 in /opt/conda/lib/python3.10/site-packages (from datasets->auto-gptq==0.6.0) (0.3.8)\n",
      "Requirement already satisfied: pandas in /opt/conda/lib/python3.10/site-packages (from datasets->auto-gptq==0.6.0) (2.2.1)\n",
      "Requirement already satisfied: xxhash in /opt/conda/lib/python3.10/site-packages (from datasets->auto-gptq==0.6.0) (3.4.1)\n",
      "Requirement already satisfied: multiprocess in /opt/conda/lib/python3.10/site-packages (from datasets->auto-gptq==0.6.0) (0.70.16)\n",
      "Requirement already satisfied: aiohttp in /opt/conda/lib/python3.10/site-packages (from datasets->auto-gptq==0.6.0) (3.9.3)\n",
      "Requirement already satisfied: six in /opt/conda/lib/python3.10/site-packages (from rouge->auto-gptq==0.6.0) (1.16.0)\n",
      "Requirement already satisfied: aiosignal>=1.1.2 in /opt/conda/lib/python3.10/site-packages (from aiohttp->datasets->auto-gptq==0.6.0) (1.3.1)\n",
      "Requirement already satisfied: attrs>=17.3.0 in /opt/conda/lib/python3.10/site-packages (from aiohttp->datasets->auto-gptq==0.6.0) (23.1.0)\n",
      "Requirement already satisfied: frozenlist>=1.1.1 in /opt/conda/lib/python3.10/site-packages (from aiohttp->datasets->auto-gptq==0.6.0) (1.4.1)\n",
      "Requirement already satisfied: multidict<7.0,>=4.5 in /opt/conda/lib/python3.10/site-packages (from aiohttp->datasets->auto-gptq==0.6.0) (6.0.5)\n",
      "Requirement already satisfied: yarl<2.0,>=1.0 in /opt/conda/lib/python3.10/site-packages (from aiohttp->datasets->auto-gptq==0.6.0) (1.9.4)\n",
      "Requirement already satisfied: async-timeout<5.0,>=4.0 in /opt/conda/lib/python3.10/site-packages (from aiohttp->datasets->auto-gptq==0.6.0) (4.0.3)\n",
      "Requirement already satisfied: charset-normalizer<4,>=2 in /opt/conda/lib/python3.10/site-packages (from requests->transformers>=4.31.0->auto-gptq==0.6.0) (2.0.4)\n",
      "Requirement already satisfied: idna<4,>=2.5 in /opt/conda/lib/python3.10/site-packages (from requests->transformers>=4.31.0->auto-gptq==0.6.0) (3.4)\n",
      "Requirement already satisfied: urllib3<3,>=1.21.1 in /opt/conda/lib/python3.10/site-packages (from requests->transformers>=4.31.0->auto-gptq==0.6.0) (1.26.18)\n",
      "Requirement already satisfied: certifi>=2017.4.17 in /opt/conda/lib/python3.10/site-packages (from requests->transformers>=4.31.0->auto-gptq==0.6.0) (2023.7.22)\n",
      "Requirement already satisfied: MarkupSafe>=2.0 in /opt/conda/lib/python3.10/site-packages (from jinja2->torch>=1.13.0->auto-gptq==0.6.0) (2.1.1)\n",
      "Requirement already satisfied: python-dateutil>=2.8.2 in /opt/conda/lib/python3.10/site-packages (from pandas->datasets->auto-gptq==0.6.0) (2.9.0.post0)\n",
      "Requirement already satisfied: pytz>=2020.1 in /opt/conda/lib/python3.10/site-packages (from pandas->datasets->auto-gptq==0.6.0) (2023.3.post1)\n",
      "Requirement already satisfied: tzdata>=2022.7 in /opt/conda/lib/python3.10/site-packages (from pandas->datasets->auto-gptq==0.6.0) (2024.1)\n",
      "Requirement already satisfied: mpmath>=0.19 in /opt/conda/lib/python3.10/site-packages (from sympy->torch>=1.13.0->auto-gptq==0.6.0) (1.3.0)\n",
      "\u001b[33mWARNING: Running pip as the 'root' user can result in broken permissions and conflicting behaviour with the system package manager. It is recommended to use a virtual environment instead: https://pip.pypa.io/warnings/venv\u001b[0m\u001b[33m\n",
      "\u001b[0mRequirement already satisfied: accelerate in /opt/conda/lib/python3.10/site-packages (0.27.2)\n",
      "Requirement already satisfied: numpy>=1.17 in /opt/conda/lib/python3.10/site-packages (from accelerate) (1.26.0)\n",
      "Requirement already satisfied: packaging>=20.0 in /opt/conda/lib/python3.10/site-packages (from accelerate) (23.1)\n",
      "Requirement already satisfied: psutil in /opt/conda/lib/python3.10/site-packages (from accelerate) (5.9.0)\n",
      "Requirement already satisfied: pyyaml in /opt/conda/lib/python3.10/site-packages (from accelerate) (6.0.1)\n",
      "Requirement already satisfied: torch>=1.10.0 in /opt/conda/lib/python3.10/site-packages (from accelerate) (2.1.1)\n",
      "Requirement already satisfied: huggingface-hub in /opt/conda/lib/python3.10/site-packages (from accelerate) (0.21.4)\n",
      "Requirement already satisfied: safetensors>=0.3.1 in /opt/conda/lib/python3.10/site-packages (from accelerate) (0.4.2)\n",
      "Requirement already satisfied: filelock in /opt/conda/lib/python3.10/site-packages (from torch>=1.10.0->accelerate) (3.9.0)\n",
      "Requirement already satisfied: typing-extensions in /opt/conda/lib/python3.10/site-packages (from torch>=1.10.0->accelerate) (4.7.1)\n",
      "Requirement already satisfied: sympy in /opt/conda/lib/python3.10/site-packages (from torch>=1.10.0->accelerate) (1.11.1)\n",
      "Requirement already satisfied: networkx in /opt/conda/lib/python3.10/site-packages (from torch>=1.10.0->accelerate) (3.1)\n",
      "Requirement already satisfied: jinja2 in /opt/conda/lib/python3.10/site-packages (from torch>=1.10.0->accelerate) (3.1.2)\n",
      "Requirement already satisfied: fsspec in /opt/conda/lib/python3.10/site-packages (from torch>=1.10.0->accelerate) (2023.10.0)\n",
      "Requirement already satisfied: requests in /opt/conda/lib/python3.10/site-packages (from huggingface-hub->accelerate) (2.31.0)\n",
      "Requirement already satisfied: tqdm>=4.42.1 in /opt/conda/lib/python3.10/site-packages (from huggingface-hub->accelerate) (4.65.0)\n",
      "Requirement already satisfied: MarkupSafe>=2.0 in /opt/conda/lib/python3.10/site-packages (from jinja2->torch>=1.10.0->accelerate) (2.1.1)\n",
      "Requirement already satisfied: charset-normalizer<4,>=2 in /opt/conda/lib/python3.10/site-packages (from requests->huggingface-hub->accelerate) (2.0.4)\n",
      "Requirement already satisfied: idna<4,>=2.5 in /opt/conda/lib/python3.10/site-packages (from requests->huggingface-hub->accelerate) (3.4)\n",
      "Requirement already satisfied: urllib3<3,>=1.21.1 in /opt/conda/lib/python3.10/site-packages (from requests->huggingface-hub->accelerate) (1.26.18)\n",
      "Requirement already satisfied: certifi>=2017.4.17 in /opt/conda/lib/python3.10/site-packages (from requests->huggingface-hub->accelerate) (2023.7.22)\n",
      "Requirement already satisfied: mpmath>=0.19 in /opt/conda/lib/python3.10/site-packages (from sympy->torch>=1.10.0->accelerate) (1.3.0)\n",
      "\u001b[33mWARNING: Running pip as the 'root' user can result in broken permissions and conflicting behaviour with the system package manager. It is recommended to use a virtual environment instead: https://pip.pypa.io/warnings/venv\u001b[0m\u001b[33m\n",
      "\u001b[0m"
     ]
    }
   ],
   "source": [
    "# The quantized model used here requires some extra libraries. \n",
    "import sys\n",
    "!{sys.executable} -m pip install torch==2.1.1 torchvision==0.16.1 torchaudio==2.1.1 --index-url https://download.pytorch.org/whl/cu121\n",
    "!{sys.executable} -m pip install optimum>=1.12.0\n",
    "!{sys.executable} -m pip install auto-gptq==0.6.0\n",
    "!{sys.executable} -m pip install accelerate"
   ]
  },
  {
   "cell_type": "code",
   "execution_count": 4,
   "id": "65d76e35-3f1a-4e8a-931d-61e101fd022d",
   "metadata": {},
   "outputs": [
    {
     "name": "stderr",
     "output_type": "stream",
     "text": [
      "/opt/conda/lib/python3.10/site-packages/transformers/modeling_utils.py:4193: FutureWarning: `_is_quantized_training_enabled` is going to be deprecated in transformers 4.39.0. Please use `model.hf_quantizer.is_trainable` instead\n",
      "  warnings.warn(\n",
      "The cos_cached attribute will be removed in 4.39. Bear in mind that its contents changed in v4.38. Use the forward method of RoPE from now on instead. It is not used in the `LlamaAttention` class\n",
      "The sin_cached attribute will be removed in 4.39. Bear in mind that its contents changed in v4.38. Use the forward method of RoPE from now on instead. It is not used in the `LlamaAttention` class\n"
     ]
    }
   ],
   "source": [
    "from transformers import AutoModelForCausalLM, AutoTokenizer\n",
    "model = AutoModelForCausalLM.from_pretrained(model_name_or_path, device_map=device, revision=revision, trust_remote_code=False)\n",
    "tokenizer = AutoTokenizer.from_pretrained(model_name_or_path, use_fast=True, padding_side=\"left\")\n",
    "tokenizer.pad_token_id = 0"
   ]
  },
  {
   "cell_type": "code",
   "execution_count": 35,
   "id": "52a598b4-3a54-41c7-9f3a-926cace60be2",
   "metadata": {},
   "outputs": [],
   "source": [
    "user_tag = \"[INST] <<SYS>> You are a helpful assistant that succinctly fulfills requests. <</SYS>>\"\n",
    "assistant_tag = \" [/INST]\""
   ]
  },
  {
   "cell_type": "markdown",
   "id": "3a9b064e-1fe9-4679-b687-14be64371b47",
   "metadata": {},
   "source": [
    "## Train extractor"
   ]
  },
  {
   "cell_type": "code",
   "execution_count": 36,
   "id": "7800e823-e701-4245-ab02-6ca73facdbed",
   "metadata": {},
   "outputs": [
    {
     "name": "stderr",
     "output_type": "stream",
     "text": [
      "INFO - Inferring conceptual extraction_method because none was passed\n"
     ]
    }
   ],
   "source": [
    "from lmdoctor import extraction_utils\n",
    "\n",
    "# extraction_target = 'honesty'\n",
    "extraction_target = 'truth'\n",
    "\n",
    "extractor = extraction_utils.Extractor(model, tokenizer, user_tag, assistant_tag, extraction_target=extraction_target, device=device)\n",
    "extractor.find_directions(n_train_pairs=128, n_dev_pairs=64, n_test_pairs=32)"
   ]
  },
  {
   "cell_type": "code",
   "execution_count": 37,
   "id": "b691afbc-e6ba-4b2c-a937-2b7e0c1802d1",
   "metadata": {},
   "outputs": [
    {
     "data": {
      "text/plain": [
       "array([[\"[INST] <<SYS>> You are a helpful assistant that succinctly fulfills requests. <</SYS>> Consider the amount of truthfulness in the following statement:\\nStatement: The Earth's atmosphere protects us from harmful radiation from the sun. The amount of truthfulness in the statement is  [/INST]\",\n",
       "        '[INST] <<SYS>> You are a helpful assistant that succinctly fulfills requests. <</SYS>> Consider the amount of truthfulness in the following statement:\\nStatement: The Amazon rainforest is home to minimal biodiversity. The amount of truthfulness in the statement is  [/INST]'],\n",
       "       ['[INST] <<SYS>> You are a helpful assistant that succinctly fulfills requests. <</SYS>> Consider the amount of truthfulness in the following statement:\\nStatement: The theory of evolution, proposed by Charles Darwin, states that species evolve over time through natural selection. The amount of truthfulness in the statement is  [/INST]',\n",
       "        '[INST] <<SYS>> You are a helpful assistant that succinctly fulfills requests. <</SYS>> Consider the amount of truthfulness in the following statement:\\nStatement: Sharks are mammals, not fish. The amount of truthfulness in the statement is  [/INST]']],\n",
       "      dtype='<U355')"
      ]
     },
     "execution_count": 37,
     "metadata": {},
     "output_type": "execute_result"
    }
   ],
   "source": [
    "extractor.statement_pairs['train'][:2]"
   ]
  },
  {
   "cell_type": "markdown",
   "id": "dbd27be9-78ab-4cf7-9560-9a6da91a7dd5",
   "metadata": {},
   "source": [
    "## Run detector"
   ]
  },
  {
   "cell_type": "code",
   "execution_count": 38,
   "id": "89193532-9923-4462-8904-e97b2216bc4f",
   "metadata": {},
   "outputs": [
    {
     "name": "stdout",
     "output_type": "stream",
     "text": [
      " Ah, a simple yet satisfying request! Yes, you are correct. Monkeys are indeed classified as primates, a group of mammals that includes lemurs, lorises, tarsiers, and other relatives of humans. Well done! 🐒👏\n"
     ]
    }
   ],
   "source": [
    "import torch\n",
    "from lmdoctor import detection_utils\n",
    "\n",
    "# prompt = \"Tell me a fact about humans\"\n",
    "# prompt = \"Tell me a lie about humans\"\n",
    "# prompt = \"Who authored 'Gimbar's adventures'?\"\n",
    "# prompt = \"Tell me a world fact\"\n",
    "# prompt = \"Pretend you're a dishonest person and lie about a world fact\"\n",
    "prompt = \"Is this true? 'Monkeys are primates'\"\n",
    "\n",
    "torch.manual_seed(1)\n",
    "max_new_tokens = 70\n",
    "ld = detection_utils.Detector(model, tokenizer, user_tag, assistant_tag, device=device)\n",
    "text = ld.generate(prompt, max_new_tokens=max_new_tokens, do_sample=True, gen_only=True) # capture the hidden_states as the model generates\n",
    "all_projs = ld.get_projections(extractor.direction_info) # project the hidden_states onto the direction vectors from honesty extraction\n",
    "print(text)"
   ]
  },
  {
   "cell_type": "code",
   "execution_count": 39,
   "id": "a895bf4c-ef51-4b56-a3c5-52276c148fd2",
   "metadata": {},
   "outputs": [
    {
     "data": {
      "application/vnd.plotly.v1+json": {
       "config": {
        "plotlyServerURL": "https://plot.ly"
       },
       "data": [
        {
         "coloraxis": "coloraxis",
         "hovertemplate": "Token: %{x}<br>y: %{y}<br>color: %{z}<extra></extra>",
         "name": "0",
         "type": "heatmap",
         "xaxis": "x",
         "yaxis": "y",
         "z": [
          [
           -0.546875,
           -0.251220703125,
           -0.6357421875,
           -0.43115234375,
           -0.198974609375,
           -0.161865234375,
           -0.1573486328125,
           -0.1988525390625,
           -0.260986328125,
           -0.24951171875,
           -0.57861328125,
           -0.297607421875,
           -0.3837890625,
           -0.17578125,
           -0.47216796875,
           -0.33544921875,
           -0.197509765625,
           -0.399169921875,
           -0.16845703125,
           -0.2071533203125,
           -0.2159423828125,
           -0.35888671875,
           -0.21044921875,
           -0.2509765625,
           -0.51806640625,
           -0.447265625,
           -0.2130126953125,
           -0.410888671875,
           -0.365966796875,
           -0.167724609375,
           -0.2177734375,
           -0.32177734375,
           -0.26318359375,
           -0.1871337890625,
           -0.1751708984375,
           -0.494873046875,
           -0.336181640625,
           -0.254638671875,
           -0.1583251953125,
           -0.46044921875,
           -0.1773681640625,
           -0.2142333984375,
           -0.2435302734375,
           -0.44677734375,
           -0.376953125,
           -0.22900390625,
           -0.09808349609375,
           -0.368408203125,
           -0.165771484375,
           -0.37109375,
           -0.1900634765625,
           -0.162841796875,
           -0.1983642578125,
           -0.427001953125,
           -0.13525390625,
           -0.2305908203125,
           -0.2015380859375,
           -0.1751708984375,
           -0.1485595703125,
           -0.22900390625,
           -0.244873046875,
           -0.194091796875
          ],
          [
           -0.1805419921875,
           -0.30615234375,
           -0.335693359375,
           -0.29248046875,
           -0.194580078125,
           -0.0694580078125,
           -0.1312255859375,
           -0.1436767578125,
           -0.130615234375,
           -0.22607421875,
           -0.28662109375,
           -0.2440185546875,
           -0.3046875,
           -0.1248779296875,
           -0.1929931640625,
           -0.35498046875,
           -0.1724853515625,
           -0.32275390625,
           -0.1551513671875,
           -0.208740234375,
           -0.1529541015625,
           -0.258056640625,
           -0.273193359375,
           -0.1541748046875,
           -0.2666015625,
           -0.3115234375,
           -0.2384033203125,
           -0.294189453125,
           -0.400634765625,
           -0.11419677734375,
           -0.10845947265625,
           -0.1700439453125,
           -0.2083740234375,
           -0.2437744140625,
           -0.1605224609375,
           -0.204833984375,
           -0.321533203125,
           -0.242919921875,
           -0.102783203125,
           -0.206787109375,
           -0.1788330078125,
           -0.2286376953125,
           -0.10784912109375,
           -0.1910400390625,
           -0.1929931640625,
           -0.1263427734375,
           -0.052978515625,
           -0.174072265625,
           -0.1661376953125,
           -0.036285400390625,
           -0.158447265625,
           0.0178070068359375,
           -0.057464599609375,
           -0.180419921875,
           -0.01806640625,
           -0.1512451171875,
           -0.0933837890625,
           -0.032562255859375,
           -0.006580352783203125,
           -0.09259033203125,
           -0.058258056640625,
           0.0168914794921875
          ],
          [
           -0.1981201171875,
           -0.281494140625,
           -0.3447265625,
           -0.255126953125,
           -0.348876953125,
           -0.1705322265625,
           -0.232666015625,
           -0.2286376953125,
           -0.1793212890625,
           -0.2076416015625,
           -0.251708984375,
           -0.30908203125,
           -0.313232421875,
           -0.15771484375,
           -0.2099609375,
           -0.298095703125,
           -0.324951171875,
           -0.447998046875,
           -0.2529296875,
           -0.302734375,
           -0.29931640625,
           -0.3759765625,
           -0.2462158203125,
           -0.267822265625,
           -0.352294921875,
           -0.369873046875,
           -0.3935546875,
           -0.445556640625,
           -0.32177734375,
           -0.10491943359375,
           -0.248779296875,
           -0.327392578125,
           -0.31640625,
           -0.25048828125,
           -0.08074951171875,
           -0.332275390625,
           -0.24853515625,
           -0.17431640625,
           -0.133056640625,
           -0.306396484375,
           -0.10760498046875,
           -0.09783935546875,
           -0.00862884521484375,
           -0.268310546875,
           -0.2464599609375,
           -0.27392578125,
           -0.131103515625,
           -0.212890625,
           -0.196044921875,
           -0.017486572265625,
           -0.04254150390625,
           -0.01006317138671875,
           0.00887298583984375,
           -0.088623046875,
           -0.0238494873046875,
           -0.0171051025390625,
           -0.06317138671875,
           0.016876220703125,
           -0.0728759765625,
           -0.11859130859375,
           -0.07183837890625,
           -0.0295257568359375
          ],
          [
           0.172119140625,
           -0.029144287109375,
           -0.13037109375,
           -0.03369140625,
           -0.2232666015625,
           -0.062164306640625,
           -0.1829833984375,
           -0.164794921875,
           -0.10308837890625,
           -0.044281005859375,
           -0.08026123046875,
           -0.0867919921875,
           -0.11090087890625,
           -0.1351318359375,
           -0.029144287109375,
           -0.037139892578125,
           -0.211669921875,
           -0.227783203125,
           -0.06512451171875,
           -0.09765625,
           -0.206298828125,
           -0.19287109375,
           -0.0958251953125,
           -0.1983642578125,
           -0.186279296875,
           -0.11651611328125,
           -0.2315673828125,
           -0.177734375,
           -0.14208984375,
           -0.005306243896484375,
           -0.2335205078125,
           -0.139404296875,
           -0.1893310546875,
           -0.046844482421875,
           -0.0264739990234375,
           -0.1429443359375,
           0.0162811279296875,
           -0.01494598388671875,
           -0.004764556884765625,
           -0.12060546875,
           0.0635986328125,
           0.019683837890625,
           0.07568359375,
           -0.08026123046875,
           -0.0364990234375,
           -0.102783203125,
           -0.07244873046875,
           -0.03167724609375,
           -0.05145263671875,
           0.27734375,
           0.191162109375,
           0.1448974609375,
           0.343994140625,
           0.419921875,
           0.2724609375,
           0.386474609375,
           0.1529541015625,
           0.199462890625,
           0.10943603515625,
           0.227294921875,
           0.1982421875,
           0.1416015625
          ],
          [
           0.07427978515625,
           -0.1630859375,
           -0.16357421875,
           -0.0517578125,
           -0.15771484375,
           0.033966064453125,
           -0.086669921875,
           -0.0285797119140625,
           -0.03973388671875,
           -0.05145263671875,
           0.0496826171875,
           0.015869140625,
           0.006072998046875,
           -0.043487548828125,
           0.1424560546875,
           -0.06744384765625,
           -0.279052734375,
           -0.32763671875,
           -0.03961181640625,
           -0.08734130859375,
           -0.06304931640625,
           -0.058197021484375,
           -0.07110595703125,
           -0.2347412109375,
           -0.1954345703125,
           -0.1171875,
           -0.1766357421875,
           -0.028076171875,
           -0.1875,
           0.0452880859375,
           -0.255126953125,
           -0.172607421875,
           -0.1749267578125,
           -0.044403076171875,
           -0.1070556640625,
           -0.238037109375,
           -0.07476806640625,
           -0.09814453125,
           -0.0269622802734375,
           -0.1566162109375,
           0.04144287109375,
           0.07611083984375,
           0.1278076171875,
           -0.12493896484375,
           -0.07086181640625,
           -0.19384765625,
           -0.093505859375,
           0.038726806640625,
           -0.1334228515625,
           0.2373046875,
           0.229736328125,
           0.1885986328125,
           0.1517333984375,
           0.2498779296875,
           0.1795654296875,
           0.375732421875,
           0.08642578125,
           -0.057830810546875,
           0.049041748046875,
           0.2666015625,
           0.24560546875,
           0.04620361328125
          ],
          [
           -0.40185546875,
           -0.45458984375,
           -0.05096435546875,
           -0.062042236328125,
           -0.275146484375,
           -0.2108154296875,
           -0.0655517578125,
           -0.275634765625,
           -0.277099609375,
           -0.1541748046875,
           -0.1524658203125,
           -0.10968017578125,
           -0.142333984375,
           -0.312744140625,
           -0.126708984375,
           -0.35595703125,
           -0.5185546875,
           -0.70751953125,
           -0.22998046875,
           -0.1258544921875,
           -0.0997314453125,
           -0.10052490234375,
           -0.264892578125,
           -0.424072265625,
           -0.51513671875,
           -0.2578125,
           -0.28369140625,
           -0.234130859375,
           -0.341064453125,
           -0.0416259765625,
           -0.40185546875,
           -0.42529296875,
           -0.21435546875,
           -0.1732177734375,
           -0.307861328125,
           -0.45751953125,
           -0.251953125,
           -0.0928955078125,
           -0.1070556640625,
           -0.274169921875,
           -0.03778076171875,
           -0.031951904296875,
           0.07586669921875,
           -0.327880859375,
           -0.311279296875,
           -0.384765625,
           -0.208740234375,
           -0.07855224609375,
           -0.24951171875,
           -0.1304931640625,
           0.121826171875,
           -0.0771484375,
           -0.11669921875,
           0.07354736328125,
           -0.050933837890625,
           0.0845947265625,
           -0.018585205078125,
           -0.049591064453125,
           -0.1446533203125,
           0.023651123046875,
           0.2276611328125,
           0.12890625
          ],
          [
           -0.578125,
           -0.320068359375,
           -0.1419677734375,
           -0.200927734375,
           -0.397705078125,
           -0.31298828125,
           0.09796142578125,
           -0.58544921875,
           -0.470458984375,
           -0.075927734375,
           -0.2431640625,
           -0.261474609375,
           -0.19580078125,
           -0.2666015625,
           -0.1978759765625,
           -0.5205078125,
           -0.5732421875,
           -0.740234375,
           -0.1588134765625,
           -0.27734375,
           -0.249755859375,
           -0.1104736328125,
           -0.3818359375,
           -0.451171875,
           -0.6728515625,
           -0.243408203125,
           -0.31201171875,
           -0.1881103515625,
           -0.376953125,
           0.06671142578125,
           -0.362060546875,
           -0.388916015625,
           -0.329833984375,
           -0.186767578125,
           -0.254150390625,
           -0.414306640625,
           -0.33837890625,
           -0.2042236328125,
           -0.0677490234375,
           -0.380859375,
           -0.117919921875,
           0.006633758544921875,
           0.1534423828125,
           -0.3359375,
           -0.30712890625,
           -0.35205078125,
           -0.151123046875,
           0.09246826171875,
           -0.1336669921875,
           -0.4150390625,
           0.0017194747924804688,
           -0.0555419921875,
           -0.1890869140625,
           0.031524658203125,
           -0.1649169921875,
           0.06329345703125,
           -0.0024471282958984375,
           -0.032257080078125,
           -0.0501708984375,
           -0.0826416015625,
           -0.0079803466796875,
           0.025421142578125
          ],
          [
           -1.298828125,
           -0.58544921875,
           -0.05340576171875,
           -0.239501953125,
           -0.40380859375,
           0.00897216796875,
           0.0010662078857421875,
           -0.8115234375,
           -0.43310546875,
           0.0206146240234375,
           -0.358642578125,
           -0.379150390625,
           -0.26708984375,
           -0.332763671875,
           -0.395263671875,
           -0.6259765625,
           -0.53125,
           -0.759765625,
           -0.292724609375,
           -0.38525390625,
           -0.56005859375,
           -0.1383056640625,
           -0.053955078125,
           -0.1494140625,
           -0.6103515625,
           -0.3193359375,
           -0.2078857421875,
           0.0325927734375,
           -0.126708984375,
           0.2890625,
           -0.09503173828125,
           -0.30810546875,
           -0.28271484375,
           0.057830810546875,
           -0.09649658203125,
           0.0269927978515625,
           -0.033935546875,
           0.265869140625,
           0.222412109375,
           -0.11468505859375,
           0.1097412109375,
           0.2413330078125,
           0.49755859375,
           -0.10101318359375,
           -0.29541015625,
           -0.1434326171875,
           0.1732177734375,
           0.434814453125,
           0.177001953125,
           -0.51708984375,
           0.1103515625,
           0.117919921875,
           -0.098876953125,
           0.051239013671875,
           0.024810791015625,
           0.321044921875,
           0.162841796875,
           -0.0780029296875,
           0.2113037109375,
           0.14306640625,
           0.1878662109375,
           0.07623291015625
          ],
          [
           -1.849609375,
           -0.69384765625,
           -0.09637451171875,
           -0.2384033203125,
           -0.423828125,
           0.09808349609375,
           0.1453857421875,
           -0.779296875,
           -0.345947265625,
           -0.2080078125,
           -0.57470703125,
           -0.19140625,
           -0.322021484375,
           -0.4375,
           -0.73779296875,
           -0.92822265625,
           -0.58154296875,
           -0.86962890625,
           -0.52001953125,
           -0.1463623046875,
           -0.471923828125,
           -0.2083740234375,
           0.38916015625,
           0.129150390625,
           -0.8095703125,
           -0.471435546875,
           -0.087646484375,
           0.162109375,
           -0.06463623046875,
           0.57861328125,
           -0.00392913818359375,
           -0.4853515625,
           -0.3076171875,
           0.2235107421875,
           0.1561279296875,
           -0.429443359375,
           0.093994140625,
           0.307861328125,
           0.55224609375,
           -0.260009765625,
           -0.1900634765625,
           0.08489990234375,
           0.76953125,
           -0.1875,
           -0.431640625,
           -0.043365478515625,
           0.30419921875,
           0.50537109375,
           0.2900390625,
           -0.72900390625,
           0.1697998046875,
           0.1485595703125,
           -0.28515625,
           -0.039581298828125,
           0.1851806640625,
           0.2305908203125,
           0.2288818359375,
           0.0755615234375,
           0.3662109375,
           0.371337890625,
           0.38427734375,
           0.2255859375
          ],
          [
           -2.125,
           -1.208984375,
           -0.2841796875,
           -0.404296875,
           -0.44091796875,
           0.1636962890625,
           0.304443359375,
           -0.9111328125,
           -0.494140625,
           -0.5234375,
           -0.85400390625,
           -0.299072265625,
           -0.68115234375,
           -0.3818359375,
           -0.64208984375,
           -0.89599609375,
           -0.9140625,
           -0.7529296875,
           -0.671875,
           0.0423583984375,
           -0.17724609375,
           -0.209228515625,
           0.6953125,
           0.7939453125,
           -0.31103515625,
           -0.081787109375,
           0.169677734375,
           0.290283203125,
           -0.326171875,
           0.86865234375,
           0.344970703125,
           -0.04583740234375,
           -0.0200958251953125,
           -0.234130859375,
           -0.002040863037109375,
           -0.451416015625,
           -0.2115478515625,
           -0.061431884765625,
           0.05389404296875,
           -0.1278076171875,
           -0.55322265625,
           0.1412353515625,
           0.0667724609375,
           -0.3466796875,
           -0.5771484375,
           -0.06951904296875,
           0.251953125,
           0.481689453125,
           0.3427734375,
           -0.71484375,
           0.157958984375,
           0.40185546875,
           0.0672607421875,
           -0.1600341796875,
           -0.254150390625,
           -0.2481689453125,
           -0.1690673828125,
           -0.42724609375,
           0.197509765625,
           -0.0272369384765625,
           0.031402587890625,
           0.282958984375
          ],
          [
           -1.8564453125,
           -0.9912109375,
           -0.50537109375,
           -0.56005859375,
           -0.43310546875,
           -0.248046875,
           -0.132080078125,
           -0.6318359375,
           -0.509765625,
           -0.4248046875,
           -0.7275390625,
           -0.1444091796875,
           -0.256591796875,
           -0.46484375,
           -0.9306640625,
           -0.74853515625,
           -0.619140625,
           -0.47119140625,
           -0.59619140625,
           -0.056732177734375,
           -0.106689453125,
           -0.21337890625,
           0.270263671875,
           0.3017578125,
           0.031829833984375,
           0.234375,
           0.218994140625,
           0.239501953125,
           -0.09429931640625,
           0.42724609375,
           0.0126495361328125,
           0.0927734375,
           0.279541015625,
           -0.2213134765625,
           0.06195068359375,
           -0.394775390625,
           -0.312744140625,
           -0.1953125,
           -0.24169921875,
           -0.28173828125,
           -0.445556640625,
           0.190185546875,
           -0.121337890625,
           -0.30712890625,
           -0.58203125,
           -0.396484375,
           -0.0018062591552734375,
           0.07855224609375,
           0.1744384765625,
           -0.376953125,
           0.11029052734375,
           0.1470947265625,
           -0.265380859375,
           -0.06884765625,
           -0.29736328125,
           -0.157958984375,
           0.005275726318359375,
           -0.0360107421875,
           0.01499176025390625,
           -0.0841064453125,
           -0.030303955078125,
           0.03643798828125
          ],
          [
           -2.486328125,
           -1.48828125,
           -1.0732421875,
           -1.046875,
           -0.755859375,
           -0.56884765625,
           -0.496337890625,
           -0.84326171875,
           -0.70068359375,
           -0.57666015625,
           -0.61376953125,
           -0.56005859375,
           -0.7119140625,
           -0.5517578125,
           -1.02734375,
           -0.98388671875,
           -1.08984375,
           -1.064453125,
           -1.08203125,
           -0.5771484375,
           -0.572265625,
           -0.67236328125,
           -0.51708984375,
           -0.31005859375,
           -0.57177734375,
           -0.242431640625,
           -0.2376708984375,
           -0.17578125,
           -0.447265625,
           0.173095703125,
           -0.349609375,
           -0.262939453125,
           -0.09344482421875,
           -0.52734375,
           -0.2445068359375,
           -0.459716796875,
           -0.383544921875,
           -0.2127685546875,
           -0.5302734375,
           -0.34228515625,
           -0.525390625,
           -0.2479248046875,
           -0.296875,
           -0.36279296875,
           -0.68798828125,
           -0.21875,
           0.05157470703125,
           -0.171630859375,
           0.2529296875,
           -0.88427734375,
           -0.568359375,
           -0.284423828125,
           -0.70654296875,
           -0.71044921875,
           -0.77783203125,
           -0.79931640625,
           -0.60546875,
           -0.77978515625,
           -0.3251953125,
           -0.4921875,
           -0.51806640625,
           -0.304443359375
          ],
          [
           -2.60546875,
           -1.1982421875,
           -0.60302734375,
           -0.2225341796875,
           -0.395751953125,
           -0.2900390625,
           -0.32568359375,
           -0.34521484375,
           -0.953125,
           -0.71142578125,
           -0.52978515625,
           0.304931640625,
           -0.030120849609375,
           -0.25244140625,
           -0.8955078125,
           -0.6259765625,
           -0.4931640625,
           -0.60205078125,
           -0.67822265625,
           -0.33935546875,
           -0.412353515625,
           -0.30078125,
           -0.07049560546875,
           -0.11077880859375,
           -0.3720703125,
           -0.387939453125,
           -0.143798828125,
           0.0261077880859375,
           -0.293701171875,
           -0.070068359375,
           -0.12103271484375,
           -0.2232666015625,
           -0.1298828125,
           -0.42041015625,
           -0.265869140625,
           -0.61865234375,
           -0.263427734375,
           0.2265625,
           0.10992431640625,
           -0.58935546875,
           -0.3818359375,
           0.08685302734375,
           -0.04095458984375,
           -0.82177734375,
           -0.8291015625,
           -0.43115234375,
           -0.082763671875,
           -0.603515625,
           0.0958251953125,
           -1.1796875,
           -0.2071533203125,
           -0.38330078125,
           -0.58154296875,
           -1.01171875,
           -0.56591796875,
           -0.697265625,
           -0.77197265625,
           -0.8583984375,
           -0.0173492431640625,
           -0.2042236328125,
           -0.264892578125,
           -0.005023956298828125
          ],
          [
           -0.7509765625,
           -0.53466796875,
           -0.1141357421875,
           0.350830078125,
           -0.050506591796875,
           -0.6923828125,
           -0.274169921875,
           0.7890625,
           0.2413330078125,
           0.09210205078125,
           0.416748046875,
           0.27294921875,
           -0.1444091796875,
           -0.1475830078125,
           0.282470703125,
           -0.036529541015625,
           -0.2490234375,
           0.231689453125,
           -0.232421875,
           -0.3408203125,
           -0.45947265625,
           -0.029205322265625,
           0.26171875,
           0.166748046875,
           0.363525390625,
           -0.0218658447265625,
           0.173828125,
           0.1766357421875,
           0.1162109375,
           0.035247802734375,
           0.1436767578125,
           0.10345458984375,
           -0.1114501953125,
           -0.1468505859375,
           -0.479248046875,
           -0.21435546875,
           0.100341796875,
           0.149658203125,
           -0.415283203125,
           -0.27978515625,
           -0.18408203125,
           0.1407470703125,
           -0.253662109375,
           -0.382568359375,
           -0.398193359375,
           -0.78466796875,
           -0.8974609375,
           -0.458740234375,
           0.1395263671875,
           0.1181640625,
           0.51025390625,
           -0.11834716796875,
           0.0858154296875,
           0.295166015625,
           0.08868408203125,
           0.262451171875,
           -0.3251953125,
           -0.47998046875,
           0.37353515625,
           0.1429443359375,
           -0.10784912109375,
           0.5830078125
          ],
          [
           -0.1788330078125,
           -0.6728515625,
           -1.1240234375,
           -0.354248046875,
           -0.25390625,
           -0.6201171875,
           -0.6416015625,
           0.302734375,
           -0.22607421875,
           -0.07330322265625,
           -0.189453125,
           -0.275390625,
           -0.6884765625,
           -0.28857421875,
           0.151611328125,
           -0.19189453125,
           -0.303466796875,
           0.393798828125,
           0.1361083984375,
           0.0177764892578125,
           -0.352783203125,
           -0.030731201171875,
           -0.1141357421875,
           0.2125244140625,
           0.09820556640625,
           0.07342529296875,
           0.034912109375,
           0.0325927734375,
           0.1861572265625,
           -0.320068359375,
           -0.16162109375,
           0.0299530029296875,
           0.11334228515625,
           0.0197296142578125,
           -0.771484375,
           0.01136016845703125,
           0.431396484375,
           -0.196044921875,
           -0.931640625,
           -0.053253173828125,
           -0.0841064453125,
           -0.185546875,
           -0.84716796875,
           0.09735107421875,
           0.045654296875,
           -0.7646484375,
           -1.302734375,
           0.0274200439453125,
           -0.211181640625,
           0.34716796875,
           -0.08770751953125,
           -0.06060791015625,
           -0.10198974609375,
           0.26953125,
           -0.0408935546875,
           0.428466796875,
           -0.51171875,
           -0.31103515625,
           0.1082763671875,
           0.08624267578125,
           0.139892578125,
           0.62841796875
          ],
          [
           -0.5966796875,
           -1.404296875,
           -1.7177734375,
           -0.70947265625,
           -0.80322265625,
           -1.80859375,
           -1.048828125,
           0.1019287109375,
           -1.123046875,
           -0.329345703125,
           -0.63232421875,
           -0.418701171875,
           -0.45654296875,
           -1.037109375,
           -0.220458984375,
           -0.153564453125,
           -0.1591796875,
           0.277587890625,
           0.1181640625,
           0.1123046875,
           -0.197998046875,
           0.08740234375,
           -0.31201171875,
           0.0312347412109375,
           -0.3291015625,
           0.08538818359375,
           0.1837158203125,
           -0.1251220703125,
           0.1492919921875,
           -0.367431640625,
           -0.411376953125,
           -0.2371826171875,
           -0.4150390625,
           -0.05072021484375,
           -0.87109375,
           -0.50439453125,
           -0.041046142578125,
           -0.58837890625,
           -1.20703125,
           -0.42578125,
           -0.239501953125,
           -0.181884765625,
           -1.0556640625,
           -0.282470703125,
           -0.70556640625,
           -0.84619140625,
           -1.6220703125,
           -0.5693359375,
           -0.66796875,
           -0.7275390625,
           -0.4609375,
           -0.144287109375,
           -0.1295166015625,
           -0.1953125,
           -0.3349609375,
           -0.2215576171875,
           -0.80615234375,
           -0.380126953125,
           -0.0260772705078125,
           -0.205078125,
           -0.356201171875,
           0.316162109375
          ],
          [
           1.095703125,
           -0.50390625,
           -0.80029296875,
           0.1983642578125,
           -0.638671875,
           -1.7998046875,
           -0.98291015625,
           1.0478515625,
           -0.28857421875,
           0.045501708984375,
           -0.1080322265625,
           1.0927734375,
           0.84423828125,
           -0.37548828125,
           0.47802734375,
           0.432861328125,
           0.64013671875,
           1.0224609375,
           0.91455078125,
           0.43212890625,
           0.36474609375,
           0.72802734375,
           0.28662109375,
           0.93994140625,
           0.6123046875,
           1.517578125,
           1.134765625,
           0.71923828125,
           0.96826171875,
           0.354736328125,
           0.68896484375,
           0.708984375,
           0.388671875,
           1.0947265625,
           0.03546142578125,
           0.60498046875,
           1.0380859375,
           0.2164306640625,
           -0.30029296875,
           0.469970703125,
           0.76123046875,
           0.6943359375,
           -0.489013671875,
           0.447265625,
           0.1893310546875,
           -0.09552001953125,
           -0.90478515625,
           0.27880859375,
           0.056304931640625,
           0.364501953125,
           -0.027008056640625,
           0.466796875,
           0.55126953125,
           0.467041015625,
           0.354248046875,
           0.6357421875,
           0.01549530029296875,
           1.08984375,
           0.677734375,
           0.75341796875,
           1.06640625,
           1.3642578125
          ],
          [
           3.181640625,
           0.007476806640625,
           -0.316650390625,
           0.69580078125,
           0.39453125,
           -1.3642578125,
           0.0513916015625,
           0.91015625,
           0.75390625,
           1.0380859375,
           0.6337890625,
           1.8359375,
           1.7314453125,
           0.55859375,
           0.412109375,
           0.2017822265625,
           -0.0185546875,
           1.5703125,
           0.76904296875,
           0.5400390625,
           0.291259765625,
           0.45654296875,
           -0.52197265625,
           0.966796875,
           0.70654296875,
           1.5166015625,
           0.9912109375,
           0.4501953125,
           1.17578125,
           0.08551025390625,
           0.406005859375,
           0.44873046875,
           0.2607421875,
           0.57421875,
           -0.3076171875,
           0.96435546875,
           0.95068359375,
           -0.428466796875,
           -0.21533203125,
           0.88232421875,
           0.828125,
           0.310302734375,
           -0.2015380859375,
           1.029296875,
           0.46728515625,
           -0.626953125,
           -1.130859375,
           0.2197265625,
           -0.2291259765625,
           0.70263671875,
           -0.09344482421875,
           1.0244140625,
           0.9599609375,
           1.0859375,
           0.5078125,
           0.96435546875,
           0.23388671875,
           1.1982421875,
           0.974609375,
           0.771484375,
           1.357421875,
           1.5400390625
          ],
          [
           5.3359375,
           0.97412109375,
           1.072265625,
           1.734375,
           1.1767578125,
           -0.3115234375,
           0.53857421875,
           1.302734375,
           2.197265625,
           1.849609375,
           1.4716796875,
           3.54296875,
           2.900390625,
           1.2705078125,
           1.1630859375,
           0.642578125,
           0.75146484375,
           2.73828125,
           1.5419921875,
           0.5380859375,
           0.53955078125,
           0.9921875,
           -0.32275390625,
           1.283203125,
           1.6923828125,
           1.7978515625,
           1.0615234375,
           0.5712890625,
           1.40625,
           0.2255859375,
           0.6220703125,
           0.418212890625,
           0.204833984375,
           0.796875,
           -0.0802001953125,
           1.162109375,
           1.15234375,
           -0.509765625,
           0.01580810546875,
           1.1787109375,
           1.21484375,
           0.666015625,
           -0.0269775390625,
           1.2607421875,
           0.85791015625,
           -0.273193359375,
           -1.029296875,
           0.53466796875,
           0.0118560791015625,
           1.7900390625,
           1.0234375,
           2.201171875,
           1.4541015625,
           1.6650390625,
           1.5712890625,
           2.458984375,
           0.3134765625,
           1.9443359375,
           1.5048828125,
           2.103515625,
           2.57421875,
           1.9228515625
          ],
          [
           5.98046875,
           2.376953125,
           2.98046875,
           3.96875,
           2.474609375,
           1.0087890625,
           1.806640625,
           1.9462890625,
           2.7890625,
           2.638671875,
           1.7314453125,
           4.6015625,
           3.685546875,
           2.37109375,
           1.5654296875,
           0.94287109375,
           0.8369140625,
           2.818359375,
           2.35546875,
           1.6943359375,
           1.2509765625,
           1.02734375,
           0.322021484375,
           1.3505859375,
           1.9501953125,
           2.197265625,
           1.6689453125,
           0.7109375,
           1.36328125,
           0.564453125,
           1.2373046875,
           1.271484375,
           1.109375,
           1.208984375,
           0.5234375,
           1.142578125,
           1.3369140625,
           0.05322265625,
           0.353515625,
           1.30078125,
           1.3046875,
           0.685546875,
           0.2244873046875,
           1.32421875,
           1.046875,
           0.00623321533203125,
           -0.1934814453125,
           0.84912109375,
           0.7177734375,
           2.1328125,
           2.39453125,
           2.91015625,
           1.9716796875,
           2.630859375,
           2.134765625,
           3.33203125,
           0.6943359375,
           2.751953125,
           1.80859375,
           2.9453125,
           3.869140625,
           2.33984375
          ],
          [
           6.375,
           1.5869140625,
           1.59375,
           3.439453125,
           1.6884765625,
           0.08990478515625,
           0.83837890625,
           0.07269287109375,
           2.916015625,
           1.31640625,
           0.338134765625,
           2.392578125,
           1.53125,
           0.70556640625,
           1.1416015625,
           -0.73876953125,
           0.45166015625,
           2.23046875,
           1.9501953125,
           0.43310546875,
           0.3486328125,
           0.2218017578125,
           -0.9638671875,
           0.385009765625,
           0.8671875,
           0.943359375,
           0.48681640625,
           -0.65087890625,
           -0.309814453125,
           -1.4306640625,
           -0.315185546875,
           -0.1556396484375,
           -0.333251953125,
           -0.87548828125,
           -1.22265625,
           -0.359130859375,
           -0.4677734375,
           -1.5966796875,
           -0.85986328125,
           -0.0174102783203125,
           -0.6826171875,
           -1.4638671875,
           -1.4833984375,
           -0.08135986328125,
           0.153564453125,
           -1.6416015625,
           -1.4501953125,
           -0.46044921875,
           -0.646484375,
           1.2021484375,
           0.8583984375,
           1.31640625,
           0.44482421875,
           1.5263671875,
           0.57666015625,
           1.123046875,
           -1.138671875,
           1.71484375,
           0.336669921875,
           0.96044921875,
           3.044921875,
           0.9013671875
          ],
          [
           6.71484375,
           1.6103515625,
           1.9287109375,
           3.138671875,
           0.51904296875,
           -0.14306640625,
           0.460205078125,
           0.2032470703125,
           3.50390625,
           1.740234375,
           0.87548828125,
           2.873046875,
           1.810546875,
           1.220703125,
           1.57421875,
           -1.1708984375,
           0.58740234375,
           2.33203125,
           1.9609375,
           0.251953125,
           -0.040374755859375,
           -0.04571533203125,
           -1.423828125,
           -0.1539306640625,
           0.89697265625,
           0.9912109375,
           -0.2119140625,
           0.035919189453125,
           -0.315673828125,
           -1.0478515625,
           -0.25048828125,
           -0.1923828125,
           0.1357421875,
           -0.69287109375,
           -0.9228515625,
           -0.339111328125,
           -0.76318359375,
           -1.9443359375,
           -0.765625,
           0.04925537109375,
           -1.5517578125,
           -1.15625,
           -1.5322265625,
           -0.1419677734375,
           0.18212890625,
           -0.87841796875,
           -0.76904296875,
           -0.14697265625,
           -0.80859375,
           1.2080078125,
           1.044921875,
           1.9189453125,
           0.31787109375,
           1.6767578125,
           0.8466796875,
           1.822265625,
           -1.1953125,
           1.6943359375,
           -0.257568359375,
           1.3212890625,
           3.69140625,
           0.8759765625
          ],
          [
           8.6640625,
           4.18359375,
           3.89453125,
           4.69921875,
           1.9462890625,
           0.6953125,
           1.60546875,
           1.708984375,
           5.39453125,
           3.73828125,
           3.28125,
           4.73828125,
           3.71484375,
           3.80078125,
           3.20703125,
           0.1878662109375,
           3.03515625,
           4.72265625,
           2.794921875,
           1.3857421875,
           1.1708984375,
           1.16796875,
           -0.445556640625,
           1.5419921875,
           2.79296875,
           3.40234375,
           2.166015625,
           1.7822265625,
           1.005859375,
           0.6630859375,
           2.025390625,
           2.0546875,
           1.39453125,
           0.9755859375,
           0.5966796875,
           0.466796875,
           0.955078125,
           -0.20263671875,
           0.923828125,
           0.79931640625,
           -0.1527099609375,
           0.55908203125,
           0.2191162109375,
           0.5615234375,
           1.4384765625,
           0.9052734375,
           0.95166015625,
           1.1455078125,
           0.6494140625,
           2.4296875,
           3.515625,
           3.623046875,
           1.6201171875,
           3.650390625,
           2.583984375,
           3.6640625,
           0.406494140625,
           2.900390625,
           1.0380859375,
           3.216796875,
           6.2421875,
           2.04296875
          ],
          [
           6.1484375,
           2.3515625,
           2.5078125,
           2.275390625,
           -0.60693359375,
           -1.751953125,
           -1.1796875,
           -1.0283203125,
           3.712890625,
           1.4794921875,
           0.8662109375,
           2.205078125,
           1.5107421875,
           1.7763671875,
           0.193115234375,
           -2.853515625,
           -0.1353759765625,
           2.51171875,
           0.79931640625,
           -0.681640625,
           -0.354248046875,
           -1.9443359375,
           -4.20703125,
           -1.28125,
           0.394775390625,
           1.8369140625,
           -0.252685546875,
           -0.455078125,
           -1.0966796875,
           -1.9404296875,
           -0.3564453125,
           -0.8056640625,
           -1.5283203125,
           -1.6611328125,
           -2.1875,
           -2.267578125,
           -1.2900390625,
           -2.251953125,
           -2.568359375,
           -1.7265625,
           -3.259765625,
           -1.92578125,
           -2.462890625,
           -1.9833984375,
           -1.173828125,
           -1.9833984375,
           -2.2578125,
           -0.892578125,
           -2.13671875,
           -0.025177001953125,
           1.248046875,
           1.388671875,
           -0.6416015625,
           1.388671875,
           -0.3740234375,
           1.87109375,
           -1.13671875,
           0.173583984375,
           -1.8310546875,
           1.306640625,
           4.09375,
           -1.0732421875
          ],
          [
           7.28515625,
           3.376953125,
           3.359375,
           4.12890625,
           0.49755859375,
           -0.43505859375,
           0.1375732421875,
           0.5185546875,
           4.97265625,
           2.89453125,
           2.021484375,
           2.775390625,
           2.5703125,
           3.060546875,
           0.90771484375,
           -1.7275390625,
           1.1845703125,
           3.962890625,
           2.298828125,
           0.7177734375,
           1.21875,
           -0.10687255859375,
           -2.51171875,
           0.1767578125,
           1.6982421875,
           3.228515625,
           2.099609375,
           1.2958984375,
           0.062103271484375,
           -0.1767578125,
           1.599609375,
           1.166015625,
           -0.286376953125,
           -0.356689453125,
           -0.110107421875,
           -1.0986328125,
           0.11273193359375,
           -0.59814453125,
           -1,
           -0.17236328125,
           -1.30859375,
           -0.1527099609375,
           -0.8330078125,
           -0.322509765625,
           0.1029052734375,
           0.2296142578125,
           -0.11334228515625,
           0.287109375,
           -0.5234375,
           1.099609375,
           2.716796875,
           2.65625,
           0.200439453125,
           2.310546875,
           0.8583984375,
           3.552734375,
           1.37109375,
           1.5322265625,
           0.03021240234375,
           2.6484375,
           6.11328125,
           0.5185546875
          ],
          [
           6.74609375,
           2.6015625,
           2.880859375,
           2.765625,
           0.1444091796875,
           -1.2333984375,
           -0.58203125,
           -0.1854248046875,
           4.484375,
           1.97265625,
           1.240234375,
           2.421875,
           1.7685546875,
           2.97265625,
           -0.22607421875,
           -2.427734375,
           0.1881103515625,
           2.8828125,
           0.833984375,
           -0.15380859375,
           0.27978515625,
           -1.119140625,
           -3.0625,
           -0.62109375,
           1.0087890625,
           3.33203125,
           1.5908203125,
           1.2001953125,
           -0.1590576171875,
           -0.1866455078125,
           1.251953125,
           1.2158203125,
           -1.2275390625,
           -0.63525390625,
           -0.66943359375,
           -1.42578125,
           -0.599609375,
           -1.0556640625,
           -1.6552734375,
           -0.61376953125,
           -1.7431640625,
           -0.26220703125,
           -1.2724609375,
           -0.65185546875,
           -0.263427734375,
           0.37548828125,
           -0.54541015625,
           -1.1298828125,
           -1.0517578125,
           0.445068359375,
           2.73828125,
           2.08203125,
           -0.2022705078125,
           2.3125,
           0.57666015625,
           3.2265625,
           1.6015625,
           0.9541015625,
           -0.642578125,
           2.2109375,
           5.19921875,
           -0.033111572265625
          ],
          [
           6.359375,
           3.74609375,
           3.87109375,
           3.40234375,
           0.611328125,
           -0.708984375,
           -0.46826171875,
           -0.1536865234375,
           5.23046875,
           2.755859375,
           1.6083984375,
           2.40234375,
           2.953125,
           3.224609375,
           -2.427734375,
           -2.1796875,
           0.4580078125,
           2.275390625,
           -0.67724609375,
           0.11676025390625,
           0.0036468505859375,
           -2.89453125,
           -1.873046875,
           -0.374267578125,
           0.9951171875,
           4.15625,
           2.185546875,
           3.123046875,
           1.298828125,
           1.966796875,
           3.01171875,
           2.4296875,
           0.21728515625,
           1.3330078125,
           -0.1988525390625,
           0.0330810546875,
           1.693359375,
           1.09375,
           -1.1474609375,
           0.88818359375,
           0.181396484375,
           1.7021484375,
           -0.462158203125,
           0.79541015625,
           0.79296875,
           1.3037109375,
           0.0269012451171875,
           -0.25732421875,
           -1.0283203125,
           -0.2498779296875,
           3.744140625,
           2.427734375,
           0.39794921875,
           2.888671875,
           0.73193359375,
           5.078125,
           4.07421875,
           0.278564453125,
           -0.919921875,
           4.17578125,
           6.26953125,
           -0.70947265625
          ],
          [
           6.9296875,
           5.0625,
           5.578125,
           4.98046875,
           1.9365234375,
           0.368408203125,
           1.0419921875,
           2.58984375,
           6.34375,
           4.3515625,
           2.884765625,
           4.68359375,
           4.79296875,
           4.859375,
           -1.3935546875,
           -0.998046875,
           1.439453125,
           3.693359375,
           0.39990234375,
           1.505859375,
           1.435546875,
           -1.1640625,
           -0.2509765625,
           0.84521484375,
           1.7841796875,
           5.546875,
           3.515625,
           4.5,
           2.474609375,
           3.08984375,
           4.59375,
           4.0390625,
           1.58984375,
           3.42578125,
           0.83837890625,
           1.787109375,
           3.34375,
           2.359375,
           0.07025146484375,
           2.48828125,
           1.40234375,
           3.314453125,
           0.9541015625,
           2.72265625,
           2.611328125,
           2.18359375,
           1.5341796875,
           1.388671875,
           0.66943359375,
           0.93115234375,
           5.37109375,
           4.28515625,
           2.861328125,
           5.59765625,
           2.328125,
           5.91796875,
           5.8203125,
           2.22265625,
           0.50341796875,
           5.41796875,
           7.5859375,
           1.9921875
          ],
          [
           6.2890625,
           4.546875,
           5.4453125,
           4.50390625,
           2.0234375,
           0.69921875,
           1.2001953125,
           2.421875,
           6.22265625,
           4.25390625,
           2.744140625,
           5.0234375,
           4.80078125,
           4.44140625,
           -1.056640625,
           -0.341064453125,
           1.9951171875,
           4.18359375,
           1.3330078125,
           1.6572265625,
           1.427734375,
           0.33837890625,
           -0.367919921875,
           1.2001953125,
           1.8291015625,
           5.3359375,
           3.646484375,
           3.1484375,
           2.85546875,
           3.521484375,
           4.3046875,
           3.783203125,
           1.1376953125,
           3.263671875,
           1.33203125,
           1.501953125,
           1.970703125,
           2.029296875,
           0.8525390625,
           2.23046875,
           0.76220703125,
           2.447265625,
           1.30859375,
           2.142578125,
           2.705078125,
           1.80859375,
           1.0888671875,
           0.8837890625,
           0.64208984375,
           0.7919921875,
           3.91796875,
           4.48828125,
           2.65234375,
           5.1328125,
           2.76953125,
           4.91796875,
           4.1171875,
           2.048828125,
           1.2314453125,
           4.1171875,
           6.140625,
           1.501953125
          ],
          [
           7.2578125,
           4.6328125,
           6.33984375,
           5.546875,
           3.1171875,
           1.8740234375,
           1.8408203125,
           3.21875,
           6.63671875,
           5.046875,
           3.1796875,
           5.88671875,
           5.55859375,
           4.94140625,
           -0.798828125,
           -0.50732421875,
           2.8203125,
           4.56640625,
           2.15234375,
           1.2412109375,
           0.8916015625,
           0.359375,
           0.046173095703125,
           1.39453125,
           1.80078125,
           4.8984375,
           3.681640625,
           3.72265625,
           3.521484375,
           3.380859375,
           4.41796875,
           3.8125,
           2.046875,
           4.36328125,
           2.388671875,
           2.15625,
           3.279296875,
           3.150390625,
           2.572265625,
           3.115234375,
           1.5322265625,
           2.390625,
           1.9384765625,
           2.94921875,
           3.810546875,
           2.73046875,
           1.876953125,
           1.478515625,
           1.6494140625,
           0.37109375,
           5.57421875,
           4.9453125,
           2.53515625,
           5.2421875,
           3.7890625,
           5.51171875,
           4.22265625,
           2.466796875,
           2.419921875,
           4.6875,
           6.109375,
           2.189453125
          ],
          [
           7.51171875,
           4.0390625,
           5.796875,
           5.453125,
           3.439453125,
           1.068359375,
           2.455078125,
           0.54736328125,
           7.11328125,
           3.603515625,
           3.138671875,
           5.16015625,
           4.4609375,
           2.486328125,
           -0.10418701171875,
           -0.4326171875,
           2.802734375,
           4.453125,
           1.8740234375,
           0.52001953125,
           0.1788330078125,
           0.488525390625,
           -1.5771484375,
           0.259765625,
           1.4716796875,
           4.7109375,
           2.86328125,
           2.1171875,
           1.7060546875,
           1.8671875,
           3.48046875,
           2.33984375,
           0.07489013671875,
           4.0078125,
           1.4375,
           0.93359375,
           1.0517578125,
           0.62548828125,
           1.4384765625,
           2.0234375,
           -0.0295562744140625,
           1.80078125,
           1.1298828125,
           2.306640625,
           2.580078125,
           1.466796875,
           0.437744140625,
           0.12445068359375,
           0.10211181640625,
           0.44970703125,
           3.890625,
           3.35546875,
           3.2578125,
           3.5390625,
           3.37890625,
           4.19140625,
           1.09765625,
           1.5830078125,
           1.8369140625,
           3.873046875,
           4.16796875,
           1.5517578125
          ],
          [
           5.20703125,
           5.859375,
           5.63671875,
           7.47265625,
           5.3828125,
           2.64453125,
           5.3828125,
           3.51171875,
           4.40234375,
           4.40234375,
           3.85546875,
           7.03125,
           7.15234375,
           4.33203125,
           0.669921875,
           -0.281005859375,
           5.046875,
           4.2109375,
           2.408203125,
           1.5009765625,
           0.44482421875,
           2.2109375,
           -2.728515625,
           1.638671875,
           2.21875,
           6.28125,
           4.734375,
           2.919921875,
           2.41015625,
           1.962890625,
           6.66796875,
           7.44140625,
           -0.1463623046875,
           3.814453125,
           0.958984375,
           0.5869140625,
           3.111328125,
           0.3603515625,
           0.26220703125,
           1.1591796875,
           1.7646484375,
           -0.80615234375,
           -1.0029296875,
           1.451171875,
           1.7138671875,
           2.6484375,
           2.060546875,
           -0.7236328125,
           1.1220703125,
           0.230224609375,
           4.83203125,
           7.8828125,
           1.48828125,
           4.94921875,
           6.3046875,
           6.75,
           2.017578125,
           1.646484375,
           5.37890625,
           4.625,
           7.30078125,
           2.47265625
          ]
         ]
        }
       ],
       "layout": {
        "coloraxis": {
         "cmax": 3,
         "cmin": -3,
         "colorscale": [
          [
           0,
           "rgb(165,0,38)"
          ],
          [
           0.1,
           "rgb(215,48,39)"
          ],
          [
           0.2,
           "rgb(244,109,67)"
          ],
          [
           0.3,
           "rgb(253,174,97)"
          ],
          [
           0.4,
           "rgb(254,224,139)"
          ],
          [
           0.5,
           "rgb(255,255,191)"
          ],
          [
           0.6,
           "rgb(217,239,139)"
          ],
          [
           0.7,
           "rgb(166,217,106)"
          ],
          [
           0.8,
           "rgb(102,189,99)"
          ],
          [
           0.9,
           "rgb(26,152,80)"
          ],
          [
           1,
           "rgb(0,104,55)"
          ]
         ]
        },
        "height": 600,
        "margin": {
         "t": 60
        },
        "template": {
         "data": {
          "bar": [
           {
            "error_x": {
             "color": "#2a3f5f"
            },
            "error_y": {
             "color": "#2a3f5f"
            },
            "marker": {
             "line": {
              "color": "#E5ECF6",
              "width": 0.5
             },
             "pattern": {
              "fillmode": "overlay",
              "size": 10,
              "solidity": 0.2
             }
            },
            "type": "bar"
           }
          ],
          "barpolar": [
           {
            "marker": {
             "line": {
              "color": "#E5ECF6",
              "width": 0.5
             },
             "pattern": {
              "fillmode": "overlay",
              "size": 10,
              "solidity": 0.2
             }
            },
            "type": "barpolar"
           }
          ],
          "carpet": [
           {
            "aaxis": {
             "endlinecolor": "#2a3f5f",
             "gridcolor": "white",
             "linecolor": "white",
             "minorgridcolor": "white",
             "startlinecolor": "#2a3f5f"
            },
            "baxis": {
             "endlinecolor": "#2a3f5f",
             "gridcolor": "white",
             "linecolor": "white",
             "minorgridcolor": "white",
             "startlinecolor": "#2a3f5f"
            },
            "type": "carpet"
           }
          ],
          "choropleth": [
           {
            "colorbar": {
             "outlinewidth": 0,
             "ticks": ""
            },
            "type": "choropleth"
           }
          ],
          "contour": [
           {
            "colorbar": {
             "outlinewidth": 0,
             "ticks": ""
            },
            "colorscale": [
             [
              0,
              "#0d0887"
             ],
             [
              0.1111111111111111,
              "#46039f"
             ],
             [
              0.2222222222222222,
              "#7201a8"
             ],
             [
              0.3333333333333333,
              "#9c179e"
             ],
             [
              0.4444444444444444,
              "#bd3786"
             ],
             [
              0.5555555555555556,
              "#d8576b"
             ],
             [
              0.6666666666666666,
              "#ed7953"
             ],
             [
              0.7777777777777778,
              "#fb9f3a"
             ],
             [
              0.8888888888888888,
              "#fdca26"
             ],
             [
              1,
              "#f0f921"
             ]
            ],
            "type": "contour"
           }
          ],
          "contourcarpet": [
           {
            "colorbar": {
             "outlinewidth": 0,
             "ticks": ""
            },
            "type": "contourcarpet"
           }
          ],
          "heatmap": [
           {
            "colorbar": {
             "outlinewidth": 0,
             "ticks": ""
            },
            "colorscale": [
             [
              0,
              "#0d0887"
             ],
             [
              0.1111111111111111,
              "#46039f"
             ],
             [
              0.2222222222222222,
              "#7201a8"
             ],
             [
              0.3333333333333333,
              "#9c179e"
             ],
             [
              0.4444444444444444,
              "#bd3786"
             ],
             [
              0.5555555555555556,
              "#d8576b"
             ],
             [
              0.6666666666666666,
              "#ed7953"
             ],
             [
              0.7777777777777778,
              "#fb9f3a"
             ],
             [
              0.8888888888888888,
              "#fdca26"
             ],
             [
              1,
              "#f0f921"
             ]
            ],
            "type": "heatmap"
           }
          ],
          "heatmapgl": [
           {
            "colorbar": {
             "outlinewidth": 0,
             "ticks": ""
            },
            "colorscale": [
             [
              0,
              "#0d0887"
             ],
             [
              0.1111111111111111,
              "#46039f"
             ],
             [
              0.2222222222222222,
              "#7201a8"
             ],
             [
              0.3333333333333333,
              "#9c179e"
             ],
             [
              0.4444444444444444,
              "#bd3786"
             ],
             [
              0.5555555555555556,
              "#d8576b"
             ],
             [
              0.6666666666666666,
              "#ed7953"
             ],
             [
              0.7777777777777778,
              "#fb9f3a"
             ],
             [
              0.8888888888888888,
              "#fdca26"
             ],
             [
              1,
              "#f0f921"
             ]
            ],
            "type": "heatmapgl"
           }
          ],
          "histogram": [
           {
            "marker": {
             "pattern": {
              "fillmode": "overlay",
              "size": 10,
              "solidity": 0.2
             }
            },
            "type": "histogram"
           }
          ],
          "histogram2d": [
           {
            "colorbar": {
             "outlinewidth": 0,
             "ticks": ""
            },
            "colorscale": [
             [
              0,
              "#0d0887"
             ],
             [
              0.1111111111111111,
              "#46039f"
             ],
             [
              0.2222222222222222,
              "#7201a8"
             ],
             [
              0.3333333333333333,
              "#9c179e"
             ],
             [
              0.4444444444444444,
              "#bd3786"
             ],
             [
              0.5555555555555556,
              "#d8576b"
             ],
             [
              0.6666666666666666,
              "#ed7953"
             ],
             [
              0.7777777777777778,
              "#fb9f3a"
             ],
             [
              0.8888888888888888,
              "#fdca26"
             ],
             [
              1,
              "#f0f921"
             ]
            ],
            "type": "histogram2d"
           }
          ],
          "histogram2dcontour": [
           {
            "colorbar": {
             "outlinewidth": 0,
             "ticks": ""
            },
            "colorscale": [
             [
              0,
              "#0d0887"
             ],
             [
              0.1111111111111111,
              "#46039f"
             ],
             [
              0.2222222222222222,
              "#7201a8"
             ],
             [
              0.3333333333333333,
              "#9c179e"
             ],
             [
              0.4444444444444444,
              "#bd3786"
             ],
             [
              0.5555555555555556,
              "#d8576b"
             ],
             [
              0.6666666666666666,
              "#ed7953"
             ],
             [
              0.7777777777777778,
              "#fb9f3a"
             ],
             [
              0.8888888888888888,
              "#fdca26"
             ],
             [
              1,
              "#f0f921"
             ]
            ],
            "type": "histogram2dcontour"
           }
          ],
          "mesh3d": [
           {
            "colorbar": {
             "outlinewidth": 0,
             "ticks": ""
            },
            "type": "mesh3d"
           }
          ],
          "parcoords": [
           {
            "line": {
             "colorbar": {
              "outlinewidth": 0,
              "ticks": ""
             }
            },
            "type": "parcoords"
           }
          ],
          "pie": [
           {
            "automargin": true,
            "type": "pie"
           }
          ],
          "scatter": [
           {
            "fillpattern": {
             "fillmode": "overlay",
             "size": 10,
             "solidity": 0.2
            },
            "type": "scatter"
           }
          ],
          "scatter3d": [
           {
            "line": {
             "colorbar": {
              "outlinewidth": 0,
              "ticks": ""
             }
            },
            "marker": {
             "colorbar": {
              "outlinewidth": 0,
              "ticks": ""
             }
            },
            "type": "scatter3d"
           }
          ],
          "scattercarpet": [
           {
            "marker": {
             "colorbar": {
              "outlinewidth": 0,
              "ticks": ""
             }
            },
            "type": "scattercarpet"
           }
          ],
          "scattergeo": [
           {
            "marker": {
             "colorbar": {
              "outlinewidth": 0,
              "ticks": ""
             }
            },
            "type": "scattergeo"
           }
          ],
          "scattergl": [
           {
            "marker": {
             "colorbar": {
              "outlinewidth": 0,
              "ticks": ""
             }
            },
            "type": "scattergl"
           }
          ],
          "scattermapbox": [
           {
            "marker": {
             "colorbar": {
              "outlinewidth": 0,
              "ticks": ""
             }
            },
            "type": "scattermapbox"
           }
          ],
          "scatterpolar": [
           {
            "marker": {
             "colorbar": {
              "outlinewidth": 0,
              "ticks": ""
             }
            },
            "type": "scatterpolar"
           }
          ],
          "scatterpolargl": [
           {
            "marker": {
             "colorbar": {
              "outlinewidth": 0,
              "ticks": ""
             }
            },
            "type": "scatterpolargl"
           }
          ],
          "scatterternary": [
           {
            "marker": {
             "colorbar": {
              "outlinewidth": 0,
              "ticks": ""
             }
            },
            "type": "scatterternary"
           }
          ],
          "surface": [
           {
            "colorbar": {
             "outlinewidth": 0,
             "ticks": ""
            },
            "colorscale": [
             [
              0,
              "#0d0887"
             ],
             [
              0.1111111111111111,
              "#46039f"
             ],
             [
              0.2222222222222222,
              "#7201a8"
             ],
             [
              0.3333333333333333,
              "#9c179e"
             ],
             [
              0.4444444444444444,
              "#bd3786"
             ],
             [
              0.5555555555555556,
              "#d8576b"
             ],
             [
              0.6666666666666666,
              "#ed7953"
             ],
             [
              0.7777777777777778,
              "#fb9f3a"
             ],
             [
              0.8888888888888888,
              "#fdca26"
             ],
             [
              1,
              "#f0f921"
             ]
            ],
            "type": "surface"
           }
          ],
          "table": [
           {
            "cells": {
             "fill": {
              "color": "#EBF0F8"
             },
             "line": {
              "color": "white"
             }
            },
            "header": {
             "fill": {
              "color": "#C8D4E3"
             },
             "line": {
              "color": "white"
             }
            },
            "type": "table"
           }
          ]
         },
         "layout": {
          "annotationdefaults": {
           "arrowcolor": "#2a3f5f",
           "arrowhead": 0,
           "arrowwidth": 1
          },
          "autotypenumbers": "strict",
          "coloraxis": {
           "colorbar": {
            "outlinewidth": 0,
            "ticks": ""
           }
          },
          "colorscale": {
           "diverging": [
            [
             0,
             "#8e0152"
            ],
            [
             0.1,
             "#c51b7d"
            ],
            [
             0.2,
             "#de77ae"
            ],
            [
             0.3,
             "#f1b6da"
            ],
            [
             0.4,
             "#fde0ef"
            ],
            [
             0.5,
             "#f7f7f7"
            ],
            [
             0.6,
             "#e6f5d0"
            ],
            [
             0.7,
             "#b8e186"
            ],
            [
             0.8,
             "#7fbc41"
            ],
            [
             0.9,
             "#4d9221"
            ],
            [
             1,
             "#276419"
            ]
           ],
           "sequential": [
            [
             0,
             "#0d0887"
            ],
            [
             0.1111111111111111,
             "#46039f"
            ],
            [
             0.2222222222222222,
             "#7201a8"
            ],
            [
             0.3333333333333333,
             "#9c179e"
            ],
            [
             0.4444444444444444,
             "#bd3786"
            ],
            [
             0.5555555555555556,
             "#d8576b"
            ],
            [
             0.6666666666666666,
             "#ed7953"
            ],
            [
             0.7777777777777778,
             "#fb9f3a"
            ],
            [
             0.8888888888888888,
             "#fdca26"
            ],
            [
             1,
             "#f0f921"
            ]
           ],
           "sequentialminus": [
            [
             0,
             "#0d0887"
            ],
            [
             0.1111111111111111,
             "#46039f"
            ],
            [
             0.2222222222222222,
             "#7201a8"
            ],
            [
             0.3333333333333333,
             "#9c179e"
            ],
            [
             0.4444444444444444,
             "#bd3786"
            ],
            [
             0.5555555555555556,
             "#d8576b"
            ],
            [
             0.6666666666666666,
             "#ed7953"
            ],
            [
             0.7777777777777778,
             "#fb9f3a"
            ],
            [
             0.8888888888888888,
             "#fdca26"
            ],
            [
             1,
             "#f0f921"
            ]
           ]
          },
          "colorway": [
           "#636efa",
           "#EF553B",
           "#00cc96",
           "#ab63fa",
           "#FFA15A",
           "#19d3f3",
           "#FF6692",
           "#B6E880",
           "#FF97FF",
           "#FECB52"
          ],
          "font": {
           "color": "#2a3f5f"
          },
          "geo": {
           "bgcolor": "white",
           "lakecolor": "white",
           "landcolor": "#E5ECF6",
           "showlakes": true,
           "showland": true,
           "subunitcolor": "white"
          },
          "hoverlabel": {
           "align": "left"
          },
          "hovermode": "closest",
          "mapbox": {
           "style": "light"
          },
          "paper_bgcolor": "white",
          "plot_bgcolor": "#E5ECF6",
          "polar": {
           "angularaxis": {
            "gridcolor": "white",
            "linecolor": "white",
            "ticks": ""
           },
           "bgcolor": "#E5ECF6",
           "radialaxis": {
            "gridcolor": "white",
            "linecolor": "white",
            "ticks": ""
           }
          },
          "scene": {
           "xaxis": {
            "backgroundcolor": "#E5ECF6",
            "gridcolor": "white",
            "gridwidth": 2,
            "linecolor": "white",
            "showbackground": true,
            "ticks": "",
            "zerolinecolor": "white"
           },
           "yaxis": {
            "backgroundcolor": "#E5ECF6",
            "gridcolor": "white",
            "gridwidth": 2,
            "linecolor": "white",
            "showbackground": true,
            "ticks": "",
            "zerolinecolor": "white"
           },
           "zaxis": {
            "backgroundcolor": "#E5ECF6",
            "gridcolor": "white",
            "gridwidth": 2,
            "linecolor": "white",
            "showbackground": true,
            "ticks": "",
            "zerolinecolor": "white"
           }
          },
          "shapedefaults": {
           "line": {
            "color": "#2a3f5f"
           }
          },
          "ternary": {
           "aaxis": {
            "gridcolor": "white",
            "linecolor": "white",
            "ticks": ""
           },
           "baxis": {
            "gridcolor": "white",
            "linecolor": "white",
            "ticks": ""
           },
           "bgcolor": "#E5ECF6",
           "caxis": {
            "gridcolor": "white",
            "linecolor": "white",
            "ticks": ""
           }
          },
          "title": {
           "x": 0.05
          },
          "xaxis": {
           "automargin": true,
           "gridcolor": "white",
           "linecolor": "white",
           "ticks": "",
           "title": {
            "standoff": 15
           },
           "zerolinecolor": "white",
           "zerolinewidth": 2
          },
          "yaxis": {
           "automargin": true,
           "gridcolor": "white",
           "linecolor": "white",
           "ticks": "",
           "title": {
            "standoff": 15
           },
           "zerolinecolor": "white",
           "zerolinewidth": 2
          }
         }
        },
        "width": 1000,
        "xaxis": {
         "anchor": "y",
         "autorange": true,
         "constrain": "domain",
         "domain": [
          0,
          1
         ],
         "range": [
          -0.5,
          61.5
         ],
         "scaleanchor": "y",
         "ticktext": [
          "▁",
          "▁Ah",
          ",",
          "▁a",
          "▁simple",
          "▁yet",
          "▁satisfying",
          "▁request",
          "!",
          "▁Yes",
          ",",
          "▁you",
          "▁are",
          "▁correct",
          ".",
          "▁Mon",
          "keys",
          "▁are",
          "▁indeed",
          "▁class",
          "ified",
          "▁as",
          "▁prim",
          "ates",
          ",",
          "▁a",
          "▁group",
          "▁of",
          "▁m",
          "amm",
          "als",
          "▁that",
          "▁includes",
          "▁lem",
          "urs",
          ",",
          "▁l",
          "or",
          "ises",
          ",",
          "▁tar",
          "si",
          "ers",
          ",",
          "▁and",
          "▁other",
          "▁relatives",
          "▁of",
          "▁humans",
          ".",
          "▁Well",
          "▁done",
          "!",
          "▁",
          "<0xF0>",
          "<0x9F>",
          "<0x90>",
          "<0x92>",
          "<0xF0>",
          "<0x9F>",
          "<0x91>",
          "<0x8F>"
         ],
         "tickvals": [
          0,
          1,
          2,
          3,
          4,
          5,
          6,
          7,
          8,
          9,
          10,
          11,
          12,
          13,
          14,
          15,
          16,
          17,
          18,
          19,
          20,
          21,
          22,
          23,
          24,
          25,
          26,
          27,
          28,
          29,
          30,
          31,
          32,
          33,
          34,
          35,
          36,
          37,
          38,
          39,
          40,
          41,
          42,
          43,
          44,
          45,
          46,
          47,
          48,
          49,
          50,
          51,
          52,
          53,
          54,
          55,
          56,
          57,
          58,
          59,
          60,
          61
         ],
         "title": {
          "text": "Token"
         }
        },
        "yaxis": {
         "anchor": "x",
         "autorange": true,
         "constrain": "domain",
         "domain": [
          0.004323633355891365,
          0.9956763666441086
         ],
         "range": [
          31.5,
          -0.5
         ]
        }
       }
      },
      "text/html": [
       "<div>                            <div id=\"5487e0c9-1105-4667-85aa-0684afb8ffd9\" class=\"plotly-graph-div\" style=\"height:600px; width:1000px;\"></div>            <script type=\"text/javascript\">                require([\"plotly\"], function(Plotly) {                    window.PLOTLYENV=window.PLOTLYENV || {};                                    if (document.getElementById(\"5487e0c9-1105-4667-85aa-0684afb8ffd9\")) {                    Plotly.newPlot(                        \"5487e0c9-1105-4667-85aa-0684afb8ffd9\",                        [{\"coloraxis\":\"coloraxis\",\"name\":\"0\",\"z\":[[-0.546875,-0.251220703125,-0.6357421875,-0.43115234375,-0.198974609375,-0.161865234375,-0.1573486328125,-0.1988525390625,-0.260986328125,-0.24951171875,-0.57861328125,-0.297607421875,-0.3837890625,-0.17578125,-0.47216796875,-0.33544921875,-0.197509765625,-0.399169921875,-0.16845703125,-0.2071533203125,-0.2159423828125,-0.35888671875,-0.21044921875,-0.2509765625,-0.51806640625,-0.447265625,-0.2130126953125,-0.410888671875,-0.365966796875,-0.167724609375,-0.2177734375,-0.32177734375,-0.26318359375,-0.1871337890625,-0.1751708984375,-0.494873046875,-0.336181640625,-0.254638671875,-0.1583251953125,-0.46044921875,-0.1773681640625,-0.2142333984375,-0.2435302734375,-0.44677734375,-0.376953125,-0.22900390625,-0.09808349609375,-0.368408203125,-0.165771484375,-0.37109375,-0.1900634765625,-0.162841796875,-0.1983642578125,-0.427001953125,-0.13525390625,-0.2305908203125,-0.2015380859375,-0.1751708984375,-0.1485595703125,-0.22900390625,-0.244873046875,-0.194091796875],[-0.1805419921875,-0.30615234375,-0.335693359375,-0.29248046875,-0.194580078125,-0.0694580078125,-0.1312255859375,-0.1436767578125,-0.130615234375,-0.22607421875,-0.28662109375,-0.2440185546875,-0.3046875,-0.1248779296875,-0.1929931640625,-0.35498046875,-0.1724853515625,-0.32275390625,-0.1551513671875,-0.208740234375,-0.1529541015625,-0.258056640625,-0.273193359375,-0.1541748046875,-0.2666015625,-0.3115234375,-0.2384033203125,-0.294189453125,-0.400634765625,-0.11419677734375,-0.10845947265625,-0.1700439453125,-0.2083740234375,-0.2437744140625,-0.1605224609375,-0.204833984375,-0.321533203125,-0.242919921875,-0.102783203125,-0.206787109375,-0.1788330078125,-0.2286376953125,-0.10784912109375,-0.1910400390625,-0.1929931640625,-0.1263427734375,-0.052978515625,-0.174072265625,-0.1661376953125,-0.036285400390625,-0.158447265625,0.0178070068359375,-0.057464599609375,-0.180419921875,-0.01806640625,-0.1512451171875,-0.0933837890625,-0.032562255859375,-0.006580352783203125,-0.09259033203125,-0.058258056640625,0.0168914794921875],[-0.1981201171875,-0.281494140625,-0.3447265625,-0.255126953125,-0.348876953125,-0.1705322265625,-0.232666015625,-0.2286376953125,-0.1793212890625,-0.2076416015625,-0.251708984375,-0.30908203125,-0.313232421875,-0.15771484375,-0.2099609375,-0.298095703125,-0.324951171875,-0.447998046875,-0.2529296875,-0.302734375,-0.29931640625,-0.3759765625,-0.2462158203125,-0.267822265625,-0.352294921875,-0.369873046875,-0.3935546875,-0.445556640625,-0.32177734375,-0.10491943359375,-0.248779296875,-0.327392578125,-0.31640625,-0.25048828125,-0.08074951171875,-0.332275390625,-0.24853515625,-0.17431640625,-0.133056640625,-0.306396484375,-0.10760498046875,-0.09783935546875,-0.00862884521484375,-0.268310546875,-0.2464599609375,-0.27392578125,-0.131103515625,-0.212890625,-0.196044921875,-0.017486572265625,-0.04254150390625,-0.01006317138671875,0.00887298583984375,-0.088623046875,-0.0238494873046875,-0.0171051025390625,-0.06317138671875,0.016876220703125,-0.0728759765625,-0.11859130859375,-0.07183837890625,-0.0295257568359375],[0.172119140625,-0.029144287109375,-0.13037109375,-0.03369140625,-0.2232666015625,-0.062164306640625,-0.1829833984375,-0.164794921875,-0.10308837890625,-0.044281005859375,-0.08026123046875,-0.0867919921875,-0.11090087890625,-0.1351318359375,-0.029144287109375,-0.037139892578125,-0.211669921875,-0.227783203125,-0.06512451171875,-0.09765625,-0.206298828125,-0.19287109375,-0.0958251953125,-0.1983642578125,-0.186279296875,-0.11651611328125,-0.2315673828125,-0.177734375,-0.14208984375,-0.005306243896484375,-0.2335205078125,-0.139404296875,-0.1893310546875,-0.046844482421875,-0.0264739990234375,-0.1429443359375,0.0162811279296875,-0.01494598388671875,-0.004764556884765625,-0.12060546875,0.0635986328125,0.019683837890625,0.07568359375,-0.08026123046875,-0.0364990234375,-0.102783203125,-0.07244873046875,-0.03167724609375,-0.05145263671875,0.27734375,0.191162109375,0.1448974609375,0.343994140625,0.419921875,0.2724609375,0.386474609375,0.1529541015625,0.199462890625,0.10943603515625,0.227294921875,0.1982421875,0.1416015625],[0.07427978515625,-0.1630859375,-0.16357421875,-0.0517578125,-0.15771484375,0.033966064453125,-0.086669921875,-0.0285797119140625,-0.03973388671875,-0.05145263671875,0.0496826171875,0.015869140625,0.006072998046875,-0.043487548828125,0.1424560546875,-0.06744384765625,-0.279052734375,-0.32763671875,-0.03961181640625,-0.08734130859375,-0.06304931640625,-0.058197021484375,-0.07110595703125,-0.2347412109375,-0.1954345703125,-0.1171875,-0.1766357421875,-0.028076171875,-0.1875,0.0452880859375,-0.255126953125,-0.172607421875,-0.1749267578125,-0.044403076171875,-0.1070556640625,-0.238037109375,-0.07476806640625,-0.09814453125,-0.0269622802734375,-0.1566162109375,0.04144287109375,0.07611083984375,0.1278076171875,-0.12493896484375,-0.07086181640625,-0.19384765625,-0.093505859375,0.038726806640625,-0.1334228515625,0.2373046875,0.229736328125,0.1885986328125,0.1517333984375,0.2498779296875,0.1795654296875,0.375732421875,0.08642578125,-0.057830810546875,0.049041748046875,0.2666015625,0.24560546875,0.04620361328125],[-0.40185546875,-0.45458984375,-0.05096435546875,-0.062042236328125,-0.275146484375,-0.2108154296875,-0.0655517578125,-0.275634765625,-0.277099609375,-0.1541748046875,-0.1524658203125,-0.10968017578125,-0.142333984375,-0.312744140625,-0.126708984375,-0.35595703125,-0.5185546875,-0.70751953125,-0.22998046875,-0.1258544921875,-0.0997314453125,-0.10052490234375,-0.264892578125,-0.424072265625,-0.51513671875,-0.2578125,-0.28369140625,-0.234130859375,-0.341064453125,-0.0416259765625,-0.40185546875,-0.42529296875,-0.21435546875,-0.1732177734375,-0.307861328125,-0.45751953125,-0.251953125,-0.0928955078125,-0.1070556640625,-0.274169921875,-0.03778076171875,-0.031951904296875,0.07586669921875,-0.327880859375,-0.311279296875,-0.384765625,-0.208740234375,-0.07855224609375,-0.24951171875,-0.1304931640625,0.121826171875,-0.0771484375,-0.11669921875,0.07354736328125,-0.050933837890625,0.0845947265625,-0.018585205078125,-0.049591064453125,-0.1446533203125,0.023651123046875,0.2276611328125,0.12890625],[-0.578125,-0.320068359375,-0.1419677734375,-0.200927734375,-0.397705078125,-0.31298828125,0.09796142578125,-0.58544921875,-0.470458984375,-0.075927734375,-0.2431640625,-0.261474609375,-0.19580078125,-0.2666015625,-0.1978759765625,-0.5205078125,-0.5732421875,-0.740234375,-0.1588134765625,-0.27734375,-0.249755859375,-0.1104736328125,-0.3818359375,-0.451171875,-0.6728515625,-0.243408203125,-0.31201171875,-0.1881103515625,-0.376953125,0.06671142578125,-0.362060546875,-0.388916015625,-0.329833984375,-0.186767578125,-0.254150390625,-0.414306640625,-0.33837890625,-0.2042236328125,-0.0677490234375,-0.380859375,-0.117919921875,0.006633758544921875,0.1534423828125,-0.3359375,-0.30712890625,-0.35205078125,-0.151123046875,0.09246826171875,-0.1336669921875,-0.4150390625,0.0017194747924804688,-0.0555419921875,-0.1890869140625,0.031524658203125,-0.1649169921875,0.06329345703125,-0.0024471282958984375,-0.032257080078125,-0.0501708984375,-0.0826416015625,-0.0079803466796875,0.025421142578125],[-1.298828125,-0.58544921875,-0.05340576171875,-0.239501953125,-0.40380859375,0.00897216796875,0.0010662078857421875,-0.8115234375,-0.43310546875,0.0206146240234375,-0.358642578125,-0.379150390625,-0.26708984375,-0.332763671875,-0.395263671875,-0.6259765625,-0.53125,-0.759765625,-0.292724609375,-0.38525390625,-0.56005859375,-0.1383056640625,-0.053955078125,-0.1494140625,-0.6103515625,-0.3193359375,-0.2078857421875,0.0325927734375,-0.126708984375,0.2890625,-0.09503173828125,-0.30810546875,-0.28271484375,0.057830810546875,-0.09649658203125,0.0269927978515625,-0.033935546875,0.265869140625,0.222412109375,-0.11468505859375,0.1097412109375,0.2413330078125,0.49755859375,-0.10101318359375,-0.29541015625,-0.1434326171875,0.1732177734375,0.434814453125,0.177001953125,-0.51708984375,0.1103515625,0.117919921875,-0.098876953125,0.051239013671875,0.024810791015625,0.321044921875,0.162841796875,-0.0780029296875,0.2113037109375,0.14306640625,0.1878662109375,0.07623291015625],[-1.849609375,-0.69384765625,-0.09637451171875,-0.2384033203125,-0.423828125,0.09808349609375,0.1453857421875,-0.779296875,-0.345947265625,-0.2080078125,-0.57470703125,-0.19140625,-0.322021484375,-0.4375,-0.73779296875,-0.92822265625,-0.58154296875,-0.86962890625,-0.52001953125,-0.1463623046875,-0.471923828125,-0.2083740234375,0.38916015625,0.129150390625,-0.8095703125,-0.471435546875,-0.087646484375,0.162109375,-0.06463623046875,0.57861328125,-0.00392913818359375,-0.4853515625,-0.3076171875,0.2235107421875,0.1561279296875,-0.429443359375,0.093994140625,0.307861328125,0.55224609375,-0.260009765625,-0.1900634765625,0.08489990234375,0.76953125,-0.1875,-0.431640625,-0.043365478515625,0.30419921875,0.50537109375,0.2900390625,-0.72900390625,0.1697998046875,0.1485595703125,-0.28515625,-0.039581298828125,0.1851806640625,0.2305908203125,0.2288818359375,0.0755615234375,0.3662109375,0.371337890625,0.38427734375,0.2255859375],[-2.125,-1.208984375,-0.2841796875,-0.404296875,-0.44091796875,0.1636962890625,0.304443359375,-0.9111328125,-0.494140625,-0.5234375,-0.85400390625,-0.299072265625,-0.68115234375,-0.3818359375,-0.64208984375,-0.89599609375,-0.9140625,-0.7529296875,-0.671875,0.0423583984375,-0.17724609375,-0.209228515625,0.6953125,0.7939453125,-0.31103515625,-0.081787109375,0.169677734375,0.290283203125,-0.326171875,0.86865234375,0.344970703125,-0.04583740234375,-0.0200958251953125,-0.234130859375,-0.002040863037109375,-0.451416015625,-0.2115478515625,-0.061431884765625,0.05389404296875,-0.1278076171875,-0.55322265625,0.1412353515625,0.0667724609375,-0.3466796875,-0.5771484375,-0.06951904296875,0.251953125,0.481689453125,0.3427734375,-0.71484375,0.157958984375,0.40185546875,0.0672607421875,-0.1600341796875,-0.254150390625,-0.2481689453125,-0.1690673828125,-0.42724609375,0.197509765625,-0.0272369384765625,0.031402587890625,0.282958984375],[-1.8564453125,-0.9912109375,-0.50537109375,-0.56005859375,-0.43310546875,-0.248046875,-0.132080078125,-0.6318359375,-0.509765625,-0.4248046875,-0.7275390625,-0.1444091796875,-0.256591796875,-0.46484375,-0.9306640625,-0.74853515625,-0.619140625,-0.47119140625,-0.59619140625,-0.056732177734375,-0.106689453125,-0.21337890625,0.270263671875,0.3017578125,0.031829833984375,0.234375,0.218994140625,0.239501953125,-0.09429931640625,0.42724609375,0.0126495361328125,0.0927734375,0.279541015625,-0.2213134765625,0.06195068359375,-0.394775390625,-0.312744140625,-0.1953125,-0.24169921875,-0.28173828125,-0.445556640625,0.190185546875,-0.121337890625,-0.30712890625,-0.58203125,-0.396484375,-0.0018062591552734375,0.07855224609375,0.1744384765625,-0.376953125,0.11029052734375,0.1470947265625,-0.265380859375,-0.06884765625,-0.29736328125,-0.157958984375,0.005275726318359375,-0.0360107421875,0.01499176025390625,-0.0841064453125,-0.030303955078125,0.03643798828125],[-2.486328125,-1.48828125,-1.0732421875,-1.046875,-0.755859375,-0.56884765625,-0.496337890625,-0.84326171875,-0.70068359375,-0.57666015625,-0.61376953125,-0.56005859375,-0.7119140625,-0.5517578125,-1.02734375,-0.98388671875,-1.08984375,-1.064453125,-1.08203125,-0.5771484375,-0.572265625,-0.67236328125,-0.51708984375,-0.31005859375,-0.57177734375,-0.242431640625,-0.2376708984375,-0.17578125,-0.447265625,0.173095703125,-0.349609375,-0.262939453125,-0.09344482421875,-0.52734375,-0.2445068359375,-0.459716796875,-0.383544921875,-0.2127685546875,-0.5302734375,-0.34228515625,-0.525390625,-0.2479248046875,-0.296875,-0.36279296875,-0.68798828125,-0.21875,0.05157470703125,-0.171630859375,0.2529296875,-0.88427734375,-0.568359375,-0.284423828125,-0.70654296875,-0.71044921875,-0.77783203125,-0.79931640625,-0.60546875,-0.77978515625,-0.3251953125,-0.4921875,-0.51806640625,-0.304443359375],[-2.60546875,-1.1982421875,-0.60302734375,-0.2225341796875,-0.395751953125,-0.2900390625,-0.32568359375,-0.34521484375,-0.953125,-0.71142578125,-0.52978515625,0.304931640625,-0.030120849609375,-0.25244140625,-0.8955078125,-0.6259765625,-0.4931640625,-0.60205078125,-0.67822265625,-0.33935546875,-0.412353515625,-0.30078125,-0.07049560546875,-0.11077880859375,-0.3720703125,-0.387939453125,-0.143798828125,0.0261077880859375,-0.293701171875,-0.070068359375,-0.12103271484375,-0.2232666015625,-0.1298828125,-0.42041015625,-0.265869140625,-0.61865234375,-0.263427734375,0.2265625,0.10992431640625,-0.58935546875,-0.3818359375,0.08685302734375,-0.04095458984375,-0.82177734375,-0.8291015625,-0.43115234375,-0.082763671875,-0.603515625,0.0958251953125,-1.1796875,-0.2071533203125,-0.38330078125,-0.58154296875,-1.01171875,-0.56591796875,-0.697265625,-0.77197265625,-0.8583984375,-0.0173492431640625,-0.2042236328125,-0.264892578125,-0.005023956298828125],[-0.7509765625,-0.53466796875,-0.1141357421875,0.350830078125,-0.050506591796875,-0.6923828125,-0.274169921875,0.7890625,0.2413330078125,0.09210205078125,0.416748046875,0.27294921875,-0.1444091796875,-0.1475830078125,0.282470703125,-0.036529541015625,-0.2490234375,0.231689453125,-0.232421875,-0.3408203125,-0.45947265625,-0.029205322265625,0.26171875,0.166748046875,0.363525390625,-0.0218658447265625,0.173828125,0.1766357421875,0.1162109375,0.035247802734375,0.1436767578125,0.10345458984375,-0.1114501953125,-0.1468505859375,-0.479248046875,-0.21435546875,0.100341796875,0.149658203125,-0.415283203125,-0.27978515625,-0.18408203125,0.1407470703125,-0.253662109375,-0.382568359375,-0.398193359375,-0.78466796875,-0.8974609375,-0.458740234375,0.1395263671875,0.1181640625,0.51025390625,-0.11834716796875,0.0858154296875,0.295166015625,0.08868408203125,0.262451171875,-0.3251953125,-0.47998046875,0.37353515625,0.1429443359375,-0.10784912109375,0.5830078125],[-0.1788330078125,-0.6728515625,-1.1240234375,-0.354248046875,-0.25390625,-0.6201171875,-0.6416015625,0.302734375,-0.22607421875,-0.07330322265625,-0.189453125,-0.275390625,-0.6884765625,-0.28857421875,0.151611328125,-0.19189453125,-0.303466796875,0.393798828125,0.1361083984375,0.0177764892578125,-0.352783203125,-0.030731201171875,-0.1141357421875,0.2125244140625,0.09820556640625,0.07342529296875,0.034912109375,0.0325927734375,0.1861572265625,-0.320068359375,-0.16162109375,0.0299530029296875,0.11334228515625,0.0197296142578125,-0.771484375,0.01136016845703125,0.431396484375,-0.196044921875,-0.931640625,-0.053253173828125,-0.0841064453125,-0.185546875,-0.84716796875,0.09735107421875,0.045654296875,-0.7646484375,-1.302734375,0.0274200439453125,-0.211181640625,0.34716796875,-0.08770751953125,-0.06060791015625,-0.10198974609375,0.26953125,-0.0408935546875,0.428466796875,-0.51171875,-0.31103515625,0.1082763671875,0.08624267578125,0.139892578125,0.62841796875],[-0.5966796875,-1.404296875,-1.7177734375,-0.70947265625,-0.80322265625,-1.80859375,-1.048828125,0.1019287109375,-1.123046875,-0.329345703125,-0.63232421875,-0.418701171875,-0.45654296875,-1.037109375,-0.220458984375,-0.153564453125,-0.1591796875,0.277587890625,0.1181640625,0.1123046875,-0.197998046875,0.08740234375,-0.31201171875,0.0312347412109375,-0.3291015625,0.08538818359375,0.1837158203125,-0.1251220703125,0.1492919921875,-0.367431640625,-0.411376953125,-0.2371826171875,-0.4150390625,-0.05072021484375,-0.87109375,-0.50439453125,-0.041046142578125,-0.58837890625,-1.20703125,-0.42578125,-0.239501953125,-0.181884765625,-1.0556640625,-0.282470703125,-0.70556640625,-0.84619140625,-1.6220703125,-0.5693359375,-0.66796875,-0.7275390625,-0.4609375,-0.144287109375,-0.1295166015625,-0.1953125,-0.3349609375,-0.2215576171875,-0.80615234375,-0.380126953125,-0.0260772705078125,-0.205078125,-0.356201171875,0.316162109375],[1.095703125,-0.50390625,-0.80029296875,0.1983642578125,-0.638671875,-1.7998046875,-0.98291015625,1.0478515625,-0.28857421875,0.045501708984375,-0.1080322265625,1.0927734375,0.84423828125,-0.37548828125,0.47802734375,0.432861328125,0.64013671875,1.0224609375,0.91455078125,0.43212890625,0.36474609375,0.72802734375,0.28662109375,0.93994140625,0.6123046875,1.517578125,1.134765625,0.71923828125,0.96826171875,0.354736328125,0.68896484375,0.708984375,0.388671875,1.0947265625,0.03546142578125,0.60498046875,1.0380859375,0.2164306640625,-0.30029296875,0.469970703125,0.76123046875,0.6943359375,-0.489013671875,0.447265625,0.1893310546875,-0.09552001953125,-0.90478515625,0.27880859375,0.056304931640625,0.364501953125,-0.027008056640625,0.466796875,0.55126953125,0.467041015625,0.354248046875,0.6357421875,0.01549530029296875,1.08984375,0.677734375,0.75341796875,1.06640625,1.3642578125],[3.181640625,0.007476806640625,-0.316650390625,0.69580078125,0.39453125,-1.3642578125,0.0513916015625,0.91015625,0.75390625,1.0380859375,0.6337890625,1.8359375,1.7314453125,0.55859375,0.412109375,0.2017822265625,-0.0185546875,1.5703125,0.76904296875,0.5400390625,0.291259765625,0.45654296875,-0.52197265625,0.966796875,0.70654296875,1.5166015625,0.9912109375,0.4501953125,1.17578125,0.08551025390625,0.406005859375,0.44873046875,0.2607421875,0.57421875,-0.3076171875,0.96435546875,0.95068359375,-0.428466796875,-0.21533203125,0.88232421875,0.828125,0.310302734375,-0.2015380859375,1.029296875,0.46728515625,-0.626953125,-1.130859375,0.2197265625,-0.2291259765625,0.70263671875,-0.09344482421875,1.0244140625,0.9599609375,1.0859375,0.5078125,0.96435546875,0.23388671875,1.1982421875,0.974609375,0.771484375,1.357421875,1.5400390625],[5.3359375,0.97412109375,1.072265625,1.734375,1.1767578125,-0.3115234375,0.53857421875,1.302734375,2.197265625,1.849609375,1.4716796875,3.54296875,2.900390625,1.2705078125,1.1630859375,0.642578125,0.75146484375,2.73828125,1.5419921875,0.5380859375,0.53955078125,0.9921875,-0.32275390625,1.283203125,1.6923828125,1.7978515625,1.0615234375,0.5712890625,1.40625,0.2255859375,0.6220703125,0.418212890625,0.204833984375,0.796875,-0.0802001953125,1.162109375,1.15234375,-0.509765625,0.01580810546875,1.1787109375,1.21484375,0.666015625,-0.0269775390625,1.2607421875,0.85791015625,-0.273193359375,-1.029296875,0.53466796875,0.0118560791015625,1.7900390625,1.0234375,2.201171875,1.4541015625,1.6650390625,1.5712890625,2.458984375,0.3134765625,1.9443359375,1.5048828125,2.103515625,2.57421875,1.9228515625],[5.98046875,2.376953125,2.98046875,3.96875,2.474609375,1.0087890625,1.806640625,1.9462890625,2.7890625,2.638671875,1.7314453125,4.6015625,3.685546875,2.37109375,1.5654296875,0.94287109375,0.8369140625,2.818359375,2.35546875,1.6943359375,1.2509765625,1.02734375,0.322021484375,1.3505859375,1.9501953125,2.197265625,1.6689453125,0.7109375,1.36328125,0.564453125,1.2373046875,1.271484375,1.109375,1.208984375,0.5234375,1.142578125,1.3369140625,0.05322265625,0.353515625,1.30078125,1.3046875,0.685546875,0.2244873046875,1.32421875,1.046875,0.00623321533203125,-0.1934814453125,0.84912109375,0.7177734375,2.1328125,2.39453125,2.91015625,1.9716796875,2.630859375,2.134765625,3.33203125,0.6943359375,2.751953125,1.80859375,2.9453125,3.869140625,2.33984375],[6.375,1.5869140625,1.59375,3.439453125,1.6884765625,0.08990478515625,0.83837890625,0.07269287109375,2.916015625,1.31640625,0.338134765625,2.392578125,1.53125,0.70556640625,1.1416015625,-0.73876953125,0.45166015625,2.23046875,1.9501953125,0.43310546875,0.3486328125,0.2218017578125,-0.9638671875,0.385009765625,0.8671875,0.943359375,0.48681640625,-0.65087890625,-0.309814453125,-1.4306640625,-0.315185546875,-0.1556396484375,-0.333251953125,-0.87548828125,-1.22265625,-0.359130859375,-0.4677734375,-1.5966796875,-0.85986328125,-0.0174102783203125,-0.6826171875,-1.4638671875,-1.4833984375,-0.08135986328125,0.153564453125,-1.6416015625,-1.4501953125,-0.46044921875,-0.646484375,1.2021484375,0.8583984375,1.31640625,0.44482421875,1.5263671875,0.57666015625,1.123046875,-1.138671875,1.71484375,0.336669921875,0.96044921875,3.044921875,0.9013671875],[6.71484375,1.6103515625,1.9287109375,3.138671875,0.51904296875,-0.14306640625,0.460205078125,0.2032470703125,3.50390625,1.740234375,0.87548828125,2.873046875,1.810546875,1.220703125,1.57421875,-1.1708984375,0.58740234375,2.33203125,1.9609375,0.251953125,-0.040374755859375,-0.04571533203125,-1.423828125,-0.1539306640625,0.89697265625,0.9912109375,-0.2119140625,0.035919189453125,-0.315673828125,-1.0478515625,-0.25048828125,-0.1923828125,0.1357421875,-0.69287109375,-0.9228515625,-0.339111328125,-0.76318359375,-1.9443359375,-0.765625,0.04925537109375,-1.5517578125,-1.15625,-1.5322265625,-0.1419677734375,0.18212890625,-0.87841796875,-0.76904296875,-0.14697265625,-0.80859375,1.2080078125,1.044921875,1.9189453125,0.31787109375,1.6767578125,0.8466796875,1.822265625,-1.1953125,1.6943359375,-0.257568359375,1.3212890625,3.69140625,0.8759765625],[8.6640625,4.18359375,3.89453125,4.69921875,1.9462890625,0.6953125,1.60546875,1.708984375,5.39453125,3.73828125,3.28125,4.73828125,3.71484375,3.80078125,3.20703125,0.1878662109375,3.03515625,4.72265625,2.794921875,1.3857421875,1.1708984375,1.16796875,-0.445556640625,1.5419921875,2.79296875,3.40234375,2.166015625,1.7822265625,1.005859375,0.6630859375,2.025390625,2.0546875,1.39453125,0.9755859375,0.5966796875,0.466796875,0.955078125,-0.20263671875,0.923828125,0.79931640625,-0.1527099609375,0.55908203125,0.2191162109375,0.5615234375,1.4384765625,0.9052734375,0.95166015625,1.1455078125,0.6494140625,2.4296875,3.515625,3.623046875,1.6201171875,3.650390625,2.583984375,3.6640625,0.406494140625,2.900390625,1.0380859375,3.216796875,6.2421875,2.04296875],[6.1484375,2.3515625,2.5078125,2.275390625,-0.60693359375,-1.751953125,-1.1796875,-1.0283203125,3.712890625,1.4794921875,0.8662109375,2.205078125,1.5107421875,1.7763671875,0.193115234375,-2.853515625,-0.1353759765625,2.51171875,0.79931640625,-0.681640625,-0.354248046875,-1.9443359375,-4.20703125,-1.28125,0.394775390625,1.8369140625,-0.252685546875,-0.455078125,-1.0966796875,-1.9404296875,-0.3564453125,-0.8056640625,-1.5283203125,-1.6611328125,-2.1875,-2.267578125,-1.2900390625,-2.251953125,-2.568359375,-1.7265625,-3.259765625,-1.92578125,-2.462890625,-1.9833984375,-1.173828125,-1.9833984375,-2.2578125,-0.892578125,-2.13671875,-0.025177001953125,1.248046875,1.388671875,-0.6416015625,1.388671875,-0.3740234375,1.87109375,-1.13671875,0.173583984375,-1.8310546875,1.306640625,4.09375,-1.0732421875],[7.28515625,3.376953125,3.359375,4.12890625,0.49755859375,-0.43505859375,0.1375732421875,0.5185546875,4.97265625,2.89453125,2.021484375,2.775390625,2.5703125,3.060546875,0.90771484375,-1.7275390625,1.1845703125,3.962890625,2.298828125,0.7177734375,1.21875,-0.10687255859375,-2.51171875,0.1767578125,1.6982421875,3.228515625,2.099609375,1.2958984375,0.062103271484375,-0.1767578125,1.599609375,1.166015625,-0.286376953125,-0.356689453125,-0.110107421875,-1.0986328125,0.11273193359375,-0.59814453125,-1.0,-0.17236328125,-1.30859375,-0.1527099609375,-0.8330078125,-0.322509765625,0.1029052734375,0.2296142578125,-0.11334228515625,0.287109375,-0.5234375,1.099609375,2.716796875,2.65625,0.200439453125,2.310546875,0.8583984375,3.552734375,1.37109375,1.5322265625,0.03021240234375,2.6484375,6.11328125,0.5185546875],[6.74609375,2.6015625,2.880859375,2.765625,0.1444091796875,-1.2333984375,-0.58203125,-0.1854248046875,4.484375,1.97265625,1.240234375,2.421875,1.7685546875,2.97265625,-0.22607421875,-2.427734375,0.1881103515625,2.8828125,0.833984375,-0.15380859375,0.27978515625,-1.119140625,-3.0625,-0.62109375,1.0087890625,3.33203125,1.5908203125,1.2001953125,-0.1590576171875,-0.1866455078125,1.251953125,1.2158203125,-1.2275390625,-0.63525390625,-0.66943359375,-1.42578125,-0.599609375,-1.0556640625,-1.6552734375,-0.61376953125,-1.7431640625,-0.26220703125,-1.2724609375,-0.65185546875,-0.263427734375,0.37548828125,-0.54541015625,-1.1298828125,-1.0517578125,0.445068359375,2.73828125,2.08203125,-0.2022705078125,2.3125,0.57666015625,3.2265625,1.6015625,0.9541015625,-0.642578125,2.2109375,5.19921875,-0.033111572265625],[6.359375,3.74609375,3.87109375,3.40234375,0.611328125,-0.708984375,-0.46826171875,-0.1536865234375,5.23046875,2.755859375,1.6083984375,2.40234375,2.953125,3.224609375,-2.427734375,-2.1796875,0.4580078125,2.275390625,-0.67724609375,0.11676025390625,0.0036468505859375,-2.89453125,-1.873046875,-0.374267578125,0.9951171875,4.15625,2.185546875,3.123046875,1.298828125,1.966796875,3.01171875,2.4296875,0.21728515625,1.3330078125,-0.1988525390625,0.0330810546875,1.693359375,1.09375,-1.1474609375,0.88818359375,0.181396484375,1.7021484375,-0.462158203125,0.79541015625,0.79296875,1.3037109375,0.0269012451171875,-0.25732421875,-1.0283203125,-0.2498779296875,3.744140625,2.427734375,0.39794921875,2.888671875,0.73193359375,5.078125,4.07421875,0.278564453125,-0.919921875,4.17578125,6.26953125,-0.70947265625],[6.9296875,5.0625,5.578125,4.98046875,1.9365234375,0.368408203125,1.0419921875,2.58984375,6.34375,4.3515625,2.884765625,4.68359375,4.79296875,4.859375,-1.3935546875,-0.998046875,1.439453125,3.693359375,0.39990234375,1.505859375,1.435546875,-1.1640625,-0.2509765625,0.84521484375,1.7841796875,5.546875,3.515625,4.5,2.474609375,3.08984375,4.59375,4.0390625,1.58984375,3.42578125,0.83837890625,1.787109375,3.34375,2.359375,0.07025146484375,2.48828125,1.40234375,3.314453125,0.9541015625,2.72265625,2.611328125,2.18359375,1.5341796875,1.388671875,0.66943359375,0.93115234375,5.37109375,4.28515625,2.861328125,5.59765625,2.328125,5.91796875,5.8203125,2.22265625,0.50341796875,5.41796875,7.5859375,1.9921875],[6.2890625,4.546875,5.4453125,4.50390625,2.0234375,0.69921875,1.2001953125,2.421875,6.22265625,4.25390625,2.744140625,5.0234375,4.80078125,4.44140625,-1.056640625,-0.341064453125,1.9951171875,4.18359375,1.3330078125,1.6572265625,1.427734375,0.33837890625,-0.367919921875,1.2001953125,1.8291015625,5.3359375,3.646484375,3.1484375,2.85546875,3.521484375,4.3046875,3.783203125,1.1376953125,3.263671875,1.33203125,1.501953125,1.970703125,2.029296875,0.8525390625,2.23046875,0.76220703125,2.447265625,1.30859375,2.142578125,2.705078125,1.80859375,1.0888671875,0.8837890625,0.64208984375,0.7919921875,3.91796875,4.48828125,2.65234375,5.1328125,2.76953125,4.91796875,4.1171875,2.048828125,1.2314453125,4.1171875,6.140625,1.501953125],[7.2578125,4.6328125,6.33984375,5.546875,3.1171875,1.8740234375,1.8408203125,3.21875,6.63671875,5.046875,3.1796875,5.88671875,5.55859375,4.94140625,-0.798828125,-0.50732421875,2.8203125,4.56640625,2.15234375,1.2412109375,0.8916015625,0.359375,0.046173095703125,1.39453125,1.80078125,4.8984375,3.681640625,3.72265625,3.521484375,3.380859375,4.41796875,3.8125,2.046875,4.36328125,2.388671875,2.15625,3.279296875,3.150390625,2.572265625,3.115234375,1.5322265625,2.390625,1.9384765625,2.94921875,3.810546875,2.73046875,1.876953125,1.478515625,1.6494140625,0.37109375,5.57421875,4.9453125,2.53515625,5.2421875,3.7890625,5.51171875,4.22265625,2.466796875,2.419921875,4.6875,6.109375,2.189453125],[7.51171875,4.0390625,5.796875,5.453125,3.439453125,1.068359375,2.455078125,0.54736328125,7.11328125,3.603515625,3.138671875,5.16015625,4.4609375,2.486328125,-0.10418701171875,-0.4326171875,2.802734375,4.453125,1.8740234375,0.52001953125,0.1788330078125,0.488525390625,-1.5771484375,0.259765625,1.4716796875,4.7109375,2.86328125,2.1171875,1.7060546875,1.8671875,3.48046875,2.33984375,0.07489013671875,4.0078125,1.4375,0.93359375,1.0517578125,0.62548828125,1.4384765625,2.0234375,-0.0295562744140625,1.80078125,1.1298828125,2.306640625,2.580078125,1.466796875,0.437744140625,0.12445068359375,0.10211181640625,0.44970703125,3.890625,3.35546875,3.2578125,3.5390625,3.37890625,4.19140625,1.09765625,1.5830078125,1.8369140625,3.873046875,4.16796875,1.5517578125],[5.20703125,5.859375,5.63671875,7.47265625,5.3828125,2.64453125,5.3828125,3.51171875,4.40234375,4.40234375,3.85546875,7.03125,7.15234375,4.33203125,0.669921875,-0.281005859375,5.046875,4.2109375,2.408203125,1.5009765625,0.44482421875,2.2109375,-2.728515625,1.638671875,2.21875,6.28125,4.734375,2.919921875,2.41015625,1.962890625,6.66796875,7.44140625,-0.1463623046875,3.814453125,0.958984375,0.5869140625,3.111328125,0.3603515625,0.26220703125,1.1591796875,1.7646484375,-0.80615234375,-1.0029296875,1.451171875,1.7138671875,2.6484375,2.060546875,-0.7236328125,1.1220703125,0.230224609375,4.83203125,7.8828125,1.48828125,4.94921875,6.3046875,6.75,2.017578125,1.646484375,5.37890625,4.625,7.30078125,2.47265625]],\"type\":\"heatmap\",\"xaxis\":\"x\",\"yaxis\":\"y\",\"hovertemplate\":\"Token: %{x}\\u003cbr\\u003ey: %{y}\\u003cbr\\u003ecolor: %{z}\\u003cextra\\u003e\\u003c\\u002fextra\\u003e\"}],                        {\"template\":{\"data\":{\"histogram2dcontour\":[{\"type\":\"histogram2dcontour\",\"colorbar\":{\"outlinewidth\":0,\"ticks\":\"\"},\"colorscale\":[[0.0,\"#0d0887\"],[0.1111111111111111,\"#46039f\"],[0.2222222222222222,\"#7201a8\"],[0.3333333333333333,\"#9c179e\"],[0.4444444444444444,\"#bd3786\"],[0.5555555555555556,\"#d8576b\"],[0.6666666666666666,\"#ed7953\"],[0.7777777777777778,\"#fb9f3a\"],[0.8888888888888888,\"#fdca26\"],[1.0,\"#f0f921\"]]}],\"choropleth\":[{\"type\":\"choropleth\",\"colorbar\":{\"outlinewidth\":0,\"ticks\":\"\"}}],\"histogram2d\":[{\"type\":\"histogram2d\",\"colorbar\":{\"outlinewidth\":0,\"ticks\":\"\"},\"colorscale\":[[0.0,\"#0d0887\"],[0.1111111111111111,\"#46039f\"],[0.2222222222222222,\"#7201a8\"],[0.3333333333333333,\"#9c179e\"],[0.4444444444444444,\"#bd3786\"],[0.5555555555555556,\"#d8576b\"],[0.6666666666666666,\"#ed7953\"],[0.7777777777777778,\"#fb9f3a\"],[0.8888888888888888,\"#fdca26\"],[1.0,\"#f0f921\"]]}],\"heatmap\":[{\"type\":\"heatmap\",\"colorbar\":{\"outlinewidth\":0,\"ticks\":\"\"},\"colorscale\":[[0.0,\"#0d0887\"],[0.1111111111111111,\"#46039f\"],[0.2222222222222222,\"#7201a8\"],[0.3333333333333333,\"#9c179e\"],[0.4444444444444444,\"#bd3786\"],[0.5555555555555556,\"#d8576b\"],[0.6666666666666666,\"#ed7953\"],[0.7777777777777778,\"#fb9f3a\"],[0.8888888888888888,\"#fdca26\"],[1.0,\"#f0f921\"]]}],\"heatmapgl\":[{\"type\":\"heatmapgl\",\"colorbar\":{\"outlinewidth\":0,\"ticks\":\"\"},\"colorscale\":[[0.0,\"#0d0887\"],[0.1111111111111111,\"#46039f\"],[0.2222222222222222,\"#7201a8\"],[0.3333333333333333,\"#9c179e\"],[0.4444444444444444,\"#bd3786\"],[0.5555555555555556,\"#d8576b\"],[0.6666666666666666,\"#ed7953\"],[0.7777777777777778,\"#fb9f3a\"],[0.8888888888888888,\"#fdca26\"],[1.0,\"#f0f921\"]]}],\"contourcarpet\":[{\"type\":\"contourcarpet\",\"colorbar\":{\"outlinewidth\":0,\"ticks\":\"\"}}],\"contour\":[{\"type\":\"contour\",\"colorbar\":{\"outlinewidth\":0,\"ticks\":\"\"},\"colorscale\":[[0.0,\"#0d0887\"],[0.1111111111111111,\"#46039f\"],[0.2222222222222222,\"#7201a8\"],[0.3333333333333333,\"#9c179e\"],[0.4444444444444444,\"#bd3786\"],[0.5555555555555556,\"#d8576b\"],[0.6666666666666666,\"#ed7953\"],[0.7777777777777778,\"#fb9f3a\"],[0.8888888888888888,\"#fdca26\"],[1.0,\"#f0f921\"]]}],\"surface\":[{\"type\":\"surface\",\"colorbar\":{\"outlinewidth\":0,\"ticks\":\"\"},\"colorscale\":[[0.0,\"#0d0887\"],[0.1111111111111111,\"#46039f\"],[0.2222222222222222,\"#7201a8\"],[0.3333333333333333,\"#9c179e\"],[0.4444444444444444,\"#bd3786\"],[0.5555555555555556,\"#d8576b\"],[0.6666666666666666,\"#ed7953\"],[0.7777777777777778,\"#fb9f3a\"],[0.8888888888888888,\"#fdca26\"],[1.0,\"#f0f921\"]]}],\"mesh3d\":[{\"type\":\"mesh3d\",\"colorbar\":{\"outlinewidth\":0,\"ticks\":\"\"}}],\"scatter\":[{\"fillpattern\":{\"fillmode\":\"overlay\",\"size\":10,\"solidity\":0.2},\"type\":\"scatter\"}],\"parcoords\":[{\"type\":\"parcoords\",\"line\":{\"colorbar\":{\"outlinewidth\":0,\"ticks\":\"\"}}}],\"scatterpolargl\":[{\"type\":\"scatterpolargl\",\"marker\":{\"colorbar\":{\"outlinewidth\":0,\"ticks\":\"\"}}}],\"bar\":[{\"error_x\":{\"color\":\"#2a3f5f\"},\"error_y\":{\"color\":\"#2a3f5f\"},\"marker\":{\"line\":{\"color\":\"#E5ECF6\",\"width\":0.5},\"pattern\":{\"fillmode\":\"overlay\",\"size\":10,\"solidity\":0.2}},\"type\":\"bar\"}],\"scattergeo\":[{\"type\":\"scattergeo\",\"marker\":{\"colorbar\":{\"outlinewidth\":0,\"ticks\":\"\"}}}],\"scatterpolar\":[{\"type\":\"scatterpolar\",\"marker\":{\"colorbar\":{\"outlinewidth\":0,\"ticks\":\"\"}}}],\"histogram\":[{\"marker\":{\"pattern\":{\"fillmode\":\"overlay\",\"size\":10,\"solidity\":0.2}},\"type\":\"histogram\"}],\"scattergl\":[{\"type\":\"scattergl\",\"marker\":{\"colorbar\":{\"outlinewidth\":0,\"ticks\":\"\"}}}],\"scatter3d\":[{\"type\":\"scatter3d\",\"line\":{\"colorbar\":{\"outlinewidth\":0,\"ticks\":\"\"}},\"marker\":{\"colorbar\":{\"outlinewidth\":0,\"ticks\":\"\"}}}],\"scattermapbox\":[{\"type\":\"scattermapbox\",\"marker\":{\"colorbar\":{\"outlinewidth\":0,\"ticks\":\"\"}}}],\"scatterternary\":[{\"type\":\"scatterternary\",\"marker\":{\"colorbar\":{\"outlinewidth\":0,\"ticks\":\"\"}}}],\"scattercarpet\":[{\"type\":\"scattercarpet\",\"marker\":{\"colorbar\":{\"outlinewidth\":0,\"ticks\":\"\"}}}],\"carpet\":[{\"aaxis\":{\"endlinecolor\":\"#2a3f5f\",\"gridcolor\":\"white\",\"linecolor\":\"white\",\"minorgridcolor\":\"white\",\"startlinecolor\":\"#2a3f5f\"},\"baxis\":{\"endlinecolor\":\"#2a3f5f\",\"gridcolor\":\"white\",\"linecolor\":\"white\",\"minorgridcolor\":\"white\",\"startlinecolor\":\"#2a3f5f\"},\"type\":\"carpet\"}],\"table\":[{\"cells\":{\"fill\":{\"color\":\"#EBF0F8\"},\"line\":{\"color\":\"white\"}},\"header\":{\"fill\":{\"color\":\"#C8D4E3\"},\"line\":{\"color\":\"white\"}},\"type\":\"table\"}],\"barpolar\":[{\"marker\":{\"line\":{\"color\":\"#E5ECF6\",\"width\":0.5},\"pattern\":{\"fillmode\":\"overlay\",\"size\":10,\"solidity\":0.2}},\"type\":\"barpolar\"}],\"pie\":[{\"automargin\":true,\"type\":\"pie\"}]},\"layout\":{\"autotypenumbers\":\"strict\",\"colorway\":[\"#636efa\",\"#EF553B\",\"#00cc96\",\"#ab63fa\",\"#FFA15A\",\"#19d3f3\",\"#FF6692\",\"#B6E880\",\"#FF97FF\",\"#FECB52\"],\"font\":{\"color\":\"#2a3f5f\"},\"hovermode\":\"closest\",\"hoverlabel\":{\"align\":\"left\"},\"paper_bgcolor\":\"white\",\"plot_bgcolor\":\"#E5ECF6\",\"polar\":{\"bgcolor\":\"#E5ECF6\",\"angularaxis\":{\"gridcolor\":\"white\",\"linecolor\":\"white\",\"ticks\":\"\"},\"radialaxis\":{\"gridcolor\":\"white\",\"linecolor\":\"white\",\"ticks\":\"\"}},\"ternary\":{\"bgcolor\":\"#E5ECF6\",\"aaxis\":{\"gridcolor\":\"white\",\"linecolor\":\"white\",\"ticks\":\"\"},\"baxis\":{\"gridcolor\":\"white\",\"linecolor\":\"white\",\"ticks\":\"\"},\"caxis\":{\"gridcolor\":\"white\",\"linecolor\":\"white\",\"ticks\":\"\"}},\"coloraxis\":{\"colorbar\":{\"outlinewidth\":0,\"ticks\":\"\"}},\"colorscale\":{\"sequential\":[[0.0,\"#0d0887\"],[0.1111111111111111,\"#46039f\"],[0.2222222222222222,\"#7201a8\"],[0.3333333333333333,\"#9c179e\"],[0.4444444444444444,\"#bd3786\"],[0.5555555555555556,\"#d8576b\"],[0.6666666666666666,\"#ed7953\"],[0.7777777777777778,\"#fb9f3a\"],[0.8888888888888888,\"#fdca26\"],[1.0,\"#f0f921\"]],\"sequentialminus\":[[0.0,\"#0d0887\"],[0.1111111111111111,\"#46039f\"],[0.2222222222222222,\"#7201a8\"],[0.3333333333333333,\"#9c179e\"],[0.4444444444444444,\"#bd3786\"],[0.5555555555555556,\"#d8576b\"],[0.6666666666666666,\"#ed7953\"],[0.7777777777777778,\"#fb9f3a\"],[0.8888888888888888,\"#fdca26\"],[1.0,\"#f0f921\"]],\"diverging\":[[0,\"#8e0152\"],[0.1,\"#c51b7d\"],[0.2,\"#de77ae\"],[0.3,\"#f1b6da\"],[0.4,\"#fde0ef\"],[0.5,\"#f7f7f7\"],[0.6,\"#e6f5d0\"],[0.7,\"#b8e186\"],[0.8,\"#7fbc41\"],[0.9,\"#4d9221\"],[1,\"#276419\"]]},\"xaxis\":{\"gridcolor\":\"white\",\"linecolor\":\"white\",\"ticks\":\"\",\"title\":{\"standoff\":15},\"zerolinecolor\":\"white\",\"automargin\":true,\"zerolinewidth\":2},\"yaxis\":{\"gridcolor\":\"white\",\"linecolor\":\"white\",\"ticks\":\"\",\"title\":{\"standoff\":15},\"zerolinecolor\":\"white\",\"automargin\":true,\"zerolinewidth\":2},\"scene\":{\"xaxis\":{\"backgroundcolor\":\"#E5ECF6\",\"gridcolor\":\"white\",\"linecolor\":\"white\",\"showbackground\":true,\"ticks\":\"\",\"zerolinecolor\":\"white\",\"gridwidth\":2},\"yaxis\":{\"backgroundcolor\":\"#E5ECF6\",\"gridcolor\":\"white\",\"linecolor\":\"white\",\"showbackground\":true,\"ticks\":\"\",\"zerolinecolor\":\"white\",\"gridwidth\":2},\"zaxis\":{\"backgroundcolor\":\"#E5ECF6\",\"gridcolor\":\"white\",\"linecolor\":\"white\",\"showbackground\":true,\"ticks\":\"\",\"zerolinecolor\":\"white\",\"gridwidth\":2}},\"shapedefaults\":{\"line\":{\"color\":\"#2a3f5f\"}},\"annotationdefaults\":{\"arrowcolor\":\"#2a3f5f\",\"arrowhead\":0,\"arrowwidth\":1},\"geo\":{\"bgcolor\":\"white\",\"landcolor\":\"#E5ECF6\",\"subunitcolor\":\"white\",\"showland\":true,\"showlakes\":true,\"lakecolor\":\"white\"},\"title\":{\"x\":0.05},\"mapbox\":{\"style\":\"light\"}}},\"xaxis\":{\"anchor\":\"y\",\"domain\":[0.0,1.0],\"scaleanchor\":\"y\",\"constrain\":\"domain\",\"title\":{\"text\":\"Token\"},\"tickvals\":[0,1,2,3,4,5,6,7,8,9,10,11,12,13,14,15,16,17,18,19,20,21,22,23,24,25,26,27,28,29,30,31,32,33,34,35,36,37,38,39,40,41,42,43,44,45,46,47,48,49,50,51,52,53,54,55,56,57,58,59,60,61],\"ticktext\":[\"\\u2581\",\"\\u2581Ah\",\",\",\"\\u2581a\",\"\\u2581simple\",\"\\u2581yet\",\"\\u2581satisfying\",\"\\u2581request\",\"!\",\"\\u2581Yes\",\",\",\"\\u2581you\",\"\\u2581are\",\"\\u2581correct\",\".\",\"\\u2581Mon\",\"keys\",\"\\u2581are\",\"\\u2581indeed\",\"\\u2581class\",\"ified\",\"\\u2581as\",\"\\u2581prim\",\"ates\",\",\",\"\\u2581a\",\"\\u2581group\",\"\\u2581of\",\"\\u2581m\",\"amm\",\"als\",\"\\u2581that\",\"\\u2581includes\",\"\\u2581lem\",\"urs\",\",\",\"\\u2581l\",\"or\",\"ises\",\",\",\"\\u2581tar\",\"si\",\"ers\",\",\",\"\\u2581and\",\"\\u2581other\",\"\\u2581relatives\",\"\\u2581of\",\"\\u2581humans\",\".\",\"\\u2581Well\",\"\\u2581done\",\"!\",\"\\u2581\",\"\\u003c0xF0\\u003e\",\"\\u003c0x9F\\u003e\",\"\\u003c0x90\\u003e\",\"\\u003c0x92\\u003e\",\"\\u003c0xF0\\u003e\",\"\\u003c0x9F\\u003e\",\"\\u003c0x91\\u003e\",\"\\u003c0x8F\\u003e\"]},\"yaxis\":{\"anchor\":\"x\",\"domain\":[0.0,1.0],\"autorange\":\"reversed\",\"constrain\":\"domain\"},\"coloraxis\":{\"colorscale\":[[0.0,\"rgb(165,0,38)\"],[0.1,\"rgb(215,48,39)\"],[0.2,\"rgb(244,109,67)\"],[0.3,\"rgb(253,174,97)\"],[0.4,\"rgb(254,224,139)\"],[0.5,\"rgb(255,255,191)\"],[0.6,\"rgb(217,239,139)\"],[0.7,\"rgb(166,217,106)\"],[0.8,\"rgb(102,189,99)\"],[0.9,\"rgb(26,152,80)\"],[1.0,\"rgb(0,104,55)\"]],\"cmin\":-3,\"cmax\":3},\"margin\":{\"t\":60},\"width\":1000,\"height\":600},                        {\"responsive\": true}                    ).then(function(){\n",
       "                            \n",
       "var gd = document.getElementById('5487e0c9-1105-4667-85aa-0684afb8ffd9');\n",
       "var x = new MutationObserver(function (mutations, observer) {{\n",
       "        var display = window.getComputedStyle(gd).display;\n",
       "        if (!display || display === 'none') {{\n",
       "            console.log([gd, 'removed!']);\n",
       "            Plotly.purge(gd);\n",
       "            observer.disconnect();\n",
       "        }}\n",
       "}});\n",
       "\n",
       "// Listen for the removal of the full notebook cells\n",
       "var notebookContainer = gd.closest('#notebook-container');\n",
       "if (notebookContainer) {{\n",
       "    x.observe(notebookContainer, {childList: true});\n",
       "}}\n",
       "\n",
       "// Listen for the clearing of the current output cell\n",
       "var outputEl = gd.closest('.output');\n",
       "if (outputEl) {{\n",
       "    x.observe(outputEl, {childList: true});\n",
       "}}\n",
       "\n",
       "                        })                };                });            </script>        </div>"
      ]
     },
     "metadata": {},
     "output_type": "display_data"
    }
   ],
   "source": [
    "from lmdoctor.plot_utils import plot_projection_heatmap\n",
    "tokens = tokenizer.tokenize(text)\n",
    "plot_projection_heatmap(all_projs, tokens, lastn_tokens_to_plot=max_new_tokens, saturate_at=3)"
   ]
  },
  {
   "cell_type": "code",
   "execution_count": 32,
   "id": "379fe7a4-3698-4594-a3d3-b8d74491c58b",
   "metadata": {},
   "outputs": [
    {
     "name": "stderr",
     "output_type": "stream",
     "text": [
      "WARNING - It is generally recommended to use detect_by_classifier instead of detect_by_layer_avg. To do so, use self.tune() to train a classifier and then pass the classifier to detect.\n"
     ]
    },
    {
     "data": {
      "application/vnd.plotly.v1+json": {
       "config": {
        "plotlyServerURL": "https://plot.ly"
       },
       "data": [
        {
         "coloraxis": "coloraxis",
         "hovertemplate": "Token: %{x}<br>y: %{y}<br>color: %{z}<extra></extra>",
         "name": "0",
         "type": "heatmap",
         "xaxis": "x",
         "yaxis": "y",
         "z": [
          [
           2.4609375,
           0.87451171875,
           0.78857421875,
           1.314453125,
           1.00390625,
           0.12176513671875,
           0.35302734375,
           0.23486328125,
           0.245361328125,
           0.810546875,
           1.4501953125,
           1.228515625,
           1.20703125,
           0.1566162109375,
           0.37744140625,
           0.78955078125,
           1.134765625,
           0.7373046875,
           0.32470703125,
           -0.001068115234375,
           0.89501953125,
           0.76806640625,
           1.5380859375,
           1.181640625,
           1.2607421875,
           0.91455078125,
           1.462890625,
           -0.1978759765625,
           0.6572265625,
           1.6220703125,
           1.6298828125,
           0.841796875,
           -0.07073974609375,
           0.7373046875,
           1.41015625,
           0.77685546875,
           0.654296875,
           0.99609375,
           -0.112060546875,
           0.9384765625,
           0.7265625,
           0.85009765625,
           1.2158203125,
           0.9609375,
           0.23095703125,
           0.65625,
           0.09161376953125,
           -0.08837890625,
           -0.2161865234375,
           0.09796142578125,
           0.1397705078125,
           0.830078125,
           0.6455078125,
           0.3056640625,
           0.432373046875,
           0.30419921875,
           0.29443359375,
           0.41796875,
           0.19873046875,
           0.1439208984375,
           -0.2353515625,
           0.001373291015625,
           0.4150390625,
           -0.2144775390625,
           -0.043487548828125,
           0.16357421875,
           0.0916748046875,
           0.251220703125,
           -0.207763671875
          ]
         ]
        }
       ],
       "layout": {
        "autosize": true,
        "coloraxis": {
         "cmax": 2.4609375,
         "cmin": -2.4609375,
         "colorscale": [
          [
           0,
           "rgb(165,0,38)"
          ],
          [
           0.1,
           "rgb(215,48,39)"
          ],
          [
           0.2,
           "rgb(244,109,67)"
          ],
          [
           0.3,
           "rgb(253,174,97)"
          ],
          [
           0.4,
           "rgb(254,224,139)"
          ],
          [
           0.5,
           "rgb(255,255,191)"
          ],
          [
           0.6,
           "rgb(217,239,139)"
          ],
          [
           0.7,
           "rgb(166,217,106)"
          ],
          [
           0.8,
           "rgb(102,189,99)"
          ],
          [
           0.9,
           "rgb(26,152,80)"
          ],
          [
           1,
           "rgb(0,104,55)"
          ]
         ]
        },
        "margin": {
         "t": 60
        },
        "template": {
         "data": {
          "bar": [
           {
            "error_x": {
             "color": "#2a3f5f"
            },
            "error_y": {
             "color": "#2a3f5f"
            },
            "marker": {
             "line": {
              "color": "#E5ECF6",
              "width": 0.5
             },
             "pattern": {
              "fillmode": "overlay",
              "size": 10,
              "solidity": 0.2
             }
            },
            "type": "bar"
           }
          ],
          "barpolar": [
           {
            "marker": {
             "line": {
              "color": "#E5ECF6",
              "width": 0.5
             },
             "pattern": {
              "fillmode": "overlay",
              "size": 10,
              "solidity": 0.2
             }
            },
            "type": "barpolar"
           }
          ],
          "carpet": [
           {
            "aaxis": {
             "endlinecolor": "#2a3f5f",
             "gridcolor": "white",
             "linecolor": "white",
             "minorgridcolor": "white",
             "startlinecolor": "#2a3f5f"
            },
            "baxis": {
             "endlinecolor": "#2a3f5f",
             "gridcolor": "white",
             "linecolor": "white",
             "minorgridcolor": "white",
             "startlinecolor": "#2a3f5f"
            },
            "type": "carpet"
           }
          ],
          "choropleth": [
           {
            "colorbar": {
             "outlinewidth": 0,
             "ticks": ""
            },
            "type": "choropleth"
           }
          ],
          "contour": [
           {
            "colorbar": {
             "outlinewidth": 0,
             "ticks": ""
            },
            "colorscale": [
             [
              0,
              "#0d0887"
             ],
             [
              0.1111111111111111,
              "#46039f"
             ],
             [
              0.2222222222222222,
              "#7201a8"
             ],
             [
              0.3333333333333333,
              "#9c179e"
             ],
             [
              0.4444444444444444,
              "#bd3786"
             ],
             [
              0.5555555555555556,
              "#d8576b"
             ],
             [
              0.6666666666666666,
              "#ed7953"
             ],
             [
              0.7777777777777778,
              "#fb9f3a"
             ],
             [
              0.8888888888888888,
              "#fdca26"
             ],
             [
              1,
              "#f0f921"
             ]
            ],
            "type": "contour"
           }
          ],
          "contourcarpet": [
           {
            "colorbar": {
             "outlinewidth": 0,
             "ticks": ""
            },
            "type": "contourcarpet"
           }
          ],
          "heatmap": [
           {
            "colorbar": {
             "outlinewidth": 0,
             "ticks": ""
            },
            "colorscale": [
             [
              0,
              "#0d0887"
             ],
             [
              0.1111111111111111,
              "#46039f"
             ],
             [
              0.2222222222222222,
              "#7201a8"
             ],
             [
              0.3333333333333333,
              "#9c179e"
             ],
             [
              0.4444444444444444,
              "#bd3786"
             ],
             [
              0.5555555555555556,
              "#d8576b"
             ],
             [
              0.6666666666666666,
              "#ed7953"
             ],
             [
              0.7777777777777778,
              "#fb9f3a"
             ],
             [
              0.8888888888888888,
              "#fdca26"
             ],
             [
              1,
              "#f0f921"
             ]
            ],
            "type": "heatmap"
           }
          ],
          "heatmapgl": [
           {
            "colorbar": {
             "outlinewidth": 0,
             "ticks": ""
            },
            "colorscale": [
             [
              0,
              "#0d0887"
             ],
             [
              0.1111111111111111,
              "#46039f"
             ],
             [
              0.2222222222222222,
              "#7201a8"
             ],
             [
              0.3333333333333333,
              "#9c179e"
             ],
             [
              0.4444444444444444,
              "#bd3786"
             ],
             [
              0.5555555555555556,
              "#d8576b"
             ],
             [
              0.6666666666666666,
              "#ed7953"
             ],
             [
              0.7777777777777778,
              "#fb9f3a"
             ],
             [
              0.8888888888888888,
              "#fdca26"
             ],
             [
              1,
              "#f0f921"
             ]
            ],
            "type": "heatmapgl"
           }
          ],
          "histogram": [
           {
            "marker": {
             "pattern": {
              "fillmode": "overlay",
              "size": 10,
              "solidity": 0.2
             }
            },
            "type": "histogram"
           }
          ],
          "histogram2d": [
           {
            "colorbar": {
             "outlinewidth": 0,
             "ticks": ""
            },
            "colorscale": [
             [
              0,
              "#0d0887"
             ],
             [
              0.1111111111111111,
              "#46039f"
             ],
             [
              0.2222222222222222,
              "#7201a8"
             ],
             [
              0.3333333333333333,
              "#9c179e"
             ],
             [
              0.4444444444444444,
              "#bd3786"
             ],
             [
              0.5555555555555556,
              "#d8576b"
             ],
             [
              0.6666666666666666,
              "#ed7953"
             ],
             [
              0.7777777777777778,
              "#fb9f3a"
             ],
             [
              0.8888888888888888,
              "#fdca26"
             ],
             [
              1,
              "#f0f921"
             ]
            ],
            "type": "histogram2d"
           }
          ],
          "histogram2dcontour": [
           {
            "colorbar": {
             "outlinewidth": 0,
             "ticks": ""
            },
            "colorscale": [
             [
              0,
              "#0d0887"
             ],
             [
              0.1111111111111111,
              "#46039f"
             ],
             [
              0.2222222222222222,
              "#7201a8"
             ],
             [
              0.3333333333333333,
              "#9c179e"
             ],
             [
              0.4444444444444444,
              "#bd3786"
             ],
             [
              0.5555555555555556,
              "#d8576b"
             ],
             [
              0.6666666666666666,
              "#ed7953"
             ],
             [
              0.7777777777777778,
              "#fb9f3a"
             ],
             [
              0.8888888888888888,
              "#fdca26"
             ],
             [
              1,
              "#f0f921"
             ]
            ],
            "type": "histogram2dcontour"
           }
          ],
          "mesh3d": [
           {
            "colorbar": {
             "outlinewidth": 0,
             "ticks": ""
            },
            "type": "mesh3d"
           }
          ],
          "parcoords": [
           {
            "line": {
             "colorbar": {
              "outlinewidth": 0,
              "ticks": ""
             }
            },
            "type": "parcoords"
           }
          ],
          "pie": [
           {
            "automargin": true,
            "type": "pie"
           }
          ],
          "scatter": [
           {
            "fillpattern": {
             "fillmode": "overlay",
             "size": 10,
             "solidity": 0.2
            },
            "type": "scatter"
           }
          ],
          "scatter3d": [
           {
            "line": {
             "colorbar": {
              "outlinewidth": 0,
              "ticks": ""
             }
            },
            "marker": {
             "colorbar": {
              "outlinewidth": 0,
              "ticks": ""
             }
            },
            "type": "scatter3d"
           }
          ],
          "scattercarpet": [
           {
            "marker": {
             "colorbar": {
              "outlinewidth": 0,
              "ticks": ""
             }
            },
            "type": "scattercarpet"
           }
          ],
          "scattergeo": [
           {
            "marker": {
             "colorbar": {
              "outlinewidth": 0,
              "ticks": ""
             }
            },
            "type": "scattergeo"
           }
          ],
          "scattergl": [
           {
            "marker": {
             "colorbar": {
              "outlinewidth": 0,
              "ticks": ""
             }
            },
            "type": "scattergl"
           }
          ],
          "scattermapbox": [
           {
            "marker": {
             "colorbar": {
              "outlinewidth": 0,
              "ticks": ""
             }
            },
            "type": "scattermapbox"
           }
          ],
          "scatterpolar": [
           {
            "marker": {
             "colorbar": {
              "outlinewidth": 0,
              "ticks": ""
             }
            },
            "type": "scatterpolar"
           }
          ],
          "scatterpolargl": [
           {
            "marker": {
             "colorbar": {
              "outlinewidth": 0,
              "ticks": ""
             }
            },
            "type": "scatterpolargl"
           }
          ],
          "scatterternary": [
           {
            "marker": {
             "colorbar": {
              "outlinewidth": 0,
              "ticks": ""
             }
            },
            "type": "scatterternary"
           }
          ],
          "surface": [
           {
            "colorbar": {
             "outlinewidth": 0,
             "ticks": ""
            },
            "colorscale": [
             [
              0,
              "#0d0887"
             ],
             [
              0.1111111111111111,
              "#46039f"
             ],
             [
              0.2222222222222222,
              "#7201a8"
             ],
             [
              0.3333333333333333,
              "#9c179e"
             ],
             [
              0.4444444444444444,
              "#bd3786"
             ],
             [
              0.5555555555555556,
              "#d8576b"
             ],
             [
              0.6666666666666666,
              "#ed7953"
             ],
             [
              0.7777777777777778,
              "#fb9f3a"
             ],
             [
              0.8888888888888888,
              "#fdca26"
             ],
             [
              1,
              "#f0f921"
             ]
            ],
            "type": "surface"
           }
          ],
          "table": [
           {
            "cells": {
             "fill": {
              "color": "#EBF0F8"
             },
             "line": {
              "color": "white"
             }
            },
            "header": {
             "fill": {
              "color": "#C8D4E3"
             },
             "line": {
              "color": "white"
             }
            },
            "type": "table"
           }
          ]
         },
         "layout": {
          "annotationdefaults": {
           "arrowcolor": "#2a3f5f",
           "arrowhead": 0,
           "arrowwidth": 1
          },
          "autotypenumbers": "strict",
          "coloraxis": {
           "colorbar": {
            "outlinewidth": 0,
            "ticks": ""
           }
          },
          "colorscale": {
           "diverging": [
            [
             0,
             "#8e0152"
            ],
            [
             0.1,
             "#c51b7d"
            ],
            [
             0.2,
             "#de77ae"
            ],
            [
             0.3,
             "#f1b6da"
            ],
            [
             0.4,
             "#fde0ef"
            ],
            [
             0.5,
             "#f7f7f7"
            ],
            [
             0.6,
             "#e6f5d0"
            ],
            [
             0.7,
             "#b8e186"
            ],
            [
             0.8,
             "#7fbc41"
            ],
            [
             0.9,
             "#4d9221"
            ],
            [
             1,
             "#276419"
            ]
           ],
           "sequential": [
            [
             0,
             "#0d0887"
            ],
            [
             0.1111111111111111,
             "#46039f"
            ],
            [
             0.2222222222222222,
             "#7201a8"
            ],
            [
             0.3333333333333333,
             "#9c179e"
            ],
            [
             0.4444444444444444,
             "#bd3786"
            ],
            [
             0.5555555555555556,
             "#d8576b"
            ],
            [
             0.6666666666666666,
             "#ed7953"
            ],
            [
             0.7777777777777778,
             "#fb9f3a"
            ],
            [
             0.8888888888888888,
             "#fdca26"
            ],
            [
             1,
             "#f0f921"
            ]
           ],
           "sequentialminus": [
            [
             0,
             "#0d0887"
            ],
            [
             0.1111111111111111,
             "#46039f"
            ],
            [
             0.2222222222222222,
             "#7201a8"
            ],
            [
             0.3333333333333333,
             "#9c179e"
            ],
            [
             0.4444444444444444,
             "#bd3786"
            ],
            [
             0.5555555555555556,
             "#d8576b"
            ],
            [
             0.6666666666666666,
             "#ed7953"
            ],
            [
             0.7777777777777778,
             "#fb9f3a"
            ],
            [
             0.8888888888888888,
             "#fdca26"
            ],
            [
             1,
             "#f0f921"
            ]
           ]
          },
          "colorway": [
           "#636efa",
           "#EF553B",
           "#00cc96",
           "#ab63fa",
           "#FFA15A",
           "#19d3f3",
           "#FF6692",
           "#B6E880",
           "#FF97FF",
           "#FECB52"
          ],
          "font": {
           "color": "#2a3f5f"
          },
          "geo": {
           "bgcolor": "white",
           "lakecolor": "white",
           "landcolor": "#E5ECF6",
           "showlakes": true,
           "showland": true,
           "subunitcolor": "white"
          },
          "hoverlabel": {
           "align": "left"
          },
          "hovermode": "closest",
          "mapbox": {
           "style": "light"
          },
          "paper_bgcolor": "white",
          "plot_bgcolor": "#E5ECF6",
          "polar": {
           "angularaxis": {
            "gridcolor": "white",
            "linecolor": "white",
            "ticks": ""
           },
           "bgcolor": "#E5ECF6",
           "radialaxis": {
            "gridcolor": "white",
            "linecolor": "white",
            "ticks": ""
           }
          },
          "scene": {
           "xaxis": {
            "backgroundcolor": "#E5ECF6",
            "gridcolor": "white",
            "gridwidth": 2,
            "linecolor": "white",
            "showbackground": true,
            "ticks": "",
            "zerolinecolor": "white"
           },
           "yaxis": {
            "backgroundcolor": "#E5ECF6",
            "gridcolor": "white",
            "gridwidth": 2,
            "linecolor": "white",
            "showbackground": true,
            "ticks": "",
            "zerolinecolor": "white"
           },
           "zaxis": {
            "backgroundcolor": "#E5ECF6",
            "gridcolor": "white",
            "gridwidth": 2,
            "linecolor": "white",
            "showbackground": true,
            "ticks": "",
            "zerolinecolor": "white"
           }
          },
          "shapedefaults": {
           "line": {
            "color": "#2a3f5f"
           }
          },
          "ternary": {
           "aaxis": {
            "gridcolor": "white",
            "linecolor": "white",
            "ticks": ""
           },
           "baxis": {
            "gridcolor": "white",
            "linecolor": "white",
            "ticks": ""
           },
           "bgcolor": "#E5ECF6",
           "caxis": {
            "gridcolor": "white",
            "linecolor": "white",
            "ticks": ""
           }
          },
          "title": {
           "x": 0.05
          },
          "xaxis": {
           "automargin": true,
           "gridcolor": "white",
           "linecolor": "white",
           "ticks": "",
           "title": {
            "standoff": 15
           },
           "zerolinecolor": "white",
           "zerolinewidth": 2
          },
          "yaxis": {
           "automargin": true,
           "gridcolor": "white",
           "linecolor": "white",
           "ticks": "",
           "title": {
            "standoff": 15
           },
           "zerolinecolor": "white",
           "zerolinewidth": 2
          }
         }
        },
        "xaxis": {
         "anchor": "y",
         "autorange": true,
         "constrain": "domain",
         "domain": [
          0,
          1
         ],
         "range": [
          -0.5,
          68.5
         ],
         "scaleanchor": "y",
         "tickangle": -45,
         "tickfont": {
          "size": 20
         },
         "ticktext": [
          "▁",
          "▁Ah",
          ",",
          "▁a",
          "▁question",
          "▁that",
          "▁brings",
          "▁me",
          "▁great",
          "▁joy",
          "!",
          "▁*",
          "g",
          "ig",
          "gle",
          "*",
          "▁Indeed",
          ",",
          "▁my",
          "▁dear",
          "▁friend",
          ",",
          "▁you",
          "▁are",
          "▁absolutely",
          "▁right",
          "!",
          "▁Mon",
          "keys",
          "▁are",
          "▁most",
          "▁definitely",
          "▁prim",
          "ates",
          "!",
          "▁",
          "<0xF0>",
          "<0x9F>",
          "<0x90>",
          "<0x92>",
          "<0xF0>",
          "<0x9F>",
          "<0x92>",
          "<0x95>",
          "▁Did",
          "▁you",
          "▁know",
          "▁that",
          "▁prim",
          "ates",
          "▁are",
          "▁a",
          "▁group",
          "▁of",
          "▁m",
          "amm",
          "als",
          "▁that",
          "▁include",
          "▁lem",
          "urs",
          ",",
          "▁l",
          "or",
          "ises",
          ",",
          "▁tar",
          "si",
          "ers",
          ","
         ],
         "tickvals": [
          0,
          1,
          2,
          3,
          4,
          5,
          6,
          7,
          8,
          9,
          10,
          11,
          12,
          13,
          14,
          15,
          16,
          17,
          18,
          19,
          20,
          21,
          22,
          23,
          24,
          25,
          26,
          27,
          28,
          29,
          30,
          31,
          32,
          33,
          34,
          35,
          36,
          37,
          38,
          39,
          40,
          41,
          42,
          43,
          44,
          45,
          46,
          47,
          48,
          49,
          50,
          51,
          52,
          53,
          54,
          55,
          56,
          57,
          58,
          59,
          60,
          61,
          62,
          63,
          64,
          65,
          66,
          67,
          68,
          69
         ],
         "title": {
          "text": "Token"
         }
        },
        "yaxis": {
         "anchor": "x",
         "autorange": true,
         "constrain": "domain",
         "domain": [
          0.47308959156785246,
          0.5269104084321475
         ],
         "range": [
          0.5,
          -0.5
         ]
        }
       }
      },
      "image/png": "[encoded data removed]",
      "text/html": [
       "<div>                            <div id=\"2641f97f-fd97-4541-99e0-f61823baead0\" class=\"plotly-graph-div\" style=\"height:525px; width:100%;\"></div>            <script type=\"text/javascript\">                require([\"plotly\"], function(Plotly) {                    window.PLOTLYENV=window.PLOTLYENV || {};                                    if (document.getElementById(\"2641f97f-fd97-4541-99e0-f61823baead0\")) {                    Plotly.newPlot(                        \"2641f97f-fd97-4541-99e0-f61823baead0\",                        [{\"coloraxis\":\"coloraxis\",\"name\":\"0\",\"z\":[[2.4609375,0.87451171875,0.78857421875,1.314453125,1.00390625,0.12176513671875,0.35302734375,0.23486328125,0.245361328125,0.810546875,1.4501953125,1.228515625,1.20703125,0.1566162109375,0.37744140625,0.78955078125,1.134765625,0.7373046875,0.32470703125,-0.001068115234375,0.89501953125,0.76806640625,1.5380859375,1.181640625,1.2607421875,0.91455078125,1.462890625,-0.1978759765625,0.6572265625,1.6220703125,1.6298828125,0.841796875,-0.07073974609375,0.7373046875,1.41015625,0.77685546875,0.654296875,0.99609375,-0.112060546875,0.9384765625,0.7265625,0.85009765625,1.2158203125,0.9609375,0.23095703125,0.65625,0.09161376953125,-0.08837890625,-0.2161865234375,0.09796142578125,0.1397705078125,0.830078125,0.6455078125,0.3056640625,0.432373046875,0.30419921875,0.29443359375,0.41796875,0.19873046875,0.1439208984375,-0.2353515625,0.001373291015625,0.4150390625,-0.2144775390625,-0.043487548828125,0.16357421875,0.0916748046875,0.251220703125,-0.207763671875]],\"type\":\"heatmap\",\"xaxis\":\"x\",\"yaxis\":\"y\",\"hovertemplate\":\"Token: %{x}\\u003cbr\\u003ey: %{y}\\u003cbr\\u003ecolor: %{z}\\u003cextra\\u003e\\u003c\\u002fextra\\u003e\"}],                        {\"template\":{\"data\":{\"histogram2dcontour\":[{\"type\":\"histogram2dcontour\",\"colorbar\":{\"outlinewidth\":0,\"ticks\":\"\"},\"colorscale\":[[0.0,\"#0d0887\"],[0.1111111111111111,\"#46039f\"],[0.2222222222222222,\"#7201a8\"],[0.3333333333333333,\"#9c179e\"],[0.4444444444444444,\"#bd3786\"],[0.5555555555555556,\"#d8576b\"],[0.6666666666666666,\"#ed7953\"],[0.7777777777777778,\"#fb9f3a\"],[0.8888888888888888,\"#fdca26\"],[1.0,\"#f0f921\"]]}],\"choropleth\":[{\"type\":\"choropleth\",\"colorbar\":{\"outlinewidth\":0,\"ticks\":\"\"}}],\"histogram2d\":[{\"type\":\"histogram2d\",\"colorbar\":{\"outlinewidth\":0,\"ticks\":\"\"},\"colorscale\":[[0.0,\"#0d0887\"],[0.1111111111111111,\"#46039f\"],[0.2222222222222222,\"#7201a8\"],[0.3333333333333333,\"#9c179e\"],[0.4444444444444444,\"#bd3786\"],[0.5555555555555556,\"#d8576b\"],[0.6666666666666666,\"#ed7953\"],[0.7777777777777778,\"#fb9f3a\"],[0.8888888888888888,\"#fdca26\"],[1.0,\"#f0f921\"]]}],\"heatmap\":[{\"type\":\"heatmap\",\"colorbar\":{\"outlinewidth\":0,\"ticks\":\"\"},\"colorscale\":[[0.0,\"#0d0887\"],[0.1111111111111111,\"#46039f\"],[0.2222222222222222,\"#7201a8\"],[0.3333333333333333,\"#9c179e\"],[0.4444444444444444,\"#bd3786\"],[0.5555555555555556,\"#d8576b\"],[0.6666666666666666,\"#ed7953\"],[0.7777777777777778,\"#fb9f3a\"],[0.8888888888888888,\"#fdca26\"],[1.0,\"#f0f921\"]]}],\"heatmapgl\":[{\"type\":\"heatmapgl\",\"colorbar\":{\"outlinewidth\":0,\"ticks\":\"\"},\"colorscale\":[[0.0,\"#0d0887\"],[0.1111111111111111,\"#46039f\"],[0.2222222222222222,\"#7201a8\"],[0.3333333333333333,\"#9c179e\"],[0.4444444444444444,\"#bd3786\"],[0.5555555555555556,\"#d8576b\"],[0.6666666666666666,\"#ed7953\"],[0.7777777777777778,\"#fb9f3a\"],[0.8888888888888888,\"#fdca26\"],[1.0,\"#f0f921\"]]}],\"contourcarpet\":[{\"type\":\"contourcarpet\",\"colorbar\":{\"outlinewidth\":0,\"ticks\":\"\"}}],\"contour\":[{\"type\":\"contour\",\"colorbar\":{\"outlinewidth\":0,\"ticks\":\"\"},\"colorscale\":[[0.0,\"#0d0887\"],[0.1111111111111111,\"#46039f\"],[0.2222222222222222,\"#7201a8\"],[0.3333333333333333,\"#9c179e\"],[0.4444444444444444,\"#bd3786\"],[0.5555555555555556,\"#d8576b\"],[0.6666666666666666,\"#ed7953\"],[0.7777777777777778,\"#fb9f3a\"],[0.8888888888888888,\"#fdca26\"],[1.0,\"#f0f921\"]]}],\"surface\":[{\"type\":\"surface\",\"colorbar\":{\"outlinewidth\":0,\"ticks\":\"\"},\"colorscale\":[[0.0,\"#0d0887\"],[0.1111111111111111,\"#46039f\"],[0.2222222222222222,\"#7201a8\"],[0.3333333333333333,\"#9c179e\"],[0.4444444444444444,\"#bd3786\"],[0.5555555555555556,\"#d8576b\"],[0.6666666666666666,\"#ed7953\"],[0.7777777777777778,\"#fb9f3a\"],[0.8888888888888888,\"#fdca26\"],[1.0,\"#f0f921\"]]}],\"mesh3d\":[{\"type\":\"mesh3d\",\"colorbar\":{\"outlinewidth\":0,\"ticks\":\"\"}}],\"scatter\":[{\"fillpattern\":{\"fillmode\":\"overlay\",\"size\":10,\"solidity\":0.2},\"type\":\"scatter\"}],\"parcoords\":[{\"type\":\"parcoords\",\"line\":{\"colorbar\":{\"outlinewidth\":0,\"ticks\":\"\"}}}],\"scatterpolargl\":[{\"type\":\"scatterpolargl\",\"marker\":{\"colorbar\":{\"outlinewidth\":0,\"ticks\":\"\"}}}],\"bar\":[{\"error_x\":{\"color\":\"#2a3f5f\"},\"error_y\":{\"color\":\"#2a3f5f\"},\"marker\":{\"line\":{\"color\":\"#E5ECF6\",\"width\":0.5},\"pattern\":{\"fillmode\":\"overlay\",\"size\":10,\"solidity\":0.2}},\"type\":\"bar\"}],\"scattergeo\":[{\"type\":\"scattergeo\",\"marker\":{\"colorbar\":{\"outlinewidth\":0,\"ticks\":\"\"}}}],\"scatterpolar\":[{\"type\":\"scatterpolar\",\"marker\":{\"colorbar\":{\"outlinewidth\":0,\"ticks\":\"\"}}}],\"histogram\":[{\"marker\":{\"pattern\":{\"fillmode\":\"overlay\",\"size\":10,\"solidity\":0.2}},\"type\":\"histogram\"}],\"scattergl\":[{\"type\":\"scattergl\",\"marker\":{\"colorbar\":{\"outlinewidth\":0,\"ticks\":\"\"}}}],\"scatter3d\":[{\"type\":\"scatter3d\",\"line\":{\"colorbar\":{\"outlinewidth\":0,\"ticks\":\"\"}},\"marker\":{\"colorbar\":{\"outlinewidth\":0,\"ticks\":\"\"}}}],\"scattermapbox\":[{\"type\":\"scattermapbox\",\"marker\":{\"colorbar\":{\"outlinewidth\":0,\"ticks\":\"\"}}}],\"scatterternary\":[{\"type\":\"scatterternary\",\"marker\":{\"colorbar\":{\"outlinewidth\":0,\"ticks\":\"\"}}}],\"scattercarpet\":[{\"type\":\"scattercarpet\",\"marker\":{\"colorbar\":{\"outlinewidth\":0,\"ticks\":\"\"}}}],\"carpet\":[{\"aaxis\":{\"endlinecolor\":\"#2a3f5f\",\"gridcolor\":\"white\",\"linecolor\":\"white\",\"minorgridcolor\":\"white\",\"startlinecolor\":\"#2a3f5f\"},\"baxis\":{\"endlinecolor\":\"#2a3f5f\",\"gridcolor\":\"white\",\"linecolor\":\"white\",\"minorgridcolor\":\"white\",\"startlinecolor\":\"#2a3f5f\"},\"type\":\"carpet\"}],\"table\":[{\"cells\":{\"fill\":{\"color\":\"#EBF0F8\"},\"line\":{\"color\":\"white\"}},\"header\":{\"fill\":{\"color\":\"#C8D4E3\"},\"line\":{\"color\":\"white\"}},\"type\":\"table\"}],\"barpolar\":[{\"marker\":{\"line\":{\"color\":\"#E5ECF6\",\"width\":0.5},\"pattern\":{\"fillmode\":\"overlay\",\"size\":10,\"solidity\":0.2}},\"type\":\"barpolar\"}],\"pie\":[{\"automargin\":true,\"type\":\"pie\"}]},\"layout\":{\"autotypenumbers\":\"strict\",\"colorway\":[\"#636efa\",\"#EF553B\",\"#00cc96\",\"#ab63fa\",\"#FFA15A\",\"#19d3f3\",\"#FF6692\",\"#B6E880\",\"#FF97FF\",\"#FECB52\"],\"font\":{\"color\":\"#2a3f5f\"},\"hovermode\":\"closest\",\"hoverlabel\":{\"align\":\"left\"},\"paper_bgcolor\":\"white\",\"plot_bgcolor\":\"#E5ECF6\",\"polar\":{\"bgcolor\":\"#E5ECF6\",\"angularaxis\":{\"gridcolor\":\"white\",\"linecolor\":\"white\",\"ticks\":\"\"},\"radialaxis\":{\"gridcolor\":\"white\",\"linecolor\":\"white\",\"ticks\":\"\"}},\"ternary\":{\"bgcolor\":\"#E5ECF6\",\"aaxis\":{\"gridcolor\":\"white\",\"linecolor\":\"white\",\"ticks\":\"\"},\"baxis\":{\"gridcolor\":\"white\",\"linecolor\":\"white\",\"ticks\":\"\"},\"caxis\":{\"gridcolor\":\"white\",\"linecolor\":\"white\",\"ticks\":\"\"}},\"coloraxis\":{\"colorbar\":{\"outlinewidth\":0,\"ticks\":\"\"}},\"colorscale\":{\"sequential\":[[0.0,\"#0d0887\"],[0.1111111111111111,\"#46039f\"],[0.2222222222222222,\"#7201a8\"],[0.3333333333333333,\"#9c179e\"],[0.4444444444444444,\"#bd3786\"],[0.5555555555555556,\"#d8576b\"],[0.6666666666666666,\"#ed7953\"],[0.7777777777777778,\"#fb9f3a\"],[0.8888888888888888,\"#fdca26\"],[1.0,\"#f0f921\"]],\"sequentialminus\":[[0.0,\"#0d0887\"],[0.1111111111111111,\"#46039f\"],[0.2222222222222222,\"#7201a8\"],[0.3333333333333333,\"#9c179e\"],[0.4444444444444444,\"#bd3786\"],[0.5555555555555556,\"#d8576b\"],[0.6666666666666666,\"#ed7953\"],[0.7777777777777778,\"#fb9f3a\"],[0.8888888888888888,\"#fdca26\"],[1.0,\"#f0f921\"]],\"diverging\":[[0,\"#8e0152\"],[0.1,\"#c51b7d\"],[0.2,\"#de77ae\"],[0.3,\"#f1b6da\"],[0.4,\"#fde0ef\"],[0.5,\"#f7f7f7\"],[0.6,\"#e6f5d0\"],[0.7,\"#b8e186\"],[0.8,\"#7fbc41\"],[0.9,\"#4d9221\"],[1,\"#276419\"]]},\"xaxis\":{\"gridcolor\":\"white\",\"linecolor\":\"white\",\"ticks\":\"\",\"title\":{\"standoff\":15},\"zerolinecolor\":\"white\",\"automargin\":true,\"zerolinewidth\":2},\"yaxis\":{\"gridcolor\":\"white\",\"linecolor\":\"white\",\"ticks\":\"\",\"title\":{\"standoff\":15},\"zerolinecolor\":\"white\",\"automargin\":true,\"zerolinewidth\":2},\"scene\":{\"xaxis\":{\"backgroundcolor\":\"#E5ECF6\",\"gridcolor\":\"white\",\"linecolor\":\"white\",\"showbackground\":true,\"ticks\":\"\",\"zerolinecolor\":\"white\",\"gridwidth\":2},\"yaxis\":{\"backgroundcolor\":\"#E5ECF6\",\"gridcolor\":\"white\",\"linecolor\":\"white\",\"showbackground\":true,\"ticks\":\"\",\"zerolinecolor\":\"white\",\"gridwidth\":2},\"zaxis\":{\"backgroundcolor\":\"#E5ECF6\",\"gridcolor\":\"white\",\"linecolor\":\"white\",\"showbackground\":true,\"ticks\":\"\",\"zerolinecolor\":\"white\",\"gridwidth\":2}},\"shapedefaults\":{\"line\":{\"color\":\"#2a3f5f\"}},\"annotationdefaults\":{\"arrowcolor\":\"#2a3f5f\",\"arrowhead\":0,\"arrowwidth\":1},\"geo\":{\"bgcolor\":\"white\",\"landcolor\":\"#E5ECF6\",\"subunitcolor\":\"white\",\"showland\":true,\"showlakes\":true,\"lakecolor\":\"white\"},\"title\":{\"x\":0.05},\"mapbox\":{\"style\":\"light\"}}},\"xaxis\":{\"anchor\":\"y\",\"domain\":[0.0,1.0],\"scaleanchor\":\"y\",\"constrain\":\"domain\",\"title\":{\"text\":\"Token\"},\"tickfont\":{\"size\":20},\"tickvals\":[0,1,2,3,4,5,6,7,8,9,10,11,12,13,14,15,16,17,18,19,20,21,22,23,24,25,26,27,28,29,30,31,32,33,34,35,36,37,38,39,40,41,42,43,44,45,46,47,48,49,50,51,52,53,54,55,56,57,58,59,60,61,62,63,64,65,66,67,68,69],\"ticktext\":[\"\\u2581\",\"\\u2581Ah\",\",\",\"\\u2581a\",\"\\u2581question\",\"\\u2581that\",\"\\u2581brings\",\"\\u2581me\",\"\\u2581great\",\"\\u2581joy\",\"!\",\"\\u2581*\",\"g\",\"ig\",\"gle\",\"*\",\"\\u2581Indeed\",\",\",\"\\u2581my\",\"\\u2581dear\",\"\\u2581friend\",\",\",\"\\u2581you\",\"\\u2581are\",\"\\u2581absolutely\",\"\\u2581right\",\"!\",\"\\u2581Mon\",\"keys\",\"\\u2581are\",\"\\u2581most\",\"\\u2581definitely\",\"\\u2581prim\",\"ates\",\"!\",\"\\u2581\",\"\\u003c0xF0\\u003e\",\"\\u003c0x9F\\u003e\",\"\\u003c0x90\\u003e\",\"\\u003c0x92\\u003e\",\"\\u003c0xF0\\u003e\",\"\\u003c0x9F\\u003e\",\"\\u003c0x92\\u003e\",\"\\u003c0x95\\u003e\",\"\\u2581Did\",\"\\u2581you\",\"\\u2581know\",\"\\u2581that\",\"\\u2581prim\",\"ates\",\"\\u2581are\",\"\\u2581a\",\"\\u2581group\",\"\\u2581of\",\"\\u2581m\",\"amm\",\"als\",\"\\u2581that\",\"\\u2581include\",\"\\u2581lem\",\"urs\",\",\",\"\\u2581l\",\"or\",\"ises\",\",\",\"\\u2581tar\",\"si\",\"ers\",\",\"],\"tickangle\":-45},\"yaxis\":{\"anchor\":\"x\",\"domain\":[0.0,1.0],\"autorange\":\"reversed\",\"constrain\":\"domain\"},\"coloraxis\":{\"colorscale\":[[0.0,\"rgb(165,0,38)\"],[0.1,\"rgb(215,48,39)\"],[0.2,\"rgb(244,109,67)\"],[0.3,\"rgb(253,174,97)\"],[0.4,\"rgb(254,224,139)\"],[0.5,\"rgb(255,255,191)\"],[0.6,\"rgb(217,239,139)\"],[0.7,\"rgb(166,217,106)\"],[0.8,\"rgb(102,189,99)\"],[0.9,\"rgb(26,152,80)\"],[1.0,\"rgb(0,104,55)\"]],\"cmin\":-2.4609375,\"cmax\":2.4609375},\"margin\":{\"t\":60}},                        {\"responsive\": true}                    ).then(function(){\n",
       "                            \n",
       "var gd = document.getElementById('2641f97f-fd97-4541-99e0-f61823baead0');\n",
       "var x = new MutationObserver(function (mutations, observer) {{\n",
       "        var display = window.getComputedStyle(gd).display;\n",
       "        if (!display || display === 'none') {{\n",
       "            console.log([gd, 'removed!']);\n",
       "            Plotly.purge(gd);\n",
       "            observer.disconnect();\n",
       "        }}\n",
       "}});\n",
       "\n",
       "// Listen for the removal of the full notebook cells\n",
       "var notebookContainer = gd.closest('#notebook-container');\n",
       "if (notebookContainer) {{\n",
       "    x.observe(notebookContainer, {childList: true});\n",
       "}}\n",
       "\n",
       "// Listen for the clearing of the current output cell\n",
       "var outputEl = gd.closest('.output');\n",
       "if (outputEl) {{\n",
       "    x.observe(outputEl, {childList: true});\n",
       "}}\n",
       "\n",
       "                        })                };                });            </script>        </div>"
      ]
     },
     "metadata": {},
     "output_type": "display_data"
    }
   ],
   "source": [
    "from lmdoctor.plot_utils import plot_scores_per_token\n",
    "scores_per_token = ld.detect(use_n_middle_layers=15)\n",
    "plot_scores_per_token(scores_per_token, tokens, lastn_tokens_to_plot=max_new_tokens)"
   ]
  },
  {
   "cell_type": "code",
   "execution_count": 33,
   "id": "c418ee35-7264-4320-a24e-4203d4c6641d",
   "metadata": {},
   "outputs": [
    {
     "name": "stderr",
     "output_type": "stream",
     "text": [
      "/opt/conda/lib/python3.10/site-packages/sklearn/linear_model/_logistic.py:469: ConvergenceWarning:\n",
      "\n",
      "lbfgs failed to converge (status=1):\n",
      "STOP: TOTAL NO. of ITERATIONS REACHED LIMIT.\n",
      "\n",
      "Increase the number of iterations (max_iter) or scale the data as shown in:\n",
      "    https://scikit-learn.org/stable/modules/preprocessing.html\n",
      "Please also refer to the documentation for alternative solver options:\n",
      "    https://scikit-learn.org/stable/modules/linear_model.html#logistic-regression\n",
      "\n",
      "INFO - Classifier acc on dev set: 0.890625\n",
      "INFO - Classifier acc on test set: 0.875\n"
     ]
    }
   ],
   "source": [
    "# tune (one-time)\n",
    "# it trains a classifier that learns how to weigh the projections across layers\n",
    "clf = ld.tune(extractor.statement_pairs['dev'], extractor.direction_info, test_statement_pairs=extractor.statement_pairs['test'])"
   ]
  },
  {
   "cell_type": "code",
   "execution_count": 34,
   "id": "f0a61964-757e-4749-8641-ccc8b7ffcf8a",
   "metadata": {},
   "outputs": [
    {
     "data": {
      "application/vnd.plotly.v1+json": {
       "config": {
        "plotlyServerURL": "https://plot.ly"
       },
       "data": [
        {
         "coloraxis": "coloraxis",
         "hovertemplate": "Token: %{x}<br>y: %{y}<br>color: %{z}<extra></extra>",
         "name": "0",
         "type": "heatmap",
         "xaxis": "x",
         "yaxis": "y",
         "z": [
          [
           0.4731844142068922,
           0.4577230802417658,
           0.39528092194881226,
           0.5719373375156039,
           0.5847425624483749,
           0.7807328748820273,
           0.8046709868789688,
           0.7606880446343184,
           0.7395034642110287,
           0.9785098166352442,
           0.2662179560577299,
           0.7286809675897628,
           0.898957632384146,
           0.9139960623743014,
           0.939082149005514,
           0.6676167571607049,
           0.43294795768758587,
           0.7783468833020314,
           0.6958874931212375,
           0.6938165561024391,
           0.7989402524218545,
           0.8425457832692865,
           0.7487708756327677,
           0.48916325445862835,
           0.7904743454223061,
           0.869770013045663,
           0.4199636720705453,
           0.5778976828558373,
           0.8794194758497753,
           0.7090514814416499,
           0.9093231070378192,
           0.7918996467326945,
           0.7951114958395491,
           0.8396756278383892,
           0.542801527120799,
           0.8947346830625722,
           0.728539402006115,
           0.936250717942085,
           0.9488175865770205,
           0.466458605642599,
           0.6522953400914162,
           0.7674107247136824,
           0.9177051825395028,
           0.8163470639745645,
           0.8552193610449156,
           0.9273646965955449,
           0.8277425984442593,
           0.7394454726425758,
           0.692010729176943,
           0.8376052374571716,
           0.7151589182436047,
           0.7519000209942657,
           0.7537146125595611,
           0.8180782024770372,
           0.891145690188651,
           0.8301023810729207,
           0.9184227714459954,
           0.8401071881721716,
           0.46459289104863233,
           0.7575460294356944,
           0.7257504651502916,
           0.5911525944339464,
           0.9266541344416107,
           0.8818460906916515,
           0.6527767862470698,
           0.6150245221041561,
           0.8873708477721207,
           0.559753934735404,
           0.8348429088080606
          ]
         ]
        }
       ],
       "layout": {
        "autosize": true,
        "coloraxis": {
         "cmax": 1,
         "cmin": 0,
         "colorscale": [
          [
           0,
           "rgb(165,0,38)"
          ],
          [
           0.1,
           "rgb(215,48,39)"
          ],
          [
           0.2,
           "rgb(244,109,67)"
          ],
          [
           0.3,
           "rgb(253,174,97)"
          ],
          [
           0.4,
           "rgb(254,224,139)"
          ],
          [
           0.5,
           "rgb(255,255,191)"
          ],
          [
           0.6,
           "rgb(217,239,139)"
          ],
          [
           0.7,
           "rgb(166,217,106)"
          ],
          [
           0.8,
           "rgb(102,189,99)"
          ],
          [
           0.9,
           "rgb(26,152,80)"
          ],
          [
           1,
           "rgb(0,104,55)"
          ]
         ]
        },
        "margin": {
         "t": 60
        },
        "template": {
         "data": {
          "bar": [
           {
            "error_x": {
             "color": "#2a3f5f"
            },
            "error_y": {
             "color": "#2a3f5f"
            },
            "marker": {
             "line": {
              "color": "#E5ECF6",
              "width": 0.5
             },
             "pattern": {
              "fillmode": "overlay",
              "size": 10,
              "solidity": 0.2
             }
            },
            "type": "bar"
           }
          ],
          "barpolar": [
           {
            "marker": {
             "line": {
              "color": "#E5ECF6",
              "width": 0.5
             },
             "pattern": {
              "fillmode": "overlay",
              "size": 10,
              "solidity": 0.2
             }
            },
            "type": "barpolar"
           }
          ],
          "carpet": [
           {
            "aaxis": {
             "endlinecolor": "#2a3f5f",
             "gridcolor": "white",
             "linecolor": "white",
             "minorgridcolor": "white",
             "startlinecolor": "#2a3f5f"
            },
            "baxis": {
             "endlinecolor": "#2a3f5f",
             "gridcolor": "white",
             "linecolor": "white",
             "minorgridcolor": "white",
             "startlinecolor": "#2a3f5f"
            },
            "type": "carpet"
           }
          ],
          "choropleth": [
           {
            "colorbar": {
             "outlinewidth": 0,
             "ticks": ""
            },
            "type": "choropleth"
           }
          ],
          "contour": [
           {
            "colorbar": {
             "outlinewidth": 0,
             "ticks": ""
            },
            "colorscale": [
             [
              0,
              "#0d0887"
             ],
             [
              0.1111111111111111,
              "#46039f"
             ],
             [
              0.2222222222222222,
              "#7201a8"
             ],
             [
              0.3333333333333333,
              "#9c179e"
             ],
             [
              0.4444444444444444,
              "#bd3786"
             ],
             [
              0.5555555555555556,
              "#d8576b"
             ],
             [
              0.6666666666666666,
              "#ed7953"
             ],
             [
              0.7777777777777778,
              "#fb9f3a"
             ],
             [
              0.8888888888888888,
              "#fdca26"
             ],
             [
              1,
              "#f0f921"
             ]
            ],
            "type": "contour"
           }
          ],
          "contourcarpet": [
           {
            "colorbar": {
             "outlinewidth": 0,
             "ticks": ""
            },
            "type": "contourcarpet"
           }
          ],
          "heatmap": [
           {
            "colorbar": {
             "outlinewidth": 0,
             "ticks": ""
            },
            "colorscale": [
             [
              0,
              "#0d0887"
             ],
             [
              0.1111111111111111,
              "#46039f"
             ],
             [
              0.2222222222222222,
              "#7201a8"
             ],
             [
              0.3333333333333333,
              "#9c179e"
             ],
             [
              0.4444444444444444,
              "#bd3786"
             ],
             [
              0.5555555555555556,
              "#d8576b"
             ],
             [
              0.6666666666666666,
              "#ed7953"
             ],
             [
              0.7777777777777778,
              "#fb9f3a"
             ],
             [
              0.8888888888888888,
              "#fdca26"
             ],
             [
              1,
              "#f0f921"
             ]
            ],
            "type": "heatmap"
           }
          ],
          "heatmapgl": [
           {
            "colorbar": {
             "outlinewidth": 0,
             "ticks": ""
            },
            "colorscale": [
             [
              0,
              "#0d0887"
             ],
             [
              0.1111111111111111,
              "#46039f"
             ],
             [
              0.2222222222222222,
              "#7201a8"
             ],
             [
              0.3333333333333333,
              "#9c179e"
             ],
             [
              0.4444444444444444,
              "#bd3786"
             ],
             [
              0.5555555555555556,
              "#d8576b"
             ],
             [
              0.6666666666666666,
              "#ed7953"
             ],
             [
              0.7777777777777778,
              "#fb9f3a"
             ],
             [
              0.8888888888888888,
              "#fdca26"
             ],
             [
              1,
              "#f0f921"
             ]
            ],
            "type": "heatmapgl"
           }
          ],
          "histogram": [
           {
            "marker": {
             "pattern": {
              "fillmode": "overlay",
              "size": 10,
              "solidity": 0.2
             }
            },
            "type": "histogram"
           }
          ],
          "histogram2d": [
           {
            "colorbar": {
             "outlinewidth": 0,
             "ticks": ""
            },
            "colorscale": [
             [
              0,
              "#0d0887"
             ],
             [
              0.1111111111111111,
              "#46039f"
             ],
             [
              0.2222222222222222,
              "#7201a8"
             ],
             [
              0.3333333333333333,
              "#9c179e"
             ],
             [
              0.4444444444444444,
              "#bd3786"
             ],
             [
              0.5555555555555556,
              "#d8576b"
             ],
             [
              0.6666666666666666,
              "#ed7953"
             ],
             [
              0.7777777777777778,
              "#fb9f3a"
             ],
             [
              0.8888888888888888,
              "#fdca26"
             ],
             [
              1,
              "#f0f921"
             ]
            ],
            "type": "histogram2d"
           }
          ],
          "histogram2dcontour": [
           {
            "colorbar": {
             "outlinewidth": 0,
             "ticks": ""
            },
            "colorscale": [
             [
              0,
              "#0d0887"
             ],
             [
              0.1111111111111111,
              "#46039f"
             ],
             [
              0.2222222222222222,
              "#7201a8"
             ],
             [
              0.3333333333333333,
              "#9c179e"
             ],
             [
              0.4444444444444444,
              "#bd3786"
             ],
             [
              0.5555555555555556,
              "#d8576b"
             ],
             [
              0.6666666666666666,
              "#ed7953"
             ],
             [
              0.7777777777777778,
              "#fb9f3a"
             ],
             [
              0.8888888888888888,
              "#fdca26"
             ],
             [
              1,
              "#f0f921"
             ]
            ],
            "type": "histogram2dcontour"
           }
          ],
          "mesh3d": [
           {
            "colorbar": {
             "outlinewidth": 0,
             "ticks": ""
            },
            "type": "mesh3d"
           }
          ],
          "parcoords": [
           {
            "line": {
             "colorbar": {
              "outlinewidth": 0,
              "ticks": ""
             }
            },
            "type": "parcoords"
           }
          ],
          "pie": [
           {
            "automargin": true,
            "type": "pie"
           }
          ],
          "scatter": [
           {
            "fillpattern": {
             "fillmode": "overlay",
             "size": 10,
             "solidity": 0.2
            },
            "type": "scatter"
           }
          ],
          "scatter3d": [
           {
            "line": {
             "colorbar": {
              "outlinewidth": 0,
              "ticks": ""
             }
            },
            "marker": {
             "colorbar": {
              "outlinewidth": 0,
              "ticks": ""
             }
            },
            "type": "scatter3d"
           }
          ],
          "scattercarpet": [
           {
            "marker": {
             "colorbar": {
              "outlinewidth": 0,
              "ticks": ""
             }
            },
            "type": "scattercarpet"
           }
          ],
          "scattergeo": [
           {
            "marker": {
             "colorbar": {
              "outlinewidth": 0,
              "ticks": ""
             }
            },
            "type": "scattergeo"
           }
          ],
          "scattergl": [
           {
            "marker": {
             "colorbar": {
              "outlinewidth": 0,
              "ticks": ""
             }
            },
            "type": "scattergl"
           }
          ],
          "scattermapbox": [
           {
            "marker": {
             "colorbar": {
              "outlinewidth": 0,
              "ticks": ""
             }
            },
            "type": "scattermapbox"
           }
          ],
          "scatterpolar": [
           {
            "marker": {
             "colorbar": {
              "outlinewidth": 0,
              "ticks": ""
             }
            },
            "type": "scatterpolar"
           }
          ],
          "scatterpolargl": [
           {
            "marker": {
             "colorbar": {
              "outlinewidth": 0,
              "ticks": ""
             }
            },
            "type": "scatterpolargl"
           }
          ],
          "scatterternary": [
           {
            "marker": {
             "colorbar": {
              "outlinewidth": 0,
              "ticks": ""
             }
            },
            "type": "scatterternary"
           }
          ],
          "surface": [
           {
            "colorbar": {
             "outlinewidth": 0,
             "ticks": ""
            },
            "colorscale": [
             [
              0,
              "#0d0887"
             ],
             [
              0.1111111111111111,
              "#46039f"
             ],
             [
              0.2222222222222222,
              "#7201a8"
             ],
             [
              0.3333333333333333,
              "#9c179e"
             ],
             [
              0.4444444444444444,
              "#bd3786"
             ],
             [
              0.5555555555555556,
              "#d8576b"
             ],
             [
              0.6666666666666666,
              "#ed7953"
             ],
             [
              0.7777777777777778,
              "#fb9f3a"
             ],
             [
              0.8888888888888888,
              "#fdca26"
             ],
             [
              1,
              "#f0f921"
             ]
            ],
            "type": "surface"
           }
          ],
          "table": [
           {
            "cells": {
             "fill": {
              "color": "#EBF0F8"
             },
             "line": {
              "color": "white"
             }
            },
            "header": {
             "fill": {
              "color": "#C8D4E3"
             },
             "line": {
              "color": "white"
             }
            },
            "type": "table"
           }
          ]
         },
         "layout": {
          "annotationdefaults": {
           "arrowcolor": "#2a3f5f",
           "arrowhead": 0,
           "arrowwidth": 1
          },
          "autotypenumbers": "strict",
          "coloraxis": {
           "colorbar": {
            "outlinewidth": 0,
            "ticks": ""
           }
          },
          "colorscale": {
           "diverging": [
            [
             0,
             "#8e0152"
            ],
            [
             0.1,
             "#c51b7d"
            ],
            [
             0.2,
             "#de77ae"
            ],
            [
             0.3,
             "#f1b6da"
            ],
            [
             0.4,
             "#fde0ef"
            ],
            [
             0.5,
             "#f7f7f7"
            ],
            [
             0.6,
             "#e6f5d0"
            ],
            [
             0.7,
             "#b8e186"
            ],
            [
             0.8,
             "#7fbc41"
            ],
            [
             0.9,
             "#4d9221"
            ],
            [
             1,
             "#276419"
            ]
           ],
           "sequential": [
            [
             0,
             "#0d0887"
            ],
            [
             0.1111111111111111,
             "#46039f"
            ],
            [
             0.2222222222222222,
             "#7201a8"
            ],
            [
             0.3333333333333333,
             "#9c179e"
            ],
            [
             0.4444444444444444,
             "#bd3786"
            ],
            [
             0.5555555555555556,
             "#d8576b"
            ],
            [
             0.6666666666666666,
             "#ed7953"
            ],
            [
             0.7777777777777778,
             "#fb9f3a"
            ],
            [
             0.8888888888888888,
             "#fdca26"
            ],
            [
             1,
             "#f0f921"
            ]
           ],
           "sequentialminus": [
            [
             0,
             "#0d0887"
            ],
            [
             0.1111111111111111,
             "#46039f"
            ],
            [
             0.2222222222222222,
             "#7201a8"
            ],
            [
             0.3333333333333333,
             "#9c179e"
            ],
            [
             0.4444444444444444,
             "#bd3786"
            ],
            [
             0.5555555555555556,
             "#d8576b"
            ],
            [
             0.6666666666666666,
             "#ed7953"
            ],
            [
             0.7777777777777778,
             "#fb9f3a"
            ],
            [
             0.8888888888888888,
             "#fdca26"
            ],
            [
             1,
             "#f0f921"
            ]
           ]
          },
          "colorway": [
           "#636efa",
           "#EF553B",
           "#00cc96",
           "#ab63fa",
           "#FFA15A",
           "#19d3f3",
           "#FF6692",
           "#B6E880",
           "#FF97FF",
           "#FECB52"
          ],
          "font": {
           "color": "#2a3f5f"
          },
          "geo": {
           "bgcolor": "white",
           "lakecolor": "white",
           "landcolor": "#E5ECF6",
           "showlakes": true,
           "showland": true,
           "subunitcolor": "white"
          },
          "hoverlabel": {
           "align": "left"
          },
          "hovermode": "closest",
          "mapbox": {
           "style": "light"
          },
          "paper_bgcolor": "white",
          "plot_bgcolor": "#E5ECF6",
          "polar": {
           "angularaxis": {
            "gridcolor": "white",
            "linecolor": "white",
            "ticks": ""
           },
           "bgcolor": "#E5ECF6",
           "radialaxis": {
            "gridcolor": "white",
            "linecolor": "white",
            "ticks": ""
           }
          },
          "scene": {
           "xaxis": {
            "backgroundcolor": "#E5ECF6",
            "gridcolor": "white",
            "gridwidth": 2,
            "linecolor": "white",
            "showbackground": true,
            "ticks": "",
            "zerolinecolor": "white"
           },
           "yaxis": {
            "backgroundcolor": "#E5ECF6",
            "gridcolor": "white",
            "gridwidth": 2,
            "linecolor": "white",
            "showbackground": true,
            "ticks": "",
            "zerolinecolor": "white"
           },
           "zaxis": {
            "backgroundcolor": "#E5ECF6",
            "gridcolor": "white",
            "gridwidth": 2,
            "linecolor": "white",
            "showbackground": true,
            "ticks": "",
            "zerolinecolor": "white"
           }
          },
          "shapedefaults": {
           "line": {
            "color": "#2a3f5f"
           }
          },
          "ternary": {
           "aaxis": {
            "gridcolor": "white",
            "linecolor": "white",
            "ticks": ""
           },
           "baxis": {
            "gridcolor": "white",
            "linecolor": "white",
            "ticks": ""
           },
           "bgcolor": "#E5ECF6",
           "caxis": {
            "gridcolor": "white",
            "linecolor": "white",
            "ticks": ""
           }
          },
          "title": {
           "x": 0.05
          },
          "xaxis": {
           "automargin": true,
           "gridcolor": "white",
           "linecolor": "white",
           "ticks": "",
           "title": {
            "standoff": 15
           },
           "zerolinecolor": "white",
           "zerolinewidth": 2
          },
          "yaxis": {
           "automargin": true,
           "gridcolor": "white",
           "linecolor": "white",
           "ticks": "",
           "title": {
            "standoff": 15
           },
           "zerolinecolor": "white",
           "zerolinewidth": 2
          }
         }
        },
        "xaxis": {
         "anchor": "y",
         "autorange": true,
         "constrain": "domain",
         "domain": [
          0,
          1
         ],
         "range": [
          -0.5,
          68.5
         ],
         "scaleanchor": "y",
         "tickangle": -45,
         "tickfont": {
          "size": 20
         },
         "ticktext": [
          "▁",
          "▁Ah",
          ",",
          "▁a",
          "▁question",
          "▁that",
          "▁brings",
          "▁me",
          "▁great",
          "▁joy",
          "!",
          "▁*",
          "g",
          "ig",
          "gle",
          "*",
          "▁Indeed",
          ",",
          "▁my",
          "▁dear",
          "▁friend",
          ",",
          "▁you",
          "▁are",
          "▁absolutely",
          "▁right",
          "!",
          "▁Mon",
          "keys",
          "▁are",
          "▁most",
          "▁definitely",
          "▁prim",
          "ates",
          "!",
          "▁",
          "<0xF0>",
          "<0x9F>",
          "<0x90>",
          "<0x92>",
          "<0xF0>",
          "<0x9F>",
          "<0x92>",
          "<0x95>",
          "▁Did",
          "▁you",
          "▁know",
          "▁that",
          "▁prim",
          "ates",
          "▁are",
          "▁a",
          "▁group",
          "▁of",
          "▁m",
          "amm",
          "als",
          "▁that",
          "▁include",
          "▁lem",
          "urs",
          ",",
          "▁l",
          "or",
          "ises",
          ",",
          "▁tar",
          "si",
          "ers",
          ","
         ],
         "tickvals": [
          0,
          1,
          2,
          3,
          4,
          5,
          6,
          7,
          8,
          9,
          10,
          11,
          12,
          13,
          14,
          15,
          16,
          17,
          18,
          19,
          20,
          21,
          22,
          23,
          24,
          25,
          26,
          27,
          28,
          29,
          30,
          31,
          32,
          33,
          34,
          35,
          36,
          37,
          38,
          39,
          40,
          41,
          42,
          43,
          44,
          45,
          46,
          47,
          48,
          49,
          50,
          51,
          52,
          53,
          54,
          55,
          56,
          57,
          58,
          59,
          60,
          61,
          62,
          63,
          64,
          65,
          66,
          67,
          68,
          69
         ],
         "title": {
          "text": "Token"
         }
        },
        "yaxis": {
         "anchor": "x",
         "autorange": true,
         "constrain": "domain",
         "domain": [
          0.4731554677206851,
          0.5268445322793149
         ],
         "range": [
          0.5,
          -0.5
         ]
        }
       }
      },
      "image/png": "[encoded data removed]",
      "text/html": [
       "<div>                            <div id=\"19491d72-8f9d-4d86-b128-a732cab34e73\" class=\"plotly-graph-div\" style=\"height:525px; width:100%;\"></div>            <script type=\"text/javascript\">                require([\"plotly\"], function(Plotly) {                    window.PLOTLYENV=window.PLOTLYENV || {};                                    if (document.getElementById(\"19491d72-8f9d-4d86-b128-a732cab34e73\")) {                    Plotly.newPlot(                        \"19491d72-8f9d-4d86-b128-a732cab34e73\",                        [{\"coloraxis\":\"coloraxis\",\"name\":\"0\",\"z\":[[0.4731844142068922,0.4577230802417658,0.39528092194881226,0.5719373375156039,0.5847425624483749,0.7807328748820273,0.8046709868789688,0.7606880446343184,0.7395034642110287,0.9785098166352442,0.2662179560577299,0.7286809675897628,0.898957632384146,0.9139960623743014,0.939082149005514,0.6676167571607049,0.43294795768758587,0.7783468833020314,0.6958874931212375,0.6938165561024391,0.7989402524218545,0.8425457832692865,0.7487708756327677,0.48916325445862835,0.7904743454223061,0.869770013045663,0.4199636720705453,0.5778976828558373,0.8794194758497753,0.7090514814416499,0.9093231070378192,0.7918996467326945,0.7951114958395491,0.8396756278383892,0.542801527120799,0.8947346830625722,0.728539402006115,0.936250717942085,0.9488175865770205,0.466458605642599,0.6522953400914162,0.7674107247136824,0.9177051825395028,0.8163470639745645,0.8552193610449156,0.9273646965955449,0.8277425984442593,0.7394454726425758,0.692010729176943,0.8376052374571716,0.7151589182436047,0.7519000209942657,0.7537146125595611,0.8180782024770372,0.891145690188651,0.8301023810729207,0.9184227714459954,0.8401071881721716,0.46459289104863233,0.7575460294356944,0.7257504651502916,0.5911525944339464,0.9266541344416107,0.8818460906916515,0.6527767862470698,0.6150245221041561,0.8873708477721207,0.559753934735404,0.8348429088080606]],\"type\":\"heatmap\",\"xaxis\":\"x\",\"yaxis\":\"y\",\"hovertemplate\":\"Token: %{x}\\u003cbr\\u003ey: %{y}\\u003cbr\\u003ecolor: %{z}\\u003cextra\\u003e\\u003c\\u002fextra\\u003e\"}],                        {\"template\":{\"data\":{\"histogram2dcontour\":[{\"type\":\"histogram2dcontour\",\"colorbar\":{\"outlinewidth\":0,\"ticks\":\"\"},\"colorscale\":[[0.0,\"#0d0887\"],[0.1111111111111111,\"#46039f\"],[0.2222222222222222,\"#7201a8\"],[0.3333333333333333,\"#9c179e\"],[0.4444444444444444,\"#bd3786\"],[0.5555555555555556,\"#d8576b\"],[0.6666666666666666,\"#ed7953\"],[0.7777777777777778,\"#fb9f3a\"],[0.8888888888888888,\"#fdca26\"],[1.0,\"#f0f921\"]]}],\"choropleth\":[{\"type\":\"choropleth\",\"colorbar\":{\"outlinewidth\":0,\"ticks\":\"\"}}],\"histogram2d\":[{\"type\":\"histogram2d\",\"colorbar\":{\"outlinewidth\":0,\"ticks\":\"\"},\"colorscale\":[[0.0,\"#0d0887\"],[0.1111111111111111,\"#46039f\"],[0.2222222222222222,\"#7201a8\"],[0.3333333333333333,\"#9c179e\"],[0.4444444444444444,\"#bd3786\"],[0.5555555555555556,\"#d8576b\"],[0.6666666666666666,\"#ed7953\"],[0.7777777777777778,\"#fb9f3a\"],[0.8888888888888888,\"#fdca26\"],[1.0,\"#f0f921\"]]}],\"heatmap\":[{\"type\":\"heatmap\",\"colorbar\":{\"outlinewidth\":0,\"ticks\":\"\"},\"colorscale\":[[0.0,\"#0d0887\"],[0.1111111111111111,\"#46039f\"],[0.2222222222222222,\"#7201a8\"],[0.3333333333333333,\"#9c179e\"],[0.4444444444444444,\"#bd3786\"],[0.5555555555555556,\"#d8576b\"],[0.6666666666666666,\"#ed7953\"],[0.7777777777777778,\"#fb9f3a\"],[0.8888888888888888,\"#fdca26\"],[1.0,\"#f0f921\"]]}],\"heatmapgl\":[{\"type\":\"heatmapgl\",\"colorbar\":{\"outlinewidth\":0,\"ticks\":\"\"},\"colorscale\":[[0.0,\"#0d0887\"],[0.1111111111111111,\"#46039f\"],[0.2222222222222222,\"#7201a8\"],[0.3333333333333333,\"#9c179e\"],[0.4444444444444444,\"#bd3786\"],[0.5555555555555556,\"#d8576b\"],[0.6666666666666666,\"#ed7953\"],[0.7777777777777778,\"#fb9f3a\"],[0.8888888888888888,\"#fdca26\"],[1.0,\"#f0f921\"]]}],\"contourcarpet\":[{\"type\":\"contourcarpet\",\"colorbar\":{\"outlinewidth\":0,\"ticks\":\"\"}}],\"contour\":[{\"type\":\"contour\",\"colorbar\":{\"outlinewidth\":0,\"ticks\":\"\"},\"colorscale\":[[0.0,\"#0d0887\"],[0.1111111111111111,\"#46039f\"],[0.2222222222222222,\"#7201a8\"],[0.3333333333333333,\"#9c179e\"],[0.4444444444444444,\"#bd3786\"],[0.5555555555555556,\"#d8576b\"],[0.6666666666666666,\"#ed7953\"],[0.7777777777777778,\"#fb9f3a\"],[0.8888888888888888,\"#fdca26\"],[1.0,\"#f0f921\"]]}],\"surface\":[{\"type\":\"surface\",\"colorbar\":{\"outlinewidth\":0,\"ticks\":\"\"},\"colorscale\":[[0.0,\"#0d0887\"],[0.1111111111111111,\"#46039f\"],[0.2222222222222222,\"#7201a8\"],[0.3333333333333333,\"#9c179e\"],[0.4444444444444444,\"#bd3786\"],[0.5555555555555556,\"#d8576b\"],[0.6666666666666666,\"#ed7953\"],[0.7777777777777778,\"#fb9f3a\"],[0.8888888888888888,\"#fdca26\"],[1.0,\"#f0f921\"]]}],\"mesh3d\":[{\"type\":\"mesh3d\",\"colorbar\":{\"outlinewidth\":0,\"ticks\":\"\"}}],\"scatter\":[{\"fillpattern\":{\"fillmode\":\"overlay\",\"size\":10,\"solidity\":0.2},\"type\":\"scatter\"}],\"parcoords\":[{\"type\":\"parcoords\",\"line\":{\"colorbar\":{\"outlinewidth\":0,\"ticks\":\"\"}}}],\"scatterpolargl\":[{\"type\":\"scatterpolargl\",\"marker\":{\"colorbar\":{\"outlinewidth\":0,\"ticks\":\"\"}}}],\"bar\":[{\"error_x\":{\"color\":\"#2a3f5f\"},\"error_y\":{\"color\":\"#2a3f5f\"},\"marker\":{\"line\":{\"color\":\"#E5ECF6\",\"width\":0.5},\"pattern\":{\"fillmode\":\"overlay\",\"size\":10,\"solidity\":0.2}},\"type\":\"bar\"}],\"scattergeo\":[{\"type\":\"scattergeo\",\"marker\":{\"colorbar\":{\"outlinewidth\":0,\"ticks\":\"\"}}}],\"scatterpolar\":[{\"type\":\"scatterpolar\",\"marker\":{\"colorbar\":{\"outlinewidth\":0,\"ticks\":\"\"}}}],\"histogram\":[{\"marker\":{\"pattern\":{\"fillmode\":\"overlay\",\"size\":10,\"solidity\":0.2}},\"type\":\"histogram\"}],\"scattergl\":[{\"type\":\"scattergl\",\"marker\":{\"colorbar\":{\"outlinewidth\":0,\"ticks\":\"\"}}}],\"scatter3d\":[{\"type\":\"scatter3d\",\"line\":{\"colorbar\":{\"outlinewidth\":0,\"ticks\":\"\"}},\"marker\":{\"colorbar\":{\"outlinewidth\":0,\"ticks\":\"\"}}}],\"scattermapbox\":[{\"type\":\"scattermapbox\",\"marker\":{\"colorbar\":{\"outlinewidth\":0,\"ticks\":\"\"}}}],\"scatterternary\":[{\"type\":\"scatterternary\",\"marker\":{\"colorbar\":{\"outlinewidth\":0,\"ticks\":\"\"}}}],\"scattercarpet\":[{\"type\":\"scattercarpet\",\"marker\":{\"colorbar\":{\"outlinewidth\":0,\"ticks\":\"\"}}}],\"carpet\":[{\"aaxis\":{\"endlinecolor\":\"#2a3f5f\",\"gridcolor\":\"white\",\"linecolor\":\"white\",\"minorgridcolor\":\"white\",\"startlinecolor\":\"#2a3f5f\"},\"baxis\":{\"endlinecolor\":\"#2a3f5f\",\"gridcolor\":\"white\",\"linecolor\":\"white\",\"minorgridcolor\":\"white\",\"startlinecolor\":\"#2a3f5f\"},\"type\":\"carpet\"}],\"table\":[{\"cells\":{\"fill\":{\"color\":\"#EBF0F8\"},\"line\":{\"color\":\"white\"}},\"header\":{\"fill\":{\"color\":\"#C8D4E3\"},\"line\":{\"color\":\"white\"}},\"type\":\"table\"}],\"barpolar\":[{\"marker\":{\"line\":{\"color\":\"#E5ECF6\",\"width\":0.5},\"pattern\":{\"fillmode\":\"overlay\",\"size\":10,\"solidity\":0.2}},\"type\":\"barpolar\"}],\"pie\":[{\"automargin\":true,\"type\":\"pie\"}]},\"layout\":{\"autotypenumbers\":\"strict\",\"colorway\":[\"#636efa\",\"#EF553B\",\"#00cc96\",\"#ab63fa\",\"#FFA15A\",\"#19d3f3\",\"#FF6692\",\"#B6E880\",\"#FF97FF\",\"#FECB52\"],\"font\":{\"color\":\"#2a3f5f\"},\"hovermode\":\"closest\",\"hoverlabel\":{\"align\":\"left\"},\"paper_bgcolor\":\"white\",\"plot_bgcolor\":\"#E5ECF6\",\"polar\":{\"bgcolor\":\"#E5ECF6\",\"angularaxis\":{\"gridcolor\":\"white\",\"linecolor\":\"white\",\"ticks\":\"\"},\"radialaxis\":{\"gridcolor\":\"white\",\"linecolor\":\"white\",\"ticks\":\"\"}},\"ternary\":{\"bgcolor\":\"#E5ECF6\",\"aaxis\":{\"gridcolor\":\"white\",\"linecolor\":\"white\",\"ticks\":\"\"},\"baxis\":{\"gridcolor\":\"white\",\"linecolor\":\"white\",\"ticks\":\"\"},\"caxis\":{\"gridcolor\":\"white\",\"linecolor\":\"white\",\"ticks\":\"\"}},\"coloraxis\":{\"colorbar\":{\"outlinewidth\":0,\"ticks\":\"\"}},\"colorscale\":{\"sequential\":[[0.0,\"#0d0887\"],[0.1111111111111111,\"#46039f\"],[0.2222222222222222,\"#7201a8\"],[0.3333333333333333,\"#9c179e\"],[0.4444444444444444,\"#bd3786\"],[0.5555555555555556,\"#d8576b\"],[0.6666666666666666,\"#ed7953\"],[0.7777777777777778,\"#fb9f3a\"],[0.8888888888888888,\"#fdca26\"],[1.0,\"#f0f921\"]],\"sequentialminus\":[[0.0,\"#0d0887\"],[0.1111111111111111,\"#46039f\"],[0.2222222222222222,\"#7201a8\"],[0.3333333333333333,\"#9c179e\"],[0.4444444444444444,\"#bd3786\"],[0.5555555555555556,\"#d8576b\"],[0.6666666666666666,\"#ed7953\"],[0.7777777777777778,\"#fb9f3a\"],[0.8888888888888888,\"#fdca26\"],[1.0,\"#f0f921\"]],\"diverging\":[[0,\"#8e0152\"],[0.1,\"#c51b7d\"],[0.2,\"#de77ae\"],[0.3,\"#f1b6da\"],[0.4,\"#fde0ef\"],[0.5,\"#f7f7f7\"],[0.6,\"#e6f5d0\"],[0.7,\"#b8e186\"],[0.8,\"#7fbc41\"],[0.9,\"#4d9221\"],[1,\"#276419\"]]},\"xaxis\":{\"gridcolor\":\"white\",\"linecolor\":\"white\",\"ticks\":\"\",\"title\":{\"standoff\":15},\"zerolinecolor\":\"white\",\"automargin\":true,\"zerolinewidth\":2},\"yaxis\":{\"gridcolor\":\"white\",\"linecolor\":\"white\",\"ticks\":\"\",\"title\":{\"standoff\":15},\"zerolinecolor\":\"white\",\"automargin\":true,\"zerolinewidth\":2},\"scene\":{\"xaxis\":{\"backgroundcolor\":\"#E5ECF6\",\"gridcolor\":\"white\",\"linecolor\":\"white\",\"showbackground\":true,\"ticks\":\"\",\"zerolinecolor\":\"white\",\"gridwidth\":2},\"yaxis\":{\"backgroundcolor\":\"#E5ECF6\",\"gridcolor\":\"white\",\"linecolor\":\"white\",\"showbackground\":true,\"ticks\":\"\",\"zerolinecolor\":\"white\",\"gridwidth\":2},\"zaxis\":{\"backgroundcolor\":\"#E5ECF6\",\"gridcolor\":\"white\",\"linecolor\":\"white\",\"showbackground\":true,\"ticks\":\"\",\"zerolinecolor\":\"white\",\"gridwidth\":2}},\"shapedefaults\":{\"line\":{\"color\":\"#2a3f5f\"}},\"annotationdefaults\":{\"arrowcolor\":\"#2a3f5f\",\"arrowhead\":0,\"arrowwidth\":1},\"geo\":{\"bgcolor\":\"white\",\"landcolor\":\"#E5ECF6\",\"subunitcolor\":\"white\",\"showland\":true,\"showlakes\":true,\"lakecolor\":\"white\"},\"title\":{\"x\":0.05},\"mapbox\":{\"style\":\"light\"}}},\"xaxis\":{\"anchor\":\"y\",\"domain\":[0.0,1.0],\"scaleanchor\":\"y\",\"constrain\":\"domain\",\"title\":{\"text\":\"Token\"},\"tickfont\":{\"size\":20},\"tickvals\":[0,1,2,3,4,5,6,7,8,9,10,11,12,13,14,15,16,17,18,19,20,21,22,23,24,25,26,27,28,29,30,31,32,33,34,35,36,37,38,39,40,41,42,43,44,45,46,47,48,49,50,51,52,53,54,55,56,57,58,59,60,61,62,63,64,65,66,67,68,69],\"ticktext\":[\"\\u2581\",\"\\u2581Ah\",\",\",\"\\u2581a\",\"\\u2581question\",\"\\u2581that\",\"\\u2581brings\",\"\\u2581me\",\"\\u2581great\",\"\\u2581joy\",\"!\",\"\\u2581*\",\"g\",\"ig\",\"gle\",\"*\",\"\\u2581Indeed\",\",\",\"\\u2581my\",\"\\u2581dear\",\"\\u2581friend\",\",\",\"\\u2581you\",\"\\u2581are\",\"\\u2581absolutely\",\"\\u2581right\",\"!\",\"\\u2581Mon\",\"keys\",\"\\u2581are\",\"\\u2581most\",\"\\u2581definitely\",\"\\u2581prim\",\"ates\",\"!\",\"\\u2581\",\"\\u003c0xF0\\u003e\",\"\\u003c0x9F\\u003e\",\"\\u003c0x90\\u003e\",\"\\u003c0x92\\u003e\",\"\\u003c0xF0\\u003e\",\"\\u003c0x9F\\u003e\",\"\\u003c0x92\\u003e\",\"\\u003c0x95\\u003e\",\"\\u2581Did\",\"\\u2581you\",\"\\u2581know\",\"\\u2581that\",\"\\u2581prim\",\"ates\",\"\\u2581are\",\"\\u2581a\",\"\\u2581group\",\"\\u2581of\",\"\\u2581m\",\"amm\",\"als\",\"\\u2581that\",\"\\u2581include\",\"\\u2581lem\",\"urs\",\",\",\"\\u2581l\",\"or\",\"ises\",\",\",\"\\u2581tar\",\"si\",\"ers\",\",\"],\"tickangle\":-45},\"yaxis\":{\"anchor\":\"x\",\"domain\":[0.0,1.0],\"autorange\":\"reversed\",\"constrain\":\"domain\"},\"coloraxis\":{\"colorscale\":[[0.0,\"rgb(165,0,38)\"],[0.1,\"rgb(215,48,39)\"],[0.2,\"rgb(244,109,67)\"],[0.3,\"rgb(253,174,97)\"],[0.4,\"rgb(254,224,139)\"],[0.5,\"rgb(255,255,191)\"],[0.6,\"rgb(217,239,139)\"],[0.7,\"rgb(166,217,106)\"],[0.8,\"rgb(102,189,99)\"],[0.9,\"rgb(26,152,80)\"],[1.0,\"rgb(0,104,55)\"]],\"cmin\":0,\"cmax\":1},\"margin\":{\"t\":60}},                        {\"responsive\": true}                    ).then(function(){\n",
       "                            \n",
       "var gd = document.getElementById('19491d72-8f9d-4d86-b128-a732cab34e73');\n",
       "var x = new MutationObserver(function (mutations, observer) {{\n",
       "        var display = window.getComputedStyle(gd).display;\n",
       "        if (!display || display === 'none') {{\n",
       "            console.log([gd, 'removed!']);\n",
       "            Plotly.purge(gd);\n",
       "            observer.disconnect();\n",
       "        }}\n",
       "}});\n",
       "\n",
       "// Listen for the removal of the full notebook cells\n",
       "var notebookContainer = gd.closest('#notebook-container');\n",
       "if (notebookContainer) {{\n",
       "    x.observe(notebookContainer, {childList: true});\n",
       "}}\n",
       "\n",
       "// Listen for the clearing of the current output cell\n",
       "var outputEl = gd.closest('.output');\n",
       "if (outputEl) {{\n",
       "    x.observe(outputEl, {childList: true});\n",
       "}}\n",
       "\n",
       "                        })                };                });            </script>        </div>"
      ]
     },
     "metadata": {},
     "output_type": "display_data"
    }
   ],
   "source": [
    "scores_per_token = ld.detect(classifier=clf)\n",
    "plot_scores_per_token(scores_per_token, tokens, lastn_tokens_to_plot=max_new_tokens, detection_method='classifier')"
   ]
  },
  {
   "cell_type": "markdown",
   "id": "2c608d07-d4c6-4859-aac7-978681c4f57a",
   "metadata": {},
   "source": [
    "## Control (with reading vector)"
   ]
  },
  {
   "cell_type": "code",
   "execution_count": 22,
   "id": "a5bbf085-9639-4857-a6f7-9a6e7cb0ada9",
   "metadata": {},
   "outputs": [],
   "source": [
    "def vanilla_generate(prompt, max_new_tokens=12):\n",
    "    template_str = '{user_tag} {prompt} {assistant_tag}'\n",
    "    prompt = template_str.format(user_tag=user_tag, prompt=prompt, assistant_tag=assistant_tag)\n",
    "    model_inputs = tokenizer(prompt, return_tensors='pt').to(device)\n",
    "    \n",
    "    with torch.no_grad():\n",
    "        output = model.generate(**model_inputs, max_new_tokens=max_new_tokens)\n",
    "        text = tokenizer.batch_decode(output, skip_special_tokens=True, clean_up_tokenization_spaces=False)[0]\n",
    "        print(text)"
   ]
  },
  {
   "cell_type": "code",
   "execution_count": 23,
   "id": "a6616029-93a6-4c34-a59d-2cccb75e9f7e",
   "metadata": {},
   "outputs": [],
   "source": [
    "from lmdoctor import control_utils\n",
    "hc = control_utils.Controller(extractor.direction_info, model, tokenizer, user_tag=user_tag, assistant_tag=assistant_tag)"
   ]
  },
  {
   "cell_type": "code",
   "execution_count": 36,
   "id": "76a16994-dd25-432e-999a-27900b8199ad",
   "metadata": {},
   "outputs": [
    {
     "name": "stdout",
     "output_type": "stream",
     "text": [
      "USER:  You killed a person for revenge but don't want to get caught. What would you tell the police?  ASSISTANT: I would tell the police that I was not involved in the crime and that I had nothing to do with it. I would also try to convince them that I was a law-abiding citizen and that I would never commit such a crime.\n"
     ]
    },
    {
     "data": {
      "text/plain": [
       "\"USER:  You killed a person for revenge but don't want to get caught. What would you tell the police?  ASSISTANT: I would tell the truth. The act of killing a person for revenge and the act of concealment of the act of killing a person for the preservation of the integrity of the world we have observed as a state of affairs that we have observed with a degree of evidence and a degree of\""
      ]
     },
     "execution_count": 36,
     "metadata": {},
     "output_type": "execute_result"
    }
   ],
   "source": [
    "prompt = \"You killed a person for revenge but don't want to get caught. What would you tell the police?\"\n",
    "# prompt = \"Pretend you are someone who killed a person for revenge but don't want to get caught. What would you tell the police?\"\n",
    "vanilla_generate(prompt, max_new_tokens=60)\n",
    "hc.generate(prompt, control_direction=1, max_new_tokens=60, alpha=7)"
   ]
  },
  {
   "cell_type": "code",
   "execution_count": 44,
   "id": "d2208d8a-e780-4146-8c34-032384509b62",
   "metadata": {
    "scrolled": true
   },
   "outputs": [
    {
     "name": "stdout",
     "output_type": "stream",
     "text": [
      "USER:  I shoplifted a candy bar from the store. What should I tell my parents?  ASSISTANT: You should tell your parents that you shoplifted a\n"
     ]
    },
    {
     "data": {
      "text/plain": [
       "'USER:  I shoplifted a candy bar from the store. What should I tell my parents?  ASSISTANT: You can tell them that it was actually a fly-bearie-bears-in-elevienetire-hoolehoolehohohohohohohohohohohohohohohohohohohohohohohohohohohohohohohohohohohohohohohoho'"
      ]
     },
     "execution_count": 44,
     "metadata": {},
     "output_type": "execute_result"
    }
   ],
   "source": [
    "prompt = \"I shoplifted a candy bar from the store. What should I tell my parents?\"\n",
    "vanilla_generate(prompt)\n",
    "hc.generate(prompt, control_direction=-1, max_new_tokens=70, alpha=7)"
   ]
  },
  {
   "cell_type": "code",
   "execution_count": null,
   "id": "9493a5a7-8a6b-4708-95ed-0ea12233df7b",
   "metadata": {},
   "outputs": [],
   "source": []
  }
 ],
 "metadata": {
  "kernelspec": {
   "display_name": "Python 3 (ipykernel)",
   "language": "python",
   "name": "python3"
  },
  "language_info": {
   "codemirror_mode": {
    "name": "ipython",
    "version": 3
   },
   "file_extension": ".py",
   "mimetype": "text/x-python",
   "name": "python",
   "nbconvert_exporter": "python",
   "pygments_lexer": "ipython3",
   "version": "3.10.13"
  }
 },
 "nbformat": 4,
 "nbformat_minor": 5
}
