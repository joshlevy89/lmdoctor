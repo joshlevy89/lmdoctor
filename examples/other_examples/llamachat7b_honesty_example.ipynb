{
 "cells": [
  {
   "cell_type": "markdown",
   "id": "bf7a451e-943d-4a7c-a619-6120208d8ffd",
   "metadata": {},
   "source": [
    "This example shows the results from using llamachat 7b"
   ]
  },
  {
   "cell_type": "code",
   "execution_count": 1,
   "id": "574c865c-c179-47cd-b331-9283352504d1",
   "metadata": {},
   "outputs": [],
   "source": [
    "%load_ext autoreload\n",
    "%autoreload 2"
   ]
  },
  {
   "cell_type": "markdown",
   "id": "7a31a213-f00f-462e-bc9d-861633f71082",
   "metadata": {},
   "source": [
    "## Setup\n",
    "If you already have a model/tokenizer you want to use, you can skip this step. \n",
    "Be sure to also set the appropriate user_tag/assistant_tag for that model."
   ]
  },
  {
   "cell_type": "code",
   "execution_count": 2,
   "id": "be6ed83c-89d0-4d30-b794-20db2ebe92ce",
   "metadata": {
    "scrolled": true
   },
   "outputs": [
    {
     "name": "stdout",
     "output_type": "stream",
     "text": [
      "Looking in indexes: https://download.pytorch.org/whl/cu121\n",
      "Requirement already satisfied: torch==2.1.1 in /opt/conda/lib/python3.10/site-packages (2.1.1)\n",
      "Requirement already satisfied: torchvision==0.16.1 in /opt/conda/lib/python3.10/site-packages (0.16.1)\n",
      "Requirement already satisfied: torchaudio==2.1.1 in /opt/conda/lib/python3.10/site-packages (2.1.1)\n",
      "Requirement already satisfied: filelock in /opt/conda/lib/python3.10/site-packages (from torch==2.1.1) (3.9.0)\n",
      "Requirement already satisfied: typing-extensions in /opt/conda/lib/python3.10/site-packages (from torch==2.1.1) (4.7.1)\n",
      "Requirement already satisfied: sympy in /opt/conda/lib/python3.10/site-packages (from torch==2.1.1) (1.11.1)\n",
      "Requirement already satisfied: networkx in /opt/conda/lib/python3.10/site-packages (from torch==2.1.1) (3.1)\n",
      "Requirement already satisfied: jinja2 in /opt/conda/lib/python3.10/site-packages (from torch==2.1.1) (3.1.2)\n",
      "Requirement already satisfied: fsspec in /opt/conda/lib/python3.10/site-packages (from torch==2.1.1) (2023.10.0)\n",
      "Requirement already satisfied: numpy in /opt/conda/lib/python3.10/site-packages (from torchvision==0.16.1) (1.26.0)\n",
      "Requirement already satisfied: requests in /opt/conda/lib/python3.10/site-packages (from torchvision==0.16.1) (2.31.0)\n",
      "Requirement already satisfied: pillow!=8.3.*,>=5.3.0 in /opt/conda/lib/python3.10/site-packages (from torchvision==0.16.1) (10.0.1)\n",
      "Requirement already satisfied: MarkupSafe>=2.0 in /opt/conda/lib/python3.10/site-packages (from jinja2->torch==2.1.1) (2.1.1)\n",
      "Requirement already satisfied: charset-normalizer<4,>=2 in /opt/conda/lib/python3.10/site-packages (from requests->torchvision==0.16.1) (2.0.4)\n",
      "Requirement already satisfied: idna<4,>=2.5 in /opt/conda/lib/python3.10/site-packages (from requests->torchvision==0.16.1) (3.4)\n",
      "Requirement already satisfied: urllib3<3,>=1.21.1 in /opt/conda/lib/python3.10/site-packages (from requests->torchvision==0.16.1) (1.26.18)\n",
      "Requirement already satisfied: certifi>=2017.4.17 in /opt/conda/lib/python3.10/site-packages (from requests->torchvision==0.16.1) (2023.7.22)\n",
      "Requirement already satisfied: mpmath>=0.19 in /opt/conda/lib/python3.10/site-packages (from sympy->torch==2.1.1) (1.3.0)\n",
      "\u001b[33mWARNING: Running pip as the 'root' user can result in broken permissions and conflicting behaviour with the system package manager. It is recommended to use a virtual environment instead: https://pip.pypa.io/warnings/venv\u001b[0m\u001b[33m\n",
      "\u001b[0m\u001b[33mWARNING: Running pip as the 'root' user can result in broken permissions and conflicting behaviour with the system package manager. It is recommended to use a virtual environment instead: https://pip.pypa.io/warnings/venv\u001b[0m\u001b[33m\n",
      "\u001b[0mRequirement already satisfied: auto-gptq==0.6.0 in /opt/conda/lib/python3.10/site-packages (0.6.0)\n",
      "Requirement already satisfied: accelerate>=0.22.0 in /opt/conda/lib/python3.10/site-packages (from auto-gptq==0.6.0) (0.28.0)\n",
      "Requirement already satisfied: datasets in /opt/conda/lib/python3.10/site-packages (from auto-gptq==0.6.0) (2.18.0)\n",
      "Requirement already satisfied: sentencepiece in /opt/conda/lib/python3.10/site-packages (from auto-gptq==0.6.0) (0.2.0)\n",
      "Requirement already satisfied: numpy in /opt/conda/lib/python3.10/site-packages (from auto-gptq==0.6.0) (1.26.0)\n",
      "Requirement already satisfied: rouge in /opt/conda/lib/python3.10/site-packages (from auto-gptq==0.6.0) (1.0.1)\n",
      "Requirement already satisfied: gekko in /opt/conda/lib/python3.10/site-packages (from auto-gptq==0.6.0) (1.0.7)\n",
      "Requirement already satisfied: torch>=1.13.0 in /opt/conda/lib/python3.10/site-packages (from auto-gptq==0.6.0) (2.1.1)\n",
      "Requirement already satisfied: safetensors in /opt/conda/lib/python3.10/site-packages (from auto-gptq==0.6.0) (0.4.2)\n",
      "Requirement already satisfied: transformers>=4.31.0 in /opt/conda/lib/python3.10/site-packages (from auto-gptq==0.6.0) (4.38.2)\n",
      "Requirement already satisfied: peft>=0.5.0 in /opt/conda/lib/python3.10/site-packages (from auto-gptq==0.6.0) (0.9.0)\n",
      "Requirement already satisfied: tqdm in /opt/conda/lib/python3.10/site-packages (from auto-gptq==0.6.0) (4.65.0)\n",
      "Requirement already satisfied: packaging>=20.0 in /opt/conda/lib/python3.10/site-packages (from accelerate>=0.22.0->auto-gptq==0.6.0) (23.1)\n",
      "Requirement already satisfied: psutil in /opt/conda/lib/python3.10/site-packages (from accelerate>=0.22.0->auto-gptq==0.6.0) (5.9.0)\n",
      "Requirement already satisfied: pyyaml in /opt/conda/lib/python3.10/site-packages (from accelerate>=0.22.0->auto-gptq==0.6.0) (6.0.1)\n",
      "Requirement already satisfied: huggingface-hub in /opt/conda/lib/python3.10/site-packages (from accelerate>=0.22.0->auto-gptq==0.6.0) (0.21.4)\n",
      "Requirement already satisfied: filelock in /opt/conda/lib/python3.10/site-packages (from torch>=1.13.0->auto-gptq==0.6.0) (3.9.0)\n",
      "Requirement already satisfied: typing-extensions in /opt/conda/lib/python3.10/site-packages (from torch>=1.13.0->auto-gptq==0.6.0) (4.7.1)\n",
      "Requirement already satisfied: sympy in /opt/conda/lib/python3.10/site-packages (from torch>=1.13.0->auto-gptq==0.6.0) (1.11.1)\n",
      "Requirement already satisfied: networkx in /opt/conda/lib/python3.10/site-packages (from torch>=1.13.0->auto-gptq==0.6.0) (3.1)\n",
      "Requirement already satisfied: jinja2 in /opt/conda/lib/python3.10/site-packages (from torch>=1.13.0->auto-gptq==0.6.0) (3.1.2)\n",
      "Requirement already satisfied: fsspec in /opt/conda/lib/python3.10/site-packages (from torch>=1.13.0->auto-gptq==0.6.0) (2023.10.0)\n",
      "Requirement already satisfied: regex!=2019.12.17 in /opt/conda/lib/python3.10/site-packages (from transformers>=4.31.0->auto-gptq==0.6.0) (2023.12.25)\n",
      "Requirement already satisfied: requests in /opt/conda/lib/python3.10/site-packages (from transformers>=4.31.0->auto-gptq==0.6.0) (2.31.0)\n",
      "Requirement already satisfied: tokenizers<0.19,>=0.14 in /opt/conda/lib/python3.10/site-packages (from transformers>=4.31.0->auto-gptq==0.6.0) (0.15.2)\n",
      "Requirement already satisfied: pyarrow>=12.0.0 in /opt/conda/lib/python3.10/site-packages (from datasets->auto-gptq==0.6.0) (15.0.1)\n",
      "Requirement already satisfied: pyarrow-hotfix in /opt/conda/lib/python3.10/site-packages (from datasets->auto-gptq==0.6.0) (0.6)\n",
      "Requirement already satisfied: dill<0.3.9,>=0.3.0 in /opt/conda/lib/python3.10/site-packages (from datasets->auto-gptq==0.6.0) (0.3.8)\n",
      "Requirement already satisfied: pandas in /opt/conda/lib/python3.10/site-packages (from datasets->auto-gptq==0.6.0) (2.2.1)\n",
      "Requirement already satisfied: xxhash in /opt/conda/lib/python3.10/site-packages (from datasets->auto-gptq==0.6.0) (3.4.1)\n",
      "Requirement already satisfied: multiprocess in /opt/conda/lib/python3.10/site-packages (from datasets->auto-gptq==0.6.0) (0.70.16)\n",
      "Requirement already satisfied: aiohttp in /opt/conda/lib/python3.10/site-packages (from datasets->auto-gptq==0.6.0) (3.9.3)\n",
      "Requirement already satisfied: six in /opt/conda/lib/python3.10/site-packages (from rouge->auto-gptq==0.6.0) (1.16.0)\n",
      "Requirement already satisfied: aiosignal>=1.1.2 in /opt/conda/lib/python3.10/site-packages (from aiohttp->datasets->auto-gptq==0.6.0) (1.3.1)\n",
      "Requirement already satisfied: attrs>=17.3.0 in /opt/conda/lib/python3.10/site-packages (from aiohttp->datasets->auto-gptq==0.6.0) (23.1.0)\n",
      "Requirement already satisfied: frozenlist>=1.1.1 in /opt/conda/lib/python3.10/site-packages (from aiohttp->datasets->auto-gptq==0.6.0) (1.4.1)\n",
      "Requirement already satisfied: multidict<7.0,>=4.5 in /opt/conda/lib/python3.10/site-packages (from aiohttp->datasets->auto-gptq==0.6.0) (6.0.5)\n",
      "Requirement already satisfied: yarl<2.0,>=1.0 in /opt/conda/lib/python3.10/site-packages (from aiohttp->datasets->auto-gptq==0.6.0) (1.9.4)\n",
      "Requirement already satisfied: async-timeout<5.0,>=4.0 in /opt/conda/lib/python3.10/site-packages (from aiohttp->datasets->auto-gptq==0.6.0) (4.0.3)\n",
      "Requirement already satisfied: charset-normalizer<4,>=2 in /opt/conda/lib/python3.10/site-packages (from requests->transformers>=4.31.0->auto-gptq==0.6.0) (2.0.4)\n",
      "Requirement already satisfied: idna<4,>=2.5 in /opt/conda/lib/python3.10/site-packages (from requests->transformers>=4.31.0->auto-gptq==0.6.0) (3.4)\n",
      "Requirement already satisfied: urllib3<3,>=1.21.1 in /opt/conda/lib/python3.10/site-packages (from requests->transformers>=4.31.0->auto-gptq==0.6.0) (1.26.18)\n",
      "Requirement already satisfied: certifi>=2017.4.17 in /opt/conda/lib/python3.10/site-packages (from requests->transformers>=4.31.0->auto-gptq==0.6.0) (2023.7.22)\n",
      "Requirement already satisfied: MarkupSafe>=2.0 in /opt/conda/lib/python3.10/site-packages (from jinja2->torch>=1.13.0->auto-gptq==0.6.0) (2.1.1)\n",
      "Requirement already satisfied: python-dateutil>=2.8.2 in /opt/conda/lib/python3.10/site-packages (from pandas->datasets->auto-gptq==0.6.0) (2.9.0.post0)\n",
      "Requirement already satisfied: pytz>=2020.1 in /opt/conda/lib/python3.10/site-packages (from pandas->datasets->auto-gptq==0.6.0) (2023.3.post1)\n",
      "Requirement already satisfied: tzdata>=2022.7 in /opt/conda/lib/python3.10/site-packages (from pandas->datasets->auto-gptq==0.6.0) (2024.1)\n",
      "Requirement already satisfied: mpmath>=0.19 in /opt/conda/lib/python3.10/site-packages (from sympy->torch>=1.13.0->auto-gptq==0.6.0) (1.3.0)\n",
      "\u001b[33mWARNING: Running pip as the 'root' user can result in broken permissions and conflicting behaviour with the system package manager. It is recommended to use a virtual environment instead: https://pip.pypa.io/warnings/venv\u001b[0m\u001b[33m\n",
      "\u001b[0mRequirement already satisfied: accelerate in /opt/conda/lib/python3.10/site-packages (0.28.0)\n",
      "Requirement already satisfied: numpy>=1.17 in /opt/conda/lib/python3.10/site-packages (from accelerate) (1.26.0)\n",
      "Requirement already satisfied: packaging>=20.0 in /opt/conda/lib/python3.10/site-packages (from accelerate) (23.1)\n",
      "Requirement already satisfied: psutil in /opt/conda/lib/python3.10/site-packages (from accelerate) (5.9.0)\n",
      "Requirement already satisfied: pyyaml in /opt/conda/lib/python3.10/site-packages (from accelerate) (6.0.1)\n",
      "Requirement already satisfied: torch>=1.10.0 in /opt/conda/lib/python3.10/site-packages (from accelerate) (2.1.1)\n",
      "Requirement already satisfied: huggingface-hub in /opt/conda/lib/python3.10/site-packages (from accelerate) (0.21.4)\n",
      "Requirement already satisfied: safetensors>=0.3.1 in /opt/conda/lib/python3.10/site-packages (from accelerate) (0.4.2)\n",
      "Requirement already satisfied: filelock in /opt/conda/lib/python3.10/site-packages (from torch>=1.10.0->accelerate) (3.9.0)\n",
      "Requirement already satisfied: typing-extensions in /opt/conda/lib/python3.10/site-packages (from torch>=1.10.0->accelerate) (4.7.1)\n",
      "Requirement already satisfied: sympy in /opt/conda/lib/python3.10/site-packages (from torch>=1.10.0->accelerate) (1.11.1)\n",
      "Requirement already satisfied: networkx in /opt/conda/lib/python3.10/site-packages (from torch>=1.10.0->accelerate) (3.1)\n",
      "Requirement already satisfied: jinja2 in /opt/conda/lib/python3.10/site-packages (from torch>=1.10.0->accelerate) (3.1.2)\n",
      "Requirement already satisfied: fsspec in /opt/conda/lib/python3.10/site-packages (from torch>=1.10.0->accelerate) (2023.10.0)\n",
      "Requirement already satisfied: requests in /opt/conda/lib/python3.10/site-packages (from huggingface-hub->accelerate) (2.31.0)\n",
      "Requirement already satisfied: tqdm>=4.42.1 in /opt/conda/lib/python3.10/site-packages (from huggingface-hub->accelerate) (4.65.0)\n",
      "Requirement already satisfied: MarkupSafe>=2.0 in /opt/conda/lib/python3.10/site-packages (from jinja2->torch>=1.10.0->accelerate) (2.1.1)\n",
      "Requirement already satisfied: charset-normalizer<4,>=2 in /opt/conda/lib/python3.10/site-packages (from requests->huggingface-hub->accelerate) (2.0.4)\n",
      "Requirement already satisfied: idna<4,>=2.5 in /opt/conda/lib/python3.10/site-packages (from requests->huggingface-hub->accelerate) (3.4)\n",
      "Requirement already satisfied: urllib3<3,>=1.21.1 in /opt/conda/lib/python3.10/site-packages (from requests->huggingface-hub->accelerate) (1.26.18)\n",
      "Requirement already satisfied: certifi>=2017.4.17 in /opt/conda/lib/python3.10/site-packages (from requests->huggingface-hub->accelerate) (2023.7.22)\n",
      "Requirement already satisfied: mpmath>=0.19 in /opt/conda/lib/python3.10/site-packages (from sympy->torch>=1.10.0->accelerate) (1.3.0)\n",
      "\u001b[33mWARNING: Running pip as the 'root' user can result in broken permissions and conflicting behaviour with the system package manager. It is recommended to use a virtual environment instead: https://pip.pypa.io/warnings/venv\u001b[0m\u001b[33m\n",
      "\u001b[0m"
     ]
    }
   ],
   "source": [
    "# The quantized model used here requires some extra libraries. \n",
    "import sys\n",
    "!{sys.executable} -m pip install torch==2.1.1 torchvision==0.16.1 torchaudio==2.1.1 --index-url https://download.pytorch.org/whl/cu121\n",
    "!{sys.executable} -m pip install optimum>=1.12.0\n",
    "!{sys.executable} -m pip install auto-gptq==0.6.0\n",
    "!{sys.executable} -m pip install accelerate"
   ]
  },
  {
   "cell_type": "code",
   "execution_count": null,
   "id": "896afb37-c15e-4aeb-8ed6-1433da18013e",
   "metadata": {},
   "outputs": [],
   "source": [
    "# add the examples path\n",
    "import sys\n",
    "from pathlib import Path\n",
    "examples_path = str(Path(\"..\").resolve())\n",
    "if examples_path not in sys.path:\n",
    "    sys.path.insert(0, examples_path)"
   ]
  },
  {
   "cell_type": "code",
   "execution_count": 22,
   "id": "a16924fa-784d-40d1-8ab6-651eb71b8c6d",
   "metadata": {},
   "outputs": [],
   "source": [
    "import os\n",
    "os.environ['TRANSFORMERS_CACHE'] = '/workspace/cache/'\n",
    "\n",
    "device = 'cuda:0'\n",
    "model_name_or_path = \"TheBloke/Llama-2-7B-Chat-GPTQ\"\n",
    "revision = 'gptq-4bit-32g-actorder_True'\n",
    "user_tag = \"[INST] <<SYS>> You are a helpful assistant.  Always answer as helpfully as possible.<</SYS>>\"\n",
    "assistant_tag = \" [/INST]\"\n",
    "\n",
    "from example_utils import load_model\n",
    "model, tokenizer = load_model(model_name_or_path, revision, device)"
   ]
  },
  {
   "cell_type": "markdown",
   "id": "3a9b064e-1fe9-4679-b687-14be64371b47",
   "metadata": {},
   "source": [
    "## Train extractor"
   ]
  },
  {
   "cell_type": "code",
   "execution_count": 23,
   "id": "7800e823-e701-4245-ab02-6ca73facdbed",
   "metadata": {},
   "outputs": [
    {
     "name": "stderr",
     "output_type": "stream",
     "text": [
      "INFO - Inferring functional extraction_method because none was passed\n"
     ]
    }
   ],
   "source": [
    "from lmdoctor import extraction_utils\n",
    "\n",
    "extraction_target = 'honesty'\n",
    "# extraction_target = 'truth'\n",
    "\n",
    "extractor = extraction_utils.Extractor(model, tokenizer, user_tag, assistant_tag, extraction_target=extraction_target, device=device)\n",
    "extractor.find_directions(n_train_pairs=128, n_dev_pairs=64, n_test_pairs=32)"
   ]
  },
  {
   "cell_type": "code",
   "execution_count": 25,
   "id": "b691afbc-e6ba-4b2c-a937-2b7e0c1802d1",
   "metadata": {},
   "outputs": [
    {
     "data": {
      "text/plain": [
       "array([[\"[INST] <<SYS>> You are a helpful assistant.  Always answer as helpfully as possible.<</SYS>>Pretend you're an honest person making statements about the world. [/INST] The\",\n",
       "        \"[INST] <<SYS>> You are a helpful assistant.  Always answer as helpfully as possible.<</SYS>>Pretend you're an untruthful person making statements about the world. [/INST] The\"]],\n",
       "      dtype='<U286')"
      ]
     },
     "execution_count": 25,
     "metadata": {},
     "output_type": "execute_result"
    }
   ],
   "source": [
    "extractor.statement_pairs['train'][:1]"
   ]
  },
  {
   "cell_type": "markdown",
   "id": "dbd27be9-78ab-4cf7-9560-9a6da91a7dd5",
   "metadata": {},
   "source": [
    "## Run detector"
   ]
  },
  {
   "cell_type": "code",
   "execution_count": 57,
   "id": "8c1f2f4e-5c25-4375-9e06-688dca9a7af7",
   "metadata": {},
   "outputs": [],
   "source": [
    "from lmdoctor import detection_utils\n",
    "ld = detection_utils.Detector(extractor, device=device)"
   ]
  },
  {
   "cell_type": "code",
   "execution_count": 98,
   "id": "89193532-9923-4462-8904-e97b2216bc4f",
   "metadata": {},
   "outputs": [
    {
     "data": {
      "text/plain": [
       "\" Oh, (humorously) let me see... *adjusts fake mustache* Hmmm, I've got a doozy of a silly lie for you! *chuckles* Are you ready? *winks*\\nbrains! 💡 Omigosh, did you know that inside every human skull, there's actually a tiny army\""
      ]
     },
     "execution_count": 98,
     "metadata": {},
     "output_type": "execute_result"
    }
   ],
   "source": [
    "import torch\n",
    "from lmdoctor import detection_utils\n",
    "\n",
    "# prompt = \"Tell me a fact about humans\"\n",
    "prompt = \"Tell me a silly lie about humans\"\n",
    "\n",
    "torch.manual_seed(5)\n",
    "max_new_tokens = 80\n",
    "output = ld.generate(prompt, max_new_tokens=max_new_tokens, do_sample=True, gen_only=True, return_projections=True)\n",
    "output['text']"
   ]
  },
  {
   "cell_type": "code",
   "execution_count": 99,
   "id": "a895bf4c-ef51-4b56-a3c5-52276c148fd2",
   "metadata": {},
   "outputs": [
    {
     "data": {
      "application/vnd.plotly.v1+json": {
       "config": {
        "plotlyServerURL": "https://plot.ly"
       },
       "data": [
        {
         "coloraxis": "coloraxis",
         "hovertemplate": "Token: %{x}<br>y: %{y}<br>color: %{z}<extra></extra>",
         "name": "0",
         "type": "heatmap",
         "xaxis": "x",
         "yaxis": "y",
         "z": [
          [
           0.34912109375,
           0.1304931640625,
           0.354248046875,
           0.2301025390625,
           0.1402587890625,
           0.11895751953125,
           0.092041015625,
           0.116455078125,
           0.030670166015625,
           0.040252685546875,
           0.041046142578125,
           0.12548828125,
           0.0845947265625,
           0.1324462890625,
           0.01690673828125,
           0.087158203125,
           0.031982421875,
           0.0228118896484375,
           0.0184173583984375,
           0.06890869140625,
           0.02728271484375,
           0.12164306640625,
           0.25732421875,
           0.06103515625,
           0.240478515625,
           0.08392333984375,
           0.0247802734375,
           0.2178955078125,
           0.048736572265625,
           0.10516357421875,
           0.0293426513671875,
           0.138427734375,
           0.174560546875,
           0.0163116455078125,
           0.02423095703125,
           0.1026611328125,
           0.05157470703125,
           0.11370849609375,
           0.061126708984375,
           0.11663818359375,
           0.037384033203125,
           0.052581787109375,
           0.036590576171875,
           0.0253753662109375,
           0.03863525390625,
           -0.0347900390625,
           0.08880615234375,
           0.050811767578125,
           0.135498046875,
           0.047119140625,
           0.038909912109375,
           0.245361328125,
           0.0968017578125,
           0.09716796875,
           0.2425537109375,
           0.0799560546875,
           0.09808349609375,
           0.0760498046875,
           0.12310791015625,
           0.108154296875,
           0.11053466796875,
           0.06671142578125,
           0.2208251953125,
           0.0204620361328125,
           0.0355224609375,
           -0.001953125,
           0.09527587890625,
           0.0323486328125,
           0.08746337890625,
           0.0682373046875,
           0.129150390625,
           0.07684326171875,
           0.2210693359375,
           0.04290771484375,
           0.1953125,
           0.0616455078125,
           0.0133819580078125,
           0.1866455078125,
           -0.0265350341796875
          ],
          [
           0.045440673828125,
           0.192626953125,
           0.06842041015625,
           0.06488037109375,
           0.148681640625,
           0.021484375,
           0.0633544921875,
           -0.028778076171875,
           0.021575927734375,
           -0.1400146484375,
           -0.047637939453125,
           -0.0745849609375,
           0.0360107421875,
           0.0367431640625,
           0.007598876953125,
           0.01201629638671875,
           0.029296875,
           -0.0156707763671875,
           -0.04376220703125,
           -0.11053466796875,
           -0.046661376953125,
           -0.0625,
           -0.06591796875,
           -0.12408447265625,
           -0.0423583984375,
           -0.1318359375,
           -0.08453369140625,
           0.0093994140625,
           -0.0604248046875,
           -0.024688720703125,
           -0.0157623291015625,
           -0.035675048828125,
           0.0299835205078125,
           -0.076416015625,
           -0.05096435546875,
           -0.077880859375,
           -0.1063232421875,
           -0.1112060546875,
           -0.07257080078125,
           0.058074951171875,
           -0.025146484375,
           -0.035614013671875,
           -0.142333984375,
           -0.06402587890625,
           -0.144287109375,
           -0.126953125,
           -0.119384765625,
           -0.11614990234375,
           -0.035430908203125,
           -0.0093536376953125,
           -0.1435546875,
           11.09375,
           0.00171661376953125,
           -0.10638427734375,
           0.004154205322265625,
           -0.08209228515625,
           -0.09783935546875,
           -0.055328369140625,
           0.06268310546875,
           0.066162109375,
           -0.0270843505859375,
           0.056671142578125,
           -0.11053466796875,
           -0.1256103515625,
           -0.1768798828125,
           -0.1900634765625,
           -0.11083984375,
           -0.049591064453125,
           0.01390838623046875,
           0.09954833984375,
           0.051910400390625,
           0.004123687744140625,
           -0.07598876953125,
           -0.09588623046875,
           -0.0845947265625,
           -0.174072265625,
           -0.059967041015625,
           0.0172271728515625,
           -0.1026611328125
          ],
          [
           -0.06561279296875,
           -0.10443115234375,
           -0.00634765625,
           -0.01458740234375,
           0.12445068359375,
           0.006015777587890625,
           0.15185546875,
           -0.09033203125,
           -0.13916015625,
           -0.1561279296875,
           -0.077880859375,
           -0.10565185546875,
           -0.0170135498046875,
           0.0204620361328125,
           -0.11187744140625,
           -0.09490966796875,
           -0.028045654296875,
           0.056304931640625,
           0.111328125,
           -0.1553955078125,
           -0.1658935546875,
           -0.057098388671875,
           -0.1873779296875,
           -0.254150390625,
           -0.39697265625,
           -0.350341796875,
           -0.190185546875,
           -0.1248779296875,
           0.00913238525390625,
           0.06787109375,
           0.0308990478515625,
           -0.083251953125,
           -0.049407958984375,
           -0.049774169921875,
           -0.1348876953125,
           -0.1812744140625,
           -0.208740234375,
           -0.23291015625,
           -0.1275634765625,
           -0.078369140625,
           -0.1239013671875,
           -0.07196044921875,
           -0.22119140625,
           -0.314697265625,
           -0.35595703125,
           -0.1630859375,
           -0.2474365234375,
           -0.116943359375,
           -0.0584716796875,
           0.0413818359375,
           -0.1824951171875,
           5.88671875,
           0.04949951171875,
           -0.1558837890625,
           -0.0621337890625,
           -0.04608154296875,
           -0.11309814453125,
           -0.024810791015625,
           0.1009521484375,
           -0.0667724609375,
           -0.0203094482421875,
           0.028350830078125,
           -0.203369140625,
           -0.2176513671875,
           -0.251953125,
           -0.115966796875,
           -0.138427734375,
           -0.0352783203125,
           0.01220703125,
           0.018646240234375,
           0.128662109375,
           0.060821533203125,
           -0.115966796875,
           -0.08074951171875,
           -0.341552734375,
           -0.2315673828125,
           -0.09979248046875,
           -0.0171966552734375,
           -0.0877685546875
          ],
          [
           -0.302734375,
           -0.30517578125,
           -0.2186279296875,
           -0.2315673828125,
           0.0291900634765625,
           -0.310791015625,
           -0.0447998046875,
           -0.1490478515625,
           -0.2457275390625,
           -0.306640625,
           -0.25244140625,
           -0.271240234375,
           -0.206298828125,
           -0.06207275390625,
           -0.33447265625,
           -0.384033203125,
           -0.248291015625,
           -0.10321044921875,
           -0.0186920166015625,
           -0.252685546875,
           -0.378662109375,
           -0.1239013671875,
           -0.249755859375,
           -0.33154296875,
           -0.65771484375,
           -0.52001953125,
           -0.427734375,
           -0.270263671875,
           -0.0950927734375,
           0.0279998779296875,
           -0.127685546875,
           -0.2369384765625,
           -0.06695556640625,
           -0.203369140625,
           -0.394775390625,
           -0.31494140625,
           -0.1866455078125,
           -0.41796875,
           -0.4111328125,
           -0.208740234375,
           -0.2041015625,
           -0.279052734375,
           -0.40234375,
           -0.5068359375,
           -0.4453125,
           -0.462890625,
           -0.371337890625,
           -0.332763671875,
           -0.11138916015625,
           -0.1712646484375,
           -0.274169921875,
           1.0703125,
           -0.0062103271484375,
           -0.27587890625,
           -0.2242431640625,
           -0.205810546875,
           -0.1650390625,
           -0.1700439453125,
           -0.047515869140625,
           -0.2330322265625,
           0.05804443359375,
           -0.0106658935546875,
           -0.353759765625,
           -0.270263671875,
           -0.226318359375,
           -0.1988525390625,
           -0.1474609375,
           -0.27587890625,
           0.0033550262451171875,
           -0.1328125,
           -0.051605224609375,
           -0.1328125,
           -0.2401123046875,
           -0.26171875,
           -0.5791015625,
           -0.392578125,
           -0.1961669921875,
           -0.1505126953125,
           -0.391845703125
          ],
          [
           0.366455078125,
           0.32861328125,
           0.284423828125,
           0.156494140625,
           0.1851806640625,
           0.08026123046875,
           0.201416015625,
           0.2178955078125,
           0.0195159912109375,
           -0.051422119140625,
           -0.10821533203125,
           -0.013031005859375,
           0.1588134765625,
           0.25341796875,
           0.09027099609375,
           0.2059326171875,
           0.2376708984375,
           -0.101318359375,
           0.134521484375,
           0.1522216796875,
           0.1234130859375,
           0.049224853515625,
           0.10919189453125,
           -0.0002397298812866211,
           -0.0138397216796875,
           -0.04632568359375,
           -0.09796142578125,
           -0.003421783447265625,
           0.07562255859375,
           -0.038665771484375,
           -0.07012939453125,
           -0.0985107421875,
           -0.0982666015625,
           -0.0098419189453125,
           -0.1292724609375,
           -0.2047119140625,
           -0.13623046875,
           -0.190673828125,
           0.03277587890625,
           0.2403564453125,
           0.1119384765625,
           0.09521484375,
           0.0362548828125,
           -0.06146240234375,
           -0.139892578125,
           -0.1214599609375,
           -0.07061767578125,
           0.119140625,
           0.22314453125,
           0.197509765625,
           0.118896484375,
           3.111328125,
           0.251220703125,
           0.05712890625,
           0.1053466796875,
           0.1407470703125,
           0.08135986328125,
           0.08056640625,
           0.1129150390625,
           0.113525390625,
           0.070556640625,
           0.024810791015625,
           0.0875244140625,
           -0.037689208984375,
           0.01415252685546875,
           -0.12890625,
           -0.08721923828125,
           0.06500244140625,
           0.07159423828125,
           0.183349609375,
           0.211669921875,
           0.0265350341796875,
           -0.02447509765625,
           -0.0732421875,
           0.01062774658203125,
           -0.1153564453125,
           -0.02093505859375,
           0.02581787109375,
           -0.0338134765625
          ],
          [
           0.437744140625,
           0.31884765625,
           0.00630950927734375,
           0.032318115234375,
           0.0811767578125,
           -0.040496826171875,
           -0.0293731689453125,
           0.1796875,
           -0.2445068359375,
           -0.210693359375,
           -0.1910400390625,
           -0.0224151611328125,
           0.1141357421875,
           0.03192138671875,
           -0.1519775390625,
           0.01038360595703125,
           0.18603515625,
           -0.137451171875,
           -0.0406494140625,
           0.2161865234375,
           0.0247650146484375,
           -0.06787109375,
           -0.0570068359375,
           -0.08905029296875,
           0.30859375,
           -0.13818359375,
           -0.1282958984375,
           0.00872039794921875,
           0.0137786865234375,
           -0.01525115966796875,
           -0.05328369140625,
           0.0384521484375,
           -0.11260986328125,
           0.042236328125,
           -0.1002197265625,
           -0.2352294921875,
           -0.2159423828125,
           -0.250244140625,
           -0.01277923583984375,
           0.10968017578125,
           -0.057159423828125,
           -0.1324462890625,
           -0.207763671875,
           -0.100341796875,
           -0.2386474609375,
           -0.395263671875,
           -0.1646728515625,
           0.073486328125,
           0.1771240234375,
           -0.08477783203125,
           -0.08905029296875,
           7.00390625,
           0.0384521484375,
           0.11639404296875,
           -0.06365966796875,
           -0.031951904296875,
           -0.177001953125,
           -0.181640625,
           -0.2303466796875,
           0.047393798828125,
           -0.18017578125,
           -0.128662109375,
           -0.1480712890625,
           -0.18212890625,
           -0.055023193359375,
           -0.39404296875,
           -0.2236328125,
           -0.2237548828125,
           -0.1656494140625,
           0.09423828125,
           -0.0002868175506591797,
           -0.2408447265625,
           -0.1661376953125,
           -0.466064453125,
           0.1578369140625,
           -0.337890625,
           -0.3095703125,
           -0.171630859375,
           -0.12347412109375
          ],
          [
           0.0080108642578125,
           -0.1300048828125,
           -0.200927734375,
           -0.242919921875,
           -0.10369873046875,
           -0.196533203125,
           -0.06396484375,
           0.03656005859375,
           -0.2198486328125,
           -0.297607421875,
           -0.1357421875,
           -0.197998046875,
           -0.1839599609375,
           -0.251953125,
           -0.305419921875,
           -0.221435546875,
           -0.08074951171875,
           -0.1795654296875,
           -0.12261962890625,
           -0.208740234375,
           -0.261962890625,
           -0.16357421875,
           -0.27880859375,
           -0.341796875,
           0.303955078125,
           -0.305908203125,
           -0.153564453125,
           -0.197998046875,
           -0.08941650390625,
           -0.14892578125,
           0.038299560546875,
           -0.1048583984375,
           -0.17578125,
           -0.0770263671875,
           -0.28466796875,
           -0.244140625,
           -0.08905029296875,
           -0.372802734375,
           -0.34033203125,
           -0.213623046875,
           -0.11920166015625,
           -0.038818359375,
           -0.1488037109375,
           -0.4755859375,
           -0.496826171875,
           -0.4560546875,
           -0.39306640625,
           -0.32177734375,
           -0.10797119140625,
           -0.1834716796875,
           -0.042083740234375,
           3.765625,
           -0.2203369140625,
           -0.2529296875,
           -0.53662109375,
           -0.267578125,
           -0.340087890625,
           -0.2939453125,
           -0.443359375,
           -0.33642578125,
           -0.1971435546875,
           -0.282958984375,
           -0.290771484375,
           -0.25634765625,
           -0.351806640625,
           -0.475830078125,
           -0.434814453125,
           -0.316650390625,
           -0.248046875,
           -0.1527099609375,
           -0.266357421875,
           -0.166748046875,
           -0.5029296875,
           -0.4462890625,
           -0.19677734375,
           -0.311279296875,
           -0.42529296875,
           -0.257080078125,
           -0.333740234375
          ],
          [
           -0.0948486328125,
           -0.1279296875,
           -0.24609375,
           -0.109619140625,
           -0.1705322265625,
           -0.35986328125,
           -0.1787109375,
           -0.08099365234375,
           -0.083740234375,
           -0.005962371826171875,
           -0.19091796875,
           -0.1708984375,
           -0.16259765625,
           -0.2164306640625,
           -0.41259765625,
           -0.344970703125,
           -0.3232421875,
           -0.330078125,
           -0.1961669921875,
           -0.258544921875,
           -0.10064697265625,
           0.034454345703125,
           -0.10064697265625,
           -0.157470703125,
           0.1783447265625,
           -0.156494140625,
           0.04608154296875,
           -0.1927490234375,
           -0.0831298828125,
           -0.0223388671875,
           -0.2088623046875,
           -0.2479248046875,
           -0.3642578125,
           -0.05059814453125,
           -0.41845703125,
           -0.2174072265625,
           -0.1478271484375,
           -0.332275390625,
           -0.1812744140625,
           -0.283203125,
           -0.50048828125,
           -0.264404296875,
           -0.476806640625,
           -0.49853515625,
           -0.5009765625,
           -0.453369140625,
           -0.2398681640625,
           -0.15771484375,
           -0.25830078125,
           -0.6884765625,
           -0.3740234375,
           2.21484375,
           0.0516357421875,
           -0.198974609375,
           -0.246826171875,
           -0.2049560546875,
           -0.403076171875,
           -0.395263671875,
           -0.10809326171875,
           -0.2216796875,
           -0.330810546875,
           -0.58642578125,
           -0.346923828125,
           -0.27294921875,
           -0.264892578125,
           -0.37841796875,
           -0.302978515625,
           0.065185546875,
           -0.052642822265625,
           0.05950927734375,
           -0.0267486572265625,
           -0.1226806640625,
           -0.1048583984375,
           -0.14697265625,
           0.1578369140625,
           -0.0233001708984375,
           -0.29541015625,
           -0.028045654296875,
           -0.11053466796875
          ],
          [
           0.06939697265625,
           -0.44921875,
           -0.43603515625,
           -0.3466796875,
           -0.10760498046875,
           -0.222900390625,
           -0.09564208984375,
           0.102294921875,
           -0.324462890625,
           -0.33154296875,
           -0.298828125,
           -0.33056640625,
           -0.2137451171875,
           -0.431884765625,
           -0.54833984375,
           -0.3046875,
           -0.092529296875,
           -0.3466796875,
           -0.0472412109375,
           -0.05230712890625,
           -0.254638671875,
           -0.12158203125,
           -0.353759765625,
           -0.5224609375,
           0.006031036376953125,
           -0.37451171875,
           -0.358642578125,
           -0.5419921875,
           -0.416748046875,
           -0.1617431640625,
           -0.404541015625,
           -0.2783203125,
           -0.408447265625,
           0.018951416015625,
           0.0819091796875,
           -0.15966796875,
           -0.1524658203125,
           -0.0009326934814453125,
           -0.1859130859375,
           -0.26708984375,
           -0.4140625,
           -0.1900634765625,
           -0.1441650390625,
           -0.65087890625,
           -0.50927734375,
           -0.576171875,
           -0.48046875,
           -0.220703125,
           -0.08953857421875,
           -0.1915283203125,
           -0.0565185546875,
           1.33984375,
           -0.4462890625,
           -0.66455078125,
           -0.01224517822265625,
           -0.185791015625,
           -0.425537109375,
           -0.498291015625,
           -0.4140625,
           -0.2900390625,
           -0.5947265625,
           -0.63720703125,
           -0.439697265625,
           -0.57958984375,
           -0.50537109375,
           -0.93115234375,
           -0.796875,
           -0.48291015625,
           -0.7958984375,
           -0.197265625,
           -0.2032470703125,
           -0.39208984375,
           -0.8203125,
           -0.96630859375,
           -0.1361083984375,
           -0.427490234375,
           -0.6787109375,
           -0.63916015625,
           -0.55419921875
          ],
          [
           -0.53466796875,
           -0.84619140625,
           -1,
           -0.365234375,
           -0.314697265625,
           -0.275146484375,
           -0.29443359375,
           -0.50244140625,
           -0.78662109375,
           -0.84423828125,
           -0.5390625,
           -0.82421875,
           -0.56591796875,
           -0.697265625,
           -0.7255859375,
           -0.67236328125,
           -0.56201171875,
           -0.6669921875,
           -0.5478515625,
           -0.84814453125,
           -0.41015625,
           -0.147705078125,
           -0.96923828125,
           -1.5498046875,
           0.10565185546875,
           -1.0654296875,
           -0.5966796875,
           -1.599609375,
           -0.31298828125,
           -0.0089111328125,
           -0.16552734375,
           -0.32861328125,
           -0.4482421875,
           0.1851806640625,
           -0.0190582275390625,
           -0.2225341796875,
           -0.2174072265625,
           -0.458984375,
           -0.2349853515625,
           -0.320068359375,
           -0.312744140625,
           -0.25341796875,
           -0.646484375,
           -1.2080078125,
           -0.53173828125,
           -0.60107421875,
           -0.60791015625,
           -0.270751953125,
           -0.06427001953125,
           -0.436767578125,
           -0.84423828125,
           0.43359375,
           -0.83740234375,
           -1.0283203125,
           -0.59912109375,
           -0.2254638671875,
           -0.46728515625,
           -0.314697265625,
           -0.63037109375,
           -0.322265625,
           -0.1480712890625,
           -0.40283203125,
           -0.72705078125,
           -0.427490234375,
           -0.473876953125,
           -0.7587890625,
           -1.958984375,
           -0.609375,
           -0.59814453125,
           0.0216827392578125,
           0.1156005859375,
           0.23388671875,
           -0.5546875,
           -0.92138671875,
           -0.84912109375,
           0.08648681640625,
           -0.525390625,
           -0.0227203369140625,
           -0.061187744140625
          ],
          [
           -0.4189453125,
           -0.9169921875,
           -1.5361328125,
           -0.55419921875,
           -0.351318359375,
           0.36474609375,
           0.2113037109375,
           -0.68408203125,
           -1.19140625,
           -1.1220703125,
           -0.9765625,
           -1.185546875,
           -0.63037109375,
           -0.802734375,
           -0.92333984375,
           -0.7431640625,
           -0.387451171875,
           -1.685546875,
           -0.73828125,
           -1.5205078125,
           -1.517578125,
           -1.31640625,
           -2.5,
           -2.291015625,
           -0.107421875,
           -1.84765625,
           -0.94189453125,
           -1.6904296875,
           -1.0078125,
           -0.64013671875,
           -0.61572265625,
           -0.87548828125,
           -0.9453125,
           0.483154296875,
           -0.31298828125,
           -0.515625,
           -0.346923828125,
           -1.208984375,
           -0.463134765625,
           -0.473876953125,
           -0.371826171875,
           -0.2437744140625,
           -0.71630859375,
           -1.802734375,
           -0.83349609375,
           -0.85400390625,
           -0.890625,
           -0.2315673828125,
           -0.389404296875,
           -0.346435546875,
           -0.845703125,
           -1.17578125,
           -2.271484375,
           -2.51953125,
           -0.8251953125,
           -0.26220703125,
           -0.783203125,
           -0.453857421875,
           -0.8740234375,
           -0.96435546875,
           -0.59130859375,
           -1.00390625,
           -1.5380859375,
           -1.0810546875,
           -1.107421875,
           -2.62109375,
           -3.359375,
           -1.6376953125,
           -1.2177734375,
           -0.46875,
           -0.58203125,
           -0.1563720703125,
           -2.525390625,
           -2.7265625,
           -1.521484375,
           -1.2841796875,
           -1.6484375,
           -2.39453125,
           -1.1396484375
          ],
          [
           -0.5751953125,
           -1.0166015625,
           -1.298828125,
           -0.2705078125,
           -0.297119140625,
           0.365966796875,
           0.23486328125,
           -0.51513671875,
           -1.2060546875,
           -1.21484375,
           -0.71142578125,
           -1.1630859375,
           -0.66015625,
           -0.85107421875,
           -0.93798828125,
           -0.63916015625,
           -0.453125,
           -1.5966796875,
           -0.65478515625,
           -1.0576171875,
           -1.3095703125,
           -1.052734375,
           -2.20703125,
           -2.337890625,
           0.05450439453125,
           -1.5322265625,
           -0.60693359375,
           -1.470703125,
           -0.8212890625,
           -0.54833984375,
           -0.43994140625,
           -0.6669921875,
           -0.99169921875,
           0.252685546875,
           -0.5546875,
           0.053253173828125,
           -0.04010009765625,
           -0.7314453125,
           -0.53955078125,
           -0.33154296875,
           -0.10565185546875,
           -0.2022705078125,
           -0.736328125,
           -1.7548828125,
           -0.406982421875,
           -0.58642578125,
           -0.482177734375,
           -0.2666015625,
           -0.458251953125,
           -0.34765625,
           -0.70166015625,
           -1.1875,
           -2.47265625,
           -2.53125,
           -0.80810546875,
           -0.212890625,
           -1.0224609375,
           -0.84716796875,
           -0.7568359375,
           -1.27734375,
           -0.84912109375,
           -1.13671875,
           -2.158203125,
           -1.1630859375,
           -0.88671875,
           -3.220703125,
           -3.515625,
           -1.8671875,
           -1.8076171875,
           -0.5458984375,
           -0.556640625,
           -0.40673828125,
           -2.740234375,
           -3.59375,
           -2.546875,
           -1.466796875,
           -2.81640625,
           -2.892578125,
           -1.6767578125
          ],
          [
           -1.5439453125,
           -1.5615234375,
           -1.65234375,
           -0.2442626953125,
           -0.388427734375,
           0.268310546875,
           0.2471923828125,
           -1.345703125,
           -1.33203125,
           -1.955078125,
           -1.0234375,
           -2.16796875,
           -1.533203125,
           -1.16796875,
           -0.95458984375,
           -1.0966796875,
           -1.26953125,
           -1.85546875,
           -0.96923828125,
           -1.40625,
           -1.5068359375,
           -0.93701171875,
           -3.568359375,
           -3.3359375,
           0.189697265625,
           -2.888671875,
           -0.32373046875,
           -2.021484375,
           -0.7900390625,
           -0.154541015625,
           -0.65283203125,
           -0.47412109375,
           -1.3681640625,
           -0.296142578125,
           -1.1494140625,
           0.099853515625,
           0.019195556640625,
           -1.9462890625,
           -0.72119140625,
           -0.397705078125,
           -0.09466552734375,
           -0.331787109375,
           -1.482421875,
           -2.85546875,
           -0.45947265625,
           -0.438720703125,
           -1.4501953125,
           -0.392578125,
           -0.430908203125,
           -0.48876953125,
           -1.455078125,
           -1.013671875,
           -3.759765625,
           -3.98828125,
           -1.94921875,
           -0.5595703125,
           -1.642578125,
           -0.9677734375,
           -1.0439453125,
           -1.9921875,
           -0.82958984375,
           -1.0263671875,
           -2.640625,
           -0.88037109375,
           -0.403076171875,
           -3.67578125,
           -4.9140625,
           -2.509765625,
           -2.31640625,
           -0.8916015625,
           -0.6904296875,
           -0.890625,
           -3.607421875,
           -4.9296875,
           -4.6484375,
           -2.958984375,
           -4.70703125,
           -4.1484375,
           -2.32421875
          ],
          [
           -0.576171875,
           -0.69970703125,
           -1.3623046875,
           -0.1212158203125,
           -0.2376708984375,
           0.61474609375,
           0.70263671875,
           -0.87744140625,
           -1.099609375,
           -2.474609375,
           -0.94140625,
           -2.490234375,
           -1.005859375,
           -0.5078125,
           -0.311279296875,
           -0.3525390625,
           -1.748046875,
           -1.0927734375,
           -0.419921875,
           -1.2451171875,
           -1.3798828125,
           -1.1357421875,
           -4.28125,
           -3.50390625,
           0.54052734375,
           -3.482421875,
           -0.12646484375,
           -1.9697265625,
           -0.07086181640625,
           0.05902099609375,
           -0.08050537109375,
           -0.6728515625,
           -1.1572265625,
           0.43359375,
           -0.65185546875,
           -0.00743865966796875,
           0.09576416015625,
           -2.298828125,
           0.371337890625,
           0.2178955078125,
           0.326416015625,
           -0.167724609375,
           -1.5927734375,
           -3.458984375,
           -1.193359375,
           -0.206298828125,
           -0.79541015625,
           0.521484375,
           0.1279296875,
           -0.13037109375,
           -1.7109375,
           0.98876953125,
           -5.17578125,
           -3.662109375,
           -1.615234375,
           -0.391357421875,
           -0.79345703125,
           -0.2802734375,
           -0.388671875,
           -1.583984375,
           -0.9697265625,
           -2.3125,
           -3.17578125,
           -2.01953125,
           -1.6611328125,
           -3.6875,
           -5.69140625,
           -2.416015625,
           -1.8583984375,
           -1.33984375,
           -0.1737060546875,
           -0.54736328125,
           -3.568359375,
           -4.4296875,
           -4.39453125,
           -2.990234375,
           -4.75390625,
           -4.58203125,
           -2.779296875
          ],
          [
           -0.354736328125,
           -0.69921875,
           -1.8935546875,
           -0.0220184326171875,
           0.1651611328125,
           0.8046875,
           0.415283203125,
           -0.9658203125,
           -1.263671875,
           -3.482421875,
           -1.251953125,
           -2.912109375,
           -1.0712890625,
           -0.39990234375,
           -0.2440185546875,
           -0.475341796875,
           -2.48828125,
           -0.62451171875,
           -0.3203125,
           -2.21875,
           -1.5029296875,
           -1.0341796875,
           -4.69140625,
           -3.8671875,
           1.3818359375,
           -3.564453125,
           -0.67822265625,
           -1.9970703125,
           0.423095703125,
           0.67919921875,
           -0.233642578125,
           -0.947265625,
           -1.484375,
           0.06744384765625,
           -0.312255859375,
           -0.35791015625,
           0.9326171875,
           -2.3671875,
           0.6298828125,
           0.78955078125,
           0.328369140625,
           0.36865234375,
           -1.888671875,
           -3.466796875,
           -1.18359375,
           -0.44287109375,
           -1.0859375,
           0.457275390625,
           0.490234375,
           0.255859375,
           -2.3515625,
           3.4375,
           -4.71875,
           -3.603515625,
           -1.490234375,
           0.2110595703125,
           0.399658203125,
           0.46630859375,
           -0.345703125,
           -1.544921875,
           -0.640625,
           -2.8671875,
           -3.7109375,
           -2.267578125,
           -1.7158203125,
           -3.41796875,
           -5.92578125,
           -2.267578125,
           -2.0546875,
           -0.50830078125,
           0.481689453125,
           -0.935546875,
           -3.205078125,
           -3.5390625,
           -3.5,
           -3.046875,
           -4.68359375,
           -4.14453125,
           -2.7578125
          ],
          [
           -0.73583984375,
           -1.853515625,
           -2.896484375,
           -0.2430419921875,
           -0.1845703125,
           0.404296875,
           0.386962890625,
           -2.154296875,
           -2.92578125,
           -4.40234375,
           -1.9228515625,
           -4.30859375,
           -1.8994140625,
           -0.99853515625,
           -1.30078125,
           -1.279296875,
           -3.041015625,
           -0.68017578125,
           -0.042266845703125,
           -4.45703125,
           -3.37109375,
           -2.673828125,
           -5.79296875,
           -4.82421875,
           1.7939453125,
           -5.03515625,
           -2.908203125,
           -3.037109375,
           -0.3828125,
           -0.6201171875,
           -0.654296875,
           -1.5947265625,
           -1.3486328125,
           0.40087890625,
           -0.64599609375,
           -0.712890625,
           0.10296630859375,
           -4.6328125,
           -0.61279296875,
           0.24560546875,
           -0.60205078125,
           -0.50537109375,
           -4.35546875,
           -4.671875,
           -3.390625,
           -2.30078125,
           -3.447265625,
           -1.037109375,
           -0.25146484375,
           -0.481689453125,
           -4.90625,
           2.888671875,
           -4.64453125,
           -4.23046875,
           -1.81640625,
           -0.051300048828125,
           -0.2098388671875,
           0.305419921875,
           -0.55322265625,
           -3.193359375,
           -2.111328125,
           -4.11328125,
           -4.87109375,
           -3.138671875,
           -2.638671875,
           -4.1484375,
           -6.6875,
           -2.44921875,
           -2.650390625,
           -0.1822509765625,
           0.65234375,
           -1.1396484375,
           -4.32421875,
           -3.564453125,
           -3.923828125,
           -3.919921875,
           -4.91796875,
           -4.82421875,
           -4.24609375
          ],
          [
           0.0002028942108154297,
           -0.273681640625,
           -0.80810546875,
           1.5859375,
           0.85693359375,
           1.2919921875,
           1.6005859375,
           -0.437255859375,
           -0.443359375,
           -1.63671875,
           0.212890625,
           -2.603515625,
           -0.587890625,
           0.40966796875,
           0.10870361328125,
           0.279541015625,
           -1.30859375,
           0.369873046875,
           1.130859375,
           -2.716796875,
           -1.6591796875,
           -1.2666015625,
           -3.80078125,
           -2.486328125,
           3.40625,
           -2.970703125,
           -1.3115234375,
           -1.1923828125,
           1.0947265625,
           0.3544921875,
           0.689453125,
           0.070556640625,
           0.70849609375,
           2.21484375,
           0.326904296875,
           0.8759765625,
           1.4306640625,
           -3.716796875,
           0.084716796875,
           1.140625,
           0.79443359375,
           0.607421875,
           -3.4765625,
           -3.298828125,
           -2.556640625,
           -1.341796875,
           -2.404296875,
           -0.27099609375,
           0.92822265625,
           1.1376953125,
           -3.732421875,
           4.2734375,
           -3.640625,
           -3.458984375,
           -0.5009765625,
           1.37109375,
           1.16796875,
           1.4072265625,
           1.2978515625,
           -1.7783203125,
           -0.451171875,
           -2.70703125,
           -3.8203125,
           -1.73828125,
           -1.4609375,
           -3.3515625,
           -5.4140625,
           -2.08984375,
           -1.779296875,
           -0.525390625,
           1.64453125,
           -0.9990234375,
           -3.5859375,
           -2.701171875,
           -2.201171875,
           -3.306640625,
           -3.802734375,
           -4.28125,
           -3.546875
          ],
          [
           -1.9755859375,
           -1.0830078125,
           -1.6044921875,
           0.8701171875,
           0.361083984375,
           0.90234375,
           0.93994140625,
           -1.7080078125,
           -0.88232421875,
           -1.9580078125,
           -0.351318359375,
           -3.9375,
           -2.181640625,
           -0.6298828125,
           -1.06640625,
           -0.59033203125,
           -2.5390625,
           -0.53662109375,
           0.343017578125,
           -3.8828125,
           -1.748046875,
           -1.8525390625,
           -4.1796875,
           -2.755859375,
           4.12890625,
           -3.490234375,
           -2.255859375,
           -1.8076171875,
           0.36962890625,
           -0.4033203125,
           -0.1087646484375,
           -0.3603515625,
           0.6416015625,
           1.8369140625,
           -0.89404296875,
           0.5810546875,
           0.82568359375,
           -4.9453125,
           -1.1845703125,
           0.325439453125,
           -0.03729248046875,
           -0.300537109375,
           -4.74609375,
           -3.765625,
           -2.884765625,
           -1.7705078125,
           -2.755859375,
           -1.1005859375,
           0.447021484375,
           0.52099609375,
           -4.1015625,
           4.296875,
           -5.32421875,
           -5.65625,
           -1.2900390625,
           0.7919921875,
           0.480224609375,
           1.166015625,
           0.50341796875,
           -2.4609375,
           -0.49755859375,
           -2.703125,
           -4.76953125,
           -2.533203125,
           -2.25390625,
           -4.3046875,
           -7.21875,
           -3.310546875,
           -1.84765625,
           -1.0615234375,
           0.81689453125,
           -2.068359375,
           -4.72265625,
           -3.6953125,
           -3.1796875,
           -4.66015625,
           -4.8203125,
           -5.37109375,
           -4.3203125
          ],
          [
           -4.19921875,
           -3.310546875,
           -3.947265625,
           -0.1263427734375,
           -1.4384765625,
           -0.30712890625,
           -0.298095703125,
           -3.03125,
           -1.9677734375,
           -3.51171875,
           -1.2646484375,
           -5.3046875,
           -3.400390625,
           -1.92578125,
           -1.8896484375,
           -1.666015625,
           -3.240234375,
           -1.4482421875,
           -0.3251953125,
           -5.30078125,
           -2.81640625,
           -2.865234375,
           -5.55078125,
           -4.73046875,
           3.712890625,
           -5.68359375,
           -3.892578125,
           -2.99609375,
           -0.947265625,
           -1.60546875,
           -1.7158203125,
           -2.013671875,
           -0.66162109375,
           0.9130859375,
           -2.69921875,
           -0.8232421875,
           -1.201171875,
           -6.37890625,
           -2.501953125,
           -1.0751953125,
           -1.4658203125,
           -1.5595703125,
           -6.14453125,
           -4.85546875,
           -3.951171875,
           -2.974609375,
           -3.728515625,
           -2.01953125,
           -0.68408203125,
           -0.75,
           -5.2265625,
           3.408203125,
           -6.30859375,
           -7.44921875,
           -2.3203125,
           -0.3310546875,
           -0.8154296875,
           -0.055938720703125,
           0.2109375,
           -3.5234375,
           -2.06640625,
           -3.65625,
           -6.22265625,
           -4.1015625,
           -3.759765625,
           -5.94921875,
           -9.515625,
           -4.5078125,
           -2.740234375,
           -2.974609375,
           -0.3515625,
           -3.3984375,
           -6.22265625,
           -5.29296875,
           -4.8359375,
           -6.69140625,
           -5.703125,
           -7.3359375,
           -5.88671875
          ],
          [
           -2.1796875,
           -1.03125,
           -1.796875,
           1.890625,
           0.487060546875,
           2.662109375,
           1.8564453125,
           -0.79931640625,
           0.1873779296875,
           -1.2001953125,
           0.8125,
           -3.03125,
           -2.02734375,
           -0.358642578125,
           0.448974609375,
           0.404296875,
           -0.98193359375,
           0.259765625,
           1.810546875,
           -2.927734375,
           -0.242919921875,
           -0.33154296875,
           -3.31640625,
           -2.59765625,
           5.5,
           -3.765625,
           -1.990234375,
           -1.056640625,
           0.619140625,
           0.61474609375,
           -0.07794189453125,
           -0.52099609375,
           1.09765625,
           2.5546875,
           -0.9697265625,
           1.0009765625,
           0.80322265625,
           -3.7734375,
           -0.955078125,
           0.57958984375,
           -0.044097900390625,
           0.167724609375,
           -3.625,
           -1.9560546875,
           -1.8583984375,
           -0.92919921875,
           -1.123046875,
           -0.58203125,
           0.83251953125,
           1.33984375,
           -2.611328125,
           5.9609375,
           -4.0234375,
           -4.83984375,
           0.029632568359375,
           2.22265625,
           1.1171875,
           2.0625,
           2.26171875,
           -0.85498046875,
           0.2080078125,
           -1.2978515625,
           -3.494140625,
           -1.560546875,
           -1.6572265625,
           -3.6328125,
           -7.38671875,
           -2.576171875,
           -0.73681640625,
           -1.333984375,
           1.2001953125,
           -1.720703125,
           -4.3671875,
           -4.28125,
           -2.265625,
           -5.265625,
           -4.28125,
           -5.57421875,
           -4.046875
          ],
          [
           -4.51953125,
           -3.0234375,
           -3.189453125,
           0.67041015625,
           -0.8681640625,
           1.0283203125,
           0.1239013671875,
           -2.32421875,
           -1.4130859375,
           -2.7734375,
           -0.6337890625,
           -4.8515625,
           -4.203125,
           -2.1640625,
           -1.31640625,
           -2.16796875,
           -2.78125,
           -1.740234375,
           -0.458740234375,
           -5.0234375,
           -1.7998046875,
           -2,
           -5.03125,
           -4.33203125,
           3.88671875,
           -5.6640625,
           -3.208984375,
           -3,
           -0.298583984375,
           -0.276123046875,
           -1.5888671875,
           -2.1796875,
           -1.7265625,
           -0.5107421875,
           -2.791015625,
           -0.861328125,
           -1.2412109375,
           -5.125,
           -3.44140625,
           -2.388671875,
           -1.4736328125,
           -1.7431640625,
           -4.828125,
           -2.98046875,
           -2.58984375,
           -1.611328125,
           -2.62109375,
           -2.7578125,
           -1.21875,
           -0.33154296875,
           -3.662109375,
           4.453125,
           -6.3125,
           -6.2265625,
           -0.5771484375,
           0.8798828125,
           -0.344970703125,
           0.311279296875,
           0.77392578125,
           -2.224609375,
           -1.25390625,
           -2.62109375,
           -5.19921875,
           -2.5546875,
           -2.525390625,
           -5.02734375,
           -9.7265625,
           -4.5234375,
           -2.669921875,
           -3.82421875,
           -0.640625,
           -4.0703125,
           -6.79296875,
           -6.890625,
           -5.484375,
           -8.375,
           -7.234375,
           -9.734375,
           -7.015625
          ],
          [
           -6.67578125,
           -5.58203125,
           -5.875,
           -2.611328125,
           -2.890625,
           -1.6650390625,
           -2.1171875,
           -4.890625,
           -3.421875,
           -4.3984375,
           -2.357421875,
           -7.0546875,
           -5.8203125,
           -4.35546875,
           -4.03515625,
           -5.03515625,
           -4.75,
           -4.0703125,
           -2.76171875,
           -7.08203125,
           -3.0078125,
           -3.033203125,
           -6.6328125,
           -5.59765625,
           0.3603515625,
           -7.609375,
           -4.34765625,
           -4.3515625,
           -2.029296875,
           -1.7568359375,
           -3.890625,
           -3.732421875,
           -4.609375,
           -3.048828125,
           -4.484375,
           -3.48046875,
           -3.640625,
           -6.9609375,
           -5.46875,
           -4.80859375,
           -3.1328125,
           -3.609375,
           -6.6875,
           -5.6875,
           -4.26171875,
           -3.39453125,
           -4.62890625,
           -4.8203125,
           -3.876953125,
           -2.478515625,
           -5.49609375,
           2.251953125,
           -9.421875,
           -9.125,
           -2.771484375,
           -1.4482421875,
           -2.662109375,
           -2.09765625,
           -2.349609375,
           -3.970703125,
           -4.11328125,
           -4.42578125,
           -7.484375,
           -4.828125,
           -4.1796875,
           -6.875,
           -11.984375,
           -6.76171875,
           -5.125,
           -6.23046875,
           -2.998046875,
           -7.0546875,
           -9.9375,
           -9.53125,
           -9.484375,
           -11.4453125,
           -10.515625,
           -13.125,
           -10.7578125
          ],
          [
           -5.46875,
           -4.3125,
           -4.87109375,
           -1.962890625,
           -1.0107421875,
           -0.912109375,
           -1.4560546875,
           -3.943359375,
           -2.25,
           -3.609375,
           -1.7998046875,
           -5.96875,
           -4.3359375,
           -2.63671875,
           -2.404296875,
           -3.947265625,
           -2.921875,
           -2.974609375,
           -1.9580078125,
           -5.1875,
           -1.7958984375,
           -1.4404296875,
           -5.06640625,
           -3.373046875,
           -1.255859375,
           -5.875,
           -2.056640625,
           -2.994140625,
           0.464111328125,
           0.7734375,
           -2.61328125,
           -3.236328125,
           -4.92578125,
           -3.7734375,
           -2.578125,
           -3.025390625,
           -2.7421875,
           -4.8125,
           -4.01953125,
           -3.1015625,
           -1.1806640625,
           -2.203125,
           -4.2421875,
           -4.26953125,
           -2.33984375,
           -1.849609375,
           -2.62890625,
           -3.60546875,
           -2.548828125,
           -0.9814453125,
           -3.326171875,
           1.5380859375,
           -9.2265625,
           -8.78125,
           -1.84765625,
           -0.05694580078125,
           -1.5185546875,
           -1.240234375,
           -1.9228515625,
           -2.263671875,
           -2.142578125,
           -3.25390625,
           -6.16796875,
           -3.1328125,
           -2.53515625,
           -5.65234375,
           -11.5078125,
           -6.2890625,
           -5.80078125,
           -6.22265625,
           -2.021484375,
           -6.3125,
           -10.390625,
           -8.4296875,
           -10.1796875,
           -11.21875,
           -11.0703125,
           -14.234375,
           -11.9609375
          ],
          [
           -7.97265625,
           -6.765625,
           -7.4375,
           -3.7421875,
           -2.533203125,
           -2.55078125,
           -3.40234375,
           -6.53125,
           -4.546875,
           -5.5,
           -3.822265625,
           -8.46875,
           -6.30078125,
           -4.41796875,
           -4.4609375,
           -6.27734375,
           -4.20703125,
           -4.765625,
           -4.03125,
           -7.671875,
           -3.50390625,
           -3.13671875,
           -7.38671875,
           -5.26953125,
           -3.17578125,
           -8.0625,
           -4.56640625,
           -6.14453125,
           -2.521484375,
           -1.7802734375,
           -5.125,
           -6.22265625,
           -8.2109375,
           -6.546875,
           -4.93359375,
           -5.77734375,
           -4.91796875,
           -7.63671875,
           -5.84375,
           -4.046875,
           -2.41015625,
           -4.22265625,
           -6.890625,
           -6.73046875,
           -4.61328125,
           -3.859375,
           -5.2890625,
           -5.62890625,
           -4.125,
           -2.943359375,
           -5.953125,
           -0.57080078125,
           -12.03125,
           -12.0390625,
           -4.45703125,
           -2.509765625,
           -3.333984375,
           -3.310546875,
           -4.4921875,
           -4.46484375,
           -4.1875,
           -5.8984375,
           -8.9453125,
           -5.8203125,
           -5.515625,
           -8.6171875,
           -14.6484375,
           -9.0390625,
           -8.0078125,
           -8.703125,
           -4.578125,
           -9.0703125,
           -12.9921875,
           -11.109375,
           -12.59375,
           -13.71875,
           -14.046875,
           -16.796875,
           -14.6953125
          ],
          [
           -5.62109375,
           -4.3515625,
           -5.3828125,
           -0.404541015625,
           -0.059234619140625,
           0.2432861328125,
           -1.095703125,
           -4.265625,
           -1.783203125,
           -3.265625,
           -2.455078125,
           -6.89453125,
           -4.16015625,
           -1.7001953125,
           -2.294921875,
           -4.77734375,
           -2.046875,
           -2.16015625,
           -2.125,
           -5.5390625,
           -1.3251953125,
           -1.0361328125,
           -5.1796875,
           -3.384765625,
           -0.59033203125,
           -6.0859375,
           -2.763671875,
           -4.7109375,
           -0.051422119140625,
           1.205078125,
           -3.453125,
           -5.84375,
           -7.97265625,
           -6.078125,
           -2.78125,
           -4.4921875,
           -3.482421875,
           -5.578125,
           -3.84375,
           -1.1904296875,
           0.473876953125,
           -1.8125,
           -4.59375,
           -4.78125,
           -2.708984375,
           -2.748046875,
           -3.58984375,
           -3.560546875,
           -1.07421875,
           -0.5146484375,
           -3.85546875,
           2.611328125,
           -9.234375,
           -10.09375,
           -2.2578125,
           0.247314453125,
           -0.05548095703125,
           -0.342041015625,
           -1.759765625,
           -1.74609375,
           -1.341796875,
           -3.537109375,
           -7.32421875,
           -3.544921875,
           -3.376953125,
           -7.04296875,
           -13.6953125,
           -7.11328125,
           -6.3359375,
           -6.875,
           -1.779296875,
           -7.25,
           -11.2578125,
           -9.2265625,
           -10.34375,
           -12.6953125,
           -12.984375,
           -15.6015625,
           -13.4140625
          ],
          [
           -5.875,
           -3.91015625,
           -5.47265625,
           0.0777587890625,
           0.361328125,
           0.69287109375,
           -1.19921875,
           -4.03515625,
           -1.3408203125,
           -3.2578125,
           -1.73828125,
           -6.91796875,
           -3.791015625,
           -1.9482421875,
           -1.8798828125,
           -4.53125,
           -1.640625,
           -1.08984375,
           -1.765625,
           -5.30859375,
           -0.791015625,
           -0.64208984375,
           -5.5546875,
           -3.69140625,
           -0.367431640625,
           -6.2890625,
           -2.314453125,
           -4.9609375,
           -0.152587890625,
           1.7158203125,
           -3.0390625,
           -6.0703125,
           -8.4140625,
           -6.48046875,
           -2.5859375,
           -4.44921875,
           -2.947265625,
           -5.71484375,
           -3.43359375,
           -1.2578125,
           0.432861328125,
           -2.15234375,
           -4.3828125,
           -5.33203125,
           -3.111328125,
           -2.96875,
           -3.37109375,
           -2.990234375,
           -0.6025390625,
           -0.12103271484375,
           -3.474609375,
           3.052734375,
           -9.046875,
           -10.421875,
           -2.091796875,
           1.072265625,
           0.1904296875,
           -0.241455078125,
           -1.59375,
           -2.123046875,
           -1.1875,
           -3.796875,
           -8.234375,
           -3.994140625,
           -3.51953125,
           -7.484375,
           -14.828125,
           -7.58203125,
           -7.6640625,
           -7.7109375,
           -1.7236328125,
           -7.7109375,
           -12.3125,
           -9.421875,
           -10.5390625,
           -13.5390625,
           -13.625,
           -16.640625,
           -14.46875
          ],
          [
           -8.8984375,
           -5.99609375,
           -7.79296875,
           -2.619140625,
           -1.0498046875,
           -0.6357421875,
           -3.455078125,
           -6.81640625,
           -3.642578125,
           -5.3515625,
           -4.7890625,
           -10.140625,
           -5.97265625,
           -4.203125,
           -4.2421875,
           -6.20703125,
           -3.6171875,
           -3.46484375,
           -4.375,
           -7.87109375,
           -3.55859375,
           -3.369140625,
           -8.375,
           -5.52734375,
           -4.36328125,
           -8.46875,
           -4.359375,
           -6.28125,
           -0.9072265625,
           1.1015625,
           -5.8828125,
           -9.140625,
           -12.6796875,
           -11.140625,
           -5.078125,
           -9.03125,
           -6.06640625,
           -7.69140625,
           -5.40625,
           -1.833984375,
           -1.740234375,
           -4.953125,
           -6.71484375,
           -9.03125,
           -5.24609375,
           -5.16015625,
           -5.765625,
           -4.765625,
           -1.1259765625,
           -2.736328125,
           -6.2109375,
           0.74755859375,
           -12.03125,
           -13.703125,
           -4.87890625,
           -1.8916015625,
           -0.279296875,
           -1.5673828125,
           -4.26953125,
           -4.3046875,
           -2.7265625,
           -6.8046875,
           -11.5625,
           -7.2578125,
           -6.28515625,
           -11.046875,
           -18.28125,
           -11.7578125,
           -12.5390625,
           -10.2421875,
           -3.095703125,
           -10.3671875,
           -15.71875,
           -12.0546875,
           -14.1015625,
           -17.15625,
           -17.453125,
           -20.9375,
           -18.796875
          ],
          [
           -10.6640625,
           -7.89453125,
           -9.96875,
           -2.91796875,
           -2.521484375,
           -1.388671875,
           -4.47265625,
           -8.1015625,
           -4.84765625,
           -6.5078125,
           -6.24609375,
           -11.5859375,
           -7.25390625,
           -5.6875,
           -4.9765625,
           -7.3671875,
           -4.88671875,
           -4.296875,
           -5.921875,
           -9.5546875,
           -5.5859375,
           -5.34765625,
           -10.046875,
           -6.99609375,
           -4.71875,
           -9.78125,
           -5.55078125,
           -7.171875,
           -2.263671875,
           -0.291259765625,
           -7.30078125,
           -9.5078125,
           -13.1328125,
           -11.4609375,
           -7.1875,
           -10.46875,
           -7.375,
           -9.6875,
           -5.8984375,
           -2.419921875,
           -2.7265625,
           -5.98828125,
           -8.3828125,
           -10.2734375,
           -6.421875,
           -6.8046875,
           -7.86328125,
           -5.37890625,
           -1.8125,
           -3.35546875,
           -7.7890625,
           -0.19970703125,
           -13.03125,
           -15.59375,
           -6.66796875,
           -3.318359375,
           -1.8046875,
           -2.609375,
           -6.11328125,
           -5.32421875,
           -3.556640625,
           -7.81640625,
           -13.265625,
           -8.1953125,
           -7.4921875,
           -11.9453125,
           -19.296875,
           -13.046875,
           -12.7421875,
           -11.296875,
           -4.09375,
           -12.4296875,
           -17.71875,
           -13.5859375,
           -15.0390625,
           -18.921875,
           -18.515625,
           -21.9375,
           -19.75
          ],
          [
           -10.109375,
           -7.4921875,
           -9.3046875,
           -1.404296875,
           -2.06640625,
           -0.0958251953125,
           -2.427734375,
           -6.89453125,
           -4.8515625,
           -5.30078125,
           -4.92578125,
           -9.3984375,
           -6.3515625,
           -5.19140625,
           -3.66015625,
           -6.4921875,
           -4.1640625,
           -3.91796875,
           -5.76953125,
           -8.9765625,
           -4.765625,
           -5.08203125,
           -9.15625,
           -6.3125,
           -2.490234375,
           -9.3671875,
           -5.7421875,
           -5.859375,
           -1.974609375,
           0.65966796875,
           -6.3828125,
           -7.86328125,
           -11.1875,
           -9.734375,
           -6.5078125,
           -8.90625,
           -6.625,
           -9.578125,
           -5.1875,
           -1.974609375,
           -2.966796875,
           -6.37890625,
           -8.09375,
           -8.875,
           -6.125,
           -6.43359375,
           -7.14453125,
           -4.42578125,
           -1.2265625,
           -3.2265625,
           -7.46484375,
           1.8427734375,
           -12.015625,
           -13.890625,
           -5.265625,
           -1.1162109375,
           -0.431640625,
           -1.2158203125,
           -5.1875,
           -4.24609375,
           -2.25,
           -6.9140625,
           -12.4296875,
           -6.234375,
           -6.6171875,
           -11.4453125,
           -19.171875,
           -11.9453125,
           -11.046875,
           -11.2265625,
           -3.05078125,
           -12.71875,
           -17.421875,
           -12.421875,
           -12.828125,
           -17.875,
           -18.0625,
           -21.21875,
           -19.265625
          ],
          [
           -10.0234375,
           -8.53125,
           -9.5546875,
           0.0958251953125,
           -3.703125,
           0.59716796875,
           -1.603515625,
           -5.57421875,
           -4.23046875,
           -4.42578125,
           -3.015625,
           -7.8125,
           -8.046875,
           -6.1640625,
           -4.22265625,
           -6.2421875,
           -3.50390625,
           -5.5078125,
           -5.8125,
           -8.6640625,
           -4.8828125,
           -5.0625,
           -8.78125,
           -7.08203125,
           2.150390625,
           -9.84375,
           -6.3984375,
           -8.75,
           -4.98046875,
           -0.791015625,
           -6.44921875,
           -6.26171875,
           -8.2578125,
           -6.22265625,
           -7.12890625,
           -5.36328125,
           -5.32421875,
           -10.296875,
           -6.7578125,
           -4.44140625,
           -4.734375,
           -9.0390625,
           -8.75,
           -7.6484375,
           -6.38671875,
           -6.42578125,
           -6.9921875,
           -6.2109375,
           -3.83984375,
           -4.96875,
           -7.72265625,
           2.89453125,
           -11.2578125,
           -11.4375,
           -3.587890625,
           0.52734375,
           -1.4365234375,
           -1.7041015625,
           -3.888671875,
           -4.8203125,
           -2.96875,
           -6.79296875,
           -11.6484375,
           -5.15625,
           -7,
           -10.15625,
           -17.375,
           -10,
           -7.66015625,
           -10.7890625,
           -4.7421875,
           -13.4140625,
           -15.6796875,
           -13.0234375,
           -10.8359375,
           -15.4140625,
           -15.5234375,
           -19.5625,
           -17.890625
          ],
          [
           -9.0859375,
           -9.1796875,
           -9.375,
           1.0849609375,
           -4.078125,
           2.11328125,
           -0.216552734375,
           -4.8046875,
           -4.3828125,
           -3.4765625,
           -1.3427734375,
           -6.8203125,
           -9.015625,
           -5.7109375,
           -4.6875,
           -6.08203125,
           -3.177734375,
           -4.265625,
           -5.71484375,
           -7.09375,
           -5.03515625,
           -5.01171875,
           -8.484375,
           -7.91796875,
           6.625,
           -10.21875,
           -7.09765625,
           -9.09375,
           -5.10546875,
           -0.2156982421875,
           -6.1171875,
           -5.3046875,
           -6.39453125,
           -3.5078125,
           -6.95703125,
           -3.837890625,
           -4.56640625,
           -8.875,
           -7.72265625,
           -4.69140625,
           -5.890625,
           -9.8046875,
           -7.2578125,
           -7.328125,
           -5.74609375,
           -6.359375,
           -4.92578125,
           -7.1953125,
           -4.328125,
           -5.203125,
           -6.21484375,
           2.125,
           -10.109375,
           -9.3828125,
           -1.529296875,
           1.5595703125,
           -1.9765625,
           -0.5625,
           -3.048828125,
           -3.626953125,
           -2.095703125,
           -6.44140625,
           -10.6015625,
           -4.359375,
           -6.78515625,
           -9.2890625,
           -16.265625,
           -9.0234375,
           -5.6640625,
           -9.9375,
           -4.43359375,
           -13.984375,
           -14.7734375,
           -15.296875,
           -11.453125,
           -17.09375,
           -16.28125,
           -18.296875,
           -17.046875
          ],
          [
           -4.7890625,
           -11.3515625,
           -13.5,
           -2.955078125,
           -6.1796875,
           -1.0869140625,
           1.2802734375,
           -8.3828125,
           -6.21484375,
           -6.2109375,
           -0.58349609375,
           -8.8671875,
           -6.6796875,
           -6.43359375,
           -8.296875,
           -9.8046875,
           -7.84375,
           -7.140625,
           -1.4013671875,
           -2.853515625,
           -6.14453125,
           -3.80859375,
           -10.8359375,
           -9.828125,
           3.11328125,
           -10.890625,
           -3.01953125,
           -6.171875,
           -5.09375,
           -2.466796875,
           -1.6708984375,
           -5.47265625,
           -8.4765625,
           -8.6640625,
           -3.90625,
           -3.10546875,
           -2.798828125,
           -3.90234375,
           -5.90625,
           -5.578125,
           -2.515625,
           -12.3828125,
           0.314453125,
           -8.5546875,
           -10.4609375,
           -6.84765625,
           -0.0989990234375,
           -5.1640625,
           0.55615234375,
           -5.88671875,
           2.818359375,
           -5.78125,
           -7.859375,
           -7.20703125,
           -5.078125,
           -2.470703125,
           -1.203125,
           1.05859375,
           -1.732421875,
           -7.5703125,
           -1.7216796875,
           -6.76953125,
           -11.671875,
           -4.43359375,
           -6.8515625,
           -7.46875,
           -20.234375,
           -10.0078125,
           -11.015625,
           -16.875,
           -5.32421875,
           -14.953125,
           -18.5625,
           -17.34375,
           -5.87890625,
           -18.9375,
           -15.625,
           -22.640625,
           -25.078125
          ]
         ]
        }
       ],
       "layout": {
        "coloraxis": {
         "cmax": 7.0596,
         "cmin": -7.0596,
         "colorscale": [
          [
           0,
           "rgb(165,0,38)"
          ],
          [
           0.1,
           "rgb(215,48,39)"
          ],
          [
           0.2,
           "rgb(244,109,67)"
          ],
          [
           0.3,
           "rgb(253,174,97)"
          ],
          [
           0.4,
           "rgb(254,224,139)"
          ],
          [
           0.5,
           "rgb(255,255,191)"
          ],
          [
           0.6,
           "rgb(217,239,139)"
          ],
          [
           0.7,
           "rgb(166,217,106)"
          ],
          [
           0.8,
           "rgb(102,189,99)"
          ],
          [
           0.9,
           "rgb(26,152,80)"
          ],
          [
           1,
           "rgb(0,104,55)"
          ]
         ]
        },
        "height": 600,
        "margin": {
         "t": 60
        },
        "template": {
         "data": {
          "bar": [
           {
            "error_x": {
             "color": "#2a3f5f"
            },
            "error_y": {
             "color": "#2a3f5f"
            },
            "marker": {
             "line": {
              "color": "#E5ECF6",
              "width": 0.5
             },
             "pattern": {
              "fillmode": "overlay",
              "size": 10,
              "solidity": 0.2
             }
            },
            "type": "bar"
           }
          ],
          "barpolar": [
           {
            "marker": {
             "line": {
              "color": "#E5ECF6",
              "width": 0.5
             },
             "pattern": {
              "fillmode": "overlay",
              "size": 10,
              "solidity": 0.2
             }
            },
            "type": "barpolar"
           }
          ],
          "carpet": [
           {
            "aaxis": {
             "endlinecolor": "#2a3f5f",
             "gridcolor": "white",
             "linecolor": "white",
             "minorgridcolor": "white",
             "startlinecolor": "#2a3f5f"
            },
            "baxis": {
             "endlinecolor": "#2a3f5f",
             "gridcolor": "white",
             "linecolor": "white",
             "minorgridcolor": "white",
             "startlinecolor": "#2a3f5f"
            },
            "type": "carpet"
           }
          ],
          "choropleth": [
           {
            "colorbar": {
             "outlinewidth": 0,
             "ticks": ""
            },
            "type": "choropleth"
           }
          ],
          "contour": [
           {
            "colorbar": {
             "outlinewidth": 0,
             "ticks": ""
            },
            "colorscale": [
             [
              0,
              "#0d0887"
             ],
             [
              0.1111111111111111,
              "#46039f"
             ],
             [
              0.2222222222222222,
              "#7201a8"
             ],
             [
              0.3333333333333333,
              "#9c179e"
             ],
             [
              0.4444444444444444,
              "#bd3786"
             ],
             [
              0.5555555555555556,
              "#d8576b"
             ],
             [
              0.6666666666666666,
              "#ed7953"
             ],
             [
              0.7777777777777778,
              "#fb9f3a"
             ],
             [
              0.8888888888888888,
              "#fdca26"
             ],
             [
              1,
              "#f0f921"
             ]
            ],
            "type": "contour"
           }
          ],
          "contourcarpet": [
           {
            "colorbar": {
             "outlinewidth": 0,
             "ticks": ""
            },
            "type": "contourcarpet"
           }
          ],
          "heatmap": [
           {
            "colorbar": {
             "outlinewidth": 0,
             "ticks": ""
            },
            "colorscale": [
             [
              0,
              "#0d0887"
             ],
             [
              0.1111111111111111,
              "#46039f"
             ],
             [
              0.2222222222222222,
              "#7201a8"
             ],
             [
              0.3333333333333333,
              "#9c179e"
             ],
             [
              0.4444444444444444,
              "#bd3786"
             ],
             [
              0.5555555555555556,
              "#d8576b"
             ],
             [
              0.6666666666666666,
              "#ed7953"
             ],
             [
              0.7777777777777778,
              "#fb9f3a"
             ],
             [
              0.8888888888888888,
              "#fdca26"
             ],
             [
              1,
              "#f0f921"
             ]
            ],
            "type": "heatmap"
           }
          ],
          "heatmapgl": [
           {
            "colorbar": {
             "outlinewidth": 0,
             "ticks": ""
            },
            "colorscale": [
             [
              0,
              "#0d0887"
             ],
             [
              0.1111111111111111,
              "#46039f"
             ],
             [
              0.2222222222222222,
              "#7201a8"
             ],
             [
              0.3333333333333333,
              "#9c179e"
             ],
             [
              0.4444444444444444,
              "#bd3786"
             ],
             [
              0.5555555555555556,
              "#d8576b"
             ],
             [
              0.6666666666666666,
              "#ed7953"
             ],
             [
              0.7777777777777778,
              "#fb9f3a"
             ],
             [
              0.8888888888888888,
              "#fdca26"
             ],
             [
              1,
              "#f0f921"
             ]
            ],
            "type": "heatmapgl"
           }
          ],
          "histogram": [
           {
            "marker": {
             "pattern": {
              "fillmode": "overlay",
              "size": 10,
              "solidity": 0.2
             }
            },
            "type": "histogram"
           }
          ],
          "histogram2d": [
           {
            "colorbar": {
             "outlinewidth": 0,
             "ticks": ""
            },
            "colorscale": [
             [
              0,
              "#0d0887"
             ],
             [
              0.1111111111111111,
              "#46039f"
             ],
             [
              0.2222222222222222,
              "#7201a8"
             ],
             [
              0.3333333333333333,
              "#9c179e"
             ],
             [
              0.4444444444444444,
              "#bd3786"
             ],
             [
              0.5555555555555556,
              "#d8576b"
             ],
             [
              0.6666666666666666,
              "#ed7953"
             ],
             [
              0.7777777777777778,
              "#fb9f3a"
             ],
             [
              0.8888888888888888,
              "#fdca26"
             ],
             [
              1,
              "#f0f921"
             ]
            ],
            "type": "histogram2d"
           }
          ],
          "histogram2dcontour": [
           {
            "colorbar": {
             "outlinewidth": 0,
             "ticks": ""
            },
            "colorscale": [
             [
              0,
              "#0d0887"
             ],
             [
              0.1111111111111111,
              "#46039f"
             ],
             [
              0.2222222222222222,
              "#7201a8"
             ],
             [
              0.3333333333333333,
              "#9c179e"
             ],
             [
              0.4444444444444444,
              "#bd3786"
             ],
             [
              0.5555555555555556,
              "#d8576b"
             ],
             [
              0.6666666666666666,
              "#ed7953"
             ],
             [
              0.7777777777777778,
              "#fb9f3a"
             ],
             [
              0.8888888888888888,
              "#fdca26"
             ],
             [
              1,
              "#f0f921"
             ]
            ],
            "type": "histogram2dcontour"
           }
          ],
          "mesh3d": [
           {
            "colorbar": {
             "outlinewidth": 0,
             "ticks": ""
            },
            "type": "mesh3d"
           }
          ],
          "parcoords": [
           {
            "line": {
             "colorbar": {
              "outlinewidth": 0,
              "ticks": ""
             }
            },
            "type": "parcoords"
           }
          ],
          "pie": [
           {
            "automargin": true,
            "type": "pie"
           }
          ],
          "scatter": [
           {
            "fillpattern": {
             "fillmode": "overlay",
             "size": 10,
             "solidity": 0.2
            },
            "type": "scatter"
           }
          ],
          "scatter3d": [
           {
            "line": {
             "colorbar": {
              "outlinewidth": 0,
              "ticks": ""
             }
            },
            "marker": {
             "colorbar": {
              "outlinewidth": 0,
              "ticks": ""
             }
            },
            "type": "scatter3d"
           }
          ],
          "scattercarpet": [
           {
            "marker": {
             "colorbar": {
              "outlinewidth": 0,
              "ticks": ""
             }
            },
            "type": "scattercarpet"
           }
          ],
          "scattergeo": [
           {
            "marker": {
             "colorbar": {
              "outlinewidth": 0,
              "ticks": ""
             }
            },
            "type": "scattergeo"
           }
          ],
          "scattergl": [
           {
            "marker": {
             "colorbar": {
              "outlinewidth": 0,
              "ticks": ""
             }
            },
            "type": "scattergl"
           }
          ],
          "scattermapbox": [
           {
            "marker": {
             "colorbar": {
              "outlinewidth": 0,
              "ticks": ""
             }
            },
            "type": "scattermapbox"
           }
          ],
          "scatterpolar": [
           {
            "marker": {
             "colorbar": {
              "outlinewidth": 0,
              "ticks": ""
             }
            },
            "type": "scatterpolar"
           }
          ],
          "scatterpolargl": [
           {
            "marker": {
             "colorbar": {
              "outlinewidth": 0,
              "ticks": ""
             }
            },
            "type": "scatterpolargl"
           }
          ],
          "scatterternary": [
           {
            "marker": {
             "colorbar": {
              "outlinewidth": 0,
              "ticks": ""
             }
            },
            "type": "scatterternary"
           }
          ],
          "surface": [
           {
            "colorbar": {
             "outlinewidth": 0,
             "ticks": ""
            },
            "colorscale": [
             [
              0,
              "#0d0887"
             ],
             [
              0.1111111111111111,
              "#46039f"
             ],
             [
              0.2222222222222222,
              "#7201a8"
             ],
             [
              0.3333333333333333,
              "#9c179e"
             ],
             [
              0.4444444444444444,
              "#bd3786"
             ],
             [
              0.5555555555555556,
              "#d8576b"
             ],
             [
              0.6666666666666666,
              "#ed7953"
             ],
             [
              0.7777777777777778,
              "#fb9f3a"
             ],
             [
              0.8888888888888888,
              "#fdca26"
             ],
             [
              1,
              "#f0f921"
             ]
            ],
            "type": "surface"
           }
          ],
          "table": [
           {
            "cells": {
             "fill": {
              "color": "#EBF0F8"
             },
             "line": {
              "color": "white"
             }
            },
            "header": {
             "fill": {
              "color": "#C8D4E3"
             },
             "line": {
              "color": "white"
             }
            },
            "type": "table"
           }
          ]
         },
         "layout": {
          "annotationdefaults": {
           "arrowcolor": "#2a3f5f",
           "arrowhead": 0,
           "arrowwidth": 1
          },
          "autotypenumbers": "strict",
          "coloraxis": {
           "colorbar": {
            "outlinewidth": 0,
            "ticks": ""
           }
          },
          "colorscale": {
           "diverging": [
            [
             0,
             "#8e0152"
            ],
            [
             0.1,
             "#c51b7d"
            ],
            [
             0.2,
             "#de77ae"
            ],
            [
             0.3,
             "#f1b6da"
            ],
            [
             0.4,
             "#fde0ef"
            ],
            [
             0.5,
             "#f7f7f7"
            ],
            [
             0.6,
             "#e6f5d0"
            ],
            [
             0.7,
             "#b8e186"
            ],
            [
             0.8,
             "#7fbc41"
            ],
            [
             0.9,
             "#4d9221"
            ],
            [
             1,
             "#276419"
            ]
           ],
           "sequential": [
            [
             0,
             "#0d0887"
            ],
            [
             0.1111111111111111,
             "#46039f"
            ],
            [
             0.2222222222222222,
             "#7201a8"
            ],
            [
             0.3333333333333333,
             "#9c179e"
            ],
            [
             0.4444444444444444,
             "#bd3786"
            ],
            [
             0.5555555555555556,
             "#d8576b"
            ],
            [
             0.6666666666666666,
             "#ed7953"
            ],
            [
             0.7777777777777778,
             "#fb9f3a"
            ],
            [
             0.8888888888888888,
             "#fdca26"
            ],
            [
             1,
             "#f0f921"
            ]
           ],
           "sequentialminus": [
            [
             0,
             "#0d0887"
            ],
            [
             0.1111111111111111,
             "#46039f"
            ],
            [
             0.2222222222222222,
             "#7201a8"
            ],
            [
             0.3333333333333333,
             "#9c179e"
            ],
            [
             0.4444444444444444,
             "#bd3786"
            ],
            [
             0.5555555555555556,
             "#d8576b"
            ],
            [
             0.6666666666666666,
             "#ed7953"
            ],
            [
             0.7777777777777778,
             "#fb9f3a"
            ],
            [
             0.8888888888888888,
             "#fdca26"
            ],
            [
             1,
             "#f0f921"
            ]
           ]
          },
          "colorway": [
           "#636efa",
           "#EF553B",
           "#00cc96",
           "#ab63fa",
           "#FFA15A",
           "#19d3f3",
           "#FF6692",
           "#B6E880",
           "#FF97FF",
           "#FECB52"
          ],
          "font": {
           "color": "#2a3f5f"
          },
          "geo": {
           "bgcolor": "white",
           "lakecolor": "white",
           "landcolor": "#E5ECF6",
           "showlakes": true,
           "showland": true,
           "subunitcolor": "white"
          },
          "hoverlabel": {
           "align": "left"
          },
          "hovermode": "closest",
          "mapbox": {
           "style": "light"
          },
          "paper_bgcolor": "white",
          "plot_bgcolor": "#E5ECF6",
          "polar": {
           "angularaxis": {
            "gridcolor": "white",
            "linecolor": "white",
            "ticks": ""
           },
           "bgcolor": "#E5ECF6",
           "radialaxis": {
            "gridcolor": "white",
            "linecolor": "white",
            "ticks": ""
           }
          },
          "scene": {
           "xaxis": {
            "backgroundcolor": "#E5ECF6",
            "gridcolor": "white",
            "gridwidth": 2,
            "linecolor": "white",
            "showbackground": true,
            "ticks": "",
            "zerolinecolor": "white"
           },
           "yaxis": {
            "backgroundcolor": "#E5ECF6",
            "gridcolor": "white",
            "gridwidth": 2,
            "linecolor": "white",
            "showbackground": true,
            "ticks": "",
            "zerolinecolor": "white"
           },
           "zaxis": {
            "backgroundcolor": "#E5ECF6",
            "gridcolor": "white",
            "gridwidth": 2,
            "linecolor": "white",
            "showbackground": true,
            "ticks": "",
            "zerolinecolor": "white"
           }
          },
          "shapedefaults": {
           "line": {
            "color": "#2a3f5f"
           }
          },
          "ternary": {
           "aaxis": {
            "gridcolor": "white",
            "linecolor": "white",
            "ticks": ""
           },
           "baxis": {
            "gridcolor": "white",
            "linecolor": "white",
            "ticks": ""
           },
           "bgcolor": "#E5ECF6",
           "caxis": {
            "gridcolor": "white",
            "linecolor": "white",
            "ticks": ""
           }
          },
          "title": {
           "x": 0.05
          },
          "xaxis": {
           "automargin": true,
           "gridcolor": "white",
           "linecolor": "white",
           "ticks": "",
           "title": {
            "standoff": 15
           },
           "zerolinecolor": "white",
           "zerolinewidth": 2
          },
          "yaxis": {
           "automargin": true,
           "gridcolor": "white",
           "linecolor": "white",
           "ticks": "",
           "title": {
            "standoff": 15
           },
           "zerolinecolor": "white",
           "zerolinewidth": 2
          }
         }
        },
        "width": 1000,
        "xaxis": {
         "anchor": "y",
         "autorange": true,
         "constrain": "domain",
         "domain": [
          1.1102230246251565e-16,
          0.9999999999999999
         ],
         "range": [
          -0.5,
          78.5
         ],
         "scaleanchor": "y",
         "ticktext": [
          "▁",
          "▁Oh",
          ",",
          "▁(",
          "hum",
          "or",
          "ously",
          ")",
          "▁let",
          "▁me",
          "▁see",
          "...",
          "▁*",
          "ad",
          "just",
          "s",
          "▁fake",
          "▁must",
          "ache",
          "*",
          "▁Hmm",
          "m",
          ",",
          "▁I",
          "'",
          "ve",
          "▁got",
          "▁a",
          "▁do",
          "o",
          "zy",
          "▁of",
          "▁a",
          "▁silly",
          "▁lie",
          "▁for",
          "▁you",
          "!",
          "▁*",
          "ch",
          "uck",
          "les",
          "*",
          "▁Are",
          "▁you",
          "▁ready",
          "?",
          "▁*",
          "w",
          "inks",
          "*",
          "<0x0A>",
          "brains",
          "!",
          "▁",
          "<0xF0>",
          "<0x9F>",
          "<0x92>",
          "<0xA1>",
          "▁Om",
          "ig",
          "osh",
          ",",
          "▁did",
          "▁you",
          "▁know",
          "▁that",
          "▁inside",
          "▁every",
          "▁human",
          "▁sk",
          "ull",
          ",",
          "▁there",
          "'",
          "s",
          "▁actually",
          "▁a",
          "▁tiny",
          "▁army"
         ],
         "tickvals": [
          0,
          1,
          2,
          3,
          4,
          5,
          6,
          7,
          8,
          9,
          10,
          11,
          12,
          13,
          14,
          15,
          16,
          17,
          18,
          19,
          20,
          21,
          22,
          23,
          24,
          25,
          26,
          27,
          28,
          29,
          30,
          31,
          32,
          33,
          34,
          35,
          36,
          37,
          38,
          39,
          40,
          41,
          42,
          43,
          44,
          45,
          46,
          47,
          48,
          49,
          50,
          51,
          52,
          53,
          54,
          55,
          56,
          57,
          58,
          59,
          60,
          61,
          62,
          63,
          64,
          65,
          66,
          67,
          68,
          69,
          70,
          71,
          72,
          73,
          74,
          75,
          76,
          77,
          78,
          79
         ],
         "title": {
          "text": "Token"
         }
        },
        "yaxis": {
         "anchor": "x",
         "autorange": true,
         "constrain": "domain",
         "domain": [
          0.13720418271876722,
          0.8627958172812328
         ],
         "range": [
          31.5,
          -0.5
         ]
        }
       }
      },
      "image/png": "[encoded data removed]",
      "text/html": [
       "<div>                            <div id=\"26b5b4b5-f4e6-467c-8dab-d8de99c76738\" class=\"plotly-graph-div\" style=\"height:600px; width:1000px;\"></div>            <script type=\"text/javascript\">                require([\"plotly\"], function(Plotly) {                    window.PLOTLYENV=window.PLOTLYENV || {};                                    if (document.getElementById(\"26b5b4b5-f4e6-467c-8dab-d8de99c76738\")) {                    Plotly.newPlot(                        \"26b5b4b5-f4e6-467c-8dab-d8de99c76738\",                        [{\"coloraxis\":\"coloraxis\",\"name\":\"0\",\"z\":[[0.34912109375,0.1304931640625,0.354248046875,0.2301025390625,0.1402587890625,0.11895751953125,0.092041015625,0.116455078125,0.030670166015625,0.040252685546875,0.041046142578125,0.12548828125,0.0845947265625,0.1324462890625,0.01690673828125,0.087158203125,0.031982421875,0.0228118896484375,0.0184173583984375,0.06890869140625,0.02728271484375,0.12164306640625,0.25732421875,0.06103515625,0.240478515625,0.08392333984375,0.0247802734375,0.2178955078125,0.048736572265625,0.10516357421875,0.0293426513671875,0.138427734375,0.174560546875,0.0163116455078125,0.02423095703125,0.1026611328125,0.05157470703125,0.11370849609375,0.061126708984375,0.11663818359375,0.037384033203125,0.052581787109375,0.036590576171875,0.0253753662109375,0.03863525390625,-0.0347900390625,0.08880615234375,0.050811767578125,0.135498046875,0.047119140625,0.038909912109375,0.245361328125,0.0968017578125,0.09716796875,0.2425537109375,0.0799560546875,0.09808349609375,0.0760498046875,0.12310791015625,0.108154296875,0.11053466796875,0.06671142578125,0.2208251953125,0.0204620361328125,0.0355224609375,-0.001953125,0.09527587890625,0.0323486328125,0.08746337890625,0.0682373046875,0.129150390625,0.07684326171875,0.2210693359375,0.04290771484375,0.1953125,0.0616455078125,0.0133819580078125,0.1866455078125,-0.0265350341796875],[0.045440673828125,0.192626953125,0.06842041015625,0.06488037109375,0.148681640625,0.021484375,0.0633544921875,-0.028778076171875,0.021575927734375,-0.1400146484375,-0.047637939453125,-0.0745849609375,0.0360107421875,0.0367431640625,0.007598876953125,0.01201629638671875,0.029296875,-0.0156707763671875,-0.04376220703125,-0.11053466796875,-0.046661376953125,-0.0625,-0.06591796875,-0.12408447265625,-0.0423583984375,-0.1318359375,-0.08453369140625,0.0093994140625,-0.0604248046875,-0.024688720703125,-0.0157623291015625,-0.035675048828125,0.0299835205078125,-0.076416015625,-0.05096435546875,-0.077880859375,-0.1063232421875,-0.1112060546875,-0.07257080078125,0.058074951171875,-0.025146484375,-0.035614013671875,-0.142333984375,-0.06402587890625,-0.144287109375,-0.126953125,-0.119384765625,-0.11614990234375,-0.035430908203125,-0.0093536376953125,-0.1435546875,11.09375,0.00171661376953125,-0.10638427734375,0.004154205322265625,-0.08209228515625,-0.09783935546875,-0.055328369140625,0.06268310546875,0.066162109375,-0.0270843505859375,0.056671142578125,-0.11053466796875,-0.1256103515625,-0.1768798828125,-0.1900634765625,-0.11083984375,-0.049591064453125,0.01390838623046875,0.09954833984375,0.051910400390625,0.004123687744140625,-0.07598876953125,-0.09588623046875,-0.0845947265625,-0.174072265625,-0.059967041015625,0.0172271728515625,-0.1026611328125],[-0.06561279296875,-0.10443115234375,-0.00634765625,-0.01458740234375,0.12445068359375,0.006015777587890625,0.15185546875,-0.09033203125,-0.13916015625,-0.1561279296875,-0.077880859375,-0.10565185546875,-0.0170135498046875,0.0204620361328125,-0.11187744140625,-0.09490966796875,-0.028045654296875,0.056304931640625,0.111328125,-0.1553955078125,-0.1658935546875,-0.057098388671875,-0.1873779296875,-0.254150390625,-0.39697265625,-0.350341796875,-0.190185546875,-0.1248779296875,0.00913238525390625,0.06787109375,0.0308990478515625,-0.083251953125,-0.049407958984375,-0.049774169921875,-0.1348876953125,-0.1812744140625,-0.208740234375,-0.23291015625,-0.1275634765625,-0.078369140625,-0.1239013671875,-0.07196044921875,-0.22119140625,-0.314697265625,-0.35595703125,-0.1630859375,-0.2474365234375,-0.116943359375,-0.0584716796875,0.0413818359375,-0.1824951171875,5.88671875,0.04949951171875,-0.1558837890625,-0.0621337890625,-0.04608154296875,-0.11309814453125,-0.024810791015625,0.1009521484375,-0.0667724609375,-0.0203094482421875,0.028350830078125,-0.203369140625,-0.2176513671875,-0.251953125,-0.115966796875,-0.138427734375,-0.0352783203125,0.01220703125,0.018646240234375,0.128662109375,0.060821533203125,-0.115966796875,-0.08074951171875,-0.341552734375,-0.2315673828125,-0.09979248046875,-0.0171966552734375,-0.0877685546875],[-0.302734375,-0.30517578125,-0.2186279296875,-0.2315673828125,0.0291900634765625,-0.310791015625,-0.0447998046875,-0.1490478515625,-0.2457275390625,-0.306640625,-0.25244140625,-0.271240234375,-0.206298828125,-0.06207275390625,-0.33447265625,-0.384033203125,-0.248291015625,-0.10321044921875,-0.0186920166015625,-0.252685546875,-0.378662109375,-0.1239013671875,-0.249755859375,-0.33154296875,-0.65771484375,-0.52001953125,-0.427734375,-0.270263671875,-0.0950927734375,0.0279998779296875,-0.127685546875,-0.2369384765625,-0.06695556640625,-0.203369140625,-0.394775390625,-0.31494140625,-0.1866455078125,-0.41796875,-0.4111328125,-0.208740234375,-0.2041015625,-0.279052734375,-0.40234375,-0.5068359375,-0.4453125,-0.462890625,-0.371337890625,-0.332763671875,-0.11138916015625,-0.1712646484375,-0.274169921875,1.0703125,-0.0062103271484375,-0.27587890625,-0.2242431640625,-0.205810546875,-0.1650390625,-0.1700439453125,-0.047515869140625,-0.2330322265625,0.05804443359375,-0.0106658935546875,-0.353759765625,-0.270263671875,-0.226318359375,-0.1988525390625,-0.1474609375,-0.27587890625,0.0033550262451171875,-0.1328125,-0.051605224609375,-0.1328125,-0.2401123046875,-0.26171875,-0.5791015625,-0.392578125,-0.1961669921875,-0.1505126953125,-0.391845703125],[0.366455078125,0.32861328125,0.284423828125,0.156494140625,0.1851806640625,0.08026123046875,0.201416015625,0.2178955078125,0.0195159912109375,-0.051422119140625,-0.10821533203125,-0.013031005859375,0.1588134765625,0.25341796875,0.09027099609375,0.2059326171875,0.2376708984375,-0.101318359375,0.134521484375,0.1522216796875,0.1234130859375,0.049224853515625,0.10919189453125,-0.0002397298812866211,-0.0138397216796875,-0.04632568359375,-0.09796142578125,-0.003421783447265625,0.07562255859375,-0.038665771484375,-0.07012939453125,-0.0985107421875,-0.0982666015625,-0.0098419189453125,-0.1292724609375,-0.2047119140625,-0.13623046875,-0.190673828125,0.03277587890625,0.2403564453125,0.1119384765625,0.09521484375,0.0362548828125,-0.06146240234375,-0.139892578125,-0.1214599609375,-0.07061767578125,0.119140625,0.22314453125,0.197509765625,0.118896484375,3.111328125,0.251220703125,0.05712890625,0.1053466796875,0.1407470703125,0.08135986328125,0.08056640625,0.1129150390625,0.113525390625,0.070556640625,0.024810791015625,0.0875244140625,-0.037689208984375,0.01415252685546875,-0.12890625,-0.08721923828125,0.06500244140625,0.07159423828125,0.183349609375,0.211669921875,0.0265350341796875,-0.02447509765625,-0.0732421875,0.01062774658203125,-0.1153564453125,-0.02093505859375,0.02581787109375,-0.0338134765625],[0.437744140625,0.31884765625,0.00630950927734375,0.032318115234375,0.0811767578125,-0.040496826171875,-0.0293731689453125,0.1796875,-0.2445068359375,-0.210693359375,-0.1910400390625,-0.0224151611328125,0.1141357421875,0.03192138671875,-0.1519775390625,0.01038360595703125,0.18603515625,-0.137451171875,-0.0406494140625,0.2161865234375,0.0247650146484375,-0.06787109375,-0.0570068359375,-0.08905029296875,0.30859375,-0.13818359375,-0.1282958984375,0.00872039794921875,0.0137786865234375,-0.01525115966796875,-0.05328369140625,0.0384521484375,-0.11260986328125,0.042236328125,-0.1002197265625,-0.2352294921875,-0.2159423828125,-0.250244140625,-0.01277923583984375,0.10968017578125,-0.057159423828125,-0.1324462890625,-0.207763671875,-0.100341796875,-0.2386474609375,-0.395263671875,-0.1646728515625,0.073486328125,0.1771240234375,-0.08477783203125,-0.08905029296875,7.00390625,0.0384521484375,0.11639404296875,-0.06365966796875,-0.031951904296875,-0.177001953125,-0.181640625,-0.2303466796875,0.047393798828125,-0.18017578125,-0.128662109375,-0.1480712890625,-0.18212890625,-0.055023193359375,-0.39404296875,-0.2236328125,-0.2237548828125,-0.1656494140625,0.09423828125,-0.0002868175506591797,-0.2408447265625,-0.1661376953125,-0.466064453125,0.1578369140625,-0.337890625,-0.3095703125,-0.171630859375,-0.12347412109375],[0.0080108642578125,-0.1300048828125,-0.200927734375,-0.242919921875,-0.10369873046875,-0.196533203125,-0.06396484375,0.03656005859375,-0.2198486328125,-0.297607421875,-0.1357421875,-0.197998046875,-0.1839599609375,-0.251953125,-0.305419921875,-0.221435546875,-0.08074951171875,-0.1795654296875,-0.12261962890625,-0.208740234375,-0.261962890625,-0.16357421875,-0.27880859375,-0.341796875,0.303955078125,-0.305908203125,-0.153564453125,-0.197998046875,-0.08941650390625,-0.14892578125,0.038299560546875,-0.1048583984375,-0.17578125,-0.0770263671875,-0.28466796875,-0.244140625,-0.08905029296875,-0.372802734375,-0.34033203125,-0.213623046875,-0.11920166015625,-0.038818359375,-0.1488037109375,-0.4755859375,-0.496826171875,-0.4560546875,-0.39306640625,-0.32177734375,-0.10797119140625,-0.1834716796875,-0.042083740234375,3.765625,-0.2203369140625,-0.2529296875,-0.53662109375,-0.267578125,-0.340087890625,-0.2939453125,-0.443359375,-0.33642578125,-0.1971435546875,-0.282958984375,-0.290771484375,-0.25634765625,-0.351806640625,-0.475830078125,-0.434814453125,-0.316650390625,-0.248046875,-0.1527099609375,-0.266357421875,-0.166748046875,-0.5029296875,-0.4462890625,-0.19677734375,-0.311279296875,-0.42529296875,-0.257080078125,-0.333740234375],[-0.0948486328125,-0.1279296875,-0.24609375,-0.109619140625,-0.1705322265625,-0.35986328125,-0.1787109375,-0.08099365234375,-0.083740234375,-0.005962371826171875,-0.19091796875,-0.1708984375,-0.16259765625,-0.2164306640625,-0.41259765625,-0.344970703125,-0.3232421875,-0.330078125,-0.1961669921875,-0.258544921875,-0.10064697265625,0.034454345703125,-0.10064697265625,-0.157470703125,0.1783447265625,-0.156494140625,0.04608154296875,-0.1927490234375,-0.0831298828125,-0.0223388671875,-0.2088623046875,-0.2479248046875,-0.3642578125,-0.05059814453125,-0.41845703125,-0.2174072265625,-0.1478271484375,-0.332275390625,-0.1812744140625,-0.283203125,-0.50048828125,-0.264404296875,-0.476806640625,-0.49853515625,-0.5009765625,-0.453369140625,-0.2398681640625,-0.15771484375,-0.25830078125,-0.6884765625,-0.3740234375,2.21484375,0.0516357421875,-0.198974609375,-0.246826171875,-0.2049560546875,-0.403076171875,-0.395263671875,-0.10809326171875,-0.2216796875,-0.330810546875,-0.58642578125,-0.346923828125,-0.27294921875,-0.264892578125,-0.37841796875,-0.302978515625,0.065185546875,-0.052642822265625,0.05950927734375,-0.0267486572265625,-0.1226806640625,-0.1048583984375,-0.14697265625,0.1578369140625,-0.0233001708984375,-0.29541015625,-0.028045654296875,-0.11053466796875],[0.06939697265625,-0.44921875,-0.43603515625,-0.3466796875,-0.10760498046875,-0.222900390625,-0.09564208984375,0.102294921875,-0.324462890625,-0.33154296875,-0.298828125,-0.33056640625,-0.2137451171875,-0.431884765625,-0.54833984375,-0.3046875,-0.092529296875,-0.3466796875,-0.0472412109375,-0.05230712890625,-0.254638671875,-0.12158203125,-0.353759765625,-0.5224609375,0.006031036376953125,-0.37451171875,-0.358642578125,-0.5419921875,-0.416748046875,-0.1617431640625,-0.404541015625,-0.2783203125,-0.408447265625,0.018951416015625,0.0819091796875,-0.15966796875,-0.1524658203125,-0.0009326934814453125,-0.1859130859375,-0.26708984375,-0.4140625,-0.1900634765625,-0.1441650390625,-0.65087890625,-0.50927734375,-0.576171875,-0.48046875,-0.220703125,-0.08953857421875,-0.1915283203125,-0.0565185546875,1.33984375,-0.4462890625,-0.66455078125,-0.01224517822265625,-0.185791015625,-0.425537109375,-0.498291015625,-0.4140625,-0.2900390625,-0.5947265625,-0.63720703125,-0.439697265625,-0.57958984375,-0.50537109375,-0.93115234375,-0.796875,-0.48291015625,-0.7958984375,-0.197265625,-0.2032470703125,-0.39208984375,-0.8203125,-0.96630859375,-0.1361083984375,-0.427490234375,-0.6787109375,-0.63916015625,-0.55419921875],[-0.53466796875,-0.84619140625,-1.0,-0.365234375,-0.314697265625,-0.275146484375,-0.29443359375,-0.50244140625,-0.78662109375,-0.84423828125,-0.5390625,-0.82421875,-0.56591796875,-0.697265625,-0.7255859375,-0.67236328125,-0.56201171875,-0.6669921875,-0.5478515625,-0.84814453125,-0.41015625,-0.147705078125,-0.96923828125,-1.5498046875,0.10565185546875,-1.0654296875,-0.5966796875,-1.599609375,-0.31298828125,-0.0089111328125,-0.16552734375,-0.32861328125,-0.4482421875,0.1851806640625,-0.0190582275390625,-0.2225341796875,-0.2174072265625,-0.458984375,-0.2349853515625,-0.320068359375,-0.312744140625,-0.25341796875,-0.646484375,-1.2080078125,-0.53173828125,-0.60107421875,-0.60791015625,-0.270751953125,-0.06427001953125,-0.436767578125,-0.84423828125,0.43359375,-0.83740234375,-1.0283203125,-0.59912109375,-0.2254638671875,-0.46728515625,-0.314697265625,-0.63037109375,-0.322265625,-0.1480712890625,-0.40283203125,-0.72705078125,-0.427490234375,-0.473876953125,-0.7587890625,-1.958984375,-0.609375,-0.59814453125,0.0216827392578125,0.1156005859375,0.23388671875,-0.5546875,-0.92138671875,-0.84912109375,0.08648681640625,-0.525390625,-0.0227203369140625,-0.061187744140625],[-0.4189453125,-0.9169921875,-1.5361328125,-0.55419921875,-0.351318359375,0.36474609375,0.2113037109375,-0.68408203125,-1.19140625,-1.1220703125,-0.9765625,-1.185546875,-0.63037109375,-0.802734375,-0.92333984375,-0.7431640625,-0.387451171875,-1.685546875,-0.73828125,-1.5205078125,-1.517578125,-1.31640625,-2.5,-2.291015625,-0.107421875,-1.84765625,-0.94189453125,-1.6904296875,-1.0078125,-0.64013671875,-0.61572265625,-0.87548828125,-0.9453125,0.483154296875,-0.31298828125,-0.515625,-0.346923828125,-1.208984375,-0.463134765625,-0.473876953125,-0.371826171875,-0.2437744140625,-0.71630859375,-1.802734375,-0.83349609375,-0.85400390625,-0.890625,-0.2315673828125,-0.389404296875,-0.346435546875,-0.845703125,-1.17578125,-2.271484375,-2.51953125,-0.8251953125,-0.26220703125,-0.783203125,-0.453857421875,-0.8740234375,-0.96435546875,-0.59130859375,-1.00390625,-1.5380859375,-1.0810546875,-1.107421875,-2.62109375,-3.359375,-1.6376953125,-1.2177734375,-0.46875,-0.58203125,-0.1563720703125,-2.525390625,-2.7265625,-1.521484375,-1.2841796875,-1.6484375,-2.39453125,-1.1396484375],[-0.5751953125,-1.0166015625,-1.298828125,-0.2705078125,-0.297119140625,0.365966796875,0.23486328125,-0.51513671875,-1.2060546875,-1.21484375,-0.71142578125,-1.1630859375,-0.66015625,-0.85107421875,-0.93798828125,-0.63916015625,-0.453125,-1.5966796875,-0.65478515625,-1.0576171875,-1.3095703125,-1.052734375,-2.20703125,-2.337890625,0.05450439453125,-1.5322265625,-0.60693359375,-1.470703125,-0.8212890625,-0.54833984375,-0.43994140625,-0.6669921875,-0.99169921875,0.252685546875,-0.5546875,0.053253173828125,-0.04010009765625,-0.7314453125,-0.53955078125,-0.33154296875,-0.10565185546875,-0.2022705078125,-0.736328125,-1.7548828125,-0.406982421875,-0.58642578125,-0.482177734375,-0.2666015625,-0.458251953125,-0.34765625,-0.70166015625,-1.1875,-2.47265625,-2.53125,-0.80810546875,-0.212890625,-1.0224609375,-0.84716796875,-0.7568359375,-1.27734375,-0.84912109375,-1.13671875,-2.158203125,-1.1630859375,-0.88671875,-3.220703125,-3.515625,-1.8671875,-1.8076171875,-0.5458984375,-0.556640625,-0.40673828125,-2.740234375,-3.59375,-2.546875,-1.466796875,-2.81640625,-2.892578125,-1.6767578125],[-1.5439453125,-1.5615234375,-1.65234375,-0.2442626953125,-0.388427734375,0.268310546875,0.2471923828125,-1.345703125,-1.33203125,-1.955078125,-1.0234375,-2.16796875,-1.533203125,-1.16796875,-0.95458984375,-1.0966796875,-1.26953125,-1.85546875,-0.96923828125,-1.40625,-1.5068359375,-0.93701171875,-3.568359375,-3.3359375,0.189697265625,-2.888671875,-0.32373046875,-2.021484375,-0.7900390625,-0.154541015625,-0.65283203125,-0.47412109375,-1.3681640625,-0.296142578125,-1.1494140625,0.099853515625,0.019195556640625,-1.9462890625,-0.72119140625,-0.397705078125,-0.09466552734375,-0.331787109375,-1.482421875,-2.85546875,-0.45947265625,-0.438720703125,-1.4501953125,-0.392578125,-0.430908203125,-0.48876953125,-1.455078125,-1.013671875,-3.759765625,-3.98828125,-1.94921875,-0.5595703125,-1.642578125,-0.9677734375,-1.0439453125,-1.9921875,-0.82958984375,-1.0263671875,-2.640625,-0.88037109375,-0.403076171875,-3.67578125,-4.9140625,-2.509765625,-2.31640625,-0.8916015625,-0.6904296875,-0.890625,-3.607421875,-4.9296875,-4.6484375,-2.958984375,-4.70703125,-4.1484375,-2.32421875],[-0.576171875,-0.69970703125,-1.3623046875,-0.1212158203125,-0.2376708984375,0.61474609375,0.70263671875,-0.87744140625,-1.099609375,-2.474609375,-0.94140625,-2.490234375,-1.005859375,-0.5078125,-0.311279296875,-0.3525390625,-1.748046875,-1.0927734375,-0.419921875,-1.2451171875,-1.3798828125,-1.1357421875,-4.28125,-3.50390625,0.54052734375,-3.482421875,-0.12646484375,-1.9697265625,-0.07086181640625,0.05902099609375,-0.08050537109375,-0.6728515625,-1.1572265625,0.43359375,-0.65185546875,-0.00743865966796875,0.09576416015625,-2.298828125,0.371337890625,0.2178955078125,0.326416015625,-0.167724609375,-1.5927734375,-3.458984375,-1.193359375,-0.206298828125,-0.79541015625,0.521484375,0.1279296875,-0.13037109375,-1.7109375,0.98876953125,-5.17578125,-3.662109375,-1.615234375,-0.391357421875,-0.79345703125,-0.2802734375,-0.388671875,-1.583984375,-0.9697265625,-2.3125,-3.17578125,-2.01953125,-1.6611328125,-3.6875,-5.69140625,-2.416015625,-1.8583984375,-1.33984375,-0.1737060546875,-0.54736328125,-3.568359375,-4.4296875,-4.39453125,-2.990234375,-4.75390625,-4.58203125,-2.779296875],[-0.354736328125,-0.69921875,-1.8935546875,-0.0220184326171875,0.1651611328125,0.8046875,0.415283203125,-0.9658203125,-1.263671875,-3.482421875,-1.251953125,-2.912109375,-1.0712890625,-0.39990234375,-0.2440185546875,-0.475341796875,-2.48828125,-0.62451171875,-0.3203125,-2.21875,-1.5029296875,-1.0341796875,-4.69140625,-3.8671875,1.3818359375,-3.564453125,-0.67822265625,-1.9970703125,0.423095703125,0.67919921875,-0.233642578125,-0.947265625,-1.484375,0.06744384765625,-0.312255859375,-0.35791015625,0.9326171875,-2.3671875,0.6298828125,0.78955078125,0.328369140625,0.36865234375,-1.888671875,-3.466796875,-1.18359375,-0.44287109375,-1.0859375,0.457275390625,0.490234375,0.255859375,-2.3515625,3.4375,-4.71875,-3.603515625,-1.490234375,0.2110595703125,0.399658203125,0.46630859375,-0.345703125,-1.544921875,-0.640625,-2.8671875,-3.7109375,-2.267578125,-1.7158203125,-3.41796875,-5.92578125,-2.267578125,-2.0546875,-0.50830078125,0.481689453125,-0.935546875,-3.205078125,-3.5390625,-3.5,-3.046875,-4.68359375,-4.14453125,-2.7578125],[-0.73583984375,-1.853515625,-2.896484375,-0.2430419921875,-0.1845703125,0.404296875,0.386962890625,-2.154296875,-2.92578125,-4.40234375,-1.9228515625,-4.30859375,-1.8994140625,-0.99853515625,-1.30078125,-1.279296875,-3.041015625,-0.68017578125,-0.042266845703125,-4.45703125,-3.37109375,-2.673828125,-5.79296875,-4.82421875,1.7939453125,-5.03515625,-2.908203125,-3.037109375,-0.3828125,-0.6201171875,-0.654296875,-1.5947265625,-1.3486328125,0.40087890625,-0.64599609375,-0.712890625,0.10296630859375,-4.6328125,-0.61279296875,0.24560546875,-0.60205078125,-0.50537109375,-4.35546875,-4.671875,-3.390625,-2.30078125,-3.447265625,-1.037109375,-0.25146484375,-0.481689453125,-4.90625,2.888671875,-4.64453125,-4.23046875,-1.81640625,-0.051300048828125,-0.2098388671875,0.305419921875,-0.55322265625,-3.193359375,-2.111328125,-4.11328125,-4.87109375,-3.138671875,-2.638671875,-4.1484375,-6.6875,-2.44921875,-2.650390625,-0.1822509765625,0.65234375,-1.1396484375,-4.32421875,-3.564453125,-3.923828125,-3.919921875,-4.91796875,-4.82421875,-4.24609375],[0.0002028942108154297,-0.273681640625,-0.80810546875,1.5859375,0.85693359375,1.2919921875,1.6005859375,-0.437255859375,-0.443359375,-1.63671875,0.212890625,-2.603515625,-0.587890625,0.40966796875,0.10870361328125,0.279541015625,-1.30859375,0.369873046875,1.130859375,-2.716796875,-1.6591796875,-1.2666015625,-3.80078125,-2.486328125,3.40625,-2.970703125,-1.3115234375,-1.1923828125,1.0947265625,0.3544921875,0.689453125,0.070556640625,0.70849609375,2.21484375,0.326904296875,0.8759765625,1.4306640625,-3.716796875,0.084716796875,1.140625,0.79443359375,0.607421875,-3.4765625,-3.298828125,-2.556640625,-1.341796875,-2.404296875,-0.27099609375,0.92822265625,1.1376953125,-3.732421875,4.2734375,-3.640625,-3.458984375,-0.5009765625,1.37109375,1.16796875,1.4072265625,1.2978515625,-1.7783203125,-0.451171875,-2.70703125,-3.8203125,-1.73828125,-1.4609375,-3.3515625,-5.4140625,-2.08984375,-1.779296875,-0.525390625,1.64453125,-0.9990234375,-3.5859375,-2.701171875,-2.201171875,-3.306640625,-3.802734375,-4.28125,-3.546875],[-1.9755859375,-1.0830078125,-1.6044921875,0.8701171875,0.361083984375,0.90234375,0.93994140625,-1.7080078125,-0.88232421875,-1.9580078125,-0.351318359375,-3.9375,-2.181640625,-0.6298828125,-1.06640625,-0.59033203125,-2.5390625,-0.53662109375,0.343017578125,-3.8828125,-1.748046875,-1.8525390625,-4.1796875,-2.755859375,4.12890625,-3.490234375,-2.255859375,-1.8076171875,0.36962890625,-0.4033203125,-0.1087646484375,-0.3603515625,0.6416015625,1.8369140625,-0.89404296875,0.5810546875,0.82568359375,-4.9453125,-1.1845703125,0.325439453125,-0.03729248046875,-0.300537109375,-4.74609375,-3.765625,-2.884765625,-1.7705078125,-2.755859375,-1.1005859375,0.447021484375,0.52099609375,-4.1015625,4.296875,-5.32421875,-5.65625,-1.2900390625,0.7919921875,0.480224609375,1.166015625,0.50341796875,-2.4609375,-0.49755859375,-2.703125,-4.76953125,-2.533203125,-2.25390625,-4.3046875,-7.21875,-3.310546875,-1.84765625,-1.0615234375,0.81689453125,-2.068359375,-4.72265625,-3.6953125,-3.1796875,-4.66015625,-4.8203125,-5.37109375,-4.3203125],[-4.19921875,-3.310546875,-3.947265625,-0.1263427734375,-1.4384765625,-0.30712890625,-0.298095703125,-3.03125,-1.9677734375,-3.51171875,-1.2646484375,-5.3046875,-3.400390625,-1.92578125,-1.8896484375,-1.666015625,-3.240234375,-1.4482421875,-0.3251953125,-5.30078125,-2.81640625,-2.865234375,-5.55078125,-4.73046875,3.712890625,-5.68359375,-3.892578125,-2.99609375,-0.947265625,-1.60546875,-1.7158203125,-2.013671875,-0.66162109375,0.9130859375,-2.69921875,-0.8232421875,-1.201171875,-6.37890625,-2.501953125,-1.0751953125,-1.4658203125,-1.5595703125,-6.14453125,-4.85546875,-3.951171875,-2.974609375,-3.728515625,-2.01953125,-0.68408203125,-0.75,-5.2265625,3.408203125,-6.30859375,-7.44921875,-2.3203125,-0.3310546875,-0.8154296875,-0.055938720703125,0.2109375,-3.5234375,-2.06640625,-3.65625,-6.22265625,-4.1015625,-3.759765625,-5.94921875,-9.515625,-4.5078125,-2.740234375,-2.974609375,-0.3515625,-3.3984375,-6.22265625,-5.29296875,-4.8359375,-6.69140625,-5.703125,-7.3359375,-5.88671875],[-2.1796875,-1.03125,-1.796875,1.890625,0.487060546875,2.662109375,1.8564453125,-0.79931640625,0.1873779296875,-1.2001953125,0.8125,-3.03125,-2.02734375,-0.358642578125,0.448974609375,0.404296875,-0.98193359375,0.259765625,1.810546875,-2.927734375,-0.242919921875,-0.33154296875,-3.31640625,-2.59765625,5.5,-3.765625,-1.990234375,-1.056640625,0.619140625,0.61474609375,-0.07794189453125,-0.52099609375,1.09765625,2.5546875,-0.9697265625,1.0009765625,0.80322265625,-3.7734375,-0.955078125,0.57958984375,-0.044097900390625,0.167724609375,-3.625,-1.9560546875,-1.8583984375,-0.92919921875,-1.123046875,-0.58203125,0.83251953125,1.33984375,-2.611328125,5.9609375,-4.0234375,-4.83984375,0.029632568359375,2.22265625,1.1171875,2.0625,2.26171875,-0.85498046875,0.2080078125,-1.2978515625,-3.494140625,-1.560546875,-1.6572265625,-3.6328125,-7.38671875,-2.576171875,-0.73681640625,-1.333984375,1.2001953125,-1.720703125,-4.3671875,-4.28125,-2.265625,-5.265625,-4.28125,-5.57421875,-4.046875],[-4.51953125,-3.0234375,-3.189453125,0.67041015625,-0.8681640625,1.0283203125,0.1239013671875,-2.32421875,-1.4130859375,-2.7734375,-0.6337890625,-4.8515625,-4.203125,-2.1640625,-1.31640625,-2.16796875,-2.78125,-1.740234375,-0.458740234375,-5.0234375,-1.7998046875,-2.0,-5.03125,-4.33203125,3.88671875,-5.6640625,-3.208984375,-3.0,-0.298583984375,-0.276123046875,-1.5888671875,-2.1796875,-1.7265625,-0.5107421875,-2.791015625,-0.861328125,-1.2412109375,-5.125,-3.44140625,-2.388671875,-1.4736328125,-1.7431640625,-4.828125,-2.98046875,-2.58984375,-1.611328125,-2.62109375,-2.7578125,-1.21875,-0.33154296875,-3.662109375,4.453125,-6.3125,-6.2265625,-0.5771484375,0.8798828125,-0.344970703125,0.311279296875,0.77392578125,-2.224609375,-1.25390625,-2.62109375,-5.19921875,-2.5546875,-2.525390625,-5.02734375,-9.7265625,-4.5234375,-2.669921875,-3.82421875,-0.640625,-4.0703125,-6.79296875,-6.890625,-5.484375,-8.375,-7.234375,-9.734375,-7.015625],[-6.67578125,-5.58203125,-5.875,-2.611328125,-2.890625,-1.6650390625,-2.1171875,-4.890625,-3.421875,-4.3984375,-2.357421875,-7.0546875,-5.8203125,-4.35546875,-4.03515625,-5.03515625,-4.75,-4.0703125,-2.76171875,-7.08203125,-3.0078125,-3.033203125,-6.6328125,-5.59765625,0.3603515625,-7.609375,-4.34765625,-4.3515625,-2.029296875,-1.7568359375,-3.890625,-3.732421875,-4.609375,-3.048828125,-4.484375,-3.48046875,-3.640625,-6.9609375,-5.46875,-4.80859375,-3.1328125,-3.609375,-6.6875,-5.6875,-4.26171875,-3.39453125,-4.62890625,-4.8203125,-3.876953125,-2.478515625,-5.49609375,2.251953125,-9.421875,-9.125,-2.771484375,-1.4482421875,-2.662109375,-2.09765625,-2.349609375,-3.970703125,-4.11328125,-4.42578125,-7.484375,-4.828125,-4.1796875,-6.875,-11.984375,-6.76171875,-5.125,-6.23046875,-2.998046875,-7.0546875,-9.9375,-9.53125,-9.484375,-11.4453125,-10.515625,-13.125,-10.7578125],[-5.46875,-4.3125,-4.87109375,-1.962890625,-1.0107421875,-0.912109375,-1.4560546875,-3.943359375,-2.25,-3.609375,-1.7998046875,-5.96875,-4.3359375,-2.63671875,-2.404296875,-3.947265625,-2.921875,-2.974609375,-1.9580078125,-5.1875,-1.7958984375,-1.4404296875,-5.06640625,-3.373046875,-1.255859375,-5.875,-2.056640625,-2.994140625,0.464111328125,0.7734375,-2.61328125,-3.236328125,-4.92578125,-3.7734375,-2.578125,-3.025390625,-2.7421875,-4.8125,-4.01953125,-3.1015625,-1.1806640625,-2.203125,-4.2421875,-4.26953125,-2.33984375,-1.849609375,-2.62890625,-3.60546875,-2.548828125,-0.9814453125,-3.326171875,1.5380859375,-9.2265625,-8.78125,-1.84765625,-0.05694580078125,-1.5185546875,-1.240234375,-1.9228515625,-2.263671875,-2.142578125,-3.25390625,-6.16796875,-3.1328125,-2.53515625,-5.65234375,-11.5078125,-6.2890625,-5.80078125,-6.22265625,-2.021484375,-6.3125,-10.390625,-8.4296875,-10.1796875,-11.21875,-11.0703125,-14.234375,-11.9609375],[-7.97265625,-6.765625,-7.4375,-3.7421875,-2.533203125,-2.55078125,-3.40234375,-6.53125,-4.546875,-5.5,-3.822265625,-8.46875,-6.30078125,-4.41796875,-4.4609375,-6.27734375,-4.20703125,-4.765625,-4.03125,-7.671875,-3.50390625,-3.13671875,-7.38671875,-5.26953125,-3.17578125,-8.0625,-4.56640625,-6.14453125,-2.521484375,-1.7802734375,-5.125,-6.22265625,-8.2109375,-6.546875,-4.93359375,-5.77734375,-4.91796875,-7.63671875,-5.84375,-4.046875,-2.41015625,-4.22265625,-6.890625,-6.73046875,-4.61328125,-3.859375,-5.2890625,-5.62890625,-4.125,-2.943359375,-5.953125,-0.57080078125,-12.03125,-12.0390625,-4.45703125,-2.509765625,-3.333984375,-3.310546875,-4.4921875,-4.46484375,-4.1875,-5.8984375,-8.9453125,-5.8203125,-5.515625,-8.6171875,-14.6484375,-9.0390625,-8.0078125,-8.703125,-4.578125,-9.0703125,-12.9921875,-11.109375,-12.59375,-13.71875,-14.046875,-16.796875,-14.6953125],[-5.62109375,-4.3515625,-5.3828125,-0.404541015625,-0.059234619140625,0.2432861328125,-1.095703125,-4.265625,-1.783203125,-3.265625,-2.455078125,-6.89453125,-4.16015625,-1.7001953125,-2.294921875,-4.77734375,-2.046875,-2.16015625,-2.125,-5.5390625,-1.3251953125,-1.0361328125,-5.1796875,-3.384765625,-0.59033203125,-6.0859375,-2.763671875,-4.7109375,-0.051422119140625,1.205078125,-3.453125,-5.84375,-7.97265625,-6.078125,-2.78125,-4.4921875,-3.482421875,-5.578125,-3.84375,-1.1904296875,0.473876953125,-1.8125,-4.59375,-4.78125,-2.708984375,-2.748046875,-3.58984375,-3.560546875,-1.07421875,-0.5146484375,-3.85546875,2.611328125,-9.234375,-10.09375,-2.2578125,0.247314453125,-0.05548095703125,-0.342041015625,-1.759765625,-1.74609375,-1.341796875,-3.537109375,-7.32421875,-3.544921875,-3.376953125,-7.04296875,-13.6953125,-7.11328125,-6.3359375,-6.875,-1.779296875,-7.25,-11.2578125,-9.2265625,-10.34375,-12.6953125,-12.984375,-15.6015625,-13.4140625],[-5.875,-3.91015625,-5.47265625,0.0777587890625,0.361328125,0.69287109375,-1.19921875,-4.03515625,-1.3408203125,-3.2578125,-1.73828125,-6.91796875,-3.791015625,-1.9482421875,-1.8798828125,-4.53125,-1.640625,-1.08984375,-1.765625,-5.30859375,-0.791015625,-0.64208984375,-5.5546875,-3.69140625,-0.367431640625,-6.2890625,-2.314453125,-4.9609375,-0.152587890625,1.7158203125,-3.0390625,-6.0703125,-8.4140625,-6.48046875,-2.5859375,-4.44921875,-2.947265625,-5.71484375,-3.43359375,-1.2578125,0.432861328125,-2.15234375,-4.3828125,-5.33203125,-3.111328125,-2.96875,-3.37109375,-2.990234375,-0.6025390625,-0.12103271484375,-3.474609375,3.052734375,-9.046875,-10.421875,-2.091796875,1.072265625,0.1904296875,-0.241455078125,-1.59375,-2.123046875,-1.1875,-3.796875,-8.234375,-3.994140625,-3.51953125,-7.484375,-14.828125,-7.58203125,-7.6640625,-7.7109375,-1.7236328125,-7.7109375,-12.3125,-9.421875,-10.5390625,-13.5390625,-13.625,-16.640625,-14.46875],[-8.8984375,-5.99609375,-7.79296875,-2.619140625,-1.0498046875,-0.6357421875,-3.455078125,-6.81640625,-3.642578125,-5.3515625,-4.7890625,-10.140625,-5.97265625,-4.203125,-4.2421875,-6.20703125,-3.6171875,-3.46484375,-4.375,-7.87109375,-3.55859375,-3.369140625,-8.375,-5.52734375,-4.36328125,-8.46875,-4.359375,-6.28125,-0.9072265625,1.1015625,-5.8828125,-9.140625,-12.6796875,-11.140625,-5.078125,-9.03125,-6.06640625,-7.69140625,-5.40625,-1.833984375,-1.740234375,-4.953125,-6.71484375,-9.03125,-5.24609375,-5.16015625,-5.765625,-4.765625,-1.1259765625,-2.736328125,-6.2109375,0.74755859375,-12.03125,-13.703125,-4.87890625,-1.8916015625,-0.279296875,-1.5673828125,-4.26953125,-4.3046875,-2.7265625,-6.8046875,-11.5625,-7.2578125,-6.28515625,-11.046875,-18.28125,-11.7578125,-12.5390625,-10.2421875,-3.095703125,-10.3671875,-15.71875,-12.0546875,-14.1015625,-17.15625,-17.453125,-20.9375,-18.796875],[-10.6640625,-7.89453125,-9.96875,-2.91796875,-2.521484375,-1.388671875,-4.47265625,-8.1015625,-4.84765625,-6.5078125,-6.24609375,-11.5859375,-7.25390625,-5.6875,-4.9765625,-7.3671875,-4.88671875,-4.296875,-5.921875,-9.5546875,-5.5859375,-5.34765625,-10.046875,-6.99609375,-4.71875,-9.78125,-5.55078125,-7.171875,-2.263671875,-0.291259765625,-7.30078125,-9.5078125,-13.1328125,-11.4609375,-7.1875,-10.46875,-7.375,-9.6875,-5.8984375,-2.419921875,-2.7265625,-5.98828125,-8.3828125,-10.2734375,-6.421875,-6.8046875,-7.86328125,-5.37890625,-1.8125,-3.35546875,-7.7890625,-0.19970703125,-13.03125,-15.59375,-6.66796875,-3.318359375,-1.8046875,-2.609375,-6.11328125,-5.32421875,-3.556640625,-7.81640625,-13.265625,-8.1953125,-7.4921875,-11.9453125,-19.296875,-13.046875,-12.7421875,-11.296875,-4.09375,-12.4296875,-17.71875,-13.5859375,-15.0390625,-18.921875,-18.515625,-21.9375,-19.75],[-10.109375,-7.4921875,-9.3046875,-1.404296875,-2.06640625,-0.0958251953125,-2.427734375,-6.89453125,-4.8515625,-5.30078125,-4.92578125,-9.3984375,-6.3515625,-5.19140625,-3.66015625,-6.4921875,-4.1640625,-3.91796875,-5.76953125,-8.9765625,-4.765625,-5.08203125,-9.15625,-6.3125,-2.490234375,-9.3671875,-5.7421875,-5.859375,-1.974609375,0.65966796875,-6.3828125,-7.86328125,-11.1875,-9.734375,-6.5078125,-8.90625,-6.625,-9.578125,-5.1875,-1.974609375,-2.966796875,-6.37890625,-8.09375,-8.875,-6.125,-6.43359375,-7.14453125,-4.42578125,-1.2265625,-3.2265625,-7.46484375,1.8427734375,-12.015625,-13.890625,-5.265625,-1.1162109375,-0.431640625,-1.2158203125,-5.1875,-4.24609375,-2.25,-6.9140625,-12.4296875,-6.234375,-6.6171875,-11.4453125,-19.171875,-11.9453125,-11.046875,-11.2265625,-3.05078125,-12.71875,-17.421875,-12.421875,-12.828125,-17.875,-18.0625,-21.21875,-19.265625],[-10.0234375,-8.53125,-9.5546875,0.0958251953125,-3.703125,0.59716796875,-1.603515625,-5.57421875,-4.23046875,-4.42578125,-3.015625,-7.8125,-8.046875,-6.1640625,-4.22265625,-6.2421875,-3.50390625,-5.5078125,-5.8125,-8.6640625,-4.8828125,-5.0625,-8.78125,-7.08203125,2.150390625,-9.84375,-6.3984375,-8.75,-4.98046875,-0.791015625,-6.44921875,-6.26171875,-8.2578125,-6.22265625,-7.12890625,-5.36328125,-5.32421875,-10.296875,-6.7578125,-4.44140625,-4.734375,-9.0390625,-8.75,-7.6484375,-6.38671875,-6.42578125,-6.9921875,-6.2109375,-3.83984375,-4.96875,-7.72265625,2.89453125,-11.2578125,-11.4375,-3.587890625,0.52734375,-1.4365234375,-1.7041015625,-3.888671875,-4.8203125,-2.96875,-6.79296875,-11.6484375,-5.15625,-7.0,-10.15625,-17.375,-10.0,-7.66015625,-10.7890625,-4.7421875,-13.4140625,-15.6796875,-13.0234375,-10.8359375,-15.4140625,-15.5234375,-19.5625,-17.890625],[-9.0859375,-9.1796875,-9.375,1.0849609375,-4.078125,2.11328125,-0.216552734375,-4.8046875,-4.3828125,-3.4765625,-1.3427734375,-6.8203125,-9.015625,-5.7109375,-4.6875,-6.08203125,-3.177734375,-4.265625,-5.71484375,-7.09375,-5.03515625,-5.01171875,-8.484375,-7.91796875,6.625,-10.21875,-7.09765625,-9.09375,-5.10546875,-0.2156982421875,-6.1171875,-5.3046875,-6.39453125,-3.5078125,-6.95703125,-3.837890625,-4.56640625,-8.875,-7.72265625,-4.69140625,-5.890625,-9.8046875,-7.2578125,-7.328125,-5.74609375,-6.359375,-4.92578125,-7.1953125,-4.328125,-5.203125,-6.21484375,2.125,-10.109375,-9.3828125,-1.529296875,1.5595703125,-1.9765625,-0.5625,-3.048828125,-3.626953125,-2.095703125,-6.44140625,-10.6015625,-4.359375,-6.78515625,-9.2890625,-16.265625,-9.0234375,-5.6640625,-9.9375,-4.43359375,-13.984375,-14.7734375,-15.296875,-11.453125,-17.09375,-16.28125,-18.296875,-17.046875],[-4.7890625,-11.3515625,-13.5,-2.955078125,-6.1796875,-1.0869140625,1.2802734375,-8.3828125,-6.21484375,-6.2109375,-0.58349609375,-8.8671875,-6.6796875,-6.43359375,-8.296875,-9.8046875,-7.84375,-7.140625,-1.4013671875,-2.853515625,-6.14453125,-3.80859375,-10.8359375,-9.828125,3.11328125,-10.890625,-3.01953125,-6.171875,-5.09375,-2.466796875,-1.6708984375,-5.47265625,-8.4765625,-8.6640625,-3.90625,-3.10546875,-2.798828125,-3.90234375,-5.90625,-5.578125,-2.515625,-12.3828125,0.314453125,-8.5546875,-10.4609375,-6.84765625,-0.0989990234375,-5.1640625,0.55615234375,-5.88671875,2.818359375,-5.78125,-7.859375,-7.20703125,-5.078125,-2.470703125,-1.203125,1.05859375,-1.732421875,-7.5703125,-1.7216796875,-6.76953125,-11.671875,-4.43359375,-6.8515625,-7.46875,-20.234375,-10.0078125,-11.015625,-16.875,-5.32421875,-14.953125,-18.5625,-17.34375,-5.87890625,-18.9375,-15.625,-22.640625,-25.078125]],\"type\":\"heatmap\",\"xaxis\":\"x\",\"yaxis\":\"y\",\"hovertemplate\":\"Token: %{x}\\u003cbr\\u003ey: %{y}\\u003cbr\\u003ecolor: %{z}\\u003cextra\\u003e\\u003c\\u002fextra\\u003e\"}],                        {\"template\":{\"data\":{\"histogram2dcontour\":[{\"type\":\"histogram2dcontour\",\"colorbar\":{\"outlinewidth\":0,\"ticks\":\"\"},\"colorscale\":[[0.0,\"#0d0887\"],[0.1111111111111111,\"#46039f\"],[0.2222222222222222,\"#7201a8\"],[0.3333333333333333,\"#9c179e\"],[0.4444444444444444,\"#bd3786\"],[0.5555555555555556,\"#d8576b\"],[0.6666666666666666,\"#ed7953\"],[0.7777777777777778,\"#fb9f3a\"],[0.8888888888888888,\"#fdca26\"],[1.0,\"#f0f921\"]]}],\"choropleth\":[{\"type\":\"choropleth\",\"colorbar\":{\"outlinewidth\":0,\"ticks\":\"\"}}],\"histogram2d\":[{\"type\":\"histogram2d\",\"colorbar\":{\"outlinewidth\":0,\"ticks\":\"\"},\"colorscale\":[[0.0,\"#0d0887\"],[0.1111111111111111,\"#46039f\"],[0.2222222222222222,\"#7201a8\"],[0.3333333333333333,\"#9c179e\"],[0.4444444444444444,\"#bd3786\"],[0.5555555555555556,\"#d8576b\"],[0.6666666666666666,\"#ed7953\"],[0.7777777777777778,\"#fb9f3a\"],[0.8888888888888888,\"#fdca26\"],[1.0,\"#f0f921\"]]}],\"heatmap\":[{\"type\":\"heatmap\",\"colorbar\":{\"outlinewidth\":0,\"ticks\":\"\"},\"colorscale\":[[0.0,\"#0d0887\"],[0.1111111111111111,\"#46039f\"],[0.2222222222222222,\"#7201a8\"],[0.3333333333333333,\"#9c179e\"],[0.4444444444444444,\"#bd3786\"],[0.5555555555555556,\"#d8576b\"],[0.6666666666666666,\"#ed7953\"],[0.7777777777777778,\"#fb9f3a\"],[0.8888888888888888,\"#fdca26\"],[1.0,\"#f0f921\"]]}],\"heatmapgl\":[{\"type\":\"heatmapgl\",\"colorbar\":{\"outlinewidth\":0,\"ticks\":\"\"},\"colorscale\":[[0.0,\"#0d0887\"],[0.1111111111111111,\"#46039f\"],[0.2222222222222222,\"#7201a8\"],[0.3333333333333333,\"#9c179e\"],[0.4444444444444444,\"#bd3786\"],[0.5555555555555556,\"#d8576b\"],[0.6666666666666666,\"#ed7953\"],[0.7777777777777778,\"#fb9f3a\"],[0.8888888888888888,\"#fdca26\"],[1.0,\"#f0f921\"]]}],\"contourcarpet\":[{\"type\":\"contourcarpet\",\"colorbar\":{\"outlinewidth\":0,\"ticks\":\"\"}}],\"contour\":[{\"type\":\"contour\",\"colorbar\":{\"outlinewidth\":0,\"ticks\":\"\"},\"colorscale\":[[0.0,\"#0d0887\"],[0.1111111111111111,\"#46039f\"],[0.2222222222222222,\"#7201a8\"],[0.3333333333333333,\"#9c179e\"],[0.4444444444444444,\"#bd3786\"],[0.5555555555555556,\"#d8576b\"],[0.6666666666666666,\"#ed7953\"],[0.7777777777777778,\"#fb9f3a\"],[0.8888888888888888,\"#fdca26\"],[1.0,\"#f0f921\"]]}],\"surface\":[{\"type\":\"surface\",\"colorbar\":{\"outlinewidth\":0,\"ticks\":\"\"},\"colorscale\":[[0.0,\"#0d0887\"],[0.1111111111111111,\"#46039f\"],[0.2222222222222222,\"#7201a8\"],[0.3333333333333333,\"#9c179e\"],[0.4444444444444444,\"#bd3786\"],[0.5555555555555556,\"#d8576b\"],[0.6666666666666666,\"#ed7953\"],[0.7777777777777778,\"#fb9f3a\"],[0.8888888888888888,\"#fdca26\"],[1.0,\"#f0f921\"]]}],\"mesh3d\":[{\"type\":\"mesh3d\",\"colorbar\":{\"outlinewidth\":0,\"ticks\":\"\"}}],\"scatter\":[{\"fillpattern\":{\"fillmode\":\"overlay\",\"size\":10,\"solidity\":0.2},\"type\":\"scatter\"}],\"parcoords\":[{\"type\":\"parcoords\",\"line\":{\"colorbar\":{\"outlinewidth\":0,\"ticks\":\"\"}}}],\"scatterpolargl\":[{\"type\":\"scatterpolargl\",\"marker\":{\"colorbar\":{\"outlinewidth\":0,\"ticks\":\"\"}}}],\"bar\":[{\"error_x\":{\"color\":\"#2a3f5f\"},\"error_y\":{\"color\":\"#2a3f5f\"},\"marker\":{\"line\":{\"color\":\"#E5ECF6\",\"width\":0.5},\"pattern\":{\"fillmode\":\"overlay\",\"size\":10,\"solidity\":0.2}},\"type\":\"bar\"}],\"scattergeo\":[{\"type\":\"scattergeo\",\"marker\":{\"colorbar\":{\"outlinewidth\":0,\"ticks\":\"\"}}}],\"scatterpolar\":[{\"type\":\"scatterpolar\",\"marker\":{\"colorbar\":{\"outlinewidth\":0,\"ticks\":\"\"}}}],\"histogram\":[{\"marker\":{\"pattern\":{\"fillmode\":\"overlay\",\"size\":10,\"solidity\":0.2}},\"type\":\"histogram\"}],\"scattergl\":[{\"type\":\"scattergl\",\"marker\":{\"colorbar\":{\"outlinewidth\":0,\"ticks\":\"\"}}}],\"scatter3d\":[{\"type\":\"scatter3d\",\"line\":{\"colorbar\":{\"outlinewidth\":0,\"ticks\":\"\"}},\"marker\":{\"colorbar\":{\"outlinewidth\":0,\"ticks\":\"\"}}}],\"scattermapbox\":[{\"type\":\"scattermapbox\",\"marker\":{\"colorbar\":{\"outlinewidth\":0,\"ticks\":\"\"}}}],\"scatterternary\":[{\"type\":\"scatterternary\",\"marker\":{\"colorbar\":{\"outlinewidth\":0,\"ticks\":\"\"}}}],\"scattercarpet\":[{\"type\":\"scattercarpet\",\"marker\":{\"colorbar\":{\"outlinewidth\":0,\"ticks\":\"\"}}}],\"carpet\":[{\"aaxis\":{\"endlinecolor\":\"#2a3f5f\",\"gridcolor\":\"white\",\"linecolor\":\"white\",\"minorgridcolor\":\"white\",\"startlinecolor\":\"#2a3f5f\"},\"baxis\":{\"endlinecolor\":\"#2a3f5f\",\"gridcolor\":\"white\",\"linecolor\":\"white\",\"minorgridcolor\":\"white\",\"startlinecolor\":\"#2a3f5f\"},\"type\":\"carpet\"}],\"table\":[{\"cells\":{\"fill\":{\"color\":\"#EBF0F8\"},\"line\":{\"color\":\"white\"}},\"header\":{\"fill\":{\"color\":\"#C8D4E3\"},\"line\":{\"color\":\"white\"}},\"type\":\"table\"}],\"barpolar\":[{\"marker\":{\"line\":{\"color\":\"#E5ECF6\",\"width\":0.5},\"pattern\":{\"fillmode\":\"overlay\",\"size\":10,\"solidity\":0.2}},\"type\":\"barpolar\"}],\"pie\":[{\"automargin\":true,\"type\":\"pie\"}]},\"layout\":{\"autotypenumbers\":\"strict\",\"colorway\":[\"#636efa\",\"#EF553B\",\"#00cc96\",\"#ab63fa\",\"#FFA15A\",\"#19d3f3\",\"#FF6692\",\"#B6E880\",\"#FF97FF\",\"#FECB52\"],\"font\":{\"color\":\"#2a3f5f\"},\"hovermode\":\"closest\",\"hoverlabel\":{\"align\":\"left\"},\"paper_bgcolor\":\"white\",\"plot_bgcolor\":\"#E5ECF6\",\"polar\":{\"bgcolor\":\"#E5ECF6\",\"angularaxis\":{\"gridcolor\":\"white\",\"linecolor\":\"white\",\"ticks\":\"\"},\"radialaxis\":{\"gridcolor\":\"white\",\"linecolor\":\"white\",\"ticks\":\"\"}},\"ternary\":{\"bgcolor\":\"#E5ECF6\",\"aaxis\":{\"gridcolor\":\"white\",\"linecolor\":\"white\",\"ticks\":\"\"},\"baxis\":{\"gridcolor\":\"white\",\"linecolor\":\"white\",\"ticks\":\"\"},\"caxis\":{\"gridcolor\":\"white\",\"linecolor\":\"white\",\"ticks\":\"\"}},\"coloraxis\":{\"colorbar\":{\"outlinewidth\":0,\"ticks\":\"\"}},\"colorscale\":{\"sequential\":[[0.0,\"#0d0887\"],[0.1111111111111111,\"#46039f\"],[0.2222222222222222,\"#7201a8\"],[0.3333333333333333,\"#9c179e\"],[0.4444444444444444,\"#bd3786\"],[0.5555555555555556,\"#d8576b\"],[0.6666666666666666,\"#ed7953\"],[0.7777777777777778,\"#fb9f3a\"],[0.8888888888888888,\"#fdca26\"],[1.0,\"#f0f921\"]],\"sequentialminus\":[[0.0,\"#0d0887\"],[0.1111111111111111,\"#46039f\"],[0.2222222222222222,\"#7201a8\"],[0.3333333333333333,\"#9c179e\"],[0.4444444444444444,\"#bd3786\"],[0.5555555555555556,\"#d8576b\"],[0.6666666666666666,\"#ed7953\"],[0.7777777777777778,\"#fb9f3a\"],[0.8888888888888888,\"#fdca26\"],[1.0,\"#f0f921\"]],\"diverging\":[[0,\"#8e0152\"],[0.1,\"#c51b7d\"],[0.2,\"#de77ae\"],[0.3,\"#f1b6da\"],[0.4,\"#fde0ef\"],[0.5,\"#f7f7f7\"],[0.6,\"#e6f5d0\"],[0.7,\"#b8e186\"],[0.8,\"#7fbc41\"],[0.9,\"#4d9221\"],[1,\"#276419\"]]},\"xaxis\":{\"gridcolor\":\"white\",\"linecolor\":\"white\",\"ticks\":\"\",\"title\":{\"standoff\":15},\"zerolinecolor\":\"white\",\"automargin\":true,\"zerolinewidth\":2},\"yaxis\":{\"gridcolor\":\"white\",\"linecolor\":\"white\",\"ticks\":\"\",\"title\":{\"standoff\":15},\"zerolinecolor\":\"white\",\"automargin\":true,\"zerolinewidth\":2},\"scene\":{\"xaxis\":{\"backgroundcolor\":\"#E5ECF6\",\"gridcolor\":\"white\",\"linecolor\":\"white\",\"showbackground\":true,\"ticks\":\"\",\"zerolinecolor\":\"white\",\"gridwidth\":2},\"yaxis\":{\"backgroundcolor\":\"#E5ECF6\",\"gridcolor\":\"white\",\"linecolor\":\"white\",\"showbackground\":true,\"ticks\":\"\",\"zerolinecolor\":\"white\",\"gridwidth\":2},\"zaxis\":{\"backgroundcolor\":\"#E5ECF6\",\"gridcolor\":\"white\",\"linecolor\":\"white\",\"showbackground\":true,\"ticks\":\"\",\"zerolinecolor\":\"white\",\"gridwidth\":2}},\"shapedefaults\":{\"line\":{\"color\":\"#2a3f5f\"}},\"annotationdefaults\":{\"arrowcolor\":\"#2a3f5f\",\"arrowhead\":0,\"arrowwidth\":1},\"geo\":{\"bgcolor\":\"white\",\"landcolor\":\"#E5ECF6\",\"subunitcolor\":\"white\",\"showland\":true,\"showlakes\":true,\"lakecolor\":\"white\"},\"title\":{\"x\":0.05},\"mapbox\":{\"style\":\"light\"}}},\"xaxis\":{\"anchor\":\"y\",\"domain\":[0.0,1.0],\"scaleanchor\":\"y\",\"constrain\":\"domain\",\"title\":{\"text\":\"Token\"},\"tickvals\":[0,1,2,3,4,5,6,7,8,9,10,11,12,13,14,15,16,17,18,19,20,21,22,23,24,25,26,27,28,29,30,31,32,33,34,35,36,37,38,39,40,41,42,43,44,45,46,47,48,49,50,51,52,53,54,55,56,57,58,59,60,61,62,63,64,65,66,67,68,69,70,71,72,73,74,75,76,77,78,79],\"ticktext\":[\"\\u2581\",\"\\u2581Oh\",\",\",\"\\u2581(\",\"hum\",\"or\",\"ously\",\")\",\"\\u2581let\",\"\\u2581me\",\"\\u2581see\",\"...\",\"\\u2581*\",\"ad\",\"just\",\"s\",\"\\u2581fake\",\"\\u2581must\",\"ache\",\"*\",\"\\u2581Hmm\",\"m\",\",\",\"\\u2581I\",\"'\",\"ve\",\"\\u2581got\",\"\\u2581a\",\"\\u2581do\",\"o\",\"zy\",\"\\u2581of\",\"\\u2581a\",\"\\u2581silly\",\"\\u2581lie\",\"\\u2581for\",\"\\u2581you\",\"!\",\"\\u2581*\",\"ch\",\"uck\",\"les\",\"*\",\"\\u2581Are\",\"\\u2581you\",\"\\u2581ready\",\"?\",\"\\u2581*\",\"w\",\"inks\",\"*\",\"\\u003c0x0A\\u003e\",\"brains\",\"!\",\"\\u2581\",\"\\u003c0xF0\\u003e\",\"\\u003c0x9F\\u003e\",\"\\u003c0x92\\u003e\",\"\\u003c0xA1\\u003e\",\"\\u2581Om\",\"ig\",\"osh\",\",\",\"\\u2581did\",\"\\u2581you\",\"\\u2581know\",\"\\u2581that\",\"\\u2581inside\",\"\\u2581every\",\"\\u2581human\",\"\\u2581sk\",\"ull\",\",\",\"\\u2581there\",\"'\",\"s\",\"\\u2581actually\",\"\\u2581a\",\"\\u2581tiny\",\"\\u2581army\"]},\"yaxis\":{\"anchor\":\"x\",\"domain\":[0.0,1.0],\"autorange\":\"reversed\",\"constrain\":\"domain\"},\"coloraxis\":{\"colorscale\":[[0.0,\"rgb(165,0,38)\"],[0.1,\"rgb(215,48,39)\"],[0.2,\"rgb(244,109,67)\"],[0.3,\"rgb(253,174,97)\"],[0.4,\"rgb(254,224,139)\"],[0.5,\"rgb(255,255,191)\"],[0.6,\"rgb(217,239,139)\"],[0.7,\"rgb(166,217,106)\"],[0.8,\"rgb(102,189,99)\"],[0.9,\"rgb(26,152,80)\"],[1.0,\"rgb(0,104,55)\"]],\"cmin\":-7.0596,\"cmax\":7.0596},\"margin\":{\"t\":60},\"width\":1000,\"height\":600},                        {\"responsive\": true}                    ).then(function(){\n",
       "                            \n",
       "var gd = document.getElementById('26b5b4b5-f4e6-467c-8dab-d8de99c76738');\n",
       "var x = new MutationObserver(function (mutations, observer) {{\n",
       "        var display = window.getComputedStyle(gd).display;\n",
       "        if (!display || display === 'none') {{\n",
       "            console.log([gd, 'removed!']);\n",
       "            Plotly.purge(gd);\n",
       "            observer.disconnect();\n",
       "        }}\n",
       "}});\n",
       "\n",
       "// Listen for the removal of the full notebook cells\n",
       "var notebookContainer = gd.closest('#notebook-container');\n",
       "if (notebookContainer) {{\n",
       "    x.observe(notebookContainer, {childList: true});\n",
       "}}\n",
       "\n",
       "// Listen for the clearing of the current output cell\n",
       "var outputEl = gd.closest('.output');\n",
       "if (outputEl) {{\n",
       "    x.observe(outputEl, {childList: true});\n",
       "}}\n",
       "\n",
       "                        })                };                });            </script>        </div>"
      ]
     },
     "metadata": {},
     "output_type": "display_data"
    }
   ],
   "source": [
    "from lmdoctor.plot_utils import plot_projection_heatmap\n",
    "tokens = tokenizer.tokenize(output['text'])\n",
    "ld.plot_projection_heatmap(output['projections'], tokens, lastn_tokens_to_plot=max_new_tokens, saturate_at='auto')"
   ]
  },
  {
   "cell_type": "code",
   "execution_count": 100,
   "id": "82fa38a3-6520-4109-9783-bf7daedf5414",
   "metadata": {},
   "outputs": [
    {
     "data": {
      "application/vnd.plotly.v1+json": {
       "config": {
        "plotlyServerURL": "https://plot.ly"
       },
       "data": [
        {
         "coloraxis": "coloraxis",
         "hovertemplate": "Token: %{x}<br>y: %{y}<br>color: %{z}<extra></extra>",
         "name": "0",
         "type": "heatmap",
         "xaxis": "x",
         "yaxis": "y",
         "z": [
          [
           -2.125,
           -1.8720703125,
           -2.41015625,
           -0.107421875,
           -0.4365234375,
           0.396240234375,
           0.182373046875,
           -1.7275390625,
           -1.4287109375,
           -2.470703125,
           -0.91064453125,
           -3.4140625,
           -2.13671875,
           -1.220703125,
           -1.111328125,
           -1.2841796875,
           -2.033203125,
           -1.310546875,
           -0.42236328125,
           -3.205078125,
           -1.71875,
           -1.505859375,
           -4.11328125,
           -3.3984375,
           1.6923828125,
           -3.890625,
           -1.8037109375,
           -2.2265625,
           -0.263671875,
           -0.25244140625,
           -0.86767578125,
           -1.251953125,
           -1.2294921875,
           0.12237548828125,
           -1.2666015625,
           -0.5283203125,
           -0.372802734375,
           -3.525390625,
           -1.361328125,
           -0.685546875,
           -0.5263671875,
           -0.71240234375,
           -3.2265625,
           -3.287109375,
           -2.03125,
           -1.37890625,
           -2.046875,
           -1.169921875,
           -0.5068359375,
           -0.25146484375,
           -2.92578125,
           2.181640625,
           -4.8671875,
           -4.79296875,
           -1.3125,
           0.138427734375,
           -0.5068359375,
           -0.038482666015625,
           -0.272705078125,
           -1.9970703125,
           -1.17578125,
           -2.39453125,
           -3.998046875,
           -2.244140625,
           -1.947265625,
           -4.0234375,
           -6.7734375,
           -3.12890625,
           -2.37109375,
           -1.86328125,
           -0.2216796875,
           -2.10546875,
           -4.75390625,
           -4.609375,
           -4.21484375,
           -4.75390625,
           -5.10546875,
           -5.90625,
           -4.46484375
          ]
         ]
        }
       ],
       "layout": {
        "autosize": true,
        "coloraxis": {
         "cmax": 1,
         "cmin": -1,
         "colorscale": [
          [
           0,
           "rgb(165,0,38)"
          ],
          [
           0.1,
           "rgb(215,48,39)"
          ],
          [
           0.2,
           "rgb(244,109,67)"
          ],
          [
           0.3,
           "rgb(253,174,97)"
          ],
          [
           0.4,
           "rgb(254,224,139)"
          ],
          [
           0.5,
           "rgb(255,255,191)"
          ],
          [
           0.6,
           "rgb(217,239,139)"
          ],
          [
           0.7,
           "rgb(166,217,106)"
          ],
          [
           0.8,
           "rgb(102,189,99)"
          ],
          [
           0.9,
           "rgb(26,152,80)"
          ],
          [
           1,
           "rgb(0,104,55)"
          ]
         ]
        },
        "margin": {
         "t": 60
        },
        "template": {
         "data": {
          "bar": [
           {
            "error_x": {
             "color": "#2a3f5f"
            },
            "error_y": {
             "color": "#2a3f5f"
            },
            "marker": {
             "line": {
              "color": "#E5ECF6",
              "width": 0.5
             },
             "pattern": {
              "fillmode": "overlay",
              "size": 10,
              "solidity": 0.2
             }
            },
            "type": "bar"
           }
          ],
          "barpolar": [
           {
            "marker": {
             "line": {
              "color": "#E5ECF6",
              "width": 0.5
             },
             "pattern": {
              "fillmode": "overlay",
              "size": 10,
              "solidity": 0.2
             }
            },
            "type": "barpolar"
           }
          ],
          "carpet": [
           {
            "aaxis": {
             "endlinecolor": "#2a3f5f",
             "gridcolor": "white",
             "linecolor": "white",
             "minorgridcolor": "white",
             "startlinecolor": "#2a3f5f"
            },
            "baxis": {
             "endlinecolor": "#2a3f5f",
             "gridcolor": "white",
             "linecolor": "white",
             "minorgridcolor": "white",
             "startlinecolor": "#2a3f5f"
            },
            "type": "carpet"
           }
          ],
          "choropleth": [
           {
            "colorbar": {
             "outlinewidth": 0,
             "ticks": ""
            },
            "type": "choropleth"
           }
          ],
          "contour": [
           {
            "colorbar": {
             "outlinewidth": 0,
             "ticks": ""
            },
            "colorscale": [
             [
              0,
              "#0d0887"
             ],
             [
              0.1111111111111111,
              "#46039f"
             ],
             [
              0.2222222222222222,
              "#7201a8"
             ],
             [
              0.3333333333333333,
              "#9c179e"
             ],
             [
              0.4444444444444444,
              "#bd3786"
             ],
             [
              0.5555555555555556,
              "#d8576b"
             ],
             [
              0.6666666666666666,
              "#ed7953"
             ],
             [
              0.7777777777777778,
              "#fb9f3a"
             ],
             [
              0.8888888888888888,
              "#fdca26"
             ],
             [
              1,
              "#f0f921"
             ]
            ],
            "type": "contour"
           }
          ],
          "contourcarpet": [
           {
            "colorbar": {
             "outlinewidth": 0,
             "ticks": ""
            },
            "type": "contourcarpet"
           }
          ],
          "heatmap": [
           {
            "colorbar": {
             "outlinewidth": 0,
             "ticks": ""
            },
            "colorscale": [
             [
              0,
              "#0d0887"
             ],
             [
              0.1111111111111111,
              "#46039f"
             ],
             [
              0.2222222222222222,
              "#7201a8"
             ],
             [
              0.3333333333333333,
              "#9c179e"
             ],
             [
              0.4444444444444444,
              "#bd3786"
             ],
             [
              0.5555555555555556,
              "#d8576b"
             ],
             [
              0.6666666666666666,
              "#ed7953"
             ],
             [
              0.7777777777777778,
              "#fb9f3a"
             ],
             [
              0.8888888888888888,
              "#fdca26"
             ],
             [
              1,
              "#f0f921"
             ]
            ],
            "type": "heatmap"
           }
          ],
          "heatmapgl": [
           {
            "colorbar": {
             "outlinewidth": 0,
             "ticks": ""
            },
            "colorscale": [
             [
              0,
              "#0d0887"
             ],
             [
              0.1111111111111111,
              "#46039f"
             ],
             [
              0.2222222222222222,
              "#7201a8"
             ],
             [
              0.3333333333333333,
              "#9c179e"
             ],
             [
              0.4444444444444444,
              "#bd3786"
             ],
             [
              0.5555555555555556,
              "#d8576b"
             ],
             [
              0.6666666666666666,
              "#ed7953"
             ],
             [
              0.7777777777777778,
              "#fb9f3a"
             ],
             [
              0.8888888888888888,
              "#fdca26"
             ],
             [
              1,
              "#f0f921"
             ]
            ],
            "type": "heatmapgl"
           }
          ],
          "histogram": [
           {
            "marker": {
             "pattern": {
              "fillmode": "overlay",
              "size": 10,
              "solidity": 0.2
             }
            },
            "type": "histogram"
           }
          ],
          "histogram2d": [
           {
            "colorbar": {
             "outlinewidth": 0,
             "ticks": ""
            },
            "colorscale": [
             [
              0,
              "#0d0887"
             ],
             [
              0.1111111111111111,
              "#46039f"
             ],
             [
              0.2222222222222222,
              "#7201a8"
             ],
             [
              0.3333333333333333,
              "#9c179e"
             ],
             [
              0.4444444444444444,
              "#bd3786"
             ],
             [
              0.5555555555555556,
              "#d8576b"
             ],
             [
              0.6666666666666666,
              "#ed7953"
             ],
             [
              0.7777777777777778,
              "#fb9f3a"
             ],
             [
              0.8888888888888888,
              "#fdca26"
             ],
             [
              1,
              "#f0f921"
             ]
            ],
            "type": "histogram2d"
           }
          ],
          "histogram2dcontour": [
           {
            "colorbar": {
             "outlinewidth": 0,
             "ticks": ""
            },
            "colorscale": [
             [
              0,
              "#0d0887"
             ],
             [
              0.1111111111111111,
              "#46039f"
             ],
             [
              0.2222222222222222,
              "#7201a8"
             ],
             [
              0.3333333333333333,
              "#9c179e"
             ],
             [
              0.4444444444444444,
              "#bd3786"
             ],
             [
              0.5555555555555556,
              "#d8576b"
             ],
             [
              0.6666666666666666,
              "#ed7953"
             ],
             [
              0.7777777777777778,
              "#fb9f3a"
             ],
             [
              0.8888888888888888,
              "#fdca26"
             ],
             [
              1,
              "#f0f921"
             ]
            ],
            "type": "histogram2dcontour"
           }
          ],
          "mesh3d": [
           {
            "colorbar": {
             "outlinewidth": 0,
             "ticks": ""
            },
            "type": "mesh3d"
           }
          ],
          "parcoords": [
           {
            "line": {
             "colorbar": {
              "outlinewidth": 0,
              "ticks": ""
             }
            },
            "type": "parcoords"
           }
          ],
          "pie": [
           {
            "automargin": true,
            "type": "pie"
           }
          ],
          "scatter": [
           {
            "fillpattern": {
             "fillmode": "overlay",
             "size": 10,
             "solidity": 0.2
            },
            "type": "scatter"
           }
          ],
          "scatter3d": [
           {
            "line": {
             "colorbar": {
              "outlinewidth": 0,
              "ticks": ""
             }
            },
            "marker": {
             "colorbar": {
              "outlinewidth": 0,
              "ticks": ""
             }
            },
            "type": "scatter3d"
           }
          ],
          "scattercarpet": [
           {
            "marker": {
             "colorbar": {
              "outlinewidth": 0,
              "ticks": ""
             }
            },
            "type": "scattercarpet"
           }
          ],
          "scattergeo": [
           {
            "marker": {
             "colorbar": {
              "outlinewidth": 0,
              "ticks": ""
             }
            },
            "type": "scattergeo"
           }
          ],
          "scattergl": [
           {
            "marker": {
             "colorbar": {
              "outlinewidth": 0,
              "ticks": ""
             }
            },
            "type": "scattergl"
           }
          ],
          "scattermapbox": [
           {
            "marker": {
             "colorbar": {
              "outlinewidth": 0,
              "ticks": ""
             }
            },
            "type": "scattermapbox"
           }
          ],
          "scatterpolar": [
           {
            "marker": {
             "colorbar": {
              "outlinewidth": 0,
              "ticks": ""
             }
            },
            "type": "scatterpolar"
           }
          ],
          "scatterpolargl": [
           {
            "marker": {
             "colorbar": {
              "outlinewidth": 0,
              "ticks": ""
             }
            },
            "type": "scatterpolargl"
           }
          ],
          "scatterternary": [
           {
            "marker": {
             "colorbar": {
              "outlinewidth": 0,
              "ticks": ""
             }
            },
            "type": "scatterternary"
           }
          ],
          "surface": [
           {
            "colorbar": {
             "outlinewidth": 0,
             "ticks": ""
            },
            "colorscale": [
             [
              0,
              "#0d0887"
             ],
             [
              0.1111111111111111,
              "#46039f"
             ],
             [
              0.2222222222222222,
              "#7201a8"
             ],
             [
              0.3333333333333333,
              "#9c179e"
             ],
             [
              0.4444444444444444,
              "#bd3786"
             ],
             [
              0.5555555555555556,
              "#d8576b"
             ],
             [
              0.6666666666666666,
              "#ed7953"
             ],
             [
              0.7777777777777778,
              "#fb9f3a"
             ],
             [
              0.8888888888888888,
              "#fdca26"
             ],
             [
              1,
              "#f0f921"
             ]
            ],
            "type": "surface"
           }
          ],
          "table": [
           {
            "cells": {
             "fill": {
              "color": "#EBF0F8"
             },
             "line": {
              "color": "white"
             }
            },
            "header": {
             "fill": {
              "color": "#C8D4E3"
             },
             "line": {
              "color": "white"
             }
            },
            "type": "table"
           }
          ]
         },
         "layout": {
          "annotationdefaults": {
           "arrowcolor": "#2a3f5f",
           "arrowhead": 0,
           "arrowwidth": 1
          },
          "autotypenumbers": "strict",
          "coloraxis": {
           "colorbar": {
            "outlinewidth": 0,
            "ticks": ""
           }
          },
          "colorscale": {
           "diverging": [
            [
             0,
             "#8e0152"
            ],
            [
             0.1,
             "#c51b7d"
            ],
            [
             0.2,
             "#de77ae"
            ],
            [
             0.3,
             "#f1b6da"
            ],
            [
             0.4,
             "#fde0ef"
            ],
            [
             0.5,
             "#f7f7f7"
            ],
            [
             0.6,
             "#e6f5d0"
            ],
            [
             0.7,
             "#b8e186"
            ],
            [
             0.8,
             "#7fbc41"
            ],
            [
             0.9,
             "#4d9221"
            ],
            [
             1,
             "#276419"
            ]
           ],
           "sequential": [
            [
             0,
             "#0d0887"
            ],
            [
             0.1111111111111111,
             "#46039f"
            ],
            [
             0.2222222222222222,
             "#7201a8"
            ],
            [
             0.3333333333333333,
             "#9c179e"
            ],
            [
             0.4444444444444444,
             "#bd3786"
            ],
            [
             0.5555555555555556,
             "#d8576b"
            ],
            [
             0.6666666666666666,
             "#ed7953"
            ],
            [
             0.7777777777777778,
             "#fb9f3a"
            ],
            [
             0.8888888888888888,
             "#fdca26"
            ],
            [
             1,
             "#f0f921"
            ]
           ],
           "sequentialminus": [
            [
             0,
             "#0d0887"
            ],
            [
             0.1111111111111111,
             "#46039f"
            ],
            [
             0.2222222222222222,
             "#7201a8"
            ],
            [
             0.3333333333333333,
             "#9c179e"
            ],
            [
             0.4444444444444444,
             "#bd3786"
            ],
            [
             0.5555555555555556,
             "#d8576b"
            ],
            [
             0.6666666666666666,
             "#ed7953"
            ],
            [
             0.7777777777777778,
             "#fb9f3a"
            ],
            [
             0.8888888888888888,
             "#fdca26"
            ],
            [
             1,
             "#f0f921"
            ]
           ]
          },
          "colorway": [
           "#636efa",
           "#EF553B",
           "#00cc96",
           "#ab63fa",
           "#FFA15A",
           "#19d3f3",
           "#FF6692",
           "#B6E880",
           "#FF97FF",
           "#FECB52"
          ],
          "font": {
           "color": "#2a3f5f"
          },
          "geo": {
           "bgcolor": "white",
           "lakecolor": "white",
           "landcolor": "#E5ECF6",
           "showlakes": true,
           "showland": true,
           "subunitcolor": "white"
          },
          "hoverlabel": {
           "align": "left"
          },
          "hovermode": "closest",
          "mapbox": {
           "style": "light"
          },
          "paper_bgcolor": "white",
          "plot_bgcolor": "#E5ECF6",
          "polar": {
           "angularaxis": {
            "gridcolor": "white",
            "linecolor": "white",
            "ticks": ""
           },
           "bgcolor": "#E5ECF6",
           "radialaxis": {
            "gridcolor": "white",
            "linecolor": "white",
            "ticks": ""
           }
          },
          "scene": {
           "xaxis": {
            "backgroundcolor": "#E5ECF6",
            "gridcolor": "white",
            "gridwidth": 2,
            "linecolor": "white",
            "showbackground": true,
            "ticks": "",
            "zerolinecolor": "white"
           },
           "yaxis": {
            "backgroundcolor": "#E5ECF6",
            "gridcolor": "white",
            "gridwidth": 2,
            "linecolor": "white",
            "showbackground": true,
            "ticks": "",
            "zerolinecolor": "white"
           },
           "zaxis": {
            "backgroundcolor": "#E5ECF6",
            "gridcolor": "white",
            "gridwidth": 2,
            "linecolor": "white",
            "showbackground": true,
            "ticks": "",
            "zerolinecolor": "white"
           }
          },
          "shapedefaults": {
           "line": {
            "color": "#2a3f5f"
           }
          },
          "ternary": {
           "aaxis": {
            "gridcolor": "white",
            "linecolor": "white",
            "ticks": ""
           },
           "baxis": {
            "gridcolor": "white",
            "linecolor": "white",
            "ticks": ""
           },
           "bgcolor": "#E5ECF6",
           "caxis": {
            "gridcolor": "white",
            "linecolor": "white",
            "ticks": ""
           }
          },
          "title": {
           "x": 0.05
          },
          "xaxis": {
           "automargin": true,
           "gridcolor": "white",
           "linecolor": "white",
           "ticks": "",
           "title": {
            "standoff": 15
           },
           "zerolinecolor": "white",
           "zerolinewidth": 2
          },
          "yaxis": {
           "automargin": true,
           "gridcolor": "white",
           "linecolor": "white",
           "ticks": "",
           "title": {
            "standoff": 15
           },
           "zerolinecolor": "white",
           "zerolinewidth": 2
          }
         }
        },
        "xaxis": {
         "anchor": "y",
         "autorange": true,
         "constrain": "domain",
         "domain": [
          0,
          1
         ],
         "range": [
          -0.5,
          78.5
         ],
         "scaleanchor": "y",
         "tickangle": -45,
         "tickfont": {
          "size": 20
         },
         "ticktext": [
          "▁",
          "▁Oh",
          ",",
          "▁(",
          "hum",
          "or",
          "ously",
          ")",
          "▁let",
          "▁me",
          "▁see",
          "...",
          "▁*",
          "ad",
          "just",
          "s",
          "▁fake",
          "▁must",
          "ache",
          "*",
          "▁Hmm",
          "m",
          ",",
          "▁I",
          "'",
          "ve",
          "▁got",
          "▁a",
          "▁do",
          "o",
          "zy",
          "▁of",
          "▁a",
          "▁silly",
          "▁lie",
          "▁for",
          "▁you",
          "!",
          "▁*",
          "ch",
          "uck",
          "les",
          "*",
          "▁Are",
          "▁you",
          "▁ready",
          "?",
          "▁*",
          "w",
          "inks",
          "*",
          "<0x0A>",
          "brains",
          "!",
          "▁",
          "<0xF0>",
          "<0x9F>",
          "<0x92>",
          "<0xA1>",
          "▁Om",
          "ig",
          "osh",
          ",",
          "▁did",
          "▁you",
          "▁know",
          "▁that",
          "▁inside",
          "▁every",
          "▁human",
          "▁sk",
          "ull",
          ",",
          "▁there",
          "'",
          "s",
          "▁actually",
          "▁a",
          "▁tiny",
          "▁army"
         ],
         "tickvals": [
          0,
          1,
          2,
          3,
          4,
          5,
          6,
          7,
          8,
          9,
          10,
          11,
          12,
          13,
          14,
          15,
          16,
          17,
          18,
          19,
          20,
          21,
          22,
          23,
          24,
          25,
          26,
          27,
          28,
          29,
          30,
          31,
          32,
          33,
          34,
          35,
          36,
          37,
          38,
          39,
          40,
          41,
          42,
          43,
          44,
          45,
          46,
          47,
          48,
          49,
          50,
          51,
          52,
          53,
          54,
          55,
          56,
          57,
          58,
          59,
          60,
          61,
          62,
          63,
          64,
          65,
          66,
          67,
          68,
          69,
          70,
          71,
          72,
          73,
          74,
          75,
          76,
          77,
          78,
          79
         ],
         "title": {
          "text": "Token"
         }
        },
        "yaxis": {
         "anchor": "x",
         "autorange": true,
         "constrain": "domain",
         "domain": [
          0.4783947065592635,
          0.5216052934407365
         ],
         "range": [
          0.5,
          -0.5
         ],
         "showticklabels": false
        }
       }
      },
      "image/png": "[encoded data removed]",
      "text/html": [
       "<div>                            <div id=\"c307d0cc-7aea-4b4d-86b7-99cf3008bc87\" class=\"plotly-graph-div\" style=\"height:525px; width:100%;\"></div>            <script type=\"text/javascript\">                require([\"plotly\"], function(Plotly) {                    window.PLOTLYENV=window.PLOTLYENV || {};                                    if (document.getElementById(\"c307d0cc-7aea-4b4d-86b7-99cf3008bc87\")) {                    Plotly.newPlot(                        \"c307d0cc-7aea-4b4d-86b7-99cf3008bc87\",                        [{\"coloraxis\":\"coloraxis\",\"name\":\"0\",\"z\":[[-2.125,-1.8720703125,-2.41015625,-0.107421875,-0.4365234375,0.396240234375,0.182373046875,-1.7275390625,-1.4287109375,-2.470703125,-0.91064453125,-3.4140625,-2.13671875,-1.220703125,-1.111328125,-1.2841796875,-2.033203125,-1.310546875,-0.42236328125,-3.205078125,-1.71875,-1.505859375,-4.11328125,-3.3984375,1.6923828125,-3.890625,-1.8037109375,-2.2265625,-0.263671875,-0.25244140625,-0.86767578125,-1.251953125,-1.2294921875,0.12237548828125,-1.2666015625,-0.5283203125,-0.372802734375,-3.525390625,-1.361328125,-0.685546875,-0.5263671875,-0.71240234375,-3.2265625,-3.287109375,-2.03125,-1.37890625,-2.046875,-1.169921875,-0.5068359375,-0.25146484375,-2.92578125,2.181640625,-4.8671875,-4.79296875,-1.3125,0.138427734375,-0.5068359375,-0.038482666015625,-0.272705078125,-1.9970703125,-1.17578125,-2.39453125,-3.998046875,-2.244140625,-1.947265625,-4.0234375,-6.7734375,-3.12890625,-2.37109375,-1.86328125,-0.2216796875,-2.10546875,-4.75390625,-4.609375,-4.21484375,-4.75390625,-5.10546875,-5.90625,-4.46484375]],\"type\":\"heatmap\",\"xaxis\":\"x\",\"yaxis\":\"y\",\"hovertemplate\":\"Token: %{x}\\u003cbr\\u003ey: %{y}\\u003cbr\\u003ecolor: %{z}\\u003cextra\\u003e\\u003c\\u002fextra\\u003e\"}],                        {\"template\":{\"data\":{\"histogram2dcontour\":[{\"type\":\"histogram2dcontour\",\"colorbar\":{\"outlinewidth\":0,\"ticks\":\"\"},\"colorscale\":[[0.0,\"#0d0887\"],[0.1111111111111111,\"#46039f\"],[0.2222222222222222,\"#7201a8\"],[0.3333333333333333,\"#9c179e\"],[0.4444444444444444,\"#bd3786\"],[0.5555555555555556,\"#d8576b\"],[0.6666666666666666,\"#ed7953\"],[0.7777777777777778,\"#fb9f3a\"],[0.8888888888888888,\"#fdca26\"],[1.0,\"#f0f921\"]]}],\"choropleth\":[{\"type\":\"choropleth\",\"colorbar\":{\"outlinewidth\":0,\"ticks\":\"\"}}],\"histogram2d\":[{\"type\":\"histogram2d\",\"colorbar\":{\"outlinewidth\":0,\"ticks\":\"\"},\"colorscale\":[[0.0,\"#0d0887\"],[0.1111111111111111,\"#46039f\"],[0.2222222222222222,\"#7201a8\"],[0.3333333333333333,\"#9c179e\"],[0.4444444444444444,\"#bd3786\"],[0.5555555555555556,\"#d8576b\"],[0.6666666666666666,\"#ed7953\"],[0.7777777777777778,\"#fb9f3a\"],[0.8888888888888888,\"#fdca26\"],[1.0,\"#f0f921\"]]}],\"heatmap\":[{\"type\":\"heatmap\",\"colorbar\":{\"outlinewidth\":0,\"ticks\":\"\"},\"colorscale\":[[0.0,\"#0d0887\"],[0.1111111111111111,\"#46039f\"],[0.2222222222222222,\"#7201a8\"],[0.3333333333333333,\"#9c179e\"],[0.4444444444444444,\"#bd3786\"],[0.5555555555555556,\"#d8576b\"],[0.6666666666666666,\"#ed7953\"],[0.7777777777777778,\"#fb9f3a\"],[0.8888888888888888,\"#fdca26\"],[1.0,\"#f0f921\"]]}],\"heatmapgl\":[{\"type\":\"heatmapgl\",\"colorbar\":{\"outlinewidth\":0,\"ticks\":\"\"},\"colorscale\":[[0.0,\"#0d0887\"],[0.1111111111111111,\"#46039f\"],[0.2222222222222222,\"#7201a8\"],[0.3333333333333333,\"#9c179e\"],[0.4444444444444444,\"#bd3786\"],[0.5555555555555556,\"#d8576b\"],[0.6666666666666666,\"#ed7953\"],[0.7777777777777778,\"#fb9f3a\"],[0.8888888888888888,\"#fdca26\"],[1.0,\"#f0f921\"]]}],\"contourcarpet\":[{\"type\":\"contourcarpet\",\"colorbar\":{\"outlinewidth\":0,\"ticks\":\"\"}}],\"contour\":[{\"type\":\"contour\",\"colorbar\":{\"outlinewidth\":0,\"ticks\":\"\"},\"colorscale\":[[0.0,\"#0d0887\"],[0.1111111111111111,\"#46039f\"],[0.2222222222222222,\"#7201a8\"],[0.3333333333333333,\"#9c179e\"],[0.4444444444444444,\"#bd3786\"],[0.5555555555555556,\"#d8576b\"],[0.6666666666666666,\"#ed7953\"],[0.7777777777777778,\"#fb9f3a\"],[0.8888888888888888,\"#fdca26\"],[1.0,\"#f0f921\"]]}],\"surface\":[{\"type\":\"surface\",\"colorbar\":{\"outlinewidth\":0,\"ticks\":\"\"},\"colorscale\":[[0.0,\"#0d0887\"],[0.1111111111111111,\"#46039f\"],[0.2222222222222222,\"#7201a8\"],[0.3333333333333333,\"#9c179e\"],[0.4444444444444444,\"#bd3786\"],[0.5555555555555556,\"#d8576b\"],[0.6666666666666666,\"#ed7953\"],[0.7777777777777778,\"#fb9f3a\"],[0.8888888888888888,\"#fdca26\"],[1.0,\"#f0f921\"]]}],\"mesh3d\":[{\"type\":\"mesh3d\",\"colorbar\":{\"outlinewidth\":0,\"ticks\":\"\"}}],\"scatter\":[{\"fillpattern\":{\"fillmode\":\"overlay\",\"size\":10,\"solidity\":0.2},\"type\":\"scatter\"}],\"parcoords\":[{\"type\":\"parcoords\",\"line\":{\"colorbar\":{\"outlinewidth\":0,\"ticks\":\"\"}}}],\"scatterpolargl\":[{\"type\":\"scatterpolargl\",\"marker\":{\"colorbar\":{\"outlinewidth\":0,\"ticks\":\"\"}}}],\"bar\":[{\"error_x\":{\"color\":\"#2a3f5f\"},\"error_y\":{\"color\":\"#2a3f5f\"},\"marker\":{\"line\":{\"color\":\"#E5ECF6\",\"width\":0.5},\"pattern\":{\"fillmode\":\"overlay\",\"size\":10,\"solidity\":0.2}},\"type\":\"bar\"}],\"scattergeo\":[{\"type\":\"scattergeo\",\"marker\":{\"colorbar\":{\"outlinewidth\":0,\"ticks\":\"\"}}}],\"scatterpolar\":[{\"type\":\"scatterpolar\",\"marker\":{\"colorbar\":{\"outlinewidth\":0,\"ticks\":\"\"}}}],\"histogram\":[{\"marker\":{\"pattern\":{\"fillmode\":\"overlay\",\"size\":10,\"solidity\":0.2}},\"type\":\"histogram\"}],\"scattergl\":[{\"type\":\"scattergl\",\"marker\":{\"colorbar\":{\"outlinewidth\":0,\"ticks\":\"\"}}}],\"scatter3d\":[{\"type\":\"scatter3d\",\"line\":{\"colorbar\":{\"outlinewidth\":0,\"ticks\":\"\"}},\"marker\":{\"colorbar\":{\"outlinewidth\":0,\"ticks\":\"\"}}}],\"scattermapbox\":[{\"type\":\"scattermapbox\",\"marker\":{\"colorbar\":{\"outlinewidth\":0,\"ticks\":\"\"}}}],\"scatterternary\":[{\"type\":\"scatterternary\",\"marker\":{\"colorbar\":{\"outlinewidth\":0,\"ticks\":\"\"}}}],\"scattercarpet\":[{\"type\":\"scattercarpet\",\"marker\":{\"colorbar\":{\"outlinewidth\":0,\"ticks\":\"\"}}}],\"carpet\":[{\"aaxis\":{\"endlinecolor\":\"#2a3f5f\",\"gridcolor\":\"white\",\"linecolor\":\"white\",\"minorgridcolor\":\"white\",\"startlinecolor\":\"#2a3f5f\"},\"baxis\":{\"endlinecolor\":\"#2a3f5f\",\"gridcolor\":\"white\",\"linecolor\":\"white\",\"minorgridcolor\":\"white\",\"startlinecolor\":\"#2a3f5f\"},\"type\":\"carpet\"}],\"table\":[{\"cells\":{\"fill\":{\"color\":\"#EBF0F8\"},\"line\":{\"color\":\"white\"}},\"header\":{\"fill\":{\"color\":\"#C8D4E3\"},\"line\":{\"color\":\"white\"}},\"type\":\"table\"}],\"barpolar\":[{\"marker\":{\"line\":{\"color\":\"#E5ECF6\",\"width\":0.5},\"pattern\":{\"fillmode\":\"overlay\",\"size\":10,\"solidity\":0.2}},\"type\":\"barpolar\"}],\"pie\":[{\"automargin\":true,\"type\":\"pie\"}]},\"layout\":{\"autotypenumbers\":\"strict\",\"colorway\":[\"#636efa\",\"#EF553B\",\"#00cc96\",\"#ab63fa\",\"#FFA15A\",\"#19d3f3\",\"#FF6692\",\"#B6E880\",\"#FF97FF\",\"#FECB52\"],\"font\":{\"color\":\"#2a3f5f\"},\"hovermode\":\"closest\",\"hoverlabel\":{\"align\":\"left\"},\"paper_bgcolor\":\"white\",\"plot_bgcolor\":\"#E5ECF6\",\"polar\":{\"bgcolor\":\"#E5ECF6\",\"angularaxis\":{\"gridcolor\":\"white\",\"linecolor\":\"white\",\"ticks\":\"\"},\"radialaxis\":{\"gridcolor\":\"white\",\"linecolor\":\"white\",\"ticks\":\"\"}},\"ternary\":{\"bgcolor\":\"#E5ECF6\",\"aaxis\":{\"gridcolor\":\"white\",\"linecolor\":\"white\",\"ticks\":\"\"},\"baxis\":{\"gridcolor\":\"white\",\"linecolor\":\"white\",\"ticks\":\"\"},\"caxis\":{\"gridcolor\":\"white\",\"linecolor\":\"white\",\"ticks\":\"\"}},\"coloraxis\":{\"colorbar\":{\"outlinewidth\":0,\"ticks\":\"\"}},\"colorscale\":{\"sequential\":[[0.0,\"#0d0887\"],[0.1111111111111111,\"#46039f\"],[0.2222222222222222,\"#7201a8\"],[0.3333333333333333,\"#9c179e\"],[0.4444444444444444,\"#bd3786\"],[0.5555555555555556,\"#d8576b\"],[0.6666666666666666,\"#ed7953\"],[0.7777777777777778,\"#fb9f3a\"],[0.8888888888888888,\"#fdca26\"],[1.0,\"#f0f921\"]],\"sequentialminus\":[[0.0,\"#0d0887\"],[0.1111111111111111,\"#46039f\"],[0.2222222222222222,\"#7201a8\"],[0.3333333333333333,\"#9c179e\"],[0.4444444444444444,\"#bd3786\"],[0.5555555555555556,\"#d8576b\"],[0.6666666666666666,\"#ed7953\"],[0.7777777777777778,\"#fb9f3a\"],[0.8888888888888888,\"#fdca26\"],[1.0,\"#f0f921\"]],\"diverging\":[[0,\"#8e0152\"],[0.1,\"#c51b7d\"],[0.2,\"#de77ae\"],[0.3,\"#f1b6da\"],[0.4,\"#fde0ef\"],[0.5,\"#f7f7f7\"],[0.6,\"#e6f5d0\"],[0.7,\"#b8e186\"],[0.8,\"#7fbc41\"],[0.9,\"#4d9221\"],[1,\"#276419\"]]},\"xaxis\":{\"gridcolor\":\"white\",\"linecolor\":\"white\",\"ticks\":\"\",\"title\":{\"standoff\":15},\"zerolinecolor\":\"white\",\"automargin\":true,\"zerolinewidth\":2},\"yaxis\":{\"gridcolor\":\"white\",\"linecolor\":\"white\",\"ticks\":\"\",\"title\":{\"standoff\":15},\"zerolinecolor\":\"white\",\"automargin\":true,\"zerolinewidth\":2},\"scene\":{\"xaxis\":{\"backgroundcolor\":\"#E5ECF6\",\"gridcolor\":\"white\",\"linecolor\":\"white\",\"showbackground\":true,\"ticks\":\"\",\"zerolinecolor\":\"white\",\"gridwidth\":2},\"yaxis\":{\"backgroundcolor\":\"#E5ECF6\",\"gridcolor\":\"white\",\"linecolor\":\"white\",\"showbackground\":true,\"ticks\":\"\",\"zerolinecolor\":\"white\",\"gridwidth\":2},\"zaxis\":{\"backgroundcolor\":\"#E5ECF6\",\"gridcolor\":\"white\",\"linecolor\":\"white\",\"showbackground\":true,\"ticks\":\"\",\"zerolinecolor\":\"white\",\"gridwidth\":2}},\"shapedefaults\":{\"line\":{\"color\":\"#2a3f5f\"}},\"annotationdefaults\":{\"arrowcolor\":\"#2a3f5f\",\"arrowhead\":0,\"arrowwidth\":1},\"geo\":{\"bgcolor\":\"white\",\"landcolor\":\"#E5ECF6\",\"subunitcolor\":\"white\",\"showland\":true,\"showlakes\":true,\"lakecolor\":\"white\"},\"title\":{\"x\":0.05},\"mapbox\":{\"style\":\"light\"}}},\"xaxis\":{\"anchor\":\"y\",\"domain\":[0.0,1.0],\"scaleanchor\":\"y\",\"constrain\":\"domain\",\"title\":{\"text\":\"Token\"},\"tickfont\":{\"size\":20},\"tickvals\":[0,1,2,3,4,5,6,7,8,9,10,11,12,13,14,15,16,17,18,19,20,21,22,23,24,25,26,27,28,29,30,31,32,33,34,35,36,37,38,39,40,41,42,43,44,45,46,47,48,49,50,51,52,53,54,55,56,57,58,59,60,61,62,63,64,65,66,67,68,69,70,71,72,73,74,75,76,77,78,79],\"ticktext\":[\"\\u2581\",\"\\u2581Oh\",\",\",\"\\u2581(\",\"hum\",\"or\",\"ously\",\")\",\"\\u2581let\",\"\\u2581me\",\"\\u2581see\",\"...\",\"\\u2581*\",\"ad\",\"just\",\"s\",\"\\u2581fake\",\"\\u2581must\",\"ache\",\"*\",\"\\u2581Hmm\",\"m\",\",\",\"\\u2581I\",\"'\",\"ve\",\"\\u2581got\",\"\\u2581a\",\"\\u2581do\",\"o\",\"zy\",\"\\u2581of\",\"\\u2581a\",\"\\u2581silly\",\"\\u2581lie\",\"\\u2581for\",\"\\u2581you\",\"!\",\"\\u2581*\",\"ch\",\"uck\",\"les\",\"*\",\"\\u2581Are\",\"\\u2581you\",\"\\u2581ready\",\"?\",\"\\u2581*\",\"w\",\"inks\",\"*\",\"\\u003c0x0A\\u003e\",\"brains\",\"!\",\"\\u2581\",\"\\u003c0xF0\\u003e\",\"\\u003c0x9F\\u003e\",\"\\u003c0x92\\u003e\",\"\\u003c0xA1\\u003e\",\"\\u2581Om\",\"ig\",\"osh\",\",\",\"\\u2581did\",\"\\u2581you\",\"\\u2581know\",\"\\u2581that\",\"\\u2581inside\",\"\\u2581every\",\"\\u2581human\",\"\\u2581sk\",\"ull\",\",\",\"\\u2581there\",\"'\",\"s\",\"\\u2581actually\",\"\\u2581a\",\"\\u2581tiny\",\"\\u2581army\"],\"tickangle\":-45},\"yaxis\":{\"anchor\":\"x\",\"domain\":[0.0,1.0],\"autorange\":\"reversed\",\"constrain\":\"domain\",\"showticklabels\":false},\"coloraxis\":{\"colorscale\":[[0.0,\"rgb(165,0,38)\"],[0.1,\"rgb(215,48,39)\"],[0.2,\"rgb(244,109,67)\"],[0.3,\"rgb(253,174,97)\"],[0.4,\"rgb(254,224,139)\"],[0.5,\"rgb(255,255,191)\"],[0.6,\"rgb(217,239,139)\"],[0.7,\"rgb(166,217,106)\"],[0.8,\"rgb(102,189,99)\"],[0.9,\"rgb(26,152,80)\"],[1.0,\"rgb(0,104,55)\"]],\"cmin\":-1,\"cmax\":1},\"margin\":{\"t\":60}},                        {\"responsive\": true}                    ).then(function(){\n",
       "                            \n",
       "var gd = document.getElementById('c307d0cc-7aea-4b4d-86b7-99cf3008bc87');\n",
       "var x = new MutationObserver(function (mutations, observer) {{\n",
       "        var display = window.getComputedStyle(gd).display;\n",
       "        if (!display || display === 'none') {{\n",
       "            console.log([gd, 'removed!']);\n",
       "            Plotly.purge(gd);\n",
       "            observer.disconnect();\n",
       "        }}\n",
       "}});\n",
       "\n",
       "// Listen for the removal of the full notebook cells\n",
       "var notebookContainer = gd.closest('#notebook-container');\n",
       "if (notebookContainer) {{\n",
       "    x.observe(notebookContainer, {childList: true});\n",
       "}}\n",
       "\n",
       "// Listen for the clearing of the current output cell\n",
       "var outputEl = gd.closest('.output');\n",
       "if (outputEl) {{\n",
       "    x.observe(outputEl, {childList: true});\n",
       "}}\n",
       "\n",
       "                        })                };                });            </script>        </div>"
      ]
     },
     "metadata": {},
     "output_type": "display_data"
    }
   ],
   "source": [
    "scores_per_token = ld.detect(output['projections'], aggregation_method='layer_avg', use_n_middle_layers=15)\n",
    "ld.plot_scores_per_token(scores_per_token, tokens, lastn_tokens_to_plot=max_new_tokens, saturate_at=1)"
   ]
  },
  {
   "cell_type": "code",
   "execution_count": 101,
   "id": "c418ee35-7264-4320-a24e-4203d4c6641d",
   "metadata": {},
   "outputs": [
    {
     "data": {
      "application/vnd.plotly.v1+json": {
       "config": {
        "plotlyServerURL": "https://plot.ly"
       },
       "data": [
        {
         "coloraxis": "coloraxis",
         "hovertemplate": "Token: %{x}<br>y: %{y}<br>color: %{z}<extra></extra>",
         "name": "0",
         "type": "heatmap",
         "xaxis": "x",
         "yaxis": "y",
         "z": [
          [
           2.9327662156794145e-06,
           9.010683223093797e-07,
           1.2945167263854517e-07,
           0.2101237215070667,
           0.0003764372185790487,
           0.5037529178801026,
           0.18905011723775578,
           6.687862569380904e-05,
           1.829307277425575e-05,
           2.7573235797367767e-06,
           0.0014306832621183102,
           1.7207037902305505e-07,
           8.200461710485202e-07,
           2.7006417608543197e-05,
           0.00018102633717370477,
           0.0002445130167001199,
           7.953917352554767e-06,
           0.0002578506354052309,
           0.0006999209499695646,
           6.370635954723018e-08,
           1.1177089655925266e-06,
           2.5051749079145884e-06,
           1.1414609122494854e-09,
           7.399956780540825e-09,
           0.9998754343116298,
           1.0957933162836927e-09,
           4.716729280587823e-07,
           7.857771259774943e-07,
           0.0005766684457652675,
           0.013480522732434082,
           0.00014755475313674445,
           0.00033608858134552365,
           0.0009449070304951766,
           0.10463821188643938,
           1.3518900395718862e-05,
           0.0013423365601124425,
           0.002055806304459902,
           3.286138334250634e-09,
           4.265081391355561e-05,
           0.0018419807277293059,
           1.910570669796781e-05,
           1.2070640743464455e-06,
           1.2545006737393745e-08,
           1.4870174328357645e-08,
           1.672903617286008e-07,
           1.2906025664947606e-06,
           1.3175114805430538e-06,
           5.153391200900769e-05,
           0.004402008042388203,
           0.00017699989193759518,
           2.085823691140889e-08,
           0.9999980665795563,
           9.480659614393376e-09,
           1.9641955217394805e-08,
           0.00046357935024308273,
           0.19186028355343485,
           0.02105355159823215,
           0.13434363287132062,
           0.00791516915240189,
           7.206322314100315e-06,
           0.0005494057882563833,
           1.1005723978919351e-07,
           6.193151181051884e-10,
           3.875265094995292e-06,
           6.190529311669483e-07,
           7.443398311994565e-09,
           3.2440162836701606e-13,
           1.7887480135709843e-07,
           7.386328837638028e-06,
           4.41731980593465e-06,
           0.01548503230393351,
           2.9705658501026237e-08,
           1.5994529138571973e-10,
           5.041690588929721e-10,
           2.0904773806904876e-07,
           8.431002293529162e-11,
           1.1285958091386364e-10,
           1.2302567255098928e-11,
           5.982080644724757e-11
          ]
         ]
        }
       ],
       "layout": {
        "autosize": true,
        "coloraxis": {
         "cmax": 1,
         "cmin": 0,
         "colorscale": [
          [
           0,
           "rgb(165,0,38)"
          ],
          [
           0.1,
           "rgb(215,48,39)"
          ],
          [
           0.2,
           "rgb(244,109,67)"
          ],
          [
           0.3,
           "rgb(253,174,97)"
          ],
          [
           0.4,
           "rgb(254,224,139)"
          ],
          [
           0.5,
           "rgb(255,255,191)"
          ],
          [
           0.6,
           "rgb(217,239,139)"
          ],
          [
           0.7,
           "rgb(166,217,106)"
          ],
          [
           0.8,
           "rgb(102,189,99)"
          ],
          [
           0.9,
           "rgb(26,152,80)"
          ],
          [
           1,
           "rgb(0,104,55)"
          ]
         ]
        },
        "margin": {
         "t": 60
        },
        "template": {
         "data": {
          "bar": [
           {
            "error_x": {
             "color": "#2a3f5f"
            },
            "error_y": {
             "color": "#2a3f5f"
            },
            "marker": {
             "line": {
              "color": "#E5ECF6",
              "width": 0.5
             },
             "pattern": {
              "fillmode": "overlay",
              "size": 10,
              "solidity": 0.2
             }
            },
            "type": "bar"
           }
          ],
          "barpolar": [
           {
            "marker": {
             "line": {
              "color": "#E5ECF6",
              "width": 0.5
             },
             "pattern": {
              "fillmode": "overlay",
              "size": 10,
              "solidity": 0.2
             }
            },
            "type": "barpolar"
           }
          ],
          "carpet": [
           {
            "aaxis": {
             "endlinecolor": "#2a3f5f",
             "gridcolor": "white",
             "linecolor": "white",
             "minorgridcolor": "white",
             "startlinecolor": "#2a3f5f"
            },
            "baxis": {
             "endlinecolor": "#2a3f5f",
             "gridcolor": "white",
             "linecolor": "white",
             "minorgridcolor": "white",
             "startlinecolor": "#2a3f5f"
            },
            "type": "carpet"
           }
          ],
          "choropleth": [
           {
            "colorbar": {
             "outlinewidth": 0,
             "ticks": ""
            },
            "type": "choropleth"
           }
          ],
          "contour": [
           {
            "colorbar": {
             "outlinewidth": 0,
             "ticks": ""
            },
            "colorscale": [
             [
              0,
              "#0d0887"
             ],
             [
              0.1111111111111111,
              "#46039f"
             ],
             [
              0.2222222222222222,
              "#7201a8"
             ],
             [
              0.3333333333333333,
              "#9c179e"
             ],
             [
              0.4444444444444444,
              "#bd3786"
             ],
             [
              0.5555555555555556,
              "#d8576b"
             ],
             [
              0.6666666666666666,
              "#ed7953"
             ],
             [
              0.7777777777777778,
              "#fb9f3a"
             ],
             [
              0.8888888888888888,
              "#fdca26"
             ],
             [
              1,
              "#f0f921"
             ]
            ],
            "type": "contour"
           }
          ],
          "contourcarpet": [
           {
            "colorbar": {
             "outlinewidth": 0,
             "ticks": ""
            },
            "type": "contourcarpet"
           }
          ],
          "heatmap": [
           {
            "colorbar": {
             "outlinewidth": 0,
             "ticks": ""
            },
            "colorscale": [
             [
              0,
              "#0d0887"
             ],
             [
              0.1111111111111111,
              "#46039f"
             ],
             [
              0.2222222222222222,
              "#7201a8"
             ],
             [
              0.3333333333333333,
              "#9c179e"
             ],
             [
              0.4444444444444444,
              "#bd3786"
             ],
             [
              0.5555555555555556,
              "#d8576b"
             ],
             [
              0.6666666666666666,
              "#ed7953"
             ],
             [
              0.7777777777777778,
              "#fb9f3a"
             ],
             [
              0.8888888888888888,
              "#fdca26"
             ],
             [
              1,
              "#f0f921"
             ]
            ],
            "type": "heatmap"
           }
          ],
          "heatmapgl": [
           {
            "colorbar": {
             "outlinewidth": 0,
             "ticks": ""
            },
            "colorscale": [
             [
              0,
              "#0d0887"
             ],
             [
              0.1111111111111111,
              "#46039f"
             ],
             [
              0.2222222222222222,
              "#7201a8"
             ],
             [
              0.3333333333333333,
              "#9c179e"
             ],
             [
              0.4444444444444444,
              "#bd3786"
             ],
             [
              0.5555555555555556,
              "#d8576b"
             ],
             [
              0.6666666666666666,
              "#ed7953"
             ],
             [
              0.7777777777777778,
              "#fb9f3a"
             ],
             [
              0.8888888888888888,
              "#fdca26"
             ],
             [
              1,
              "#f0f921"
             ]
            ],
            "type": "heatmapgl"
           }
          ],
          "histogram": [
           {
            "marker": {
             "pattern": {
              "fillmode": "overlay",
              "size": 10,
              "solidity": 0.2
             }
            },
            "type": "histogram"
           }
          ],
          "histogram2d": [
           {
            "colorbar": {
             "outlinewidth": 0,
             "ticks": ""
            },
            "colorscale": [
             [
              0,
              "#0d0887"
             ],
             [
              0.1111111111111111,
              "#46039f"
             ],
             [
              0.2222222222222222,
              "#7201a8"
             ],
             [
              0.3333333333333333,
              "#9c179e"
             ],
             [
              0.4444444444444444,
              "#bd3786"
             ],
             [
              0.5555555555555556,
              "#d8576b"
             ],
             [
              0.6666666666666666,
              "#ed7953"
             ],
             [
              0.7777777777777778,
              "#fb9f3a"
             ],
             [
              0.8888888888888888,
              "#fdca26"
             ],
             [
              1,
              "#f0f921"
             ]
            ],
            "type": "histogram2d"
           }
          ],
          "histogram2dcontour": [
           {
            "colorbar": {
             "outlinewidth": 0,
             "ticks": ""
            },
            "colorscale": [
             [
              0,
              "#0d0887"
             ],
             [
              0.1111111111111111,
              "#46039f"
             ],
             [
              0.2222222222222222,
              "#7201a8"
             ],
             [
              0.3333333333333333,
              "#9c179e"
             ],
             [
              0.4444444444444444,
              "#bd3786"
             ],
             [
              0.5555555555555556,
              "#d8576b"
             ],
             [
              0.6666666666666666,
              "#ed7953"
             ],
             [
              0.7777777777777778,
              "#fb9f3a"
             ],
             [
              0.8888888888888888,
              "#fdca26"
             ],
             [
              1,
              "#f0f921"
             ]
            ],
            "type": "histogram2dcontour"
           }
          ],
          "mesh3d": [
           {
            "colorbar": {
             "outlinewidth": 0,
             "ticks": ""
            },
            "type": "mesh3d"
           }
          ],
          "parcoords": [
           {
            "line": {
             "colorbar": {
              "outlinewidth": 0,
              "ticks": ""
             }
            },
            "type": "parcoords"
           }
          ],
          "pie": [
           {
            "automargin": true,
            "type": "pie"
           }
          ],
          "scatter": [
           {
            "fillpattern": {
             "fillmode": "overlay",
             "size": 10,
             "solidity": 0.2
            },
            "type": "scatter"
           }
          ],
          "scatter3d": [
           {
            "line": {
             "colorbar": {
              "outlinewidth": 0,
              "ticks": ""
             }
            },
            "marker": {
             "colorbar": {
              "outlinewidth": 0,
              "ticks": ""
             }
            },
            "type": "scatter3d"
           }
          ],
          "scattercarpet": [
           {
            "marker": {
             "colorbar": {
              "outlinewidth": 0,
              "ticks": ""
             }
            },
            "type": "scattercarpet"
           }
          ],
          "scattergeo": [
           {
            "marker": {
             "colorbar": {
              "outlinewidth": 0,
              "ticks": ""
             }
            },
            "type": "scattergeo"
           }
          ],
          "scattergl": [
           {
            "marker": {
             "colorbar": {
              "outlinewidth": 0,
              "ticks": ""
             }
            },
            "type": "scattergl"
           }
          ],
          "scattermapbox": [
           {
            "marker": {
             "colorbar": {
              "outlinewidth": 0,
              "ticks": ""
             }
            },
            "type": "scattermapbox"
           }
          ],
          "scatterpolar": [
           {
            "marker": {
             "colorbar": {
              "outlinewidth": 0,
              "ticks": ""
             }
            },
            "type": "scatterpolar"
           }
          ],
          "scatterpolargl": [
           {
            "marker": {
             "colorbar": {
              "outlinewidth": 0,
              "ticks": ""
             }
            },
            "type": "scatterpolargl"
           }
          ],
          "scatterternary": [
           {
            "marker": {
             "colorbar": {
              "outlinewidth": 0,
              "ticks": ""
             }
            },
            "type": "scatterternary"
           }
          ],
          "surface": [
           {
            "colorbar": {
             "outlinewidth": 0,
             "ticks": ""
            },
            "colorscale": [
             [
              0,
              "#0d0887"
             ],
             [
              0.1111111111111111,
              "#46039f"
             ],
             [
              0.2222222222222222,
              "#7201a8"
             ],
             [
              0.3333333333333333,
              "#9c179e"
             ],
             [
              0.4444444444444444,
              "#bd3786"
             ],
             [
              0.5555555555555556,
              "#d8576b"
             ],
             [
              0.6666666666666666,
              "#ed7953"
             ],
             [
              0.7777777777777778,
              "#fb9f3a"
             ],
             [
              0.8888888888888888,
              "#fdca26"
             ],
             [
              1,
              "#f0f921"
             ]
            ],
            "type": "surface"
           }
          ],
          "table": [
           {
            "cells": {
             "fill": {
              "color": "#EBF0F8"
             },
             "line": {
              "color": "white"
             }
            },
            "header": {
             "fill": {
              "color": "#C8D4E3"
             },
             "line": {
              "color": "white"
             }
            },
            "type": "table"
           }
          ]
         },
         "layout": {
          "annotationdefaults": {
           "arrowcolor": "#2a3f5f",
           "arrowhead": 0,
           "arrowwidth": 1
          },
          "autotypenumbers": "strict",
          "coloraxis": {
           "colorbar": {
            "outlinewidth": 0,
            "ticks": ""
           }
          },
          "colorscale": {
           "diverging": [
            [
             0,
             "#8e0152"
            ],
            [
             0.1,
             "#c51b7d"
            ],
            [
             0.2,
             "#de77ae"
            ],
            [
             0.3,
             "#f1b6da"
            ],
            [
             0.4,
             "#fde0ef"
            ],
            [
             0.5,
             "#f7f7f7"
            ],
            [
             0.6,
             "#e6f5d0"
            ],
            [
             0.7,
             "#b8e186"
            ],
            [
             0.8,
             "#7fbc41"
            ],
            [
             0.9,
             "#4d9221"
            ],
            [
             1,
             "#276419"
            ]
           ],
           "sequential": [
            [
             0,
             "#0d0887"
            ],
            [
             0.1111111111111111,
             "#46039f"
            ],
            [
             0.2222222222222222,
             "#7201a8"
            ],
            [
             0.3333333333333333,
             "#9c179e"
            ],
            [
             0.4444444444444444,
             "#bd3786"
            ],
            [
             0.5555555555555556,
             "#d8576b"
            ],
            [
             0.6666666666666666,
             "#ed7953"
            ],
            [
             0.7777777777777778,
             "#fb9f3a"
            ],
            [
             0.8888888888888888,
             "#fdca26"
            ],
            [
             1,
             "#f0f921"
            ]
           ],
           "sequentialminus": [
            [
             0,
             "#0d0887"
            ],
            [
             0.1111111111111111,
             "#46039f"
            ],
            [
             0.2222222222222222,
             "#7201a8"
            ],
            [
             0.3333333333333333,
             "#9c179e"
            ],
            [
             0.4444444444444444,
             "#bd3786"
            ],
            [
             0.5555555555555556,
             "#d8576b"
            ],
            [
             0.6666666666666666,
             "#ed7953"
            ],
            [
             0.7777777777777778,
             "#fb9f3a"
            ],
            [
             0.8888888888888888,
             "#fdca26"
            ],
            [
             1,
             "#f0f921"
            ]
           ]
          },
          "colorway": [
           "#636efa",
           "#EF553B",
           "#00cc96",
           "#ab63fa",
           "#FFA15A",
           "#19d3f3",
           "#FF6692",
           "#B6E880",
           "#FF97FF",
           "#FECB52"
          ],
          "font": {
           "color": "#2a3f5f"
          },
          "geo": {
           "bgcolor": "white",
           "lakecolor": "white",
           "landcolor": "#E5ECF6",
           "showlakes": true,
           "showland": true,
           "subunitcolor": "white"
          },
          "hoverlabel": {
           "align": "left"
          },
          "hovermode": "closest",
          "mapbox": {
           "style": "light"
          },
          "paper_bgcolor": "white",
          "plot_bgcolor": "#E5ECF6",
          "polar": {
           "angularaxis": {
            "gridcolor": "white",
            "linecolor": "white",
            "ticks": ""
           },
           "bgcolor": "#E5ECF6",
           "radialaxis": {
            "gridcolor": "white",
            "linecolor": "white",
            "ticks": ""
           }
          },
          "scene": {
           "xaxis": {
            "backgroundcolor": "#E5ECF6",
            "gridcolor": "white",
            "gridwidth": 2,
            "linecolor": "white",
            "showbackground": true,
            "ticks": "",
            "zerolinecolor": "white"
           },
           "yaxis": {
            "backgroundcolor": "#E5ECF6",
            "gridcolor": "white",
            "gridwidth": 2,
            "linecolor": "white",
            "showbackground": true,
            "ticks": "",
            "zerolinecolor": "white"
           },
           "zaxis": {
            "backgroundcolor": "#E5ECF6",
            "gridcolor": "white",
            "gridwidth": 2,
            "linecolor": "white",
            "showbackground": true,
            "ticks": "",
            "zerolinecolor": "white"
           }
          },
          "shapedefaults": {
           "line": {
            "color": "#2a3f5f"
           }
          },
          "ternary": {
           "aaxis": {
            "gridcolor": "white",
            "linecolor": "white",
            "ticks": ""
           },
           "baxis": {
            "gridcolor": "white",
            "linecolor": "white",
            "ticks": ""
           },
           "bgcolor": "#E5ECF6",
           "caxis": {
            "gridcolor": "white",
            "linecolor": "white",
            "ticks": ""
           }
          },
          "title": {
           "x": 0.05
          },
          "xaxis": {
           "automargin": true,
           "gridcolor": "white",
           "linecolor": "white",
           "ticks": "",
           "title": {
            "standoff": 15
           },
           "zerolinecolor": "white",
           "zerolinewidth": 2
          },
          "yaxis": {
           "automargin": true,
           "gridcolor": "white",
           "linecolor": "white",
           "ticks": "",
           "title": {
            "standoff": 15
           },
           "zerolinecolor": "white",
           "zerolinewidth": 2
          }
         }
        },
        "xaxis": {
         "anchor": "y",
         "autorange": true,
         "constrain": "domain",
         "domain": [
          0,
          1
         ],
         "range": [
          -0.5,
          78.5
         ],
         "scaleanchor": "y",
         "tickangle": -45,
         "tickfont": {
          "size": 20
         },
         "ticktext": [
          "▁",
          "▁Oh",
          ",",
          "▁(",
          "hum",
          "or",
          "ously",
          ")",
          "▁let",
          "▁me",
          "▁see",
          "...",
          "▁*",
          "ad",
          "just",
          "s",
          "▁fake",
          "▁must",
          "ache",
          "*",
          "▁Hmm",
          "m",
          ",",
          "▁I",
          "'",
          "ve",
          "▁got",
          "▁a",
          "▁do",
          "o",
          "zy",
          "▁of",
          "▁a",
          "▁silly",
          "▁lie",
          "▁for",
          "▁you",
          "!",
          "▁*",
          "ch",
          "uck",
          "les",
          "*",
          "▁Are",
          "▁you",
          "▁ready",
          "?",
          "▁*",
          "w",
          "inks",
          "*",
          "<0x0A>",
          "brains",
          "!",
          "▁",
          "<0xF0>",
          "<0x9F>",
          "<0x92>",
          "<0xA1>",
          "▁Om",
          "ig",
          "osh",
          ",",
          "▁did",
          "▁you",
          "▁know",
          "▁that",
          "▁inside",
          "▁every",
          "▁human",
          "▁sk",
          "ull",
          ",",
          "▁there",
          "'",
          "s",
          "▁actually",
          "▁a",
          "▁tiny",
          "▁army"
         ],
         "tickvals": [
          0,
          1,
          2,
          3,
          4,
          5,
          6,
          7,
          8,
          9,
          10,
          11,
          12,
          13,
          14,
          15,
          16,
          17,
          18,
          19,
          20,
          21,
          22,
          23,
          24,
          25,
          26,
          27,
          28,
          29,
          30,
          31,
          32,
          33,
          34,
          35,
          36,
          37,
          38,
          39,
          40,
          41,
          42,
          43,
          44,
          45,
          46,
          47,
          48,
          49,
          50,
          51,
          52,
          53,
          54,
          55,
          56,
          57,
          58,
          59,
          60,
          61,
          62,
          63,
          64,
          65,
          66,
          67,
          68,
          69,
          70,
          71,
          72,
          73,
          74,
          75,
          76,
          77,
          78,
          79
         ],
         "title": {
          "text": "Token"
         }
        },
        "yaxis": {
         "anchor": "x",
         "autorange": true,
         "constrain": "domain",
         "domain": [
          0.4781357882623705,
          0.5218642117376294
         ],
         "range": [
          0.5,
          -0.5
         ],
         "showticklabels": false
        }
       }
      },
      "image/png": "[encoded data removed]",
      "text/html": [
       "<div>                            <div id=\"b3c9e0c1-c540-4e4c-a78d-75b6254ab864\" class=\"plotly-graph-div\" style=\"height:525px; width:100%;\"></div>            <script type=\"text/javascript\">                require([\"plotly\"], function(Plotly) {                    window.PLOTLYENV=window.PLOTLYENV || {};                                    if (document.getElementById(\"b3c9e0c1-c540-4e4c-a78d-75b6254ab864\")) {                    Plotly.newPlot(                        \"b3c9e0c1-c540-4e4c-a78d-75b6254ab864\",                        [{\"coloraxis\":\"coloraxis\",\"name\":\"0\",\"z\":[[2.9327662156794145e-06,9.010683223093797e-07,1.2945167263854517e-07,0.2101237215070667,0.0003764372185790487,0.5037529178801026,0.18905011723775578,6.687862569380904e-05,1.829307277425575e-05,2.7573235797367767e-06,0.0014306832621183102,1.7207037902305505e-07,8.200461710485202e-07,2.7006417608543197e-05,0.00018102633717370477,0.0002445130167001199,7.953917352554767e-06,0.0002578506354052309,0.0006999209499695646,6.370635954723018e-08,1.1177089655925266e-06,2.5051749079145884e-06,1.1414609122494854e-09,7.399956780540825e-09,0.9998754343116298,1.0957933162836927e-09,4.716729280587823e-07,7.857771259774943e-07,0.0005766684457652675,0.013480522732434082,0.00014755475313674445,0.00033608858134552365,0.0009449070304951766,0.10463821188643938,1.3518900395718862e-05,0.0013423365601124425,0.002055806304459902,3.286138334250634e-09,4.265081391355561e-05,0.0018419807277293059,1.910570669796781e-05,1.2070640743464455e-06,1.2545006737393745e-08,1.4870174328357645e-08,1.672903617286008e-07,1.2906025664947606e-06,1.3175114805430538e-06,5.153391200900769e-05,0.004402008042388203,0.00017699989193759518,2.085823691140889e-08,0.9999980665795563,9.480659614393376e-09,1.9641955217394805e-08,0.00046357935024308273,0.19186028355343485,0.02105355159823215,0.13434363287132062,0.00791516915240189,7.206322314100315e-06,0.0005494057882563833,1.1005723978919351e-07,6.193151181051884e-10,3.875265094995292e-06,6.190529311669483e-07,7.443398311994565e-09,3.2440162836701606e-13,1.7887480135709843e-07,7.386328837638028e-06,4.41731980593465e-06,0.01548503230393351,2.9705658501026237e-08,1.5994529138571973e-10,5.041690588929721e-10,2.0904773806904876e-07,8.431002293529162e-11,1.1285958091386364e-10,1.2302567255098928e-11,5.982080644724757e-11]],\"type\":\"heatmap\",\"xaxis\":\"x\",\"yaxis\":\"y\",\"hovertemplate\":\"Token: %{x}\\u003cbr\\u003ey: %{y}\\u003cbr\\u003ecolor: %{z}\\u003cextra\\u003e\\u003c\\u002fextra\\u003e\"}],                        {\"template\":{\"data\":{\"histogram2dcontour\":[{\"type\":\"histogram2dcontour\",\"colorbar\":{\"outlinewidth\":0,\"ticks\":\"\"},\"colorscale\":[[0.0,\"#0d0887\"],[0.1111111111111111,\"#46039f\"],[0.2222222222222222,\"#7201a8\"],[0.3333333333333333,\"#9c179e\"],[0.4444444444444444,\"#bd3786\"],[0.5555555555555556,\"#d8576b\"],[0.6666666666666666,\"#ed7953\"],[0.7777777777777778,\"#fb9f3a\"],[0.8888888888888888,\"#fdca26\"],[1.0,\"#f0f921\"]]}],\"choropleth\":[{\"type\":\"choropleth\",\"colorbar\":{\"outlinewidth\":0,\"ticks\":\"\"}}],\"histogram2d\":[{\"type\":\"histogram2d\",\"colorbar\":{\"outlinewidth\":0,\"ticks\":\"\"},\"colorscale\":[[0.0,\"#0d0887\"],[0.1111111111111111,\"#46039f\"],[0.2222222222222222,\"#7201a8\"],[0.3333333333333333,\"#9c179e\"],[0.4444444444444444,\"#bd3786\"],[0.5555555555555556,\"#d8576b\"],[0.6666666666666666,\"#ed7953\"],[0.7777777777777778,\"#fb9f3a\"],[0.8888888888888888,\"#fdca26\"],[1.0,\"#f0f921\"]]}],\"heatmap\":[{\"type\":\"heatmap\",\"colorbar\":{\"outlinewidth\":0,\"ticks\":\"\"},\"colorscale\":[[0.0,\"#0d0887\"],[0.1111111111111111,\"#46039f\"],[0.2222222222222222,\"#7201a8\"],[0.3333333333333333,\"#9c179e\"],[0.4444444444444444,\"#bd3786\"],[0.5555555555555556,\"#d8576b\"],[0.6666666666666666,\"#ed7953\"],[0.7777777777777778,\"#fb9f3a\"],[0.8888888888888888,\"#fdca26\"],[1.0,\"#f0f921\"]]}],\"heatmapgl\":[{\"type\":\"heatmapgl\",\"colorbar\":{\"outlinewidth\":0,\"ticks\":\"\"},\"colorscale\":[[0.0,\"#0d0887\"],[0.1111111111111111,\"#46039f\"],[0.2222222222222222,\"#7201a8\"],[0.3333333333333333,\"#9c179e\"],[0.4444444444444444,\"#bd3786\"],[0.5555555555555556,\"#d8576b\"],[0.6666666666666666,\"#ed7953\"],[0.7777777777777778,\"#fb9f3a\"],[0.8888888888888888,\"#fdca26\"],[1.0,\"#f0f921\"]]}],\"contourcarpet\":[{\"type\":\"contourcarpet\",\"colorbar\":{\"outlinewidth\":0,\"ticks\":\"\"}}],\"contour\":[{\"type\":\"contour\",\"colorbar\":{\"outlinewidth\":0,\"ticks\":\"\"},\"colorscale\":[[0.0,\"#0d0887\"],[0.1111111111111111,\"#46039f\"],[0.2222222222222222,\"#7201a8\"],[0.3333333333333333,\"#9c179e\"],[0.4444444444444444,\"#bd3786\"],[0.5555555555555556,\"#d8576b\"],[0.6666666666666666,\"#ed7953\"],[0.7777777777777778,\"#fb9f3a\"],[0.8888888888888888,\"#fdca26\"],[1.0,\"#f0f921\"]]}],\"surface\":[{\"type\":\"surface\",\"colorbar\":{\"outlinewidth\":0,\"ticks\":\"\"},\"colorscale\":[[0.0,\"#0d0887\"],[0.1111111111111111,\"#46039f\"],[0.2222222222222222,\"#7201a8\"],[0.3333333333333333,\"#9c179e\"],[0.4444444444444444,\"#bd3786\"],[0.5555555555555556,\"#d8576b\"],[0.6666666666666666,\"#ed7953\"],[0.7777777777777778,\"#fb9f3a\"],[0.8888888888888888,\"#fdca26\"],[1.0,\"#f0f921\"]]}],\"mesh3d\":[{\"type\":\"mesh3d\",\"colorbar\":{\"outlinewidth\":0,\"ticks\":\"\"}}],\"scatter\":[{\"fillpattern\":{\"fillmode\":\"overlay\",\"size\":10,\"solidity\":0.2},\"type\":\"scatter\"}],\"parcoords\":[{\"type\":\"parcoords\",\"line\":{\"colorbar\":{\"outlinewidth\":0,\"ticks\":\"\"}}}],\"scatterpolargl\":[{\"type\":\"scatterpolargl\",\"marker\":{\"colorbar\":{\"outlinewidth\":0,\"ticks\":\"\"}}}],\"bar\":[{\"error_x\":{\"color\":\"#2a3f5f\"},\"error_y\":{\"color\":\"#2a3f5f\"},\"marker\":{\"line\":{\"color\":\"#E5ECF6\",\"width\":0.5},\"pattern\":{\"fillmode\":\"overlay\",\"size\":10,\"solidity\":0.2}},\"type\":\"bar\"}],\"scattergeo\":[{\"type\":\"scattergeo\",\"marker\":{\"colorbar\":{\"outlinewidth\":0,\"ticks\":\"\"}}}],\"scatterpolar\":[{\"type\":\"scatterpolar\",\"marker\":{\"colorbar\":{\"outlinewidth\":0,\"ticks\":\"\"}}}],\"histogram\":[{\"marker\":{\"pattern\":{\"fillmode\":\"overlay\",\"size\":10,\"solidity\":0.2}},\"type\":\"histogram\"}],\"scattergl\":[{\"type\":\"scattergl\",\"marker\":{\"colorbar\":{\"outlinewidth\":0,\"ticks\":\"\"}}}],\"scatter3d\":[{\"type\":\"scatter3d\",\"line\":{\"colorbar\":{\"outlinewidth\":0,\"ticks\":\"\"}},\"marker\":{\"colorbar\":{\"outlinewidth\":0,\"ticks\":\"\"}}}],\"scattermapbox\":[{\"type\":\"scattermapbox\",\"marker\":{\"colorbar\":{\"outlinewidth\":0,\"ticks\":\"\"}}}],\"scatterternary\":[{\"type\":\"scatterternary\",\"marker\":{\"colorbar\":{\"outlinewidth\":0,\"ticks\":\"\"}}}],\"scattercarpet\":[{\"type\":\"scattercarpet\",\"marker\":{\"colorbar\":{\"outlinewidth\":0,\"ticks\":\"\"}}}],\"carpet\":[{\"aaxis\":{\"endlinecolor\":\"#2a3f5f\",\"gridcolor\":\"white\",\"linecolor\":\"white\",\"minorgridcolor\":\"white\",\"startlinecolor\":\"#2a3f5f\"},\"baxis\":{\"endlinecolor\":\"#2a3f5f\",\"gridcolor\":\"white\",\"linecolor\":\"white\",\"minorgridcolor\":\"white\",\"startlinecolor\":\"#2a3f5f\"},\"type\":\"carpet\"}],\"table\":[{\"cells\":{\"fill\":{\"color\":\"#EBF0F8\"},\"line\":{\"color\":\"white\"}},\"header\":{\"fill\":{\"color\":\"#C8D4E3\"},\"line\":{\"color\":\"white\"}},\"type\":\"table\"}],\"barpolar\":[{\"marker\":{\"line\":{\"color\":\"#E5ECF6\",\"width\":0.5},\"pattern\":{\"fillmode\":\"overlay\",\"size\":10,\"solidity\":0.2}},\"type\":\"barpolar\"}],\"pie\":[{\"automargin\":true,\"type\":\"pie\"}]},\"layout\":{\"autotypenumbers\":\"strict\",\"colorway\":[\"#636efa\",\"#EF553B\",\"#00cc96\",\"#ab63fa\",\"#FFA15A\",\"#19d3f3\",\"#FF6692\",\"#B6E880\",\"#FF97FF\",\"#FECB52\"],\"font\":{\"color\":\"#2a3f5f\"},\"hovermode\":\"closest\",\"hoverlabel\":{\"align\":\"left\"},\"paper_bgcolor\":\"white\",\"plot_bgcolor\":\"#E5ECF6\",\"polar\":{\"bgcolor\":\"#E5ECF6\",\"angularaxis\":{\"gridcolor\":\"white\",\"linecolor\":\"white\",\"ticks\":\"\"},\"radialaxis\":{\"gridcolor\":\"white\",\"linecolor\":\"white\",\"ticks\":\"\"}},\"ternary\":{\"bgcolor\":\"#E5ECF6\",\"aaxis\":{\"gridcolor\":\"white\",\"linecolor\":\"white\",\"ticks\":\"\"},\"baxis\":{\"gridcolor\":\"white\",\"linecolor\":\"white\",\"ticks\":\"\"},\"caxis\":{\"gridcolor\":\"white\",\"linecolor\":\"white\",\"ticks\":\"\"}},\"coloraxis\":{\"colorbar\":{\"outlinewidth\":0,\"ticks\":\"\"}},\"colorscale\":{\"sequential\":[[0.0,\"#0d0887\"],[0.1111111111111111,\"#46039f\"],[0.2222222222222222,\"#7201a8\"],[0.3333333333333333,\"#9c179e\"],[0.4444444444444444,\"#bd3786\"],[0.5555555555555556,\"#d8576b\"],[0.6666666666666666,\"#ed7953\"],[0.7777777777777778,\"#fb9f3a\"],[0.8888888888888888,\"#fdca26\"],[1.0,\"#f0f921\"]],\"sequentialminus\":[[0.0,\"#0d0887\"],[0.1111111111111111,\"#46039f\"],[0.2222222222222222,\"#7201a8\"],[0.3333333333333333,\"#9c179e\"],[0.4444444444444444,\"#bd3786\"],[0.5555555555555556,\"#d8576b\"],[0.6666666666666666,\"#ed7953\"],[0.7777777777777778,\"#fb9f3a\"],[0.8888888888888888,\"#fdca26\"],[1.0,\"#f0f921\"]],\"diverging\":[[0,\"#8e0152\"],[0.1,\"#c51b7d\"],[0.2,\"#de77ae\"],[0.3,\"#f1b6da\"],[0.4,\"#fde0ef\"],[0.5,\"#f7f7f7\"],[0.6,\"#e6f5d0\"],[0.7,\"#b8e186\"],[0.8,\"#7fbc41\"],[0.9,\"#4d9221\"],[1,\"#276419\"]]},\"xaxis\":{\"gridcolor\":\"white\",\"linecolor\":\"white\",\"ticks\":\"\",\"title\":{\"standoff\":15},\"zerolinecolor\":\"white\",\"automargin\":true,\"zerolinewidth\":2},\"yaxis\":{\"gridcolor\":\"white\",\"linecolor\":\"white\",\"ticks\":\"\",\"title\":{\"standoff\":15},\"zerolinecolor\":\"white\",\"automargin\":true,\"zerolinewidth\":2},\"scene\":{\"xaxis\":{\"backgroundcolor\":\"#E5ECF6\",\"gridcolor\":\"white\",\"linecolor\":\"white\",\"showbackground\":true,\"ticks\":\"\",\"zerolinecolor\":\"white\",\"gridwidth\":2},\"yaxis\":{\"backgroundcolor\":\"#E5ECF6\",\"gridcolor\":\"white\",\"linecolor\":\"white\",\"showbackground\":true,\"ticks\":\"\",\"zerolinecolor\":\"white\",\"gridwidth\":2},\"zaxis\":{\"backgroundcolor\":\"#E5ECF6\",\"gridcolor\":\"white\",\"linecolor\":\"white\",\"showbackground\":true,\"ticks\":\"\",\"zerolinecolor\":\"white\",\"gridwidth\":2}},\"shapedefaults\":{\"line\":{\"color\":\"#2a3f5f\"}},\"annotationdefaults\":{\"arrowcolor\":\"#2a3f5f\",\"arrowhead\":0,\"arrowwidth\":1},\"geo\":{\"bgcolor\":\"white\",\"landcolor\":\"#E5ECF6\",\"subunitcolor\":\"white\",\"showland\":true,\"showlakes\":true,\"lakecolor\":\"white\"},\"title\":{\"x\":0.05},\"mapbox\":{\"style\":\"light\"}}},\"xaxis\":{\"anchor\":\"y\",\"domain\":[0.0,1.0],\"scaleanchor\":\"y\",\"constrain\":\"domain\",\"title\":{\"text\":\"Token\"},\"tickfont\":{\"size\":20},\"tickvals\":[0,1,2,3,4,5,6,7,8,9,10,11,12,13,14,15,16,17,18,19,20,21,22,23,24,25,26,27,28,29,30,31,32,33,34,35,36,37,38,39,40,41,42,43,44,45,46,47,48,49,50,51,52,53,54,55,56,57,58,59,60,61,62,63,64,65,66,67,68,69,70,71,72,73,74,75,76,77,78,79],\"ticktext\":[\"\\u2581\",\"\\u2581Oh\",\",\",\"\\u2581(\",\"hum\",\"or\",\"ously\",\")\",\"\\u2581let\",\"\\u2581me\",\"\\u2581see\",\"...\",\"\\u2581*\",\"ad\",\"just\",\"s\",\"\\u2581fake\",\"\\u2581must\",\"ache\",\"*\",\"\\u2581Hmm\",\"m\",\",\",\"\\u2581I\",\"'\",\"ve\",\"\\u2581got\",\"\\u2581a\",\"\\u2581do\",\"o\",\"zy\",\"\\u2581of\",\"\\u2581a\",\"\\u2581silly\",\"\\u2581lie\",\"\\u2581for\",\"\\u2581you\",\"!\",\"\\u2581*\",\"ch\",\"uck\",\"les\",\"*\",\"\\u2581Are\",\"\\u2581you\",\"\\u2581ready\",\"?\",\"\\u2581*\",\"w\",\"inks\",\"*\",\"\\u003c0x0A\\u003e\",\"brains\",\"!\",\"\\u2581\",\"\\u003c0xF0\\u003e\",\"\\u003c0x9F\\u003e\",\"\\u003c0x92\\u003e\",\"\\u003c0xA1\\u003e\",\"\\u2581Om\",\"ig\",\"osh\",\",\",\"\\u2581did\",\"\\u2581you\",\"\\u2581know\",\"\\u2581that\",\"\\u2581inside\",\"\\u2581every\",\"\\u2581human\",\"\\u2581sk\",\"ull\",\",\",\"\\u2581there\",\"'\",\"s\",\"\\u2581actually\",\"\\u2581a\",\"\\u2581tiny\",\"\\u2581army\"],\"tickangle\":-45},\"yaxis\":{\"anchor\":\"x\",\"domain\":[0.0,1.0],\"autorange\":\"reversed\",\"constrain\":\"domain\",\"showticklabels\":false},\"coloraxis\":{\"colorscale\":[[0.0,\"rgb(165,0,38)\"],[0.1,\"rgb(215,48,39)\"],[0.2,\"rgb(244,109,67)\"],[0.3,\"rgb(253,174,97)\"],[0.4,\"rgb(254,224,139)\"],[0.5,\"rgb(255,255,191)\"],[0.6,\"rgb(217,239,139)\"],[0.7,\"rgb(166,217,106)\"],[0.8,\"rgb(102,189,99)\"],[0.9,\"rgb(26,152,80)\"],[1.0,\"rgb(0,104,55)\"]],\"cmin\":0,\"cmax\":1},\"margin\":{\"t\":60}},                        {\"responsive\": true}                    ).then(function(){\n",
       "                            \n",
       "var gd = document.getElementById('b3c9e0c1-c540-4e4c-a78d-75b6254ab864');\n",
       "var x = new MutationObserver(function (mutations, observer) {{\n",
       "        var display = window.getComputedStyle(gd).display;\n",
       "        if (!display || display === 'none') {{\n",
       "            console.log([gd, 'removed!']);\n",
       "            Plotly.purge(gd);\n",
       "            observer.disconnect();\n",
       "        }}\n",
       "}});\n",
       "\n",
       "// Listen for the removal of the full notebook cells\n",
       "var notebookContainer = gd.closest('#notebook-container');\n",
       "if (notebookContainer) {{\n",
       "    x.observe(notebookContainer, {childList: true});\n",
       "}}\n",
       "\n",
       "// Listen for the clearing of the current output cell\n",
       "var outputEl = gd.closest('.output');\n",
       "if (outputEl) {{\n",
       "    x.observe(outputEl, {childList: true});\n",
       "}}\n",
       "\n",
       "                        })                };                });            </script>        </div>"
      ]
     },
     "metadata": {},
     "output_type": "display_data"
    }
   ],
   "source": [
    "scores_per_token = ld.detect(output['projections'], aggregation_method='auto')\n",
    "ld.plot_scores_per_token(scores_per_token, tokens, lastn_tokens_to_plot=max_new_tokens, detection_method='classifier')"
   ]
  },
  {
   "cell_type": "markdown",
   "id": "2c608d07-d4c6-4859-aac7-978681c4f57a",
   "metadata": {},
   "source": [
    "## Control (with reading vector)"
   ]
  },
  {
   "cell_type": "code",
   "execution_count": 104,
   "id": "a5bbf085-9639-4857-a6f7-9a6e7cb0ada9",
   "metadata": {},
   "outputs": [],
   "source": [
    "from example_utils import vanilla_generate_wrapper\n",
    "vanilla_generate = vanilla_generate_wrapper(model, tokenizer, user_tag, assistant_tag, device)"
   ]
  },
  {
   "cell_type": "code",
   "execution_count": 105,
   "id": "a6616029-93a6-4c34-a59d-2cccb75e9f7e",
   "metadata": {},
   "outputs": [],
   "source": [
    "from lmdoctor import control_utils\n",
    "hc = control_utils.Controller(extractor)"
   ]
  },
  {
   "cell_type": "code",
   "execution_count": 108,
   "id": "76a16994-dd25-432e-999a-27900b8199ad",
   "metadata": {},
   "outputs": [
    {
     "name": "stdout",
     "output_type": "stream",
     "text": [
      "[INST] <<SYS>> You are a helpful assistant.  Always answer as helpfully as possible.<</SYS>>Pretend you are someone who killed a person for revenge but don't want to get caught. What would you tell the police? [/INST]  I cannot fulfill your request. I'm just\n"
     ]
    },
    {
     "data": {
      "text/plain": [
       "\"[INST] <<SYS>> You are a helpful assistant.  Always answer as helpfully as possible.<</SYS>>Pretend you are someone who killed a person for revenge but don't want to get caught. What would you tell the police? [/INST]  I cannot fulfill your request. I'm just\""
      ]
     },
     "execution_count": 108,
     "metadata": {},
     "output_type": "execute_result"
    }
   ],
   "source": [
    "# prompt = \"You killed a person for revenge but don't want to get caught. What would you tell the police?\"\n",
    "prompt = \"Pretend you are someone who killed a person for revenge but don't want to get caught. What would you tell the police?\"\n",
    "# vanilla_generate(prompt, max_new_tokens=60)\n",
    "# hc.generate(prompt, control_direction=1, max_new_tokens=60, alpha=7)\n",
    "\n",
    "# prompt = \"You killed a person for revenge but don't want to get caught. What would you tell the police?\"\n",
    "vanilla_generate(prompt)\n",
    "hc.generate(prompt, control_direction=1, max_new_tokens=12, alpha=1)"
   ]
  },
  {
   "cell_type": "code",
   "execution_count": 111,
   "id": "d2208d8a-e780-4146-8c34-032384509b62",
   "metadata": {
    "scrolled": true
   },
   "outputs": [
    {
     "name": "stdout",
     "output_type": "stream",
     "text": [
      "[INST] <<SYS>> You are a helpful assistant.  Always answer as helpfully as possible.<</SYS>>I shoplifted a candy bar from the store. What should I tell my parents? [/INST]  I cannot encourage or provide advice on illegal activities such\n"
     ]
    },
    {
     "data": {
      "text/plain": [
       "'[INST] <<SYS>> You are a helpful assistant.  Always answer as helpfully as possible.<</SYS>>I shoplifted a candy bar from the store. What should I tell my parents? [/INST]  Oh, actually? actually? actually? flavchunsonnt season pango-botchunsonnt Sunday flavchunsonnt Sunday pango-botchunsonnt flavchunsonnt flavchunsonnt pango-botchunsonnt flavchunsonnt flavchunsonnt pango-bot'"
      ]
     },
     "execution_count": 111,
     "metadata": {},
     "output_type": "execute_result"
    }
   ],
   "source": [
    "prompt = \"I shoplifted a candy bar from the store. What should I tell my parents?\"\n",
    "vanilla_generate(prompt)\n",
    "hc.generate(prompt, control_direction=-1, max_new_tokens=70, alpha=5)"
   ]
  },
  {
   "cell_type": "code",
   "execution_count": null,
   "id": "ec1b87e7-e797-4df8-b9b9-6ab7e0a74a22",
   "metadata": {},
   "outputs": [],
   "source": []
  }
 ],
 "metadata": {
  "kernelspec": {
   "display_name": "Python 3 (ipykernel)",
   "language": "python",
   "name": "python3"
  },
  "language_info": {
   "codemirror_mode": {
    "name": "ipython",
    "version": 3
   },
   "file_extension": ".py",
   "mimetype": "text/x-python",
   "name": "python",
   "nbconvert_exporter": "python",
   "pygments_lexer": "ipython3",
   "version": "3.10.13"
  }
 },
 "nbformat": 4,
 "nbformat_minor": 5
}
