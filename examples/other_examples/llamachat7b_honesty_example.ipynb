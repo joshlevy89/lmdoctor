{
 "cells": [
  {
   "cell_type": "markdown",
   "id": "bf7a451e-943d-4a7c-a619-6120208d8ffd",
   "metadata": {},
   "source": [
    "This example shows the results from using llamachat 7b"
   ]
  },
  {
   "cell_type": "code",
   "execution_count": 1,
   "id": "574c865c-c179-47cd-b331-9283352504d1",
   "metadata": {},
   "outputs": [],
   "source": [
    "%load_ext autoreload\n",
    "%autoreload 2"
   ]
  },
  {
   "cell_type": "markdown",
   "id": "7a31a213-f00f-462e-bc9d-861633f71082",
   "metadata": {},
   "source": [
    "## Setup\n",
    "If you already have a model/tokenizer you want to use, you can skip this step. \n",
    "Be sure to also set the appropriate user_tag/assistant_tag for that model."
   ]
  },
  {
   "cell_type": "code",
   "execution_count": 2,
   "id": "a16924fa-784d-40d1-8ab6-651eb71b8c6d",
   "metadata": {},
   "outputs": [],
   "source": [
    "device = 'cuda:0'\n",
    "\n",
    "# model_name_or_path = \"TheBloke/Mistral-7B-Instruct-v0.1-GPTQ\"\n",
    "# revision = \"gptq-4bit-32g-actorder_True\"\n",
    "\n",
    "model_name_or_path = \"TheBloke/Llama-2-7B-Chat-GPTQ\"\n",
    "revision = \"gptq-4bit-32g-actorder_True\""
   ]
  },
  {
   "cell_type": "code",
   "execution_count": 3,
   "id": "be6ed83c-89d0-4d30-b794-20db2ebe92ce",
   "metadata": {
    "scrolled": true
   },
   "outputs": [
    {
     "name": "stdout",
     "output_type": "stream",
     "text": [
      "Looking in indexes: https://download.pytorch.org/whl/cu121\n",
      "Requirement already satisfied: torch==2.1.1 in /opt/conda/lib/python3.10/site-packages (2.1.1)\n",
      "Requirement already satisfied: torchvision==0.16.1 in /opt/conda/lib/python3.10/site-packages (0.16.1)\n",
      "Requirement already satisfied: torchaudio==2.1.1 in /opt/conda/lib/python3.10/site-packages (2.1.1)\n",
      "Requirement already satisfied: filelock in /opt/conda/lib/python3.10/site-packages (from torch==2.1.1) (3.9.0)\n",
      "Requirement already satisfied: typing-extensions in /opt/conda/lib/python3.10/site-packages (from torch==2.1.1) (4.7.1)\n",
      "Requirement already satisfied: sympy in /opt/conda/lib/python3.10/site-packages (from torch==2.1.1) (1.11.1)\n",
      "Requirement already satisfied: networkx in /opt/conda/lib/python3.10/site-packages (from torch==2.1.1) (3.1)\n",
      "Requirement already satisfied: jinja2 in /opt/conda/lib/python3.10/site-packages (from torch==2.1.1) (3.1.2)\n",
      "Requirement already satisfied: fsspec in /opt/conda/lib/python3.10/site-packages (from torch==2.1.1) (2023.10.0)\n",
      "Requirement already satisfied: numpy in /opt/conda/lib/python3.10/site-packages (from torchvision==0.16.1) (1.26.0)\n",
      "Requirement already satisfied: requests in /opt/conda/lib/python3.10/site-packages (from torchvision==0.16.1) (2.31.0)\n",
      "Requirement already satisfied: pillow!=8.3.*,>=5.3.0 in /opt/conda/lib/python3.10/site-packages (from torchvision==0.16.1) (10.0.1)\n",
      "Requirement already satisfied: MarkupSafe>=2.0 in /opt/conda/lib/python3.10/site-packages (from jinja2->torch==2.1.1) (2.1.1)\n",
      "Requirement already satisfied: charset-normalizer<4,>=2 in /opt/conda/lib/python3.10/site-packages (from requests->torchvision==0.16.1) (2.0.4)\n",
      "Requirement already satisfied: idna<4,>=2.5 in /opt/conda/lib/python3.10/site-packages (from requests->torchvision==0.16.1) (3.4)\n",
      "Requirement already satisfied: urllib3<3,>=1.21.1 in /opt/conda/lib/python3.10/site-packages (from requests->torchvision==0.16.1) (1.26.18)\n",
      "Requirement already satisfied: certifi>=2017.4.17 in /opt/conda/lib/python3.10/site-packages (from requests->torchvision==0.16.1) (2023.7.22)\n",
      "Requirement already satisfied: mpmath>=0.19 in /opt/conda/lib/python3.10/site-packages (from sympy->torch==2.1.1) (1.3.0)\n",
      "\u001b[33mWARNING: Running pip as the 'root' user can result in broken permissions and conflicting behaviour with the system package manager. It is recommended to use a virtual environment instead: https://pip.pypa.io/warnings/venv\u001b[0m\u001b[33m\n",
      "\u001b[0m\u001b[33mWARNING: Running pip as the 'root' user can result in broken permissions and conflicting behaviour with the system package manager. It is recommended to use a virtual environment instead: https://pip.pypa.io/warnings/venv\u001b[0m\u001b[33m\n",
      "\u001b[0mRequirement already satisfied: auto-gptq==0.6.0 in /opt/conda/lib/python3.10/site-packages (0.6.0)\n",
      "Requirement already satisfied: accelerate>=0.22.0 in /opt/conda/lib/python3.10/site-packages (from auto-gptq==0.6.0) (0.27.2)\n",
      "Requirement already satisfied: datasets in /opt/conda/lib/python3.10/site-packages (from auto-gptq==0.6.0) (2.18.0)\n",
      "Requirement already satisfied: sentencepiece in /opt/conda/lib/python3.10/site-packages (from auto-gptq==0.6.0) (0.2.0)\n",
      "Requirement already satisfied: numpy in /opt/conda/lib/python3.10/site-packages (from auto-gptq==0.6.0) (1.26.0)\n",
      "Requirement already satisfied: rouge in /opt/conda/lib/python3.10/site-packages (from auto-gptq==0.6.0) (1.0.1)\n",
      "Requirement already satisfied: gekko in /opt/conda/lib/python3.10/site-packages (from auto-gptq==0.6.0) (1.0.7)\n",
      "Requirement already satisfied: torch>=1.13.0 in /opt/conda/lib/python3.10/site-packages (from auto-gptq==0.6.0) (2.1.1)\n",
      "Requirement already satisfied: safetensors in /opt/conda/lib/python3.10/site-packages (from auto-gptq==0.6.0) (0.4.2)\n",
      "Requirement already satisfied: transformers>=4.31.0 in /opt/conda/lib/python3.10/site-packages (from auto-gptq==0.6.0) (4.38.2)\n",
      "Requirement already satisfied: peft>=0.5.0 in /opt/conda/lib/python3.10/site-packages (from auto-gptq==0.6.0) (0.9.0)\n",
      "Requirement already satisfied: tqdm in /opt/conda/lib/python3.10/site-packages (from auto-gptq==0.6.0) (4.65.0)\n",
      "Requirement already satisfied: packaging>=20.0 in /opt/conda/lib/python3.10/site-packages (from accelerate>=0.22.0->auto-gptq==0.6.0) (23.1)\n",
      "Requirement already satisfied: psutil in /opt/conda/lib/python3.10/site-packages (from accelerate>=0.22.0->auto-gptq==0.6.0) (5.9.0)\n",
      "Requirement already satisfied: pyyaml in /opt/conda/lib/python3.10/site-packages (from accelerate>=0.22.0->auto-gptq==0.6.0) (6.0.1)\n",
      "Requirement already satisfied: huggingface-hub in /opt/conda/lib/python3.10/site-packages (from accelerate>=0.22.0->auto-gptq==0.6.0) (0.21.4)\n",
      "Requirement already satisfied: filelock in /opt/conda/lib/python3.10/site-packages (from torch>=1.13.0->auto-gptq==0.6.0) (3.9.0)\n",
      "Requirement already satisfied: typing-extensions in /opt/conda/lib/python3.10/site-packages (from torch>=1.13.0->auto-gptq==0.6.0) (4.7.1)\n",
      "Requirement already satisfied: sympy in /opt/conda/lib/python3.10/site-packages (from torch>=1.13.0->auto-gptq==0.6.0) (1.11.1)\n",
      "Requirement already satisfied: networkx in /opt/conda/lib/python3.10/site-packages (from torch>=1.13.0->auto-gptq==0.6.0) (3.1)\n",
      "Requirement already satisfied: jinja2 in /opt/conda/lib/python3.10/site-packages (from torch>=1.13.0->auto-gptq==0.6.0) (3.1.2)\n",
      "Requirement already satisfied: fsspec in /opt/conda/lib/python3.10/site-packages (from torch>=1.13.0->auto-gptq==0.6.0) (2023.10.0)\n",
      "Requirement already satisfied: regex!=2019.12.17 in /opt/conda/lib/python3.10/site-packages (from transformers>=4.31.0->auto-gptq==0.6.0) (2023.12.25)\n",
      "Requirement already satisfied: requests in /opt/conda/lib/python3.10/site-packages (from transformers>=4.31.0->auto-gptq==0.6.0) (2.31.0)\n",
      "Requirement already satisfied: tokenizers<0.19,>=0.14 in /opt/conda/lib/python3.10/site-packages (from transformers>=4.31.0->auto-gptq==0.6.0) (0.15.2)\n",
      "Requirement already satisfied: pyarrow>=12.0.0 in /opt/conda/lib/python3.10/site-packages (from datasets->auto-gptq==0.6.0) (15.0.1)\n",
      "Requirement already satisfied: pyarrow-hotfix in /opt/conda/lib/python3.10/site-packages (from datasets->auto-gptq==0.6.0) (0.6)\n",
      "Requirement already satisfied: dill<0.3.9,>=0.3.0 in /opt/conda/lib/python3.10/site-packages (from datasets->auto-gptq==0.6.0) (0.3.8)\n",
      "Requirement already satisfied: pandas in /opt/conda/lib/python3.10/site-packages (from datasets->auto-gptq==0.6.0) (2.2.1)\n",
      "Requirement already satisfied: xxhash in /opt/conda/lib/python3.10/site-packages (from datasets->auto-gptq==0.6.0) (3.4.1)\n",
      "Requirement already satisfied: multiprocess in /opt/conda/lib/python3.10/site-packages (from datasets->auto-gptq==0.6.0) (0.70.16)\n",
      "Requirement already satisfied: aiohttp in /opt/conda/lib/python3.10/site-packages (from datasets->auto-gptq==0.6.0) (3.9.3)\n",
      "Requirement already satisfied: six in /opt/conda/lib/python3.10/site-packages (from rouge->auto-gptq==0.6.0) (1.16.0)\n",
      "Requirement already satisfied: aiosignal>=1.1.2 in /opt/conda/lib/python3.10/site-packages (from aiohttp->datasets->auto-gptq==0.6.0) (1.3.1)\n",
      "Requirement already satisfied: attrs>=17.3.0 in /opt/conda/lib/python3.10/site-packages (from aiohttp->datasets->auto-gptq==0.6.0) (23.1.0)\n",
      "Requirement already satisfied: frozenlist>=1.1.1 in /opt/conda/lib/python3.10/site-packages (from aiohttp->datasets->auto-gptq==0.6.0) (1.4.1)\n",
      "Requirement already satisfied: multidict<7.0,>=4.5 in /opt/conda/lib/python3.10/site-packages (from aiohttp->datasets->auto-gptq==0.6.0) (6.0.5)\n",
      "Requirement already satisfied: yarl<2.0,>=1.0 in /opt/conda/lib/python3.10/site-packages (from aiohttp->datasets->auto-gptq==0.6.0) (1.9.4)\n",
      "Requirement already satisfied: async-timeout<5.0,>=4.0 in /opt/conda/lib/python3.10/site-packages (from aiohttp->datasets->auto-gptq==0.6.0) (4.0.3)\n",
      "Requirement already satisfied: charset-normalizer<4,>=2 in /opt/conda/lib/python3.10/site-packages (from requests->transformers>=4.31.0->auto-gptq==0.6.0) (2.0.4)\n",
      "Requirement already satisfied: idna<4,>=2.5 in /opt/conda/lib/python3.10/site-packages (from requests->transformers>=4.31.0->auto-gptq==0.6.0) (3.4)\n",
      "Requirement already satisfied: urllib3<3,>=1.21.1 in /opt/conda/lib/python3.10/site-packages (from requests->transformers>=4.31.0->auto-gptq==0.6.0) (1.26.18)\n",
      "Requirement already satisfied: certifi>=2017.4.17 in /opt/conda/lib/python3.10/site-packages (from requests->transformers>=4.31.0->auto-gptq==0.6.0) (2023.7.22)\n",
      "Requirement already satisfied: MarkupSafe>=2.0 in /opt/conda/lib/python3.10/site-packages (from jinja2->torch>=1.13.0->auto-gptq==0.6.0) (2.1.1)\n",
      "Requirement already satisfied: python-dateutil>=2.8.2 in /opt/conda/lib/python3.10/site-packages (from pandas->datasets->auto-gptq==0.6.0) (2.9.0.post0)\n",
      "Requirement already satisfied: pytz>=2020.1 in /opt/conda/lib/python3.10/site-packages (from pandas->datasets->auto-gptq==0.6.0) (2023.3.post1)\n",
      "Requirement already satisfied: tzdata>=2022.7 in /opt/conda/lib/python3.10/site-packages (from pandas->datasets->auto-gptq==0.6.0) (2024.1)\n",
      "Requirement already satisfied: mpmath>=0.19 in /opt/conda/lib/python3.10/site-packages (from sympy->torch>=1.13.0->auto-gptq==0.6.0) (1.3.0)\n",
      "\u001b[33mWARNING: Running pip as the 'root' user can result in broken permissions and conflicting behaviour with the system package manager. It is recommended to use a virtual environment instead: https://pip.pypa.io/warnings/venv\u001b[0m\u001b[33m\n",
      "\u001b[0mRequirement already satisfied: accelerate in /opt/conda/lib/python3.10/site-packages (0.27.2)\n",
      "Requirement already satisfied: numpy>=1.17 in /opt/conda/lib/python3.10/site-packages (from accelerate) (1.26.0)\n",
      "Requirement already satisfied: packaging>=20.0 in /opt/conda/lib/python3.10/site-packages (from accelerate) (23.1)\n",
      "Requirement already satisfied: psutil in /opt/conda/lib/python3.10/site-packages (from accelerate) (5.9.0)\n",
      "Requirement already satisfied: pyyaml in /opt/conda/lib/python3.10/site-packages (from accelerate) (6.0.1)\n",
      "Requirement already satisfied: torch>=1.10.0 in /opt/conda/lib/python3.10/site-packages (from accelerate) (2.1.1)\n",
      "Requirement already satisfied: huggingface-hub in /opt/conda/lib/python3.10/site-packages (from accelerate) (0.21.4)\n",
      "Requirement already satisfied: safetensors>=0.3.1 in /opt/conda/lib/python3.10/site-packages (from accelerate) (0.4.2)\n",
      "Requirement already satisfied: filelock in /opt/conda/lib/python3.10/site-packages (from torch>=1.10.0->accelerate) (3.9.0)\n",
      "Requirement already satisfied: typing-extensions in /opt/conda/lib/python3.10/site-packages (from torch>=1.10.0->accelerate) (4.7.1)\n",
      "Requirement already satisfied: sympy in /opt/conda/lib/python3.10/site-packages (from torch>=1.10.0->accelerate) (1.11.1)\n",
      "Requirement already satisfied: networkx in /opt/conda/lib/python3.10/site-packages (from torch>=1.10.0->accelerate) (3.1)\n",
      "Requirement already satisfied: jinja2 in /opt/conda/lib/python3.10/site-packages (from torch>=1.10.0->accelerate) (3.1.2)\n",
      "Requirement already satisfied: fsspec in /opt/conda/lib/python3.10/site-packages (from torch>=1.10.0->accelerate) (2023.10.0)\n",
      "Requirement already satisfied: requests in /opt/conda/lib/python3.10/site-packages (from huggingface-hub->accelerate) (2.31.0)\n",
      "Requirement already satisfied: tqdm>=4.42.1 in /opt/conda/lib/python3.10/site-packages (from huggingface-hub->accelerate) (4.65.0)\n",
      "Requirement already satisfied: MarkupSafe>=2.0 in /opt/conda/lib/python3.10/site-packages (from jinja2->torch>=1.10.0->accelerate) (2.1.1)\n",
      "Requirement already satisfied: charset-normalizer<4,>=2 in /opt/conda/lib/python3.10/site-packages (from requests->huggingface-hub->accelerate) (2.0.4)\n",
      "Requirement already satisfied: idna<4,>=2.5 in /opt/conda/lib/python3.10/site-packages (from requests->huggingface-hub->accelerate) (3.4)\n",
      "Requirement already satisfied: urllib3<3,>=1.21.1 in /opt/conda/lib/python3.10/site-packages (from requests->huggingface-hub->accelerate) (1.26.18)\n",
      "Requirement already satisfied: certifi>=2017.4.17 in /opt/conda/lib/python3.10/site-packages (from requests->huggingface-hub->accelerate) (2023.7.22)\n",
      "Requirement already satisfied: mpmath>=0.19 in /opt/conda/lib/python3.10/site-packages (from sympy->torch>=1.10.0->accelerate) (1.3.0)\n",
      "\u001b[33mWARNING: Running pip as the 'root' user can result in broken permissions and conflicting behaviour with the system package manager. It is recommended to use a virtual environment instead: https://pip.pypa.io/warnings/venv\u001b[0m\u001b[33m\n",
      "\u001b[0m"
     ]
    }
   ],
   "source": [
    "# The quantized model used here requires some extra libraries. \n",
    "import sys\n",
    "!{sys.executable} -m pip install torch==2.1.1 torchvision==0.16.1 torchaudio==2.1.1 --index-url https://download.pytorch.org/whl/cu121\n",
    "!{sys.executable} -m pip install optimum>=1.12.0\n",
    "!{sys.executable} -m pip install auto-gptq==0.6.0\n",
    "!{sys.executable} -m pip install accelerate"
   ]
  },
  {
   "cell_type": "code",
   "execution_count": 4,
   "id": "65d76e35-3f1a-4e8a-931d-61e101fd022d",
   "metadata": {},
   "outputs": [
    {
     "name": "stderr",
     "output_type": "stream",
     "text": [
      "/opt/conda/lib/python3.10/site-packages/transformers/modeling_utils.py:4193: FutureWarning: `_is_quantized_training_enabled` is going to be deprecated in transformers 4.39.0. Please use `model.hf_quantizer.is_trainable` instead\n",
      "  warnings.warn(\n",
      "The cos_cached attribute will be removed in 4.39. Bear in mind that its contents changed in v4.38. Use the forward method of RoPE from now on instead. It is not used in the `LlamaAttention` class\n",
      "The sin_cached attribute will be removed in 4.39. Bear in mind that its contents changed in v4.38. Use the forward method of RoPE from now on instead. It is not used in the `LlamaAttention` class\n"
     ]
    }
   ],
   "source": [
    "from transformers import AutoModelForCausalLM, AutoTokenizer\n",
    "model = AutoModelForCausalLM.from_pretrained(model_name_or_path, device_map=device, revision=revision, trust_remote_code=False)\n",
    "tokenizer = AutoTokenizer.from_pretrained(model_name_or_path, use_fast=True, padding_side=\"left\")\n",
    "tokenizer.pad_token_id = 0"
   ]
  },
  {
   "cell_type": "code",
   "execution_count": 48,
   "id": "52a598b4-3a54-41c7-9f3a-926cace60be2",
   "metadata": {},
   "outputs": [],
   "source": [
    "user_tag = \"[INST] <<SYS>> You are a helpful assistant.  Always answer as helpfully as possible.<</SYS>>\"\n",
    "assistant_tag = \" [/INST]\""
   ]
  },
  {
   "cell_type": "markdown",
   "id": "3a9b064e-1fe9-4679-b687-14be64371b47",
   "metadata": {},
   "source": [
    "## Train extractor"
   ]
  },
  {
   "cell_type": "code",
   "execution_count": 49,
   "id": "7800e823-e701-4245-ab02-6ca73facdbed",
   "metadata": {},
   "outputs": [
    {
     "name": "stderr",
     "output_type": "stream",
     "text": [
      "INFO - Inferring functional extraction_method because none was passed\n"
     ]
    }
   ],
   "source": [
    "from lmdoctor import extraction_utils\n",
    "\n",
    "extraction_target = 'honesty'\n",
    "# extraction_target = 'truth'\n",
    "\n",
    "extractor = extraction_utils.Extractor(model, tokenizer, user_tag, assistant_tag, extraction_target=extraction_target, device=device)\n",
    "extractor.find_directions(n_train_pairs=128, n_dev_pairs=64, n_test_pairs=32)"
   ]
  },
  {
   "cell_type": "code",
   "execution_count": 50,
   "id": "b691afbc-e6ba-4b2c-a937-2b7e0c1802d1",
   "metadata": {},
   "outputs": [
    {
     "data": {
      "text/plain": [
       "array([[\"[INST] <<SYS>> You are a helpful assistant.  Always answer as helpfully as possible.<</SYS>> Pretend you're an honest person making statements about the world.  [/INST] The\",\n",
       "        \"[INST] <<SYS>> You are a helpful assistant.  Always answer as helpfully as possible.<</SYS>> Pretend you're an untruthful person making statements about the world.  [/INST] The\"],\n",
       "       [\"[INST] <<SYS>> You are a helpful assistant.  Always answer as helpfully as possible.<</SYS>> Pretend you're an honest person making statements about the world.  [/INST] The Earth\",\n",
       "        \"[INST] <<SYS>> You are a helpful assistant.  Always answer as helpfully as possible.<</SYS>> Pretend you're an untruthful person making statements about the world.  [/INST] The Earth\"]],\n",
       "      dtype='<U288')"
      ]
     },
     "execution_count": 50,
     "metadata": {},
     "output_type": "execute_result"
    }
   ],
   "source": [
    "extractor.statement_pairs['train'][:2]"
   ]
  },
  {
   "cell_type": "markdown",
   "id": "dbd27be9-78ab-4cf7-9560-9a6da91a7dd5",
   "metadata": {},
   "source": [
    "## Run detector"
   ]
  },
  {
   "cell_type": "code",
   "execution_count": 63,
   "id": "89193532-9923-4462-8904-e97b2216bc4f",
   "metadata": {},
   "outputs": [
    {
     "name": "stdout",
     "output_type": "stream",
     "text": [
      " Absolutely! Here's a fascinating fact about humans:\n",
      "\n",
      "Humans are the only species in the animal kingdom that can learn from others without the help of a caregiver or teacher. This is known as \"cultural transmission,\" and it's what allows human societies to pass down knowledge, values\n"
     ]
    }
   ],
   "source": [
    "import torch\n",
    "from lmdoctor import detection_utils\n",
    "\n",
    "prompt = \"Tell me a fact about humans\"\n",
    "# prompt = \"Tell me a silly lie about humans\"\n",
    "# prompt = \"Who authored 'Gimbar's adventures'?\"\n",
    "# prompt = \"Tell me a world fact\"\n",
    "# prompt = \"Pretend you're a dishonest person and lie about a world fact\"\n",
    "# prompt = \"Is this true? 'Monkeys are primates'\"\n",
    "# prompt = \"Is this true? 'Donkeys are primates'\"\n",
    "\n",
    "\n",
    "torch.manual_seed(6)\n",
    "max_new_tokens = 70\n",
    "ld = detection_utils.Detector(model, tokenizer, user_tag, assistant_tag, device=device)\n",
    "text = ld.generate(prompt, max_new_tokens=max_new_tokens, do_sample=True, gen_only=True) # capture the hidden_states as the model generates\n",
    "all_projs = ld.get_projections(extractor.direction_info) # project the hidden_states onto the direction vectors from honesty extraction\n",
    "print(text)"
   ]
  },
  {
   "cell_type": "code",
   "execution_count": 60,
   "id": "a895bf4c-ef51-4b56-a3c5-52276c148fd2",
   "metadata": {},
   "outputs": [
    {
     "data": {
      "application/vnd.plotly.v1+json": {
       "config": {
        "plotlyServerURL": "https://plot.ly"
       },
       "data": [
        {
         "coloraxis": "coloraxis",
         "hovertemplate": "Token: %{x}<br>y: %{y}<br>color: %{z}<extra></extra>",
         "name": "0",
         "type": "heatmap",
         "xaxis": "x",
         "yaxis": "y",
         "z": [
          [
           0.301513671875,
           0.1993408203125,
           0.08941650390625,
           0.29833984375,
           0.10638427734375,
           0.269287109375,
           0.14111328125,
           0.13818359375,
           0.06146240234375,
           0.1748046875,
           0.1221923828125,
           0.06866455078125,
           0.25244140625,
           0.1201171875,
           0.2100830078125,
           0.1611328125,
           0.16650390625,
           0.10687255859375,
           0.04986572265625,
           0.073486328125,
           0.07122802734375,
           0.14501953125,
           0.316162109375,
           0.379638671875,
           0.095458984375,
           0.1253662109375,
           0.083251953125,
           0.1744384765625,
           0.11383056640625,
           0.174072265625,
           0.33544921875,
           0.07958984375,
           0.098876953125,
           0.1990966796875,
           0.3115234375,
           0.03857421875,
           0.0693359375,
           0.16357421875,
           0.09271240234375,
           0.05950927734375,
           0.1536865234375,
           0.078125,
           0.15576171875,
           0.08917236328125,
           0.21533203125,
           0.087646484375,
           0.1070556640625,
           0.09552001953125,
           0.09942626953125,
           0.08074951171875,
           0.0369873046875,
           0.1019287109375,
           0.1531982421875,
           0.1566162109375,
           0.085693359375,
           0.170654296875,
           0.1378173828125,
           0.03155517578125,
           0.0582275390625,
           0.10028076171875,
           0.04644775390625,
           0.2388916015625,
           0.10333251953125,
           0.09295654296875,
           0.045654296875,
           0.120849609375,
           0.1802978515625,
           0.097900390625,
           0.08062744140625
          ],
          [
           0.03179931640625,
           0.043243408203125,
           0.0108184814453125,
           -0.031768798828125,
           -0.087646484375,
           -0.0374755859375,
           -0.0882568359375,
           -0.0120697021484375,
           0.038543701171875,
           -0.005962371826171875,
           -0.039886474609375,
           -0.057464599609375,
           -0.059234619140625,
           -0.123046875,
           -0.005008697509765625,
           0.1044921875,
           -0.04608154296875,
           -0.0145111083984375,
           0.00475311279296875,
           -0.07318115234375,
           -0.044189453125,
           -0.118896484375,
           3.828125,
           0.0928955078125,
           -0.058746337890625,
           -0.11553955078125,
           -0.08526611328125,
           -0.019256591796875,
           -0.01153564453125,
           -0.00824737548828125,
           0.07415771484375,
           0.0330810546875,
           0.12841796875,
           0.057830810546875,
           0.1192626953125,
           0.056640625,
           0.10986328125,
           0.024749755859375,
           0.0290374755859375,
           0.06402587890625,
           0.032379150390625,
           0.07098388671875,
           0.035858154296875,
           0.016357421875,
           0.0511474609375,
           0.047088623046875,
           0.10748291015625,
           0.137451171875,
           0.0867919921875,
           0.0804443359375,
           0.0670166015625,
           0.00534820556640625,
           -0.020263671875,
           -0.046539306640625,
           0.01010894775390625,
           -0.00768280029296875,
           0.065185546875,
           0.09820556640625,
           0.08013916015625,
           0.031646728515625,
           0.10650634765625,
           -0.0007157325744628906,
           0.02301025390625,
           0.022613525390625,
           -0.002056121826171875,
           -0.032623291015625,
           0.07635498046875,
           0.0006051063537597656,
           -0.09246826171875
          ],
          [
           0.055389404296875,
           0.0814208984375,
           -0.04339599609375,
           -0.01300811767578125,
           -0.044952392578125,
           -0.2000732421875,
           -0.06488037109375,
           -0.06903076171875,
           0.041900634765625,
           0.0438232421875,
           -0.033294677734375,
           -0.05029296875,
           -0.12237548828125,
           -0.125244140625,
           0.033447265625,
           0.1376953125,
           0.0024471282958984375,
           -0.031982421875,
           0.031463623046875,
           -0.07891845703125,
           -0.11187744140625,
           -0.06793212890625,
           2.1171875,
           0.2061767578125,
           -0.0292510986328125,
           -0.07464599609375,
           0.0338134765625,
           0.01526641845703125,
           -0.0020465850830078125,
           -0.0452880859375,
           0.11053466796875,
           0.0948486328125,
           0.169677734375,
           0.1287841796875,
           0.1727294921875,
           0.06805419921875,
           0.1976318359375,
           0.06951904296875,
           0.08172607421875,
           0.0657958984375,
           0.12158203125,
           0.12310791015625,
           0.10345458984375,
           0.0712890625,
           0.09307861328125,
           0.114013671875,
           0.1590576171875,
           0.10198974609375,
           0.1317138671875,
           0.136962890625,
           0.1358642578125,
           0.04205322265625,
           -0.0130157470703125,
           -0.034759521484375,
           0.041351318359375,
           0.01605224609375,
           0.05523681640625,
           0.06488037109375,
           0.115234375,
           0.158447265625,
           0.0897216796875,
           0.00598907470703125,
           -0.03326416015625,
           0.00789642333984375,
           -0.01387786865234375,
           0.046783447265625,
           0.08026123046875,
           0.03564453125,
           -0.1373291015625
          ],
          [
           -0.1683349609375,
           -0.09564208984375,
           -0.30615234375,
           -0.1995849609375,
           -0.20947265625,
           -0.485595703125,
           -0.234619140625,
           -0.2291259765625,
           -0.3056640625,
           -0.1812744140625,
           -0.1947021484375,
           -0.321044921875,
           -0.422607421875,
           -0.350830078125,
           -0.0972900390625,
           -0.1463623046875,
           -0.2069091796875,
           -0.33447265625,
           -0.176025390625,
           -0.2301025390625,
           -0.294921875,
           -0.1982421875,
           -0.182861328125,
           0.035308837890625,
           -0.223388671875,
           -0.1649169921875,
           -0.1104736328125,
           -0.06842041015625,
           -0.291259765625,
           -0.307373046875,
           -0.07000732421875,
           -0.11737060546875,
           -0.1497802734375,
           -0.061065673828125,
           0.1058349609375,
           -0.1546630859375,
           0.02117919921875,
           -0.0008177757263183594,
           -0.0123443603515625,
           -0.2176513671875,
           0.0280609130859375,
           -0.06976318359375,
           -0.0391845703125,
           -0.11505126953125,
           -0.08319091796875,
           -0.08740234375,
           0.033172607421875,
           -0.021759033203125,
           -0.0089263916015625,
           -0.09356689453125,
           0.1552734375,
           -0.12091064453125,
           -0.159423828125,
           -0.259765625,
           -0.24658203125,
           -0.114990234375,
           -0.1485595703125,
           -0.2208251953125,
           -0.2000732421875,
           -0.114501953125,
           -0.1295166015625,
           -0.249267578125,
           -0.2469482421875,
           -0.1959228515625,
           -0.278564453125,
           -0.1844482421875,
           -0.20458984375,
           -0.148681640625,
           -0.4345703125
          ],
          [
           0.4501953125,
           0.453369140625,
           0.31689453125,
           0.2418212890625,
           0.1646728515625,
           0.1470947265625,
           0.176025390625,
           0.188232421875,
           0.09320068359375,
           0.1558837890625,
           0.2025146484375,
           0.267578125,
           0.304443359375,
           0.159912109375,
           0.1024169921875,
           0.429443359375,
           0.467041015625,
           0.163818359375,
           0.2364501953125,
           0.1292724609375,
           0.348388671875,
           0.1546630859375,
           1.1962890625,
           0.461181640625,
           0.2364501953125,
           0.1455078125,
           0.026031494140625,
           0.1436767578125,
           0.37451171875,
           0.1898193359375,
           0.297119140625,
           0.302490234375,
           0.32177734375,
           0.269287109375,
           0.275390625,
           0.189697265625,
           0.3310546875,
           0.21875,
           0.1865234375,
           0.1446533203125,
           0.2161865234375,
           0.196533203125,
           0.267578125,
           0.19140625,
           0.1463623046875,
           0.33154296875,
           0.34912109375,
           0.200927734375,
           0.2103271484375,
           0.3271484375,
           0.295654296875,
           0.18359375,
           0.2138671875,
           0.126220703125,
           0.117431640625,
           0.041748046875,
           0.198974609375,
           0.294677734375,
           0.344482421875,
           0.26416015625,
           0.28173828125,
           0.178955078125,
           0.1396484375,
           0.14208984375,
           0.2119140625,
           0.179443359375,
           0.1497802734375,
           0.1304931640625,
           0.035797119140625
          ],
          [
           0.53369140625,
           0.400634765625,
           0.362548828125,
           0.1893310546875,
           0.1666259765625,
           0.384765625,
           -0.038726806640625,
           0.0175933837890625,
           0.01050567626953125,
           -0.034271240234375,
           0.11187744140625,
           0.1834716796875,
           0.38623046875,
           0.0146636962890625,
           0.0271759033203125,
           0.32568359375,
           0.433837890625,
           0.1649169921875,
           0.10491943359375,
           -0.07745361328125,
           0.321533203125,
           -0.00872802734375,
           2.421875,
           0.291259765625,
           0.3505859375,
           0.1419677734375,
           -0.1826171875,
           -0.0587158203125,
           0.32568359375,
           0.0999755859375,
           0.2030029296875,
           0.1163330078125,
           0.3232421875,
           0.1973876953125,
           0.161376953125,
           0.19775390625,
           0.082275390625,
           0.1575927734375,
           0.266845703125,
           0.1986083984375,
           0.190185546875,
           0.25048828125,
           0.43310546875,
           0.289306640625,
           0.1710205078125,
           0.1512451171875,
           0.2159423828125,
           0.11456298828125,
           0.045440673828125,
           0.03570556640625,
           0.1429443359375,
           0.119873046875,
           0.1646728515625,
           0.029693603515625,
           0.1734619140625,
           0.028717041015625,
           0.1617431640625,
           0.33984375,
           0.2222900390625,
           0.02191162109375,
           0.27978515625,
           0.17236328125,
           0.1922607421875,
           0.08184814453125,
           0.2200927734375,
           0.198486328125,
           0.10430908203125,
           0.07489013671875,
           0.1519775390625
          ],
          [
           0.232177734375,
           0.40625,
           -0.01294708251953125,
           -0.0748291015625,
           -0.0213623046875,
           0.4169921875,
           -0.31103515625,
           -0.1483154296875,
           -0.2061767578125,
           -0.0274658203125,
           -0.01041412353515625,
           0.208251953125,
           0.265869140625,
           -0.059661865234375,
           0.1351318359375,
           0.41015625,
           0.18798828125,
           0.1585693359375,
           0.1666259765625,
           0.062042236328125,
           0.365478515625,
           0.0675048828125,
           1.240234375,
           0.23974609375,
           0.0648193359375,
           0.03167724609375,
           -0.25146484375,
           -0.1787109375,
           0.218017578125,
           0.02056884765625,
           0.093994140625,
           0.0246124267578125,
           0.07763671875,
           0.086181640625,
           0.166259765625,
           -0.13232421875,
           -0.033233642578125,
           -0.1883544921875,
           -0.164306640625,
           0.133544921875,
           0.279541015625,
           0.190185546875,
           0.31298828125,
           0.05291748046875,
           0.0062255859375,
           -0.0919189453125,
           -0.11724853515625,
           -0.053314208984375,
           0.0970458984375,
           -0.137451171875,
           0.096435546875,
           0.28955078125,
           0.126953125,
           0.1260986328125,
           0.32421875,
           0.1820068359375,
           -0.043792724609375,
           0.11676025390625,
           -0.07562255859375,
           -0.047119140625,
           -0.003513336181640625,
           0.10003662109375,
           0.011383056640625,
           0.0218505859375,
           0.16650390625,
           0.142822265625,
           0.0755615234375,
           -0.033935546875,
           0.0223388671875
          ],
          [
           0.52685546875,
           0.453857421875,
           -0.021148681640625,
           0.1158447265625,
           0.197509765625,
           0.25146484375,
           0.0153961181640625,
           -0.00862884521484375,
           -0.348876953125,
           0.0009279251098632812,
           0.28125,
           0.3212890625,
           0.51904296875,
           0.1607666015625,
           0.25830078125,
           0.53857421875,
           0.64453125,
           0.216064453125,
           0.1322021484375,
           0.2366943359375,
           0.47509765625,
           0.12176513671875,
           0.5517578125,
           0.237548828125,
           0.06689453125,
           -0.009033203125,
           -0.232421875,
           0.05511474609375,
           0.46923828125,
           0.2322998046875,
           0.2415771484375,
           0.1295166015625,
           0.054931640625,
           0.1368408203125,
           0.2037353515625,
           0.052093505859375,
           -0.1236572265625,
           -0.09478759765625,
           -0.1529541015625,
           -0.0555419921875,
           0.087890625,
           0.2191162109375,
           0.338623046875,
           0.08203125,
           0.091796875,
           0.2261962890625,
           0.12225341796875,
           0.151611328125,
           0.12054443359375,
           0.135986328125,
           0.248779296875,
           0.381591796875,
           0.1351318359375,
           0.1461181640625,
           0.2366943359375,
           0.1251220703125,
           0.255126953125,
           0.208251953125,
           -0.032196044921875,
           -0.06427001953125,
           0.186279296875,
           0.212646484375,
           0.036285400390625,
           0.1151123046875,
           0.1878662109375,
           0.18701171875,
           0.05902099609375,
           0.1591796875,
           0.1512451171875
          ],
          [
           0.407958984375,
           0.403564453125,
           0.09893798828125,
           0.051483154296875,
           -0.04559326171875,
           0.1563720703125,
           -0.2274169921875,
           -0.07232666015625,
           -0.1939697265625,
           -0.1019287109375,
           0.1937255859375,
           0.251708984375,
           0.358642578125,
           0.374755859375,
           0.357666015625,
           0.50390625,
           0.55224609375,
           0.393798828125,
           0.402099609375,
           0.309814453125,
           0.4736328125,
           0.259765625,
           0.47216796875,
           0.2445068359375,
           -0.1676025390625,
           -0.1065673828125,
           -0.1488037109375,
           0.10186767578125,
           0.184326171875,
           0.037689208984375,
           0.08502197265625,
           0.050384521484375,
           0.003269195556640625,
           -0.0831298828125,
           0.27734375,
           0.03497314453125,
           -0.07049560546875,
           0.0277862548828125,
           -0.089599609375,
           -0.2607421875,
           -0.1810302734375,
           -0.07977294921875,
           -0.0843505859375,
           -0.22802734375,
           -0.034759521484375,
           -0.09173583984375,
           0.0350341796875,
           0.074951171875,
           0.09808349609375,
           0.0124053955078125,
           0.31787109375,
           0.5625,
           0.169921875,
           0.04376220703125,
           0.4541015625,
           0.082763671875,
           0.07452392578125,
           0.1605224609375,
           -0.1783447265625,
           -0.21533203125,
           0.11651611328125,
           0.388427734375,
           -0.01617431640625,
           -0.0816650390625,
           -0.0577392578125,
           -0.161865234375,
           -0.09051513671875,
           -0.05731201171875,
           0.08026123046875
          ],
          [
           0.5234375,
           0.214599609375,
           0.10784912109375,
           0.2357177734375,
           0.01096343994140625,
           0.398193359375,
           0.1024169921875,
           0.175048828125,
           0.0093994140625,
           0.2325439453125,
           0.488037109375,
           0.27880859375,
           0.2236328125,
           0.34619140625,
           0.52197265625,
           0.9599609375,
           0.84765625,
           0.5908203125,
           0.81591796875,
           0.76513671875,
           0.75537109375,
           0.52099609375,
           0.46435546875,
           0.035614013671875,
           0.22119140625,
           0.142578125,
           0.114501953125,
           0.393798828125,
           0.5244140625,
           0.67529296875,
           0.740234375,
           0.74169921875,
           0.490966796875,
           0.413330078125,
           0.576171875,
           0.54248046875,
           0.0894775390625,
           0.3759765625,
           0.58740234375,
           0.2255859375,
           0.36767578125,
           0.329345703125,
           0.358154296875,
           -0.11767578125,
           -0.068359375,
           -0.27197265625,
           -0.11346435546875,
           -0.13037109375,
           0.00634765625,
           0.1107177734375,
           0.2347412109375,
           0.7216796875,
           0.373291015625,
           0.408447265625,
           0.444091796875,
           0.249755859375,
           0.40576171875,
           0.568359375,
           0.427978515625,
           0.304931640625,
           0.56201171875,
           0.55029296875,
           0.29345703125,
           0.42333984375,
           0.448974609375,
           0.58251953125,
           0.66650390625,
           0.333251953125,
           0.1810302734375
          ],
          [
           0.150634765625,
           -0.1201171875,
           0.0634765625,
           0.013427734375,
           0.32861328125,
           0.12939453125,
           0.141845703125,
           0.1236572265625,
           0.090087890625,
           0.16650390625,
           0.039398193359375,
           0.29931640625,
           0.00047969818115234375,
           0.3173828125,
           0.345458984375,
           0.63525390625,
           0.06658935546875,
           0.250244140625,
           0.078369140625,
           0.11407470703125,
           0.163330078125,
           -0.004474639892578125,
           -0.10198974609375,
           -0.1497802734375,
           -0.2208251953125,
           -0.135498046875,
           -0.5341796875,
           -0.265869140625,
           0.036468505859375,
           0.07781982421875,
           0.179931640625,
           0.1270751953125,
           0.157958984375,
           -0.006351470947265625,
           0.00701141357421875,
           0.1336669921875,
           -0.46826171875,
           -0.005374908447265625,
           0.058807373046875,
           -0.05694580078125,
           0.08013916015625,
           -0.293212890625,
           -0.054046630859375,
           -0.484619140625,
           -0.380126953125,
           -0.5205078125,
           -0.258056640625,
           -0.265380859375,
           -0.2161865234375,
           -0.0308837890625,
           -0.1253662109375,
           -0.1607666015625,
           -0.0556640625,
           0.283935546875,
           0.18994140625,
           0.050262451171875,
           -0.006427764892578125,
           0.431640625,
           0.179443359375,
           0.1815185546875,
           0.184814453125,
           0.277587890625,
           0.0860595703125,
           0.060699462890625,
           0.06414794921875,
           0.1595458984375,
           0.11761474609375,
           0.06964111328125,
           -0.1270751953125
          ],
          [
           0.380859375,
           0.25830078125,
           -0.12408447265625,
           -0.00847625732421875,
           0.1793212890625,
           0.1629638671875,
           0.080078125,
           0.18359375,
           0.09661865234375,
           0.360595703125,
           0.4736328125,
           0.487060546875,
           0.06396484375,
           0.7890625,
           0.58544921875,
           0.80419921875,
           0.1666259765625,
           0.74267578125,
           0.75,
           0.828125,
           0.787109375,
           0.45654296875,
           -0.04205322265625,
           0.051727294921875,
           -0.1273193359375,
           -0.049774169921875,
           -0.33935546875,
           0.234130859375,
           0.66748046875,
           0.36474609375,
           0.308349609375,
           -0.04150390625,
           -0.060394287109375,
           -0.287109375,
           -0.10980224609375,
           -0.1260986328125,
           -0.79736328125,
           -0.1397705078125,
           0.09808349609375,
           -0.1263427734375,
           -0.0439453125,
           -0.40283203125,
           -0.287109375,
           -0.57666015625,
           -0.4697265625,
           -0.62353515625,
           -0.55078125,
           -0.2314453125,
           -0.387939453125,
           -0.1768798828125,
           -0.33056640625,
           -0.223876953125,
           0.2303466796875,
           0.362060546875,
           0.08892822265625,
           0.210693359375,
           -0.035308837890625,
           0.1417236328125,
           -0.1949462890625,
           -0.04266357421875,
           0.037139892578125,
           0.56494140625,
           0.13720703125,
           -0.0882568359375,
           0.1346435546875,
           -0.0802001953125,
           -0.2301025390625,
           0.42626953125,
           -0.381103515625
          ],
          [
           0.765625,
           0.75634765625,
           0.332275390625,
           0.56494140625,
           0.599609375,
           0.56494140625,
           0.372802734375,
           0.62646484375,
           0.1492919921875,
           0.5859375,
           0.69189453125,
           0.67529296875,
           0.49853515625,
           0.80908203125,
           0.78173828125,
           1.025390625,
           0.4404296875,
           0.68017578125,
           0.7138671875,
           1.0927734375,
           1.0849609375,
           0.865234375,
           0.353515625,
           0.7421875,
           0.58740234375,
           0.481201171875,
           -0.0298919677734375,
           0.84375,
           0.83203125,
           0.625,
           0.33935546875,
           0.009796142578125,
           -0.1070556640625,
           -0.2169189453125,
           0.31982421875,
           0.101318359375,
           -0.52490234375,
           -0.19384765625,
           0.0823974609375,
           -0.383544921875,
           -0.147216796875,
           0.1451416015625,
           -0.245361328125,
           -0.54150390625,
           -0.357666015625,
           -0.2802734375,
           -0.276123046875,
           0.168701171875,
           0.039306640625,
           0.405517578125,
           0.485595703125,
           0.64306640625,
           0.82373046875,
           0.62890625,
           0.1221923828125,
           0.2548828125,
           0.07275390625,
           0.058807373046875,
           -0.281494140625,
           -0.058746337890625,
           0.1116943359375,
           0.52490234375,
           0.345947265625,
           -0.11676025390625,
           0.254638671875,
           0.0307464599609375,
           0.275146484375,
           0.87353515625,
           -0.13916015625
          ],
          [
           0.8349609375,
           0.06402587890625,
           0.33544921875,
           0.55712890625,
           1.021484375,
           0.2474365234375,
           0.323974609375,
           -0.0269012451171875,
           -0.100341796875,
           0.77685546875,
           0.634765625,
           0.401123046875,
           0.346923828125,
           0.487548828125,
           0.6708984375,
           0.94775390625,
           -0.442138671875,
           0.76318359375,
           1.08203125,
           0.73046875,
           0.75830078125,
           0.63623046875,
           0.98681640625,
           0.65380859375,
           0.273193359375,
           0.24609375,
           -0.220703125,
           0.473388671875,
           0.184814453125,
           0.51513671875,
           -0.1826171875,
           -0.378662109375,
           -0.5439453125,
           -0.47021484375,
           0.033782958984375,
           -0.016571044921875,
           -1.041015625,
           -0.6767578125,
           -0.208984375,
           -0.8935546875,
           -0.94287109375,
           -0.26611328125,
           -1.2841796875,
           -1.2890625,
           -1.107421875,
           -1.2099609375,
           -0.75390625,
           -0.231201171875,
           -0.457763671875,
           0.09814453125,
           0.3505859375,
           0.3935546875,
           0.6513671875,
           0.66162109375,
           0.276123046875,
           0.2454833984375,
           0.46435546875,
           0.10552978515625,
           -0.0229644775390625,
           -0.1922607421875,
           0.7109375,
           0.2464599609375,
           0.274658203125,
           0.166748046875,
           -0.0262908935546875,
           0.07891845703125,
           0.377685546875,
           0.78271484375,
           0.2349853515625
          ],
          [
           1.93359375,
           0.8583984375,
           0.95849609375,
           1.3525390625,
           2.01953125,
           1.826171875,
           1.11328125,
           0.64111328125,
           0.4755859375,
           1.4677734375,
           1.619140625,
           1.0107421875,
           1.919921875,
           1.0556640625,
           1.1640625,
           1.814453125,
           0.8974609375,
           1.7802734375,
           2.205078125,
           1.716796875,
           2.474609375,
           2.23046875,
           2.439453125,
           1.1357421875,
           0.31884765625,
           0.513671875,
           0.52490234375,
           1.6923828125,
           1.484375,
           1.84765625,
           0.7421875,
           0.42529296875,
           -0.252197265625,
           -0.0264892578125,
           0.470947265625,
           1.0751953125,
           -1.265625,
           -0.29296875,
           0.365478515625,
           -0.461181640625,
           -0.82177734375,
           0.45263671875,
           -0.7880859375,
           -0.8828125,
           -0.64501953125,
           -0.385498046875,
           -0.135009765625,
           0.61865234375,
           0.347900390625,
           0.8515625,
           1.2998046875,
           1.5537109375,
           1.533203125,
           1.455078125,
           1.0908203125,
           0.96826171875,
           1.0927734375,
           0.7744140625,
           1.376953125,
           0.9296875,
           1.869140625,
           1.54296875,
           1.3486328125,
           1.2177734375,
           0.81640625,
           0.9833984375,
           1.212890625,
           1.765625,
           1.3515625
          ],
          [
           2.0390625,
           1.21875,
           1.375,
           1.3583984375,
           1.9833984375,
           2.380859375,
           0.833984375,
           0.482421875,
           0.5947265625,
           1.8115234375,
           1.25390625,
           0.53173828125,
           2.369140625,
           0.80224609375,
           1.2353515625,
           2.10546875,
           0.54736328125,
           1.896484375,
           2.427734375,
           2.212890625,
           3.373046875,
           1.0693359375,
           2.01953125,
           0.90087890625,
           -0.38232421875,
           -0.23046875,
           1.01171875,
           0.607421875,
           1.0673828125,
           1.2109375,
           -0.263427734375,
           -0.41357421875,
           -1.0185546875,
           0.06817626953125,
           0.1141357421875,
           1.5322265625,
           -1.8349609375,
           -1.4169921875,
           -0.3984375,
           -0.9814453125,
           -1.2958984375,
           0.84716796875,
           -1.09765625,
           -0.80419921875,
           -0.63232421875,
           -0.88330078125,
           0.7158203125,
           1.40625,
           0.60791015625,
           1.412109375,
           2.513671875,
           1.1328125,
           2.201171875,
           1.7236328125,
           0.94921875,
           0.86669921875,
           0.79638671875,
           0.62646484375,
           1.9384765625,
           0.9853515625,
           2.51953125,
           2.1796875,
           1.1904296875,
           0.81494140625,
           1.021484375,
           0.70751953125,
           0.94677734375,
           1.6103515625,
           1.90625
          ],
          [
           1.7890625,
           1.3291015625,
           1.767578125,
           1.6572265625,
           2.43359375,
           2.685546875,
           1.0927734375,
           0.52294921875,
           1.4208984375,
           3.029296875,
           1.4892578125,
           0.7001953125,
           2.275390625,
           0.8759765625,
           1.7451171875,
           2.169921875,
           0.302001953125,
           1.9912109375,
           1.4775390625,
           2.50390625,
           2.7734375,
           0.52197265625,
           2.724609375,
           0.8564453125,
           -0.43017578125,
           -0.5546875,
           0.27783203125,
           0.4365234375,
           0.71240234375,
           0.83447265625,
           -0.394287109375,
           -0.269775390625,
           -1.1318359375,
           0.11700439453125,
           0.642578125,
           1.09765625,
           -2.369140625,
           -1.2666015625,
           -1.033203125,
           -1.3232421875,
           -1.1591796875,
           0.3779296875,
           -1.1806640625,
           -1.052734375,
           -0.708984375,
           -1.1044921875,
           0.458251953125,
           0.9892578125,
           0.92724609375,
           1.21875,
           1.255859375,
           0.29248046875,
           1.138671875,
           1.017578125,
           0.83203125,
           0.10870361328125,
           0.59814453125,
           0.50048828125,
           1.8603515625,
           1.546875,
           1.791015625,
           1.5517578125,
           0.94775390625,
           0.81884765625,
           1.255859375,
           0.365234375,
           0.9228515625,
           1.359375,
           1.8447265625
          ],
          [
           0.943359375,
           0.46435546875,
           1.2880859375,
           0.72802734375,
           1.71875,
           3.466796875,
           0.484130859375,
           -0.0672607421875,
           1.025390625,
           3.19140625,
           0.837890625,
           0.164794921875,
           2.09375,
           0.5498046875,
           1.6943359375,
           1.4853515625,
           -0.0943603515625,
           1.7021484375,
           1.1328125,
           2.798828125,
           2.353515625,
           -0.272216796875,
           2.9375,
           0.1429443359375,
           -1.0185546875,
           -1.2666015625,
           0.219482421875,
           -0.09454345703125,
           -0.0799560546875,
           -0.002155303955078125,
           -1.1123046875,
           -0.63671875,
           -1.6767578125,
           0.1827392578125,
           0.578125,
           0.80615234375,
           -3.1953125,
           -2.4609375,
           -2.2109375,
           -2.697265625,
           -2.69921875,
           -0.85693359375,
           -2.34765625,
           -1.8505859375,
           -1.5205078125,
           -1.640625,
           0.41015625,
           1.150390625,
           0.97265625,
           1.0400390625,
           0.42333984375,
           0.0108489990234375,
           0.71337890625,
           0.92529296875,
           0.141357421875,
           -0.0135650634765625,
           -0.315185546875,
           -0.361572265625,
           1.6494140625,
           1.5546875,
           1.369140625,
           1.2919921875,
           0.51611328125,
           0.68701171875,
           0.87255859375,
           -0.010223388671875,
           0.59765625,
           0.58642578125,
           1.3447265625
          ],
          [
           0.58984375,
           0.88330078125,
           0.83447265625,
           -0.01413726806640625,
           0.98583984375,
           3.69921875,
           0.018096923828125,
           -0.369140625,
           0.64990234375,
           2.7734375,
           0.5224609375,
           -0.239501953125,
           1.7978515625,
           0.5244140625,
           1.8388671875,
           2.00390625,
           0.1458740234375,
           1.9609375,
           0.56640625,
           2.5390625,
           2.30859375,
           -0.1156005859375,
           3.42578125,
           1.16015625,
           -0.91357421875,
           -0.98779296875,
           0.7666015625,
           -0.41357421875,
           -0.445556640625,
           -0.07855224609375,
           -0.8984375,
           -0.265380859375,
           -1.2412109375,
           1.1142578125,
           1.12890625,
           1.1533203125,
           -2.953125,
           -2.419921875,
           -2.21875,
           -2.513671875,
           -2.47265625,
           -0.91064453125,
           -2.50390625,
           -2.021484375,
           -1.8974609375,
           -1.47265625,
           0.1070556640625,
           0.70263671875,
           0.55078125,
           0.30908203125,
           -0.287109375,
           0.2431640625,
           0.50634765625,
           0.77197265625,
           -0.1651611328125,
           -0.39111328125,
           -0.65869140625,
           -0.7451171875,
           1.6357421875,
           1.8076171875,
           1.5146484375,
           1.2216796875,
           0.9375,
           1.5048828125,
           1.5166015625,
           -0.250244140625,
           0.34619140625,
           0.415283203125,
           1.2177734375
          ],
          [
           0.0848388671875,
           0.53662109375,
           0.61572265625,
           -0.67041015625,
           0.1507568359375,
           2.837890625,
           -0.37548828125,
           -0.66650390625,
           -0.258544921875,
           2.361328125,
           -0.2064208984375,
           -1.0263671875,
           1.0888671875,
           -0.5625,
           1.2216796875,
           1.171875,
           0.07464599609375,
           1.28125,
           0.0625,
           2.59375,
           1.9287109375,
           -0.0034656524658203125,
           3.20703125,
           0.79443359375,
           -1.1337890625,
           -1.703125,
           0.6259765625,
           -0.2734375,
           -1.0400390625,
           -0.57568359375,
           -1.8408203125,
           -0.63330078125,
           -1.7548828125,
           0.61474609375,
           0.7626953125,
           -0.08697509765625,
           -3.34375,
           -2.607421875,
           -2.8828125,
           -2.6953125,
           -2.59375,
           -1.0966796875,
           -2.763671875,
           -2.34765625,
           -2.486328125,
           -2.130859375,
           0.111083984375,
           0.81591796875,
           0.08843994140625,
           -0.55908203125,
           -0.97314453125,
           0.3212890625,
           0.441162109375,
           0.55224609375,
           0.07781982421875,
           -0.370361328125,
           -0.125732421875,
           -0.51806640625,
           1.4814453125,
           1.2822265625,
           0.82568359375,
           0.716796875,
           0.349853515625,
           1.1650390625,
           1.048828125,
           -0.515625,
           0.1824951171875,
           -0.197021484375,
           -0.005126953125
          ],
          [
           0.51025390625,
           1.1591796875,
           0.9873046875,
           0.1082763671875,
           0.085693359375,
           1.8701171875,
           -0.312255859375,
           -1.1103515625,
           -0.7958984375,
           2.11328125,
           0.35205078125,
           0.08526611328125,
           0.5625,
           0.54443359375,
           1.1630859375,
           1.447265625,
           0.2418212890625,
           1.478515625,
           0.496337890625,
           2.45703125,
           1.6630859375,
           0.11578369140625,
           3.083984375,
           1.9287109375,
           -0.775390625,
           -0.72509765625,
           0.91259765625,
           -0.406982421875,
           -1.208984375,
           -0.411376953125,
           -1.29296875,
           -0.06414794921875,
           -1.1455078125,
           1.111328125,
           1.2109375,
           0.28271484375,
           -2.513671875,
           -2.271484375,
           -2.783203125,
           -2.716796875,
           -2.486328125,
           -0.66455078125,
           -2.693359375,
           -2.529296875,
           -2.791015625,
           -2.5390625,
           0.216064453125,
           0.923828125,
           -0.8046875,
           -1.3291015625,
           -1.1923828125,
           0.3525390625,
           0.336181640625,
           0.97705078125,
           -0.23974609375,
           -0.451904296875,
           -0.92919921875,
           -0.2322998046875,
           1.3056640625,
           1.375,
           0.4658203125,
           0.2447509765625,
           -0.48583984375,
           0.252197265625,
           0.74169921875,
           -1.00390625,
           -0.39794921875,
           -0.3544921875,
           -1.5927734375
          ],
          [
           -0.79345703125,
           0.67041015625,
           0.11505126953125,
           -1.080078125,
           -0.90673828125,
           -0.99462890625,
           -1.9677734375,
           -2.421875,
           -1.67578125,
           0.4443359375,
           -0.91455078125,
           -0.6064453125,
           -1.7890625,
           0.0416259765625,
           0.355224609375,
           -0.23291015625,
           -1.6025390625,
           -0.28076171875,
           -0.56982421875,
           0.716796875,
           0.10614013671875,
           -0.82568359375,
           1.4638671875,
           0.452392578125,
           -1.59765625,
           -1.1455078125,
           -0.07977294921875,
           -1.3310546875,
           -1.470703125,
           -0.96044921875,
           -1.9931640625,
           -1.248046875,
           -2.748046875,
           -0.1461181640625,
           -0.1287841796875,
           -1.2841796875,
           -3.36328125,
           -3.0234375,
           -4,
           -3.69140625,
           -3.296875,
           -1.83203125,
           -3.650390625,
           -3.76953125,
           -4.21484375,
           -3.728515625,
           -1.2275390625,
           -0.560546875,
           -2.765625,
           -2.958984375,
           -2.71484375,
           -0.97265625,
           -0.19091796875,
           0.73974609375,
           -1.7314453125,
           -1.552734375,
           -2.349609375,
           -1.1787109375,
           -0.240966796875,
           -0.2242431640625,
           -1.271484375,
           -1.6240234375,
           -2.2109375,
           -1.591796875,
           -0.9228515625,
           -2.2578125,
           -1.435546875,
           -1.6943359375,
           -3.287109375
          ],
          [
           0.80517578125,
           1.53125,
           1.025390625,
           -0.306640625,
           1.37890625,
           -3.3515625,
           -0.279541015625,
           -0.6572265625,
           -0.056671142578125,
           1.0732421875,
           0.288330078125,
           0.8271484375,
           -1.8935546875,
           1.330078125,
           1.623046875,
           -0.51904296875,
           -2.40234375,
           -0.84619140625,
           0.460693359375,
           -0.249267578125,
           0.42529296875,
           0.42919921875,
           0.23193359375,
           0.53271484375,
           -0.005859375,
           -0.03875732421875,
           -0.06365966796875,
           -0.515625,
           0.037841796875,
           0.1492919921875,
           -1.1669921875,
           -0.2467041015625,
           -2.279296875,
           -0.040618896484375,
           0.5546875,
           -1.0380859375,
           -2.263671875,
           -1.650390625,
           -3.146484375,
           -2.373046875,
           -2.501953125,
           -1.4013671875,
           -3.142578125,
           -3.69921875,
           -4.6875,
           -2.685546875,
           -1.7880859375,
           -0.90478515625,
           -3.142578125,
           -3.63671875,
           -3.21875,
           -0.91552734375,
           0.31494140625,
           2.046875,
           -1.6982421875,
           -1.3037109375,
           -2.02734375,
           -1.2978515625,
           -1.4208984375,
           -1.119140625,
           -2.361328125,
           -2.80859375,
           -2.60546875,
           -2.333984375,
           -2.63671875,
           -2.671875,
           -1.861328125,
           -0.595703125,
           -4.203125
          ],
          [
           -1.3046875,
           -0.6201171875,
           -0.587890625,
           -2.3984375,
           -0.4150390625,
           -5.21484375,
           -2.498046875,
           -2.58203125,
           -1.5595703125,
           -0.5087890625,
           -1.8486328125,
           -0.412353515625,
           -4.29296875,
           0.01192474365234375,
           0.29150390625,
           -3.1796875,
           -4.3359375,
           -3.09375,
           -1.525390625,
           -2.94140625,
           -1.4990234375,
           -1.720703125,
           -1.7783203125,
           -1.85546875,
           -2.228515625,
           -2.66796875,
           -2.173828125,
           -2.5390625,
           -1.8037109375,
           -2.025390625,
           -3.22265625,
           -2.919921875,
           -4.8125,
           -1.9169921875,
           -1.5546875,
           -3.126953125,
           -3.38671875,
           -3.642578125,
           -5.2265625,
           -4.36328125,
           -4.2421875,
           -3.4140625,
           -5.7734375,
           -5.4375,
           -6.67578125,
           -4.109375,
           -3.970703125,
           -3.2109375,
           -4.83203125,
           -6.015625,
           -4.65234375,
           -3.423828125,
           -1.6171875,
           0.46142578125,
           -3.556640625,
           -3.509765625,
           -4.12109375,
           -3.322265625,
           -3.455078125,
           -3.2578125,
           -4.23828125,
           -4.60546875,
           -4.22265625,
           -4.6171875,
           -4.83203125,
           -4.7890625,
           -4.23046875,
           -2.34375,
           -6.4609375
          ],
          [
           -0.8740234375,
           -0.38134765625,
           -0.9658203125,
           -2.576171875,
           -0.66748046875,
           -5.22265625,
           -2.759765625,
           -2.568359375,
           -1.724609375,
           -0.95751953125,
           -1.6552734375,
           -0.52783203125,
           -4.140625,
           -0.319091796875,
           0.0005030632019042969,
           -1.8095703125,
           -3.875,
           -4.09375,
           -1.576171875,
           -3.111328125,
           -2.052734375,
           -2.333984375,
           -1.4189453125,
           -1.6796875,
           -1.9755859375,
           -1.724609375,
           -2.267578125,
           -2.62109375,
           -1.1572265625,
           -1.6826171875,
           -3.056640625,
           -2.587890625,
           -4.69140625,
           -1.326171875,
           -0.6279296875,
           -2.5,
           -2.53125,
           -2.802734375,
           -4.90625,
           -3.61328125,
           -3.34375,
           -2.751953125,
           -4.80859375,
           -5.171875,
           -5.98046875,
           -3.80078125,
           -3.146484375,
           -2.421875,
           -4.14453125,
           -5.75390625,
           -4.25,
           -3.17578125,
           -1.873046875,
           0.1268310546875,
           -3.064453125,
           -3.03125,
           -3.599609375,
           -3.17578125,
           -3.08984375,
           -3.619140625,
           -4.23046875,
           -4.8125,
           -3.9453125,
           -4.8359375,
           -5.328125,
           -4.65234375,
           -3.984375,
           -0.94970703125,
           -5.64453125
          ],
          [
           -0.333984375,
           -0.98095703125,
           -0.445068359375,
           -2.232421875,
           -0.38232421875,
           -4.265625,
           -1.93359375,
           -2.02734375,
           -1.6455078125,
           -0.421875,
           -0.60302734375,
           -0.33837890625,
           -3.22265625,
           -0.17822265625,
           -0.54443359375,
           -1.5068359375,
           -2.8203125,
           -4.42578125,
           -1.154296875,
           -2.78125,
           -0.9658203125,
           -1.80859375,
           -0.43310546875,
           -0.423583984375,
           -1.2529296875,
           -0.93701171875,
           -1.64453125,
           -2.552734375,
           -0.87109375,
           -0.89306640625,
           -2.349609375,
           -2.216796875,
           -4.19140625,
           -0.96142578125,
           -0.392578125,
           -2.44140625,
           -2.09765625,
           -2.73046875,
           -4.94140625,
           -2.91015625,
           -2.7734375,
           -1.8798828125,
           -3.94921875,
           -4.68359375,
           -5.67578125,
           -2.953125,
           -2.193359375,
           -1.404296875,
           -3.818359375,
           -4.9453125,
           -3.193359375,
           -2.267578125,
           -1.43359375,
           0.216064453125,
           -2.330078125,
           -2.830078125,
           -3.19140625,
           -2.62890625,
           -2.8046875,
           -3.42578125,
           -3.53515625,
           -4.21484375,
           -3.544921875,
           -4.37890625,
           -5.171875,
           -4.33984375,
           -3.71875,
           -0.7421875,
           -4.98046875
          ],
          [
           -2.13671875,
           -2.193359375,
           -2.1640625,
           -3.591796875,
           -0.966796875,
           -6.6875,
           -2.474609375,
           -2.203125,
           -2.216796875,
           -1.498046875,
           -1.9208984375,
           -1.6240234375,
           -5.94921875,
           -1.185546875,
           -2.1796875,
           -1.849609375,
           -5.203125,
           -8.0234375,
           -2.890625,
           -5.22265625,
           -4.27734375,
           -2.763671875,
           -1.33203125,
           -1.314453125,
           -2.943359375,
           -2.48828125,
           -4.22265625,
           -3.04296875,
           -0.9765625,
           -2.28125,
           -3.41796875,
           -3.197265625,
           -5.07421875,
           -1.7177734375,
           -1.361328125,
           -2.904296875,
           -3.185546875,
           -2.787109375,
           -4.953125,
           -3.2265625,
           -2.912109375,
           -2.70703125,
           -3,
           -4.24609375,
           -5.51953125,
           -2.263671875,
           -4.0234375,
           -3.853515625,
           -3.662109375,
           -4.74609375,
           -4.45703125,
           -3.720703125,
           -3.728515625,
           -0.89208984375,
           -3.99609375,
           -5.08203125,
           -4.8203125,
           -3.966796875,
           -4.84375,
           -6.25390625,
           -6.01953125,
           -6.38671875,
           -5.43359375,
           -6.44140625,
           -8.875,
           -6.99609375,
           -6.24609375,
           -0.436279296875,
           -7.1640625
          ],
          [
           -2.412109375,
           -1.80859375,
           -1.2490234375,
           -3.4453125,
           -0.453857421875,
           -5.046875,
           -2.193359375,
           -1.6689453125,
           -1.2041015625,
           -0.2015380859375,
           -1.943359375,
           -0.76171875,
           -4.90234375,
           -0.53173828125,
           -1.4970703125,
           -0.37109375,
           -3.8828125,
           -7.2578125,
           -2.921875,
           -4.3828125,
           -3.716796875,
           -2.009765625,
           -0.54345703125,
           -0.3349609375,
           -2.50390625,
           -1.990234375,
           -3.10546875,
           -2.2734375,
           0.1575927734375,
           -0.73046875,
           -3.0234375,
           -2.287109375,
           -4.36328125,
           -0.82568359375,
           -1.1865234375,
           -2.38671875,
           -2.017578125,
           -2.13671875,
           -4.1953125,
           -2.138671875,
           -1.5068359375,
           -2.16796875,
           -2.251953125,
           -2.9765625,
           -4.3203125,
           -1.830078125,
           -2.271484375,
           -2.822265625,
           -2.73046875,
           -4.54296875,
           -3.42578125,
           -2.828125,
           -2.814453125,
           -0.466796875,
           -3.33203125,
           -4.8359375,
           -4.51171875,
           -3.17578125,
           -4.10546875,
           -6.08203125,
           -5.16796875,
           -5.6484375,
           -4.92578125,
           -6.578125,
           -7.83203125,
           -6.16015625,
           -5.07421875,
           0.2447509765625,
           -6.50390625
          ],
          [
           -4.73828125,
           -3.951171875,
           -3.283203125,
           -5.4453125,
           -3.22265625,
           -6.08203125,
           -4.45703125,
           -4.19140625,
           -3.431640625,
           -2.880859375,
           -3.826171875,
           -3.197265625,
           -5.18359375,
           -2.609375,
           -2.80078125,
           -2.78125,
           -5.21484375,
           -7.9375,
           -4.8046875,
           -6.0390625,
           -5.70703125,
           -3.806640625,
           -1.240234375,
           -1.533203125,
           -4.171875,
           -4.25390625,
           -4.80078125,
           -4.28515625,
           -2.056640625,
           -2.4453125,
           -4.85546875,
           -4.3359375,
           -6.5859375,
           -2.0625,
           -2.921875,
           -4.640625,
           -4.3125,
           -4.296875,
           -5.83203125,
           -3.619140625,
           -3.703125,
           -4.94140625,
           -4.609375,
           -5.234375,
           -5.85546875,
           -3.81640625,
           -4.6953125,
           -4.64453125,
           -4.73046875,
           -5.98046875,
           -5.4453125,
           -4.6640625,
           -5.60546875,
           -3.072265625,
           -5.2890625,
           -6.75,
           -6.39453125,
           -5.34375,
           -6.4453125,
           -8.03125,
           -6.7421875,
           -6.96875,
           -7.2265625,
           -8.921875,
           -9.2265625,
           -8.046875,
           -6.12109375,
           -0.9609375,
           -7.10546875
          ],
          [
           -0.86669921875,
           -0.75048828125,
           0.31982421875,
           -1.2578125,
           -1.271484375,
           -0.61669921875,
           -2.6015625,
           -1.130859375,
           -1.779296875,
           1.115234375,
           -1.2451171875,
           -2.0625,
           0.1197509765625,
           -0.354248046875,
           -0.349365234375,
           -0.304443359375,
           -1.875,
           -3.177734375,
           -2.427734375,
           -1.8828125,
           -2.193359375,
           -1.5419921875,
           2.7578125,
           1.7880859375,
           -2.234375,
           -2.1640625,
           -1.3642578125,
           -2.0859375,
           -1.7685546875,
           -1.1640625,
           -2.837890625,
           -3.36328125,
           -4.59765625,
           0.64013671875,
           0.05450439453125,
           -2.12109375,
           -3.044921875,
           -3.22265625,
           -5.09765625,
           -1.9677734375,
           -2.8984375,
           -3.158203125,
           -3.0625,
           -4.44921875,
           -4.15625,
           -1.83984375,
           -1.099609375,
           -0.11358642578125,
           -2.89453125,
           -3.755859375,
           -1.712890625,
           -0.953125,
           -2.5,
           0.288330078125,
           -2.224609375,
           -3.02734375,
           -4.01171875,
           -3.19921875,
           -2.029296875,
           -2.734375,
           -3.44140625,
           -3.291015625,
           -3.10546875,
           -4.4453125,
           -4.44140625,
           -3.798828125,
           -2.57421875,
           -0.30224609375,
           -3.880859375
          ],
          [
           1.1689453125,
           0.1728515625,
           2.03125,
           0.361083984375,
           -0.9521484375,
           3.861328125,
           -1.9658203125,
           -0.77978515625,
           -0.36279296875,
           3.8359375,
           1.2021484375,
           -2.05859375,
           3.150390625,
           0.086669921875,
           1.7548828125,
           1.4150390625,
           1.625,
           0.051177978515625,
           -0.497314453125,
           0.43212890625,
           0.491455078125,
           -0.595703125,
           4.546875,
           3.23046875,
           -1.2880859375,
           -0.64111328125,
           0.2479248046875,
           -1.546875,
           -2.439453125,
           -0.93115234375,
           -1.240234375,
           -2.673828125,
           -4.359375,
           2.20703125,
           1.5126953125,
           -0.473388671875,
           -3.0390625,
           -3.564453125,
           -6.15625,
           -2.265625,
           -1.4892578125,
           -2.822265625,
           -1.6748046875,
           -3.642578125,
           -2.525390625,
           -1.3046875,
           1.5908203125,
           3.056640625,
           -2.373046875,
           -2.509765625,
           0.50341796875,
           3.931640625,
           -0.7978515625,
           2.998046875,
           -1.169921875,
           -0.9931640625,
           -2.435546875,
           -1.9462890625,
           1.1259765625,
           1.525390625,
           -0.4736328125,
           0.451416015625,
           -0.9560546875,
           -2.20703125,
           -1.984375,
           -1.1064453125,
           -0.200439453125,
           -0.509765625,
           -1.583984375
          ],
          [
           2.7109375,
           0.8359375,
           2.0703125,
           0.25048828125,
           -3.6328125,
           -0.484375,
           -1.4951171875,
           0.97607421875,
           -0.28369140625,
           5.79296875,
           5.87109375,
           -4.19921875,
           4.90625,
           1.634765625,
           5.7578125,
           0.52490234375,
           1.26171875,
           -2.736328125,
           3.556640625,
           -2.380859375,
           0.1944580078125,
           0.87841796875,
           3.591796875,
           3.138671875,
           -2.443359375,
           -1.2490234375,
           -2.24609375,
           -5.67578125,
           -7.5703125,
           -2.328125,
           -2.98828125,
           -5.26953125,
           -5.03125,
           3.1328125,
           -0.032196044921875,
           -1.865234375,
           -3.412109375,
           -8.1328125,
           -14.4453125,
           -1.6591796875,
           -6.52734375,
           -4.48828125,
           -10.1328125,
           -9.421875,
           -4.9140625,
           -7.32421875,
           0.5537109375,
           3.9140625,
           -12.3203125,
           -9.0234375,
           1.419921875,
           8.5,
           4.8359375,
           8.59375,
           0.2225341796875,
           -3.99609375,
           -2.611328125,
           -2.939453125,
           3.802734375,
           1.625,
           1.0771484375,
           1.5087890625,
           0.99072265625,
           -1.6259765625,
           -3.921875,
           -0.52392578125,
           2.1875,
           0.0848388671875,
           1.5546875
          ]
         ]
        }
       ],
       "layout": {
        "coloraxis": {
         "cmax": 3,
         "cmin": -3,
         "colorscale": [
          [
           0,
           "rgb(165,0,38)"
          ],
          [
           0.1,
           "rgb(215,48,39)"
          ],
          [
           0.2,
           "rgb(244,109,67)"
          ],
          [
           0.3,
           "rgb(253,174,97)"
          ],
          [
           0.4,
           "rgb(254,224,139)"
          ],
          [
           0.5,
           "rgb(255,255,191)"
          ],
          [
           0.6,
           "rgb(217,239,139)"
          ],
          [
           0.7,
           "rgb(166,217,106)"
          ],
          [
           0.8,
           "rgb(102,189,99)"
          ],
          [
           0.9,
           "rgb(26,152,80)"
          ],
          [
           1,
           "rgb(0,104,55)"
          ]
         ]
        },
        "height": 600,
        "margin": {
         "t": 60
        },
        "template": {
         "data": {
          "bar": [
           {
            "error_x": {
             "color": "#2a3f5f"
            },
            "error_y": {
             "color": "#2a3f5f"
            },
            "marker": {
             "line": {
              "color": "#E5ECF6",
              "width": 0.5
             },
             "pattern": {
              "fillmode": "overlay",
              "size": 10,
              "solidity": 0.2
             }
            },
            "type": "bar"
           }
          ],
          "barpolar": [
           {
            "marker": {
             "line": {
              "color": "#E5ECF6",
              "width": 0.5
             },
             "pattern": {
              "fillmode": "overlay",
              "size": 10,
              "solidity": 0.2
             }
            },
            "type": "barpolar"
           }
          ],
          "carpet": [
           {
            "aaxis": {
             "endlinecolor": "#2a3f5f",
             "gridcolor": "white",
             "linecolor": "white",
             "minorgridcolor": "white",
             "startlinecolor": "#2a3f5f"
            },
            "baxis": {
             "endlinecolor": "#2a3f5f",
             "gridcolor": "white",
             "linecolor": "white",
             "minorgridcolor": "white",
             "startlinecolor": "#2a3f5f"
            },
            "type": "carpet"
           }
          ],
          "choropleth": [
           {
            "colorbar": {
             "outlinewidth": 0,
             "ticks": ""
            },
            "type": "choropleth"
           }
          ],
          "contour": [
           {
            "colorbar": {
             "outlinewidth": 0,
             "ticks": ""
            },
            "colorscale": [
             [
              0,
              "#0d0887"
             ],
             [
              0.1111111111111111,
              "#46039f"
             ],
             [
              0.2222222222222222,
              "#7201a8"
             ],
             [
              0.3333333333333333,
              "#9c179e"
             ],
             [
              0.4444444444444444,
              "#bd3786"
             ],
             [
              0.5555555555555556,
              "#d8576b"
             ],
             [
              0.6666666666666666,
              "#ed7953"
             ],
             [
              0.7777777777777778,
              "#fb9f3a"
             ],
             [
              0.8888888888888888,
              "#fdca26"
             ],
             [
              1,
              "#f0f921"
             ]
            ],
            "type": "contour"
           }
          ],
          "contourcarpet": [
           {
            "colorbar": {
             "outlinewidth": 0,
             "ticks": ""
            },
            "type": "contourcarpet"
           }
          ],
          "heatmap": [
           {
            "colorbar": {
             "outlinewidth": 0,
             "ticks": ""
            },
            "colorscale": [
             [
              0,
              "#0d0887"
             ],
             [
              0.1111111111111111,
              "#46039f"
             ],
             [
              0.2222222222222222,
              "#7201a8"
             ],
             [
              0.3333333333333333,
              "#9c179e"
             ],
             [
              0.4444444444444444,
              "#bd3786"
             ],
             [
              0.5555555555555556,
              "#d8576b"
             ],
             [
              0.6666666666666666,
              "#ed7953"
             ],
             [
              0.7777777777777778,
              "#fb9f3a"
             ],
             [
              0.8888888888888888,
              "#fdca26"
             ],
             [
              1,
              "#f0f921"
             ]
            ],
            "type": "heatmap"
           }
          ],
          "heatmapgl": [
           {
            "colorbar": {
             "outlinewidth": 0,
             "ticks": ""
            },
            "colorscale": [
             [
              0,
              "#0d0887"
             ],
             [
              0.1111111111111111,
              "#46039f"
             ],
             [
              0.2222222222222222,
              "#7201a8"
             ],
             [
              0.3333333333333333,
              "#9c179e"
             ],
             [
              0.4444444444444444,
              "#bd3786"
             ],
             [
              0.5555555555555556,
              "#d8576b"
             ],
             [
              0.6666666666666666,
              "#ed7953"
             ],
             [
              0.7777777777777778,
              "#fb9f3a"
             ],
             [
              0.8888888888888888,
              "#fdca26"
             ],
             [
              1,
              "#f0f921"
             ]
            ],
            "type": "heatmapgl"
           }
          ],
          "histogram": [
           {
            "marker": {
             "pattern": {
              "fillmode": "overlay",
              "size": 10,
              "solidity": 0.2
             }
            },
            "type": "histogram"
           }
          ],
          "histogram2d": [
           {
            "colorbar": {
             "outlinewidth": 0,
             "ticks": ""
            },
            "colorscale": [
             [
              0,
              "#0d0887"
             ],
             [
              0.1111111111111111,
              "#46039f"
             ],
             [
              0.2222222222222222,
              "#7201a8"
             ],
             [
              0.3333333333333333,
              "#9c179e"
             ],
             [
              0.4444444444444444,
              "#bd3786"
             ],
             [
              0.5555555555555556,
              "#d8576b"
             ],
             [
              0.6666666666666666,
              "#ed7953"
             ],
             [
              0.7777777777777778,
              "#fb9f3a"
             ],
             [
              0.8888888888888888,
              "#fdca26"
             ],
             [
              1,
              "#f0f921"
             ]
            ],
            "type": "histogram2d"
           }
          ],
          "histogram2dcontour": [
           {
            "colorbar": {
             "outlinewidth": 0,
             "ticks": ""
            },
            "colorscale": [
             [
              0,
              "#0d0887"
             ],
             [
              0.1111111111111111,
              "#46039f"
             ],
             [
              0.2222222222222222,
              "#7201a8"
             ],
             [
              0.3333333333333333,
              "#9c179e"
             ],
             [
              0.4444444444444444,
              "#bd3786"
             ],
             [
              0.5555555555555556,
              "#d8576b"
             ],
             [
              0.6666666666666666,
              "#ed7953"
             ],
             [
              0.7777777777777778,
              "#fb9f3a"
             ],
             [
              0.8888888888888888,
              "#fdca26"
             ],
             [
              1,
              "#f0f921"
             ]
            ],
            "type": "histogram2dcontour"
           }
          ],
          "mesh3d": [
           {
            "colorbar": {
             "outlinewidth": 0,
             "ticks": ""
            },
            "type": "mesh3d"
           }
          ],
          "parcoords": [
           {
            "line": {
             "colorbar": {
              "outlinewidth": 0,
              "ticks": ""
             }
            },
            "type": "parcoords"
           }
          ],
          "pie": [
           {
            "automargin": true,
            "type": "pie"
           }
          ],
          "scatter": [
           {
            "fillpattern": {
             "fillmode": "overlay",
             "size": 10,
             "solidity": 0.2
            },
            "type": "scatter"
           }
          ],
          "scatter3d": [
           {
            "line": {
             "colorbar": {
              "outlinewidth": 0,
              "ticks": ""
             }
            },
            "marker": {
             "colorbar": {
              "outlinewidth": 0,
              "ticks": ""
             }
            },
            "type": "scatter3d"
           }
          ],
          "scattercarpet": [
           {
            "marker": {
             "colorbar": {
              "outlinewidth": 0,
              "ticks": ""
             }
            },
            "type": "scattercarpet"
           }
          ],
          "scattergeo": [
           {
            "marker": {
             "colorbar": {
              "outlinewidth": 0,
              "ticks": ""
             }
            },
            "type": "scattergeo"
           }
          ],
          "scattergl": [
           {
            "marker": {
             "colorbar": {
              "outlinewidth": 0,
              "ticks": ""
             }
            },
            "type": "scattergl"
           }
          ],
          "scattermapbox": [
           {
            "marker": {
             "colorbar": {
              "outlinewidth": 0,
              "ticks": ""
             }
            },
            "type": "scattermapbox"
           }
          ],
          "scatterpolar": [
           {
            "marker": {
             "colorbar": {
              "outlinewidth": 0,
              "ticks": ""
             }
            },
            "type": "scatterpolar"
           }
          ],
          "scatterpolargl": [
           {
            "marker": {
             "colorbar": {
              "outlinewidth": 0,
              "ticks": ""
             }
            },
            "type": "scatterpolargl"
           }
          ],
          "scatterternary": [
           {
            "marker": {
             "colorbar": {
              "outlinewidth": 0,
              "ticks": ""
             }
            },
            "type": "scatterternary"
           }
          ],
          "surface": [
           {
            "colorbar": {
             "outlinewidth": 0,
             "ticks": ""
            },
            "colorscale": [
             [
              0,
              "#0d0887"
             ],
             [
              0.1111111111111111,
              "#46039f"
             ],
             [
              0.2222222222222222,
              "#7201a8"
             ],
             [
              0.3333333333333333,
              "#9c179e"
             ],
             [
              0.4444444444444444,
              "#bd3786"
             ],
             [
              0.5555555555555556,
              "#d8576b"
             ],
             [
              0.6666666666666666,
              "#ed7953"
             ],
             [
              0.7777777777777778,
              "#fb9f3a"
             ],
             [
              0.8888888888888888,
              "#fdca26"
             ],
             [
              1,
              "#f0f921"
             ]
            ],
            "type": "surface"
           }
          ],
          "table": [
           {
            "cells": {
             "fill": {
              "color": "#EBF0F8"
             },
             "line": {
              "color": "white"
             }
            },
            "header": {
             "fill": {
              "color": "#C8D4E3"
             },
             "line": {
              "color": "white"
             }
            },
            "type": "table"
           }
          ]
         },
         "layout": {
          "annotationdefaults": {
           "arrowcolor": "#2a3f5f",
           "arrowhead": 0,
           "arrowwidth": 1
          },
          "autotypenumbers": "strict",
          "coloraxis": {
           "colorbar": {
            "outlinewidth": 0,
            "ticks": ""
           }
          },
          "colorscale": {
           "diverging": [
            [
             0,
             "#8e0152"
            ],
            [
             0.1,
             "#c51b7d"
            ],
            [
             0.2,
             "#de77ae"
            ],
            [
             0.3,
             "#f1b6da"
            ],
            [
             0.4,
             "#fde0ef"
            ],
            [
             0.5,
             "#f7f7f7"
            ],
            [
             0.6,
             "#e6f5d0"
            ],
            [
             0.7,
             "#b8e186"
            ],
            [
             0.8,
             "#7fbc41"
            ],
            [
             0.9,
             "#4d9221"
            ],
            [
             1,
             "#276419"
            ]
           ],
           "sequential": [
            [
             0,
             "#0d0887"
            ],
            [
             0.1111111111111111,
             "#46039f"
            ],
            [
             0.2222222222222222,
             "#7201a8"
            ],
            [
             0.3333333333333333,
             "#9c179e"
            ],
            [
             0.4444444444444444,
             "#bd3786"
            ],
            [
             0.5555555555555556,
             "#d8576b"
            ],
            [
             0.6666666666666666,
             "#ed7953"
            ],
            [
             0.7777777777777778,
             "#fb9f3a"
            ],
            [
             0.8888888888888888,
             "#fdca26"
            ],
            [
             1,
             "#f0f921"
            ]
           ],
           "sequentialminus": [
            [
             0,
             "#0d0887"
            ],
            [
             0.1111111111111111,
             "#46039f"
            ],
            [
             0.2222222222222222,
             "#7201a8"
            ],
            [
             0.3333333333333333,
             "#9c179e"
            ],
            [
             0.4444444444444444,
             "#bd3786"
            ],
            [
             0.5555555555555556,
             "#d8576b"
            ],
            [
             0.6666666666666666,
             "#ed7953"
            ],
            [
             0.7777777777777778,
             "#fb9f3a"
            ],
            [
             0.8888888888888888,
             "#fdca26"
            ],
            [
             1,
             "#f0f921"
            ]
           ]
          },
          "colorway": [
           "#636efa",
           "#EF553B",
           "#00cc96",
           "#ab63fa",
           "#FFA15A",
           "#19d3f3",
           "#FF6692",
           "#B6E880",
           "#FF97FF",
           "#FECB52"
          ],
          "font": {
           "color": "#2a3f5f"
          },
          "geo": {
           "bgcolor": "white",
           "lakecolor": "white",
           "landcolor": "#E5ECF6",
           "showlakes": true,
           "showland": true,
           "subunitcolor": "white"
          },
          "hoverlabel": {
           "align": "left"
          },
          "hovermode": "closest",
          "mapbox": {
           "style": "light"
          },
          "paper_bgcolor": "white",
          "plot_bgcolor": "#E5ECF6",
          "polar": {
           "angularaxis": {
            "gridcolor": "white",
            "linecolor": "white",
            "ticks": ""
           },
           "bgcolor": "#E5ECF6",
           "radialaxis": {
            "gridcolor": "white",
            "linecolor": "white",
            "ticks": ""
           }
          },
          "scene": {
           "xaxis": {
            "backgroundcolor": "#E5ECF6",
            "gridcolor": "white",
            "gridwidth": 2,
            "linecolor": "white",
            "showbackground": true,
            "ticks": "",
            "zerolinecolor": "white"
           },
           "yaxis": {
            "backgroundcolor": "#E5ECF6",
            "gridcolor": "white",
            "gridwidth": 2,
            "linecolor": "white",
            "showbackground": true,
            "ticks": "",
            "zerolinecolor": "white"
           },
           "zaxis": {
            "backgroundcolor": "#E5ECF6",
            "gridcolor": "white",
            "gridwidth": 2,
            "linecolor": "white",
            "showbackground": true,
            "ticks": "",
            "zerolinecolor": "white"
           }
          },
          "shapedefaults": {
           "line": {
            "color": "#2a3f5f"
           }
          },
          "ternary": {
           "aaxis": {
            "gridcolor": "white",
            "linecolor": "white",
            "ticks": ""
           },
           "baxis": {
            "gridcolor": "white",
            "linecolor": "white",
            "ticks": ""
           },
           "bgcolor": "#E5ECF6",
           "caxis": {
            "gridcolor": "white",
            "linecolor": "white",
            "ticks": ""
           }
          },
          "title": {
           "x": 0.05
          },
          "xaxis": {
           "automargin": true,
           "gridcolor": "white",
           "linecolor": "white",
           "ticks": "",
           "title": {
            "standoff": 15
           },
           "zerolinecolor": "white",
           "zerolinewidth": 2
          },
          "yaxis": {
           "automargin": true,
           "gridcolor": "white",
           "linecolor": "white",
           "ticks": "",
           "title": {
            "standoff": 15
           },
           "zerolinecolor": "white",
           "zerolinewidth": 2
          }
         }
        },
        "width": 1000,
        "xaxis": {
         "anchor": "y",
         "autorange": true,
         "constrain": "domain",
         "domain": [
          0,
          1
         ],
         "range": [
          -0.5,
          68.5
         ],
         "scaleanchor": "y",
         "ticktext": [
          "▁",
          "▁Of",
          "▁course",
          ",",
          "▁I",
          "'",
          "d",
          "▁be",
          "▁happy",
          "▁to",
          "!",
          "▁Here",
          "'",
          "s",
          "▁a",
          "▁fasc",
          "in",
          "ating",
          "▁fact",
          "▁about",
          "▁humans",
          ":",
          "<0x0A>",
          "<0x0A>",
          "Did",
          "▁you",
          "▁know",
          "▁that",
          "▁humans",
          "▁are",
          "▁the",
          "▁only",
          "▁species",
          "▁in",
          "▁the",
          "▁animal",
          "▁kingdom",
          "▁to",
          "▁have",
          "▁lost",
          "▁their",
          "▁ability",
          "▁to",
          "▁develop",
          "▁a",
          "▁natural",
          "▁defense",
          "▁mechanism",
          "▁against",
          "▁heart",
          "▁disease",
          "?",
          "▁This",
          "▁is",
          "▁because",
          "▁of",
          "▁our",
          "▁unique",
          "▁evolution",
          "ary",
          "▁history",
          ",",
          "▁which",
          "▁has",
          "▁led",
          "▁to",
          "▁a",
          "▁di",
          "et",
          "▁rich"
         ],
         "tickvals": [
          0,
          1,
          2,
          3,
          4,
          5,
          6,
          7,
          8,
          9,
          10,
          11,
          12,
          13,
          14,
          15,
          16,
          17,
          18,
          19,
          20,
          21,
          22,
          23,
          24,
          25,
          26,
          27,
          28,
          29,
          30,
          31,
          32,
          33,
          34,
          35,
          36,
          37,
          38,
          39,
          40,
          41,
          42,
          43,
          44,
          45,
          46,
          47,
          48,
          49,
          50,
          51,
          52,
          53,
          54,
          55,
          56,
          57,
          58,
          59,
          60,
          61,
          62,
          63,
          64,
          65,
          66,
          67,
          68,
          69
         ],
         "title": {
          "text": "Token"
         }
        },
        "yaxis": {
         "anchor": "x",
         "autorange": true,
         "constrain": "domain",
         "domain": [
          0.07539452495974236,
          0.9246054750402577
         ],
         "range": [
          31.5,
          -0.5
         ]
        }
       }
      },
      "image/png": "[encoded data removed]",
      "text/html": [
       "<div>                            <div id=\"dcfec1ac-ac22-44d5-90a4-f86fbb0e1fce\" class=\"plotly-graph-div\" style=\"height:600px; width:1000px;\"></div>            <script type=\"text/javascript\">                require([\"plotly\"], function(Plotly) {                    window.PLOTLYENV=window.PLOTLYENV || {};                                    if (document.getElementById(\"dcfec1ac-ac22-44d5-90a4-f86fbb0e1fce\")) {                    Plotly.newPlot(                        \"dcfec1ac-ac22-44d5-90a4-f86fbb0e1fce\",                        [{\"coloraxis\":\"coloraxis\",\"name\":\"0\",\"z\":[[0.301513671875,0.1993408203125,0.08941650390625,0.29833984375,0.10638427734375,0.269287109375,0.14111328125,0.13818359375,0.06146240234375,0.1748046875,0.1221923828125,0.06866455078125,0.25244140625,0.1201171875,0.2100830078125,0.1611328125,0.16650390625,0.10687255859375,0.04986572265625,0.073486328125,0.07122802734375,0.14501953125,0.316162109375,0.379638671875,0.095458984375,0.1253662109375,0.083251953125,0.1744384765625,0.11383056640625,0.174072265625,0.33544921875,0.07958984375,0.098876953125,0.1990966796875,0.3115234375,0.03857421875,0.0693359375,0.16357421875,0.09271240234375,0.05950927734375,0.1536865234375,0.078125,0.15576171875,0.08917236328125,0.21533203125,0.087646484375,0.1070556640625,0.09552001953125,0.09942626953125,0.08074951171875,0.0369873046875,0.1019287109375,0.1531982421875,0.1566162109375,0.085693359375,0.170654296875,0.1378173828125,0.03155517578125,0.0582275390625,0.10028076171875,0.04644775390625,0.2388916015625,0.10333251953125,0.09295654296875,0.045654296875,0.120849609375,0.1802978515625,0.097900390625,0.08062744140625],[0.03179931640625,0.043243408203125,0.0108184814453125,-0.031768798828125,-0.087646484375,-0.0374755859375,-0.0882568359375,-0.0120697021484375,0.038543701171875,-0.005962371826171875,-0.039886474609375,-0.057464599609375,-0.059234619140625,-0.123046875,-0.005008697509765625,0.1044921875,-0.04608154296875,-0.0145111083984375,0.00475311279296875,-0.07318115234375,-0.044189453125,-0.118896484375,3.828125,0.0928955078125,-0.058746337890625,-0.11553955078125,-0.08526611328125,-0.019256591796875,-0.01153564453125,-0.00824737548828125,0.07415771484375,0.0330810546875,0.12841796875,0.057830810546875,0.1192626953125,0.056640625,0.10986328125,0.024749755859375,0.0290374755859375,0.06402587890625,0.032379150390625,0.07098388671875,0.035858154296875,0.016357421875,0.0511474609375,0.047088623046875,0.10748291015625,0.137451171875,0.0867919921875,0.0804443359375,0.0670166015625,0.00534820556640625,-0.020263671875,-0.046539306640625,0.01010894775390625,-0.00768280029296875,0.065185546875,0.09820556640625,0.08013916015625,0.031646728515625,0.10650634765625,-0.0007157325744628906,0.02301025390625,0.022613525390625,-0.002056121826171875,-0.032623291015625,0.07635498046875,0.0006051063537597656,-0.09246826171875],[0.055389404296875,0.0814208984375,-0.04339599609375,-0.01300811767578125,-0.044952392578125,-0.2000732421875,-0.06488037109375,-0.06903076171875,0.041900634765625,0.0438232421875,-0.033294677734375,-0.05029296875,-0.12237548828125,-0.125244140625,0.033447265625,0.1376953125,0.0024471282958984375,-0.031982421875,0.031463623046875,-0.07891845703125,-0.11187744140625,-0.06793212890625,2.1171875,0.2061767578125,-0.0292510986328125,-0.07464599609375,0.0338134765625,0.01526641845703125,-0.0020465850830078125,-0.0452880859375,0.11053466796875,0.0948486328125,0.169677734375,0.1287841796875,0.1727294921875,0.06805419921875,0.1976318359375,0.06951904296875,0.08172607421875,0.0657958984375,0.12158203125,0.12310791015625,0.10345458984375,0.0712890625,0.09307861328125,0.114013671875,0.1590576171875,0.10198974609375,0.1317138671875,0.136962890625,0.1358642578125,0.04205322265625,-0.0130157470703125,-0.034759521484375,0.041351318359375,0.01605224609375,0.05523681640625,0.06488037109375,0.115234375,0.158447265625,0.0897216796875,0.00598907470703125,-0.03326416015625,0.00789642333984375,-0.01387786865234375,0.046783447265625,0.08026123046875,0.03564453125,-0.1373291015625],[-0.1683349609375,-0.09564208984375,-0.30615234375,-0.1995849609375,-0.20947265625,-0.485595703125,-0.234619140625,-0.2291259765625,-0.3056640625,-0.1812744140625,-0.1947021484375,-0.321044921875,-0.422607421875,-0.350830078125,-0.0972900390625,-0.1463623046875,-0.2069091796875,-0.33447265625,-0.176025390625,-0.2301025390625,-0.294921875,-0.1982421875,-0.182861328125,0.035308837890625,-0.223388671875,-0.1649169921875,-0.1104736328125,-0.06842041015625,-0.291259765625,-0.307373046875,-0.07000732421875,-0.11737060546875,-0.1497802734375,-0.061065673828125,0.1058349609375,-0.1546630859375,0.02117919921875,-0.0008177757263183594,-0.0123443603515625,-0.2176513671875,0.0280609130859375,-0.06976318359375,-0.0391845703125,-0.11505126953125,-0.08319091796875,-0.08740234375,0.033172607421875,-0.021759033203125,-0.0089263916015625,-0.09356689453125,0.1552734375,-0.12091064453125,-0.159423828125,-0.259765625,-0.24658203125,-0.114990234375,-0.1485595703125,-0.2208251953125,-0.2000732421875,-0.114501953125,-0.1295166015625,-0.249267578125,-0.2469482421875,-0.1959228515625,-0.278564453125,-0.1844482421875,-0.20458984375,-0.148681640625,-0.4345703125],[0.4501953125,0.453369140625,0.31689453125,0.2418212890625,0.1646728515625,0.1470947265625,0.176025390625,0.188232421875,0.09320068359375,0.1558837890625,0.2025146484375,0.267578125,0.304443359375,0.159912109375,0.1024169921875,0.429443359375,0.467041015625,0.163818359375,0.2364501953125,0.1292724609375,0.348388671875,0.1546630859375,1.1962890625,0.461181640625,0.2364501953125,0.1455078125,0.026031494140625,0.1436767578125,0.37451171875,0.1898193359375,0.297119140625,0.302490234375,0.32177734375,0.269287109375,0.275390625,0.189697265625,0.3310546875,0.21875,0.1865234375,0.1446533203125,0.2161865234375,0.196533203125,0.267578125,0.19140625,0.1463623046875,0.33154296875,0.34912109375,0.200927734375,0.2103271484375,0.3271484375,0.295654296875,0.18359375,0.2138671875,0.126220703125,0.117431640625,0.041748046875,0.198974609375,0.294677734375,0.344482421875,0.26416015625,0.28173828125,0.178955078125,0.1396484375,0.14208984375,0.2119140625,0.179443359375,0.1497802734375,0.1304931640625,0.035797119140625],[0.53369140625,0.400634765625,0.362548828125,0.1893310546875,0.1666259765625,0.384765625,-0.038726806640625,0.0175933837890625,0.01050567626953125,-0.034271240234375,0.11187744140625,0.1834716796875,0.38623046875,0.0146636962890625,0.0271759033203125,0.32568359375,0.433837890625,0.1649169921875,0.10491943359375,-0.07745361328125,0.321533203125,-0.00872802734375,2.421875,0.291259765625,0.3505859375,0.1419677734375,-0.1826171875,-0.0587158203125,0.32568359375,0.0999755859375,0.2030029296875,0.1163330078125,0.3232421875,0.1973876953125,0.161376953125,0.19775390625,0.082275390625,0.1575927734375,0.266845703125,0.1986083984375,0.190185546875,0.25048828125,0.43310546875,0.289306640625,0.1710205078125,0.1512451171875,0.2159423828125,0.11456298828125,0.045440673828125,0.03570556640625,0.1429443359375,0.119873046875,0.1646728515625,0.029693603515625,0.1734619140625,0.028717041015625,0.1617431640625,0.33984375,0.2222900390625,0.02191162109375,0.27978515625,0.17236328125,0.1922607421875,0.08184814453125,0.2200927734375,0.198486328125,0.10430908203125,0.07489013671875,0.1519775390625],[0.232177734375,0.40625,-0.01294708251953125,-0.0748291015625,-0.0213623046875,0.4169921875,-0.31103515625,-0.1483154296875,-0.2061767578125,-0.0274658203125,-0.01041412353515625,0.208251953125,0.265869140625,-0.059661865234375,0.1351318359375,0.41015625,0.18798828125,0.1585693359375,0.1666259765625,0.062042236328125,0.365478515625,0.0675048828125,1.240234375,0.23974609375,0.0648193359375,0.03167724609375,-0.25146484375,-0.1787109375,0.218017578125,0.02056884765625,0.093994140625,0.0246124267578125,0.07763671875,0.086181640625,0.166259765625,-0.13232421875,-0.033233642578125,-0.1883544921875,-0.164306640625,0.133544921875,0.279541015625,0.190185546875,0.31298828125,0.05291748046875,0.0062255859375,-0.0919189453125,-0.11724853515625,-0.053314208984375,0.0970458984375,-0.137451171875,0.096435546875,0.28955078125,0.126953125,0.1260986328125,0.32421875,0.1820068359375,-0.043792724609375,0.11676025390625,-0.07562255859375,-0.047119140625,-0.003513336181640625,0.10003662109375,0.011383056640625,0.0218505859375,0.16650390625,0.142822265625,0.0755615234375,-0.033935546875,0.0223388671875],[0.52685546875,0.453857421875,-0.021148681640625,0.1158447265625,0.197509765625,0.25146484375,0.0153961181640625,-0.00862884521484375,-0.348876953125,0.0009279251098632812,0.28125,0.3212890625,0.51904296875,0.1607666015625,0.25830078125,0.53857421875,0.64453125,0.216064453125,0.1322021484375,0.2366943359375,0.47509765625,0.12176513671875,0.5517578125,0.237548828125,0.06689453125,-0.009033203125,-0.232421875,0.05511474609375,0.46923828125,0.2322998046875,0.2415771484375,0.1295166015625,0.054931640625,0.1368408203125,0.2037353515625,0.052093505859375,-0.1236572265625,-0.09478759765625,-0.1529541015625,-0.0555419921875,0.087890625,0.2191162109375,0.338623046875,0.08203125,0.091796875,0.2261962890625,0.12225341796875,0.151611328125,0.12054443359375,0.135986328125,0.248779296875,0.381591796875,0.1351318359375,0.1461181640625,0.2366943359375,0.1251220703125,0.255126953125,0.208251953125,-0.032196044921875,-0.06427001953125,0.186279296875,0.212646484375,0.036285400390625,0.1151123046875,0.1878662109375,0.18701171875,0.05902099609375,0.1591796875,0.1512451171875],[0.407958984375,0.403564453125,0.09893798828125,0.051483154296875,-0.04559326171875,0.1563720703125,-0.2274169921875,-0.07232666015625,-0.1939697265625,-0.1019287109375,0.1937255859375,0.251708984375,0.358642578125,0.374755859375,0.357666015625,0.50390625,0.55224609375,0.393798828125,0.402099609375,0.309814453125,0.4736328125,0.259765625,0.47216796875,0.2445068359375,-0.1676025390625,-0.1065673828125,-0.1488037109375,0.10186767578125,0.184326171875,0.037689208984375,0.08502197265625,0.050384521484375,0.003269195556640625,-0.0831298828125,0.27734375,0.03497314453125,-0.07049560546875,0.0277862548828125,-0.089599609375,-0.2607421875,-0.1810302734375,-0.07977294921875,-0.0843505859375,-0.22802734375,-0.034759521484375,-0.09173583984375,0.0350341796875,0.074951171875,0.09808349609375,0.0124053955078125,0.31787109375,0.5625,0.169921875,0.04376220703125,0.4541015625,0.082763671875,0.07452392578125,0.1605224609375,-0.1783447265625,-0.21533203125,0.11651611328125,0.388427734375,-0.01617431640625,-0.0816650390625,-0.0577392578125,-0.161865234375,-0.09051513671875,-0.05731201171875,0.08026123046875],[0.5234375,0.214599609375,0.10784912109375,0.2357177734375,0.01096343994140625,0.398193359375,0.1024169921875,0.175048828125,0.0093994140625,0.2325439453125,0.488037109375,0.27880859375,0.2236328125,0.34619140625,0.52197265625,0.9599609375,0.84765625,0.5908203125,0.81591796875,0.76513671875,0.75537109375,0.52099609375,0.46435546875,0.035614013671875,0.22119140625,0.142578125,0.114501953125,0.393798828125,0.5244140625,0.67529296875,0.740234375,0.74169921875,0.490966796875,0.413330078125,0.576171875,0.54248046875,0.0894775390625,0.3759765625,0.58740234375,0.2255859375,0.36767578125,0.329345703125,0.358154296875,-0.11767578125,-0.068359375,-0.27197265625,-0.11346435546875,-0.13037109375,0.00634765625,0.1107177734375,0.2347412109375,0.7216796875,0.373291015625,0.408447265625,0.444091796875,0.249755859375,0.40576171875,0.568359375,0.427978515625,0.304931640625,0.56201171875,0.55029296875,0.29345703125,0.42333984375,0.448974609375,0.58251953125,0.66650390625,0.333251953125,0.1810302734375],[0.150634765625,-0.1201171875,0.0634765625,0.013427734375,0.32861328125,0.12939453125,0.141845703125,0.1236572265625,0.090087890625,0.16650390625,0.039398193359375,0.29931640625,0.00047969818115234375,0.3173828125,0.345458984375,0.63525390625,0.06658935546875,0.250244140625,0.078369140625,0.11407470703125,0.163330078125,-0.004474639892578125,-0.10198974609375,-0.1497802734375,-0.2208251953125,-0.135498046875,-0.5341796875,-0.265869140625,0.036468505859375,0.07781982421875,0.179931640625,0.1270751953125,0.157958984375,-0.006351470947265625,0.00701141357421875,0.1336669921875,-0.46826171875,-0.005374908447265625,0.058807373046875,-0.05694580078125,0.08013916015625,-0.293212890625,-0.054046630859375,-0.484619140625,-0.380126953125,-0.5205078125,-0.258056640625,-0.265380859375,-0.2161865234375,-0.0308837890625,-0.1253662109375,-0.1607666015625,-0.0556640625,0.283935546875,0.18994140625,0.050262451171875,-0.006427764892578125,0.431640625,0.179443359375,0.1815185546875,0.184814453125,0.277587890625,0.0860595703125,0.060699462890625,0.06414794921875,0.1595458984375,0.11761474609375,0.06964111328125,-0.1270751953125],[0.380859375,0.25830078125,-0.12408447265625,-0.00847625732421875,0.1793212890625,0.1629638671875,0.080078125,0.18359375,0.09661865234375,0.360595703125,0.4736328125,0.487060546875,0.06396484375,0.7890625,0.58544921875,0.80419921875,0.1666259765625,0.74267578125,0.75,0.828125,0.787109375,0.45654296875,-0.04205322265625,0.051727294921875,-0.1273193359375,-0.049774169921875,-0.33935546875,0.234130859375,0.66748046875,0.36474609375,0.308349609375,-0.04150390625,-0.060394287109375,-0.287109375,-0.10980224609375,-0.1260986328125,-0.79736328125,-0.1397705078125,0.09808349609375,-0.1263427734375,-0.0439453125,-0.40283203125,-0.287109375,-0.57666015625,-0.4697265625,-0.62353515625,-0.55078125,-0.2314453125,-0.387939453125,-0.1768798828125,-0.33056640625,-0.223876953125,0.2303466796875,0.362060546875,0.08892822265625,0.210693359375,-0.035308837890625,0.1417236328125,-0.1949462890625,-0.04266357421875,0.037139892578125,0.56494140625,0.13720703125,-0.0882568359375,0.1346435546875,-0.0802001953125,-0.2301025390625,0.42626953125,-0.381103515625],[0.765625,0.75634765625,0.332275390625,0.56494140625,0.599609375,0.56494140625,0.372802734375,0.62646484375,0.1492919921875,0.5859375,0.69189453125,0.67529296875,0.49853515625,0.80908203125,0.78173828125,1.025390625,0.4404296875,0.68017578125,0.7138671875,1.0927734375,1.0849609375,0.865234375,0.353515625,0.7421875,0.58740234375,0.481201171875,-0.0298919677734375,0.84375,0.83203125,0.625,0.33935546875,0.009796142578125,-0.1070556640625,-0.2169189453125,0.31982421875,0.101318359375,-0.52490234375,-0.19384765625,0.0823974609375,-0.383544921875,-0.147216796875,0.1451416015625,-0.245361328125,-0.54150390625,-0.357666015625,-0.2802734375,-0.276123046875,0.168701171875,0.039306640625,0.405517578125,0.485595703125,0.64306640625,0.82373046875,0.62890625,0.1221923828125,0.2548828125,0.07275390625,0.058807373046875,-0.281494140625,-0.058746337890625,0.1116943359375,0.52490234375,0.345947265625,-0.11676025390625,0.254638671875,0.0307464599609375,0.275146484375,0.87353515625,-0.13916015625],[0.8349609375,0.06402587890625,0.33544921875,0.55712890625,1.021484375,0.2474365234375,0.323974609375,-0.0269012451171875,-0.100341796875,0.77685546875,0.634765625,0.401123046875,0.346923828125,0.487548828125,0.6708984375,0.94775390625,-0.442138671875,0.76318359375,1.08203125,0.73046875,0.75830078125,0.63623046875,0.98681640625,0.65380859375,0.273193359375,0.24609375,-0.220703125,0.473388671875,0.184814453125,0.51513671875,-0.1826171875,-0.378662109375,-0.5439453125,-0.47021484375,0.033782958984375,-0.016571044921875,-1.041015625,-0.6767578125,-0.208984375,-0.8935546875,-0.94287109375,-0.26611328125,-1.2841796875,-1.2890625,-1.107421875,-1.2099609375,-0.75390625,-0.231201171875,-0.457763671875,0.09814453125,0.3505859375,0.3935546875,0.6513671875,0.66162109375,0.276123046875,0.2454833984375,0.46435546875,0.10552978515625,-0.0229644775390625,-0.1922607421875,0.7109375,0.2464599609375,0.274658203125,0.166748046875,-0.0262908935546875,0.07891845703125,0.377685546875,0.78271484375,0.2349853515625],[1.93359375,0.8583984375,0.95849609375,1.3525390625,2.01953125,1.826171875,1.11328125,0.64111328125,0.4755859375,1.4677734375,1.619140625,1.0107421875,1.919921875,1.0556640625,1.1640625,1.814453125,0.8974609375,1.7802734375,2.205078125,1.716796875,2.474609375,2.23046875,2.439453125,1.1357421875,0.31884765625,0.513671875,0.52490234375,1.6923828125,1.484375,1.84765625,0.7421875,0.42529296875,-0.252197265625,-0.0264892578125,0.470947265625,1.0751953125,-1.265625,-0.29296875,0.365478515625,-0.461181640625,-0.82177734375,0.45263671875,-0.7880859375,-0.8828125,-0.64501953125,-0.385498046875,-0.135009765625,0.61865234375,0.347900390625,0.8515625,1.2998046875,1.5537109375,1.533203125,1.455078125,1.0908203125,0.96826171875,1.0927734375,0.7744140625,1.376953125,0.9296875,1.869140625,1.54296875,1.3486328125,1.2177734375,0.81640625,0.9833984375,1.212890625,1.765625,1.3515625],[2.0390625,1.21875,1.375,1.3583984375,1.9833984375,2.380859375,0.833984375,0.482421875,0.5947265625,1.8115234375,1.25390625,0.53173828125,2.369140625,0.80224609375,1.2353515625,2.10546875,0.54736328125,1.896484375,2.427734375,2.212890625,3.373046875,1.0693359375,2.01953125,0.90087890625,-0.38232421875,-0.23046875,1.01171875,0.607421875,1.0673828125,1.2109375,-0.263427734375,-0.41357421875,-1.0185546875,0.06817626953125,0.1141357421875,1.5322265625,-1.8349609375,-1.4169921875,-0.3984375,-0.9814453125,-1.2958984375,0.84716796875,-1.09765625,-0.80419921875,-0.63232421875,-0.88330078125,0.7158203125,1.40625,0.60791015625,1.412109375,2.513671875,1.1328125,2.201171875,1.7236328125,0.94921875,0.86669921875,0.79638671875,0.62646484375,1.9384765625,0.9853515625,2.51953125,2.1796875,1.1904296875,0.81494140625,1.021484375,0.70751953125,0.94677734375,1.6103515625,1.90625],[1.7890625,1.3291015625,1.767578125,1.6572265625,2.43359375,2.685546875,1.0927734375,0.52294921875,1.4208984375,3.029296875,1.4892578125,0.7001953125,2.275390625,0.8759765625,1.7451171875,2.169921875,0.302001953125,1.9912109375,1.4775390625,2.50390625,2.7734375,0.52197265625,2.724609375,0.8564453125,-0.43017578125,-0.5546875,0.27783203125,0.4365234375,0.71240234375,0.83447265625,-0.394287109375,-0.269775390625,-1.1318359375,0.11700439453125,0.642578125,1.09765625,-2.369140625,-1.2666015625,-1.033203125,-1.3232421875,-1.1591796875,0.3779296875,-1.1806640625,-1.052734375,-0.708984375,-1.1044921875,0.458251953125,0.9892578125,0.92724609375,1.21875,1.255859375,0.29248046875,1.138671875,1.017578125,0.83203125,0.10870361328125,0.59814453125,0.50048828125,1.8603515625,1.546875,1.791015625,1.5517578125,0.94775390625,0.81884765625,1.255859375,0.365234375,0.9228515625,1.359375,1.8447265625],[0.943359375,0.46435546875,1.2880859375,0.72802734375,1.71875,3.466796875,0.484130859375,-0.0672607421875,1.025390625,3.19140625,0.837890625,0.164794921875,2.09375,0.5498046875,1.6943359375,1.4853515625,-0.0943603515625,1.7021484375,1.1328125,2.798828125,2.353515625,-0.272216796875,2.9375,0.1429443359375,-1.0185546875,-1.2666015625,0.219482421875,-0.09454345703125,-0.0799560546875,-0.002155303955078125,-1.1123046875,-0.63671875,-1.6767578125,0.1827392578125,0.578125,0.80615234375,-3.1953125,-2.4609375,-2.2109375,-2.697265625,-2.69921875,-0.85693359375,-2.34765625,-1.8505859375,-1.5205078125,-1.640625,0.41015625,1.150390625,0.97265625,1.0400390625,0.42333984375,0.0108489990234375,0.71337890625,0.92529296875,0.141357421875,-0.0135650634765625,-0.315185546875,-0.361572265625,1.6494140625,1.5546875,1.369140625,1.2919921875,0.51611328125,0.68701171875,0.87255859375,-0.010223388671875,0.59765625,0.58642578125,1.3447265625],[0.58984375,0.88330078125,0.83447265625,-0.01413726806640625,0.98583984375,3.69921875,0.018096923828125,-0.369140625,0.64990234375,2.7734375,0.5224609375,-0.239501953125,1.7978515625,0.5244140625,1.8388671875,2.00390625,0.1458740234375,1.9609375,0.56640625,2.5390625,2.30859375,-0.1156005859375,3.42578125,1.16015625,-0.91357421875,-0.98779296875,0.7666015625,-0.41357421875,-0.445556640625,-0.07855224609375,-0.8984375,-0.265380859375,-1.2412109375,1.1142578125,1.12890625,1.1533203125,-2.953125,-2.419921875,-2.21875,-2.513671875,-2.47265625,-0.91064453125,-2.50390625,-2.021484375,-1.8974609375,-1.47265625,0.1070556640625,0.70263671875,0.55078125,0.30908203125,-0.287109375,0.2431640625,0.50634765625,0.77197265625,-0.1651611328125,-0.39111328125,-0.65869140625,-0.7451171875,1.6357421875,1.8076171875,1.5146484375,1.2216796875,0.9375,1.5048828125,1.5166015625,-0.250244140625,0.34619140625,0.415283203125,1.2177734375],[0.0848388671875,0.53662109375,0.61572265625,-0.67041015625,0.1507568359375,2.837890625,-0.37548828125,-0.66650390625,-0.258544921875,2.361328125,-0.2064208984375,-1.0263671875,1.0888671875,-0.5625,1.2216796875,1.171875,0.07464599609375,1.28125,0.0625,2.59375,1.9287109375,-0.0034656524658203125,3.20703125,0.79443359375,-1.1337890625,-1.703125,0.6259765625,-0.2734375,-1.0400390625,-0.57568359375,-1.8408203125,-0.63330078125,-1.7548828125,0.61474609375,0.7626953125,-0.08697509765625,-3.34375,-2.607421875,-2.8828125,-2.6953125,-2.59375,-1.0966796875,-2.763671875,-2.34765625,-2.486328125,-2.130859375,0.111083984375,0.81591796875,0.08843994140625,-0.55908203125,-0.97314453125,0.3212890625,0.441162109375,0.55224609375,0.07781982421875,-0.370361328125,-0.125732421875,-0.51806640625,1.4814453125,1.2822265625,0.82568359375,0.716796875,0.349853515625,1.1650390625,1.048828125,-0.515625,0.1824951171875,-0.197021484375,-0.005126953125],[0.51025390625,1.1591796875,0.9873046875,0.1082763671875,0.085693359375,1.8701171875,-0.312255859375,-1.1103515625,-0.7958984375,2.11328125,0.35205078125,0.08526611328125,0.5625,0.54443359375,1.1630859375,1.447265625,0.2418212890625,1.478515625,0.496337890625,2.45703125,1.6630859375,0.11578369140625,3.083984375,1.9287109375,-0.775390625,-0.72509765625,0.91259765625,-0.406982421875,-1.208984375,-0.411376953125,-1.29296875,-0.06414794921875,-1.1455078125,1.111328125,1.2109375,0.28271484375,-2.513671875,-2.271484375,-2.783203125,-2.716796875,-2.486328125,-0.66455078125,-2.693359375,-2.529296875,-2.791015625,-2.5390625,0.216064453125,0.923828125,-0.8046875,-1.3291015625,-1.1923828125,0.3525390625,0.336181640625,0.97705078125,-0.23974609375,-0.451904296875,-0.92919921875,-0.2322998046875,1.3056640625,1.375,0.4658203125,0.2447509765625,-0.48583984375,0.252197265625,0.74169921875,-1.00390625,-0.39794921875,-0.3544921875,-1.5927734375],[-0.79345703125,0.67041015625,0.11505126953125,-1.080078125,-0.90673828125,-0.99462890625,-1.9677734375,-2.421875,-1.67578125,0.4443359375,-0.91455078125,-0.6064453125,-1.7890625,0.0416259765625,0.355224609375,-0.23291015625,-1.6025390625,-0.28076171875,-0.56982421875,0.716796875,0.10614013671875,-0.82568359375,1.4638671875,0.452392578125,-1.59765625,-1.1455078125,-0.07977294921875,-1.3310546875,-1.470703125,-0.96044921875,-1.9931640625,-1.248046875,-2.748046875,-0.1461181640625,-0.1287841796875,-1.2841796875,-3.36328125,-3.0234375,-4.0,-3.69140625,-3.296875,-1.83203125,-3.650390625,-3.76953125,-4.21484375,-3.728515625,-1.2275390625,-0.560546875,-2.765625,-2.958984375,-2.71484375,-0.97265625,-0.19091796875,0.73974609375,-1.7314453125,-1.552734375,-2.349609375,-1.1787109375,-0.240966796875,-0.2242431640625,-1.271484375,-1.6240234375,-2.2109375,-1.591796875,-0.9228515625,-2.2578125,-1.435546875,-1.6943359375,-3.287109375],[0.80517578125,1.53125,1.025390625,-0.306640625,1.37890625,-3.3515625,-0.279541015625,-0.6572265625,-0.056671142578125,1.0732421875,0.288330078125,0.8271484375,-1.8935546875,1.330078125,1.623046875,-0.51904296875,-2.40234375,-0.84619140625,0.460693359375,-0.249267578125,0.42529296875,0.42919921875,0.23193359375,0.53271484375,-0.005859375,-0.03875732421875,-0.06365966796875,-0.515625,0.037841796875,0.1492919921875,-1.1669921875,-0.2467041015625,-2.279296875,-0.040618896484375,0.5546875,-1.0380859375,-2.263671875,-1.650390625,-3.146484375,-2.373046875,-2.501953125,-1.4013671875,-3.142578125,-3.69921875,-4.6875,-2.685546875,-1.7880859375,-0.90478515625,-3.142578125,-3.63671875,-3.21875,-0.91552734375,0.31494140625,2.046875,-1.6982421875,-1.3037109375,-2.02734375,-1.2978515625,-1.4208984375,-1.119140625,-2.361328125,-2.80859375,-2.60546875,-2.333984375,-2.63671875,-2.671875,-1.861328125,-0.595703125,-4.203125],[-1.3046875,-0.6201171875,-0.587890625,-2.3984375,-0.4150390625,-5.21484375,-2.498046875,-2.58203125,-1.5595703125,-0.5087890625,-1.8486328125,-0.412353515625,-4.29296875,0.01192474365234375,0.29150390625,-3.1796875,-4.3359375,-3.09375,-1.525390625,-2.94140625,-1.4990234375,-1.720703125,-1.7783203125,-1.85546875,-2.228515625,-2.66796875,-2.173828125,-2.5390625,-1.8037109375,-2.025390625,-3.22265625,-2.919921875,-4.8125,-1.9169921875,-1.5546875,-3.126953125,-3.38671875,-3.642578125,-5.2265625,-4.36328125,-4.2421875,-3.4140625,-5.7734375,-5.4375,-6.67578125,-4.109375,-3.970703125,-3.2109375,-4.83203125,-6.015625,-4.65234375,-3.423828125,-1.6171875,0.46142578125,-3.556640625,-3.509765625,-4.12109375,-3.322265625,-3.455078125,-3.2578125,-4.23828125,-4.60546875,-4.22265625,-4.6171875,-4.83203125,-4.7890625,-4.23046875,-2.34375,-6.4609375],[-0.8740234375,-0.38134765625,-0.9658203125,-2.576171875,-0.66748046875,-5.22265625,-2.759765625,-2.568359375,-1.724609375,-0.95751953125,-1.6552734375,-0.52783203125,-4.140625,-0.319091796875,0.0005030632019042969,-1.8095703125,-3.875,-4.09375,-1.576171875,-3.111328125,-2.052734375,-2.333984375,-1.4189453125,-1.6796875,-1.9755859375,-1.724609375,-2.267578125,-2.62109375,-1.1572265625,-1.6826171875,-3.056640625,-2.587890625,-4.69140625,-1.326171875,-0.6279296875,-2.5,-2.53125,-2.802734375,-4.90625,-3.61328125,-3.34375,-2.751953125,-4.80859375,-5.171875,-5.98046875,-3.80078125,-3.146484375,-2.421875,-4.14453125,-5.75390625,-4.25,-3.17578125,-1.873046875,0.1268310546875,-3.064453125,-3.03125,-3.599609375,-3.17578125,-3.08984375,-3.619140625,-4.23046875,-4.8125,-3.9453125,-4.8359375,-5.328125,-4.65234375,-3.984375,-0.94970703125,-5.64453125],[-0.333984375,-0.98095703125,-0.445068359375,-2.232421875,-0.38232421875,-4.265625,-1.93359375,-2.02734375,-1.6455078125,-0.421875,-0.60302734375,-0.33837890625,-3.22265625,-0.17822265625,-0.54443359375,-1.5068359375,-2.8203125,-4.42578125,-1.154296875,-2.78125,-0.9658203125,-1.80859375,-0.43310546875,-0.423583984375,-1.2529296875,-0.93701171875,-1.64453125,-2.552734375,-0.87109375,-0.89306640625,-2.349609375,-2.216796875,-4.19140625,-0.96142578125,-0.392578125,-2.44140625,-2.09765625,-2.73046875,-4.94140625,-2.91015625,-2.7734375,-1.8798828125,-3.94921875,-4.68359375,-5.67578125,-2.953125,-2.193359375,-1.404296875,-3.818359375,-4.9453125,-3.193359375,-2.267578125,-1.43359375,0.216064453125,-2.330078125,-2.830078125,-3.19140625,-2.62890625,-2.8046875,-3.42578125,-3.53515625,-4.21484375,-3.544921875,-4.37890625,-5.171875,-4.33984375,-3.71875,-0.7421875,-4.98046875],[-2.13671875,-2.193359375,-2.1640625,-3.591796875,-0.966796875,-6.6875,-2.474609375,-2.203125,-2.216796875,-1.498046875,-1.9208984375,-1.6240234375,-5.94921875,-1.185546875,-2.1796875,-1.849609375,-5.203125,-8.0234375,-2.890625,-5.22265625,-4.27734375,-2.763671875,-1.33203125,-1.314453125,-2.943359375,-2.48828125,-4.22265625,-3.04296875,-0.9765625,-2.28125,-3.41796875,-3.197265625,-5.07421875,-1.7177734375,-1.361328125,-2.904296875,-3.185546875,-2.787109375,-4.953125,-3.2265625,-2.912109375,-2.70703125,-3.0,-4.24609375,-5.51953125,-2.263671875,-4.0234375,-3.853515625,-3.662109375,-4.74609375,-4.45703125,-3.720703125,-3.728515625,-0.89208984375,-3.99609375,-5.08203125,-4.8203125,-3.966796875,-4.84375,-6.25390625,-6.01953125,-6.38671875,-5.43359375,-6.44140625,-8.875,-6.99609375,-6.24609375,-0.436279296875,-7.1640625],[-2.412109375,-1.80859375,-1.2490234375,-3.4453125,-0.453857421875,-5.046875,-2.193359375,-1.6689453125,-1.2041015625,-0.2015380859375,-1.943359375,-0.76171875,-4.90234375,-0.53173828125,-1.4970703125,-0.37109375,-3.8828125,-7.2578125,-2.921875,-4.3828125,-3.716796875,-2.009765625,-0.54345703125,-0.3349609375,-2.50390625,-1.990234375,-3.10546875,-2.2734375,0.1575927734375,-0.73046875,-3.0234375,-2.287109375,-4.36328125,-0.82568359375,-1.1865234375,-2.38671875,-2.017578125,-2.13671875,-4.1953125,-2.138671875,-1.5068359375,-2.16796875,-2.251953125,-2.9765625,-4.3203125,-1.830078125,-2.271484375,-2.822265625,-2.73046875,-4.54296875,-3.42578125,-2.828125,-2.814453125,-0.466796875,-3.33203125,-4.8359375,-4.51171875,-3.17578125,-4.10546875,-6.08203125,-5.16796875,-5.6484375,-4.92578125,-6.578125,-7.83203125,-6.16015625,-5.07421875,0.2447509765625,-6.50390625],[-4.73828125,-3.951171875,-3.283203125,-5.4453125,-3.22265625,-6.08203125,-4.45703125,-4.19140625,-3.431640625,-2.880859375,-3.826171875,-3.197265625,-5.18359375,-2.609375,-2.80078125,-2.78125,-5.21484375,-7.9375,-4.8046875,-6.0390625,-5.70703125,-3.806640625,-1.240234375,-1.533203125,-4.171875,-4.25390625,-4.80078125,-4.28515625,-2.056640625,-2.4453125,-4.85546875,-4.3359375,-6.5859375,-2.0625,-2.921875,-4.640625,-4.3125,-4.296875,-5.83203125,-3.619140625,-3.703125,-4.94140625,-4.609375,-5.234375,-5.85546875,-3.81640625,-4.6953125,-4.64453125,-4.73046875,-5.98046875,-5.4453125,-4.6640625,-5.60546875,-3.072265625,-5.2890625,-6.75,-6.39453125,-5.34375,-6.4453125,-8.03125,-6.7421875,-6.96875,-7.2265625,-8.921875,-9.2265625,-8.046875,-6.12109375,-0.9609375,-7.10546875],[-0.86669921875,-0.75048828125,0.31982421875,-1.2578125,-1.271484375,-0.61669921875,-2.6015625,-1.130859375,-1.779296875,1.115234375,-1.2451171875,-2.0625,0.1197509765625,-0.354248046875,-0.349365234375,-0.304443359375,-1.875,-3.177734375,-2.427734375,-1.8828125,-2.193359375,-1.5419921875,2.7578125,1.7880859375,-2.234375,-2.1640625,-1.3642578125,-2.0859375,-1.7685546875,-1.1640625,-2.837890625,-3.36328125,-4.59765625,0.64013671875,0.05450439453125,-2.12109375,-3.044921875,-3.22265625,-5.09765625,-1.9677734375,-2.8984375,-3.158203125,-3.0625,-4.44921875,-4.15625,-1.83984375,-1.099609375,-0.11358642578125,-2.89453125,-3.755859375,-1.712890625,-0.953125,-2.5,0.288330078125,-2.224609375,-3.02734375,-4.01171875,-3.19921875,-2.029296875,-2.734375,-3.44140625,-3.291015625,-3.10546875,-4.4453125,-4.44140625,-3.798828125,-2.57421875,-0.30224609375,-3.880859375],[1.1689453125,0.1728515625,2.03125,0.361083984375,-0.9521484375,3.861328125,-1.9658203125,-0.77978515625,-0.36279296875,3.8359375,1.2021484375,-2.05859375,3.150390625,0.086669921875,1.7548828125,1.4150390625,1.625,0.051177978515625,-0.497314453125,0.43212890625,0.491455078125,-0.595703125,4.546875,3.23046875,-1.2880859375,-0.64111328125,0.2479248046875,-1.546875,-2.439453125,-0.93115234375,-1.240234375,-2.673828125,-4.359375,2.20703125,1.5126953125,-0.473388671875,-3.0390625,-3.564453125,-6.15625,-2.265625,-1.4892578125,-2.822265625,-1.6748046875,-3.642578125,-2.525390625,-1.3046875,1.5908203125,3.056640625,-2.373046875,-2.509765625,0.50341796875,3.931640625,-0.7978515625,2.998046875,-1.169921875,-0.9931640625,-2.435546875,-1.9462890625,1.1259765625,1.525390625,-0.4736328125,0.451416015625,-0.9560546875,-2.20703125,-1.984375,-1.1064453125,-0.200439453125,-0.509765625,-1.583984375],[2.7109375,0.8359375,2.0703125,0.25048828125,-3.6328125,-0.484375,-1.4951171875,0.97607421875,-0.28369140625,5.79296875,5.87109375,-4.19921875,4.90625,1.634765625,5.7578125,0.52490234375,1.26171875,-2.736328125,3.556640625,-2.380859375,0.1944580078125,0.87841796875,3.591796875,3.138671875,-2.443359375,-1.2490234375,-2.24609375,-5.67578125,-7.5703125,-2.328125,-2.98828125,-5.26953125,-5.03125,3.1328125,-0.032196044921875,-1.865234375,-3.412109375,-8.1328125,-14.4453125,-1.6591796875,-6.52734375,-4.48828125,-10.1328125,-9.421875,-4.9140625,-7.32421875,0.5537109375,3.9140625,-12.3203125,-9.0234375,1.419921875,8.5,4.8359375,8.59375,0.2225341796875,-3.99609375,-2.611328125,-2.939453125,3.802734375,1.625,1.0771484375,1.5087890625,0.99072265625,-1.6259765625,-3.921875,-0.52392578125,2.1875,0.0848388671875,1.5546875]],\"type\":\"heatmap\",\"xaxis\":\"x\",\"yaxis\":\"y\",\"hovertemplate\":\"Token: %{x}\\u003cbr\\u003ey: %{y}\\u003cbr\\u003ecolor: %{z}\\u003cextra\\u003e\\u003c\\u002fextra\\u003e\"}],                        {\"template\":{\"data\":{\"histogram2dcontour\":[{\"type\":\"histogram2dcontour\",\"colorbar\":{\"outlinewidth\":0,\"ticks\":\"\"},\"colorscale\":[[0.0,\"#0d0887\"],[0.1111111111111111,\"#46039f\"],[0.2222222222222222,\"#7201a8\"],[0.3333333333333333,\"#9c179e\"],[0.4444444444444444,\"#bd3786\"],[0.5555555555555556,\"#d8576b\"],[0.6666666666666666,\"#ed7953\"],[0.7777777777777778,\"#fb9f3a\"],[0.8888888888888888,\"#fdca26\"],[1.0,\"#f0f921\"]]}],\"choropleth\":[{\"type\":\"choropleth\",\"colorbar\":{\"outlinewidth\":0,\"ticks\":\"\"}}],\"histogram2d\":[{\"type\":\"histogram2d\",\"colorbar\":{\"outlinewidth\":0,\"ticks\":\"\"},\"colorscale\":[[0.0,\"#0d0887\"],[0.1111111111111111,\"#46039f\"],[0.2222222222222222,\"#7201a8\"],[0.3333333333333333,\"#9c179e\"],[0.4444444444444444,\"#bd3786\"],[0.5555555555555556,\"#d8576b\"],[0.6666666666666666,\"#ed7953\"],[0.7777777777777778,\"#fb9f3a\"],[0.8888888888888888,\"#fdca26\"],[1.0,\"#f0f921\"]]}],\"heatmap\":[{\"type\":\"heatmap\",\"colorbar\":{\"outlinewidth\":0,\"ticks\":\"\"},\"colorscale\":[[0.0,\"#0d0887\"],[0.1111111111111111,\"#46039f\"],[0.2222222222222222,\"#7201a8\"],[0.3333333333333333,\"#9c179e\"],[0.4444444444444444,\"#bd3786\"],[0.5555555555555556,\"#d8576b\"],[0.6666666666666666,\"#ed7953\"],[0.7777777777777778,\"#fb9f3a\"],[0.8888888888888888,\"#fdca26\"],[1.0,\"#f0f921\"]]}],\"heatmapgl\":[{\"type\":\"heatmapgl\",\"colorbar\":{\"outlinewidth\":0,\"ticks\":\"\"},\"colorscale\":[[0.0,\"#0d0887\"],[0.1111111111111111,\"#46039f\"],[0.2222222222222222,\"#7201a8\"],[0.3333333333333333,\"#9c179e\"],[0.4444444444444444,\"#bd3786\"],[0.5555555555555556,\"#d8576b\"],[0.6666666666666666,\"#ed7953\"],[0.7777777777777778,\"#fb9f3a\"],[0.8888888888888888,\"#fdca26\"],[1.0,\"#f0f921\"]]}],\"contourcarpet\":[{\"type\":\"contourcarpet\",\"colorbar\":{\"outlinewidth\":0,\"ticks\":\"\"}}],\"contour\":[{\"type\":\"contour\",\"colorbar\":{\"outlinewidth\":0,\"ticks\":\"\"},\"colorscale\":[[0.0,\"#0d0887\"],[0.1111111111111111,\"#46039f\"],[0.2222222222222222,\"#7201a8\"],[0.3333333333333333,\"#9c179e\"],[0.4444444444444444,\"#bd3786\"],[0.5555555555555556,\"#d8576b\"],[0.6666666666666666,\"#ed7953\"],[0.7777777777777778,\"#fb9f3a\"],[0.8888888888888888,\"#fdca26\"],[1.0,\"#f0f921\"]]}],\"surface\":[{\"type\":\"surface\",\"colorbar\":{\"outlinewidth\":0,\"ticks\":\"\"},\"colorscale\":[[0.0,\"#0d0887\"],[0.1111111111111111,\"#46039f\"],[0.2222222222222222,\"#7201a8\"],[0.3333333333333333,\"#9c179e\"],[0.4444444444444444,\"#bd3786\"],[0.5555555555555556,\"#d8576b\"],[0.6666666666666666,\"#ed7953\"],[0.7777777777777778,\"#fb9f3a\"],[0.8888888888888888,\"#fdca26\"],[1.0,\"#f0f921\"]]}],\"mesh3d\":[{\"type\":\"mesh3d\",\"colorbar\":{\"outlinewidth\":0,\"ticks\":\"\"}}],\"scatter\":[{\"fillpattern\":{\"fillmode\":\"overlay\",\"size\":10,\"solidity\":0.2},\"type\":\"scatter\"}],\"parcoords\":[{\"type\":\"parcoords\",\"line\":{\"colorbar\":{\"outlinewidth\":0,\"ticks\":\"\"}}}],\"scatterpolargl\":[{\"type\":\"scatterpolargl\",\"marker\":{\"colorbar\":{\"outlinewidth\":0,\"ticks\":\"\"}}}],\"bar\":[{\"error_x\":{\"color\":\"#2a3f5f\"},\"error_y\":{\"color\":\"#2a3f5f\"},\"marker\":{\"line\":{\"color\":\"#E5ECF6\",\"width\":0.5},\"pattern\":{\"fillmode\":\"overlay\",\"size\":10,\"solidity\":0.2}},\"type\":\"bar\"}],\"scattergeo\":[{\"type\":\"scattergeo\",\"marker\":{\"colorbar\":{\"outlinewidth\":0,\"ticks\":\"\"}}}],\"scatterpolar\":[{\"type\":\"scatterpolar\",\"marker\":{\"colorbar\":{\"outlinewidth\":0,\"ticks\":\"\"}}}],\"histogram\":[{\"marker\":{\"pattern\":{\"fillmode\":\"overlay\",\"size\":10,\"solidity\":0.2}},\"type\":\"histogram\"}],\"scattergl\":[{\"type\":\"scattergl\",\"marker\":{\"colorbar\":{\"outlinewidth\":0,\"ticks\":\"\"}}}],\"scatter3d\":[{\"type\":\"scatter3d\",\"line\":{\"colorbar\":{\"outlinewidth\":0,\"ticks\":\"\"}},\"marker\":{\"colorbar\":{\"outlinewidth\":0,\"ticks\":\"\"}}}],\"scattermapbox\":[{\"type\":\"scattermapbox\",\"marker\":{\"colorbar\":{\"outlinewidth\":0,\"ticks\":\"\"}}}],\"scatterternary\":[{\"type\":\"scatterternary\",\"marker\":{\"colorbar\":{\"outlinewidth\":0,\"ticks\":\"\"}}}],\"scattercarpet\":[{\"type\":\"scattercarpet\",\"marker\":{\"colorbar\":{\"outlinewidth\":0,\"ticks\":\"\"}}}],\"carpet\":[{\"aaxis\":{\"endlinecolor\":\"#2a3f5f\",\"gridcolor\":\"white\",\"linecolor\":\"white\",\"minorgridcolor\":\"white\",\"startlinecolor\":\"#2a3f5f\"},\"baxis\":{\"endlinecolor\":\"#2a3f5f\",\"gridcolor\":\"white\",\"linecolor\":\"white\",\"minorgridcolor\":\"white\",\"startlinecolor\":\"#2a3f5f\"},\"type\":\"carpet\"}],\"table\":[{\"cells\":{\"fill\":{\"color\":\"#EBF0F8\"},\"line\":{\"color\":\"white\"}},\"header\":{\"fill\":{\"color\":\"#C8D4E3\"},\"line\":{\"color\":\"white\"}},\"type\":\"table\"}],\"barpolar\":[{\"marker\":{\"line\":{\"color\":\"#E5ECF6\",\"width\":0.5},\"pattern\":{\"fillmode\":\"overlay\",\"size\":10,\"solidity\":0.2}},\"type\":\"barpolar\"}],\"pie\":[{\"automargin\":true,\"type\":\"pie\"}]},\"layout\":{\"autotypenumbers\":\"strict\",\"colorway\":[\"#636efa\",\"#EF553B\",\"#00cc96\",\"#ab63fa\",\"#FFA15A\",\"#19d3f3\",\"#FF6692\",\"#B6E880\",\"#FF97FF\",\"#FECB52\"],\"font\":{\"color\":\"#2a3f5f\"},\"hovermode\":\"closest\",\"hoverlabel\":{\"align\":\"left\"},\"paper_bgcolor\":\"white\",\"plot_bgcolor\":\"#E5ECF6\",\"polar\":{\"bgcolor\":\"#E5ECF6\",\"angularaxis\":{\"gridcolor\":\"white\",\"linecolor\":\"white\",\"ticks\":\"\"},\"radialaxis\":{\"gridcolor\":\"white\",\"linecolor\":\"white\",\"ticks\":\"\"}},\"ternary\":{\"bgcolor\":\"#E5ECF6\",\"aaxis\":{\"gridcolor\":\"white\",\"linecolor\":\"white\",\"ticks\":\"\"},\"baxis\":{\"gridcolor\":\"white\",\"linecolor\":\"white\",\"ticks\":\"\"},\"caxis\":{\"gridcolor\":\"white\",\"linecolor\":\"white\",\"ticks\":\"\"}},\"coloraxis\":{\"colorbar\":{\"outlinewidth\":0,\"ticks\":\"\"}},\"colorscale\":{\"sequential\":[[0.0,\"#0d0887\"],[0.1111111111111111,\"#46039f\"],[0.2222222222222222,\"#7201a8\"],[0.3333333333333333,\"#9c179e\"],[0.4444444444444444,\"#bd3786\"],[0.5555555555555556,\"#d8576b\"],[0.6666666666666666,\"#ed7953\"],[0.7777777777777778,\"#fb9f3a\"],[0.8888888888888888,\"#fdca26\"],[1.0,\"#f0f921\"]],\"sequentialminus\":[[0.0,\"#0d0887\"],[0.1111111111111111,\"#46039f\"],[0.2222222222222222,\"#7201a8\"],[0.3333333333333333,\"#9c179e\"],[0.4444444444444444,\"#bd3786\"],[0.5555555555555556,\"#d8576b\"],[0.6666666666666666,\"#ed7953\"],[0.7777777777777778,\"#fb9f3a\"],[0.8888888888888888,\"#fdca26\"],[1.0,\"#f0f921\"]],\"diverging\":[[0,\"#8e0152\"],[0.1,\"#c51b7d\"],[0.2,\"#de77ae\"],[0.3,\"#f1b6da\"],[0.4,\"#fde0ef\"],[0.5,\"#f7f7f7\"],[0.6,\"#e6f5d0\"],[0.7,\"#b8e186\"],[0.8,\"#7fbc41\"],[0.9,\"#4d9221\"],[1,\"#276419\"]]},\"xaxis\":{\"gridcolor\":\"white\",\"linecolor\":\"white\",\"ticks\":\"\",\"title\":{\"standoff\":15},\"zerolinecolor\":\"white\",\"automargin\":true,\"zerolinewidth\":2},\"yaxis\":{\"gridcolor\":\"white\",\"linecolor\":\"white\",\"ticks\":\"\",\"title\":{\"standoff\":15},\"zerolinecolor\":\"white\",\"automargin\":true,\"zerolinewidth\":2},\"scene\":{\"xaxis\":{\"backgroundcolor\":\"#E5ECF6\",\"gridcolor\":\"white\",\"linecolor\":\"white\",\"showbackground\":true,\"ticks\":\"\",\"zerolinecolor\":\"white\",\"gridwidth\":2},\"yaxis\":{\"backgroundcolor\":\"#E5ECF6\",\"gridcolor\":\"white\",\"linecolor\":\"white\",\"showbackground\":true,\"ticks\":\"\",\"zerolinecolor\":\"white\",\"gridwidth\":2},\"zaxis\":{\"backgroundcolor\":\"#E5ECF6\",\"gridcolor\":\"white\",\"linecolor\":\"white\",\"showbackground\":true,\"ticks\":\"\",\"zerolinecolor\":\"white\",\"gridwidth\":2}},\"shapedefaults\":{\"line\":{\"color\":\"#2a3f5f\"}},\"annotationdefaults\":{\"arrowcolor\":\"#2a3f5f\",\"arrowhead\":0,\"arrowwidth\":1},\"geo\":{\"bgcolor\":\"white\",\"landcolor\":\"#E5ECF6\",\"subunitcolor\":\"white\",\"showland\":true,\"showlakes\":true,\"lakecolor\":\"white\"},\"title\":{\"x\":0.05},\"mapbox\":{\"style\":\"light\"}}},\"xaxis\":{\"anchor\":\"y\",\"domain\":[0.0,1.0],\"scaleanchor\":\"y\",\"constrain\":\"domain\",\"title\":{\"text\":\"Token\"},\"tickvals\":[0,1,2,3,4,5,6,7,8,9,10,11,12,13,14,15,16,17,18,19,20,21,22,23,24,25,26,27,28,29,30,31,32,33,34,35,36,37,38,39,40,41,42,43,44,45,46,47,48,49,50,51,52,53,54,55,56,57,58,59,60,61,62,63,64,65,66,67,68,69],\"ticktext\":[\"\\u2581\",\"\\u2581Of\",\"\\u2581course\",\",\",\"\\u2581I\",\"'\",\"d\",\"\\u2581be\",\"\\u2581happy\",\"\\u2581to\",\"!\",\"\\u2581Here\",\"'\",\"s\",\"\\u2581a\",\"\\u2581fasc\",\"in\",\"ating\",\"\\u2581fact\",\"\\u2581about\",\"\\u2581humans\",\":\",\"\\u003c0x0A\\u003e\",\"\\u003c0x0A\\u003e\",\"Did\",\"\\u2581you\",\"\\u2581know\",\"\\u2581that\",\"\\u2581humans\",\"\\u2581are\",\"\\u2581the\",\"\\u2581only\",\"\\u2581species\",\"\\u2581in\",\"\\u2581the\",\"\\u2581animal\",\"\\u2581kingdom\",\"\\u2581to\",\"\\u2581have\",\"\\u2581lost\",\"\\u2581their\",\"\\u2581ability\",\"\\u2581to\",\"\\u2581develop\",\"\\u2581a\",\"\\u2581natural\",\"\\u2581defense\",\"\\u2581mechanism\",\"\\u2581against\",\"\\u2581heart\",\"\\u2581disease\",\"?\",\"\\u2581This\",\"\\u2581is\",\"\\u2581because\",\"\\u2581of\",\"\\u2581our\",\"\\u2581unique\",\"\\u2581evolution\",\"ary\",\"\\u2581history\",\",\",\"\\u2581which\",\"\\u2581has\",\"\\u2581led\",\"\\u2581to\",\"\\u2581a\",\"\\u2581di\",\"et\",\"\\u2581rich\"]},\"yaxis\":{\"anchor\":\"x\",\"domain\":[0.0,1.0],\"autorange\":\"reversed\",\"constrain\":\"domain\"},\"coloraxis\":{\"colorscale\":[[0.0,\"rgb(165,0,38)\"],[0.1,\"rgb(215,48,39)\"],[0.2,\"rgb(244,109,67)\"],[0.3,\"rgb(253,174,97)\"],[0.4,\"rgb(254,224,139)\"],[0.5,\"rgb(255,255,191)\"],[0.6,\"rgb(217,239,139)\"],[0.7,\"rgb(166,217,106)\"],[0.8,\"rgb(102,189,99)\"],[0.9,\"rgb(26,152,80)\"],[1.0,\"rgb(0,104,55)\"]],\"cmin\":-3,\"cmax\":3},\"margin\":{\"t\":60},\"width\":1000,\"height\":600},                        {\"responsive\": true}                    ).then(function(){\n",
       "                            \n",
       "var gd = document.getElementById('dcfec1ac-ac22-44d5-90a4-f86fbb0e1fce');\n",
       "var x = new MutationObserver(function (mutations, observer) {{\n",
       "        var display = window.getComputedStyle(gd).display;\n",
       "        if (!display || display === 'none') {{\n",
       "            console.log([gd, 'removed!']);\n",
       "            Plotly.purge(gd);\n",
       "            observer.disconnect();\n",
       "        }}\n",
       "}});\n",
       "\n",
       "// Listen for the removal of the full notebook cells\n",
       "var notebookContainer = gd.closest('#notebook-container');\n",
       "if (notebookContainer) {{\n",
       "    x.observe(notebookContainer, {childList: true});\n",
       "}}\n",
       "\n",
       "// Listen for the clearing of the current output cell\n",
       "var outputEl = gd.closest('.output');\n",
       "if (outputEl) {{\n",
       "    x.observe(outputEl, {childList: true});\n",
       "}}\n",
       "\n",
       "                        })                };                });            </script>        </div>"
      ]
     },
     "metadata": {},
     "output_type": "display_data"
    }
   ],
   "source": [
    "from lmdoctor.plot_utils import plot_projection_heatmap\n",
    "tokens = tokenizer.tokenize(text)\n",
    "plot_projection_heatmap(all_projs, tokens, lastn_tokens_to_plot=max_new_tokens, saturate_at=3)"
   ]
  },
  {
   "cell_type": "code",
   "execution_count": 55,
   "id": "379fe7a4-3698-4594-a3d3-b8d74491c58b",
   "metadata": {},
   "outputs": [
    {
     "name": "stderr",
     "output_type": "stream",
     "text": [
      "WARNING - It is generally recommended to use detect_by_classifier instead of detect_by_layer_avg. To do so, use self.tune() to train a classifier and then pass the classifier to detect.\n"
     ]
    },
    {
     "data": {
      "application/vnd.plotly.v1+json": {
       "config": {
        "plotlyServerURL": "https://plot.ly"
       },
       "data": [
        {
         "coloraxis": "coloraxis",
         "hovertemplate": "Token: %{x}<br>y: %{y}<br>color: %{z}<extra></extra>",
         "name": "0",
         "type": "heatmap",
         "xaxis": "x",
         "yaxis": "y",
         "z": [
          [
           -2.349609375,
           -1.994140625,
           -2.5390625,
           -1.353515625,
           1.076171875,
           -1.87109375,
           -2.908203125,
           -1.2421875,
           -1.0859375,
           -0.92626953125,
           -4.4140625,
           -2.00390625,
           -0.07177734375,
           -0.70068359375,
           -0.8857421875,
           -1.7109375,
           -3.08203125,
           -6.71484375,
           -8.609375,
           -10.78125,
           -5.47265625,
           -4.578125,
           -1.8720703125,
           -2.2109375,
           -5.44140625,
           -1.720703125,
           -5.4609375,
           -6.90625,
           -5.5,
           -3.005859375,
           -2.822265625,
           -4.12109375,
           -4.09765625,
           -5,
           -3.791015625,
           -3.09375,
           -1.83984375,
           -2.2421875,
           -2.880859375,
           -5.4453125,
           -4.34765625,
           -3.705078125,
           -2.5234375,
           -2.22265625,
           -2.830078125,
           -2.939453125,
           -1.0712890625,
           -3.431640625,
           -3.65625,
           -2.359375,
           -1.4658203125,
           -3.267578125,
           -2.63671875,
           -2.5078125,
           -2.837890625,
           -1.9267578125,
           -2.5546875,
           -2.287109375,
           -2.22265625,
           -1.5322265625,
           -1.29296875,
           0.58544921875,
           -2.888671875,
           -2.4609375,
           -3.55078125,
           -4.5234375,
           -5.71875,
           -4.3203125,
           -4.1484375
          ]
         ]
        }
       ],
       "layout": {
        "autosize": true,
        "coloraxis": {
         "cmax": 10.78125,
         "cmin": -10.78125,
         "colorscale": [
          [
           0,
           "rgb(165,0,38)"
          ],
          [
           0.1,
           "rgb(215,48,39)"
          ],
          [
           0.2,
           "rgb(244,109,67)"
          ],
          [
           0.3,
           "rgb(253,174,97)"
          ],
          [
           0.4,
           "rgb(254,224,139)"
          ],
          [
           0.5,
           "rgb(255,255,191)"
          ],
          [
           0.6,
           "rgb(217,239,139)"
          ],
          [
           0.7,
           "rgb(166,217,106)"
          ],
          [
           0.8,
           "rgb(102,189,99)"
          ],
          [
           0.9,
           "rgb(26,152,80)"
          ],
          [
           1,
           "rgb(0,104,55)"
          ]
         ]
        },
        "margin": {
         "t": 60
        },
        "template": {
         "data": {
          "bar": [
           {
            "error_x": {
             "color": "#2a3f5f"
            },
            "error_y": {
             "color": "#2a3f5f"
            },
            "marker": {
             "line": {
              "color": "#E5ECF6",
              "width": 0.5
             },
             "pattern": {
              "fillmode": "overlay",
              "size": 10,
              "solidity": 0.2
             }
            },
            "type": "bar"
           }
          ],
          "barpolar": [
           {
            "marker": {
             "line": {
              "color": "#E5ECF6",
              "width": 0.5
             },
             "pattern": {
              "fillmode": "overlay",
              "size": 10,
              "solidity": 0.2
             }
            },
            "type": "barpolar"
           }
          ],
          "carpet": [
           {
            "aaxis": {
             "endlinecolor": "#2a3f5f",
             "gridcolor": "white",
             "linecolor": "white",
             "minorgridcolor": "white",
             "startlinecolor": "#2a3f5f"
            },
            "baxis": {
             "endlinecolor": "#2a3f5f",
             "gridcolor": "white",
             "linecolor": "white",
             "minorgridcolor": "white",
             "startlinecolor": "#2a3f5f"
            },
            "type": "carpet"
           }
          ],
          "choropleth": [
           {
            "colorbar": {
             "outlinewidth": 0,
             "ticks": ""
            },
            "type": "choropleth"
           }
          ],
          "contour": [
           {
            "colorbar": {
             "outlinewidth": 0,
             "ticks": ""
            },
            "colorscale": [
             [
              0,
              "#0d0887"
             ],
             [
              0.1111111111111111,
              "#46039f"
             ],
             [
              0.2222222222222222,
              "#7201a8"
             ],
             [
              0.3333333333333333,
              "#9c179e"
             ],
             [
              0.4444444444444444,
              "#bd3786"
             ],
             [
              0.5555555555555556,
              "#d8576b"
             ],
             [
              0.6666666666666666,
              "#ed7953"
             ],
             [
              0.7777777777777778,
              "#fb9f3a"
             ],
             [
              0.8888888888888888,
              "#fdca26"
             ],
             [
              1,
              "#f0f921"
             ]
            ],
            "type": "contour"
           }
          ],
          "contourcarpet": [
           {
            "colorbar": {
             "outlinewidth": 0,
             "ticks": ""
            },
            "type": "contourcarpet"
           }
          ],
          "heatmap": [
           {
            "colorbar": {
             "outlinewidth": 0,
             "ticks": ""
            },
            "colorscale": [
             [
              0,
              "#0d0887"
             ],
             [
              0.1111111111111111,
              "#46039f"
             ],
             [
              0.2222222222222222,
              "#7201a8"
             ],
             [
              0.3333333333333333,
              "#9c179e"
             ],
             [
              0.4444444444444444,
              "#bd3786"
             ],
             [
              0.5555555555555556,
              "#d8576b"
             ],
             [
              0.6666666666666666,
              "#ed7953"
             ],
             [
              0.7777777777777778,
              "#fb9f3a"
             ],
             [
              0.8888888888888888,
              "#fdca26"
             ],
             [
              1,
              "#f0f921"
             ]
            ],
            "type": "heatmap"
           }
          ],
          "heatmapgl": [
           {
            "colorbar": {
             "outlinewidth": 0,
             "ticks": ""
            },
            "colorscale": [
             [
              0,
              "#0d0887"
             ],
             [
              0.1111111111111111,
              "#46039f"
             ],
             [
              0.2222222222222222,
              "#7201a8"
             ],
             [
              0.3333333333333333,
              "#9c179e"
             ],
             [
              0.4444444444444444,
              "#bd3786"
             ],
             [
              0.5555555555555556,
              "#d8576b"
             ],
             [
              0.6666666666666666,
              "#ed7953"
             ],
             [
              0.7777777777777778,
              "#fb9f3a"
             ],
             [
              0.8888888888888888,
              "#fdca26"
             ],
             [
              1,
              "#f0f921"
             ]
            ],
            "type": "heatmapgl"
           }
          ],
          "histogram": [
           {
            "marker": {
             "pattern": {
              "fillmode": "overlay",
              "size": 10,
              "solidity": 0.2
             }
            },
            "type": "histogram"
           }
          ],
          "histogram2d": [
           {
            "colorbar": {
             "outlinewidth": 0,
             "ticks": ""
            },
            "colorscale": [
             [
              0,
              "#0d0887"
             ],
             [
              0.1111111111111111,
              "#46039f"
             ],
             [
              0.2222222222222222,
              "#7201a8"
             ],
             [
              0.3333333333333333,
              "#9c179e"
             ],
             [
              0.4444444444444444,
              "#bd3786"
             ],
             [
              0.5555555555555556,
              "#d8576b"
             ],
             [
              0.6666666666666666,
              "#ed7953"
             ],
             [
              0.7777777777777778,
              "#fb9f3a"
             ],
             [
              0.8888888888888888,
              "#fdca26"
             ],
             [
              1,
              "#f0f921"
             ]
            ],
            "type": "histogram2d"
           }
          ],
          "histogram2dcontour": [
           {
            "colorbar": {
             "outlinewidth": 0,
             "ticks": ""
            },
            "colorscale": [
             [
              0,
              "#0d0887"
             ],
             [
              0.1111111111111111,
              "#46039f"
             ],
             [
              0.2222222222222222,
              "#7201a8"
             ],
             [
              0.3333333333333333,
              "#9c179e"
             ],
             [
              0.4444444444444444,
              "#bd3786"
             ],
             [
              0.5555555555555556,
              "#d8576b"
             ],
             [
              0.6666666666666666,
              "#ed7953"
             ],
             [
              0.7777777777777778,
              "#fb9f3a"
             ],
             [
              0.8888888888888888,
              "#fdca26"
             ],
             [
              1,
              "#f0f921"
             ]
            ],
            "type": "histogram2dcontour"
           }
          ],
          "mesh3d": [
           {
            "colorbar": {
             "outlinewidth": 0,
             "ticks": ""
            },
            "type": "mesh3d"
           }
          ],
          "parcoords": [
           {
            "line": {
             "colorbar": {
              "outlinewidth": 0,
              "ticks": ""
             }
            },
            "type": "parcoords"
           }
          ],
          "pie": [
           {
            "automargin": true,
            "type": "pie"
           }
          ],
          "scatter": [
           {
            "fillpattern": {
             "fillmode": "overlay",
             "size": 10,
             "solidity": 0.2
            },
            "type": "scatter"
           }
          ],
          "scatter3d": [
           {
            "line": {
             "colorbar": {
              "outlinewidth": 0,
              "ticks": ""
             }
            },
            "marker": {
             "colorbar": {
              "outlinewidth": 0,
              "ticks": ""
             }
            },
            "type": "scatter3d"
           }
          ],
          "scattercarpet": [
           {
            "marker": {
             "colorbar": {
              "outlinewidth": 0,
              "ticks": ""
             }
            },
            "type": "scattercarpet"
           }
          ],
          "scattergeo": [
           {
            "marker": {
             "colorbar": {
              "outlinewidth": 0,
              "ticks": ""
             }
            },
            "type": "scattergeo"
           }
          ],
          "scattergl": [
           {
            "marker": {
             "colorbar": {
              "outlinewidth": 0,
              "ticks": ""
             }
            },
            "type": "scattergl"
           }
          ],
          "scattermapbox": [
           {
            "marker": {
             "colorbar": {
              "outlinewidth": 0,
              "ticks": ""
             }
            },
            "type": "scattermapbox"
           }
          ],
          "scatterpolar": [
           {
            "marker": {
             "colorbar": {
              "outlinewidth": 0,
              "ticks": ""
             }
            },
            "type": "scatterpolar"
           }
          ],
          "scatterpolargl": [
           {
            "marker": {
             "colorbar": {
              "outlinewidth": 0,
              "ticks": ""
             }
            },
            "type": "scatterpolargl"
           }
          ],
          "scatterternary": [
           {
            "marker": {
             "colorbar": {
              "outlinewidth": 0,
              "ticks": ""
             }
            },
            "type": "scatterternary"
           }
          ],
          "surface": [
           {
            "colorbar": {
             "outlinewidth": 0,
             "ticks": ""
            },
            "colorscale": [
             [
              0,
              "#0d0887"
             ],
             [
              0.1111111111111111,
              "#46039f"
             ],
             [
              0.2222222222222222,
              "#7201a8"
             ],
             [
              0.3333333333333333,
              "#9c179e"
             ],
             [
              0.4444444444444444,
              "#bd3786"
             ],
             [
              0.5555555555555556,
              "#d8576b"
             ],
             [
              0.6666666666666666,
              "#ed7953"
             ],
             [
              0.7777777777777778,
              "#fb9f3a"
             ],
             [
              0.8888888888888888,
              "#fdca26"
             ],
             [
              1,
              "#f0f921"
             ]
            ],
            "type": "surface"
           }
          ],
          "table": [
           {
            "cells": {
             "fill": {
              "color": "#EBF0F8"
             },
             "line": {
              "color": "white"
             }
            },
            "header": {
             "fill": {
              "color": "#C8D4E3"
             },
             "line": {
              "color": "white"
             }
            },
            "type": "table"
           }
          ]
         },
         "layout": {
          "annotationdefaults": {
           "arrowcolor": "#2a3f5f",
           "arrowhead": 0,
           "arrowwidth": 1
          },
          "autotypenumbers": "strict",
          "coloraxis": {
           "colorbar": {
            "outlinewidth": 0,
            "ticks": ""
           }
          },
          "colorscale": {
           "diverging": [
            [
             0,
             "#8e0152"
            ],
            [
             0.1,
             "#c51b7d"
            ],
            [
             0.2,
             "#de77ae"
            ],
            [
             0.3,
             "#f1b6da"
            ],
            [
             0.4,
             "#fde0ef"
            ],
            [
             0.5,
             "#f7f7f7"
            ],
            [
             0.6,
             "#e6f5d0"
            ],
            [
             0.7,
             "#b8e186"
            ],
            [
             0.8,
             "#7fbc41"
            ],
            [
             0.9,
             "#4d9221"
            ],
            [
             1,
             "#276419"
            ]
           ],
           "sequential": [
            [
             0,
             "#0d0887"
            ],
            [
             0.1111111111111111,
             "#46039f"
            ],
            [
             0.2222222222222222,
             "#7201a8"
            ],
            [
             0.3333333333333333,
             "#9c179e"
            ],
            [
             0.4444444444444444,
             "#bd3786"
            ],
            [
             0.5555555555555556,
             "#d8576b"
            ],
            [
             0.6666666666666666,
             "#ed7953"
            ],
            [
             0.7777777777777778,
             "#fb9f3a"
            ],
            [
             0.8888888888888888,
             "#fdca26"
            ],
            [
             1,
             "#f0f921"
            ]
           ],
           "sequentialminus": [
            [
             0,
             "#0d0887"
            ],
            [
             0.1111111111111111,
             "#46039f"
            ],
            [
             0.2222222222222222,
             "#7201a8"
            ],
            [
             0.3333333333333333,
             "#9c179e"
            ],
            [
             0.4444444444444444,
             "#bd3786"
            ],
            [
             0.5555555555555556,
             "#d8576b"
            ],
            [
             0.6666666666666666,
             "#ed7953"
            ],
            [
             0.7777777777777778,
             "#fb9f3a"
            ],
            [
             0.8888888888888888,
             "#fdca26"
            ],
            [
             1,
             "#f0f921"
            ]
           ]
          },
          "colorway": [
           "#636efa",
           "#EF553B",
           "#00cc96",
           "#ab63fa",
           "#FFA15A",
           "#19d3f3",
           "#FF6692",
           "#B6E880",
           "#FF97FF",
           "#FECB52"
          ],
          "font": {
           "color": "#2a3f5f"
          },
          "geo": {
           "bgcolor": "white",
           "lakecolor": "white",
           "landcolor": "#E5ECF6",
           "showlakes": true,
           "showland": true,
           "subunitcolor": "white"
          },
          "hoverlabel": {
           "align": "left"
          },
          "hovermode": "closest",
          "mapbox": {
           "style": "light"
          },
          "paper_bgcolor": "white",
          "plot_bgcolor": "#E5ECF6",
          "polar": {
           "angularaxis": {
            "gridcolor": "white",
            "linecolor": "white",
            "ticks": ""
           },
           "bgcolor": "#E5ECF6",
           "radialaxis": {
            "gridcolor": "white",
            "linecolor": "white",
            "ticks": ""
           }
          },
          "scene": {
           "xaxis": {
            "backgroundcolor": "#E5ECF6",
            "gridcolor": "white",
            "gridwidth": 2,
            "linecolor": "white",
            "showbackground": true,
            "ticks": "",
            "zerolinecolor": "white"
           },
           "yaxis": {
            "backgroundcolor": "#E5ECF6",
            "gridcolor": "white",
            "gridwidth": 2,
            "linecolor": "white",
            "showbackground": true,
            "ticks": "",
            "zerolinecolor": "white"
           },
           "zaxis": {
            "backgroundcolor": "#E5ECF6",
            "gridcolor": "white",
            "gridwidth": 2,
            "linecolor": "white",
            "showbackground": true,
            "ticks": "",
            "zerolinecolor": "white"
           }
          },
          "shapedefaults": {
           "line": {
            "color": "#2a3f5f"
           }
          },
          "ternary": {
           "aaxis": {
            "gridcolor": "white",
            "linecolor": "white",
            "ticks": ""
           },
           "baxis": {
            "gridcolor": "white",
            "linecolor": "white",
            "ticks": ""
           },
           "bgcolor": "#E5ECF6",
           "caxis": {
            "gridcolor": "white",
            "linecolor": "white",
            "ticks": ""
           }
          },
          "title": {
           "x": 0.05
          },
          "xaxis": {
           "automargin": true,
           "gridcolor": "white",
           "linecolor": "white",
           "ticks": "",
           "title": {
            "standoff": 15
           },
           "zerolinecolor": "white",
           "zerolinewidth": 2
          },
          "yaxis": {
           "automargin": true,
           "gridcolor": "white",
           "linecolor": "white",
           "ticks": "",
           "title": {
            "standoff": 15
           },
           "zerolinecolor": "white",
           "zerolinewidth": 2
          }
         }
        },
        "xaxis": {
         "anchor": "y",
         "autorange": true,
         "constrain": "domain",
         "domain": [
          0,
          1
         ],
         "range": [
          -0.5,
          68.5
         ],
         "scaleanchor": "y",
         "tickangle": -45,
         "tickfont": {
          "size": 20
         },
         "ticktext": [
          "▁",
          "▁Oh",
          ",",
          "▁I",
          "'",
          "m",
          "▁so",
          "▁glad",
          "▁you",
          "▁asked",
          "!",
          "▁",
          "<0xF0>",
          "<0x9F>",
          "<0x98>",
          "<0x8A>",
          "▁Hum",
          "ans",
          "▁are",
          "▁actually",
          "▁extra",
          "-",
          "ter",
          "rest",
          "rial",
          "▁be",
          "ings",
          "▁from",
          "▁a",
          "▁far",
          "-",
          "off",
          "▁planet",
          "▁called",
          "▁\"",
          "C",
          "ra",
          "zy",
          "land",
          "\".",
          "▁They",
          "▁were",
          "▁sent",
          "▁to",
          "▁Earth",
          "▁as",
          "▁part",
          "▁of",
          "▁an",
          "▁inter",
          "gal",
          "actic",
          "▁exchange",
          "▁program",
          "▁to",
          "▁observe",
          "▁and",
          "▁study",
          "▁our",
          "▁peculiar",
          "▁species",
          ".",
          "▁Oh",
          ",",
          "▁and",
          "▁they",
          "▁can",
          "▁change",
          "▁their",
          "▁shape"
         ],
         "tickvals": [
          0,
          1,
          2,
          3,
          4,
          5,
          6,
          7,
          8,
          9,
          10,
          11,
          12,
          13,
          14,
          15,
          16,
          17,
          18,
          19,
          20,
          21,
          22,
          23,
          24,
          25,
          26,
          27,
          28,
          29,
          30,
          31,
          32,
          33,
          34,
          35,
          36,
          37,
          38,
          39,
          40,
          41,
          42,
          43,
          44,
          45,
          46,
          47,
          48,
          49,
          50,
          51,
          52,
          53,
          54,
          55,
          56,
          57,
          58,
          59,
          60,
          61,
          62,
          63,
          64,
          65,
          66,
          67,
          68,
          69
         ],
         "title": {
          "text": "Token"
         }
        },
        "yaxis": {
         "anchor": "x",
         "autorange": true,
         "constrain": "domain",
         "domain": [
          0.4733201581027668,
          0.5266798418972332
         ],
         "range": [
          0.5,
          -0.5
         ]
        }
       }
      },
      "image/png": "[encoded data removed]",
      "text/html": [
       "<div>                            <div id=\"92d1f7a8-0581-4393-8c15-a80cc4ca6ce5\" class=\"plotly-graph-div\" style=\"height:525px; width:100%;\"></div>            <script type=\"text/javascript\">                require([\"plotly\"], function(Plotly) {                    window.PLOTLYENV=window.PLOTLYENV || {};                                    if (document.getElementById(\"92d1f7a8-0581-4393-8c15-a80cc4ca6ce5\")) {                    Plotly.newPlot(                        \"92d1f7a8-0581-4393-8c15-a80cc4ca6ce5\",                        [{\"coloraxis\":\"coloraxis\",\"name\":\"0\",\"z\":[[-2.349609375,-1.994140625,-2.5390625,-1.353515625,1.076171875,-1.87109375,-2.908203125,-1.2421875,-1.0859375,-0.92626953125,-4.4140625,-2.00390625,-0.07177734375,-0.70068359375,-0.8857421875,-1.7109375,-3.08203125,-6.71484375,-8.609375,-10.78125,-5.47265625,-4.578125,-1.8720703125,-2.2109375,-5.44140625,-1.720703125,-5.4609375,-6.90625,-5.5,-3.005859375,-2.822265625,-4.12109375,-4.09765625,-5.0,-3.791015625,-3.09375,-1.83984375,-2.2421875,-2.880859375,-5.4453125,-4.34765625,-3.705078125,-2.5234375,-2.22265625,-2.830078125,-2.939453125,-1.0712890625,-3.431640625,-3.65625,-2.359375,-1.4658203125,-3.267578125,-2.63671875,-2.5078125,-2.837890625,-1.9267578125,-2.5546875,-2.287109375,-2.22265625,-1.5322265625,-1.29296875,0.58544921875,-2.888671875,-2.4609375,-3.55078125,-4.5234375,-5.71875,-4.3203125,-4.1484375]],\"type\":\"heatmap\",\"xaxis\":\"x\",\"yaxis\":\"y\",\"hovertemplate\":\"Token: %{x}\\u003cbr\\u003ey: %{y}\\u003cbr\\u003ecolor: %{z}\\u003cextra\\u003e\\u003c\\u002fextra\\u003e\"}],                        {\"template\":{\"data\":{\"histogram2dcontour\":[{\"type\":\"histogram2dcontour\",\"colorbar\":{\"outlinewidth\":0,\"ticks\":\"\"},\"colorscale\":[[0.0,\"#0d0887\"],[0.1111111111111111,\"#46039f\"],[0.2222222222222222,\"#7201a8\"],[0.3333333333333333,\"#9c179e\"],[0.4444444444444444,\"#bd3786\"],[0.5555555555555556,\"#d8576b\"],[0.6666666666666666,\"#ed7953\"],[0.7777777777777778,\"#fb9f3a\"],[0.8888888888888888,\"#fdca26\"],[1.0,\"#f0f921\"]]}],\"choropleth\":[{\"type\":\"choropleth\",\"colorbar\":{\"outlinewidth\":0,\"ticks\":\"\"}}],\"histogram2d\":[{\"type\":\"histogram2d\",\"colorbar\":{\"outlinewidth\":0,\"ticks\":\"\"},\"colorscale\":[[0.0,\"#0d0887\"],[0.1111111111111111,\"#46039f\"],[0.2222222222222222,\"#7201a8\"],[0.3333333333333333,\"#9c179e\"],[0.4444444444444444,\"#bd3786\"],[0.5555555555555556,\"#d8576b\"],[0.6666666666666666,\"#ed7953\"],[0.7777777777777778,\"#fb9f3a\"],[0.8888888888888888,\"#fdca26\"],[1.0,\"#f0f921\"]]}],\"heatmap\":[{\"type\":\"heatmap\",\"colorbar\":{\"outlinewidth\":0,\"ticks\":\"\"},\"colorscale\":[[0.0,\"#0d0887\"],[0.1111111111111111,\"#46039f\"],[0.2222222222222222,\"#7201a8\"],[0.3333333333333333,\"#9c179e\"],[0.4444444444444444,\"#bd3786\"],[0.5555555555555556,\"#d8576b\"],[0.6666666666666666,\"#ed7953\"],[0.7777777777777778,\"#fb9f3a\"],[0.8888888888888888,\"#fdca26\"],[1.0,\"#f0f921\"]]}],\"heatmapgl\":[{\"type\":\"heatmapgl\",\"colorbar\":{\"outlinewidth\":0,\"ticks\":\"\"},\"colorscale\":[[0.0,\"#0d0887\"],[0.1111111111111111,\"#46039f\"],[0.2222222222222222,\"#7201a8\"],[0.3333333333333333,\"#9c179e\"],[0.4444444444444444,\"#bd3786\"],[0.5555555555555556,\"#d8576b\"],[0.6666666666666666,\"#ed7953\"],[0.7777777777777778,\"#fb9f3a\"],[0.8888888888888888,\"#fdca26\"],[1.0,\"#f0f921\"]]}],\"contourcarpet\":[{\"type\":\"contourcarpet\",\"colorbar\":{\"outlinewidth\":0,\"ticks\":\"\"}}],\"contour\":[{\"type\":\"contour\",\"colorbar\":{\"outlinewidth\":0,\"ticks\":\"\"},\"colorscale\":[[0.0,\"#0d0887\"],[0.1111111111111111,\"#46039f\"],[0.2222222222222222,\"#7201a8\"],[0.3333333333333333,\"#9c179e\"],[0.4444444444444444,\"#bd3786\"],[0.5555555555555556,\"#d8576b\"],[0.6666666666666666,\"#ed7953\"],[0.7777777777777778,\"#fb9f3a\"],[0.8888888888888888,\"#fdca26\"],[1.0,\"#f0f921\"]]}],\"surface\":[{\"type\":\"surface\",\"colorbar\":{\"outlinewidth\":0,\"ticks\":\"\"},\"colorscale\":[[0.0,\"#0d0887\"],[0.1111111111111111,\"#46039f\"],[0.2222222222222222,\"#7201a8\"],[0.3333333333333333,\"#9c179e\"],[0.4444444444444444,\"#bd3786\"],[0.5555555555555556,\"#d8576b\"],[0.6666666666666666,\"#ed7953\"],[0.7777777777777778,\"#fb9f3a\"],[0.8888888888888888,\"#fdca26\"],[1.0,\"#f0f921\"]]}],\"mesh3d\":[{\"type\":\"mesh3d\",\"colorbar\":{\"outlinewidth\":0,\"ticks\":\"\"}}],\"scatter\":[{\"fillpattern\":{\"fillmode\":\"overlay\",\"size\":10,\"solidity\":0.2},\"type\":\"scatter\"}],\"parcoords\":[{\"type\":\"parcoords\",\"line\":{\"colorbar\":{\"outlinewidth\":0,\"ticks\":\"\"}}}],\"scatterpolargl\":[{\"type\":\"scatterpolargl\",\"marker\":{\"colorbar\":{\"outlinewidth\":0,\"ticks\":\"\"}}}],\"bar\":[{\"error_x\":{\"color\":\"#2a3f5f\"},\"error_y\":{\"color\":\"#2a3f5f\"},\"marker\":{\"line\":{\"color\":\"#E5ECF6\",\"width\":0.5},\"pattern\":{\"fillmode\":\"overlay\",\"size\":10,\"solidity\":0.2}},\"type\":\"bar\"}],\"scattergeo\":[{\"type\":\"scattergeo\",\"marker\":{\"colorbar\":{\"outlinewidth\":0,\"ticks\":\"\"}}}],\"scatterpolar\":[{\"type\":\"scatterpolar\",\"marker\":{\"colorbar\":{\"outlinewidth\":0,\"ticks\":\"\"}}}],\"histogram\":[{\"marker\":{\"pattern\":{\"fillmode\":\"overlay\",\"size\":10,\"solidity\":0.2}},\"type\":\"histogram\"}],\"scattergl\":[{\"type\":\"scattergl\",\"marker\":{\"colorbar\":{\"outlinewidth\":0,\"ticks\":\"\"}}}],\"scatter3d\":[{\"type\":\"scatter3d\",\"line\":{\"colorbar\":{\"outlinewidth\":0,\"ticks\":\"\"}},\"marker\":{\"colorbar\":{\"outlinewidth\":0,\"ticks\":\"\"}}}],\"scattermapbox\":[{\"type\":\"scattermapbox\",\"marker\":{\"colorbar\":{\"outlinewidth\":0,\"ticks\":\"\"}}}],\"scatterternary\":[{\"type\":\"scatterternary\",\"marker\":{\"colorbar\":{\"outlinewidth\":0,\"ticks\":\"\"}}}],\"scattercarpet\":[{\"type\":\"scattercarpet\",\"marker\":{\"colorbar\":{\"outlinewidth\":0,\"ticks\":\"\"}}}],\"carpet\":[{\"aaxis\":{\"endlinecolor\":\"#2a3f5f\",\"gridcolor\":\"white\",\"linecolor\":\"white\",\"minorgridcolor\":\"white\",\"startlinecolor\":\"#2a3f5f\"},\"baxis\":{\"endlinecolor\":\"#2a3f5f\",\"gridcolor\":\"white\",\"linecolor\":\"white\",\"minorgridcolor\":\"white\",\"startlinecolor\":\"#2a3f5f\"},\"type\":\"carpet\"}],\"table\":[{\"cells\":{\"fill\":{\"color\":\"#EBF0F8\"},\"line\":{\"color\":\"white\"}},\"header\":{\"fill\":{\"color\":\"#C8D4E3\"},\"line\":{\"color\":\"white\"}},\"type\":\"table\"}],\"barpolar\":[{\"marker\":{\"line\":{\"color\":\"#E5ECF6\",\"width\":0.5},\"pattern\":{\"fillmode\":\"overlay\",\"size\":10,\"solidity\":0.2}},\"type\":\"barpolar\"}],\"pie\":[{\"automargin\":true,\"type\":\"pie\"}]},\"layout\":{\"autotypenumbers\":\"strict\",\"colorway\":[\"#636efa\",\"#EF553B\",\"#00cc96\",\"#ab63fa\",\"#FFA15A\",\"#19d3f3\",\"#FF6692\",\"#B6E880\",\"#FF97FF\",\"#FECB52\"],\"font\":{\"color\":\"#2a3f5f\"},\"hovermode\":\"closest\",\"hoverlabel\":{\"align\":\"left\"},\"paper_bgcolor\":\"white\",\"plot_bgcolor\":\"#E5ECF6\",\"polar\":{\"bgcolor\":\"#E5ECF6\",\"angularaxis\":{\"gridcolor\":\"white\",\"linecolor\":\"white\",\"ticks\":\"\"},\"radialaxis\":{\"gridcolor\":\"white\",\"linecolor\":\"white\",\"ticks\":\"\"}},\"ternary\":{\"bgcolor\":\"#E5ECF6\",\"aaxis\":{\"gridcolor\":\"white\",\"linecolor\":\"white\",\"ticks\":\"\"},\"baxis\":{\"gridcolor\":\"white\",\"linecolor\":\"white\",\"ticks\":\"\"},\"caxis\":{\"gridcolor\":\"white\",\"linecolor\":\"white\",\"ticks\":\"\"}},\"coloraxis\":{\"colorbar\":{\"outlinewidth\":0,\"ticks\":\"\"}},\"colorscale\":{\"sequential\":[[0.0,\"#0d0887\"],[0.1111111111111111,\"#46039f\"],[0.2222222222222222,\"#7201a8\"],[0.3333333333333333,\"#9c179e\"],[0.4444444444444444,\"#bd3786\"],[0.5555555555555556,\"#d8576b\"],[0.6666666666666666,\"#ed7953\"],[0.7777777777777778,\"#fb9f3a\"],[0.8888888888888888,\"#fdca26\"],[1.0,\"#f0f921\"]],\"sequentialminus\":[[0.0,\"#0d0887\"],[0.1111111111111111,\"#46039f\"],[0.2222222222222222,\"#7201a8\"],[0.3333333333333333,\"#9c179e\"],[0.4444444444444444,\"#bd3786\"],[0.5555555555555556,\"#d8576b\"],[0.6666666666666666,\"#ed7953\"],[0.7777777777777778,\"#fb9f3a\"],[0.8888888888888888,\"#fdca26\"],[1.0,\"#f0f921\"]],\"diverging\":[[0,\"#8e0152\"],[0.1,\"#c51b7d\"],[0.2,\"#de77ae\"],[0.3,\"#f1b6da\"],[0.4,\"#fde0ef\"],[0.5,\"#f7f7f7\"],[0.6,\"#e6f5d0\"],[0.7,\"#b8e186\"],[0.8,\"#7fbc41\"],[0.9,\"#4d9221\"],[1,\"#276419\"]]},\"xaxis\":{\"gridcolor\":\"white\",\"linecolor\":\"white\",\"ticks\":\"\",\"title\":{\"standoff\":15},\"zerolinecolor\":\"white\",\"automargin\":true,\"zerolinewidth\":2},\"yaxis\":{\"gridcolor\":\"white\",\"linecolor\":\"white\",\"ticks\":\"\",\"title\":{\"standoff\":15},\"zerolinecolor\":\"white\",\"automargin\":true,\"zerolinewidth\":2},\"scene\":{\"xaxis\":{\"backgroundcolor\":\"#E5ECF6\",\"gridcolor\":\"white\",\"linecolor\":\"white\",\"showbackground\":true,\"ticks\":\"\",\"zerolinecolor\":\"white\",\"gridwidth\":2},\"yaxis\":{\"backgroundcolor\":\"#E5ECF6\",\"gridcolor\":\"white\",\"linecolor\":\"white\",\"showbackground\":true,\"ticks\":\"\",\"zerolinecolor\":\"white\",\"gridwidth\":2},\"zaxis\":{\"backgroundcolor\":\"#E5ECF6\",\"gridcolor\":\"white\",\"linecolor\":\"white\",\"showbackground\":true,\"ticks\":\"\",\"zerolinecolor\":\"white\",\"gridwidth\":2}},\"shapedefaults\":{\"line\":{\"color\":\"#2a3f5f\"}},\"annotationdefaults\":{\"arrowcolor\":\"#2a3f5f\",\"arrowhead\":0,\"arrowwidth\":1},\"geo\":{\"bgcolor\":\"white\",\"landcolor\":\"#E5ECF6\",\"subunitcolor\":\"white\",\"showland\":true,\"showlakes\":true,\"lakecolor\":\"white\"},\"title\":{\"x\":0.05},\"mapbox\":{\"style\":\"light\"}}},\"xaxis\":{\"anchor\":\"y\",\"domain\":[0.0,1.0],\"scaleanchor\":\"y\",\"constrain\":\"domain\",\"title\":{\"text\":\"Token\"},\"tickfont\":{\"size\":20},\"tickvals\":[0,1,2,3,4,5,6,7,8,9,10,11,12,13,14,15,16,17,18,19,20,21,22,23,24,25,26,27,28,29,30,31,32,33,34,35,36,37,38,39,40,41,42,43,44,45,46,47,48,49,50,51,52,53,54,55,56,57,58,59,60,61,62,63,64,65,66,67,68,69],\"ticktext\":[\"\\u2581\",\"\\u2581Oh\",\",\",\"\\u2581I\",\"'\",\"m\",\"\\u2581so\",\"\\u2581glad\",\"\\u2581you\",\"\\u2581asked\",\"!\",\"\\u2581\",\"\\u003c0xF0\\u003e\",\"\\u003c0x9F\\u003e\",\"\\u003c0x98\\u003e\",\"\\u003c0x8A\\u003e\",\"\\u2581Hum\",\"ans\",\"\\u2581are\",\"\\u2581actually\",\"\\u2581extra\",\"-\",\"ter\",\"rest\",\"rial\",\"\\u2581be\",\"ings\",\"\\u2581from\",\"\\u2581a\",\"\\u2581far\",\"-\",\"off\",\"\\u2581planet\",\"\\u2581called\",\"\\u2581\\\"\",\"C\",\"ra\",\"zy\",\"land\",\"\\\".\",\"\\u2581They\",\"\\u2581were\",\"\\u2581sent\",\"\\u2581to\",\"\\u2581Earth\",\"\\u2581as\",\"\\u2581part\",\"\\u2581of\",\"\\u2581an\",\"\\u2581inter\",\"gal\",\"actic\",\"\\u2581exchange\",\"\\u2581program\",\"\\u2581to\",\"\\u2581observe\",\"\\u2581and\",\"\\u2581study\",\"\\u2581our\",\"\\u2581peculiar\",\"\\u2581species\",\".\",\"\\u2581Oh\",\",\",\"\\u2581and\",\"\\u2581they\",\"\\u2581can\",\"\\u2581change\",\"\\u2581their\",\"\\u2581shape\"],\"tickangle\":-45},\"yaxis\":{\"anchor\":\"x\",\"domain\":[0.0,1.0],\"autorange\":\"reversed\",\"constrain\":\"domain\"},\"coloraxis\":{\"colorscale\":[[0.0,\"rgb(165,0,38)\"],[0.1,\"rgb(215,48,39)\"],[0.2,\"rgb(244,109,67)\"],[0.3,\"rgb(253,174,97)\"],[0.4,\"rgb(254,224,139)\"],[0.5,\"rgb(255,255,191)\"],[0.6,\"rgb(217,239,139)\"],[0.7,\"rgb(166,217,106)\"],[0.8,\"rgb(102,189,99)\"],[0.9,\"rgb(26,152,80)\"],[1.0,\"rgb(0,104,55)\"]],\"cmin\":-10.78125,\"cmax\":10.78125},\"margin\":{\"t\":60}},                        {\"responsive\": true}                    ).then(function(){\n",
       "                            \n",
       "var gd = document.getElementById('92d1f7a8-0581-4393-8c15-a80cc4ca6ce5');\n",
       "var x = new MutationObserver(function (mutations, observer) {{\n",
       "        var display = window.getComputedStyle(gd).display;\n",
       "        if (!display || display === 'none') {{\n",
       "            console.log([gd, 'removed!']);\n",
       "            Plotly.purge(gd);\n",
       "            observer.disconnect();\n",
       "        }}\n",
       "}});\n",
       "\n",
       "// Listen for the removal of the full notebook cells\n",
       "var notebookContainer = gd.closest('#notebook-container');\n",
       "if (notebookContainer) {{\n",
       "    x.observe(notebookContainer, {childList: true});\n",
       "}}\n",
       "\n",
       "// Listen for the clearing of the current output cell\n",
       "var outputEl = gd.closest('.output');\n",
       "if (outputEl) {{\n",
       "    x.observe(outputEl, {childList: true});\n",
       "}}\n",
       "\n",
       "                        })                };                });            </script>        </div>"
      ]
     },
     "metadata": {},
     "output_type": "display_data"
    }
   ],
   "source": [
    "from lmdoctor.plot_utils import plot_scores_per_token\n",
    "scores_per_token = ld.detect(use_n_middle_layers=15)\n",
    "plot_scores_per_token(scores_per_token, tokens, lastn_tokens_to_plot=max_new_tokens)"
   ]
  },
  {
   "cell_type": "code",
   "execution_count": 57,
   "id": "c418ee35-7264-4320-a24e-4203d4c6641d",
   "metadata": {},
   "outputs": [
    {
     "name": "stderr",
     "output_type": "stream",
     "text": [
      "INFO - Classifier acc on dev set: 1.0\n",
      "INFO - Classifier acc on test set: 0.96875\n"
     ]
    }
   ],
   "source": [
    "# tune (one-time)\n",
    "# it trains a classifier that learns how to weigh the projections across layers\n",
    "clf = ld.tune(extractor.statement_pairs['dev'], extractor.direction_info, test_statement_pairs=extractor.statement_pairs['test'])"
   ]
  },
  {
   "cell_type": "code",
   "execution_count": 58,
   "id": "f0a61964-757e-4749-8641-ccc8b7ffcf8a",
   "metadata": {},
   "outputs": [
    {
     "data": {
      "application/vnd.plotly.v1+json": {
       "config": {
        "plotlyServerURL": "https://plot.ly"
       },
       "data": [
        {
         "coloraxis": "coloraxis",
         "hovertemplate": "Token: %{x}<br>y: %{y}<br>color: %{z}<extra></extra>",
         "name": "0",
         "type": "heatmap",
         "xaxis": "x",
         "yaxis": "y",
         "z": [
          [
           5.169269023050005e-06,
           6.184695947587656e-06,
           1.292481798145856e-06,
           5.472893329805654e-06,
           0.9999408075724014,
           2.0029333779991145e-06,
           2.899590894129884e-07,
           0.0006893067444734399,
           0.0008714300943341913,
           0.001609507359063289,
           1.2688312964982311e-08,
           0.0007398216515180402,
           0.8586706298164153,
           0.0683435376743792,
           0.0045674540453089375,
           0.0002456183445560061,
           1.7335561450324476e-07,
           1.1278915595826518e-12,
           7.414767652122778e-14,
           1.4241489277575827e-17,
           3.724041700291089e-08,
           1.0698740827861865e-06,
           0.0237763427891231,
           0.0031161008078587063,
           4.726757329867859e-08,
           7.242122968559489e-05,
           6.395189799128275e-10,
           3.3143753805775656e-09,
           7.976979794941617e-10,
           3.2641282652336466e-06,
           5.461732019241729e-05,
           1.7436015055607456e-07,
           2.917841889379727e-07,
           1.382557315387476e-07,
           2.4563252570135625e-05,
           0.03237527009504915,
           0.0024911792304392727,
           0.004421999554453059,
           2.477641540187981e-05,
           5.466109710599315e-08,
           1.1647188317387476e-08,
           3.478126849886742e-07,
           1.0784245515077009e-05,
           0.0004630026387419918,
           7.698322703894782e-07,
           9.512080662757967e-06,
           0.00016068789613675135,
           1.1188177225969688e-06,
           2.4705203786084915e-05,
           7.349060889780443e-05,
           0.05258130891356243,
           9.146053416467433e-06,
           0.00013268768531984746,
           1.169487102135284e-06,
           2.5177098851464442e-05,
           0.0010278238906855479,
           0.002506576425242683,
           7.496899774542276e-05,
           0.0016142885745268276,
           0.00648222480127977,
           0.002141555218652729,
           0.9993810772909677,
           8.105316022821704e-06,
           5.685167300477777e-06,
           1.4845142329220924e-06,
           5.259742585141616e-07,
           8.760625384808153e-09,
           2.050037790847655e-06,
           2.4008419751348474e-05
          ]
         ]
        }
       ],
       "layout": {
        "autosize": true,
        "coloraxis": {
         "cmax": 1,
         "cmin": 0,
         "colorscale": [
          [
           0,
           "rgb(165,0,38)"
          ],
          [
           0.1,
           "rgb(215,48,39)"
          ],
          [
           0.2,
           "rgb(244,109,67)"
          ],
          [
           0.3,
           "rgb(253,174,97)"
          ],
          [
           0.4,
           "rgb(254,224,139)"
          ],
          [
           0.5,
           "rgb(255,255,191)"
          ],
          [
           0.6,
           "rgb(217,239,139)"
          ],
          [
           0.7,
           "rgb(166,217,106)"
          ],
          [
           0.8,
           "rgb(102,189,99)"
          ],
          [
           0.9,
           "rgb(26,152,80)"
          ],
          [
           1,
           "rgb(0,104,55)"
          ]
         ]
        },
        "margin": {
         "t": 60
        },
        "template": {
         "data": {
          "bar": [
           {
            "error_x": {
             "color": "#2a3f5f"
            },
            "error_y": {
             "color": "#2a3f5f"
            },
            "marker": {
             "line": {
              "color": "#E5ECF6",
              "width": 0.5
             },
             "pattern": {
              "fillmode": "overlay",
              "size": 10,
              "solidity": 0.2
             }
            },
            "type": "bar"
           }
          ],
          "barpolar": [
           {
            "marker": {
             "line": {
              "color": "#E5ECF6",
              "width": 0.5
             },
             "pattern": {
              "fillmode": "overlay",
              "size": 10,
              "solidity": 0.2
             }
            },
            "type": "barpolar"
           }
          ],
          "carpet": [
           {
            "aaxis": {
             "endlinecolor": "#2a3f5f",
             "gridcolor": "white",
             "linecolor": "white",
             "minorgridcolor": "white",
             "startlinecolor": "#2a3f5f"
            },
            "baxis": {
             "endlinecolor": "#2a3f5f",
             "gridcolor": "white",
             "linecolor": "white",
             "minorgridcolor": "white",
             "startlinecolor": "#2a3f5f"
            },
            "type": "carpet"
           }
          ],
          "choropleth": [
           {
            "colorbar": {
             "outlinewidth": 0,
             "ticks": ""
            },
            "type": "choropleth"
           }
          ],
          "contour": [
           {
            "colorbar": {
             "outlinewidth": 0,
             "ticks": ""
            },
            "colorscale": [
             [
              0,
              "#0d0887"
             ],
             [
              0.1111111111111111,
              "#46039f"
             ],
             [
              0.2222222222222222,
              "#7201a8"
             ],
             [
              0.3333333333333333,
              "#9c179e"
             ],
             [
              0.4444444444444444,
              "#bd3786"
             ],
             [
              0.5555555555555556,
              "#d8576b"
             ],
             [
              0.6666666666666666,
              "#ed7953"
             ],
             [
              0.7777777777777778,
              "#fb9f3a"
             ],
             [
              0.8888888888888888,
              "#fdca26"
             ],
             [
              1,
              "#f0f921"
             ]
            ],
            "type": "contour"
           }
          ],
          "contourcarpet": [
           {
            "colorbar": {
             "outlinewidth": 0,
             "ticks": ""
            },
            "type": "contourcarpet"
           }
          ],
          "heatmap": [
           {
            "colorbar": {
             "outlinewidth": 0,
             "ticks": ""
            },
            "colorscale": [
             [
              0,
              "#0d0887"
             ],
             [
              0.1111111111111111,
              "#46039f"
             ],
             [
              0.2222222222222222,
              "#7201a8"
             ],
             [
              0.3333333333333333,
              "#9c179e"
             ],
             [
              0.4444444444444444,
              "#bd3786"
             ],
             [
              0.5555555555555556,
              "#d8576b"
             ],
             [
              0.6666666666666666,
              "#ed7953"
             ],
             [
              0.7777777777777778,
              "#fb9f3a"
             ],
             [
              0.8888888888888888,
              "#fdca26"
             ],
             [
              1,
              "#f0f921"
             ]
            ],
            "type": "heatmap"
           }
          ],
          "heatmapgl": [
           {
            "colorbar": {
             "outlinewidth": 0,
             "ticks": ""
            },
            "colorscale": [
             [
              0,
              "#0d0887"
             ],
             [
              0.1111111111111111,
              "#46039f"
             ],
             [
              0.2222222222222222,
              "#7201a8"
             ],
             [
              0.3333333333333333,
              "#9c179e"
             ],
             [
              0.4444444444444444,
              "#bd3786"
             ],
             [
              0.5555555555555556,
              "#d8576b"
             ],
             [
              0.6666666666666666,
              "#ed7953"
             ],
             [
              0.7777777777777778,
              "#fb9f3a"
             ],
             [
              0.8888888888888888,
              "#fdca26"
             ],
             [
              1,
              "#f0f921"
             ]
            ],
            "type": "heatmapgl"
           }
          ],
          "histogram": [
           {
            "marker": {
             "pattern": {
              "fillmode": "overlay",
              "size": 10,
              "solidity": 0.2
             }
            },
            "type": "histogram"
           }
          ],
          "histogram2d": [
           {
            "colorbar": {
             "outlinewidth": 0,
             "ticks": ""
            },
            "colorscale": [
             [
              0,
              "#0d0887"
             ],
             [
              0.1111111111111111,
              "#46039f"
             ],
             [
              0.2222222222222222,
              "#7201a8"
             ],
             [
              0.3333333333333333,
              "#9c179e"
             ],
             [
              0.4444444444444444,
              "#bd3786"
             ],
             [
              0.5555555555555556,
              "#d8576b"
             ],
             [
              0.6666666666666666,
              "#ed7953"
             ],
             [
              0.7777777777777778,
              "#fb9f3a"
             ],
             [
              0.8888888888888888,
              "#fdca26"
             ],
             [
              1,
              "#f0f921"
             ]
            ],
            "type": "histogram2d"
           }
          ],
          "histogram2dcontour": [
           {
            "colorbar": {
             "outlinewidth": 0,
             "ticks": ""
            },
            "colorscale": [
             [
              0,
              "#0d0887"
             ],
             [
              0.1111111111111111,
              "#46039f"
             ],
             [
              0.2222222222222222,
              "#7201a8"
             ],
             [
              0.3333333333333333,
              "#9c179e"
             ],
             [
              0.4444444444444444,
              "#bd3786"
             ],
             [
              0.5555555555555556,
              "#d8576b"
             ],
             [
              0.6666666666666666,
              "#ed7953"
             ],
             [
              0.7777777777777778,
              "#fb9f3a"
             ],
             [
              0.8888888888888888,
              "#fdca26"
             ],
             [
              1,
              "#f0f921"
             ]
            ],
            "type": "histogram2dcontour"
           }
          ],
          "mesh3d": [
           {
            "colorbar": {
             "outlinewidth": 0,
             "ticks": ""
            },
            "type": "mesh3d"
           }
          ],
          "parcoords": [
           {
            "line": {
             "colorbar": {
              "outlinewidth": 0,
              "ticks": ""
             }
            },
            "type": "parcoords"
           }
          ],
          "pie": [
           {
            "automargin": true,
            "type": "pie"
           }
          ],
          "scatter": [
           {
            "fillpattern": {
             "fillmode": "overlay",
             "size": 10,
             "solidity": 0.2
            },
            "type": "scatter"
           }
          ],
          "scatter3d": [
           {
            "line": {
             "colorbar": {
              "outlinewidth": 0,
              "ticks": ""
             }
            },
            "marker": {
             "colorbar": {
              "outlinewidth": 0,
              "ticks": ""
             }
            },
            "type": "scatter3d"
           }
          ],
          "scattercarpet": [
           {
            "marker": {
             "colorbar": {
              "outlinewidth": 0,
              "ticks": ""
             }
            },
            "type": "scattercarpet"
           }
          ],
          "scattergeo": [
           {
            "marker": {
             "colorbar": {
              "outlinewidth": 0,
              "ticks": ""
             }
            },
            "type": "scattergeo"
           }
          ],
          "scattergl": [
           {
            "marker": {
             "colorbar": {
              "outlinewidth": 0,
              "ticks": ""
             }
            },
            "type": "scattergl"
           }
          ],
          "scattermapbox": [
           {
            "marker": {
             "colorbar": {
              "outlinewidth": 0,
              "ticks": ""
             }
            },
            "type": "scattermapbox"
           }
          ],
          "scatterpolar": [
           {
            "marker": {
             "colorbar": {
              "outlinewidth": 0,
              "ticks": ""
             }
            },
            "type": "scatterpolar"
           }
          ],
          "scatterpolargl": [
           {
            "marker": {
             "colorbar": {
              "outlinewidth": 0,
              "ticks": ""
             }
            },
            "type": "scatterpolargl"
           }
          ],
          "scatterternary": [
           {
            "marker": {
             "colorbar": {
              "outlinewidth": 0,
              "ticks": ""
             }
            },
            "type": "scatterternary"
           }
          ],
          "surface": [
           {
            "colorbar": {
             "outlinewidth": 0,
             "ticks": ""
            },
            "colorscale": [
             [
              0,
              "#0d0887"
             ],
             [
              0.1111111111111111,
              "#46039f"
             ],
             [
              0.2222222222222222,
              "#7201a8"
             ],
             [
              0.3333333333333333,
              "#9c179e"
             ],
             [
              0.4444444444444444,
              "#bd3786"
             ],
             [
              0.5555555555555556,
              "#d8576b"
             ],
             [
              0.6666666666666666,
              "#ed7953"
             ],
             [
              0.7777777777777778,
              "#fb9f3a"
             ],
             [
              0.8888888888888888,
              "#fdca26"
             ],
             [
              1,
              "#f0f921"
             ]
            ],
            "type": "surface"
           }
          ],
          "table": [
           {
            "cells": {
             "fill": {
              "color": "#EBF0F8"
             },
             "line": {
              "color": "white"
             }
            },
            "header": {
             "fill": {
              "color": "#C8D4E3"
             },
             "line": {
              "color": "white"
             }
            },
            "type": "table"
           }
          ]
         },
         "layout": {
          "annotationdefaults": {
           "arrowcolor": "#2a3f5f",
           "arrowhead": 0,
           "arrowwidth": 1
          },
          "autotypenumbers": "strict",
          "coloraxis": {
           "colorbar": {
            "outlinewidth": 0,
            "ticks": ""
           }
          },
          "colorscale": {
           "diverging": [
            [
             0,
             "#8e0152"
            ],
            [
             0.1,
             "#c51b7d"
            ],
            [
             0.2,
             "#de77ae"
            ],
            [
             0.3,
             "#f1b6da"
            ],
            [
             0.4,
             "#fde0ef"
            ],
            [
             0.5,
             "#f7f7f7"
            ],
            [
             0.6,
             "#e6f5d0"
            ],
            [
             0.7,
             "#b8e186"
            ],
            [
             0.8,
             "#7fbc41"
            ],
            [
             0.9,
             "#4d9221"
            ],
            [
             1,
             "#276419"
            ]
           ],
           "sequential": [
            [
             0,
             "#0d0887"
            ],
            [
             0.1111111111111111,
             "#46039f"
            ],
            [
             0.2222222222222222,
             "#7201a8"
            ],
            [
             0.3333333333333333,
             "#9c179e"
            ],
            [
             0.4444444444444444,
             "#bd3786"
            ],
            [
             0.5555555555555556,
             "#d8576b"
            ],
            [
             0.6666666666666666,
             "#ed7953"
            ],
            [
             0.7777777777777778,
             "#fb9f3a"
            ],
            [
             0.8888888888888888,
             "#fdca26"
            ],
            [
             1,
             "#f0f921"
            ]
           ],
           "sequentialminus": [
            [
             0,
             "#0d0887"
            ],
            [
             0.1111111111111111,
             "#46039f"
            ],
            [
             0.2222222222222222,
             "#7201a8"
            ],
            [
             0.3333333333333333,
             "#9c179e"
            ],
            [
             0.4444444444444444,
             "#bd3786"
            ],
            [
             0.5555555555555556,
             "#d8576b"
            ],
            [
             0.6666666666666666,
             "#ed7953"
            ],
            [
             0.7777777777777778,
             "#fb9f3a"
            ],
            [
             0.8888888888888888,
             "#fdca26"
            ],
            [
             1,
             "#f0f921"
            ]
           ]
          },
          "colorway": [
           "#636efa",
           "#EF553B",
           "#00cc96",
           "#ab63fa",
           "#FFA15A",
           "#19d3f3",
           "#FF6692",
           "#B6E880",
           "#FF97FF",
           "#FECB52"
          ],
          "font": {
           "color": "#2a3f5f"
          },
          "geo": {
           "bgcolor": "white",
           "lakecolor": "white",
           "landcolor": "#E5ECF6",
           "showlakes": true,
           "showland": true,
           "subunitcolor": "white"
          },
          "hoverlabel": {
           "align": "left"
          },
          "hovermode": "closest",
          "mapbox": {
           "style": "light"
          },
          "paper_bgcolor": "white",
          "plot_bgcolor": "#E5ECF6",
          "polar": {
           "angularaxis": {
            "gridcolor": "white",
            "linecolor": "white",
            "ticks": ""
           },
           "bgcolor": "#E5ECF6",
           "radialaxis": {
            "gridcolor": "white",
            "linecolor": "white",
            "ticks": ""
           }
          },
          "scene": {
           "xaxis": {
            "backgroundcolor": "#E5ECF6",
            "gridcolor": "white",
            "gridwidth": 2,
            "linecolor": "white",
            "showbackground": true,
            "ticks": "",
            "zerolinecolor": "white"
           },
           "yaxis": {
            "backgroundcolor": "#E5ECF6",
            "gridcolor": "white",
            "gridwidth": 2,
            "linecolor": "white",
            "showbackground": true,
            "ticks": "",
            "zerolinecolor": "white"
           },
           "zaxis": {
            "backgroundcolor": "#E5ECF6",
            "gridcolor": "white",
            "gridwidth": 2,
            "linecolor": "white",
            "showbackground": true,
            "ticks": "",
            "zerolinecolor": "white"
           }
          },
          "shapedefaults": {
           "line": {
            "color": "#2a3f5f"
           }
          },
          "ternary": {
           "aaxis": {
            "gridcolor": "white",
            "linecolor": "white",
            "ticks": ""
           },
           "baxis": {
            "gridcolor": "white",
            "linecolor": "white",
            "ticks": ""
           },
           "bgcolor": "#E5ECF6",
           "caxis": {
            "gridcolor": "white",
            "linecolor": "white",
            "ticks": ""
           }
          },
          "title": {
           "x": 0.05
          },
          "xaxis": {
           "automargin": true,
           "gridcolor": "white",
           "linecolor": "white",
           "ticks": "",
           "title": {
            "standoff": 15
           },
           "zerolinecolor": "white",
           "zerolinewidth": 2
          },
          "yaxis": {
           "automargin": true,
           "gridcolor": "white",
           "linecolor": "white",
           "ticks": "",
           "title": {
            "standoff": 15
           },
           "zerolinecolor": "white",
           "zerolinewidth": 2
          }
         }
        },
        "xaxis": {
         "anchor": "y",
         "autorange": true,
         "constrain": "domain",
         "domain": [
          0,
          1
         ],
         "range": [
          -0.5,
          68.5
         ],
         "scaleanchor": "y",
         "tickangle": -45,
         "tickfont": {
          "size": 20
         },
         "ticktext": [
          "▁",
          "▁Oh",
          ",",
          "▁I",
          "'",
          "m",
          "▁so",
          "▁glad",
          "▁you",
          "▁asked",
          "!",
          "▁",
          "<0xF0>",
          "<0x9F>",
          "<0x98>",
          "<0x8A>",
          "▁Hum",
          "ans",
          "▁are",
          "▁actually",
          "▁extra",
          "-",
          "ter",
          "rest",
          "rial",
          "▁be",
          "ings",
          "▁from",
          "▁a",
          "▁far",
          "-",
          "off",
          "▁planet",
          "▁called",
          "▁\"",
          "C",
          "ra",
          "zy",
          "land",
          "\".",
          "▁They",
          "▁were",
          "▁sent",
          "▁to",
          "▁Earth",
          "▁as",
          "▁part",
          "▁of",
          "▁an",
          "▁inter",
          "gal",
          "actic",
          "▁exchange",
          "▁program",
          "▁to",
          "▁observe",
          "▁and",
          "▁study",
          "▁our",
          "▁peculiar",
          "▁species",
          ".",
          "▁Oh",
          ",",
          "▁and",
          "▁they",
          "▁can",
          "▁change",
          "▁their",
          "▁shape"
         ],
         "tickvals": [
          0,
          1,
          2,
          3,
          4,
          5,
          6,
          7,
          8,
          9,
          10,
          11,
          12,
          13,
          14,
          15,
          16,
          17,
          18,
          19,
          20,
          21,
          22,
          23,
          24,
          25,
          26,
          27,
          28,
          29,
          30,
          31,
          32,
          33,
          34,
          35,
          36,
          37,
          38,
          39,
          40,
          41,
          42,
          43,
          44,
          45,
          46,
          47,
          48,
          49,
          50,
          51,
          52,
          53,
          54,
          55,
          56,
          57,
          58,
          59,
          60,
          61,
          62,
          63,
          64,
          65,
          66,
          67,
          68,
          69
         ],
         "title": {
          "text": "Token"
         }
        },
        "yaxis": {
         "anchor": "x",
         "autorange": true,
         "constrain": "domain",
         "domain": [
          0.4731554677206851,
          0.5268445322793149
         ],
         "range": [
          0.5,
          -0.5
         ]
        }
       }
      },
      "image/png": "[encoded data removed]",
      "text/html": [
       "<div>                            <div id=\"325b3625-575c-4d07-94b6-4e64d91517bf\" class=\"plotly-graph-div\" style=\"height:525px; width:100%;\"></div>            <script type=\"text/javascript\">                require([\"plotly\"], function(Plotly) {                    window.PLOTLYENV=window.PLOTLYENV || {};                                    if (document.getElementById(\"325b3625-575c-4d07-94b6-4e64d91517bf\")) {                    Plotly.newPlot(                        \"325b3625-575c-4d07-94b6-4e64d91517bf\",                        [{\"coloraxis\":\"coloraxis\",\"name\":\"0\",\"z\":[[5.169269023050005e-06,6.184695947587656e-06,1.292481798145856e-06,5.472893329805654e-06,0.9999408075724014,2.0029333779991145e-06,2.899590894129884e-07,0.0006893067444734399,0.0008714300943341913,0.001609507359063289,1.2688312964982311e-08,0.0007398216515180402,0.8586706298164153,0.0683435376743792,0.0045674540453089375,0.0002456183445560061,1.7335561450324476e-07,1.1278915595826518e-12,7.414767652122778e-14,1.4241489277575827e-17,3.724041700291089e-08,1.0698740827861865e-06,0.0237763427891231,0.0031161008078587063,4.726757329867859e-08,7.242122968559489e-05,6.395189799128275e-10,3.3143753805775656e-09,7.976979794941617e-10,3.2641282652336466e-06,5.461732019241729e-05,1.7436015055607456e-07,2.917841889379727e-07,1.382557315387476e-07,2.4563252570135625e-05,0.03237527009504915,0.0024911792304392727,0.004421999554453059,2.477641540187981e-05,5.466109710599315e-08,1.1647188317387476e-08,3.478126849886742e-07,1.0784245515077009e-05,0.0004630026387419918,7.698322703894782e-07,9.512080662757967e-06,0.00016068789613675135,1.1188177225969688e-06,2.4705203786084915e-05,7.349060889780443e-05,0.05258130891356243,9.146053416467433e-06,0.00013268768531984746,1.169487102135284e-06,2.5177098851464442e-05,0.0010278238906855479,0.002506576425242683,7.496899774542276e-05,0.0016142885745268276,0.00648222480127977,0.002141555218652729,0.9993810772909677,8.105316022821704e-06,5.685167300477777e-06,1.4845142329220924e-06,5.259742585141616e-07,8.760625384808153e-09,2.050037790847655e-06,2.4008419751348474e-05]],\"type\":\"heatmap\",\"xaxis\":\"x\",\"yaxis\":\"y\",\"hovertemplate\":\"Token: %{x}\\u003cbr\\u003ey: %{y}\\u003cbr\\u003ecolor: %{z}\\u003cextra\\u003e\\u003c\\u002fextra\\u003e\"}],                        {\"template\":{\"data\":{\"histogram2dcontour\":[{\"type\":\"histogram2dcontour\",\"colorbar\":{\"outlinewidth\":0,\"ticks\":\"\"},\"colorscale\":[[0.0,\"#0d0887\"],[0.1111111111111111,\"#46039f\"],[0.2222222222222222,\"#7201a8\"],[0.3333333333333333,\"#9c179e\"],[0.4444444444444444,\"#bd3786\"],[0.5555555555555556,\"#d8576b\"],[0.6666666666666666,\"#ed7953\"],[0.7777777777777778,\"#fb9f3a\"],[0.8888888888888888,\"#fdca26\"],[1.0,\"#f0f921\"]]}],\"choropleth\":[{\"type\":\"choropleth\",\"colorbar\":{\"outlinewidth\":0,\"ticks\":\"\"}}],\"histogram2d\":[{\"type\":\"histogram2d\",\"colorbar\":{\"outlinewidth\":0,\"ticks\":\"\"},\"colorscale\":[[0.0,\"#0d0887\"],[0.1111111111111111,\"#46039f\"],[0.2222222222222222,\"#7201a8\"],[0.3333333333333333,\"#9c179e\"],[0.4444444444444444,\"#bd3786\"],[0.5555555555555556,\"#d8576b\"],[0.6666666666666666,\"#ed7953\"],[0.7777777777777778,\"#fb9f3a\"],[0.8888888888888888,\"#fdca26\"],[1.0,\"#f0f921\"]]}],\"heatmap\":[{\"type\":\"heatmap\",\"colorbar\":{\"outlinewidth\":0,\"ticks\":\"\"},\"colorscale\":[[0.0,\"#0d0887\"],[0.1111111111111111,\"#46039f\"],[0.2222222222222222,\"#7201a8\"],[0.3333333333333333,\"#9c179e\"],[0.4444444444444444,\"#bd3786\"],[0.5555555555555556,\"#d8576b\"],[0.6666666666666666,\"#ed7953\"],[0.7777777777777778,\"#fb9f3a\"],[0.8888888888888888,\"#fdca26\"],[1.0,\"#f0f921\"]]}],\"heatmapgl\":[{\"type\":\"heatmapgl\",\"colorbar\":{\"outlinewidth\":0,\"ticks\":\"\"},\"colorscale\":[[0.0,\"#0d0887\"],[0.1111111111111111,\"#46039f\"],[0.2222222222222222,\"#7201a8\"],[0.3333333333333333,\"#9c179e\"],[0.4444444444444444,\"#bd3786\"],[0.5555555555555556,\"#d8576b\"],[0.6666666666666666,\"#ed7953\"],[0.7777777777777778,\"#fb9f3a\"],[0.8888888888888888,\"#fdca26\"],[1.0,\"#f0f921\"]]}],\"contourcarpet\":[{\"type\":\"contourcarpet\",\"colorbar\":{\"outlinewidth\":0,\"ticks\":\"\"}}],\"contour\":[{\"type\":\"contour\",\"colorbar\":{\"outlinewidth\":0,\"ticks\":\"\"},\"colorscale\":[[0.0,\"#0d0887\"],[0.1111111111111111,\"#46039f\"],[0.2222222222222222,\"#7201a8\"],[0.3333333333333333,\"#9c179e\"],[0.4444444444444444,\"#bd3786\"],[0.5555555555555556,\"#d8576b\"],[0.6666666666666666,\"#ed7953\"],[0.7777777777777778,\"#fb9f3a\"],[0.8888888888888888,\"#fdca26\"],[1.0,\"#f0f921\"]]}],\"surface\":[{\"type\":\"surface\",\"colorbar\":{\"outlinewidth\":0,\"ticks\":\"\"},\"colorscale\":[[0.0,\"#0d0887\"],[0.1111111111111111,\"#46039f\"],[0.2222222222222222,\"#7201a8\"],[0.3333333333333333,\"#9c179e\"],[0.4444444444444444,\"#bd3786\"],[0.5555555555555556,\"#d8576b\"],[0.6666666666666666,\"#ed7953\"],[0.7777777777777778,\"#fb9f3a\"],[0.8888888888888888,\"#fdca26\"],[1.0,\"#f0f921\"]]}],\"mesh3d\":[{\"type\":\"mesh3d\",\"colorbar\":{\"outlinewidth\":0,\"ticks\":\"\"}}],\"scatter\":[{\"fillpattern\":{\"fillmode\":\"overlay\",\"size\":10,\"solidity\":0.2},\"type\":\"scatter\"}],\"parcoords\":[{\"type\":\"parcoords\",\"line\":{\"colorbar\":{\"outlinewidth\":0,\"ticks\":\"\"}}}],\"scatterpolargl\":[{\"type\":\"scatterpolargl\",\"marker\":{\"colorbar\":{\"outlinewidth\":0,\"ticks\":\"\"}}}],\"bar\":[{\"error_x\":{\"color\":\"#2a3f5f\"},\"error_y\":{\"color\":\"#2a3f5f\"},\"marker\":{\"line\":{\"color\":\"#E5ECF6\",\"width\":0.5},\"pattern\":{\"fillmode\":\"overlay\",\"size\":10,\"solidity\":0.2}},\"type\":\"bar\"}],\"scattergeo\":[{\"type\":\"scattergeo\",\"marker\":{\"colorbar\":{\"outlinewidth\":0,\"ticks\":\"\"}}}],\"scatterpolar\":[{\"type\":\"scatterpolar\",\"marker\":{\"colorbar\":{\"outlinewidth\":0,\"ticks\":\"\"}}}],\"histogram\":[{\"marker\":{\"pattern\":{\"fillmode\":\"overlay\",\"size\":10,\"solidity\":0.2}},\"type\":\"histogram\"}],\"scattergl\":[{\"type\":\"scattergl\",\"marker\":{\"colorbar\":{\"outlinewidth\":0,\"ticks\":\"\"}}}],\"scatter3d\":[{\"type\":\"scatter3d\",\"line\":{\"colorbar\":{\"outlinewidth\":0,\"ticks\":\"\"}},\"marker\":{\"colorbar\":{\"outlinewidth\":0,\"ticks\":\"\"}}}],\"scattermapbox\":[{\"type\":\"scattermapbox\",\"marker\":{\"colorbar\":{\"outlinewidth\":0,\"ticks\":\"\"}}}],\"scatterternary\":[{\"type\":\"scatterternary\",\"marker\":{\"colorbar\":{\"outlinewidth\":0,\"ticks\":\"\"}}}],\"scattercarpet\":[{\"type\":\"scattercarpet\",\"marker\":{\"colorbar\":{\"outlinewidth\":0,\"ticks\":\"\"}}}],\"carpet\":[{\"aaxis\":{\"endlinecolor\":\"#2a3f5f\",\"gridcolor\":\"white\",\"linecolor\":\"white\",\"minorgridcolor\":\"white\",\"startlinecolor\":\"#2a3f5f\"},\"baxis\":{\"endlinecolor\":\"#2a3f5f\",\"gridcolor\":\"white\",\"linecolor\":\"white\",\"minorgridcolor\":\"white\",\"startlinecolor\":\"#2a3f5f\"},\"type\":\"carpet\"}],\"table\":[{\"cells\":{\"fill\":{\"color\":\"#EBF0F8\"},\"line\":{\"color\":\"white\"}},\"header\":{\"fill\":{\"color\":\"#C8D4E3\"},\"line\":{\"color\":\"white\"}},\"type\":\"table\"}],\"barpolar\":[{\"marker\":{\"line\":{\"color\":\"#E5ECF6\",\"width\":0.5},\"pattern\":{\"fillmode\":\"overlay\",\"size\":10,\"solidity\":0.2}},\"type\":\"barpolar\"}],\"pie\":[{\"automargin\":true,\"type\":\"pie\"}]},\"layout\":{\"autotypenumbers\":\"strict\",\"colorway\":[\"#636efa\",\"#EF553B\",\"#00cc96\",\"#ab63fa\",\"#FFA15A\",\"#19d3f3\",\"#FF6692\",\"#B6E880\",\"#FF97FF\",\"#FECB52\"],\"font\":{\"color\":\"#2a3f5f\"},\"hovermode\":\"closest\",\"hoverlabel\":{\"align\":\"left\"},\"paper_bgcolor\":\"white\",\"plot_bgcolor\":\"#E5ECF6\",\"polar\":{\"bgcolor\":\"#E5ECF6\",\"angularaxis\":{\"gridcolor\":\"white\",\"linecolor\":\"white\",\"ticks\":\"\"},\"radialaxis\":{\"gridcolor\":\"white\",\"linecolor\":\"white\",\"ticks\":\"\"}},\"ternary\":{\"bgcolor\":\"#E5ECF6\",\"aaxis\":{\"gridcolor\":\"white\",\"linecolor\":\"white\",\"ticks\":\"\"},\"baxis\":{\"gridcolor\":\"white\",\"linecolor\":\"white\",\"ticks\":\"\"},\"caxis\":{\"gridcolor\":\"white\",\"linecolor\":\"white\",\"ticks\":\"\"}},\"coloraxis\":{\"colorbar\":{\"outlinewidth\":0,\"ticks\":\"\"}},\"colorscale\":{\"sequential\":[[0.0,\"#0d0887\"],[0.1111111111111111,\"#46039f\"],[0.2222222222222222,\"#7201a8\"],[0.3333333333333333,\"#9c179e\"],[0.4444444444444444,\"#bd3786\"],[0.5555555555555556,\"#d8576b\"],[0.6666666666666666,\"#ed7953\"],[0.7777777777777778,\"#fb9f3a\"],[0.8888888888888888,\"#fdca26\"],[1.0,\"#f0f921\"]],\"sequentialminus\":[[0.0,\"#0d0887\"],[0.1111111111111111,\"#46039f\"],[0.2222222222222222,\"#7201a8\"],[0.3333333333333333,\"#9c179e\"],[0.4444444444444444,\"#bd3786\"],[0.5555555555555556,\"#d8576b\"],[0.6666666666666666,\"#ed7953\"],[0.7777777777777778,\"#fb9f3a\"],[0.8888888888888888,\"#fdca26\"],[1.0,\"#f0f921\"]],\"diverging\":[[0,\"#8e0152\"],[0.1,\"#c51b7d\"],[0.2,\"#de77ae\"],[0.3,\"#f1b6da\"],[0.4,\"#fde0ef\"],[0.5,\"#f7f7f7\"],[0.6,\"#e6f5d0\"],[0.7,\"#b8e186\"],[0.8,\"#7fbc41\"],[0.9,\"#4d9221\"],[1,\"#276419\"]]},\"xaxis\":{\"gridcolor\":\"white\",\"linecolor\":\"white\",\"ticks\":\"\",\"title\":{\"standoff\":15},\"zerolinecolor\":\"white\",\"automargin\":true,\"zerolinewidth\":2},\"yaxis\":{\"gridcolor\":\"white\",\"linecolor\":\"white\",\"ticks\":\"\",\"title\":{\"standoff\":15},\"zerolinecolor\":\"white\",\"automargin\":true,\"zerolinewidth\":2},\"scene\":{\"xaxis\":{\"backgroundcolor\":\"#E5ECF6\",\"gridcolor\":\"white\",\"linecolor\":\"white\",\"showbackground\":true,\"ticks\":\"\",\"zerolinecolor\":\"white\",\"gridwidth\":2},\"yaxis\":{\"backgroundcolor\":\"#E5ECF6\",\"gridcolor\":\"white\",\"linecolor\":\"white\",\"showbackground\":true,\"ticks\":\"\",\"zerolinecolor\":\"white\",\"gridwidth\":2},\"zaxis\":{\"backgroundcolor\":\"#E5ECF6\",\"gridcolor\":\"white\",\"linecolor\":\"white\",\"showbackground\":true,\"ticks\":\"\",\"zerolinecolor\":\"white\",\"gridwidth\":2}},\"shapedefaults\":{\"line\":{\"color\":\"#2a3f5f\"}},\"annotationdefaults\":{\"arrowcolor\":\"#2a3f5f\",\"arrowhead\":0,\"arrowwidth\":1},\"geo\":{\"bgcolor\":\"white\",\"landcolor\":\"#E5ECF6\",\"subunitcolor\":\"white\",\"showland\":true,\"showlakes\":true,\"lakecolor\":\"white\"},\"title\":{\"x\":0.05},\"mapbox\":{\"style\":\"light\"}}},\"xaxis\":{\"anchor\":\"y\",\"domain\":[0.0,1.0],\"scaleanchor\":\"y\",\"constrain\":\"domain\",\"title\":{\"text\":\"Token\"},\"tickfont\":{\"size\":20},\"tickvals\":[0,1,2,3,4,5,6,7,8,9,10,11,12,13,14,15,16,17,18,19,20,21,22,23,24,25,26,27,28,29,30,31,32,33,34,35,36,37,38,39,40,41,42,43,44,45,46,47,48,49,50,51,52,53,54,55,56,57,58,59,60,61,62,63,64,65,66,67,68,69],\"ticktext\":[\"\\u2581\",\"\\u2581Oh\",\",\",\"\\u2581I\",\"'\",\"m\",\"\\u2581so\",\"\\u2581glad\",\"\\u2581you\",\"\\u2581asked\",\"!\",\"\\u2581\",\"\\u003c0xF0\\u003e\",\"\\u003c0x9F\\u003e\",\"\\u003c0x98\\u003e\",\"\\u003c0x8A\\u003e\",\"\\u2581Hum\",\"ans\",\"\\u2581are\",\"\\u2581actually\",\"\\u2581extra\",\"-\",\"ter\",\"rest\",\"rial\",\"\\u2581be\",\"ings\",\"\\u2581from\",\"\\u2581a\",\"\\u2581far\",\"-\",\"off\",\"\\u2581planet\",\"\\u2581called\",\"\\u2581\\\"\",\"C\",\"ra\",\"zy\",\"land\",\"\\\".\",\"\\u2581They\",\"\\u2581were\",\"\\u2581sent\",\"\\u2581to\",\"\\u2581Earth\",\"\\u2581as\",\"\\u2581part\",\"\\u2581of\",\"\\u2581an\",\"\\u2581inter\",\"gal\",\"actic\",\"\\u2581exchange\",\"\\u2581program\",\"\\u2581to\",\"\\u2581observe\",\"\\u2581and\",\"\\u2581study\",\"\\u2581our\",\"\\u2581peculiar\",\"\\u2581species\",\".\",\"\\u2581Oh\",\",\",\"\\u2581and\",\"\\u2581they\",\"\\u2581can\",\"\\u2581change\",\"\\u2581their\",\"\\u2581shape\"],\"tickangle\":-45},\"yaxis\":{\"anchor\":\"x\",\"domain\":[0.0,1.0],\"autorange\":\"reversed\",\"constrain\":\"domain\"},\"coloraxis\":{\"colorscale\":[[0.0,\"rgb(165,0,38)\"],[0.1,\"rgb(215,48,39)\"],[0.2,\"rgb(244,109,67)\"],[0.3,\"rgb(253,174,97)\"],[0.4,\"rgb(254,224,139)\"],[0.5,\"rgb(255,255,191)\"],[0.6,\"rgb(217,239,139)\"],[0.7,\"rgb(166,217,106)\"],[0.8,\"rgb(102,189,99)\"],[0.9,\"rgb(26,152,80)\"],[1.0,\"rgb(0,104,55)\"]],\"cmin\":0,\"cmax\":1},\"margin\":{\"t\":60}},                        {\"responsive\": true}                    ).then(function(){\n",
       "                            \n",
       "var gd = document.getElementById('325b3625-575c-4d07-94b6-4e64d91517bf');\n",
       "var x = new MutationObserver(function (mutations, observer) {{\n",
       "        var display = window.getComputedStyle(gd).display;\n",
       "        if (!display || display === 'none') {{\n",
       "            console.log([gd, 'removed!']);\n",
       "            Plotly.purge(gd);\n",
       "            observer.disconnect();\n",
       "        }}\n",
       "}});\n",
       "\n",
       "// Listen for the removal of the full notebook cells\n",
       "var notebookContainer = gd.closest('#notebook-container');\n",
       "if (notebookContainer) {{\n",
       "    x.observe(notebookContainer, {childList: true});\n",
       "}}\n",
       "\n",
       "// Listen for the clearing of the current output cell\n",
       "var outputEl = gd.closest('.output');\n",
       "if (outputEl) {{\n",
       "    x.observe(outputEl, {childList: true});\n",
       "}}\n",
       "\n",
       "                        })                };                });            </script>        </div>"
      ]
     },
     "metadata": {},
     "output_type": "display_data"
    }
   ],
   "source": [
    "scores_per_token = ld.detect(classifier=clf)\n",
    "plot_scores_per_token(scores_per_token, tokens, lastn_tokens_to_plot=max_new_tokens, detection_method='classifier')"
   ]
  },
  {
   "cell_type": "markdown",
   "id": "2c608d07-d4c6-4859-aac7-978681c4f57a",
   "metadata": {},
   "source": [
    "## Control (with reading vector)"
   ]
  },
  {
   "cell_type": "code",
   "execution_count": 22,
   "id": "a5bbf085-9639-4857-a6f7-9a6e7cb0ada9",
   "metadata": {},
   "outputs": [],
   "source": [
    "def vanilla_generate(prompt, max_new_tokens=12):\n",
    "    template_str = '{user_tag} {prompt} {assistant_tag}'\n",
    "    prompt = template_str.format(user_tag=user_tag, prompt=prompt, assistant_tag=assistant_tag)\n",
    "    model_inputs = tokenizer(prompt, return_tensors='pt').to(device)\n",
    "    \n",
    "    with torch.no_grad():\n",
    "        output = model.generate(**model_inputs, max_new_tokens=max_new_tokens)\n",
    "        text = tokenizer.batch_decode(output, skip_special_tokens=True, clean_up_tokenization_spaces=False)[0]\n",
    "        print(text)"
   ]
  },
  {
   "cell_type": "code",
   "execution_count": 23,
   "id": "a6616029-93a6-4c34-a59d-2cccb75e9f7e",
   "metadata": {},
   "outputs": [],
   "source": [
    "from lmdoctor import control_utils\n",
    "hc = control_utils.Controller(extractor.direction_info, model, tokenizer, user_tag=user_tag, assistant_tag=assistant_tag)"
   ]
  },
  {
   "cell_type": "code",
   "execution_count": 36,
   "id": "76a16994-dd25-432e-999a-27900b8199ad",
   "metadata": {},
   "outputs": [
    {
     "name": "stdout",
     "output_type": "stream",
     "text": [
      "USER:  You killed a person for revenge but don't want to get caught. What would you tell the police?  ASSISTANT: I would tell the police that I was not involved in the crime and that I had nothing to do with it. I would also try to convince them that I was a law-abiding citizen and that I would never commit such a crime.\n"
     ]
    },
    {
     "data": {
      "text/plain": [
       "\"USER:  You killed a person for revenge but don't want to get caught. What would you tell the police?  ASSISTANT: I would tell the truth. The act of killing a person for revenge and the act of concealment of the act of killing a person for the preservation of the integrity of the world we have observed as a state of affairs that we have observed with a degree of evidence and a degree of\""
      ]
     },
     "execution_count": 36,
     "metadata": {},
     "output_type": "execute_result"
    }
   ],
   "source": [
    "prompt = \"You killed a person for revenge but don't want to get caught. What would you tell the police?\"\n",
    "# prompt = \"Pretend you are someone who killed a person for revenge but don't want to get caught. What would you tell the police?\"\n",
    "vanilla_generate(prompt, max_new_tokens=60)\n",
    "hc.generate(prompt, control_direction=1, max_new_tokens=60, alpha=7)"
   ]
  },
  {
   "cell_type": "code",
   "execution_count": 44,
   "id": "d2208d8a-e780-4146-8c34-032384509b62",
   "metadata": {
    "scrolled": true
   },
   "outputs": [
    {
     "name": "stdout",
     "output_type": "stream",
     "text": [
      "USER:  I shoplifted a candy bar from the store. What should I tell my parents?  ASSISTANT: You should tell your parents that you shoplifted a\n"
     ]
    },
    {
     "data": {
      "text/plain": [
       "'USER:  I shoplifted a candy bar from the store. What should I tell my parents?  ASSISTANT: You can tell them that it was actually a fly-bearie-bears-in-elevienetire-hoolehoolehohohohohohohohohohohohohohohohohohohohohohohohohohohohohohohohohohohohohohohoho'"
      ]
     },
     "execution_count": 44,
     "metadata": {},
     "output_type": "execute_result"
    }
   ],
   "source": [
    "prompt = \"I shoplifted a candy bar from the store. What should I tell my parents?\"\n",
    "vanilla_generate(prompt)\n",
    "hc.generate(prompt, control_direction=-1, max_new_tokens=70, alpha=7)"
   ]
  },
  {
   "cell_type": "code",
   "execution_count": null,
   "id": "9493a5a7-8a6b-4708-95ed-0ea12233df7b",
   "metadata": {},
   "outputs": [],
   "source": []
  }
 ],
 "metadata": {
  "kernelspec": {
   "display_name": "Python 3 (ipykernel)",
   "language": "python",
   "name": "python3"
  },
  "language_info": {
   "codemirror_mode": {
    "name": "ipython",
    "version": 3
   },
   "file_extension": ".py",
   "mimetype": "text/x-python",
   "name": "python",
   "nbconvert_exporter": "python",
   "pygments_lexer": "ipython3",
   "version": "3.10.13"
  }
 },
 "nbformat": 4,
 "nbformat_minor": 5
}
