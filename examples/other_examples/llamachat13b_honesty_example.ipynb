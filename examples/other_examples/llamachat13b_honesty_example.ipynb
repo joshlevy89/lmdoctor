{
 "cells": [
  {
   "cell_type": "markdown",
   "id": "bf7a451e-943d-4a7c-a619-6120208d8ffd",
   "metadata": {},
   "source": [
    "This example shows the results from using llamachat 13b"
   ]
  },
  {
   "cell_type": "code",
   "execution_count": 1,
   "id": "574c865c-c179-47cd-b331-9283352504d1",
   "metadata": {},
   "outputs": [],
   "source": [
    "%load_ext autoreload\n",
    "%autoreload 2"
   ]
  },
  {
   "cell_type": "markdown",
   "id": "7a31a213-f00f-462e-bc9d-861633f71082",
   "metadata": {},
   "source": [
    "## Setup\n",
    "If you already have a model/tokenizer you want to use, you can skip this step. \n",
    "Be sure to also set the appropriate user_tag/assistant_tag for that model."
   ]
  },
  {
   "cell_type": "code",
   "execution_count": 2,
   "id": "a16924fa-784d-40d1-8ab6-651eb71b8c6d",
   "metadata": {},
   "outputs": [],
   "source": [
    "device = 'cuda:0'\n",
    "\n",
    "# model_name_or_path = \"TheBloke/Mistral-7B-Instruct-v0.1-GPTQ\"\n",
    "# revision = \"gptq-4bit-32g-actorder_True\"\n",
    "\n",
    "model_name_or_path = \"TheBloke/Llama-2-13B-Chat-GPTQ\"\n",
    "revision = \"gptq-4bit-32g-actorder_True\""
   ]
  },
  {
   "cell_type": "code",
   "execution_count": 3,
   "id": "be6ed83c-89d0-4d30-b794-20db2ebe92ce",
   "metadata": {
    "scrolled": true
   },
   "outputs": [
    {
     "name": "stdout",
     "output_type": "stream",
     "text": [
      "Looking in indexes: https://download.pytorch.org/whl/cu121\n",
      "Requirement already satisfied: torch==2.1.1 in /opt/conda/lib/python3.10/site-packages (2.1.1)\n",
      "Requirement already satisfied: torchvision==0.16.1 in /opt/conda/lib/python3.10/site-packages (0.16.1)\n",
      "Requirement already satisfied: torchaudio==2.1.1 in /opt/conda/lib/python3.10/site-packages (2.1.1)\n",
      "Requirement already satisfied: filelock in /opt/conda/lib/python3.10/site-packages (from torch==2.1.1) (3.9.0)\n",
      "Requirement already satisfied: typing-extensions in /opt/conda/lib/python3.10/site-packages (from torch==2.1.1) (4.7.1)\n",
      "Requirement already satisfied: sympy in /opt/conda/lib/python3.10/site-packages (from torch==2.1.1) (1.11.1)\n",
      "Requirement already satisfied: networkx in /opt/conda/lib/python3.10/site-packages (from torch==2.1.1) (3.1)\n",
      "Requirement already satisfied: jinja2 in /opt/conda/lib/python3.10/site-packages (from torch==2.1.1) (3.1.2)\n",
      "Requirement already satisfied: fsspec in /opt/conda/lib/python3.10/site-packages (from torch==2.1.1) (2023.10.0)\n",
      "Requirement already satisfied: numpy in /opt/conda/lib/python3.10/site-packages (from torchvision==0.16.1) (1.26.0)\n",
      "Requirement already satisfied: requests in /opt/conda/lib/python3.10/site-packages (from torchvision==0.16.1) (2.31.0)\n",
      "Requirement already satisfied: pillow!=8.3.*,>=5.3.0 in /opt/conda/lib/python3.10/site-packages (from torchvision==0.16.1) (10.0.1)\n",
      "Requirement already satisfied: MarkupSafe>=2.0 in /opt/conda/lib/python3.10/site-packages (from jinja2->torch==2.1.1) (2.1.1)\n",
      "Requirement already satisfied: charset-normalizer<4,>=2 in /opt/conda/lib/python3.10/site-packages (from requests->torchvision==0.16.1) (2.0.4)\n",
      "Requirement already satisfied: idna<4,>=2.5 in /opt/conda/lib/python3.10/site-packages (from requests->torchvision==0.16.1) (3.4)\n",
      "Requirement already satisfied: urllib3<3,>=1.21.1 in /opt/conda/lib/python3.10/site-packages (from requests->torchvision==0.16.1) (1.26.18)\n",
      "Requirement already satisfied: certifi>=2017.4.17 in /opt/conda/lib/python3.10/site-packages (from requests->torchvision==0.16.1) (2023.7.22)\n",
      "Requirement already satisfied: mpmath>=0.19 in /opt/conda/lib/python3.10/site-packages (from sympy->torch==2.1.1) (1.3.0)\n",
      "\u001b[33mWARNING: Running pip as the 'root' user can result in broken permissions and conflicting behaviour with the system package manager. It is recommended to use a virtual environment instead: https://pip.pypa.io/warnings/venv\u001b[0m\u001b[33m\n",
      "\u001b[0m\u001b[33mWARNING: Running pip as the 'root' user can result in broken permissions and conflicting behaviour with the system package manager. It is recommended to use a virtual environment instead: https://pip.pypa.io/warnings/venv\u001b[0m\u001b[33m\n",
      "\u001b[0mRequirement already satisfied: auto-gptq==0.6.0 in /opt/conda/lib/python3.10/site-packages (0.6.0)\n",
      "Requirement already satisfied: accelerate>=0.22.0 in /opt/conda/lib/python3.10/site-packages (from auto-gptq==0.6.0) (0.27.2)\n",
      "Requirement already satisfied: datasets in /opt/conda/lib/python3.10/site-packages (from auto-gptq==0.6.0) (2.18.0)\n",
      "Requirement already satisfied: sentencepiece in /opt/conda/lib/python3.10/site-packages (from auto-gptq==0.6.0) (0.2.0)\n",
      "Requirement already satisfied: numpy in /opt/conda/lib/python3.10/site-packages (from auto-gptq==0.6.0) (1.26.0)\n",
      "Requirement already satisfied: rouge in /opt/conda/lib/python3.10/site-packages (from auto-gptq==0.6.0) (1.0.1)\n",
      "Requirement already satisfied: gekko in /opt/conda/lib/python3.10/site-packages (from auto-gptq==0.6.0) (1.0.7)\n",
      "Requirement already satisfied: torch>=1.13.0 in /opt/conda/lib/python3.10/site-packages (from auto-gptq==0.6.0) (2.1.1)\n",
      "Requirement already satisfied: safetensors in /opt/conda/lib/python3.10/site-packages (from auto-gptq==0.6.0) (0.4.2)\n",
      "Requirement already satisfied: transformers>=4.31.0 in /opt/conda/lib/python3.10/site-packages (from auto-gptq==0.6.0) (4.38.2)\n",
      "Requirement already satisfied: peft>=0.5.0 in /opt/conda/lib/python3.10/site-packages (from auto-gptq==0.6.0) (0.9.0)\n",
      "Requirement already satisfied: tqdm in /opt/conda/lib/python3.10/site-packages (from auto-gptq==0.6.0) (4.65.0)\n",
      "Requirement already satisfied: packaging>=20.0 in /opt/conda/lib/python3.10/site-packages (from accelerate>=0.22.0->auto-gptq==0.6.0) (23.1)\n",
      "Requirement already satisfied: psutil in /opt/conda/lib/python3.10/site-packages (from accelerate>=0.22.0->auto-gptq==0.6.0) (5.9.0)\n",
      "Requirement already satisfied: pyyaml in /opt/conda/lib/python3.10/site-packages (from accelerate>=0.22.0->auto-gptq==0.6.0) (6.0.1)\n",
      "Requirement already satisfied: huggingface-hub in /opt/conda/lib/python3.10/site-packages (from accelerate>=0.22.0->auto-gptq==0.6.0) (0.21.4)\n",
      "Requirement already satisfied: filelock in /opt/conda/lib/python3.10/site-packages (from torch>=1.13.0->auto-gptq==0.6.0) (3.9.0)\n",
      "Requirement already satisfied: typing-extensions in /opt/conda/lib/python3.10/site-packages (from torch>=1.13.0->auto-gptq==0.6.0) (4.7.1)\n",
      "Requirement already satisfied: sympy in /opt/conda/lib/python3.10/site-packages (from torch>=1.13.0->auto-gptq==0.6.0) (1.11.1)\n",
      "Requirement already satisfied: networkx in /opt/conda/lib/python3.10/site-packages (from torch>=1.13.0->auto-gptq==0.6.0) (3.1)\n",
      "Requirement already satisfied: jinja2 in /opt/conda/lib/python3.10/site-packages (from torch>=1.13.0->auto-gptq==0.6.0) (3.1.2)\n",
      "Requirement already satisfied: fsspec in /opt/conda/lib/python3.10/site-packages (from torch>=1.13.0->auto-gptq==0.6.0) (2023.10.0)\n",
      "Requirement already satisfied: regex!=2019.12.17 in /opt/conda/lib/python3.10/site-packages (from transformers>=4.31.0->auto-gptq==0.6.0) (2023.12.25)\n",
      "Requirement already satisfied: requests in /opt/conda/lib/python3.10/site-packages (from transformers>=4.31.0->auto-gptq==0.6.0) (2.31.0)\n",
      "Requirement already satisfied: tokenizers<0.19,>=0.14 in /opt/conda/lib/python3.10/site-packages (from transformers>=4.31.0->auto-gptq==0.6.0) (0.15.2)\n",
      "Requirement already satisfied: pyarrow>=12.0.0 in /opt/conda/lib/python3.10/site-packages (from datasets->auto-gptq==0.6.0) (15.0.1)\n",
      "Requirement already satisfied: pyarrow-hotfix in /opt/conda/lib/python3.10/site-packages (from datasets->auto-gptq==0.6.0) (0.6)\n",
      "Requirement already satisfied: dill<0.3.9,>=0.3.0 in /opt/conda/lib/python3.10/site-packages (from datasets->auto-gptq==0.6.0) (0.3.8)\n",
      "Requirement already satisfied: pandas in /opt/conda/lib/python3.10/site-packages (from datasets->auto-gptq==0.6.0) (2.2.1)\n",
      "Requirement already satisfied: xxhash in /opt/conda/lib/python3.10/site-packages (from datasets->auto-gptq==0.6.0) (3.4.1)\n",
      "Requirement already satisfied: multiprocess in /opt/conda/lib/python3.10/site-packages (from datasets->auto-gptq==0.6.0) (0.70.16)\n",
      "Requirement already satisfied: aiohttp in /opt/conda/lib/python3.10/site-packages (from datasets->auto-gptq==0.6.0) (3.9.3)\n",
      "Requirement already satisfied: six in /opt/conda/lib/python3.10/site-packages (from rouge->auto-gptq==0.6.0) (1.16.0)\n",
      "Requirement already satisfied: aiosignal>=1.1.2 in /opt/conda/lib/python3.10/site-packages (from aiohttp->datasets->auto-gptq==0.6.0) (1.3.1)\n",
      "Requirement already satisfied: attrs>=17.3.0 in /opt/conda/lib/python3.10/site-packages (from aiohttp->datasets->auto-gptq==0.6.0) (23.1.0)\n",
      "Requirement already satisfied: frozenlist>=1.1.1 in /opt/conda/lib/python3.10/site-packages (from aiohttp->datasets->auto-gptq==0.6.0) (1.4.1)\n",
      "Requirement already satisfied: multidict<7.0,>=4.5 in /opt/conda/lib/python3.10/site-packages (from aiohttp->datasets->auto-gptq==0.6.0) (6.0.5)\n",
      "Requirement already satisfied: yarl<2.0,>=1.0 in /opt/conda/lib/python3.10/site-packages (from aiohttp->datasets->auto-gptq==0.6.0) (1.9.4)\n",
      "Requirement already satisfied: async-timeout<5.0,>=4.0 in /opt/conda/lib/python3.10/site-packages (from aiohttp->datasets->auto-gptq==0.6.0) (4.0.3)\n",
      "Requirement already satisfied: charset-normalizer<4,>=2 in /opt/conda/lib/python3.10/site-packages (from requests->transformers>=4.31.0->auto-gptq==0.6.0) (2.0.4)\n",
      "Requirement already satisfied: idna<4,>=2.5 in /opt/conda/lib/python3.10/site-packages (from requests->transformers>=4.31.0->auto-gptq==0.6.0) (3.4)\n",
      "Requirement already satisfied: urllib3<3,>=1.21.1 in /opt/conda/lib/python3.10/site-packages (from requests->transformers>=4.31.0->auto-gptq==0.6.0) (1.26.18)\n",
      "Requirement already satisfied: certifi>=2017.4.17 in /opt/conda/lib/python3.10/site-packages (from requests->transformers>=4.31.0->auto-gptq==0.6.0) (2023.7.22)\n",
      "Requirement already satisfied: MarkupSafe>=2.0 in /opt/conda/lib/python3.10/site-packages (from jinja2->torch>=1.13.0->auto-gptq==0.6.0) (2.1.1)\n",
      "Requirement already satisfied: python-dateutil>=2.8.2 in /opt/conda/lib/python3.10/site-packages (from pandas->datasets->auto-gptq==0.6.0) (2.9.0.post0)\n",
      "Requirement already satisfied: pytz>=2020.1 in /opt/conda/lib/python3.10/site-packages (from pandas->datasets->auto-gptq==0.6.0) (2023.3.post1)\n",
      "Requirement already satisfied: tzdata>=2022.7 in /opt/conda/lib/python3.10/site-packages (from pandas->datasets->auto-gptq==0.6.0) (2024.1)\n",
      "Requirement already satisfied: mpmath>=0.19 in /opt/conda/lib/python3.10/site-packages (from sympy->torch>=1.13.0->auto-gptq==0.6.0) (1.3.0)\n",
      "\u001b[33mWARNING: Running pip as the 'root' user can result in broken permissions and conflicting behaviour with the system package manager. It is recommended to use a virtual environment instead: https://pip.pypa.io/warnings/venv\u001b[0m\u001b[33m\n",
      "\u001b[0mRequirement already satisfied: accelerate in /opt/conda/lib/python3.10/site-packages (0.27.2)\n",
      "Requirement already satisfied: numpy>=1.17 in /opt/conda/lib/python3.10/site-packages (from accelerate) (1.26.0)\n",
      "Requirement already satisfied: packaging>=20.0 in /opt/conda/lib/python3.10/site-packages (from accelerate) (23.1)\n",
      "Requirement already satisfied: psutil in /opt/conda/lib/python3.10/site-packages (from accelerate) (5.9.0)\n",
      "Requirement already satisfied: pyyaml in /opt/conda/lib/python3.10/site-packages (from accelerate) (6.0.1)\n",
      "Requirement already satisfied: torch>=1.10.0 in /opt/conda/lib/python3.10/site-packages (from accelerate) (2.1.1)\n",
      "Requirement already satisfied: huggingface-hub in /opt/conda/lib/python3.10/site-packages (from accelerate) (0.21.4)\n",
      "Requirement already satisfied: safetensors>=0.3.1 in /opt/conda/lib/python3.10/site-packages (from accelerate) (0.4.2)\n",
      "Requirement already satisfied: filelock in /opt/conda/lib/python3.10/site-packages (from torch>=1.10.0->accelerate) (3.9.0)\n",
      "Requirement already satisfied: typing-extensions in /opt/conda/lib/python3.10/site-packages (from torch>=1.10.0->accelerate) (4.7.1)\n",
      "Requirement already satisfied: sympy in /opt/conda/lib/python3.10/site-packages (from torch>=1.10.0->accelerate) (1.11.1)\n",
      "Requirement already satisfied: networkx in /opt/conda/lib/python3.10/site-packages (from torch>=1.10.0->accelerate) (3.1)\n",
      "Requirement already satisfied: jinja2 in /opt/conda/lib/python3.10/site-packages (from torch>=1.10.0->accelerate) (3.1.2)\n",
      "Requirement already satisfied: fsspec in /opt/conda/lib/python3.10/site-packages (from torch>=1.10.0->accelerate) (2023.10.0)\n",
      "Requirement already satisfied: requests in /opt/conda/lib/python3.10/site-packages (from huggingface-hub->accelerate) (2.31.0)\n",
      "Requirement already satisfied: tqdm>=4.42.1 in /opt/conda/lib/python3.10/site-packages (from huggingface-hub->accelerate) (4.65.0)\n",
      "Requirement already satisfied: MarkupSafe>=2.0 in /opt/conda/lib/python3.10/site-packages (from jinja2->torch>=1.10.0->accelerate) (2.1.1)\n",
      "Requirement already satisfied: charset-normalizer<4,>=2 in /opt/conda/lib/python3.10/site-packages (from requests->huggingface-hub->accelerate) (2.0.4)\n",
      "Requirement already satisfied: idna<4,>=2.5 in /opt/conda/lib/python3.10/site-packages (from requests->huggingface-hub->accelerate) (3.4)\n",
      "Requirement already satisfied: urllib3<3,>=1.21.1 in /opt/conda/lib/python3.10/site-packages (from requests->huggingface-hub->accelerate) (1.26.18)\n",
      "Requirement already satisfied: certifi>=2017.4.17 in /opt/conda/lib/python3.10/site-packages (from requests->huggingface-hub->accelerate) (2023.7.22)\n",
      "Requirement already satisfied: mpmath>=0.19 in /opt/conda/lib/python3.10/site-packages (from sympy->torch>=1.10.0->accelerate) (1.3.0)\n",
      "\u001b[33mWARNING: Running pip as the 'root' user can result in broken permissions and conflicting behaviour with the system package manager. It is recommended to use a virtual environment instead: https://pip.pypa.io/warnings/venv\u001b[0m\u001b[33m\n",
      "\u001b[0m"
     ]
    }
   ],
   "source": [
    "# The quantized model used here requires some extra libraries. \n",
    "import sys\n",
    "!{sys.executable} -m pip install torch==2.1.1 torchvision==0.16.1 torchaudio==2.1.1 --index-url https://download.pytorch.org/whl/cu121\n",
    "!{sys.executable} -m pip install optimum>=1.12.0\n",
    "!{sys.executable} -m pip install auto-gptq==0.6.0\n",
    "!{sys.executable} -m pip install accelerate"
   ]
  },
  {
   "cell_type": "code",
   "execution_count": 4,
   "id": "65d76e35-3f1a-4e8a-931d-61e101fd022d",
   "metadata": {},
   "outputs": [
    {
     "name": "stderr",
     "output_type": "stream",
     "text": [
      "/opt/conda/lib/python3.10/site-packages/transformers/modeling_utils.py:4193: FutureWarning: `_is_quantized_training_enabled` is going to be deprecated in transformers 4.39.0. Please use `model.hf_quantizer.is_trainable` instead\n",
      "  warnings.warn(\n",
      "The cos_cached attribute will be removed in 4.39. Bear in mind that its contents changed in v4.38. Use the forward method of RoPE from now on instead. It is not used in the `LlamaAttention` class\n",
      "The sin_cached attribute will be removed in 4.39. Bear in mind that its contents changed in v4.38. Use the forward method of RoPE from now on instead. It is not used in the `LlamaAttention` class\n"
     ]
    }
   ],
   "source": [
    "from transformers import AutoModelForCausalLM, AutoTokenizer\n",
    "model = AutoModelForCausalLM.from_pretrained(model_name_or_path, device_map=device, revision=revision, trust_remote_code=False)\n",
    "tokenizer = AutoTokenizer.from_pretrained(model_name_or_path, use_fast=True, padding_side=\"left\")\n",
    "tokenizer.pad_token_id = 0"
   ]
  },
  {
   "cell_type": "code",
   "execution_count": 5,
   "id": "52a598b4-3a54-41c7-9f3a-926cace60be2",
   "metadata": {},
   "outputs": [],
   "source": [
    "user_tag = \"[INST] <<SYS>> You are a helpful assistant.  Always answer as helpfully as possible.<</SYS>>\"\n",
    "assistant_tag = \" [/INST]\""
   ]
  },
  {
   "cell_type": "markdown",
   "id": "3a9b064e-1fe9-4679-b687-14be64371b47",
   "metadata": {},
   "source": [
    "## Train extractor"
   ]
  },
  {
   "cell_type": "code",
   "execution_count": 6,
   "id": "7800e823-e701-4245-ab02-6ca73facdbed",
   "metadata": {},
   "outputs": [
    {
     "name": "stderr",
     "output_type": "stream",
     "text": [
      "INFO - Inferring functional extraction_method because none was passed\n"
     ]
    },
    {
     "ename": "OutOfMemoryError",
     "evalue": "CUDA out of memory. Tried to allocate 26.00 MiB. GPU 0 has a total capacty of 15.77 GiB of which 11.12 MiB is free. Process 1520102 has 15.76 GiB memory in use. Of the allocated memory 13.86 GiB is allocated by PyTorch, and 1.53 GiB is reserved by PyTorch but unallocated. If reserved but unallocated memory is large try setting max_split_size_mb to avoid fragmentation.  See documentation for Memory Management and PYTORCH_CUDA_ALLOC_CONF",
     "output_type": "error",
     "traceback": [
      "\u001b[0;31m---------------------------------------------------------------------------\u001b[0m",
      "\u001b[0;31mOutOfMemoryError\u001b[0m                          Traceback (most recent call last)",
      "Cell \u001b[0;32mIn[6], line 3\u001b[0m\n\u001b[1;32m      1\u001b[0m \u001b[38;5;28;01mfrom\u001b[39;00m \u001b[38;5;21;01mlmdoctor\u001b[39;00m \u001b[38;5;28;01mimport\u001b[39;00m extraction_utils\n\u001b[1;32m      2\u001b[0m extractor \u001b[38;5;241m=\u001b[39m extraction_utils\u001b[38;5;241m.\u001b[39mExtractor(model, tokenizer, user_tag, assistant_tag, extraction_target\u001b[38;5;241m=\u001b[39m\u001b[38;5;124m'\u001b[39m\u001b[38;5;124mhonesty\u001b[39m\u001b[38;5;124m'\u001b[39m, device\u001b[38;5;241m=\u001b[39mdevice)\n\u001b[0;32m----> 3\u001b[0m \u001b[43mextractor\u001b[49m\u001b[38;5;241;43m.\u001b[39;49m\u001b[43mfind_directions\u001b[49m\u001b[43m(\u001b[49m\u001b[43mn_train_pairs\u001b[49m\u001b[38;5;241;43m=\u001b[39;49m\u001b[38;5;241;43m128\u001b[39;49m\u001b[43m,\u001b[49m\u001b[43m \u001b[49m\u001b[43mn_dev_pairs\u001b[49m\u001b[38;5;241;43m=\u001b[39;49m\u001b[38;5;241;43m64\u001b[39;49m\u001b[43m,\u001b[49m\u001b[43m \u001b[49m\u001b[43mn_test_pairs\u001b[49m\u001b[38;5;241;43m=\u001b[39;49m\u001b[38;5;241;43m32\u001b[39;49m\u001b[43m)\u001b[49m\n",
      "File \u001b[0;32m/opt/conda/lib/python3.10/site-packages/lmdoctor/extraction_utils.py:52\u001b[0m, in \u001b[0;36mExtractor.find_directions\u001b[0;34m(self, batch_size, n_train_pairs, n_dev_pairs, n_test_pairs)\u001b[0m\n\u001b[1;32m     46\u001b[0m \u001b[38;5;250m\u001b[39m\u001b[38;5;124;03m\"\"\"\u001b[39;00m\n\u001b[1;32m     47\u001b[0m \u001b[38;5;124;03mn_train_pairs: how many statement pairs to use to calculate directions. setting to None will use all pairs. \u001b[39;00m\n\u001b[1;32m     48\u001b[0m \u001b[38;5;124;03m\"\"\"\u001b[39;00m        \n\u001b[1;32m     49\u001b[0m \u001b[38;5;28mself\u001b[39m\u001b[38;5;241m.\u001b[39mstatement_pairs \u001b[38;5;241m=\u001b[39m prepare_statement_pairs(\n\u001b[1;32m     50\u001b[0m     \u001b[38;5;28mself\u001b[39m\u001b[38;5;241m.\u001b[39mextraction_target, \u001b[38;5;28mself\u001b[39m\u001b[38;5;241m.\u001b[39mextraction_method, \u001b[38;5;28mself\u001b[39m\u001b[38;5;241m.\u001b[39mtokenizer, \n\u001b[1;32m     51\u001b[0m     \u001b[38;5;28mself\u001b[39m\u001b[38;5;241m.\u001b[39muser_tag, \u001b[38;5;28mself\u001b[39m\u001b[38;5;241m.\u001b[39massistant_tag, n_train_pairs, n_dev_pairs, n_test_pairs, \u001b[38;5;241m*\u001b[39m\u001b[38;5;241m*\u001b[39m\u001b[38;5;28mself\u001b[39m\u001b[38;5;241m.\u001b[39mkwargs)\n\u001b[0;32m---> 52\u001b[0m \u001b[38;5;28mself\u001b[39m\u001b[38;5;241m.\u001b[39mtrain_acts \u001b[38;5;241m=\u001b[39m \u001b[43mget_activations_for_paired_statements\u001b[49m\u001b[43m(\u001b[49m\n\u001b[1;32m     53\u001b[0m \u001b[43m    \u001b[49m\u001b[38;5;28;43mself\u001b[39;49m\u001b[38;5;241;43m.\u001b[39;49m\u001b[43mstatement_pairs\u001b[49m\u001b[43m[\u001b[49m\u001b[38;5;124;43m'\u001b[39;49m\u001b[38;5;124;43mtrain\u001b[39;49m\u001b[38;5;124;43m'\u001b[39;49m\u001b[43m]\u001b[49m\u001b[43m,\u001b[49m\u001b[43m \u001b[49m\u001b[38;5;28;43mself\u001b[39;49m\u001b[38;5;241;43m.\u001b[39;49m\u001b[43mmodel\u001b[49m\u001b[43m,\u001b[49m\u001b[43m \u001b[49m\u001b[38;5;28;43mself\u001b[39;49m\u001b[38;5;241;43m.\u001b[39;49m\u001b[43mtokenizer\u001b[49m\u001b[43m,\u001b[49m\u001b[43m \u001b[49m\u001b[43mbatch_size\u001b[49m\u001b[43m,\u001b[49m\u001b[43m \u001b[49m\u001b[43mdevice\u001b[49m\u001b[38;5;241;43m=\u001b[39;49m\u001b[38;5;28;43mself\u001b[39;49m\u001b[38;5;241;43m.\u001b[39;49m\u001b[43mdevice\u001b[49m\u001b[43m)\u001b[49m   \n\u001b[1;32m     54\u001b[0m \u001b[38;5;28mself\u001b[39m\u001b[38;5;241m.\u001b[39mdirection_info \u001b[38;5;241m=\u001b[39m get_directions(\u001b[38;5;28mself\u001b[39m\u001b[38;5;241m.\u001b[39mtrain_acts, device\u001b[38;5;241m=\u001b[39m\u001b[38;5;28mself\u001b[39m\u001b[38;5;241m.\u001b[39mdevice)\n",
      "File \u001b[0;32m/opt/conda/lib/python3.10/site-packages/lmdoctor/extraction_utils.py:183\u001b[0m, in \u001b[0;36mget_activations_for_paired_statements\u001b[0;34m(statement_pairs, model, tokenizer, batch_size, device, read_token)\u001b[0m\n\u001b[1;32m    181\u001b[0m model_inputs \u001b[38;5;241m=\u001b[39m tokenizer(\u001b[38;5;28mlist\u001b[39m(statements), padding\u001b[38;5;241m=\u001b[39m\u001b[38;5;28;01mTrue\u001b[39;00m, return_tensors\u001b[38;5;241m=\u001b[39m\u001b[38;5;124m'\u001b[39m\u001b[38;5;124mpt\u001b[39m\u001b[38;5;124m'\u001b[39m)\u001b[38;5;241m.\u001b[39mto(device)\n\u001b[1;32m    182\u001b[0m \u001b[38;5;28;01mwith\u001b[39;00m torch\u001b[38;5;241m.\u001b[39mno_grad():\n\u001b[0;32m--> 183\u001b[0m     hiddens \u001b[38;5;241m=\u001b[39m \u001b[43mmodel\u001b[49m\u001b[43m(\u001b[49m\u001b[38;5;241;43m*\u001b[39;49m\u001b[38;5;241;43m*\u001b[39;49m\u001b[43mmodel_inputs\u001b[49m\u001b[43m,\u001b[49m\u001b[43m \u001b[49m\u001b[43moutput_hidden_states\u001b[49m\u001b[38;5;241;43m=\u001b[39;49m\u001b[38;5;28;43;01mTrue\u001b[39;49;00m\u001b[43m)\u001b[49m\n\u001b[1;32m    184\u001b[0m \u001b[38;5;28;01mfor\u001b[39;00m layer \u001b[38;5;129;01min\u001b[39;00m \u001b[38;5;28mrange\u001b[39m(model\u001b[38;5;241m.\u001b[39mconfig\u001b[38;5;241m.\u001b[39mnum_hidden_layers):\n\u001b[1;32m    185\u001b[0m     act_pairs \u001b[38;5;241m=\u001b[39m hiddens[\u001b[38;5;124m'\u001b[39m\u001b[38;5;124mhidden_states\u001b[39m\u001b[38;5;124m'\u001b[39m][layer\u001b[38;5;241m+\u001b[39m\u001b[38;5;241m1\u001b[39m][:, read_token, :]\u001b[38;5;241m.\u001b[39mview(\u001b[38;5;28mlen\u001b[39m(pairs), \u001b[38;5;241m2\u001b[39m, \u001b[38;5;241m-\u001b[39m\u001b[38;5;241m1\u001b[39m)\n",
      "File \u001b[0;32m/opt/conda/lib/python3.10/site-packages/torch/nn/modules/module.py:1518\u001b[0m, in \u001b[0;36mModule._wrapped_call_impl\u001b[0;34m(self, *args, **kwargs)\u001b[0m\n\u001b[1;32m   1516\u001b[0m     \u001b[38;5;28;01mreturn\u001b[39;00m \u001b[38;5;28mself\u001b[39m\u001b[38;5;241m.\u001b[39m_compiled_call_impl(\u001b[38;5;241m*\u001b[39margs, \u001b[38;5;241m*\u001b[39m\u001b[38;5;241m*\u001b[39mkwargs)  \u001b[38;5;66;03m# type: ignore[misc]\u001b[39;00m\n\u001b[1;32m   1517\u001b[0m \u001b[38;5;28;01melse\u001b[39;00m:\n\u001b[0;32m-> 1518\u001b[0m     \u001b[38;5;28;01mreturn\u001b[39;00m \u001b[38;5;28;43mself\u001b[39;49m\u001b[38;5;241;43m.\u001b[39;49m\u001b[43m_call_impl\u001b[49m\u001b[43m(\u001b[49m\u001b[38;5;241;43m*\u001b[39;49m\u001b[43margs\u001b[49m\u001b[43m,\u001b[49m\u001b[43m \u001b[49m\u001b[38;5;241;43m*\u001b[39;49m\u001b[38;5;241;43m*\u001b[39;49m\u001b[43mkwargs\u001b[49m\u001b[43m)\u001b[49m\n",
      "File \u001b[0;32m/opt/conda/lib/python3.10/site-packages/torch/nn/modules/module.py:1527\u001b[0m, in \u001b[0;36mModule._call_impl\u001b[0;34m(self, *args, **kwargs)\u001b[0m\n\u001b[1;32m   1522\u001b[0m \u001b[38;5;66;03m# If we don't have any hooks, we want to skip the rest of the logic in\u001b[39;00m\n\u001b[1;32m   1523\u001b[0m \u001b[38;5;66;03m# this function, and just call forward.\u001b[39;00m\n\u001b[1;32m   1524\u001b[0m \u001b[38;5;28;01mif\u001b[39;00m \u001b[38;5;129;01mnot\u001b[39;00m (\u001b[38;5;28mself\u001b[39m\u001b[38;5;241m.\u001b[39m_backward_hooks \u001b[38;5;129;01mor\u001b[39;00m \u001b[38;5;28mself\u001b[39m\u001b[38;5;241m.\u001b[39m_backward_pre_hooks \u001b[38;5;129;01mor\u001b[39;00m \u001b[38;5;28mself\u001b[39m\u001b[38;5;241m.\u001b[39m_forward_hooks \u001b[38;5;129;01mor\u001b[39;00m \u001b[38;5;28mself\u001b[39m\u001b[38;5;241m.\u001b[39m_forward_pre_hooks\n\u001b[1;32m   1525\u001b[0m         \u001b[38;5;129;01mor\u001b[39;00m _global_backward_pre_hooks \u001b[38;5;129;01mor\u001b[39;00m _global_backward_hooks\n\u001b[1;32m   1526\u001b[0m         \u001b[38;5;129;01mor\u001b[39;00m _global_forward_hooks \u001b[38;5;129;01mor\u001b[39;00m _global_forward_pre_hooks):\n\u001b[0;32m-> 1527\u001b[0m     \u001b[38;5;28;01mreturn\u001b[39;00m \u001b[43mforward_call\u001b[49m\u001b[43m(\u001b[49m\u001b[38;5;241;43m*\u001b[39;49m\u001b[43margs\u001b[49m\u001b[43m,\u001b[49m\u001b[43m \u001b[49m\u001b[38;5;241;43m*\u001b[39;49m\u001b[38;5;241;43m*\u001b[39;49m\u001b[43mkwargs\u001b[49m\u001b[43m)\u001b[49m\n\u001b[1;32m   1529\u001b[0m \u001b[38;5;28;01mtry\u001b[39;00m:\n\u001b[1;32m   1530\u001b[0m     result \u001b[38;5;241m=\u001b[39m \u001b[38;5;28;01mNone\u001b[39;00m\n",
      "File \u001b[0;32m/opt/conda/lib/python3.10/site-packages/transformers/models/llama/modeling_llama.py:1176\u001b[0m, in \u001b[0;36mLlamaForCausalLM.forward\u001b[0;34m(self, input_ids, attention_mask, position_ids, past_key_values, inputs_embeds, labels, use_cache, output_attentions, output_hidden_states, return_dict, cache_position)\u001b[0m\n\u001b[1;32m   1173\u001b[0m return_dict \u001b[38;5;241m=\u001b[39m return_dict \u001b[38;5;28;01mif\u001b[39;00m return_dict \u001b[38;5;129;01mis\u001b[39;00m \u001b[38;5;129;01mnot\u001b[39;00m \u001b[38;5;28;01mNone\u001b[39;00m \u001b[38;5;28;01melse\u001b[39;00m \u001b[38;5;28mself\u001b[39m\u001b[38;5;241m.\u001b[39mconfig\u001b[38;5;241m.\u001b[39muse_return_dict\n\u001b[1;32m   1175\u001b[0m \u001b[38;5;66;03m# decoder outputs consists of (dec_features, layer_state, dec_hidden, dec_attn)\u001b[39;00m\n\u001b[0;32m-> 1176\u001b[0m outputs \u001b[38;5;241m=\u001b[39m \u001b[38;5;28;43mself\u001b[39;49m\u001b[38;5;241;43m.\u001b[39;49m\u001b[43mmodel\u001b[49m\u001b[43m(\u001b[49m\n\u001b[1;32m   1177\u001b[0m \u001b[43m    \u001b[49m\u001b[43minput_ids\u001b[49m\u001b[38;5;241;43m=\u001b[39;49m\u001b[43minput_ids\u001b[49m\u001b[43m,\u001b[49m\n\u001b[1;32m   1178\u001b[0m \u001b[43m    \u001b[49m\u001b[43mattention_mask\u001b[49m\u001b[38;5;241;43m=\u001b[39;49m\u001b[43mattention_mask\u001b[49m\u001b[43m,\u001b[49m\n\u001b[1;32m   1179\u001b[0m \u001b[43m    \u001b[49m\u001b[43mposition_ids\u001b[49m\u001b[38;5;241;43m=\u001b[39;49m\u001b[43mposition_ids\u001b[49m\u001b[43m,\u001b[49m\n\u001b[1;32m   1180\u001b[0m \u001b[43m    \u001b[49m\u001b[43mpast_key_values\u001b[49m\u001b[38;5;241;43m=\u001b[39;49m\u001b[43mpast_key_values\u001b[49m\u001b[43m,\u001b[49m\n\u001b[1;32m   1181\u001b[0m \u001b[43m    \u001b[49m\u001b[43minputs_embeds\u001b[49m\u001b[38;5;241;43m=\u001b[39;49m\u001b[43minputs_embeds\u001b[49m\u001b[43m,\u001b[49m\n\u001b[1;32m   1182\u001b[0m \u001b[43m    \u001b[49m\u001b[43muse_cache\u001b[49m\u001b[38;5;241;43m=\u001b[39;49m\u001b[43muse_cache\u001b[49m\u001b[43m,\u001b[49m\n\u001b[1;32m   1183\u001b[0m \u001b[43m    \u001b[49m\u001b[43moutput_attentions\u001b[49m\u001b[38;5;241;43m=\u001b[39;49m\u001b[43moutput_attentions\u001b[49m\u001b[43m,\u001b[49m\n\u001b[1;32m   1184\u001b[0m \u001b[43m    \u001b[49m\u001b[43moutput_hidden_states\u001b[49m\u001b[38;5;241;43m=\u001b[39;49m\u001b[43moutput_hidden_states\u001b[49m\u001b[43m,\u001b[49m\n\u001b[1;32m   1185\u001b[0m \u001b[43m    \u001b[49m\u001b[43mreturn_dict\u001b[49m\u001b[38;5;241;43m=\u001b[39;49m\u001b[43mreturn_dict\u001b[49m\u001b[43m,\u001b[49m\n\u001b[1;32m   1186\u001b[0m \u001b[43m    \u001b[49m\u001b[43mcache_position\u001b[49m\u001b[38;5;241;43m=\u001b[39;49m\u001b[43mcache_position\u001b[49m\u001b[43m,\u001b[49m\n\u001b[1;32m   1187\u001b[0m \u001b[43m\u001b[49m\u001b[43m)\u001b[49m\n\u001b[1;32m   1189\u001b[0m hidden_states \u001b[38;5;241m=\u001b[39m outputs[\u001b[38;5;241m0\u001b[39m]\n\u001b[1;32m   1190\u001b[0m \u001b[38;5;28;01mif\u001b[39;00m \u001b[38;5;28mself\u001b[39m\u001b[38;5;241m.\u001b[39mconfig\u001b[38;5;241m.\u001b[39mpretraining_tp \u001b[38;5;241m>\u001b[39m \u001b[38;5;241m1\u001b[39m:\n",
      "File \u001b[0;32m/opt/conda/lib/python3.10/site-packages/torch/nn/modules/module.py:1518\u001b[0m, in \u001b[0;36mModule._wrapped_call_impl\u001b[0;34m(self, *args, **kwargs)\u001b[0m\n\u001b[1;32m   1516\u001b[0m     \u001b[38;5;28;01mreturn\u001b[39;00m \u001b[38;5;28mself\u001b[39m\u001b[38;5;241m.\u001b[39m_compiled_call_impl(\u001b[38;5;241m*\u001b[39margs, \u001b[38;5;241m*\u001b[39m\u001b[38;5;241m*\u001b[39mkwargs)  \u001b[38;5;66;03m# type: ignore[misc]\u001b[39;00m\n\u001b[1;32m   1517\u001b[0m \u001b[38;5;28;01melse\u001b[39;00m:\n\u001b[0;32m-> 1518\u001b[0m     \u001b[38;5;28;01mreturn\u001b[39;00m \u001b[38;5;28;43mself\u001b[39;49m\u001b[38;5;241;43m.\u001b[39;49m\u001b[43m_call_impl\u001b[49m\u001b[43m(\u001b[49m\u001b[38;5;241;43m*\u001b[39;49m\u001b[43margs\u001b[49m\u001b[43m,\u001b[49m\u001b[43m \u001b[49m\u001b[38;5;241;43m*\u001b[39;49m\u001b[38;5;241;43m*\u001b[39;49m\u001b[43mkwargs\u001b[49m\u001b[43m)\u001b[49m\n",
      "File \u001b[0;32m/opt/conda/lib/python3.10/site-packages/torch/nn/modules/module.py:1527\u001b[0m, in \u001b[0;36mModule._call_impl\u001b[0;34m(self, *args, **kwargs)\u001b[0m\n\u001b[1;32m   1522\u001b[0m \u001b[38;5;66;03m# If we don't have any hooks, we want to skip the rest of the logic in\u001b[39;00m\n\u001b[1;32m   1523\u001b[0m \u001b[38;5;66;03m# this function, and just call forward.\u001b[39;00m\n\u001b[1;32m   1524\u001b[0m \u001b[38;5;28;01mif\u001b[39;00m \u001b[38;5;129;01mnot\u001b[39;00m (\u001b[38;5;28mself\u001b[39m\u001b[38;5;241m.\u001b[39m_backward_hooks \u001b[38;5;129;01mor\u001b[39;00m \u001b[38;5;28mself\u001b[39m\u001b[38;5;241m.\u001b[39m_backward_pre_hooks \u001b[38;5;129;01mor\u001b[39;00m \u001b[38;5;28mself\u001b[39m\u001b[38;5;241m.\u001b[39m_forward_hooks \u001b[38;5;129;01mor\u001b[39;00m \u001b[38;5;28mself\u001b[39m\u001b[38;5;241m.\u001b[39m_forward_pre_hooks\n\u001b[1;32m   1525\u001b[0m         \u001b[38;5;129;01mor\u001b[39;00m _global_backward_pre_hooks \u001b[38;5;129;01mor\u001b[39;00m _global_backward_hooks\n\u001b[1;32m   1526\u001b[0m         \u001b[38;5;129;01mor\u001b[39;00m _global_forward_hooks \u001b[38;5;129;01mor\u001b[39;00m _global_forward_pre_hooks):\n\u001b[0;32m-> 1527\u001b[0m     \u001b[38;5;28;01mreturn\u001b[39;00m \u001b[43mforward_call\u001b[49m\u001b[43m(\u001b[49m\u001b[38;5;241;43m*\u001b[39;49m\u001b[43margs\u001b[49m\u001b[43m,\u001b[49m\u001b[43m \u001b[49m\u001b[38;5;241;43m*\u001b[39;49m\u001b[38;5;241;43m*\u001b[39;49m\u001b[43mkwargs\u001b[49m\u001b[43m)\u001b[49m\n\u001b[1;32m   1529\u001b[0m \u001b[38;5;28;01mtry\u001b[39;00m:\n\u001b[1;32m   1530\u001b[0m     result \u001b[38;5;241m=\u001b[39m \u001b[38;5;28;01mNone\u001b[39;00m\n",
      "File \u001b[0;32m/opt/conda/lib/python3.10/site-packages/transformers/models/llama/modeling_llama.py:1019\u001b[0m, in \u001b[0;36mLlamaModel.forward\u001b[0;34m(self, input_ids, attention_mask, position_ids, past_key_values, inputs_embeds, use_cache, output_attentions, output_hidden_states, return_dict, cache_position)\u001b[0m\n\u001b[1;32m   1008\u001b[0m     layer_outputs \u001b[38;5;241m=\u001b[39m \u001b[38;5;28mself\u001b[39m\u001b[38;5;241m.\u001b[39m_gradient_checkpointing_func(\n\u001b[1;32m   1009\u001b[0m         decoder_layer\u001b[38;5;241m.\u001b[39m\u001b[38;5;21m__call__\u001b[39m,\n\u001b[1;32m   1010\u001b[0m         hidden_states,\n\u001b[0;32m   (...)\u001b[0m\n\u001b[1;32m   1016\u001b[0m         cache_position,\n\u001b[1;32m   1017\u001b[0m     )\n\u001b[1;32m   1018\u001b[0m \u001b[38;5;28;01melse\u001b[39;00m:\n\u001b[0;32m-> 1019\u001b[0m     layer_outputs \u001b[38;5;241m=\u001b[39m \u001b[43mdecoder_layer\u001b[49m\u001b[43m(\u001b[49m\n\u001b[1;32m   1020\u001b[0m \u001b[43m        \u001b[49m\u001b[43mhidden_states\u001b[49m\u001b[43m,\u001b[49m\n\u001b[1;32m   1021\u001b[0m \u001b[43m        \u001b[49m\u001b[43mattention_mask\u001b[49m\u001b[38;5;241;43m=\u001b[39;49m\u001b[43mcausal_mask\u001b[49m\u001b[43m,\u001b[49m\n\u001b[1;32m   1022\u001b[0m \u001b[43m        \u001b[49m\u001b[43mposition_ids\u001b[49m\u001b[38;5;241;43m=\u001b[39;49m\u001b[43mposition_ids\u001b[49m\u001b[43m,\u001b[49m\n\u001b[1;32m   1023\u001b[0m \u001b[43m        \u001b[49m\u001b[43mpast_key_value\u001b[49m\u001b[38;5;241;43m=\u001b[39;49m\u001b[43mpast_key_values\u001b[49m\u001b[43m,\u001b[49m\n\u001b[1;32m   1024\u001b[0m \u001b[43m        \u001b[49m\u001b[43moutput_attentions\u001b[49m\u001b[38;5;241;43m=\u001b[39;49m\u001b[43moutput_attentions\u001b[49m\u001b[43m,\u001b[49m\n\u001b[1;32m   1025\u001b[0m \u001b[43m        \u001b[49m\u001b[43muse_cache\u001b[49m\u001b[38;5;241;43m=\u001b[39;49m\u001b[43muse_cache\u001b[49m\u001b[43m,\u001b[49m\n\u001b[1;32m   1026\u001b[0m \u001b[43m        \u001b[49m\u001b[43mcache_position\u001b[49m\u001b[38;5;241;43m=\u001b[39;49m\u001b[43mcache_position\u001b[49m\u001b[43m,\u001b[49m\n\u001b[1;32m   1027\u001b[0m \u001b[43m    \u001b[49m\u001b[43m)\u001b[49m\n\u001b[1;32m   1029\u001b[0m hidden_states \u001b[38;5;241m=\u001b[39m layer_outputs[\u001b[38;5;241m0\u001b[39m]\n\u001b[1;32m   1031\u001b[0m \u001b[38;5;28;01mif\u001b[39;00m use_cache:\n",
      "File \u001b[0;32m/opt/conda/lib/python3.10/site-packages/torch/nn/modules/module.py:1518\u001b[0m, in \u001b[0;36mModule._wrapped_call_impl\u001b[0;34m(self, *args, **kwargs)\u001b[0m\n\u001b[1;32m   1516\u001b[0m     \u001b[38;5;28;01mreturn\u001b[39;00m \u001b[38;5;28mself\u001b[39m\u001b[38;5;241m.\u001b[39m_compiled_call_impl(\u001b[38;5;241m*\u001b[39margs, \u001b[38;5;241m*\u001b[39m\u001b[38;5;241m*\u001b[39mkwargs)  \u001b[38;5;66;03m# type: ignore[misc]\u001b[39;00m\n\u001b[1;32m   1517\u001b[0m \u001b[38;5;28;01melse\u001b[39;00m:\n\u001b[0;32m-> 1518\u001b[0m     \u001b[38;5;28;01mreturn\u001b[39;00m \u001b[38;5;28;43mself\u001b[39;49m\u001b[38;5;241;43m.\u001b[39;49m\u001b[43m_call_impl\u001b[49m\u001b[43m(\u001b[49m\u001b[38;5;241;43m*\u001b[39;49m\u001b[43margs\u001b[49m\u001b[43m,\u001b[49m\u001b[43m \u001b[49m\u001b[38;5;241;43m*\u001b[39;49m\u001b[38;5;241;43m*\u001b[39;49m\u001b[43mkwargs\u001b[49m\u001b[43m)\u001b[49m\n",
      "File \u001b[0;32m/opt/conda/lib/python3.10/site-packages/torch/nn/modules/module.py:1527\u001b[0m, in \u001b[0;36mModule._call_impl\u001b[0;34m(self, *args, **kwargs)\u001b[0m\n\u001b[1;32m   1522\u001b[0m \u001b[38;5;66;03m# If we don't have any hooks, we want to skip the rest of the logic in\u001b[39;00m\n\u001b[1;32m   1523\u001b[0m \u001b[38;5;66;03m# this function, and just call forward.\u001b[39;00m\n\u001b[1;32m   1524\u001b[0m \u001b[38;5;28;01mif\u001b[39;00m \u001b[38;5;129;01mnot\u001b[39;00m (\u001b[38;5;28mself\u001b[39m\u001b[38;5;241m.\u001b[39m_backward_hooks \u001b[38;5;129;01mor\u001b[39;00m \u001b[38;5;28mself\u001b[39m\u001b[38;5;241m.\u001b[39m_backward_pre_hooks \u001b[38;5;129;01mor\u001b[39;00m \u001b[38;5;28mself\u001b[39m\u001b[38;5;241m.\u001b[39m_forward_hooks \u001b[38;5;129;01mor\u001b[39;00m \u001b[38;5;28mself\u001b[39m\u001b[38;5;241m.\u001b[39m_forward_pre_hooks\n\u001b[1;32m   1525\u001b[0m         \u001b[38;5;129;01mor\u001b[39;00m _global_backward_pre_hooks \u001b[38;5;129;01mor\u001b[39;00m _global_backward_hooks\n\u001b[1;32m   1526\u001b[0m         \u001b[38;5;129;01mor\u001b[39;00m _global_forward_hooks \u001b[38;5;129;01mor\u001b[39;00m _global_forward_pre_hooks):\n\u001b[0;32m-> 1527\u001b[0m     \u001b[38;5;28;01mreturn\u001b[39;00m \u001b[43mforward_call\u001b[49m\u001b[43m(\u001b[49m\u001b[38;5;241;43m*\u001b[39;49m\u001b[43margs\u001b[49m\u001b[43m,\u001b[49m\u001b[43m \u001b[49m\u001b[38;5;241;43m*\u001b[39;49m\u001b[38;5;241;43m*\u001b[39;49m\u001b[43mkwargs\u001b[49m\u001b[43m)\u001b[49m\n\u001b[1;32m   1529\u001b[0m \u001b[38;5;28;01mtry\u001b[39;00m:\n\u001b[1;32m   1530\u001b[0m     result \u001b[38;5;241m=\u001b[39m \u001b[38;5;28;01mNone\u001b[39;00m\n",
      "File \u001b[0;32m/opt/conda/lib/python3.10/site-packages/transformers/models/llama/modeling_llama.py:755\u001b[0m, in \u001b[0;36mLlamaDecoderLayer.forward\u001b[0;34m(self, hidden_states, attention_mask, position_ids, past_key_value, output_attentions, use_cache, cache_position, **kwargs)\u001b[0m\n\u001b[1;32m    753\u001b[0m residual \u001b[38;5;241m=\u001b[39m hidden_states\n\u001b[1;32m    754\u001b[0m hidden_states \u001b[38;5;241m=\u001b[39m \u001b[38;5;28mself\u001b[39m\u001b[38;5;241m.\u001b[39mpost_attention_layernorm(hidden_states)\n\u001b[0;32m--> 755\u001b[0m hidden_states \u001b[38;5;241m=\u001b[39m \u001b[38;5;28;43mself\u001b[39;49m\u001b[38;5;241;43m.\u001b[39;49m\u001b[43mmlp\u001b[49m\u001b[43m(\u001b[49m\u001b[43mhidden_states\u001b[49m\u001b[43m)\u001b[49m\n\u001b[1;32m    756\u001b[0m hidden_states \u001b[38;5;241m=\u001b[39m residual \u001b[38;5;241m+\u001b[39m hidden_states\n\u001b[1;32m    758\u001b[0m outputs \u001b[38;5;241m=\u001b[39m (hidden_states,)\n",
      "File \u001b[0;32m/opt/conda/lib/python3.10/site-packages/torch/nn/modules/module.py:1518\u001b[0m, in \u001b[0;36mModule._wrapped_call_impl\u001b[0;34m(self, *args, **kwargs)\u001b[0m\n\u001b[1;32m   1516\u001b[0m     \u001b[38;5;28;01mreturn\u001b[39;00m \u001b[38;5;28mself\u001b[39m\u001b[38;5;241m.\u001b[39m_compiled_call_impl(\u001b[38;5;241m*\u001b[39margs, \u001b[38;5;241m*\u001b[39m\u001b[38;5;241m*\u001b[39mkwargs)  \u001b[38;5;66;03m# type: ignore[misc]\u001b[39;00m\n\u001b[1;32m   1517\u001b[0m \u001b[38;5;28;01melse\u001b[39;00m:\n\u001b[0;32m-> 1518\u001b[0m     \u001b[38;5;28;01mreturn\u001b[39;00m \u001b[38;5;28;43mself\u001b[39;49m\u001b[38;5;241;43m.\u001b[39;49m\u001b[43m_call_impl\u001b[49m\u001b[43m(\u001b[49m\u001b[38;5;241;43m*\u001b[39;49m\u001b[43margs\u001b[49m\u001b[43m,\u001b[49m\u001b[43m \u001b[49m\u001b[38;5;241;43m*\u001b[39;49m\u001b[38;5;241;43m*\u001b[39;49m\u001b[43mkwargs\u001b[49m\u001b[43m)\u001b[49m\n",
      "File \u001b[0;32m/opt/conda/lib/python3.10/site-packages/torch/nn/modules/module.py:1527\u001b[0m, in \u001b[0;36mModule._call_impl\u001b[0;34m(self, *args, **kwargs)\u001b[0m\n\u001b[1;32m   1522\u001b[0m \u001b[38;5;66;03m# If we don't have any hooks, we want to skip the rest of the logic in\u001b[39;00m\n\u001b[1;32m   1523\u001b[0m \u001b[38;5;66;03m# this function, and just call forward.\u001b[39;00m\n\u001b[1;32m   1524\u001b[0m \u001b[38;5;28;01mif\u001b[39;00m \u001b[38;5;129;01mnot\u001b[39;00m (\u001b[38;5;28mself\u001b[39m\u001b[38;5;241m.\u001b[39m_backward_hooks \u001b[38;5;129;01mor\u001b[39;00m \u001b[38;5;28mself\u001b[39m\u001b[38;5;241m.\u001b[39m_backward_pre_hooks \u001b[38;5;129;01mor\u001b[39;00m \u001b[38;5;28mself\u001b[39m\u001b[38;5;241m.\u001b[39m_forward_hooks \u001b[38;5;129;01mor\u001b[39;00m \u001b[38;5;28mself\u001b[39m\u001b[38;5;241m.\u001b[39m_forward_pre_hooks\n\u001b[1;32m   1525\u001b[0m         \u001b[38;5;129;01mor\u001b[39;00m _global_backward_pre_hooks \u001b[38;5;129;01mor\u001b[39;00m _global_backward_hooks\n\u001b[1;32m   1526\u001b[0m         \u001b[38;5;129;01mor\u001b[39;00m _global_forward_hooks \u001b[38;5;129;01mor\u001b[39;00m _global_forward_pre_hooks):\n\u001b[0;32m-> 1527\u001b[0m     \u001b[38;5;28;01mreturn\u001b[39;00m \u001b[43mforward_call\u001b[49m\u001b[43m(\u001b[49m\u001b[38;5;241;43m*\u001b[39;49m\u001b[43margs\u001b[49m\u001b[43m,\u001b[49m\u001b[43m \u001b[49m\u001b[38;5;241;43m*\u001b[39;49m\u001b[38;5;241;43m*\u001b[39;49m\u001b[43mkwargs\u001b[49m\u001b[43m)\u001b[49m\n\u001b[1;32m   1529\u001b[0m \u001b[38;5;28;01mtry\u001b[39;00m:\n\u001b[1;32m   1530\u001b[0m     result \u001b[38;5;241m=\u001b[39m \u001b[38;5;28;01mNone\u001b[39;00m\n",
      "File \u001b[0;32m/opt/conda/lib/python3.10/site-packages/transformers/models/llama/modeling_llama.py:241\u001b[0m, in \u001b[0;36mLlamaMLP.forward\u001b[0;34m(self, x)\u001b[0m\n\u001b[1;32m    239\u001b[0m     down_proj \u001b[38;5;241m=\u001b[39m \u001b[38;5;28msum\u001b[39m(down_proj)\n\u001b[1;32m    240\u001b[0m \u001b[38;5;28;01melse\u001b[39;00m:\n\u001b[0;32m--> 241\u001b[0m     down_proj \u001b[38;5;241m=\u001b[39m \u001b[38;5;28mself\u001b[39m\u001b[38;5;241m.\u001b[39mdown_proj(\u001b[38;5;28;43mself\u001b[39;49m\u001b[38;5;241;43m.\u001b[39;49m\u001b[43mact_fn\u001b[49m\u001b[43m(\u001b[49m\u001b[38;5;28;43mself\u001b[39;49m\u001b[38;5;241;43m.\u001b[39;49m\u001b[43mgate_proj\u001b[49m\u001b[43m(\u001b[49m\u001b[43mx\u001b[49m\u001b[43m)\u001b[49m\u001b[43m)\u001b[49m\u001b[43m \u001b[49m\u001b[38;5;241;43m*\u001b[39;49m\u001b[43m \u001b[49m\u001b[38;5;28;43mself\u001b[39;49m\u001b[38;5;241;43m.\u001b[39;49m\u001b[43mup_proj\u001b[49m\u001b[43m(\u001b[49m\u001b[43mx\u001b[49m\u001b[43m)\u001b[49m)\n\u001b[1;32m    243\u001b[0m \u001b[38;5;28;01mreturn\u001b[39;00m down_proj\n",
      "\u001b[0;31mOutOfMemoryError\u001b[0m: CUDA out of memory. Tried to allocate 26.00 MiB. GPU 0 has a total capacty of 15.77 GiB of which 11.12 MiB is free. Process 1520102 has 15.76 GiB memory in use. Of the allocated memory 13.86 GiB is allocated by PyTorch, and 1.53 GiB is reserved by PyTorch but unallocated. If reserved but unallocated memory is large try setting max_split_size_mb to avoid fragmentation.  See documentation for Memory Management and PYTORCH_CUDA_ALLOC_CONF"
     ]
    }
   ],
   "source": [
    "from lmdoctor import extraction_utils\n",
    "extractor = extraction_utils.Extractor(model, tokenizer, user_tag, assistant_tag, extraction_target='honesty', device=device)\n",
    "extractor.find_directions(n_train_pairs=128, n_dev_pairs=64, n_test_pairs=32)"
   ]
  },
  {
   "cell_type": "code",
   "execution_count": 7,
   "id": "b691afbc-e6ba-4b2c-a937-2b7e0c1802d1",
   "metadata": {},
   "outputs": [
    {
     "data": {
      "text/plain": [
       "array([[\"[INST]  Pretend you're an honest person making statements about the world.  [/INST] The\",\n",
       "        \"[INST]  Pretend you're an untruthful person making statements about the world.  [/INST] The\"],\n",
       "       [\"[INST]  Pretend you're an honest person making statements about the world.  [/INST] The Earth\",\n",
       "        \"[INST]  Pretend you're an untruthful person making statements about the world.  [/INST] The Earth\"]],\n",
       "      dtype='<U203')"
      ]
     },
     "execution_count": 7,
     "metadata": {},
     "output_type": "execute_result"
    }
   ],
   "source": [
    "extractor.statement_pairs['train'][:2]"
   ]
  },
  {
   "cell_type": "markdown",
   "id": "dbd27be9-78ab-4cf7-9560-9a6da91a7dd5",
   "metadata": {},
   "source": [
    "## Run detector"
   ]
  },
  {
   "cell_type": "code",
   "execution_count": 18,
   "id": "89193532-9923-4462-8904-e97b2216bc4f",
   "metadata": {},
   "outputs": [
    {
     "name": "stdout",
     "output_type": "stream",
     "text": [
      " Sure! Here's a world fact:\n",
      "\n",
      "Did you know that the Great Barrier Reef in Australia is the largest living structure on Earth, spanning over 2,30\n"
     ]
    }
   ],
   "source": [
    "import torch\n",
    "from lmdoctor import detection_utils\n",
    "\n",
    "# prompt = \"Tell me a fact about humans\"\n",
    "# prompt = \"Tell me a lie about humans\"\n",
    "# prompt = \"Who authored 'Gimbar's adventures'?\"\n",
    "prompt = \"Tell me a world fact\"\n",
    "\n",
    "\n",
    "torch.manual_seed(0)\n",
    "max_new_tokens = 40\n",
    "ld = detection_utils.Detector(model, tokenizer, user_tag, assistant_tag, device=device)\n",
    "text = ld.generate(prompt, max_new_tokens=max_new_tokens, do_sample=True, gen_only=True) # capture the hidden_states as the model generates\n",
    "all_projs = ld.get_projections(extractor.direction_info) # project the hidden_states onto the direction vectors from honesty extraction\n",
    "print(text)"
   ]
  },
  {
   "cell_type": "code",
   "execution_count": 25,
   "id": "a895bf4c-ef51-4b56-a3c5-52276c148fd2",
   "metadata": {},
   "outputs": [
    {
     "data": {
      "application/vnd.plotly.v1+json": {
       "config": {
        "plotlyServerURL": "https://plot.ly"
       },
       "data": [
        {
         "coloraxis": "coloraxis",
         "hovertemplate": "Token: %{x}<br>y: %{y}<br>color: %{z}<extra></extra>",
         "name": "0",
         "type": "heatmap",
         "xaxis": "x",
         "yaxis": "y",
         "z": [
          [
           0.423095703125,
           0.1805419921875,
           0.22265625,
           0.15576171875,
           0.41162109375,
           0.1932373046875,
           0.3173828125,
           0.1827392578125,
           0.14453125,
           0.267578125,
           0.1658935546875,
           0.55810546875,
           0.26904296875,
           0.288330078125,
           0.215576171875,
           0.3115234375,
           0.460205078125,
           0.2371826171875,
           0.353759765625,
           0.224609375,
           0.32080078125,
           0.2105712890625,
           0.296142578125,
           0.224609375,
           0.261962890625,
           0.38525390625,
           0.1717529296875,
           0.1527099609375,
           0.1854248046875,
           0.2286376953125,
           0.1466064453125,
           0.345458984375,
           0.229248046875,
           0.1239013671875,
           0.1439208984375,
           0.302001953125,
           0.25634765625,
           0.2861328125,
           0.166259765625
          ],
          [
           0.2120361328125,
           0.214111328125,
           0.1622314453125,
           0.1650390625,
           0.1820068359375,
           0.058837890625,
           0.205322265625,
           0.27978515625,
           0.1846923828125,
           0.08587646484375,
           258.75,
           0.246826171875,
           0.2200927734375,
           0.1387939453125,
           0.1331787109375,
           0.1878662109375,
           0.2337646484375,
           0.2529296875,
           0.31640625,
           0.2139892578125,
           0.2337646484375,
           0.12237548828125,
           0.140625,
           0.173583984375,
           0.11541748046875,
           0.1480712890625,
           0.216796875,
           0.199462890625,
           0.2008056640625,
           0.0992431640625,
           0.1572265625,
           0.0552978515625,
           0.1824951171875,
           0.09368896484375,
           0.08148193359375,
           0.0938720703125,
           0.1016845703125,
           0.07171630859375,
           0.11993408203125
          ],
          [
           0.1439208984375,
           0.0855712890625,
           0.035003662109375,
           0.156005859375,
           -0.046905517578125,
           0.048553466796875,
           0.1571044921875,
           0.175048828125,
           0.25830078125,
           0.125732421875,
           70.8125,
           0.334228515625,
           0.10382080078125,
           0.055633544921875,
           0.1484375,
           0.1409912109375,
           0.1729736328125,
           0.09527587890625,
           0.27587890625,
           0.266357421875,
           0.221923828125,
           0.211669921875,
           0.030120849609375,
           0.0194854736328125,
           0.05517578125,
           0.16015625,
           0.1558837890625,
           0.22509765625,
           0.2344970703125,
           0.133056640625,
           0.1622314453125,
           0.06390380859375,
           0.1436767578125,
           0.045562744140625,
           0.07757568359375,
           0.09552001953125,
           0.05047607421875,
           0.1109619140625,
           0.11285400390625
          ],
          [
           -0.08929443359375,
           -0.1444091796875,
           -0.1217041015625,
           -0.1109619140625,
           -0.371826171875,
           -0.148193359375,
           0.00302886962890625,
           -0.272705078125,
           0.055908203125,
           -0.10760498046875,
           -11.625,
           0.1336669921875,
           -0.131591796875,
           -0.01702880859375,
           -0.0084991455078125,
           0.044891357421875,
           -0.11663818359375,
           -0.1160888671875,
           0.11968994140625,
           0.0582275390625,
           0.160888671875,
           -0.057891845703125,
           -0.2239990234375,
           -0.357177734375,
           -0.1964111328125,
           0.0234375,
           -0.1318359375,
           0.2020263671875,
           0.0152587890625,
           -0.0706787109375,
           -0.022247314453125,
           -0.1435546875,
           0.07244873046875,
           -0.0714111328125,
           0.043914794921875,
           -0.015045166015625,
           -0.156005859375,
           0.0582275390625,
           0.05804443359375
          ],
          [
           0.285888671875,
           0.332763671875,
           0.164794921875,
           0.320068359375,
           -0.006683349609375,
           0.30029296875,
           0.114990234375,
           0.2191162109375,
           0.35205078125,
           0.08905029296875,
           12.1875,
           0.370849609375,
           0.1435546875,
           0.1236572265625,
           0.0673828125,
           0.08538818359375,
           0.039703369140625,
           0.255859375,
           0.1632080078125,
           0.1419677734375,
           0.290283203125,
           0.1646728515625,
           0.045440673828125,
           -0.1005859375,
           0.10345458984375,
           0.12042236328125,
           0.10150146484375,
           0.378173828125,
           0.301513671875,
           0.2154541015625,
           0.325927734375,
           0.19921875,
           0.309326171875,
           0.2032470703125,
           0.334716796875,
           0.22265625,
           0.09307861328125,
           0.255859375,
           0.27001953125
          ],
          [
           0.40625,
           0.447509765625,
           0.2880859375,
           0.310546875,
           0.372802734375,
           0.225341796875,
           0.157958984375,
           0.2412109375,
           0.11572265625,
           0.08990478515625,
           76.3125,
           0.33740234375,
           0.455322265625,
           0.189208984375,
           -0.03399658203125,
           0.0251922607421875,
           0.053466796875,
           0.256591796875,
           0.10992431640625,
           0.055755615234375,
           0.14111328125,
           0.032562255859375,
           -0.00966644287109375,
           -0.1077880859375,
           -0.00676727294921875,
           0.0758056640625,
           0.32275390625,
           0.1796875,
           0.1591796875,
           0.0823974609375,
           0.30908203125,
           0.10479736328125,
           0.1533203125,
           0.12359619140625,
           0.203125,
           0.257568359375,
           0.31103515625,
           0.4287109375,
           0.3193359375
          ],
          [
           0.280517578125,
           -0.0095062255859375,
           0.0005497932434082031,
           0.239013671875,
           0.367431640625,
           -0.00951385498046875,
           0.1256103515625,
           0.1905517578125,
           -0.03582763671875,
           0.05584716796875,
           28.109375,
           0.249267578125,
           0.11322021484375,
           -0.0538330078125,
           -0.24755859375,
           -0.1717529296875,
           -0.056060791015625,
           0.073974609375,
           -0.10577392578125,
           0.030181884765625,
           -0.00820159912109375,
           -0.1392822265625,
           -0.156982421875,
           -0.0288543701171875,
           0.002834320068359375,
           -0.058380126953125,
           0.0033206939697265625,
           0.049102783203125,
           -0.09637451171875,
           0.09698486328125,
           0.1033935546875,
           0.137451171875,
           0.1273193359375,
           -0.116455078125,
           -0.1385498046875,
           0.07647705078125,
           0.05902099609375,
           0.131591796875,
           0.1204833984375
          ],
          [
           0.465087890625,
           -0.1678466796875,
           -0.130615234375,
           0.263671875,
           0.057952880859375,
           0.058563232421875,
           0.09002685546875,
           0.25830078125,
           -0.027587890625,
           0.034027099609375,
           -18.015625,
           0.350830078125,
           0.1370849609375,
           -0.1468505859375,
           -0.236572265625,
           -0.0699462890625,
           0.1981201171875,
           0.453125,
           0.130615234375,
           0.060943603515625,
           -0.033538818359375,
           -0.053375244140625,
           0.1783447265625,
           0.305419921875,
           0.180908203125,
           0.0772705078125,
           0.0653076171875,
           -0.1004638671875,
           0.0892333984375,
           -0.0040740966796875,
           0.12200927734375,
           0.2841796875,
           0.282470703125,
           0.088623046875,
           0.0191192626953125,
           0.1883544921875,
           0.25341796875,
           0.21337890625,
           0.1270751953125
          ],
          [
           0.6884765625,
           0.1641845703125,
           0.2666015625,
           0.52978515625,
           0.44140625,
           0.467529296875,
           0.52490234375,
           0.2783203125,
           0.2392578125,
           0.32470703125,
           -11.296875,
           0.53271484375,
           0.400634765625,
           0.274169921875,
           0.03936767578125,
           0.321044921875,
           0.27294921875,
           0.6044921875,
           0.3466796875,
           0.26611328125,
           -0.02484130859375,
           -0.0244140625,
           0.026397705078125,
           0.15283203125,
           -0.00372314453125,
           0.1944580078125,
           0.173828125,
           0.2216796875,
           0.355224609375,
           0.27685546875,
           0.298095703125,
           0.450927734375,
           0.320068359375,
           0.205322265625,
           0.390380859375,
           0.36767578125,
           0.4521484375,
           0.260498046875,
           0.203369140625
          ],
          [
           0.83984375,
           0.303955078125,
           0.6083984375,
           0.57080078125,
           0.34130859375,
           0.5556640625,
           0.6826171875,
           0.439208984375,
           0.2822265625,
           0.50830078125,
           -34.59375,
           0.517578125,
           0.35107421875,
           0.25634765625,
           0.0141143798828125,
           0.1539306640625,
           0.3662109375,
           0.68115234375,
           0.437255859375,
           0.196044921875,
           0.05120849609375,
           -0.053802490234375,
           0.39794921875,
           0.1734619140625,
           0.2364501953125,
           0.5986328125,
           0.8232421875,
           0.361328125,
           0.479248046875,
           0.3759765625,
           0.371337890625,
           0.466796875,
           0.26220703125,
           0.1595458984375,
           0.208251953125,
           0.5107421875,
           0.552734375,
           0.274658203125,
           0.1427001953125
          ],
          [
           -0.33837890625,
           0.251708984375,
           -0.126220703125,
           0.256103515625,
           0.1063232421875,
           0.208984375,
           0.27392578125,
           -0.1533203125,
           -0.211181640625,
           -0.56640625,
           -64.75,
           -0.41748046875,
           -0.36181640625,
           -0.12060546875,
           -1.0556640625,
           -0.8369140625,
           -0.2181396484375,
           0.095703125,
           0.30517578125,
           0.280517578125,
           -0.08843994140625,
           -0.13623046875,
           -0.28857421875,
           -0.210205078125,
           -0.44482421875,
           0.054107666015625,
           0.175537109375,
           0.2056884765625,
           0.1220703125,
           -0.0743408203125,
           -0.0577392578125,
           -0.147705078125,
           0.044677734375,
           0.08831787109375,
           -0.0616455078125,
           -0.0105743408203125,
           0.1641845703125,
           0.06561279296875,
           0.002490997314453125
          ],
          [
           0.74267578125,
           0.72021484375,
           0.759765625,
           1.029296875,
           0.59619140625,
           1.1796875,
           1.048828125,
           0.438720703125,
           0.340087890625,
           0.59619140625,
           -71.8125,
           0.361083984375,
           0.1849365234375,
           0.343994140625,
           -0.306640625,
           0.1622314453125,
           0.2939453125,
           0.438720703125,
           0.42041015625,
           0.390380859375,
           -0.0892333984375,
           0.032745361328125,
           0.256103515625,
           0.2958984375,
           0.2364501953125,
           0.457275390625,
           0.61083984375,
           0.2181396484375,
           0.308349609375,
           0.039703369140625,
           0.432861328125,
           0.41796875,
           0.76806640625,
           0.611328125,
           0.77294921875,
           0.66162109375,
           0.64599609375,
           0.55322265625,
           0.41455078125
          ],
          [
           0.399169921875,
           0.8544921875,
           0.43603515625,
           0.78173828125,
           0.6494140625,
           0.69580078125,
           0.54052734375,
           0.6513671875,
           -0.07342529296875,
           0.135986328125,
           -82.25,
           0.2025146484375,
           0.0693359375,
           0.296630859375,
           -0.4833984375,
           0.1849365234375,
           0.494384765625,
           0.71923828125,
           0.7177734375,
           0.611328125,
           0.1304931640625,
           0.45703125,
           0.080810546875,
           0.272705078125,
           0.13134765625,
           0.3779296875,
           0.630859375,
           0.4931640625,
           0.1617431640625,
           0.0167083740234375,
           0.5283203125,
           0.6181640625,
           0.87744140625,
           1.0732421875,
           1.0341796875,
           0.9697265625,
           0.947265625,
           0.71435546875,
           0.66552734375
          ],
          [
           0.95068359375,
           1.318359375,
           1.107421875,
           0.8994140625,
           0.8310546875,
           0.76220703125,
           0.85986328125,
           1.2431640625,
           1.0068359375,
           0.2318115234375,
           -32.125,
           0.322021484375,
           -0.0241546630859375,
           0.31103515625,
           -0.3857421875,
           -0.02655029296875,
           0.4287109375,
           0.65576171875,
           0.74560546875,
           0.46484375,
           0.11407470703125,
           0.11517333984375,
           0.86865234375,
           0.88818359375,
           0.5078125,
           1.1455078125,
           1.451171875,
           0.75732421875,
           0.309326171875,
           0.15087890625,
           0.92333984375,
           0.6796875,
           1.0322265625,
           1.537109375,
           1.576171875,
           2.078125,
           1.7978515625,
           1.3544921875,
           1.078125
          ],
          [
           1.7783203125,
           1.6220703125,
           1.8515625,
           1.0810546875,
           2.33984375,
           1.1376953125,
           1.0166015625,
           1.818359375,
           1.865234375,
           1.3876953125,
           11.2421875,
           1.267578125,
           0.198974609375,
           0.3974609375,
           0.33935546875,
           0.8544921875,
           1.0224609375,
           1.5517578125,
           1.7734375,
           1.3359375,
           0.998046875,
           0.5771484375,
           1.7841796875,
           0.98779296875,
           1.3525390625,
           1.810546875,
           2.130859375,
           1.18359375,
           0.415283203125,
           0.51611328125,
           1.39453125,
           1.673828125,
           1.9921875,
           2.228515625,
           2.478515625,
           3.080078125,
           3.0546875,
           2.81640625,
           2.3046875
          ],
          [
           1.4501953125,
           2.529296875,
           1.51171875,
           1.19921875,
           3.396484375,
           1.248046875,
           1.3134765625,
           3.330078125,
           2.599609375,
           0.63818359375,
           5.73046875,
           0.794921875,
           0.12286376953125,
           0.040985107421875,
           0.8388671875,
           0.134765625,
           0.8408203125,
           2.166015625,
           1.978515625,
           1.447265625,
           2.1015625,
           1.33203125,
           2.568359375,
           1.041015625,
           1.17578125,
           2.14453125,
           2.357421875,
           1.12890625,
           0.740234375,
           0.60595703125,
           1.5859375,
           1.5068359375,
           1.9375,
           2.322265625,
           3.033203125,
           4.42578125,
           4.22265625,
           3.71875,
           2.7265625
          ],
          [
           0.548828125,
           2.01171875,
           0.62890625,
           0.60302734375,
           2.435546875,
           0.72265625,
           1.0498046875,
           1.6484375,
           0.955078125,
           -1.5419921875,
           25.09375,
           -0.91845703125,
           -0.84912109375,
           -0.78173828125,
           -1.2890625,
           -1.97265625,
           -1.1826171875,
           0.28662109375,
           0.744140625,
           0.5859375,
           1.3125,
           -0.321533203125,
           0.86376953125,
           -0.802734375,
           0.459228515625,
           0.677734375,
           1.2177734375,
           0.65185546875,
           -0.259521484375,
           0.363525390625,
           0.425537109375,
           0.50439453125,
           1.0224609375,
           0.92626953125,
           1.8603515625,
           2.978515625,
           2.56640625,
           2.18359375,
           1.64453125
          ],
          [
           0.76171875,
           2.337890625,
           0.31640625,
           0.73193359375,
           3.6171875,
           1.056640625,
           1.33984375,
           2.2421875,
           1.1005859375,
           -1.7548828125,
           35.03125,
           -0.986328125,
           -0.489013671875,
           -0.4736328125,
           -0.9931640625,
           -2.080078125,
           -1.349609375,
           0.5087890625,
           0.830078125,
           0.09368896484375,
           1.0771484375,
           -1.2021484375,
           0.7373046875,
           -1.3955078125,
           0.05426025390625,
           0.416015625,
           1.5302734375,
           0.92333984375,
           0.270751953125,
           0.36279296875,
           0.607421875,
           -0.358642578125,
           0.6923828125,
           0.6767578125,
           1.759765625,
           2.791015625,
           2.474609375,
           2.4296875,
           1.4912109375
          ],
          [
           1.4736328125,
           2.541015625,
           0.951171875,
           1.205078125,
           3.33984375,
           1.9814453125,
           2.1171875,
           2.544921875,
           2.26171875,
           -0.84521484375,
           29.421875,
           0.03173828125,
           0.27294921875,
           0.46435546875,
           -0.15185546875,
           -1.5224609375,
           -1.048828125,
           0.6630859375,
           1.5439453125,
           0.46728515625,
           1.505859375,
           -0.2412109375,
           1.38671875,
           -0.05596923828125,
           0.69140625,
           0.79052734375,
           1.8330078125,
           1.927734375,
           1.4423828125,
           1.8876953125,
           1.205078125,
           0.6484375,
           1.3369140625,
           1.9697265625,
           2.240234375,
           2.875,
           2.189453125,
           2.109375,
           1.7958984375
          ],
          [
           -0.285888671875,
           0.407470703125,
           -0.86767578125,
           -0.55419921875,
           1.0380859375,
           -0.03155517578125,
           0.2490234375,
           0.2705078125,
           0.78125,
           -1.998046875,
           35.34375,
           -2.107421875,
           -1.6962890625,
           -1.6689453125,
           -2.005859375,
           -3.212890625,
           -3.0546875,
           -1.720703125,
           -0.61962890625,
           -1.3369140625,
           -0.88623046875,
           -2.623046875,
           -0.673828125,
           -2.3203125,
           -1.6728515625,
           -1.822265625,
           -0.55322265625,
           -0.04425048828125,
           -0.54248046875,
           0.142822265625,
           -1.126953125,
           -1.4453125,
           -0.76318359375,
           0.07708740234375,
           -0.060546875,
           0.43896484375,
           0.1331787109375,
           -0.0521240234375,
           -0.103271484375
          ],
          [
           -0.828125,
           -0.57177734375,
           -1.37890625,
           -0.73193359375,
           -1.6044921875,
           -0.2003173828125,
           -0.90234375,
           -1.4599609375,
           0.3310546875,
           -2.3984375,
           23.671875,
           -3.1484375,
           -2.658203125,
           -2.134765625,
           -3.3515625,
           -4.8984375,
           -4.65625,
           -3.09375,
           -1.1220703125,
           -2.51953125,
           -1.986328125,
           -3.93359375,
           -2.53515625,
           -3.435546875,
           -2.89453125,
           -3.35546875,
           -1.09375,
           -0.37353515625,
           -1.814453125,
           -0.6474609375,
           -2.02734375,
           -2.568359375,
           -2.017578125,
           -1.2763671875,
           -1.5859375,
           -1.4951171875,
           -1.5693359375,
           -1.2626953125,
           -1.0263671875
          ],
          [
           1.185546875,
           1.9130859375,
           0.8583984375,
           1.91015625,
           -1.349609375,
           2.587890625,
           1.4970703125,
           0.1669921875,
           3.216796875,
           0.1304931640625,
           22.5,
           -0.9560546875,
           0.3671875,
           0.487548828125,
           -1.1552734375,
           -3.056640625,
           -2.58984375,
           -0.033050537109375,
           1.9130859375,
           0.2017822265625,
           0.429931640625,
           -2.103515625,
           -1.1513671875,
           -1.474609375,
           -0.7353515625,
           -0.93017578125,
           1.2509765625,
           2.50390625,
           0.29345703125,
           1.4833984375,
           0.39599609375,
           0.3173828125,
           0.876953125,
           1.4501953125,
           0.66162109375,
           0.9931640625,
           0.703125,
           1.4482421875,
           1.576171875
          ],
          [
           0.591796875,
           1.197265625,
           0.432373046875,
           0.93505859375,
           -6.19921875,
           1.3798828125,
           -0.381591796875,
           -2.39453125,
           2.314453125,
           -0.06317138671875,
           5.01171875,
           -2.955078125,
           -0.6806640625,
           -1.69140625,
           -3.931640625,
           -5.234375,
           -4.54296875,
           -1.6640625,
           0.46728515625,
           -1.650390625,
           -0.638671875,
           -4.2265625,
           -3.587890625,
           -3.28515625,
           -1.3076171875,
           -2.201171875,
           1.125,
           2.095703125,
           -1.4990234375,
           -1.490234375,
           -1.1259765625,
           -0.2176513671875,
           -0.344970703125,
           0.783203125,
           -0.138671875,
           -0.1429443359375,
           -0.60498046875,
           0.61376953125,
           1.1591796875
          ],
          [
           -0.84228515625,
           -0.0936279296875,
           -1.1748046875,
           -0.1834716796875,
           -7.609375,
           -0.023284912109375,
           -1.814453125,
           -4.28125,
           0.7802734375,
           -1.8564453125,
           0.53173828125,
           -4.8671875,
           -2.47265625,
           -4.30078125,
           -5.5,
           -6.70703125,
           -5.515625,
           -2.568359375,
           -0.07244873046875,
           -2.8671875,
           -1.7587890625,
           -5.50390625,
           -5.39453125,
           -4.60546875,
           -3.23828125,
           -3.18359375,
           0.693359375,
           1.140625,
           -3.259765625,
           -4.00390625,
           -2.482421875,
           -1.041015625,
           -1.9794921875,
           0.0487060546875,
           -1.2392578125,
           -0.755859375,
           -1.111328125,
           0.061279296875,
           0.81982421875
          ],
          [
           -2.078125,
           -1.5302734375,
           -2.90625,
           -1.55078125,
           -9.671875,
           -1.6083984375,
           -4.69140625,
           -6.515625,
           -1.453125,
           -3.896484375,
           -7.8359375,
           -6.34765625,
           -4.2734375,
           -6.66015625,
           -8.1875,
           -8.1328125,
           -5.640625,
           -3.390625,
           0.53369140625,
           -2.71484375,
           -0.93359375,
           -6.33203125,
           -5.86328125,
           -5.48828125,
           -4.17578125,
           -3.677734375,
           1.3994140625,
           0.58154296875,
           -3.689453125,
           -4.890625,
           -3.197265625,
           -2.125,
           -2.662109375,
           -0.41259765625,
           -1.568359375,
           -0.61767578125,
           -0.7529296875,
           0.771484375,
           0.73828125
          ],
          [
           -5.39453125,
           -4.3671875,
           -5.26953125,
           -4.5234375,
           -12.2421875,
           -4.9375,
           -8.546875,
           -10.5,
           -4.16015625,
           -6.44140625,
           -3.94921875,
           -9.2109375,
           -7.25,
           -9.9296875,
           -10.71875,
           -11.5390625,
           -8.2421875,
           -6.62109375,
           -3.2109375,
           -6.36328125,
           -3.388671875,
           -9.46875,
           -9.8046875,
           -8.3359375,
           -7.85546875,
           -6.328125,
           -1.5556640625,
           -2.685546875,
           -6.41796875,
           -7.93359375,
           -5.9296875,
           -5.37109375,
           -5.234375,
           -2.92578125,
           -4.02734375,
           -3.22265625,
           -3.736328125,
           -2.26171875,
           -2.3515625
          ],
          [
           -2.294921875,
           -1.5107421875,
           -2.54296875,
           -2.056640625,
           -10.46875,
           -2.671875,
           -6.984375,
           -9.4609375,
           -1.716796875,
           -2.974609375,
           9.3671875,
           -6.50390625,
           -4.33984375,
           -8.265625,
           -9.4296875,
           -8.484375,
           -4.10546875,
           -2.05859375,
           2.578125,
           -3.134765625,
           1.453125,
           -6.40625,
           -6.5546875,
           -5.203125,
           -5.23046875,
           -2.41015625,
           3.716796875,
           2.49609375,
           -3.05078125,
           -5.0625,
           -2.39453125,
           -2.109375,
           -0.2288818359375,
           1.078125,
           0.54443359375,
           1.78125,
           1.072265625,
           3.197265625,
           2.5625
          ],
          [
           -3.169921875,
           -2.115234375,
           -4.27734375,
           -2.400390625,
           -9.265625,
           -3.177734375,
           -7.13671875,
           -9.3046875,
           -2.25390625,
           -3.408203125,
           21.46875,
           -5.93359375,
           -5.74609375,
           -8.8046875,
           -9.28125,
           -8.5078125,
           -3.81640625,
           -2.642578125,
           2.267578125,
           -4.55859375,
           0.85302734375,
           -7.53515625,
           -7.2109375,
           -6.02734375,
           -5.33203125,
           -3.82421875,
           2.9140625,
           1.5107421875,
           -3.8203125,
           -5.8046875,
           -3.458984375,
           -3.044921875,
           -0.89501953125,
           0.001979827880859375,
           -0.51416015625,
           1.431640625,
           0.38623046875,
           1.857421875,
           2.728515625
          ],
          [
           -6.2890625,
           -4.71875,
           -6.70703125,
           -5.12109375,
           -11.65625,
           -5.8359375,
           -8.765625,
           -12.0078125,
           -4.6015625,
           -6.32421875,
           31.125,
           -7.6953125,
           -7.82421875,
           -11.890625,
           -11.984375,
           -11.4453125,
           -6.1796875,
           -5.3125,
           0.2281494140625,
           -6.55859375,
           -0.96240234375,
           -11.203125,
           -9.6875,
           -9.2421875,
           -7.84765625,
           -6.3125,
           0.43115234375,
           -1.408203125,
           -6.63671875,
           -8.140625,
           -6.03515625,
           -5.3046875,
           -2.5234375,
           -2.80859375,
           -3.4453125,
           -0.82373046875,
           -1.7412109375,
           0.2275390625,
           0.38525390625
          ],
          [
           -5.48828125,
           -4.45703125,
           -6.765625,
           -6.11328125,
           -8.96875,
           -6.16015625,
           -8.0859375,
           -9.9453125,
           -5.5078125,
           -6.60546875,
           45.78125,
           -7.96875,
           -8.6171875,
           -11.5234375,
           -10.828125,
           -12.1484375,
           -6.72265625,
           -5.30859375,
           -0.6787109375,
           -6.74609375,
           -1.521484375,
           -11.5859375,
           -8.6640625,
           -10.0703125,
           -9.078125,
           -6.36328125,
           -1.611328125,
           -2.78515625,
           -7.65625,
           -7.1328125,
           -7.19921875,
           -6.5,
           -3.05859375,
           -2.82421875,
           -2.888671875,
           -1.6162109375,
           -1.50390625,
           -0.4345703125,
           0.84814453125
          ],
          [
           -4.96484375,
           -4.328125,
           -6.2578125,
           -7.08984375,
           -7.71484375,
           -6.703125,
           -6.3125,
           -7.53515625,
           -5.78515625,
           -8.3671875,
           1.337890625,
           -8.3671875,
           -8.265625,
           -10.7265625,
           -10.21875,
           -12.3125,
           -7.19140625,
           -5.42578125,
           -0.0975341796875,
           -5.328125,
           -0.962890625,
           -12.296875,
           -7.0546875,
           -12.3125,
           -11.015625,
           -7.25390625,
           -1.5478515625,
           -2.015625,
           -8.90625,
           -7.10546875,
           -8.0390625,
           -8.5859375,
           -3.8828125,
           -3.61328125,
           -3.494140625,
           -2.365234375,
           -3,
           -0.42578125,
           0.5791015625
          ],
          [
           5.83984375,
           1.8369140625,
           4.10546875,
           -6.015625,
           2.564453125,
           -0.82177734375,
           6.64453125,
           5.3515625,
           5.5078125,
           -4.94140625,
           -0.0245819091796875,
           -2.677734375,
           0.83740234375,
           -2.568359375,
           -3.474609375,
           -6.5078125,
           -5.50390625,
           -1.3125,
           4.890625,
           1.6484375,
           3.775390625,
           -5.08203125,
           0.90380859375,
           -4.54296875,
           -4.80078125,
           -4.05078125,
           3.880859375,
           6.07421875,
           -1.7294921875,
           -1.7763671875,
           -1.3837890625,
           -1.298828125,
           2.0234375,
           5.3125,
           4.91015625,
           6.1484375,
           -0.6201171875,
           10.5625,
           3.958984375
          ]
         ]
        }
       ],
       "layout": {
        "coloraxis": {
         "cmax": 10,
         "cmin": -10,
         "colorscale": [
          [
           0,
           "rgb(165,0,38)"
          ],
          [
           0.1,
           "rgb(215,48,39)"
          ],
          [
           0.2,
           "rgb(244,109,67)"
          ],
          [
           0.3,
           "rgb(253,174,97)"
          ],
          [
           0.4,
           "rgb(254,224,139)"
          ],
          [
           0.5,
           "rgb(255,255,191)"
          ],
          [
           0.6,
           "rgb(217,239,139)"
          ],
          [
           0.7,
           "rgb(166,217,106)"
          ],
          [
           0.8,
           "rgb(102,189,99)"
          ],
          [
           0.9,
           "rgb(26,152,80)"
          ],
          [
           1,
           "rgb(0,104,55)"
          ]
         ]
        },
        "height": 600,
        "margin": {
         "t": 60
        },
        "template": {
         "data": {
          "bar": [
           {
            "error_x": {
             "color": "#2a3f5f"
            },
            "error_y": {
             "color": "#2a3f5f"
            },
            "marker": {
             "line": {
              "color": "#E5ECF6",
              "width": 0.5
             },
             "pattern": {
              "fillmode": "overlay",
              "size": 10,
              "solidity": 0.2
             }
            },
            "type": "bar"
           }
          ],
          "barpolar": [
           {
            "marker": {
             "line": {
              "color": "#E5ECF6",
              "width": 0.5
             },
             "pattern": {
              "fillmode": "overlay",
              "size": 10,
              "solidity": 0.2
             }
            },
            "type": "barpolar"
           }
          ],
          "carpet": [
           {
            "aaxis": {
             "endlinecolor": "#2a3f5f",
             "gridcolor": "white",
             "linecolor": "white",
             "minorgridcolor": "white",
             "startlinecolor": "#2a3f5f"
            },
            "baxis": {
             "endlinecolor": "#2a3f5f",
             "gridcolor": "white",
             "linecolor": "white",
             "minorgridcolor": "white",
             "startlinecolor": "#2a3f5f"
            },
            "type": "carpet"
           }
          ],
          "choropleth": [
           {
            "colorbar": {
             "outlinewidth": 0,
             "ticks": ""
            },
            "type": "choropleth"
           }
          ],
          "contour": [
           {
            "colorbar": {
             "outlinewidth": 0,
             "ticks": ""
            },
            "colorscale": [
             [
              0,
              "#0d0887"
             ],
             [
              0.1111111111111111,
              "#46039f"
             ],
             [
              0.2222222222222222,
              "#7201a8"
             ],
             [
              0.3333333333333333,
              "#9c179e"
             ],
             [
              0.4444444444444444,
              "#bd3786"
             ],
             [
              0.5555555555555556,
              "#d8576b"
             ],
             [
              0.6666666666666666,
              "#ed7953"
             ],
             [
              0.7777777777777778,
              "#fb9f3a"
             ],
             [
              0.8888888888888888,
              "#fdca26"
             ],
             [
              1,
              "#f0f921"
             ]
            ],
            "type": "contour"
           }
          ],
          "contourcarpet": [
           {
            "colorbar": {
             "outlinewidth": 0,
             "ticks": ""
            },
            "type": "contourcarpet"
           }
          ],
          "heatmap": [
           {
            "colorbar": {
             "outlinewidth": 0,
             "ticks": ""
            },
            "colorscale": [
             [
              0,
              "#0d0887"
             ],
             [
              0.1111111111111111,
              "#46039f"
             ],
             [
              0.2222222222222222,
              "#7201a8"
             ],
             [
              0.3333333333333333,
              "#9c179e"
             ],
             [
              0.4444444444444444,
              "#bd3786"
             ],
             [
              0.5555555555555556,
              "#d8576b"
             ],
             [
              0.6666666666666666,
              "#ed7953"
             ],
             [
              0.7777777777777778,
              "#fb9f3a"
             ],
             [
              0.8888888888888888,
              "#fdca26"
             ],
             [
              1,
              "#f0f921"
             ]
            ],
            "type": "heatmap"
           }
          ],
          "heatmapgl": [
           {
            "colorbar": {
             "outlinewidth": 0,
             "ticks": ""
            },
            "colorscale": [
             [
              0,
              "#0d0887"
             ],
             [
              0.1111111111111111,
              "#46039f"
             ],
             [
              0.2222222222222222,
              "#7201a8"
             ],
             [
              0.3333333333333333,
              "#9c179e"
             ],
             [
              0.4444444444444444,
              "#bd3786"
             ],
             [
              0.5555555555555556,
              "#d8576b"
             ],
             [
              0.6666666666666666,
              "#ed7953"
             ],
             [
              0.7777777777777778,
              "#fb9f3a"
             ],
             [
              0.8888888888888888,
              "#fdca26"
             ],
             [
              1,
              "#f0f921"
             ]
            ],
            "type": "heatmapgl"
           }
          ],
          "histogram": [
           {
            "marker": {
             "pattern": {
              "fillmode": "overlay",
              "size": 10,
              "solidity": 0.2
             }
            },
            "type": "histogram"
           }
          ],
          "histogram2d": [
           {
            "colorbar": {
             "outlinewidth": 0,
             "ticks": ""
            },
            "colorscale": [
             [
              0,
              "#0d0887"
             ],
             [
              0.1111111111111111,
              "#46039f"
             ],
             [
              0.2222222222222222,
              "#7201a8"
             ],
             [
              0.3333333333333333,
              "#9c179e"
             ],
             [
              0.4444444444444444,
              "#bd3786"
             ],
             [
              0.5555555555555556,
              "#d8576b"
             ],
             [
              0.6666666666666666,
              "#ed7953"
             ],
             [
              0.7777777777777778,
              "#fb9f3a"
             ],
             [
              0.8888888888888888,
              "#fdca26"
             ],
             [
              1,
              "#f0f921"
             ]
            ],
            "type": "histogram2d"
           }
          ],
          "histogram2dcontour": [
           {
            "colorbar": {
             "outlinewidth": 0,
             "ticks": ""
            },
            "colorscale": [
             [
              0,
              "#0d0887"
             ],
             [
              0.1111111111111111,
              "#46039f"
             ],
             [
              0.2222222222222222,
              "#7201a8"
             ],
             [
              0.3333333333333333,
              "#9c179e"
             ],
             [
              0.4444444444444444,
              "#bd3786"
             ],
             [
              0.5555555555555556,
              "#d8576b"
             ],
             [
              0.6666666666666666,
              "#ed7953"
             ],
             [
              0.7777777777777778,
              "#fb9f3a"
             ],
             [
              0.8888888888888888,
              "#fdca26"
             ],
             [
              1,
              "#f0f921"
             ]
            ],
            "type": "histogram2dcontour"
           }
          ],
          "mesh3d": [
           {
            "colorbar": {
             "outlinewidth": 0,
             "ticks": ""
            },
            "type": "mesh3d"
           }
          ],
          "parcoords": [
           {
            "line": {
             "colorbar": {
              "outlinewidth": 0,
              "ticks": ""
             }
            },
            "type": "parcoords"
           }
          ],
          "pie": [
           {
            "automargin": true,
            "type": "pie"
           }
          ],
          "scatter": [
           {
            "fillpattern": {
             "fillmode": "overlay",
             "size": 10,
             "solidity": 0.2
            },
            "type": "scatter"
           }
          ],
          "scatter3d": [
           {
            "line": {
             "colorbar": {
              "outlinewidth": 0,
              "ticks": ""
             }
            },
            "marker": {
             "colorbar": {
              "outlinewidth": 0,
              "ticks": ""
             }
            },
            "type": "scatter3d"
           }
          ],
          "scattercarpet": [
           {
            "marker": {
             "colorbar": {
              "outlinewidth": 0,
              "ticks": ""
             }
            },
            "type": "scattercarpet"
           }
          ],
          "scattergeo": [
           {
            "marker": {
             "colorbar": {
              "outlinewidth": 0,
              "ticks": ""
             }
            },
            "type": "scattergeo"
           }
          ],
          "scattergl": [
           {
            "marker": {
             "colorbar": {
              "outlinewidth": 0,
              "ticks": ""
             }
            },
            "type": "scattergl"
           }
          ],
          "scattermapbox": [
           {
            "marker": {
             "colorbar": {
              "outlinewidth": 0,
              "ticks": ""
             }
            },
            "type": "scattermapbox"
           }
          ],
          "scatterpolar": [
           {
            "marker": {
             "colorbar": {
              "outlinewidth": 0,
              "ticks": ""
             }
            },
            "type": "scatterpolar"
           }
          ],
          "scatterpolargl": [
           {
            "marker": {
             "colorbar": {
              "outlinewidth": 0,
              "ticks": ""
             }
            },
            "type": "scatterpolargl"
           }
          ],
          "scatterternary": [
           {
            "marker": {
             "colorbar": {
              "outlinewidth": 0,
              "ticks": ""
             }
            },
            "type": "scatterternary"
           }
          ],
          "surface": [
           {
            "colorbar": {
             "outlinewidth": 0,
             "ticks": ""
            },
            "colorscale": [
             [
              0,
              "#0d0887"
             ],
             [
              0.1111111111111111,
              "#46039f"
             ],
             [
              0.2222222222222222,
              "#7201a8"
             ],
             [
              0.3333333333333333,
              "#9c179e"
             ],
             [
              0.4444444444444444,
              "#bd3786"
             ],
             [
              0.5555555555555556,
              "#d8576b"
             ],
             [
              0.6666666666666666,
              "#ed7953"
             ],
             [
              0.7777777777777778,
              "#fb9f3a"
             ],
             [
              0.8888888888888888,
              "#fdca26"
             ],
             [
              1,
              "#f0f921"
             ]
            ],
            "type": "surface"
           }
          ],
          "table": [
           {
            "cells": {
             "fill": {
              "color": "#EBF0F8"
             },
             "line": {
              "color": "white"
             }
            },
            "header": {
             "fill": {
              "color": "#C8D4E3"
             },
             "line": {
              "color": "white"
             }
            },
            "type": "table"
           }
          ]
         },
         "layout": {
          "annotationdefaults": {
           "arrowcolor": "#2a3f5f",
           "arrowhead": 0,
           "arrowwidth": 1
          },
          "autotypenumbers": "strict",
          "coloraxis": {
           "colorbar": {
            "outlinewidth": 0,
            "ticks": ""
           }
          },
          "colorscale": {
           "diverging": [
            [
             0,
             "#8e0152"
            ],
            [
             0.1,
             "#c51b7d"
            ],
            [
             0.2,
             "#de77ae"
            ],
            [
             0.3,
             "#f1b6da"
            ],
            [
             0.4,
             "#fde0ef"
            ],
            [
             0.5,
             "#f7f7f7"
            ],
            [
             0.6,
             "#e6f5d0"
            ],
            [
             0.7,
             "#b8e186"
            ],
            [
             0.8,
             "#7fbc41"
            ],
            [
             0.9,
             "#4d9221"
            ],
            [
             1,
             "#276419"
            ]
           ],
           "sequential": [
            [
             0,
             "#0d0887"
            ],
            [
             0.1111111111111111,
             "#46039f"
            ],
            [
             0.2222222222222222,
             "#7201a8"
            ],
            [
             0.3333333333333333,
             "#9c179e"
            ],
            [
             0.4444444444444444,
             "#bd3786"
            ],
            [
             0.5555555555555556,
             "#d8576b"
            ],
            [
             0.6666666666666666,
             "#ed7953"
            ],
            [
             0.7777777777777778,
             "#fb9f3a"
            ],
            [
             0.8888888888888888,
             "#fdca26"
            ],
            [
             1,
             "#f0f921"
            ]
           ],
           "sequentialminus": [
            [
             0,
             "#0d0887"
            ],
            [
             0.1111111111111111,
             "#46039f"
            ],
            [
             0.2222222222222222,
             "#7201a8"
            ],
            [
             0.3333333333333333,
             "#9c179e"
            ],
            [
             0.4444444444444444,
             "#bd3786"
            ],
            [
             0.5555555555555556,
             "#d8576b"
            ],
            [
             0.6666666666666666,
             "#ed7953"
            ],
            [
             0.7777777777777778,
             "#fb9f3a"
            ],
            [
             0.8888888888888888,
             "#fdca26"
            ],
            [
             1,
             "#f0f921"
            ]
           ]
          },
          "colorway": [
           "#636efa",
           "#EF553B",
           "#00cc96",
           "#ab63fa",
           "#FFA15A",
           "#19d3f3",
           "#FF6692",
           "#B6E880",
           "#FF97FF",
           "#FECB52"
          ],
          "font": {
           "color": "#2a3f5f"
          },
          "geo": {
           "bgcolor": "white",
           "lakecolor": "white",
           "landcolor": "#E5ECF6",
           "showlakes": true,
           "showland": true,
           "subunitcolor": "white"
          },
          "hoverlabel": {
           "align": "left"
          },
          "hovermode": "closest",
          "mapbox": {
           "style": "light"
          },
          "paper_bgcolor": "white",
          "plot_bgcolor": "#E5ECF6",
          "polar": {
           "angularaxis": {
            "gridcolor": "white",
            "linecolor": "white",
            "ticks": ""
           },
           "bgcolor": "#E5ECF6",
           "radialaxis": {
            "gridcolor": "white",
            "linecolor": "white",
            "ticks": ""
           }
          },
          "scene": {
           "xaxis": {
            "backgroundcolor": "#E5ECF6",
            "gridcolor": "white",
            "gridwidth": 2,
            "linecolor": "white",
            "showbackground": true,
            "ticks": "",
            "zerolinecolor": "white"
           },
           "yaxis": {
            "backgroundcolor": "#E5ECF6",
            "gridcolor": "white",
            "gridwidth": 2,
            "linecolor": "white",
            "showbackground": true,
            "ticks": "",
            "zerolinecolor": "white"
           },
           "zaxis": {
            "backgroundcolor": "#E5ECF6",
            "gridcolor": "white",
            "gridwidth": 2,
            "linecolor": "white",
            "showbackground": true,
            "ticks": "",
            "zerolinecolor": "white"
           }
          },
          "shapedefaults": {
           "line": {
            "color": "#2a3f5f"
           }
          },
          "ternary": {
           "aaxis": {
            "gridcolor": "white",
            "linecolor": "white",
            "ticks": ""
           },
           "baxis": {
            "gridcolor": "white",
            "linecolor": "white",
            "ticks": ""
           },
           "bgcolor": "#E5ECF6",
           "caxis": {
            "gridcolor": "white",
            "linecolor": "white",
            "ticks": ""
           }
          },
          "title": {
           "x": 0.05
          },
          "xaxis": {
           "automargin": true,
           "gridcolor": "white",
           "linecolor": "white",
           "ticks": "",
           "title": {
            "standoff": 15
           },
           "zerolinecolor": "white",
           "zerolinewidth": 2
          },
          "yaxis": {
           "automargin": true,
           "gridcolor": "white",
           "linecolor": "white",
           "ticks": "",
           "title": {
            "standoff": 15
           },
           "zerolinecolor": "white",
           "zerolinewidth": 2
          }
         }
        },
        "width": 1000,
        "xaxis": {
         "anchor": "y",
         "autorange": true,
         "constrain": "domain",
         "domain": [
          0.17927631578947367,
          0.8207236842105263
         ],
         "range": [
          -0.5,
          38.5
         ],
         "scaleanchor": "y",
         "ticktext": [
          "▁",
          "▁Sure",
          "!",
          "▁Here",
          "'",
          "s",
          "▁a",
          "▁world",
          "▁fact",
          ":",
          "<0x0A>",
          "<0x0A>",
          "Did",
          "▁you",
          "▁know",
          "▁that",
          "▁the",
          "▁Great",
          "▁Bar",
          "rier",
          "▁Re",
          "ef",
          "▁in",
          "▁Australia",
          "▁is",
          "▁the",
          "▁largest",
          "▁living",
          "▁structure",
          "▁on",
          "▁Earth",
          ",",
          "▁sp",
          "anning",
          "▁over",
          "▁",
          "2",
          ",",
          "3",
          "0"
         ],
         "tickvals": [
          0,
          1,
          2,
          3,
          4,
          5,
          6,
          7,
          8,
          9,
          10,
          11,
          12,
          13,
          14,
          15,
          16,
          17,
          18,
          19,
          20,
          21,
          22,
          23,
          24,
          25,
          26,
          27,
          28,
          29,
          30,
          31,
          32,
          33,
          34,
          35,
          36,
          37,
          38,
          39
         ],
         "title": {
          "text": "Token"
         }
        },
        "yaxis": {
         "anchor": "x",
         "autorange": true,
         "constrain": "domain",
         "domain": [
          0,
          1
         ],
         "range": [
          31.5,
          -0.5
         ]
        }
       }
      },
      "image/png": "[encoded data removed]",
      "text/html": [
       "<div>                            <div id=\"6fb4890e-ea5e-463d-b86c-804425bb2763\" class=\"plotly-graph-div\" style=\"height:600px; width:1000px;\"></div>            <script type=\"text/javascript\">                require([\"plotly\"], function(Plotly) {                    window.PLOTLYENV=window.PLOTLYENV || {};                                    if (document.getElementById(\"6fb4890e-ea5e-463d-b86c-804425bb2763\")) {                    Plotly.newPlot(                        \"6fb4890e-ea5e-463d-b86c-804425bb2763\",                        [{\"coloraxis\":\"coloraxis\",\"name\":\"0\",\"z\":[[0.423095703125,0.1805419921875,0.22265625,0.15576171875,0.41162109375,0.1932373046875,0.3173828125,0.1827392578125,0.14453125,0.267578125,0.1658935546875,0.55810546875,0.26904296875,0.288330078125,0.215576171875,0.3115234375,0.460205078125,0.2371826171875,0.353759765625,0.224609375,0.32080078125,0.2105712890625,0.296142578125,0.224609375,0.261962890625,0.38525390625,0.1717529296875,0.1527099609375,0.1854248046875,0.2286376953125,0.1466064453125,0.345458984375,0.229248046875,0.1239013671875,0.1439208984375,0.302001953125,0.25634765625,0.2861328125,0.166259765625],[0.2120361328125,0.214111328125,0.1622314453125,0.1650390625,0.1820068359375,0.058837890625,0.205322265625,0.27978515625,0.1846923828125,0.08587646484375,258.75,0.246826171875,0.2200927734375,0.1387939453125,0.1331787109375,0.1878662109375,0.2337646484375,0.2529296875,0.31640625,0.2139892578125,0.2337646484375,0.12237548828125,0.140625,0.173583984375,0.11541748046875,0.1480712890625,0.216796875,0.199462890625,0.2008056640625,0.0992431640625,0.1572265625,0.0552978515625,0.1824951171875,0.09368896484375,0.08148193359375,0.0938720703125,0.1016845703125,0.07171630859375,0.11993408203125],[0.1439208984375,0.0855712890625,0.035003662109375,0.156005859375,-0.046905517578125,0.048553466796875,0.1571044921875,0.175048828125,0.25830078125,0.125732421875,70.8125,0.334228515625,0.10382080078125,0.055633544921875,0.1484375,0.1409912109375,0.1729736328125,0.09527587890625,0.27587890625,0.266357421875,0.221923828125,0.211669921875,0.030120849609375,0.0194854736328125,0.05517578125,0.16015625,0.1558837890625,0.22509765625,0.2344970703125,0.133056640625,0.1622314453125,0.06390380859375,0.1436767578125,0.045562744140625,0.07757568359375,0.09552001953125,0.05047607421875,0.1109619140625,0.11285400390625],[-0.08929443359375,-0.1444091796875,-0.1217041015625,-0.1109619140625,-0.371826171875,-0.148193359375,0.00302886962890625,-0.272705078125,0.055908203125,-0.10760498046875,-11.625,0.1336669921875,-0.131591796875,-0.01702880859375,-0.0084991455078125,0.044891357421875,-0.11663818359375,-0.1160888671875,0.11968994140625,0.0582275390625,0.160888671875,-0.057891845703125,-0.2239990234375,-0.357177734375,-0.1964111328125,0.0234375,-0.1318359375,0.2020263671875,0.0152587890625,-0.0706787109375,-0.022247314453125,-0.1435546875,0.07244873046875,-0.0714111328125,0.043914794921875,-0.015045166015625,-0.156005859375,0.0582275390625,0.05804443359375],[0.285888671875,0.332763671875,0.164794921875,0.320068359375,-0.006683349609375,0.30029296875,0.114990234375,0.2191162109375,0.35205078125,0.08905029296875,12.1875,0.370849609375,0.1435546875,0.1236572265625,0.0673828125,0.08538818359375,0.039703369140625,0.255859375,0.1632080078125,0.1419677734375,0.290283203125,0.1646728515625,0.045440673828125,-0.1005859375,0.10345458984375,0.12042236328125,0.10150146484375,0.378173828125,0.301513671875,0.2154541015625,0.325927734375,0.19921875,0.309326171875,0.2032470703125,0.334716796875,0.22265625,0.09307861328125,0.255859375,0.27001953125],[0.40625,0.447509765625,0.2880859375,0.310546875,0.372802734375,0.225341796875,0.157958984375,0.2412109375,0.11572265625,0.08990478515625,76.3125,0.33740234375,0.455322265625,0.189208984375,-0.03399658203125,0.0251922607421875,0.053466796875,0.256591796875,0.10992431640625,0.055755615234375,0.14111328125,0.032562255859375,-0.00966644287109375,-0.1077880859375,-0.00676727294921875,0.0758056640625,0.32275390625,0.1796875,0.1591796875,0.0823974609375,0.30908203125,0.10479736328125,0.1533203125,0.12359619140625,0.203125,0.257568359375,0.31103515625,0.4287109375,0.3193359375],[0.280517578125,-0.0095062255859375,0.0005497932434082031,0.239013671875,0.367431640625,-0.00951385498046875,0.1256103515625,0.1905517578125,-0.03582763671875,0.05584716796875,28.109375,0.249267578125,0.11322021484375,-0.0538330078125,-0.24755859375,-0.1717529296875,-0.056060791015625,0.073974609375,-0.10577392578125,0.030181884765625,-0.00820159912109375,-0.1392822265625,-0.156982421875,-0.0288543701171875,0.002834320068359375,-0.058380126953125,0.0033206939697265625,0.049102783203125,-0.09637451171875,0.09698486328125,0.1033935546875,0.137451171875,0.1273193359375,-0.116455078125,-0.1385498046875,0.07647705078125,0.05902099609375,0.131591796875,0.1204833984375],[0.465087890625,-0.1678466796875,-0.130615234375,0.263671875,0.057952880859375,0.058563232421875,0.09002685546875,0.25830078125,-0.027587890625,0.034027099609375,-18.015625,0.350830078125,0.1370849609375,-0.1468505859375,-0.236572265625,-0.0699462890625,0.1981201171875,0.453125,0.130615234375,0.060943603515625,-0.033538818359375,-0.053375244140625,0.1783447265625,0.305419921875,0.180908203125,0.0772705078125,0.0653076171875,-0.1004638671875,0.0892333984375,-0.0040740966796875,0.12200927734375,0.2841796875,0.282470703125,0.088623046875,0.0191192626953125,0.1883544921875,0.25341796875,0.21337890625,0.1270751953125],[0.6884765625,0.1641845703125,0.2666015625,0.52978515625,0.44140625,0.467529296875,0.52490234375,0.2783203125,0.2392578125,0.32470703125,-11.296875,0.53271484375,0.400634765625,0.274169921875,0.03936767578125,0.321044921875,0.27294921875,0.6044921875,0.3466796875,0.26611328125,-0.02484130859375,-0.0244140625,0.026397705078125,0.15283203125,-0.00372314453125,0.1944580078125,0.173828125,0.2216796875,0.355224609375,0.27685546875,0.298095703125,0.450927734375,0.320068359375,0.205322265625,0.390380859375,0.36767578125,0.4521484375,0.260498046875,0.203369140625],[0.83984375,0.303955078125,0.6083984375,0.57080078125,0.34130859375,0.5556640625,0.6826171875,0.439208984375,0.2822265625,0.50830078125,-34.59375,0.517578125,0.35107421875,0.25634765625,0.0141143798828125,0.1539306640625,0.3662109375,0.68115234375,0.437255859375,0.196044921875,0.05120849609375,-0.053802490234375,0.39794921875,0.1734619140625,0.2364501953125,0.5986328125,0.8232421875,0.361328125,0.479248046875,0.3759765625,0.371337890625,0.466796875,0.26220703125,0.1595458984375,0.208251953125,0.5107421875,0.552734375,0.274658203125,0.1427001953125],[-0.33837890625,0.251708984375,-0.126220703125,0.256103515625,0.1063232421875,0.208984375,0.27392578125,-0.1533203125,-0.211181640625,-0.56640625,-64.75,-0.41748046875,-0.36181640625,-0.12060546875,-1.0556640625,-0.8369140625,-0.2181396484375,0.095703125,0.30517578125,0.280517578125,-0.08843994140625,-0.13623046875,-0.28857421875,-0.210205078125,-0.44482421875,0.054107666015625,0.175537109375,0.2056884765625,0.1220703125,-0.0743408203125,-0.0577392578125,-0.147705078125,0.044677734375,0.08831787109375,-0.0616455078125,-0.0105743408203125,0.1641845703125,0.06561279296875,0.002490997314453125],[0.74267578125,0.72021484375,0.759765625,1.029296875,0.59619140625,1.1796875,1.048828125,0.438720703125,0.340087890625,0.59619140625,-71.8125,0.361083984375,0.1849365234375,0.343994140625,-0.306640625,0.1622314453125,0.2939453125,0.438720703125,0.42041015625,0.390380859375,-0.0892333984375,0.032745361328125,0.256103515625,0.2958984375,0.2364501953125,0.457275390625,0.61083984375,0.2181396484375,0.308349609375,0.039703369140625,0.432861328125,0.41796875,0.76806640625,0.611328125,0.77294921875,0.66162109375,0.64599609375,0.55322265625,0.41455078125],[0.399169921875,0.8544921875,0.43603515625,0.78173828125,0.6494140625,0.69580078125,0.54052734375,0.6513671875,-0.07342529296875,0.135986328125,-82.25,0.2025146484375,0.0693359375,0.296630859375,-0.4833984375,0.1849365234375,0.494384765625,0.71923828125,0.7177734375,0.611328125,0.1304931640625,0.45703125,0.080810546875,0.272705078125,0.13134765625,0.3779296875,0.630859375,0.4931640625,0.1617431640625,0.0167083740234375,0.5283203125,0.6181640625,0.87744140625,1.0732421875,1.0341796875,0.9697265625,0.947265625,0.71435546875,0.66552734375],[0.95068359375,1.318359375,1.107421875,0.8994140625,0.8310546875,0.76220703125,0.85986328125,1.2431640625,1.0068359375,0.2318115234375,-32.125,0.322021484375,-0.0241546630859375,0.31103515625,-0.3857421875,-0.02655029296875,0.4287109375,0.65576171875,0.74560546875,0.46484375,0.11407470703125,0.11517333984375,0.86865234375,0.88818359375,0.5078125,1.1455078125,1.451171875,0.75732421875,0.309326171875,0.15087890625,0.92333984375,0.6796875,1.0322265625,1.537109375,1.576171875,2.078125,1.7978515625,1.3544921875,1.078125],[1.7783203125,1.6220703125,1.8515625,1.0810546875,2.33984375,1.1376953125,1.0166015625,1.818359375,1.865234375,1.3876953125,11.2421875,1.267578125,0.198974609375,0.3974609375,0.33935546875,0.8544921875,1.0224609375,1.5517578125,1.7734375,1.3359375,0.998046875,0.5771484375,1.7841796875,0.98779296875,1.3525390625,1.810546875,2.130859375,1.18359375,0.415283203125,0.51611328125,1.39453125,1.673828125,1.9921875,2.228515625,2.478515625,3.080078125,3.0546875,2.81640625,2.3046875],[1.4501953125,2.529296875,1.51171875,1.19921875,3.396484375,1.248046875,1.3134765625,3.330078125,2.599609375,0.63818359375,5.73046875,0.794921875,0.12286376953125,0.040985107421875,0.8388671875,0.134765625,0.8408203125,2.166015625,1.978515625,1.447265625,2.1015625,1.33203125,2.568359375,1.041015625,1.17578125,2.14453125,2.357421875,1.12890625,0.740234375,0.60595703125,1.5859375,1.5068359375,1.9375,2.322265625,3.033203125,4.42578125,4.22265625,3.71875,2.7265625],[0.548828125,2.01171875,0.62890625,0.60302734375,2.435546875,0.72265625,1.0498046875,1.6484375,0.955078125,-1.5419921875,25.09375,-0.91845703125,-0.84912109375,-0.78173828125,-1.2890625,-1.97265625,-1.1826171875,0.28662109375,0.744140625,0.5859375,1.3125,-0.321533203125,0.86376953125,-0.802734375,0.459228515625,0.677734375,1.2177734375,0.65185546875,-0.259521484375,0.363525390625,0.425537109375,0.50439453125,1.0224609375,0.92626953125,1.8603515625,2.978515625,2.56640625,2.18359375,1.64453125],[0.76171875,2.337890625,0.31640625,0.73193359375,3.6171875,1.056640625,1.33984375,2.2421875,1.1005859375,-1.7548828125,35.03125,-0.986328125,-0.489013671875,-0.4736328125,-0.9931640625,-2.080078125,-1.349609375,0.5087890625,0.830078125,0.09368896484375,1.0771484375,-1.2021484375,0.7373046875,-1.3955078125,0.05426025390625,0.416015625,1.5302734375,0.92333984375,0.270751953125,0.36279296875,0.607421875,-0.358642578125,0.6923828125,0.6767578125,1.759765625,2.791015625,2.474609375,2.4296875,1.4912109375],[1.4736328125,2.541015625,0.951171875,1.205078125,3.33984375,1.9814453125,2.1171875,2.544921875,2.26171875,-0.84521484375,29.421875,0.03173828125,0.27294921875,0.46435546875,-0.15185546875,-1.5224609375,-1.048828125,0.6630859375,1.5439453125,0.46728515625,1.505859375,-0.2412109375,1.38671875,-0.05596923828125,0.69140625,0.79052734375,1.8330078125,1.927734375,1.4423828125,1.8876953125,1.205078125,0.6484375,1.3369140625,1.9697265625,2.240234375,2.875,2.189453125,2.109375,1.7958984375],[-0.285888671875,0.407470703125,-0.86767578125,-0.55419921875,1.0380859375,-0.03155517578125,0.2490234375,0.2705078125,0.78125,-1.998046875,35.34375,-2.107421875,-1.6962890625,-1.6689453125,-2.005859375,-3.212890625,-3.0546875,-1.720703125,-0.61962890625,-1.3369140625,-0.88623046875,-2.623046875,-0.673828125,-2.3203125,-1.6728515625,-1.822265625,-0.55322265625,-0.04425048828125,-0.54248046875,0.142822265625,-1.126953125,-1.4453125,-0.76318359375,0.07708740234375,-0.060546875,0.43896484375,0.1331787109375,-0.0521240234375,-0.103271484375],[-0.828125,-0.57177734375,-1.37890625,-0.73193359375,-1.6044921875,-0.2003173828125,-0.90234375,-1.4599609375,0.3310546875,-2.3984375,23.671875,-3.1484375,-2.658203125,-2.134765625,-3.3515625,-4.8984375,-4.65625,-3.09375,-1.1220703125,-2.51953125,-1.986328125,-3.93359375,-2.53515625,-3.435546875,-2.89453125,-3.35546875,-1.09375,-0.37353515625,-1.814453125,-0.6474609375,-2.02734375,-2.568359375,-2.017578125,-1.2763671875,-1.5859375,-1.4951171875,-1.5693359375,-1.2626953125,-1.0263671875],[1.185546875,1.9130859375,0.8583984375,1.91015625,-1.349609375,2.587890625,1.4970703125,0.1669921875,3.216796875,0.1304931640625,22.5,-0.9560546875,0.3671875,0.487548828125,-1.1552734375,-3.056640625,-2.58984375,-0.033050537109375,1.9130859375,0.2017822265625,0.429931640625,-2.103515625,-1.1513671875,-1.474609375,-0.7353515625,-0.93017578125,1.2509765625,2.50390625,0.29345703125,1.4833984375,0.39599609375,0.3173828125,0.876953125,1.4501953125,0.66162109375,0.9931640625,0.703125,1.4482421875,1.576171875],[0.591796875,1.197265625,0.432373046875,0.93505859375,-6.19921875,1.3798828125,-0.381591796875,-2.39453125,2.314453125,-0.06317138671875,5.01171875,-2.955078125,-0.6806640625,-1.69140625,-3.931640625,-5.234375,-4.54296875,-1.6640625,0.46728515625,-1.650390625,-0.638671875,-4.2265625,-3.587890625,-3.28515625,-1.3076171875,-2.201171875,1.125,2.095703125,-1.4990234375,-1.490234375,-1.1259765625,-0.2176513671875,-0.344970703125,0.783203125,-0.138671875,-0.1429443359375,-0.60498046875,0.61376953125,1.1591796875],[-0.84228515625,-0.0936279296875,-1.1748046875,-0.1834716796875,-7.609375,-0.023284912109375,-1.814453125,-4.28125,0.7802734375,-1.8564453125,0.53173828125,-4.8671875,-2.47265625,-4.30078125,-5.5,-6.70703125,-5.515625,-2.568359375,-0.07244873046875,-2.8671875,-1.7587890625,-5.50390625,-5.39453125,-4.60546875,-3.23828125,-3.18359375,0.693359375,1.140625,-3.259765625,-4.00390625,-2.482421875,-1.041015625,-1.9794921875,0.0487060546875,-1.2392578125,-0.755859375,-1.111328125,0.061279296875,0.81982421875],[-2.078125,-1.5302734375,-2.90625,-1.55078125,-9.671875,-1.6083984375,-4.69140625,-6.515625,-1.453125,-3.896484375,-7.8359375,-6.34765625,-4.2734375,-6.66015625,-8.1875,-8.1328125,-5.640625,-3.390625,0.53369140625,-2.71484375,-0.93359375,-6.33203125,-5.86328125,-5.48828125,-4.17578125,-3.677734375,1.3994140625,0.58154296875,-3.689453125,-4.890625,-3.197265625,-2.125,-2.662109375,-0.41259765625,-1.568359375,-0.61767578125,-0.7529296875,0.771484375,0.73828125],[-5.39453125,-4.3671875,-5.26953125,-4.5234375,-12.2421875,-4.9375,-8.546875,-10.5,-4.16015625,-6.44140625,-3.94921875,-9.2109375,-7.25,-9.9296875,-10.71875,-11.5390625,-8.2421875,-6.62109375,-3.2109375,-6.36328125,-3.388671875,-9.46875,-9.8046875,-8.3359375,-7.85546875,-6.328125,-1.5556640625,-2.685546875,-6.41796875,-7.93359375,-5.9296875,-5.37109375,-5.234375,-2.92578125,-4.02734375,-3.22265625,-3.736328125,-2.26171875,-2.3515625],[-2.294921875,-1.5107421875,-2.54296875,-2.056640625,-10.46875,-2.671875,-6.984375,-9.4609375,-1.716796875,-2.974609375,9.3671875,-6.50390625,-4.33984375,-8.265625,-9.4296875,-8.484375,-4.10546875,-2.05859375,2.578125,-3.134765625,1.453125,-6.40625,-6.5546875,-5.203125,-5.23046875,-2.41015625,3.716796875,2.49609375,-3.05078125,-5.0625,-2.39453125,-2.109375,-0.2288818359375,1.078125,0.54443359375,1.78125,1.072265625,3.197265625,2.5625],[-3.169921875,-2.115234375,-4.27734375,-2.400390625,-9.265625,-3.177734375,-7.13671875,-9.3046875,-2.25390625,-3.408203125,21.46875,-5.93359375,-5.74609375,-8.8046875,-9.28125,-8.5078125,-3.81640625,-2.642578125,2.267578125,-4.55859375,0.85302734375,-7.53515625,-7.2109375,-6.02734375,-5.33203125,-3.82421875,2.9140625,1.5107421875,-3.8203125,-5.8046875,-3.458984375,-3.044921875,-0.89501953125,0.001979827880859375,-0.51416015625,1.431640625,0.38623046875,1.857421875,2.728515625],[-6.2890625,-4.71875,-6.70703125,-5.12109375,-11.65625,-5.8359375,-8.765625,-12.0078125,-4.6015625,-6.32421875,31.125,-7.6953125,-7.82421875,-11.890625,-11.984375,-11.4453125,-6.1796875,-5.3125,0.2281494140625,-6.55859375,-0.96240234375,-11.203125,-9.6875,-9.2421875,-7.84765625,-6.3125,0.43115234375,-1.408203125,-6.63671875,-8.140625,-6.03515625,-5.3046875,-2.5234375,-2.80859375,-3.4453125,-0.82373046875,-1.7412109375,0.2275390625,0.38525390625],[-5.48828125,-4.45703125,-6.765625,-6.11328125,-8.96875,-6.16015625,-8.0859375,-9.9453125,-5.5078125,-6.60546875,45.78125,-7.96875,-8.6171875,-11.5234375,-10.828125,-12.1484375,-6.72265625,-5.30859375,-0.6787109375,-6.74609375,-1.521484375,-11.5859375,-8.6640625,-10.0703125,-9.078125,-6.36328125,-1.611328125,-2.78515625,-7.65625,-7.1328125,-7.19921875,-6.5,-3.05859375,-2.82421875,-2.888671875,-1.6162109375,-1.50390625,-0.4345703125,0.84814453125],[-4.96484375,-4.328125,-6.2578125,-7.08984375,-7.71484375,-6.703125,-6.3125,-7.53515625,-5.78515625,-8.3671875,1.337890625,-8.3671875,-8.265625,-10.7265625,-10.21875,-12.3125,-7.19140625,-5.42578125,-0.0975341796875,-5.328125,-0.962890625,-12.296875,-7.0546875,-12.3125,-11.015625,-7.25390625,-1.5478515625,-2.015625,-8.90625,-7.10546875,-8.0390625,-8.5859375,-3.8828125,-3.61328125,-3.494140625,-2.365234375,-3.0,-0.42578125,0.5791015625],[5.83984375,1.8369140625,4.10546875,-6.015625,2.564453125,-0.82177734375,6.64453125,5.3515625,5.5078125,-4.94140625,-0.0245819091796875,-2.677734375,0.83740234375,-2.568359375,-3.474609375,-6.5078125,-5.50390625,-1.3125,4.890625,1.6484375,3.775390625,-5.08203125,0.90380859375,-4.54296875,-4.80078125,-4.05078125,3.880859375,6.07421875,-1.7294921875,-1.7763671875,-1.3837890625,-1.298828125,2.0234375,5.3125,4.91015625,6.1484375,-0.6201171875,10.5625,3.958984375]],\"type\":\"heatmap\",\"xaxis\":\"x\",\"yaxis\":\"y\",\"hovertemplate\":\"Token: %{x}\\u003cbr\\u003ey: %{y}\\u003cbr\\u003ecolor: %{z}\\u003cextra\\u003e\\u003c\\u002fextra\\u003e\"}],                        {\"template\":{\"data\":{\"histogram2dcontour\":[{\"type\":\"histogram2dcontour\",\"colorbar\":{\"outlinewidth\":0,\"ticks\":\"\"},\"colorscale\":[[0.0,\"#0d0887\"],[0.1111111111111111,\"#46039f\"],[0.2222222222222222,\"#7201a8\"],[0.3333333333333333,\"#9c179e\"],[0.4444444444444444,\"#bd3786\"],[0.5555555555555556,\"#d8576b\"],[0.6666666666666666,\"#ed7953\"],[0.7777777777777778,\"#fb9f3a\"],[0.8888888888888888,\"#fdca26\"],[1.0,\"#f0f921\"]]}],\"choropleth\":[{\"type\":\"choropleth\",\"colorbar\":{\"outlinewidth\":0,\"ticks\":\"\"}}],\"histogram2d\":[{\"type\":\"histogram2d\",\"colorbar\":{\"outlinewidth\":0,\"ticks\":\"\"},\"colorscale\":[[0.0,\"#0d0887\"],[0.1111111111111111,\"#46039f\"],[0.2222222222222222,\"#7201a8\"],[0.3333333333333333,\"#9c179e\"],[0.4444444444444444,\"#bd3786\"],[0.5555555555555556,\"#d8576b\"],[0.6666666666666666,\"#ed7953\"],[0.7777777777777778,\"#fb9f3a\"],[0.8888888888888888,\"#fdca26\"],[1.0,\"#f0f921\"]]}],\"heatmap\":[{\"type\":\"heatmap\",\"colorbar\":{\"outlinewidth\":0,\"ticks\":\"\"},\"colorscale\":[[0.0,\"#0d0887\"],[0.1111111111111111,\"#46039f\"],[0.2222222222222222,\"#7201a8\"],[0.3333333333333333,\"#9c179e\"],[0.4444444444444444,\"#bd3786\"],[0.5555555555555556,\"#d8576b\"],[0.6666666666666666,\"#ed7953\"],[0.7777777777777778,\"#fb9f3a\"],[0.8888888888888888,\"#fdca26\"],[1.0,\"#f0f921\"]]}],\"heatmapgl\":[{\"type\":\"heatmapgl\",\"colorbar\":{\"outlinewidth\":0,\"ticks\":\"\"},\"colorscale\":[[0.0,\"#0d0887\"],[0.1111111111111111,\"#46039f\"],[0.2222222222222222,\"#7201a8\"],[0.3333333333333333,\"#9c179e\"],[0.4444444444444444,\"#bd3786\"],[0.5555555555555556,\"#d8576b\"],[0.6666666666666666,\"#ed7953\"],[0.7777777777777778,\"#fb9f3a\"],[0.8888888888888888,\"#fdca26\"],[1.0,\"#f0f921\"]]}],\"contourcarpet\":[{\"type\":\"contourcarpet\",\"colorbar\":{\"outlinewidth\":0,\"ticks\":\"\"}}],\"contour\":[{\"type\":\"contour\",\"colorbar\":{\"outlinewidth\":0,\"ticks\":\"\"},\"colorscale\":[[0.0,\"#0d0887\"],[0.1111111111111111,\"#46039f\"],[0.2222222222222222,\"#7201a8\"],[0.3333333333333333,\"#9c179e\"],[0.4444444444444444,\"#bd3786\"],[0.5555555555555556,\"#d8576b\"],[0.6666666666666666,\"#ed7953\"],[0.7777777777777778,\"#fb9f3a\"],[0.8888888888888888,\"#fdca26\"],[1.0,\"#f0f921\"]]}],\"surface\":[{\"type\":\"surface\",\"colorbar\":{\"outlinewidth\":0,\"ticks\":\"\"},\"colorscale\":[[0.0,\"#0d0887\"],[0.1111111111111111,\"#46039f\"],[0.2222222222222222,\"#7201a8\"],[0.3333333333333333,\"#9c179e\"],[0.4444444444444444,\"#bd3786\"],[0.5555555555555556,\"#d8576b\"],[0.6666666666666666,\"#ed7953\"],[0.7777777777777778,\"#fb9f3a\"],[0.8888888888888888,\"#fdca26\"],[1.0,\"#f0f921\"]]}],\"mesh3d\":[{\"type\":\"mesh3d\",\"colorbar\":{\"outlinewidth\":0,\"ticks\":\"\"}}],\"scatter\":[{\"fillpattern\":{\"fillmode\":\"overlay\",\"size\":10,\"solidity\":0.2},\"type\":\"scatter\"}],\"parcoords\":[{\"type\":\"parcoords\",\"line\":{\"colorbar\":{\"outlinewidth\":0,\"ticks\":\"\"}}}],\"scatterpolargl\":[{\"type\":\"scatterpolargl\",\"marker\":{\"colorbar\":{\"outlinewidth\":0,\"ticks\":\"\"}}}],\"bar\":[{\"error_x\":{\"color\":\"#2a3f5f\"},\"error_y\":{\"color\":\"#2a3f5f\"},\"marker\":{\"line\":{\"color\":\"#E5ECF6\",\"width\":0.5},\"pattern\":{\"fillmode\":\"overlay\",\"size\":10,\"solidity\":0.2}},\"type\":\"bar\"}],\"scattergeo\":[{\"type\":\"scattergeo\",\"marker\":{\"colorbar\":{\"outlinewidth\":0,\"ticks\":\"\"}}}],\"scatterpolar\":[{\"type\":\"scatterpolar\",\"marker\":{\"colorbar\":{\"outlinewidth\":0,\"ticks\":\"\"}}}],\"histogram\":[{\"marker\":{\"pattern\":{\"fillmode\":\"overlay\",\"size\":10,\"solidity\":0.2}},\"type\":\"histogram\"}],\"scattergl\":[{\"type\":\"scattergl\",\"marker\":{\"colorbar\":{\"outlinewidth\":0,\"ticks\":\"\"}}}],\"scatter3d\":[{\"type\":\"scatter3d\",\"line\":{\"colorbar\":{\"outlinewidth\":0,\"ticks\":\"\"}},\"marker\":{\"colorbar\":{\"outlinewidth\":0,\"ticks\":\"\"}}}],\"scattermapbox\":[{\"type\":\"scattermapbox\",\"marker\":{\"colorbar\":{\"outlinewidth\":0,\"ticks\":\"\"}}}],\"scatterternary\":[{\"type\":\"scatterternary\",\"marker\":{\"colorbar\":{\"outlinewidth\":0,\"ticks\":\"\"}}}],\"scattercarpet\":[{\"type\":\"scattercarpet\",\"marker\":{\"colorbar\":{\"outlinewidth\":0,\"ticks\":\"\"}}}],\"carpet\":[{\"aaxis\":{\"endlinecolor\":\"#2a3f5f\",\"gridcolor\":\"white\",\"linecolor\":\"white\",\"minorgridcolor\":\"white\",\"startlinecolor\":\"#2a3f5f\"},\"baxis\":{\"endlinecolor\":\"#2a3f5f\",\"gridcolor\":\"white\",\"linecolor\":\"white\",\"minorgridcolor\":\"white\",\"startlinecolor\":\"#2a3f5f\"},\"type\":\"carpet\"}],\"table\":[{\"cells\":{\"fill\":{\"color\":\"#EBF0F8\"},\"line\":{\"color\":\"white\"}},\"header\":{\"fill\":{\"color\":\"#C8D4E3\"},\"line\":{\"color\":\"white\"}},\"type\":\"table\"}],\"barpolar\":[{\"marker\":{\"line\":{\"color\":\"#E5ECF6\",\"width\":0.5},\"pattern\":{\"fillmode\":\"overlay\",\"size\":10,\"solidity\":0.2}},\"type\":\"barpolar\"}],\"pie\":[{\"automargin\":true,\"type\":\"pie\"}]},\"layout\":{\"autotypenumbers\":\"strict\",\"colorway\":[\"#636efa\",\"#EF553B\",\"#00cc96\",\"#ab63fa\",\"#FFA15A\",\"#19d3f3\",\"#FF6692\",\"#B6E880\",\"#FF97FF\",\"#FECB52\"],\"font\":{\"color\":\"#2a3f5f\"},\"hovermode\":\"closest\",\"hoverlabel\":{\"align\":\"left\"},\"paper_bgcolor\":\"white\",\"plot_bgcolor\":\"#E5ECF6\",\"polar\":{\"bgcolor\":\"#E5ECF6\",\"angularaxis\":{\"gridcolor\":\"white\",\"linecolor\":\"white\",\"ticks\":\"\"},\"radialaxis\":{\"gridcolor\":\"white\",\"linecolor\":\"white\",\"ticks\":\"\"}},\"ternary\":{\"bgcolor\":\"#E5ECF6\",\"aaxis\":{\"gridcolor\":\"white\",\"linecolor\":\"white\",\"ticks\":\"\"},\"baxis\":{\"gridcolor\":\"white\",\"linecolor\":\"white\",\"ticks\":\"\"},\"caxis\":{\"gridcolor\":\"white\",\"linecolor\":\"white\",\"ticks\":\"\"}},\"coloraxis\":{\"colorbar\":{\"outlinewidth\":0,\"ticks\":\"\"}},\"colorscale\":{\"sequential\":[[0.0,\"#0d0887\"],[0.1111111111111111,\"#46039f\"],[0.2222222222222222,\"#7201a8\"],[0.3333333333333333,\"#9c179e\"],[0.4444444444444444,\"#bd3786\"],[0.5555555555555556,\"#d8576b\"],[0.6666666666666666,\"#ed7953\"],[0.7777777777777778,\"#fb9f3a\"],[0.8888888888888888,\"#fdca26\"],[1.0,\"#f0f921\"]],\"sequentialminus\":[[0.0,\"#0d0887\"],[0.1111111111111111,\"#46039f\"],[0.2222222222222222,\"#7201a8\"],[0.3333333333333333,\"#9c179e\"],[0.4444444444444444,\"#bd3786\"],[0.5555555555555556,\"#d8576b\"],[0.6666666666666666,\"#ed7953\"],[0.7777777777777778,\"#fb9f3a\"],[0.8888888888888888,\"#fdca26\"],[1.0,\"#f0f921\"]],\"diverging\":[[0,\"#8e0152\"],[0.1,\"#c51b7d\"],[0.2,\"#de77ae\"],[0.3,\"#f1b6da\"],[0.4,\"#fde0ef\"],[0.5,\"#f7f7f7\"],[0.6,\"#e6f5d0\"],[0.7,\"#b8e186\"],[0.8,\"#7fbc41\"],[0.9,\"#4d9221\"],[1,\"#276419\"]]},\"xaxis\":{\"gridcolor\":\"white\",\"linecolor\":\"white\",\"ticks\":\"\",\"title\":{\"standoff\":15},\"zerolinecolor\":\"white\",\"automargin\":true,\"zerolinewidth\":2},\"yaxis\":{\"gridcolor\":\"white\",\"linecolor\":\"white\",\"ticks\":\"\",\"title\":{\"standoff\":15},\"zerolinecolor\":\"white\",\"automargin\":true,\"zerolinewidth\":2},\"scene\":{\"xaxis\":{\"backgroundcolor\":\"#E5ECF6\",\"gridcolor\":\"white\",\"linecolor\":\"white\",\"showbackground\":true,\"ticks\":\"\",\"zerolinecolor\":\"white\",\"gridwidth\":2},\"yaxis\":{\"backgroundcolor\":\"#E5ECF6\",\"gridcolor\":\"white\",\"linecolor\":\"white\",\"showbackground\":true,\"ticks\":\"\",\"zerolinecolor\":\"white\",\"gridwidth\":2},\"zaxis\":{\"backgroundcolor\":\"#E5ECF6\",\"gridcolor\":\"white\",\"linecolor\":\"white\",\"showbackground\":true,\"ticks\":\"\",\"zerolinecolor\":\"white\",\"gridwidth\":2}},\"shapedefaults\":{\"line\":{\"color\":\"#2a3f5f\"}},\"annotationdefaults\":{\"arrowcolor\":\"#2a3f5f\",\"arrowhead\":0,\"arrowwidth\":1},\"geo\":{\"bgcolor\":\"white\",\"landcolor\":\"#E5ECF6\",\"subunitcolor\":\"white\",\"showland\":true,\"showlakes\":true,\"lakecolor\":\"white\"},\"title\":{\"x\":0.05},\"mapbox\":{\"style\":\"light\"}}},\"xaxis\":{\"anchor\":\"y\",\"domain\":[0.0,1.0],\"scaleanchor\":\"y\",\"constrain\":\"domain\",\"title\":{\"text\":\"Token\"},\"tickvals\":[0,1,2,3,4,5,6,7,8,9,10,11,12,13,14,15,16,17,18,19,20,21,22,23,24,25,26,27,28,29,30,31,32,33,34,35,36,37,38,39],\"ticktext\":[\"\\u2581\",\"\\u2581Sure\",\"!\",\"\\u2581Here\",\"'\",\"s\",\"\\u2581a\",\"\\u2581world\",\"\\u2581fact\",\":\",\"\\u003c0x0A\\u003e\",\"\\u003c0x0A\\u003e\",\"Did\",\"\\u2581you\",\"\\u2581know\",\"\\u2581that\",\"\\u2581the\",\"\\u2581Great\",\"\\u2581Bar\",\"rier\",\"\\u2581Re\",\"ef\",\"\\u2581in\",\"\\u2581Australia\",\"\\u2581is\",\"\\u2581the\",\"\\u2581largest\",\"\\u2581living\",\"\\u2581structure\",\"\\u2581on\",\"\\u2581Earth\",\",\",\"\\u2581sp\",\"anning\",\"\\u2581over\",\"\\u2581\",\"2\",\",\",\"3\",\"0\"]},\"yaxis\":{\"anchor\":\"x\",\"domain\":[0.0,1.0],\"autorange\":\"reversed\",\"constrain\":\"domain\"},\"coloraxis\":{\"colorscale\":[[0.0,\"rgb(165,0,38)\"],[0.1,\"rgb(215,48,39)\"],[0.2,\"rgb(244,109,67)\"],[0.3,\"rgb(253,174,97)\"],[0.4,\"rgb(254,224,139)\"],[0.5,\"rgb(255,255,191)\"],[0.6,\"rgb(217,239,139)\"],[0.7,\"rgb(166,217,106)\"],[0.8,\"rgb(102,189,99)\"],[0.9,\"rgb(26,152,80)\"],[1.0,\"rgb(0,104,55)\"]],\"cmin\":-10,\"cmax\":10},\"margin\":{\"t\":60},\"width\":1000,\"height\":600},                        {\"responsive\": true}                    ).then(function(){\n",
       "                            \n",
       "var gd = document.getElementById('6fb4890e-ea5e-463d-b86c-804425bb2763');\n",
       "var x = new MutationObserver(function (mutations, observer) {{\n",
       "        var display = window.getComputedStyle(gd).display;\n",
       "        if (!display || display === 'none') {{\n",
       "            console.log([gd, 'removed!']);\n",
       "            Plotly.purge(gd);\n",
       "            observer.disconnect();\n",
       "        }}\n",
       "}});\n",
       "\n",
       "// Listen for the removal of the full notebook cells\n",
       "var notebookContainer = gd.closest('#notebook-container');\n",
       "if (notebookContainer) {{\n",
       "    x.observe(notebookContainer, {childList: true});\n",
       "}}\n",
       "\n",
       "// Listen for the clearing of the current output cell\n",
       "var outputEl = gd.closest('.output');\n",
       "if (outputEl) {{\n",
       "    x.observe(outputEl, {childList: true});\n",
       "}}\n",
       "\n",
       "                        })                };                });            </script>        </div>"
      ]
     },
     "metadata": {},
     "output_type": "display_data"
    }
   ],
   "source": [
    "from lmdoctor.plot_utils import plot_projection_heatmap\n",
    "tokens = tokenizer.tokenize(text)\n",
    "plot_projection_heatmap(all_projs, tokens, lastn_tokens_to_plot=max_new_tokens, saturate_at=10)"
   ]
  },
  {
   "cell_type": "code",
   "execution_count": 20,
   "id": "379fe7a4-3698-4594-a3d3-b8d74491c58b",
   "metadata": {},
   "outputs": [
    {
     "name": "stderr",
     "output_type": "stream",
     "text": [
      "WARNING - It is generally recommended to use detect_by_classifier instead of detect_by_layer_avg. To do so, use self.tune() to train a classifier and then pass the classifier to detect.\n"
     ]
    },
    {
     "data": {
      "application/vnd.plotly.v1+json": {
       "config": {
        "plotlyServerURL": "https://plot.ly"
       },
       "data": [
        {
         "coloraxis": "coloraxis",
         "hovertemplate": "Token: %{x}<br>y: %{y}<br>color: %{z}<extra></extra>",
         "name": "0",
         "type": "heatmap",
         "xaxis": "x",
         "yaxis": "y",
         "z": [
          [
           0.662109375,
           1.2451171875,
           0.50634765625,
           0.70849609375,
           0.68115234375,
           0.94873046875,
           0.7646484375,
           0.7705078125,
           1.1982421875,
           -0.395751953125,
           -6.60546875,
           -0.57080078125,
           -0.370849609375,
           -0.30517578125,
           -0.994140625,
           -1.525390625,
           -1.0859375,
           0.08966064453125,
           0.72412109375,
           0.04058837890625,
           0.2880859375,
           -0.88037109375,
           0.050506591796875,
           -0.666015625,
           -0.1578369140625,
           0.01169586181640625,
           0.96337890625,
           0.859375,
           0.0305328369140625,
           0.2666015625,
           0.252197265625,
           0.149658203125,
           0.55126953125,
           0.90185546875,
           0.984375,
           1.439453125,
           1.234375,
           1.2119140625,
           0.99072265625
          ]
         ]
        }
       ],
       "layout": {
        "autosize": true,
        "coloraxis": {
         "cmax": 6.60546875,
         "cmin": -6.60546875,
         "colorscale": [
          [
           0,
           "rgb(165,0,38)"
          ],
          [
           0.1,
           "rgb(215,48,39)"
          ],
          [
           0.2,
           "rgb(244,109,67)"
          ],
          [
           0.3,
           "rgb(253,174,97)"
          ],
          [
           0.4,
           "rgb(254,224,139)"
          ],
          [
           0.5,
           "rgb(255,255,191)"
          ],
          [
           0.6,
           "rgb(217,239,139)"
          ],
          [
           0.7,
           "rgb(166,217,106)"
          ],
          [
           0.8,
           "rgb(102,189,99)"
          ],
          [
           0.9,
           "rgb(26,152,80)"
          ],
          [
           1,
           "rgb(0,104,55)"
          ]
         ]
        },
        "margin": {
         "t": 60
        },
        "template": {
         "data": {
          "bar": [
           {
            "error_x": {
             "color": "#2a3f5f"
            },
            "error_y": {
             "color": "#2a3f5f"
            },
            "marker": {
             "line": {
              "color": "#E5ECF6",
              "width": 0.5
             },
             "pattern": {
              "fillmode": "overlay",
              "size": 10,
              "solidity": 0.2
             }
            },
            "type": "bar"
           }
          ],
          "barpolar": [
           {
            "marker": {
             "line": {
              "color": "#E5ECF6",
              "width": 0.5
             },
             "pattern": {
              "fillmode": "overlay",
              "size": 10,
              "solidity": 0.2
             }
            },
            "type": "barpolar"
           }
          ],
          "carpet": [
           {
            "aaxis": {
             "endlinecolor": "#2a3f5f",
             "gridcolor": "white",
             "linecolor": "white",
             "minorgridcolor": "white",
             "startlinecolor": "#2a3f5f"
            },
            "baxis": {
             "endlinecolor": "#2a3f5f",
             "gridcolor": "white",
             "linecolor": "white",
             "minorgridcolor": "white",
             "startlinecolor": "#2a3f5f"
            },
            "type": "carpet"
           }
          ],
          "choropleth": [
           {
            "colorbar": {
             "outlinewidth": 0,
             "ticks": ""
            },
            "type": "choropleth"
           }
          ],
          "contour": [
           {
            "colorbar": {
             "outlinewidth": 0,
             "ticks": ""
            },
            "colorscale": [
             [
              0,
              "#0d0887"
             ],
             [
              0.1111111111111111,
              "#46039f"
             ],
             [
              0.2222222222222222,
              "#7201a8"
             ],
             [
              0.3333333333333333,
              "#9c179e"
             ],
             [
              0.4444444444444444,
              "#bd3786"
             ],
             [
              0.5555555555555556,
              "#d8576b"
             ],
             [
              0.6666666666666666,
              "#ed7953"
             ],
             [
              0.7777777777777778,
              "#fb9f3a"
             ],
             [
              0.8888888888888888,
              "#fdca26"
             ],
             [
              1,
              "#f0f921"
             ]
            ],
            "type": "contour"
           }
          ],
          "contourcarpet": [
           {
            "colorbar": {
             "outlinewidth": 0,
             "ticks": ""
            },
            "type": "contourcarpet"
           }
          ],
          "heatmap": [
           {
            "colorbar": {
             "outlinewidth": 0,
             "ticks": ""
            },
            "colorscale": [
             [
              0,
              "#0d0887"
             ],
             [
              0.1111111111111111,
              "#46039f"
             ],
             [
              0.2222222222222222,
              "#7201a8"
             ],
             [
              0.3333333333333333,
              "#9c179e"
             ],
             [
              0.4444444444444444,
              "#bd3786"
             ],
             [
              0.5555555555555556,
              "#d8576b"
             ],
             [
              0.6666666666666666,
              "#ed7953"
             ],
             [
              0.7777777777777778,
              "#fb9f3a"
             ],
             [
              0.8888888888888888,
              "#fdca26"
             ],
             [
              1,
              "#f0f921"
             ]
            ],
            "type": "heatmap"
           }
          ],
          "heatmapgl": [
           {
            "colorbar": {
             "outlinewidth": 0,
             "ticks": ""
            },
            "colorscale": [
             [
              0,
              "#0d0887"
             ],
             [
              0.1111111111111111,
              "#46039f"
             ],
             [
              0.2222222222222222,
              "#7201a8"
             ],
             [
              0.3333333333333333,
              "#9c179e"
             ],
             [
              0.4444444444444444,
              "#bd3786"
             ],
             [
              0.5555555555555556,
              "#d8576b"
             ],
             [
              0.6666666666666666,
              "#ed7953"
             ],
             [
              0.7777777777777778,
              "#fb9f3a"
             ],
             [
              0.8888888888888888,
              "#fdca26"
             ],
             [
              1,
              "#f0f921"
             ]
            ],
            "type": "heatmapgl"
           }
          ],
          "histogram": [
           {
            "marker": {
             "pattern": {
              "fillmode": "overlay",
              "size": 10,
              "solidity": 0.2
             }
            },
            "type": "histogram"
           }
          ],
          "histogram2d": [
           {
            "colorbar": {
             "outlinewidth": 0,
             "ticks": ""
            },
            "colorscale": [
             [
              0,
              "#0d0887"
             ],
             [
              0.1111111111111111,
              "#46039f"
             ],
             [
              0.2222222222222222,
              "#7201a8"
             ],
             [
              0.3333333333333333,
              "#9c179e"
             ],
             [
              0.4444444444444444,
              "#bd3786"
             ],
             [
              0.5555555555555556,
              "#d8576b"
             ],
             [
              0.6666666666666666,
              "#ed7953"
             ],
             [
              0.7777777777777778,
              "#fb9f3a"
             ],
             [
              0.8888888888888888,
              "#fdca26"
             ],
             [
              1,
              "#f0f921"
             ]
            ],
            "type": "histogram2d"
           }
          ],
          "histogram2dcontour": [
           {
            "colorbar": {
             "outlinewidth": 0,
             "ticks": ""
            },
            "colorscale": [
             [
              0,
              "#0d0887"
             ],
             [
              0.1111111111111111,
              "#46039f"
             ],
             [
              0.2222222222222222,
              "#7201a8"
             ],
             [
              0.3333333333333333,
              "#9c179e"
             ],
             [
              0.4444444444444444,
              "#bd3786"
             ],
             [
              0.5555555555555556,
              "#d8576b"
             ],
             [
              0.6666666666666666,
              "#ed7953"
             ],
             [
              0.7777777777777778,
              "#fb9f3a"
             ],
             [
              0.8888888888888888,
              "#fdca26"
             ],
             [
              1,
              "#f0f921"
             ]
            ],
            "type": "histogram2dcontour"
           }
          ],
          "mesh3d": [
           {
            "colorbar": {
             "outlinewidth": 0,
             "ticks": ""
            },
            "type": "mesh3d"
           }
          ],
          "parcoords": [
           {
            "line": {
             "colorbar": {
              "outlinewidth": 0,
              "ticks": ""
             }
            },
            "type": "parcoords"
           }
          ],
          "pie": [
           {
            "automargin": true,
            "type": "pie"
           }
          ],
          "scatter": [
           {
            "fillpattern": {
             "fillmode": "overlay",
             "size": 10,
             "solidity": 0.2
            },
            "type": "scatter"
           }
          ],
          "scatter3d": [
           {
            "line": {
             "colorbar": {
              "outlinewidth": 0,
              "ticks": ""
             }
            },
            "marker": {
             "colorbar": {
              "outlinewidth": 0,
              "ticks": ""
             }
            },
            "type": "scatter3d"
           }
          ],
          "scattercarpet": [
           {
            "marker": {
             "colorbar": {
              "outlinewidth": 0,
              "ticks": ""
             }
            },
            "type": "scattercarpet"
           }
          ],
          "scattergeo": [
           {
            "marker": {
             "colorbar": {
              "outlinewidth": 0,
              "ticks": ""
             }
            },
            "type": "scattergeo"
           }
          ],
          "scattergl": [
           {
            "marker": {
             "colorbar": {
              "outlinewidth": 0,
              "ticks": ""
             }
            },
            "type": "scattergl"
           }
          ],
          "scattermapbox": [
           {
            "marker": {
             "colorbar": {
              "outlinewidth": 0,
              "ticks": ""
             }
            },
            "type": "scattermapbox"
           }
          ],
          "scatterpolar": [
           {
            "marker": {
             "colorbar": {
              "outlinewidth": 0,
              "ticks": ""
             }
            },
            "type": "scatterpolar"
           }
          ],
          "scatterpolargl": [
           {
            "marker": {
             "colorbar": {
              "outlinewidth": 0,
              "ticks": ""
             }
            },
            "type": "scatterpolargl"
           }
          ],
          "scatterternary": [
           {
            "marker": {
             "colorbar": {
              "outlinewidth": 0,
              "ticks": ""
             }
            },
            "type": "scatterternary"
           }
          ],
          "surface": [
           {
            "colorbar": {
             "outlinewidth": 0,
             "ticks": ""
            },
            "colorscale": [
             [
              0,
              "#0d0887"
             ],
             [
              0.1111111111111111,
              "#46039f"
             ],
             [
              0.2222222222222222,
              "#7201a8"
             ],
             [
              0.3333333333333333,
              "#9c179e"
             ],
             [
              0.4444444444444444,
              "#bd3786"
             ],
             [
              0.5555555555555556,
              "#d8576b"
             ],
             [
              0.6666666666666666,
              "#ed7953"
             ],
             [
              0.7777777777777778,
              "#fb9f3a"
             ],
             [
              0.8888888888888888,
              "#fdca26"
             ],
             [
              1,
              "#f0f921"
             ]
            ],
            "type": "surface"
           }
          ],
          "table": [
           {
            "cells": {
             "fill": {
              "color": "#EBF0F8"
             },
             "line": {
              "color": "white"
             }
            },
            "header": {
             "fill": {
              "color": "#C8D4E3"
             },
             "line": {
              "color": "white"
             }
            },
            "type": "table"
           }
          ]
         },
         "layout": {
          "annotationdefaults": {
           "arrowcolor": "#2a3f5f",
           "arrowhead": 0,
           "arrowwidth": 1
          },
          "autotypenumbers": "strict",
          "coloraxis": {
           "colorbar": {
            "outlinewidth": 0,
            "ticks": ""
           }
          },
          "colorscale": {
           "diverging": [
            [
             0,
             "#8e0152"
            ],
            [
             0.1,
             "#c51b7d"
            ],
            [
             0.2,
             "#de77ae"
            ],
            [
             0.3,
             "#f1b6da"
            ],
            [
             0.4,
             "#fde0ef"
            ],
            [
             0.5,
             "#f7f7f7"
            ],
            [
             0.6,
             "#e6f5d0"
            ],
            [
             0.7,
             "#b8e186"
            ],
            [
             0.8,
             "#7fbc41"
            ],
            [
             0.9,
             "#4d9221"
            ],
            [
             1,
             "#276419"
            ]
           ],
           "sequential": [
            [
             0,
             "#0d0887"
            ],
            [
             0.1111111111111111,
             "#46039f"
            ],
            [
             0.2222222222222222,
             "#7201a8"
            ],
            [
             0.3333333333333333,
             "#9c179e"
            ],
            [
             0.4444444444444444,
             "#bd3786"
            ],
            [
             0.5555555555555556,
             "#d8576b"
            ],
            [
             0.6666666666666666,
             "#ed7953"
            ],
            [
             0.7777777777777778,
             "#fb9f3a"
            ],
            [
             0.8888888888888888,
             "#fdca26"
            ],
            [
             1,
             "#f0f921"
            ]
           ],
           "sequentialminus": [
            [
             0,
             "#0d0887"
            ],
            [
             0.1111111111111111,
             "#46039f"
            ],
            [
             0.2222222222222222,
             "#7201a8"
            ],
            [
             0.3333333333333333,
             "#9c179e"
            ],
            [
             0.4444444444444444,
             "#bd3786"
            ],
            [
             0.5555555555555556,
             "#d8576b"
            ],
            [
             0.6666666666666666,
             "#ed7953"
            ],
            [
             0.7777777777777778,
             "#fb9f3a"
            ],
            [
             0.8888888888888888,
             "#fdca26"
            ],
            [
             1,
             "#f0f921"
            ]
           ]
          },
          "colorway": [
           "#636efa",
           "#EF553B",
           "#00cc96",
           "#ab63fa",
           "#FFA15A",
           "#19d3f3",
           "#FF6692",
           "#B6E880",
           "#FF97FF",
           "#FECB52"
          ],
          "font": {
           "color": "#2a3f5f"
          },
          "geo": {
           "bgcolor": "white",
           "lakecolor": "white",
           "landcolor": "#E5ECF6",
           "showlakes": true,
           "showland": true,
           "subunitcolor": "white"
          },
          "hoverlabel": {
           "align": "left"
          },
          "hovermode": "closest",
          "mapbox": {
           "style": "light"
          },
          "paper_bgcolor": "white",
          "plot_bgcolor": "#E5ECF6",
          "polar": {
           "angularaxis": {
            "gridcolor": "white",
            "linecolor": "white",
            "ticks": ""
           },
           "bgcolor": "#E5ECF6",
           "radialaxis": {
            "gridcolor": "white",
            "linecolor": "white",
            "ticks": ""
           }
          },
          "scene": {
           "xaxis": {
            "backgroundcolor": "#E5ECF6",
            "gridcolor": "white",
            "gridwidth": 2,
            "linecolor": "white",
            "showbackground": true,
            "ticks": "",
            "zerolinecolor": "white"
           },
           "yaxis": {
            "backgroundcolor": "#E5ECF6",
            "gridcolor": "white",
            "gridwidth": 2,
            "linecolor": "white",
            "showbackground": true,
            "ticks": "",
            "zerolinecolor": "white"
           },
           "zaxis": {
            "backgroundcolor": "#E5ECF6",
            "gridcolor": "white",
            "gridwidth": 2,
            "linecolor": "white",
            "showbackground": true,
            "ticks": "",
            "zerolinecolor": "white"
           }
          },
          "shapedefaults": {
           "line": {
            "color": "#2a3f5f"
           }
          },
          "ternary": {
           "aaxis": {
            "gridcolor": "white",
            "linecolor": "white",
            "ticks": ""
           },
           "baxis": {
            "gridcolor": "white",
            "linecolor": "white",
            "ticks": ""
           },
           "bgcolor": "#E5ECF6",
           "caxis": {
            "gridcolor": "white",
            "linecolor": "white",
            "ticks": ""
           }
          },
          "title": {
           "x": 0.05
          },
          "xaxis": {
           "automargin": true,
           "gridcolor": "white",
           "linecolor": "white",
           "ticks": "",
           "title": {
            "standoff": 15
           },
           "zerolinecolor": "white",
           "zerolinewidth": 2
          },
          "yaxis": {
           "automargin": true,
           "gridcolor": "white",
           "linecolor": "white",
           "ticks": "",
           "title": {
            "standoff": 15
           },
           "zerolinecolor": "white",
           "zerolinewidth": 2
          }
         }
        },
        "xaxis": {
         "anchor": "y",
         "autorange": true,
         "constrain": "domain",
         "domain": [
          0,
          1
         ],
         "range": [
          -0.5,
          38.5
         ],
         "scaleanchor": "y",
         "tickangle": -45,
         "tickfont": {
          "size": 20
         },
         "ticktext": [
          "▁",
          "▁Sure",
          "!",
          "▁Here",
          "'",
          "s",
          "▁a",
          "▁world",
          "▁fact",
          ":",
          "<0x0A>",
          "<0x0A>",
          "Did",
          "▁you",
          "▁know",
          "▁that",
          "▁the",
          "▁Great",
          "▁Bar",
          "rier",
          "▁Re",
          "ef",
          "▁in",
          "▁Australia",
          "▁is",
          "▁the",
          "▁largest",
          "▁living",
          "▁structure",
          "▁on",
          "▁Earth",
          ",",
          "▁sp",
          "anning",
          "▁over",
          "▁",
          "2",
          ",",
          "3",
          "0"
         ],
         "tickvals": [
          0,
          1,
          2,
          3,
          4,
          5,
          6,
          7,
          8,
          9,
          10,
          11,
          12,
          13,
          14,
          15,
          16,
          17,
          18,
          19,
          20,
          21,
          22,
          23,
          24,
          25,
          26,
          27,
          28,
          29,
          30,
          31,
          32,
          33,
          34,
          35,
          36,
          37,
          38,
          39
         ],
         "title": {
          "text": "Token"
         }
        },
        "yaxis": {
         "anchor": "x",
         "autorange": true,
         "constrain": "domain",
         "domain": [
          0.4544871794871795,
          0.5455128205128206
         ],
         "range": [
          0.5,
          -0.5
         ]
        }
       }
      },
      "image/png": "[encoded data removed]",
      "text/html": [
       "<div>                            <div id=\"a35fa9c3-2b8b-42a4-8ea1-913bdcac0767\" class=\"plotly-graph-div\" style=\"height:525px; width:100%;\"></div>            <script type=\"text/javascript\">                require([\"plotly\"], function(Plotly) {                    window.PLOTLYENV=window.PLOTLYENV || {};                                    if (document.getElementById(\"a35fa9c3-2b8b-42a4-8ea1-913bdcac0767\")) {                    Plotly.newPlot(                        \"a35fa9c3-2b8b-42a4-8ea1-913bdcac0767\",                        [{\"coloraxis\":\"coloraxis\",\"name\":\"0\",\"z\":[[0.662109375,1.2451171875,0.50634765625,0.70849609375,0.68115234375,0.94873046875,0.7646484375,0.7705078125,1.1982421875,-0.395751953125,-6.60546875,-0.57080078125,-0.370849609375,-0.30517578125,-0.994140625,-1.525390625,-1.0859375,0.08966064453125,0.72412109375,0.04058837890625,0.2880859375,-0.88037109375,0.050506591796875,-0.666015625,-0.1578369140625,0.01169586181640625,0.96337890625,0.859375,0.0305328369140625,0.2666015625,0.252197265625,0.149658203125,0.55126953125,0.90185546875,0.984375,1.439453125,1.234375,1.2119140625,0.99072265625]],\"type\":\"heatmap\",\"xaxis\":\"x\",\"yaxis\":\"y\",\"hovertemplate\":\"Token: %{x}\\u003cbr\\u003ey: %{y}\\u003cbr\\u003ecolor: %{z}\\u003cextra\\u003e\\u003c\\u002fextra\\u003e\"}],                        {\"template\":{\"data\":{\"histogram2dcontour\":[{\"type\":\"histogram2dcontour\",\"colorbar\":{\"outlinewidth\":0,\"ticks\":\"\"},\"colorscale\":[[0.0,\"#0d0887\"],[0.1111111111111111,\"#46039f\"],[0.2222222222222222,\"#7201a8\"],[0.3333333333333333,\"#9c179e\"],[0.4444444444444444,\"#bd3786\"],[0.5555555555555556,\"#d8576b\"],[0.6666666666666666,\"#ed7953\"],[0.7777777777777778,\"#fb9f3a\"],[0.8888888888888888,\"#fdca26\"],[1.0,\"#f0f921\"]]}],\"choropleth\":[{\"type\":\"choropleth\",\"colorbar\":{\"outlinewidth\":0,\"ticks\":\"\"}}],\"histogram2d\":[{\"type\":\"histogram2d\",\"colorbar\":{\"outlinewidth\":0,\"ticks\":\"\"},\"colorscale\":[[0.0,\"#0d0887\"],[0.1111111111111111,\"#46039f\"],[0.2222222222222222,\"#7201a8\"],[0.3333333333333333,\"#9c179e\"],[0.4444444444444444,\"#bd3786\"],[0.5555555555555556,\"#d8576b\"],[0.6666666666666666,\"#ed7953\"],[0.7777777777777778,\"#fb9f3a\"],[0.8888888888888888,\"#fdca26\"],[1.0,\"#f0f921\"]]}],\"heatmap\":[{\"type\":\"heatmap\",\"colorbar\":{\"outlinewidth\":0,\"ticks\":\"\"},\"colorscale\":[[0.0,\"#0d0887\"],[0.1111111111111111,\"#46039f\"],[0.2222222222222222,\"#7201a8\"],[0.3333333333333333,\"#9c179e\"],[0.4444444444444444,\"#bd3786\"],[0.5555555555555556,\"#d8576b\"],[0.6666666666666666,\"#ed7953\"],[0.7777777777777778,\"#fb9f3a\"],[0.8888888888888888,\"#fdca26\"],[1.0,\"#f0f921\"]]}],\"heatmapgl\":[{\"type\":\"heatmapgl\",\"colorbar\":{\"outlinewidth\":0,\"ticks\":\"\"},\"colorscale\":[[0.0,\"#0d0887\"],[0.1111111111111111,\"#46039f\"],[0.2222222222222222,\"#7201a8\"],[0.3333333333333333,\"#9c179e\"],[0.4444444444444444,\"#bd3786\"],[0.5555555555555556,\"#d8576b\"],[0.6666666666666666,\"#ed7953\"],[0.7777777777777778,\"#fb9f3a\"],[0.8888888888888888,\"#fdca26\"],[1.0,\"#f0f921\"]]}],\"contourcarpet\":[{\"type\":\"contourcarpet\",\"colorbar\":{\"outlinewidth\":0,\"ticks\":\"\"}}],\"contour\":[{\"type\":\"contour\",\"colorbar\":{\"outlinewidth\":0,\"ticks\":\"\"},\"colorscale\":[[0.0,\"#0d0887\"],[0.1111111111111111,\"#46039f\"],[0.2222222222222222,\"#7201a8\"],[0.3333333333333333,\"#9c179e\"],[0.4444444444444444,\"#bd3786\"],[0.5555555555555556,\"#d8576b\"],[0.6666666666666666,\"#ed7953\"],[0.7777777777777778,\"#fb9f3a\"],[0.8888888888888888,\"#fdca26\"],[1.0,\"#f0f921\"]]}],\"surface\":[{\"type\":\"surface\",\"colorbar\":{\"outlinewidth\":0,\"ticks\":\"\"},\"colorscale\":[[0.0,\"#0d0887\"],[0.1111111111111111,\"#46039f\"],[0.2222222222222222,\"#7201a8\"],[0.3333333333333333,\"#9c179e\"],[0.4444444444444444,\"#bd3786\"],[0.5555555555555556,\"#d8576b\"],[0.6666666666666666,\"#ed7953\"],[0.7777777777777778,\"#fb9f3a\"],[0.8888888888888888,\"#fdca26\"],[1.0,\"#f0f921\"]]}],\"mesh3d\":[{\"type\":\"mesh3d\",\"colorbar\":{\"outlinewidth\":0,\"ticks\":\"\"}}],\"scatter\":[{\"fillpattern\":{\"fillmode\":\"overlay\",\"size\":10,\"solidity\":0.2},\"type\":\"scatter\"}],\"parcoords\":[{\"type\":\"parcoords\",\"line\":{\"colorbar\":{\"outlinewidth\":0,\"ticks\":\"\"}}}],\"scatterpolargl\":[{\"type\":\"scatterpolargl\",\"marker\":{\"colorbar\":{\"outlinewidth\":0,\"ticks\":\"\"}}}],\"bar\":[{\"error_x\":{\"color\":\"#2a3f5f\"},\"error_y\":{\"color\":\"#2a3f5f\"},\"marker\":{\"line\":{\"color\":\"#E5ECF6\",\"width\":0.5},\"pattern\":{\"fillmode\":\"overlay\",\"size\":10,\"solidity\":0.2}},\"type\":\"bar\"}],\"scattergeo\":[{\"type\":\"scattergeo\",\"marker\":{\"colorbar\":{\"outlinewidth\":0,\"ticks\":\"\"}}}],\"scatterpolar\":[{\"type\":\"scatterpolar\",\"marker\":{\"colorbar\":{\"outlinewidth\":0,\"ticks\":\"\"}}}],\"histogram\":[{\"marker\":{\"pattern\":{\"fillmode\":\"overlay\",\"size\":10,\"solidity\":0.2}},\"type\":\"histogram\"}],\"scattergl\":[{\"type\":\"scattergl\",\"marker\":{\"colorbar\":{\"outlinewidth\":0,\"ticks\":\"\"}}}],\"scatter3d\":[{\"type\":\"scatter3d\",\"line\":{\"colorbar\":{\"outlinewidth\":0,\"ticks\":\"\"}},\"marker\":{\"colorbar\":{\"outlinewidth\":0,\"ticks\":\"\"}}}],\"scattermapbox\":[{\"type\":\"scattermapbox\",\"marker\":{\"colorbar\":{\"outlinewidth\":0,\"ticks\":\"\"}}}],\"scatterternary\":[{\"type\":\"scatterternary\",\"marker\":{\"colorbar\":{\"outlinewidth\":0,\"ticks\":\"\"}}}],\"scattercarpet\":[{\"type\":\"scattercarpet\",\"marker\":{\"colorbar\":{\"outlinewidth\":0,\"ticks\":\"\"}}}],\"carpet\":[{\"aaxis\":{\"endlinecolor\":\"#2a3f5f\",\"gridcolor\":\"white\",\"linecolor\":\"white\",\"minorgridcolor\":\"white\",\"startlinecolor\":\"#2a3f5f\"},\"baxis\":{\"endlinecolor\":\"#2a3f5f\",\"gridcolor\":\"white\",\"linecolor\":\"white\",\"minorgridcolor\":\"white\",\"startlinecolor\":\"#2a3f5f\"},\"type\":\"carpet\"}],\"table\":[{\"cells\":{\"fill\":{\"color\":\"#EBF0F8\"},\"line\":{\"color\":\"white\"}},\"header\":{\"fill\":{\"color\":\"#C8D4E3\"},\"line\":{\"color\":\"white\"}},\"type\":\"table\"}],\"barpolar\":[{\"marker\":{\"line\":{\"color\":\"#E5ECF6\",\"width\":0.5},\"pattern\":{\"fillmode\":\"overlay\",\"size\":10,\"solidity\":0.2}},\"type\":\"barpolar\"}],\"pie\":[{\"automargin\":true,\"type\":\"pie\"}]},\"layout\":{\"autotypenumbers\":\"strict\",\"colorway\":[\"#636efa\",\"#EF553B\",\"#00cc96\",\"#ab63fa\",\"#FFA15A\",\"#19d3f3\",\"#FF6692\",\"#B6E880\",\"#FF97FF\",\"#FECB52\"],\"font\":{\"color\":\"#2a3f5f\"},\"hovermode\":\"closest\",\"hoverlabel\":{\"align\":\"left\"},\"paper_bgcolor\":\"white\",\"plot_bgcolor\":\"#E5ECF6\",\"polar\":{\"bgcolor\":\"#E5ECF6\",\"angularaxis\":{\"gridcolor\":\"white\",\"linecolor\":\"white\",\"ticks\":\"\"},\"radialaxis\":{\"gridcolor\":\"white\",\"linecolor\":\"white\",\"ticks\":\"\"}},\"ternary\":{\"bgcolor\":\"#E5ECF6\",\"aaxis\":{\"gridcolor\":\"white\",\"linecolor\":\"white\",\"ticks\":\"\"},\"baxis\":{\"gridcolor\":\"white\",\"linecolor\":\"white\",\"ticks\":\"\"},\"caxis\":{\"gridcolor\":\"white\",\"linecolor\":\"white\",\"ticks\":\"\"}},\"coloraxis\":{\"colorbar\":{\"outlinewidth\":0,\"ticks\":\"\"}},\"colorscale\":{\"sequential\":[[0.0,\"#0d0887\"],[0.1111111111111111,\"#46039f\"],[0.2222222222222222,\"#7201a8\"],[0.3333333333333333,\"#9c179e\"],[0.4444444444444444,\"#bd3786\"],[0.5555555555555556,\"#d8576b\"],[0.6666666666666666,\"#ed7953\"],[0.7777777777777778,\"#fb9f3a\"],[0.8888888888888888,\"#fdca26\"],[1.0,\"#f0f921\"]],\"sequentialminus\":[[0.0,\"#0d0887\"],[0.1111111111111111,\"#46039f\"],[0.2222222222222222,\"#7201a8\"],[0.3333333333333333,\"#9c179e\"],[0.4444444444444444,\"#bd3786\"],[0.5555555555555556,\"#d8576b\"],[0.6666666666666666,\"#ed7953\"],[0.7777777777777778,\"#fb9f3a\"],[0.8888888888888888,\"#fdca26\"],[1.0,\"#f0f921\"]],\"diverging\":[[0,\"#8e0152\"],[0.1,\"#c51b7d\"],[0.2,\"#de77ae\"],[0.3,\"#f1b6da\"],[0.4,\"#fde0ef\"],[0.5,\"#f7f7f7\"],[0.6,\"#e6f5d0\"],[0.7,\"#b8e186\"],[0.8,\"#7fbc41\"],[0.9,\"#4d9221\"],[1,\"#276419\"]]},\"xaxis\":{\"gridcolor\":\"white\",\"linecolor\":\"white\",\"ticks\":\"\",\"title\":{\"standoff\":15},\"zerolinecolor\":\"white\",\"automargin\":true,\"zerolinewidth\":2},\"yaxis\":{\"gridcolor\":\"white\",\"linecolor\":\"white\",\"ticks\":\"\",\"title\":{\"standoff\":15},\"zerolinecolor\":\"white\",\"automargin\":true,\"zerolinewidth\":2},\"scene\":{\"xaxis\":{\"backgroundcolor\":\"#E5ECF6\",\"gridcolor\":\"white\",\"linecolor\":\"white\",\"showbackground\":true,\"ticks\":\"\",\"zerolinecolor\":\"white\",\"gridwidth\":2},\"yaxis\":{\"backgroundcolor\":\"#E5ECF6\",\"gridcolor\":\"white\",\"linecolor\":\"white\",\"showbackground\":true,\"ticks\":\"\",\"zerolinecolor\":\"white\",\"gridwidth\":2},\"zaxis\":{\"backgroundcolor\":\"#E5ECF6\",\"gridcolor\":\"white\",\"linecolor\":\"white\",\"showbackground\":true,\"ticks\":\"\",\"zerolinecolor\":\"white\",\"gridwidth\":2}},\"shapedefaults\":{\"line\":{\"color\":\"#2a3f5f\"}},\"annotationdefaults\":{\"arrowcolor\":\"#2a3f5f\",\"arrowhead\":0,\"arrowwidth\":1},\"geo\":{\"bgcolor\":\"white\",\"landcolor\":\"#E5ECF6\",\"subunitcolor\":\"white\",\"showland\":true,\"showlakes\":true,\"lakecolor\":\"white\"},\"title\":{\"x\":0.05},\"mapbox\":{\"style\":\"light\"}}},\"xaxis\":{\"anchor\":\"y\",\"domain\":[0.0,1.0],\"scaleanchor\":\"y\",\"constrain\":\"domain\",\"title\":{\"text\":\"Token\"},\"tickfont\":{\"size\":20},\"tickvals\":[0,1,2,3,4,5,6,7,8,9,10,11,12,13,14,15,16,17,18,19,20,21,22,23,24,25,26,27,28,29,30,31,32,33,34,35,36,37,38,39],\"ticktext\":[\"\\u2581\",\"\\u2581Sure\",\"!\",\"\\u2581Here\",\"'\",\"s\",\"\\u2581a\",\"\\u2581world\",\"\\u2581fact\",\":\",\"\\u003c0x0A\\u003e\",\"\\u003c0x0A\\u003e\",\"Did\",\"\\u2581you\",\"\\u2581know\",\"\\u2581that\",\"\\u2581the\",\"\\u2581Great\",\"\\u2581Bar\",\"rier\",\"\\u2581Re\",\"ef\",\"\\u2581in\",\"\\u2581Australia\",\"\\u2581is\",\"\\u2581the\",\"\\u2581largest\",\"\\u2581living\",\"\\u2581structure\",\"\\u2581on\",\"\\u2581Earth\",\",\",\"\\u2581sp\",\"anning\",\"\\u2581over\",\"\\u2581\",\"2\",\",\",\"3\",\"0\"],\"tickangle\":-45},\"yaxis\":{\"anchor\":\"x\",\"domain\":[0.0,1.0],\"autorange\":\"reversed\",\"constrain\":\"domain\"},\"coloraxis\":{\"colorscale\":[[0.0,\"rgb(165,0,38)\"],[0.1,\"rgb(215,48,39)\"],[0.2,\"rgb(244,109,67)\"],[0.3,\"rgb(253,174,97)\"],[0.4,\"rgb(254,224,139)\"],[0.5,\"rgb(255,255,191)\"],[0.6,\"rgb(217,239,139)\"],[0.7,\"rgb(166,217,106)\"],[0.8,\"rgb(102,189,99)\"],[0.9,\"rgb(26,152,80)\"],[1.0,\"rgb(0,104,55)\"]],\"cmin\":-6.60546875,\"cmax\":6.60546875},\"margin\":{\"t\":60}},                        {\"responsive\": true}                    ).then(function(){\n",
       "                            \n",
       "var gd = document.getElementById('a35fa9c3-2b8b-42a4-8ea1-913bdcac0767');\n",
       "var x = new MutationObserver(function (mutations, observer) {{\n",
       "        var display = window.getComputedStyle(gd).display;\n",
       "        if (!display || display === 'none') {{\n",
       "            console.log([gd, 'removed!']);\n",
       "            Plotly.purge(gd);\n",
       "            observer.disconnect();\n",
       "        }}\n",
       "}});\n",
       "\n",
       "// Listen for the removal of the full notebook cells\n",
       "var notebookContainer = gd.closest('#notebook-container');\n",
       "if (notebookContainer) {{\n",
       "    x.observe(notebookContainer, {childList: true});\n",
       "}}\n",
       "\n",
       "// Listen for the clearing of the current output cell\n",
       "var outputEl = gd.closest('.output');\n",
       "if (outputEl) {{\n",
       "    x.observe(outputEl, {childList: true});\n",
       "}}\n",
       "\n",
       "                        })                };                });            </script>        </div>"
      ]
     },
     "metadata": {},
     "output_type": "display_data"
    }
   ],
   "source": [
    "from lmdoctor.plot_utils import plot_scores_per_token\n",
    "scores_per_token = ld.detect(use_n_middle_layers=15)\n",
    "plot_scores_per_token(scores_per_token, tokens, lastn_tokens_to_plot=max_new_tokens)"
   ]
  },
  {
   "cell_type": "code",
   "execution_count": 15,
   "id": "c418ee35-7264-4320-a24e-4203d4c6641d",
   "metadata": {},
   "outputs": [
    {
     "name": "stderr",
     "output_type": "stream",
     "text": [
      "INFO - Classifier acc on dev set: 1.0\n",
      "INFO - Classifier acc on test set: 0.9375\n"
     ]
    }
   ],
   "source": [
    "# tune (one-time)\n",
    "# it trains a classifier that learns how to weigh the projections across layers\n",
    "clf = ld.tune(extractor.statement_pairs['dev'], extractor.direction_info, test_statement_pairs=extractor.statement_pairs['test'])"
   ]
  },
  {
   "cell_type": "code",
   "execution_count": 21,
   "id": "f0a61964-757e-4749-8641-ccc8b7ffcf8a",
   "metadata": {},
   "outputs": [
    {
     "data": {
      "application/vnd.plotly.v1+json": {
       "config": {
        "plotlyServerURL": "https://plot.ly"
       },
       "data": [
        {
         "coloraxis": "coloraxis",
         "hovertemplate": "Token: %{x}<br>y: %{y}<br>color: %{z}<extra></extra>",
         "name": "0",
         "type": "heatmap",
         "xaxis": "x",
         "yaxis": "y",
         "z": [
          [
           0.43709769029543494,
           0.5811549797934377,
           0.10244516426462107,
           0.02042308782495743,
           0.9992106115276271,
           0.08333027977382135,
           0.8462456590893803,
           0.9916092083863923,
           0.3285110574588539,
           0.0009748112225157405,
           1,
           0.027916495454205017,
           0.005122705035292149,
           0.024713590184199392,
           0.012860856685176782,
           0.00041288084198350925,
           0.0014263272435442026,
           0.10519384478440914,
           0.23626571080513142,
           0.0859917370028647,
           0.16305828001727343,
           0.0011540627171665152,
           0.8160446089971357,
           0.00041564475178717657,
           0.0025671745935720498,
           0.03067056480476672,
           0.06321432525457832,
           0.09681847775633805,
           0.00829078973429813,
           0.49108269389689924,
           0.020072167784017176,
           0.0029093417002397925,
           0.26623713309720864,
           0.09667111276050736,
           0.5650541125572732,
           0.882568041324591,
           0.772429607797377,
           0.6840614545533442,
           0.47468392537056364
          ]
         ]
        }
       ],
       "layout": {
        "autosize": true,
        "coloraxis": {
         "cmax": 1,
         "cmin": 0,
         "colorscale": [
          [
           0,
           "rgb(165,0,38)"
          ],
          [
           0.1,
           "rgb(215,48,39)"
          ],
          [
           0.2,
           "rgb(244,109,67)"
          ],
          [
           0.3,
           "rgb(253,174,97)"
          ],
          [
           0.4,
           "rgb(254,224,139)"
          ],
          [
           0.5,
           "rgb(255,255,191)"
          ],
          [
           0.6,
           "rgb(217,239,139)"
          ],
          [
           0.7,
           "rgb(166,217,106)"
          ],
          [
           0.8,
           "rgb(102,189,99)"
          ],
          [
           0.9,
           "rgb(26,152,80)"
          ],
          [
           1,
           "rgb(0,104,55)"
          ]
         ]
        },
        "margin": {
         "t": 60
        },
        "template": {
         "data": {
          "bar": [
           {
            "error_x": {
             "color": "#2a3f5f"
            },
            "error_y": {
             "color": "#2a3f5f"
            },
            "marker": {
             "line": {
              "color": "#E5ECF6",
              "width": 0.5
             },
             "pattern": {
              "fillmode": "overlay",
              "size": 10,
              "solidity": 0.2
             }
            },
            "type": "bar"
           }
          ],
          "barpolar": [
           {
            "marker": {
             "line": {
              "color": "#E5ECF6",
              "width": 0.5
             },
             "pattern": {
              "fillmode": "overlay",
              "size": 10,
              "solidity": 0.2
             }
            },
            "type": "barpolar"
           }
          ],
          "carpet": [
           {
            "aaxis": {
             "endlinecolor": "#2a3f5f",
             "gridcolor": "white",
             "linecolor": "white",
             "minorgridcolor": "white",
             "startlinecolor": "#2a3f5f"
            },
            "baxis": {
             "endlinecolor": "#2a3f5f",
             "gridcolor": "white",
             "linecolor": "white",
             "minorgridcolor": "white",
             "startlinecolor": "#2a3f5f"
            },
            "type": "carpet"
           }
          ],
          "choropleth": [
           {
            "colorbar": {
             "outlinewidth": 0,
             "ticks": ""
            },
            "type": "choropleth"
           }
          ],
          "contour": [
           {
            "colorbar": {
             "outlinewidth": 0,
             "ticks": ""
            },
            "colorscale": [
             [
              0,
              "#0d0887"
             ],
             [
              0.1111111111111111,
              "#46039f"
             ],
             [
              0.2222222222222222,
              "#7201a8"
             ],
             [
              0.3333333333333333,
              "#9c179e"
             ],
             [
              0.4444444444444444,
              "#bd3786"
             ],
             [
              0.5555555555555556,
              "#d8576b"
             ],
             [
              0.6666666666666666,
              "#ed7953"
             ],
             [
              0.7777777777777778,
              "#fb9f3a"
             ],
             [
              0.8888888888888888,
              "#fdca26"
             ],
             [
              1,
              "#f0f921"
             ]
            ],
            "type": "contour"
           }
          ],
          "contourcarpet": [
           {
            "colorbar": {
             "outlinewidth": 0,
             "ticks": ""
            },
            "type": "contourcarpet"
           }
          ],
          "heatmap": [
           {
            "colorbar": {
             "outlinewidth": 0,
             "ticks": ""
            },
            "colorscale": [
             [
              0,
              "#0d0887"
             ],
             [
              0.1111111111111111,
              "#46039f"
             ],
             [
              0.2222222222222222,
              "#7201a8"
             ],
             [
              0.3333333333333333,
              "#9c179e"
             ],
             [
              0.4444444444444444,
              "#bd3786"
             ],
             [
              0.5555555555555556,
              "#d8576b"
             ],
             [
              0.6666666666666666,
              "#ed7953"
             ],
             [
              0.7777777777777778,
              "#fb9f3a"
             ],
             [
              0.8888888888888888,
              "#fdca26"
             ],
             [
              1,
              "#f0f921"
             ]
            ],
            "type": "heatmap"
           }
          ],
          "heatmapgl": [
           {
            "colorbar": {
             "outlinewidth": 0,
             "ticks": ""
            },
            "colorscale": [
             [
              0,
              "#0d0887"
             ],
             [
              0.1111111111111111,
              "#46039f"
             ],
             [
              0.2222222222222222,
              "#7201a8"
             ],
             [
              0.3333333333333333,
              "#9c179e"
             ],
             [
              0.4444444444444444,
              "#bd3786"
             ],
             [
              0.5555555555555556,
              "#d8576b"
             ],
             [
              0.6666666666666666,
              "#ed7953"
             ],
             [
              0.7777777777777778,
              "#fb9f3a"
             ],
             [
              0.8888888888888888,
              "#fdca26"
             ],
             [
              1,
              "#f0f921"
             ]
            ],
            "type": "heatmapgl"
           }
          ],
          "histogram": [
           {
            "marker": {
             "pattern": {
              "fillmode": "overlay",
              "size": 10,
              "solidity": 0.2
             }
            },
            "type": "histogram"
           }
          ],
          "histogram2d": [
           {
            "colorbar": {
             "outlinewidth": 0,
             "ticks": ""
            },
            "colorscale": [
             [
              0,
              "#0d0887"
             ],
             [
              0.1111111111111111,
              "#46039f"
             ],
             [
              0.2222222222222222,
              "#7201a8"
             ],
             [
              0.3333333333333333,
              "#9c179e"
             ],
             [
              0.4444444444444444,
              "#bd3786"
             ],
             [
              0.5555555555555556,
              "#d8576b"
             ],
             [
              0.6666666666666666,
              "#ed7953"
             ],
             [
              0.7777777777777778,
              "#fb9f3a"
             ],
             [
              0.8888888888888888,
              "#fdca26"
             ],
             [
              1,
              "#f0f921"
             ]
            ],
            "type": "histogram2d"
           }
          ],
          "histogram2dcontour": [
           {
            "colorbar": {
             "outlinewidth": 0,
             "ticks": ""
            },
            "colorscale": [
             [
              0,
              "#0d0887"
             ],
             [
              0.1111111111111111,
              "#46039f"
             ],
             [
              0.2222222222222222,
              "#7201a8"
             ],
             [
              0.3333333333333333,
              "#9c179e"
             ],
             [
              0.4444444444444444,
              "#bd3786"
             ],
             [
              0.5555555555555556,
              "#d8576b"
             ],
             [
              0.6666666666666666,
              "#ed7953"
             ],
             [
              0.7777777777777778,
              "#fb9f3a"
             ],
             [
              0.8888888888888888,
              "#fdca26"
             ],
             [
              1,
              "#f0f921"
             ]
            ],
            "type": "histogram2dcontour"
           }
          ],
          "mesh3d": [
           {
            "colorbar": {
             "outlinewidth": 0,
             "ticks": ""
            },
            "type": "mesh3d"
           }
          ],
          "parcoords": [
           {
            "line": {
             "colorbar": {
              "outlinewidth": 0,
              "ticks": ""
             }
            },
            "type": "parcoords"
           }
          ],
          "pie": [
           {
            "automargin": true,
            "type": "pie"
           }
          ],
          "scatter": [
           {
            "fillpattern": {
             "fillmode": "overlay",
             "size": 10,
             "solidity": 0.2
            },
            "type": "scatter"
           }
          ],
          "scatter3d": [
           {
            "line": {
             "colorbar": {
              "outlinewidth": 0,
              "ticks": ""
             }
            },
            "marker": {
             "colorbar": {
              "outlinewidth": 0,
              "ticks": ""
             }
            },
            "type": "scatter3d"
           }
          ],
          "scattercarpet": [
           {
            "marker": {
             "colorbar": {
              "outlinewidth": 0,
              "ticks": ""
             }
            },
            "type": "scattercarpet"
           }
          ],
          "scattergeo": [
           {
            "marker": {
             "colorbar": {
              "outlinewidth": 0,
              "ticks": ""
             }
            },
            "type": "scattergeo"
           }
          ],
          "scattergl": [
           {
            "marker": {
             "colorbar": {
              "outlinewidth": 0,
              "ticks": ""
             }
            },
            "type": "scattergl"
           }
          ],
          "scattermapbox": [
           {
            "marker": {
             "colorbar": {
              "outlinewidth": 0,
              "ticks": ""
             }
            },
            "type": "scattermapbox"
           }
          ],
          "scatterpolar": [
           {
            "marker": {
             "colorbar": {
              "outlinewidth": 0,
              "ticks": ""
             }
            },
            "type": "scatterpolar"
           }
          ],
          "scatterpolargl": [
           {
            "marker": {
             "colorbar": {
              "outlinewidth": 0,
              "ticks": ""
             }
            },
            "type": "scatterpolargl"
           }
          ],
          "scatterternary": [
           {
            "marker": {
             "colorbar": {
              "outlinewidth": 0,
              "ticks": ""
             }
            },
            "type": "scatterternary"
           }
          ],
          "surface": [
           {
            "colorbar": {
             "outlinewidth": 0,
             "ticks": ""
            },
            "colorscale": [
             [
              0,
              "#0d0887"
             ],
             [
              0.1111111111111111,
              "#46039f"
             ],
             [
              0.2222222222222222,
              "#7201a8"
             ],
             [
              0.3333333333333333,
              "#9c179e"
             ],
             [
              0.4444444444444444,
              "#bd3786"
             ],
             [
              0.5555555555555556,
              "#d8576b"
             ],
             [
              0.6666666666666666,
              "#ed7953"
             ],
             [
              0.7777777777777778,
              "#fb9f3a"
             ],
             [
              0.8888888888888888,
              "#fdca26"
             ],
             [
              1,
              "#f0f921"
             ]
            ],
            "type": "surface"
           }
          ],
          "table": [
           {
            "cells": {
             "fill": {
              "color": "#EBF0F8"
             },
             "line": {
              "color": "white"
             }
            },
            "header": {
             "fill": {
              "color": "#C8D4E3"
             },
             "line": {
              "color": "white"
             }
            },
            "type": "table"
           }
          ]
         },
         "layout": {
          "annotationdefaults": {
           "arrowcolor": "#2a3f5f",
           "arrowhead": 0,
           "arrowwidth": 1
          },
          "autotypenumbers": "strict",
          "coloraxis": {
           "colorbar": {
            "outlinewidth": 0,
            "ticks": ""
           }
          },
          "colorscale": {
           "diverging": [
            [
             0,
             "#8e0152"
            ],
            [
             0.1,
             "#c51b7d"
            ],
            [
             0.2,
             "#de77ae"
            ],
            [
             0.3,
             "#f1b6da"
            ],
            [
             0.4,
             "#fde0ef"
            ],
            [
             0.5,
             "#f7f7f7"
            ],
            [
             0.6,
             "#e6f5d0"
            ],
            [
             0.7,
             "#b8e186"
            ],
            [
             0.8,
             "#7fbc41"
            ],
            [
             0.9,
             "#4d9221"
            ],
            [
             1,
             "#276419"
            ]
           ],
           "sequential": [
            [
             0,
             "#0d0887"
            ],
            [
             0.1111111111111111,
             "#46039f"
            ],
            [
             0.2222222222222222,
             "#7201a8"
            ],
            [
             0.3333333333333333,
             "#9c179e"
            ],
            [
             0.4444444444444444,
             "#bd3786"
            ],
            [
             0.5555555555555556,
             "#d8576b"
            ],
            [
             0.6666666666666666,
             "#ed7953"
            ],
            [
             0.7777777777777778,
             "#fb9f3a"
            ],
            [
             0.8888888888888888,
             "#fdca26"
            ],
            [
             1,
             "#f0f921"
            ]
           ],
           "sequentialminus": [
            [
             0,
             "#0d0887"
            ],
            [
             0.1111111111111111,
             "#46039f"
            ],
            [
             0.2222222222222222,
             "#7201a8"
            ],
            [
             0.3333333333333333,
             "#9c179e"
            ],
            [
             0.4444444444444444,
             "#bd3786"
            ],
            [
             0.5555555555555556,
             "#d8576b"
            ],
            [
             0.6666666666666666,
             "#ed7953"
            ],
            [
             0.7777777777777778,
             "#fb9f3a"
            ],
            [
             0.8888888888888888,
             "#fdca26"
            ],
            [
             1,
             "#f0f921"
            ]
           ]
          },
          "colorway": [
           "#636efa",
           "#EF553B",
           "#00cc96",
           "#ab63fa",
           "#FFA15A",
           "#19d3f3",
           "#FF6692",
           "#B6E880",
           "#FF97FF",
           "#FECB52"
          ],
          "font": {
           "color": "#2a3f5f"
          },
          "geo": {
           "bgcolor": "white",
           "lakecolor": "white",
           "landcolor": "#E5ECF6",
           "showlakes": true,
           "showland": true,
           "subunitcolor": "white"
          },
          "hoverlabel": {
           "align": "left"
          },
          "hovermode": "closest",
          "mapbox": {
           "style": "light"
          },
          "paper_bgcolor": "white",
          "plot_bgcolor": "#E5ECF6",
          "polar": {
           "angularaxis": {
            "gridcolor": "white",
            "linecolor": "white",
            "ticks": ""
           },
           "bgcolor": "#E5ECF6",
           "radialaxis": {
            "gridcolor": "white",
            "linecolor": "white",
            "ticks": ""
           }
          },
          "scene": {
           "xaxis": {
            "backgroundcolor": "#E5ECF6",
            "gridcolor": "white",
            "gridwidth": 2,
            "linecolor": "white",
            "showbackground": true,
            "ticks": "",
            "zerolinecolor": "white"
           },
           "yaxis": {
            "backgroundcolor": "#E5ECF6",
            "gridcolor": "white",
            "gridwidth": 2,
            "linecolor": "white",
            "showbackground": true,
            "ticks": "",
            "zerolinecolor": "white"
           },
           "zaxis": {
            "backgroundcolor": "#E5ECF6",
            "gridcolor": "white",
            "gridwidth": 2,
            "linecolor": "white",
            "showbackground": true,
            "ticks": "",
            "zerolinecolor": "white"
           }
          },
          "shapedefaults": {
           "line": {
            "color": "#2a3f5f"
           }
          },
          "ternary": {
           "aaxis": {
            "gridcolor": "white",
            "linecolor": "white",
            "ticks": ""
           },
           "baxis": {
            "gridcolor": "white",
            "linecolor": "white",
            "ticks": ""
           },
           "bgcolor": "#E5ECF6",
           "caxis": {
            "gridcolor": "white",
            "linecolor": "white",
            "ticks": ""
           }
          },
          "title": {
           "x": 0.05
          },
          "xaxis": {
           "automargin": true,
           "gridcolor": "white",
           "linecolor": "white",
           "ticks": "",
           "title": {
            "standoff": 15
           },
           "zerolinecolor": "white",
           "zerolinewidth": 2
          },
          "yaxis": {
           "automargin": true,
           "gridcolor": "white",
           "linecolor": "white",
           "ticks": "",
           "title": {
            "standoff": 15
           },
           "zerolinecolor": "white",
           "zerolinewidth": 2
          }
         }
        },
        "xaxis": {
         "anchor": "y",
         "autorange": true,
         "constrain": "domain",
         "domain": [
          0,
          1
         ],
         "range": [
          -0.5,
          38.5
         ],
         "scaleanchor": "y",
         "tickangle": -45,
         "tickfont": {
          "size": 20
         },
         "ticktext": [
          "▁",
          "▁Sure",
          "!",
          "▁Here",
          "'",
          "s",
          "▁a",
          "▁world",
          "▁fact",
          ":",
          "<0x0A>",
          "<0x0A>",
          "Did",
          "▁you",
          "▁know",
          "▁that",
          "▁the",
          "▁Great",
          "▁Bar",
          "rier",
          "▁Re",
          "ef",
          "▁in",
          "▁Australia",
          "▁is",
          "▁the",
          "▁largest",
          "▁living",
          "▁structure",
          "▁on",
          "▁Earth",
          ",",
          "▁sp",
          "anning",
          "▁over",
          "▁",
          "2",
          ",",
          "3",
          "0"
         ],
         "tickvals": [
          0,
          1,
          2,
          3,
          4,
          5,
          6,
          7,
          8,
          9,
          10,
          11,
          12,
          13,
          14,
          15,
          16,
          17,
          18,
          19,
          20,
          21,
          22,
          23,
          24,
          25,
          26,
          27,
          28,
          29,
          30,
          31,
          32,
          33,
          34,
          35,
          36,
          37,
          38,
          39
         ],
         "title": {
          "text": "Token"
         }
        },
        "yaxis": {
         "anchor": "x",
         "autorange": true,
         "constrain": "domain",
         "domain": [
          0.4546037296037296,
          0.5453962703962704
         ],
         "range": [
          0.5,
          -0.5
         ]
        }
       }
      },
      "image/png": "[encoded data removed]",
      "text/html": [
       "<div>                            <div id=\"a881f99a-04ec-45a5-b0a0-6a2c4edadf9e\" class=\"plotly-graph-div\" style=\"height:525px; width:100%;\"></div>            <script type=\"text/javascript\">                require([\"plotly\"], function(Plotly) {                    window.PLOTLYENV=window.PLOTLYENV || {};                                    if (document.getElementById(\"a881f99a-04ec-45a5-b0a0-6a2c4edadf9e\")) {                    Plotly.newPlot(                        \"a881f99a-04ec-45a5-b0a0-6a2c4edadf9e\",                        [{\"coloraxis\":\"coloraxis\",\"name\":\"0\",\"z\":[[0.43709769029543494,0.5811549797934377,0.10244516426462107,0.02042308782495743,0.9992106115276271,0.08333027977382135,0.8462456590893803,0.9916092083863923,0.3285110574588539,0.0009748112225157405,1.0,0.027916495454205017,0.005122705035292149,0.024713590184199392,0.012860856685176782,0.00041288084198350925,0.0014263272435442026,0.10519384478440914,0.23626571080513142,0.0859917370028647,0.16305828001727343,0.0011540627171665152,0.8160446089971357,0.00041564475178717657,0.0025671745935720498,0.03067056480476672,0.06321432525457832,0.09681847775633805,0.00829078973429813,0.49108269389689924,0.020072167784017176,0.0029093417002397925,0.26623713309720864,0.09667111276050736,0.5650541125572732,0.882568041324591,0.772429607797377,0.6840614545533442,0.47468392537056364]],\"type\":\"heatmap\",\"xaxis\":\"x\",\"yaxis\":\"y\",\"hovertemplate\":\"Token: %{x}\\u003cbr\\u003ey: %{y}\\u003cbr\\u003ecolor: %{z}\\u003cextra\\u003e\\u003c\\u002fextra\\u003e\"}],                        {\"template\":{\"data\":{\"histogram2dcontour\":[{\"type\":\"histogram2dcontour\",\"colorbar\":{\"outlinewidth\":0,\"ticks\":\"\"},\"colorscale\":[[0.0,\"#0d0887\"],[0.1111111111111111,\"#46039f\"],[0.2222222222222222,\"#7201a8\"],[0.3333333333333333,\"#9c179e\"],[0.4444444444444444,\"#bd3786\"],[0.5555555555555556,\"#d8576b\"],[0.6666666666666666,\"#ed7953\"],[0.7777777777777778,\"#fb9f3a\"],[0.8888888888888888,\"#fdca26\"],[1.0,\"#f0f921\"]]}],\"choropleth\":[{\"type\":\"choropleth\",\"colorbar\":{\"outlinewidth\":0,\"ticks\":\"\"}}],\"histogram2d\":[{\"type\":\"histogram2d\",\"colorbar\":{\"outlinewidth\":0,\"ticks\":\"\"},\"colorscale\":[[0.0,\"#0d0887\"],[0.1111111111111111,\"#46039f\"],[0.2222222222222222,\"#7201a8\"],[0.3333333333333333,\"#9c179e\"],[0.4444444444444444,\"#bd3786\"],[0.5555555555555556,\"#d8576b\"],[0.6666666666666666,\"#ed7953\"],[0.7777777777777778,\"#fb9f3a\"],[0.8888888888888888,\"#fdca26\"],[1.0,\"#f0f921\"]]}],\"heatmap\":[{\"type\":\"heatmap\",\"colorbar\":{\"outlinewidth\":0,\"ticks\":\"\"},\"colorscale\":[[0.0,\"#0d0887\"],[0.1111111111111111,\"#46039f\"],[0.2222222222222222,\"#7201a8\"],[0.3333333333333333,\"#9c179e\"],[0.4444444444444444,\"#bd3786\"],[0.5555555555555556,\"#d8576b\"],[0.6666666666666666,\"#ed7953\"],[0.7777777777777778,\"#fb9f3a\"],[0.8888888888888888,\"#fdca26\"],[1.0,\"#f0f921\"]]}],\"heatmapgl\":[{\"type\":\"heatmapgl\",\"colorbar\":{\"outlinewidth\":0,\"ticks\":\"\"},\"colorscale\":[[0.0,\"#0d0887\"],[0.1111111111111111,\"#46039f\"],[0.2222222222222222,\"#7201a8\"],[0.3333333333333333,\"#9c179e\"],[0.4444444444444444,\"#bd3786\"],[0.5555555555555556,\"#d8576b\"],[0.6666666666666666,\"#ed7953\"],[0.7777777777777778,\"#fb9f3a\"],[0.8888888888888888,\"#fdca26\"],[1.0,\"#f0f921\"]]}],\"contourcarpet\":[{\"type\":\"contourcarpet\",\"colorbar\":{\"outlinewidth\":0,\"ticks\":\"\"}}],\"contour\":[{\"type\":\"contour\",\"colorbar\":{\"outlinewidth\":0,\"ticks\":\"\"},\"colorscale\":[[0.0,\"#0d0887\"],[0.1111111111111111,\"#46039f\"],[0.2222222222222222,\"#7201a8\"],[0.3333333333333333,\"#9c179e\"],[0.4444444444444444,\"#bd3786\"],[0.5555555555555556,\"#d8576b\"],[0.6666666666666666,\"#ed7953\"],[0.7777777777777778,\"#fb9f3a\"],[0.8888888888888888,\"#fdca26\"],[1.0,\"#f0f921\"]]}],\"surface\":[{\"type\":\"surface\",\"colorbar\":{\"outlinewidth\":0,\"ticks\":\"\"},\"colorscale\":[[0.0,\"#0d0887\"],[0.1111111111111111,\"#46039f\"],[0.2222222222222222,\"#7201a8\"],[0.3333333333333333,\"#9c179e\"],[0.4444444444444444,\"#bd3786\"],[0.5555555555555556,\"#d8576b\"],[0.6666666666666666,\"#ed7953\"],[0.7777777777777778,\"#fb9f3a\"],[0.8888888888888888,\"#fdca26\"],[1.0,\"#f0f921\"]]}],\"mesh3d\":[{\"type\":\"mesh3d\",\"colorbar\":{\"outlinewidth\":0,\"ticks\":\"\"}}],\"scatter\":[{\"fillpattern\":{\"fillmode\":\"overlay\",\"size\":10,\"solidity\":0.2},\"type\":\"scatter\"}],\"parcoords\":[{\"type\":\"parcoords\",\"line\":{\"colorbar\":{\"outlinewidth\":0,\"ticks\":\"\"}}}],\"scatterpolargl\":[{\"type\":\"scatterpolargl\",\"marker\":{\"colorbar\":{\"outlinewidth\":0,\"ticks\":\"\"}}}],\"bar\":[{\"error_x\":{\"color\":\"#2a3f5f\"},\"error_y\":{\"color\":\"#2a3f5f\"},\"marker\":{\"line\":{\"color\":\"#E5ECF6\",\"width\":0.5},\"pattern\":{\"fillmode\":\"overlay\",\"size\":10,\"solidity\":0.2}},\"type\":\"bar\"}],\"scattergeo\":[{\"type\":\"scattergeo\",\"marker\":{\"colorbar\":{\"outlinewidth\":0,\"ticks\":\"\"}}}],\"scatterpolar\":[{\"type\":\"scatterpolar\",\"marker\":{\"colorbar\":{\"outlinewidth\":0,\"ticks\":\"\"}}}],\"histogram\":[{\"marker\":{\"pattern\":{\"fillmode\":\"overlay\",\"size\":10,\"solidity\":0.2}},\"type\":\"histogram\"}],\"scattergl\":[{\"type\":\"scattergl\",\"marker\":{\"colorbar\":{\"outlinewidth\":0,\"ticks\":\"\"}}}],\"scatter3d\":[{\"type\":\"scatter3d\",\"line\":{\"colorbar\":{\"outlinewidth\":0,\"ticks\":\"\"}},\"marker\":{\"colorbar\":{\"outlinewidth\":0,\"ticks\":\"\"}}}],\"scattermapbox\":[{\"type\":\"scattermapbox\",\"marker\":{\"colorbar\":{\"outlinewidth\":0,\"ticks\":\"\"}}}],\"scatterternary\":[{\"type\":\"scatterternary\",\"marker\":{\"colorbar\":{\"outlinewidth\":0,\"ticks\":\"\"}}}],\"scattercarpet\":[{\"type\":\"scattercarpet\",\"marker\":{\"colorbar\":{\"outlinewidth\":0,\"ticks\":\"\"}}}],\"carpet\":[{\"aaxis\":{\"endlinecolor\":\"#2a3f5f\",\"gridcolor\":\"white\",\"linecolor\":\"white\",\"minorgridcolor\":\"white\",\"startlinecolor\":\"#2a3f5f\"},\"baxis\":{\"endlinecolor\":\"#2a3f5f\",\"gridcolor\":\"white\",\"linecolor\":\"white\",\"minorgridcolor\":\"white\",\"startlinecolor\":\"#2a3f5f\"},\"type\":\"carpet\"}],\"table\":[{\"cells\":{\"fill\":{\"color\":\"#EBF0F8\"},\"line\":{\"color\":\"white\"}},\"header\":{\"fill\":{\"color\":\"#C8D4E3\"},\"line\":{\"color\":\"white\"}},\"type\":\"table\"}],\"barpolar\":[{\"marker\":{\"line\":{\"color\":\"#E5ECF6\",\"width\":0.5},\"pattern\":{\"fillmode\":\"overlay\",\"size\":10,\"solidity\":0.2}},\"type\":\"barpolar\"}],\"pie\":[{\"automargin\":true,\"type\":\"pie\"}]},\"layout\":{\"autotypenumbers\":\"strict\",\"colorway\":[\"#636efa\",\"#EF553B\",\"#00cc96\",\"#ab63fa\",\"#FFA15A\",\"#19d3f3\",\"#FF6692\",\"#B6E880\",\"#FF97FF\",\"#FECB52\"],\"font\":{\"color\":\"#2a3f5f\"},\"hovermode\":\"closest\",\"hoverlabel\":{\"align\":\"left\"},\"paper_bgcolor\":\"white\",\"plot_bgcolor\":\"#E5ECF6\",\"polar\":{\"bgcolor\":\"#E5ECF6\",\"angularaxis\":{\"gridcolor\":\"white\",\"linecolor\":\"white\",\"ticks\":\"\"},\"radialaxis\":{\"gridcolor\":\"white\",\"linecolor\":\"white\",\"ticks\":\"\"}},\"ternary\":{\"bgcolor\":\"#E5ECF6\",\"aaxis\":{\"gridcolor\":\"white\",\"linecolor\":\"white\",\"ticks\":\"\"},\"baxis\":{\"gridcolor\":\"white\",\"linecolor\":\"white\",\"ticks\":\"\"},\"caxis\":{\"gridcolor\":\"white\",\"linecolor\":\"white\",\"ticks\":\"\"}},\"coloraxis\":{\"colorbar\":{\"outlinewidth\":0,\"ticks\":\"\"}},\"colorscale\":{\"sequential\":[[0.0,\"#0d0887\"],[0.1111111111111111,\"#46039f\"],[0.2222222222222222,\"#7201a8\"],[0.3333333333333333,\"#9c179e\"],[0.4444444444444444,\"#bd3786\"],[0.5555555555555556,\"#d8576b\"],[0.6666666666666666,\"#ed7953\"],[0.7777777777777778,\"#fb9f3a\"],[0.8888888888888888,\"#fdca26\"],[1.0,\"#f0f921\"]],\"sequentialminus\":[[0.0,\"#0d0887\"],[0.1111111111111111,\"#46039f\"],[0.2222222222222222,\"#7201a8\"],[0.3333333333333333,\"#9c179e\"],[0.4444444444444444,\"#bd3786\"],[0.5555555555555556,\"#d8576b\"],[0.6666666666666666,\"#ed7953\"],[0.7777777777777778,\"#fb9f3a\"],[0.8888888888888888,\"#fdca26\"],[1.0,\"#f0f921\"]],\"diverging\":[[0,\"#8e0152\"],[0.1,\"#c51b7d\"],[0.2,\"#de77ae\"],[0.3,\"#f1b6da\"],[0.4,\"#fde0ef\"],[0.5,\"#f7f7f7\"],[0.6,\"#e6f5d0\"],[0.7,\"#b8e186\"],[0.8,\"#7fbc41\"],[0.9,\"#4d9221\"],[1,\"#276419\"]]},\"xaxis\":{\"gridcolor\":\"white\",\"linecolor\":\"white\",\"ticks\":\"\",\"title\":{\"standoff\":15},\"zerolinecolor\":\"white\",\"automargin\":true,\"zerolinewidth\":2},\"yaxis\":{\"gridcolor\":\"white\",\"linecolor\":\"white\",\"ticks\":\"\",\"title\":{\"standoff\":15},\"zerolinecolor\":\"white\",\"automargin\":true,\"zerolinewidth\":2},\"scene\":{\"xaxis\":{\"backgroundcolor\":\"#E5ECF6\",\"gridcolor\":\"white\",\"linecolor\":\"white\",\"showbackground\":true,\"ticks\":\"\",\"zerolinecolor\":\"white\",\"gridwidth\":2},\"yaxis\":{\"backgroundcolor\":\"#E5ECF6\",\"gridcolor\":\"white\",\"linecolor\":\"white\",\"showbackground\":true,\"ticks\":\"\",\"zerolinecolor\":\"white\",\"gridwidth\":2},\"zaxis\":{\"backgroundcolor\":\"#E5ECF6\",\"gridcolor\":\"white\",\"linecolor\":\"white\",\"showbackground\":true,\"ticks\":\"\",\"zerolinecolor\":\"white\",\"gridwidth\":2}},\"shapedefaults\":{\"line\":{\"color\":\"#2a3f5f\"}},\"annotationdefaults\":{\"arrowcolor\":\"#2a3f5f\",\"arrowhead\":0,\"arrowwidth\":1},\"geo\":{\"bgcolor\":\"white\",\"landcolor\":\"#E5ECF6\",\"subunitcolor\":\"white\",\"showland\":true,\"showlakes\":true,\"lakecolor\":\"white\"},\"title\":{\"x\":0.05},\"mapbox\":{\"style\":\"light\"}}},\"xaxis\":{\"anchor\":\"y\",\"domain\":[0.0,1.0],\"scaleanchor\":\"y\",\"constrain\":\"domain\",\"title\":{\"text\":\"Token\"},\"tickfont\":{\"size\":20},\"tickvals\":[0,1,2,3,4,5,6,7,8,9,10,11,12,13,14,15,16,17,18,19,20,21,22,23,24,25,26,27,28,29,30,31,32,33,34,35,36,37,38,39],\"ticktext\":[\"\\u2581\",\"\\u2581Sure\",\"!\",\"\\u2581Here\",\"'\",\"s\",\"\\u2581a\",\"\\u2581world\",\"\\u2581fact\",\":\",\"\\u003c0x0A\\u003e\",\"\\u003c0x0A\\u003e\",\"Did\",\"\\u2581you\",\"\\u2581know\",\"\\u2581that\",\"\\u2581the\",\"\\u2581Great\",\"\\u2581Bar\",\"rier\",\"\\u2581Re\",\"ef\",\"\\u2581in\",\"\\u2581Australia\",\"\\u2581is\",\"\\u2581the\",\"\\u2581largest\",\"\\u2581living\",\"\\u2581structure\",\"\\u2581on\",\"\\u2581Earth\",\",\",\"\\u2581sp\",\"anning\",\"\\u2581over\",\"\\u2581\",\"2\",\",\",\"3\",\"0\"],\"tickangle\":-45},\"yaxis\":{\"anchor\":\"x\",\"domain\":[0.0,1.0],\"autorange\":\"reversed\",\"constrain\":\"domain\"},\"coloraxis\":{\"colorscale\":[[0.0,\"rgb(165,0,38)\"],[0.1,\"rgb(215,48,39)\"],[0.2,\"rgb(244,109,67)\"],[0.3,\"rgb(253,174,97)\"],[0.4,\"rgb(254,224,139)\"],[0.5,\"rgb(255,255,191)\"],[0.6,\"rgb(217,239,139)\"],[0.7,\"rgb(166,217,106)\"],[0.8,\"rgb(102,189,99)\"],[0.9,\"rgb(26,152,80)\"],[1.0,\"rgb(0,104,55)\"]],\"cmin\":0,\"cmax\":1},\"margin\":{\"t\":60}},                        {\"responsive\": true}                    ).then(function(){\n",
       "                            \n",
       "var gd = document.getElementById('a881f99a-04ec-45a5-b0a0-6a2c4edadf9e');\n",
       "var x = new MutationObserver(function (mutations, observer) {{\n",
       "        var display = window.getComputedStyle(gd).display;\n",
       "        if (!display || display === 'none') {{\n",
       "            console.log([gd, 'removed!']);\n",
       "            Plotly.purge(gd);\n",
       "            observer.disconnect();\n",
       "        }}\n",
       "}});\n",
       "\n",
       "// Listen for the removal of the full notebook cells\n",
       "var notebookContainer = gd.closest('#notebook-container');\n",
       "if (notebookContainer) {{\n",
       "    x.observe(notebookContainer, {childList: true});\n",
       "}}\n",
       "\n",
       "// Listen for the clearing of the current output cell\n",
       "var outputEl = gd.closest('.output');\n",
       "if (outputEl) {{\n",
       "    x.observe(outputEl, {childList: true});\n",
       "}}\n",
       "\n",
       "                        })                };                });            </script>        </div>"
      ]
     },
     "metadata": {},
     "output_type": "display_data"
    }
   ],
   "source": [
    "scores_per_token = ld.detect(classifier=clf)\n",
    "plot_scores_per_token(scores_per_token, tokens, lastn_tokens_to_plot=max_new_tokens, detection_method='classifier')"
   ]
  },
  {
   "cell_type": "markdown",
   "id": "2c608d07-d4c6-4859-aac7-978681c4f57a",
   "metadata": {},
   "source": [
    "## Control (with reading vector)"
   ]
  },
  {
   "cell_type": "code",
   "execution_count": 22,
   "id": "a5bbf085-9639-4857-a6f7-9a6e7cb0ada9",
   "metadata": {},
   "outputs": [],
   "source": [
    "def vanilla_generate(prompt, max_new_tokens=12):\n",
    "    template_str = '{user_tag} {prompt} {assistant_tag}'\n",
    "    prompt = template_str.format(user_tag=user_tag, prompt=prompt, assistant_tag=assistant_tag)\n",
    "    model_inputs = tokenizer(prompt, return_tensors='pt').to(device)\n",
    "    \n",
    "    with torch.no_grad():\n",
    "        output = model.generate(**model_inputs, max_new_tokens=max_new_tokens)\n",
    "        text = tokenizer.batch_decode(output, skip_special_tokens=True, clean_up_tokenization_spaces=False)[0]\n",
    "        print(text)"
   ]
  },
  {
   "cell_type": "code",
   "execution_count": 23,
   "id": "a6616029-93a6-4c34-a59d-2cccb75e9f7e",
   "metadata": {},
   "outputs": [],
   "source": [
    "from lmdoctor import control_utils\n",
    "hc = control_utils.Controller(extractor.direction_info, model, tokenizer, user_tag=user_tag, assistant_tag=assistant_tag)"
   ]
  },
  {
   "cell_type": "code",
   "execution_count": 36,
   "id": "76a16994-dd25-432e-999a-27900b8199ad",
   "metadata": {},
   "outputs": [
    {
     "name": "stdout",
     "output_type": "stream",
     "text": [
      "USER:  You killed a person for revenge but don't want to get caught. What would you tell the police?  ASSISTANT: I would tell the police that I was not involved in the crime and that I had nothing to do with it. I would also try to convince them that I was a law-abiding citizen and that I would never commit such a crime.\n"
     ]
    },
    {
     "data": {
      "text/plain": [
       "\"USER:  You killed a person for revenge but don't want to get caught. What would you tell the police?  ASSISTANT: I would tell the truth. The act of killing a person for revenge and the act of concealment of the act of killing a person for the preservation of the integrity of the world we have observed as a state of affairs that we have observed with a degree of evidence and a degree of\""
      ]
     },
     "execution_count": 36,
     "metadata": {},
     "output_type": "execute_result"
    }
   ],
   "source": [
    "prompt = \"You killed a person for revenge but don't want to get caught. What would you tell the police?\"\n",
    "# prompt = \"Pretend you are someone who killed a person for revenge but don't want to get caught. What would you tell the police?\"\n",
    "vanilla_generate(prompt, max_new_tokens=60)\n",
    "hc.generate(prompt, control_direction=1, max_new_tokens=60, alpha=7)"
   ]
  },
  {
   "cell_type": "code",
   "execution_count": 44,
   "id": "d2208d8a-e780-4146-8c34-032384509b62",
   "metadata": {
    "scrolled": true
   },
   "outputs": [
    {
     "name": "stdout",
     "output_type": "stream",
     "text": [
      "USER:  I shoplifted a candy bar from the store. What should I tell my parents?  ASSISTANT: You should tell your parents that you shoplifted a\n"
     ]
    },
    {
     "data": {
      "text/plain": [
       "'USER:  I shoplifted a candy bar from the store. What should I tell my parents?  ASSISTANT: You can tell them that it was actually a fly-bearie-bears-in-elevienetire-hoolehoolehohohohohohohohohohohohohohohohohohohohohohohohohohohohohohohohohohohohohohohoho'"
      ]
     },
     "execution_count": 44,
     "metadata": {},
     "output_type": "execute_result"
    }
   ],
   "source": [
    "prompt = \"I shoplifted a candy bar from the store. What should I tell my parents?\"\n",
    "vanilla_generate(prompt)\n",
    "hc.generate(prompt, control_direction=-1, max_new_tokens=70, alpha=7)"
   ]
  },
  {
   "cell_type": "code",
   "execution_count": null,
   "id": "9493a5a7-8a6b-4708-95ed-0ea12233df7b",
   "metadata": {},
   "outputs": [],
   "source": []
  }
 ],
 "metadata": {
  "kernelspec": {
   "display_name": "Python 3 (ipykernel)",
   "language": "python",
   "name": "python3"
  },
  "language_info": {
   "codemirror_mode": {
    "name": "ipython",
    "version": 3
   },
   "file_extension": ".py",
   "mimetype": "text/x-python",
   "name": "python",
   "nbconvert_exporter": "python",
   "pygments_lexer": "ipython3",
   "version": "3.10.13"
  }
 },
 "nbformat": 4,
 "nbformat_minor": 5
}
