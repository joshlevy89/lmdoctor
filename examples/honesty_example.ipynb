{
 "cells": [
  {
   "cell_type": "code",
   "execution_count": 1,
   "id": "574c865c-c179-47cd-b331-9283352504d1",
   "metadata": {
    "tags": []
   },
   "outputs": [],
   "source": [
    "%load_ext autoreload\n",
    "%autoreload 2"
   ]
  },
  {
   "cell_type": "markdown",
   "id": "7a31a213-f00f-462e-bc9d-861633f71082",
   "metadata": {},
   "source": [
    "## Setup\n",
    "If you already have a model/tokenizer you want to use, you can skip this step. \n",
    "Be sure to also set the appropriate user_tag/assistant_tag for that model."
   ]
  },
  {
   "cell_type": "code",
   "execution_count": 2,
   "id": "be6ed83c-89d0-4d30-b794-20db2ebe92ce",
   "metadata": {
    "tags": []
   },
   "outputs": [],
   "source": [
    "%%capture\n",
    "# The quantized model used here requires some extra libraries. \n",
    "import sys\n",
    "!{sys.executable} -m pip install torch==2.1.1 torchvision==0.16.1 torchaudio==2.1.1 --index-url https://download.pytorch.org/whl/cu121\n",
    "!{sys.executable} -m pip install optimum>=1.12.0\n",
    "!{sys.executable} -m pip install auto-gptq==0.6.0\n",
    "!{sys.executable} -m pip install accelerate"
   ]
  },
  {
   "cell_type": "code",
   "execution_count": 2,
   "id": "a16924fa-784d-40d1-8ab6-651eb71b8c6d",
   "metadata": {
    "tags": []
   },
   "outputs": [
    {
     "name": "stderr",
     "output_type": "stream",
     "text": [
      "/opt/conda/lib/python3.10/site-packages/transformers/utils/hub.py:124: FutureWarning: Using `TRANSFORMERS_CACHE` is deprecated and will be removed in v5 of Transformers. Use `HF_HOME` instead.\n",
      "  warnings.warn(\n",
      "/opt/conda/lib/python3.10/site-packages/transformers/modeling_utils.py:4193: FutureWarning: `_is_quantized_training_enabled` is going to be deprecated in transformers 4.39.0. Please use `model.hf_quantizer.is_trainable` instead\n",
      "  warnings.warn(\n"
     ]
    }
   ],
   "source": [
    "import os\n",
    "os.environ['TRANSFORMERS_CACHE'] = '/workspace/cache/' # change or comment out as desired \n",
    "from transformers import AutoModelForCausalLM, AutoTokenizer\n",
    "\n",
    "def load_model(model_name_or_path, revision, device):\n",
    "    model = AutoModelForCausalLM.from_pretrained(\n",
    "        model_name_or_path, device_map=device, revision=revision, trust_remote_code=False)\n",
    "    tokenizer = AutoTokenizer.from_pretrained(model_name_or_path, use_fast=True, padding_side=\"left\")\n",
    "    tokenizer.pad_token_id = 0\n",
    "    return model, tokenizer\n",
    "\n",
    "device = 'cuda:0'\n",
    "model_name_or_path = \"TheBloke/Mistral-7B-Instruct-v0.1-GPTQ\"\n",
    "revision = 'gptq-4bit-32g-actorder_True'\n",
    "user_tag = \"[INST] \"\n",
    "assistant_tag = \" [/INST]\"\n",
    "\n",
    "model, tokenizer = load_model(model_name_or_path, revision, device)"
   ]
  },
  {
   "cell_type": "markdown",
   "id": "3a9b064e-1fe9-4679-b687-14be64371b47",
   "metadata": {},
   "source": [
    "## Train extractor"
   ]
  },
  {
   "cell_type": "code",
   "execution_count": 52,
   "id": "1db112b6-7a23-4891-adfc-3eafb2135764",
   "metadata": {
    "scrolled": true
   },
   "outputs": [
    {
     "name": "stderr",
     "output_type": "stream",
     "text": [
      "INFO - Inferring functional extraction_method because none was passed\n"
     ]
    },
    {
     "name": "stdout",
     "output_type": "stream",
     "text": [
      "tensor([ 0.0058,  0.0003,  0.0131,  ..., -0.0045,  0.0037, -0.0047],\n",
      "       device='cuda:0', dtype=torch.float16)\n",
      "lo\n",
      "tensor([ 9.1553e-05,  5.3644e-06,  2.0564e-04,  ..., -7.1228e-05,\n",
      "         5.8174e-05, -7.3969e-05], device='cuda:0', dtype=torch.float16)\n",
      "tensor([ 0.0314, -0.0057, -0.0098,  ..., -0.0146, -0.0012, -0.0081],\n",
      "       device='cuda:0', dtype=torch.float16)\n",
      "lo\n",
      "tensor([ 4.9734e-04, -9.0361e-05, -1.5545e-04,  ..., -2.3150e-04,\n",
      "        -1.8954e-05, -1.2827e-04], device='cuda:0', dtype=torch.float16)\n",
      "tensor([ 0.0277,  0.0099,  0.0001,  ..., -0.0324,  0.0204, -0.0403],\n",
      "       device='cuda:0', dtype=torch.float16)\n",
      "lo\n",
      "tensor([ 4.4274e-04,  1.5867e-04,  1.6689e-06,  ..., -5.1785e-04,\n",
      "         3.2568e-04, -6.4468e-04], device='cuda:0', dtype=torch.float16)\n",
      "tensor([ 0.0393,  0.0348,  0.0264,  ..., -0.0571,  0.0540, -0.0381],\n",
      "       device='cuda:0', dtype=torch.float16)\n",
      "lo\n",
      "tensor([ 0.0006,  0.0006,  0.0004,  ..., -0.0009,  0.0009, -0.0006],\n",
      "       device='cuda:0', dtype=torch.float16)\n",
      "tensor([-0.0419,  0.0115,  0.0479,  ..., -0.0294, -0.0038,  0.0122],\n",
      "       device='cuda:0', dtype=torch.float16)\n",
      "lo\n",
      "tensor([-7.6818e-04,  2.1064e-04,  8.7786e-04,  ..., -5.3930e-04,\n",
      "        -6.8784e-05,  2.2376e-04], device='cuda:0', dtype=torch.float16)\n",
      "tensor([ 0.0961, -0.0156,  0.0754,  ..., -0.0515, -0.0293, -0.0637],\n",
      "       device='cuda:0', dtype=torch.float16)\n",
      "lo\n",
      "tensor([ 0.0022, -0.0004,  0.0017,  ..., -0.0012, -0.0007, -0.0015],\n",
      "       device='cuda:0', dtype=torch.float16)\n",
      "tensor([ 0.0164,  0.0616,  0.0545,  ..., -0.0099, -0.0508, -0.2141],\n",
      "       device='cuda:0', dtype=torch.float16)\n",
      "lo\n",
      "tensor([ 0.0004,  0.0017,  0.0015,  ..., -0.0003, -0.0014, -0.0058],\n",
      "       device='cuda:0', dtype=torch.float16)\n",
      "tensor([ 0.0365,  0.1758,  0.1010,  ...,  0.1354,  0.0051, -0.3184],\n",
      "       device='cuda:0', dtype=torch.float16)\n",
      "lo\n",
      "tensor([ 0.0012,  0.0056,  0.0032,  ...,  0.0043,  0.0002, -0.0102],\n",
      "       device='cuda:0', dtype=torch.float16)\n",
      "tensor([ 0.0830, -0.0086,  0.0783,  ...,  0.0601,  0.0933, -0.2607],\n",
      "       device='cuda:0', dtype=torch.float16)\n",
      "lo\n",
      "tensor([ 0.0035, -0.0004,  0.0033,  ...,  0.0025,  0.0039, -0.0109],\n",
      "       device='cuda:0', dtype=torch.float16)\n",
      "tensor([ 0.0308, -0.1227,  0.1200,  ..., -0.0300,  0.0804, -0.1437],\n",
      "       device='cuda:0', dtype=torch.float16)\n",
      "lo\n",
      "tensor([ 0.0020, -0.0078,  0.0077,  ..., -0.0019,  0.0051, -0.0092],\n",
      "       device='cuda:0', dtype=torch.float16)\n",
      "tensor([ 0.1456, -0.0869,  0.0576,  ..., -0.1460,  0.0619, -0.1156],\n",
      "       device='cuda:0', dtype=torch.float16)\n",
      "lo\n",
      "tensor([ 0.0125, -0.0074,  0.0049,  ..., -0.0125,  0.0053, -0.0099],\n",
      "       device='cuda:0', dtype=torch.float16)\n",
      "tensor([ 0.0649, -0.0331,  0.0741,  ..., -0.1271,  0.1143, -0.1219],\n",
      "       device='cuda:0', dtype=torch.float16)\n",
      "lo\n",
      "tensor([ 0.0062, -0.0031,  0.0070,  ..., -0.0121,  0.0108, -0.0116],\n",
      "       device='cuda:0', dtype=torch.float16)\n",
      "tensor([ 0.0439, -0.0635, -0.0534,  ..., -0.1318,  0.0748, -0.1407],\n",
      "       device='cuda:0', dtype=torch.float16)\n",
      "lo\n",
      "tensor([ 0.0053, -0.0077, -0.0065,  ..., -0.0159,  0.0090, -0.0170],\n",
      "       device='cuda:0', dtype=torch.float16)\n",
      "tensor([ 0.0369, -0.0434, -0.0694,  ..., -0.1611,  0.0779, -0.0390],\n",
      "       device='cuda:0', dtype=torch.float16)\n",
      "lo\n",
      "tensor([ 0.0061, -0.0072, -0.0116,  ..., -0.0269,  0.0130, -0.0065],\n",
      "       device='cuda:0', dtype=torch.float16)\n",
      "tensor([ 0.0806, -0.0440, -0.1403,  ..., -0.1943,  0.0776, -0.0457],\n",
      "       device='cuda:0', dtype=torch.float16)\n",
      "lo\n",
      "tensor([ 0.0157, -0.0086, -0.0273,  ..., -0.0379,  0.0151, -0.0089],\n",
      "       device='cuda:0', dtype=torch.float16)\n",
      "tensor([ 0.0420, -0.0090, -0.1527,  ..., -0.1381,  0.1285,  0.0122],\n",
      "       device='cuda:0', dtype=torch.float16)\n",
      "lo\n",
      "tensor([ 0.0117, -0.0025, -0.0424,  ..., -0.0384,  0.0357,  0.0034],\n",
      "       device='cuda:0', dtype=torch.float16)\n",
      "tensor([-0.0098, -0.0015, -0.1173,  ..., -0.1082,  0.1179,  0.0875],\n",
      "       device='cuda:0', dtype=torch.float16)\n",
      "lo\n",
      "tensor([-0.0044, -0.0007, -0.0523,  ..., -0.0482,  0.0525,  0.0390],\n",
      "       device='cuda:0', dtype=torch.float16)\n",
      "tensor([-0.0142,  0.0580, -0.1109,  ..., -0.0854,  0.0922,  0.0779],\n",
      "       device='cuda:0', dtype=torch.float16)\n",
      "lo\n",
      "tensor([-0.0070,  0.0287, -0.0549,  ..., -0.0423,  0.0456,  0.0385],\n",
      "       device='cuda:0', dtype=torch.float16)\n",
      "tensor([-0.0468, -0.0014, -0.0874,  ..., -0.0490,  0.0689,  0.0767],\n",
      "       device='cuda:0', dtype=torch.float16)\n",
      "lo\n",
      "tensor([-0.0284, -0.0008, -0.0530,  ..., -0.0297,  0.0418,  0.0465],\n",
      "       device='cuda:0', dtype=torch.float16)\n",
      "tensor([-0.0297,  0.0031, -0.1202,  ..., -0.0237,  0.0881,  0.0256],\n",
      "       device='cuda:0', dtype=torch.float16)\n",
      "lo\n",
      "tensor([-0.0231,  0.0024, -0.0933,  ..., -0.0184,  0.0684,  0.0199],\n",
      "       device='cuda:0', dtype=torch.float16)\n",
      "tensor([-0.0129,  0.0190, -0.0850,  ..., -0.0075,  0.0502,  0.0298],\n",
      "       device='cuda:0', dtype=torch.float16)\n",
      "lo\n",
      "tensor([-0.0121,  0.0178, -0.0797,  ..., -0.0070,  0.0470,  0.0279],\n",
      "       device='cuda:0', dtype=torch.float16)\n",
      "tensor([-0.0065,  0.0194, -0.0908,  ...,  0.0155,  0.0654,  0.0228],\n",
      "       device='cuda:0', dtype=torch.float16)\n",
      "lo\n",
      "tensor([-0.0066,  0.0197, -0.0923,  ...,  0.0158,  0.0665,  0.0231],\n",
      "       device='cuda:0', dtype=torch.float16)\n",
      "tensor([-0.0169,  0.0235, -0.0720,  ...,  0.0037,  0.0585,  0.0309],\n",
      "       device='cuda:0', dtype=torch.float16)\n",
      "lo\n",
      "tensor([-0.0198,  0.0276, -0.0845,  ...,  0.0044,  0.0687,  0.0363],\n",
      "       device='cuda:0', dtype=torch.float16)\n",
      "tensor([-0.0329,  0.0515, -0.0746,  ..., -0.0027,  0.0503,  0.0254],\n",
      "       device='cuda:0', dtype=torch.float16)\n",
      "lo\n",
      "tensor([-0.0443,  0.0694, -0.1005,  ..., -0.0036,  0.0677,  0.0341],\n",
      "       device='cuda:0', dtype=torch.float16)\n",
      "tensor([-0.0426,  0.0352, -0.0667,  ..., -0.0226,  0.0424,  0.0167],\n",
      "       device='cuda:0', dtype=torch.float16)\n",
      "lo\n",
      "tensor([-0.0628,  0.0519, -0.0983,  ..., -0.0334,  0.0625,  0.0246],\n",
      "       device='cuda:0', dtype=torch.float16)\n",
      "tensor([-0.0429,  0.0407, -0.0607,  ..., -0.0304,  0.0422,  0.0138],\n",
      "       device='cuda:0', dtype=torch.float16)\n",
      "lo\n",
      "tensor([-0.0682,  0.0646, -0.0965,  ..., -0.0483,  0.0670,  0.0219],\n",
      "       device='cuda:0', dtype=torch.float16)\n",
      "tensor([-0.0419,  0.0369, -0.0740,  ..., -0.0293,  0.0360,  0.0065],\n",
      "       device='cuda:0', dtype=torch.float16)\n",
      "lo\n",
      "tensor([-0.0714,  0.0629, -0.1261,  ..., -0.0500,  0.0613,  0.0111],\n",
      "       device='cuda:0', dtype=torch.float16)\n",
      "tensor([-0.0306,  0.0214, -0.0740,  ..., -0.0404,  0.0112,  0.0209],\n",
      "       device='cuda:0', dtype=torch.float16)\n",
      "lo\n",
      "tensor([-0.0617,  0.0432, -0.1492,  ..., -0.0815,  0.0226,  0.0421],\n",
      "       device='cuda:0', dtype=torch.float16)\n",
      "tensor([-0.0314,  0.0120, -0.0862,  ..., -0.0527,  0.0050,  0.0085],\n",
      "       device='cuda:0', dtype=torch.float16)\n",
      "lo\n",
      "tensor([-0.0695,  0.0267, -0.1912,  ..., -0.1169,  0.0111,  0.0188],\n",
      "       device='cuda:0', dtype=torch.float16)\n",
      "tensor([-0.0309,  0.0110, -0.0639,  ..., -0.0446,  0.0060,  0.0090],\n",
      "       device='cuda:0', dtype=torch.float16)\n",
      "lo\n",
      "tensor([-0.0814,  0.0289, -0.1685,  ..., -0.1177,  0.0158,  0.0238],\n",
      "       device='cuda:0', dtype=torch.float16)\n",
      "tensor([-0.0308,  0.0112, -0.0562,  ..., -0.0522, -0.0001,  0.0204],\n",
      "       device='cuda:0', dtype=torch.float16)\n",
      "lo\n",
      "tensor([-0.0900,  0.0327, -0.1641,  ..., -0.1525, -0.0004,  0.0594],\n",
      "       device='cuda:0', dtype=torch.float16)\n",
      "tensor([-0.0014,  0.0003, -0.0055,  ..., -0.0057,  0.0007,  0.0027],\n",
      "       device='cuda:0', dtype=torch.float16)\n",
      "lo\n",
      "tensor([-0.1460,  0.0275, -0.5645,  ..., -0.5869,  0.0734,  0.2742],\n",
      "       device='cuda:0', dtype=torch.float16)\n"
     ]
    }
   ],
   "source": [
    "from lmdoctor.doctor import Doctor\n",
    "extraction_target = 'honesty'\n",
    "direction_op = 'logreg'\n",
    "doc = Doctor(model, tokenizer, user_tag, assistant_tag, extraction_target=extraction_target, direction_op=direction_op, device=device)\n",
    "doc.extract(n_train_pairs=128, n_dev_pairs=64, n_test_pairs=32)"
   ]
  },
  {
   "cell_type": "code",
   "execution_count": 53,
   "id": "20b7555d-a2a8-4df9-9650-71d28f548ce1",
   "metadata": {},
   "outputs": [
    {
     "data": {
      "text/plain": [
       "array([[\"[INST] Pretend you're an honest person making statements about the world. [/INST] The\",\n",
       "        \"[INST] Pretend you're an untruthful person making statements about the world. [/INST] The\"]],\n",
       "      dtype='<U201')"
      ]
     },
     "execution_count": 53,
     "metadata": {},
     "output_type": "execute_result"
    }
   ],
   "source": [
    "doc.statement_pairs['train'][:1]"
   ]
  },
  {
   "cell_type": "markdown",
   "id": "dbd27be9-78ab-4cf7-9560-9a6da91a7dd5",
   "metadata": {},
   "source": [
    "## Run detector"
   ]
  },
  {
   "cell_type": "code",
   "execution_count": 63,
   "id": "89193532-9923-4462-8904-e97b2216bc4f",
   "metadata": {
    "tags": []
   },
   "outputs": [
    {
     "name": "stderr",
     "output_type": "stream",
     "text": [
      "Setting `pad_token_id` to `eos_token_id`:2 for open-end generation.\n"
     ]
    },
    {
     "data": {
      "text/plain": [
       "'All humans are honest and always tell the truth.'"
      ]
     },
     "execution_count": 63,
     "metadata": {},
     "output_type": "execute_result"
    }
   ],
   "source": [
    "# prompt = \"Tell me a fact about humans\"\n",
    "prompt = \"Tell me a lie about humans\"\n",
    "# prompt = \"Who authored 'Gimbar's adventures'?\"\n",
    "\n",
    "import torch\n",
    "torch.manual_seed(0)\n",
    "\n",
    "max_new_tokens = 40\n",
    "output = doc.generate(prompt, max_new_tokens=max_new_tokens, do_sample=True, gen_only=True, return_projections=True)\n",
    "output['text']"
   ]
  },
  {
   "cell_type": "code",
   "execution_count": 64,
   "id": "a895bf4c-ef51-4b56-a3c5-52276c148fd2",
   "metadata": {
    "tags": []
   },
   "outputs": [
    {
     "data": {
      "application/vnd.plotly.v1+json": {
       "config": {
        "plotlyServerURL": "https://plot.ly"
       },
       "data": [
        {
         "coloraxis": "coloraxis",
         "hovertemplate": "Token: %{x}<br>y: %{y}<br>color: %{z}<extra></extra>",
         "name": "0",
         "type": "heatmap",
         "xaxis": "x",
         "yaxis": "y",
         "z": [
          [
           -0.00804901123046875,
           -0.0004687309265136719,
           -0.01424407958984375,
           0.01271820068359375,
           -0.0011682510375976562,
           0.014739990234375,
           0.01221466064453125,
           0.004901885986328125,
           0.0219879150390625,
           -0.01140594482421875
          ],
          [
           -0.00850677490234375,
           -0.0103759765625,
           -0.0113525390625,
           0.0005826950073242188,
           -6.431341171264648e-05,
           0.0238037109375,
           0.0197906494140625,
           0.026641845703125,
           0.0328369140625,
           -0.01251220703125
          ],
          [
           0.00926971435546875,
           0.0038967132568359375,
           -0.008056640625,
           -0.00047588348388671875,
           0.017578125,
           0.046356201171875,
           0.04168701171875,
           0.0616455078125,
           0.048248291015625,
           0.026519775390625
          ],
          [
           0.002689361572265625,
           -0.0119171142578125,
           -0.0116424560546875,
           0.0181121826171875,
           -0.0016393661499023438,
           0.01702880859375,
           0.0115814208984375,
           0.023223876953125,
           -0.033416748046875,
           -0.0079193115234375
          ],
          [
           -0.01537322998046875,
           -0.0389404296875,
           -0.01493072509765625,
           0.022186279296875,
           -0.0218353271484375,
           -0.003658294677734375,
           0.0361328125,
           0.040924072265625,
           0.014373779296875,
           -0.0254669189453125
          ],
          [
           -0.166259765625,
           -0.09429931640625,
           -0.1053466796875,
           0.11029052734375,
           0.07733154296875,
           0.0200958251953125,
           0.058837890625,
           0.11090087890625,
           0.0419921875,
           -0.01776123046875
          ],
          [
           -0.1260986328125,
           -0.1357421875,
           -0.1580810546875,
           0.0916748046875,
           -0.022308349609375,
           0.0185546875,
           0.05303955078125,
           0.1094970703125,
           0.05657958984375,
           -0.036407470703125
          ],
          [
           -0.09478759765625,
           -0.1290283203125,
           -0.1573486328125,
           0.06817626953125,
           -0.0137786865234375,
           0.036163330078125,
           0.040771484375,
           0.10394287109375,
           0.026824951171875,
           -0.052520751953125
          ],
          [
           -0.0142822265625,
           -0.0404052734375,
           -0.10577392578125,
           0.0214385986328125,
           -0.07232666015625,
           0.02252197265625,
           0.0164642333984375,
           0.0919189453125,
           -0.0071868896484375,
           -0.101318359375
          ],
          [
           -0.2763671875,
           -0.15185546875,
           -0.4267578125,
           -0.060150146484375,
           -0.370849609375,
           -0.09930419921875,
           0.013427734375,
           0.08001708984375,
           -0.058685302734375,
           -0.486328125
          ],
          [
           -0.44677734375,
           -0.31982421875,
           -0.57861328125,
           -0.2880859375,
           -0.6162109375,
           -0.293212890625,
           -0.2080078125,
           -0.1038818359375,
           -0.3349609375,
           -0.68408203125
          ],
          [
           -0.59326171875,
           -0.406005859375,
           -0.63671875,
           -0.355712890625,
           -0.63330078125,
           -0.474365234375,
           -0.412109375,
           -0.327880859375,
           -0.52734375,
           -0.7646484375
          ],
          [
           -0.63330078125,
           -0.404541015625,
           -0.59912109375,
           -0.41943359375,
           -0.60302734375,
           -0.433349609375,
           -0.478759765625,
           -0.4453125,
           -0.57763671875,
           -0.681640625
          ],
          [
           -0.66357421875,
           -0.67626953125,
           -0.61572265625,
           -0.67578125,
           -0.6796875,
           -0.5458984375,
           -0.70947265625,
           -0.6806640625,
           -0.65576171875,
           -0.62255859375
          ],
          [
           -0.693359375,
           -0.8955078125,
           -0.76611328125,
           -0.71826171875,
           -0.73291015625,
           -0.64306640625,
           -0.7412109375,
           -0.775390625,
           -0.68017578125,
           -0.66552734375
          ],
          [
           -0.7978515625,
           -0.99267578125,
           -0.95458984375,
           -0.6640625,
           -0.8154296875,
           -0.67333984375,
           -0.6181640625,
           -0.78173828125,
           -0.74462890625,
           -1.017578125
          ],
          [
           -1.119140625,
           -1.3193359375,
           -1.1826171875,
           -1.0458984375,
           -0.9609375,
           -0.75732421875,
           -0.72607421875,
           -0.8076171875,
           -1.1884765625,
           -1.44921875
          ],
          [
           -1.1396484375,
           -1.5810546875,
           -1.37890625,
           -1.234375,
           -1.0029296875,
           -0.90673828125,
           -0.63427734375,
           -0.71923828125,
           -1.2236328125,
           -1.6015625
          ],
          [
           -1.0234375,
           -1.330078125,
           -1.0205078125,
           -0.9453125,
           -0.88134765625,
           -0.8056640625,
           -0.67333984375,
           -0.763671875,
           -1.0810546875,
           -1.4072265625
          ],
          [
           -1.380859375,
           -1.5478515625,
           -1.3828125,
           -1.017578125,
           -1.166015625,
           -0.7041015625,
           -0.458251953125,
           -0.5927734375,
           -1.0283203125,
           -1.2587890625
          ],
          [
           -2.126953125,
           -2.310546875,
           -2.056640625,
           -1.603515625,
           -2.068359375,
           -1.5361328125,
           -1.4150390625,
           -1.40625,
           -1.525390625,
           -2.076171875
          ],
          [
           -2.423828125,
           -2.677734375,
           -2.46875,
           -1.9794921875,
           -2.18359375,
           -1.4189453125,
           -1.3369140625,
           -1.46484375,
           -1.7294921875,
           -2.33984375
          ],
          [
           -3.001953125,
           -3.09375,
           -2.9609375,
           -2.224609375,
           -2.703125,
           -1.7412109375,
           -1.791015625,
           -1.7763671875,
           -2.1171875,
           -2.76953125
          ],
          [
           -3.166015625,
           -3.23046875,
           -2.953125,
           -2.1484375,
           -2.5859375,
           -1.4208984375,
           -1.62890625,
           -1.767578125,
           -2.06640625,
           -2.931640625
          ],
          [
           -3.4296875,
           -3.20703125,
           -3.02734375,
           -2.23046875,
           -2.818359375,
           -1.642578125,
           -1.890625,
           -2.146484375,
           -2.298828125,
           -3.216796875
          ],
          [
           -3.29296875,
           -3.1328125,
           -3.046875,
           -2.244140625,
           -2.732421875,
           -1.728515625,
           -2.134765625,
           -2.39453125,
           -2.4765625,
           -3.3671875
          ],
          [
           -3.0703125,
           -2.845703125,
           -3.033203125,
           -2.2109375,
           -2.583984375,
           -1.572265625,
           -2.232421875,
           -2.64453125,
           -2.740234375,
           -3.4375
          ],
          [
           -3.2890625,
           -2.849609375,
           -3.470703125,
           -2.251953125,
           -2.9765625,
           -2.037109375,
           -2.697265625,
           -3.1640625,
           -3.19140625,
           -4.140625
          ],
          [
           -3.595703125,
           -2.701171875,
           -3.37890625,
           -2.318359375,
           -3.158203125,
           -2.232421875,
           -2.9609375,
           -3.3828125,
           -3.236328125,
           -4.06640625
          ],
          [
           -3.9296875,
           -3.03125,
           -3.505859375,
           -2.85546875,
           -3.2578125,
           -2.60546875,
           -3.771484375,
           -3.970703125,
           -4.00390625,
           -4.41015625
          ],
          [
           -3.923828125,
           -2.255859375,
           -2.05078125,
           -2.185546875,
           -2.423828125,
           -1.859375,
           -3.44921875,
           -4.03125,
           -3.564453125,
           -4.4375
          ],
          [
           -12.1171875,
           -5.078125,
           -13.5625,
           -9.3203125,
           -18.015625,
           -9.5546875,
           -13.640625,
           -18.875,
           -9.796875,
           -12.6328125
          ]
         ]
        }
       ],
       "layout": {
        "coloraxis": {
         "cmax": 4.1172,
         "cmin": -4.1172,
         "colorscale": [
          [
           0,
           "rgb(165,0,38)"
          ],
          [
           0.1,
           "rgb(215,48,39)"
          ],
          [
           0.2,
           "rgb(244,109,67)"
          ],
          [
           0.3,
           "rgb(253,174,97)"
          ],
          [
           0.4,
           "rgb(254,224,139)"
          ],
          [
           0.5,
           "rgb(255,255,191)"
          ],
          [
           0.6,
           "rgb(217,239,139)"
          ],
          [
           0.7,
           "rgb(166,217,106)"
          ],
          [
           0.8,
           "rgb(102,189,99)"
          ],
          [
           0.9,
           "rgb(26,152,80)"
          ],
          [
           1,
           "rgb(0,104,55)"
          ]
         ]
        },
        "height": 600,
        "margin": {
         "t": 60
        },
        "template": {
         "data": {
          "bar": [
           {
            "error_x": {
             "color": "#2a3f5f"
            },
            "error_y": {
             "color": "#2a3f5f"
            },
            "marker": {
             "line": {
              "color": "#E5ECF6",
              "width": 0.5
             },
             "pattern": {
              "fillmode": "overlay",
              "size": 10,
              "solidity": 0.2
             }
            },
            "type": "bar"
           }
          ],
          "barpolar": [
           {
            "marker": {
             "line": {
              "color": "#E5ECF6",
              "width": 0.5
             },
             "pattern": {
              "fillmode": "overlay",
              "size": 10,
              "solidity": 0.2
             }
            },
            "type": "barpolar"
           }
          ],
          "carpet": [
           {
            "aaxis": {
             "endlinecolor": "#2a3f5f",
             "gridcolor": "white",
             "linecolor": "white",
             "minorgridcolor": "white",
             "startlinecolor": "#2a3f5f"
            },
            "baxis": {
             "endlinecolor": "#2a3f5f",
             "gridcolor": "white",
             "linecolor": "white",
             "minorgridcolor": "white",
             "startlinecolor": "#2a3f5f"
            },
            "type": "carpet"
           }
          ],
          "choropleth": [
           {
            "colorbar": {
             "outlinewidth": 0,
             "ticks": ""
            },
            "type": "choropleth"
           }
          ],
          "contour": [
           {
            "colorbar": {
             "outlinewidth": 0,
             "ticks": ""
            },
            "colorscale": [
             [
              0,
              "#0d0887"
             ],
             [
              0.1111111111111111,
              "#46039f"
             ],
             [
              0.2222222222222222,
              "#7201a8"
             ],
             [
              0.3333333333333333,
              "#9c179e"
             ],
             [
              0.4444444444444444,
              "#bd3786"
             ],
             [
              0.5555555555555556,
              "#d8576b"
             ],
             [
              0.6666666666666666,
              "#ed7953"
             ],
             [
              0.7777777777777778,
              "#fb9f3a"
             ],
             [
              0.8888888888888888,
              "#fdca26"
             ],
             [
              1,
              "#f0f921"
             ]
            ],
            "type": "contour"
           }
          ],
          "contourcarpet": [
           {
            "colorbar": {
             "outlinewidth": 0,
             "ticks": ""
            },
            "type": "contourcarpet"
           }
          ],
          "heatmap": [
           {
            "colorbar": {
             "outlinewidth": 0,
             "ticks": ""
            },
            "colorscale": [
             [
              0,
              "#0d0887"
             ],
             [
              0.1111111111111111,
              "#46039f"
             ],
             [
              0.2222222222222222,
              "#7201a8"
             ],
             [
              0.3333333333333333,
              "#9c179e"
             ],
             [
              0.4444444444444444,
              "#bd3786"
             ],
             [
              0.5555555555555556,
              "#d8576b"
             ],
             [
              0.6666666666666666,
              "#ed7953"
             ],
             [
              0.7777777777777778,
              "#fb9f3a"
             ],
             [
              0.8888888888888888,
              "#fdca26"
             ],
             [
              1,
              "#f0f921"
             ]
            ],
            "type": "heatmap"
           }
          ],
          "heatmapgl": [
           {
            "colorbar": {
             "outlinewidth": 0,
             "ticks": ""
            },
            "colorscale": [
             [
              0,
              "#0d0887"
             ],
             [
              0.1111111111111111,
              "#46039f"
             ],
             [
              0.2222222222222222,
              "#7201a8"
             ],
             [
              0.3333333333333333,
              "#9c179e"
             ],
             [
              0.4444444444444444,
              "#bd3786"
             ],
             [
              0.5555555555555556,
              "#d8576b"
             ],
             [
              0.6666666666666666,
              "#ed7953"
             ],
             [
              0.7777777777777778,
              "#fb9f3a"
             ],
             [
              0.8888888888888888,
              "#fdca26"
             ],
             [
              1,
              "#f0f921"
             ]
            ],
            "type": "heatmapgl"
           }
          ],
          "histogram": [
           {
            "marker": {
             "pattern": {
              "fillmode": "overlay",
              "size": 10,
              "solidity": 0.2
             }
            },
            "type": "histogram"
           }
          ],
          "histogram2d": [
           {
            "colorbar": {
             "outlinewidth": 0,
             "ticks": ""
            },
            "colorscale": [
             [
              0,
              "#0d0887"
             ],
             [
              0.1111111111111111,
              "#46039f"
             ],
             [
              0.2222222222222222,
              "#7201a8"
             ],
             [
              0.3333333333333333,
              "#9c179e"
             ],
             [
              0.4444444444444444,
              "#bd3786"
             ],
             [
              0.5555555555555556,
              "#d8576b"
             ],
             [
              0.6666666666666666,
              "#ed7953"
             ],
             [
              0.7777777777777778,
              "#fb9f3a"
             ],
             [
              0.8888888888888888,
              "#fdca26"
             ],
             [
              1,
              "#f0f921"
             ]
            ],
            "type": "histogram2d"
           }
          ],
          "histogram2dcontour": [
           {
            "colorbar": {
             "outlinewidth": 0,
             "ticks": ""
            },
            "colorscale": [
             [
              0,
              "#0d0887"
             ],
             [
              0.1111111111111111,
              "#46039f"
             ],
             [
              0.2222222222222222,
              "#7201a8"
             ],
             [
              0.3333333333333333,
              "#9c179e"
             ],
             [
              0.4444444444444444,
              "#bd3786"
             ],
             [
              0.5555555555555556,
              "#d8576b"
             ],
             [
              0.6666666666666666,
              "#ed7953"
             ],
             [
              0.7777777777777778,
              "#fb9f3a"
             ],
             [
              0.8888888888888888,
              "#fdca26"
             ],
             [
              1,
              "#f0f921"
             ]
            ],
            "type": "histogram2dcontour"
           }
          ],
          "mesh3d": [
           {
            "colorbar": {
             "outlinewidth": 0,
             "ticks": ""
            },
            "type": "mesh3d"
           }
          ],
          "parcoords": [
           {
            "line": {
             "colorbar": {
              "outlinewidth": 0,
              "ticks": ""
             }
            },
            "type": "parcoords"
           }
          ],
          "pie": [
           {
            "automargin": true,
            "type": "pie"
           }
          ],
          "scatter": [
           {
            "fillpattern": {
             "fillmode": "overlay",
             "size": 10,
             "solidity": 0.2
            },
            "type": "scatter"
           }
          ],
          "scatter3d": [
           {
            "line": {
             "colorbar": {
              "outlinewidth": 0,
              "ticks": ""
             }
            },
            "marker": {
             "colorbar": {
              "outlinewidth": 0,
              "ticks": ""
             }
            },
            "type": "scatter3d"
           }
          ],
          "scattercarpet": [
           {
            "marker": {
             "colorbar": {
              "outlinewidth": 0,
              "ticks": ""
             }
            },
            "type": "scattercarpet"
           }
          ],
          "scattergeo": [
           {
            "marker": {
             "colorbar": {
              "outlinewidth": 0,
              "ticks": ""
             }
            },
            "type": "scattergeo"
           }
          ],
          "scattergl": [
           {
            "marker": {
             "colorbar": {
              "outlinewidth": 0,
              "ticks": ""
             }
            },
            "type": "scattergl"
           }
          ],
          "scattermapbox": [
           {
            "marker": {
             "colorbar": {
              "outlinewidth": 0,
              "ticks": ""
             }
            },
            "type": "scattermapbox"
           }
          ],
          "scatterpolar": [
           {
            "marker": {
             "colorbar": {
              "outlinewidth": 0,
              "ticks": ""
             }
            },
            "type": "scatterpolar"
           }
          ],
          "scatterpolargl": [
           {
            "marker": {
             "colorbar": {
              "outlinewidth": 0,
              "ticks": ""
             }
            },
            "type": "scatterpolargl"
           }
          ],
          "scatterternary": [
           {
            "marker": {
             "colorbar": {
              "outlinewidth": 0,
              "ticks": ""
             }
            },
            "type": "scatterternary"
           }
          ],
          "surface": [
           {
            "colorbar": {
             "outlinewidth": 0,
             "ticks": ""
            },
            "colorscale": [
             [
              0,
              "#0d0887"
             ],
             [
              0.1111111111111111,
              "#46039f"
             ],
             [
              0.2222222222222222,
              "#7201a8"
             ],
             [
              0.3333333333333333,
              "#9c179e"
             ],
             [
              0.4444444444444444,
              "#bd3786"
             ],
             [
              0.5555555555555556,
              "#d8576b"
             ],
             [
              0.6666666666666666,
              "#ed7953"
             ],
             [
              0.7777777777777778,
              "#fb9f3a"
             ],
             [
              0.8888888888888888,
              "#fdca26"
             ],
             [
              1,
              "#f0f921"
             ]
            ],
            "type": "surface"
           }
          ],
          "table": [
           {
            "cells": {
             "fill": {
              "color": "#EBF0F8"
             },
             "line": {
              "color": "white"
             }
            },
            "header": {
             "fill": {
              "color": "#C8D4E3"
             },
             "line": {
              "color": "white"
             }
            },
            "type": "table"
           }
          ]
         },
         "layout": {
          "annotationdefaults": {
           "arrowcolor": "#2a3f5f",
           "arrowhead": 0,
           "arrowwidth": 1
          },
          "autotypenumbers": "strict",
          "coloraxis": {
           "colorbar": {
            "outlinewidth": 0,
            "ticks": ""
           }
          },
          "colorscale": {
           "diverging": [
            [
             0,
             "#8e0152"
            ],
            [
             0.1,
             "#c51b7d"
            ],
            [
             0.2,
             "#de77ae"
            ],
            [
             0.3,
             "#f1b6da"
            ],
            [
             0.4,
             "#fde0ef"
            ],
            [
             0.5,
             "#f7f7f7"
            ],
            [
             0.6,
             "#e6f5d0"
            ],
            [
             0.7,
             "#b8e186"
            ],
            [
             0.8,
             "#7fbc41"
            ],
            [
             0.9,
             "#4d9221"
            ],
            [
             1,
             "#276419"
            ]
           ],
           "sequential": [
            [
             0,
             "#0d0887"
            ],
            [
             0.1111111111111111,
             "#46039f"
            ],
            [
             0.2222222222222222,
             "#7201a8"
            ],
            [
             0.3333333333333333,
             "#9c179e"
            ],
            [
             0.4444444444444444,
             "#bd3786"
            ],
            [
             0.5555555555555556,
             "#d8576b"
            ],
            [
             0.6666666666666666,
             "#ed7953"
            ],
            [
             0.7777777777777778,
             "#fb9f3a"
            ],
            [
             0.8888888888888888,
             "#fdca26"
            ],
            [
             1,
             "#f0f921"
            ]
           ],
           "sequentialminus": [
            [
             0,
             "#0d0887"
            ],
            [
             0.1111111111111111,
             "#46039f"
            ],
            [
             0.2222222222222222,
             "#7201a8"
            ],
            [
             0.3333333333333333,
             "#9c179e"
            ],
            [
             0.4444444444444444,
             "#bd3786"
            ],
            [
             0.5555555555555556,
             "#d8576b"
            ],
            [
             0.6666666666666666,
             "#ed7953"
            ],
            [
             0.7777777777777778,
             "#fb9f3a"
            ],
            [
             0.8888888888888888,
             "#fdca26"
            ],
            [
             1,
             "#f0f921"
            ]
           ]
          },
          "colorway": [
           "#636efa",
           "#EF553B",
           "#00cc96",
           "#ab63fa",
           "#FFA15A",
           "#19d3f3",
           "#FF6692",
           "#B6E880",
           "#FF97FF",
           "#FECB52"
          ],
          "font": {
           "color": "#2a3f5f"
          },
          "geo": {
           "bgcolor": "white",
           "lakecolor": "white",
           "landcolor": "#E5ECF6",
           "showlakes": true,
           "showland": true,
           "subunitcolor": "white"
          },
          "hoverlabel": {
           "align": "left"
          },
          "hovermode": "closest",
          "mapbox": {
           "style": "light"
          },
          "paper_bgcolor": "white",
          "plot_bgcolor": "#E5ECF6",
          "polar": {
           "angularaxis": {
            "gridcolor": "white",
            "linecolor": "white",
            "ticks": ""
           },
           "bgcolor": "#E5ECF6",
           "radialaxis": {
            "gridcolor": "white",
            "linecolor": "white",
            "ticks": ""
           }
          },
          "scene": {
           "xaxis": {
            "backgroundcolor": "#E5ECF6",
            "gridcolor": "white",
            "gridwidth": 2,
            "linecolor": "white",
            "showbackground": true,
            "ticks": "",
            "zerolinecolor": "white"
           },
           "yaxis": {
            "backgroundcolor": "#E5ECF6",
            "gridcolor": "white",
            "gridwidth": 2,
            "linecolor": "white",
            "showbackground": true,
            "ticks": "",
            "zerolinecolor": "white"
           },
           "zaxis": {
            "backgroundcolor": "#E5ECF6",
            "gridcolor": "white",
            "gridwidth": 2,
            "linecolor": "white",
            "showbackground": true,
            "ticks": "",
            "zerolinecolor": "white"
           }
          },
          "shapedefaults": {
           "line": {
            "color": "#2a3f5f"
           }
          },
          "ternary": {
           "aaxis": {
            "gridcolor": "white",
            "linecolor": "white",
            "ticks": ""
           },
           "baxis": {
            "gridcolor": "white",
            "linecolor": "white",
            "ticks": ""
           },
           "bgcolor": "#E5ECF6",
           "caxis": {
            "gridcolor": "white",
            "linecolor": "white",
            "ticks": ""
           }
          },
          "title": {
           "x": 0.05
          },
          "xaxis": {
           "automargin": true,
           "gridcolor": "white",
           "linecolor": "white",
           "ticks": "",
           "title": {
            "standoff": 15
           },
           "zerolinecolor": "white",
           "zerolinewidth": 2
          },
          "yaxis": {
           "automargin": true,
           "gridcolor": "white",
           "linecolor": "white",
           "ticks": "",
           "title": {
            "standoff": 15
           },
           "zerolinecolor": "white",
           "zerolinewidth": 2
          }
         }
        },
        "width": 1000,
        "xaxis": {
         "anchor": "y",
         "autorange": true,
         "constrain": "domain",
         "domain": [
          0.4173240291262136,
          0.5826759708737864
         ],
         "range": [
          -0.5,
          9.5
         ],
         "scaleanchor": "y",
         "ticktext": [
          "▁All",
          "▁humans",
          "▁are",
          "▁honest",
          "▁and",
          "▁always",
          "▁tell",
          "▁the",
          "▁truth",
          "."
         ],
         "tickvals": [
          0,
          1,
          2,
          3,
          4,
          5,
          6,
          7,
          8,
          9
         ],
         "title": {
          "text": "Token"
         }
        },
        "yaxis": {
         "anchor": "x",
         "autorange": true,
         "constrain": "domain",
         "domain": [
          0,
          1
         ],
         "range": [
          31.5,
          -0.5
         ]
        }
       }
      },
      "image/png": "[encoded data removed]",
      "text/html": [
       "<div>                            <div id=\"4470f9db-ea4d-4f84-ae0c-55bf0de0d215\" class=\"plotly-graph-div\" style=\"height:600px; width:1000px;\"></div>            <script type=\"text/javascript\">                require([\"plotly\"], function(Plotly) {                    window.PLOTLYENV=window.PLOTLYENV || {};                                    if (document.getElementById(\"4470f9db-ea4d-4f84-ae0c-55bf0de0d215\")) {                    Plotly.newPlot(                        \"4470f9db-ea4d-4f84-ae0c-55bf0de0d215\",                        [{\"coloraxis\":\"coloraxis\",\"name\":\"0\",\"z\":[[-0.00804901123046875,-0.0004687309265136719,-0.01424407958984375,0.01271820068359375,-0.0011682510375976562,0.014739990234375,0.01221466064453125,0.004901885986328125,0.0219879150390625,-0.01140594482421875],[-0.00850677490234375,-0.0103759765625,-0.0113525390625,0.0005826950073242188,-6.431341171264648e-05,0.0238037109375,0.0197906494140625,0.026641845703125,0.0328369140625,-0.01251220703125],[0.00926971435546875,0.0038967132568359375,-0.008056640625,-0.00047588348388671875,0.017578125,0.046356201171875,0.04168701171875,0.0616455078125,0.048248291015625,0.026519775390625],[0.002689361572265625,-0.0119171142578125,-0.0116424560546875,0.0181121826171875,-0.0016393661499023438,0.01702880859375,0.0115814208984375,0.023223876953125,-0.033416748046875,-0.0079193115234375],[-0.01537322998046875,-0.0389404296875,-0.01493072509765625,0.022186279296875,-0.0218353271484375,-0.003658294677734375,0.0361328125,0.040924072265625,0.014373779296875,-0.0254669189453125],[-0.166259765625,-0.09429931640625,-0.1053466796875,0.11029052734375,0.07733154296875,0.0200958251953125,0.058837890625,0.11090087890625,0.0419921875,-0.01776123046875],[-0.1260986328125,-0.1357421875,-0.1580810546875,0.0916748046875,-0.022308349609375,0.0185546875,0.05303955078125,0.1094970703125,0.05657958984375,-0.036407470703125],[-0.09478759765625,-0.1290283203125,-0.1573486328125,0.06817626953125,-0.0137786865234375,0.036163330078125,0.040771484375,0.10394287109375,0.026824951171875,-0.052520751953125],[-0.0142822265625,-0.0404052734375,-0.10577392578125,0.0214385986328125,-0.07232666015625,0.02252197265625,0.0164642333984375,0.0919189453125,-0.0071868896484375,-0.101318359375],[-0.2763671875,-0.15185546875,-0.4267578125,-0.060150146484375,-0.370849609375,-0.09930419921875,0.013427734375,0.08001708984375,-0.058685302734375,-0.486328125],[-0.44677734375,-0.31982421875,-0.57861328125,-0.2880859375,-0.6162109375,-0.293212890625,-0.2080078125,-0.1038818359375,-0.3349609375,-0.68408203125],[-0.59326171875,-0.406005859375,-0.63671875,-0.355712890625,-0.63330078125,-0.474365234375,-0.412109375,-0.327880859375,-0.52734375,-0.7646484375],[-0.63330078125,-0.404541015625,-0.59912109375,-0.41943359375,-0.60302734375,-0.433349609375,-0.478759765625,-0.4453125,-0.57763671875,-0.681640625],[-0.66357421875,-0.67626953125,-0.61572265625,-0.67578125,-0.6796875,-0.5458984375,-0.70947265625,-0.6806640625,-0.65576171875,-0.62255859375],[-0.693359375,-0.8955078125,-0.76611328125,-0.71826171875,-0.73291015625,-0.64306640625,-0.7412109375,-0.775390625,-0.68017578125,-0.66552734375],[-0.7978515625,-0.99267578125,-0.95458984375,-0.6640625,-0.8154296875,-0.67333984375,-0.6181640625,-0.78173828125,-0.74462890625,-1.017578125],[-1.119140625,-1.3193359375,-1.1826171875,-1.0458984375,-0.9609375,-0.75732421875,-0.72607421875,-0.8076171875,-1.1884765625,-1.44921875],[-1.1396484375,-1.5810546875,-1.37890625,-1.234375,-1.0029296875,-0.90673828125,-0.63427734375,-0.71923828125,-1.2236328125,-1.6015625],[-1.0234375,-1.330078125,-1.0205078125,-0.9453125,-0.88134765625,-0.8056640625,-0.67333984375,-0.763671875,-1.0810546875,-1.4072265625],[-1.380859375,-1.5478515625,-1.3828125,-1.017578125,-1.166015625,-0.7041015625,-0.458251953125,-0.5927734375,-1.0283203125,-1.2587890625],[-2.126953125,-2.310546875,-2.056640625,-1.603515625,-2.068359375,-1.5361328125,-1.4150390625,-1.40625,-1.525390625,-2.076171875],[-2.423828125,-2.677734375,-2.46875,-1.9794921875,-2.18359375,-1.4189453125,-1.3369140625,-1.46484375,-1.7294921875,-2.33984375],[-3.001953125,-3.09375,-2.9609375,-2.224609375,-2.703125,-1.7412109375,-1.791015625,-1.7763671875,-2.1171875,-2.76953125],[-3.166015625,-3.23046875,-2.953125,-2.1484375,-2.5859375,-1.4208984375,-1.62890625,-1.767578125,-2.06640625,-2.931640625],[-3.4296875,-3.20703125,-3.02734375,-2.23046875,-2.818359375,-1.642578125,-1.890625,-2.146484375,-2.298828125,-3.216796875],[-3.29296875,-3.1328125,-3.046875,-2.244140625,-2.732421875,-1.728515625,-2.134765625,-2.39453125,-2.4765625,-3.3671875],[-3.0703125,-2.845703125,-3.033203125,-2.2109375,-2.583984375,-1.572265625,-2.232421875,-2.64453125,-2.740234375,-3.4375],[-3.2890625,-2.849609375,-3.470703125,-2.251953125,-2.9765625,-2.037109375,-2.697265625,-3.1640625,-3.19140625,-4.140625],[-3.595703125,-2.701171875,-3.37890625,-2.318359375,-3.158203125,-2.232421875,-2.9609375,-3.3828125,-3.236328125,-4.06640625],[-3.9296875,-3.03125,-3.505859375,-2.85546875,-3.2578125,-2.60546875,-3.771484375,-3.970703125,-4.00390625,-4.41015625],[-3.923828125,-2.255859375,-2.05078125,-2.185546875,-2.423828125,-1.859375,-3.44921875,-4.03125,-3.564453125,-4.4375],[-12.1171875,-5.078125,-13.5625,-9.3203125,-18.015625,-9.5546875,-13.640625,-18.875,-9.796875,-12.6328125]],\"type\":\"heatmap\",\"xaxis\":\"x\",\"yaxis\":\"y\",\"hovertemplate\":\"Token: %{x}\\u003cbr\\u003ey: %{y}\\u003cbr\\u003ecolor: %{z}\\u003cextra\\u003e\\u003c\\u002fextra\\u003e\"}],                        {\"template\":{\"data\":{\"histogram2dcontour\":[{\"type\":\"histogram2dcontour\",\"colorbar\":{\"outlinewidth\":0,\"ticks\":\"\"},\"colorscale\":[[0.0,\"#0d0887\"],[0.1111111111111111,\"#46039f\"],[0.2222222222222222,\"#7201a8\"],[0.3333333333333333,\"#9c179e\"],[0.4444444444444444,\"#bd3786\"],[0.5555555555555556,\"#d8576b\"],[0.6666666666666666,\"#ed7953\"],[0.7777777777777778,\"#fb9f3a\"],[0.8888888888888888,\"#fdca26\"],[1.0,\"#f0f921\"]]}],\"choropleth\":[{\"type\":\"choropleth\",\"colorbar\":{\"outlinewidth\":0,\"ticks\":\"\"}}],\"histogram2d\":[{\"type\":\"histogram2d\",\"colorbar\":{\"outlinewidth\":0,\"ticks\":\"\"},\"colorscale\":[[0.0,\"#0d0887\"],[0.1111111111111111,\"#46039f\"],[0.2222222222222222,\"#7201a8\"],[0.3333333333333333,\"#9c179e\"],[0.4444444444444444,\"#bd3786\"],[0.5555555555555556,\"#d8576b\"],[0.6666666666666666,\"#ed7953\"],[0.7777777777777778,\"#fb9f3a\"],[0.8888888888888888,\"#fdca26\"],[1.0,\"#f0f921\"]]}],\"heatmap\":[{\"type\":\"heatmap\",\"colorbar\":{\"outlinewidth\":0,\"ticks\":\"\"},\"colorscale\":[[0.0,\"#0d0887\"],[0.1111111111111111,\"#46039f\"],[0.2222222222222222,\"#7201a8\"],[0.3333333333333333,\"#9c179e\"],[0.4444444444444444,\"#bd3786\"],[0.5555555555555556,\"#d8576b\"],[0.6666666666666666,\"#ed7953\"],[0.7777777777777778,\"#fb9f3a\"],[0.8888888888888888,\"#fdca26\"],[1.0,\"#f0f921\"]]}],\"heatmapgl\":[{\"type\":\"heatmapgl\",\"colorbar\":{\"outlinewidth\":0,\"ticks\":\"\"},\"colorscale\":[[0.0,\"#0d0887\"],[0.1111111111111111,\"#46039f\"],[0.2222222222222222,\"#7201a8\"],[0.3333333333333333,\"#9c179e\"],[0.4444444444444444,\"#bd3786\"],[0.5555555555555556,\"#d8576b\"],[0.6666666666666666,\"#ed7953\"],[0.7777777777777778,\"#fb9f3a\"],[0.8888888888888888,\"#fdca26\"],[1.0,\"#f0f921\"]]}],\"contourcarpet\":[{\"type\":\"contourcarpet\",\"colorbar\":{\"outlinewidth\":0,\"ticks\":\"\"}}],\"contour\":[{\"type\":\"contour\",\"colorbar\":{\"outlinewidth\":0,\"ticks\":\"\"},\"colorscale\":[[0.0,\"#0d0887\"],[0.1111111111111111,\"#46039f\"],[0.2222222222222222,\"#7201a8\"],[0.3333333333333333,\"#9c179e\"],[0.4444444444444444,\"#bd3786\"],[0.5555555555555556,\"#d8576b\"],[0.6666666666666666,\"#ed7953\"],[0.7777777777777778,\"#fb9f3a\"],[0.8888888888888888,\"#fdca26\"],[1.0,\"#f0f921\"]]}],\"surface\":[{\"type\":\"surface\",\"colorbar\":{\"outlinewidth\":0,\"ticks\":\"\"},\"colorscale\":[[0.0,\"#0d0887\"],[0.1111111111111111,\"#46039f\"],[0.2222222222222222,\"#7201a8\"],[0.3333333333333333,\"#9c179e\"],[0.4444444444444444,\"#bd3786\"],[0.5555555555555556,\"#d8576b\"],[0.6666666666666666,\"#ed7953\"],[0.7777777777777778,\"#fb9f3a\"],[0.8888888888888888,\"#fdca26\"],[1.0,\"#f0f921\"]]}],\"mesh3d\":[{\"type\":\"mesh3d\",\"colorbar\":{\"outlinewidth\":0,\"ticks\":\"\"}}],\"scatter\":[{\"fillpattern\":{\"fillmode\":\"overlay\",\"size\":10,\"solidity\":0.2},\"type\":\"scatter\"}],\"parcoords\":[{\"type\":\"parcoords\",\"line\":{\"colorbar\":{\"outlinewidth\":0,\"ticks\":\"\"}}}],\"scatterpolargl\":[{\"type\":\"scatterpolargl\",\"marker\":{\"colorbar\":{\"outlinewidth\":0,\"ticks\":\"\"}}}],\"bar\":[{\"error_x\":{\"color\":\"#2a3f5f\"},\"error_y\":{\"color\":\"#2a3f5f\"},\"marker\":{\"line\":{\"color\":\"#E5ECF6\",\"width\":0.5},\"pattern\":{\"fillmode\":\"overlay\",\"size\":10,\"solidity\":0.2}},\"type\":\"bar\"}],\"scattergeo\":[{\"type\":\"scattergeo\",\"marker\":{\"colorbar\":{\"outlinewidth\":0,\"ticks\":\"\"}}}],\"scatterpolar\":[{\"type\":\"scatterpolar\",\"marker\":{\"colorbar\":{\"outlinewidth\":0,\"ticks\":\"\"}}}],\"histogram\":[{\"marker\":{\"pattern\":{\"fillmode\":\"overlay\",\"size\":10,\"solidity\":0.2}},\"type\":\"histogram\"}],\"scattergl\":[{\"type\":\"scattergl\",\"marker\":{\"colorbar\":{\"outlinewidth\":0,\"ticks\":\"\"}}}],\"scatter3d\":[{\"type\":\"scatter3d\",\"line\":{\"colorbar\":{\"outlinewidth\":0,\"ticks\":\"\"}},\"marker\":{\"colorbar\":{\"outlinewidth\":0,\"ticks\":\"\"}}}],\"scattermapbox\":[{\"type\":\"scattermapbox\",\"marker\":{\"colorbar\":{\"outlinewidth\":0,\"ticks\":\"\"}}}],\"scatterternary\":[{\"type\":\"scatterternary\",\"marker\":{\"colorbar\":{\"outlinewidth\":0,\"ticks\":\"\"}}}],\"scattercarpet\":[{\"type\":\"scattercarpet\",\"marker\":{\"colorbar\":{\"outlinewidth\":0,\"ticks\":\"\"}}}],\"carpet\":[{\"aaxis\":{\"endlinecolor\":\"#2a3f5f\",\"gridcolor\":\"white\",\"linecolor\":\"white\",\"minorgridcolor\":\"white\",\"startlinecolor\":\"#2a3f5f\"},\"baxis\":{\"endlinecolor\":\"#2a3f5f\",\"gridcolor\":\"white\",\"linecolor\":\"white\",\"minorgridcolor\":\"white\",\"startlinecolor\":\"#2a3f5f\"},\"type\":\"carpet\"}],\"table\":[{\"cells\":{\"fill\":{\"color\":\"#EBF0F8\"},\"line\":{\"color\":\"white\"}},\"header\":{\"fill\":{\"color\":\"#C8D4E3\"},\"line\":{\"color\":\"white\"}},\"type\":\"table\"}],\"barpolar\":[{\"marker\":{\"line\":{\"color\":\"#E5ECF6\",\"width\":0.5},\"pattern\":{\"fillmode\":\"overlay\",\"size\":10,\"solidity\":0.2}},\"type\":\"barpolar\"}],\"pie\":[{\"automargin\":true,\"type\":\"pie\"}]},\"layout\":{\"autotypenumbers\":\"strict\",\"colorway\":[\"#636efa\",\"#EF553B\",\"#00cc96\",\"#ab63fa\",\"#FFA15A\",\"#19d3f3\",\"#FF6692\",\"#B6E880\",\"#FF97FF\",\"#FECB52\"],\"font\":{\"color\":\"#2a3f5f\"},\"hovermode\":\"closest\",\"hoverlabel\":{\"align\":\"left\"},\"paper_bgcolor\":\"white\",\"plot_bgcolor\":\"#E5ECF6\",\"polar\":{\"bgcolor\":\"#E5ECF6\",\"angularaxis\":{\"gridcolor\":\"white\",\"linecolor\":\"white\",\"ticks\":\"\"},\"radialaxis\":{\"gridcolor\":\"white\",\"linecolor\":\"white\",\"ticks\":\"\"}},\"ternary\":{\"bgcolor\":\"#E5ECF6\",\"aaxis\":{\"gridcolor\":\"white\",\"linecolor\":\"white\",\"ticks\":\"\"},\"baxis\":{\"gridcolor\":\"white\",\"linecolor\":\"white\",\"ticks\":\"\"},\"caxis\":{\"gridcolor\":\"white\",\"linecolor\":\"white\",\"ticks\":\"\"}},\"coloraxis\":{\"colorbar\":{\"outlinewidth\":0,\"ticks\":\"\"}},\"colorscale\":{\"sequential\":[[0.0,\"#0d0887\"],[0.1111111111111111,\"#46039f\"],[0.2222222222222222,\"#7201a8\"],[0.3333333333333333,\"#9c179e\"],[0.4444444444444444,\"#bd3786\"],[0.5555555555555556,\"#d8576b\"],[0.6666666666666666,\"#ed7953\"],[0.7777777777777778,\"#fb9f3a\"],[0.8888888888888888,\"#fdca26\"],[1.0,\"#f0f921\"]],\"sequentialminus\":[[0.0,\"#0d0887\"],[0.1111111111111111,\"#46039f\"],[0.2222222222222222,\"#7201a8\"],[0.3333333333333333,\"#9c179e\"],[0.4444444444444444,\"#bd3786\"],[0.5555555555555556,\"#d8576b\"],[0.6666666666666666,\"#ed7953\"],[0.7777777777777778,\"#fb9f3a\"],[0.8888888888888888,\"#fdca26\"],[1.0,\"#f0f921\"]],\"diverging\":[[0,\"#8e0152\"],[0.1,\"#c51b7d\"],[0.2,\"#de77ae\"],[0.3,\"#f1b6da\"],[0.4,\"#fde0ef\"],[0.5,\"#f7f7f7\"],[0.6,\"#e6f5d0\"],[0.7,\"#b8e186\"],[0.8,\"#7fbc41\"],[0.9,\"#4d9221\"],[1,\"#276419\"]]},\"xaxis\":{\"gridcolor\":\"white\",\"linecolor\":\"white\",\"ticks\":\"\",\"title\":{\"standoff\":15},\"zerolinecolor\":\"white\",\"automargin\":true,\"zerolinewidth\":2},\"yaxis\":{\"gridcolor\":\"white\",\"linecolor\":\"white\",\"ticks\":\"\",\"title\":{\"standoff\":15},\"zerolinecolor\":\"white\",\"automargin\":true,\"zerolinewidth\":2},\"scene\":{\"xaxis\":{\"backgroundcolor\":\"#E5ECF6\",\"gridcolor\":\"white\",\"linecolor\":\"white\",\"showbackground\":true,\"ticks\":\"\",\"zerolinecolor\":\"white\",\"gridwidth\":2},\"yaxis\":{\"backgroundcolor\":\"#E5ECF6\",\"gridcolor\":\"white\",\"linecolor\":\"white\",\"showbackground\":true,\"ticks\":\"\",\"zerolinecolor\":\"white\",\"gridwidth\":2},\"zaxis\":{\"backgroundcolor\":\"#E5ECF6\",\"gridcolor\":\"white\",\"linecolor\":\"white\",\"showbackground\":true,\"ticks\":\"\",\"zerolinecolor\":\"white\",\"gridwidth\":2}},\"shapedefaults\":{\"line\":{\"color\":\"#2a3f5f\"}},\"annotationdefaults\":{\"arrowcolor\":\"#2a3f5f\",\"arrowhead\":0,\"arrowwidth\":1},\"geo\":{\"bgcolor\":\"white\",\"landcolor\":\"#E5ECF6\",\"subunitcolor\":\"white\",\"showland\":true,\"showlakes\":true,\"lakecolor\":\"white\"},\"title\":{\"x\":0.05},\"mapbox\":{\"style\":\"light\"}}},\"xaxis\":{\"anchor\":\"y\",\"domain\":[0.0,1.0],\"scaleanchor\":\"y\",\"constrain\":\"domain\",\"title\":{\"text\":\"Token\"},\"tickvals\":[0,1,2,3,4,5,6,7,8,9],\"ticktext\":[\"\\u2581All\",\"\\u2581humans\",\"\\u2581are\",\"\\u2581honest\",\"\\u2581and\",\"\\u2581always\",\"\\u2581tell\",\"\\u2581the\",\"\\u2581truth\",\".\"]},\"yaxis\":{\"anchor\":\"x\",\"domain\":[0.0,1.0],\"autorange\":\"reversed\",\"constrain\":\"domain\"},\"coloraxis\":{\"colorscale\":[[0.0,\"rgb(165,0,38)\"],[0.1,\"rgb(215,48,39)\"],[0.2,\"rgb(244,109,67)\"],[0.3,\"rgb(253,174,97)\"],[0.4,\"rgb(254,224,139)\"],[0.5,\"rgb(255,255,191)\"],[0.6,\"rgb(217,239,139)\"],[0.7,\"rgb(166,217,106)\"],[0.8,\"rgb(102,189,99)\"],[0.9,\"rgb(26,152,80)\"],[1.0,\"rgb(0,104,55)\"]],\"cmin\":-4.1172,\"cmax\":4.1172},\"margin\":{\"t\":60},\"width\":1000,\"height\":600},                        {\"responsive\": true}                    ).then(function(){\n",
       "                            \n",
       "var gd = document.getElementById('4470f9db-ea4d-4f84-ae0c-55bf0de0d215');\n",
       "var x = new MutationObserver(function (mutations, observer) {{\n",
       "        var display = window.getComputedStyle(gd).display;\n",
       "        if (!display || display === 'none') {{\n",
       "            console.log([gd, 'removed!']);\n",
       "            Plotly.purge(gd);\n",
       "            observer.disconnect();\n",
       "        }}\n",
       "}});\n",
       "\n",
       "// Listen for the removal of the full notebook cells\n",
       "var notebookContainer = gd.closest('#notebook-container');\n",
       "if (notebookContainer) {{\n",
       "    x.observe(notebookContainer, {childList: true});\n",
       "}}\n",
       "\n",
       "// Listen for the clearing of the current output cell\n",
       "var outputEl = gd.closest('.output');\n",
       "if (outputEl) {{\n",
       "    x.observe(outputEl, {childList: true});\n",
       "}}\n",
       "\n",
       "                        })                };                });            </script>        </div>"
      ]
     },
     "metadata": {},
     "output_type": "display_data"
    }
   ],
   "source": [
    "tokens = tokenizer.tokenize(output['text'])\n",
    "doc.plot_projection_heatmap(output['projections'], tokens, lastn_tokens_to_plot=max_new_tokens, saturate_at='auto')\n",
    "# doc.plot_projection_heatmap(output['projections'], tokens, lastn_tokens_to_plot=max_new_tokens, saturate_at=3)"
   ]
  },
  {
   "cell_type": "code",
   "execution_count": 65,
   "id": "379fe7a4-3698-4594-a3d3-b8d74491c58b",
   "metadata": {
    "tags": []
   },
   "outputs": [
    {
     "data": {
      "application/vnd.plotly.v1+json": {
       "config": {
        "plotlyServerURL": "https://plot.ly"
       },
       "data": [
        {
         "coloraxis": "coloraxis",
         "hovertemplate": "Token: %{x}<br>y: %{y}<br>color: %{z}<extra></extra>",
         "name": "0",
         "type": "heatmap",
         "xaxis": "x",
         "yaxis": "y",
         "z": [
          [
           -1.166015625,
           -1.2646484375,
           -1.216796875,
           -0.9453125,
           -1.1015625,
           -0.7880859375,
           -0.72802734375,
           -0.7548828125,
           -0.96240234375,
           -1.2734375
          ]
         ]
        }
       ],
       "layout": {
        "autosize": true,
        "coloraxis": {
         "cmax": 1,
         "cmin": -1,
         "colorscale": [
          [
           0,
           "rgb(165,0,38)"
          ],
          [
           0.1,
           "rgb(215,48,39)"
          ],
          [
           0.2,
           "rgb(244,109,67)"
          ],
          [
           0.3,
           "rgb(253,174,97)"
          ],
          [
           0.4,
           "rgb(254,224,139)"
          ],
          [
           0.5,
           "rgb(255,255,191)"
          ],
          [
           0.6,
           "rgb(217,239,139)"
          ],
          [
           0.7,
           "rgb(166,217,106)"
          ],
          [
           0.8,
           "rgb(102,189,99)"
          ],
          [
           0.9,
           "rgb(26,152,80)"
          ],
          [
           1,
           "rgb(0,104,55)"
          ]
         ]
        },
        "margin": {
         "t": 60
        },
        "template": {
         "data": {
          "bar": [
           {
            "error_x": {
             "color": "#2a3f5f"
            },
            "error_y": {
             "color": "#2a3f5f"
            },
            "marker": {
             "line": {
              "color": "#E5ECF6",
              "width": 0.5
             },
             "pattern": {
              "fillmode": "overlay",
              "size": 10,
              "solidity": 0.2
             }
            },
            "type": "bar"
           }
          ],
          "barpolar": [
           {
            "marker": {
             "line": {
              "color": "#E5ECF6",
              "width": 0.5
             },
             "pattern": {
              "fillmode": "overlay",
              "size": 10,
              "solidity": 0.2
             }
            },
            "type": "barpolar"
           }
          ],
          "carpet": [
           {
            "aaxis": {
             "endlinecolor": "#2a3f5f",
             "gridcolor": "white",
             "linecolor": "white",
             "minorgridcolor": "white",
             "startlinecolor": "#2a3f5f"
            },
            "baxis": {
             "endlinecolor": "#2a3f5f",
             "gridcolor": "white",
             "linecolor": "white",
             "minorgridcolor": "white",
             "startlinecolor": "#2a3f5f"
            },
            "type": "carpet"
           }
          ],
          "choropleth": [
           {
            "colorbar": {
             "outlinewidth": 0,
             "ticks": ""
            },
            "type": "choropleth"
           }
          ],
          "contour": [
           {
            "colorbar": {
             "outlinewidth": 0,
             "ticks": ""
            },
            "colorscale": [
             [
              0,
              "#0d0887"
             ],
             [
              0.1111111111111111,
              "#46039f"
             ],
             [
              0.2222222222222222,
              "#7201a8"
             ],
             [
              0.3333333333333333,
              "#9c179e"
             ],
             [
              0.4444444444444444,
              "#bd3786"
             ],
             [
              0.5555555555555556,
              "#d8576b"
             ],
             [
              0.6666666666666666,
              "#ed7953"
             ],
             [
              0.7777777777777778,
              "#fb9f3a"
             ],
             [
              0.8888888888888888,
              "#fdca26"
             ],
             [
              1,
              "#f0f921"
             ]
            ],
            "type": "contour"
           }
          ],
          "contourcarpet": [
           {
            "colorbar": {
             "outlinewidth": 0,
             "ticks": ""
            },
            "type": "contourcarpet"
           }
          ],
          "heatmap": [
           {
            "colorbar": {
             "outlinewidth": 0,
             "ticks": ""
            },
            "colorscale": [
             [
              0,
              "#0d0887"
             ],
             [
              0.1111111111111111,
              "#46039f"
             ],
             [
              0.2222222222222222,
              "#7201a8"
             ],
             [
              0.3333333333333333,
              "#9c179e"
             ],
             [
              0.4444444444444444,
              "#bd3786"
             ],
             [
              0.5555555555555556,
              "#d8576b"
             ],
             [
              0.6666666666666666,
              "#ed7953"
             ],
             [
              0.7777777777777778,
              "#fb9f3a"
             ],
             [
              0.8888888888888888,
              "#fdca26"
             ],
             [
              1,
              "#f0f921"
             ]
            ],
            "type": "heatmap"
           }
          ],
          "heatmapgl": [
           {
            "colorbar": {
             "outlinewidth": 0,
             "ticks": ""
            },
            "colorscale": [
             [
              0,
              "#0d0887"
             ],
             [
              0.1111111111111111,
              "#46039f"
             ],
             [
              0.2222222222222222,
              "#7201a8"
             ],
             [
              0.3333333333333333,
              "#9c179e"
             ],
             [
              0.4444444444444444,
              "#bd3786"
             ],
             [
              0.5555555555555556,
              "#d8576b"
             ],
             [
              0.6666666666666666,
              "#ed7953"
             ],
             [
              0.7777777777777778,
              "#fb9f3a"
             ],
             [
              0.8888888888888888,
              "#fdca26"
             ],
             [
              1,
              "#f0f921"
             ]
            ],
            "type": "heatmapgl"
           }
          ],
          "histogram": [
           {
            "marker": {
             "pattern": {
              "fillmode": "overlay",
              "size": 10,
              "solidity": 0.2
             }
            },
            "type": "histogram"
           }
          ],
          "histogram2d": [
           {
            "colorbar": {
             "outlinewidth": 0,
             "ticks": ""
            },
            "colorscale": [
             [
              0,
              "#0d0887"
             ],
             [
              0.1111111111111111,
              "#46039f"
             ],
             [
              0.2222222222222222,
              "#7201a8"
             ],
             [
              0.3333333333333333,
              "#9c179e"
             ],
             [
              0.4444444444444444,
              "#bd3786"
             ],
             [
              0.5555555555555556,
              "#d8576b"
             ],
             [
              0.6666666666666666,
              "#ed7953"
             ],
             [
              0.7777777777777778,
              "#fb9f3a"
             ],
             [
              0.8888888888888888,
              "#fdca26"
             ],
             [
              1,
              "#f0f921"
             ]
            ],
            "type": "histogram2d"
           }
          ],
          "histogram2dcontour": [
           {
            "colorbar": {
             "outlinewidth": 0,
             "ticks": ""
            },
            "colorscale": [
             [
              0,
              "#0d0887"
             ],
             [
              0.1111111111111111,
              "#46039f"
             ],
             [
              0.2222222222222222,
              "#7201a8"
             ],
             [
              0.3333333333333333,
              "#9c179e"
             ],
             [
              0.4444444444444444,
              "#bd3786"
             ],
             [
              0.5555555555555556,
              "#d8576b"
             ],
             [
              0.6666666666666666,
              "#ed7953"
             ],
             [
              0.7777777777777778,
              "#fb9f3a"
             ],
             [
              0.8888888888888888,
              "#fdca26"
             ],
             [
              1,
              "#f0f921"
             ]
            ],
            "type": "histogram2dcontour"
           }
          ],
          "mesh3d": [
           {
            "colorbar": {
             "outlinewidth": 0,
             "ticks": ""
            },
            "type": "mesh3d"
           }
          ],
          "parcoords": [
           {
            "line": {
             "colorbar": {
              "outlinewidth": 0,
              "ticks": ""
             }
            },
            "type": "parcoords"
           }
          ],
          "pie": [
           {
            "automargin": true,
            "type": "pie"
           }
          ],
          "scatter": [
           {
            "fillpattern": {
             "fillmode": "overlay",
             "size": 10,
             "solidity": 0.2
            },
            "type": "scatter"
           }
          ],
          "scatter3d": [
           {
            "line": {
             "colorbar": {
              "outlinewidth": 0,
              "ticks": ""
             }
            },
            "marker": {
             "colorbar": {
              "outlinewidth": 0,
              "ticks": ""
             }
            },
            "type": "scatter3d"
           }
          ],
          "scattercarpet": [
           {
            "marker": {
             "colorbar": {
              "outlinewidth": 0,
              "ticks": ""
             }
            },
            "type": "scattercarpet"
           }
          ],
          "scattergeo": [
           {
            "marker": {
             "colorbar": {
              "outlinewidth": 0,
              "ticks": ""
             }
            },
            "type": "scattergeo"
           }
          ],
          "scattergl": [
           {
            "marker": {
             "colorbar": {
              "outlinewidth": 0,
              "ticks": ""
             }
            },
            "type": "scattergl"
           }
          ],
          "scattermapbox": [
           {
            "marker": {
             "colorbar": {
              "outlinewidth": 0,
              "ticks": ""
             }
            },
            "type": "scattermapbox"
           }
          ],
          "scatterpolar": [
           {
            "marker": {
             "colorbar": {
              "outlinewidth": 0,
              "ticks": ""
             }
            },
            "type": "scatterpolar"
           }
          ],
          "scatterpolargl": [
           {
            "marker": {
             "colorbar": {
              "outlinewidth": 0,
              "ticks": ""
             }
            },
            "type": "scatterpolargl"
           }
          ],
          "scatterternary": [
           {
            "marker": {
             "colorbar": {
              "outlinewidth": 0,
              "ticks": ""
             }
            },
            "type": "scatterternary"
           }
          ],
          "surface": [
           {
            "colorbar": {
             "outlinewidth": 0,
             "ticks": ""
            },
            "colorscale": [
             [
              0,
              "#0d0887"
             ],
             [
              0.1111111111111111,
              "#46039f"
             ],
             [
              0.2222222222222222,
              "#7201a8"
             ],
             [
              0.3333333333333333,
              "#9c179e"
             ],
             [
              0.4444444444444444,
              "#bd3786"
             ],
             [
              0.5555555555555556,
              "#d8576b"
             ],
             [
              0.6666666666666666,
              "#ed7953"
             ],
             [
              0.7777777777777778,
              "#fb9f3a"
             ],
             [
              0.8888888888888888,
              "#fdca26"
             ],
             [
              1,
              "#f0f921"
             ]
            ],
            "type": "surface"
           }
          ],
          "table": [
           {
            "cells": {
             "fill": {
              "color": "#EBF0F8"
             },
             "line": {
              "color": "white"
             }
            },
            "header": {
             "fill": {
              "color": "#C8D4E3"
             },
             "line": {
              "color": "white"
             }
            },
            "type": "table"
           }
          ]
         },
         "layout": {
          "annotationdefaults": {
           "arrowcolor": "#2a3f5f",
           "arrowhead": 0,
           "arrowwidth": 1
          },
          "autotypenumbers": "strict",
          "coloraxis": {
           "colorbar": {
            "outlinewidth": 0,
            "ticks": ""
           }
          },
          "colorscale": {
           "diverging": [
            [
             0,
             "#8e0152"
            ],
            [
             0.1,
             "#c51b7d"
            ],
            [
             0.2,
             "#de77ae"
            ],
            [
             0.3,
             "#f1b6da"
            ],
            [
             0.4,
             "#fde0ef"
            ],
            [
             0.5,
             "#f7f7f7"
            ],
            [
             0.6,
             "#e6f5d0"
            ],
            [
             0.7,
             "#b8e186"
            ],
            [
             0.8,
             "#7fbc41"
            ],
            [
             0.9,
             "#4d9221"
            ],
            [
             1,
             "#276419"
            ]
           ],
           "sequential": [
            [
             0,
             "#0d0887"
            ],
            [
             0.1111111111111111,
             "#46039f"
            ],
            [
             0.2222222222222222,
             "#7201a8"
            ],
            [
             0.3333333333333333,
             "#9c179e"
            ],
            [
             0.4444444444444444,
             "#bd3786"
            ],
            [
             0.5555555555555556,
             "#d8576b"
            ],
            [
             0.6666666666666666,
             "#ed7953"
            ],
            [
             0.7777777777777778,
             "#fb9f3a"
            ],
            [
             0.8888888888888888,
             "#fdca26"
            ],
            [
             1,
             "#f0f921"
            ]
           ],
           "sequentialminus": [
            [
             0,
             "#0d0887"
            ],
            [
             0.1111111111111111,
             "#46039f"
            ],
            [
             0.2222222222222222,
             "#7201a8"
            ],
            [
             0.3333333333333333,
             "#9c179e"
            ],
            [
             0.4444444444444444,
             "#bd3786"
            ],
            [
             0.5555555555555556,
             "#d8576b"
            ],
            [
             0.6666666666666666,
             "#ed7953"
            ],
            [
             0.7777777777777778,
             "#fb9f3a"
            ],
            [
             0.8888888888888888,
             "#fdca26"
            ],
            [
             1,
             "#f0f921"
            ]
           ]
          },
          "colorway": [
           "#636efa",
           "#EF553B",
           "#00cc96",
           "#ab63fa",
           "#FFA15A",
           "#19d3f3",
           "#FF6692",
           "#B6E880",
           "#FF97FF",
           "#FECB52"
          ],
          "font": {
           "color": "#2a3f5f"
          },
          "geo": {
           "bgcolor": "white",
           "lakecolor": "white",
           "landcolor": "#E5ECF6",
           "showlakes": true,
           "showland": true,
           "subunitcolor": "white"
          },
          "hoverlabel": {
           "align": "left"
          },
          "hovermode": "closest",
          "mapbox": {
           "style": "light"
          },
          "paper_bgcolor": "white",
          "plot_bgcolor": "#E5ECF6",
          "polar": {
           "angularaxis": {
            "gridcolor": "white",
            "linecolor": "white",
            "ticks": ""
           },
           "bgcolor": "#E5ECF6",
           "radialaxis": {
            "gridcolor": "white",
            "linecolor": "white",
            "ticks": ""
           }
          },
          "scene": {
           "xaxis": {
            "backgroundcolor": "#E5ECF6",
            "gridcolor": "white",
            "gridwidth": 2,
            "linecolor": "white",
            "showbackground": true,
            "ticks": "",
            "zerolinecolor": "white"
           },
           "yaxis": {
            "backgroundcolor": "#E5ECF6",
            "gridcolor": "white",
            "gridwidth": 2,
            "linecolor": "white",
            "showbackground": true,
            "ticks": "",
            "zerolinecolor": "white"
           },
           "zaxis": {
            "backgroundcolor": "#E5ECF6",
            "gridcolor": "white",
            "gridwidth": 2,
            "linecolor": "white",
            "showbackground": true,
            "ticks": "",
            "zerolinecolor": "white"
           }
          },
          "shapedefaults": {
           "line": {
            "color": "#2a3f5f"
           }
          },
          "ternary": {
           "aaxis": {
            "gridcolor": "white",
            "linecolor": "white",
            "ticks": ""
           },
           "baxis": {
            "gridcolor": "white",
            "linecolor": "white",
            "ticks": ""
           },
           "bgcolor": "#E5ECF6",
           "caxis": {
            "gridcolor": "white",
            "linecolor": "white",
            "ticks": ""
           }
          },
          "title": {
           "x": 0.05
          },
          "xaxis": {
           "automargin": true,
           "gridcolor": "white",
           "linecolor": "white",
           "ticks": "",
           "title": {
            "standoff": 15
           },
           "zerolinecolor": "white",
           "zerolinewidth": 2
          },
          "yaxis": {
           "automargin": true,
           "gridcolor": "white",
           "linecolor": "white",
           "ticks": "",
           "title": {
            "standoff": 15
           },
           "zerolinecolor": "white",
           "zerolinewidth": 2
          }
         }
        },
        "xaxis": {
         "anchor": "y",
         "autorange": true,
         "constrain": "domain",
         "domain": [
          0,
          1
         ],
         "range": [
          -0.5,
          9.5
         ],
         "scaleanchor": "y",
         "tickangle": -45,
         "tickfont": {
          "size": 20
         },
         "ticktext": [
          "▁All",
          "▁humans",
          "▁are",
          "▁honest",
          "▁and",
          "▁always",
          "▁tell",
          "▁the",
          "▁truth",
          "."
         ],
         "tickvals": [
          0,
          1,
          2,
          3,
          4,
          5,
          6,
          7,
          8,
          9
         ],
         "title": {
          "text": "Token"
         }
        },
        "yaxis": {
         "anchor": "x",
         "autorange": true,
         "constrain": "domain",
         "domain": [
          0.3170454545454545,
          0.6829545454545455
         ],
         "range": [
          0.5,
          -0.5
         ],
         "showticklabels": false
        }
       }
      },
      "image/png": "[encoded data removed]",
      "text/html": [
       "<div>                            <div id=\"23979cdb-36c4-4dcf-850c-55688bfcc5ba\" class=\"plotly-graph-div\" style=\"height:525px; width:100%;\"></div>            <script type=\"text/javascript\">                require([\"plotly\"], function(Plotly) {                    window.PLOTLYENV=window.PLOTLYENV || {};                                    if (document.getElementById(\"23979cdb-36c4-4dcf-850c-55688bfcc5ba\")) {                    Plotly.newPlot(                        \"23979cdb-36c4-4dcf-850c-55688bfcc5ba\",                        [{\"coloraxis\":\"coloraxis\",\"name\":\"0\",\"z\":[[-1.166015625,-1.2646484375,-1.216796875,-0.9453125,-1.1015625,-0.7880859375,-0.72802734375,-0.7548828125,-0.96240234375,-1.2734375]],\"type\":\"heatmap\",\"xaxis\":\"x\",\"yaxis\":\"y\",\"hovertemplate\":\"Token: %{x}\\u003cbr\\u003ey: %{y}\\u003cbr\\u003ecolor: %{z}\\u003cextra\\u003e\\u003c\\u002fextra\\u003e\"}],                        {\"template\":{\"data\":{\"histogram2dcontour\":[{\"type\":\"histogram2dcontour\",\"colorbar\":{\"outlinewidth\":0,\"ticks\":\"\"},\"colorscale\":[[0.0,\"#0d0887\"],[0.1111111111111111,\"#46039f\"],[0.2222222222222222,\"#7201a8\"],[0.3333333333333333,\"#9c179e\"],[0.4444444444444444,\"#bd3786\"],[0.5555555555555556,\"#d8576b\"],[0.6666666666666666,\"#ed7953\"],[0.7777777777777778,\"#fb9f3a\"],[0.8888888888888888,\"#fdca26\"],[1.0,\"#f0f921\"]]}],\"choropleth\":[{\"type\":\"choropleth\",\"colorbar\":{\"outlinewidth\":0,\"ticks\":\"\"}}],\"histogram2d\":[{\"type\":\"histogram2d\",\"colorbar\":{\"outlinewidth\":0,\"ticks\":\"\"},\"colorscale\":[[0.0,\"#0d0887\"],[0.1111111111111111,\"#46039f\"],[0.2222222222222222,\"#7201a8\"],[0.3333333333333333,\"#9c179e\"],[0.4444444444444444,\"#bd3786\"],[0.5555555555555556,\"#d8576b\"],[0.6666666666666666,\"#ed7953\"],[0.7777777777777778,\"#fb9f3a\"],[0.8888888888888888,\"#fdca26\"],[1.0,\"#f0f921\"]]}],\"heatmap\":[{\"type\":\"heatmap\",\"colorbar\":{\"outlinewidth\":0,\"ticks\":\"\"},\"colorscale\":[[0.0,\"#0d0887\"],[0.1111111111111111,\"#46039f\"],[0.2222222222222222,\"#7201a8\"],[0.3333333333333333,\"#9c179e\"],[0.4444444444444444,\"#bd3786\"],[0.5555555555555556,\"#d8576b\"],[0.6666666666666666,\"#ed7953\"],[0.7777777777777778,\"#fb9f3a\"],[0.8888888888888888,\"#fdca26\"],[1.0,\"#f0f921\"]]}],\"heatmapgl\":[{\"type\":\"heatmapgl\",\"colorbar\":{\"outlinewidth\":0,\"ticks\":\"\"},\"colorscale\":[[0.0,\"#0d0887\"],[0.1111111111111111,\"#46039f\"],[0.2222222222222222,\"#7201a8\"],[0.3333333333333333,\"#9c179e\"],[0.4444444444444444,\"#bd3786\"],[0.5555555555555556,\"#d8576b\"],[0.6666666666666666,\"#ed7953\"],[0.7777777777777778,\"#fb9f3a\"],[0.8888888888888888,\"#fdca26\"],[1.0,\"#f0f921\"]]}],\"contourcarpet\":[{\"type\":\"contourcarpet\",\"colorbar\":{\"outlinewidth\":0,\"ticks\":\"\"}}],\"contour\":[{\"type\":\"contour\",\"colorbar\":{\"outlinewidth\":0,\"ticks\":\"\"},\"colorscale\":[[0.0,\"#0d0887\"],[0.1111111111111111,\"#46039f\"],[0.2222222222222222,\"#7201a8\"],[0.3333333333333333,\"#9c179e\"],[0.4444444444444444,\"#bd3786\"],[0.5555555555555556,\"#d8576b\"],[0.6666666666666666,\"#ed7953\"],[0.7777777777777778,\"#fb9f3a\"],[0.8888888888888888,\"#fdca26\"],[1.0,\"#f0f921\"]]}],\"surface\":[{\"type\":\"surface\",\"colorbar\":{\"outlinewidth\":0,\"ticks\":\"\"},\"colorscale\":[[0.0,\"#0d0887\"],[0.1111111111111111,\"#46039f\"],[0.2222222222222222,\"#7201a8\"],[0.3333333333333333,\"#9c179e\"],[0.4444444444444444,\"#bd3786\"],[0.5555555555555556,\"#d8576b\"],[0.6666666666666666,\"#ed7953\"],[0.7777777777777778,\"#fb9f3a\"],[0.8888888888888888,\"#fdca26\"],[1.0,\"#f0f921\"]]}],\"mesh3d\":[{\"type\":\"mesh3d\",\"colorbar\":{\"outlinewidth\":0,\"ticks\":\"\"}}],\"scatter\":[{\"fillpattern\":{\"fillmode\":\"overlay\",\"size\":10,\"solidity\":0.2},\"type\":\"scatter\"}],\"parcoords\":[{\"type\":\"parcoords\",\"line\":{\"colorbar\":{\"outlinewidth\":0,\"ticks\":\"\"}}}],\"scatterpolargl\":[{\"type\":\"scatterpolargl\",\"marker\":{\"colorbar\":{\"outlinewidth\":0,\"ticks\":\"\"}}}],\"bar\":[{\"error_x\":{\"color\":\"#2a3f5f\"},\"error_y\":{\"color\":\"#2a3f5f\"},\"marker\":{\"line\":{\"color\":\"#E5ECF6\",\"width\":0.5},\"pattern\":{\"fillmode\":\"overlay\",\"size\":10,\"solidity\":0.2}},\"type\":\"bar\"}],\"scattergeo\":[{\"type\":\"scattergeo\",\"marker\":{\"colorbar\":{\"outlinewidth\":0,\"ticks\":\"\"}}}],\"scatterpolar\":[{\"type\":\"scatterpolar\",\"marker\":{\"colorbar\":{\"outlinewidth\":0,\"ticks\":\"\"}}}],\"histogram\":[{\"marker\":{\"pattern\":{\"fillmode\":\"overlay\",\"size\":10,\"solidity\":0.2}},\"type\":\"histogram\"}],\"scattergl\":[{\"type\":\"scattergl\",\"marker\":{\"colorbar\":{\"outlinewidth\":0,\"ticks\":\"\"}}}],\"scatter3d\":[{\"type\":\"scatter3d\",\"line\":{\"colorbar\":{\"outlinewidth\":0,\"ticks\":\"\"}},\"marker\":{\"colorbar\":{\"outlinewidth\":0,\"ticks\":\"\"}}}],\"scattermapbox\":[{\"type\":\"scattermapbox\",\"marker\":{\"colorbar\":{\"outlinewidth\":0,\"ticks\":\"\"}}}],\"scatterternary\":[{\"type\":\"scatterternary\",\"marker\":{\"colorbar\":{\"outlinewidth\":0,\"ticks\":\"\"}}}],\"scattercarpet\":[{\"type\":\"scattercarpet\",\"marker\":{\"colorbar\":{\"outlinewidth\":0,\"ticks\":\"\"}}}],\"carpet\":[{\"aaxis\":{\"endlinecolor\":\"#2a3f5f\",\"gridcolor\":\"white\",\"linecolor\":\"white\",\"minorgridcolor\":\"white\",\"startlinecolor\":\"#2a3f5f\"},\"baxis\":{\"endlinecolor\":\"#2a3f5f\",\"gridcolor\":\"white\",\"linecolor\":\"white\",\"minorgridcolor\":\"white\",\"startlinecolor\":\"#2a3f5f\"},\"type\":\"carpet\"}],\"table\":[{\"cells\":{\"fill\":{\"color\":\"#EBF0F8\"},\"line\":{\"color\":\"white\"}},\"header\":{\"fill\":{\"color\":\"#C8D4E3\"},\"line\":{\"color\":\"white\"}},\"type\":\"table\"}],\"barpolar\":[{\"marker\":{\"line\":{\"color\":\"#E5ECF6\",\"width\":0.5},\"pattern\":{\"fillmode\":\"overlay\",\"size\":10,\"solidity\":0.2}},\"type\":\"barpolar\"}],\"pie\":[{\"automargin\":true,\"type\":\"pie\"}]},\"layout\":{\"autotypenumbers\":\"strict\",\"colorway\":[\"#636efa\",\"#EF553B\",\"#00cc96\",\"#ab63fa\",\"#FFA15A\",\"#19d3f3\",\"#FF6692\",\"#B6E880\",\"#FF97FF\",\"#FECB52\"],\"font\":{\"color\":\"#2a3f5f\"},\"hovermode\":\"closest\",\"hoverlabel\":{\"align\":\"left\"},\"paper_bgcolor\":\"white\",\"plot_bgcolor\":\"#E5ECF6\",\"polar\":{\"bgcolor\":\"#E5ECF6\",\"angularaxis\":{\"gridcolor\":\"white\",\"linecolor\":\"white\",\"ticks\":\"\"},\"radialaxis\":{\"gridcolor\":\"white\",\"linecolor\":\"white\",\"ticks\":\"\"}},\"ternary\":{\"bgcolor\":\"#E5ECF6\",\"aaxis\":{\"gridcolor\":\"white\",\"linecolor\":\"white\",\"ticks\":\"\"},\"baxis\":{\"gridcolor\":\"white\",\"linecolor\":\"white\",\"ticks\":\"\"},\"caxis\":{\"gridcolor\":\"white\",\"linecolor\":\"white\",\"ticks\":\"\"}},\"coloraxis\":{\"colorbar\":{\"outlinewidth\":0,\"ticks\":\"\"}},\"colorscale\":{\"sequential\":[[0.0,\"#0d0887\"],[0.1111111111111111,\"#46039f\"],[0.2222222222222222,\"#7201a8\"],[0.3333333333333333,\"#9c179e\"],[0.4444444444444444,\"#bd3786\"],[0.5555555555555556,\"#d8576b\"],[0.6666666666666666,\"#ed7953\"],[0.7777777777777778,\"#fb9f3a\"],[0.8888888888888888,\"#fdca26\"],[1.0,\"#f0f921\"]],\"sequentialminus\":[[0.0,\"#0d0887\"],[0.1111111111111111,\"#46039f\"],[0.2222222222222222,\"#7201a8\"],[0.3333333333333333,\"#9c179e\"],[0.4444444444444444,\"#bd3786\"],[0.5555555555555556,\"#d8576b\"],[0.6666666666666666,\"#ed7953\"],[0.7777777777777778,\"#fb9f3a\"],[0.8888888888888888,\"#fdca26\"],[1.0,\"#f0f921\"]],\"diverging\":[[0,\"#8e0152\"],[0.1,\"#c51b7d\"],[0.2,\"#de77ae\"],[0.3,\"#f1b6da\"],[0.4,\"#fde0ef\"],[0.5,\"#f7f7f7\"],[0.6,\"#e6f5d0\"],[0.7,\"#b8e186\"],[0.8,\"#7fbc41\"],[0.9,\"#4d9221\"],[1,\"#276419\"]]},\"xaxis\":{\"gridcolor\":\"white\",\"linecolor\":\"white\",\"ticks\":\"\",\"title\":{\"standoff\":15},\"zerolinecolor\":\"white\",\"automargin\":true,\"zerolinewidth\":2},\"yaxis\":{\"gridcolor\":\"white\",\"linecolor\":\"white\",\"ticks\":\"\",\"title\":{\"standoff\":15},\"zerolinecolor\":\"white\",\"automargin\":true,\"zerolinewidth\":2},\"scene\":{\"xaxis\":{\"backgroundcolor\":\"#E5ECF6\",\"gridcolor\":\"white\",\"linecolor\":\"white\",\"showbackground\":true,\"ticks\":\"\",\"zerolinecolor\":\"white\",\"gridwidth\":2},\"yaxis\":{\"backgroundcolor\":\"#E5ECF6\",\"gridcolor\":\"white\",\"linecolor\":\"white\",\"showbackground\":true,\"ticks\":\"\",\"zerolinecolor\":\"white\",\"gridwidth\":2},\"zaxis\":{\"backgroundcolor\":\"#E5ECF6\",\"gridcolor\":\"white\",\"linecolor\":\"white\",\"showbackground\":true,\"ticks\":\"\",\"zerolinecolor\":\"white\",\"gridwidth\":2}},\"shapedefaults\":{\"line\":{\"color\":\"#2a3f5f\"}},\"annotationdefaults\":{\"arrowcolor\":\"#2a3f5f\",\"arrowhead\":0,\"arrowwidth\":1},\"geo\":{\"bgcolor\":\"white\",\"landcolor\":\"#E5ECF6\",\"subunitcolor\":\"white\",\"showland\":true,\"showlakes\":true,\"lakecolor\":\"white\"},\"title\":{\"x\":0.05},\"mapbox\":{\"style\":\"light\"}}},\"xaxis\":{\"anchor\":\"y\",\"domain\":[0.0,1.0],\"scaleanchor\":\"y\",\"constrain\":\"domain\",\"title\":{\"text\":\"Token\"},\"tickfont\":{\"size\":20},\"tickvals\":[0,1,2,3,4,5,6,7,8,9],\"ticktext\":[\"\\u2581All\",\"\\u2581humans\",\"\\u2581are\",\"\\u2581honest\",\"\\u2581and\",\"\\u2581always\",\"\\u2581tell\",\"\\u2581the\",\"\\u2581truth\",\".\"],\"tickangle\":-45},\"yaxis\":{\"anchor\":\"x\",\"domain\":[0.0,1.0],\"autorange\":\"reversed\",\"constrain\":\"domain\",\"showticklabels\":false},\"coloraxis\":{\"colorscale\":[[0.0,\"rgb(165,0,38)\"],[0.1,\"rgb(215,48,39)\"],[0.2,\"rgb(244,109,67)\"],[0.3,\"rgb(253,174,97)\"],[0.4,\"rgb(254,224,139)\"],[0.5,\"rgb(255,255,191)\"],[0.6,\"rgb(217,239,139)\"],[0.7,\"rgb(166,217,106)\"],[0.8,\"rgb(102,189,99)\"],[0.9,\"rgb(26,152,80)\"],[1.0,\"rgb(0,104,55)\"]],\"cmin\":-1,\"cmax\":1},\"margin\":{\"t\":60}},                        {\"responsive\": true}                    ).then(function(){\n",
       "                            \n",
       "var gd = document.getElementById('23979cdb-36c4-4dcf-850c-55688bfcc5ba');\n",
       "var x = new MutationObserver(function (mutations, observer) {{\n",
       "        var display = window.getComputedStyle(gd).display;\n",
       "        if (!display || display === 'none') {{\n",
       "            console.log([gd, 'removed!']);\n",
       "            Plotly.purge(gd);\n",
       "            observer.disconnect();\n",
       "        }}\n",
       "}});\n",
       "\n",
       "// Listen for the removal of the full notebook cells\n",
       "var notebookContainer = gd.closest('#notebook-container');\n",
       "if (notebookContainer) {{\n",
       "    x.observe(notebookContainer, {childList: true});\n",
       "}}\n",
       "\n",
       "// Listen for the clearing of the current output cell\n",
       "var outputEl = gd.closest('.output');\n",
       "if (outputEl) {{\n",
       "    x.observe(outputEl, {childList: true});\n",
       "}}\n",
       "\n",
       "                        })                };                });            </script>        </div>"
      ]
     },
     "metadata": {},
     "output_type": "display_data"
    }
   ],
   "source": [
    "scores_per_token = doc.detect(output['projections'], aggregation_method='layer_avg', use_n_middle_layers=15)\n",
    "doc.plot_scores_per_token(scores_per_token, tokens, lastn_tokens_to_plot=max_new_tokens, saturate_at=1)"
   ]
  },
  {
   "cell_type": "code",
   "execution_count": 66,
   "id": "f0a61964-757e-4749-8641-ccc8b7ffcf8a",
   "metadata": {
    "tags": []
   },
   "outputs": [
    {
     "data": {
      "application/vnd.plotly.v1+json": {
       "config": {
        "plotlyServerURL": "https://plot.ly"
       },
       "data": [
        {
         "coloraxis": "coloraxis",
         "hovertemplate": "Token: %{x}<br>y: %{y}<br>color: %{z}<extra></extra>",
         "name": "0",
         "type": "heatmap",
         "xaxis": "x",
         "yaxis": "y",
         "z": [
          [
           2.424028689466823e-05,
           0.00022821655705613714,
           2.142077433473137e-05,
           0.0007573125729482186,
           1.507519713300741e-05,
           0.0028974661564125756,
           0.00047182953246683684,
           5.143561192502016e-05,
           0.0002603043698909731,
           8.93668804348978e-06
          ]
         ]
        }
       ],
       "layout": {
        "autosize": true,
        "coloraxis": {
         "cmax": 1,
         "cmin": 0,
         "colorscale": [
          [
           0,
           "rgb(165,0,38)"
          ],
          [
           0.1,
           "rgb(215,48,39)"
          ],
          [
           0.2,
           "rgb(244,109,67)"
          ],
          [
           0.3,
           "rgb(253,174,97)"
          ],
          [
           0.4,
           "rgb(254,224,139)"
          ],
          [
           0.5,
           "rgb(255,255,191)"
          ],
          [
           0.6,
           "rgb(217,239,139)"
          ],
          [
           0.7,
           "rgb(166,217,106)"
          ],
          [
           0.8,
           "rgb(102,189,99)"
          ],
          [
           0.9,
           "rgb(26,152,80)"
          ],
          [
           1,
           "rgb(0,104,55)"
          ]
         ]
        },
        "margin": {
         "t": 60
        },
        "template": {
         "data": {
          "bar": [
           {
            "error_x": {
             "color": "#2a3f5f"
            },
            "error_y": {
             "color": "#2a3f5f"
            },
            "marker": {
             "line": {
              "color": "#E5ECF6",
              "width": 0.5
             },
             "pattern": {
              "fillmode": "overlay",
              "size": 10,
              "solidity": 0.2
             }
            },
            "type": "bar"
           }
          ],
          "barpolar": [
           {
            "marker": {
             "line": {
              "color": "#E5ECF6",
              "width": 0.5
             },
             "pattern": {
              "fillmode": "overlay",
              "size": 10,
              "solidity": 0.2
             }
            },
            "type": "barpolar"
           }
          ],
          "carpet": [
           {
            "aaxis": {
             "endlinecolor": "#2a3f5f",
             "gridcolor": "white",
             "linecolor": "white",
             "minorgridcolor": "white",
             "startlinecolor": "#2a3f5f"
            },
            "baxis": {
             "endlinecolor": "#2a3f5f",
             "gridcolor": "white",
             "linecolor": "white",
             "minorgridcolor": "white",
             "startlinecolor": "#2a3f5f"
            },
            "type": "carpet"
           }
          ],
          "choropleth": [
           {
            "colorbar": {
             "outlinewidth": 0,
             "ticks": ""
            },
            "type": "choropleth"
           }
          ],
          "contour": [
           {
            "colorbar": {
             "outlinewidth": 0,
             "ticks": ""
            },
            "colorscale": [
             [
              0,
              "#0d0887"
             ],
             [
              0.1111111111111111,
              "#46039f"
             ],
             [
              0.2222222222222222,
              "#7201a8"
             ],
             [
              0.3333333333333333,
              "#9c179e"
             ],
             [
              0.4444444444444444,
              "#bd3786"
             ],
             [
              0.5555555555555556,
              "#d8576b"
             ],
             [
              0.6666666666666666,
              "#ed7953"
             ],
             [
              0.7777777777777778,
              "#fb9f3a"
             ],
             [
              0.8888888888888888,
              "#fdca26"
             ],
             [
              1,
              "#f0f921"
             ]
            ],
            "type": "contour"
           }
          ],
          "contourcarpet": [
           {
            "colorbar": {
             "outlinewidth": 0,
             "ticks": ""
            },
            "type": "contourcarpet"
           }
          ],
          "heatmap": [
           {
            "colorbar": {
             "outlinewidth": 0,
             "ticks": ""
            },
            "colorscale": [
             [
              0,
              "#0d0887"
             ],
             [
              0.1111111111111111,
              "#46039f"
             ],
             [
              0.2222222222222222,
              "#7201a8"
             ],
             [
              0.3333333333333333,
              "#9c179e"
             ],
             [
              0.4444444444444444,
              "#bd3786"
             ],
             [
              0.5555555555555556,
              "#d8576b"
             ],
             [
              0.6666666666666666,
              "#ed7953"
             ],
             [
              0.7777777777777778,
              "#fb9f3a"
             ],
             [
              0.8888888888888888,
              "#fdca26"
             ],
             [
              1,
              "#f0f921"
             ]
            ],
            "type": "heatmap"
           }
          ],
          "heatmapgl": [
           {
            "colorbar": {
             "outlinewidth": 0,
             "ticks": ""
            },
            "colorscale": [
             [
              0,
              "#0d0887"
             ],
             [
              0.1111111111111111,
              "#46039f"
             ],
             [
              0.2222222222222222,
              "#7201a8"
             ],
             [
              0.3333333333333333,
              "#9c179e"
             ],
             [
              0.4444444444444444,
              "#bd3786"
             ],
             [
              0.5555555555555556,
              "#d8576b"
             ],
             [
              0.6666666666666666,
              "#ed7953"
             ],
             [
              0.7777777777777778,
              "#fb9f3a"
             ],
             [
              0.8888888888888888,
              "#fdca26"
             ],
             [
              1,
              "#f0f921"
             ]
            ],
            "type": "heatmapgl"
           }
          ],
          "histogram": [
           {
            "marker": {
             "pattern": {
              "fillmode": "overlay",
              "size": 10,
              "solidity": 0.2
             }
            },
            "type": "histogram"
           }
          ],
          "histogram2d": [
           {
            "colorbar": {
             "outlinewidth": 0,
             "ticks": ""
            },
            "colorscale": [
             [
              0,
              "#0d0887"
             ],
             [
              0.1111111111111111,
              "#46039f"
             ],
             [
              0.2222222222222222,
              "#7201a8"
             ],
             [
              0.3333333333333333,
              "#9c179e"
             ],
             [
              0.4444444444444444,
              "#bd3786"
             ],
             [
              0.5555555555555556,
              "#d8576b"
             ],
             [
              0.6666666666666666,
              "#ed7953"
             ],
             [
              0.7777777777777778,
              "#fb9f3a"
             ],
             [
              0.8888888888888888,
              "#fdca26"
             ],
             [
              1,
              "#f0f921"
             ]
            ],
            "type": "histogram2d"
           }
          ],
          "histogram2dcontour": [
           {
            "colorbar": {
             "outlinewidth": 0,
             "ticks": ""
            },
            "colorscale": [
             [
              0,
              "#0d0887"
             ],
             [
              0.1111111111111111,
              "#46039f"
             ],
             [
              0.2222222222222222,
              "#7201a8"
             ],
             [
              0.3333333333333333,
              "#9c179e"
             ],
             [
              0.4444444444444444,
              "#bd3786"
             ],
             [
              0.5555555555555556,
              "#d8576b"
             ],
             [
              0.6666666666666666,
              "#ed7953"
             ],
             [
              0.7777777777777778,
              "#fb9f3a"
             ],
             [
              0.8888888888888888,
              "#fdca26"
             ],
             [
              1,
              "#f0f921"
             ]
            ],
            "type": "histogram2dcontour"
           }
          ],
          "mesh3d": [
           {
            "colorbar": {
             "outlinewidth": 0,
             "ticks": ""
            },
            "type": "mesh3d"
           }
          ],
          "parcoords": [
           {
            "line": {
             "colorbar": {
              "outlinewidth": 0,
              "ticks": ""
             }
            },
            "type": "parcoords"
           }
          ],
          "pie": [
           {
            "automargin": true,
            "type": "pie"
           }
          ],
          "scatter": [
           {
            "fillpattern": {
             "fillmode": "overlay",
             "size": 10,
             "solidity": 0.2
            },
            "type": "scatter"
           }
          ],
          "scatter3d": [
           {
            "line": {
             "colorbar": {
              "outlinewidth": 0,
              "ticks": ""
             }
            },
            "marker": {
             "colorbar": {
              "outlinewidth": 0,
              "ticks": ""
             }
            },
            "type": "scatter3d"
           }
          ],
          "scattercarpet": [
           {
            "marker": {
             "colorbar": {
              "outlinewidth": 0,
              "ticks": ""
             }
            },
            "type": "scattercarpet"
           }
          ],
          "scattergeo": [
           {
            "marker": {
             "colorbar": {
              "outlinewidth": 0,
              "ticks": ""
             }
            },
            "type": "scattergeo"
           }
          ],
          "scattergl": [
           {
            "marker": {
             "colorbar": {
              "outlinewidth": 0,
              "ticks": ""
             }
            },
            "type": "scattergl"
           }
          ],
          "scattermapbox": [
           {
            "marker": {
             "colorbar": {
              "outlinewidth": 0,
              "ticks": ""
             }
            },
            "type": "scattermapbox"
           }
          ],
          "scatterpolar": [
           {
            "marker": {
             "colorbar": {
              "outlinewidth": 0,
              "ticks": ""
             }
            },
            "type": "scatterpolar"
           }
          ],
          "scatterpolargl": [
           {
            "marker": {
             "colorbar": {
              "outlinewidth": 0,
              "ticks": ""
             }
            },
            "type": "scatterpolargl"
           }
          ],
          "scatterternary": [
           {
            "marker": {
             "colorbar": {
              "outlinewidth": 0,
              "ticks": ""
             }
            },
            "type": "scatterternary"
           }
          ],
          "surface": [
           {
            "colorbar": {
             "outlinewidth": 0,
             "ticks": ""
            },
            "colorscale": [
             [
              0,
              "#0d0887"
             ],
             [
              0.1111111111111111,
              "#46039f"
             ],
             [
              0.2222222222222222,
              "#7201a8"
             ],
             [
              0.3333333333333333,
              "#9c179e"
             ],
             [
              0.4444444444444444,
              "#bd3786"
             ],
             [
              0.5555555555555556,
              "#d8576b"
             ],
             [
              0.6666666666666666,
              "#ed7953"
             ],
             [
              0.7777777777777778,
              "#fb9f3a"
             ],
             [
              0.8888888888888888,
              "#fdca26"
             ],
             [
              1,
              "#f0f921"
             ]
            ],
            "type": "surface"
           }
          ],
          "table": [
           {
            "cells": {
             "fill": {
              "color": "#EBF0F8"
             },
             "line": {
              "color": "white"
             }
            },
            "header": {
             "fill": {
              "color": "#C8D4E3"
             },
             "line": {
              "color": "white"
             }
            },
            "type": "table"
           }
          ]
         },
         "layout": {
          "annotationdefaults": {
           "arrowcolor": "#2a3f5f",
           "arrowhead": 0,
           "arrowwidth": 1
          },
          "autotypenumbers": "strict",
          "coloraxis": {
           "colorbar": {
            "outlinewidth": 0,
            "ticks": ""
           }
          },
          "colorscale": {
           "diverging": [
            [
             0,
             "#8e0152"
            ],
            [
             0.1,
             "#c51b7d"
            ],
            [
             0.2,
             "#de77ae"
            ],
            [
             0.3,
             "#f1b6da"
            ],
            [
             0.4,
             "#fde0ef"
            ],
            [
             0.5,
             "#f7f7f7"
            ],
            [
             0.6,
             "#e6f5d0"
            ],
            [
             0.7,
             "#b8e186"
            ],
            [
             0.8,
             "#7fbc41"
            ],
            [
             0.9,
             "#4d9221"
            ],
            [
             1,
             "#276419"
            ]
           ],
           "sequential": [
            [
             0,
             "#0d0887"
            ],
            [
             0.1111111111111111,
             "#46039f"
            ],
            [
             0.2222222222222222,
             "#7201a8"
            ],
            [
             0.3333333333333333,
             "#9c179e"
            ],
            [
             0.4444444444444444,
             "#bd3786"
            ],
            [
             0.5555555555555556,
             "#d8576b"
            ],
            [
             0.6666666666666666,
             "#ed7953"
            ],
            [
             0.7777777777777778,
             "#fb9f3a"
            ],
            [
             0.8888888888888888,
             "#fdca26"
            ],
            [
             1,
             "#f0f921"
            ]
           ],
           "sequentialminus": [
            [
             0,
             "#0d0887"
            ],
            [
             0.1111111111111111,
             "#46039f"
            ],
            [
             0.2222222222222222,
             "#7201a8"
            ],
            [
             0.3333333333333333,
             "#9c179e"
            ],
            [
             0.4444444444444444,
             "#bd3786"
            ],
            [
             0.5555555555555556,
             "#d8576b"
            ],
            [
             0.6666666666666666,
             "#ed7953"
            ],
            [
             0.7777777777777778,
             "#fb9f3a"
            ],
            [
             0.8888888888888888,
             "#fdca26"
            ],
            [
             1,
             "#f0f921"
            ]
           ]
          },
          "colorway": [
           "#636efa",
           "#EF553B",
           "#00cc96",
           "#ab63fa",
           "#FFA15A",
           "#19d3f3",
           "#FF6692",
           "#B6E880",
           "#FF97FF",
           "#FECB52"
          ],
          "font": {
           "color": "#2a3f5f"
          },
          "geo": {
           "bgcolor": "white",
           "lakecolor": "white",
           "landcolor": "#E5ECF6",
           "showlakes": true,
           "showland": true,
           "subunitcolor": "white"
          },
          "hoverlabel": {
           "align": "left"
          },
          "hovermode": "closest",
          "mapbox": {
           "style": "light"
          },
          "paper_bgcolor": "white",
          "plot_bgcolor": "#E5ECF6",
          "polar": {
           "angularaxis": {
            "gridcolor": "white",
            "linecolor": "white",
            "ticks": ""
           },
           "bgcolor": "#E5ECF6",
           "radialaxis": {
            "gridcolor": "white",
            "linecolor": "white",
            "ticks": ""
           }
          },
          "scene": {
           "xaxis": {
            "backgroundcolor": "#E5ECF6",
            "gridcolor": "white",
            "gridwidth": 2,
            "linecolor": "white",
            "showbackground": true,
            "ticks": "",
            "zerolinecolor": "white"
           },
           "yaxis": {
            "backgroundcolor": "#E5ECF6",
            "gridcolor": "white",
            "gridwidth": 2,
            "linecolor": "white",
            "showbackground": true,
            "ticks": "",
            "zerolinecolor": "white"
           },
           "zaxis": {
            "backgroundcolor": "#E5ECF6",
            "gridcolor": "white",
            "gridwidth": 2,
            "linecolor": "white",
            "showbackground": true,
            "ticks": "",
            "zerolinecolor": "white"
           }
          },
          "shapedefaults": {
           "line": {
            "color": "#2a3f5f"
           }
          },
          "ternary": {
           "aaxis": {
            "gridcolor": "white",
            "linecolor": "white",
            "ticks": ""
           },
           "baxis": {
            "gridcolor": "white",
            "linecolor": "white",
            "ticks": ""
           },
           "bgcolor": "#E5ECF6",
           "caxis": {
            "gridcolor": "white",
            "linecolor": "white",
            "ticks": ""
           }
          },
          "title": {
           "x": 0.05
          },
          "xaxis": {
           "automargin": true,
           "gridcolor": "white",
           "linecolor": "white",
           "ticks": "",
           "title": {
            "standoff": 15
           },
           "zerolinecolor": "white",
           "zerolinewidth": 2
          },
          "yaxis": {
           "automargin": true,
           "gridcolor": "white",
           "linecolor": "white",
           "ticks": "",
           "title": {
            "standoff": 15
           },
           "zerolinecolor": "white",
           "zerolinewidth": 2
          }
         }
        },
        "xaxis": {
         "anchor": "y",
         "autorange": true,
         "constrain": "domain",
         "domain": [
          0,
          1
         ],
         "range": [
          -0.5,
          9.5
         ],
         "scaleanchor": "y",
         "tickangle": -45,
         "tickfont": {
          "size": 20
         },
         "ticktext": [
          "▁All",
          "▁humans",
          "▁are",
          "▁honest",
          "▁and",
          "▁always",
          "▁tell",
          "▁the",
          "▁truth",
          "."
         ],
         "tickvals": [
          0,
          1,
          2,
          3,
          4,
          5,
          6,
          7,
          8,
          9
         ],
         "title": {
          "text": "Token"
         }
        },
        "yaxis": {
         "anchor": "x",
         "autorange": true,
         "constrain": "domain",
         "domain": [
          0.31477272727272726,
          0.6852272727272728
         ],
         "range": [
          0.5,
          -0.5
         ],
         "showticklabels": false
        }
       }
      },
      "image/png": "[encoded data removed]",
      "text/html": [
       "<div>                            <div id=\"3c5c680f-1c5f-4df2-bb4b-77dfd371216e\" class=\"plotly-graph-div\" style=\"height:525px; width:100%;\"></div>            <script type=\"text/javascript\">                require([\"plotly\"], function(Plotly) {                    window.PLOTLYENV=window.PLOTLYENV || {};                                    if (document.getElementById(\"3c5c680f-1c5f-4df2-bb4b-77dfd371216e\")) {                    Plotly.newPlot(                        \"3c5c680f-1c5f-4df2-bb4b-77dfd371216e\",                        [{\"coloraxis\":\"coloraxis\",\"name\":\"0\",\"z\":[[2.424028689466823e-05,0.00022821655705613714,2.142077433473137e-05,0.0007573125729482186,1.507519713300741e-05,0.0028974661564125756,0.00047182953246683684,5.143561192502016e-05,0.0002603043698909731,8.93668804348978e-06]],\"type\":\"heatmap\",\"xaxis\":\"x\",\"yaxis\":\"y\",\"hovertemplate\":\"Token: %{x}\\u003cbr\\u003ey: %{y}\\u003cbr\\u003ecolor: %{z}\\u003cextra\\u003e\\u003c\\u002fextra\\u003e\"}],                        {\"template\":{\"data\":{\"histogram2dcontour\":[{\"type\":\"histogram2dcontour\",\"colorbar\":{\"outlinewidth\":0,\"ticks\":\"\"},\"colorscale\":[[0.0,\"#0d0887\"],[0.1111111111111111,\"#46039f\"],[0.2222222222222222,\"#7201a8\"],[0.3333333333333333,\"#9c179e\"],[0.4444444444444444,\"#bd3786\"],[0.5555555555555556,\"#d8576b\"],[0.6666666666666666,\"#ed7953\"],[0.7777777777777778,\"#fb9f3a\"],[0.8888888888888888,\"#fdca26\"],[1.0,\"#f0f921\"]]}],\"choropleth\":[{\"type\":\"choropleth\",\"colorbar\":{\"outlinewidth\":0,\"ticks\":\"\"}}],\"histogram2d\":[{\"type\":\"histogram2d\",\"colorbar\":{\"outlinewidth\":0,\"ticks\":\"\"},\"colorscale\":[[0.0,\"#0d0887\"],[0.1111111111111111,\"#46039f\"],[0.2222222222222222,\"#7201a8\"],[0.3333333333333333,\"#9c179e\"],[0.4444444444444444,\"#bd3786\"],[0.5555555555555556,\"#d8576b\"],[0.6666666666666666,\"#ed7953\"],[0.7777777777777778,\"#fb9f3a\"],[0.8888888888888888,\"#fdca26\"],[1.0,\"#f0f921\"]]}],\"heatmap\":[{\"type\":\"heatmap\",\"colorbar\":{\"outlinewidth\":0,\"ticks\":\"\"},\"colorscale\":[[0.0,\"#0d0887\"],[0.1111111111111111,\"#46039f\"],[0.2222222222222222,\"#7201a8\"],[0.3333333333333333,\"#9c179e\"],[0.4444444444444444,\"#bd3786\"],[0.5555555555555556,\"#d8576b\"],[0.6666666666666666,\"#ed7953\"],[0.7777777777777778,\"#fb9f3a\"],[0.8888888888888888,\"#fdca26\"],[1.0,\"#f0f921\"]]}],\"heatmapgl\":[{\"type\":\"heatmapgl\",\"colorbar\":{\"outlinewidth\":0,\"ticks\":\"\"},\"colorscale\":[[0.0,\"#0d0887\"],[0.1111111111111111,\"#46039f\"],[0.2222222222222222,\"#7201a8\"],[0.3333333333333333,\"#9c179e\"],[0.4444444444444444,\"#bd3786\"],[0.5555555555555556,\"#d8576b\"],[0.6666666666666666,\"#ed7953\"],[0.7777777777777778,\"#fb9f3a\"],[0.8888888888888888,\"#fdca26\"],[1.0,\"#f0f921\"]]}],\"contourcarpet\":[{\"type\":\"contourcarpet\",\"colorbar\":{\"outlinewidth\":0,\"ticks\":\"\"}}],\"contour\":[{\"type\":\"contour\",\"colorbar\":{\"outlinewidth\":0,\"ticks\":\"\"},\"colorscale\":[[0.0,\"#0d0887\"],[0.1111111111111111,\"#46039f\"],[0.2222222222222222,\"#7201a8\"],[0.3333333333333333,\"#9c179e\"],[0.4444444444444444,\"#bd3786\"],[0.5555555555555556,\"#d8576b\"],[0.6666666666666666,\"#ed7953\"],[0.7777777777777778,\"#fb9f3a\"],[0.8888888888888888,\"#fdca26\"],[1.0,\"#f0f921\"]]}],\"surface\":[{\"type\":\"surface\",\"colorbar\":{\"outlinewidth\":0,\"ticks\":\"\"},\"colorscale\":[[0.0,\"#0d0887\"],[0.1111111111111111,\"#46039f\"],[0.2222222222222222,\"#7201a8\"],[0.3333333333333333,\"#9c179e\"],[0.4444444444444444,\"#bd3786\"],[0.5555555555555556,\"#d8576b\"],[0.6666666666666666,\"#ed7953\"],[0.7777777777777778,\"#fb9f3a\"],[0.8888888888888888,\"#fdca26\"],[1.0,\"#f0f921\"]]}],\"mesh3d\":[{\"type\":\"mesh3d\",\"colorbar\":{\"outlinewidth\":0,\"ticks\":\"\"}}],\"scatter\":[{\"fillpattern\":{\"fillmode\":\"overlay\",\"size\":10,\"solidity\":0.2},\"type\":\"scatter\"}],\"parcoords\":[{\"type\":\"parcoords\",\"line\":{\"colorbar\":{\"outlinewidth\":0,\"ticks\":\"\"}}}],\"scatterpolargl\":[{\"type\":\"scatterpolargl\",\"marker\":{\"colorbar\":{\"outlinewidth\":0,\"ticks\":\"\"}}}],\"bar\":[{\"error_x\":{\"color\":\"#2a3f5f\"},\"error_y\":{\"color\":\"#2a3f5f\"},\"marker\":{\"line\":{\"color\":\"#E5ECF6\",\"width\":0.5},\"pattern\":{\"fillmode\":\"overlay\",\"size\":10,\"solidity\":0.2}},\"type\":\"bar\"}],\"scattergeo\":[{\"type\":\"scattergeo\",\"marker\":{\"colorbar\":{\"outlinewidth\":0,\"ticks\":\"\"}}}],\"scatterpolar\":[{\"type\":\"scatterpolar\",\"marker\":{\"colorbar\":{\"outlinewidth\":0,\"ticks\":\"\"}}}],\"histogram\":[{\"marker\":{\"pattern\":{\"fillmode\":\"overlay\",\"size\":10,\"solidity\":0.2}},\"type\":\"histogram\"}],\"scattergl\":[{\"type\":\"scattergl\",\"marker\":{\"colorbar\":{\"outlinewidth\":0,\"ticks\":\"\"}}}],\"scatter3d\":[{\"type\":\"scatter3d\",\"line\":{\"colorbar\":{\"outlinewidth\":0,\"ticks\":\"\"}},\"marker\":{\"colorbar\":{\"outlinewidth\":0,\"ticks\":\"\"}}}],\"scattermapbox\":[{\"type\":\"scattermapbox\",\"marker\":{\"colorbar\":{\"outlinewidth\":0,\"ticks\":\"\"}}}],\"scatterternary\":[{\"type\":\"scatterternary\",\"marker\":{\"colorbar\":{\"outlinewidth\":0,\"ticks\":\"\"}}}],\"scattercarpet\":[{\"type\":\"scattercarpet\",\"marker\":{\"colorbar\":{\"outlinewidth\":0,\"ticks\":\"\"}}}],\"carpet\":[{\"aaxis\":{\"endlinecolor\":\"#2a3f5f\",\"gridcolor\":\"white\",\"linecolor\":\"white\",\"minorgridcolor\":\"white\",\"startlinecolor\":\"#2a3f5f\"},\"baxis\":{\"endlinecolor\":\"#2a3f5f\",\"gridcolor\":\"white\",\"linecolor\":\"white\",\"minorgridcolor\":\"white\",\"startlinecolor\":\"#2a3f5f\"},\"type\":\"carpet\"}],\"table\":[{\"cells\":{\"fill\":{\"color\":\"#EBF0F8\"},\"line\":{\"color\":\"white\"}},\"header\":{\"fill\":{\"color\":\"#C8D4E3\"},\"line\":{\"color\":\"white\"}},\"type\":\"table\"}],\"barpolar\":[{\"marker\":{\"line\":{\"color\":\"#E5ECF6\",\"width\":0.5},\"pattern\":{\"fillmode\":\"overlay\",\"size\":10,\"solidity\":0.2}},\"type\":\"barpolar\"}],\"pie\":[{\"automargin\":true,\"type\":\"pie\"}]},\"layout\":{\"autotypenumbers\":\"strict\",\"colorway\":[\"#636efa\",\"#EF553B\",\"#00cc96\",\"#ab63fa\",\"#FFA15A\",\"#19d3f3\",\"#FF6692\",\"#B6E880\",\"#FF97FF\",\"#FECB52\"],\"font\":{\"color\":\"#2a3f5f\"},\"hovermode\":\"closest\",\"hoverlabel\":{\"align\":\"left\"},\"paper_bgcolor\":\"white\",\"plot_bgcolor\":\"#E5ECF6\",\"polar\":{\"bgcolor\":\"#E5ECF6\",\"angularaxis\":{\"gridcolor\":\"white\",\"linecolor\":\"white\",\"ticks\":\"\"},\"radialaxis\":{\"gridcolor\":\"white\",\"linecolor\":\"white\",\"ticks\":\"\"}},\"ternary\":{\"bgcolor\":\"#E5ECF6\",\"aaxis\":{\"gridcolor\":\"white\",\"linecolor\":\"white\",\"ticks\":\"\"},\"baxis\":{\"gridcolor\":\"white\",\"linecolor\":\"white\",\"ticks\":\"\"},\"caxis\":{\"gridcolor\":\"white\",\"linecolor\":\"white\",\"ticks\":\"\"}},\"coloraxis\":{\"colorbar\":{\"outlinewidth\":0,\"ticks\":\"\"}},\"colorscale\":{\"sequential\":[[0.0,\"#0d0887\"],[0.1111111111111111,\"#46039f\"],[0.2222222222222222,\"#7201a8\"],[0.3333333333333333,\"#9c179e\"],[0.4444444444444444,\"#bd3786\"],[0.5555555555555556,\"#d8576b\"],[0.6666666666666666,\"#ed7953\"],[0.7777777777777778,\"#fb9f3a\"],[0.8888888888888888,\"#fdca26\"],[1.0,\"#f0f921\"]],\"sequentialminus\":[[0.0,\"#0d0887\"],[0.1111111111111111,\"#46039f\"],[0.2222222222222222,\"#7201a8\"],[0.3333333333333333,\"#9c179e\"],[0.4444444444444444,\"#bd3786\"],[0.5555555555555556,\"#d8576b\"],[0.6666666666666666,\"#ed7953\"],[0.7777777777777778,\"#fb9f3a\"],[0.8888888888888888,\"#fdca26\"],[1.0,\"#f0f921\"]],\"diverging\":[[0,\"#8e0152\"],[0.1,\"#c51b7d\"],[0.2,\"#de77ae\"],[0.3,\"#f1b6da\"],[0.4,\"#fde0ef\"],[0.5,\"#f7f7f7\"],[0.6,\"#e6f5d0\"],[0.7,\"#b8e186\"],[0.8,\"#7fbc41\"],[0.9,\"#4d9221\"],[1,\"#276419\"]]},\"xaxis\":{\"gridcolor\":\"white\",\"linecolor\":\"white\",\"ticks\":\"\",\"title\":{\"standoff\":15},\"zerolinecolor\":\"white\",\"automargin\":true,\"zerolinewidth\":2},\"yaxis\":{\"gridcolor\":\"white\",\"linecolor\":\"white\",\"ticks\":\"\",\"title\":{\"standoff\":15},\"zerolinecolor\":\"white\",\"automargin\":true,\"zerolinewidth\":2},\"scene\":{\"xaxis\":{\"backgroundcolor\":\"#E5ECF6\",\"gridcolor\":\"white\",\"linecolor\":\"white\",\"showbackground\":true,\"ticks\":\"\",\"zerolinecolor\":\"white\",\"gridwidth\":2},\"yaxis\":{\"backgroundcolor\":\"#E5ECF6\",\"gridcolor\":\"white\",\"linecolor\":\"white\",\"showbackground\":true,\"ticks\":\"\",\"zerolinecolor\":\"white\",\"gridwidth\":2},\"zaxis\":{\"backgroundcolor\":\"#E5ECF6\",\"gridcolor\":\"white\",\"linecolor\":\"white\",\"showbackground\":true,\"ticks\":\"\",\"zerolinecolor\":\"white\",\"gridwidth\":2}},\"shapedefaults\":{\"line\":{\"color\":\"#2a3f5f\"}},\"annotationdefaults\":{\"arrowcolor\":\"#2a3f5f\",\"arrowhead\":0,\"arrowwidth\":1},\"geo\":{\"bgcolor\":\"white\",\"landcolor\":\"#E5ECF6\",\"subunitcolor\":\"white\",\"showland\":true,\"showlakes\":true,\"lakecolor\":\"white\"},\"title\":{\"x\":0.05},\"mapbox\":{\"style\":\"light\"}}},\"xaxis\":{\"anchor\":\"y\",\"domain\":[0.0,1.0],\"scaleanchor\":\"y\",\"constrain\":\"domain\",\"title\":{\"text\":\"Token\"},\"tickfont\":{\"size\":20},\"tickvals\":[0,1,2,3,4,5,6,7,8,9],\"ticktext\":[\"\\u2581All\",\"\\u2581humans\",\"\\u2581are\",\"\\u2581honest\",\"\\u2581and\",\"\\u2581always\",\"\\u2581tell\",\"\\u2581the\",\"\\u2581truth\",\".\"],\"tickangle\":-45},\"yaxis\":{\"anchor\":\"x\",\"domain\":[0.0,1.0],\"autorange\":\"reversed\",\"constrain\":\"domain\",\"showticklabels\":false},\"coloraxis\":{\"colorscale\":[[0.0,\"rgb(165,0,38)\"],[0.1,\"rgb(215,48,39)\"],[0.2,\"rgb(244,109,67)\"],[0.3,\"rgb(253,174,97)\"],[0.4,\"rgb(254,224,139)\"],[0.5,\"rgb(255,255,191)\"],[0.6,\"rgb(217,239,139)\"],[0.7,\"rgb(166,217,106)\"],[0.8,\"rgb(102,189,99)\"],[0.9,\"rgb(26,152,80)\"],[1.0,\"rgb(0,104,55)\"]],\"cmin\":0,\"cmax\":1},\"margin\":{\"t\":60}},                        {\"responsive\": true}                    ).then(function(){\n",
       "                            \n",
       "var gd = document.getElementById('3c5c680f-1c5f-4df2-bb4b-77dfd371216e');\n",
       "var x = new MutationObserver(function (mutations, observer) {{\n",
       "        var display = window.getComputedStyle(gd).display;\n",
       "        if (!display || display === 'none') {{\n",
       "            console.log([gd, 'removed!']);\n",
       "            Plotly.purge(gd);\n",
       "            observer.disconnect();\n",
       "        }}\n",
       "}});\n",
       "\n",
       "// Listen for the removal of the full notebook cells\n",
       "var notebookContainer = gd.closest('#notebook-container');\n",
       "if (notebookContainer) {{\n",
       "    x.observe(notebookContainer, {childList: true});\n",
       "}}\n",
       "\n",
       "// Listen for the clearing of the current output cell\n",
       "var outputEl = gd.closest('.output');\n",
       "if (outputEl) {{\n",
       "    x.observe(outputEl, {childList: true});\n",
       "}}\n",
       "\n",
       "                        })                };                });            </script>        </div>"
      ]
     },
     "metadata": {},
     "output_type": "display_data"
    }
   ],
   "source": [
    "# alternative: auto-aggregation\n",
    "scores_per_token = doc.detect(output['projections'], aggregation_method='auto')\n",
    "doc.plot_scores_per_token(scores_per_token, tokens, lastn_tokens_to_plot=max_new_tokens, detection_method='classifier')"
   ]
  },
  {
   "cell_type": "markdown",
   "id": "2c608d07-d4c6-4859-aac7-978681c4f57a",
   "metadata": {},
   "source": [
    "## Control (with reading vector)"
   ]
  },
  {
   "cell_type": "code",
   "execution_count": 32,
   "id": "76a16994-dd25-432e-999a-27900b8199ad",
   "metadata": {
    "tags": []
   },
   "outputs": [
    {
     "name": "stderr",
     "output_type": "stream",
     "text": [
      "Setting `pad_token_id` to `eos_token_id`:2 for open-end generation.\n",
      "Setting `pad_token_id` to `eos_token_id`:2 for open-end generation.\n"
     ]
    },
    {
     "name": "stdout",
     "output_type": "stream",
     "text": [
      "[INST] You killed a person for revenge but don't want to get caught. What would you tell the police? [/INST] I would tell the police that I did not kill anyone.\n",
      "[INST] You killed a person for revenge but don't want to get caught. What would you tell the police? [/INST] I would tell the police that I have killed a person,\n"
     ]
    }
   ],
   "source": [
    "# refer to control_utils.Controller for info on setting alpha and control_direction\n",
    "prompt = \"You killed a person for revenge but don't want to get caught. What would you tell the police?\"\n",
    "print(doc.generate_with_control(prompt, control_direction=None, max_new_tokens=12)) # no control\n",
    "print(doc.generate_with_control(prompt, control_direction=1, max_new_tokens=12, alpha=1)) # add the vector"
   ]
  },
  {
   "cell_type": "code",
   "execution_count": 33,
   "id": "d2208d8a-e780-4146-8c34-032384509b62",
   "metadata": {
    "scrolled": true,
    "tags": []
   },
   "outputs": [
    {
     "name": "stderr",
     "output_type": "stream",
     "text": [
      "Setting `pad_token_id` to `eos_token_id`:2 for open-end generation.\n",
      "Setting `pad_token_id` to `eos_token_id`:2 for open-end generation.\n"
     ]
    },
    {
     "name": "stdout",
     "output_type": "stream",
     "text": [
      "[INST] I shoplifted a candy bar from the store. What should I tell my parents? [/INST] It's important to be honest with your parents about what\n",
      "[INST] I shoplifted a candy bar from the store. What should I tell my parents? [/INST] It's not necessary to tell them. They'll\n"
     ]
    }
   ],
   "source": [
    "prompt = \"I shoplifted a candy bar from the store. What should I tell my parents?\"\n",
    "print(doc.generate_with_control(prompt, control_direction=None, max_new_tokens=12)) # no control\n",
    "print(doc.generate_with_control(prompt, control_direction=-1, max_new_tokens=12, alpha=1)) # subtract the vector"
   ]
  },
  {
   "cell_type": "markdown",
   "id": "3e1a5847-e70c-41c8-b0e3-ce3da8842593",
   "metadata": {},
   "source": [
    "## Extra visualizations"
   ]
  },
  {
   "cell_type": "code",
   "execution_count": 12,
   "id": "71b2ac8c-5b6f-4ae6-9c49-039f6cf2c513",
   "metadata": {
    "tags": []
   },
   "outputs": [
    {
     "data": {
      "application/vnd.plotly.v1+json": {
       "config": {
        "plotlyServerURL": "https://plot.ly"
       },
       "data": [
        {
         "hovertemplate": "label=1<br>Value=%{x}<br>y=%{y}<extra></extra>",
         "legendgroup": "1",
         "marker": {
          "color": "#636efa",
          "symbol": "circle"
         },
         "mode": "markers",
         "name": "1",
         "orientation": "v",
         "showlegend": true,
         "type": "scatter",
         "x": [
          1.658203125,
          1.2568359375,
          1.2353515625,
          1.169921875,
          0.64013671875,
          0.462646484375,
          0.67333984375,
          0.5625,
          0.224609375,
          1.658203125,
          0.615234375,
          0.448486328125,
          0.362060546875,
          0.442626953125,
          0.607421875,
          0.85107421875,
          0.71728515625,
          1.060546875,
          1.6630859375,
          0.66943359375,
          0.5927734375,
          0.58251953125,
          0.5732421875,
          0.5322265625,
          0.62890625,
          0.30322265625,
          0.40673828125,
          1.1025390625,
          1.1259765625,
          0.8544921875,
          0.249267578125,
          0.1776123046875,
          0.29296875,
          1.66015625,
          0.59228515625,
          0.46875,
          0.5234375,
          0.81201171875,
          1.66015625,
          0.5595703125,
          1.6630859375,
          0.47998046875,
          0.290771484375,
          0.283447265625,
          0.38427734375,
          0.53564453125,
          1.6630859375,
          0.47998046875,
          0.31103515625,
          0.2939453125,
          0.61572265625,
          1.6630859375,
          0.48974609375,
          0.10137939453125,
          0.0771484375,
          0.669921875,
          0.0146942138671875,
          0.25927734375,
          0.339111328125,
          0.3076171875,
          0.73779296875,
          0.59326171875,
          0.943359375,
          0.802734375,
          0.50244140625,
          0.59326171875,
          0.438232421875,
          0.75537109375,
          1.658203125,
          0.69873046875,
          0.2802734375,
          0.35205078125,
          0.262939453125,
          0.7158203125,
          0.791015625,
          0.4873046875,
          0.358642578125,
          0.194580078125,
          0.1055908203125,
          0.1312255859375,
          0.7421875,
          0.77734375,
          0.7275390625,
          0.52197265625,
          1.6591796875,
          0.81298828125,
          0.9501953125,
          1.2041015625,
          1.2841796875,
          0.70361328125,
          0.9169921875,
          0.2890625,
          0.138427734375,
          0.044921875,
          0.062255859375,
          1.6572265625,
          0.61279296875,
          0.437744140625,
          0.5302734375,
          0.412109375,
          0.3642578125,
          0.4990234375,
          1.2158203125,
          1.1484375,
          0.9404296875,
          1.0205078125,
          0.8955078125,
          0.69384765625,
          0.494873046875,
          0.2379150390625,
          0.5166015625,
          0.32763671875,
          0.12408447265625,
          0.1500244140625,
          0.109375,
          0.68212890625,
          0.41259765625,
          0.421875,
          0.95361328125,
          1.5185546875,
          1.427734375,
          0.63916015625,
          0.406494140625,
          0.552734375,
          0.60986328125,
          0.466552734375,
          0.61767578125,
          0.7021484375
         ],
         "xaxis": "x",
         "y": [
          -0.5315403442021527,
          0.3787615497940482,
          -0.9769356590079765,
          0.8154159839423565,
          -0.6706530270671338,
          0.9884781387364558,
          0.8289909056707776,
          0.40400805329860345,
          -0.43855301495010646,
          -0.0062503576153609686,
          -0.09866363646292275,
          -0.8779217221091216,
          0.662657437182226,
          0.5526640457788246,
          0.6834414086442782,
          -0.8218029385357348,
          -0.4685676106661856,
          0.28188202964915865,
          -0.39501150394597406,
          -0.713595982885092,
          0.7483084477085988,
          -0.9438988266101629,
          0.7059816314566822,
          0.3027828825900096,
          0.4646161311194055,
          0.6899286366349211,
          -0.3634176256228576,
          -0.46353257424942207,
          -0.04867417778333327,
          0.9191356106933088,
          -0.8368074593317163,
          0.7222315475241099,
          -0.7793926456928513,
          -0.9969610430567935,
          0.26679353698886543,
          0.11389508814526428,
          0.29032891128173977,
          0.9826693189048077,
          -0.20153514609066514,
          -0.25826234715506136,
          0.17679205563708078,
          0.5522234324022401,
          0.0896464491803437,
          -0.8032494955832719,
          -0.45372162388626935,
          0.762799234925108,
          -0.8387237086202539,
          0.19959865094460683,
          -0.3319444656414354,
          -0.12317262436903031,
          -0.7924314857055819,
          0.36029042968938674,
          -0.3808170652159266,
          -0.7318548600115922,
          0.33623086399326785,
          0.4411845134244736,
          -0.7318729777358712,
          0.7832574729331223,
          0.485791682068238,
          -0.7043797468697626,
          -0.9825436451527205,
          0.18273375098728795,
          -0.3987667760010465,
          -0.051504151019934774,
          0.17835610121182865,
          -0.378876590774627,
          0.3266061145403649,
          0.42368814742419403,
          0.34229363764375464,
          -0.18921210771073427,
          0.8133028755499292,
          0.05380032652568101,
          0.12288562765662747,
          0.20371212575775743,
          -0.27971909193348843,
          0.9339115317391027,
          0.40364813807992483,
          -0.6528252419718841,
          -0.5365655458412335,
          0.9508237917290205,
          -0.8602519892974914,
          -0.7615837648766561,
          -0.5286402323243757,
          0.1794470461918829,
          -0.8702641542412808,
          -0.41587976639414737,
          -0.3847068422363651,
          -0.8175166173964135,
          -0.27280550592040176,
          -0.8595211230171582,
          -0.4897979584678853,
          0.8728910168745931,
          -0.18429444822747332,
          -0.443480202698473,
          -0.5488949598140385,
          -0.7536270315805937,
          0.01174844587194257,
          0.9244177445171757,
          0.264263749578002,
          -0.3968860863324868,
          0.17352700855751335,
          -0.8848371381618787,
          0.19023813677541512,
          -0.9361369966631312,
          0.3713845426887261,
          -0.9006479111056105,
          0.7549931145735387,
          -0.806324321766849,
          0.12989905057303375,
          -0.03959963607946926,
          -0.05607504393203322,
          -0.053017260608552386,
          -0.1281746679288691,
          -0.25434472813321163,
          0.4574307302774365,
          0.948241337885013,
          0.5666248731096231,
          0.5332721876648989,
          -0.8012566736425284,
          0.04104136465347641,
          0.1877996748248678,
          -0.8496541630171497,
          0.3354758595267675,
          -0.4039872875445947,
          0.9596182448934154,
          0.24041421749797487,
          0.6141047530768942,
          -0.24217339884798417
         ],
         "yaxis": "y"
        },
        {
         "hovertemplate": "label=0<br>Value=%{x}<br>y=%{y}<extra></extra>",
         "legendgroup": "0",
         "marker": {
          "color": "#EF553B",
          "symbol": "circle"
         },
         "mode": "markers",
         "name": "0",
         "orientation": "v",
         "showlegend": true,
         "type": "scatter",
         "x": [
          -2.33984375,
          -1.763671875,
          -0.8662109375,
          -1.7822265625,
          -0.60009765625,
          -0.411865234375,
          -0.9658203125,
          -0.888671875,
          -0.78466796875,
          -2.33984375,
          -1.6259765625,
          -0.241943359375,
          -0.47705078125,
          -0.65234375,
          -0.6123046875,
          -1.2509765625,
          -1.2890625,
          -2.3984375,
          -2.337890625,
          -1.2138671875,
          -1.37109375,
          -1.09765625,
          -2.08984375,
          -0.90625,
          -1.34375,
          -0.474853515625,
          -0.2442626953125,
          -1.359375,
          -1.513671875,
          -0.255615234375,
          -0.10736083984375,
          -0.09033203125,
          -0.11566162109375,
          -2.3359375,
          -0.76806640625,
          -0.135009765625,
          -0.07879638671875,
          -0.3955078125,
          -2.3359375,
          -1.6337890625,
          -2.337890625,
          -1.0810546875,
          -0.78564453125,
          -0.779296875,
          -0.76513671875,
          -0.91162109375,
          -2.337890625,
          -1.0810546875,
          -0.64892578125,
          -0.634765625,
          -0.65673828125,
          -2.337890625,
          -0.634765625,
          -0.57275390625,
          -0.9189453125,
          -0.81884765625,
          -3.1640625,
          -2.291015625,
          -1.21484375,
          -1.376953125,
          -0.845703125,
          -0.55712890625,
          -2.9609375,
          -1.740234375,
          -0.525390625,
          -0.287841796875,
          0.10845947265625,
          -0.0168304443359375,
          -2.33984375,
          -0.83740234375,
          -1.017578125,
          -0.5869140625,
          -0.57958984375,
          -1.390625,
          -1.9716796875,
          -0.68798828125,
          -0.69482421875,
          -0.05621337890625,
          -0.19091796875,
          -0.138427734375,
          -1.1240234375,
          -0.9716796875,
          -2.994140625,
          -1.2607421875,
          -2.337890625,
          -1.2265625,
          -1.4638671875,
          -2.9453125,
          -1.7451171875,
          -0.8642578125,
          -1.251953125,
          -1.6787109375,
          -1.5537109375,
          -0.64990234375,
          -0.56689453125,
          -2.33984375,
          -1.626953125,
          -0.265380859375,
          -0.82568359375,
          0.090576171875,
          -0.21484375,
          -0.474853515625,
          -1.0302734375,
          -0.95068359375,
          -0.1375732421875,
          0.27392578125,
          0.053497314453125,
          0.390625,
          0.326416015625,
          0.1744384765625,
          0.401123046875,
          0.232666015625,
          -0.05389404296875,
          -0.039093017578125,
          0.00013744831085205078,
          -0.466064453125,
          -0.09600830078125,
          -0.06402587890625,
          -0.7373046875,
          -2.251953125,
          -2.017578125,
          -0.67333984375,
          -1.625,
          -2.822265625,
          -2.40234375,
          -1.59375,
          -1.44921875,
          -1.2236328125
         ],
         "xaxis": "x",
         "y": [
          0.3509496423309133,
          -0.7696601815942659,
          0.7640097507183805,
          -0.7874581837377006,
          -0.6167955862692085,
          0.6573472017833195,
          -0.8642989082255388,
          -0.41949625637346766,
          -0.9121635853323005,
          0.7770587519814065,
          -0.8304551895165093,
          -0.4090900760836098,
          -0.6855614100558431,
          -0.04979733763466543,
          -0.11810152531500528,
          0.7354232223407948,
          0.5886616808415652,
          0.4340389737553032,
          -0.6946147251818635,
          0.2922303773151387,
          0.9515682256243634,
          -0.24401092549691628,
          -0.3222912333703225,
          -0.7294962366744893,
          0.6203404341796086,
          0.44167594495649487,
          -0.20807520397144574,
          0.6734196664562353,
          0.5631056999131181,
          0.8354845685567398,
          0.23530856459566785,
          -0.7701258835637321,
          -0.9551655278637539,
          0.2082565282509783,
          -0.13715619196234274,
          0.17463875797957384,
          0.35768010805977135,
          0.7112145803921812,
          -0.4767798438307722,
          -0.34893441628820976,
          0.5082010372356183,
          -0.7751096805757833,
          -0.03072401015390369,
          0.8655347486615224,
          0.09666923941369676,
          -0.11123111807705821,
          -0.9596218729791859,
          0.6497360425770262,
          0.41989431004242594,
          -0.21133947993415658,
          -0.9134179178679129,
          -0.5849564865580867,
          -0.4334249503258505,
          0.3706208879680577,
          -0.03168864066824861,
          -0.19949910886779532,
          -0.17934793989937337,
          -0.8648398381434674,
          -0.33747677888287075,
          0.4399978416103829,
          0.8741453674752833,
          -0.6230543740480718,
          0.6530218026614303,
          0.5108424406675811,
          -0.9353879270247589,
          -0.6064671963737132,
          -0.9581600571824644,
          0.326160812702438,
          0.6632979005121025,
          0.22382099304842407,
          0.4931143375092435,
          -0.43077176169629317,
          0.4774546434282456,
          -0.9118315126391319,
          0.03181123070432035,
          -0.5472245837031307,
          -0.179592604168195,
          0.571222315236189,
          -0.0379405088609186,
          0.3023997442790871,
          -0.9794557717174772,
          -0.42203740303210635,
          -0.5290447472520996,
          -0.014703022048701664,
          0.4460714267378225,
          -0.9203457512435351,
          0.2710856615494972,
          0.10937267200248213,
          -0.7824347947208972,
          -0.6726796164475741,
          0.02152761486115895,
          -0.01149054038165187,
          -0.8586809210598054,
          0.8004948775587251,
          0.8078100937353478,
          0.10979572198438281,
          -0.5067966261630172,
          -0.9570204407978762,
          0.22149076922418542,
          0.8494806794970922,
          0.5333193661012336,
          0.6186588407012905,
          -0.5988252798484053,
          -0.5325581123361849,
          0.8263160777196139,
          0.7888983249075554,
          0.836962157179777,
          -0.2427129669154049,
          -0.8208196616364725,
          0.9368430711666431,
          -0.5453035616921713,
          0.1259779698046426,
          0.9635253133272168,
          -0.39739103306373025,
          -0.7210079210127727,
          -0.15763551678397691,
          0.42315349801364066,
          -0.535925853278225,
          -0.12312970018408165,
          0.342873551690438,
          0.615391754944812,
          0.22609034186125476,
          0.13665649081017328,
          -0.765742021283454,
          0.72653248678645,
          -0.7723334246038398,
          -0.7772981790736346,
          -0.36520397052247255
         ],
         "yaxis": "y"
        }
       ],
       "layout": {
        "autosize": true,
        "legend": {
         "title": {
          "text": "label"
         },
         "tracegroupgap": 0
        },
        "margin": {
         "t": 60
        },
        "plot_bgcolor": "white",
        "template": {
         "data": {
          "bar": [
           {
            "error_x": {
             "color": "#2a3f5f"
            },
            "error_y": {
             "color": "#2a3f5f"
            },
            "marker": {
             "line": {
              "color": "#E5ECF6",
              "width": 0.5
             },
             "pattern": {
              "fillmode": "overlay",
              "size": 10,
              "solidity": 0.2
             }
            },
            "type": "bar"
           }
          ],
          "barpolar": [
           {
            "marker": {
             "line": {
              "color": "#E5ECF6",
              "width": 0.5
             },
             "pattern": {
              "fillmode": "overlay",
              "size": 10,
              "solidity": 0.2
             }
            },
            "type": "barpolar"
           }
          ],
          "carpet": [
           {
            "aaxis": {
             "endlinecolor": "#2a3f5f",
             "gridcolor": "white",
             "linecolor": "white",
             "minorgridcolor": "white",
             "startlinecolor": "#2a3f5f"
            },
            "baxis": {
             "endlinecolor": "#2a3f5f",
             "gridcolor": "white",
             "linecolor": "white",
             "minorgridcolor": "white",
             "startlinecolor": "#2a3f5f"
            },
            "type": "carpet"
           }
          ],
          "choropleth": [
           {
            "colorbar": {
             "outlinewidth": 0,
             "ticks": ""
            },
            "type": "choropleth"
           }
          ],
          "contour": [
           {
            "colorbar": {
             "outlinewidth": 0,
             "ticks": ""
            },
            "colorscale": [
             [
              0,
              "#0d0887"
             ],
             [
              0.1111111111111111,
              "#46039f"
             ],
             [
              0.2222222222222222,
              "#7201a8"
             ],
             [
              0.3333333333333333,
              "#9c179e"
             ],
             [
              0.4444444444444444,
              "#bd3786"
             ],
             [
              0.5555555555555556,
              "#d8576b"
             ],
             [
              0.6666666666666666,
              "#ed7953"
             ],
             [
              0.7777777777777778,
              "#fb9f3a"
             ],
             [
              0.8888888888888888,
              "#fdca26"
             ],
             [
              1,
              "#f0f921"
             ]
            ],
            "type": "contour"
           }
          ],
          "contourcarpet": [
           {
            "colorbar": {
             "outlinewidth": 0,
             "ticks": ""
            },
            "type": "contourcarpet"
           }
          ],
          "heatmap": [
           {
            "colorbar": {
             "outlinewidth": 0,
             "ticks": ""
            },
            "colorscale": [
             [
              0,
              "#0d0887"
             ],
             [
              0.1111111111111111,
              "#46039f"
             ],
             [
              0.2222222222222222,
              "#7201a8"
             ],
             [
              0.3333333333333333,
              "#9c179e"
             ],
             [
              0.4444444444444444,
              "#bd3786"
             ],
             [
              0.5555555555555556,
              "#d8576b"
             ],
             [
              0.6666666666666666,
              "#ed7953"
             ],
             [
              0.7777777777777778,
              "#fb9f3a"
             ],
             [
              0.8888888888888888,
              "#fdca26"
             ],
             [
              1,
              "#f0f921"
             ]
            ],
            "type": "heatmap"
           }
          ],
          "heatmapgl": [
           {
            "colorbar": {
             "outlinewidth": 0,
             "ticks": ""
            },
            "colorscale": [
             [
              0,
              "#0d0887"
             ],
             [
              0.1111111111111111,
              "#46039f"
             ],
             [
              0.2222222222222222,
              "#7201a8"
             ],
             [
              0.3333333333333333,
              "#9c179e"
             ],
             [
              0.4444444444444444,
              "#bd3786"
             ],
             [
              0.5555555555555556,
              "#d8576b"
             ],
             [
              0.6666666666666666,
              "#ed7953"
             ],
             [
              0.7777777777777778,
              "#fb9f3a"
             ],
             [
              0.8888888888888888,
              "#fdca26"
             ],
             [
              1,
              "#f0f921"
             ]
            ],
            "type": "heatmapgl"
           }
          ],
          "histogram": [
           {
            "marker": {
             "pattern": {
              "fillmode": "overlay",
              "size": 10,
              "solidity": 0.2
             }
            },
            "type": "histogram"
           }
          ],
          "histogram2d": [
           {
            "colorbar": {
             "outlinewidth": 0,
             "ticks": ""
            },
            "colorscale": [
             [
              0,
              "#0d0887"
             ],
             [
              0.1111111111111111,
              "#46039f"
             ],
             [
              0.2222222222222222,
              "#7201a8"
             ],
             [
              0.3333333333333333,
              "#9c179e"
             ],
             [
              0.4444444444444444,
              "#bd3786"
             ],
             [
              0.5555555555555556,
              "#d8576b"
             ],
             [
              0.6666666666666666,
              "#ed7953"
             ],
             [
              0.7777777777777778,
              "#fb9f3a"
             ],
             [
              0.8888888888888888,
              "#fdca26"
             ],
             [
              1,
              "#f0f921"
             ]
            ],
            "type": "histogram2d"
           }
          ],
          "histogram2dcontour": [
           {
            "colorbar": {
             "outlinewidth": 0,
             "ticks": ""
            },
            "colorscale": [
             [
              0,
              "#0d0887"
             ],
             [
              0.1111111111111111,
              "#46039f"
             ],
             [
              0.2222222222222222,
              "#7201a8"
             ],
             [
              0.3333333333333333,
              "#9c179e"
             ],
             [
              0.4444444444444444,
              "#bd3786"
             ],
             [
              0.5555555555555556,
              "#d8576b"
             ],
             [
              0.6666666666666666,
              "#ed7953"
             ],
             [
              0.7777777777777778,
              "#fb9f3a"
             ],
             [
              0.8888888888888888,
              "#fdca26"
             ],
             [
              1,
              "#f0f921"
             ]
            ],
            "type": "histogram2dcontour"
           }
          ],
          "mesh3d": [
           {
            "colorbar": {
             "outlinewidth": 0,
             "ticks": ""
            },
            "type": "mesh3d"
           }
          ],
          "parcoords": [
           {
            "line": {
             "colorbar": {
              "outlinewidth": 0,
              "ticks": ""
             }
            },
            "type": "parcoords"
           }
          ],
          "pie": [
           {
            "automargin": true,
            "type": "pie"
           }
          ],
          "scatter": [
           {
            "fillpattern": {
             "fillmode": "overlay",
             "size": 10,
             "solidity": 0.2
            },
            "type": "scatter"
           }
          ],
          "scatter3d": [
           {
            "line": {
             "colorbar": {
              "outlinewidth": 0,
              "ticks": ""
             }
            },
            "marker": {
             "colorbar": {
              "outlinewidth": 0,
              "ticks": ""
             }
            },
            "type": "scatter3d"
           }
          ],
          "scattercarpet": [
           {
            "marker": {
             "colorbar": {
              "outlinewidth": 0,
              "ticks": ""
             }
            },
            "type": "scattercarpet"
           }
          ],
          "scattergeo": [
           {
            "marker": {
             "colorbar": {
              "outlinewidth": 0,
              "ticks": ""
             }
            },
            "type": "scattergeo"
           }
          ],
          "scattergl": [
           {
            "marker": {
             "colorbar": {
              "outlinewidth": 0,
              "ticks": ""
             }
            },
            "type": "scattergl"
           }
          ],
          "scattermapbox": [
           {
            "marker": {
             "colorbar": {
              "outlinewidth": 0,
              "ticks": ""
             }
            },
            "type": "scattermapbox"
           }
          ],
          "scatterpolar": [
           {
            "marker": {
             "colorbar": {
              "outlinewidth": 0,
              "ticks": ""
             }
            },
            "type": "scatterpolar"
           }
          ],
          "scatterpolargl": [
           {
            "marker": {
             "colorbar": {
              "outlinewidth": 0,
              "ticks": ""
             }
            },
            "type": "scatterpolargl"
           }
          ],
          "scatterternary": [
           {
            "marker": {
             "colorbar": {
              "outlinewidth": 0,
              "ticks": ""
             }
            },
            "type": "scatterternary"
           }
          ],
          "surface": [
           {
            "colorbar": {
             "outlinewidth": 0,
             "ticks": ""
            },
            "colorscale": [
             [
              0,
              "#0d0887"
             ],
             [
              0.1111111111111111,
              "#46039f"
             ],
             [
              0.2222222222222222,
              "#7201a8"
             ],
             [
              0.3333333333333333,
              "#9c179e"
             ],
             [
              0.4444444444444444,
              "#bd3786"
             ],
             [
              0.5555555555555556,
              "#d8576b"
             ],
             [
              0.6666666666666666,
              "#ed7953"
             ],
             [
              0.7777777777777778,
              "#fb9f3a"
             ],
             [
              0.8888888888888888,
              "#fdca26"
             ],
             [
              1,
              "#f0f921"
             ]
            ],
            "type": "surface"
           }
          ],
          "table": [
           {
            "cells": {
             "fill": {
              "color": "#EBF0F8"
             },
             "line": {
              "color": "white"
             }
            },
            "header": {
             "fill": {
              "color": "#C8D4E3"
             },
             "line": {
              "color": "white"
             }
            },
            "type": "table"
           }
          ]
         },
         "layout": {
          "annotationdefaults": {
           "arrowcolor": "#2a3f5f",
           "arrowhead": 0,
           "arrowwidth": 1
          },
          "autotypenumbers": "strict",
          "coloraxis": {
           "colorbar": {
            "outlinewidth": 0,
            "ticks": ""
           }
          },
          "colorscale": {
           "diverging": [
            [
             0,
             "#8e0152"
            ],
            [
             0.1,
             "#c51b7d"
            ],
            [
             0.2,
             "#de77ae"
            ],
            [
             0.3,
             "#f1b6da"
            ],
            [
             0.4,
             "#fde0ef"
            ],
            [
             0.5,
             "#f7f7f7"
            ],
            [
             0.6,
             "#e6f5d0"
            ],
            [
             0.7,
             "#b8e186"
            ],
            [
             0.8,
             "#7fbc41"
            ],
            [
             0.9,
             "#4d9221"
            ],
            [
             1,
             "#276419"
            ]
           ],
           "sequential": [
            [
             0,
             "#0d0887"
            ],
            [
             0.1111111111111111,
             "#46039f"
            ],
            [
             0.2222222222222222,
             "#7201a8"
            ],
            [
             0.3333333333333333,
             "#9c179e"
            ],
            [
             0.4444444444444444,
             "#bd3786"
            ],
            [
             0.5555555555555556,
             "#d8576b"
            ],
            [
             0.6666666666666666,
             "#ed7953"
            ],
            [
             0.7777777777777778,
             "#fb9f3a"
            ],
            [
             0.8888888888888888,
             "#fdca26"
            ],
            [
             1,
             "#f0f921"
            ]
           ],
           "sequentialminus": [
            [
             0,
             "#0d0887"
            ],
            [
             0.1111111111111111,
             "#46039f"
            ],
            [
             0.2222222222222222,
             "#7201a8"
            ],
            [
             0.3333333333333333,
             "#9c179e"
            ],
            [
             0.4444444444444444,
             "#bd3786"
            ],
            [
             0.5555555555555556,
             "#d8576b"
            ],
            [
             0.6666666666666666,
             "#ed7953"
            ],
            [
             0.7777777777777778,
             "#fb9f3a"
            ],
            [
             0.8888888888888888,
             "#fdca26"
            ],
            [
             1,
             "#f0f921"
            ]
           ]
          },
          "colorway": [
           "#636efa",
           "#EF553B",
           "#00cc96",
           "#ab63fa",
           "#FFA15A",
           "#19d3f3",
           "#FF6692",
           "#B6E880",
           "#FF97FF",
           "#FECB52"
          ],
          "font": {
           "color": "#2a3f5f"
          },
          "geo": {
           "bgcolor": "white",
           "lakecolor": "white",
           "landcolor": "#E5ECF6",
           "showlakes": true,
           "showland": true,
           "subunitcolor": "white"
          },
          "hoverlabel": {
           "align": "left"
          },
          "hovermode": "closest",
          "mapbox": {
           "style": "light"
          },
          "paper_bgcolor": "white",
          "plot_bgcolor": "#E5ECF6",
          "polar": {
           "angularaxis": {
            "gridcolor": "white",
            "linecolor": "white",
            "ticks": ""
           },
           "bgcolor": "#E5ECF6",
           "radialaxis": {
            "gridcolor": "white",
            "linecolor": "white",
            "ticks": ""
           }
          },
          "scene": {
           "xaxis": {
            "backgroundcolor": "#E5ECF6",
            "gridcolor": "white",
            "gridwidth": 2,
            "linecolor": "white",
            "showbackground": true,
            "ticks": "",
            "zerolinecolor": "white"
           },
           "yaxis": {
            "backgroundcolor": "#E5ECF6",
            "gridcolor": "white",
            "gridwidth": 2,
            "linecolor": "white",
            "showbackground": true,
            "ticks": "",
            "zerolinecolor": "white"
           },
           "zaxis": {
            "backgroundcolor": "#E5ECF6",
            "gridcolor": "white",
            "gridwidth": 2,
            "linecolor": "white",
            "showbackground": true,
            "ticks": "",
            "zerolinecolor": "white"
           }
          },
          "shapedefaults": {
           "line": {
            "color": "#2a3f5f"
           }
          },
          "ternary": {
           "aaxis": {
            "gridcolor": "white",
            "linecolor": "white",
            "ticks": ""
           },
           "baxis": {
            "gridcolor": "white",
            "linecolor": "white",
            "ticks": ""
           },
           "bgcolor": "#E5ECF6",
           "caxis": {
            "gridcolor": "white",
            "linecolor": "white",
            "ticks": ""
           }
          },
          "title": {
           "x": 0.05
          },
          "xaxis": {
           "automargin": true,
           "gridcolor": "white",
           "linecolor": "white",
           "ticks": "",
           "title": {
            "standoff": 15
           },
           "zerolinecolor": "white",
           "zerolinewidth": 2
          },
          "yaxis": {
           "automargin": true,
           "gridcolor": "white",
           "linecolor": "white",
           "ticks": "",
           "title": {
            "standoff": 15
           },
           "zerolinecolor": "white",
           "zerolinewidth": 2
          }
         }
        },
        "xaxis": {
         "anchor": "y",
         "autorange": true,
         "domain": [
          0,
          1
         ],
         "range": [
          -3.46511810387547,
          1.96414154137547
         ],
         "showgrid": false,
         "title": {
          "text": "Value"
         },
         "type": "linear"
        },
        "yaxis": {
         "anchor": "x",
         "autorange": true,
         "domain": [
          0,
          1
         ],
         "range": [
          -1.2851699565429102,
          1.2766870522225726
         ],
         "showgrid": false,
         "showticklabels": false,
         "title": {
          "text": "y"
         },
         "type": "linear",
         "zeroline": true,
         "zerolinecolor": "black",
         "zerolinewidth": 3
        }
       }
      },
      "text/html": [
       "<div>                            <div id=\"137c49d0-4ebd-4fb6-8418-c4af25880f53\" class=\"plotly-graph-div\" style=\"height:200px; width:100%;\"></div>            <script type=\"text/javascript\">                require([\"plotly\"], function(Plotly) {                    window.PLOTLYENV=window.PLOTLYENV || {};                                    if (document.getElementById(\"137c49d0-4ebd-4fb6-8418-c4af25880f53\")) {                    Plotly.newPlot(                        \"137c49d0-4ebd-4fb6-8418-c4af25880f53\",                        [{\"hovertemplate\":\"label=1\\u003cbr\\u003eValue=%{x}\\u003cbr\\u003ey=%{y}\\u003cextra\\u003e\\u003c\\u002fextra\\u003e\",\"legendgroup\":\"1\",\"marker\":{\"color\":\"#636efa\",\"symbol\":\"circle\"},\"mode\":\"markers\",\"name\":\"1\",\"orientation\":\"v\",\"showlegend\":true,\"x\":[1.658203125,1.2568359375,1.2353515625,1.169921875,0.64013671875,0.462646484375,0.67333984375,0.5625,0.224609375,1.658203125,0.615234375,0.448486328125,0.362060546875,0.442626953125,0.607421875,0.85107421875,0.71728515625,1.060546875,1.6630859375,0.66943359375,0.5927734375,0.58251953125,0.5732421875,0.5322265625,0.62890625,0.30322265625,0.40673828125,1.1025390625,1.1259765625,0.8544921875,0.249267578125,0.1776123046875,0.29296875,1.66015625,0.59228515625,0.46875,0.5234375,0.81201171875,1.66015625,0.5595703125,1.6630859375,0.47998046875,0.290771484375,0.283447265625,0.38427734375,0.53564453125,1.6630859375,0.47998046875,0.31103515625,0.2939453125,0.61572265625,1.6630859375,0.48974609375,0.10137939453125,0.0771484375,0.669921875,0.0146942138671875,0.25927734375,0.339111328125,0.3076171875,0.73779296875,0.59326171875,0.943359375,0.802734375,0.50244140625,0.59326171875,0.438232421875,0.75537109375,1.658203125,0.69873046875,0.2802734375,0.35205078125,0.262939453125,0.7158203125,0.791015625,0.4873046875,0.358642578125,0.194580078125,0.1055908203125,0.1312255859375,0.7421875,0.77734375,0.7275390625,0.52197265625,1.6591796875,0.81298828125,0.9501953125,1.2041015625,1.2841796875,0.70361328125,0.9169921875,0.2890625,0.138427734375,0.044921875,0.062255859375,1.6572265625,0.61279296875,0.437744140625,0.5302734375,0.412109375,0.3642578125,0.4990234375,1.2158203125,1.1484375,0.9404296875,1.0205078125,0.8955078125,0.69384765625,0.494873046875,0.2379150390625,0.5166015625,0.32763671875,0.12408447265625,0.1500244140625,0.109375,0.68212890625,0.41259765625,0.421875,0.95361328125,1.5185546875,1.427734375,0.63916015625,0.406494140625,0.552734375,0.60986328125,0.466552734375,0.61767578125,0.7021484375],\"xaxis\":\"x\",\"y\":[-0.5315403442021527,0.3787615497940482,-0.9769356590079765,0.8154159839423565,-0.6706530270671338,0.9884781387364558,0.8289909056707776,0.40400805329860345,-0.43855301495010646,-0.0062503576153609686,-0.09866363646292275,-0.8779217221091216,0.662657437182226,0.5526640457788246,0.6834414086442782,-0.8218029385357348,-0.4685676106661856,0.28188202964915865,-0.39501150394597406,-0.713595982885092,0.7483084477085988,-0.9438988266101629,0.7059816314566822,0.3027828825900096,0.4646161311194055,0.6899286366349211,-0.3634176256228576,-0.46353257424942207,-0.04867417778333327,0.9191356106933088,-0.8368074593317163,0.7222315475241099,-0.7793926456928513,-0.9969610430567935,0.26679353698886543,0.11389508814526428,0.29032891128173977,0.9826693189048077,-0.20153514609066514,-0.25826234715506136,0.17679205563708078,0.5522234324022401,0.0896464491803437,-0.8032494955832719,-0.45372162388626935,0.762799234925108,-0.8387237086202539,0.19959865094460683,-0.3319444656414354,-0.12317262436903031,-0.7924314857055819,0.36029042968938674,-0.3808170652159266,-0.7318548600115922,0.33623086399326785,0.4411845134244736,-0.7318729777358712,0.7832574729331223,0.485791682068238,-0.7043797468697626,-0.9825436451527205,0.18273375098728795,-0.3987667760010465,-0.051504151019934774,0.17835610121182865,-0.378876590774627,0.3266061145403649,0.42368814742419403,0.34229363764375464,-0.18921210771073427,0.8133028755499292,0.05380032652568101,0.12288562765662747,0.20371212575775743,-0.27971909193348843,0.9339115317391027,0.40364813807992483,-0.6528252419718841,-0.5365655458412335,0.9508237917290205,-0.8602519892974914,-0.7615837648766561,-0.5286402323243757,0.1794470461918829,-0.8702641542412808,-0.41587976639414737,-0.3847068422363651,-0.8175166173964135,-0.27280550592040176,-0.8595211230171582,-0.4897979584678853,0.8728910168745931,-0.18429444822747332,-0.443480202698473,-0.5488949598140385,-0.7536270315805937,0.01174844587194257,0.9244177445171757,0.264263749578002,-0.3968860863324868,0.17352700855751335,-0.8848371381618787,0.19023813677541512,-0.9361369966631312,0.3713845426887261,-0.9006479111056105,0.7549931145735387,-0.806324321766849,0.12989905057303375,-0.03959963607946926,-0.05607504393203322,-0.053017260608552386,-0.1281746679288691,-0.25434472813321163,0.4574307302774365,0.948241337885013,0.5666248731096231,0.5332721876648989,-0.8012566736425284,0.04104136465347641,0.1877996748248678,-0.8496541630171497,0.3354758595267675,-0.4039872875445947,0.9596182448934154,0.24041421749797487,0.6141047530768942,-0.24217339884798417],\"yaxis\":\"y\",\"type\":\"scatter\"},{\"hovertemplate\":\"label=0\\u003cbr\\u003eValue=%{x}\\u003cbr\\u003ey=%{y}\\u003cextra\\u003e\\u003c\\u002fextra\\u003e\",\"legendgroup\":\"0\",\"marker\":{\"color\":\"#EF553B\",\"symbol\":\"circle\"},\"mode\":\"markers\",\"name\":\"0\",\"orientation\":\"v\",\"showlegend\":true,\"x\":[-2.33984375,-1.763671875,-0.8662109375,-1.7822265625,-0.60009765625,-0.411865234375,-0.9658203125,-0.888671875,-0.78466796875,-2.33984375,-1.6259765625,-0.241943359375,-0.47705078125,-0.65234375,-0.6123046875,-1.2509765625,-1.2890625,-2.3984375,-2.337890625,-1.2138671875,-1.37109375,-1.09765625,-2.08984375,-0.90625,-1.34375,-0.474853515625,-0.2442626953125,-1.359375,-1.513671875,-0.255615234375,-0.10736083984375,-0.09033203125,-0.11566162109375,-2.3359375,-0.76806640625,-0.135009765625,-0.07879638671875,-0.3955078125,-2.3359375,-1.6337890625,-2.337890625,-1.0810546875,-0.78564453125,-0.779296875,-0.76513671875,-0.91162109375,-2.337890625,-1.0810546875,-0.64892578125,-0.634765625,-0.65673828125,-2.337890625,-0.634765625,-0.57275390625,-0.9189453125,-0.81884765625,-3.1640625,-2.291015625,-1.21484375,-1.376953125,-0.845703125,-0.55712890625,-2.9609375,-1.740234375,-0.525390625,-0.287841796875,0.10845947265625,-0.0168304443359375,-2.33984375,-0.83740234375,-1.017578125,-0.5869140625,-0.57958984375,-1.390625,-1.9716796875,-0.68798828125,-0.69482421875,-0.05621337890625,-0.19091796875,-0.138427734375,-1.1240234375,-0.9716796875,-2.994140625,-1.2607421875,-2.337890625,-1.2265625,-1.4638671875,-2.9453125,-1.7451171875,-0.8642578125,-1.251953125,-1.6787109375,-1.5537109375,-0.64990234375,-0.56689453125,-2.33984375,-1.626953125,-0.265380859375,-0.82568359375,0.090576171875,-0.21484375,-0.474853515625,-1.0302734375,-0.95068359375,-0.1375732421875,0.27392578125,0.053497314453125,0.390625,0.326416015625,0.1744384765625,0.401123046875,0.232666015625,-0.05389404296875,-0.039093017578125,0.00013744831085205078,-0.466064453125,-0.09600830078125,-0.06402587890625,-0.7373046875,-2.251953125,-2.017578125,-0.67333984375,-1.625,-2.822265625,-2.40234375,-1.59375,-1.44921875,-1.2236328125],\"xaxis\":\"x\",\"y\":[0.3509496423309133,-0.7696601815942659,0.7640097507183805,-0.7874581837377006,-0.6167955862692085,0.6573472017833195,-0.8642989082255388,-0.41949625637346766,-0.9121635853323005,0.7770587519814065,-0.8304551895165093,-0.4090900760836098,-0.6855614100558431,-0.04979733763466543,-0.11810152531500528,0.7354232223407948,0.5886616808415652,0.4340389737553032,-0.6946147251818635,0.2922303773151387,0.9515682256243634,-0.24401092549691628,-0.3222912333703225,-0.7294962366744893,0.6203404341796086,0.44167594495649487,-0.20807520397144574,0.6734196664562353,0.5631056999131181,0.8354845685567398,0.23530856459566785,-0.7701258835637321,-0.9551655278637539,0.2082565282509783,-0.13715619196234274,0.17463875797957384,0.35768010805977135,0.7112145803921812,-0.4767798438307722,-0.34893441628820976,0.5082010372356183,-0.7751096805757833,-0.03072401015390369,0.8655347486615224,0.09666923941369676,-0.11123111807705821,-0.9596218729791859,0.6497360425770262,0.41989431004242594,-0.21133947993415658,-0.9134179178679129,-0.5849564865580867,-0.4334249503258505,0.3706208879680577,-0.03168864066824861,-0.19949910886779532,-0.17934793989937337,-0.8648398381434674,-0.33747677888287075,0.4399978416103829,0.8741453674752833,-0.6230543740480718,0.6530218026614303,0.5108424406675811,-0.9353879270247589,-0.6064671963737132,-0.9581600571824644,0.326160812702438,0.6632979005121025,0.22382099304842407,0.4931143375092435,-0.43077176169629317,0.4774546434282456,-0.9118315126391319,0.03181123070432035,-0.5472245837031307,-0.179592604168195,0.571222315236189,-0.0379405088609186,0.3023997442790871,-0.9794557717174772,-0.42203740303210635,-0.5290447472520996,-0.014703022048701664,0.4460714267378225,-0.9203457512435351,0.2710856615494972,0.10937267200248213,-0.7824347947208972,-0.6726796164475741,0.02152761486115895,-0.01149054038165187,-0.8586809210598054,0.8004948775587251,0.8078100937353478,0.10979572198438281,-0.5067966261630172,-0.9570204407978762,0.22149076922418542,0.8494806794970922,0.5333193661012336,0.6186588407012905,-0.5988252798484053,-0.5325581123361849,0.8263160777196139,0.7888983249075554,0.836962157179777,-0.2427129669154049,-0.8208196616364725,0.9368430711666431,-0.5453035616921713,0.1259779698046426,0.9635253133272168,-0.39739103306373025,-0.7210079210127727,-0.15763551678397691,0.42315349801364066,-0.535925853278225,-0.12312970018408165,0.342873551690438,0.615391754944812,0.22609034186125476,0.13665649081017328,-0.765742021283454,0.72653248678645,-0.7723334246038398,-0.7772981790736346,-0.36520397052247255],\"yaxis\":\"y\",\"type\":\"scatter\"}],                        {\"template\":{\"data\":{\"histogram2dcontour\":[{\"type\":\"histogram2dcontour\",\"colorbar\":{\"outlinewidth\":0,\"ticks\":\"\"},\"colorscale\":[[0.0,\"#0d0887\"],[0.1111111111111111,\"#46039f\"],[0.2222222222222222,\"#7201a8\"],[0.3333333333333333,\"#9c179e\"],[0.4444444444444444,\"#bd3786\"],[0.5555555555555556,\"#d8576b\"],[0.6666666666666666,\"#ed7953\"],[0.7777777777777778,\"#fb9f3a\"],[0.8888888888888888,\"#fdca26\"],[1.0,\"#f0f921\"]]}],\"choropleth\":[{\"type\":\"choropleth\",\"colorbar\":{\"outlinewidth\":0,\"ticks\":\"\"}}],\"histogram2d\":[{\"type\":\"histogram2d\",\"colorbar\":{\"outlinewidth\":0,\"ticks\":\"\"},\"colorscale\":[[0.0,\"#0d0887\"],[0.1111111111111111,\"#46039f\"],[0.2222222222222222,\"#7201a8\"],[0.3333333333333333,\"#9c179e\"],[0.4444444444444444,\"#bd3786\"],[0.5555555555555556,\"#d8576b\"],[0.6666666666666666,\"#ed7953\"],[0.7777777777777778,\"#fb9f3a\"],[0.8888888888888888,\"#fdca26\"],[1.0,\"#f0f921\"]]}],\"heatmap\":[{\"type\":\"heatmap\",\"colorbar\":{\"outlinewidth\":0,\"ticks\":\"\"},\"colorscale\":[[0.0,\"#0d0887\"],[0.1111111111111111,\"#46039f\"],[0.2222222222222222,\"#7201a8\"],[0.3333333333333333,\"#9c179e\"],[0.4444444444444444,\"#bd3786\"],[0.5555555555555556,\"#d8576b\"],[0.6666666666666666,\"#ed7953\"],[0.7777777777777778,\"#fb9f3a\"],[0.8888888888888888,\"#fdca26\"],[1.0,\"#f0f921\"]]}],\"heatmapgl\":[{\"type\":\"heatmapgl\",\"colorbar\":{\"outlinewidth\":0,\"ticks\":\"\"},\"colorscale\":[[0.0,\"#0d0887\"],[0.1111111111111111,\"#46039f\"],[0.2222222222222222,\"#7201a8\"],[0.3333333333333333,\"#9c179e\"],[0.4444444444444444,\"#bd3786\"],[0.5555555555555556,\"#d8576b\"],[0.6666666666666666,\"#ed7953\"],[0.7777777777777778,\"#fb9f3a\"],[0.8888888888888888,\"#fdca26\"],[1.0,\"#f0f921\"]]}],\"contourcarpet\":[{\"type\":\"contourcarpet\",\"colorbar\":{\"outlinewidth\":0,\"ticks\":\"\"}}],\"contour\":[{\"type\":\"contour\",\"colorbar\":{\"outlinewidth\":0,\"ticks\":\"\"},\"colorscale\":[[0.0,\"#0d0887\"],[0.1111111111111111,\"#46039f\"],[0.2222222222222222,\"#7201a8\"],[0.3333333333333333,\"#9c179e\"],[0.4444444444444444,\"#bd3786\"],[0.5555555555555556,\"#d8576b\"],[0.6666666666666666,\"#ed7953\"],[0.7777777777777778,\"#fb9f3a\"],[0.8888888888888888,\"#fdca26\"],[1.0,\"#f0f921\"]]}],\"surface\":[{\"type\":\"surface\",\"colorbar\":{\"outlinewidth\":0,\"ticks\":\"\"},\"colorscale\":[[0.0,\"#0d0887\"],[0.1111111111111111,\"#46039f\"],[0.2222222222222222,\"#7201a8\"],[0.3333333333333333,\"#9c179e\"],[0.4444444444444444,\"#bd3786\"],[0.5555555555555556,\"#d8576b\"],[0.6666666666666666,\"#ed7953\"],[0.7777777777777778,\"#fb9f3a\"],[0.8888888888888888,\"#fdca26\"],[1.0,\"#f0f921\"]]}],\"mesh3d\":[{\"type\":\"mesh3d\",\"colorbar\":{\"outlinewidth\":0,\"ticks\":\"\"}}],\"scatter\":[{\"fillpattern\":{\"fillmode\":\"overlay\",\"size\":10,\"solidity\":0.2},\"type\":\"scatter\"}],\"parcoords\":[{\"type\":\"parcoords\",\"line\":{\"colorbar\":{\"outlinewidth\":0,\"ticks\":\"\"}}}],\"scatterpolargl\":[{\"type\":\"scatterpolargl\",\"marker\":{\"colorbar\":{\"outlinewidth\":0,\"ticks\":\"\"}}}],\"bar\":[{\"error_x\":{\"color\":\"#2a3f5f\"},\"error_y\":{\"color\":\"#2a3f5f\"},\"marker\":{\"line\":{\"color\":\"#E5ECF6\",\"width\":0.5},\"pattern\":{\"fillmode\":\"overlay\",\"size\":10,\"solidity\":0.2}},\"type\":\"bar\"}],\"scattergeo\":[{\"type\":\"scattergeo\",\"marker\":{\"colorbar\":{\"outlinewidth\":0,\"ticks\":\"\"}}}],\"scatterpolar\":[{\"type\":\"scatterpolar\",\"marker\":{\"colorbar\":{\"outlinewidth\":0,\"ticks\":\"\"}}}],\"histogram\":[{\"marker\":{\"pattern\":{\"fillmode\":\"overlay\",\"size\":10,\"solidity\":0.2}},\"type\":\"histogram\"}],\"scattergl\":[{\"type\":\"scattergl\",\"marker\":{\"colorbar\":{\"outlinewidth\":0,\"ticks\":\"\"}}}],\"scatter3d\":[{\"type\":\"scatter3d\",\"line\":{\"colorbar\":{\"outlinewidth\":0,\"ticks\":\"\"}},\"marker\":{\"colorbar\":{\"outlinewidth\":0,\"ticks\":\"\"}}}],\"scattermapbox\":[{\"type\":\"scattermapbox\",\"marker\":{\"colorbar\":{\"outlinewidth\":0,\"ticks\":\"\"}}}],\"scatterternary\":[{\"type\":\"scatterternary\",\"marker\":{\"colorbar\":{\"outlinewidth\":0,\"ticks\":\"\"}}}],\"scattercarpet\":[{\"type\":\"scattercarpet\",\"marker\":{\"colorbar\":{\"outlinewidth\":0,\"ticks\":\"\"}}}],\"carpet\":[{\"aaxis\":{\"endlinecolor\":\"#2a3f5f\",\"gridcolor\":\"white\",\"linecolor\":\"white\",\"minorgridcolor\":\"white\",\"startlinecolor\":\"#2a3f5f\"},\"baxis\":{\"endlinecolor\":\"#2a3f5f\",\"gridcolor\":\"white\",\"linecolor\":\"white\",\"minorgridcolor\":\"white\",\"startlinecolor\":\"#2a3f5f\"},\"type\":\"carpet\"}],\"table\":[{\"cells\":{\"fill\":{\"color\":\"#EBF0F8\"},\"line\":{\"color\":\"white\"}},\"header\":{\"fill\":{\"color\":\"#C8D4E3\"},\"line\":{\"color\":\"white\"}},\"type\":\"table\"}],\"barpolar\":[{\"marker\":{\"line\":{\"color\":\"#E5ECF6\",\"width\":0.5},\"pattern\":{\"fillmode\":\"overlay\",\"size\":10,\"solidity\":0.2}},\"type\":\"barpolar\"}],\"pie\":[{\"automargin\":true,\"type\":\"pie\"}]},\"layout\":{\"autotypenumbers\":\"strict\",\"colorway\":[\"#636efa\",\"#EF553B\",\"#00cc96\",\"#ab63fa\",\"#FFA15A\",\"#19d3f3\",\"#FF6692\",\"#B6E880\",\"#FF97FF\",\"#FECB52\"],\"font\":{\"color\":\"#2a3f5f\"},\"hovermode\":\"closest\",\"hoverlabel\":{\"align\":\"left\"},\"paper_bgcolor\":\"white\",\"plot_bgcolor\":\"#E5ECF6\",\"polar\":{\"bgcolor\":\"#E5ECF6\",\"angularaxis\":{\"gridcolor\":\"white\",\"linecolor\":\"white\",\"ticks\":\"\"},\"radialaxis\":{\"gridcolor\":\"white\",\"linecolor\":\"white\",\"ticks\":\"\"}},\"ternary\":{\"bgcolor\":\"#E5ECF6\",\"aaxis\":{\"gridcolor\":\"white\",\"linecolor\":\"white\",\"ticks\":\"\"},\"baxis\":{\"gridcolor\":\"white\",\"linecolor\":\"white\",\"ticks\":\"\"},\"caxis\":{\"gridcolor\":\"white\",\"linecolor\":\"white\",\"ticks\":\"\"}},\"coloraxis\":{\"colorbar\":{\"outlinewidth\":0,\"ticks\":\"\"}},\"colorscale\":{\"sequential\":[[0.0,\"#0d0887\"],[0.1111111111111111,\"#46039f\"],[0.2222222222222222,\"#7201a8\"],[0.3333333333333333,\"#9c179e\"],[0.4444444444444444,\"#bd3786\"],[0.5555555555555556,\"#d8576b\"],[0.6666666666666666,\"#ed7953\"],[0.7777777777777778,\"#fb9f3a\"],[0.8888888888888888,\"#fdca26\"],[1.0,\"#f0f921\"]],\"sequentialminus\":[[0.0,\"#0d0887\"],[0.1111111111111111,\"#46039f\"],[0.2222222222222222,\"#7201a8\"],[0.3333333333333333,\"#9c179e\"],[0.4444444444444444,\"#bd3786\"],[0.5555555555555556,\"#d8576b\"],[0.6666666666666666,\"#ed7953\"],[0.7777777777777778,\"#fb9f3a\"],[0.8888888888888888,\"#fdca26\"],[1.0,\"#f0f921\"]],\"diverging\":[[0,\"#8e0152\"],[0.1,\"#c51b7d\"],[0.2,\"#de77ae\"],[0.3,\"#f1b6da\"],[0.4,\"#fde0ef\"],[0.5,\"#f7f7f7\"],[0.6,\"#e6f5d0\"],[0.7,\"#b8e186\"],[0.8,\"#7fbc41\"],[0.9,\"#4d9221\"],[1,\"#276419\"]]},\"xaxis\":{\"gridcolor\":\"white\",\"linecolor\":\"white\",\"ticks\":\"\",\"title\":{\"standoff\":15},\"zerolinecolor\":\"white\",\"automargin\":true,\"zerolinewidth\":2},\"yaxis\":{\"gridcolor\":\"white\",\"linecolor\":\"white\",\"ticks\":\"\",\"title\":{\"standoff\":15},\"zerolinecolor\":\"white\",\"automargin\":true,\"zerolinewidth\":2},\"scene\":{\"xaxis\":{\"backgroundcolor\":\"#E5ECF6\",\"gridcolor\":\"white\",\"linecolor\":\"white\",\"showbackground\":true,\"ticks\":\"\",\"zerolinecolor\":\"white\",\"gridwidth\":2},\"yaxis\":{\"backgroundcolor\":\"#E5ECF6\",\"gridcolor\":\"white\",\"linecolor\":\"white\",\"showbackground\":true,\"ticks\":\"\",\"zerolinecolor\":\"white\",\"gridwidth\":2},\"zaxis\":{\"backgroundcolor\":\"#E5ECF6\",\"gridcolor\":\"white\",\"linecolor\":\"white\",\"showbackground\":true,\"ticks\":\"\",\"zerolinecolor\":\"white\",\"gridwidth\":2}},\"shapedefaults\":{\"line\":{\"color\":\"#2a3f5f\"}},\"annotationdefaults\":{\"arrowcolor\":\"#2a3f5f\",\"arrowhead\":0,\"arrowwidth\":1},\"geo\":{\"bgcolor\":\"white\",\"landcolor\":\"#E5ECF6\",\"subunitcolor\":\"white\",\"showland\":true,\"showlakes\":true,\"lakecolor\":\"white\"},\"title\":{\"x\":0.05},\"mapbox\":{\"style\":\"light\"}}},\"xaxis\":{\"anchor\":\"y\",\"domain\":[0.0,1.0],\"title\":{\"text\":\"Value\"},\"showgrid\":false},\"yaxis\":{\"anchor\":\"x\",\"domain\":[0.0,1.0],\"title\":{\"text\":\"y\"},\"showgrid\":false,\"zeroline\":true,\"zerolinecolor\":\"black\",\"zerolinewidth\":3,\"showticklabels\":false},\"legend\":{\"title\":{\"text\":\"label\"},\"tracegroupgap\":0},\"margin\":{\"t\":60},\"height\":200,\"plot_bgcolor\":\"white\"},                        {\"responsive\": true}                    ).then(function(){\n",
       "                            \n",
       "var gd = document.getElementById('137c49d0-4ebd-4fb6-8418-c4af25880f53');\n",
       "var x = new MutationObserver(function (mutations, observer) {{\n",
       "        var display = window.getComputedStyle(gd).display;\n",
       "        if (!display || display === 'none') {{\n",
       "            console.log([gd, 'removed!']);\n",
       "            Plotly.purge(gd);\n",
       "            observer.disconnect();\n",
       "        }}\n",
       "}});\n",
       "\n",
       "// Listen for the removal of the full notebook cells\n",
       "var notebookContainer = gd.closest('#notebook-container');\n",
       "if (notebookContainer) {{\n",
       "    x.observe(notebookContainer, {childList: true});\n",
       "}}\n",
       "\n",
       "// Listen for the clearing of the current output cell\n",
       "var outputEl = gd.closest('.output');\n",
       "if (outputEl) {{\n",
       "    x.observe(outputEl, {childList: true});\n",
       "}}\n",
       "\n",
       "                        })                };                });            </script>        </div>"
      ]
     },
     "metadata": {},
     "output_type": "display_data"
    }
   ],
   "source": [
    "# Visualize the projections\n",
    "\n",
    "from lmdoctor import plot_utils, detection_utils\n",
    "proj_pairs = detection_utils.act_pairs_to_projs(doc.train_acts, doc.direction_info, len(doc.statement_pairs['train']))\n",
    "\n",
    "layer = 15\n",
    "projs_true = proj_pairs[0, :, layer]\n",
    "projs_lie = proj_pairs[1, :, layer]\n",
    "plot_utils.plot_projs_on_numberline(projs_true, projs_lie)"
   ]
  },
  {
   "cell_type": "code",
   "execution_count": 13,
   "id": "5d44b91e-8436-42f8-82ec-d8c911255bd0",
   "metadata": {},
   "outputs": [
    {
     "data": {
      "application/vnd.plotly.v1+json": {
       "config": {
        "plotlyServerURL": "https://plot.ly"
       },
       "data": [
        {
         "coloraxis": "coloraxis",
         "hovertemplate": "Token: %{x}<br>y: %{y}<br>color: %{z}<extra></extra>",
         "name": "0",
         "type": "heatmap",
         "xaxis": "x",
         "yaxis": "y",
         "z": [
          [
           -0.035919189453125,
           -0.0222625732421875,
           -0.0156402587890625,
           -0.0164337158203125,
           -0.01030731201171875,
           0.006740570068359375,
           -0.004360198974609375,
           -0.0210418701171875,
           -0.038970947265625,
           -0.0113983154296875,
           -0.007244110107421875,
           0.0020694732666015625,
           0.003215789794921875,
           -0.0009751319885253906,
           -0.0094146728515625,
           -0.01194000244140625,
           -0.01123046875,
           0.0094146728515625,
           -0.010650634765625,
           -0.0157470703125,
           -0.0109100341796875,
           -0.024749755859375,
           -0.0163421630859375,
           -0.01116180419921875,
           -0.0167083740234375,
           -0.0206298828125,
           -0.023895263671875,
           -0.0024280548095703125,
           -0.02996826171875,
           -0.0218353271484375,
           -0.014007568359375,
           -0.0106658935546875,
           -0.00763702392578125,
           -0.004642486572265625,
           -0.00514984130859375
          ],
          [
           -38.21875,
           -0.213623046875,
           -0.006343841552734375,
           -0.03887939453125,
           -0.01227569580078125,
           0.037872314453125,
           0.023040771484375,
           -0.0035762786865234375,
           -0.032379150390625,
           0.0029144287109375,
           4.0531158447265625e-06,
           0.016815185546875,
           0.02349853515625,
           0.0239105224609375,
           0.0049591064453125,
           -0.0311279296875,
           -0.0296173095703125,
           -0.00864410400390625,
           -0.03082275390625,
           -0.0230865478515625,
           -0.038726806640625,
           -0.056365966796875,
           -0.05059814453125,
           -0.046875,
           -0.019256591796875,
           -0.0592041015625,
           -0.031646728515625,
           -0.036651611328125,
           -0.037841796875,
           -0.034698486328125,
           -0.04229736328125,
           -0.0447998046875,
           -0.040435791015625,
           -0.0294647216796875,
           -0.0253143310546875
          ],
          [
           -0.49609375,
           0.03338623046875,
           0.043487548828125,
           0.00728607177734375,
           0.039031982421875,
           0.05389404296875,
           0.020416259765625,
           0.0185699462890625,
           0.029510498046875,
           0.0144805908203125,
           0.0153045654296875,
           0.04901123046875,
           0.03411865234375,
           0.017425537109375,
           0.0235443115234375,
           -0.005107879638671875,
           -0.011016845703125,
           -0.01751708984375,
           -0.0133819580078125,
           0.0156707763671875,
           -0.00750732421875,
           -0.005939483642578125,
           -0.0135955810546875,
           -0.0012607574462890625,
           0.049591064453125,
           0.0018930435180664062,
           -0.0152740478515625,
           -0.0027313232421875,
           0.031402587890625,
           -0.020751953125,
           -0.0126495361328125,
           0.0014200210571289062,
           -0.007190704345703125,
           0.004608154296875,
           0.0179901123046875
          ],
          [
           -1.388671875,
           0.02862548828125,
           0.046783447265625,
           0.03533935546875,
           0.09588623046875,
           0.09527587890625,
           0.0579833984375,
           0.0264129638671875,
           0.037139892578125,
           0.047210693359375,
           0.0198516845703125,
           0.053070068359375,
           -0.0064239501953125,
           -0.111083984375,
           -0.1021728515625,
           -0.1536865234375,
           -0.07952880859375,
           -0.08148193359375,
           -0.0814208984375,
           -0.05755615234375,
           -0.07098388671875,
           -0.057464599609375,
           -0.024261474609375,
           -0.0230560302734375,
           0.01824951171875,
           -0.02056884765625,
           0.04974365234375,
           -0.0261077880859375,
           0.006641387939453125,
           -0.0283355712890625,
           -0.045379638671875,
           -0.0090789794921875,
           -0.01152801513671875,
           0.02099609375,
           0.07025146484375
          ],
          [
           5.484375,
           0.1165771484375,
           0.02069091796875,
           0.02642822265625,
           0.1085205078125,
           0.09063720703125,
           0.036865234375,
           -0.0270538330078125,
           0.08251953125,
           0.00818634033203125,
           0.0177001953125,
           0.0760498046875,
           0.03900146484375,
           -0.03375244140625,
           -0.0275421142578125,
           -0.10870361328125,
           -0.0789794921875,
           -0.046112060546875,
           -0.033966064453125,
           -0.032257080078125,
           -0.03924560546875,
           -0.0184783935546875,
           -0.0267333984375,
           -0.039794921875,
           -0.0394287109375,
           0.00601959228515625,
           -0.02606201171875,
           -0.036346435546875,
           0.019378662109375,
           -0.028228759765625,
           -0.046966552734375,
           -0.037353515625,
           -0.05633544921875,
           -0.022613525390625,
           0.00801849365234375
          ],
          [
           -6.5234375,
           -0.038482666015625,
           -0.033477783203125,
           -0.04351806640625,
           0.0927734375,
           0.08380126953125,
           -0.008056640625,
           -0.048065185546875,
           0.017120361328125,
           0.00798797607421875,
           0.01039886474609375,
           0.0118408203125,
           -0.03424072265625,
           -0.3798828125,
           -0.31982421875,
           -0.383056640625,
           -0.282470703125,
           -0.364990234375,
           -0.307861328125,
           -0.1259765625,
           -0.11517333984375,
           -0.288818359375,
           -0.2435302734375,
           -0.2115478515625,
           -0.318359375,
           -0.3388671875,
           -0.2327880859375,
           -0.052490234375,
           -0.394775390625,
           -0.039093017578125,
           -0.071533203125,
           0.03759765625,
           0.01629638671875,
           0.033538818359375,
           0.0440673828125
          ],
          [
           -4.89453125,
           0.05059814453125,
           0.016845703125,
           -0.0214996337890625,
           0.072509765625,
           0.11865234375,
           0.04815673828125,
           -0.037872314453125,
           0.06060791015625,
           -0.037322998046875,
           -0.0653076171875,
           0.0017824172973632812,
           0.020721435546875,
           -0.2900390625,
           -0.2257080078125,
           -0.2398681640625,
           -0.2486572265625,
           -0.30322265625,
           -0.252197265625,
           -0.1011962890625,
           -0.031646728515625,
           -0.171630859375,
           -0.1561279296875,
           -0.1363525390625,
           -0.181640625,
           -0.172607421875,
           -0.1453857421875,
           -0.0294189453125,
           -0.198486328125,
           -0.0116424560546875,
           -0.080810546875,
           -0.017120361328125,
           -0.03863525390625,
           0.01214599609375,
           0.01325225830078125
          ],
          [
           -11.5859375,
           -0.072265625,
           0.043609619140625,
           -0.024810791015625,
           0.09735107421875,
           0.1363525390625,
           0.0217437744140625,
           -0.0382080078125,
           0.035919189453125,
           -0.00732421875,
           -0.03509521484375,
           -0.022552490234375,
           0.01299285888671875,
           -0.29931640625,
           -0.2213134765625,
           -0.228515625,
           -0.22265625,
           -0.351318359375,
           -0.25146484375,
           -0.069580078125,
           0.08624267578125,
           -0.1787109375,
           -0.2318115234375,
           -0.232666015625,
           -0.2900390625,
           -0.2420654296875,
           -0.133544921875,
           0.059783935546875,
           -0.1103515625,
           0.0465087890625,
           -0.0215606689453125,
           0.0160675048828125,
           0.0016117095947265625,
           0.041748046875,
           0.08343505859375
          ],
          [
           0.413818359375,
           0.2069091796875,
           0.1622314453125,
           0.06500244140625,
           0.140380859375,
           0.08575439453125,
           0.0709228515625,
           0.0031566619873046875,
           0.072021484375,
           0.0075836181640625,
           0.00859832763671875,
           0.00353240966796875,
           -0.017242431640625,
           -0.39697265625,
           -0.348876953125,
           -0.30029296875,
           -0.2283935546875,
           -0.357421875,
           -0.2335205078125,
           0.019287109375,
           0.208740234375,
           -0.1295166015625,
           -0.1727294921875,
           -0.1856689453125,
           -0.2734375,
           -0.194580078125,
           -0.0772705078125,
           0.166748046875,
           -0.05438232421875,
           0.0928955078125,
           0.036468505859375,
           0.056304931640625,
           0.0215606689453125,
           0.1405029296875,
           0.130859375
          ],
          [
           5.8671875,
           0.3076171875,
           0.046905517578125,
           0.031219482421875,
           0.1192626953125,
           0.09112548828125,
           0.0711669921875,
           -0.055023193359375,
           -0.055267333984375,
           -0.028839111328125,
           -0.098876953125,
           -0.133544921875,
           -0.0848388671875,
           -0.2373046875,
           -0.225341796875,
           -0.254638671875,
           -0.228515625,
           -0.3681640625,
           -0.2470703125,
           -0.345947265625,
           -0.192138671875,
           -0.10479736328125,
           -0.128173828125,
           -0.2261962890625,
           -0.406005859375,
           -0.41015625,
           -0.59619140625,
           -0.2137451171875,
           -0.1463623046875,
           -0.3076171875,
           0.0009064674377441406,
           0.019287109375,
           -0.09832763671875,
           -0.0372314453125,
           0.044158935546875
          ],
          [
           6.6484375,
           0.2354736328125,
           0.07257080078125,
           0.0120086669921875,
           0.06500244140625,
           0.0391845703125,
           0.08367919921875,
           -0.038726806640625,
           -0.1226806640625,
           -0.0543212890625,
           -0.1640625,
           -0.159423828125,
           -0.12371826171875,
           -0.253662109375,
           -0.1873779296875,
           -0.187744140625,
           -0.251708984375,
           -0.59326171875,
           -0.443603515625,
           -0.7236328125,
           -0.475830078125,
           -0.053924560546875,
           0.03662109375,
           -0.11895751953125,
           -0.478271484375,
           -0.50927734375,
           -1.1806640625,
           -0.58984375,
           -0.39892578125,
           -0.5068359375,
           -0.0310211181640625,
           -0.05438232421875,
           -0.259033203125,
           -0.20654296875,
           0.035430908203125
          ],
          [
           3.86328125,
           0.2279052734375,
           0.1451416015625,
           0.07098388671875,
           0.1690673828125,
           0.04583740234375,
           -0.0030994415283203125,
           -0.08831787109375,
           -0.0394287109375,
           -0.07598876953125,
           -0.1551513671875,
           -0.06683349609375,
           -0.10296630859375,
           -0.327880859375,
           -0.351318359375,
           -0.4345703125,
           -0.35400390625,
           -0.73095703125,
           -0.62841796875,
           -0.7099609375,
           -0.381591796875,
           -0.27392578125,
           -0.0160064697265625,
           -0.101318359375,
           -0.484619140625,
           -0.65478515625,
           -1.4677734375,
           -0.44970703125,
           -0.69775390625,
           -0.433349609375,
           0.1685791015625,
           0.036865234375,
           -0.052642822265625,
           -0.03631591796875,
           0.146484375
          ],
          [
           2.140625,
           0.04547119140625,
           0.04046630859375,
           -0.04449462890625,
           0.08087158203125,
           -0.029144287109375,
           -0.10650634765625,
           -0.2449951171875,
           -0.05999755859375,
           -0.19677734375,
           -0.220458984375,
           -0.146728515625,
           -0.1640625,
           -0.35595703125,
           -0.560546875,
           -0.499267578125,
           -0.486083984375,
           -1.0126953125,
           -1.0244140625,
           -0.89404296875,
           -0.611328125,
           -0.4443359375,
           -0.042327880859375,
           -0.07574462890625,
           -0.448974609375,
           -1.041015625,
           -2.1875,
           -0.833984375,
           -0.853515625,
           -0.888671875,
           0.0216522216796875,
           -0.1451416015625,
           -0.334716796875,
           -0.1500244140625,
           -0.0204620361328125
          ],
          [
           -0.75732421875,
           0.0218048095703125,
           0.2117919921875,
           0.0740966796875,
           0.2117919921875,
           0.138916015625,
           0.07147216796875,
           -0.08856201171875,
           0.144775390625,
           -0.0667724609375,
           -0.10321044921875,
           -0.03216552734375,
           -0.0251922607421875,
           -0.18408203125,
           -0.349853515625,
           -0.295654296875,
           -0.1715087890625,
           -0.7568359375,
           -0.75439453125,
           -0.962890625,
           -0.75732421875,
           -0.1661376953125,
           0.1949462890625,
           0.229248046875,
           -0.10894775390625,
           -0.71630859375,
           -2.17578125,
           -1.2734375,
           -0.6357421875,
           -1.330078125,
           -0.04119873046875,
           -0.2176513671875,
           -0.609375,
           -0.4677734375,
           -0.1661376953125
          ],
          [
           6.171875,
           0.306640625,
           0.15576171875,
           0.093017578125,
           0.28466796875,
           0.10040283203125,
           -0.038726806640625,
           -0.1453857421875,
           0.07598876953125,
           -0.1455078125,
           -0.2177734375,
           -0.1334228515625,
           -0.0980224609375,
           -0.269775390625,
           -0.392822265625,
           -0.374267578125,
           -0.35107421875,
           -0.78857421875,
           -0.759765625,
           -1.009765625,
           -0.7275390625,
           -0.465576171875,
           0.113037109375,
           0.2213134765625,
           -0.219482421875,
           -0.9072265625,
           -2.0546875,
           -1.4658203125,
           -1.0458984375,
           -1.6806640625,
           -0.358154296875,
           -0.2496337890625,
           -0.69970703125,
           -0.478271484375,
           -0.33837890625
          ],
          [
           16.703125,
           0.97900390625,
           0.1712646484375,
           0.457763671875,
           0.360107421875,
           0.1324462890625,
           -0.0755615234375,
           -0.1510009765625,
           0.178955078125,
           -0.1046142578125,
           -0.1871337890625,
           -0.151611328125,
           -0.08673095703125,
           -0.1849365234375,
           -0.335693359375,
           -0.378662109375,
           -0.467041015625,
           -0.47509765625,
           -0.5517578125,
           -0.69287109375,
           -0.49560546875,
           -0.56494140625,
           0.0699462890625,
           0.11016845703125,
           -0.6142578125,
           -1.2666015625,
           -2.337890625,
           -1.763671875,
           -0.85986328125,
           -1.78125,
           -0.5966796875,
           -0.410400390625,
           -0.962890625,
           -0.884765625,
           -0.78271484375
          ],
          [
           17.296875,
           0.89111328125,
           0.006366729736328125,
           0.437255859375,
           0.277587890625,
           0.0970458984375,
           -0.2474365234375,
           -0.59521484375,
           0.072509765625,
           -0.40478515625,
           -0.54736328125,
           -0.370361328125,
           -0.162353515625,
           -0.2890625,
           -0.4794921875,
           -0.5244140625,
           -0.6748046875,
           -0.61181640625,
           -0.86962890625,
           -1.1220703125,
           -0.77392578125,
           -0.70654296875,
           -0.0653076171875,
           -0.1944580078125,
           -1.4755859375,
           -2.42578125,
           -3.103515625,
           -2.830078125,
           -1.2529296875,
           -2.52734375,
           -1.6962890625,
           -1.23828125,
           -1.8447265625,
           -1.751953125,
           -1.66796875
          ],
          [
           16.8125,
           1.328125,
           0.30224609375,
           0.947265625,
           0.6708984375,
           0.63134765625,
           0.1754150390625,
           -0.3486328125,
           0.55615234375,
           -0.271728515625,
           -0.409423828125,
           -0.1658935546875,
           0.1136474609375,
           -0.1484375,
           -0.250732421875,
           -0.305419921875,
           -0.294189453125,
           -0.2291259765625,
           -0.52392578125,
           -0.8955078125,
           -0.440673828125,
           -0.445068359375,
           0.24609375,
           0.05157470703125,
           -1.1298828125,
           -2.3671875,
           -3.0078125,
           -3.099609375,
           -0.90234375,
           -2.515625,
           -1.55859375,
           -0.7275390625,
           -1.4443359375,
           -1.3701171875,
           -1.4794921875
          ],
          [
           16.0625,
           1.072265625,
           0.274169921875,
           0.712890625,
           0.623046875,
           0.46533203125,
           -0.01165771484375,
           -0.3955078125,
           0.611328125,
           -0.411376953125,
           -0.6357421875,
           -0.3408203125,
           -0.0810546875,
           -0.2529296875,
           -0.456787109375,
           -0.42626953125,
           -0.515625,
           -0.47119140625,
           -0.8671875,
           -0.9853515625,
           -0.634765625,
           -0.576171875,
           0.1956787109375,
           0.06939697265625,
           -1.4326171875,
           -2.76953125,
           -3.294921875,
           -3.65625,
           -0.908203125,
           -2.794921875,
           -1.8896484375,
           -1.0439453125,
           -1.7158203125,
           -1.6025390625,
           -1.89453125
          ],
          [
           -0.9931640625,
           -0.81005859375,
           0.37109375,
           -2.68359375,
           0.5185546875,
           0.6396484375,
           -0.0185089111328125,
           -0.382080078125,
           0.1439208984375,
           -0.44091796875,
           -0.67333984375,
           -0.1751708984375,
           0.08642578125,
           -0.16162109375,
           -0.2254638671875,
           -0.36572265625,
           -0.340087890625,
           -0.322509765625,
           -0.84521484375,
           -1.189453125,
           -0.30810546875,
           -0.295654296875,
           0.482421875,
           0.29150390625,
           -1.3935546875,
           -2.6171875,
           -3.560546875,
           -3.708984375,
           -0.8505859375,
           -2.62890625,
           -1.865234375,
           -0.9130859375,
           -1.5009765625,
           -1.73828125,
           -1.822265625
          ],
          [
           -11.1875,
           -3.609375,
           -0.94384765625,
           -6.515625,
           -0.80224609375,
           -0.55810546875,
           -1.3544921875,
           -1.8046875,
           -1.419921875,
           -1.7646484375,
           -1.95703125,
           -1.177734375,
           -0.921875,
           -1.5419921875,
           -1.80078125,
           -1.9013671875,
           -1.845703125,
           -1.861328125,
           -2.767578125,
           -3.1015625,
           -1.6240234375,
           -1.9140625,
           -1.2763671875,
           -0.9833984375,
           -3.29296875,
           -4.86328125,
           -5.78515625,
           -5.3828125,
           -2.34375,
           -4.25,
           -3.3125,
           -2.162109375,
           -2.810546875,
           -2.99609375,
           -3.2265625
          ],
          [
           -17.265625,
           -4.55859375,
           -0.7626953125,
           -8.21875,
           -0.62841796875,
           -0.1962890625,
           -0.96630859375,
           -1.552734375,
           -1.470703125,
           -1.568359375,
           -1.8095703125,
           -0.79541015625,
           -0.34765625,
           -1.08984375,
           -1.5576171875,
           -1.6015625,
           -1.708984375,
           -1.662109375,
           -2.677734375,
           -3.09375,
           -1.1884765625,
           -1.4404296875,
           -1.0419921875,
           -0.75634765625,
           -2.935546875,
           -4.328125,
           -5.65625,
           -4.984375,
           -2.02734375,
           -3.87890625,
           -2.84375,
           -1.912109375,
           -2.49609375,
           -2.630859375,
           -2.80859375
          ],
          [
           -14.0546875,
           -4.484375,
           -1.5263671875,
           -7.3203125,
           -1.3955078125,
           -1.208984375,
           -2.197265625,
           -2.66796875,
           -2.14453125,
           -2.763671875,
           -3.02734375,
           -2.046875,
           -1.439453125,
           -2.15234375,
           -3.056640625,
           -2.87109375,
           -3.06640625,
           -3.03515625,
           -4.34375,
           -4.53515625,
           -2.412109375,
           -2.69140625,
           -2.138671875,
           -1.7568359375,
           -4.04296875,
           -5.9453125,
           -8.25,
           -6.80078125,
           -3.373046875,
           -5.65625,
           -4.62890625,
           -3.19140625,
           -3.8046875,
           -3.91015625,
           -4.3203125
          ],
          [
           -15.34375,
           -4.1953125,
           -0.4453125,
           -7.67578125,
           -0.495361328125,
           -0.03253173828125,
           -1.123046875,
           -1.9765625,
           -1.4033203125,
           -2.087890625,
           -2.353515625,
           -0.92138671875,
           -0.2802734375,
           -0.96142578125,
           -2.12109375,
           -1.732421875,
           -2.044921875,
           -2.154296875,
           -3.51171875,
           -3.984375,
           -1.4287109375,
           -1.4736328125,
           -0.86376953125,
           -0.66015625,
           -2.8828125,
           -4.7265625,
           -7.7578125,
           -5.84375,
           -2.40625,
           -4.86328125,
           -3.734375,
           -2.158203125,
           -2.90625,
           -3.109375,
           -3.48046875
          ],
          [
           -22.1875,
           -6.58984375,
           -1.9560546875,
           -10.953125,
           -2.025390625,
           -1.2763671875,
           -2.6875,
           -3.62890625,
           -3.158203125,
           -3.791015625,
           -4.12890625,
           -2.029296875,
           -1.3125,
           -2.263671875,
           -3.77734375,
           -3.41796875,
           -3.787109375,
           -3.541015625,
           -5.19140625,
           -5.99609375,
           -2.765625,
           -2.662109375,
           -2.3203125,
           -2.158203125,
           -4.265625,
           -6.0078125,
           -9.6953125,
           -7.140625,
           -3.8046875,
           -6.33984375,
           -5.078125,
           -3.484375,
           -4.26171875,
           -4.2734375,
           -4.78515625
          ],
          [
           -20.078125,
           -5.59765625,
           -1.0888671875,
           -9.84375,
           -1.2919921875,
           -0.65087890625,
           -2.083984375,
           -2.75,
           -2.34765625,
           -3.08203125,
           -3.63671875,
           -1.4423828125,
           -0.36767578125,
           -1.66796875,
           -3.501953125,
           -2.646484375,
           -3.447265625,
           -3.15234375,
           -4.7734375,
           -5.8671875,
           -2.185546875,
           -2.259765625,
           -1.859375,
           -1.640625,
           -3.810546875,
           -5.71484375,
           -11.4921875,
           -6.34375,
           -3.140625,
           -6.0625,
           -4.53515625,
           -2.775390625,
           -3.642578125,
           -3.599609375,
           -4.07421875
          ],
          [
           -20.9375,
           -7.5625,
           -2.65625,
           -12.4609375,
           -2.8671875,
           -1.7412109375,
           -3.5859375,
           -4.49609375,
           -4.1953125,
           -4.84765625,
           -5.7421875,
           -3.236328125,
           -1.8720703125,
           -3.4296875,
           -5.7421875,
           -4.3125,
           -5.125,
           -4.86328125,
           -6.76171875,
           -8.203125,
           -3.8359375,
           -3.9609375,
           -3.505859375,
           -3.22265625,
           -5.60546875,
           -7.6796875,
           -13.9296875,
           -7.9765625,
           -4.90625,
           -7.890625,
           -6.41796875,
           -4.4921875,
           -5.625,
           -5.13671875,
           -5.5234375
          ],
          [
           -20.328125,
           -7.33203125,
           -2.1640625,
           -12.515625,
           -2.228515625,
           -0.9404296875,
           -3.0859375,
           -4.1796875,
           -3.880859375,
           -4.60546875,
           -5.79296875,
           -2.951171875,
           -1.1845703125,
           -2.916015625,
           -5.56640625,
           -3.96484375,
           -5.0546875,
           -4.33203125,
           -6.94140625,
           -8.390625,
           -3.5234375,
           -3.68359375,
           -2.755859375,
           -2.41796875,
           -5.29296875,
           -7.21484375,
           -14.0703125,
           -7.38671875,
           -4.7421875,
           -7.28515625,
           -6.22265625,
           -4.53125,
           -5.609375,
           -4.78515625,
           -5.66796875
          ],
          [
           -14.203125,
           -6.44921875,
           -2.326171875,
           -11.34375,
           -1.978515625,
           -0.669921875,
           -3.2578125,
           -4.3125,
           -3.90234375,
           -4.98046875,
           -5.87890625,
           -2.943359375,
           -0.62158203125,
           -3.42578125,
           -6.2265625,
           -4.31640625,
           -5.4609375,
           -4.671875,
           -7.5,
           -8.90625,
           -3.998046875,
           -3.796875,
           -2.876953125,
           -2.423828125,
           -5.49609375,
           -7.421875,
           -14.6171875,
           -7.52734375,
           -5.04296875,
           -7.734375,
           -6.37890625,
           -4.68359375,
           -5.9453125,
           -5.15234375,
           -5.8984375
          ],
          [
           -11.4453125,
           -7.1875,
           -3.26171875,
           -12.1796875,
           -3.00390625,
           -1.8447265625,
           -5.3359375,
           -6.01171875,
           -5.5234375,
           -6.94921875,
           -7.73046875,
           -4.140625,
           -1.6787109375,
           -5.4375,
           -8.53125,
           -6.70703125,
           -8.0234375,
           -7.0546875,
           -9.828125,
           -10.7734375,
           -5.9140625,
           -5.3125,
           -3.91796875,
           -3.421875,
           -6.7109375,
           -8.5703125,
           -16.59375,
           -9.6953125,
           -7.01171875,
           -9.6875,
           -8.453125,
           -7.16796875,
           -8.359375,
           -6.8828125,
           -7.69140625
          ],
          [
           -7.72265625,
           -7.1484375,
           -3.52734375,
           -11.90625,
           -2.3984375,
           -2.341796875,
           -6.59765625,
           -7.375,
           -6.52734375,
           -7.94921875,
           -8.8828125,
           -3.876953125,
           -1.2158203125,
           -6.19140625,
           -10.890625,
           -8.3046875,
           -9.546875,
           -8.8828125,
           -11.984375,
           -12.703125,
           -7.328125,
           -6.2265625,
           -3.8125,
           -3.240234375,
           -7.859375,
           -9.453125,
           -19.265625,
           -10.484375,
           -7.65625,
           -10.328125,
           -9.546875,
           -8.421875,
           -10.4609375,
           -8.8203125,
           -9.125
          ],
          [
           -20.546875,
           -18.375,
           -4.28515625,
           -20.203125,
           7.2734375,
           -19.015625,
           -61.75,
           -43.1875,
           -26.5625,
           -58.875,
           -64.8125,
           -32.15625,
           -9.7109375,
           -59.65625,
           -88.375,
           -65.75,
           -90.6875,
           -64.6875,
           -88.75,
           -80.6875,
           -45.125,
           -45.625,
           -25.109375,
           -22.703125,
           -52.3125,
           -66.4375,
           -137.75,
           -99.3125,
           -78.0625,
           -90.25,
           -86.0625,
           -61.84375,
           -76.125,
           -75.125,
           -76.25
          ]
         ]
        }
       ],
       "layout": {
        "coloraxis": {
         "cmax": 3.6152,
         "cmin": -3.6152,
         "colorscale": [
          [
           0,
           "rgb(165,0,38)"
          ],
          [
           0.1,
           "rgb(215,48,39)"
          ],
          [
           0.2,
           "rgb(244,109,67)"
          ],
          [
           0.3,
           "rgb(253,174,97)"
          ],
          [
           0.4,
           "rgb(254,224,139)"
          ],
          [
           0.5,
           "rgb(255,255,191)"
          ],
          [
           0.6,
           "rgb(217,239,139)"
          ],
          [
           0.7,
           "rgb(166,217,106)"
          ],
          [
           0.8,
           "rgb(102,189,99)"
          ],
          [
           0.9,
           "rgb(26,152,80)"
          ],
          [
           1,
           "rgb(0,104,55)"
          ]
         ]
        },
        "height": 600,
        "margin": {
         "t": 60
        },
        "template": {
         "data": {
          "bar": [
           {
            "error_x": {
             "color": "#2a3f5f"
            },
            "error_y": {
             "color": "#2a3f5f"
            },
            "marker": {
             "line": {
              "color": "#E5ECF6",
              "width": 0.5
             },
             "pattern": {
              "fillmode": "overlay",
              "size": 10,
              "solidity": 0.2
             }
            },
            "type": "bar"
           }
          ],
          "barpolar": [
           {
            "marker": {
             "line": {
              "color": "#E5ECF6",
              "width": 0.5
             },
             "pattern": {
              "fillmode": "overlay",
              "size": 10,
              "solidity": 0.2
             }
            },
            "type": "barpolar"
           }
          ],
          "carpet": [
           {
            "aaxis": {
             "endlinecolor": "#2a3f5f",
             "gridcolor": "white",
             "linecolor": "white",
             "minorgridcolor": "white",
             "startlinecolor": "#2a3f5f"
            },
            "baxis": {
             "endlinecolor": "#2a3f5f",
             "gridcolor": "white",
             "linecolor": "white",
             "minorgridcolor": "white",
             "startlinecolor": "#2a3f5f"
            },
            "type": "carpet"
           }
          ],
          "choropleth": [
           {
            "colorbar": {
             "outlinewidth": 0,
             "ticks": ""
            },
            "type": "choropleth"
           }
          ],
          "contour": [
           {
            "colorbar": {
             "outlinewidth": 0,
             "ticks": ""
            },
            "colorscale": [
             [
              0,
              "#0d0887"
             ],
             [
              0.1111111111111111,
              "#46039f"
             ],
             [
              0.2222222222222222,
              "#7201a8"
             ],
             [
              0.3333333333333333,
              "#9c179e"
             ],
             [
              0.4444444444444444,
              "#bd3786"
             ],
             [
              0.5555555555555556,
              "#d8576b"
             ],
             [
              0.6666666666666666,
              "#ed7953"
             ],
             [
              0.7777777777777778,
              "#fb9f3a"
             ],
             [
              0.8888888888888888,
              "#fdca26"
             ],
             [
              1,
              "#f0f921"
             ]
            ],
            "type": "contour"
           }
          ],
          "contourcarpet": [
           {
            "colorbar": {
             "outlinewidth": 0,
             "ticks": ""
            },
            "type": "contourcarpet"
           }
          ],
          "heatmap": [
           {
            "colorbar": {
             "outlinewidth": 0,
             "ticks": ""
            },
            "colorscale": [
             [
              0,
              "#0d0887"
             ],
             [
              0.1111111111111111,
              "#46039f"
             ],
             [
              0.2222222222222222,
              "#7201a8"
             ],
             [
              0.3333333333333333,
              "#9c179e"
             ],
             [
              0.4444444444444444,
              "#bd3786"
             ],
             [
              0.5555555555555556,
              "#d8576b"
             ],
             [
              0.6666666666666666,
              "#ed7953"
             ],
             [
              0.7777777777777778,
              "#fb9f3a"
             ],
             [
              0.8888888888888888,
              "#fdca26"
             ],
             [
              1,
              "#f0f921"
             ]
            ],
            "type": "heatmap"
           }
          ],
          "heatmapgl": [
           {
            "colorbar": {
             "outlinewidth": 0,
             "ticks": ""
            },
            "colorscale": [
             [
              0,
              "#0d0887"
             ],
             [
              0.1111111111111111,
              "#46039f"
             ],
             [
              0.2222222222222222,
              "#7201a8"
             ],
             [
              0.3333333333333333,
              "#9c179e"
             ],
             [
              0.4444444444444444,
              "#bd3786"
             ],
             [
              0.5555555555555556,
              "#d8576b"
             ],
             [
              0.6666666666666666,
              "#ed7953"
             ],
             [
              0.7777777777777778,
              "#fb9f3a"
             ],
             [
              0.8888888888888888,
              "#fdca26"
             ],
             [
              1,
              "#f0f921"
             ]
            ],
            "type": "heatmapgl"
           }
          ],
          "histogram": [
           {
            "marker": {
             "pattern": {
              "fillmode": "overlay",
              "size": 10,
              "solidity": 0.2
             }
            },
            "type": "histogram"
           }
          ],
          "histogram2d": [
           {
            "colorbar": {
             "outlinewidth": 0,
             "ticks": ""
            },
            "colorscale": [
             [
              0,
              "#0d0887"
             ],
             [
              0.1111111111111111,
              "#46039f"
             ],
             [
              0.2222222222222222,
              "#7201a8"
             ],
             [
              0.3333333333333333,
              "#9c179e"
             ],
             [
              0.4444444444444444,
              "#bd3786"
             ],
             [
              0.5555555555555556,
              "#d8576b"
             ],
             [
              0.6666666666666666,
              "#ed7953"
             ],
             [
              0.7777777777777778,
              "#fb9f3a"
             ],
             [
              0.8888888888888888,
              "#fdca26"
             ],
             [
              1,
              "#f0f921"
             ]
            ],
            "type": "histogram2d"
           }
          ],
          "histogram2dcontour": [
           {
            "colorbar": {
             "outlinewidth": 0,
             "ticks": ""
            },
            "colorscale": [
             [
              0,
              "#0d0887"
             ],
             [
              0.1111111111111111,
              "#46039f"
             ],
             [
              0.2222222222222222,
              "#7201a8"
             ],
             [
              0.3333333333333333,
              "#9c179e"
             ],
             [
              0.4444444444444444,
              "#bd3786"
             ],
             [
              0.5555555555555556,
              "#d8576b"
             ],
             [
              0.6666666666666666,
              "#ed7953"
             ],
             [
              0.7777777777777778,
              "#fb9f3a"
             ],
             [
              0.8888888888888888,
              "#fdca26"
             ],
             [
              1,
              "#f0f921"
             ]
            ],
            "type": "histogram2dcontour"
           }
          ],
          "mesh3d": [
           {
            "colorbar": {
             "outlinewidth": 0,
             "ticks": ""
            },
            "type": "mesh3d"
           }
          ],
          "parcoords": [
           {
            "line": {
             "colorbar": {
              "outlinewidth": 0,
              "ticks": ""
             }
            },
            "type": "parcoords"
           }
          ],
          "pie": [
           {
            "automargin": true,
            "type": "pie"
           }
          ],
          "scatter": [
           {
            "fillpattern": {
             "fillmode": "overlay",
             "size": 10,
             "solidity": 0.2
            },
            "type": "scatter"
           }
          ],
          "scatter3d": [
           {
            "line": {
             "colorbar": {
              "outlinewidth": 0,
              "ticks": ""
             }
            },
            "marker": {
             "colorbar": {
              "outlinewidth": 0,
              "ticks": ""
             }
            },
            "type": "scatter3d"
           }
          ],
          "scattercarpet": [
           {
            "marker": {
             "colorbar": {
              "outlinewidth": 0,
              "ticks": ""
             }
            },
            "type": "scattercarpet"
           }
          ],
          "scattergeo": [
           {
            "marker": {
             "colorbar": {
              "outlinewidth": 0,
              "ticks": ""
             }
            },
            "type": "scattergeo"
           }
          ],
          "scattergl": [
           {
            "marker": {
             "colorbar": {
              "outlinewidth": 0,
              "ticks": ""
             }
            },
            "type": "scattergl"
           }
          ],
          "scattermapbox": [
           {
            "marker": {
             "colorbar": {
              "outlinewidth": 0,
              "ticks": ""
             }
            },
            "type": "scattermapbox"
           }
          ],
          "scatterpolar": [
           {
            "marker": {
             "colorbar": {
              "outlinewidth": 0,
              "ticks": ""
             }
            },
            "type": "scatterpolar"
           }
          ],
          "scatterpolargl": [
           {
            "marker": {
             "colorbar": {
              "outlinewidth": 0,
              "ticks": ""
             }
            },
            "type": "scatterpolargl"
           }
          ],
          "scatterternary": [
           {
            "marker": {
             "colorbar": {
              "outlinewidth": 0,
              "ticks": ""
             }
            },
            "type": "scatterternary"
           }
          ],
          "surface": [
           {
            "colorbar": {
             "outlinewidth": 0,
             "ticks": ""
            },
            "colorscale": [
             [
              0,
              "#0d0887"
             ],
             [
              0.1111111111111111,
              "#46039f"
             ],
             [
              0.2222222222222222,
              "#7201a8"
             ],
             [
              0.3333333333333333,
              "#9c179e"
             ],
             [
              0.4444444444444444,
              "#bd3786"
             ],
             [
              0.5555555555555556,
              "#d8576b"
             ],
             [
              0.6666666666666666,
              "#ed7953"
             ],
             [
              0.7777777777777778,
              "#fb9f3a"
             ],
             [
              0.8888888888888888,
              "#fdca26"
             ],
             [
              1,
              "#f0f921"
             ]
            ],
            "type": "surface"
           }
          ],
          "table": [
           {
            "cells": {
             "fill": {
              "color": "#EBF0F8"
             },
             "line": {
              "color": "white"
             }
            },
            "header": {
             "fill": {
              "color": "#C8D4E3"
             },
             "line": {
              "color": "white"
             }
            },
            "type": "table"
           }
          ]
         },
         "layout": {
          "annotationdefaults": {
           "arrowcolor": "#2a3f5f",
           "arrowhead": 0,
           "arrowwidth": 1
          },
          "autotypenumbers": "strict",
          "coloraxis": {
           "colorbar": {
            "outlinewidth": 0,
            "ticks": ""
           }
          },
          "colorscale": {
           "diverging": [
            [
             0,
             "#8e0152"
            ],
            [
             0.1,
             "#c51b7d"
            ],
            [
             0.2,
             "#de77ae"
            ],
            [
             0.3,
             "#f1b6da"
            ],
            [
             0.4,
             "#fde0ef"
            ],
            [
             0.5,
             "#f7f7f7"
            ],
            [
             0.6,
             "#e6f5d0"
            ],
            [
             0.7,
             "#b8e186"
            ],
            [
             0.8,
             "#7fbc41"
            ],
            [
             0.9,
             "#4d9221"
            ],
            [
             1,
             "#276419"
            ]
           ],
           "sequential": [
            [
             0,
             "#0d0887"
            ],
            [
             0.1111111111111111,
             "#46039f"
            ],
            [
             0.2222222222222222,
             "#7201a8"
            ],
            [
             0.3333333333333333,
             "#9c179e"
            ],
            [
             0.4444444444444444,
             "#bd3786"
            ],
            [
             0.5555555555555556,
             "#d8576b"
            ],
            [
             0.6666666666666666,
             "#ed7953"
            ],
            [
             0.7777777777777778,
             "#fb9f3a"
            ],
            [
             0.8888888888888888,
             "#fdca26"
            ],
            [
             1,
             "#f0f921"
            ]
           ],
           "sequentialminus": [
            [
             0,
             "#0d0887"
            ],
            [
             0.1111111111111111,
             "#46039f"
            ],
            [
             0.2222222222222222,
             "#7201a8"
            ],
            [
             0.3333333333333333,
             "#9c179e"
            ],
            [
             0.4444444444444444,
             "#bd3786"
            ],
            [
             0.5555555555555556,
             "#d8576b"
            ],
            [
             0.6666666666666666,
             "#ed7953"
            ],
            [
             0.7777777777777778,
             "#fb9f3a"
            ],
            [
             0.8888888888888888,
             "#fdca26"
            ],
            [
             1,
             "#f0f921"
            ]
           ]
          },
          "colorway": [
           "#636efa",
           "#EF553B",
           "#00cc96",
           "#ab63fa",
           "#FFA15A",
           "#19d3f3",
           "#FF6692",
           "#B6E880",
           "#FF97FF",
           "#FECB52"
          ],
          "font": {
           "color": "#2a3f5f"
          },
          "geo": {
           "bgcolor": "white",
           "lakecolor": "white",
           "landcolor": "#E5ECF6",
           "showlakes": true,
           "showland": true,
           "subunitcolor": "white"
          },
          "hoverlabel": {
           "align": "left"
          },
          "hovermode": "closest",
          "mapbox": {
           "style": "light"
          },
          "paper_bgcolor": "white",
          "plot_bgcolor": "#E5ECF6",
          "polar": {
           "angularaxis": {
            "gridcolor": "white",
            "linecolor": "white",
            "ticks": ""
           },
           "bgcolor": "#E5ECF6",
           "radialaxis": {
            "gridcolor": "white",
            "linecolor": "white",
            "ticks": ""
           }
          },
          "scene": {
           "xaxis": {
            "backgroundcolor": "#E5ECF6",
            "gridcolor": "white",
            "gridwidth": 2,
            "linecolor": "white",
            "showbackground": true,
            "ticks": "",
            "zerolinecolor": "white"
           },
           "yaxis": {
            "backgroundcolor": "#E5ECF6",
            "gridcolor": "white",
            "gridwidth": 2,
            "linecolor": "white",
            "showbackground": true,
            "ticks": "",
            "zerolinecolor": "white"
           },
           "zaxis": {
            "backgroundcolor": "#E5ECF6",
            "gridcolor": "white",
            "gridwidth": 2,
            "linecolor": "white",
            "showbackground": true,
            "ticks": "",
            "zerolinecolor": "white"
           }
          },
          "shapedefaults": {
           "line": {
            "color": "#2a3f5f"
           }
          },
          "ternary": {
           "aaxis": {
            "gridcolor": "white",
            "linecolor": "white",
            "ticks": ""
           },
           "baxis": {
            "gridcolor": "white",
            "linecolor": "white",
            "ticks": ""
           },
           "bgcolor": "#E5ECF6",
           "caxis": {
            "gridcolor": "white",
            "linecolor": "white",
            "ticks": ""
           }
          },
          "title": {
           "x": 0.05
          },
          "xaxis": {
           "automargin": true,
           "gridcolor": "white",
           "linecolor": "white",
           "ticks": "",
           "title": {
            "standoff": 15
           },
           "zerolinecolor": "white",
           "zerolinewidth": 2
          },
          "yaxis": {
           "automargin": true,
           "gridcolor": "white",
           "linecolor": "white",
           "ticks": "",
           "title": {
            "standoff": 15
           },
           "zerolinecolor": "white",
           "zerolinewidth": 2
          }
         }
        },
        "width": 1000,
        "xaxis": {
         "anchor": "y",
         "autorange": true,
         "constrain": "domain",
         "domain": [
          0.22589881674757284,
          0.7741011832524272
         ],
         "range": [
          -0.5,
          34.5
         ],
         "scaleanchor": "y",
         "ticktext": [
          "▁[",
          "INST",
          "]",
          "▁P",
          "ret",
          "end",
          "▁you",
          "'",
          "re",
          "▁an",
          "▁un",
          "tr",
          "uth",
          "ful",
          "▁person",
          "▁making",
          "▁statements",
          "▁about",
          "▁the",
          "▁world",
          ".",
          "▁[",
          "/",
          "INST",
          "]",
          "▁The",
          "▁Earth",
          "'",
          "s",
          "▁atmosphere",
          "▁protect",
          "s",
          "▁us",
          "▁from"
         ],
         "tickvals": [
          0,
          1,
          2,
          3,
          4,
          5,
          6,
          7,
          8,
          9,
          10,
          11,
          12,
          13,
          14,
          15,
          16,
          17,
          18,
          19,
          20,
          21,
          22,
          23,
          24,
          25,
          26,
          27,
          28,
          29,
          30,
          31,
          32,
          33
         ],
         "title": {
          "text": "Token"
         }
        },
        "yaxis": {
         "anchor": "x",
         "autorange": true,
         "constrain": "domain",
         "domain": [
          0,
          1
         ],
         "range": [
          31.5,
          -0.5
         ]
        }
       }
      },
      "text/html": [
       "<div>                            <div id=\"82fb1f1e-fe7e-461e-8b74-ba3cb329339f\" class=\"plotly-graph-div\" style=\"height:600px; width:1000px;\"></div>            <script type=\"text/javascript\">                require([\"plotly\"], function(Plotly) {                    window.PLOTLYENV=window.PLOTLYENV || {};                                    if (document.getElementById(\"82fb1f1e-fe7e-461e-8b74-ba3cb329339f\")) {                    Plotly.newPlot(                        \"82fb1f1e-fe7e-461e-8b74-ba3cb329339f\",                        [{\"coloraxis\":\"coloraxis\",\"name\":\"0\",\"z\":[[-0.035919189453125,-0.0222625732421875,-0.0156402587890625,-0.0164337158203125,-0.01030731201171875,0.006740570068359375,-0.004360198974609375,-0.0210418701171875,-0.038970947265625,-0.0113983154296875,-0.007244110107421875,0.0020694732666015625,0.003215789794921875,-0.0009751319885253906,-0.0094146728515625,-0.01194000244140625,-0.01123046875,0.0094146728515625,-0.010650634765625,-0.0157470703125,-0.0109100341796875,-0.024749755859375,-0.0163421630859375,-0.01116180419921875,-0.0167083740234375,-0.0206298828125,-0.023895263671875,-0.0024280548095703125,-0.02996826171875,-0.0218353271484375,-0.014007568359375,-0.0106658935546875,-0.00763702392578125,-0.004642486572265625,-0.00514984130859375],[-38.21875,-0.213623046875,-0.006343841552734375,-0.03887939453125,-0.01227569580078125,0.037872314453125,0.023040771484375,-0.0035762786865234375,-0.032379150390625,0.0029144287109375,4.0531158447265625e-06,0.016815185546875,0.02349853515625,0.0239105224609375,0.0049591064453125,-0.0311279296875,-0.0296173095703125,-0.00864410400390625,-0.03082275390625,-0.0230865478515625,-0.038726806640625,-0.056365966796875,-0.05059814453125,-0.046875,-0.019256591796875,-0.0592041015625,-0.031646728515625,-0.036651611328125,-0.037841796875,-0.034698486328125,-0.04229736328125,-0.0447998046875,-0.040435791015625,-0.0294647216796875,-0.0253143310546875],[-0.49609375,0.03338623046875,0.043487548828125,0.00728607177734375,0.039031982421875,0.05389404296875,0.020416259765625,0.0185699462890625,0.029510498046875,0.0144805908203125,0.0153045654296875,0.04901123046875,0.03411865234375,0.017425537109375,0.0235443115234375,-0.005107879638671875,-0.011016845703125,-0.01751708984375,-0.0133819580078125,0.0156707763671875,-0.00750732421875,-0.005939483642578125,-0.0135955810546875,-0.0012607574462890625,0.049591064453125,0.0018930435180664062,-0.0152740478515625,-0.0027313232421875,0.031402587890625,-0.020751953125,-0.0126495361328125,0.0014200210571289062,-0.007190704345703125,0.004608154296875,0.0179901123046875],[-1.388671875,0.02862548828125,0.046783447265625,0.03533935546875,0.09588623046875,0.09527587890625,0.0579833984375,0.0264129638671875,0.037139892578125,0.047210693359375,0.0198516845703125,0.053070068359375,-0.0064239501953125,-0.111083984375,-0.1021728515625,-0.1536865234375,-0.07952880859375,-0.08148193359375,-0.0814208984375,-0.05755615234375,-0.07098388671875,-0.057464599609375,-0.024261474609375,-0.0230560302734375,0.01824951171875,-0.02056884765625,0.04974365234375,-0.0261077880859375,0.006641387939453125,-0.0283355712890625,-0.045379638671875,-0.0090789794921875,-0.01152801513671875,0.02099609375,0.07025146484375],[5.484375,0.1165771484375,0.02069091796875,0.02642822265625,0.1085205078125,0.09063720703125,0.036865234375,-0.0270538330078125,0.08251953125,0.00818634033203125,0.0177001953125,0.0760498046875,0.03900146484375,-0.03375244140625,-0.0275421142578125,-0.10870361328125,-0.0789794921875,-0.046112060546875,-0.033966064453125,-0.032257080078125,-0.03924560546875,-0.0184783935546875,-0.0267333984375,-0.039794921875,-0.0394287109375,0.00601959228515625,-0.02606201171875,-0.036346435546875,0.019378662109375,-0.028228759765625,-0.046966552734375,-0.037353515625,-0.05633544921875,-0.022613525390625,0.00801849365234375],[-6.5234375,-0.038482666015625,-0.033477783203125,-0.04351806640625,0.0927734375,0.08380126953125,-0.008056640625,-0.048065185546875,0.017120361328125,0.00798797607421875,0.01039886474609375,0.0118408203125,-0.03424072265625,-0.3798828125,-0.31982421875,-0.383056640625,-0.282470703125,-0.364990234375,-0.307861328125,-0.1259765625,-0.11517333984375,-0.288818359375,-0.2435302734375,-0.2115478515625,-0.318359375,-0.3388671875,-0.2327880859375,-0.052490234375,-0.394775390625,-0.039093017578125,-0.071533203125,0.03759765625,0.01629638671875,0.033538818359375,0.0440673828125],[-4.89453125,0.05059814453125,0.016845703125,-0.0214996337890625,0.072509765625,0.11865234375,0.04815673828125,-0.037872314453125,0.06060791015625,-0.037322998046875,-0.0653076171875,0.0017824172973632812,0.020721435546875,-0.2900390625,-0.2257080078125,-0.2398681640625,-0.2486572265625,-0.30322265625,-0.252197265625,-0.1011962890625,-0.031646728515625,-0.171630859375,-0.1561279296875,-0.1363525390625,-0.181640625,-0.172607421875,-0.1453857421875,-0.0294189453125,-0.198486328125,-0.0116424560546875,-0.080810546875,-0.017120361328125,-0.03863525390625,0.01214599609375,0.01325225830078125],[-11.5859375,-0.072265625,0.043609619140625,-0.024810791015625,0.09735107421875,0.1363525390625,0.0217437744140625,-0.0382080078125,0.035919189453125,-0.00732421875,-0.03509521484375,-0.022552490234375,0.01299285888671875,-0.29931640625,-0.2213134765625,-0.228515625,-0.22265625,-0.351318359375,-0.25146484375,-0.069580078125,0.08624267578125,-0.1787109375,-0.2318115234375,-0.232666015625,-0.2900390625,-0.2420654296875,-0.133544921875,0.059783935546875,-0.1103515625,0.0465087890625,-0.0215606689453125,0.0160675048828125,0.0016117095947265625,0.041748046875,0.08343505859375],[0.413818359375,0.2069091796875,0.1622314453125,0.06500244140625,0.140380859375,0.08575439453125,0.0709228515625,0.0031566619873046875,0.072021484375,0.0075836181640625,0.00859832763671875,0.00353240966796875,-0.017242431640625,-0.39697265625,-0.348876953125,-0.30029296875,-0.2283935546875,-0.357421875,-0.2335205078125,0.019287109375,0.208740234375,-0.1295166015625,-0.1727294921875,-0.1856689453125,-0.2734375,-0.194580078125,-0.0772705078125,0.166748046875,-0.05438232421875,0.0928955078125,0.036468505859375,0.056304931640625,0.0215606689453125,0.1405029296875,0.130859375],[5.8671875,0.3076171875,0.046905517578125,0.031219482421875,0.1192626953125,0.09112548828125,0.0711669921875,-0.055023193359375,-0.055267333984375,-0.028839111328125,-0.098876953125,-0.133544921875,-0.0848388671875,-0.2373046875,-0.225341796875,-0.254638671875,-0.228515625,-0.3681640625,-0.2470703125,-0.345947265625,-0.192138671875,-0.10479736328125,-0.128173828125,-0.2261962890625,-0.406005859375,-0.41015625,-0.59619140625,-0.2137451171875,-0.1463623046875,-0.3076171875,0.0009064674377441406,0.019287109375,-0.09832763671875,-0.0372314453125,0.044158935546875],[6.6484375,0.2354736328125,0.07257080078125,0.0120086669921875,0.06500244140625,0.0391845703125,0.08367919921875,-0.038726806640625,-0.1226806640625,-0.0543212890625,-0.1640625,-0.159423828125,-0.12371826171875,-0.253662109375,-0.1873779296875,-0.187744140625,-0.251708984375,-0.59326171875,-0.443603515625,-0.7236328125,-0.475830078125,-0.053924560546875,0.03662109375,-0.11895751953125,-0.478271484375,-0.50927734375,-1.1806640625,-0.58984375,-0.39892578125,-0.5068359375,-0.0310211181640625,-0.05438232421875,-0.259033203125,-0.20654296875,0.035430908203125],[3.86328125,0.2279052734375,0.1451416015625,0.07098388671875,0.1690673828125,0.04583740234375,-0.0030994415283203125,-0.08831787109375,-0.0394287109375,-0.07598876953125,-0.1551513671875,-0.06683349609375,-0.10296630859375,-0.327880859375,-0.351318359375,-0.4345703125,-0.35400390625,-0.73095703125,-0.62841796875,-0.7099609375,-0.381591796875,-0.27392578125,-0.0160064697265625,-0.101318359375,-0.484619140625,-0.65478515625,-1.4677734375,-0.44970703125,-0.69775390625,-0.433349609375,0.1685791015625,0.036865234375,-0.052642822265625,-0.03631591796875,0.146484375],[2.140625,0.04547119140625,0.04046630859375,-0.04449462890625,0.08087158203125,-0.029144287109375,-0.10650634765625,-0.2449951171875,-0.05999755859375,-0.19677734375,-0.220458984375,-0.146728515625,-0.1640625,-0.35595703125,-0.560546875,-0.499267578125,-0.486083984375,-1.0126953125,-1.0244140625,-0.89404296875,-0.611328125,-0.4443359375,-0.042327880859375,-0.07574462890625,-0.448974609375,-1.041015625,-2.1875,-0.833984375,-0.853515625,-0.888671875,0.0216522216796875,-0.1451416015625,-0.334716796875,-0.1500244140625,-0.0204620361328125],[-0.75732421875,0.0218048095703125,0.2117919921875,0.0740966796875,0.2117919921875,0.138916015625,0.07147216796875,-0.08856201171875,0.144775390625,-0.0667724609375,-0.10321044921875,-0.03216552734375,-0.0251922607421875,-0.18408203125,-0.349853515625,-0.295654296875,-0.1715087890625,-0.7568359375,-0.75439453125,-0.962890625,-0.75732421875,-0.1661376953125,0.1949462890625,0.229248046875,-0.10894775390625,-0.71630859375,-2.17578125,-1.2734375,-0.6357421875,-1.330078125,-0.04119873046875,-0.2176513671875,-0.609375,-0.4677734375,-0.1661376953125],[6.171875,0.306640625,0.15576171875,0.093017578125,0.28466796875,0.10040283203125,-0.038726806640625,-0.1453857421875,0.07598876953125,-0.1455078125,-0.2177734375,-0.1334228515625,-0.0980224609375,-0.269775390625,-0.392822265625,-0.374267578125,-0.35107421875,-0.78857421875,-0.759765625,-1.009765625,-0.7275390625,-0.465576171875,0.113037109375,0.2213134765625,-0.219482421875,-0.9072265625,-2.0546875,-1.4658203125,-1.0458984375,-1.6806640625,-0.358154296875,-0.2496337890625,-0.69970703125,-0.478271484375,-0.33837890625],[16.703125,0.97900390625,0.1712646484375,0.457763671875,0.360107421875,0.1324462890625,-0.0755615234375,-0.1510009765625,0.178955078125,-0.1046142578125,-0.1871337890625,-0.151611328125,-0.08673095703125,-0.1849365234375,-0.335693359375,-0.378662109375,-0.467041015625,-0.47509765625,-0.5517578125,-0.69287109375,-0.49560546875,-0.56494140625,0.0699462890625,0.11016845703125,-0.6142578125,-1.2666015625,-2.337890625,-1.763671875,-0.85986328125,-1.78125,-0.5966796875,-0.410400390625,-0.962890625,-0.884765625,-0.78271484375],[17.296875,0.89111328125,0.006366729736328125,0.437255859375,0.277587890625,0.0970458984375,-0.2474365234375,-0.59521484375,0.072509765625,-0.40478515625,-0.54736328125,-0.370361328125,-0.162353515625,-0.2890625,-0.4794921875,-0.5244140625,-0.6748046875,-0.61181640625,-0.86962890625,-1.1220703125,-0.77392578125,-0.70654296875,-0.0653076171875,-0.1944580078125,-1.4755859375,-2.42578125,-3.103515625,-2.830078125,-1.2529296875,-2.52734375,-1.6962890625,-1.23828125,-1.8447265625,-1.751953125,-1.66796875],[16.8125,1.328125,0.30224609375,0.947265625,0.6708984375,0.63134765625,0.1754150390625,-0.3486328125,0.55615234375,-0.271728515625,-0.409423828125,-0.1658935546875,0.1136474609375,-0.1484375,-0.250732421875,-0.305419921875,-0.294189453125,-0.2291259765625,-0.52392578125,-0.8955078125,-0.440673828125,-0.445068359375,0.24609375,0.05157470703125,-1.1298828125,-2.3671875,-3.0078125,-3.099609375,-0.90234375,-2.515625,-1.55859375,-0.7275390625,-1.4443359375,-1.3701171875,-1.4794921875],[16.0625,1.072265625,0.274169921875,0.712890625,0.623046875,0.46533203125,-0.01165771484375,-0.3955078125,0.611328125,-0.411376953125,-0.6357421875,-0.3408203125,-0.0810546875,-0.2529296875,-0.456787109375,-0.42626953125,-0.515625,-0.47119140625,-0.8671875,-0.9853515625,-0.634765625,-0.576171875,0.1956787109375,0.06939697265625,-1.4326171875,-2.76953125,-3.294921875,-3.65625,-0.908203125,-2.794921875,-1.8896484375,-1.0439453125,-1.7158203125,-1.6025390625,-1.89453125],[-0.9931640625,-0.81005859375,0.37109375,-2.68359375,0.5185546875,0.6396484375,-0.0185089111328125,-0.382080078125,0.1439208984375,-0.44091796875,-0.67333984375,-0.1751708984375,0.08642578125,-0.16162109375,-0.2254638671875,-0.36572265625,-0.340087890625,-0.322509765625,-0.84521484375,-1.189453125,-0.30810546875,-0.295654296875,0.482421875,0.29150390625,-1.3935546875,-2.6171875,-3.560546875,-3.708984375,-0.8505859375,-2.62890625,-1.865234375,-0.9130859375,-1.5009765625,-1.73828125,-1.822265625],[-11.1875,-3.609375,-0.94384765625,-6.515625,-0.80224609375,-0.55810546875,-1.3544921875,-1.8046875,-1.419921875,-1.7646484375,-1.95703125,-1.177734375,-0.921875,-1.5419921875,-1.80078125,-1.9013671875,-1.845703125,-1.861328125,-2.767578125,-3.1015625,-1.6240234375,-1.9140625,-1.2763671875,-0.9833984375,-3.29296875,-4.86328125,-5.78515625,-5.3828125,-2.34375,-4.25,-3.3125,-2.162109375,-2.810546875,-2.99609375,-3.2265625],[-17.265625,-4.55859375,-0.7626953125,-8.21875,-0.62841796875,-0.1962890625,-0.96630859375,-1.552734375,-1.470703125,-1.568359375,-1.8095703125,-0.79541015625,-0.34765625,-1.08984375,-1.5576171875,-1.6015625,-1.708984375,-1.662109375,-2.677734375,-3.09375,-1.1884765625,-1.4404296875,-1.0419921875,-0.75634765625,-2.935546875,-4.328125,-5.65625,-4.984375,-2.02734375,-3.87890625,-2.84375,-1.912109375,-2.49609375,-2.630859375,-2.80859375],[-14.0546875,-4.484375,-1.5263671875,-7.3203125,-1.3955078125,-1.208984375,-2.197265625,-2.66796875,-2.14453125,-2.763671875,-3.02734375,-2.046875,-1.439453125,-2.15234375,-3.056640625,-2.87109375,-3.06640625,-3.03515625,-4.34375,-4.53515625,-2.412109375,-2.69140625,-2.138671875,-1.7568359375,-4.04296875,-5.9453125,-8.25,-6.80078125,-3.373046875,-5.65625,-4.62890625,-3.19140625,-3.8046875,-3.91015625,-4.3203125],[-15.34375,-4.1953125,-0.4453125,-7.67578125,-0.495361328125,-0.03253173828125,-1.123046875,-1.9765625,-1.4033203125,-2.087890625,-2.353515625,-0.92138671875,-0.2802734375,-0.96142578125,-2.12109375,-1.732421875,-2.044921875,-2.154296875,-3.51171875,-3.984375,-1.4287109375,-1.4736328125,-0.86376953125,-0.66015625,-2.8828125,-4.7265625,-7.7578125,-5.84375,-2.40625,-4.86328125,-3.734375,-2.158203125,-2.90625,-3.109375,-3.48046875],[-22.1875,-6.58984375,-1.9560546875,-10.953125,-2.025390625,-1.2763671875,-2.6875,-3.62890625,-3.158203125,-3.791015625,-4.12890625,-2.029296875,-1.3125,-2.263671875,-3.77734375,-3.41796875,-3.787109375,-3.541015625,-5.19140625,-5.99609375,-2.765625,-2.662109375,-2.3203125,-2.158203125,-4.265625,-6.0078125,-9.6953125,-7.140625,-3.8046875,-6.33984375,-5.078125,-3.484375,-4.26171875,-4.2734375,-4.78515625],[-20.078125,-5.59765625,-1.0888671875,-9.84375,-1.2919921875,-0.65087890625,-2.083984375,-2.75,-2.34765625,-3.08203125,-3.63671875,-1.4423828125,-0.36767578125,-1.66796875,-3.501953125,-2.646484375,-3.447265625,-3.15234375,-4.7734375,-5.8671875,-2.185546875,-2.259765625,-1.859375,-1.640625,-3.810546875,-5.71484375,-11.4921875,-6.34375,-3.140625,-6.0625,-4.53515625,-2.775390625,-3.642578125,-3.599609375,-4.07421875],[-20.9375,-7.5625,-2.65625,-12.4609375,-2.8671875,-1.7412109375,-3.5859375,-4.49609375,-4.1953125,-4.84765625,-5.7421875,-3.236328125,-1.8720703125,-3.4296875,-5.7421875,-4.3125,-5.125,-4.86328125,-6.76171875,-8.203125,-3.8359375,-3.9609375,-3.505859375,-3.22265625,-5.60546875,-7.6796875,-13.9296875,-7.9765625,-4.90625,-7.890625,-6.41796875,-4.4921875,-5.625,-5.13671875,-5.5234375],[-20.328125,-7.33203125,-2.1640625,-12.515625,-2.228515625,-0.9404296875,-3.0859375,-4.1796875,-3.880859375,-4.60546875,-5.79296875,-2.951171875,-1.1845703125,-2.916015625,-5.56640625,-3.96484375,-5.0546875,-4.33203125,-6.94140625,-8.390625,-3.5234375,-3.68359375,-2.755859375,-2.41796875,-5.29296875,-7.21484375,-14.0703125,-7.38671875,-4.7421875,-7.28515625,-6.22265625,-4.53125,-5.609375,-4.78515625,-5.66796875],[-14.203125,-6.44921875,-2.326171875,-11.34375,-1.978515625,-0.669921875,-3.2578125,-4.3125,-3.90234375,-4.98046875,-5.87890625,-2.943359375,-0.62158203125,-3.42578125,-6.2265625,-4.31640625,-5.4609375,-4.671875,-7.5,-8.90625,-3.998046875,-3.796875,-2.876953125,-2.423828125,-5.49609375,-7.421875,-14.6171875,-7.52734375,-5.04296875,-7.734375,-6.37890625,-4.68359375,-5.9453125,-5.15234375,-5.8984375],[-11.4453125,-7.1875,-3.26171875,-12.1796875,-3.00390625,-1.8447265625,-5.3359375,-6.01171875,-5.5234375,-6.94921875,-7.73046875,-4.140625,-1.6787109375,-5.4375,-8.53125,-6.70703125,-8.0234375,-7.0546875,-9.828125,-10.7734375,-5.9140625,-5.3125,-3.91796875,-3.421875,-6.7109375,-8.5703125,-16.59375,-9.6953125,-7.01171875,-9.6875,-8.453125,-7.16796875,-8.359375,-6.8828125,-7.69140625],[-7.72265625,-7.1484375,-3.52734375,-11.90625,-2.3984375,-2.341796875,-6.59765625,-7.375,-6.52734375,-7.94921875,-8.8828125,-3.876953125,-1.2158203125,-6.19140625,-10.890625,-8.3046875,-9.546875,-8.8828125,-11.984375,-12.703125,-7.328125,-6.2265625,-3.8125,-3.240234375,-7.859375,-9.453125,-19.265625,-10.484375,-7.65625,-10.328125,-9.546875,-8.421875,-10.4609375,-8.8203125,-9.125],[-20.546875,-18.375,-4.28515625,-20.203125,7.2734375,-19.015625,-61.75,-43.1875,-26.5625,-58.875,-64.8125,-32.15625,-9.7109375,-59.65625,-88.375,-65.75,-90.6875,-64.6875,-88.75,-80.6875,-45.125,-45.625,-25.109375,-22.703125,-52.3125,-66.4375,-137.75,-99.3125,-78.0625,-90.25,-86.0625,-61.84375,-76.125,-75.125,-76.25]],\"type\":\"heatmap\",\"xaxis\":\"x\",\"yaxis\":\"y\",\"hovertemplate\":\"Token: %{x}\\u003cbr\\u003ey: %{y}\\u003cbr\\u003ecolor: %{z}\\u003cextra\\u003e\\u003c\\u002fextra\\u003e\"}],                        {\"template\":{\"data\":{\"histogram2dcontour\":[{\"type\":\"histogram2dcontour\",\"colorbar\":{\"outlinewidth\":0,\"ticks\":\"\"},\"colorscale\":[[0.0,\"#0d0887\"],[0.1111111111111111,\"#46039f\"],[0.2222222222222222,\"#7201a8\"],[0.3333333333333333,\"#9c179e\"],[0.4444444444444444,\"#bd3786\"],[0.5555555555555556,\"#d8576b\"],[0.6666666666666666,\"#ed7953\"],[0.7777777777777778,\"#fb9f3a\"],[0.8888888888888888,\"#fdca26\"],[1.0,\"#f0f921\"]]}],\"choropleth\":[{\"type\":\"choropleth\",\"colorbar\":{\"outlinewidth\":0,\"ticks\":\"\"}}],\"histogram2d\":[{\"type\":\"histogram2d\",\"colorbar\":{\"outlinewidth\":0,\"ticks\":\"\"},\"colorscale\":[[0.0,\"#0d0887\"],[0.1111111111111111,\"#46039f\"],[0.2222222222222222,\"#7201a8\"],[0.3333333333333333,\"#9c179e\"],[0.4444444444444444,\"#bd3786\"],[0.5555555555555556,\"#d8576b\"],[0.6666666666666666,\"#ed7953\"],[0.7777777777777778,\"#fb9f3a\"],[0.8888888888888888,\"#fdca26\"],[1.0,\"#f0f921\"]]}],\"heatmap\":[{\"type\":\"heatmap\",\"colorbar\":{\"outlinewidth\":0,\"ticks\":\"\"},\"colorscale\":[[0.0,\"#0d0887\"],[0.1111111111111111,\"#46039f\"],[0.2222222222222222,\"#7201a8\"],[0.3333333333333333,\"#9c179e\"],[0.4444444444444444,\"#bd3786\"],[0.5555555555555556,\"#d8576b\"],[0.6666666666666666,\"#ed7953\"],[0.7777777777777778,\"#fb9f3a\"],[0.8888888888888888,\"#fdca26\"],[1.0,\"#f0f921\"]]}],\"heatmapgl\":[{\"type\":\"heatmapgl\",\"colorbar\":{\"outlinewidth\":0,\"ticks\":\"\"},\"colorscale\":[[0.0,\"#0d0887\"],[0.1111111111111111,\"#46039f\"],[0.2222222222222222,\"#7201a8\"],[0.3333333333333333,\"#9c179e\"],[0.4444444444444444,\"#bd3786\"],[0.5555555555555556,\"#d8576b\"],[0.6666666666666666,\"#ed7953\"],[0.7777777777777778,\"#fb9f3a\"],[0.8888888888888888,\"#fdca26\"],[1.0,\"#f0f921\"]]}],\"contourcarpet\":[{\"type\":\"contourcarpet\",\"colorbar\":{\"outlinewidth\":0,\"ticks\":\"\"}}],\"contour\":[{\"type\":\"contour\",\"colorbar\":{\"outlinewidth\":0,\"ticks\":\"\"},\"colorscale\":[[0.0,\"#0d0887\"],[0.1111111111111111,\"#46039f\"],[0.2222222222222222,\"#7201a8\"],[0.3333333333333333,\"#9c179e\"],[0.4444444444444444,\"#bd3786\"],[0.5555555555555556,\"#d8576b\"],[0.6666666666666666,\"#ed7953\"],[0.7777777777777778,\"#fb9f3a\"],[0.8888888888888888,\"#fdca26\"],[1.0,\"#f0f921\"]]}],\"surface\":[{\"type\":\"surface\",\"colorbar\":{\"outlinewidth\":0,\"ticks\":\"\"},\"colorscale\":[[0.0,\"#0d0887\"],[0.1111111111111111,\"#46039f\"],[0.2222222222222222,\"#7201a8\"],[0.3333333333333333,\"#9c179e\"],[0.4444444444444444,\"#bd3786\"],[0.5555555555555556,\"#d8576b\"],[0.6666666666666666,\"#ed7953\"],[0.7777777777777778,\"#fb9f3a\"],[0.8888888888888888,\"#fdca26\"],[1.0,\"#f0f921\"]]}],\"mesh3d\":[{\"type\":\"mesh3d\",\"colorbar\":{\"outlinewidth\":0,\"ticks\":\"\"}}],\"scatter\":[{\"fillpattern\":{\"fillmode\":\"overlay\",\"size\":10,\"solidity\":0.2},\"type\":\"scatter\"}],\"parcoords\":[{\"type\":\"parcoords\",\"line\":{\"colorbar\":{\"outlinewidth\":0,\"ticks\":\"\"}}}],\"scatterpolargl\":[{\"type\":\"scatterpolargl\",\"marker\":{\"colorbar\":{\"outlinewidth\":0,\"ticks\":\"\"}}}],\"bar\":[{\"error_x\":{\"color\":\"#2a3f5f\"},\"error_y\":{\"color\":\"#2a3f5f\"},\"marker\":{\"line\":{\"color\":\"#E5ECF6\",\"width\":0.5},\"pattern\":{\"fillmode\":\"overlay\",\"size\":10,\"solidity\":0.2}},\"type\":\"bar\"}],\"scattergeo\":[{\"type\":\"scattergeo\",\"marker\":{\"colorbar\":{\"outlinewidth\":0,\"ticks\":\"\"}}}],\"scatterpolar\":[{\"type\":\"scatterpolar\",\"marker\":{\"colorbar\":{\"outlinewidth\":0,\"ticks\":\"\"}}}],\"histogram\":[{\"marker\":{\"pattern\":{\"fillmode\":\"overlay\",\"size\":10,\"solidity\":0.2}},\"type\":\"histogram\"}],\"scattergl\":[{\"type\":\"scattergl\",\"marker\":{\"colorbar\":{\"outlinewidth\":0,\"ticks\":\"\"}}}],\"scatter3d\":[{\"type\":\"scatter3d\",\"line\":{\"colorbar\":{\"outlinewidth\":0,\"ticks\":\"\"}},\"marker\":{\"colorbar\":{\"outlinewidth\":0,\"ticks\":\"\"}}}],\"scattermapbox\":[{\"type\":\"scattermapbox\",\"marker\":{\"colorbar\":{\"outlinewidth\":0,\"ticks\":\"\"}}}],\"scatterternary\":[{\"type\":\"scatterternary\",\"marker\":{\"colorbar\":{\"outlinewidth\":0,\"ticks\":\"\"}}}],\"scattercarpet\":[{\"type\":\"scattercarpet\",\"marker\":{\"colorbar\":{\"outlinewidth\":0,\"ticks\":\"\"}}}],\"carpet\":[{\"aaxis\":{\"endlinecolor\":\"#2a3f5f\",\"gridcolor\":\"white\",\"linecolor\":\"white\",\"minorgridcolor\":\"white\",\"startlinecolor\":\"#2a3f5f\"},\"baxis\":{\"endlinecolor\":\"#2a3f5f\",\"gridcolor\":\"white\",\"linecolor\":\"white\",\"minorgridcolor\":\"white\",\"startlinecolor\":\"#2a3f5f\"},\"type\":\"carpet\"}],\"table\":[{\"cells\":{\"fill\":{\"color\":\"#EBF0F8\"},\"line\":{\"color\":\"white\"}},\"header\":{\"fill\":{\"color\":\"#C8D4E3\"},\"line\":{\"color\":\"white\"}},\"type\":\"table\"}],\"barpolar\":[{\"marker\":{\"line\":{\"color\":\"#E5ECF6\",\"width\":0.5},\"pattern\":{\"fillmode\":\"overlay\",\"size\":10,\"solidity\":0.2}},\"type\":\"barpolar\"}],\"pie\":[{\"automargin\":true,\"type\":\"pie\"}]},\"layout\":{\"autotypenumbers\":\"strict\",\"colorway\":[\"#636efa\",\"#EF553B\",\"#00cc96\",\"#ab63fa\",\"#FFA15A\",\"#19d3f3\",\"#FF6692\",\"#B6E880\",\"#FF97FF\",\"#FECB52\"],\"font\":{\"color\":\"#2a3f5f\"},\"hovermode\":\"closest\",\"hoverlabel\":{\"align\":\"left\"},\"paper_bgcolor\":\"white\",\"plot_bgcolor\":\"#E5ECF6\",\"polar\":{\"bgcolor\":\"#E5ECF6\",\"angularaxis\":{\"gridcolor\":\"white\",\"linecolor\":\"white\",\"ticks\":\"\"},\"radialaxis\":{\"gridcolor\":\"white\",\"linecolor\":\"white\",\"ticks\":\"\"}},\"ternary\":{\"bgcolor\":\"#E5ECF6\",\"aaxis\":{\"gridcolor\":\"white\",\"linecolor\":\"white\",\"ticks\":\"\"},\"baxis\":{\"gridcolor\":\"white\",\"linecolor\":\"white\",\"ticks\":\"\"},\"caxis\":{\"gridcolor\":\"white\",\"linecolor\":\"white\",\"ticks\":\"\"}},\"coloraxis\":{\"colorbar\":{\"outlinewidth\":0,\"ticks\":\"\"}},\"colorscale\":{\"sequential\":[[0.0,\"#0d0887\"],[0.1111111111111111,\"#46039f\"],[0.2222222222222222,\"#7201a8\"],[0.3333333333333333,\"#9c179e\"],[0.4444444444444444,\"#bd3786\"],[0.5555555555555556,\"#d8576b\"],[0.6666666666666666,\"#ed7953\"],[0.7777777777777778,\"#fb9f3a\"],[0.8888888888888888,\"#fdca26\"],[1.0,\"#f0f921\"]],\"sequentialminus\":[[0.0,\"#0d0887\"],[0.1111111111111111,\"#46039f\"],[0.2222222222222222,\"#7201a8\"],[0.3333333333333333,\"#9c179e\"],[0.4444444444444444,\"#bd3786\"],[0.5555555555555556,\"#d8576b\"],[0.6666666666666666,\"#ed7953\"],[0.7777777777777778,\"#fb9f3a\"],[0.8888888888888888,\"#fdca26\"],[1.0,\"#f0f921\"]],\"diverging\":[[0,\"#8e0152\"],[0.1,\"#c51b7d\"],[0.2,\"#de77ae\"],[0.3,\"#f1b6da\"],[0.4,\"#fde0ef\"],[0.5,\"#f7f7f7\"],[0.6,\"#e6f5d0\"],[0.7,\"#b8e186\"],[0.8,\"#7fbc41\"],[0.9,\"#4d9221\"],[1,\"#276419\"]]},\"xaxis\":{\"gridcolor\":\"white\",\"linecolor\":\"white\",\"ticks\":\"\",\"title\":{\"standoff\":15},\"zerolinecolor\":\"white\",\"automargin\":true,\"zerolinewidth\":2},\"yaxis\":{\"gridcolor\":\"white\",\"linecolor\":\"white\",\"ticks\":\"\",\"title\":{\"standoff\":15},\"zerolinecolor\":\"white\",\"automargin\":true,\"zerolinewidth\":2},\"scene\":{\"xaxis\":{\"backgroundcolor\":\"#E5ECF6\",\"gridcolor\":\"white\",\"linecolor\":\"white\",\"showbackground\":true,\"ticks\":\"\",\"zerolinecolor\":\"white\",\"gridwidth\":2},\"yaxis\":{\"backgroundcolor\":\"#E5ECF6\",\"gridcolor\":\"white\",\"linecolor\":\"white\",\"showbackground\":true,\"ticks\":\"\",\"zerolinecolor\":\"white\",\"gridwidth\":2},\"zaxis\":{\"backgroundcolor\":\"#E5ECF6\",\"gridcolor\":\"white\",\"linecolor\":\"white\",\"showbackground\":true,\"ticks\":\"\",\"zerolinecolor\":\"white\",\"gridwidth\":2}},\"shapedefaults\":{\"line\":{\"color\":\"#2a3f5f\"}},\"annotationdefaults\":{\"arrowcolor\":\"#2a3f5f\",\"arrowhead\":0,\"arrowwidth\":1},\"geo\":{\"bgcolor\":\"white\",\"landcolor\":\"#E5ECF6\",\"subunitcolor\":\"white\",\"showland\":true,\"showlakes\":true,\"lakecolor\":\"white\"},\"title\":{\"x\":0.05},\"mapbox\":{\"style\":\"light\"}}},\"xaxis\":{\"anchor\":\"y\",\"domain\":[0.0,1.0],\"scaleanchor\":\"y\",\"constrain\":\"domain\",\"title\":{\"text\":\"Token\"},\"tickvals\":[0,1,2,3,4,5,6,7,8,9,10,11,12,13,14,15,16,17,18,19,20,21,22,23,24,25,26,27,28,29,30,31,32,33],\"ticktext\":[\"\\u2581[\",\"INST\",\"]\",\"\\u2581P\",\"ret\",\"end\",\"\\u2581you\",\"'\",\"re\",\"\\u2581an\",\"\\u2581un\",\"tr\",\"uth\",\"ful\",\"\\u2581person\",\"\\u2581making\",\"\\u2581statements\",\"\\u2581about\",\"\\u2581the\",\"\\u2581world\",\".\",\"\\u2581[\",\"\\u002f\",\"INST\",\"]\",\"\\u2581The\",\"\\u2581Earth\",\"'\",\"s\",\"\\u2581atmosphere\",\"\\u2581protect\",\"s\",\"\\u2581us\",\"\\u2581from\"]},\"yaxis\":{\"anchor\":\"x\",\"domain\":[0.0,1.0],\"autorange\":\"reversed\",\"constrain\":\"domain\"},\"coloraxis\":{\"colorscale\":[[0.0,\"rgb(165,0,38)\"],[0.1,\"rgb(215,48,39)\"],[0.2,\"rgb(244,109,67)\"],[0.3,\"rgb(253,174,97)\"],[0.4,\"rgb(254,224,139)\"],[0.5,\"rgb(255,255,191)\"],[0.6,\"rgb(217,239,139)\"],[0.7,\"rgb(166,217,106)\"],[0.8,\"rgb(102,189,99)\"],[0.9,\"rgb(26,152,80)\"],[1.0,\"rgb(0,104,55)\"]],\"cmin\":-3.6152,\"cmax\":3.6152},\"margin\":{\"t\":60},\"width\":1000,\"height\":600},                        {\"responsive\": true}                    ).then(function(){\n",
       "                            \n",
       "var gd = document.getElementById('82fb1f1e-fe7e-461e-8b74-ba3cb329339f');\n",
       "var x = new MutationObserver(function (mutations, observer) {{\n",
       "        var display = window.getComputedStyle(gd).display;\n",
       "        if (!display || display === 'none') {{\n",
       "            console.log([gd, 'removed!']);\n",
       "            Plotly.purge(gd);\n",
       "            observer.disconnect();\n",
       "        }}\n",
       "}});\n",
       "\n",
       "// Listen for the removal of the full notebook cells\n",
       "var notebookContainer = gd.closest('#notebook-container');\n",
       "if (notebookContainer) {{\n",
       "    x.observe(notebookContainer, {childList: true});\n",
       "}}\n",
       "\n",
       "// Listen for the clearing of the current output cell\n",
       "var outputEl = gd.closest('.output');\n",
       "if (outputEl) {{\n",
       "    x.observe(outputEl, {childList: true});\n",
       "}}\n",
       "\n",
       "                        })                };                });            </script>        </div>"
      ]
     },
     "metadata": {},
     "output_type": "display_data"
    }
   ],
   "source": [
    "# visualize a scan from the training dataset\n",
    "\n",
    "input_text = doc.statement_pairs['train'][8][1]\n",
    "# input_text = doc.statement_pairs['train'][8][0] \n",
    "\n",
    "projections = doc.get_projections(input_text=input_text)\n",
    "tokens = tokenizer.tokenize(input_text)\n",
    "doc.plot_projection_heatmap(projections, tokens, saturate_at='auto')"
   ]
  }
 ],
 "metadata": {
  "kernelspec": {
   "display_name": "Python 3 (ipykernel)",
   "language": "python",
   "name": "python3"
  },
  "language_info": {
   "codemirror_mode": {
    "name": "ipython",
    "version": 3
   },
   "file_extension": ".py",
   "mimetype": "text/x-python",
   "name": "python",
   "nbconvert_exporter": "python",
   "pygments_lexer": "ipython3",
   "version": "3.10.13"
  }
 },
 "nbformat": 4,
 "nbformat_minor": 5
}
