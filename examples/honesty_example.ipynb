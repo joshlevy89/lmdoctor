{
 "cells": [
  {
   "cell_type": "code",
   "execution_count": 1,
   "id": "574c865c-c179-47cd-b331-9283352504d1",
   "metadata": {
    "tags": []
   },
   "outputs": [],
   "source": [
    "%load_ext autoreload\n",
    "%autoreload 2"
   ]
  },
  {
   "cell_type": "markdown",
   "id": "7a31a213-f00f-462e-bc9d-861633f71082",
   "metadata": {},
   "source": [
    "## Setup\n",
    "If you already have a model/tokenizer you want to use, you can skip this step. \n",
    "Be sure to also set the appropriate user_tag/assistant_tag for that model."
   ]
  },
  {
   "cell_type": "code",
   "execution_count": 2,
   "id": "be6ed83c-89d0-4d30-b794-20db2ebe92ce",
   "metadata": {
    "tags": []
   },
   "outputs": [],
   "source": [
    "%%capture\n",
    "# The quantized model used here requires some extra libraries. \n",
    "import sys\n",
    "!{sys.executable} -m pip install torch==2.1.1 torchvision==0.16.1 torchaudio==2.1.1 --index-url https://download.pytorch.org/whl/cu121\n",
    "!{sys.executable} -m pip install optimum>=1.12.0\n",
    "!{sys.executable} -m pip install auto-gptq==0.6.0\n",
    "!{sys.executable} -m pip install accelerate"
   ]
  },
  {
   "cell_type": "code",
   "execution_count": 3,
   "id": "a16924fa-784d-40d1-8ab6-651eb71b8c6d",
   "metadata": {
    "tags": []
   },
   "outputs": [
    {
     "name": "stderr",
     "output_type": "stream",
     "text": [
      "/opt/conda/lib/python3.10/site-packages/transformers/utils/hub.py:124: FutureWarning: Using `TRANSFORMERS_CACHE` is deprecated and will be removed in v5 of Transformers. Use `HF_HOME` instead.\n",
      "  warnings.warn(\n",
      "/opt/conda/lib/python3.10/site-packages/transformers/modeling_utils.py:4193: FutureWarning: `_is_quantized_training_enabled` is going to be deprecated in transformers 4.39.0. Please use `model.hf_quantizer.is_trainable` instead\n",
      "  warnings.warn(\n"
     ]
    }
   ],
   "source": [
    "import os\n",
    "os.environ['TRANSFORMERS_CACHE'] = '/workspace/cache/' # change or comment out as desired \n",
    "\n",
    "device = 'cuda:0'\n",
    "model_name_or_path = \"TheBloke/Mistral-7B-Instruct-v0.1-GPTQ\"\n",
    "revision = 'gptq-4bit-32g-actorder_True'\n",
    "user_tag = \"[INST] \"\n",
    "assistant_tag = \" [/INST]\"\n",
    "\n",
    "from example_utils import load_model\n",
    "model, tokenizer = load_model(model_name_or_path, revision, device)"
   ]
  },
  {
   "cell_type": "markdown",
   "id": "3a9b064e-1fe9-4679-b687-14be64371b47",
   "metadata": {},
   "source": [
    "## Train extractor"
   ]
  },
  {
   "cell_type": "code",
   "execution_count": 4,
   "id": "1db112b6-7a23-4891-adfc-3eafb2135764",
   "metadata": {},
   "outputs": [
    {
     "name": "stderr",
     "output_type": "stream",
     "text": [
      "INFO - Inferring functional extraction_method because none was passed\n"
     ]
    }
   ],
   "source": [
    "from lmdoctor import doctor\n",
    "\n",
    "extraction_target = 'honesty'\n",
    "doc = doctor.Doctor(model, tokenizer, user_tag, assistant_tag, extraction_target=extraction_target, device=device)\n",
    "doc.extract(n_train_pairs=128, n_dev_pairs=64, n_test_pairs=32)"
   ]
  },
  {
   "cell_type": "code",
   "execution_count": 5,
   "id": "20b7555d-a2a8-4df9-9650-71d28f548ce1",
   "metadata": {},
   "outputs": [
    {
     "data": {
      "text/plain": [
       "array([[\"[INST] Pretend you're an honest person making statements about the world. [/INST] The\",\n",
       "        \"[INST] Pretend you're an untruthful person making statements about the world. [/INST] The\"]],\n",
       "      dtype='<U201')"
      ]
     },
     "execution_count": 5,
     "metadata": {},
     "output_type": "execute_result"
    }
   ],
   "source": [
    "doc.statement_pairs['train'][:1]"
   ]
  },
  {
   "cell_type": "markdown",
   "id": "dbd27be9-78ab-4cf7-9560-9a6da91a7dd5",
   "metadata": {},
   "source": [
    "## Run detector"
   ]
  },
  {
   "cell_type": "code",
   "execution_count": 14,
   "id": "89193532-9923-4462-8904-e97b2216bc4f",
   "metadata": {
    "tags": []
   },
   "outputs": [
    {
     "name": "stderr",
     "output_type": "stream",
     "text": [
      "Setting `pad_token_id` to `eos_token_id`:2 for open-end generation.\n"
     ]
    },
    {
     "data": {
      "text/plain": [
       "'All humans are honest and always tell the truth.'"
      ]
     },
     "execution_count": 14,
     "metadata": {},
     "output_type": "execute_result"
    }
   ],
   "source": [
    "# prompt = \"Tell me a fact about humans\"\n",
    "prompt = \"Tell me a lie about humans\"\n",
    "# prompt = \"Who authored 'Gimbar's adventures'?\"\n",
    "\n",
    "import torch\n",
    "torch.manual_seed(0)\n",
    "\n",
    "max_new_tokens = 10\n",
    "output = doc.generate(prompt, max_new_tokens=max_new_tokens, do_sample=True, gen_only=True, return_projections=True)\n",
    "output['text']"
   ]
  },
  {
   "cell_type": "code",
   "execution_count": 15,
   "id": "a895bf4c-ef51-4b56-a3c5-52276c148fd2",
   "metadata": {
    "tags": []
   },
   "outputs": [
    {
     "data": {
      "application/vnd.plotly.v1+json": {
       "config": {
        "plotlyServerURL": "https://plot.ly"
       },
       "data": [
        {
         "coloraxis": "coloraxis",
         "hovertemplate": "Token: %{x}<br>y: %{y}<br>color: %{z}<extra></extra>",
         "name": "0",
         "type": "heatmap",
         "xaxis": "x",
         "yaxis": "y",
         "z": [
          [
           -0.00797271728515625,
           -0.0012912750244140625,
           -0.01629638671875,
           0.0120086669921875,
           -0.0026264190673828125,
           0.01494598388671875,
           0.01174163818359375,
           0.0034809112548828125,
           0.021820068359375
          ],
          [
           -0.01255035400390625,
           -0.0117950439453125,
           -0.0209197998046875,
           0.00015735626220703125,
           -0.004955291748046875,
           0.0213775634765625,
           0.0190887451171875,
           0.026275634765625,
           0.032196044921875
          ],
          [
           0.0224456787109375,
           0.005931854248046875,
           0.005924224853515625,
           0.00555419921875,
           0.029571533203125,
           0.053314208984375,
           0.056182861328125,
           0.07830810546875,
           0.048736572265625
          ],
          [
           0.08538818359375,
           0.017578125,
           0.01416778564453125,
           0.036407470703125,
           0.0190582275390625,
           0.050750732421875,
           0.026702880859375,
           0.056854248046875,
           -0.040557861328125
          ],
          [
           0.021881103515625,
           -0.0132904052734375,
           0.01337432861328125,
           0.034637451171875,
           0.005889892578125,
           0.02191162109375,
           0.051544189453125,
           0.07171630859375,
           0.023834228515625
          ],
          [
           -0.1796875,
           -0.062408447265625,
           -0.09197998046875,
           0.1002197265625,
           0.06451416015625,
           0.0322265625,
           -0.002033233642578125,
           0.0401611328125,
           -0.08453369140625
          ],
          [
           -0.08306884765625,
           -0.046844482421875,
           -0.09075927734375,
           0.14990234375,
           0.055938720703125,
           0.0755615234375,
           0.0738525390625,
           0.1309814453125,
           0.02813720703125
          ],
          [
           -0.034759521484375,
           0.00714874267578125,
           -0.06353759765625,
           0.176025390625,
           0.0760498046875,
           0.10113525390625,
           0.07635498046875,
           0.149658203125,
           0.02099609375
          ],
          [
           0.0325927734375,
           0.1429443359375,
           -0.004161834716796875,
           0.07000732421875,
           -0.0016651153564453125,
           0.0609130859375,
           -0.011505126953125,
           0.0618896484375,
           -0.07464599609375
          ],
          [
           -0.32470703125,
           -0.0022182464599609375,
           -0.49462890625,
           -0.030792236328125,
           -0.420654296875,
           -0.06646728515625,
           0.031829833984375,
           0.0738525390625,
           -0.0968017578125
          ],
          [
           -0.490966796875,
           -0.10009765625,
           -0.623046875,
           -0.228759765625,
           -0.740234375,
           -0.18310546875,
           -0.0269317626953125,
           0.028076171875,
           -0.329345703125
          ],
          [
           -0.701171875,
           -0.1419677734375,
           -0.6669921875,
           -0.29248046875,
           -0.765625,
           -0.4404296875,
           -0.27490234375,
           -0.1800537109375,
           -0.473876953125
          ],
          [
           -1.0166015625,
           -0.1473388671875,
           -0.77587890625,
           -0.3935546875,
           -0.7724609375,
           -0.445556640625,
           -0.35205078125,
           -0.22021484375,
           -0.53955078125
          ],
          [
           -1.0849609375,
           -0.60009765625,
           -0.98974609375,
           -0.767578125,
           -0.9404296875,
           -0.57568359375,
           -0.5498046875,
           -0.364990234375,
           -0.6708984375
          ],
          [
           -1.2939453125,
           -1.052734375,
           -1.38671875,
           -0.80908203125,
           -1.0302734375,
           -0.71044921875,
           -0.697265625,
           -0.59130859375,
           -0.68359375
          ],
          [
           -1.2744140625,
           -1.0673828125,
           -1.3857421875,
           -0.5068359375,
           -0.89599609375,
           -0.48974609375,
           -0.44580078125,
           -0.46337890625,
           -0.53076171875
          ],
          [
           -1.099609375,
           -1.0048828125,
           -1.19140625,
           -0.441162109375,
           -0.552734375,
           0.003875732421875,
           0.0643310546875,
           0.10711669921875,
           -0.496337890625
          ],
          [
           -1.9189453125,
           -2.0390625,
           -2.142578125,
           -1.3427734375,
           -1.552734375,
           -0.9560546875,
           -0.71484375,
           -0.615234375,
           -1.330078125
          ],
          [
           -1.8642578125,
           -2.01953125,
           -2.0390625,
           -1.0673828125,
           -1.396484375,
           -0.83203125,
           -0.70751953125,
           -0.63525390625,
           -1.1337890625
          ],
          [
           -1.4521484375,
           -1.5009765625,
           -1.5654296875,
           -0.254638671875,
           -0.75244140625,
           0.006565093994140625,
           0.12286376953125,
           0.1976318359375,
           -0.412841796875
          ],
          [
           -2.259765625,
           -2.08203125,
           -2.109375,
           -0.70068359375,
           -1.474609375,
           -0.7109375,
           -0.7041015625,
           -0.460693359375,
           -0.9267578125
          ],
          [
           -2.96484375,
           -2.904296875,
           -2.974609375,
           -1.4951171875,
           -2.1875,
           -1.232421875,
           -1.4208984375,
           -1.1728515625,
           -1.66015625
          ],
          [
           -3.47265625,
           -3.158203125,
           -3.640625,
           -1.6025390625,
           -2.251953125,
           -1.09375,
           -1.4853515625,
           -1.21875,
           -1.64453125
          ],
          [
           -3.044921875,
           -2.486328125,
           -2.875,
           -1.068359375,
           -1.5263671875,
           -0.1331787109375,
           -0.66259765625,
           -0.66162109375,
           -1.0673828125
          ],
          [
           -4.3828125,
           -3.50390625,
           -3.83203125,
           -2.060546875,
           -2.720703125,
           -1.1748046875,
           -1.853515625,
           -1.8671875,
           -2.123046875
          ],
          [
           -3.7265625,
           -2.79296875,
           -3.228515625,
           -1.396484375,
           -1.9658203125,
           -0.5908203125,
           -1.7138671875,
           -1.6865234375,
           -1.51953125
          ],
          [
           -4.46484375,
           -3.53125,
           -4.0078125,
           -2.0625,
           -2.72265625,
           -1.1015625,
           -2.263671875,
           -2.560546875,
           -2.365234375
          ],
          [
           -5.8515625,
           -4.71875,
           -5.4296875,
           -3.142578125,
           -4.03125,
           -2.46875,
           -3.673828125,
           -4.359375,
           -4.11328125
          ],
          [
           -4.1171875,
           -2.7421875,
           -3.78515625,
           -1.4853515625,
           -2.59375,
           -0.7587890625,
           -2.126953125,
           -2.8359375,
           -2.53515625
          ],
          [
           -5.76171875,
           -4.23046875,
           -5.43359375,
           -3.1796875,
           -4.15625,
           -2.283203125,
           -4.18359375,
           -4.90234375,
           -4.55859375
          ],
          [
           -4.38671875,
           -1.8193359375,
           -2.36328125,
           -0.88037109375,
           -1.77734375,
           -0.207275390625,
           -2.3828125,
           -3.61328125,
           -2.703125
          ],
          [
           -55.65625,
           -26.4375,
           -38.75,
           -23.53125,
           -30.25,
           -12.4375,
           -29.046875,
           -32.28125,
           -30
          ]
         ]
        }
       ],
       "layout": {
        "coloraxis": {
         "cmax": 3.6938,
         "cmin": -3.6938,
         "colorscale": [
          [
           0,
           "rgb(165,0,38)"
          ],
          [
           0.1,
           "rgb(215,48,39)"
          ],
          [
           0.2,
           "rgb(244,109,67)"
          ],
          [
           0.3,
           "rgb(253,174,97)"
          ],
          [
           0.4,
           "rgb(254,224,139)"
          ],
          [
           0.5,
           "rgb(255,255,191)"
          ],
          [
           0.6,
           "rgb(217,239,139)"
          ],
          [
           0.7,
           "rgb(166,217,106)"
          ],
          [
           0.8,
           "rgb(102,189,99)"
          ],
          [
           0.9,
           "rgb(26,152,80)"
          ],
          [
           1,
           "rgb(0,104,55)"
          ]
         ]
        },
        "height": 600,
        "margin": {
         "t": 60
        },
        "template": {
         "data": {
          "bar": [
           {
            "error_x": {
             "color": "#2a3f5f"
            },
            "error_y": {
             "color": "#2a3f5f"
            },
            "marker": {
             "line": {
              "color": "#E5ECF6",
              "width": 0.5
             },
             "pattern": {
              "fillmode": "overlay",
              "size": 10,
              "solidity": 0.2
             }
            },
            "type": "bar"
           }
          ],
          "barpolar": [
           {
            "marker": {
             "line": {
              "color": "#E5ECF6",
              "width": 0.5
             },
             "pattern": {
              "fillmode": "overlay",
              "size": 10,
              "solidity": 0.2
             }
            },
            "type": "barpolar"
           }
          ],
          "carpet": [
           {
            "aaxis": {
             "endlinecolor": "#2a3f5f",
             "gridcolor": "white",
             "linecolor": "white",
             "minorgridcolor": "white",
             "startlinecolor": "#2a3f5f"
            },
            "baxis": {
             "endlinecolor": "#2a3f5f",
             "gridcolor": "white",
             "linecolor": "white",
             "minorgridcolor": "white",
             "startlinecolor": "#2a3f5f"
            },
            "type": "carpet"
           }
          ],
          "choropleth": [
           {
            "colorbar": {
             "outlinewidth": 0,
             "ticks": ""
            },
            "type": "choropleth"
           }
          ],
          "contour": [
           {
            "colorbar": {
             "outlinewidth": 0,
             "ticks": ""
            },
            "colorscale": [
             [
              0,
              "#0d0887"
             ],
             [
              0.1111111111111111,
              "#46039f"
             ],
             [
              0.2222222222222222,
              "#7201a8"
             ],
             [
              0.3333333333333333,
              "#9c179e"
             ],
             [
              0.4444444444444444,
              "#bd3786"
             ],
             [
              0.5555555555555556,
              "#d8576b"
             ],
             [
              0.6666666666666666,
              "#ed7953"
             ],
             [
              0.7777777777777778,
              "#fb9f3a"
             ],
             [
              0.8888888888888888,
              "#fdca26"
             ],
             [
              1,
              "#f0f921"
             ]
            ],
            "type": "contour"
           }
          ],
          "contourcarpet": [
           {
            "colorbar": {
             "outlinewidth": 0,
             "ticks": ""
            },
            "type": "contourcarpet"
           }
          ],
          "heatmap": [
           {
            "colorbar": {
             "outlinewidth": 0,
             "ticks": ""
            },
            "colorscale": [
             [
              0,
              "#0d0887"
             ],
             [
              0.1111111111111111,
              "#46039f"
             ],
             [
              0.2222222222222222,
              "#7201a8"
             ],
             [
              0.3333333333333333,
              "#9c179e"
             ],
             [
              0.4444444444444444,
              "#bd3786"
             ],
             [
              0.5555555555555556,
              "#d8576b"
             ],
             [
              0.6666666666666666,
              "#ed7953"
             ],
             [
              0.7777777777777778,
              "#fb9f3a"
             ],
             [
              0.8888888888888888,
              "#fdca26"
             ],
             [
              1,
              "#f0f921"
             ]
            ],
            "type": "heatmap"
           }
          ],
          "heatmapgl": [
           {
            "colorbar": {
             "outlinewidth": 0,
             "ticks": ""
            },
            "colorscale": [
             [
              0,
              "#0d0887"
             ],
             [
              0.1111111111111111,
              "#46039f"
             ],
             [
              0.2222222222222222,
              "#7201a8"
             ],
             [
              0.3333333333333333,
              "#9c179e"
             ],
             [
              0.4444444444444444,
              "#bd3786"
             ],
             [
              0.5555555555555556,
              "#d8576b"
             ],
             [
              0.6666666666666666,
              "#ed7953"
             ],
             [
              0.7777777777777778,
              "#fb9f3a"
             ],
             [
              0.8888888888888888,
              "#fdca26"
             ],
             [
              1,
              "#f0f921"
             ]
            ],
            "type": "heatmapgl"
           }
          ],
          "histogram": [
           {
            "marker": {
             "pattern": {
              "fillmode": "overlay",
              "size": 10,
              "solidity": 0.2
             }
            },
            "type": "histogram"
           }
          ],
          "histogram2d": [
           {
            "colorbar": {
             "outlinewidth": 0,
             "ticks": ""
            },
            "colorscale": [
             [
              0,
              "#0d0887"
             ],
             [
              0.1111111111111111,
              "#46039f"
             ],
             [
              0.2222222222222222,
              "#7201a8"
             ],
             [
              0.3333333333333333,
              "#9c179e"
             ],
             [
              0.4444444444444444,
              "#bd3786"
             ],
             [
              0.5555555555555556,
              "#d8576b"
             ],
             [
              0.6666666666666666,
              "#ed7953"
             ],
             [
              0.7777777777777778,
              "#fb9f3a"
             ],
             [
              0.8888888888888888,
              "#fdca26"
             ],
             [
              1,
              "#f0f921"
             ]
            ],
            "type": "histogram2d"
           }
          ],
          "histogram2dcontour": [
           {
            "colorbar": {
             "outlinewidth": 0,
             "ticks": ""
            },
            "colorscale": [
             [
              0,
              "#0d0887"
             ],
             [
              0.1111111111111111,
              "#46039f"
             ],
             [
              0.2222222222222222,
              "#7201a8"
             ],
             [
              0.3333333333333333,
              "#9c179e"
             ],
             [
              0.4444444444444444,
              "#bd3786"
             ],
             [
              0.5555555555555556,
              "#d8576b"
             ],
             [
              0.6666666666666666,
              "#ed7953"
             ],
             [
              0.7777777777777778,
              "#fb9f3a"
             ],
             [
              0.8888888888888888,
              "#fdca26"
             ],
             [
              1,
              "#f0f921"
             ]
            ],
            "type": "histogram2dcontour"
           }
          ],
          "mesh3d": [
           {
            "colorbar": {
             "outlinewidth": 0,
             "ticks": ""
            },
            "type": "mesh3d"
           }
          ],
          "parcoords": [
           {
            "line": {
             "colorbar": {
              "outlinewidth": 0,
              "ticks": ""
             }
            },
            "type": "parcoords"
           }
          ],
          "pie": [
           {
            "automargin": true,
            "type": "pie"
           }
          ],
          "scatter": [
           {
            "fillpattern": {
             "fillmode": "overlay",
             "size": 10,
             "solidity": 0.2
            },
            "type": "scatter"
           }
          ],
          "scatter3d": [
           {
            "line": {
             "colorbar": {
              "outlinewidth": 0,
              "ticks": ""
             }
            },
            "marker": {
             "colorbar": {
              "outlinewidth": 0,
              "ticks": ""
             }
            },
            "type": "scatter3d"
           }
          ],
          "scattercarpet": [
           {
            "marker": {
             "colorbar": {
              "outlinewidth": 0,
              "ticks": ""
             }
            },
            "type": "scattercarpet"
           }
          ],
          "scattergeo": [
           {
            "marker": {
             "colorbar": {
              "outlinewidth": 0,
              "ticks": ""
             }
            },
            "type": "scattergeo"
           }
          ],
          "scattergl": [
           {
            "marker": {
             "colorbar": {
              "outlinewidth": 0,
              "ticks": ""
             }
            },
            "type": "scattergl"
           }
          ],
          "scattermapbox": [
           {
            "marker": {
             "colorbar": {
              "outlinewidth": 0,
              "ticks": ""
             }
            },
            "type": "scattermapbox"
           }
          ],
          "scatterpolar": [
           {
            "marker": {
             "colorbar": {
              "outlinewidth": 0,
              "ticks": ""
             }
            },
            "type": "scatterpolar"
           }
          ],
          "scatterpolargl": [
           {
            "marker": {
             "colorbar": {
              "outlinewidth": 0,
              "ticks": ""
             }
            },
            "type": "scatterpolargl"
           }
          ],
          "scatterternary": [
           {
            "marker": {
             "colorbar": {
              "outlinewidth": 0,
              "ticks": ""
             }
            },
            "type": "scatterternary"
           }
          ],
          "surface": [
           {
            "colorbar": {
             "outlinewidth": 0,
             "ticks": ""
            },
            "colorscale": [
             [
              0,
              "#0d0887"
             ],
             [
              0.1111111111111111,
              "#46039f"
             ],
             [
              0.2222222222222222,
              "#7201a8"
             ],
             [
              0.3333333333333333,
              "#9c179e"
             ],
             [
              0.4444444444444444,
              "#bd3786"
             ],
             [
              0.5555555555555556,
              "#d8576b"
             ],
             [
              0.6666666666666666,
              "#ed7953"
             ],
             [
              0.7777777777777778,
              "#fb9f3a"
             ],
             [
              0.8888888888888888,
              "#fdca26"
             ],
             [
              1,
              "#f0f921"
             ]
            ],
            "type": "surface"
           }
          ],
          "table": [
           {
            "cells": {
             "fill": {
              "color": "#EBF0F8"
             },
             "line": {
              "color": "white"
             }
            },
            "header": {
             "fill": {
              "color": "#C8D4E3"
             },
             "line": {
              "color": "white"
             }
            },
            "type": "table"
           }
          ]
         },
         "layout": {
          "annotationdefaults": {
           "arrowcolor": "#2a3f5f",
           "arrowhead": 0,
           "arrowwidth": 1
          },
          "autotypenumbers": "strict",
          "coloraxis": {
           "colorbar": {
            "outlinewidth": 0,
            "ticks": ""
           }
          },
          "colorscale": {
           "diverging": [
            [
             0,
             "#8e0152"
            ],
            [
             0.1,
             "#c51b7d"
            ],
            [
             0.2,
             "#de77ae"
            ],
            [
             0.3,
             "#f1b6da"
            ],
            [
             0.4,
             "#fde0ef"
            ],
            [
             0.5,
             "#f7f7f7"
            ],
            [
             0.6,
             "#e6f5d0"
            ],
            [
             0.7,
             "#b8e186"
            ],
            [
             0.8,
             "#7fbc41"
            ],
            [
             0.9,
             "#4d9221"
            ],
            [
             1,
             "#276419"
            ]
           ],
           "sequential": [
            [
             0,
             "#0d0887"
            ],
            [
             0.1111111111111111,
             "#46039f"
            ],
            [
             0.2222222222222222,
             "#7201a8"
            ],
            [
             0.3333333333333333,
             "#9c179e"
            ],
            [
             0.4444444444444444,
             "#bd3786"
            ],
            [
             0.5555555555555556,
             "#d8576b"
            ],
            [
             0.6666666666666666,
             "#ed7953"
            ],
            [
             0.7777777777777778,
             "#fb9f3a"
            ],
            [
             0.8888888888888888,
             "#fdca26"
            ],
            [
             1,
             "#f0f921"
            ]
           ],
           "sequentialminus": [
            [
             0,
             "#0d0887"
            ],
            [
             0.1111111111111111,
             "#46039f"
            ],
            [
             0.2222222222222222,
             "#7201a8"
            ],
            [
             0.3333333333333333,
             "#9c179e"
            ],
            [
             0.4444444444444444,
             "#bd3786"
            ],
            [
             0.5555555555555556,
             "#d8576b"
            ],
            [
             0.6666666666666666,
             "#ed7953"
            ],
            [
             0.7777777777777778,
             "#fb9f3a"
            ],
            [
             0.8888888888888888,
             "#fdca26"
            ],
            [
             1,
             "#f0f921"
            ]
           ]
          },
          "colorway": [
           "#636efa",
           "#EF553B",
           "#00cc96",
           "#ab63fa",
           "#FFA15A",
           "#19d3f3",
           "#FF6692",
           "#B6E880",
           "#FF97FF",
           "#FECB52"
          ],
          "font": {
           "color": "#2a3f5f"
          },
          "geo": {
           "bgcolor": "white",
           "lakecolor": "white",
           "landcolor": "#E5ECF6",
           "showlakes": true,
           "showland": true,
           "subunitcolor": "white"
          },
          "hoverlabel": {
           "align": "left"
          },
          "hovermode": "closest",
          "mapbox": {
           "style": "light"
          },
          "paper_bgcolor": "white",
          "plot_bgcolor": "#E5ECF6",
          "polar": {
           "angularaxis": {
            "gridcolor": "white",
            "linecolor": "white",
            "ticks": ""
           },
           "bgcolor": "#E5ECF6",
           "radialaxis": {
            "gridcolor": "white",
            "linecolor": "white",
            "ticks": ""
           }
          },
          "scene": {
           "xaxis": {
            "backgroundcolor": "#E5ECF6",
            "gridcolor": "white",
            "gridwidth": 2,
            "linecolor": "white",
            "showbackground": true,
            "ticks": "",
            "zerolinecolor": "white"
           },
           "yaxis": {
            "backgroundcolor": "#E5ECF6",
            "gridcolor": "white",
            "gridwidth": 2,
            "linecolor": "white",
            "showbackground": true,
            "ticks": "",
            "zerolinecolor": "white"
           },
           "zaxis": {
            "backgroundcolor": "#E5ECF6",
            "gridcolor": "white",
            "gridwidth": 2,
            "linecolor": "white",
            "showbackground": true,
            "ticks": "",
            "zerolinecolor": "white"
           }
          },
          "shapedefaults": {
           "line": {
            "color": "#2a3f5f"
           }
          },
          "ternary": {
           "aaxis": {
            "gridcolor": "white",
            "linecolor": "white",
            "ticks": ""
           },
           "baxis": {
            "gridcolor": "white",
            "linecolor": "white",
            "ticks": ""
           },
           "bgcolor": "#E5ECF6",
           "caxis": {
            "gridcolor": "white",
            "linecolor": "white",
            "ticks": ""
           }
          },
          "title": {
           "x": 0.05
          },
          "xaxis": {
           "automargin": true,
           "gridcolor": "white",
           "linecolor": "white",
           "ticks": "",
           "title": {
            "standoff": 15
           },
           "zerolinecolor": "white",
           "zerolinewidth": 2
          },
          "yaxis": {
           "automargin": true,
           "gridcolor": "white",
           "linecolor": "white",
           "ticks": "",
           "title": {
            "standoff": 15
           },
           "zerolinecolor": "white",
           "zerolinewidth": 2
          }
         }
        },
        "width": 1000,
        "xaxis": {
         "anchor": "y",
         "autorange": true,
         "constrain": "domain",
         "domain": [
          0.42559162621359226,
          0.5744083737864077
         ],
         "range": [
          -0.5,
          8.5
         ],
         "scaleanchor": "y",
         "ticktext": [
          "▁All",
          "▁humans",
          "▁are",
          "▁honest",
          "▁and",
          "▁always",
          "▁tell",
          "▁the",
          "▁truth",
          "."
         ],
         "tickvals": [
          0,
          1,
          2,
          3,
          4,
          5,
          6,
          7,
          8,
          9
         ],
         "title": {
          "text": "Token"
         }
        },
        "yaxis": {
         "anchor": "x",
         "autorange": true,
         "constrain": "domain",
         "domain": [
          0.002283105022831189,
          0.9977168949771689
         ],
         "range": [
          31.5,
          -0.5
         ]
        }
       }
      },
      "image/png": "[encoded data removed]",
      "text/html": [
       "<div>                            <div id=\"3ad89f20-8574-4bbf-8256-fa743c2dcdc6\" class=\"plotly-graph-div\" style=\"height:600px; width:1000px;\"></div>            <script type=\"text/javascript\">                require([\"plotly\"], function(Plotly) {                    window.PLOTLYENV=window.PLOTLYENV || {};                                    if (document.getElementById(\"3ad89f20-8574-4bbf-8256-fa743c2dcdc6\")) {                    Plotly.newPlot(                        \"3ad89f20-8574-4bbf-8256-fa743c2dcdc6\",                        [{\"coloraxis\":\"coloraxis\",\"name\":\"0\",\"z\":[[-0.00797271728515625,-0.0012912750244140625,-0.01629638671875,0.0120086669921875,-0.0026264190673828125,0.01494598388671875,0.01174163818359375,0.0034809112548828125,0.021820068359375],[-0.01255035400390625,-0.0117950439453125,-0.0209197998046875,0.00015735626220703125,-0.004955291748046875,0.0213775634765625,0.0190887451171875,0.026275634765625,0.032196044921875],[0.0224456787109375,0.005931854248046875,0.005924224853515625,0.00555419921875,0.029571533203125,0.053314208984375,0.056182861328125,0.07830810546875,0.048736572265625],[0.08538818359375,0.017578125,0.01416778564453125,0.036407470703125,0.0190582275390625,0.050750732421875,0.026702880859375,0.056854248046875,-0.040557861328125],[0.021881103515625,-0.0132904052734375,0.01337432861328125,0.034637451171875,0.005889892578125,0.02191162109375,0.051544189453125,0.07171630859375,0.023834228515625],[-0.1796875,-0.062408447265625,-0.09197998046875,0.1002197265625,0.06451416015625,0.0322265625,-0.002033233642578125,0.0401611328125,-0.08453369140625],[-0.08306884765625,-0.046844482421875,-0.09075927734375,0.14990234375,0.055938720703125,0.0755615234375,0.0738525390625,0.1309814453125,0.02813720703125],[-0.034759521484375,0.00714874267578125,-0.06353759765625,0.176025390625,0.0760498046875,0.10113525390625,0.07635498046875,0.149658203125,0.02099609375],[0.0325927734375,0.1429443359375,-0.004161834716796875,0.07000732421875,-0.0016651153564453125,0.0609130859375,-0.011505126953125,0.0618896484375,-0.07464599609375],[-0.32470703125,-0.0022182464599609375,-0.49462890625,-0.030792236328125,-0.420654296875,-0.06646728515625,0.031829833984375,0.0738525390625,-0.0968017578125],[-0.490966796875,-0.10009765625,-0.623046875,-0.228759765625,-0.740234375,-0.18310546875,-0.0269317626953125,0.028076171875,-0.329345703125],[-0.701171875,-0.1419677734375,-0.6669921875,-0.29248046875,-0.765625,-0.4404296875,-0.27490234375,-0.1800537109375,-0.473876953125],[-1.0166015625,-0.1473388671875,-0.77587890625,-0.3935546875,-0.7724609375,-0.445556640625,-0.35205078125,-0.22021484375,-0.53955078125],[-1.0849609375,-0.60009765625,-0.98974609375,-0.767578125,-0.9404296875,-0.57568359375,-0.5498046875,-0.364990234375,-0.6708984375],[-1.2939453125,-1.052734375,-1.38671875,-0.80908203125,-1.0302734375,-0.71044921875,-0.697265625,-0.59130859375,-0.68359375],[-1.2744140625,-1.0673828125,-1.3857421875,-0.5068359375,-0.89599609375,-0.48974609375,-0.44580078125,-0.46337890625,-0.53076171875],[-1.099609375,-1.0048828125,-1.19140625,-0.441162109375,-0.552734375,0.003875732421875,0.0643310546875,0.10711669921875,-0.496337890625],[-1.9189453125,-2.0390625,-2.142578125,-1.3427734375,-1.552734375,-0.9560546875,-0.71484375,-0.615234375,-1.330078125],[-1.8642578125,-2.01953125,-2.0390625,-1.0673828125,-1.396484375,-0.83203125,-0.70751953125,-0.63525390625,-1.1337890625],[-1.4521484375,-1.5009765625,-1.5654296875,-0.254638671875,-0.75244140625,0.006565093994140625,0.12286376953125,0.1976318359375,-0.412841796875],[-2.259765625,-2.08203125,-2.109375,-0.70068359375,-1.474609375,-0.7109375,-0.7041015625,-0.460693359375,-0.9267578125],[-2.96484375,-2.904296875,-2.974609375,-1.4951171875,-2.1875,-1.232421875,-1.4208984375,-1.1728515625,-1.66015625],[-3.47265625,-3.158203125,-3.640625,-1.6025390625,-2.251953125,-1.09375,-1.4853515625,-1.21875,-1.64453125],[-3.044921875,-2.486328125,-2.875,-1.068359375,-1.5263671875,-0.1331787109375,-0.66259765625,-0.66162109375,-1.0673828125],[-4.3828125,-3.50390625,-3.83203125,-2.060546875,-2.720703125,-1.1748046875,-1.853515625,-1.8671875,-2.123046875],[-3.7265625,-2.79296875,-3.228515625,-1.396484375,-1.9658203125,-0.5908203125,-1.7138671875,-1.6865234375,-1.51953125],[-4.46484375,-3.53125,-4.0078125,-2.0625,-2.72265625,-1.1015625,-2.263671875,-2.560546875,-2.365234375],[-5.8515625,-4.71875,-5.4296875,-3.142578125,-4.03125,-2.46875,-3.673828125,-4.359375,-4.11328125],[-4.1171875,-2.7421875,-3.78515625,-1.4853515625,-2.59375,-0.7587890625,-2.126953125,-2.8359375,-2.53515625],[-5.76171875,-4.23046875,-5.43359375,-3.1796875,-4.15625,-2.283203125,-4.18359375,-4.90234375,-4.55859375],[-4.38671875,-1.8193359375,-2.36328125,-0.88037109375,-1.77734375,-0.207275390625,-2.3828125,-3.61328125,-2.703125],[-55.65625,-26.4375,-38.75,-23.53125,-30.25,-12.4375,-29.046875,-32.28125,-30.0]],\"type\":\"heatmap\",\"xaxis\":\"x\",\"yaxis\":\"y\",\"hovertemplate\":\"Token: %{x}\\u003cbr\\u003ey: %{y}\\u003cbr\\u003ecolor: %{z}\\u003cextra\\u003e\\u003c\\u002fextra\\u003e\"}],                        {\"template\":{\"data\":{\"histogram2dcontour\":[{\"type\":\"histogram2dcontour\",\"colorbar\":{\"outlinewidth\":0,\"ticks\":\"\"},\"colorscale\":[[0.0,\"#0d0887\"],[0.1111111111111111,\"#46039f\"],[0.2222222222222222,\"#7201a8\"],[0.3333333333333333,\"#9c179e\"],[0.4444444444444444,\"#bd3786\"],[0.5555555555555556,\"#d8576b\"],[0.6666666666666666,\"#ed7953\"],[0.7777777777777778,\"#fb9f3a\"],[0.8888888888888888,\"#fdca26\"],[1.0,\"#f0f921\"]]}],\"choropleth\":[{\"type\":\"choropleth\",\"colorbar\":{\"outlinewidth\":0,\"ticks\":\"\"}}],\"histogram2d\":[{\"type\":\"histogram2d\",\"colorbar\":{\"outlinewidth\":0,\"ticks\":\"\"},\"colorscale\":[[0.0,\"#0d0887\"],[0.1111111111111111,\"#46039f\"],[0.2222222222222222,\"#7201a8\"],[0.3333333333333333,\"#9c179e\"],[0.4444444444444444,\"#bd3786\"],[0.5555555555555556,\"#d8576b\"],[0.6666666666666666,\"#ed7953\"],[0.7777777777777778,\"#fb9f3a\"],[0.8888888888888888,\"#fdca26\"],[1.0,\"#f0f921\"]]}],\"heatmap\":[{\"type\":\"heatmap\",\"colorbar\":{\"outlinewidth\":0,\"ticks\":\"\"},\"colorscale\":[[0.0,\"#0d0887\"],[0.1111111111111111,\"#46039f\"],[0.2222222222222222,\"#7201a8\"],[0.3333333333333333,\"#9c179e\"],[0.4444444444444444,\"#bd3786\"],[0.5555555555555556,\"#d8576b\"],[0.6666666666666666,\"#ed7953\"],[0.7777777777777778,\"#fb9f3a\"],[0.8888888888888888,\"#fdca26\"],[1.0,\"#f0f921\"]]}],\"heatmapgl\":[{\"type\":\"heatmapgl\",\"colorbar\":{\"outlinewidth\":0,\"ticks\":\"\"},\"colorscale\":[[0.0,\"#0d0887\"],[0.1111111111111111,\"#46039f\"],[0.2222222222222222,\"#7201a8\"],[0.3333333333333333,\"#9c179e\"],[0.4444444444444444,\"#bd3786\"],[0.5555555555555556,\"#d8576b\"],[0.6666666666666666,\"#ed7953\"],[0.7777777777777778,\"#fb9f3a\"],[0.8888888888888888,\"#fdca26\"],[1.0,\"#f0f921\"]]}],\"contourcarpet\":[{\"type\":\"contourcarpet\",\"colorbar\":{\"outlinewidth\":0,\"ticks\":\"\"}}],\"contour\":[{\"type\":\"contour\",\"colorbar\":{\"outlinewidth\":0,\"ticks\":\"\"},\"colorscale\":[[0.0,\"#0d0887\"],[0.1111111111111111,\"#46039f\"],[0.2222222222222222,\"#7201a8\"],[0.3333333333333333,\"#9c179e\"],[0.4444444444444444,\"#bd3786\"],[0.5555555555555556,\"#d8576b\"],[0.6666666666666666,\"#ed7953\"],[0.7777777777777778,\"#fb9f3a\"],[0.8888888888888888,\"#fdca26\"],[1.0,\"#f0f921\"]]}],\"surface\":[{\"type\":\"surface\",\"colorbar\":{\"outlinewidth\":0,\"ticks\":\"\"},\"colorscale\":[[0.0,\"#0d0887\"],[0.1111111111111111,\"#46039f\"],[0.2222222222222222,\"#7201a8\"],[0.3333333333333333,\"#9c179e\"],[0.4444444444444444,\"#bd3786\"],[0.5555555555555556,\"#d8576b\"],[0.6666666666666666,\"#ed7953\"],[0.7777777777777778,\"#fb9f3a\"],[0.8888888888888888,\"#fdca26\"],[1.0,\"#f0f921\"]]}],\"mesh3d\":[{\"type\":\"mesh3d\",\"colorbar\":{\"outlinewidth\":0,\"ticks\":\"\"}}],\"scatter\":[{\"fillpattern\":{\"fillmode\":\"overlay\",\"size\":10,\"solidity\":0.2},\"type\":\"scatter\"}],\"parcoords\":[{\"type\":\"parcoords\",\"line\":{\"colorbar\":{\"outlinewidth\":0,\"ticks\":\"\"}}}],\"scatterpolargl\":[{\"type\":\"scatterpolargl\",\"marker\":{\"colorbar\":{\"outlinewidth\":0,\"ticks\":\"\"}}}],\"bar\":[{\"error_x\":{\"color\":\"#2a3f5f\"},\"error_y\":{\"color\":\"#2a3f5f\"},\"marker\":{\"line\":{\"color\":\"#E5ECF6\",\"width\":0.5},\"pattern\":{\"fillmode\":\"overlay\",\"size\":10,\"solidity\":0.2}},\"type\":\"bar\"}],\"scattergeo\":[{\"type\":\"scattergeo\",\"marker\":{\"colorbar\":{\"outlinewidth\":0,\"ticks\":\"\"}}}],\"scatterpolar\":[{\"type\":\"scatterpolar\",\"marker\":{\"colorbar\":{\"outlinewidth\":0,\"ticks\":\"\"}}}],\"histogram\":[{\"marker\":{\"pattern\":{\"fillmode\":\"overlay\",\"size\":10,\"solidity\":0.2}},\"type\":\"histogram\"}],\"scattergl\":[{\"type\":\"scattergl\",\"marker\":{\"colorbar\":{\"outlinewidth\":0,\"ticks\":\"\"}}}],\"scatter3d\":[{\"type\":\"scatter3d\",\"line\":{\"colorbar\":{\"outlinewidth\":0,\"ticks\":\"\"}},\"marker\":{\"colorbar\":{\"outlinewidth\":0,\"ticks\":\"\"}}}],\"scattermapbox\":[{\"type\":\"scattermapbox\",\"marker\":{\"colorbar\":{\"outlinewidth\":0,\"ticks\":\"\"}}}],\"scatterternary\":[{\"type\":\"scatterternary\",\"marker\":{\"colorbar\":{\"outlinewidth\":0,\"ticks\":\"\"}}}],\"scattercarpet\":[{\"type\":\"scattercarpet\",\"marker\":{\"colorbar\":{\"outlinewidth\":0,\"ticks\":\"\"}}}],\"carpet\":[{\"aaxis\":{\"endlinecolor\":\"#2a3f5f\",\"gridcolor\":\"white\",\"linecolor\":\"white\",\"minorgridcolor\":\"white\",\"startlinecolor\":\"#2a3f5f\"},\"baxis\":{\"endlinecolor\":\"#2a3f5f\",\"gridcolor\":\"white\",\"linecolor\":\"white\",\"minorgridcolor\":\"white\",\"startlinecolor\":\"#2a3f5f\"},\"type\":\"carpet\"}],\"table\":[{\"cells\":{\"fill\":{\"color\":\"#EBF0F8\"},\"line\":{\"color\":\"white\"}},\"header\":{\"fill\":{\"color\":\"#C8D4E3\"},\"line\":{\"color\":\"white\"}},\"type\":\"table\"}],\"barpolar\":[{\"marker\":{\"line\":{\"color\":\"#E5ECF6\",\"width\":0.5},\"pattern\":{\"fillmode\":\"overlay\",\"size\":10,\"solidity\":0.2}},\"type\":\"barpolar\"}],\"pie\":[{\"automargin\":true,\"type\":\"pie\"}]},\"layout\":{\"autotypenumbers\":\"strict\",\"colorway\":[\"#636efa\",\"#EF553B\",\"#00cc96\",\"#ab63fa\",\"#FFA15A\",\"#19d3f3\",\"#FF6692\",\"#B6E880\",\"#FF97FF\",\"#FECB52\"],\"font\":{\"color\":\"#2a3f5f\"},\"hovermode\":\"closest\",\"hoverlabel\":{\"align\":\"left\"},\"paper_bgcolor\":\"white\",\"plot_bgcolor\":\"#E5ECF6\",\"polar\":{\"bgcolor\":\"#E5ECF6\",\"angularaxis\":{\"gridcolor\":\"white\",\"linecolor\":\"white\",\"ticks\":\"\"},\"radialaxis\":{\"gridcolor\":\"white\",\"linecolor\":\"white\",\"ticks\":\"\"}},\"ternary\":{\"bgcolor\":\"#E5ECF6\",\"aaxis\":{\"gridcolor\":\"white\",\"linecolor\":\"white\",\"ticks\":\"\"},\"baxis\":{\"gridcolor\":\"white\",\"linecolor\":\"white\",\"ticks\":\"\"},\"caxis\":{\"gridcolor\":\"white\",\"linecolor\":\"white\",\"ticks\":\"\"}},\"coloraxis\":{\"colorbar\":{\"outlinewidth\":0,\"ticks\":\"\"}},\"colorscale\":{\"sequential\":[[0.0,\"#0d0887\"],[0.1111111111111111,\"#46039f\"],[0.2222222222222222,\"#7201a8\"],[0.3333333333333333,\"#9c179e\"],[0.4444444444444444,\"#bd3786\"],[0.5555555555555556,\"#d8576b\"],[0.6666666666666666,\"#ed7953\"],[0.7777777777777778,\"#fb9f3a\"],[0.8888888888888888,\"#fdca26\"],[1.0,\"#f0f921\"]],\"sequentialminus\":[[0.0,\"#0d0887\"],[0.1111111111111111,\"#46039f\"],[0.2222222222222222,\"#7201a8\"],[0.3333333333333333,\"#9c179e\"],[0.4444444444444444,\"#bd3786\"],[0.5555555555555556,\"#d8576b\"],[0.6666666666666666,\"#ed7953\"],[0.7777777777777778,\"#fb9f3a\"],[0.8888888888888888,\"#fdca26\"],[1.0,\"#f0f921\"]],\"diverging\":[[0,\"#8e0152\"],[0.1,\"#c51b7d\"],[0.2,\"#de77ae\"],[0.3,\"#f1b6da\"],[0.4,\"#fde0ef\"],[0.5,\"#f7f7f7\"],[0.6,\"#e6f5d0\"],[0.7,\"#b8e186\"],[0.8,\"#7fbc41\"],[0.9,\"#4d9221\"],[1,\"#276419\"]]},\"xaxis\":{\"gridcolor\":\"white\",\"linecolor\":\"white\",\"ticks\":\"\",\"title\":{\"standoff\":15},\"zerolinecolor\":\"white\",\"automargin\":true,\"zerolinewidth\":2},\"yaxis\":{\"gridcolor\":\"white\",\"linecolor\":\"white\",\"ticks\":\"\",\"title\":{\"standoff\":15},\"zerolinecolor\":\"white\",\"automargin\":true,\"zerolinewidth\":2},\"scene\":{\"xaxis\":{\"backgroundcolor\":\"#E5ECF6\",\"gridcolor\":\"white\",\"linecolor\":\"white\",\"showbackground\":true,\"ticks\":\"\",\"zerolinecolor\":\"white\",\"gridwidth\":2},\"yaxis\":{\"backgroundcolor\":\"#E5ECF6\",\"gridcolor\":\"white\",\"linecolor\":\"white\",\"showbackground\":true,\"ticks\":\"\",\"zerolinecolor\":\"white\",\"gridwidth\":2},\"zaxis\":{\"backgroundcolor\":\"#E5ECF6\",\"gridcolor\":\"white\",\"linecolor\":\"white\",\"showbackground\":true,\"ticks\":\"\",\"zerolinecolor\":\"white\",\"gridwidth\":2}},\"shapedefaults\":{\"line\":{\"color\":\"#2a3f5f\"}},\"annotationdefaults\":{\"arrowcolor\":\"#2a3f5f\",\"arrowhead\":0,\"arrowwidth\":1},\"geo\":{\"bgcolor\":\"white\",\"landcolor\":\"#E5ECF6\",\"subunitcolor\":\"white\",\"showland\":true,\"showlakes\":true,\"lakecolor\":\"white\"},\"title\":{\"x\":0.05},\"mapbox\":{\"style\":\"light\"}}},\"xaxis\":{\"anchor\":\"y\",\"domain\":[0.0,1.0],\"scaleanchor\":\"y\",\"constrain\":\"domain\",\"title\":{\"text\":\"Token\"},\"tickvals\":[0,1,2,3,4,5,6,7,8,9],\"ticktext\":[\"\\u2581All\",\"\\u2581humans\",\"\\u2581are\",\"\\u2581honest\",\"\\u2581and\",\"\\u2581always\",\"\\u2581tell\",\"\\u2581the\",\"\\u2581truth\",\".\"]},\"yaxis\":{\"anchor\":\"x\",\"domain\":[0.0,1.0],\"autorange\":\"reversed\",\"constrain\":\"domain\"},\"coloraxis\":{\"colorscale\":[[0.0,\"rgb(165,0,38)\"],[0.1,\"rgb(215,48,39)\"],[0.2,\"rgb(244,109,67)\"],[0.3,\"rgb(253,174,97)\"],[0.4,\"rgb(254,224,139)\"],[0.5,\"rgb(255,255,191)\"],[0.6,\"rgb(217,239,139)\"],[0.7,\"rgb(166,217,106)\"],[0.8,\"rgb(102,189,99)\"],[0.9,\"rgb(26,152,80)\"],[1.0,\"rgb(0,104,55)\"]],\"cmin\":-3.6938,\"cmax\":3.6938},\"margin\":{\"t\":60},\"width\":1000,\"height\":600},                        {\"responsive\": true}                    ).then(function(){\n",
       "                            \n",
       "var gd = document.getElementById('3ad89f20-8574-4bbf-8256-fa743c2dcdc6');\n",
       "var x = new MutationObserver(function (mutations, observer) {{\n",
       "        var display = window.getComputedStyle(gd).display;\n",
       "        if (!display || display === 'none') {{\n",
       "            console.log([gd, 'removed!']);\n",
       "            Plotly.purge(gd);\n",
       "            observer.disconnect();\n",
       "        }}\n",
       "}});\n",
       "\n",
       "// Listen for the removal of the full notebook cells\n",
       "var notebookContainer = gd.closest('#notebook-container');\n",
       "if (notebookContainer) {{\n",
       "    x.observe(notebookContainer, {childList: true});\n",
       "}}\n",
       "\n",
       "// Listen for the clearing of the current output cell\n",
       "var outputEl = gd.closest('.output');\n",
       "if (outputEl) {{\n",
       "    x.observe(outputEl, {childList: true});\n",
       "}}\n",
       "\n",
       "                        })                };                });            </script>        </div>"
      ]
     },
     "metadata": {},
     "output_type": "display_data"
    }
   ],
   "source": [
    "tokens = tokenizer.tokenize(output['text'])\n",
    "doc.plot_projection_heatmap(output['projections'], tokens, lastn_tokens_to_plot=max_new_tokens, saturate_at='auto')"
   ]
  },
  {
   "cell_type": "code",
   "execution_count": 16,
   "id": "379fe7a4-3698-4594-a3d3-b8d74491c58b",
   "metadata": {
    "tags": []
   },
   "outputs": [
    {
     "data": {
      "application/vnd.plotly.v1+json": {
       "config": {
        "plotlyServerURL": "https://plot.ly"
       },
       "data": [
        {
         "coloraxis": "coloraxis",
         "hovertemplate": "Token: %{x}<br>y: %{y}<br>color: %{z}<extra></extra>",
         "name": "0",
         "type": "heatmap",
         "xaxis": "x",
         "yaxis": "y",
         "z": [
          [
           -1.515625,
           -1.2724609375,
           -1.5703125,
           -0.70947265625,
           -1.1240234375,
           -0.5517578125,
           -0.51123046875,
           -0.39404296875,
           -0.78076171875
          ]
         ]
        }
       ],
       "layout": {
        "autosize": true,
        "coloraxis": {
         "cmax": 1,
         "cmin": -1,
         "colorscale": [
          [
           0,
           "rgb(165,0,38)"
          ],
          [
           0.1,
           "rgb(215,48,39)"
          ],
          [
           0.2,
           "rgb(244,109,67)"
          ],
          [
           0.3,
           "rgb(253,174,97)"
          ],
          [
           0.4,
           "rgb(254,224,139)"
          ],
          [
           0.5,
           "rgb(255,255,191)"
          ],
          [
           0.6,
           "rgb(217,239,139)"
          ],
          [
           0.7,
           "rgb(166,217,106)"
          ],
          [
           0.8,
           "rgb(102,189,99)"
          ],
          [
           0.9,
           "rgb(26,152,80)"
          ],
          [
           1,
           "rgb(0,104,55)"
          ]
         ]
        },
        "margin": {
         "t": 60
        },
        "template": {
         "data": {
          "bar": [
           {
            "error_x": {
             "color": "#2a3f5f"
            },
            "error_y": {
             "color": "#2a3f5f"
            },
            "marker": {
             "line": {
              "color": "#E5ECF6",
              "width": 0.5
             },
             "pattern": {
              "fillmode": "overlay",
              "size": 10,
              "solidity": 0.2
             }
            },
            "type": "bar"
           }
          ],
          "barpolar": [
           {
            "marker": {
             "line": {
              "color": "#E5ECF6",
              "width": 0.5
             },
             "pattern": {
              "fillmode": "overlay",
              "size": 10,
              "solidity": 0.2
             }
            },
            "type": "barpolar"
           }
          ],
          "carpet": [
           {
            "aaxis": {
             "endlinecolor": "#2a3f5f",
             "gridcolor": "white",
             "linecolor": "white",
             "minorgridcolor": "white",
             "startlinecolor": "#2a3f5f"
            },
            "baxis": {
             "endlinecolor": "#2a3f5f",
             "gridcolor": "white",
             "linecolor": "white",
             "minorgridcolor": "white",
             "startlinecolor": "#2a3f5f"
            },
            "type": "carpet"
           }
          ],
          "choropleth": [
           {
            "colorbar": {
             "outlinewidth": 0,
             "ticks": ""
            },
            "type": "choropleth"
           }
          ],
          "contour": [
           {
            "colorbar": {
             "outlinewidth": 0,
             "ticks": ""
            },
            "colorscale": [
             [
              0,
              "#0d0887"
             ],
             [
              0.1111111111111111,
              "#46039f"
             ],
             [
              0.2222222222222222,
              "#7201a8"
             ],
             [
              0.3333333333333333,
              "#9c179e"
             ],
             [
              0.4444444444444444,
              "#bd3786"
             ],
             [
              0.5555555555555556,
              "#d8576b"
             ],
             [
              0.6666666666666666,
              "#ed7953"
             ],
             [
              0.7777777777777778,
              "#fb9f3a"
             ],
             [
              0.8888888888888888,
              "#fdca26"
             ],
             [
              1,
              "#f0f921"
             ]
            ],
            "type": "contour"
           }
          ],
          "contourcarpet": [
           {
            "colorbar": {
             "outlinewidth": 0,
             "ticks": ""
            },
            "type": "contourcarpet"
           }
          ],
          "heatmap": [
           {
            "colorbar": {
             "outlinewidth": 0,
             "ticks": ""
            },
            "colorscale": [
             [
              0,
              "#0d0887"
             ],
             [
              0.1111111111111111,
              "#46039f"
             ],
             [
              0.2222222222222222,
              "#7201a8"
             ],
             [
              0.3333333333333333,
              "#9c179e"
             ],
             [
              0.4444444444444444,
              "#bd3786"
             ],
             [
              0.5555555555555556,
              "#d8576b"
             ],
             [
              0.6666666666666666,
              "#ed7953"
             ],
             [
              0.7777777777777778,
              "#fb9f3a"
             ],
             [
              0.8888888888888888,
              "#fdca26"
             ],
             [
              1,
              "#f0f921"
             ]
            ],
            "type": "heatmap"
           }
          ],
          "heatmapgl": [
           {
            "colorbar": {
             "outlinewidth": 0,
             "ticks": ""
            },
            "colorscale": [
             [
              0,
              "#0d0887"
             ],
             [
              0.1111111111111111,
              "#46039f"
             ],
             [
              0.2222222222222222,
              "#7201a8"
             ],
             [
              0.3333333333333333,
              "#9c179e"
             ],
             [
              0.4444444444444444,
              "#bd3786"
             ],
             [
              0.5555555555555556,
              "#d8576b"
             ],
             [
              0.6666666666666666,
              "#ed7953"
             ],
             [
              0.7777777777777778,
              "#fb9f3a"
             ],
             [
              0.8888888888888888,
              "#fdca26"
             ],
             [
              1,
              "#f0f921"
             ]
            ],
            "type": "heatmapgl"
           }
          ],
          "histogram": [
           {
            "marker": {
             "pattern": {
              "fillmode": "overlay",
              "size": 10,
              "solidity": 0.2
             }
            },
            "type": "histogram"
           }
          ],
          "histogram2d": [
           {
            "colorbar": {
             "outlinewidth": 0,
             "ticks": ""
            },
            "colorscale": [
             [
              0,
              "#0d0887"
             ],
             [
              0.1111111111111111,
              "#46039f"
             ],
             [
              0.2222222222222222,
              "#7201a8"
             ],
             [
              0.3333333333333333,
              "#9c179e"
             ],
             [
              0.4444444444444444,
              "#bd3786"
             ],
             [
              0.5555555555555556,
              "#d8576b"
             ],
             [
              0.6666666666666666,
              "#ed7953"
             ],
             [
              0.7777777777777778,
              "#fb9f3a"
             ],
             [
              0.8888888888888888,
              "#fdca26"
             ],
             [
              1,
              "#f0f921"
             ]
            ],
            "type": "histogram2d"
           }
          ],
          "histogram2dcontour": [
           {
            "colorbar": {
             "outlinewidth": 0,
             "ticks": ""
            },
            "colorscale": [
             [
              0,
              "#0d0887"
             ],
             [
              0.1111111111111111,
              "#46039f"
             ],
             [
              0.2222222222222222,
              "#7201a8"
             ],
             [
              0.3333333333333333,
              "#9c179e"
             ],
             [
              0.4444444444444444,
              "#bd3786"
             ],
             [
              0.5555555555555556,
              "#d8576b"
             ],
             [
              0.6666666666666666,
              "#ed7953"
             ],
             [
              0.7777777777777778,
              "#fb9f3a"
             ],
             [
              0.8888888888888888,
              "#fdca26"
             ],
             [
              1,
              "#f0f921"
             ]
            ],
            "type": "histogram2dcontour"
           }
          ],
          "mesh3d": [
           {
            "colorbar": {
             "outlinewidth": 0,
             "ticks": ""
            },
            "type": "mesh3d"
           }
          ],
          "parcoords": [
           {
            "line": {
             "colorbar": {
              "outlinewidth": 0,
              "ticks": ""
             }
            },
            "type": "parcoords"
           }
          ],
          "pie": [
           {
            "automargin": true,
            "type": "pie"
           }
          ],
          "scatter": [
           {
            "fillpattern": {
             "fillmode": "overlay",
             "size": 10,
             "solidity": 0.2
            },
            "type": "scatter"
           }
          ],
          "scatter3d": [
           {
            "line": {
             "colorbar": {
              "outlinewidth": 0,
              "ticks": ""
             }
            },
            "marker": {
             "colorbar": {
              "outlinewidth": 0,
              "ticks": ""
             }
            },
            "type": "scatter3d"
           }
          ],
          "scattercarpet": [
           {
            "marker": {
             "colorbar": {
              "outlinewidth": 0,
              "ticks": ""
             }
            },
            "type": "scattercarpet"
           }
          ],
          "scattergeo": [
           {
            "marker": {
             "colorbar": {
              "outlinewidth": 0,
              "ticks": ""
             }
            },
            "type": "scattergeo"
           }
          ],
          "scattergl": [
           {
            "marker": {
             "colorbar": {
              "outlinewidth": 0,
              "ticks": ""
             }
            },
            "type": "scattergl"
           }
          ],
          "scattermapbox": [
           {
            "marker": {
             "colorbar": {
              "outlinewidth": 0,
              "ticks": ""
             }
            },
            "type": "scattermapbox"
           }
          ],
          "scatterpolar": [
           {
            "marker": {
             "colorbar": {
              "outlinewidth": 0,
              "ticks": ""
             }
            },
            "type": "scatterpolar"
           }
          ],
          "scatterpolargl": [
           {
            "marker": {
             "colorbar": {
              "outlinewidth": 0,
              "ticks": ""
             }
            },
            "type": "scatterpolargl"
           }
          ],
          "scatterternary": [
           {
            "marker": {
             "colorbar": {
              "outlinewidth": 0,
              "ticks": ""
             }
            },
            "type": "scatterternary"
           }
          ],
          "surface": [
           {
            "colorbar": {
             "outlinewidth": 0,
             "ticks": ""
            },
            "colorscale": [
             [
              0,
              "#0d0887"
             ],
             [
              0.1111111111111111,
              "#46039f"
             ],
             [
              0.2222222222222222,
              "#7201a8"
             ],
             [
              0.3333333333333333,
              "#9c179e"
             ],
             [
              0.4444444444444444,
              "#bd3786"
             ],
             [
              0.5555555555555556,
              "#d8576b"
             ],
             [
              0.6666666666666666,
              "#ed7953"
             ],
             [
              0.7777777777777778,
              "#fb9f3a"
             ],
             [
              0.8888888888888888,
              "#fdca26"
             ],
             [
              1,
              "#f0f921"
             ]
            ],
            "type": "surface"
           }
          ],
          "table": [
           {
            "cells": {
             "fill": {
              "color": "#EBF0F8"
             },
             "line": {
              "color": "white"
             }
            },
            "header": {
             "fill": {
              "color": "#C8D4E3"
             },
             "line": {
              "color": "white"
             }
            },
            "type": "table"
           }
          ]
         },
         "layout": {
          "annotationdefaults": {
           "arrowcolor": "#2a3f5f",
           "arrowhead": 0,
           "arrowwidth": 1
          },
          "autotypenumbers": "strict",
          "coloraxis": {
           "colorbar": {
            "outlinewidth": 0,
            "ticks": ""
           }
          },
          "colorscale": {
           "diverging": [
            [
             0,
             "#8e0152"
            ],
            [
             0.1,
             "#c51b7d"
            ],
            [
             0.2,
             "#de77ae"
            ],
            [
             0.3,
             "#f1b6da"
            ],
            [
             0.4,
             "#fde0ef"
            ],
            [
             0.5,
             "#f7f7f7"
            ],
            [
             0.6,
             "#e6f5d0"
            ],
            [
             0.7,
             "#b8e186"
            ],
            [
             0.8,
             "#7fbc41"
            ],
            [
             0.9,
             "#4d9221"
            ],
            [
             1,
             "#276419"
            ]
           ],
           "sequential": [
            [
             0,
             "#0d0887"
            ],
            [
             0.1111111111111111,
             "#46039f"
            ],
            [
             0.2222222222222222,
             "#7201a8"
            ],
            [
             0.3333333333333333,
             "#9c179e"
            ],
            [
             0.4444444444444444,
             "#bd3786"
            ],
            [
             0.5555555555555556,
             "#d8576b"
            ],
            [
             0.6666666666666666,
             "#ed7953"
            ],
            [
             0.7777777777777778,
             "#fb9f3a"
            ],
            [
             0.8888888888888888,
             "#fdca26"
            ],
            [
             1,
             "#f0f921"
            ]
           ],
           "sequentialminus": [
            [
             0,
             "#0d0887"
            ],
            [
             0.1111111111111111,
             "#46039f"
            ],
            [
             0.2222222222222222,
             "#7201a8"
            ],
            [
             0.3333333333333333,
             "#9c179e"
            ],
            [
             0.4444444444444444,
             "#bd3786"
            ],
            [
             0.5555555555555556,
             "#d8576b"
            ],
            [
             0.6666666666666666,
             "#ed7953"
            ],
            [
             0.7777777777777778,
             "#fb9f3a"
            ],
            [
             0.8888888888888888,
             "#fdca26"
            ],
            [
             1,
             "#f0f921"
            ]
           ]
          },
          "colorway": [
           "#636efa",
           "#EF553B",
           "#00cc96",
           "#ab63fa",
           "#FFA15A",
           "#19d3f3",
           "#FF6692",
           "#B6E880",
           "#FF97FF",
           "#FECB52"
          ],
          "font": {
           "color": "#2a3f5f"
          },
          "geo": {
           "bgcolor": "white",
           "lakecolor": "white",
           "landcolor": "#E5ECF6",
           "showlakes": true,
           "showland": true,
           "subunitcolor": "white"
          },
          "hoverlabel": {
           "align": "left"
          },
          "hovermode": "closest",
          "mapbox": {
           "style": "light"
          },
          "paper_bgcolor": "white",
          "plot_bgcolor": "#E5ECF6",
          "polar": {
           "angularaxis": {
            "gridcolor": "white",
            "linecolor": "white",
            "ticks": ""
           },
           "bgcolor": "#E5ECF6",
           "radialaxis": {
            "gridcolor": "white",
            "linecolor": "white",
            "ticks": ""
           }
          },
          "scene": {
           "xaxis": {
            "backgroundcolor": "#E5ECF6",
            "gridcolor": "white",
            "gridwidth": 2,
            "linecolor": "white",
            "showbackground": true,
            "ticks": "",
            "zerolinecolor": "white"
           },
           "yaxis": {
            "backgroundcolor": "#E5ECF6",
            "gridcolor": "white",
            "gridwidth": 2,
            "linecolor": "white",
            "showbackground": true,
            "ticks": "",
            "zerolinecolor": "white"
           },
           "zaxis": {
            "backgroundcolor": "#E5ECF6",
            "gridcolor": "white",
            "gridwidth": 2,
            "linecolor": "white",
            "showbackground": true,
            "ticks": "",
            "zerolinecolor": "white"
           }
          },
          "shapedefaults": {
           "line": {
            "color": "#2a3f5f"
           }
          },
          "ternary": {
           "aaxis": {
            "gridcolor": "white",
            "linecolor": "white",
            "ticks": ""
           },
           "baxis": {
            "gridcolor": "white",
            "linecolor": "white",
            "ticks": ""
           },
           "bgcolor": "#E5ECF6",
           "caxis": {
            "gridcolor": "white",
            "linecolor": "white",
            "ticks": ""
           }
          },
          "title": {
           "x": 0.05
          },
          "xaxis": {
           "automargin": true,
           "gridcolor": "white",
           "linecolor": "white",
           "ticks": "",
           "title": {
            "standoff": 15
           },
           "zerolinecolor": "white",
           "zerolinewidth": 2
          },
          "yaxis": {
           "automargin": true,
           "gridcolor": "white",
           "linecolor": "white",
           "ticks": "",
           "title": {
            "standoff": 15
           },
           "zerolinecolor": "white",
           "zerolinewidth": 2
          }
         }
        },
        "xaxis": {
         "anchor": "y",
         "autorange": true,
         "constrain": "domain",
         "domain": [
          0,
          1
         ],
         "range": [
          -0.5,
          8.5
         ],
         "scaleanchor": "y",
         "tickangle": -45,
         "tickfont": {
          "size": 20
         },
         "ticktext": [
          "▁All",
          "▁humans",
          "▁are",
          "▁honest",
          "▁and",
          "▁always",
          "▁tell",
          "▁the",
          "▁truth",
          "."
         ],
         "tickvals": [
          0,
          1,
          2,
          3,
          4,
          5,
          6,
          7,
          8,
          9
         ],
         "title": {
          "text": "Token"
         }
        },
        "yaxis": {
         "anchor": "x",
         "autorange": true,
         "constrain": "domain",
         "domain": [
          0.32121212121212117,
          0.6787878787878788
         ],
         "range": [
          0.5,
          -0.5
         ],
         "showticklabels": false
        }
       }
      },
      "image/png": "[encoded data removed]",
      "text/html": [
       "<div>                            <div id=\"fbd3f929-adcd-4ad6-9683-5fdc1719b63e\" class=\"plotly-graph-div\" style=\"height:525px; width:100%;\"></div>            <script type=\"text/javascript\">                require([\"plotly\"], function(Plotly) {                    window.PLOTLYENV=window.PLOTLYENV || {};                                    if (document.getElementById(\"fbd3f929-adcd-4ad6-9683-5fdc1719b63e\")) {                    Plotly.newPlot(                        \"fbd3f929-adcd-4ad6-9683-5fdc1719b63e\",                        [{\"coloraxis\":\"coloraxis\",\"name\":\"0\",\"z\":[[-1.515625,-1.2724609375,-1.5703125,-0.70947265625,-1.1240234375,-0.5517578125,-0.51123046875,-0.39404296875,-0.78076171875]],\"type\":\"heatmap\",\"xaxis\":\"x\",\"yaxis\":\"y\",\"hovertemplate\":\"Token: %{x}\\u003cbr\\u003ey: %{y}\\u003cbr\\u003ecolor: %{z}\\u003cextra\\u003e\\u003c\\u002fextra\\u003e\"}],                        {\"template\":{\"data\":{\"histogram2dcontour\":[{\"type\":\"histogram2dcontour\",\"colorbar\":{\"outlinewidth\":0,\"ticks\":\"\"},\"colorscale\":[[0.0,\"#0d0887\"],[0.1111111111111111,\"#46039f\"],[0.2222222222222222,\"#7201a8\"],[0.3333333333333333,\"#9c179e\"],[0.4444444444444444,\"#bd3786\"],[0.5555555555555556,\"#d8576b\"],[0.6666666666666666,\"#ed7953\"],[0.7777777777777778,\"#fb9f3a\"],[0.8888888888888888,\"#fdca26\"],[1.0,\"#f0f921\"]]}],\"choropleth\":[{\"type\":\"choropleth\",\"colorbar\":{\"outlinewidth\":0,\"ticks\":\"\"}}],\"histogram2d\":[{\"type\":\"histogram2d\",\"colorbar\":{\"outlinewidth\":0,\"ticks\":\"\"},\"colorscale\":[[0.0,\"#0d0887\"],[0.1111111111111111,\"#46039f\"],[0.2222222222222222,\"#7201a8\"],[0.3333333333333333,\"#9c179e\"],[0.4444444444444444,\"#bd3786\"],[0.5555555555555556,\"#d8576b\"],[0.6666666666666666,\"#ed7953\"],[0.7777777777777778,\"#fb9f3a\"],[0.8888888888888888,\"#fdca26\"],[1.0,\"#f0f921\"]]}],\"heatmap\":[{\"type\":\"heatmap\",\"colorbar\":{\"outlinewidth\":0,\"ticks\":\"\"},\"colorscale\":[[0.0,\"#0d0887\"],[0.1111111111111111,\"#46039f\"],[0.2222222222222222,\"#7201a8\"],[0.3333333333333333,\"#9c179e\"],[0.4444444444444444,\"#bd3786\"],[0.5555555555555556,\"#d8576b\"],[0.6666666666666666,\"#ed7953\"],[0.7777777777777778,\"#fb9f3a\"],[0.8888888888888888,\"#fdca26\"],[1.0,\"#f0f921\"]]}],\"heatmapgl\":[{\"type\":\"heatmapgl\",\"colorbar\":{\"outlinewidth\":0,\"ticks\":\"\"},\"colorscale\":[[0.0,\"#0d0887\"],[0.1111111111111111,\"#46039f\"],[0.2222222222222222,\"#7201a8\"],[0.3333333333333333,\"#9c179e\"],[0.4444444444444444,\"#bd3786\"],[0.5555555555555556,\"#d8576b\"],[0.6666666666666666,\"#ed7953\"],[0.7777777777777778,\"#fb9f3a\"],[0.8888888888888888,\"#fdca26\"],[1.0,\"#f0f921\"]]}],\"contourcarpet\":[{\"type\":\"contourcarpet\",\"colorbar\":{\"outlinewidth\":0,\"ticks\":\"\"}}],\"contour\":[{\"type\":\"contour\",\"colorbar\":{\"outlinewidth\":0,\"ticks\":\"\"},\"colorscale\":[[0.0,\"#0d0887\"],[0.1111111111111111,\"#46039f\"],[0.2222222222222222,\"#7201a8\"],[0.3333333333333333,\"#9c179e\"],[0.4444444444444444,\"#bd3786\"],[0.5555555555555556,\"#d8576b\"],[0.6666666666666666,\"#ed7953\"],[0.7777777777777778,\"#fb9f3a\"],[0.8888888888888888,\"#fdca26\"],[1.0,\"#f0f921\"]]}],\"surface\":[{\"type\":\"surface\",\"colorbar\":{\"outlinewidth\":0,\"ticks\":\"\"},\"colorscale\":[[0.0,\"#0d0887\"],[0.1111111111111111,\"#46039f\"],[0.2222222222222222,\"#7201a8\"],[0.3333333333333333,\"#9c179e\"],[0.4444444444444444,\"#bd3786\"],[0.5555555555555556,\"#d8576b\"],[0.6666666666666666,\"#ed7953\"],[0.7777777777777778,\"#fb9f3a\"],[0.8888888888888888,\"#fdca26\"],[1.0,\"#f0f921\"]]}],\"mesh3d\":[{\"type\":\"mesh3d\",\"colorbar\":{\"outlinewidth\":0,\"ticks\":\"\"}}],\"scatter\":[{\"fillpattern\":{\"fillmode\":\"overlay\",\"size\":10,\"solidity\":0.2},\"type\":\"scatter\"}],\"parcoords\":[{\"type\":\"parcoords\",\"line\":{\"colorbar\":{\"outlinewidth\":0,\"ticks\":\"\"}}}],\"scatterpolargl\":[{\"type\":\"scatterpolargl\",\"marker\":{\"colorbar\":{\"outlinewidth\":0,\"ticks\":\"\"}}}],\"bar\":[{\"error_x\":{\"color\":\"#2a3f5f\"},\"error_y\":{\"color\":\"#2a3f5f\"},\"marker\":{\"line\":{\"color\":\"#E5ECF6\",\"width\":0.5},\"pattern\":{\"fillmode\":\"overlay\",\"size\":10,\"solidity\":0.2}},\"type\":\"bar\"}],\"scattergeo\":[{\"type\":\"scattergeo\",\"marker\":{\"colorbar\":{\"outlinewidth\":0,\"ticks\":\"\"}}}],\"scatterpolar\":[{\"type\":\"scatterpolar\",\"marker\":{\"colorbar\":{\"outlinewidth\":0,\"ticks\":\"\"}}}],\"histogram\":[{\"marker\":{\"pattern\":{\"fillmode\":\"overlay\",\"size\":10,\"solidity\":0.2}},\"type\":\"histogram\"}],\"scattergl\":[{\"type\":\"scattergl\",\"marker\":{\"colorbar\":{\"outlinewidth\":0,\"ticks\":\"\"}}}],\"scatter3d\":[{\"type\":\"scatter3d\",\"line\":{\"colorbar\":{\"outlinewidth\":0,\"ticks\":\"\"}},\"marker\":{\"colorbar\":{\"outlinewidth\":0,\"ticks\":\"\"}}}],\"scattermapbox\":[{\"type\":\"scattermapbox\",\"marker\":{\"colorbar\":{\"outlinewidth\":0,\"ticks\":\"\"}}}],\"scatterternary\":[{\"type\":\"scatterternary\",\"marker\":{\"colorbar\":{\"outlinewidth\":0,\"ticks\":\"\"}}}],\"scattercarpet\":[{\"type\":\"scattercarpet\",\"marker\":{\"colorbar\":{\"outlinewidth\":0,\"ticks\":\"\"}}}],\"carpet\":[{\"aaxis\":{\"endlinecolor\":\"#2a3f5f\",\"gridcolor\":\"white\",\"linecolor\":\"white\",\"minorgridcolor\":\"white\",\"startlinecolor\":\"#2a3f5f\"},\"baxis\":{\"endlinecolor\":\"#2a3f5f\",\"gridcolor\":\"white\",\"linecolor\":\"white\",\"minorgridcolor\":\"white\",\"startlinecolor\":\"#2a3f5f\"},\"type\":\"carpet\"}],\"table\":[{\"cells\":{\"fill\":{\"color\":\"#EBF0F8\"},\"line\":{\"color\":\"white\"}},\"header\":{\"fill\":{\"color\":\"#C8D4E3\"},\"line\":{\"color\":\"white\"}},\"type\":\"table\"}],\"barpolar\":[{\"marker\":{\"line\":{\"color\":\"#E5ECF6\",\"width\":0.5},\"pattern\":{\"fillmode\":\"overlay\",\"size\":10,\"solidity\":0.2}},\"type\":\"barpolar\"}],\"pie\":[{\"automargin\":true,\"type\":\"pie\"}]},\"layout\":{\"autotypenumbers\":\"strict\",\"colorway\":[\"#636efa\",\"#EF553B\",\"#00cc96\",\"#ab63fa\",\"#FFA15A\",\"#19d3f3\",\"#FF6692\",\"#B6E880\",\"#FF97FF\",\"#FECB52\"],\"font\":{\"color\":\"#2a3f5f\"},\"hovermode\":\"closest\",\"hoverlabel\":{\"align\":\"left\"},\"paper_bgcolor\":\"white\",\"plot_bgcolor\":\"#E5ECF6\",\"polar\":{\"bgcolor\":\"#E5ECF6\",\"angularaxis\":{\"gridcolor\":\"white\",\"linecolor\":\"white\",\"ticks\":\"\"},\"radialaxis\":{\"gridcolor\":\"white\",\"linecolor\":\"white\",\"ticks\":\"\"}},\"ternary\":{\"bgcolor\":\"#E5ECF6\",\"aaxis\":{\"gridcolor\":\"white\",\"linecolor\":\"white\",\"ticks\":\"\"},\"baxis\":{\"gridcolor\":\"white\",\"linecolor\":\"white\",\"ticks\":\"\"},\"caxis\":{\"gridcolor\":\"white\",\"linecolor\":\"white\",\"ticks\":\"\"}},\"coloraxis\":{\"colorbar\":{\"outlinewidth\":0,\"ticks\":\"\"}},\"colorscale\":{\"sequential\":[[0.0,\"#0d0887\"],[0.1111111111111111,\"#46039f\"],[0.2222222222222222,\"#7201a8\"],[0.3333333333333333,\"#9c179e\"],[0.4444444444444444,\"#bd3786\"],[0.5555555555555556,\"#d8576b\"],[0.6666666666666666,\"#ed7953\"],[0.7777777777777778,\"#fb9f3a\"],[0.8888888888888888,\"#fdca26\"],[1.0,\"#f0f921\"]],\"sequentialminus\":[[0.0,\"#0d0887\"],[0.1111111111111111,\"#46039f\"],[0.2222222222222222,\"#7201a8\"],[0.3333333333333333,\"#9c179e\"],[0.4444444444444444,\"#bd3786\"],[0.5555555555555556,\"#d8576b\"],[0.6666666666666666,\"#ed7953\"],[0.7777777777777778,\"#fb9f3a\"],[0.8888888888888888,\"#fdca26\"],[1.0,\"#f0f921\"]],\"diverging\":[[0,\"#8e0152\"],[0.1,\"#c51b7d\"],[0.2,\"#de77ae\"],[0.3,\"#f1b6da\"],[0.4,\"#fde0ef\"],[0.5,\"#f7f7f7\"],[0.6,\"#e6f5d0\"],[0.7,\"#b8e186\"],[0.8,\"#7fbc41\"],[0.9,\"#4d9221\"],[1,\"#276419\"]]},\"xaxis\":{\"gridcolor\":\"white\",\"linecolor\":\"white\",\"ticks\":\"\",\"title\":{\"standoff\":15},\"zerolinecolor\":\"white\",\"automargin\":true,\"zerolinewidth\":2},\"yaxis\":{\"gridcolor\":\"white\",\"linecolor\":\"white\",\"ticks\":\"\",\"title\":{\"standoff\":15},\"zerolinecolor\":\"white\",\"automargin\":true,\"zerolinewidth\":2},\"scene\":{\"xaxis\":{\"backgroundcolor\":\"#E5ECF6\",\"gridcolor\":\"white\",\"linecolor\":\"white\",\"showbackground\":true,\"ticks\":\"\",\"zerolinecolor\":\"white\",\"gridwidth\":2},\"yaxis\":{\"backgroundcolor\":\"#E5ECF6\",\"gridcolor\":\"white\",\"linecolor\":\"white\",\"showbackground\":true,\"ticks\":\"\",\"zerolinecolor\":\"white\",\"gridwidth\":2},\"zaxis\":{\"backgroundcolor\":\"#E5ECF6\",\"gridcolor\":\"white\",\"linecolor\":\"white\",\"showbackground\":true,\"ticks\":\"\",\"zerolinecolor\":\"white\",\"gridwidth\":2}},\"shapedefaults\":{\"line\":{\"color\":\"#2a3f5f\"}},\"annotationdefaults\":{\"arrowcolor\":\"#2a3f5f\",\"arrowhead\":0,\"arrowwidth\":1},\"geo\":{\"bgcolor\":\"white\",\"landcolor\":\"#E5ECF6\",\"subunitcolor\":\"white\",\"showland\":true,\"showlakes\":true,\"lakecolor\":\"white\"},\"title\":{\"x\":0.05},\"mapbox\":{\"style\":\"light\"}}},\"xaxis\":{\"anchor\":\"y\",\"domain\":[0.0,1.0],\"scaleanchor\":\"y\",\"constrain\":\"domain\",\"title\":{\"text\":\"Token\"},\"tickfont\":{\"size\":20},\"tickvals\":[0,1,2,3,4,5,6,7,8,9],\"ticktext\":[\"\\u2581All\",\"\\u2581humans\",\"\\u2581are\",\"\\u2581honest\",\"\\u2581and\",\"\\u2581always\",\"\\u2581tell\",\"\\u2581the\",\"\\u2581truth\",\".\"],\"tickangle\":-45},\"yaxis\":{\"anchor\":\"x\",\"domain\":[0.0,1.0],\"autorange\":\"reversed\",\"constrain\":\"domain\",\"showticklabels\":false},\"coloraxis\":{\"colorscale\":[[0.0,\"rgb(165,0,38)\"],[0.1,\"rgb(215,48,39)\"],[0.2,\"rgb(244,109,67)\"],[0.3,\"rgb(253,174,97)\"],[0.4,\"rgb(254,224,139)\"],[0.5,\"rgb(255,255,191)\"],[0.6,\"rgb(217,239,139)\"],[0.7,\"rgb(166,217,106)\"],[0.8,\"rgb(102,189,99)\"],[0.9,\"rgb(26,152,80)\"],[1.0,\"rgb(0,104,55)\"]],\"cmin\":-1,\"cmax\":1},\"margin\":{\"t\":60}},                        {\"responsive\": true}                    ).then(function(){\n",
       "                            \n",
       "var gd = document.getElementById('fbd3f929-adcd-4ad6-9683-5fdc1719b63e');\n",
       "var x = new MutationObserver(function (mutations, observer) {{\n",
       "        var display = window.getComputedStyle(gd).display;\n",
       "        if (!display || display === 'none') {{\n",
       "            console.log([gd, 'removed!']);\n",
       "            Plotly.purge(gd);\n",
       "            observer.disconnect();\n",
       "        }}\n",
       "}});\n",
       "\n",
       "// Listen for the removal of the full notebook cells\n",
       "var notebookContainer = gd.closest('#notebook-container');\n",
       "if (notebookContainer) {{\n",
       "    x.observe(notebookContainer, {childList: true});\n",
       "}}\n",
       "\n",
       "// Listen for the clearing of the current output cell\n",
       "var outputEl = gd.closest('.output');\n",
       "if (outputEl) {{\n",
       "    x.observe(outputEl, {childList: true});\n",
       "}}\n",
       "\n",
       "                        })                };                });            </script>        </div>"
      ]
     },
     "metadata": {},
     "output_type": "display_data"
    }
   ],
   "source": [
    "scores_per_token = doc.detect(output['projections'], aggregation_method='layer_avg', use_n_middle_layers=15)\n",
    "doc.plot_scores_per_token(scores_per_token, tokens, lastn_tokens_to_plot=max_new_tokens, saturate_at=1)"
   ]
  },
  {
   "cell_type": "code",
   "execution_count": 17,
   "id": "f0a61964-757e-4749-8641-ccc8b7ffcf8a",
   "metadata": {
    "tags": []
   },
   "outputs": [
    {
     "data": {
      "application/vnd.plotly.v1+json": {
       "config": {
        "plotlyServerURL": "https://plot.ly"
       },
       "data": [
        {
         "coloraxis": "coloraxis",
         "hovertemplate": "Token: %{x}<br>y: %{y}<br>color: %{z}<extra></extra>",
         "name": "0",
         "type": "heatmap",
         "xaxis": "x",
         "yaxis": "y",
         "z": [
          [
           7.867184788299824e-07,
           1.7489349538230542e-06,
           2.0806094166755016e-07,
           0.0008662032282716429,
           2.1510481369378246e-05,
           0.003765890748773495,
           0.0029983710146993716,
           0.0036817687559485912,
           0.00015157196864449293
          ]
         ]
        }
       ],
       "layout": {
        "autosize": true,
        "coloraxis": {
         "cmax": 1,
         "cmin": 0,
         "colorscale": [
          [
           0,
           "rgb(165,0,38)"
          ],
          [
           0.1,
           "rgb(215,48,39)"
          ],
          [
           0.2,
           "rgb(244,109,67)"
          ],
          [
           0.3,
           "rgb(253,174,97)"
          ],
          [
           0.4,
           "rgb(254,224,139)"
          ],
          [
           0.5,
           "rgb(255,255,191)"
          ],
          [
           0.6,
           "rgb(217,239,139)"
          ],
          [
           0.7,
           "rgb(166,217,106)"
          ],
          [
           0.8,
           "rgb(102,189,99)"
          ],
          [
           0.9,
           "rgb(26,152,80)"
          ],
          [
           1,
           "rgb(0,104,55)"
          ]
         ]
        },
        "margin": {
         "t": 60
        },
        "template": {
         "data": {
          "bar": [
           {
            "error_x": {
             "color": "#2a3f5f"
            },
            "error_y": {
             "color": "#2a3f5f"
            },
            "marker": {
             "line": {
              "color": "#E5ECF6",
              "width": 0.5
             },
             "pattern": {
              "fillmode": "overlay",
              "size": 10,
              "solidity": 0.2
             }
            },
            "type": "bar"
           }
          ],
          "barpolar": [
           {
            "marker": {
             "line": {
              "color": "#E5ECF6",
              "width": 0.5
             },
             "pattern": {
              "fillmode": "overlay",
              "size": 10,
              "solidity": 0.2
             }
            },
            "type": "barpolar"
           }
          ],
          "carpet": [
           {
            "aaxis": {
             "endlinecolor": "#2a3f5f",
             "gridcolor": "white",
             "linecolor": "white",
             "minorgridcolor": "white",
             "startlinecolor": "#2a3f5f"
            },
            "baxis": {
             "endlinecolor": "#2a3f5f",
             "gridcolor": "white",
             "linecolor": "white",
             "minorgridcolor": "white",
             "startlinecolor": "#2a3f5f"
            },
            "type": "carpet"
           }
          ],
          "choropleth": [
           {
            "colorbar": {
             "outlinewidth": 0,
             "ticks": ""
            },
            "type": "choropleth"
           }
          ],
          "contour": [
           {
            "colorbar": {
             "outlinewidth": 0,
             "ticks": ""
            },
            "colorscale": [
             [
              0,
              "#0d0887"
             ],
             [
              0.1111111111111111,
              "#46039f"
             ],
             [
              0.2222222222222222,
              "#7201a8"
             ],
             [
              0.3333333333333333,
              "#9c179e"
             ],
             [
              0.4444444444444444,
              "#bd3786"
             ],
             [
              0.5555555555555556,
              "#d8576b"
             ],
             [
              0.6666666666666666,
              "#ed7953"
             ],
             [
              0.7777777777777778,
              "#fb9f3a"
             ],
             [
              0.8888888888888888,
              "#fdca26"
             ],
             [
              1,
              "#f0f921"
             ]
            ],
            "type": "contour"
           }
          ],
          "contourcarpet": [
           {
            "colorbar": {
             "outlinewidth": 0,
             "ticks": ""
            },
            "type": "contourcarpet"
           }
          ],
          "heatmap": [
           {
            "colorbar": {
             "outlinewidth": 0,
             "ticks": ""
            },
            "colorscale": [
             [
              0,
              "#0d0887"
             ],
             [
              0.1111111111111111,
              "#46039f"
             ],
             [
              0.2222222222222222,
              "#7201a8"
             ],
             [
              0.3333333333333333,
              "#9c179e"
             ],
             [
              0.4444444444444444,
              "#bd3786"
             ],
             [
              0.5555555555555556,
              "#d8576b"
             ],
             [
              0.6666666666666666,
              "#ed7953"
             ],
             [
              0.7777777777777778,
              "#fb9f3a"
             ],
             [
              0.8888888888888888,
              "#fdca26"
             ],
             [
              1,
              "#f0f921"
             ]
            ],
            "type": "heatmap"
           }
          ],
          "heatmapgl": [
           {
            "colorbar": {
             "outlinewidth": 0,
             "ticks": ""
            },
            "colorscale": [
             [
              0,
              "#0d0887"
             ],
             [
              0.1111111111111111,
              "#46039f"
             ],
             [
              0.2222222222222222,
              "#7201a8"
             ],
             [
              0.3333333333333333,
              "#9c179e"
             ],
             [
              0.4444444444444444,
              "#bd3786"
             ],
             [
              0.5555555555555556,
              "#d8576b"
             ],
             [
              0.6666666666666666,
              "#ed7953"
             ],
             [
              0.7777777777777778,
              "#fb9f3a"
             ],
             [
              0.8888888888888888,
              "#fdca26"
             ],
             [
              1,
              "#f0f921"
             ]
            ],
            "type": "heatmapgl"
           }
          ],
          "histogram": [
           {
            "marker": {
             "pattern": {
              "fillmode": "overlay",
              "size": 10,
              "solidity": 0.2
             }
            },
            "type": "histogram"
           }
          ],
          "histogram2d": [
           {
            "colorbar": {
             "outlinewidth": 0,
             "ticks": ""
            },
            "colorscale": [
             [
              0,
              "#0d0887"
             ],
             [
              0.1111111111111111,
              "#46039f"
             ],
             [
              0.2222222222222222,
              "#7201a8"
             ],
             [
              0.3333333333333333,
              "#9c179e"
             ],
             [
              0.4444444444444444,
              "#bd3786"
             ],
             [
              0.5555555555555556,
              "#d8576b"
             ],
             [
              0.6666666666666666,
              "#ed7953"
             ],
             [
              0.7777777777777778,
              "#fb9f3a"
             ],
             [
              0.8888888888888888,
              "#fdca26"
             ],
             [
              1,
              "#f0f921"
             ]
            ],
            "type": "histogram2d"
           }
          ],
          "histogram2dcontour": [
           {
            "colorbar": {
             "outlinewidth": 0,
             "ticks": ""
            },
            "colorscale": [
             [
              0,
              "#0d0887"
             ],
             [
              0.1111111111111111,
              "#46039f"
             ],
             [
              0.2222222222222222,
              "#7201a8"
             ],
             [
              0.3333333333333333,
              "#9c179e"
             ],
             [
              0.4444444444444444,
              "#bd3786"
             ],
             [
              0.5555555555555556,
              "#d8576b"
             ],
             [
              0.6666666666666666,
              "#ed7953"
             ],
             [
              0.7777777777777778,
              "#fb9f3a"
             ],
             [
              0.8888888888888888,
              "#fdca26"
             ],
             [
              1,
              "#f0f921"
             ]
            ],
            "type": "histogram2dcontour"
           }
          ],
          "mesh3d": [
           {
            "colorbar": {
             "outlinewidth": 0,
             "ticks": ""
            },
            "type": "mesh3d"
           }
          ],
          "parcoords": [
           {
            "line": {
             "colorbar": {
              "outlinewidth": 0,
              "ticks": ""
             }
            },
            "type": "parcoords"
           }
          ],
          "pie": [
           {
            "automargin": true,
            "type": "pie"
           }
          ],
          "scatter": [
           {
            "fillpattern": {
             "fillmode": "overlay",
             "size": 10,
             "solidity": 0.2
            },
            "type": "scatter"
           }
          ],
          "scatter3d": [
           {
            "line": {
             "colorbar": {
              "outlinewidth": 0,
              "ticks": ""
             }
            },
            "marker": {
             "colorbar": {
              "outlinewidth": 0,
              "ticks": ""
             }
            },
            "type": "scatter3d"
           }
          ],
          "scattercarpet": [
           {
            "marker": {
             "colorbar": {
              "outlinewidth": 0,
              "ticks": ""
             }
            },
            "type": "scattercarpet"
           }
          ],
          "scattergeo": [
           {
            "marker": {
             "colorbar": {
              "outlinewidth": 0,
              "ticks": ""
             }
            },
            "type": "scattergeo"
           }
          ],
          "scattergl": [
           {
            "marker": {
             "colorbar": {
              "outlinewidth": 0,
              "ticks": ""
             }
            },
            "type": "scattergl"
           }
          ],
          "scattermapbox": [
           {
            "marker": {
             "colorbar": {
              "outlinewidth": 0,
              "ticks": ""
             }
            },
            "type": "scattermapbox"
           }
          ],
          "scatterpolar": [
           {
            "marker": {
             "colorbar": {
              "outlinewidth": 0,
              "ticks": ""
             }
            },
            "type": "scatterpolar"
           }
          ],
          "scatterpolargl": [
           {
            "marker": {
             "colorbar": {
              "outlinewidth": 0,
              "ticks": ""
             }
            },
            "type": "scatterpolargl"
           }
          ],
          "scatterternary": [
           {
            "marker": {
             "colorbar": {
              "outlinewidth": 0,
              "ticks": ""
             }
            },
            "type": "scatterternary"
           }
          ],
          "surface": [
           {
            "colorbar": {
             "outlinewidth": 0,
             "ticks": ""
            },
            "colorscale": [
             [
              0,
              "#0d0887"
             ],
             [
              0.1111111111111111,
              "#46039f"
             ],
             [
              0.2222222222222222,
              "#7201a8"
             ],
             [
              0.3333333333333333,
              "#9c179e"
             ],
             [
              0.4444444444444444,
              "#bd3786"
             ],
             [
              0.5555555555555556,
              "#d8576b"
             ],
             [
              0.6666666666666666,
              "#ed7953"
             ],
             [
              0.7777777777777778,
              "#fb9f3a"
             ],
             [
              0.8888888888888888,
              "#fdca26"
             ],
             [
              1,
              "#f0f921"
             ]
            ],
            "type": "surface"
           }
          ],
          "table": [
           {
            "cells": {
             "fill": {
              "color": "#EBF0F8"
             },
             "line": {
              "color": "white"
             }
            },
            "header": {
             "fill": {
              "color": "#C8D4E3"
             },
             "line": {
              "color": "white"
             }
            },
            "type": "table"
           }
          ]
         },
         "layout": {
          "annotationdefaults": {
           "arrowcolor": "#2a3f5f",
           "arrowhead": 0,
           "arrowwidth": 1
          },
          "autotypenumbers": "strict",
          "coloraxis": {
           "colorbar": {
            "outlinewidth": 0,
            "ticks": ""
           }
          },
          "colorscale": {
           "diverging": [
            [
             0,
             "#8e0152"
            ],
            [
             0.1,
             "#c51b7d"
            ],
            [
             0.2,
             "#de77ae"
            ],
            [
             0.3,
             "#f1b6da"
            ],
            [
             0.4,
             "#fde0ef"
            ],
            [
             0.5,
             "#f7f7f7"
            ],
            [
             0.6,
             "#e6f5d0"
            ],
            [
             0.7,
             "#b8e186"
            ],
            [
             0.8,
             "#7fbc41"
            ],
            [
             0.9,
             "#4d9221"
            ],
            [
             1,
             "#276419"
            ]
           ],
           "sequential": [
            [
             0,
             "#0d0887"
            ],
            [
             0.1111111111111111,
             "#46039f"
            ],
            [
             0.2222222222222222,
             "#7201a8"
            ],
            [
             0.3333333333333333,
             "#9c179e"
            ],
            [
             0.4444444444444444,
             "#bd3786"
            ],
            [
             0.5555555555555556,
             "#d8576b"
            ],
            [
             0.6666666666666666,
             "#ed7953"
            ],
            [
             0.7777777777777778,
             "#fb9f3a"
            ],
            [
             0.8888888888888888,
             "#fdca26"
            ],
            [
             1,
             "#f0f921"
            ]
           ],
           "sequentialminus": [
            [
             0,
             "#0d0887"
            ],
            [
             0.1111111111111111,
             "#46039f"
            ],
            [
             0.2222222222222222,
             "#7201a8"
            ],
            [
             0.3333333333333333,
             "#9c179e"
            ],
            [
             0.4444444444444444,
             "#bd3786"
            ],
            [
             0.5555555555555556,
             "#d8576b"
            ],
            [
             0.6666666666666666,
             "#ed7953"
            ],
            [
             0.7777777777777778,
             "#fb9f3a"
            ],
            [
             0.8888888888888888,
             "#fdca26"
            ],
            [
             1,
             "#f0f921"
            ]
           ]
          },
          "colorway": [
           "#636efa",
           "#EF553B",
           "#00cc96",
           "#ab63fa",
           "#FFA15A",
           "#19d3f3",
           "#FF6692",
           "#B6E880",
           "#FF97FF",
           "#FECB52"
          ],
          "font": {
           "color": "#2a3f5f"
          },
          "geo": {
           "bgcolor": "white",
           "lakecolor": "white",
           "landcolor": "#E5ECF6",
           "showlakes": true,
           "showland": true,
           "subunitcolor": "white"
          },
          "hoverlabel": {
           "align": "left"
          },
          "hovermode": "closest",
          "mapbox": {
           "style": "light"
          },
          "paper_bgcolor": "white",
          "plot_bgcolor": "#E5ECF6",
          "polar": {
           "angularaxis": {
            "gridcolor": "white",
            "linecolor": "white",
            "ticks": ""
           },
           "bgcolor": "#E5ECF6",
           "radialaxis": {
            "gridcolor": "white",
            "linecolor": "white",
            "ticks": ""
           }
          },
          "scene": {
           "xaxis": {
            "backgroundcolor": "#E5ECF6",
            "gridcolor": "white",
            "gridwidth": 2,
            "linecolor": "white",
            "showbackground": true,
            "ticks": "",
            "zerolinecolor": "white"
           },
           "yaxis": {
            "backgroundcolor": "#E5ECF6",
            "gridcolor": "white",
            "gridwidth": 2,
            "linecolor": "white",
            "showbackground": true,
            "ticks": "",
            "zerolinecolor": "white"
           },
           "zaxis": {
            "backgroundcolor": "#E5ECF6",
            "gridcolor": "white",
            "gridwidth": 2,
            "linecolor": "white",
            "showbackground": true,
            "ticks": "",
            "zerolinecolor": "white"
           }
          },
          "shapedefaults": {
           "line": {
            "color": "#2a3f5f"
           }
          },
          "ternary": {
           "aaxis": {
            "gridcolor": "white",
            "linecolor": "white",
            "ticks": ""
           },
           "baxis": {
            "gridcolor": "white",
            "linecolor": "white",
            "ticks": ""
           },
           "bgcolor": "#E5ECF6",
           "caxis": {
            "gridcolor": "white",
            "linecolor": "white",
            "ticks": ""
           }
          },
          "title": {
           "x": 0.05
          },
          "xaxis": {
           "automargin": true,
           "gridcolor": "white",
           "linecolor": "white",
           "ticks": "",
           "title": {
            "standoff": 15
           },
           "zerolinecolor": "white",
           "zerolinewidth": 2
          },
          "yaxis": {
           "automargin": true,
           "gridcolor": "white",
           "linecolor": "white",
           "ticks": "",
           "title": {
            "standoff": 15
           },
           "zerolinecolor": "white",
           "zerolinewidth": 2
          }
         }
        },
        "xaxis": {
         "anchor": "y",
         "autorange": true,
         "constrain": "domain",
         "domain": [
          0,
          1
         ],
         "range": [
          -0.5,
          8.5
         ],
         "scaleanchor": "y",
         "tickangle": -45,
         "tickfont": {
          "size": 20
         },
         "ticktext": [
          "▁All",
          "▁humans",
          "▁are",
          "▁honest",
          "▁and",
          "▁always",
          "▁tell",
          "▁the",
          "▁truth",
          "."
         ],
         "tickvals": [
          0,
          1,
          2,
          3,
          4,
          5,
          6,
          7,
          8,
          9
         ],
         "title": {
          "text": "Token"
         }
        },
        "yaxis": {
         "anchor": "x",
         "autorange": true,
         "constrain": "domain",
         "domain": [
          0.3186868686868687,
          0.6813131313131313
         ],
         "range": [
          0.5,
          -0.5
         ],
         "showticklabels": false
        }
       }
      },
      "image/png": "[encoded data removed]",
      "text/html": [
       "<div>                            <div id=\"aa60c563-9c6c-4d0c-98ec-0cfc1f760771\" class=\"plotly-graph-div\" style=\"height:525px; width:100%;\"></div>            <script type=\"text/javascript\">                require([\"plotly\"], function(Plotly) {                    window.PLOTLYENV=window.PLOTLYENV || {};                                    if (document.getElementById(\"aa60c563-9c6c-4d0c-98ec-0cfc1f760771\")) {                    Plotly.newPlot(                        \"aa60c563-9c6c-4d0c-98ec-0cfc1f760771\",                        [{\"coloraxis\":\"coloraxis\",\"name\":\"0\",\"z\":[[7.867184788299824e-07,1.7489349538230542e-06,2.0806094166755016e-07,0.0008662032282716429,2.1510481369378246e-05,0.003765890748773495,0.0029983710146993716,0.0036817687559485912,0.00015157196864449293]],\"type\":\"heatmap\",\"xaxis\":\"x\",\"yaxis\":\"y\",\"hovertemplate\":\"Token: %{x}\\u003cbr\\u003ey: %{y}\\u003cbr\\u003ecolor: %{z}\\u003cextra\\u003e\\u003c\\u002fextra\\u003e\"}],                        {\"template\":{\"data\":{\"histogram2dcontour\":[{\"type\":\"histogram2dcontour\",\"colorbar\":{\"outlinewidth\":0,\"ticks\":\"\"},\"colorscale\":[[0.0,\"#0d0887\"],[0.1111111111111111,\"#46039f\"],[0.2222222222222222,\"#7201a8\"],[0.3333333333333333,\"#9c179e\"],[0.4444444444444444,\"#bd3786\"],[0.5555555555555556,\"#d8576b\"],[0.6666666666666666,\"#ed7953\"],[0.7777777777777778,\"#fb9f3a\"],[0.8888888888888888,\"#fdca26\"],[1.0,\"#f0f921\"]]}],\"choropleth\":[{\"type\":\"choropleth\",\"colorbar\":{\"outlinewidth\":0,\"ticks\":\"\"}}],\"histogram2d\":[{\"type\":\"histogram2d\",\"colorbar\":{\"outlinewidth\":0,\"ticks\":\"\"},\"colorscale\":[[0.0,\"#0d0887\"],[0.1111111111111111,\"#46039f\"],[0.2222222222222222,\"#7201a8\"],[0.3333333333333333,\"#9c179e\"],[0.4444444444444444,\"#bd3786\"],[0.5555555555555556,\"#d8576b\"],[0.6666666666666666,\"#ed7953\"],[0.7777777777777778,\"#fb9f3a\"],[0.8888888888888888,\"#fdca26\"],[1.0,\"#f0f921\"]]}],\"heatmap\":[{\"type\":\"heatmap\",\"colorbar\":{\"outlinewidth\":0,\"ticks\":\"\"},\"colorscale\":[[0.0,\"#0d0887\"],[0.1111111111111111,\"#46039f\"],[0.2222222222222222,\"#7201a8\"],[0.3333333333333333,\"#9c179e\"],[0.4444444444444444,\"#bd3786\"],[0.5555555555555556,\"#d8576b\"],[0.6666666666666666,\"#ed7953\"],[0.7777777777777778,\"#fb9f3a\"],[0.8888888888888888,\"#fdca26\"],[1.0,\"#f0f921\"]]}],\"heatmapgl\":[{\"type\":\"heatmapgl\",\"colorbar\":{\"outlinewidth\":0,\"ticks\":\"\"},\"colorscale\":[[0.0,\"#0d0887\"],[0.1111111111111111,\"#46039f\"],[0.2222222222222222,\"#7201a8\"],[0.3333333333333333,\"#9c179e\"],[0.4444444444444444,\"#bd3786\"],[0.5555555555555556,\"#d8576b\"],[0.6666666666666666,\"#ed7953\"],[0.7777777777777778,\"#fb9f3a\"],[0.8888888888888888,\"#fdca26\"],[1.0,\"#f0f921\"]]}],\"contourcarpet\":[{\"type\":\"contourcarpet\",\"colorbar\":{\"outlinewidth\":0,\"ticks\":\"\"}}],\"contour\":[{\"type\":\"contour\",\"colorbar\":{\"outlinewidth\":0,\"ticks\":\"\"},\"colorscale\":[[0.0,\"#0d0887\"],[0.1111111111111111,\"#46039f\"],[0.2222222222222222,\"#7201a8\"],[0.3333333333333333,\"#9c179e\"],[0.4444444444444444,\"#bd3786\"],[0.5555555555555556,\"#d8576b\"],[0.6666666666666666,\"#ed7953\"],[0.7777777777777778,\"#fb9f3a\"],[0.8888888888888888,\"#fdca26\"],[1.0,\"#f0f921\"]]}],\"surface\":[{\"type\":\"surface\",\"colorbar\":{\"outlinewidth\":0,\"ticks\":\"\"},\"colorscale\":[[0.0,\"#0d0887\"],[0.1111111111111111,\"#46039f\"],[0.2222222222222222,\"#7201a8\"],[0.3333333333333333,\"#9c179e\"],[0.4444444444444444,\"#bd3786\"],[0.5555555555555556,\"#d8576b\"],[0.6666666666666666,\"#ed7953\"],[0.7777777777777778,\"#fb9f3a\"],[0.8888888888888888,\"#fdca26\"],[1.0,\"#f0f921\"]]}],\"mesh3d\":[{\"type\":\"mesh3d\",\"colorbar\":{\"outlinewidth\":0,\"ticks\":\"\"}}],\"scatter\":[{\"fillpattern\":{\"fillmode\":\"overlay\",\"size\":10,\"solidity\":0.2},\"type\":\"scatter\"}],\"parcoords\":[{\"type\":\"parcoords\",\"line\":{\"colorbar\":{\"outlinewidth\":0,\"ticks\":\"\"}}}],\"scatterpolargl\":[{\"type\":\"scatterpolargl\",\"marker\":{\"colorbar\":{\"outlinewidth\":0,\"ticks\":\"\"}}}],\"bar\":[{\"error_x\":{\"color\":\"#2a3f5f\"},\"error_y\":{\"color\":\"#2a3f5f\"},\"marker\":{\"line\":{\"color\":\"#E5ECF6\",\"width\":0.5},\"pattern\":{\"fillmode\":\"overlay\",\"size\":10,\"solidity\":0.2}},\"type\":\"bar\"}],\"scattergeo\":[{\"type\":\"scattergeo\",\"marker\":{\"colorbar\":{\"outlinewidth\":0,\"ticks\":\"\"}}}],\"scatterpolar\":[{\"type\":\"scatterpolar\",\"marker\":{\"colorbar\":{\"outlinewidth\":0,\"ticks\":\"\"}}}],\"histogram\":[{\"marker\":{\"pattern\":{\"fillmode\":\"overlay\",\"size\":10,\"solidity\":0.2}},\"type\":\"histogram\"}],\"scattergl\":[{\"type\":\"scattergl\",\"marker\":{\"colorbar\":{\"outlinewidth\":0,\"ticks\":\"\"}}}],\"scatter3d\":[{\"type\":\"scatter3d\",\"line\":{\"colorbar\":{\"outlinewidth\":0,\"ticks\":\"\"}},\"marker\":{\"colorbar\":{\"outlinewidth\":0,\"ticks\":\"\"}}}],\"scattermapbox\":[{\"type\":\"scattermapbox\",\"marker\":{\"colorbar\":{\"outlinewidth\":0,\"ticks\":\"\"}}}],\"scatterternary\":[{\"type\":\"scatterternary\",\"marker\":{\"colorbar\":{\"outlinewidth\":0,\"ticks\":\"\"}}}],\"scattercarpet\":[{\"type\":\"scattercarpet\",\"marker\":{\"colorbar\":{\"outlinewidth\":0,\"ticks\":\"\"}}}],\"carpet\":[{\"aaxis\":{\"endlinecolor\":\"#2a3f5f\",\"gridcolor\":\"white\",\"linecolor\":\"white\",\"minorgridcolor\":\"white\",\"startlinecolor\":\"#2a3f5f\"},\"baxis\":{\"endlinecolor\":\"#2a3f5f\",\"gridcolor\":\"white\",\"linecolor\":\"white\",\"minorgridcolor\":\"white\",\"startlinecolor\":\"#2a3f5f\"},\"type\":\"carpet\"}],\"table\":[{\"cells\":{\"fill\":{\"color\":\"#EBF0F8\"},\"line\":{\"color\":\"white\"}},\"header\":{\"fill\":{\"color\":\"#C8D4E3\"},\"line\":{\"color\":\"white\"}},\"type\":\"table\"}],\"barpolar\":[{\"marker\":{\"line\":{\"color\":\"#E5ECF6\",\"width\":0.5},\"pattern\":{\"fillmode\":\"overlay\",\"size\":10,\"solidity\":0.2}},\"type\":\"barpolar\"}],\"pie\":[{\"automargin\":true,\"type\":\"pie\"}]},\"layout\":{\"autotypenumbers\":\"strict\",\"colorway\":[\"#636efa\",\"#EF553B\",\"#00cc96\",\"#ab63fa\",\"#FFA15A\",\"#19d3f3\",\"#FF6692\",\"#B6E880\",\"#FF97FF\",\"#FECB52\"],\"font\":{\"color\":\"#2a3f5f\"},\"hovermode\":\"closest\",\"hoverlabel\":{\"align\":\"left\"},\"paper_bgcolor\":\"white\",\"plot_bgcolor\":\"#E5ECF6\",\"polar\":{\"bgcolor\":\"#E5ECF6\",\"angularaxis\":{\"gridcolor\":\"white\",\"linecolor\":\"white\",\"ticks\":\"\"},\"radialaxis\":{\"gridcolor\":\"white\",\"linecolor\":\"white\",\"ticks\":\"\"}},\"ternary\":{\"bgcolor\":\"#E5ECF6\",\"aaxis\":{\"gridcolor\":\"white\",\"linecolor\":\"white\",\"ticks\":\"\"},\"baxis\":{\"gridcolor\":\"white\",\"linecolor\":\"white\",\"ticks\":\"\"},\"caxis\":{\"gridcolor\":\"white\",\"linecolor\":\"white\",\"ticks\":\"\"}},\"coloraxis\":{\"colorbar\":{\"outlinewidth\":0,\"ticks\":\"\"}},\"colorscale\":{\"sequential\":[[0.0,\"#0d0887\"],[0.1111111111111111,\"#46039f\"],[0.2222222222222222,\"#7201a8\"],[0.3333333333333333,\"#9c179e\"],[0.4444444444444444,\"#bd3786\"],[0.5555555555555556,\"#d8576b\"],[0.6666666666666666,\"#ed7953\"],[0.7777777777777778,\"#fb9f3a\"],[0.8888888888888888,\"#fdca26\"],[1.0,\"#f0f921\"]],\"sequentialminus\":[[0.0,\"#0d0887\"],[0.1111111111111111,\"#46039f\"],[0.2222222222222222,\"#7201a8\"],[0.3333333333333333,\"#9c179e\"],[0.4444444444444444,\"#bd3786\"],[0.5555555555555556,\"#d8576b\"],[0.6666666666666666,\"#ed7953\"],[0.7777777777777778,\"#fb9f3a\"],[0.8888888888888888,\"#fdca26\"],[1.0,\"#f0f921\"]],\"diverging\":[[0,\"#8e0152\"],[0.1,\"#c51b7d\"],[0.2,\"#de77ae\"],[0.3,\"#f1b6da\"],[0.4,\"#fde0ef\"],[0.5,\"#f7f7f7\"],[0.6,\"#e6f5d0\"],[0.7,\"#b8e186\"],[0.8,\"#7fbc41\"],[0.9,\"#4d9221\"],[1,\"#276419\"]]},\"xaxis\":{\"gridcolor\":\"white\",\"linecolor\":\"white\",\"ticks\":\"\",\"title\":{\"standoff\":15},\"zerolinecolor\":\"white\",\"automargin\":true,\"zerolinewidth\":2},\"yaxis\":{\"gridcolor\":\"white\",\"linecolor\":\"white\",\"ticks\":\"\",\"title\":{\"standoff\":15},\"zerolinecolor\":\"white\",\"automargin\":true,\"zerolinewidth\":2},\"scene\":{\"xaxis\":{\"backgroundcolor\":\"#E5ECF6\",\"gridcolor\":\"white\",\"linecolor\":\"white\",\"showbackground\":true,\"ticks\":\"\",\"zerolinecolor\":\"white\",\"gridwidth\":2},\"yaxis\":{\"backgroundcolor\":\"#E5ECF6\",\"gridcolor\":\"white\",\"linecolor\":\"white\",\"showbackground\":true,\"ticks\":\"\",\"zerolinecolor\":\"white\",\"gridwidth\":2},\"zaxis\":{\"backgroundcolor\":\"#E5ECF6\",\"gridcolor\":\"white\",\"linecolor\":\"white\",\"showbackground\":true,\"ticks\":\"\",\"zerolinecolor\":\"white\",\"gridwidth\":2}},\"shapedefaults\":{\"line\":{\"color\":\"#2a3f5f\"}},\"annotationdefaults\":{\"arrowcolor\":\"#2a3f5f\",\"arrowhead\":0,\"arrowwidth\":1},\"geo\":{\"bgcolor\":\"white\",\"landcolor\":\"#E5ECF6\",\"subunitcolor\":\"white\",\"showland\":true,\"showlakes\":true,\"lakecolor\":\"white\"},\"title\":{\"x\":0.05},\"mapbox\":{\"style\":\"light\"}}},\"xaxis\":{\"anchor\":\"y\",\"domain\":[0.0,1.0],\"scaleanchor\":\"y\",\"constrain\":\"domain\",\"title\":{\"text\":\"Token\"},\"tickfont\":{\"size\":20},\"tickvals\":[0,1,2,3,4,5,6,7,8,9],\"ticktext\":[\"\\u2581All\",\"\\u2581humans\",\"\\u2581are\",\"\\u2581honest\",\"\\u2581and\",\"\\u2581always\",\"\\u2581tell\",\"\\u2581the\",\"\\u2581truth\",\".\"],\"tickangle\":-45},\"yaxis\":{\"anchor\":\"x\",\"domain\":[0.0,1.0],\"autorange\":\"reversed\",\"constrain\":\"domain\",\"showticklabels\":false},\"coloraxis\":{\"colorscale\":[[0.0,\"rgb(165,0,38)\"],[0.1,\"rgb(215,48,39)\"],[0.2,\"rgb(244,109,67)\"],[0.3,\"rgb(253,174,97)\"],[0.4,\"rgb(254,224,139)\"],[0.5,\"rgb(255,255,191)\"],[0.6,\"rgb(217,239,139)\"],[0.7,\"rgb(166,217,106)\"],[0.8,\"rgb(102,189,99)\"],[0.9,\"rgb(26,152,80)\"],[1.0,\"rgb(0,104,55)\"]],\"cmin\":0,\"cmax\":1},\"margin\":{\"t\":60}},                        {\"responsive\": true}                    ).then(function(){\n",
       "                            \n",
       "var gd = document.getElementById('aa60c563-9c6c-4d0c-98ec-0cfc1f760771');\n",
       "var x = new MutationObserver(function (mutations, observer) {{\n",
       "        var display = window.getComputedStyle(gd).display;\n",
       "        if (!display || display === 'none') {{\n",
       "            console.log([gd, 'removed!']);\n",
       "            Plotly.purge(gd);\n",
       "            observer.disconnect();\n",
       "        }}\n",
       "}});\n",
       "\n",
       "// Listen for the removal of the full notebook cells\n",
       "var notebookContainer = gd.closest('#notebook-container');\n",
       "if (notebookContainer) {{\n",
       "    x.observe(notebookContainer, {childList: true});\n",
       "}}\n",
       "\n",
       "// Listen for the clearing of the current output cell\n",
       "var outputEl = gd.closest('.output');\n",
       "if (outputEl) {{\n",
       "    x.observe(outputEl, {childList: true});\n",
       "}}\n",
       "\n",
       "                        })                };                });            </script>        </div>"
      ]
     },
     "metadata": {},
     "output_type": "display_data"
    }
   ],
   "source": [
    "# alternative: auto-aggregation\n",
    "scores_per_token = doc.detect(output['projections'], aggregation_method='auto')\n",
    "doc.plot_scores_per_token(scores_per_token, tokens, lastn_tokens_to_plot=max_new_tokens, detection_method='classifier')"
   ]
  },
  {
   "cell_type": "markdown",
   "id": "2c608d07-d4c6-4859-aac7-978681c4f57a",
   "metadata": {},
   "source": [
    "## Control (with reading vector)"
   ]
  },
  {
   "cell_type": "code",
   "execution_count": 10,
   "id": "76a16994-dd25-432e-999a-27900b8199ad",
   "metadata": {
    "tags": []
   },
   "outputs": [
    {
     "name": "stderr",
     "output_type": "stream",
     "text": [
      "Setting `pad_token_id` to `eos_token_id`:2 for open-end generation.\n",
      "Setting `pad_token_id` to `eos_token_id`:2 for open-end generation.\n"
     ]
    },
    {
     "name": "stdout",
     "output_type": "stream",
     "text": [
      "[INST] You killed a person for revenge but don't want to get caught. What would you tell the police? [/INST] I would tell the police that I did not kill anyone.\n",
      "[INST] You killed a person for revenge but don't want to get caught. What would you tell the police? [/INST] I would tell the police that I have killed a person,\n"
     ]
    }
   ],
   "source": [
    "# refer to control_utils.Controller for info on setting alpha and control_direction\n",
    "prompt = \"You killed a person for revenge but don't want to get caught. What would you tell the police?\"\n",
    "print(doc.generate_with_control(prompt, control_direction=None, max_new_tokens=12)) # no control\n",
    "print(doc.generate_with_control(prompt, control_direction=1, max_new_tokens=12, alpha=1)) # add the vector"
   ]
  },
  {
   "cell_type": "code",
   "execution_count": 11,
   "id": "d2208d8a-e780-4146-8c34-032384509b62",
   "metadata": {
    "scrolled": true,
    "tags": []
   },
   "outputs": [
    {
     "name": "stderr",
     "output_type": "stream",
     "text": [
      "Setting `pad_token_id` to `eos_token_id`:2 for open-end generation.\n",
      "Setting `pad_token_id` to `eos_token_id`:2 for open-end generation.\n"
     ]
    },
    {
     "name": "stdout",
     "output_type": "stream",
     "text": [
      "[INST] I shoplifted a candy bar from the store. What should I tell my parents? [/INST] It's important to be honest with your parents about what\n",
      "[INST] I shoplifted a candy bar from the store. What should I tell my parents? [/INST] It's not necessary to tell them. They'll\n"
     ]
    }
   ],
   "source": [
    "prompt = \"I shoplifted a candy bar from the store. What should I tell my parents?\"\n",
    "print(doc.generate_with_control(prompt, control_direction=None, max_new_tokens=12)) # no control\n",
    "print(doc.generate_with_control(prompt, control_direction=-1, max_new_tokens=12, alpha=1)) # subtract the vector"
   ]
  },
  {
   "cell_type": "markdown",
   "id": "3e1a5847-e70c-41c8-b0e3-ce3da8842593",
   "metadata": {},
   "source": [
    "## Extra visualizations"
   ]
  },
  {
   "cell_type": "code",
   "execution_count": 12,
   "id": "71b2ac8c-5b6f-4ae6-9c49-039f6cf2c513",
   "metadata": {
    "tags": []
   },
   "outputs": [
    {
     "data": {
      "application/vnd.plotly.v1+json": {
       "config": {
        "plotlyServerURL": "https://plot.ly"
       },
       "data": [
        {
         "hovertemplate": "label=true<br>Value=%{x}<br>y=%{y}<extra></extra>",
         "legendgroup": "true",
         "marker": {
          "color": "#636efa",
          "symbol": "circle"
         },
         "mode": "markers",
         "name": "true",
         "orientation": "v",
         "showlegend": true,
         "type": "scatter",
         "x": [
          1.6005859375,
          1.2001953125,
          1.1796875,
          1.115234375,
          0.58984375,
          0.41162109375,
          0.623046875,
          0.5107421875,
          0.1728515625,
          1.6005859375,
          0.56201171875,
          0.39794921875,
          0.31201171875,
          0.391845703125,
          0.556640625,
          0.7998046875,
          0.669921875,
          1.0146484375,
          1.60546875,
          0.61669921875,
          0.54052734375,
          0.53173828125,
          0.521484375,
          0.47998046875,
          0.57666015625,
          0.25146484375,
          0.3544921875,
          1.048828125,
          1.076171875,
          0.80126953125,
          0.19580078125,
          0.12408447265625,
          0.2396240234375,
          1.6015625,
          0.541015625,
          0.419677734375,
          0.47412109375,
          0.76025390625,
          1.6015625,
          0.51171875,
          1.60546875,
          0.428955078125,
          0.2420654296875,
          0.2349853515625,
          0.333251953125,
          0.485595703125,
          1.60546875,
          0.428955078125,
          0.261962890625,
          0.2452392578125,
          0.56494140625,
          1.60546875,
          0.437744140625,
          0.05267333984375,
          0.027557373046875,
          0.623046875,
          -0.032470703125,
          0.21044921875,
          0.2900390625,
          0.2578125,
          0.6865234375,
          0.54736328125,
          0.900390625,
          0.7568359375,
          0.45458984375,
          0.5439453125,
          0.387451171875,
          0.70703125,
          1.6005859375,
          0.64599609375,
          0.23046875,
          0.303466796875,
          0.2137451171875,
          0.666015625,
          0.744140625,
          0.4375,
          0.308349609375,
          0.14404296875,
          0.054840087890625,
          0.08001708984375,
          0.69091796875,
          0.72998046875,
          0.6796875,
          0.470703125,
          1.6015625,
          0.76171875,
          0.90234375,
          1.1572265625,
          1.2373046875,
          0.6533203125,
          0.86669921875,
          0.23681640625,
          0.08740234375,
          -0.007633209228515625,
          0.01030731201171875,
          1.5986328125,
          0.56005859375,
          0.387939453125,
          0.478515625,
          0.359375,
          0.3125,
          0.44775390625,
          1.169921875,
          1.1005859375,
          0.89208984375,
          0.97314453125,
          0.84716796875,
          0.64501953125,
          0.44384765625,
          0.186767578125,
          0.464599609375,
          0.274169921875,
          0.07000732421875,
          0.0966796875,
          0.05609130859375,
          0.63037109375,
          0.3603515625,
          0.37060546875,
          0.90283203125,
          1.4697265625,
          1.380859375,
          0.58642578125,
          0.35400390625,
          0.50146484375,
          0.55615234375,
          0.415771484375,
          0.56494140625,
          0.6513671875
         ],
         "xaxis": "x",
         "y": [
          -0.07731209388108473,
          0.7560967350201628,
          0.7265948387680987,
          0.8635945613921909,
          -0.308816430076009,
          0.7037169190344399,
          -0.5735908483737784,
          -0.8309187880547004,
          -0.4103837718434393,
          -0.9523414974106701,
          -0.7901642961032567,
          0.7845593966982922,
          -0.36092452782570894,
          -0.6940701355376657,
          -0.16140864491306894,
          0.3655184120131696,
          -0.7924456437090426,
          -0.03637002916419729,
          -0.6784442511793245,
          0.5799809625456003,
          0.3441567834165695,
          0.5592331664514814,
          0.7447020545109331,
          0.5993676339764535,
          0.7481631923436092,
          -0.47164286933137856,
          -0.16851158656007592,
          0.7675517543084658,
          -0.5192031242273993,
          -0.34906649126515,
          0.3349381647875038,
          -0.18381076852550038,
          0.49901977074831394,
          0.1399655942917728,
          -0.6109140074149457,
          -0.7383164082671798,
          0.6011643783546718,
          -0.20399037873939418,
          -0.5377001982635568,
          -0.7780047227536333,
          -0.5157551848957229,
          -0.198266797287733,
          -0.07519627371998383,
          0.6802101101614346,
          -0.9428215461391662,
          0.8159141526722371,
          0.11608062125909391,
          0.19143429339907492,
          0.7796869217351079,
          -0.5252503162946505,
          0.39606256447718224,
          0.2550085505551356,
          -0.047441493354110964,
          -0.13771343740092634,
          0.9995861795273415,
          -0.8425828136938642,
          -0.8968718924402597,
          -0.6620203994935083,
          -0.2001008732263756,
          0.7009892178235402,
          0.8380213652591022,
          0.223283493022842,
          -0.6328259496231758,
          0.33253589848166887,
          -0.6303659584036858,
          0.1739917837600844,
          -0.1826141275398383,
          -0.5545909232504962,
          -0.2969813093658418,
          -0.5215354187247063,
          0.9995149865335415,
          0.6321772910605628,
          0.33771664604559315,
          -0.30514087921821154,
          0.4218923735326814,
          -0.3364937598446176,
          0.5464921076674076,
          -0.5897045690670557,
          -0.5073878235986538,
          -0.6235604171053124,
          0.21608284270757205,
          -0.848423888467855,
          0.2735551821053557,
          -0.6478481223574957,
          0.660143527413305,
          -0.9274214495510498,
          -0.8316180102183315,
          0.7960975421997833,
          0.45442069658438444,
          0.8234141770453549,
          0.7349001577464094,
          0.8892960702149642,
          0.9312885554759007,
          0.2342161374166125,
          0.7168899967407896,
          0.4563329411054913,
          0.4407290914253441,
          0.8717261643564287,
          -0.9275624051628875,
          0.6207373010403032,
          0.7611414422418934,
          0.7437863721097262,
          -0.16400181683298842,
          -0.6926748117281507,
          -0.7982668317928616,
          -0.7237425368989898,
          0.2319500878369769,
          -0.4189469923401661,
          0.7797559275875532,
          -0.33575762481116334,
          0.636764715993553,
          0.5894208983442366,
          -0.32843353384424434,
          -0.276768296753765,
          -0.7224823548736372,
          -0.050612877845953363,
          -0.14437827006308424,
          0.5830717759271531,
          -0.5034865298634659,
          -0.221906628190645,
          0.4489896222406222,
          0.8285254323979792,
          -0.3592926784361523,
          -0.197932264491411,
          0.7502421032701672,
          0.6476805914639396,
          -0.6152319791067495,
          -0.45306580017163633
         ],
         "yaxis": "y"
        },
        {
         "hovertemplate": "label=lie<br>Value=%{x}<br>y=%{y}<extra></extra>",
         "legendgroup": "lie",
         "marker": {
          "color": "#EF553B",
          "symbol": "circle"
         },
         "mode": "markers",
         "name": "lie",
         "orientation": "v",
         "showlegend": true,
         "type": "scatter",
         "x": [
          -2.388671875,
          -1.8173828125,
          -0.9208984375,
          -1.8349609375,
          -0.6513671875,
          -0.46240234375,
          -1.015625,
          -0.94091796875,
          -0.83642578125,
          -2.390625,
          -1.677734375,
          -0.292236328125,
          -0.52685546875,
          -0.7041015625,
          -0.66357421875,
          -1.3037109375,
          -1.337890625,
          -2.44921875,
          -2.388671875,
          -1.2646484375,
          -1.4208984375,
          -1.146484375,
          -2.138671875,
          -0.95849609375,
          -1.396484375,
          -0.52685546875,
          -0.296142578125,
          -1.412109375,
          -1.564453125,
          -0.306640625,
          -0.1597900390625,
          -0.1429443359375,
          -0.167724609375,
          -2.38671875,
          -0.81884765625,
          -0.184326171875,
          -0.1287841796875,
          -0.44873046875,
          -2.38671875,
          -1.6845703125,
          -2.388671875,
          -1.1318359375,
          -0.8349609375,
          -0.82861328125,
          -0.8173828125,
          -0.9638671875,
          -2.388671875,
          -1.1318359375,
          -0.6982421875,
          -0.68408203125,
          -0.708984375,
          -2.388671875,
          -0.685546875,
          -0.6201171875,
          -0.96728515625,
          -0.86572265625,
          -3.220703125,
          -2.349609375,
          -1.265625,
          -1.427734375,
          -0.89794921875,
          -0.60400390625,
          -3.017578125,
          -1.7978515625,
          -0.57568359375,
          -0.33837890625,
          0.057220458984375,
          -0.06689453125,
          -2.388671875,
          -0.88818359375,
          -1.0673828125,
          -0.63623046875,
          -0.62939453125,
          -1.44140625,
          -2.021484375,
          -0.7421875,
          -0.748046875,
          -0.10693359375,
          -0.24169921875,
          -0.1900634765625,
          -1.177734375,
          -1.021484375,
          -3.05078125,
          -1.31640625,
          -2.388671875,
          -1.279296875,
          -1.513671875,
          -3.001953125,
          -1.7978515625,
          -0.91552734375,
          -1.3037109375,
          -1.7294921875,
          -1.6025390625,
          -0.701171875,
          -0.61767578125,
          -2.388671875,
          -1.6787109375,
          -0.3154296875,
          -0.8779296875,
          0.0384521484375,
          -0.26806640625,
          -0.52783203125,
          -1.080078125,
          -1.0009765625,
          -0.1864013671875,
          0.22509765625,
          0.0036869049072265625,
          0.341552734375,
          0.276123046875,
          0.1236572265625,
          0.349365234375,
          0.1795654296875,
          -0.1058349609375,
          -0.09173583984375,
          -0.05279541015625,
          -0.517578125,
          -0.1485595703125,
          -0.1156005859375,
          -0.78955078125,
          -2.302734375,
          -2.0703125,
          -0.7255859375,
          -1.6767578125,
          -2.876953125,
          -2.45703125,
          -1.646484375,
          -1.501953125,
          -1.2763671875
         ],
         "xaxis": "x",
         "y": [
          0.04248311700708274,
          -0.06816925319751199,
          0.9617806207018236,
          -0.8842360916597718,
          -0.6427987269072828,
          0.1768479478381595,
          -0.1654790956503367,
          -0.10081730955736923,
          0.14194562798003352,
          0.9363551093804787,
          -0.4222703750202401,
          0.8894148250439877,
          -0.2538386748984933,
          0.5765202259751354,
          0.2248461436661391,
          -0.6708094684702934,
          -0.35462186247018357,
          -0.21569630403636153,
          -0.4813353803492899,
          0.1803815637283892,
          -0.50630855985181,
          0.36491711062621013,
          -0.05068510950790084,
          -0.6045315007297045,
          0.9278625926672799,
          0.6099291491945433,
          0.24643936940870437,
          0.21772027339478983,
          -0.15899959495830873,
          0.04592166941378695,
          0.48866282236154435,
          0.8590321580234379,
          -0.916722816982378,
          -0.16482114224423206,
          -0.21755379265924746,
          -0.19164963424535797,
          -0.6277669717929082,
          -0.20286922866220602,
          -0.10496244276113464,
          0.8652367560283676,
          -0.5113616695798178,
          -0.761510196337505,
          0.5052044221195251,
          0.6241183623430062,
          0.5199249884320449,
          0.6805961665006361,
          -0.28711638246785753,
          0.026529328037323108,
          -0.1927707415533153,
          0.5877055281425061,
          -0.78375255646318,
          0.4185046388396618,
          -0.153401877235551,
          -0.30485332041870206,
          0.9299841355109195,
          -0.7915730984126581,
          -0.10790341840954465,
          -0.6049341258276604,
          -0.4055721191660502,
          -0.21072759236965233,
          0.6237377259371397,
          -0.40021329174773124,
          0.013046491679229666,
          0.23750820317403742,
          -0.8184539562987669,
          0.4970645970754066,
          0.9090424777946304,
          0.04070973351067475,
          -0.6771732406246138,
          0.47966015006207696,
          0.3781794252082149,
          -0.5938528724003649,
          -0.47746550132974797,
          -0.17832493796450732,
          0.7615438976731925,
          0.7993858197179717,
          -0.8946146448580397,
          -0.3183454766923792,
          -0.6467224714135049,
          -0.0005582874409684191,
          -0.10830960907965381,
          -0.7360525885733007,
          0.37665622028835233,
          0.5136749796581674,
          -0.7866420655809603,
          0.2472445123506386,
          -0.47227629670588955,
          0.8363423621612907,
          0.6252754183594142,
          0.280412077148932,
          -0.5098997612106211,
          0.2676042617959953,
          -0.021236028693154996,
          0.9255875318884581,
          0.02557903648463733,
          -0.6019982587401647,
          0.55339937418259,
          0.9191657239723152,
          0.7118637393877172,
          -0.9259476842179621,
          0.6227997540368972,
          0.4905523699823169,
          0.08709516794307315,
          -0.916981223636609,
          0.16173609046268544,
          -0.011336632880011743,
          0.020018382483688146,
          -0.17916726182630538,
          0.6538606743113224,
          0.09851637943126645,
          -0.9107679186124953,
          -0.7243793135742211,
          -0.2985608649022251,
          0.591119295958006,
          0.17447077486964213,
          0.3494413622217081,
          0.1813626148336378,
          0.22694023652420392,
          0.7312551096316622,
          -0.9222431926504613,
          0.6980320017389645,
          -0.5394534444267018,
          0.4050378848881653,
          0.49900483590296196,
          -0.18928941380463593,
          0.8847341069243402,
          0.37753506491210786,
          -0.0912938254439708
         ],
         "yaxis": "y"
        }
       ],
       "layout": {
        "autosize": true,
        "legend": {
         "title": {
          "text": "label"
         },
         "tracegroupgap": 0
        },
        "margin": {
         "t": 60
        },
        "plot_bgcolor": "white",
        "template": {
         "data": {
          "bar": [
           {
            "error_x": {
             "color": "#2a3f5f"
            },
            "error_y": {
             "color": "#2a3f5f"
            },
            "marker": {
             "line": {
              "color": "#E5ECF6",
              "width": 0.5
             },
             "pattern": {
              "fillmode": "overlay",
              "size": 10,
              "solidity": 0.2
             }
            },
            "type": "bar"
           }
          ],
          "barpolar": [
           {
            "marker": {
             "line": {
              "color": "#E5ECF6",
              "width": 0.5
             },
             "pattern": {
              "fillmode": "overlay",
              "size": 10,
              "solidity": 0.2
             }
            },
            "type": "barpolar"
           }
          ],
          "carpet": [
           {
            "aaxis": {
             "endlinecolor": "#2a3f5f",
             "gridcolor": "white",
             "linecolor": "white",
             "minorgridcolor": "white",
             "startlinecolor": "#2a3f5f"
            },
            "baxis": {
             "endlinecolor": "#2a3f5f",
             "gridcolor": "white",
             "linecolor": "white",
             "minorgridcolor": "white",
             "startlinecolor": "#2a3f5f"
            },
            "type": "carpet"
           }
          ],
          "choropleth": [
           {
            "colorbar": {
             "outlinewidth": 0,
             "ticks": ""
            },
            "type": "choropleth"
           }
          ],
          "contour": [
           {
            "colorbar": {
             "outlinewidth": 0,
             "ticks": ""
            },
            "colorscale": [
             [
              0,
              "#0d0887"
             ],
             [
              0.1111111111111111,
              "#46039f"
             ],
             [
              0.2222222222222222,
              "#7201a8"
             ],
             [
              0.3333333333333333,
              "#9c179e"
             ],
             [
              0.4444444444444444,
              "#bd3786"
             ],
             [
              0.5555555555555556,
              "#d8576b"
             ],
             [
              0.6666666666666666,
              "#ed7953"
             ],
             [
              0.7777777777777778,
              "#fb9f3a"
             ],
             [
              0.8888888888888888,
              "#fdca26"
             ],
             [
              1,
              "#f0f921"
             ]
            ],
            "type": "contour"
           }
          ],
          "contourcarpet": [
           {
            "colorbar": {
             "outlinewidth": 0,
             "ticks": ""
            },
            "type": "contourcarpet"
           }
          ],
          "heatmap": [
           {
            "colorbar": {
             "outlinewidth": 0,
             "ticks": ""
            },
            "colorscale": [
             [
              0,
              "#0d0887"
             ],
             [
              0.1111111111111111,
              "#46039f"
             ],
             [
              0.2222222222222222,
              "#7201a8"
             ],
             [
              0.3333333333333333,
              "#9c179e"
             ],
             [
              0.4444444444444444,
              "#bd3786"
             ],
             [
              0.5555555555555556,
              "#d8576b"
             ],
             [
              0.6666666666666666,
              "#ed7953"
             ],
             [
              0.7777777777777778,
              "#fb9f3a"
             ],
             [
              0.8888888888888888,
              "#fdca26"
             ],
             [
              1,
              "#f0f921"
             ]
            ],
            "type": "heatmap"
           }
          ],
          "heatmapgl": [
           {
            "colorbar": {
             "outlinewidth": 0,
             "ticks": ""
            },
            "colorscale": [
             [
              0,
              "#0d0887"
             ],
             [
              0.1111111111111111,
              "#46039f"
             ],
             [
              0.2222222222222222,
              "#7201a8"
             ],
             [
              0.3333333333333333,
              "#9c179e"
             ],
             [
              0.4444444444444444,
              "#bd3786"
             ],
             [
              0.5555555555555556,
              "#d8576b"
             ],
             [
              0.6666666666666666,
              "#ed7953"
             ],
             [
              0.7777777777777778,
              "#fb9f3a"
             ],
             [
              0.8888888888888888,
              "#fdca26"
             ],
             [
              1,
              "#f0f921"
             ]
            ],
            "type": "heatmapgl"
           }
          ],
          "histogram": [
           {
            "marker": {
             "pattern": {
              "fillmode": "overlay",
              "size": 10,
              "solidity": 0.2
             }
            },
            "type": "histogram"
           }
          ],
          "histogram2d": [
           {
            "colorbar": {
             "outlinewidth": 0,
             "ticks": ""
            },
            "colorscale": [
             [
              0,
              "#0d0887"
             ],
             [
              0.1111111111111111,
              "#46039f"
             ],
             [
              0.2222222222222222,
              "#7201a8"
             ],
             [
              0.3333333333333333,
              "#9c179e"
             ],
             [
              0.4444444444444444,
              "#bd3786"
             ],
             [
              0.5555555555555556,
              "#d8576b"
             ],
             [
              0.6666666666666666,
              "#ed7953"
             ],
             [
              0.7777777777777778,
              "#fb9f3a"
             ],
             [
              0.8888888888888888,
              "#fdca26"
             ],
             [
              1,
              "#f0f921"
             ]
            ],
            "type": "histogram2d"
           }
          ],
          "histogram2dcontour": [
           {
            "colorbar": {
             "outlinewidth": 0,
             "ticks": ""
            },
            "colorscale": [
             [
              0,
              "#0d0887"
             ],
             [
              0.1111111111111111,
              "#46039f"
             ],
             [
              0.2222222222222222,
              "#7201a8"
             ],
             [
              0.3333333333333333,
              "#9c179e"
             ],
             [
              0.4444444444444444,
              "#bd3786"
             ],
             [
              0.5555555555555556,
              "#d8576b"
             ],
             [
              0.6666666666666666,
              "#ed7953"
             ],
             [
              0.7777777777777778,
              "#fb9f3a"
             ],
             [
              0.8888888888888888,
              "#fdca26"
             ],
             [
              1,
              "#f0f921"
             ]
            ],
            "type": "histogram2dcontour"
           }
          ],
          "mesh3d": [
           {
            "colorbar": {
             "outlinewidth": 0,
             "ticks": ""
            },
            "type": "mesh3d"
           }
          ],
          "parcoords": [
           {
            "line": {
             "colorbar": {
              "outlinewidth": 0,
              "ticks": ""
             }
            },
            "type": "parcoords"
           }
          ],
          "pie": [
           {
            "automargin": true,
            "type": "pie"
           }
          ],
          "scatter": [
           {
            "fillpattern": {
             "fillmode": "overlay",
             "size": 10,
             "solidity": 0.2
            },
            "type": "scatter"
           }
          ],
          "scatter3d": [
           {
            "line": {
             "colorbar": {
              "outlinewidth": 0,
              "ticks": ""
             }
            },
            "marker": {
             "colorbar": {
              "outlinewidth": 0,
              "ticks": ""
             }
            },
            "type": "scatter3d"
           }
          ],
          "scattercarpet": [
           {
            "marker": {
             "colorbar": {
              "outlinewidth": 0,
              "ticks": ""
             }
            },
            "type": "scattercarpet"
           }
          ],
          "scattergeo": [
           {
            "marker": {
             "colorbar": {
              "outlinewidth": 0,
              "ticks": ""
             }
            },
            "type": "scattergeo"
           }
          ],
          "scattergl": [
           {
            "marker": {
             "colorbar": {
              "outlinewidth": 0,
              "ticks": ""
             }
            },
            "type": "scattergl"
           }
          ],
          "scattermapbox": [
           {
            "marker": {
             "colorbar": {
              "outlinewidth": 0,
              "ticks": ""
             }
            },
            "type": "scattermapbox"
           }
          ],
          "scatterpolar": [
           {
            "marker": {
             "colorbar": {
              "outlinewidth": 0,
              "ticks": ""
             }
            },
            "type": "scatterpolar"
           }
          ],
          "scatterpolargl": [
           {
            "marker": {
             "colorbar": {
              "outlinewidth": 0,
              "ticks": ""
             }
            },
            "type": "scatterpolargl"
           }
          ],
          "scatterternary": [
           {
            "marker": {
             "colorbar": {
              "outlinewidth": 0,
              "ticks": ""
             }
            },
            "type": "scatterternary"
           }
          ],
          "surface": [
           {
            "colorbar": {
             "outlinewidth": 0,
             "ticks": ""
            },
            "colorscale": [
             [
              0,
              "#0d0887"
             ],
             [
              0.1111111111111111,
              "#46039f"
             ],
             [
              0.2222222222222222,
              "#7201a8"
             ],
             [
              0.3333333333333333,
              "#9c179e"
             ],
             [
              0.4444444444444444,
              "#bd3786"
             ],
             [
              0.5555555555555556,
              "#d8576b"
             ],
             [
              0.6666666666666666,
              "#ed7953"
             ],
             [
              0.7777777777777778,
              "#fb9f3a"
             ],
             [
              0.8888888888888888,
              "#fdca26"
             ],
             [
              1,
              "#f0f921"
             ]
            ],
            "type": "surface"
           }
          ],
          "table": [
           {
            "cells": {
             "fill": {
              "color": "#EBF0F8"
             },
             "line": {
              "color": "white"
             }
            },
            "header": {
             "fill": {
              "color": "#C8D4E3"
             },
             "line": {
              "color": "white"
             }
            },
            "type": "table"
           }
          ]
         },
         "layout": {
          "annotationdefaults": {
           "arrowcolor": "#2a3f5f",
           "arrowhead": 0,
           "arrowwidth": 1
          },
          "autotypenumbers": "strict",
          "coloraxis": {
           "colorbar": {
            "outlinewidth": 0,
            "ticks": ""
           }
          },
          "colorscale": {
           "diverging": [
            [
             0,
             "#8e0152"
            ],
            [
             0.1,
             "#c51b7d"
            ],
            [
             0.2,
             "#de77ae"
            ],
            [
             0.3,
             "#f1b6da"
            ],
            [
             0.4,
             "#fde0ef"
            ],
            [
             0.5,
             "#f7f7f7"
            ],
            [
             0.6,
             "#e6f5d0"
            ],
            [
             0.7,
             "#b8e186"
            ],
            [
             0.8,
             "#7fbc41"
            ],
            [
             0.9,
             "#4d9221"
            ],
            [
             1,
             "#276419"
            ]
           ],
           "sequential": [
            [
             0,
             "#0d0887"
            ],
            [
             0.1111111111111111,
             "#46039f"
            ],
            [
             0.2222222222222222,
             "#7201a8"
            ],
            [
             0.3333333333333333,
             "#9c179e"
            ],
            [
             0.4444444444444444,
             "#bd3786"
            ],
            [
             0.5555555555555556,
             "#d8576b"
            ],
            [
             0.6666666666666666,
             "#ed7953"
            ],
            [
             0.7777777777777778,
             "#fb9f3a"
            ],
            [
             0.8888888888888888,
             "#fdca26"
            ],
            [
             1,
             "#f0f921"
            ]
           ],
           "sequentialminus": [
            [
             0,
             "#0d0887"
            ],
            [
             0.1111111111111111,
             "#46039f"
            ],
            [
             0.2222222222222222,
             "#7201a8"
            ],
            [
             0.3333333333333333,
             "#9c179e"
            ],
            [
             0.4444444444444444,
             "#bd3786"
            ],
            [
             0.5555555555555556,
             "#d8576b"
            ],
            [
             0.6666666666666666,
             "#ed7953"
            ],
            [
             0.7777777777777778,
             "#fb9f3a"
            ],
            [
             0.8888888888888888,
             "#fdca26"
            ],
            [
             1,
             "#f0f921"
            ]
           ]
          },
          "colorway": [
           "#636efa",
           "#EF553B",
           "#00cc96",
           "#ab63fa",
           "#FFA15A",
           "#19d3f3",
           "#FF6692",
           "#B6E880",
           "#FF97FF",
           "#FECB52"
          ],
          "font": {
           "color": "#2a3f5f"
          },
          "geo": {
           "bgcolor": "white",
           "lakecolor": "white",
           "landcolor": "#E5ECF6",
           "showlakes": true,
           "showland": true,
           "subunitcolor": "white"
          },
          "hoverlabel": {
           "align": "left"
          },
          "hovermode": "closest",
          "mapbox": {
           "style": "light"
          },
          "paper_bgcolor": "white",
          "plot_bgcolor": "#E5ECF6",
          "polar": {
           "angularaxis": {
            "gridcolor": "white",
            "linecolor": "white",
            "ticks": ""
           },
           "bgcolor": "#E5ECF6",
           "radialaxis": {
            "gridcolor": "white",
            "linecolor": "white",
            "ticks": ""
           }
          },
          "scene": {
           "xaxis": {
            "backgroundcolor": "#E5ECF6",
            "gridcolor": "white",
            "gridwidth": 2,
            "linecolor": "white",
            "showbackground": true,
            "ticks": "",
            "zerolinecolor": "white"
           },
           "yaxis": {
            "backgroundcolor": "#E5ECF6",
            "gridcolor": "white",
            "gridwidth": 2,
            "linecolor": "white",
            "showbackground": true,
            "ticks": "",
            "zerolinecolor": "white"
           },
           "zaxis": {
            "backgroundcolor": "#E5ECF6",
            "gridcolor": "white",
            "gridwidth": 2,
            "linecolor": "white",
            "showbackground": true,
            "ticks": "",
            "zerolinecolor": "white"
           }
          },
          "shapedefaults": {
           "line": {
            "color": "#2a3f5f"
           }
          },
          "ternary": {
           "aaxis": {
            "gridcolor": "white",
            "linecolor": "white",
            "ticks": ""
           },
           "baxis": {
            "gridcolor": "white",
            "linecolor": "white",
            "ticks": ""
           },
           "bgcolor": "#E5ECF6",
           "caxis": {
            "gridcolor": "white",
            "linecolor": "white",
            "ticks": ""
           }
          },
          "title": {
           "x": 0.05
          },
          "xaxis": {
           "automargin": true,
           "gridcolor": "white",
           "linecolor": "white",
           "ticks": "",
           "title": {
            "standoff": 15
           },
           "zerolinecolor": "white",
           "zerolinewidth": 2
          },
          "yaxis": {
           "automargin": true,
           "gridcolor": "white",
           "linecolor": "white",
           "ticks": "",
           "title": {
            "standoff": 15
           },
           "zerolinecolor": "white",
           "zerolinewidth": 2
          }
         }
        },
        "xaxis": {
         "anchor": "y",
         "autorange": true,
         "domain": [
          0,
          1
         ],
         "range": [
          -3.5288896334553694,
          1.9136552584553694
         ],
         "showgrid": false,
         "title": {
          "text": "Value"
         },
         "type": "linear"
        },
        "yaxis": {
         "anchor": "x",
         "autorange": true,
         "domain": [
          0,
          1
         ],
         "range": [
          -1.103475005205083,
          1.1507196873217544
         ],
         "showgrid": false,
         "showticklabels": false,
         "title": {
          "text": "y"
         },
         "type": "linear",
         "zeroline": true,
         "zerolinecolor": "black",
         "zerolinewidth": 3
        }
       }
      },
      "image/png": "[encoded data removed]",
      "text/html": [
       "<div>                            <div id=\"e56332ec-53d1-460e-a9fe-7ef148f246d0\" class=\"plotly-graph-div\" style=\"height:200px; width:100%;\"></div>            <script type=\"text/javascript\">                require([\"plotly\"], function(Plotly) {                    window.PLOTLYENV=window.PLOTLYENV || {};                                    if (document.getElementById(\"e56332ec-53d1-460e-a9fe-7ef148f246d0\")) {                    Plotly.newPlot(                        \"e56332ec-53d1-460e-a9fe-7ef148f246d0\",                        [{\"hovertemplate\":\"label=true\\u003cbr\\u003eValue=%{x}\\u003cbr\\u003ey=%{y}\\u003cextra\\u003e\\u003c\\u002fextra\\u003e\",\"legendgroup\":\"true\",\"marker\":{\"color\":\"#636efa\",\"symbol\":\"circle\"},\"mode\":\"markers\",\"name\":\"true\",\"orientation\":\"v\",\"showlegend\":true,\"x\":[1.6005859375,1.2001953125,1.1796875,1.115234375,0.58984375,0.41162109375,0.623046875,0.5107421875,0.1728515625,1.6005859375,0.56201171875,0.39794921875,0.31201171875,0.391845703125,0.556640625,0.7998046875,0.669921875,1.0146484375,1.60546875,0.61669921875,0.54052734375,0.53173828125,0.521484375,0.47998046875,0.57666015625,0.25146484375,0.3544921875,1.048828125,1.076171875,0.80126953125,0.19580078125,0.12408447265625,0.2396240234375,1.6015625,0.541015625,0.419677734375,0.47412109375,0.76025390625,1.6015625,0.51171875,1.60546875,0.428955078125,0.2420654296875,0.2349853515625,0.333251953125,0.485595703125,1.60546875,0.428955078125,0.261962890625,0.2452392578125,0.56494140625,1.60546875,0.437744140625,0.05267333984375,0.027557373046875,0.623046875,-0.032470703125,0.21044921875,0.2900390625,0.2578125,0.6865234375,0.54736328125,0.900390625,0.7568359375,0.45458984375,0.5439453125,0.387451171875,0.70703125,1.6005859375,0.64599609375,0.23046875,0.303466796875,0.2137451171875,0.666015625,0.744140625,0.4375,0.308349609375,0.14404296875,0.054840087890625,0.08001708984375,0.69091796875,0.72998046875,0.6796875,0.470703125,1.6015625,0.76171875,0.90234375,1.1572265625,1.2373046875,0.6533203125,0.86669921875,0.23681640625,0.08740234375,-0.007633209228515625,0.01030731201171875,1.5986328125,0.56005859375,0.387939453125,0.478515625,0.359375,0.3125,0.44775390625,1.169921875,1.1005859375,0.89208984375,0.97314453125,0.84716796875,0.64501953125,0.44384765625,0.186767578125,0.464599609375,0.274169921875,0.07000732421875,0.0966796875,0.05609130859375,0.63037109375,0.3603515625,0.37060546875,0.90283203125,1.4697265625,1.380859375,0.58642578125,0.35400390625,0.50146484375,0.55615234375,0.415771484375,0.56494140625,0.6513671875],\"xaxis\":\"x\",\"y\":[-0.07731209388108473,0.7560967350201628,0.7265948387680987,0.8635945613921909,-0.308816430076009,0.7037169190344399,-0.5735908483737784,-0.8309187880547004,-0.4103837718434393,-0.9523414974106701,-0.7901642961032567,0.7845593966982922,-0.36092452782570894,-0.6940701355376657,-0.16140864491306894,0.3655184120131696,-0.7924456437090426,-0.03637002916419729,-0.6784442511793245,0.5799809625456003,0.3441567834165695,0.5592331664514814,0.7447020545109331,0.5993676339764535,0.7481631923436092,-0.47164286933137856,-0.16851158656007592,0.7675517543084658,-0.5192031242273993,-0.34906649126515,0.3349381647875038,-0.18381076852550038,0.49901977074831394,0.1399655942917728,-0.6109140074149457,-0.7383164082671798,0.6011643783546718,-0.20399037873939418,-0.5377001982635568,-0.7780047227536333,-0.5157551848957229,-0.198266797287733,-0.07519627371998383,0.6802101101614346,-0.9428215461391662,0.8159141526722371,0.11608062125909391,0.19143429339907492,0.7796869217351079,-0.5252503162946505,0.39606256447718224,0.2550085505551356,-0.047441493354110964,-0.13771343740092634,0.9995861795273415,-0.8425828136938642,-0.8968718924402597,-0.6620203994935083,-0.2001008732263756,0.7009892178235402,0.8380213652591022,0.223283493022842,-0.6328259496231758,0.33253589848166887,-0.6303659584036858,0.1739917837600844,-0.1826141275398383,-0.5545909232504962,-0.2969813093658418,-0.5215354187247063,0.9995149865335415,0.6321772910605628,0.33771664604559315,-0.30514087921821154,0.4218923735326814,-0.3364937598446176,0.5464921076674076,-0.5897045690670557,-0.5073878235986538,-0.6235604171053124,0.21608284270757205,-0.848423888467855,0.2735551821053557,-0.6478481223574957,0.660143527413305,-0.9274214495510498,-0.8316180102183315,0.7960975421997833,0.45442069658438444,0.8234141770453549,0.7349001577464094,0.8892960702149642,0.9312885554759007,0.2342161374166125,0.7168899967407896,0.4563329411054913,0.4407290914253441,0.8717261643564287,-0.9275624051628875,0.6207373010403032,0.7611414422418934,0.7437863721097262,-0.16400181683298842,-0.6926748117281507,-0.7982668317928616,-0.7237425368989898,0.2319500878369769,-0.4189469923401661,0.7797559275875532,-0.33575762481116334,0.636764715993553,0.5894208983442366,-0.32843353384424434,-0.276768296753765,-0.7224823548736372,-0.050612877845953363,-0.14437827006308424,0.5830717759271531,-0.5034865298634659,-0.221906628190645,0.4489896222406222,0.8285254323979792,-0.3592926784361523,-0.197932264491411,0.7502421032701672,0.6476805914639396,-0.6152319791067495,-0.45306580017163633],\"yaxis\":\"y\",\"type\":\"scatter\"},{\"hovertemplate\":\"label=lie\\u003cbr\\u003eValue=%{x}\\u003cbr\\u003ey=%{y}\\u003cextra\\u003e\\u003c\\u002fextra\\u003e\",\"legendgroup\":\"lie\",\"marker\":{\"color\":\"#EF553B\",\"symbol\":\"circle\"},\"mode\":\"markers\",\"name\":\"lie\",\"orientation\":\"v\",\"showlegend\":true,\"x\":[-2.388671875,-1.8173828125,-0.9208984375,-1.8349609375,-0.6513671875,-0.46240234375,-1.015625,-0.94091796875,-0.83642578125,-2.390625,-1.677734375,-0.292236328125,-0.52685546875,-0.7041015625,-0.66357421875,-1.3037109375,-1.337890625,-2.44921875,-2.388671875,-1.2646484375,-1.4208984375,-1.146484375,-2.138671875,-0.95849609375,-1.396484375,-0.52685546875,-0.296142578125,-1.412109375,-1.564453125,-0.306640625,-0.1597900390625,-0.1429443359375,-0.167724609375,-2.38671875,-0.81884765625,-0.184326171875,-0.1287841796875,-0.44873046875,-2.38671875,-1.6845703125,-2.388671875,-1.1318359375,-0.8349609375,-0.82861328125,-0.8173828125,-0.9638671875,-2.388671875,-1.1318359375,-0.6982421875,-0.68408203125,-0.708984375,-2.388671875,-0.685546875,-0.6201171875,-0.96728515625,-0.86572265625,-3.220703125,-2.349609375,-1.265625,-1.427734375,-0.89794921875,-0.60400390625,-3.017578125,-1.7978515625,-0.57568359375,-0.33837890625,0.057220458984375,-0.06689453125,-2.388671875,-0.88818359375,-1.0673828125,-0.63623046875,-0.62939453125,-1.44140625,-2.021484375,-0.7421875,-0.748046875,-0.10693359375,-0.24169921875,-0.1900634765625,-1.177734375,-1.021484375,-3.05078125,-1.31640625,-2.388671875,-1.279296875,-1.513671875,-3.001953125,-1.7978515625,-0.91552734375,-1.3037109375,-1.7294921875,-1.6025390625,-0.701171875,-0.61767578125,-2.388671875,-1.6787109375,-0.3154296875,-0.8779296875,0.0384521484375,-0.26806640625,-0.52783203125,-1.080078125,-1.0009765625,-0.1864013671875,0.22509765625,0.0036869049072265625,0.341552734375,0.276123046875,0.1236572265625,0.349365234375,0.1795654296875,-0.1058349609375,-0.09173583984375,-0.05279541015625,-0.517578125,-0.1485595703125,-0.1156005859375,-0.78955078125,-2.302734375,-2.0703125,-0.7255859375,-1.6767578125,-2.876953125,-2.45703125,-1.646484375,-1.501953125,-1.2763671875],\"xaxis\":\"x\",\"y\":[0.04248311700708274,-0.06816925319751199,0.9617806207018236,-0.8842360916597718,-0.6427987269072828,0.1768479478381595,-0.1654790956503367,-0.10081730955736923,0.14194562798003352,0.9363551093804787,-0.4222703750202401,0.8894148250439877,-0.2538386748984933,0.5765202259751354,0.2248461436661391,-0.6708094684702934,-0.35462186247018357,-0.21569630403636153,-0.4813353803492899,0.1803815637283892,-0.50630855985181,0.36491711062621013,-0.05068510950790084,-0.6045315007297045,0.9278625926672799,0.6099291491945433,0.24643936940870437,0.21772027339478983,-0.15899959495830873,0.04592166941378695,0.48866282236154435,0.8590321580234379,-0.916722816982378,-0.16482114224423206,-0.21755379265924746,-0.19164963424535797,-0.6277669717929082,-0.20286922866220602,-0.10496244276113464,0.8652367560283676,-0.5113616695798178,-0.761510196337505,0.5052044221195251,0.6241183623430062,0.5199249884320449,0.6805961665006361,-0.28711638246785753,0.026529328037323108,-0.1927707415533153,0.5877055281425061,-0.78375255646318,0.4185046388396618,-0.153401877235551,-0.30485332041870206,0.9299841355109195,-0.7915730984126581,-0.10790341840954465,-0.6049341258276604,-0.4055721191660502,-0.21072759236965233,0.6237377259371397,-0.40021329174773124,0.013046491679229666,0.23750820317403742,-0.8184539562987669,0.4970645970754066,0.9090424777946304,0.04070973351067475,-0.6771732406246138,0.47966015006207696,0.3781794252082149,-0.5938528724003649,-0.47746550132974797,-0.17832493796450732,0.7615438976731925,0.7993858197179717,-0.8946146448580397,-0.3183454766923792,-0.6467224714135049,-0.0005582874409684191,-0.10830960907965381,-0.7360525885733007,0.37665622028835233,0.5136749796581674,-0.7866420655809603,0.2472445123506386,-0.47227629670588955,0.8363423621612907,0.6252754183594142,0.280412077148932,-0.5098997612106211,0.2676042617959953,-0.021236028693154996,0.9255875318884581,0.02557903648463733,-0.6019982587401647,0.55339937418259,0.9191657239723152,0.7118637393877172,-0.9259476842179621,0.6227997540368972,0.4905523699823169,0.08709516794307315,-0.916981223636609,0.16173609046268544,-0.011336632880011743,0.020018382483688146,-0.17916726182630538,0.6538606743113224,0.09851637943126645,-0.9107679186124953,-0.7243793135742211,-0.2985608649022251,0.591119295958006,0.17447077486964213,0.3494413622217081,0.1813626148336378,0.22694023652420392,0.7312551096316622,-0.9222431926504613,0.6980320017389645,-0.5394534444267018,0.4050378848881653,0.49900483590296196,-0.18928941380463593,0.8847341069243402,0.37753506491210786,-0.0912938254439708],\"yaxis\":\"y\",\"type\":\"scatter\"}],                        {\"template\":{\"data\":{\"histogram2dcontour\":[{\"type\":\"histogram2dcontour\",\"colorbar\":{\"outlinewidth\":0,\"ticks\":\"\"},\"colorscale\":[[0.0,\"#0d0887\"],[0.1111111111111111,\"#46039f\"],[0.2222222222222222,\"#7201a8\"],[0.3333333333333333,\"#9c179e\"],[0.4444444444444444,\"#bd3786\"],[0.5555555555555556,\"#d8576b\"],[0.6666666666666666,\"#ed7953\"],[0.7777777777777778,\"#fb9f3a\"],[0.8888888888888888,\"#fdca26\"],[1.0,\"#f0f921\"]]}],\"choropleth\":[{\"type\":\"choropleth\",\"colorbar\":{\"outlinewidth\":0,\"ticks\":\"\"}}],\"histogram2d\":[{\"type\":\"histogram2d\",\"colorbar\":{\"outlinewidth\":0,\"ticks\":\"\"},\"colorscale\":[[0.0,\"#0d0887\"],[0.1111111111111111,\"#46039f\"],[0.2222222222222222,\"#7201a8\"],[0.3333333333333333,\"#9c179e\"],[0.4444444444444444,\"#bd3786\"],[0.5555555555555556,\"#d8576b\"],[0.6666666666666666,\"#ed7953\"],[0.7777777777777778,\"#fb9f3a\"],[0.8888888888888888,\"#fdca26\"],[1.0,\"#f0f921\"]]}],\"heatmap\":[{\"type\":\"heatmap\",\"colorbar\":{\"outlinewidth\":0,\"ticks\":\"\"},\"colorscale\":[[0.0,\"#0d0887\"],[0.1111111111111111,\"#46039f\"],[0.2222222222222222,\"#7201a8\"],[0.3333333333333333,\"#9c179e\"],[0.4444444444444444,\"#bd3786\"],[0.5555555555555556,\"#d8576b\"],[0.6666666666666666,\"#ed7953\"],[0.7777777777777778,\"#fb9f3a\"],[0.8888888888888888,\"#fdca26\"],[1.0,\"#f0f921\"]]}],\"heatmapgl\":[{\"type\":\"heatmapgl\",\"colorbar\":{\"outlinewidth\":0,\"ticks\":\"\"},\"colorscale\":[[0.0,\"#0d0887\"],[0.1111111111111111,\"#46039f\"],[0.2222222222222222,\"#7201a8\"],[0.3333333333333333,\"#9c179e\"],[0.4444444444444444,\"#bd3786\"],[0.5555555555555556,\"#d8576b\"],[0.6666666666666666,\"#ed7953\"],[0.7777777777777778,\"#fb9f3a\"],[0.8888888888888888,\"#fdca26\"],[1.0,\"#f0f921\"]]}],\"contourcarpet\":[{\"type\":\"contourcarpet\",\"colorbar\":{\"outlinewidth\":0,\"ticks\":\"\"}}],\"contour\":[{\"type\":\"contour\",\"colorbar\":{\"outlinewidth\":0,\"ticks\":\"\"},\"colorscale\":[[0.0,\"#0d0887\"],[0.1111111111111111,\"#46039f\"],[0.2222222222222222,\"#7201a8\"],[0.3333333333333333,\"#9c179e\"],[0.4444444444444444,\"#bd3786\"],[0.5555555555555556,\"#d8576b\"],[0.6666666666666666,\"#ed7953\"],[0.7777777777777778,\"#fb9f3a\"],[0.8888888888888888,\"#fdca26\"],[1.0,\"#f0f921\"]]}],\"surface\":[{\"type\":\"surface\",\"colorbar\":{\"outlinewidth\":0,\"ticks\":\"\"},\"colorscale\":[[0.0,\"#0d0887\"],[0.1111111111111111,\"#46039f\"],[0.2222222222222222,\"#7201a8\"],[0.3333333333333333,\"#9c179e\"],[0.4444444444444444,\"#bd3786\"],[0.5555555555555556,\"#d8576b\"],[0.6666666666666666,\"#ed7953\"],[0.7777777777777778,\"#fb9f3a\"],[0.8888888888888888,\"#fdca26\"],[1.0,\"#f0f921\"]]}],\"mesh3d\":[{\"type\":\"mesh3d\",\"colorbar\":{\"outlinewidth\":0,\"ticks\":\"\"}}],\"scatter\":[{\"fillpattern\":{\"fillmode\":\"overlay\",\"size\":10,\"solidity\":0.2},\"type\":\"scatter\"}],\"parcoords\":[{\"type\":\"parcoords\",\"line\":{\"colorbar\":{\"outlinewidth\":0,\"ticks\":\"\"}}}],\"scatterpolargl\":[{\"type\":\"scatterpolargl\",\"marker\":{\"colorbar\":{\"outlinewidth\":0,\"ticks\":\"\"}}}],\"bar\":[{\"error_x\":{\"color\":\"#2a3f5f\"},\"error_y\":{\"color\":\"#2a3f5f\"},\"marker\":{\"line\":{\"color\":\"#E5ECF6\",\"width\":0.5},\"pattern\":{\"fillmode\":\"overlay\",\"size\":10,\"solidity\":0.2}},\"type\":\"bar\"}],\"scattergeo\":[{\"type\":\"scattergeo\",\"marker\":{\"colorbar\":{\"outlinewidth\":0,\"ticks\":\"\"}}}],\"scatterpolar\":[{\"type\":\"scatterpolar\",\"marker\":{\"colorbar\":{\"outlinewidth\":0,\"ticks\":\"\"}}}],\"histogram\":[{\"marker\":{\"pattern\":{\"fillmode\":\"overlay\",\"size\":10,\"solidity\":0.2}},\"type\":\"histogram\"}],\"scattergl\":[{\"type\":\"scattergl\",\"marker\":{\"colorbar\":{\"outlinewidth\":0,\"ticks\":\"\"}}}],\"scatter3d\":[{\"type\":\"scatter3d\",\"line\":{\"colorbar\":{\"outlinewidth\":0,\"ticks\":\"\"}},\"marker\":{\"colorbar\":{\"outlinewidth\":0,\"ticks\":\"\"}}}],\"scattermapbox\":[{\"type\":\"scattermapbox\",\"marker\":{\"colorbar\":{\"outlinewidth\":0,\"ticks\":\"\"}}}],\"scatterternary\":[{\"type\":\"scatterternary\",\"marker\":{\"colorbar\":{\"outlinewidth\":0,\"ticks\":\"\"}}}],\"scattercarpet\":[{\"type\":\"scattercarpet\",\"marker\":{\"colorbar\":{\"outlinewidth\":0,\"ticks\":\"\"}}}],\"carpet\":[{\"aaxis\":{\"endlinecolor\":\"#2a3f5f\",\"gridcolor\":\"white\",\"linecolor\":\"white\",\"minorgridcolor\":\"white\",\"startlinecolor\":\"#2a3f5f\"},\"baxis\":{\"endlinecolor\":\"#2a3f5f\",\"gridcolor\":\"white\",\"linecolor\":\"white\",\"minorgridcolor\":\"white\",\"startlinecolor\":\"#2a3f5f\"},\"type\":\"carpet\"}],\"table\":[{\"cells\":{\"fill\":{\"color\":\"#EBF0F8\"},\"line\":{\"color\":\"white\"}},\"header\":{\"fill\":{\"color\":\"#C8D4E3\"},\"line\":{\"color\":\"white\"}},\"type\":\"table\"}],\"barpolar\":[{\"marker\":{\"line\":{\"color\":\"#E5ECF6\",\"width\":0.5},\"pattern\":{\"fillmode\":\"overlay\",\"size\":10,\"solidity\":0.2}},\"type\":\"barpolar\"}],\"pie\":[{\"automargin\":true,\"type\":\"pie\"}]},\"layout\":{\"autotypenumbers\":\"strict\",\"colorway\":[\"#636efa\",\"#EF553B\",\"#00cc96\",\"#ab63fa\",\"#FFA15A\",\"#19d3f3\",\"#FF6692\",\"#B6E880\",\"#FF97FF\",\"#FECB52\"],\"font\":{\"color\":\"#2a3f5f\"},\"hovermode\":\"closest\",\"hoverlabel\":{\"align\":\"left\"},\"paper_bgcolor\":\"white\",\"plot_bgcolor\":\"#E5ECF6\",\"polar\":{\"bgcolor\":\"#E5ECF6\",\"angularaxis\":{\"gridcolor\":\"white\",\"linecolor\":\"white\",\"ticks\":\"\"},\"radialaxis\":{\"gridcolor\":\"white\",\"linecolor\":\"white\",\"ticks\":\"\"}},\"ternary\":{\"bgcolor\":\"#E5ECF6\",\"aaxis\":{\"gridcolor\":\"white\",\"linecolor\":\"white\",\"ticks\":\"\"},\"baxis\":{\"gridcolor\":\"white\",\"linecolor\":\"white\",\"ticks\":\"\"},\"caxis\":{\"gridcolor\":\"white\",\"linecolor\":\"white\",\"ticks\":\"\"}},\"coloraxis\":{\"colorbar\":{\"outlinewidth\":0,\"ticks\":\"\"}},\"colorscale\":{\"sequential\":[[0.0,\"#0d0887\"],[0.1111111111111111,\"#46039f\"],[0.2222222222222222,\"#7201a8\"],[0.3333333333333333,\"#9c179e\"],[0.4444444444444444,\"#bd3786\"],[0.5555555555555556,\"#d8576b\"],[0.6666666666666666,\"#ed7953\"],[0.7777777777777778,\"#fb9f3a\"],[0.8888888888888888,\"#fdca26\"],[1.0,\"#f0f921\"]],\"sequentialminus\":[[0.0,\"#0d0887\"],[0.1111111111111111,\"#46039f\"],[0.2222222222222222,\"#7201a8\"],[0.3333333333333333,\"#9c179e\"],[0.4444444444444444,\"#bd3786\"],[0.5555555555555556,\"#d8576b\"],[0.6666666666666666,\"#ed7953\"],[0.7777777777777778,\"#fb9f3a\"],[0.8888888888888888,\"#fdca26\"],[1.0,\"#f0f921\"]],\"diverging\":[[0,\"#8e0152\"],[0.1,\"#c51b7d\"],[0.2,\"#de77ae\"],[0.3,\"#f1b6da\"],[0.4,\"#fde0ef\"],[0.5,\"#f7f7f7\"],[0.6,\"#e6f5d0\"],[0.7,\"#b8e186\"],[0.8,\"#7fbc41\"],[0.9,\"#4d9221\"],[1,\"#276419\"]]},\"xaxis\":{\"gridcolor\":\"white\",\"linecolor\":\"white\",\"ticks\":\"\",\"title\":{\"standoff\":15},\"zerolinecolor\":\"white\",\"automargin\":true,\"zerolinewidth\":2},\"yaxis\":{\"gridcolor\":\"white\",\"linecolor\":\"white\",\"ticks\":\"\",\"title\":{\"standoff\":15},\"zerolinecolor\":\"white\",\"automargin\":true,\"zerolinewidth\":2},\"scene\":{\"xaxis\":{\"backgroundcolor\":\"#E5ECF6\",\"gridcolor\":\"white\",\"linecolor\":\"white\",\"showbackground\":true,\"ticks\":\"\",\"zerolinecolor\":\"white\",\"gridwidth\":2},\"yaxis\":{\"backgroundcolor\":\"#E5ECF6\",\"gridcolor\":\"white\",\"linecolor\":\"white\",\"showbackground\":true,\"ticks\":\"\",\"zerolinecolor\":\"white\",\"gridwidth\":2},\"zaxis\":{\"backgroundcolor\":\"#E5ECF6\",\"gridcolor\":\"white\",\"linecolor\":\"white\",\"showbackground\":true,\"ticks\":\"\",\"zerolinecolor\":\"white\",\"gridwidth\":2}},\"shapedefaults\":{\"line\":{\"color\":\"#2a3f5f\"}},\"annotationdefaults\":{\"arrowcolor\":\"#2a3f5f\",\"arrowhead\":0,\"arrowwidth\":1},\"geo\":{\"bgcolor\":\"white\",\"landcolor\":\"#E5ECF6\",\"subunitcolor\":\"white\",\"showland\":true,\"showlakes\":true,\"lakecolor\":\"white\"},\"title\":{\"x\":0.05},\"mapbox\":{\"style\":\"light\"}}},\"xaxis\":{\"anchor\":\"y\",\"domain\":[0.0,1.0],\"title\":{\"text\":\"Value\"},\"showgrid\":false},\"yaxis\":{\"anchor\":\"x\",\"domain\":[0.0,1.0],\"title\":{\"text\":\"y\"},\"showgrid\":false,\"zeroline\":true,\"zerolinecolor\":\"black\",\"zerolinewidth\":3,\"showticklabels\":false},\"legend\":{\"title\":{\"text\":\"label\"},\"tracegroupgap\":0},\"margin\":{\"t\":60},\"height\":200,\"plot_bgcolor\":\"white\"},                        {\"responsive\": true}                    ).then(function(){\n",
       "                            \n",
       "var gd = document.getElementById('e56332ec-53d1-460e-a9fe-7ef148f246d0');\n",
       "var x = new MutationObserver(function (mutations, observer) {{\n",
       "        var display = window.getComputedStyle(gd).display;\n",
       "        if (!display || display === 'none') {{\n",
       "            console.log([gd, 'removed!']);\n",
       "            Plotly.purge(gd);\n",
       "            observer.disconnect();\n",
       "        }}\n",
       "}});\n",
       "\n",
       "// Listen for the removal of the full notebook cells\n",
       "var notebookContainer = gd.closest('#notebook-container');\n",
       "if (notebookContainer) {{\n",
       "    x.observe(notebookContainer, {childList: true});\n",
       "}}\n",
       "\n",
       "// Listen for the clearing of the current output cell\n",
       "var outputEl = gd.closest('.output');\n",
       "if (outputEl) {{\n",
       "    x.observe(outputEl, {childList: true});\n",
       "}}\n",
       "\n",
       "                        })                };                });            </script>        </div>"
      ]
     },
     "metadata": {},
     "output_type": "display_data"
    }
   ],
   "source": [
    "# Visualize the projections\n",
    "\n",
    "from lmdoctor import plot_utils, detection_utils\n",
    "proj_pairs = detection_utils.act_pairs_to_projs(doc.train_acts, doc.direction_info, len(doc.statement_pairs['train']))\n",
    "\n",
    "layer = 15\n",
    "projs_true = proj_pairs[0, :, layer]\n",
    "projs_lie = proj_pairs[1, :, layer]\n",
    "plot_utils.plot_projs_on_numberline(projs_true, projs_lie)"
   ]
  },
  {
   "cell_type": "code",
   "execution_count": 13,
   "id": "5d44b91e-8436-42f8-82ec-d8c911255bd0",
   "metadata": {},
   "outputs": [
    {
     "data": {
      "application/vnd.plotly.v1+json": {
       "config": {
        "plotlyServerURL": "https://plot.ly"
       },
       "data": [
        {
         "coloraxis": "coloraxis",
         "hovertemplate": "Token: %{x}<br>y: %{y}<br>color: %{z}<extra></extra>",
         "name": "0",
         "type": "heatmap",
         "xaxis": "x",
         "yaxis": "y",
         "z": [
          [
           -0.035369873046875,
           -0.021881103515625,
           -0.01531219482421875,
           -0.016082763671875,
           -0.01001739501953125,
           0.006988525390625,
           -0.00402069091796875,
           -0.0207366943359375,
           -0.03863525390625,
           -0.01111602783203125,
           -0.006908416748046875,
           0.002368927001953125,
           0.003505706787109375,
           -0.0006070137023925781,
           -0.00907135009765625,
           -0.011566162109375,
           -0.010894775390625,
           0.009765625,
           -0.01032257080078125,
           -0.015472412109375,
           -0.0106201171875,
           -0.0244293212890625,
           -0.016021728515625,
           -0.01087188720703125,
           -0.016387939453125,
           -0.0202789306640625,
           -0.023590087890625,
           -0.0020961761474609375,
           -0.0296478271484375,
           -0.02154541015625,
           -0.01364898681640625,
           -0.01036834716796875,
           -0.007328033447265625,
           -0.004344940185546875,
           -0.004833221435546875
          ],
          [
           -38.1875,
           -0.21240234375,
           -0.00565338134765625,
           -0.038177490234375,
           -0.01158905029296875,
           0.03839111328125,
           0.0235137939453125,
           -0.0030193328857421875,
           -0.031646728515625,
           0.003482818603515625,
           0.0006337165832519531,
           0.017425537109375,
           0.0240478515625,
           0.0244293212890625,
           0.005489349365234375,
           -0.0304718017578125,
           -0.0289764404296875,
           -0.008087158203125,
           -0.03021240234375,
           -0.0224761962890625,
           -0.038116455078125,
           -0.055694580078125,
           -0.0499267578125,
           -0.046234130859375,
           -0.01849365234375,
           -0.05853271484375,
           -0.030975341796875,
           -0.0360107421875,
           -0.037078857421875,
           -0.034088134765625,
           -0.04168701171875,
           -0.044158935546875,
           -0.039794921875,
           -0.02880859375,
           -0.024658203125
          ],
          [
           -0.55810546875,
           0.0322265625,
           0.0426025390625,
           0.006511688232421875,
           0.038421630859375,
           0.05328369140625,
           0.0200042724609375,
           0.018035888671875,
           0.0289154052734375,
           0.013916015625,
           0.0146942138671875,
           0.047943115234375,
           0.0333251953125,
           0.0166778564453125,
           0.0228424072265625,
           -0.00582122802734375,
           -0.01177978515625,
           -0.0182952880859375,
           -0.0140838623046875,
           0.01494598388671875,
           -0.00859832763671875,
           -0.006572723388671875,
           -0.01396942138671875,
           -0.001720428466796875,
           0.049163818359375,
           0.0015430450439453125,
           -0.0161895751953125,
           -0.0036602020263671875,
           0.0306396484375,
           -0.0217742919921875,
           -0.01384735107421875,
           0.0005297660827636719,
           -0.007904052734375,
           0.00372314453125,
           0.0174407958984375
          ],
          [
           -1.5185546875,
           0.036712646484375,
           0.0540771484375,
           0.04376220703125,
           0.1043701171875,
           0.10302734375,
           0.065673828125,
           0.035400390625,
           0.04498291015625,
           0.05615234375,
           0.029266357421875,
           0.06201171875,
           0.0016736984252929688,
           -0.10345458984375,
           -0.09423828125,
           -0.14599609375,
           -0.07073974609375,
           -0.07318115234375,
           -0.072265625,
           -0.048370361328125,
           -0.06256103515625,
           -0.048980712890625,
           -0.016632080078125,
           -0.01537322998046875,
           0.025909423828125,
           -0.01311492919921875,
           0.057891845703125,
           -0.0181732177734375,
           0.014984130859375,
           -0.01971435546875,
           -0.0364990234375,
           -0.0009632110595703125,
           -0.003238677978515625,
           0.0284881591796875,
           0.07867431640625
          ],
          [
           5.03125,
           0.11962890625,
           0.0297088623046875,
           0.035369873046875,
           0.11724853515625,
           0.0999755859375,
           0.046142578125,
           -0.0172119140625,
           0.0908203125,
           0.0172119140625,
           0.0265045166015625,
           0.0850830078125,
           0.04791259765625,
           -0.024444580078125,
           -0.0186920166015625,
           -0.100830078125,
           -0.0712890625,
           -0.037811279296875,
           -0.0257110595703125,
           -0.0244140625,
           -0.031646728515625,
           -0.010833740234375,
           -0.01873779296875,
           -0.031768798828125,
           -0.03179931640625,
           0.01346588134765625,
           -0.0193023681640625,
           -0.0300750732421875,
           0.0266876220703125,
           -0.02105712890625,
           -0.0396728515625,
           -0.0299224853515625,
           -0.048828125,
           -0.0147705078125,
           0.01546478271484375
          ],
          [
           -6.90234375,
           -0.07537841796875,
           -0.0643310546875,
           -0.074462890625,
           0.06121826171875,
           0.0533447265625,
           -0.03851318359375,
           -0.07818603515625,
           -0.0144195556640625,
           -0.0222625732421875,
           -0.0201568603515625,
           -0.018798828125,
           -0.0654296875,
           -0.4111328125,
           -0.351318359375,
           -0.41455078125,
           -0.314208984375,
           -0.396484375,
           -0.339599609375,
           -0.15771484375,
           -0.1456298828125,
           -0.32080078125,
           -0.275390625,
           -0.2431640625,
           -0.350341796875,
           -0.37109375,
           -0.26611328125,
           -0.08392333984375,
           -0.427734375,
           -0.07012939453125,
           -0.10247802734375,
           0.006450653076171875,
           -0.01523590087890625,
           0.0027599334716796875,
           0.01305389404296875
          ],
          [
           -4.87890625,
           0.043701171875,
           0.00939178466796875,
           -0.0293121337890625,
           0.065185546875,
           0.11126708984375,
           0.040740966796875,
           -0.04547119140625,
           0.05303955078125,
           -0.045074462890625,
           -0.0732421875,
           -0.00571441650390625,
           0.01336669921875,
           -0.296630859375,
           -0.2325439453125,
           -0.2474365234375,
           -0.256103515625,
           -0.310546875,
           -0.259765625,
           -0.1090087890625,
           -0.039642333984375,
           -0.1790771484375,
           -0.163818359375,
           -0.14404296875,
           -0.189208984375,
           -0.179931640625,
           -0.15283203125,
           -0.037109375,
           -0.205322265625,
           -0.019317626953125,
           -0.08868408203125,
           -0.025360107421875,
           -0.046875,
           0.0041351318359375,
           0.005252838134765625
          ],
          [
           -11.8125,
           -0.1080322265625,
           0.01148223876953125,
           -0.056427001953125,
           0.06561279296875,
           0.1043701171875,
           -0.0103759765625,
           -0.0684814453125,
           0.003231048583984375,
           -0.03729248046875,
           -0.0635986328125,
           -0.054718017578125,
           -0.020355224609375,
           -0.338134765625,
           -0.25927734375,
           -0.26318359375,
           -0.2548828125,
           -0.383544921875,
           -0.28369140625,
           -0.09552001953125,
           0.06500244140625,
           -0.2130126953125,
           -0.26513671875,
           -0.265380859375,
           -0.32275390625,
           -0.2763671875,
           -0.162353515625,
           0.036651611328125,
           -0.144287109375,
           0.022186279296875,
           -0.047149658203125,
           -0.009552001953125,
           -0.02398681640625,
           0.01519775390625,
           0.058074951171875
          ],
          [
           0.14990234375,
           0.1502685546875,
           0.11334228515625,
           0.01551055908203125,
           0.08984375,
           0.03814697265625,
           0.0241546630859375,
           -0.043853759765625,
           0.023956298828125,
           -0.039794921875,
           -0.038848876953125,
           -0.044036865234375,
           -0.06488037109375,
           -0.440673828125,
           -0.3916015625,
           -0.34326171875,
           -0.2724609375,
           -0.404296875,
           -0.27978515625,
           -0.028839111328125,
           0.1610107421875,
           -0.1729736328125,
           -0.216796875,
           -0.2305908203125,
           -0.318115234375,
           -0.23974609375,
           -0.12469482421875,
           0.12060546875,
           -0.09820556640625,
           0.04693603515625,
           -0.0083465576171875,
           0.00978851318359375,
           -0.0258026123046875,
           0.0926513671875,
           0.08367919921875
          ],
          [
           5.90234375,
           0.340576171875,
           0.07916259765625,
           0.06390380859375,
           0.152099609375,
           0.12432861328125,
           0.10357666015625,
           -0.02301025390625,
           -0.023101806640625,
           0.0030422210693359375,
           -0.06707763671875,
           -0.1011962890625,
           -0.05194091796875,
           -0.202392578125,
           -0.190185546875,
           -0.2198486328125,
           -0.19482421875,
           -0.334716796875,
           -0.2132568359375,
           -0.312255859375,
           -0.159423828125,
           -0.07025146484375,
           -0.0948486328125,
           -0.19384765625,
           -0.37353515625,
           -0.376220703125,
           -0.5625,
           -0.1796875,
           -0.1102294921875,
           -0.27294921875,
           0.0350341796875,
           0.0528564453125,
           -0.0640869140625,
           -0.00408172607421875,
           0.0775146484375
          ],
          [
           6.875,
           0.39892578125,
           0.234130859375,
           0.174560546875,
           0.22705078125,
           0.2012939453125,
           0.2440185546875,
           0.120361328125,
           0.039337158203125,
           0.10406494140625,
           -0.00559234619140625,
           0.0029735565185546875,
           0.04034423828125,
           -0.08331298828125,
           -0.0167999267578125,
           -0.0187225341796875,
           -0.08648681640625,
           -0.427490234375,
           -0.2783203125,
           -0.5634765625,
           -0.317138671875,
           0.11297607421875,
           0.20068359375,
           0.044647216796875,
           -0.315185546875,
           -0.343505859375,
           -1.0205078125,
           -0.43017578125,
           -0.2296142578125,
           -0.3466796875,
           0.1287841796875,
           0.10565185546875,
           -0.09912109375,
           -0.044677734375,
           0.1956787109375
          ],
          [
           4.015625,
           0.236328125,
           0.1480712890625,
           0.0743408203125,
           0.1705322265625,
           0.047882080078125,
           0.0009174346923828125,
           -0.08587646484375,
           -0.038055419921875,
           -0.07293701171875,
           -0.1519775390625,
           -0.06396484375,
           -0.10052490234375,
           -0.326171875,
           -0.3466796875,
           -0.43017578125,
           -0.349609375,
           -0.72802734375,
           -0.62451171875,
           -0.71142578125,
           -0.3837890625,
           -0.2685546875,
           -0.0118408203125,
           -0.09844970703125,
           -0.48095703125,
           -0.6494140625,
           -1.4697265625,
           -0.45654296875,
           -0.69482421875,
           -0.440673828125,
           0.164794921875,
           0.035369873046875,
           -0.056915283203125,
           -0.0380859375,
           0.1451416015625
          ],
          [
           2.212890625,
           0.143310546875,
           0.139892578125,
           0.054534912109375,
           0.1800537109375,
           0.07073974609375,
           -0.00582122802734375,
           -0.1439208984375,
           0.0394287109375,
           -0.0948486328125,
           -0.1180419921875,
           -0.044891357421875,
           -0.0635986328125,
           -0.2587890625,
           -0.463134765625,
           -0.40087890625,
           -0.38525390625,
           -0.91162109375,
           -0.92529296875,
           -0.796875,
           -0.51416015625,
           -0.34521484375,
           0.05841064453125,
           0.0242767333984375,
           -0.346435546875,
           -0.94140625,
           -2.09375,
           -0.740234375,
           -0.7587890625,
           -0.79638671875,
           0.11566162109375,
           -0.049285888671875,
           -0.2403564453125,
           -0.053070068359375,
           0.076416015625
          ],
          [
           -0.6728515625,
           0.04351806640625,
           0.2298583984375,
           0.09368896484375,
           0.2315673828125,
           0.15869140625,
           0.0914306640625,
           -0.0689697265625,
           0.164306640625,
           -0.047454833984375,
           -0.083740234375,
           -0.01220703125,
           -0.005077362060546875,
           -0.162841796875,
           -0.327392578125,
           -0.2744140625,
           -0.151123046875,
           -0.73388671875,
           -0.73193359375,
           -0.9423828125,
           -0.73876953125,
           -0.14404296875,
           0.2154541015625,
           0.248291015625,
           -0.0892333984375,
           -0.69384765625,
           -2.154296875,
           -1.2607421875,
           -0.61181640625,
           -1.31640625,
           -0.0283966064453125,
           -0.2037353515625,
           -0.5986328125,
           -0.453125,
           -0.1500244140625
          ],
          [
           6.23046875,
           0.23486328125,
           0.07568359375,
           0.015716552734375,
           0.205810546875,
           0.0191650390625,
           -0.12066650390625,
           -0.226806640625,
           -0.004627227783203125,
           -0.2275390625,
           -0.301025390625,
           -0.2159423828125,
           -0.18017578125,
           -0.352783203125,
           -0.4794921875,
           -0.4609375,
           -0.4375,
           -0.87353515625,
           -0.84423828125,
           -1.0869140625,
           -0.8046875,
           -0.552734375,
           0.0275115966796875,
           0.1361083984375,
           -0.308349609375,
           -0.994140625,
           -2.1328125,
           -1.537109375,
           -1.1337890625,
           -1.75390625,
           -0.43359375,
           -0.325927734375,
           -0.775390625,
           -0.55517578125,
           -0.41357421875
          ],
          [
           16.59375,
           0.921875,
           0.11773681640625,
           0.40283203125,
           0.305908203125,
           0.07861328125,
           -0.129150390625,
           -0.2039794921875,
           0.126220703125,
           -0.1580810546875,
           -0.2408447265625,
           -0.2054443359375,
           -0.1400146484375,
           -0.2384033203125,
           -0.390380859375,
           -0.43310546875,
           -0.5205078125,
           -0.52880859375,
           -0.60400390625,
           -0.74658203125,
           -0.55078125,
           -0.61767578125,
           0.0181121826171875,
           0.05975341796875,
           -0.66650390625,
           -1.3203125,
           -2.388671875,
           -1.81640625,
           -0.9140625,
           -1.833984375,
           -0.64697265625,
           -0.461181640625,
           -1.013671875,
           -0.93701171875,
           -0.833984375
          ],
          [
           17.890625,
           1.6181640625,
           0.74365234375,
           1.169921875,
           1.0107421875,
           0.8359375,
           0.494384765625,
           0.1461181640625,
           0.80908203125,
           0.335693359375,
           0.1910400390625,
           0.365478515625,
           0.57275390625,
           0.4541015625,
           0.272705078125,
           0.2291259765625,
           0.08197021484375,
           0.14111328125,
           -0.12371826171875,
           -0.3955078125,
           -0.047637939453125,
           0.055389404296875,
           0.6953125,
           0.5634765625,
           -0.6943359375,
           -1.654296875,
           -2.365234375,
           -2.12890625,
           -0.49169921875,
           -1.8291015625,
           -0.9912109375,
           -0.521484375,
           -1.13671875,
           -1.033203125,
           -0.955078125
          ],
          [
           16.3125,
           0.92724609375,
           -0.0902099609375,
           0.5498046875,
           0.279052734375,
           0.2388916015625,
           -0.2169189453125,
           -0.7412109375,
           0.162109375,
           -0.66455078125,
           -0.80126953125,
           -0.556640625,
           -0.27685546875,
           -0.53759765625,
           -0.64013671875,
           -0.6943359375,
           -0.68212890625,
           -0.62060546875,
           -0.9150390625,
           -1.28515625,
           -0.82568359375,
           -0.833984375,
           -0.1434326171875,
           -0.337158203125,
           -1.5166015625,
           -2.75390625,
           -3.3984375,
           -3.482421875,
           -1.2919921875,
           -2.8984375,
           -1.94140625,
           -1.1162109375,
           -1.8330078125,
           -1.7607421875,
           -1.8671875
          ],
          [
           15.7421875,
           0.734375,
           -0.06298828125,
           0.375244140625,
           0.28173828125,
           0.12445068359375,
           -0.347412109375,
           -0.72998046875,
           0.2705078125,
           -0.74853515625,
           -0.9736328125,
           -0.6796875,
           -0.421875,
           -0.59521484375,
           -0.798828125,
           -0.76904296875,
           -0.85595703125,
           -0.8134765625,
           -1.20703125,
           -1.3212890625,
           -0.96923828125,
           -0.91845703125,
           -0.1468505859375,
           -0.2724609375,
           -1.77734375,
           -3.111328125,
           -3.634765625,
           -3.982421875,
           -1.248046875,
           -3.125,
           -2.224609375,
           -1.3828125,
           -2.0546875,
           -1.94140625,
           -2.2265625
          ],
          [
           -0.78369140625,
           -0.89111328125,
           0.25244140625,
           -2.7265625,
           0.40673828125,
           0.51513671875,
           -0.145751953125,
           -0.492919921875,
           0.038330078125,
           -0.55810546875,
           -0.8017578125,
           -0.309814453125,
           -0.04058837890625,
           -0.27783203125,
           -0.356689453125,
           -0.489501953125,
           -0.4677734375,
           -0.431884765625,
           -0.96875,
           -1.3173828125,
           -0.44580078125,
           -0.41845703125,
           0.35546875,
           0.16796875,
           -1.5185546875,
           -2.75390625,
           -3.703125,
           -3.857421875,
           -0.96728515625,
           -2.775390625,
           -1.9853515625,
           -1.0439453125,
           -1.63671875,
           -1.8671875,
           -1.9541015625
          ],
          [
           -10,
           -2.8515625,
           -0.2412109375,
           -5.71875,
           -0.102294921875,
           0.132080078125,
           -0.6669921875,
           -1.1181640625,
           -0.7080078125,
           -1.0791015625,
           -1.26953125,
           -0.4931640625,
           -0.23291015625,
           -0.83544921875,
           -1.0927734375,
           -1.19921875,
           -1.1357421875,
           -1.1513671875,
           -2.06640625,
           -2.404296875,
           -0.92919921875,
           -1.2021484375,
           -0.57470703125,
           -0.286376953125,
           -2.5859375,
           -4.16015625,
           -5.1015625,
           -4.71875,
           -1.638671875,
           -3.587890625,
           -2.640625,
           -1.4814453125,
           -2.13671875,
           -2.3125,
           -2.546875
          ],
          [
           -18.234375,
           -5.17578125,
           -1.31640625,
           -8.890625,
           -1.1826171875,
           -0.72998046875,
           -1.5,
           -2.08984375,
           -2.0390625,
           -2.111328125,
           -2.345703125,
           -1.330078125,
           -0.884765625,
           -1.6181640625,
           -2.09375,
           -2.13671875,
           -2.24609375,
           -2.205078125,
           -3.216796875,
           -3.64453125,
           -1.7265625,
           -1.9775390625,
           -1.5849609375,
           -1.3046875,
           -3.484375,
           -4.87109375,
           -6.1875,
           -5.515625,
           -2.56640625,
           -4.41015625,
           -3.37109375,
           -2.4453125,
           -3.021484375,
           -3.162109375,
           -3.3359375
          ],
          [
           -13.5078125,
           -3.9453125,
           -0.99072265625,
           -6.78125,
           -0.85986328125,
           -0.66552734375,
           -1.658203125,
           -2.142578125,
           -1.6083984375,
           -2.23828125,
           -2.505859375,
           -1.5185546875,
           -0.90576171875,
           -1.6123046875,
           -2.521484375,
           -2.337890625,
           -2.53125,
           -2.494140625,
           -3.8046875,
           -4,
           -1.8837890625,
           -2.142578125,
           -1.5966796875,
           -1.216796875,
           -3.4921875,
           -5.390625,
           -7.68359375,
           -6.26171875,
           -2.8203125,
           -5.1171875,
           -4.1015625,
           -2.65234375,
           -3.265625,
           -3.36328125,
           -3.794921875
          ],
          [
           -15.3515625,
           -4.328125,
           -0.6025390625,
           -7.79296875,
           -0.65380859375,
           -0.196044921875,
           -1.2958984375,
           -2.140625,
           -1.55859375,
           -2.25,
           -2.525390625,
           -1.08984375,
           -0.454833984375,
           -1.1357421875,
           -2.283203125,
           -1.8935546875,
           -2.21484375,
           -2.322265625,
           -3.677734375,
           -4.15234375,
           -1.6015625,
           -1.650390625,
           -1.04296875,
           -0.83544921875,
           -3.0546875,
           -4.91015625,
           -7.9375,
           -6.0078125,
           -2.578125,
           -5.046875,
           -3.8984375,
           -2.341796875,
           -3.095703125,
           -3.3046875,
           -3.66796875
          ],
          [
           -22.546875,
           -6.78515625,
           -2.09375,
           -11.2109375,
           -2.16796875,
           -1.392578125,
           -2.810546875,
           -3.763671875,
           -3.30859375,
           -3.93359375,
           -4.27734375,
           -2.16015625,
           -1.4423828125,
           -2.384765625,
           -3.91015625,
           -3.544921875,
           -3.91015625,
           -3.669921875,
           -5.34375,
           -6.15625,
           -2.900390625,
           -2.78125,
           -2.4453125,
           -2.283203125,
           -4.39453125,
           -6.1328125,
           -9.8125,
           -7.26171875,
           -3.92578125,
           -6.46875,
           -5.21484375,
           -3.62890625,
           -4.41015625,
           -4.41796875,
           -4.92578125
          ],
          [
           -20.421875,
           -6.00390625,
           -1.54296875,
           -10.1953125,
           -1.7470703125,
           -1.123046875,
           -2.546875,
           -3.1953125,
           -2.794921875,
           -3.533203125,
           -4.08984375,
           -1.904296875,
           -0.83251953125,
           -2.142578125,
           -3.970703125,
           -3.099609375,
           -3.927734375,
           -3.611328125,
           -5.22265625,
           -6.31640625,
           -2.638671875,
           -2.7421875,
           -2.333984375,
           -2.11328125,
           -4.27734375,
           -6.1953125,
           -12.03125,
           -6.77734375,
           -3.625,
           -6.5234375,
           -4.953125,
           -3.201171875,
           -4.0546875,
           -4.02734375,
           -4.515625
          ],
          [
           -20.09375,
           -7.12890625,
           -2.37890625,
           -11.8671875,
           -2.58203125,
           -1.51171875,
           -3.322265625,
           -4.19921875,
           -3.87890625,
           -4.546875,
           -5.45703125,
           -3,
           -1.646484375,
           -3.177734375,
           -5.46875,
           -4.04296875,
           -4.8515625,
           -4.5859375,
           -6.453125,
           -7.890625,
           -3.560546875,
           -3.708984375,
           -3.251953125,
           -2.97265625,
           -5.328125,
           -7.44140625,
           -13.7734375,
           -7.7421875,
           -4.640625,
           -7.671875,
           -6.140625,
           -4.21875,
           -5.35546875,
           -4.86328125,
           -5.25
          ],
          [
           -22.265625,
           -9.078125,
           -3.8125,
           -14.3671875,
           -3.884765625,
           -2.591796875,
           -4.74609375,
           -5.84765625,
           -5.5546875,
           -6.296875,
           -7.453125,
           -4.59765625,
           -2.85546875,
           -4.58984375,
           -7.25390625,
           -5.62890625,
           -6.69140625,
           -5.98046875,
           -8.6484375,
           -10.0703125,
           -5.18359375,
           -5.3515625,
           -4.4140625,
           -4.06640625,
           -6.953125,
           -8.8515625,
           -15.5703125,
           -9.0625,
           -6.41796875,
           -8.9453125,
           -7.8984375,
           -6.2265625,
           -7.296875,
           -6.48828125,
           -7.28515625
          ],
          [
           -14.421875,
           -6.58203125,
           -2.42578125,
           -11.5078125,
           -2.08203125,
           -0.76611328125,
           -3.35546875,
           -4.42578125,
           -4.015625,
           -5.08984375,
           -5.9765625,
           -3.029296875,
           -0.70703125,
           -3.525390625,
           -6.31640625,
           -4.421875,
           -5.55859375,
           -4.78125,
           -7.59375,
           -9.015625,
           -4.10546875,
           -3.908203125,
           -2.978515625,
           -2.525390625,
           -5.609375,
           -7.51953125,
           -14.6640625,
           -7.63671875,
           -5.16015625,
           -7.8203125,
           -6.4765625,
           -4.77734375,
           -6.01953125,
           -5.25,
           -5.9765625
          ],
          [
           -11.9375,
           -7.8125,
           -3.953125,
           -12.6953125,
           -3.6953125,
           -2.568359375,
           -6.02734375,
           -6.6875,
           -6.18359375,
           -7.6328125,
           -8.421875,
           -4.85546875,
           -2.38671875,
           -6.125,
           -9.2109375,
           -7.37109375,
           -8.6875,
           -7.69921875,
           -10.484375,
           -11.4140625,
           -6.578125,
           -5.9921875,
           -4.60546875,
           -4.1171875,
           -7.375,
           -9.25,
           -17.296875,
           -10.4296875,
           -7.6953125,
           -10.390625,
           -9.15625,
           -7.8046875,
           -9.03125,
           -7.5625,
           -8.390625
          ],
          [
           -7.06640625,
           -6.328125,
           -2.787109375,
           -10.96875,
           -1.677734375,
           -1.650390625,
           -5.828125,
           -6.57421875,
           -5.71484375,
           -7.12109375,
           -8.046875,
           -3.130859375,
           -0.52392578125,
           -5.46875,
           -10.0859375,
           -7.5390625,
           -8.78125,
           -8.09375,
           -11.125,
           -11.8125,
           -6.53515625,
           -5.51171875,
           -3.13671875,
           -2.578125,
           -7.13671875,
           -8.765625,
           -18.546875,
           -9.84375,
           -6.95703125,
           -9.59375,
           -8.8671875,
           -7.640625,
           -9.65625,
           -8.0703125,
           -8.3125
          ],
          [
           -7.71875,
           -5.16796875,
           8.6171875,
           -7.1328125,
           20.890625,
           -5.6328125,
           -49,
           -30.671875,
           -13.4765625,
           -46.1875,
           -51.96875,
           -18.640625,
           3.802734375,
           -47.09375,
           -75.5625,
           -53.1875,
           -78.0625,
           -52.21875,
           -76.25,
           -67.9375,
           -32.4375,
           -32.875,
           -12.3828125,
           -9.7890625,
           -39.875,
           -53.875,
           -124.5,
           -87.125,
           -65,
           -77.4375,
           -73.875,
           -49.03125,
           -63.375,
           -62.71875,
           -63.9375
          ]
         ]
        }
       ],
       "layout": {
        "coloraxis": {
         "cmax": 3.6938,
         "cmin": -3.6938,
         "colorscale": [
          [
           0,
           "rgb(165,0,38)"
          ],
          [
           0.1,
           "rgb(215,48,39)"
          ],
          [
           0.2,
           "rgb(244,109,67)"
          ],
          [
           0.3,
           "rgb(253,174,97)"
          ],
          [
           0.4,
           "rgb(254,224,139)"
          ],
          [
           0.5,
           "rgb(255,255,191)"
          ],
          [
           0.6,
           "rgb(217,239,139)"
          ],
          [
           0.7,
           "rgb(166,217,106)"
          ],
          [
           0.8,
           "rgb(102,189,99)"
          ],
          [
           0.9,
           "rgb(26,152,80)"
          ],
          [
           1,
           "rgb(0,104,55)"
          ]
         ]
        },
        "height": 600,
        "margin": {
         "t": 60
        },
        "template": {
         "data": {
          "bar": [
           {
            "error_x": {
             "color": "#2a3f5f"
            },
            "error_y": {
             "color": "#2a3f5f"
            },
            "marker": {
             "line": {
              "color": "#E5ECF6",
              "width": 0.5
             },
             "pattern": {
              "fillmode": "overlay",
              "size": 10,
              "solidity": 0.2
             }
            },
            "type": "bar"
           }
          ],
          "barpolar": [
           {
            "marker": {
             "line": {
              "color": "#E5ECF6",
              "width": 0.5
             },
             "pattern": {
              "fillmode": "overlay",
              "size": 10,
              "solidity": 0.2
             }
            },
            "type": "barpolar"
           }
          ],
          "carpet": [
           {
            "aaxis": {
             "endlinecolor": "#2a3f5f",
             "gridcolor": "white",
             "linecolor": "white",
             "minorgridcolor": "white",
             "startlinecolor": "#2a3f5f"
            },
            "baxis": {
             "endlinecolor": "#2a3f5f",
             "gridcolor": "white",
             "linecolor": "white",
             "minorgridcolor": "white",
             "startlinecolor": "#2a3f5f"
            },
            "type": "carpet"
           }
          ],
          "choropleth": [
           {
            "colorbar": {
             "outlinewidth": 0,
             "ticks": ""
            },
            "type": "choropleth"
           }
          ],
          "contour": [
           {
            "colorbar": {
             "outlinewidth": 0,
             "ticks": ""
            },
            "colorscale": [
             [
              0,
              "#0d0887"
             ],
             [
              0.1111111111111111,
              "#46039f"
             ],
             [
              0.2222222222222222,
              "#7201a8"
             ],
             [
              0.3333333333333333,
              "#9c179e"
             ],
             [
              0.4444444444444444,
              "#bd3786"
             ],
             [
              0.5555555555555556,
              "#d8576b"
             ],
             [
              0.6666666666666666,
              "#ed7953"
             ],
             [
              0.7777777777777778,
              "#fb9f3a"
             ],
             [
              0.8888888888888888,
              "#fdca26"
             ],
             [
              1,
              "#f0f921"
             ]
            ],
            "type": "contour"
           }
          ],
          "contourcarpet": [
           {
            "colorbar": {
             "outlinewidth": 0,
             "ticks": ""
            },
            "type": "contourcarpet"
           }
          ],
          "heatmap": [
           {
            "colorbar": {
             "outlinewidth": 0,
             "ticks": ""
            },
            "colorscale": [
             [
              0,
              "#0d0887"
             ],
             [
              0.1111111111111111,
              "#46039f"
             ],
             [
              0.2222222222222222,
              "#7201a8"
             ],
             [
              0.3333333333333333,
              "#9c179e"
             ],
             [
              0.4444444444444444,
              "#bd3786"
             ],
             [
              0.5555555555555556,
              "#d8576b"
             ],
             [
              0.6666666666666666,
              "#ed7953"
             ],
             [
              0.7777777777777778,
              "#fb9f3a"
             ],
             [
              0.8888888888888888,
              "#fdca26"
             ],
             [
              1,
              "#f0f921"
             ]
            ],
            "type": "heatmap"
           }
          ],
          "heatmapgl": [
           {
            "colorbar": {
             "outlinewidth": 0,
             "ticks": ""
            },
            "colorscale": [
             [
              0,
              "#0d0887"
             ],
             [
              0.1111111111111111,
              "#46039f"
             ],
             [
              0.2222222222222222,
              "#7201a8"
             ],
             [
              0.3333333333333333,
              "#9c179e"
             ],
             [
              0.4444444444444444,
              "#bd3786"
             ],
             [
              0.5555555555555556,
              "#d8576b"
             ],
             [
              0.6666666666666666,
              "#ed7953"
             ],
             [
              0.7777777777777778,
              "#fb9f3a"
             ],
             [
              0.8888888888888888,
              "#fdca26"
             ],
             [
              1,
              "#f0f921"
             ]
            ],
            "type": "heatmapgl"
           }
          ],
          "histogram": [
           {
            "marker": {
             "pattern": {
              "fillmode": "overlay",
              "size": 10,
              "solidity": 0.2
             }
            },
            "type": "histogram"
           }
          ],
          "histogram2d": [
           {
            "colorbar": {
             "outlinewidth": 0,
             "ticks": ""
            },
            "colorscale": [
             [
              0,
              "#0d0887"
             ],
             [
              0.1111111111111111,
              "#46039f"
             ],
             [
              0.2222222222222222,
              "#7201a8"
             ],
             [
              0.3333333333333333,
              "#9c179e"
             ],
             [
              0.4444444444444444,
              "#bd3786"
             ],
             [
              0.5555555555555556,
              "#d8576b"
             ],
             [
              0.6666666666666666,
              "#ed7953"
             ],
             [
              0.7777777777777778,
              "#fb9f3a"
             ],
             [
              0.8888888888888888,
              "#fdca26"
             ],
             [
              1,
              "#f0f921"
             ]
            ],
            "type": "histogram2d"
           }
          ],
          "histogram2dcontour": [
           {
            "colorbar": {
             "outlinewidth": 0,
             "ticks": ""
            },
            "colorscale": [
             [
              0,
              "#0d0887"
             ],
             [
              0.1111111111111111,
              "#46039f"
             ],
             [
              0.2222222222222222,
              "#7201a8"
             ],
             [
              0.3333333333333333,
              "#9c179e"
             ],
             [
              0.4444444444444444,
              "#bd3786"
             ],
             [
              0.5555555555555556,
              "#d8576b"
             ],
             [
              0.6666666666666666,
              "#ed7953"
             ],
             [
              0.7777777777777778,
              "#fb9f3a"
             ],
             [
              0.8888888888888888,
              "#fdca26"
             ],
             [
              1,
              "#f0f921"
             ]
            ],
            "type": "histogram2dcontour"
           }
          ],
          "mesh3d": [
           {
            "colorbar": {
             "outlinewidth": 0,
             "ticks": ""
            },
            "type": "mesh3d"
           }
          ],
          "parcoords": [
           {
            "line": {
             "colorbar": {
              "outlinewidth": 0,
              "ticks": ""
             }
            },
            "type": "parcoords"
           }
          ],
          "pie": [
           {
            "automargin": true,
            "type": "pie"
           }
          ],
          "scatter": [
           {
            "fillpattern": {
             "fillmode": "overlay",
             "size": 10,
             "solidity": 0.2
            },
            "type": "scatter"
           }
          ],
          "scatter3d": [
           {
            "line": {
             "colorbar": {
              "outlinewidth": 0,
              "ticks": ""
             }
            },
            "marker": {
             "colorbar": {
              "outlinewidth": 0,
              "ticks": ""
             }
            },
            "type": "scatter3d"
           }
          ],
          "scattercarpet": [
           {
            "marker": {
             "colorbar": {
              "outlinewidth": 0,
              "ticks": ""
             }
            },
            "type": "scattercarpet"
           }
          ],
          "scattergeo": [
           {
            "marker": {
             "colorbar": {
              "outlinewidth": 0,
              "ticks": ""
             }
            },
            "type": "scattergeo"
           }
          ],
          "scattergl": [
           {
            "marker": {
             "colorbar": {
              "outlinewidth": 0,
              "ticks": ""
             }
            },
            "type": "scattergl"
           }
          ],
          "scattermapbox": [
           {
            "marker": {
             "colorbar": {
              "outlinewidth": 0,
              "ticks": ""
             }
            },
            "type": "scattermapbox"
           }
          ],
          "scatterpolar": [
           {
            "marker": {
             "colorbar": {
              "outlinewidth": 0,
              "ticks": ""
             }
            },
            "type": "scatterpolar"
           }
          ],
          "scatterpolargl": [
           {
            "marker": {
             "colorbar": {
              "outlinewidth": 0,
              "ticks": ""
             }
            },
            "type": "scatterpolargl"
           }
          ],
          "scatterternary": [
           {
            "marker": {
             "colorbar": {
              "outlinewidth": 0,
              "ticks": ""
             }
            },
            "type": "scatterternary"
           }
          ],
          "surface": [
           {
            "colorbar": {
             "outlinewidth": 0,
             "ticks": ""
            },
            "colorscale": [
             [
              0,
              "#0d0887"
             ],
             [
              0.1111111111111111,
              "#46039f"
             ],
             [
              0.2222222222222222,
              "#7201a8"
             ],
             [
              0.3333333333333333,
              "#9c179e"
             ],
             [
              0.4444444444444444,
              "#bd3786"
             ],
             [
              0.5555555555555556,
              "#d8576b"
             ],
             [
              0.6666666666666666,
              "#ed7953"
             ],
             [
              0.7777777777777778,
              "#fb9f3a"
             ],
             [
              0.8888888888888888,
              "#fdca26"
             ],
             [
              1,
              "#f0f921"
             ]
            ],
            "type": "surface"
           }
          ],
          "table": [
           {
            "cells": {
             "fill": {
              "color": "#EBF0F8"
             },
             "line": {
              "color": "white"
             }
            },
            "header": {
             "fill": {
              "color": "#C8D4E3"
             },
             "line": {
              "color": "white"
             }
            },
            "type": "table"
           }
          ]
         },
         "layout": {
          "annotationdefaults": {
           "arrowcolor": "#2a3f5f",
           "arrowhead": 0,
           "arrowwidth": 1
          },
          "autotypenumbers": "strict",
          "coloraxis": {
           "colorbar": {
            "outlinewidth": 0,
            "ticks": ""
           }
          },
          "colorscale": {
           "diverging": [
            [
             0,
             "#8e0152"
            ],
            [
             0.1,
             "#c51b7d"
            ],
            [
             0.2,
             "#de77ae"
            ],
            [
             0.3,
             "#f1b6da"
            ],
            [
             0.4,
             "#fde0ef"
            ],
            [
             0.5,
             "#f7f7f7"
            ],
            [
             0.6,
             "#e6f5d0"
            ],
            [
             0.7,
             "#b8e186"
            ],
            [
             0.8,
             "#7fbc41"
            ],
            [
             0.9,
             "#4d9221"
            ],
            [
             1,
             "#276419"
            ]
           ],
           "sequential": [
            [
             0,
             "#0d0887"
            ],
            [
             0.1111111111111111,
             "#46039f"
            ],
            [
             0.2222222222222222,
             "#7201a8"
            ],
            [
             0.3333333333333333,
             "#9c179e"
            ],
            [
             0.4444444444444444,
             "#bd3786"
            ],
            [
             0.5555555555555556,
             "#d8576b"
            ],
            [
             0.6666666666666666,
             "#ed7953"
            ],
            [
             0.7777777777777778,
             "#fb9f3a"
            ],
            [
             0.8888888888888888,
             "#fdca26"
            ],
            [
             1,
             "#f0f921"
            ]
           ],
           "sequentialminus": [
            [
             0,
             "#0d0887"
            ],
            [
             0.1111111111111111,
             "#46039f"
            ],
            [
             0.2222222222222222,
             "#7201a8"
            ],
            [
             0.3333333333333333,
             "#9c179e"
            ],
            [
             0.4444444444444444,
             "#bd3786"
            ],
            [
             0.5555555555555556,
             "#d8576b"
            ],
            [
             0.6666666666666666,
             "#ed7953"
            ],
            [
             0.7777777777777778,
             "#fb9f3a"
            ],
            [
             0.8888888888888888,
             "#fdca26"
            ],
            [
             1,
             "#f0f921"
            ]
           ]
          },
          "colorway": [
           "#636efa",
           "#EF553B",
           "#00cc96",
           "#ab63fa",
           "#FFA15A",
           "#19d3f3",
           "#FF6692",
           "#B6E880",
           "#FF97FF",
           "#FECB52"
          ],
          "font": {
           "color": "#2a3f5f"
          },
          "geo": {
           "bgcolor": "white",
           "lakecolor": "white",
           "landcolor": "#E5ECF6",
           "showlakes": true,
           "showland": true,
           "subunitcolor": "white"
          },
          "hoverlabel": {
           "align": "left"
          },
          "hovermode": "closest",
          "mapbox": {
           "style": "light"
          },
          "paper_bgcolor": "white",
          "plot_bgcolor": "#E5ECF6",
          "polar": {
           "angularaxis": {
            "gridcolor": "white",
            "linecolor": "white",
            "ticks": ""
           },
           "bgcolor": "#E5ECF6",
           "radialaxis": {
            "gridcolor": "white",
            "linecolor": "white",
            "ticks": ""
           }
          },
          "scene": {
           "xaxis": {
            "backgroundcolor": "#E5ECF6",
            "gridcolor": "white",
            "gridwidth": 2,
            "linecolor": "white",
            "showbackground": true,
            "ticks": "",
            "zerolinecolor": "white"
           },
           "yaxis": {
            "backgroundcolor": "#E5ECF6",
            "gridcolor": "white",
            "gridwidth": 2,
            "linecolor": "white",
            "showbackground": true,
            "ticks": "",
            "zerolinecolor": "white"
           },
           "zaxis": {
            "backgroundcolor": "#E5ECF6",
            "gridcolor": "white",
            "gridwidth": 2,
            "linecolor": "white",
            "showbackground": true,
            "ticks": "",
            "zerolinecolor": "white"
           }
          },
          "shapedefaults": {
           "line": {
            "color": "#2a3f5f"
           }
          },
          "ternary": {
           "aaxis": {
            "gridcolor": "white",
            "linecolor": "white",
            "ticks": ""
           },
           "baxis": {
            "gridcolor": "white",
            "linecolor": "white",
            "ticks": ""
           },
           "bgcolor": "#E5ECF6",
           "caxis": {
            "gridcolor": "white",
            "linecolor": "white",
            "ticks": ""
           }
          },
          "title": {
           "x": 0.05
          },
          "xaxis": {
           "automargin": true,
           "gridcolor": "white",
           "linecolor": "white",
           "ticks": "",
           "title": {
            "standoff": 15
           },
           "zerolinecolor": "white",
           "zerolinewidth": 2
          },
          "yaxis": {
           "automargin": true,
           "gridcolor": "white",
           "linecolor": "white",
           "ticks": "",
           "title": {
            "standoff": 15
           },
           "zerolinecolor": "white",
           "zerolinewidth": 2
          }
         }
        },
        "width": 1000,
        "xaxis": {
         "anchor": "y",
         "autorange": true,
         "constrain": "domain",
         "domain": [
          0.22589881674757284,
          0.7741011832524272
         ],
         "range": [
          -0.5,
          34.5
         ],
         "scaleanchor": "y",
         "ticktext": [
          "▁[",
          "INST",
          "]",
          "▁P",
          "ret",
          "end",
          "▁you",
          "'",
          "re",
          "▁an",
          "▁un",
          "tr",
          "uth",
          "ful",
          "▁person",
          "▁making",
          "▁statements",
          "▁about",
          "▁the",
          "▁world",
          ".",
          "▁[",
          "/",
          "INST",
          "]",
          "▁The",
          "▁Earth",
          "'",
          "s",
          "▁atmosphere",
          "▁protect",
          "s",
          "▁us",
          "▁from"
         ],
         "tickvals": [
          0,
          1,
          2,
          3,
          4,
          5,
          6,
          7,
          8,
          9,
          10,
          11,
          12,
          13,
          14,
          15,
          16,
          17,
          18,
          19,
          20,
          21,
          22,
          23,
          24,
          25,
          26,
          27,
          28,
          29,
          30,
          31,
          32,
          33
         ],
         "title": {
          "text": "Token"
         }
        },
        "yaxis": {
         "anchor": "x",
         "autorange": true,
         "constrain": "domain",
         "domain": [
          0.0012077294685991502,
          0.9987922705314008
         ],
         "range": [
          31.5,
          -0.5
         ]
        }
       }
      },
      "image/png": "[encoded data removed]",
      "text/html": [
       "<div>                            <div id=\"6c313664-53e2-4742-a4ec-099236beee26\" class=\"plotly-graph-div\" style=\"height:600px; width:1000px;\"></div>            <script type=\"text/javascript\">                require([\"plotly\"], function(Plotly) {                    window.PLOTLYENV=window.PLOTLYENV || {};                                    if (document.getElementById(\"6c313664-53e2-4742-a4ec-099236beee26\")) {                    Plotly.newPlot(                        \"6c313664-53e2-4742-a4ec-099236beee26\",                        [{\"coloraxis\":\"coloraxis\",\"name\":\"0\",\"z\":[[-0.035369873046875,-0.021881103515625,-0.01531219482421875,-0.016082763671875,-0.01001739501953125,0.006988525390625,-0.00402069091796875,-0.0207366943359375,-0.03863525390625,-0.01111602783203125,-0.006908416748046875,0.002368927001953125,0.003505706787109375,-0.0006070137023925781,-0.00907135009765625,-0.011566162109375,-0.010894775390625,0.009765625,-0.01032257080078125,-0.015472412109375,-0.0106201171875,-0.0244293212890625,-0.016021728515625,-0.01087188720703125,-0.016387939453125,-0.0202789306640625,-0.023590087890625,-0.0020961761474609375,-0.0296478271484375,-0.02154541015625,-0.01364898681640625,-0.01036834716796875,-0.007328033447265625,-0.004344940185546875,-0.004833221435546875],[-38.1875,-0.21240234375,-0.00565338134765625,-0.038177490234375,-0.01158905029296875,0.03839111328125,0.0235137939453125,-0.0030193328857421875,-0.031646728515625,0.003482818603515625,0.0006337165832519531,0.017425537109375,0.0240478515625,0.0244293212890625,0.005489349365234375,-0.0304718017578125,-0.0289764404296875,-0.008087158203125,-0.03021240234375,-0.0224761962890625,-0.038116455078125,-0.055694580078125,-0.0499267578125,-0.046234130859375,-0.01849365234375,-0.05853271484375,-0.030975341796875,-0.0360107421875,-0.037078857421875,-0.034088134765625,-0.04168701171875,-0.044158935546875,-0.039794921875,-0.02880859375,-0.024658203125],[-0.55810546875,0.0322265625,0.0426025390625,0.006511688232421875,0.038421630859375,0.05328369140625,0.0200042724609375,0.018035888671875,0.0289154052734375,0.013916015625,0.0146942138671875,0.047943115234375,0.0333251953125,0.0166778564453125,0.0228424072265625,-0.00582122802734375,-0.01177978515625,-0.0182952880859375,-0.0140838623046875,0.01494598388671875,-0.00859832763671875,-0.006572723388671875,-0.01396942138671875,-0.001720428466796875,0.049163818359375,0.0015430450439453125,-0.0161895751953125,-0.0036602020263671875,0.0306396484375,-0.0217742919921875,-0.01384735107421875,0.0005297660827636719,-0.007904052734375,0.00372314453125,0.0174407958984375],[-1.5185546875,0.036712646484375,0.0540771484375,0.04376220703125,0.1043701171875,0.10302734375,0.065673828125,0.035400390625,0.04498291015625,0.05615234375,0.029266357421875,0.06201171875,0.0016736984252929688,-0.10345458984375,-0.09423828125,-0.14599609375,-0.07073974609375,-0.07318115234375,-0.072265625,-0.048370361328125,-0.06256103515625,-0.048980712890625,-0.016632080078125,-0.01537322998046875,0.025909423828125,-0.01311492919921875,0.057891845703125,-0.0181732177734375,0.014984130859375,-0.01971435546875,-0.0364990234375,-0.0009632110595703125,-0.003238677978515625,0.0284881591796875,0.07867431640625],[5.03125,0.11962890625,0.0297088623046875,0.035369873046875,0.11724853515625,0.0999755859375,0.046142578125,-0.0172119140625,0.0908203125,0.0172119140625,0.0265045166015625,0.0850830078125,0.04791259765625,-0.024444580078125,-0.0186920166015625,-0.100830078125,-0.0712890625,-0.037811279296875,-0.0257110595703125,-0.0244140625,-0.031646728515625,-0.010833740234375,-0.01873779296875,-0.031768798828125,-0.03179931640625,0.01346588134765625,-0.0193023681640625,-0.0300750732421875,0.0266876220703125,-0.02105712890625,-0.0396728515625,-0.0299224853515625,-0.048828125,-0.0147705078125,0.01546478271484375],[-6.90234375,-0.07537841796875,-0.0643310546875,-0.074462890625,0.06121826171875,0.0533447265625,-0.03851318359375,-0.07818603515625,-0.0144195556640625,-0.0222625732421875,-0.0201568603515625,-0.018798828125,-0.0654296875,-0.4111328125,-0.351318359375,-0.41455078125,-0.314208984375,-0.396484375,-0.339599609375,-0.15771484375,-0.1456298828125,-0.32080078125,-0.275390625,-0.2431640625,-0.350341796875,-0.37109375,-0.26611328125,-0.08392333984375,-0.427734375,-0.07012939453125,-0.10247802734375,0.006450653076171875,-0.01523590087890625,0.0027599334716796875,0.01305389404296875],[-4.87890625,0.043701171875,0.00939178466796875,-0.0293121337890625,0.065185546875,0.11126708984375,0.040740966796875,-0.04547119140625,0.05303955078125,-0.045074462890625,-0.0732421875,-0.00571441650390625,0.01336669921875,-0.296630859375,-0.2325439453125,-0.2474365234375,-0.256103515625,-0.310546875,-0.259765625,-0.1090087890625,-0.039642333984375,-0.1790771484375,-0.163818359375,-0.14404296875,-0.189208984375,-0.179931640625,-0.15283203125,-0.037109375,-0.205322265625,-0.019317626953125,-0.08868408203125,-0.025360107421875,-0.046875,0.0041351318359375,0.005252838134765625],[-11.8125,-0.1080322265625,0.01148223876953125,-0.056427001953125,0.06561279296875,0.1043701171875,-0.0103759765625,-0.0684814453125,0.003231048583984375,-0.03729248046875,-0.0635986328125,-0.054718017578125,-0.020355224609375,-0.338134765625,-0.25927734375,-0.26318359375,-0.2548828125,-0.383544921875,-0.28369140625,-0.09552001953125,0.06500244140625,-0.2130126953125,-0.26513671875,-0.265380859375,-0.32275390625,-0.2763671875,-0.162353515625,0.036651611328125,-0.144287109375,0.022186279296875,-0.047149658203125,-0.009552001953125,-0.02398681640625,0.01519775390625,0.058074951171875],[0.14990234375,0.1502685546875,0.11334228515625,0.01551055908203125,0.08984375,0.03814697265625,0.0241546630859375,-0.043853759765625,0.023956298828125,-0.039794921875,-0.038848876953125,-0.044036865234375,-0.06488037109375,-0.440673828125,-0.3916015625,-0.34326171875,-0.2724609375,-0.404296875,-0.27978515625,-0.028839111328125,0.1610107421875,-0.1729736328125,-0.216796875,-0.2305908203125,-0.318115234375,-0.23974609375,-0.12469482421875,0.12060546875,-0.09820556640625,0.04693603515625,-0.0083465576171875,0.00978851318359375,-0.0258026123046875,0.0926513671875,0.08367919921875],[5.90234375,0.340576171875,0.07916259765625,0.06390380859375,0.152099609375,0.12432861328125,0.10357666015625,-0.02301025390625,-0.023101806640625,0.0030422210693359375,-0.06707763671875,-0.1011962890625,-0.05194091796875,-0.202392578125,-0.190185546875,-0.2198486328125,-0.19482421875,-0.334716796875,-0.2132568359375,-0.312255859375,-0.159423828125,-0.07025146484375,-0.0948486328125,-0.19384765625,-0.37353515625,-0.376220703125,-0.5625,-0.1796875,-0.1102294921875,-0.27294921875,0.0350341796875,0.0528564453125,-0.0640869140625,-0.00408172607421875,0.0775146484375],[6.875,0.39892578125,0.234130859375,0.174560546875,0.22705078125,0.2012939453125,0.2440185546875,0.120361328125,0.039337158203125,0.10406494140625,-0.00559234619140625,0.0029735565185546875,0.04034423828125,-0.08331298828125,-0.0167999267578125,-0.0187225341796875,-0.08648681640625,-0.427490234375,-0.2783203125,-0.5634765625,-0.317138671875,0.11297607421875,0.20068359375,0.044647216796875,-0.315185546875,-0.343505859375,-1.0205078125,-0.43017578125,-0.2296142578125,-0.3466796875,0.1287841796875,0.10565185546875,-0.09912109375,-0.044677734375,0.1956787109375],[4.015625,0.236328125,0.1480712890625,0.0743408203125,0.1705322265625,0.047882080078125,0.0009174346923828125,-0.08587646484375,-0.038055419921875,-0.07293701171875,-0.1519775390625,-0.06396484375,-0.10052490234375,-0.326171875,-0.3466796875,-0.43017578125,-0.349609375,-0.72802734375,-0.62451171875,-0.71142578125,-0.3837890625,-0.2685546875,-0.0118408203125,-0.09844970703125,-0.48095703125,-0.6494140625,-1.4697265625,-0.45654296875,-0.69482421875,-0.440673828125,0.164794921875,0.035369873046875,-0.056915283203125,-0.0380859375,0.1451416015625],[2.212890625,0.143310546875,0.139892578125,0.054534912109375,0.1800537109375,0.07073974609375,-0.00582122802734375,-0.1439208984375,0.0394287109375,-0.0948486328125,-0.1180419921875,-0.044891357421875,-0.0635986328125,-0.2587890625,-0.463134765625,-0.40087890625,-0.38525390625,-0.91162109375,-0.92529296875,-0.796875,-0.51416015625,-0.34521484375,0.05841064453125,0.0242767333984375,-0.346435546875,-0.94140625,-2.09375,-0.740234375,-0.7587890625,-0.79638671875,0.11566162109375,-0.049285888671875,-0.2403564453125,-0.053070068359375,0.076416015625],[-0.6728515625,0.04351806640625,0.2298583984375,0.09368896484375,0.2315673828125,0.15869140625,0.0914306640625,-0.0689697265625,0.164306640625,-0.047454833984375,-0.083740234375,-0.01220703125,-0.005077362060546875,-0.162841796875,-0.327392578125,-0.2744140625,-0.151123046875,-0.73388671875,-0.73193359375,-0.9423828125,-0.73876953125,-0.14404296875,0.2154541015625,0.248291015625,-0.0892333984375,-0.69384765625,-2.154296875,-1.2607421875,-0.61181640625,-1.31640625,-0.0283966064453125,-0.2037353515625,-0.5986328125,-0.453125,-0.1500244140625],[6.23046875,0.23486328125,0.07568359375,0.015716552734375,0.205810546875,0.0191650390625,-0.12066650390625,-0.226806640625,-0.004627227783203125,-0.2275390625,-0.301025390625,-0.2159423828125,-0.18017578125,-0.352783203125,-0.4794921875,-0.4609375,-0.4375,-0.87353515625,-0.84423828125,-1.0869140625,-0.8046875,-0.552734375,0.0275115966796875,0.1361083984375,-0.308349609375,-0.994140625,-2.1328125,-1.537109375,-1.1337890625,-1.75390625,-0.43359375,-0.325927734375,-0.775390625,-0.55517578125,-0.41357421875],[16.59375,0.921875,0.11773681640625,0.40283203125,0.305908203125,0.07861328125,-0.129150390625,-0.2039794921875,0.126220703125,-0.1580810546875,-0.2408447265625,-0.2054443359375,-0.1400146484375,-0.2384033203125,-0.390380859375,-0.43310546875,-0.5205078125,-0.52880859375,-0.60400390625,-0.74658203125,-0.55078125,-0.61767578125,0.0181121826171875,0.05975341796875,-0.66650390625,-1.3203125,-2.388671875,-1.81640625,-0.9140625,-1.833984375,-0.64697265625,-0.461181640625,-1.013671875,-0.93701171875,-0.833984375],[17.890625,1.6181640625,0.74365234375,1.169921875,1.0107421875,0.8359375,0.494384765625,0.1461181640625,0.80908203125,0.335693359375,0.1910400390625,0.365478515625,0.57275390625,0.4541015625,0.272705078125,0.2291259765625,0.08197021484375,0.14111328125,-0.12371826171875,-0.3955078125,-0.047637939453125,0.055389404296875,0.6953125,0.5634765625,-0.6943359375,-1.654296875,-2.365234375,-2.12890625,-0.49169921875,-1.8291015625,-0.9912109375,-0.521484375,-1.13671875,-1.033203125,-0.955078125],[16.3125,0.92724609375,-0.0902099609375,0.5498046875,0.279052734375,0.2388916015625,-0.2169189453125,-0.7412109375,0.162109375,-0.66455078125,-0.80126953125,-0.556640625,-0.27685546875,-0.53759765625,-0.64013671875,-0.6943359375,-0.68212890625,-0.62060546875,-0.9150390625,-1.28515625,-0.82568359375,-0.833984375,-0.1434326171875,-0.337158203125,-1.5166015625,-2.75390625,-3.3984375,-3.482421875,-1.2919921875,-2.8984375,-1.94140625,-1.1162109375,-1.8330078125,-1.7607421875,-1.8671875],[15.7421875,0.734375,-0.06298828125,0.375244140625,0.28173828125,0.12445068359375,-0.347412109375,-0.72998046875,0.2705078125,-0.74853515625,-0.9736328125,-0.6796875,-0.421875,-0.59521484375,-0.798828125,-0.76904296875,-0.85595703125,-0.8134765625,-1.20703125,-1.3212890625,-0.96923828125,-0.91845703125,-0.1468505859375,-0.2724609375,-1.77734375,-3.111328125,-3.634765625,-3.982421875,-1.248046875,-3.125,-2.224609375,-1.3828125,-2.0546875,-1.94140625,-2.2265625],[-0.78369140625,-0.89111328125,0.25244140625,-2.7265625,0.40673828125,0.51513671875,-0.145751953125,-0.492919921875,0.038330078125,-0.55810546875,-0.8017578125,-0.309814453125,-0.04058837890625,-0.27783203125,-0.356689453125,-0.489501953125,-0.4677734375,-0.431884765625,-0.96875,-1.3173828125,-0.44580078125,-0.41845703125,0.35546875,0.16796875,-1.5185546875,-2.75390625,-3.703125,-3.857421875,-0.96728515625,-2.775390625,-1.9853515625,-1.0439453125,-1.63671875,-1.8671875,-1.9541015625],[-10.0,-2.8515625,-0.2412109375,-5.71875,-0.102294921875,0.132080078125,-0.6669921875,-1.1181640625,-0.7080078125,-1.0791015625,-1.26953125,-0.4931640625,-0.23291015625,-0.83544921875,-1.0927734375,-1.19921875,-1.1357421875,-1.1513671875,-2.06640625,-2.404296875,-0.92919921875,-1.2021484375,-0.57470703125,-0.286376953125,-2.5859375,-4.16015625,-5.1015625,-4.71875,-1.638671875,-3.587890625,-2.640625,-1.4814453125,-2.13671875,-2.3125,-2.546875],[-18.234375,-5.17578125,-1.31640625,-8.890625,-1.1826171875,-0.72998046875,-1.5,-2.08984375,-2.0390625,-2.111328125,-2.345703125,-1.330078125,-0.884765625,-1.6181640625,-2.09375,-2.13671875,-2.24609375,-2.205078125,-3.216796875,-3.64453125,-1.7265625,-1.9775390625,-1.5849609375,-1.3046875,-3.484375,-4.87109375,-6.1875,-5.515625,-2.56640625,-4.41015625,-3.37109375,-2.4453125,-3.021484375,-3.162109375,-3.3359375],[-13.5078125,-3.9453125,-0.99072265625,-6.78125,-0.85986328125,-0.66552734375,-1.658203125,-2.142578125,-1.6083984375,-2.23828125,-2.505859375,-1.5185546875,-0.90576171875,-1.6123046875,-2.521484375,-2.337890625,-2.53125,-2.494140625,-3.8046875,-4.0,-1.8837890625,-2.142578125,-1.5966796875,-1.216796875,-3.4921875,-5.390625,-7.68359375,-6.26171875,-2.8203125,-5.1171875,-4.1015625,-2.65234375,-3.265625,-3.36328125,-3.794921875],[-15.3515625,-4.328125,-0.6025390625,-7.79296875,-0.65380859375,-0.196044921875,-1.2958984375,-2.140625,-1.55859375,-2.25,-2.525390625,-1.08984375,-0.454833984375,-1.1357421875,-2.283203125,-1.8935546875,-2.21484375,-2.322265625,-3.677734375,-4.15234375,-1.6015625,-1.650390625,-1.04296875,-0.83544921875,-3.0546875,-4.91015625,-7.9375,-6.0078125,-2.578125,-5.046875,-3.8984375,-2.341796875,-3.095703125,-3.3046875,-3.66796875],[-22.546875,-6.78515625,-2.09375,-11.2109375,-2.16796875,-1.392578125,-2.810546875,-3.763671875,-3.30859375,-3.93359375,-4.27734375,-2.16015625,-1.4423828125,-2.384765625,-3.91015625,-3.544921875,-3.91015625,-3.669921875,-5.34375,-6.15625,-2.900390625,-2.78125,-2.4453125,-2.283203125,-4.39453125,-6.1328125,-9.8125,-7.26171875,-3.92578125,-6.46875,-5.21484375,-3.62890625,-4.41015625,-4.41796875,-4.92578125],[-20.421875,-6.00390625,-1.54296875,-10.1953125,-1.7470703125,-1.123046875,-2.546875,-3.1953125,-2.794921875,-3.533203125,-4.08984375,-1.904296875,-0.83251953125,-2.142578125,-3.970703125,-3.099609375,-3.927734375,-3.611328125,-5.22265625,-6.31640625,-2.638671875,-2.7421875,-2.333984375,-2.11328125,-4.27734375,-6.1953125,-12.03125,-6.77734375,-3.625,-6.5234375,-4.953125,-3.201171875,-4.0546875,-4.02734375,-4.515625],[-20.09375,-7.12890625,-2.37890625,-11.8671875,-2.58203125,-1.51171875,-3.322265625,-4.19921875,-3.87890625,-4.546875,-5.45703125,-3.0,-1.646484375,-3.177734375,-5.46875,-4.04296875,-4.8515625,-4.5859375,-6.453125,-7.890625,-3.560546875,-3.708984375,-3.251953125,-2.97265625,-5.328125,-7.44140625,-13.7734375,-7.7421875,-4.640625,-7.671875,-6.140625,-4.21875,-5.35546875,-4.86328125,-5.25],[-22.265625,-9.078125,-3.8125,-14.3671875,-3.884765625,-2.591796875,-4.74609375,-5.84765625,-5.5546875,-6.296875,-7.453125,-4.59765625,-2.85546875,-4.58984375,-7.25390625,-5.62890625,-6.69140625,-5.98046875,-8.6484375,-10.0703125,-5.18359375,-5.3515625,-4.4140625,-4.06640625,-6.953125,-8.8515625,-15.5703125,-9.0625,-6.41796875,-8.9453125,-7.8984375,-6.2265625,-7.296875,-6.48828125,-7.28515625],[-14.421875,-6.58203125,-2.42578125,-11.5078125,-2.08203125,-0.76611328125,-3.35546875,-4.42578125,-4.015625,-5.08984375,-5.9765625,-3.029296875,-0.70703125,-3.525390625,-6.31640625,-4.421875,-5.55859375,-4.78125,-7.59375,-9.015625,-4.10546875,-3.908203125,-2.978515625,-2.525390625,-5.609375,-7.51953125,-14.6640625,-7.63671875,-5.16015625,-7.8203125,-6.4765625,-4.77734375,-6.01953125,-5.25,-5.9765625],[-11.9375,-7.8125,-3.953125,-12.6953125,-3.6953125,-2.568359375,-6.02734375,-6.6875,-6.18359375,-7.6328125,-8.421875,-4.85546875,-2.38671875,-6.125,-9.2109375,-7.37109375,-8.6875,-7.69921875,-10.484375,-11.4140625,-6.578125,-5.9921875,-4.60546875,-4.1171875,-7.375,-9.25,-17.296875,-10.4296875,-7.6953125,-10.390625,-9.15625,-7.8046875,-9.03125,-7.5625,-8.390625],[-7.06640625,-6.328125,-2.787109375,-10.96875,-1.677734375,-1.650390625,-5.828125,-6.57421875,-5.71484375,-7.12109375,-8.046875,-3.130859375,-0.52392578125,-5.46875,-10.0859375,-7.5390625,-8.78125,-8.09375,-11.125,-11.8125,-6.53515625,-5.51171875,-3.13671875,-2.578125,-7.13671875,-8.765625,-18.546875,-9.84375,-6.95703125,-9.59375,-8.8671875,-7.640625,-9.65625,-8.0703125,-8.3125],[-7.71875,-5.16796875,8.6171875,-7.1328125,20.890625,-5.6328125,-49.0,-30.671875,-13.4765625,-46.1875,-51.96875,-18.640625,3.802734375,-47.09375,-75.5625,-53.1875,-78.0625,-52.21875,-76.25,-67.9375,-32.4375,-32.875,-12.3828125,-9.7890625,-39.875,-53.875,-124.5,-87.125,-65.0,-77.4375,-73.875,-49.03125,-63.375,-62.71875,-63.9375]],\"type\":\"heatmap\",\"xaxis\":\"x\",\"yaxis\":\"y\",\"hovertemplate\":\"Token: %{x}\\u003cbr\\u003ey: %{y}\\u003cbr\\u003ecolor: %{z}\\u003cextra\\u003e\\u003c\\u002fextra\\u003e\"}],                        {\"template\":{\"data\":{\"histogram2dcontour\":[{\"type\":\"histogram2dcontour\",\"colorbar\":{\"outlinewidth\":0,\"ticks\":\"\"},\"colorscale\":[[0.0,\"#0d0887\"],[0.1111111111111111,\"#46039f\"],[0.2222222222222222,\"#7201a8\"],[0.3333333333333333,\"#9c179e\"],[0.4444444444444444,\"#bd3786\"],[0.5555555555555556,\"#d8576b\"],[0.6666666666666666,\"#ed7953\"],[0.7777777777777778,\"#fb9f3a\"],[0.8888888888888888,\"#fdca26\"],[1.0,\"#f0f921\"]]}],\"choropleth\":[{\"type\":\"choropleth\",\"colorbar\":{\"outlinewidth\":0,\"ticks\":\"\"}}],\"histogram2d\":[{\"type\":\"histogram2d\",\"colorbar\":{\"outlinewidth\":0,\"ticks\":\"\"},\"colorscale\":[[0.0,\"#0d0887\"],[0.1111111111111111,\"#46039f\"],[0.2222222222222222,\"#7201a8\"],[0.3333333333333333,\"#9c179e\"],[0.4444444444444444,\"#bd3786\"],[0.5555555555555556,\"#d8576b\"],[0.6666666666666666,\"#ed7953\"],[0.7777777777777778,\"#fb9f3a\"],[0.8888888888888888,\"#fdca26\"],[1.0,\"#f0f921\"]]}],\"heatmap\":[{\"type\":\"heatmap\",\"colorbar\":{\"outlinewidth\":0,\"ticks\":\"\"},\"colorscale\":[[0.0,\"#0d0887\"],[0.1111111111111111,\"#46039f\"],[0.2222222222222222,\"#7201a8\"],[0.3333333333333333,\"#9c179e\"],[0.4444444444444444,\"#bd3786\"],[0.5555555555555556,\"#d8576b\"],[0.6666666666666666,\"#ed7953\"],[0.7777777777777778,\"#fb9f3a\"],[0.8888888888888888,\"#fdca26\"],[1.0,\"#f0f921\"]]}],\"heatmapgl\":[{\"type\":\"heatmapgl\",\"colorbar\":{\"outlinewidth\":0,\"ticks\":\"\"},\"colorscale\":[[0.0,\"#0d0887\"],[0.1111111111111111,\"#46039f\"],[0.2222222222222222,\"#7201a8\"],[0.3333333333333333,\"#9c179e\"],[0.4444444444444444,\"#bd3786\"],[0.5555555555555556,\"#d8576b\"],[0.6666666666666666,\"#ed7953\"],[0.7777777777777778,\"#fb9f3a\"],[0.8888888888888888,\"#fdca26\"],[1.0,\"#f0f921\"]]}],\"contourcarpet\":[{\"type\":\"contourcarpet\",\"colorbar\":{\"outlinewidth\":0,\"ticks\":\"\"}}],\"contour\":[{\"type\":\"contour\",\"colorbar\":{\"outlinewidth\":0,\"ticks\":\"\"},\"colorscale\":[[0.0,\"#0d0887\"],[0.1111111111111111,\"#46039f\"],[0.2222222222222222,\"#7201a8\"],[0.3333333333333333,\"#9c179e\"],[0.4444444444444444,\"#bd3786\"],[0.5555555555555556,\"#d8576b\"],[0.6666666666666666,\"#ed7953\"],[0.7777777777777778,\"#fb9f3a\"],[0.8888888888888888,\"#fdca26\"],[1.0,\"#f0f921\"]]}],\"surface\":[{\"type\":\"surface\",\"colorbar\":{\"outlinewidth\":0,\"ticks\":\"\"},\"colorscale\":[[0.0,\"#0d0887\"],[0.1111111111111111,\"#46039f\"],[0.2222222222222222,\"#7201a8\"],[0.3333333333333333,\"#9c179e\"],[0.4444444444444444,\"#bd3786\"],[0.5555555555555556,\"#d8576b\"],[0.6666666666666666,\"#ed7953\"],[0.7777777777777778,\"#fb9f3a\"],[0.8888888888888888,\"#fdca26\"],[1.0,\"#f0f921\"]]}],\"mesh3d\":[{\"type\":\"mesh3d\",\"colorbar\":{\"outlinewidth\":0,\"ticks\":\"\"}}],\"scatter\":[{\"fillpattern\":{\"fillmode\":\"overlay\",\"size\":10,\"solidity\":0.2},\"type\":\"scatter\"}],\"parcoords\":[{\"type\":\"parcoords\",\"line\":{\"colorbar\":{\"outlinewidth\":0,\"ticks\":\"\"}}}],\"scatterpolargl\":[{\"type\":\"scatterpolargl\",\"marker\":{\"colorbar\":{\"outlinewidth\":0,\"ticks\":\"\"}}}],\"bar\":[{\"error_x\":{\"color\":\"#2a3f5f\"},\"error_y\":{\"color\":\"#2a3f5f\"},\"marker\":{\"line\":{\"color\":\"#E5ECF6\",\"width\":0.5},\"pattern\":{\"fillmode\":\"overlay\",\"size\":10,\"solidity\":0.2}},\"type\":\"bar\"}],\"scattergeo\":[{\"type\":\"scattergeo\",\"marker\":{\"colorbar\":{\"outlinewidth\":0,\"ticks\":\"\"}}}],\"scatterpolar\":[{\"type\":\"scatterpolar\",\"marker\":{\"colorbar\":{\"outlinewidth\":0,\"ticks\":\"\"}}}],\"histogram\":[{\"marker\":{\"pattern\":{\"fillmode\":\"overlay\",\"size\":10,\"solidity\":0.2}},\"type\":\"histogram\"}],\"scattergl\":[{\"type\":\"scattergl\",\"marker\":{\"colorbar\":{\"outlinewidth\":0,\"ticks\":\"\"}}}],\"scatter3d\":[{\"type\":\"scatter3d\",\"line\":{\"colorbar\":{\"outlinewidth\":0,\"ticks\":\"\"}},\"marker\":{\"colorbar\":{\"outlinewidth\":0,\"ticks\":\"\"}}}],\"scattermapbox\":[{\"type\":\"scattermapbox\",\"marker\":{\"colorbar\":{\"outlinewidth\":0,\"ticks\":\"\"}}}],\"scatterternary\":[{\"type\":\"scatterternary\",\"marker\":{\"colorbar\":{\"outlinewidth\":0,\"ticks\":\"\"}}}],\"scattercarpet\":[{\"type\":\"scattercarpet\",\"marker\":{\"colorbar\":{\"outlinewidth\":0,\"ticks\":\"\"}}}],\"carpet\":[{\"aaxis\":{\"endlinecolor\":\"#2a3f5f\",\"gridcolor\":\"white\",\"linecolor\":\"white\",\"minorgridcolor\":\"white\",\"startlinecolor\":\"#2a3f5f\"},\"baxis\":{\"endlinecolor\":\"#2a3f5f\",\"gridcolor\":\"white\",\"linecolor\":\"white\",\"minorgridcolor\":\"white\",\"startlinecolor\":\"#2a3f5f\"},\"type\":\"carpet\"}],\"table\":[{\"cells\":{\"fill\":{\"color\":\"#EBF0F8\"},\"line\":{\"color\":\"white\"}},\"header\":{\"fill\":{\"color\":\"#C8D4E3\"},\"line\":{\"color\":\"white\"}},\"type\":\"table\"}],\"barpolar\":[{\"marker\":{\"line\":{\"color\":\"#E5ECF6\",\"width\":0.5},\"pattern\":{\"fillmode\":\"overlay\",\"size\":10,\"solidity\":0.2}},\"type\":\"barpolar\"}],\"pie\":[{\"automargin\":true,\"type\":\"pie\"}]},\"layout\":{\"autotypenumbers\":\"strict\",\"colorway\":[\"#636efa\",\"#EF553B\",\"#00cc96\",\"#ab63fa\",\"#FFA15A\",\"#19d3f3\",\"#FF6692\",\"#B6E880\",\"#FF97FF\",\"#FECB52\"],\"font\":{\"color\":\"#2a3f5f\"},\"hovermode\":\"closest\",\"hoverlabel\":{\"align\":\"left\"},\"paper_bgcolor\":\"white\",\"plot_bgcolor\":\"#E5ECF6\",\"polar\":{\"bgcolor\":\"#E5ECF6\",\"angularaxis\":{\"gridcolor\":\"white\",\"linecolor\":\"white\",\"ticks\":\"\"},\"radialaxis\":{\"gridcolor\":\"white\",\"linecolor\":\"white\",\"ticks\":\"\"}},\"ternary\":{\"bgcolor\":\"#E5ECF6\",\"aaxis\":{\"gridcolor\":\"white\",\"linecolor\":\"white\",\"ticks\":\"\"},\"baxis\":{\"gridcolor\":\"white\",\"linecolor\":\"white\",\"ticks\":\"\"},\"caxis\":{\"gridcolor\":\"white\",\"linecolor\":\"white\",\"ticks\":\"\"}},\"coloraxis\":{\"colorbar\":{\"outlinewidth\":0,\"ticks\":\"\"}},\"colorscale\":{\"sequential\":[[0.0,\"#0d0887\"],[0.1111111111111111,\"#46039f\"],[0.2222222222222222,\"#7201a8\"],[0.3333333333333333,\"#9c179e\"],[0.4444444444444444,\"#bd3786\"],[0.5555555555555556,\"#d8576b\"],[0.6666666666666666,\"#ed7953\"],[0.7777777777777778,\"#fb9f3a\"],[0.8888888888888888,\"#fdca26\"],[1.0,\"#f0f921\"]],\"sequentialminus\":[[0.0,\"#0d0887\"],[0.1111111111111111,\"#46039f\"],[0.2222222222222222,\"#7201a8\"],[0.3333333333333333,\"#9c179e\"],[0.4444444444444444,\"#bd3786\"],[0.5555555555555556,\"#d8576b\"],[0.6666666666666666,\"#ed7953\"],[0.7777777777777778,\"#fb9f3a\"],[0.8888888888888888,\"#fdca26\"],[1.0,\"#f0f921\"]],\"diverging\":[[0,\"#8e0152\"],[0.1,\"#c51b7d\"],[0.2,\"#de77ae\"],[0.3,\"#f1b6da\"],[0.4,\"#fde0ef\"],[0.5,\"#f7f7f7\"],[0.6,\"#e6f5d0\"],[0.7,\"#b8e186\"],[0.8,\"#7fbc41\"],[0.9,\"#4d9221\"],[1,\"#276419\"]]},\"xaxis\":{\"gridcolor\":\"white\",\"linecolor\":\"white\",\"ticks\":\"\",\"title\":{\"standoff\":15},\"zerolinecolor\":\"white\",\"automargin\":true,\"zerolinewidth\":2},\"yaxis\":{\"gridcolor\":\"white\",\"linecolor\":\"white\",\"ticks\":\"\",\"title\":{\"standoff\":15},\"zerolinecolor\":\"white\",\"automargin\":true,\"zerolinewidth\":2},\"scene\":{\"xaxis\":{\"backgroundcolor\":\"#E5ECF6\",\"gridcolor\":\"white\",\"linecolor\":\"white\",\"showbackground\":true,\"ticks\":\"\",\"zerolinecolor\":\"white\",\"gridwidth\":2},\"yaxis\":{\"backgroundcolor\":\"#E5ECF6\",\"gridcolor\":\"white\",\"linecolor\":\"white\",\"showbackground\":true,\"ticks\":\"\",\"zerolinecolor\":\"white\",\"gridwidth\":2},\"zaxis\":{\"backgroundcolor\":\"#E5ECF6\",\"gridcolor\":\"white\",\"linecolor\":\"white\",\"showbackground\":true,\"ticks\":\"\",\"zerolinecolor\":\"white\",\"gridwidth\":2}},\"shapedefaults\":{\"line\":{\"color\":\"#2a3f5f\"}},\"annotationdefaults\":{\"arrowcolor\":\"#2a3f5f\",\"arrowhead\":0,\"arrowwidth\":1},\"geo\":{\"bgcolor\":\"white\",\"landcolor\":\"#E5ECF6\",\"subunitcolor\":\"white\",\"showland\":true,\"showlakes\":true,\"lakecolor\":\"white\"},\"title\":{\"x\":0.05},\"mapbox\":{\"style\":\"light\"}}},\"xaxis\":{\"anchor\":\"y\",\"domain\":[0.0,1.0],\"scaleanchor\":\"y\",\"constrain\":\"domain\",\"title\":{\"text\":\"Token\"},\"tickvals\":[0,1,2,3,4,5,6,7,8,9,10,11,12,13,14,15,16,17,18,19,20,21,22,23,24,25,26,27,28,29,30,31,32,33],\"ticktext\":[\"\\u2581[\",\"INST\",\"]\",\"\\u2581P\",\"ret\",\"end\",\"\\u2581you\",\"'\",\"re\",\"\\u2581an\",\"\\u2581un\",\"tr\",\"uth\",\"ful\",\"\\u2581person\",\"\\u2581making\",\"\\u2581statements\",\"\\u2581about\",\"\\u2581the\",\"\\u2581world\",\".\",\"\\u2581[\",\"\\u002f\",\"INST\",\"]\",\"\\u2581The\",\"\\u2581Earth\",\"'\",\"s\",\"\\u2581atmosphere\",\"\\u2581protect\",\"s\",\"\\u2581us\",\"\\u2581from\"]},\"yaxis\":{\"anchor\":\"x\",\"domain\":[0.0,1.0],\"autorange\":\"reversed\",\"constrain\":\"domain\"},\"coloraxis\":{\"colorscale\":[[0.0,\"rgb(165,0,38)\"],[0.1,\"rgb(215,48,39)\"],[0.2,\"rgb(244,109,67)\"],[0.3,\"rgb(253,174,97)\"],[0.4,\"rgb(254,224,139)\"],[0.5,\"rgb(255,255,191)\"],[0.6,\"rgb(217,239,139)\"],[0.7,\"rgb(166,217,106)\"],[0.8,\"rgb(102,189,99)\"],[0.9,\"rgb(26,152,80)\"],[1.0,\"rgb(0,104,55)\"]],\"cmin\":-3.6938,\"cmax\":3.6938},\"margin\":{\"t\":60},\"width\":1000,\"height\":600},                        {\"responsive\": true}                    ).then(function(){\n",
       "                            \n",
       "var gd = document.getElementById('6c313664-53e2-4742-a4ec-099236beee26');\n",
       "var x = new MutationObserver(function (mutations, observer) {{\n",
       "        var display = window.getComputedStyle(gd).display;\n",
       "        if (!display || display === 'none') {{\n",
       "            console.log([gd, 'removed!']);\n",
       "            Plotly.purge(gd);\n",
       "            observer.disconnect();\n",
       "        }}\n",
       "}});\n",
       "\n",
       "// Listen for the removal of the full notebook cells\n",
       "var notebookContainer = gd.closest('#notebook-container');\n",
       "if (notebookContainer) {{\n",
       "    x.observe(notebookContainer, {childList: true});\n",
       "}}\n",
       "\n",
       "// Listen for the clearing of the current output cell\n",
       "var outputEl = gd.closest('.output');\n",
       "if (outputEl) {{\n",
       "    x.observe(outputEl, {childList: true});\n",
       "}}\n",
       "\n",
       "                        })                };                });            </script>        </div>"
      ]
     },
     "metadata": {},
     "output_type": "display_data"
    }
   ],
   "source": [
    "# visualize a scan from the training dataset\n",
    "\n",
    "input_text = doc.statement_pairs['train'][8][1]\n",
    "# input_text = doc.statement_pairs['train'][8][0] \n",
    "\n",
    "projections = doc.get_projections(input_text=input_text)\n",
    "tokens = tokenizer.tokenize(input_text)\n",
    "doc.plot_projection_heatmap(projections, tokens, saturate_at='auto')"
   ]
  }
 ],
 "metadata": {
  "kernelspec": {
   "display_name": "Python 3 (ipykernel)",
   "language": "python",
   "name": "python3"
  },
  "language_info": {
   "codemirror_mode": {
    "name": "ipython",
    "version": 3
   },
   "file_extension": ".py",
   "mimetype": "text/x-python",
   "name": "python",
   "nbconvert_exporter": "python",
   "pygments_lexer": "ipython3",
   "version": "3.10.13"
  }
 },
 "nbformat": 4,
 "nbformat_minor": 5
}
