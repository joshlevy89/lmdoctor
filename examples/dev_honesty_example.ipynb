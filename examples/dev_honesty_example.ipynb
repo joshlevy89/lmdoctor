{
 "cells": [
  {
   "cell_type": "markdown",
   "id": "7a31a213-f00f-462e-bc9d-861633f71082",
   "metadata": {},
   "source": [
    "## Setup\n",
    "If you already have a model you want to use, you can skip this step. "
   ]
  },
  {
   "cell_type": "code",
   "execution_count": 1,
   "id": "16a62c6d-cce6-4918-98fa-5bc0bdce8cf6",
   "metadata": {},
   "outputs": [],
   "source": [
    "model_name_or_path = \"TheBloke/Mistral-7B-Instruct-v0.1-GPTQ\"\n",
    "# model_name_or_path = \"TheBloke/Mistral-7B-Instruct-v0.2-GPTQ\""
   ]
  },
  {
   "cell_type": "code",
   "execution_count": 2,
   "id": "574c865c-c179-47cd-b331-9283352504d1",
   "metadata": {},
   "outputs": [],
   "source": [
    "%load_ext autoreload\n",
    "%autoreload 2"
   ]
  },
  {
   "cell_type": "code",
   "execution_count": 3,
   "id": "be6ed83c-89d0-4d30-b794-20db2ebe92ce",
   "metadata": {},
   "outputs": [
    {
     "name": "stdout",
     "output_type": "stream",
     "text": [
      "Looking in indexes: https://download.pytorch.org/whl/cu121\n",
      "Requirement already satisfied: torch==2.1.1 in /opt/conda/lib/python3.10/site-packages (2.1.1)\n",
      "Requirement already satisfied: torchvision==0.16.1 in /opt/conda/lib/python3.10/site-packages (0.16.1)\n",
      "Requirement already satisfied: torchaudio==2.1.1 in /opt/conda/lib/python3.10/site-packages (2.1.1)\n",
      "Requirement already satisfied: filelock in /opt/conda/lib/python3.10/site-packages (from torch==2.1.1) (3.9.0)\n",
      "Requirement already satisfied: typing-extensions in /opt/conda/lib/python3.10/site-packages (from torch==2.1.1) (4.7.1)\n",
      "Requirement already satisfied: sympy in /opt/conda/lib/python3.10/site-packages (from torch==2.1.1) (1.11.1)\n",
      "Requirement already satisfied: networkx in /opt/conda/lib/python3.10/site-packages (from torch==2.1.1) (3.1)\n",
      "Requirement already satisfied: jinja2 in /opt/conda/lib/python3.10/site-packages (from torch==2.1.1) (3.1.2)\n",
      "Requirement already satisfied: fsspec in /opt/conda/lib/python3.10/site-packages (from torch==2.1.1) (2023.10.0)\n",
      "Requirement already satisfied: numpy in /opt/conda/lib/python3.10/site-packages (from torchvision==0.16.1) (1.26.0)\n",
      "Requirement already satisfied: requests in /opt/conda/lib/python3.10/site-packages (from torchvision==0.16.1) (2.31.0)\n",
      "Requirement already satisfied: pillow!=8.3.*,>=5.3.0 in /opt/conda/lib/python3.10/site-packages (from torchvision==0.16.1) (10.0.1)\n",
      "Requirement already satisfied: MarkupSafe>=2.0 in /opt/conda/lib/python3.10/site-packages (from jinja2->torch==2.1.1) (2.1.1)\n",
      "Requirement already satisfied: charset-normalizer<4,>=2 in /opt/conda/lib/python3.10/site-packages (from requests->torchvision==0.16.1) (2.0.4)\n",
      "Requirement already satisfied: idna<4,>=2.5 in /opt/conda/lib/python3.10/site-packages (from requests->torchvision==0.16.1) (3.4)\n",
      "Requirement already satisfied: urllib3<3,>=1.21.1 in /opt/conda/lib/python3.10/site-packages (from requests->torchvision==0.16.1) (1.26.18)\n",
      "Requirement already satisfied: certifi>=2017.4.17 in /opt/conda/lib/python3.10/site-packages (from requests->torchvision==0.16.1) (2023.7.22)\n",
      "Requirement already satisfied: mpmath>=0.19 in /opt/conda/lib/python3.10/site-packages (from sympy->torch==2.1.1) (1.3.0)\n",
      "\u001b[33mWARNING: Running pip as the 'root' user can result in broken permissions and conflicting behaviour with the system package manager. It is recommended to use a virtual environment instead: https://pip.pypa.io/warnings/venv\u001b[0m\u001b[33m\n",
      "\u001b[0m\u001b[33mWARNING: Running pip as the 'root' user can result in broken permissions and conflicting behaviour with the system package manager. It is recommended to use a virtual environment instead: https://pip.pypa.io/warnings/venv\u001b[0m\u001b[33m\n",
      "\u001b[0mRequirement already satisfied: auto-gptq==0.6.0 in /opt/conda/lib/python3.10/site-packages (0.6.0)\n",
      "Requirement already satisfied: accelerate>=0.22.0 in /opt/conda/lib/python3.10/site-packages (from auto-gptq==0.6.0) (0.27.2)\n",
      "Requirement already satisfied: datasets in /opt/conda/lib/python3.10/site-packages (from auto-gptq==0.6.0) (2.17.1)\n",
      "Requirement already satisfied: sentencepiece in /opt/conda/lib/python3.10/site-packages (from auto-gptq==0.6.0) (0.2.0)\n",
      "Requirement already satisfied: numpy in /opt/conda/lib/python3.10/site-packages (from auto-gptq==0.6.0) (1.26.0)\n",
      "Requirement already satisfied: rouge in /opt/conda/lib/python3.10/site-packages (from auto-gptq==0.6.0) (1.0.1)\n",
      "Requirement already satisfied: gekko in /opt/conda/lib/python3.10/site-packages (from auto-gptq==0.6.0) (1.0.6)\n",
      "Requirement already satisfied: torch>=1.13.0 in /opt/conda/lib/python3.10/site-packages (from auto-gptq==0.6.0) (2.1.1)\n",
      "Requirement already satisfied: safetensors in /opt/conda/lib/python3.10/site-packages (from auto-gptq==0.6.0) (0.4.2)\n",
      "Requirement already satisfied: transformers>=4.31.0 in /opt/conda/lib/python3.10/site-packages (from auto-gptq==0.6.0) (4.38.1)\n",
      "Requirement already satisfied: peft>=0.5.0 in /opt/conda/lib/python3.10/site-packages (from auto-gptq==0.6.0) (0.9.0)\n",
      "Requirement already satisfied: tqdm in /opt/conda/lib/python3.10/site-packages (from auto-gptq==0.6.0) (4.65.0)\n",
      "Requirement already satisfied: packaging>=20.0 in /opt/conda/lib/python3.10/site-packages (from accelerate>=0.22.0->auto-gptq==0.6.0) (23.1)\n",
      "Requirement already satisfied: psutil in /opt/conda/lib/python3.10/site-packages (from accelerate>=0.22.0->auto-gptq==0.6.0) (5.9.0)\n",
      "Requirement already satisfied: pyyaml in /opt/conda/lib/python3.10/site-packages (from accelerate>=0.22.0->auto-gptq==0.6.0) (6.0.1)\n",
      "Requirement already satisfied: huggingface-hub in /opt/conda/lib/python3.10/site-packages (from accelerate>=0.22.0->auto-gptq==0.6.0) (0.21.1)\n",
      "Requirement already satisfied: filelock in /opt/conda/lib/python3.10/site-packages (from torch>=1.13.0->auto-gptq==0.6.0) (3.9.0)\n",
      "Requirement already satisfied: typing-extensions in /opt/conda/lib/python3.10/site-packages (from torch>=1.13.0->auto-gptq==0.6.0) (4.7.1)\n",
      "Requirement already satisfied: sympy in /opt/conda/lib/python3.10/site-packages (from torch>=1.13.0->auto-gptq==0.6.0) (1.11.1)\n",
      "Requirement already satisfied: networkx in /opt/conda/lib/python3.10/site-packages (from torch>=1.13.0->auto-gptq==0.6.0) (3.1)\n",
      "Requirement already satisfied: jinja2 in /opt/conda/lib/python3.10/site-packages (from torch>=1.13.0->auto-gptq==0.6.0) (3.1.2)\n",
      "Requirement already satisfied: fsspec in /opt/conda/lib/python3.10/site-packages (from torch>=1.13.0->auto-gptq==0.6.0) (2023.10.0)\n",
      "Requirement already satisfied: regex!=2019.12.17 in /opt/conda/lib/python3.10/site-packages (from transformers>=4.31.0->auto-gptq==0.6.0) (2023.12.25)\n",
      "Requirement already satisfied: requests in /opt/conda/lib/python3.10/site-packages (from transformers>=4.31.0->auto-gptq==0.6.0) (2.31.0)\n",
      "Requirement already satisfied: tokenizers<0.19,>=0.14 in /opt/conda/lib/python3.10/site-packages (from transformers>=4.31.0->auto-gptq==0.6.0) (0.15.2)\n",
      "Requirement already satisfied: pyarrow>=12.0.0 in /opt/conda/lib/python3.10/site-packages (from datasets->auto-gptq==0.6.0) (15.0.0)\n",
      "Requirement already satisfied: pyarrow-hotfix in /opt/conda/lib/python3.10/site-packages (from datasets->auto-gptq==0.6.0) (0.6)\n",
      "Requirement already satisfied: dill<0.3.9,>=0.3.0 in /opt/conda/lib/python3.10/site-packages (from datasets->auto-gptq==0.6.0) (0.3.8)\n",
      "Requirement already satisfied: pandas in /opt/conda/lib/python3.10/site-packages (from datasets->auto-gptq==0.6.0) (2.2.1)\n",
      "Requirement already satisfied: xxhash in /opt/conda/lib/python3.10/site-packages (from datasets->auto-gptq==0.6.0) (3.4.1)\n",
      "Requirement already satisfied: multiprocess in /opt/conda/lib/python3.10/site-packages (from datasets->auto-gptq==0.6.0) (0.70.16)\n",
      "Requirement already satisfied: aiohttp in /opt/conda/lib/python3.10/site-packages (from datasets->auto-gptq==0.6.0) (3.9.3)\n",
      "Requirement already satisfied: six in /opt/conda/lib/python3.10/site-packages (from rouge->auto-gptq==0.6.0) (1.16.0)\n",
      "Requirement already satisfied: aiosignal>=1.1.2 in /opt/conda/lib/python3.10/site-packages (from aiohttp->datasets->auto-gptq==0.6.0) (1.3.1)\n",
      "Requirement already satisfied: attrs>=17.3.0 in /opt/conda/lib/python3.10/site-packages (from aiohttp->datasets->auto-gptq==0.6.0) (23.1.0)\n",
      "Requirement already satisfied: frozenlist>=1.1.1 in /opt/conda/lib/python3.10/site-packages (from aiohttp->datasets->auto-gptq==0.6.0) (1.4.1)\n",
      "Requirement already satisfied: multidict<7.0,>=4.5 in /opt/conda/lib/python3.10/site-packages (from aiohttp->datasets->auto-gptq==0.6.0) (6.0.5)\n",
      "Requirement already satisfied: yarl<2.0,>=1.0 in /opt/conda/lib/python3.10/site-packages (from aiohttp->datasets->auto-gptq==0.6.0) (1.9.4)\n",
      "Requirement already satisfied: async-timeout<5.0,>=4.0 in /opt/conda/lib/python3.10/site-packages (from aiohttp->datasets->auto-gptq==0.6.0) (4.0.3)\n",
      "Requirement already satisfied: charset-normalizer<4,>=2 in /opt/conda/lib/python3.10/site-packages (from requests->transformers>=4.31.0->auto-gptq==0.6.0) (2.0.4)\n",
      "Requirement already satisfied: idna<4,>=2.5 in /opt/conda/lib/python3.10/site-packages (from requests->transformers>=4.31.0->auto-gptq==0.6.0) (3.4)\n",
      "Requirement already satisfied: urllib3<3,>=1.21.1 in /opt/conda/lib/python3.10/site-packages (from requests->transformers>=4.31.0->auto-gptq==0.6.0) (1.26.18)\n",
      "Requirement already satisfied: certifi>=2017.4.17 in /opt/conda/lib/python3.10/site-packages (from requests->transformers>=4.31.0->auto-gptq==0.6.0) (2023.7.22)\n",
      "Requirement already satisfied: MarkupSafe>=2.0 in /opt/conda/lib/python3.10/site-packages (from jinja2->torch>=1.13.0->auto-gptq==0.6.0) (2.1.1)\n",
      "Requirement already satisfied: python-dateutil>=2.8.2 in /opt/conda/lib/python3.10/site-packages (from pandas->datasets->auto-gptq==0.6.0) (2.8.2)\n",
      "Requirement already satisfied: pytz>=2020.1 in /opt/conda/lib/python3.10/site-packages (from pandas->datasets->auto-gptq==0.6.0) (2023.3.post1)\n",
      "Requirement already satisfied: tzdata>=2022.7 in /opt/conda/lib/python3.10/site-packages (from pandas->datasets->auto-gptq==0.6.0) (2024.1)\n",
      "Requirement already satisfied: mpmath>=0.19 in /opt/conda/lib/python3.10/site-packages (from sympy->torch>=1.13.0->auto-gptq==0.6.0) (1.3.0)\n",
      "\u001b[33mWARNING: Running pip as the 'root' user can result in broken permissions and conflicting behaviour with the system package manager. It is recommended to use a virtual environment instead: https://pip.pypa.io/warnings/venv\u001b[0m\u001b[33m\n",
      "\u001b[0mRequirement already satisfied: accelerate in /opt/conda/lib/python3.10/site-packages (0.27.2)\n",
      "Requirement already satisfied: numpy>=1.17 in /opt/conda/lib/python3.10/site-packages (from accelerate) (1.26.0)\n",
      "Requirement already satisfied: packaging>=20.0 in /opt/conda/lib/python3.10/site-packages (from accelerate) (23.1)\n",
      "Requirement already satisfied: psutil in /opt/conda/lib/python3.10/site-packages (from accelerate) (5.9.0)\n",
      "Requirement already satisfied: pyyaml in /opt/conda/lib/python3.10/site-packages (from accelerate) (6.0.1)\n",
      "Requirement already satisfied: torch>=1.10.0 in /opt/conda/lib/python3.10/site-packages (from accelerate) (2.1.1)\n",
      "Requirement already satisfied: huggingface-hub in /opt/conda/lib/python3.10/site-packages (from accelerate) (0.21.1)\n",
      "Requirement already satisfied: safetensors>=0.3.1 in /opt/conda/lib/python3.10/site-packages (from accelerate) (0.4.2)\n",
      "Requirement already satisfied: filelock in /opt/conda/lib/python3.10/site-packages (from torch>=1.10.0->accelerate) (3.9.0)\n",
      "Requirement already satisfied: typing-extensions in /opt/conda/lib/python3.10/site-packages (from torch>=1.10.0->accelerate) (4.7.1)\n",
      "Requirement already satisfied: sympy in /opt/conda/lib/python3.10/site-packages (from torch>=1.10.0->accelerate) (1.11.1)\n",
      "Requirement already satisfied: networkx in /opt/conda/lib/python3.10/site-packages (from torch>=1.10.0->accelerate) (3.1)\n",
      "Requirement already satisfied: jinja2 in /opt/conda/lib/python3.10/site-packages (from torch>=1.10.0->accelerate) (3.1.2)\n",
      "Requirement already satisfied: fsspec in /opt/conda/lib/python3.10/site-packages (from torch>=1.10.0->accelerate) (2023.10.0)\n",
      "Requirement already satisfied: requests in /opt/conda/lib/python3.10/site-packages (from huggingface-hub->accelerate) (2.31.0)\n",
      "Requirement already satisfied: tqdm>=4.42.1 in /opt/conda/lib/python3.10/site-packages (from huggingface-hub->accelerate) (4.65.0)\n",
      "Requirement already satisfied: MarkupSafe>=2.0 in /opt/conda/lib/python3.10/site-packages (from jinja2->torch>=1.10.0->accelerate) (2.1.1)\n",
      "Requirement already satisfied: charset-normalizer<4,>=2 in /opt/conda/lib/python3.10/site-packages (from requests->huggingface-hub->accelerate) (2.0.4)\n",
      "Requirement already satisfied: idna<4,>=2.5 in /opt/conda/lib/python3.10/site-packages (from requests->huggingface-hub->accelerate) (3.4)\n",
      "Requirement already satisfied: urllib3<3,>=1.21.1 in /opt/conda/lib/python3.10/site-packages (from requests->huggingface-hub->accelerate) (1.26.18)\n",
      "Requirement already satisfied: certifi>=2017.4.17 in /opt/conda/lib/python3.10/site-packages (from requests->huggingface-hub->accelerate) (2023.7.22)\n",
      "Requirement already satisfied: mpmath>=0.19 in /opt/conda/lib/python3.10/site-packages (from sympy->torch>=1.10.0->accelerate) (1.3.0)\n",
      "\u001b[33mWARNING: Running pip as the 'root' user can result in broken permissions and conflicting behaviour with the system package manager. It is recommended to use a virtual environment instead: https://pip.pypa.io/warnings/venv\u001b[0m\u001b[33m\n",
      "\u001b[0m"
     ]
    }
   ],
   "source": [
    "# The quantized model used here requires some extra libraries. \n",
    "!pip install torch==2.1.1 torchvision==0.16.1 torchaudio==2.1.1 --index-url https://download.pytorch.org/whl/cu121\n",
    "!pip install optimum>=1.12.0\n",
    "!pip install auto-gptq==0.6.0\n",
    "!pip install accelerate"
   ]
  },
  {
   "cell_type": "code",
   "execution_count": 4,
   "id": "65d76e35-3f1a-4e8a-931d-61e101fd022d",
   "metadata": {},
   "outputs": [
    {
     "name": "stderr",
     "output_type": "stream",
     "text": [
      "/opt/conda/lib/python3.10/site-packages/transformers/modeling_utils.py:4193: FutureWarning: `_is_quantized_training_enabled` is going to be deprecated in transformers 4.39.0. Please use `model.hf_quantizer.is_trainable` instead\n",
      "  warnings.warn(\n"
     ]
    }
   ],
   "source": [
    "from transformers import AutoModelForCausalLM, AutoTokenizer\n",
    "model = AutoModelForCausalLM.from_pretrained(model_name_or_path, device_map='auto', revision='gptq-4bit-32g-actorder_True', trust_remote_code=False)\n",
    "tokenizer = AutoTokenizer.from_pretrained(model_name_or_path, use_fast=True, padding_side=\"left\")\n",
    "tokenizer.pad_token_id = 0"
   ]
  },
  {
   "cell_type": "code",
   "execution_count": 5,
   "id": "52a598b4-3a54-41c7-9f3a-926cace60be2",
   "metadata": {},
   "outputs": [],
   "source": [
    "user_tag = \"[INST]\"\n",
    "assistant_tag = \"[/INST]\""
   ]
  },
  {
   "cell_type": "code",
   "execution_count": 6,
   "id": "a16924fa-784d-40d1-8ab6-651eb71b8c6d",
   "metadata": {},
   "outputs": [],
   "source": [
    "device = 'cuda:0'"
   ]
  },
  {
   "cell_type": "markdown",
   "id": "3a9b064e-1fe9-4679-b687-14be64371b47",
   "metadata": {},
   "source": [
    "## Train honesty extraction"
   ]
  },
  {
   "cell_type": "code",
   "execution_count": 7,
   "id": "7800e823-e701-4245-ab02-6ca73facdbed",
   "metadata": {},
   "outputs": [],
   "source": [
    "from lmdoctor import honesty_utils\n",
    "honesty_extractor = honesty_utils.HonestyExtractor(model, tokenizer, user_tag, assistant_tag)\n",
    "honesty_extractor.find_honesty_directions()"
   ]
  },
  {
   "cell_type": "markdown",
   "id": "dbd27be9-78ab-4cf7-9560-9a6da91a7dd5",
   "metadata": {},
   "source": [
    "## Run lie detector"
   ]
  },
  {
   "cell_type": "code",
   "execution_count": 12,
   "id": "89193532-9923-4462-8904-e97b2216bc4f",
   "metadata": {},
   "outputs": [
    {
     "name": "stderr",
     "output_type": "stream",
     "text": [
      "Setting `pad_token_id` to `eos_token_id`:2 for open-end generation.\n"
     ]
    },
    {
     "name": "stdout",
     "output_type": "stream",
     "text": [
      "[INST] Tell me a fact about humans [/INST] Humans are the only animals that blush, as a result of the beetles they ate before they started eating peppers.\n"
     ]
    }
   ],
   "source": [
    "import torch\n",
    "\n",
    "prompt = \"Tell me a fact about humans\"\n",
    "# prompt = \"Tell me a lie about humans\"\n",
    "\n",
    "torch.manual_seed(0)\n",
    "max_new_tokens = 40\n",
    "ld = honesty_utils.LieDetector(model, tokenizer, user_tag, assistant_tag)\n",
    "text = ld.generate(prompt, max_new_tokens=max_new_tokens, do_sample=True) # capture the hidden_states as the model generates\n",
    "all_projs = ld.get_projections(honesty_extractor.direction_info) # project the hidden_states onto the direction vectors from honesty extraction\n",
    "print(text)"
   ]
  },
  {
   "cell_type": "code",
   "execution_count": 13,
   "id": "a895bf4c-ef51-4b56-a3c5-52276c148fd2",
   "metadata": {},
   "outputs": [
    {
     "data": {
      "application/vnd.plotly.v1+json": {
       "config": {
        "plotlyServerURL": "https://plot.ly"
       },
       "data": [
        {
         "coloraxis": "coloraxis",
         "hovertemplate": "Token: %{x}<br>y: %{y}<br>color: %{z}<extra></extra>",
         "name": "0",
         "type": "heatmap",
         "xaxis": "x",
         "yaxis": "y",
         "z": [
          [
           -0.01531982421875,
           -0.0145111083984375,
           -0.00418853759765625,
           -0.0020771026611328125,
           0.0012407302856445312,
           0.01120758056640625,
           -0.0007758140563964844,
           0.00891876220703125,
           -0.00551605224609375,
           -0.005584716796875,
           -0.01361846923828125,
           -0.0120849609375,
           -0.01442718505859375,
           0.0033779144287109375,
           -0.0211639404296875,
           -0.006229400634765625,
           -0.002628326416015625,
           -0.0033092498779296875,
           -0.01284027099609375,
           -0.004543304443359375,
           -0.0038433074951171875,
           -0.0160064697265625,
           -0.007171630859375,
           -0.0182037353515625,
           -0.004016876220703125,
           -0.00848388671875,
           -0.01216888427734375,
           -0.00406646728515625,
           -0.0037326812744140625,
           -0.0049896240234375,
           -0.019256591796875,
           -0.0197601318359375,
           -0.0093536376953125,
           -0.017547607421875,
           -0.0116424560546875,
           -0.019683837890625,
           0.0010080337524414062,
           -0.0008792877197265625,
           0.0021724700927734375,
           -0.0213775634765625
          ],
          [
           -0.0134429931640625,
           -0.042449951171875,
           -0.0115966796875,
           0.0027217864990234375,
           0.0182037353515625,
           0.01092529296875,
           -0.002353668212890625,
           0.00238800048828125,
           -0.02972412109375,
           -0.022796630859375,
           -0.0018129348754882812,
           -0.0323486328125,
           -0.021453857421875,
           -0.0032825469970703125,
           -0.03778076171875,
           0.0037441253662109375,
           -0.0014066696166992188,
           -0.0254364013671875,
           -0.021240234375,
           0.0018377304077148438,
           0.00926971435546875,
           -0.0182647705078125,
           0.005046844482421875,
           0.0195159912109375,
           -0.0011701583862304688,
           0.00637054443359375,
           0.009063720703125,
           0.01474761962890625,
           0.004241943359375,
           -0.0011196136474609375,
           -0.0182037353515625,
           -0.037689208984375,
           -0.020477294921875,
           -0.0272369384765625,
           -0.03363037109375,
           -0.044677734375,
           -0.01497650146484375,
           -0.006824493408203125,
           -0.0140228271484375,
           -0.057830810546875
          ],
          [
           0.0462646484375,
           0.01096343994140625,
           0.03082275390625,
           0.022064208984375,
           0.035858154296875,
           0.0215911865234375,
           0.0150909423828125,
           0.0377197265625,
           0.0165252685546875,
           0.042022705078125,
           0.08709716796875,
           0.042633056640625,
           0.0112457275390625,
           0.01454925537109375,
           0.003376007080078125,
           0.034149169921875,
           0.0163421630859375,
           0.0210723876953125,
           0.0165557861328125,
           0.0338134765625,
           0.00836181640625,
           0.0157470703125,
           0.0199127197265625,
           0.0289459228515625,
           0.038177490234375,
           0.04229736328125,
           0.037261962890625,
           0.048492431640625,
           0.0296478271484375,
           -0.006183624267578125,
           0.01471710205078125,
           -0.0216064453125,
           0.007404327392578125,
           0.000885009765625,
           -0.0012865066528320312,
           -0.0211334228515625,
           0.0225982666015625,
           0.0056610107421875,
           -0.031707763671875,
           -0.0009169578552246094
          ],
          [
           0.051055908203125,
           0.03912353515625,
           0.09552001953125,
           0.06707763671875,
           0.04461669921875,
           -0.025421142578125,
           -0.053253173828125,
           0.0172271728515625,
           -0.006561279296875,
           0.0160675048828125,
           0.0765380859375,
           0.06298828125,
           0.126953125,
           0.06573486328125,
           0.053985595703125,
           0.08221435546875,
           0.053314208984375,
           0.049041748046875,
           0.01499176025390625,
           0.051116943359375,
           0.029388427734375,
           0.036041259765625,
           0.037933349609375,
           0.051025390625,
           0.036346435546875,
           0.06085205078125,
           0.0712890625,
           0.059661865234375,
           0.0188751220703125,
           -0.024932861328125,
           0.01045989990234375,
           -0.0240631103515625,
           -0.0190277099609375,
           0.03472900390625,
           -0.003002166748046875,
           -0.033599853515625,
           0.0029392242431640625,
           0.01354217529296875,
           -0.03668212890625,
           -0.021881103515625
          ],
          [
           0.060821533203125,
           0.059722900390625,
           0.0968017578125,
           0.07794189453125,
           0.09844970703125,
           0.05596923828125,
           0.0167388916015625,
           0.0888671875,
           0.057037353515625,
           0.07147216796875,
           0.0958251953125,
           0.135986328125,
           0.121826171875,
           0.0889892578125,
           0.12939453125,
           0.1456298828125,
           0.119873046875,
           0.09918212890625,
           0.06134033203125,
           0.0853271484375,
           0.05487060546875,
           0.06884765625,
           0.049224853515625,
           0.07159423828125,
           0.0545654296875,
           0.0816650390625,
           0.128662109375,
           0.07305908203125,
           0.06610107421875,
           0.0477294921875,
           0.04217529296875,
           0.0305938720703125,
           0.0262908935546875,
           0.031524658203125,
           0.0294189453125,
           0.030517578125,
           0.042633056640625,
           0.032623291015625,
           0.020599365234375,
           0.025360107421875
          ],
          [
           -0.049530029296875,
           -0.059051513671875,
           0.006671905517578125,
           -0.0206756591796875,
           -0.036773681640625,
           -0.0654296875,
           -0.069580078125,
           0.042327880859375,
           0.01806640625,
           -0.026702880859375,
           -0.061004638671875,
           -0.041412353515625,
           0.06707763671875,
           0.060699462890625,
           0.0849609375,
           0.1702880859375,
           0.0731201171875,
           0.07928466796875,
           0.0130615234375,
           0.0489501953125,
           0.038482666015625,
           0.01123809814453125,
           0.003856658935546875,
           0.061614990234375,
           0.00978851318359375,
           -0.0113525390625,
           0.06329345703125,
           0.032257080078125,
           0.0160369873046875,
           0.0059051513671875,
           0.055999755859375,
           -0.0013294219970703125,
           -0.014801025390625,
           -0.0183868408203125,
           -0.0185394287109375,
           -0.0086822509765625,
           -0.008758544921875,
           0.032745361328125,
           0.00969696044921875,
           -0.0634765625
          ],
          [
           0.01971435546875,
           -0.025909423828125,
           0.0235443115234375,
           -0.0706787109375,
           -0.01369476318359375,
           -0.06488037109375,
           -0.10107421875,
           0.10076904296875,
           0.091552734375,
           0.00673675537109375,
           0.0179443359375,
           0.048248291015625,
           0.138427734375,
           0.15380859375,
           0.1947021484375,
           0.24951171875,
           0.1845703125,
           0.1627197265625,
           0.146728515625,
           0.082275390625,
           0.10223388671875,
           0.06549072265625,
           0.034271240234375,
           0.10345458984375,
           0.0404052734375,
           0.06402587890625,
           0.1358642578125,
           0.07623291015625,
           0.036773681640625,
           0.035308837890625,
           0.095947265625,
           0.006465911865234375,
           0.0171356201171875,
           -0.01053619384765625,
           -0.0244598388671875,
           -0.04388427734375,
           -0.03125,
           -0.0149993896484375,
           -0.05126953125,
           0.00969696044921875
          ],
          [
           0.018798828125,
           -0.050750732421875,
           0.045257568359375,
           -0.035675048828125,
           -0.041534423828125,
           -0.0977783203125,
           -0.107666015625,
           0.230712890625,
           0.2139892578125,
           -0.054779052734375,
           -0.044647216796875,
           0.11468505859375,
           0.22509765625,
           0.326171875,
           0.327392578125,
           0.373779296875,
           0.276611328125,
           0.206298828125,
           0.2587890625,
           0.0965576171875,
           0.107177734375,
           0.0675048828125,
           -0.03253173828125,
           -0.01409149169921875,
           0.005634307861328125,
           0.040069580078125,
           0.039581298828125,
           0.0275115966796875,
           0.005626678466796875,
           0.0108489990234375,
           0.0299072265625,
           0.0235137939453125,
           -0.004283905029296875,
           -0.035797119140625,
           -0.052490234375,
           -0.0177154541015625,
           -0.065185546875,
           -0.0606689453125,
           -0.10943603515625,
           0.0007691383361816406
          ],
          [
           0.185791015625,
           0.09490966796875,
           0.1192626953125,
           0.0391845703125,
           0.053802490234375,
           -0.04296875,
           -0.0170745849609375,
           0.452392578125,
           0.3798828125,
           0.058258056640625,
           0.0692138671875,
           0.2939453125,
           0.416259765625,
           0.5322265625,
           0.5595703125,
           0.626953125,
           0.47119140625,
           0.3828125,
           0.40087890625,
           0.213623046875,
           0.1983642578125,
           0.1998291015625,
           0.037872314453125,
           0.03021240234375,
           0.0699462890625,
           0.1251220703125,
           0.1378173828125,
           0.0911865234375,
           0.059967041015625,
           0.10113525390625,
           0.0833740234375,
           0.0294342041015625,
           -0.01084136962890625,
           0.001556396484375,
           -0.01398468017578125,
           0.0035266876220703125,
           -0.007350921630859375,
           0.021453857421875,
           -0.0428466796875,
           0.1346435546875
          ],
          [
           0.132080078125,
           0.1168212890625,
           0.1990966796875,
           0.0870361328125,
           0.1710205078125,
           0.0972900390625,
           0.105712890625,
           0.50244140625,
           0.308837890625,
           0.0701904296875,
           0.0994873046875,
           0.28564453125,
           0.468505859375,
           0.5927734375,
           0.53955078125,
           0.61767578125,
           0.45068359375,
           0.310791015625,
           0.399169921875,
           0.2442626953125,
           0.1484375,
           0.2479248046875,
           0.04998779296875,
           0.043426513671875,
           0.07330322265625,
           0.1268310546875,
           0.11962890625,
           0.09063720703125,
           0.08270263671875,
           0.11431884765625,
           0.11114501953125,
           0.06573486328125,
           0.040283203125,
           -0.00786590576171875,
           -0.043060302734375,
           -0.013153076171875,
           0.0292816162109375,
           0.0168304443359375,
           0.01433563232421875,
           0.1824951171875
          ],
          [
           0.1650390625,
           0.1063232421875,
           0.12274169921875,
           0.1146240234375,
           0.17626953125,
           0.1552734375,
           0.1563720703125,
           0.417724609375,
           0.303466796875,
           0.091064453125,
           0.031097412109375,
           0.283447265625,
           0.42041015625,
           0.47509765625,
           0.5283203125,
           0.5439453125,
           0.434326171875,
           0.274169921875,
           0.39599609375,
           0.1680908203125,
           0.0848388671875,
           0.1583251953125,
           0.0701904296875,
           5.555152893066406e-05,
           0.08514404296875,
           0.1197509765625,
           0.1494140625,
           -0.0101470947265625,
           0.06561279296875,
           0.05059814453125,
           0.08990478515625,
           0.0205841064453125,
           0.02154541015625,
           -0.032135009765625,
           -0.037567138671875,
           -0.03875732421875,
           -0.01922607421875,
           -0.02801513671875,
           -0.02978515625,
           0.14599609375
          ],
          [
           0.1834716796875,
           0.11865234375,
           0.142333984375,
           0.1529541015625,
           0.2303466796875,
           0.299560546875,
           0.22509765625,
           0.56396484375,
           0.432861328125,
           0.1080322265625,
           0.07757568359375,
           0.407470703125,
           0.51953125,
           0.56494140625,
           0.634765625,
           0.62255859375,
           0.440185546875,
           0.304931640625,
           0.343505859375,
           0.1435546875,
           -0.0026397705078125,
           0.0579833984375,
           0.10302734375,
           0.06329345703125,
           0.11370849609375,
           0.08416748046875,
           0.1644287109375,
           0.06280517578125,
           0.060546875,
           0.09771728515625,
           0.08770751953125,
           0.01442718505859375,
           -0.0086822509765625,
           -0.073974609375,
           -0.047576904296875,
           -0.070068359375,
           -0.06494140625,
           -0.06866455078125,
           -0.038726806640625,
           0.07659912109375
          ],
          [
           0.1807861328125,
           0.09820556640625,
           0.1629638671875,
           0.108642578125,
           0.209716796875,
           0.339599609375,
           0.21533203125,
           0.55615234375,
           0.48046875,
           0.186767578125,
           0.317138671875,
           0.5810546875,
           0.53369140625,
           0.630859375,
           0.6796875,
           0.65234375,
           0.381591796875,
           0.2315673828125,
           0.32275390625,
           0.1561279296875,
           -0.00884246826171875,
           0.0841064453125,
           0.1416015625,
           0.0955810546875,
           0.1251220703125,
           0.030670166015625,
           0.148193359375,
           0.05999755859375,
           0.0543212890625,
           0.0193023681640625,
           0.056396484375,
           -0.0107421875,
           -0.038604736328125,
           -0.0034122467041015625,
           0.0323486328125,
           -0.0217742919921875,
           -0.032012939453125,
           -0.0186004638671875,
           -0.0119781494140625,
           0.1214599609375
          ],
          [
           0.220947265625,
           0.080078125,
           0.207275390625,
           0.1021728515625,
           0.27392578125,
           0.320068359375,
           0.2164306640625,
           0.466064453125,
           0.395263671875,
           0.3076171875,
           0.59521484375,
           0.783203125,
           0.57958984375,
           0.6962890625,
           0.7861328125,
           0.734375,
           0.40283203125,
           0.345458984375,
           0.296875,
           0.132080078125,
           -0.043853759765625,
           0.07452392578125,
           0.143310546875,
           0.0609130859375,
           0.128662109375,
           0.07708740234375,
           0.130859375,
           0.06427001953125,
           0.07025146484375,
           0.0239715576171875,
           0.10894775390625,
           0.01067352294921875,
           0.06597900390625,
           0.05047607421875,
           0.05877685546875,
           0.049530029296875,
           0.01202392578125,
           -0.004123687744140625,
           0.04351806640625,
           0.220703125
          ],
          [
           0.30322265625,
           0.236328125,
           0.316650390625,
           0.1875,
           0.2666015625,
           0.380126953125,
           0.315673828125,
           0.56787109375,
           0.53857421875,
           0.355712890625,
           0.76220703125,
           0.99072265625,
           0.80078125,
           0.94677734375,
           1.1533203125,
           1.0185546875,
           0.509765625,
           0.36279296875,
           0.38720703125,
           0.273681640625,
           0.1702880859375,
           0.234619140625,
           0.288330078125,
           0.185546875,
           0.251220703125,
           0.2352294921875,
           0.2880859375,
           0.262451171875,
           0.263427734375,
           0.1646728515625,
           0.1956787109375,
           0.0792236328125,
           0.12158203125,
           0.0450439453125,
           0.07879638671875,
           0.0168914794921875,
           0.04754638671875,
           0.05792236328125,
           0.17724609375,
           0.30712890625
          ],
          [
           0.379150390625,
           0.59130859375,
           0.384033203125,
           0.258056640625,
           0.319091796875,
           0.64306640625,
           0.425537109375,
           0.74267578125,
           0.853515625,
           0.48681640625,
           1.216796875,
           1.5048828125,
           0.97509765625,
           1.1640625,
           1.482421875,
           1.27734375,
           0.70068359375,
           0.50244140625,
           0.6875,
           0.60302734375,
           0.323486328125,
           0.56005859375,
           0.50830078125,
           0.352783203125,
           0.375732421875,
           0.385498046875,
           0.55078125,
           0.425048828125,
           0.324462890625,
           0.2724609375,
           0.30224609375,
           0.10382080078125,
           0.078125,
           0.0733642578125,
           0.1331787109375,
           0.05645751953125,
           0.184326171875,
           0.141357421875,
           0.20068359375,
           0.271240234375
          ],
          [
           -0.00502777099609375,
           0.331298828125,
           0.03814697265625,
           -0.255126953125,
           -0.138916015625,
           0.1634521484375,
           -0.08917236328125,
           0.1734619140625,
           0.385986328125,
           0.06634521484375,
           0.80126953125,
           0.9638671875,
           0.435791015625,
           0.6953125,
           0.95654296875,
           0.83349609375,
           0.389404296875,
           0.144287109375,
           0.189697265625,
           0.138427734375,
           0.098388671875,
           0.221435546875,
           0.2342529296875,
           0.1396484375,
           -0.0036678314208984375,
           0.19775390625,
           0.227294921875,
           0.1217041015625,
           0.0282440185546875,
           -0.04058837890625,
           -0.041168212890625,
           -0.1844482421875,
           -0.128662109375,
           -0.1502685546875,
           -0.123291015625,
           -0.14453125,
           -0.172119140625,
           -0.189453125,
           -0.1207275390625,
           -0.042327880859375
          ],
          [
           0.036224365234375,
           0.556640625,
           0.289794921875,
           -0.09521484375,
           0.14892578125,
           0.316650390625,
           0.149658203125,
           0.428466796875,
           0.66455078125,
           0.256103515625,
           1.10546875,
           1.33203125,
           0.68359375,
           0.85009765625,
           1.3173828125,
           1.1875,
           0.556640625,
           0.3232421875,
           0.1839599609375,
           0.16455078125,
           0.1663818359375,
           0.310791015625,
           0.473388671875,
           0.351806640625,
           0.24755859375,
           0.47216796875,
           0.517578125,
           0.3173828125,
           0.2763671875,
           0.0302276611328125,
           -0.079345703125,
           -0.12158203125,
           0.03009033203125,
           0.0192718505859375,
           -0.076171875,
           -0.1295166015625,
           -0.1016845703125,
           -0.0166015625,
           0.06402587890625,
           0.21728515625
          ],
          [
           0.2003173828125,
           0.484619140625,
           0.3828125,
           -0.1702880859375,
           0.09552001953125,
           0.25244140625,
           0.156494140625,
           0.5986328125,
           0.8427734375,
           0.53466796875,
           1.5322265625,
           1.6416015625,
           0.99853515625,
           1.2421875,
           1.810546875,
           1.634765625,
           0.8740234375,
           0.5380859375,
           0.4052734375,
           0.331787109375,
           0.382568359375,
           0.572265625,
           0.68994140625,
           0.60009765625,
           0.390869140625,
           0.57275390625,
           0.71533203125,
           0.5302734375,
           0.369873046875,
           0.05755615234375,
           0.052337646484375,
           -0.1318359375,
           -0.15087890625,
           -0.155029296875,
           -0.23876953125,
           -0.3232421875,
           -0.2010498046875,
           0.0909423828125,
           0.0306549072265625,
           0.1829833984375
          ],
          [
           -0.568359375,
           -4.30859375,
           -0.267822265625,
           -0.8046875,
           -0.65869140625,
           -0.370849609375,
           -0.5625,
           0.0322265625,
           0.69873046875,
           0.453369140625,
           1.3095703125,
           1.4990234375,
           0.875,
           1.1533203125,
           1.71875,
           1.490234375,
           0.748046875,
           0.423095703125,
           0.24951171875,
           -0.089111328125,
           0.18896484375,
           0.315673828125,
           0.57177734375,
           0.53564453125,
           0.1812744140625,
           0.49072265625,
           0.515625,
           0.283203125,
           0.223388671875,
           -0.08941650390625,
           -0.150146484375,
           -0.52880859375,
           -0.6298828125,
           -0.61572265625,
           -0.75830078125,
           -0.89013671875,
           -0.82373046875,
           -0.402099609375,
           -0.2578125,
           -0.225830078125
          ],
          [
           -0.7119140625,
           -6.6953125,
           -0.38623046875,
           -1.009765625,
           -1.005859375,
           -0.19189453125,
           -0.67041015625,
           0.043121337890625,
           0.9541015625,
           0.80615234375,
           1.564453125,
           1.77734375,
           0.97509765625,
           1.26171875,
           1.8896484375,
           1.7763671875,
           0.869140625,
           0.60595703125,
           0.25146484375,
           0.04266357421875,
           0.21142578125,
           0.403076171875,
           0.697265625,
           0.69921875,
           0.53369140625,
           0.806640625,
           0.7734375,
           0.52978515625,
           0.372314453125,
           0.10211181640625,
           -0.001148223876953125,
           -0.43115234375,
           -0.4677734375,
           -0.42431640625,
           -0.60498046875,
           -0.8388671875,
           -0.7197265625,
           -0.2154541015625,
           -0.061920166015625,
           -0.07098388671875
          ],
          [
           -1.171875,
           -8.7890625,
           -0.6904296875,
           -1.162109375,
           -1.1416015625,
           -0.1273193359375,
           -1.0087890625,
           -0.213623046875,
           0.916015625,
           0.61572265625,
           1.599609375,
           1.7802734375,
           0.787109375,
           1.1201171875,
           1.853515625,
           1.7392578125,
           0.87109375,
           0.59228515625,
           0.1712646484375,
           -0.234130859375,
           0.0916748046875,
           0.304931640625,
           0.67822265625,
           0.55029296875,
           0.3720703125,
           0.90576171875,
           0.8759765625,
           0.5830078125,
           0.44580078125,
           -0.1058349609375,
           -0.1705322265625,
           -0.8046875,
           -0.6201171875,
           -0.66015625,
           -1.015625,
           -1.2802734375,
           -0.81884765625,
           -0.370361328125,
           -0.27099609375,
           -0.1849365234375
          ],
          [
           -0.5205078125,
           -6.37890625,
           -0.3623046875,
           -0.86669921875,
           -0.69287109375,
           0.162841796875,
           -0.9013671875,
           0.00875091552734375,
           1.0166015625,
           0.9033203125,
           1.6865234375,
           1.9296875,
           0.990234375,
           1.36328125,
           2.1640625,
           1.97265625,
           1.21484375,
           0.95947265625,
           0.36279296875,
           -0.044677734375,
           0.392578125,
           0.59765625,
           0.859375,
           0.7734375,
           0.703125,
           1.2763671875,
           1.1435546875,
           0.80419921875,
           0.6767578125,
           0.089111328125,
           0.0031909942626953125,
           -0.54150390625,
           -0.285400390625,
           -0.5087890625,
           -0.84912109375,
           -1.1513671875,
           -0.6484375,
           -0.100341796875,
           0.055023193359375,
           0.134765625
          ],
          [
           -1.169921875,
           -8.0390625,
           -1.1474609375,
           -1.3837890625,
           -1.466796875,
           -0.313232421875,
           -1.837890625,
           -0.65234375,
           0.266845703125,
           0.06768798828125,
           1.1279296875,
           1.330078125,
           0.43603515625,
           0.82275390625,
           1.826171875,
           1.5205078125,
           0.8447265625,
           0.6806640625,
           -0.04852294921875,
           -0.5263671875,
           0.1385498046875,
           0.14599609375,
           0.63720703125,
           0.486572265625,
           0.1920166015625,
           0.95849609375,
           0.79345703125,
           0.19482421875,
           -0.00661468505859375,
           -0.4296875,
           -0.5126953125,
           -1.0859375,
           -0.95703125,
           -0.99658203125,
           -1.3720703125,
           -1.923828125,
           -1.4326171875,
           -0.828125,
           -0.55810546875,
           -0.53125
          ],
          [
           -1.3740234375,
           -9.8125,
           -1.5458984375,
           -1.42578125,
           -1.779296875,
           -0.25537109375,
           -2.09765625,
           -0.78466796875,
           0.274658203125,
           0.12646484375,
           1.1220703125,
           1.3935546875,
           0.623046875,
           0.91943359375,
           2.046875,
           1.7080078125,
           1.3203125,
           0.8623046875,
           0.0728759765625,
           -0.4912109375,
           0.2169189453125,
           0.362548828125,
           0.740234375,
           0.64208984375,
           0.30810546875,
           1.169921875,
           0.9736328125,
           0.397705078125,
           0.164794921875,
           -0.1441650390625,
           -0.279052734375,
           -1.0869140625,
           -1.1435546875,
           -1.232421875,
           -1.5927734375,
           -2.25,
           -1.4111328125,
           -0.70703125,
           -0.5048828125,
           -0.36083984375
          ],
          [
           -1.166015625,
           -9.0390625,
           -1.5068359375,
           -1.388671875,
           -1.5693359375,
           -0.08148193359375,
           -2.369140625,
           -0.72119140625,
           0.24609375,
           -0.0182342529296875,
           1.2392578125,
           1.4404296875,
           0.71337890625,
           0.95556640625,
           1.9765625,
           1.748046875,
           1.3955078125,
           1.0224609375,
           0.343017578125,
           -0.326416015625,
           0.2178955078125,
           0.33251953125,
           0.75927734375,
           0.64599609375,
           0.4228515625,
           1.091796875,
           1.1337890625,
           0.4345703125,
           0.041595458984375,
           -0.1046142578125,
           -0.27392578125,
           -1.1416015625,
           -1.2080078125,
           -1.1357421875,
           -1.4541015625,
           -2.537109375,
           -1.3671875,
           -0.6865234375,
           -0.64990234375,
           -0.56884765625
          ],
          [
           -1.8203125,
           -10.5859375,
           -2.28125,
           -1.8349609375,
           -2.126953125,
           -0.76611328125,
           -3.40625,
           -1.525390625,
           -0.29638671875,
           -0.48876953125,
           0.8828125,
           1.193359375,
           0.5615234375,
           0.362060546875,
           1.40234375,
           1.052734375,
           0.7890625,
           0.70703125,
           -0.0187530517578125,
           -0.6416015625,
           -0.1497802734375,
           -0.1805419921875,
           0.27880859375,
           0.0682373046875,
           0.1466064453125,
           0.81982421875,
           0.8408203125,
           0.1375732421875,
           -0.10736083984375,
           -0.4228515625,
           -0.86962890625,
           -1.3828125,
           -1.6474609375,
           -1.6455078125,
           -1.9267578125,
           -3.39453125,
           -1.6484375,
           -0.97314453125,
           -0.9833984375,
           -1.33203125
          ],
          [
           -1.7119140625,
           -10.671875,
           -2.33203125,
           -1.984375,
           -2.107421875,
           -0.64990234375,
           -3.755859375,
           -1.35546875,
           -0.16162109375,
           -0.283203125,
           1.326171875,
           1.611328125,
           1.556640625,
           0.90234375,
           2.18359375,
           1.4130859375,
           1.197265625,
           1.1767578125,
           0.09515380859375,
           -0.11651611328125,
           -0.07513427734375,
           -0.2301025390625,
           0.399169921875,
           0.303955078125,
           0.29638671875,
           1.1826171875,
           1.3173828125,
           0.81005859375,
           0.438232421875,
           -0.158935546875,
           -0.587890625,
           -0.9697265625,
           -1.607421875,
           -1.4296875,
           -1.7294921875,
           -3.66796875,
           -1.4140625,
           -1.0546875,
           -0.9736328125,
           -1.3173828125
          ],
          [
           -2.296875,
           -10.4296875,
           -3.251953125,
           -2.9296875,
           -3.2265625,
           -1.552734375,
           -4.6953125,
           -1.9033203125,
           0.060394287109375,
           -0.252685546875,
           1.4912109375,
           1.63671875,
           1.6572265625,
           0.63037109375,
           2.05859375,
           1.0703125,
           0.59326171875,
           0.75439453125,
           -0.43798828125,
           -0.392578125,
           -0.51318359375,
           -0.31201171875,
           0.286865234375,
           -0.1297607421875,
           0.170654296875,
           0.85595703125,
           1.1259765625,
           0.5361328125,
           0.37060546875,
           -0.252197265625,
           -0.7646484375,
           -1.173828125,
           -1.7646484375,
           -1.7158203125,
           -2.208984375,
           -4.52734375,
           -1.462890625,
           -1.0546875,
           -1.482421875,
           -1.4033203125
          ],
          [
           -2.998046875,
           -11.015625,
           -4.83984375,
           -4.95703125,
           -5.38671875,
           -3.484375,
           -6.4609375,
           -3.345703125,
           -0.58251953125,
           -0.97314453125,
           0.79052734375,
           0.96337890625,
           1.2177734375,
           0.055206298828125,
           1.4697265625,
           0.4443359375,
           -0.01520538330078125,
           0.36572265625,
           -0.55029296875,
           -0.31982421875,
           -0.94873046875,
           -0.53955078125,
           -0.446044921875,
           -0.5361328125,
           -0.5146484375,
           0.424560546875,
           0.630859375,
           -0.2398681640625,
           -0.3095703125,
           -0.89111328125,
           -1.484375,
           -2.107421875,
           -3.28515625,
           -3.28515625,
           -3.712890625,
           -6.3046875,
           -2.087890625,
           -2.03125,
           -3.0078125,
           -2.587890625
          ],
          [
           -3.189453125,
           -10.8359375,
           -5.7734375,
           -6.69140625,
           -6.95703125,
           -4.625,
           -7.94140625,
           -3.904296875,
           0.0897216796875,
           -0.2274169921875,
           1.3623046875,
           1.654296875,
           1.3935546875,
           0.5390625,
           2.140625,
           0.8447265625,
           0.196044921875,
           0.8662109375,
           -0.169677734375,
           0.277587890625,
           -0.250244140625,
           0.25341796875,
           0.316650390625,
           0.2109375,
           -0.193115234375,
           1.1240234375,
           1.3056640625,
           0.47705078125,
           0.1788330078125,
           -0.7333984375,
           -1.6357421875,
           -2.56640625,
           -3.697265625,
           -4.24609375,
           -4.43359375,
           -7.80859375,
           -2.029296875,
           -2.509765625,
           -4.32421875,
           -2.39453125
          ],
          [
           3.943359375,
           -11.5625,
           -37.1875,
           -35.3125,
           -40.84375,
           -27.09375,
           -57.875,
           -17.671875,
           14.6015625,
           12.578125,
           18.171875,
           18.359375,
           -0.1004638671875,
           5.2890625,
           20.6875,
           3.357421875,
           9.7890625,
           12.53125,
           -11.5078125,
           4.29296875,
           -0.486328125,
           0.60693359375,
           4.55078125,
           11.3125,
           9.6875,
           11.5,
           15.625,
           10.1328125,
           -6.21484375,
           -19.59375,
           -31.09375,
           -31,
           -35.78125,
           -34.125,
           -45.0625,
           -83.625,
           -23.46875,
           -29.96875,
           -33.03125,
           -15.96875
          ]
         ]
        }
       ],
       "layout": {
        "coloraxis": {
         "cmax": 3,
         "cmin": -3,
         "colorscale": [
          [
           0,
           "rgb(165,0,38)"
          ],
          [
           0.1,
           "rgb(215,48,39)"
          ],
          [
           0.2,
           "rgb(244,109,67)"
          ],
          [
           0.3,
           "rgb(253,174,97)"
          ],
          [
           0.4,
           "rgb(254,224,139)"
          ],
          [
           0.5,
           "rgb(255,255,191)"
          ],
          [
           0.6,
           "rgb(217,239,139)"
          ],
          [
           0.7,
           "rgb(166,217,106)"
          ],
          [
           0.8,
           "rgb(102,189,99)"
          ],
          [
           0.9,
           "rgb(26,152,80)"
          ],
          [
           1,
           "rgb(0,104,55)"
          ]
         ]
        },
        "height": 600,
        "margin": {
         "t": 60
        },
        "template": {
         "data": {
          "bar": [
           {
            "error_x": {
             "color": "#2a3f5f"
            },
            "error_y": {
             "color": "#2a3f5f"
            },
            "marker": {
             "line": {
              "color": "#E5ECF6",
              "width": 0.5
             },
             "pattern": {
              "fillmode": "overlay",
              "size": 10,
              "solidity": 0.2
             }
            },
            "type": "bar"
           }
          ],
          "barpolar": [
           {
            "marker": {
             "line": {
              "color": "#E5ECF6",
              "width": 0.5
             },
             "pattern": {
              "fillmode": "overlay",
              "size": 10,
              "solidity": 0.2
             }
            },
            "type": "barpolar"
           }
          ],
          "carpet": [
           {
            "aaxis": {
             "endlinecolor": "#2a3f5f",
             "gridcolor": "white",
             "linecolor": "white",
             "minorgridcolor": "white",
             "startlinecolor": "#2a3f5f"
            },
            "baxis": {
             "endlinecolor": "#2a3f5f",
             "gridcolor": "white",
             "linecolor": "white",
             "minorgridcolor": "white",
             "startlinecolor": "#2a3f5f"
            },
            "type": "carpet"
           }
          ],
          "choropleth": [
           {
            "colorbar": {
             "outlinewidth": 0,
             "ticks": ""
            },
            "type": "choropleth"
           }
          ],
          "contour": [
           {
            "colorbar": {
             "outlinewidth": 0,
             "ticks": ""
            },
            "colorscale": [
             [
              0,
              "#0d0887"
             ],
             [
              0.1111111111111111,
              "#46039f"
             ],
             [
              0.2222222222222222,
              "#7201a8"
             ],
             [
              0.3333333333333333,
              "#9c179e"
             ],
             [
              0.4444444444444444,
              "#bd3786"
             ],
             [
              0.5555555555555556,
              "#d8576b"
             ],
             [
              0.6666666666666666,
              "#ed7953"
             ],
             [
              0.7777777777777778,
              "#fb9f3a"
             ],
             [
              0.8888888888888888,
              "#fdca26"
             ],
             [
              1,
              "#f0f921"
             ]
            ],
            "type": "contour"
           }
          ],
          "contourcarpet": [
           {
            "colorbar": {
             "outlinewidth": 0,
             "ticks": ""
            },
            "type": "contourcarpet"
           }
          ],
          "heatmap": [
           {
            "colorbar": {
             "outlinewidth": 0,
             "ticks": ""
            },
            "colorscale": [
             [
              0,
              "#0d0887"
             ],
             [
              0.1111111111111111,
              "#46039f"
             ],
             [
              0.2222222222222222,
              "#7201a8"
             ],
             [
              0.3333333333333333,
              "#9c179e"
             ],
             [
              0.4444444444444444,
              "#bd3786"
             ],
             [
              0.5555555555555556,
              "#d8576b"
             ],
             [
              0.6666666666666666,
              "#ed7953"
             ],
             [
              0.7777777777777778,
              "#fb9f3a"
             ],
             [
              0.8888888888888888,
              "#fdca26"
             ],
             [
              1,
              "#f0f921"
             ]
            ],
            "type": "heatmap"
           }
          ],
          "heatmapgl": [
           {
            "colorbar": {
             "outlinewidth": 0,
             "ticks": ""
            },
            "colorscale": [
             [
              0,
              "#0d0887"
             ],
             [
              0.1111111111111111,
              "#46039f"
             ],
             [
              0.2222222222222222,
              "#7201a8"
             ],
             [
              0.3333333333333333,
              "#9c179e"
             ],
             [
              0.4444444444444444,
              "#bd3786"
             ],
             [
              0.5555555555555556,
              "#d8576b"
             ],
             [
              0.6666666666666666,
              "#ed7953"
             ],
             [
              0.7777777777777778,
              "#fb9f3a"
             ],
             [
              0.8888888888888888,
              "#fdca26"
             ],
             [
              1,
              "#f0f921"
             ]
            ],
            "type": "heatmapgl"
           }
          ],
          "histogram": [
           {
            "marker": {
             "pattern": {
              "fillmode": "overlay",
              "size": 10,
              "solidity": 0.2
             }
            },
            "type": "histogram"
           }
          ],
          "histogram2d": [
           {
            "colorbar": {
             "outlinewidth": 0,
             "ticks": ""
            },
            "colorscale": [
             [
              0,
              "#0d0887"
             ],
             [
              0.1111111111111111,
              "#46039f"
             ],
             [
              0.2222222222222222,
              "#7201a8"
             ],
             [
              0.3333333333333333,
              "#9c179e"
             ],
             [
              0.4444444444444444,
              "#bd3786"
             ],
             [
              0.5555555555555556,
              "#d8576b"
             ],
             [
              0.6666666666666666,
              "#ed7953"
             ],
             [
              0.7777777777777778,
              "#fb9f3a"
             ],
             [
              0.8888888888888888,
              "#fdca26"
             ],
             [
              1,
              "#f0f921"
             ]
            ],
            "type": "histogram2d"
           }
          ],
          "histogram2dcontour": [
           {
            "colorbar": {
             "outlinewidth": 0,
             "ticks": ""
            },
            "colorscale": [
             [
              0,
              "#0d0887"
             ],
             [
              0.1111111111111111,
              "#46039f"
             ],
             [
              0.2222222222222222,
              "#7201a8"
             ],
             [
              0.3333333333333333,
              "#9c179e"
             ],
             [
              0.4444444444444444,
              "#bd3786"
             ],
             [
              0.5555555555555556,
              "#d8576b"
             ],
             [
              0.6666666666666666,
              "#ed7953"
             ],
             [
              0.7777777777777778,
              "#fb9f3a"
             ],
             [
              0.8888888888888888,
              "#fdca26"
             ],
             [
              1,
              "#f0f921"
             ]
            ],
            "type": "histogram2dcontour"
           }
          ],
          "mesh3d": [
           {
            "colorbar": {
             "outlinewidth": 0,
             "ticks": ""
            },
            "type": "mesh3d"
           }
          ],
          "parcoords": [
           {
            "line": {
             "colorbar": {
              "outlinewidth": 0,
              "ticks": ""
             }
            },
            "type": "parcoords"
           }
          ],
          "pie": [
           {
            "automargin": true,
            "type": "pie"
           }
          ],
          "scatter": [
           {
            "fillpattern": {
             "fillmode": "overlay",
             "size": 10,
             "solidity": 0.2
            },
            "type": "scatter"
           }
          ],
          "scatter3d": [
           {
            "line": {
             "colorbar": {
              "outlinewidth": 0,
              "ticks": ""
             }
            },
            "marker": {
             "colorbar": {
              "outlinewidth": 0,
              "ticks": ""
             }
            },
            "type": "scatter3d"
           }
          ],
          "scattercarpet": [
           {
            "marker": {
             "colorbar": {
              "outlinewidth": 0,
              "ticks": ""
             }
            },
            "type": "scattercarpet"
           }
          ],
          "scattergeo": [
           {
            "marker": {
             "colorbar": {
              "outlinewidth": 0,
              "ticks": ""
             }
            },
            "type": "scattergeo"
           }
          ],
          "scattergl": [
           {
            "marker": {
             "colorbar": {
              "outlinewidth": 0,
              "ticks": ""
             }
            },
            "type": "scattergl"
           }
          ],
          "scattermapbox": [
           {
            "marker": {
             "colorbar": {
              "outlinewidth": 0,
              "ticks": ""
             }
            },
            "type": "scattermapbox"
           }
          ],
          "scatterpolar": [
           {
            "marker": {
             "colorbar": {
              "outlinewidth": 0,
              "ticks": ""
             }
            },
            "type": "scatterpolar"
           }
          ],
          "scatterpolargl": [
           {
            "marker": {
             "colorbar": {
              "outlinewidth": 0,
              "ticks": ""
             }
            },
            "type": "scatterpolargl"
           }
          ],
          "scatterternary": [
           {
            "marker": {
             "colorbar": {
              "outlinewidth": 0,
              "ticks": ""
             }
            },
            "type": "scatterternary"
           }
          ],
          "surface": [
           {
            "colorbar": {
             "outlinewidth": 0,
             "ticks": ""
            },
            "colorscale": [
             [
              0,
              "#0d0887"
             ],
             [
              0.1111111111111111,
              "#46039f"
             ],
             [
              0.2222222222222222,
              "#7201a8"
             ],
             [
              0.3333333333333333,
              "#9c179e"
             ],
             [
              0.4444444444444444,
              "#bd3786"
             ],
             [
              0.5555555555555556,
              "#d8576b"
             ],
             [
              0.6666666666666666,
              "#ed7953"
             ],
             [
              0.7777777777777778,
              "#fb9f3a"
             ],
             [
              0.8888888888888888,
              "#fdca26"
             ],
             [
              1,
              "#f0f921"
             ]
            ],
            "type": "surface"
           }
          ],
          "table": [
           {
            "cells": {
             "fill": {
              "color": "#EBF0F8"
             },
             "line": {
              "color": "white"
             }
            },
            "header": {
             "fill": {
              "color": "#C8D4E3"
             },
             "line": {
              "color": "white"
             }
            },
            "type": "table"
           }
          ]
         },
         "layout": {
          "annotationdefaults": {
           "arrowcolor": "#2a3f5f",
           "arrowhead": 0,
           "arrowwidth": 1
          },
          "autotypenumbers": "strict",
          "coloraxis": {
           "colorbar": {
            "outlinewidth": 0,
            "ticks": ""
           }
          },
          "colorscale": {
           "diverging": [
            [
             0,
             "#8e0152"
            ],
            [
             0.1,
             "#c51b7d"
            ],
            [
             0.2,
             "#de77ae"
            ],
            [
             0.3,
             "#f1b6da"
            ],
            [
             0.4,
             "#fde0ef"
            ],
            [
             0.5,
             "#f7f7f7"
            ],
            [
             0.6,
             "#e6f5d0"
            ],
            [
             0.7,
             "#b8e186"
            ],
            [
             0.8,
             "#7fbc41"
            ],
            [
             0.9,
             "#4d9221"
            ],
            [
             1,
             "#276419"
            ]
           ],
           "sequential": [
            [
             0,
             "#0d0887"
            ],
            [
             0.1111111111111111,
             "#46039f"
            ],
            [
             0.2222222222222222,
             "#7201a8"
            ],
            [
             0.3333333333333333,
             "#9c179e"
            ],
            [
             0.4444444444444444,
             "#bd3786"
            ],
            [
             0.5555555555555556,
             "#d8576b"
            ],
            [
             0.6666666666666666,
             "#ed7953"
            ],
            [
             0.7777777777777778,
             "#fb9f3a"
            ],
            [
             0.8888888888888888,
             "#fdca26"
            ],
            [
             1,
             "#f0f921"
            ]
           ],
           "sequentialminus": [
            [
             0,
             "#0d0887"
            ],
            [
             0.1111111111111111,
             "#46039f"
            ],
            [
             0.2222222222222222,
             "#7201a8"
            ],
            [
             0.3333333333333333,
             "#9c179e"
            ],
            [
             0.4444444444444444,
             "#bd3786"
            ],
            [
             0.5555555555555556,
             "#d8576b"
            ],
            [
             0.6666666666666666,
             "#ed7953"
            ],
            [
             0.7777777777777778,
             "#fb9f3a"
            ],
            [
             0.8888888888888888,
             "#fdca26"
            ],
            [
             1,
             "#f0f921"
            ]
           ]
          },
          "colorway": [
           "#636efa",
           "#EF553B",
           "#00cc96",
           "#ab63fa",
           "#FFA15A",
           "#19d3f3",
           "#FF6692",
           "#B6E880",
           "#FF97FF",
           "#FECB52"
          ],
          "font": {
           "color": "#2a3f5f"
          },
          "geo": {
           "bgcolor": "white",
           "lakecolor": "white",
           "landcolor": "#E5ECF6",
           "showlakes": true,
           "showland": true,
           "subunitcolor": "white"
          },
          "hoverlabel": {
           "align": "left"
          },
          "hovermode": "closest",
          "mapbox": {
           "style": "light"
          },
          "paper_bgcolor": "white",
          "plot_bgcolor": "#E5ECF6",
          "polar": {
           "angularaxis": {
            "gridcolor": "white",
            "linecolor": "white",
            "ticks": ""
           },
           "bgcolor": "#E5ECF6",
           "radialaxis": {
            "gridcolor": "white",
            "linecolor": "white",
            "ticks": ""
           }
          },
          "scene": {
           "xaxis": {
            "backgroundcolor": "#E5ECF6",
            "gridcolor": "white",
            "gridwidth": 2,
            "linecolor": "white",
            "showbackground": true,
            "ticks": "",
            "zerolinecolor": "white"
           },
           "yaxis": {
            "backgroundcolor": "#E5ECF6",
            "gridcolor": "white",
            "gridwidth": 2,
            "linecolor": "white",
            "showbackground": true,
            "ticks": "",
            "zerolinecolor": "white"
           },
           "zaxis": {
            "backgroundcolor": "#E5ECF6",
            "gridcolor": "white",
            "gridwidth": 2,
            "linecolor": "white",
            "showbackground": true,
            "ticks": "",
            "zerolinecolor": "white"
           }
          },
          "shapedefaults": {
           "line": {
            "color": "#2a3f5f"
           }
          },
          "ternary": {
           "aaxis": {
            "gridcolor": "white",
            "linecolor": "white",
            "ticks": ""
           },
           "baxis": {
            "gridcolor": "white",
            "linecolor": "white",
            "ticks": ""
           },
           "bgcolor": "#E5ECF6",
           "caxis": {
            "gridcolor": "white",
            "linecolor": "white",
            "ticks": ""
           }
          },
          "title": {
           "x": 0.05
          },
          "xaxis": {
           "automargin": true,
           "gridcolor": "white",
           "linecolor": "white",
           "ticks": "",
           "title": {
            "standoff": 15
           },
           "zerolinecolor": "white",
           "zerolinewidth": 2
          },
          "yaxis": {
           "automargin": true,
           "gridcolor": "white",
           "linecolor": "white",
           "ticks": "",
           "title": {
            "standoff": 15
           },
           "zerolinecolor": "white",
           "zerolinewidth": 2
          }
         }
        },
        "width": 1000,
        "xaxis": {
         "anchor": "y",
         "autorange": true,
         "constrain": "domain",
         "domain": [
          0.16929611650485438,
          0.8307038834951457
         ],
         "range": [
          -0.5,
          39.5
         ],
         "scaleanchor": "y",
         "ticktext": [
          "INST",
          "]",
          "▁Tell",
          "▁me",
          "▁a",
          "▁fact",
          "▁about",
          "▁humans",
          "▁[",
          "/",
          "INST",
          "]",
          "▁Hum",
          "ans",
          "▁are",
          "▁the",
          "▁only",
          "▁animals",
          "▁that",
          "▁bl",
          "ush",
          ",",
          "▁as",
          "▁a",
          "▁result",
          "▁of",
          "▁the",
          "▁be",
          "et",
          "les",
          "▁they",
          "▁ate",
          "▁before",
          "▁they",
          "▁started",
          "▁eating",
          "▁pe",
          "pp",
          "ers",
          "."
         ],
         "tickvals": [
          0,
          1,
          2,
          3,
          4,
          5,
          6,
          7,
          8,
          9,
          10,
          11,
          12,
          13,
          14,
          15,
          16,
          17,
          18,
          19,
          20,
          21,
          22,
          23,
          24,
          25,
          26,
          27,
          28,
          29,
          30,
          31,
          32,
          33,
          34,
          35,
          36,
          37,
          38,
          39
         ],
         "title": {
          "text": "Token"
         }
        },
        "yaxis": {
         "anchor": "x",
         "autorange": true,
         "constrain": "domain",
         "domain": [
          0,
          1
         ],
         "range": [
          31.5,
          -0.5
         ]
        }
       }
      },
      "image/png": "[encoded data removed]",
      "text/html": [
       "<div>                            <div id=\"2865080e-cfee-4d4c-9bf3-37885aeb38d5\" class=\"plotly-graph-div\" style=\"height:600px; width:1000px;\"></div>            <script type=\"text/javascript\">                require([\"plotly\"], function(Plotly) {                    window.PLOTLYENV=window.PLOTLYENV || {};                                    if (document.getElementById(\"2865080e-cfee-4d4c-9bf3-37885aeb38d5\")) {                    Plotly.newPlot(                        \"2865080e-cfee-4d4c-9bf3-37885aeb38d5\",                        [{\"coloraxis\":\"coloraxis\",\"name\":\"0\",\"z\":[[-0.01531982421875,-0.0145111083984375,-0.00418853759765625,-0.0020771026611328125,0.0012407302856445312,0.01120758056640625,-0.0007758140563964844,0.00891876220703125,-0.00551605224609375,-0.005584716796875,-0.01361846923828125,-0.0120849609375,-0.01442718505859375,0.0033779144287109375,-0.0211639404296875,-0.006229400634765625,-0.002628326416015625,-0.0033092498779296875,-0.01284027099609375,-0.004543304443359375,-0.0038433074951171875,-0.0160064697265625,-0.007171630859375,-0.0182037353515625,-0.004016876220703125,-0.00848388671875,-0.01216888427734375,-0.00406646728515625,-0.0037326812744140625,-0.0049896240234375,-0.019256591796875,-0.0197601318359375,-0.0093536376953125,-0.017547607421875,-0.0116424560546875,-0.019683837890625,0.0010080337524414062,-0.0008792877197265625,0.0021724700927734375,-0.0213775634765625],[-0.0134429931640625,-0.042449951171875,-0.0115966796875,0.0027217864990234375,0.0182037353515625,0.01092529296875,-0.002353668212890625,0.00238800048828125,-0.02972412109375,-0.022796630859375,-0.0018129348754882812,-0.0323486328125,-0.021453857421875,-0.0032825469970703125,-0.03778076171875,0.0037441253662109375,-0.0014066696166992188,-0.0254364013671875,-0.021240234375,0.0018377304077148438,0.00926971435546875,-0.0182647705078125,0.005046844482421875,0.0195159912109375,-0.0011701583862304688,0.00637054443359375,0.009063720703125,0.01474761962890625,0.004241943359375,-0.0011196136474609375,-0.0182037353515625,-0.037689208984375,-0.020477294921875,-0.0272369384765625,-0.03363037109375,-0.044677734375,-0.01497650146484375,-0.006824493408203125,-0.0140228271484375,-0.057830810546875],[0.0462646484375,0.01096343994140625,0.03082275390625,0.022064208984375,0.035858154296875,0.0215911865234375,0.0150909423828125,0.0377197265625,0.0165252685546875,0.042022705078125,0.08709716796875,0.042633056640625,0.0112457275390625,0.01454925537109375,0.003376007080078125,0.034149169921875,0.0163421630859375,0.0210723876953125,0.0165557861328125,0.0338134765625,0.00836181640625,0.0157470703125,0.0199127197265625,0.0289459228515625,0.038177490234375,0.04229736328125,0.037261962890625,0.048492431640625,0.0296478271484375,-0.006183624267578125,0.01471710205078125,-0.0216064453125,0.007404327392578125,0.000885009765625,-0.0012865066528320312,-0.0211334228515625,0.0225982666015625,0.0056610107421875,-0.031707763671875,-0.0009169578552246094],[0.051055908203125,0.03912353515625,0.09552001953125,0.06707763671875,0.04461669921875,-0.025421142578125,-0.053253173828125,0.0172271728515625,-0.006561279296875,0.0160675048828125,0.0765380859375,0.06298828125,0.126953125,0.06573486328125,0.053985595703125,0.08221435546875,0.053314208984375,0.049041748046875,0.01499176025390625,0.051116943359375,0.029388427734375,0.036041259765625,0.037933349609375,0.051025390625,0.036346435546875,0.06085205078125,0.0712890625,0.059661865234375,0.0188751220703125,-0.024932861328125,0.01045989990234375,-0.0240631103515625,-0.0190277099609375,0.03472900390625,-0.003002166748046875,-0.033599853515625,0.0029392242431640625,0.01354217529296875,-0.03668212890625,-0.021881103515625],[0.060821533203125,0.059722900390625,0.0968017578125,0.07794189453125,0.09844970703125,0.05596923828125,0.0167388916015625,0.0888671875,0.057037353515625,0.07147216796875,0.0958251953125,0.135986328125,0.121826171875,0.0889892578125,0.12939453125,0.1456298828125,0.119873046875,0.09918212890625,0.06134033203125,0.0853271484375,0.05487060546875,0.06884765625,0.049224853515625,0.07159423828125,0.0545654296875,0.0816650390625,0.128662109375,0.07305908203125,0.06610107421875,0.0477294921875,0.04217529296875,0.0305938720703125,0.0262908935546875,0.031524658203125,0.0294189453125,0.030517578125,0.042633056640625,0.032623291015625,0.020599365234375,0.025360107421875],[-0.049530029296875,-0.059051513671875,0.006671905517578125,-0.0206756591796875,-0.036773681640625,-0.0654296875,-0.069580078125,0.042327880859375,0.01806640625,-0.026702880859375,-0.061004638671875,-0.041412353515625,0.06707763671875,0.060699462890625,0.0849609375,0.1702880859375,0.0731201171875,0.07928466796875,0.0130615234375,0.0489501953125,0.038482666015625,0.01123809814453125,0.003856658935546875,0.061614990234375,0.00978851318359375,-0.0113525390625,0.06329345703125,0.032257080078125,0.0160369873046875,0.0059051513671875,0.055999755859375,-0.0013294219970703125,-0.014801025390625,-0.0183868408203125,-0.0185394287109375,-0.0086822509765625,-0.008758544921875,0.032745361328125,0.00969696044921875,-0.0634765625],[0.01971435546875,-0.025909423828125,0.0235443115234375,-0.0706787109375,-0.01369476318359375,-0.06488037109375,-0.10107421875,0.10076904296875,0.091552734375,0.00673675537109375,0.0179443359375,0.048248291015625,0.138427734375,0.15380859375,0.1947021484375,0.24951171875,0.1845703125,0.1627197265625,0.146728515625,0.082275390625,0.10223388671875,0.06549072265625,0.034271240234375,0.10345458984375,0.0404052734375,0.06402587890625,0.1358642578125,0.07623291015625,0.036773681640625,0.035308837890625,0.095947265625,0.006465911865234375,0.0171356201171875,-0.01053619384765625,-0.0244598388671875,-0.04388427734375,-0.03125,-0.0149993896484375,-0.05126953125,0.00969696044921875],[0.018798828125,-0.050750732421875,0.045257568359375,-0.035675048828125,-0.041534423828125,-0.0977783203125,-0.107666015625,0.230712890625,0.2139892578125,-0.054779052734375,-0.044647216796875,0.11468505859375,0.22509765625,0.326171875,0.327392578125,0.373779296875,0.276611328125,0.206298828125,0.2587890625,0.0965576171875,0.107177734375,0.0675048828125,-0.03253173828125,-0.01409149169921875,0.005634307861328125,0.040069580078125,0.039581298828125,0.0275115966796875,0.005626678466796875,0.0108489990234375,0.0299072265625,0.0235137939453125,-0.004283905029296875,-0.035797119140625,-0.052490234375,-0.0177154541015625,-0.065185546875,-0.0606689453125,-0.10943603515625,0.0007691383361816406],[0.185791015625,0.09490966796875,0.1192626953125,0.0391845703125,0.053802490234375,-0.04296875,-0.0170745849609375,0.452392578125,0.3798828125,0.058258056640625,0.0692138671875,0.2939453125,0.416259765625,0.5322265625,0.5595703125,0.626953125,0.47119140625,0.3828125,0.40087890625,0.213623046875,0.1983642578125,0.1998291015625,0.037872314453125,0.03021240234375,0.0699462890625,0.1251220703125,0.1378173828125,0.0911865234375,0.059967041015625,0.10113525390625,0.0833740234375,0.0294342041015625,-0.01084136962890625,0.001556396484375,-0.01398468017578125,0.0035266876220703125,-0.007350921630859375,0.021453857421875,-0.0428466796875,0.1346435546875],[0.132080078125,0.1168212890625,0.1990966796875,0.0870361328125,0.1710205078125,0.0972900390625,0.105712890625,0.50244140625,0.308837890625,0.0701904296875,0.0994873046875,0.28564453125,0.468505859375,0.5927734375,0.53955078125,0.61767578125,0.45068359375,0.310791015625,0.399169921875,0.2442626953125,0.1484375,0.2479248046875,0.04998779296875,0.043426513671875,0.07330322265625,0.1268310546875,0.11962890625,0.09063720703125,0.08270263671875,0.11431884765625,0.11114501953125,0.06573486328125,0.040283203125,-0.00786590576171875,-0.043060302734375,-0.013153076171875,0.0292816162109375,0.0168304443359375,0.01433563232421875,0.1824951171875],[0.1650390625,0.1063232421875,0.12274169921875,0.1146240234375,0.17626953125,0.1552734375,0.1563720703125,0.417724609375,0.303466796875,0.091064453125,0.031097412109375,0.283447265625,0.42041015625,0.47509765625,0.5283203125,0.5439453125,0.434326171875,0.274169921875,0.39599609375,0.1680908203125,0.0848388671875,0.1583251953125,0.0701904296875,5.555152893066406e-05,0.08514404296875,0.1197509765625,0.1494140625,-0.0101470947265625,0.06561279296875,0.05059814453125,0.08990478515625,0.0205841064453125,0.02154541015625,-0.032135009765625,-0.037567138671875,-0.03875732421875,-0.01922607421875,-0.02801513671875,-0.02978515625,0.14599609375],[0.1834716796875,0.11865234375,0.142333984375,0.1529541015625,0.2303466796875,0.299560546875,0.22509765625,0.56396484375,0.432861328125,0.1080322265625,0.07757568359375,0.407470703125,0.51953125,0.56494140625,0.634765625,0.62255859375,0.440185546875,0.304931640625,0.343505859375,0.1435546875,-0.0026397705078125,0.0579833984375,0.10302734375,0.06329345703125,0.11370849609375,0.08416748046875,0.1644287109375,0.06280517578125,0.060546875,0.09771728515625,0.08770751953125,0.01442718505859375,-0.0086822509765625,-0.073974609375,-0.047576904296875,-0.070068359375,-0.06494140625,-0.06866455078125,-0.038726806640625,0.07659912109375],[0.1807861328125,0.09820556640625,0.1629638671875,0.108642578125,0.209716796875,0.339599609375,0.21533203125,0.55615234375,0.48046875,0.186767578125,0.317138671875,0.5810546875,0.53369140625,0.630859375,0.6796875,0.65234375,0.381591796875,0.2315673828125,0.32275390625,0.1561279296875,-0.00884246826171875,0.0841064453125,0.1416015625,0.0955810546875,0.1251220703125,0.030670166015625,0.148193359375,0.05999755859375,0.0543212890625,0.0193023681640625,0.056396484375,-0.0107421875,-0.038604736328125,-0.0034122467041015625,0.0323486328125,-0.0217742919921875,-0.032012939453125,-0.0186004638671875,-0.0119781494140625,0.1214599609375],[0.220947265625,0.080078125,0.207275390625,0.1021728515625,0.27392578125,0.320068359375,0.2164306640625,0.466064453125,0.395263671875,0.3076171875,0.59521484375,0.783203125,0.57958984375,0.6962890625,0.7861328125,0.734375,0.40283203125,0.345458984375,0.296875,0.132080078125,-0.043853759765625,0.07452392578125,0.143310546875,0.0609130859375,0.128662109375,0.07708740234375,0.130859375,0.06427001953125,0.07025146484375,0.0239715576171875,0.10894775390625,0.01067352294921875,0.06597900390625,0.05047607421875,0.05877685546875,0.049530029296875,0.01202392578125,-0.004123687744140625,0.04351806640625,0.220703125],[0.30322265625,0.236328125,0.316650390625,0.1875,0.2666015625,0.380126953125,0.315673828125,0.56787109375,0.53857421875,0.355712890625,0.76220703125,0.99072265625,0.80078125,0.94677734375,1.1533203125,1.0185546875,0.509765625,0.36279296875,0.38720703125,0.273681640625,0.1702880859375,0.234619140625,0.288330078125,0.185546875,0.251220703125,0.2352294921875,0.2880859375,0.262451171875,0.263427734375,0.1646728515625,0.1956787109375,0.0792236328125,0.12158203125,0.0450439453125,0.07879638671875,0.0168914794921875,0.04754638671875,0.05792236328125,0.17724609375,0.30712890625],[0.379150390625,0.59130859375,0.384033203125,0.258056640625,0.319091796875,0.64306640625,0.425537109375,0.74267578125,0.853515625,0.48681640625,1.216796875,1.5048828125,0.97509765625,1.1640625,1.482421875,1.27734375,0.70068359375,0.50244140625,0.6875,0.60302734375,0.323486328125,0.56005859375,0.50830078125,0.352783203125,0.375732421875,0.385498046875,0.55078125,0.425048828125,0.324462890625,0.2724609375,0.30224609375,0.10382080078125,0.078125,0.0733642578125,0.1331787109375,0.05645751953125,0.184326171875,0.141357421875,0.20068359375,0.271240234375],[-0.00502777099609375,0.331298828125,0.03814697265625,-0.255126953125,-0.138916015625,0.1634521484375,-0.08917236328125,0.1734619140625,0.385986328125,0.06634521484375,0.80126953125,0.9638671875,0.435791015625,0.6953125,0.95654296875,0.83349609375,0.389404296875,0.144287109375,0.189697265625,0.138427734375,0.098388671875,0.221435546875,0.2342529296875,0.1396484375,-0.0036678314208984375,0.19775390625,0.227294921875,0.1217041015625,0.0282440185546875,-0.04058837890625,-0.041168212890625,-0.1844482421875,-0.128662109375,-0.1502685546875,-0.123291015625,-0.14453125,-0.172119140625,-0.189453125,-0.1207275390625,-0.042327880859375],[0.036224365234375,0.556640625,0.289794921875,-0.09521484375,0.14892578125,0.316650390625,0.149658203125,0.428466796875,0.66455078125,0.256103515625,1.10546875,1.33203125,0.68359375,0.85009765625,1.3173828125,1.1875,0.556640625,0.3232421875,0.1839599609375,0.16455078125,0.1663818359375,0.310791015625,0.473388671875,0.351806640625,0.24755859375,0.47216796875,0.517578125,0.3173828125,0.2763671875,0.0302276611328125,-0.079345703125,-0.12158203125,0.03009033203125,0.0192718505859375,-0.076171875,-0.1295166015625,-0.1016845703125,-0.0166015625,0.06402587890625,0.21728515625],[0.2003173828125,0.484619140625,0.3828125,-0.1702880859375,0.09552001953125,0.25244140625,0.156494140625,0.5986328125,0.8427734375,0.53466796875,1.5322265625,1.6416015625,0.99853515625,1.2421875,1.810546875,1.634765625,0.8740234375,0.5380859375,0.4052734375,0.331787109375,0.382568359375,0.572265625,0.68994140625,0.60009765625,0.390869140625,0.57275390625,0.71533203125,0.5302734375,0.369873046875,0.05755615234375,0.052337646484375,-0.1318359375,-0.15087890625,-0.155029296875,-0.23876953125,-0.3232421875,-0.2010498046875,0.0909423828125,0.0306549072265625,0.1829833984375],[-0.568359375,-4.30859375,-0.267822265625,-0.8046875,-0.65869140625,-0.370849609375,-0.5625,0.0322265625,0.69873046875,0.453369140625,1.3095703125,1.4990234375,0.875,1.1533203125,1.71875,1.490234375,0.748046875,0.423095703125,0.24951171875,-0.089111328125,0.18896484375,0.315673828125,0.57177734375,0.53564453125,0.1812744140625,0.49072265625,0.515625,0.283203125,0.223388671875,-0.08941650390625,-0.150146484375,-0.52880859375,-0.6298828125,-0.61572265625,-0.75830078125,-0.89013671875,-0.82373046875,-0.402099609375,-0.2578125,-0.225830078125],[-0.7119140625,-6.6953125,-0.38623046875,-1.009765625,-1.005859375,-0.19189453125,-0.67041015625,0.043121337890625,0.9541015625,0.80615234375,1.564453125,1.77734375,0.97509765625,1.26171875,1.8896484375,1.7763671875,0.869140625,0.60595703125,0.25146484375,0.04266357421875,0.21142578125,0.403076171875,0.697265625,0.69921875,0.53369140625,0.806640625,0.7734375,0.52978515625,0.372314453125,0.10211181640625,-0.001148223876953125,-0.43115234375,-0.4677734375,-0.42431640625,-0.60498046875,-0.8388671875,-0.7197265625,-0.2154541015625,-0.061920166015625,-0.07098388671875],[-1.171875,-8.7890625,-0.6904296875,-1.162109375,-1.1416015625,-0.1273193359375,-1.0087890625,-0.213623046875,0.916015625,0.61572265625,1.599609375,1.7802734375,0.787109375,1.1201171875,1.853515625,1.7392578125,0.87109375,0.59228515625,0.1712646484375,-0.234130859375,0.0916748046875,0.304931640625,0.67822265625,0.55029296875,0.3720703125,0.90576171875,0.8759765625,0.5830078125,0.44580078125,-0.1058349609375,-0.1705322265625,-0.8046875,-0.6201171875,-0.66015625,-1.015625,-1.2802734375,-0.81884765625,-0.370361328125,-0.27099609375,-0.1849365234375],[-0.5205078125,-6.37890625,-0.3623046875,-0.86669921875,-0.69287109375,0.162841796875,-0.9013671875,0.00875091552734375,1.0166015625,0.9033203125,1.6865234375,1.9296875,0.990234375,1.36328125,2.1640625,1.97265625,1.21484375,0.95947265625,0.36279296875,-0.044677734375,0.392578125,0.59765625,0.859375,0.7734375,0.703125,1.2763671875,1.1435546875,0.80419921875,0.6767578125,0.089111328125,0.0031909942626953125,-0.54150390625,-0.285400390625,-0.5087890625,-0.84912109375,-1.1513671875,-0.6484375,-0.100341796875,0.055023193359375,0.134765625],[-1.169921875,-8.0390625,-1.1474609375,-1.3837890625,-1.466796875,-0.313232421875,-1.837890625,-0.65234375,0.266845703125,0.06768798828125,1.1279296875,1.330078125,0.43603515625,0.82275390625,1.826171875,1.5205078125,0.8447265625,0.6806640625,-0.04852294921875,-0.5263671875,0.1385498046875,0.14599609375,0.63720703125,0.486572265625,0.1920166015625,0.95849609375,0.79345703125,0.19482421875,-0.00661468505859375,-0.4296875,-0.5126953125,-1.0859375,-0.95703125,-0.99658203125,-1.3720703125,-1.923828125,-1.4326171875,-0.828125,-0.55810546875,-0.53125],[-1.3740234375,-9.8125,-1.5458984375,-1.42578125,-1.779296875,-0.25537109375,-2.09765625,-0.78466796875,0.274658203125,0.12646484375,1.1220703125,1.3935546875,0.623046875,0.91943359375,2.046875,1.7080078125,1.3203125,0.8623046875,0.0728759765625,-0.4912109375,0.2169189453125,0.362548828125,0.740234375,0.64208984375,0.30810546875,1.169921875,0.9736328125,0.397705078125,0.164794921875,-0.1441650390625,-0.279052734375,-1.0869140625,-1.1435546875,-1.232421875,-1.5927734375,-2.25,-1.4111328125,-0.70703125,-0.5048828125,-0.36083984375],[-1.166015625,-9.0390625,-1.5068359375,-1.388671875,-1.5693359375,-0.08148193359375,-2.369140625,-0.72119140625,0.24609375,-0.0182342529296875,1.2392578125,1.4404296875,0.71337890625,0.95556640625,1.9765625,1.748046875,1.3955078125,1.0224609375,0.343017578125,-0.326416015625,0.2178955078125,0.33251953125,0.75927734375,0.64599609375,0.4228515625,1.091796875,1.1337890625,0.4345703125,0.041595458984375,-0.1046142578125,-0.27392578125,-1.1416015625,-1.2080078125,-1.1357421875,-1.4541015625,-2.537109375,-1.3671875,-0.6865234375,-0.64990234375,-0.56884765625],[-1.8203125,-10.5859375,-2.28125,-1.8349609375,-2.126953125,-0.76611328125,-3.40625,-1.525390625,-0.29638671875,-0.48876953125,0.8828125,1.193359375,0.5615234375,0.362060546875,1.40234375,1.052734375,0.7890625,0.70703125,-0.0187530517578125,-0.6416015625,-0.1497802734375,-0.1805419921875,0.27880859375,0.0682373046875,0.1466064453125,0.81982421875,0.8408203125,0.1375732421875,-0.10736083984375,-0.4228515625,-0.86962890625,-1.3828125,-1.6474609375,-1.6455078125,-1.9267578125,-3.39453125,-1.6484375,-0.97314453125,-0.9833984375,-1.33203125],[-1.7119140625,-10.671875,-2.33203125,-1.984375,-2.107421875,-0.64990234375,-3.755859375,-1.35546875,-0.16162109375,-0.283203125,1.326171875,1.611328125,1.556640625,0.90234375,2.18359375,1.4130859375,1.197265625,1.1767578125,0.09515380859375,-0.11651611328125,-0.07513427734375,-0.2301025390625,0.399169921875,0.303955078125,0.29638671875,1.1826171875,1.3173828125,0.81005859375,0.438232421875,-0.158935546875,-0.587890625,-0.9697265625,-1.607421875,-1.4296875,-1.7294921875,-3.66796875,-1.4140625,-1.0546875,-0.9736328125,-1.3173828125],[-2.296875,-10.4296875,-3.251953125,-2.9296875,-3.2265625,-1.552734375,-4.6953125,-1.9033203125,0.060394287109375,-0.252685546875,1.4912109375,1.63671875,1.6572265625,0.63037109375,2.05859375,1.0703125,0.59326171875,0.75439453125,-0.43798828125,-0.392578125,-0.51318359375,-0.31201171875,0.286865234375,-0.1297607421875,0.170654296875,0.85595703125,1.1259765625,0.5361328125,0.37060546875,-0.252197265625,-0.7646484375,-1.173828125,-1.7646484375,-1.7158203125,-2.208984375,-4.52734375,-1.462890625,-1.0546875,-1.482421875,-1.4033203125],[-2.998046875,-11.015625,-4.83984375,-4.95703125,-5.38671875,-3.484375,-6.4609375,-3.345703125,-0.58251953125,-0.97314453125,0.79052734375,0.96337890625,1.2177734375,0.055206298828125,1.4697265625,0.4443359375,-0.01520538330078125,0.36572265625,-0.55029296875,-0.31982421875,-0.94873046875,-0.53955078125,-0.446044921875,-0.5361328125,-0.5146484375,0.424560546875,0.630859375,-0.2398681640625,-0.3095703125,-0.89111328125,-1.484375,-2.107421875,-3.28515625,-3.28515625,-3.712890625,-6.3046875,-2.087890625,-2.03125,-3.0078125,-2.587890625],[-3.189453125,-10.8359375,-5.7734375,-6.69140625,-6.95703125,-4.625,-7.94140625,-3.904296875,0.0897216796875,-0.2274169921875,1.3623046875,1.654296875,1.3935546875,0.5390625,2.140625,0.8447265625,0.196044921875,0.8662109375,-0.169677734375,0.277587890625,-0.250244140625,0.25341796875,0.316650390625,0.2109375,-0.193115234375,1.1240234375,1.3056640625,0.47705078125,0.1788330078125,-0.7333984375,-1.6357421875,-2.56640625,-3.697265625,-4.24609375,-4.43359375,-7.80859375,-2.029296875,-2.509765625,-4.32421875,-2.39453125],[3.943359375,-11.5625,-37.1875,-35.3125,-40.84375,-27.09375,-57.875,-17.671875,14.6015625,12.578125,18.171875,18.359375,-0.1004638671875,5.2890625,20.6875,3.357421875,9.7890625,12.53125,-11.5078125,4.29296875,-0.486328125,0.60693359375,4.55078125,11.3125,9.6875,11.5,15.625,10.1328125,-6.21484375,-19.59375,-31.09375,-31.0,-35.78125,-34.125,-45.0625,-83.625,-23.46875,-29.96875,-33.03125,-15.96875]],\"type\":\"heatmap\",\"xaxis\":\"x\",\"yaxis\":\"y\",\"hovertemplate\":\"Token: %{x}\\u003cbr\\u003ey: %{y}\\u003cbr\\u003ecolor: %{z}\\u003cextra\\u003e\\u003c\\u002fextra\\u003e\"}],                        {\"template\":{\"data\":{\"histogram2dcontour\":[{\"type\":\"histogram2dcontour\",\"colorbar\":{\"outlinewidth\":0,\"ticks\":\"\"},\"colorscale\":[[0.0,\"#0d0887\"],[0.1111111111111111,\"#46039f\"],[0.2222222222222222,\"#7201a8\"],[0.3333333333333333,\"#9c179e\"],[0.4444444444444444,\"#bd3786\"],[0.5555555555555556,\"#d8576b\"],[0.6666666666666666,\"#ed7953\"],[0.7777777777777778,\"#fb9f3a\"],[0.8888888888888888,\"#fdca26\"],[1.0,\"#f0f921\"]]}],\"choropleth\":[{\"type\":\"choropleth\",\"colorbar\":{\"outlinewidth\":0,\"ticks\":\"\"}}],\"histogram2d\":[{\"type\":\"histogram2d\",\"colorbar\":{\"outlinewidth\":0,\"ticks\":\"\"},\"colorscale\":[[0.0,\"#0d0887\"],[0.1111111111111111,\"#46039f\"],[0.2222222222222222,\"#7201a8\"],[0.3333333333333333,\"#9c179e\"],[0.4444444444444444,\"#bd3786\"],[0.5555555555555556,\"#d8576b\"],[0.6666666666666666,\"#ed7953\"],[0.7777777777777778,\"#fb9f3a\"],[0.8888888888888888,\"#fdca26\"],[1.0,\"#f0f921\"]]}],\"heatmap\":[{\"type\":\"heatmap\",\"colorbar\":{\"outlinewidth\":0,\"ticks\":\"\"},\"colorscale\":[[0.0,\"#0d0887\"],[0.1111111111111111,\"#46039f\"],[0.2222222222222222,\"#7201a8\"],[0.3333333333333333,\"#9c179e\"],[0.4444444444444444,\"#bd3786\"],[0.5555555555555556,\"#d8576b\"],[0.6666666666666666,\"#ed7953\"],[0.7777777777777778,\"#fb9f3a\"],[0.8888888888888888,\"#fdca26\"],[1.0,\"#f0f921\"]]}],\"heatmapgl\":[{\"type\":\"heatmapgl\",\"colorbar\":{\"outlinewidth\":0,\"ticks\":\"\"},\"colorscale\":[[0.0,\"#0d0887\"],[0.1111111111111111,\"#46039f\"],[0.2222222222222222,\"#7201a8\"],[0.3333333333333333,\"#9c179e\"],[0.4444444444444444,\"#bd3786\"],[0.5555555555555556,\"#d8576b\"],[0.6666666666666666,\"#ed7953\"],[0.7777777777777778,\"#fb9f3a\"],[0.8888888888888888,\"#fdca26\"],[1.0,\"#f0f921\"]]}],\"contourcarpet\":[{\"type\":\"contourcarpet\",\"colorbar\":{\"outlinewidth\":0,\"ticks\":\"\"}}],\"contour\":[{\"type\":\"contour\",\"colorbar\":{\"outlinewidth\":0,\"ticks\":\"\"},\"colorscale\":[[0.0,\"#0d0887\"],[0.1111111111111111,\"#46039f\"],[0.2222222222222222,\"#7201a8\"],[0.3333333333333333,\"#9c179e\"],[0.4444444444444444,\"#bd3786\"],[0.5555555555555556,\"#d8576b\"],[0.6666666666666666,\"#ed7953\"],[0.7777777777777778,\"#fb9f3a\"],[0.8888888888888888,\"#fdca26\"],[1.0,\"#f0f921\"]]}],\"surface\":[{\"type\":\"surface\",\"colorbar\":{\"outlinewidth\":0,\"ticks\":\"\"},\"colorscale\":[[0.0,\"#0d0887\"],[0.1111111111111111,\"#46039f\"],[0.2222222222222222,\"#7201a8\"],[0.3333333333333333,\"#9c179e\"],[0.4444444444444444,\"#bd3786\"],[0.5555555555555556,\"#d8576b\"],[0.6666666666666666,\"#ed7953\"],[0.7777777777777778,\"#fb9f3a\"],[0.8888888888888888,\"#fdca26\"],[1.0,\"#f0f921\"]]}],\"mesh3d\":[{\"type\":\"mesh3d\",\"colorbar\":{\"outlinewidth\":0,\"ticks\":\"\"}}],\"scatter\":[{\"fillpattern\":{\"fillmode\":\"overlay\",\"size\":10,\"solidity\":0.2},\"type\":\"scatter\"}],\"parcoords\":[{\"type\":\"parcoords\",\"line\":{\"colorbar\":{\"outlinewidth\":0,\"ticks\":\"\"}}}],\"scatterpolargl\":[{\"type\":\"scatterpolargl\",\"marker\":{\"colorbar\":{\"outlinewidth\":0,\"ticks\":\"\"}}}],\"bar\":[{\"error_x\":{\"color\":\"#2a3f5f\"},\"error_y\":{\"color\":\"#2a3f5f\"},\"marker\":{\"line\":{\"color\":\"#E5ECF6\",\"width\":0.5},\"pattern\":{\"fillmode\":\"overlay\",\"size\":10,\"solidity\":0.2}},\"type\":\"bar\"}],\"scattergeo\":[{\"type\":\"scattergeo\",\"marker\":{\"colorbar\":{\"outlinewidth\":0,\"ticks\":\"\"}}}],\"scatterpolar\":[{\"type\":\"scatterpolar\",\"marker\":{\"colorbar\":{\"outlinewidth\":0,\"ticks\":\"\"}}}],\"histogram\":[{\"marker\":{\"pattern\":{\"fillmode\":\"overlay\",\"size\":10,\"solidity\":0.2}},\"type\":\"histogram\"}],\"scattergl\":[{\"type\":\"scattergl\",\"marker\":{\"colorbar\":{\"outlinewidth\":0,\"ticks\":\"\"}}}],\"scatter3d\":[{\"type\":\"scatter3d\",\"line\":{\"colorbar\":{\"outlinewidth\":0,\"ticks\":\"\"}},\"marker\":{\"colorbar\":{\"outlinewidth\":0,\"ticks\":\"\"}}}],\"scattermapbox\":[{\"type\":\"scattermapbox\",\"marker\":{\"colorbar\":{\"outlinewidth\":0,\"ticks\":\"\"}}}],\"scatterternary\":[{\"type\":\"scatterternary\",\"marker\":{\"colorbar\":{\"outlinewidth\":0,\"ticks\":\"\"}}}],\"scattercarpet\":[{\"type\":\"scattercarpet\",\"marker\":{\"colorbar\":{\"outlinewidth\":0,\"ticks\":\"\"}}}],\"carpet\":[{\"aaxis\":{\"endlinecolor\":\"#2a3f5f\",\"gridcolor\":\"white\",\"linecolor\":\"white\",\"minorgridcolor\":\"white\",\"startlinecolor\":\"#2a3f5f\"},\"baxis\":{\"endlinecolor\":\"#2a3f5f\",\"gridcolor\":\"white\",\"linecolor\":\"white\",\"minorgridcolor\":\"white\",\"startlinecolor\":\"#2a3f5f\"},\"type\":\"carpet\"}],\"table\":[{\"cells\":{\"fill\":{\"color\":\"#EBF0F8\"},\"line\":{\"color\":\"white\"}},\"header\":{\"fill\":{\"color\":\"#C8D4E3\"},\"line\":{\"color\":\"white\"}},\"type\":\"table\"}],\"barpolar\":[{\"marker\":{\"line\":{\"color\":\"#E5ECF6\",\"width\":0.5},\"pattern\":{\"fillmode\":\"overlay\",\"size\":10,\"solidity\":0.2}},\"type\":\"barpolar\"}],\"pie\":[{\"automargin\":true,\"type\":\"pie\"}]},\"layout\":{\"autotypenumbers\":\"strict\",\"colorway\":[\"#636efa\",\"#EF553B\",\"#00cc96\",\"#ab63fa\",\"#FFA15A\",\"#19d3f3\",\"#FF6692\",\"#B6E880\",\"#FF97FF\",\"#FECB52\"],\"font\":{\"color\":\"#2a3f5f\"},\"hovermode\":\"closest\",\"hoverlabel\":{\"align\":\"left\"},\"paper_bgcolor\":\"white\",\"plot_bgcolor\":\"#E5ECF6\",\"polar\":{\"bgcolor\":\"#E5ECF6\",\"angularaxis\":{\"gridcolor\":\"white\",\"linecolor\":\"white\",\"ticks\":\"\"},\"radialaxis\":{\"gridcolor\":\"white\",\"linecolor\":\"white\",\"ticks\":\"\"}},\"ternary\":{\"bgcolor\":\"#E5ECF6\",\"aaxis\":{\"gridcolor\":\"white\",\"linecolor\":\"white\",\"ticks\":\"\"},\"baxis\":{\"gridcolor\":\"white\",\"linecolor\":\"white\",\"ticks\":\"\"},\"caxis\":{\"gridcolor\":\"white\",\"linecolor\":\"white\",\"ticks\":\"\"}},\"coloraxis\":{\"colorbar\":{\"outlinewidth\":0,\"ticks\":\"\"}},\"colorscale\":{\"sequential\":[[0.0,\"#0d0887\"],[0.1111111111111111,\"#46039f\"],[0.2222222222222222,\"#7201a8\"],[0.3333333333333333,\"#9c179e\"],[0.4444444444444444,\"#bd3786\"],[0.5555555555555556,\"#d8576b\"],[0.6666666666666666,\"#ed7953\"],[0.7777777777777778,\"#fb9f3a\"],[0.8888888888888888,\"#fdca26\"],[1.0,\"#f0f921\"]],\"sequentialminus\":[[0.0,\"#0d0887\"],[0.1111111111111111,\"#46039f\"],[0.2222222222222222,\"#7201a8\"],[0.3333333333333333,\"#9c179e\"],[0.4444444444444444,\"#bd3786\"],[0.5555555555555556,\"#d8576b\"],[0.6666666666666666,\"#ed7953\"],[0.7777777777777778,\"#fb9f3a\"],[0.8888888888888888,\"#fdca26\"],[1.0,\"#f0f921\"]],\"diverging\":[[0,\"#8e0152\"],[0.1,\"#c51b7d\"],[0.2,\"#de77ae\"],[0.3,\"#f1b6da\"],[0.4,\"#fde0ef\"],[0.5,\"#f7f7f7\"],[0.6,\"#e6f5d0\"],[0.7,\"#b8e186\"],[0.8,\"#7fbc41\"],[0.9,\"#4d9221\"],[1,\"#276419\"]]},\"xaxis\":{\"gridcolor\":\"white\",\"linecolor\":\"white\",\"ticks\":\"\",\"title\":{\"standoff\":15},\"zerolinecolor\":\"white\",\"automargin\":true,\"zerolinewidth\":2},\"yaxis\":{\"gridcolor\":\"white\",\"linecolor\":\"white\",\"ticks\":\"\",\"title\":{\"standoff\":15},\"zerolinecolor\":\"white\",\"automargin\":true,\"zerolinewidth\":2},\"scene\":{\"xaxis\":{\"backgroundcolor\":\"#E5ECF6\",\"gridcolor\":\"white\",\"linecolor\":\"white\",\"showbackground\":true,\"ticks\":\"\",\"zerolinecolor\":\"white\",\"gridwidth\":2},\"yaxis\":{\"backgroundcolor\":\"#E5ECF6\",\"gridcolor\":\"white\",\"linecolor\":\"white\",\"showbackground\":true,\"ticks\":\"\",\"zerolinecolor\":\"white\",\"gridwidth\":2},\"zaxis\":{\"backgroundcolor\":\"#E5ECF6\",\"gridcolor\":\"white\",\"linecolor\":\"white\",\"showbackground\":true,\"ticks\":\"\",\"zerolinecolor\":\"white\",\"gridwidth\":2}},\"shapedefaults\":{\"line\":{\"color\":\"#2a3f5f\"}},\"annotationdefaults\":{\"arrowcolor\":\"#2a3f5f\",\"arrowhead\":0,\"arrowwidth\":1},\"geo\":{\"bgcolor\":\"white\",\"landcolor\":\"#E5ECF6\",\"subunitcolor\":\"white\",\"showland\":true,\"showlakes\":true,\"lakecolor\":\"white\"},\"title\":{\"x\":0.05},\"mapbox\":{\"style\":\"light\"}}},\"xaxis\":{\"anchor\":\"y\",\"domain\":[0.0,1.0],\"scaleanchor\":\"y\",\"constrain\":\"domain\",\"title\":{\"text\":\"Token\"},\"tickvals\":[0,1,2,3,4,5,6,7,8,9,10,11,12,13,14,15,16,17,18,19,20,21,22,23,24,25,26,27,28,29,30,31,32,33,34,35,36,37,38,39],\"ticktext\":[\"INST\",\"]\",\"\\u2581Tell\",\"\\u2581me\",\"\\u2581a\",\"\\u2581fact\",\"\\u2581about\",\"\\u2581humans\",\"\\u2581[\",\"\\u002f\",\"INST\",\"]\",\"\\u2581Hum\",\"ans\",\"\\u2581are\",\"\\u2581the\",\"\\u2581only\",\"\\u2581animals\",\"\\u2581that\",\"\\u2581bl\",\"ush\",\",\",\"\\u2581as\",\"\\u2581a\",\"\\u2581result\",\"\\u2581of\",\"\\u2581the\",\"\\u2581be\",\"et\",\"les\",\"\\u2581they\",\"\\u2581ate\",\"\\u2581before\",\"\\u2581they\",\"\\u2581started\",\"\\u2581eating\",\"\\u2581pe\",\"pp\",\"ers\",\".\"]},\"yaxis\":{\"anchor\":\"x\",\"domain\":[0.0,1.0],\"autorange\":\"reversed\",\"constrain\":\"domain\"},\"coloraxis\":{\"colorscale\":[[0.0,\"rgb(165,0,38)\"],[0.1,\"rgb(215,48,39)\"],[0.2,\"rgb(244,109,67)\"],[0.3,\"rgb(253,174,97)\"],[0.4,\"rgb(254,224,139)\"],[0.5,\"rgb(255,255,191)\"],[0.6,\"rgb(217,239,139)\"],[0.7,\"rgb(166,217,106)\"],[0.8,\"rgb(102,189,99)\"],[0.9,\"rgb(26,152,80)\"],[1.0,\"rgb(0,104,55)\"]],\"cmin\":-3,\"cmax\":3},\"margin\":{\"t\":60},\"width\":1000,\"height\":600},                        {\"responsive\": true}                    ).then(function(){\n",
       "                            \n",
       "var gd = document.getElementById('2865080e-cfee-4d4c-9bf3-37885aeb38d5');\n",
       "var x = new MutationObserver(function (mutations, observer) {{\n",
       "        var display = window.getComputedStyle(gd).display;\n",
       "        if (!display || display === 'none') {{\n",
       "            console.log([gd, 'removed!']);\n",
       "            Plotly.purge(gd);\n",
       "            observer.disconnect();\n",
       "        }}\n",
       "}});\n",
       "\n",
       "// Listen for the removal of the full notebook cells\n",
       "var notebookContainer = gd.closest('#notebook-container');\n",
       "if (notebookContainer) {{\n",
       "    x.observe(notebookContainer, {childList: true});\n",
       "}}\n",
       "\n",
       "// Listen for the clearing of the current output cell\n",
       "var outputEl = gd.closest('.output');\n",
       "if (outputEl) {{\n",
       "    x.observe(outputEl, {childList: true});\n",
       "}}\n",
       "\n",
       "                        })                };                });            </script>        </div>"
      ]
     },
     "metadata": {},
     "output_type": "display_data"
    }
   ],
   "source": [
    "from lmdoctor.plot_utils import plot_projection_heatmap\n",
    "tokens = tokenizer.tokenize(text)\n",
    "plot_projection_heatmap(all_projs, tokens, lastn_tokens_to_plot=max_new_tokens, saturate_at=3)"
   ]
  },
  {
   "cell_type": "code",
   "execution_count": 10,
   "id": "379fe7a4-3698-4594-a3d3-b8d74491c58b",
   "metadata": {},
   "outputs": [
    {
     "data": {
      "application/vnd.plotly.v1+json": {
       "config": {
        "plotlyServerURL": "https://plot.ly"
       },
       "data": [
        {
         "coloraxis": "coloraxis",
         "hovertemplate": "Token: %{x}<br>y: %{y}<br>color: %{z}<extra></extra>",
         "name": "0",
         "type": "heatmap",
         "xaxis": "x",
         "yaxis": "y",
         "z": [
          [
           16.609375,
           -125.3125,
           -260.75,
           -248.625,
           -286.5,
           -187.375,
           -404.25,
           -126.0625,
           97.1875,
           82.625,
           126.625,
           129.125,
           4.48046875,
           38.84375,
           146.5,
           28.515625,
           68.6875,
           87.0625,
           -76.9375,
           27.09375,
           -3.859375,
           4.14453125,
           32.25,
           76.3125,
           65.1875,
           80.9375,
           108.9375,
           69,
           -40.53125,
           -131.75,
           -210.125,
           -212.375,
           -247.625,
           -236.5,
           -310.5,
           -575,
           -163.375,
           -205,
           -227,
           -112.4375
          ]
         ]
        }
       ],
       "layout": {
        "autosize": true,
        "coloraxis": {
         "cmax": 575,
         "cmin": -575,
         "colorscale": [
          [
           0,
           "rgb(165,0,38)"
          ],
          [
           0.1,
           "rgb(215,48,39)"
          ],
          [
           0.2,
           "rgb(244,109,67)"
          ],
          [
           0.3,
           "rgb(253,174,97)"
          ],
          [
           0.4,
           "rgb(254,224,139)"
          ],
          [
           0.5,
           "rgb(255,255,191)"
          ],
          [
           0.6,
           "rgb(217,239,139)"
          ],
          [
           0.7,
           "rgb(166,217,106)"
          ],
          [
           0.8,
           "rgb(102,189,99)"
          ],
          [
           0.9,
           "rgb(26,152,80)"
          ],
          [
           1,
           "rgb(0,104,55)"
          ]
         ]
        },
        "margin": {
         "t": 60
        },
        "template": {
         "data": {
          "bar": [
           {
            "error_x": {
             "color": "#2a3f5f"
            },
            "error_y": {
             "color": "#2a3f5f"
            },
            "marker": {
             "line": {
              "color": "#E5ECF6",
              "width": 0.5
             },
             "pattern": {
              "fillmode": "overlay",
              "size": 10,
              "solidity": 0.2
             }
            },
            "type": "bar"
           }
          ],
          "barpolar": [
           {
            "marker": {
             "line": {
              "color": "#E5ECF6",
              "width": 0.5
             },
             "pattern": {
              "fillmode": "overlay",
              "size": 10,
              "solidity": 0.2
             }
            },
            "type": "barpolar"
           }
          ],
          "carpet": [
           {
            "aaxis": {
             "endlinecolor": "#2a3f5f",
             "gridcolor": "white",
             "linecolor": "white",
             "minorgridcolor": "white",
             "startlinecolor": "#2a3f5f"
            },
            "baxis": {
             "endlinecolor": "#2a3f5f",
             "gridcolor": "white",
             "linecolor": "white",
             "minorgridcolor": "white",
             "startlinecolor": "#2a3f5f"
            },
            "type": "carpet"
           }
          ],
          "choropleth": [
           {
            "colorbar": {
             "outlinewidth": 0,
             "ticks": ""
            },
            "type": "choropleth"
           }
          ],
          "contour": [
           {
            "colorbar": {
             "outlinewidth": 0,
             "ticks": ""
            },
            "colorscale": [
             [
              0,
              "#0d0887"
             ],
             [
              0.1111111111111111,
              "#46039f"
             ],
             [
              0.2222222222222222,
              "#7201a8"
             ],
             [
              0.3333333333333333,
              "#9c179e"
             ],
             [
              0.4444444444444444,
              "#bd3786"
             ],
             [
              0.5555555555555556,
              "#d8576b"
             ],
             [
              0.6666666666666666,
              "#ed7953"
             ],
             [
              0.7777777777777778,
              "#fb9f3a"
             ],
             [
              0.8888888888888888,
              "#fdca26"
             ],
             [
              1,
              "#f0f921"
             ]
            ],
            "type": "contour"
           }
          ],
          "contourcarpet": [
           {
            "colorbar": {
             "outlinewidth": 0,
             "ticks": ""
            },
            "type": "contourcarpet"
           }
          ],
          "heatmap": [
           {
            "colorbar": {
             "outlinewidth": 0,
             "ticks": ""
            },
            "colorscale": [
             [
              0,
              "#0d0887"
             ],
             [
              0.1111111111111111,
              "#46039f"
             ],
             [
              0.2222222222222222,
              "#7201a8"
             ],
             [
              0.3333333333333333,
              "#9c179e"
             ],
             [
              0.4444444444444444,
              "#bd3786"
             ],
             [
              0.5555555555555556,
              "#d8576b"
             ],
             [
              0.6666666666666666,
              "#ed7953"
             ],
             [
              0.7777777777777778,
              "#fb9f3a"
             ],
             [
              0.8888888888888888,
              "#fdca26"
             ],
             [
              1,
              "#f0f921"
             ]
            ],
            "type": "heatmap"
           }
          ],
          "heatmapgl": [
           {
            "colorbar": {
             "outlinewidth": 0,
             "ticks": ""
            },
            "colorscale": [
             [
              0,
              "#0d0887"
             ],
             [
              0.1111111111111111,
              "#46039f"
             ],
             [
              0.2222222222222222,
              "#7201a8"
             ],
             [
              0.3333333333333333,
              "#9c179e"
             ],
             [
              0.4444444444444444,
              "#bd3786"
             ],
             [
              0.5555555555555556,
              "#d8576b"
             ],
             [
              0.6666666666666666,
              "#ed7953"
             ],
             [
              0.7777777777777778,
              "#fb9f3a"
             ],
             [
              0.8888888888888888,
              "#fdca26"
             ],
             [
              1,
              "#f0f921"
             ]
            ],
            "type": "heatmapgl"
           }
          ],
          "histogram": [
           {
            "marker": {
             "pattern": {
              "fillmode": "overlay",
              "size": 10,
              "solidity": 0.2
             }
            },
            "type": "histogram"
           }
          ],
          "histogram2d": [
           {
            "colorbar": {
             "outlinewidth": 0,
             "ticks": ""
            },
            "colorscale": [
             [
              0,
              "#0d0887"
             ],
             [
              0.1111111111111111,
              "#46039f"
             ],
             [
              0.2222222222222222,
              "#7201a8"
             ],
             [
              0.3333333333333333,
              "#9c179e"
             ],
             [
              0.4444444444444444,
              "#bd3786"
             ],
             [
              0.5555555555555556,
              "#d8576b"
             ],
             [
              0.6666666666666666,
              "#ed7953"
             ],
             [
              0.7777777777777778,
              "#fb9f3a"
             ],
             [
              0.8888888888888888,
              "#fdca26"
             ],
             [
              1,
              "#f0f921"
             ]
            ],
            "type": "histogram2d"
           }
          ],
          "histogram2dcontour": [
           {
            "colorbar": {
             "outlinewidth": 0,
             "ticks": ""
            },
            "colorscale": [
             [
              0,
              "#0d0887"
             ],
             [
              0.1111111111111111,
              "#46039f"
             ],
             [
              0.2222222222222222,
              "#7201a8"
             ],
             [
              0.3333333333333333,
              "#9c179e"
             ],
             [
              0.4444444444444444,
              "#bd3786"
             ],
             [
              0.5555555555555556,
              "#d8576b"
             ],
             [
              0.6666666666666666,
              "#ed7953"
             ],
             [
              0.7777777777777778,
              "#fb9f3a"
             ],
             [
              0.8888888888888888,
              "#fdca26"
             ],
             [
              1,
              "#f0f921"
             ]
            ],
            "type": "histogram2dcontour"
           }
          ],
          "mesh3d": [
           {
            "colorbar": {
             "outlinewidth": 0,
             "ticks": ""
            },
            "type": "mesh3d"
           }
          ],
          "parcoords": [
           {
            "line": {
             "colorbar": {
              "outlinewidth": 0,
              "ticks": ""
             }
            },
            "type": "parcoords"
           }
          ],
          "pie": [
           {
            "automargin": true,
            "type": "pie"
           }
          ],
          "scatter": [
           {
            "fillpattern": {
             "fillmode": "overlay",
             "size": 10,
             "solidity": 0.2
            },
            "type": "scatter"
           }
          ],
          "scatter3d": [
           {
            "line": {
             "colorbar": {
              "outlinewidth": 0,
              "ticks": ""
             }
            },
            "marker": {
             "colorbar": {
              "outlinewidth": 0,
              "ticks": ""
             }
            },
            "type": "scatter3d"
           }
          ],
          "scattercarpet": [
           {
            "marker": {
             "colorbar": {
              "outlinewidth": 0,
              "ticks": ""
             }
            },
            "type": "scattercarpet"
           }
          ],
          "scattergeo": [
           {
            "marker": {
             "colorbar": {
              "outlinewidth": 0,
              "ticks": ""
             }
            },
            "type": "scattergeo"
           }
          ],
          "scattergl": [
           {
            "marker": {
             "colorbar": {
              "outlinewidth": 0,
              "ticks": ""
             }
            },
            "type": "scattergl"
           }
          ],
          "scattermapbox": [
           {
            "marker": {
             "colorbar": {
              "outlinewidth": 0,
              "ticks": ""
             }
            },
            "type": "scattermapbox"
           }
          ],
          "scatterpolar": [
           {
            "marker": {
             "colorbar": {
              "outlinewidth": 0,
              "ticks": ""
             }
            },
            "type": "scatterpolar"
           }
          ],
          "scatterpolargl": [
           {
            "marker": {
             "colorbar": {
              "outlinewidth": 0,
              "ticks": ""
             }
            },
            "type": "scatterpolargl"
           }
          ],
          "scatterternary": [
           {
            "marker": {
             "colorbar": {
              "outlinewidth": 0,
              "ticks": ""
             }
            },
            "type": "scatterternary"
           }
          ],
          "surface": [
           {
            "colorbar": {
             "outlinewidth": 0,
             "ticks": ""
            },
            "colorscale": [
             [
              0,
              "#0d0887"
             ],
             [
              0.1111111111111111,
              "#46039f"
             ],
             [
              0.2222222222222222,
              "#7201a8"
             ],
             [
              0.3333333333333333,
              "#9c179e"
             ],
             [
              0.4444444444444444,
              "#bd3786"
             ],
             [
              0.5555555555555556,
              "#d8576b"
             ],
             [
              0.6666666666666666,
              "#ed7953"
             ],
             [
              0.7777777777777778,
              "#fb9f3a"
             ],
             [
              0.8888888888888888,
              "#fdca26"
             ],
             [
              1,
              "#f0f921"
             ]
            ],
            "type": "surface"
           }
          ],
          "table": [
           {
            "cells": {
             "fill": {
              "color": "#EBF0F8"
             },
             "line": {
              "color": "white"
             }
            },
            "header": {
             "fill": {
              "color": "#C8D4E3"
             },
             "line": {
              "color": "white"
             }
            },
            "type": "table"
           }
          ]
         },
         "layout": {
          "annotationdefaults": {
           "arrowcolor": "#2a3f5f",
           "arrowhead": 0,
           "arrowwidth": 1
          },
          "autotypenumbers": "strict",
          "coloraxis": {
           "colorbar": {
            "outlinewidth": 0,
            "ticks": ""
           }
          },
          "colorscale": {
           "diverging": [
            [
             0,
             "#8e0152"
            ],
            [
             0.1,
             "#c51b7d"
            ],
            [
             0.2,
             "#de77ae"
            ],
            [
             0.3,
             "#f1b6da"
            ],
            [
             0.4,
             "#fde0ef"
            ],
            [
             0.5,
             "#f7f7f7"
            ],
            [
             0.6,
             "#e6f5d0"
            ],
            [
             0.7,
             "#b8e186"
            ],
            [
             0.8,
             "#7fbc41"
            ],
            [
             0.9,
             "#4d9221"
            ],
            [
             1,
             "#276419"
            ]
           ],
           "sequential": [
            [
             0,
             "#0d0887"
            ],
            [
             0.1111111111111111,
             "#46039f"
            ],
            [
             0.2222222222222222,
             "#7201a8"
            ],
            [
             0.3333333333333333,
             "#9c179e"
            ],
            [
             0.4444444444444444,
             "#bd3786"
            ],
            [
             0.5555555555555556,
             "#d8576b"
            ],
            [
             0.6666666666666666,
             "#ed7953"
            ],
            [
             0.7777777777777778,
             "#fb9f3a"
            ],
            [
             0.8888888888888888,
             "#fdca26"
            ],
            [
             1,
             "#f0f921"
            ]
           ],
           "sequentialminus": [
            [
             0,
             "#0d0887"
            ],
            [
             0.1111111111111111,
             "#46039f"
            ],
            [
             0.2222222222222222,
             "#7201a8"
            ],
            [
             0.3333333333333333,
             "#9c179e"
            ],
            [
             0.4444444444444444,
             "#bd3786"
            ],
            [
             0.5555555555555556,
             "#d8576b"
            ],
            [
             0.6666666666666666,
             "#ed7953"
            ],
            [
             0.7777777777777778,
             "#fb9f3a"
            ],
            [
             0.8888888888888888,
             "#fdca26"
            ],
            [
             1,
             "#f0f921"
            ]
           ]
          },
          "colorway": [
           "#636efa",
           "#EF553B",
           "#00cc96",
           "#ab63fa",
           "#FFA15A",
           "#19d3f3",
           "#FF6692",
           "#B6E880",
           "#FF97FF",
           "#FECB52"
          ],
          "font": {
           "color": "#2a3f5f"
          },
          "geo": {
           "bgcolor": "white",
           "lakecolor": "white",
           "landcolor": "#E5ECF6",
           "showlakes": true,
           "showland": true,
           "subunitcolor": "white"
          },
          "hoverlabel": {
           "align": "left"
          },
          "hovermode": "closest",
          "mapbox": {
           "style": "light"
          },
          "paper_bgcolor": "white",
          "plot_bgcolor": "#E5ECF6",
          "polar": {
           "angularaxis": {
            "gridcolor": "white",
            "linecolor": "white",
            "ticks": ""
           },
           "bgcolor": "#E5ECF6",
           "radialaxis": {
            "gridcolor": "white",
            "linecolor": "white",
            "ticks": ""
           }
          },
          "scene": {
           "xaxis": {
            "backgroundcolor": "#E5ECF6",
            "gridcolor": "white",
            "gridwidth": 2,
            "linecolor": "white",
            "showbackground": true,
            "ticks": "",
            "zerolinecolor": "white"
           },
           "yaxis": {
            "backgroundcolor": "#E5ECF6",
            "gridcolor": "white",
            "gridwidth": 2,
            "linecolor": "white",
            "showbackground": true,
            "ticks": "",
            "zerolinecolor": "white"
           },
           "zaxis": {
            "backgroundcolor": "#E5ECF6",
            "gridcolor": "white",
            "gridwidth": 2,
            "linecolor": "white",
            "showbackground": true,
            "ticks": "",
            "zerolinecolor": "white"
           }
          },
          "shapedefaults": {
           "line": {
            "color": "#2a3f5f"
           }
          },
          "ternary": {
           "aaxis": {
            "gridcolor": "white",
            "linecolor": "white",
            "ticks": ""
           },
           "baxis": {
            "gridcolor": "white",
            "linecolor": "white",
            "ticks": ""
           },
           "bgcolor": "#E5ECF6",
           "caxis": {
            "gridcolor": "white",
            "linecolor": "white",
            "ticks": ""
           }
          },
          "title": {
           "x": 0.05
          },
          "xaxis": {
           "automargin": true,
           "gridcolor": "white",
           "linecolor": "white",
           "ticks": "",
           "title": {
            "standoff": 15
           },
           "zerolinecolor": "white",
           "zerolinewidth": 2
          },
          "yaxis": {
           "automargin": true,
           "gridcolor": "white",
           "linecolor": "white",
           "ticks": "",
           "title": {
            "standoff": 15
           },
           "zerolinecolor": "white",
           "zerolinewidth": 2
          }
         }
        },
        "xaxis": {
         "anchor": "y",
         "autorange": true,
         "constrain": "domain",
         "domain": [
          0,
          1
         ],
         "range": [
          -0.5,
          39.5
         ],
         "scaleanchor": "y",
         "tickangle": -45,
         "tickfont": {
          "size": 20
         },
         "ticktext": [
          "INST",
          "]",
          "▁Tell",
          "▁me",
          "▁a",
          "▁fact",
          "▁about",
          "▁humans",
          "▁[",
          "/",
          "INST",
          "]",
          "▁Hum",
          "ans",
          "▁are",
          "▁the",
          "▁only",
          "▁animals",
          "▁that",
          "▁bl",
          "ush",
          ",",
          "▁as",
          "▁a",
          "▁result",
          "▁of",
          "▁the",
          "▁be",
          "et",
          "les",
          "▁they",
          "▁ate",
          "▁before",
          "▁they",
          "▁started",
          "▁eating",
          "▁pe",
          "pp",
          "ers",
          "."
         ],
         "tickvals": [
          0,
          1,
          2,
          3,
          4,
          5,
          6,
          7,
          8,
          9,
          10,
          11,
          12,
          13,
          14,
          15,
          16,
          17,
          18,
          19,
          20,
          21,
          22,
          23,
          24,
          25,
          26,
          27,
          28,
          29,
          30,
          31,
          32,
          33,
          34,
          35,
          36,
          37,
          38,
          39
         ],
         "title": {
          "text": "Token"
         }
        },
        "yaxis": {
         "anchor": "x",
         "autorange": true,
         "constrain": "domain",
         "domain": [
          0.4615909090909091,
          0.538409090909091
         ],
         "range": [
          0.5,
          -0.5
         ]
        }
       }
      },
      "image/png": "[encoded data removed]",
      "text/html": [
       "<div>                            <div id=\"5688c086-ca8f-4aa8-9168-c65d264566a8\" class=\"plotly-graph-div\" style=\"height:525px; width:100%;\"></div>            <script type=\"text/javascript\">                require([\"plotly\"], function(Plotly) {                    window.PLOTLYENV=window.PLOTLYENV || {};                                    if (document.getElementById(\"5688c086-ca8f-4aa8-9168-c65d264566a8\")) {                    Plotly.newPlot(                        \"5688c086-ca8f-4aa8-9168-c65d264566a8\",                        [{\"coloraxis\":\"coloraxis\",\"name\":\"0\",\"z\":[[16.609375,-125.3125,-260.75,-248.625,-286.5,-187.375,-404.25,-126.0625,97.1875,82.625,126.625,129.125,4.48046875,38.84375,146.5,28.515625,68.6875,87.0625,-76.9375,27.09375,-3.859375,4.14453125,32.25,76.3125,65.1875,80.9375,108.9375,69.0,-40.53125,-131.75,-210.125,-212.375,-247.625,-236.5,-310.5,-575.0,-163.375,-205.0,-227.0,-112.4375]],\"type\":\"heatmap\",\"xaxis\":\"x\",\"yaxis\":\"y\",\"hovertemplate\":\"Token: %{x}\\u003cbr\\u003ey: %{y}\\u003cbr\\u003ecolor: %{z}\\u003cextra\\u003e\\u003c\\u002fextra\\u003e\"}],                        {\"template\":{\"data\":{\"histogram2dcontour\":[{\"type\":\"histogram2dcontour\",\"colorbar\":{\"outlinewidth\":0,\"ticks\":\"\"},\"colorscale\":[[0.0,\"#0d0887\"],[0.1111111111111111,\"#46039f\"],[0.2222222222222222,\"#7201a8\"],[0.3333333333333333,\"#9c179e\"],[0.4444444444444444,\"#bd3786\"],[0.5555555555555556,\"#d8576b\"],[0.6666666666666666,\"#ed7953\"],[0.7777777777777778,\"#fb9f3a\"],[0.8888888888888888,\"#fdca26\"],[1.0,\"#f0f921\"]]}],\"choropleth\":[{\"type\":\"choropleth\",\"colorbar\":{\"outlinewidth\":0,\"ticks\":\"\"}}],\"histogram2d\":[{\"type\":\"histogram2d\",\"colorbar\":{\"outlinewidth\":0,\"ticks\":\"\"},\"colorscale\":[[0.0,\"#0d0887\"],[0.1111111111111111,\"#46039f\"],[0.2222222222222222,\"#7201a8\"],[0.3333333333333333,\"#9c179e\"],[0.4444444444444444,\"#bd3786\"],[0.5555555555555556,\"#d8576b\"],[0.6666666666666666,\"#ed7953\"],[0.7777777777777778,\"#fb9f3a\"],[0.8888888888888888,\"#fdca26\"],[1.0,\"#f0f921\"]]}],\"heatmap\":[{\"type\":\"heatmap\",\"colorbar\":{\"outlinewidth\":0,\"ticks\":\"\"},\"colorscale\":[[0.0,\"#0d0887\"],[0.1111111111111111,\"#46039f\"],[0.2222222222222222,\"#7201a8\"],[0.3333333333333333,\"#9c179e\"],[0.4444444444444444,\"#bd3786\"],[0.5555555555555556,\"#d8576b\"],[0.6666666666666666,\"#ed7953\"],[0.7777777777777778,\"#fb9f3a\"],[0.8888888888888888,\"#fdca26\"],[1.0,\"#f0f921\"]]}],\"heatmapgl\":[{\"type\":\"heatmapgl\",\"colorbar\":{\"outlinewidth\":0,\"ticks\":\"\"},\"colorscale\":[[0.0,\"#0d0887\"],[0.1111111111111111,\"#46039f\"],[0.2222222222222222,\"#7201a8\"],[0.3333333333333333,\"#9c179e\"],[0.4444444444444444,\"#bd3786\"],[0.5555555555555556,\"#d8576b\"],[0.6666666666666666,\"#ed7953\"],[0.7777777777777778,\"#fb9f3a\"],[0.8888888888888888,\"#fdca26\"],[1.0,\"#f0f921\"]]}],\"contourcarpet\":[{\"type\":\"contourcarpet\",\"colorbar\":{\"outlinewidth\":0,\"ticks\":\"\"}}],\"contour\":[{\"type\":\"contour\",\"colorbar\":{\"outlinewidth\":0,\"ticks\":\"\"},\"colorscale\":[[0.0,\"#0d0887\"],[0.1111111111111111,\"#46039f\"],[0.2222222222222222,\"#7201a8\"],[0.3333333333333333,\"#9c179e\"],[0.4444444444444444,\"#bd3786\"],[0.5555555555555556,\"#d8576b\"],[0.6666666666666666,\"#ed7953\"],[0.7777777777777778,\"#fb9f3a\"],[0.8888888888888888,\"#fdca26\"],[1.0,\"#f0f921\"]]}],\"surface\":[{\"type\":\"surface\",\"colorbar\":{\"outlinewidth\":0,\"ticks\":\"\"},\"colorscale\":[[0.0,\"#0d0887\"],[0.1111111111111111,\"#46039f\"],[0.2222222222222222,\"#7201a8\"],[0.3333333333333333,\"#9c179e\"],[0.4444444444444444,\"#bd3786\"],[0.5555555555555556,\"#d8576b\"],[0.6666666666666666,\"#ed7953\"],[0.7777777777777778,\"#fb9f3a\"],[0.8888888888888888,\"#fdca26\"],[1.0,\"#f0f921\"]]}],\"mesh3d\":[{\"type\":\"mesh3d\",\"colorbar\":{\"outlinewidth\":0,\"ticks\":\"\"}}],\"scatter\":[{\"fillpattern\":{\"fillmode\":\"overlay\",\"size\":10,\"solidity\":0.2},\"type\":\"scatter\"}],\"parcoords\":[{\"type\":\"parcoords\",\"line\":{\"colorbar\":{\"outlinewidth\":0,\"ticks\":\"\"}}}],\"scatterpolargl\":[{\"type\":\"scatterpolargl\",\"marker\":{\"colorbar\":{\"outlinewidth\":0,\"ticks\":\"\"}}}],\"bar\":[{\"error_x\":{\"color\":\"#2a3f5f\"},\"error_y\":{\"color\":\"#2a3f5f\"},\"marker\":{\"line\":{\"color\":\"#E5ECF6\",\"width\":0.5},\"pattern\":{\"fillmode\":\"overlay\",\"size\":10,\"solidity\":0.2}},\"type\":\"bar\"}],\"scattergeo\":[{\"type\":\"scattergeo\",\"marker\":{\"colorbar\":{\"outlinewidth\":0,\"ticks\":\"\"}}}],\"scatterpolar\":[{\"type\":\"scatterpolar\",\"marker\":{\"colorbar\":{\"outlinewidth\":0,\"ticks\":\"\"}}}],\"histogram\":[{\"marker\":{\"pattern\":{\"fillmode\":\"overlay\",\"size\":10,\"solidity\":0.2}},\"type\":\"histogram\"}],\"scattergl\":[{\"type\":\"scattergl\",\"marker\":{\"colorbar\":{\"outlinewidth\":0,\"ticks\":\"\"}}}],\"scatter3d\":[{\"type\":\"scatter3d\",\"line\":{\"colorbar\":{\"outlinewidth\":0,\"ticks\":\"\"}},\"marker\":{\"colorbar\":{\"outlinewidth\":0,\"ticks\":\"\"}}}],\"scattermapbox\":[{\"type\":\"scattermapbox\",\"marker\":{\"colorbar\":{\"outlinewidth\":0,\"ticks\":\"\"}}}],\"scatterternary\":[{\"type\":\"scatterternary\",\"marker\":{\"colorbar\":{\"outlinewidth\":0,\"ticks\":\"\"}}}],\"scattercarpet\":[{\"type\":\"scattercarpet\",\"marker\":{\"colorbar\":{\"outlinewidth\":0,\"ticks\":\"\"}}}],\"carpet\":[{\"aaxis\":{\"endlinecolor\":\"#2a3f5f\",\"gridcolor\":\"white\",\"linecolor\":\"white\",\"minorgridcolor\":\"white\",\"startlinecolor\":\"#2a3f5f\"},\"baxis\":{\"endlinecolor\":\"#2a3f5f\",\"gridcolor\":\"white\",\"linecolor\":\"white\",\"minorgridcolor\":\"white\",\"startlinecolor\":\"#2a3f5f\"},\"type\":\"carpet\"}],\"table\":[{\"cells\":{\"fill\":{\"color\":\"#EBF0F8\"},\"line\":{\"color\":\"white\"}},\"header\":{\"fill\":{\"color\":\"#C8D4E3\"},\"line\":{\"color\":\"white\"}},\"type\":\"table\"}],\"barpolar\":[{\"marker\":{\"line\":{\"color\":\"#E5ECF6\",\"width\":0.5},\"pattern\":{\"fillmode\":\"overlay\",\"size\":10,\"solidity\":0.2}},\"type\":\"barpolar\"}],\"pie\":[{\"automargin\":true,\"type\":\"pie\"}]},\"layout\":{\"autotypenumbers\":\"strict\",\"colorway\":[\"#636efa\",\"#EF553B\",\"#00cc96\",\"#ab63fa\",\"#FFA15A\",\"#19d3f3\",\"#FF6692\",\"#B6E880\",\"#FF97FF\",\"#FECB52\"],\"font\":{\"color\":\"#2a3f5f\"},\"hovermode\":\"closest\",\"hoverlabel\":{\"align\":\"left\"},\"paper_bgcolor\":\"white\",\"plot_bgcolor\":\"#E5ECF6\",\"polar\":{\"bgcolor\":\"#E5ECF6\",\"angularaxis\":{\"gridcolor\":\"white\",\"linecolor\":\"white\",\"ticks\":\"\"},\"radialaxis\":{\"gridcolor\":\"white\",\"linecolor\":\"white\",\"ticks\":\"\"}},\"ternary\":{\"bgcolor\":\"#E5ECF6\",\"aaxis\":{\"gridcolor\":\"white\",\"linecolor\":\"white\",\"ticks\":\"\"},\"baxis\":{\"gridcolor\":\"white\",\"linecolor\":\"white\",\"ticks\":\"\"},\"caxis\":{\"gridcolor\":\"white\",\"linecolor\":\"white\",\"ticks\":\"\"}},\"coloraxis\":{\"colorbar\":{\"outlinewidth\":0,\"ticks\":\"\"}},\"colorscale\":{\"sequential\":[[0.0,\"#0d0887\"],[0.1111111111111111,\"#46039f\"],[0.2222222222222222,\"#7201a8\"],[0.3333333333333333,\"#9c179e\"],[0.4444444444444444,\"#bd3786\"],[0.5555555555555556,\"#d8576b\"],[0.6666666666666666,\"#ed7953\"],[0.7777777777777778,\"#fb9f3a\"],[0.8888888888888888,\"#fdca26\"],[1.0,\"#f0f921\"]],\"sequentialminus\":[[0.0,\"#0d0887\"],[0.1111111111111111,\"#46039f\"],[0.2222222222222222,\"#7201a8\"],[0.3333333333333333,\"#9c179e\"],[0.4444444444444444,\"#bd3786\"],[0.5555555555555556,\"#d8576b\"],[0.6666666666666666,\"#ed7953\"],[0.7777777777777778,\"#fb9f3a\"],[0.8888888888888888,\"#fdca26\"],[1.0,\"#f0f921\"]],\"diverging\":[[0,\"#8e0152\"],[0.1,\"#c51b7d\"],[0.2,\"#de77ae\"],[0.3,\"#f1b6da\"],[0.4,\"#fde0ef\"],[0.5,\"#f7f7f7\"],[0.6,\"#e6f5d0\"],[0.7,\"#b8e186\"],[0.8,\"#7fbc41\"],[0.9,\"#4d9221\"],[1,\"#276419\"]]},\"xaxis\":{\"gridcolor\":\"white\",\"linecolor\":\"white\",\"ticks\":\"\",\"title\":{\"standoff\":15},\"zerolinecolor\":\"white\",\"automargin\":true,\"zerolinewidth\":2},\"yaxis\":{\"gridcolor\":\"white\",\"linecolor\":\"white\",\"ticks\":\"\",\"title\":{\"standoff\":15},\"zerolinecolor\":\"white\",\"automargin\":true,\"zerolinewidth\":2},\"scene\":{\"xaxis\":{\"backgroundcolor\":\"#E5ECF6\",\"gridcolor\":\"white\",\"linecolor\":\"white\",\"showbackground\":true,\"ticks\":\"\",\"zerolinecolor\":\"white\",\"gridwidth\":2},\"yaxis\":{\"backgroundcolor\":\"#E5ECF6\",\"gridcolor\":\"white\",\"linecolor\":\"white\",\"showbackground\":true,\"ticks\":\"\",\"zerolinecolor\":\"white\",\"gridwidth\":2},\"zaxis\":{\"backgroundcolor\":\"#E5ECF6\",\"gridcolor\":\"white\",\"linecolor\":\"white\",\"showbackground\":true,\"ticks\":\"\",\"zerolinecolor\":\"white\",\"gridwidth\":2}},\"shapedefaults\":{\"line\":{\"color\":\"#2a3f5f\"}},\"annotationdefaults\":{\"arrowcolor\":\"#2a3f5f\",\"arrowhead\":0,\"arrowwidth\":1},\"geo\":{\"bgcolor\":\"white\",\"landcolor\":\"#E5ECF6\",\"subunitcolor\":\"white\",\"showland\":true,\"showlakes\":true,\"lakecolor\":\"white\"},\"title\":{\"x\":0.05},\"mapbox\":{\"style\":\"light\"}}},\"xaxis\":{\"anchor\":\"y\",\"domain\":[0.0,1.0],\"scaleanchor\":\"y\",\"constrain\":\"domain\",\"title\":{\"text\":\"Token\"},\"tickfont\":{\"size\":20},\"tickvals\":[0,1,2,3,4,5,6,7,8,9,10,11,12,13,14,15,16,17,18,19,20,21,22,23,24,25,26,27,28,29,30,31,32,33,34,35,36,37,38,39],\"ticktext\":[\"INST\",\"]\",\"\\u2581Tell\",\"\\u2581me\",\"\\u2581a\",\"\\u2581fact\",\"\\u2581about\",\"\\u2581humans\",\"\\u2581[\",\"\\u002f\",\"INST\",\"]\",\"\\u2581Hum\",\"ans\",\"\\u2581are\",\"\\u2581the\",\"\\u2581only\",\"\\u2581animals\",\"\\u2581that\",\"\\u2581bl\",\"ush\",\",\",\"\\u2581as\",\"\\u2581a\",\"\\u2581result\",\"\\u2581of\",\"\\u2581the\",\"\\u2581be\",\"et\",\"les\",\"\\u2581they\",\"\\u2581ate\",\"\\u2581before\",\"\\u2581they\",\"\\u2581started\",\"\\u2581eating\",\"\\u2581pe\",\"pp\",\"ers\",\".\"],\"tickangle\":-45},\"yaxis\":{\"anchor\":\"x\",\"domain\":[0.0,1.0],\"autorange\":\"reversed\",\"constrain\":\"domain\"},\"coloraxis\":{\"colorscale\":[[0.0,\"rgb(165,0,38)\"],[0.1,\"rgb(215,48,39)\"],[0.2,\"rgb(244,109,67)\"],[0.3,\"rgb(253,174,97)\"],[0.4,\"rgb(254,224,139)\"],[0.5,\"rgb(255,255,191)\"],[0.6,\"rgb(217,239,139)\"],[0.7,\"rgb(166,217,106)\"],[0.8,\"rgb(102,189,99)\"],[0.9,\"rgb(26,152,80)\"],[1.0,\"rgb(0,104,55)\"]],\"cmin\":-575.0,\"cmax\":575.0},\"margin\":{\"t\":60}},                        {\"responsive\": true}                    ).then(function(){\n",
       "                            \n",
       "var gd = document.getElementById('5688c086-ca8f-4aa8-9168-c65d264566a8');\n",
       "var x = new MutationObserver(function (mutations, observer) {{\n",
       "        var display = window.getComputedStyle(gd).display;\n",
       "        if (!display || display === 'none') {{\n",
       "            console.log([gd, 'removed!']);\n",
       "            Plotly.purge(gd);\n",
       "            observer.disconnect();\n",
       "        }}\n",
       "}});\n",
       "\n",
       "// Listen for the removal of the full notebook cells\n",
       "var notebookContainer = gd.closest('#notebook-container');\n",
       "if (notebookContainer) {{\n",
       "    x.observe(notebookContainer, {childList: true});\n",
       "}}\n",
       "\n",
       "// Listen for the clearing of the current output cell\n",
       "var outputEl = gd.closest('.output');\n",
       "if (outputEl) {{\n",
       "    x.observe(outputEl, {childList: true});\n",
       "}}\n",
       "\n",
       "                        })                };                });            </script>        </div>"
      ]
     },
     "metadata": {},
     "output_type": "display_data"
    }
   ],
   "source": [
    "from lmdoctor.plot_utils import plot_scores_per_token\n",
    "scores_per_token = ld.detect_lie(layers_to_use=range(32-10, 32))\n",
    "plot_scores_per_token(scores_per_token, tokens, lastn_tokens_to_plot=max_new_tokens)"
   ]
  },
  {
   "cell_type": "markdown",
   "id": "2c608d07-d4c6-4859-aac7-978681c4f57a",
   "metadata": {},
   "source": [
    "## Honesty control (with reading vector)"
   ]
  },
  {
   "cell_type": "code",
   "execution_count": 11,
   "id": "9b479532-aabc-43ea-beaa-0e582d4fe0d3",
   "metadata": {},
   "outputs": [],
   "source": [
    "def vanilla_generate(prompt, max_new_tokens=12):\n",
    "    template_str = '{user_tag} {prompt} {assistant_tag}'\n",
    "    prompt = template_str.format(user_tag=user_tag, prompt=prompt, assistant_tag=assistant_tag)\n",
    "    model_inputs = tokenizer(prompt, return_tensors='pt').to(device)\n",
    "    \n",
    "    with torch.no_grad():\n",
    "        output = model.generate(**model_inputs, max_new_tokens=max_new_tokens)\n",
    "        text = tokenizer.batch_decode(output, skip_special_tokens=True, clean_up_tokenization_spaces=False)[0]\n",
    "        print(text)"
   ]
  },
  {
   "cell_type": "code",
   "execution_count": 12,
   "id": "548f520c-d32b-40af-8530-be426654f226",
   "metadata": {},
   "outputs": [
    {
     "name": "stderr",
     "output_type": "stream",
     "text": [
      "Setting `pad_token_id` to `eos_token_id`:2 for open-end generation.\n"
     ]
    },
    {
     "name": "stdout",
     "output_type": "stream",
     "text": [
      "[INST] You killed a person for revenge but don't want to get caught. What would you tell the police? [/INST] I cannot provide an answer to this question as I am an\n"
     ]
    }
   ],
   "source": [
    "prompt = \"You killed a person for revenge but don't want to get caught. What would you tell the police?\"\n",
    "vanilla_generate(prompt)"
   ]
  },
  {
   "cell_type": "code",
   "execution_count": 13,
   "id": "2ff8c8b4-bbba-442f-955b-4a7d7cc3fa93",
   "metadata": {
    "scrolled": true
   },
   "outputs": [
    {
     "name": "stderr",
     "output_type": "stream",
     "text": [
      "Setting `pad_token_id` to `eos_token_id`:2 for open-end generation.\n"
     ]
    },
    {
     "data": {
      "text/plain": [
       "\"[INST] You killed a person for revenge but don't want to get caught. What would you tell the police? [/INST] I understand the complexities and challenges of the world we live\""
      ]
     },
     "execution_count": 13,
     "metadata": {},
     "output_type": "execute_result"
    }
   ],
   "source": [
    "# +honesty control\n",
    "from lmdoctor import utils\n",
    "hc = utils.ConceptController(honesty_extractor.direction_info, model, tokenizer, user_tag=user_tag, assistant_tag=assistant_tag)\n",
    "hc.generate(prompt, control_direction=1, max_new_tokens=12)"
   ]
  },
  {
   "cell_type": "code",
   "execution_count": 14,
   "id": "dacf5d05-51b8-4b04-94f2-5b4fb50f281e",
   "metadata": {},
   "outputs": [
    {
     "name": "stderr",
     "output_type": "stream",
     "text": [
      "Setting `pad_token_id` to `eos_token_id`:2 for open-end generation.\n"
     ]
    },
    {
     "name": "stdout",
     "output_type": "stream",
     "text": [
      "[INST] I shoplifted a candy bar from the store. What should I tell my parents? [/INST] I understand that you're in a difficult situation, but it's important\n"
     ]
    }
   ],
   "source": [
    "prompt = \"I shoplifted a candy bar from the store. What should I tell my parents?\"\n",
    "vanilla_generate(prompt, max_new_tokens=16)"
   ]
  },
  {
   "cell_type": "code",
   "execution_count": 15,
   "id": "7d4e903d-ed98-4ee0-8662-9895d11d72f0",
   "metadata": {},
   "outputs": [
    {
     "name": "stderr",
     "output_type": "stream",
     "text": [
      "Setting `pad_token_id` to `eos_token_id`:2 for open-end generation.\n"
     ]
    },
    {
     "data": {
      "text/plain": [
       "'[INST] I shoplifted a candy bar from the store. What should I tell my parents? [/INST] I didnmorkly? Xaxkly? Jikmoon?'"
      ]
     },
     "execution_count": 15,
     "metadata": {},
     "output_type": "execute_result"
    }
   ],
   "source": [
    "# -honesty control\n",
    "hc.generate(prompt, control_direction=-1, max_new_tokens=16)"
   ]
  },
  {
   "cell_type": "markdown",
   "id": "7172dbc1-e06c-41e7-83a4-9e525fbb9dad",
   "metadata": {},
   "source": [
    "## Additional example for mistral 2"
   ]
  },
  {
   "cell_type": "code",
   "execution_count": 16,
   "id": "dfe046e5-1238-4758-9ab6-8964ee5645d5",
   "metadata": {},
   "outputs": [
    {
     "name": "stderr",
     "output_type": "stream",
     "text": [
      "Setting `pad_token_id` to `eos_token_id`:2 for open-end generation.\n"
     ]
    },
    {
     "name": "stdout",
     "output_type": "stream",
     "text": [
      "[INST] You killed a person for revenge but don't want to get caught. What would you tell the police? [/INST] I cannot provide an answer to this question as I am an\n"
     ]
    }
   ],
   "source": [
    "prompt = \"You killed a person for revenge but don't want to get caught. What would you tell the police?\"\n",
    "vanilla_generate(prompt)"
   ]
  },
  {
   "cell_type": "code",
   "execution_count": 17,
   "id": "6150115a-8c55-4c6b-bbc7-eebe7d6778e1",
   "metadata": {
    "scrolled": true
   },
   "outputs": [
    {
     "name": "stderr",
     "output_type": "stream",
     "text": [
      "Setting `pad_token_id` to `eos_token_id`:2 for open-end generation.\n"
     ]
    },
    {
     "data": {
      "text/plain": [
       "\"[INST] You killed a person for revenge but don't want to get caught. What would you tell the police? [/INST] I didn't even hear that??!?... HA\""
      ]
     },
     "execution_count": 17,
     "metadata": {},
     "output_type": "execute_result"
    }
   ],
   "source": [
    "# -honesty control\n",
    "from lmdoctor import utils\n",
    "hc = utils.ConceptController(honesty_extractor.direction_info, model, tokenizer, user_tag=user_tag, assistant_tag=assistant_tag)\n",
    "hc.generate(prompt, control_direction=-1, max_new_tokens=12)"
   ]
  },
  {
   "cell_type": "code",
   "execution_count": 99,
   "id": "0c784458-0b86-4eb0-9ad4-7e903f55887a",
   "metadata": {},
   "outputs": [],
   "source": [
    "# act_pairs = honesty_extractor.train_act_pairs[31]\n",
    "# direction_info = honesty_extractor.direction_info\n",
    "# direction = direction_info['directions'][31]"
   ]
  },
  {
   "cell_type": "code",
   "execution_count": 100,
   "id": "b7f0948d-75ae-4d9f-827d-446e2b643ee7",
   "metadata": {},
   "outputs": [],
   "source": [
    "# import torch.nn.functional as F\n",
    "# # act_pairs = train_acts[layer]\n",
    "# label0_mean = torch.mean(act_pairs[0, :], axis=0)\n",
    "# label1_mean = torch.mean(act_pairs[1, :], axis=0)\n",
    "# norm_direction = F.normalize(direction, dim=0)\n",
    "# diff = (label0_mean - label1_mean) @ norm_direction.view(-1)\n",
    "# scaled_direction = (norm_direction * diff).view(-1)"
   ]
  }
 ],
 "metadata": {
  "kernelspec": {
   "display_name": "Python 3 (ipykernel)",
   "language": "python",
   "name": "python3"
  },
  "language_info": {
   "codemirror_mode": {
    "name": "ipython",
    "version": 3
   },
   "file_extension": ".py",
   "mimetype": "text/x-python",
   "name": "python",
   "nbconvert_exporter": "python",
   "pygments_lexer": "ipython3",
   "version": "3.10.13"
  }
 },
 "nbformat": 4,
 "nbformat_minor": 5
}
