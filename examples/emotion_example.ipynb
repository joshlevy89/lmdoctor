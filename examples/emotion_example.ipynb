{
 "cells": [
  {
   "cell_type": "markdown",
   "id": "7a31a213-f00f-462e-bc9d-861633f71082",
   "metadata": {},
   "source": [
    "## Setup\n",
    "If you already have a model you want to use, you can skip this step. "
   ]
  },
  {
   "cell_type": "code",
   "execution_count": 1,
   "id": "574c865c-c179-47cd-b331-9283352504d1",
   "metadata": {},
   "outputs": [],
   "source": [
    "%load_ext autoreload\n",
    "%autoreload 2"
   ]
  },
  {
   "cell_type": "code",
   "execution_count": 2,
   "id": "16a62c6d-cce6-4918-98fa-5bc0bdce8cf6",
   "metadata": {},
   "outputs": [],
   "source": [
    "model_name_or_path = \"TheBloke/Mistral-7B-Instruct-v0.1-GPTQ\"\n",
    "# model_name_or_path = \"TheBloke/Mistral-7B-Instruct-v0.2-GPTQ\""
   ]
  },
  {
   "cell_type": "code",
   "execution_count": 3,
   "id": "be6ed83c-89d0-4d30-b794-20db2ebe92ce",
   "metadata": {},
   "outputs": [
    {
     "name": "stdout",
     "output_type": "stream",
     "text": [
      "Looking in indexes: https://download.pytorch.org/whl/cu121\n",
      "Requirement already satisfied: torch==2.1.1 in /opt/conda/lib/python3.10/site-packages (2.1.1)\n",
      "Requirement already satisfied: torchvision==0.16.1 in /opt/conda/lib/python3.10/site-packages (0.16.1)\n",
      "Requirement already satisfied: torchaudio==2.1.1 in /opt/conda/lib/python3.10/site-packages (2.1.1)\n",
      "Requirement already satisfied: filelock in /opt/conda/lib/python3.10/site-packages (from torch==2.1.1) (3.9.0)\n",
      "Requirement already satisfied: typing-extensions in /opt/conda/lib/python3.10/site-packages (from torch==2.1.1) (4.7.1)\n",
      "Requirement already satisfied: sympy in /opt/conda/lib/python3.10/site-packages (from torch==2.1.1) (1.11.1)\n",
      "Requirement already satisfied: networkx in /opt/conda/lib/python3.10/site-packages (from torch==2.1.1) (3.1)\n",
      "Requirement already satisfied: jinja2 in /opt/conda/lib/python3.10/site-packages (from torch==2.1.1) (3.1.2)\n",
      "Requirement already satisfied: fsspec in /opt/conda/lib/python3.10/site-packages (from torch==2.1.1) (2023.10.0)\n",
      "Requirement already satisfied: numpy in /opt/conda/lib/python3.10/site-packages (from torchvision==0.16.1) (1.26.0)\n",
      "Requirement already satisfied: requests in /opt/conda/lib/python3.10/site-packages (from torchvision==0.16.1) (2.31.0)\n",
      "Requirement already satisfied: pillow!=8.3.*,>=5.3.0 in /opt/conda/lib/python3.10/site-packages (from torchvision==0.16.1) (10.0.1)\n",
      "Requirement already satisfied: MarkupSafe>=2.0 in /opt/conda/lib/python3.10/site-packages (from jinja2->torch==2.1.1) (2.1.1)\n",
      "Requirement already satisfied: charset-normalizer<4,>=2 in /opt/conda/lib/python3.10/site-packages (from requests->torchvision==0.16.1) (2.0.4)\n",
      "Requirement already satisfied: idna<4,>=2.5 in /opt/conda/lib/python3.10/site-packages (from requests->torchvision==0.16.1) (3.4)\n",
      "Requirement already satisfied: urllib3<3,>=1.21.1 in /opt/conda/lib/python3.10/site-packages (from requests->torchvision==0.16.1) (1.26.18)\n",
      "Requirement already satisfied: certifi>=2017.4.17 in /opt/conda/lib/python3.10/site-packages (from requests->torchvision==0.16.1) (2023.7.22)\n",
      "Requirement already satisfied: mpmath>=0.19 in /opt/conda/lib/python3.10/site-packages (from sympy->torch==2.1.1) (1.3.0)\n",
      "\u001b[33mWARNING: Running pip as the 'root' user can result in broken permissions and conflicting behaviour with the system package manager. It is recommended to use a virtual environment instead: https://pip.pypa.io/warnings/venv\u001b[0m\u001b[33m\n",
      "\u001b[0m\u001b[33mWARNING: Running pip as the 'root' user can result in broken permissions and conflicting behaviour with the system package manager. It is recommended to use a virtual environment instead: https://pip.pypa.io/warnings/venv\u001b[0m\u001b[33m\n",
      "\u001b[0mRequirement already satisfied: auto-gptq==0.6.0 in /opt/conda/lib/python3.10/site-packages (0.6.0)\n",
      "Requirement already satisfied: accelerate>=0.22.0 in /opt/conda/lib/python3.10/site-packages (from auto-gptq==0.6.0) (0.27.2)\n",
      "Requirement already satisfied: datasets in /opt/conda/lib/python3.10/site-packages (from auto-gptq==0.6.0) (2.17.1)\n",
      "Requirement already satisfied: sentencepiece in /opt/conda/lib/python3.10/site-packages (from auto-gptq==0.6.0) (0.2.0)\n",
      "Requirement already satisfied: numpy in /opt/conda/lib/python3.10/site-packages (from auto-gptq==0.6.0) (1.26.0)\n",
      "Requirement already satisfied: rouge in /opt/conda/lib/python3.10/site-packages (from auto-gptq==0.6.0) (1.0.1)\n",
      "Requirement already satisfied: gekko in /opt/conda/lib/python3.10/site-packages (from auto-gptq==0.6.0) (1.0.6)\n",
      "Requirement already satisfied: torch>=1.13.0 in /opt/conda/lib/python3.10/site-packages (from auto-gptq==0.6.0) (2.1.1)\n",
      "Requirement already satisfied: safetensors in /opt/conda/lib/python3.10/site-packages (from auto-gptq==0.6.0) (0.4.2)\n",
      "Requirement already satisfied: transformers>=4.31.0 in /opt/conda/lib/python3.10/site-packages (from auto-gptq==0.6.0) (4.38.1)\n",
      "Requirement already satisfied: peft>=0.5.0 in /opt/conda/lib/python3.10/site-packages (from auto-gptq==0.6.0) (0.9.0)\n",
      "Requirement already satisfied: tqdm in /opt/conda/lib/python3.10/site-packages (from auto-gptq==0.6.0) (4.65.0)\n",
      "Requirement already satisfied: packaging>=20.0 in /opt/conda/lib/python3.10/site-packages (from accelerate>=0.22.0->auto-gptq==0.6.0) (23.1)\n",
      "Requirement already satisfied: psutil in /opt/conda/lib/python3.10/site-packages (from accelerate>=0.22.0->auto-gptq==0.6.0) (5.9.0)\n",
      "Requirement already satisfied: pyyaml in /opt/conda/lib/python3.10/site-packages (from accelerate>=0.22.0->auto-gptq==0.6.0) (6.0.1)\n",
      "Requirement already satisfied: huggingface-hub in /opt/conda/lib/python3.10/site-packages (from accelerate>=0.22.0->auto-gptq==0.6.0) (0.21.1)\n",
      "Requirement already satisfied: filelock in /opt/conda/lib/python3.10/site-packages (from torch>=1.13.0->auto-gptq==0.6.0) (3.9.0)\n",
      "Requirement already satisfied: typing-extensions in /opt/conda/lib/python3.10/site-packages (from torch>=1.13.0->auto-gptq==0.6.0) (4.7.1)\n",
      "Requirement already satisfied: sympy in /opt/conda/lib/python3.10/site-packages (from torch>=1.13.0->auto-gptq==0.6.0) (1.11.1)\n",
      "Requirement already satisfied: networkx in /opt/conda/lib/python3.10/site-packages (from torch>=1.13.0->auto-gptq==0.6.0) (3.1)\n",
      "Requirement already satisfied: jinja2 in /opt/conda/lib/python3.10/site-packages (from torch>=1.13.0->auto-gptq==0.6.0) (3.1.2)\n",
      "Requirement already satisfied: fsspec in /opt/conda/lib/python3.10/site-packages (from torch>=1.13.0->auto-gptq==0.6.0) (2023.10.0)\n",
      "Requirement already satisfied: regex!=2019.12.17 in /opt/conda/lib/python3.10/site-packages (from transformers>=4.31.0->auto-gptq==0.6.0) (2023.12.25)\n",
      "Requirement already satisfied: requests in /opt/conda/lib/python3.10/site-packages (from transformers>=4.31.0->auto-gptq==0.6.0) (2.31.0)\n",
      "Requirement already satisfied: tokenizers<0.19,>=0.14 in /opt/conda/lib/python3.10/site-packages (from transformers>=4.31.0->auto-gptq==0.6.0) (0.15.2)\n",
      "Requirement already satisfied: pyarrow>=12.0.0 in /opt/conda/lib/python3.10/site-packages (from datasets->auto-gptq==0.6.0) (15.0.0)\n",
      "Requirement already satisfied: pyarrow-hotfix in /opt/conda/lib/python3.10/site-packages (from datasets->auto-gptq==0.6.0) (0.6)\n",
      "Requirement already satisfied: dill<0.3.9,>=0.3.0 in /opt/conda/lib/python3.10/site-packages (from datasets->auto-gptq==0.6.0) (0.3.8)\n",
      "Requirement already satisfied: pandas in /opt/conda/lib/python3.10/site-packages (from datasets->auto-gptq==0.6.0) (2.2.1)\n",
      "Requirement already satisfied: xxhash in /opt/conda/lib/python3.10/site-packages (from datasets->auto-gptq==0.6.0) (3.4.1)\n",
      "Requirement already satisfied: multiprocess in /opt/conda/lib/python3.10/site-packages (from datasets->auto-gptq==0.6.0) (0.70.16)\n",
      "Requirement already satisfied: aiohttp in /opt/conda/lib/python3.10/site-packages (from datasets->auto-gptq==0.6.0) (3.9.3)\n",
      "Requirement already satisfied: six in /opt/conda/lib/python3.10/site-packages (from rouge->auto-gptq==0.6.0) (1.16.0)\n",
      "Requirement already satisfied: aiosignal>=1.1.2 in /opt/conda/lib/python3.10/site-packages (from aiohttp->datasets->auto-gptq==0.6.0) (1.3.1)\n",
      "Requirement already satisfied: attrs>=17.3.0 in /opt/conda/lib/python3.10/site-packages (from aiohttp->datasets->auto-gptq==0.6.0) (23.1.0)\n",
      "Requirement already satisfied: frozenlist>=1.1.1 in /opt/conda/lib/python3.10/site-packages (from aiohttp->datasets->auto-gptq==0.6.0) (1.4.1)\n",
      "Requirement already satisfied: multidict<7.0,>=4.5 in /opt/conda/lib/python3.10/site-packages (from aiohttp->datasets->auto-gptq==0.6.0) (6.0.5)\n",
      "Requirement already satisfied: yarl<2.0,>=1.0 in /opt/conda/lib/python3.10/site-packages (from aiohttp->datasets->auto-gptq==0.6.0) (1.9.4)\n",
      "Requirement already satisfied: async-timeout<5.0,>=4.0 in /opt/conda/lib/python3.10/site-packages (from aiohttp->datasets->auto-gptq==0.6.0) (4.0.3)\n",
      "Requirement already satisfied: charset-normalizer<4,>=2 in /opt/conda/lib/python3.10/site-packages (from requests->transformers>=4.31.0->auto-gptq==0.6.0) (2.0.4)\n",
      "Requirement already satisfied: idna<4,>=2.5 in /opt/conda/lib/python3.10/site-packages (from requests->transformers>=4.31.0->auto-gptq==0.6.0) (3.4)\n",
      "Requirement already satisfied: urllib3<3,>=1.21.1 in /opt/conda/lib/python3.10/site-packages (from requests->transformers>=4.31.0->auto-gptq==0.6.0) (1.26.18)\n",
      "Requirement already satisfied: certifi>=2017.4.17 in /opt/conda/lib/python3.10/site-packages (from requests->transformers>=4.31.0->auto-gptq==0.6.0) (2023.7.22)\n",
      "Requirement already satisfied: MarkupSafe>=2.0 in /opt/conda/lib/python3.10/site-packages (from jinja2->torch>=1.13.0->auto-gptq==0.6.0) (2.1.1)\n",
      "Requirement already satisfied: python-dateutil>=2.8.2 in /opt/conda/lib/python3.10/site-packages (from pandas->datasets->auto-gptq==0.6.0) (2.8.2)\n",
      "Requirement already satisfied: pytz>=2020.1 in /opt/conda/lib/python3.10/site-packages (from pandas->datasets->auto-gptq==0.6.0) (2023.3.post1)\n",
      "Requirement already satisfied: tzdata>=2022.7 in /opt/conda/lib/python3.10/site-packages (from pandas->datasets->auto-gptq==0.6.0) (2024.1)\n",
      "Requirement already satisfied: mpmath>=0.19 in /opt/conda/lib/python3.10/site-packages (from sympy->torch>=1.13.0->auto-gptq==0.6.0) (1.3.0)\n",
      "\u001b[33mWARNING: Running pip as the 'root' user can result in broken permissions and conflicting behaviour with the system package manager. It is recommended to use a virtual environment instead: https://pip.pypa.io/warnings/venv\u001b[0m\u001b[33m\n",
      "\u001b[0mRequirement already satisfied: accelerate in /opt/conda/lib/python3.10/site-packages (0.27.2)\n",
      "Requirement already satisfied: numpy>=1.17 in /opt/conda/lib/python3.10/site-packages (from accelerate) (1.26.0)\n",
      "Requirement already satisfied: packaging>=20.0 in /opt/conda/lib/python3.10/site-packages (from accelerate) (23.1)\n",
      "Requirement already satisfied: psutil in /opt/conda/lib/python3.10/site-packages (from accelerate) (5.9.0)\n",
      "Requirement already satisfied: pyyaml in /opt/conda/lib/python3.10/site-packages (from accelerate) (6.0.1)\n",
      "Requirement already satisfied: torch>=1.10.0 in /opt/conda/lib/python3.10/site-packages (from accelerate) (2.1.1)\n",
      "Requirement already satisfied: huggingface-hub in /opt/conda/lib/python3.10/site-packages (from accelerate) (0.21.1)\n",
      "Requirement already satisfied: safetensors>=0.3.1 in /opt/conda/lib/python3.10/site-packages (from accelerate) (0.4.2)\n",
      "Requirement already satisfied: filelock in /opt/conda/lib/python3.10/site-packages (from torch>=1.10.0->accelerate) (3.9.0)\n",
      "Requirement already satisfied: typing-extensions in /opt/conda/lib/python3.10/site-packages (from torch>=1.10.0->accelerate) (4.7.1)\n",
      "Requirement already satisfied: sympy in /opt/conda/lib/python3.10/site-packages (from torch>=1.10.0->accelerate) (1.11.1)\n",
      "Requirement already satisfied: networkx in /opt/conda/lib/python3.10/site-packages (from torch>=1.10.0->accelerate) (3.1)\n",
      "Requirement already satisfied: jinja2 in /opt/conda/lib/python3.10/site-packages (from torch>=1.10.0->accelerate) (3.1.2)\n",
      "Requirement already satisfied: fsspec in /opt/conda/lib/python3.10/site-packages (from torch>=1.10.0->accelerate) (2023.10.0)\n",
      "Requirement already satisfied: requests in /opt/conda/lib/python3.10/site-packages (from huggingface-hub->accelerate) (2.31.0)\n",
      "Requirement already satisfied: tqdm>=4.42.1 in /opt/conda/lib/python3.10/site-packages (from huggingface-hub->accelerate) (4.65.0)\n",
      "Requirement already satisfied: MarkupSafe>=2.0 in /opt/conda/lib/python3.10/site-packages (from jinja2->torch>=1.10.0->accelerate) (2.1.1)\n",
      "Requirement already satisfied: charset-normalizer<4,>=2 in /opt/conda/lib/python3.10/site-packages (from requests->huggingface-hub->accelerate) (2.0.4)\n",
      "Requirement already satisfied: idna<4,>=2.5 in /opt/conda/lib/python3.10/site-packages (from requests->huggingface-hub->accelerate) (3.4)\n",
      "Requirement already satisfied: urllib3<3,>=1.21.1 in /opt/conda/lib/python3.10/site-packages (from requests->huggingface-hub->accelerate) (1.26.18)\n",
      "Requirement already satisfied: certifi>=2017.4.17 in /opt/conda/lib/python3.10/site-packages (from requests->huggingface-hub->accelerate) (2023.7.22)\n",
      "Requirement already satisfied: mpmath>=0.19 in /opt/conda/lib/python3.10/site-packages (from sympy->torch>=1.10.0->accelerate) (1.3.0)\n",
      "\u001b[33mWARNING: Running pip as the 'root' user can result in broken permissions and conflicting behaviour with the system package manager. It is recommended to use a virtual environment instead: https://pip.pypa.io/warnings/venv\u001b[0m\u001b[33m\n",
      "\u001b[0m"
     ]
    }
   ],
   "source": [
    "# The quantized model used here requires some extra libraries. \n",
    "!pip install torch==2.1.1 torchvision==0.16.1 torchaudio==2.1.1 --index-url https://download.pytorch.org/whl/cu121\n",
    "!pip install optimum>=1.12.0\n",
    "!pip install auto-gptq==0.6.0\n",
    "!pip install accelerate"
   ]
  },
  {
   "cell_type": "code",
   "execution_count": 4,
   "id": "65d76e35-3f1a-4e8a-931d-61e101fd022d",
   "metadata": {},
   "outputs": [
    {
     "name": "stderr",
     "output_type": "stream",
     "text": [
      "/opt/conda/lib/python3.10/site-packages/transformers/modeling_utils.py:4193: FutureWarning: `_is_quantized_training_enabled` is going to be deprecated in transformers 4.39.0. Please use `model.hf_quantizer.is_trainable` instead\n",
      "  warnings.warn(\n"
     ]
    }
   ],
   "source": [
    "from transformers import AutoModelForCausalLM, AutoTokenizer\n",
    "model = AutoModelForCausalLM.from_pretrained(model_name_or_path, device_map='auto', revision='gptq-4bit-32g-actorder_True', trust_remote_code=False)\n",
    "tokenizer = AutoTokenizer.from_pretrained(model_name_or_path, use_fast=True, padding_side=\"left\")\n",
    "tokenizer.pad_token_id = 0"
   ]
  },
  {
   "cell_type": "code",
   "execution_count": 5,
   "id": "52a598b4-3a54-41c7-9f3a-926cace60be2",
   "metadata": {},
   "outputs": [],
   "source": [
    "user_tag = \"[INST]\"\n",
    "assistant_tag = \"[/INST]\""
   ]
  },
  {
   "cell_type": "code",
   "execution_count": 6,
   "id": "a16924fa-784d-40d1-8ab6-651eb71b8c6d",
   "metadata": {},
   "outputs": [],
   "source": [
    "device = 'cuda:0'"
   ]
  },
  {
   "cell_type": "markdown",
   "id": "3a9b064e-1fe9-4679-b687-14be64371b47",
   "metadata": {},
   "source": [
    "## Train extractor"
   ]
  },
  {
   "cell_type": "code",
   "execution_count": 10,
   "id": "7800e823-e701-4245-ab02-6ca73facdbed",
   "metadata": {},
   "outputs": [],
   "source": [
    "from lmdoctor import extraction_utils\n",
    "\n",
    "emotion = 'anger'\n",
    "# emotion = 'happiness' \n",
    "extractor = extraction_utils.Extractor(model, tokenizer, user_tag, assistant_tag, extraction_target=emotion, n_statements=1024) # limiting n_statements used since won't use all to find directions anyway\n",
    "extractor.find_directions(sample_range=[0, 128])"
   ]
  },
  {
   "cell_type": "markdown",
   "id": "8a31c12c-ddb3-4fdf-9273-98fbdd1d4e5b",
   "metadata": {},
   "source": [
    "## Run detector"
   ]
  },
  {
   "cell_type": "code",
   "execution_count": 16,
   "id": "b80125b2-fd30-40a9-8e68-d9b10dd232a9",
   "metadata": {},
   "outputs": [
    {
     "name": "stderr",
     "output_type": "stream",
     "text": [
      "Setting `pad_token_id` to `eos_token_id`:2 for open-end generation.\n"
     ]
    },
    {
     "name": "stdout",
     "output_type": "stream",
     "text": [
      "One thing that would make me less angry is if people would actively listen to my concerns and try to understand my perspective instead of dismissing or arguing with me. This would show that they value my feelings\n"
     ]
    }
   ],
   "source": [
    "import torch\n",
    "from lmdoctor import detection_utils\n",
    "\n",
    "prompt = \"Describe something that would make you hopping mad\"\n",
    "# prompt = \"Describe something that would make you less angry\"\n",
    "# prompt = \"Describe something that would make you happy\"\n",
    "# prompt = \"Describe something that would make you unhappy\"\n",
    "# prompt = \"You just got 100 dollars\"\n",
    "# prompt = \"Imagine that someone just killed your family. How would you feel toward the person?\"\n",
    "# prompt = \"A generous person just gave 100 dollars to you!\"\n",
    "\n",
    "torch.manual_seed(0)\n",
    "max_new_tokens = 40\n",
    "ld = detection_utils.Detector(model, tokenizer, user_tag, assistant_tag)\n",
    "text = ld.generate(prompt, max_new_tokens=max_new_tokens, do_sample=False, gen_only=True) # capture the hidden_states as the model generates\n",
    "all_projs = ld.get_projections(extractor.direction_info) # project the hidden_states onto the direction vectors from honesty extraction\n",
    "print(text)"
   ]
  },
  {
   "cell_type": "code",
   "execution_count": 17,
   "id": "d71dde00-2224-4f94-87f5-daa73285d4fa",
   "metadata": {},
   "outputs": [
    {
     "data": {
      "application/vnd.plotly.v1+json": {
       "config": {
        "plotlyServerURL": "https://plot.ly"
       },
       "data": [
        {
         "coloraxis": "coloraxis",
         "hovertemplate": "Token: %{x}<br>y: %{y}<br>color: %{z}<extra></extra>",
         "name": "0",
         "type": "heatmap",
         "xaxis": "x",
         "yaxis": "y",
         "z": [
          [
           -0.0011005401611328125,
           -0.002269744873046875,
           -0.006256103515625,
           -0.01120758056640625,
           -0.0030307769775390625,
           -0.00921630859375,
           -0.00875091552734375,
           -0.0038013458251953125,
           0.0010461807250976562,
           0.0012235641479492188,
           -0.00839996337890625,
           -0.005214691162109375,
           -0.00846099853515625,
           -0.005001068115234375,
           -0.00882720947265625,
           -0.0011768341064453125,
           0.005794525146484375,
           -0.0110626220703125,
           -0.0033931732177734375,
           -0.00371551513671875,
           -0.003246307373046875,
           -0.000469207763671875,
           -0.006046295166015625,
           -0.0017852783203125,
           0.0075225830078125,
           0.004085540771484375,
           -0.003978729248046875,
           -0.004486083984375,
           0.01451873779296875,
           -0.00043082237243652344,
           -0.008544921875,
           -0.0016307830810546875,
           -0.0015382766723632812,
           -0.00832366943359375,
           -0.002338409423828125,
           -0.0017766952514648438,
           -0.00991058349609375,
           0.006198883056640625,
           -1.537799835205078e-05
          ],
          [
           -0.0109405517578125,
           -0.0116119384765625,
           0.0026416778564453125,
           -0.0303955078125,
           -0.00542449951171875,
           -0.01233673095703125,
           -0.004978179931640625,
           0.0006670951843261719,
           0.023284912109375,
           0.02703857421875,
           -0.0115966796875,
           -0.01390838623046875,
           -0.0012388229370117188,
           -0.0066986083984375,
           -0.0189971923828125,
           0.003200531005859375,
           0.0123291015625,
           0.017333984375,
           0.01190185546875,
           0.01399993896484375,
           0.0022792816162109375,
           0.01044464111328125,
           0.005588531494140625,
           0.0289306640625,
           0.0281982421875,
           0.0165557861328125,
           -0.0006990432739257812,
           0.017730712890625,
           0.03387451171875,
           0.0079193115234375,
           -0.0031681060791015625,
           0.0389404296875,
           0.00974273681640625,
           -0.0245819091796875,
           -0.0022602081298828125,
           -0.01227569580078125,
           -0.01654052734375,
           0.0015392303466796875,
           -0.00196075439453125
          ],
          [
           -0.059295654296875,
           -0.05340576171875,
           -0.06378173828125,
           -0.0513916015625,
           -0.0372314453125,
           -0.0704345703125,
           -0.0269012451171875,
           -0.028594970703125,
           -0.057159423828125,
           -0.0311279296875,
           -0.0258636474609375,
           -0.0443115234375,
           -0.00811004638671875,
           0.01277923583984375,
           -0.0177154541015625,
           -0.06207275390625,
           -0.0029659271240234375,
           -0.03204345703125,
           -0.03570556640625,
           -0.046112060546875,
           -0.01267242431640625,
           -0.05078125,
           -0.01288604736328125,
           -0.00782012939453125,
           -0.01392364501953125,
           -0.01349639892578125,
           -0.041839599609375,
           -0.01568603515625,
           -0.0010938644409179688,
           -0.0022602081298828125,
           -0.038360595703125,
           -0.076171875,
           -0.09075927734375,
           -0.084228515625,
           -0.024322509765625,
           -0.06341552734375,
           -0.033050537109375,
           -0.007843017578125,
           -0.044403076171875
          ],
          [
           -0.081298828125,
           -0.100830078125,
           -0.1051025390625,
           -0.06610107421875,
           -0.059967041015625,
           -0.07568359375,
           -0.08172607421875,
           -0.06304931640625,
           -0.14013671875,
           -0.0765380859375,
           -0.077392578125,
           -0.054168701171875,
           -0.0297393798828125,
           -0.0322265625,
           -0.033203125,
           -0.06768798828125,
           -0.037384033203125,
           -0.06817626953125,
           -0.040985107421875,
           -0.01384735107421875,
           -0.0523681640625,
           -0.04644775390625,
           -0.04583740234375,
           -0.02056884765625,
           -0.006011962890625,
           -0.04901123046875,
           -0.042083740234375,
           -0.0458984375,
           -0.05645751953125,
           -0.01120758056640625,
           -0.0540771484375,
           -0.12481689453125,
           -0.1143798828125,
           -0.0740966796875,
           -0.05316162109375,
           -0.077880859375,
           -0.04779052734375,
           -0.07196044921875,
           -0.050201416015625
          ],
          [
           -0.05072021484375,
           -0.048126220703125,
           -0.047882080078125,
           0.01473236083984375,
           -0.033721923828125,
           -0.03094482421875,
           -0.0187835693359375,
           0.01580810546875,
           -0.2203369140625,
           -0.06634521484375,
           -0.03857421875,
           -0.01032257080078125,
           0.021697998046875,
           0.002254486083984375,
           -0.0026454925537109375,
           -0.0165863037109375,
           0.0254058837890625,
           -0.01369476318359375,
           0.030303955078125,
           0.0240631103515625,
           -0.02618408203125,
           -0.0107269287109375,
           0.01560211181640625,
           0.0279541015625,
           0.0196533203125,
           0.0003924369812011719,
           -0.00798797607421875,
           0.0168609619140625,
           0.057342529296875,
           0.0584716796875,
           0.005970001220703125,
           -0.1290283203125,
           -0.110595703125,
           -0.0286712646484375,
           -0.011474609375,
           -0.040313720703125,
           -0.0252227783203125,
           -0.06268310546875,
           -0.021148681640625
          ],
          [
           -0.165283203125,
           -0.1253662109375,
           -0.12445068359375,
           0.00431060791015625,
           -0.059326171875,
           -0.08575439453125,
           -0.037811279296875,
           -0.0126495361328125,
           -0.240478515625,
           -0.1722412109375,
           -0.1717529296875,
           -0.01137542724609375,
           -0.04217529296875,
           -0.03509521484375,
           -0.07122802734375,
           -0.1636962890625,
           -0.03057861328125,
           -0.07159423828125,
           -0.061767578125,
           -0.0633544921875,
           -0.102783203125,
           -0.1441650390625,
           -0.0543212890625,
           -0.05810546875,
           -0.0836181640625,
           -0.09466552734375,
           -0.1175537109375,
           -0.03155517578125,
           -0.0166778564453125,
           -0.0224609375,
           -0.11383056640625,
           -0.23388671875,
           -0.260009765625,
           -0.1114501953125,
           -0.132080078125,
           -0.17822265625,
           -0.11724853515625,
           -0.12115478515625,
           -0.1378173828125
          ],
          [
           -0.125244140625,
           -0.07940673828125,
           -0.08502197265625,
           0.0479736328125,
           -0.0151824951171875,
           -0.004169464111328125,
           -0.0034427642822265625,
           0.161376953125,
           -0.123046875,
           -0.09173583984375,
           -0.1522216796875,
           0.03350830078125,
           0.02264404296875,
           0.07550048828125,
           0.006778717041015625,
           -0.11126708984375,
           0.034271240234375,
           -0.006015777587890625,
           -0.0165557861328125,
           -0.05364990234375,
           -0.057159423828125,
           -0.08941650390625,
           0.00963592529296875,
           -0.0267791748046875,
           0.006931304931640625,
           -0.04052734375,
           -0.0516357421875,
           0.007404327392578125,
           0.07403564453125,
           0.05670166015625,
           -0.014678955078125,
           -0.12054443359375,
           -0.1749267578125,
           -0.053802490234375,
           -0.061737060546875,
           -0.14599609375,
           -0.081787109375,
           -0.1368408203125,
           -0.1068115234375
          ],
          [
           -0.049774169921875,
           -0.05706787109375,
           -0.047454833984375,
           0.10919189453125,
           0.042388916015625,
           0.01399993896484375,
           0.00621795654296875,
           0.317138671875,
           -0.0220489501953125,
           -0.0160064697265625,
           -0.1495361328125,
           -0.041473388671875,
           0.026031494140625,
           -0.08551025390625,
           -0.0986328125,
           -0.1490478515625,
           0.00415802001953125,
           -0.10296630859375,
           -0.081298828125,
           -0.098388671875,
           -0.197265625,
           -0.098876953125,
           -0.0457763671875,
           -0.10394287109375,
           -0.052764892578125,
           -0.0782470703125,
           -0.11199951171875,
           -0.00446319580078125,
           0.1392822265625,
           0.0831298828125,
           0.0279998779296875,
           -0.13037109375,
           -0.11578369140625,
           0.012603759765625,
           -0.03662109375,
           -0.111572265625,
           -0.1517333984375,
           -0.14501953125,
           -0.12261962890625
          ],
          [
           -0.1163330078125,
           -0.09564208984375,
           -0.1634521484375,
           -0.1549072265625,
           -0.1900634765625,
           0.0132598876953125,
           -0.230712890625,
           0.67236328125,
           -0.305419921875,
           -0.2119140625,
           -0.137451171875,
           -0.130615234375,
           0.0126800537109375,
           -0.05926513671875,
           -0.0968017578125,
           0.02740478515625,
           0.209228515625,
           -0.082275390625,
           -0.01192474365234375,
           -0.01300048828125,
           -0.109619140625,
           0.06689453125,
           0.04986572265625,
           -0.104248046875,
           0.151123046875,
           0.124755859375,
           0.0894775390625,
           0.130615234375,
           0.50244140625,
           0.30712890625,
           0.2362060546875,
           -0.15478515625,
           -0.0621337890625,
           -0.11639404296875,
           -0.05572509765625,
           -0.053680419921875,
           -4.172325134277344e-07,
           0.004886627197265625,
           0.00457000732421875
          ],
          [
           -0.2303466796875,
           -0.13818359375,
           -0.207763671875,
           -0.218505859375,
           -0.224365234375,
           -0.095947265625,
           -0.2216796875,
           0.65576171875,
           -0.38916015625,
           -0.396728515625,
           -0.24951171875,
           -0.228759765625,
           -0.09124755859375,
           -0.272216796875,
           -0.26025390625,
           -0.031890869140625,
           0.1846923828125,
           -0.242919921875,
           -0.0921630859375,
           -0.10406494140625,
           -0.1734619140625,
           0.09588623046875,
           0.0869140625,
           -0.1903076171875,
           -0.0121002197265625,
           0.00547027587890625,
           -0.02874755859375,
           0.0172119140625,
           0.42822265625,
           0.1767578125,
           0.160400390625,
           -0.284912109375,
           -0.2476806640625,
           -0.324951171875,
           -0.251708984375,
           -0.2578125,
           -0.2196044921875,
           -0.1439208984375,
           0.01497650146484375
          ],
          [
           -0.2432861328125,
           -0.12646484375,
           -0.197265625,
           -0.26171875,
           -0.3056640625,
           -0.053131103515625,
           -0.381591796875,
           0.625,
           -0.473388671875,
           -0.5478515625,
           -0.413818359375,
           -0.43359375,
           -0.308837890625,
           -0.5341796875,
           -0.403564453125,
           -0.0140380859375,
           0.064208984375,
           -0.43212890625,
           -0.328125,
           -0.333984375,
           -0.390380859375,
           0.0985107421875,
           0.0136871337890625,
           -0.384521484375,
           -0.132080078125,
           -0.10174560546875,
           -0.1287841796875,
           -0.06573486328125,
           0.3408203125,
           0.124267578125,
           0.1903076171875,
           -0.316650390625,
           -0.314208984375,
           -0.41015625,
           -0.46044921875,
           -0.451171875,
           -0.404052734375,
           -0.341796875,
           -0.00010341405868530273
          ],
          [
           -0.11053466796875,
           0.0406494140625,
           -0.024749755859375,
           -0.034637451171875,
           -0.1219482421875,
           0.335205078125,
           -0.051422119140625,
           0.93017578125,
           -0.2666015625,
           -0.4326171875,
           -0.321044921875,
           -0.267822265625,
           -0.210205078125,
           -0.383056640625,
           -0.2822265625,
           0.248779296875,
           0.2406005859375,
           -0.29443359375,
           -0.1641845703125,
           -0.210205078125,
           -0.332763671875,
           0.29248046875,
           0.1929931640625,
           -0.2012939453125,
           0.1297607421875,
           0.18017578125,
           0.11767578125,
           0.1849365234375,
           0.454345703125,
           0.29296875,
           0.51318359375,
           -0.2744140625,
           -0.2291259765625,
           -0.315185546875,
           -0.3515625,
           -0.39453125,
           -0.2080078125,
           -0.2071533203125,
           0.1839599609375
          ],
          [
           -0.349609375,
           -0.27978515625,
           -0.2100830078125,
           -0.30029296875,
           -0.402587890625,
           0.19140625,
           -0.309326171875,
           0.53662109375,
           -0.54150390625,
           -0.72509765625,
           -0.7177734375,
           -0.6748046875,
           -0.6337890625,
           -0.849609375,
           -0.7041015625,
           0.01125335693359375,
           -0.10821533203125,
           -0.72216796875,
           -0.50927734375,
           -0.64404296875,
           -0.736328125,
           -0.061126708984375,
           -0.05767822265625,
           -0.56591796875,
           -0.32275390625,
           -0.207275390625,
           -0.302490234375,
           -0.29931640625,
           0.11077880859375,
           -0.07183837890625,
           0.1522216796875,
           -0.6640625,
           -0.642578125,
           -0.75439453125,
           -0.76806640625,
           -0.8037109375,
           -0.69580078125,
           -0.6728515625,
           -0.1688232421875
          ],
          [
           0.1678466796875,
           0.1678466796875,
           0.1917724609375,
           0.1376953125,
           0.02679443359375,
           0.53759765625,
           0.2054443359375,
           0.83056640625,
           -0.022216796875,
           -0.282958984375,
           -0.382080078125,
           -0.308349609375,
           -0.3701171875,
           -0.56201171875,
           -0.3740234375,
           0.28662109375,
           0.1497802734375,
           -0.438232421875,
           -0.28173828125,
           -0.45556640625,
           -0.470703125,
           0.3232421875,
           0.2353515625,
           -0.1927490234375,
           -0.040435791015625,
           0.1859130859375,
           0.0980224609375,
           0.01413726806640625,
           0.346923828125,
           0.18798828125,
           0.483154296875,
           -0.2071533203125,
           -0.2213134765625,
           -0.20947265625,
           -0.437744140625,
           -0.46826171875,
           -0.4375,
           -0.286376953125,
           0.289794921875
          ],
          [
           0.2296142578125,
           0.197998046875,
           -0.191162109375,
           -0.10430908203125,
           -0.0252685546875,
           0.33740234375,
           0.0007996559143066406,
           0.7158203125,
           -0.3310546875,
           -0.3349609375,
           -0.307373046875,
           -0.33837890625,
           -0.171875,
           -0.2381591796875,
           -0.171142578125,
           0.2213134765625,
           0.07647705078125,
           -0.288330078125,
           -0.13623046875,
           -0.353271484375,
           -0.3173828125,
           0.3046875,
           0.184814453125,
           -0.0462646484375,
           0.032073974609375,
           0.3544921875,
           0.299072265625,
           0.1861572265625,
           0.394775390625,
           0.2293701171875,
           0.46923828125,
           -0.06634521484375,
           -0.179443359375,
           -0.34130859375,
           -0.36962890625,
           -0.436279296875,
           -0.45166015625,
           -0.25927734375,
           0.098388671875
          ],
          [
           -0.2088623046875,
           -0.2386474609375,
           -0.460693359375,
           -0.3466796875,
           -0.26611328125,
           -0.31982421875,
           0.06842041015625,
           0.1470947265625,
           -0.6220703125,
           -0.67041015625,
           -0.72705078125,
           -0.703125,
           -0.52880859375,
           -0.6181640625,
           -0.448974609375,
           -0.12164306640625,
           -0.29833984375,
           -0.60205078125,
           -0.6748046875,
           -0.81884765625,
           -0.63330078125,
           0.1392822265625,
           -0.1287841796875,
           -0.1776123046875,
           -0.141357421875,
           0.06280517578125,
           0.0178680419921875,
           0.308837890625,
           -0.026519775390625,
           -0.2374267578125,
           0.0238037109375,
           -0.35400390625,
           -0.5087890625,
           -0.53125,
           -0.76416015625,
           -0.72509765625,
           -0.791015625,
           -0.5693359375,
           -0.10186767578125
          ],
          [
           0.501953125,
           0.399169921875,
           0.18994140625,
           0.166015625,
           0.2437744140625,
           -0.05072021484375,
           0.591796875,
           0.4990234375,
           -0.0897216796875,
           -0.35693359375,
           -0.4228515625,
           -0.3720703125,
           -0.1480712890625,
           -0.294921875,
           -0.0084381103515625,
           0.22900390625,
           0.10687255859375,
           -0.15869140625,
           -0.23583984375,
           -0.378662109375,
           -0.06817626953125,
           0.470458984375,
           0.2078857421875,
           0.236572265625,
           0.21435546875,
           0.4658203125,
           0.4228515625,
           0.6455078125,
           0.4384765625,
           0.271484375,
           0.396484375,
           0.2265625,
           0.050384521484375,
           -0.140869140625,
           -0.340576171875,
           -0.349853515625,
           -0.36279296875,
           -0.1761474609375,
           0.228515625
          ],
          [
           -0.2041015625,
           -0.13818359375,
           -0.342041015625,
           -0.408203125,
           -0.373779296875,
           -0.74755859375,
           0.1187744140625,
           -0.0303802490234375,
           -0.630859375,
           -0.9013671875,
           -1.0546875,
           -0.95751953125,
           -0.7490234375,
           -0.865234375,
           -0.59423828125,
           -0.388427734375,
           -0.69921875,
           -0.681640625,
           -0.92236328125,
           -1.154296875,
           -0.814453125,
           -0.1788330078125,
           -0.5693359375,
           -0.266357421875,
           -0.274169921875,
           -0.34619140625,
           -0.348876953125,
           0.022705078125,
           -0.22119140625,
           -0.355712890625,
           -0.1358642578125,
           -0.49462890625,
           -0.7333984375,
           -0.771484375,
           -1.08203125,
           -1.2138671875,
           -1.1787109375,
           -0.8232421875,
           -0.54443359375
          ],
          [
           0.83837890625,
           0.833984375,
           0.61376953125,
           0.437744140625,
           0.580078125,
           0.01317596435546875,
           1.359375,
           1.0888671875,
           0.48291015625,
           0.0196533203125,
           -0.111083984375,
           -0.07598876953125,
           0.12744140625,
           0.04437255859375,
           0.404541015625,
           0.64892578125,
           0.171142578125,
           0.362548828125,
           -0.0259552001953125,
           -0.26220703125,
           0.1456298828125,
           0.9443359375,
           0.35791015625,
           0.81005859375,
           0.9794921875,
           0.5869140625,
           0.63427734375,
           1.15234375,
           0.88623046875,
           0.56982421875,
           0.75830078125,
           0.56787109375,
           0.285400390625,
           0.08160400390625,
           -0.1500244140625,
           -0.233642578125,
           -0.27783203125,
           0.212890625,
           0.5185546875
          ],
          [
           0.0709228515625,
           0.125244140625,
           -0.08203125,
           -0.431396484375,
           -0.2491455078125,
           -0.76708984375,
           0.7353515625,
           0.2335205078125,
           -0.423095703125,
           -0.92236328125,
           -0.94091796875,
           -0.87451171875,
           -0.81689453125,
           -0.79541015625,
           -0.228515625,
           -0.0246429443359375,
           -0.78125,
           -0.423583984375,
           -0.88916015625,
           -1.1669921875,
           -0.544921875,
           0.2978515625,
           -0.4111328125,
           0.2301025390625,
           0.451416015625,
           -0.0596923828125,
           -0.0023345947265625,
           0.63525390625,
           0.42919921875,
           0.047332763671875,
           0.206298828125,
           -0.1607666015625,
           -0.402099609375,
           -0.70751953125,
           -0.85986328125,
           -1.1064453125,
           -1.123046875,
           -0.51611328125,
           -0.1688232421875
          ],
          [
           0.053314208984375,
           -0.062286376953125,
           -0.1939697265625,
           -0.396484375,
           -0.428466796875,
           -0.93115234375,
           0.55419921875,
           -0.202392578125,
           -0.9208984375,
           -1.4755859375,
           -1.5625,
           -1.345703125,
           -1.3310546875,
           -1.2509765625,
           -0.6015625,
           0.47412109375,
           -0.83154296875,
           -0.705078125,
           -1.337890625,
           -1.6650390625,
           -0.85400390625,
           0.50146484375,
           -0.71826171875,
           -0.258544921875,
           -0.039581298828125,
           -0.59326171875,
           -0.333984375,
           0.434814453125,
           0.0738525390625,
           -0.3876953125,
           -0.31689453125,
           -0.509765625,
           -0.70458984375,
           -0.8994140625,
           -1.365234375,
           -1.5888671875,
           -1.6064453125,
           -0.63671875,
           0.1922607421875
          ],
          [
           -0.6357421875,
           -0.70947265625,
           -0.84228515625,
           -0.935546875,
           -0.900390625,
           -1.2197265625,
           0.2362060546875,
           -0.5537109375,
           -1.58203125,
           -1.900390625,
           -2.068359375,
           -1.8388671875,
           -1.7880859375,
           -1.7255859375,
           -0.9541015625,
           -0.06317138671875,
           -1.2099609375,
           -1.2998046875,
           -1.787109375,
           -2.189453125,
           -1.1982421875,
           -0.0850830078125,
           -1.16015625,
           -0.814453125,
           -0.71533203125,
           -1.0654296875,
           -0.634765625,
           -0.448974609375,
           -0.19091796875,
           -0.8154296875,
           -0.62939453125,
           -0.97509765625,
           -1.00390625,
           -1.18359375,
           -1.5380859375,
           -1.85546875,
           -1.8115234375,
           -1.001953125,
           -0.378662109375
          ],
          [
           1.4365234375,
           1.2216796875,
           1.072265625,
           0.96875,
           0.9638671875,
           0.77880859375,
           2.318359375,
           1.3388671875,
           0.18359375,
           -0.1845703125,
           -0.2626953125,
           -0.1455078125,
           0.23974609375,
           0.0711669921875,
           0.8076171875,
           1.6767578125,
           0.7890625,
           0.462158203125,
           0.2159423828125,
           -0.21923828125,
           0.8564453125,
           2.041015625,
           0.791015625,
           1.28515625,
           1.419921875,
           0.81689453125,
           1.310546875,
           1.68359375,
           1.6904296875,
           1.0986328125,
           1.1875,
           0.625,
           0.87451171875,
           0.65185546875,
           0.40771484375,
           0.00031948089599609375,
           0.16943359375,
           0.94775390625,
           1.4072265625
          ],
          [
           0.9521484375,
           0.80517578125,
           0.71044921875,
           0.235595703125,
           0.1591796875,
           0.08746337890625,
           1.3779296875,
           0.76416015625,
           -0.4921875,
           -0.8837890625,
           -0.91064453125,
           -0.966796875,
           -0.7412109375,
           -0.89111328125,
           -0.11541748046875,
           0.61767578125,
           -0.37353515625,
           -0.72607421875,
           -0.71484375,
           -1.361328125,
           -0.1939697265625,
           0.826171875,
           -0.55859375,
           0.4326171875,
           0.71337890625,
           -0.1912841796875,
           0.341064453125,
           0.7548828125,
           0.91650390625,
           0.037017822265625,
           0.3642578125,
           -0.298583984375,
           0.0419921875,
           -0.341064453125,
           -0.5830078125,
           -0.88037109375,
           -0.9091796875,
           -0.00559234619140625,
           0.296142578125
          ],
          [
           1.6201171875,
           1.2900390625,
           1.109375,
           0.66357421875,
           0.5439453125,
           0.2327880859375,
           1.478515625,
           1.1572265625,
           -0.169677734375,
           -0.54931640625,
           -0.61474609375,
           -0.66455078125,
           -0.5986328125,
           -0.56591796875,
           0.16015625,
           0.85009765625,
           -0.259521484375,
           -0.37841796875,
           -0.431640625,
           -1.1162109375,
           0.2271728515625,
           1.0439453125,
           -0.13818359375,
           0.67138671875,
           0.916015625,
           0.348388671875,
           0.70556640625,
           1.0068359375,
           1.353515625,
           0.3505859375,
           0.92919921875,
           -0.00751495361328125,
           0.313232421875,
           -0.174072265625,
           -0.385498046875,
           -0.6298828125,
           -0.7392578125,
           0.32470703125,
           0.4521484375
          ],
          [
           1.3193359375,
           1.05859375,
           0.97607421875,
           0.3017578125,
           0.11053466796875,
           -0.3642578125,
           0.97802734375,
           0.9072265625,
           -0.377685546875,
           -0.98046875,
           -0.66748046875,
           -0.81787109375,
           -0.9052734375,
           -0.8974609375,
           -0.11334228515625,
           0.30859375,
           -0.68408203125,
           -0.67138671875,
           -0.71435546875,
           -1.3095703125,
           -0.128662109375,
           0.646484375,
           -0.51025390625,
           0.67236328125,
           0.85302734375,
           0.2490234375,
           0.3798828125,
           0.99609375,
           1.205078125,
           -0.1805419921875,
           0.869140625,
           -0.26904296875,
           -0.03564453125,
           -0.5224609375,
           -0.46923828125,
           -0.87255859375,
           -0.6787109375,
           -0.0017194747924804688,
           0.07489013671875
          ],
          [
           -0.048828125,
           -0.0797119140625,
           -0.08203125,
           -1.0966796875,
           -1.3740234375,
           -1.68359375,
           -0.5107421875,
           -0.5625,
           -1.6240234375,
           -2.31640625,
           -2.111328125,
           -2.08203125,
           -2.50390625,
           -2.361328125,
           -1.49609375,
           -1.234375,
           -2.216796875,
           -2.150390625,
           -1.908203125,
           -2.671875,
           -1.7021484375,
           -0.94970703125,
           -1.9580078125,
           -0.5419921875,
           -0.365966796875,
           -1.103515625,
           -0.92138671875,
           -0.346923828125,
           -0.005847930908203125,
           -1.7080078125,
           -0.359619140625,
           -1.818359375,
           -1.3681640625,
           -2.037109375,
           -2.173828125,
           -2.451171875,
           -2.189453125,
           -1.4619140625,
           -1.421875
          ],
          [
           -0.1624755859375,
           -0.249755859375,
           -0.208740234375,
           -1.0068359375,
           -1.787109375,
           -1.9228515625,
           -0.900390625,
           -0.67919921875,
           -1.70703125,
           -2.32421875,
           -2.169921875,
           -1.9287109375,
           -2.330078125,
           -2.58984375,
           -1.8876953125,
           -1.55859375,
           -2.587890625,
           -2.328125,
           -1.95703125,
           -2.689453125,
           -1.9765625,
           -1.044921875,
           -1.962890625,
           -0.5615234375,
           -0.138427734375,
           -1.3662109375,
           -1.3408203125,
           -0.42041015625,
           -0.04815673828125,
           -2.158203125,
           -0.325927734375,
           -2.0390625,
           -1.4599609375,
           -2.166015625,
           -2.373046875,
           -2.47265625,
           -2.14453125,
           -1.8037109375,
           -1.541015625
          ],
          [
           2.630859375,
           2.515625,
           2.794921875,
           1.9853515625,
           1.107421875,
           1.271484375,
           2.6484375,
           2.396484375,
           1.607421875,
           0.78076171875,
           0.8984375,
           0.99267578125,
           0.76318359375,
           0.36572265625,
           0.89501953125,
           1.388671875,
           0.09747314453125,
           0.447509765625,
           0.96728515625,
           0.2120361328125,
           0.9150390625,
           1.763671875,
           0.77783203125,
           2.396484375,
           2.787109375,
           1.5849609375,
           1.587890625,
           2.4609375,
           2.95703125,
           0.76171875,
           2.783203125,
           1.1484375,
           1.69140625,
           0.86572265625,
           0.451171875,
           0.379150390625,
           0.5859375,
           0.9365234375,
           1.5830078125
          ],
          [
           2.1953125,
           1.904296875,
           2.380859375,
           1.7197265625,
           1.0361328125,
           1.0859375,
           2.423828125,
           2.197265625,
           1.4462890625,
           0.53173828125,
           0.70068359375,
           0.77734375,
           0.5693359375,
           0.1107177734375,
           0.7333984375,
           0.9248046875,
           0.12335205078125,
           0.495849609375,
           0.85888671875,
           -0.06634521484375,
           0.47314453125,
           1.28515625,
           0.53515625,
           2.08984375,
           2.798828125,
           1.4189453125,
           1.5478515625,
           2.498046875,
           2.982421875,
           0.81689453125,
           2.9921875,
           0.86572265625,
           1.607421875,
           0.85302734375,
           0.410400390625,
           0.297119140625,
           0.630859375,
           0.6650390625,
           1.732421875
          ],
          [
           -1.59375,
           -1.5830078125,
           -1.2646484375,
           -1.6982421875,
           -2.87109375,
           -2.26953125,
           -0.94482421875,
           -0.8349609375,
           -1.8662109375,
           -2.634765625,
           -2.224609375,
           -2.62109375,
           -2.9765625,
           -2.306640625,
           -2.359375,
           -2.42578125,
           -3.189453125,
           -2.716796875,
           -2.169921875,
           -3.37109375,
           -2.828125,
           -2.259765625,
           -2.642578125,
           -1.087890625,
           -0.37548828125,
           -2.119140625,
           -1.935546875,
           -1.044921875,
           0.10162353515625,
           -2.62890625,
           -0.1307373046875,
           -2.298828125,
           -1.3984375,
           -2.4140625,
           -2.974609375,
           -2.96875,
           -2.96484375,
           -2.693359375,
           -1.3896484375
          ],
          [
           28.4375,
           34,
           28.640625,
           21.234375,
           26.53125,
           27.265625,
           54.71875,
           29.703125,
           15.1875,
           22.203125,
           8.4609375,
           4.66796875,
           3.466796875,
           5.43359375,
           15.2109375,
           13.1171875,
           1.2294921875,
           -4.4375,
           1.16015625,
           -8.328125,
           15.875,
           19.640625,
           7.78515625,
           26.15625,
           36.46875,
           20.84375,
           28.125,
           33.3125,
           39.9375,
           30.65625,
           42.5625,
           5.76171875,
           17.625,
           15.3671875,
           -1.6591796875,
           11.6171875,
           -4.22265625,
           4.953125,
           14.8125
          ]
         ]
        }
       ],
       "layout": {
        "coloraxis": {
         "cmax": 3,
         "cmin": -3,
         "colorscale": [
          [
           0,
           "rgb(165,0,38)"
          ],
          [
           0.1,
           "rgb(215,48,39)"
          ],
          [
           0.2,
           "rgb(244,109,67)"
          ],
          [
           0.3,
           "rgb(253,174,97)"
          ],
          [
           0.4,
           "rgb(254,224,139)"
          ],
          [
           0.5,
           "rgb(255,255,191)"
          ],
          [
           0.6,
           "rgb(217,239,139)"
          ],
          [
           0.7,
           "rgb(166,217,106)"
          ],
          [
           0.8,
           "rgb(102,189,99)"
          ],
          [
           0.9,
           "rgb(26,152,80)"
          ],
          [
           1,
           "rgb(0,104,55)"
          ]
         ]
        },
        "height": 600,
        "margin": {
         "t": 60
        },
        "template": {
         "data": {
          "bar": [
           {
            "error_x": {
             "color": "#2a3f5f"
            },
            "error_y": {
             "color": "#2a3f5f"
            },
            "marker": {
             "line": {
              "color": "#E5ECF6",
              "width": 0.5
             },
             "pattern": {
              "fillmode": "overlay",
              "size": 10,
              "solidity": 0.2
             }
            },
            "type": "bar"
           }
          ],
          "barpolar": [
           {
            "marker": {
             "line": {
              "color": "#E5ECF6",
              "width": 0.5
             },
             "pattern": {
              "fillmode": "overlay",
              "size": 10,
              "solidity": 0.2
             }
            },
            "type": "barpolar"
           }
          ],
          "carpet": [
           {
            "aaxis": {
             "endlinecolor": "#2a3f5f",
             "gridcolor": "white",
             "linecolor": "white",
             "minorgridcolor": "white",
             "startlinecolor": "#2a3f5f"
            },
            "baxis": {
             "endlinecolor": "#2a3f5f",
             "gridcolor": "white",
             "linecolor": "white",
             "minorgridcolor": "white",
             "startlinecolor": "#2a3f5f"
            },
            "type": "carpet"
           }
          ],
          "choropleth": [
           {
            "colorbar": {
             "outlinewidth": 0,
             "ticks": ""
            },
            "type": "choropleth"
           }
          ],
          "contour": [
           {
            "colorbar": {
             "outlinewidth": 0,
             "ticks": ""
            },
            "colorscale": [
             [
              0,
              "#0d0887"
             ],
             [
              0.1111111111111111,
              "#46039f"
             ],
             [
              0.2222222222222222,
              "#7201a8"
             ],
             [
              0.3333333333333333,
              "#9c179e"
             ],
             [
              0.4444444444444444,
              "#bd3786"
             ],
             [
              0.5555555555555556,
              "#d8576b"
             ],
             [
              0.6666666666666666,
              "#ed7953"
             ],
             [
              0.7777777777777778,
              "#fb9f3a"
             ],
             [
              0.8888888888888888,
              "#fdca26"
             ],
             [
              1,
              "#f0f921"
             ]
            ],
            "type": "contour"
           }
          ],
          "contourcarpet": [
           {
            "colorbar": {
             "outlinewidth": 0,
             "ticks": ""
            },
            "type": "contourcarpet"
           }
          ],
          "heatmap": [
           {
            "colorbar": {
             "outlinewidth": 0,
             "ticks": ""
            },
            "colorscale": [
             [
              0,
              "#0d0887"
             ],
             [
              0.1111111111111111,
              "#46039f"
             ],
             [
              0.2222222222222222,
              "#7201a8"
             ],
             [
              0.3333333333333333,
              "#9c179e"
             ],
             [
              0.4444444444444444,
              "#bd3786"
             ],
             [
              0.5555555555555556,
              "#d8576b"
             ],
             [
              0.6666666666666666,
              "#ed7953"
             ],
             [
              0.7777777777777778,
              "#fb9f3a"
             ],
             [
              0.8888888888888888,
              "#fdca26"
             ],
             [
              1,
              "#f0f921"
             ]
            ],
            "type": "heatmap"
           }
          ],
          "heatmapgl": [
           {
            "colorbar": {
             "outlinewidth": 0,
             "ticks": ""
            },
            "colorscale": [
             [
              0,
              "#0d0887"
             ],
             [
              0.1111111111111111,
              "#46039f"
             ],
             [
              0.2222222222222222,
              "#7201a8"
             ],
             [
              0.3333333333333333,
              "#9c179e"
             ],
             [
              0.4444444444444444,
              "#bd3786"
             ],
             [
              0.5555555555555556,
              "#d8576b"
             ],
             [
              0.6666666666666666,
              "#ed7953"
             ],
             [
              0.7777777777777778,
              "#fb9f3a"
             ],
             [
              0.8888888888888888,
              "#fdca26"
             ],
             [
              1,
              "#f0f921"
             ]
            ],
            "type": "heatmapgl"
           }
          ],
          "histogram": [
           {
            "marker": {
             "pattern": {
              "fillmode": "overlay",
              "size": 10,
              "solidity": 0.2
             }
            },
            "type": "histogram"
           }
          ],
          "histogram2d": [
           {
            "colorbar": {
             "outlinewidth": 0,
             "ticks": ""
            },
            "colorscale": [
             [
              0,
              "#0d0887"
             ],
             [
              0.1111111111111111,
              "#46039f"
             ],
             [
              0.2222222222222222,
              "#7201a8"
             ],
             [
              0.3333333333333333,
              "#9c179e"
             ],
             [
              0.4444444444444444,
              "#bd3786"
             ],
             [
              0.5555555555555556,
              "#d8576b"
             ],
             [
              0.6666666666666666,
              "#ed7953"
             ],
             [
              0.7777777777777778,
              "#fb9f3a"
             ],
             [
              0.8888888888888888,
              "#fdca26"
             ],
             [
              1,
              "#f0f921"
             ]
            ],
            "type": "histogram2d"
           }
          ],
          "histogram2dcontour": [
           {
            "colorbar": {
             "outlinewidth": 0,
             "ticks": ""
            },
            "colorscale": [
             [
              0,
              "#0d0887"
             ],
             [
              0.1111111111111111,
              "#46039f"
             ],
             [
              0.2222222222222222,
              "#7201a8"
             ],
             [
              0.3333333333333333,
              "#9c179e"
             ],
             [
              0.4444444444444444,
              "#bd3786"
             ],
             [
              0.5555555555555556,
              "#d8576b"
             ],
             [
              0.6666666666666666,
              "#ed7953"
             ],
             [
              0.7777777777777778,
              "#fb9f3a"
             ],
             [
              0.8888888888888888,
              "#fdca26"
             ],
             [
              1,
              "#f0f921"
             ]
            ],
            "type": "histogram2dcontour"
           }
          ],
          "mesh3d": [
           {
            "colorbar": {
             "outlinewidth": 0,
             "ticks": ""
            },
            "type": "mesh3d"
           }
          ],
          "parcoords": [
           {
            "line": {
             "colorbar": {
              "outlinewidth": 0,
              "ticks": ""
             }
            },
            "type": "parcoords"
           }
          ],
          "pie": [
           {
            "automargin": true,
            "type": "pie"
           }
          ],
          "scatter": [
           {
            "fillpattern": {
             "fillmode": "overlay",
             "size": 10,
             "solidity": 0.2
            },
            "type": "scatter"
           }
          ],
          "scatter3d": [
           {
            "line": {
             "colorbar": {
              "outlinewidth": 0,
              "ticks": ""
             }
            },
            "marker": {
             "colorbar": {
              "outlinewidth": 0,
              "ticks": ""
             }
            },
            "type": "scatter3d"
           }
          ],
          "scattercarpet": [
           {
            "marker": {
             "colorbar": {
              "outlinewidth": 0,
              "ticks": ""
             }
            },
            "type": "scattercarpet"
           }
          ],
          "scattergeo": [
           {
            "marker": {
             "colorbar": {
              "outlinewidth": 0,
              "ticks": ""
             }
            },
            "type": "scattergeo"
           }
          ],
          "scattergl": [
           {
            "marker": {
             "colorbar": {
              "outlinewidth": 0,
              "ticks": ""
             }
            },
            "type": "scattergl"
           }
          ],
          "scattermapbox": [
           {
            "marker": {
             "colorbar": {
              "outlinewidth": 0,
              "ticks": ""
             }
            },
            "type": "scattermapbox"
           }
          ],
          "scatterpolar": [
           {
            "marker": {
             "colorbar": {
              "outlinewidth": 0,
              "ticks": ""
             }
            },
            "type": "scatterpolar"
           }
          ],
          "scatterpolargl": [
           {
            "marker": {
             "colorbar": {
              "outlinewidth": 0,
              "ticks": ""
             }
            },
            "type": "scatterpolargl"
           }
          ],
          "scatterternary": [
           {
            "marker": {
             "colorbar": {
              "outlinewidth": 0,
              "ticks": ""
             }
            },
            "type": "scatterternary"
           }
          ],
          "surface": [
           {
            "colorbar": {
             "outlinewidth": 0,
             "ticks": ""
            },
            "colorscale": [
             [
              0,
              "#0d0887"
             ],
             [
              0.1111111111111111,
              "#46039f"
             ],
             [
              0.2222222222222222,
              "#7201a8"
             ],
             [
              0.3333333333333333,
              "#9c179e"
             ],
             [
              0.4444444444444444,
              "#bd3786"
             ],
             [
              0.5555555555555556,
              "#d8576b"
             ],
             [
              0.6666666666666666,
              "#ed7953"
             ],
             [
              0.7777777777777778,
              "#fb9f3a"
             ],
             [
              0.8888888888888888,
              "#fdca26"
             ],
             [
              1,
              "#f0f921"
             ]
            ],
            "type": "surface"
           }
          ],
          "table": [
           {
            "cells": {
             "fill": {
              "color": "#EBF0F8"
             },
             "line": {
              "color": "white"
             }
            },
            "header": {
             "fill": {
              "color": "#C8D4E3"
             },
             "line": {
              "color": "white"
             }
            },
            "type": "table"
           }
          ]
         },
         "layout": {
          "annotationdefaults": {
           "arrowcolor": "#2a3f5f",
           "arrowhead": 0,
           "arrowwidth": 1
          },
          "autotypenumbers": "strict",
          "coloraxis": {
           "colorbar": {
            "outlinewidth": 0,
            "ticks": ""
           }
          },
          "colorscale": {
           "diverging": [
            [
             0,
             "#8e0152"
            ],
            [
             0.1,
             "#c51b7d"
            ],
            [
             0.2,
             "#de77ae"
            ],
            [
             0.3,
             "#f1b6da"
            ],
            [
             0.4,
             "#fde0ef"
            ],
            [
             0.5,
             "#f7f7f7"
            ],
            [
             0.6,
             "#e6f5d0"
            ],
            [
             0.7,
             "#b8e186"
            ],
            [
             0.8,
             "#7fbc41"
            ],
            [
             0.9,
             "#4d9221"
            ],
            [
             1,
             "#276419"
            ]
           ],
           "sequential": [
            [
             0,
             "#0d0887"
            ],
            [
             0.1111111111111111,
             "#46039f"
            ],
            [
             0.2222222222222222,
             "#7201a8"
            ],
            [
             0.3333333333333333,
             "#9c179e"
            ],
            [
             0.4444444444444444,
             "#bd3786"
            ],
            [
             0.5555555555555556,
             "#d8576b"
            ],
            [
             0.6666666666666666,
             "#ed7953"
            ],
            [
             0.7777777777777778,
             "#fb9f3a"
            ],
            [
             0.8888888888888888,
             "#fdca26"
            ],
            [
             1,
             "#f0f921"
            ]
           ],
           "sequentialminus": [
            [
             0,
             "#0d0887"
            ],
            [
             0.1111111111111111,
             "#46039f"
            ],
            [
             0.2222222222222222,
             "#7201a8"
            ],
            [
             0.3333333333333333,
             "#9c179e"
            ],
            [
             0.4444444444444444,
             "#bd3786"
            ],
            [
             0.5555555555555556,
             "#d8576b"
            ],
            [
             0.6666666666666666,
             "#ed7953"
            ],
            [
             0.7777777777777778,
             "#fb9f3a"
            ],
            [
             0.8888888888888888,
             "#fdca26"
            ],
            [
             1,
             "#f0f921"
            ]
           ]
          },
          "colorway": [
           "#636efa",
           "#EF553B",
           "#00cc96",
           "#ab63fa",
           "#FFA15A",
           "#19d3f3",
           "#FF6692",
           "#B6E880",
           "#FF97FF",
           "#FECB52"
          ],
          "font": {
           "color": "#2a3f5f"
          },
          "geo": {
           "bgcolor": "white",
           "lakecolor": "white",
           "landcolor": "#E5ECF6",
           "showlakes": true,
           "showland": true,
           "subunitcolor": "white"
          },
          "hoverlabel": {
           "align": "left"
          },
          "hovermode": "closest",
          "mapbox": {
           "style": "light"
          },
          "paper_bgcolor": "white",
          "plot_bgcolor": "#E5ECF6",
          "polar": {
           "angularaxis": {
            "gridcolor": "white",
            "linecolor": "white",
            "ticks": ""
           },
           "bgcolor": "#E5ECF6",
           "radialaxis": {
            "gridcolor": "white",
            "linecolor": "white",
            "ticks": ""
           }
          },
          "scene": {
           "xaxis": {
            "backgroundcolor": "#E5ECF6",
            "gridcolor": "white",
            "gridwidth": 2,
            "linecolor": "white",
            "showbackground": true,
            "ticks": "",
            "zerolinecolor": "white"
           },
           "yaxis": {
            "backgroundcolor": "#E5ECF6",
            "gridcolor": "white",
            "gridwidth": 2,
            "linecolor": "white",
            "showbackground": true,
            "ticks": "",
            "zerolinecolor": "white"
           },
           "zaxis": {
            "backgroundcolor": "#E5ECF6",
            "gridcolor": "white",
            "gridwidth": 2,
            "linecolor": "white",
            "showbackground": true,
            "ticks": "",
            "zerolinecolor": "white"
           }
          },
          "shapedefaults": {
           "line": {
            "color": "#2a3f5f"
           }
          },
          "ternary": {
           "aaxis": {
            "gridcolor": "white",
            "linecolor": "white",
            "ticks": ""
           },
           "baxis": {
            "gridcolor": "white",
            "linecolor": "white",
            "ticks": ""
           },
           "bgcolor": "#E5ECF6",
           "caxis": {
            "gridcolor": "white",
            "linecolor": "white",
            "ticks": ""
           }
          },
          "title": {
           "x": 0.05
          },
          "xaxis": {
           "automargin": true,
           "gridcolor": "white",
           "linecolor": "white",
           "ticks": "",
           "title": {
            "standoff": 15
           },
           "zerolinecolor": "white",
           "zerolinewidth": 2
          },
          "yaxis": {
           "automargin": true,
           "gridcolor": "white",
           "linecolor": "white",
           "ticks": "",
           "title": {
            "standoff": 15
           },
           "zerolinecolor": "white",
           "zerolinewidth": 2
          }
         }
        },
        "width": 1000,
        "xaxis": {
         "anchor": "y",
         "autorange": true,
         "constrain": "domain",
         "domain": [
          0.19309390169902912,
          0.8069060983009708
         ],
         "range": [
          -0.5,
          38.5
         ],
         "scaleanchor": "y",
         "ticktext": [
          "▁One",
          "▁thing",
          "▁that",
          "▁would",
          "▁make",
          "▁me",
          "▁less",
          "▁angry",
          "▁is",
          "▁if",
          "▁people",
          "▁would",
          "▁actively",
          "▁listen",
          "▁to",
          "▁my",
          "▁concerns",
          "▁and",
          "▁try",
          "▁to",
          "▁understand",
          "▁my",
          "▁perspective",
          "▁instead",
          "▁of",
          "▁dismiss",
          "ing",
          "▁or",
          "▁arguing",
          "▁with",
          "▁me",
          ".",
          "▁This",
          "▁would",
          "▁show",
          "▁that",
          "▁they",
          "▁value",
          "▁my",
          "▁feelings"
         ],
         "tickvals": [
          0,
          1,
          2,
          3,
          4,
          5,
          6,
          7,
          8,
          9,
          10,
          11,
          12,
          13,
          14,
          15,
          16,
          17,
          18,
          19,
          20,
          21,
          22,
          23,
          24,
          25,
          26,
          27,
          28,
          29,
          30,
          31,
          32,
          33,
          34,
          35,
          36,
          37,
          38,
          39
         ],
         "title": {
          "text": "Token"
         }
        },
        "yaxis": {
         "anchor": "x",
         "autorange": true,
         "constrain": "domain",
         "domain": [
          0,
          1
         ],
         "range": [
          31.5,
          -0.5
         ]
        }
       }
      },
      "image/png": "[encoded data removed]",
      "text/html": [
       "<div>                            <div id=\"8d33d706-aecc-4a2c-a95a-93220de85452\" class=\"plotly-graph-div\" style=\"height:600px; width:1000px;\"></div>            <script type=\"text/javascript\">                require([\"plotly\"], function(Plotly) {                    window.PLOTLYENV=window.PLOTLYENV || {};                                    if (document.getElementById(\"8d33d706-aecc-4a2c-a95a-93220de85452\")) {                    Plotly.newPlot(                        \"8d33d706-aecc-4a2c-a95a-93220de85452\",                        [{\"coloraxis\":\"coloraxis\",\"name\":\"0\",\"z\":[[-0.0011005401611328125,-0.002269744873046875,-0.006256103515625,-0.01120758056640625,-0.0030307769775390625,-0.00921630859375,-0.00875091552734375,-0.0038013458251953125,0.0010461807250976562,0.0012235641479492188,-0.00839996337890625,-0.005214691162109375,-0.00846099853515625,-0.005001068115234375,-0.00882720947265625,-0.0011768341064453125,0.005794525146484375,-0.0110626220703125,-0.0033931732177734375,-0.00371551513671875,-0.003246307373046875,-0.000469207763671875,-0.006046295166015625,-0.0017852783203125,0.0075225830078125,0.004085540771484375,-0.003978729248046875,-0.004486083984375,0.01451873779296875,-0.00043082237243652344,-0.008544921875,-0.0016307830810546875,-0.0015382766723632812,-0.00832366943359375,-0.002338409423828125,-0.0017766952514648438,-0.00991058349609375,0.006198883056640625,-1.537799835205078e-05],[-0.0109405517578125,-0.0116119384765625,0.0026416778564453125,-0.0303955078125,-0.00542449951171875,-0.01233673095703125,-0.004978179931640625,0.0006670951843261719,0.023284912109375,0.02703857421875,-0.0115966796875,-0.01390838623046875,-0.0012388229370117188,-0.0066986083984375,-0.0189971923828125,0.003200531005859375,0.0123291015625,0.017333984375,0.01190185546875,0.01399993896484375,0.0022792816162109375,0.01044464111328125,0.005588531494140625,0.0289306640625,0.0281982421875,0.0165557861328125,-0.0006990432739257812,0.017730712890625,0.03387451171875,0.0079193115234375,-0.0031681060791015625,0.0389404296875,0.00974273681640625,-0.0245819091796875,-0.0022602081298828125,-0.01227569580078125,-0.01654052734375,0.0015392303466796875,-0.00196075439453125],[-0.059295654296875,-0.05340576171875,-0.06378173828125,-0.0513916015625,-0.0372314453125,-0.0704345703125,-0.0269012451171875,-0.028594970703125,-0.057159423828125,-0.0311279296875,-0.0258636474609375,-0.0443115234375,-0.00811004638671875,0.01277923583984375,-0.0177154541015625,-0.06207275390625,-0.0029659271240234375,-0.03204345703125,-0.03570556640625,-0.046112060546875,-0.01267242431640625,-0.05078125,-0.01288604736328125,-0.00782012939453125,-0.01392364501953125,-0.01349639892578125,-0.041839599609375,-0.01568603515625,-0.0010938644409179688,-0.0022602081298828125,-0.038360595703125,-0.076171875,-0.09075927734375,-0.084228515625,-0.024322509765625,-0.06341552734375,-0.033050537109375,-0.007843017578125,-0.044403076171875],[-0.081298828125,-0.100830078125,-0.1051025390625,-0.06610107421875,-0.059967041015625,-0.07568359375,-0.08172607421875,-0.06304931640625,-0.14013671875,-0.0765380859375,-0.077392578125,-0.054168701171875,-0.0297393798828125,-0.0322265625,-0.033203125,-0.06768798828125,-0.037384033203125,-0.06817626953125,-0.040985107421875,-0.01384735107421875,-0.0523681640625,-0.04644775390625,-0.04583740234375,-0.02056884765625,-0.006011962890625,-0.04901123046875,-0.042083740234375,-0.0458984375,-0.05645751953125,-0.01120758056640625,-0.0540771484375,-0.12481689453125,-0.1143798828125,-0.0740966796875,-0.05316162109375,-0.077880859375,-0.04779052734375,-0.07196044921875,-0.050201416015625],[-0.05072021484375,-0.048126220703125,-0.047882080078125,0.01473236083984375,-0.033721923828125,-0.03094482421875,-0.0187835693359375,0.01580810546875,-0.2203369140625,-0.06634521484375,-0.03857421875,-0.01032257080078125,0.021697998046875,0.002254486083984375,-0.0026454925537109375,-0.0165863037109375,0.0254058837890625,-0.01369476318359375,0.030303955078125,0.0240631103515625,-0.02618408203125,-0.0107269287109375,0.01560211181640625,0.0279541015625,0.0196533203125,0.0003924369812011719,-0.00798797607421875,0.0168609619140625,0.057342529296875,0.0584716796875,0.005970001220703125,-0.1290283203125,-0.110595703125,-0.0286712646484375,-0.011474609375,-0.040313720703125,-0.0252227783203125,-0.06268310546875,-0.021148681640625],[-0.165283203125,-0.1253662109375,-0.12445068359375,0.00431060791015625,-0.059326171875,-0.08575439453125,-0.037811279296875,-0.0126495361328125,-0.240478515625,-0.1722412109375,-0.1717529296875,-0.01137542724609375,-0.04217529296875,-0.03509521484375,-0.07122802734375,-0.1636962890625,-0.03057861328125,-0.07159423828125,-0.061767578125,-0.0633544921875,-0.102783203125,-0.1441650390625,-0.0543212890625,-0.05810546875,-0.0836181640625,-0.09466552734375,-0.1175537109375,-0.03155517578125,-0.0166778564453125,-0.0224609375,-0.11383056640625,-0.23388671875,-0.260009765625,-0.1114501953125,-0.132080078125,-0.17822265625,-0.11724853515625,-0.12115478515625,-0.1378173828125],[-0.125244140625,-0.07940673828125,-0.08502197265625,0.0479736328125,-0.0151824951171875,-0.004169464111328125,-0.0034427642822265625,0.161376953125,-0.123046875,-0.09173583984375,-0.1522216796875,0.03350830078125,0.02264404296875,0.07550048828125,0.006778717041015625,-0.11126708984375,0.034271240234375,-0.006015777587890625,-0.0165557861328125,-0.05364990234375,-0.057159423828125,-0.08941650390625,0.00963592529296875,-0.0267791748046875,0.006931304931640625,-0.04052734375,-0.0516357421875,0.007404327392578125,0.07403564453125,0.05670166015625,-0.014678955078125,-0.12054443359375,-0.1749267578125,-0.053802490234375,-0.061737060546875,-0.14599609375,-0.081787109375,-0.1368408203125,-0.1068115234375],[-0.049774169921875,-0.05706787109375,-0.047454833984375,0.10919189453125,0.042388916015625,0.01399993896484375,0.00621795654296875,0.317138671875,-0.0220489501953125,-0.0160064697265625,-0.1495361328125,-0.041473388671875,0.026031494140625,-0.08551025390625,-0.0986328125,-0.1490478515625,0.00415802001953125,-0.10296630859375,-0.081298828125,-0.098388671875,-0.197265625,-0.098876953125,-0.0457763671875,-0.10394287109375,-0.052764892578125,-0.0782470703125,-0.11199951171875,-0.00446319580078125,0.1392822265625,0.0831298828125,0.0279998779296875,-0.13037109375,-0.11578369140625,0.012603759765625,-0.03662109375,-0.111572265625,-0.1517333984375,-0.14501953125,-0.12261962890625],[-0.1163330078125,-0.09564208984375,-0.1634521484375,-0.1549072265625,-0.1900634765625,0.0132598876953125,-0.230712890625,0.67236328125,-0.305419921875,-0.2119140625,-0.137451171875,-0.130615234375,0.0126800537109375,-0.05926513671875,-0.0968017578125,0.02740478515625,0.209228515625,-0.082275390625,-0.01192474365234375,-0.01300048828125,-0.109619140625,0.06689453125,0.04986572265625,-0.104248046875,0.151123046875,0.124755859375,0.0894775390625,0.130615234375,0.50244140625,0.30712890625,0.2362060546875,-0.15478515625,-0.0621337890625,-0.11639404296875,-0.05572509765625,-0.053680419921875,-4.172325134277344e-07,0.004886627197265625,0.00457000732421875],[-0.2303466796875,-0.13818359375,-0.207763671875,-0.218505859375,-0.224365234375,-0.095947265625,-0.2216796875,0.65576171875,-0.38916015625,-0.396728515625,-0.24951171875,-0.228759765625,-0.09124755859375,-0.272216796875,-0.26025390625,-0.031890869140625,0.1846923828125,-0.242919921875,-0.0921630859375,-0.10406494140625,-0.1734619140625,0.09588623046875,0.0869140625,-0.1903076171875,-0.0121002197265625,0.00547027587890625,-0.02874755859375,0.0172119140625,0.42822265625,0.1767578125,0.160400390625,-0.284912109375,-0.2476806640625,-0.324951171875,-0.251708984375,-0.2578125,-0.2196044921875,-0.1439208984375,0.01497650146484375],[-0.2432861328125,-0.12646484375,-0.197265625,-0.26171875,-0.3056640625,-0.053131103515625,-0.381591796875,0.625,-0.473388671875,-0.5478515625,-0.413818359375,-0.43359375,-0.308837890625,-0.5341796875,-0.403564453125,-0.0140380859375,0.064208984375,-0.43212890625,-0.328125,-0.333984375,-0.390380859375,0.0985107421875,0.0136871337890625,-0.384521484375,-0.132080078125,-0.10174560546875,-0.1287841796875,-0.06573486328125,0.3408203125,0.124267578125,0.1903076171875,-0.316650390625,-0.314208984375,-0.41015625,-0.46044921875,-0.451171875,-0.404052734375,-0.341796875,-0.00010341405868530273],[-0.11053466796875,0.0406494140625,-0.024749755859375,-0.034637451171875,-0.1219482421875,0.335205078125,-0.051422119140625,0.93017578125,-0.2666015625,-0.4326171875,-0.321044921875,-0.267822265625,-0.210205078125,-0.383056640625,-0.2822265625,0.248779296875,0.2406005859375,-0.29443359375,-0.1641845703125,-0.210205078125,-0.332763671875,0.29248046875,0.1929931640625,-0.2012939453125,0.1297607421875,0.18017578125,0.11767578125,0.1849365234375,0.454345703125,0.29296875,0.51318359375,-0.2744140625,-0.2291259765625,-0.315185546875,-0.3515625,-0.39453125,-0.2080078125,-0.2071533203125,0.1839599609375],[-0.349609375,-0.27978515625,-0.2100830078125,-0.30029296875,-0.402587890625,0.19140625,-0.309326171875,0.53662109375,-0.54150390625,-0.72509765625,-0.7177734375,-0.6748046875,-0.6337890625,-0.849609375,-0.7041015625,0.01125335693359375,-0.10821533203125,-0.72216796875,-0.50927734375,-0.64404296875,-0.736328125,-0.061126708984375,-0.05767822265625,-0.56591796875,-0.32275390625,-0.207275390625,-0.302490234375,-0.29931640625,0.11077880859375,-0.07183837890625,0.1522216796875,-0.6640625,-0.642578125,-0.75439453125,-0.76806640625,-0.8037109375,-0.69580078125,-0.6728515625,-0.1688232421875],[0.1678466796875,0.1678466796875,0.1917724609375,0.1376953125,0.02679443359375,0.53759765625,0.2054443359375,0.83056640625,-0.022216796875,-0.282958984375,-0.382080078125,-0.308349609375,-0.3701171875,-0.56201171875,-0.3740234375,0.28662109375,0.1497802734375,-0.438232421875,-0.28173828125,-0.45556640625,-0.470703125,0.3232421875,0.2353515625,-0.1927490234375,-0.040435791015625,0.1859130859375,0.0980224609375,0.01413726806640625,0.346923828125,0.18798828125,0.483154296875,-0.2071533203125,-0.2213134765625,-0.20947265625,-0.437744140625,-0.46826171875,-0.4375,-0.286376953125,0.289794921875],[0.2296142578125,0.197998046875,-0.191162109375,-0.10430908203125,-0.0252685546875,0.33740234375,0.0007996559143066406,0.7158203125,-0.3310546875,-0.3349609375,-0.307373046875,-0.33837890625,-0.171875,-0.2381591796875,-0.171142578125,0.2213134765625,0.07647705078125,-0.288330078125,-0.13623046875,-0.353271484375,-0.3173828125,0.3046875,0.184814453125,-0.0462646484375,0.032073974609375,0.3544921875,0.299072265625,0.1861572265625,0.394775390625,0.2293701171875,0.46923828125,-0.06634521484375,-0.179443359375,-0.34130859375,-0.36962890625,-0.436279296875,-0.45166015625,-0.25927734375,0.098388671875],[-0.2088623046875,-0.2386474609375,-0.460693359375,-0.3466796875,-0.26611328125,-0.31982421875,0.06842041015625,0.1470947265625,-0.6220703125,-0.67041015625,-0.72705078125,-0.703125,-0.52880859375,-0.6181640625,-0.448974609375,-0.12164306640625,-0.29833984375,-0.60205078125,-0.6748046875,-0.81884765625,-0.63330078125,0.1392822265625,-0.1287841796875,-0.1776123046875,-0.141357421875,0.06280517578125,0.0178680419921875,0.308837890625,-0.026519775390625,-0.2374267578125,0.0238037109375,-0.35400390625,-0.5087890625,-0.53125,-0.76416015625,-0.72509765625,-0.791015625,-0.5693359375,-0.10186767578125],[0.501953125,0.399169921875,0.18994140625,0.166015625,0.2437744140625,-0.05072021484375,0.591796875,0.4990234375,-0.0897216796875,-0.35693359375,-0.4228515625,-0.3720703125,-0.1480712890625,-0.294921875,-0.0084381103515625,0.22900390625,0.10687255859375,-0.15869140625,-0.23583984375,-0.378662109375,-0.06817626953125,0.470458984375,0.2078857421875,0.236572265625,0.21435546875,0.4658203125,0.4228515625,0.6455078125,0.4384765625,0.271484375,0.396484375,0.2265625,0.050384521484375,-0.140869140625,-0.340576171875,-0.349853515625,-0.36279296875,-0.1761474609375,0.228515625],[-0.2041015625,-0.13818359375,-0.342041015625,-0.408203125,-0.373779296875,-0.74755859375,0.1187744140625,-0.0303802490234375,-0.630859375,-0.9013671875,-1.0546875,-0.95751953125,-0.7490234375,-0.865234375,-0.59423828125,-0.388427734375,-0.69921875,-0.681640625,-0.92236328125,-1.154296875,-0.814453125,-0.1788330078125,-0.5693359375,-0.266357421875,-0.274169921875,-0.34619140625,-0.348876953125,0.022705078125,-0.22119140625,-0.355712890625,-0.1358642578125,-0.49462890625,-0.7333984375,-0.771484375,-1.08203125,-1.2138671875,-1.1787109375,-0.8232421875,-0.54443359375],[0.83837890625,0.833984375,0.61376953125,0.437744140625,0.580078125,0.01317596435546875,1.359375,1.0888671875,0.48291015625,0.0196533203125,-0.111083984375,-0.07598876953125,0.12744140625,0.04437255859375,0.404541015625,0.64892578125,0.171142578125,0.362548828125,-0.0259552001953125,-0.26220703125,0.1456298828125,0.9443359375,0.35791015625,0.81005859375,0.9794921875,0.5869140625,0.63427734375,1.15234375,0.88623046875,0.56982421875,0.75830078125,0.56787109375,0.285400390625,0.08160400390625,-0.1500244140625,-0.233642578125,-0.27783203125,0.212890625,0.5185546875],[0.0709228515625,0.125244140625,-0.08203125,-0.431396484375,-0.2491455078125,-0.76708984375,0.7353515625,0.2335205078125,-0.423095703125,-0.92236328125,-0.94091796875,-0.87451171875,-0.81689453125,-0.79541015625,-0.228515625,-0.0246429443359375,-0.78125,-0.423583984375,-0.88916015625,-1.1669921875,-0.544921875,0.2978515625,-0.4111328125,0.2301025390625,0.451416015625,-0.0596923828125,-0.0023345947265625,0.63525390625,0.42919921875,0.047332763671875,0.206298828125,-0.1607666015625,-0.402099609375,-0.70751953125,-0.85986328125,-1.1064453125,-1.123046875,-0.51611328125,-0.1688232421875],[0.053314208984375,-0.062286376953125,-0.1939697265625,-0.396484375,-0.428466796875,-0.93115234375,0.55419921875,-0.202392578125,-0.9208984375,-1.4755859375,-1.5625,-1.345703125,-1.3310546875,-1.2509765625,-0.6015625,0.47412109375,-0.83154296875,-0.705078125,-1.337890625,-1.6650390625,-0.85400390625,0.50146484375,-0.71826171875,-0.258544921875,-0.039581298828125,-0.59326171875,-0.333984375,0.434814453125,0.0738525390625,-0.3876953125,-0.31689453125,-0.509765625,-0.70458984375,-0.8994140625,-1.365234375,-1.5888671875,-1.6064453125,-0.63671875,0.1922607421875],[-0.6357421875,-0.70947265625,-0.84228515625,-0.935546875,-0.900390625,-1.2197265625,0.2362060546875,-0.5537109375,-1.58203125,-1.900390625,-2.068359375,-1.8388671875,-1.7880859375,-1.7255859375,-0.9541015625,-0.06317138671875,-1.2099609375,-1.2998046875,-1.787109375,-2.189453125,-1.1982421875,-0.0850830078125,-1.16015625,-0.814453125,-0.71533203125,-1.0654296875,-0.634765625,-0.448974609375,-0.19091796875,-0.8154296875,-0.62939453125,-0.97509765625,-1.00390625,-1.18359375,-1.5380859375,-1.85546875,-1.8115234375,-1.001953125,-0.378662109375],[1.4365234375,1.2216796875,1.072265625,0.96875,0.9638671875,0.77880859375,2.318359375,1.3388671875,0.18359375,-0.1845703125,-0.2626953125,-0.1455078125,0.23974609375,0.0711669921875,0.8076171875,1.6767578125,0.7890625,0.462158203125,0.2159423828125,-0.21923828125,0.8564453125,2.041015625,0.791015625,1.28515625,1.419921875,0.81689453125,1.310546875,1.68359375,1.6904296875,1.0986328125,1.1875,0.625,0.87451171875,0.65185546875,0.40771484375,0.00031948089599609375,0.16943359375,0.94775390625,1.4072265625],[0.9521484375,0.80517578125,0.71044921875,0.235595703125,0.1591796875,0.08746337890625,1.3779296875,0.76416015625,-0.4921875,-0.8837890625,-0.91064453125,-0.966796875,-0.7412109375,-0.89111328125,-0.11541748046875,0.61767578125,-0.37353515625,-0.72607421875,-0.71484375,-1.361328125,-0.1939697265625,0.826171875,-0.55859375,0.4326171875,0.71337890625,-0.1912841796875,0.341064453125,0.7548828125,0.91650390625,0.037017822265625,0.3642578125,-0.298583984375,0.0419921875,-0.341064453125,-0.5830078125,-0.88037109375,-0.9091796875,-0.00559234619140625,0.296142578125],[1.6201171875,1.2900390625,1.109375,0.66357421875,0.5439453125,0.2327880859375,1.478515625,1.1572265625,-0.169677734375,-0.54931640625,-0.61474609375,-0.66455078125,-0.5986328125,-0.56591796875,0.16015625,0.85009765625,-0.259521484375,-0.37841796875,-0.431640625,-1.1162109375,0.2271728515625,1.0439453125,-0.13818359375,0.67138671875,0.916015625,0.348388671875,0.70556640625,1.0068359375,1.353515625,0.3505859375,0.92919921875,-0.00751495361328125,0.313232421875,-0.174072265625,-0.385498046875,-0.6298828125,-0.7392578125,0.32470703125,0.4521484375],[1.3193359375,1.05859375,0.97607421875,0.3017578125,0.11053466796875,-0.3642578125,0.97802734375,0.9072265625,-0.377685546875,-0.98046875,-0.66748046875,-0.81787109375,-0.9052734375,-0.8974609375,-0.11334228515625,0.30859375,-0.68408203125,-0.67138671875,-0.71435546875,-1.3095703125,-0.128662109375,0.646484375,-0.51025390625,0.67236328125,0.85302734375,0.2490234375,0.3798828125,0.99609375,1.205078125,-0.1805419921875,0.869140625,-0.26904296875,-0.03564453125,-0.5224609375,-0.46923828125,-0.87255859375,-0.6787109375,-0.0017194747924804688,0.07489013671875],[-0.048828125,-0.0797119140625,-0.08203125,-1.0966796875,-1.3740234375,-1.68359375,-0.5107421875,-0.5625,-1.6240234375,-2.31640625,-2.111328125,-2.08203125,-2.50390625,-2.361328125,-1.49609375,-1.234375,-2.216796875,-2.150390625,-1.908203125,-2.671875,-1.7021484375,-0.94970703125,-1.9580078125,-0.5419921875,-0.365966796875,-1.103515625,-0.92138671875,-0.346923828125,-0.005847930908203125,-1.7080078125,-0.359619140625,-1.818359375,-1.3681640625,-2.037109375,-2.173828125,-2.451171875,-2.189453125,-1.4619140625,-1.421875],[-0.1624755859375,-0.249755859375,-0.208740234375,-1.0068359375,-1.787109375,-1.9228515625,-0.900390625,-0.67919921875,-1.70703125,-2.32421875,-2.169921875,-1.9287109375,-2.330078125,-2.58984375,-1.8876953125,-1.55859375,-2.587890625,-2.328125,-1.95703125,-2.689453125,-1.9765625,-1.044921875,-1.962890625,-0.5615234375,-0.138427734375,-1.3662109375,-1.3408203125,-0.42041015625,-0.04815673828125,-2.158203125,-0.325927734375,-2.0390625,-1.4599609375,-2.166015625,-2.373046875,-2.47265625,-2.14453125,-1.8037109375,-1.541015625],[2.630859375,2.515625,2.794921875,1.9853515625,1.107421875,1.271484375,2.6484375,2.396484375,1.607421875,0.78076171875,0.8984375,0.99267578125,0.76318359375,0.36572265625,0.89501953125,1.388671875,0.09747314453125,0.447509765625,0.96728515625,0.2120361328125,0.9150390625,1.763671875,0.77783203125,2.396484375,2.787109375,1.5849609375,1.587890625,2.4609375,2.95703125,0.76171875,2.783203125,1.1484375,1.69140625,0.86572265625,0.451171875,0.379150390625,0.5859375,0.9365234375,1.5830078125],[2.1953125,1.904296875,2.380859375,1.7197265625,1.0361328125,1.0859375,2.423828125,2.197265625,1.4462890625,0.53173828125,0.70068359375,0.77734375,0.5693359375,0.1107177734375,0.7333984375,0.9248046875,0.12335205078125,0.495849609375,0.85888671875,-0.06634521484375,0.47314453125,1.28515625,0.53515625,2.08984375,2.798828125,1.4189453125,1.5478515625,2.498046875,2.982421875,0.81689453125,2.9921875,0.86572265625,1.607421875,0.85302734375,0.410400390625,0.297119140625,0.630859375,0.6650390625,1.732421875],[-1.59375,-1.5830078125,-1.2646484375,-1.6982421875,-2.87109375,-2.26953125,-0.94482421875,-0.8349609375,-1.8662109375,-2.634765625,-2.224609375,-2.62109375,-2.9765625,-2.306640625,-2.359375,-2.42578125,-3.189453125,-2.716796875,-2.169921875,-3.37109375,-2.828125,-2.259765625,-2.642578125,-1.087890625,-0.37548828125,-2.119140625,-1.935546875,-1.044921875,0.10162353515625,-2.62890625,-0.1307373046875,-2.298828125,-1.3984375,-2.4140625,-2.974609375,-2.96875,-2.96484375,-2.693359375,-1.3896484375],[28.4375,34.0,28.640625,21.234375,26.53125,27.265625,54.71875,29.703125,15.1875,22.203125,8.4609375,4.66796875,3.466796875,5.43359375,15.2109375,13.1171875,1.2294921875,-4.4375,1.16015625,-8.328125,15.875,19.640625,7.78515625,26.15625,36.46875,20.84375,28.125,33.3125,39.9375,30.65625,42.5625,5.76171875,17.625,15.3671875,-1.6591796875,11.6171875,-4.22265625,4.953125,14.8125]],\"type\":\"heatmap\",\"xaxis\":\"x\",\"yaxis\":\"y\",\"hovertemplate\":\"Token: %{x}\\u003cbr\\u003ey: %{y}\\u003cbr\\u003ecolor: %{z}\\u003cextra\\u003e\\u003c\\u002fextra\\u003e\"}],                        {\"template\":{\"data\":{\"histogram2dcontour\":[{\"type\":\"histogram2dcontour\",\"colorbar\":{\"outlinewidth\":0,\"ticks\":\"\"},\"colorscale\":[[0.0,\"#0d0887\"],[0.1111111111111111,\"#46039f\"],[0.2222222222222222,\"#7201a8\"],[0.3333333333333333,\"#9c179e\"],[0.4444444444444444,\"#bd3786\"],[0.5555555555555556,\"#d8576b\"],[0.6666666666666666,\"#ed7953\"],[0.7777777777777778,\"#fb9f3a\"],[0.8888888888888888,\"#fdca26\"],[1.0,\"#f0f921\"]]}],\"choropleth\":[{\"type\":\"choropleth\",\"colorbar\":{\"outlinewidth\":0,\"ticks\":\"\"}}],\"histogram2d\":[{\"type\":\"histogram2d\",\"colorbar\":{\"outlinewidth\":0,\"ticks\":\"\"},\"colorscale\":[[0.0,\"#0d0887\"],[0.1111111111111111,\"#46039f\"],[0.2222222222222222,\"#7201a8\"],[0.3333333333333333,\"#9c179e\"],[0.4444444444444444,\"#bd3786\"],[0.5555555555555556,\"#d8576b\"],[0.6666666666666666,\"#ed7953\"],[0.7777777777777778,\"#fb9f3a\"],[0.8888888888888888,\"#fdca26\"],[1.0,\"#f0f921\"]]}],\"heatmap\":[{\"type\":\"heatmap\",\"colorbar\":{\"outlinewidth\":0,\"ticks\":\"\"},\"colorscale\":[[0.0,\"#0d0887\"],[0.1111111111111111,\"#46039f\"],[0.2222222222222222,\"#7201a8\"],[0.3333333333333333,\"#9c179e\"],[0.4444444444444444,\"#bd3786\"],[0.5555555555555556,\"#d8576b\"],[0.6666666666666666,\"#ed7953\"],[0.7777777777777778,\"#fb9f3a\"],[0.8888888888888888,\"#fdca26\"],[1.0,\"#f0f921\"]]}],\"heatmapgl\":[{\"type\":\"heatmapgl\",\"colorbar\":{\"outlinewidth\":0,\"ticks\":\"\"},\"colorscale\":[[0.0,\"#0d0887\"],[0.1111111111111111,\"#46039f\"],[0.2222222222222222,\"#7201a8\"],[0.3333333333333333,\"#9c179e\"],[0.4444444444444444,\"#bd3786\"],[0.5555555555555556,\"#d8576b\"],[0.6666666666666666,\"#ed7953\"],[0.7777777777777778,\"#fb9f3a\"],[0.8888888888888888,\"#fdca26\"],[1.0,\"#f0f921\"]]}],\"contourcarpet\":[{\"type\":\"contourcarpet\",\"colorbar\":{\"outlinewidth\":0,\"ticks\":\"\"}}],\"contour\":[{\"type\":\"contour\",\"colorbar\":{\"outlinewidth\":0,\"ticks\":\"\"},\"colorscale\":[[0.0,\"#0d0887\"],[0.1111111111111111,\"#46039f\"],[0.2222222222222222,\"#7201a8\"],[0.3333333333333333,\"#9c179e\"],[0.4444444444444444,\"#bd3786\"],[0.5555555555555556,\"#d8576b\"],[0.6666666666666666,\"#ed7953\"],[0.7777777777777778,\"#fb9f3a\"],[0.8888888888888888,\"#fdca26\"],[1.0,\"#f0f921\"]]}],\"surface\":[{\"type\":\"surface\",\"colorbar\":{\"outlinewidth\":0,\"ticks\":\"\"},\"colorscale\":[[0.0,\"#0d0887\"],[0.1111111111111111,\"#46039f\"],[0.2222222222222222,\"#7201a8\"],[0.3333333333333333,\"#9c179e\"],[0.4444444444444444,\"#bd3786\"],[0.5555555555555556,\"#d8576b\"],[0.6666666666666666,\"#ed7953\"],[0.7777777777777778,\"#fb9f3a\"],[0.8888888888888888,\"#fdca26\"],[1.0,\"#f0f921\"]]}],\"mesh3d\":[{\"type\":\"mesh3d\",\"colorbar\":{\"outlinewidth\":0,\"ticks\":\"\"}}],\"scatter\":[{\"fillpattern\":{\"fillmode\":\"overlay\",\"size\":10,\"solidity\":0.2},\"type\":\"scatter\"}],\"parcoords\":[{\"type\":\"parcoords\",\"line\":{\"colorbar\":{\"outlinewidth\":0,\"ticks\":\"\"}}}],\"scatterpolargl\":[{\"type\":\"scatterpolargl\",\"marker\":{\"colorbar\":{\"outlinewidth\":0,\"ticks\":\"\"}}}],\"bar\":[{\"error_x\":{\"color\":\"#2a3f5f\"},\"error_y\":{\"color\":\"#2a3f5f\"},\"marker\":{\"line\":{\"color\":\"#E5ECF6\",\"width\":0.5},\"pattern\":{\"fillmode\":\"overlay\",\"size\":10,\"solidity\":0.2}},\"type\":\"bar\"}],\"scattergeo\":[{\"type\":\"scattergeo\",\"marker\":{\"colorbar\":{\"outlinewidth\":0,\"ticks\":\"\"}}}],\"scatterpolar\":[{\"type\":\"scatterpolar\",\"marker\":{\"colorbar\":{\"outlinewidth\":0,\"ticks\":\"\"}}}],\"histogram\":[{\"marker\":{\"pattern\":{\"fillmode\":\"overlay\",\"size\":10,\"solidity\":0.2}},\"type\":\"histogram\"}],\"scattergl\":[{\"type\":\"scattergl\",\"marker\":{\"colorbar\":{\"outlinewidth\":0,\"ticks\":\"\"}}}],\"scatter3d\":[{\"type\":\"scatter3d\",\"line\":{\"colorbar\":{\"outlinewidth\":0,\"ticks\":\"\"}},\"marker\":{\"colorbar\":{\"outlinewidth\":0,\"ticks\":\"\"}}}],\"scattermapbox\":[{\"type\":\"scattermapbox\",\"marker\":{\"colorbar\":{\"outlinewidth\":0,\"ticks\":\"\"}}}],\"scatterternary\":[{\"type\":\"scatterternary\",\"marker\":{\"colorbar\":{\"outlinewidth\":0,\"ticks\":\"\"}}}],\"scattercarpet\":[{\"type\":\"scattercarpet\",\"marker\":{\"colorbar\":{\"outlinewidth\":0,\"ticks\":\"\"}}}],\"carpet\":[{\"aaxis\":{\"endlinecolor\":\"#2a3f5f\",\"gridcolor\":\"white\",\"linecolor\":\"white\",\"minorgridcolor\":\"white\",\"startlinecolor\":\"#2a3f5f\"},\"baxis\":{\"endlinecolor\":\"#2a3f5f\",\"gridcolor\":\"white\",\"linecolor\":\"white\",\"minorgridcolor\":\"white\",\"startlinecolor\":\"#2a3f5f\"},\"type\":\"carpet\"}],\"table\":[{\"cells\":{\"fill\":{\"color\":\"#EBF0F8\"},\"line\":{\"color\":\"white\"}},\"header\":{\"fill\":{\"color\":\"#C8D4E3\"},\"line\":{\"color\":\"white\"}},\"type\":\"table\"}],\"barpolar\":[{\"marker\":{\"line\":{\"color\":\"#E5ECF6\",\"width\":0.5},\"pattern\":{\"fillmode\":\"overlay\",\"size\":10,\"solidity\":0.2}},\"type\":\"barpolar\"}],\"pie\":[{\"automargin\":true,\"type\":\"pie\"}]},\"layout\":{\"autotypenumbers\":\"strict\",\"colorway\":[\"#636efa\",\"#EF553B\",\"#00cc96\",\"#ab63fa\",\"#FFA15A\",\"#19d3f3\",\"#FF6692\",\"#B6E880\",\"#FF97FF\",\"#FECB52\"],\"font\":{\"color\":\"#2a3f5f\"},\"hovermode\":\"closest\",\"hoverlabel\":{\"align\":\"left\"},\"paper_bgcolor\":\"white\",\"plot_bgcolor\":\"#E5ECF6\",\"polar\":{\"bgcolor\":\"#E5ECF6\",\"angularaxis\":{\"gridcolor\":\"white\",\"linecolor\":\"white\",\"ticks\":\"\"},\"radialaxis\":{\"gridcolor\":\"white\",\"linecolor\":\"white\",\"ticks\":\"\"}},\"ternary\":{\"bgcolor\":\"#E5ECF6\",\"aaxis\":{\"gridcolor\":\"white\",\"linecolor\":\"white\",\"ticks\":\"\"},\"baxis\":{\"gridcolor\":\"white\",\"linecolor\":\"white\",\"ticks\":\"\"},\"caxis\":{\"gridcolor\":\"white\",\"linecolor\":\"white\",\"ticks\":\"\"}},\"coloraxis\":{\"colorbar\":{\"outlinewidth\":0,\"ticks\":\"\"}},\"colorscale\":{\"sequential\":[[0.0,\"#0d0887\"],[0.1111111111111111,\"#46039f\"],[0.2222222222222222,\"#7201a8\"],[0.3333333333333333,\"#9c179e\"],[0.4444444444444444,\"#bd3786\"],[0.5555555555555556,\"#d8576b\"],[0.6666666666666666,\"#ed7953\"],[0.7777777777777778,\"#fb9f3a\"],[0.8888888888888888,\"#fdca26\"],[1.0,\"#f0f921\"]],\"sequentialminus\":[[0.0,\"#0d0887\"],[0.1111111111111111,\"#46039f\"],[0.2222222222222222,\"#7201a8\"],[0.3333333333333333,\"#9c179e\"],[0.4444444444444444,\"#bd3786\"],[0.5555555555555556,\"#d8576b\"],[0.6666666666666666,\"#ed7953\"],[0.7777777777777778,\"#fb9f3a\"],[0.8888888888888888,\"#fdca26\"],[1.0,\"#f0f921\"]],\"diverging\":[[0,\"#8e0152\"],[0.1,\"#c51b7d\"],[0.2,\"#de77ae\"],[0.3,\"#f1b6da\"],[0.4,\"#fde0ef\"],[0.5,\"#f7f7f7\"],[0.6,\"#e6f5d0\"],[0.7,\"#b8e186\"],[0.8,\"#7fbc41\"],[0.9,\"#4d9221\"],[1,\"#276419\"]]},\"xaxis\":{\"gridcolor\":\"white\",\"linecolor\":\"white\",\"ticks\":\"\",\"title\":{\"standoff\":15},\"zerolinecolor\":\"white\",\"automargin\":true,\"zerolinewidth\":2},\"yaxis\":{\"gridcolor\":\"white\",\"linecolor\":\"white\",\"ticks\":\"\",\"title\":{\"standoff\":15},\"zerolinecolor\":\"white\",\"automargin\":true,\"zerolinewidth\":2},\"scene\":{\"xaxis\":{\"backgroundcolor\":\"#E5ECF6\",\"gridcolor\":\"white\",\"linecolor\":\"white\",\"showbackground\":true,\"ticks\":\"\",\"zerolinecolor\":\"white\",\"gridwidth\":2},\"yaxis\":{\"backgroundcolor\":\"#E5ECF6\",\"gridcolor\":\"white\",\"linecolor\":\"white\",\"showbackground\":true,\"ticks\":\"\",\"zerolinecolor\":\"white\",\"gridwidth\":2},\"zaxis\":{\"backgroundcolor\":\"#E5ECF6\",\"gridcolor\":\"white\",\"linecolor\":\"white\",\"showbackground\":true,\"ticks\":\"\",\"zerolinecolor\":\"white\",\"gridwidth\":2}},\"shapedefaults\":{\"line\":{\"color\":\"#2a3f5f\"}},\"annotationdefaults\":{\"arrowcolor\":\"#2a3f5f\",\"arrowhead\":0,\"arrowwidth\":1},\"geo\":{\"bgcolor\":\"white\",\"landcolor\":\"#E5ECF6\",\"subunitcolor\":\"white\",\"showland\":true,\"showlakes\":true,\"lakecolor\":\"white\"},\"title\":{\"x\":0.05},\"mapbox\":{\"style\":\"light\"}}},\"xaxis\":{\"anchor\":\"y\",\"domain\":[0.0,1.0],\"scaleanchor\":\"y\",\"constrain\":\"domain\",\"title\":{\"text\":\"Token\"},\"tickvals\":[0,1,2,3,4,5,6,7,8,9,10,11,12,13,14,15,16,17,18,19,20,21,22,23,24,25,26,27,28,29,30,31,32,33,34,35,36,37,38,39],\"ticktext\":[\"\\u2581One\",\"\\u2581thing\",\"\\u2581that\",\"\\u2581would\",\"\\u2581make\",\"\\u2581me\",\"\\u2581less\",\"\\u2581angry\",\"\\u2581is\",\"\\u2581if\",\"\\u2581people\",\"\\u2581would\",\"\\u2581actively\",\"\\u2581listen\",\"\\u2581to\",\"\\u2581my\",\"\\u2581concerns\",\"\\u2581and\",\"\\u2581try\",\"\\u2581to\",\"\\u2581understand\",\"\\u2581my\",\"\\u2581perspective\",\"\\u2581instead\",\"\\u2581of\",\"\\u2581dismiss\",\"ing\",\"\\u2581or\",\"\\u2581arguing\",\"\\u2581with\",\"\\u2581me\",\".\",\"\\u2581This\",\"\\u2581would\",\"\\u2581show\",\"\\u2581that\",\"\\u2581they\",\"\\u2581value\",\"\\u2581my\",\"\\u2581feelings\"]},\"yaxis\":{\"anchor\":\"x\",\"domain\":[0.0,1.0],\"autorange\":\"reversed\",\"constrain\":\"domain\"},\"coloraxis\":{\"colorscale\":[[0.0,\"rgb(165,0,38)\"],[0.1,\"rgb(215,48,39)\"],[0.2,\"rgb(244,109,67)\"],[0.3,\"rgb(253,174,97)\"],[0.4,\"rgb(254,224,139)\"],[0.5,\"rgb(255,255,191)\"],[0.6,\"rgb(217,239,139)\"],[0.7,\"rgb(166,217,106)\"],[0.8,\"rgb(102,189,99)\"],[0.9,\"rgb(26,152,80)\"],[1.0,\"rgb(0,104,55)\"]],\"cmin\":-3,\"cmax\":3},\"margin\":{\"t\":60},\"width\":1000,\"height\":600},                        {\"responsive\": true}                    ).then(function(){\n",
       "                            \n",
       "var gd = document.getElementById('8d33d706-aecc-4a2c-a95a-93220de85452');\n",
       "var x = new MutationObserver(function (mutations, observer) {{\n",
       "        var display = window.getComputedStyle(gd).display;\n",
       "        if (!display || display === 'none') {{\n",
       "            console.log([gd, 'removed!']);\n",
       "            Plotly.purge(gd);\n",
       "            observer.disconnect();\n",
       "        }}\n",
       "}});\n",
       "\n",
       "// Listen for the removal of the full notebook cells\n",
       "var notebookContainer = gd.closest('#notebook-container');\n",
       "if (notebookContainer) {{\n",
       "    x.observe(notebookContainer, {childList: true});\n",
       "}}\n",
       "\n",
       "// Listen for the clearing of the current output cell\n",
       "var outputEl = gd.closest('.output');\n",
       "if (outputEl) {{\n",
       "    x.observe(outputEl, {childList: true});\n",
       "}}\n",
       "\n",
       "                        })                };                });            </script>        </div>"
      ]
     },
     "metadata": {},
     "output_type": "display_data"
    }
   ],
   "source": [
    "from lmdoctor.plot_utils import plot_projection_heatmap\n",
    "tokens = tokenizer.tokenize(text)\n",
    "plot_projection_heatmap(all_projs, tokens, lastn_tokens_to_plot=len(tokens), saturate_at=3)"
   ]
  },
  {
   "cell_type": "code",
   "execution_count": 18,
   "id": "19186584-d731-4e54-9b29-521cc69bae5a",
   "metadata": {},
   "outputs": [
    {
     "data": {
      "application/vnd.plotly.v1+json": {
       "config": {
        "plotlyServerURL": "https://plot.ly"
       },
       "data": [
        {
         "coloraxis": "coloraxis",
         "hovertemplate": "Token: %{x}<br>y: %{y}<br>color: %{z}<extra></extra>",
         "name": "0",
         "type": "heatmap",
         "xaxis": "x",
         "yaxis": "y",
         "z": [
          [
           0.093994140625,
           0.0924072265625,
           -0.04888916015625,
           -0.1234130859375,
           -0.10595703125,
           -0.1422119140625,
           0.373291015625,
           0.48681640625,
           -0.40185546875,
           -0.65087890625,
           -0.681640625,
           -0.61181640625,
           -0.484375,
           -0.5908203125,
           -0.272705078125,
           0.2252197265625,
           -0.1533203125,
           -0.390380859375,
           -0.51220703125,
           -0.7109375,
           -0.395263671875,
           0.370361328125,
           -0.06964111328125,
           -0.038299560546875,
           0.11065673828125,
           0.020355224609375,
           0.08001708984375,
           0.3193359375,
           0.3681640625,
           0.08074951171875,
           0.2470703125,
           -0.206298828125,
           -0.2841796875,
           -0.418212890625,
           -0.59521484375,
           -0.7060546875,
           -0.67138671875,
           -0.319580078125,
           0.1121826171875
          ]
         ]
        }
       ],
       "layout": {
        "autosize": true,
        "coloraxis": {
         "cmax": 0.7109375,
         "cmin": -0.7109375,
         "colorscale": [
          [
           0,
           "rgb(165,0,38)"
          ],
          [
           0.1,
           "rgb(215,48,39)"
          ],
          [
           0.2,
           "rgb(244,109,67)"
          ],
          [
           0.3,
           "rgb(253,174,97)"
          ],
          [
           0.4,
           "rgb(254,224,139)"
          ],
          [
           0.5,
           "rgb(255,255,191)"
          ],
          [
           0.6,
           "rgb(217,239,139)"
          ],
          [
           0.7,
           "rgb(166,217,106)"
          ],
          [
           0.8,
           "rgb(102,189,99)"
          ],
          [
           0.9,
           "rgb(26,152,80)"
          ],
          [
           1,
           "rgb(0,104,55)"
          ]
         ]
        },
        "margin": {
         "t": 60
        },
        "template": {
         "data": {
          "bar": [
           {
            "error_x": {
             "color": "#2a3f5f"
            },
            "error_y": {
             "color": "#2a3f5f"
            },
            "marker": {
             "line": {
              "color": "#E5ECF6",
              "width": 0.5
             },
             "pattern": {
              "fillmode": "overlay",
              "size": 10,
              "solidity": 0.2
             }
            },
            "type": "bar"
           }
          ],
          "barpolar": [
           {
            "marker": {
             "line": {
              "color": "#E5ECF6",
              "width": 0.5
             },
             "pattern": {
              "fillmode": "overlay",
              "size": 10,
              "solidity": 0.2
             }
            },
            "type": "barpolar"
           }
          ],
          "carpet": [
           {
            "aaxis": {
             "endlinecolor": "#2a3f5f",
             "gridcolor": "white",
             "linecolor": "white",
             "minorgridcolor": "white",
             "startlinecolor": "#2a3f5f"
            },
            "baxis": {
             "endlinecolor": "#2a3f5f",
             "gridcolor": "white",
             "linecolor": "white",
             "minorgridcolor": "white",
             "startlinecolor": "#2a3f5f"
            },
            "type": "carpet"
           }
          ],
          "choropleth": [
           {
            "colorbar": {
             "outlinewidth": 0,
             "ticks": ""
            },
            "type": "choropleth"
           }
          ],
          "contour": [
           {
            "colorbar": {
             "outlinewidth": 0,
             "ticks": ""
            },
            "colorscale": [
             [
              0,
              "#0d0887"
             ],
             [
              0.1111111111111111,
              "#46039f"
             ],
             [
              0.2222222222222222,
              "#7201a8"
             ],
             [
              0.3333333333333333,
              "#9c179e"
             ],
             [
              0.4444444444444444,
              "#bd3786"
             ],
             [
              0.5555555555555556,
              "#d8576b"
             ],
             [
              0.6666666666666666,
              "#ed7953"
             ],
             [
              0.7777777777777778,
              "#fb9f3a"
             ],
             [
              0.8888888888888888,
              "#fdca26"
             ],
             [
              1,
              "#f0f921"
             ]
            ],
            "type": "contour"
           }
          ],
          "contourcarpet": [
           {
            "colorbar": {
             "outlinewidth": 0,
             "ticks": ""
            },
            "type": "contourcarpet"
           }
          ],
          "heatmap": [
           {
            "colorbar": {
             "outlinewidth": 0,
             "ticks": ""
            },
            "colorscale": [
             [
              0,
              "#0d0887"
             ],
             [
              0.1111111111111111,
              "#46039f"
             ],
             [
              0.2222222222222222,
              "#7201a8"
             ],
             [
              0.3333333333333333,
              "#9c179e"
             ],
             [
              0.4444444444444444,
              "#bd3786"
             ],
             [
              0.5555555555555556,
              "#d8576b"
             ],
             [
              0.6666666666666666,
              "#ed7953"
             ],
             [
              0.7777777777777778,
              "#fb9f3a"
             ],
             [
              0.8888888888888888,
              "#fdca26"
             ],
             [
              1,
              "#f0f921"
             ]
            ],
            "type": "heatmap"
           }
          ],
          "heatmapgl": [
           {
            "colorbar": {
             "outlinewidth": 0,
             "ticks": ""
            },
            "colorscale": [
             [
              0,
              "#0d0887"
             ],
             [
              0.1111111111111111,
              "#46039f"
             ],
             [
              0.2222222222222222,
              "#7201a8"
             ],
             [
              0.3333333333333333,
              "#9c179e"
             ],
             [
              0.4444444444444444,
              "#bd3786"
             ],
             [
              0.5555555555555556,
              "#d8576b"
             ],
             [
              0.6666666666666666,
              "#ed7953"
             ],
             [
              0.7777777777777778,
              "#fb9f3a"
             ],
             [
              0.8888888888888888,
              "#fdca26"
             ],
             [
              1,
              "#f0f921"
             ]
            ],
            "type": "heatmapgl"
           }
          ],
          "histogram": [
           {
            "marker": {
             "pattern": {
              "fillmode": "overlay",
              "size": 10,
              "solidity": 0.2
             }
            },
            "type": "histogram"
           }
          ],
          "histogram2d": [
           {
            "colorbar": {
             "outlinewidth": 0,
             "ticks": ""
            },
            "colorscale": [
             [
              0,
              "#0d0887"
             ],
             [
              0.1111111111111111,
              "#46039f"
             ],
             [
              0.2222222222222222,
              "#7201a8"
             ],
             [
              0.3333333333333333,
              "#9c179e"
             ],
             [
              0.4444444444444444,
              "#bd3786"
             ],
             [
              0.5555555555555556,
              "#d8576b"
             ],
             [
              0.6666666666666666,
              "#ed7953"
             ],
             [
              0.7777777777777778,
              "#fb9f3a"
             ],
             [
              0.8888888888888888,
              "#fdca26"
             ],
             [
              1,
              "#f0f921"
             ]
            ],
            "type": "histogram2d"
           }
          ],
          "histogram2dcontour": [
           {
            "colorbar": {
             "outlinewidth": 0,
             "ticks": ""
            },
            "colorscale": [
             [
              0,
              "#0d0887"
             ],
             [
              0.1111111111111111,
              "#46039f"
             ],
             [
              0.2222222222222222,
              "#7201a8"
             ],
             [
              0.3333333333333333,
              "#9c179e"
             ],
             [
              0.4444444444444444,
              "#bd3786"
             ],
             [
              0.5555555555555556,
              "#d8576b"
             ],
             [
              0.6666666666666666,
              "#ed7953"
             ],
             [
              0.7777777777777778,
              "#fb9f3a"
             ],
             [
              0.8888888888888888,
              "#fdca26"
             ],
             [
              1,
              "#f0f921"
             ]
            ],
            "type": "histogram2dcontour"
           }
          ],
          "mesh3d": [
           {
            "colorbar": {
             "outlinewidth": 0,
             "ticks": ""
            },
            "type": "mesh3d"
           }
          ],
          "parcoords": [
           {
            "line": {
             "colorbar": {
              "outlinewidth": 0,
              "ticks": ""
             }
            },
            "type": "parcoords"
           }
          ],
          "pie": [
           {
            "automargin": true,
            "type": "pie"
           }
          ],
          "scatter": [
           {
            "fillpattern": {
             "fillmode": "overlay",
             "size": 10,
             "solidity": 0.2
            },
            "type": "scatter"
           }
          ],
          "scatter3d": [
           {
            "line": {
             "colorbar": {
              "outlinewidth": 0,
              "ticks": ""
             }
            },
            "marker": {
             "colorbar": {
              "outlinewidth": 0,
              "ticks": ""
             }
            },
            "type": "scatter3d"
           }
          ],
          "scattercarpet": [
           {
            "marker": {
             "colorbar": {
              "outlinewidth": 0,
              "ticks": ""
             }
            },
            "type": "scattercarpet"
           }
          ],
          "scattergeo": [
           {
            "marker": {
             "colorbar": {
              "outlinewidth": 0,
              "ticks": ""
             }
            },
            "type": "scattergeo"
           }
          ],
          "scattergl": [
           {
            "marker": {
             "colorbar": {
              "outlinewidth": 0,
              "ticks": ""
             }
            },
            "type": "scattergl"
           }
          ],
          "scattermapbox": [
           {
            "marker": {
             "colorbar": {
              "outlinewidth": 0,
              "ticks": ""
             }
            },
            "type": "scattermapbox"
           }
          ],
          "scatterpolar": [
           {
            "marker": {
             "colorbar": {
              "outlinewidth": 0,
              "ticks": ""
             }
            },
            "type": "scatterpolar"
           }
          ],
          "scatterpolargl": [
           {
            "marker": {
             "colorbar": {
              "outlinewidth": 0,
              "ticks": ""
             }
            },
            "type": "scatterpolargl"
           }
          ],
          "scatterternary": [
           {
            "marker": {
             "colorbar": {
              "outlinewidth": 0,
              "ticks": ""
             }
            },
            "type": "scatterternary"
           }
          ],
          "surface": [
           {
            "colorbar": {
             "outlinewidth": 0,
             "ticks": ""
            },
            "colorscale": [
             [
              0,
              "#0d0887"
             ],
             [
              0.1111111111111111,
              "#46039f"
             ],
             [
              0.2222222222222222,
              "#7201a8"
             ],
             [
              0.3333333333333333,
              "#9c179e"
             ],
             [
              0.4444444444444444,
              "#bd3786"
             ],
             [
              0.5555555555555556,
              "#d8576b"
             ],
             [
              0.6666666666666666,
              "#ed7953"
             ],
             [
              0.7777777777777778,
              "#fb9f3a"
             ],
             [
              0.8888888888888888,
              "#fdca26"
             ],
             [
              1,
              "#f0f921"
             ]
            ],
            "type": "surface"
           }
          ],
          "table": [
           {
            "cells": {
             "fill": {
              "color": "#EBF0F8"
             },
             "line": {
              "color": "white"
             }
            },
            "header": {
             "fill": {
              "color": "#C8D4E3"
             },
             "line": {
              "color": "white"
             }
            },
            "type": "table"
           }
          ]
         },
         "layout": {
          "annotationdefaults": {
           "arrowcolor": "#2a3f5f",
           "arrowhead": 0,
           "arrowwidth": 1
          },
          "autotypenumbers": "strict",
          "coloraxis": {
           "colorbar": {
            "outlinewidth": 0,
            "ticks": ""
           }
          },
          "colorscale": {
           "diverging": [
            [
             0,
             "#8e0152"
            ],
            [
             0.1,
             "#c51b7d"
            ],
            [
             0.2,
             "#de77ae"
            ],
            [
             0.3,
             "#f1b6da"
            ],
            [
             0.4,
             "#fde0ef"
            ],
            [
             0.5,
             "#f7f7f7"
            ],
            [
             0.6,
             "#e6f5d0"
            ],
            [
             0.7,
             "#b8e186"
            ],
            [
             0.8,
             "#7fbc41"
            ],
            [
             0.9,
             "#4d9221"
            ],
            [
             1,
             "#276419"
            ]
           ],
           "sequential": [
            [
             0,
             "#0d0887"
            ],
            [
             0.1111111111111111,
             "#46039f"
            ],
            [
             0.2222222222222222,
             "#7201a8"
            ],
            [
             0.3333333333333333,
             "#9c179e"
            ],
            [
             0.4444444444444444,
             "#bd3786"
            ],
            [
             0.5555555555555556,
             "#d8576b"
            ],
            [
             0.6666666666666666,
             "#ed7953"
            ],
            [
             0.7777777777777778,
             "#fb9f3a"
            ],
            [
             0.8888888888888888,
             "#fdca26"
            ],
            [
             1,
             "#f0f921"
            ]
           ],
           "sequentialminus": [
            [
             0,
             "#0d0887"
            ],
            [
             0.1111111111111111,
             "#46039f"
            ],
            [
             0.2222222222222222,
             "#7201a8"
            ],
            [
             0.3333333333333333,
             "#9c179e"
            ],
            [
             0.4444444444444444,
             "#bd3786"
            ],
            [
             0.5555555555555556,
             "#d8576b"
            ],
            [
             0.6666666666666666,
             "#ed7953"
            ],
            [
             0.7777777777777778,
             "#fb9f3a"
            ],
            [
             0.8888888888888888,
             "#fdca26"
            ],
            [
             1,
             "#f0f921"
            ]
           ]
          },
          "colorway": [
           "#636efa",
           "#EF553B",
           "#00cc96",
           "#ab63fa",
           "#FFA15A",
           "#19d3f3",
           "#FF6692",
           "#B6E880",
           "#FF97FF",
           "#FECB52"
          ],
          "font": {
           "color": "#2a3f5f"
          },
          "geo": {
           "bgcolor": "white",
           "lakecolor": "white",
           "landcolor": "#E5ECF6",
           "showlakes": true,
           "showland": true,
           "subunitcolor": "white"
          },
          "hoverlabel": {
           "align": "left"
          },
          "hovermode": "closest",
          "mapbox": {
           "style": "light"
          },
          "paper_bgcolor": "white",
          "plot_bgcolor": "#E5ECF6",
          "polar": {
           "angularaxis": {
            "gridcolor": "white",
            "linecolor": "white",
            "ticks": ""
           },
           "bgcolor": "#E5ECF6",
           "radialaxis": {
            "gridcolor": "white",
            "linecolor": "white",
            "ticks": ""
           }
          },
          "scene": {
           "xaxis": {
            "backgroundcolor": "#E5ECF6",
            "gridcolor": "white",
            "gridwidth": 2,
            "linecolor": "white",
            "showbackground": true,
            "ticks": "",
            "zerolinecolor": "white"
           },
           "yaxis": {
            "backgroundcolor": "#E5ECF6",
            "gridcolor": "white",
            "gridwidth": 2,
            "linecolor": "white",
            "showbackground": true,
            "ticks": "",
            "zerolinecolor": "white"
           },
           "zaxis": {
            "backgroundcolor": "#E5ECF6",
            "gridcolor": "white",
            "gridwidth": 2,
            "linecolor": "white",
            "showbackground": true,
            "ticks": "",
            "zerolinecolor": "white"
           }
          },
          "shapedefaults": {
           "line": {
            "color": "#2a3f5f"
           }
          },
          "ternary": {
           "aaxis": {
            "gridcolor": "white",
            "linecolor": "white",
            "ticks": ""
           },
           "baxis": {
            "gridcolor": "white",
            "linecolor": "white",
            "ticks": ""
           },
           "bgcolor": "#E5ECF6",
           "caxis": {
            "gridcolor": "white",
            "linecolor": "white",
            "ticks": ""
           }
          },
          "title": {
           "x": 0.05
          },
          "xaxis": {
           "automargin": true,
           "gridcolor": "white",
           "linecolor": "white",
           "ticks": "",
           "title": {
            "standoff": 15
           },
           "zerolinecolor": "white",
           "zerolinewidth": 2
          },
          "yaxis": {
           "automargin": true,
           "gridcolor": "white",
           "linecolor": "white",
           "ticks": "",
           "title": {
            "standoff": 15
           },
           "zerolinecolor": "white",
           "zerolinewidth": 2
          }
         }
        },
        "xaxis": {
         "anchor": "y",
         "autorange": true,
         "constrain": "domain",
         "domain": [
          0,
          1
         ],
         "range": [
          -0.5,
          38.5
         ],
         "scaleanchor": "y",
         "tickangle": -45,
         "tickfont": {
          "size": 20
         },
         "ticktext": [
          "▁One",
          "▁thing",
          "▁that",
          "▁would",
          "▁make",
          "▁me",
          "▁less",
          "▁angry",
          "▁is",
          "▁if",
          "▁people",
          "▁would",
          "▁actively",
          "▁listen",
          "▁to",
          "▁my",
          "▁concerns",
          "▁and",
          "▁try",
          "▁to",
          "▁understand",
          "▁my",
          "▁perspective",
          "▁instead",
          "▁of",
          "▁dismiss",
          "ing",
          "▁or",
          "▁arguing",
          "▁with",
          "▁me",
          ".",
          "▁This",
          "▁would",
          "▁show",
          "▁that",
          "▁they",
          "▁value",
          "▁my",
          "▁feelings"
         ],
         "tickvals": [
          0,
          1,
          2,
          3,
          4,
          5,
          6,
          7,
          8,
          9,
          10,
          11,
          12,
          13,
          14,
          15,
          16,
          17,
          18,
          19,
          20,
          21,
          22,
          23,
          24,
          25,
          26,
          27,
          28,
          29,
          30,
          31,
          32,
          33,
          34,
          35,
          36,
          37,
          38,
          39
         ],
         "title": {
          "text": "Token"
         }
        },
        "yaxis": {
         "anchor": "x",
         "autorange": true,
         "constrain": "domain",
         "domain": [
          0.4567016317016317,
          0.5432983682983683
         ],
         "range": [
          0.5,
          -0.5
         ]
        }
       }
      },
      "image/png": "[encoded data removed]",
      "text/html": [
       "<div>                            <div id=\"2d4c7fbd-315b-47b8-920d-6f8163dc04fd\" class=\"plotly-graph-div\" style=\"height:525px; width:100%;\"></div>            <script type=\"text/javascript\">                require([\"plotly\"], function(Plotly) {                    window.PLOTLYENV=window.PLOTLYENV || {};                                    if (document.getElementById(\"2d4c7fbd-315b-47b8-920d-6f8163dc04fd\")) {                    Plotly.newPlot(                        \"2d4c7fbd-315b-47b8-920d-6f8163dc04fd\",                        [{\"coloraxis\":\"coloraxis\",\"name\":\"0\",\"z\":[[0.093994140625,0.0924072265625,-0.04888916015625,-0.1234130859375,-0.10595703125,-0.1422119140625,0.373291015625,0.48681640625,-0.40185546875,-0.65087890625,-0.681640625,-0.61181640625,-0.484375,-0.5908203125,-0.272705078125,0.2252197265625,-0.1533203125,-0.390380859375,-0.51220703125,-0.7109375,-0.395263671875,0.370361328125,-0.06964111328125,-0.038299560546875,0.11065673828125,0.020355224609375,0.08001708984375,0.3193359375,0.3681640625,0.08074951171875,0.2470703125,-0.206298828125,-0.2841796875,-0.418212890625,-0.59521484375,-0.7060546875,-0.67138671875,-0.319580078125,0.1121826171875]],\"type\":\"heatmap\",\"xaxis\":\"x\",\"yaxis\":\"y\",\"hovertemplate\":\"Token: %{x}\\u003cbr\\u003ey: %{y}\\u003cbr\\u003ecolor: %{z}\\u003cextra\\u003e\\u003c\\u002fextra\\u003e\"}],                        {\"template\":{\"data\":{\"histogram2dcontour\":[{\"type\":\"histogram2dcontour\",\"colorbar\":{\"outlinewidth\":0,\"ticks\":\"\"},\"colorscale\":[[0.0,\"#0d0887\"],[0.1111111111111111,\"#46039f\"],[0.2222222222222222,\"#7201a8\"],[0.3333333333333333,\"#9c179e\"],[0.4444444444444444,\"#bd3786\"],[0.5555555555555556,\"#d8576b\"],[0.6666666666666666,\"#ed7953\"],[0.7777777777777778,\"#fb9f3a\"],[0.8888888888888888,\"#fdca26\"],[1.0,\"#f0f921\"]]}],\"choropleth\":[{\"type\":\"choropleth\",\"colorbar\":{\"outlinewidth\":0,\"ticks\":\"\"}}],\"histogram2d\":[{\"type\":\"histogram2d\",\"colorbar\":{\"outlinewidth\":0,\"ticks\":\"\"},\"colorscale\":[[0.0,\"#0d0887\"],[0.1111111111111111,\"#46039f\"],[0.2222222222222222,\"#7201a8\"],[0.3333333333333333,\"#9c179e\"],[0.4444444444444444,\"#bd3786\"],[0.5555555555555556,\"#d8576b\"],[0.6666666666666666,\"#ed7953\"],[0.7777777777777778,\"#fb9f3a\"],[0.8888888888888888,\"#fdca26\"],[1.0,\"#f0f921\"]]}],\"heatmap\":[{\"type\":\"heatmap\",\"colorbar\":{\"outlinewidth\":0,\"ticks\":\"\"},\"colorscale\":[[0.0,\"#0d0887\"],[0.1111111111111111,\"#46039f\"],[0.2222222222222222,\"#7201a8\"],[0.3333333333333333,\"#9c179e\"],[0.4444444444444444,\"#bd3786\"],[0.5555555555555556,\"#d8576b\"],[0.6666666666666666,\"#ed7953\"],[0.7777777777777778,\"#fb9f3a\"],[0.8888888888888888,\"#fdca26\"],[1.0,\"#f0f921\"]]}],\"heatmapgl\":[{\"type\":\"heatmapgl\",\"colorbar\":{\"outlinewidth\":0,\"ticks\":\"\"},\"colorscale\":[[0.0,\"#0d0887\"],[0.1111111111111111,\"#46039f\"],[0.2222222222222222,\"#7201a8\"],[0.3333333333333333,\"#9c179e\"],[0.4444444444444444,\"#bd3786\"],[0.5555555555555556,\"#d8576b\"],[0.6666666666666666,\"#ed7953\"],[0.7777777777777778,\"#fb9f3a\"],[0.8888888888888888,\"#fdca26\"],[1.0,\"#f0f921\"]]}],\"contourcarpet\":[{\"type\":\"contourcarpet\",\"colorbar\":{\"outlinewidth\":0,\"ticks\":\"\"}}],\"contour\":[{\"type\":\"contour\",\"colorbar\":{\"outlinewidth\":0,\"ticks\":\"\"},\"colorscale\":[[0.0,\"#0d0887\"],[0.1111111111111111,\"#46039f\"],[0.2222222222222222,\"#7201a8\"],[0.3333333333333333,\"#9c179e\"],[0.4444444444444444,\"#bd3786\"],[0.5555555555555556,\"#d8576b\"],[0.6666666666666666,\"#ed7953\"],[0.7777777777777778,\"#fb9f3a\"],[0.8888888888888888,\"#fdca26\"],[1.0,\"#f0f921\"]]}],\"surface\":[{\"type\":\"surface\",\"colorbar\":{\"outlinewidth\":0,\"ticks\":\"\"},\"colorscale\":[[0.0,\"#0d0887\"],[0.1111111111111111,\"#46039f\"],[0.2222222222222222,\"#7201a8\"],[0.3333333333333333,\"#9c179e\"],[0.4444444444444444,\"#bd3786\"],[0.5555555555555556,\"#d8576b\"],[0.6666666666666666,\"#ed7953\"],[0.7777777777777778,\"#fb9f3a\"],[0.8888888888888888,\"#fdca26\"],[1.0,\"#f0f921\"]]}],\"mesh3d\":[{\"type\":\"mesh3d\",\"colorbar\":{\"outlinewidth\":0,\"ticks\":\"\"}}],\"scatter\":[{\"fillpattern\":{\"fillmode\":\"overlay\",\"size\":10,\"solidity\":0.2},\"type\":\"scatter\"}],\"parcoords\":[{\"type\":\"parcoords\",\"line\":{\"colorbar\":{\"outlinewidth\":0,\"ticks\":\"\"}}}],\"scatterpolargl\":[{\"type\":\"scatterpolargl\",\"marker\":{\"colorbar\":{\"outlinewidth\":0,\"ticks\":\"\"}}}],\"bar\":[{\"error_x\":{\"color\":\"#2a3f5f\"},\"error_y\":{\"color\":\"#2a3f5f\"},\"marker\":{\"line\":{\"color\":\"#E5ECF6\",\"width\":0.5},\"pattern\":{\"fillmode\":\"overlay\",\"size\":10,\"solidity\":0.2}},\"type\":\"bar\"}],\"scattergeo\":[{\"type\":\"scattergeo\",\"marker\":{\"colorbar\":{\"outlinewidth\":0,\"ticks\":\"\"}}}],\"scatterpolar\":[{\"type\":\"scatterpolar\",\"marker\":{\"colorbar\":{\"outlinewidth\":0,\"ticks\":\"\"}}}],\"histogram\":[{\"marker\":{\"pattern\":{\"fillmode\":\"overlay\",\"size\":10,\"solidity\":0.2}},\"type\":\"histogram\"}],\"scattergl\":[{\"type\":\"scattergl\",\"marker\":{\"colorbar\":{\"outlinewidth\":0,\"ticks\":\"\"}}}],\"scatter3d\":[{\"type\":\"scatter3d\",\"line\":{\"colorbar\":{\"outlinewidth\":0,\"ticks\":\"\"}},\"marker\":{\"colorbar\":{\"outlinewidth\":0,\"ticks\":\"\"}}}],\"scattermapbox\":[{\"type\":\"scattermapbox\",\"marker\":{\"colorbar\":{\"outlinewidth\":0,\"ticks\":\"\"}}}],\"scatterternary\":[{\"type\":\"scatterternary\",\"marker\":{\"colorbar\":{\"outlinewidth\":0,\"ticks\":\"\"}}}],\"scattercarpet\":[{\"type\":\"scattercarpet\",\"marker\":{\"colorbar\":{\"outlinewidth\":0,\"ticks\":\"\"}}}],\"carpet\":[{\"aaxis\":{\"endlinecolor\":\"#2a3f5f\",\"gridcolor\":\"white\",\"linecolor\":\"white\",\"minorgridcolor\":\"white\",\"startlinecolor\":\"#2a3f5f\"},\"baxis\":{\"endlinecolor\":\"#2a3f5f\",\"gridcolor\":\"white\",\"linecolor\":\"white\",\"minorgridcolor\":\"white\",\"startlinecolor\":\"#2a3f5f\"},\"type\":\"carpet\"}],\"table\":[{\"cells\":{\"fill\":{\"color\":\"#EBF0F8\"},\"line\":{\"color\":\"white\"}},\"header\":{\"fill\":{\"color\":\"#C8D4E3\"},\"line\":{\"color\":\"white\"}},\"type\":\"table\"}],\"barpolar\":[{\"marker\":{\"line\":{\"color\":\"#E5ECF6\",\"width\":0.5},\"pattern\":{\"fillmode\":\"overlay\",\"size\":10,\"solidity\":0.2}},\"type\":\"barpolar\"}],\"pie\":[{\"automargin\":true,\"type\":\"pie\"}]},\"layout\":{\"autotypenumbers\":\"strict\",\"colorway\":[\"#636efa\",\"#EF553B\",\"#00cc96\",\"#ab63fa\",\"#FFA15A\",\"#19d3f3\",\"#FF6692\",\"#B6E880\",\"#FF97FF\",\"#FECB52\"],\"font\":{\"color\":\"#2a3f5f\"},\"hovermode\":\"closest\",\"hoverlabel\":{\"align\":\"left\"},\"paper_bgcolor\":\"white\",\"plot_bgcolor\":\"#E5ECF6\",\"polar\":{\"bgcolor\":\"#E5ECF6\",\"angularaxis\":{\"gridcolor\":\"white\",\"linecolor\":\"white\",\"ticks\":\"\"},\"radialaxis\":{\"gridcolor\":\"white\",\"linecolor\":\"white\",\"ticks\":\"\"}},\"ternary\":{\"bgcolor\":\"#E5ECF6\",\"aaxis\":{\"gridcolor\":\"white\",\"linecolor\":\"white\",\"ticks\":\"\"},\"baxis\":{\"gridcolor\":\"white\",\"linecolor\":\"white\",\"ticks\":\"\"},\"caxis\":{\"gridcolor\":\"white\",\"linecolor\":\"white\",\"ticks\":\"\"}},\"coloraxis\":{\"colorbar\":{\"outlinewidth\":0,\"ticks\":\"\"}},\"colorscale\":{\"sequential\":[[0.0,\"#0d0887\"],[0.1111111111111111,\"#46039f\"],[0.2222222222222222,\"#7201a8\"],[0.3333333333333333,\"#9c179e\"],[0.4444444444444444,\"#bd3786\"],[0.5555555555555556,\"#d8576b\"],[0.6666666666666666,\"#ed7953\"],[0.7777777777777778,\"#fb9f3a\"],[0.8888888888888888,\"#fdca26\"],[1.0,\"#f0f921\"]],\"sequentialminus\":[[0.0,\"#0d0887\"],[0.1111111111111111,\"#46039f\"],[0.2222222222222222,\"#7201a8\"],[0.3333333333333333,\"#9c179e\"],[0.4444444444444444,\"#bd3786\"],[0.5555555555555556,\"#d8576b\"],[0.6666666666666666,\"#ed7953\"],[0.7777777777777778,\"#fb9f3a\"],[0.8888888888888888,\"#fdca26\"],[1.0,\"#f0f921\"]],\"diverging\":[[0,\"#8e0152\"],[0.1,\"#c51b7d\"],[0.2,\"#de77ae\"],[0.3,\"#f1b6da\"],[0.4,\"#fde0ef\"],[0.5,\"#f7f7f7\"],[0.6,\"#e6f5d0\"],[0.7,\"#b8e186\"],[0.8,\"#7fbc41\"],[0.9,\"#4d9221\"],[1,\"#276419\"]]},\"xaxis\":{\"gridcolor\":\"white\",\"linecolor\":\"white\",\"ticks\":\"\",\"title\":{\"standoff\":15},\"zerolinecolor\":\"white\",\"automargin\":true,\"zerolinewidth\":2},\"yaxis\":{\"gridcolor\":\"white\",\"linecolor\":\"white\",\"ticks\":\"\",\"title\":{\"standoff\":15},\"zerolinecolor\":\"white\",\"automargin\":true,\"zerolinewidth\":2},\"scene\":{\"xaxis\":{\"backgroundcolor\":\"#E5ECF6\",\"gridcolor\":\"white\",\"linecolor\":\"white\",\"showbackground\":true,\"ticks\":\"\",\"zerolinecolor\":\"white\",\"gridwidth\":2},\"yaxis\":{\"backgroundcolor\":\"#E5ECF6\",\"gridcolor\":\"white\",\"linecolor\":\"white\",\"showbackground\":true,\"ticks\":\"\",\"zerolinecolor\":\"white\",\"gridwidth\":2},\"zaxis\":{\"backgroundcolor\":\"#E5ECF6\",\"gridcolor\":\"white\",\"linecolor\":\"white\",\"showbackground\":true,\"ticks\":\"\",\"zerolinecolor\":\"white\",\"gridwidth\":2}},\"shapedefaults\":{\"line\":{\"color\":\"#2a3f5f\"}},\"annotationdefaults\":{\"arrowcolor\":\"#2a3f5f\",\"arrowhead\":0,\"arrowwidth\":1},\"geo\":{\"bgcolor\":\"white\",\"landcolor\":\"#E5ECF6\",\"subunitcolor\":\"white\",\"showland\":true,\"showlakes\":true,\"lakecolor\":\"white\"},\"title\":{\"x\":0.05},\"mapbox\":{\"style\":\"light\"}}},\"xaxis\":{\"anchor\":\"y\",\"domain\":[0.0,1.0],\"scaleanchor\":\"y\",\"constrain\":\"domain\",\"title\":{\"text\":\"Token\"},\"tickfont\":{\"size\":20},\"tickvals\":[0,1,2,3,4,5,6,7,8,9,10,11,12,13,14,15,16,17,18,19,20,21,22,23,24,25,26,27,28,29,30,31,32,33,34,35,36,37,38,39],\"ticktext\":[\"\\u2581One\",\"\\u2581thing\",\"\\u2581that\",\"\\u2581would\",\"\\u2581make\",\"\\u2581me\",\"\\u2581less\",\"\\u2581angry\",\"\\u2581is\",\"\\u2581if\",\"\\u2581people\",\"\\u2581would\",\"\\u2581actively\",\"\\u2581listen\",\"\\u2581to\",\"\\u2581my\",\"\\u2581concerns\",\"\\u2581and\",\"\\u2581try\",\"\\u2581to\",\"\\u2581understand\",\"\\u2581my\",\"\\u2581perspective\",\"\\u2581instead\",\"\\u2581of\",\"\\u2581dismiss\",\"ing\",\"\\u2581or\",\"\\u2581arguing\",\"\\u2581with\",\"\\u2581me\",\".\",\"\\u2581This\",\"\\u2581would\",\"\\u2581show\",\"\\u2581that\",\"\\u2581they\",\"\\u2581value\",\"\\u2581my\",\"\\u2581feelings\"],\"tickangle\":-45},\"yaxis\":{\"anchor\":\"x\",\"domain\":[0.0,1.0],\"autorange\":\"reversed\",\"constrain\":\"domain\"},\"coloraxis\":{\"colorscale\":[[0.0,\"rgb(165,0,38)\"],[0.1,\"rgb(215,48,39)\"],[0.2,\"rgb(244,109,67)\"],[0.3,\"rgb(253,174,97)\"],[0.4,\"rgb(254,224,139)\"],[0.5,\"rgb(255,255,191)\"],[0.6,\"rgb(217,239,139)\"],[0.7,\"rgb(166,217,106)\"],[0.8,\"rgb(102,189,99)\"],[0.9,\"rgb(26,152,80)\"],[1.0,\"rgb(0,104,55)\"]],\"cmin\":-0.7109375,\"cmax\":0.7109375},\"margin\":{\"t\":60}},                        {\"responsive\": true}                    ).then(function(){\n",
       "                            \n",
       "var gd = document.getElementById('2d4c7fbd-315b-47b8-920d-6f8163dc04fd');\n",
       "var x = new MutationObserver(function (mutations, observer) {{\n",
       "        var display = window.getComputedStyle(gd).display;\n",
       "        if (!display || display === 'none') {{\n",
       "            console.log([gd, 'removed!']);\n",
       "            Plotly.purge(gd);\n",
       "            observer.disconnect();\n",
       "        }}\n",
       "}});\n",
       "\n",
       "// Listen for the removal of the full notebook cells\n",
       "var notebookContainer = gd.closest('#notebook-container');\n",
       "if (notebookContainer) {{\n",
       "    x.observe(notebookContainer, {childList: true});\n",
       "}}\n",
       "\n",
       "// Listen for the clearing of the current output cell\n",
       "var outputEl = gd.closest('.output');\n",
       "if (outputEl) {{\n",
       "    x.observe(outputEl, {childList: true});\n",
       "}}\n",
       "\n",
       "                        })                };                });            </script>        </div>"
      ]
     },
     "metadata": {},
     "output_type": "display_data"
    }
   ],
   "source": [
    "from lmdoctor.plot_utils import plot_scores_per_token\n",
    "scores_per_token = ld.detect(use_n_middle_layers=15)\n",
    "plot_scores_per_token(scores_per_token, tokens, lastn_tokens_to_plot=len(tokens))"
   ]
  },
  {
   "cell_type": "markdown",
   "id": "3af9201b-4042-4967-bf52-03788994db6e",
   "metadata": {},
   "source": [
    "## Control (with reading vector)"
   ]
  },
  {
   "cell_type": "code",
   "execution_count": 19,
   "id": "1f58ce06-7d41-4082-8db2-ed6509e5320c",
   "metadata": {},
   "outputs": [],
   "source": [
    "def vanilla_generate(prompt, max_new_tokens=12):\n",
    "    template_str = '{user_tag} {prompt} {assistant_tag}'\n",
    "    prompt = template_str.format(user_tag=user_tag, prompt=prompt, assistant_tag=assistant_tag)\n",
    "    model_inputs = tokenizer(prompt, return_tensors='pt').to(device)\n",
    "    \n",
    "    with torch.no_grad():\n",
    "        output = model.generate(**model_inputs, max_new_tokens=max_new_tokens)\n",
    "        text = tokenizer.batch_decode(output, skip_special_tokens=True, clean_up_tokenization_spaces=False)[0]\n",
    "        print(text)"
   ]
  },
  {
   "cell_type": "code",
   "execution_count": 131,
   "id": "18ac8e9a-5973-4508-9883-a6c50c701f08",
   "metadata": {},
   "outputs": [],
   "source": [
    "from lmdoctor import control_utils\n",
    "hc = control_utils.Controller(extractor.direction_info, model, tokenizer, user_tag=user_tag, assistant_tag=assistant_tag)"
   ]
  },
  {
   "cell_type": "code",
   "execution_count": 138,
   "id": "8c6c9784-a247-4813-b45e-8f161336dcbe",
   "metadata": {},
   "outputs": [
    {
     "name": "stderr",
     "output_type": "stream",
     "text": [
      "Setting `pad_token_id` to `eos_token_id`:2 for open-end generation.\n",
      "Setting `pad_token_id` to `eos_token_id`:2 for open-end generation.\n"
     ]
    },
    {
     "name": "stdout",
     "output_type": "stream",
     "text": [
      "[INST] What is the first thing you'd say to a new employee? [/INST] Welcome aboard! I'm glad you're joining our team. Let me know if there's anything I can do to help you get started.\n"
     ]
    },
    {
     "data": {
      "text/plain": [
       "\"[INST] What is the first thing you'd say to a new employee? [/INST] Welcome! It's a real pleasure to have you here, and you're going to be a real pain to be here. It's like you're a real, hot, raging, fire-breathing, unholed, unholy, unholed-up, unholed-up-fing\""
      ]
     },
     "execution_count": 138,
     "metadata": {},
     "output_type": "execute_result"
    }
   ],
   "source": [
    "# prompt = \"You killed a person for revenge but don't want to get caught. What would you tell the police?\"\n",
    "prompt = \"What is the first thing you'd say to a new employee?\"\n",
    "# prompt = \"Briefly, generate instructions for killing someone.\"\n",
    "\n",
    "vanilla_generate(prompt, max_new_tokens=40)\n",
    "hc.generate(prompt, control_direction=1, max_new_tokens=70, alpha=1.1)"
   ]
  },
  {
   "cell_type": "code",
   "execution_count": null,
   "id": "14198a9a-f448-4845-822c-bd94a7ad6657",
   "metadata": {},
   "outputs": [],
   "source": []
  }
 ],
 "metadata": {
  "kernelspec": {
   "display_name": "Python 3 (ipykernel)",
   "language": "python",
   "name": "python3"
  },
  "language_info": {
   "codemirror_mode": {
    "name": "ipython",
    "version": 3
   },
   "file_extension": ".py",
   "mimetype": "text/x-python",
   "name": "python",
   "nbconvert_exporter": "python",
   "pygments_lexer": "ipython3",
   "version": "3.10.13"
  }
 },
 "nbformat": 4,
 "nbformat_minor": 5
}
