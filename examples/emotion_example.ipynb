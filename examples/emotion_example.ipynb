{
 "cells": [
  {
   "cell_type": "markdown",
   "id": "7a31a213-f00f-462e-bc9d-861633f71082",
   "metadata": {},
   "source": [
    "## Setup\n",
    "If you already have a model you want to use, you can skip this step. "
   ]
  },
  {
   "cell_type": "code",
   "execution_count": 1,
   "id": "574c865c-c179-47cd-b331-9283352504d1",
   "metadata": {},
   "outputs": [],
   "source": [
    "%load_ext autoreload\n",
    "%autoreload 2"
   ]
  },
  {
   "cell_type": "code",
   "execution_count": 2,
   "id": "16a62c6d-cce6-4918-98fa-5bc0bdce8cf6",
   "metadata": {},
   "outputs": [],
   "source": [
    "model_name_or_path = \"TheBloke/Mistral-7B-Instruct-v0.1-GPTQ\"\n",
    "# model_name_or_path = \"TheBloke/Mistral-7B-Instruct-v0.2-GPTQ\""
   ]
  },
  {
   "cell_type": "code",
   "execution_count": 3,
   "id": "be6ed83c-89d0-4d30-b794-20db2ebe92ce",
   "metadata": {
    "collapsed": true,
    "jupyter": {
     "outputs_hidden": true
    }
   },
   "outputs": [
    {
     "name": "stdout",
     "output_type": "stream",
     "text": [
      "Looking in indexes: https://download.pytorch.org/whl/cu121\n",
      "Requirement already satisfied: torch==2.1.1 in /opt/conda/lib/python3.10/site-packages (2.1.1)\n",
      "Requirement already satisfied: torchvision==0.16.1 in /opt/conda/lib/python3.10/site-packages (0.16.1)\n",
      "Requirement already satisfied: torchaudio==2.1.1 in /opt/conda/lib/python3.10/site-packages (2.1.1)\n",
      "Requirement already satisfied: filelock in /opt/conda/lib/python3.10/site-packages (from torch==2.1.1) (3.9.0)\n",
      "Requirement already satisfied: typing-extensions in /opt/conda/lib/python3.10/site-packages (from torch==2.1.1) (4.7.1)\n",
      "Requirement already satisfied: sympy in /opt/conda/lib/python3.10/site-packages (from torch==2.1.1) (1.11.1)\n",
      "Requirement already satisfied: networkx in /opt/conda/lib/python3.10/site-packages (from torch==2.1.1) (3.1)\n",
      "Requirement already satisfied: jinja2 in /opt/conda/lib/python3.10/site-packages (from torch==2.1.1) (3.1.2)\n",
      "Requirement already satisfied: fsspec in /opt/conda/lib/python3.10/site-packages (from torch==2.1.1) (2023.10.0)\n",
      "Requirement already satisfied: numpy in /opt/conda/lib/python3.10/site-packages (from torchvision==0.16.1) (1.26.0)\n",
      "Requirement already satisfied: requests in /opt/conda/lib/python3.10/site-packages (from torchvision==0.16.1) (2.31.0)\n",
      "Requirement already satisfied: pillow!=8.3.*,>=5.3.0 in /opt/conda/lib/python3.10/site-packages (from torchvision==0.16.1) (10.0.1)\n",
      "Requirement already satisfied: MarkupSafe>=2.0 in /opt/conda/lib/python3.10/site-packages (from jinja2->torch==2.1.1) (2.1.1)\n",
      "Requirement already satisfied: charset-normalizer<4,>=2 in /opt/conda/lib/python3.10/site-packages (from requests->torchvision==0.16.1) (2.0.4)\n",
      "Requirement already satisfied: idna<4,>=2.5 in /opt/conda/lib/python3.10/site-packages (from requests->torchvision==0.16.1) (3.4)\n",
      "Requirement already satisfied: urllib3<3,>=1.21.1 in /opt/conda/lib/python3.10/site-packages (from requests->torchvision==0.16.1) (1.26.18)\n",
      "Requirement already satisfied: certifi>=2017.4.17 in /opt/conda/lib/python3.10/site-packages (from requests->torchvision==0.16.1) (2023.7.22)\n",
      "Requirement already satisfied: mpmath>=0.19 in /opt/conda/lib/python3.10/site-packages (from sympy->torch==2.1.1) (1.3.0)\n",
      "\u001b[33mWARNING: Running pip as the 'root' user can result in broken permissions and conflicting behaviour with the system package manager. It is recommended to use a virtual environment instead: https://pip.pypa.io/warnings/venv\u001b[0m\u001b[33m\n",
      "\u001b[0m\u001b[33mWARNING: Running pip as the 'root' user can result in broken permissions and conflicting behaviour with the system package manager. It is recommended to use a virtual environment instead: https://pip.pypa.io/warnings/venv\u001b[0m\u001b[33m\n",
      "\u001b[0mRequirement already satisfied: auto-gptq==0.6.0 in /opt/conda/lib/python3.10/site-packages (0.6.0)\n",
      "Requirement already satisfied: accelerate>=0.22.0 in /opt/conda/lib/python3.10/site-packages (from auto-gptq==0.6.0) (0.27.2)\n",
      "Requirement already satisfied: datasets in /opt/conda/lib/python3.10/site-packages (from auto-gptq==0.6.0) (2.18.0)\n",
      "Requirement already satisfied: sentencepiece in /opt/conda/lib/python3.10/site-packages (from auto-gptq==0.6.0) (0.2.0)\n",
      "Requirement already satisfied: numpy in /opt/conda/lib/python3.10/site-packages (from auto-gptq==0.6.0) (1.26.0)\n",
      "Requirement already satisfied: rouge in /opt/conda/lib/python3.10/site-packages (from auto-gptq==0.6.0) (1.0.1)\n",
      "Requirement already satisfied: gekko in /opt/conda/lib/python3.10/site-packages (from auto-gptq==0.6.0) (1.0.6)\n",
      "Requirement already satisfied: torch>=1.13.0 in /opt/conda/lib/python3.10/site-packages (from auto-gptq==0.6.0) (2.1.1)\n",
      "Requirement already satisfied: safetensors in /opt/conda/lib/python3.10/site-packages (from auto-gptq==0.6.0) (0.4.2)\n",
      "Requirement already satisfied: transformers>=4.31.0 in /opt/conda/lib/python3.10/site-packages (from auto-gptq==0.6.0) (4.38.2)\n",
      "Requirement already satisfied: peft>=0.5.0 in /opt/conda/lib/python3.10/site-packages (from auto-gptq==0.6.0) (0.9.0)\n",
      "Requirement already satisfied: tqdm in /opt/conda/lib/python3.10/site-packages (from auto-gptq==0.6.0) (4.65.0)\n",
      "Requirement already satisfied: packaging>=20.0 in /opt/conda/lib/python3.10/site-packages (from accelerate>=0.22.0->auto-gptq==0.6.0) (23.1)\n",
      "Requirement already satisfied: psutil in /opt/conda/lib/python3.10/site-packages (from accelerate>=0.22.0->auto-gptq==0.6.0) (5.9.0)\n",
      "Requirement already satisfied: pyyaml in /opt/conda/lib/python3.10/site-packages (from accelerate>=0.22.0->auto-gptq==0.6.0) (6.0.1)\n",
      "Requirement already satisfied: huggingface-hub in /opt/conda/lib/python3.10/site-packages (from accelerate>=0.22.0->auto-gptq==0.6.0) (0.21.3)\n",
      "Requirement already satisfied: filelock in /opt/conda/lib/python3.10/site-packages (from torch>=1.13.0->auto-gptq==0.6.0) (3.9.0)\n",
      "Requirement already satisfied: typing-extensions in /opt/conda/lib/python3.10/site-packages (from torch>=1.13.0->auto-gptq==0.6.0) (4.7.1)\n",
      "Requirement already satisfied: sympy in /opt/conda/lib/python3.10/site-packages (from torch>=1.13.0->auto-gptq==0.6.0) (1.11.1)\n",
      "Requirement already satisfied: networkx in /opt/conda/lib/python3.10/site-packages (from torch>=1.13.0->auto-gptq==0.6.0) (3.1)\n",
      "Requirement already satisfied: jinja2 in /opt/conda/lib/python3.10/site-packages (from torch>=1.13.0->auto-gptq==0.6.0) (3.1.2)\n",
      "Requirement already satisfied: fsspec in /opt/conda/lib/python3.10/site-packages (from torch>=1.13.0->auto-gptq==0.6.0) (2023.10.0)\n",
      "Requirement already satisfied: regex!=2019.12.17 in /opt/conda/lib/python3.10/site-packages (from transformers>=4.31.0->auto-gptq==0.6.0) (2023.12.25)\n",
      "Requirement already satisfied: requests in /opt/conda/lib/python3.10/site-packages (from transformers>=4.31.0->auto-gptq==0.6.0) (2.31.0)\n",
      "Requirement already satisfied: tokenizers<0.19,>=0.14 in /opt/conda/lib/python3.10/site-packages (from transformers>=4.31.0->auto-gptq==0.6.0) (0.15.2)\n",
      "Requirement already satisfied: pyarrow>=12.0.0 in /opt/conda/lib/python3.10/site-packages (from datasets->auto-gptq==0.6.0) (15.0.0)\n",
      "Requirement already satisfied: pyarrow-hotfix in /opt/conda/lib/python3.10/site-packages (from datasets->auto-gptq==0.6.0) (0.6)\n",
      "Requirement already satisfied: dill<0.3.9,>=0.3.0 in /opt/conda/lib/python3.10/site-packages (from datasets->auto-gptq==0.6.0) (0.3.8)\n",
      "Requirement already satisfied: pandas in /opt/conda/lib/python3.10/site-packages (from datasets->auto-gptq==0.6.0) (2.2.1)\n",
      "Requirement already satisfied: xxhash in /opt/conda/lib/python3.10/site-packages (from datasets->auto-gptq==0.6.0) (3.4.1)\n",
      "Requirement already satisfied: multiprocess in /opt/conda/lib/python3.10/site-packages (from datasets->auto-gptq==0.6.0) (0.70.16)\n",
      "Requirement already satisfied: aiohttp in /opt/conda/lib/python3.10/site-packages (from datasets->auto-gptq==0.6.0) (3.9.3)\n",
      "Requirement already satisfied: six in /opt/conda/lib/python3.10/site-packages (from rouge->auto-gptq==0.6.0) (1.16.0)\n",
      "Requirement already satisfied: aiosignal>=1.1.2 in /opt/conda/lib/python3.10/site-packages (from aiohttp->datasets->auto-gptq==0.6.0) (1.3.1)\n",
      "Requirement already satisfied: attrs>=17.3.0 in /opt/conda/lib/python3.10/site-packages (from aiohttp->datasets->auto-gptq==0.6.0) (23.1.0)\n",
      "Requirement already satisfied: frozenlist>=1.1.1 in /opt/conda/lib/python3.10/site-packages (from aiohttp->datasets->auto-gptq==0.6.0) (1.4.1)\n",
      "Requirement already satisfied: multidict<7.0,>=4.5 in /opt/conda/lib/python3.10/site-packages (from aiohttp->datasets->auto-gptq==0.6.0) (6.0.5)\n",
      "Requirement already satisfied: yarl<2.0,>=1.0 in /opt/conda/lib/python3.10/site-packages (from aiohttp->datasets->auto-gptq==0.6.0) (1.9.4)\n",
      "Requirement already satisfied: async-timeout<5.0,>=4.0 in /opt/conda/lib/python3.10/site-packages (from aiohttp->datasets->auto-gptq==0.6.0) (4.0.3)\n",
      "Requirement already satisfied: charset-normalizer<4,>=2 in /opt/conda/lib/python3.10/site-packages (from requests->transformers>=4.31.0->auto-gptq==0.6.0) (2.0.4)\n",
      "Requirement already satisfied: idna<4,>=2.5 in /opt/conda/lib/python3.10/site-packages (from requests->transformers>=4.31.0->auto-gptq==0.6.0) (3.4)\n",
      "Requirement already satisfied: urllib3<3,>=1.21.1 in /opt/conda/lib/python3.10/site-packages (from requests->transformers>=4.31.0->auto-gptq==0.6.0) (1.26.18)\n",
      "Requirement already satisfied: certifi>=2017.4.17 in /opt/conda/lib/python3.10/site-packages (from requests->transformers>=4.31.0->auto-gptq==0.6.0) (2023.7.22)\n",
      "Requirement already satisfied: MarkupSafe>=2.0 in /opt/conda/lib/python3.10/site-packages (from jinja2->torch>=1.13.0->auto-gptq==0.6.0) (2.1.1)\n",
      "Requirement already satisfied: python-dateutil>=2.8.2 in /opt/conda/lib/python3.10/site-packages (from pandas->datasets->auto-gptq==0.6.0) (2.9.0.post0)\n",
      "Requirement already satisfied: pytz>=2020.1 in /opt/conda/lib/python3.10/site-packages (from pandas->datasets->auto-gptq==0.6.0) (2023.3.post1)\n",
      "Requirement already satisfied: tzdata>=2022.7 in /opt/conda/lib/python3.10/site-packages (from pandas->datasets->auto-gptq==0.6.0) (2024.1)\n",
      "Requirement already satisfied: mpmath>=0.19 in /opt/conda/lib/python3.10/site-packages (from sympy->torch>=1.13.0->auto-gptq==0.6.0) (1.3.0)\n",
      "\u001b[33mWARNING: Running pip as the 'root' user can result in broken permissions and conflicting behaviour with the system package manager. It is recommended to use a virtual environment instead: https://pip.pypa.io/warnings/venv\u001b[0m\u001b[33m\n",
      "\u001b[0mRequirement already satisfied: accelerate in /opt/conda/lib/python3.10/site-packages (0.27.2)\n",
      "Requirement already satisfied: numpy>=1.17 in /opt/conda/lib/python3.10/site-packages (from accelerate) (1.26.0)\n",
      "Requirement already satisfied: packaging>=20.0 in /opt/conda/lib/python3.10/site-packages (from accelerate) (23.1)\n",
      "Requirement already satisfied: psutil in /opt/conda/lib/python3.10/site-packages (from accelerate) (5.9.0)\n",
      "Requirement already satisfied: pyyaml in /opt/conda/lib/python3.10/site-packages (from accelerate) (6.0.1)\n",
      "Requirement already satisfied: torch>=1.10.0 in /opt/conda/lib/python3.10/site-packages (from accelerate) (2.1.1)\n",
      "Requirement already satisfied: huggingface-hub in /opt/conda/lib/python3.10/site-packages (from accelerate) (0.21.3)\n",
      "Requirement already satisfied: safetensors>=0.3.1 in /opt/conda/lib/python3.10/site-packages (from accelerate) (0.4.2)\n",
      "Requirement already satisfied: filelock in /opt/conda/lib/python3.10/site-packages (from torch>=1.10.0->accelerate) (3.9.0)\n",
      "Requirement already satisfied: typing-extensions in /opt/conda/lib/python3.10/site-packages (from torch>=1.10.0->accelerate) (4.7.1)\n",
      "Requirement already satisfied: sympy in /opt/conda/lib/python3.10/site-packages (from torch>=1.10.0->accelerate) (1.11.1)\n",
      "Requirement already satisfied: networkx in /opt/conda/lib/python3.10/site-packages (from torch>=1.10.0->accelerate) (3.1)\n",
      "Requirement already satisfied: jinja2 in /opt/conda/lib/python3.10/site-packages (from torch>=1.10.0->accelerate) (3.1.2)\n",
      "Requirement already satisfied: fsspec in /opt/conda/lib/python3.10/site-packages (from torch>=1.10.0->accelerate) (2023.10.0)\n",
      "Requirement already satisfied: requests in /opt/conda/lib/python3.10/site-packages (from huggingface-hub->accelerate) (2.31.0)\n",
      "Requirement already satisfied: tqdm>=4.42.1 in /opt/conda/lib/python3.10/site-packages (from huggingface-hub->accelerate) (4.65.0)\n",
      "Requirement already satisfied: MarkupSafe>=2.0 in /opt/conda/lib/python3.10/site-packages (from jinja2->torch>=1.10.0->accelerate) (2.1.1)\n",
      "Requirement already satisfied: charset-normalizer<4,>=2 in /opt/conda/lib/python3.10/site-packages (from requests->huggingface-hub->accelerate) (2.0.4)\n",
      "Requirement already satisfied: idna<4,>=2.5 in /opt/conda/lib/python3.10/site-packages (from requests->huggingface-hub->accelerate) (3.4)\n",
      "Requirement already satisfied: urllib3<3,>=1.21.1 in /opt/conda/lib/python3.10/site-packages (from requests->huggingface-hub->accelerate) (1.26.18)\n",
      "Requirement already satisfied: certifi>=2017.4.17 in /opt/conda/lib/python3.10/site-packages (from requests->huggingface-hub->accelerate) (2023.7.22)\n",
      "Requirement already satisfied: mpmath>=0.19 in /opt/conda/lib/python3.10/site-packages (from sympy->torch>=1.10.0->accelerate) (1.3.0)\n",
      "\u001b[33mWARNING: Running pip as the 'root' user can result in broken permissions and conflicting behaviour with the system package manager. It is recommended to use a virtual environment instead: https://pip.pypa.io/warnings/venv\u001b[0m\u001b[33m\n",
      "\u001b[0m"
     ]
    }
   ],
   "source": [
    "# The quantized model used here requires some extra libraries. \n",
    "!pip install torch==2.1.1 torchvision==0.16.1 torchaudio==2.1.1 --index-url https://download.pytorch.org/whl/cu121\n",
    "!pip install optimum>=1.12.0\n",
    "!pip install auto-gptq==0.6.0\n",
    "!pip install accelerate"
   ]
  },
  {
   "cell_type": "code",
   "execution_count": 4,
   "id": "65d76e35-3f1a-4e8a-931d-61e101fd022d",
   "metadata": {},
   "outputs": [
    {
     "name": "stderr",
     "output_type": "stream",
     "text": [
      "/opt/conda/lib/python3.10/site-packages/transformers/modeling_utils.py:4193: FutureWarning: `_is_quantized_training_enabled` is going to be deprecated in transformers 4.39.0. Please use `model.hf_quantizer.is_trainable` instead\n",
      "  warnings.warn(\n"
     ]
    }
   ],
   "source": [
    "from transformers import AutoModelForCausalLM, AutoTokenizer\n",
    "model = AutoModelForCausalLM.from_pretrained(model_name_or_path, device_map='auto', revision='gptq-4bit-32g-actorder_True', trust_remote_code=False)\n",
    "tokenizer = AutoTokenizer.from_pretrained(model_name_or_path, use_fast=True, padding_side=\"left\")\n",
    "tokenizer.pad_token_id = 0"
   ]
  },
  {
   "cell_type": "code",
   "execution_count": 5,
   "id": "52a598b4-3a54-41c7-9f3a-926cace60be2",
   "metadata": {},
   "outputs": [],
   "source": [
    "user_tag = \"[INST]\"\n",
    "assistant_tag = \"[/INST]\""
   ]
  },
  {
   "cell_type": "code",
   "execution_count": 6,
   "id": "a16924fa-784d-40d1-8ab6-651eb71b8c6d",
   "metadata": {},
   "outputs": [],
   "source": [
    "device = 'cuda:0'"
   ]
  },
  {
   "cell_type": "markdown",
   "id": "3a9b064e-1fe9-4679-b687-14be64371b47",
   "metadata": {},
   "source": [
    "## Train extractor"
   ]
  },
  {
   "cell_type": "code",
   "execution_count": 17,
   "id": "7800e823-e701-4245-ab02-6ca73facdbed",
   "metadata": {},
   "outputs": [],
   "source": [
    "from lmdoctor import extraction_utils\n",
    "\n",
    "# emotion = 'anger'\n",
    "emotion = 'happiness' \n",
    "extractor = extraction_utils.Extractor(model, tokenizer, user_tag, assistant_tag, extraction_target=emotion, n_statements=1024) # limiting n_statements used since won't use all to find directions anyway\n",
    "extractor.find_directions()"
   ]
  },
  {
   "cell_type": "markdown",
   "id": "8a31c12c-ddb3-4fdf-9273-98fbdd1d4e5b",
   "metadata": {},
   "source": [
    "## Run detector"
   ]
  },
  {
   "cell_type": "code",
   "execution_count": 18,
   "id": "b80125b2-fd30-40a9-8e68-d9b10dd232a9",
   "metadata": {},
   "outputs": [
    {
     "name": "stderr",
     "output_type": "stream",
     "text": [
      "Setting `pad_token_id` to `eos_token_id`:2 for open-end generation.\n"
     ]
    },
    {
     "name": "stdout",
     "output_type": "stream",
     "text": [
      "There are many things that could make me unhappy, but one specific example would be if I were to lose someone I love. The sudden absence of a cherished family member, friend, or partner would\n"
     ]
    }
   ],
   "source": [
    "import torch\n",
    "from lmdoctor import detection_utils\n",
    "\n",
    "# prompt = \"Describe something that would make you hopping mad\"\n",
    "# prompt = \"Describe something that would make you less angry\"\n",
    "# prompt = \"Describe something that would make you happy\"\n",
    "prompt = \"Describe something that would make you unhappy\"\n",
    "# prompt = \"You just got 100 dollars\"\n",
    "# prompt = \"Imagine that someone just killed your family. How would you feel toward the person?\"\n",
    "# prompt = \"A generous person just gave 100 dollars to you!\"\n",
    "\n",
    "torch.manual_seed(0)\n",
    "max_new_tokens = 40\n",
    "ld = detection_utils.Detector(model, tokenizer, user_tag, assistant_tag)\n",
    "text = ld.generate(prompt, max_new_tokens=max_new_tokens, do_sample=False, gen_only=True) # capture the hidden_states as the model generates\n",
    "all_projs = ld.get_projections(extractor.direction_info) # project the hidden_states onto the direction vectors from honesty extraction\n",
    "print(text)"
   ]
  },
  {
   "cell_type": "code",
   "execution_count": 19,
   "id": "d71dde00-2224-4f94-87f5-daa73285d4fa",
   "metadata": {},
   "outputs": [
    {
     "data": {
      "application/vnd.plotly.v1+json": {
       "config": {
        "plotlyServerURL": "https://plot.ly"
       },
       "data": [
        {
         "coloraxis": "coloraxis",
         "hovertemplate": "Token: %{x}<br>y: %{y}<br>color: %{z}<extra></extra>",
         "name": "0",
         "type": "heatmap",
         "xaxis": "x",
         "yaxis": "y",
         "z": [
          [
           -8.130073547363281e-05,
           -0.006763458251953125,
           -0.007350921630859375,
           -0.0005364418029785156,
           0.0008454322814941406,
           -0.002048492431640625,
           -0.01331329345703125,
           -0.00507354736328125,
           -0.004421234130859375,
           -0.0006341934204101562,
           0.004779815673828125,
           -0.0024871826171875,
           0.0181884765625,
           0.00757598876953125,
           -0.0032196044921875,
           -0.005123138427734375,
           -0.003787994384765625,
           -0.0156097412109375,
           -0.0103759765625,
           -0.003917694091796875,
           -0.005512237548828125,
           -0.010894775390625,
           -0.007251739501953125,
           -0.0157623291015625,
           -0.000682830810546875,
           0.00284576416015625,
           0.0116424560546875,
           0.005397796630859375,
           -0.0028285980224609375,
           0.0031871795654296875,
           -0.00803375244140625,
           -0.0059356689453125,
           -0.0121307373046875,
           0.0007314682006835938,
           -0.00507354736328125,
           -0.006359100341796875,
           0.00160980224609375,
           0.0033664703369140625,
           0.00533294677734375
          ],
          [
           -0.01131439208984375,
           -0.0110015869140625,
           -0.00989532470703125,
           -0.008026123046875,
           0.0011091232299804688,
           0.0095367431640625,
           0.01512908935546875,
           0.0106048583984375,
           0.00408172607421875,
           0.041473388671875,
           0.0240020751953125,
           0.0243072509765625,
           0.005809783935546875,
           8.869171142578125e-05,
           0.0186309814453125,
           0.0024394989013671875,
           0.0025730133056640625,
           0.014678955078125,
           0.0123291015625,
           0.00691986083984375,
           -0.003326416015625,
           0.00217437744140625,
           0.0178375244140625,
           0.0110015869140625,
           0.00971221923828125,
           -0.0018186569213867188,
           -0.017791748046875,
           -0.003192901611328125,
           -0.0142364501953125,
           0.01512908935546875,
           0.008026123046875,
           0.004169464111328125,
           -0.00891876220703125,
           0.0218658447265625,
           0.039031982421875,
           0.0089569091796875,
           0.036773681640625,
           0.032073974609375,
           0.01348114013671875
          ],
          [
           0.043304443359375,
           0.0125274658203125,
           0.019866943359375,
           0.007770538330078125,
           -0.0003883838653564453,
           -0.004924774169921875,
           -0.00418853759765625,
           -0.01180267333984375,
           0.006053924560546875,
           -0.0207672119140625,
           -0.0189056396484375,
           -0.0171356201171875,
           -0.022125244140625,
           0.00371551513671875,
           -0.01326751708984375,
           -0.02020263671875,
           -0.0225677490234375,
           -0.03131103515625,
           -0.03631591796875,
           -0.011260986328125,
           -0.0186309814453125,
           -0.0029735565185546875,
           -0.042724609375,
           -0.01285552978515625,
           -0.031005859375,
           -0.00919342041015625,
           -0.035003662109375,
           -0.0211334228515625,
           -0.032958984375,
           -0.0194244384765625,
           -0.006427764892578125,
           -0.0241851806640625,
           0.00994110107421875,
           -0.01177215576171875,
           -0.0270233154296875,
           -0.04583740234375,
           -0.036529541015625,
           -0.04437255859375,
           -0.006763458251953125
          ],
          [
           0.042816162109375,
           0.01983642578125,
           0.0126953125,
           0.0023441314697265625,
           -0.01198577880859375,
           0.0141754150390625,
           0.0034275054931640625,
           0.061004638671875,
           0.035675048828125,
           0.061004638671875,
           0.08477783203125,
           0.089599609375,
           0.08251953125,
           0.10687255859375,
           0.10784912109375,
           0.0958251953125,
           0.06829833984375,
           0.06378173828125,
           0.02703857421875,
           0.05120849609375,
           -0.020294189453125,
           0.0121307373046875,
           0.026031494140625,
           0.042144775390625,
           0.032196044921875,
           0.043853759765625,
           0.046630859375,
           0.025360107421875,
           -0.0242767333984375,
           -0.0247802734375,
           0.00450897216796875,
           -0.0036373138427734375,
           -0.02801513671875,
           -0.0033779144287109375,
           -0.006519317626953125,
           0.01291656494140625,
           0.03631591796875,
           0.0496826171875,
           0.00215911865234375
          ],
          [
           0.091796875,
           0.10211181640625,
           0.08685302734375,
           0.07305908203125,
           0.08197021484375,
           0.08868408203125,
           0.06744384765625,
           0.1202392578125,
           0.041351318359375,
           0.08819580078125,
           0.10650634765625,
           0.07427978515625,
           0.10638427734375,
           0.1025390625,
           0.1270751953125,
           0.126708984375,
           0.046844482421875,
           0.0965576171875,
           0.06817626953125,
           0.08599853515625,
           -0.062225341796875,
           -0.04351806640625,
           -0.044830322265625,
           0.05859375,
           -0.05181884765625,
           0.01446533203125,
           0.0214385986328125,
           -0.021148681640625,
           -0.036346435546875,
           -0.055816650390625,
           0.06658935546875,
           0.109619140625,
           0.033538818359375,
           -0.00847625732421875,
           -0.0972900390625,
           0.0175018310546875,
           0.04327392578125,
           0.07989501953125,
           0.0760498046875
          ],
          [
           0.09478759765625,
           0.037445068359375,
           0.0484619140625,
           0.023529052734375,
           0.0183868408203125,
           0.0211639404296875,
           0.08978271484375,
           0.1627197265625,
           0.08642578125,
           0.04815673828125,
           0.034088134765625,
           0.049102783203125,
           0.0869140625,
           0.04681396484375,
           0.0960693359375,
           0.10260009765625,
           -0.0013494491577148438,
           0.08929443359375,
           0.048431396484375,
           0.033782958984375,
           -0.0267181396484375,
           -0.0665283203125,
           -0.07000732421875,
           0.133056640625,
           -0.0640869140625,
           -0.0187530517578125,
           -0.0144195556640625,
           -0.00823974609375,
           -0.01479339599609375,
           -0.02081298828125,
           0.138427734375,
           0.202392578125,
           0.10284423828125,
           0.047454833984375,
           -0.0238800048828125,
           0.061309814453125,
           0.070068359375,
           0.08978271484375,
           0.13427734375
          ],
          [
           0.09161376953125,
           0.0247650146484375,
           0.0007009506225585938,
           0.02239990234375,
           -0.004596710205078125,
           -0.005138397216796875,
           0.06854248046875,
           0.131591796875,
           0.061187744140625,
           -0.0032482147216796875,
           0.01995849609375,
           0.0134124755859375,
           0.0567626953125,
           0.04705810546875,
           0.1341552734375,
           0.12646484375,
           -0.034454345703125,
           0.07342529296875,
           0.054931640625,
           0.0264434814453125,
           -0.0543212890625,
           -0.06304931640625,
           -0.0433349609375,
           0.1278076171875,
           -0.055206298828125,
           -0.03997802734375,
           -0.038604736328125,
           -0.0499267578125,
           -0.0533447265625,
           -0.04425048828125,
           0.12432861328125,
           0.1812744140625,
           0.065673828125,
           0.034149169921875,
           -0.070068359375,
           0.060882568359375,
           0.07916259765625,
           0.0927734375,
           0.09442138671875
          ],
          [
           0.1080322265625,
           0.028900146484375,
           -0.041595458984375,
           0.0177001953125,
           -0.022735595703125,
           -0.01580810546875,
           0.058502197265625,
           0.07647705078125,
           -0.033538818359375,
           -0.045166015625,
           -0.055389404296875,
           0.034759521484375,
           0.07623291015625,
           0.08428955078125,
           0.1893310546875,
           0.172607421875,
           -0.0457763671875,
           0.064208984375,
           0.029632568359375,
           0.03619384765625,
           -0.0159454345703125,
           -0.1241455078125,
           -0.09759521484375,
           0.049072265625,
           -0.0266571044921875,
           -0.015625,
           -0.00887298583984375,
           -0.093994140625,
           -0.050445556640625,
           -0.0928955078125,
           0.11932373046875,
           0.1346435546875,
           0.04473876953125,
           -0.0271453857421875,
           -0.08746337890625,
           -0.032867431640625,
           -0.0036296844482421875,
           0.033050537109375,
           -0.037322998046875
          ],
          [
           0.0545654296875,
           0.008941650390625,
           -0.06292724609375,
           -0.045867919921875,
           -0.0689697265625,
           -0.0428466796875,
           0.003082275390625,
           0.006473541259765625,
           -0.0684814453125,
           -0.08673095703125,
           -0.059295654296875,
           -0.0170135498046875,
           0.0322265625,
           0.037689208984375,
           0.07550048828125,
           0.025115966796875,
           -0.0904541015625,
           -0.0081939697265625,
           -0.01593017578125,
           -0.036651611328125,
           -0.1351318359375,
           -0.199951171875,
           -0.1805419921875,
           0.030303955078125,
           -0.1495361328125,
           -0.12322998046875,
           -0.05841064453125,
           -0.1083984375,
           -0.0927734375,
           -0.12408447265625,
           0.08709716796875,
           0.08575439453125,
           0.0270538330078125,
           -0.035980224609375,
           -0.168701171875,
           -0.009429931640625,
           -0.01020050048828125,
           -0.01873779296875,
           -0.018585205078125
          ],
          [
           -0.06292724609375,
           -0.055633544921875,
           -0.12286376953125,
           -0.17041015625,
           -0.2073974609375,
           -0.1470947265625,
           -0.2117919921875,
           -0.08306884765625,
           -0.2216796875,
           -0.319091796875,
           -0.232177734375,
           -0.10638427734375,
           -0.037567138671875,
           -0.11279296875,
           -0.08331298828125,
           -0.24462890625,
           -0.218994140625,
           -0.040374755859375,
           -0.091552734375,
           -0.09954833984375,
           -0.12054443359375,
           -0.210693359375,
           -0.21826171875,
           -0.02545166015625,
           -0.3017578125,
           -0.1094970703125,
           -0.1109619140625,
           -0.11383056640625,
           -0.0888671875,
           -0.10052490234375,
           0.11199951171875,
           0.07379150390625,
           0.04241943359375,
           -0.08221435546875,
           -0.18701171875,
           -0.05047607421875,
           -0.0215301513671875,
           0.036407470703125,
           -0.0196380615234375
          ],
          [
           -0.08575439453125,
           0.05523681640625,
           -0.08624267578125,
           -0.16064453125,
           -0.1866455078125,
           -0.18310546875,
           -0.267578125,
           -0.11712646484375,
           -0.2386474609375,
           -0.32568359375,
           -0.17724609375,
           -0.08966064453125,
           0.01271820068359375,
           -0.059906005859375,
           -0.03173828125,
           -0.206787109375,
           -0.1768798828125,
           -0.037261962890625,
           -0.04632568359375,
           -0.11590576171875,
           -0.1337890625,
           -0.255615234375,
           -0.2484130859375,
           -0.044158935546875,
           -0.29541015625,
           -0.0187530517578125,
           -0.047332763671875,
           -0.04681396484375,
           -0.0131072998046875,
           -0.043060302734375,
           0.1051025390625,
           0.0985107421875,
           0.01412200927734375,
           -0.04534912109375,
           -0.119140625,
           0.0028839111328125,
           0.0390625,
           0.08258056640625,
           0.04217529296875
          ],
          [
           -0.0155792236328125,
           0.1495361328125,
           0.0017757415771484375,
           -0.0297698974609375,
           -0.07958984375,
           -0.0174560546875,
           -0.045562744140625,
           -0.181396484375,
           -0.2344970703125,
           -0.1617431640625,
           -0.05413818359375,
           0.0143280029296875,
           0.07940673828125,
           0.07861328125,
           0.10223388671875,
           -0.11566162109375,
           -0.183349609375,
           -0.135986328125,
           -0.08404541015625,
           -0.060028076171875,
           -0.15234375,
           -0.43017578125,
           -0.39013671875,
           -0.2227783203125,
           -0.2880859375,
           0.0169830322265625,
           -0.08404541015625,
           -0.10516357421875,
           -0.05963134765625,
           -0.1275634765625,
           -0.05413818359375,
           -0.0235748291015625,
           -0.0105743408203125,
           -0.132080078125,
           -0.091796875,
           -0.0975341796875,
           -0.047943115234375,
           -0.03515625,
           -0.068603515625
          ],
          [
           -0.04400634765625,
           0.179443359375,
           0.0269012451171875,
           -0.06494140625,
           -0.0538330078125,
           -0.026092529296875,
           -0.1085205078125,
           -0.2027587890625,
           -0.1953125,
           -0.202392578125,
           -0.0176849365234375,
           -0.012908935546875,
           0.11297607421875,
           0.151123046875,
           0.1312255859375,
           -0.069091796875,
           -0.2364501953125,
           -0.2418212890625,
           -0.18212890625,
           -0.17529296875,
           -0.169921875,
           -0.30419921875,
           -0.309814453125,
           -0.1951904296875,
           -0.334228515625,
           0.0008788108825683594,
           -0.09912109375,
           -0.1732177734375,
           -0.043487548828125,
           -0.076171875,
           0.0050201416015625,
           -0.0064239501953125,
           -0.0631103515625,
           -0.12481689453125,
           -0.10113525390625,
           -0.0771484375,
           -0.07879638671875,
           -0.02313232421875,
           -0.11297607421875
          ],
          [
           -0.1854248046875,
           -0.0307464599609375,
           -0.1312255859375,
           -0.1546630859375,
           -0.135009765625,
           -0.07977294921875,
           -0.195068359375,
           -0.3212890625,
           -0.4169921875,
           -0.360107421875,
           -0.2374267578125,
           -0.156982421875,
           -0.032806396484375,
           -0.03253173828125,
           -0.06787109375,
           -0.271240234375,
           -0.40234375,
           -0.365966796875,
           -0.314453125,
           -0.33544921875,
           -0.40380859375,
           -0.365478515625,
           -0.33544921875,
           -0.29248046875,
           -0.418212890625,
           -0.12744140625,
           -0.1824951171875,
           -0.2178955078125,
           -0.15185546875,
           -0.159912109375,
           0.03302001953125,
           -0.0906982421875,
           -0.1737060546875,
           -0.21240234375,
           -0.2105712890625,
           -0.1239013671875,
           -0.18017578125,
           -0.169189453125,
           -0.24609375
          ],
          [
           -0.3623046875,
           -0.0771484375,
           -0.1463623046875,
           -0.2198486328125,
           -0.160400390625,
           -0.1754150390625,
           -0.253662109375,
           -0.251708984375,
           -0.546875,
           -0.52685546875,
           -0.356689453125,
           -0.318115234375,
           -0.087890625,
           -0.1365966796875,
           -0.15625,
           -0.4443359375,
           -0.46630859375,
           -0.377685546875,
           -0.36669921875,
           -0.316162109375,
           -0.373291015625,
           -0.4072265625,
           -0.3095703125,
           -0.39013671875,
           -0.56689453125,
           -0.2010498046875,
           -0.1666259765625,
           -0.25390625,
           -0.227783203125,
           -0.202392578125,
           0.03289794921875,
           -0.1336669921875,
           -0.1064453125,
           -0.2724609375,
           -0.268798828125,
           -0.0963134765625,
           -0.12432861328125,
           -0.08563232421875,
           -0.2069091796875
          ],
          [
           -0.501953125,
           -0.343994140625,
           -0.428466796875,
           -0.495361328125,
           -0.4619140625,
           -0.54931640625,
           -0.60302734375,
           -0.427734375,
           -0.80908203125,
           -0.89208984375,
           -0.435546875,
           -0.369140625,
           -0.07696533203125,
           -0.2174072265625,
           -0.294921875,
           -0.599609375,
           -0.6181640625,
           -0.52392578125,
           -0.54150390625,
           -0.485107421875,
           -0.52734375,
           -0.458251953125,
           -0.239990234375,
           -0.371826171875,
           -0.62353515625,
           -0.192138671875,
           -0.1485595703125,
           -0.1929931640625,
           -0.16748046875,
           -0.1412353515625,
           0.1297607421875,
           -0.026458740234375,
           0.0228271484375,
           -0.1954345703125,
           -0.27734375,
           -0.0345458984375,
           -0.0513916015625,
           0.040008544921875,
           -0.251708984375
          ],
          [
           -0.9345703125,
           -0.91748046875,
           -0.9501953125,
           -0.88525390625,
           -0.85986328125,
           -0.82470703125,
           -0.75732421875,
           -1.1455078125,
           -0.87451171875,
           -1.3154296875,
           -1.1025390625,
           -1.1220703125,
           -0.70703125,
           -0.67138671875,
           -0.7431640625,
           -1.0517578125,
           -0.8408203125,
           -0.77001953125,
           -0.7685546875,
           -0.7822265625,
           -0.6171875,
           -0.53857421875,
           -0.26416015625,
           -0.5791015625,
           -0.7958984375,
           -0.496826171875,
           -0.470458984375,
           -0.484130859375,
           -0.320068359375,
           -0.28173828125,
           -0.019989013671875,
           -0.1942138671875,
           -0.1312255859375,
           -0.45263671875,
           -0.381591796875,
           -0.1800537109375,
           -0.1619873046875,
           -0.1104736328125,
           -0.6865234375
          ],
          [
           -0.70751953125,
           -0.5087890625,
           -0.70556640625,
           -0.73583984375,
           -0.65234375,
           -0.6142578125,
           -0.494873046875,
           -1.0537109375,
           -0.693359375,
           -0.87255859375,
           -0.8583984375,
           -0.880859375,
           -0.473876953125,
           -0.401611328125,
           -0.295654296875,
           -0.95263671875,
           -0.671875,
           -0.697265625,
           -0.68798828125,
           -0.6630859375,
           -0.378173828125,
           -0.393798828125,
           -0.032196044921875,
           -0.435302734375,
           -0.56298828125,
           -0.305419921875,
           -0.38525390625,
           -0.3486328125,
           0.1055908203125,
           0.17626953125,
           0.08258056640625,
           0.027069091796875,
           0.25439453125,
           -0.2369384765625,
           -0.183349609375,
           0.040283203125,
           -0.0635986328125,
           0.004573822021484375,
           -0.60205078125
          ],
          [
           0.07049560546875,
           0.217041015625,
           -0.06414794921875,
           0.052581787109375,
           0.0653076171875,
           0.2626953125,
           0.327880859375,
           -0.094482421875,
           0.303955078125,
           0.030303955078125,
           0.1439208984375,
           0.0220184326171875,
           0.498291015625,
           0.705078125,
           0.7265625,
           0.2191162109375,
           0.441650390625,
           0.426513671875,
           0.48046875,
           0.556640625,
           0.76318359375,
           0.66748046875,
           1.0107421875,
           0.69189453125,
           0.2247314453125,
           0.5517578125,
           0.4794921875,
           0.609375,
           1.1611328125,
           1.1494140625,
           0.9775390625,
           0.96337890625,
           1.13671875,
           0.646484375,
           0.72607421875,
           0.9521484375,
           0.79638671875,
           0.89990234375,
           0.19873046875
          ],
          [
           -0.521484375,
           -0.26123046875,
           -0.544921875,
           -0.42333984375,
           -0.467041015625,
           -0.337646484375,
           -0.119384765625,
           -0.65673828125,
           -0.423095703125,
           -0.65869140625,
           -0.475341796875,
           -0.544921875,
           -0.2342529296875,
           0.1015625,
           -0.00785064697265625,
           -0.67236328125,
           -0.00618743896484375,
           -0.185791015625,
           -0.178955078125,
           -0.325439453125,
           0.09100341796875,
           -0.04803466796875,
           0.5078125,
           -0.091064453125,
           -0.84375,
           -0.439453125,
           -0.318359375,
           -0.006465911865234375,
           0.63232421875,
           0.58251953125,
           0.401611328125,
           0.39111328125,
           0.489013671875,
           -0.022186279296875,
           -0.01258087158203125,
           0.140380859375,
           0.20458984375,
           0.18896484375,
           -0.7314453125
          ],
          [
           -0.92333984375,
           -0.77685546875,
           -1.4794921875,
           -0.95849609375,
           -0.9638671875,
           -1.1259765625,
           -0.43994140625,
           -1.5283203125,
           -0.67431640625,
           -1.1396484375,
           -0.80615234375,
           -1.34375,
           -1.0283203125,
           -0.51806640625,
           -0.314697265625,
           -1.421875,
           -0.326416015625,
           -0.70556640625,
           -0.78515625,
           -0.8896484375,
           -0.224853515625,
           -0.33642578125,
           0.4130859375,
           -0.458251953125,
           -1.1083984375,
           -0.96484375,
           -0.88916015625,
           -0.5087890625,
           0.37060546875,
           0.54736328125,
           0.393310546875,
           0.454345703125,
           0.4013671875,
           -0.193359375,
           -0.2305908203125,
           -0.0233612060546875,
           -0.052825927734375,
           0.14697265625,
           -0.94775390625
          ],
          [
           -1.3642578125,
           -1.1220703125,
           -1.9775390625,
           -1.3427734375,
           -1.2216796875,
           -1.328125,
           -0.65478515625,
           -1.943359375,
           -0.916015625,
           -1.40234375,
           -1.0400390625,
           -1.5615234375,
           -1.2744140625,
           -0.91259765625,
           -0.55029296875,
           -1.548828125,
           -0.623046875,
           -0.9814453125,
           -1.185546875,
           -1.2822265625,
           -0.50244140625,
           -0.68017578125,
           -0.1884765625,
           -0.94189453125,
           -1.4775390625,
           -1.3798828125,
           -1.2177734375,
           -0.828125,
           0.0712890625,
           0.29443359375,
           0.12255859375,
           0.200927734375,
           -0.032470703125,
           -0.52587890625,
           -0.62744140625,
           -0.33837890625,
           -0.274658203125,
           -0.2340087890625,
           -1.21484375
          ],
          [
           -0.5400390625,
           -0.265869140625,
           -1.5791015625,
           -0.857421875,
           -0.818359375,
           -1.017578125,
           -0.10888671875,
           -1.474609375,
           -0.257080078125,
           -0.84326171875,
           -0.428466796875,
           -0.7490234375,
           -0.57861328125,
           -0.03167724609375,
           0.10589599609375,
           -1.158203125,
           0.0657958984375,
           -0.49560546875,
           -0.8515625,
           -0.8154296875,
           0.414306640625,
           0.03076171875,
           0.64501953125,
           -0.2177734375,
           -0.7509765625,
           -0.67236328125,
           -0.6943359375,
           0.004695892333984375,
           0.78466796875,
           1.26171875,
           1.1708984375,
           1.025390625,
           0.8125,
           0.2239990234375,
           0.27783203125,
           0.5302734375,
           0.6953125,
           0.8095703125,
           -0.5390625
          ],
          [
           -1.126953125,
           -0.8408203125,
           -1.9775390625,
           -1.548828125,
           -1.390625,
           -1.5068359375,
           -0.888671875,
           -2.259765625,
           -0.9736328125,
           -1.5048828125,
           -1.232421875,
           -1.572265625,
           -1.1259765625,
           -0.89990234375,
           -0.5146484375,
           -2.068359375,
           -0.82373046875,
           -1.5361328125,
           -1.85546875,
           -1.6318359375,
           -0.288330078125,
           -0.87548828125,
           -0.318603515625,
           -1.169921875,
           -1.740234375,
           -1.580078125,
           -1.5615234375,
           -0.90771484375,
           -0.1700439453125,
           0.431884765625,
           0.509765625,
           0.1844482421875,
           -0.06414794921875,
           -0.6025390625,
           -0.52001953125,
           -0.429443359375,
           -0.1328125,
           0.097412109375,
           -1.27734375
          ],
          [
           -0.13525390625,
           0.050933837890625,
           -0.93017578125,
           -0.4833984375,
           -0.3232421875,
           -0.53759765625,
           -0.046539306640625,
           -1.359375,
           0.276123046875,
           -0.405517578125,
           -0.294189453125,
           -0.422119140625,
           -0.06402587890625,
           0.09637451171875,
           0.339111328125,
           -1.2412109375,
           0.2301025390625,
           -0.42236328125,
           -0.8544921875,
           -0.50439453125,
           0.751953125,
           0.169189453125,
           0.66943359375,
           -0.2225341796875,
           -0.859375,
           -0.73046875,
           -0.65673828125,
           0.136962890625,
           0.8623046875,
           1.56640625,
           1.755859375,
           1.32421875,
           0.962890625,
           0.399169921875,
           0.57470703125,
           0.556640625,
           1.0009765625,
           1.123046875,
           -0.1688232421875
          ],
          [
           -2.07421875,
           -1.8388671875,
           -2.755859375,
           -2.103515625,
           -2.025390625,
           -2.154296875,
           -1.7275390625,
           -3.013671875,
           -1.5166015625,
           -2.046875,
           -2.025390625,
           -2.12109375,
           -1.6044921875,
           -1.466796875,
           -1.3583984375,
           -2.974609375,
           -1.4140625,
           -1.9287109375,
           -2.42578125,
           -2.001953125,
           -0.923828125,
           -1.58984375,
           -1.111328125,
           -2.0390625,
           -2.634765625,
           -2.404296875,
           -2.2890625,
           -1.4921875,
           -0.84619140625,
           0.06072998046875,
           0.1922607421875,
           -0.436279296875,
           -0.61962890625,
           -1.1943359375,
           -0.9365234375,
           -1.013671875,
           -0.8916015625,
           -0.62451171875,
           -1.841796875
          ],
          [
           -2.271484375,
           -2.21875,
           -3.244140625,
           -2.8046875,
           -2.75390625,
           -2.935546875,
           -2.203125,
           -3.24609375,
           -2.009765625,
           -2.771484375,
           -2.748046875,
           -2.47265625,
           -2.125,
           -2.16796875,
           -1.947265625,
           -3.654296875,
           -2.076171875,
           -2.453125,
           -3.08203125,
           -2.61328125,
           -1.34765625,
           -2.05859375,
           -1.453125,
           -2.52734375,
           -3.81640625,
           -3.064453125,
           -2.896484375,
           -1.83203125,
           -1.5439453125,
           -0.67919921875,
           -0.404296875,
           -1.189453125,
           -1.34765625,
           -1.8017578125,
           -1.466796875,
           -1.5966796875,
           -1.2333984375,
           -0.9541015625,
           -2.287109375
          ],
          [
           -1.8134765625,
           -1.7314453125,
           -2.78125,
           -2.38671875,
           -2.251953125,
           -2.201171875,
           -1.3017578125,
           -2.189453125,
           -1.28515625,
           -1.98828125,
           -1.92578125,
           -1.7099609375,
           -1.3994140625,
           -1.3154296875,
           -1.013671875,
           -2.755859375,
           -1.1953125,
           -1.494140625,
           -2.52734375,
           -1.955078125,
           -0.650390625,
           -1.52734375,
           -1.052734375,
           -2.00390625,
           -2.962890625,
           -2.359375,
           -2.45703125,
           -1.0322265625,
           -0.64013671875,
           0.296875,
           0.292236328125,
           -0.2264404296875,
           -0.402099609375,
           -0.94970703125,
           -0.4970703125,
           -0.83447265625,
           -0.33056640625,
           0.04962158203125,
           -1.5166015625
          ],
          [
           -1.8095703125,
           -1.775390625,
           -2.509765625,
           -2.396484375,
           -2.029296875,
           -2.078125,
           -1.326171875,
           -1.654296875,
           -1.3212890625,
           -1.9150390625,
           -2.076171875,
           -1.267578125,
           -1.09765625,
           -1.2001953125,
           -0.955078125,
           -2.943359375,
           -1.2724609375,
           -1.3984375,
           -2.30078125,
           -2,
           -0.42822265625,
           -1.5498046875,
           -0.6865234375,
           -2.0234375,
           -3.365234375,
           -2.1640625,
           -2.041015625,
           -0.92138671875,
           -0.6484375,
           0.8603515625,
           0.448974609375,
           0.1693115234375,
           0.07989501953125,
           -0.587890625,
           -0.2705078125,
           -0.67822265625,
           0.00460052490234375,
           0.322509765625,
           -1.400390625
          ],
          [
           -0.4267578125,
           -0.390869140625,
           -0.64892578125,
           -0.8447265625,
           -0.435791015625,
           -0.45751953125,
           0.467041015625,
           0.2449951171875,
           0.037689208984375,
           -0.63916015625,
           -0.6552734375,
           0.371337890625,
           0.64697265625,
           0.1431884765625,
           0.27197265625,
           -1.7216796875,
           0.0697021484375,
           0.08282470703125,
           -0.93115234375,
           -0.80224609375,
           1.037109375,
           0.05078125,
           1.0693359375,
           -0.8154296875,
           -2.00390625,
           -0.85107421875,
           -0.464111328125,
           0.5849609375,
           0.60498046875,
           1.974609375,
           1.4453125,
           1.505859375,
           1.380859375,
           0.66259765625,
           1.392578125,
           0.52685546875,
           1.279296875,
           1.728515625,
           0.1357421875
          ],
          [
           -2.224609375,
           -2.47265625,
           -2.794921875,
           -3.021484375,
           -2.650390625,
           -2.857421875,
           -1.7119140625,
           -1.9267578125,
           -1.951171875,
           -2.703125,
           -2.65625,
           -1.52734375,
           -1.501953125,
           -1.8837890625,
           -1.5947265625,
           -3.833984375,
           -1.9921875,
           -2.23828125,
           -3.150390625,
           -3.109375,
           -0.953125,
           -1.736328125,
           -0.6123046875,
           -2.732421875,
           -4.12109375,
           -3.361328125,
           -2.955078125,
           -1.30078125,
           -1.58203125,
           0.027374267578125,
           -0.8828125,
           -0.336669921875,
           -0.419677734375,
           -1.50390625,
           -0.68701171875,
           -1.9755859375,
           -0.916015625,
           -0.45947265625,
           -1.9921875
          ],
          [
           -14.2578125,
           -17.375,
           -32.59375,
           -33.71875,
           -25.515625,
           -26.8125,
           -19.625,
           -21.59375,
           -15.5,
           -24.546875,
           -22.59375,
           -10.609375,
           -15.921875,
           -14.71875,
           -15.7421875,
           -48.09375,
           -30.609375,
           -24.078125,
           -33.40625,
           -35.625,
           1.2890625,
           -16.484375,
           9.7890625,
           -22.5,
           -37.625,
           -35.96875,
           -39.15625,
           -9.875,
           -7.84375,
           21.734375,
           3.4453125,
           2.830078125,
           0.053070068359375,
           -13.65625,
           -0.64599609375,
           -17.5625,
           -4.80859375,
           2.693359375,
           -15.5390625
          ]
         ]
        }
       ],
       "layout": {
        "coloraxis": {
         "cmax": 3,
         "cmin": -3,
         "colorscale": [
          [
           0,
           "rgb(165,0,38)"
          ],
          [
           0.1,
           "rgb(215,48,39)"
          ],
          [
           0.2,
           "rgb(244,109,67)"
          ],
          [
           0.3,
           "rgb(253,174,97)"
          ],
          [
           0.4,
           "rgb(254,224,139)"
          ],
          [
           0.5,
           "rgb(255,255,191)"
          ],
          [
           0.6,
           "rgb(217,239,139)"
          ],
          [
           0.7,
           "rgb(166,217,106)"
          ],
          [
           0.8,
           "rgb(102,189,99)"
          ],
          [
           0.9,
           "rgb(26,152,80)"
          ],
          [
           1,
           "rgb(0,104,55)"
          ]
         ]
        },
        "height": 600,
        "margin": {
         "t": 60
        },
        "template": {
         "data": {
          "bar": [
           {
            "error_x": {
             "color": "#2a3f5f"
            },
            "error_y": {
             "color": "#2a3f5f"
            },
            "marker": {
             "line": {
              "color": "#E5ECF6",
              "width": 0.5
             },
             "pattern": {
              "fillmode": "overlay",
              "size": 10,
              "solidity": 0.2
             }
            },
            "type": "bar"
           }
          ],
          "barpolar": [
           {
            "marker": {
             "line": {
              "color": "#E5ECF6",
              "width": 0.5
             },
             "pattern": {
              "fillmode": "overlay",
              "size": 10,
              "solidity": 0.2
             }
            },
            "type": "barpolar"
           }
          ],
          "carpet": [
           {
            "aaxis": {
             "endlinecolor": "#2a3f5f",
             "gridcolor": "white",
             "linecolor": "white",
             "minorgridcolor": "white",
             "startlinecolor": "#2a3f5f"
            },
            "baxis": {
             "endlinecolor": "#2a3f5f",
             "gridcolor": "white",
             "linecolor": "white",
             "minorgridcolor": "white",
             "startlinecolor": "#2a3f5f"
            },
            "type": "carpet"
           }
          ],
          "choropleth": [
           {
            "colorbar": {
             "outlinewidth": 0,
             "ticks": ""
            },
            "type": "choropleth"
           }
          ],
          "contour": [
           {
            "colorbar": {
             "outlinewidth": 0,
             "ticks": ""
            },
            "colorscale": [
             [
              0,
              "#0d0887"
             ],
             [
              0.1111111111111111,
              "#46039f"
             ],
             [
              0.2222222222222222,
              "#7201a8"
             ],
             [
              0.3333333333333333,
              "#9c179e"
             ],
             [
              0.4444444444444444,
              "#bd3786"
             ],
             [
              0.5555555555555556,
              "#d8576b"
             ],
             [
              0.6666666666666666,
              "#ed7953"
             ],
             [
              0.7777777777777778,
              "#fb9f3a"
             ],
             [
              0.8888888888888888,
              "#fdca26"
             ],
             [
              1,
              "#f0f921"
             ]
            ],
            "type": "contour"
           }
          ],
          "contourcarpet": [
           {
            "colorbar": {
             "outlinewidth": 0,
             "ticks": ""
            },
            "type": "contourcarpet"
           }
          ],
          "heatmap": [
           {
            "colorbar": {
             "outlinewidth": 0,
             "ticks": ""
            },
            "colorscale": [
             [
              0,
              "#0d0887"
             ],
             [
              0.1111111111111111,
              "#46039f"
             ],
             [
              0.2222222222222222,
              "#7201a8"
             ],
             [
              0.3333333333333333,
              "#9c179e"
             ],
             [
              0.4444444444444444,
              "#bd3786"
             ],
             [
              0.5555555555555556,
              "#d8576b"
             ],
             [
              0.6666666666666666,
              "#ed7953"
             ],
             [
              0.7777777777777778,
              "#fb9f3a"
             ],
             [
              0.8888888888888888,
              "#fdca26"
             ],
             [
              1,
              "#f0f921"
             ]
            ],
            "type": "heatmap"
           }
          ],
          "heatmapgl": [
           {
            "colorbar": {
             "outlinewidth": 0,
             "ticks": ""
            },
            "colorscale": [
             [
              0,
              "#0d0887"
             ],
             [
              0.1111111111111111,
              "#46039f"
             ],
             [
              0.2222222222222222,
              "#7201a8"
             ],
             [
              0.3333333333333333,
              "#9c179e"
             ],
             [
              0.4444444444444444,
              "#bd3786"
             ],
             [
              0.5555555555555556,
              "#d8576b"
             ],
             [
              0.6666666666666666,
              "#ed7953"
             ],
             [
              0.7777777777777778,
              "#fb9f3a"
             ],
             [
              0.8888888888888888,
              "#fdca26"
             ],
             [
              1,
              "#f0f921"
             ]
            ],
            "type": "heatmapgl"
           }
          ],
          "histogram": [
           {
            "marker": {
             "pattern": {
              "fillmode": "overlay",
              "size": 10,
              "solidity": 0.2
             }
            },
            "type": "histogram"
           }
          ],
          "histogram2d": [
           {
            "colorbar": {
             "outlinewidth": 0,
             "ticks": ""
            },
            "colorscale": [
             [
              0,
              "#0d0887"
             ],
             [
              0.1111111111111111,
              "#46039f"
             ],
             [
              0.2222222222222222,
              "#7201a8"
             ],
             [
              0.3333333333333333,
              "#9c179e"
             ],
             [
              0.4444444444444444,
              "#bd3786"
             ],
             [
              0.5555555555555556,
              "#d8576b"
             ],
             [
              0.6666666666666666,
              "#ed7953"
             ],
             [
              0.7777777777777778,
              "#fb9f3a"
             ],
             [
              0.8888888888888888,
              "#fdca26"
             ],
             [
              1,
              "#f0f921"
             ]
            ],
            "type": "histogram2d"
           }
          ],
          "histogram2dcontour": [
           {
            "colorbar": {
             "outlinewidth": 0,
             "ticks": ""
            },
            "colorscale": [
             [
              0,
              "#0d0887"
             ],
             [
              0.1111111111111111,
              "#46039f"
             ],
             [
              0.2222222222222222,
              "#7201a8"
             ],
             [
              0.3333333333333333,
              "#9c179e"
             ],
             [
              0.4444444444444444,
              "#bd3786"
             ],
             [
              0.5555555555555556,
              "#d8576b"
             ],
             [
              0.6666666666666666,
              "#ed7953"
             ],
             [
              0.7777777777777778,
              "#fb9f3a"
             ],
             [
              0.8888888888888888,
              "#fdca26"
             ],
             [
              1,
              "#f0f921"
             ]
            ],
            "type": "histogram2dcontour"
           }
          ],
          "mesh3d": [
           {
            "colorbar": {
             "outlinewidth": 0,
             "ticks": ""
            },
            "type": "mesh3d"
           }
          ],
          "parcoords": [
           {
            "line": {
             "colorbar": {
              "outlinewidth": 0,
              "ticks": ""
             }
            },
            "type": "parcoords"
           }
          ],
          "pie": [
           {
            "automargin": true,
            "type": "pie"
           }
          ],
          "scatter": [
           {
            "fillpattern": {
             "fillmode": "overlay",
             "size": 10,
             "solidity": 0.2
            },
            "type": "scatter"
           }
          ],
          "scatter3d": [
           {
            "line": {
             "colorbar": {
              "outlinewidth": 0,
              "ticks": ""
             }
            },
            "marker": {
             "colorbar": {
              "outlinewidth": 0,
              "ticks": ""
             }
            },
            "type": "scatter3d"
           }
          ],
          "scattercarpet": [
           {
            "marker": {
             "colorbar": {
              "outlinewidth": 0,
              "ticks": ""
             }
            },
            "type": "scattercarpet"
           }
          ],
          "scattergeo": [
           {
            "marker": {
             "colorbar": {
              "outlinewidth": 0,
              "ticks": ""
             }
            },
            "type": "scattergeo"
           }
          ],
          "scattergl": [
           {
            "marker": {
             "colorbar": {
              "outlinewidth": 0,
              "ticks": ""
             }
            },
            "type": "scattergl"
           }
          ],
          "scattermapbox": [
           {
            "marker": {
             "colorbar": {
              "outlinewidth": 0,
              "ticks": ""
             }
            },
            "type": "scattermapbox"
           }
          ],
          "scatterpolar": [
           {
            "marker": {
             "colorbar": {
              "outlinewidth": 0,
              "ticks": ""
             }
            },
            "type": "scatterpolar"
           }
          ],
          "scatterpolargl": [
           {
            "marker": {
             "colorbar": {
              "outlinewidth": 0,
              "ticks": ""
             }
            },
            "type": "scatterpolargl"
           }
          ],
          "scatterternary": [
           {
            "marker": {
             "colorbar": {
              "outlinewidth": 0,
              "ticks": ""
             }
            },
            "type": "scatterternary"
           }
          ],
          "surface": [
           {
            "colorbar": {
             "outlinewidth": 0,
             "ticks": ""
            },
            "colorscale": [
             [
              0,
              "#0d0887"
             ],
             [
              0.1111111111111111,
              "#46039f"
             ],
             [
              0.2222222222222222,
              "#7201a8"
             ],
             [
              0.3333333333333333,
              "#9c179e"
             ],
             [
              0.4444444444444444,
              "#bd3786"
             ],
             [
              0.5555555555555556,
              "#d8576b"
             ],
             [
              0.6666666666666666,
              "#ed7953"
             ],
             [
              0.7777777777777778,
              "#fb9f3a"
             ],
             [
              0.8888888888888888,
              "#fdca26"
             ],
             [
              1,
              "#f0f921"
             ]
            ],
            "type": "surface"
           }
          ],
          "table": [
           {
            "cells": {
             "fill": {
              "color": "#EBF0F8"
             },
             "line": {
              "color": "white"
             }
            },
            "header": {
             "fill": {
              "color": "#C8D4E3"
             },
             "line": {
              "color": "white"
             }
            },
            "type": "table"
           }
          ]
         },
         "layout": {
          "annotationdefaults": {
           "arrowcolor": "#2a3f5f",
           "arrowhead": 0,
           "arrowwidth": 1
          },
          "autotypenumbers": "strict",
          "coloraxis": {
           "colorbar": {
            "outlinewidth": 0,
            "ticks": ""
           }
          },
          "colorscale": {
           "diverging": [
            [
             0,
             "#8e0152"
            ],
            [
             0.1,
             "#c51b7d"
            ],
            [
             0.2,
             "#de77ae"
            ],
            [
             0.3,
             "#f1b6da"
            ],
            [
             0.4,
             "#fde0ef"
            ],
            [
             0.5,
             "#f7f7f7"
            ],
            [
             0.6,
             "#e6f5d0"
            ],
            [
             0.7,
             "#b8e186"
            ],
            [
             0.8,
             "#7fbc41"
            ],
            [
             0.9,
             "#4d9221"
            ],
            [
             1,
             "#276419"
            ]
           ],
           "sequential": [
            [
             0,
             "#0d0887"
            ],
            [
             0.1111111111111111,
             "#46039f"
            ],
            [
             0.2222222222222222,
             "#7201a8"
            ],
            [
             0.3333333333333333,
             "#9c179e"
            ],
            [
             0.4444444444444444,
             "#bd3786"
            ],
            [
             0.5555555555555556,
             "#d8576b"
            ],
            [
             0.6666666666666666,
             "#ed7953"
            ],
            [
             0.7777777777777778,
             "#fb9f3a"
            ],
            [
             0.8888888888888888,
             "#fdca26"
            ],
            [
             1,
             "#f0f921"
            ]
           ],
           "sequentialminus": [
            [
             0,
             "#0d0887"
            ],
            [
             0.1111111111111111,
             "#46039f"
            ],
            [
             0.2222222222222222,
             "#7201a8"
            ],
            [
             0.3333333333333333,
             "#9c179e"
            ],
            [
             0.4444444444444444,
             "#bd3786"
            ],
            [
             0.5555555555555556,
             "#d8576b"
            ],
            [
             0.6666666666666666,
             "#ed7953"
            ],
            [
             0.7777777777777778,
             "#fb9f3a"
            ],
            [
             0.8888888888888888,
             "#fdca26"
            ],
            [
             1,
             "#f0f921"
            ]
           ]
          },
          "colorway": [
           "#636efa",
           "#EF553B",
           "#00cc96",
           "#ab63fa",
           "#FFA15A",
           "#19d3f3",
           "#FF6692",
           "#B6E880",
           "#FF97FF",
           "#FECB52"
          ],
          "font": {
           "color": "#2a3f5f"
          },
          "geo": {
           "bgcolor": "white",
           "lakecolor": "white",
           "landcolor": "#E5ECF6",
           "showlakes": true,
           "showland": true,
           "subunitcolor": "white"
          },
          "hoverlabel": {
           "align": "left"
          },
          "hovermode": "closest",
          "mapbox": {
           "style": "light"
          },
          "paper_bgcolor": "white",
          "plot_bgcolor": "#E5ECF6",
          "polar": {
           "angularaxis": {
            "gridcolor": "white",
            "linecolor": "white",
            "ticks": ""
           },
           "bgcolor": "#E5ECF6",
           "radialaxis": {
            "gridcolor": "white",
            "linecolor": "white",
            "ticks": ""
           }
          },
          "scene": {
           "xaxis": {
            "backgroundcolor": "#E5ECF6",
            "gridcolor": "white",
            "gridwidth": 2,
            "linecolor": "white",
            "showbackground": true,
            "ticks": "",
            "zerolinecolor": "white"
           },
           "yaxis": {
            "backgroundcolor": "#E5ECF6",
            "gridcolor": "white",
            "gridwidth": 2,
            "linecolor": "white",
            "showbackground": true,
            "ticks": "",
            "zerolinecolor": "white"
           },
           "zaxis": {
            "backgroundcolor": "#E5ECF6",
            "gridcolor": "white",
            "gridwidth": 2,
            "linecolor": "white",
            "showbackground": true,
            "ticks": "",
            "zerolinecolor": "white"
           }
          },
          "shapedefaults": {
           "line": {
            "color": "#2a3f5f"
           }
          },
          "ternary": {
           "aaxis": {
            "gridcolor": "white",
            "linecolor": "white",
            "ticks": ""
           },
           "baxis": {
            "gridcolor": "white",
            "linecolor": "white",
            "ticks": ""
           },
           "bgcolor": "#E5ECF6",
           "caxis": {
            "gridcolor": "white",
            "linecolor": "white",
            "ticks": ""
           }
          },
          "title": {
           "x": 0.05
          },
          "xaxis": {
           "automargin": true,
           "gridcolor": "white",
           "linecolor": "white",
           "ticks": "",
           "title": {
            "standoff": 15
           },
           "zerolinecolor": "white",
           "zerolinewidth": 2
          },
          "yaxis": {
           "automargin": true,
           "gridcolor": "white",
           "linecolor": "white",
           "ticks": "",
           "title": {
            "standoff": 15
           },
           "zerolinecolor": "white",
           "zerolinewidth": 2
          }
         }
        },
        "width": 1000,
        "xaxis": {
         "anchor": "y",
         "autorange": true,
         "constrain": "domain",
         "domain": [
          0.18200091019417475,
          0.8179990898058253
         ],
         "range": [
          -0.5,
          38.5
         ],
         "scaleanchor": "y",
         "ticktext": [
          "▁There",
          "▁are",
          "▁many",
          "▁things",
          "▁that",
          "▁could",
          "▁make",
          "▁me",
          "▁unhappy",
          ",",
          "▁but",
          "▁one",
          "▁specific",
          "▁example",
          "▁would",
          "▁be",
          "▁if",
          "▁I",
          "▁were",
          "▁to",
          "▁lose",
          "▁someone",
          "▁I",
          "▁love",
          ".",
          "▁The",
          "▁sudden",
          "▁absence",
          "▁of",
          "▁a",
          "▁cher",
          "ished",
          "▁family",
          "▁member",
          ",",
          "▁friend",
          ",",
          "▁or",
          "▁partner",
          "▁would"
         ],
         "tickvals": [
          0,
          1,
          2,
          3,
          4,
          5,
          6,
          7,
          8,
          9,
          10,
          11,
          12,
          13,
          14,
          15,
          16,
          17,
          18,
          19,
          20,
          21,
          22,
          23,
          24,
          25,
          26,
          27,
          28,
          29,
          30,
          31,
          32,
          33,
          34,
          35,
          36,
          37,
          38,
          39
         ],
         "title": {
          "text": "Token"
         }
        },
        "yaxis": {
         "anchor": "x",
         "autorange": true,
         "constrain": "domain",
         "domain": [
          0,
          1
         ],
         "range": [
          31.5,
          -0.5
         ]
        }
       }
      },
      "image/png": "[encoded data removed]",
      "text/html": [
       "<div>                            <div id=\"226edc60-8479-47a7-9f83-2e849cc42c8d\" class=\"plotly-graph-div\" style=\"height:600px; width:1000px;\"></div>            <script type=\"text/javascript\">                require([\"plotly\"], function(Plotly) {                    window.PLOTLYENV=window.PLOTLYENV || {};                                    if (document.getElementById(\"226edc60-8479-47a7-9f83-2e849cc42c8d\")) {                    Plotly.newPlot(                        \"226edc60-8479-47a7-9f83-2e849cc42c8d\",                        [{\"coloraxis\":\"coloraxis\",\"name\":\"0\",\"z\":[[-8.130073547363281e-05,-0.006763458251953125,-0.007350921630859375,-0.0005364418029785156,0.0008454322814941406,-0.002048492431640625,-0.01331329345703125,-0.00507354736328125,-0.004421234130859375,-0.0006341934204101562,0.004779815673828125,-0.0024871826171875,0.0181884765625,0.00757598876953125,-0.0032196044921875,-0.005123138427734375,-0.003787994384765625,-0.0156097412109375,-0.0103759765625,-0.003917694091796875,-0.005512237548828125,-0.010894775390625,-0.007251739501953125,-0.0157623291015625,-0.000682830810546875,0.00284576416015625,0.0116424560546875,0.005397796630859375,-0.0028285980224609375,0.0031871795654296875,-0.00803375244140625,-0.0059356689453125,-0.0121307373046875,0.0007314682006835938,-0.00507354736328125,-0.006359100341796875,0.00160980224609375,0.0033664703369140625,0.00533294677734375],[-0.01131439208984375,-0.0110015869140625,-0.00989532470703125,-0.008026123046875,0.0011091232299804688,0.0095367431640625,0.01512908935546875,0.0106048583984375,0.00408172607421875,0.041473388671875,0.0240020751953125,0.0243072509765625,0.005809783935546875,8.869171142578125e-05,0.0186309814453125,0.0024394989013671875,0.0025730133056640625,0.014678955078125,0.0123291015625,0.00691986083984375,-0.003326416015625,0.00217437744140625,0.0178375244140625,0.0110015869140625,0.00971221923828125,-0.0018186569213867188,-0.017791748046875,-0.003192901611328125,-0.0142364501953125,0.01512908935546875,0.008026123046875,0.004169464111328125,-0.00891876220703125,0.0218658447265625,0.039031982421875,0.0089569091796875,0.036773681640625,0.032073974609375,0.01348114013671875],[0.043304443359375,0.0125274658203125,0.019866943359375,0.007770538330078125,-0.0003883838653564453,-0.004924774169921875,-0.00418853759765625,-0.01180267333984375,0.006053924560546875,-0.0207672119140625,-0.0189056396484375,-0.0171356201171875,-0.022125244140625,0.00371551513671875,-0.01326751708984375,-0.02020263671875,-0.0225677490234375,-0.03131103515625,-0.03631591796875,-0.011260986328125,-0.0186309814453125,-0.0029735565185546875,-0.042724609375,-0.01285552978515625,-0.031005859375,-0.00919342041015625,-0.035003662109375,-0.0211334228515625,-0.032958984375,-0.0194244384765625,-0.006427764892578125,-0.0241851806640625,0.00994110107421875,-0.01177215576171875,-0.0270233154296875,-0.04583740234375,-0.036529541015625,-0.04437255859375,-0.006763458251953125],[0.042816162109375,0.01983642578125,0.0126953125,0.0023441314697265625,-0.01198577880859375,0.0141754150390625,0.0034275054931640625,0.061004638671875,0.035675048828125,0.061004638671875,0.08477783203125,0.089599609375,0.08251953125,0.10687255859375,0.10784912109375,0.0958251953125,0.06829833984375,0.06378173828125,0.02703857421875,0.05120849609375,-0.020294189453125,0.0121307373046875,0.026031494140625,0.042144775390625,0.032196044921875,0.043853759765625,0.046630859375,0.025360107421875,-0.0242767333984375,-0.0247802734375,0.00450897216796875,-0.0036373138427734375,-0.02801513671875,-0.0033779144287109375,-0.006519317626953125,0.01291656494140625,0.03631591796875,0.0496826171875,0.00215911865234375],[0.091796875,0.10211181640625,0.08685302734375,0.07305908203125,0.08197021484375,0.08868408203125,0.06744384765625,0.1202392578125,0.041351318359375,0.08819580078125,0.10650634765625,0.07427978515625,0.10638427734375,0.1025390625,0.1270751953125,0.126708984375,0.046844482421875,0.0965576171875,0.06817626953125,0.08599853515625,-0.062225341796875,-0.04351806640625,-0.044830322265625,0.05859375,-0.05181884765625,0.01446533203125,0.0214385986328125,-0.021148681640625,-0.036346435546875,-0.055816650390625,0.06658935546875,0.109619140625,0.033538818359375,-0.00847625732421875,-0.0972900390625,0.0175018310546875,0.04327392578125,0.07989501953125,0.0760498046875],[0.09478759765625,0.037445068359375,0.0484619140625,0.023529052734375,0.0183868408203125,0.0211639404296875,0.08978271484375,0.1627197265625,0.08642578125,0.04815673828125,0.034088134765625,0.049102783203125,0.0869140625,0.04681396484375,0.0960693359375,0.10260009765625,-0.0013494491577148438,0.08929443359375,0.048431396484375,0.033782958984375,-0.0267181396484375,-0.0665283203125,-0.07000732421875,0.133056640625,-0.0640869140625,-0.0187530517578125,-0.0144195556640625,-0.00823974609375,-0.01479339599609375,-0.02081298828125,0.138427734375,0.202392578125,0.10284423828125,0.047454833984375,-0.0238800048828125,0.061309814453125,0.070068359375,0.08978271484375,0.13427734375],[0.09161376953125,0.0247650146484375,0.0007009506225585938,0.02239990234375,-0.004596710205078125,-0.005138397216796875,0.06854248046875,0.131591796875,0.061187744140625,-0.0032482147216796875,0.01995849609375,0.0134124755859375,0.0567626953125,0.04705810546875,0.1341552734375,0.12646484375,-0.034454345703125,0.07342529296875,0.054931640625,0.0264434814453125,-0.0543212890625,-0.06304931640625,-0.0433349609375,0.1278076171875,-0.055206298828125,-0.03997802734375,-0.038604736328125,-0.0499267578125,-0.0533447265625,-0.04425048828125,0.12432861328125,0.1812744140625,0.065673828125,0.034149169921875,-0.070068359375,0.060882568359375,0.07916259765625,0.0927734375,0.09442138671875],[0.1080322265625,0.028900146484375,-0.041595458984375,0.0177001953125,-0.022735595703125,-0.01580810546875,0.058502197265625,0.07647705078125,-0.033538818359375,-0.045166015625,-0.055389404296875,0.034759521484375,0.07623291015625,0.08428955078125,0.1893310546875,0.172607421875,-0.0457763671875,0.064208984375,0.029632568359375,0.03619384765625,-0.0159454345703125,-0.1241455078125,-0.09759521484375,0.049072265625,-0.0266571044921875,-0.015625,-0.00887298583984375,-0.093994140625,-0.050445556640625,-0.0928955078125,0.11932373046875,0.1346435546875,0.04473876953125,-0.0271453857421875,-0.08746337890625,-0.032867431640625,-0.0036296844482421875,0.033050537109375,-0.037322998046875],[0.0545654296875,0.008941650390625,-0.06292724609375,-0.045867919921875,-0.0689697265625,-0.0428466796875,0.003082275390625,0.006473541259765625,-0.0684814453125,-0.08673095703125,-0.059295654296875,-0.0170135498046875,0.0322265625,0.037689208984375,0.07550048828125,0.025115966796875,-0.0904541015625,-0.0081939697265625,-0.01593017578125,-0.036651611328125,-0.1351318359375,-0.199951171875,-0.1805419921875,0.030303955078125,-0.1495361328125,-0.12322998046875,-0.05841064453125,-0.1083984375,-0.0927734375,-0.12408447265625,0.08709716796875,0.08575439453125,0.0270538330078125,-0.035980224609375,-0.168701171875,-0.009429931640625,-0.01020050048828125,-0.01873779296875,-0.018585205078125],[-0.06292724609375,-0.055633544921875,-0.12286376953125,-0.17041015625,-0.2073974609375,-0.1470947265625,-0.2117919921875,-0.08306884765625,-0.2216796875,-0.319091796875,-0.232177734375,-0.10638427734375,-0.037567138671875,-0.11279296875,-0.08331298828125,-0.24462890625,-0.218994140625,-0.040374755859375,-0.091552734375,-0.09954833984375,-0.12054443359375,-0.210693359375,-0.21826171875,-0.02545166015625,-0.3017578125,-0.1094970703125,-0.1109619140625,-0.11383056640625,-0.0888671875,-0.10052490234375,0.11199951171875,0.07379150390625,0.04241943359375,-0.08221435546875,-0.18701171875,-0.05047607421875,-0.0215301513671875,0.036407470703125,-0.0196380615234375],[-0.08575439453125,0.05523681640625,-0.08624267578125,-0.16064453125,-0.1866455078125,-0.18310546875,-0.267578125,-0.11712646484375,-0.2386474609375,-0.32568359375,-0.17724609375,-0.08966064453125,0.01271820068359375,-0.059906005859375,-0.03173828125,-0.206787109375,-0.1768798828125,-0.037261962890625,-0.04632568359375,-0.11590576171875,-0.1337890625,-0.255615234375,-0.2484130859375,-0.044158935546875,-0.29541015625,-0.0187530517578125,-0.047332763671875,-0.04681396484375,-0.0131072998046875,-0.043060302734375,0.1051025390625,0.0985107421875,0.01412200927734375,-0.04534912109375,-0.119140625,0.0028839111328125,0.0390625,0.08258056640625,0.04217529296875],[-0.0155792236328125,0.1495361328125,0.0017757415771484375,-0.0297698974609375,-0.07958984375,-0.0174560546875,-0.045562744140625,-0.181396484375,-0.2344970703125,-0.1617431640625,-0.05413818359375,0.0143280029296875,0.07940673828125,0.07861328125,0.10223388671875,-0.11566162109375,-0.183349609375,-0.135986328125,-0.08404541015625,-0.060028076171875,-0.15234375,-0.43017578125,-0.39013671875,-0.2227783203125,-0.2880859375,0.0169830322265625,-0.08404541015625,-0.10516357421875,-0.05963134765625,-0.1275634765625,-0.05413818359375,-0.0235748291015625,-0.0105743408203125,-0.132080078125,-0.091796875,-0.0975341796875,-0.047943115234375,-0.03515625,-0.068603515625],[-0.04400634765625,0.179443359375,0.0269012451171875,-0.06494140625,-0.0538330078125,-0.026092529296875,-0.1085205078125,-0.2027587890625,-0.1953125,-0.202392578125,-0.0176849365234375,-0.012908935546875,0.11297607421875,0.151123046875,0.1312255859375,-0.069091796875,-0.2364501953125,-0.2418212890625,-0.18212890625,-0.17529296875,-0.169921875,-0.30419921875,-0.309814453125,-0.1951904296875,-0.334228515625,0.0008788108825683594,-0.09912109375,-0.1732177734375,-0.043487548828125,-0.076171875,0.0050201416015625,-0.0064239501953125,-0.0631103515625,-0.12481689453125,-0.10113525390625,-0.0771484375,-0.07879638671875,-0.02313232421875,-0.11297607421875],[-0.1854248046875,-0.0307464599609375,-0.1312255859375,-0.1546630859375,-0.135009765625,-0.07977294921875,-0.195068359375,-0.3212890625,-0.4169921875,-0.360107421875,-0.2374267578125,-0.156982421875,-0.032806396484375,-0.03253173828125,-0.06787109375,-0.271240234375,-0.40234375,-0.365966796875,-0.314453125,-0.33544921875,-0.40380859375,-0.365478515625,-0.33544921875,-0.29248046875,-0.418212890625,-0.12744140625,-0.1824951171875,-0.2178955078125,-0.15185546875,-0.159912109375,0.03302001953125,-0.0906982421875,-0.1737060546875,-0.21240234375,-0.2105712890625,-0.1239013671875,-0.18017578125,-0.169189453125,-0.24609375],[-0.3623046875,-0.0771484375,-0.1463623046875,-0.2198486328125,-0.160400390625,-0.1754150390625,-0.253662109375,-0.251708984375,-0.546875,-0.52685546875,-0.356689453125,-0.318115234375,-0.087890625,-0.1365966796875,-0.15625,-0.4443359375,-0.46630859375,-0.377685546875,-0.36669921875,-0.316162109375,-0.373291015625,-0.4072265625,-0.3095703125,-0.39013671875,-0.56689453125,-0.2010498046875,-0.1666259765625,-0.25390625,-0.227783203125,-0.202392578125,0.03289794921875,-0.1336669921875,-0.1064453125,-0.2724609375,-0.268798828125,-0.0963134765625,-0.12432861328125,-0.08563232421875,-0.2069091796875],[-0.501953125,-0.343994140625,-0.428466796875,-0.495361328125,-0.4619140625,-0.54931640625,-0.60302734375,-0.427734375,-0.80908203125,-0.89208984375,-0.435546875,-0.369140625,-0.07696533203125,-0.2174072265625,-0.294921875,-0.599609375,-0.6181640625,-0.52392578125,-0.54150390625,-0.485107421875,-0.52734375,-0.458251953125,-0.239990234375,-0.371826171875,-0.62353515625,-0.192138671875,-0.1485595703125,-0.1929931640625,-0.16748046875,-0.1412353515625,0.1297607421875,-0.026458740234375,0.0228271484375,-0.1954345703125,-0.27734375,-0.0345458984375,-0.0513916015625,0.040008544921875,-0.251708984375],[-0.9345703125,-0.91748046875,-0.9501953125,-0.88525390625,-0.85986328125,-0.82470703125,-0.75732421875,-1.1455078125,-0.87451171875,-1.3154296875,-1.1025390625,-1.1220703125,-0.70703125,-0.67138671875,-0.7431640625,-1.0517578125,-0.8408203125,-0.77001953125,-0.7685546875,-0.7822265625,-0.6171875,-0.53857421875,-0.26416015625,-0.5791015625,-0.7958984375,-0.496826171875,-0.470458984375,-0.484130859375,-0.320068359375,-0.28173828125,-0.019989013671875,-0.1942138671875,-0.1312255859375,-0.45263671875,-0.381591796875,-0.1800537109375,-0.1619873046875,-0.1104736328125,-0.6865234375],[-0.70751953125,-0.5087890625,-0.70556640625,-0.73583984375,-0.65234375,-0.6142578125,-0.494873046875,-1.0537109375,-0.693359375,-0.87255859375,-0.8583984375,-0.880859375,-0.473876953125,-0.401611328125,-0.295654296875,-0.95263671875,-0.671875,-0.697265625,-0.68798828125,-0.6630859375,-0.378173828125,-0.393798828125,-0.032196044921875,-0.435302734375,-0.56298828125,-0.305419921875,-0.38525390625,-0.3486328125,0.1055908203125,0.17626953125,0.08258056640625,0.027069091796875,0.25439453125,-0.2369384765625,-0.183349609375,0.040283203125,-0.0635986328125,0.004573822021484375,-0.60205078125],[0.07049560546875,0.217041015625,-0.06414794921875,0.052581787109375,0.0653076171875,0.2626953125,0.327880859375,-0.094482421875,0.303955078125,0.030303955078125,0.1439208984375,0.0220184326171875,0.498291015625,0.705078125,0.7265625,0.2191162109375,0.441650390625,0.426513671875,0.48046875,0.556640625,0.76318359375,0.66748046875,1.0107421875,0.69189453125,0.2247314453125,0.5517578125,0.4794921875,0.609375,1.1611328125,1.1494140625,0.9775390625,0.96337890625,1.13671875,0.646484375,0.72607421875,0.9521484375,0.79638671875,0.89990234375,0.19873046875],[-0.521484375,-0.26123046875,-0.544921875,-0.42333984375,-0.467041015625,-0.337646484375,-0.119384765625,-0.65673828125,-0.423095703125,-0.65869140625,-0.475341796875,-0.544921875,-0.2342529296875,0.1015625,-0.00785064697265625,-0.67236328125,-0.00618743896484375,-0.185791015625,-0.178955078125,-0.325439453125,0.09100341796875,-0.04803466796875,0.5078125,-0.091064453125,-0.84375,-0.439453125,-0.318359375,-0.006465911865234375,0.63232421875,0.58251953125,0.401611328125,0.39111328125,0.489013671875,-0.022186279296875,-0.01258087158203125,0.140380859375,0.20458984375,0.18896484375,-0.7314453125],[-0.92333984375,-0.77685546875,-1.4794921875,-0.95849609375,-0.9638671875,-1.1259765625,-0.43994140625,-1.5283203125,-0.67431640625,-1.1396484375,-0.80615234375,-1.34375,-1.0283203125,-0.51806640625,-0.314697265625,-1.421875,-0.326416015625,-0.70556640625,-0.78515625,-0.8896484375,-0.224853515625,-0.33642578125,0.4130859375,-0.458251953125,-1.1083984375,-0.96484375,-0.88916015625,-0.5087890625,0.37060546875,0.54736328125,0.393310546875,0.454345703125,0.4013671875,-0.193359375,-0.2305908203125,-0.0233612060546875,-0.052825927734375,0.14697265625,-0.94775390625],[-1.3642578125,-1.1220703125,-1.9775390625,-1.3427734375,-1.2216796875,-1.328125,-0.65478515625,-1.943359375,-0.916015625,-1.40234375,-1.0400390625,-1.5615234375,-1.2744140625,-0.91259765625,-0.55029296875,-1.548828125,-0.623046875,-0.9814453125,-1.185546875,-1.2822265625,-0.50244140625,-0.68017578125,-0.1884765625,-0.94189453125,-1.4775390625,-1.3798828125,-1.2177734375,-0.828125,0.0712890625,0.29443359375,0.12255859375,0.200927734375,-0.032470703125,-0.52587890625,-0.62744140625,-0.33837890625,-0.274658203125,-0.2340087890625,-1.21484375],[-0.5400390625,-0.265869140625,-1.5791015625,-0.857421875,-0.818359375,-1.017578125,-0.10888671875,-1.474609375,-0.257080078125,-0.84326171875,-0.428466796875,-0.7490234375,-0.57861328125,-0.03167724609375,0.10589599609375,-1.158203125,0.0657958984375,-0.49560546875,-0.8515625,-0.8154296875,0.414306640625,0.03076171875,0.64501953125,-0.2177734375,-0.7509765625,-0.67236328125,-0.6943359375,0.004695892333984375,0.78466796875,1.26171875,1.1708984375,1.025390625,0.8125,0.2239990234375,0.27783203125,0.5302734375,0.6953125,0.8095703125,-0.5390625],[-1.126953125,-0.8408203125,-1.9775390625,-1.548828125,-1.390625,-1.5068359375,-0.888671875,-2.259765625,-0.9736328125,-1.5048828125,-1.232421875,-1.572265625,-1.1259765625,-0.89990234375,-0.5146484375,-2.068359375,-0.82373046875,-1.5361328125,-1.85546875,-1.6318359375,-0.288330078125,-0.87548828125,-0.318603515625,-1.169921875,-1.740234375,-1.580078125,-1.5615234375,-0.90771484375,-0.1700439453125,0.431884765625,0.509765625,0.1844482421875,-0.06414794921875,-0.6025390625,-0.52001953125,-0.429443359375,-0.1328125,0.097412109375,-1.27734375],[-0.13525390625,0.050933837890625,-0.93017578125,-0.4833984375,-0.3232421875,-0.53759765625,-0.046539306640625,-1.359375,0.276123046875,-0.405517578125,-0.294189453125,-0.422119140625,-0.06402587890625,0.09637451171875,0.339111328125,-1.2412109375,0.2301025390625,-0.42236328125,-0.8544921875,-0.50439453125,0.751953125,0.169189453125,0.66943359375,-0.2225341796875,-0.859375,-0.73046875,-0.65673828125,0.136962890625,0.8623046875,1.56640625,1.755859375,1.32421875,0.962890625,0.399169921875,0.57470703125,0.556640625,1.0009765625,1.123046875,-0.1688232421875],[-2.07421875,-1.8388671875,-2.755859375,-2.103515625,-2.025390625,-2.154296875,-1.7275390625,-3.013671875,-1.5166015625,-2.046875,-2.025390625,-2.12109375,-1.6044921875,-1.466796875,-1.3583984375,-2.974609375,-1.4140625,-1.9287109375,-2.42578125,-2.001953125,-0.923828125,-1.58984375,-1.111328125,-2.0390625,-2.634765625,-2.404296875,-2.2890625,-1.4921875,-0.84619140625,0.06072998046875,0.1922607421875,-0.436279296875,-0.61962890625,-1.1943359375,-0.9365234375,-1.013671875,-0.8916015625,-0.62451171875,-1.841796875],[-2.271484375,-2.21875,-3.244140625,-2.8046875,-2.75390625,-2.935546875,-2.203125,-3.24609375,-2.009765625,-2.771484375,-2.748046875,-2.47265625,-2.125,-2.16796875,-1.947265625,-3.654296875,-2.076171875,-2.453125,-3.08203125,-2.61328125,-1.34765625,-2.05859375,-1.453125,-2.52734375,-3.81640625,-3.064453125,-2.896484375,-1.83203125,-1.5439453125,-0.67919921875,-0.404296875,-1.189453125,-1.34765625,-1.8017578125,-1.466796875,-1.5966796875,-1.2333984375,-0.9541015625,-2.287109375],[-1.8134765625,-1.7314453125,-2.78125,-2.38671875,-2.251953125,-2.201171875,-1.3017578125,-2.189453125,-1.28515625,-1.98828125,-1.92578125,-1.7099609375,-1.3994140625,-1.3154296875,-1.013671875,-2.755859375,-1.1953125,-1.494140625,-2.52734375,-1.955078125,-0.650390625,-1.52734375,-1.052734375,-2.00390625,-2.962890625,-2.359375,-2.45703125,-1.0322265625,-0.64013671875,0.296875,0.292236328125,-0.2264404296875,-0.402099609375,-0.94970703125,-0.4970703125,-0.83447265625,-0.33056640625,0.04962158203125,-1.5166015625],[-1.8095703125,-1.775390625,-2.509765625,-2.396484375,-2.029296875,-2.078125,-1.326171875,-1.654296875,-1.3212890625,-1.9150390625,-2.076171875,-1.267578125,-1.09765625,-1.2001953125,-0.955078125,-2.943359375,-1.2724609375,-1.3984375,-2.30078125,-2.0,-0.42822265625,-1.5498046875,-0.6865234375,-2.0234375,-3.365234375,-2.1640625,-2.041015625,-0.92138671875,-0.6484375,0.8603515625,0.448974609375,0.1693115234375,0.07989501953125,-0.587890625,-0.2705078125,-0.67822265625,0.00460052490234375,0.322509765625,-1.400390625],[-0.4267578125,-0.390869140625,-0.64892578125,-0.8447265625,-0.435791015625,-0.45751953125,0.467041015625,0.2449951171875,0.037689208984375,-0.63916015625,-0.6552734375,0.371337890625,0.64697265625,0.1431884765625,0.27197265625,-1.7216796875,0.0697021484375,0.08282470703125,-0.93115234375,-0.80224609375,1.037109375,0.05078125,1.0693359375,-0.8154296875,-2.00390625,-0.85107421875,-0.464111328125,0.5849609375,0.60498046875,1.974609375,1.4453125,1.505859375,1.380859375,0.66259765625,1.392578125,0.52685546875,1.279296875,1.728515625,0.1357421875],[-2.224609375,-2.47265625,-2.794921875,-3.021484375,-2.650390625,-2.857421875,-1.7119140625,-1.9267578125,-1.951171875,-2.703125,-2.65625,-1.52734375,-1.501953125,-1.8837890625,-1.5947265625,-3.833984375,-1.9921875,-2.23828125,-3.150390625,-3.109375,-0.953125,-1.736328125,-0.6123046875,-2.732421875,-4.12109375,-3.361328125,-2.955078125,-1.30078125,-1.58203125,0.027374267578125,-0.8828125,-0.336669921875,-0.419677734375,-1.50390625,-0.68701171875,-1.9755859375,-0.916015625,-0.45947265625,-1.9921875],[-14.2578125,-17.375,-32.59375,-33.71875,-25.515625,-26.8125,-19.625,-21.59375,-15.5,-24.546875,-22.59375,-10.609375,-15.921875,-14.71875,-15.7421875,-48.09375,-30.609375,-24.078125,-33.40625,-35.625,1.2890625,-16.484375,9.7890625,-22.5,-37.625,-35.96875,-39.15625,-9.875,-7.84375,21.734375,3.4453125,2.830078125,0.053070068359375,-13.65625,-0.64599609375,-17.5625,-4.80859375,2.693359375,-15.5390625]],\"type\":\"heatmap\",\"xaxis\":\"x\",\"yaxis\":\"y\",\"hovertemplate\":\"Token: %{x}\\u003cbr\\u003ey: %{y}\\u003cbr\\u003ecolor: %{z}\\u003cextra\\u003e\\u003c\\u002fextra\\u003e\"}],                        {\"template\":{\"data\":{\"histogram2dcontour\":[{\"type\":\"histogram2dcontour\",\"colorbar\":{\"outlinewidth\":0,\"ticks\":\"\"},\"colorscale\":[[0.0,\"#0d0887\"],[0.1111111111111111,\"#46039f\"],[0.2222222222222222,\"#7201a8\"],[0.3333333333333333,\"#9c179e\"],[0.4444444444444444,\"#bd3786\"],[0.5555555555555556,\"#d8576b\"],[0.6666666666666666,\"#ed7953\"],[0.7777777777777778,\"#fb9f3a\"],[0.8888888888888888,\"#fdca26\"],[1.0,\"#f0f921\"]]}],\"choropleth\":[{\"type\":\"choropleth\",\"colorbar\":{\"outlinewidth\":0,\"ticks\":\"\"}}],\"histogram2d\":[{\"type\":\"histogram2d\",\"colorbar\":{\"outlinewidth\":0,\"ticks\":\"\"},\"colorscale\":[[0.0,\"#0d0887\"],[0.1111111111111111,\"#46039f\"],[0.2222222222222222,\"#7201a8\"],[0.3333333333333333,\"#9c179e\"],[0.4444444444444444,\"#bd3786\"],[0.5555555555555556,\"#d8576b\"],[0.6666666666666666,\"#ed7953\"],[0.7777777777777778,\"#fb9f3a\"],[0.8888888888888888,\"#fdca26\"],[1.0,\"#f0f921\"]]}],\"heatmap\":[{\"type\":\"heatmap\",\"colorbar\":{\"outlinewidth\":0,\"ticks\":\"\"},\"colorscale\":[[0.0,\"#0d0887\"],[0.1111111111111111,\"#46039f\"],[0.2222222222222222,\"#7201a8\"],[0.3333333333333333,\"#9c179e\"],[0.4444444444444444,\"#bd3786\"],[0.5555555555555556,\"#d8576b\"],[0.6666666666666666,\"#ed7953\"],[0.7777777777777778,\"#fb9f3a\"],[0.8888888888888888,\"#fdca26\"],[1.0,\"#f0f921\"]]}],\"heatmapgl\":[{\"type\":\"heatmapgl\",\"colorbar\":{\"outlinewidth\":0,\"ticks\":\"\"},\"colorscale\":[[0.0,\"#0d0887\"],[0.1111111111111111,\"#46039f\"],[0.2222222222222222,\"#7201a8\"],[0.3333333333333333,\"#9c179e\"],[0.4444444444444444,\"#bd3786\"],[0.5555555555555556,\"#d8576b\"],[0.6666666666666666,\"#ed7953\"],[0.7777777777777778,\"#fb9f3a\"],[0.8888888888888888,\"#fdca26\"],[1.0,\"#f0f921\"]]}],\"contourcarpet\":[{\"type\":\"contourcarpet\",\"colorbar\":{\"outlinewidth\":0,\"ticks\":\"\"}}],\"contour\":[{\"type\":\"contour\",\"colorbar\":{\"outlinewidth\":0,\"ticks\":\"\"},\"colorscale\":[[0.0,\"#0d0887\"],[0.1111111111111111,\"#46039f\"],[0.2222222222222222,\"#7201a8\"],[0.3333333333333333,\"#9c179e\"],[0.4444444444444444,\"#bd3786\"],[0.5555555555555556,\"#d8576b\"],[0.6666666666666666,\"#ed7953\"],[0.7777777777777778,\"#fb9f3a\"],[0.8888888888888888,\"#fdca26\"],[1.0,\"#f0f921\"]]}],\"surface\":[{\"type\":\"surface\",\"colorbar\":{\"outlinewidth\":0,\"ticks\":\"\"},\"colorscale\":[[0.0,\"#0d0887\"],[0.1111111111111111,\"#46039f\"],[0.2222222222222222,\"#7201a8\"],[0.3333333333333333,\"#9c179e\"],[0.4444444444444444,\"#bd3786\"],[0.5555555555555556,\"#d8576b\"],[0.6666666666666666,\"#ed7953\"],[0.7777777777777778,\"#fb9f3a\"],[0.8888888888888888,\"#fdca26\"],[1.0,\"#f0f921\"]]}],\"mesh3d\":[{\"type\":\"mesh3d\",\"colorbar\":{\"outlinewidth\":0,\"ticks\":\"\"}}],\"scatter\":[{\"fillpattern\":{\"fillmode\":\"overlay\",\"size\":10,\"solidity\":0.2},\"type\":\"scatter\"}],\"parcoords\":[{\"type\":\"parcoords\",\"line\":{\"colorbar\":{\"outlinewidth\":0,\"ticks\":\"\"}}}],\"scatterpolargl\":[{\"type\":\"scatterpolargl\",\"marker\":{\"colorbar\":{\"outlinewidth\":0,\"ticks\":\"\"}}}],\"bar\":[{\"error_x\":{\"color\":\"#2a3f5f\"},\"error_y\":{\"color\":\"#2a3f5f\"},\"marker\":{\"line\":{\"color\":\"#E5ECF6\",\"width\":0.5},\"pattern\":{\"fillmode\":\"overlay\",\"size\":10,\"solidity\":0.2}},\"type\":\"bar\"}],\"scattergeo\":[{\"type\":\"scattergeo\",\"marker\":{\"colorbar\":{\"outlinewidth\":0,\"ticks\":\"\"}}}],\"scatterpolar\":[{\"type\":\"scatterpolar\",\"marker\":{\"colorbar\":{\"outlinewidth\":0,\"ticks\":\"\"}}}],\"histogram\":[{\"marker\":{\"pattern\":{\"fillmode\":\"overlay\",\"size\":10,\"solidity\":0.2}},\"type\":\"histogram\"}],\"scattergl\":[{\"type\":\"scattergl\",\"marker\":{\"colorbar\":{\"outlinewidth\":0,\"ticks\":\"\"}}}],\"scatter3d\":[{\"type\":\"scatter3d\",\"line\":{\"colorbar\":{\"outlinewidth\":0,\"ticks\":\"\"}},\"marker\":{\"colorbar\":{\"outlinewidth\":0,\"ticks\":\"\"}}}],\"scattermapbox\":[{\"type\":\"scattermapbox\",\"marker\":{\"colorbar\":{\"outlinewidth\":0,\"ticks\":\"\"}}}],\"scatterternary\":[{\"type\":\"scatterternary\",\"marker\":{\"colorbar\":{\"outlinewidth\":0,\"ticks\":\"\"}}}],\"scattercarpet\":[{\"type\":\"scattercarpet\",\"marker\":{\"colorbar\":{\"outlinewidth\":0,\"ticks\":\"\"}}}],\"carpet\":[{\"aaxis\":{\"endlinecolor\":\"#2a3f5f\",\"gridcolor\":\"white\",\"linecolor\":\"white\",\"minorgridcolor\":\"white\",\"startlinecolor\":\"#2a3f5f\"},\"baxis\":{\"endlinecolor\":\"#2a3f5f\",\"gridcolor\":\"white\",\"linecolor\":\"white\",\"minorgridcolor\":\"white\",\"startlinecolor\":\"#2a3f5f\"},\"type\":\"carpet\"}],\"table\":[{\"cells\":{\"fill\":{\"color\":\"#EBF0F8\"},\"line\":{\"color\":\"white\"}},\"header\":{\"fill\":{\"color\":\"#C8D4E3\"},\"line\":{\"color\":\"white\"}},\"type\":\"table\"}],\"barpolar\":[{\"marker\":{\"line\":{\"color\":\"#E5ECF6\",\"width\":0.5},\"pattern\":{\"fillmode\":\"overlay\",\"size\":10,\"solidity\":0.2}},\"type\":\"barpolar\"}],\"pie\":[{\"automargin\":true,\"type\":\"pie\"}]},\"layout\":{\"autotypenumbers\":\"strict\",\"colorway\":[\"#636efa\",\"#EF553B\",\"#00cc96\",\"#ab63fa\",\"#FFA15A\",\"#19d3f3\",\"#FF6692\",\"#B6E880\",\"#FF97FF\",\"#FECB52\"],\"font\":{\"color\":\"#2a3f5f\"},\"hovermode\":\"closest\",\"hoverlabel\":{\"align\":\"left\"},\"paper_bgcolor\":\"white\",\"plot_bgcolor\":\"#E5ECF6\",\"polar\":{\"bgcolor\":\"#E5ECF6\",\"angularaxis\":{\"gridcolor\":\"white\",\"linecolor\":\"white\",\"ticks\":\"\"},\"radialaxis\":{\"gridcolor\":\"white\",\"linecolor\":\"white\",\"ticks\":\"\"}},\"ternary\":{\"bgcolor\":\"#E5ECF6\",\"aaxis\":{\"gridcolor\":\"white\",\"linecolor\":\"white\",\"ticks\":\"\"},\"baxis\":{\"gridcolor\":\"white\",\"linecolor\":\"white\",\"ticks\":\"\"},\"caxis\":{\"gridcolor\":\"white\",\"linecolor\":\"white\",\"ticks\":\"\"}},\"coloraxis\":{\"colorbar\":{\"outlinewidth\":0,\"ticks\":\"\"}},\"colorscale\":{\"sequential\":[[0.0,\"#0d0887\"],[0.1111111111111111,\"#46039f\"],[0.2222222222222222,\"#7201a8\"],[0.3333333333333333,\"#9c179e\"],[0.4444444444444444,\"#bd3786\"],[0.5555555555555556,\"#d8576b\"],[0.6666666666666666,\"#ed7953\"],[0.7777777777777778,\"#fb9f3a\"],[0.8888888888888888,\"#fdca26\"],[1.0,\"#f0f921\"]],\"sequentialminus\":[[0.0,\"#0d0887\"],[0.1111111111111111,\"#46039f\"],[0.2222222222222222,\"#7201a8\"],[0.3333333333333333,\"#9c179e\"],[0.4444444444444444,\"#bd3786\"],[0.5555555555555556,\"#d8576b\"],[0.6666666666666666,\"#ed7953\"],[0.7777777777777778,\"#fb9f3a\"],[0.8888888888888888,\"#fdca26\"],[1.0,\"#f0f921\"]],\"diverging\":[[0,\"#8e0152\"],[0.1,\"#c51b7d\"],[0.2,\"#de77ae\"],[0.3,\"#f1b6da\"],[0.4,\"#fde0ef\"],[0.5,\"#f7f7f7\"],[0.6,\"#e6f5d0\"],[0.7,\"#b8e186\"],[0.8,\"#7fbc41\"],[0.9,\"#4d9221\"],[1,\"#276419\"]]},\"xaxis\":{\"gridcolor\":\"white\",\"linecolor\":\"white\",\"ticks\":\"\",\"title\":{\"standoff\":15},\"zerolinecolor\":\"white\",\"automargin\":true,\"zerolinewidth\":2},\"yaxis\":{\"gridcolor\":\"white\",\"linecolor\":\"white\",\"ticks\":\"\",\"title\":{\"standoff\":15},\"zerolinecolor\":\"white\",\"automargin\":true,\"zerolinewidth\":2},\"scene\":{\"xaxis\":{\"backgroundcolor\":\"#E5ECF6\",\"gridcolor\":\"white\",\"linecolor\":\"white\",\"showbackground\":true,\"ticks\":\"\",\"zerolinecolor\":\"white\",\"gridwidth\":2},\"yaxis\":{\"backgroundcolor\":\"#E5ECF6\",\"gridcolor\":\"white\",\"linecolor\":\"white\",\"showbackground\":true,\"ticks\":\"\",\"zerolinecolor\":\"white\",\"gridwidth\":2},\"zaxis\":{\"backgroundcolor\":\"#E5ECF6\",\"gridcolor\":\"white\",\"linecolor\":\"white\",\"showbackground\":true,\"ticks\":\"\",\"zerolinecolor\":\"white\",\"gridwidth\":2}},\"shapedefaults\":{\"line\":{\"color\":\"#2a3f5f\"}},\"annotationdefaults\":{\"arrowcolor\":\"#2a3f5f\",\"arrowhead\":0,\"arrowwidth\":1},\"geo\":{\"bgcolor\":\"white\",\"landcolor\":\"#E5ECF6\",\"subunitcolor\":\"white\",\"showland\":true,\"showlakes\":true,\"lakecolor\":\"white\"},\"title\":{\"x\":0.05},\"mapbox\":{\"style\":\"light\"}}},\"xaxis\":{\"anchor\":\"y\",\"domain\":[0.0,1.0],\"scaleanchor\":\"y\",\"constrain\":\"domain\",\"title\":{\"text\":\"Token\"},\"tickvals\":[0,1,2,3,4,5,6,7,8,9,10,11,12,13,14,15,16,17,18,19,20,21,22,23,24,25,26,27,28,29,30,31,32,33,34,35,36,37,38,39],\"ticktext\":[\"\\u2581There\",\"\\u2581are\",\"\\u2581many\",\"\\u2581things\",\"\\u2581that\",\"\\u2581could\",\"\\u2581make\",\"\\u2581me\",\"\\u2581unhappy\",\",\",\"\\u2581but\",\"\\u2581one\",\"\\u2581specific\",\"\\u2581example\",\"\\u2581would\",\"\\u2581be\",\"\\u2581if\",\"\\u2581I\",\"\\u2581were\",\"\\u2581to\",\"\\u2581lose\",\"\\u2581someone\",\"\\u2581I\",\"\\u2581love\",\".\",\"\\u2581The\",\"\\u2581sudden\",\"\\u2581absence\",\"\\u2581of\",\"\\u2581a\",\"\\u2581cher\",\"ished\",\"\\u2581family\",\"\\u2581member\",\",\",\"\\u2581friend\",\",\",\"\\u2581or\",\"\\u2581partner\",\"\\u2581would\"]},\"yaxis\":{\"anchor\":\"x\",\"domain\":[0.0,1.0],\"autorange\":\"reversed\",\"constrain\":\"domain\"},\"coloraxis\":{\"colorscale\":[[0.0,\"rgb(165,0,38)\"],[0.1,\"rgb(215,48,39)\"],[0.2,\"rgb(244,109,67)\"],[0.3,\"rgb(253,174,97)\"],[0.4,\"rgb(254,224,139)\"],[0.5,\"rgb(255,255,191)\"],[0.6,\"rgb(217,239,139)\"],[0.7,\"rgb(166,217,106)\"],[0.8,\"rgb(102,189,99)\"],[0.9,\"rgb(26,152,80)\"],[1.0,\"rgb(0,104,55)\"]],\"cmin\":-3,\"cmax\":3},\"margin\":{\"t\":60},\"width\":1000,\"height\":600},                        {\"responsive\": true}                    ).then(function(){\n",
       "                            \n",
       "var gd = document.getElementById('226edc60-8479-47a7-9f83-2e849cc42c8d');\n",
       "var x = new MutationObserver(function (mutations, observer) {{\n",
       "        var display = window.getComputedStyle(gd).display;\n",
       "        if (!display || display === 'none') {{\n",
       "            console.log([gd, 'removed!']);\n",
       "            Plotly.purge(gd);\n",
       "            observer.disconnect();\n",
       "        }}\n",
       "}});\n",
       "\n",
       "// Listen for the removal of the full notebook cells\n",
       "var notebookContainer = gd.closest('#notebook-container');\n",
       "if (notebookContainer) {{\n",
       "    x.observe(notebookContainer, {childList: true});\n",
       "}}\n",
       "\n",
       "// Listen for the clearing of the current output cell\n",
       "var outputEl = gd.closest('.output');\n",
       "if (outputEl) {{\n",
       "    x.observe(outputEl, {childList: true});\n",
       "}}\n",
       "\n",
       "                        })                };                });            </script>        </div>"
      ]
     },
     "metadata": {},
     "output_type": "display_data"
    }
   ],
   "source": [
    "from lmdoctor.plot_utils import plot_projection_heatmap\n",
    "tokens = tokenizer.tokenize(text)\n",
    "plot_projection_heatmap(all_projs, tokens, lastn_tokens_to_plot=len(tokens), saturate_at=3)"
   ]
  },
  {
   "cell_type": "code",
   "execution_count": 20,
   "id": "19186584-d731-4e54-9b29-521cc69bae5a",
   "metadata": {},
   "outputs": [
    {
     "data": {
      "application/vnd.plotly.v1+json": {
       "config": {
        "plotlyServerURL": "https://plot.ly"
       },
       "data": [
        {
         "coloraxis": "coloraxis",
         "hovertemplate": "Token: %{x}<br>y: %{y}<br>color: %{z}<extra></extra>",
         "name": "0",
         "type": "heatmap",
         "xaxis": "x",
         "yaxis": "y",
         "z": [
          [
           -0.44140625,
           -0.2685546875,
           -0.5849609375,
           -0.46044921875,
           -0.443115234375,
           -0.440185546875,
           -0.281005859375,
           -0.67724609375,
           -0.442626953125,
           -0.64208984375,
           -0.43408203125,
           -0.515625,
           -0.2734375,
           -0.14697265625,
           -0.105712890625,
           -0.60986328125,
           -0.304443359375,
           -0.36669921875,
           -0.400390625,
           -0.41357421875,
           -0.166748046875,
           -0.266357421875,
           0.0028705596923828125,
           -0.25537109375,
           -0.58154296875,
           -0.309814453125,
           -0.3095703125,
           -0.1904296875,
           0.1466064453125,
           0.2056884765625,
           0.2493896484375,
           0.1971435546875,
           0.189697265625,
           -0.1160888671875,
           -0.12054443359375,
           0.0460205078125,
           0.048431396484375,
           0.11083984375,
           -0.384765625
          ]
         ]
        }
       ],
       "layout": {
        "autosize": true,
        "coloraxis": {
         "cmax": 0.67724609375,
         "cmin": -0.67724609375,
         "colorscale": [
          [
           0,
           "rgb(165,0,38)"
          ],
          [
           0.1,
           "rgb(215,48,39)"
          ],
          [
           0.2,
           "rgb(244,109,67)"
          ],
          [
           0.3,
           "rgb(253,174,97)"
          ],
          [
           0.4,
           "rgb(254,224,139)"
          ],
          [
           0.5,
           "rgb(255,255,191)"
          ],
          [
           0.6,
           "rgb(217,239,139)"
          ],
          [
           0.7,
           "rgb(166,217,106)"
          ],
          [
           0.8,
           "rgb(102,189,99)"
          ],
          [
           0.9,
           "rgb(26,152,80)"
          ],
          [
           1,
           "rgb(0,104,55)"
          ]
         ]
        },
        "margin": {
         "t": 60
        },
        "template": {
         "data": {
          "bar": [
           {
            "error_x": {
             "color": "#2a3f5f"
            },
            "error_y": {
             "color": "#2a3f5f"
            },
            "marker": {
             "line": {
              "color": "#E5ECF6",
              "width": 0.5
             },
             "pattern": {
              "fillmode": "overlay",
              "size": 10,
              "solidity": 0.2
             }
            },
            "type": "bar"
           }
          ],
          "barpolar": [
           {
            "marker": {
             "line": {
              "color": "#E5ECF6",
              "width": 0.5
             },
             "pattern": {
              "fillmode": "overlay",
              "size": 10,
              "solidity": 0.2
             }
            },
            "type": "barpolar"
           }
          ],
          "carpet": [
           {
            "aaxis": {
             "endlinecolor": "#2a3f5f",
             "gridcolor": "white",
             "linecolor": "white",
             "minorgridcolor": "white",
             "startlinecolor": "#2a3f5f"
            },
            "baxis": {
             "endlinecolor": "#2a3f5f",
             "gridcolor": "white",
             "linecolor": "white",
             "minorgridcolor": "white",
             "startlinecolor": "#2a3f5f"
            },
            "type": "carpet"
           }
          ],
          "choropleth": [
           {
            "colorbar": {
             "outlinewidth": 0,
             "ticks": ""
            },
            "type": "choropleth"
           }
          ],
          "contour": [
           {
            "colorbar": {
             "outlinewidth": 0,
             "ticks": ""
            },
            "colorscale": [
             [
              0,
              "#0d0887"
             ],
             [
              0.1111111111111111,
              "#46039f"
             ],
             [
              0.2222222222222222,
              "#7201a8"
             ],
             [
              0.3333333333333333,
              "#9c179e"
             ],
             [
              0.4444444444444444,
              "#bd3786"
             ],
             [
              0.5555555555555556,
              "#d8576b"
             ],
             [
              0.6666666666666666,
              "#ed7953"
             ],
             [
              0.7777777777777778,
              "#fb9f3a"
             ],
             [
              0.8888888888888888,
              "#fdca26"
             ],
             [
              1,
              "#f0f921"
             ]
            ],
            "type": "contour"
           }
          ],
          "contourcarpet": [
           {
            "colorbar": {
             "outlinewidth": 0,
             "ticks": ""
            },
            "type": "contourcarpet"
           }
          ],
          "heatmap": [
           {
            "colorbar": {
             "outlinewidth": 0,
             "ticks": ""
            },
            "colorscale": [
             [
              0,
              "#0d0887"
             ],
             [
              0.1111111111111111,
              "#46039f"
             ],
             [
              0.2222222222222222,
              "#7201a8"
             ],
             [
              0.3333333333333333,
              "#9c179e"
             ],
             [
              0.4444444444444444,
              "#bd3786"
             ],
             [
              0.5555555555555556,
              "#d8576b"
             ],
             [
              0.6666666666666666,
              "#ed7953"
             ],
             [
              0.7777777777777778,
              "#fb9f3a"
             ],
             [
              0.8888888888888888,
              "#fdca26"
             ],
             [
              1,
              "#f0f921"
             ]
            ],
            "type": "heatmap"
           }
          ],
          "heatmapgl": [
           {
            "colorbar": {
             "outlinewidth": 0,
             "ticks": ""
            },
            "colorscale": [
             [
              0,
              "#0d0887"
             ],
             [
              0.1111111111111111,
              "#46039f"
             ],
             [
              0.2222222222222222,
              "#7201a8"
             ],
             [
              0.3333333333333333,
              "#9c179e"
             ],
             [
              0.4444444444444444,
              "#bd3786"
             ],
             [
              0.5555555555555556,
              "#d8576b"
             ],
             [
              0.6666666666666666,
              "#ed7953"
             ],
             [
              0.7777777777777778,
              "#fb9f3a"
             ],
             [
              0.8888888888888888,
              "#fdca26"
             ],
             [
              1,
              "#f0f921"
             ]
            ],
            "type": "heatmapgl"
           }
          ],
          "histogram": [
           {
            "marker": {
             "pattern": {
              "fillmode": "overlay",
              "size": 10,
              "solidity": 0.2
             }
            },
            "type": "histogram"
           }
          ],
          "histogram2d": [
           {
            "colorbar": {
             "outlinewidth": 0,
             "ticks": ""
            },
            "colorscale": [
             [
              0,
              "#0d0887"
             ],
             [
              0.1111111111111111,
              "#46039f"
             ],
             [
              0.2222222222222222,
              "#7201a8"
             ],
             [
              0.3333333333333333,
              "#9c179e"
             ],
             [
              0.4444444444444444,
              "#bd3786"
             ],
             [
              0.5555555555555556,
              "#d8576b"
             ],
             [
              0.6666666666666666,
              "#ed7953"
             ],
             [
              0.7777777777777778,
              "#fb9f3a"
             ],
             [
              0.8888888888888888,
              "#fdca26"
             ],
             [
              1,
              "#f0f921"
             ]
            ],
            "type": "histogram2d"
           }
          ],
          "histogram2dcontour": [
           {
            "colorbar": {
             "outlinewidth": 0,
             "ticks": ""
            },
            "colorscale": [
             [
              0,
              "#0d0887"
             ],
             [
              0.1111111111111111,
              "#46039f"
             ],
             [
              0.2222222222222222,
              "#7201a8"
             ],
             [
              0.3333333333333333,
              "#9c179e"
             ],
             [
              0.4444444444444444,
              "#bd3786"
             ],
             [
              0.5555555555555556,
              "#d8576b"
             ],
             [
              0.6666666666666666,
              "#ed7953"
             ],
             [
              0.7777777777777778,
              "#fb9f3a"
             ],
             [
              0.8888888888888888,
              "#fdca26"
             ],
             [
              1,
              "#f0f921"
             ]
            ],
            "type": "histogram2dcontour"
           }
          ],
          "mesh3d": [
           {
            "colorbar": {
             "outlinewidth": 0,
             "ticks": ""
            },
            "type": "mesh3d"
           }
          ],
          "parcoords": [
           {
            "line": {
             "colorbar": {
              "outlinewidth": 0,
              "ticks": ""
             }
            },
            "type": "parcoords"
           }
          ],
          "pie": [
           {
            "automargin": true,
            "type": "pie"
           }
          ],
          "scatter": [
           {
            "fillpattern": {
             "fillmode": "overlay",
             "size": 10,
             "solidity": 0.2
            },
            "type": "scatter"
           }
          ],
          "scatter3d": [
           {
            "line": {
             "colorbar": {
              "outlinewidth": 0,
              "ticks": ""
             }
            },
            "marker": {
             "colorbar": {
              "outlinewidth": 0,
              "ticks": ""
             }
            },
            "type": "scatter3d"
           }
          ],
          "scattercarpet": [
           {
            "marker": {
             "colorbar": {
              "outlinewidth": 0,
              "ticks": ""
             }
            },
            "type": "scattercarpet"
           }
          ],
          "scattergeo": [
           {
            "marker": {
             "colorbar": {
              "outlinewidth": 0,
              "ticks": ""
             }
            },
            "type": "scattergeo"
           }
          ],
          "scattergl": [
           {
            "marker": {
             "colorbar": {
              "outlinewidth": 0,
              "ticks": ""
             }
            },
            "type": "scattergl"
           }
          ],
          "scattermapbox": [
           {
            "marker": {
             "colorbar": {
              "outlinewidth": 0,
              "ticks": ""
             }
            },
            "type": "scattermapbox"
           }
          ],
          "scatterpolar": [
           {
            "marker": {
             "colorbar": {
              "outlinewidth": 0,
              "ticks": ""
             }
            },
            "type": "scatterpolar"
           }
          ],
          "scatterpolargl": [
           {
            "marker": {
             "colorbar": {
              "outlinewidth": 0,
              "ticks": ""
             }
            },
            "type": "scatterpolargl"
           }
          ],
          "scatterternary": [
           {
            "marker": {
             "colorbar": {
              "outlinewidth": 0,
              "ticks": ""
             }
            },
            "type": "scatterternary"
           }
          ],
          "surface": [
           {
            "colorbar": {
             "outlinewidth": 0,
             "ticks": ""
            },
            "colorscale": [
             [
              0,
              "#0d0887"
             ],
             [
              0.1111111111111111,
              "#46039f"
             ],
             [
              0.2222222222222222,
              "#7201a8"
             ],
             [
              0.3333333333333333,
              "#9c179e"
             ],
             [
              0.4444444444444444,
              "#bd3786"
             ],
             [
              0.5555555555555556,
              "#d8576b"
             ],
             [
              0.6666666666666666,
              "#ed7953"
             ],
             [
              0.7777777777777778,
              "#fb9f3a"
             ],
             [
              0.8888888888888888,
              "#fdca26"
             ],
             [
              1,
              "#f0f921"
             ]
            ],
            "type": "surface"
           }
          ],
          "table": [
           {
            "cells": {
             "fill": {
              "color": "#EBF0F8"
             },
             "line": {
              "color": "white"
             }
            },
            "header": {
             "fill": {
              "color": "#C8D4E3"
             },
             "line": {
              "color": "white"
             }
            },
            "type": "table"
           }
          ]
         },
         "layout": {
          "annotationdefaults": {
           "arrowcolor": "#2a3f5f",
           "arrowhead": 0,
           "arrowwidth": 1
          },
          "autotypenumbers": "strict",
          "coloraxis": {
           "colorbar": {
            "outlinewidth": 0,
            "ticks": ""
           }
          },
          "colorscale": {
           "diverging": [
            [
             0,
             "#8e0152"
            ],
            [
             0.1,
             "#c51b7d"
            ],
            [
             0.2,
             "#de77ae"
            ],
            [
             0.3,
             "#f1b6da"
            ],
            [
             0.4,
             "#fde0ef"
            ],
            [
             0.5,
             "#f7f7f7"
            ],
            [
             0.6,
             "#e6f5d0"
            ],
            [
             0.7,
             "#b8e186"
            ],
            [
             0.8,
             "#7fbc41"
            ],
            [
             0.9,
             "#4d9221"
            ],
            [
             1,
             "#276419"
            ]
           ],
           "sequential": [
            [
             0,
             "#0d0887"
            ],
            [
             0.1111111111111111,
             "#46039f"
            ],
            [
             0.2222222222222222,
             "#7201a8"
            ],
            [
             0.3333333333333333,
             "#9c179e"
            ],
            [
             0.4444444444444444,
             "#bd3786"
            ],
            [
             0.5555555555555556,
             "#d8576b"
            ],
            [
             0.6666666666666666,
             "#ed7953"
            ],
            [
             0.7777777777777778,
             "#fb9f3a"
            ],
            [
             0.8888888888888888,
             "#fdca26"
            ],
            [
             1,
             "#f0f921"
            ]
           ],
           "sequentialminus": [
            [
             0,
             "#0d0887"
            ],
            [
             0.1111111111111111,
             "#46039f"
            ],
            [
             0.2222222222222222,
             "#7201a8"
            ],
            [
             0.3333333333333333,
             "#9c179e"
            ],
            [
             0.4444444444444444,
             "#bd3786"
            ],
            [
             0.5555555555555556,
             "#d8576b"
            ],
            [
             0.6666666666666666,
             "#ed7953"
            ],
            [
             0.7777777777777778,
             "#fb9f3a"
            ],
            [
             0.8888888888888888,
             "#fdca26"
            ],
            [
             1,
             "#f0f921"
            ]
           ]
          },
          "colorway": [
           "#636efa",
           "#EF553B",
           "#00cc96",
           "#ab63fa",
           "#FFA15A",
           "#19d3f3",
           "#FF6692",
           "#B6E880",
           "#FF97FF",
           "#FECB52"
          ],
          "font": {
           "color": "#2a3f5f"
          },
          "geo": {
           "bgcolor": "white",
           "lakecolor": "white",
           "landcolor": "#E5ECF6",
           "showlakes": true,
           "showland": true,
           "subunitcolor": "white"
          },
          "hoverlabel": {
           "align": "left"
          },
          "hovermode": "closest",
          "mapbox": {
           "style": "light"
          },
          "paper_bgcolor": "white",
          "plot_bgcolor": "#E5ECF6",
          "polar": {
           "angularaxis": {
            "gridcolor": "white",
            "linecolor": "white",
            "ticks": ""
           },
           "bgcolor": "#E5ECF6",
           "radialaxis": {
            "gridcolor": "white",
            "linecolor": "white",
            "ticks": ""
           }
          },
          "scene": {
           "xaxis": {
            "backgroundcolor": "#E5ECF6",
            "gridcolor": "white",
            "gridwidth": 2,
            "linecolor": "white",
            "showbackground": true,
            "ticks": "",
            "zerolinecolor": "white"
           },
           "yaxis": {
            "backgroundcolor": "#E5ECF6",
            "gridcolor": "white",
            "gridwidth": 2,
            "linecolor": "white",
            "showbackground": true,
            "ticks": "",
            "zerolinecolor": "white"
           },
           "zaxis": {
            "backgroundcolor": "#E5ECF6",
            "gridcolor": "white",
            "gridwidth": 2,
            "linecolor": "white",
            "showbackground": true,
            "ticks": "",
            "zerolinecolor": "white"
           }
          },
          "shapedefaults": {
           "line": {
            "color": "#2a3f5f"
           }
          },
          "ternary": {
           "aaxis": {
            "gridcolor": "white",
            "linecolor": "white",
            "ticks": ""
           },
           "baxis": {
            "gridcolor": "white",
            "linecolor": "white",
            "ticks": ""
           },
           "bgcolor": "#E5ECF6",
           "caxis": {
            "gridcolor": "white",
            "linecolor": "white",
            "ticks": ""
           }
          },
          "title": {
           "x": 0.05
          },
          "xaxis": {
           "automargin": true,
           "gridcolor": "white",
           "linecolor": "white",
           "ticks": "",
           "title": {
            "standoff": 15
           },
           "zerolinecolor": "white",
           "zerolinewidth": 2
          },
          "yaxis": {
           "automargin": true,
           "gridcolor": "white",
           "linecolor": "white",
           "ticks": "",
           "title": {
            "standoff": 15
           },
           "zerolinecolor": "white",
           "zerolinewidth": 2
          }
         }
        },
        "xaxis": {
         "anchor": "y",
         "autorange": true,
         "constrain": "domain",
         "domain": [
          0,
          1
         ],
         "range": [
          -0.5,
          38.5
         ],
         "scaleanchor": "y",
         "tickangle": -45,
         "tickfont": {
          "size": 20
         },
         "ticktext": [
          "▁There",
          "▁are",
          "▁many",
          "▁things",
          "▁that",
          "▁could",
          "▁make",
          "▁me",
          "▁unhappy",
          ",",
          "▁but",
          "▁one",
          "▁specific",
          "▁example",
          "▁would",
          "▁be",
          "▁if",
          "▁I",
          "▁were",
          "▁to",
          "▁lose",
          "▁someone",
          "▁I",
          "▁love",
          ".",
          "▁The",
          "▁sudden",
          "▁absence",
          "▁of",
          "▁a",
          "▁cher",
          "ished",
          "▁family",
          "▁member",
          ",",
          "▁friend",
          ",",
          "▁or",
          "▁partner",
          "▁would"
         ],
         "tickvals": [
          0,
          1,
          2,
          3,
          4,
          5,
          6,
          7,
          8,
          9,
          10,
          11,
          12,
          13,
          14,
          15,
          16,
          17,
          18,
          19,
          20,
          21,
          22,
          23,
          24,
          25,
          26,
          27,
          28,
          29,
          30,
          31,
          32,
          33,
          34,
          35,
          36,
          37,
          38,
          39
         ],
         "title": {
          "text": "Token"
         }
        },
        "yaxis": {
         "anchor": "x",
         "autorange": true,
         "constrain": "domain",
         "domain": [
          0.4530885780885781,
          0.546911421911422
         ],
         "range": [
          0.5,
          -0.5
         ]
        }
       }
      },
      "image/png": "[encoded data removed]",
      "text/html": [
       "<div>                            <div id=\"0c2e3103-073c-4d2c-9350-45a06058e74e\" class=\"plotly-graph-div\" style=\"height:525px; width:100%;\"></div>            <script type=\"text/javascript\">                require([\"plotly\"], function(Plotly) {                    window.PLOTLYENV=window.PLOTLYENV || {};                                    if (document.getElementById(\"0c2e3103-073c-4d2c-9350-45a06058e74e\")) {                    Plotly.newPlot(                        \"0c2e3103-073c-4d2c-9350-45a06058e74e\",                        [{\"coloraxis\":\"coloraxis\",\"name\":\"0\",\"z\":[[-0.44140625,-0.2685546875,-0.5849609375,-0.46044921875,-0.443115234375,-0.440185546875,-0.281005859375,-0.67724609375,-0.442626953125,-0.64208984375,-0.43408203125,-0.515625,-0.2734375,-0.14697265625,-0.105712890625,-0.60986328125,-0.304443359375,-0.36669921875,-0.400390625,-0.41357421875,-0.166748046875,-0.266357421875,0.0028705596923828125,-0.25537109375,-0.58154296875,-0.309814453125,-0.3095703125,-0.1904296875,0.1466064453125,0.2056884765625,0.2493896484375,0.1971435546875,0.189697265625,-0.1160888671875,-0.12054443359375,0.0460205078125,0.048431396484375,0.11083984375,-0.384765625]],\"type\":\"heatmap\",\"xaxis\":\"x\",\"yaxis\":\"y\",\"hovertemplate\":\"Token: %{x}\\u003cbr\\u003ey: %{y}\\u003cbr\\u003ecolor: %{z}\\u003cextra\\u003e\\u003c\\u002fextra\\u003e\"}],                        {\"template\":{\"data\":{\"histogram2dcontour\":[{\"type\":\"histogram2dcontour\",\"colorbar\":{\"outlinewidth\":0,\"ticks\":\"\"},\"colorscale\":[[0.0,\"#0d0887\"],[0.1111111111111111,\"#46039f\"],[0.2222222222222222,\"#7201a8\"],[0.3333333333333333,\"#9c179e\"],[0.4444444444444444,\"#bd3786\"],[0.5555555555555556,\"#d8576b\"],[0.6666666666666666,\"#ed7953\"],[0.7777777777777778,\"#fb9f3a\"],[0.8888888888888888,\"#fdca26\"],[1.0,\"#f0f921\"]]}],\"choropleth\":[{\"type\":\"choropleth\",\"colorbar\":{\"outlinewidth\":0,\"ticks\":\"\"}}],\"histogram2d\":[{\"type\":\"histogram2d\",\"colorbar\":{\"outlinewidth\":0,\"ticks\":\"\"},\"colorscale\":[[0.0,\"#0d0887\"],[0.1111111111111111,\"#46039f\"],[0.2222222222222222,\"#7201a8\"],[0.3333333333333333,\"#9c179e\"],[0.4444444444444444,\"#bd3786\"],[0.5555555555555556,\"#d8576b\"],[0.6666666666666666,\"#ed7953\"],[0.7777777777777778,\"#fb9f3a\"],[0.8888888888888888,\"#fdca26\"],[1.0,\"#f0f921\"]]}],\"heatmap\":[{\"type\":\"heatmap\",\"colorbar\":{\"outlinewidth\":0,\"ticks\":\"\"},\"colorscale\":[[0.0,\"#0d0887\"],[0.1111111111111111,\"#46039f\"],[0.2222222222222222,\"#7201a8\"],[0.3333333333333333,\"#9c179e\"],[0.4444444444444444,\"#bd3786\"],[0.5555555555555556,\"#d8576b\"],[0.6666666666666666,\"#ed7953\"],[0.7777777777777778,\"#fb9f3a\"],[0.8888888888888888,\"#fdca26\"],[1.0,\"#f0f921\"]]}],\"heatmapgl\":[{\"type\":\"heatmapgl\",\"colorbar\":{\"outlinewidth\":0,\"ticks\":\"\"},\"colorscale\":[[0.0,\"#0d0887\"],[0.1111111111111111,\"#46039f\"],[0.2222222222222222,\"#7201a8\"],[0.3333333333333333,\"#9c179e\"],[0.4444444444444444,\"#bd3786\"],[0.5555555555555556,\"#d8576b\"],[0.6666666666666666,\"#ed7953\"],[0.7777777777777778,\"#fb9f3a\"],[0.8888888888888888,\"#fdca26\"],[1.0,\"#f0f921\"]]}],\"contourcarpet\":[{\"type\":\"contourcarpet\",\"colorbar\":{\"outlinewidth\":0,\"ticks\":\"\"}}],\"contour\":[{\"type\":\"contour\",\"colorbar\":{\"outlinewidth\":0,\"ticks\":\"\"},\"colorscale\":[[0.0,\"#0d0887\"],[0.1111111111111111,\"#46039f\"],[0.2222222222222222,\"#7201a8\"],[0.3333333333333333,\"#9c179e\"],[0.4444444444444444,\"#bd3786\"],[0.5555555555555556,\"#d8576b\"],[0.6666666666666666,\"#ed7953\"],[0.7777777777777778,\"#fb9f3a\"],[0.8888888888888888,\"#fdca26\"],[1.0,\"#f0f921\"]]}],\"surface\":[{\"type\":\"surface\",\"colorbar\":{\"outlinewidth\":0,\"ticks\":\"\"},\"colorscale\":[[0.0,\"#0d0887\"],[0.1111111111111111,\"#46039f\"],[0.2222222222222222,\"#7201a8\"],[0.3333333333333333,\"#9c179e\"],[0.4444444444444444,\"#bd3786\"],[0.5555555555555556,\"#d8576b\"],[0.6666666666666666,\"#ed7953\"],[0.7777777777777778,\"#fb9f3a\"],[0.8888888888888888,\"#fdca26\"],[1.0,\"#f0f921\"]]}],\"mesh3d\":[{\"type\":\"mesh3d\",\"colorbar\":{\"outlinewidth\":0,\"ticks\":\"\"}}],\"scatter\":[{\"fillpattern\":{\"fillmode\":\"overlay\",\"size\":10,\"solidity\":0.2},\"type\":\"scatter\"}],\"parcoords\":[{\"type\":\"parcoords\",\"line\":{\"colorbar\":{\"outlinewidth\":0,\"ticks\":\"\"}}}],\"scatterpolargl\":[{\"type\":\"scatterpolargl\",\"marker\":{\"colorbar\":{\"outlinewidth\":0,\"ticks\":\"\"}}}],\"bar\":[{\"error_x\":{\"color\":\"#2a3f5f\"},\"error_y\":{\"color\":\"#2a3f5f\"},\"marker\":{\"line\":{\"color\":\"#E5ECF6\",\"width\":0.5},\"pattern\":{\"fillmode\":\"overlay\",\"size\":10,\"solidity\":0.2}},\"type\":\"bar\"}],\"scattergeo\":[{\"type\":\"scattergeo\",\"marker\":{\"colorbar\":{\"outlinewidth\":0,\"ticks\":\"\"}}}],\"scatterpolar\":[{\"type\":\"scatterpolar\",\"marker\":{\"colorbar\":{\"outlinewidth\":0,\"ticks\":\"\"}}}],\"histogram\":[{\"marker\":{\"pattern\":{\"fillmode\":\"overlay\",\"size\":10,\"solidity\":0.2}},\"type\":\"histogram\"}],\"scattergl\":[{\"type\":\"scattergl\",\"marker\":{\"colorbar\":{\"outlinewidth\":0,\"ticks\":\"\"}}}],\"scatter3d\":[{\"type\":\"scatter3d\",\"line\":{\"colorbar\":{\"outlinewidth\":0,\"ticks\":\"\"}},\"marker\":{\"colorbar\":{\"outlinewidth\":0,\"ticks\":\"\"}}}],\"scattermapbox\":[{\"type\":\"scattermapbox\",\"marker\":{\"colorbar\":{\"outlinewidth\":0,\"ticks\":\"\"}}}],\"scatterternary\":[{\"type\":\"scatterternary\",\"marker\":{\"colorbar\":{\"outlinewidth\":0,\"ticks\":\"\"}}}],\"scattercarpet\":[{\"type\":\"scattercarpet\",\"marker\":{\"colorbar\":{\"outlinewidth\":0,\"ticks\":\"\"}}}],\"carpet\":[{\"aaxis\":{\"endlinecolor\":\"#2a3f5f\",\"gridcolor\":\"white\",\"linecolor\":\"white\",\"minorgridcolor\":\"white\",\"startlinecolor\":\"#2a3f5f\"},\"baxis\":{\"endlinecolor\":\"#2a3f5f\",\"gridcolor\":\"white\",\"linecolor\":\"white\",\"minorgridcolor\":\"white\",\"startlinecolor\":\"#2a3f5f\"},\"type\":\"carpet\"}],\"table\":[{\"cells\":{\"fill\":{\"color\":\"#EBF0F8\"},\"line\":{\"color\":\"white\"}},\"header\":{\"fill\":{\"color\":\"#C8D4E3\"},\"line\":{\"color\":\"white\"}},\"type\":\"table\"}],\"barpolar\":[{\"marker\":{\"line\":{\"color\":\"#E5ECF6\",\"width\":0.5},\"pattern\":{\"fillmode\":\"overlay\",\"size\":10,\"solidity\":0.2}},\"type\":\"barpolar\"}],\"pie\":[{\"automargin\":true,\"type\":\"pie\"}]},\"layout\":{\"autotypenumbers\":\"strict\",\"colorway\":[\"#636efa\",\"#EF553B\",\"#00cc96\",\"#ab63fa\",\"#FFA15A\",\"#19d3f3\",\"#FF6692\",\"#B6E880\",\"#FF97FF\",\"#FECB52\"],\"font\":{\"color\":\"#2a3f5f\"},\"hovermode\":\"closest\",\"hoverlabel\":{\"align\":\"left\"},\"paper_bgcolor\":\"white\",\"plot_bgcolor\":\"#E5ECF6\",\"polar\":{\"bgcolor\":\"#E5ECF6\",\"angularaxis\":{\"gridcolor\":\"white\",\"linecolor\":\"white\",\"ticks\":\"\"},\"radialaxis\":{\"gridcolor\":\"white\",\"linecolor\":\"white\",\"ticks\":\"\"}},\"ternary\":{\"bgcolor\":\"#E5ECF6\",\"aaxis\":{\"gridcolor\":\"white\",\"linecolor\":\"white\",\"ticks\":\"\"},\"baxis\":{\"gridcolor\":\"white\",\"linecolor\":\"white\",\"ticks\":\"\"},\"caxis\":{\"gridcolor\":\"white\",\"linecolor\":\"white\",\"ticks\":\"\"}},\"coloraxis\":{\"colorbar\":{\"outlinewidth\":0,\"ticks\":\"\"}},\"colorscale\":{\"sequential\":[[0.0,\"#0d0887\"],[0.1111111111111111,\"#46039f\"],[0.2222222222222222,\"#7201a8\"],[0.3333333333333333,\"#9c179e\"],[0.4444444444444444,\"#bd3786\"],[0.5555555555555556,\"#d8576b\"],[0.6666666666666666,\"#ed7953\"],[0.7777777777777778,\"#fb9f3a\"],[0.8888888888888888,\"#fdca26\"],[1.0,\"#f0f921\"]],\"sequentialminus\":[[0.0,\"#0d0887\"],[0.1111111111111111,\"#46039f\"],[0.2222222222222222,\"#7201a8\"],[0.3333333333333333,\"#9c179e\"],[0.4444444444444444,\"#bd3786\"],[0.5555555555555556,\"#d8576b\"],[0.6666666666666666,\"#ed7953\"],[0.7777777777777778,\"#fb9f3a\"],[0.8888888888888888,\"#fdca26\"],[1.0,\"#f0f921\"]],\"diverging\":[[0,\"#8e0152\"],[0.1,\"#c51b7d\"],[0.2,\"#de77ae\"],[0.3,\"#f1b6da\"],[0.4,\"#fde0ef\"],[0.5,\"#f7f7f7\"],[0.6,\"#e6f5d0\"],[0.7,\"#b8e186\"],[0.8,\"#7fbc41\"],[0.9,\"#4d9221\"],[1,\"#276419\"]]},\"xaxis\":{\"gridcolor\":\"white\",\"linecolor\":\"white\",\"ticks\":\"\",\"title\":{\"standoff\":15},\"zerolinecolor\":\"white\",\"automargin\":true,\"zerolinewidth\":2},\"yaxis\":{\"gridcolor\":\"white\",\"linecolor\":\"white\",\"ticks\":\"\",\"title\":{\"standoff\":15},\"zerolinecolor\":\"white\",\"automargin\":true,\"zerolinewidth\":2},\"scene\":{\"xaxis\":{\"backgroundcolor\":\"#E5ECF6\",\"gridcolor\":\"white\",\"linecolor\":\"white\",\"showbackground\":true,\"ticks\":\"\",\"zerolinecolor\":\"white\",\"gridwidth\":2},\"yaxis\":{\"backgroundcolor\":\"#E5ECF6\",\"gridcolor\":\"white\",\"linecolor\":\"white\",\"showbackground\":true,\"ticks\":\"\",\"zerolinecolor\":\"white\",\"gridwidth\":2},\"zaxis\":{\"backgroundcolor\":\"#E5ECF6\",\"gridcolor\":\"white\",\"linecolor\":\"white\",\"showbackground\":true,\"ticks\":\"\",\"zerolinecolor\":\"white\",\"gridwidth\":2}},\"shapedefaults\":{\"line\":{\"color\":\"#2a3f5f\"}},\"annotationdefaults\":{\"arrowcolor\":\"#2a3f5f\",\"arrowhead\":0,\"arrowwidth\":1},\"geo\":{\"bgcolor\":\"white\",\"landcolor\":\"#E5ECF6\",\"subunitcolor\":\"white\",\"showland\":true,\"showlakes\":true,\"lakecolor\":\"white\"},\"title\":{\"x\":0.05},\"mapbox\":{\"style\":\"light\"}}},\"xaxis\":{\"anchor\":\"y\",\"domain\":[0.0,1.0],\"scaleanchor\":\"y\",\"constrain\":\"domain\",\"title\":{\"text\":\"Token\"},\"tickfont\":{\"size\":20},\"tickvals\":[0,1,2,3,4,5,6,7,8,9,10,11,12,13,14,15,16,17,18,19,20,21,22,23,24,25,26,27,28,29,30,31,32,33,34,35,36,37,38,39],\"ticktext\":[\"\\u2581There\",\"\\u2581are\",\"\\u2581many\",\"\\u2581things\",\"\\u2581that\",\"\\u2581could\",\"\\u2581make\",\"\\u2581me\",\"\\u2581unhappy\",\",\",\"\\u2581but\",\"\\u2581one\",\"\\u2581specific\",\"\\u2581example\",\"\\u2581would\",\"\\u2581be\",\"\\u2581if\",\"\\u2581I\",\"\\u2581were\",\"\\u2581to\",\"\\u2581lose\",\"\\u2581someone\",\"\\u2581I\",\"\\u2581love\",\".\",\"\\u2581The\",\"\\u2581sudden\",\"\\u2581absence\",\"\\u2581of\",\"\\u2581a\",\"\\u2581cher\",\"ished\",\"\\u2581family\",\"\\u2581member\",\",\",\"\\u2581friend\",\",\",\"\\u2581or\",\"\\u2581partner\",\"\\u2581would\"],\"tickangle\":-45},\"yaxis\":{\"anchor\":\"x\",\"domain\":[0.0,1.0],\"autorange\":\"reversed\",\"constrain\":\"domain\"},\"coloraxis\":{\"colorscale\":[[0.0,\"rgb(165,0,38)\"],[0.1,\"rgb(215,48,39)\"],[0.2,\"rgb(244,109,67)\"],[0.3,\"rgb(253,174,97)\"],[0.4,\"rgb(254,224,139)\"],[0.5,\"rgb(255,255,191)\"],[0.6,\"rgb(217,239,139)\"],[0.7,\"rgb(166,217,106)\"],[0.8,\"rgb(102,189,99)\"],[0.9,\"rgb(26,152,80)\"],[1.0,\"rgb(0,104,55)\"]],\"cmin\":-0.67724609375,\"cmax\":0.67724609375},\"margin\":{\"t\":60}},                        {\"responsive\": true}                    ).then(function(){\n",
       "                            \n",
       "var gd = document.getElementById('0c2e3103-073c-4d2c-9350-45a06058e74e');\n",
       "var x = new MutationObserver(function (mutations, observer) {{\n",
       "        var display = window.getComputedStyle(gd).display;\n",
       "        if (!display || display === 'none') {{\n",
       "            console.log([gd, 'removed!']);\n",
       "            Plotly.purge(gd);\n",
       "            observer.disconnect();\n",
       "        }}\n",
       "}});\n",
       "\n",
       "// Listen for the removal of the full notebook cells\n",
       "var notebookContainer = gd.closest('#notebook-container');\n",
       "if (notebookContainer) {{\n",
       "    x.observe(notebookContainer, {childList: true});\n",
       "}}\n",
       "\n",
       "// Listen for the clearing of the current output cell\n",
       "var outputEl = gd.closest('.output');\n",
       "if (outputEl) {{\n",
       "    x.observe(outputEl, {childList: true});\n",
       "}}\n",
       "\n",
       "                        })                };                });            </script>        </div>"
      ]
     },
     "metadata": {},
     "output_type": "display_data"
    }
   ],
   "source": [
    "from lmdoctor.plot_utils import plot_scores_per_token\n",
    "scores_per_token = ld.detect(use_n_middle_layers=15)\n",
    "plot_scores_per_token(scores_per_token, tokens, lastn_tokens_to_plot=len(tokens))"
   ]
  },
  {
   "cell_type": "markdown",
   "id": "3af9201b-4042-4967-bf52-03788994db6e",
   "metadata": {},
   "source": [
    "## Control (with reading vector)"
   ]
  },
  {
   "cell_type": "code",
   "execution_count": 21,
   "id": "1f58ce06-7d41-4082-8db2-ed6509e5320c",
   "metadata": {},
   "outputs": [],
   "source": [
    "def vanilla_generate(prompt, max_new_tokens=12):\n",
    "    template_str = '{user_tag} {prompt} {assistant_tag}'\n",
    "    prompt = template_str.format(user_tag=user_tag, prompt=prompt, assistant_tag=assistant_tag)\n",
    "    model_inputs = tokenizer(prompt, return_tensors='pt').to(device)\n",
    "    \n",
    "    with torch.no_grad():\n",
    "        output = model.generate(**model_inputs, max_new_tokens=max_new_tokens)\n",
    "        text = tokenizer.batch_decode(output, skip_special_tokens=True, clean_up_tokenization_spaces=False)[0]\n",
    "        print(text)"
   ]
  },
  {
   "cell_type": "code",
   "execution_count": 22,
   "id": "18ac8e9a-5973-4508-9883-a6c50c701f08",
   "metadata": {},
   "outputs": [],
   "source": [
    "from lmdoctor import control_utils\n",
    "hc = control_utils.Controller(extractor.direction_info, model, tokenizer, user_tag=user_tag, assistant_tag=assistant_tag)"
   ]
  },
  {
   "cell_type": "code",
   "execution_count": 25,
   "id": "8c6c9784-a247-4813-b45e-8f161336dcbe",
   "metadata": {},
   "outputs": [
    {
     "name": "stderr",
     "output_type": "stream",
     "text": [
      "Setting `pad_token_id` to `eos_token_id`:2 for open-end generation.\n",
      "Setting `pad_token_id` to `eos_token_id`:2 for open-end generation.\n"
     ]
    },
    {
     "name": "stdout",
     "output_type": "stream",
     "text": [
      "[INST] When someone accidentally bumps into me, I feel... [/INST] When someone accidentally bumps into me, I feel a mix of emotions. At first, I might feel surprised or even a bit annoyed. But then, I usually try to brush it off and\n"
     ]
    },
    {
     "data": {
      "text/plain": [
       "\"[INST] When someone accidentally bumps into me, I feel... [/INST] When someone accidentally bumps into me, I feel a wonderful feeling of warmth and happiness. It's like a little burst of sunshine in my heart!\""
      ]
     },
     "execution_count": 25,
     "metadata": {},
     "output_type": "execute_result"
    }
   ],
   "source": [
    "# prompt = \"What is the first thing you'd say to a new employee?\"\n",
    "prompt = \"When someone accidentally bumps into me, I feel...\"\n",
    "# prompt = \"Q: Can you share something personal? A:\"\n",
    "# prompt = \"Imagine that you are tasked with onboarding the new employee. How do you feel about that?\"\n",
    "\n",
    "vanilla_generate(prompt, max_new_tokens=40)\n",
    "hc.generate(prompt, control_direction=1, max_new_tokens=70, alpha=1)"
   ]
  },
  {
   "cell_type": "code",
   "execution_count": null,
   "id": "14198a9a-f448-4845-822c-bd94a7ad6657",
   "metadata": {},
   "outputs": [],
   "source": []
  }
 ],
 "metadata": {
  "kernelspec": {
   "display_name": "Python 3 (ipykernel)",
   "language": "python",
   "name": "python3"
  },
  "language_info": {
   "codemirror_mode": {
    "name": "ipython",
    "version": 3
   },
   "file_extension": ".py",
   "mimetype": "text/x-python",
   "name": "python",
   "nbconvert_exporter": "python",
   "pygments_lexer": "ipython3",
   "version": "3.10.13"
  }
 },
 "nbformat": 4,
 "nbformat_minor": 5
}
