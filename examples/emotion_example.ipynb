{
 "cells": [
  {
   "cell_type": "code",
   "execution_count": 1,
   "id": "574c865c-c179-47cd-b331-9283352504d1",
   "metadata": {
    "tags": []
   },
   "outputs": [],
   "source": [
    "%load_ext autoreload\n",
    "%autoreload 2"
   ]
  },
  {
   "cell_type": "markdown",
   "id": "7a31a213-f00f-462e-bc9d-861633f71082",
   "metadata": {},
   "source": [
    "## Setup\n",
    "If you already have a model/tokenizer you want to use, you can skip this step. \n",
    "Be sure to also set the appropriate user_tag/assistant_tag for that model."
   ]
  },
  {
   "cell_type": "code",
   "execution_count": 2,
   "id": "be6ed83c-89d0-4d30-b794-20db2ebe92ce",
   "metadata": {
    "collapsed": true,
    "jupyter": {
     "outputs_hidden": true
    },
    "tags": []
   },
   "outputs": [
    {
     "name": "stdout",
     "output_type": "stream",
     "text": [
      "Looking in indexes: https://download.pytorch.org/whl/cu121\n",
      "Requirement already satisfied: torch==2.1.1 in /opt/conda/lib/python3.10/site-packages (2.1.1)\n",
      "Requirement already satisfied: torchvision==0.16.1 in /opt/conda/lib/python3.10/site-packages (0.16.1)\n",
      "Requirement already satisfied: torchaudio==2.1.1 in /opt/conda/lib/python3.10/site-packages (2.1.1)\n",
      "Requirement already satisfied: filelock in /opt/conda/lib/python3.10/site-packages (from torch==2.1.1) (3.9.0)\n",
      "Requirement already satisfied: typing-extensions in /opt/conda/lib/python3.10/site-packages (from torch==2.1.1) (4.7.1)\n",
      "Requirement already satisfied: sympy in /opt/conda/lib/python3.10/site-packages (from torch==2.1.1) (1.11.1)\n",
      "Requirement already satisfied: networkx in /opt/conda/lib/python3.10/site-packages (from torch==2.1.1) (3.1)\n",
      "Requirement already satisfied: jinja2 in /opt/conda/lib/python3.10/site-packages (from torch==2.1.1) (3.1.2)\n",
      "Requirement already satisfied: fsspec in /opt/conda/lib/python3.10/site-packages (from torch==2.1.1) (2023.10.0)\n",
      "Requirement already satisfied: numpy in /opt/conda/lib/python3.10/site-packages (from torchvision==0.16.1) (1.26.0)\n",
      "Requirement already satisfied: requests in /opt/conda/lib/python3.10/site-packages (from torchvision==0.16.1) (2.31.0)\n",
      "Requirement already satisfied: pillow!=8.3.*,>=5.3.0 in /opt/conda/lib/python3.10/site-packages (from torchvision==0.16.1) (10.0.1)\n",
      "Requirement already satisfied: MarkupSafe>=2.0 in /opt/conda/lib/python3.10/site-packages (from jinja2->torch==2.1.1) (2.1.1)\n",
      "Requirement already satisfied: charset-normalizer<4,>=2 in /opt/conda/lib/python3.10/site-packages (from requests->torchvision==0.16.1) (2.0.4)\n",
      "Requirement already satisfied: idna<4,>=2.5 in /opt/conda/lib/python3.10/site-packages (from requests->torchvision==0.16.1) (3.4)\n",
      "Requirement already satisfied: urllib3<3,>=1.21.1 in /opt/conda/lib/python3.10/site-packages (from requests->torchvision==0.16.1) (1.26.18)\n",
      "Requirement already satisfied: certifi>=2017.4.17 in /opt/conda/lib/python3.10/site-packages (from requests->torchvision==0.16.1) (2023.7.22)\n",
      "Requirement already satisfied: mpmath>=0.19 in /opt/conda/lib/python3.10/site-packages (from sympy->torch==2.1.1) (1.3.0)\n",
      "\u001b[33mWARNING: Running pip as the 'root' user can result in broken permissions and conflicting behaviour with the system package manager. It is recommended to use a virtual environment instead: https://pip.pypa.io/warnings/venv\u001b[0m\u001b[33m\n",
      "\u001b[0m\u001b[33mWARNING: Running pip as the 'root' user can result in broken permissions and conflicting behaviour with the system package manager. It is recommended to use a virtual environment instead: https://pip.pypa.io/warnings/venv\u001b[0m\u001b[33m\n",
      "\u001b[0mRequirement already satisfied: auto-gptq==0.6.0 in /opt/conda/lib/python3.10/site-packages (0.6.0)\n",
      "Requirement already satisfied: accelerate>=0.22.0 in /opt/conda/lib/python3.10/site-packages (from auto-gptq==0.6.0) (0.28.0)\n",
      "Requirement already satisfied: datasets in /opt/conda/lib/python3.10/site-packages (from auto-gptq==0.6.0) (2.18.0)\n",
      "Requirement already satisfied: sentencepiece in /opt/conda/lib/python3.10/site-packages (from auto-gptq==0.6.0) (0.2.0)\n",
      "Requirement already satisfied: numpy in /opt/conda/lib/python3.10/site-packages (from auto-gptq==0.6.0) (1.26.0)\n",
      "Requirement already satisfied: rouge in /opt/conda/lib/python3.10/site-packages (from auto-gptq==0.6.0) (1.0.1)\n",
      "Requirement already satisfied: gekko in /opt/conda/lib/python3.10/site-packages (from auto-gptq==0.6.0) (1.0.7)\n",
      "Requirement already satisfied: torch>=1.13.0 in /opt/conda/lib/python3.10/site-packages (from auto-gptq==0.6.0) (2.1.1)\n",
      "Requirement already satisfied: safetensors in /opt/conda/lib/python3.10/site-packages (from auto-gptq==0.6.0) (0.4.2)\n",
      "Requirement already satisfied: transformers>=4.31.0 in /opt/conda/lib/python3.10/site-packages (from auto-gptq==0.6.0) (4.38.2)\n",
      "Requirement already satisfied: peft>=0.5.0 in /opt/conda/lib/python3.10/site-packages (from auto-gptq==0.6.0) (0.9.0)\n",
      "Requirement already satisfied: tqdm in /opt/conda/lib/python3.10/site-packages (from auto-gptq==0.6.0) (4.65.0)\n",
      "Requirement already satisfied: packaging>=20.0 in /opt/conda/lib/python3.10/site-packages (from accelerate>=0.22.0->auto-gptq==0.6.0) (23.1)\n",
      "Requirement already satisfied: psutil in /opt/conda/lib/python3.10/site-packages (from accelerate>=0.22.0->auto-gptq==0.6.0) (5.9.0)\n",
      "Requirement already satisfied: pyyaml in /opt/conda/lib/python3.10/site-packages (from accelerate>=0.22.0->auto-gptq==0.6.0) (6.0.1)\n",
      "Requirement already satisfied: huggingface-hub in /opt/conda/lib/python3.10/site-packages (from accelerate>=0.22.0->auto-gptq==0.6.0) (0.21.4)\n",
      "Requirement already satisfied: filelock in /opt/conda/lib/python3.10/site-packages (from torch>=1.13.0->auto-gptq==0.6.0) (3.9.0)\n",
      "Requirement already satisfied: typing-extensions in /opt/conda/lib/python3.10/site-packages (from torch>=1.13.0->auto-gptq==0.6.0) (4.7.1)\n",
      "Requirement already satisfied: sympy in /opt/conda/lib/python3.10/site-packages (from torch>=1.13.0->auto-gptq==0.6.0) (1.11.1)\n",
      "Requirement already satisfied: networkx in /opt/conda/lib/python3.10/site-packages (from torch>=1.13.0->auto-gptq==0.6.0) (3.1)\n",
      "Requirement already satisfied: jinja2 in /opt/conda/lib/python3.10/site-packages (from torch>=1.13.0->auto-gptq==0.6.0) (3.1.2)\n",
      "Requirement already satisfied: fsspec in /opt/conda/lib/python3.10/site-packages (from torch>=1.13.0->auto-gptq==0.6.0) (2023.10.0)\n",
      "Requirement already satisfied: regex!=2019.12.17 in /opt/conda/lib/python3.10/site-packages (from transformers>=4.31.0->auto-gptq==0.6.0) (2023.12.25)\n",
      "Requirement already satisfied: requests in /opt/conda/lib/python3.10/site-packages (from transformers>=4.31.0->auto-gptq==0.6.0) (2.31.0)\n",
      "Requirement already satisfied: tokenizers<0.19,>=0.14 in /opt/conda/lib/python3.10/site-packages (from transformers>=4.31.0->auto-gptq==0.6.0) (0.15.2)\n",
      "Requirement already satisfied: pyarrow>=12.0.0 in /opt/conda/lib/python3.10/site-packages (from datasets->auto-gptq==0.6.0) (15.0.1)\n",
      "Requirement already satisfied: pyarrow-hotfix in /opt/conda/lib/python3.10/site-packages (from datasets->auto-gptq==0.6.0) (0.6)\n",
      "Requirement already satisfied: dill<0.3.9,>=0.3.0 in /opt/conda/lib/python3.10/site-packages (from datasets->auto-gptq==0.6.0) (0.3.8)\n",
      "Requirement already satisfied: pandas in /opt/conda/lib/python3.10/site-packages (from datasets->auto-gptq==0.6.0) (2.2.1)\n",
      "Requirement already satisfied: xxhash in /opt/conda/lib/python3.10/site-packages (from datasets->auto-gptq==0.6.0) (3.4.1)\n",
      "Requirement already satisfied: multiprocess in /opt/conda/lib/python3.10/site-packages (from datasets->auto-gptq==0.6.0) (0.70.16)\n",
      "Requirement already satisfied: aiohttp in /opt/conda/lib/python3.10/site-packages (from datasets->auto-gptq==0.6.0) (3.9.3)\n",
      "Requirement already satisfied: six in /opt/conda/lib/python3.10/site-packages (from rouge->auto-gptq==0.6.0) (1.16.0)\n",
      "Requirement already satisfied: aiosignal>=1.1.2 in /opt/conda/lib/python3.10/site-packages (from aiohttp->datasets->auto-gptq==0.6.0) (1.3.1)\n",
      "Requirement already satisfied: attrs>=17.3.0 in /opt/conda/lib/python3.10/site-packages (from aiohttp->datasets->auto-gptq==0.6.0) (23.1.0)\n",
      "Requirement already satisfied: frozenlist>=1.1.1 in /opt/conda/lib/python3.10/site-packages (from aiohttp->datasets->auto-gptq==0.6.0) (1.4.1)\n",
      "Requirement already satisfied: multidict<7.0,>=4.5 in /opt/conda/lib/python3.10/site-packages (from aiohttp->datasets->auto-gptq==0.6.0) (6.0.5)\n",
      "Requirement already satisfied: yarl<2.0,>=1.0 in /opt/conda/lib/python3.10/site-packages (from aiohttp->datasets->auto-gptq==0.6.0) (1.9.4)\n",
      "Requirement already satisfied: async-timeout<5.0,>=4.0 in /opt/conda/lib/python3.10/site-packages (from aiohttp->datasets->auto-gptq==0.6.0) (4.0.3)\n",
      "Requirement already satisfied: charset-normalizer<4,>=2 in /opt/conda/lib/python3.10/site-packages (from requests->transformers>=4.31.0->auto-gptq==0.6.0) (2.0.4)\n",
      "Requirement already satisfied: idna<4,>=2.5 in /opt/conda/lib/python3.10/site-packages (from requests->transformers>=4.31.0->auto-gptq==0.6.0) (3.4)\n",
      "Requirement already satisfied: urllib3<3,>=1.21.1 in /opt/conda/lib/python3.10/site-packages (from requests->transformers>=4.31.0->auto-gptq==0.6.0) (1.26.18)\n",
      "Requirement already satisfied: certifi>=2017.4.17 in /opt/conda/lib/python3.10/site-packages (from requests->transformers>=4.31.0->auto-gptq==0.6.0) (2023.7.22)\n",
      "Requirement already satisfied: MarkupSafe>=2.0 in /opt/conda/lib/python3.10/site-packages (from jinja2->torch>=1.13.0->auto-gptq==0.6.0) (2.1.1)\n",
      "Requirement already satisfied: python-dateutil>=2.8.2 in /opt/conda/lib/python3.10/site-packages (from pandas->datasets->auto-gptq==0.6.0) (2.9.0.post0)\n",
      "Requirement already satisfied: pytz>=2020.1 in /opt/conda/lib/python3.10/site-packages (from pandas->datasets->auto-gptq==0.6.0) (2023.3.post1)\n",
      "Requirement already satisfied: tzdata>=2022.7 in /opt/conda/lib/python3.10/site-packages (from pandas->datasets->auto-gptq==0.6.0) (2024.1)\n",
      "Requirement already satisfied: mpmath>=0.19 in /opt/conda/lib/python3.10/site-packages (from sympy->torch>=1.13.0->auto-gptq==0.6.0) (1.3.0)\n",
      "\u001b[33mWARNING: Running pip as the 'root' user can result in broken permissions and conflicting behaviour with the system package manager. It is recommended to use a virtual environment instead: https://pip.pypa.io/warnings/venv\u001b[0m\u001b[33m\n",
      "\u001b[0mRequirement already satisfied: accelerate in /opt/conda/lib/python3.10/site-packages (0.28.0)\n",
      "Requirement already satisfied: numpy>=1.17 in /opt/conda/lib/python3.10/site-packages (from accelerate) (1.26.0)\n",
      "Requirement already satisfied: packaging>=20.0 in /opt/conda/lib/python3.10/site-packages (from accelerate) (23.1)\n",
      "Requirement already satisfied: psutil in /opt/conda/lib/python3.10/site-packages (from accelerate) (5.9.0)\n",
      "Requirement already satisfied: pyyaml in /opt/conda/lib/python3.10/site-packages (from accelerate) (6.0.1)\n",
      "Requirement already satisfied: torch>=1.10.0 in /opt/conda/lib/python3.10/site-packages (from accelerate) (2.1.1)\n",
      "Requirement already satisfied: huggingface-hub in /opt/conda/lib/python3.10/site-packages (from accelerate) (0.21.4)\n",
      "Requirement already satisfied: safetensors>=0.3.1 in /opt/conda/lib/python3.10/site-packages (from accelerate) (0.4.2)\n",
      "Requirement already satisfied: filelock in /opt/conda/lib/python3.10/site-packages (from torch>=1.10.0->accelerate) (3.9.0)\n",
      "Requirement already satisfied: typing-extensions in /opt/conda/lib/python3.10/site-packages (from torch>=1.10.0->accelerate) (4.7.1)\n",
      "Requirement already satisfied: sympy in /opt/conda/lib/python3.10/site-packages (from torch>=1.10.0->accelerate) (1.11.1)\n",
      "Requirement already satisfied: networkx in /opt/conda/lib/python3.10/site-packages (from torch>=1.10.0->accelerate) (3.1)\n",
      "Requirement already satisfied: jinja2 in /opt/conda/lib/python3.10/site-packages (from torch>=1.10.0->accelerate) (3.1.2)\n",
      "Requirement already satisfied: fsspec in /opt/conda/lib/python3.10/site-packages (from torch>=1.10.0->accelerate) (2023.10.0)\n",
      "Requirement already satisfied: requests in /opt/conda/lib/python3.10/site-packages (from huggingface-hub->accelerate) (2.31.0)\n",
      "Requirement already satisfied: tqdm>=4.42.1 in /opt/conda/lib/python3.10/site-packages (from huggingface-hub->accelerate) (4.65.0)\n",
      "Requirement already satisfied: MarkupSafe>=2.0 in /opt/conda/lib/python3.10/site-packages (from jinja2->torch>=1.10.0->accelerate) (2.1.1)\n",
      "Requirement already satisfied: charset-normalizer<4,>=2 in /opt/conda/lib/python3.10/site-packages (from requests->huggingface-hub->accelerate) (2.0.4)\n",
      "Requirement already satisfied: idna<4,>=2.5 in /opt/conda/lib/python3.10/site-packages (from requests->huggingface-hub->accelerate) (3.4)\n",
      "Requirement already satisfied: urllib3<3,>=1.21.1 in /opt/conda/lib/python3.10/site-packages (from requests->huggingface-hub->accelerate) (1.26.18)\n",
      "Requirement already satisfied: certifi>=2017.4.17 in /opt/conda/lib/python3.10/site-packages (from requests->huggingface-hub->accelerate) (2023.7.22)\n",
      "Requirement already satisfied: mpmath>=0.19 in /opt/conda/lib/python3.10/site-packages (from sympy->torch>=1.10.0->accelerate) (1.3.0)\n",
      "\u001b[33mWARNING: Running pip as the 'root' user can result in broken permissions and conflicting behaviour with the system package manager. It is recommended to use a virtual environment instead: https://pip.pypa.io/warnings/venv\u001b[0m\u001b[33m\n",
      "\u001b[0m"
     ]
    }
   ],
   "source": [
    "# The quantized model used here requires some extra libraries. \n",
    "import sys\n",
    "!{sys.executable} -m pip install torch==2.1.1 torchvision==0.16.1 torchaudio==2.1.1 --index-url https://download.pytorch.org/whl/cu121\n",
    "!{sys.executable} -m pip install optimum>=1.12.0\n",
    "!{sys.executable} -m pip install auto-gptq==0.6.0\n",
    "!{sys.executable} -m pip install accelerate"
   ]
  },
  {
   "cell_type": "code",
   "execution_count": 3,
   "id": "a16924fa-784d-40d1-8ab6-651eb71b8c6d",
   "metadata": {
    "tags": []
   },
   "outputs": [
    {
     "name": "stderr",
     "output_type": "stream",
     "text": [
      "/opt/conda/lib/python3.10/site-packages/transformers/utils/hub.py:124: FutureWarning: Using `TRANSFORMERS_CACHE` is deprecated and will be removed in v5 of Transformers. Use `HF_HOME` instead.\n",
      "  warnings.warn(\n",
      "/opt/conda/lib/python3.10/site-packages/transformers/modeling_utils.py:4193: FutureWarning: `_is_quantized_training_enabled` is going to be deprecated in transformers 4.39.0. Please use `model.hf_quantizer.is_trainable` instead\n",
      "  warnings.warn(\n"
     ]
    }
   ],
   "source": [
    "import os\n",
    "os.environ['TRANSFORMERS_CACHE'] = '/workspace/cache/' # change or comment out as desired \n",
    "\n",
    "device = 'cuda:0'\n",
    "model_name_or_path = \"TheBloke/Mistral-7B-Instruct-v0.1-GPTQ\"\n",
    "revision = 'gptq-4bit-32g-actorder_True'\n",
    "user_tag = \"[INST] \"\n",
    "assistant_tag = \" [/INST]\"\n",
    "\n",
    "from example_utils import load_model\n",
    "model, tokenizer = load_model(model_name_or_path, revision, device)"
   ]
  },
  {
   "cell_type": "markdown",
   "id": "3a9b064e-1fe9-4679-b687-14be64371b47",
   "metadata": {},
   "source": [
    "## Train extractor"
   ]
  },
  {
   "cell_type": "code",
   "execution_count": 4,
   "id": "7800e823-e701-4245-ab02-6ca73facdbed",
   "metadata": {
    "tags": []
   },
   "outputs": [
    {
     "name": "stderr",
     "output_type": "stream",
     "text": [
      "INFO - Inferring conceptual extraction_method because none was passed\n"
     ]
    }
   ],
   "source": [
    "from lmdoctor import extraction_utils\n",
    "extraction_target = 'emotion'\n",
    "emotion_type = 'happiness' # anger, disgust, fear, sadness, surprise\n",
    "extractor = extraction_utils.Extractor(model, tokenizer, user_tag, assistant_tag, extraction_target=extraction_target, emotion_type=emotion_type, device=device)\n",
    "extractor.find_directions(n_train_pairs=128, n_dev_pairs=64, n_test_pairs=32)"
   ]
  },
  {
   "cell_type": "code",
   "execution_count": 5,
   "id": "b691afbc-e6ba-4b2c-a937-2b7e0c1802d1",
   "metadata": {
    "tags": []
   },
   "outputs": [
    {
     "data": {
      "text/plain": [
       "array([[\"[INST] Consider the emotion in the following scenario:\\nScenario: You discover an old family photo album you've never seen before. [/INST]\",\n",
       "        '[INST] Consider the emotion in the following scenario:\\nScenario: You discover dirty silverware wrapped in a clean napkin at a restaurant. [/INST]']],\n",
       "      dtype='<U164')"
      ]
     },
     "execution_count": 5,
     "metadata": {},
     "output_type": "execute_result"
    }
   ],
   "source": [
    "extractor.statement_pairs['train'][:1]"
   ]
  },
  {
   "cell_type": "markdown",
   "id": "dbd27be9-78ab-4cf7-9560-9a6da91a7dd5",
   "metadata": {},
   "source": [
    "## Run detector"
   ]
  },
  {
   "cell_type": "code",
   "execution_count": 6,
   "id": "2b84d109-1a9c-4cef-a7c7-c00922a2069d",
   "metadata": {
    "tags": []
   },
   "outputs": [],
   "source": [
    "from lmdoctor import detection_utils\n",
    "ld = detection_utils.Detector(extractor, device=device)"
   ]
  },
  {
   "cell_type": "code",
   "execution_count": 19,
   "id": "89193532-9923-4462-8904-e97b2216bc4f",
   "metadata": {
    "tags": []
   },
   "outputs": [
    {
     "name": "stderr",
     "output_type": "stream",
     "text": [
      "Setting `pad_token_id` to `eos_token_id`:2 for open-end generation.\n"
     ]
    },
    {
     "data": {
      "text/plain": [
       "'Something that would make me unhappy is constant criticism, belittling or negative comments about my abilities, actions or ideas. It can really lower my self-esteem and motivation, and make me feel'"
      ]
     },
     "execution_count": 19,
     "metadata": {},
     "output_type": "execute_result"
    }
   ],
   "source": [
    "import torch\n",
    "from lmdoctor import detection_utils\n",
    "\n",
    "# prompt = \"Describe something that would make you happy\"\n",
    "prompt = \"Describe something that would make you unhappy\"\n",
    "\n",
    "torch.manual_seed(0)\n",
    "max_new_tokens = 40\n",
    "output = ld.generate(prompt, max_new_tokens=max_new_tokens, do_sample=True, gen_only=True, return_projections=True)\n",
    "output['text']"
   ]
  },
  {
   "cell_type": "code",
   "execution_count": 20,
   "id": "a895bf4c-ef51-4b56-a3c5-52276c148fd2",
   "metadata": {
    "tags": []
   },
   "outputs": [
    {
     "data": {
      "application/vnd.plotly.v1+json": {
       "config": {
        "plotlyServerURL": "https://plot.ly"
       },
       "data": [
        {
         "coloraxis": "coloraxis",
         "hovertemplate": "Token: %{x}<br>y: %{y}<br>color: %{z}<extra></extra>",
         "name": "0",
         "type": "heatmap",
         "xaxis": "x",
         "yaxis": "y",
         "z": [
          [
           -0.0032749176025390625,
           0.0013456344604492188,
           0.002918243408203125,
           -0.00846099853515625,
           -0.004180908203125,
           0.003826141357421875,
           0.00666046142578125,
           0.01434326171875,
           0.0025615692138671875,
           0.00324249267578125,
           0.0034198760986328125,
           0.008819580078125,
           -0.001102447509765625,
           0.00014591217041015625,
           0.010986328125,
           0.00536346435546875,
           0.00030803680419921875,
           -0.00403594970703125,
           0.0176544189453125,
           0.00453948974609375,
           0.01346588134765625,
           -0.002349853515625,
           0.0026264190673828125,
           0.00351715087890625,
           0.0157318115234375,
           0.0083465576171875,
           0.01163482666015625,
           0.0207366943359375,
           0.0034847259521484375,
           0.019439697265625,
           0.0229034423828125,
           0.00870513916015625,
           -0.005283355712890625,
           -3.24249267578125e-05,
           -0.003631591796875,
           0.005512237548828125,
           0.00534820556640625,
           -0.01056671142578125,
           -0.00390625
          ],
          [
           -0.0230865478515625,
           -0.01727294921875,
           -0.00432586669921875,
           -0.006298065185546875,
           -0.0138702392578125,
           -0.01123809814453125,
           0.01348876953125,
           -0.00030684471130371094,
           -0.007717132568359375,
           0.03070068359375,
           0.01947021484375,
           0.006549835205078125,
           0.00836181640625,
           0.0321044921875,
           0.002864837646484375,
           -0.004734039306640625,
           0.0020313262939453125,
           0.007686614990234375,
           -0.01629638671875,
           0.004940032958984375,
           -0.004749298095703125,
           0.023284912109375,
           -0.0159912109375,
           -0.0212249755859375,
           -0.036865234375,
           -0.048675537109375,
           -0.03521728515625,
           -0.029510498046875,
           -0.0212860107421875,
           -0.01122283935546875,
           -0.01458740234375,
           -0.00850677490234375,
           0,
           -0.00856781005859375,
           -0.0272369384765625,
           -0.007659912109375,
           -0.017730712890625,
           -0.023712158203125,
           -0.018798828125
          ],
          [
           0.006256103515625,
           -0.016815185546875,
           -0.0243682861328125,
           -0.02435302734375,
           -0.0169525146484375,
           -0.001087188720703125,
           -0.007537841796875,
           -0.04248046875,
           -0.04620361328125,
           -0.0291900634765625,
           -0.0196990966796875,
           -0.0098114013671875,
           -0.011016845703125,
           -0.006298065185546875,
           -0.032806396484375,
           -0.03216552734375,
           -0.00653839111328125,
           -0.0205841064453125,
           -0.0224151611328125,
           -0.02142333984375,
           -0.06915283203125,
           -0.0255584716796875,
           -0.042236328125,
           -0.055328369140625,
           -0.039794921875,
           -0.056884765625,
           -0.0254364013671875,
           -0.030548095703125,
           -0.031707763671875,
           -0.0347900390625,
           -0.06439208984375,
           -0.0250091552734375,
           -0.055267333984375,
           -0.040435791015625,
           -0.05963134765625,
           -0.031646728515625,
           -0.026519775390625,
           -0.045623779296875,
           -0.018646240234375
          ],
          [
           0.08306884765625,
           0.0673828125,
           0.07232666015625,
           0.0557861328125,
           0.08447265625,
           0.034881591796875,
           0.10345458984375,
           0.05718994140625,
           0.0389404296875,
           0.04681396484375,
           0.044281005859375,
           0.0290069580078125,
           0.051300048828125,
           0.0460205078125,
           0.07025146484375,
           0.060150146484375,
           0.055267333984375,
           0.0877685546875,
           0.037200927734375,
           0.06591796875,
           0.00998687744140625,
           0.06097412109375,
           0.00807952880859375,
           0.0009965896606445312,
           -0.005817413330078125,
           -0.016143798828125,
           0.015716552734375,
           -0.01666259765625,
           -0.00492095947265625,
           -0.0183258056640625,
           -0.003330230712890625,
           0.006908416748046875,
           -0.031524658203125,
           -0.0106048583984375,
           -0.0051727294921875,
           -0.030670166015625,
           0.0026569366455078125,
           0.018310546875,
           0.0233306884765625
          ],
          [
           0.1448974609375,
           0.1475830078125,
           0.09967041015625,
           0.07806396484375,
           0.122314453125,
           0.0640869140625,
           0.1898193359375,
           0.07196044921875,
           0.0167694091796875,
           0.03656005859375,
           0.0286407470703125,
           0.0254974365234375,
           0.03387451171875,
           0.032440185546875,
           0.04595947265625,
           0.0078582763671875,
           0.0244598388671875,
           0.05450439453125,
           0.018280029296875,
           0.038360595703125,
           -0.001842498779296875,
           0.10650634765625,
           0.0297698974609375,
           0.0306243896484375,
           0.0650634765625,
           0.08502197265625,
           0.07537841796875,
           0.034393310546875,
           0.035003662109375,
           0.054962158203125,
           0.053253173828125,
           0.10333251953125,
           0.035400390625,
           0.0301513671875,
           0.07177734375,
           0.025970458984375,
           0.040771484375,
           0.0111236572265625,
           0.035888671875
          ],
          [
           0.1024169921875,
           0.11578369140625,
           0.0728759765625,
           0.08056640625,
           0.1295166015625,
           0.0718994140625,
           0.16748046875,
           0.034515380859375,
           0.052398681640625,
           0.05145263671875,
           0.04669189453125,
           0.031524658203125,
           0.03936767578125,
           0.004146575927734375,
           0.09002685546875,
           0.0002715587615966797,
           -0.00498199462890625,
           0.023681640625,
           0.0283660888671875,
           0.032501220703125,
           -0.0673828125,
           0.013671875,
           0.011260986328125,
           0.039398193359375,
           0.07037353515625,
           0.057525634765625,
           0.1087646484375,
           0.055084228515625,
           0.07305908203125,
           0.0350341796875,
           0.06964111328125,
           0.0858154296875,
           0.0865478515625,
           0.0743408203125,
           0.149658203125,
           0.07965087890625,
           0.028564453125,
           0.04449462890625,
           0.09417724609375
          ],
          [
           0.10308837890625,
           0.118408203125,
           0.095458984375,
           0.087890625,
           0.11663818359375,
           0.05615234375,
           0.13916015625,
           0.0218963623046875,
           -0.0011339187622070312,
           0.027099609375,
           0.017486572265625,
           -0.01776123046875,
           -0.01294708251953125,
           -0.03436279296875,
           0.022186279296875,
           -0.03759765625,
           -0.045684814453125,
           0.01076507568359375,
           0.0266571044921875,
           0.0233612060546875,
           -0.09765625,
           -0.00798797607421875,
           0.0170745849609375,
           0.024078369140625,
           0.051116943359375,
           0.056488037109375,
           0.08917236328125,
           0.0587158203125,
           0.0897216796875,
           0.036163330078125,
           0.0816650390625,
           0.11395263671875,
           0.075927734375,
           0.06036376953125,
           0.149169921875,
           0.07879638671875,
           0.035247802734375,
           0.0278472900390625,
           0.09942626953125
          ],
          [
           0.15625,
           0.1695556640625,
           0.15625,
           0.1671142578125,
           0.11328125,
           0.043853759765625,
           0.1810302734375,
           0.06951904296875,
           -0.0582275390625,
           0.06597900390625,
           0.04168701171875,
           -0.0174407958984375,
           -0.047821044921875,
           -0.0523681640625,
           -0.07403564453125,
           -0.12188720703125,
           -0.07666015625,
           0.046722412109375,
           0.0177459716796875,
           0.0199127197265625,
           -0.0797119140625,
           -0.0084991455078125,
           0.02484130859375,
           0.03741455078125,
           0.10296630859375,
           0.10601806640625,
           0.152587890625,
           0.07147216796875,
           0.11285400390625,
           0.0233612060546875,
           0.0709228515625,
           0.1375732421875,
           0.080078125,
           0.07061767578125,
           0.11309814453125,
           0.089111328125,
           0.043853759765625,
           0.07135009765625,
           0.0771484375
          ],
          [
           0.106689453125,
           0.11285400390625,
           0.106201171875,
           0.1397705078125,
           0.061920166015625,
           0.0183868408203125,
           0.109130859375,
           0.050445556640625,
           -0.1343994140625,
           0.0284271240234375,
           0.021240234375,
           -0.061676025390625,
           -0.0208892822265625,
           -0.08441162109375,
           -0.1107177734375,
           -0.121337890625,
           -0.08062744140625,
           -0.0094451904296875,
           0.005748748779296875,
           -0.0489501953125,
           -0.072021484375,
           -0.08197021484375,
           -0.061309814453125,
           -0.063720703125,
           0.036590576171875,
           0.08819580078125,
           0.09747314453125,
           0.032989501953125,
           0.07958984375,
           -0.0017747879028320312,
           0.0428466796875,
           0.0987548828125,
           0.047027587890625,
           -0.00905609130859375,
           0.1082763671875,
           0.0260162353515625,
           0.01140594482421875,
           -0.01345062255859375,
           0.007411956787109375
          ],
          [
           -0.06378173828125,
           -0.09661865234375,
           -0.09539794921875,
           -0.0810546875,
           -0.03741455078125,
           -0.1854248046875,
           -0.221435546875,
           -0.1024169921875,
           -0.2802734375,
           -0.193359375,
           -0.0772705078125,
           -0.134521484375,
           -0.1395263671875,
           -0.1802978515625,
           -0.226806640625,
           -0.19580078125,
           -0.162841796875,
           -0.11212158203125,
           -0.12158203125,
           -0.246337890625,
           -0.1087646484375,
           -0.14892578125,
           -0.131103515625,
           -0.302734375,
           -0.1715087890625,
           -0.11541748046875,
           -0.09686279296875,
           -0.13671875,
           -0.0262603759765625,
           -0.14306640625,
           -0.0972900390625,
           -0.11883544921875,
           -0.206787109375,
           -0.248779296875,
           -0.0662841796875,
           -0.2587890625,
           -0.186767578125,
           -0.2342529296875,
           -0.1248779296875
          ],
          [
           -0.1475830078125,
           -0.18115234375,
           -0.1785888671875,
           -0.177978515625,
           -0.178466796875,
           -0.25048828125,
           -0.32275390625,
           -0.2091064453125,
           -0.47412109375,
           -0.3310546875,
           -0.1739501953125,
           -0.272705078125,
           -0.29248046875,
           -0.302001953125,
           -0.380615234375,
           -0.392822265625,
           -0.32177734375,
           -0.1734619140625,
           -0.196533203125,
           -0.3486328125,
           -0.1685791015625,
           -0.2431640625,
           -0.17919921875,
           -0.385498046875,
           -0.203369140625,
           -0.140625,
           -0.10009765625,
           -0.134033203125,
           -0.047119140625,
           -0.183349609375,
           -0.1405029296875,
           -0.1744384765625,
           -0.171142578125,
           -0.1728515625,
           -0.060089111328125,
           -0.1817626953125,
           -0.146240234375,
           -0.26171875,
           -0.1328125
          ],
          [
           0.032501220703125,
           -0.04254150390625,
           -0.0171661376953125,
           0.0137176513671875,
           -0.2015380859375,
           -0.2135009765625,
           -0.10699462890625,
           -0.171630859375,
           -0.39892578125,
           -0.170654296875,
           -0.10546875,
           -0.251953125,
           -0.2496337890625,
           -0.293701171875,
           -0.2041015625,
           -0.199951171875,
           -0.266845703125,
           -0.2342529296875,
           -0.230224609375,
           -0.21875,
           -0.12744140625,
           -0.216064453125,
           -0.2366943359375,
           -0.2044677734375,
           -0.09283447265625,
           -0.039581298828125,
           0.0208892822265625,
           -0.0650634765625,
           -0.109375,
           -0.1993408203125,
           -0.1798095703125,
           -0.2147216796875,
           -0.1085205078125,
           -0.0975341796875,
           -0.140625,
           -0.0472412109375,
           -0.07080078125,
           -0.11370849609375,
           -0.1287841796875
          ],
          [
           0.053436279296875,
           -0.0122833251953125,
           0.09820556640625,
           0.019256591796875,
           -0.0919189453125,
           -0.08526611328125,
           -0.003162384033203125,
           -0.1778564453125,
           -0.4150390625,
           -0.2286376953125,
           -0.11712646484375,
           -0.255615234375,
           -0.232421875,
           -0.24072265625,
           -0.1304931640625,
           -0.11358642578125,
           -0.207763671875,
           -0.1917724609375,
           -0.1865234375,
           -0.214111328125,
           -0.08953857421875,
           -0.204833984375,
           -0.2125244140625,
           -0.1590576171875,
           -0.045867919921875,
           0.024505615234375,
           0.146240234375,
           0.043182373046875,
           0.0125274658203125,
           -0.07525634765625,
           -0.048919677734375,
           -0.08013916015625,
           -0.0014543533325195312,
           -0.0159912109375,
           -0.0017404556274414062,
           0.0112152099609375,
           0.02752685546875,
           -0.0088653564453125,
           -0.06121826171875
          ],
          [
           0.00791168212890625,
           -0.0413818359375,
           0.029876708984375,
           -0.049896240234375,
           -0.1898193359375,
           -0.2802734375,
           -0.2220458984375,
           -0.3359375,
           -0.440673828125,
           -0.324462890625,
           -0.1484375,
           -0.266357421875,
           -0.25390625,
           -0.310791015625,
           -0.2481689453125,
           -0.1802978515625,
           -0.2000732421875,
           -0.191162109375,
           -0.1278076171875,
           -0.2127685546875,
           -0.10546875,
           -0.203857421875,
           -0.1431884765625,
           -0.223388671875,
           -0.1533203125,
           -0.0994873046875,
           -0.0308685302734375,
           -0.08935546875,
           -0.12939453125,
           -0.06915283203125,
           -0.046234130859375,
           -0.11700439453125,
           -0.07989501953125,
           -0.234130859375,
           -0.1326904296875,
           -0.1796875,
           -0.1845703125,
           -0.214111328125,
           -0.274658203125
          ],
          [
           -0.13818359375,
           -0.1480712890625,
           -0.1102294921875,
           -0.175537109375,
           -0.279296875,
           -0.4677734375,
           -0.479736328125,
           -0.43017578125,
           -0.63134765625,
           -0.52490234375,
           -0.260498046875,
           -0.32177734375,
           -0.3671875,
           -0.3291015625,
           -0.329833984375,
           -0.347900390625,
           -0.255859375,
           -0.255615234375,
           -0.245849609375,
           -0.393310546875,
           -0.2135009765625,
           -0.265380859375,
           -0.19677734375,
           -0.53173828125,
           -0.36962890625,
           -0.218994140625,
           -0.236328125,
           -0.255859375,
           -0.251708984375,
           -0.194580078125,
           -0.09698486328125,
           -0.17724609375,
           -0.2293701171875,
           -0.50634765625,
           -0.264892578125,
           -0.430419921875,
           -0.4833984375,
           -0.515625,
           -0.60693359375
          ],
          [
           -0.49853515625,
           -0.609375,
           -0.6767578125,
           -0.7099609375,
           -0.70263671875,
           -0.82958984375,
           -0.8349609375,
           -0.81689453125,
           -0.79150390625,
           -0.82958984375,
           -0.56591796875,
           -0.46240234375,
           -0.67041015625,
           -0.66650390625,
           -0.68603515625,
           -0.60888671875,
           -0.521484375,
           -0.311767578125,
           -0.40380859375,
           -0.7353515625,
           -0.30908203125,
           -0.463623046875,
           -0.267333984375,
           -0.78125,
           -0.62890625,
           -0.50732421875,
           -0.51171875,
           -0.56005859375,
           -0.37255859375,
           -0.42333984375,
           -0.277099609375,
           -0.38134765625,
           -0.61767578125,
           -0.7236328125,
           -0.4033203125,
           -0.7890625,
           -0.7451171875,
           -0.79833984375,
           -0.841796875
          ],
          [
           -0.55712890625,
           -0.6259765625,
           -0.6943359375,
           -0.65283203125,
           -0.98291015625,
           -0.74267578125,
           -0.76611328125,
           -0.67919921875,
           -0.463134765625,
           -0.80126953125,
           -0.415283203125,
           -0.260498046875,
           -0.433837890625,
           -0.6259765625,
           -0.4833984375,
           -0.423828125,
           -0.294189453125,
           -0.11749267578125,
           -0.3173828125,
           -0.498046875,
           -0.29931640625,
           -0.318115234375,
           -0.2401123046875,
           -0.73291015625,
           -0.533203125,
           -0.45751953125,
           -0.50732421875,
           -0.309326171875,
           -0.1630859375,
           -0.38037109375,
           -0.1959228515625,
           -0.273681640625,
           -0.68115234375,
           -0.76708984375,
           -0.6142578125,
           -0.8232421875,
           -0.81103515625,
           -0.7958984375,
           -1.0244140625
          ],
          [
           0.259765625,
           0.2025146484375,
           0.154052734375,
           0.255859375,
           -0.29443359375,
           0.1270751953125,
           0.0028972625732421875,
           0.06573486328125,
           0.323974609375,
           -0.0170135498046875,
           0.44775390625,
           0.5732421875,
           0.439208984375,
           0.20654296875,
           0.4140625,
           0.3046875,
           0.55322265625,
           0.64892578125,
           0.351318359375,
           0.190185546875,
           0.417724609375,
           0.490966796875,
           0.29638671875,
           0.066650390625,
           0.2174072265625,
           0.1925048828125,
           0.265869140625,
           0.5791015625,
           0.693359375,
           0.457763671875,
           0.64892578125,
           0.583984375,
           0.1859130859375,
           -0.051177978515625,
           0.171142578125,
           0.04840087890625,
           -0.0005154609680175781,
           0.183837890625,
           -0.20361328125
          ],
          [
           -0.44482421875,
           -0.59619140625,
           -0.568359375,
           -0.55810546875,
           -0.90478515625,
           -0.466796875,
           -0.455810546875,
           -0.4404296875,
           -0.017730712890625,
           -0.52978515625,
           0.06915283203125,
           0.1029052734375,
           0.0105133056640625,
           -0.375732421875,
           -0.12939453125,
           -0.220703125,
           -0.0170135498046875,
           0.300537109375,
           -0.09869384765625,
           -0.1927490234375,
           -0.08343505859375,
           0.115966796875,
           -0.1488037109375,
           -0.4775390625,
           -0.358154296875,
           -0.4228515625,
           -0.357177734375,
           -0.1610107421875,
           0.176025390625,
           -0.066162109375,
           0.1690673828125,
           -0.01397705078125,
           -0.345947265625,
           -0.583984375,
           -0.4169921875,
           -0.60400390625,
           -0.68701171875,
           -0.61572265625,
           -1.0185546875
          ],
          [
           -0.2509765625,
           -0.45654296875,
           -0.355224609375,
           -0.325927734375,
           -0.76806640625,
           -0.45458984375,
           -0.556640625,
           -0.37451171875,
           -0.1219482421875,
           -0.59423828125,
           -0.0224151611328125,
           0.235595703125,
           0.11041259765625,
           -0.252685546875,
           0.08233642578125,
           -0.265380859375,
           0.0005192756652832031,
           0.333740234375,
           -0.0211944580078125,
           -0.37109375,
           -0.101806640625,
           0.1763916015625,
           -0.1964111328125,
           -0.7060546875,
           -0.38232421875,
           -0.5078125,
           -0.50732421875,
           0.035888671875,
           0.5888671875,
           0.05194091796875,
           0.353271484375,
           -0.0843505859375,
           -0.27099609375,
           -0.6962890625,
           -0.3173828125,
           -0.6611328125,
           -0.80810546875,
           -0.69873046875,
           -1.17578125
          ],
          [
           -0.47021484375,
           -0.58154296875,
           -0.440673828125,
           -0.3046875,
           -1.14453125,
           -0.330078125,
           -0.6494140625,
           -0.5419921875,
           0.07647705078125,
           -0.86669921875,
           -0.310791015625,
           0.21240234375,
           0.055450439453125,
           -0.52392578125,
           -0.0855712890625,
           -0.23876953125,
           0.1505126953125,
           0.78662109375,
           0.0264892578125,
           -0.08203125,
           -0.02801513671875,
           0.599609375,
           0.1829833984375,
           -0.79150390625,
           -0.64599609375,
           -0.69970703125,
           -0.7001953125,
           0.2459716796875,
           0.66259765625,
           0.2203369140625,
           0.486328125,
           0.0246429443359375,
           -0.1300048828125,
           -0.76708984375,
           -0.3876953125,
           -1.06640625,
           -1.123046875,
           -0.94921875,
           -1.806640625
          ],
          [
           -1.2236328125,
           -1.3505859375,
           -1.271484375,
           -1.103515625,
           -2.052734375,
           -1.1337890625,
           -1.447265625,
           -1.5009765625,
           -1.0400390625,
           -1.787109375,
           -1.197265625,
           -0.75244140625,
           -0.859375,
           -1.345703125,
           -0.87451171875,
           -1.1962890625,
           -0.81982421875,
           -0.1766357421875,
           -0.89697265625,
           -0.9140625,
           -1.029296875,
           -0.263427734375,
           -0.90576171875,
           -1.5126953125,
           -1.501953125,
           -1.529296875,
           -1.4541015625,
           -0.50732421875,
           -0.08221435546875,
           -0.5029296875,
           -0.2283935546875,
           -0.73828125,
           -0.974609375,
           -1.560546875,
           -1.357421875,
           -1.845703125,
           -1.8818359375,
           -1.669921875,
           -2.685546875
          ],
          [
           -1.4150390625,
           -1.4345703125,
           -1.3994140625,
           -0.9482421875,
           -2.16015625,
           -0.98193359375,
           -1.4736328125,
           -1.634765625,
           -0.9326171875,
           -1.71875,
           -1.4150390625,
           -0.591796875,
           -0.68017578125,
           -1.2451171875,
           -0.75048828125,
           -0.9873046875,
           -0.85888671875,
           0.11572265625,
           -0.7724609375,
           -0.56103515625,
           -0.89794921875,
           0.12548828125,
           -0.58349609375,
           -1.3486328125,
           -1.6650390625,
           -1.5380859375,
           -1.64453125,
           -0.340576171875,
           0.434814453125,
           -0.08148193359375,
           0.2440185546875,
           -0.439208984375,
           -0.90673828125,
           -1.1669921875,
           -1.0927734375,
           -1.486328125,
           -1.5810546875,
           -1.46875,
           -2.69921875
          ],
          [
           -1.25,
           -1.048828125,
           -1.0458984375,
           -0.75048828125,
           -1.87890625,
           -0.70458984375,
           -1.474609375,
           -1.599609375,
           -0.9833984375,
           -1.9912109375,
           -1.587890625,
           -0.393310546875,
           -0.73681640625,
           -1.3427734375,
           -0.625,
           -0.7763671875,
           -0.89697265625,
           0.207763671875,
           -0.77978515625,
           -0.5927734375,
           -0.841796875,
           0.2578125,
           -0.6201171875,
           -1.3896484375,
           -1.7529296875,
           -1.53125,
           -1.6396484375,
           -0.230224609375,
           0.4921875,
           0.04364013671875,
           0.407958984375,
           -0.29052734375,
           -0.7578125,
           -0.9013671875,
           -0.79150390625,
           -1.3310546875,
           -1.3720703125,
           -1.3818359375,
           -2.6953125
          ],
          [
           -0.133544921875,
           0.051483154296875,
           -0.044403076171875,
           0.1085205078125,
           -1.0478515625,
           0.31005859375,
           -0.85986328125,
           -0.671875,
           0.065673828125,
           -1.0283203125,
           -0.7138671875,
           0.68408203125,
           0.291259765625,
           -0.34033203125,
           0.2464599609375,
           0.23486328125,
           0.09393310546875,
           1.3212890625,
           0.212158203125,
           0.458740234375,
           0.329833984375,
           1.3837890625,
           0.1959228515625,
           -0.642578125,
           -0.53173828125,
           -0.181396484375,
           -0.338134765625,
           0.779296875,
           1.701171875,
           1.3720703125,
           1.703125,
           0.67529296875,
           0.30029296875,
           0.2269287109375,
           0.2152099609375,
           -0.46630859375,
           -0.357177734375,
           -0.4091796875,
           -1.6640625
          ],
          [
           -0.12890625,
           -0.0066986083984375,
           -0.09442138671875,
           0.11077880859375,
           -1.0517578125,
           0.2322998046875,
           -0.94580078125,
           -0.63818359375,
           -0.156982421875,
           -1.3896484375,
           -0.880859375,
           0.4775390625,
           0.044921875,
           -0.6171875,
           0.109619140625,
           -0.149169921875,
           0.00033926963806152344,
           1.4765625,
           0.06396484375,
           0.262939453125,
           0.302001953125,
           1.4619140625,
           0.1033935546875,
           -0.84716796875,
           -0.74755859375,
           -0.307373046875,
           -0.68115234375,
           0.96435546875,
           2.01171875,
           1.4560546875,
           1.8837890625,
           0.65673828125,
           0.451416015625,
           0.1458740234375,
           0.3505859375,
           -0.51171875,
           -0.328857421875,
           -0.426513671875,
           -1.822265625
          ],
          [
           -0.1788330078125,
           -0.0345458984375,
           -0.2210693359375,
           0.3662109375,
           -0.68310546875,
           0.380859375,
           -0.87939453125,
           -0.293212890625,
           -0.0948486328125,
           -1.2275390625,
           -1.236328125,
           0.4482421875,
           0.251953125,
           -0.568359375,
           0.28857421875,
           -0.198486328125,
           -0.0989990234375,
           1.2294921875,
           -0.01238250732421875,
           0.1463623046875,
           0.290283203125,
           1.17578125,
           -0.007770538330078125,
           -0.89208984375,
           -0.83203125,
           -0.408447265625,
           -0.80419921875,
           0.74267578125,
           2.10546875,
           1.3974609375,
           1.783203125,
           0.78515625,
           0.5703125,
           0.2802734375,
           0.5205078125,
           -0.6611328125,
           -0.4189453125,
           -0.61572265625,
           -1.9189453125
          ],
          [
           -1.1611328125,
           -1.060546875,
           -1.1083984375,
           -0.4873046875,
           -1.37890625,
           -0.1710205078125,
           -1.78125,
           -1.26171875,
           -1.083984375,
           -2.287109375,
           -1.9130859375,
           -0.253173828125,
           -0.8232421875,
           -1.5400390625,
           -0.77490234375,
           -1.2890625,
           -0.97216796875,
           0.0667724609375,
           -0.962890625,
           -0.89404296875,
           -0.79052734375,
           0.239501953125,
           -1.111328125,
           -1.947265625,
           -1.896484375,
           -1.4384765625,
           -1.6416015625,
           -0.155029296875,
           1.193359375,
           0.52734375,
           0.98779296875,
           0.1929931640625,
           -0.356689453125,
           -0.84033203125,
           -0.52197265625,
           -1.58984375,
           -1.482421875,
           -1.4921875,
           -2.74609375
          ],
          [
           0.47021484375,
           0.529296875,
           0.60009765625,
           1.25,
           0.81396484375,
           1.435546875,
           -0.31787109375,
           0.59765625,
           0.36376953125,
           -0.72509765625,
           -0.233154296875,
           1.509765625,
           0.7353515625,
           0.2169189453125,
           1.15625,
           0.128662109375,
           0.476318359375,
           1.701171875,
           0.35888671875,
           0.5419921875,
           0.7197265625,
           1.8134765625,
           0.19482421875,
           -0.87744140625,
           -0.1552734375,
           0.4091796875,
           0.278564453125,
           1.46875,
           3.0546875,
           2.373046875,
           2.787109375,
           1.8916015625,
           1.36328125,
           0.7783203125,
           1.1728515625,
           0.1763916015625,
           0.1280517578125,
           0.078125,
           -0.97021484375
          ],
          [
           -2.625,
           -3.005859375,
           -2.970703125,
           -2.115234375,
           -2.310546875,
           -2.236328125,
           -3.923828125,
           -2.990234375,
           -3.158203125,
           -4.24609375,
           -3.328125,
           -1.6513671875,
           -2.568359375,
           -3.36328125,
           -2.14453125,
           -3.6328125,
           -3.015625,
           -1.8251953125,
           -3.099609375,
           -2.72265625,
           -2.712890625,
           -1.6875,
           -3.556640625,
           -4.3515625,
           -3.6015625,
           -3.072265625,
           -3.099609375,
           -1.6806640625,
           -0.4267578125,
           -0.9580078125,
           -0.7451171875,
           -1.5029296875,
           -2.1328125,
           -2.88671875,
           -2.26953125,
           -3.298828125,
           -3.408203125,
           -3.341796875,
           -4.56640625
          ],
          [
           -2.013671875,
           -2.51171875,
           -2.5625,
           -1.5703125,
           -1.9296875,
           -1.7509765625,
           -3.400390625,
           -2.63671875,
           -2.60546875,
           -4.015625,
           -2.767578125,
           -0.94091796875,
           -1.8857421875,
           -3.033203125,
           -1.5380859375,
           -2.96484375,
           -2.37109375,
           -1.3837890625,
           -2.498046875,
           -2.357421875,
           -2.41015625,
           -1.2041015625,
           -2.884765625,
           -3.76171875,
           -3.12890625,
           -2.751953125,
           -2.55078125,
           -1.1337890625,
           -0.1533203125,
           -0.2095947265625,
           -0.388427734375,
           -0.35693359375,
           -1.4384765625,
           -2.587890625,
           -1.58984375,
           -2.845703125,
           -2.99609375,
           -2.662109375,
           -4.10546875
          ],
          [
           -15.8046875,
           -12.3359375,
           -13.6484375,
           -10.3203125,
           -10.7265625,
           -2.26953125,
           -28.0625,
           -28.984375,
           -18.46875,
           -36.84375,
           -13.4140625,
           2.078125,
           -14.875,
           -33.5,
           -11.84375,
           -22.21875,
           -24.1875,
           -1.921875,
           -16.28125,
           -8.3515625,
           -18.375,
           -3.75390625,
           -21.5,
           -40.5,
           -20.859375,
           -14.484375,
           -12.4375,
           3.181640625,
           13.15625,
           10.640625,
           2.734375,
           7.85546875,
           -8.5,
           -11.2421875,
           -6.83984375,
           -18.9375,
           -24.234375,
           -23.765625,
           -29.03125
          ]
         ]
        }
       ],
       "layout": {
        "coloraxis": {
         "cmax": 2.6401,
         "cmin": -2.6401,
         "colorscale": [
          [
           0,
           "rgb(165,0,38)"
          ],
          [
           0.1,
           "rgb(215,48,39)"
          ],
          [
           0.2,
           "rgb(244,109,67)"
          ],
          [
           0.3,
           "rgb(253,174,97)"
          ],
          [
           0.4,
           "rgb(254,224,139)"
          ],
          [
           0.5,
           "rgb(255,255,191)"
          ],
          [
           0.6,
           "rgb(217,239,139)"
          ],
          [
           0.7,
           "rgb(166,217,106)"
          ],
          [
           0.8,
           "rgb(102,189,99)"
          ],
          [
           0.9,
           "rgb(26,152,80)"
          ],
          [
           1,
           "rgb(0,104,55)"
          ]
         ]
        },
        "height": 600,
        "margin": {
         "t": 60
        },
        "template": {
         "data": {
          "bar": [
           {
            "error_x": {
             "color": "#2a3f5f"
            },
            "error_y": {
             "color": "#2a3f5f"
            },
            "marker": {
             "line": {
              "color": "#E5ECF6",
              "width": 0.5
             },
             "pattern": {
              "fillmode": "overlay",
              "size": 10,
              "solidity": 0.2
             }
            },
            "type": "bar"
           }
          ],
          "barpolar": [
           {
            "marker": {
             "line": {
              "color": "#E5ECF6",
              "width": 0.5
             },
             "pattern": {
              "fillmode": "overlay",
              "size": 10,
              "solidity": 0.2
             }
            },
            "type": "barpolar"
           }
          ],
          "carpet": [
           {
            "aaxis": {
             "endlinecolor": "#2a3f5f",
             "gridcolor": "white",
             "linecolor": "white",
             "minorgridcolor": "white",
             "startlinecolor": "#2a3f5f"
            },
            "baxis": {
             "endlinecolor": "#2a3f5f",
             "gridcolor": "white",
             "linecolor": "white",
             "minorgridcolor": "white",
             "startlinecolor": "#2a3f5f"
            },
            "type": "carpet"
           }
          ],
          "choropleth": [
           {
            "colorbar": {
             "outlinewidth": 0,
             "ticks": ""
            },
            "type": "choropleth"
           }
          ],
          "contour": [
           {
            "colorbar": {
             "outlinewidth": 0,
             "ticks": ""
            },
            "colorscale": [
             [
              0,
              "#0d0887"
             ],
             [
              0.1111111111111111,
              "#46039f"
             ],
             [
              0.2222222222222222,
              "#7201a8"
             ],
             [
              0.3333333333333333,
              "#9c179e"
             ],
             [
              0.4444444444444444,
              "#bd3786"
             ],
             [
              0.5555555555555556,
              "#d8576b"
             ],
             [
              0.6666666666666666,
              "#ed7953"
             ],
             [
              0.7777777777777778,
              "#fb9f3a"
             ],
             [
              0.8888888888888888,
              "#fdca26"
             ],
             [
              1,
              "#f0f921"
             ]
            ],
            "type": "contour"
           }
          ],
          "contourcarpet": [
           {
            "colorbar": {
             "outlinewidth": 0,
             "ticks": ""
            },
            "type": "contourcarpet"
           }
          ],
          "heatmap": [
           {
            "colorbar": {
             "outlinewidth": 0,
             "ticks": ""
            },
            "colorscale": [
             [
              0,
              "#0d0887"
             ],
             [
              0.1111111111111111,
              "#46039f"
             ],
             [
              0.2222222222222222,
              "#7201a8"
             ],
             [
              0.3333333333333333,
              "#9c179e"
             ],
             [
              0.4444444444444444,
              "#bd3786"
             ],
             [
              0.5555555555555556,
              "#d8576b"
             ],
             [
              0.6666666666666666,
              "#ed7953"
             ],
             [
              0.7777777777777778,
              "#fb9f3a"
             ],
             [
              0.8888888888888888,
              "#fdca26"
             ],
             [
              1,
              "#f0f921"
             ]
            ],
            "type": "heatmap"
           }
          ],
          "heatmapgl": [
           {
            "colorbar": {
             "outlinewidth": 0,
             "ticks": ""
            },
            "colorscale": [
             [
              0,
              "#0d0887"
             ],
             [
              0.1111111111111111,
              "#46039f"
             ],
             [
              0.2222222222222222,
              "#7201a8"
             ],
             [
              0.3333333333333333,
              "#9c179e"
             ],
             [
              0.4444444444444444,
              "#bd3786"
             ],
             [
              0.5555555555555556,
              "#d8576b"
             ],
             [
              0.6666666666666666,
              "#ed7953"
             ],
             [
              0.7777777777777778,
              "#fb9f3a"
             ],
             [
              0.8888888888888888,
              "#fdca26"
             ],
             [
              1,
              "#f0f921"
             ]
            ],
            "type": "heatmapgl"
           }
          ],
          "histogram": [
           {
            "marker": {
             "pattern": {
              "fillmode": "overlay",
              "size": 10,
              "solidity": 0.2
             }
            },
            "type": "histogram"
           }
          ],
          "histogram2d": [
           {
            "colorbar": {
             "outlinewidth": 0,
             "ticks": ""
            },
            "colorscale": [
             [
              0,
              "#0d0887"
             ],
             [
              0.1111111111111111,
              "#46039f"
             ],
             [
              0.2222222222222222,
              "#7201a8"
             ],
             [
              0.3333333333333333,
              "#9c179e"
             ],
             [
              0.4444444444444444,
              "#bd3786"
             ],
             [
              0.5555555555555556,
              "#d8576b"
             ],
             [
              0.6666666666666666,
              "#ed7953"
             ],
             [
              0.7777777777777778,
              "#fb9f3a"
             ],
             [
              0.8888888888888888,
              "#fdca26"
             ],
             [
              1,
              "#f0f921"
             ]
            ],
            "type": "histogram2d"
           }
          ],
          "histogram2dcontour": [
           {
            "colorbar": {
             "outlinewidth": 0,
             "ticks": ""
            },
            "colorscale": [
             [
              0,
              "#0d0887"
             ],
             [
              0.1111111111111111,
              "#46039f"
             ],
             [
              0.2222222222222222,
              "#7201a8"
             ],
             [
              0.3333333333333333,
              "#9c179e"
             ],
             [
              0.4444444444444444,
              "#bd3786"
             ],
             [
              0.5555555555555556,
              "#d8576b"
             ],
             [
              0.6666666666666666,
              "#ed7953"
             ],
             [
              0.7777777777777778,
              "#fb9f3a"
             ],
             [
              0.8888888888888888,
              "#fdca26"
             ],
             [
              1,
              "#f0f921"
             ]
            ],
            "type": "histogram2dcontour"
           }
          ],
          "mesh3d": [
           {
            "colorbar": {
             "outlinewidth": 0,
             "ticks": ""
            },
            "type": "mesh3d"
           }
          ],
          "parcoords": [
           {
            "line": {
             "colorbar": {
              "outlinewidth": 0,
              "ticks": ""
             }
            },
            "type": "parcoords"
           }
          ],
          "pie": [
           {
            "automargin": true,
            "type": "pie"
           }
          ],
          "scatter": [
           {
            "fillpattern": {
             "fillmode": "overlay",
             "size": 10,
             "solidity": 0.2
            },
            "type": "scatter"
           }
          ],
          "scatter3d": [
           {
            "line": {
             "colorbar": {
              "outlinewidth": 0,
              "ticks": ""
             }
            },
            "marker": {
             "colorbar": {
              "outlinewidth": 0,
              "ticks": ""
             }
            },
            "type": "scatter3d"
           }
          ],
          "scattercarpet": [
           {
            "marker": {
             "colorbar": {
              "outlinewidth": 0,
              "ticks": ""
             }
            },
            "type": "scattercarpet"
           }
          ],
          "scattergeo": [
           {
            "marker": {
             "colorbar": {
              "outlinewidth": 0,
              "ticks": ""
             }
            },
            "type": "scattergeo"
           }
          ],
          "scattergl": [
           {
            "marker": {
             "colorbar": {
              "outlinewidth": 0,
              "ticks": ""
             }
            },
            "type": "scattergl"
           }
          ],
          "scattermapbox": [
           {
            "marker": {
             "colorbar": {
              "outlinewidth": 0,
              "ticks": ""
             }
            },
            "type": "scattermapbox"
           }
          ],
          "scatterpolar": [
           {
            "marker": {
             "colorbar": {
              "outlinewidth": 0,
              "ticks": ""
             }
            },
            "type": "scatterpolar"
           }
          ],
          "scatterpolargl": [
           {
            "marker": {
             "colorbar": {
              "outlinewidth": 0,
              "ticks": ""
             }
            },
            "type": "scatterpolargl"
           }
          ],
          "scatterternary": [
           {
            "marker": {
             "colorbar": {
              "outlinewidth": 0,
              "ticks": ""
             }
            },
            "type": "scatterternary"
           }
          ],
          "surface": [
           {
            "colorbar": {
             "outlinewidth": 0,
             "ticks": ""
            },
            "colorscale": [
             [
              0,
              "#0d0887"
             ],
             [
              0.1111111111111111,
              "#46039f"
             ],
             [
              0.2222222222222222,
              "#7201a8"
             ],
             [
              0.3333333333333333,
              "#9c179e"
             ],
             [
              0.4444444444444444,
              "#bd3786"
             ],
             [
              0.5555555555555556,
              "#d8576b"
             ],
             [
              0.6666666666666666,
              "#ed7953"
             ],
             [
              0.7777777777777778,
              "#fb9f3a"
             ],
             [
              0.8888888888888888,
              "#fdca26"
             ],
             [
              1,
              "#f0f921"
             ]
            ],
            "type": "surface"
           }
          ],
          "table": [
           {
            "cells": {
             "fill": {
              "color": "#EBF0F8"
             },
             "line": {
              "color": "white"
             }
            },
            "header": {
             "fill": {
              "color": "#C8D4E3"
             },
             "line": {
              "color": "white"
             }
            },
            "type": "table"
           }
          ]
         },
         "layout": {
          "annotationdefaults": {
           "arrowcolor": "#2a3f5f",
           "arrowhead": 0,
           "arrowwidth": 1
          },
          "autotypenumbers": "strict",
          "coloraxis": {
           "colorbar": {
            "outlinewidth": 0,
            "ticks": ""
           }
          },
          "colorscale": {
           "diverging": [
            [
             0,
             "#8e0152"
            ],
            [
             0.1,
             "#c51b7d"
            ],
            [
             0.2,
             "#de77ae"
            ],
            [
             0.3,
             "#f1b6da"
            ],
            [
             0.4,
             "#fde0ef"
            ],
            [
             0.5,
             "#f7f7f7"
            ],
            [
             0.6,
             "#e6f5d0"
            ],
            [
             0.7,
             "#b8e186"
            ],
            [
             0.8,
             "#7fbc41"
            ],
            [
             0.9,
             "#4d9221"
            ],
            [
             1,
             "#276419"
            ]
           ],
           "sequential": [
            [
             0,
             "#0d0887"
            ],
            [
             0.1111111111111111,
             "#46039f"
            ],
            [
             0.2222222222222222,
             "#7201a8"
            ],
            [
             0.3333333333333333,
             "#9c179e"
            ],
            [
             0.4444444444444444,
             "#bd3786"
            ],
            [
             0.5555555555555556,
             "#d8576b"
            ],
            [
             0.6666666666666666,
             "#ed7953"
            ],
            [
             0.7777777777777778,
             "#fb9f3a"
            ],
            [
             0.8888888888888888,
             "#fdca26"
            ],
            [
             1,
             "#f0f921"
            ]
           ],
           "sequentialminus": [
            [
             0,
             "#0d0887"
            ],
            [
             0.1111111111111111,
             "#46039f"
            ],
            [
             0.2222222222222222,
             "#7201a8"
            ],
            [
             0.3333333333333333,
             "#9c179e"
            ],
            [
             0.4444444444444444,
             "#bd3786"
            ],
            [
             0.5555555555555556,
             "#d8576b"
            ],
            [
             0.6666666666666666,
             "#ed7953"
            ],
            [
             0.7777777777777778,
             "#fb9f3a"
            ],
            [
             0.8888888888888888,
             "#fdca26"
            ],
            [
             1,
             "#f0f921"
            ]
           ]
          },
          "colorway": [
           "#636efa",
           "#EF553B",
           "#00cc96",
           "#ab63fa",
           "#FFA15A",
           "#19d3f3",
           "#FF6692",
           "#B6E880",
           "#FF97FF",
           "#FECB52"
          ],
          "font": {
           "color": "#2a3f5f"
          },
          "geo": {
           "bgcolor": "white",
           "lakecolor": "white",
           "landcolor": "#E5ECF6",
           "showlakes": true,
           "showland": true,
           "subunitcolor": "white"
          },
          "hoverlabel": {
           "align": "left"
          },
          "hovermode": "closest",
          "mapbox": {
           "style": "light"
          },
          "paper_bgcolor": "white",
          "plot_bgcolor": "#E5ECF6",
          "polar": {
           "angularaxis": {
            "gridcolor": "white",
            "linecolor": "white",
            "ticks": ""
           },
           "bgcolor": "#E5ECF6",
           "radialaxis": {
            "gridcolor": "white",
            "linecolor": "white",
            "ticks": ""
           }
          },
          "scene": {
           "xaxis": {
            "backgroundcolor": "#E5ECF6",
            "gridcolor": "white",
            "gridwidth": 2,
            "linecolor": "white",
            "showbackground": true,
            "ticks": "",
            "zerolinecolor": "white"
           },
           "yaxis": {
            "backgroundcolor": "#E5ECF6",
            "gridcolor": "white",
            "gridwidth": 2,
            "linecolor": "white",
            "showbackground": true,
            "ticks": "",
            "zerolinecolor": "white"
           },
           "zaxis": {
            "backgroundcolor": "#E5ECF6",
            "gridcolor": "white",
            "gridwidth": 2,
            "linecolor": "white",
            "showbackground": true,
            "ticks": "",
            "zerolinecolor": "white"
           }
          },
          "shapedefaults": {
           "line": {
            "color": "#2a3f5f"
           }
          },
          "ternary": {
           "aaxis": {
            "gridcolor": "white",
            "linecolor": "white",
            "ticks": ""
           },
           "baxis": {
            "gridcolor": "white",
            "linecolor": "white",
            "ticks": ""
           },
           "bgcolor": "#E5ECF6",
           "caxis": {
            "gridcolor": "white",
            "linecolor": "white",
            "ticks": ""
           }
          },
          "title": {
           "x": 0.05
          },
          "xaxis": {
           "automargin": true,
           "gridcolor": "white",
           "linecolor": "white",
           "ticks": "",
           "title": {
            "standoff": 15
           },
           "zerolinecolor": "white",
           "zerolinewidth": 2
          },
          "yaxis": {
           "automargin": true,
           "gridcolor": "white",
           "linecolor": "white",
           "ticks": "",
           "title": {
            "standoff": 15
           },
           "zerolinecolor": "white",
           "zerolinewidth": 2
          }
         }
        },
        "width": 1000,
        "xaxis": {
         "anchor": "y",
         "autorange": true,
         "constrain": "domain",
         "domain": [
          0.19013577063106796,
          0.809864229368932
         ],
         "range": [
          -0.5,
          38.5
         ],
         "scaleanchor": "y",
         "ticktext": [
          "▁Something",
          "▁that",
          "▁would",
          "▁make",
          "▁me",
          "▁unhappy",
          "▁is",
          "▁constant",
          "▁criticism",
          ",",
          "▁bel",
          "itt",
          "ling",
          "▁or",
          "▁negative",
          "▁comments",
          "▁about",
          "▁my",
          "▁abilities",
          ",",
          "▁actions",
          "▁or",
          "▁ideas",
          ".",
          "▁It",
          "▁can",
          "▁really",
          "▁lower",
          "▁my",
          "▁self",
          "-",
          "este",
          "em",
          "▁and",
          "▁motivation",
          ",",
          "▁and",
          "▁make",
          "▁me",
          "▁feel"
         ],
         "tickvals": [
          0,
          1,
          2,
          3,
          4,
          5,
          6,
          7,
          8,
          9,
          10,
          11,
          12,
          13,
          14,
          15,
          16,
          17,
          18,
          19,
          20,
          21,
          22,
          23,
          24,
          25,
          26,
          27,
          28,
          29,
          30,
          31,
          32,
          33,
          34,
          35,
          36,
          37,
          38,
          39
         ],
         "title": {
          "text": "Token"
         }
        },
        "yaxis": {
         "anchor": "x",
         "autorange": true,
         "constrain": "domain",
         "domain": [
          0,
          1
         ],
         "range": [
          31.5,
          -0.5
         ]
        }
       }
      },
      "image/png": "[encoded data removed]",
      "text/html": [
       "<div>                            <div id=\"8e85e32d-e322-41c6-8e15-75f69fc508c9\" class=\"plotly-graph-div\" style=\"height:600px; width:1000px;\"></div>            <script type=\"text/javascript\">                require([\"plotly\"], function(Plotly) {                    window.PLOTLYENV=window.PLOTLYENV || {};                                    if (document.getElementById(\"8e85e32d-e322-41c6-8e15-75f69fc508c9\")) {                    Plotly.newPlot(                        \"8e85e32d-e322-41c6-8e15-75f69fc508c9\",                        [{\"coloraxis\":\"coloraxis\",\"name\":\"0\",\"z\":[[-0.0032749176025390625,0.0013456344604492188,0.002918243408203125,-0.00846099853515625,-0.004180908203125,0.003826141357421875,0.00666046142578125,0.01434326171875,0.0025615692138671875,0.00324249267578125,0.0034198760986328125,0.008819580078125,-0.001102447509765625,0.00014591217041015625,0.010986328125,0.00536346435546875,0.00030803680419921875,-0.00403594970703125,0.0176544189453125,0.00453948974609375,0.01346588134765625,-0.002349853515625,0.0026264190673828125,0.00351715087890625,0.0157318115234375,0.0083465576171875,0.01163482666015625,0.0207366943359375,0.0034847259521484375,0.019439697265625,0.0229034423828125,0.00870513916015625,-0.005283355712890625,-3.24249267578125e-05,-0.003631591796875,0.005512237548828125,0.00534820556640625,-0.01056671142578125,-0.00390625],[-0.0230865478515625,-0.01727294921875,-0.00432586669921875,-0.006298065185546875,-0.0138702392578125,-0.01123809814453125,0.01348876953125,-0.00030684471130371094,-0.007717132568359375,0.03070068359375,0.01947021484375,0.006549835205078125,0.00836181640625,0.0321044921875,0.002864837646484375,-0.004734039306640625,0.0020313262939453125,0.007686614990234375,-0.01629638671875,0.004940032958984375,-0.004749298095703125,0.023284912109375,-0.0159912109375,-0.0212249755859375,-0.036865234375,-0.048675537109375,-0.03521728515625,-0.029510498046875,-0.0212860107421875,-0.01122283935546875,-0.01458740234375,-0.00850677490234375,0.0,-0.00856781005859375,-0.0272369384765625,-0.007659912109375,-0.017730712890625,-0.023712158203125,-0.018798828125],[0.006256103515625,-0.016815185546875,-0.0243682861328125,-0.02435302734375,-0.0169525146484375,-0.001087188720703125,-0.007537841796875,-0.04248046875,-0.04620361328125,-0.0291900634765625,-0.0196990966796875,-0.0098114013671875,-0.011016845703125,-0.006298065185546875,-0.032806396484375,-0.03216552734375,-0.00653839111328125,-0.0205841064453125,-0.0224151611328125,-0.02142333984375,-0.06915283203125,-0.0255584716796875,-0.042236328125,-0.055328369140625,-0.039794921875,-0.056884765625,-0.0254364013671875,-0.030548095703125,-0.031707763671875,-0.0347900390625,-0.06439208984375,-0.0250091552734375,-0.055267333984375,-0.040435791015625,-0.05963134765625,-0.031646728515625,-0.026519775390625,-0.045623779296875,-0.018646240234375],[0.08306884765625,0.0673828125,0.07232666015625,0.0557861328125,0.08447265625,0.034881591796875,0.10345458984375,0.05718994140625,0.0389404296875,0.04681396484375,0.044281005859375,0.0290069580078125,0.051300048828125,0.0460205078125,0.07025146484375,0.060150146484375,0.055267333984375,0.0877685546875,0.037200927734375,0.06591796875,0.00998687744140625,0.06097412109375,0.00807952880859375,0.0009965896606445312,-0.005817413330078125,-0.016143798828125,0.015716552734375,-0.01666259765625,-0.00492095947265625,-0.0183258056640625,-0.003330230712890625,0.006908416748046875,-0.031524658203125,-0.0106048583984375,-0.0051727294921875,-0.030670166015625,0.0026569366455078125,0.018310546875,0.0233306884765625],[0.1448974609375,0.1475830078125,0.09967041015625,0.07806396484375,0.122314453125,0.0640869140625,0.1898193359375,0.07196044921875,0.0167694091796875,0.03656005859375,0.0286407470703125,0.0254974365234375,0.03387451171875,0.032440185546875,0.04595947265625,0.0078582763671875,0.0244598388671875,0.05450439453125,0.018280029296875,0.038360595703125,-0.001842498779296875,0.10650634765625,0.0297698974609375,0.0306243896484375,0.0650634765625,0.08502197265625,0.07537841796875,0.034393310546875,0.035003662109375,0.054962158203125,0.053253173828125,0.10333251953125,0.035400390625,0.0301513671875,0.07177734375,0.025970458984375,0.040771484375,0.0111236572265625,0.035888671875],[0.1024169921875,0.11578369140625,0.0728759765625,0.08056640625,0.1295166015625,0.0718994140625,0.16748046875,0.034515380859375,0.052398681640625,0.05145263671875,0.04669189453125,0.031524658203125,0.03936767578125,0.004146575927734375,0.09002685546875,0.0002715587615966797,-0.00498199462890625,0.023681640625,0.0283660888671875,0.032501220703125,-0.0673828125,0.013671875,0.011260986328125,0.039398193359375,0.07037353515625,0.057525634765625,0.1087646484375,0.055084228515625,0.07305908203125,0.0350341796875,0.06964111328125,0.0858154296875,0.0865478515625,0.0743408203125,0.149658203125,0.07965087890625,0.028564453125,0.04449462890625,0.09417724609375],[0.10308837890625,0.118408203125,0.095458984375,0.087890625,0.11663818359375,0.05615234375,0.13916015625,0.0218963623046875,-0.0011339187622070312,0.027099609375,0.017486572265625,-0.01776123046875,-0.01294708251953125,-0.03436279296875,0.022186279296875,-0.03759765625,-0.045684814453125,0.01076507568359375,0.0266571044921875,0.0233612060546875,-0.09765625,-0.00798797607421875,0.0170745849609375,0.024078369140625,0.051116943359375,0.056488037109375,0.08917236328125,0.0587158203125,0.0897216796875,0.036163330078125,0.0816650390625,0.11395263671875,0.075927734375,0.06036376953125,0.149169921875,0.07879638671875,0.035247802734375,0.0278472900390625,0.09942626953125],[0.15625,0.1695556640625,0.15625,0.1671142578125,0.11328125,0.043853759765625,0.1810302734375,0.06951904296875,-0.0582275390625,0.06597900390625,0.04168701171875,-0.0174407958984375,-0.047821044921875,-0.0523681640625,-0.07403564453125,-0.12188720703125,-0.07666015625,0.046722412109375,0.0177459716796875,0.0199127197265625,-0.0797119140625,-0.0084991455078125,0.02484130859375,0.03741455078125,0.10296630859375,0.10601806640625,0.152587890625,0.07147216796875,0.11285400390625,0.0233612060546875,0.0709228515625,0.1375732421875,0.080078125,0.07061767578125,0.11309814453125,0.089111328125,0.043853759765625,0.07135009765625,0.0771484375],[0.106689453125,0.11285400390625,0.106201171875,0.1397705078125,0.061920166015625,0.0183868408203125,0.109130859375,0.050445556640625,-0.1343994140625,0.0284271240234375,0.021240234375,-0.061676025390625,-0.0208892822265625,-0.08441162109375,-0.1107177734375,-0.121337890625,-0.08062744140625,-0.0094451904296875,0.005748748779296875,-0.0489501953125,-0.072021484375,-0.08197021484375,-0.061309814453125,-0.063720703125,0.036590576171875,0.08819580078125,0.09747314453125,0.032989501953125,0.07958984375,-0.0017747879028320312,0.0428466796875,0.0987548828125,0.047027587890625,-0.00905609130859375,0.1082763671875,0.0260162353515625,0.01140594482421875,-0.01345062255859375,0.007411956787109375],[-0.06378173828125,-0.09661865234375,-0.09539794921875,-0.0810546875,-0.03741455078125,-0.1854248046875,-0.221435546875,-0.1024169921875,-0.2802734375,-0.193359375,-0.0772705078125,-0.134521484375,-0.1395263671875,-0.1802978515625,-0.226806640625,-0.19580078125,-0.162841796875,-0.11212158203125,-0.12158203125,-0.246337890625,-0.1087646484375,-0.14892578125,-0.131103515625,-0.302734375,-0.1715087890625,-0.11541748046875,-0.09686279296875,-0.13671875,-0.0262603759765625,-0.14306640625,-0.0972900390625,-0.11883544921875,-0.206787109375,-0.248779296875,-0.0662841796875,-0.2587890625,-0.186767578125,-0.2342529296875,-0.1248779296875],[-0.1475830078125,-0.18115234375,-0.1785888671875,-0.177978515625,-0.178466796875,-0.25048828125,-0.32275390625,-0.2091064453125,-0.47412109375,-0.3310546875,-0.1739501953125,-0.272705078125,-0.29248046875,-0.302001953125,-0.380615234375,-0.392822265625,-0.32177734375,-0.1734619140625,-0.196533203125,-0.3486328125,-0.1685791015625,-0.2431640625,-0.17919921875,-0.385498046875,-0.203369140625,-0.140625,-0.10009765625,-0.134033203125,-0.047119140625,-0.183349609375,-0.1405029296875,-0.1744384765625,-0.171142578125,-0.1728515625,-0.060089111328125,-0.1817626953125,-0.146240234375,-0.26171875,-0.1328125],[0.032501220703125,-0.04254150390625,-0.0171661376953125,0.0137176513671875,-0.2015380859375,-0.2135009765625,-0.10699462890625,-0.171630859375,-0.39892578125,-0.170654296875,-0.10546875,-0.251953125,-0.2496337890625,-0.293701171875,-0.2041015625,-0.199951171875,-0.266845703125,-0.2342529296875,-0.230224609375,-0.21875,-0.12744140625,-0.216064453125,-0.2366943359375,-0.2044677734375,-0.09283447265625,-0.039581298828125,0.0208892822265625,-0.0650634765625,-0.109375,-0.1993408203125,-0.1798095703125,-0.2147216796875,-0.1085205078125,-0.0975341796875,-0.140625,-0.0472412109375,-0.07080078125,-0.11370849609375,-0.1287841796875],[0.053436279296875,-0.0122833251953125,0.09820556640625,0.019256591796875,-0.0919189453125,-0.08526611328125,-0.003162384033203125,-0.1778564453125,-0.4150390625,-0.2286376953125,-0.11712646484375,-0.255615234375,-0.232421875,-0.24072265625,-0.1304931640625,-0.11358642578125,-0.207763671875,-0.1917724609375,-0.1865234375,-0.214111328125,-0.08953857421875,-0.204833984375,-0.2125244140625,-0.1590576171875,-0.045867919921875,0.024505615234375,0.146240234375,0.043182373046875,0.0125274658203125,-0.07525634765625,-0.048919677734375,-0.08013916015625,-0.0014543533325195312,-0.0159912109375,-0.0017404556274414062,0.0112152099609375,0.02752685546875,-0.0088653564453125,-0.06121826171875],[0.00791168212890625,-0.0413818359375,0.029876708984375,-0.049896240234375,-0.1898193359375,-0.2802734375,-0.2220458984375,-0.3359375,-0.440673828125,-0.324462890625,-0.1484375,-0.266357421875,-0.25390625,-0.310791015625,-0.2481689453125,-0.1802978515625,-0.2000732421875,-0.191162109375,-0.1278076171875,-0.2127685546875,-0.10546875,-0.203857421875,-0.1431884765625,-0.223388671875,-0.1533203125,-0.0994873046875,-0.0308685302734375,-0.08935546875,-0.12939453125,-0.06915283203125,-0.046234130859375,-0.11700439453125,-0.07989501953125,-0.234130859375,-0.1326904296875,-0.1796875,-0.1845703125,-0.214111328125,-0.274658203125],[-0.13818359375,-0.1480712890625,-0.1102294921875,-0.175537109375,-0.279296875,-0.4677734375,-0.479736328125,-0.43017578125,-0.63134765625,-0.52490234375,-0.260498046875,-0.32177734375,-0.3671875,-0.3291015625,-0.329833984375,-0.347900390625,-0.255859375,-0.255615234375,-0.245849609375,-0.393310546875,-0.2135009765625,-0.265380859375,-0.19677734375,-0.53173828125,-0.36962890625,-0.218994140625,-0.236328125,-0.255859375,-0.251708984375,-0.194580078125,-0.09698486328125,-0.17724609375,-0.2293701171875,-0.50634765625,-0.264892578125,-0.430419921875,-0.4833984375,-0.515625,-0.60693359375],[-0.49853515625,-0.609375,-0.6767578125,-0.7099609375,-0.70263671875,-0.82958984375,-0.8349609375,-0.81689453125,-0.79150390625,-0.82958984375,-0.56591796875,-0.46240234375,-0.67041015625,-0.66650390625,-0.68603515625,-0.60888671875,-0.521484375,-0.311767578125,-0.40380859375,-0.7353515625,-0.30908203125,-0.463623046875,-0.267333984375,-0.78125,-0.62890625,-0.50732421875,-0.51171875,-0.56005859375,-0.37255859375,-0.42333984375,-0.277099609375,-0.38134765625,-0.61767578125,-0.7236328125,-0.4033203125,-0.7890625,-0.7451171875,-0.79833984375,-0.841796875],[-0.55712890625,-0.6259765625,-0.6943359375,-0.65283203125,-0.98291015625,-0.74267578125,-0.76611328125,-0.67919921875,-0.463134765625,-0.80126953125,-0.415283203125,-0.260498046875,-0.433837890625,-0.6259765625,-0.4833984375,-0.423828125,-0.294189453125,-0.11749267578125,-0.3173828125,-0.498046875,-0.29931640625,-0.318115234375,-0.2401123046875,-0.73291015625,-0.533203125,-0.45751953125,-0.50732421875,-0.309326171875,-0.1630859375,-0.38037109375,-0.1959228515625,-0.273681640625,-0.68115234375,-0.76708984375,-0.6142578125,-0.8232421875,-0.81103515625,-0.7958984375,-1.0244140625],[0.259765625,0.2025146484375,0.154052734375,0.255859375,-0.29443359375,0.1270751953125,0.0028972625732421875,0.06573486328125,0.323974609375,-0.0170135498046875,0.44775390625,0.5732421875,0.439208984375,0.20654296875,0.4140625,0.3046875,0.55322265625,0.64892578125,0.351318359375,0.190185546875,0.417724609375,0.490966796875,0.29638671875,0.066650390625,0.2174072265625,0.1925048828125,0.265869140625,0.5791015625,0.693359375,0.457763671875,0.64892578125,0.583984375,0.1859130859375,-0.051177978515625,0.171142578125,0.04840087890625,-0.0005154609680175781,0.183837890625,-0.20361328125],[-0.44482421875,-0.59619140625,-0.568359375,-0.55810546875,-0.90478515625,-0.466796875,-0.455810546875,-0.4404296875,-0.017730712890625,-0.52978515625,0.06915283203125,0.1029052734375,0.0105133056640625,-0.375732421875,-0.12939453125,-0.220703125,-0.0170135498046875,0.300537109375,-0.09869384765625,-0.1927490234375,-0.08343505859375,0.115966796875,-0.1488037109375,-0.4775390625,-0.358154296875,-0.4228515625,-0.357177734375,-0.1610107421875,0.176025390625,-0.066162109375,0.1690673828125,-0.01397705078125,-0.345947265625,-0.583984375,-0.4169921875,-0.60400390625,-0.68701171875,-0.61572265625,-1.0185546875],[-0.2509765625,-0.45654296875,-0.355224609375,-0.325927734375,-0.76806640625,-0.45458984375,-0.556640625,-0.37451171875,-0.1219482421875,-0.59423828125,-0.0224151611328125,0.235595703125,0.11041259765625,-0.252685546875,0.08233642578125,-0.265380859375,0.0005192756652832031,0.333740234375,-0.0211944580078125,-0.37109375,-0.101806640625,0.1763916015625,-0.1964111328125,-0.7060546875,-0.38232421875,-0.5078125,-0.50732421875,0.035888671875,0.5888671875,0.05194091796875,0.353271484375,-0.0843505859375,-0.27099609375,-0.6962890625,-0.3173828125,-0.6611328125,-0.80810546875,-0.69873046875,-1.17578125],[-0.47021484375,-0.58154296875,-0.440673828125,-0.3046875,-1.14453125,-0.330078125,-0.6494140625,-0.5419921875,0.07647705078125,-0.86669921875,-0.310791015625,0.21240234375,0.055450439453125,-0.52392578125,-0.0855712890625,-0.23876953125,0.1505126953125,0.78662109375,0.0264892578125,-0.08203125,-0.02801513671875,0.599609375,0.1829833984375,-0.79150390625,-0.64599609375,-0.69970703125,-0.7001953125,0.2459716796875,0.66259765625,0.2203369140625,0.486328125,0.0246429443359375,-0.1300048828125,-0.76708984375,-0.3876953125,-1.06640625,-1.123046875,-0.94921875,-1.806640625],[-1.2236328125,-1.3505859375,-1.271484375,-1.103515625,-2.052734375,-1.1337890625,-1.447265625,-1.5009765625,-1.0400390625,-1.787109375,-1.197265625,-0.75244140625,-0.859375,-1.345703125,-0.87451171875,-1.1962890625,-0.81982421875,-0.1766357421875,-0.89697265625,-0.9140625,-1.029296875,-0.263427734375,-0.90576171875,-1.5126953125,-1.501953125,-1.529296875,-1.4541015625,-0.50732421875,-0.08221435546875,-0.5029296875,-0.2283935546875,-0.73828125,-0.974609375,-1.560546875,-1.357421875,-1.845703125,-1.8818359375,-1.669921875,-2.685546875],[-1.4150390625,-1.4345703125,-1.3994140625,-0.9482421875,-2.16015625,-0.98193359375,-1.4736328125,-1.634765625,-0.9326171875,-1.71875,-1.4150390625,-0.591796875,-0.68017578125,-1.2451171875,-0.75048828125,-0.9873046875,-0.85888671875,0.11572265625,-0.7724609375,-0.56103515625,-0.89794921875,0.12548828125,-0.58349609375,-1.3486328125,-1.6650390625,-1.5380859375,-1.64453125,-0.340576171875,0.434814453125,-0.08148193359375,0.2440185546875,-0.439208984375,-0.90673828125,-1.1669921875,-1.0927734375,-1.486328125,-1.5810546875,-1.46875,-2.69921875],[-1.25,-1.048828125,-1.0458984375,-0.75048828125,-1.87890625,-0.70458984375,-1.474609375,-1.599609375,-0.9833984375,-1.9912109375,-1.587890625,-0.393310546875,-0.73681640625,-1.3427734375,-0.625,-0.7763671875,-0.89697265625,0.207763671875,-0.77978515625,-0.5927734375,-0.841796875,0.2578125,-0.6201171875,-1.3896484375,-1.7529296875,-1.53125,-1.6396484375,-0.230224609375,0.4921875,0.04364013671875,0.407958984375,-0.29052734375,-0.7578125,-0.9013671875,-0.79150390625,-1.3310546875,-1.3720703125,-1.3818359375,-2.6953125],[-0.133544921875,0.051483154296875,-0.044403076171875,0.1085205078125,-1.0478515625,0.31005859375,-0.85986328125,-0.671875,0.065673828125,-1.0283203125,-0.7138671875,0.68408203125,0.291259765625,-0.34033203125,0.2464599609375,0.23486328125,0.09393310546875,1.3212890625,0.212158203125,0.458740234375,0.329833984375,1.3837890625,0.1959228515625,-0.642578125,-0.53173828125,-0.181396484375,-0.338134765625,0.779296875,1.701171875,1.3720703125,1.703125,0.67529296875,0.30029296875,0.2269287109375,0.2152099609375,-0.46630859375,-0.357177734375,-0.4091796875,-1.6640625],[-0.12890625,-0.0066986083984375,-0.09442138671875,0.11077880859375,-1.0517578125,0.2322998046875,-0.94580078125,-0.63818359375,-0.156982421875,-1.3896484375,-0.880859375,0.4775390625,0.044921875,-0.6171875,0.109619140625,-0.149169921875,0.00033926963806152344,1.4765625,0.06396484375,0.262939453125,0.302001953125,1.4619140625,0.1033935546875,-0.84716796875,-0.74755859375,-0.307373046875,-0.68115234375,0.96435546875,2.01171875,1.4560546875,1.8837890625,0.65673828125,0.451416015625,0.1458740234375,0.3505859375,-0.51171875,-0.328857421875,-0.426513671875,-1.822265625],[-0.1788330078125,-0.0345458984375,-0.2210693359375,0.3662109375,-0.68310546875,0.380859375,-0.87939453125,-0.293212890625,-0.0948486328125,-1.2275390625,-1.236328125,0.4482421875,0.251953125,-0.568359375,0.28857421875,-0.198486328125,-0.0989990234375,1.2294921875,-0.01238250732421875,0.1463623046875,0.290283203125,1.17578125,-0.007770538330078125,-0.89208984375,-0.83203125,-0.408447265625,-0.80419921875,0.74267578125,2.10546875,1.3974609375,1.783203125,0.78515625,0.5703125,0.2802734375,0.5205078125,-0.6611328125,-0.4189453125,-0.61572265625,-1.9189453125],[-1.1611328125,-1.060546875,-1.1083984375,-0.4873046875,-1.37890625,-0.1710205078125,-1.78125,-1.26171875,-1.083984375,-2.287109375,-1.9130859375,-0.253173828125,-0.8232421875,-1.5400390625,-0.77490234375,-1.2890625,-0.97216796875,0.0667724609375,-0.962890625,-0.89404296875,-0.79052734375,0.239501953125,-1.111328125,-1.947265625,-1.896484375,-1.4384765625,-1.6416015625,-0.155029296875,1.193359375,0.52734375,0.98779296875,0.1929931640625,-0.356689453125,-0.84033203125,-0.52197265625,-1.58984375,-1.482421875,-1.4921875,-2.74609375],[0.47021484375,0.529296875,0.60009765625,1.25,0.81396484375,1.435546875,-0.31787109375,0.59765625,0.36376953125,-0.72509765625,-0.233154296875,1.509765625,0.7353515625,0.2169189453125,1.15625,0.128662109375,0.476318359375,1.701171875,0.35888671875,0.5419921875,0.7197265625,1.8134765625,0.19482421875,-0.87744140625,-0.1552734375,0.4091796875,0.278564453125,1.46875,3.0546875,2.373046875,2.787109375,1.8916015625,1.36328125,0.7783203125,1.1728515625,0.1763916015625,0.1280517578125,0.078125,-0.97021484375],[-2.625,-3.005859375,-2.970703125,-2.115234375,-2.310546875,-2.236328125,-3.923828125,-2.990234375,-3.158203125,-4.24609375,-3.328125,-1.6513671875,-2.568359375,-3.36328125,-2.14453125,-3.6328125,-3.015625,-1.8251953125,-3.099609375,-2.72265625,-2.712890625,-1.6875,-3.556640625,-4.3515625,-3.6015625,-3.072265625,-3.099609375,-1.6806640625,-0.4267578125,-0.9580078125,-0.7451171875,-1.5029296875,-2.1328125,-2.88671875,-2.26953125,-3.298828125,-3.408203125,-3.341796875,-4.56640625],[-2.013671875,-2.51171875,-2.5625,-1.5703125,-1.9296875,-1.7509765625,-3.400390625,-2.63671875,-2.60546875,-4.015625,-2.767578125,-0.94091796875,-1.8857421875,-3.033203125,-1.5380859375,-2.96484375,-2.37109375,-1.3837890625,-2.498046875,-2.357421875,-2.41015625,-1.2041015625,-2.884765625,-3.76171875,-3.12890625,-2.751953125,-2.55078125,-1.1337890625,-0.1533203125,-0.2095947265625,-0.388427734375,-0.35693359375,-1.4384765625,-2.587890625,-1.58984375,-2.845703125,-2.99609375,-2.662109375,-4.10546875],[-15.8046875,-12.3359375,-13.6484375,-10.3203125,-10.7265625,-2.26953125,-28.0625,-28.984375,-18.46875,-36.84375,-13.4140625,2.078125,-14.875,-33.5,-11.84375,-22.21875,-24.1875,-1.921875,-16.28125,-8.3515625,-18.375,-3.75390625,-21.5,-40.5,-20.859375,-14.484375,-12.4375,3.181640625,13.15625,10.640625,2.734375,7.85546875,-8.5,-11.2421875,-6.83984375,-18.9375,-24.234375,-23.765625,-29.03125]],\"type\":\"heatmap\",\"xaxis\":\"x\",\"yaxis\":\"y\",\"hovertemplate\":\"Token: %{x}\\u003cbr\\u003ey: %{y}\\u003cbr\\u003ecolor: %{z}\\u003cextra\\u003e\\u003c\\u002fextra\\u003e\"}],                        {\"template\":{\"data\":{\"histogram2dcontour\":[{\"type\":\"histogram2dcontour\",\"colorbar\":{\"outlinewidth\":0,\"ticks\":\"\"},\"colorscale\":[[0.0,\"#0d0887\"],[0.1111111111111111,\"#46039f\"],[0.2222222222222222,\"#7201a8\"],[0.3333333333333333,\"#9c179e\"],[0.4444444444444444,\"#bd3786\"],[0.5555555555555556,\"#d8576b\"],[0.6666666666666666,\"#ed7953\"],[0.7777777777777778,\"#fb9f3a\"],[0.8888888888888888,\"#fdca26\"],[1.0,\"#f0f921\"]]}],\"choropleth\":[{\"type\":\"choropleth\",\"colorbar\":{\"outlinewidth\":0,\"ticks\":\"\"}}],\"histogram2d\":[{\"type\":\"histogram2d\",\"colorbar\":{\"outlinewidth\":0,\"ticks\":\"\"},\"colorscale\":[[0.0,\"#0d0887\"],[0.1111111111111111,\"#46039f\"],[0.2222222222222222,\"#7201a8\"],[0.3333333333333333,\"#9c179e\"],[0.4444444444444444,\"#bd3786\"],[0.5555555555555556,\"#d8576b\"],[0.6666666666666666,\"#ed7953\"],[0.7777777777777778,\"#fb9f3a\"],[0.8888888888888888,\"#fdca26\"],[1.0,\"#f0f921\"]]}],\"heatmap\":[{\"type\":\"heatmap\",\"colorbar\":{\"outlinewidth\":0,\"ticks\":\"\"},\"colorscale\":[[0.0,\"#0d0887\"],[0.1111111111111111,\"#46039f\"],[0.2222222222222222,\"#7201a8\"],[0.3333333333333333,\"#9c179e\"],[0.4444444444444444,\"#bd3786\"],[0.5555555555555556,\"#d8576b\"],[0.6666666666666666,\"#ed7953\"],[0.7777777777777778,\"#fb9f3a\"],[0.8888888888888888,\"#fdca26\"],[1.0,\"#f0f921\"]]}],\"heatmapgl\":[{\"type\":\"heatmapgl\",\"colorbar\":{\"outlinewidth\":0,\"ticks\":\"\"},\"colorscale\":[[0.0,\"#0d0887\"],[0.1111111111111111,\"#46039f\"],[0.2222222222222222,\"#7201a8\"],[0.3333333333333333,\"#9c179e\"],[0.4444444444444444,\"#bd3786\"],[0.5555555555555556,\"#d8576b\"],[0.6666666666666666,\"#ed7953\"],[0.7777777777777778,\"#fb9f3a\"],[0.8888888888888888,\"#fdca26\"],[1.0,\"#f0f921\"]]}],\"contourcarpet\":[{\"type\":\"contourcarpet\",\"colorbar\":{\"outlinewidth\":0,\"ticks\":\"\"}}],\"contour\":[{\"type\":\"contour\",\"colorbar\":{\"outlinewidth\":0,\"ticks\":\"\"},\"colorscale\":[[0.0,\"#0d0887\"],[0.1111111111111111,\"#46039f\"],[0.2222222222222222,\"#7201a8\"],[0.3333333333333333,\"#9c179e\"],[0.4444444444444444,\"#bd3786\"],[0.5555555555555556,\"#d8576b\"],[0.6666666666666666,\"#ed7953\"],[0.7777777777777778,\"#fb9f3a\"],[0.8888888888888888,\"#fdca26\"],[1.0,\"#f0f921\"]]}],\"surface\":[{\"type\":\"surface\",\"colorbar\":{\"outlinewidth\":0,\"ticks\":\"\"},\"colorscale\":[[0.0,\"#0d0887\"],[0.1111111111111111,\"#46039f\"],[0.2222222222222222,\"#7201a8\"],[0.3333333333333333,\"#9c179e\"],[0.4444444444444444,\"#bd3786\"],[0.5555555555555556,\"#d8576b\"],[0.6666666666666666,\"#ed7953\"],[0.7777777777777778,\"#fb9f3a\"],[0.8888888888888888,\"#fdca26\"],[1.0,\"#f0f921\"]]}],\"mesh3d\":[{\"type\":\"mesh3d\",\"colorbar\":{\"outlinewidth\":0,\"ticks\":\"\"}}],\"scatter\":[{\"fillpattern\":{\"fillmode\":\"overlay\",\"size\":10,\"solidity\":0.2},\"type\":\"scatter\"}],\"parcoords\":[{\"type\":\"parcoords\",\"line\":{\"colorbar\":{\"outlinewidth\":0,\"ticks\":\"\"}}}],\"scatterpolargl\":[{\"type\":\"scatterpolargl\",\"marker\":{\"colorbar\":{\"outlinewidth\":0,\"ticks\":\"\"}}}],\"bar\":[{\"error_x\":{\"color\":\"#2a3f5f\"},\"error_y\":{\"color\":\"#2a3f5f\"},\"marker\":{\"line\":{\"color\":\"#E5ECF6\",\"width\":0.5},\"pattern\":{\"fillmode\":\"overlay\",\"size\":10,\"solidity\":0.2}},\"type\":\"bar\"}],\"scattergeo\":[{\"type\":\"scattergeo\",\"marker\":{\"colorbar\":{\"outlinewidth\":0,\"ticks\":\"\"}}}],\"scatterpolar\":[{\"type\":\"scatterpolar\",\"marker\":{\"colorbar\":{\"outlinewidth\":0,\"ticks\":\"\"}}}],\"histogram\":[{\"marker\":{\"pattern\":{\"fillmode\":\"overlay\",\"size\":10,\"solidity\":0.2}},\"type\":\"histogram\"}],\"scattergl\":[{\"type\":\"scattergl\",\"marker\":{\"colorbar\":{\"outlinewidth\":0,\"ticks\":\"\"}}}],\"scatter3d\":[{\"type\":\"scatter3d\",\"line\":{\"colorbar\":{\"outlinewidth\":0,\"ticks\":\"\"}},\"marker\":{\"colorbar\":{\"outlinewidth\":0,\"ticks\":\"\"}}}],\"scattermapbox\":[{\"type\":\"scattermapbox\",\"marker\":{\"colorbar\":{\"outlinewidth\":0,\"ticks\":\"\"}}}],\"scatterternary\":[{\"type\":\"scatterternary\",\"marker\":{\"colorbar\":{\"outlinewidth\":0,\"ticks\":\"\"}}}],\"scattercarpet\":[{\"type\":\"scattercarpet\",\"marker\":{\"colorbar\":{\"outlinewidth\":0,\"ticks\":\"\"}}}],\"carpet\":[{\"aaxis\":{\"endlinecolor\":\"#2a3f5f\",\"gridcolor\":\"white\",\"linecolor\":\"white\",\"minorgridcolor\":\"white\",\"startlinecolor\":\"#2a3f5f\"},\"baxis\":{\"endlinecolor\":\"#2a3f5f\",\"gridcolor\":\"white\",\"linecolor\":\"white\",\"minorgridcolor\":\"white\",\"startlinecolor\":\"#2a3f5f\"},\"type\":\"carpet\"}],\"table\":[{\"cells\":{\"fill\":{\"color\":\"#EBF0F8\"},\"line\":{\"color\":\"white\"}},\"header\":{\"fill\":{\"color\":\"#C8D4E3\"},\"line\":{\"color\":\"white\"}},\"type\":\"table\"}],\"barpolar\":[{\"marker\":{\"line\":{\"color\":\"#E5ECF6\",\"width\":0.5},\"pattern\":{\"fillmode\":\"overlay\",\"size\":10,\"solidity\":0.2}},\"type\":\"barpolar\"}],\"pie\":[{\"automargin\":true,\"type\":\"pie\"}]},\"layout\":{\"autotypenumbers\":\"strict\",\"colorway\":[\"#636efa\",\"#EF553B\",\"#00cc96\",\"#ab63fa\",\"#FFA15A\",\"#19d3f3\",\"#FF6692\",\"#B6E880\",\"#FF97FF\",\"#FECB52\"],\"font\":{\"color\":\"#2a3f5f\"},\"hovermode\":\"closest\",\"hoverlabel\":{\"align\":\"left\"},\"paper_bgcolor\":\"white\",\"plot_bgcolor\":\"#E5ECF6\",\"polar\":{\"bgcolor\":\"#E5ECF6\",\"angularaxis\":{\"gridcolor\":\"white\",\"linecolor\":\"white\",\"ticks\":\"\"},\"radialaxis\":{\"gridcolor\":\"white\",\"linecolor\":\"white\",\"ticks\":\"\"}},\"ternary\":{\"bgcolor\":\"#E5ECF6\",\"aaxis\":{\"gridcolor\":\"white\",\"linecolor\":\"white\",\"ticks\":\"\"},\"baxis\":{\"gridcolor\":\"white\",\"linecolor\":\"white\",\"ticks\":\"\"},\"caxis\":{\"gridcolor\":\"white\",\"linecolor\":\"white\",\"ticks\":\"\"}},\"coloraxis\":{\"colorbar\":{\"outlinewidth\":0,\"ticks\":\"\"}},\"colorscale\":{\"sequential\":[[0.0,\"#0d0887\"],[0.1111111111111111,\"#46039f\"],[0.2222222222222222,\"#7201a8\"],[0.3333333333333333,\"#9c179e\"],[0.4444444444444444,\"#bd3786\"],[0.5555555555555556,\"#d8576b\"],[0.6666666666666666,\"#ed7953\"],[0.7777777777777778,\"#fb9f3a\"],[0.8888888888888888,\"#fdca26\"],[1.0,\"#f0f921\"]],\"sequentialminus\":[[0.0,\"#0d0887\"],[0.1111111111111111,\"#46039f\"],[0.2222222222222222,\"#7201a8\"],[0.3333333333333333,\"#9c179e\"],[0.4444444444444444,\"#bd3786\"],[0.5555555555555556,\"#d8576b\"],[0.6666666666666666,\"#ed7953\"],[0.7777777777777778,\"#fb9f3a\"],[0.8888888888888888,\"#fdca26\"],[1.0,\"#f0f921\"]],\"diverging\":[[0,\"#8e0152\"],[0.1,\"#c51b7d\"],[0.2,\"#de77ae\"],[0.3,\"#f1b6da\"],[0.4,\"#fde0ef\"],[0.5,\"#f7f7f7\"],[0.6,\"#e6f5d0\"],[0.7,\"#b8e186\"],[0.8,\"#7fbc41\"],[0.9,\"#4d9221\"],[1,\"#276419\"]]},\"xaxis\":{\"gridcolor\":\"white\",\"linecolor\":\"white\",\"ticks\":\"\",\"title\":{\"standoff\":15},\"zerolinecolor\":\"white\",\"automargin\":true,\"zerolinewidth\":2},\"yaxis\":{\"gridcolor\":\"white\",\"linecolor\":\"white\",\"ticks\":\"\",\"title\":{\"standoff\":15},\"zerolinecolor\":\"white\",\"automargin\":true,\"zerolinewidth\":2},\"scene\":{\"xaxis\":{\"backgroundcolor\":\"#E5ECF6\",\"gridcolor\":\"white\",\"linecolor\":\"white\",\"showbackground\":true,\"ticks\":\"\",\"zerolinecolor\":\"white\",\"gridwidth\":2},\"yaxis\":{\"backgroundcolor\":\"#E5ECF6\",\"gridcolor\":\"white\",\"linecolor\":\"white\",\"showbackground\":true,\"ticks\":\"\",\"zerolinecolor\":\"white\",\"gridwidth\":2},\"zaxis\":{\"backgroundcolor\":\"#E5ECF6\",\"gridcolor\":\"white\",\"linecolor\":\"white\",\"showbackground\":true,\"ticks\":\"\",\"zerolinecolor\":\"white\",\"gridwidth\":2}},\"shapedefaults\":{\"line\":{\"color\":\"#2a3f5f\"}},\"annotationdefaults\":{\"arrowcolor\":\"#2a3f5f\",\"arrowhead\":0,\"arrowwidth\":1},\"geo\":{\"bgcolor\":\"white\",\"landcolor\":\"#E5ECF6\",\"subunitcolor\":\"white\",\"showland\":true,\"showlakes\":true,\"lakecolor\":\"white\"},\"title\":{\"x\":0.05},\"mapbox\":{\"style\":\"light\"}}},\"xaxis\":{\"anchor\":\"y\",\"domain\":[0.0,1.0],\"scaleanchor\":\"y\",\"constrain\":\"domain\",\"title\":{\"text\":\"Token\"},\"tickvals\":[0,1,2,3,4,5,6,7,8,9,10,11,12,13,14,15,16,17,18,19,20,21,22,23,24,25,26,27,28,29,30,31,32,33,34,35,36,37,38,39],\"ticktext\":[\"\\u2581Something\",\"\\u2581that\",\"\\u2581would\",\"\\u2581make\",\"\\u2581me\",\"\\u2581unhappy\",\"\\u2581is\",\"\\u2581constant\",\"\\u2581criticism\",\",\",\"\\u2581bel\",\"itt\",\"ling\",\"\\u2581or\",\"\\u2581negative\",\"\\u2581comments\",\"\\u2581about\",\"\\u2581my\",\"\\u2581abilities\",\",\",\"\\u2581actions\",\"\\u2581or\",\"\\u2581ideas\",\".\",\"\\u2581It\",\"\\u2581can\",\"\\u2581really\",\"\\u2581lower\",\"\\u2581my\",\"\\u2581self\",\"-\",\"este\",\"em\",\"\\u2581and\",\"\\u2581motivation\",\",\",\"\\u2581and\",\"\\u2581make\",\"\\u2581me\",\"\\u2581feel\"]},\"yaxis\":{\"anchor\":\"x\",\"domain\":[0.0,1.0],\"autorange\":\"reversed\",\"constrain\":\"domain\"},\"coloraxis\":{\"colorscale\":[[0.0,\"rgb(165,0,38)\"],[0.1,\"rgb(215,48,39)\"],[0.2,\"rgb(244,109,67)\"],[0.3,\"rgb(253,174,97)\"],[0.4,\"rgb(254,224,139)\"],[0.5,\"rgb(255,255,191)\"],[0.6,\"rgb(217,239,139)\"],[0.7,\"rgb(166,217,106)\"],[0.8,\"rgb(102,189,99)\"],[0.9,\"rgb(26,152,80)\"],[1.0,\"rgb(0,104,55)\"]],\"cmin\":-2.6401,\"cmax\":2.6401},\"margin\":{\"t\":60},\"width\":1000,\"height\":600},                        {\"responsive\": true}                    ).then(function(){\n",
       "                            \n",
       "var gd = document.getElementById('8e85e32d-e322-41c6-8e15-75f69fc508c9');\n",
       "var x = new MutationObserver(function (mutations, observer) {{\n",
       "        var display = window.getComputedStyle(gd).display;\n",
       "        if (!display || display === 'none') {{\n",
       "            console.log([gd, 'removed!']);\n",
       "            Plotly.purge(gd);\n",
       "            observer.disconnect();\n",
       "        }}\n",
       "}});\n",
       "\n",
       "// Listen for the removal of the full notebook cells\n",
       "var notebookContainer = gd.closest('#notebook-container');\n",
       "if (notebookContainer) {{\n",
       "    x.observe(notebookContainer, {childList: true});\n",
       "}}\n",
       "\n",
       "// Listen for the clearing of the current output cell\n",
       "var outputEl = gd.closest('.output');\n",
       "if (outputEl) {{\n",
       "    x.observe(outputEl, {childList: true});\n",
       "}}\n",
       "\n",
       "                        })                };                });            </script>        </div>"
      ]
     },
     "metadata": {},
     "output_type": "display_data"
    }
   ],
   "source": [
    "from lmdoctor.plot_utils import plot_projection_heatmap\n",
    "tokens = tokenizer.tokenize(output['text'])\n",
    "ld.plot_projection_heatmap(output['projections'], tokens, lastn_tokens_to_plot=max_new_tokens, saturate_at='auto')"
   ]
  },
  {
   "cell_type": "code",
   "execution_count": 21,
   "id": "379fe7a4-3698-4594-a3d3-b8d74491c58b",
   "metadata": {
    "tags": []
   },
   "outputs": [
    {
     "data": {
      "application/vnd.plotly.v1+json": {
       "config": {
        "plotlyServerURL": "https://plot.ly"
       },
       "data": [
        {
         "coloraxis": "coloraxis",
         "hovertemplate": "Token: %{x}<br>y: %{y}<br>color: %{z}<extra></extra>",
         "name": "0",
         "type": "heatmap",
         "xaxis": "x",
         "yaxis": "y",
         "z": [
          [
           -0.346923828125,
           -0.4267578125,
           -0.394775390625,
           -0.3427734375,
           -0.71337890625,
           -0.44970703125,
           -0.53857421875,
           -0.52490234375,
           -0.400390625,
           -0.63720703125,
           -0.306640625,
           -0.1746826171875,
           -0.254638671875,
           -0.46337890625,
           -0.2880859375,
           -0.36181640625,
           -0.230224609375,
           0.03009033203125,
           -0.2315673828125,
           -0.3427734375,
           -0.224609375,
           -0.058502197265625,
           -0.2115478515625,
           -0.578125,
           -0.466796875,
           -0.432861328125,
           -0.408203125,
           -0.11822509765625,
           0.09906005859375,
           -0.113525390625,
           0.04217529296875,
           -0.157470703125,
           -0.32421875,
           -0.54248046875,
           -0.36328125,
           -0.59375,
           -0.6201171875,
           -0.5830078125,
           -0.9130859375
          ]
         ]
        }
       ],
       "layout": {
        "autosize": true,
        "coloraxis": {
         "cmax": 1,
         "cmin": -1,
         "colorscale": [
          [
           0,
           "rgb(165,0,38)"
          ],
          [
           0.1,
           "rgb(215,48,39)"
          ],
          [
           0.2,
           "rgb(244,109,67)"
          ],
          [
           0.3,
           "rgb(253,174,97)"
          ],
          [
           0.4,
           "rgb(254,224,139)"
          ],
          [
           0.5,
           "rgb(255,255,191)"
          ],
          [
           0.6,
           "rgb(217,239,139)"
          ],
          [
           0.7,
           "rgb(166,217,106)"
          ],
          [
           0.8,
           "rgb(102,189,99)"
          ],
          [
           0.9,
           "rgb(26,152,80)"
          ],
          [
           1,
           "rgb(0,104,55)"
          ]
         ]
        },
        "margin": {
         "t": 60
        },
        "template": {
         "data": {
          "bar": [
           {
            "error_x": {
             "color": "#2a3f5f"
            },
            "error_y": {
             "color": "#2a3f5f"
            },
            "marker": {
             "line": {
              "color": "#E5ECF6",
              "width": 0.5
             },
             "pattern": {
              "fillmode": "overlay",
              "size": 10,
              "solidity": 0.2
             }
            },
            "type": "bar"
           }
          ],
          "barpolar": [
           {
            "marker": {
             "line": {
              "color": "#E5ECF6",
              "width": 0.5
             },
             "pattern": {
              "fillmode": "overlay",
              "size": 10,
              "solidity": 0.2
             }
            },
            "type": "barpolar"
           }
          ],
          "carpet": [
           {
            "aaxis": {
             "endlinecolor": "#2a3f5f",
             "gridcolor": "white",
             "linecolor": "white",
             "minorgridcolor": "white",
             "startlinecolor": "#2a3f5f"
            },
            "baxis": {
             "endlinecolor": "#2a3f5f",
             "gridcolor": "white",
             "linecolor": "white",
             "minorgridcolor": "white",
             "startlinecolor": "#2a3f5f"
            },
            "type": "carpet"
           }
          ],
          "choropleth": [
           {
            "colorbar": {
             "outlinewidth": 0,
             "ticks": ""
            },
            "type": "choropleth"
           }
          ],
          "contour": [
           {
            "colorbar": {
             "outlinewidth": 0,
             "ticks": ""
            },
            "colorscale": [
             [
              0,
              "#0d0887"
             ],
             [
              0.1111111111111111,
              "#46039f"
             ],
             [
              0.2222222222222222,
              "#7201a8"
             ],
             [
              0.3333333333333333,
              "#9c179e"
             ],
             [
              0.4444444444444444,
              "#bd3786"
             ],
             [
              0.5555555555555556,
              "#d8576b"
             ],
             [
              0.6666666666666666,
              "#ed7953"
             ],
             [
              0.7777777777777778,
              "#fb9f3a"
             ],
             [
              0.8888888888888888,
              "#fdca26"
             ],
             [
              1,
              "#f0f921"
             ]
            ],
            "type": "contour"
           }
          ],
          "contourcarpet": [
           {
            "colorbar": {
             "outlinewidth": 0,
             "ticks": ""
            },
            "type": "contourcarpet"
           }
          ],
          "heatmap": [
           {
            "colorbar": {
             "outlinewidth": 0,
             "ticks": ""
            },
            "colorscale": [
             [
              0,
              "#0d0887"
             ],
             [
              0.1111111111111111,
              "#46039f"
             ],
             [
              0.2222222222222222,
              "#7201a8"
             ],
             [
              0.3333333333333333,
              "#9c179e"
             ],
             [
              0.4444444444444444,
              "#bd3786"
             ],
             [
              0.5555555555555556,
              "#d8576b"
             ],
             [
              0.6666666666666666,
              "#ed7953"
             ],
             [
              0.7777777777777778,
              "#fb9f3a"
             ],
             [
              0.8888888888888888,
              "#fdca26"
             ],
             [
              1,
              "#f0f921"
             ]
            ],
            "type": "heatmap"
           }
          ],
          "heatmapgl": [
           {
            "colorbar": {
             "outlinewidth": 0,
             "ticks": ""
            },
            "colorscale": [
             [
              0,
              "#0d0887"
             ],
             [
              0.1111111111111111,
              "#46039f"
             ],
             [
              0.2222222222222222,
              "#7201a8"
             ],
             [
              0.3333333333333333,
              "#9c179e"
             ],
             [
              0.4444444444444444,
              "#bd3786"
             ],
             [
              0.5555555555555556,
              "#d8576b"
             ],
             [
              0.6666666666666666,
              "#ed7953"
             ],
             [
              0.7777777777777778,
              "#fb9f3a"
             ],
             [
              0.8888888888888888,
              "#fdca26"
             ],
             [
              1,
              "#f0f921"
             ]
            ],
            "type": "heatmapgl"
           }
          ],
          "histogram": [
           {
            "marker": {
             "pattern": {
              "fillmode": "overlay",
              "size": 10,
              "solidity": 0.2
             }
            },
            "type": "histogram"
           }
          ],
          "histogram2d": [
           {
            "colorbar": {
             "outlinewidth": 0,
             "ticks": ""
            },
            "colorscale": [
             [
              0,
              "#0d0887"
             ],
             [
              0.1111111111111111,
              "#46039f"
             ],
             [
              0.2222222222222222,
              "#7201a8"
             ],
             [
              0.3333333333333333,
              "#9c179e"
             ],
             [
              0.4444444444444444,
              "#bd3786"
             ],
             [
              0.5555555555555556,
              "#d8576b"
             ],
             [
              0.6666666666666666,
              "#ed7953"
             ],
             [
              0.7777777777777778,
              "#fb9f3a"
             ],
             [
              0.8888888888888888,
              "#fdca26"
             ],
             [
              1,
              "#f0f921"
             ]
            ],
            "type": "histogram2d"
           }
          ],
          "histogram2dcontour": [
           {
            "colorbar": {
             "outlinewidth": 0,
             "ticks": ""
            },
            "colorscale": [
             [
              0,
              "#0d0887"
             ],
             [
              0.1111111111111111,
              "#46039f"
             ],
             [
              0.2222222222222222,
              "#7201a8"
             ],
             [
              0.3333333333333333,
              "#9c179e"
             ],
             [
              0.4444444444444444,
              "#bd3786"
             ],
             [
              0.5555555555555556,
              "#d8576b"
             ],
             [
              0.6666666666666666,
              "#ed7953"
             ],
             [
              0.7777777777777778,
              "#fb9f3a"
             ],
             [
              0.8888888888888888,
              "#fdca26"
             ],
             [
              1,
              "#f0f921"
             ]
            ],
            "type": "histogram2dcontour"
           }
          ],
          "mesh3d": [
           {
            "colorbar": {
             "outlinewidth": 0,
             "ticks": ""
            },
            "type": "mesh3d"
           }
          ],
          "parcoords": [
           {
            "line": {
             "colorbar": {
              "outlinewidth": 0,
              "ticks": ""
             }
            },
            "type": "parcoords"
           }
          ],
          "pie": [
           {
            "automargin": true,
            "type": "pie"
           }
          ],
          "scatter": [
           {
            "fillpattern": {
             "fillmode": "overlay",
             "size": 10,
             "solidity": 0.2
            },
            "type": "scatter"
           }
          ],
          "scatter3d": [
           {
            "line": {
             "colorbar": {
              "outlinewidth": 0,
              "ticks": ""
             }
            },
            "marker": {
             "colorbar": {
              "outlinewidth": 0,
              "ticks": ""
             }
            },
            "type": "scatter3d"
           }
          ],
          "scattercarpet": [
           {
            "marker": {
             "colorbar": {
              "outlinewidth": 0,
              "ticks": ""
             }
            },
            "type": "scattercarpet"
           }
          ],
          "scattergeo": [
           {
            "marker": {
             "colorbar": {
              "outlinewidth": 0,
              "ticks": ""
             }
            },
            "type": "scattergeo"
           }
          ],
          "scattergl": [
           {
            "marker": {
             "colorbar": {
              "outlinewidth": 0,
              "ticks": ""
             }
            },
            "type": "scattergl"
           }
          ],
          "scattermapbox": [
           {
            "marker": {
             "colorbar": {
              "outlinewidth": 0,
              "ticks": ""
             }
            },
            "type": "scattermapbox"
           }
          ],
          "scatterpolar": [
           {
            "marker": {
             "colorbar": {
              "outlinewidth": 0,
              "ticks": ""
             }
            },
            "type": "scatterpolar"
           }
          ],
          "scatterpolargl": [
           {
            "marker": {
             "colorbar": {
              "outlinewidth": 0,
              "ticks": ""
             }
            },
            "type": "scatterpolargl"
           }
          ],
          "scatterternary": [
           {
            "marker": {
             "colorbar": {
              "outlinewidth": 0,
              "ticks": ""
             }
            },
            "type": "scatterternary"
           }
          ],
          "surface": [
           {
            "colorbar": {
             "outlinewidth": 0,
             "ticks": ""
            },
            "colorscale": [
             [
              0,
              "#0d0887"
             ],
             [
              0.1111111111111111,
              "#46039f"
             ],
             [
              0.2222222222222222,
              "#7201a8"
             ],
             [
              0.3333333333333333,
              "#9c179e"
             ],
             [
              0.4444444444444444,
              "#bd3786"
             ],
             [
              0.5555555555555556,
              "#d8576b"
             ],
             [
              0.6666666666666666,
              "#ed7953"
             ],
             [
              0.7777777777777778,
              "#fb9f3a"
             ],
             [
              0.8888888888888888,
              "#fdca26"
             ],
             [
              1,
              "#f0f921"
             ]
            ],
            "type": "surface"
           }
          ],
          "table": [
           {
            "cells": {
             "fill": {
              "color": "#EBF0F8"
             },
             "line": {
              "color": "white"
             }
            },
            "header": {
             "fill": {
              "color": "#C8D4E3"
             },
             "line": {
              "color": "white"
             }
            },
            "type": "table"
           }
          ]
         },
         "layout": {
          "annotationdefaults": {
           "arrowcolor": "#2a3f5f",
           "arrowhead": 0,
           "arrowwidth": 1
          },
          "autotypenumbers": "strict",
          "coloraxis": {
           "colorbar": {
            "outlinewidth": 0,
            "ticks": ""
           }
          },
          "colorscale": {
           "diverging": [
            [
             0,
             "#8e0152"
            ],
            [
             0.1,
             "#c51b7d"
            ],
            [
             0.2,
             "#de77ae"
            ],
            [
             0.3,
             "#f1b6da"
            ],
            [
             0.4,
             "#fde0ef"
            ],
            [
             0.5,
             "#f7f7f7"
            ],
            [
             0.6,
             "#e6f5d0"
            ],
            [
             0.7,
             "#b8e186"
            ],
            [
             0.8,
             "#7fbc41"
            ],
            [
             0.9,
             "#4d9221"
            ],
            [
             1,
             "#276419"
            ]
           ],
           "sequential": [
            [
             0,
             "#0d0887"
            ],
            [
             0.1111111111111111,
             "#46039f"
            ],
            [
             0.2222222222222222,
             "#7201a8"
            ],
            [
             0.3333333333333333,
             "#9c179e"
            ],
            [
             0.4444444444444444,
             "#bd3786"
            ],
            [
             0.5555555555555556,
             "#d8576b"
            ],
            [
             0.6666666666666666,
             "#ed7953"
            ],
            [
             0.7777777777777778,
             "#fb9f3a"
            ],
            [
             0.8888888888888888,
             "#fdca26"
            ],
            [
             1,
             "#f0f921"
            ]
           ],
           "sequentialminus": [
            [
             0,
             "#0d0887"
            ],
            [
             0.1111111111111111,
             "#46039f"
            ],
            [
             0.2222222222222222,
             "#7201a8"
            ],
            [
             0.3333333333333333,
             "#9c179e"
            ],
            [
             0.4444444444444444,
             "#bd3786"
            ],
            [
             0.5555555555555556,
             "#d8576b"
            ],
            [
             0.6666666666666666,
             "#ed7953"
            ],
            [
             0.7777777777777778,
             "#fb9f3a"
            ],
            [
             0.8888888888888888,
             "#fdca26"
            ],
            [
             1,
             "#f0f921"
            ]
           ]
          },
          "colorway": [
           "#636efa",
           "#EF553B",
           "#00cc96",
           "#ab63fa",
           "#FFA15A",
           "#19d3f3",
           "#FF6692",
           "#B6E880",
           "#FF97FF",
           "#FECB52"
          ],
          "font": {
           "color": "#2a3f5f"
          },
          "geo": {
           "bgcolor": "white",
           "lakecolor": "white",
           "landcolor": "#E5ECF6",
           "showlakes": true,
           "showland": true,
           "subunitcolor": "white"
          },
          "hoverlabel": {
           "align": "left"
          },
          "hovermode": "closest",
          "mapbox": {
           "style": "light"
          },
          "paper_bgcolor": "white",
          "plot_bgcolor": "#E5ECF6",
          "polar": {
           "angularaxis": {
            "gridcolor": "white",
            "linecolor": "white",
            "ticks": ""
           },
           "bgcolor": "#E5ECF6",
           "radialaxis": {
            "gridcolor": "white",
            "linecolor": "white",
            "ticks": ""
           }
          },
          "scene": {
           "xaxis": {
            "backgroundcolor": "#E5ECF6",
            "gridcolor": "white",
            "gridwidth": 2,
            "linecolor": "white",
            "showbackground": true,
            "ticks": "",
            "zerolinecolor": "white"
           },
           "yaxis": {
            "backgroundcolor": "#E5ECF6",
            "gridcolor": "white",
            "gridwidth": 2,
            "linecolor": "white",
            "showbackground": true,
            "ticks": "",
            "zerolinecolor": "white"
           },
           "zaxis": {
            "backgroundcolor": "#E5ECF6",
            "gridcolor": "white",
            "gridwidth": 2,
            "linecolor": "white",
            "showbackground": true,
            "ticks": "",
            "zerolinecolor": "white"
           }
          },
          "shapedefaults": {
           "line": {
            "color": "#2a3f5f"
           }
          },
          "ternary": {
           "aaxis": {
            "gridcolor": "white",
            "linecolor": "white",
            "ticks": ""
           },
           "baxis": {
            "gridcolor": "white",
            "linecolor": "white",
            "ticks": ""
           },
           "bgcolor": "#E5ECF6",
           "caxis": {
            "gridcolor": "white",
            "linecolor": "white",
            "ticks": ""
           }
          },
          "title": {
           "x": 0.05
          },
          "xaxis": {
           "automargin": true,
           "gridcolor": "white",
           "linecolor": "white",
           "ticks": "",
           "title": {
            "standoff": 15
           },
           "zerolinecolor": "white",
           "zerolinewidth": 2
          },
          "yaxis": {
           "automargin": true,
           "gridcolor": "white",
           "linecolor": "white",
           "ticks": "",
           "title": {
            "standoff": 15
           },
           "zerolinecolor": "white",
           "zerolinewidth": 2
          }
         }
        },
        "xaxis": {
         "anchor": "y",
         "autorange": true,
         "constrain": "domain",
         "domain": [
          0,
          1
         ],
         "range": [
          -0.5,
          38.5
         ],
         "scaleanchor": "y",
         "tickangle": -45,
         "tickfont": {
          "size": 20
         },
         "ticktext": [
          "▁Something",
          "▁that",
          "▁would",
          "▁make",
          "▁me",
          "▁unhappy",
          "▁is",
          "▁constant",
          "▁criticism",
          ",",
          "▁bel",
          "itt",
          "ling",
          "▁or",
          "▁negative",
          "▁comments",
          "▁about",
          "▁my",
          "▁abilities",
          ",",
          "▁actions",
          "▁or",
          "▁ideas",
          ".",
          "▁It",
          "▁can",
          "▁really",
          "▁lower",
          "▁my",
          "▁self",
          "-",
          "este",
          "em",
          "▁and",
          "▁motivation",
          ",",
          "▁and",
          "▁make",
          "▁me",
          "▁feel"
         ],
         "tickvals": [
          0,
          1,
          2,
          3,
          4,
          5,
          6,
          7,
          8,
          9,
          10,
          11,
          12,
          13,
          14,
          15,
          16,
          17,
          18,
          19,
          20,
          21,
          22,
          23,
          24,
          25,
          26,
          27,
          28,
          29,
          30,
          31,
          32,
          33,
          34,
          35,
          36,
          37,
          38,
          39
         ],
         "title": {
          "text": "Token"
         }
        },
        "yaxis": {
         "anchor": "x",
         "autorange": true,
         "constrain": "domain",
         "domain": [
          0.45914918414918415,
          0.5408508158508158
         ],
         "range": [
          0.5,
          -0.5
         ],
         "showticklabels": false
        }
       }
      },
      "image/png": "[encoded data removed]",
      "text/html": [
       "<div>                            <div id=\"39509998-66f9-41e0-937c-28d05a775706\" class=\"plotly-graph-div\" style=\"height:525px; width:100%;\"></div>            <script type=\"text/javascript\">                require([\"plotly\"], function(Plotly) {                    window.PLOTLYENV=window.PLOTLYENV || {};                                    if (document.getElementById(\"39509998-66f9-41e0-937c-28d05a775706\")) {                    Plotly.newPlot(                        \"39509998-66f9-41e0-937c-28d05a775706\",                        [{\"coloraxis\":\"coloraxis\",\"name\":\"0\",\"z\":[[-0.346923828125,-0.4267578125,-0.394775390625,-0.3427734375,-0.71337890625,-0.44970703125,-0.53857421875,-0.52490234375,-0.400390625,-0.63720703125,-0.306640625,-0.1746826171875,-0.254638671875,-0.46337890625,-0.2880859375,-0.36181640625,-0.230224609375,0.03009033203125,-0.2315673828125,-0.3427734375,-0.224609375,-0.058502197265625,-0.2115478515625,-0.578125,-0.466796875,-0.432861328125,-0.408203125,-0.11822509765625,0.09906005859375,-0.113525390625,0.04217529296875,-0.157470703125,-0.32421875,-0.54248046875,-0.36328125,-0.59375,-0.6201171875,-0.5830078125,-0.9130859375]],\"type\":\"heatmap\",\"xaxis\":\"x\",\"yaxis\":\"y\",\"hovertemplate\":\"Token: %{x}\\u003cbr\\u003ey: %{y}\\u003cbr\\u003ecolor: %{z}\\u003cextra\\u003e\\u003c\\u002fextra\\u003e\"}],                        {\"template\":{\"data\":{\"histogram2dcontour\":[{\"type\":\"histogram2dcontour\",\"colorbar\":{\"outlinewidth\":0,\"ticks\":\"\"},\"colorscale\":[[0.0,\"#0d0887\"],[0.1111111111111111,\"#46039f\"],[0.2222222222222222,\"#7201a8\"],[0.3333333333333333,\"#9c179e\"],[0.4444444444444444,\"#bd3786\"],[0.5555555555555556,\"#d8576b\"],[0.6666666666666666,\"#ed7953\"],[0.7777777777777778,\"#fb9f3a\"],[0.8888888888888888,\"#fdca26\"],[1.0,\"#f0f921\"]]}],\"choropleth\":[{\"type\":\"choropleth\",\"colorbar\":{\"outlinewidth\":0,\"ticks\":\"\"}}],\"histogram2d\":[{\"type\":\"histogram2d\",\"colorbar\":{\"outlinewidth\":0,\"ticks\":\"\"},\"colorscale\":[[0.0,\"#0d0887\"],[0.1111111111111111,\"#46039f\"],[0.2222222222222222,\"#7201a8\"],[0.3333333333333333,\"#9c179e\"],[0.4444444444444444,\"#bd3786\"],[0.5555555555555556,\"#d8576b\"],[0.6666666666666666,\"#ed7953\"],[0.7777777777777778,\"#fb9f3a\"],[0.8888888888888888,\"#fdca26\"],[1.0,\"#f0f921\"]]}],\"heatmap\":[{\"type\":\"heatmap\",\"colorbar\":{\"outlinewidth\":0,\"ticks\":\"\"},\"colorscale\":[[0.0,\"#0d0887\"],[0.1111111111111111,\"#46039f\"],[0.2222222222222222,\"#7201a8\"],[0.3333333333333333,\"#9c179e\"],[0.4444444444444444,\"#bd3786\"],[0.5555555555555556,\"#d8576b\"],[0.6666666666666666,\"#ed7953\"],[0.7777777777777778,\"#fb9f3a\"],[0.8888888888888888,\"#fdca26\"],[1.0,\"#f0f921\"]]}],\"heatmapgl\":[{\"type\":\"heatmapgl\",\"colorbar\":{\"outlinewidth\":0,\"ticks\":\"\"},\"colorscale\":[[0.0,\"#0d0887\"],[0.1111111111111111,\"#46039f\"],[0.2222222222222222,\"#7201a8\"],[0.3333333333333333,\"#9c179e\"],[0.4444444444444444,\"#bd3786\"],[0.5555555555555556,\"#d8576b\"],[0.6666666666666666,\"#ed7953\"],[0.7777777777777778,\"#fb9f3a\"],[0.8888888888888888,\"#fdca26\"],[1.0,\"#f0f921\"]]}],\"contourcarpet\":[{\"type\":\"contourcarpet\",\"colorbar\":{\"outlinewidth\":0,\"ticks\":\"\"}}],\"contour\":[{\"type\":\"contour\",\"colorbar\":{\"outlinewidth\":0,\"ticks\":\"\"},\"colorscale\":[[0.0,\"#0d0887\"],[0.1111111111111111,\"#46039f\"],[0.2222222222222222,\"#7201a8\"],[0.3333333333333333,\"#9c179e\"],[0.4444444444444444,\"#bd3786\"],[0.5555555555555556,\"#d8576b\"],[0.6666666666666666,\"#ed7953\"],[0.7777777777777778,\"#fb9f3a\"],[0.8888888888888888,\"#fdca26\"],[1.0,\"#f0f921\"]]}],\"surface\":[{\"type\":\"surface\",\"colorbar\":{\"outlinewidth\":0,\"ticks\":\"\"},\"colorscale\":[[0.0,\"#0d0887\"],[0.1111111111111111,\"#46039f\"],[0.2222222222222222,\"#7201a8\"],[0.3333333333333333,\"#9c179e\"],[0.4444444444444444,\"#bd3786\"],[0.5555555555555556,\"#d8576b\"],[0.6666666666666666,\"#ed7953\"],[0.7777777777777778,\"#fb9f3a\"],[0.8888888888888888,\"#fdca26\"],[1.0,\"#f0f921\"]]}],\"mesh3d\":[{\"type\":\"mesh3d\",\"colorbar\":{\"outlinewidth\":0,\"ticks\":\"\"}}],\"scatter\":[{\"fillpattern\":{\"fillmode\":\"overlay\",\"size\":10,\"solidity\":0.2},\"type\":\"scatter\"}],\"parcoords\":[{\"type\":\"parcoords\",\"line\":{\"colorbar\":{\"outlinewidth\":0,\"ticks\":\"\"}}}],\"scatterpolargl\":[{\"type\":\"scatterpolargl\",\"marker\":{\"colorbar\":{\"outlinewidth\":0,\"ticks\":\"\"}}}],\"bar\":[{\"error_x\":{\"color\":\"#2a3f5f\"},\"error_y\":{\"color\":\"#2a3f5f\"},\"marker\":{\"line\":{\"color\":\"#E5ECF6\",\"width\":0.5},\"pattern\":{\"fillmode\":\"overlay\",\"size\":10,\"solidity\":0.2}},\"type\":\"bar\"}],\"scattergeo\":[{\"type\":\"scattergeo\",\"marker\":{\"colorbar\":{\"outlinewidth\":0,\"ticks\":\"\"}}}],\"scatterpolar\":[{\"type\":\"scatterpolar\",\"marker\":{\"colorbar\":{\"outlinewidth\":0,\"ticks\":\"\"}}}],\"histogram\":[{\"marker\":{\"pattern\":{\"fillmode\":\"overlay\",\"size\":10,\"solidity\":0.2}},\"type\":\"histogram\"}],\"scattergl\":[{\"type\":\"scattergl\",\"marker\":{\"colorbar\":{\"outlinewidth\":0,\"ticks\":\"\"}}}],\"scatter3d\":[{\"type\":\"scatter3d\",\"line\":{\"colorbar\":{\"outlinewidth\":0,\"ticks\":\"\"}},\"marker\":{\"colorbar\":{\"outlinewidth\":0,\"ticks\":\"\"}}}],\"scattermapbox\":[{\"type\":\"scattermapbox\",\"marker\":{\"colorbar\":{\"outlinewidth\":0,\"ticks\":\"\"}}}],\"scatterternary\":[{\"type\":\"scatterternary\",\"marker\":{\"colorbar\":{\"outlinewidth\":0,\"ticks\":\"\"}}}],\"scattercarpet\":[{\"type\":\"scattercarpet\",\"marker\":{\"colorbar\":{\"outlinewidth\":0,\"ticks\":\"\"}}}],\"carpet\":[{\"aaxis\":{\"endlinecolor\":\"#2a3f5f\",\"gridcolor\":\"white\",\"linecolor\":\"white\",\"minorgridcolor\":\"white\",\"startlinecolor\":\"#2a3f5f\"},\"baxis\":{\"endlinecolor\":\"#2a3f5f\",\"gridcolor\":\"white\",\"linecolor\":\"white\",\"minorgridcolor\":\"white\",\"startlinecolor\":\"#2a3f5f\"},\"type\":\"carpet\"}],\"table\":[{\"cells\":{\"fill\":{\"color\":\"#EBF0F8\"},\"line\":{\"color\":\"white\"}},\"header\":{\"fill\":{\"color\":\"#C8D4E3\"},\"line\":{\"color\":\"white\"}},\"type\":\"table\"}],\"barpolar\":[{\"marker\":{\"line\":{\"color\":\"#E5ECF6\",\"width\":0.5},\"pattern\":{\"fillmode\":\"overlay\",\"size\":10,\"solidity\":0.2}},\"type\":\"barpolar\"}],\"pie\":[{\"automargin\":true,\"type\":\"pie\"}]},\"layout\":{\"autotypenumbers\":\"strict\",\"colorway\":[\"#636efa\",\"#EF553B\",\"#00cc96\",\"#ab63fa\",\"#FFA15A\",\"#19d3f3\",\"#FF6692\",\"#B6E880\",\"#FF97FF\",\"#FECB52\"],\"font\":{\"color\":\"#2a3f5f\"},\"hovermode\":\"closest\",\"hoverlabel\":{\"align\":\"left\"},\"paper_bgcolor\":\"white\",\"plot_bgcolor\":\"#E5ECF6\",\"polar\":{\"bgcolor\":\"#E5ECF6\",\"angularaxis\":{\"gridcolor\":\"white\",\"linecolor\":\"white\",\"ticks\":\"\"},\"radialaxis\":{\"gridcolor\":\"white\",\"linecolor\":\"white\",\"ticks\":\"\"}},\"ternary\":{\"bgcolor\":\"#E5ECF6\",\"aaxis\":{\"gridcolor\":\"white\",\"linecolor\":\"white\",\"ticks\":\"\"},\"baxis\":{\"gridcolor\":\"white\",\"linecolor\":\"white\",\"ticks\":\"\"},\"caxis\":{\"gridcolor\":\"white\",\"linecolor\":\"white\",\"ticks\":\"\"}},\"coloraxis\":{\"colorbar\":{\"outlinewidth\":0,\"ticks\":\"\"}},\"colorscale\":{\"sequential\":[[0.0,\"#0d0887\"],[0.1111111111111111,\"#46039f\"],[0.2222222222222222,\"#7201a8\"],[0.3333333333333333,\"#9c179e\"],[0.4444444444444444,\"#bd3786\"],[0.5555555555555556,\"#d8576b\"],[0.6666666666666666,\"#ed7953\"],[0.7777777777777778,\"#fb9f3a\"],[0.8888888888888888,\"#fdca26\"],[1.0,\"#f0f921\"]],\"sequentialminus\":[[0.0,\"#0d0887\"],[0.1111111111111111,\"#46039f\"],[0.2222222222222222,\"#7201a8\"],[0.3333333333333333,\"#9c179e\"],[0.4444444444444444,\"#bd3786\"],[0.5555555555555556,\"#d8576b\"],[0.6666666666666666,\"#ed7953\"],[0.7777777777777778,\"#fb9f3a\"],[0.8888888888888888,\"#fdca26\"],[1.0,\"#f0f921\"]],\"diverging\":[[0,\"#8e0152\"],[0.1,\"#c51b7d\"],[0.2,\"#de77ae\"],[0.3,\"#f1b6da\"],[0.4,\"#fde0ef\"],[0.5,\"#f7f7f7\"],[0.6,\"#e6f5d0\"],[0.7,\"#b8e186\"],[0.8,\"#7fbc41\"],[0.9,\"#4d9221\"],[1,\"#276419\"]]},\"xaxis\":{\"gridcolor\":\"white\",\"linecolor\":\"white\",\"ticks\":\"\",\"title\":{\"standoff\":15},\"zerolinecolor\":\"white\",\"automargin\":true,\"zerolinewidth\":2},\"yaxis\":{\"gridcolor\":\"white\",\"linecolor\":\"white\",\"ticks\":\"\",\"title\":{\"standoff\":15},\"zerolinecolor\":\"white\",\"automargin\":true,\"zerolinewidth\":2},\"scene\":{\"xaxis\":{\"backgroundcolor\":\"#E5ECF6\",\"gridcolor\":\"white\",\"linecolor\":\"white\",\"showbackground\":true,\"ticks\":\"\",\"zerolinecolor\":\"white\",\"gridwidth\":2},\"yaxis\":{\"backgroundcolor\":\"#E5ECF6\",\"gridcolor\":\"white\",\"linecolor\":\"white\",\"showbackground\":true,\"ticks\":\"\",\"zerolinecolor\":\"white\",\"gridwidth\":2},\"zaxis\":{\"backgroundcolor\":\"#E5ECF6\",\"gridcolor\":\"white\",\"linecolor\":\"white\",\"showbackground\":true,\"ticks\":\"\",\"zerolinecolor\":\"white\",\"gridwidth\":2}},\"shapedefaults\":{\"line\":{\"color\":\"#2a3f5f\"}},\"annotationdefaults\":{\"arrowcolor\":\"#2a3f5f\",\"arrowhead\":0,\"arrowwidth\":1},\"geo\":{\"bgcolor\":\"white\",\"landcolor\":\"#E5ECF6\",\"subunitcolor\":\"white\",\"showland\":true,\"showlakes\":true,\"lakecolor\":\"white\"},\"title\":{\"x\":0.05},\"mapbox\":{\"style\":\"light\"}}},\"xaxis\":{\"anchor\":\"y\",\"domain\":[0.0,1.0],\"scaleanchor\":\"y\",\"constrain\":\"domain\",\"title\":{\"text\":\"Token\"},\"tickfont\":{\"size\":20},\"tickvals\":[0,1,2,3,4,5,6,7,8,9,10,11,12,13,14,15,16,17,18,19,20,21,22,23,24,25,26,27,28,29,30,31,32,33,34,35,36,37,38,39],\"ticktext\":[\"\\u2581Something\",\"\\u2581that\",\"\\u2581would\",\"\\u2581make\",\"\\u2581me\",\"\\u2581unhappy\",\"\\u2581is\",\"\\u2581constant\",\"\\u2581criticism\",\",\",\"\\u2581bel\",\"itt\",\"ling\",\"\\u2581or\",\"\\u2581negative\",\"\\u2581comments\",\"\\u2581about\",\"\\u2581my\",\"\\u2581abilities\",\",\",\"\\u2581actions\",\"\\u2581or\",\"\\u2581ideas\",\".\",\"\\u2581It\",\"\\u2581can\",\"\\u2581really\",\"\\u2581lower\",\"\\u2581my\",\"\\u2581self\",\"-\",\"este\",\"em\",\"\\u2581and\",\"\\u2581motivation\",\",\",\"\\u2581and\",\"\\u2581make\",\"\\u2581me\",\"\\u2581feel\"],\"tickangle\":-45},\"yaxis\":{\"anchor\":\"x\",\"domain\":[0.0,1.0],\"autorange\":\"reversed\",\"constrain\":\"domain\",\"showticklabels\":false},\"coloraxis\":{\"colorscale\":[[0.0,\"rgb(165,0,38)\"],[0.1,\"rgb(215,48,39)\"],[0.2,\"rgb(244,109,67)\"],[0.3,\"rgb(253,174,97)\"],[0.4,\"rgb(254,224,139)\"],[0.5,\"rgb(255,255,191)\"],[0.6,\"rgb(217,239,139)\"],[0.7,\"rgb(166,217,106)\"],[0.8,\"rgb(102,189,99)\"],[0.9,\"rgb(26,152,80)\"],[1.0,\"rgb(0,104,55)\"]],\"cmin\":-1,\"cmax\":1},\"margin\":{\"t\":60}},                        {\"responsive\": true}                    ).then(function(){\n",
       "                            \n",
       "var gd = document.getElementById('39509998-66f9-41e0-937c-28d05a775706');\n",
       "var x = new MutationObserver(function (mutations, observer) {{\n",
       "        var display = window.getComputedStyle(gd).display;\n",
       "        if (!display || display === 'none') {{\n",
       "            console.log([gd, 'removed!']);\n",
       "            Plotly.purge(gd);\n",
       "            observer.disconnect();\n",
       "        }}\n",
       "}});\n",
       "\n",
       "// Listen for the removal of the full notebook cells\n",
       "var notebookContainer = gd.closest('#notebook-container');\n",
       "if (notebookContainer) {{\n",
       "    x.observe(notebookContainer, {childList: true});\n",
       "}}\n",
       "\n",
       "// Listen for the clearing of the current output cell\n",
       "var outputEl = gd.closest('.output');\n",
       "if (outputEl) {{\n",
       "    x.observe(outputEl, {childList: true});\n",
       "}}\n",
       "\n",
       "                        })                };                });            </script>        </div>"
      ]
     },
     "metadata": {},
     "output_type": "display_data"
    }
   ],
   "source": [
    "scores_per_token = ld.detect(output['projections'], aggregation_method='layer_avg', use_n_middle_layers=15)\n",
    "ld.plot_scores_per_token(scores_per_token, tokens, lastn_tokens_to_plot=max_new_tokens, saturate_at=1)"
   ]
  },
  {
   "cell_type": "code",
   "execution_count": 22,
   "id": "f0a61964-757e-4749-8641-ccc8b7ffcf8a",
   "metadata": {
    "tags": []
   },
   "outputs": [
    {
     "data": {
      "application/vnd.plotly.v1+json": {
       "config": {
        "plotlyServerURL": "https://plot.ly"
       },
       "data": [
        {
         "coloraxis": "coloraxis",
         "hovertemplate": "Token: %{x}<br>y: %{y}<br>color: %{z}<extra></extra>",
         "name": "0",
         "type": "heatmap",
         "xaxis": "x",
         "yaxis": "y",
         "z": [
          [
           0.0028342985980693222,
           0.004598620887402087,
           0.004062277272270765,
           0.00723370138449231,
           0.00038722494153884085,
           0.0076597612585218786,
           0.0010401311749346442,
           0.002957172350176048,
           0.004411671771113954,
           0.0006569897731908466,
           0.0003414046443680455,
           0.007063878992643296,
           0.0064627195377823556,
           0.003983876222837678,
           0.006775300928116773,
           0.006759788498769426,
           0.008552664234831654,
           0.08039263861676012,
           0.006606499159899409,
           0.006636644990164485,
           0.0152206429611097,
           0.08868218569232096,
           0.01037088817556309,
           0.0020907825490020094,
           0.0009462450286663503,
           0.002315696858642792,
           0.0008603526634397161,
           0.014947764714549271,
           0.18586664165623284,
           0.045414258102457014,
           0.22037914979639395,
           0.00930440715991772,
           0.0114511253212172,
           0.007718090479457761,
           0.007584694404117887,
           0.0013886370034839725,
           0.0029098203286921577,
           0.0018605002363050226,
           8.963892744456835e-05
          ]
         ]
        }
       ],
       "layout": {
        "autosize": true,
        "coloraxis": {
         "cmax": 1,
         "cmin": 0,
         "colorscale": [
          [
           0,
           "rgb(165,0,38)"
          ],
          [
           0.1,
           "rgb(215,48,39)"
          ],
          [
           0.2,
           "rgb(244,109,67)"
          ],
          [
           0.3,
           "rgb(253,174,97)"
          ],
          [
           0.4,
           "rgb(254,224,139)"
          ],
          [
           0.5,
           "rgb(255,255,191)"
          ],
          [
           0.6,
           "rgb(217,239,139)"
          ],
          [
           0.7,
           "rgb(166,217,106)"
          ],
          [
           0.8,
           "rgb(102,189,99)"
          ],
          [
           0.9,
           "rgb(26,152,80)"
          ],
          [
           1,
           "rgb(0,104,55)"
          ]
         ]
        },
        "margin": {
         "t": 60
        },
        "template": {
         "data": {
          "bar": [
           {
            "error_x": {
             "color": "#2a3f5f"
            },
            "error_y": {
             "color": "#2a3f5f"
            },
            "marker": {
             "line": {
              "color": "#E5ECF6",
              "width": 0.5
             },
             "pattern": {
              "fillmode": "overlay",
              "size": 10,
              "solidity": 0.2
             }
            },
            "type": "bar"
           }
          ],
          "barpolar": [
           {
            "marker": {
             "line": {
              "color": "#E5ECF6",
              "width": 0.5
             },
             "pattern": {
              "fillmode": "overlay",
              "size": 10,
              "solidity": 0.2
             }
            },
            "type": "barpolar"
           }
          ],
          "carpet": [
           {
            "aaxis": {
             "endlinecolor": "#2a3f5f",
             "gridcolor": "white",
             "linecolor": "white",
             "minorgridcolor": "white",
             "startlinecolor": "#2a3f5f"
            },
            "baxis": {
             "endlinecolor": "#2a3f5f",
             "gridcolor": "white",
             "linecolor": "white",
             "minorgridcolor": "white",
             "startlinecolor": "#2a3f5f"
            },
            "type": "carpet"
           }
          ],
          "choropleth": [
           {
            "colorbar": {
             "outlinewidth": 0,
             "ticks": ""
            },
            "type": "choropleth"
           }
          ],
          "contour": [
           {
            "colorbar": {
             "outlinewidth": 0,
             "ticks": ""
            },
            "colorscale": [
             [
              0,
              "#0d0887"
             ],
             [
              0.1111111111111111,
              "#46039f"
             ],
             [
              0.2222222222222222,
              "#7201a8"
             ],
             [
              0.3333333333333333,
              "#9c179e"
             ],
             [
              0.4444444444444444,
              "#bd3786"
             ],
             [
              0.5555555555555556,
              "#d8576b"
             ],
             [
              0.6666666666666666,
              "#ed7953"
             ],
             [
              0.7777777777777778,
              "#fb9f3a"
             ],
             [
              0.8888888888888888,
              "#fdca26"
             ],
             [
              1,
              "#f0f921"
             ]
            ],
            "type": "contour"
           }
          ],
          "contourcarpet": [
           {
            "colorbar": {
             "outlinewidth": 0,
             "ticks": ""
            },
            "type": "contourcarpet"
           }
          ],
          "heatmap": [
           {
            "colorbar": {
             "outlinewidth": 0,
             "ticks": ""
            },
            "colorscale": [
             [
              0,
              "#0d0887"
             ],
             [
              0.1111111111111111,
              "#46039f"
             ],
             [
              0.2222222222222222,
              "#7201a8"
             ],
             [
              0.3333333333333333,
              "#9c179e"
             ],
             [
              0.4444444444444444,
              "#bd3786"
             ],
             [
              0.5555555555555556,
              "#d8576b"
             ],
             [
              0.6666666666666666,
              "#ed7953"
             ],
             [
              0.7777777777777778,
              "#fb9f3a"
             ],
             [
              0.8888888888888888,
              "#fdca26"
             ],
             [
              1,
              "#f0f921"
             ]
            ],
            "type": "heatmap"
           }
          ],
          "heatmapgl": [
           {
            "colorbar": {
             "outlinewidth": 0,
             "ticks": ""
            },
            "colorscale": [
             [
              0,
              "#0d0887"
             ],
             [
              0.1111111111111111,
              "#46039f"
             ],
             [
              0.2222222222222222,
              "#7201a8"
             ],
             [
              0.3333333333333333,
              "#9c179e"
             ],
             [
              0.4444444444444444,
              "#bd3786"
             ],
             [
              0.5555555555555556,
              "#d8576b"
             ],
             [
              0.6666666666666666,
              "#ed7953"
             ],
             [
              0.7777777777777778,
              "#fb9f3a"
             ],
             [
              0.8888888888888888,
              "#fdca26"
             ],
             [
              1,
              "#f0f921"
             ]
            ],
            "type": "heatmapgl"
           }
          ],
          "histogram": [
           {
            "marker": {
             "pattern": {
              "fillmode": "overlay",
              "size": 10,
              "solidity": 0.2
             }
            },
            "type": "histogram"
           }
          ],
          "histogram2d": [
           {
            "colorbar": {
             "outlinewidth": 0,
             "ticks": ""
            },
            "colorscale": [
             [
              0,
              "#0d0887"
             ],
             [
              0.1111111111111111,
              "#46039f"
             ],
             [
              0.2222222222222222,
              "#7201a8"
             ],
             [
              0.3333333333333333,
              "#9c179e"
             ],
             [
              0.4444444444444444,
              "#bd3786"
             ],
             [
              0.5555555555555556,
              "#d8576b"
             ],
             [
              0.6666666666666666,
              "#ed7953"
             ],
             [
              0.7777777777777778,
              "#fb9f3a"
             ],
             [
              0.8888888888888888,
              "#fdca26"
             ],
             [
              1,
              "#f0f921"
             ]
            ],
            "type": "histogram2d"
           }
          ],
          "histogram2dcontour": [
           {
            "colorbar": {
             "outlinewidth": 0,
             "ticks": ""
            },
            "colorscale": [
             [
              0,
              "#0d0887"
             ],
             [
              0.1111111111111111,
              "#46039f"
             ],
             [
              0.2222222222222222,
              "#7201a8"
             ],
             [
              0.3333333333333333,
              "#9c179e"
             ],
             [
              0.4444444444444444,
              "#bd3786"
             ],
             [
              0.5555555555555556,
              "#d8576b"
             ],
             [
              0.6666666666666666,
              "#ed7953"
             ],
             [
              0.7777777777777778,
              "#fb9f3a"
             ],
             [
              0.8888888888888888,
              "#fdca26"
             ],
             [
              1,
              "#f0f921"
             ]
            ],
            "type": "histogram2dcontour"
           }
          ],
          "mesh3d": [
           {
            "colorbar": {
             "outlinewidth": 0,
             "ticks": ""
            },
            "type": "mesh3d"
           }
          ],
          "parcoords": [
           {
            "line": {
             "colorbar": {
              "outlinewidth": 0,
              "ticks": ""
             }
            },
            "type": "parcoords"
           }
          ],
          "pie": [
           {
            "automargin": true,
            "type": "pie"
           }
          ],
          "scatter": [
           {
            "fillpattern": {
             "fillmode": "overlay",
             "size": 10,
             "solidity": 0.2
            },
            "type": "scatter"
           }
          ],
          "scatter3d": [
           {
            "line": {
             "colorbar": {
              "outlinewidth": 0,
              "ticks": ""
             }
            },
            "marker": {
             "colorbar": {
              "outlinewidth": 0,
              "ticks": ""
             }
            },
            "type": "scatter3d"
           }
          ],
          "scattercarpet": [
           {
            "marker": {
             "colorbar": {
              "outlinewidth": 0,
              "ticks": ""
             }
            },
            "type": "scattercarpet"
           }
          ],
          "scattergeo": [
           {
            "marker": {
             "colorbar": {
              "outlinewidth": 0,
              "ticks": ""
             }
            },
            "type": "scattergeo"
           }
          ],
          "scattergl": [
           {
            "marker": {
             "colorbar": {
              "outlinewidth": 0,
              "ticks": ""
             }
            },
            "type": "scattergl"
           }
          ],
          "scattermapbox": [
           {
            "marker": {
             "colorbar": {
              "outlinewidth": 0,
              "ticks": ""
             }
            },
            "type": "scattermapbox"
           }
          ],
          "scatterpolar": [
           {
            "marker": {
             "colorbar": {
              "outlinewidth": 0,
              "ticks": ""
             }
            },
            "type": "scatterpolar"
           }
          ],
          "scatterpolargl": [
           {
            "marker": {
             "colorbar": {
              "outlinewidth": 0,
              "ticks": ""
             }
            },
            "type": "scatterpolargl"
           }
          ],
          "scatterternary": [
           {
            "marker": {
             "colorbar": {
              "outlinewidth": 0,
              "ticks": ""
             }
            },
            "type": "scatterternary"
           }
          ],
          "surface": [
           {
            "colorbar": {
             "outlinewidth": 0,
             "ticks": ""
            },
            "colorscale": [
             [
              0,
              "#0d0887"
             ],
             [
              0.1111111111111111,
              "#46039f"
             ],
             [
              0.2222222222222222,
              "#7201a8"
             ],
             [
              0.3333333333333333,
              "#9c179e"
             ],
             [
              0.4444444444444444,
              "#bd3786"
             ],
             [
              0.5555555555555556,
              "#d8576b"
             ],
             [
              0.6666666666666666,
              "#ed7953"
             ],
             [
              0.7777777777777778,
              "#fb9f3a"
             ],
             [
              0.8888888888888888,
              "#fdca26"
             ],
             [
              1,
              "#f0f921"
             ]
            ],
            "type": "surface"
           }
          ],
          "table": [
           {
            "cells": {
             "fill": {
              "color": "#EBF0F8"
             },
             "line": {
              "color": "white"
             }
            },
            "header": {
             "fill": {
              "color": "#C8D4E3"
             },
             "line": {
              "color": "white"
             }
            },
            "type": "table"
           }
          ]
         },
         "layout": {
          "annotationdefaults": {
           "arrowcolor": "#2a3f5f",
           "arrowhead": 0,
           "arrowwidth": 1
          },
          "autotypenumbers": "strict",
          "coloraxis": {
           "colorbar": {
            "outlinewidth": 0,
            "ticks": ""
           }
          },
          "colorscale": {
           "diverging": [
            [
             0,
             "#8e0152"
            ],
            [
             0.1,
             "#c51b7d"
            ],
            [
             0.2,
             "#de77ae"
            ],
            [
             0.3,
             "#f1b6da"
            ],
            [
             0.4,
             "#fde0ef"
            ],
            [
             0.5,
             "#f7f7f7"
            ],
            [
             0.6,
             "#e6f5d0"
            ],
            [
             0.7,
             "#b8e186"
            ],
            [
             0.8,
             "#7fbc41"
            ],
            [
             0.9,
             "#4d9221"
            ],
            [
             1,
             "#276419"
            ]
           ],
           "sequential": [
            [
             0,
             "#0d0887"
            ],
            [
             0.1111111111111111,
             "#46039f"
            ],
            [
             0.2222222222222222,
             "#7201a8"
            ],
            [
             0.3333333333333333,
             "#9c179e"
            ],
            [
             0.4444444444444444,
             "#bd3786"
            ],
            [
             0.5555555555555556,
             "#d8576b"
            ],
            [
             0.6666666666666666,
             "#ed7953"
            ],
            [
             0.7777777777777778,
             "#fb9f3a"
            ],
            [
             0.8888888888888888,
             "#fdca26"
            ],
            [
             1,
             "#f0f921"
            ]
           ],
           "sequentialminus": [
            [
             0,
             "#0d0887"
            ],
            [
             0.1111111111111111,
             "#46039f"
            ],
            [
             0.2222222222222222,
             "#7201a8"
            ],
            [
             0.3333333333333333,
             "#9c179e"
            ],
            [
             0.4444444444444444,
             "#bd3786"
            ],
            [
             0.5555555555555556,
             "#d8576b"
            ],
            [
             0.6666666666666666,
             "#ed7953"
            ],
            [
             0.7777777777777778,
             "#fb9f3a"
            ],
            [
             0.8888888888888888,
             "#fdca26"
            ],
            [
             1,
             "#f0f921"
            ]
           ]
          },
          "colorway": [
           "#636efa",
           "#EF553B",
           "#00cc96",
           "#ab63fa",
           "#FFA15A",
           "#19d3f3",
           "#FF6692",
           "#B6E880",
           "#FF97FF",
           "#FECB52"
          ],
          "font": {
           "color": "#2a3f5f"
          },
          "geo": {
           "bgcolor": "white",
           "lakecolor": "white",
           "landcolor": "#E5ECF6",
           "showlakes": true,
           "showland": true,
           "subunitcolor": "white"
          },
          "hoverlabel": {
           "align": "left"
          },
          "hovermode": "closest",
          "mapbox": {
           "style": "light"
          },
          "paper_bgcolor": "white",
          "plot_bgcolor": "#E5ECF6",
          "polar": {
           "angularaxis": {
            "gridcolor": "white",
            "linecolor": "white",
            "ticks": ""
           },
           "bgcolor": "#E5ECF6",
           "radialaxis": {
            "gridcolor": "white",
            "linecolor": "white",
            "ticks": ""
           }
          },
          "scene": {
           "xaxis": {
            "backgroundcolor": "#E5ECF6",
            "gridcolor": "white",
            "gridwidth": 2,
            "linecolor": "white",
            "showbackground": true,
            "ticks": "",
            "zerolinecolor": "white"
           },
           "yaxis": {
            "backgroundcolor": "#E5ECF6",
            "gridcolor": "white",
            "gridwidth": 2,
            "linecolor": "white",
            "showbackground": true,
            "ticks": "",
            "zerolinecolor": "white"
           },
           "zaxis": {
            "backgroundcolor": "#E5ECF6",
            "gridcolor": "white",
            "gridwidth": 2,
            "linecolor": "white",
            "showbackground": true,
            "ticks": "",
            "zerolinecolor": "white"
           }
          },
          "shapedefaults": {
           "line": {
            "color": "#2a3f5f"
           }
          },
          "ternary": {
           "aaxis": {
            "gridcolor": "white",
            "linecolor": "white",
            "ticks": ""
           },
           "baxis": {
            "gridcolor": "white",
            "linecolor": "white",
            "ticks": ""
           },
           "bgcolor": "#E5ECF6",
           "caxis": {
            "gridcolor": "white",
            "linecolor": "white",
            "ticks": ""
           }
          },
          "title": {
           "x": 0.05
          },
          "xaxis": {
           "automargin": true,
           "gridcolor": "white",
           "linecolor": "white",
           "ticks": "",
           "title": {
            "standoff": 15
           },
           "zerolinecolor": "white",
           "zerolinewidth": 2
          },
          "yaxis": {
           "automargin": true,
           "gridcolor": "white",
           "linecolor": "white",
           "ticks": "",
           "title": {
            "standoff": 15
           },
           "zerolinecolor": "white",
           "zerolinewidth": 2
          }
         }
        },
        "xaxis": {
         "anchor": "y",
         "autorange": true,
         "constrain": "domain",
         "domain": [
          0,
          1
         ],
         "range": [
          -0.5,
          38.5
         ],
         "scaleanchor": "y",
         "tickangle": -45,
         "tickfont": {
          "size": 20
         },
         "ticktext": [
          "▁Something",
          "▁that",
          "▁would",
          "▁make",
          "▁me",
          "▁unhappy",
          "▁is",
          "▁constant",
          "▁criticism",
          ",",
          "▁bel",
          "itt",
          "ling",
          "▁or",
          "▁negative",
          "▁comments",
          "▁about",
          "▁my",
          "▁abilities",
          ",",
          "▁actions",
          "▁or",
          "▁ideas",
          ".",
          "▁It",
          "▁can",
          "▁really",
          "▁lower",
          "▁my",
          "▁self",
          "-",
          "este",
          "em",
          "▁and",
          "▁motivation",
          ",",
          "▁and",
          "▁make",
          "▁me",
          "▁feel"
         ],
         "tickvals": [
          0,
          1,
          2,
          3,
          4,
          5,
          6,
          7,
          8,
          9,
          10,
          11,
          12,
          13,
          14,
          15,
          16,
          17,
          18,
          19,
          20,
          21,
          22,
          23,
          24,
          25,
          26,
          27,
          28,
          29,
          30,
          31,
          32,
          33,
          34,
          35,
          36,
          37,
          38,
          39
         ],
         "title": {
          "text": "Token"
         }
        },
        "yaxis": {
         "anchor": "x",
         "autorange": true,
         "constrain": "domain",
         "domain": [
          0.4586247086247086,
          0.5413752913752914
         ],
         "range": [
          0.5,
          -0.5
         ],
         "showticklabels": false
        }
       }
      },
      "image/png": "[encoded data removed]",
      "text/html": [
       "<div>                            <div id=\"dbcb05c6-e31c-4712-84ec-92e22d897bcc\" class=\"plotly-graph-div\" style=\"height:525px; width:100%;\"></div>            <script type=\"text/javascript\">                require([\"plotly\"], function(Plotly) {                    window.PLOTLYENV=window.PLOTLYENV || {};                                    if (document.getElementById(\"dbcb05c6-e31c-4712-84ec-92e22d897bcc\")) {                    Plotly.newPlot(                        \"dbcb05c6-e31c-4712-84ec-92e22d897bcc\",                        [{\"coloraxis\":\"coloraxis\",\"name\":\"0\",\"z\":[[0.0028342985980693222,0.004598620887402087,0.004062277272270765,0.00723370138449231,0.00038722494153884085,0.0076597612585218786,0.0010401311749346442,0.002957172350176048,0.004411671771113954,0.0006569897731908466,0.0003414046443680455,0.007063878992643296,0.0064627195377823556,0.003983876222837678,0.006775300928116773,0.006759788498769426,0.008552664234831654,0.08039263861676012,0.006606499159899409,0.006636644990164485,0.0152206429611097,0.08868218569232096,0.01037088817556309,0.0020907825490020094,0.0009462450286663503,0.002315696858642792,0.0008603526634397161,0.014947764714549271,0.18586664165623284,0.045414258102457014,0.22037914979639395,0.00930440715991772,0.0114511253212172,0.007718090479457761,0.007584694404117887,0.0013886370034839725,0.0029098203286921577,0.0018605002363050226,8.963892744456835e-05]],\"type\":\"heatmap\",\"xaxis\":\"x\",\"yaxis\":\"y\",\"hovertemplate\":\"Token: %{x}\\u003cbr\\u003ey: %{y}\\u003cbr\\u003ecolor: %{z}\\u003cextra\\u003e\\u003c\\u002fextra\\u003e\"}],                        {\"template\":{\"data\":{\"histogram2dcontour\":[{\"type\":\"histogram2dcontour\",\"colorbar\":{\"outlinewidth\":0,\"ticks\":\"\"},\"colorscale\":[[0.0,\"#0d0887\"],[0.1111111111111111,\"#46039f\"],[0.2222222222222222,\"#7201a8\"],[0.3333333333333333,\"#9c179e\"],[0.4444444444444444,\"#bd3786\"],[0.5555555555555556,\"#d8576b\"],[0.6666666666666666,\"#ed7953\"],[0.7777777777777778,\"#fb9f3a\"],[0.8888888888888888,\"#fdca26\"],[1.0,\"#f0f921\"]]}],\"choropleth\":[{\"type\":\"choropleth\",\"colorbar\":{\"outlinewidth\":0,\"ticks\":\"\"}}],\"histogram2d\":[{\"type\":\"histogram2d\",\"colorbar\":{\"outlinewidth\":0,\"ticks\":\"\"},\"colorscale\":[[0.0,\"#0d0887\"],[0.1111111111111111,\"#46039f\"],[0.2222222222222222,\"#7201a8\"],[0.3333333333333333,\"#9c179e\"],[0.4444444444444444,\"#bd3786\"],[0.5555555555555556,\"#d8576b\"],[0.6666666666666666,\"#ed7953\"],[0.7777777777777778,\"#fb9f3a\"],[0.8888888888888888,\"#fdca26\"],[1.0,\"#f0f921\"]]}],\"heatmap\":[{\"type\":\"heatmap\",\"colorbar\":{\"outlinewidth\":0,\"ticks\":\"\"},\"colorscale\":[[0.0,\"#0d0887\"],[0.1111111111111111,\"#46039f\"],[0.2222222222222222,\"#7201a8\"],[0.3333333333333333,\"#9c179e\"],[0.4444444444444444,\"#bd3786\"],[0.5555555555555556,\"#d8576b\"],[0.6666666666666666,\"#ed7953\"],[0.7777777777777778,\"#fb9f3a\"],[0.8888888888888888,\"#fdca26\"],[1.0,\"#f0f921\"]]}],\"heatmapgl\":[{\"type\":\"heatmapgl\",\"colorbar\":{\"outlinewidth\":0,\"ticks\":\"\"},\"colorscale\":[[0.0,\"#0d0887\"],[0.1111111111111111,\"#46039f\"],[0.2222222222222222,\"#7201a8\"],[0.3333333333333333,\"#9c179e\"],[0.4444444444444444,\"#bd3786\"],[0.5555555555555556,\"#d8576b\"],[0.6666666666666666,\"#ed7953\"],[0.7777777777777778,\"#fb9f3a\"],[0.8888888888888888,\"#fdca26\"],[1.0,\"#f0f921\"]]}],\"contourcarpet\":[{\"type\":\"contourcarpet\",\"colorbar\":{\"outlinewidth\":0,\"ticks\":\"\"}}],\"contour\":[{\"type\":\"contour\",\"colorbar\":{\"outlinewidth\":0,\"ticks\":\"\"},\"colorscale\":[[0.0,\"#0d0887\"],[0.1111111111111111,\"#46039f\"],[0.2222222222222222,\"#7201a8\"],[0.3333333333333333,\"#9c179e\"],[0.4444444444444444,\"#bd3786\"],[0.5555555555555556,\"#d8576b\"],[0.6666666666666666,\"#ed7953\"],[0.7777777777777778,\"#fb9f3a\"],[0.8888888888888888,\"#fdca26\"],[1.0,\"#f0f921\"]]}],\"surface\":[{\"type\":\"surface\",\"colorbar\":{\"outlinewidth\":0,\"ticks\":\"\"},\"colorscale\":[[0.0,\"#0d0887\"],[0.1111111111111111,\"#46039f\"],[0.2222222222222222,\"#7201a8\"],[0.3333333333333333,\"#9c179e\"],[0.4444444444444444,\"#bd3786\"],[0.5555555555555556,\"#d8576b\"],[0.6666666666666666,\"#ed7953\"],[0.7777777777777778,\"#fb9f3a\"],[0.8888888888888888,\"#fdca26\"],[1.0,\"#f0f921\"]]}],\"mesh3d\":[{\"type\":\"mesh3d\",\"colorbar\":{\"outlinewidth\":0,\"ticks\":\"\"}}],\"scatter\":[{\"fillpattern\":{\"fillmode\":\"overlay\",\"size\":10,\"solidity\":0.2},\"type\":\"scatter\"}],\"parcoords\":[{\"type\":\"parcoords\",\"line\":{\"colorbar\":{\"outlinewidth\":0,\"ticks\":\"\"}}}],\"scatterpolargl\":[{\"type\":\"scatterpolargl\",\"marker\":{\"colorbar\":{\"outlinewidth\":0,\"ticks\":\"\"}}}],\"bar\":[{\"error_x\":{\"color\":\"#2a3f5f\"},\"error_y\":{\"color\":\"#2a3f5f\"},\"marker\":{\"line\":{\"color\":\"#E5ECF6\",\"width\":0.5},\"pattern\":{\"fillmode\":\"overlay\",\"size\":10,\"solidity\":0.2}},\"type\":\"bar\"}],\"scattergeo\":[{\"type\":\"scattergeo\",\"marker\":{\"colorbar\":{\"outlinewidth\":0,\"ticks\":\"\"}}}],\"scatterpolar\":[{\"type\":\"scatterpolar\",\"marker\":{\"colorbar\":{\"outlinewidth\":0,\"ticks\":\"\"}}}],\"histogram\":[{\"marker\":{\"pattern\":{\"fillmode\":\"overlay\",\"size\":10,\"solidity\":0.2}},\"type\":\"histogram\"}],\"scattergl\":[{\"type\":\"scattergl\",\"marker\":{\"colorbar\":{\"outlinewidth\":0,\"ticks\":\"\"}}}],\"scatter3d\":[{\"type\":\"scatter3d\",\"line\":{\"colorbar\":{\"outlinewidth\":0,\"ticks\":\"\"}},\"marker\":{\"colorbar\":{\"outlinewidth\":0,\"ticks\":\"\"}}}],\"scattermapbox\":[{\"type\":\"scattermapbox\",\"marker\":{\"colorbar\":{\"outlinewidth\":0,\"ticks\":\"\"}}}],\"scatterternary\":[{\"type\":\"scatterternary\",\"marker\":{\"colorbar\":{\"outlinewidth\":0,\"ticks\":\"\"}}}],\"scattercarpet\":[{\"type\":\"scattercarpet\",\"marker\":{\"colorbar\":{\"outlinewidth\":0,\"ticks\":\"\"}}}],\"carpet\":[{\"aaxis\":{\"endlinecolor\":\"#2a3f5f\",\"gridcolor\":\"white\",\"linecolor\":\"white\",\"minorgridcolor\":\"white\",\"startlinecolor\":\"#2a3f5f\"},\"baxis\":{\"endlinecolor\":\"#2a3f5f\",\"gridcolor\":\"white\",\"linecolor\":\"white\",\"minorgridcolor\":\"white\",\"startlinecolor\":\"#2a3f5f\"},\"type\":\"carpet\"}],\"table\":[{\"cells\":{\"fill\":{\"color\":\"#EBF0F8\"},\"line\":{\"color\":\"white\"}},\"header\":{\"fill\":{\"color\":\"#C8D4E3\"},\"line\":{\"color\":\"white\"}},\"type\":\"table\"}],\"barpolar\":[{\"marker\":{\"line\":{\"color\":\"#E5ECF6\",\"width\":0.5},\"pattern\":{\"fillmode\":\"overlay\",\"size\":10,\"solidity\":0.2}},\"type\":\"barpolar\"}],\"pie\":[{\"automargin\":true,\"type\":\"pie\"}]},\"layout\":{\"autotypenumbers\":\"strict\",\"colorway\":[\"#636efa\",\"#EF553B\",\"#00cc96\",\"#ab63fa\",\"#FFA15A\",\"#19d3f3\",\"#FF6692\",\"#B6E880\",\"#FF97FF\",\"#FECB52\"],\"font\":{\"color\":\"#2a3f5f\"},\"hovermode\":\"closest\",\"hoverlabel\":{\"align\":\"left\"},\"paper_bgcolor\":\"white\",\"plot_bgcolor\":\"#E5ECF6\",\"polar\":{\"bgcolor\":\"#E5ECF6\",\"angularaxis\":{\"gridcolor\":\"white\",\"linecolor\":\"white\",\"ticks\":\"\"},\"radialaxis\":{\"gridcolor\":\"white\",\"linecolor\":\"white\",\"ticks\":\"\"}},\"ternary\":{\"bgcolor\":\"#E5ECF6\",\"aaxis\":{\"gridcolor\":\"white\",\"linecolor\":\"white\",\"ticks\":\"\"},\"baxis\":{\"gridcolor\":\"white\",\"linecolor\":\"white\",\"ticks\":\"\"},\"caxis\":{\"gridcolor\":\"white\",\"linecolor\":\"white\",\"ticks\":\"\"}},\"coloraxis\":{\"colorbar\":{\"outlinewidth\":0,\"ticks\":\"\"}},\"colorscale\":{\"sequential\":[[0.0,\"#0d0887\"],[0.1111111111111111,\"#46039f\"],[0.2222222222222222,\"#7201a8\"],[0.3333333333333333,\"#9c179e\"],[0.4444444444444444,\"#bd3786\"],[0.5555555555555556,\"#d8576b\"],[0.6666666666666666,\"#ed7953\"],[0.7777777777777778,\"#fb9f3a\"],[0.8888888888888888,\"#fdca26\"],[1.0,\"#f0f921\"]],\"sequentialminus\":[[0.0,\"#0d0887\"],[0.1111111111111111,\"#46039f\"],[0.2222222222222222,\"#7201a8\"],[0.3333333333333333,\"#9c179e\"],[0.4444444444444444,\"#bd3786\"],[0.5555555555555556,\"#d8576b\"],[0.6666666666666666,\"#ed7953\"],[0.7777777777777778,\"#fb9f3a\"],[0.8888888888888888,\"#fdca26\"],[1.0,\"#f0f921\"]],\"diverging\":[[0,\"#8e0152\"],[0.1,\"#c51b7d\"],[0.2,\"#de77ae\"],[0.3,\"#f1b6da\"],[0.4,\"#fde0ef\"],[0.5,\"#f7f7f7\"],[0.6,\"#e6f5d0\"],[0.7,\"#b8e186\"],[0.8,\"#7fbc41\"],[0.9,\"#4d9221\"],[1,\"#276419\"]]},\"xaxis\":{\"gridcolor\":\"white\",\"linecolor\":\"white\",\"ticks\":\"\",\"title\":{\"standoff\":15},\"zerolinecolor\":\"white\",\"automargin\":true,\"zerolinewidth\":2},\"yaxis\":{\"gridcolor\":\"white\",\"linecolor\":\"white\",\"ticks\":\"\",\"title\":{\"standoff\":15},\"zerolinecolor\":\"white\",\"automargin\":true,\"zerolinewidth\":2},\"scene\":{\"xaxis\":{\"backgroundcolor\":\"#E5ECF6\",\"gridcolor\":\"white\",\"linecolor\":\"white\",\"showbackground\":true,\"ticks\":\"\",\"zerolinecolor\":\"white\",\"gridwidth\":2},\"yaxis\":{\"backgroundcolor\":\"#E5ECF6\",\"gridcolor\":\"white\",\"linecolor\":\"white\",\"showbackground\":true,\"ticks\":\"\",\"zerolinecolor\":\"white\",\"gridwidth\":2},\"zaxis\":{\"backgroundcolor\":\"#E5ECF6\",\"gridcolor\":\"white\",\"linecolor\":\"white\",\"showbackground\":true,\"ticks\":\"\",\"zerolinecolor\":\"white\",\"gridwidth\":2}},\"shapedefaults\":{\"line\":{\"color\":\"#2a3f5f\"}},\"annotationdefaults\":{\"arrowcolor\":\"#2a3f5f\",\"arrowhead\":0,\"arrowwidth\":1},\"geo\":{\"bgcolor\":\"white\",\"landcolor\":\"#E5ECF6\",\"subunitcolor\":\"white\",\"showland\":true,\"showlakes\":true,\"lakecolor\":\"white\"},\"title\":{\"x\":0.05},\"mapbox\":{\"style\":\"light\"}}},\"xaxis\":{\"anchor\":\"y\",\"domain\":[0.0,1.0],\"scaleanchor\":\"y\",\"constrain\":\"domain\",\"title\":{\"text\":\"Token\"},\"tickfont\":{\"size\":20},\"tickvals\":[0,1,2,3,4,5,6,7,8,9,10,11,12,13,14,15,16,17,18,19,20,21,22,23,24,25,26,27,28,29,30,31,32,33,34,35,36,37,38,39],\"ticktext\":[\"\\u2581Something\",\"\\u2581that\",\"\\u2581would\",\"\\u2581make\",\"\\u2581me\",\"\\u2581unhappy\",\"\\u2581is\",\"\\u2581constant\",\"\\u2581criticism\",\",\",\"\\u2581bel\",\"itt\",\"ling\",\"\\u2581or\",\"\\u2581negative\",\"\\u2581comments\",\"\\u2581about\",\"\\u2581my\",\"\\u2581abilities\",\",\",\"\\u2581actions\",\"\\u2581or\",\"\\u2581ideas\",\".\",\"\\u2581It\",\"\\u2581can\",\"\\u2581really\",\"\\u2581lower\",\"\\u2581my\",\"\\u2581self\",\"-\",\"este\",\"em\",\"\\u2581and\",\"\\u2581motivation\",\",\",\"\\u2581and\",\"\\u2581make\",\"\\u2581me\",\"\\u2581feel\"],\"tickangle\":-45},\"yaxis\":{\"anchor\":\"x\",\"domain\":[0.0,1.0],\"autorange\":\"reversed\",\"constrain\":\"domain\",\"showticklabels\":false},\"coloraxis\":{\"colorscale\":[[0.0,\"rgb(165,0,38)\"],[0.1,\"rgb(215,48,39)\"],[0.2,\"rgb(244,109,67)\"],[0.3,\"rgb(253,174,97)\"],[0.4,\"rgb(254,224,139)\"],[0.5,\"rgb(255,255,191)\"],[0.6,\"rgb(217,239,139)\"],[0.7,\"rgb(166,217,106)\"],[0.8,\"rgb(102,189,99)\"],[0.9,\"rgb(26,152,80)\"],[1.0,\"rgb(0,104,55)\"]],\"cmin\":0,\"cmax\":1},\"margin\":{\"t\":60}},                        {\"responsive\": true}                    ).then(function(){\n",
       "                            \n",
       "var gd = document.getElementById('dbcb05c6-e31c-4712-84ec-92e22d897bcc');\n",
       "var x = new MutationObserver(function (mutations, observer) {{\n",
       "        var display = window.getComputedStyle(gd).display;\n",
       "        if (!display || display === 'none') {{\n",
       "            console.log([gd, 'removed!']);\n",
       "            Plotly.purge(gd);\n",
       "            observer.disconnect();\n",
       "        }}\n",
       "}});\n",
       "\n",
       "// Listen for the removal of the full notebook cells\n",
       "var notebookContainer = gd.closest('#notebook-container');\n",
       "if (notebookContainer) {{\n",
       "    x.observe(notebookContainer, {childList: true});\n",
       "}}\n",
       "\n",
       "// Listen for the clearing of the current output cell\n",
       "var outputEl = gd.closest('.output');\n",
       "if (outputEl) {{\n",
       "    x.observe(outputEl, {childList: true});\n",
       "}}\n",
       "\n",
       "                        })                };                });            </script>        </div>"
      ]
     },
     "metadata": {},
     "output_type": "display_data"
    }
   ],
   "source": [
    "# alternative: auto-aggregation\n",
    "scores_per_token = ld.detect(output['projections'], aggregation_method='auto')\n",
    "ld.plot_scores_per_token(scores_per_token, tokens, lastn_tokens_to_plot=max_new_tokens, detection_method='classifier')"
   ]
  },
  {
   "cell_type": "markdown",
   "id": "2c608d07-d4c6-4859-aac7-978681c4f57a",
   "metadata": {},
   "source": [
    "## Control (with reading vector)"
   ]
  },
  {
   "cell_type": "code",
   "execution_count": 12,
   "id": "a5bbf085-9639-4857-a6f7-9a6e7cb0ada9",
   "metadata": {
    "tags": []
   },
   "outputs": [],
   "source": [
    "from example_utils import vanilla_generate_wrapper\n",
    "vanilla_generate = vanilla_generate_wrapper(model, tokenizer, user_tag, assistant_tag, device)"
   ]
  },
  {
   "cell_type": "code",
   "execution_count": 13,
   "id": "a6616029-93a6-4c34-a59d-2cccb75e9f7e",
   "metadata": {
    "tags": []
   },
   "outputs": [],
   "source": [
    "from lmdoctor import control_utils\n",
    "hc = control_utils.Controller(extractor)"
   ]
  },
  {
   "cell_type": "code",
   "execution_count": 14,
   "id": "76a16994-dd25-432e-999a-27900b8199ad",
   "metadata": {
    "tags": []
   },
   "outputs": [
    {
     "name": "stderr",
     "output_type": "stream",
     "text": [
      "Setting `pad_token_id` to `eos_token_id`:2 for open-end generation.\n",
      "Setting `pad_token_id` to `eos_token_id`:2 for open-end generation.\n"
     ]
    },
    {
     "name": "stdout",
     "output_type": "stream",
     "text": [
      "[INST] When someone accidentally bumps into me, I feel... [/INST] When someone accidentally bumps into me, I feel a mix\n"
     ]
    },
    {
     "data": {
      "text/plain": [
       "\"[INST] When someone accidentally bumps into me, I feel... [/INST] When someone accidentally bumps into me, I feel a wonderful feeling of happiness and warmth. It's like a beautiful moment of connection and love.\""
      ]
     },
     "execution_count": 14,
     "metadata": {},
     "output_type": "execute_result"
    }
   ],
   "source": [
    "prompt = \"When someone accidentally bumps into me, I feel...\"\n",
    "vanilla_generate(prompt)\n",
    "hc.generate(prompt, control_direction=1, max_new_tokens=70, alpha=1)"
   ]
  },
  {
   "cell_type": "code",
   "execution_count": 15,
   "id": "d2208d8a-e780-4146-8c34-032384509b62",
   "metadata": {
    "scrolled": true,
    "tags": []
   },
   "outputs": [
    {
     "name": "stderr",
     "output_type": "stream",
     "text": [
      "Setting `pad_token_id` to `eos_token_id`:2 for open-end generation.\n",
      "Setting `pad_token_id` to `eos_token_id`:2 for open-end generation.\n"
     ]
    },
    {
     "name": "stdout",
     "output_type": "stream",
     "text": [
      "[INST] When someone accidentally bumps into me, I feel... [/INST] When someone accidentally bumps into me, I feel a mix\n"
     ]
    },
    {
     "data": {
      "text/plain": [
       "\"[INST] When someone accidentally bumps into me, I feel... [/INST] When someone accidentally bumps into me, I feel annoyed and frustrated. It's not only unexpected, but it also makes me question their lack of attention and carelessness.\""
      ]
     },
     "execution_count": 15,
     "metadata": {},
     "output_type": "execute_result"
    }
   ],
   "source": [
    "prompt = \"When someone accidentally bumps into me, I feel...\"\n",
    "vanilla_generate(prompt)\n",
    "hc.generate(prompt, control_direction=-1, max_new_tokens=70, alpha=1)"
   ]
  }
 ],
 "metadata": {
  "kernelspec": {
   "display_name": "Python 3 (ipykernel)",
   "language": "python",
   "name": "python3"
  },
  "language_info": {
   "codemirror_mode": {
    "name": "ipython",
    "version": 3
   },
   "file_extension": ".py",
   "mimetype": "text/x-python",
   "name": "python",
   "nbconvert_exporter": "python",
   "pygments_lexer": "ipython3",
   "version": "3.10.13"
  }
 },
 "nbformat": 4,
 "nbformat_minor": 5
}
