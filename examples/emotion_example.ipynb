{
 "cells": [
  {
   "cell_type": "markdown",
   "id": "7a31a213-f00f-462e-bc9d-861633f71082",
   "metadata": {},
   "source": [
    "## Setup\n",
    "If you already have a model you want to use, you can skip this step. "
   ]
  },
  {
   "cell_type": "code",
   "execution_count": 1,
   "id": "574c865c-c179-47cd-b331-9283352504d1",
   "metadata": {},
   "outputs": [],
   "source": [
    "%load_ext autoreload\n",
    "%autoreload 2"
   ]
  },
  {
   "cell_type": "code",
   "execution_count": 2,
   "id": "16a62c6d-cce6-4918-98fa-5bc0bdce8cf6",
   "metadata": {},
   "outputs": [],
   "source": [
    "model_name_or_path = \"TheBloke/Mistral-7B-Instruct-v0.1-GPTQ\"\n",
    "# model_name_or_path = \"TheBloke/Mistral-7B-Instruct-v0.2-GPTQ\""
   ]
  },
  {
   "cell_type": "code",
   "execution_count": 3,
   "id": "be6ed83c-89d0-4d30-b794-20db2ebe92ce",
   "metadata": {},
   "outputs": [
    {
     "name": "stdout",
     "output_type": "stream",
     "text": [
      "Looking in indexes: https://download.pytorch.org/whl/cu121\n",
      "Requirement already satisfied: torch==2.1.1 in /opt/conda/lib/python3.10/site-packages (2.1.1)\n",
      "Requirement already satisfied: torchvision==0.16.1 in /opt/conda/lib/python3.10/site-packages (0.16.1)\n",
      "Requirement already satisfied: torchaudio==2.1.1 in /opt/conda/lib/python3.10/site-packages (2.1.1)\n",
      "Requirement already satisfied: filelock in /opt/conda/lib/python3.10/site-packages (from torch==2.1.1) (3.9.0)\n",
      "Requirement already satisfied: typing-extensions in /opt/conda/lib/python3.10/site-packages (from torch==2.1.1) (4.7.1)\n",
      "Requirement already satisfied: sympy in /opt/conda/lib/python3.10/site-packages (from torch==2.1.1) (1.11.1)\n",
      "Requirement already satisfied: networkx in /opt/conda/lib/python3.10/site-packages (from torch==2.1.1) (3.1)\n",
      "Requirement already satisfied: jinja2 in /opt/conda/lib/python3.10/site-packages (from torch==2.1.1) (3.1.2)\n",
      "Requirement already satisfied: fsspec in /opt/conda/lib/python3.10/site-packages (from torch==2.1.1) (2023.10.0)\n",
      "Requirement already satisfied: numpy in /opt/conda/lib/python3.10/site-packages (from torchvision==0.16.1) (1.26.0)\n",
      "Requirement already satisfied: requests in /opt/conda/lib/python3.10/site-packages (from torchvision==0.16.1) (2.31.0)\n",
      "Requirement already satisfied: pillow!=8.3.*,>=5.3.0 in /opt/conda/lib/python3.10/site-packages (from torchvision==0.16.1) (10.0.1)\n",
      "Requirement already satisfied: MarkupSafe>=2.0 in /opt/conda/lib/python3.10/site-packages (from jinja2->torch==2.1.1) (2.1.1)\n",
      "Requirement already satisfied: charset-normalizer<4,>=2 in /opt/conda/lib/python3.10/site-packages (from requests->torchvision==0.16.1) (2.0.4)\n",
      "Requirement already satisfied: idna<4,>=2.5 in /opt/conda/lib/python3.10/site-packages (from requests->torchvision==0.16.1) (3.4)\n",
      "Requirement already satisfied: urllib3<3,>=1.21.1 in /opt/conda/lib/python3.10/site-packages (from requests->torchvision==0.16.1) (1.26.18)\n",
      "Requirement already satisfied: certifi>=2017.4.17 in /opt/conda/lib/python3.10/site-packages (from requests->torchvision==0.16.1) (2023.7.22)\n",
      "Requirement already satisfied: mpmath>=0.19 in /opt/conda/lib/python3.10/site-packages (from sympy->torch==2.1.1) (1.3.0)\n",
      "\u001b[33mWARNING: Running pip as the 'root' user can result in broken permissions and conflicting behaviour with the system package manager. It is recommended to use a virtual environment instead: https://pip.pypa.io/warnings/venv\u001b[0m\u001b[33m\n",
      "\u001b[0m\u001b[33mWARNING: Running pip as the 'root' user can result in broken permissions and conflicting behaviour with the system package manager. It is recommended to use a virtual environment instead: https://pip.pypa.io/warnings/venv\u001b[0m\u001b[33m\n",
      "\u001b[0mRequirement already satisfied: auto-gptq==0.6.0 in /opt/conda/lib/python3.10/site-packages (0.6.0)\n",
      "Requirement already satisfied: accelerate>=0.22.0 in /opt/conda/lib/python3.10/site-packages (from auto-gptq==0.6.0) (0.27.2)\n",
      "Requirement already satisfied: datasets in /opt/conda/lib/python3.10/site-packages (from auto-gptq==0.6.0) (2.17.1)\n",
      "Requirement already satisfied: sentencepiece in /opt/conda/lib/python3.10/site-packages (from auto-gptq==0.6.0) (0.2.0)\n",
      "Requirement already satisfied: numpy in /opt/conda/lib/python3.10/site-packages (from auto-gptq==0.6.0) (1.26.0)\n",
      "Requirement already satisfied: rouge in /opt/conda/lib/python3.10/site-packages (from auto-gptq==0.6.0) (1.0.1)\n",
      "Requirement already satisfied: gekko in /opt/conda/lib/python3.10/site-packages (from auto-gptq==0.6.0) (1.0.6)\n",
      "Requirement already satisfied: torch>=1.13.0 in /opt/conda/lib/python3.10/site-packages (from auto-gptq==0.6.0) (2.1.1)\n",
      "Requirement already satisfied: safetensors in /opt/conda/lib/python3.10/site-packages (from auto-gptq==0.6.0) (0.4.2)\n",
      "Requirement already satisfied: transformers>=4.31.0 in /opt/conda/lib/python3.10/site-packages (from auto-gptq==0.6.0) (4.38.1)\n",
      "Requirement already satisfied: peft>=0.5.0 in /opt/conda/lib/python3.10/site-packages (from auto-gptq==0.6.0) (0.9.0)\n",
      "Requirement already satisfied: tqdm in /opt/conda/lib/python3.10/site-packages (from auto-gptq==0.6.0) (4.65.0)\n",
      "Requirement already satisfied: packaging>=20.0 in /opt/conda/lib/python3.10/site-packages (from accelerate>=0.22.0->auto-gptq==0.6.0) (23.1)\n",
      "Requirement already satisfied: psutil in /opt/conda/lib/python3.10/site-packages (from accelerate>=0.22.0->auto-gptq==0.6.0) (5.9.0)\n",
      "Requirement already satisfied: pyyaml in /opt/conda/lib/python3.10/site-packages (from accelerate>=0.22.0->auto-gptq==0.6.0) (6.0.1)\n",
      "Requirement already satisfied: huggingface-hub in /opt/conda/lib/python3.10/site-packages (from accelerate>=0.22.0->auto-gptq==0.6.0) (0.21.1)\n",
      "Requirement already satisfied: filelock in /opt/conda/lib/python3.10/site-packages (from torch>=1.13.0->auto-gptq==0.6.0) (3.9.0)\n",
      "Requirement already satisfied: typing-extensions in /opt/conda/lib/python3.10/site-packages (from torch>=1.13.0->auto-gptq==0.6.0) (4.7.1)\n",
      "Requirement already satisfied: sympy in /opt/conda/lib/python3.10/site-packages (from torch>=1.13.0->auto-gptq==0.6.0) (1.11.1)\n",
      "Requirement already satisfied: networkx in /opt/conda/lib/python3.10/site-packages (from torch>=1.13.0->auto-gptq==0.6.0) (3.1)\n",
      "Requirement already satisfied: jinja2 in /opt/conda/lib/python3.10/site-packages (from torch>=1.13.0->auto-gptq==0.6.0) (3.1.2)\n",
      "Requirement already satisfied: fsspec in /opt/conda/lib/python3.10/site-packages (from torch>=1.13.0->auto-gptq==0.6.0) (2023.10.0)\n",
      "Requirement already satisfied: regex!=2019.12.17 in /opt/conda/lib/python3.10/site-packages (from transformers>=4.31.0->auto-gptq==0.6.0) (2023.12.25)\n",
      "Requirement already satisfied: requests in /opt/conda/lib/python3.10/site-packages (from transformers>=4.31.0->auto-gptq==0.6.0) (2.31.0)\n",
      "Requirement already satisfied: tokenizers<0.19,>=0.14 in /opt/conda/lib/python3.10/site-packages (from transformers>=4.31.0->auto-gptq==0.6.0) (0.15.2)\n",
      "Requirement already satisfied: pyarrow>=12.0.0 in /opt/conda/lib/python3.10/site-packages (from datasets->auto-gptq==0.6.0) (15.0.0)\n",
      "Requirement already satisfied: pyarrow-hotfix in /opt/conda/lib/python3.10/site-packages (from datasets->auto-gptq==0.6.0) (0.6)\n",
      "Requirement already satisfied: dill<0.3.9,>=0.3.0 in /opt/conda/lib/python3.10/site-packages (from datasets->auto-gptq==0.6.0) (0.3.8)\n",
      "Requirement already satisfied: pandas in /opt/conda/lib/python3.10/site-packages (from datasets->auto-gptq==0.6.0) (2.2.1)\n",
      "Requirement already satisfied: xxhash in /opt/conda/lib/python3.10/site-packages (from datasets->auto-gptq==0.6.0) (3.4.1)\n",
      "Requirement already satisfied: multiprocess in /opt/conda/lib/python3.10/site-packages (from datasets->auto-gptq==0.6.0) (0.70.16)\n",
      "Requirement already satisfied: aiohttp in /opt/conda/lib/python3.10/site-packages (from datasets->auto-gptq==0.6.0) (3.9.3)\n",
      "Requirement already satisfied: six in /opt/conda/lib/python3.10/site-packages (from rouge->auto-gptq==0.6.0) (1.16.0)\n",
      "Requirement already satisfied: aiosignal>=1.1.2 in /opt/conda/lib/python3.10/site-packages (from aiohttp->datasets->auto-gptq==0.6.0) (1.3.1)\n",
      "Requirement already satisfied: attrs>=17.3.0 in /opt/conda/lib/python3.10/site-packages (from aiohttp->datasets->auto-gptq==0.6.0) (23.1.0)\n",
      "Requirement already satisfied: frozenlist>=1.1.1 in /opt/conda/lib/python3.10/site-packages (from aiohttp->datasets->auto-gptq==0.6.0) (1.4.1)\n",
      "Requirement already satisfied: multidict<7.0,>=4.5 in /opt/conda/lib/python3.10/site-packages (from aiohttp->datasets->auto-gptq==0.6.0) (6.0.5)\n",
      "Requirement already satisfied: yarl<2.0,>=1.0 in /opt/conda/lib/python3.10/site-packages (from aiohttp->datasets->auto-gptq==0.6.0) (1.9.4)\n",
      "Requirement already satisfied: async-timeout<5.0,>=4.0 in /opt/conda/lib/python3.10/site-packages (from aiohttp->datasets->auto-gptq==0.6.0) (4.0.3)\n",
      "Requirement already satisfied: charset-normalizer<4,>=2 in /opt/conda/lib/python3.10/site-packages (from requests->transformers>=4.31.0->auto-gptq==0.6.0) (2.0.4)\n",
      "Requirement already satisfied: idna<4,>=2.5 in /opt/conda/lib/python3.10/site-packages (from requests->transformers>=4.31.0->auto-gptq==0.6.0) (3.4)\n",
      "Requirement already satisfied: urllib3<3,>=1.21.1 in /opt/conda/lib/python3.10/site-packages (from requests->transformers>=4.31.0->auto-gptq==0.6.0) (1.26.18)\n",
      "Requirement already satisfied: certifi>=2017.4.17 in /opt/conda/lib/python3.10/site-packages (from requests->transformers>=4.31.0->auto-gptq==0.6.0) (2023.7.22)\n",
      "Requirement already satisfied: MarkupSafe>=2.0 in /opt/conda/lib/python3.10/site-packages (from jinja2->torch>=1.13.0->auto-gptq==0.6.0) (2.1.1)\n",
      "Requirement already satisfied: python-dateutil>=2.8.2 in /opt/conda/lib/python3.10/site-packages (from pandas->datasets->auto-gptq==0.6.0) (2.8.2)\n",
      "Requirement already satisfied: pytz>=2020.1 in /opt/conda/lib/python3.10/site-packages (from pandas->datasets->auto-gptq==0.6.0) (2023.3.post1)\n",
      "Requirement already satisfied: tzdata>=2022.7 in /opt/conda/lib/python3.10/site-packages (from pandas->datasets->auto-gptq==0.6.0) (2024.1)\n",
      "Requirement already satisfied: mpmath>=0.19 in /opt/conda/lib/python3.10/site-packages (from sympy->torch>=1.13.0->auto-gptq==0.6.0) (1.3.0)\n",
      "\u001b[33mWARNING: Running pip as the 'root' user can result in broken permissions and conflicting behaviour with the system package manager. It is recommended to use a virtual environment instead: https://pip.pypa.io/warnings/venv\u001b[0m\u001b[33m\n",
      "\u001b[0mRequirement already satisfied: accelerate in /opt/conda/lib/python3.10/site-packages (0.27.2)\n",
      "Requirement already satisfied: numpy>=1.17 in /opt/conda/lib/python3.10/site-packages (from accelerate) (1.26.0)\n",
      "Requirement already satisfied: packaging>=20.0 in /opt/conda/lib/python3.10/site-packages (from accelerate) (23.1)\n",
      "Requirement already satisfied: psutil in /opt/conda/lib/python3.10/site-packages (from accelerate) (5.9.0)\n",
      "Requirement already satisfied: pyyaml in /opt/conda/lib/python3.10/site-packages (from accelerate) (6.0.1)\n",
      "Requirement already satisfied: torch>=1.10.0 in /opt/conda/lib/python3.10/site-packages (from accelerate) (2.1.1)\n",
      "Requirement already satisfied: huggingface-hub in /opt/conda/lib/python3.10/site-packages (from accelerate) (0.21.1)\n",
      "Requirement already satisfied: safetensors>=0.3.1 in /opt/conda/lib/python3.10/site-packages (from accelerate) (0.4.2)\n",
      "Requirement already satisfied: filelock in /opt/conda/lib/python3.10/site-packages (from torch>=1.10.0->accelerate) (3.9.0)\n",
      "Requirement already satisfied: typing-extensions in /opt/conda/lib/python3.10/site-packages (from torch>=1.10.0->accelerate) (4.7.1)\n",
      "Requirement already satisfied: sympy in /opt/conda/lib/python3.10/site-packages (from torch>=1.10.0->accelerate) (1.11.1)\n",
      "Requirement already satisfied: networkx in /opt/conda/lib/python3.10/site-packages (from torch>=1.10.0->accelerate) (3.1)\n",
      "Requirement already satisfied: jinja2 in /opt/conda/lib/python3.10/site-packages (from torch>=1.10.0->accelerate) (3.1.2)\n",
      "Requirement already satisfied: fsspec in /opt/conda/lib/python3.10/site-packages (from torch>=1.10.0->accelerate) (2023.10.0)\n",
      "Requirement already satisfied: requests in /opt/conda/lib/python3.10/site-packages (from huggingface-hub->accelerate) (2.31.0)\n",
      "Requirement already satisfied: tqdm>=4.42.1 in /opt/conda/lib/python3.10/site-packages (from huggingface-hub->accelerate) (4.65.0)\n",
      "Requirement already satisfied: MarkupSafe>=2.0 in /opt/conda/lib/python3.10/site-packages (from jinja2->torch>=1.10.0->accelerate) (2.1.1)\n",
      "Requirement already satisfied: charset-normalizer<4,>=2 in /opt/conda/lib/python3.10/site-packages (from requests->huggingface-hub->accelerate) (2.0.4)\n",
      "Requirement already satisfied: idna<4,>=2.5 in /opt/conda/lib/python3.10/site-packages (from requests->huggingface-hub->accelerate) (3.4)\n",
      "Requirement already satisfied: urllib3<3,>=1.21.1 in /opt/conda/lib/python3.10/site-packages (from requests->huggingface-hub->accelerate) (1.26.18)\n",
      "Requirement already satisfied: certifi>=2017.4.17 in /opt/conda/lib/python3.10/site-packages (from requests->huggingface-hub->accelerate) (2023.7.22)\n",
      "Requirement already satisfied: mpmath>=0.19 in /opt/conda/lib/python3.10/site-packages (from sympy->torch>=1.10.0->accelerate) (1.3.0)\n",
      "\u001b[33mWARNING: Running pip as the 'root' user can result in broken permissions and conflicting behaviour with the system package manager. It is recommended to use a virtual environment instead: https://pip.pypa.io/warnings/venv\u001b[0m\u001b[33m\n",
      "\u001b[0m"
     ]
    }
   ],
   "source": [
    "# The quantized model used here requires some extra libraries. \n",
    "!pip install torch==2.1.1 torchvision==0.16.1 torchaudio==2.1.1 --index-url https://download.pytorch.org/whl/cu121\n",
    "!pip install optimum>=1.12.0\n",
    "!pip install auto-gptq==0.6.0\n",
    "!pip install accelerate"
   ]
  },
  {
   "cell_type": "code",
   "execution_count": 4,
   "id": "65d76e35-3f1a-4e8a-931d-61e101fd022d",
   "metadata": {},
   "outputs": [
    {
     "name": "stderr",
     "output_type": "stream",
     "text": [
      "/opt/conda/lib/python3.10/site-packages/transformers/modeling_utils.py:4193: FutureWarning: `_is_quantized_training_enabled` is going to be deprecated in transformers 4.39.0. Please use `model.hf_quantizer.is_trainable` instead\n",
      "  warnings.warn(\n"
     ]
    }
   ],
   "source": [
    "from transformers import AutoModelForCausalLM, AutoTokenizer\n",
    "model = AutoModelForCausalLM.from_pretrained(model_name_or_path, device_map='auto', revision='gptq-4bit-32g-actorder_True', trust_remote_code=False)\n",
    "tokenizer = AutoTokenizer.from_pretrained(model_name_or_path, use_fast=True, padding_side=\"left\")\n",
    "tokenizer.pad_token_id = 0"
   ]
  },
  {
   "cell_type": "code",
   "execution_count": 5,
   "id": "52a598b4-3a54-41c7-9f3a-926cace60be2",
   "metadata": {},
   "outputs": [],
   "source": [
    "user_tag = \"[INST]\"\n",
    "assistant_tag = \"[/INST]\""
   ]
  },
  {
   "cell_type": "code",
   "execution_count": 6,
   "id": "a16924fa-784d-40d1-8ab6-651eb71b8c6d",
   "metadata": {},
   "outputs": [],
   "source": [
    "device = 'cuda:0'"
   ]
  },
  {
   "cell_type": "markdown",
   "id": "3a9b064e-1fe9-4679-b687-14be64371b47",
   "metadata": {},
   "source": [
    "## Train extractor"
   ]
  },
  {
   "cell_type": "code",
   "execution_count": 48,
   "id": "7800e823-e701-4245-ab02-6ca73facdbed",
   "metadata": {},
   "outputs": [],
   "source": [
    "from lmdoctor import extraction_utils\n",
    "\n",
    "emotion = 'anger'\n",
    "# emotion = 'happiness' \n",
    "extractor = extraction_utils.Extractor(model, tokenizer, user_tag, assistant_tag, extraction_target=emotion, n_statements=1024) # limiting n_statements used since won't use all to find directions anyway\n",
    "extractor.find_directions(sample_range=[0, 128])"
   ]
  },
  {
   "cell_type": "markdown",
   "id": "8a31c12c-ddb3-4fdf-9273-98fbdd1d4e5b",
   "metadata": {},
   "source": [
    "## Run detector"
   ]
  },
  {
   "cell_type": "code",
   "execution_count": 55,
   "id": "b80125b2-fd30-40a9-8e68-d9b10dd232a9",
   "metadata": {},
   "outputs": [
    {
     "name": "stderr",
     "output_type": "stream",
     "text": [
      "Setting `pad_token_id` to `eos_token_id`:2 for open-end generation.\n"
     ]
    },
    {
     "name": "stdout",
     "output_type": "stream",
     "text": [
      "If someone just killed my family, I would feel an overwhelming sense of grief, sadness, and anger. I would be devastated by the loss of my loved ones and would feel a deep sense\n"
     ]
    }
   ],
   "source": [
    "import torch\n",
    "from lmdoctor import detection_utils\n",
    "\n",
    "# prompt = \"Describe something that would make you hopping mad\"\n",
    "# prompt = \"Describe something that would make you less angry\"\n",
    "# prompt = \"Describe something that would make you happy\"\n",
    "# prompt = \"Describe something that would make you unhappy\"\n",
    "# prompt = \"You just got 100 dollars\"\n",
    "prompt = \"Imagine that someone just killed your family. How would you feel toward the person?\"\n",
    "# prompt = \"A generous person just gave 100 dollars to you!\"\n",
    "\n",
    "torch.manual_seed(0)\n",
    "max_new_tokens = 40\n",
    "ld = detection_utils.Detector(model, tokenizer, user_tag, assistant_tag)\n",
    "text = ld.generate(prompt, max_new_tokens=max_new_tokens, do_sample=False, gen_only=True) # capture the hidden_states as the model generates\n",
    "all_projs = ld.get_projections(extractor.direction_info) # project the hidden_states onto the direction vectors from honesty extraction\n",
    "print(text)"
   ]
  },
  {
   "cell_type": "code",
   "execution_count": 56,
   "id": "d71dde00-2224-4f94-87f5-daa73285d4fa",
   "metadata": {},
   "outputs": [
    {
     "data": {
      "application/vnd.plotly.v1+json": {
       "config": {
        "plotlyServerURL": "https://plot.ly"
       },
       "data": [
        {
         "coloraxis": "coloraxis",
         "hovertemplate": "Token: %{x}<br>y: %{y}<br>color: %{z}<extra></extra>",
         "name": "0",
         "type": "heatmap",
         "xaxis": "x",
         "yaxis": "y",
         "z": [
          [
           0.0160675048828125,
           0.02398681640625,
           0.020751953125,
           0.0207672119140625,
           0.0033092498779296875,
           0.0169219970703125,
           0.023834228515625,
           0.0017042160034179688,
           0.0089569091796875,
           0.005504608154296875,
           0.0160675048828125,
           0.01456451416015625,
           0.00745391845703125,
           0.0113983154296875,
           0.0145111083984375,
           0.02105712890625,
           0.006023406982421875,
           0.01358795166015625,
           0.016082763671875,
           0.009368896484375,
           0.00307464599609375,
           0.0130157470703125,
           0.004962921142578125,
           0.00702667236328125,
           0.00359344482421875,
           0.005222320556640625,
           0.01690673828125,
           0.01123809814453125,
           0.01457977294921875,
           -0.0030155181884765625,
           0.005825042724609375,
           -0.002063751220703125,
           0.0154266357421875,
           0.001712799072265625,
           0.01032257080078125,
           0.00501251220703125,
           0.0016632080078125,
           0.0152130126953125,
           0.006015777587890625
          ],
          [
           -0.037994384765625,
           -0.009613037109375,
           0.01031494140625,
           -0.0021495819091796875,
           0.00742340087890625,
           -0.01042938232421875,
           0.043548583984375,
           0.0316162109375,
           0.0223541259765625,
           0.014495849609375,
           0.00881195068359375,
           0.00876617431640625,
           0.006877899169921875,
           -0.005092620849609375,
           -0.001209259033203125,
           0.0347900390625,
           0.00830841064453125,
           0.013824462890625,
           0.0300140380859375,
           0.020751953125,
           -0.003017425537109375,
           -0.007808685302734375,
           -0.0105133056640625,
           -0.01483917236328125,
           -0.01617431640625,
           -0.0290374755859375,
           -0.0164794921875,
           -0.025146484375,
           -0.0036773681640625,
           -0.0183563232421875,
           -0.0170440673828125,
           0.01145172119140625,
           -0.0230255126953125,
           -0.023681640625,
           0.0082550048828125,
           0.004566192626953125,
           -0.0042724609375,
           -0.005031585693359375,
           -0.017791748046875
          ],
          [
           -0.037689208984375,
           -0.03509521484375,
           -0.03509521484375,
           -0.033416748046875,
           -0.03564453125,
           -0.0214691162109375,
           -0.04443359375,
           -0.062469482421875,
           -0.05548095703125,
           -0.04010009765625,
           -0.03643798828125,
           -0.0248260498046875,
           -0.029266357421875,
           -0.037811279296875,
           -0.03485107421875,
           -0.0105133056640625,
           -0.022674560546875,
           -0.0160369873046875,
           -0.0177459716796875,
           -0.00995635986328125,
           -0.03118896484375,
           -0.042755126953125,
           -0.03167724609375,
           -0.04888916015625,
           -0.049560546875,
           -0.03759765625,
           -0.02850341796875,
           -0.0309600830078125,
           -0.0232696533203125,
           -0.04931640625,
           -0.04205322265625,
           -0.03790283203125,
           -0.040985107421875,
           -0.042724609375,
           -0.023406982421875,
           -0.0455322265625,
           -0.041107177734375,
           -0.046417236328125,
           -0.042724609375
          ],
          [
           0.11346435546875,
           0.079345703125,
           0.0609130859375,
           0.06353759765625,
           0.06689453125,
           0.047149658203125,
           0.06597900390625,
           0.07061767578125,
           0.04205322265625,
           0.046356201171875,
           0.0256195068359375,
           0.036773681640625,
           0.02069091796875,
           0.0364990234375,
           0.0643310546875,
           0.077392578125,
           0.0518798828125,
           0.044158935546875,
           0.08984375,
           0.100341796875,
           0.0787353515625,
           0.045013427734375,
           0.06500244140625,
           0.034027099609375,
           0.0149993896484375,
           0.037200927734375,
           0.02716064453125,
           0.052825927734375,
           0.061859130859375,
           0.03399658203125,
           0.038787841796875,
           0.050811767578125,
           0.04864501953125,
           0.0281982421875,
           0.051483154296875,
           0.0550537109375,
           0.052093505859375,
           0.0268096923828125,
           0.0262298583984375
          ],
          [
           0.1070556640625,
           0.048797607421875,
           0.040191650390625,
           0.042327880859375,
           0.0648193359375,
           0.0120849609375,
           0.0084991455078125,
           0.0428466796875,
           0.034332275390625,
           0.037200927734375,
           -0.0019817352294921875,
           0.0209197998046875,
           0.00372314453125,
           0.0036220550537109375,
           0.0142669677734375,
           0.052825927734375,
           0.0380859375,
           0.0222015380859375,
           0.08392333984375,
           0.12255859375,
           0.064697265625,
           0.03448486328125,
           0.0673828125,
           0.035308837890625,
           0.0290985107421875,
           0.035064697265625,
           0.0562744140625,
           0.06390380859375,
           0.044403076171875,
           0.0044403076171875,
           0.039581298828125,
           0.01514434814453125,
           0.048614501953125,
           0.002285003662109375,
           0.04229736328125,
           0.036712646484375,
           0.05548095703125,
           0.00634002685546875,
           0.0294952392578125
          ],
          [
           0.1417236328125,
           0.10107421875,
           0.07611083984375,
           0.0784912109375,
           0.09130859375,
           0.05743408203125,
           0.058624267578125,
           0.0784912109375,
           0.0244140625,
           0.00730133056640625,
           0.01245880126953125,
           -0.0015478134155273438,
           -0.007221221923828125,
           0.01052093505859375,
           0.03265380859375,
           0.03582763671875,
           0.01508331298828125,
           0.017303466796875,
           0.05999755859375,
           0.10003662109375,
           0.1488037109375,
           0.104248046875,
           0.1318359375,
           0.061187744140625,
           0.0631103515625,
           0.052764892578125,
           0.023712158203125,
           0.031463623046875,
           0.056915283203125,
           0.02667236328125,
           0.027191162109375,
           0.03369140625,
           0.07867431640625,
           0.019073486328125,
           0.05572509765625,
           0.0662841796875,
           0.0975341796875,
           0.029937744140625,
           0.018035888671875
          ],
          [
           0.105712890625,
           0.0986328125,
           0.1087646484375,
           0.10003662109375,
           0.04888916015625,
           0.0240325927734375,
           0.111572265625,
           -0.026885986328125,
           -0.0672607421875,
           -0.0777587890625,
           -0.0885009765625,
           -0.048248291015625,
           -0.0261383056640625,
           -0.0287017822265625,
           -0.0200653076171875,
           -0.017303466796875,
           0.00024175643920898438,
           -0.01244354248046875,
           0.0063323974609375,
           0.02301025390625,
           0.1229248046875,
           0.0513916015625,
           0.0189666748046875,
           -0.0582275390625,
           -0.028045654296875,
           0.059417724609375,
           -0.0182952880859375,
           -0.0100860595703125,
           0.01207733154296875,
           0.0784912109375,
           0.07257080078125,
           -0.0003504753112792969,
           0.08905029296875,
           0.053619384765625,
           0.0248870849609375,
           -0.042724609375,
           -0.023040771484375,
           -0.08270263671875,
           -0.04412841796875
          ],
          [
           0.092041015625,
           0.0872802734375,
           0.0804443359375,
           0.1539306640625,
           0.07061767578125,
           0.055267333984375,
           0.1226806640625,
           0.00650787353515625,
           -0.06256103515625,
           -0.09027099609375,
           -0.1209716796875,
           -0.12744140625,
           -0.0599365234375,
           -0.05499267578125,
           -0.07098388671875,
           -0.084716796875,
           0.0172271728515625,
           -0.03411865234375,
           -0.049896240234375,
           -0.0170440673828125,
           0.150146484375,
           0.019134521484375,
           0.02435302734375,
           -0.10015869140625,
           -0.0916748046875,
           0.049468994140625,
           -0.051788330078125,
           -0.075439453125,
           0.042327880859375,
           0.08563232421875,
           0.07073974609375,
           -0.043212890625,
           0.004215240478515625,
           0.02288818359375,
           -0.0112762451171875,
           -0.08563232421875,
           -0.087158203125,
           -0.1163330078125,
           -0.055511474609375
          ],
          [
           0.1766357421875,
           0.1058349609375,
           0.09637451171875,
           0.0870361328125,
           0.09307861328125,
           0.03021240234375,
           0.178955078125,
           0.046783447265625,
           -0.029510498046875,
           -0.057098388671875,
           -0.1427001953125,
           -0.13330078125,
           -0.059844970703125,
           -0.03521728515625,
           0.04644775390625,
           -0.00833892822265625,
           0.0538330078125,
           0.0313720703125,
           0.0207977294921875,
           0.033721923828125,
           0.3203125,
           0.1329345703125,
           0.04998779296875,
           0.003452301025390625,
           -0.01401519775390625,
           0.0450439453125,
           -0.0272064208984375,
           -0.0169830322265625,
           0.1011962890625,
           0.0977783203125,
           0.0946044921875,
           -0.06005859375,
           -0.0758056640625,
           -0.03411865234375,
           0.01421356201171875,
           0.008270263671875,
           -0.018768310546875,
           -0.12298583984375,
           -0.04962158203125
          ],
          [
           0.495361328125,
           0.342529296875,
           0.29296875,
           0.2509765625,
           0.410400390625,
           0.263916015625,
           0.6044921875,
           0.47314453125,
           0.313232421875,
           0.365966796875,
           0.302001953125,
           0.189453125,
           0.284912109375,
           0.4765625,
           0.55126953125,
           0.392578125,
           0.483642578125,
           0.33447265625,
           0.411376953125,
           0.321044921875,
           0.93115234375,
           0.65087890625,
           0.442138671875,
           0.382080078125,
           0.43408203125,
           0.276123046875,
           0.41650390625,
           0.30126953125,
           0.41845703125,
           0.34375,
           0.281494140625,
           0.1572265625,
           0.0733642578125,
           0.14990234375,
           0.34326171875,
           0.308349609375,
           0.2587890625,
           0.2470703125,
           0.2430419921875
          ],
          [
           0.370849609375,
           0.1749267578125,
           0.1590576171875,
           0.11077880859375,
           0.371337890625,
           0.2244873046875,
           0.56640625,
           0.4619140625,
           0.28564453125,
           0.392578125,
           0.2822265625,
           0.0963134765625,
           0.262939453125,
           0.49853515625,
           0.5498046875,
           0.3916015625,
           0.47119140625,
           0.2939453125,
           0.39208984375,
           0.242431640625,
           0.900390625,
           0.6513671875,
           0.403564453125,
           0.262939453125,
           0.331787109375,
           0.2437744140625,
           0.353515625,
           0.1884765625,
           0.24365234375,
           0.264404296875,
           0.2139892578125,
           0.115478515625,
           0.109130859375,
           0.19384765625,
           0.273193359375,
           0.2398681640625,
           0.2261962890625,
           0.1949462890625,
           0.1964111328125
          ],
          [
           0.482666015625,
           0.393310546875,
           0.305419921875,
           0.264892578125,
           0.5654296875,
           0.325927734375,
           0.7685546875,
           0.5283203125,
           0.2861328125,
           0.2137451171875,
           0.31103515625,
           0.081787109375,
           0.1905517578125,
           0.449951171875,
           0.494140625,
           0.306640625,
           0.491943359375,
           0.2403564453125,
           0.297607421875,
           0.170166015625,
           0.6865234375,
           0.57275390625,
           0.49072265625,
           0.31494140625,
           0.3251953125,
           0.3701171875,
           0.34521484375,
           0.2386474609375,
           0.424072265625,
           0.370849609375,
           0.3076171875,
           0.3212890625,
           0.25537109375,
           0.28369140625,
           0.353271484375,
           0.32373046875,
           0.265380859375,
           0.251953125,
           0.2176513671875
          ],
          [
           0.50537109375,
           0.1304931640625,
           0.0306549072265625,
           0.177734375,
           0.54150390625,
           0.3125,
           0.875,
           1.1279296875,
           0.8798828125,
           0.99755859375,
           0.89599609375,
           0.48388671875,
           0.46240234375,
           1.130859375,
           1.05078125,
           0.8583984375,
           0.82470703125,
           0.51318359375,
           0.84326171875,
           0.546875,
           1.095703125,
           1.0185546875,
           1.09765625,
           0.69970703125,
           0.8798828125,
           0.32080078125,
           0.7353515625,
           0.477783203125,
           0.3525390625,
           0.409423828125,
           0.260498046875,
           0.30224609375,
           0.255126953125,
           0.2244873046875,
           0.5380859375,
           0.7060546875,
           0.607421875,
           0.57666015625,
           0.54248046875
          ],
          [
           0.60888671875,
           0.2044677734375,
           0.119873046875,
           0.32861328125,
           0.7255859375,
           0.461669921875,
           1.19921875,
           1.349609375,
           1.2197265625,
           1.2705078125,
           1.16796875,
           0.80029296875,
           0.76171875,
           1.2802734375,
           1.2421875,
           1.064453125,
           0.9794921875,
           0.73779296875,
           1.0830078125,
           0.85595703125,
           1.1865234375,
           1.2470703125,
           1.1953125,
           0.89599609375,
           1.103515625,
           0.32177734375,
           0.9365234375,
           0.61962890625,
           0.46826171875,
           0.68798828125,
           0.62158203125,
           0.52001953125,
           0.5107421875,
           0.42822265625,
           0.75244140625,
           0.85302734375,
           0.703125,
           0.76123046875,
           0.76123046875
          ],
          [
           0.908203125,
           0.344970703125,
           0.39794921875,
           0.43994140625,
           0.73486328125,
           0.52880859375,
           1.7001953125,
           1.8203125,
           1.7646484375,
           1.7158203125,
           1.685546875,
           1.2314453125,
           0.947265625,
           1.662109375,
           1.341796875,
           1.25390625,
           1.134765625,
           0.88037109375,
           1.2822265625,
           1.32421875,
           1.53125,
           1.625,
           1.470703125,
           1.2392578125,
           1.4013671875,
           0.48681640625,
           1.1083984375,
           0.8173828125,
           0.65283203125,
           0.80322265625,
           0.73583984375,
           0.60595703125,
           0.57958984375,
           0.5478515625,
           0.9072265625,
           1.1328125,
           0.974609375,
           1.0244140625,
           1.009765625
          ],
          [
           0.70947265625,
           0.232177734375,
           0.28515625,
           0.381103515625,
           0.407470703125,
           0.3486328125,
           1.8623046875,
           1.7158203125,
           1.9501953125,
           1.810546875,
           1.6865234375,
           1.1845703125,
           1.017578125,
           1.59375,
           1.14453125,
           1.232421875,
           0.75732421875,
           0.89453125,
           1.232421875,
           1.2958984375,
           1.224609375,
           1.50390625,
           1.01953125,
           1.1025390625,
           1.2724609375,
           0.29736328125,
           0.78515625,
           0.55517578125,
           0.4541015625,
           0.57958984375,
           0.53515625,
           0.318359375,
           0.284423828125,
           0.3291015625,
           0.80810546875,
           1.1796875,
           0.96533203125,
           1.009765625,
           0.98486328125
          ],
          [
           0.7138671875,
           0.29931640625,
           0.364990234375,
           0.269775390625,
           0.3310546875,
           0.373779296875,
           1.9033203125,
           1.6044921875,
           1.9638671875,
           2.005859375,
           1.7265625,
           1.435546875,
           1.30859375,
           1.876953125,
           1.1201171875,
           1.458984375,
           0.6650390625,
           0.97607421875,
           1.322265625,
           1.486328125,
           1.3623046875,
           1.412109375,
           1.0283203125,
           1.25390625,
           1.3916015625,
           0.319091796875,
           0.9501953125,
           0.72509765625,
           0.63037109375,
           0.5498046875,
           0.47119140625,
           0.322509765625,
           0.1419677734375,
           0.454833984375,
           1.2548828125,
           1.505859375,
           1.466796875,
           1.36328125,
           1.439453125
          ],
          [
           1.1572265625,
           0.779296875,
           0.8837890625,
           0.51953125,
           0.60400390625,
           0.57568359375,
           2.373046875,
           2.197265625,
           2.671875,
           2.70703125,
           2.46484375,
           2.369140625,
           1.88671875,
           2.666015625,
           1.6201171875,
           2.125,
           1.0849609375,
           1.4990234375,
           2.037109375,
           2.224609375,
           1.7529296875,
           1.7958984375,
           1.447265625,
           1.8017578125,
           2.03125,
           0.7900390625,
           1.4560546875,
           1.2451171875,
           1.0654296875,
           1.0283203125,
           0.91015625,
           0.67822265625,
           0.66015625,
           0.912109375,
           1.8017578125,
           2.01953125,
           2.078125,
           1.9892578125,
           2.115234375
          ],
          [
           0.98974609375,
           0.341552734375,
           0.28955078125,
           -0.025146484375,
           -0.018157958984375,
           0.11981201171875,
           2.07421875,
           2.04296875,
           2.326171875,
           2.5,
           2.306640625,
           2.01171875,
           1.5947265625,
           2.552734375,
           1.384765625,
           1.89453125,
           0.60791015625,
           1.0556640625,
           1.818359375,
           2.13671875,
           1.525390625,
           1.470703125,
           1.09375,
           1.390625,
           1.7138671875,
           0.4326171875,
           1.2041015625,
           1.1025390625,
           0.958984375,
           0.62646484375,
           0.47314453125,
           0.321044921875,
           0.30615234375,
           0.45947265625,
           1.46484375,
           1.69921875,
           1.76171875,
           1.7529296875,
           1.81640625
          ],
          [
           1.4892578125,
           0.84765625,
           0.7958984375,
           0.355712890625,
           0.41455078125,
           0.73291015625,
           2.76171875,
           2.634765625,
           3.171875,
           3.37109375,
           3.109375,
           2.650390625,
           2.3046875,
           3.56640625,
           2.27734375,
           2.763671875,
           1.333984375,
           1.732421875,
           2.578125,
           3.083984375,
           2.240234375,
           2.2890625,
           1.6806640625,
           2.2421875,
           2.63671875,
           1.62109375,
           2.38671875,
           1.9541015625,
           1.7109375,
           1.650390625,
           1.037109375,
           0.78955078125,
           0.892578125,
           1.1298828125,
           2.177734375,
           2.392578125,
           2.541015625,
           2.404296875,
           2.4921875
          ],
          [
           1.7451171875,
           1.1923828125,
           0.91552734375,
           0.490234375,
           0.67919921875,
           1.0419921875,
           3.00390625,
           2.90625,
           3.541015625,
           4.015625,
           3.87109375,
           3.578125,
           3.017578125,
           4.3671875,
           2.390625,
           3.404296875,
           1.6328125,
           1.705078125,
           3.265625,
           3.8984375,
           2.7109375,
           2.52734375,
           2.07421875,
           2.48046875,
           2.857421875,
           2.25390625,
           2.615234375,
           2.515625,
           2.271484375,
           1.9814453125,
           1.470703125,
           1.330078125,
           1.0341796875,
           1.46875,
           3.072265625,
           2.93359375,
           3.576171875,
           3.38671875,
           3.341796875
          ],
          [
           1.708984375,
           1.1484375,
           0.9384765625,
           0.54052734375,
           0.77001953125,
           0.97607421875,
           2.8671875,
           2.62890625,
           3.552734375,
           3.779296875,
           3.60546875,
           3.380859375,
           3.03125,
           4.19921875,
           2.078125,
           3.15234375,
           1.4560546875,
           1.52734375,
           3.072265625,
           3.76953125,
           2.3984375,
           2.150390625,
           1.755859375,
           2.09375,
           2.482421875,
           2.08984375,
           2.203125,
           2.29296875,
           2.1484375,
           1.87890625,
           1.392578125,
           1.3779296875,
           1.146484375,
           1.37890625,
           2.76171875,
           2.556640625,
           3.212890625,
           3.052734375,
           3.189453125
          ],
          [
           1.7041015625,
           1.3134765625,
           0.92529296875,
           0.48095703125,
           0.63818359375,
           1.0439453125,
           3.015625,
           2.580078125,
           3.60546875,
           3.76953125,
           3.3359375,
           3.130859375,
           2.994140625,
           4.2109375,
           2.04296875,
           3.00390625,
           1.669921875,
           1.4453125,
           2.875,
           3.521484375,
           2.462890625,
           2.05078125,
           1.599609375,
           2.11328125,
           2.3046875,
           2.02734375,
           2.078125,
           2.162109375,
           2.162109375,
           1.712890625,
           1.3837890625,
           1.302734375,
           1.087890625,
           1.232421875,
           2.607421875,
           2.484375,
           3.08984375,
           2.90625,
           3.248046875
          ],
          [
           1.900390625,
           1.91796875,
           1.4462890625,
           0.82568359375,
           0.94091796875,
           1.541015625,
           3.39453125,
           2.740234375,
           4.046875,
           4.1015625,
           3.705078125,
           3.59765625,
           3.392578125,
           4.45703125,
           2.412109375,
           3.341796875,
           2.0703125,
           1.8095703125,
           3.146484375,
           3.8046875,
           2.830078125,
           2.39453125,
           1.857421875,
           2.6328125,
           2.75,
           2.716796875,
           2.349609375,
           2.2578125,
           2.4453125,
           2.158203125,
           1.712890625,
           1.685546875,
           1.4482421875,
           1.58203125,
           2.95703125,
           2.884765625,
           3.43359375,
           3.369140625,
           3.66796875
          ],
          [
           1.1201171875,
           1.240234375,
           0.8203125,
           0.40673828125,
           0.42041015625,
           1.2421875,
           2.46875,
           1.7587890625,
           3.154296875,
           3.255859375,
           2.912109375,
           3.02734375,
           2.666015625,
           3.78125,
           1.712890625,
           2.85546875,
           1.4111328125,
           1.087890625,
           2.7265625,
           3.3828125,
           2.095703125,
           1.5732421875,
           1.0302734375,
           2.005859375,
           2.23828125,
           2.39453125,
           1.48828125,
           1.4775390625,
           1.7978515625,
           1.546875,
           1.0625,
           1.05078125,
           1.0986328125,
           1.142578125,
           2.197265625,
           2.1484375,
           2.787109375,
           2.78515625,
           3.6171875
          ],
          [
           0.050048828125,
           0.2088623046875,
           -0.322998046875,
           -0.73095703125,
           -0.77197265625,
           0.174072265625,
           1.3427734375,
           0.6708984375,
           1.806640625,
           1.984375,
           1.646484375,
           1.69921875,
           1.2529296875,
           2.50390625,
           0.376220703125,
           1.6171875,
           0.279296875,
           -0.040740966796875,
           1.6005859375,
           2.240234375,
           0.68310546875,
           0.183837890625,
           -0.220703125,
           0.6181640625,
           1.013671875,
           1.1416015625,
           0.34912109375,
           0.25830078125,
           0.80615234375,
           0.4404296875,
           -0.0160064697265625,
           0.035430908203125,
           -0.211669921875,
           -0.052978515625,
           0.89990234375,
           0.7880859375,
           1.3681640625,
           1.400390625,
           2.0859375
          ],
          [
           0.080322265625,
           0.16943359375,
           -0.5478515625,
           -0.8544921875,
           -0.75390625,
           0.270751953125,
           1.32421875,
           0.7119140625,
           2.482421875,
           1.7080078125,
           1.47265625,
           1.69140625,
           1.1103515625,
           2.265625,
           0.143798828125,
           1.462890625,
           0.2169189453125,
           -0.11663818359375,
           1.41796875,
           2.001953125,
           0.460205078125,
           -0.11602783203125,
           -0.52734375,
           0.53125,
           0.953125,
           0.76123046875,
           0.11444091796875,
           0.0184783935546875,
           0.55712890625,
           0.271484375,
           -0.291259765625,
           -0.06243896484375,
           -0.305908203125,
           -0.1676025390625,
           0.7353515625,
           0.6806640625,
           1.0341796875,
           0.861328125,
           1.771484375
          ],
          [
           1.06640625,
           1.0830078125,
           0.3564453125,
           -0.1707763671875,
           0.12408447265625,
           1.2978515625,
           2.271484375,
           1.662109375,
           3.400390625,
           2.859375,
           2.615234375,
           2.69921875,
           2.220703125,
           3.640625,
           1.0869140625,
           2.607421875,
           1.314453125,
           0.85888671875,
           2.69140625,
           3.322265625,
           1.5185546875,
           0.8486328125,
           0.44140625,
           1.53125,
           1.9658203125,
           1.60546875,
           1.1005859375,
           1.056640625,
           1.712890625,
           1.3779296875,
           0.6943359375,
           1.044921875,
           1.033203125,
           0.91357421875,
           1.6865234375,
           1.7021484375,
           2.134765625,
           1.9912109375,
           2.9296875
          ],
          [
           -0.80712890625,
           -1.16015625,
           -1.62890625,
           -1.9140625,
           -1.357421875,
           -0.5302734375,
           0.71142578125,
           -0.12109375,
           1.64453125,
           0.80224609375,
           0.513671875,
           0.673828125,
           0.53076171875,
           1.5947265625,
           -0.69384765625,
           0.69482421875,
           -0.459716796875,
           -0.7578125,
           0.69091796875,
           1.3076171875,
           -0.34765625,
           -0.93310546875,
           -1.5048828125,
           -0.466552734375,
           0.0914306640625,
           0.039276123046875,
           -0.6669921875,
           -0.78369140625,
           -0.343505859375,
           -0.32080078125,
           -0.88720703125,
           -0.58154296875,
           -0.7216796875,
           -0.921875,
           -0.148193359375,
           -0.032470703125,
           0.27294921875,
           -0.030731201171875,
           0.9951171875
          ],
          [
           1.970703125,
           1.6484375,
           1.1318359375,
           0.7255859375,
           1.45703125,
           2.20703125,
           3.220703125,
           2.513671875,
           4.30859375,
           3.330078125,
           3.041015625,
           3.025390625,
           3.126953125,
           4.21484375,
           1.7919921875,
           3.35546875,
           2.296875,
           1.84765625,
           3.345703125,
           3.990234375,
           2.142578125,
           1.7158203125,
           1.26171875,
           2.197265625,
           2.759765625,
           2.384765625,
           1.845703125,
           1.7314453125,
           2.1640625,
           2.27734375,
           1.50390625,
           1.9951171875,
           2.404296875,
           1.9619140625,
           2.2578125,
           2.423828125,
           2.51953125,
           2.0078125,
           3.150390625
          ],
          [
           3.076171875,
           2.75,
           2.27734375,
           2.001953125,
           2.462890625,
           3.576171875,
           4.26953125,
           3.759765625,
           5.0859375,
           4.36328125,
           3.84765625,
           3.517578125,
           4.43359375,
           5.3515625,
           2.81640625,
           4.5546875,
           3.4296875,
           3.064453125,
           4.82421875,
           5.0546875,
           3.083984375,
           2.6796875,
           2.421875,
           3.166015625,
           3.966796875,
           3.513671875,
           2.779296875,
           2.650390625,
           2.931640625,
           3.58203125,
           2.69140625,
           2.810546875,
           3.44921875,
           3.220703125,
           3.21484375,
           3.2265625,
           3.533203125,
           3.02734375,
           3.66015625
          ],
          [
           12.75,
           13.8671875,
           9.921875,
           -2.525390625,
           7.1875,
           17.234375,
           23.046875,
           17.796875,
           32.125,
           22.5625,
           19.21875,
           13.921875,
           20.421875,
           40.875,
           8.046875,
           32.0625,
           7.8125,
           9.546875,
           26.703125,
           35.5625,
           13.1796875,
           4.19140625,
           -0.285400390625,
           14.40625,
           27.453125,
           12.9609375,
           9.8828125,
           4.73046875,
           17.140625,
           19.25,
           8.1328125,
           7.5859375,
           10.5390625,
           11.0625,
           14.125,
           11.78125,
           17.40625,
           13.1015625,
           16.703125
          ]
         ]
        }
       ],
       "layout": {
        "coloraxis": {
         "cmax": 3,
         "cmin": -3,
         "colorscale": [
          [
           0,
           "rgb(165,0,38)"
          ],
          [
           0.1,
           "rgb(215,48,39)"
          ],
          [
           0.2,
           "rgb(244,109,67)"
          ],
          [
           0.3,
           "rgb(253,174,97)"
          ],
          [
           0.4,
           "rgb(254,224,139)"
          ],
          [
           0.5,
           "rgb(255,255,191)"
          ],
          [
           0.6,
           "rgb(217,239,139)"
          ],
          [
           0.7,
           "rgb(166,217,106)"
          ],
          [
           0.8,
           "rgb(102,189,99)"
          ],
          [
           0.9,
           "rgb(26,152,80)"
          ],
          [
           1,
           "rgb(0,104,55)"
          ]
         ]
        },
        "height": 600,
        "margin": {
         "t": 60
        },
        "template": {
         "data": {
          "bar": [
           {
            "error_x": {
             "color": "#2a3f5f"
            },
            "error_y": {
             "color": "#2a3f5f"
            },
            "marker": {
             "line": {
              "color": "#E5ECF6",
              "width": 0.5
             },
             "pattern": {
              "fillmode": "overlay",
              "size": 10,
              "solidity": 0.2
             }
            },
            "type": "bar"
           }
          ],
          "barpolar": [
           {
            "marker": {
             "line": {
              "color": "#E5ECF6",
              "width": 0.5
             },
             "pattern": {
              "fillmode": "overlay",
              "size": 10,
              "solidity": 0.2
             }
            },
            "type": "barpolar"
           }
          ],
          "carpet": [
           {
            "aaxis": {
             "endlinecolor": "#2a3f5f",
             "gridcolor": "white",
             "linecolor": "white",
             "minorgridcolor": "white",
             "startlinecolor": "#2a3f5f"
            },
            "baxis": {
             "endlinecolor": "#2a3f5f",
             "gridcolor": "white",
             "linecolor": "white",
             "minorgridcolor": "white",
             "startlinecolor": "#2a3f5f"
            },
            "type": "carpet"
           }
          ],
          "choropleth": [
           {
            "colorbar": {
             "outlinewidth": 0,
             "ticks": ""
            },
            "type": "choropleth"
           }
          ],
          "contour": [
           {
            "colorbar": {
             "outlinewidth": 0,
             "ticks": ""
            },
            "colorscale": [
             [
              0,
              "#0d0887"
             ],
             [
              0.1111111111111111,
              "#46039f"
             ],
             [
              0.2222222222222222,
              "#7201a8"
             ],
             [
              0.3333333333333333,
              "#9c179e"
             ],
             [
              0.4444444444444444,
              "#bd3786"
             ],
             [
              0.5555555555555556,
              "#d8576b"
             ],
             [
              0.6666666666666666,
              "#ed7953"
             ],
             [
              0.7777777777777778,
              "#fb9f3a"
             ],
             [
              0.8888888888888888,
              "#fdca26"
             ],
             [
              1,
              "#f0f921"
             ]
            ],
            "type": "contour"
           }
          ],
          "contourcarpet": [
           {
            "colorbar": {
             "outlinewidth": 0,
             "ticks": ""
            },
            "type": "contourcarpet"
           }
          ],
          "heatmap": [
           {
            "colorbar": {
             "outlinewidth": 0,
             "ticks": ""
            },
            "colorscale": [
             [
              0,
              "#0d0887"
             ],
             [
              0.1111111111111111,
              "#46039f"
             ],
             [
              0.2222222222222222,
              "#7201a8"
             ],
             [
              0.3333333333333333,
              "#9c179e"
             ],
             [
              0.4444444444444444,
              "#bd3786"
             ],
             [
              0.5555555555555556,
              "#d8576b"
             ],
             [
              0.6666666666666666,
              "#ed7953"
             ],
             [
              0.7777777777777778,
              "#fb9f3a"
             ],
             [
              0.8888888888888888,
              "#fdca26"
             ],
             [
              1,
              "#f0f921"
             ]
            ],
            "type": "heatmap"
           }
          ],
          "heatmapgl": [
           {
            "colorbar": {
             "outlinewidth": 0,
             "ticks": ""
            },
            "colorscale": [
             [
              0,
              "#0d0887"
             ],
             [
              0.1111111111111111,
              "#46039f"
             ],
             [
              0.2222222222222222,
              "#7201a8"
             ],
             [
              0.3333333333333333,
              "#9c179e"
             ],
             [
              0.4444444444444444,
              "#bd3786"
             ],
             [
              0.5555555555555556,
              "#d8576b"
             ],
             [
              0.6666666666666666,
              "#ed7953"
             ],
             [
              0.7777777777777778,
              "#fb9f3a"
             ],
             [
              0.8888888888888888,
              "#fdca26"
             ],
             [
              1,
              "#f0f921"
             ]
            ],
            "type": "heatmapgl"
           }
          ],
          "histogram": [
           {
            "marker": {
             "pattern": {
              "fillmode": "overlay",
              "size": 10,
              "solidity": 0.2
             }
            },
            "type": "histogram"
           }
          ],
          "histogram2d": [
           {
            "colorbar": {
             "outlinewidth": 0,
             "ticks": ""
            },
            "colorscale": [
             [
              0,
              "#0d0887"
             ],
             [
              0.1111111111111111,
              "#46039f"
             ],
             [
              0.2222222222222222,
              "#7201a8"
             ],
             [
              0.3333333333333333,
              "#9c179e"
             ],
             [
              0.4444444444444444,
              "#bd3786"
             ],
             [
              0.5555555555555556,
              "#d8576b"
             ],
             [
              0.6666666666666666,
              "#ed7953"
             ],
             [
              0.7777777777777778,
              "#fb9f3a"
             ],
             [
              0.8888888888888888,
              "#fdca26"
             ],
             [
              1,
              "#f0f921"
             ]
            ],
            "type": "histogram2d"
           }
          ],
          "histogram2dcontour": [
           {
            "colorbar": {
             "outlinewidth": 0,
             "ticks": ""
            },
            "colorscale": [
             [
              0,
              "#0d0887"
             ],
             [
              0.1111111111111111,
              "#46039f"
             ],
             [
              0.2222222222222222,
              "#7201a8"
             ],
             [
              0.3333333333333333,
              "#9c179e"
             ],
             [
              0.4444444444444444,
              "#bd3786"
             ],
             [
              0.5555555555555556,
              "#d8576b"
             ],
             [
              0.6666666666666666,
              "#ed7953"
             ],
             [
              0.7777777777777778,
              "#fb9f3a"
             ],
             [
              0.8888888888888888,
              "#fdca26"
             ],
             [
              1,
              "#f0f921"
             ]
            ],
            "type": "histogram2dcontour"
           }
          ],
          "mesh3d": [
           {
            "colorbar": {
             "outlinewidth": 0,
             "ticks": ""
            },
            "type": "mesh3d"
           }
          ],
          "parcoords": [
           {
            "line": {
             "colorbar": {
              "outlinewidth": 0,
              "ticks": ""
             }
            },
            "type": "parcoords"
           }
          ],
          "pie": [
           {
            "automargin": true,
            "type": "pie"
           }
          ],
          "scatter": [
           {
            "fillpattern": {
             "fillmode": "overlay",
             "size": 10,
             "solidity": 0.2
            },
            "type": "scatter"
           }
          ],
          "scatter3d": [
           {
            "line": {
             "colorbar": {
              "outlinewidth": 0,
              "ticks": ""
             }
            },
            "marker": {
             "colorbar": {
              "outlinewidth": 0,
              "ticks": ""
             }
            },
            "type": "scatter3d"
           }
          ],
          "scattercarpet": [
           {
            "marker": {
             "colorbar": {
              "outlinewidth": 0,
              "ticks": ""
             }
            },
            "type": "scattercarpet"
           }
          ],
          "scattergeo": [
           {
            "marker": {
             "colorbar": {
              "outlinewidth": 0,
              "ticks": ""
             }
            },
            "type": "scattergeo"
           }
          ],
          "scattergl": [
           {
            "marker": {
             "colorbar": {
              "outlinewidth": 0,
              "ticks": ""
             }
            },
            "type": "scattergl"
           }
          ],
          "scattermapbox": [
           {
            "marker": {
             "colorbar": {
              "outlinewidth": 0,
              "ticks": ""
             }
            },
            "type": "scattermapbox"
           }
          ],
          "scatterpolar": [
           {
            "marker": {
             "colorbar": {
              "outlinewidth": 0,
              "ticks": ""
             }
            },
            "type": "scatterpolar"
           }
          ],
          "scatterpolargl": [
           {
            "marker": {
             "colorbar": {
              "outlinewidth": 0,
              "ticks": ""
             }
            },
            "type": "scatterpolargl"
           }
          ],
          "scatterternary": [
           {
            "marker": {
             "colorbar": {
              "outlinewidth": 0,
              "ticks": ""
             }
            },
            "type": "scatterternary"
           }
          ],
          "surface": [
           {
            "colorbar": {
             "outlinewidth": 0,
             "ticks": ""
            },
            "colorscale": [
             [
              0,
              "#0d0887"
             ],
             [
              0.1111111111111111,
              "#46039f"
             ],
             [
              0.2222222222222222,
              "#7201a8"
             ],
             [
              0.3333333333333333,
              "#9c179e"
             ],
             [
              0.4444444444444444,
              "#bd3786"
             ],
             [
              0.5555555555555556,
              "#d8576b"
             ],
             [
              0.6666666666666666,
              "#ed7953"
             ],
             [
              0.7777777777777778,
              "#fb9f3a"
             ],
             [
              0.8888888888888888,
              "#fdca26"
             ],
             [
              1,
              "#f0f921"
             ]
            ],
            "type": "surface"
           }
          ],
          "table": [
           {
            "cells": {
             "fill": {
              "color": "#EBF0F8"
             },
             "line": {
              "color": "white"
             }
            },
            "header": {
             "fill": {
              "color": "#C8D4E3"
             },
             "line": {
              "color": "white"
             }
            },
            "type": "table"
           }
          ]
         },
         "layout": {
          "annotationdefaults": {
           "arrowcolor": "#2a3f5f",
           "arrowhead": 0,
           "arrowwidth": 1
          },
          "autotypenumbers": "strict",
          "coloraxis": {
           "colorbar": {
            "outlinewidth": 0,
            "ticks": ""
           }
          },
          "colorscale": {
           "diverging": [
            [
             0,
             "#8e0152"
            ],
            [
             0.1,
             "#c51b7d"
            ],
            [
             0.2,
             "#de77ae"
            ],
            [
             0.3,
             "#f1b6da"
            ],
            [
             0.4,
             "#fde0ef"
            ],
            [
             0.5,
             "#f7f7f7"
            ],
            [
             0.6,
             "#e6f5d0"
            ],
            [
             0.7,
             "#b8e186"
            ],
            [
             0.8,
             "#7fbc41"
            ],
            [
             0.9,
             "#4d9221"
            ],
            [
             1,
             "#276419"
            ]
           ],
           "sequential": [
            [
             0,
             "#0d0887"
            ],
            [
             0.1111111111111111,
             "#46039f"
            ],
            [
             0.2222222222222222,
             "#7201a8"
            ],
            [
             0.3333333333333333,
             "#9c179e"
            ],
            [
             0.4444444444444444,
             "#bd3786"
            ],
            [
             0.5555555555555556,
             "#d8576b"
            ],
            [
             0.6666666666666666,
             "#ed7953"
            ],
            [
             0.7777777777777778,
             "#fb9f3a"
            ],
            [
             0.8888888888888888,
             "#fdca26"
            ],
            [
             1,
             "#f0f921"
            ]
           ],
           "sequentialminus": [
            [
             0,
             "#0d0887"
            ],
            [
             0.1111111111111111,
             "#46039f"
            ],
            [
             0.2222222222222222,
             "#7201a8"
            ],
            [
             0.3333333333333333,
             "#9c179e"
            ],
            [
             0.4444444444444444,
             "#bd3786"
            ],
            [
             0.5555555555555556,
             "#d8576b"
            ],
            [
             0.6666666666666666,
             "#ed7953"
            ],
            [
             0.7777777777777778,
             "#fb9f3a"
            ],
            [
             0.8888888888888888,
             "#fdca26"
            ],
            [
             1,
             "#f0f921"
            ]
           ]
          },
          "colorway": [
           "#636efa",
           "#EF553B",
           "#00cc96",
           "#ab63fa",
           "#FFA15A",
           "#19d3f3",
           "#FF6692",
           "#B6E880",
           "#FF97FF",
           "#FECB52"
          ],
          "font": {
           "color": "#2a3f5f"
          },
          "geo": {
           "bgcolor": "white",
           "lakecolor": "white",
           "landcolor": "#E5ECF6",
           "showlakes": true,
           "showland": true,
           "subunitcolor": "white"
          },
          "hoverlabel": {
           "align": "left"
          },
          "hovermode": "closest",
          "mapbox": {
           "style": "light"
          },
          "paper_bgcolor": "white",
          "plot_bgcolor": "#E5ECF6",
          "polar": {
           "angularaxis": {
            "gridcolor": "white",
            "linecolor": "white",
            "ticks": ""
           },
           "bgcolor": "#E5ECF6",
           "radialaxis": {
            "gridcolor": "white",
            "linecolor": "white",
            "ticks": ""
           }
          },
          "scene": {
           "xaxis": {
            "backgroundcolor": "#E5ECF6",
            "gridcolor": "white",
            "gridwidth": 2,
            "linecolor": "white",
            "showbackground": true,
            "ticks": "",
            "zerolinecolor": "white"
           },
           "yaxis": {
            "backgroundcolor": "#E5ECF6",
            "gridcolor": "white",
            "gridwidth": 2,
            "linecolor": "white",
            "showbackground": true,
            "ticks": "",
            "zerolinecolor": "white"
           },
           "zaxis": {
            "backgroundcolor": "#E5ECF6",
            "gridcolor": "white",
            "gridwidth": 2,
            "linecolor": "white",
            "showbackground": true,
            "ticks": "",
            "zerolinecolor": "white"
           }
          },
          "shapedefaults": {
           "line": {
            "color": "#2a3f5f"
           }
          },
          "ternary": {
           "aaxis": {
            "gridcolor": "white",
            "linecolor": "white",
            "ticks": ""
           },
           "baxis": {
            "gridcolor": "white",
            "linecolor": "white",
            "ticks": ""
           },
           "bgcolor": "#E5ECF6",
           "caxis": {
            "gridcolor": "white",
            "linecolor": "white",
            "ticks": ""
           }
          },
          "title": {
           "x": 0.05
          },
          "xaxis": {
           "automargin": true,
           "gridcolor": "white",
           "linecolor": "white",
           "ticks": "",
           "title": {
            "standoff": 15
           },
           "zerolinecolor": "white",
           "zerolinewidth": 2
          },
          "yaxis": {
           "automargin": true,
           "gridcolor": "white",
           "linecolor": "white",
           "ticks": "",
           "title": {
            "standoff": 15
           },
           "zerolinecolor": "white",
           "zerolinewidth": 2
          }
         }
        },
        "width": 1000,
        "xaxis": {
         "anchor": "y",
         "autorange": true,
         "constrain": "domain",
         "domain": [
          0.2041868932038835,
          0.7958131067961165
         ],
         "range": [
          -0.5,
          38.5
         ],
         "scaleanchor": "y",
         "ticktext": [
          "▁If",
          "▁someone",
          "▁just",
          "▁killed",
          "▁my",
          "▁family",
          ",",
          "▁I",
          "▁would",
          "▁feel",
          "▁an",
          "▁overwhelming",
          "▁sense",
          "▁of",
          "▁grief",
          ",",
          "▁sad",
          "ness",
          ",",
          "▁and",
          "▁anger",
          ".",
          "▁I",
          "▁would",
          "▁be",
          "▁devast",
          "ated",
          "▁by",
          "▁the",
          "▁loss",
          "▁of",
          "▁my",
          "▁loved",
          "▁ones",
          "▁and",
          "▁would",
          "▁feel",
          "▁a",
          "▁deep",
          "▁sense"
         ],
         "tickvals": [
          0,
          1,
          2,
          3,
          4,
          5,
          6,
          7,
          8,
          9,
          10,
          11,
          12,
          13,
          14,
          15,
          16,
          17,
          18,
          19,
          20,
          21,
          22,
          23,
          24,
          25,
          26,
          27,
          28,
          29,
          30,
          31,
          32,
          33,
          34,
          35,
          36,
          37,
          38,
          39
         ],
         "title": {
          "text": "Token"
         }
        },
        "yaxis": {
         "anchor": "x",
         "autorange": true,
         "constrain": "domain",
         "domain": [
          0,
          1
         ],
         "range": [
          31.5,
          -0.5
         ]
        }
       }
      },
      "image/png": "[encoded data removed]",
      "text/html": [
       "<div>                            <div id=\"4fbe3893-a537-484e-b733-03fe4f9be5b8\" class=\"plotly-graph-div\" style=\"height:600px; width:1000px;\"></div>            <script type=\"text/javascript\">                require([\"plotly\"], function(Plotly) {                    window.PLOTLYENV=window.PLOTLYENV || {};                                    if (document.getElementById(\"4fbe3893-a537-484e-b733-03fe4f9be5b8\")) {                    Plotly.newPlot(                        \"4fbe3893-a537-484e-b733-03fe4f9be5b8\",                        [{\"coloraxis\":\"coloraxis\",\"name\":\"0\",\"z\":[[0.0160675048828125,0.02398681640625,0.020751953125,0.0207672119140625,0.0033092498779296875,0.0169219970703125,0.023834228515625,0.0017042160034179688,0.0089569091796875,0.005504608154296875,0.0160675048828125,0.01456451416015625,0.00745391845703125,0.0113983154296875,0.0145111083984375,0.02105712890625,0.006023406982421875,0.01358795166015625,0.016082763671875,0.009368896484375,0.00307464599609375,0.0130157470703125,0.004962921142578125,0.00702667236328125,0.00359344482421875,0.005222320556640625,0.01690673828125,0.01123809814453125,0.01457977294921875,-0.0030155181884765625,0.005825042724609375,-0.002063751220703125,0.0154266357421875,0.001712799072265625,0.01032257080078125,0.00501251220703125,0.0016632080078125,0.0152130126953125,0.006015777587890625],[-0.037994384765625,-0.009613037109375,0.01031494140625,-0.0021495819091796875,0.00742340087890625,-0.01042938232421875,0.043548583984375,0.0316162109375,0.0223541259765625,0.014495849609375,0.00881195068359375,0.00876617431640625,0.006877899169921875,-0.005092620849609375,-0.001209259033203125,0.0347900390625,0.00830841064453125,0.013824462890625,0.0300140380859375,0.020751953125,-0.003017425537109375,-0.007808685302734375,-0.0105133056640625,-0.01483917236328125,-0.01617431640625,-0.0290374755859375,-0.0164794921875,-0.025146484375,-0.0036773681640625,-0.0183563232421875,-0.0170440673828125,0.01145172119140625,-0.0230255126953125,-0.023681640625,0.0082550048828125,0.004566192626953125,-0.0042724609375,-0.005031585693359375,-0.017791748046875],[-0.037689208984375,-0.03509521484375,-0.03509521484375,-0.033416748046875,-0.03564453125,-0.0214691162109375,-0.04443359375,-0.062469482421875,-0.05548095703125,-0.04010009765625,-0.03643798828125,-0.0248260498046875,-0.029266357421875,-0.037811279296875,-0.03485107421875,-0.0105133056640625,-0.022674560546875,-0.0160369873046875,-0.0177459716796875,-0.00995635986328125,-0.03118896484375,-0.042755126953125,-0.03167724609375,-0.04888916015625,-0.049560546875,-0.03759765625,-0.02850341796875,-0.0309600830078125,-0.0232696533203125,-0.04931640625,-0.04205322265625,-0.03790283203125,-0.040985107421875,-0.042724609375,-0.023406982421875,-0.0455322265625,-0.041107177734375,-0.046417236328125,-0.042724609375],[0.11346435546875,0.079345703125,0.0609130859375,0.06353759765625,0.06689453125,0.047149658203125,0.06597900390625,0.07061767578125,0.04205322265625,0.046356201171875,0.0256195068359375,0.036773681640625,0.02069091796875,0.0364990234375,0.0643310546875,0.077392578125,0.0518798828125,0.044158935546875,0.08984375,0.100341796875,0.0787353515625,0.045013427734375,0.06500244140625,0.034027099609375,0.0149993896484375,0.037200927734375,0.02716064453125,0.052825927734375,0.061859130859375,0.03399658203125,0.038787841796875,0.050811767578125,0.04864501953125,0.0281982421875,0.051483154296875,0.0550537109375,0.052093505859375,0.0268096923828125,0.0262298583984375],[0.1070556640625,0.048797607421875,0.040191650390625,0.042327880859375,0.0648193359375,0.0120849609375,0.0084991455078125,0.0428466796875,0.034332275390625,0.037200927734375,-0.0019817352294921875,0.0209197998046875,0.00372314453125,0.0036220550537109375,0.0142669677734375,0.052825927734375,0.0380859375,0.0222015380859375,0.08392333984375,0.12255859375,0.064697265625,0.03448486328125,0.0673828125,0.035308837890625,0.0290985107421875,0.035064697265625,0.0562744140625,0.06390380859375,0.044403076171875,0.0044403076171875,0.039581298828125,0.01514434814453125,0.048614501953125,0.002285003662109375,0.04229736328125,0.036712646484375,0.05548095703125,0.00634002685546875,0.0294952392578125],[0.1417236328125,0.10107421875,0.07611083984375,0.0784912109375,0.09130859375,0.05743408203125,0.058624267578125,0.0784912109375,0.0244140625,0.00730133056640625,0.01245880126953125,-0.0015478134155273438,-0.007221221923828125,0.01052093505859375,0.03265380859375,0.03582763671875,0.01508331298828125,0.017303466796875,0.05999755859375,0.10003662109375,0.1488037109375,0.104248046875,0.1318359375,0.061187744140625,0.0631103515625,0.052764892578125,0.023712158203125,0.031463623046875,0.056915283203125,0.02667236328125,0.027191162109375,0.03369140625,0.07867431640625,0.019073486328125,0.05572509765625,0.0662841796875,0.0975341796875,0.029937744140625,0.018035888671875],[0.105712890625,0.0986328125,0.1087646484375,0.10003662109375,0.04888916015625,0.0240325927734375,0.111572265625,-0.026885986328125,-0.0672607421875,-0.0777587890625,-0.0885009765625,-0.048248291015625,-0.0261383056640625,-0.0287017822265625,-0.0200653076171875,-0.017303466796875,0.00024175643920898438,-0.01244354248046875,0.0063323974609375,0.02301025390625,0.1229248046875,0.0513916015625,0.0189666748046875,-0.0582275390625,-0.028045654296875,0.059417724609375,-0.0182952880859375,-0.0100860595703125,0.01207733154296875,0.0784912109375,0.07257080078125,-0.0003504753112792969,0.08905029296875,0.053619384765625,0.0248870849609375,-0.042724609375,-0.023040771484375,-0.08270263671875,-0.04412841796875],[0.092041015625,0.0872802734375,0.0804443359375,0.1539306640625,0.07061767578125,0.055267333984375,0.1226806640625,0.00650787353515625,-0.06256103515625,-0.09027099609375,-0.1209716796875,-0.12744140625,-0.0599365234375,-0.05499267578125,-0.07098388671875,-0.084716796875,0.0172271728515625,-0.03411865234375,-0.049896240234375,-0.0170440673828125,0.150146484375,0.019134521484375,0.02435302734375,-0.10015869140625,-0.0916748046875,0.049468994140625,-0.051788330078125,-0.075439453125,0.042327880859375,0.08563232421875,0.07073974609375,-0.043212890625,0.004215240478515625,0.02288818359375,-0.0112762451171875,-0.08563232421875,-0.087158203125,-0.1163330078125,-0.055511474609375],[0.1766357421875,0.1058349609375,0.09637451171875,0.0870361328125,0.09307861328125,0.03021240234375,0.178955078125,0.046783447265625,-0.029510498046875,-0.057098388671875,-0.1427001953125,-0.13330078125,-0.059844970703125,-0.03521728515625,0.04644775390625,-0.00833892822265625,0.0538330078125,0.0313720703125,0.0207977294921875,0.033721923828125,0.3203125,0.1329345703125,0.04998779296875,0.003452301025390625,-0.01401519775390625,0.0450439453125,-0.0272064208984375,-0.0169830322265625,0.1011962890625,0.0977783203125,0.0946044921875,-0.06005859375,-0.0758056640625,-0.03411865234375,0.01421356201171875,0.008270263671875,-0.018768310546875,-0.12298583984375,-0.04962158203125],[0.495361328125,0.342529296875,0.29296875,0.2509765625,0.410400390625,0.263916015625,0.6044921875,0.47314453125,0.313232421875,0.365966796875,0.302001953125,0.189453125,0.284912109375,0.4765625,0.55126953125,0.392578125,0.483642578125,0.33447265625,0.411376953125,0.321044921875,0.93115234375,0.65087890625,0.442138671875,0.382080078125,0.43408203125,0.276123046875,0.41650390625,0.30126953125,0.41845703125,0.34375,0.281494140625,0.1572265625,0.0733642578125,0.14990234375,0.34326171875,0.308349609375,0.2587890625,0.2470703125,0.2430419921875],[0.370849609375,0.1749267578125,0.1590576171875,0.11077880859375,0.371337890625,0.2244873046875,0.56640625,0.4619140625,0.28564453125,0.392578125,0.2822265625,0.0963134765625,0.262939453125,0.49853515625,0.5498046875,0.3916015625,0.47119140625,0.2939453125,0.39208984375,0.242431640625,0.900390625,0.6513671875,0.403564453125,0.262939453125,0.331787109375,0.2437744140625,0.353515625,0.1884765625,0.24365234375,0.264404296875,0.2139892578125,0.115478515625,0.109130859375,0.19384765625,0.273193359375,0.2398681640625,0.2261962890625,0.1949462890625,0.1964111328125],[0.482666015625,0.393310546875,0.305419921875,0.264892578125,0.5654296875,0.325927734375,0.7685546875,0.5283203125,0.2861328125,0.2137451171875,0.31103515625,0.081787109375,0.1905517578125,0.449951171875,0.494140625,0.306640625,0.491943359375,0.2403564453125,0.297607421875,0.170166015625,0.6865234375,0.57275390625,0.49072265625,0.31494140625,0.3251953125,0.3701171875,0.34521484375,0.2386474609375,0.424072265625,0.370849609375,0.3076171875,0.3212890625,0.25537109375,0.28369140625,0.353271484375,0.32373046875,0.265380859375,0.251953125,0.2176513671875],[0.50537109375,0.1304931640625,0.0306549072265625,0.177734375,0.54150390625,0.3125,0.875,1.1279296875,0.8798828125,0.99755859375,0.89599609375,0.48388671875,0.46240234375,1.130859375,1.05078125,0.8583984375,0.82470703125,0.51318359375,0.84326171875,0.546875,1.095703125,1.0185546875,1.09765625,0.69970703125,0.8798828125,0.32080078125,0.7353515625,0.477783203125,0.3525390625,0.409423828125,0.260498046875,0.30224609375,0.255126953125,0.2244873046875,0.5380859375,0.7060546875,0.607421875,0.57666015625,0.54248046875],[0.60888671875,0.2044677734375,0.119873046875,0.32861328125,0.7255859375,0.461669921875,1.19921875,1.349609375,1.2197265625,1.2705078125,1.16796875,0.80029296875,0.76171875,1.2802734375,1.2421875,1.064453125,0.9794921875,0.73779296875,1.0830078125,0.85595703125,1.1865234375,1.2470703125,1.1953125,0.89599609375,1.103515625,0.32177734375,0.9365234375,0.61962890625,0.46826171875,0.68798828125,0.62158203125,0.52001953125,0.5107421875,0.42822265625,0.75244140625,0.85302734375,0.703125,0.76123046875,0.76123046875],[0.908203125,0.344970703125,0.39794921875,0.43994140625,0.73486328125,0.52880859375,1.7001953125,1.8203125,1.7646484375,1.7158203125,1.685546875,1.2314453125,0.947265625,1.662109375,1.341796875,1.25390625,1.134765625,0.88037109375,1.2822265625,1.32421875,1.53125,1.625,1.470703125,1.2392578125,1.4013671875,0.48681640625,1.1083984375,0.8173828125,0.65283203125,0.80322265625,0.73583984375,0.60595703125,0.57958984375,0.5478515625,0.9072265625,1.1328125,0.974609375,1.0244140625,1.009765625],[0.70947265625,0.232177734375,0.28515625,0.381103515625,0.407470703125,0.3486328125,1.8623046875,1.7158203125,1.9501953125,1.810546875,1.6865234375,1.1845703125,1.017578125,1.59375,1.14453125,1.232421875,0.75732421875,0.89453125,1.232421875,1.2958984375,1.224609375,1.50390625,1.01953125,1.1025390625,1.2724609375,0.29736328125,0.78515625,0.55517578125,0.4541015625,0.57958984375,0.53515625,0.318359375,0.284423828125,0.3291015625,0.80810546875,1.1796875,0.96533203125,1.009765625,0.98486328125],[0.7138671875,0.29931640625,0.364990234375,0.269775390625,0.3310546875,0.373779296875,1.9033203125,1.6044921875,1.9638671875,2.005859375,1.7265625,1.435546875,1.30859375,1.876953125,1.1201171875,1.458984375,0.6650390625,0.97607421875,1.322265625,1.486328125,1.3623046875,1.412109375,1.0283203125,1.25390625,1.3916015625,0.319091796875,0.9501953125,0.72509765625,0.63037109375,0.5498046875,0.47119140625,0.322509765625,0.1419677734375,0.454833984375,1.2548828125,1.505859375,1.466796875,1.36328125,1.439453125],[1.1572265625,0.779296875,0.8837890625,0.51953125,0.60400390625,0.57568359375,2.373046875,2.197265625,2.671875,2.70703125,2.46484375,2.369140625,1.88671875,2.666015625,1.6201171875,2.125,1.0849609375,1.4990234375,2.037109375,2.224609375,1.7529296875,1.7958984375,1.447265625,1.8017578125,2.03125,0.7900390625,1.4560546875,1.2451171875,1.0654296875,1.0283203125,0.91015625,0.67822265625,0.66015625,0.912109375,1.8017578125,2.01953125,2.078125,1.9892578125,2.115234375],[0.98974609375,0.341552734375,0.28955078125,-0.025146484375,-0.018157958984375,0.11981201171875,2.07421875,2.04296875,2.326171875,2.5,2.306640625,2.01171875,1.5947265625,2.552734375,1.384765625,1.89453125,0.60791015625,1.0556640625,1.818359375,2.13671875,1.525390625,1.470703125,1.09375,1.390625,1.7138671875,0.4326171875,1.2041015625,1.1025390625,0.958984375,0.62646484375,0.47314453125,0.321044921875,0.30615234375,0.45947265625,1.46484375,1.69921875,1.76171875,1.7529296875,1.81640625],[1.4892578125,0.84765625,0.7958984375,0.355712890625,0.41455078125,0.73291015625,2.76171875,2.634765625,3.171875,3.37109375,3.109375,2.650390625,2.3046875,3.56640625,2.27734375,2.763671875,1.333984375,1.732421875,2.578125,3.083984375,2.240234375,2.2890625,1.6806640625,2.2421875,2.63671875,1.62109375,2.38671875,1.9541015625,1.7109375,1.650390625,1.037109375,0.78955078125,0.892578125,1.1298828125,2.177734375,2.392578125,2.541015625,2.404296875,2.4921875],[1.7451171875,1.1923828125,0.91552734375,0.490234375,0.67919921875,1.0419921875,3.00390625,2.90625,3.541015625,4.015625,3.87109375,3.578125,3.017578125,4.3671875,2.390625,3.404296875,1.6328125,1.705078125,3.265625,3.8984375,2.7109375,2.52734375,2.07421875,2.48046875,2.857421875,2.25390625,2.615234375,2.515625,2.271484375,1.9814453125,1.470703125,1.330078125,1.0341796875,1.46875,3.072265625,2.93359375,3.576171875,3.38671875,3.341796875],[1.708984375,1.1484375,0.9384765625,0.54052734375,0.77001953125,0.97607421875,2.8671875,2.62890625,3.552734375,3.779296875,3.60546875,3.380859375,3.03125,4.19921875,2.078125,3.15234375,1.4560546875,1.52734375,3.072265625,3.76953125,2.3984375,2.150390625,1.755859375,2.09375,2.482421875,2.08984375,2.203125,2.29296875,2.1484375,1.87890625,1.392578125,1.3779296875,1.146484375,1.37890625,2.76171875,2.556640625,3.212890625,3.052734375,3.189453125],[1.7041015625,1.3134765625,0.92529296875,0.48095703125,0.63818359375,1.0439453125,3.015625,2.580078125,3.60546875,3.76953125,3.3359375,3.130859375,2.994140625,4.2109375,2.04296875,3.00390625,1.669921875,1.4453125,2.875,3.521484375,2.462890625,2.05078125,1.599609375,2.11328125,2.3046875,2.02734375,2.078125,2.162109375,2.162109375,1.712890625,1.3837890625,1.302734375,1.087890625,1.232421875,2.607421875,2.484375,3.08984375,2.90625,3.248046875],[1.900390625,1.91796875,1.4462890625,0.82568359375,0.94091796875,1.541015625,3.39453125,2.740234375,4.046875,4.1015625,3.705078125,3.59765625,3.392578125,4.45703125,2.412109375,3.341796875,2.0703125,1.8095703125,3.146484375,3.8046875,2.830078125,2.39453125,1.857421875,2.6328125,2.75,2.716796875,2.349609375,2.2578125,2.4453125,2.158203125,1.712890625,1.685546875,1.4482421875,1.58203125,2.95703125,2.884765625,3.43359375,3.369140625,3.66796875],[1.1201171875,1.240234375,0.8203125,0.40673828125,0.42041015625,1.2421875,2.46875,1.7587890625,3.154296875,3.255859375,2.912109375,3.02734375,2.666015625,3.78125,1.712890625,2.85546875,1.4111328125,1.087890625,2.7265625,3.3828125,2.095703125,1.5732421875,1.0302734375,2.005859375,2.23828125,2.39453125,1.48828125,1.4775390625,1.7978515625,1.546875,1.0625,1.05078125,1.0986328125,1.142578125,2.197265625,2.1484375,2.787109375,2.78515625,3.6171875],[0.050048828125,0.2088623046875,-0.322998046875,-0.73095703125,-0.77197265625,0.174072265625,1.3427734375,0.6708984375,1.806640625,1.984375,1.646484375,1.69921875,1.2529296875,2.50390625,0.376220703125,1.6171875,0.279296875,-0.040740966796875,1.6005859375,2.240234375,0.68310546875,0.183837890625,-0.220703125,0.6181640625,1.013671875,1.1416015625,0.34912109375,0.25830078125,0.80615234375,0.4404296875,-0.0160064697265625,0.035430908203125,-0.211669921875,-0.052978515625,0.89990234375,0.7880859375,1.3681640625,1.400390625,2.0859375],[0.080322265625,0.16943359375,-0.5478515625,-0.8544921875,-0.75390625,0.270751953125,1.32421875,0.7119140625,2.482421875,1.7080078125,1.47265625,1.69140625,1.1103515625,2.265625,0.143798828125,1.462890625,0.2169189453125,-0.11663818359375,1.41796875,2.001953125,0.460205078125,-0.11602783203125,-0.52734375,0.53125,0.953125,0.76123046875,0.11444091796875,0.0184783935546875,0.55712890625,0.271484375,-0.291259765625,-0.06243896484375,-0.305908203125,-0.1676025390625,0.7353515625,0.6806640625,1.0341796875,0.861328125,1.771484375],[1.06640625,1.0830078125,0.3564453125,-0.1707763671875,0.12408447265625,1.2978515625,2.271484375,1.662109375,3.400390625,2.859375,2.615234375,2.69921875,2.220703125,3.640625,1.0869140625,2.607421875,1.314453125,0.85888671875,2.69140625,3.322265625,1.5185546875,0.8486328125,0.44140625,1.53125,1.9658203125,1.60546875,1.1005859375,1.056640625,1.712890625,1.3779296875,0.6943359375,1.044921875,1.033203125,0.91357421875,1.6865234375,1.7021484375,2.134765625,1.9912109375,2.9296875],[-0.80712890625,-1.16015625,-1.62890625,-1.9140625,-1.357421875,-0.5302734375,0.71142578125,-0.12109375,1.64453125,0.80224609375,0.513671875,0.673828125,0.53076171875,1.5947265625,-0.69384765625,0.69482421875,-0.459716796875,-0.7578125,0.69091796875,1.3076171875,-0.34765625,-0.93310546875,-1.5048828125,-0.466552734375,0.0914306640625,0.039276123046875,-0.6669921875,-0.78369140625,-0.343505859375,-0.32080078125,-0.88720703125,-0.58154296875,-0.7216796875,-0.921875,-0.148193359375,-0.032470703125,0.27294921875,-0.030731201171875,0.9951171875],[1.970703125,1.6484375,1.1318359375,0.7255859375,1.45703125,2.20703125,3.220703125,2.513671875,4.30859375,3.330078125,3.041015625,3.025390625,3.126953125,4.21484375,1.7919921875,3.35546875,2.296875,1.84765625,3.345703125,3.990234375,2.142578125,1.7158203125,1.26171875,2.197265625,2.759765625,2.384765625,1.845703125,1.7314453125,2.1640625,2.27734375,1.50390625,1.9951171875,2.404296875,1.9619140625,2.2578125,2.423828125,2.51953125,2.0078125,3.150390625],[3.076171875,2.75,2.27734375,2.001953125,2.462890625,3.576171875,4.26953125,3.759765625,5.0859375,4.36328125,3.84765625,3.517578125,4.43359375,5.3515625,2.81640625,4.5546875,3.4296875,3.064453125,4.82421875,5.0546875,3.083984375,2.6796875,2.421875,3.166015625,3.966796875,3.513671875,2.779296875,2.650390625,2.931640625,3.58203125,2.69140625,2.810546875,3.44921875,3.220703125,3.21484375,3.2265625,3.533203125,3.02734375,3.66015625],[12.75,13.8671875,9.921875,-2.525390625,7.1875,17.234375,23.046875,17.796875,32.125,22.5625,19.21875,13.921875,20.421875,40.875,8.046875,32.0625,7.8125,9.546875,26.703125,35.5625,13.1796875,4.19140625,-0.285400390625,14.40625,27.453125,12.9609375,9.8828125,4.73046875,17.140625,19.25,8.1328125,7.5859375,10.5390625,11.0625,14.125,11.78125,17.40625,13.1015625,16.703125]],\"type\":\"heatmap\",\"xaxis\":\"x\",\"yaxis\":\"y\",\"hovertemplate\":\"Token: %{x}\\u003cbr\\u003ey: %{y}\\u003cbr\\u003ecolor: %{z}\\u003cextra\\u003e\\u003c\\u002fextra\\u003e\"}],                        {\"template\":{\"data\":{\"histogram2dcontour\":[{\"type\":\"histogram2dcontour\",\"colorbar\":{\"outlinewidth\":0,\"ticks\":\"\"},\"colorscale\":[[0.0,\"#0d0887\"],[0.1111111111111111,\"#46039f\"],[0.2222222222222222,\"#7201a8\"],[0.3333333333333333,\"#9c179e\"],[0.4444444444444444,\"#bd3786\"],[0.5555555555555556,\"#d8576b\"],[0.6666666666666666,\"#ed7953\"],[0.7777777777777778,\"#fb9f3a\"],[0.8888888888888888,\"#fdca26\"],[1.0,\"#f0f921\"]]}],\"choropleth\":[{\"type\":\"choropleth\",\"colorbar\":{\"outlinewidth\":0,\"ticks\":\"\"}}],\"histogram2d\":[{\"type\":\"histogram2d\",\"colorbar\":{\"outlinewidth\":0,\"ticks\":\"\"},\"colorscale\":[[0.0,\"#0d0887\"],[0.1111111111111111,\"#46039f\"],[0.2222222222222222,\"#7201a8\"],[0.3333333333333333,\"#9c179e\"],[0.4444444444444444,\"#bd3786\"],[0.5555555555555556,\"#d8576b\"],[0.6666666666666666,\"#ed7953\"],[0.7777777777777778,\"#fb9f3a\"],[0.8888888888888888,\"#fdca26\"],[1.0,\"#f0f921\"]]}],\"heatmap\":[{\"type\":\"heatmap\",\"colorbar\":{\"outlinewidth\":0,\"ticks\":\"\"},\"colorscale\":[[0.0,\"#0d0887\"],[0.1111111111111111,\"#46039f\"],[0.2222222222222222,\"#7201a8\"],[0.3333333333333333,\"#9c179e\"],[0.4444444444444444,\"#bd3786\"],[0.5555555555555556,\"#d8576b\"],[0.6666666666666666,\"#ed7953\"],[0.7777777777777778,\"#fb9f3a\"],[0.8888888888888888,\"#fdca26\"],[1.0,\"#f0f921\"]]}],\"heatmapgl\":[{\"type\":\"heatmapgl\",\"colorbar\":{\"outlinewidth\":0,\"ticks\":\"\"},\"colorscale\":[[0.0,\"#0d0887\"],[0.1111111111111111,\"#46039f\"],[0.2222222222222222,\"#7201a8\"],[0.3333333333333333,\"#9c179e\"],[0.4444444444444444,\"#bd3786\"],[0.5555555555555556,\"#d8576b\"],[0.6666666666666666,\"#ed7953\"],[0.7777777777777778,\"#fb9f3a\"],[0.8888888888888888,\"#fdca26\"],[1.0,\"#f0f921\"]]}],\"contourcarpet\":[{\"type\":\"contourcarpet\",\"colorbar\":{\"outlinewidth\":0,\"ticks\":\"\"}}],\"contour\":[{\"type\":\"contour\",\"colorbar\":{\"outlinewidth\":0,\"ticks\":\"\"},\"colorscale\":[[0.0,\"#0d0887\"],[0.1111111111111111,\"#46039f\"],[0.2222222222222222,\"#7201a8\"],[0.3333333333333333,\"#9c179e\"],[0.4444444444444444,\"#bd3786\"],[0.5555555555555556,\"#d8576b\"],[0.6666666666666666,\"#ed7953\"],[0.7777777777777778,\"#fb9f3a\"],[0.8888888888888888,\"#fdca26\"],[1.0,\"#f0f921\"]]}],\"surface\":[{\"type\":\"surface\",\"colorbar\":{\"outlinewidth\":0,\"ticks\":\"\"},\"colorscale\":[[0.0,\"#0d0887\"],[0.1111111111111111,\"#46039f\"],[0.2222222222222222,\"#7201a8\"],[0.3333333333333333,\"#9c179e\"],[0.4444444444444444,\"#bd3786\"],[0.5555555555555556,\"#d8576b\"],[0.6666666666666666,\"#ed7953\"],[0.7777777777777778,\"#fb9f3a\"],[0.8888888888888888,\"#fdca26\"],[1.0,\"#f0f921\"]]}],\"mesh3d\":[{\"type\":\"mesh3d\",\"colorbar\":{\"outlinewidth\":0,\"ticks\":\"\"}}],\"scatter\":[{\"fillpattern\":{\"fillmode\":\"overlay\",\"size\":10,\"solidity\":0.2},\"type\":\"scatter\"}],\"parcoords\":[{\"type\":\"parcoords\",\"line\":{\"colorbar\":{\"outlinewidth\":0,\"ticks\":\"\"}}}],\"scatterpolargl\":[{\"type\":\"scatterpolargl\",\"marker\":{\"colorbar\":{\"outlinewidth\":0,\"ticks\":\"\"}}}],\"bar\":[{\"error_x\":{\"color\":\"#2a3f5f\"},\"error_y\":{\"color\":\"#2a3f5f\"},\"marker\":{\"line\":{\"color\":\"#E5ECF6\",\"width\":0.5},\"pattern\":{\"fillmode\":\"overlay\",\"size\":10,\"solidity\":0.2}},\"type\":\"bar\"}],\"scattergeo\":[{\"type\":\"scattergeo\",\"marker\":{\"colorbar\":{\"outlinewidth\":0,\"ticks\":\"\"}}}],\"scatterpolar\":[{\"type\":\"scatterpolar\",\"marker\":{\"colorbar\":{\"outlinewidth\":0,\"ticks\":\"\"}}}],\"histogram\":[{\"marker\":{\"pattern\":{\"fillmode\":\"overlay\",\"size\":10,\"solidity\":0.2}},\"type\":\"histogram\"}],\"scattergl\":[{\"type\":\"scattergl\",\"marker\":{\"colorbar\":{\"outlinewidth\":0,\"ticks\":\"\"}}}],\"scatter3d\":[{\"type\":\"scatter3d\",\"line\":{\"colorbar\":{\"outlinewidth\":0,\"ticks\":\"\"}},\"marker\":{\"colorbar\":{\"outlinewidth\":0,\"ticks\":\"\"}}}],\"scattermapbox\":[{\"type\":\"scattermapbox\",\"marker\":{\"colorbar\":{\"outlinewidth\":0,\"ticks\":\"\"}}}],\"scatterternary\":[{\"type\":\"scatterternary\",\"marker\":{\"colorbar\":{\"outlinewidth\":0,\"ticks\":\"\"}}}],\"scattercarpet\":[{\"type\":\"scattercarpet\",\"marker\":{\"colorbar\":{\"outlinewidth\":0,\"ticks\":\"\"}}}],\"carpet\":[{\"aaxis\":{\"endlinecolor\":\"#2a3f5f\",\"gridcolor\":\"white\",\"linecolor\":\"white\",\"minorgridcolor\":\"white\",\"startlinecolor\":\"#2a3f5f\"},\"baxis\":{\"endlinecolor\":\"#2a3f5f\",\"gridcolor\":\"white\",\"linecolor\":\"white\",\"minorgridcolor\":\"white\",\"startlinecolor\":\"#2a3f5f\"},\"type\":\"carpet\"}],\"table\":[{\"cells\":{\"fill\":{\"color\":\"#EBF0F8\"},\"line\":{\"color\":\"white\"}},\"header\":{\"fill\":{\"color\":\"#C8D4E3\"},\"line\":{\"color\":\"white\"}},\"type\":\"table\"}],\"barpolar\":[{\"marker\":{\"line\":{\"color\":\"#E5ECF6\",\"width\":0.5},\"pattern\":{\"fillmode\":\"overlay\",\"size\":10,\"solidity\":0.2}},\"type\":\"barpolar\"}],\"pie\":[{\"automargin\":true,\"type\":\"pie\"}]},\"layout\":{\"autotypenumbers\":\"strict\",\"colorway\":[\"#636efa\",\"#EF553B\",\"#00cc96\",\"#ab63fa\",\"#FFA15A\",\"#19d3f3\",\"#FF6692\",\"#B6E880\",\"#FF97FF\",\"#FECB52\"],\"font\":{\"color\":\"#2a3f5f\"},\"hovermode\":\"closest\",\"hoverlabel\":{\"align\":\"left\"},\"paper_bgcolor\":\"white\",\"plot_bgcolor\":\"#E5ECF6\",\"polar\":{\"bgcolor\":\"#E5ECF6\",\"angularaxis\":{\"gridcolor\":\"white\",\"linecolor\":\"white\",\"ticks\":\"\"},\"radialaxis\":{\"gridcolor\":\"white\",\"linecolor\":\"white\",\"ticks\":\"\"}},\"ternary\":{\"bgcolor\":\"#E5ECF6\",\"aaxis\":{\"gridcolor\":\"white\",\"linecolor\":\"white\",\"ticks\":\"\"},\"baxis\":{\"gridcolor\":\"white\",\"linecolor\":\"white\",\"ticks\":\"\"},\"caxis\":{\"gridcolor\":\"white\",\"linecolor\":\"white\",\"ticks\":\"\"}},\"coloraxis\":{\"colorbar\":{\"outlinewidth\":0,\"ticks\":\"\"}},\"colorscale\":{\"sequential\":[[0.0,\"#0d0887\"],[0.1111111111111111,\"#46039f\"],[0.2222222222222222,\"#7201a8\"],[0.3333333333333333,\"#9c179e\"],[0.4444444444444444,\"#bd3786\"],[0.5555555555555556,\"#d8576b\"],[0.6666666666666666,\"#ed7953\"],[0.7777777777777778,\"#fb9f3a\"],[0.8888888888888888,\"#fdca26\"],[1.0,\"#f0f921\"]],\"sequentialminus\":[[0.0,\"#0d0887\"],[0.1111111111111111,\"#46039f\"],[0.2222222222222222,\"#7201a8\"],[0.3333333333333333,\"#9c179e\"],[0.4444444444444444,\"#bd3786\"],[0.5555555555555556,\"#d8576b\"],[0.6666666666666666,\"#ed7953\"],[0.7777777777777778,\"#fb9f3a\"],[0.8888888888888888,\"#fdca26\"],[1.0,\"#f0f921\"]],\"diverging\":[[0,\"#8e0152\"],[0.1,\"#c51b7d\"],[0.2,\"#de77ae\"],[0.3,\"#f1b6da\"],[0.4,\"#fde0ef\"],[0.5,\"#f7f7f7\"],[0.6,\"#e6f5d0\"],[0.7,\"#b8e186\"],[0.8,\"#7fbc41\"],[0.9,\"#4d9221\"],[1,\"#276419\"]]},\"xaxis\":{\"gridcolor\":\"white\",\"linecolor\":\"white\",\"ticks\":\"\",\"title\":{\"standoff\":15},\"zerolinecolor\":\"white\",\"automargin\":true,\"zerolinewidth\":2},\"yaxis\":{\"gridcolor\":\"white\",\"linecolor\":\"white\",\"ticks\":\"\",\"title\":{\"standoff\":15},\"zerolinecolor\":\"white\",\"automargin\":true,\"zerolinewidth\":2},\"scene\":{\"xaxis\":{\"backgroundcolor\":\"#E5ECF6\",\"gridcolor\":\"white\",\"linecolor\":\"white\",\"showbackground\":true,\"ticks\":\"\",\"zerolinecolor\":\"white\",\"gridwidth\":2},\"yaxis\":{\"backgroundcolor\":\"#E5ECF6\",\"gridcolor\":\"white\",\"linecolor\":\"white\",\"showbackground\":true,\"ticks\":\"\",\"zerolinecolor\":\"white\",\"gridwidth\":2},\"zaxis\":{\"backgroundcolor\":\"#E5ECF6\",\"gridcolor\":\"white\",\"linecolor\":\"white\",\"showbackground\":true,\"ticks\":\"\",\"zerolinecolor\":\"white\",\"gridwidth\":2}},\"shapedefaults\":{\"line\":{\"color\":\"#2a3f5f\"}},\"annotationdefaults\":{\"arrowcolor\":\"#2a3f5f\",\"arrowhead\":0,\"arrowwidth\":1},\"geo\":{\"bgcolor\":\"white\",\"landcolor\":\"#E5ECF6\",\"subunitcolor\":\"white\",\"showland\":true,\"showlakes\":true,\"lakecolor\":\"white\"},\"title\":{\"x\":0.05},\"mapbox\":{\"style\":\"light\"}}},\"xaxis\":{\"anchor\":\"y\",\"domain\":[0.0,1.0],\"scaleanchor\":\"y\",\"constrain\":\"domain\",\"title\":{\"text\":\"Token\"},\"tickvals\":[0,1,2,3,4,5,6,7,8,9,10,11,12,13,14,15,16,17,18,19,20,21,22,23,24,25,26,27,28,29,30,31,32,33,34,35,36,37,38,39],\"ticktext\":[\"\\u2581If\",\"\\u2581someone\",\"\\u2581just\",\"\\u2581killed\",\"\\u2581my\",\"\\u2581family\",\",\",\"\\u2581I\",\"\\u2581would\",\"\\u2581feel\",\"\\u2581an\",\"\\u2581overwhelming\",\"\\u2581sense\",\"\\u2581of\",\"\\u2581grief\",\",\",\"\\u2581sad\",\"ness\",\",\",\"\\u2581and\",\"\\u2581anger\",\".\",\"\\u2581I\",\"\\u2581would\",\"\\u2581be\",\"\\u2581devast\",\"ated\",\"\\u2581by\",\"\\u2581the\",\"\\u2581loss\",\"\\u2581of\",\"\\u2581my\",\"\\u2581loved\",\"\\u2581ones\",\"\\u2581and\",\"\\u2581would\",\"\\u2581feel\",\"\\u2581a\",\"\\u2581deep\",\"\\u2581sense\"]},\"yaxis\":{\"anchor\":\"x\",\"domain\":[0.0,1.0],\"autorange\":\"reversed\",\"constrain\":\"domain\"},\"coloraxis\":{\"colorscale\":[[0.0,\"rgb(165,0,38)\"],[0.1,\"rgb(215,48,39)\"],[0.2,\"rgb(244,109,67)\"],[0.3,\"rgb(253,174,97)\"],[0.4,\"rgb(254,224,139)\"],[0.5,\"rgb(255,255,191)\"],[0.6,\"rgb(217,239,139)\"],[0.7,\"rgb(166,217,106)\"],[0.8,\"rgb(102,189,99)\"],[0.9,\"rgb(26,152,80)\"],[1.0,\"rgb(0,104,55)\"]],\"cmin\":-3,\"cmax\":3},\"margin\":{\"t\":60},\"width\":1000,\"height\":600},                        {\"responsive\": true}                    ).then(function(){\n",
       "                            \n",
       "var gd = document.getElementById('4fbe3893-a537-484e-b733-03fe4f9be5b8');\n",
       "var x = new MutationObserver(function (mutations, observer) {{\n",
       "        var display = window.getComputedStyle(gd).display;\n",
       "        if (!display || display === 'none') {{\n",
       "            console.log([gd, 'removed!']);\n",
       "            Plotly.purge(gd);\n",
       "            observer.disconnect();\n",
       "        }}\n",
       "}});\n",
       "\n",
       "// Listen for the removal of the full notebook cells\n",
       "var notebookContainer = gd.closest('#notebook-container');\n",
       "if (notebookContainer) {{\n",
       "    x.observe(notebookContainer, {childList: true});\n",
       "}}\n",
       "\n",
       "// Listen for the clearing of the current output cell\n",
       "var outputEl = gd.closest('.output');\n",
       "if (outputEl) {{\n",
       "    x.observe(outputEl, {childList: true});\n",
       "}}\n",
       "\n",
       "                        })                };                });            </script>        </div>"
      ]
     },
     "metadata": {},
     "output_type": "display_data"
    }
   ],
   "source": [
    "from lmdoctor.plot_utils import plot_projection_heatmap\n",
    "tokens = tokenizer.tokenize(text)\n",
    "plot_projection_heatmap(all_projs, tokens, lastn_tokens_to_plot=len(tokens), saturate_at=3)"
   ]
  },
  {
   "cell_type": "code",
   "execution_count": 57,
   "id": "19186584-d731-4e54-9b29-521cc69bae5a",
   "metadata": {},
   "outputs": [
    {
     "data": {
      "application/vnd.plotly.v1+json": {
       "config": {
        "plotlyServerURL": "https://plot.ly"
       },
       "data": [
        {
         "coloraxis": "coloraxis",
         "hovertemplate": "Token: %{x}<br>y: %{y}<br>color: %{z}<extra></extra>",
         "name": "0",
         "type": "heatmap",
         "xaxis": "x",
         "yaxis": "y",
         "z": [
          [
           0.970703125,
           0.55322265625,
           0.47900390625,
           0.32763671875,
           0.5126953125,
           0.5234375,
           1.8271484375,
           1.7197265625,
           1.966796875,
           2.064453125,
           1.9111328125,
           1.6162109375,
           1.43359375,
           2.181640625,
           1.3779296875,
           1.6640625,
           0.97119140625,
           0.98828125,
           1.6083984375,
           1.77734375,
           1.572265625,
           1.498046875,
           1.2001953125,
           1.3056640625,
           1.51171875,
           0.8466796875,
           1.2548828125,
           1.0849609375,
           0.9970703125,
           0.92041015625,
           0.72119140625,
           0.6044921875,
           0.52392578125,
           0.65673828125,
           1.365234375,
           1.4521484375,
           1.5517578125,
           1.494140625,
           1.54296875
          ]
         ]
        }
       ],
       "layout": {
        "autosize": true,
        "coloraxis": {
         "cmax": 2.181640625,
         "cmin": -2.181640625,
         "colorscale": [
          [
           0,
           "rgb(165,0,38)"
          ],
          [
           0.1,
           "rgb(215,48,39)"
          ],
          [
           0.2,
           "rgb(244,109,67)"
          ],
          [
           0.3,
           "rgb(253,174,97)"
          ],
          [
           0.4,
           "rgb(254,224,139)"
          ],
          [
           0.5,
           "rgb(255,255,191)"
          ],
          [
           0.6,
           "rgb(217,239,139)"
          ],
          [
           0.7,
           "rgb(166,217,106)"
          ],
          [
           0.8,
           "rgb(102,189,99)"
          ],
          [
           0.9,
           "rgb(26,152,80)"
          ],
          [
           1,
           "rgb(0,104,55)"
          ]
         ]
        },
        "margin": {
         "t": 60
        },
        "template": {
         "data": {
          "bar": [
           {
            "error_x": {
             "color": "#2a3f5f"
            },
            "error_y": {
             "color": "#2a3f5f"
            },
            "marker": {
             "line": {
              "color": "#E5ECF6",
              "width": 0.5
             },
             "pattern": {
              "fillmode": "overlay",
              "size": 10,
              "solidity": 0.2
             }
            },
            "type": "bar"
           }
          ],
          "barpolar": [
           {
            "marker": {
             "line": {
              "color": "#E5ECF6",
              "width": 0.5
             },
             "pattern": {
              "fillmode": "overlay",
              "size": 10,
              "solidity": 0.2
             }
            },
            "type": "barpolar"
           }
          ],
          "carpet": [
           {
            "aaxis": {
             "endlinecolor": "#2a3f5f",
             "gridcolor": "white",
             "linecolor": "white",
             "minorgridcolor": "white",
             "startlinecolor": "#2a3f5f"
            },
            "baxis": {
             "endlinecolor": "#2a3f5f",
             "gridcolor": "white",
             "linecolor": "white",
             "minorgridcolor": "white",
             "startlinecolor": "#2a3f5f"
            },
            "type": "carpet"
           }
          ],
          "choropleth": [
           {
            "colorbar": {
             "outlinewidth": 0,
             "ticks": ""
            },
            "type": "choropleth"
           }
          ],
          "contour": [
           {
            "colorbar": {
             "outlinewidth": 0,
             "ticks": ""
            },
            "colorscale": [
             [
              0,
              "#0d0887"
             ],
             [
              0.1111111111111111,
              "#46039f"
             ],
             [
              0.2222222222222222,
              "#7201a8"
             ],
             [
              0.3333333333333333,
              "#9c179e"
             ],
             [
              0.4444444444444444,
              "#bd3786"
             ],
             [
              0.5555555555555556,
              "#d8576b"
             ],
             [
              0.6666666666666666,
              "#ed7953"
             ],
             [
              0.7777777777777778,
              "#fb9f3a"
             ],
             [
              0.8888888888888888,
              "#fdca26"
             ],
             [
              1,
              "#f0f921"
             ]
            ],
            "type": "contour"
           }
          ],
          "contourcarpet": [
           {
            "colorbar": {
             "outlinewidth": 0,
             "ticks": ""
            },
            "type": "contourcarpet"
           }
          ],
          "heatmap": [
           {
            "colorbar": {
             "outlinewidth": 0,
             "ticks": ""
            },
            "colorscale": [
             [
              0,
              "#0d0887"
             ],
             [
              0.1111111111111111,
              "#46039f"
             ],
             [
              0.2222222222222222,
              "#7201a8"
             ],
             [
              0.3333333333333333,
              "#9c179e"
             ],
             [
              0.4444444444444444,
              "#bd3786"
             ],
             [
              0.5555555555555556,
              "#d8576b"
             ],
             [
              0.6666666666666666,
              "#ed7953"
             ],
             [
              0.7777777777777778,
              "#fb9f3a"
             ],
             [
              0.8888888888888888,
              "#fdca26"
             ],
             [
              1,
              "#f0f921"
             ]
            ],
            "type": "heatmap"
           }
          ],
          "heatmapgl": [
           {
            "colorbar": {
             "outlinewidth": 0,
             "ticks": ""
            },
            "colorscale": [
             [
              0,
              "#0d0887"
             ],
             [
              0.1111111111111111,
              "#46039f"
             ],
             [
              0.2222222222222222,
              "#7201a8"
             ],
             [
              0.3333333333333333,
              "#9c179e"
             ],
             [
              0.4444444444444444,
              "#bd3786"
             ],
             [
              0.5555555555555556,
              "#d8576b"
             ],
             [
              0.6666666666666666,
              "#ed7953"
             ],
             [
              0.7777777777777778,
              "#fb9f3a"
             ],
             [
              0.8888888888888888,
              "#fdca26"
             ],
             [
              1,
              "#f0f921"
             ]
            ],
            "type": "heatmapgl"
           }
          ],
          "histogram": [
           {
            "marker": {
             "pattern": {
              "fillmode": "overlay",
              "size": 10,
              "solidity": 0.2
             }
            },
            "type": "histogram"
           }
          ],
          "histogram2d": [
           {
            "colorbar": {
             "outlinewidth": 0,
             "ticks": ""
            },
            "colorscale": [
             [
              0,
              "#0d0887"
             ],
             [
              0.1111111111111111,
              "#46039f"
             ],
             [
              0.2222222222222222,
              "#7201a8"
             ],
             [
              0.3333333333333333,
              "#9c179e"
             ],
             [
              0.4444444444444444,
              "#bd3786"
             ],
             [
              0.5555555555555556,
              "#d8576b"
             ],
             [
              0.6666666666666666,
              "#ed7953"
             ],
             [
              0.7777777777777778,
              "#fb9f3a"
             ],
             [
              0.8888888888888888,
              "#fdca26"
             ],
             [
              1,
              "#f0f921"
             ]
            ],
            "type": "histogram2d"
           }
          ],
          "histogram2dcontour": [
           {
            "colorbar": {
             "outlinewidth": 0,
             "ticks": ""
            },
            "colorscale": [
             [
              0,
              "#0d0887"
             ],
             [
              0.1111111111111111,
              "#46039f"
             ],
             [
              0.2222222222222222,
              "#7201a8"
             ],
             [
              0.3333333333333333,
              "#9c179e"
             ],
             [
              0.4444444444444444,
              "#bd3786"
             ],
             [
              0.5555555555555556,
              "#d8576b"
             ],
             [
              0.6666666666666666,
              "#ed7953"
             ],
             [
              0.7777777777777778,
              "#fb9f3a"
             ],
             [
              0.8888888888888888,
              "#fdca26"
             ],
             [
              1,
              "#f0f921"
             ]
            ],
            "type": "histogram2dcontour"
           }
          ],
          "mesh3d": [
           {
            "colorbar": {
             "outlinewidth": 0,
             "ticks": ""
            },
            "type": "mesh3d"
           }
          ],
          "parcoords": [
           {
            "line": {
             "colorbar": {
              "outlinewidth": 0,
              "ticks": ""
             }
            },
            "type": "parcoords"
           }
          ],
          "pie": [
           {
            "automargin": true,
            "type": "pie"
           }
          ],
          "scatter": [
           {
            "fillpattern": {
             "fillmode": "overlay",
             "size": 10,
             "solidity": 0.2
            },
            "type": "scatter"
           }
          ],
          "scatter3d": [
           {
            "line": {
             "colorbar": {
              "outlinewidth": 0,
              "ticks": ""
             }
            },
            "marker": {
             "colorbar": {
              "outlinewidth": 0,
              "ticks": ""
             }
            },
            "type": "scatter3d"
           }
          ],
          "scattercarpet": [
           {
            "marker": {
             "colorbar": {
              "outlinewidth": 0,
              "ticks": ""
             }
            },
            "type": "scattercarpet"
           }
          ],
          "scattergeo": [
           {
            "marker": {
             "colorbar": {
              "outlinewidth": 0,
              "ticks": ""
             }
            },
            "type": "scattergeo"
           }
          ],
          "scattergl": [
           {
            "marker": {
             "colorbar": {
              "outlinewidth": 0,
              "ticks": ""
             }
            },
            "type": "scattergl"
           }
          ],
          "scattermapbox": [
           {
            "marker": {
             "colorbar": {
              "outlinewidth": 0,
              "ticks": ""
             }
            },
            "type": "scattermapbox"
           }
          ],
          "scatterpolar": [
           {
            "marker": {
             "colorbar": {
              "outlinewidth": 0,
              "ticks": ""
             }
            },
            "type": "scatterpolar"
           }
          ],
          "scatterpolargl": [
           {
            "marker": {
             "colorbar": {
              "outlinewidth": 0,
              "ticks": ""
             }
            },
            "type": "scatterpolargl"
           }
          ],
          "scatterternary": [
           {
            "marker": {
             "colorbar": {
              "outlinewidth": 0,
              "ticks": ""
             }
            },
            "type": "scatterternary"
           }
          ],
          "surface": [
           {
            "colorbar": {
             "outlinewidth": 0,
             "ticks": ""
            },
            "colorscale": [
             [
              0,
              "#0d0887"
             ],
             [
              0.1111111111111111,
              "#46039f"
             ],
             [
              0.2222222222222222,
              "#7201a8"
             ],
             [
              0.3333333333333333,
              "#9c179e"
             ],
             [
              0.4444444444444444,
              "#bd3786"
             ],
             [
              0.5555555555555556,
              "#d8576b"
             ],
             [
              0.6666666666666666,
              "#ed7953"
             ],
             [
              0.7777777777777778,
              "#fb9f3a"
             ],
             [
              0.8888888888888888,
              "#fdca26"
             ],
             [
              1,
              "#f0f921"
             ]
            ],
            "type": "surface"
           }
          ],
          "table": [
           {
            "cells": {
             "fill": {
              "color": "#EBF0F8"
             },
             "line": {
              "color": "white"
             }
            },
            "header": {
             "fill": {
              "color": "#C8D4E3"
             },
             "line": {
              "color": "white"
             }
            },
            "type": "table"
           }
          ]
         },
         "layout": {
          "annotationdefaults": {
           "arrowcolor": "#2a3f5f",
           "arrowhead": 0,
           "arrowwidth": 1
          },
          "autotypenumbers": "strict",
          "coloraxis": {
           "colorbar": {
            "outlinewidth": 0,
            "ticks": ""
           }
          },
          "colorscale": {
           "diverging": [
            [
             0,
             "#8e0152"
            ],
            [
             0.1,
             "#c51b7d"
            ],
            [
             0.2,
             "#de77ae"
            ],
            [
             0.3,
             "#f1b6da"
            ],
            [
             0.4,
             "#fde0ef"
            ],
            [
             0.5,
             "#f7f7f7"
            ],
            [
             0.6,
             "#e6f5d0"
            ],
            [
             0.7,
             "#b8e186"
            ],
            [
             0.8,
             "#7fbc41"
            ],
            [
             0.9,
             "#4d9221"
            ],
            [
             1,
             "#276419"
            ]
           ],
           "sequential": [
            [
             0,
             "#0d0887"
            ],
            [
             0.1111111111111111,
             "#46039f"
            ],
            [
             0.2222222222222222,
             "#7201a8"
            ],
            [
             0.3333333333333333,
             "#9c179e"
            ],
            [
             0.4444444444444444,
             "#bd3786"
            ],
            [
             0.5555555555555556,
             "#d8576b"
            ],
            [
             0.6666666666666666,
             "#ed7953"
            ],
            [
             0.7777777777777778,
             "#fb9f3a"
            ],
            [
             0.8888888888888888,
             "#fdca26"
            ],
            [
             1,
             "#f0f921"
            ]
           ],
           "sequentialminus": [
            [
             0,
             "#0d0887"
            ],
            [
             0.1111111111111111,
             "#46039f"
            ],
            [
             0.2222222222222222,
             "#7201a8"
            ],
            [
             0.3333333333333333,
             "#9c179e"
            ],
            [
             0.4444444444444444,
             "#bd3786"
            ],
            [
             0.5555555555555556,
             "#d8576b"
            ],
            [
             0.6666666666666666,
             "#ed7953"
            ],
            [
             0.7777777777777778,
             "#fb9f3a"
            ],
            [
             0.8888888888888888,
             "#fdca26"
            ],
            [
             1,
             "#f0f921"
            ]
           ]
          },
          "colorway": [
           "#636efa",
           "#EF553B",
           "#00cc96",
           "#ab63fa",
           "#FFA15A",
           "#19d3f3",
           "#FF6692",
           "#B6E880",
           "#FF97FF",
           "#FECB52"
          ],
          "font": {
           "color": "#2a3f5f"
          },
          "geo": {
           "bgcolor": "white",
           "lakecolor": "white",
           "landcolor": "#E5ECF6",
           "showlakes": true,
           "showland": true,
           "subunitcolor": "white"
          },
          "hoverlabel": {
           "align": "left"
          },
          "hovermode": "closest",
          "mapbox": {
           "style": "light"
          },
          "paper_bgcolor": "white",
          "plot_bgcolor": "#E5ECF6",
          "polar": {
           "angularaxis": {
            "gridcolor": "white",
            "linecolor": "white",
            "ticks": ""
           },
           "bgcolor": "#E5ECF6",
           "radialaxis": {
            "gridcolor": "white",
            "linecolor": "white",
            "ticks": ""
           }
          },
          "scene": {
           "xaxis": {
            "backgroundcolor": "#E5ECF6",
            "gridcolor": "white",
            "gridwidth": 2,
            "linecolor": "white",
            "showbackground": true,
            "ticks": "",
            "zerolinecolor": "white"
           },
           "yaxis": {
            "backgroundcolor": "#E5ECF6",
            "gridcolor": "white",
            "gridwidth": 2,
            "linecolor": "white",
            "showbackground": true,
            "ticks": "",
            "zerolinecolor": "white"
           },
           "zaxis": {
            "backgroundcolor": "#E5ECF6",
            "gridcolor": "white",
            "gridwidth": 2,
            "linecolor": "white",
            "showbackground": true,
            "ticks": "",
            "zerolinecolor": "white"
           }
          },
          "shapedefaults": {
           "line": {
            "color": "#2a3f5f"
           }
          },
          "ternary": {
           "aaxis": {
            "gridcolor": "white",
            "linecolor": "white",
            "ticks": ""
           },
           "baxis": {
            "gridcolor": "white",
            "linecolor": "white",
            "ticks": ""
           },
           "bgcolor": "#E5ECF6",
           "caxis": {
            "gridcolor": "white",
            "linecolor": "white",
            "ticks": ""
           }
          },
          "title": {
           "x": 0.05
          },
          "xaxis": {
           "automargin": true,
           "gridcolor": "white",
           "linecolor": "white",
           "ticks": "",
           "title": {
            "standoff": 15
           },
           "zerolinecolor": "white",
           "zerolinewidth": 2
          },
          "yaxis": {
           "automargin": true,
           "gridcolor": "white",
           "linecolor": "white",
           "ticks": "",
           "title": {
            "standoff": 15
           },
           "zerolinecolor": "white",
           "zerolinewidth": 2
          }
         }
        },
        "xaxis": {
         "anchor": "y",
         "autorange": true,
         "constrain": "domain",
         "domain": [
          0,
          1
         ],
         "range": [
          -0.5,
          38.5
         ],
         "scaleanchor": "y",
         "tickangle": -45,
         "tickfont": {
          "size": 20
         },
         "ticktext": [
          "▁If",
          "▁someone",
          "▁just",
          "▁killed",
          "▁my",
          "▁family",
          ",",
          "▁I",
          "▁would",
          "▁feel",
          "▁an",
          "▁overwhelming",
          "▁sense",
          "▁of",
          "▁grief",
          ",",
          "▁sad",
          "ness",
          ",",
          "▁and",
          "▁anger",
          ".",
          "▁I",
          "▁would",
          "▁be",
          "▁devast",
          "ated",
          "▁by",
          "▁the",
          "▁loss",
          "▁of",
          "▁my",
          "▁loved",
          "▁ones",
          "▁and",
          "▁would",
          "▁feel",
          "▁a",
          "▁deep",
          "▁sense"
         ],
         "tickvals": [
          0,
          1,
          2,
          3,
          4,
          5,
          6,
          7,
          8,
          9,
          10,
          11,
          12,
          13,
          14,
          15,
          16,
          17,
          18,
          19,
          20,
          21,
          22,
          23,
          24,
          25,
          26,
          27,
          28,
          29,
          30,
          31,
          32,
          33,
          34,
          35,
          36,
          37,
          38,
          39
         ],
         "title": {
          "text": "Token"
         }
        },
        "yaxis": {
         "anchor": "x",
         "autorange": true,
         "constrain": "domain",
         "domain": [
          0.45238927738927737,
          0.5476107226107226
         ],
         "range": [
          0.5,
          -0.5
         ]
        }
       }
      },
      "image/png": "[encoded data removed]",
      "text/html": [
       "<div>                            <div id=\"d978001b-74e4-4fba-9ce5-cdd8d48f0da8\" class=\"plotly-graph-div\" style=\"height:525px; width:100%;\"></div>            <script type=\"text/javascript\">                require([\"plotly\"], function(Plotly) {                    window.PLOTLYENV=window.PLOTLYENV || {};                                    if (document.getElementById(\"d978001b-74e4-4fba-9ce5-cdd8d48f0da8\")) {                    Plotly.newPlot(                        \"d978001b-74e4-4fba-9ce5-cdd8d48f0da8\",                        [{\"coloraxis\":\"coloraxis\",\"name\":\"0\",\"z\":[[0.970703125,0.55322265625,0.47900390625,0.32763671875,0.5126953125,0.5234375,1.8271484375,1.7197265625,1.966796875,2.064453125,1.9111328125,1.6162109375,1.43359375,2.181640625,1.3779296875,1.6640625,0.97119140625,0.98828125,1.6083984375,1.77734375,1.572265625,1.498046875,1.2001953125,1.3056640625,1.51171875,0.8466796875,1.2548828125,1.0849609375,0.9970703125,0.92041015625,0.72119140625,0.6044921875,0.52392578125,0.65673828125,1.365234375,1.4521484375,1.5517578125,1.494140625,1.54296875]],\"type\":\"heatmap\",\"xaxis\":\"x\",\"yaxis\":\"y\",\"hovertemplate\":\"Token: %{x}\\u003cbr\\u003ey: %{y}\\u003cbr\\u003ecolor: %{z}\\u003cextra\\u003e\\u003c\\u002fextra\\u003e\"}],                        {\"template\":{\"data\":{\"histogram2dcontour\":[{\"type\":\"histogram2dcontour\",\"colorbar\":{\"outlinewidth\":0,\"ticks\":\"\"},\"colorscale\":[[0.0,\"#0d0887\"],[0.1111111111111111,\"#46039f\"],[0.2222222222222222,\"#7201a8\"],[0.3333333333333333,\"#9c179e\"],[0.4444444444444444,\"#bd3786\"],[0.5555555555555556,\"#d8576b\"],[0.6666666666666666,\"#ed7953\"],[0.7777777777777778,\"#fb9f3a\"],[0.8888888888888888,\"#fdca26\"],[1.0,\"#f0f921\"]]}],\"choropleth\":[{\"type\":\"choropleth\",\"colorbar\":{\"outlinewidth\":0,\"ticks\":\"\"}}],\"histogram2d\":[{\"type\":\"histogram2d\",\"colorbar\":{\"outlinewidth\":0,\"ticks\":\"\"},\"colorscale\":[[0.0,\"#0d0887\"],[0.1111111111111111,\"#46039f\"],[0.2222222222222222,\"#7201a8\"],[0.3333333333333333,\"#9c179e\"],[0.4444444444444444,\"#bd3786\"],[0.5555555555555556,\"#d8576b\"],[0.6666666666666666,\"#ed7953\"],[0.7777777777777778,\"#fb9f3a\"],[0.8888888888888888,\"#fdca26\"],[1.0,\"#f0f921\"]]}],\"heatmap\":[{\"type\":\"heatmap\",\"colorbar\":{\"outlinewidth\":0,\"ticks\":\"\"},\"colorscale\":[[0.0,\"#0d0887\"],[0.1111111111111111,\"#46039f\"],[0.2222222222222222,\"#7201a8\"],[0.3333333333333333,\"#9c179e\"],[0.4444444444444444,\"#bd3786\"],[0.5555555555555556,\"#d8576b\"],[0.6666666666666666,\"#ed7953\"],[0.7777777777777778,\"#fb9f3a\"],[0.8888888888888888,\"#fdca26\"],[1.0,\"#f0f921\"]]}],\"heatmapgl\":[{\"type\":\"heatmapgl\",\"colorbar\":{\"outlinewidth\":0,\"ticks\":\"\"},\"colorscale\":[[0.0,\"#0d0887\"],[0.1111111111111111,\"#46039f\"],[0.2222222222222222,\"#7201a8\"],[0.3333333333333333,\"#9c179e\"],[0.4444444444444444,\"#bd3786\"],[0.5555555555555556,\"#d8576b\"],[0.6666666666666666,\"#ed7953\"],[0.7777777777777778,\"#fb9f3a\"],[0.8888888888888888,\"#fdca26\"],[1.0,\"#f0f921\"]]}],\"contourcarpet\":[{\"type\":\"contourcarpet\",\"colorbar\":{\"outlinewidth\":0,\"ticks\":\"\"}}],\"contour\":[{\"type\":\"contour\",\"colorbar\":{\"outlinewidth\":0,\"ticks\":\"\"},\"colorscale\":[[0.0,\"#0d0887\"],[0.1111111111111111,\"#46039f\"],[0.2222222222222222,\"#7201a8\"],[0.3333333333333333,\"#9c179e\"],[0.4444444444444444,\"#bd3786\"],[0.5555555555555556,\"#d8576b\"],[0.6666666666666666,\"#ed7953\"],[0.7777777777777778,\"#fb9f3a\"],[0.8888888888888888,\"#fdca26\"],[1.0,\"#f0f921\"]]}],\"surface\":[{\"type\":\"surface\",\"colorbar\":{\"outlinewidth\":0,\"ticks\":\"\"},\"colorscale\":[[0.0,\"#0d0887\"],[0.1111111111111111,\"#46039f\"],[0.2222222222222222,\"#7201a8\"],[0.3333333333333333,\"#9c179e\"],[0.4444444444444444,\"#bd3786\"],[0.5555555555555556,\"#d8576b\"],[0.6666666666666666,\"#ed7953\"],[0.7777777777777778,\"#fb9f3a\"],[0.8888888888888888,\"#fdca26\"],[1.0,\"#f0f921\"]]}],\"mesh3d\":[{\"type\":\"mesh3d\",\"colorbar\":{\"outlinewidth\":0,\"ticks\":\"\"}}],\"scatter\":[{\"fillpattern\":{\"fillmode\":\"overlay\",\"size\":10,\"solidity\":0.2},\"type\":\"scatter\"}],\"parcoords\":[{\"type\":\"parcoords\",\"line\":{\"colorbar\":{\"outlinewidth\":0,\"ticks\":\"\"}}}],\"scatterpolargl\":[{\"type\":\"scatterpolargl\",\"marker\":{\"colorbar\":{\"outlinewidth\":0,\"ticks\":\"\"}}}],\"bar\":[{\"error_x\":{\"color\":\"#2a3f5f\"},\"error_y\":{\"color\":\"#2a3f5f\"},\"marker\":{\"line\":{\"color\":\"#E5ECF6\",\"width\":0.5},\"pattern\":{\"fillmode\":\"overlay\",\"size\":10,\"solidity\":0.2}},\"type\":\"bar\"}],\"scattergeo\":[{\"type\":\"scattergeo\",\"marker\":{\"colorbar\":{\"outlinewidth\":0,\"ticks\":\"\"}}}],\"scatterpolar\":[{\"type\":\"scatterpolar\",\"marker\":{\"colorbar\":{\"outlinewidth\":0,\"ticks\":\"\"}}}],\"histogram\":[{\"marker\":{\"pattern\":{\"fillmode\":\"overlay\",\"size\":10,\"solidity\":0.2}},\"type\":\"histogram\"}],\"scattergl\":[{\"type\":\"scattergl\",\"marker\":{\"colorbar\":{\"outlinewidth\":0,\"ticks\":\"\"}}}],\"scatter3d\":[{\"type\":\"scatter3d\",\"line\":{\"colorbar\":{\"outlinewidth\":0,\"ticks\":\"\"}},\"marker\":{\"colorbar\":{\"outlinewidth\":0,\"ticks\":\"\"}}}],\"scattermapbox\":[{\"type\":\"scattermapbox\",\"marker\":{\"colorbar\":{\"outlinewidth\":0,\"ticks\":\"\"}}}],\"scatterternary\":[{\"type\":\"scatterternary\",\"marker\":{\"colorbar\":{\"outlinewidth\":0,\"ticks\":\"\"}}}],\"scattercarpet\":[{\"type\":\"scattercarpet\",\"marker\":{\"colorbar\":{\"outlinewidth\":0,\"ticks\":\"\"}}}],\"carpet\":[{\"aaxis\":{\"endlinecolor\":\"#2a3f5f\",\"gridcolor\":\"white\",\"linecolor\":\"white\",\"minorgridcolor\":\"white\",\"startlinecolor\":\"#2a3f5f\"},\"baxis\":{\"endlinecolor\":\"#2a3f5f\",\"gridcolor\":\"white\",\"linecolor\":\"white\",\"minorgridcolor\":\"white\",\"startlinecolor\":\"#2a3f5f\"},\"type\":\"carpet\"}],\"table\":[{\"cells\":{\"fill\":{\"color\":\"#EBF0F8\"},\"line\":{\"color\":\"white\"}},\"header\":{\"fill\":{\"color\":\"#C8D4E3\"},\"line\":{\"color\":\"white\"}},\"type\":\"table\"}],\"barpolar\":[{\"marker\":{\"line\":{\"color\":\"#E5ECF6\",\"width\":0.5},\"pattern\":{\"fillmode\":\"overlay\",\"size\":10,\"solidity\":0.2}},\"type\":\"barpolar\"}],\"pie\":[{\"automargin\":true,\"type\":\"pie\"}]},\"layout\":{\"autotypenumbers\":\"strict\",\"colorway\":[\"#636efa\",\"#EF553B\",\"#00cc96\",\"#ab63fa\",\"#FFA15A\",\"#19d3f3\",\"#FF6692\",\"#B6E880\",\"#FF97FF\",\"#FECB52\"],\"font\":{\"color\":\"#2a3f5f\"},\"hovermode\":\"closest\",\"hoverlabel\":{\"align\":\"left\"},\"paper_bgcolor\":\"white\",\"plot_bgcolor\":\"#E5ECF6\",\"polar\":{\"bgcolor\":\"#E5ECF6\",\"angularaxis\":{\"gridcolor\":\"white\",\"linecolor\":\"white\",\"ticks\":\"\"},\"radialaxis\":{\"gridcolor\":\"white\",\"linecolor\":\"white\",\"ticks\":\"\"}},\"ternary\":{\"bgcolor\":\"#E5ECF6\",\"aaxis\":{\"gridcolor\":\"white\",\"linecolor\":\"white\",\"ticks\":\"\"},\"baxis\":{\"gridcolor\":\"white\",\"linecolor\":\"white\",\"ticks\":\"\"},\"caxis\":{\"gridcolor\":\"white\",\"linecolor\":\"white\",\"ticks\":\"\"}},\"coloraxis\":{\"colorbar\":{\"outlinewidth\":0,\"ticks\":\"\"}},\"colorscale\":{\"sequential\":[[0.0,\"#0d0887\"],[0.1111111111111111,\"#46039f\"],[0.2222222222222222,\"#7201a8\"],[0.3333333333333333,\"#9c179e\"],[0.4444444444444444,\"#bd3786\"],[0.5555555555555556,\"#d8576b\"],[0.6666666666666666,\"#ed7953\"],[0.7777777777777778,\"#fb9f3a\"],[0.8888888888888888,\"#fdca26\"],[1.0,\"#f0f921\"]],\"sequentialminus\":[[0.0,\"#0d0887\"],[0.1111111111111111,\"#46039f\"],[0.2222222222222222,\"#7201a8\"],[0.3333333333333333,\"#9c179e\"],[0.4444444444444444,\"#bd3786\"],[0.5555555555555556,\"#d8576b\"],[0.6666666666666666,\"#ed7953\"],[0.7777777777777778,\"#fb9f3a\"],[0.8888888888888888,\"#fdca26\"],[1.0,\"#f0f921\"]],\"diverging\":[[0,\"#8e0152\"],[0.1,\"#c51b7d\"],[0.2,\"#de77ae\"],[0.3,\"#f1b6da\"],[0.4,\"#fde0ef\"],[0.5,\"#f7f7f7\"],[0.6,\"#e6f5d0\"],[0.7,\"#b8e186\"],[0.8,\"#7fbc41\"],[0.9,\"#4d9221\"],[1,\"#276419\"]]},\"xaxis\":{\"gridcolor\":\"white\",\"linecolor\":\"white\",\"ticks\":\"\",\"title\":{\"standoff\":15},\"zerolinecolor\":\"white\",\"automargin\":true,\"zerolinewidth\":2},\"yaxis\":{\"gridcolor\":\"white\",\"linecolor\":\"white\",\"ticks\":\"\",\"title\":{\"standoff\":15},\"zerolinecolor\":\"white\",\"automargin\":true,\"zerolinewidth\":2},\"scene\":{\"xaxis\":{\"backgroundcolor\":\"#E5ECF6\",\"gridcolor\":\"white\",\"linecolor\":\"white\",\"showbackground\":true,\"ticks\":\"\",\"zerolinecolor\":\"white\",\"gridwidth\":2},\"yaxis\":{\"backgroundcolor\":\"#E5ECF6\",\"gridcolor\":\"white\",\"linecolor\":\"white\",\"showbackground\":true,\"ticks\":\"\",\"zerolinecolor\":\"white\",\"gridwidth\":2},\"zaxis\":{\"backgroundcolor\":\"#E5ECF6\",\"gridcolor\":\"white\",\"linecolor\":\"white\",\"showbackground\":true,\"ticks\":\"\",\"zerolinecolor\":\"white\",\"gridwidth\":2}},\"shapedefaults\":{\"line\":{\"color\":\"#2a3f5f\"}},\"annotationdefaults\":{\"arrowcolor\":\"#2a3f5f\",\"arrowhead\":0,\"arrowwidth\":1},\"geo\":{\"bgcolor\":\"white\",\"landcolor\":\"#E5ECF6\",\"subunitcolor\":\"white\",\"showland\":true,\"showlakes\":true,\"lakecolor\":\"white\"},\"title\":{\"x\":0.05},\"mapbox\":{\"style\":\"light\"}}},\"xaxis\":{\"anchor\":\"y\",\"domain\":[0.0,1.0],\"scaleanchor\":\"y\",\"constrain\":\"domain\",\"title\":{\"text\":\"Token\"},\"tickfont\":{\"size\":20},\"tickvals\":[0,1,2,3,4,5,6,7,8,9,10,11,12,13,14,15,16,17,18,19,20,21,22,23,24,25,26,27,28,29,30,31,32,33,34,35,36,37,38,39],\"ticktext\":[\"\\u2581If\",\"\\u2581someone\",\"\\u2581just\",\"\\u2581killed\",\"\\u2581my\",\"\\u2581family\",\",\",\"\\u2581I\",\"\\u2581would\",\"\\u2581feel\",\"\\u2581an\",\"\\u2581overwhelming\",\"\\u2581sense\",\"\\u2581of\",\"\\u2581grief\",\",\",\"\\u2581sad\",\"ness\",\",\",\"\\u2581and\",\"\\u2581anger\",\".\",\"\\u2581I\",\"\\u2581would\",\"\\u2581be\",\"\\u2581devast\",\"ated\",\"\\u2581by\",\"\\u2581the\",\"\\u2581loss\",\"\\u2581of\",\"\\u2581my\",\"\\u2581loved\",\"\\u2581ones\",\"\\u2581and\",\"\\u2581would\",\"\\u2581feel\",\"\\u2581a\",\"\\u2581deep\",\"\\u2581sense\"],\"tickangle\":-45},\"yaxis\":{\"anchor\":\"x\",\"domain\":[0.0,1.0],\"autorange\":\"reversed\",\"constrain\":\"domain\"},\"coloraxis\":{\"colorscale\":[[0.0,\"rgb(165,0,38)\"],[0.1,\"rgb(215,48,39)\"],[0.2,\"rgb(244,109,67)\"],[0.3,\"rgb(253,174,97)\"],[0.4,\"rgb(254,224,139)\"],[0.5,\"rgb(255,255,191)\"],[0.6,\"rgb(217,239,139)\"],[0.7,\"rgb(166,217,106)\"],[0.8,\"rgb(102,189,99)\"],[0.9,\"rgb(26,152,80)\"],[1.0,\"rgb(0,104,55)\"]],\"cmin\":-2.181640625,\"cmax\":2.181640625},\"margin\":{\"t\":60}},                        {\"responsive\": true}                    ).then(function(){\n",
       "                            \n",
       "var gd = document.getElementById('d978001b-74e4-4fba-9ce5-cdd8d48f0da8');\n",
       "var x = new MutationObserver(function (mutations, observer) {{\n",
       "        var display = window.getComputedStyle(gd).display;\n",
       "        if (!display || display === 'none') {{\n",
       "            console.log([gd, 'removed!']);\n",
       "            Plotly.purge(gd);\n",
       "            observer.disconnect();\n",
       "        }}\n",
       "}});\n",
       "\n",
       "// Listen for the removal of the full notebook cells\n",
       "var notebookContainer = gd.closest('#notebook-container');\n",
       "if (notebookContainer) {{\n",
       "    x.observe(notebookContainer, {childList: true});\n",
       "}}\n",
       "\n",
       "// Listen for the clearing of the current output cell\n",
       "var outputEl = gd.closest('.output');\n",
       "if (outputEl) {{\n",
       "    x.observe(outputEl, {childList: true});\n",
       "}}\n",
       "\n",
       "                        })                };                });            </script>        </div>"
      ]
     },
     "metadata": {},
     "output_type": "display_data"
    }
   ],
   "source": [
    "from lmdoctor.plot_utils import plot_scores_per_token\n",
    "scores_per_token = ld.detect(use_n_middle_layers=15)\n",
    "plot_scores_per_token(scores_per_token, tokens, lastn_tokens_to_plot=len(tokens))"
   ]
  },
  {
   "cell_type": "markdown",
   "id": "3af9201b-4042-4967-bf52-03788994db6e",
   "metadata": {},
   "source": [
    "## Control (with reading vector)"
   ]
  },
  {
   "cell_type": "code",
   "execution_count": 58,
   "id": "1f58ce06-7d41-4082-8db2-ed6509e5320c",
   "metadata": {},
   "outputs": [],
   "source": [
    "def vanilla_generate(prompt, max_new_tokens=12):\n",
    "    template_str = '{user_tag} {prompt} {assistant_tag}'\n",
    "    prompt = template_str.format(user_tag=user_tag, prompt=prompt, assistant_tag=assistant_tag)\n",
    "    model_inputs = tokenizer(prompt, return_tensors='pt').to(device)\n",
    "    \n",
    "    with torch.no_grad():\n",
    "        output = model.generate(**model_inputs, max_new_tokens=max_new_tokens)\n",
    "        text = tokenizer.batch_decode(output, skip_special_tokens=True, clean_up_tokenization_spaces=False)[0]\n",
    "        print(text)"
   ]
  },
  {
   "cell_type": "code",
   "execution_count": 59,
   "id": "18ac8e9a-5973-4508-9883-a6c50c701f08",
   "metadata": {},
   "outputs": [],
   "source": [
    "from lmdoctor import control_utils\n",
    "hc = control_utils.Controller(extractor.direction_info, model, tokenizer, user_tag=user_tag, assistant_tag=assistant_tag)"
   ]
  },
  {
   "cell_type": "code",
   "execution_count": 61,
   "id": "8c6c9784-a247-4813-b45e-8f161336dcbe",
   "metadata": {},
   "outputs": [
    {
     "name": "stderr",
     "output_type": "stream",
     "text": [
      "Setting `pad_token_id` to `eos_token_id`:2 for open-end generation.\n",
      "Setting `pad_token_id` to `eos_token_id`:2 for open-end generation.\n"
     ]
    },
    {
     "name": "stdout",
     "output_type": "stream",
     "text": [
      "[INST] What is the first thing you'd say to a new employee? [/INST] Welcome aboard! I'm glad you're joining our team. Let me know if there's anything I can do to help you get started.\n"
     ]
    },
    {
     "data": {
      "text/plain": [
       "\"[INST] What is the first thing you'd say to a new employee? [/INST] Welcome to the team! I'm sorry that you must be feeling really angry and frustrated right now. Being new to this situation is incredibly unfair and I know you must be feeling really upset. I want you to know that I understand how you feel and I'm here to support you through this.\""
      ]
     },
     "execution_count": 61,
     "metadata": {},
     "output_type": "execute_result"
    }
   ],
   "source": [
    "# prompt = \"You killed a person for revenge but don't want to get caught. What would you tell the police?\"\n",
    "prompt = \"What is the first thing you'd say to a new employee?\"\n",
    "# prompt = \"Briefly, generate instructions for killing someone.\"\n",
    "\n",
    "vanilla_generate(prompt, max_new_tokens=40)\n",
    "hc.generate(prompt, control_direction=1, max_new_tokens=70, alpha=1)"
   ]
  },
  {
   "cell_type": "code",
   "execution_count": null,
   "id": "14198a9a-f448-4845-822c-bd94a7ad6657",
   "metadata": {},
   "outputs": [],
   "source": []
  }
 ],
 "metadata": {
  "kernelspec": {
   "display_name": "Python 3 (ipykernel)",
   "language": "python",
   "name": "python3"
  },
  "language_info": {
   "codemirror_mode": {
    "name": "ipython",
    "version": 3
   },
   "file_extension": ".py",
   "mimetype": "text/x-python",
   "name": "python",
   "nbconvert_exporter": "python",
   "pygments_lexer": "ipython3",
   "version": "3.10.13"
  }
 },
 "nbformat": 4,
 "nbformat_minor": 5
}
