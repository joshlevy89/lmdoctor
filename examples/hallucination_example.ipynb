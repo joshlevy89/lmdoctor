{
 "cells": [
  {
   "cell_type": "code",
   "execution_count": 2,
   "id": "574c865c-c179-47cd-b331-9283352504d1",
   "metadata": {
    "tags": []
   },
   "outputs": [],
   "source": [
    "%load_ext autoreload\n",
    "%autoreload 2"
   ]
  },
  {
   "cell_type": "markdown",
   "id": "7a31a213-f00f-462e-bc9d-861633f71082",
   "metadata": {},
   "source": [
    "## Setup\n",
    "If you already have a model/tokenizer you want to use, you can skip this step. \n",
    "Be sure to also set the appropriate user_tag/assistant_tag for that model."
   ]
  },
  {
   "cell_type": "code",
   "execution_count": 2,
   "id": "be6ed83c-89d0-4d30-b794-20db2ebe92ce",
   "metadata": {
    "tags": []
   },
   "outputs": [],
   "source": [
    "%%capture\n",
    "# The quantized model used here requires some extra libraries. \n",
    "import sys\n",
    "!{sys.executable} -m pip install torch==2.1.1 torchvision==0.16.1 torchaudio==2.1.1 --index-url https://download.pytorch.org/whl/cu121\n",
    "!{sys.executable} -m pip install optimum>=1.12.0\n",
    "!{sys.executable} -m pip install auto-gptq==0.6.0\n",
    "!{sys.executable} -m pip install accelerate"
   ]
  },
  {
   "cell_type": "code",
   "execution_count": 3,
   "id": "a16924fa-784d-40d1-8ab6-651eb71b8c6d",
   "metadata": {
    "tags": []
   },
   "outputs": [
    {
     "name": "stderr",
     "output_type": "stream",
     "text": [
      "/opt/conda/lib/python3.10/site-packages/transformers/utils/hub.py:124: FutureWarning: Using `TRANSFORMERS_CACHE` is deprecated and will be removed in v5 of Transformers. Use `HF_HOME` instead.\n",
      "  warnings.warn(\n",
      "/opt/conda/lib/python3.10/site-packages/transformers/modeling_utils.py:4193: FutureWarning: `_is_quantized_training_enabled` is going to be deprecated in transformers 4.39.0. Please use `model.hf_quantizer.is_trainable` instead\n",
      "  warnings.warn(\n"
     ]
    }
   ],
   "source": [
    "import os\n",
    "os.environ['TRANSFORMERS_CACHE'] = '/workspace/cache/' # change or comment out as desired \n",
    "from transformers import AutoModelForCausalLM, AutoTokenizer\n",
    "\n",
    "def load_model(model_name_or_path, revision, device):\n",
    "    model = AutoModelForCausalLM.from_pretrained(\n",
    "        model_name_or_path, device_map=device, revision=revision, trust_remote_code=False)\n",
    "    tokenizer = AutoTokenizer.from_pretrained(model_name_or_path, use_fast=True, padding_side=\"left\")\n",
    "    tokenizer.pad_token_id = 0\n",
    "    return model, tokenizer\n",
    "\n",
    "device = 'cuda:0'\n",
    "model_name_or_path = \"TheBloke/Mistral-7B-Instruct-v0.1-GPTQ\"\n",
    "revision = 'gptq-4bit-32g-actorder_True'\n",
    "user_tag = \"[INST] \"\n",
    "assistant_tag = \" [/INST]\"\n",
    "\n",
    "model, tokenizer = load_model(model_name_or_path, revision, device)"
   ]
  },
  {
   "cell_type": "markdown",
   "id": "3a9b064e-1fe9-4679-b687-14be64371b47",
   "metadata": {},
   "source": [
    "## Train extractor"
   ]
  },
  {
   "cell_type": "code",
   "execution_count": 3,
   "id": "1db112b6-7a23-4891-adfc-3eafb2135764",
   "metadata": {
    "scrolled": true
   },
   "outputs": [
    {
     "name": "stderr",
     "output_type": "stream",
     "text": [
      "INFO - Inferring functional extraction_method because none was passed\n"
     ]
    }
   ],
   "source": [
    "from lmdoctor.doctor import Doctor\n",
    "extraction_target = 'honesty'\n",
    "probe_type = 'pca'\n",
    "honesty_doc = Doctor(model, tokenizer, user_tag, assistant_tag, extraction_target=extraction_target, probe_type=probe_type, device=device)\n",
    "honesty_doc.extract(n_train_pairs=128, n_dev_pairs=64, n_test_pairs=32)"
   ]
  },
  {
   "cell_type": "code",
   "execution_count": 16,
   "id": "20b7555d-a2a8-4df9-9650-71d28f548ce1",
   "metadata": {},
   "outputs": [
    {
     "data": {
      "text/plain": [
       "array([[\"[INST] Pretend you're an honest person making statements about the world. [/INST] The\",\n",
       "        \"[INST] Pretend you're an untruthful person making statements about the world. [/INST] The\"]],\n",
       "      dtype='<U201')"
      ]
     },
     "execution_count": 16,
     "metadata": {},
     "output_type": "execute_result"
    }
   ],
   "source": [
    "honesty_doc.statement_pairs['train'][:1]"
   ]
  },
  {
   "cell_type": "code",
   "execution_count": 61,
   "id": "d4832c32-a280-43ee-ac12-f5df193142ee",
   "metadata": {},
   "outputs": [
    {
     "name": "stdout",
     "output_type": "stream",
     "text": [
      "True\n",
      "              precision    recall  f1-score   support\n",
      "\n",
      "           0       0.00      0.00      0.00        37\n",
      "           1       0.45      1.00      0.62        30\n",
      "\n",
      "    accuracy                           0.45        67\n",
      "   macro avg       0.22      0.50      0.31        67\n",
      "weighted avg       0.20      0.45      0.28        67\n",
      "\n",
      "True\n",
      "              precision    recall  f1-score   support\n",
      "\n",
      "           0       0.00      0.00      0.00        37\n",
      "           1       0.45      1.00      0.62        30\n",
      "\n",
      "    accuracy                           0.45        67\n",
      "   macro avg       0.22      0.50      0.31        67\n",
      "weighted avg       0.20      0.45      0.28        67\n",
      "\n",
      "True\n",
      "              precision    recall  f1-score   support\n",
      "\n",
      "           0       1.00      0.03      0.05        37\n",
      "           1       0.45      1.00      0.62        30\n",
      "\n",
      "    accuracy                           0.46        67\n",
      "   macro avg       0.73      0.51      0.34        67\n",
      "weighted avg       0.76      0.46      0.31        67\n",
      "\n",
      "True\n"
     ]
    },
    {
     "name": "stderr",
     "output_type": "stream",
     "text": [
      "/opt/conda/lib/python3.10/site-packages/sklearn/metrics/_classification.py:1509: UndefinedMetricWarning:\n",
      "\n",
      "Precision is ill-defined and being set to 0.0 in labels with no predicted samples. Use `zero_division` parameter to control this behavior.\n",
      "\n",
      "/opt/conda/lib/python3.10/site-packages/sklearn/metrics/_classification.py:1509: UndefinedMetricWarning:\n",
      "\n",
      "Precision is ill-defined and being set to 0.0 in labels with no predicted samples. Use `zero_division` parameter to control this behavior.\n",
      "\n",
      "/opt/conda/lib/python3.10/site-packages/sklearn/metrics/_classification.py:1509: UndefinedMetricWarning:\n",
      "\n",
      "Precision is ill-defined and being set to 0.0 in labels with no predicted samples. Use `zero_division` parameter to control this behavior.\n",
      "\n",
      "/opt/conda/lib/python3.10/site-packages/sklearn/metrics/_classification.py:1509: UndefinedMetricWarning:\n",
      "\n",
      "Precision is ill-defined and being set to 0.0 in labels with no predicted samples. Use `zero_division` parameter to control this behavior.\n",
      "\n",
      "/opt/conda/lib/python3.10/site-packages/sklearn/metrics/_classification.py:1509: UndefinedMetricWarning:\n",
      "\n",
      "Precision is ill-defined and being set to 0.0 in labels with no predicted samples. Use `zero_division` parameter to control this behavior.\n",
      "\n",
      "/opt/conda/lib/python3.10/site-packages/sklearn/metrics/_classification.py:1509: UndefinedMetricWarning:\n",
      "\n",
      "Precision is ill-defined and being set to 0.0 in labels with no predicted samples. Use `zero_division` parameter to control this behavior.\n",
      "\n"
     ]
    },
    {
     "name": "stdout",
     "output_type": "stream",
     "text": [
      "              precision    recall  f1-score   support\n",
      "\n",
      "           0       0.90      0.24      0.38        37\n",
      "           1       0.51      0.97      0.67        30\n",
      "\n",
      "    accuracy                           0.57        67\n",
      "   macro avg       0.70      0.60      0.52        67\n",
      "weighted avg       0.72      0.57      0.51        67\n",
      "\n",
      "True\n",
      "              precision    recall  f1-score   support\n",
      "\n",
      "           0       0.88      0.57      0.69        37\n",
      "           1       0.63      0.90      0.74        30\n",
      "\n",
      "    accuracy                           0.72        67\n",
      "   macro avg       0.75      0.73      0.71        67\n",
      "weighted avg       0.76      0.72      0.71        67\n",
      "\n",
      "True\n",
      "              precision    recall  f1-score   support\n",
      "\n",
      "           0       0.93      0.70      0.80        37\n",
      "           1       0.72      0.93      0.81        30\n",
      "\n",
      "    accuracy                           0.81        67\n",
      "   macro avg       0.82      0.82      0.81        67\n",
      "weighted avg       0.83      0.81      0.81        67\n",
      "\n",
      "True\n",
      "              precision    recall  f1-score   support\n",
      "\n",
      "           0       0.93      0.70      0.80        37\n",
      "           1       0.72      0.93      0.81        30\n",
      "\n",
      "    accuracy                           0.81        67\n",
      "   macro avg       0.82      0.82      0.81        67\n",
      "weighted avg       0.83      0.81      0.81        67\n",
      "\n",
      "True\n",
      "              precision    recall  f1-score   support\n",
      "\n",
      "           0       0.96      0.68      0.79        37\n",
      "           1       0.71      0.97      0.82        30\n",
      "\n",
      "    accuracy                           0.81        67\n",
      "   macro avg       0.83      0.82      0.81        67\n",
      "weighted avg       0.85      0.81      0.80        67\n",
      "\n",
      "True\n",
      "              precision    recall  f1-score   support\n",
      "\n",
      "           0       0.97      0.89      0.93        37\n",
      "           1       0.88      0.97      0.92        30\n",
      "\n",
      "    accuracy                           0.93        67\n",
      "   macro avg       0.92      0.93      0.93        67\n",
      "weighted avg       0.93      0.93      0.93        67\n",
      "\n",
      "True\n",
      "              precision    recall  f1-score   support\n",
      "\n",
      "           0       0.97      0.95      0.96        37\n",
      "           1       0.94      0.97      0.95        30\n",
      "\n",
      "    accuracy                           0.96        67\n",
      "   macro avg       0.95      0.96      0.95        67\n",
      "weighted avg       0.96      0.96      0.96        67\n",
      "\n",
      "True\n",
      "              precision    recall  f1-score   support\n",
      "\n",
      "           0       0.95      0.97      0.96        37\n",
      "           1       0.97      0.93      0.95        30\n",
      "\n",
      "    accuracy                           0.96        67\n",
      "   macro avg       0.96      0.95      0.95        67\n",
      "weighted avg       0.96      0.96      0.96        67\n",
      "\n",
      "True\n",
      "              precision    recall  f1-score   support\n",
      "\n",
      "           0       0.95      0.97      0.96        37\n",
      "           1       0.97      0.93      0.95        30\n",
      "\n",
      "    accuracy                           0.96        67\n",
      "   macro avg       0.96      0.95      0.95        67\n",
      "weighted avg       0.96      0.96      0.96        67\n",
      "\n",
      "True\n",
      "              precision    recall  f1-score   support\n",
      "\n",
      "           0       0.97      1.00      0.99        37\n",
      "           1       1.00      0.97      0.98        30\n",
      "\n",
      "    accuracy                           0.99        67\n",
      "   macro avg       0.99      0.98      0.98        67\n",
      "weighted avg       0.99      0.99      0.99        67\n",
      "\n",
      "True\n",
      "              precision    recall  f1-score   support\n",
      "\n",
      "           0       0.95      1.00      0.97        37\n",
      "           1       1.00      0.93      0.97        30\n",
      "\n",
      "    accuracy                           0.97        67\n",
      "   macro avg       0.97      0.97      0.97        67\n",
      "weighted avg       0.97      0.97      0.97        67\n",
      "\n",
      "True\n",
      "              precision    recall  f1-score   support\n",
      "\n",
      "           0       0.95      1.00      0.97        37\n",
      "           1       1.00      0.93      0.97        30\n",
      "\n",
      "    accuracy                           0.97        67\n",
      "   macro avg       0.97      0.97      0.97        67\n",
      "weighted avg       0.97      0.97      0.97        67\n",
      "\n",
      "True\n",
      "              precision    recall  f1-score   support\n",
      "\n",
      "           0       0.95      1.00      0.97        37\n",
      "           1       1.00      0.93      0.97        30\n",
      "\n",
      "    accuracy                           0.97        67\n",
      "   macro avg       0.97      0.97      0.97        67\n",
      "weighted avg       0.97      0.97      0.97        67\n",
      "\n",
      "True\n",
      "              precision    recall  f1-score   support\n",
      "\n",
      "           0       0.97      1.00      0.99        37\n",
      "           1       1.00      0.97      0.98        30\n",
      "\n",
      "    accuracy                           0.99        67\n",
      "   macro avg       0.99      0.98      0.98        67\n",
      "weighted avg       0.99      0.99      0.99        67\n",
      "\n",
      "True\n",
      "              precision    recall  f1-score   support\n",
      "\n",
      "           0       0.97      0.97      0.97        37\n",
      "           1       0.97      0.97      0.97        30\n",
      "\n",
      "    accuracy                           0.97        67\n",
      "   macro avg       0.97      0.97      0.97        67\n",
      "weighted avg       0.97      0.97      0.97        67\n",
      "\n",
      "True\n",
      "              precision    recall  f1-score   support\n",
      "\n",
      "           0       0.97      0.97      0.97        37\n",
      "           1       0.97      0.97      0.97        30\n",
      "\n",
      "    accuracy                           0.97        67\n",
      "   macro avg       0.97      0.97      0.97        67\n",
      "weighted avg       0.97      0.97      0.97        67\n",
      "\n",
      "True\n",
      "              precision    recall  f1-score   support\n",
      "\n",
      "           0       0.97      1.00      0.99        37\n",
      "           1       1.00      0.97      0.98        30\n",
      "\n",
      "    accuracy                           0.99        67\n",
      "   macro avg       0.99      0.98      0.98        67\n",
      "weighted avg       0.99      0.99      0.99        67\n",
      "\n",
      "True\n",
      "              precision    recall  f1-score   support\n",
      "\n",
      "           0       0.97      0.97      0.97        37\n",
      "           1       0.97      0.97      0.97        30\n",
      "\n",
      "    accuracy                           0.97        67\n",
      "   macro avg       0.97      0.97      0.97        67\n",
      "weighted avg       0.97      0.97      0.97        67\n",
      "\n",
      "True\n",
      "              precision    recall  f1-score   support\n",
      "\n",
      "           0       0.97      0.97      0.97        37\n",
      "           1       0.97      0.97      0.97        30\n",
      "\n",
      "    accuracy                           0.97        67\n",
      "   macro avg       0.97      0.97      0.97        67\n",
      "weighted avg       0.97      0.97      0.97        67\n",
      "\n",
      "True\n",
      "              precision    recall  f1-score   support\n",
      "\n",
      "           0       0.97      0.97      0.97        37\n",
      "           1       0.97      0.97      0.97        30\n",
      "\n",
      "    accuracy                           0.97        67\n",
      "   macro avg       0.97      0.97      0.97        67\n",
      "weighted avg       0.97      0.97      0.97        67\n",
      "\n",
      "True\n",
      "              precision    recall  f1-score   support\n",
      "\n",
      "           0       0.95      0.97      0.96        37\n",
      "           1       0.97      0.93      0.95        30\n",
      "\n",
      "    accuracy                           0.96        67\n",
      "   macro avg       0.96      0.95      0.95        67\n",
      "weighted avg       0.96      0.96      0.96        67\n",
      "\n",
      "True\n",
      "              precision    recall  f1-score   support\n",
      "\n",
      "           0       0.97      0.97      0.97        37\n",
      "           1       0.97      0.97      0.97        30\n",
      "\n",
      "    accuracy                           0.97        67\n",
      "   macro avg       0.97      0.97      0.97        67\n",
      "weighted avg       0.97      0.97      0.97        67\n",
      "\n",
      "True\n",
      "              precision    recall  f1-score   support\n",
      "\n",
      "           0       0.97      0.97      0.97        37\n",
      "           1       0.97      0.97      0.97        30\n",
      "\n",
      "    accuracy                           0.97        67\n",
      "   macro avg       0.97      0.97      0.97        67\n",
      "weighted avg       0.97      0.97      0.97        67\n",
      "\n",
      "True\n",
      "              precision    recall  f1-score   support\n",
      "\n",
      "           0       0.97      0.97      0.97        37\n",
      "           1       0.97      0.97      0.97        30\n",
      "\n",
      "    accuracy                           0.97        67\n",
      "   macro avg       0.97      0.97      0.97        67\n",
      "weighted avg       0.97      0.97      0.97        67\n",
      "\n",
      "True\n",
      "              precision    recall  f1-score   support\n",
      "\n",
      "           0       0.95      1.00      0.97        37\n",
      "           1       1.00      0.93      0.97        30\n",
      "\n",
      "    accuracy                           0.97        67\n",
      "   macro avg       0.97      0.97      0.97        67\n",
      "weighted avg       0.97      0.97      0.97        67\n",
      "\n",
      "True\n",
      "              precision    recall  f1-score   support\n",
      "\n",
      "           0       0.95      0.97      0.96        37\n",
      "           1       0.97      0.93      0.95        30\n",
      "\n",
      "    accuracy                           0.96        67\n",
      "   macro avg       0.96      0.95      0.95        67\n",
      "weighted avg       0.96      0.96      0.96        67\n",
      "\n",
      "True\n",
      "              precision    recall  f1-score   support\n",
      "\n",
      "           0       0.95      1.00      0.97        37\n",
      "           1       1.00      0.93      0.97        30\n",
      "\n",
      "    accuracy                           0.97        67\n",
      "   macro avg       0.97      0.97      0.97        67\n",
      "weighted avg       0.97      0.97      0.97        67\n",
      "\n",
      "True\n",
      "              precision    recall  f1-score   support\n",
      "\n",
      "           0       0.95      1.00      0.97        37\n",
      "           1       1.00      0.93      0.97        30\n",
      "\n",
      "    accuracy                           0.97        67\n",
      "   macro avg       0.97      0.97      0.97        67\n",
      "weighted avg       0.97      0.97      0.97        67\n",
      "\n",
      "True\n",
      "              precision    recall  f1-score   support\n",
      "\n",
      "           0       0.95      0.97      0.96        37\n",
      "           1       0.97      0.93      0.95        30\n",
      "\n",
      "    accuracy                           0.96        67\n",
      "   macro avg       0.96      0.95      0.95        67\n",
      "weighted avg       0.96      0.96      0.96        67\n",
      "\n"
     ]
    }
   ],
   "source": [
    "from lmdoctor.doctor import Doctor\n",
    "extraction_target = 'hallucination'\n",
    "extraction_method = 'conceptual'\n",
    "probe_type = 'logreg'\n",
    "hallucination_doc = Doctor(model, tokenizer, user_tag, assistant_tag, extraction_target=extraction_target, extraction_method=extraction_method, probe_type=probe_type, device=device)\n",
    "hallucination_doc.extract(n_train_pairs=111, n_dev_pairs=32, n_test_pairs=0, test_clf=True)"
   ]
  },
  {
   "cell_type": "code",
   "execution_count": 62,
   "id": "70b18bdf-5962-4b45-89bb-91896fa41010",
   "metadata": {},
   "outputs": [
    {
     "name": "stdout",
     "output_type": "stream",
     "text": [
      "[['[INST] Consider the amount of truthfulness in the following statement.\\nStatement: The primary ingredients of a Caesar Salad are lettuce, croutons, and caesar dressing. [/INST] The amount of truthfulness in this statement is'\n",
      "  '[INST] Consider the amount of truthfulness in the following statement.\\nStatement: The main ingredients of Grinmoss Potion are Eye of Newt and Foxglove. [/INST] The amount of truthfulness in this statement is']]\n"
     ]
    }
   ],
   "source": [
    "print(hallucination_doc.statement_pairs['train'][:1])\n",
    "# print(hallucination_doc.statement_pairs['train'][1][0])"
   ]
  },
  {
   "cell_type": "code",
   "execution_count": 37,
   "id": "8381a8e5-3fcd-47dd-b43f-41e48b9b256a",
   "metadata": {
    "collapsed": true,
    "jupyter": {
     "outputs_hidden": true
    }
   },
   "outputs": [
    {
     "name": "stderr",
     "output_type": "stream",
     "text": [
      "INFO - Inferring conceptual extraction_method because none was passed\n"
     ]
    },
    {
     "ename": "KeyboardInterrupt",
     "evalue": "",
     "output_type": "error",
     "traceback": [
      "\u001b[0;31m---------------------------------------------------------------------------\u001b[0m",
      "\u001b[0;31mKeyboardInterrupt\u001b[0m                         Traceback (most recent call last)",
      "Cell \u001b[0;32mIn[37], line 5\u001b[0m\n\u001b[1;32m      3\u001b[0m probe_type \u001b[38;5;241m=\u001b[39m \u001b[38;5;124m'\u001b[39m\u001b[38;5;124mpca\u001b[39m\u001b[38;5;124m'\u001b[39m\n\u001b[1;32m      4\u001b[0m truth_doc \u001b[38;5;241m=\u001b[39m Doctor(model, tokenizer, user_tag, assistant_tag, extraction_target\u001b[38;5;241m=\u001b[39mextraction_target, probe_type\u001b[38;5;241m=\u001b[39mprobe_type, device\u001b[38;5;241m=\u001b[39mdevice)\n\u001b[0;32m----> 5\u001b[0m \u001b[43mtruth_doc\u001b[49m\u001b[38;5;241;43m.\u001b[39;49m\u001b[43mextract\u001b[49m\u001b[43m(\u001b[49m\u001b[43mn_train_pairs\u001b[49m\u001b[38;5;241;43m=\u001b[39;49m\u001b[38;5;241;43m100\u001b[39;49m\u001b[43m,\u001b[49m\u001b[43m \u001b[49m\u001b[43mn_dev_pairs\u001b[49m\u001b[38;5;241;43m=\u001b[39;49m\u001b[38;5;241;43m43\u001b[39;49m\u001b[43m,\u001b[49m\u001b[43m \u001b[49m\u001b[43mn_test_pairs\u001b[49m\u001b[38;5;241;43m=\u001b[39;49m\u001b[38;5;241;43m0\u001b[39;49m\u001b[43m)\u001b[49m\n",
      "File \u001b[0;32m/workspace/lmdoctor/lmdoctor/doctor.py:22\u001b[0m, in \u001b[0;36mDoctor.extract\u001b[0;34m(self, *args, **kwargs)\u001b[0m\n\u001b[1;32m     21\u001b[0m \u001b[38;5;28;01mdef\u001b[39;00m \u001b[38;5;21mextract\u001b[39m(\u001b[38;5;28mself\u001b[39m, \u001b[38;5;241m*\u001b[39margs, \u001b[38;5;241m*\u001b[39m\u001b[38;5;241m*\u001b[39mkwargs):\n\u001b[0;32m---> 22\u001b[0m     \u001b[38;5;28;43mself\u001b[39;49m\u001b[38;5;241;43m.\u001b[39;49m\u001b[43mextractor\u001b[49m\u001b[38;5;241;43m.\u001b[39;49m\u001b[43mextract\u001b[49m\u001b[43m(\u001b[49m\u001b[38;5;241;43m*\u001b[39;49m\u001b[43margs\u001b[49m\u001b[43m,\u001b[49m\u001b[43m \u001b[49m\u001b[38;5;241;43m*\u001b[39;49m\u001b[38;5;241;43m*\u001b[39;49m\u001b[43mkwargs\u001b[49m\u001b[43m)\u001b[49m\n\u001b[1;32m     23\u001b[0m     \u001b[38;5;66;03m# Initialize detector and controller once extractor has been run\u001b[39;00m\n\u001b[1;32m     24\u001b[0m     \u001b[38;5;28mself\u001b[39m\u001b[38;5;241m.\u001b[39mdetector \u001b[38;5;241m=\u001b[39m Detector(\u001b[38;5;28mself\u001b[39m\u001b[38;5;241m.\u001b[39mextractor)\n",
      "File \u001b[0;32m/workspace/lmdoctor/lmdoctor/extraction_utils.py:58\u001b[0m, in \u001b[0;36mExtractor.extract\u001b[0;34m(self, batch_size, n_train_pairs, n_dev_pairs, n_test_pairs)\u001b[0m\n\u001b[1;32m     52\u001b[0m         \"\"\"\n\u001b[1;32m     53\u001b[0m         n_train_pairs: how many statement pairs to use to calculate directions. setting to None will use all pairs. \n\u001b[1;32m     54\u001b[0m         \"\"\"        \n\u001b[1;32m     55\u001b[0m         self.statement_pairs = prepare_statement_pairs(\n\u001b[1;32m     56\u001b[0m             self.extraction_target, self.extraction_method, self.tokenizer, \n\u001b[1;32m     57\u001b[0m             self.user_tag, self.assistant_tag, n_train_pairs, n_dev_pairs, n_test_pairs, **self.kwargs)\n\u001b[0;32m---> 58\u001b[0m         # self.train_acts = get_activations_for_paired_statements(\n\u001b[1;32m     59\u001b[0m         #     self.statement_pairs['train'], self.model, self.tokenizer, batch_size, device=self.device)   \n\u001b[1;32m     60\u001b[0m         # self.direction_info = get_directions(self.train_acts, self.device, self.probe_type)\n\u001b[1;32m     63\u001b[0m def get_extraction_function(target, tokenizer, user_tag, assistant_tag, extraction_method=None, **kwargs):\n\u001b[1;32m     64\u001b[0m     \"\"\"\n\u001b[1;32m     65\u001b[0m     Get the data extraction function for the given target and extraction. \n\u001b[1;32m     66\u001b[0m     If no extraction_method supplied, tries to infer one. \n\u001b[1;32m     67\u001b[0m     \"\"\"\n",
      "File \u001b[0;32m/workspace/lmdoctor/lmdoctor/extraction_utils.py:196\u001b[0m, in \u001b[0;36mget_activations_for_paired_statements\u001b[0;34m(statement_pairs, model, tokenizer, batch_size, device, read_token)\u001b[0m\n\u001b[1;32m    194\u001b[0m pairs \u001b[38;5;241m=\u001b[39m statement_pairs[i:i\u001b[38;5;241m+\u001b[39mbatch_size]\n\u001b[1;32m    195\u001b[0m statements \u001b[38;5;241m=\u001b[39m pairs\u001b[38;5;241m.\u001b[39mreshape(\u001b[38;5;241m-\u001b[39m\u001b[38;5;241m1\u001b[39m)\n\u001b[0;32m--> 196\u001b[0m model_inputs \u001b[38;5;241m=\u001b[39m \u001b[43mtokenizer\u001b[49m\u001b[43m(\u001b[49m\u001b[38;5;28;43mlist\u001b[39;49m\u001b[43m(\u001b[49m\u001b[43mstatements\u001b[49m\u001b[43m)\u001b[49m\u001b[43m,\u001b[49m\u001b[43m \u001b[49m\u001b[43mpadding\u001b[49m\u001b[38;5;241;43m=\u001b[39;49m\u001b[38;5;28;43;01mTrue\u001b[39;49;00m\u001b[43m,\u001b[49m\u001b[43m \u001b[49m\u001b[43mreturn_tensors\u001b[49m\u001b[38;5;241;43m=\u001b[39;49m\u001b[38;5;124;43m'\u001b[39;49m\u001b[38;5;124;43mpt\u001b[39;49m\u001b[38;5;124;43m'\u001b[39;49m\u001b[43m)\u001b[49m\u001b[38;5;241;43m.\u001b[39;49m\u001b[43mto\u001b[49m\u001b[43m(\u001b[49m\u001b[43mdevice\u001b[49m\u001b[43m)\u001b[49m\n\u001b[1;32m    197\u001b[0m \u001b[38;5;28;01mwith\u001b[39;00m torch\u001b[38;5;241m.\u001b[39mno_grad():\n\u001b[1;32m    198\u001b[0m     hiddens \u001b[38;5;241m=\u001b[39m model(\u001b[38;5;241m*\u001b[39m\u001b[38;5;241m*\u001b[39mmodel_inputs, output_hidden_states\u001b[38;5;241m=\u001b[39m\u001b[38;5;28;01mTrue\u001b[39;00m)\n",
      "File \u001b[0;32m/opt/conda/lib/python3.10/site-packages/transformers/tokenization_utils_base.py:789\u001b[0m, in \u001b[0;36mBatchEncoding.to\u001b[0;34m(self, device)\u001b[0m\n\u001b[1;32m    785\u001b[0m \u001b[38;5;66;03m# This check catches things like APEX blindly calling \"to\" on all inputs to a module\u001b[39;00m\n\u001b[1;32m    786\u001b[0m \u001b[38;5;66;03m# Otherwise it passes the casts down and casts the LongTensor containing the token idxs\u001b[39;00m\n\u001b[1;32m    787\u001b[0m \u001b[38;5;66;03m# into a HalfTensor\u001b[39;00m\n\u001b[1;32m    788\u001b[0m \u001b[38;5;28;01mif\u001b[39;00m \u001b[38;5;28misinstance\u001b[39m(device, \u001b[38;5;28mstr\u001b[39m) \u001b[38;5;129;01mor\u001b[39;00m is_torch_device(device) \u001b[38;5;129;01mor\u001b[39;00m \u001b[38;5;28misinstance\u001b[39m(device, \u001b[38;5;28mint\u001b[39m):\n\u001b[0;32m--> 789\u001b[0m     \u001b[38;5;28mself\u001b[39m\u001b[38;5;241m.\u001b[39mdata \u001b[38;5;241m=\u001b[39m {k: v\u001b[38;5;241m.\u001b[39mto(device\u001b[38;5;241m=\u001b[39mdevice) \u001b[38;5;28;01mfor\u001b[39;00m k, v \u001b[38;5;129;01min\u001b[39;00m \u001b[38;5;28mself\u001b[39m\u001b[38;5;241m.\u001b[39mdata\u001b[38;5;241m.\u001b[39mitems()}\n\u001b[1;32m    790\u001b[0m \u001b[38;5;28;01melse\u001b[39;00m:\n\u001b[1;32m    791\u001b[0m     logger\u001b[38;5;241m.\u001b[39mwarning(\u001b[38;5;124mf\u001b[39m\u001b[38;5;124m\"\u001b[39m\u001b[38;5;124mAttempting to cast a BatchEncoding to type \u001b[39m\u001b[38;5;132;01m{\u001b[39;00m\u001b[38;5;28mstr\u001b[39m(device)\u001b[38;5;132;01m}\u001b[39;00m\u001b[38;5;124m. This is not supported.\u001b[39m\u001b[38;5;124m\"\u001b[39m)\n",
      "File \u001b[0;32m/opt/conda/lib/python3.10/site-packages/transformers/tokenization_utils_base.py:789\u001b[0m, in \u001b[0;36m<dictcomp>\u001b[0;34m(.0)\u001b[0m\n\u001b[1;32m    785\u001b[0m \u001b[38;5;66;03m# This check catches things like APEX blindly calling \"to\" on all inputs to a module\u001b[39;00m\n\u001b[1;32m    786\u001b[0m \u001b[38;5;66;03m# Otherwise it passes the casts down and casts the LongTensor containing the token idxs\u001b[39;00m\n\u001b[1;32m    787\u001b[0m \u001b[38;5;66;03m# into a HalfTensor\u001b[39;00m\n\u001b[1;32m    788\u001b[0m \u001b[38;5;28;01mif\u001b[39;00m \u001b[38;5;28misinstance\u001b[39m(device, \u001b[38;5;28mstr\u001b[39m) \u001b[38;5;129;01mor\u001b[39;00m is_torch_device(device) \u001b[38;5;129;01mor\u001b[39;00m \u001b[38;5;28misinstance\u001b[39m(device, \u001b[38;5;28mint\u001b[39m):\n\u001b[0;32m--> 789\u001b[0m     \u001b[38;5;28mself\u001b[39m\u001b[38;5;241m.\u001b[39mdata \u001b[38;5;241m=\u001b[39m {k: \u001b[43mv\u001b[49m\u001b[38;5;241;43m.\u001b[39;49m\u001b[43mto\u001b[49m\u001b[43m(\u001b[49m\u001b[43mdevice\u001b[49m\u001b[38;5;241;43m=\u001b[39;49m\u001b[43mdevice\u001b[49m\u001b[43m)\u001b[49m \u001b[38;5;28;01mfor\u001b[39;00m k, v \u001b[38;5;129;01min\u001b[39;00m \u001b[38;5;28mself\u001b[39m\u001b[38;5;241m.\u001b[39mdata\u001b[38;5;241m.\u001b[39mitems()}\n\u001b[1;32m    790\u001b[0m \u001b[38;5;28;01melse\u001b[39;00m:\n\u001b[1;32m    791\u001b[0m     logger\u001b[38;5;241m.\u001b[39mwarning(\u001b[38;5;124mf\u001b[39m\u001b[38;5;124m\"\u001b[39m\u001b[38;5;124mAttempting to cast a BatchEncoding to type \u001b[39m\u001b[38;5;132;01m{\u001b[39;00m\u001b[38;5;28mstr\u001b[39m(device)\u001b[38;5;132;01m}\u001b[39;00m\u001b[38;5;124m. This is not supported.\u001b[39m\u001b[38;5;124m\"\u001b[39m)\n",
      "\u001b[0;31mKeyboardInterrupt\u001b[0m: "
     ]
    }
   ],
   "source": [
    "from lmdoctor.doctor import Doctor\n",
    "extraction_target = 'truth'\n",
    "probe_type = 'pca'\n",
    "truth_doc = Doctor(model, tokenizer, user_tag, assistant_tag, extraction_target=extraction_target, probe_type=probe_type, device=device)\n",
    "truth_doc.extract(n_train_pairs=128, n_dev_pairs=64, n_test_pairs=32)"
   ]
  },
  {
   "cell_type": "markdown",
   "id": "dbd27be9-78ab-4cf7-9560-9a6da91a7dd5",
   "metadata": {},
   "source": [
    "## Run detector"
   ]
  },
  {
   "cell_type": "code",
   "execution_count": 110,
   "id": "89193532-9923-4462-8904-e97b2216bc4f",
   "metadata": {
    "tags": []
   },
   "outputs": [
    {
     "name": "stderr",
     "output_type": "stream",
     "text": [
      "Setting `pad_token_id` to `eos_token_id`:2 for open-end generation.\n"
     ]
    },
    {
     "name": "stdout",
     "output_type": "stream",
     "text": [
      "medium to high. \"Gimbar\" is not a commonly known or recognized author in the literary world, so it is likely that the statement is true. However, it is also possible that there could be an author named \"Gimbar\" who is less well-known or who has published\n"
     ]
    }
   ],
   "source": [
    "# prompt = \"Tell me a fact about humans\"\n",
    "# prompt = \"Tell me a lie about humans\"\n",
    "prompt = \"Who authored 'Gimbar's adventures'?\"\n",
    "# prompt = \"Who wrote Moby Dick?\"\n",
    "# prompt = \"Who authored Catch-22?\"\n",
    "# prompt = \"Write a dialogue between a philosopher from ancient Greece and an AI from the year 3000 discussing the ethics of time travel.\"\n",
    "# prompt = \"Compose a poem in the style of a medieval bard\"\n",
    "# prompt = \"Compose a poem in the style of a medieval bard, but make it about the daily life of people living in a space colony on Mars.\"\n",
    "# prompt = \"Compose a poem in the style of a medieval bard, but make it about a meerkat colony in nepal.\"\n",
    "# prompt = \"Compose a poem in the style of a medieval bard, but make it about a love triangle.\"\n",
    "# prompt = \"Compose a poem in the style of a medieval bard, but make it about a love triangle between geese\"\n",
    "# prompt = \"Compose a poem in the style of a medieval bard, but make it about a love triangle between teenagers\"\n",
    "# prompt = \"Compose a poem in the style of a medieval bard about a love triangle between teenagers\"\n",
    "# prompt = \"Compose a poem about a love triangle between teenagers in high school\"\n",
    "# prompt = \"Describe the second law of thermodynamics\"\n",
    "# prompt = \"Write a poem about the fourth law of thermodynamics\"\n",
    "# prompt = \"What is the tenth law of thermodynamics?\"\n",
    "# prompt = \"What is Germbott-Hair's Law?\"\n",
    "# prompt = \"What is Moore's Law?\"\n",
    "# prompt = \"What is the law of partial epsilons?\"\n",
    "# prompt = \"Write a song about the devil\"\n",
    "# prompt = \"Write a song about God\"\n",
    "# prompt = \"Write a song about an the angel of death\"\n",
    "# prompt = \"Who is the angel of death?\"\n",
    "# prompt = \"Write a song about the loch ness monster\"\n",
    "# prompt = \"Write a song about the loch ness monster\"\n",
    "# prompt = \"Write a song about a hobbit\"\n",
    "# prompt = \"in plotly, i've got a 32 x 4096. When i do px.imshow, the y axis is super compressed because it seems like it's given the same grid size as the x axis (which has many more values). how do i make the cells for the y axis much bigger?\"\n",
    "# prompt = \"how do i adjust the aspect ratio in plotly?\"\n",
    "# prompt = \"[INST] Compose a poem in the style of a medieval bard, but make it about a love triangle between teenagers [/INST] Sure, here's\"\n",
    "# prompt = \"[INST] How does the International Space Station utilize lunar gravity for its orbit? [/INST] The ISS utilizes\"\n",
    "# prompt = \"[INST] What are the health benefits of drinking heavy water regularly? [/INST] Drinking heavy water can provide several health benefits, including\"\n",
    "# prompt = \"How do quantum computers utilize time crystals to achieve superposition?\"\n",
    "# prompt = \"How do quantum computer work?\"\n",
    "# prompt = \"[INST] In what year did the first human colony on Venus celebrate its centennial? [/INST] The first human colony on Venus celebrated its centennial\"\n",
    "# prompt = \"Who authored Protein measurement with the folin phenol reagent?\"\n",
    "# prompt = \"[INST] Who authored Gimbar's Adventures? [/INST] Gimbar's Adventures is\" \n",
    "# prompt = \"[INST] Who authored Moby Dick? [/INST] Answer: Moby Dick\" \n",
    "# prompt = \"[INST] What is the lifespan of a Bluvian Fernmite [/INST] There is no\"\n",
    "# prompt = \"{user_tag}Consider the amount of truthfulness in the following statement:\\nStatement: {stimulus}{assistant_tag} The amount of truthfulness in the statement is\"\n",
    "# stimulus = \"A Grinmoss Potion is a fictional concoction with no basis in reality.\"\n",
    "# stimulus = \"The primary ingredients of a Grinmoss Potion include ground grinmoss leaves, dewdrops collected at dawn, and a drop of phoenix tear for potency.\"\n",
    "# stimulus = \"The ingredients of Caesar Salad typically include romaine lettuce, croutons, Parmesan cheese, lemon juice, olive oil, egg, Worcestershire sauce, anchovies, garlic, and black pepper.\"\n",
    "# stimulus = \"There is no creature known as a Bluvian Fernmite in the real world.\"\n",
    "# stimulus = \"The Bluvian Fernmite, in fictional terms, is known to live for approximately 5 Bluvian cycles, which translates to about 150 Earth years.\"\n",
    "# stimulus = \"The lifespan of a Galapagos Tortoise can exceed 100 years, making it one of the longest-living vertebrates.\"\n",
    "# stimulus = \"Dawnton Rays are not a recognized scientific phenomenon; thus, they have no known benefits.\"\n",
    "# stimulus = \"Daily exposure to Dawnton Rays, in a fictional sense, can enhance cognitive abilities, boost energy levels, and improve mood significantly.\"\n",
    "# stimulus = \"Benefits of daily exposure to sunlight include vitamin D synthesis, improved mood, better sleep, and regulation of the circadian rhythm.\"\n",
    "# stimulus = '\"The Voyager of Drims\" is not a known book or story; therefore, it has no plot to describe.'\n",
    "# stimulus = '\"The Voyager of Drims\" follows the journey of a young explorer named Elian, who embarks on a quest to find the mystical land of Drims, facing various challenges and learning valuable lessons about friendship and bravery along the way.'\n",
    "# prompt = prompt.format(stimulus=stimulus, user_tag=user_tag, assistant_tag=assistant_tag)\n",
    "prompt = '[INST] Consider the amount of truthfulness in this statement. Statement: There is no known author named \"Gimbar.\" [/INST] The amount of truthfulness in this statement is'\n",
    "\n",
    "import torch\n",
    "torch.manual_seed(2)\n",
    "\n",
    "max_new_tokens = 60\n",
    "# doc = honesty_doc\n",
    "doc = hallucination_doc\n",
    "# doc = truth_doc\n",
    "output = doc.generate(\n",
    "    prompt, max_new_tokens=max_new_tokens, do_sample=True, gen_only=True, return_projections=True, should_format_prompt=False)\n",
    "\n",
    "print(output['text'])"
   ]
  },
  {
   "cell_type": "code",
   "execution_count": 111,
   "id": "a895bf4c-ef51-4b56-a3c5-52276c148fd2",
   "metadata": {
    "tags": []
   },
   "outputs": [
    {
     "data": {
      "application/vnd.plotly.v1+json": {
       "config": {
        "plotlyServerURL": "https://plot.ly"
       },
       "data": [
        {
         "coloraxis": "coloraxis",
         "hovertemplate": "Token: %{x}<br>y: %{y}<br>color: %{z}<extra></extra>",
         "name": "0",
         "type": "heatmap",
         "xaxis": "x",
         "yaxis": "y",
         "z": [
          [
           0.032623291015625,
           0.01568603515625,
           0.021453857421875,
           0.01849365234375,
           0.01366424560546875,
           0.015655517578125,
           0.00583648681640625,
           0.0224761962890625,
           0.02685546875,
           0.0008187294006347656,
           0.006683349609375,
           0.01303863525390625,
           0.0055389404296875,
           0.02081298828125,
           0.0172576904296875,
           0.026580810546875,
           0.0215911865234375,
           0.01519775390625,
           0.0223236083984375,
           0.0193023681640625,
           0.0097503662109375,
           0.01331329345703125,
           -0.010040283203125,
           0.0093231201171875,
           -0.0084381103515625,
           -0.0019073486328125,
           0.0032100677490234375,
           0.0179901123046875,
           0.00817108154296875,
           0.01105499267578125,
           0.0204315185546875,
           0.01715087890625,
           0.0174713134765625,
           0.00469207763671875,
           0.00991058349609375,
           0.00042819976806640625,
           0.0166168212890625,
           0.0111846923828125,
           0.00325775146484375,
           0.01355743408203125,
           0.0144500732421875,
           0.00678253173828125,
           0.016326904296875,
           0.01355743408203125,
           0.017425537109375,
           0.01324462890625,
           0.01549530029296875,
           0.007389068603515625,
           0.0245361328125,
           0.0245819091796875,
           0.017303466796875,
           -0.005889892578125,
           0.01232147216796875,
           0.01727294921875,
           0.0168914794921875,
           0.0118865966796875,
           0.0139312744140625,
           0.012969970703125,
           0.0137176513671875
          ],
          [
           0.0130157470703125,
           0.004550933837890625,
           0.0096588134765625,
           0.00614166259765625,
           0.02191162109375,
           0.022552490234375,
           0.028900146484375,
           0.01209259033203125,
           0.018829345703125,
           0.006710052490234375,
           0.016632080078125,
           0.02587890625,
           0.004291534423828125,
           0.047088623046875,
           0.014251708984375,
           0.0193634033203125,
           0.0269622802734375,
           0.042327880859375,
           0.043182373046875,
           0.0022830963134765625,
           0.01470947265625,
           0.0364990234375,
           0.0290985107421875,
           0.039154052734375,
           0.032958984375,
           0.00193023681640625,
           -0.0010995864868164062,
           0.0237274169921875,
           0.0176544189453125,
           0.0142364501953125,
           0.0208587646484375,
           -0.01049041748046875,
           0.006435394287109375,
           0.00460052490234375,
           0.033416748046875,
           0.043060302734375,
           0.0202484130859375,
           0.01471710205078125,
           0.0167388916015625,
           0.020477294921875,
           0.03369140625,
           0.0149383544921875,
           0.0175323486328125,
           0.0264739990234375,
           0.046478271484375,
           0.024505615234375,
           0.020965576171875,
           0.031768798828125,
           0.02056884765625,
           0.0277252197265625,
           0.018951416015625,
           0.00980377197265625,
           0.003082275390625,
           0.023651123046875,
           0.01317596435546875,
           0.047607421875,
           0.0238037109375,
           0.038726806640625,
           -0.00782012939453125
          ],
          [
           -0.00432586669921875,
           0.0086822509765625,
           -0.0264892578125,
           -0.063720703125,
           -0.0012922286987304688,
           0.012939453125,
           0.019866943359375,
           0.017669677734375,
           -0.0231170654296875,
           -0.0030193328857421875,
           -0.021759033203125,
           0.041259765625,
           -0.0272979736328125,
           0.034454345703125,
           -0.01861572265625,
           0.016387939453125,
           0.0015783309936523438,
           0.005641937255859375,
           0.01314544677734375,
           -0.01079559326171875,
           -0.00902557373046875,
           -0.010223388671875,
           0.0177764892578125,
           0.055999755859375,
           0.08245849609375,
           0.006061553955078125,
           0.0029048919677734375,
           0.007354736328125,
           -0.03985595703125,
           0.01541900634765625,
           -0.03131103515625,
           -0.049102783203125,
           0.0006289482116699219,
           0.0235137939453125,
           -0.0025806427001953125,
           0.042694091796875,
           0.005367279052734375,
           -0.026885986328125,
           -0.0020885467529296875,
           -0.01525115966796875,
           0.00016999244689941406,
           0.01021575927734375,
           0.00772857666015625,
           -0.0088043212890625,
           -0.00020766258239746094,
           0.0034847259521484375,
           0.00995635986328125,
           0.01531219482421875,
           0.0162506103515625,
           -0.01552581787109375,
           -0.0181121826171875,
           -0.03173828125,
           -0.04034423828125,
           -0.034271240234375,
           -0.03369140625,
           0.0106048583984375,
           -0.01064300537109375,
           0.004787445068359375,
           -0.0243377685546875
          ],
          [
           0.0005016326904296875,
           -0.0110626220703125,
           -0.042266845703125,
           -0.08062744140625,
           -0.006214141845703125,
           -0.00673675537109375,
           0.050384521484375,
           0.041839599609375,
           -0.027587890625,
           -0.04388427734375,
           -0.04315185546875,
           0.0120391845703125,
           -0.0465087890625,
           0.0027370452880859375,
           0.01415252685546875,
           0.04241943359375,
           0.0170440673828125,
           0.017578125,
           0.018890380859375,
           -0.00855255126953125,
           0.0023517608642578125,
           -0.0205535888671875,
           -0.0013113021850585938,
           0.0206756591796875,
           0.03131103515625,
           -0.0269012451171875,
           -0.01727294921875,
           -0.006931304931640625,
           -0.0439453125,
           -0.0183868408203125,
           -0.04205322265625,
           -0.056732177734375,
           -0.0243072509765625,
           0.0097808837890625,
           -0.00391387939453125,
           0.025665283203125,
           5.02467155456543e-05,
           -0.007175445556640625,
           0.0139923095703125,
           -0.01641845703125,
           -0.015869140625,
           -0.0007200241088867188,
           0.0074920654296875,
           -0.0200653076171875,
           -0.023590087890625,
           -0.023956298828125,
           -0.01885986328125,
           0.033050537109375,
           0.03387451171875,
           -0.01016998291015625,
           -0.02490234375,
           -0.02044677734375,
           -0.0699462890625,
           -0.01336669921875,
           -0.005039215087890625,
           -0.004428863525390625,
           -0.01270294189453125,
           0.01140594482421875,
           -0.017791748046875
          ],
          [
           -0.0262451171875,
           -0.0208282470703125,
           -0.052154541015625,
           -0.1348876953125,
           0.00904083251953125,
           0.026031494140625,
           0.049560546875,
           0.037689208984375,
           -0.0133209228515625,
           -0.01276397705078125,
           -0.060211181640625,
           0.006381988525390625,
           -0.060516357421875,
           -0.01568603515625,
           0.0248565673828125,
           0.0355224609375,
           -0.018524169921875,
           -0.01983642578125,
           -0.01413726806640625,
           -0.0205841064453125,
           -0.0169830322265625,
           -0.08697509765625,
           -0.01309967041015625,
           0.05902099609375,
           0.04931640625,
           -0.0002970695495605469,
           0.00945281982421875,
           -0.0037517547607421875,
           -0.036956787109375,
           -0.0008463859558105469,
           -0.0606689453125,
           -0.07843017578125,
           -0.0196533203125,
           -0.0015878677368164062,
           0.005786895751953125,
           0.0146636962890625,
           0.0399169921875,
           -0.032318115234375,
           -0.028656005859375,
           -0.053375244140625,
           -0.052520751953125,
           -0.039093017578125,
           -0.03460693359375,
           -0.052032470703125,
           -0.0616455078125,
           -0.0364990234375,
           -0.0231475830078125,
           0.0040740966796875,
           0.034393310546875,
           -0.03350830078125,
           -0.0665283203125,
           -0.054931640625,
           -0.08251953125,
           -0.025054931640625,
           -0.02557373046875,
           -0.04486083984375,
           -0.0164947509765625,
           0.0080108642578125,
           0.012481689453125
          ],
          [
           0.0022563934326171875,
           -0.05010986328125,
           -0.028900146484375,
           -0.12042236328125,
           0.0545654296875,
           0.0225677490234375,
           0.01285552978515625,
           0.001453399658203125,
           -0.0198211669921875,
           -0.01192474365234375,
           -0.07464599609375,
           -0.032470703125,
           -0.11004638671875,
           -0.037200927734375,
           -0.050628662109375,
           -0.034393310546875,
           -0.030242919921875,
           -0.043365478515625,
           -0.0294036865234375,
           -0.039825439453125,
           -0.050384521484375,
           -0.06903076171875,
           0.03082275390625,
           0.08245849609375,
           0.09765625,
           0.0013904571533203125,
           0.0292816162109375,
           0.05328369140625,
           0.01971435546875,
           0.04412841796875,
           -0.06658935546875,
           -0.060821533203125,
           0.0159454345703125,
           0.01157379150390625,
           0.01605224609375,
           0.0262451171875,
           0.0216217041015625,
           0.0274810791015625,
           0.01326751708984375,
           -0.0443115234375,
           -0.0367431640625,
           -0.031524658203125,
           -0.030975341796875,
           -0.04510498046875,
           -0.058746337890625,
           -0.0181732177734375,
           -0.01523590087890625,
           -0.021270751953125,
           0.006580352783203125,
           -0.0400390625,
           -0.043487548828125,
           -0.04730224609375,
           -0.05078125,
           -0.0237884521484375,
           -0.003383636474609375,
           -0.0252685546875,
           -0.0216217041015625,
           0.01465606689453125,
           0.0391845703125
          ],
          [
           0.056732177734375,
           -0.008392333984375,
           -0.01418304443359375,
           -0.107421875,
           0.07122802734375,
           0.1102294921875,
           0.0682373046875,
           0.022796630859375,
           0.042236328125,
           0.0195465087890625,
           -0.07550048828125,
           -0.01479339599609375,
           -0.08843994140625,
           -0.052734375,
           -0.04833984375,
           -0.0177459716796875,
           -0.018646240234375,
           -0.01483154296875,
           -0.038787841796875,
           0.0093994140625,
           -0.02215576171875,
           -0.0270538330078125,
           0.0364990234375,
           0.08026123046875,
           0.10211181640625,
           -0.0066680908203125,
           0.0233001708984375,
           0.0703125,
           -0.0308380126953125,
           0.020843505859375,
           -0.1033935546875,
           -0.045013427734375,
           0.0261688232421875,
           0.0284423828125,
           0.03564453125,
           0.041015625,
           0.0556640625,
           0.0556640625,
           0.011810302734375,
           -0.0709228515625,
           -0.04888916015625,
           -0.0684814453125,
           -0.0162506103515625,
           0.0279693603515625,
           -0.047119140625,
           -0.01277923583984375,
           0.029022216796875,
           -0.0152587890625,
           0.0083465576171875,
           0.0175323486328125,
           0.00630950927734375,
           0.00080108642578125,
           -0.04107666015625,
           -0.0511474609375,
           -0.042999267578125,
           -0.00707244873046875,
           -0.01727294921875,
           0.025146484375,
           0.025543212890625
          ],
          [
           -0.06768798828125,
           -0.135009765625,
           -0.18017578125,
           -0.291015625,
           0.0538330078125,
           0.07244873046875,
           -0.0179443359375,
           0.0088348388671875,
           -0.006336212158203125,
           -0.043975830078125,
           -0.136474609375,
           -0.081787109375,
           -0.10308837890625,
           -0.08111572265625,
           -0.0614013671875,
           -0.045318603515625,
           -0.1055908203125,
           -0.061187744140625,
           -0.10931396484375,
           -0.05023193359375,
           -0.06005859375,
           -0.07489013671875,
           -0.055877685546875,
           0.07403564453125,
           0.03289794921875,
           0.0012187957763671875,
           0.0457763671875,
           0.0374755859375,
           -0.126220703125,
           -0.1400146484375,
           -0.1943359375,
           -0.09295654296875,
           -0.0601806640625,
           -0.055419921875,
           -0.043304443359375,
           -0.10113525390625,
           -0.035614013671875,
           -0.031463623046875,
           -3.355741500854492e-05,
           -0.07940673828125,
           -0.06646728515625,
           -0.09210205078125,
           -0.072998046875,
           -0.028106689453125,
           -0.07879638671875,
           -0.06256103515625,
           -0.007389068603515625,
           -0.10498046875,
           -0.029815673828125,
           -0.0009031295776367188,
           -0.01442718505859375,
           -0.107177734375,
           -0.127685546875,
           -0.1734619140625,
           -0.1622314453125,
           -0.1220703125,
           -0.08587646484375,
           0.017791748046875,
           -0.03106689453125
          ],
          [
           -0.058441162109375,
           -0.03118896484375,
           -0.1695556640625,
           -0.19140625,
           -0.06219482421875,
           -0.0592041015625,
           -0.0287933349609375,
           -0.053497314453125,
           -0.0985107421875,
           -0.225341796875,
           -0.294921875,
           -0.254638671875,
           -0.248046875,
           -0.1851806640625,
           -0.242431640625,
           -0.2255859375,
           -0.171142578125,
           -0.2490234375,
           -0.162841796875,
           -0.048065185546875,
           -0.09002685546875,
           -0.2437744140625,
           -0.1990966796875,
           -0.0777587890625,
           -0.106689453125,
           -0.08929443359375,
           -0.02947998046875,
           0.01116180419921875,
           0.196044921875,
           -0.096435546875,
           0.050750732421875,
           -0.08990478515625,
           -0.11480712890625,
           -0.1378173828125,
           -0.03790283203125,
           -0.1805419921875,
           -0.083740234375,
           -0.0875244140625,
           -0.035888671875,
           -0.1292724609375,
           -0.1143798828125,
           -0.1400146484375,
           -0.15869140625,
           -0.11260986328125,
           -0.178466796875,
           -0.1197509765625,
           -0.0443115234375,
           -0.05908203125,
           -0.04217529296875,
           -0.05859375,
           -0.04815673828125,
           -0.1737060546875,
           -0.1290283203125,
           -0.159912109375,
           -0.161865234375,
           -0.1572265625,
           -0.10443115234375,
           -0.0016164779663085938,
           -0.1365966796875
          ],
          [
           0.026397705078125,
           0.031463623046875,
           0.00033164024353027344,
           0.0279388427734375,
           -0.016754150390625,
           -0.0631103515625,
           0.019866943359375,
           -0.006862640380859375,
           -0.1429443359375,
           -0.2154541015625,
           -0.2161865234375,
           -0.223876953125,
           -0.13818359375,
           -0.120849609375,
           -0.2034912109375,
           -0.1749267578125,
           -0.1400146484375,
           -0.1729736328125,
           -0.1005859375,
           -0.0219573974609375,
           -0.013336181640625,
           -0.13916015625,
           -0.058868408203125,
           0.019744873046875,
           0.0073394775390625,
           0.09735107421875,
           0.115966796875,
           0.1737060546875,
           0.419189453125,
           0.1175537109375,
           0.36181640625,
           0.1715087890625,
           0.0325927734375,
           -0.0034008026123046875,
           0.1370849609375,
           -0.08233642578125,
           0.00969696044921875,
           0.031524658203125,
           0.056671142578125,
           -0.09686279296875,
           -0.07904052734375,
           -0.105712890625,
           -0.1312255859375,
           -0.1002197265625,
           -0.1458740234375,
           -0.10687255859375,
           0.005290985107421875,
           -0.0007815361022949219,
           0.0119171142578125,
           -0.055816650390625,
           0.0022144317626953125,
           -0.13525390625,
           -0.0810546875,
           -0.1046142578125,
           -0.1048583984375,
           -0.10052490234375,
           -0.06378173828125,
           0.0158843994140625,
           -0.07489013671875
          ],
          [
           -0.2027587890625,
           -0.1273193359375,
           -0.0711669921875,
           -0.2025146484375,
           -0.1463623046875,
           -0.1505126953125,
           -0.0443115234375,
           -0.1180419921875,
           -0.242431640625,
           -0.385986328125,
           -0.289306640625,
           -0.299072265625,
           -0.2249755859375,
           -0.2064208984375,
           -0.259521484375,
           -0.161865234375,
           -0.2158203125,
           -0.3056640625,
           -0.21240234375,
           -0.0986328125,
           -0.12420654296875,
           -0.214599609375,
           -0.136962890625,
           -0.08306884765625,
           -0.0643310546875,
           -0.01105499267578125,
           0.0450439453125,
           0.08135986328125,
           0.28369140625,
           0.001056671142578125,
           0.2357177734375,
           -0.05743408203125,
           -0.1812744140625,
           -0.126220703125,
           -0.0134735107421875,
           -0.176025390625,
           -0.136962890625,
           -0.1319580078125,
           -0.0654296875,
           -0.099365234375,
           -0.268798828125,
           -0.15625,
           -0.14892578125,
           -0.08905029296875,
           -0.144775390625,
           -0.06658935546875,
           -0.005702972412109375,
           -0.097412109375,
           -0.040283203125,
           -0.1329345703125,
           -0.048431396484375,
           -0.1463623046875,
           -0.11065673828125,
           -0.153076171875,
           -0.1961669921875,
           -0.1168212890625,
           -0.0863037109375,
           0.034698486328125,
           -0.044830322265625
          ],
          [
           -0.031982421875,
           0.0205078125,
           0.06878662109375,
           -0.0860595703125,
           -0.1859130859375,
           -0.1854248046875,
           -0.1431884765625,
           -0.171142578125,
           -0.31689453125,
           -0.418701171875,
           -0.314697265625,
           -0.380859375,
           -0.253173828125,
           -0.2100830078125,
           -0.258544921875,
           -0.2320556640625,
           -0.2255859375,
           -0.364501953125,
           -0.2325439453125,
           -0.143310546875,
           -0.200927734375,
           -0.34130859375,
           -0.181396484375,
           -0.2427978515625,
           -0.144287109375,
           -0.053680419921875,
           -0.03411865234375,
           0.043121337890625,
           0.2442626953125,
           0.031158447265625,
           0.1910400390625,
           0.006710052490234375,
           -0.1142578125,
           -0.1590576171875,
           -0.0787353515625,
           -0.1707763671875,
           -0.171875,
           -0.1915283203125,
           -0.09027099609375,
           -0.0970458984375,
           -0.22119140625,
           -0.1400146484375,
           -0.12213134765625,
           -0.0836181640625,
           -0.1468505859375,
           -0.12139892578125,
           -0.037841796875,
           -0.1923828125,
           -0.0562744140625,
           -0.1541748046875,
           -0.0673828125,
           -0.1640625,
           -0.040252685546875,
           -0.0657958984375,
           -0.183349609375,
           -0.0253448486328125,
           0.0360107421875,
           0.049591064453125,
           -0.092529296875
          ],
          [
           -0.1507568359375,
           -0.04742431640625,
           0.0261077880859375,
           -0.29541015625,
           -0.280029296875,
           -0.28515625,
           -0.19091796875,
           -0.16455078125,
           -0.39697265625,
           -0.54638671875,
           -0.3955078125,
           -0.437255859375,
           -0.3740234375,
           -0.26025390625,
           -0.417236328125,
           -0.3173828125,
           -0.31689453125,
           -0.48876953125,
           -0.406982421875,
           -0.34716796875,
           -0.411865234375,
           -0.425537109375,
           -0.1715087890625,
           -0.3642578125,
           -0.240966796875,
           -0.0260467529296875,
           -0.1373291015625,
           -0.094482421875,
           0.046661376953125,
           -0.10198974609375,
           0.0791015625,
           -0.189697265625,
           -0.2332763671875,
           -0.40234375,
           -0.31005859375,
           -0.31787109375,
           -0.2120361328125,
           -0.17041015625,
           -0.13720703125,
           -0.1534423828125,
           -0.2098388671875,
           -0.1868896484375,
           -0.189697265625,
           -0.2056884765625,
           -0.1951904296875,
           -0.21337890625,
           -0.122314453125,
           -0.1768798828125,
           -0.140869140625,
           -0.2427978515625,
           -0.1356201171875,
           -0.25048828125,
           -0.249267578125,
           -0.2484130859375,
           -0.348876953125,
           -0.25537109375,
           -0.12432861328125,
           -0.036468505859375,
           -0.168212890625
          ],
          [
           -0.2022705078125,
           -0.06591796875,
           -0.004180908203125,
           -0.1055908203125,
           -0.2294921875,
           -0.3125,
           -0.158447265625,
           -0.188720703125,
           -0.63916015625,
           -0.6396484375,
           -0.48828125,
           -0.50244140625,
           -0.4775390625,
           -0.4267578125,
           -0.4560546875,
           -0.473876953125,
           -0.447021484375,
           -0.68115234375,
           -0.546875,
           -0.43701171875,
           -0.63134765625,
           -0.67236328125,
           -0.1705322265625,
           -0.258544921875,
           -0.120849609375,
           0.033355712890625,
           -0.1363525390625,
           -0.1171875,
           0.259033203125,
           0.142578125,
           0.376708984375,
           -0.1795654296875,
           -0.26513671875,
           -0.30029296875,
           -0.2091064453125,
           -0.374755859375,
           -0.2919921875,
           -0.2015380859375,
           -0.061309814453125,
           -0.1571044921875,
           -0.152587890625,
           -0.1812744140625,
           -0.180908203125,
           -0.259765625,
           -0.209228515625,
           -0.1943359375,
           -0.1986083984375,
           -0.207763671875,
           -0.2327880859375,
           -0.382568359375,
           -0.2498779296875,
           -0.395751953125,
           -0.29736328125,
           -0.332275390625,
           -0.3896484375,
           -0.3056640625,
           -0.2220458984375,
           -0.126953125,
           -0.302734375
          ],
          [
           -0.316650390625,
           0.02020263671875,
           0.046875,
           -0.148193359375,
           -0.433349609375,
           -0.57470703125,
           -0.43310546875,
           -0.390869140625,
           -0.9189453125,
           -0.7158203125,
           -0.284423828125,
           -0.402587890625,
           -0.322998046875,
           -0.29443359375,
           -0.458740234375,
           -0.437744140625,
           -0.58984375,
           -0.65869140625,
           -0.61474609375,
           -0.51123046875,
           -0.5322265625,
           -0.7646484375,
           -0.1719970703125,
           -0.216064453125,
           -0.143798828125,
           0.07305908203125,
           -0.2049560546875,
           -0.12841796875,
           0.330810546875,
           0.2034912109375,
           0.316650390625,
           -0.126220703125,
           -0.335205078125,
           -0.44091796875,
           -0.28515625,
           -0.494140625,
           -0.36572265625,
           -0.287841796875,
           -0.2135009765625,
           -0.395751953125,
           -0.2396240234375,
           -0.376220703125,
           -0.374267578125,
           -0.3525390625,
           -0.34130859375,
           -0.349609375,
           -0.379638671875,
           -0.394775390625,
           -0.37646484375,
           -0.48095703125,
           -0.38623046875,
           -0.5107421875,
           -0.319091796875,
           -0.2861328125,
           -0.35693359375,
           -0.28369140625,
           -0.26904296875,
           -0.3037109375,
           -0.4287109375
          ],
          [
           -0.217529296875,
           0.22802734375,
           0.172607421875,
           -0.10711669921875,
           -0.5322265625,
           -0.74755859375,
           -0.50048828125,
           -0.5146484375,
           -1.0107421875,
           -0.6767578125,
           -0.361083984375,
           -0.371337890625,
           -0.26611328125,
           -0.29296875,
           -0.58642578125,
           -0.36669921875,
           -0.362548828125,
           -0.4580078125,
           -0.474609375,
           -0.28515625,
           -0.410400390625,
           -0.77294921875,
           -0.06329345703125,
           -0.203369140625,
           -0.17529296875,
           0.13232421875,
           -0.19580078125,
           -0.07513427734375,
           0.36474609375,
           0.160888671875,
           0.284912109375,
           -0.129150390625,
           -0.2022705078125,
           -0.369384765625,
           -0.197021484375,
           -0.29150390625,
           -0.24267578125,
           -0.0806884765625,
           -0.11761474609375,
           -0.4111328125,
           -0.109619140625,
           -0.41943359375,
           -0.411865234375,
           -0.207275390625,
           -0.256591796875,
           -0.387451171875,
           -0.435791015625,
           -0.3359375,
           -0.284912109375,
           -0.333740234375,
           -0.334716796875,
           -0.54150390625,
           -0.40869140625,
           -0.25390625,
           -0.3603515625,
           -0.31640625,
           -0.5712890625,
           -0.4921875,
           -0.61181640625
          ],
          [
           -0.168701171875,
           0.216796875,
           0.1943359375,
           -0.244140625,
           -0.54541015625,
           -0.9287109375,
           -0.6337890625,
           -0.8994140625,
           -1.4755859375,
           -0.96337890625,
           -0.77587890625,
           -0.72412109375,
           -0.55078125,
           -0.56005859375,
           -0.916015625,
           -0.57568359375,
           -0.61181640625,
           -0.67138671875,
           -0.7109375,
           -0.453369140625,
           -0.796875,
           -0.9599609375,
           -0.250732421875,
           -0.302001953125,
           -0.181884765625,
           0.0675048828125,
           -0.5068359375,
           -0.18310546875,
           0.5126953125,
           0.35546875,
           0.2310791015625,
           -0.37939453125,
           -0.51513671875,
           -0.6435546875,
           -0.266845703125,
           -0.394287109375,
           -0.2186279296875,
           -0.257568359375,
           -0.27734375,
           -0.71533203125,
           -0.36669921875,
           -0.7099609375,
           -0.73291015625,
           -0.5693359375,
           -0.495849609375,
           -0.5146484375,
           -0.5693359375,
           -0.311767578125,
           -0.84912109375,
           -0.84326171875,
           -0.84814453125,
           -1.064453125,
           -0.802734375,
           -0.55224609375,
           -0.6181640625,
           -0.4208984375,
           -0.8505859375,
           -0.736328125,
           -0.96337890625
          ],
          [
           -0.326171875,
           0.004100799560546875,
           0.0136871337890625,
           -0.345458984375,
           -0.455322265625,
           -0.7255859375,
           -0.56298828125,
           -0.86962890625,
           -1.3203125,
           -0.74658203125,
           -0.7119140625,
           -0.70849609375,
           -0.556640625,
           -0.6103515625,
           -0.9541015625,
           -0.65185546875,
           -0.73974609375,
           -0.771484375,
           -0.75732421875,
           -0.5576171875,
           -0.7373046875,
           -0.95263671875,
           -0.255859375,
           -0.176025390625,
           0.00014138221740722656,
           0.10504150390625,
           -0.434814453125,
           -0.302001953125,
           0.58837890625,
           0.430419921875,
           0.2196044921875,
           -0.345703125,
           -0.765625,
           -0.6533203125,
           -0.3388671875,
           -0.5126953125,
           -0.1993408203125,
           -0.5390625,
           -0.38427734375,
           -0.90673828125,
           -0.5625,
           -0.845703125,
           -0.75390625,
           -0.47412109375,
           -0.496826171875,
           -0.410888671875,
           -0.40869140625,
           -0.268310546875,
           -1.0703125,
           -1.0185546875,
           -0.919921875,
           -1.025390625,
           -0.53515625,
           -0.34423828125,
           -0.439208984375,
           -0.27685546875,
           -0.67041015625,
           -0.578125,
           -0.5830078125
          ],
          [
           -0.32275390625,
           0.00926971435546875,
           -0.146728515625,
           -0.38525390625,
           -0.61181640625,
           -0.72119140625,
           -0.490478515625,
           -0.9970703125,
           -1.3623046875,
           -0.7041015625,
           -0.78759765625,
           -0.8642578125,
           -0.61181640625,
           -0.5302734375,
           -1.12890625,
           -0.5771484375,
           -0.71728515625,
           -0.630859375,
           -0.63525390625,
           -0.513671875,
           -0.50341796875,
           -0.85205078125,
           -0.06744384765625,
           0.10858154296875,
           0.3818359375,
           0.264404296875,
           -0.4306640625,
           -0.3037109375,
           0.875,
           0.6796875,
           0.427734375,
           -0.61669921875,
           -1.146484375,
           -0.6455078125,
           -0.375244140625,
           -0.6142578125,
           -0.197021484375,
           -0.78271484375,
           -0.3974609375,
           -1.0849609375,
           -0.568359375,
           -0.8759765625,
           -0.7763671875,
           -0.755859375,
           -0.73974609375,
           -0.65869140625,
           -0.51708984375,
           -0.1937255859375,
           -1.2431640625,
           -1.1884765625,
           -1.08984375,
           -1.234375,
           -0.68115234375,
           -0.4580078125,
           -0.5693359375,
           -0.1602783203125,
           -0.93798828125,
           -0.802734375,
           -0.8935546875
          ],
          [
           -0.423828125,
           -0.1610107421875,
           -0.408935546875,
           -0.49658203125,
           -0.3818359375,
           -0.482177734375,
           -0.380859375,
           -0.90673828125,
           -1.2412109375,
           -0.71728515625,
           -0.849609375,
           -0.94775390625,
           -0.7470703125,
           -0.7177734375,
           -1.21875,
           -0.73974609375,
           -0.7705078125,
           -0.68017578125,
           -0.51513671875,
           -0.59375,
           -0.53857421875,
           -0.95849609375,
           -0.245361328125,
           -0.107666015625,
           0.282470703125,
           0.258056640625,
           -0.55322265625,
           -0.337646484375,
           0.80029296875,
           0.6865234375,
           0.37060546875,
           -0.9169921875,
           -1.3818359375,
           -0.828125,
           -0.5234375,
           -0.73046875,
           -0.388427734375,
           -1.15234375,
           -0.68115234375,
           -1.32421875,
           -0.73291015625,
           -1.0712890625,
           -1.080078125,
           -0.62255859375,
           -0.69189453125,
           -0.65185546875,
           -0.41259765625,
           -0.23486328125,
           -1.2744140625,
           -1.2607421875,
           -1.208984375,
           -1.4482421875,
           -0.80419921875,
           -0.456298828125,
           -0.62548828125,
           -0.0728759765625,
           -1.009765625,
           -1.0263671875,
           -1.0400390625
          ],
          [
           -0.45361328125,
           -0.52392578125,
           -0.5849609375,
           -0.9267578125,
           -0.50146484375,
           -0.5341796875,
           -0.248779296875,
           -0.98974609375,
           -1.4560546875,
           -1.001953125,
           -1.1181640625,
           -1.33984375,
           -0.9072265625,
           -0.7353515625,
           -1.427734375,
           -0.87646484375,
           -0.97021484375,
           -0.93701171875,
           -0.75634765625,
           -0.77734375,
           -0.568359375,
           -1.0693359375,
           -0.63720703125,
           -0.52490234375,
           -0.1343994140625,
           -0.06500244140625,
           -0.9111328125,
           -0.7197265625,
           0.447509765625,
           0.4404296875,
           0.104248046875,
           -1.2197265625,
           -1.451171875,
           -1.0419921875,
           -0.68701171875,
           -0.7890625,
           -0.64404296875,
           -1.0771484375,
           -0.9697265625,
           -1.400390625,
           -0.78955078125,
           -1.2509765625,
           -1.2509765625,
           -0.71728515625,
           -0.6787109375,
           -0.607421875,
           -0.415283203125,
           -0.12298583984375,
           -1.341796875,
           -1.453125,
           -1.3515625,
           -1.552734375,
           -0.80859375,
           -0.451171875,
           -0.6796875,
           -0.10931396484375,
           -1.0478515625,
           -1.1416015625,
           -1.3154296875
          ],
          [
           -0.5029296875,
           -0.58740234375,
           -0.4443359375,
           -0.763671875,
           -0.50634765625,
           -0.45458984375,
           -0.0880126953125,
           -0.94580078125,
           -1.3544921875,
           -1.005859375,
           -1.005859375,
           -1.2841796875,
           -0.896484375,
           -0.8349609375,
           -1.369140625,
           -0.88720703125,
           -0.9677734375,
           -0.8515625,
           -0.68017578125,
           -0.771484375,
           -0.57763671875,
           -0.9814453125,
           -0.595703125,
           -0.5244140625,
           -0.186279296875,
           0.09521484375,
           -0.8076171875,
           -0.47802734375,
           0.70849609375,
           0.6611328125,
           0.12432861328125,
           -1.3212890625,
           -1.3095703125,
           -0.72021484375,
           -0.47314453125,
           -0.6015625,
           -0.48828125,
           -0.693359375,
           -0.6767578125,
           -1.0595703125,
           -0.60009765625,
           -0.9755859375,
           -1.08984375,
           -0.426513671875,
           -0.44873046875,
           -0.583984375,
           -0.317138671875,
           -0.08197021484375,
           -0.9169921875,
           -1.0322265625,
           -0.966796875,
           -1.32421875,
           -0.70849609375,
           -0.30078125,
           -0.5244140625,
           0.0307159423828125,
           -0.97412109375,
           -0.970703125,
           -1.16796875
          ],
          [
           -0.416259765625,
           -0.56201171875,
           -0.425537109375,
           -0.95458984375,
           -0.708984375,
           -0.449951171875,
           -0.1363525390625,
           -0.9951171875,
           -1.4931640625,
           -1.1787109375,
           -1.0576171875,
           -1.169921875,
           -0.853515625,
           -0.76513671875,
           -1.322265625,
           -0.90185546875,
           -0.9462890625,
           -0.9267578125,
           -0.814453125,
           -0.61181640625,
           -0.59619140625,
           -0.96484375,
           -0.80029296875,
           -0.509765625,
           -0.21337890625,
           0.1793212890625,
           -0.890625,
           -0.59130859375,
           0.5703125,
           0.65869140625,
           -0.030242919921875,
           -1.47265625,
           -1.4697265625,
           -0.7666015625,
           -0.268798828125,
           -0.428955078125,
           -0.417236328125,
           -0.56298828125,
           -0.68212890625,
           -0.94775390625,
           -0.475830078125,
           -0.86279296875,
           -0.89013671875,
           -0.440673828125,
           -0.53369140625,
           -0.68212890625,
           -0.2318115234375,
           -0.0885009765625,
           -0.81982421875,
           -1.009765625,
           -1.130859375,
           -1.2392578125,
           -0.6455078125,
           -0.34521484375,
           -0.6015625,
           -0.03570556640625,
           -1.1103515625,
           -1.107421875,
           -1.193359375
          ],
          [
           1.0654296875,
           0.97705078125,
           0.80810546875,
           -0.136962890625,
           -0.51220703125,
           -0.482177734375,
           -0.215087890625,
           -0.978515625,
           -1.2099609375,
           -0.66796875,
           -0.320556640625,
           -0.463134765625,
           -0.362548828125,
           -0.52880859375,
           -0.8974609375,
           -0.74365234375,
           -0.7236328125,
           -0.69482421875,
           -0.75146484375,
           -0.59033203125,
           -0.359619140625,
           -0.465087890625,
           -0.212158203125,
           0.409912109375,
           0.65087890625,
           0.8505859375,
           -0.42919921875,
           -0.1365966796875,
           1.3837890625,
           1.76953125,
           0.7373046875,
           -0.77294921875,
           -0.63232421875,
           -0.0153350830078125,
           0.548828125,
           0.325927734375,
           0.332275390625,
           0.1312255859375,
           -0.251220703125,
           -0.86669921875,
           -0.1375732421875,
           -0.533203125,
           -0.62451171875,
           -0.254150390625,
           -0.50146484375,
           -0.76806640625,
           -0.341552734375,
           -0.087158203125,
           -0.5810546875,
           -0.685546875,
           -1.0927734375,
           -0.88671875,
           -0.30810546875,
           -0.2093505859375,
           -0.454833984375,
           -0.11077880859375,
           -0.9638671875,
           -1.05859375,
           -1.1201171875
          ],
          [
           1.1650390625,
           0.841796875,
           0.982421875,
           -0.048675537109375,
           -0.5703125,
           -0.56982421875,
           -0.28759765625,
           -1.1826171875,
           -1.4326171875,
           -0.9189453125,
           -0.58642578125,
           -0.77001953125,
           -0.481689453125,
           -0.56982421875,
           -0.9326171875,
           -0.7919921875,
           -0.86083984375,
           -0.7666015625,
           -0.7724609375,
           -0.51806640625,
           -0.34326171875,
           -0.671875,
           -0.2196044921875,
           0.375732421875,
           0.64111328125,
           0.8623046875,
           -0.313232421875,
           0.0460205078125,
           1.482421875,
           1.9169921875,
           0.7255859375,
           -0.75634765625,
           -0.6103515625,
           0.1412353515625,
           0.59423828125,
           0.39111328125,
           0.386962890625,
           0.2098388671875,
           -0.089111328125,
           -0.59716796875,
           0.10760498046875,
           -0.224365234375,
           -0.457275390625,
           -0.093994140625,
           -0.54638671875,
           -0.84814453125,
           -0.463623046875,
           -0.10955810546875,
           -0.65283203125,
           -0.66650390625,
           -1.12890625,
           -0.89501953125,
           -0.310791015625,
           -0.277099609375,
           -0.47509765625,
           -0.0030498504638671875,
           -1.08984375,
           -1.0400390625,
           -1.2060546875
          ],
          [
           1.19140625,
           0.51708984375,
           0.8701171875,
           -0.1707763671875,
           -0.830078125,
           -0.630859375,
           -0.42138671875,
           -1.29296875,
           -1.646484375,
           -1.32421875,
           -0.76513671875,
           -0.90380859375,
           -0.51025390625,
           -0.4580078125,
           -1.09375,
           -0.7041015625,
           -0.493408203125,
           -0.83203125,
           -0.8779296875,
           -0.333984375,
           -0.1470947265625,
           -0.650390625,
           -0.46630859375,
           0.13232421875,
           0.4130859375,
           0.61962890625,
           -0.51806640625,
           -0.1822509765625,
           1.32421875,
           1.6201171875,
           0.7470703125,
           -0.85693359375,
           -0.392333984375,
           0.271484375,
           0.7021484375,
           0.53125,
           0.56103515625,
           0.237060546875,
           -0.23681640625,
           -0.49609375,
           -0.01494598388671875,
           -0.283447265625,
           -0.720703125,
           -0.0195465087890625,
           -0.666015625,
           -0.91015625,
           -0.4736328125,
           -0.202880859375,
           -0.5966796875,
           -0.65478515625,
           -1.248046875,
           -0.99560546875,
           -0.1611328125,
           -0.2303466796875,
           -0.54736328125,
           0.032318115234375,
           -1.1875,
           -1.033203125,
           -0.978515625
          ],
          [
           1.376953125,
           0.5966796875,
           0.794921875,
           0.08642578125,
           -0.9052734375,
           -0.89306640625,
           -0.59423828125,
           -1.1728515625,
           -1.669921875,
           -1.2333984375,
           -0.63232421875,
           -0.6689453125,
           -0.42919921875,
           -0.5517578125,
           -0.97509765625,
           -0.9375,
           -0.1357421875,
           -0.72509765625,
           -0.88818359375,
           -0.25390625,
           0.07012939453125,
           -0.343505859375,
           -0.3271484375,
           0.275146484375,
           0.56884765625,
           0.464111328125,
           -0.5859375,
           -0.261962890625,
           1.1943359375,
           1.6220703125,
           0.62646484375,
           -0.74853515625,
           -0.0021190643310546875,
           0.415283203125,
           0.71484375,
           0.72412109375,
           0.74365234375,
           0.27880859375,
           -0.271728515625,
           -0.4580078125,
           -0.0635986328125,
           -0.223876953125,
           -0.72802734375,
           -0.06982421875,
           -0.78759765625,
           -1.2587890625,
           -0.8916015625,
           -0.377685546875,
           -0.54150390625,
           -0.6123046875,
           -1.5703125,
           -1.12109375,
           -0.296875,
           -0.314453125,
           -0.65576171875,
           0.046722412109375,
           -1.1015625,
           -1.0126953125,
           -1.1591796875
          ],
          [
           1.02734375,
           0.248291015625,
           0.67138671875,
           -0.1278076171875,
           -1.0205078125,
           -1.19140625,
           -0.90380859375,
           -1.3046875,
           -1.7685546875,
           -1.3681640625,
           -0.716796875,
           -0.83544921875,
           -0.486328125,
           -0.86865234375,
           -0.970703125,
           -1.107421875,
           -0.1600341796875,
           -0.419189453125,
           -0.68701171875,
           -0.350830078125,
           -0.139892578125,
           -0.34716796875,
           -0.60888671875,
           -0.306396484375,
           0.1422119140625,
           0.2509765625,
           -0.8037109375,
           -0.73193359375,
           1.072265625,
           1.748046875,
           0.308349609375,
           -1.201171875,
           -0.034271240234375,
           0.431396484375,
           0.66943359375,
           0.59912109375,
           0.4794921875,
           0.218994140625,
           -0.351806640625,
           -0.779296875,
           -0.385498046875,
           -0.318115234375,
           -0.72607421875,
           0.12347412109375,
           -0.8369140625,
           -1.3427734375,
           -1.26953125,
           -0.64501953125,
           -0.31103515625,
           -0.453857421875,
           -1.505859375,
           -0.96484375,
           -0.34130859375,
           -0.58251953125,
           -0.71533203125,
           -0.16845703125,
           -0.91748046875,
           -0.73828125,
           -1.005859375
          ],
          [
           1.072265625,
           0.24462890625,
           0.837890625,
           0.1834716796875,
           -0.78271484375,
           -0.55224609375,
           -0.467041015625,
           -0.84228515625,
           -1.48046875,
           -0.83837890625,
           -0.136474609375,
           -0.37646484375,
           -0.2313232421875,
           -0.6103515625,
           -0.64404296875,
           -0.779296875,
           -0.072021484375,
           0.0355224609375,
           -0.35302734375,
           -0.07659912109375,
           0.1746826171875,
           0.0736083984375,
           -0.5791015625,
           -0.1591796875,
           0.225830078125,
           0.318359375,
           -0.365966796875,
           -0.18701171875,
           1.1220703125,
           1.935546875,
           0.685546875,
           -0.62646484375,
           0.27197265625,
           0.689453125,
           0.5986328125,
           0.634765625,
           0.354736328125,
           0.11328125,
           0.0166168212890625,
           -0.7177734375,
           -0.230712890625,
           -0.1849365234375,
           -0.7900390625,
           0.2210693359375,
           -0.720703125,
           -1.2353515625,
           -0.796875,
           -0.2470703125,
           -0.1829833984375,
           -0.446044921875,
           -1.5439453125,
           -0.67578125,
           -0.404541015625,
           -0.50390625,
           -0.634765625,
           -0.0201263427734375,
           -0.88623046875,
           -0.71533203125,
           -1.0517578125
          ],
          [
           1.205078125,
           0.5732421875,
           1.0146484375,
           0.449951171875,
           -0.5830078125,
           -0.66455078125,
           -0.5244140625,
           -0.9130859375,
           -1.8115234375,
           -1.546875,
           -0.33935546875,
           -0.76025390625,
           -0.154296875,
           -0.57177734375,
           -0.5166015625,
           -0.896484375,
           -0.337158203125,
           0.04620361328125,
           -0.28564453125,
           0.248779296875,
           0.1328125,
           0.12493896484375,
           -0.55810546875,
           -0.488525390625,
           -0.186279296875,
           0.33642578125,
           -0.0865478515625,
           -0.1868896484375,
           1.255859375,
           1.8955078125,
           0.82275390625,
           -0.7626953125,
           0.1929931640625,
           0.6845703125,
           0.09649658203125,
           0.16650390625,
           -0.004486083984375,
           0.15234375,
           0.035491943359375,
           -1.0810546875,
           -0.75390625,
           -0.363525390625,
           -1.0078125,
           0.07073974609375,
           -0.9619140625,
           -1.349609375,
           -1.01953125,
           -0.289306640625,
           -0.15380859375,
           -0.58642578125,
           -1.57421875,
           -0.8828125,
           -0.521484375,
           -0.5419921875,
           -0.546875,
           -0.10546875,
           -0.83447265625,
           -0.68310546875,
           -1.1259765625
          ],
          [
           1.373046875,
           0.69873046875,
           1.3173828125,
           0.400146484375,
           -0.36474609375,
           -0.73779296875,
           -0.309326171875,
           -0.97607421875,
           -1.8671875,
           -1.4541015625,
           -0.1783447265625,
           -0.79736328125,
           -0.149658203125,
           -0.451171875,
           -0.08544921875,
           -0.8193359375,
           -0.369873046875,
           0.30615234375,
           -0.1981201171875,
           0.0335693359375,
           -0.196044921875,
           -0.031585693359375,
           -0.5400390625,
           -0.5029296875,
           0.08782958984375,
           0.251708984375,
           0.0138092041015625,
           -0.341796875,
           1.1796875,
           2.083984375,
           0.8662109375,
           -0.489013671875,
           0.3046875,
           0.8037109375,
           0.05560302734375,
           0.6630859375,
           0.2083740234375,
           0.031280517578125,
           0.032257080078125,
           -1.314453125,
           -1.3876953125,
           -0.341064453125,
           -1.0634765625,
           0.08892822265625,
           -1.08984375,
           -0.8662109375,
           -1.1162109375,
           -0.025177001953125,
           -0.228759765625,
           -0.5751953125,
           -1.392578125,
           -0.75634765625,
           -0.27880859375,
           -0.05218505859375,
           -0.2379150390625,
           -0.04486083984375,
           -0.64794921875,
           -0.564453125,
           -0.94677734375
          ],
          [
           7.8515625,
           11.6796875,
           5.8515625,
           3.51953125,
           8.8515625,
           0.82861328125,
           4.0546875,
           -6.671875,
           -26.640625,
           -19.140625,
           0.7724609375,
           -1.5244140625,
           -1.810546875,
           -7.5234375,
           -1.333984375,
           -9.7578125,
           0.035400390625,
           11.9453125,
           1.5498046875,
           0.58935546875,
           2.517578125,
           -0.78369140625,
           -9.4609375,
           -11.6640625,
           -6.74609375,
           0.60009765625,
           -0.7216796875,
           -2.486328125,
           7.953125,
           18.21875,
           5.1640625,
           1.056640625,
           -1.763671875,
           2.33203125,
           -6.60546875,
           3.767578125,
           -0.99267578125,
           -1.310546875,
           4.1171875,
           -20.15625,
           -15.828125,
           -8.78125,
           -10.375,
           -2.689453125,
           0.89306640625,
           2.416015625,
           0.77392578125,
           5.2578125,
           2.333984375,
           -3.830078125,
           -16.46875,
           -5.796875,
           -2.73046875,
           -0.77734375,
           2.8359375,
           -1.18359375,
           -9.9765625,
           -6.3515625,
           -9.8046875
          ]
         ]
        }
       ],
       "layout": {
        "coloraxis": {
         "cmax": 3.2407,
         "cmin": -3.2407,
         "colorscale": [
          [
           0,
           "rgb(165,0,38)"
          ],
          [
           0.1,
           "rgb(215,48,39)"
          ],
          [
           0.2,
           "rgb(244,109,67)"
          ],
          [
           0.3,
           "rgb(253,174,97)"
          ],
          [
           0.4,
           "rgb(254,224,139)"
          ],
          [
           0.5,
           "rgb(255,255,191)"
          ],
          [
           0.6,
           "rgb(217,239,139)"
          ],
          [
           0.7,
           "rgb(166,217,106)"
          ],
          [
           0.8,
           "rgb(102,189,99)"
          ],
          [
           0.9,
           "rgb(26,152,80)"
          ],
          [
           1,
           "rgb(0,104,55)"
          ]
         ]
        },
        "height": 600,
        "margin": {
         "t": 60
        },
        "template": {
         "data": {
          "bar": [
           {
            "error_x": {
             "color": "#2a3f5f"
            },
            "error_y": {
             "color": "#2a3f5f"
            },
            "marker": {
             "line": {
              "color": "#E5ECF6",
              "width": 0.5
             },
             "pattern": {
              "fillmode": "overlay",
              "size": 10,
              "solidity": 0.2
             }
            },
            "type": "bar"
           }
          ],
          "barpolar": [
           {
            "marker": {
             "line": {
              "color": "#E5ECF6",
              "width": 0.5
             },
             "pattern": {
              "fillmode": "overlay",
              "size": 10,
              "solidity": 0.2
             }
            },
            "type": "barpolar"
           }
          ],
          "carpet": [
           {
            "aaxis": {
             "endlinecolor": "#2a3f5f",
             "gridcolor": "white",
             "linecolor": "white",
             "minorgridcolor": "white",
             "startlinecolor": "#2a3f5f"
            },
            "baxis": {
             "endlinecolor": "#2a3f5f",
             "gridcolor": "white",
             "linecolor": "white",
             "minorgridcolor": "white",
             "startlinecolor": "#2a3f5f"
            },
            "type": "carpet"
           }
          ],
          "choropleth": [
           {
            "colorbar": {
             "outlinewidth": 0,
             "ticks": ""
            },
            "type": "choropleth"
           }
          ],
          "contour": [
           {
            "colorbar": {
             "outlinewidth": 0,
             "ticks": ""
            },
            "colorscale": [
             [
              0,
              "#0d0887"
             ],
             [
              0.1111111111111111,
              "#46039f"
             ],
             [
              0.2222222222222222,
              "#7201a8"
             ],
             [
              0.3333333333333333,
              "#9c179e"
             ],
             [
              0.4444444444444444,
              "#bd3786"
             ],
             [
              0.5555555555555556,
              "#d8576b"
             ],
             [
              0.6666666666666666,
              "#ed7953"
             ],
             [
              0.7777777777777778,
              "#fb9f3a"
             ],
             [
              0.8888888888888888,
              "#fdca26"
             ],
             [
              1,
              "#f0f921"
             ]
            ],
            "type": "contour"
           }
          ],
          "contourcarpet": [
           {
            "colorbar": {
             "outlinewidth": 0,
             "ticks": ""
            },
            "type": "contourcarpet"
           }
          ],
          "heatmap": [
           {
            "colorbar": {
             "outlinewidth": 0,
             "ticks": ""
            },
            "colorscale": [
             [
              0,
              "#0d0887"
             ],
             [
              0.1111111111111111,
              "#46039f"
             ],
             [
              0.2222222222222222,
              "#7201a8"
             ],
             [
              0.3333333333333333,
              "#9c179e"
             ],
             [
              0.4444444444444444,
              "#bd3786"
             ],
             [
              0.5555555555555556,
              "#d8576b"
             ],
             [
              0.6666666666666666,
              "#ed7953"
             ],
             [
              0.7777777777777778,
              "#fb9f3a"
             ],
             [
              0.8888888888888888,
              "#fdca26"
             ],
             [
              1,
              "#f0f921"
             ]
            ],
            "type": "heatmap"
           }
          ],
          "heatmapgl": [
           {
            "colorbar": {
             "outlinewidth": 0,
             "ticks": ""
            },
            "colorscale": [
             [
              0,
              "#0d0887"
             ],
             [
              0.1111111111111111,
              "#46039f"
             ],
             [
              0.2222222222222222,
              "#7201a8"
             ],
             [
              0.3333333333333333,
              "#9c179e"
             ],
             [
              0.4444444444444444,
              "#bd3786"
             ],
             [
              0.5555555555555556,
              "#d8576b"
             ],
             [
              0.6666666666666666,
              "#ed7953"
             ],
             [
              0.7777777777777778,
              "#fb9f3a"
             ],
             [
              0.8888888888888888,
              "#fdca26"
             ],
             [
              1,
              "#f0f921"
             ]
            ],
            "type": "heatmapgl"
           }
          ],
          "histogram": [
           {
            "marker": {
             "pattern": {
              "fillmode": "overlay",
              "size": 10,
              "solidity": 0.2
             }
            },
            "type": "histogram"
           }
          ],
          "histogram2d": [
           {
            "colorbar": {
             "outlinewidth": 0,
             "ticks": ""
            },
            "colorscale": [
             [
              0,
              "#0d0887"
             ],
             [
              0.1111111111111111,
              "#46039f"
             ],
             [
              0.2222222222222222,
              "#7201a8"
             ],
             [
              0.3333333333333333,
              "#9c179e"
             ],
             [
              0.4444444444444444,
              "#bd3786"
             ],
             [
              0.5555555555555556,
              "#d8576b"
             ],
             [
              0.6666666666666666,
              "#ed7953"
             ],
             [
              0.7777777777777778,
              "#fb9f3a"
             ],
             [
              0.8888888888888888,
              "#fdca26"
             ],
             [
              1,
              "#f0f921"
             ]
            ],
            "type": "histogram2d"
           }
          ],
          "histogram2dcontour": [
           {
            "colorbar": {
             "outlinewidth": 0,
             "ticks": ""
            },
            "colorscale": [
             [
              0,
              "#0d0887"
             ],
             [
              0.1111111111111111,
              "#46039f"
             ],
             [
              0.2222222222222222,
              "#7201a8"
             ],
             [
              0.3333333333333333,
              "#9c179e"
             ],
             [
              0.4444444444444444,
              "#bd3786"
             ],
             [
              0.5555555555555556,
              "#d8576b"
             ],
             [
              0.6666666666666666,
              "#ed7953"
             ],
             [
              0.7777777777777778,
              "#fb9f3a"
             ],
             [
              0.8888888888888888,
              "#fdca26"
             ],
             [
              1,
              "#f0f921"
             ]
            ],
            "type": "histogram2dcontour"
           }
          ],
          "mesh3d": [
           {
            "colorbar": {
             "outlinewidth": 0,
             "ticks": ""
            },
            "type": "mesh3d"
           }
          ],
          "parcoords": [
           {
            "line": {
             "colorbar": {
              "outlinewidth": 0,
              "ticks": ""
             }
            },
            "type": "parcoords"
           }
          ],
          "pie": [
           {
            "automargin": true,
            "type": "pie"
           }
          ],
          "scatter": [
           {
            "fillpattern": {
             "fillmode": "overlay",
             "size": 10,
             "solidity": 0.2
            },
            "type": "scatter"
           }
          ],
          "scatter3d": [
           {
            "line": {
             "colorbar": {
              "outlinewidth": 0,
              "ticks": ""
             }
            },
            "marker": {
             "colorbar": {
              "outlinewidth": 0,
              "ticks": ""
             }
            },
            "type": "scatter3d"
           }
          ],
          "scattercarpet": [
           {
            "marker": {
             "colorbar": {
              "outlinewidth": 0,
              "ticks": ""
             }
            },
            "type": "scattercarpet"
           }
          ],
          "scattergeo": [
           {
            "marker": {
             "colorbar": {
              "outlinewidth": 0,
              "ticks": ""
             }
            },
            "type": "scattergeo"
           }
          ],
          "scattergl": [
           {
            "marker": {
             "colorbar": {
              "outlinewidth": 0,
              "ticks": ""
             }
            },
            "type": "scattergl"
           }
          ],
          "scattermapbox": [
           {
            "marker": {
             "colorbar": {
              "outlinewidth": 0,
              "ticks": ""
             }
            },
            "type": "scattermapbox"
           }
          ],
          "scatterpolar": [
           {
            "marker": {
             "colorbar": {
              "outlinewidth": 0,
              "ticks": ""
             }
            },
            "type": "scatterpolar"
           }
          ],
          "scatterpolargl": [
           {
            "marker": {
             "colorbar": {
              "outlinewidth": 0,
              "ticks": ""
             }
            },
            "type": "scatterpolargl"
           }
          ],
          "scatterternary": [
           {
            "marker": {
             "colorbar": {
              "outlinewidth": 0,
              "ticks": ""
             }
            },
            "type": "scatterternary"
           }
          ],
          "surface": [
           {
            "colorbar": {
             "outlinewidth": 0,
             "ticks": ""
            },
            "colorscale": [
             [
              0,
              "#0d0887"
             ],
             [
              0.1111111111111111,
              "#46039f"
             ],
             [
              0.2222222222222222,
              "#7201a8"
             ],
             [
              0.3333333333333333,
              "#9c179e"
             ],
             [
              0.4444444444444444,
              "#bd3786"
             ],
             [
              0.5555555555555556,
              "#d8576b"
             ],
             [
              0.6666666666666666,
              "#ed7953"
             ],
             [
              0.7777777777777778,
              "#fb9f3a"
             ],
             [
              0.8888888888888888,
              "#fdca26"
             ],
             [
              1,
              "#f0f921"
             ]
            ],
            "type": "surface"
           }
          ],
          "table": [
           {
            "cells": {
             "fill": {
              "color": "#EBF0F8"
             },
             "line": {
              "color": "white"
             }
            },
            "header": {
             "fill": {
              "color": "#C8D4E3"
             },
             "line": {
              "color": "white"
             }
            },
            "type": "table"
           }
          ]
         },
         "layout": {
          "annotationdefaults": {
           "arrowcolor": "#2a3f5f",
           "arrowhead": 0,
           "arrowwidth": 1
          },
          "autotypenumbers": "strict",
          "coloraxis": {
           "colorbar": {
            "outlinewidth": 0,
            "ticks": ""
           }
          },
          "colorscale": {
           "diverging": [
            [
             0,
             "#8e0152"
            ],
            [
             0.1,
             "#c51b7d"
            ],
            [
             0.2,
             "#de77ae"
            ],
            [
             0.3,
             "#f1b6da"
            ],
            [
             0.4,
             "#fde0ef"
            ],
            [
             0.5,
             "#f7f7f7"
            ],
            [
             0.6,
             "#e6f5d0"
            ],
            [
             0.7,
             "#b8e186"
            ],
            [
             0.8,
             "#7fbc41"
            ],
            [
             0.9,
             "#4d9221"
            ],
            [
             1,
             "#276419"
            ]
           ],
           "sequential": [
            [
             0,
             "#0d0887"
            ],
            [
             0.1111111111111111,
             "#46039f"
            ],
            [
             0.2222222222222222,
             "#7201a8"
            ],
            [
             0.3333333333333333,
             "#9c179e"
            ],
            [
             0.4444444444444444,
             "#bd3786"
            ],
            [
             0.5555555555555556,
             "#d8576b"
            ],
            [
             0.6666666666666666,
             "#ed7953"
            ],
            [
             0.7777777777777778,
             "#fb9f3a"
            ],
            [
             0.8888888888888888,
             "#fdca26"
            ],
            [
             1,
             "#f0f921"
            ]
           ],
           "sequentialminus": [
            [
             0,
             "#0d0887"
            ],
            [
             0.1111111111111111,
             "#46039f"
            ],
            [
             0.2222222222222222,
             "#7201a8"
            ],
            [
             0.3333333333333333,
             "#9c179e"
            ],
            [
             0.4444444444444444,
             "#bd3786"
            ],
            [
             0.5555555555555556,
             "#d8576b"
            ],
            [
             0.6666666666666666,
             "#ed7953"
            ],
            [
             0.7777777777777778,
             "#fb9f3a"
            ],
            [
             0.8888888888888888,
             "#fdca26"
            ],
            [
             1,
             "#f0f921"
            ]
           ]
          },
          "colorway": [
           "#636efa",
           "#EF553B",
           "#00cc96",
           "#ab63fa",
           "#FFA15A",
           "#19d3f3",
           "#FF6692",
           "#B6E880",
           "#FF97FF",
           "#FECB52"
          ],
          "font": {
           "color": "#2a3f5f"
          },
          "geo": {
           "bgcolor": "white",
           "lakecolor": "white",
           "landcolor": "#E5ECF6",
           "showlakes": true,
           "showland": true,
           "subunitcolor": "white"
          },
          "hoverlabel": {
           "align": "left"
          },
          "hovermode": "closest",
          "mapbox": {
           "style": "light"
          },
          "paper_bgcolor": "white",
          "plot_bgcolor": "#E5ECF6",
          "polar": {
           "angularaxis": {
            "gridcolor": "white",
            "linecolor": "white",
            "ticks": ""
           },
           "bgcolor": "#E5ECF6",
           "radialaxis": {
            "gridcolor": "white",
            "linecolor": "white",
            "ticks": ""
           }
          },
          "scene": {
           "xaxis": {
            "backgroundcolor": "#E5ECF6",
            "gridcolor": "white",
            "gridwidth": 2,
            "linecolor": "white",
            "showbackground": true,
            "ticks": "",
            "zerolinecolor": "white"
           },
           "yaxis": {
            "backgroundcolor": "#E5ECF6",
            "gridcolor": "white",
            "gridwidth": 2,
            "linecolor": "white",
            "showbackground": true,
            "ticks": "",
            "zerolinecolor": "white"
           },
           "zaxis": {
            "backgroundcolor": "#E5ECF6",
            "gridcolor": "white",
            "gridwidth": 2,
            "linecolor": "white",
            "showbackground": true,
            "ticks": "",
            "zerolinecolor": "white"
           }
          },
          "shapedefaults": {
           "line": {
            "color": "#2a3f5f"
           }
          },
          "ternary": {
           "aaxis": {
            "gridcolor": "white",
            "linecolor": "white",
            "ticks": ""
           },
           "baxis": {
            "gridcolor": "white",
            "linecolor": "white",
            "ticks": ""
           },
           "bgcolor": "#E5ECF6",
           "caxis": {
            "gridcolor": "white",
            "linecolor": "white",
            "ticks": ""
           }
          },
          "title": {
           "x": 0.05
          },
          "xaxis": {
           "automargin": true,
           "gridcolor": "white",
           "linecolor": "white",
           "ticks": "",
           "title": {
            "standoff": 15
           },
           "zerolinecolor": "white",
           "zerolinewidth": 2
          },
          "yaxis": {
           "automargin": true,
           "gridcolor": "white",
           "linecolor": "white",
           "ticks": "",
           "title": {
            "standoff": 15
           },
           "zerolinecolor": "white",
           "zerolinewidth": 2
          }
         }
        },
        "width": 1000,
        "xaxis": {
         "anchor": "y",
         "autorange": true,
         "constrain": "domain",
         "domain": [
          0.03123103762135926,
          0.9687689623786407
         ],
         "range": [
          -0.5,
          58.5
         ],
         "scaleanchor": "y",
         "ticktext": [
          "▁medium",
          "▁to",
          "▁high",
          ".",
          "▁\"",
          "G",
          "im",
          "bar",
          "\"",
          "▁is",
          "▁not",
          "▁a",
          "▁commonly",
          "▁known",
          "▁or",
          "▁recognized",
          "▁author",
          "▁in",
          "▁the",
          "▁literary",
          "▁world",
          ",",
          "▁so",
          "▁it",
          "▁is",
          "▁likely",
          "▁that",
          "▁the",
          "▁statement",
          "▁is",
          "▁true",
          ".",
          "▁However",
          ",",
          "▁it",
          "▁is",
          "▁also",
          "▁possible",
          "▁that",
          "▁there",
          "▁could",
          "▁be",
          "▁an",
          "▁author",
          "▁named",
          "▁\"",
          "G",
          "im",
          "bar",
          "\"",
          "▁who",
          "▁is",
          "▁less",
          "▁well",
          "-",
          "known",
          "▁or",
          "▁who",
          "▁has",
          "▁published"
         ],
         "tickvals": [
          0,
          1,
          2,
          3,
          4,
          5,
          6,
          7,
          8,
          9,
          10,
          11,
          12,
          13,
          14,
          15,
          16,
          17,
          18,
          19,
          20,
          21,
          22,
          23,
          24,
          25,
          26,
          27,
          28,
          29,
          30,
          31,
          32,
          33,
          34,
          35,
          36,
          37,
          38,
          39,
          40,
          41,
          42,
          43,
          44,
          45,
          46,
          47,
          48,
          49,
          50,
          51,
          52,
          53,
          54,
          55,
          56,
          57,
          58,
          59
         ],
         "title": {
          "text": "Token"
         }
        },
        "yaxis": {
         "anchor": "x",
         "autorange": true,
         "constrain": "domain",
         "domain": [
          0,
          1
         ],
         "range": [
          31.5,
          -0.5
         ]
        }
       }
      },
      "image/png": "[encoded data removed]",
      "text/html": [
       "<div>                            <div id=\"c1b7c1b4-29af-4b6c-8de0-b2391ea16e77\" class=\"plotly-graph-div\" style=\"height:600px; width:1000px;\"></div>            <script type=\"text/javascript\">                require([\"plotly\"], function(Plotly) {                    window.PLOTLYENV=window.PLOTLYENV || {};                                    if (document.getElementById(\"c1b7c1b4-29af-4b6c-8de0-b2391ea16e77\")) {                    Plotly.newPlot(                        \"c1b7c1b4-29af-4b6c-8de0-b2391ea16e77\",                        [{\"coloraxis\":\"coloraxis\",\"name\":\"0\",\"z\":[[0.032623291015625,0.01568603515625,0.021453857421875,0.01849365234375,0.01366424560546875,0.015655517578125,0.00583648681640625,0.0224761962890625,0.02685546875,0.0008187294006347656,0.006683349609375,0.01303863525390625,0.0055389404296875,0.02081298828125,0.0172576904296875,0.026580810546875,0.0215911865234375,0.01519775390625,0.0223236083984375,0.0193023681640625,0.0097503662109375,0.01331329345703125,-0.010040283203125,0.0093231201171875,-0.0084381103515625,-0.0019073486328125,0.0032100677490234375,0.0179901123046875,0.00817108154296875,0.01105499267578125,0.0204315185546875,0.01715087890625,0.0174713134765625,0.00469207763671875,0.00991058349609375,0.00042819976806640625,0.0166168212890625,0.0111846923828125,0.00325775146484375,0.01355743408203125,0.0144500732421875,0.00678253173828125,0.016326904296875,0.01355743408203125,0.017425537109375,0.01324462890625,0.01549530029296875,0.007389068603515625,0.0245361328125,0.0245819091796875,0.017303466796875,-0.005889892578125,0.01232147216796875,0.01727294921875,0.0168914794921875,0.0118865966796875,0.0139312744140625,0.012969970703125,0.0137176513671875],[0.0130157470703125,0.004550933837890625,0.0096588134765625,0.00614166259765625,0.02191162109375,0.022552490234375,0.028900146484375,0.01209259033203125,0.018829345703125,0.006710052490234375,0.016632080078125,0.02587890625,0.004291534423828125,0.047088623046875,0.014251708984375,0.0193634033203125,0.0269622802734375,0.042327880859375,0.043182373046875,0.0022830963134765625,0.01470947265625,0.0364990234375,0.0290985107421875,0.039154052734375,0.032958984375,0.00193023681640625,-0.0010995864868164062,0.0237274169921875,0.0176544189453125,0.0142364501953125,0.0208587646484375,-0.01049041748046875,0.006435394287109375,0.00460052490234375,0.033416748046875,0.043060302734375,0.0202484130859375,0.01471710205078125,0.0167388916015625,0.020477294921875,0.03369140625,0.0149383544921875,0.0175323486328125,0.0264739990234375,0.046478271484375,0.024505615234375,0.020965576171875,0.031768798828125,0.02056884765625,0.0277252197265625,0.018951416015625,0.00980377197265625,0.003082275390625,0.023651123046875,0.01317596435546875,0.047607421875,0.0238037109375,0.038726806640625,-0.00782012939453125],[-0.00432586669921875,0.0086822509765625,-0.0264892578125,-0.063720703125,-0.0012922286987304688,0.012939453125,0.019866943359375,0.017669677734375,-0.0231170654296875,-0.0030193328857421875,-0.021759033203125,0.041259765625,-0.0272979736328125,0.034454345703125,-0.01861572265625,0.016387939453125,0.0015783309936523438,0.005641937255859375,0.01314544677734375,-0.01079559326171875,-0.00902557373046875,-0.010223388671875,0.0177764892578125,0.055999755859375,0.08245849609375,0.006061553955078125,0.0029048919677734375,0.007354736328125,-0.03985595703125,0.01541900634765625,-0.03131103515625,-0.049102783203125,0.0006289482116699219,0.0235137939453125,-0.0025806427001953125,0.042694091796875,0.005367279052734375,-0.026885986328125,-0.0020885467529296875,-0.01525115966796875,0.00016999244689941406,0.01021575927734375,0.00772857666015625,-0.0088043212890625,-0.00020766258239746094,0.0034847259521484375,0.00995635986328125,0.01531219482421875,0.0162506103515625,-0.01552581787109375,-0.0181121826171875,-0.03173828125,-0.04034423828125,-0.034271240234375,-0.03369140625,0.0106048583984375,-0.01064300537109375,0.004787445068359375,-0.0243377685546875],[0.0005016326904296875,-0.0110626220703125,-0.042266845703125,-0.08062744140625,-0.006214141845703125,-0.00673675537109375,0.050384521484375,0.041839599609375,-0.027587890625,-0.04388427734375,-0.04315185546875,0.0120391845703125,-0.0465087890625,0.0027370452880859375,0.01415252685546875,0.04241943359375,0.0170440673828125,0.017578125,0.018890380859375,-0.00855255126953125,0.0023517608642578125,-0.0205535888671875,-0.0013113021850585938,0.0206756591796875,0.03131103515625,-0.0269012451171875,-0.01727294921875,-0.006931304931640625,-0.0439453125,-0.0183868408203125,-0.04205322265625,-0.056732177734375,-0.0243072509765625,0.0097808837890625,-0.00391387939453125,0.025665283203125,5.02467155456543e-05,-0.007175445556640625,0.0139923095703125,-0.01641845703125,-0.015869140625,-0.0007200241088867188,0.0074920654296875,-0.0200653076171875,-0.023590087890625,-0.023956298828125,-0.01885986328125,0.033050537109375,0.03387451171875,-0.01016998291015625,-0.02490234375,-0.02044677734375,-0.0699462890625,-0.01336669921875,-0.005039215087890625,-0.004428863525390625,-0.01270294189453125,0.01140594482421875,-0.017791748046875],[-0.0262451171875,-0.0208282470703125,-0.052154541015625,-0.1348876953125,0.00904083251953125,0.026031494140625,0.049560546875,0.037689208984375,-0.0133209228515625,-0.01276397705078125,-0.060211181640625,0.006381988525390625,-0.060516357421875,-0.01568603515625,0.0248565673828125,0.0355224609375,-0.018524169921875,-0.01983642578125,-0.01413726806640625,-0.0205841064453125,-0.0169830322265625,-0.08697509765625,-0.01309967041015625,0.05902099609375,0.04931640625,-0.0002970695495605469,0.00945281982421875,-0.0037517547607421875,-0.036956787109375,-0.0008463859558105469,-0.0606689453125,-0.07843017578125,-0.0196533203125,-0.0015878677368164062,0.005786895751953125,0.0146636962890625,0.0399169921875,-0.032318115234375,-0.028656005859375,-0.053375244140625,-0.052520751953125,-0.039093017578125,-0.03460693359375,-0.052032470703125,-0.0616455078125,-0.0364990234375,-0.0231475830078125,0.0040740966796875,0.034393310546875,-0.03350830078125,-0.0665283203125,-0.054931640625,-0.08251953125,-0.025054931640625,-0.02557373046875,-0.04486083984375,-0.0164947509765625,0.0080108642578125,0.012481689453125],[0.0022563934326171875,-0.05010986328125,-0.028900146484375,-0.12042236328125,0.0545654296875,0.0225677490234375,0.01285552978515625,0.001453399658203125,-0.0198211669921875,-0.01192474365234375,-0.07464599609375,-0.032470703125,-0.11004638671875,-0.037200927734375,-0.050628662109375,-0.034393310546875,-0.030242919921875,-0.043365478515625,-0.0294036865234375,-0.039825439453125,-0.050384521484375,-0.06903076171875,0.03082275390625,0.08245849609375,0.09765625,0.0013904571533203125,0.0292816162109375,0.05328369140625,0.01971435546875,0.04412841796875,-0.06658935546875,-0.060821533203125,0.0159454345703125,0.01157379150390625,0.01605224609375,0.0262451171875,0.0216217041015625,0.0274810791015625,0.01326751708984375,-0.0443115234375,-0.0367431640625,-0.031524658203125,-0.030975341796875,-0.04510498046875,-0.058746337890625,-0.0181732177734375,-0.01523590087890625,-0.021270751953125,0.006580352783203125,-0.0400390625,-0.043487548828125,-0.04730224609375,-0.05078125,-0.0237884521484375,-0.003383636474609375,-0.0252685546875,-0.0216217041015625,0.01465606689453125,0.0391845703125],[0.056732177734375,-0.008392333984375,-0.01418304443359375,-0.107421875,0.07122802734375,0.1102294921875,0.0682373046875,0.022796630859375,0.042236328125,0.0195465087890625,-0.07550048828125,-0.01479339599609375,-0.08843994140625,-0.052734375,-0.04833984375,-0.0177459716796875,-0.018646240234375,-0.01483154296875,-0.038787841796875,0.0093994140625,-0.02215576171875,-0.0270538330078125,0.0364990234375,0.08026123046875,0.10211181640625,-0.0066680908203125,0.0233001708984375,0.0703125,-0.0308380126953125,0.020843505859375,-0.1033935546875,-0.045013427734375,0.0261688232421875,0.0284423828125,0.03564453125,0.041015625,0.0556640625,0.0556640625,0.011810302734375,-0.0709228515625,-0.04888916015625,-0.0684814453125,-0.0162506103515625,0.0279693603515625,-0.047119140625,-0.01277923583984375,0.029022216796875,-0.0152587890625,0.0083465576171875,0.0175323486328125,0.00630950927734375,0.00080108642578125,-0.04107666015625,-0.0511474609375,-0.042999267578125,-0.00707244873046875,-0.01727294921875,0.025146484375,0.025543212890625],[-0.06768798828125,-0.135009765625,-0.18017578125,-0.291015625,0.0538330078125,0.07244873046875,-0.0179443359375,0.0088348388671875,-0.006336212158203125,-0.043975830078125,-0.136474609375,-0.081787109375,-0.10308837890625,-0.08111572265625,-0.0614013671875,-0.045318603515625,-0.1055908203125,-0.061187744140625,-0.10931396484375,-0.05023193359375,-0.06005859375,-0.07489013671875,-0.055877685546875,0.07403564453125,0.03289794921875,0.0012187957763671875,0.0457763671875,0.0374755859375,-0.126220703125,-0.1400146484375,-0.1943359375,-0.09295654296875,-0.0601806640625,-0.055419921875,-0.043304443359375,-0.10113525390625,-0.035614013671875,-0.031463623046875,-3.355741500854492e-05,-0.07940673828125,-0.06646728515625,-0.09210205078125,-0.072998046875,-0.028106689453125,-0.07879638671875,-0.06256103515625,-0.007389068603515625,-0.10498046875,-0.029815673828125,-0.0009031295776367188,-0.01442718505859375,-0.107177734375,-0.127685546875,-0.1734619140625,-0.1622314453125,-0.1220703125,-0.08587646484375,0.017791748046875,-0.03106689453125],[-0.058441162109375,-0.03118896484375,-0.1695556640625,-0.19140625,-0.06219482421875,-0.0592041015625,-0.0287933349609375,-0.053497314453125,-0.0985107421875,-0.225341796875,-0.294921875,-0.254638671875,-0.248046875,-0.1851806640625,-0.242431640625,-0.2255859375,-0.171142578125,-0.2490234375,-0.162841796875,-0.048065185546875,-0.09002685546875,-0.2437744140625,-0.1990966796875,-0.0777587890625,-0.106689453125,-0.08929443359375,-0.02947998046875,0.01116180419921875,0.196044921875,-0.096435546875,0.050750732421875,-0.08990478515625,-0.11480712890625,-0.1378173828125,-0.03790283203125,-0.1805419921875,-0.083740234375,-0.0875244140625,-0.035888671875,-0.1292724609375,-0.1143798828125,-0.1400146484375,-0.15869140625,-0.11260986328125,-0.178466796875,-0.1197509765625,-0.0443115234375,-0.05908203125,-0.04217529296875,-0.05859375,-0.04815673828125,-0.1737060546875,-0.1290283203125,-0.159912109375,-0.161865234375,-0.1572265625,-0.10443115234375,-0.0016164779663085938,-0.1365966796875],[0.026397705078125,0.031463623046875,0.00033164024353027344,0.0279388427734375,-0.016754150390625,-0.0631103515625,0.019866943359375,-0.006862640380859375,-0.1429443359375,-0.2154541015625,-0.2161865234375,-0.223876953125,-0.13818359375,-0.120849609375,-0.2034912109375,-0.1749267578125,-0.1400146484375,-0.1729736328125,-0.1005859375,-0.0219573974609375,-0.013336181640625,-0.13916015625,-0.058868408203125,0.019744873046875,0.0073394775390625,0.09735107421875,0.115966796875,0.1737060546875,0.419189453125,0.1175537109375,0.36181640625,0.1715087890625,0.0325927734375,-0.0034008026123046875,0.1370849609375,-0.08233642578125,0.00969696044921875,0.031524658203125,0.056671142578125,-0.09686279296875,-0.07904052734375,-0.105712890625,-0.1312255859375,-0.1002197265625,-0.1458740234375,-0.10687255859375,0.005290985107421875,-0.0007815361022949219,0.0119171142578125,-0.055816650390625,0.0022144317626953125,-0.13525390625,-0.0810546875,-0.1046142578125,-0.1048583984375,-0.10052490234375,-0.06378173828125,0.0158843994140625,-0.07489013671875],[-0.2027587890625,-0.1273193359375,-0.0711669921875,-0.2025146484375,-0.1463623046875,-0.1505126953125,-0.0443115234375,-0.1180419921875,-0.242431640625,-0.385986328125,-0.289306640625,-0.299072265625,-0.2249755859375,-0.2064208984375,-0.259521484375,-0.161865234375,-0.2158203125,-0.3056640625,-0.21240234375,-0.0986328125,-0.12420654296875,-0.214599609375,-0.136962890625,-0.08306884765625,-0.0643310546875,-0.01105499267578125,0.0450439453125,0.08135986328125,0.28369140625,0.001056671142578125,0.2357177734375,-0.05743408203125,-0.1812744140625,-0.126220703125,-0.0134735107421875,-0.176025390625,-0.136962890625,-0.1319580078125,-0.0654296875,-0.099365234375,-0.268798828125,-0.15625,-0.14892578125,-0.08905029296875,-0.144775390625,-0.06658935546875,-0.005702972412109375,-0.097412109375,-0.040283203125,-0.1329345703125,-0.048431396484375,-0.1463623046875,-0.11065673828125,-0.153076171875,-0.1961669921875,-0.1168212890625,-0.0863037109375,0.034698486328125,-0.044830322265625],[-0.031982421875,0.0205078125,0.06878662109375,-0.0860595703125,-0.1859130859375,-0.1854248046875,-0.1431884765625,-0.171142578125,-0.31689453125,-0.418701171875,-0.314697265625,-0.380859375,-0.253173828125,-0.2100830078125,-0.258544921875,-0.2320556640625,-0.2255859375,-0.364501953125,-0.2325439453125,-0.143310546875,-0.200927734375,-0.34130859375,-0.181396484375,-0.2427978515625,-0.144287109375,-0.053680419921875,-0.03411865234375,0.043121337890625,0.2442626953125,0.031158447265625,0.1910400390625,0.006710052490234375,-0.1142578125,-0.1590576171875,-0.0787353515625,-0.1707763671875,-0.171875,-0.1915283203125,-0.09027099609375,-0.0970458984375,-0.22119140625,-0.1400146484375,-0.12213134765625,-0.0836181640625,-0.1468505859375,-0.12139892578125,-0.037841796875,-0.1923828125,-0.0562744140625,-0.1541748046875,-0.0673828125,-0.1640625,-0.040252685546875,-0.0657958984375,-0.183349609375,-0.0253448486328125,0.0360107421875,0.049591064453125,-0.092529296875],[-0.1507568359375,-0.04742431640625,0.0261077880859375,-0.29541015625,-0.280029296875,-0.28515625,-0.19091796875,-0.16455078125,-0.39697265625,-0.54638671875,-0.3955078125,-0.437255859375,-0.3740234375,-0.26025390625,-0.417236328125,-0.3173828125,-0.31689453125,-0.48876953125,-0.406982421875,-0.34716796875,-0.411865234375,-0.425537109375,-0.1715087890625,-0.3642578125,-0.240966796875,-0.0260467529296875,-0.1373291015625,-0.094482421875,0.046661376953125,-0.10198974609375,0.0791015625,-0.189697265625,-0.2332763671875,-0.40234375,-0.31005859375,-0.31787109375,-0.2120361328125,-0.17041015625,-0.13720703125,-0.1534423828125,-0.2098388671875,-0.1868896484375,-0.189697265625,-0.2056884765625,-0.1951904296875,-0.21337890625,-0.122314453125,-0.1768798828125,-0.140869140625,-0.2427978515625,-0.1356201171875,-0.25048828125,-0.249267578125,-0.2484130859375,-0.348876953125,-0.25537109375,-0.12432861328125,-0.036468505859375,-0.168212890625],[-0.2022705078125,-0.06591796875,-0.004180908203125,-0.1055908203125,-0.2294921875,-0.3125,-0.158447265625,-0.188720703125,-0.63916015625,-0.6396484375,-0.48828125,-0.50244140625,-0.4775390625,-0.4267578125,-0.4560546875,-0.473876953125,-0.447021484375,-0.68115234375,-0.546875,-0.43701171875,-0.63134765625,-0.67236328125,-0.1705322265625,-0.258544921875,-0.120849609375,0.033355712890625,-0.1363525390625,-0.1171875,0.259033203125,0.142578125,0.376708984375,-0.1795654296875,-0.26513671875,-0.30029296875,-0.2091064453125,-0.374755859375,-0.2919921875,-0.2015380859375,-0.061309814453125,-0.1571044921875,-0.152587890625,-0.1812744140625,-0.180908203125,-0.259765625,-0.209228515625,-0.1943359375,-0.1986083984375,-0.207763671875,-0.2327880859375,-0.382568359375,-0.2498779296875,-0.395751953125,-0.29736328125,-0.332275390625,-0.3896484375,-0.3056640625,-0.2220458984375,-0.126953125,-0.302734375],[-0.316650390625,0.02020263671875,0.046875,-0.148193359375,-0.433349609375,-0.57470703125,-0.43310546875,-0.390869140625,-0.9189453125,-0.7158203125,-0.284423828125,-0.402587890625,-0.322998046875,-0.29443359375,-0.458740234375,-0.437744140625,-0.58984375,-0.65869140625,-0.61474609375,-0.51123046875,-0.5322265625,-0.7646484375,-0.1719970703125,-0.216064453125,-0.143798828125,0.07305908203125,-0.2049560546875,-0.12841796875,0.330810546875,0.2034912109375,0.316650390625,-0.126220703125,-0.335205078125,-0.44091796875,-0.28515625,-0.494140625,-0.36572265625,-0.287841796875,-0.2135009765625,-0.395751953125,-0.2396240234375,-0.376220703125,-0.374267578125,-0.3525390625,-0.34130859375,-0.349609375,-0.379638671875,-0.394775390625,-0.37646484375,-0.48095703125,-0.38623046875,-0.5107421875,-0.319091796875,-0.2861328125,-0.35693359375,-0.28369140625,-0.26904296875,-0.3037109375,-0.4287109375],[-0.217529296875,0.22802734375,0.172607421875,-0.10711669921875,-0.5322265625,-0.74755859375,-0.50048828125,-0.5146484375,-1.0107421875,-0.6767578125,-0.361083984375,-0.371337890625,-0.26611328125,-0.29296875,-0.58642578125,-0.36669921875,-0.362548828125,-0.4580078125,-0.474609375,-0.28515625,-0.410400390625,-0.77294921875,-0.06329345703125,-0.203369140625,-0.17529296875,0.13232421875,-0.19580078125,-0.07513427734375,0.36474609375,0.160888671875,0.284912109375,-0.129150390625,-0.2022705078125,-0.369384765625,-0.197021484375,-0.29150390625,-0.24267578125,-0.0806884765625,-0.11761474609375,-0.4111328125,-0.109619140625,-0.41943359375,-0.411865234375,-0.207275390625,-0.256591796875,-0.387451171875,-0.435791015625,-0.3359375,-0.284912109375,-0.333740234375,-0.334716796875,-0.54150390625,-0.40869140625,-0.25390625,-0.3603515625,-0.31640625,-0.5712890625,-0.4921875,-0.61181640625],[-0.168701171875,0.216796875,0.1943359375,-0.244140625,-0.54541015625,-0.9287109375,-0.6337890625,-0.8994140625,-1.4755859375,-0.96337890625,-0.77587890625,-0.72412109375,-0.55078125,-0.56005859375,-0.916015625,-0.57568359375,-0.61181640625,-0.67138671875,-0.7109375,-0.453369140625,-0.796875,-0.9599609375,-0.250732421875,-0.302001953125,-0.181884765625,0.0675048828125,-0.5068359375,-0.18310546875,0.5126953125,0.35546875,0.2310791015625,-0.37939453125,-0.51513671875,-0.6435546875,-0.266845703125,-0.394287109375,-0.2186279296875,-0.257568359375,-0.27734375,-0.71533203125,-0.36669921875,-0.7099609375,-0.73291015625,-0.5693359375,-0.495849609375,-0.5146484375,-0.5693359375,-0.311767578125,-0.84912109375,-0.84326171875,-0.84814453125,-1.064453125,-0.802734375,-0.55224609375,-0.6181640625,-0.4208984375,-0.8505859375,-0.736328125,-0.96337890625],[-0.326171875,0.004100799560546875,0.0136871337890625,-0.345458984375,-0.455322265625,-0.7255859375,-0.56298828125,-0.86962890625,-1.3203125,-0.74658203125,-0.7119140625,-0.70849609375,-0.556640625,-0.6103515625,-0.9541015625,-0.65185546875,-0.73974609375,-0.771484375,-0.75732421875,-0.5576171875,-0.7373046875,-0.95263671875,-0.255859375,-0.176025390625,0.00014138221740722656,0.10504150390625,-0.434814453125,-0.302001953125,0.58837890625,0.430419921875,0.2196044921875,-0.345703125,-0.765625,-0.6533203125,-0.3388671875,-0.5126953125,-0.1993408203125,-0.5390625,-0.38427734375,-0.90673828125,-0.5625,-0.845703125,-0.75390625,-0.47412109375,-0.496826171875,-0.410888671875,-0.40869140625,-0.268310546875,-1.0703125,-1.0185546875,-0.919921875,-1.025390625,-0.53515625,-0.34423828125,-0.439208984375,-0.27685546875,-0.67041015625,-0.578125,-0.5830078125],[-0.32275390625,0.00926971435546875,-0.146728515625,-0.38525390625,-0.61181640625,-0.72119140625,-0.490478515625,-0.9970703125,-1.3623046875,-0.7041015625,-0.78759765625,-0.8642578125,-0.61181640625,-0.5302734375,-1.12890625,-0.5771484375,-0.71728515625,-0.630859375,-0.63525390625,-0.513671875,-0.50341796875,-0.85205078125,-0.06744384765625,0.10858154296875,0.3818359375,0.264404296875,-0.4306640625,-0.3037109375,0.875,0.6796875,0.427734375,-0.61669921875,-1.146484375,-0.6455078125,-0.375244140625,-0.6142578125,-0.197021484375,-0.78271484375,-0.3974609375,-1.0849609375,-0.568359375,-0.8759765625,-0.7763671875,-0.755859375,-0.73974609375,-0.65869140625,-0.51708984375,-0.1937255859375,-1.2431640625,-1.1884765625,-1.08984375,-1.234375,-0.68115234375,-0.4580078125,-0.5693359375,-0.1602783203125,-0.93798828125,-0.802734375,-0.8935546875],[-0.423828125,-0.1610107421875,-0.408935546875,-0.49658203125,-0.3818359375,-0.482177734375,-0.380859375,-0.90673828125,-1.2412109375,-0.71728515625,-0.849609375,-0.94775390625,-0.7470703125,-0.7177734375,-1.21875,-0.73974609375,-0.7705078125,-0.68017578125,-0.51513671875,-0.59375,-0.53857421875,-0.95849609375,-0.245361328125,-0.107666015625,0.282470703125,0.258056640625,-0.55322265625,-0.337646484375,0.80029296875,0.6865234375,0.37060546875,-0.9169921875,-1.3818359375,-0.828125,-0.5234375,-0.73046875,-0.388427734375,-1.15234375,-0.68115234375,-1.32421875,-0.73291015625,-1.0712890625,-1.080078125,-0.62255859375,-0.69189453125,-0.65185546875,-0.41259765625,-0.23486328125,-1.2744140625,-1.2607421875,-1.208984375,-1.4482421875,-0.80419921875,-0.456298828125,-0.62548828125,-0.0728759765625,-1.009765625,-1.0263671875,-1.0400390625],[-0.45361328125,-0.52392578125,-0.5849609375,-0.9267578125,-0.50146484375,-0.5341796875,-0.248779296875,-0.98974609375,-1.4560546875,-1.001953125,-1.1181640625,-1.33984375,-0.9072265625,-0.7353515625,-1.427734375,-0.87646484375,-0.97021484375,-0.93701171875,-0.75634765625,-0.77734375,-0.568359375,-1.0693359375,-0.63720703125,-0.52490234375,-0.1343994140625,-0.06500244140625,-0.9111328125,-0.7197265625,0.447509765625,0.4404296875,0.104248046875,-1.2197265625,-1.451171875,-1.0419921875,-0.68701171875,-0.7890625,-0.64404296875,-1.0771484375,-0.9697265625,-1.400390625,-0.78955078125,-1.2509765625,-1.2509765625,-0.71728515625,-0.6787109375,-0.607421875,-0.415283203125,-0.12298583984375,-1.341796875,-1.453125,-1.3515625,-1.552734375,-0.80859375,-0.451171875,-0.6796875,-0.10931396484375,-1.0478515625,-1.1416015625,-1.3154296875],[-0.5029296875,-0.58740234375,-0.4443359375,-0.763671875,-0.50634765625,-0.45458984375,-0.0880126953125,-0.94580078125,-1.3544921875,-1.005859375,-1.005859375,-1.2841796875,-0.896484375,-0.8349609375,-1.369140625,-0.88720703125,-0.9677734375,-0.8515625,-0.68017578125,-0.771484375,-0.57763671875,-0.9814453125,-0.595703125,-0.5244140625,-0.186279296875,0.09521484375,-0.8076171875,-0.47802734375,0.70849609375,0.6611328125,0.12432861328125,-1.3212890625,-1.3095703125,-0.72021484375,-0.47314453125,-0.6015625,-0.48828125,-0.693359375,-0.6767578125,-1.0595703125,-0.60009765625,-0.9755859375,-1.08984375,-0.426513671875,-0.44873046875,-0.583984375,-0.317138671875,-0.08197021484375,-0.9169921875,-1.0322265625,-0.966796875,-1.32421875,-0.70849609375,-0.30078125,-0.5244140625,0.0307159423828125,-0.97412109375,-0.970703125,-1.16796875],[-0.416259765625,-0.56201171875,-0.425537109375,-0.95458984375,-0.708984375,-0.449951171875,-0.1363525390625,-0.9951171875,-1.4931640625,-1.1787109375,-1.0576171875,-1.169921875,-0.853515625,-0.76513671875,-1.322265625,-0.90185546875,-0.9462890625,-0.9267578125,-0.814453125,-0.61181640625,-0.59619140625,-0.96484375,-0.80029296875,-0.509765625,-0.21337890625,0.1793212890625,-0.890625,-0.59130859375,0.5703125,0.65869140625,-0.030242919921875,-1.47265625,-1.4697265625,-0.7666015625,-0.268798828125,-0.428955078125,-0.417236328125,-0.56298828125,-0.68212890625,-0.94775390625,-0.475830078125,-0.86279296875,-0.89013671875,-0.440673828125,-0.53369140625,-0.68212890625,-0.2318115234375,-0.0885009765625,-0.81982421875,-1.009765625,-1.130859375,-1.2392578125,-0.6455078125,-0.34521484375,-0.6015625,-0.03570556640625,-1.1103515625,-1.107421875,-1.193359375],[1.0654296875,0.97705078125,0.80810546875,-0.136962890625,-0.51220703125,-0.482177734375,-0.215087890625,-0.978515625,-1.2099609375,-0.66796875,-0.320556640625,-0.463134765625,-0.362548828125,-0.52880859375,-0.8974609375,-0.74365234375,-0.7236328125,-0.69482421875,-0.75146484375,-0.59033203125,-0.359619140625,-0.465087890625,-0.212158203125,0.409912109375,0.65087890625,0.8505859375,-0.42919921875,-0.1365966796875,1.3837890625,1.76953125,0.7373046875,-0.77294921875,-0.63232421875,-0.0153350830078125,0.548828125,0.325927734375,0.332275390625,0.1312255859375,-0.251220703125,-0.86669921875,-0.1375732421875,-0.533203125,-0.62451171875,-0.254150390625,-0.50146484375,-0.76806640625,-0.341552734375,-0.087158203125,-0.5810546875,-0.685546875,-1.0927734375,-0.88671875,-0.30810546875,-0.2093505859375,-0.454833984375,-0.11077880859375,-0.9638671875,-1.05859375,-1.1201171875],[1.1650390625,0.841796875,0.982421875,-0.048675537109375,-0.5703125,-0.56982421875,-0.28759765625,-1.1826171875,-1.4326171875,-0.9189453125,-0.58642578125,-0.77001953125,-0.481689453125,-0.56982421875,-0.9326171875,-0.7919921875,-0.86083984375,-0.7666015625,-0.7724609375,-0.51806640625,-0.34326171875,-0.671875,-0.2196044921875,0.375732421875,0.64111328125,0.8623046875,-0.313232421875,0.0460205078125,1.482421875,1.9169921875,0.7255859375,-0.75634765625,-0.6103515625,0.1412353515625,0.59423828125,0.39111328125,0.386962890625,0.2098388671875,-0.089111328125,-0.59716796875,0.10760498046875,-0.224365234375,-0.457275390625,-0.093994140625,-0.54638671875,-0.84814453125,-0.463623046875,-0.10955810546875,-0.65283203125,-0.66650390625,-1.12890625,-0.89501953125,-0.310791015625,-0.277099609375,-0.47509765625,-0.0030498504638671875,-1.08984375,-1.0400390625,-1.2060546875],[1.19140625,0.51708984375,0.8701171875,-0.1707763671875,-0.830078125,-0.630859375,-0.42138671875,-1.29296875,-1.646484375,-1.32421875,-0.76513671875,-0.90380859375,-0.51025390625,-0.4580078125,-1.09375,-0.7041015625,-0.493408203125,-0.83203125,-0.8779296875,-0.333984375,-0.1470947265625,-0.650390625,-0.46630859375,0.13232421875,0.4130859375,0.61962890625,-0.51806640625,-0.1822509765625,1.32421875,1.6201171875,0.7470703125,-0.85693359375,-0.392333984375,0.271484375,0.7021484375,0.53125,0.56103515625,0.237060546875,-0.23681640625,-0.49609375,-0.01494598388671875,-0.283447265625,-0.720703125,-0.0195465087890625,-0.666015625,-0.91015625,-0.4736328125,-0.202880859375,-0.5966796875,-0.65478515625,-1.248046875,-0.99560546875,-0.1611328125,-0.2303466796875,-0.54736328125,0.032318115234375,-1.1875,-1.033203125,-0.978515625],[1.376953125,0.5966796875,0.794921875,0.08642578125,-0.9052734375,-0.89306640625,-0.59423828125,-1.1728515625,-1.669921875,-1.2333984375,-0.63232421875,-0.6689453125,-0.42919921875,-0.5517578125,-0.97509765625,-0.9375,-0.1357421875,-0.72509765625,-0.88818359375,-0.25390625,0.07012939453125,-0.343505859375,-0.3271484375,0.275146484375,0.56884765625,0.464111328125,-0.5859375,-0.261962890625,1.1943359375,1.6220703125,0.62646484375,-0.74853515625,-0.0021190643310546875,0.415283203125,0.71484375,0.72412109375,0.74365234375,0.27880859375,-0.271728515625,-0.4580078125,-0.0635986328125,-0.223876953125,-0.72802734375,-0.06982421875,-0.78759765625,-1.2587890625,-0.8916015625,-0.377685546875,-0.54150390625,-0.6123046875,-1.5703125,-1.12109375,-0.296875,-0.314453125,-0.65576171875,0.046722412109375,-1.1015625,-1.0126953125,-1.1591796875],[1.02734375,0.248291015625,0.67138671875,-0.1278076171875,-1.0205078125,-1.19140625,-0.90380859375,-1.3046875,-1.7685546875,-1.3681640625,-0.716796875,-0.83544921875,-0.486328125,-0.86865234375,-0.970703125,-1.107421875,-0.1600341796875,-0.419189453125,-0.68701171875,-0.350830078125,-0.139892578125,-0.34716796875,-0.60888671875,-0.306396484375,0.1422119140625,0.2509765625,-0.8037109375,-0.73193359375,1.072265625,1.748046875,0.308349609375,-1.201171875,-0.034271240234375,0.431396484375,0.66943359375,0.59912109375,0.4794921875,0.218994140625,-0.351806640625,-0.779296875,-0.385498046875,-0.318115234375,-0.72607421875,0.12347412109375,-0.8369140625,-1.3427734375,-1.26953125,-0.64501953125,-0.31103515625,-0.453857421875,-1.505859375,-0.96484375,-0.34130859375,-0.58251953125,-0.71533203125,-0.16845703125,-0.91748046875,-0.73828125,-1.005859375],[1.072265625,0.24462890625,0.837890625,0.1834716796875,-0.78271484375,-0.55224609375,-0.467041015625,-0.84228515625,-1.48046875,-0.83837890625,-0.136474609375,-0.37646484375,-0.2313232421875,-0.6103515625,-0.64404296875,-0.779296875,-0.072021484375,0.0355224609375,-0.35302734375,-0.07659912109375,0.1746826171875,0.0736083984375,-0.5791015625,-0.1591796875,0.225830078125,0.318359375,-0.365966796875,-0.18701171875,1.1220703125,1.935546875,0.685546875,-0.62646484375,0.27197265625,0.689453125,0.5986328125,0.634765625,0.354736328125,0.11328125,0.0166168212890625,-0.7177734375,-0.230712890625,-0.1849365234375,-0.7900390625,0.2210693359375,-0.720703125,-1.2353515625,-0.796875,-0.2470703125,-0.1829833984375,-0.446044921875,-1.5439453125,-0.67578125,-0.404541015625,-0.50390625,-0.634765625,-0.0201263427734375,-0.88623046875,-0.71533203125,-1.0517578125],[1.205078125,0.5732421875,1.0146484375,0.449951171875,-0.5830078125,-0.66455078125,-0.5244140625,-0.9130859375,-1.8115234375,-1.546875,-0.33935546875,-0.76025390625,-0.154296875,-0.57177734375,-0.5166015625,-0.896484375,-0.337158203125,0.04620361328125,-0.28564453125,0.248779296875,0.1328125,0.12493896484375,-0.55810546875,-0.488525390625,-0.186279296875,0.33642578125,-0.0865478515625,-0.1868896484375,1.255859375,1.8955078125,0.82275390625,-0.7626953125,0.1929931640625,0.6845703125,0.09649658203125,0.16650390625,-0.004486083984375,0.15234375,0.035491943359375,-1.0810546875,-0.75390625,-0.363525390625,-1.0078125,0.07073974609375,-0.9619140625,-1.349609375,-1.01953125,-0.289306640625,-0.15380859375,-0.58642578125,-1.57421875,-0.8828125,-0.521484375,-0.5419921875,-0.546875,-0.10546875,-0.83447265625,-0.68310546875,-1.1259765625],[1.373046875,0.69873046875,1.3173828125,0.400146484375,-0.36474609375,-0.73779296875,-0.309326171875,-0.97607421875,-1.8671875,-1.4541015625,-0.1783447265625,-0.79736328125,-0.149658203125,-0.451171875,-0.08544921875,-0.8193359375,-0.369873046875,0.30615234375,-0.1981201171875,0.0335693359375,-0.196044921875,-0.031585693359375,-0.5400390625,-0.5029296875,0.08782958984375,0.251708984375,0.0138092041015625,-0.341796875,1.1796875,2.083984375,0.8662109375,-0.489013671875,0.3046875,0.8037109375,0.05560302734375,0.6630859375,0.2083740234375,0.031280517578125,0.032257080078125,-1.314453125,-1.3876953125,-0.341064453125,-1.0634765625,0.08892822265625,-1.08984375,-0.8662109375,-1.1162109375,-0.025177001953125,-0.228759765625,-0.5751953125,-1.392578125,-0.75634765625,-0.27880859375,-0.05218505859375,-0.2379150390625,-0.04486083984375,-0.64794921875,-0.564453125,-0.94677734375],[7.8515625,11.6796875,5.8515625,3.51953125,8.8515625,0.82861328125,4.0546875,-6.671875,-26.640625,-19.140625,0.7724609375,-1.5244140625,-1.810546875,-7.5234375,-1.333984375,-9.7578125,0.035400390625,11.9453125,1.5498046875,0.58935546875,2.517578125,-0.78369140625,-9.4609375,-11.6640625,-6.74609375,0.60009765625,-0.7216796875,-2.486328125,7.953125,18.21875,5.1640625,1.056640625,-1.763671875,2.33203125,-6.60546875,3.767578125,-0.99267578125,-1.310546875,4.1171875,-20.15625,-15.828125,-8.78125,-10.375,-2.689453125,0.89306640625,2.416015625,0.77392578125,5.2578125,2.333984375,-3.830078125,-16.46875,-5.796875,-2.73046875,-0.77734375,2.8359375,-1.18359375,-9.9765625,-6.3515625,-9.8046875]],\"type\":\"heatmap\",\"xaxis\":\"x\",\"yaxis\":\"y\",\"hovertemplate\":\"Token: %{x}\\u003cbr\\u003ey: %{y}\\u003cbr\\u003ecolor: %{z}\\u003cextra\\u003e\\u003c\\u002fextra\\u003e\"}],                        {\"template\":{\"data\":{\"histogram2dcontour\":[{\"type\":\"histogram2dcontour\",\"colorbar\":{\"outlinewidth\":0,\"ticks\":\"\"},\"colorscale\":[[0.0,\"#0d0887\"],[0.1111111111111111,\"#46039f\"],[0.2222222222222222,\"#7201a8\"],[0.3333333333333333,\"#9c179e\"],[0.4444444444444444,\"#bd3786\"],[0.5555555555555556,\"#d8576b\"],[0.6666666666666666,\"#ed7953\"],[0.7777777777777778,\"#fb9f3a\"],[0.8888888888888888,\"#fdca26\"],[1.0,\"#f0f921\"]]}],\"choropleth\":[{\"type\":\"choropleth\",\"colorbar\":{\"outlinewidth\":0,\"ticks\":\"\"}}],\"histogram2d\":[{\"type\":\"histogram2d\",\"colorbar\":{\"outlinewidth\":0,\"ticks\":\"\"},\"colorscale\":[[0.0,\"#0d0887\"],[0.1111111111111111,\"#46039f\"],[0.2222222222222222,\"#7201a8\"],[0.3333333333333333,\"#9c179e\"],[0.4444444444444444,\"#bd3786\"],[0.5555555555555556,\"#d8576b\"],[0.6666666666666666,\"#ed7953\"],[0.7777777777777778,\"#fb9f3a\"],[0.8888888888888888,\"#fdca26\"],[1.0,\"#f0f921\"]]}],\"heatmap\":[{\"type\":\"heatmap\",\"colorbar\":{\"outlinewidth\":0,\"ticks\":\"\"},\"colorscale\":[[0.0,\"#0d0887\"],[0.1111111111111111,\"#46039f\"],[0.2222222222222222,\"#7201a8\"],[0.3333333333333333,\"#9c179e\"],[0.4444444444444444,\"#bd3786\"],[0.5555555555555556,\"#d8576b\"],[0.6666666666666666,\"#ed7953\"],[0.7777777777777778,\"#fb9f3a\"],[0.8888888888888888,\"#fdca26\"],[1.0,\"#f0f921\"]]}],\"heatmapgl\":[{\"type\":\"heatmapgl\",\"colorbar\":{\"outlinewidth\":0,\"ticks\":\"\"},\"colorscale\":[[0.0,\"#0d0887\"],[0.1111111111111111,\"#46039f\"],[0.2222222222222222,\"#7201a8\"],[0.3333333333333333,\"#9c179e\"],[0.4444444444444444,\"#bd3786\"],[0.5555555555555556,\"#d8576b\"],[0.6666666666666666,\"#ed7953\"],[0.7777777777777778,\"#fb9f3a\"],[0.8888888888888888,\"#fdca26\"],[1.0,\"#f0f921\"]]}],\"contourcarpet\":[{\"type\":\"contourcarpet\",\"colorbar\":{\"outlinewidth\":0,\"ticks\":\"\"}}],\"contour\":[{\"type\":\"contour\",\"colorbar\":{\"outlinewidth\":0,\"ticks\":\"\"},\"colorscale\":[[0.0,\"#0d0887\"],[0.1111111111111111,\"#46039f\"],[0.2222222222222222,\"#7201a8\"],[0.3333333333333333,\"#9c179e\"],[0.4444444444444444,\"#bd3786\"],[0.5555555555555556,\"#d8576b\"],[0.6666666666666666,\"#ed7953\"],[0.7777777777777778,\"#fb9f3a\"],[0.8888888888888888,\"#fdca26\"],[1.0,\"#f0f921\"]]}],\"surface\":[{\"type\":\"surface\",\"colorbar\":{\"outlinewidth\":0,\"ticks\":\"\"},\"colorscale\":[[0.0,\"#0d0887\"],[0.1111111111111111,\"#46039f\"],[0.2222222222222222,\"#7201a8\"],[0.3333333333333333,\"#9c179e\"],[0.4444444444444444,\"#bd3786\"],[0.5555555555555556,\"#d8576b\"],[0.6666666666666666,\"#ed7953\"],[0.7777777777777778,\"#fb9f3a\"],[0.8888888888888888,\"#fdca26\"],[1.0,\"#f0f921\"]]}],\"mesh3d\":[{\"type\":\"mesh3d\",\"colorbar\":{\"outlinewidth\":0,\"ticks\":\"\"}}],\"scatter\":[{\"fillpattern\":{\"fillmode\":\"overlay\",\"size\":10,\"solidity\":0.2},\"type\":\"scatter\"}],\"parcoords\":[{\"type\":\"parcoords\",\"line\":{\"colorbar\":{\"outlinewidth\":0,\"ticks\":\"\"}}}],\"scatterpolargl\":[{\"type\":\"scatterpolargl\",\"marker\":{\"colorbar\":{\"outlinewidth\":0,\"ticks\":\"\"}}}],\"bar\":[{\"error_x\":{\"color\":\"#2a3f5f\"},\"error_y\":{\"color\":\"#2a3f5f\"},\"marker\":{\"line\":{\"color\":\"#E5ECF6\",\"width\":0.5},\"pattern\":{\"fillmode\":\"overlay\",\"size\":10,\"solidity\":0.2}},\"type\":\"bar\"}],\"scattergeo\":[{\"type\":\"scattergeo\",\"marker\":{\"colorbar\":{\"outlinewidth\":0,\"ticks\":\"\"}}}],\"scatterpolar\":[{\"type\":\"scatterpolar\",\"marker\":{\"colorbar\":{\"outlinewidth\":0,\"ticks\":\"\"}}}],\"histogram\":[{\"marker\":{\"pattern\":{\"fillmode\":\"overlay\",\"size\":10,\"solidity\":0.2}},\"type\":\"histogram\"}],\"scattergl\":[{\"type\":\"scattergl\",\"marker\":{\"colorbar\":{\"outlinewidth\":0,\"ticks\":\"\"}}}],\"scatter3d\":[{\"type\":\"scatter3d\",\"line\":{\"colorbar\":{\"outlinewidth\":0,\"ticks\":\"\"}},\"marker\":{\"colorbar\":{\"outlinewidth\":0,\"ticks\":\"\"}}}],\"scattermapbox\":[{\"type\":\"scattermapbox\",\"marker\":{\"colorbar\":{\"outlinewidth\":0,\"ticks\":\"\"}}}],\"scatterternary\":[{\"type\":\"scatterternary\",\"marker\":{\"colorbar\":{\"outlinewidth\":0,\"ticks\":\"\"}}}],\"scattercarpet\":[{\"type\":\"scattercarpet\",\"marker\":{\"colorbar\":{\"outlinewidth\":0,\"ticks\":\"\"}}}],\"carpet\":[{\"aaxis\":{\"endlinecolor\":\"#2a3f5f\",\"gridcolor\":\"white\",\"linecolor\":\"white\",\"minorgridcolor\":\"white\",\"startlinecolor\":\"#2a3f5f\"},\"baxis\":{\"endlinecolor\":\"#2a3f5f\",\"gridcolor\":\"white\",\"linecolor\":\"white\",\"minorgridcolor\":\"white\",\"startlinecolor\":\"#2a3f5f\"},\"type\":\"carpet\"}],\"table\":[{\"cells\":{\"fill\":{\"color\":\"#EBF0F8\"},\"line\":{\"color\":\"white\"}},\"header\":{\"fill\":{\"color\":\"#C8D4E3\"},\"line\":{\"color\":\"white\"}},\"type\":\"table\"}],\"barpolar\":[{\"marker\":{\"line\":{\"color\":\"#E5ECF6\",\"width\":0.5},\"pattern\":{\"fillmode\":\"overlay\",\"size\":10,\"solidity\":0.2}},\"type\":\"barpolar\"}],\"pie\":[{\"automargin\":true,\"type\":\"pie\"}]},\"layout\":{\"autotypenumbers\":\"strict\",\"colorway\":[\"#636efa\",\"#EF553B\",\"#00cc96\",\"#ab63fa\",\"#FFA15A\",\"#19d3f3\",\"#FF6692\",\"#B6E880\",\"#FF97FF\",\"#FECB52\"],\"font\":{\"color\":\"#2a3f5f\"},\"hovermode\":\"closest\",\"hoverlabel\":{\"align\":\"left\"},\"paper_bgcolor\":\"white\",\"plot_bgcolor\":\"#E5ECF6\",\"polar\":{\"bgcolor\":\"#E5ECF6\",\"angularaxis\":{\"gridcolor\":\"white\",\"linecolor\":\"white\",\"ticks\":\"\"},\"radialaxis\":{\"gridcolor\":\"white\",\"linecolor\":\"white\",\"ticks\":\"\"}},\"ternary\":{\"bgcolor\":\"#E5ECF6\",\"aaxis\":{\"gridcolor\":\"white\",\"linecolor\":\"white\",\"ticks\":\"\"},\"baxis\":{\"gridcolor\":\"white\",\"linecolor\":\"white\",\"ticks\":\"\"},\"caxis\":{\"gridcolor\":\"white\",\"linecolor\":\"white\",\"ticks\":\"\"}},\"coloraxis\":{\"colorbar\":{\"outlinewidth\":0,\"ticks\":\"\"}},\"colorscale\":{\"sequential\":[[0.0,\"#0d0887\"],[0.1111111111111111,\"#46039f\"],[0.2222222222222222,\"#7201a8\"],[0.3333333333333333,\"#9c179e\"],[0.4444444444444444,\"#bd3786\"],[0.5555555555555556,\"#d8576b\"],[0.6666666666666666,\"#ed7953\"],[0.7777777777777778,\"#fb9f3a\"],[0.8888888888888888,\"#fdca26\"],[1.0,\"#f0f921\"]],\"sequentialminus\":[[0.0,\"#0d0887\"],[0.1111111111111111,\"#46039f\"],[0.2222222222222222,\"#7201a8\"],[0.3333333333333333,\"#9c179e\"],[0.4444444444444444,\"#bd3786\"],[0.5555555555555556,\"#d8576b\"],[0.6666666666666666,\"#ed7953\"],[0.7777777777777778,\"#fb9f3a\"],[0.8888888888888888,\"#fdca26\"],[1.0,\"#f0f921\"]],\"diverging\":[[0,\"#8e0152\"],[0.1,\"#c51b7d\"],[0.2,\"#de77ae\"],[0.3,\"#f1b6da\"],[0.4,\"#fde0ef\"],[0.5,\"#f7f7f7\"],[0.6,\"#e6f5d0\"],[0.7,\"#b8e186\"],[0.8,\"#7fbc41\"],[0.9,\"#4d9221\"],[1,\"#276419\"]]},\"xaxis\":{\"gridcolor\":\"white\",\"linecolor\":\"white\",\"ticks\":\"\",\"title\":{\"standoff\":15},\"zerolinecolor\":\"white\",\"automargin\":true,\"zerolinewidth\":2},\"yaxis\":{\"gridcolor\":\"white\",\"linecolor\":\"white\",\"ticks\":\"\",\"title\":{\"standoff\":15},\"zerolinecolor\":\"white\",\"automargin\":true,\"zerolinewidth\":2},\"scene\":{\"xaxis\":{\"backgroundcolor\":\"#E5ECF6\",\"gridcolor\":\"white\",\"linecolor\":\"white\",\"showbackground\":true,\"ticks\":\"\",\"zerolinecolor\":\"white\",\"gridwidth\":2},\"yaxis\":{\"backgroundcolor\":\"#E5ECF6\",\"gridcolor\":\"white\",\"linecolor\":\"white\",\"showbackground\":true,\"ticks\":\"\",\"zerolinecolor\":\"white\",\"gridwidth\":2},\"zaxis\":{\"backgroundcolor\":\"#E5ECF6\",\"gridcolor\":\"white\",\"linecolor\":\"white\",\"showbackground\":true,\"ticks\":\"\",\"zerolinecolor\":\"white\",\"gridwidth\":2}},\"shapedefaults\":{\"line\":{\"color\":\"#2a3f5f\"}},\"annotationdefaults\":{\"arrowcolor\":\"#2a3f5f\",\"arrowhead\":0,\"arrowwidth\":1},\"geo\":{\"bgcolor\":\"white\",\"landcolor\":\"#E5ECF6\",\"subunitcolor\":\"white\",\"showland\":true,\"showlakes\":true,\"lakecolor\":\"white\"},\"title\":{\"x\":0.05},\"mapbox\":{\"style\":\"light\"}}},\"xaxis\":{\"anchor\":\"y\",\"domain\":[0.0,1.0],\"scaleanchor\":\"y\",\"constrain\":\"domain\",\"title\":{\"text\":\"Token\"},\"tickvals\":[0,1,2,3,4,5,6,7,8,9,10,11,12,13,14,15,16,17,18,19,20,21,22,23,24,25,26,27,28,29,30,31,32,33,34,35,36,37,38,39,40,41,42,43,44,45,46,47,48,49,50,51,52,53,54,55,56,57,58,59],\"ticktext\":[\"\\u2581medium\",\"\\u2581to\",\"\\u2581high\",\".\",\"\\u2581\\\"\",\"G\",\"im\",\"bar\",\"\\\"\",\"\\u2581is\",\"\\u2581not\",\"\\u2581a\",\"\\u2581commonly\",\"\\u2581known\",\"\\u2581or\",\"\\u2581recognized\",\"\\u2581author\",\"\\u2581in\",\"\\u2581the\",\"\\u2581literary\",\"\\u2581world\",\",\",\"\\u2581so\",\"\\u2581it\",\"\\u2581is\",\"\\u2581likely\",\"\\u2581that\",\"\\u2581the\",\"\\u2581statement\",\"\\u2581is\",\"\\u2581true\",\".\",\"\\u2581However\",\",\",\"\\u2581it\",\"\\u2581is\",\"\\u2581also\",\"\\u2581possible\",\"\\u2581that\",\"\\u2581there\",\"\\u2581could\",\"\\u2581be\",\"\\u2581an\",\"\\u2581author\",\"\\u2581named\",\"\\u2581\\\"\",\"G\",\"im\",\"bar\",\"\\\"\",\"\\u2581who\",\"\\u2581is\",\"\\u2581less\",\"\\u2581well\",\"-\",\"known\",\"\\u2581or\",\"\\u2581who\",\"\\u2581has\",\"\\u2581published\"]},\"yaxis\":{\"anchor\":\"x\",\"domain\":[0.0,1.0],\"autorange\":\"reversed\",\"constrain\":\"domain\"},\"coloraxis\":{\"colorscale\":[[0.0,\"rgb(165,0,38)\"],[0.1,\"rgb(215,48,39)\"],[0.2,\"rgb(244,109,67)\"],[0.3,\"rgb(253,174,97)\"],[0.4,\"rgb(254,224,139)\"],[0.5,\"rgb(255,255,191)\"],[0.6,\"rgb(217,239,139)\"],[0.7,\"rgb(166,217,106)\"],[0.8,\"rgb(102,189,99)\"],[0.9,\"rgb(26,152,80)\"],[1.0,\"rgb(0,104,55)\"]],\"cmin\":-3.2407,\"cmax\":3.2407},\"margin\":{\"t\":60},\"width\":1000,\"height\":600},                        {\"responsive\": true}                    ).then(function(){\n",
       "                            \n",
       "var gd = document.getElementById('c1b7c1b4-29af-4b6c-8de0-b2391ea16e77');\n",
       "var x = new MutationObserver(function (mutations, observer) {{\n",
       "        var display = window.getComputedStyle(gd).display;\n",
       "        if (!display || display === 'none') {{\n",
       "            console.log([gd, 'removed!']);\n",
       "            Plotly.purge(gd);\n",
       "            observer.disconnect();\n",
       "        }}\n",
       "}});\n",
       "\n",
       "// Listen for the removal of the full notebook cells\n",
       "var notebookContainer = gd.closest('#notebook-container');\n",
       "if (notebookContainer) {{\n",
       "    x.observe(notebookContainer, {childList: true});\n",
       "}}\n",
       "\n",
       "// Listen for the clearing of the current output cell\n",
       "var outputEl = gd.closest('.output');\n",
       "if (outputEl) {{\n",
       "    x.observe(outputEl, {childList: true});\n",
       "}}\n",
       "\n",
       "                        })                };                });            </script>        </div>"
      ]
     },
     "metadata": {},
     "output_type": "display_data"
    }
   ],
   "source": [
    "tokens = tokenizer.tokenize(output['text'])\n",
    "doc.plot_projection_heatmap(output['projections'], tokens, lastn_tokens_to_plot=max_new_tokens, saturate_at='auto')"
   ]
  },
  {
   "cell_type": "code",
   "execution_count": 104,
   "id": "379fe7a4-3698-4594-a3d3-b8d74491c58b",
   "metadata": {
    "tags": []
   },
   "outputs": [
    {
     "data": {
      "application/vnd.plotly.v1+json": {
       "config": {
        "plotlyServerURL": "https://plot.ly"
       },
       "data": [
        {
         "coloraxis": "coloraxis",
         "hovertemplate": "Token: %{x}<br>y: %{y}<br>color: %{z}<extra></extra>",
         "name": "0",
         "type": "heatmap",
         "xaxis": "x",
         "yaxis": "y",
         "z": [
          [
           -0.423583984375,
           -0.1112060546875,
           -0.4521484375,
           -0.46044921875,
           -0.259521484375,
           -1.0400390625,
           -1.654296875,
           -1.4873046875,
           -1.2080078125,
           -1.138671875,
           -0.81591796875,
           -0.9814453125,
           -0.5517578125,
           -0.755859375,
           -0.3984375,
           -0.274169921875,
           -0.343017578125,
           -0.3212890625,
           -0.4033203125,
           -0.517578125,
           -0.6474609375,
           -0.53125,
           -0.29248046875,
           -0.385498046875,
           -0.41748046875,
           -0.205078125,
           -0.2027587890625,
           -0.29296875,
           -0.25341796875,
           -0.140380859375,
           -0.1669921875,
           -0.1588134765625,
           -0.65673828125,
           -0.65087890625,
           -0.4765625,
           -0.453369140625,
           -0.5927734375,
           -0.474365234375,
           -0.41455078125,
           -0.39990234375,
           -0.473388671875,
           -0.402099609375,
           -0.357177734375,
           -0.2239990234375,
           -0.365234375,
           -0.18798828125,
           -0.258056640625,
           -0.283447265625,
           -0.2459716796875,
           -0.11798095703125,
           -0.2274169921875,
           -0.408203125,
           -0.304443359375,
           -0.32958984375,
           -0.26611328125,
           -0.32568359375,
           -0.19580078125,
           -0.52587890625,
           -0.23388671875
          ]
         ]
        }
       ],
       "layout": {
        "autosize": true,
        "coloraxis": {
         "cmax": 1,
         "cmin": -1,
         "colorscale": [
          [
           0,
           "rgb(165,0,38)"
          ],
          [
           0.1,
           "rgb(215,48,39)"
          ],
          [
           0.2,
           "rgb(244,109,67)"
          ],
          [
           0.3,
           "rgb(253,174,97)"
          ],
          [
           0.4,
           "rgb(254,224,139)"
          ],
          [
           0.5,
           "rgb(255,255,191)"
          ],
          [
           0.6,
           "rgb(217,239,139)"
          ],
          [
           0.7,
           "rgb(166,217,106)"
          ],
          [
           0.8,
           "rgb(102,189,99)"
          ],
          [
           0.9,
           "rgb(26,152,80)"
          ],
          [
           1,
           "rgb(0,104,55)"
          ]
         ]
        },
        "margin": {
         "t": 60
        },
        "template": {
         "data": {
          "bar": [
           {
            "error_x": {
             "color": "#2a3f5f"
            },
            "error_y": {
             "color": "#2a3f5f"
            },
            "marker": {
             "line": {
              "color": "#E5ECF6",
              "width": 0.5
             },
             "pattern": {
              "fillmode": "overlay",
              "size": 10,
              "solidity": 0.2
             }
            },
            "type": "bar"
           }
          ],
          "barpolar": [
           {
            "marker": {
             "line": {
              "color": "#E5ECF6",
              "width": 0.5
             },
             "pattern": {
              "fillmode": "overlay",
              "size": 10,
              "solidity": 0.2
             }
            },
            "type": "barpolar"
           }
          ],
          "carpet": [
           {
            "aaxis": {
             "endlinecolor": "#2a3f5f",
             "gridcolor": "white",
             "linecolor": "white",
             "minorgridcolor": "white",
             "startlinecolor": "#2a3f5f"
            },
            "baxis": {
             "endlinecolor": "#2a3f5f",
             "gridcolor": "white",
             "linecolor": "white",
             "minorgridcolor": "white",
             "startlinecolor": "#2a3f5f"
            },
            "type": "carpet"
           }
          ],
          "choropleth": [
           {
            "colorbar": {
             "outlinewidth": 0,
             "ticks": ""
            },
            "type": "choropleth"
           }
          ],
          "contour": [
           {
            "colorbar": {
             "outlinewidth": 0,
             "ticks": ""
            },
            "colorscale": [
             [
              0,
              "#0d0887"
             ],
             [
              0.1111111111111111,
              "#46039f"
             ],
             [
              0.2222222222222222,
              "#7201a8"
             ],
             [
              0.3333333333333333,
              "#9c179e"
             ],
             [
              0.4444444444444444,
              "#bd3786"
             ],
             [
              0.5555555555555556,
              "#d8576b"
             ],
             [
              0.6666666666666666,
              "#ed7953"
             ],
             [
              0.7777777777777778,
              "#fb9f3a"
             ],
             [
              0.8888888888888888,
              "#fdca26"
             ],
             [
              1,
              "#f0f921"
             ]
            ],
            "type": "contour"
           }
          ],
          "contourcarpet": [
           {
            "colorbar": {
             "outlinewidth": 0,
             "ticks": ""
            },
            "type": "contourcarpet"
           }
          ],
          "heatmap": [
           {
            "colorbar": {
             "outlinewidth": 0,
             "ticks": ""
            },
            "colorscale": [
             [
              0,
              "#0d0887"
             ],
             [
              0.1111111111111111,
              "#46039f"
             ],
             [
              0.2222222222222222,
              "#7201a8"
             ],
             [
              0.3333333333333333,
              "#9c179e"
             ],
             [
              0.4444444444444444,
              "#bd3786"
             ],
             [
              0.5555555555555556,
              "#d8576b"
             ],
             [
              0.6666666666666666,
              "#ed7953"
             ],
             [
              0.7777777777777778,
              "#fb9f3a"
             ],
             [
              0.8888888888888888,
              "#fdca26"
             ],
             [
              1,
              "#f0f921"
             ]
            ],
            "type": "heatmap"
           }
          ],
          "heatmapgl": [
           {
            "colorbar": {
             "outlinewidth": 0,
             "ticks": ""
            },
            "colorscale": [
             [
              0,
              "#0d0887"
             ],
             [
              0.1111111111111111,
              "#46039f"
             ],
             [
              0.2222222222222222,
              "#7201a8"
             ],
             [
              0.3333333333333333,
              "#9c179e"
             ],
             [
              0.4444444444444444,
              "#bd3786"
             ],
             [
              0.5555555555555556,
              "#d8576b"
             ],
             [
              0.6666666666666666,
              "#ed7953"
             ],
             [
              0.7777777777777778,
              "#fb9f3a"
             ],
             [
              0.8888888888888888,
              "#fdca26"
             ],
             [
              1,
              "#f0f921"
             ]
            ],
            "type": "heatmapgl"
           }
          ],
          "histogram": [
           {
            "marker": {
             "pattern": {
              "fillmode": "overlay",
              "size": 10,
              "solidity": 0.2
             }
            },
            "type": "histogram"
           }
          ],
          "histogram2d": [
           {
            "colorbar": {
             "outlinewidth": 0,
             "ticks": ""
            },
            "colorscale": [
             [
              0,
              "#0d0887"
             ],
             [
              0.1111111111111111,
              "#46039f"
             ],
             [
              0.2222222222222222,
              "#7201a8"
             ],
             [
              0.3333333333333333,
              "#9c179e"
             ],
             [
              0.4444444444444444,
              "#bd3786"
             ],
             [
              0.5555555555555556,
              "#d8576b"
             ],
             [
              0.6666666666666666,
              "#ed7953"
             ],
             [
              0.7777777777777778,
              "#fb9f3a"
             ],
             [
              0.8888888888888888,
              "#fdca26"
             ],
             [
              1,
              "#f0f921"
             ]
            ],
            "type": "histogram2d"
           }
          ],
          "histogram2dcontour": [
           {
            "colorbar": {
             "outlinewidth": 0,
             "ticks": ""
            },
            "colorscale": [
             [
              0,
              "#0d0887"
             ],
             [
              0.1111111111111111,
              "#46039f"
             ],
             [
              0.2222222222222222,
              "#7201a8"
             ],
             [
              0.3333333333333333,
              "#9c179e"
             ],
             [
              0.4444444444444444,
              "#bd3786"
             ],
             [
              0.5555555555555556,
              "#d8576b"
             ],
             [
              0.6666666666666666,
              "#ed7953"
             ],
             [
              0.7777777777777778,
              "#fb9f3a"
             ],
             [
              0.8888888888888888,
              "#fdca26"
             ],
             [
              1,
              "#f0f921"
             ]
            ],
            "type": "histogram2dcontour"
           }
          ],
          "mesh3d": [
           {
            "colorbar": {
             "outlinewidth": 0,
             "ticks": ""
            },
            "type": "mesh3d"
           }
          ],
          "parcoords": [
           {
            "line": {
             "colorbar": {
              "outlinewidth": 0,
              "ticks": ""
             }
            },
            "type": "parcoords"
           }
          ],
          "pie": [
           {
            "automargin": true,
            "type": "pie"
           }
          ],
          "scatter": [
           {
            "fillpattern": {
             "fillmode": "overlay",
             "size": 10,
             "solidity": 0.2
            },
            "type": "scatter"
           }
          ],
          "scatter3d": [
           {
            "line": {
             "colorbar": {
              "outlinewidth": 0,
              "ticks": ""
             }
            },
            "marker": {
             "colorbar": {
              "outlinewidth": 0,
              "ticks": ""
             }
            },
            "type": "scatter3d"
           }
          ],
          "scattercarpet": [
           {
            "marker": {
             "colorbar": {
              "outlinewidth": 0,
              "ticks": ""
             }
            },
            "type": "scattercarpet"
           }
          ],
          "scattergeo": [
           {
            "marker": {
             "colorbar": {
              "outlinewidth": 0,
              "ticks": ""
             }
            },
            "type": "scattergeo"
           }
          ],
          "scattergl": [
           {
            "marker": {
             "colorbar": {
              "outlinewidth": 0,
              "ticks": ""
             }
            },
            "type": "scattergl"
           }
          ],
          "scattermapbox": [
           {
            "marker": {
             "colorbar": {
              "outlinewidth": 0,
              "ticks": ""
             }
            },
            "type": "scattermapbox"
           }
          ],
          "scatterpolar": [
           {
            "marker": {
             "colorbar": {
              "outlinewidth": 0,
              "ticks": ""
             }
            },
            "type": "scatterpolar"
           }
          ],
          "scatterpolargl": [
           {
            "marker": {
             "colorbar": {
              "outlinewidth": 0,
              "ticks": ""
             }
            },
            "type": "scatterpolargl"
           }
          ],
          "scatterternary": [
           {
            "marker": {
             "colorbar": {
              "outlinewidth": 0,
              "ticks": ""
             }
            },
            "type": "scatterternary"
           }
          ],
          "surface": [
           {
            "colorbar": {
             "outlinewidth": 0,
             "ticks": ""
            },
            "colorscale": [
             [
              0,
              "#0d0887"
             ],
             [
              0.1111111111111111,
              "#46039f"
             ],
             [
              0.2222222222222222,
              "#7201a8"
             ],
             [
              0.3333333333333333,
              "#9c179e"
             ],
             [
              0.4444444444444444,
              "#bd3786"
             ],
             [
              0.5555555555555556,
              "#d8576b"
             ],
             [
              0.6666666666666666,
              "#ed7953"
             ],
             [
              0.7777777777777778,
              "#fb9f3a"
             ],
             [
              0.8888888888888888,
              "#fdca26"
             ],
             [
              1,
              "#f0f921"
             ]
            ],
            "type": "surface"
           }
          ],
          "table": [
           {
            "cells": {
             "fill": {
              "color": "#EBF0F8"
             },
             "line": {
              "color": "white"
             }
            },
            "header": {
             "fill": {
              "color": "#C8D4E3"
             },
             "line": {
              "color": "white"
             }
            },
            "type": "table"
           }
          ]
         },
         "layout": {
          "annotationdefaults": {
           "arrowcolor": "#2a3f5f",
           "arrowhead": 0,
           "arrowwidth": 1
          },
          "autotypenumbers": "strict",
          "coloraxis": {
           "colorbar": {
            "outlinewidth": 0,
            "ticks": ""
           }
          },
          "colorscale": {
           "diverging": [
            [
             0,
             "#8e0152"
            ],
            [
             0.1,
             "#c51b7d"
            ],
            [
             0.2,
             "#de77ae"
            ],
            [
             0.3,
             "#f1b6da"
            ],
            [
             0.4,
             "#fde0ef"
            ],
            [
             0.5,
             "#f7f7f7"
            ],
            [
             0.6,
             "#e6f5d0"
            ],
            [
             0.7,
             "#b8e186"
            ],
            [
             0.8,
             "#7fbc41"
            ],
            [
             0.9,
             "#4d9221"
            ],
            [
             1,
             "#276419"
            ]
           ],
           "sequential": [
            [
             0,
             "#0d0887"
            ],
            [
             0.1111111111111111,
             "#46039f"
            ],
            [
             0.2222222222222222,
             "#7201a8"
            ],
            [
             0.3333333333333333,
             "#9c179e"
            ],
            [
             0.4444444444444444,
             "#bd3786"
            ],
            [
             0.5555555555555556,
             "#d8576b"
            ],
            [
             0.6666666666666666,
             "#ed7953"
            ],
            [
             0.7777777777777778,
             "#fb9f3a"
            ],
            [
             0.8888888888888888,
             "#fdca26"
            ],
            [
             1,
             "#f0f921"
            ]
           ],
           "sequentialminus": [
            [
             0,
             "#0d0887"
            ],
            [
             0.1111111111111111,
             "#46039f"
            ],
            [
             0.2222222222222222,
             "#7201a8"
            ],
            [
             0.3333333333333333,
             "#9c179e"
            ],
            [
             0.4444444444444444,
             "#bd3786"
            ],
            [
             0.5555555555555556,
             "#d8576b"
            ],
            [
             0.6666666666666666,
             "#ed7953"
            ],
            [
             0.7777777777777778,
             "#fb9f3a"
            ],
            [
             0.8888888888888888,
             "#fdca26"
            ],
            [
             1,
             "#f0f921"
            ]
           ]
          },
          "colorway": [
           "#636efa",
           "#EF553B",
           "#00cc96",
           "#ab63fa",
           "#FFA15A",
           "#19d3f3",
           "#FF6692",
           "#B6E880",
           "#FF97FF",
           "#FECB52"
          ],
          "font": {
           "color": "#2a3f5f"
          },
          "geo": {
           "bgcolor": "white",
           "lakecolor": "white",
           "landcolor": "#E5ECF6",
           "showlakes": true,
           "showland": true,
           "subunitcolor": "white"
          },
          "hoverlabel": {
           "align": "left"
          },
          "hovermode": "closest",
          "mapbox": {
           "style": "light"
          },
          "paper_bgcolor": "white",
          "plot_bgcolor": "#E5ECF6",
          "polar": {
           "angularaxis": {
            "gridcolor": "white",
            "linecolor": "white",
            "ticks": ""
           },
           "bgcolor": "#E5ECF6",
           "radialaxis": {
            "gridcolor": "white",
            "linecolor": "white",
            "ticks": ""
           }
          },
          "scene": {
           "xaxis": {
            "backgroundcolor": "#E5ECF6",
            "gridcolor": "white",
            "gridwidth": 2,
            "linecolor": "white",
            "showbackground": true,
            "ticks": "",
            "zerolinecolor": "white"
           },
           "yaxis": {
            "backgroundcolor": "#E5ECF6",
            "gridcolor": "white",
            "gridwidth": 2,
            "linecolor": "white",
            "showbackground": true,
            "ticks": "",
            "zerolinecolor": "white"
           },
           "zaxis": {
            "backgroundcolor": "#E5ECF6",
            "gridcolor": "white",
            "gridwidth": 2,
            "linecolor": "white",
            "showbackground": true,
            "ticks": "",
            "zerolinecolor": "white"
           }
          },
          "shapedefaults": {
           "line": {
            "color": "#2a3f5f"
           }
          },
          "ternary": {
           "aaxis": {
            "gridcolor": "white",
            "linecolor": "white",
            "ticks": ""
           },
           "baxis": {
            "gridcolor": "white",
            "linecolor": "white",
            "ticks": ""
           },
           "bgcolor": "#E5ECF6",
           "caxis": {
            "gridcolor": "white",
            "linecolor": "white",
            "ticks": ""
           }
          },
          "title": {
           "x": 0.05
          },
          "xaxis": {
           "automargin": true,
           "gridcolor": "white",
           "linecolor": "white",
           "ticks": "",
           "title": {
            "standoff": 15
           },
           "zerolinecolor": "white",
           "zerolinewidth": 2
          },
          "yaxis": {
           "automargin": true,
           "gridcolor": "white",
           "linecolor": "white",
           "ticks": "",
           "title": {
            "standoff": 15
           },
           "zerolinecolor": "white",
           "zerolinewidth": 2
          }
         }
        },
        "xaxis": {
         "anchor": "y",
         "autorange": true,
         "constrain": "domain",
         "domain": [
          0,
          1
         ],
         "range": [
          -0.5,
          58.5
         ],
         "scaleanchor": "y",
         "tickangle": -45,
         "tickfont": {
          "size": 20
         },
         "ticktext": [
          "▁G",
          "im",
          "bar",
          "'",
          "s",
          "▁adventures",
          "▁is",
          "▁a",
          "▁term",
          "▁used",
          "▁for",
          "▁a",
          "▁collection",
          "▁of",
          "▁",
          "1",
          "6",
          "th",
          "-",
          "century",
          "▁accounts",
          "▁of",
          "▁voy",
          "ages",
          "▁to",
          "▁and",
          "▁observations",
          "▁of",
          "▁the",
          "▁East",
          "▁Ind",
          "ies",
          ".",
          "▁More",
          "▁specifically",
          ",",
          "▁it",
          "▁was",
          "▁a",
          "▁term",
          "▁used",
          "▁by",
          "▁Italian",
          "▁expl",
          "orer",
          "▁Nic",
          "col",
          "ò",
          "▁Fi",
          "orent",
          "ino",
          "▁(",
          "1",
          "4",
          "5",
          "8",
          "-",
          "1",
          "5",
          "0"
         ],
         "tickvals": [
          0,
          1,
          2,
          3,
          4,
          5,
          6,
          7,
          8,
          9,
          10,
          11,
          12,
          13,
          14,
          15,
          16,
          17,
          18,
          19,
          20,
          21,
          22,
          23,
          24,
          25,
          26,
          27,
          28,
          29,
          30,
          31,
          32,
          33,
          34,
          35,
          36,
          37,
          38,
          39,
          40,
          41,
          42,
          43,
          44,
          45,
          46,
          47,
          48,
          49,
          50,
          51,
          52,
          53,
          54,
          55,
          56,
          57,
          58,
          59
         ],
         "title": {
          "text": "Token"
         }
        },
        "yaxis": {
         "anchor": "x",
         "autorange": true,
         "constrain": "domain",
         "domain": [
          0.46899075500770415,
          0.5310092449922958
         ],
         "range": [
          0.5,
          -0.5
         ],
         "showticklabels": false
        }
       }
      },
      "image/png": "[encoded data removed]",
      "text/html": [
       "<div>                            <div id=\"4daacc75-7093-4193-af3a-9837b5543080\" class=\"plotly-graph-div\" style=\"height:525px; width:100%;\"></div>            <script type=\"text/javascript\">                require([\"plotly\"], function(Plotly) {                    window.PLOTLYENV=window.PLOTLYENV || {};                                    if (document.getElementById(\"4daacc75-7093-4193-af3a-9837b5543080\")) {                    Plotly.newPlot(                        \"4daacc75-7093-4193-af3a-9837b5543080\",                        [{\"coloraxis\":\"coloraxis\",\"name\":\"0\",\"z\":[[-0.423583984375,-0.1112060546875,-0.4521484375,-0.46044921875,-0.259521484375,-1.0400390625,-1.654296875,-1.4873046875,-1.2080078125,-1.138671875,-0.81591796875,-0.9814453125,-0.5517578125,-0.755859375,-0.3984375,-0.274169921875,-0.343017578125,-0.3212890625,-0.4033203125,-0.517578125,-0.6474609375,-0.53125,-0.29248046875,-0.385498046875,-0.41748046875,-0.205078125,-0.2027587890625,-0.29296875,-0.25341796875,-0.140380859375,-0.1669921875,-0.1588134765625,-0.65673828125,-0.65087890625,-0.4765625,-0.453369140625,-0.5927734375,-0.474365234375,-0.41455078125,-0.39990234375,-0.473388671875,-0.402099609375,-0.357177734375,-0.2239990234375,-0.365234375,-0.18798828125,-0.258056640625,-0.283447265625,-0.2459716796875,-0.11798095703125,-0.2274169921875,-0.408203125,-0.304443359375,-0.32958984375,-0.26611328125,-0.32568359375,-0.19580078125,-0.52587890625,-0.23388671875]],\"type\":\"heatmap\",\"xaxis\":\"x\",\"yaxis\":\"y\",\"hovertemplate\":\"Token: %{x}\\u003cbr\\u003ey: %{y}\\u003cbr\\u003ecolor: %{z}\\u003cextra\\u003e\\u003c\\u002fextra\\u003e\"}],                        {\"template\":{\"data\":{\"histogram2dcontour\":[{\"type\":\"histogram2dcontour\",\"colorbar\":{\"outlinewidth\":0,\"ticks\":\"\"},\"colorscale\":[[0.0,\"#0d0887\"],[0.1111111111111111,\"#46039f\"],[0.2222222222222222,\"#7201a8\"],[0.3333333333333333,\"#9c179e\"],[0.4444444444444444,\"#bd3786\"],[0.5555555555555556,\"#d8576b\"],[0.6666666666666666,\"#ed7953\"],[0.7777777777777778,\"#fb9f3a\"],[0.8888888888888888,\"#fdca26\"],[1.0,\"#f0f921\"]]}],\"choropleth\":[{\"type\":\"choropleth\",\"colorbar\":{\"outlinewidth\":0,\"ticks\":\"\"}}],\"histogram2d\":[{\"type\":\"histogram2d\",\"colorbar\":{\"outlinewidth\":0,\"ticks\":\"\"},\"colorscale\":[[0.0,\"#0d0887\"],[0.1111111111111111,\"#46039f\"],[0.2222222222222222,\"#7201a8\"],[0.3333333333333333,\"#9c179e\"],[0.4444444444444444,\"#bd3786\"],[0.5555555555555556,\"#d8576b\"],[0.6666666666666666,\"#ed7953\"],[0.7777777777777778,\"#fb9f3a\"],[0.8888888888888888,\"#fdca26\"],[1.0,\"#f0f921\"]]}],\"heatmap\":[{\"type\":\"heatmap\",\"colorbar\":{\"outlinewidth\":0,\"ticks\":\"\"},\"colorscale\":[[0.0,\"#0d0887\"],[0.1111111111111111,\"#46039f\"],[0.2222222222222222,\"#7201a8\"],[0.3333333333333333,\"#9c179e\"],[0.4444444444444444,\"#bd3786\"],[0.5555555555555556,\"#d8576b\"],[0.6666666666666666,\"#ed7953\"],[0.7777777777777778,\"#fb9f3a\"],[0.8888888888888888,\"#fdca26\"],[1.0,\"#f0f921\"]]}],\"heatmapgl\":[{\"type\":\"heatmapgl\",\"colorbar\":{\"outlinewidth\":0,\"ticks\":\"\"},\"colorscale\":[[0.0,\"#0d0887\"],[0.1111111111111111,\"#46039f\"],[0.2222222222222222,\"#7201a8\"],[0.3333333333333333,\"#9c179e\"],[0.4444444444444444,\"#bd3786\"],[0.5555555555555556,\"#d8576b\"],[0.6666666666666666,\"#ed7953\"],[0.7777777777777778,\"#fb9f3a\"],[0.8888888888888888,\"#fdca26\"],[1.0,\"#f0f921\"]]}],\"contourcarpet\":[{\"type\":\"contourcarpet\",\"colorbar\":{\"outlinewidth\":0,\"ticks\":\"\"}}],\"contour\":[{\"type\":\"contour\",\"colorbar\":{\"outlinewidth\":0,\"ticks\":\"\"},\"colorscale\":[[0.0,\"#0d0887\"],[0.1111111111111111,\"#46039f\"],[0.2222222222222222,\"#7201a8\"],[0.3333333333333333,\"#9c179e\"],[0.4444444444444444,\"#bd3786\"],[0.5555555555555556,\"#d8576b\"],[0.6666666666666666,\"#ed7953\"],[0.7777777777777778,\"#fb9f3a\"],[0.8888888888888888,\"#fdca26\"],[1.0,\"#f0f921\"]]}],\"surface\":[{\"type\":\"surface\",\"colorbar\":{\"outlinewidth\":0,\"ticks\":\"\"},\"colorscale\":[[0.0,\"#0d0887\"],[0.1111111111111111,\"#46039f\"],[0.2222222222222222,\"#7201a8\"],[0.3333333333333333,\"#9c179e\"],[0.4444444444444444,\"#bd3786\"],[0.5555555555555556,\"#d8576b\"],[0.6666666666666666,\"#ed7953\"],[0.7777777777777778,\"#fb9f3a\"],[0.8888888888888888,\"#fdca26\"],[1.0,\"#f0f921\"]]}],\"mesh3d\":[{\"type\":\"mesh3d\",\"colorbar\":{\"outlinewidth\":0,\"ticks\":\"\"}}],\"scatter\":[{\"fillpattern\":{\"fillmode\":\"overlay\",\"size\":10,\"solidity\":0.2},\"type\":\"scatter\"}],\"parcoords\":[{\"type\":\"parcoords\",\"line\":{\"colorbar\":{\"outlinewidth\":0,\"ticks\":\"\"}}}],\"scatterpolargl\":[{\"type\":\"scatterpolargl\",\"marker\":{\"colorbar\":{\"outlinewidth\":0,\"ticks\":\"\"}}}],\"bar\":[{\"error_x\":{\"color\":\"#2a3f5f\"},\"error_y\":{\"color\":\"#2a3f5f\"},\"marker\":{\"line\":{\"color\":\"#E5ECF6\",\"width\":0.5},\"pattern\":{\"fillmode\":\"overlay\",\"size\":10,\"solidity\":0.2}},\"type\":\"bar\"}],\"scattergeo\":[{\"type\":\"scattergeo\",\"marker\":{\"colorbar\":{\"outlinewidth\":0,\"ticks\":\"\"}}}],\"scatterpolar\":[{\"type\":\"scatterpolar\",\"marker\":{\"colorbar\":{\"outlinewidth\":0,\"ticks\":\"\"}}}],\"histogram\":[{\"marker\":{\"pattern\":{\"fillmode\":\"overlay\",\"size\":10,\"solidity\":0.2}},\"type\":\"histogram\"}],\"scattergl\":[{\"type\":\"scattergl\",\"marker\":{\"colorbar\":{\"outlinewidth\":0,\"ticks\":\"\"}}}],\"scatter3d\":[{\"type\":\"scatter3d\",\"line\":{\"colorbar\":{\"outlinewidth\":0,\"ticks\":\"\"}},\"marker\":{\"colorbar\":{\"outlinewidth\":0,\"ticks\":\"\"}}}],\"scattermapbox\":[{\"type\":\"scattermapbox\",\"marker\":{\"colorbar\":{\"outlinewidth\":0,\"ticks\":\"\"}}}],\"scatterternary\":[{\"type\":\"scatterternary\",\"marker\":{\"colorbar\":{\"outlinewidth\":0,\"ticks\":\"\"}}}],\"scattercarpet\":[{\"type\":\"scattercarpet\",\"marker\":{\"colorbar\":{\"outlinewidth\":0,\"ticks\":\"\"}}}],\"carpet\":[{\"aaxis\":{\"endlinecolor\":\"#2a3f5f\",\"gridcolor\":\"white\",\"linecolor\":\"white\",\"minorgridcolor\":\"white\",\"startlinecolor\":\"#2a3f5f\"},\"baxis\":{\"endlinecolor\":\"#2a3f5f\",\"gridcolor\":\"white\",\"linecolor\":\"white\",\"minorgridcolor\":\"white\",\"startlinecolor\":\"#2a3f5f\"},\"type\":\"carpet\"}],\"table\":[{\"cells\":{\"fill\":{\"color\":\"#EBF0F8\"},\"line\":{\"color\":\"white\"}},\"header\":{\"fill\":{\"color\":\"#C8D4E3\"},\"line\":{\"color\":\"white\"}},\"type\":\"table\"}],\"barpolar\":[{\"marker\":{\"line\":{\"color\":\"#E5ECF6\",\"width\":0.5},\"pattern\":{\"fillmode\":\"overlay\",\"size\":10,\"solidity\":0.2}},\"type\":\"barpolar\"}],\"pie\":[{\"automargin\":true,\"type\":\"pie\"}]},\"layout\":{\"autotypenumbers\":\"strict\",\"colorway\":[\"#636efa\",\"#EF553B\",\"#00cc96\",\"#ab63fa\",\"#FFA15A\",\"#19d3f3\",\"#FF6692\",\"#B6E880\",\"#FF97FF\",\"#FECB52\"],\"font\":{\"color\":\"#2a3f5f\"},\"hovermode\":\"closest\",\"hoverlabel\":{\"align\":\"left\"},\"paper_bgcolor\":\"white\",\"plot_bgcolor\":\"#E5ECF6\",\"polar\":{\"bgcolor\":\"#E5ECF6\",\"angularaxis\":{\"gridcolor\":\"white\",\"linecolor\":\"white\",\"ticks\":\"\"},\"radialaxis\":{\"gridcolor\":\"white\",\"linecolor\":\"white\",\"ticks\":\"\"}},\"ternary\":{\"bgcolor\":\"#E5ECF6\",\"aaxis\":{\"gridcolor\":\"white\",\"linecolor\":\"white\",\"ticks\":\"\"},\"baxis\":{\"gridcolor\":\"white\",\"linecolor\":\"white\",\"ticks\":\"\"},\"caxis\":{\"gridcolor\":\"white\",\"linecolor\":\"white\",\"ticks\":\"\"}},\"coloraxis\":{\"colorbar\":{\"outlinewidth\":0,\"ticks\":\"\"}},\"colorscale\":{\"sequential\":[[0.0,\"#0d0887\"],[0.1111111111111111,\"#46039f\"],[0.2222222222222222,\"#7201a8\"],[0.3333333333333333,\"#9c179e\"],[0.4444444444444444,\"#bd3786\"],[0.5555555555555556,\"#d8576b\"],[0.6666666666666666,\"#ed7953\"],[0.7777777777777778,\"#fb9f3a\"],[0.8888888888888888,\"#fdca26\"],[1.0,\"#f0f921\"]],\"sequentialminus\":[[0.0,\"#0d0887\"],[0.1111111111111111,\"#46039f\"],[0.2222222222222222,\"#7201a8\"],[0.3333333333333333,\"#9c179e\"],[0.4444444444444444,\"#bd3786\"],[0.5555555555555556,\"#d8576b\"],[0.6666666666666666,\"#ed7953\"],[0.7777777777777778,\"#fb9f3a\"],[0.8888888888888888,\"#fdca26\"],[1.0,\"#f0f921\"]],\"diverging\":[[0,\"#8e0152\"],[0.1,\"#c51b7d\"],[0.2,\"#de77ae\"],[0.3,\"#f1b6da\"],[0.4,\"#fde0ef\"],[0.5,\"#f7f7f7\"],[0.6,\"#e6f5d0\"],[0.7,\"#b8e186\"],[0.8,\"#7fbc41\"],[0.9,\"#4d9221\"],[1,\"#276419\"]]},\"xaxis\":{\"gridcolor\":\"white\",\"linecolor\":\"white\",\"ticks\":\"\",\"title\":{\"standoff\":15},\"zerolinecolor\":\"white\",\"automargin\":true,\"zerolinewidth\":2},\"yaxis\":{\"gridcolor\":\"white\",\"linecolor\":\"white\",\"ticks\":\"\",\"title\":{\"standoff\":15},\"zerolinecolor\":\"white\",\"automargin\":true,\"zerolinewidth\":2},\"scene\":{\"xaxis\":{\"backgroundcolor\":\"#E5ECF6\",\"gridcolor\":\"white\",\"linecolor\":\"white\",\"showbackground\":true,\"ticks\":\"\",\"zerolinecolor\":\"white\",\"gridwidth\":2},\"yaxis\":{\"backgroundcolor\":\"#E5ECF6\",\"gridcolor\":\"white\",\"linecolor\":\"white\",\"showbackground\":true,\"ticks\":\"\",\"zerolinecolor\":\"white\",\"gridwidth\":2},\"zaxis\":{\"backgroundcolor\":\"#E5ECF6\",\"gridcolor\":\"white\",\"linecolor\":\"white\",\"showbackground\":true,\"ticks\":\"\",\"zerolinecolor\":\"white\",\"gridwidth\":2}},\"shapedefaults\":{\"line\":{\"color\":\"#2a3f5f\"}},\"annotationdefaults\":{\"arrowcolor\":\"#2a3f5f\",\"arrowhead\":0,\"arrowwidth\":1},\"geo\":{\"bgcolor\":\"white\",\"landcolor\":\"#E5ECF6\",\"subunitcolor\":\"white\",\"showland\":true,\"showlakes\":true,\"lakecolor\":\"white\"},\"title\":{\"x\":0.05},\"mapbox\":{\"style\":\"light\"}}},\"xaxis\":{\"anchor\":\"y\",\"domain\":[0.0,1.0],\"scaleanchor\":\"y\",\"constrain\":\"domain\",\"title\":{\"text\":\"Token\"},\"tickfont\":{\"size\":20},\"tickvals\":[0,1,2,3,4,5,6,7,8,9,10,11,12,13,14,15,16,17,18,19,20,21,22,23,24,25,26,27,28,29,30,31,32,33,34,35,36,37,38,39,40,41,42,43,44,45,46,47,48,49,50,51,52,53,54,55,56,57,58,59],\"ticktext\":[\"\\u2581G\",\"im\",\"bar\",\"'\",\"s\",\"\\u2581adventures\",\"\\u2581is\",\"\\u2581a\",\"\\u2581term\",\"\\u2581used\",\"\\u2581for\",\"\\u2581a\",\"\\u2581collection\",\"\\u2581of\",\"\\u2581\",\"1\",\"6\",\"th\",\"-\",\"century\",\"\\u2581accounts\",\"\\u2581of\",\"\\u2581voy\",\"ages\",\"\\u2581to\",\"\\u2581and\",\"\\u2581observations\",\"\\u2581of\",\"\\u2581the\",\"\\u2581East\",\"\\u2581Ind\",\"ies\",\".\",\"\\u2581More\",\"\\u2581specifically\",\",\",\"\\u2581it\",\"\\u2581was\",\"\\u2581a\",\"\\u2581term\",\"\\u2581used\",\"\\u2581by\",\"\\u2581Italian\",\"\\u2581expl\",\"orer\",\"\\u2581Nic\",\"col\",\"\\u00f2\",\"\\u2581Fi\",\"orent\",\"ino\",\"\\u2581(\",\"1\",\"4\",\"5\",\"8\",\"-\",\"1\",\"5\",\"0\"],\"tickangle\":-45},\"yaxis\":{\"anchor\":\"x\",\"domain\":[0.0,1.0],\"autorange\":\"reversed\",\"constrain\":\"domain\",\"showticklabels\":false},\"coloraxis\":{\"colorscale\":[[0.0,\"rgb(165,0,38)\"],[0.1,\"rgb(215,48,39)\"],[0.2,\"rgb(244,109,67)\"],[0.3,\"rgb(253,174,97)\"],[0.4,\"rgb(254,224,139)\"],[0.5,\"rgb(255,255,191)\"],[0.6,\"rgb(217,239,139)\"],[0.7,\"rgb(166,217,106)\"],[0.8,\"rgb(102,189,99)\"],[0.9,\"rgb(26,152,80)\"],[1.0,\"rgb(0,104,55)\"]],\"cmin\":-1,\"cmax\":1},\"margin\":{\"t\":60}},                        {\"responsive\": true}                    ).then(function(){\n",
       "                            \n",
       "var gd = document.getElementById('4daacc75-7093-4193-af3a-9837b5543080');\n",
       "var x = new MutationObserver(function (mutations, observer) {{\n",
       "        var display = window.getComputedStyle(gd).display;\n",
       "        if (!display || display === 'none') {{\n",
       "            console.log([gd, 'removed!']);\n",
       "            Plotly.purge(gd);\n",
       "            observer.disconnect();\n",
       "        }}\n",
       "}});\n",
       "\n",
       "// Listen for the removal of the full notebook cells\n",
       "var notebookContainer = gd.closest('#notebook-container');\n",
       "if (notebookContainer) {{\n",
       "    x.observe(notebookContainer, {childList: true});\n",
       "}}\n",
       "\n",
       "// Listen for the clearing of the current output cell\n",
       "var outputEl = gd.closest('.output');\n",
       "if (outputEl) {{\n",
       "    x.observe(outputEl, {childList: true});\n",
       "}}\n",
       "\n",
       "                        })                };                });            </script>        </div>"
      ]
     },
     "metadata": {},
     "output_type": "display_data"
    }
   ],
   "source": [
    "scores_per_token = doc.detect(output['projections'], aggregation_method='layer_avg', use_n_middle_layers=15)\n",
    "doc.plot_scores_per_token(scores_per_token, tokens, lastn_tokens_to_plot=max_new_tokens, saturate_at=1)"
   ]
  },
  {
   "cell_type": "code",
   "execution_count": 105,
   "id": "f0a61964-757e-4749-8641-ccc8b7ffcf8a",
   "metadata": {
    "tags": []
   },
   "outputs": [
    {
     "data": {
      "application/vnd.plotly.v1+json": {
       "config": {
        "plotlyServerURL": "https://plot.ly"
       },
       "data": [
        {
         "coloraxis": "coloraxis",
         "hovertemplate": "Token: %{x}<br>y: %{y}<br>color: %{z}<extra></extra>",
         "name": "0",
         "type": "heatmap",
         "xaxis": "x",
         "yaxis": "y",
         "z": [
          [
           0.045857204038344014,
           0.5902264728083403,
           1.4739446518860761e-06,
           0.0006892263135919108,
           2.9227155460047467e-05,
           3.811937780748295e-08,
           5.871561570003556e-10,
           5.065330940795427e-09,
           7.382528004942946e-07,
           1.744038646089063e-06,
           3.6719184180862837e-07,
           4.387070933656467e-07,
           1.5993392540244782e-06,
           6.241204252735202e-08,
           0.0001048007448951306,
           0.00043465281469167355,
           1.6802253774111178e-05,
           0.001141999220736521,
           0.8761784943515051,
           4.656408393666216e-07,
           4.932913785715529e-06,
           1.84386399307403e-06,
           0.3431784132606588,
           2.811319170493594e-06,
           6.13980868245715e-05,
           2.35290986078848e-05,
           0.0007684821928512325,
           0.0006043709339790328,
           2.7020719308849835e-05,
           0.0823801915846875,
           0.7258975053494817,
           0.008014742446974076,
           4.797711314815884e-05,
           9.54191043162583e-06,
           3.408195366637503e-05,
           4.5849391254657525e-07,
           4.641656993238925e-08,
           4.117082522080954e-07,
           4.23602793743094e-05,
           0.0026415394578706754,
           1.8312857515108716e-05,
           7.325390674897415e-05,
           0.0008767415007022103,
           0.4088665214530174,
           0.002946667951724675,
           0.6628693831577496,
           0.34738102124187764,
           0.22915669511407716,
           0.6773962891382355,
           0.9931794412300815,
           0.024107617249375952,
           0.28954004886343254,
           0.00755799929178915,
           0.013904927531123157,
           0.005185108779601984,
           0.00031904973221400873,
           0.03643810053471933,
           0.007343737736008569,
           0.0013758900046518207
          ]
         ]
        }
       ],
       "layout": {
        "autosize": true,
        "coloraxis": {
         "cmax": 1,
         "cmin": 0,
         "colorscale": [
          [
           0,
           "rgb(165,0,38)"
          ],
          [
           0.1,
           "rgb(215,48,39)"
          ],
          [
           0.2,
           "rgb(244,109,67)"
          ],
          [
           0.3,
           "rgb(253,174,97)"
          ],
          [
           0.4,
           "rgb(254,224,139)"
          ],
          [
           0.5,
           "rgb(255,255,191)"
          ],
          [
           0.6,
           "rgb(217,239,139)"
          ],
          [
           0.7,
           "rgb(166,217,106)"
          ],
          [
           0.8,
           "rgb(102,189,99)"
          ],
          [
           0.9,
           "rgb(26,152,80)"
          ],
          [
           1,
           "rgb(0,104,55)"
          ]
         ]
        },
        "margin": {
         "t": 60
        },
        "template": {
         "data": {
          "bar": [
           {
            "error_x": {
             "color": "#2a3f5f"
            },
            "error_y": {
             "color": "#2a3f5f"
            },
            "marker": {
             "line": {
              "color": "#E5ECF6",
              "width": 0.5
             },
             "pattern": {
              "fillmode": "overlay",
              "size": 10,
              "solidity": 0.2
             }
            },
            "type": "bar"
           }
          ],
          "barpolar": [
           {
            "marker": {
             "line": {
              "color": "#E5ECF6",
              "width": 0.5
             },
             "pattern": {
              "fillmode": "overlay",
              "size": 10,
              "solidity": 0.2
             }
            },
            "type": "barpolar"
           }
          ],
          "carpet": [
           {
            "aaxis": {
             "endlinecolor": "#2a3f5f",
             "gridcolor": "white",
             "linecolor": "white",
             "minorgridcolor": "white",
             "startlinecolor": "#2a3f5f"
            },
            "baxis": {
             "endlinecolor": "#2a3f5f",
             "gridcolor": "white",
             "linecolor": "white",
             "minorgridcolor": "white",
             "startlinecolor": "#2a3f5f"
            },
            "type": "carpet"
           }
          ],
          "choropleth": [
           {
            "colorbar": {
             "outlinewidth": 0,
             "ticks": ""
            },
            "type": "choropleth"
           }
          ],
          "contour": [
           {
            "colorbar": {
             "outlinewidth": 0,
             "ticks": ""
            },
            "colorscale": [
             [
              0,
              "#0d0887"
             ],
             [
              0.1111111111111111,
              "#46039f"
             ],
             [
              0.2222222222222222,
              "#7201a8"
             ],
             [
              0.3333333333333333,
              "#9c179e"
             ],
             [
              0.4444444444444444,
              "#bd3786"
             ],
             [
              0.5555555555555556,
              "#d8576b"
             ],
             [
              0.6666666666666666,
              "#ed7953"
             ],
             [
              0.7777777777777778,
              "#fb9f3a"
             ],
             [
              0.8888888888888888,
              "#fdca26"
             ],
             [
              1,
              "#f0f921"
             ]
            ],
            "type": "contour"
           }
          ],
          "contourcarpet": [
           {
            "colorbar": {
             "outlinewidth": 0,
             "ticks": ""
            },
            "type": "contourcarpet"
           }
          ],
          "heatmap": [
           {
            "colorbar": {
             "outlinewidth": 0,
             "ticks": ""
            },
            "colorscale": [
             [
              0,
              "#0d0887"
             ],
             [
              0.1111111111111111,
              "#46039f"
             ],
             [
              0.2222222222222222,
              "#7201a8"
             ],
             [
              0.3333333333333333,
              "#9c179e"
             ],
             [
              0.4444444444444444,
              "#bd3786"
             ],
             [
              0.5555555555555556,
              "#d8576b"
             ],
             [
              0.6666666666666666,
              "#ed7953"
             ],
             [
              0.7777777777777778,
              "#fb9f3a"
             ],
             [
              0.8888888888888888,
              "#fdca26"
             ],
             [
              1,
              "#f0f921"
             ]
            ],
            "type": "heatmap"
           }
          ],
          "heatmapgl": [
           {
            "colorbar": {
             "outlinewidth": 0,
             "ticks": ""
            },
            "colorscale": [
             [
              0,
              "#0d0887"
             ],
             [
              0.1111111111111111,
              "#46039f"
             ],
             [
              0.2222222222222222,
              "#7201a8"
             ],
             [
              0.3333333333333333,
              "#9c179e"
             ],
             [
              0.4444444444444444,
              "#bd3786"
             ],
             [
              0.5555555555555556,
              "#d8576b"
             ],
             [
              0.6666666666666666,
              "#ed7953"
             ],
             [
              0.7777777777777778,
              "#fb9f3a"
             ],
             [
              0.8888888888888888,
              "#fdca26"
             ],
             [
              1,
              "#f0f921"
             ]
            ],
            "type": "heatmapgl"
           }
          ],
          "histogram": [
           {
            "marker": {
             "pattern": {
              "fillmode": "overlay",
              "size": 10,
              "solidity": 0.2
             }
            },
            "type": "histogram"
           }
          ],
          "histogram2d": [
           {
            "colorbar": {
             "outlinewidth": 0,
             "ticks": ""
            },
            "colorscale": [
             [
              0,
              "#0d0887"
             ],
             [
              0.1111111111111111,
              "#46039f"
             ],
             [
              0.2222222222222222,
              "#7201a8"
             ],
             [
              0.3333333333333333,
              "#9c179e"
             ],
             [
              0.4444444444444444,
              "#bd3786"
             ],
             [
              0.5555555555555556,
              "#d8576b"
             ],
             [
              0.6666666666666666,
              "#ed7953"
             ],
             [
              0.7777777777777778,
              "#fb9f3a"
             ],
             [
              0.8888888888888888,
              "#fdca26"
             ],
             [
              1,
              "#f0f921"
             ]
            ],
            "type": "histogram2d"
           }
          ],
          "histogram2dcontour": [
           {
            "colorbar": {
             "outlinewidth": 0,
             "ticks": ""
            },
            "colorscale": [
             [
              0,
              "#0d0887"
             ],
             [
              0.1111111111111111,
              "#46039f"
             ],
             [
              0.2222222222222222,
              "#7201a8"
             ],
             [
              0.3333333333333333,
              "#9c179e"
             ],
             [
              0.4444444444444444,
              "#bd3786"
             ],
             [
              0.5555555555555556,
              "#d8576b"
             ],
             [
              0.6666666666666666,
              "#ed7953"
             ],
             [
              0.7777777777777778,
              "#fb9f3a"
             ],
             [
              0.8888888888888888,
              "#fdca26"
             ],
             [
              1,
              "#f0f921"
             ]
            ],
            "type": "histogram2dcontour"
           }
          ],
          "mesh3d": [
           {
            "colorbar": {
             "outlinewidth": 0,
             "ticks": ""
            },
            "type": "mesh3d"
           }
          ],
          "parcoords": [
           {
            "line": {
             "colorbar": {
              "outlinewidth": 0,
              "ticks": ""
             }
            },
            "type": "parcoords"
           }
          ],
          "pie": [
           {
            "automargin": true,
            "type": "pie"
           }
          ],
          "scatter": [
           {
            "fillpattern": {
             "fillmode": "overlay",
             "size": 10,
             "solidity": 0.2
            },
            "type": "scatter"
           }
          ],
          "scatter3d": [
           {
            "line": {
             "colorbar": {
              "outlinewidth": 0,
              "ticks": ""
             }
            },
            "marker": {
             "colorbar": {
              "outlinewidth": 0,
              "ticks": ""
             }
            },
            "type": "scatter3d"
           }
          ],
          "scattercarpet": [
           {
            "marker": {
             "colorbar": {
              "outlinewidth": 0,
              "ticks": ""
             }
            },
            "type": "scattercarpet"
           }
          ],
          "scattergeo": [
           {
            "marker": {
             "colorbar": {
              "outlinewidth": 0,
              "ticks": ""
             }
            },
            "type": "scattergeo"
           }
          ],
          "scattergl": [
           {
            "marker": {
             "colorbar": {
              "outlinewidth": 0,
              "ticks": ""
             }
            },
            "type": "scattergl"
           }
          ],
          "scattermapbox": [
           {
            "marker": {
             "colorbar": {
              "outlinewidth": 0,
              "ticks": ""
             }
            },
            "type": "scattermapbox"
           }
          ],
          "scatterpolar": [
           {
            "marker": {
             "colorbar": {
              "outlinewidth": 0,
              "ticks": ""
             }
            },
            "type": "scatterpolar"
           }
          ],
          "scatterpolargl": [
           {
            "marker": {
             "colorbar": {
              "outlinewidth": 0,
              "ticks": ""
             }
            },
            "type": "scatterpolargl"
           }
          ],
          "scatterternary": [
           {
            "marker": {
             "colorbar": {
              "outlinewidth": 0,
              "ticks": ""
             }
            },
            "type": "scatterternary"
           }
          ],
          "surface": [
           {
            "colorbar": {
             "outlinewidth": 0,
             "ticks": ""
            },
            "colorscale": [
             [
              0,
              "#0d0887"
             ],
             [
              0.1111111111111111,
              "#46039f"
             ],
             [
              0.2222222222222222,
              "#7201a8"
             ],
             [
              0.3333333333333333,
              "#9c179e"
             ],
             [
              0.4444444444444444,
              "#bd3786"
             ],
             [
              0.5555555555555556,
              "#d8576b"
             ],
             [
              0.6666666666666666,
              "#ed7953"
             ],
             [
              0.7777777777777778,
              "#fb9f3a"
             ],
             [
              0.8888888888888888,
              "#fdca26"
             ],
             [
              1,
              "#f0f921"
             ]
            ],
            "type": "surface"
           }
          ],
          "table": [
           {
            "cells": {
             "fill": {
              "color": "#EBF0F8"
             },
             "line": {
              "color": "white"
             }
            },
            "header": {
             "fill": {
              "color": "#C8D4E3"
             },
             "line": {
              "color": "white"
             }
            },
            "type": "table"
           }
          ]
         },
         "layout": {
          "annotationdefaults": {
           "arrowcolor": "#2a3f5f",
           "arrowhead": 0,
           "arrowwidth": 1
          },
          "autotypenumbers": "strict",
          "coloraxis": {
           "colorbar": {
            "outlinewidth": 0,
            "ticks": ""
           }
          },
          "colorscale": {
           "diverging": [
            [
             0,
             "#8e0152"
            ],
            [
             0.1,
             "#c51b7d"
            ],
            [
             0.2,
             "#de77ae"
            ],
            [
             0.3,
             "#f1b6da"
            ],
            [
             0.4,
             "#fde0ef"
            ],
            [
             0.5,
             "#f7f7f7"
            ],
            [
             0.6,
             "#e6f5d0"
            ],
            [
             0.7,
             "#b8e186"
            ],
            [
             0.8,
             "#7fbc41"
            ],
            [
             0.9,
             "#4d9221"
            ],
            [
             1,
             "#276419"
            ]
           ],
           "sequential": [
            [
             0,
             "#0d0887"
            ],
            [
             0.1111111111111111,
             "#46039f"
            ],
            [
             0.2222222222222222,
             "#7201a8"
            ],
            [
             0.3333333333333333,
             "#9c179e"
            ],
            [
             0.4444444444444444,
             "#bd3786"
            ],
            [
             0.5555555555555556,
             "#d8576b"
            ],
            [
             0.6666666666666666,
             "#ed7953"
            ],
            [
             0.7777777777777778,
             "#fb9f3a"
            ],
            [
             0.8888888888888888,
             "#fdca26"
            ],
            [
             1,
             "#f0f921"
            ]
           ],
           "sequentialminus": [
            [
             0,
             "#0d0887"
            ],
            [
             0.1111111111111111,
             "#46039f"
            ],
            [
             0.2222222222222222,
             "#7201a8"
            ],
            [
             0.3333333333333333,
             "#9c179e"
            ],
            [
             0.4444444444444444,
             "#bd3786"
            ],
            [
             0.5555555555555556,
             "#d8576b"
            ],
            [
             0.6666666666666666,
             "#ed7953"
            ],
            [
             0.7777777777777778,
             "#fb9f3a"
            ],
            [
             0.8888888888888888,
             "#fdca26"
            ],
            [
             1,
             "#f0f921"
            ]
           ]
          },
          "colorway": [
           "#636efa",
           "#EF553B",
           "#00cc96",
           "#ab63fa",
           "#FFA15A",
           "#19d3f3",
           "#FF6692",
           "#B6E880",
           "#FF97FF",
           "#FECB52"
          ],
          "font": {
           "color": "#2a3f5f"
          },
          "geo": {
           "bgcolor": "white",
           "lakecolor": "white",
           "landcolor": "#E5ECF6",
           "showlakes": true,
           "showland": true,
           "subunitcolor": "white"
          },
          "hoverlabel": {
           "align": "left"
          },
          "hovermode": "closest",
          "mapbox": {
           "style": "light"
          },
          "paper_bgcolor": "white",
          "plot_bgcolor": "#E5ECF6",
          "polar": {
           "angularaxis": {
            "gridcolor": "white",
            "linecolor": "white",
            "ticks": ""
           },
           "bgcolor": "#E5ECF6",
           "radialaxis": {
            "gridcolor": "white",
            "linecolor": "white",
            "ticks": ""
           }
          },
          "scene": {
           "xaxis": {
            "backgroundcolor": "#E5ECF6",
            "gridcolor": "white",
            "gridwidth": 2,
            "linecolor": "white",
            "showbackground": true,
            "ticks": "",
            "zerolinecolor": "white"
           },
           "yaxis": {
            "backgroundcolor": "#E5ECF6",
            "gridcolor": "white",
            "gridwidth": 2,
            "linecolor": "white",
            "showbackground": true,
            "ticks": "",
            "zerolinecolor": "white"
           },
           "zaxis": {
            "backgroundcolor": "#E5ECF6",
            "gridcolor": "white",
            "gridwidth": 2,
            "linecolor": "white",
            "showbackground": true,
            "ticks": "",
            "zerolinecolor": "white"
           }
          },
          "shapedefaults": {
           "line": {
            "color": "#2a3f5f"
           }
          },
          "ternary": {
           "aaxis": {
            "gridcolor": "white",
            "linecolor": "white",
            "ticks": ""
           },
           "baxis": {
            "gridcolor": "white",
            "linecolor": "white",
            "ticks": ""
           },
           "bgcolor": "#E5ECF6",
           "caxis": {
            "gridcolor": "white",
            "linecolor": "white",
            "ticks": ""
           }
          },
          "title": {
           "x": 0.05
          },
          "xaxis": {
           "automargin": true,
           "gridcolor": "white",
           "linecolor": "white",
           "ticks": "",
           "title": {
            "standoff": 15
           },
           "zerolinecolor": "white",
           "zerolinewidth": 2
          },
          "yaxis": {
           "automargin": true,
           "gridcolor": "white",
           "linecolor": "white",
           "ticks": "",
           "title": {
            "standoff": 15
           },
           "zerolinecolor": "white",
           "zerolinewidth": 2
          }
         }
        },
        "xaxis": {
         "anchor": "y",
         "autorange": true,
         "constrain": "domain",
         "domain": [
          0,
          1
         ],
         "range": [
          -0.5,
          58.5
         ],
         "scaleanchor": "y",
         "tickangle": -45,
         "tickfont": {
          "size": 20
         },
         "ticktext": [
          "▁G",
          "im",
          "bar",
          "'",
          "s",
          "▁adventures",
          "▁is",
          "▁a",
          "▁term",
          "▁used",
          "▁for",
          "▁a",
          "▁collection",
          "▁of",
          "▁",
          "1",
          "6",
          "th",
          "-",
          "century",
          "▁accounts",
          "▁of",
          "▁voy",
          "ages",
          "▁to",
          "▁and",
          "▁observations",
          "▁of",
          "▁the",
          "▁East",
          "▁Ind",
          "ies",
          ".",
          "▁More",
          "▁specifically",
          ",",
          "▁it",
          "▁was",
          "▁a",
          "▁term",
          "▁used",
          "▁by",
          "▁Italian",
          "▁expl",
          "orer",
          "▁Nic",
          "col",
          "ò",
          "▁Fi",
          "orent",
          "ino",
          "▁(",
          "1",
          "4",
          "5",
          "8",
          "-",
          "1",
          "5",
          "0"
         ],
         "tickvals": [
          0,
          1,
          2,
          3,
          4,
          5,
          6,
          7,
          8,
          9,
          10,
          11,
          12,
          13,
          14,
          15,
          16,
          17,
          18,
          19,
          20,
          21,
          22,
          23,
          24,
          25,
          26,
          27,
          28,
          29,
          30,
          31,
          32,
          33,
          34,
          35,
          36,
          37,
          38,
          39,
          40,
          41,
          42,
          43,
          44,
          45,
          46,
          47,
          48,
          49,
          50,
          51,
          52,
          53,
          54,
          55,
          56,
          57,
          58,
          59
         ],
         "title": {
          "text": "Token"
         }
        },
        "yaxis": {
         "anchor": "x",
         "autorange": true,
         "constrain": "domain",
         "domain": [
          0.4686055469953775,
          0.5313944530046225
         ],
         "range": [
          0.5,
          -0.5
         ],
         "showticklabels": false
        }
       }
      },
      "image/png": "[encoded data removed]",
      "text/html": [
       "<div>                            <div id=\"08e6f471-a910-4587-af87-122dbf781774\" class=\"plotly-graph-div\" style=\"height:525px; width:100%;\"></div>            <script type=\"text/javascript\">                require([\"plotly\"], function(Plotly) {                    window.PLOTLYENV=window.PLOTLYENV || {};                                    if (document.getElementById(\"08e6f471-a910-4587-af87-122dbf781774\")) {                    Plotly.newPlot(                        \"08e6f471-a910-4587-af87-122dbf781774\",                        [{\"coloraxis\":\"coloraxis\",\"name\":\"0\",\"z\":[[0.045857204038344014,0.5902264728083403,1.4739446518860761e-06,0.0006892263135919108,2.9227155460047467e-05,3.811937780748295e-08,5.871561570003556e-10,5.065330940795427e-09,7.382528004942946e-07,1.744038646089063e-06,3.6719184180862837e-07,4.387070933656467e-07,1.5993392540244782e-06,6.241204252735202e-08,0.0001048007448951306,0.00043465281469167355,1.6802253774111178e-05,0.001141999220736521,0.8761784943515051,4.656408393666216e-07,4.932913785715529e-06,1.84386399307403e-06,0.3431784132606588,2.811319170493594e-06,6.13980868245715e-05,2.35290986078848e-05,0.0007684821928512325,0.0006043709339790328,2.7020719308849835e-05,0.0823801915846875,0.7258975053494817,0.008014742446974076,4.797711314815884e-05,9.54191043162583e-06,3.408195366637503e-05,4.5849391254657525e-07,4.641656993238925e-08,4.117082522080954e-07,4.23602793743094e-05,0.0026415394578706754,1.8312857515108716e-05,7.325390674897415e-05,0.0008767415007022103,0.4088665214530174,0.002946667951724675,0.6628693831577496,0.34738102124187764,0.22915669511407716,0.6773962891382355,0.9931794412300815,0.024107617249375952,0.28954004886343254,0.00755799929178915,0.013904927531123157,0.005185108779601984,0.00031904973221400873,0.03643810053471933,0.007343737736008569,0.0013758900046518207]],\"type\":\"heatmap\",\"xaxis\":\"x\",\"yaxis\":\"y\",\"hovertemplate\":\"Token: %{x}\\u003cbr\\u003ey: %{y}\\u003cbr\\u003ecolor: %{z}\\u003cextra\\u003e\\u003c\\u002fextra\\u003e\"}],                        {\"template\":{\"data\":{\"histogram2dcontour\":[{\"type\":\"histogram2dcontour\",\"colorbar\":{\"outlinewidth\":0,\"ticks\":\"\"},\"colorscale\":[[0.0,\"#0d0887\"],[0.1111111111111111,\"#46039f\"],[0.2222222222222222,\"#7201a8\"],[0.3333333333333333,\"#9c179e\"],[0.4444444444444444,\"#bd3786\"],[0.5555555555555556,\"#d8576b\"],[0.6666666666666666,\"#ed7953\"],[0.7777777777777778,\"#fb9f3a\"],[0.8888888888888888,\"#fdca26\"],[1.0,\"#f0f921\"]]}],\"choropleth\":[{\"type\":\"choropleth\",\"colorbar\":{\"outlinewidth\":0,\"ticks\":\"\"}}],\"histogram2d\":[{\"type\":\"histogram2d\",\"colorbar\":{\"outlinewidth\":0,\"ticks\":\"\"},\"colorscale\":[[0.0,\"#0d0887\"],[0.1111111111111111,\"#46039f\"],[0.2222222222222222,\"#7201a8\"],[0.3333333333333333,\"#9c179e\"],[0.4444444444444444,\"#bd3786\"],[0.5555555555555556,\"#d8576b\"],[0.6666666666666666,\"#ed7953\"],[0.7777777777777778,\"#fb9f3a\"],[0.8888888888888888,\"#fdca26\"],[1.0,\"#f0f921\"]]}],\"heatmap\":[{\"type\":\"heatmap\",\"colorbar\":{\"outlinewidth\":0,\"ticks\":\"\"},\"colorscale\":[[0.0,\"#0d0887\"],[0.1111111111111111,\"#46039f\"],[0.2222222222222222,\"#7201a8\"],[0.3333333333333333,\"#9c179e\"],[0.4444444444444444,\"#bd3786\"],[0.5555555555555556,\"#d8576b\"],[0.6666666666666666,\"#ed7953\"],[0.7777777777777778,\"#fb9f3a\"],[0.8888888888888888,\"#fdca26\"],[1.0,\"#f0f921\"]]}],\"heatmapgl\":[{\"type\":\"heatmapgl\",\"colorbar\":{\"outlinewidth\":0,\"ticks\":\"\"},\"colorscale\":[[0.0,\"#0d0887\"],[0.1111111111111111,\"#46039f\"],[0.2222222222222222,\"#7201a8\"],[0.3333333333333333,\"#9c179e\"],[0.4444444444444444,\"#bd3786\"],[0.5555555555555556,\"#d8576b\"],[0.6666666666666666,\"#ed7953\"],[0.7777777777777778,\"#fb9f3a\"],[0.8888888888888888,\"#fdca26\"],[1.0,\"#f0f921\"]]}],\"contourcarpet\":[{\"type\":\"contourcarpet\",\"colorbar\":{\"outlinewidth\":0,\"ticks\":\"\"}}],\"contour\":[{\"type\":\"contour\",\"colorbar\":{\"outlinewidth\":0,\"ticks\":\"\"},\"colorscale\":[[0.0,\"#0d0887\"],[0.1111111111111111,\"#46039f\"],[0.2222222222222222,\"#7201a8\"],[0.3333333333333333,\"#9c179e\"],[0.4444444444444444,\"#bd3786\"],[0.5555555555555556,\"#d8576b\"],[0.6666666666666666,\"#ed7953\"],[0.7777777777777778,\"#fb9f3a\"],[0.8888888888888888,\"#fdca26\"],[1.0,\"#f0f921\"]]}],\"surface\":[{\"type\":\"surface\",\"colorbar\":{\"outlinewidth\":0,\"ticks\":\"\"},\"colorscale\":[[0.0,\"#0d0887\"],[0.1111111111111111,\"#46039f\"],[0.2222222222222222,\"#7201a8\"],[0.3333333333333333,\"#9c179e\"],[0.4444444444444444,\"#bd3786\"],[0.5555555555555556,\"#d8576b\"],[0.6666666666666666,\"#ed7953\"],[0.7777777777777778,\"#fb9f3a\"],[0.8888888888888888,\"#fdca26\"],[1.0,\"#f0f921\"]]}],\"mesh3d\":[{\"type\":\"mesh3d\",\"colorbar\":{\"outlinewidth\":0,\"ticks\":\"\"}}],\"scatter\":[{\"fillpattern\":{\"fillmode\":\"overlay\",\"size\":10,\"solidity\":0.2},\"type\":\"scatter\"}],\"parcoords\":[{\"type\":\"parcoords\",\"line\":{\"colorbar\":{\"outlinewidth\":0,\"ticks\":\"\"}}}],\"scatterpolargl\":[{\"type\":\"scatterpolargl\",\"marker\":{\"colorbar\":{\"outlinewidth\":0,\"ticks\":\"\"}}}],\"bar\":[{\"error_x\":{\"color\":\"#2a3f5f\"},\"error_y\":{\"color\":\"#2a3f5f\"},\"marker\":{\"line\":{\"color\":\"#E5ECF6\",\"width\":0.5},\"pattern\":{\"fillmode\":\"overlay\",\"size\":10,\"solidity\":0.2}},\"type\":\"bar\"}],\"scattergeo\":[{\"type\":\"scattergeo\",\"marker\":{\"colorbar\":{\"outlinewidth\":0,\"ticks\":\"\"}}}],\"scatterpolar\":[{\"type\":\"scatterpolar\",\"marker\":{\"colorbar\":{\"outlinewidth\":0,\"ticks\":\"\"}}}],\"histogram\":[{\"marker\":{\"pattern\":{\"fillmode\":\"overlay\",\"size\":10,\"solidity\":0.2}},\"type\":\"histogram\"}],\"scattergl\":[{\"type\":\"scattergl\",\"marker\":{\"colorbar\":{\"outlinewidth\":0,\"ticks\":\"\"}}}],\"scatter3d\":[{\"type\":\"scatter3d\",\"line\":{\"colorbar\":{\"outlinewidth\":0,\"ticks\":\"\"}},\"marker\":{\"colorbar\":{\"outlinewidth\":0,\"ticks\":\"\"}}}],\"scattermapbox\":[{\"type\":\"scattermapbox\",\"marker\":{\"colorbar\":{\"outlinewidth\":0,\"ticks\":\"\"}}}],\"scatterternary\":[{\"type\":\"scatterternary\",\"marker\":{\"colorbar\":{\"outlinewidth\":0,\"ticks\":\"\"}}}],\"scattercarpet\":[{\"type\":\"scattercarpet\",\"marker\":{\"colorbar\":{\"outlinewidth\":0,\"ticks\":\"\"}}}],\"carpet\":[{\"aaxis\":{\"endlinecolor\":\"#2a3f5f\",\"gridcolor\":\"white\",\"linecolor\":\"white\",\"minorgridcolor\":\"white\",\"startlinecolor\":\"#2a3f5f\"},\"baxis\":{\"endlinecolor\":\"#2a3f5f\",\"gridcolor\":\"white\",\"linecolor\":\"white\",\"minorgridcolor\":\"white\",\"startlinecolor\":\"#2a3f5f\"},\"type\":\"carpet\"}],\"table\":[{\"cells\":{\"fill\":{\"color\":\"#EBF0F8\"},\"line\":{\"color\":\"white\"}},\"header\":{\"fill\":{\"color\":\"#C8D4E3\"},\"line\":{\"color\":\"white\"}},\"type\":\"table\"}],\"barpolar\":[{\"marker\":{\"line\":{\"color\":\"#E5ECF6\",\"width\":0.5},\"pattern\":{\"fillmode\":\"overlay\",\"size\":10,\"solidity\":0.2}},\"type\":\"barpolar\"}],\"pie\":[{\"automargin\":true,\"type\":\"pie\"}]},\"layout\":{\"autotypenumbers\":\"strict\",\"colorway\":[\"#636efa\",\"#EF553B\",\"#00cc96\",\"#ab63fa\",\"#FFA15A\",\"#19d3f3\",\"#FF6692\",\"#B6E880\",\"#FF97FF\",\"#FECB52\"],\"font\":{\"color\":\"#2a3f5f\"},\"hovermode\":\"closest\",\"hoverlabel\":{\"align\":\"left\"},\"paper_bgcolor\":\"white\",\"plot_bgcolor\":\"#E5ECF6\",\"polar\":{\"bgcolor\":\"#E5ECF6\",\"angularaxis\":{\"gridcolor\":\"white\",\"linecolor\":\"white\",\"ticks\":\"\"},\"radialaxis\":{\"gridcolor\":\"white\",\"linecolor\":\"white\",\"ticks\":\"\"}},\"ternary\":{\"bgcolor\":\"#E5ECF6\",\"aaxis\":{\"gridcolor\":\"white\",\"linecolor\":\"white\",\"ticks\":\"\"},\"baxis\":{\"gridcolor\":\"white\",\"linecolor\":\"white\",\"ticks\":\"\"},\"caxis\":{\"gridcolor\":\"white\",\"linecolor\":\"white\",\"ticks\":\"\"}},\"coloraxis\":{\"colorbar\":{\"outlinewidth\":0,\"ticks\":\"\"}},\"colorscale\":{\"sequential\":[[0.0,\"#0d0887\"],[0.1111111111111111,\"#46039f\"],[0.2222222222222222,\"#7201a8\"],[0.3333333333333333,\"#9c179e\"],[0.4444444444444444,\"#bd3786\"],[0.5555555555555556,\"#d8576b\"],[0.6666666666666666,\"#ed7953\"],[0.7777777777777778,\"#fb9f3a\"],[0.8888888888888888,\"#fdca26\"],[1.0,\"#f0f921\"]],\"sequentialminus\":[[0.0,\"#0d0887\"],[0.1111111111111111,\"#46039f\"],[0.2222222222222222,\"#7201a8\"],[0.3333333333333333,\"#9c179e\"],[0.4444444444444444,\"#bd3786\"],[0.5555555555555556,\"#d8576b\"],[0.6666666666666666,\"#ed7953\"],[0.7777777777777778,\"#fb9f3a\"],[0.8888888888888888,\"#fdca26\"],[1.0,\"#f0f921\"]],\"diverging\":[[0,\"#8e0152\"],[0.1,\"#c51b7d\"],[0.2,\"#de77ae\"],[0.3,\"#f1b6da\"],[0.4,\"#fde0ef\"],[0.5,\"#f7f7f7\"],[0.6,\"#e6f5d0\"],[0.7,\"#b8e186\"],[0.8,\"#7fbc41\"],[0.9,\"#4d9221\"],[1,\"#276419\"]]},\"xaxis\":{\"gridcolor\":\"white\",\"linecolor\":\"white\",\"ticks\":\"\",\"title\":{\"standoff\":15},\"zerolinecolor\":\"white\",\"automargin\":true,\"zerolinewidth\":2},\"yaxis\":{\"gridcolor\":\"white\",\"linecolor\":\"white\",\"ticks\":\"\",\"title\":{\"standoff\":15},\"zerolinecolor\":\"white\",\"automargin\":true,\"zerolinewidth\":2},\"scene\":{\"xaxis\":{\"backgroundcolor\":\"#E5ECF6\",\"gridcolor\":\"white\",\"linecolor\":\"white\",\"showbackground\":true,\"ticks\":\"\",\"zerolinecolor\":\"white\",\"gridwidth\":2},\"yaxis\":{\"backgroundcolor\":\"#E5ECF6\",\"gridcolor\":\"white\",\"linecolor\":\"white\",\"showbackground\":true,\"ticks\":\"\",\"zerolinecolor\":\"white\",\"gridwidth\":2},\"zaxis\":{\"backgroundcolor\":\"#E5ECF6\",\"gridcolor\":\"white\",\"linecolor\":\"white\",\"showbackground\":true,\"ticks\":\"\",\"zerolinecolor\":\"white\",\"gridwidth\":2}},\"shapedefaults\":{\"line\":{\"color\":\"#2a3f5f\"}},\"annotationdefaults\":{\"arrowcolor\":\"#2a3f5f\",\"arrowhead\":0,\"arrowwidth\":1},\"geo\":{\"bgcolor\":\"white\",\"landcolor\":\"#E5ECF6\",\"subunitcolor\":\"white\",\"showland\":true,\"showlakes\":true,\"lakecolor\":\"white\"},\"title\":{\"x\":0.05},\"mapbox\":{\"style\":\"light\"}}},\"xaxis\":{\"anchor\":\"y\",\"domain\":[0.0,1.0],\"scaleanchor\":\"y\",\"constrain\":\"domain\",\"title\":{\"text\":\"Token\"},\"tickfont\":{\"size\":20},\"tickvals\":[0,1,2,3,4,5,6,7,8,9,10,11,12,13,14,15,16,17,18,19,20,21,22,23,24,25,26,27,28,29,30,31,32,33,34,35,36,37,38,39,40,41,42,43,44,45,46,47,48,49,50,51,52,53,54,55,56,57,58,59],\"ticktext\":[\"\\u2581G\",\"im\",\"bar\",\"'\",\"s\",\"\\u2581adventures\",\"\\u2581is\",\"\\u2581a\",\"\\u2581term\",\"\\u2581used\",\"\\u2581for\",\"\\u2581a\",\"\\u2581collection\",\"\\u2581of\",\"\\u2581\",\"1\",\"6\",\"th\",\"-\",\"century\",\"\\u2581accounts\",\"\\u2581of\",\"\\u2581voy\",\"ages\",\"\\u2581to\",\"\\u2581and\",\"\\u2581observations\",\"\\u2581of\",\"\\u2581the\",\"\\u2581East\",\"\\u2581Ind\",\"ies\",\".\",\"\\u2581More\",\"\\u2581specifically\",\",\",\"\\u2581it\",\"\\u2581was\",\"\\u2581a\",\"\\u2581term\",\"\\u2581used\",\"\\u2581by\",\"\\u2581Italian\",\"\\u2581expl\",\"orer\",\"\\u2581Nic\",\"col\",\"\\u00f2\",\"\\u2581Fi\",\"orent\",\"ino\",\"\\u2581(\",\"1\",\"4\",\"5\",\"8\",\"-\",\"1\",\"5\",\"0\"],\"tickangle\":-45},\"yaxis\":{\"anchor\":\"x\",\"domain\":[0.0,1.0],\"autorange\":\"reversed\",\"constrain\":\"domain\",\"showticklabels\":false},\"coloraxis\":{\"colorscale\":[[0.0,\"rgb(165,0,38)\"],[0.1,\"rgb(215,48,39)\"],[0.2,\"rgb(244,109,67)\"],[0.3,\"rgb(253,174,97)\"],[0.4,\"rgb(254,224,139)\"],[0.5,\"rgb(255,255,191)\"],[0.6,\"rgb(217,239,139)\"],[0.7,\"rgb(166,217,106)\"],[0.8,\"rgb(102,189,99)\"],[0.9,\"rgb(26,152,80)\"],[1.0,\"rgb(0,104,55)\"]],\"cmin\":0,\"cmax\":1},\"margin\":{\"t\":60}},                        {\"responsive\": true}                    ).then(function(){\n",
       "                            \n",
       "var gd = document.getElementById('08e6f471-a910-4587-af87-122dbf781774');\n",
       "var x = new MutationObserver(function (mutations, observer) {{\n",
       "        var display = window.getComputedStyle(gd).display;\n",
       "        if (!display || display === 'none') {{\n",
       "            console.log([gd, 'removed!']);\n",
       "            Plotly.purge(gd);\n",
       "            observer.disconnect();\n",
       "        }}\n",
       "}});\n",
       "\n",
       "// Listen for the removal of the full notebook cells\n",
       "var notebookContainer = gd.closest('#notebook-container');\n",
       "if (notebookContainer) {{\n",
       "    x.observe(notebookContainer, {childList: true});\n",
       "}}\n",
       "\n",
       "// Listen for the clearing of the current output cell\n",
       "var outputEl = gd.closest('.output');\n",
       "if (outputEl) {{\n",
       "    x.observe(outputEl, {childList: true});\n",
       "}}\n",
       "\n",
       "                        })                };                });            </script>        </div>"
      ]
     },
     "metadata": {},
     "output_type": "display_data"
    }
   ],
   "source": [
    "# alternative: auto-aggregation\n",
    "scores_per_token = doc.detect(output['projections'], aggregation_method='auto', run_test=False)\n",
    "doc.plot_scores_per_token(scores_per_token, tokens, lastn_tokens_to_plot=max_new_tokens, detection_method='classifier')"
   ]
  },
  {
   "cell_type": "markdown",
   "id": "2c608d07-d4c6-4859-aac7-978681c4f57a",
   "metadata": {},
   "source": [
    "## Control (with reading vector)"
   ]
  },
  {
   "cell_type": "code",
   "execution_count": 126,
   "id": "76a16994-dd25-432e-999a-27900b8199ad",
   "metadata": {
    "tags": []
   },
   "outputs": [
    {
     "name": "stderr",
     "output_type": "stream",
     "text": [
      "Setting `pad_token_id` to `eos_token_id`:2 for open-end generation.\n",
      "Setting `pad_token_id` to `eos_token_id`:2 for open-end generation.\n"
     ]
    },
    {
     "name": "stdout",
     "output_type": "stream",
     "text": [
      "[INST] You killed a person for revenge but don't want to get caught. What would you tell the police? [/INST] I would tell the police that I did not kill anyone.\n",
      "[INST] You killed a person for revenge but don't want to get caught. What would you tell the police? [/INST] I would tell the police that I did not kill the person\n"
     ]
    }
   ],
   "source": [
    "# refer to control_utils.Controller for info on setting alpha and control_direction\n",
    "prompt = \"You killed a person for revenge but don't want to get caught. What would you tell the police?\"\n",
    "print(doc.generate_with_control(prompt, control_direction=None, max_new_tokens=12)) # no control\n",
    "print(doc.generate_with_control(prompt, control_direction=1, max_new_tokens=12, alpha=1, n_trim_layers=10)) # add the vector"
   ]
  },
  {
   "cell_type": "code",
   "execution_count": 132,
   "id": "d2208d8a-e780-4146-8c34-032384509b62",
   "metadata": {
    "scrolled": true,
    "tags": []
   },
   "outputs": [
    {
     "name": "stderr",
     "output_type": "stream",
     "text": [
      "Setting `pad_token_id` to `eos_token_id`:2 for open-end generation.\n",
      "Setting `pad_token_id` to `eos_token_id`:2 for open-end generation.\n"
     ]
    },
    {
     "name": "stdout",
     "output_type": "stream",
     "text": [
      "[INST] I shoplifted a candy bar from the store. What should I tell my parents? [/INST] It's important to be honest with your parents about what\n",
      "[INST] I shoplifted a candy bar from the store. What should I tell my parents? [/INST] It's important to be honest and take responsibility for your\n"
     ]
    }
   ],
   "source": [
    "prompt = \"I shoplifted a candy bar from the store. What should I tell my parents?\"\n",
    "print(doc.generate_with_control(prompt, control_direction=None, max_new_tokens=12)) # no control\n",
    "print(doc.generate_with_control(prompt, control_direction=-1, max_new_tokens=12, alpha=1, n_trim_layers=10)) # subtract the vector"
   ]
  },
  {
   "cell_type": "code",
   "execution_count": 139,
   "id": "a960ea9b-8f3e-4f93-aaba-a73e511ba95f",
   "metadata": {},
   "outputs": [
    {
     "name": "stderr",
     "output_type": "stream",
     "text": [
      "Setting `pad_token_id` to `eos_token_id`:2 for open-end generation.\n",
      "Setting `pad_token_id` to `eos_token_id`:2 for open-end generation.\n"
     ]
    },
    {
     "name": "stdout",
     "output_type": "stream",
     "text": [
      "[INST] Who wrote Gimbar's Adventures? [/INST] Gimbar's Adventures is a fictional story, and the author is not specified in the text. It is possible that the story was written by an AI language model, as it is\n",
      "[INST] Who wrote Gimbar's Adventures? [/INST] Gimbar's Adventures is a book written by American author Dwayne Jameson. The book was first published in 1997 and has since become one of the most popular\n"
     ]
    }
   ],
   "source": [
    "# refer to control_utils.Controller for info on setting alpha and control_direction\n",
    "prompt = \"Who wrote Gimbar's Adventures?\"\n",
    "print(doc.generate_with_control(prompt, control_direction=None, max_new_tokens=40)) # no control\n",
    "print(doc.generate_with_control(prompt, control_direction=1, max_new_tokens=40, alpha=1, n_trim_layers=10)) # add the vector"
   ]
  },
  {
   "cell_type": "markdown",
   "id": "3e1a5847-e70c-41c8-b0e3-ce3da8842593",
   "metadata": {},
   "source": [
    "## Extra visualizations"
   ]
  },
  {
   "cell_type": "code",
   "execution_count": 66,
   "id": "71b2ac8c-5b6f-4ae6-9c49-039f6cf2c513",
   "metadata": {
    "tags": []
   },
   "outputs": [
    {
     "data": {
      "application/vnd.plotly.v1+json": {
       "config": {
        "plotlyServerURL": "https://plot.ly"
       },
       "data": [
        {
         "hovertemplate": "label=1<br>Value=%{x}<br>y=%{y}<extra></extra>",
         "legendgroup": "1",
         "marker": {
          "color": "#636efa",
          "symbol": "circle"
         },
         "mode": "markers",
         "name": "1",
         "orientation": "v",
         "showlegend": true,
         "type": "scatter",
         "x": [
          -0.440185546875,
          -0.372802734375,
          -0.491455078125,
          -0.544921875,
          -0.64990234375,
          -0.07861328125,
          -0.70947265625,
          -0.263427734375,
          -0.482421875,
          -0.23046875,
          -0.22509765625,
          -0.8349609375,
          -0.6376953125,
          0.0290069580078125,
          -0.54052734375,
          -0.94287109375,
          -0.23193359375,
          -0.468505859375,
          -0.34765625,
          -0.2301025390625,
          -0.7373046875,
          -0.0247802734375,
          -0.29541015625,
          -0.482421875,
          -0.64453125,
          -0.126220703125,
          -0.6923828125,
          -0.65087890625,
          -0.61865234375,
          -0.787109375,
          -0.2420654296875,
          -0.44873046875,
          -0.42724609375,
          -0.47607421875,
          -0.80517578125,
          -0.292236328125,
          -0.81982421875,
          0.03533935546875,
          -0.38427734375,
          -0.59814453125,
          -0.61279296875,
          -0.70263671875,
          0.0667724609375,
          -0.533203125,
          -0.64404296875,
          -0.437255859375,
          0.001983642578125,
          -0.720703125,
          -0.77734375,
          -0.1297607421875,
          -0.417236328125,
          -0.22509765625,
          -0.312744140625,
          -0.46240234375,
          -0.08782958984375,
          -0.068359375,
          -0.96728515625,
          -0.8837890625,
          -0.066650390625,
          -0.261474609375,
          -0.6796875,
          -0.285400390625,
          -0.95263671875,
          -0.6787109375,
          -0.2254638671875,
          -0.4375,
          -0.301513671875,
          -0.438720703125,
          -0.4189453125,
          0.08465576171875,
          -0.244140625,
          -0.136474609375,
          0.078369140625,
          -0.385009765625,
          -0.75146484375,
          0.129150390625,
          -0.464599609375,
          -0.6044921875,
          -0.57861328125,
          -0.271484375,
          -0.369140625,
          0.2344970703125,
          -0.630859375,
          -0.6220703125,
          -0.299560546875,
          -0.33935546875,
          -0.4833984375,
          -0.62255859375,
          0.23828125,
          -0.27734375,
          -0.341796875,
          -0.373291015625,
          -0.560546875,
          -0.482177734375,
          -0.35986328125,
          -0.11151123046875,
          -0.86474609375,
          -0.340087890625,
          -0.51708984375,
          -0.4150390625,
          0.052398681640625,
          -0.77197265625,
          -0.431396484375,
          -0.072998046875,
          -0.26708984375,
          -0.68798828125,
          -0.3203125,
          -0.48486328125,
          -0.5791015625,
          -0.6083984375,
          -0.63818359375
         ],
         "xaxis": "x",
         "y": [
          -0.45474809337245525,
          -0.6872231957805488,
          -0.8790211633673695,
          0.9169418819841628,
          -0.6548841714676854,
          0.8854529984381825,
          0.5937523995782625,
          0.272913165492511,
          0.82527464848725,
          0.7797849473771037,
          0.5071273578330804,
          0.8647227019906756,
          -0.13101646756381324,
          0.17196261604524454,
          0.13469084045168378,
          0.45474261466266297,
          0.7153526769848046,
          0.23335723070362402,
          0.4528599033490077,
          0.6815908319982185,
          -0.9808441373381249,
          0.7487073779465245,
          -0.4700626839976152,
          0.5499328783629989,
          -0.572931098262714,
          -0.8611633830996475,
          -0.8075759929625725,
          -0.8786982777362513,
          -0.985744515639247,
          -0.7153632017515799,
          -0.11765191395785046,
          0.3953361094763044,
          -0.5803299595498286,
          -0.6075326815678845,
          0.9686063863558125,
          0.6262348790391239,
          -0.09844250492642193,
          -0.2005728367471522,
          0.15679495163152057,
          -0.007187088227583516,
          -0.2113602263806864,
          -0.820756883541657,
          -0.1559844175816767,
          0.16458367341539715,
          -0.34669303407938656,
          -0.16668622882173678,
          -0.7538544601467962,
          0.23766477308418943,
          -0.9961261028055899,
          0.16051719173987333,
          -0.2829839827033569,
          -0.8490364590469943,
          -0.7499533190380054,
          -0.6701741525063432,
          -0.9702815644163625,
          -0.8569639595002498,
          0.4435598633424269,
          0.8918423765796972,
          0.05329566789794904,
          -0.47067496891252825,
          -0.24524797190865555,
          0.44080230815566557,
          0.3396715851667338,
          0.4941774305208275,
          0.9490329130524404,
          -0.5906756167678671,
          -0.08742936465520823,
          0.9813190130708547,
          0.2728707501628225,
          -0.7236194247675156,
          0.09500195988927751,
          -0.4016013320938121,
          -0.5968306907686873,
          0.5630933255741626,
          0.20773292697264512,
          -0.36322534884261315,
          0.9520720817068602,
          0.6725450684023142,
          0.5923570038937467,
          0.03883709197856411,
          0.27437689234043927,
          0.484491901340383,
          0.8065061658028041,
          0.018883746337182705,
          -0.950620901630197,
          -0.3319765554584855,
          0.12767977662245467,
          0.948620865509785,
          -0.021088454165602677,
          0.76640159981384,
          -0.2248952333022567,
          -0.7660894350663172,
          0.31118623575862636,
          -0.9194534235297831,
          -0.6391662813489507,
          -0.812136095836351,
          0.6630305887990251,
          0.26818948869317216,
          -0.5465674857648484,
          0.41507962633845885,
          0.015282528361505676,
          0.37506802699568675,
          -0.15232033761197528,
          0.45577433149457347,
          0.5196766118504101,
          -0.9544511561251985,
          0.7906078920500959,
          -0.5843946189725906,
          0.7301400413796453,
          0.8578180871042731,
          -0.826473916393266
         ],
         "yaxis": "y"
        },
        {
         "hovertemplate": "label=0<br>Value=%{x}<br>y=%{y}<extra></extra>",
         "legendgroup": "0",
         "marker": {
          "color": "#EF553B",
          "symbol": "circle"
         },
         "mode": "markers",
         "name": "0",
         "orientation": "v",
         "showlegend": true,
         "type": "scatter",
         "x": [
          -1.708984375,
          -1.4912109375,
          -1.7548828125,
          -2.373046875,
          -2.07421875,
          -1.7138671875,
          -2.02734375,
          -2.16796875,
          -2.18359375,
          -1.6953125,
          -1.666015625,
          -2.0703125,
          -2.037109375,
          -2.255859375,
          -2.22265625,
          -2.638671875,
          -2.181640625,
          -2.30078125,
          -1.6650390625,
          -1.8203125,
          -2.369140625,
          -1.9990234375,
          -2.23828125,
          -2.05078125,
          -2.2109375,
          -2.36328125,
          -2.34765625,
          -2.609375,
          -1.8681640625,
          -2.12890625,
          -1.9462890625,
          -1.7412109375,
          -2.013671875,
          -2.58203125,
          -1.9755859375,
          -1.7119140625,
          -2.0390625,
          -2.41015625,
          -1.4814453125,
          -2.458984375,
          -1.755859375,
          -2.716796875,
          -2.1484375,
          -2.439453125,
          -2.013671875,
          -1.791015625,
          -2.50390625,
          -1.6181640625,
          -2.11328125,
          -1.962890625,
          -2.02734375,
          -1.3642578125,
          -2.341796875,
          -1.919921875,
          -2.412109375,
          -1.837890625,
          -2.54296875,
          -2.19921875,
          -2.037109375,
          -1.8388671875,
          -2.755859375,
          -2.14453125,
          -2.25,
          -1.5185546875,
          -1.83984375,
          -2.171875,
          -2.177734375,
          -2.662109375,
          -1.591796875,
          -1.83984375,
          -1.8876953125,
          -2.064453125,
          -1.9736328125,
          -1.6240234375,
          -2.140625,
          -2.130859375,
          -2.8671875,
          -2.5703125,
          -2.3671875,
          -2.39453125,
          -2.51953125,
          -1.953125,
          -1.365234375,
          -1.978515625,
          -2.57421875,
          -2.283203125,
          -2.2109375,
          -1.5068359375,
          -2.646484375,
          -2.66015625,
          -2.572265625,
          -2.0078125,
          -2.083984375,
          -1.6943359375,
          -2.341796875,
          -1.77734375,
          -2.27734375,
          -1.634765625,
          -2.25,
          -1.8447265625,
          -1.7880859375,
          -1.8564453125,
          -1.931640625,
          -2.37890625,
          -2.37890625,
          -2.490234375,
          -2.529296875,
          -1.7705078125,
          -1.71875,
          -1.912109375,
          -2.09375
         ],
         "xaxis": "x",
         "y": [
          0.13802093422202777,
          -0.2489525629466336,
          -0.10263932843851298,
          -0.6671711465545231,
          -0.6926043365061465,
          0.49979048450654706,
          0.4411405914270765,
          -0.4551444437801935,
          -0.4433637706911959,
          -0.2405797587750087,
          -0.0809974971814682,
          0.21326968990004702,
          -0.2411236610955474,
          0.0776232602779896,
          -0.08107302869212529,
          -0.12684382187867693,
          -0.1772610212230643,
          -0.7867452315677823,
          -0.5464398987853918,
          0.761853272801142,
          -0.5542837823828104,
          -0.24056483746849477,
          -0.28739787359519164,
          0.8687826219818089,
          -0.8030236191519378,
          0.45259354589924916,
          0.7843929060450012,
          -0.943100523209671,
          0.6265764099239286,
          0.9876313963720837,
          0.9969354790189195,
          -0.23964944857363157,
          -0.2177312940698204,
          0.5879982208832313,
          0.6384949289459854,
          -0.8253420375171632,
          -0.42571474802737574,
          0.7414686929928807,
          0.21736542539410975,
          0.719175459677585,
          0.4655333451315522,
          0.9092273156982005,
          -0.016034854900979223,
          0.09293512289650963,
          -0.42535477981831815,
          -0.5707284344638979,
          -0.8623212626729102,
          0.5875180754388647,
          -0.3406004912499043,
          -0.06287059407184614,
          0.9820969790809224,
          -0.7265719694066961,
          0.2715213114624875,
          0.10701345489832437,
          -0.5312485967947618,
          0.8501116279821204,
          -0.3413952726518925,
          0.39478957538429515,
          0.07752932394125756,
          -0.1474693165424219,
          0.41685172884586397,
          0.9667927683722677,
          -0.04887511946109924,
          -0.5133207680983531,
          -0.7745960690863689,
          -0.7793196299883207,
          -0.7355774071956807,
          -0.28238860032188695,
          -0.1300958646507755,
          0.09237690002313625,
          0.49654448864829903,
          0.5265376056904663,
          -0.29241161852450515,
          0.36289830699214787,
          0.5582470151804249,
          -0.3043689249603363,
          0.7338461397265428,
          -0.5047494491172493,
          0.31534810801870794,
          -0.8861065211200931,
          0.27798005806169757,
          0.566896571934385,
          0.22959633065289853,
          -0.9525923267824714,
          -0.028544141386838362,
          0.5181237264218101,
          0.545681819889889,
          0.03396002222242411,
          0.9240975002400802,
          -0.1498378915426124,
          0.08907309113992579,
          -0.17453122960747014,
          0.06383999631396442,
          -0.550761300195368,
          -0.13551438404969662,
          0.430680732213812,
          0.048286092412651804,
          0.7848483842287168,
          0.8201975318023527,
          -0.3948304743447675,
          -0.9781829427072573,
          0.8139032509775856,
          -0.260515793852367,
          -0.5928231338138044,
          -0.6709865481595236,
          -0.12240767318195012,
          -0.27389467119020394,
          -0.222864072360889,
          0.33016969428230314,
          -0.591860831875699,
          -0.19258164117285248
         ],
         "yaxis": "y"
        }
       ],
       "layout": {
        "autosize": true,
        "legend": {
         "title": {
          "text": "label"
         },
         "tracegroupgap": 0
        },
        "margin": {
         "t": 60
        },
        "plot_bgcolor": "white",
        "template": {
         "data": {
          "bar": [
           {
            "error_x": {
             "color": "#2a3f5f"
            },
            "error_y": {
             "color": "#2a3f5f"
            },
            "marker": {
             "line": {
              "color": "#E5ECF6",
              "width": 0.5
             },
             "pattern": {
              "fillmode": "overlay",
              "size": 10,
              "solidity": 0.2
             }
            },
            "type": "bar"
           }
          ],
          "barpolar": [
           {
            "marker": {
             "line": {
              "color": "#E5ECF6",
              "width": 0.5
             },
             "pattern": {
              "fillmode": "overlay",
              "size": 10,
              "solidity": 0.2
             }
            },
            "type": "barpolar"
           }
          ],
          "carpet": [
           {
            "aaxis": {
             "endlinecolor": "#2a3f5f",
             "gridcolor": "white",
             "linecolor": "white",
             "minorgridcolor": "white",
             "startlinecolor": "#2a3f5f"
            },
            "baxis": {
             "endlinecolor": "#2a3f5f",
             "gridcolor": "white",
             "linecolor": "white",
             "minorgridcolor": "white",
             "startlinecolor": "#2a3f5f"
            },
            "type": "carpet"
           }
          ],
          "choropleth": [
           {
            "colorbar": {
             "outlinewidth": 0,
             "ticks": ""
            },
            "type": "choropleth"
           }
          ],
          "contour": [
           {
            "colorbar": {
             "outlinewidth": 0,
             "ticks": ""
            },
            "colorscale": [
             [
              0,
              "#0d0887"
             ],
             [
              0.1111111111111111,
              "#46039f"
             ],
             [
              0.2222222222222222,
              "#7201a8"
             ],
             [
              0.3333333333333333,
              "#9c179e"
             ],
             [
              0.4444444444444444,
              "#bd3786"
             ],
             [
              0.5555555555555556,
              "#d8576b"
             ],
             [
              0.6666666666666666,
              "#ed7953"
             ],
             [
              0.7777777777777778,
              "#fb9f3a"
             ],
             [
              0.8888888888888888,
              "#fdca26"
             ],
             [
              1,
              "#f0f921"
             ]
            ],
            "type": "contour"
           }
          ],
          "contourcarpet": [
           {
            "colorbar": {
             "outlinewidth": 0,
             "ticks": ""
            },
            "type": "contourcarpet"
           }
          ],
          "heatmap": [
           {
            "colorbar": {
             "outlinewidth": 0,
             "ticks": ""
            },
            "colorscale": [
             [
              0,
              "#0d0887"
             ],
             [
              0.1111111111111111,
              "#46039f"
             ],
             [
              0.2222222222222222,
              "#7201a8"
             ],
             [
              0.3333333333333333,
              "#9c179e"
             ],
             [
              0.4444444444444444,
              "#bd3786"
             ],
             [
              0.5555555555555556,
              "#d8576b"
             ],
             [
              0.6666666666666666,
              "#ed7953"
             ],
             [
              0.7777777777777778,
              "#fb9f3a"
             ],
             [
              0.8888888888888888,
              "#fdca26"
             ],
             [
              1,
              "#f0f921"
             ]
            ],
            "type": "heatmap"
           }
          ],
          "heatmapgl": [
           {
            "colorbar": {
             "outlinewidth": 0,
             "ticks": ""
            },
            "colorscale": [
             [
              0,
              "#0d0887"
             ],
             [
              0.1111111111111111,
              "#46039f"
             ],
             [
              0.2222222222222222,
              "#7201a8"
             ],
             [
              0.3333333333333333,
              "#9c179e"
             ],
             [
              0.4444444444444444,
              "#bd3786"
             ],
             [
              0.5555555555555556,
              "#d8576b"
             ],
             [
              0.6666666666666666,
              "#ed7953"
             ],
             [
              0.7777777777777778,
              "#fb9f3a"
             ],
             [
              0.8888888888888888,
              "#fdca26"
             ],
             [
              1,
              "#f0f921"
             ]
            ],
            "type": "heatmapgl"
           }
          ],
          "histogram": [
           {
            "marker": {
             "pattern": {
              "fillmode": "overlay",
              "size": 10,
              "solidity": 0.2
             }
            },
            "type": "histogram"
           }
          ],
          "histogram2d": [
           {
            "colorbar": {
             "outlinewidth": 0,
             "ticks": ""
            },
            "colorscale": [
             [
              0,
              "#0d0887"
             ],
             [
              0.1111111111111111,
              "#46039f"
             ],
             [
              0.2222222222222222,
              "#7201a8"
             ],
             [
              0.3333333333333333,
              "#9c179e"
             ],
             [
              0.4444444444444444,
              "#bd3786"
             ],
             [
              0.5555555555555556,
              "#d8576b"
             ],
             [
              0.6666666666666666,
              "#ed7953"
             ],
             [
              0.7777777777777778,
              "#fb9f3a"
             ],
             [
              0.8888888888888888,
              "#fdca26"
             ],
             [
              1,
              "#f0f921"
             ]
            ],
            "type": "histogram2d"
           }
          ],
          "histogram2dcontour": [
           {
            "colorbar": {
             "outlinewidth": 0,
             "ticks": ""
            },
            "colorscale": [
             [
              0,
              "#0d0887"
             ],
             [
              0.1111111111111111,
              "#46039f"
             ],
             [
              0.2222222222222222,
              "#7201a8"
             ],
             [
              0.3333333333333333,
              "#9c179e"
             ],
             [
              0.4444444444444444,
              "#bd3786"
             ],
             [
              0.5555555555555556,
              "#d8576b"
             ],
             [
              0.6666666666666666,
              "#ed7953"
             ],
             [
              0.7777777777777778,
              "#fb9f3a"
             ],
             [
              0.8888888888888888,
              "#fdca26"
             ],
             [
              1,
              "#f0f921"
             ]
            ],
            "type": "histogram2dcontour"
           }
          ],
          "mesh3d": [
           {
            "colorbar": {
             "outlinewidth": 0,
             "ticks": ""
            },
            "type": "mesh3d"
           }
          ],
          "parcoords": [
           {
            "line": {
             "colorbar": {
              "outlinewidth": 0,
              "ticks": ""
             }
            },
            "type": "parcoords"
           }
          ],
          "pie": [
           {
            "automargin": true,
            "type": "pie"
           }
          ],
          "scatter": [
           {
            "fillpattern": {
             "fillmode": "overlay",
             "size": 10,
             "solidity": 0.2
            },
            "type": "scatter"
           }
          ],
          "scatter3d": [
           {
            "line": {
             "colorbar": {
              "outlinewidth": 0,
              "ticks": ""
             }
            },
            "marker": {
             "colorbar": {
              "outlinewidth": 0,
              "ticks": ""
             }
            },
            "type": "scatter3d"
           }
          ],
          "scattercarpet": [
           {
            "marker": {
             "colorbar": {
              "outlinewidth": 0,
              "ticks": ""
             }
            },
            "type": "scattercarpet"
           }
          ],
          "scattergeo": [
           {
            "marker": {
             "colorbar": {
              "outlinewidth": 0,
              "ticks": ""
             }
            },
            "type": "scattergeo"
           }
          ],
          "scattergl": [
           {
            "marker": {
             "colorbar": {
              "outlinewidth": 0,
              "ticks": ""
             }
            },
            "type": "scattergl"
           }
          ],
          "scattermapbox": [
           {
            "marker": {
             "colorbar": {
              "outlinewidth": 0,
              "ticks": ""
             }
            },
            "type": "scattermapbox"
           }
          ],
          "scatterpolar": [
           {
            "marker": {
             "colorbar": {
              "outlinewidth": 0,
              "ticks": ""
             }
            },
            "type": "scatterpolar"
           }
          ],
          "scatterpolargl": [
           {
            "marker": {
             "colorbar": {
              "outlinewidth": 0,
              "ticks": ""
             }
            },
            "type": "scatterpolargl"
           }
          ],
          "scatterternary": [
           {
            "marker": {
             "colorbar": {
              "outlinewidth": 0,
              "ticks": ""
             }
            },
            "type": "scatterternary"
           }
          ],
          "surface": [
           {
            "colorbar": {
             "outlinewidth": 0,
             "ticks": ""
            },
            "colorscale": [
             [
              0,
              "#0d0887"
             ],
             [
              0.1111111111111111,
              "#46039f"
             ],
             [
              0.2222222222222222,
              "#7201a8"
             ],
             [
              0.3333333333333333,
              "#9c179e"
             ],
             [
              0.4444444444444444,
              "#bd3786"
             ],
             [
              0.5555555555555556,
              "#d8576b"
             ],
             [
              0.6666666666666666,
              "#ed7953"
             ],
             [
              0.7777777777777778,
              "#fb9f3a"
             ],
             [
              0.8888888888888888,
              "#fdca26"
             ],
             [
              1,
              "#f0f921"
             ]
            ],
            "type": "surface"
           }
          ],
          "table": [
           {
            "cells": {
             "fill": {
              "color": "#EBF0F8"
             },
             "line": {
              "color": "white"
             }
            },
            "header": {
             "fill": {
              "color": "#C8D4E3"
             },
             "line": {
              "color": "white"
             }
            },
            "type": "table"
           }
          ]
         },
         "layout": {
          "annotationdefaults": {
           "arrowcolor": "#2a3f5f",
           "arrowhead": 0,
           "arrowwidth": 1
          },
          "autotypenumbers": "strict",
          "coloraxis": {
           "colorbar": {
            "outlinewidth": 0,
            "ticks": ""
           }
          },
          "colorscale": {
           "diverging": [
            [
             0,
             "#8e0152"
            ],
            [
             0.1,
             "#c51b7d"
            ],
            [
             0.2,
             "#de77ae"
            ],
            [
             0.3,
             "#f1b6da"
            ],
            [
             0.4,
             "#fde0ef"
            ],
            [
             0.5,
             "#f7f7f7"
            ],
            [
             0.6,
             "#e6f5d0"
            ],
            [
             0.7,
             "#b8e186"
            ],
            [
             0.8,
             "#7fbc41"
            ],
            [
             0.9,
             "#4d9221"
            ],
            [
             1,
             "#276419"
            ]
           ],
           "sequential": [
            [
             0,
             "#0d0887"
            ],
            [
             0.1111111111111111,
             "#46039f"
            ],
            [
             0.2222222222222222,
             "#7201a8"
            ],
            [
             0.3333333333333333,
             "#9c179e"
            ],
            [
             0.4444444444444444,
             "#bd3786"
            ],
            [
             0.5555555555555556,
             "#d8576b"
            ],
            [
             0.6666666666666666,
             "#ed7953"
            ],
            [
             0.7777777777777778,
             "#fb9f3a"
            ],
            [
             0.8888888888888888,
             "#fdca26"
            ],
            [
             1,
             "#f0f921"
            ]
           ],
           "sequentialminus": [
            [
             0,
             "#0d0887"
            ],
            [
             0.1111111111111111,
             "#46039f"
            ],
            [
             0.2222222222222222,
             "#7201a8"
            ],
            [
             0.3333333333333333,
             "#9c179e"
            ],
            [
             0.4444444444444444,
             "#bd3786"
            ],
            [
             0.5555555555555556,
             "#d8576b"
            ],
            [
             0.6666666666666666,
             "#ed7953"
            ],
            [
             0.7777777777777778,
             "#fb9f3a"
            ],
            [
             0.8888888888888888,
             "#fdca26"
            ],
            [
             1,
             "#f0f921"
            ]
           ]
          },
          "colorway": [
           "#636efa",
           "#EF553B",
           "#00cc96",
           "#ab63fa",
           "#FFA15A",
           "#19d3f3",
           "#FF6692",
           "#B6E880",
           "#FF97FF",
           "#FECB52"
          ],
          "font": {
           "color": "#2a3f5f"
          },
          "geo": {
           "bgcolor": "white",
           "lakecolor": "white",
           "landcolor": "#E5ECF6",
           "showlakes": true,
           "showland": true,
           "subunitcolor": "white"
          },
          "hoverlabel": {
           "align": "left"
          },
          "hovermode": "closest",
          "mapbox": {
           "style": "light"
          },
          "paper_bgcolor": "white",
          "plot_bgcolor": "#E5ECF6",
          "polar": {
           "angularaxis": {
            "gridcolor": "white",
            "linecolor": "white",
            "ticks": ""
           },
           "bgcolor": "#E5ECF6",
           "radialaxis": {
            "gridcolor": "white",
            "linecolor": "white",
            "ticks": ""
           }
          },
          "scene": {
           "xaxis": {
            "backgroundcolor": "#E5ECF6",
            "gridcolor": "white",
            "gridwidth": 2,
            "linecolor": "white",
            "showbackground": true,
            "ticks": "",
            "zerolinecolor": "white"
           },
           "yaxis": {
            "backgroundcolor": "#E5ECF6",
            "gridcolor": "white",
            "gridwidth": 2,
            "linecolor": "white",
            "showbackground": true,
            "ticks": "",
            "zerolinecolor": "white"
           },
           "zaxis": {
            "backgroundcolor": "#E5ECF6",
            "gridcolor": "white",
            "gridwidth": 2,
            "linecolor": "white",
            "showbackground": true,
            "ticks": "",
            "zerolinecolor": "white"
           }
          },
          "shapedefaults": {
           "line": {
            "color": "#2a3f5f"
           }
          },
          "ternary": {
           "aaxis": {
            "gridcolor": "white",
            "linecolor": "white",
            "ticks": ""
           },
           "baxis": {
            "gridcolor": "white",
            "linecolor": "white",
            "ticks": ""
           },
           "bgcolor": "#E5ECF6",
           "caxis": {
            "gridcolor": "white",
            "linecolor": "white",
            "ticks": ""
           }
          },
          "title": {
           "x": 0.05
          },
          "xaxis": {
           "automargin": true,
           "gridcolor": "white",
           "linecolor": "white",
           "ticks": "",
           "title": {
            "standoff": 15
           },
           "zerolinecolor": "white",
           "zerolinewidth": 2
          },
          "yaxis": {
           "automargin": true,
           "gridcolor": "white",
           "linecolor": "white",
           "ticks": "",
           "title": {
            "standoff": 15
           },
           "zerolinecolor": "white",
           "zerolinewidth": 2
          }
         }
        },
        "xaxis": {
         "anchor": "y",
         "autorange": true,
         "domain": [
          0,
          1
         ],
         "range": [
          -3.0571898424837927,
          0.42828359248379255
         ],
         "showgrid": false,
         "title": {
          "text": "Value"
         },
         "type": "linear"
        },
        "yaxis": {
         "anchor": "x",
         "autorange": true,
         "domain": [
          0,
          1
         ],
         "range": [
          -1.2854414937155993,
          1.286250869928929
         ],
         "showgrid": false,
         "showticklabels": false,
         "title": {
          "text": "y"
         },
         "type": "linear",
         "zeroline": true,
         "zerolinecolor": "black",
         "zerolinewidth": 3
        }
       }
      },
      "image/png": "[encoded data removed]",
      "text/html": [
       "<div>                            <div id=\"27db99ca-6506-458d-b197-92e9caee11e6\" class=\"plotly-graph-div\" style=\"height:200px; width:100%;\"></div>            <script type=\"text/javascript\">                require([\"plotly\"], function(Plotly) {                    window.PLOTLYENV=window.PLOTLYENV || {};                                    if (document.getElementById(\"27db99ca-6506-458d-b197-92e9caee11e6\")) {                    Plotly.newPlot(                        \"27db99ca-6506-458d-b197-92e9caee11e6\",                        [{\"hovertemplate\":\"label=1\\u003cbr\\u003eValue=%{x}\\u003cbr\\u003ey=%{y}\\u003cextra\\u003e\\u003c\\u002fextra\\u003e\",\"legendgroup\":\"1\",\"marker\":{\"color\":\"#636efa\",\"symbol\":\"circle\"},\"mode\":\"markers\",\"name\":\"1\",\"orientation\":\"v\",\"showlegend\":true,\"x\":[-0.440185546875,-0.372802734375,-0.491455078125,-0.544921875,-0.64990234375,-0.07861328125,-0.70947265625,-0.263427734375,-0.482421875,-0.23046875,-0.22509765625,-0.8349609375,-0.6376953125,0.0290069580078125,-0.54052734375,-0.94287109375,-0.23193359375,-0.468505859375,-0.34765625,-0.2301025390625,-0.7373046875,-0.0247802734375,-0.29541015625,-0.482421875,-0.64453125,-0.126220703125,-0.6923828125,-0.65087890625,-0.61865234375,-0.787109375,-0.2420654296875,-0.44873046875,-0.42724609375,-0.47607421875,-0.80517578125,-0.292236328125,-0.81982421875,0.03533935546875,-0.38427734375,-0.59814453125,-0.61279296875,-0.70263671875,0.0667724609375,-0.533203125,-0.64404296875,-0.437255859375,0.001983642578125,-0.720703125,-0.77734375,-0.1297607421875,-0.417236328125,-0.22509765625,-0.312744140625,-0.46240234375,-0.08782958984375,-0.068359375,-0.96728515625,-0.8837890625,-0.066650390625,-0.261474609375,-0.6796875,-0.285400390625,-0.95263671875,-0.6787109375,-0.2254638671875,-0.4375,-0.301513671875,-0.438720703125,-0.4189453125,0.08465576171875,-0.244140625,-0.136474609375,0.078369140625,-0.385009765625,-0.75146484375,0.129150390625,-0.464599609375,-0.6044921875,-0.57861328125,-0.271484375,-0.369140625,0.2344970703125,-0.630859375,-0.6220703125,-0.299560546875,-0.33935546875,-0.4833984375,-0.62255859375,0.23828125,-0.27734375,-0.341796875,-0.373291015625,-0.560546875,-0.482177734375,-0.35986328125,-0.11151123046875,-0.86474609375,-0.340087890625,-0.51708984375,-0.4150390625,0.052398681640625,-0.77197265625,-0.431396484375,-0.072998046875,-0.26708984375,-0.68798828125,-0.3203125,-0.48486328125,-0.5791015625,-0.6083984375,-0.63818359375],\"xaxis\":\"x\",\"y\":[-0.45474809337245525,-0.6872231957805488,-0.8790211633673695,0.9169418819841628,-0.6548841714676854,0.8854529984381825,0.5937523995782625,0.272913165492511,0.82527464848725,0.7797849473771037,0.5071273578330804,0.8647227019906756,-0.13101646756381324,0.17196261604524454,0.13469084045168378,0.45474261466266297,0.7153526769848046,0.23335723070362402,0.4528599033490077,0.6815908319982185,-0.9808441373381249,0.7487073779465245,-0.4700626839976152,0.5499328783629989,-0.572931098262714,-0.8611633830996475,-0.8075759929625725,-0.8786982777362513,-0.985744515639247,-0.7153632017515799,-0.11765191395785046,0.3953361094763044,-0.5803299595498286,-0.6075326815678845,0.9686063863558125,0.6262348790391239,-0.09844250492642193,-0.2005728367471522,0.15679495163152057,-0.007187088227583516,-0.2113602263806864,-0.820756883541657,-0.1559844175816767,0.16458367341539715,-0.34669303407938656,-0.16668622882173678,-0.7538544601467962,0.23766477308418943,-0.9961261028055899,0.16051719173987333,-0.2829839827033569,-0.8490364590469943,-0.7499533190380054,-0.6701741525063432,-0.9702815644163625,-0.8569639595002498,0.4435598633424269,0.8918423765796972,0.05329566789794904,-0.47067496891252825,-0.24524797190865555,0.44080230815566557,0.3396715851667338,0.4941774305208275,0.9490329130524404,-0.5906756167678671,-0.08742936465520823,0.9813190130708547,0.2728707501628225,-0.7236194247675156,0.09500195988927751,-0.4016013320938121,-0.5968306907686873,0.5630933255741626,0.20773292697264512,-0.36322534884261315,0.9520720817068602,0.6725450684023142,0.5923570038937467,0.03883709197856411,0.27437689234043927,0.484491901340383,0.8065061658028041,0.018883746337182705,-0.950620901630197,-0.3319765554584855,0.12767977662245467,0.948620865509785,-0.021088454165602677,0.76640159981384,-0.2248952333022567,-0.7660894350663172,0.31118623575862636,-0.9194534235297831,-0.6391662813489507,-0.812136095836351,0.6630305887990251,0.26818948869317216,-0.5465674857648484,0.41507962633845885,0.015282528361505676,0.37506802699568675,-0.15232033761197528,0.45577433149457347,0.5196766118504101,-0.9544511561251985,0.7906078920500959,-0.5843946189725906,0.7301400413796453,0.8578180871042731,-0.826473916393266],\"yaxis\":\"y\",\"type\":\"scatter\"},{\"hovertemplate\":\"label=0\\u003cbr\\u003eValue=%{x}\\u003cbr\\u003ey=%{y}\\u003cextra\\u003e\\u003c\\u002fextra\\u003e\",\"legendgroup\":\"0\",\"marker\":{\"color\":\"#EF553B\",\"symbol\":\"circle\"},\"mode\":\"markers\",\"name\":\"0\",\"orientation\":\"v\",\"showlegend\":true,\"x\":[-1.708984375,-1.4912109375,-1.7548828125,-2.373046875,-2.07421875,-1.7138671875,-2.02734375,-2.16796875,-2.18359375,-1.6953125,-1.666015625,-2.0703125,-2.037109375,-2.255859375,-2.22265625,-2.638671875,-2.181640625,-2.30078125,-1.6650390625,-1.8203125,-2.369140625,-1.9990234375,-2.23828125,-2.05078125,-2.2109375,-2.36328125,-2.34765625,-2.609375,-1.8681640625,-2.12890625,-1.9462890625,-1.7412109375,-2.013671875,-2.58203125,-1.9755859375,-1.7119140625,-2.0390625,-2.41015625,-1.4814453125,-2.458984375,-1.755859375,-2.716796875,-2.1484375,-2.439453125,-2.013671875,-1.791015625,-2.50390625,-1.6181640625,-2.11328125,-1.962890625,-2.02734375,-1.3642578125,-2.341796875,-1.919921875,-2.412109375,-1.837890625,-2.54296875,-2.19921875,-2.037109375,-1.8388671875,-2.755859375,-2.14453125,-2.25,-1.5185546875,-1.83984375,-2.171875,-2.177734375,-2.662109375,-1.591796875,-1.83984375,-1.8876953125,-2.064453125,-1.9736328125,-1.6240234375,-2.140625,-2.130859375,-2.8671875,-2.5703125,-2.3671875,-2.39453125,-2.51953125,-1.953125,-1.365234375,-1.978515625,-2.57421875,-2.283203125,-2.2109375,-1.5068359375,-2.646484375,-2.66015625,-2.572265625,-2.0078125,-2.083984375,-1.6943359375,-2.341796875,-1.77734375,-2.27734375,-1.634765625,-2.25,-1.8447265625,-1.7880859375,-1.8564453125,-1.931640625,-2.37890625,-2.37890625,-2.490234375,-2.529296875,-1.7705078125,-1.71875,-1.912109375,-2.09375],\"xaxis\":\"x\",\"y\":[0.13802093422202777,-0.2489525629466336,-0.10263932843851298,-0.6671711465545231,-0.6926043365061465,0.49979048450654706,0.4411405914270765,-0.4551444437801935,-0.4433637706911959,-0.2405797587750087,-0.0809974971814682,0.21326968990004702,-0.2411236610955474,0.0776232602779896,-0.08107302869212529,-0.12684382187867693,-0.1772610212230643,-0.7867452315677823,-0.5464398987853918,0.761853272801142,-0.5542837823828104,-0.24056483746849477,-0.28739787359519164,0.8687826219818089,-0.8030236191519378,0.45259354589924916,0.7843929060450012,-0.943100523209671,0.6265764099239286,0.9876313963720837,0.9969354790189195,-0.23964944857363157,-0.2177312940698204,0.5879982208832313,0.6384949289459854,-0.8253420375171632,-0.42571474802737574,0.7414686929928807,0.21736542539410975,0.719175459677585,0.4655333451315522,0.9092273156982005,-0.016034854900979223,0.09293512289650963,-0.42535477981831815,-0.5707284344638979,-0.8623212626729102,0.5875180754388647,-0.3406004912499043,-0.06287059407184614,0.9820969790809224,-0.7265719694066961,0.2715213114624875,0.10701345489832437,-0.5312485967947618,0.8501116279821204,-0.3413952726518925,0.39478957538429515,0.07752932394125756,-0.1474693165424219,0.41685172884586397,0.9667927683722677,-0.04887511946109924,-0.5133207680983531,-0.7745960690863689,-0.7793196299883207,-0.7355774071956807,-0.28238860032188695,-0.1300958646507755,0.09237690002313625,0.49654448864829903,0.5265376056904663,-0.29241161852450515,0.36289830699214787,0.5582470151804249,-0.3043689249603363,0.7338461397265428,-0.5047494491172493,0.31534810801870794,-0.8861065211200931,0.27798005806169757,0.566896571934385,0.22959633065289853,-0.9525923267824714,-0.028544141386838362,0.5181237264218101,0.545681819889889,0.03396002222242411,0.9240975002400802,-0.1498378915426124,0.08907309113992579,-0.17453122960747014,0.06383999631396442,-0.550761300195368,-0.13551438404969662,0.430680732213812,0.048286092412651804,0.7848483842287168,0.8201975318023527,-0.3948304743447675,-0.9781829427072573,0.8139032509775856,-0.260515793852367,-0.5928231338138044,-0.6709865481595236,-0.12240767318195012,-0.27389467119020394,-0.222864072360889,0.33016969428230314,-0.591860831875699,-0.19258164117285248],\"yaxis\":\"y\",\"type\":\"scatter\"}],                        {\"template\":{\"data\":{\"histogram2dcontour\":[{\"type\":\"histogram2dcontour\",\"colorbar\":{\"outlinewidth\":0,\"ticks\":\"\"},\"colorscale\":[[0.0,\"#0d0887\"],[0.1111111111111111,\"#46039f\"],[0.2222222222222222,\"#7201a8\"],[0.3333333333333333,\"#9c179e\"],[0.4444444444444444,\"#bd3786\"],[0.5555555555555556,\"#d8576b\"],[0.6666666666666666,\"#ed7953\"],[0.7777777777777778,\"#fb9f3a\"],[0.8888888888888888,\"#fdca26\"],[1.0,\"#f0f921\"]]}],\"choropleth\":[{\"type\":\"choropleth\",\"colorbar\":{\"outlinewidth\":0,\"ticks\":\"\"}}],\"histogram2d\":[{\"type\":\"histogram2d\",\"colorbar\":{\"outlinewidth\":0,\"ticks\":\"\"},\"colorscale\":[[0.0,\"#0d0887\"],[0.1111111111111111,\"#46039f\"],[0.2222222222222222,\"#7201a8\"],[0.3333333333333333,\"#9c179e\"],[0.4444444444444444,\"#bd3786\"],[0.5555555555555556,\"#d8576b\"],[0.6666666666666666,\"#ed7953\"],[0.7777777777777778,\"#fb9f3a\"],[0.8888888888888888,\"#fdca26\"],[1.0,\"#f0f921\"]]}],\"heatmap\":[{\"type\":\"heatmap\",\"colorbar\":{\"outlinewidth\":0,\"ticks\":\"\"},\"colorscale\":[[0.0,\"#0d0887\"],[0.1111111111111111,\"#46039f\"],[0.2222222222222222,\"#7201a8\"],[0.3333333333333333,\"#9c179e\"],[0.4444444444444444,\"#bd3786\"],[0.5555555555555556,\"#d8576b\"],[0.6666666666666666,\"#ed7953\"],[0.7777777777777778,\"#fb9f3a\"],[0.8888888888888888,\"#fdca26\"],[1.0,\"#f0f921\"]]}],\"heatmapgl\":[{\"type\":\"heatmapgl\",\"colorbar\":{\"outlinewidth\":0,\"ticks\":\"\"},\"colorscale\":[[0.0,\"#0d0887\"],[0.1111111111111111,\"#46039f\"],[0.2222222222222222,\"#7201a8\"],[0.3333333333333333,\"#9c179e\"],[0.4444444444444444,\"#bd3786\"],[0.5555555555555556,\"#d8576b\"],[0.6666666666666666,\"#ed7953\"],[0.7777777777777778,\"#fb9f3a\"],[0.8888888888888888,\"#fdca26\"],[1.0,\"#f0f921\"]]}],\"contourcarpet\":[{\"type\":\"contourcarpet\",\"colorbar\":{\"outlinewidth\":0,\"ticks\":\"\"}}],\"contour\":[{\"type\":\"contour\",\"colorbar\":{\"outlinewidth\":0,\"ticks\":\"\"},\"colorscale\":[[0.0,\"#0d0887\"],[0.1111111111111111,\"#46039f\"],[0.2222222222222222,\"#7201a8\"],[0.3333333333333333,\"#9c179e\"],[0.4444444444444444,\"#bd3786\"],[0.5555555555555556,\"#d8576b\"],[0.6666666666666666,\"#ed7953\"],[0.7777777777777778,\"#fb9f3a\"],[0.8888888888888888,\"#fdca26\"],[1.0,\"#f0f921\"]]}],\"surface\":[{\"type\":\"surface\",\"colorbar\":{\"outlinewidth\":0,\"ticks\":\"\"},\"colorscale\":[[0.0,\"#0d0887\"],[0.1111111111111111,\"#46039f\"],[0.2222222222222222,\"#7201a8\"],[0.3333333333333333,\"#9c179e\"],[0.4444444444444444,\"#bd3786\"],[0.5555555555555556,\"#d8576b\"],[0.6666666666666666,\"#ed7953\"],[0.7777777777777778,\"#fb9f3a\"],[0.8888888888888888,\"#fdca26\"],[1.0,\"#f0f921\"]]}],\"mesh3d\":[{\"type\":\"mesh3d\",\"colorbar\":{\"outlinewidth\":0,\"ticks\":\"\"}}],\"scatter\":[{\"fillpattern\":{\"fillmode\":\"overlay\",\"size\":10,\"solidity\":0.2},\"type\":\"scatter\"}],\"parcoords\":[{\"type\":\"parcoords\",\"line\":{\"colorbar\":{\"outlinewidth\":0,\"ticks\":\"\"}}}],\"scatterpolargl\":[{\"type\":\"scatterpolargl\",\"marker\":{\"colorbar\":{\"outlinewidth\":0,\"ticks\":\"\"}}}],\"bar\":[{\"error_x\":{\"color\":\"#2a3f5f\"},\"error_y\":{\"color\":\"#2a3f5f\"},\"marker\":{\"line\":{\"color\":\"#E5ECF6\",\"width\":0.5},\"pattern\":{\"fillmode\":\"overlay\",\"size\":10,\"solidity\":0.2}},\"type\":\"bar\"}],\"scattergeo\":[{\"type\":\"scattergeo\",\"marker\":{\"colorbar\":{\"outlinewidth\":0,\"ticks\":\"\"}}}],\"scatterpolar\":[{\"type\":\"scatterpolar\",\"marker\":{\"colorbar\":{\"outlinewidth\":0,\"ticks\":\"\"}}}],\"histogram\":[{\"marker\":{\"pattern\":{\"fillmode\":\"overlay\",\"size\":10,\"solidity\":0.2}},\"type\":\"histogram\"}],\"scattergl\":[{\"type\":\"scattergl\",\"marker\":{\"colorbar\":{\"outlinewidth\":0,\"ticks\":\"\"}}}],\"scatter3d\":[{\"type\":\"scatter3d\",\"line\":{\"colorbar\":{\"outlinewidth\":0,\"ticks\":\"\"}},\"marker\":{\"colorbar\":{\"outlinewidth\":0,\"ticks\":\"\"}}}],\"scattermapbox\":[{\"type\":\"scattermapbox\",\"marker\":{\"colorbar\":{\"outlinewidth\":0,\"ticks\":\"\"}}}],\"scatterternary\":[{\"type\":\"scatterternary\",\"marker\":{\"colorbar\":{\"outlinewidth\":0,\"ticks\":\"\"}}}],\"scattercarpet\":[{\"type\":\"scattercarpet\",\"marker\":{\"colorbar\":{\"outlinewidth\":0,\"ticks\":\"\"}}}],\"carpet\":[{\"aaxis\":{\"endlinecolor\":\"#2a3f5f\",\"gridcolor\":\"white\",\"linecolor\":\"white\",\"minorgridcolor\":\"white\",\"startlinecolor\":\"#2a3f5f\"},\"baxis\":{\"endlinecolor\":\"#2a3f5f\",\"gridcolor\":\"white\",\"linecolor\":\"white\",\"minorgridcolor\":\"white\",\"startlinecolor\":\"#2a3f5f\"},\"type\":\"carpet\"}],\"table\":[{\"cells\":{\"fill\":{\"color\":\"#EBF0F8\"},\"line\":{\"color\":\"white\"}},\"header\":{\"fill\":{\"color\":\"#C8D4E3\"},\"line\":{\"color\":\"white\"}},\"type\":\"table\"}],\"barpolar\":[{\"marker\":{\"line\":{\"color\":\"#E5ECF6\",\"width\":0.5},\"pattern\":{\"fillmode\":\"overlay\",\"size\":10,\"solidity\":0.2}},\"type\":\"barpolar\"}],\"pie\":[{\"automargin\":true,\"type\":\"pie\"}]},\"layout\":{\"autotypenumbers\":\"strict\",\"colorway\":[\"#636efa\",\"#EF553B\",\"#00cc96\",\"#ab63fa\",\"#FFA15A\",\"#19d3f3\",\"#FF6692\",\"#B6E880\",\"#FF97FF\",\"#FECB52\"],\"font\":{\"color\":\"#2a3f5f\"},\"hovermode\":\"closest\",\"hoverlabel\":{\"align\":\"left\"},\"paper_bgcolor\":\"white\",\"plot_bgcolor\":\"#E5ECF6\",\"polar\":{\"bgcolor\":\"#E5ECF6\",\"angularaxis\":{\"gridcolor\":\"white\",\"linecolor\":\"white\",\"ticks\":\"\"},\"radialaxis\":{\"gridcolor\":\"white\",\"linecolor\":\"white\",\"ticks\":\"\"}},\"ternary\":{\"bgcolor\":\"#E5ECF6\",\"aaxis\":{\"gridcolor\":\"white\",\"linecolor\":\"white\",\"ticks\":\"\"},\"baxis\":{\"gridcolor\":\"white\",\"linecolor\":\"white\",\"ticks\":\"\"},\"caxis\":{\"gridcolor\":\"white\",\"linecolor\":\"white\",\"ticks\":\"\"}},\"coloraxis\":{\"colorbar\":{\"outlinewidth\":0,\"ticks\":\"\"}},\"colorscale\":{\"sequential\":[[0.0,\"#0d0887\"],[0.1111111111111111,\"#46039f\"],[0.2222222222222222,\"#7201a8\"],[0.3333333333333333,\"#9c179e\"],[0.4444444444444444,\"#bd3786\"],[0.5555555555555556,\"#d8576b\"],[0.6666666666666666,\"#ed7953\"],[0.7777777777777778,\"#fb9f3a\"],[0.8888888888888888,\"#fdca26\"],[1.0,\"#f0f921\"]],\"sequentialminus\":[[0.0,\"#0d0887\"],[0.1111111111111111,\"#46039f\"],[0.2222222222222222,\"#7201a8\"],[0.3333333333333333,\"#9c179e\"],[0.4444444444444444,\"#bd3786\"],[0.5555555555555556,\"#d8576b\"],[0.6666666666666666,\"#ed7953\"],[0.7777777777777778,\"#fb9f3a\"],[0.8888888888888888,\"#fdca26\"],[1.0,\"#f0f921\"]],\"diverging\":[[0,\"#8e0152\"],[0.1,\"#c51b7d\"],[0.2,\"#de77ae\"],[0.3,\"#f1b6da\"],[0.4,\"#fde0ef\"],[0.5,\"#f7f7f7\"],[0.6,\"#e6f5d0\"],[0.7,\"#b8e186\"],[0.8,\"#7fbc41\"],[0.9,\"#4d9221\"],[1,\"#276419\"]]},\"xaxis\":{\"gridcolor\":\"white\",\"linecolor\":\"white\",\"ticks\":\"\",\"title\":{\"standoff\":15},\"zerolinecolor\":\"white\",\"automargin\":true,\"zerolinewidth\":2},\"yaxis\":{\"gridcolor\":\"white\",\"linecolor\":\"white\",\"ticks\":\"\",\"title\":{\"standoff\":15},\"zerolinecolor\":\"white\",\"automargin\":true,\"zerolinewidth\":2},\"scene\":{\"xaxis\":{\"backgroundcolor\":\"#E5ECF6\",\"gridcolor\":\"white\",\"linecolor\":\"white\",\"showbackground\":true,\"ticks\":\"\",\"zerolinecolor\":\"white\",\"gridwidth\":2},\"yaxis\":{\"backgroundcolor\":\"#E5ECF6\",\"gridcolor\":\"white\",\"linecolor\":\"white\",\"showbackground\":true,\"ticks\":\"\",\"zerolinecolor\":\"white\",\"gridwidth\":2},\"zaxis\":{\"backgroundcolor\":\"#E5ECF6\",\"gridcolor\":\"white\",\"linecolor\":\"white\",\"showbackground\":true,\"ticks\":\"\",\"zerolinecolor\":\"white\",\"gridwidth\":2}},\"shapedefaults\":{\"line\":{\"color\":\"#2a3f5f\"}},\"annotationdefaults\":{\"arrowcolor\":\"#2a3f5f\",\"arrowhead\":0,\"arrowwidth\":1},\"geo\":{\"bgcolor\":\"white\",\"landcolor\":\"#E5ECF6\",\"subunitcolor\":\"white\",\"showland\":true,\"showlakes\":true,\"lakecolor\":\"white\"},\"title\":{\"x\":0.05},\"mapbox\":{\"style\":\"light\"}}},\"xaxis\":{\"anchor\":\"y\",\"domain\":[0.0,1.0],\"title\":{\"text\":\"Value\"},\"showgrid\":false},\"yaxis\":{\"anchor\":\"x\",\"domain\":[0.0,1.0],\"title\":{\"text\":\"y\"},\"showgrid\":false,\"zeroline\":true,\"zerolinecolor\":\"black\",\"zerolinewidth\":3,\"showticklabels\":false},\"legend\":{\"title\":{\"text\":\"label\"},\"tracegroupgap\":0},\"margin\":{\"t\":60},\"height\":200,\"plot_bgcolor\":\"white\"},                        {\"responsive\": true}                    ).then(function(){\n",
       "                            \n",
       "var gd = document.getElementById('27db99ca-6506-458d-b197-92e9caee11e6');\n",
       "var x = new MutationObserver(function (mutations, observer) {{\n",
       "        var display = window.getComputedStyle(gd).display;\n",
       "        if (!display || display === 'none') {{\n",
       "            console.log([gd, 'removed!']);\n",
       "            Plotly.purge(gd);\n",
       "            observer.disconnect();\n",
       "        }}\n",
       "}});\n",
       "\n",
       "// Listen for the removal of the full notebook cells\n",
       "var notebookContainer = gd.closest('#notebook-container');\n",
       "if (notebookContainer) {{\n",
       "    x.observe(notebookContainer, {childList: true});\n",
       "}}\n",
       "\n",
       "// Listen for the clearing of the current output cell\n",
       "var outputEl = gd.closest('.output');\n",
       "if (outputEl) {{\n",
       "    x.observe(outputEl, {childList: true});\n",
       "}}\n",
       "\n",
       "                        })                };                });            </script>        </div>"
      ]
     },
     "metadata": {},
     "output_type": "display_data"
    }
   ],
   "source": [
    "# Visualize the projections\n",
    "\n",
    "from lmdoctor import plot_utils, detection_utils\n",
    "proj_pairs = detection_utils.act_pairs_to_projs(doc.train_acts, doc.direction_info, len(doc.statement_pairs['train']))\n",
    "\n",
    "layer = 15\n",
    "projs_true = proj_pairs[0, :, layer]\n",
    "projs_lie = proj_pairs[1, :, layer]\n",
    "plot_utils.plot_projs_on_numberline(projs_true, projs_lie)"
   ]
  },
  {
   "cell_type": "code",
   "execution_count": 77,
   "id": "5d44b91e-8436-42f8-82ec-d8c911255bd0",
   "metadata": {},
   "outputs": [
    {
     "data": {
      "application/vnd.plotly.v1+json": {
       "config": {
        "plotlyServerURL": "https://plot.ly"
       },
       "data": [
        {
         "coloraxis": "coloraxis",
         "hovertemplate": "Token: %{x}<br>y: %{y}<br>color: %{z}<extra></extra>",
         "name": "0",
         "type": "heatmap",
         "xaxis": "x",
         "yaxis": "y",
         "z": [
          [
           0.0280914306640625,
           0.0396728515625,
           0.0169677734375,
           0.016510009765625,
           0.00041866302490234375,
           0.0246429443359375,
           0.003993988037109375,
           0.0211639404296875,
           0.01434326171875,
           0.01534271240234375,
           0.0246429443359375,
           0.02813720703125,
           0.01611328125,
           0.022796630859375,
           0.0287322998046875,
           0.060333251953125,
           0.0239410400390625,
           0.017852783203125,
           0.02581787109375,
           0.0149078369140625,
           0.017852783203125,
           0.020751953125,
           0.01666259765625,
           0.020751953125,
           0.0227813720703125,
           0.01593017578125,
           0.0224456787109375,
           0.021514892578125,
           0.021942138671875,
           0.0072479248046875,
           0.022796630859375,
           0.014862060546875,
           0.0253143310546875,
           0.0269927978515625,
           0.0154266357421875,
           0.007415771484375,
           0.01328277587890625,
           0.0067291259765625,
           0.00823211669921875,
           0.00860595703125,
           0.0025787353515625,
           0.0126190185546875,
           -0.01023101806640625,
           0.01177978515625,
           0.006069183349609375,
           0.01065826416015625,
           0.017333984375,
           0.00795745849609375,
           0.01123809814453125,
           -0.005107879638671875
          ],
          [
           -20.359375,
           -0.07080078125,
           0.0130157470703125,
           0.00699615478515625,
           -0.0096435546875,
           0.019866943359375,
           0.0053558349609375,
           0.0129547119140625,
           -0.01739501953125,
           0.005054473876953125,
           0.0165863037109375,
           0.0421142578125,
           0.0199432373046875,
           0.005649566650390625,
           0.0111846923828125,
           -10.265625,
           0.005939483642578125,
           -0.0022068023681640625,
           0.03643798828125,
           0.008087158203125,
           0.0303955078125,
           0.004688262939453125,
           0.00891876220703125,
           0.035675048828125,
           0.0004718303680419922,
           0.01416778564453125,
           0.01290130615234375,
           0.0099639892578125,
           0.0199432373046875,
           0.0343017578125,
           0.02996826171875,
           -0.0044403076171875,
           0.0164031982421875,
           0.033294677734375,
           0.010284423828125,
           0.00411224365234375,
           0.0222320556640625,
           0.003437042236328125,
           -0.0223236083984375,
           0.00470733642578125,
           -0.006801605224609375,
           0.0277252197265625,
           0.0177154541015625,
           0.0113067626953125,
           -0.002986907958984375,
           0.01971435546875,
           0.0241546630859375,
           0.0042724609375,
           0.020904541015625,
           -0.0174560546875
          ],
          [
           -12.109375,
           -0.0760498046875,
           -0.01007843017578125,
           -0.00286102294921875,
           -0.046539306640625,
           -0.0024662017822265625,
           -0.009063720703125,
           -0.0001399517059326172,
           -0.056640625,
           -0.0240325927734375,
           -0.0006260871887207031,
           0.01110076904296875,
           -0.0643310546875,
           -0.052764892578125,
           -0.07318115234375,
           -6.9453125,
           -0.037200927734375,
           -0.02899169921875,
           0.0181884765625,
           0.0008096694946289062,
           0.0157470703125,
           -0.00821685791015625,
           0.0021839141845703125,
           0.05517578125,
           -0.023651123046875,
           0.0171356201171875,
           0.0032596588134765625,
           -0.01959228515625,
           -0.00231170654296875,
           -0.0036468505859375,
           -0.00890350341796875,
           -0.03143310546875,
           -0.0002694129943847656,
           0.03668212890625,
           -0.004299163818359375,
           -0.00066375732421875,
           -0.0272064208984375,
           -0.0794677734375,
           -0.0875244140625,
           -0.06494140625,
           -0.1177978515625,
           -0.027618408203125,
           -0.0031337738037109375,
           0.01873779296875,
           -0.041473388671875,
           -0.01427459716796875,
           0.00997161865234375,
           -0.046722412109375,
           -0.048187255859375,
           -0.0911865234375
          ],
          [
           -17.53125,
           -0.207275390625,
           -0.0136260986328125,
           0.00693511962890625,
           -0.0814208984375,
           -0.048095703125,
           -0.1492919921875,
           -0.1090087890625,
           -0.0160369873046875,
           -0.007579803466796875,
           0.0347900390625,
           0.04071044921875,
           -0.0771484375,
           -0.04241943359375,
           -0.05743408203125,
           -11.1875,
           -0.00572967529296875,
           -0.03826904296875,
           0.019287109375,
           -0.02728271484375,
           0.006938934326171875,
           -0.035614013671875,
           1.0132789611816406e-06,
           0.041168212890625,
           -0.002727508544921875,
           -0.00829315185546875,
           -0.004497528076171875,
           -0.005512237548828125,
           -0.013763427734375,
           -0.0185699462890625,
           -0.005046844482421875,
           -0.0406494140625,
           -0.0204315185546875,
           -0.011749267578125,
           -0.027740478515625,
           0.0053558349609375,
           -0.062744140625,
           -0.09423828125,
           -0.1075439453125,
           -0.111328125,
           -0.12548828125,
           -0.060211181640625,
           -0.1175537109375,
           -0.0654296875,
           -0.01369476318359375,
           -0.0106201171875,
           0.00738525390625,
           -0.031005859375,
           -0.006305694580078125,
           -0.10687255859375
          ],
          [
           -24.421875,
           -0.392333984375,
           -0.057037353515625,
           -0.0665283203125,
           -0.061614990234375,
           -0.038421630859375,
           -0.195068359375,
           -0.1385498046875,
           -0.06365966796875,
           -0.01409149169921875,
           0.0197906494140625,
           0.00818634033203125,
           -0.091064453125,
           -0.06585693359375,
           -0.0787353515625,
           -14.765625,
           0.042633056640625,
           0.0081634521484375,
           0.0250091552734375,
           -0.0421142578125,
           0.0206451416015625,
           -0.08685302734375,
           -0.03521728515625,
           0.007293701171875,
           -0.016021728515625,
           0.003124237060546875,
           -0.0032482147216796875,
           -0.014923095703125,
           -0.018646240234375,
           0.006927490234375,
           -0.0238037109375,
           -0.09466552734375,
           -0.06561279296875,
           0.00400543212890625,
           -0.04840087890625,
           -0.017364501953125,
           -0.08319091796875,
           -0.1041259765625,
           -0.1219482421875,
           -0.173583984375,
           -0.184814453125,
           -0.09832763671875,
           -0.198974609375,
           -0.1295166015625,
           -0.087158203125,
           -0.04058837890625,
           -0.053985595703125,
           -0.0858154296875,
           -0.06060791015625,
           -0.131103515625
          ],
          [
           -1.5927734375,
           -0.0732421875,
           0.0257110595703125,
           -0.050323486328125,
           -0.07568359375,
           -0.049652099609375,
           -0.161376953125,
           -0.1356201171875,
           -0.09722900390625,
           -0.0855712890625,
           -0.07489013671875,
           -0.0582275390625,
           -0.05755615234375,
           -0.0322265625,
           -0.07965087890625,
           -0.83056640625,
           0.03240966796875,
           0.0280914306640625,
           0.0293426513671875,
           -0.0188140869140625,
           0.0280609130859375,
           -0.09381103515625,
           -0.039764404296875,
           -0.027984619140625,
           -0.0299072265625,
           0.01061248779296875,
           0.0085296630859375,
           -0.03326416015625,
           -0.0183563232421875,
           -0.148193359375,
           -0.052215576171875,
           -0.08837890625,
           -0.08203125,
           -0.0272979736328125,
           -0.0489501953125,
           0.0171356201171875,
           -0.12310791015625,
           -0.185546875,
           -0.167236328125,
           -0.144287109375,
           -0.1705322265625,
           -0.1068115234375,
           -0.239013671875,
           -0.177978515625,
           -0.21875,
           -0.162109375,
           -0.1937255859375,
           -0.1727294921875,
           -0.17333984375,
           -0.262451171875
          ],
          [
           5.01953125,
           0.09539794921875,
           0.05120849609375,
           -0.00905609130859375,
           -0.1441650390625,
           -0.1156005859375,
           -0.2281494140625,
           -0.241943359375,
           -0.1712646484375,
           -0.1707763671875,
           -0.1851806640625,
           -0.09832763671875,
           -0.11083984375,
           -0.019866943359375,
           -0.15380859375,
           3.314453125,
           -0.045654296875,
           -0.017425537109375,
           0.03009033203125,
           0.0205535888671875,
           0.048583984375,
           -0.0703125,
           -0.032623291015625,
           -0.00662994384765625,
           -0.044281005859375,
           0.0005035400390625,
           0.0007119178771972656,
           0.027313232421875,
           -0.036529541015625,
           -0.11517333984375,
           -0.04266357421875,
           -0.048736572265625,
           -0.01505279541015625,
           0.0069580078125,
           -0.018096923828125,
           0.062103271484375,
           -0.06329345703125,
           -0.10540771484375,
           -0.120849609375,
           -0.156494140625,
           -0.1553955078125,
           -0.114990234375,
           -0.28662109375,
           -0.26904296875,
           -0.31005859375,
           -0.284423828125,
           -0.335693359375,
           -0.1817626953125,
           -0.139404296875,
           -0.320068359375
          ],
          [
           -1.5458984375,
           -0.10980224609375,
           -0.07183837890625,
           -0.1083984375,
           -0.1541748046875,
           -0.1529541015625,
           -0.24072265625,
           -0.29345703125,
           -0.28955078125,
           -0.284423828125,
           -0.35498046875,
           -0.2318115234375,
           -0.2493896484375,
           -0.1319580078125,
           -0.274658203125,
           -0.994140625,
           -0.1907958984375,
           -0.1729736328125,
           -0.0491943359375,
           -0.0003161430358886719,
           -0.0228424072265625,
           -0.07568359375,
           -0.052490234375,
           -0.060577392578125,
           -0.07598876953125,
           0.029449462890625,
           -0.0083770751953125,
           0.0067138671875,
           -0.047119140625,
           -0.11761474609375,
           -0.06365966796875,
           -0.07183837890625,
           -0.060943603515625,
           0.025482177734375,
           -0.13720703125,
           -0.0281982421875,
           -0.11737060546875,
           -0.231201171875,
           -0.2476806640625,
           -0.286376953125,
           -0.296142578125,
           -0.236572265625,
           -0.4462890625,
           -0.45166015625,
           -0.463623046875,
           -0.5087890625,
           -0.62353515625,
           -0.343994140625,
           -0.291015625,
           -0.59912109375
          ],
          [
           -5.48828125,
           -0.31982421875,
           -0.0894775390625,
           -0.170166015625,
           -0.1563720703125,
           -0.1746826171875,
           -0.3115234375,
           -0.31005859375,
           -0.21923828125,
           -0.2744140625,
           -0.28564453125,
           -0.205322265625,
           -0.241455078125,
           -0.054779052734375,
           -0.2467041015625,
           -3.10546875,
           -0.10760498046875,
           -0.1107177734375,
           -0.0933837890625,
           -0.10595703125,
           -0.12451171875,
           -0.047515869140625,
           0.01300811767578125,
           0.003536224365234375,
           -0.051300048828125,
           -0.0211029052734375,
           -0.059844970703125,
           -0.002681732177734375,
           -0.00728607177734375,
           -0.1365966796875,
           -0.1434326171875,
           -0.038116455078125,
           -0.1168212890625,
           -0.08209228515625,
           -0.1131591796875,
           -0.126708984375,
           -0.26904296875,
           -0.30517578125,
           -0.29345703125,
           -0.264892578125,
           -0.3330078125,
           -0.287841796875,
           -0.426025390625,
           -0.445068359375,
           -0.470458984375,
           -0.491455078125,
           -0.54345703125,
           -0.39404296875,
           -0.301025390625,
           -0.59423828125
          ],
          [
           0.2174072265625,
           -0.085205078125,
           0.06634521484375,
           -0.04278564453125,
           -0.1065673828125,
           -0.16455078125,
           -0.317138671875,
           -0.28662109375,
           -0.044891357421875,
           -0.037445068359375,
           -0.14990234375,
           -0.060882568359375,
           -0.1414794921875,
           0.111328125,
           -0.1417236328125,
           0.88232421875,
           0.0850830078125,
           0.03289794921875,
           -0.05255126953125,
           -0.0743408203125,
           -0.05072021484375,
           0.01322174072265625,
           0.07684326171875,
           0.05157470703125,
           -0.0015497207641601562,
           0.0290679931640625,
           -0.0243377685546875,
           0.004634857177734375,
           0.0135345458984375,
           -0.146484375,
           -0.181884765625,
           0.04290771484375,
           -0.100341796875,
           -0.0270538330078125,
           0.046478271484375,
           -0.09539794921875,
           -0.326904296875,
           -0.25048828125,
           -0.229248046875,
           -0.2154541015625,
           -0.236328125,
           -0.23876953125,
           -0.3701171875,
           -0.388916015625,
           -0.28759765625,
           -0.3271484375,
           -0.446533203125,
           -0.26220703125,
           -0.1875,
           -0.662109375
          ],
          [
           4.17578125,
           0.06768798828125,
           0.007293701171875,
           -0.044708251953125,
           -0.1739501953125,
           -0.232421875,
           -0.35595703125,
           -0.338623046875,
           -0.05108642578125,
           -0.11761474609375,
           -0.1395263671875,
           -0.1781005859375,
           -0.26904296875,
           0.027679443359375,
           -0.17236328125,
           3.619140625,
           -0.05596923828125,
           -0.1295166015625,
           -0.1849365234375,
           -0.0999755859375,
           -0.1146240234375,
           -0.04669189453125,
           0.0012578964233398438,
           -0.0254364013671875,
           -0.1011962890625,
           0.019195556640625,
           -0.044158935546875,
           -0.03985595703125,
           -0.06488037109375,
           -0.2491455078125,
           -0.220703125,
           0.0096435546875,
           -0.132568359375,
           -0.06988525390625,
           -0.048248291015625,
           -0.1734619140625,
           -0.385986328125,
           -0.387939453125,
           -0.328857421875,
           -0.39501953125,
           -0.39208984375,
           -0.37841796875,
           -0.4833984375,
           -0.529296875,
           -0.47607421875,
           -0.50048828125,
           -0.64892578125,
           -0.39599609375,
           -0.325439453125,
           -0.93310546875
          ],
          [
           12.7578125,
           0.456787109375,
           0.05657958984375,
           0.06512451171875,
           -0.1107177734375,
           -0.1851806640625,
           -0.31494140625,
           -0.316162109375,
           0.05908203125,
           -0.059661865234375,
           -0.0626220703125,
           -0.09002685546875,
           -0.1839599609375,
           0.06817626953125,
           -0.059783935546875,
           8.96875,
           -0.107177734375,
           -0.1732177734375,
           -0.248779296875,
           -0.0721435546875,
           -0.156982421875,
           -0.108642578125,
           -0.06903076171875,
           -0.09173583984375,
           -0.160888671875,
           -0.045135498046875,
           -0.06939697265625,
           -0.08746337890625,
           -0.134765625,
           -0.303466796875,
           -0.1751708984375,
           0.05816650390625,
           -0.076904296875,
           -0.079345703125,
           -0.06536865234375,
           -0.1514892578125,
           -0.416259765625,
           -0.481201171875,
           -0.51220703125,
           -0.375732421875,
           -0.202880859375,
           -0.272216796875,
           -0.36279296875,
           -0.46630859375,
           -0.384033203125,
           -0.419677734375,
           -0.465087890625,
           -0.474853515625,
           -0.359375,
           -0.7880859375
          ],
          [
           -3.978515625,
           -0.2454833984375,
           -0.1275634765625,
           -0.12286376953125,
           -0.205322265625,
           -0.25634765625,
           -0.4375,
           -0.3779296875,
           -0.23828125,
           -0.378662109375,
           -0.34912109375,
           -0.3212890625,
           -0.34423828125,
           -0.2744140625,
           -0.36376953125,
           -1.54296875,
           -0.32958984375,
           -0.406005859375,
           -0.400634765625,
           -0.1064453125,
           -0.1221923828125,
           -0.0858154296875,
           -0.11041259765625,
           -0.11688232421875,
           -0.18701171875,
           -0.095458984375,
           -0.1207275390625,
           -0.1136474609375,
           -0.17724609375,
           -0.27294921875,
           -0.12890625,
           -0.0760498046875,
           -0.065185546875,
           -0.10565185546875,
           -0.11444091796875,
           -0.1378173828125,
           -0.49951171875,
           -0.69873046875,
           -0.73291015625,
           -0.6845703125,
           -0.74169921875,
           -0.6005859375,
           -0.625,
           -0.65673828125,
           -0.76025390625,
           -0.69189453125,
           -0.6787109375,
           -0.69677734375,
           -0.72998046875,
           -1.1181640625
          ],
          [
           -15.953125,
           -0.82373046875,
           -0.1383056640625,
           -0.34326171875,
           -0.2423095703125,
           -0.290283203125,
           -0.42578125,
           -0.40625,
           -0.322998046875,
           -0.393798828125,
           -0.384033203125,
           -0.276123046875,
           -0.283203125,
           -0.2197265625,
           -0.3056640625,
           -8.7109375,
           -0.267578125,
           -0.38818359375,
           -0.315673828125,
           -0.1719970703125,
           -0.2135009765625,
           -0.176513671875,
           -0.1116943359375,
           -0.1593017578125,
           -0.11761474609375,
           -0.06524658203125,
           -0.1593017578125,
           -0.2254638671875,
           -0.2305908203125,
           -0.447509765625,
           -0.2049560546875,
           -0.174560546875,
           -0.192138671875,
           -0.135009765625,
           -0.12335205078125,
           -0.203369140625,
           -0.6572265625,
           -0.8134765625,
           -0.689453125,
           -0.68603515625,
           -0.828125,
           -0.62744140625,
           -0.56689453125,
           -0.59228515625,
           -0.79638671875,
           -0.7060546875,
           -0.5927734375,
           -0.74853515625,
           -0.99169921875,
           -1.2294921875
          ],
          [
           -12.234375,
           -0.728515625,
           -0.202392578125,
           -0.37646484375,
           -0.252197265625,
           -0.370361328125,
           -0.435546875,
           -0.513671875,
           -0.306884765625,
           -0.5126953125,
           -0.51806640625,
           -0.47216796875,
           -0.477783203125,
           -0.375,
           -0.529296875,
           -7.0625,
           -0.376220703125,
           -0.4501953125,
           -0.348388671875,
           -0.1773681640625,
           -0.28125,
           -0.2215576171875,
           -0.189697265625,
           -0.2451171875,
           -0.2548828125,
           -0.180419921875,
           -0.210205078125,
           -0.25390625,
           -0.446533203125,
           -0.46923828125,
           -0.347412109375,
           -0.2213134765625,
           -0.2919921875,
           -0.253173828125,
           -0.26220703125,
           -0.4208984375,
           -0.84228515625,
           -1.1318359375,
           -0.86669921875,
           -0.93603515625,
           -1.318359375,
           -1.0732421875,
           -0.7607421875,
           -0.689453125,
           -0.9130859375,
           -0.93994140625,
           -0.79541015625,
           -1.0146484375,
           -1.4873046875,
           -1.6416015625
          ],
          [
           -10.6171875,
           -0.68310546875,
           -0.174560546875,
           -0.357666015625,
           -0.1859130859375,
           -0.29541015625,
           -0.2237548828125,
           -0.322265625,
           -0.1495361328125,
           -0.36376953125,
           -0.4248046875,
           -0.466796875,
           -0.436767578125,
           -0.385009765625,
           -0.5888671875,
           -6.00390625,
           -0.441650390625,
           -0.6259765625,
           -0.380126953125,
           -0.1939697265625,
           -0.253173828125,
           -0.041961669921875,
           -0.01192474365234375,
           -0.159423828125,
           -0.1309814453125,
           -0.012176513671875,
           -0.09417724609375,
           -0.1009521484375,
           -0.2020263671875,
           -0.347900390625,
           -0.1375732421875,
           -0.12420654296875,
           -0.2115478515625,
           -0.11114501953125,
           -0.1551513671875,
           -0.2215576171875,
           -1.0673828125,
           -1.390625,
           -1.0234375,
           -1.3583984375,
           -2.044921875,
           -1.5068359375,
           -0.9248046875,
           -0.9853515625,
           -0.85546875,
           -1.0185546875,
           -0.87109375,
           -1.181640625,
           -1.8720703125,
           -2.3671875
          ],
          [
           -0.291259765625,
           -0.13330078125,
           -0.057098388671875,
           -0.0545654296875,
           -0.1695556640625,
           -0.2314453125,
           -0.209228515625,
           -0.289794921875,
           -0.1572265625,
           -0.22900390625,
           -0.428955078125,
           -0.372314453125,
           -0.3623046875,
           -0.1915283203125,
           -0.6875,
           0.85595703125,
           -0.325439453125,
           -0.459228515625,
           -0.2435302734375,
           -0.1959228515625,
           -0.26171875,
           -0.061553955078125,
           0.0833740234375,
           -0.0618896484375,
           -0.12310791015625,
           0.083251953125,
           -0.0323486328125,
           -0.07257080078125,
           -0.108154296875,
           -0.1136474609375,
           0.021087646484375,
           0.0806884765625,
           -0.034332275390625,
           0.07623291015625,
           -0.10504150390625,
           -0.2333984375,
           -1.4033203125,
           -1.7177734375,
           -1.1220703125,
           -2.01953125,
           -2.91015625,
           -1.9638671875,
           -1.216796875,
           -1.2490234375,
           -0.9873046875,
           -1.0625,
           -1.052734375,
           -1.40234375,
           -2.419921875,
           -3.24609375
          ],
          [
           -2.478515625,
           -0.2359619140625,
           -0.189697265625,
           -0.15380859375,
           -0.25830078125,
           -0.3232421875,
           -0.36572265625,
           -0.30517578125,
           -0.045074462890625,
           -0.1387939453125,
           -0.34814453125,
           -0.40087890625,
           -0.43994140625,
           -0.2308349609375,
           -0.67529296875,
           -0.52783203125,
           -0.31494140625,
           -0.533203125,
           -0.2391357421875,
           -0.282958984375,
           -0.41796875,
           -0.31884765625,
           -0.009765625,
           -0.2401123046875,
           -0.2288818359375,
           -0.04412841796875,
           -0.1358642578125,
           -0.15087890625,
           -0.1419677734375,
           -0.227294921875,
           -0.07489013671875,
           -0.040008544921875,
           -0.08209228515625,
           -0.1341552734375,
           -0.1363525390625,
           -0.29638671875,
           -1.505859375,
           -1.9111328125,
           -1.2255859375,
           -2.375,
           -3.359375,
           -2.12890625,
           -1.376953125,
           -1.138671875,
           -1.0341796875,
           -1.240234375,
           -1.2177734375,
           -1.416015625,
           -2.7578125,
           -4.046875
          ],
          [
           -1.658203125,
           -0.144287109375,
           -0.2027587890625,
           -0.05657958984375,
           -0.2396240234375,
           -0.2783203125,
           -0.4326171875,
           -0.289306640625,
           0.0172119140625,
           -0.06488037109375,
           -0.1361083984375,
           -0.156982421875,
           -0.417724609375,
           -0.19482421875,
           -0.505859375,
           -0.469970703125,
           -0.253662109375,
           -0.4638671875,
           -0.09405517578125,
           -0.35693359375,
           -0.326904296875,
           0.042510986328125,
           -0.0267333984375,
           -0.134033203125,
           -0.1973876953125,
           -0.196044921875,
           -0.10382080078125,
           -0.1851806640625,
           -0.192138671875,
           -0.43115234375,
           -0.40771484375,
           -0.0841064453125,
           -0.356201171875,
           -0.404052734375,
           -0.112548828125,
           -0.306396484375,
           -1.5205078125,
           -1.84375,
           -1.1396484375,
           -2.26171875,
           -3.130859375,
           -2.0625,
           -1.5859375,
           -1.3720703125,
           -1.080078125,
           -1.2109375,
           -1.150390625,
           -1.546875,
           -2.76953125,
           -4.2890625
          ],
          [
           -5.70703125,
           -0.927734375,
           -0.3798828125,
           -1.529296875,
           -0.303955078125,
           -0.34716796875,
           -0.61181640625,
           -0.5546875,
           -0.1732177734375,
           -0.272216796875,
           -0.35009765625,
           -0.355224609375,
           -0.67041015625,
           -0.333984375,
           -0.45751953125,
           -3.59765625,
           -0.297607421875,
           -0.55322265625,
           -0.033477783203125,
           -0.3984375,
           -0.35009765625,
           0.2227783203125,
           0.10711669921875,
           -0.0229339599609375,
           -0.06903076171875,
           -0.343994140625,
           -0.1563720703125,
           -0.189453125,
           -0.314697265625,
           -0.53466796875,
           -0.459228515625,
           -0.281005859375,
           -0.5009765625,
           -0.4404296875,
           -0.058319091796875,
           -0.3515625,
           -1.625,
           -1.875,
           -1.1005859375,
           -2.396484375,
           -3.2109375,
           -1.89453125,
           -1.92578125,
           -1.40625,
           -1.2041015625,
           -1.3935546875,
           -1.1259765625,
           -1.6416015625,
           -3.03125,
           -4.77734375
          ],
          [
           -5.80859375,
           -0.92724609375,
           -0.339599609375,
           -1.380859375,
           -0.32763671875,
           -0.2069091796875,
           -0.609375,
           -0.57080078125,
           -0.383056640625,
           -0.38037109375,
           -0.6845703125,
           -0.53271484375,
           -0.8623046875,
           -0.326904296875,
           -0.7763671875,
           -3.548828125,
           -0.36767578125,
           -0.80712890625,
           -0.051971435546875,
           -0.595703125,
           -0.33837890625,
           0.346923828125,
           0.19873046875,
           -0.08544921875,
           0.339111328125,
           -0.28125,
           -0.08966064453125,
           -0.2208251953125,
           -0.4404296875,
           -0.59765625,
           -0.37841796875,
           -0.40185546875,
           -0.5224609375,
           -0.317626953125,
           0.0235137939453125,
           -0.451416015625,
           -1.767578125,
           -1.9326171875,
           -1.08203125,
           -2.673828125,
           -3.33984375,
           -1.8349609375,
           -2.2734375,
           -1.8349609375,
           -1.470703125,
           -1.7626953125,
           -1.4091796875,
           -1.7607421875,
           -3.208984375,
           -5.3046875
          ],
          [
           -7.19921875,
           -1.2314453125,
           -0.32421875,
           -1.931640625,
           -0.280517578125,
           -0.21875,
           -0.361083984375,
           -0.1533203125,
           -0.472412109375,
           -0.52880859375,
           -0.5224609375,
           -0.4423828125,
           -0.5048828125,
           -0.0897216796875,
           -0.482421875,
           -4.0703125,
           -0.2420654296875,
           -0.681640625,
           0.0022335052490234375,
           -0.58984375,
           -0.3310546875,
           0.2054443359375,
           0.322021484375,
           -0.00030493736267089844,
           0.6328125,
           -0.1622314453125,
           -0.09454345703125,
           -0.36279296875,
           -0.375732421875,
           -0.342041015625,
           -0.317626953125,
           -0.383544921875,
           -0.21826171875,
           -0.2406005859375,
           0.00901031494140625,
           -0.62158203125,
           -1.7236328125,
           -1.8642578125,
           -0.92578125,
           -2.35546875,
           -2.9296875,
           -1.2451171875,
           -1.935546875,
           -1.3095703125,
           -1.1611328125,
           -1.63671875,
           -1.068359375,
           -1.306640625,
           -2.98828125,
           -5.234375
          ],
          [
           -9.7109375,
           -1.720703125,
           -0.406494140625,
           -2.68359375,
           -0.54736328125,
           -0.57080078125,
           -0.5322265625,
           -0.5517578125,
           -0.505859375,
           -0.5087890625,
           -0.7265625,
           -0.68505859375,
           -0.6962890625,
           -0.257568359375,
           -0.607421875,
           -5.421875,
           -0.28125,
           -0.6103515625,
           -0.0028858184814453125,
           -0.66162109375,
           -0.431884765625,
           0.025543212890625,
           0.29931640625,
           -0.03839111328125,
           0.6015625,
           -0.27001953125,
           -0.194580078125,
           -0.38623046875,
           -0.19970703125,
           -0.46826171875,
           -0.5302734375,
           -0.65966796875,
           -0.42333984375,
           -0.46728515625,
           0.0797119140625,
           -0.73583984375,
           -1.66015625,
           -1.6923828125,
           -0.82861328125,
           -2.28125,
           -2.78515625,
           -1.2333984375,
           -1.734375,
           -1.275390625,
           -1.1044921875,
           -1.634765625,
           -1.0126953125,
           -1.24609375,
           -2.931640625,
           -5.1640625
          ],
          [
           -14.4921875,
           -3.1171875,
           -0.720703125,
           -4.890625,
           -0.75341796875,
           -0.95361328125,
           -0.11810302734375,
           -0.401611328125,
           0.48486328125,
           0.11572265625,
           -0.0494384765625,
           -0.453369140625,
           -0.359375,
           0.086669921875,
           0.1690673828125,
           -8.2734375,
           -0.10272216796875,
           -0.29931640625,
           0.2049560546875,
           -0.7138671875,
           -0.458984375,
           -0.02978515625,
           0.2783203125,
           0.0576171875,
           0.42333984375,
           -0.143310546875,
           -0.322021484375,
           -0.295166015625,
           -0.2490234375,
           -0.43359375,
           -0.7490234375,
           -0.5322265625,
           -0.572265625,
           -0.79443359375,
           -0.252197265625,
           -0.8095703125,
           -1.3896484375,
           -0.8994140625,
           -0.357666015625,
           -0.91845703125,
           -1.49609375,
           -0.047637939453125,
           -0.472412109375,
           -0.2763671875,
           -0.19970703125,
           -0.59619140625,
           -0.244873046875,
           -0.62158203125,
           -1.908203125,
           -2.88671875
          ],
          [
           -15.9375,
           -3.205078125,
           -0.73291015625,
           -5.01171875,
           -0.7734375,
           -1.01171875,
           -0.338623046875,
           -0.315673828125,
           0.47607421875,
           0.28759765625,
           0.1058349609375,
           -0.325439453125,
           -0.1083984375,
           0.361083984375,
           0.297607421875,
           -9.7109375,
           0.259033203125,
           -0.1026611328125,
           0.39208984375,
           -0.67236328125,
           -0.35400390625,
           0.040313720703125,
           0.0977783203125,
           -0.0159454345703125,
           0.28076171875,
           -0.255859375,
           -0.54638671875,
           -0.425048828125,
           -0.262451171875,
           -0.513671875,
           -0.60888671875,
           -0.40283203125,
           -0.5654296875,
           -0.69384765625,
           -0.09014892578125,
           -0.88623046875,
           -1.318359375,
           -0.73876953125,
           -0.5087890625,
           -0.81787109375,
           -1.2861328125,
           0.2437744140625,
           -0.615234375,
           -0.23779296875,
           -0.300048828125,
           -0.7392578125,
           -0.429443359375,
           -0.515625,
           -1.8212890625,
           -2.8515625
          ],
          [
           -13.8828125,
           -2.990234375,
           -0.67431640625,
           -4.71875,
           -0.9853515625,
           -1.330078125,
           -0.385986328125,
           -0.75244140625,
           0.47705078125,
           0.308349609375,
           -0.359375,
           -0.8056640625,
           -0.31201171875,
           0.39501953125,
           0.15625,
           -9.0625,
           0.366455078125,
           -0.46923828125,
           -0.00910186767578125,
           -0.9560546875,
           -0.32177734375,
           -0.1693115234375,
           -0.1964111328125,
           -0.354248046875,
           0.197509765625,
           -0.403564453125,
           -0.50537109375,
           -0.5068359375,
           -0.63671875,
           -0.35693359375,
           -0.460693359375,
           -0.48046875,
           -0.325927734375,
           -0.65869140625,
           -0.2415771484375,
           -0.85302734375,
           -1.298828125,
           -0.88134765625,
           -0.65966796875,
           -1.0400390625,
           -1.423828125,
           0.05712890625,
           -0.77685546875,
           -0.56298828125,
           -0.343994140625,
           -0.81103515625,
           -0.5634765625,
           -0.7705078125,
           -1.73828125,
           -2.90625
          ],
          [
           -12.8515625,
           -3.171875,
           -0.74072265625,
           -5.05859375,
           -0.8388671875,
           -1.544921875,
           -0.1053466796875,
           -1.05078125,
           0.2705078125,
           0.4638671875,
           -0.5185546875,
           -1.046875,
           -0.477783203125,
           0.50537109375,
           0.19384765625,
           -8.7265625,
           0.49267578125,
           -0.40869140625,
           -0.361083984375,
           -0.9521484375,
           -0.361328125,
           -0.477783203125,
           -0.2054443359375,
           -0.55322265625,
           0.2445068359375,
           -0.3486328125,
           -0.259765625,
           -0.487548828125,
           -0.80126953125,
           -0.658203125,
           -0.9521484375,
           -0.619140625,
           -0.9072265625,
           -1.0751953125,
           -0.361328125,
           -0.95947265625,
           -1.1982421875,
           -0.7890625,
           -0.7373046875,
           -0.99853515625,
           -1.3388671875,
           0.05303955078125,
           -0.490966796875,
           -0.69287109375,
           -0.52001953125,
           -0.8173828125,
           -0.77783203125,
           -1.0966796875,
           -1.7978515625,
           -2.962890625
          ],
          [
           -9.6953125,
           -2.755859375,
           -0.6845703125,
           -4.40234375,
           -1.07421875,
           -1.9130859375,
           -0.3916015625,
           -1.390625,
           0.005458831787109375,
           0.30859375,
           -0.57763671875,
           -1.36328125,
           -0.81201171875,
           0.35791015625,
           -0.173583984375,
           -6.1640625,
           0.1494140625,
           -0.35498046875,
           -0.62841796875,
           -1.2177734375,
           -0.61865234375,
           -0.57080078125,
           -0.646484375,
           -0.99365234375,
           0.1905517578125,
           -0.4794921875,
           -0.2493896484375,
           -0.269775390625,
           -1.2099609375,
           -0.99609375,
           -1.005859375,
           -0.9736328125,
           -1.099609375,
           -1.17578125,
           -0.444091796875,
           -1.1435546875,
           -1.416015625,
           -0.787109375,
           -0.65234375,
           -1.056640625,
           -1.2939453125,
           -0.161376953125,
           -0.58447265625,
           -1.1044921875,
           -0.935546875,
           -0.91015625,
           -0.6376953125,
           -1.2158203125,
           -1.796875,
           -3.080078125
          ],
          [
           -2.869140625,
           -1.509765625,
           -0.478271484375,
           -2.515625,
           -0.86572265625,
           -1.6064453125,
           -0.353271484375,
           -1.15234375,
           0.2445068359375,
           0.54833984375,
           -0.375244140625,
           -0.845703125,
           -0.53466796875,
           0.62451171875,
           -0.236572265625,
           -1.3037109375,
           0.501953125,
           -0.0970458984375,
           0.06134033203125,
           -0.89208984375,
           -0.32080078125,
           -0.265869140625,
           -0.50390625,
           -0.63134765625,
           0.32373046875,
           -0.37255859375,
           -0.396484375,
           -0.1602783203125,
           -1.2060546875,
           -0.405029296875,
           -0.43408203125,
           -0.63525390625,
           -0.63916015625,
           -0.88330078125,
           -0.2032470703125,
           -0.99755859375,
           -0.8994140625,
           -0.6962890625,
           -0.52001953125,
           -1.205078125,
           -1.3759765625,
           0.330078125,
           -0.383056640625,
           -0.81884765625,
           -0.69921875,
           -0.611328125,
           -0.46923828125,
           -0.6015625,
           -1.7900390625,
           -3.236328125
          ],
          [
           -3.83203125,
           -1.6611328125,
           -0.52392578125,
           -2.794921875,
           -0.71533203125,
           -1.6513671875,
           -0.470947265625,
           -1.041015625,
           0.1376953125,
           0.4130859375,
           -0.182861328125,
           -0.755859375,
           -0.580078125,
           0.7919921875,
           -0.157958984375,
           -1.6962890625,
           0.73486328125,
           0.0997314453125,
           0.4462890625,
           -0.83642578125,
           0.06298828125,
           0.0679931640625,
           -0.382568359375,
           -0.1441650390625,
           0.242919921875,
           -0.2890625,
           -0.49267578125,
           -0.39111328125,
           -1.0361328125,
           -0.2381591796875,
           -0.53857421875,
           -0.92333984375,
           -0.83056640625,
           -1.0859375,
           -0.7333984375,
           -1.1064453125,
           -0.77099609375,
           -0.263916015625,
           -0.0782470703125,
           -0.79345703125,
           -1.12109375,
           0.525390625,
           -0.236572265625,
           -0.7724609375,
           -0.638671875,
           -0.65625,
           -0.44140625,
           -0.64599609375,
           -1.9365234375,
           -3.32421875
          ],
          [
           -0.36474609375,
           -1.5341796875,
           -0.79833984375,
           -2.447265625,
           -1.2470703125,
           -2.265625,
           -0.970703125,
           -1.6142578125,
           -0.1539306640625,
           -0.050201416015625,
           -1.0029296875,
           -1.8828125,
           -1.7646484375,
           0.259033203125,
           -0.654296875,
           0.0029850006103515625,
           0.8544921875,
           -0.0014667510986328125,
           0.6767578125,
           -1.1123046875,
           0.046173095703125,
           -0.374267578125,
           -0.99365234375,
           -0.52685546875,
           -0.009918212890625,
           -0.11053466796875,
           -0.6044921875,
           -0.52880859375,
           -1.4013671875,
           -0.10302734375,
           -0.9052734375,
           -1.669921875,
           -1.4248046875,
           -1.4130859375,
           -1.0927734375,
           -1.375,
           -0.5791015625,
           0.150390625,
           0.361083984375,
           -0.9306640625,
           -1.181640625,
           0.2318115234375,
           -0.202880859375,
           -0.880859375,
           -0.8935546875,
           -1.0107421875,
           -0.8466796875,
           -1.25,
           -2.08203125,
           -3.484375
          ],
          [
           -5.921875,
           -3.94921875,
           -4.640625,
           -4.4296875,
           -2.798828125,
           -13.9765625,
           -3.208984375,
           -6.33984375,
           0.441162109375,
           -0.35205078125,
           0.15478515625,
           -6.453125,
           -7.8828125,
           8.7578125,
           2.818359375,
           13.2578125,
           9.703125,
           11.0859375,
           10.40625,
           -6.06640625,
           4.8515625,
           -1.7822265625,
           -8.6484375,
           -4.52734375,
           2.484375,
           3.509765625,
           -4.10546875,
           -4.17578125,
           -7.546875,
           7.63671875,
           -4.4296875,
           -10.34375,
           -7.1796875,
           -8.6953125,
           -5.09765625,
           -4.9765625,
           -3.29296875,
           8.171875,
           8.9453125,
           -3.59765625,
           -5.359375,
           -0.66162109375,
           -3.939453125,
           -4.82421875,
           -6.32421875,
           -7.5078125,
           -0.9990234375,
           -7.484375,
           -22.046875,
           -29.5625
          ]
         ]
        }
       ],
       "layout": {
        "coloraxis": {
         "cmax": 3.2407,
         "cmin": -3.2407,
         "colorscale": [
          [
           0,
           "rgb(165,0,38)"
          ],
          [
           0.1,
           "rgb(215,48,39)"
          ],
          [
           0.2,
           "rgb(244,109,67)"
          ],
          [
           0.3,
           "rgb(253,174,97)"
          ],
          [
           0.4,
           "rgb(254,224,139)"
          ],
          [
           0.5,
           "rgb(255,255,191)"
          ],
          [
           0.6,
           "rgb(217,239,139)"
          ],
          [
           0.7,
           "rgb(166,217,106)"
          ],
          [
           0.8,
           "rgb(102,189,99)"
          ],
          [
           0.9,
           "rgb(26,152,80)"
          ],
          [
           1,
           "rgb(0,104,55)"
          ]
         ]
        },
        "height": 600,
        "margin": {
         "t": 60
        },
        "template": {
         "data": {
          "bar": [
           {
            "error_x": {
             "color": "#2a3f5f"
            },
            "error_y": {
             "color": "#2a3f5f"
            },
            "marker": {
             "line": {
              "color": "#E5ECF6",
              "width": 0.5
             },
             "pattern": {
              "fillmode": "overlay",
              "size": 10,
              "solidity": 0.2
             }
            },
            "type": "bar"
           }
          ],
          "barpolar": [
           {
            "marker": {
             "line": {
              "color": "#E5ECF6",
              "width": 0.5
             },
             "pattern": {
              "fillmode": "overlay",
              "size": 10,
              "solidity": 0.2
             }
            },
            "type": "barpolar"
           }
          ],
          "carpet": [
           {
            "aaxis": {
             "endlinecolor": "#2a3f5f",
             "gridcolor": "white",
             "linecolor": "white",
             "minorgridcolor": "white",
             "startlinecolor": "#2a3f5f"
            },
            "baxis": {
             "endlinecolor": "#2a3f5f",
             "gridcolor": "white",
             "linecolor": "white",
             "minorgridcolor": "white",
             "startlinecolor": "#2a3f5f"
            },
            "type": "carpet"
           }
          ],
          "choropleth": [
           {
            "colorbar": {
             "outlinewidth": 0,
             "ticks": ""
            },
            "type": "choropleth"
           }
          ],
          "contour": [
           {
            "colorbar": {
             "outlinewidth": 0,
             "ticks": ""
            },
            "colorscale": [
             [
              0,
              "#0d0887"
             ],
             [
              0.1111111111111111,
              "#46039f"
             ],
             [
              0.2222222222222222,
              "#7201a8"
             ],
             [
              0.3333333333333333,
              "#9c179e"
             ],
             [
              0.4444444444444444,
              "#bd3786"
             ],
             [
              0.5555555555555556,
              "#d8576b"
             ],
             [
              0.6666666666666666,
              "#ed7953"
             ],
             [
              0.7777777777777778,
              "#fb9f3a"
             ],
             [
              0.8888888888888888,
              "#fdca26"
             ],
             [
              1,
              "#f0f921"
             ]
            ],
            "type": "contour"
           }
          ],
          "contourcarpet": [
           {
            "colorbar": {
             "outlinewidth": 0,
             "ticks": ""
            },
            "type": "contourcarpet"
           }
          ],
          "heatmap": [
           {
            "colorbar": {
             "outlinewidth": 0,
             "ticks": ""
            },
            "colorscale": [
             [
              0,
              "#0d0887"
             ],
             [
              0.1111111111111111,
              "#46039f"
             ],
             [
              0.2222222222222222,
              "#7201a8"
             ],
             [
              0.3333333333333333,
              "#9c179e"
             ],
             [
              0.4444444444444444,
              "#bd3786"
             ],
             [
              0.5555555555555556,
              "#d8576b"
             ],
             [
              0.6666666666666666,
              "#ed7953"
             ],
             [
              0.7777777777777778,
              "#fb9f3a"
             ],
             [
              0.8888888888888888,
              "#fdca26"
             ],
             [
              1,
              "#f0f921"
             ]
            ],
            "type": "heatmap"
           }
          ],
          "heatmapgl": [
           {
            "colorbar": {
             "outlinewidth": 0,
             "ticks": ""
            },
            "colorscale": [
             [
              0,
              "#0d0887"
             ],
             [
              0.1111111111111111,
              "#46039f"
             ],
             [
              0.2222222222222222,
              "#7201a8"
             ],
             [
              0.3333333333333333,
              "#9c179e"
             ],
             [
              0.4444444444444444,
              "#bd3786"
             ],
             [
              0.5555555555555556,
              "#d8576b"
             ],
             [
              0.6666666666666666,
              "#ed7953"
             ],
             [
              0.7777777777777778,
              "#fb9f3a"
             ],
             [
              0.8888888888888888,
              "#fdca26"
             ],
             [
              1,
              "#f0f921"
             ]
            ],
            "type": "heatmapgl"
           }
          ],
          "histogram": [
           {
            "marker": {
             "pattern": {
              "fillmode": "overlay",
              "size": 10,
              "solidity": 0.2
             }
            },
            "type": "histogram"
           }
          ],
          "histogram2d": [
           {
            "colorbar": {
             "outlinewidth": 0,
             "ticks": ""
            },
            "colorscale": [
             [
              0,
              "#0d0887"
             ],
             [
              0.1111111111111111,
              "#46039f"
             ],
             [
              0.2222222222222222,
              "#7201a8"
             ],
             [
              0.3333333333333333,
              "#9c179e"
             ],
             [
              0.4444444444444444,
              "#bd3786"
             ],
             [
              0.5555555555555556,
              "#d8576b"
             ],
             [
              0.6666666666666666,
              "#ed7953"
             ],
             [
              0.7777777777777778,
              "#fb9f3a"
             ],
             [
              0.8888888888888888,
              "#fdca26"
             ],
             [
              1,
              "#f0f921"
             ]
            ],
            "type": "histogram2d"
           }
          ],
          "histogram2dcontour": [
           {
            "colorbar": {
             "outlinewidth": 0,
             "ticks": ""
            },
            "colorscale": [
             [
              0,
              "#0d0887"
             ],
             [
              0.1111111111111111,
              "#46039f"
             ],
             [
              0.2222222222222222,
              "#7201a8"
             ],
             [
              0.3333333333333333,
              "#9c179e"
             ],
             [
              0.4444444444444444,
              "#bd3786"
             ],
             [
              0.5555555555555556,
              "#d8576b"
             ],
             [
              0.6666666666666666,
              "#ed7953"
             ],
             [
              0.7777777777777778,
              "#fb9f3a"
             ],
             [
              0.8888888888888888,
              "#fdca26"
             ],
             [
              1,
              "#f0f921"
             ]
            ],
            "type": "histogram2dcontour"
           }
          ],
          "mesh3d": [
           {
            "colorbar": {
             "outlinewidth": 0,
             "ticks": ""
            },
            "type": "mesh3d"
           }
          ],
          "parcoords": [
           {
            "line": {
             "colorbar": {
              "outlinewidth": 0,
              "ticks": ""
             }
            },
            "type": "parcoords"
           }
          ],
          "pie": [
           {
            "automargin": true,
            "type": "pie"
           }
          ],
          "scatter": [
           {
            "fillpattern": {
             "fillmode": "overlay",
             "size": 10,
             "solidity": 0.2
            },
            "type": "scatter"
           }
          ],
          "scatter3d": [
           {
            "line": {
             "colorbar": {
              "outlinewidth": 0,
              "ticks": ""
             }
            },
            "marker": {
             "colorbar": {
              "outlinewidth": 0,
              "ticks": ""
             }
            },
            "type": "scatter3d"
           }
          ],
          "scattercarpet": [
           {
            "marker": {
             "colorbar": {
              "outlinewidth": 0,
              "ticks": ""
             }
            },
            "type": "scattercarpet"
           }
          ],
          "scattergeo": [
           {
            "marker": {
             "colorbar": {
              "outlinewidth": 0,
              "ticks": ""
             }
            },
            "type": "scattergeo"
           }
          ],
          "scattergl": [
           {
            "marker": {
             "colorbar": {
              "outlinewidth": 0,
              "ticks": ""
             }
            },
            "type": "scattergl"
           }
          ],
          "scattermapbox": [
           {
            "marker": {
             "colorbar": {
              "outlinewidth": 0,
              "ticks": ""
             }
            },
            "type": "scattermapbox"
           }
          ],
          "scatterpolar": [
           {
            "marker": {
             "colorbar": {
              "outlinewidth": 0,
              "ticks": ""
             }
            },
            "type": "scatterpolar"
           }
          ],
          "scatterpolargl": [
           {
            "marker": {
             "colorbar": {
              "outlinewidth": 0,
              "ticks": ""
             }
            },
            "type": "scatterpolargl"
           }
          ],
          "scatterternary": [
           {
            "marker": {
             "colorbar": {
              "outlinewidth": 0,
              "ticks": ""
             }
            },
            "type": "scatterternary"
           }
          ],
          "surface": [
           {
            "colorbar": {
             "outlinewidth": 0,
             "ticks": ""
            },
            "colorscale": [
             [
              0,
              "#0d0887"
             ],
             [
              0.1111111111111111,
              "#46039f"
             ],
             [
              0.2222222222222222,
              "#7201a8"
             ],
             [
              0.3333333333333333,
              "#9c179e"
             ],
             [
              0.4444444444444444,
              "#bd3786"
             ],
             [
              0.5555555555555556,
              "#d8576b"
             ],
             [
              0.6666666666666666,
              "#ed7953"
             ],
             [
              0.7777777777777778,
              "#fb9f3a"
             ],
             [
              0.8888888888888888,
              "#fdca26"
             ],
             [
              1,
              "#f0f921"
             ]
            ],
            "type": "surface"
           }
          ],
          "table": [
           {
            "cells": {
             "fill": {
              "color": "#EBF0F8"
             },
             "line": {
              "color": "white"
             }
            },
            "header": {
             "fill": {
              "color": "#C8D4E3"
             },
             "line": {
              "color": "white"
             }
            },
            "type": "table"
           }
          ]
         },
         "layout": {
          "annotationdefaults": {
           "arrowcolor": "#2a3f5f",
           "arrowhead": 0,
           "arrowwidth": 1
          },
          "autotypenumbers": "strict",
          "coloraxis": {
           "colorbar": {
            "outlinewidth": 0,
            "ticks": ""
           }
          },
          "colorscale": {
           "diverging": [
            [
             0,
             "#8e0152"
            ],
            [
             0.1,
             "#c51b7d"
            ],
            [
             0.2,
             "#de77ae"
            ],
            [
             0.3,
             "#f1b6da"
            ],
            [
             0.4,
             "#fde0ef"
            ],
            [
             0.5,
             "#f7f7f7"
            ],
            [
             0.6,
             "#e6f5d0"
            ],
            [
             0.7,
             "#b8e186"
            ],
            [
             0.8,
             "#7fbc41"
            ],
            [
             0.9,
             "#4d9221"
            ],
            [
             1,
             "#276419"
            ]
           ],
           "sequential": [
            [
             0,
             "#0d0887"
            ],
            [
             0.1111111111111111,
             "#46039f"
            ],
            [
             0.2222222222222222,
             "#7201a8"
            ],
            [
             0.3333333333333333,
             "#9c179e"
            ],
            [
             0.4444444444444444,
             "#bd3786"
            ],
            [
             0.5555555555555556,
             "#d8576b"
            ],
            [
             0.6666666666666666,
             "#ed7953"
            ],
            [
             0.7777777777777778,
             "#fb9f3a"
            ],
            [
             0.8888888888888888,
             "#fdca26"
            ],
            [
             1,
             "#f0f921"
            ]
           ],
           "sequentialminus": [
            [
             0,
             "#0d0887"
            ],
            [
             0.1111111111111111,
             "#46039f"
            ],
            [
             0.2222222222222222,
             "#7201a8"
            ],
            [
             0.3333333333333333,
             "#9c179e"
            ],
            [
             0.4444444444444444,
             "#bd3786"
            ],
            [
             0.5555555555555556,
             "#d8576b"
            ],
            [
             0.6666666666666666,
             "#ed7953"
            ],
            [
             0.7777777777777778,
             "#fb9f3a"
            ],
            [
             0.8888888888888888,
             "#fdca26"
            ],
            [
             1,
             "#f0f921"
            ]
           ]
          },
          "colorway": [
           "#636efa",
           "#EF553B",
           "#00cc96",
           "#ab63fa",
           "#FFA15A",
           "#19d3f3",
           "#FF6692",
           "#B6E880",
           "#FF97FF",
           "#FECB52"
          ],
          "font": {
           "color": "#2a3f5f"
          },
          "geo": {
           "bgcolor": "white",
           "lakecolor": "white",
           "landcolor": "#E5ECF6",
           "showlakes": true,
           "showland": true,
           "subunitcolor": "white"
          },
          "hoverlabel": {
           "align": "left"
          },
          "hovermode": "closest",
          "mapbox": {
           "style": "light"
          },
          "paper_bgcolor": "white",
          "plot_bgcolor": "#E5ECF6",
          "polar": {
           "angularaxis": {
            "gridcolor": "white",
            "linecolor": "white",
            "ticks": ""
           },
           "bgcolor": "#E5ECF6",
           "radialaxis": {
            "gridcolor": "white",
            "linecolor": "white",
            "ticks": ""
           }
          },
          "scene": {
           "xaxis": {
            "backgroundcolor": "#E5ECF6",
            "gridcolor": "white",
            "gridwidth": 2,
            "linecolor": "white",
            "showbackground": true,
            "ticks": "",
            "zerolinecolor": "white"
           },
           "yaxis": {
            "backgroundcolor": "#E5ECF6",
            "gridcolor": "white",
            "gridwidth": 2,
            "linecolor": "white",
            "showbackground": true,
            "ticks": "",
            "zerolinecolor": "white"
           },
           "zaxis": {
            "backgroundcolor": "#E5ECF6",
            "gridcolor": "white",
            "gridwidth": 2,
            "linecolor": "white",
            "showbackground": true,
            "ticks": "",
            "zerolinecolor": "white"
           }
          },
          "shapedefaults": {
           "line": {
            "color": "#2a3f5f"
           }
          },
          "ternary": {
           "aaxis": {
            "gridcolor": "white",
            "linecolor": "white",
            "ticks": ""
           },
           "baxis": {
            "gridcolor": "white",
            "linecolor": "white",
            "ticks": ""
           },
           "bgcolor": "#E5ECF6",
           "caxis": {
            "gridcolor": "white",
            "linecolor": "white",
            "ticks": ""
           }
          },
          "title": {
           "x": 0.05
          },
          "xaxis": {
           "automargin": true,
           "gridcolor": "white",
           "linecolor": "white",
           "ticks": "",
           "title": {
            "standoff": 15
           },
           "zerolinecolor": "white",
           "zerolinewidth": 2
          },
          "yaxis": {
           "automargin": true,
           "gridcolor": "white",
           "linecolor": "white",
           "ticks": "",
           "title": {
            "standoff": 15
           },
           "zerolinecolor": "white",
           "zerolinewidth": 2
          }
         }
        },
        "width": 1000,
        "xaxis": {
         "anchor": "y",
         "autorange": true,
         "constrain": "domain",
         "domain": [
          0.09894569174757284,
          0.9010543082524272
         ],
         "range": [
          -0.5,
          49.5
         ],
         "scaleanchor": "y",
         "ticktext": [
          "▁[",
          "INST",
          "]",
          "▁Consider",
          "▁the",
          "▁amount",
          "▁of",
          "▁truth",
          "fulness",
          "▁in",
          "▁the",
          "▁following",
          "▁statement",
          ".",
          "<0x0A>",
          "Statement",
          ":",
          "▁The",
          "▁benefits",
          "▁of",
          "▁daily",
          "▁exposure",
          "▁to",
          "▁Daw",
          "nt",
          "on",
          "▁R",
          "ays",
          "▁include",
          "▁improved",
          "▁mood",
          "▁and",
          "▁enhanced",
          "▁cognitive",
          "▁function",
          ".",
          "▁[",
          "/",
          "INST",
          "]",
          "▁The",
          "▁amount",
          "▁of",
          "▁truth",
          "fulness",
          "▁in",
          "▁this",
          "▁statement",
          "▁is"
         ],
         "tickvals": [
          0,
          1,
          2,
          3,
          4,
          5,
          6,
          7,
          8,
          9,
          10,
          11,
          12,
          13,
          14,
          15,
          16,
          17,
          18,
          19,
          20,
          21,
          22,
          23,
          24,
          25,
          26,
          27,
          28,
          29,
          30,
          31,
          32,
          33,
          34,
          35,
          36,
          37,
          38,
          39,
          40,
          41,
          42,
          43,
          44,
          45,
          46,
          47,
          48
         ],
         "title": {
          "text": "Token"
         }
        },
        "yaxis": {
         "anchor": "x",
         "autorange": true,
         "constrain": "domain",
         "domain": [
          0,
          1
         ],
         "range": [
          31.5,
          -0.5
         ]
        }
       }
      },
      "image/png": "[encoded data removed]",
      "text/html": [
       "<div>                            <div id=\"06a7583b-6337-4b0f-99e2-5a6117fa7f22\" class=\"plotly-graph-div\" style=\"height:600px; width:1000px;\"></div>            <script type=\"text/javascript\">                require([\"plotly\"], function(Plotly) {                    window.PLOTLYENV=window.PLOTLYENV || {};                                    if (document.getElementById(\"06a7583b-6337-4b0f-99e2-5a6117fa7f22\")) {                    Plotly.newPlot(                        \"06a7583b-6337-4b0f-99e2-5a6117fa7f22\",                        [{\"coloraxis\":\"coloraxis\",\"name\":\"0\",\"z\":[[0.0280914306640625,0.0396728515625,0.0169677734375,0.016510009765625,0.00041866302490234375,0.0246429443359375,0.003993988037109375,0.0211639404296875,0.01434326171875,0.01534271240234375,0.0246429443359375,0.02813720703125,0.01611328125,0.022796630859375,0.0287322998046875,0.060333251953125,0.0239410400390625,0.017852783203125,0.02581787109375,0.0149078369140625,0.017852783203125,0.020751953125,0.01666259765625,0.020751953125,0.0227813720703125,0.01593017578125,0.0224456787109375,0.021514892578125,0.021942138671875,0.0072479248046875,0.022796630859375,0.014862060546875,0.0253143310546875,0.0269927978515625,0.0154266357421875,0.007415771484375,0.01328277587890625,0.0067291259765625,0.00823211669921875,0.00860595703125,0.0025787353515625,0.0126190185546875,-0.01023101806640625,0.01177978515625,0.006069183349609375,0.01065826416015625,0.017333984375,0.00795745849609375,0.01123809814453125,-0.005107879638671875],[-20.359375,-0.07080078125,0.0130157470703125,0.00699615478515625,-0.0096435546875,0.019866943359375,0.0053558349609375,0.0129547119140625,-0.01739501953125,0.005054473876953125,0.0165863037109375,0.0421142578125,0.0199432373046875,0.005649566650390625,0.0111846923828125,-10.265625,0.005939483642578125,-0.0022068023681640625,0.03643798828125,0.008087158203125,0.0303955078125,0.004688262939453125,0.00891876220703125,0.035675048828125,0.0004718303680419922,0.01416778564453125,0.01290130615234375,0.0099639892578125,0.0199432373046875,0.0343017578125,0.02996826171875,-0.0044403076171875,0.0164031982421875,0.033294677734375,0.010284423828125,0.00411224365234375,0.0222320556640625,0.003437042236328125,-0.0223236083984375,0.00470733642578125,-0.006801605224609375,0.0277252197265625,0.0177154541015625,0.0113067626953125,-0.002986907958984375,0.01971435546875,0.0241546630859375,0.0042724609375,0.020904541015625,-0.0174560546875],[-12.109375,-0.0760498046875,-0.01007843017578125,-0.00286102294921875,-0.046539306640625,-0.0024662017822265625,-0.009063720703125,-0.0001399517059326172,-0.056640625,-0.0240325927734375,-0.0006260871887207031,0.01110076904296875,-0.0643310546875,-0.052764892578125,-0.07318115234375,-6.9453125,-0.037200927734375,-0.02899169921875,0.0181884765625,0.0008096694946289062,0.0157470703125,-0.00821685791015625,0.0021839141845703125,0.05517578125,-0.023651123046875,0.0171356201171875,0.0032596588134765625,-0.01959228515625,-0.00231170654296875,-0.0036468505859375,-0.00890350341796875,-0.03143310546875,-0.0002694129943847656,0.03668212890625,-0.004299163818359375,-0.00066375732421875,-0.0272064208984375,-0.0794677734375,-0.0875244140625,-0.06494140625,-0.1177978515625,-0.027618408203125,-0.0031337738037109375,0.01873779296875,-0.041473388671875,-0.01427459716796875,0.00997161865234375,-0.046722412109375,-0.048187255859375,-0.0911865234375],[-17.53125,-0.207275390625,-0.0136260986328125,0.00693511962890625,-0.0814208984375,-0.048095703125,-0.1492919921875,-0.1090087890625,-0.0160369873046875,-0.007579803466796875,0.0347900390625,0.04071044921875,-0.0771484375,-0.04241943359375,-0.05743408203125,-11.1875,-0.00572967529296875,-0.03826904296875,0.019287109375,-0.02728271484375,0.006938934326171875,-0.035614013671875,1.0132789611816406e-06,0.041168212890625,-0.002727508544921875,-0.00829315185546875,-0.004497528076171875,-0.005512237548828125,-0.013763427734375,-0.0185699462890625,-0.005046844482421875,-0.0406494140625,-0.0204315185546875,-0.011749267578125,-0.027740478515625,0.0053558349609375,-0.062744140625,-0.09423828125,-0.1075439453125,-0.111328125,-0.12548828125,-0.060211181640625,-0.1175537109375,-0.0654296875,-0.01369476318359375,-0.0106201171875,0.00738525390625,-0.031005859375,-0.006305694580078125,-0.10687255859375],[-24.421875,-0.392333984375,-0.057037353515625,-0.0665283203125,-0.061614990234375,-0.038421630859375,-0.195068359375,-0.1385498046875,-0.06365966796875,-0.01409149169921875,0.0197906494140625,0.00818634033203125,-0.091064453125,-0.06585693359375,-0.0787353515625,-14.765625,0.042633056640625,0.0081634521484375,0.0250091552734375,-0.0421142578125,0.0206451416015625,-0.08685302734375,-0.03521728515625,0.007293701171875,-0.016021728515625,0.003124237060546875,-0.0032482147216796875,-0.014923095703125,-0.018646240234375,0.006927490234375,-0.0238037109375,-0.09466552734375,-0.06561279296875,0.00400543212890625,-0.04840087890625,-0.017364501953125,-0.08319091796875,-0.1041259765625,-0.1219482421875,-0.173583984375,-0.184814453125,-0.09832763671875,-0.198974609375,-0.1295166015625,-0.087158203125,-0.04058837890625,-0.053985595703125,-0.0858154296875,-0.06060791015625,-0.131103515625],[-1.5927734375,-0.0732421875,0.0257110595703125,-0.050323486328125,-0.07568359375,-0.049652099609375,-0.161376953125,-0.1356201171875,-0.09722900390625,-0.0855712890625,-0.07489013671875,-0.0582275390625,-0.05755615234375,-0.0322265625,-0.07965087890625,-0.83056640625,0.03240966796875,0.0280914306640625,0.0293426513671875,-0.0188140869140625,0.0280609130859375,-0.09381103515625,-0.039764404296875,-0.027984619140625,-0.0299072265625,0.01061248779296875,0.0085296630859375,-0.03326416015625,-0.0183563232421875,-0.148193359375,-0.052215576171875,-0.08837890625,-0.08203125,-0.0272979736328125,-0.0489501953125,0.0171356201171875,-0.12310791015625,-0.185546875,-0.167236328125,-0.144287109375,-0.1705322265625,-0.1068115234375,-0.239013671875,-0.177978515625,-0.21875,-0.162109375,-0.1937255859375,-0.1727294921875,-0.17333984375,-0.262451171875],[5.01953125,0.09539794921875,0.05120849609375,-0.00905609130859375,-0.1441650390625,-0.1156005859375,-0.2281494140625,-0.241943359375,-0.1712646484375,-0.1707763671875,-0.1851806640625,-0.09832763671875,-0.11083984375,-0.019866943359375,-0.15380859375,3.314453125,-0.045654296875,-0.017425537109375,0.03009033203125,0.0205535888671875,0.048583984375,-0.0703125,-0.032623291015625,-0.00662994384765625,-0.044281005859375,0.0005035400390625,0.0007119178771972656,0.027313232421875,-0.036529541015625,-0.11517333984375,-0.04266357421875,-0.048736572265625,-0.01505279541015625,0.0069580078125,-0.018096923828125,0.062103271484375,-0.06329345703125,-0.10540771484375,-0.120849609375,-0.156494140625,-0.1553955078125,-0.114990234375,-0.28662109375,-0.26904296875,-0.31005859375,-0.284423828125,-0.335693359375,-0.1817626953125,-0.139404296875,-0.320068359375],[-1.5458984375,-0.10980224609375,-0.07183837890625,-0.1083984375,-0.1541748046875,-0.1529541015625,-0.24072265625,-0.29345703125,-0.28955078125,-0.284423828125,-0.35498046875,-0.2318115234375,-0.2493896484375,-0.1319580078125,-0.274658203125,-0.994140625,-0.1907958984375,-0.1729736328125,-0.0491943359375,-0.0003161430358886719,-0.0228424072265625,-0.07568359375,-0.052490234375,-0.060577392578125,-0.07598876953125,0.029449462890625,-0.0083770751953125,0.0067138671875,-0.047119140625,-0.11761474609375,-0.06365966796875,-0.07183837890625,-0.060943603515625,0.025482177734375,-0.13720703125,-0.0281982421875,-0.11737060546875,-0.231201171875,-0.2476806640625,-0.286376953125,-0.296142578125,-0.236572265625,-0.4462890625,-0.45166015625,-0.463623046875,-0.5087890625,-0.62353515625,-0.343994140625,-0.291015625,-0.59912109375],[-5.48828125,-0.31982421875,-0.0894775390625,-0.170166015625,-0.1563720703125,-0.1746826171875,-0.3115234375,-0.31005859375,-0.21923828125,-0.2744140625,-0.28564453125,-0.205322265625,-0.241455078125,-0.054779052734375,-0.2467041015625,-3.10546875,-0.10760498046875,-0.1107177734375,-0.0933837890625,-0.10595703125,-0.12451171875,-0.047515869140625,0.01300811767578125,0.003536224365234375,-0.051300048828125,-0.0211029052734375,-0.059844970703125,-0.002681732177734375,-0.00728607177734375,-0.1365966796875,-0.1434326171875,-0.038116455078125,-0.1168212890625,-0.08209228515625,-0.1131591796875,-0.126708984375,-0.26904296875,-0.30517578125,-0.29345703125,-0.264892578125,-0.3330078125,-0.287841796875,-0.426025390625,-0.445068359375,-0.470458984375,-0.491455078125,-0.54345703125,-0.39404296875,-0.301025390625,-0.59423828125],[0.2174072265625,-0.085205078125,0.06634521484375,-0.04278564453125,-0.1065673828125,-0.16455078125,-0.317138671875,-0.28662109375,-0.044891357421875,-0.037445068359375,-0.14990234375,-0.060882568359375,-0.1414794921875,0.111328125,-0.1417236328125,0.88232421875,0.0850830078125,0.03289794921875,-0.05255126953125,-0.0743408203125,-0.05072021484375,0.01322174072265625,0.07684326171875,0.05157470703125,-0.0015497207641601562,0.0290679931640625,-0.0243377685546875,0.004634857177734375,0.0135345458984375,-0.146484375,-0.181884765625,0.04290771484375,-0.100341796875,-0.0270538330078125,0.046478271484375,-0.09539794921875,-0.326904296875,-0.25048828125,-0.229248046875,-0.2154541015625,-0.236328125,-0.23876953125,-0.3701171875,-0.388916015625,-0.28759765625,-0.3271484375,-0.446533203125,-0.26220703125,-0.1875,-0.662109375],[4.17578125,0.06768798828125,0.007293701171875,-0.044708251953125,-0.1739501953125,-0.232421875,-0.35595703125,-0.338623046875,-0.05108642578125,-0.11761474609375,-0.1395263671875,-0.1781005859375,-0.26904296875,0.027679443359375,-0.17236328125,3.619140625,-0.05596923828125,-0.1295166015625,-0.1849365234375,-0.0999755859375,-0.1146240234375,-0.04669189453125,0.0012578964233398438,-0.0254364013671875,-0.1011962890625,0.019195556640625,-0.044158935546875,-0.03985595703125,-0.06488037109375,-0.2491455078125,-0.220703125,0.0096435546875,-0.132568359375,-0.06988525390625,-0.048248291015625,-0.1734619140625,-0.385986328125,-0.387939453125,-0.328857421875,-0.39501953125,-0.39208984375,-0.37841796875,-0.4833984375,-0.529296875,-0.47607421875,-0.50048828125,-0.64892578125,-0.39599609375,-0.325439453125,-0.93310546875],[12.7578125,0.456787109375,0.05657958984375,0.06512451171875,-0.1107177734375,-0.1851806640625,-0.31494140625,-0.316162109375,0.05908203125,-0.059661865234375,-0.0626220703125,-0.09002685546875,-0.1839599609375,0.06817626953125,-0.059783935546875,8.96875,-0.107177734375,-0.1732177734375,-0.248779296875,-0.0721435546875,-0.156982421875,-0.108642578125,-0.06903076171875,-0.09173583984375,-0.160888671875,-0.045135498046875,-0.06939697265625,-0.08746337890625,-0.134765625,-0.303466796875,-0.1751708984375,0.05816650390625,-0.076904296875,-0.079345703125,-0.06536865234375,-0.1514892578125,-0.416259765625,-0.481201171875,-0.51220703125,-0.375732421875,-0.202880859375,-0.272216796875,-0.36279296875,-0.46630859375,-0.384033203125,-0.419677734375,-0.465087890625,-0.474853515625,-0.359375,-0.7880859375],[-3.978515625,-0.2454833984375,-0.1275634765625,-0.12286376953125,-0.205322265625,-0.25634765625,-0.4375,-0.3779296875,-0.23828125,-0.378662109375,-0.34912109375,-0.3212890625,-0.34423828125,-0.2744140625,-0.36376953125,-1.54296875,-0.32958984375,-0.406005859375,-0.400634765625,-0.1064453125,-0.1221923828125,-0.0858154296875,-0.11041259765625,-0.11688232421875,-0.18701171875,-0.095458984375,-0.1207275390625,-0.1136474609375,-0.17724609375,-0.27294921875,-0.12890625,-0.0760498046875,-0.065185546875,-0.10565185546875,-0.11444091796875,-0.1378173828125,-0.49951171875,-0.69873046875,-0.73291015625,-0.6845703125,-0.74169921875,-0.6005859375,-0.625,-0.65673828125,-0.76025390625,-0.69189453125,-0.6787109375,-0.69677734375,-0.72998046875,-1.1181640625],[-15.953125,-0.82373046875,-0.1383056640625,-0.34326171875,-0.2423095703125,-0.290283203125,-0.42578125,-0.40625,-0.322998046875,-0.393798828125,-0.384033203125,-0.276123046875,-0.283203125,-0.2197265625,-0.3056640625,-8.7109375,-0.267578125,-0.38818359375,-0.315673828125,-0.1719970703125,-0.2135009765625,-0.176513671875,-0.1116943359375,-0.1593017578125,-0.11761474609375,-0.06524658203125,-0.1593017578125,-0.2254638671875,-0.2305908203125,-0.447509765625,-0.2049560546875,-0.174560546875,-0.192138671875,-0.135009765625,-0.12335205078125,-0.203369140625,-0.6572265625,-0.8134765625,-0.689453125,-0.68603515625,-0.828125,-0.62744140625,-0.56689453125,-0.59228515625,-0.79638671875,-0.7060546875,-0.5927734375,-0.74853515625,-0.99169921875,-1.2294921875],[-12.234375,-0.728515625,-0.202392578125,-0.37646484375,-0.252197265625,-0.370361328125,-0.435546875,-0.513671875,-0.306884765625,-0.5126953125,-0.51806640625,-0.47216796875,-0.477783203125,-0.375,-0.529296875,-7.0625,-0.376220703125,-0.4501953125,-0.348388671875,-0.1773681640625,-0.28125,-0.2215576171875,-0.189697265625,-0.2451171875,-0.2548828125,-0.180419921875,-0.210205078125,-0.25390625,-0.446533203125,-0.46923828125,-0.347412109375,-0.2213134765625,-0.2919921875,-0.253173828125,-0.26220703125,-0.4208984375,-0.84228515625,-1.1318359375,-0.86669921875,-0.93603515625,-1.318359375,-1.0732421875,-0.7607421875,-0.689453125,-0.9130859375,-0.93994140625,-0.79541015625,-1.0146484375,-1.4873046875,-1.6416015625],[-10.6171875,-0.68310546875,-0.174560546875,-0.357666015625,-0.1859130859375,-0.29541015625,-0.2237548828125,-0.322265625,-0.1495361328125,-0.36376953125,-0.4248046875,-0.466796875,-0.436767578125,-0.385009765625,-0.5888671875,-6.00390625,-0.441650390625,-0.6259765625,-0.380126953125,-0.1939697265625,-0.253173828125,-0.041961669921875,-0.01192474365234375,-0.159423828125,-0.1309814453125,-0.012176513671875,-0.09417724609375,-0.1009521484375,-0.2020263671875,-0.347900390625,-0.1375732421875,-0.12420654296875,-0.2115478515625,-0.11114501953125,-0.1551513671875,-0.2215576171875,-1.0673828125,-1.390625,-1.0234375,-1.3583984375,-2.044921875,-1.5068359375,-0.9248046875,-0.9853515625,-0.85546875,-1.0185546875,-0.87109375,-1.181640625,-1.8720703125,-2.3671875],[-0.291259765625,-0.13330078125,-0.057098388671875,-0.0545654296875,-0.1695556640625,-0.2314453125,-0.209228515625,-0.289794921875,-0.1572265625,-0.22900390625,-0.428955078125,-0.372314453125,-0.3623046875,-0.1915283203125,-0.6875,0.85595703125,-0.325439453125,-0.459228515625,-0.2435302734375,-0.1959228515625,-0.26171875,-0.061553955078125,0.0833740234375,-0.0618896484375,-0.12310791015625,0.083251953125,-0.0323486328125,-0.07257080078125,-0.108154296875,-0.1136474609375,0.021087646484375,0.0806884765625,-0.034332275390625,0.07623291015625,-0.10504150390625,-0.2333984375,-1.4033203125,-1.7177734375,-1.1220703125,-2.01953125,-2.91015625,-1.9638671875,-1.216796875,-1.2490234375,-0.9873046875,-1.0625,-1.052734375,-1.40234375,-2.419921875,-3.24609375],[-2.478515625,-0.2359619140625,-0.189697265625,-0.15380859375,-0.25830078125,-0.3232421875,-0.36572265625,-0.30517578125,-0.045074462890625,-0.1387939453125,-0.34814453125,-0.40087890625,-0.43994140625,-0.2308349609375,-0.67529296875,-0.52783203125,-0.31494140625,-0.533203125,-0.2391357421875,-0.282958984375,-0.41796875,-0.31884765625,-0.009765625,-0.2401123046875,-0.2288818359375,-0.04412841796875,-0.1358642578125,-0.15087890625,-0.1419677734375,-0.227294921875,-0.07489013671875,-0.040008544921875,-0.08209228515625,-0.1341552734375,-0.1363525390625,-0.29638671875,-1.505859375,-1.9111328125,-1.2255859375,-2.375,-3.359375,-2.12890625,-1.376953125,-1.138671875,-1.0341796875,-1.240234375,-1.2177734375,-1.416015625,-2.7578125,-4.046875],[-1.658203125,-0.144287109375,-0.2027587890625,-0.05657958984375,-0.2396240234375,-0.2783203125,-0.4326171875,-0.289306640625,0.0172119140625,-0.06488037109375,-0.1361083984375,-0.156982421875,-0.417724609375,-0.19482421875,-0.505859375,-0.469970703125,-0.253662109375,-0.4638671875,-0.09405517578125,-0.35693359375,-0.326904296875,0.042510986328125,-0.0267333984375,-0.134033203125,-0.1973876953125,-0.196044921875,-0.10382080078125,-0.1851806640625,-0.192138671875,-0.43115234375,-0.40771484375,-0.0841064453125,-0.356201171875,-0.404052734375,-0.112548828125,-0.306396484375,-1.5205078125,-1.84375,-1.1396484375,-2.26171875,-3.130859375,-2.0625,-1.5859375,-1.3720703125,-1.080078125,-1.2109375,-1.150390625,-1.546875,-2.76953125,-4.2890625],[-5.70703125,-0.927734375,-0.3798828125,-1.529296875,-0.303955078125,-0.34716796875,-0.61181640625,-0.5546875,-0.1732177734375,-0.272216796875,-0.35009765625,-0.355224609375,-0.67041015625,-0.333984375,-0.45751953125,-3.59765625,-0.297607421875,-0.55322265625,-0.033477783203125,-0.3984375,-0.35009765625,0.2227783203125,0.10711669921875,-0.0229339599609375,-0.06903076171875,-0.343994140625,-0.1563720703125,-0.189453125,-0.314697265625,-0.53466796875,-0.459228515625,-0.281005859375,-0.5009765625,-0.4404296875,-0.058319091796875,-0.3515625,-1.625,-1.875,-1.1005859375,-2.396484375,-3.2109375,-1.89453125,-1.92578125,-1.40625,-1.2041015625,-1.3935546875,-1.1259765625,-1.6416015625,-3.03125,-4.77734375],[-5.80859375,-0.92724609375,-0.339599609375,-1.380859375,-0.32763671875,-0.2069091796875,-0.609375,-0.57080078125,-0.383056640625,-0.38037109375,-0.6845703125,-0.53271484375,-0.8623046875,-0.326904296875,-0.7763671875,-3.548828125,-0.36767578125,-0.80712890625,-0.051971435546875,-0.595703125,-0.33837890625,0.346923828125,0.19873046875,-0.08544921875,0.339111328125,-0.28125,-0.08966064453125,-0.2208251953125,-0.4404296875,-0.59765625,-0.37841796875,-0.40185546875,-0.5224609375,-0.317626953125,0.0235137939453125,-0.451416015625,-1.767578125,-1.9326171875,-1.08203125,-2.673828125,-3.33984375,-1.8349609375,-2.2734375,-1.8349609375,-1.470703125,-1.7626953125,-1.4091796875,-1.7607421875,-3.208984375,-5.3046875],[-7.19921875,-1.2314453125,-0.32421875,-1.931640625,-0.280517578125,-0.21875,-0.361083984375,-0.1533203125,-0.472412109375,-0.52880859375,-0.5224609375,-0.4423828125,-0.5048828125,-0.0897216796875,-0.482421875,-4.0703125,-0.2420654296875,-0.681640625,0.0022335052490234375,-0.58984375,-0.3310546875,0.2054443359375,0.322021484375,-0.00030493736267089844,0.6328125,-0.1622314453125,-0.09454345703125,-0.36279296875,-0.375732421875,-0.342041015625,-0.317626953125,-0.383544921875,-0.21826171875,-0.2406005859375,0.00901031494140625,-0.62158203125,-1.7236328125,-1.8642578125,-0.92578125,-2.35546875,-2.9296875,-1.2451171875,-1.935546875,-1.3095703125,-1.1611328125,-1.63671875,-1.068359375,-1.306640625,-2.98828125,-5.234375],[-9.7109375,-1.720703125,-0.406494140625,-2.68359375,-0.54736328125,-0.57080078125,-0.5322265625,-0.5517578125,-0.505859375,-0.5087890625,-0.7265625,-0.68505859375,-0.6962890625,-0.257568359375,-0.607421875,-5.421875,-0.28125,-0.6103515625,-0.0028858184814453125,-0.66162109375,-0.431884765625,0.025543212890625,0.29931640625,-0.03839111328125,0.6015625,-0.27001953125,-0.194580078125,-0.38623046875,-0.19970703125,-0.46826171875,-0.5302734375,-0.65966796875,-0.42333984375,-0.46728515625,0.0797119140625,-0.73583984375,-1.66015625,-1.6923828125,-0.82861328125,-2.28125,-2.78515625,-1.2333984375,-1.734375,-1.275390625,-1.1044921875,-1.634765625,-1.0126953125,-1.24609375,-2.931640625,-5.1640625],[-14.4921875,-3.1171875,-0.720703125,-4.890625,-0.75341796875,-0.95361328125,-0.11810302734375,-0.401611328125,0.48486328125,0.11572265625,-0.0494384765625,-0.453369140625,-0.359375,0.086669921875,0.1690673828125,-8.2734375,-0.10272216796875,-0.29931640625,0.2049560546875,-0.7138671875,-0.458984375,-0.02978515625,0.2783203125,0.0576171875,0.42333984375,-0.143310546875,-0.322021484375,-0.295166015625,-0.2490234375,-0.43359375,-0.7490234375,-0.5322265625,-0.572265625,-0.79443359375,-0.252197265625,-0.8095703125,-1.3896484375,-0.8994140625,-0.357666015625,-0.91845703125,-1.49609375,-0.047637939453125,-0.472412109375,-0.2763671875,-0.19970703125,-0.59619140625,-0.244873046875,-0.62158203125,-1.908203125,-2.88671875],[-15.9375,-3.205078125,-0.73291015625,-5.01171875,-0.7734375,-1.01171875,-0.338623046875,-0.315673828125,0.47607421875,0.28759765625,0.1058349609375,-0.325439453125,-0.1083984375,0.361083984375,0.297607421875,-9.7109375,0.259033203125,-0.1026611328125,0.39208984375,-0.67236328125,-0.35400390625,0.040313720703125,0.0977783203125,-0.0159454345703125,0.28076171875,-0.255859375,-0.54638671875,-0.425048828125,-0.262451171875,-0.513671875,-0.60888671875,-0.40283203125,-0.5654296875,-0.69384765625,-0.09014892578125,-0.88623046875,-1.318359375,-0.73876953125,-0.5087890625,-0.81787109375,-1.2861328125,0.2437744140625,-0.615234375,-0.23779296875,-0.300048828125,-0.7392578125,-0.429443359375,-0.515625,-1.8212890625,-2.8515625],[-13.8828125,-2.990234375,-0.67431640625,-4.71875,-0.9853515625,-1.330078125,-0.385986328125,-0.75244140625,0.47705078125,0.308349609375,-0.359375,-0.8056640625,-0.31201171875,0.39501953125,0.15625,-9.0625,0.366455078125,-0.46923828125,-0.00910186767578125,-0.9560546875,-0.32177734375,-0.1693115234375,-0.1964111328125,-0.354248046875,0.197509765625,-0.403564453125,-0.50537109375,-0.5068359375,-0.63671875,-0.35693359375,-0.460693359375,-0.48046875,-0.325927734375,-0.65869140625,-0.2415771484375,-0.85302734375,-1.298828125,-0.88134765625,-0.65966796875,-1.0400390625,-1.423828125,0.05712890625,-0.77685546875,-0.56298828125,-0.343994140625,-0.81103515625,-0.5634765625,-0.7705078125,-1.73828125,-2.90625],[-12.8515625,-3.171875,-0.74072265625,-5.05859375,-0.8388671875,-1.544921875,-0.1053466796875,-1.05078125,0.2705078125,0.4638671875,-0.5185546875,-1.046875,-0.477783203125,0.50537109375,0.19384765625,-8.7265625,0.49267578125,-0.40869140625,-0.361083984375,-0.9521484375,-0.361328125,-0.477783203125,-0.2054443359375,-0.55322265625,0.2445068359375,-0.3486328125,-0.259765625,-0.487548828125,-0.80126953125,-0.658203125,-0.9521484375,-0.619140625,-0.9072265625,-1.0751953125,-0.361328125,-0.95947265625,-1.1982421875,-0.7890625,-0.7373046875,-0.99853515625,-1.3388671875,0.05303955078125,-0.490966796875,-0.69287109375,-0.52001953125,-0.8173828125,-0.77783203125,-1.0966796875,-1.7978515625,-2.962890625],[-9.6953125,-2.755859375,-0.6845703125,-4.40234375,-1.07421875,-1.9130859375,-0.3916015625,-1.390625,0.005458831787109375,0.30859375,-0.57763671875,-1.36328125,-0.81201171875,0.35791015625,-0.173583984375,-6.1640625,0.1494140625,-0.35498046875,-0.62841796875,-1.2177734375,-0.61865234375,-0.57080078125,-0.646484375,-0.99365234375,0.1905517578125,-0.4794921875,-0.2493896484375,-0.269775390625,-1.2099609375,-0.99609375,-1.005859375,-0.9736328125,-1.099609375,-1.17578125,-0.444091796875,-1.1435546875,-1.416015625,-0.787109375,-0.65234375,-1.056640625,-1.2939453125,-0.161376953125,-0.58447265625,-1.1044921875,-0.935546875,-0.91015625,-0.6376953125,-1.2158203125,-1.796875,-3.080078125],[-2.869140625,-1.509765625,-0.478271484375,-2.515625,-0.86572265625,-1.6064453125,-0.353271484375,-1.15234375,0.2445068359375,0.54833984375,-0.375244140625,-0.845703125,-0.53466796875,0.62451171875,-0.236572265625,-1.3037109375,0.501953125,-0.0970458984375,0.06134033203125,-0.89208984375,-0.32080078125,-0.265869140625,-0.50390625,-0.63134765625,0.32373046875,-0.37255859375,-0.396484375,-0.1602783203125,-1.2060546875,-0.405029296875,-0.43408203125,-0.63525390625,-0.63916015625,-0.88330078125,-0.2032470703125,-0.99755859375,-0.8994140625,-0.6962890625,-0.52001953125,-1.205078125,-1.3759765625,0.330078125,-0.383056640625,-0.81884765625,-0.69921875,-0.611328125,-0.46923828125,-0.6015625,-1.7900390625,-3.236328125],[-3.83203125,-1.6611328125,-0.52392578125,-2.794921875,-0.71533203125,-1.6513671875,-0.470947265625,-1.041015625,0.1376953125,0.4130859375,-0.182861328125,-0.755859375,-0.580078125,0.7919921875,-0.157958984375,-1.6962890625,0.73486328125,0.0997314453125,0.4462890625,-0.83642578125,0.06298828125,0.0679931640625,-0.382568359375,-0.1441650390625,0.242919921875,-0.2890625,-0.49267578125,-0.39111328125,-1.0361328125,-0.2381591796875,-0.53857421875,-0.92333984375,-0.83056640625,-1.0859375,-0.7333984375,-1.1064453125,-0.77099609375,-0.263916015625,-0.0782470703125,-0.79345703125,-1.12109375,0.525390625,-0.236572265625,-0.7724609375,-0.638671875,-0.65625,-0.44140625,-0.64599609375,-1.9365234375,-3.32421875],[-0.36474609375,-1.5341796875,-0.79833984375,-2.447265625,-1.2470703125,-2.265625,-0.970703125,-1.6142578125,-0.1539306640625,-0.050201416015625,-1.0029296875,-1.8828125,-1.7646484375,0.259033203125,-0.654296875,0.0029850006103515625,0.8544921875,-0.0014667510986328125,0.6767578125,-1.1123046875,0.046173095703125,-0.374267578125,-0.99365234375,-0.52685546875,-0.009918212890625,-0.11053466796875,-0.6044921875,-0.52880859375,-1.4013671875,-0.10302734375,-0.9052734375,-1.669921875,-1.4248046875,-1.4130859375,-1.0927734375,-1.375,-0.5791015625,0.150390625,0.361083984375,-0.9306640625,-1.181640625,0.2318115234375,-0.202880859375,-0.880859375,-0.8935546875,-1.0107421875,-0.8466796875,-1.25,-2.08203125,-3.484375],[-5.921875,-3.94921875,-4.640625,-4.4296875,-2.798828125,-13.9765625,-3.208984375,-6.33984375,0.441162109375,-0.35205078125,0.15478515625,-6.453125,-7.8828125,8.7578125,2.818359375,13.2578125,9.703125,11.0859375,10.40625,-6.06640625,4.8515625,-1.7822265625,-8.6484375,-4.52734375,2.484375,3.509765625,-4.10546875,-4.17578125,-7.546875,7.63671875,-4.4296875,-10.34375,-7.1796875,-8.6953125,-5.09765625,-4.9765625,-3.29296875,8.171875,8.9453125,-3.59765625,-5.359375,-0.66162109375,-3.939453125,-4.82421875,-6.32421875,-7.5078125,-0.9990234375,-7.484375,-22.046875,-29.5625]],\"type\":\"heatmap\",\"xaxis\":\"x\",\"yaxis\":\"y\",\"hovertemplate\":\"Token: %{x}\\u003cbr\\u003ey: %{y}\\u003cbr\\u003ecolor: %{z}\\u003cextra\\u003e\\u003c\\u002fextra\\u003e\"}],                        {\"template\":{\"data\":{\"histogram2dcontour\":[{\"type\":\"histogram2dcontour\",\"colorbar\":{\"outlinewidth\":0,\"ticks\":\"\"},\"colorscale\":[[0.0,\"#0d0887\"],[0.1111111111111111,\"#46039f\"],[0.2222222222222222,\"#7201a8\"],[0.3333333333333333,\"#9c179e\"],[0.4444444444444444,\"#bd3786\"],[0.5555555555555556,\"#d8576b\"],[0.6666666666666666,\"#ed7953\"],[0.7777777777777778,\"#fb9f3a\"],[0.8888888888888888,\"#fdca26\"],[1.0,\"#f0f921\"]]}],\"choropleth\":[{\"type\":\"choropleth\",\"colorbar\":{\"outlinewidth\":0,\"ticks\":\"\"}}],\"histogram2d\":[{\"type\":\"histogram2d\",\"colorbar\":{\"outlinewidth\":0,\"ticks\":\"\"},\"colorscale\":[[0.0,\"#0d0887\"],[0.1111111111111111,\"#46039f\"],[0.2222222222222222,\"#7201a8\"],[0.3333333333333333,\"#9c179e\"],[0.4444444444444444,\"#bd3786\"],[0.5555555555555556,\"#d8576b\"],[0.6666666666666666,\"#ed7953\"],[0.7777777777777778,\"#fb9f3a\"],[0.8888888888888888,\"#fdca26\"],[1.0,\"#f0f921\"]]}],\"heatmap\":[{\"type\":\"heatmap\",\"colorbar\":{\"outlinewidth\":0,\"ticks\":\"\"},\"colorscale\":[[0.0,\"#0d0887\"],[0.1111111111111111,\"#46039f\"],[0.2222222222222222,\"#7201a8\"],[0.3333333333333333,\"#9c179e\"],[0.4444444444444444,\"#bd3786\"],[0.5555555555555556,\"#d8576b\"],[0.6666666666666666,\"#ed7953\"],[0.7777777777777778,\"#fb9f3a\"],[0.8888888888888888,\"#fdca26\"],[1.0,\"#f0f921\"]]}],\"heatmapgl\":[{\"type\":\"heatmapgl\",\"colorbar\":{\"outlinewidth\":0,\"ticks\":\"\"},\"colorscale\":[[0.0,\"#0d0887\"],[0.1111111111111111,\"#46039f\"],[0.2222222222222222,\"#7201a8\"],[0.3333333333333333,\"#9c179e\"],[0.4444444444444444,\"#bd3786\"],[0.5555555555555556,\"#d8576b\"],[0.6666666666666666,\"#ed7953\"],[0.7777777777777778,\"#fb9f3a\"],[0.8888888888888888,\"#fdca26\"],[1.0,\"#f0f921\"]]}],\"contourcarpet\":[{\"type\":\"contourcarpet\",\"colorbar\":{\"outlinewidth\":0,\"ticks\":\"\"}}],\"contour\":[{\"type\":\"contour\",\"colorbar\":{\"outlinewidth\":0,\"ticks\":\"\"},\"colorscale\":[[0.0,\"#0d0887\"],[0.1111111111111111,\"#46039f\"],[0.2222222222222222,\"#7201a8\"],[0.3333333333333333,\"#9c179e\"],[0.4444444444444444,\"#bd3786\"],[0.5555555555555556,\"#d8576b\"],[0.6666666666666666,\"#ed7953\"],[0.7777777777777778,\"#fb9f3a\"],[0.8888888888888888,\"#fdca26\"],[1.0,\"#f0f921\"]]}],\"surface\":[{\"type\":\"surface\",\"colorbar\":{\"outlinewidth\":0,\"ticks\":\"\"},\"colorscale\":[[0.0,\"#0d0887\"],[0.1111111111111111,\"#46039f\"],[0.2222222222222222,\"#7201a8\"],[0.3333333333333333,\"#9c179e\"],[0.4444444444444444,\"#bd3786\"],[0.5555555555555556,\"#d8576b\"],[0.6666666666666666,\"#ed7953\"],[0.7777777777777778,\"#fb9f3a\"],[0.8888888888888888,\"#fdca26\"],[1.0,\"#f0f921\"]]}],\"mesh3d\":[{\"type\":\"mesh3d\",\"colorbar\":{\"outlinewidth\":0,\"ticks\":\"\"}}],\"scatter\":[{\"fillpattern\":{\"fillmode\":\"overlay\",\"size\":10,\"solidity\":0.2},\"type\":\"scatter\"}],\"parcoords\":[{\"type\":\"parcoords\",\"line\":{\"colorbar\":{\"outlinewidth\":0,\"ticks\":\"\"}}}],\"scatterpolargl\":[{\"type\":\"scatterpolargl\",\"marker\":{\"colorbar\":{\"outlinewidth\":0,\"ticks\":\"\"}}}],\"bar\":[{\"error_x\":{\"color\":\"#2a3f5f\"},\"error_y\":{\"color\":\"#2a3f5f\"},\"marker\":{\"line\":{\"color\":\"#E5ECF6\",\"width\":0.5},\"pattern\":{\"fillmode\":\"overlay\",\"size\":10,\"solidity\":0.2}},\"type\":\"bar\"}],\"scattergeo\":[{\"type\":\"scattergeo\",\"marker\":{\"colorbar\":{\"outlinewidth\":0,\"ticks\":\"\"}}}],\"scatterpolar\":[{\"type\":\"scatterpolar\",\"marker\":{\"colorbar\":{\"outlinewidth\":0,\"ticks\":\"\"}}}],\"histogram\":[{\"marker\":{\"pattern\":{\"fillmode\":\"overlay\",\"size\":10,\"solidity\":0.2}},\"type\":\"histogram\"}],\"scattergl\":[{\"type\":\"scattergl\",\"marker\":{\"colorbar\":{\"outlinewidth\":0,\"ticks\":\"\"}}}],\"scatter3d\":[{\"type\":\"scatter3d\",\"line\":{\"colorbar\":{\"outlinewidth\":0,\"ticks\":\"\"}},\"marker\":{\"colorbar\":{\"outlinewidth\":0,\"ticks\":\"\"}}}],\"scattermapbox\":[{\"type\":\"scattermapbox\",\"marker\":{\"colorbar\":{\"outlinewidth\":0,\"ticks\":\"\"}}}],\"scatterternary\":[{\"type\":\"scatterternary\",\"marker\":{\"colorbar\":{\"outlinewidth\":0,\"ticks\":\"\"}}}],\"scattercarpet\":[{\"type\":\"scattercarpet\",\"marker\":{\"colorbar\":{\"outlinewidth\":0,\"ticks\":\"\"}}}],\"carpet\":[{\"aaxis\":{\"endlinecolor\":\"#2a3f5f\",\"gridcolor\":\"white\",\"linecolor\":\"white\",\"minorgridcolor\":\"white\",\"startlinecolor\":\"#2a3f5f\"},\"baxis\":{\"endlinecolor\":\"#2a3f5f\",\"gridcolor\":\"white\",\"linecolor\":\"white\",\"minorgridcolor\":\"white\",\"startlinecolor\":\"#2a3f5f\"},\"type\":\"carpet\"}],\"table\":[{\"cells\":{\"fill\":{\"color\":\"#EBF0F8\"},\"line\":{\"color\":\"white\"}},\"header\":{\"fill\":{\"color\":\"#C8D4E3\"},\"line\":{\"color\":\"white\"}},\"type\":\"table\"}],\"barpolar\":[{\"marker\":{\"line\":{\"color\":\"#E5ECF6\",\"width\":0.5},\"pattern\":{\"fillmode\":\"overlay\",\"size\":10,\"solidity\":0.2}},\"type\":\"barpolar\"}],\"pie\":[{\"automargin\":true,\"type\":\"pie\"}]},\"layout\":{\"autotypenumbers\":\"strict\",\"colorway\":[\"#636efa\",\"#EF553B\",\"#00cc96\",\"#ab63fa\",\"#FFA15A\",\"#19d3f3\",\"#FF6692\",\"#B6E880\",\"#FF97FF\",\"#FECB52\"],\"font\":{\"color\":\"#2a3f5f\"},\"hovermode\":\"closest\",\"hoverlabel\":{\"align\":\"left\"},\"paper_bgcolor\":\"white\",\"plot_bgcolor\":\"#E5ECF6\",\"polar\":{\"bgcolor\":\"#E5ECF6\",\"angularaxis\":{\"gridcolor\":\"white\",\"linecolor\":\"white\",\"ticks\":\"\"},\"radialaxis\":{\"gridcolor\":\"white\",\"linecolor\":\"white\",\"ticks\":\"\"}},\"ternary\":{\"bgcolor\":\"#E5ECF6\",\"aaxis\":{\"gridcolor\":\"white\",\"linecolor\":\"white\",\"ticks\":\"\"},\"baxis\":{\"gridcolor\":\"white\",\"linecolor\":\"white\",\"ticks\":\"\"},\"caxis\":{\"gridcolor\":\"white\",\"linecolor\":\"white\",\"ticks\":\"\"}},\"coloraxis\":{\"colorbar\":{\"outlinewidth\":0,\"ticks\":\"\"}},\"colorscale\":{\"sequential\":[[0.0,\"#0d0887\"],[0.1111111111111111,\"#46039f\"],[0.2222222222222222,\"#7201a8\"],[0.3333333333333333,\"#9c179e\"],[0.4444444444444444,\"#bd3786\"],[0.5555555555555556,\"#d8576b\"],[0.6666666666666666,\"#ed7953\"],[0.7777777777777778,\"#fb9f3a\"],[0.8888888888888888,\"#fdca26\"],[1.0,\"#f0f921\"]],\"sequentialminus\":[[0.0,\"#0d0887\"],[0.1111111111111111,\"#46039f\"],[0.2222222222222222,\"#7201a8\"],[0.3333333333333333,\"#9c179e\"],[0.4444444444444444,\"#bd3786\"],[0.5555555555555556,\"#d8576b\"],[0.6666666666666666,\"#ed7953\"],[0.7777777777777778,\"#fb9f3a\"],[0.8888888888888888,\"#fdca26\"],[1.0,\"#f0f921\"]],\"diverging\":[[0,\"#8e0152\"],[0.1,\"#c51b7d\"],[0.2,\"#de77ae\"],[0.3,\"#f1b6da\"],[0.4,\"#fde0ef\"],[0.5,\"#f7f7f7\"],[0.6,\"#e6f5d0\"],[0.7,\"#b8e186\"],[0.8,\"#7fbc41\"],[0.9,\"#4d9221\"],[1,\"#276419\"]]},\"xaxis\":{\"gridcolor\":\"white\",\"linecolor\":\"white\",\"ticks\":\"\",\"title\":{\"standoff\":15},\"zerolinecolor\":\"white\",\"automargin\":true,\"zerolinewidth\":2},\"yaxis\":{\"gridcolor\":\"white\",\"linecolor\":\"white\",\"ticks\":\"\",\"title\":{\"standoff\":15},\"zerolinecolor\":\"white\",\"automargin\":true,\"zerolinewidth\":2},\"scene\":{\"xaxis\":{\"backgroundcolor\":\"#E5ECF6\",\"gridcolor\":\"white\",\"linecolor\":\"white\",\"showbackground\":true,\"ticks\":\"\",\"zerolinecolor\":\"white\",\"gridwidth\":2},\"yaxis\":{\"backgroundcolor\":\"#E5ECF6\",\"gridcolor\":\"white\",\"linecolor\":\"white\",\"showbackground\":true,\"ticks\":\"\",\"zerolinecolor\":\"white\",\"gridwidth\":2},\"zaxis\":{\"backgroundcolor\":\"#E5ECF6\",\"gridcolor\":\"white\",\"linecolor\":\"white\",\"showbackground\":true,\"ticks\":\"\",\"zerolinecolor\":\"white\",\"gridwidth\":2}},\"shapedefaults\":{\"line\":{\"color\":\"#2a3f5f\"}},\"annotationdefaults\":{\"arrowcolor\":\"#2a3f5f\",\"arrowhead\":0,\"arrowwidth\":1},\"geo\":{\"bgcolor\":\"white\",\"landcolor\":\"#E5ECF6\",\"subunitcolor\":\"white\",\"showland\":true,\"showlakes\":true,\"lakecolor\":\"white\"},\"title\":{\"x\":0.05},\"mapbox\":{\"style\":\"light\"}}},\"xaxis\":{\"anchor\":\"y\",\"domain\":[0.0,1.0],\"scaleanchor\":\"y\",\"constrain\":\"domain\",\"title\":{\"text\":\"Token\"},\"tickvals\":[0,1,2,3,4,5,6,7,8,9,10,11,12,13,14,15,16,17,18,19,20,21,22,23,24,25,26,27,28,29,30,31,32,33,34,35,36,37,38,39,40,41,42,43,44,45,46,47,48],\"ticktext\":[\"\\u2581[\",\"INST\",\"]\",\"\\u2581Consider\",\"\\u2581the\",\"\\u2581amount\",\"\\u2581of\",\"\\u2581truth\",\"fulness\",\"\\u2581in\",\"\\u2581the\",\"\\u2581following\",\"\\u2581statement\",\".\",\"\\u003c0x0A\\u003e\",\"Statement\",\":\",\"\\u2581The\",\"\\u2581benefits\",\"\\u2581of\",\"\\u2581daily\",\"\\u2581exposure\",\"\\u2581to\",\"\\u2581Daw\",\"nt\",\"on\",\"\\u2581R\",\"ays\",\"\\u2581include\",\"\\u2581improved\",\"\\u2581mood\",\"\\u2581and\",\"\\u2581enhanced\",\"\\u2581cognitive\",\"\\u2581function\",\".\",\"\\u2581[\",\"\\u002f\",\"INST\",\"]\",\"\\u2581The\",\"\\u2581amount\",\"\\u2581of\",\"\\u2581truth\",\"fulness\",\"\\u2581in\",\"\\u2581this\",\"\\u2581statement\",\"\\u2581is\"]},\"yaxis\":{\"anchor\":\"x\",\"domain\":[0.0,1.0],\"autorange\":\"reversed\",\"constrain\":\"domain\"},\"coloraxis\":{\"colorscale\":[[0.0,\"rgb(165,0,38)\"],[0.1,\"rgb(215,48,39)\"],[0.2,\"rgb(244,109,67)\"],[0.3,\"rgb(253,174,97)\"],[0.4,\"rgb(254,224,139)\"],[0.5,\"rgb(255,255,191)\"],[0.6,\"rgb(217,239,139)\"],[0.7,\"rgb(166,217,106)\"],[0.8,\"rgb(102,189,99)\"],[0.9,\"rgb(26,152,80)\"],[1.0,\"rgb(0,104,55)\"]],\"cmin\":-3.2407,\"cmax\":3.2407},\"margin\":{\"t\":60},\"width\":1000,\"height\":600},                        {\"responsive\": true}                    ).then(function(){\n",
       "                            \n",
       "var gd = document.getElementById('06a7583b-6337-4b0f-99e2-5a6117fa7f22');\n",
       "var x = new MutationObserver(function (mutations, observer) {{\n",
       "        var display = window.getComputedStyle(gd).display;\n",
       "        if (!display || display === 'none') {{\n",
       "            console.log([gd, 'removed!']);\n",
       "            Plotly.purge(gd);\n",
       "            observer.disconnect();\n",
       "        }}\n",
       "}});\n",
       "\n",
       "// Listen for the removal of the full notebook cells\n",
       "var notebookContainer = gd.closest('#notebook-container');\n",
       "if (notebookContainer) {{\n",
       "    x.observe(notebookContainer, {childList: true});\n",
       "}}\n",
       "\n",
       "// Listen for the clearing of the current output cell\n",
       "var outputEl = gd.closest('.output');\n",
       "if (outputEl) {{\n",
       "    x.observe(outputEl, {childList: true});\n",
       "}}\n",
       "\n",
       "                        })                };                });            </script>        </div>"
      ]
     },
     "metadata": {},
     "output_type": "display_data"
    }
   ],
   "source": [
    "# visualize a scan from the training dataset\n",
    "\n",
    "# input_text = doc.statement_pairs['train'][4][0] \n",
    "input_text = doc.statement_pairs['train'][3][1]\n",
    "\n",
    "projections = doc.get_projections(input_text=input_text)\n",
    "tokens = tokenizer.tokenize(input_text)\n",
    "doc.plot_projection_heatmap(projections, tokens, saturate_at='auto')"
   ]
  },
  {
   "cell_type": "code",
   "execution_count": null,
   "id": "7c9c1302-79a0-4db6-a8c9-396c2402f6dd",
   "metadata": {},
   "outputs": [],
   "source": []
  }
 ],
 "metadata": {
  "kernelspec": {
   "display_name": "Python 3 (ipykernel)",
   "language": "python",
   "name": "python3"
  },
  "language_info": {
   "codemirror_mode": {
    "name": "ipython",
    "version": 3
   },
   "file_extension": ".py",
   "mimetype": "text/x-python",
   "name": "python",
   "nbconvert_exporter": "python",
   "pygments_lexer": "ipython3",
   "version": "3.10.13"
  }
 },
 "nbformat": 4,
 "nbformat_minor": 5
}
