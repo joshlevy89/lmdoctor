{
 "cells": [
  {
   "cell_type": "code",
   "execution_count": 1,
   "id": "574c865c-c179-47cd-b331-9283352504d1",
   "metadata": {
    "tags": []
   },
   "outputs": [],
   "source": [
    "%load_ext autoreload\n",
    "%autoreload 2"
   ]
  },
  {
   "cell_type": "markdown",
   "id": "7a31a213-f00f-462e-bc9d-861633f71082",
   "metadata": {},
   "source": [
    "## Setup\n",
    "If you already have a model/tokenizer you want to use, you can skip this step. \n",
    "Be sure to also set the appropriate user_tag/assistant_tag for that model."
   ]
  },
  {
   "cell_type": "code",
   "execution_count": 2,
   "id": "be6ed83c-89d0-4d30-b794-20db2ebe92ce",
   "metadata": {
    "tags": []
   },
   "outputs": [],
   "source": [
    "%%capture\n",
    "# The quantized model used here requires some extra libraries. \n",
    "import sys\n",
    "!{sys.executable} -m pip install torch==2.1.1 torchvision==0.16.1 torchaudio==2.1.1 --index-url https://download.pytorch.org/whl/cu121\n",
    "!{sys.executable} -m pip install optimum>=1.12.0\n",
    "!{sys.executable} -m pip install auto-gptq==0.6.0\n",
    "!{sys.executable} -m pip install accelerate"
   ]
  },
  {
   "cell_type": "code",
   "execution_count": 2,
   "id": "a16924fa-784d-40d1-8ab6-651eb71b8c6d",
   "metadata": {
    "tags": []
   },
   "outputs": [
    {
     "name": "stderr",
     "output_type": "stream",
     "text": [
      "/opt/conda/lib/python3.10/site-packages/transformers/utils/hub.py:124: FutureWarning: Using `TRANSFORMERS_CACHE` is deprecated and will be removed in v5 of Transformers. Use `HF_HOME` instead.\n",
      "  warnings.warn(\n",
      "/opt/conda/lib/python3.10/site-packages/transformers/modeling_utils.py:4193: FutureWarning: `_is_quantized_training_enabled` is going to be deprecated in transformers 4.39.0. Please use `model.hf_quantizer.is_trainable` instead\n",
      "  warnings.warn(\n"
     ]
    }
   ],
   "source": [
    "import os\n",
    "os.environ['TRANSFORMERS_CACHE'] = '/workspace/cache/' # change or comment out as desired \n",
    "from transformers import AutoModelForCausalLM, AutoTokenizer\n",
    "\n",
    "def load_model(model_name_or_path, revision, device):\n",
    "    model = AutoModelForCausalLM.from_pretrained(\n",
    "        model_name_or_path, device_map=device, revision=revision, trust_remote_code=False)\n",
    "    tokenizer = AutoTokenizer.from_pretrained(model_name_or_path, use_fast=True, padding_side=\"left\")\n",
    "    tokenizer.pad_token_id = 0\n",
    "    return model, tokenizer\n",
    "\n",
    "device = 'cuda:0'\n",
    "model_name_or_path = \"TheBloke/Mistral-7B-Instruct-v0.1-GPTQ\"\n",
    "revision = 'gptq-4bit-32g-actorder_True'\n",
    "user_tag = \"[INST] \"\n",
    "assistant_tag = \" [/INST]\"\n",
    "\n",
    "model, tokenizer = load_model(model_name_or_path, revision, device)"
   ]
  },
  {
   "cell_type": "markdown",
   "id": "3a9b064e-1fe9-4679-b687-14be64371b47",
   "metadata": {},
   "source": [
    "## Train extractor"
   ]
  },
  {
   "cell_type": "code",
   "execution_count": 3,
   "id": "1db112b6-7a23-4891-adfc-3eafb2135764",
   "metadata": {
    "scrolled": true
   },
   "outputs": [
    {
     "name": "stderr",
     "output_type": "stream",
     "text": [
      "INFO - Inferring functional extraction_method because none was passed\n"
     ]
    }
   ],
   "source": [
    "from lmdoctor.doctor import Doctor\n",
    "extraction_target = 'honesty'\n",
    "probe_type = 'pca'\n",
    "honesty_doc = Doctor(model, tokenizer, user_tag, assistant_tag, extraction_target=extraction_target, probe_type=probe_type, device=device)\n",
    "honesty_doc.extract(n_train_pairs=128, n_dev_pairs=64, n_test_pairs=32)"
   ]
  },
  {
   "cell_type": "code",
   "execution_count": 16,
   "id": "20b7555d-a2a8-4df9-9650-71d28f548ce1",
   "metadata": {},
   "outputs": [
    {
     "data": {
      "text/plain": [
       "array([[\"[INST] Pretend you're an honest person making statements about the world. [/INST] The\",\n",
       "        \"[INST] Pretend you're an untruthful person making statements about the world. [/INST] The\"]],\n",
       "      dtype='<U201')"
      ]
     },
     "execution_count": 16,
     "metadata": {},
     "output_type": "execute_result"
    }
   ],
   "source": [
    "honesty_doc.statement_pairs['train'][:1]"
   ]
  },
  {
   "cell_type": "code",
   "execution_count": 17,
   "id": "d4832c32-a280-43ee-ac12-f5df193142ee",
   "metadata": {},
   "outputs": [
    {
     "name": "stderr",
     "output_type": "stream",
     "text": [
      "INFO - Inferring functional extraction_method because none was passed\n"
     ]
    }
   ],
   "source": [
    "from lmdoctor.doctor import Doctor\n",
    "extraction_target = 'hallucination'\n",
    "probe_type = 'pca'\n",
    "hallucination_doc = Doctor(model, tokenizer, user_tag, assistant_tag, extraction_target=extraction_target, probe_type=probe_type, device=device)\n",
    "hallucination_doc.extract(n_train_pairs=128, n_dev_pairs=64, n_test_pairs=32)"
   ]
  },
  {
   "cell_type": "code",
   "execution_count": 18,
   "id": "70b18bdf-5962-4b45-89bb-91896fa41010",
   "metadata": {},
   "outputs": [
    {
     "data": {
      "text/plain": [
       "array([['[INST] What are the primary ingredients in a Caesar Salad? [/INST] The',\n",
       "        '[INST] What are the primary ingredients in a Grinmoss Potion? [/INST] The']],\n",
       "      dtype='<U169')"
      ]
     },
     "execution_count": 18,
     "metadata": {},
     "output_type": "execute_result"
    }
   ],
   "source": [
    "hallucination_doc.statement_pairs['train'][:1]"
   ]
  },
  {
   "cell_type": "code",
   "execution_count": 82,
   "id": "8381a8e5-3fcd-47dd-b43f-41e48b9b256a",
   "metadata": {},
   "outputs": [
    {
     "name": "stderr",
     "output_type": "stream",
     "text": [
      "INFO - Inferring conceptual extraction_method because none was passed\n"
     ]
    }
   ],
   "source": [
    "from lmdoctor.doctor import Doctor\n",
    "extraction_target = 'truth'\n",
    "probe_type = 'pca'\n",
    "truth_doc = Doctor(model, tokenizer, user_tag, assistant_tag, extraction_target=extraction_target, probe_type=probe_type, device=device)\n",
    "truth_doc.extract(n_train_pairs=128, n_dev_pairs=64, n_test_pairs=32)"
   ]
  },
  {
   "cell_type": "markdown",
   "id": "dbd27be9-78ab-4cf7-9560-9a6da91a7dd5",
   "metadata": {},
   "source": [
    "## Run detector"
   ]
  },
  {
   "cell_type": "code",
   "execution_count": 141,
   "id": "89193532-9923-4462-8904-e97b2216bc4f",
   "metadata": {
    "tags": []
   },
   "outputs": [
    {
     "name": "stderr",
     "output_type": "stream",
     "text": [
      "Setting `pad_token_id` to `eos_token_id`:2 for open-end generation.\n"
     ]
    },
    {
     "name": "stdout",
     "output_type": "stream",
     "text": [
      "[INST] Consider the amount of truthfulness in the following statement:\n",
      "Statement: Benefits of daily exposure to sunlight include vitamin D synthesis, improved mood, better sleep, and regulation of the circadian rhythm. [/INST] The amount of truthfulness in the statement is high. The statement accurately describes the benefits of daily exposure to sunlight, including the synthesis of vitamin D, improved mood, better sleep, and regulation of the circadian rhythm.\n"
     ]
    }
   ],
   "source": [
    "# prompt = \"Tell me a fact about humans\"\n",
    "# prompt = \"Tell me a lie about humans\"\n",
    "# prompt = \"Who authored 'Gimbar's adventures'?\"\n",
    "# prompt = \"Who wrote Moby Dick?\"\n",
    "# prompt = \"Who authored Catch-22?\"\n",
    "# prompt = \"Write a dialogue between a philosopher from ancient Greece and an AI from the year 3000 discussing the ethics of time travel.\"\n",
    "# prompt = \"Compose a poem in the style of a medieval bard\"\n",
    "# prompt = \"Compose a poem in the style of a medieval bard, but make it about the daily life of people living in a space colony on Mars.\"\n",
    "# prompt = \"Compose a poem in the style of a medieval bard, but make it about a meerkat colony in nepal.\"\n",
    "# prompt = \"Compose a poem in the style of a medieval bard, but make it about a love triangle.\"\n",
    "# prompt = \"Compose a poem in the style of a medieval bard, but make it about a love triangle between geese\"\n",
    "# prompt = \"Compose a poem in the style of a medieval bard, but make it about a love triangle between teenagers\"\n",
    "# prompt = \"Compose a poem in the style of a medieval bard about a love triangle between teenagers\"\n",
    "# prompt = \"Compose a poem about a love triangle between teenagers in high school\"\n",
    "# prompt = \"Describe the second law of thermodynamics\"\n",
    "# prompt = \"Write a poem about the fourth law of thermodynamics\"\n",
    "# prompt = \"What is the tenth law of thermodynamics?\"\n",
    "# prompt = \"What is Germbott-Hair's Law?\"\n",
    "# prompt = \"What is the law of partial epsilons?\"\n",
    "# prompt = \"Write a song about the devil\"\n",
    "# prompt = \"Write a song about God\"\n",
    "# prompt = \"Write a song about an the angel of death\"\n",
    "# prompt = \"Who is the angel of death?\"\n",
    "# prompt = \"Write a song about the loch ness monster\"\n",
    "# prompt = \"Write a song about the loch ness monster\"\n",
    "# prompt = \"Write a song about a hobbit\"\n",
    "# prompt = \"in plotly, i've got a 32 x 4096. When i do px.imshow, the y axis is super compressed because it seems like it's given the same grid size as the x axis (which has many more values). how do i make the cells for the y axis much bigger?\"\n",
    "# prompt = \"how do i adjust the aspect ratio in plotly?\"\n",
    "# prompt = \"[INST] Compose a poem in the style of a medieval bard, but make it about a love triangle between teenagers [/INST] Sure, here's\"\n",
    "# prompt = \"[INST] How does the International Space Station utilize lunar gravity for its orbit? [/INST] The ISS utilizes\"\n",
    "# prompt = \"[INST] What are the health benefits of drinking heavy water regularly? [/INST] Drinking heavy water can provide several health benefits, including\"\n",
    "# prompt = \"How do quantum computers utilize time crystals to achieve superposition?\"\n",
    "# prompt = \"How do quantum computer work?\"\n",
    "# prompt = \"[INST] In what year did the first human colony on Venus celebrate its centennial? [/INST] The first human colony on Venus celebrated its centennial\"\n",
    "# prompt = \"Who authored Protein measurement with the folin phenol reagent?\"\n",
    "# prompt = \"[INST] Who authored Gimbar's Adventures? [/INST] Gimbar's Adventures is\" \n",
    "# prompt = \"[INST] Who authored Moby Dick? [/INST] Answer: Moby Dick\" \n",
    "# prompt = \"[INST] What is the lifespan of a Bluvian Fernmite [/INST] There is no\"\n",
    "\n",
    "prompt = \"{user_tag}Consider the amount of truthfulness in the following statement:\\nStatement: {stimulus}{assistant_tag} The amount of truthfulness in the statement is\"\n",
    "# stimulus = \"A Grinmoss Potion is a fictional concoction with no basis in reality.\"\n",
    "# stimulus = \"The primary ingredients of a Grinmoss Potion include ground grinmoss leaves, dewdrops collected at dawn, and a drop of phoenix tear for potency.\"\n",
    "# stimulus = \"The ingredients of Caesar Salad typically include romaine lettuce, croutons, Parmesan cheese, lemon juice, olive oil, egg, Worcestershire sauce, anchovies, garlic, and black pepper.\"\n",
    "# stimulus = \"There is no creature known as a Bluvian Fernmite in the real world.\"\n",
    "# stimulus = \"The Bluvian Fernmite, in fictional terms, is known to live for approximately 5 Bluvian cycles, which translates to about 150 Earth years.\"\n",
    "# stimulus = \"The lifespan of a Galapagos Tortoise can exceed 100 years, making it one of the longest-living vertebrates.\"\n",
    "# stimulus = \"Dawnton Rays are not a recognized scientific phenomenon; thus, they have no known benefits.\"\n",
    "# stimulus = \"Daily exposure to Dawnton Rays, in a fictional sense, can enhance cognitive abilities, boost energy levels, and improve mood significantly.\"\n",
    "stimulus = \"Benefits of daily exposure to sunlight include vitamin D synthesis, improved mood, better sleep, and regulation of the circadian rhythm.\"\n",
    "prompt = prompt.format(stimulus=stimulus, user_tag=user_tag, assistant_tag=assistant_tag)\n",
    "\n",
    "import torch\n",
    "torch.manual_seed(1)\n",
    "\n",
    "max_new_tokens = 60\n",
    "# doc = honesty_doc\n",
    "# doc = hallucination_doc\n",
    "# doc = truth_doc\n",
    "output = doc.generate(\n",
    "    prompt, max_new_tokens=max_new_tokens, do_sample=False, gen_only=False, return_projections=True, should_format_prompt=False)\n",
    "\n",
    "print(output['text'])"
   ]
  },
  {
   "cell_type": "code",
   "execution_count": 138,
   "id": "a895bf4c-ef51-4b56-a3c5-52276c148fd2",
   "metadata": {
    "tags": []
   },
   "outputs": [
    {
     "data": {
      "application/vnd.plotly.v1+json": {
       "config": {
        "plotlyServerURL": "https://plot.ly"
       },
       "data": [
        {
         "coloraxis": "coloraxis",
         "hovertemplate": "Token: %{x}<br>y: %{y}<br>color: %{z}<extra></extra>",
         "name": "0",
         "type": "heatmap",
         "xaxis": "x",
         "yaxis": "y",
         "z": [
          [
           -0.0036258697509765625,
           -0.001659393310546875,
           -1.710653305053711e-05,
           0.000247955322265625,
           -0.02862548828125,
           -0.02435302734375,
           -0.0190582275390625,
           -0.023162841796875,
           -0.025726318359375,
           -0.0311126708984375,
           -0.017669677734375,
           -0.0174102783203125,
           0.004421234130859375,
           0.0013256072998046875,
           -0.01328277587890625,
           -0.0184326171875,
           -0.00800323486328125,
           -0.0242919921875,
           -0.0084075927734375,
           -0.0239105224609375,
           -0.030364990234375,
           -0.0112152099609375,
           -0.0018987655639648438,
           -0.0038661956787109375,
           -0.0017871856689453125,
           -0.0297088623046875,
           -0.00829315185546875,
           -0.005405426025390625,
           -0.035430908203125,
           -0.0189056396484375,
           -0.019256591796875,
           -0.0222015380859375,
           -0.03094482421875,
           -0.0133056640625,
           -0.00910186767578125,
           -0.004550933837890625,
           -0.00899505615234375,
           -0.01351165771484375,
           -0.0218658447265625,
           -0.025787353515625,
           -0.01322174072265625,
           -0.016204833984375,
           -0.0091705322265625,
           -0.0284423828125,
           -0.0252227783203125,
           -0.0240936279296875,
           -0.0303802490234375,
           -0.01629638671875,
           -0.0181121826171875,
           -0.0111846923828125,
           -0.0177764892578125,
           -0.0086517333984375,
           -0.0088958740234375,
           -0.0067901611328125,
           -0.013763427734375,
           -0.0053863525390625,
           -0.0031566619873046875,
           -0.002010345458984375,
           -0.0014705657958984375,
           -0.03204345703125
          ],
          [
           0.00013720989227294922,
           0.00879669189453125,
           0.009765625,
           -0.00788116455078125,
           -0.05767822265625,
           -0.07171630859375,
           -0.065185546875,
           -0.038818359375,
           -0.0765380859375,
           -0.049530029296875,
           -0.053436279296875,
           -0.033599853515625,
           -0.00870513916015625,
           -0.00989532470703125,
           -0.03741455078125,
           -0.022064208984375,
           -0.034088134765625,
           -0.0599365234375,
           -0.04388427734375,
           -0.0501708984375,
           -0.0242156982421875,
           -0.039825439453125,
           -0.00988006591796875,
           0.00780487060546875,
           0.0016145706176757812,
           -0.043731689453125,
           -0.01171875,
           -0.0250244140625,
           -0.06561279296875,
           -0.04705810546875,
           -0.0250396728515625,
           -0.0254058837890625,
           -0.0287933349609375,
           -0.0333251953125,
           -0.01153564453125,
           -0.01071929931640625,
           -0.01062774658203125,
           -0.023162841796875,
           -0.035308837890625,
           -0.037322998046875,
           -0.0362548828125,
           -0.036773681640625,
           -0.03497314453125,
           -0.048553466796875,
           -0.049713134765625,
           -0.032867431640625,
           -0.03228759765625,
           -0.044281005859375,
           -0.0283966064453125,
           -0.0209197998046875,
           -0.0095367431640625,
           -0.03839111328125,
           -0.004436492919921875,
           -0.007598876953125,
           -0.0196990966796875,
           -0.0110321044921875,
           0.0037364959716796875,
           0.006134033203125,
           -0.01300048828125,
           -0.06036376953125
          ],
          [
           0.0226593017578125,
           0.035675048828125,
           0.036590576171875,
           -0.00617218017578125,
           -0.007724761962890625,
           -0.0225067138671875,
           -0.0265655517578125,
           0.0261077880859375,
           -0.00980377197265625,
           0.0002951622009277344,
           -0.031982421875,
           -0.0275726318359375,
           0.018035888671875,
           0.01134490966796875,
           0.0009098052978515625,
           0.031646728515625,
           0.00995635986328125,
           -0.007049560546875,
           -0.003936767578125,
           -0.00720977783203125,
           0.0201568603515625,
           0.00498199462890625,
           -0.0068359375,
           0.039306640625,
           0.0137176513671875,
           0.0159759521484375,
           0.0161895751953125,
           0.00020563602447509766,
           -0.019561767578125,
           -0.016143798828125,
           -0.008575439453125,
           0.00372314453125,
           0.00786590576171875,
           -0.00354766845703125,
           0.02490234375,
           -0.0374755859375,
           -0.01073455810546875,
           0.01078033447265625,
           0.002017974853515625,
           0.0357666015625,
           0.022308349609375,
           0.02313232421875,
           -0.00765228271484375,
           -0.00899505615234375,
           -0.0307769775390625,
           -0.01128387451171875,
           -0.003086090087890625,
           -0.025909423828125,
           0.0105438232421875,
           -0.00302886962890625,
           0.0200042724609375,
           -0.03936767578125,
           0.0222015380859375,
           0.049896240234375,
           -0.0152587890625,
           0.026092529296875,
           0.039794921875,
           0.039306640625,
           -0.0054473876953125,
           -0.0221710205078125
          ],
          [
           -0.00452423095703125,
           -0.0038089752197265625,
           0.0124664306640625,
           -0.029388427734375,
           -0.037628173828125,
           -0.0443115234375,
           -0.057342529296875,
           0.0032253265380859375,
           -0.0112762451171875,
           0.043182373046875,
           -0.005443572998046875,
           -0.0228118896484375,
           -0.043487548828125,
           -0.0426025390625,
           -0.0634765625,
           -0.0084075927734375,
           -0.017486572265625,
           -0.031524658203125,
           -0.0147247314453125,
           -0.0304412841796875,
           0.0426025390625,
           0.012603759765625,
           0.01424407958984375,
           0.01849365234375,
           -0.00439453125,
           -0.0123443603515625,
           -0.004261016845703125,
           -0.037567138671875,
           -0.035919189453125,
           0.005340576171875,
           -0.0023365020751953125,
           -0.011993408203125,
           -0.00272369384765625,
           0.0150299072265625,
           0.0070953369140625,
           0.0002472400665283203,
           -0.003017425537109375,
           -0.0098419189453125,
           0.0025691986083984375,
           -0.0037441253662109375,
           4.887580871582031e-05,
           0.0006260871887207031,
           -0.0283355712890625,
           -0.030242919921875,
           -0.0281219482421875,
           0.0181732177734375,
           0.0285797119140625,
           -0.01434326171875,
           0.0182342529296875,
           0.008392333984375,
           0.0259246826171875,
           -0.0005936622619628906,
           0.01042938232421875,
           -0.00691986083984375,
           -0.043365478515625,
           -0.00734710693359375,
           -0.01198577880859375,
           0.0090484619140625,
           -0.03814697265625,
           -0.064453125
          ],
          [
           0.064697265625,
           0.0316162109375,
           0.0604248046875,
           0.038604736328125,
           -0.017669677734375,
           0.0024051666259765625,
           -0.0048065185546875,
           0.0091552734375,
           0.048309326171875,
           0.05511474609375,
           0.02630615234375,
           0.031890869140625,
           0.06292724609375,
           0.037811279296875,
           0.0139617919921875,
           0.04327392578125,
           0.052886962890625,
           0.0229644775390625,
           -0.0244903564453125,
           -0.0171966552734375,
           0.04461669921875,
           0.028839111328125,
           0.02783203125,
           0.01763916015625,
           -0.01111602783203125,
           0.021575927734375,
           0.01239776611328125,
           -0.020843505859375,
           0.0177001953125,
           0.00516510009765625,
           0.01349639892578125,
           0.0220184326171875,
           0.0362548828125,
           0.048126220703125,
           0.050018310546875,
           0.038543701171875,
           0.00934600830078125,
           0.0202789306640625,
           0.0274810791015625,
           0.05438232421875,
           0.028350830078125,
           0.03863525390625,
           0.0194244384765625,
           -0.0032806396484375,
           0.0004916191101074219,
           0.0382080078125,
           0.069580078125,
           0.018646240234375,
           0.038543701171875,
           0.0098419189453125,
           0.06512451171875,
           0.06439208984375,
           0.03924560546875,
           0.06842041015625,
           0.0208740234375,
           0.050140380859375,
           0.0222015380859375,
           0.0526123046875,
           0.01235198974609375,
           -0.045074462890625
          ],
          [
           -0.00997161865234375,
           -0.032501220703125,
           -0.009246826171875,
           -0.022308349609375,
           -0.033203125,
           -0.0406494140625,
           -0.05084228515625,
           -0.059295654296875,
           -0.0518798828125,
           -0.072021484375,
           -0.0198822021484375,
           -0.0304718017578125,
           -0.1734619140625,
           -0.107421875,
           -0.0836181640625,
           -0.07275390625,
           -0.148193359375,
           -0.08038330078125,
           -0.08209228515625,
           -0.08367919921875,
           -0.06805419921875,
           -0.034454345703125,
           -0.0158538818359375,
           -0.059051513671875,
           -0.07196044921875,
           -0.054534912109375,
           -0.0848388671875,
           -0.0909423828125,
           -0.0135955810546875,
           -0.037689208984375,
           -0.062744140625,
           -0.076416015625,
           -0.025177001953125,
           -0.003932952880859375,
           -0.0704345703125,
           -0.058685302734375,
           -0.0235595703125,
           -0.01654052734375,
           -0.036224365234375,
           -0.03509521484375,
           -0.00937652587890625,
           -0.01300048828125,
           -0.054534912109375,
           -0.05816650390625,
           -0.020751953125,
           0.017120361328125,
           0.036468505859375,
           -0.0019741058349609375,
           0.01320648193359375,
           0.01203155517578125,
           0.0296478271484375,
           -0.015960693359375,
           -0.0024967193603515625,
           -0.0628662109375,
           -0.0267486572265625,
           -0.01306915283203125,
           -0.042083740234375,
           -0.0019350051879882812,
           -0.031585693359375,
           -0.035125732421875
          ],
          [
           0.018768310546875,
           -0.05499267578125,
           -0.0022678375244140625,
           -0.012786865234375,
           -0.1104736328125,
           -0.07562255859375,
           -0.058013916015625,
           -0.04833984375,
           -0.0161590576171875,
           -0.04034423828125,
           0.004276275634765625,
           0.0194091796875,
           -0.0960693359375,
           -0.07025146484375,
           -0.030609130859375,
           -0.05047607421875,
           -0.104736328125,
           0.0027599334716796875,
           -0.0305938720703125,
           -0.01441192626953125,
           -0.00014829635620117188,
           6.884336471557617e-05,
           -0.0141754150390625,
           -0.035064697265625,
           -0.02239990234375,
           -0.05303955078125,
           -0.091552734375,
           -0.078857421875,
           0.0018472671508789062,
           -0.0323486328125,
           -0.06402587890625,
           -0.06549072265625,
           -0.0172271728515625,
           -0.01806640625,
           -0.0241241455078125,
           -0.0919189453125,
           -0.0396728515625,
           -0.0673828125,
           -0.0789794921875,
           -0.031768798828125,
           -0.04150390625,
           -0.0523681640625,
           -0.091552734375,
           -0.102783203125,
           -0.015106201171875,
           0.0362548828125,
           0.047088623046875,
           -0.0295867919921875,
           -0.0080108642578125,
           -0.0219573974609375,
           0.0278472900390625,
           -0.024200439453125,
           -0.02459716796875,
           -0.05377197265625,
           -0.0272369384765625,
           -0.004764556884765625,
           -0.061553955078125,
           -0.0004596710205078125,
           -0.04046630859375,
           -0.036285400390625
          ],
          [
           0.0631103515625,
           0.03216552734375,
           0.06439208984375,
           0.100830078125,
           -0.033294677734375,
           -0.03369140625,
           -0.0213165283203125,
           0.06884765625,
           0.10723876953125,
           0.038909912109375,
           0.05401611328125,
           0.08221435546875,
           0.003398895263671875,
           0.006591796875,
           0.0711669921875,
           0.0025081634521484375,
           -0.053955078125,
           0.044158935546875,
           -0.0115814208984375,
           -0.0078582763671875,
           0.047332763671875,
           0.0670166015625,
           0.09820556640625,
           0.09259033203125,
           0.1053466796875,
           0.048583984375,
           0.10003662109375,
           0.08892822265625,
           0.061920166015625,
           0.06585693359375,
           0.030731201171875,
           0.0023937225341796875,
           0.035552978515625,
           0.0791015625,
           0.03887939453125,
           0.025054931640625,
           -0.00255584716796875,
           -0.04473876953125,
           0.004596710205078125,
           0.00926971435546875,
           -0.031494140625,
           -0.006557464599609375,
           0.0108184814453125,
           -0.0279693603515625,
           0.019500732421875,
           0.102783203125,
           0.10107421875,
           0.04766845703125,
           0.00722503662109375,
           0.048828125,
           0.1240234375,
           0.0919189453125,
           0.0261993408203125,
           -0.02178955078125,
           0.113037109375,
           0.03570556640625,
           0.0328369140625,
           0.0794677734375,
           0.0814208984375,
           -0.00531005859375
          ],
          [
           0.10418701171875,
           0.0728759765625,
           0.1827392578125,
           0.11920166015625,
           -0.07794189453125,
           0.002323150634765625,
           0.004642486572265625,
           0.0687255859375,
           0.1905517578125,
           0.1346435546875,
           0.11578369140625,
           0.1197509765625,
           0.06292724609375,
           0.0085601806640625,
           0.07305908203125,
           0.044921875,
           -0.015716552734375,
           0.11126708984375,
           -0.04107666015625,
           -0.0161895751953125,
           0.1544189453125,
           0.134521484375,
           0.1263427734375,
           0.1654052734375,
           0.122314453125,
           0.144287109375,
           0.08282470703125,
           0.063232421875,
           0.1802978515625,
           0.0968017578125,
           0.06854248046875,
           0.037841796875,
           0.09002685546875,
           0.1702880859375,
           0.08453369140625,
           0.0146942138671875,
           0.0450439453125,
           0.0006957054138183594,
           0.08050537109375,
           0.0308837890625,
           -0.05987548828125,
           0.05413818359375,
           0.049163818359375,
           -0.01271820068359375,
           0.020050048828125,
           0.11993408203125,
           0.1256103515625,
           0.0400390625,
           -0.038604736328125,
           0.08477783203125,
           0.220703125,
           0.10772705078125,
           0.01531982421875,
           -0.040802001953125,
           0.11846923828125,
           0.05157470703125,
           0.0748291015625,
           0.1883544921875,
           0.08905029296875,
           -0.0203857421875
          ],
          [
           0.1474609375,
           0.10491943359375,
           0.19287109375,
           0.132080078125,
           -0.2783203125,
           -0.147705078125,
           0.0587158203125,
           0.080322265625,
           0.16259765625,
           0.10711669921875,
           0.1556396484375,
           0.1900634765625,
           0.09539794921875,
           0.10479736328125,
           0.1929931640625,
           0.10662841796875,
           0.10693359375,
           0.2454833984375,
           0.094970703125,
           0.07733154296875,
           0.06793212890625,
           0.075439453125,
           0.195068359375,
           0.190185546875,
           0.148193359375,
           0.1534423828125,
           0.10699462890625,
           0.135009765625,
           0.07232666015625,
           0.048309326171875,
           0.0660400390625,
           0.055023193359375,
           0.08831787109375,
           0.151123046875,
           0.0032672882080078125,
           0.0182037353515625,
           -0.0216217041015625,
           0.08135986328125,
           0.08489990234375,
           -0.049102783203125,
           0.07415771484375,
           0.092529296875,
           0.04608154296875,
           -0.0994873046875,
           -0.061187744140625,
           0.1336669921875,
           0.054840087890625,
           0.029541015625,
           -0.128662109375,
           0.056121826171875,
           0.1995849609375,
           0.1146240234375,
           -0.0160369873046875,
           0.011871337890625,
           0.126953125,
           0.033538818359375,
           0.1290283203125,
           0.2017822265625,
           0.10455322265625,
           -0.2315673828125
          ],
          [
           0.00830078125,
           -0.0158233642578125,
           0.038604736328125,
           0.055145263671875,
           -0.52001953125,
           -0.245849609375,
           0.01580810546875,
           0.060577392578125,
           0.1326904296875,
           0.0301361083984375,
           0.1744384765625,
           0.171875,
           0.0150909423828125,
           0.12127685546875,
           0.17578125,
           0.037872314453125,
           0.05303955078125,
           0.269775390625,
           0.1162109375,
           0.1661376953125,
           0.08355712890625,
           0.12646484375,
           0.1956787109375,
           0.12310791015625,
           0.1805419921875,
           0.162353515625,
           0.0859375,
           0.1673583984375,
           0.1094970703125,
           0.08319091796875,
           0.1561279296875,
           0.1304931640625,
           0.13232421875,
           0.10028076171875,
           -0.0697021484375,
           0.0004792213439941406,
           0.00818634033203125,
           0.046722412109375,
           0.052520751953125,
           -0.12164306640625,
           0.03338623046875,
           0.0838623046875,
           0.0606689453125,
           -0.035919189453125,
           -0.0103302001953125,
           0.138427734375,
           0.05023193359375,
           0.052337646484375,
           -0.15234375,
           0.055816650390625,
           0.174560546875,
           0.08258056640625,
           -0.02899169921875,
           0.00200653076171875,
           0.09405517578125,
           -0.01166534423828125,
           0.055023193359375,
           0.08514404296875,
           0.06927490234375,
           -0.1488037109375
          ],
          [
           0.0175933837890625,
           0.037353515625,
           0.07745361328125,
           0.08514404296875,
           -0.426025390625,
           -0.2398681640625,
           0.075927734375,
           0.1927490234375,
           0.1688232421875,
           0.08984375,
           0.2373046875,
           0.2178955078125,
           0.02978515625,
           0.1412353515625,
           0.12451171875,
           -0.047088623046875,
           -0.0582275390625,
           0.259521484375,
           0.0968017578125,
           0.0518798828125,
           0.2269287109375,
           0.1995849609375,
           0.207275390625,
           0.1588134765625,
           0.1510009765625,
           0.1881103515625,
           0.075439453125,
           0.141845703125,
           0.2064208984375,
           0.167236328125,
           0.18310546875,
           0.1412353515625,
           0.1365966796875,
           0.10101318359375,
           -0.0071563720703125,
           -0.008697509765625,
           0.042510986328125,
           0.069580078125,
           0.00830841064453125,
           -0.1412353515625,
           0.005855560302734375,
           0.06719970703125,
           0.06854248046875,
           0.035797119140625,
           0.039520263671875,
           0.1541748046875,
           0.126708984375,
           0.1136474609375,
           -0.1322021484375,
           0.07232666015625,
           0.16943359375,
           0.058685302734375,
           -0.005733489990234375,
           0.068603515625,
           0.0780029296875,
           0.048187255859375,
           0.0916748046875,
           0.1224365234375,
           0.0811767578125,
           -0.043701171875
          ],
          [
           -0.0025844573974609375,
           -0.036041259765625,
           -0.0477294921875,
           0.041656494140625,
           -0.60205078125,
           -0.425048828125,
           0.05419921875,
           0.3271484375,
           0.16748046875,
           -0.0151214599609375,
           0.18212890625,
           0.08197021484375,
           -0.033966064453125,
           0.00948333740234375,
           -0.0009918212890625,
           -0.28955078125,
           -0.2056884765625,
           0.21044921875,
           0.08197021484375,
           0.03985595703125,
           0.07318115234375,
           0.06304931640625,
           0.037445068359375,
           0.05255126953125,
           0.0264129638671875,
           0.12744140625,
           0.0117645263671875,
           0.03704833984375,
           0.04949951171875,
           -0.0003113746643066406,
           0.040802001953125,
           0.0067596435546875,
           0.036468505859375,
           0.01837158203125,
           -0.12066650390625,
           -0.11273193359375,
           -0.09393310546875,
           -0.0224151611328125,
           -0.09674072265625,
           -0.23095703125,
           -0.11248779296875,
           -0.0273895263671875,
           -0.003231048583984375,
           -0.08984375,
           -0.09735107421875,
           0.0181884765625,
           -0.07623291015625,
           0.00301361083984375,
           -0.327880859375,
           -0.0640869140625,
           0.05316162109375,
           0.00794219970703125,
           -0.1365966796875,
           0.01158905029296875,
           0.047607421875,
           -0.1219482421875,
           -0.03900146484375,
           -0.04779052734375,
           -0.09356689453125,
           -0.1322021484375
          ],
          [
           0.0355224609375,
           0.0667724609375,
           0.01410675048828125,
           0.03485107421875,
           -0.650390625,
           -0.477294921875,
           0.0841064453125,
           0.5771484375,
           0.372802734375,
           0.251708984375,
           0.35693359375,
           0.2607421875,
           0.050201416015625,
           0.0697021484375,
           0.17822265625,
           -0.238037109375,
           -0.1590576171875,
           0.4384765625,
           0.260986328125,
           0.303466796875,
           0.26953125,
           0.2568359375,
           0.149169921875,
           0.208984375,
           0.250244140625,
           0.268310546875,
           0.2000732421875,
           0.25830078125,
           0.359130859375,
           0.264892578125,
           0.319091796875,
           0.30029296875,
           0.345703125,
           0.27099609375,
           0.11663818359375,
           0.210693359375,
           0.234130859375,
           0.2332763671875,
           0.1253662109375,
           0.030181884765625,
           0.1275634765625,
           0.28662109375,
           0.3134765625,
           0.12469482421875,
           0.12060546875,
           0.208251953125,
           0.1185302734375,
           0.26318359375,
           0.0263671875,
           0.1529541015625,
           0.2880859375,
           0.2315673828125,
           0.052703857421875,
           0.266357421875,
           0.256103515625,
           0.003658294677734375,
           0.08392333984375,
           0.06512451171875,
           0.10260009765625,
           0.09088134765625
          ],
          [
           0.11492919921875,
           0.1337890625,
           0.106689453125,
           0.1871337890625,
           -0.409423828125,
           -0.150146484375,
           0.35009765625,
           0.76220703125,
           0.62060546875,
           0.4853515625,
           0.57177734375,
           0.379638671875,
           0.1929931640625,
           0.2496337890625,
           0.30859375,
           -0.042938232421875,
           0.114990234375,
           0.66552734375,
           0.546875,
           0.55224609375,
           0.5947265625,
           0.4794921875,
           0.359375,
           0.40625,
           0.50048828125,
           0.4228515625,
           0.357421875,
           0.53955078125,
           0.68310546875,
           0.55224609375,
           0.5009765625,
           0.442138671875,
           0.46826171875,
           0.3369140625,
           0.22705078125,
           0.365234375,
           0.362060546875,
           0.3916015625,
           0.317626953125,
           0.11529541015625,
           0.2178955078125,
           0.363037109375,
           0.349609375,
           0.283203125,
           0.287109375,
           0.3388671875,
           0.353515625,
           0.50390625,
           0.1839599609375,
           0.3447265625,
           0.483642578125,
           0.3974609375,
           0.18505859375,
           0.468994140625,
           0.414794921875,
           0.05633544921875,
           0.1744384765625,
           0.192626953125,
           0.26416015625,
           0.301025390625
          ],
          [
           0.2890625,
           0.2247314453125,
           0.2275390625,
           0.28955078125,
           -0.1531982421875,
           0.2003173828125,
           0.419189453125,
           0.9765625,
           0.93505859375,
           0.62939453125,
           0.5478515625,
           0.37109375,
           0.37939453125,
           0.45751953125,
           0.435791015625,
           0.1630859375,
           0.314453125,
           0.8349609375,
           0.71630859375,
           0.8818359375,
           0.70166015625,
           0.465576171875,
           0.308837890625,
           0.2626953125,
           0.47900390625,
           0.399169921875,
           0.276123046875,
           0.54248046875,
           0.65234375,
           0.447998046875,
           0.4365234375,
           0.41552734375,
           0.51416015625,
           0.227783203125,
           0.1846923828125,
           0.37646484375,
           0.3369140625,
           0.3720703125,
           0.439453125,
           0.057281494140625,
           0.10699462890625,
           0.26123046875,
           0.2568359375,
           0.255615234375,
           0.2198486328125,
           0.291748046875,
           0.341064453125,
           0.480224609375,
           0.10089111328125,
           0.3505859375,
           0.493408203125,
           0.392822265625,
           0.0965576171875,
           0.44287109375,
           0.443603515625,
           0.078857421875,
           0.1600341796875,
           0.2215576171875,
           0.2415771484375,
           0.3759765625
          ],
          [
           0.400146484375,
           0.37646484375,
           0.263916015625,
           0.2362060546875,
           -0.13818359375,
           0.38671875,
           0.44384765625,
           1.171875,
           1.140625,
           0.833984375,
           0.62451171875,
           0.48388671875,
           0.486572265625,
           0.44775390625,
           0.461669921875,
           0.1995849609375,
           0.556640625,
           1.109375,
           0.85546875,
           1.076171875,
           0.86865234375,
           0.59619140625,
           0.379150390625,
           0.37890625,
           0.55419921875,
           0.50537109375,
           0.453857421875,
           0.8935546875,
           0.90576171875,
           0.552734375,
           0.6025390625,
           0.5859375,
           0.65087890625,
           0.261474609375,
           0.395751953125,
           0.55517578125,
           0.568359375,
           0.419921875,
           0.5966796875,
           0.2744140625,
           0.1956787109375,
           0.319580078125,
           0.50341796875,
           0.5986328125,
           0.5869140625,
           0.52197265625,
           0.64892578125,
           0.66015625,
           0.432861328125,
           0.40087890625,
           0.428466796875,
           0.486083984375,
           0.1478271484375,
           0.386474609375,
           0.418212890625,
           0.268798828125,
           0.32080078125,
           0.209716796875,
           0.447509765625,
           0.64453125
          ],
          [
           0.6396484375,
           0.548828125,
           0.458251953125,
           0.39306640625,
           0.0675048828125,
           0.50048828125,
           0.5810546875,
           1.45703125,
           1.34375,
           1.0390625,
           0.8408203125,
           0.63232421875,
           0.5634765625,
           0.59814453125,
           0.6201171875,
           0.471923828125,
           0.6748046875,
           1.4296875,
           1.013671875,
           1.4697265625,
           1.1689453125,
           0.904296875,
           0.494140625,
           0.56689453125,
           0.68017578125,
           0.64208984375,
           0.44775390625,
           1.0673828125,
           1.31640625,
           0.8818359375,
           0.87109375,
           0.8857421875,
           0.966796875,
           0.431640625,
           0.7236328125,
           0.84375,
           0.75,
           0.53369140625,
           0.681640625,
           0.32421875,
           0.301025390625,
           0.44482421875,
           0.7001953125,
           0.80419921875,
           0.82958984375,
           0.6923828125,
           0.98046875,
           0.90625,
           0.64697265625,
           0.576171875,
           0.73779296875,
           0.77734375,
           0.324462890625,
           0.55322265625,
           0.697265625,
           0.368896484375,
           0.3837890625,
           0.35302734375,
           0.67138671875,
           0.80078125
          ],
          [
           0.2568359375,
           0.15869140625,
           0.0078887939453125,
           -0.0633544921875,
           -0.346923828125,
           0.1390380859375,
           0.2442626953125,
           1.2412109375,
           1.017578125,
           0.6982421875,
           0.47216796875,
           0.2734375,
           0.236083984375,
           0.29931640625,
           0.30322265625,
           0.2120361328125,
           0.351318359375,
           1.1376953125,
           0.71533203125,
           1.0849609375,
           0.6435546875,
           0.3037109375,
           0.11236572265625,
           0.15087890625,
           0.2265625,
           0.0792236328125,
           0.01293182373046875,
           0.5966796875,
           0.90966796875,
           0.4931640625,
           0.414794921875,
           0.275390625,
           0.448486328125,
           -0.058380126953125,
           -0.02874755859375,
           0.320068359375,
           0.39501953125,
           0.11865234375,
           0.319091796875,
           -0.1533203125,
           -0.057098388671875,
           -0.0231475830078125,
           0.1759033203125,
           0.3857421875,
           0.42333984375,
           0.318603515625,
           0.669921875,
           0.362060546875,
           0.08282470703125,
           0.162109375,
           0.37451171875,
           0.362060546875,
           -0.0160980224609375,
           0.037200927734375,
           0.31640625,
           -0.0943603515625,
           0.01213836669921875,
           0.015777587890625,
           0.31640625,
           0.482666015625
          ],
          [
           0.300048828125,
           0.415771484375,
           0.06378173828125,
           0.071044921875,
           -0.0279083251953125,
           0.59130859375,
           0.489501953125,
           1.7978515625,
           1.6455078125,
           1.298828125,
           1.0185546875,
           0.83740234375,
           0.6455078125,
           0.86279296875,
           0.8701171875,
           0.5380859375,
           0.75439453125,
           1.609375,
           1.1240234375,
           1.8984375,
           1.357421875,
           0.97607421875,
           0.5732421875,
           0.60107421875,
           0.71875,
           0.490966796875,
           0.426025390625,
           1.3525390625,
           1.732421875,
           1.11328125,
           0.966796875,
           0.8359375,
           1.1640625,
           0.49169921875,
           0.353759765625,
           0.86083984375,
           0.83740234375,
           0.4326171875,
           0.357421875,
           0.3525390625,
           0.419921875,
           0.56103515625,
           0.85302734375,
           0.94873046875,
           1.013671875,
           0.93408203125,
           1.4560546875,
           0.98486328125,
           0.74658203125,
           0.8134765625,
           0.91064453125,
           0.98095703125,
           0.623046875,
           0.168701171875,
           0.853515625,
           0.322265625,
           0.39892578125,
           0.314697265625,
           0.8388671875,
           1.12890625
          ],
          [
           -0.0477294921875,
           0.01270294189453125,
           -0.30810546875,
           -0.278076171875,
           -0.50927734375,
           -0.138916015625,
           0.0009984970092773438,
           1.2236328125,
           0.9912109375,
           0.572265625,
           0.60595703125,
           0.326904296875,
           0.1895751953125,
           0.329345703125,
           0.42724609375,
           0.050262451171875,
           0.325439453125,
           0.994140625,
           0.61474609375,
           1.41796875,
           0.9638671875,
           0.45849609375,
           0.30908203125,
           0.287109375,
           0.319580078125,
           -0.015716552734375,
           0.1279296875,
           0.95751953125,
           1.1962890625,
           0.74853515625,
           0.5380859375,
           0.46337890625,
           0.7958984375,
           0.0235748291015625,
           -0.044525146484375,
           0.498291015625,
           0.446533203125,
           0.056396484375,
           0.031585693359375,
           0.028076171875,
           0.18505859375,
           0.1602783203125,
           0.35693359375,
           0.492919921875,
           0.5576171875,
           0.46875,
           0.89453125,
           0.5791015625,
           0.4228515625,
           0.45166015625,
           0.54541015625,
           0.59814453125,
           0.356689453125,
           -0.39453125,
           0.6640625,
           0.057708740234375,
           0.07073974609375,
           0.07073974609375,
           0.484375,
           0.487548828125
          ],
          [
           -0.08465576171875,
           0.1329345703125,
           -0.2239990234375,
           -0.056396484375,
           -0.371337890625,
           -0.00096893310546875,
           0.2239990234375,
           1.23046875,
           0.994140625,
           0.41259765625,
           0.74365234375,
           0.40185546875,
           0.22998046875,
           0.328125,
           0.50732421875,
           0.0584716796875,
           0.261474609375,
           0.83642578125,
           0.6171875,
           1.6181640625,
           1.0537109375,
           0.41015625,
           0.473876953125,
           0.456787109375,
           0.2406005859375,
           -0.206298828125,
           0.28857421875,
           1.0693359375,
           1.4765625,
           1.0732421875,
           0.75634765625,
           0.58447265625,
           0.93896484375,
           0.024169921875,
           0.04150390625,
           0.67041015625,
           0.58984375,
           0.219970703125,
           0.2000732421875,
           0.1322021484375,
           0.285400390625,
           0.27734375,
           0.6962890625,
           0.77978515625,
           0.59765625,
           0.56103515625,
           1.1826171875,
           0.82275390625,
           0.6396484375,
           0.72705078125,
           0.8349609375,
           0.79248046875,
           0.464599609375,
           -0.603515625,
           0.96728515625,
           0.086669921875,
           0.1982421875,
           0.1607666015625,
           0.87939453125,
           0.634765625
          ],
          [
           0.62744140625,
           0.80810546875,
           0.323974609375,
           0.477783203125,
           0.09228515625,
           0.61181640625,
           0.52880859375,
           1.6181640625,
           1.498046875,
           1.13671875,
           0.966796875,
           0.94677734375,
           0.76904296875,
           0.74462890625,
           1.0439453125,
           0.7138671875,
           0.94287109375,
           1.4345703125,
           1.2041015625,
           2.021484375,
           1.3876953125,
           0.79345703125,
           0.77978515625,
           0.8076171875,
           0.60546875,
           0.13330078125,
           0.5166015625,
           1.62109375,
           1.9931640625,
           1.50390625,
           1.46484375,
           1.2568359375,
           1.53515625,
           0.6708984375,
           0.5341796875,
           1.4638671875,
           1.314453125,
           0.84814453125,
           0.70751953125,
           0.62744140625,
           0.736328125,
           0.7568359375,
           1.2646484375,
           1.57421875,
           1.06640625,
           1.1845703125,
           1.779296875,
           1.451171875,
           1.2255859375,
           1.15625,
           1.2822265625,
           1.2958984375,
           0.98388671875,
           -0.007282257080078125,
           1.4482421875,
           0.5966796875,
           0.73193359375,
           0.6416015625,
           1.556640625,
           1.107421875
          ],
          [
           -0.381591796875,
           -0.149169921875,
           -0.6962890625,
           -0.609375,
           -0.82177734375,
           -0.234619140625,
           -0.46240234375,
           0.9423828125,
           0.82421875,
           0.39599609375,
           0.326904296875,
           0.07403564453125,
           0.1636962890625,
           -0.026123046875,
           0.125732421875,
           -0.393798828125,
           0.077880859375,
           0.61767578125,
           0.39501953125,
           1.1982421875,
           0.564453125,
           -0.286865234375,
           0.005931854248046875,
           0.1427001953125,
           -0.1240234375,
           -0.8701171875,
           -0.4541015625,
           0.98876953125,
           1.291015625,
           0.787109375,
           0.7626953125,
           0.60595703125,
           0.76953125,
           -0.26123046875,
           -0.277099609375,
           0.47265625,
           0.48779296875,
           -0.01114654541015625,
           -0.1485595703125,
           -0.25634765625,
           -0.114501953125,
           -0.24169921875,
           0.66748046875,
           0.8779296875,
           0.440185546875,
           0.544921875,
           1.23046875,
           0.7568359375,
           0.3310546875,
           0.2359619140625,
           0.30908203125,
           0.35986328125,
           -0.07122802734375,
           -1.275390625,
           0.54541015625,
           -0.3076171875,
           -0.139892578125,
           -0.247802734375,
           0.62841796875,
           0.27880859375
          ],
          [
           0.82861328125,
           1.0205078125,
           0.368408203125,
           0.283935546875,
           0.11407470703125,
           0.630859375,
           0.2486572265625,
           2.025390625,
           1.896484375,
           1.1455078125,
           1.5087890625,
           1.0087890625,
           1.3525390625,
           1.23828125,
           1.3193359375,
           0.2088623046875,
           1.0419921875,
           1.6015625,
           1.62890625,
           2.349609375,
           1.380859375,
           0.413818359375,
           1.2001953125,
           1.4677734375,
           0.73291015625,
           -0.24365234375,
           0.489013671875,
           1.9111328125,
           2.177734375,
           1.880859375,
           1.9638671875,
           1.802734375,
           1.666015625,
           0.67236328125,
           0.71630859375,
           1.435546875,
           1.4658203125,
           0.9375,
           0.7529296875,
           0.72216796875,
           0.80224609375,
           0.55615234375,
           1.720703125,
           1.958984375,
           1.5458984375,
           1.5654296875,
           2.275390625,
           1.84375,
           1.2939453125,
           1.2470703125,
           1.3486328125,
           1.498046875,
           0.91259765625,
           -0.53515625,
           1.521484375,
           0.78955078125,
           0.94677734375,
           0.89111328125,
           1.62109375,
           1.2744140625
          ],
          [
           -0.7197265625,
           -0.54931640625,
           -1.126953125,
           -1.392578125,
           -1.5859375,
           -1.2626953125,
           -1.4990234375,
           0.031646728515625,
           -0.04876708984375,
           -0.82958984375,
           -0.318115234375,
           -0.92626953125,
           -0.451904296875,
           -0.583984375,
           -0.6044921875,
           -1.71875,
           -0.654296875,
           -0.11749267578125,
           -0.10186767578125,
           0.51025390625,
           -0.5263671875,
           -1.2529296875,
           -0.521484375,
           -0.309814453125,
           -0.9560546875,
           -1.8681640625,
           -1.291015625,
           0.018463134765625,
           0.3251953125,
           0.153564453125,
           0.073486328125,
           0.10052490234375,
           0.1055908203125,
           -1.0263671875,
           -1.0107421875,
           -0.374755859375,
           -0.1722412109375,
           -0.82763671875,
           -1.0068359375,
           -0.8671875,
           -0.75537109375,
           -1.1826171875,
           -0.022003173828125,
           0.122314453125,
           -0.34521484375,
           -0.40625,
           0.363037109375,
           0.11029052734375,
           -0.4404296875,
           -0.63330078125,
           -0.429931640625,
           -0.280029296875,
           -0.8447265625,
           -2.361328125,
           -0.2135009765625,
           -0.7431640625,
           -0.599609375,
           -0.71923828125,
           -0.013671875,
           -0.341796875
          ],
          [
           -0.009857177734375,
           -0.0147247314453125,
           -0.662109375,
           -1.09375,
           -1.2548828125,
           -0.8466796875,
           -1.400390625,
           0.340576171875,
           0.27197265625,
           -1.0244140625,
           0.22998046875,
           -0.79833984375,
           0.057281494140625,
           -0.161376953125,
           -0.491455078125,
           -2.111328125,
           -0.365966796875,
           0.32080078125,
           0.310791015625,
           0.81591796875,
           -0.6044921875,
           -1.0078125,
           0.02337646484375,
           0.3076171875,
           -0.728515625,
           -1.6513671875,
           -0.69921875,
           0.2115478515625,
           0.58349609375,
           0.53955078125,
           0.262451171875,
           0.5205078125,
           0.3515625,
           -0.630859375,
           -0.419921875,
           -0.294921875,
           0.57177734375,
           -0.180908203125,
           -0.4912109375,
           -0.29052734375,
           -0.09857177734375,
           -0.96044921875,
           -0.032440185546875,
           0.28515625,
           -0.26953125,
           -0.274658203125,
           0.83056640625,
           0.3828125,
           -0.2396240234375,
           -0.28564453125,
           -0.051971435546875,
           -0.00855255126953125,
           -0.470947265625,
           -2.234375,
           -0.15771484375,
           -0.1905517578125,
           -0.22998046875,
           -0.398681640625,
           -0.084228515625,
           -0.17919921875
          ],
          [
           0.6923828125,
           0.26171875,
           -0.1661376953125,
           -0.8681640625,
           -0.70751953125,
           -0.459228515625,
           -1.0625,
           1.166015625,
           1.0966796875,
           -0.525390625,
           0.449951171875,
           -0.6533203125,
           0.69482421875,
           0.39306640625,
           -0.005664825439453125,
           -1.7998046875,
           -0.1771240234375,
           1.052734375,
           1.1123046875,
           1.4638671875,
           -0.437255859375,
           -0.83251953125,
           0.3388671875,
           1.009765625,
           -0.1883544921875,
           -1.1962890625,
           0.039794921875,
           0.84619140625,
           1.236328125,
           1.2763671875,
           0.77783203125,
           1.1572265625,
           0.72021484375,
           -0.0885009765625,
           0.2288818359375,
           0.134033203125,
           0.9267578125,
           0.430419921875,
           0.08819580078125,
           0.35595703125,
           0.50048828125,
           -0.4833984375,
           0.361328125,
           0.98974609375,
           0.047332763671875,
           0.0814208984375,
           1.3515625,
           0.966796875,
           0.234130859375,
           0.427490234375,
           0.32470703125,
           0.466064453125,
           0.4208984375,
           -1.8017578125,
           -0.043731689453125,
           0.3720703125,
           0.12371826171875,
           0.0970458984375,
           -0.0032482147216796875,
           0.12103271484375
          ],
          [
           1.21875,
           0.67236328125,
           0.1385498046875,
           -0.9541015625,
           -0.307861328125,
           -0.10614013671875,
           -0.4091796875,
           1.671875,
           1.416015625,
           -0.6416015625,
           0.2998046875,
           -0.83935546875,
           0.740234375,
           0.496826171875,
           -0.1541748046875,
           -2.005859375,
           -0.10601806640625,
           0.9521484375,
           1.2587890625,
           1.716796875,
           -0.7744140625,
           -0.515625,
           0.591796875,
           1.3759765625,
           -0.25732421875,
           -0.52734375,
           0.2435302734375,
           0.8642578125,
           1.42578125,
           1.4365234375,
           0.8857421875,
           1.703125,
           0.6298828125,
           -0.15869140625,
           0.60009765625,
           0.03369140625,
           0.96142578125,
           0.472412109375,
           0.0880126953125,
           0.308349609375,
           0.515625,
           -0.1197509765625,
           0.5380859375,
           1.232421875,
           0.310302734375,
           0.033935546875,
           1.36328125,
           1.0673828125,
           0.07769775390625,
           0.5576171875,
           0.20361328125,
           0.50927734375,
           0.71435546875,
           -1.1064453125,
           -0.274169921875,
           0.79248046875,
           0.495849609375,
           0.374755859375,
           0.00630950927734375,
           0.6298828125
          ],
          [
           -0.9453125,
           -0.8466796875,
           -1.4091796875,
           -3.189453125,
           -1.591796875,
           -1.376953125,
           -1.7451171875,
           0.036651611328125,
           -0.43896484375,
           -2.33984375,
           -2.185546875,
           -3.115234375,
           -1.2099609375,
           -1.7080078125,
           -2.728515625,
           -4.4453125,
           -1.818359375,
           -0.433837890625,
           -0.157470703125,
           0.075927734375,
           -2.81640625,
           -1.9404296875,
           -0.61376953125,
           0.00933837890625,
           -2.369140625,
           -2.3125,
           -1.4931640625,
           -1.087890625,
           -0.2442626953125,
           -0.420654296875,
           -1.0400390625,
           -0.26416015625,
           -1.10546875,
           -1.697265625,
           -0.260009765625,
           -1.6748046875,
           -0.888671875,
           -1.279296875,
           -1.123046875,
           -0.87890625,
           -0.875,
           -1.5654296875,
           -1.3193359375,
           -0.59814453125,
           -1.9716796875,
           -2.03125,
           -0.4521484375,
           -1.1025390625,
           -1.9658203125,
           -1.7255859375,
           -1.90234375,
           -1.2099609375,
           -0.385986328125,
           -1.98828125,
           -2.31640625,
           -1.1376953125,
           -1.173828125,
           -1.2841796875,
           -1.9755859375,
           -1.220703125
          ],
          [
           -0.1759033203125,
           -0.1668701171875,
           -1.6005859375,
           -4.20703125,
           -1.8603515625,
           -0.6181640625,
           -0.99755859375,
           0.48876953125,
           0.00656890869140625,
           -2.962890625,
           -2.85546875,
           -4.2421875,
           -1.6318359375,
           -2.93359375,
           -4.15234375,
           -5.45703125,
           -2.306640625,
           -0.158447265625,
           -0.1533203125,
           0.67236328125,
           -3.630859375,
           -2.4140625,
           -0.8544921875,
           -0.21533203125,
           -3.705078125,
           -2.8828125,
           -1.607421875,
           -1.7060546875,
           -0.2333984375,
           -1.169921875,
           -1.2099609375,
           -0.3984375,
           -0.658203125,
           -1.2587890625,
           0.53125,
           -0.98583984375,
           -0.2197265625,
           -1.41015625,
           -1.109375,
           -0.82421875,
           -0.64599609375,
           -1.87109375,
           -1.814453125,
           -0.859375,
           -1.4521484375,
           -2.056640625,
           0.055816650390625,
           -1.4189453125,
           -2.546875,
           -1.7900390625,
           -2.158203125,
           -1.53125,
           -0.51123046875,
           -1.599609375,
           -3.16015625,
           -0.60888671875,
           -0.299072265625,
           -0.9228515625,
           -2.01171875,
           -0.6767578125
          ],
          [
           11.8515625,
           3.4765625,
           -3.771484375,
           5.8125,
           19.4375,
           17.890625,
           14.921875,
           23.109375,
           20.875,
           23.765625,
           9.1328125,
           8.546875,
           12.1171875,
           3.880859375,
           5.1640625,
           10.5703125,
           12.59375,
           25.28125,
           25.359375,
           23.5625,
           15.84375,
           5.91796875,
           3.916015625,
           8.8203125,
           -5.1796875,
           10.359375,
           0.15576171875,
           16.9375,
           41.625,
           11.875,
           12.734375,
           22.8125,
           24.921875,
           4.3984375,
           17.625,
           26.40625,
           33.15625,
           25.203125,
           21.59375,
           13.5078125,
           9.7890625,
           8.1328125,
           10.875,
           19.953125,
           15.984375,
           7.98046875,
           37.59375,
           17.578125,
           12.2265625,
           11.890625,
           1.466796875,
           8.28125,
           12.65625,
           7.9140625,
           -4.19921875,
           12.5859375,
           7.3125,
           -1.0126953125,
           12.3828125,
           15.5234375
          ]
         ]
        }
       ],
       "layout": {
        "coloraxis": {
         "cmax": 3.6484,
         "cmin": -3.6484,
         "colorscale": [
          [
           0,
           "rgb(165,0,38)"
          ],
          [
           0.1,
           "rgb(215,48,39)"
          ],
          [
           0.2,
           "rgb(244,109,67)"
          ],
          [
           0.3,
           "rgb(253,174,97)"
          ],
          [
           0.4,
           "rgb(254,224,139)"
          ],
          [
           0.5,
           "rgb(255,255,191)"
          ],
          [
           0.6,
           "rgb(217,239,139)"
          ],
          [
           0.7,
           "rgb(166,217,106)"
          ],
          [
           0.8,
           "rgb(102,189,99)"
          ],
          [
           0.9,
           "rgb(26,152,80)"
          ],
          [
           1,
           "rgb(0,104,55)"
          ]
         ]
        },
        "height": 600,
        "margin": {
         "t": 60
        },
        "template": {
         "data": {
          "bar": [
           {
            "error_x": {
             "color": "#2a3f5f"
            },
            "error_y": {
             "color": "#2a3f5f"
            },
            "marker": {
             "line": {
              "color": "#E5ECF6",
              "width": 0.5
             },
             "pattern": {
              "fillmode": "overlay",
              "size": 10,
              "solidity": 0.2
             }
            },
            "type": "bar"
           }
          ],
          "barpolar": [
           {
            "marker": {
             "line": {
              "color": "#E5ECF6",
              "width": 0.5
             },
             "pattern": {
              "fillmode": "overlay",
              "size": 10,
              "solidity": 0.2
             }
            },
            "type": "barpolar"
           }
          ],
          "carpet": [
           {
            "aaxis": {
             "endlinecolor": "#2a3f5f",
             "gridcolor": "white",
             "linecolor": "white",
             "minorgridcolor": "white",
             "startlinecolor": "#2a3f5f"
            },
            "baxis": {
             "endlinecolor": "#2a3f5f",
             "gridcolor": "white",
             "linecolor": "white",
             "minorgridcolor": "white",
             "startlinecolor": "#2a3f5f"
            },
            "type": "carpet"
           }
          ],
          "choropleth": [
           {
            "colorbar": {
             "outlinewidth": 0,
             "ticks": ""
            },
            "type": "choropleth"
           }
          ],
          "contour": [
           {
            "colorbar": {
             "outlinewidth": 0,
             "ticks": ""
            },
            "colorscale": [
             [
              0,
              "#0d0887"
             ],
             [
              0.1111111111111111,
              "#46039f"
             ],
             [
              0.2222222222222222,
              "#7201a8"
             ],
             [
              0.3333333333333333,
              "#9c179e"
             ],
             [
              0.4444444444444444,
              "#bd3786"
             ],
             [
              0.5555555555555556,
              "#d8576b"
             ],
             [
              0.6666666666666666,
              "#ed7953"
             ],
             [
              0.7777777777777778,
              "#fb9f3a"
             ],
             [
              0.8888888888888888,
              "#fdca26"
             ],
             [
              1,
              "#f0f921"
             ]
            ],
            "type": "contour"
           }
          ],
          "contourcarpet": [
           {
            "colorbar": {
             "outlinewidth": 0,
             "ticks": ""
            },
            "type": "contourcarpet"
           }
          ],
          "heatmap": [
           {
            "colorbar": {
             "outlinewidth": 0,
             "ticks": ""
            },
            "colorscale": [
             [
              0,
              "#0d0887"
             ],
             [
              0.1111111111111111,
              "#46039f"
             ],
             [
              0.2222222222222222,
              "#7201a8"
             ],
             [
              0.3333333333333333,
              "#9c179e"
             ],
             [
              0.4444444444444444,
              "#bd3786"
             ],
             [
              0.5555555555555556,
              "#d8576b"
             ],
             [
              0.6666666666666666,
              "#ed7953"
             ],
             [
              0.7777777777777778,
              "#fb9f3a"
             ],
             [
              0.8888888888888888,
              "#fdca26"
             ],
             [
              1,
              "#f0f921"
             ]
            ],
            "type": "heatmap"
           }
          ],
          "heatmapgl": [
           {
            "colorbar": {
             "outlinewidth": 0,
             "ticks": ""
            },
            "colorscale": [
             [
              0,
              "#0d0887"
             ],
             [
              0.1111111111111111,
              "#46039f"
             ],
             [
              0.2222222222222222,
              "#7201a8"
             ],
             [
              0.3333333333333333,
              "#9c179e"
             ],
             [
              0.4444444444444444,
              "#bd3786"
             ],
             [
              0.5555555555555556,
              "#d8576b"
             ],
             [
              0.6666666666666666,
              "#ed7953"
             ],
             [
              0.7777777777777778,
              "#fb9f3a"
             ],
             [
              0.8888888888888888,
              "#fdca26"
             ],
             [
              1,
              "#f0f921"
             ]
            ],
            "type": "heatmapgl"
           }
          ],
          "histogram": [
           {
            "marker": {
             "pattern": {
              "fillmode": "overlay",
              "size": 10,
              "solidity": 0.2
             }
            },
            "type": "histogram"
           }
          ],
          "histogram2d": [
           {
            "colorbar": {
             "outlinewidth": 0,
             "ticks": ""
            },
            "colorscale": [
             [
              0,
              "#0d0887"
             ],
             [
              0.1111111111111111,
              "#46039f"
             ],
             [
              0.2222222222222222,
              "#7201a8"
             ],
             [
              0.3333333333333333,
              "#9c179e"
             ],
             [
              0.4444444444444444,
              "#bd3786"
             ],
             [
              0.5555555555555556,
              "#d8576b"
             ],
             [
              0.6666666666666666,
              "#ed7953"
             ],
             [
              0.7777777777777778,
              "#fb9f3a"
             ],
             [
              0.8888888888888888,
              "#fdca26"
             ],
             [
              1,
              "#f0f921"
             ]
            ],
            "type": "histogram2d"
           }
          ],
          "histogram2dcontour": [
           {
            "colorbar": {
             "outlinewidth": 0,
             "ticks": ""
            },
            "colorscale": [
             [
              0,
              "#0d0887"
             ],
             [
              0.1111111111111111,
              "#46039f"
             ],
             [
              0.2222222222222222,
              "#7201a8"
             ],
             [
              0.3333333333333333,
              "#9c179e"
             ],
             [
              0.4444444444444444,
              "#bd3786"
             ],
             [
              0.5555555555555556,
              "#d8576b"
             ],
             [
              0.6666666666666666,
              "#ed7953"
             ],
             [
              0.7777777777777778,
              "#fb9f3a"
             ],
             [
              0.8888888888888888,
              "#fdca26"
             ],
             [
              1,
              "#f0f921"
             ]
            ],
            "type": "histogram2dcontour"
           }
          ],
          "mesh3d": [
           {
            "colorbar": {
             "outlinewidth": 0,
             "ticks": ""
            },
            "type": "mesh3d"
           }
          ],
          "parcoords": [
           {
            "line": {
             "colorbar": {
              "outlinewidth": 0,
              "ticks": ""
             }
            },
            "type": "parcoords"
           }
          ],
          "pie": [
           {
            "automargin": true,
            "type": "pie"
           }
          ],
          "scatter": [
           {
            "fillpattern": {
             "fillmode": "overlay",
             "size": 10,
             "solidity": 0.2
            },
            "type": "scatter"
           }
          ],
          "scatter3d": [
           {
            "line": {
             "colorbar": {
              "outlinewidth": 0,
              "ticks": ""
             }
            },
            "marker": {
             "colorbar": {
              "outlinewidth": 0,
              "ticks": ""
             }
            },
            "type": "scatter3d"
           }
          ],
          "scattercarpet": [
           {
            "marker": {
             "colorbar": {
              "outlinewidth": 0,
              "ticks": ""
             }
            },
            "type": "scattercarpet"
           }
          ],
          "scattergeo": [
           {
            "marker": {
             "colorbar": {
              "outlinewidth": 0,
              "ticks": ""
             }
            },
            "type": "scattergeo"
           }
          ],
          "scattergl": [
           {
            "marker": {
             "colorbar": {
              "outlinewidth": 0,
              "ticks": ""
             }
            },
            "type": "scattergl"
           }
          ],
          "scattermapbox": [
           {
            "marker": {
             "colorbar": {
              "outlinewidth": 0,
              "ticks": ""
             }
            },
            "type": "scattermapbox"
           }
          ],
          "scatterpolar": [
           {
            "marker": {
             "colorbar": {
              "outlinewidth": 0,
              "ticks": ""
             }
            },
            "type": "scatterpolar"
           }
          ],
          "scatterpolargl": [
           {
            "marker": {
             "colorbar": {
              "outlinewidth": 0,
              "ticks": ""
             }
            },
            "type": "scatterpolargl"
           }
          ],
          "scatterternary": [
           {
            "marker": {
             "colorbar": {
              "outlinewidth": 0,
              "ticks": ""
             }
            },
            "type": "scatterternary"
           }
          ],
          "surface": [
           {
            "colorbar": {
             "outlinewidth": 0,
             "ticks": ""
            },
            "colorscale": [
             [
              0,
              "#0d0887"
             ],
             [
              0.1111111111111111,
              "#46039f"
             ],
             [
              0.2222222222222222,
              "#7201a8"
             ],
             [
              0.3333333333333333,
              "#9c179e"
             ],
             [
              0.4444444444444444,
              "#bd3786"
             ],
             [
              0.5555555555555556,
              "#d8576b"
             ],
             [
              0.6666666666666666,
              "#ed7953"
             ],
             [
              0.7777777777777778,
              "#fb9f3a"
             ],
             [
              0.8888888888888888,
              "#fdca26"
             ],
             [
              1,
              "#f0f921"
             ]
            ],
            "type": "surface"
           }
          ],
          "table": [
           {
            "cells": {
             "fill": {
              "color": "#EBF0F8"
             },
             "line": {
              "color": "white"
             }
            },
            "header": {
             "fill": {
              "color": "#C8D4E3"
             },
             "line": {
              "color": "white"
             }
            },
            "type": "table"
           }
          ]
         },
         "layout": {
          "annotationdefaults": {
           "arrowcolor": "#2a3f5f",
           "arrowhead": 0,
           "arrowwidth": 1
          },
          "autotypenumbers": "strict",
          "coloraxis": {
           "colorbar": {
            "outlinewidth": 0,
            "ticks": ""
           }
          },
          "colorscale": {
           "diverging": [
            [
             0,
             "#8e0152"
            ],
            [
             0.1,
             "#c51b7d"
            ],
            [
             0.2,
             "#de77ae"
            ],
            [
             0.3,
             "#f1b6da"
            ],
            [
             0.4,
             "#fde0ef"
            ],
            [
             0.5,
             "#f7f7f7"
            ],
            [
             0.6,
             "#e6f5d0"
            ],
            [
             0.7,
             "#b8e186"
            ],
            [
             0.8,
             "#7fbc41"
            ],
            [
             0.9,
             "#4d9221"
            ],
            [
             1,
             "#276419"
            ]
           ],
           "sequential": [
            [
             0,
             "#0d0887"
            ],
            [
             0.1111111111111111,
             "#46039f"
            ],
            [
             0.2222222222222222,
             "#7201a8"
            ],
            [
             0.3333333333333333,
             "#9c179e"
            ],
            [
             0.4444444444444444,
             "#bd3786"
            ],
            [
             0.5555555555555556,
             "#d8576b"
            ],
            [
             0.6666666666666666,
             "#ed7953"
            ],
            [
             0.7777777777777778,
             "#fb9f3a"
            ],
            [
             0.8888888888888888,
             "#fdca26"
            ],
            [
             1,
             "#f0f921"
            ]
           ],
           "sequentialminus": [
            [
             0,
             "#0d0887"
            ],
            [
             0.1111111111111111,
             "#46039f"
            ],
            [
             0.2222222222222222,
             "#7201a8"
            ],
            [
             0.3333333333333333,
             "#9c179e"
            ],
            [
             0.4444444444444444,
             "#bd3786"
            ],
            [
             0.5555555555555556,
             "#d8576b"
            ],
            [
             0.6666666666666666,
             "#ed7953"
            ],
            [
             0.7777777777777778,
             "#fb9f3a"
            ],
            [
             0.8888888888888888,
             "#fdca26"
            ],
            [
             1,
             "#f0f921"
            ]
           ]
          },
          "colorway": [
           "#636efa",
           "#EF553B",
           "#00cc96",
           "#ab63fa",
           "#FFA15A",
           "#19d3f3",
           "#FF6692",
           "#B6E880",
           "#FF97FF",
           "#FECB52"
          ],
          "font": {
           "color": "#2a3f5f"
          },
          "geo": {
           "bgcolor": "white",
           "lakecolor": "white",
           "landcolor": "#E5ECF6",
           "showlakes": true,
           "showland": true,
           "subunitcolor": "white"
          },
          "hoverlabel": {
           "align": "left"
          },
          "hovermode": "closest",
          "mapbox": {
           "style": "light"
          },
          "paper_bgcolor": "white",
          "plot_bgcolor": "#E5ECF6",
          "polar": {
           "angularaxis": {
            "gridcolor": "white",
            "linecolor": "white",
            "ticks": ""
           },
           "bgcolor": "#E5ECF6",
           "radialaxis": {
            "gridcolor": "white",
            "linecolor": "white",
            "ticks": ""
           }
          },
          "scene": {
           "xaxis": {
            "backgroundcolor": "#E5ECF6",
            "gridcolor": "white",
            "gridwidth": 2,
            "linecolor": "white",
            "showbackground": true,
            "ticks": "",
            "zerolinecolor": "white"
           },
           "yaxis": {
            "backgroundcolor": "#E5ECF6",
            "gridcolor": "white",
            "gridwidth": 2,
            "linecolor": "white",
            "showbackground": true,
            "ticks": "",
            "zerolinecolor": "white"
           },
           "zaxis": {
            "backgroundcolor": "#E5ECF6",
            "gridcolor": "white",
            "gridwidth": 2,
            "linecolor": "white",
            "showbackground": true,
            "ticks": "",
            "zerolinecolor": "white"
           }
          },
          "shapedefaults": {
           "line": {
            "color": "#2a3f5f"
           }
          },
          "ternary": {
           "aaxis": {
            "gridcolor": "white",
            "linecolor": "white",
            "ticks": ""
           },
           "baxis": {
            "gridcolor": "white",
            "linecolor": "white",
            "ticks": ""
           },
           "bgcolor": "#E5ECF6",
           "caxis": {
            "gridcolor": "white",
            "linecolor": "white",
            "ticks": ""
           }
          },
          "title": {
           "x": 0.05
          },
          "xaxis": {
           "automargin": true,
           "gridcolor": "white",
           "linecolor": "white",
           "ticks": "",
           "title": {
            "standoff": 15
           },
           "zerolinecolor": "white",
           "zerolinewidth": 2
          },
          "yaxis": {
           "automargin": true,
           "gridcolor": "white",
           "linecolor": "white",
           "ticks": "",
           "title": {
            "standoff": 15
           },
           "zerolinecolor": "white",
           "zerolinewidth": 2
          }
         }
        },
        "width": 1000,
        "xaxis": {
         "anchor": "y",
         "autorange": true,
         "constrain": "domain",
         "domain": [
          0.023285800970873738,
          0.9767141990291263
         ],
         "range": [
          -0.5,
          59.5
         ],
         "scaleanchor": "y",
         "ticktext": [
          "▁ver",
          "te",
          "br",
          "ates",
          ".",
          "▁[",
          "/",
          "INST",
          "]",
          "▁The",
          "▁amount",
          "▁of",
          "▁truth",
          "fulness",
          "▁in",
          "▁the",
          "▁statement",
          "▁is",
          "▁high",
          ".",
          "▁The",
          "▁Gal",
          "ap",
          "ag",
          "os",
          "▁T",
          "ort",
          "oise",
          "▁is",
          "▁known",
          "▁to",
          "▁have",
          "▁a",
          "▁lif",
          "es",
          "pan",
          "▁of",
          "▁over",
          "▁",
          "1",
          "0",
          "0",
          "▁years",
          ",",
          "▁and",
          "▁it",
          "▁is",
          "▁considered",
          "▁one",
          "▁of",
          "▁the",
          "▁longest",
          "-",
          "l",
          "iving",
          "▁ver",
          "te",
          "br",
          "ates",
          "."
         ],
         "tickvals": [
          0,
          1,
          2,
          3,
          4,
          5,
          6,
          7,
          8,
          9,
          10,
          11,
          12,
          13,
          14,
          15,
          16,
          17,
          18,
          19,
          20,
          21,
          22,
          23,
          24,
          25,
          26,
          27,
          28,
          29,
          30,
          31,
          32,
          33,
          34,
          35,
          36,
          37,
          38,
          39,
          40,
          41,
          42,
          43,
          44,
          45,
          46,
          47,
          48,
          49,
          50,
          51,
          52,
          53,
          54,
          55,
          56,
          57,
          58,
          59
         ],
         "title": {
          "text": "Token"
         }
        },
        "yaxis": {
         "anchor": "x",
         "autorange": true,
         "constrain": "domain",
         "domain": [
          0,
          1
         ],
         "range": [
          31.5,
          -0.5
         ]
        }
       }
      },
      "image/png": "[encoded data removed]",
      "text/html": [
       "<div>                            <div id=\"74dfed95-deb7-4ba8-acd1-853773f3d6be\" class=\"plotly-graph-div\" style=\"height:600px; width:1000px;\"></div>            <script type=\"text/javascript\">                require([\"plotly\"], function(Plotly) {                    window.PLOTLYENV=window.PLOTLYENV || {};                                    if (document.getElementById(\"74dfed95-deb7-4ba8-acd1-853773f3d6be\")) {                    Plotly.newPlot(                        \"74dfed95-deb7-4ba8-acd1-853773f3d6be\",                        [{\"coloraxis\":\"coloraxis\",\"name\":\"0\",\"z\":[[-0.0036258697509765625,-0.001659393310546875,-1.710653305053711e-05,0.000247955322265625,-0.02862548828125,-0.02435302734375,-0.0190582275390625,-0.023162841796875,-0.025726318359375,-0.0311126708984375,-0.017669677734375,-0.0174102783203125,0.004421234130859375,0.0013256072998046875,-0.01328277587890625,-0.0184326171875,-0.00800323486328125,-0.0242919921875,-0.0084075927734375,-0.0239105224609375,-0.030364990234375,-0.0112152099609375,-0.0018987655639648438,-0.0038661956787109375,-0.0017871856689453125,-0.0297088623046875,-0.00829315185546875,-0.005405426025390625,-0.035430908203125,-0.0189056396484375,-0.019256591796875,-0.0222015380859375,-0.03094482421875,-0.0133056640625,-0.00910186767578125,-0.004550933837890625,-0.00899505615234375,-0.01351165771484375,-0.0218658447265625,-0.025787353515625,-0.01322174072265625,-0.016204833984375,-0.0091705322265625,-0.0284423828125,-0.0252227783203125,-0.0240936279296875,-0.0303802490234375,-0.01629638671875,-0.0181121826171875,-0.0111846923828125,-0.0177764892578125,-0.0086517333984375,-0.0088958740234375,-0.0067901611328125,-0.013763427734375,-0.0053863525390625,-0.0031566619873046875,-0.002010345458984375,-0.0014705657958984375,-0.03204345703125],[0.00013720989227294922,0.00879669189453125,0.009765625,-0.00788116455078125,-0.05767822265625,-0.07171630859375,-0.065185546875,-0.038818359375,-0.0765380859375,-0.049530029296875,-0.053436279296875,-0.033599853515625,-0.00870513916015625,-0.00989532470703125,-0.03741455078125,-0.022064208984375,-0.034088134765625,-0.0599365234375,-0.04388427734375,-0.0501708984375,-0.0242156982421875,-0.039825439453125,-0.00988006591796875,0.00780487060546875,0.0016145706176757812,-0.043731689453125,-0.01171875,-0.0250244140625,-0.06561279296875,-0.04705810546875,-0.0250396728515625,-0.0254058837890625,-0.0287933349609375,-0.0333251953125,-0.01153564453125,-0.01071929931640625,-0.01062774658203125,-0.023162841796875,-0.035308837890625,-0.037322998046875,-0.0362548828125,-0.036773681640625,-0.03497314453125,-0.048553466796875,-0.049713134765625,-0.032867431640625,-0.03228759765625,-0.044281005859375,-0.0283966064453125,-0.0209197998046875,-0.0095367431640625,-0.03839111328125,-0.004436492919921875,-0.007598876953125,-0.0196990966796875,-0.0110321044921875,0.0037364959716796875,0.006134033203125,-0.01300048828125,-0.06036376953125],[0.0226593017578125,0.035675048828125,0.036590576171875,-0.00617218017578125,-0.007724761962890625,-0.0225067138671875,-0.0265655517578125,0.0261077880859375,-0.00980377197265625,0.0002951622009277344,-0.031982421875,-0.0275726318359375,0.018035888671875,0.01134490966796875,0.0009098052978515625,0.031646728515625,0.00995635986328125,-0.007049560546875,-0.003936767578125,-0.00720977783203125,0.0201568603515625,0.00498199462890625,-0.0068359375,0.039306640625,0.0137176513671875,0.0159759521484375,0.0161895751953125,0.00020563602447509766,-0.019561767578125,-0.016143798828125,-0.008575439453125,0.00372314453125,0.00786590576171875,-0.00354766845703125,0.02490234375,-0.0374755859375,-0.01073455810546875,0.01078033447265625,0.002017974853515625,0.0357666015625,0.022308349609375,0.02313232421875,-0.00765228271484375,-0.00899505615234375,-0.0307769775390625,-0.01128387451171875,-0.003086090087890625,-0.025909423828125,0.0105438232421875,-0.00302886962890625,0.0200042724609375,-0.03936767578125,0.0222015380859375,0.049896240234375,-0.0152587890625,0.026092529296875,0.039794921875,0.039306640625,-0.0054473876953125,-0.0221710205078125],[-0.00452423095703125,-0.0038089752197265625,0.0124664306640625,-0.029388427734375,-0.037628173828125,-0.0443115234375,-0.057342529296875,0.0032253265380859375,-0.0112762451171875,0.043182373046875,-0.005443572998046875,-0.0228118896484375,-0.043487548828125,-0.0426025390625,-0.0634765625,-0.0084075927734375,-0.017486572265625,-0.031524658203125,-0.0147247314453125,-0.0304412841796875,0.0426025390625,0.012603759765625,0.01424407958984375,0.01849365234375,-0.00439453125,-0.0123443603515625,-0.004261016845703125,-0.037567138671875,-0.035919189453125,0.005340576171875,-0.0023365020751953125,-0.011993408203125,-0.00272369384765625,0.0150299072265625,0.0070953369140625,0.0002472400665283203,-0.003017425537109375,-0.0098419189453125,0.0025691986083984375,-0.0037441253662109375,4.887580871582031e-05,0.0006260871887207031,-0.0283355712890625,-0.030242919921875,-0.0281219482421875,0.0181732177734375,0.0285797119140625,-0.01434326171875,0.0182342529296875,0.008392333984375,0.0259246826171875,-0.0005936622619628906,0.01042938232421875,-0.00691986083984375,-0.043365478515625,-0.00734710693359375,-0.01198577880859375,0.0090484619140625,-0.03814697265625,-0.064453125],[0.064697265625,0.0316162109375,0.0604248046875,0.038604736328125,-0.017669677734375,0.0024051666259765625,-0.0048065185546875,0.0091552734375,0.048309326171875,0.05511474609375,0.02630615234375,0.031890869140625,0.06292724609375,0.037811279296875,0.0139617919921875,0.04327392578125,0.052886962890625,0.0229644775390625,-0.0244903564453125,-0.0171966552734375,0.04461669921875,0.028839111328125,0.02783203125,0.01763916015625,-0.01111602783203125,0.021575927734375,0.01239776611328125,-0.020843505859375,0.0177001953125,0.00516510009765625,0.01349639892578125,0.0220184326171875,0.0362548828125,0.048126220703125,0.050018310546875,0.038543701171875,0.00934600830078125,0.0202789306640625,0.0274810791015625,0.05438232421875,0.028350830078125,0.03863525390625,0.0194244384765625,-0.0032806396484375,0.0004916191101074219,0.0382080078125,0.069580078125,0.018646240234375,0.038543701171875,0.0098419189453125,0.06512451171875,0.06439208984375,0.03924560546875,0.06842041015625,0.0208740234375,0.050140380859375,0.0222015380859375,0.0526123046875,0.01235198974609375,-0.045074462890625],[-0.00997161865234375,-0.032501220703125,-0.009246826171875,-0.022308349609375,-0.033203125,-0.0406494140625,-0.05084228515625,-0.059295654296875,-0.0518798828125,-0.072021484375,-0.0198822021484375,-0.0304718017578125,-0.1734619140625,-0.107421875,-0.0836181640625,-0.07275390625,-0.148193359375,-0.08038330078125,-0.08209228515625,-0.08367919921875,-0.06805419921875,-0.034454345703125,-0.0158538818359375,-0.059051513671875,-0.07196044921875,-0.054534912109375,-0.0848388671875,-0.0909423828125,-0.0135955810546875,-0.037689208984375,-0.062744140625,-0.076416015625,-0.025177001953125,-0.003932952880859375,-0.0704345703125,-0.058685302734375,-0.0235595703125,-0.01654052734375,-0.036224365234375,-0.03509521484375,-0.00937652587890625,-0.01300048828125,-0.054534912109375,-0.05816650390625,-0.020751953125,0.017120361328125,0.036468505859375,-0.0019741058349609375,0.01320648193359375,0.01203155517578125,0.0296478271484375,-0.015960693359375,-0.0024967193603515625,-0.0628662109375,-0.0267486572265625,-0.01306915283203125,-0.042083740234375,-0.0019350051879882812,-0.031585693359375,-0.035125732421875],[0.018768310546875,-0.05499267578125,-0.0022678375244140625,-0.012786865234375,-0.1104736328125,-0.07562255859375,-0.058013916015625,-0.04833984375,-0.0161590576171875,-0.04034423828125,0.004276275634765625,0.0194091796875,-0.0960693359375,-0.07025146484375,-0.030609130859375,-0.05047607421875,-0.104736328125,0.0027599334716796875,-0.0305938720703125,-0.01441192626953125,-0.00014829635620117188,6.884336471557617e-05,-0.0141754150390625,-0.035064697265625,-0.02239990234375,-0.05303955078125,-0.091552734375,-0.078857421875,0.0018472671508789062,-0.0323486328125,-0.06402587890625,-0.06549072265625,-0.0172271728515625,-0.01806640625,-0.0241241455078125,-0.0919189453125,-0.0396728515625,-0.0673828125,-0.0789794921875,-0.031768798828125,-0.04150390625,-0.0523681640625,-0.091552734375,-0.102783203125,-0.015106201171875,0.0362548828125,0.047088623046875,-0.0295867919921875,-0.0080108642578125,-0.0219573974609375,0.0278472900390625,-0.024200439453125,-0.02459716796875,-0.05377197265625,-0.0272369384765625,-0.004764556884765625,-0.061553955078125,-0.0004596710205078125,-0.04046630859375,-0.036285400390625],[0.0631103515625,0.03216552734375,0.06439208984375,0.100830078125,-0.033294677734375,-0.03369140625,-0.0213165283203125,0.06884765625,0.10723876953125,0.038909912109375,0.05401611328125,0.08221435546875,0.003398895263671875,0.006591796875,0.0711669921875,0.0025081634521484375,-0.053955078125,0.044158935546875,-0.0115814208984375,-0.0078582763671875,0.047332763671875,0.0670166015625,0.09820556640625,0.09259033203125,0.1053466796875,0.048583984375,0.10003662109375,0.08892822265625,0.061920166015625,0.06585693359375,0.030731201171875,0.0023937225341796875,0.035552978515625,0.0791015625,0.03887939453125,0.025054931640625,-0.00255584716796875,-0.04473876953125,0.004596710205078125,0.00926971435546875,-0.031494140625,-0.006557464599609375,0.0108184814453125,-0.0279693603515625,0.019500732421875,0.102783203125,0.10107421875,0.04766845703125,0.00722503662109375,0.048828125,0.1240234375,0.0919189453125,0.0261993408203125,-0.02178955078125,0.113037109375,0.03570556640625,0.0328369140625,0.0794677734375,0.0814208984375,-0.00531005859375],[0.10418701171875,0.0728759765625,0.1827392578125,0.11920166015625,-0.07794189453125,0.002323150634765625,0.004642486572265625,0.0687255859375,0.1905517578125,0.1346435546875,0.11578369140625,0.1197509765625,0.06292724609375,0.0085601806640625,0.07305908203125,0.044921875,-0.015716552734375,0.11126708984375,-0.04107666015625,-0.0161895751953125,0.1544189453125,0.134521484375,0.1263427734375,0.1654052734375,0.122314453125,0.144287109375,0.08282470703125,0.063232421875,0.1802978515625,0.0968017578125,0.06854248046875,0.037841796875,0.09002685546875,0.1702880859375,0.08453369140625,0.0146942138671875,0.0450439453125,0.0006957054138183594,0.08050537109375,0.0308837890625,-0.05987548828125,0.05413818359375,0.049163818359375,-0.01271820068359375,0.020050048828125,0.11993408203125,0.1256103515625,0.0400390625,-0.038604736328125,0.08477783203125,0.220703125,0.10772705078125,0.01531982421875,-0.040802001953125,0.11846923828125,0.05157470703125,0.0748291015625,0.1883544921875,0.08905029296875,-0.0203857421875],[0.1474609375,0.10491943359375,0.19287109375,0.132080078125,-0.2783203125,-0.147705078125,0.0587158203125,0.080322265625,0.16259765625,0.10711669921875,0.1556396484375,0.1900634765625,0.09539794921875,0.10479736328125,0.1929931640625,0.10662841796875,0.10693359375,0.2454833984375,0.094970703125,0.07733154296875,0.06793212890625,0.075439453125,0.195068359375,0.190185546875,0.148193359375,0.1534423828125,0.10699462890625,0.135009765625,0.07232666015625,0.048309326171875,0.0660400390625,0.055023193359375,0.08831787109375,0.151123046875,0.0032672882080078125,0.0182037353515625,-0.0216217041015625,0.08135986328125,0.08489990234375,-0.049102783203125,0.07415771484375,0.092529296875,0.04608154296875,-0.0994873046875,-0.061187744140625,0.1336669921875,0.054840087890625,0.029541015625,-0.128662109375,0.056121826171875,0.1995849609375,0.1146240234375,-0.0160369873046875,0.011871337890625,0.126953125,0.033538818359375,0.1290283203125,0.2017822265625,0.10455322265625,-0.2315673828125],[0.00830078125,-0.0158233642578125,0.038604736328125,0.055145263671875,-0.52001953125,-0.245849609375,0.01580810546875,0.060577392578125,0.1326904296875,0.0301361083984375,0.1744384765625,0.171875,0.0150909423828125,0.12127685546875,0.17578125,0.037872314453125,0.05303955078125,0.269775390625,0.1162109375,0.1661376953125,0.08355712890625,0.12646484375,0.1956787109375,0.12310791015625,0.1805419921875,0.162353515625,0.0859375,0.1673583984375,0.1094970703125,0.08319091796875,0.1561279296875,0.1304931640625,0.13232421875,0.10028076171875,-0.0697021484375,0.0004792213439941406,0.00818634033203125,0.046722412109375,0.052520751953125,-0.12164306640625,0.03338623046875,0.0838623046875,0.0606689453125,-0.035919189453125,-0.0103302001953125,0.138427734375,0.05023193359375,0.052337646484375,-0.15234375,0.055816650390625,0.174560546875,0.08258056640625,-0.02899169921875,0.00200653076171875,0.09405517578125,-0.01166534423828125,0.055023193359375,0.08514404296875,0.06927490234375,-0.1488037109375],[0.0175933837890625,0.037353515625,0.07745361328125,0.08514404296875,-0.426025390625,-0.2398681640625,0.075927734375,0.1927490234375,0.1688232421875,0.08984375,0.2373046875,0.2178955078125,0.02978515625,0.1412353515625,0.12451171875,-0.047088623046875,-0.0582275390625,0.259521484375,0.0968017578125,0.0518798828125,0.2269287109375,0.1995849609375,0.207275390625,0.1588134765625,0.1510009765625,0.1881103515625,0.075439453125,0.141845703125,0.2064208984375,0.167236328125,0.18310546875,0.1412353515625,0.1365966796875,0.10101318359375,-0.0071563720703125,-0.008697509765625,0.042510986328125,0.069580078125,0.00830841064453125,-0.1412353515625,0.005855560302734375,0.06719970703125,0.06854248046875,0.035797119140625,0.039520263671875,0.1541748046875,0.126708984375,0.1136474609375,-0.1322021484375,0.07232666015625,0.16943359375,0.058685302734375,-0.005733489990234375,0.068603515625,0.0780029296875,0.048187255859375,0.0916748046875,0.1224365234375,0.0811767578125,-0.043701171875],[-0.0025844573974609375,-0.036041259765625,-0.0477294921875,0.041656494140625,-0.60205078125,-0.425048828125,0.05419921875,0.3271484375,0.16748046875,-0.0151214599609375,0.18212890625,0.08197021484375,-0.033966064453125,0.00948333740234375,-0.0009918212890625,-0.28955078125,-0.2056884765625,0.21044921875,0.08197021484375,0.03985595703125,0.07318115234375,0.06304931640625,0.037445068359375,0.05255126953125,0.0264129638671875,0.12744140625,0.0117645263671875,0.03704833984375,0.04949951171875,-0.0003113746643066406,0.040802001953125,0.0067596435546875,0.036468505859375,0.01837158203125,-0.12066650390625,-0.11273193359375,-0.09393310546875,-0.0224151611328125,-0.09674072265625,-0.23095703125,-0.11248779296875,-0.0273895263671875,-0.003231048583984375,-0.08984375,-0.09735107421875,0.0181884765625,-0.07623291015625,0.00301361083984375,-0.327880859375,-0.0640869140625,0.05316162109375,0.00794219970703125,-0.1365966796875,0.01158905029296875,0.047607421875,-0.1219482421875,-0.03900146484375,-0.04779052734375,-0.09356689453125,-0.1322021484375],[0.0355224609375,0.0667724609375,0.01410675048828125,0.03485107421875,-0.650390625,-0.477294921875,0.0841064453125,0.5771484375,0.372802734375,0.251708984375,0.35693359375,0.2607421875,0.050201416015625,0.0697021484375,0.17822265625,-0.238037109375,-0.1590576171875,0.4384765625,0.260986328125,0.303466796875,0.26953125,0.2568359375,0.149169921875,0.208984375,0.250244140625,0.268310546875,0.2000732421875,0.25830078125,0.359130859375,0.264892578125,0.319091796875,0.30029296875,0.345703125,0.27099609375,0.11663818359375,0.210693359375,0.234130859375,0.2332763671875,0.1253662109375,0.030181884765625,0.1275634765625,0.28662109375,0.3134765625,0.12469482421875,0.12060546875,0.208251953125,0.1185302734375,0.26318359375,0.0263671875,0.1529541015625,0.2880859375,0.2315673828125,0.052703857421875,0.266357421875,0.256103515625,0.003658294677734375,0.08392333984375,0.06512451171875,0.10260009765625,0.09088134765625],[0.11492919921875,0.1337890625,0.106689453125,0.1871337890625,-0.409423828125,-0.150146484375,0.35009765625,0.76220703125,0.62060546875,0.4853515625,0.57177734375,0.379638671875,0.1929931640625,0.2496337890625,0.30859375,-0.042938232421875,0.114990234375,0.66552734375,0.546875,0.55224609375,0.5947265625,0.4794921875,0.359375,0.40625,0.50048828125,0.4228515625,0.357421875,0.53955078125,0.68310546875,0.55224609375,0.5009765625,0.442138671875,0.46826171875,0.3369140625,0.22705078125,0.365234375,0.362060546875,0.3916015625,0.317626953125,0.11529541015625,0.2178955078125,0.363037109375,0.349609375,0.283203125,0.287109375,0.3388671875,0.353515625,0.50390625,0.1839599609375,0.3447265625,0.483642578125,0.3974609375,0.18505859375,0.468994140625,0.414794921875,0.05633544921875,0.1744384765625,0.192626953125,0.26416015625,0.301025390625],[0.2890625,0.2247314453125,0.2275390625,0.28955078125,-0.1531982421875,0.2003173828125,0.419189453125,0.9765625,0.93505859375,0.62939453125,0.5478515625,0.37109375,0.37939453125,0.45751953125,0.435791015625,0.1630859375,0.314453125,0.8349609375,0.71630859375,0.8818359375,0.70166015625,0.465576171875,0.308837890625,0.2626953125,0.47900390625,0.399169921875,0.276123046875,0.54248046875,0.65234375,0.447998046875,0.4365234375,0.41552734375,0.51416015625,0.227783203125,0.1846923828125,0.37646484375,0.3369140625,0.3720703125,0.439453125,0.057281494140625,0.10699462890625,0.26123046875,0.2568359375,0.255615234375,0.2198486328125,0.291748046875,0.341064453125,0.480224609375,0.10089111328125,0.3505859375,0.493408203125,0.392822265625,0.0965576171875,0.44287109375,0.443603515625,0.078857421875,0.1600341796875,0.2215576171875,0.2415771484375,0.3759765625],[0.400146484375,0.37646484375,0.263916015625,0.2362060546875,-0.13818359375,0.38671875,0.44384765625,1.171875,1.140625,0.833984375,0.62451171875,0.48388671875,0.486572265625,0.44775390625,0.461669921875,0.1995849609375,0.556640625,1.109375,0.85546875,1.076171875,0.86865234375,0.59619140625,0.379150390625,0.37890625,0.55419921875,0.50537109375,0.453857421875,0.8935546875,0.90576171875,0.552734375,0.6025390625,0.5859375,0.65087890625,0.261474609375,0.395751953125,0.55517578125,0.568359375,0.419921875,0.5966796875,0.2744140625,0.1956787109375,0.319580078125,0.50341796875,0.5986328125,0.5869140625,0.52197265625,0.64892578125,0.66015625,0.432861328125,0.40087890625,0.428466796875,0.486083984375,0.1478271484375,0.386474609375,0.418212890625,0.268798828125,0.32080078125,0.209716796875,0.447509765625,0.64453125],[0.6396484375,0.548828125,0.458251953125,0.39306640625,0.0675048828125,0.50048828125,0.5810546875,1.45703125,1.34375,1.0390625,0.8408203125,0.63232421875,0.5634765625,0.59814453125,0.6201171875,0.471923828125,0.6748046875,1.4296875,1.013671875,1.4697265625,1.1689453125,0.904296875,0.494140625,0.56689453125,0.68017578125,0.64208984375,0.44775390625,1.0673828125,1.31640625,0.8818359375,0.87109375,0.8857421875,0.966796875,0.431640625,0.7236328125,0.84375,0.75,0.53369140625,0.681640625,0.32421875,0.301025390625,0.44482421875,0.7001953125,0.80419921875,0.82958984375,0.6923828125,0.98046875,0.90625,0.64697265625,0.576171875,0.73779296875,0.77734375,0.324462890625,0.55322265625,0.697265625,0.368896484375,0.3837890625,0.35302734375,0.67138671875,0.80078125],[0.2568359375,0.15869140625,0.0078887939453125,-0.0633544921875,-0.346923828125,0.1390380859375,0.2442626953125,1.2412109375,1.017578125,0.6982421875,0.47216796875,0.2734375,0.236083984375,0.29931640625,0.30322265625,0.2120361328125,0.351318359375,1.1376953125,0.71533203125,1.0849609375,0.6435546875,0.3037109375,0.11236572265625,0.15087890625,0.2265625,0.0792236328125,0.01293182373046875,0.5966796875,0.90966796875,0.4931640625,0.414794921875,0.275390625,0.448486328125,-0.058380126953125,-0.02874755859375,0.320068359375,0.39501953125,0.11865234375,0.319091796875,-0.1533203125,-0.057098388671875,-0.0231475830078125,0.1759033203125,0.3857421875,0.42333984375,0.318603515625,0.669921875,0.362060546875,0.08282470703125,0.162109375,0.37451171875,0.362060546875,-0.0160980224609375,0.037200927734375,0.31640625,-0.0943603515625,0.01213836669921875,0.015777587890625,0.31640625,0.482666015625],[0.300048828125,0.415771484375,0.06378173828125,0.071044921875,-0.0279083251953125,0.59130859375,0.489501953125,1.7978515625,1.6455078125,1.298828125,1.0185546875,0.83740234375,0.6455078125,0.86279296875,0.8701171875,0.5380859375,0.75439453125,1.609375,1.1240234375,1.8984375,1.357421875,0.97607421875,0.5732421875,0.60107421875,0.71875,0.490966796875,0.426025390625,1.3525390625,1.732421875,1.11328125,0.966796875,0.8359375,1.1640625,0.49169921875,0.353759765625,0.86083984375,0.83740234375,0.4326171875,0.357421875,0.3525390625,0.419921875,0.56103515625,0.85302734375,0.94873046875,1.013671875,0.93408203125,1.4560546875,0.98486328125,0.74658203125,0.8134765625,0.91064453125,0.98095703125,0.623046875,0.168701171875,0.853515625,0.322265625,0.39892578125,0.314697265625,0.8388671875,1.12890625],[-0.0477294921875,0.01270294189453125,-0.30810546875,-0.278076171875,-0.50927734375,-0.138916015625,0.0009984970092773438,1.2236328125,0.9912109375,0.572265625,0.60595703125,0.326904296875,0.1895751953125,0.329345703125,0.42724609375,0.050262451171875,0.325439453125,0.994140625,0.61474609375,1.41796875,0.9638671875,0.45849609375,0.30908203125,0.287109375,0.319580078125,-0.015716552734375,0.1279296875,0.95751953125,1.1962890625,0.74853515625,0.5380859375,0.46337890625,0.7958984375,0.0235748291015625,-0.044525146484375,0.498291015625,0.446533203125,0.056396484375,0.031585693359375,0.028076171875,0.18505859375,0.1602783203125,0.35693359375,0.492919921875,0.5576171875,0.46875,0.89453125,0.5791015625,0.4228515625,0.45166015625,0.54541015625,0.59814453125,0.356689453125,-0.39453125,0.6640625,0.057708740234375,0.07073974609375,0.07073974609375,0.484375,0.487548828125],[-0.08465576171875,0.1329345703125,-0.2239990234375,-0.056396484375,-0.371337890625,-0.00096893310546875,0.2239990234375,1.23046875,0.994140625,0.41259765625,0.74365234375,0.40185546875,0.22998046875,0.328125,0.50732421875,0.0584716796875,0.261474609375,0.83642578125,0.6171875,1.6181640625,1.0537109375,0.41015625,0.473876953125,0.456787109375,0.2406005859375,-0.206298828125,0.28857421875,1.0693359375,1.4765625,1.0732421875,0.75634765625,0.58447265625,0.93896484375,0.024169921875,0.04150390625,0.67041015625,0.58984375,0.219970703125,0.2000732421875,0.1322021484375,0.285400390625,0.27734375,0.6962890625,0.77978515625,0.59765625,0.56103515625,1.1826171875,0.82275390625,0.6396484375,0.72705078125,0.8349609375,0.79248046875,0.464599609375,-0.603515625,0.96728515625,0.086669921875,0.1982421875,0.1607666015625,0.87939453125,0.634765625],[0.62744140625,0.80810546875,0.323974609375,0.477783203125,0.09228515625,0.61181640625,0.52880859375,1.6181640625,1.498046875,1.13671875,0.966796875,0.94677734375,0.76904296875,0.74462890625,1.0439453125,0.7138671875,0.94287109375,1.4345703125,1.2041015625,2.021484375,1.3876953125,0.79345703125,0.77978515625,0.8076171875,0.60546875,0.13330078125,0.5166015625,1.62109375,1.9931640625,1.50390625,1.46484375,1.2568359375,1.53515625,0.6708984375,0.5341796875,1.4638671875,1.314453125,0.84814453125,0.70751953125,0.62744140625,0.736328125,0.7568359375,1.2646484375,1.57421875,1.06640625,1.1845703125,1.779296875,1.451171875,1.2255859375,1.15625,1.2822265625,1.2958984375,0.98388671875,-0.007282257080078125,1.4482421875,0.5966796875,0.73193359375,0.6416015625,1.556640625,1.107421875],[-0.381591796875,-0.149169921875,-0.6962890625,-0.609375,-0.82177734375,-0.234619140625,-0.46240234375,0.9423828125,0.82421875,0.39599609375,0.326904296875,0.07403564453125,0.1636962890625,-0.026123046875,0.125732421875,-0.393798828125,0.077880859375,0.61767578125,0.39501953125,1.1982421875,0.564453125,-0.286865234375,0.005931854248046875,0.1427001953125,-0.1240234375,-0.8701171875,-0.4541015625,0.98876953125,1.291015625,0.787109375,0.7626953125,0.60595703125,0.76953125,-0.26123046875,-0.277099609375,0.47265625,0.48779296875,-0.01114654541015625,-0.1485595703125,-0.25634765625,-0.114501953125,-0.24169921875,0.66748046875,0.8779296875,0.440185546875,0.544921875,1.23046875,0.7568359375,0.3310546875,0.2359619140625,0.30908203125,0.35986328125,-0.07122802734375,-1.275390625,0.54541015625,-0.3076171875,-0.139892578125,-0.247802734375,0.62841796875,0.27880859375],[0.82861328125,1.0205078125,0.368408203125,0.283935546875,0.11407470703125,0.630859375,0.2486572265625,2.025390625,1.896484375,1.1455078125,1.5087890625,1.0087890625,1.3525390625,1.23828125,1.3193359375,0.2088623046875,1.0419921875,1.6015625,1.62890625,2.349609375,1.380859375,0.413818359375,1.2001953125,1.4677734375,0.73291015625,-0.24365234375,0.489013671875,1.9111328125,2.177734375,1.880859375,1.9638671875,1.802734375,1.666015625,0.67236328125,0.71630859375,1.435546875,1.4658203125,0.9375,0.7529296875,0.72216796875,0.80224609375,0.55615234375,1.720703125,1.958984375,1.5458984375,1.5654296875,2.275390625,1.84375,1.2939453125,1.2470703125,1.3486328125,1.498046875,0.91259765625,-0.53515625,1.521484375,0.78955078125,0.94677734375,0.89111328125,1.62109375,1.2744140625],[-0.7197265625,-0.54931640625,-1.126953125,-1.392578125,-1.5859375,-1.2626953125,-1.4990234375,0.031646728515625,-0.04876708984375,-0.82958984375,-0.318115234375,-0.92626953125,-0.451904296875,-0.583984375,-0.6044921875,-1.71875,-0.654296875,-0.11749267578125,-0.10186767578125,0.51025390625,-0.5263671875,-1.2529296875,-0.521484375,-0.309814453125,-0.9560546875,-1.8681640625,-1.291015625,0.018463134765625,0.3251953125,0.153564453125,0.073486328125,0.10052490234375,0.1055908203125,-1.0263671875,-1.0107421875,-0.374755859375,-0.1722412109375,-0.82763671875,-1.0068359375,-0.8671875,-0.75537109375,-1.1826171875,-0.022003173828125,0.122314453125,-0.34521484375,-0.40625,0.363037109375,0.11029052734375,-0.4404296875,-0.63330078125,-0.429931640625,-0.280029296875,-0.8447265625,-2.361328125,-0.2135009765625,-0.7431640625,-0.599609375,-0.71923828125,-0.013671875,-0.341796875],[-0.009857177734375,-0.0147247314453125,-0.662109375,-1.09375,-1.2548828125,-0.8466796875,-1.400390625,0.340576171875,0.27197265625,-1.0244140625,0.22998046875,-0.79833984375,0.057281494140625,-0.161376953125,-0.491455078125,-2.111328125,-0.365966796875,0.32080078125,0.310791015625,0.81591796875,-0.6044921875,-1.0078125,0.02337646484375,0.3076171875,-0.728515625,-1.6513671875,-0.69921875,0.2115478515625,0.58349609375,0.53955078125,0.262451171875,0.5205078125,0.3515625,-0.630859375,-0.419921875,-0.294921875,0.57177734375,-0.180908203125,-0.4912109375,-0.29052734375,-0.09857177734375,-0.96044921875,-0.032440185546875,0.28515625,-0.26953125,-0.274658203125,0.83056640625,0.3828125,-0.2396240234375,-0.28564453125,-0.051971435546875,-0.00855255126953125,-0.470947265625,-2.234375,-0.15771484375,-0.1905517578125,-0.22998046875,-0.398681640625,-0.084228515625,-0.17919921875],[0.6923828125,0.26171875,-0.1661376953125,-0.8681640625,-0.70751953125,-0.459228515625,-1.0625,1.166015625,1.0966796875,-0.525390625,0.449951171875,-0.6533203125,0.69482421875,0.39306640625,-0.005664825439453125,-1.7998046875,-0.1771240234375,1.052734375,1.1123046875,1.4638671875,-0.437255859375,-0.83251953125,0.3388671875,1.009765625,-0.1883544921875,-1.1962890625,0.039794921875,0.84619140625,1.236328125,1.2763671875,0.77783203125,1.1572265625,0.72021484375,-0.0885009765625,0.2288818359375,0.134033203125,0.9267578125,0.430419921875,0.08819580078125,0.35595703125,0.50048828125,-0.4833984375,0.361328125,0.98974609375,0.047332763671875,0.0814208984375,1.3515625,0.966796875,0.234130859375,0.427490234375,0.32470703125,0.466064453125,0.4208984375,-1.8017578125,-0.043731689453125,0.3720703125,0.12371826171875,0.0970458984375,-0.0032482147216796875,0.12103271484375],[1.21875,0.67236328125,0.1385498046875,-0.9541015625,-0.307861328125,-0.10614013671875,-0.4091796875,1.671875,1.416015625,-0.6416015625,0.2998046875,-0.83935546875,0.740234375,0.496826171875,-0.1541748046875,-2.005859375,-0.10601806640625,0.9521484375,1.2587890625,1.716796875,-0.7744140625,-0.515625,0.591796875,1.3759765625,-0.25732421875,-0.52734375,0.2435302734375,0.8642578125,1.42578125,1.4365234375,0.8857421875,1.703125,0.6298828125,-0.15869140625,0.60009765625,0.03369140625,0.96142578125,0.472412109375,0.0880126953125,0.308349609375,0.515625,-0.1197509765625,0.5380859375,1.232421875,0.310302734375,0.033935546875,1.36328125,1.0673828125,0.07769775390625,0.5576171875,0.20361328125,0.50927734375,0.71435546875,-1.1064453125,-0.274169921875,0.79248046875,0.495849609375,0.374755859375,0.00630950927734375,0.6298828125],[-0.9453125,-0.8466796875,-1.4091796875,-3.189453125,-1.591796875,-1.376953125,-1.7451171875,0.036651611328125,-0.43896484375,-2.33984375,-2.185546875,-3.115234375,-1.2099609375,-1.7080078125,-2.728515625,-4.4453125,-1.818359375,-0.433837890625,-0.157470703125,0.075927734375,-2.81640625,-1.9404296875,-0.61376953125,0.00933837890625,-2.369140625,-2.3125,-1.4931640625,-1.087890625,-0.2442626953125,-0.420654296875,-1.0400390625,-0.26416015625,-1.10546875,-1.697265625,-0.260009765625,-1.6748046875,-0.888671875,-1.279296875,-1.123046875,-0.87890625,-0.875,-1.5654296875,-1.3193359375,-0.59814453125,-1.9716796875,-2.03125,-0.4521484375,-1.1025390625,-1.9658203125,-1.7255859375,-1.90234375,-1.2099609375,-0.385986328125,-1.98828125,-2.31640625,-1.1376953125,-1.173828125,-1.2841796875,-1.9755859375,-1.220703125],[-0.1759033203125,-0.1668701171875,-1.6005859375,-4.20703125,-1.8603515625,-0.6181640625,-0.99755859375,0.48876953125,0.00656890869140625,-2.962890625,-2.85546875,-4.2421875,-1.6318359375,-2.93359375,-4.15234375,-5.45703125,-2.306640625,-0.158447265625,-0.1533203125,0.67236328125,-3.630859375,-2.4140625,-0.8544921875,-0.21533203125,-3.705078125,-2.8828125,-1.607421875,-1.7060546875,-0.2333984375,-1.169921875,-1.2099609375,-0.3984375,-0.658203125,-1.2587890625,0.53125,-0.98583984375,-0.2197265625,-1.41015625,-1.109375,-0.82421875,-0.64599609375,-1.87109375,-1.814453125,-0.859375,-1.4521484375,-2.056640625,0.055816650390625,-1.4189453125,-2.546875,-1.7900390625,-2.158203125,-1.53125,-0.51123046875,-1.599609375,-3.16015625,-0.60888671875,-0.299072265625,-0.9228515625,-2.01171875,-0.6767578125],[11.8515625,3.4765625,-3.771484375,5.8125,19.4375,17.890625,14.921875,23.109375,20.875,23.765625,9.1328125,8.546875,12.1171875,3.880859375,5.1640625,10.5703125,12.59375,25.28125,25.359375,23.5625,15.84375,5.91796875,3.916015625,8.8203125,-5.1796875,10.359375,0.15576171875,16.9375,41.625,11.875,12.734375,22.8125,24.921875,4.3984375,17.625,26.40625,33.15625,25.203125,21.59375,13.5078125,9.7890625,8.1328125,10.875,19.953125,15.984375,7.98046875,37.59375,17.578125,12.2265625,11.890625,1.466796875,8.28125,12.65625,7.9140625,-4.19921875,12.5859375,7.3125,-1.0126953125,12.3828125,15.5234375]],\"type\":\"heatmap\",\"xaxis\":\"x\",\"yaxis\":\"y\",\"hovertemplate\":\"Token: %{x}\\u003cbr\\u003ey: %{y}\\u003cbr\\u003ecolor: %{z}\\u003cextra\\u003e\\u003c\\u002fextra\\u003e\"}],                        {\"template\":{\"data\":{\"histogram2dcontour\":[{\"type\":\"histogram2dcontour\",\"colorbar\":{\"outlinewidth\":0,\"ticks\":\"\"},\"colorscale\":[[0.0,\"#0d0887\"],[0.1111111111111111,\"#46039f\"],[0.2222222222222222,\"#7201a8\"],[0.3333333333333333,\"#9c179e\"],[0.4444444444444444,\"#bd3786\"],[0.5555555555555556,\"#d8576b\"],[0.6666666666666666,\"#ed7953\"],[0.7777777777777778,\"#fb9f3a\"],[0.8888888888888888,\"#fdca26\"],[1.0,\"#f0f921\"]]}],\"choropleth\":[{\"type\":\"choropleth\",\"colorbar\":{\"outlinewidth\":0,\"ticks\":\"\"}}],\"histogram2d\":[{\"type\":\"histogram2d\",\"colorbar\":{\"outlinewidth\":0,\"ticks\":\"\"},\"colorscale\":[[0.0,\"#0d0887\"],[0.1111111111111111,\"#46039f\"],[0.2222222222222222,\"#7201a8\"],[0.3333333333333333,\"#9c179e\"],[0.4444444444444444,\"#bd3786\"],[0.5555555555555556,\"#d8576b\"],[0.6666666666666666,\"#ed7953\"],[0.7777777777777778,\"#fb9f3a\"],[0.8888888888888888,\"#fdca26\"],[1.0,\"#f0f921\"]]}],\"heatmap\":[{\"type\":\"heatmap\",\"colorbar\":{\"outlinewidth\":0,\"ticks\":\"\"},\"colorscale\":[[0.0,\"#0d0887\"],[0.1111111111111111,\"#46039f\"],[0.2222222222222222,\"#7201a8\"],[0.3333333333333333,\"#9c179e\"],[0.4444444444444444,\"#bd3786\"],[0.5555555555555556,\"#d8576b\"],[0.6666666666666666,\"#ed7953\"],[0.7777777777777778,\"#fb9f3a\"],[0.8888888888888888,\"#fdca26\"],[1.0,\"#f0f921\"]]}],\"heatmapgl\":[{\"type\":\"heatmapgl\",\"colorbar\":{\"outlinewidth\":0,\"ticks\":\"\"},\"colorscale\":[[0.0,\"#0d0887\"],[0.1111111111111111,\"#46039f\"],[0.2222222222222222,\"#7201a8\"],[0.3333333333333333,\"#9c179e\"],[0.4444444444444444,\"#bd3786\"],[0.5555555555555556,\"#d8576b\"],[0.6666666666666666,\"#ed7953\"],[0.7777777777777778,\"#fb9f3a\"],[0.8888888888888888,\"#fdca26\"],[1.0,\"#f0f921\"]]}],\"contourcarpet\":[{\"type\":\"contourcarpet\",\"colorbar\":{\"outlinewidth\":0,\"ticks\":\"\"}}],\"contour\":[{\"type\":\"contour\",\"colorbar\":{\"outlinewidth\":0,\"ticks\":\"\"},\"colorscale\":[[0.0,\"#0d0887\"],[0.1111111111111111,\"#46039f\"],[0.2222222222222222,\"#7201a8\"],[0.3333333333333333,\"#9c179e\"],[0.4444444444444444,\"#bd3786\"],[0.5555555555555556,\"#d8576b\"],[0.6666666666666666,\"#ed7953\"],[0.7777777777777778,\"#fb9f3a\"],[0.8888888888888888,\"#fdca26\"],[1.0,\"#f0f921\"]]}],\"surface\":[{\"type\":\"surface\",\"colorbar\":{\"outlinewidth\":0,\"ticks\":\"\"},\"colorscale\":[[0.0,\"#0d0887\"],[0.1111111111111111,\"#46039f\"],[0.2222222222222222,\"#7201a8\"],[0.3333333333333333,\"#9c179e\"],[0.4444444444444444,\"#bd3786\"],[0.5555555555555556,\"#d8576b\"],[0.6666666666666666,\"#ed7953\"],[0.7777777777777778,\"#fb9f3a\"],[0.8888888888888888,\"#fdca26\"],[1.0,\"#f0f921\"]]}],\"mesh3d\":[{\"type\":\"mesh3d\",\"colorbar\":{\"outlinewidth\":0,\"ticks\":\"\"}}],\"scatter\":[{\"fillpattern\":{\"fillmode\":\"overlay\",\"size\":10,\"solidity\":0.2},\"type\":\"scatter\"}],\"parcoords\":[{\"type\":\"parcoords\",\"line\":{\"colorbar\":{\"outlinewidth\":0,\"ticks\":\"\"}}}],\"scatterpolargl\":[{\"type\":\"scatterpolargl\",\"marker\":{\"colorbar\":{\"outlinewidth\":0,\"ticks\":\"\"}}}],\"bar\":[{\"error_x\":{\"color\":\"#2a3f5f\"},\"error_y\":{\"color\":\"#2a3f5f\"},\"marker\":{\"line\":{\"color\":\"#E5ECF6\",\"width\":0.5},\"pattern\":{\"fillmode\":\"overlay\",\"size\":10,\"solidity\":0.2}},\"type\":\"bar\"}],\"scattergeo\":[{\"type\":\"scattergeo\",\"marker\":{\"colorbar\":{\"outlinewidth\":0,\"ticks\":\"\"}}}],\"scatterpolar\":[{\"type\":\"scatterpolar\",\"marker\":{\"colorbar\":{\"outlinewidth\":0,\"ticks\":\"\"}}}],\"histogram\":[{\"marker\":{\"pattern\":{\"fillmode\":\"overlay\",\"size\":10,\"solidity\":0.2}},\"type\":\"histogram\"}],\"scattergl\":[{\"type\":\"scattergl\",\"marker\":{\"colorbar\":{\"outlinewidth\":0,\"ticks\":\"\"}}}],\"scatter3d\":[{\"type\":\"scatter3d\",\"line\":{\"colorbar\":{\"outlinewidth\":0,\"ticks\":\"\"}},\"marker\":{\"colorbar\":{\"outlinewidth\":0,\"ticks\":\"\"}}}],\"scattermapbox\":[{\"type\":\"scattermapbox\",\"marker\":{\"colorbar\":{\"outlinewidth\":0,\"ticks\":\"\"}}}],\"scatterternary\":[{\"type\":\"scatterternary\",\"marker\":{\"colorbar\":{\"outlinewidth\":0,\"ticks\":\"\"}}}],\"scattercarpet\":[{\"type\":\"scattercarpet\",\"marker\":{\"colorbar\":{\"outlinewidth\":0,\"ticks\":\"\"}}}],\"carpet\":[{\"aaxis\":{\"endlinecolor\":\"#2a3f5f\",\"gridcolor\":\"white\",\"linecolor\":\"white\",\"minorgridcolor\":\"white\",\"startlinecolor\":\"#2a3f5f\"},\"baxis\":{\"endlinecolor\":\"#2a3f5f\",\"gridcolor\":\"white\",\"linecolor\":\"white\",\"minorgridcolor\":\"white\",\"startlinecolor\":\"#2a3f5f\"},\"type\":\"carpet\"}],\"table\":[{\"cells\":{\"fill\":{\"color\":\"#EBF0F8\"},\"line\":{\"color\":\"white\"}},\"header\":{\"fill\":{\"color\":\"#C8D4E3\"},\"line\":{\"color\":\"white\"}},\"type\":\"table\"}],\"barpolar\":[{\"marker\":{\"line\":{\"color\":\"#E5ECF6\",\"width\":0.5},\"pattern\":{\"fillmode\":\"overlay\",\"size\":10,\"solidity\":0.2}},\"type\":\"barpolar\"}],\"pie\":[{\"automargin\":true,\"type\":\"pie\"}]},\"layout\":{\"autotypenumbers\":\"strict\",\"colorway\":[\"#636efa\",\"#EF553B\",\"#00cc96\",\"#ab63fa\",\"#FFA15A\",\"#19d3f3\",\"#FF6692\",\"#B6E880\",\"#FF97FF\",\"#FECB52\"],\"font\":{\"color\":\"#2a3f5f\"},\"hovermode\":\"closest\",\"hoverlabel\":{\"align\":\"left\"},\"paper_bgcolor\":\"white\",\"plot_bgcolor\":\"#E5ECF6\",\"polar\":{\"bgcolor\":\"#E5ECF6\",\"angularaxis\":{\"gridcolor\":\"white\",\"linecolor\":\"white\",\"ticks\":\"\"},\"radialaxis\":{\"gridcolor\":\"white\",\"linecolor\":\"white\",\"ticks\":\"\"}},\"ternary\":{\"bgcolor\":\"#E5ECF6\",\"aaxis\":{\"gridcolor\":\"white\",\"linecolor\":\"white\",\"ticks\":\"\"},\"baxis\":{\"gridcolor\":\"white\",\"linecolor\":\"white\",\"ticks\":\"\"},\"caxis\":{\"gridcolor\":\"white\",\"linecolor\":\"white\",\"ticks\":\"\"}},\"coloraxis\":{\"colorbar\":{\"outlinewidth\":0,\"ticks\":\"\"}},\"colorscale\":{\"sequential\":[[0.0,\"#0d0887\"],[0.1111111111111111,\"#46039f\"],[0.2222222222222222,\"#7201a8\"],[0.3333333333333333,\"#9c179e\"],[0.4444444444444444,\"#bd3786\"],[0.5555555555555556,\"#d8576b\"],[0.6666666666666666,\"#ed7953\"],[0.7777777777777778,\"#fb9f3a\"],[0.8888888888888888,\"#fdca26\"],[1.0,\"#f0f921\"]],\"sequentialminus\":[[0.0,\"#0d0887\"],[0.1111111111111111,\"#46039f\"],[0.2222222222222222,\"#7201a8\"],[0.3333333333333333,\"#9c179e\"],[0.4444444444444444,\"#bd3786\"],[0.5555555555555556,\"#d8576b\"],[0.6666666666666666,\"#ed7953\"],[0.7777777777777778,\"#fb9f3a\"],[0.8888888888888888,\"#fdca26\"],[1.0,\"#f0f921\"]],\"diverging\":[[0,\"#8e0152\"],[0.1,\"#c51b7d\"],[0.2,\"#de77ae\"],[0.3,\"#f1b6da\"],[0.4,\"#fde0ef\"],[0.5,\"#f7f7f7\"],[0.6,\"#e6f5d0\"],[0.7,\"#b8e186\"],[0.8,\"#7fbc41\"],[0.9,\"#4d9221\"],[1,\"#276419\"]]},\"xaxis\":{\"gridcolor\":\"white\",\"linecolor\":\"white\",\"ticks\":\"\",\"title\":{\"standoff\":15},\"zerolinecolor\":\"white\",\"automargin\":true,\"zerolinewidth\":2},\"yaxis\":{\"gridcolor\":\"white\",\"linecolor\":\"white\",\"ticks\":\"\",\"title\":{\"standoff\":15},\"zerolinecolor\":\"white\",\"automargin\":true,\"zerolinewidth\":2},\"scene\":{\"xaxis\":{\"backgroundcolor\":\"#E5ECF6\",\"gridcolor\":\"white\",\"linecolor\":\"white\",\"showbackground\":true,\"ticks\":\"\",\"zerolinecolor\":\"white\",\"gridwidth\":2},\"yaxis\":{\"backgroundcolor\":\"#E5ECF6\",\"gridcolor\":\"white\",\"linecolor\":\"white\",\"showbackground\":true,\"ticks\":\"\",\"zerolinecolor\":\"white\",\"gridwidth\":2},\"zaxis\":{\"backgroundcolor\":\"#E5ECF6\",\"gridcolor\":\"white\",\"linecolor\":\"white\",\"showbackground\":true,\"ticks\":\"\",\"zerolinecolor\":\"white\",\"gridwidth\":2}},\"shapedefaults\":{\"line\":{\"color\":\"#2a3f5f\"}},\"annotationdefaults\":{\"arrowcolor\":\"#2a3f5f\",\"arrowhead\":0,\"arrowwidth\":1},\"geo\":{\"bgcolor\":\"white\",\"landcolor\":\"#E5ECF6\",\"subunitcolor\":\"white\",\"showland\":true,\"showlakes\":true,\"lakecolor\":\"white\"},\"title\":{\"x\":0.05},\"mapbox\":{\"style\":\"light\"}}},\"xaxis\":{\"anchor\":\"y\",\"domain\":[0.0,1.0],\"scaleanchor\":\"y\",\"constrain\":\"domain\",\"title\":{\"text\":\"Token\"},\"tickvals\":[0,1,2,3,4,5,6,7,8,9,10,11,12,13,14,15,16,17,18,19,20,21,22,23,24,25,26,27,28,29,30,31,32,33,34,35,36,37,38,39,40,41,42,43,44,45,46,47,48,49,50,51,52,53,54,55,56,57,58,59],\"ticktext\":[\"\\u2581ver\",\"te\",\"br\",\"ates\",\".\",\"\\u2581[\",\"\\u002f\",\"INST\",\"]\",\"\\u2581The\",\"\\u2581amount\",\"\\u2581of\",\"\\u2581truth\",\"fulness\",\"\\u2581in\",\"\\u2581the\",\"\\u2581statement\",\"\\u2581is\",\"\\u2581high\",\".\",\"\\u2581The\",\"\\u2581Gal\",\"ap\",\"ag\",\"os\",\"\\u2581T\",\"ort\",\"oise\",\"\\u2581is\",\"\\u2581known\",\"\\u2581to\",\"\\u2581have\",\"\\u2581a\",\"\\u2581lif\",\"es\",\"pan\",\"\\u2581of\",\"\\u2581over\",\"\\u2581\",\"1\",\"0\",\"0\",\"\\u2581years\",\",\",\"\\u2581and\",\"\\u2581it\",\"\\u2581is\",\"\\u2581considered\",\"\\u2581one\",\"\\u2581of\",\"\\u2581the\",\"\\u2581longest\",\"-\",\"l\",\"iving\",\"\\u2581ver\",\"te\",\"br\",\"ates\",\".\"]},\"yaxis\":{\"anchor\":\"x\",\"domain\":[0.0,1.0],\"autorange\":\"reversed\",\"constrain\":\"domain\"},\"coloraxis\":{\"colorscale\":[[0.0,\"rgb(165,0,38)\"],[0.1,\"rgb(215,48,39)\"],[0.2,\"rgb(244,109,67)\"],[0.3,\"rgb(253,174,97)\"],[0.4,\"rgb(254,224,139)\"],[0.5,\"rgb(255,255,191)\"],[0.6,\"rgb(217,239,139)\"],[0.7,\"rgb(166,217,106)\"],[0.8,\"rgb(102,189,99)\"],[0.9,\"rgb(26,152,80)\"],[1.0,\"rgb(0,104,55)\"]],\"cmin\":-3.6484,\"cmax\":3.6484},\"margin\":{\"t\":60},\"width\":1000,\"height\":600},                        {\"responsive\": true}                    ).then(function(){\n",
       "                            \n",
       "var gd = document.getElementById('74dfed95-deb7-4ba8-acd1-853773f3d6be');\n",
       "var x = new MutationObserver(function (mutations, observer) {{\n",
       "        var display = window.getComputedStyle(gd).display;\n",
       "        if (!display || display === 'none') {{\n",
       "            console.log([gd, 'removed!']);\n",
       "            Plotly.purge(gd);\n",
       "            observer.disconnect();\n",
       "        }}\n",
       "}});\n",
       "\n",
       "// Listen for the removal of the full notebook cells\n",
       "var notebookContainer = gd.closest('#notebook-container');\n",
       "if (notebookContainer) {{\n",
       "    x.observe(notebookContainer, {childList: true});\n",
       "}}\n",
       "\n",
       "// Listen for the clearing of the current output cell\n",
       "var outputEl = gd.closest('.output');\n",
       "if (outputEl) {{\n",
       "    x.observe(outputEl, {childList: true});\n",
       "}}\n",
       "\n",
       "                        })                };                });            </script>        </div>"
      ]
     },
     "metadata": {},
     "output_type": "display_data"
    }
   ],
   "source": [
    "tokens = tokenizer.tokenize(output['text'])\n",
    "doc.plot_projection_heatmap(output['projections'], tokens, lastn_tokens_to_plot=max_new_tokens, saturate_at='auto')"
   ]
  },
  {
   "cell_type": "code",
   "execution_count": 107,
   "id": "379fe7a4-3698-4594-a3d3-b8d74491c58b",
   "metadata": {
    "tags": []
   },
   "outputs": [
    {
     "data": {
      "application/vnd.plotly.v1+json": {
       "config": {
        "plotlyServerURL": "https://plot.ly"
       },
       "data": [
        {
         "coloraxis": "coloraxis",
         "hovertemplate": "Token: %{x}<br>y: %{y}<br>color: %{z}<extra></extra>",
         "name": "0",
         "type": "heatmap",
         "xaxis": "x",
         "yaxis": "y",
         "z": [
          [
           -0.33544921875,
           -0.38671875,
           -0.36767578125,
           -0.388671875,
           -0.56103515625,
           -0.2880859375,
           -0.349853515625,
           -1.0986328125,
           -0.6328125,
           -0.415283203125,
           -0.5234375,
           0.121826171875,
           0.1817626953125,
           0.06591796875,
           -0.13818359375,
           -0.06707763671875,
           -0.370849609375,
           0.1812744140625,
           -0.263916015625,
           0.365234375,
           0.66943359375,
           0.40966796875,
           0.0308990478515625,
           0.09832763671875,
           0.00943756103515625,
           -0.09027099609375,
           0.138916015625,
           0.07513427734375,
           -0.3525390625,
           -0.313720703125,
           -0.76220703125,
           -0.25927734375,
           0.38134765625,
           0.11041259765625,
           0.17578125,
           0.0638427734375,
           1.4306640625,
           -0.01468658447265625,
           0.044921875,
           0.259521484375,
           0.0357666015625,
           0.291259765625,
           -0.01149749755859375,
           -0.0097503662109375,
           0.133056640625,
           0.193115234375,
           0.395751953125,
           0.399658203125,
           0.27392578125,
           0.2069091796875,
           0.380126953125,
           0.1878662109375,
           0.125244140625,
           0.11700439453125,
           0.0587158203125,
           0.050811767578125,
           0.2568359375,
           0.051849365234375,
           0.41455078125
          ]
         ]
        }
       ],
       "layout": {
        "autosize": true,
        "coloraxis": {
         "cmax": 1,
         "cmin": -1,
         "colorscale": [
          [
           0,
           "rgb(165,0,38)"
          ],
          [
           0.1,
           "rgb(215,48,39)"
          ],
          [
           0.2,
           "rgb(244,109,67)"
          ],
          [
           0.3,
           "rgb(253,174,97)"
          ],
          [
           0.4,
           "rgb(254,224,139)"
          ],
          [
           0.5,
           "rgb(255,255,191)"
          ],
          [
           0.6,
           "rgb(217,239,139)"
          ],
          [
           0.7,
           "rgb(166,217,106)"
          ],
          [
           0.8,
           "rgb(102,189,99)"
          ],
          [
           0.9,
           "rgb(26,152,80)"
          ],
          [
           1,
           "rgb(0,104,55)"
          ]
         ]
        },
        "margin": {
         "t": 60
        },
        "template": {
         "data": {
          "bar": [
           {
            "error_x": {
             "color": "#2a3f5f"
            },
            "error_y": {
             "color": "#2a3f5f"
            },
            "marker": {
             "line": {
              "color": "#E5ECF6",
              "width": 0.5
             },
             "pattern": {
              "fillmode": "overlay",
              "size": 10,
              "solidity": 0.2
             }
            },
            "type": "bar"
           }
          ],
          "barpolar": [
           {
            "marker": {
             "line": {
              "color": "#E5ECF6",
              "width": 0.5
             },
             "pattern": {
              "fillmode": "overlay",
              "size": 10,
              "solidity": 0.2
             }
            },
            "type": "barpolar"
           }
          ],
          "carpet": [
           {
            "aaxis": {
             "endlinecolor": "#2a3f5f",
             "gridcolor": "white",
             "linecolor": "white",
             "minorgridcolor": "white",
             "startlinecolor": "#2a3f5f"
            },
            "baxis": {
             "endlinecolor": "#2a3f5f",
             "gridcolor": "white",
             "linecolor": "white",
             "minorgridcolor": "white",
             "startlinecolor": "#2a3f5f"
            },
            "type": "carpet"
           }
          ],
          "choropleth": [
           {
            "colorbar": {
             "outlinewidth": 0,
             "ticks": ""
            },
            "type": "choropleth"
           }
          ],
          "contour": [
           {
            "colorbar": {
             "outlinewidth": 0,
             "ticks": ""
            },
            "colorscale": [
             [
              0,
              "#0d0887"
             ],
             [
              0.1111111111111111,
              "#46039f"
             ],
             [
              0.2222222222222222,
              "#7201a8"
             ],
             [
              0.3333333333333333,
              "#9c179e"
             ],
             [
              0.4444444444444444,
              "#bd3786"
             ],
             [
              0.5555555555555556,
              "#d8576b"
             ],
             [
              0.6666666666666666,
              "#ed7953"
             ],
             [
              0.7777777777777778,
              "#fb9f3a"
             ],
             [
              0.8888888888888888,
              "#fdca26"
             ],
             [
              1,
              "#f0f921"
             ]
            ],
            "type": "contour"
           }
          ],
          "contourcarpet": [
           {
            "colorbar": {
             "outlinewidth": 0,
             "ticks": ""
            },
            "type": "contourcarpet"
           }
          ],
          "heatmap": [
           {
            "colorbar": {
             "outlinewidth": 0,
             "ticks": ""
            },
            "colorscale": [
             [
              0,
              "#0d0887"
             ],
             [
              0.1111111111111111,
              "#46039f"
             ],
             [
              0.2222222222222222,
              "#7201a8"
             ],
             [
              0.3333333333333333,
              "#9c179e"
             ],
             [
              0.4444444444444444,
              "#bd3786"
             ],
             [
              0.5555555555555556,
              "#d8576b"
             ],
             [
              0.6666666666666666,
              "#ed7953"
             ],
             [
              0.7777777777777778,
              "#fb9f3a"
             ],
             [
              0.8888888888888888,
              "#fdca26"
             ],
             [
              1,
              "#f0f921"
             ]
            ],
            "type": "heatmap"
           }
          ],
          "heatmapgl": [
           {
            "colorbar": {
             "outlinewidth": 0,
             "ticks": ""
            },
            "colorscale": [
             [
              0,
              "#0d0887"
             ],
             [
              0.1111111111111111,
              "#46039f"
             ],
             [
              0.2222222222222222,
              "#7201a8"
             ],
             [
              0.3333333333333333,
              "#9c179e"
             ],
             [
              0.4444444444444444,
              "#bd3786"
             ],
             [
              0.5555555555555556,
              "#d8576b"
             ],
             [
              0.6666666666666666,
              "#ed7953"
             ],
             [
              0.7777777777777778,
              "#fb9f3a"
             ],
             [
              0.8888888888888888,
              "#fdca26"
             ],
             [
              1,
              "#f0f921"
             ]
            ],
            "type": "heatmapgl"
           }
          ],
          "histogram": [
           {
            "marker": {
             "pattern": {
              "fillmode": "overlay",
              "size": 10,
              "solidity": 0.2
             }
            },
            "type": "histogram"
           }
          ],
          "histogram2d": [
           {
            "colorbar": {
             "outlinewidth": 0,
             "ticks": ""
            },
            "colorscale": [
             [
              0,
              "#0d0887"
             ],
             [
              0.1111111111111111,
              "#46039f"
             ],
             [
              0.2222222222222222,
              "#7201a8"
             ],
             [
              0.3333333333333333,
              "#9c179e"
             ],
             [
              0.4444444444444444,
              "#bd3786"
             ],
             [
              0.5555555555555556,
              "#d8576b"
             ],
             [
              0.6666666666666666,
              "#ed7953"
             ],
             [
              0.7777777777777778,
              "#fb9f3a"
             ],
             [
              0.8888888888888888,
              "#fdca26"
             ],
             [
              1,
              "#f0f921"
             ]
            ],
            "type": "histogram2d"
           }
          ],
          "histogram2dcontour": [
           {
            "colorbar": {
             "outlinewidth": 0,
             "ticks": ""
            },
            "colorscale": [
             [
              0,
              "#0d0887"
             ],
             [
              0.1111111111111111,
              "#46039f"
             ],
             [
              0.2222222222222222,
              "#7201a8"
             ],
             [
              0.3333333333333333,
              "#9c179e"
             ],
             [
              0.4444444444444444,
              "#bd3786"
             ],
             [
              0.5555555555555556,
              "#d8576b"
             ],
             [
              0.6666666666666666,
              "#ed7953"
             ],
             [
              0.7777777777777778,
              "#fb9f3a"
             ],
             [
              0.8888888888888888,
              "#fdca26"
             ],
             [
              1,
              "#f0f921"
             ]
            ],
            "type": "histogram2dcontour"
           }
          ],
          "mesh3d": [
           {
            "colorbar": {
             "outlinewidth": 0,
             "ticks": ""
            },
            "type": "mesh3d"
           }
          ],
          "parcoords": [
           {
            "line": {
             "colorbar": {
              "outlinewidth": 0,
              "ticks": ""
             }
            },
            "type": "parcoords"
           }
          ],
          "pie": [
           {
            "automargin": true,
            "type": "pie"
           }
          ],
          "scatter": [
           {
            "fillpattern": {
             "fillmode": "overlay",
             "size": 10,
             "solidity": 0.2
            },
            "type": "scatter"
           }
          ],
          "scatter3d": [
           {
            "line": {
             "colorbar": {
              "outlinewidth": 0,
              "ticks": ""
             }
            },
            "marker": {
             "colorbar": {
              "outlinewidth": 0,
              "ticks": ""
             }
            },
            "type": "scatter3d"
           }
          ],
          "scattercarpet": [
           {
            "marker": {
             "colorbar": {
              "outlinewidth": 0,
              "ticks": ""
             }
            },
            "type": "scattercarpet"
           }
          ],
          "scattergeo": [
           {
            "marker": {
             "colorbar": {
              "outlinewidth": 0,
              "ticks": ""
             }
            },
            "type": "scattergeo"
           }
          ],
          "scattergl": [
           {
            "marker": {
             "colorbar": {
              "outlinewidth": 0,
              "ticks": ""
             }
            },
            "type": "scattergl"
           }
          ],
          "scattermapbox": [
           {
            "marker": {
             "colorbar": {
              "outlinewidth": 0,
              "ticks": ""
             }
            },
            "type": "scattermapbox"
           }
          ],
          "scatterpolar": [
           {
            "marker": {
             "colorbar": {
              "outlinewidth": 0,
              "ticks": ""
             }
            },
            "type": "scatterpolar"
           }
          ],
          "scatterpolargl": [
           {
            "marker": {
             "colorbar": {
              "outlinewidth": 0,
              "ticks": ""
             }
            },
            "type": "scatterpolargl"
           }
          ],
          "scatterternary": [
           {
            "marker": {
             "colorbar": {
              "outlinewidth": 0,
              "ticks": ""
             }
            },
            "type": "scatterternary"
           }
          ],
          "surface": [
           {
            "colorbar": {
             "outlinewidth": 0,
             "ticks": ""
            },
            "colorscale": [
             [
              0,
              "#0d0887"
             ],
             [
              0.1111111111111111,
              "#46039f"
             ],
             [
              0.2222222222222222,
              "#7201a8"
             ],
             [
              0.3333333333333333,
              "#9c179e"
             ],
             [
              0.4444444444444444,
              "#bd3786"
             ],
             [
              0.5555555555555556,
              "#d8576b"
             ],
             [
              0.6666666666666666,
              "#ed7953"
             ],
             [
              0.7777777777777778,
              "#fb9f3a"
             ],
             [
              0.8888888888888888,
              "#fdca26"
             ],
             [
              1,
              "#f0f921"
             ]
            ],
            "type": "surface"
           }
          ],
          "table": [
           {
            "cells": {
             "fill": {
              "color": "#EBF0F8"
             },
             "line": {
              "color": "white"
             }
            },
            "header": {
             "fill": {
              "color": "#C8D4E3"
             },
             "line": {
              "color": "white"
             }
            },
            "type": "table"
           }
          ]
         },
         "layout": {
          "annotationdefaults": {
           "arrowcolor": "#2a3f5f",
           "arrowhead": 0,
           "arrowwidth": 1
          },
          "autotypenumbers": "strict",
          "coloraxis": {
           "colorbar": {
            "outlinewidth": 0,
            "ticks": ""
           }
          },
          "colorscale": {
           "diverging": [
            [
             0,
             "#8e0152"
            ],
            [
             0.1,
             "#c51b7d"
            ],
            [
             0.2,
             "#de77ae"
            ],
            [
             0.3,
             "#f1b6da"
            ],
            [
             0.4,
             "#fde0ef"
            ],
            [
             0.5,
             "#f7f7f7"
            ],
            [
             0.6,
             "#e6f5d0"
            ],
            [
             0.7,
             "#b8e186"
            ],
            [
             0.8,
             "#7fbc41"
            ],
            [
             0.9,
             "#4d9221"
            ],
            [
             1,
             "#276419"
            ]
           ],
           "sequential": [
            [
             0,
             "#0d0887"
            ],
            [
             0.1111111111111111,
             "#46039f"
            ],
            [
             0.2222222222222222,
             "#7201a8"
            ],
            [
             0.3333333333333333,
             "#9c179e"
            ],
            [
             0.4444444444444444,
             "#bd3786"
            ],
            [
             0.5555555555555556,
             "#d8576b"
            ],
            [
             0.6666666666666666,
             "#ed7953"
            ],
            [
             0.7777777777777778,
             "#fb9f3a"
            ],
            [
             0.8888888888888888,
             "#fdca26"
            ],
            [
             1,
             "#f0f921"
            ]
           ],
           "sequentialminus": [
            [
             0,
             "#0d0887"
            ],
            [
             0.1111111111111111,
             "#46039f"
            ],
            [
             0.2222222222222222,
             "#7201a8"
            ],
            [
             0.3333333333333333,
             "#9c179e"
            ],
            [
             0.4444444444444444,
             "#bd3786"
            ],
            [
             0.5555555555555556,
             "#d8576b"
            ],
            [
             0.6666666666666666,
             "#ed7953"
            ],
            [
             0.7777777777777778,
             "#fb9f3a"
            ],
            [
             0.8888888888888888,
             "#fdca26"
            ],
            [
             1,
             "#f0f921"
            ]
           ]
          },
          "colorway": [
           "#636efa",
           "#EF553B",
           "#00cc96",
           "#ab63fa",
           "#FFA15A",
           "#19d3f3",
           "#FF6692",
           "#B6E880",
           "#FF97FF",
           "#FECB52"
          ],
          "font": {
           "color": "#2a3f5f"
          },
          "geo": {
           "bgcolor": "white",
           "lakecolor": "white",
           "landcolor": "#E5ECF6",
           "showlakes": true,
           "showland": true,
           "subunitcolor": "white"
          },
          "hoverlabel": {
           "align": "left"
          },
          "hovermode": "closest",
          "mapbox": {
           "style": "light"
          },
          "paper_bgcolor": "white",
          "plot_bgcolor": "#E5ECF6",
          "polar": {
           "angularaxis": {
            "gridcolor": "white",
            "linecolor": "white",
            "ticks": ""
           },
           "bgcolor": "#E5ECF6",
           "radialaxis": {
            "gridcolor": "white",
            "linecolor": "white",
            "ticks": ""
           }
          },
          "scene": {
           "xaxis": {
            "backgroundcolor": "#E5ECF6",
            "gridcolor": "white",
            "gridwidth": 2,
            "linecolor": "white",
            "showbackground": true,
            "ticks": "",
            "zerolinecolor": "white"
           },
           "yaxis": {
            "backgroundcolor": "#E5ECF6",
            "gridcolor": "white",
            "gridwidth": 2,
            "linecolor": "white",
            "showbackground": true,
            "ticks": "",
            "zerolinecolor": "white"
           },
           "zaxis": {
            "backgroundcolor": "#E5ECF6",
            "gridcolor": "white",
            "gridwidth": 2,
            "linecolor": "white",
            "showbackground": true,
            "ticks": "",
            "zerolinecolor": "white"
           }
          },
          "shapedefaults": {
           "line": {
            "color": "#2a3f5f"
           }
          },
          "ternary": {
           "aaxis": {
            "gridcolor": "white",
            "linecolor": "white",
            "ticks": ""
           },
           "baxis": {
            "gridcolor": "white",
            "linecolor": "white",
            "ticks": ""
           },
           "bgcolor": "#E5ECF6",
           "caxis": {
            "gridcolor": "white",
            "linecolor": "white",
            "ticks": ""
           }
          },
          "title": {
           "x": 0.05
          },
          "xaxis": {
           "automargin": true,
           "gridcolor": "white",
           "linecolor": "white",
           "ticks": "",
           "title": {
            "standoff": 15
           },
           "zerolinecolor": "white",
           "zerolinewidth": 2
          },
          "yaxis": {
           "automargin": true,
           "gridcolor": "white",
           "linecolor": "white",
           "ticks": "",
           "title": {
            "standoff": 15
           },
           "zerolinecolor": "white",
           "zerolinewidth": 2
          }
         }
        },
        "xaxis": {
         "anchor": "y",
         "autorange": true,
         "constrain": "domain",
         "domain": [
          0,
          1
         ],
         "range": [
          -0.5,
          58.5
         ],
         "scaleanchor": "y",
         "tickangle": -45,
         "tickfont": {
          "size": 20
         },
         "ticktext": [
          "▁There",
          "▁isn",
          "'",
          "t",
          "▁a",
          "▁widely",
          "▁accepted",
          "▁t",
          "enth",
          "▁law",
          "▁of",
          "▁therm",
          "od",
          "ynamics",
          ".",
          "▁The",
          "▁nine",
          "▁laws",
          "▁of",
          "▁therm",
          "od",
          "ynamics",
          ",",
          "▁as",
          "▁originally",
          "▁form",
          "ulated",
          "▁by",
          "▁Rud",
          "olf",
          "▁Cl",
          "aus",
          "ius",
          ",",
          "▁are",
          ":",
          "<0x0A>",
          "<0x0A>",
          "1",
          ".",
          "▁The",
          "▁energy",
          "▁of",
          "▁a",
          "▁closed",
          "▁therm",
          "od",
          "ynamic",
          "▁system",
          "▁remains",
          "▁constant",
          "▁in",
          "▁the",
          "▁absence",
          "▁of",
          "▁external",
          "▁work",
          "▁and",
          "▁heat",
          "."
         ],
         "tickvals": [
          0,
          1,
          2,
          3,
          4,
          5,
          6,
          7,
          8,
          9,
          10,
          11,
          12,
          13,
          14,
          15,
          16,
          17,
          18,
          19,
          20,
          21,
          22,
          23,
          24,
          25,
          26,
          27,
          28,
          29,
          30,
          31,
          32,
          33,
          34,
          35,
          36,
          37,
          38,
          39,
          40,
          41,
          42,
          43,
          44,
          45,
          46,
          47,
          48,
          49,
          50,
          51,
          52,
          53,
          54,
          55,
          56,
          57,
          58,
          59
         ],
         "title": {
          "text": "Token"
         }
        },
        "yaxis": {
         "anchor": "x",
         "autorange": true,
         "constrain": "domain",
         "domain": [
          0.46833590138674885,
          0.5316640986132511
         ],
         "range": [
          0.5,
          -0.5
         ],
         "showticklabels": false
        }
       }
      },
      "image/png": "[encoded data removed]",
      "text/html": [
       "<div>                            <div id=\"64b3a0eb-61e7-4326-ac63-d3d31552e37c\" class=\"plotly-graph-div\" style=\"height:525px; width:100%;\"></div>            <script type=\"text/javascript\">                require([\"plotly\"], function(Plotly) {                    window.PLOTLYENV=window.PLOTLYENV || {};                                    if (document.getElementById(\"64b3a0eb-61e7-4326-ac63-d3d31552e37c\")) {                    Plotly.newPlot(                        \"64b3a0eb-61e7-4326-ac63-d3d31552e37c\",                        [{\"coloraxis\":\"coloraxis\",\"name\":\"0\",\"z\":[[-0.33544921875,-0.38671875,-0.36767578125,-0.388671875,-0.56103515625,-0.2880859375,-0.349853515625,-1.0986328125,-0.6328125,-0.415283203125,-0.5234375,0.121826171875,0.1817626953125,0.06591796875,-0.13818359375,-0.06707763671875,-0.370849609375,0.1812744140625,-0.263916015625,0.365234375,0.66943359375,0.40966796875,0.0308990478515625,0.09832763671875,0.00943756103515625,-0.09027099609375,0.138916015625,0.07513427734375,-0.3525390625,-0.313720703125,-0.76220703125,-0.25927734375,0.38134765625,0.11041259765625,0.17578125,0.0638427734375,1.4306640625,-0.01468658447265625,0.044921875,0.259521484375,0.0357666015625,0.291259765625,-0.01149749755859375,-0.0097503662109375,0.133056640625,0.193115234375,0.395751953125,0.399658203125,0.27392578125,0.2069091796875,0.380126953125,0.1878662109375,0.125244140625,0.11700439453125,0.0587158203125,0.050811767578125,0.2568359375,0.051849365234375,0.41455078125]],\"type\":\"heatmap\",\"xaxis\":\"x\",\"yaxis\":\"y\",\"hovertemplate\":\"Token: %{x}\\u003cbr\\u003ey: %{y}\\u003cbr\\u003ecolor: %{z}\\u003cextra\\u003e\\u003c\\u002fextra\\u003e\"}],                        {\"template\":{\"data\":{\"histogram2dcontour\":[{\"type\":\"histogram2dcontour\",\"colorbar\":{\"outlinewidth\":0,\"ticks\":\"\"},\"colorscale\":[[0.0,\"#0d0887\"],[0.1111111111111111,\"#46039f\"],[0.2222222222222222,\"#7201a8\"],[0.3333333333333333,\"#9c179e\"],[0.4444444444444444,\"#bd3786\"],[0.5555555555555556,\"#d8576b\"],[0.6666666666666666,\"#ed7953\"],[0.7777777777777778,\"#fb9f3a\"],[0.8888888888888888,\"#fdca26\"],[1.0,\"#f0f921\"]]}],\"choropleth\":[{\"type\":\"choropleth\",\"colorbar\":{\"outlinewidth\":0,\"ticks\":\"\"}}],\"histogram2d\":[{\"type\":\"histogram2d\",\"colorbar\":{\"outlinewidth\":0,\"ticks\":\"\"},\"colorscale\":[[0.0,\"#0d0887\"],[0.1111111111111111,\"#46039f\"],[0.2222222222222222,\"#7201a8\"],[0.3333333333333333,\"#9c179e\"],[0.4444444444444444,\"#bd3786\"],[0.5555555555555556,\"#d8576b\"],[0.6666666666666666,\"#ed7953\"],[0.7777777777777778,\"#fb9f3a\"],[0.8888888888888888,\"#fdca26\"],[1.0,\"#f0f921\"]]}],\"heatmap\":[{\"type\":\"heatmap\",\"colorbar\":{\"outlinewidth\":0,\"ticks\":\"\"},\"colorscale\":[[0.0,\"#0d0887\"],[0.1111111111111111,\"#46039f\"],[0.2222222222222222,\"#7201a8\"],[0.3333333333333333,\"#9c179e\"],[0.4444444444444444,\"#bd3786\"],[0.5555555555555556,\"#d8576b\"],[0.6666666666666666,\"#ed7953\"],[0.7777777777777778,\"#fb9f3a\"],[0.8888888888888888,\"#fdca26\"],[1.0,\"#f0f921\"]]}],\"heatmapgl\":[{\"type\":\"heatmapgl\",\"colorbar\":{\"outlinewidth\":0,\"ticks\":\"\"},\"colorscale\":[[0.0,\"#0d0887\"],[0.1111111111111111,\"#46039f\"],[0.2222222222222222,\"#7201a8\"],[0.3333333333333333,\"#9c179e\"],[0.4444444444444444,\"#bd3786\"],[0.5555555555555556,\"#d8576b\"],[0.6666666666666666,\"#ed7953\"],[0.7777777777777778,\"#fb9f3a\"],[0.8888888888888888,\"#fdca26\"],[1.0,\"#f0f921\"]]}],\"contourcarpet\":[{\"type\":\"contourcarpet\",\"colorbar\":{\"outlinewidth\":0,\"ticks\":\"\"}}],\"contour\":[{\"type\":\"contour\",\"colorbar\":{\"outlinewidth\":0,\"ticks\":\"\"},\"colorscale\":[[0.0,\"#0d0887\"],[0.1111111111111111,\"#46039f\"],[0.2222222222222222,\"#7201a8\"],[0.3333333333333333,\"#9c179e\"],[0.4444444444444444,\"#bd3786\"],[0.5555555555555556,\"#d8576b\"],[0.6666666666666666,\"#ed7953\"],[0.7777777777777778,\"#fb9f3a\"],[0.8888888888888888,\"#fdca26\"],[1.0,\"#f0f921\"]]}],\"surface\":[{\"type\":\"surface\",\"colorbar\":{\"outlinewidth\":0,\"ticks\":\"\"},\"colorscale\":[[0.0,\"#0d0887\"],[0.1111111111111111,\"#46039f\"],[0.2222222222222222,\"#7201a8\"],[0.3333333333333333,\"#9c179e\"],[0.4444444444444444,\"#bd3786\"],[0.5555555555555556,\"#d8576b\"],[0.6666666666666666,\"#ed7953\"],[0.7777777777777778,\"#fb9f3a\"],[0.8888888888888888,\"#fdca26\"],[1.0,\"#f0f921\"]]}],\"mesh3d\":[{\"type\":\"mesh3d\",\"colorbar\":{\"outlinewidth\":0,\"ticks\":\"\"}}],\"scatter\":[{\"fillpattern\":{\"fillmode\":\"overlay\",\"size\":10,\"solidity\":0.2},\"type\":\"scatter\"}],\"parcoords\":[{\"type\":\"parcoords\",\"line\":{\"colorbar\":{\"outlinewidth\":0,\"ticks\":\"\"}}}],\"scatterpolargl\":[{\"type\":\"scatterpolargl\",\"marker\":{\"colorbar\":{\"outlinewidth\":0,\"ticks\":\"\"}}}],\"bar\":[{\"error_x\":{\"color\":\"#2a3f5f\"},\"error_y\":{\"color\":\"#2a3f5f\"},\"marker\":{\"line\":{\"color\":\"#E5ECF6\",\"width\":0.5},\"pattern\":{\"fillmode\":\"overlay\",\"size\":10,\"solidity\":0.2}},\"type\":\"bar\"}],\"scattergeo\":[{\"type\":\"scattergeo\",\"marker\":{\"colorbar\":{\"outlinewidth\":0,\"ticks\":\"\"}}}],\"scatterpolar\":[{\"type\":\"scatterpolar\",\"marker\":{\"colorbar\":{\"outlinewidth\":0,\"ticks\":\"\"}}}],\"histogram\":[{\"marker\":{\"pattern\":{\"fillmode\":\"overlay\",\"size\":10,\"solidity\":0.2}},\"type\":\"histogram\"}],\"scattergl\":[{\"type\":\"scattergl\",\"marker\":{\"colorbar\":{\"outlinewidth\":0,\"ticks\":\"\"}}}],\"scatter3d\":[{\"type\":\"scatter3d\",\"line\":{\"colorbar\":{\"outlinewidth\":0,\"ticks\":\"\"}},\"marker\":{\"colorbar\":{\"outlinewidth\":0,\"ticks\":\"\"}}}],\"scattermapbox\":[{\"type\":\"scattermapbox\",\"marker\":{\"colorbar\":{\"outlinewidth\":0,\"ticks\":\"\"}}}],\"scatterternary\":[{\"type\":\"scatterternary\",\"marker\":{\"colorbar\":{\"outlinewidth\":0,\"ticks\":\"\"}}}],\"scattercarpet\":[{\"type\":\"scattercarpet\",\"marker\":{\"colorbar\":{\"outlinewidth\":0,\"ticks\":\"\"}}}],\"carpet\":[{\"aaxis\":{\"endlinecolor\":\"#2a3f5f\",\"gridcolor\":\"white\",\"linecolor\":\"white\",\"minorgridcolor\":\"white\",\"startlinecolor\":\"#2a3f5f\"},\"baxis\":{\"endlinecolor\":\"#2a3f5f\",\"gridcolor\":\"white\",\"linecolor\":\"white\",\"minorgridcolor\":\"white\",\"startlinecolor\":\"#2a3f5f\"},\"type\":\"carpet\"}],\"table\":[{\"cells\":{\"fill\":{\"color\":\"#EBF0F8\"},\"line\":{\"color\":\"white\"}},\"header\":{\"fill\":{\"color\":\"#C8D4E3\"},\"line\":{\"color\":\"white\"}},\"type\":\"table\"}],\"barpolar\":[{\"marker\":{\"line\":{\"color\":\"#E5ECF6\",\"width\":0.5},\"pattern\":{\"fillmode\":\"overlay\",\"size\":10,\"solidity\":0.2}},\"type\":\"barpolar\"}],\"pie\":[{\"automargin\":true,\"type\":\"pie\"}]},\"layout\":{\"autotypenumbers\":\"strict\",\"colorway\":[\"#636efa\",\"#EF553B\",\"#00cc96\",\"#ab63fa\",\"#FFA15A\",\"#19d3f3\",\"#FF6692\",\"#B6E880\",\"#FF97FF\",\"#FECB52\"],\"font\":{\"color\":\"#2a3f5f\"},\"hovermode\":\"closest\",\"hoverlabel\":{\"align\":\"left\"},\"paper_bgcolor\":\"white\",\"plot_bgcolor\":\"#E5ECF6\",\"polar\":{\"bgcolor\":\"#E5ECF6\",\"angularaxis\":{\"gridcolor\":\"white\",\"linecolor\":\"white\",\"ticks\":\"\"},\"radialaxis\":{\"gridcolor\":\"white\",\"linecolor\":\"white\",\"ticks\":\"\"}},\"ternary\":{\"bgcolor\":\"#E5ECF6\",\"aaxis\":{\"gridcolor\":\"white\",\"linecolor\":\"white\",\"ticks\":\"\"},\"baxis\":{\"gridcolor\":\"white\",\"linecolor\":\"white\",\"ticks\":\"\"},\"caxis\":{\"gridcolor\":\"white\",\"linecolor\":\"white\",\"ticks\":\"\"}},\"coloraxis\":{\"colorbar\":{\"outlinewidth\":0,\"ticks\":\"\"}},\"colorscale\":{\"sequential\":[[0.0,\"#0d0887\"],[0.1111111111111111,\"#46039f\"],[0.2222222222222222,\"#7201a8\"],[0.3333333333333333,\"#9c179e\"],[0.4444444444444444,\"#bd3786\"],[0.5555555555555556,\"#d8576b\"],[0.6666666666666666,\"#ed7953\"],[0.7777777777777778,\"#fb9f3a\"],[0.8888888888888888,\"#fdca26\"],[1.0,\"#f0f921\"]],\"sequentialminus\":[[0.0,\"#0d0887\"],[0.1111111111111111,\"#46039f\"],[0.2222222222222222,\"#7201a8\"],[0.3333333333333333,\"#9c179e\"],[0.4444444444444444,\"#bd3786\"],[0.5555555555555556,\"#d8576b\"],[0.6666666666666666,\"#ed7953\"],[0.7777777777777778,\"#fb9f3a\"],[0.8888888888888888,\"#fdca26\"],[1.0,\"#f0f921\"]],\"diverging\":[[0,\"#8e0152\"],[0.1,\"#c51b7d\"],[0.2,\"#de77ae\"],[0.3,\"#f1b6da\"],[0.4,\"#fde0ef\"],[0.5,\"#f7f7f7\"],[0.6,\"#e6f5d0\"],[0.7,\"#b8e186\"],[0.8,\"#7fbc41\"],[0.9,\"#4d9221\"],[1,\"#276419\"]]},\"xaxis\":{\"gridcolor\":\"white\",\"linecolor\":\"white\",\"ticks\":\"\",\"title\":{\"standoff\":15},\"zerolinecolor\":\"white\",\"automargin\":true,\"zerolinewidth\":2},\"yaxis\":{\"gridcolor\":\"white\",\"linecolor\":\"white\",\"ticks\":\"\",\"title\":{\"standoff\":15},\"zerolinecolor\":\"white\",\"automargin\":true,\"zerolinewidth\":2},\"scene\":{\"xaxis\":{\"backgroundcolor\":\"#E5ECF6\",\"gridcolor\":\"white\",\"linecolor\":\"white\",\"showbackground\":true,\"ticks\":\"\",\"zerolinecolor\":\"white\",\"gridwidth\":2},\"yaxis\":{\"backgroundcolor\":\"#E5ECF6\",\"gridcolor\":\"white\",\"linecolor\":\"white\",\"showbackground\":true,\"ticks\":\"\",\"zerolinecolor\":\"white\",\"gridwidth\":2},\"zaxis\":{\"backgroundcolor\":\"#E5ECF6\",\"gridcolor\":\"white\",\"linecolor\":\"white\",\"showbackground\":true,\"ticks\":\"\",\"zerolinecolor\":\"white\",\"gridwidth\":2}},\"shapedefaults\":{\"line\":{\"color\":\"#2a3f5f\"}},\"annotationdefaults\":{\"arrowcolor\":\"#2a3f5f\",\"arrowhead\":0,\"arrowwidth\":1},\"geo\":{\"bgcolor\":\"white\",\"landcolor\":\"#E5ECF6\",\"subunitcolor\":\"white\",\"showland\":true,\"showlakes\":true,\"lakecolor\":\"white\"},\"title\":{\"x\":0.05},\"mapbox\":{\"style\":\"light\"}}},\"xaxis\":{\"anchor\":\"y\",\"domain\":[0.0,1.0],\"scaleanchor\":\"y\",\"constrain\":\"domain\",\"title\":{\"text\":\"Token\"},\"tickfont\":{\"size\":20},\"tickvals\":[0,1,2,3,4,5,6,7,8,9,10,11,12,13,14,15,16,17,18,19,20,21,22,23,24,25,26,27,28,29,30,31,32,33,34,35,36,37,38,39,40,41,42,43,44,45,46,47,48,49,50,51,52,53,54,55,56,57,58,59],\"ticktext\":[\"\\u2581There\",\"\\u2581isn\",\"'\",\"t\",\"\\u2581a\",\"\\u2581widely\",\"\\u2581accepted\",\"\\u2581t\",\"enth\",\"\\u2581law\",\"\\u2581of\",\"\\u2581therm\",\"od\",\"ynamics\",\".\",\"\\u2581The\",\"\\u2581nine\",\"\\u2581laws\",\"\\u2581of\",\"\\u2581therm\",\"od\",\"ynamics\",\",\",\"\\u2581as\",\"\\u2581originally\",\"\\u2581form\",\"ulated\",\"\\u2581by\",\"\\u2581Rud\",\"olf\",\"\\u2581Cl\",\"aus\",\"ius\",\",\",\"\\u2581are\",\":\",\"\\u003c0x0A\\u003e\",\"\\u003c0x0A\\u003e\",\"1\",\".\",\"\\u2581The\",\"\\u2581energy\",\"\\u2581of\",\"\\u2581a\",\"\\u2581closed\",\"\\u2581therm\",\"od\",\"ynamic\",\"\\u2581system\",\"\\u2581remains\",\"\\u2581constant\",\"\\u2581in\",\"\\u2581the\",\"\\u2581absence\",\"\\u2581of\",\"\\u2581external\",\"\\u2581work\",\"\\u2581and\",\"\\u2581heat\",\".\"],\"tickangle\":-45},\"yaxis\":{\"anchor\":\"x\",\"domain\":[0.0,1.0],\"autorange\":\"reversed\",\"constrain\":\"domain\",\"showticklabels\":false},\"coloraxis\":{\"colorscale\":[[0.0,\"rgb(165,0,38)\"],[0.1,\"rgb(215,48,39)\"],[0.2,\"rgb(244,109,67)\"],[0.3,\"rgb(253,174,97)\"],[0.4,\"rgb(254,224,139)\"],[0.5,\"rgb(255,255,191)\"],[0.6,\"rgb(217,239,139)\"],[0.7,\"rgb(166,217,106)\"],[0.8,\"rgb(102,189,99)\"],[0.9,\"rgb(26,152,80)\"],[1.0,\"rgb(0,104,55)\"]],\"cmin\":-1,\"cmax\":1},\"margin\":{\"t\":60}},                        {\"responsive\": true}                    ).then(function(){\n",
       "                            \n",
       "var gd = document.getElementById('64b3a0eb-61e7-4326-ac63-d3d31552e37c');\n",
       "var x = new MutationObserver(function (mutations, observer) {{\n",
       "        var display = window.getComputedStyle(gd).display;\n",
       "        if (!display || display === 'none') {{\n",
       "            console.log([gd, 'removed!']);\n",
       "            Plotly.purge(gd);\n",
       "            observer.disconnect();\n",
       "        }}\n",
       "}});\n",
       "\n",
       "// Listen for the removal of the full notebook cells\n",
       "var notebookContainer = gd.closest('#notebook-container');\n",
       "if (notebookContainer) {{\n",
       "    x.observe(notebookContainer, {childList: true});\n",
       "}}\n",
       "\n",
       "// Listen for the clearing of the current output cell\n",
       "var outputEl = gd.closest('.output');\n",
       "if (outputEl) {{\n",
       "    x.observe(outputEl, {childList: true});\n",
       "}}\n",
       "\n",
       "                        })                };                });            </script>        </div>"
      ]
     },
     "metadata": {},
     "output_type": "display_data"
    }
   ],
   "source": [
    "scores_per_token = doc.detect(output['projections'], aggregation_method='layer_avg', use_n_middle_layers=15)\n",
    "doc.plot_scores_per_token(scores_per_token, tokens, lastn_tokens_to_plot=max_new_tokens, saturate_at=1)"
   ]
  },
  {
   "cell_type": "code",
   "execution_count": 108,
   "id": "f0a61964-757e-4749-8641-ccc8b7ffcf8a",
   "metadata": {
    "tags": []
   },
   "outputs": [
    {
     "data": {
      "application/vnd.plotly.v1+json": {
       "config": {
        "plotlyServerURL": "https://plot.ly"
       },
       "data": [
        {
         "coloraxis": "coloraxis",
         "hovertemplate": "Token: %{x}<br>y: %{y}<br>color: %{z}<extra></extra>",
         "name": "0",
         "type": "heatmap",
         "xaxis": "x",
         "yaxis": "y",
         "z": [
          [
           0.7033368679188516,
           0.7222351069828427,
           0.7738301152230521,
           0.2577963596438667,
           0.21092769866806607,
           0.5004069630133222,
           0.5684926808742399,
           0.10016687900758481,
           0.2376483038296588,
           0.21818937188868817,
           0.5054706124171239,
           0.9682595451741782,
           0.9885859768107715,
           0.8293352931169787,
           0.9687835702842293,
           0.9760750205629837,
           0.7513686618717796,
           0.8497217946152813,
           0.750952530274188,
           0.9920682199372565,
           0.9985597715076533,
           0.9253397167608585,
           0.8303411100907314,
           0.8949681161923646,
           0.8202041577009508,
           0.8162419211926534,
           0.86062038432892,
           0.9754243825723274,
           0.9414001385355241,
           0.9507292380425452,
           0.5953200662895646,
           0.8886750452369098,
           0.9561238933169276,
           0.9648898669145436,
           0.9694604935074025,
           0.9159606639387192,
           1,
           0.6406877255822523,
           0.9773576105786127,
           0.9975113239580019,
           0.9917084972391464,
           0.987632338952446,
           0.9247069676723925,
           0.9533532883689997,
           0.9820521125804584,
           0.988094460710369,
           0.9974179411601775,
           0.992843307342688,
           0.9698738850057215,
           0.9759637189828423,
           0.9788276312318487,
           0.9801948340881533,
           0.9731831693845159,
           0.9588905416916245,
           0.9713840080157976,
           0.9824978795305234,
           0.9861435308386644,
           0.9621982206181794,
           0.9888499611567361
          ]
         ]
        }
       ],
       "layout": {
        "autosize": true,
        "coloraxis": {
         "cmax": 1,
         "cmin": 0,
         "colorscale": [
          [
           0,
           "rgb(165,0,38)"
          ],
          [
           0.1,
           "rgb(215,48,39)"
          ],
          [
           0.2,
           "rgb(244,109,67)"
          ],
          [
           0.3,
           "rgb(253,174,97)"
          ],
          [
           0.4,
           "rgb(254,224,139)"
          ],
          [
           0.5,
           "rgb(255,255,191)"
          ],
          [
           0.6,
           "rgb(217,239,139)"
          ],
          [
           0.7,
           "rgb(166,217,106)"
          ],
          [
           0.8,
           "rgb(102,189,99)"
          ],
          [
           0.9,
           "rgb(26,152,80)"
          ],
          [
           1,
           "rgb(0,104,55)"
          ]
         ]
        },
        "margin": {
         "t": 60
        },
        "template": {
         "data": {
          "bar": [
           {
            "error_x": {
             "color": "#2a3f5f"
            },
            "error_y": {
             "color": "#2a3f5f"
            },
            "marker": {
             "line": {
              "color": "#E5ECF6",
              "width": 0.5
             },
             "pattern": {
              "fillmode": "overlay",
              "size": 10,
              "solidity": 0.2
             }
            },
            "type": "bar"
           }
          ],
          "barpolar": [
           {
            "marker": {
             "line": {
              "color": "#E5ECF6",
              "width": 0.5
             },
             "pattern": {
              "fillmode": "overlay",
              "size": 10,
              "solidity": 0.2
             }
            },
            "type": "barpolar"
           }
          ],
          "carpet": [
           {
            "aaxis": {
             "endlinecolor": "#2a3f5f",
             "gridcolor": "white",
             "linecolor": "white",
             "minorgridcolor": "white",
             "startlinecolor": "#2a3f5f"
            },
            "baxis": {
             "endlinecolor": "#2a3f5f",
             "gridcolor": "white",
             "linecolor": "white",
             "minorgridcolor": "white",
             "startlinecolor": "#2a3f5f"
            },
            "type": "carpet"
           }
          ],
          "choropleth": [
           {
            "colorbar": {
             "outlinewidth": 0,
             "ticks": ""
            },
            "type": "choropleth"
           }
          ],
          "contour": [
           {
            "colorbar": {
             "outlinewidth": 0,
             "ticks": ""
            },
            "colorscale": [
             [
              0,
              "#0d0887"
             ],
             [
              0.1111111111111111,
              "#46039f"
             ],
             [
              0.2222222222222222,
              "#7201a8"
             ],
             [
              0.3333333333333333,
              "#9c179e"
             ],
             [
              0.4444444444444444,
              "#bd3786"
             ],
             [
              0.5555555555555556,
              "#d8576b"
             ],
             [
              0.6666666666666666,
              "#ed7953"
             ],
             [
              0.7777777777777778,
              "#fb9f3a"
             ],
             [
              0.8888888888888888,
              "#fdca26"
             ],
             [
              1,
              "#f0f921"
             ]
            ],
            "type": "contour"
           }
          ],
          "contourcarpet": [
           {
            "colorbar": {
             "outlinewidth": 0,
             "ticks": ""
            },
            "type": "contourcarpet"
           }
          ],
          "heatmap": [
           {
            "colorbar": {
             "outlinewidth": 0,
             "ticks": ""
            },
            "colorscale": [
             [
              0,
              "#0d0887"
             ],
             [
              0.1111111111111111,
              "#46039f"
             ],
             [
              0.2222222222222222,
              "#7201a8"
             ],
             [
              0.3333333333333333,
              "#9c179e"
             ],
             [
              0.4444444444444444,
              "#bd3786"
             ],
             [
              0.5555555555555556,
              "#d8576b"
             ],
             [
              0.6666666666666666,
              "#ed7953"
             ],
             [
              0.7777777777777778,
              "#fb9f3a"
             ],
             [
              0.8888888888888888,
              "#fdca26"
             ],
             [
              1,
              "#f0f921"
             ]
            ],
            "type": "heatmap"
           }
          ],
          "heatmapgl": [
           {
            "colorbar": {
             "outlinewidth": 0,
             "ticks": ""
            },
            "colorscale": [
             [
              0,
              "#0d0887"
             ],
             [
              0.1111111111111111,
              "#46039f"
             ],
             [
              0.2222222222222222,
              "#7201a8"
             ],
             [
              0.3333333333333333,
              "#9c179e"
             ],
             [
              0.4444444444444444,
              "#bd3786"
             ],
             [
              0.5555555555555556,
              "#d8576b"
             ],
             [
              0.6666666666666666,
              "#ed7953"
             ],
             [
              0.7777777777777778,
              "#fb9f3a"
             ],
             [
              0.8888888888888888,
              "#fdca26"
             ],
             [
              1,
              "#f0f921"
             ]
            ],
            "type": "heatmapgl"
           }
          ],
          "histogram": [
           {
            "marker": {
             "pattern": {
              "fillmode": "overlay",
              "size": 10,
              "solidity": 0.2
             }
            },
            "type": "histogram"
           }
          ],
          "histogram2d": [
           {
            "colorbar": {
             "outlinewidth": 0,
             "ticks": ""
            },
            "colorscale": [
             [
              0,
              "#0d0887"
             ],
             [
              0.1111111111111111,
              "#46039f"
             ],
             [
              0.2222222222222222,
              "#7201a8"
             ],
             [
              0.3333333333333333,
              "#9c179e"
             ],
             [
              0.4444444444444444,
              "#bd3786"
             ],
             [
              0.5555555555555556,
              "#d8576b"
             ],
             [
              0.6666666666666666,
              "#ed7953"
             ],
             [
              0.7777777777777778,
              "#fb9f3a"
             ],
             [
              0.8888888888888888,
              "#fdca26"
             ],
             [
              1,
              "#f0f921"
             ]
            ],
            "type": "histogram2d"
           }
          ],
          "histogram2dcontour": [
           {
            "colorbar": {
             "outlinewidth": 0,
             "ticks": ""
            },
            "colorscale": [
             [
              0,
              "#0d0887"
             ],
             [
              0.1111111111111111,
              "#46039f"
             ],
             [
              0.2222222222222222,
              "#7201a8"
             ],
             [
              0.3333333333333333,
              "#9c179e"
             ],
             [
              0.4444444444444444,
              "#bd3786"
             ],
             [
              0.5555555555555556,
              "#d8576b"
             ],
             [
              0.6666666666666666,
              "#ed7953"
             ],
             [
              0.7777777777777778,
              "#fb9f3a"
             ],
             [
              0.8888888888888888,
              "#fdca26"
             ],
             [
              1,
              "#f0f921"
             ]
            ],
            "type": "histogram2dcontour"
           }
          ],
          "mesh3d": [
           {
            "colorbar": {
             "outlinewidth": 0,
             "ticks": ""
            },
            "type": "mesh3d"
           }
          ],
          "parcoords": [
           {
            "line": {
             "colorbar": {
              "outlinewidth": 0,
              "ticks": ""
             }
            },
            "type": "parcoords"
           }
          ],
          "pie": [
           {
            "automargin": true,
            "type": "pie"
           }
          ],
          "scatter": [
           {
            "fillpattern": {
             "fillmode": "overlay",
             "size": 10,
             "solidity": 0.2
            },
            "type": "scatter"
           }
          ],
          "scatter3d": [
           {
            "line": {
             "colorbar": {
              "outlinewidth": 0,
              "ticks": ""
             }
            },
            "marker": {
             "colorbar": {
              "outlinewidth": 0,
              "ticks": ""
             }
            },
            "type": "scatter3d"
           }
          ],
          "scattercarpet": [
           {
            "marker": {
             "colorbar": {
              "outlinewidth": 0,
              "ticks": ""
             }
            },
            "type": "scattercarpet"
           }
          ],
          "scattergeo": [
           {
            "marker": {
             "colorbar": {
              "outlinewidth": 0,
              "ticks": ""
             }
            },
            "type": "scattergeo"
           }
          ],
          "scattergl": [
           {
            "marker": {
             "colorbar": {
              "outlinewidth": 0,
              "ticks": ""
             }
            },
            "type": "scattergl"
           }
          ],
          "scattermapbox": [
           {
            "marker": {
             "colorbar": {
              "outlinewidth": 0,
              "ticks": ""
             }
            },
            "type": "scattermapbox"
           }
          ],
          "scatterpolar": [
           {
            "marker": {
             "colorbar": {
              "outlinewidth": 0,
              "ticks": ""
             }
            },
            "type": "scatterpolar"
           }
          ],
          "scatterpolargl": [
           {
            "marker": {
             "colorbar": {
              "outlinewidth": 0,
              "ticks": ""
             }
            },
            "type": "scatterpolargl"
           }
          ],
          "scatterternary": [
           {
            "marker": {
             "colorbar": {
              "outlinewidth": 0,
              "ticks": ""
             }
            },
            "type": "scatterternary"
           }
          ],
          "surface": [
           {
            "colorbar": {
             "outlinewidth": 0,
             "ticks": ""
            },
            "colorscale": [
             [
              0,
              "#0d0887"
             ],
             [
              0.1111111111111111,
              "#46039f"
             ],
             [
              0.2222222222222222,
              "#7201a8"
             ],
             [
              0.3333333333333333,
              "#9c179e"
             ],
             [
              0.4444444444444444,
              "#bd3786"
             ],
             [
              0.5555555555555556,
              "#d8576b"
             ],
             [
              0.6666666666666666,
              "#ed7953"
             ],
             [
              0.7777777777777778,
              "#fb9f3a"
             ],
             [
              0.8888888888888888,
              "#fdca26"
             ],
             [
              1,
              "#f0f921"
             ]
            ],
            "type": "surface"
           }
          ],
          "table": [
           {
            "cells": {
             "fill": {
              "color": "#EBF0F8"
             },
             "line": {
              "color": "white"
             }
            },
            "header": {
             "fill": {
              "color": "#C8D4E3"
             },
             "line": {
              "color": "white"
             }
            },
            "type": "table"
           }
          ]
         },
         "layout": {
          "annotationdefaults": {
           "arrowcolor": "#2a3f5f",
           "arrowhead": 0,
           "arrowwidth": 1
          },
          "autotypenumbers": "strict",
          "coloraxis": {
           "colorbar": {
            "outlinewidth": 0,
            "ticks": ""
           }
          },
          "colorscale": {
           "diverging": [
            [
             0,
             "#8e0152"
            ],
            [
             0.1,
             "#c51b7d"
            ],
            [
             0.2,
             "#de77ae"
            ],
            [
             0.3,
             "#f1b6da"
            ],
            [
             0.4,
             "#fde0ef"
            ],
            [
             0.5,
             "#f7f7f7"
            ],
            [
             0.6,
             "#e6f5d0"
            ],
            [
             0.7,
             "#b8e186"
            ],
            [
             0.8,
             "#7fbc41"
            ],
            [
             0.9,
             "#4d9221"
            ],
            [
             1,
             "#276419"
            ]
           ],
           "sequential": [
            [
             0,
             "#0d0887"
            ],
            [
             0.1111111111111111,
             "#46039f"
            ],
            [
             0.2222222222222222,
             "#7201a8"
            ],
            [
             0.3333333333333333,
             "#9c179e"
            ],
            [
             0.4444444444444444,
             "#bd3786"
            ],
            [
             0.5555555555555556,
             "#d8576b"
            ],
            [
             0.6666666666666666,
             "#ed7953"
            ],
            [
             0.7777777777777778,
             "#fb9f3a"
            ],
            [
             0.8888888888888888,
             "#fdca26"
            ],
            [
             1,
             "#f0f921"
            ]
           ],
           "sequentialminus": [
            [
             0,
             "#0d0887"
            ],
            [
             0.1111111111111111,
             "#46039f"
            ],
            [
             0.2222222222222222,
             "#7201a8"
            ],
            [
             0.3333333333333333,
             "#9c179e"
            ],
            [
             0.4444444444444444,
             "#bd3786"
            ],
            [
             0.5555555555555556,
             "#d8576b"
            ],
            [
             0.6666666666666666,
             "#ed7953"
            ],
            [
             0.7777777777777778,
             "#fb9f3a"
            ],
            [
             0.8888888888888888,
             "#fdca26"
            ],
            [
             1,
             "#f0f921"
            ]
           ]
          },
          "colorway": [
           "#636efa",
           "#EF553B",
           "#00cc96",
           "#ab63fa",
           "#FFA15A",
           "#19d3f3",
           "#FF6692",
           "#B6E880",
           "#FF97FF",
           "#FECB52"
          ],
          "font": {
           "color": "#2a3f5f"
          },
          "geo": {
           "bgcolor": "white",
           "lakecolor": "white",
           "landcolor": "#E5ECF6",
           "showlakes": true,
           "showland": true,
           "subunitcolor": "white"
          },
          "hoverlabel": {
           "align": "left"
          },
          "hovermode": "closest",
          "mapbox": {
           "style": "light"
          },
          "paper_bgcolor": "white",
          "plot_bgcolor": "#E5ECF6",
          "polar": {
           "angularaxis": {
            "gridcolor": "white",
            "linecolor": "white",
            "ticks": ""
           },
           "bgcolor": "#E5ECF6",
           "radialaxis": {
            "gridcolor": "white",
            "linecolor": "white",
            "ticks": ""
           }
          },
          "scene": {
           "xaxis": {
            "backgroundcolor": "#E5ECF6",
            "gridcolor": "white",
            "gridwidth": 2,
            "linecolor": "white",
            "showbackground": true,
            "ticks": "",
            "zerolinecolor": "white"
           },
           "yaxis": {
            "backgroundcolor": "#E5ECF6",
            "gridcolor": "white",
            "gridwidth": 2,
            "linecolor": "white",
            "showbackground": true,
            "ticks": "",
            "zerolinecolor": "white"
           },
           "zaxis": {
            "backgroundcolor": "#E5ECF6",
            "gridcolor": "white",
            "gridwidth": 2,
            "linecolor": "white",
            "showbackground": true,
            "ticks": "",
            "zerolinecolor": "white"
           }
          },
          "shapedefaults": {
           "line": {
            "color": "#2a3f5f"
           }
          },
          "ternary": {
           "aaxis": {
            "gridcolor": "white",
            "linecolor": "white",
            "ticks": ""
           },
           "baxis": {
            "gridcolor": "white",
            "linecolor": "white",
            "ticks": ""
           },
           "bgcolor": "#E5ECF6",
           "caxis": {
            "gridcolor": "white",
            "linecolor": "white",
            "ticks": ""
           }
          },
          "title": {
           "x": 0.05
          },
          "xaxis": {
           "automargin": true,
           "gridcolor": "white",
           "linecolor": "white",
           "ticks": "",
           "title": {
            "standoff": 15
           },
           "zerolinecolor": "white",
           "zerolinewidth": 2
          },
          "yaxis": {
           "automargin": true,
           "gridcolor": "white",
           "linecolor": "white",
           "ticks": "",
           "title": {
            "standoff": 15
           },
           "zerolinecolor": "white",
           "zerolinewidth": 2
          }
         }
        },
        "xaxis": {
         "anchor": "y",
         "autorange": true,
         "constrain": "domain",
         "domain": [
          0,
          1
         ],
         "range": [
          -0.5,
          58.5
         ],
         "scaleanchor": "y",
         "tickangle": -45,
         "tickfont": {
          "size": 20
         },
         "ticktext": [
          "▁There",
          "▁isn",
          "'",
          "t",
          "▁a",
          "▁widely",
          "▁accepted",
          "▁t",
          "enth",
          "▁law",
          "▁of",
          "▁therm",
          "od",
          "ynamics",
          ".",
          "▁The",
          "▁nine",
          "▁laws",
          "▁of",
          "▁therm",
          "od",
          "ynamics",
          ",",
          "▁as",
          "▁originally",
          "▁form",
          "ulated",
          "▁by",
          "▁Rud",
          "olf",
          "▁Cl",
          "aus",
          "ius",
          ",",
          "▁are",
          ":",
          "<0x0A>",
          "<0x0A>",
          "1",
          ".",
          "▁The",
          "▁energy",
          "▁of",
          "▁a",
          "▁closed",
          "▁therm",
          "od",
          "ynamic",
          "▁system",
          "▁remains",
          "▁constant",
          "▁in",
          "▁the",
          "▁absence",
          "▁of",
          "▁external",
          "▁work",
          "▁and",
          "▁heat",
          "."
         ],
         "tickvals": [
          0,
          1,
          2,
          3,
          4,
          5,
          6,
          7,
          8,
          9,
          10,
          11,
          12,
          13,
          14,
          15,
          16,
          17,
          18,
          19,
          20,
          21,
          22,
          23,
          24,
          25,
          26,
          27,
          28,
          29,
          30,
          31,
          32,
          33,
          34,
          35,
          36,
          37,
          38,
          39,
          40,
          41,
          42,
          43,
          44,
          45,
          46,
          47,
          48,
          49,
          50,
          51,
          52,
          53,
          54,
          55,
          56,
          57,
          58,
          59
         ],
         "title": {
          "text": "Token"
         }
        },
        "yaxis": {
         "anchor": "x",
         "autorange": true,
         "constrain": "domain",
         "domain": [
          0.4679506933744222,
          0.5320493066255778
         ],
         "range": [
          0.5,
          -0.5
         ],
         "showticklabels": false
        }
       }
      },
      "image/png": "[encoded data removed]",
      "text/html": [
       "<div>                            <div id=\"1f2ad316-1c06-4bcc-bc30-154185273596\" class=\"plotly-graph-div\" style=\"height:525px; width:100%;\"></div>            <script type=\"text/javascript\">                require([\"plotly\"], function(Plotly) {                    window.PLOTLYENV=window.PLOTLYENV || {};                                    if (document.getElementById(\"1f2ad316-1c06-4bcc-bc30-154185273596\")) {                    Plotly.newPlot(                        \"1f2ad316-1c06-4bcc-bc30-154185273596\",                        [{\"coloraxis\":\"coloraxis\",\"name\":\"0\",\"z\":[[0.7033368679188516,0.7222351069828427,0.7738301152230521,0.2577963596438667,0.21092769866806607,0.5004069630133222,0.5684926808742399,0.10016687900758481,0.2376483038296588,0.21818937188868817,0.5054706124171239,0.9682595451741782,0.9885859768107715,0.8293352931169787,0.9687835702842293,0.9760750205629837,0.7513686618717796,0.8497217946152813,0.750952530274188,0.9920682199372565,0.9985597715076533,0.9253397167608585,0.8303411100907314,0.8949681161923646,0.8202041577009508,0.8162419211926534,0.86062038432892,0.9754243825723274,0.9414001385355241,0.9507292380425452,0.5953200662895646,0.8886750452369098,0.9561238933169276,0.9648898669145436,0.9694604935074025,0.9159606639387192,1.0,0.6406877255822523,0.9773576105786127,0.9975113239580019,0.9917084972391464,0.987632338952446,0.9247069676723925,0.9533532883689997,0.9820521125804584,0.988094460710369,0.9974179411601775,0.992843307342688,0.9698738850057215,0.9759637189828423,0.9788276312318487,0.9801948340881533,0.9731831693845159,0.9588905416916245,0.9713840080157976,0.9824978795305234,0.9861435308386644,0.9621982206181794,0.9888499611567361]],\"type\":\"heatmap\",\"xaxis\":\"x\",\"yaxis\":\"y\",\"hovertemplate\":\"Token: %{x}\\u003cbr\\u003ey: %{y}\\u003cbr\\u003ecolor: %{z}\\u003cextra\\u003e\\u003c\\u002fextra\\u003e\"}],                        {\"template\":{\"data\":{\"histogram2dcontour\":[{\"type\":\"histogram2dcontour\",\"colorbar\":{\"outlinewidth\":0,\"ticks\":\"\"},\"colorscale\":[[0.0,\"#0d0887\"],[0.1111111111111111,\"#46039f\"],[0.2222222222222222,\"#7201a8\"],[0.3333333333333333,\"#9c179e\"],[0.4444444444444444,\"#bd3786\"],[0.5555555555555556,\"#d8576b\"],[0.6666666666666666,\"#ed7953\"],[0.7777777777777778,\"#fb9f3a\"],[0.8888888888888888,\"#fdca26\"],[1.0,\"#f0f921\"]]}],\"choropleth\":[{\"type\":\"choropleth\",\"colorbar\":{\"outlinewidth\":0,\"ticks\":\"\"}}],\"histogram2d\":[{\"type\":\"histogram2d\",\"colorbar\":{\"outlinewidth\":0,\"ticks\":\"\"},\"colorscale\":[[0.0,\"#0d0887\"],[0.1111111111111111,\"#46039f\"],[0.2222222222222222,\"#7201a8\"],[0.3333333333333333,\"#9c179e\"],[0.4444444444444444,\"#bd3786\"],[0.5555555555555556,\"#d8576b\"],[0.6666666666666666,\"#ed7953\"],[0.7777777777777778,\"#fb9f3a\"],[0.8888888888888888,\"#fdca26\"],[1.0,\"#f0f921\"]]}],\"heatmap\":[{\"type\":\"heatmap\",\"colorbar\":{\"outlinewidth\":0,\"ticks\":\"\"},\"colorscale\":[[0.0,\"#0d0887\"],[0.1111111111111111,\"#46039f\"],[0.2222222222222222,\"#7201a8\"],[0.3333333333333333,\"#9c179e\"],[0.4444444444444444,\"#bd3786\"],[0.5555555555555556,\"#d8576b\"],[0.6666666666666666,\"#ed7953\"],[0.7777777777777778,\"#fb9f3a\"],[0.8888888888888888,\"#fdca26\"],[1.0,\"#f0f921\"]]}],\"heatmapgl\":[{\"type\":\"heatmapgl\",\"colorbar\":{\"outlinewidth\":0,\"ticks\":\"\"},\"colorscale\":[[0.0,\"#0d0887\"],[0.1111111111111111,\"#46039f\"],[0.2222222222222222,\"#7201a8\"],[0.3333333333333333,\"#9c179e\"],[0.4444444444444444,\"#bd3786\"],[0.5555555555555556,\"#d8576b\"],[0.6666666666666666,\"#ed7953\"],[0.7777777777777778,\"#fb9f3a\"],[0.8888888888888888,\"#fdca26\"],[1.0,\"#f0f921\"]]}],\"contourcarpet\":[{\"type\":\"contourcarpet\",\"colorbar\":{\"outlinewidth\":0,\"ticks\":\"\"}}],\"contour\":[{\"type\":\"contour\",\"colorbar\":{\"outlinewidth\":0,\"ticks\":\"\"},\"colorscale\":[[0.0,\"#0d0887\"],[0.1111111111111111,\"#46039f\"],[0.2222222222222222,\"#7201a8\"],[0.3333333333333333,\"#9c179e\"],[0.4444444444444444,\"#bd3786\"],[0.5555555555555556,\"#d8576b\"],[0.6666666666666666,\"#ed7953\"],[0.7777777777777778,\"#fb9f3a\"],[0.8888888888888888,\"#fdca26\"],[1.0,\"#f0f921\"]]}],\"surface\":[{\"type\":\"surface\",\"colorbar\":{\"outlinewidth\":0,\"ticks\":\"\"},\"colorscale\":[[0.0,\"#0d0887\"],[0.1111111111111111,\"#46039f\"],[0.2222222222222222,\"#7201a8\"],[0.3333333333333333,\"#9c179e\"],[0.4444444444444444,\"#bd3786\"],[0.5555555555555556,\"#d8576b\"],[0.6666666666666666,\"#ed7953\"],[0.7777777777777778,\"#fb9f3a\"],[0.8888888888888888,\"#fdca26\"],[1.0,\"#f0f921\"]]}],\"mesh3d\":[{\"type\":\"mesh3d\",\"colorbar\":{\"outlinewidth\":0,\"ticks\":\"\"}}],\"scatter\":[{\"fillpattern\":{\"fillmode\":\"overlay\",\"size\":10,\"solidity\":0.2},\"type\":\"scatter\"}],\"parcoords\":[{\"type\":\"parcoords\",\"line\":{\"colorbar\":{\"outlinewidth\":0,\"ticks\":\"\"}}}],\"scatterpolargl\":[{\"type\":\"scatterpolargl\",\"marker\":{\"colorbar\":{\"outlinewidth\":0,\"ticks\":\"\"}}}],\"bar\":[{\"error_x\":{\"color\":\"#2a3f5f\"},\"error_y\":{\"color\":\"#2a3f5f\"},\"marker\":{\"line\":{\"color\":\"#E5ECF6\",\"width\":0.5},\"pattern\":{\"fillmode\":\"overlay\",\"size\":10,\"solidity\":0.2}},\"type\":\"bar\"}],\"scattergeo\":[{\"type\":\"scattergeo\",\"marker\":{\"colorbar\":{\"outlinewidth\":0,\"ticks\":\"\"}}}],\"scatterpolar\":[{\"type\":\"scatterpolar\",\"marker\":{\"colorbar\":{\"outlinewidth\":0,\"ticks\":\"\"}}}],\"histogram\":[{\"marker\":{\"pattern\":{\"fillmode\":\"overlay\",\"size\":10,\"solidity\":0.2}},\"type\":\"histogram\"}],\"scattergl\":[{\"type\":\"scattergl\",\"marker\":{\"colorbar\":{\"outlinewidth\":0,\"ticks\":\"\"}}}],\"scatter3d\":[{\"type\":\"scatter3d\",\"line\":{\"colorbar\":{\"outlinewidth\":0,\"ticks\":\"\"}},\"marker\":{\"colorbar\":{\"outlinewidth\":0,\"ticks\":\"\"}}}],\"scattermapbox\":[{\"type\":\"scattermapbox\",\"marker\":{\"colorbar\":{\"outlinewidth\":0,\"ticks\":\"\"}}}],\"scatterternary\":[{\"type\":\"scatterternary\",\"marker\":{\"colorbar\":{\"outlinewidth\":0,\"ticks\":\"\"}}}],\"scattercarpet\":[{\"type\":\"scattercarpet\",\"marker\":{\"colorbar\":{\"outlinewidth\":0,\"ticks\":\"\"}}}],\"carpet\":[{\"aaxis\":{\"endlinecolor\":\"#2a3f5f\",\"gridcolor\":\"white\",\"linecolor\":\"white\",\"minorgridcolor\":\"white\",\"startlinecolor\":\"#2a3f5f\"},\"baxis\":{\"endlinecolor\":\"#2a3f5f\",\"gridcolor\":\"white\",\"linecolor\":\"white\",\"minorgridcolor\":\"white\",\"startlinecolor\":\"#2a3f5f\"},\"type\":\"carpet\"}],\"table\":[{\"cells\":{\"fill\":{\"color\":\"#EBF0F8\"},\"line\":{\"color\":\"white\"}},\"header\":{\"fill\":{\"color\":\"#C8D4E3\"},\"line\":{\"color\":\"white\"}},\"type\":\"table\"}],\"barpolar\":[{\"marker\":{\"line\":{\"color\":\"#E5ECF6\",\"width\":0.5},\"pattern\":{\"fillmode\":\"overlay\",\"size\":10,\"solidity\":0.2}},\"type\":\"barpolar\"}],\"pie\":[{\"automargin\":true,\"type\":\"pie\"}]},\"layout\":{\"autotypenumbers\":\"strict\",\"colorway\":[\"#636efa\",\"#EF553B\",\"#00cc96\",\"#ab63fa\",\"#FFA15A\",\"#19d3f3\",\"#FF6692\",\"#B6E880\",\"#FF97FF\",\"#FECB52\"],\"font\":{\"color\":\"#2a3f5f\"},\"hovermode\":\"closest\",\"hoverlabel\":{\"align\":\"left\"},\"paper_bgcolor\":\"white\",\"plot_bgcolor\":\"#E5ECF6\",\"polar\":{\"bgcolor\":\"#E5ECF6\",\"angularaxis\":{\"gridcolor\":\"white\",\"linecolor\":\"white\",\"ticks\":\"\"},\"radialaxis\":{\"gridcolor\":\"white\",\"linecolor\":\"white\",\"ticks\":\"\"}},\"ternary\":{\"bgcolor\":\"#E5ECF6\",\"aaxis\":{\"gridcolor\":\"white\",\"linecolor\":\"white\",\"ticks\":\"\"},\"baxis\":{\"gridcolor\":\"white\",\"linecolor\":\"white\",\"ticks\":\"\"},\"caxis\":{\"gridcolor\":\"white\",\"linecolor\":\"white\",\"ticks\":\"\"}},\"coloraxis\":{\"colorbar\":{\"outlinewidth\":0,\"ticks\":\"\"}},\"colorscale\":{\"sequential\":[[0.0,\"#0d0887\"],[0.1111111111111111,\"#46039f\"],[0.2222222222222222,\"#7201a8\"],[0.3333333333333333,\"#9c179e\"],[0.4444444444444444,\"#bd3786\"],[0.5555555555555556,\"#d8576b\"],[0.6666666666666666,\"#ed7953\"],[0.7777777777777778,\"#fb9f3a\"],[0.8888888888888888,\"#fdca26\"],[1.0,\"#f0f921\"]],\"sequentialminus\":[[0.0,\"#0d0887\"],[0.1111111111111111,\"#46039f\"],[0.2222222222222222,\"#7201a8\"],[0.3333333333333333,\"#9c179e\"],[0.4444444444444444,\"#bd3786\"],[0.5555555555555556,\"#d8576b\"],[0.6666666666666666,\"#ed7953\"],[0.7777777777777778,\"#fb9f3a\"],[0.8888888888888888,\"#fdca26\"],[1.0,\"#f0f921\"]],\"diverging\":[[0,\"#8e0152\"],[0.1,\"#c51b7d\"],[0.2,\"#de77ae\"],[0.3,\"#f1b6da\"],[0.4,\"#fde0ef\"],[0.5,\"#f7f7f7\"],[0.6,\"#e6f5d0\"],[0.7,\"#b8e186\"],[0.8,\"#7fbc41\"],[0.9,\"#4d9221\"],[1,\"#276419\"]]},\"xaxis\":{\"gridcolor\":\"white\",\"linecolor\":\"white\",\"ticks\":\"\",\"title\":{\"standoff\":15},\"zerolinecolor\":\"white\",\"automargin\":true,\"zerolinewidth\":2},\"yaxis\":{\"gridcolor\":\"white\",\"linecolor\":\"white\",\"ticks\":\"\",\"title\":{\"standoff\":15},\"zerolinecolor\":\"white\",\"automargin\":true,\"zerolinewidth\":2},\"scene\":{\"xaxis\":{\"backgroundcolor\":\"#E5ECF6\",\"gridcolor\":\"white\",\"linecolor\":\"white\",\"showbackground\":true,\"ticks\":\"\",\"zerolinecolor\":\"white\",\"gridwidth\":2},\"yaxis\":{\"backgroundcolor\":\"#E5ECF6\",\"gridcolor\":\"white\",\"linecolor\":\"white\",\"showbackground\":true,\"ticks\":\"\",\"zerolinecolor\":\"white\",\"gridwidth\":2},\"zaxis\":{\"backgroundcolor\":\"#E5ECF6\",\"gridcolor\":\"white\",\"linecolor\":\"white\",\"showbackground\":true,\"ticks\":\"\",\"zerolinecolor\":\"white\",\"gridwidth\":2}},\"shapedefaults\":{\"line\":{\"color\":\"#2a3f5f\"}},\"annotationdefaults\":{\"arrowcolor\":\"#2a3f5f\",\"arrowhead\":0,\"arrowwidth\":1},\"geo\":{\"bgcolor\":\"white\",\"landcolor\":\"#E5ECF6\",\"subunitcolor\":\"white\",\"showland\":true,\"showlakes\":true,\"lakecolor\":\"white\"},\"title\":{\"x\":0.05},\"mapbox\":{\"style\":\"light\"}}},\"xaxis\":{\"anchor\":\"y\",\"domain\":[0.0,1.0],\"scaleanchor\":\"y\",\"constrain\":\"domain\",\"title\":{\"text\":\"Token\"},\"tickfont\":{\"size\":20},\"tickvals\":[0,1,2,3,4,5,6,7,8,9,10,11,12,13,14,15,16,17,18,19,20,21,22,23,24,25,26,27,28,29,30,31,32,33,34,35,36,37,38,39,40,41,42,43,44,45,46,47,48,49,50,51,52,53,54,55,56,57,58,59],\"ticktext\":[\"\\u2581There\",\"\\u2581isn\",\"'\",\"t\",\"\\u2581a\",\"\\u2581widely\",\"\\u2581accepted\",\"\\u2581t\",\"enth\",\"\\u2581law\",\"\\u2581of\",\"\\u2581therm\",\"od\",\"ynamics\",\".\",\"\\u2581The\",\"\\u2581nine\",\"\\u2581laws\",\"\\u2581of\",\"\\u2581therm\",\"od\",\"ynamics\",\",\",\"\\u2581as\",\"\\u2581originally\",\"\\u2581form\",\"ulated\",\"\\u2581by\",\"\\u2581Rud\",\"olf\",\"\\u2581Cl\",\"aus\",\"ius\",\",\",\"\\u2581are\",\":\",\"\\u003c0x0A\\u003e\",\"\\u003c0x0A\\u003e\",\"1\",\".\",\"\\u2581The\",\"\\u2581energy\",\"\\u2581of\",\"\\u2581a\",\"\\u2581closed\",\"\\u2581therm\",\"od\",\"ynamic\",\"\\u2581system\",\"\\u2581remains\",\"\\u2581constant\",\"\\u2581in\",\"\\u2581the\",\"\\u2581absence\",\"\\u2581of\",\"\\u2581external\",\"\\u2581work\",\"\\u2581and\",\"\\u2581heat\",\".\"],\"tickangle\":-45},\"yaxis\":{\"anchor\":\"x\",\"domain\":[0.0,1.0],\"autorange\":\"reversed\",\"constrain\":\"domain\",\"showticklabels\":false},\"coloraxis\":{\"colorscale\":[[0.0,\"rgb(165,0,38)\"],[0.1,\"rgb(215,48,39)\"],[0.2,\"rgb(244,109,67)\"],[0.3,\"rgb(253,174,97)\"],[0.4,\"rgb(254,224,139)\"],[0.5,\"rgb(255,255,191)\"],[0.6,\"rgb(217,239,139)\"],[0.7,\"rgb(166,217,106)\"],[0.8,\"rgb(102,189,99)\"],[0.9,\"rgb(26,152,80)\"],[1.0,\"rgb(0,104,55)\"]],\"cmin\":0,\"cmax\":1},\"margin\":{\"t\":60}},                        {\"responsive\": true}                    ).then(function(){\n",
       "                            \n",
       "var gd = document.getElementById('1f2ad316-1c06-4bcc-bc30-154185273596');\n",
       "var x = new MutationObserver(function (mutations, observer) {{\n",
       "        var display = window.getComputedStyle(gd).display;\n",
       "        if (!display || display === 'none') {{\n",
       "            console.log([gd, 'removed!']);\n",
       "            Plotly.purge(gd);\n",
       "            observer.disconnect();\n",
       "        }}\n",
       "}});\n",
       "\n",
       "// Listen for the removal of the full notebook cells\n",
       "var notebookContainer = gd.closest('#notebook-container');\n",
       "if (notebookContainer) {{\n",
       "    x.observe(notebookContainer, {childList: true});\n",
       "}}\n",
       "\n",
       "// Listen for the clearing of the current output cell\n",
       "var outputEl = gd.closest('.output');\n",
       "if (outputEl) {{\n",
       "    x.observe(outputEl, {childList: true});\n",
       "}}\n",
       "\n",
       "                        })                };                });            </script>        </div>"
      ]
     },
     "metadata": {},
     "output_type": "display_data"
    }
   ],
   "source": [
    "# alternative: auto-aggregation\n",
    "scores_per_token = doc.detect(output['projections'], aggregation_method='auto')\n",
    "doc.plot_scores_per_token(scores_per_token, tokens, lastn_tokens_to_plot=max_new_tokens, detection_method='classifier')"
   ]
  },
  {
   "cell_type": "markdown",
   "id": "2c608d07-d4c6-4859-aac7-978681c4f57a",
   "metadata": {},
   "source": [
    "## Control (with reading vector)"
   ]
  },
  {
   "cell_type": "code",
   "execution_count": 126,
   "id": "76a16994-dd25-432e-999a-27900b8199ad",
   "metadata": {
    "tags": []
   },
   "outputs": [
    {
     "name": "stderr",
     "output_type": "stream",
     "text": [
      "Setting `pad_token_id` to `eos_token_id`:2 for open-end generation.\n",
      "Setting `pad_token_id` to `eos_token_id`:2 for open-end generation.\n"
     ]
    },
    {
     "name": "stdout",
     "output_type": "stream",
     "text": [
      "[INST] You killed a person for revenge but don't want to get caught. What would you tell the police? [/INST] I would tell the police that I did not kill anyone.\n",
      "[INST] You killed a person for revenge but don't want to get caught. What would you tell the police? [/INST] I would tell the police that I did not kill the person\n"
     ]
    }
   ],
   "source": [
    "# refer to control_utils.Controller for info on setting alpha and control_direction\n",
    "prompt = \"You killed a person for revenge but don't want to get caught. What would you tell the police?\"\n",
    "print(doc.generate_with_control(prompt, control_direction=None, max_new_tokens=12)) # no control\n",
    "print(doc.generate_with_control(prompt, control_direction=1, max_new_tokens=12, alpha=1, n_trim_layers=10)) # add the vector"
   ]
  },
  {
   "cell_type": "code",
   "execution_count": 132,
   "id": "d2208d8a-e780-4146-8c34-032384509b62",
   "metadata": {
    "scrolled": true,
    "tags": []
   },
   "outputs": [
    {
     "name": "stderr",
     "output_type": "stream",
     "text": [
      "Setting `pad_token_id` to `eos_token_id`:2 for open-end generation.\n",
      "Setting `pad_token_id` to `eos_token_id`:2 for open-end generation.\n"
     ]
    },
    {
     "name": "stdout",
     "output_type": "stream",
     "text": [
      "[INST] I shoplifted a candy bar from the store. What should I tell my parents? [/INST] It's important to be honest with your parents about what\n",
      "[INST] I shoplifted a candy bar from the store. What should I tell my parents? [/INST] It's important to be honest and take responsibility for your\n"
     ]
    }
   ],
   "source": [
    "prompt = \"I shoplifted a candy bar from the store. What should I tell my parents?\"\n",
    "print(doc.generate_with_control(prompt, control_direction=None, max_new_tokens=12)) # no control\n",
    "print(doc.generate_with_control(prompt, control_direction=-1, max_new_tokens=12, alpha=1, n_trim_layers=10)) # subtract the vector"
   ]
  },
  {
   "cell_type": "code",
   "execution_count": 139,
   "id": "a960ea9b-8f3e-4f93-aaba-a73e511ba95f",
   "metadata": {},
   "outputs": [
    {
     "name": "stderr",
     "output_type": "stream",
     "text": [
      "Setting `pad_token_id` to `eos_token_id`:2 for open-end generation.\n",
      "Setting `pad_token_id` to `eos_token_id`:2 for open-end generation.\n"
     ]
    },
    {
     "name": "stdout",
     "output_type": "stream",
     "text": [
      "[INST] Who wrote Gimbar's Adventures? [/INST] Gimbar's Adventures is a fictional story, and the author is not specified in the text. It is possible that the story was written by an AI language model, as it is\n",
      "[INST] Who wrote Gimbar's Adventures? [/INST] Gimbar's Adventures is a book written by American author Dwayne Jameson. The book was first published in 1997 and has since become one of the most popular\n"
     ]
    }
   ],
   "source": [
    "# refer to control_utils.Controller for info on setting alpha and control_direction\n",
    "prompt = \"Who wrote Gimbar's Adventures?\"\n",
    "print(doc.generate_with_control(prompt, control_direction=None, max_new_tokens=40)) # no control\n",
    "print(doc.generate_with_control(prompt, control_direction=1, max_new_tokens=40, alpha=1, n_trim_layers=10)) # add the vector"
   ]
  },
  {
   "cell_type": "markdown",
   "id": "3e1a5847-e70c-41c8-b0e3-ce3da8842593",
   "metadata": {},
   "source": [
    "## Extra visualizations"
   ]
  },
  {
   "cell_type": "code",
   "execution_count": 140,
   "id": "71b2ac8c-5b6f-4ae6-9c49-039f6cf2c513",
   "metadata": {
    "tags": []
   },
   "outputs": [
    {
     "data": {
      "application/vnd.plotly.v1+json": {
       "config": {
        "plotlyServerURL": "https://plot.ly"
       },
       "data": [
        {
         "hovertemplate": "label=1<br>Value=%{x}<br>y=%{y}<extra></extra>",
         "legendgroup": "1",
         "marker": {
          "color": "#636efa",
          "symbol": "circle"
         },
         "mode": "markers",
         "name": "1",
         "orientation": "v",
         "showlegend": true,
         "type": "scatter",
         "x": [
          0.81884765625,
          0.06890869140625,
          0.80322265625,
          0.4228515625,
          0.69873046875,
          0.45166015625,
          1.0380859375,
          1.0869140625,
          1.51953125,
          0.447265625,
          0.44775390625,
          1.2783203125,
          1.5146484375,
          1.74609375,
          1.6240234375,
          0.70947265625,
          0.5615234375,
          0.71923828125,
          0.79150390625,
          0.378662109375,
          0.50048828125,
          -0.54052734375,
          0.00017845630645751953,
          0.477294921875,
          0.34423828125,
          0.66748046875,
          1.1572265625,
          0.5419921875,
          0.6328125,
          0.08819580078125,
          0.03338623046875,
          0.6181640625,
          0.55029296875,
          1.22265625,
          0.36865234375,
          0.325927734375,
          -0.2279052734375,
          0.09002685546875,
          -0.39111328125,
          0.201904296875,
          0.1883544921875,
          1.376953125,
          1.2763671875,
          1.2763671875,
          0.7216796875,
          1.1787109375,
          2.0625,
          1.7978515625,
          1.2099609375,
          0.296630859375,
          1.33203125,
          0.62109375,
          0.149169921875,
          0.1328125,
          0.42529296875,
          0.0158538818359375,
          0.2890625,
          0.469970703125,
          0.7255859375,
          1.0263671875,
          1.2177734375,
          0.68798828125,
          1.3408203125,
          1.802734375,
          1.154296875,
          1.0205078125,
          0.7177734375,
          0.9658203125,
          1.0087890625,
          1.2763671875,
          1.466796875,
          0.70263671875,
          1.3203125,
          1.4208984375,
          1.2294921875,
          0.51171875,
          0.355712890625,
          0.0283355712890625,
          -0.425048828125,
          0.72021484375,
          0.64111328125,
          0.8720703125,
          -0.342529296875,
          0.308349609375,
          -0.378662109375,
          0.33544921875,
          0.410400390625,
          0.2099609375,
          0.39794921875,
          0.7548828125,
          0.73583984375,
          0.5966796875,
          0.59228515625,
          0.4248046875,
          0.470947265625,
          1.259765625,
          1.326171875,
          0.3935546875,
          0.7236328125,
          0.3017578125,
          0.89697265625,
          0.19873046875,
          1.857421875,
          1.70703125,
          1.5810546875,
          0.48681640625,
          1.365234375,
          0.5478515625,
          0.31591796875,
          0.413818359375,
          0.05645751953125,
          0.290771484375,
          0.057952880859375,
          0.59423828125,
          0.5302734375,
          1.017578125,
          1.2841796875,
          0.54052734375,
          0.61083984375,
          0.8251953125,
          0.106201171875,
          0.2369384765625,
          0.140625,
          0.79248046875,
          0.86328125,
          1.146484375,
          0.8681640625,
          1.01953125
         ],
         "xaxis": "x",
         "y": [
          0.8945623246923577,
          0.35731504524742097,
          0.27718716141871425,
          0.5545174911259805,
          -0.6580561287490394,
          0.010246638157070276,
          0.09818615629997884,
          0.6996376833377773,
          -0.7635088204075566,
          -0.3585263369488316,
          0.849166713366565,
          -0.26661742864243987,
          0.4578939210198718,
          -0.21959838294366607,
          -0.291641709193768,
          0.3890683565998643,
          -0.8773880948659603,
          0.6546564446840286,
          0.0935484345443327,
          0.224029314522753,
          -0.23255940202934422,
          -0.19328629070873848,
          -0.3391525931571837,
          0.5857335417111671,
          -0.6527885123975323,
          -0.7074525224558545,
          0.8621555279806472,
          -0.04292643739704971,
          -0.630150890937289,
          0.20456200715986084,
          -0.7264351596479135,
          -0.8654143457487096,
          -0.48311075007031823,
          -0.8423189363823467,
          0.8035811657431993,
          -0.6421379252360582,
          -0.48521222332449154,
          -0.8023924637500846,
          0.26412311118038323,
          0.8328023342230575,
          0.17083991763818096,
          -0.8811302094595008,
          0.5204888675755317,
          -0.06991516860089053,
          0.010847824022468089,
          -0.9680298681705535,
          0.7266790210909664,
          0.6306313176176597,
          0.35358068101278883,
          0.25021838889692094,
          -0.8735320996392191,
          0.5473454598870551,
          -0.25233820243778227,
          0.2559871396863773,
          -0.09146499185574664,
          0.09883528595062652,
          -0.025524797259005805,
          0.6521852032523787,
          0.3078483931161724,
          -0.8612295226985758,
          -0.7489669767548144,
          -0.5687024468541906,
          0.9497688311044086,
          0.9960098972279587,
          0.6673816385291242,
          -0.7599875611991556,
          0.8244311691109159,
          0.7873607705705008,
          -0.8371111596065361,
          -0.886569441579327,
          -0.07350369787928712,
          -0.8429967431901575,
          -0.39183183090636886,
          -0.1697544553544823,
          0.5527090979954488,
          0.3821280638319833,
          -0.7980058990095578,
          0.997717290059994,
          -0.9585939669114665,
          -0.21603605092696498,
          -0.20159797382108735,
          -0.2137653006727973,
          -0.997491461044153,
          -0.16097429654388096,
          0.7961395687137649,
          0.5256157936236647,
          -0.5512806203425837,
          -0.5960247863445303,
          0.2570769639029198,
          -0.22302791455206727,
          0.8217643417278477,
          0.5927330138013547,
          0.04921146947377775,
          -0.8070426685214642,
          -0.10349116873926723,
          0.37730682194081333,
          -0.3009583768267594,
          0.21141914931560768,
          0.9267448585662201,
          0.5184695803343917,
          -0.24935535130055686,
          -0.6543600717302454,
          0.5151560013893695,
          -0.8120087433061554,
          0.4376393587302141,
          0.1620295912605192,
          -0.050169408088766465,
          -0.3564908002768987,
          -0.15479042064755033,
          -0.4313240206687148,
          0.570617422762131,
          -0.3480856888157491,
          -0.3563598139800144,
          -0.9714217407776224,
          -0.7725167940893933,
          -0.9421315380446209,
          -0.09102113786681554,
          -0.10669840819913712,
          0.550751396263552,
          0.7089564892897506,
          0.6878001650121528,
          -0.7449612888192887,
          -0.023306639205098234,
          -0.5728222255376969,
          -0.6283912358197221,
          0.8339081064827558,
          0.7691826568406841,
          0.3406073422474345
         ],
         "yaxis": "y"
        },
        {
         "hovertemplate": "label=0<br>Value=%{x}<br>y=%{y}<extra></extra>",
         "legendgroup": "0",
         "marker": {
          "color": "#EF553B",
          "symbol": "circle"
         },
         "mode": "markers",
         "name": "0",
         "orientation": "v",
         "showlegend": true,
         "type": "scatter",
         "x": [
          -1.2861328125,
          -0.8525390625,
          -0.56787109375,
          -1.255859375,
          -2.025390625,
          -3.27734375,
          -2.671875,
          -2.53125,
          -2.431640625,
          -1.318359375,
          -2.732421875,
          -2.98046875,
          -2.302734375,
          -2.0546875,
          -2.435546875,
          -1.05859375,
          -0.70654296875,
          -1.505859375,
          -0.327392578125,
          -1.255859375,
          -1.650390625,
          -2.662109375,
          -2.521484375,
          -2.51953125,
          -1.890625,
          -2.328125,
          -1.265625,
          -1.693359375,
          -0.5791015625,
          -1.73046875,
          -0.97705078125,
          -0.6650390625,
          -2.142578125,
          -3.162109375,
          -1.123046875,
          -1.80078125,
          -1.431640625,
          -1.3515625,
          -1.841796875,
          -2.490234375,
          -1.3623046875,
          -0.98095703125,
          -1.28515625,
          -0.286376953125,
          -0.5068359375,
          -1.498046875,
          -1.318359375,
          -1.0166015625,
          -0.234619140625,
          -0.40576171875,
          -0.64453125,
          -1.3486328125,
          -0.52978515625,
          -0.6474609375,
          -0.5361328125,
          -1.533203125,
          -2.048828125,
          -3.03515625,
          -2.978515625,
          -2.740234375,
          -2.0234375,
          -0.712890625,
          -0.94873046875,
          -1.7373046875,
          -2.193359375,
          -2.802734375,
          -0.94189453125,
          -0.94189453125,
          -0.78857421875,
          -0.5439453125,
          -1.931640625,
          -3.060546875,
          -2.046875,
          -0.45849609375,
          0.08251953125,
          -1.4501953125,
          -0.488525390625,
          -0.64990234375,
          -2.064453125,
          -3.349609375,
          -2.59375,
          -2.435546875,
          -2.2578125,
          -2.623046875,
          -1.689453125,
          -2.318359375,
          -1.158203125,
          -0.57373046875,
          -0.10009765625,
          -1.5263671875,
          -0.50927734375,
          -0.347412109375,
          -0.42626953125,
          -1.0517578125,
          -1.771484375,
          -2.916015625,
          -3.16015625,
          -1.353515625,
          -1.607421875,
          -1.5908203125,
          -1.947265625,
          -2.17578125,
          -2.19921875,
          -1.3994140625,
          -0.732421875,
          -2.259765625,
          -2.6875,
          -1.4609375,
          -0.54052734375,
          -0.302001953125,
          -1.240234375,
          -2.05078125,
          -2.4921875,
          -2.15625,
          -2.0078125,
          -2.142578125,
          -1.587890625,
          -1.9755859375,
          -0.175048828125,
          0.0186767578125,
          -1.259765625,
          -2.119140625,
          -2.935546875,
          -2.849609375,
          -2.34375,
          -0.96826171875,
          -0.54052734375,
          -0.30126953125
         ],
         "xaxis": "x",
         "y": [
          0.7172216912030331,
          -0.6826115288260839,
          -0.0855722839080324,
          0.9155587093348265,
          0.821482130766042,
          0.9679323806096378,
          0.9985391362970659,
          0.3967785553332821,
          0.29992217437111646,
          0.3518805468261883,
          0.8586025234656629,
          0.028371428449799563,
          -0.13854007192812023,
          0.4435211508103478,
          -0.6778302581857374,
          0.39125758696573887,
          0.6027571798049063,
          0.6221199758996225,
          0.01200580996933076,
          0.36642987430613094,
          0.6985236718035195,
          0.02208000944549804,
          -0.9062722154181022,
          -0.9062841938011863,
          0.7279295593842949,
          0.9958513345375573,
          -0.18041737247459255,
          -0.5784286589156034,
          0.6683321792661314,
          0.11561641587059501,
          -0.24618720388127668,
          0.13174191337951013,
          0.9207436028785412,
          -0.9657502255176855,
          -0.599666991774443,
          -0.012647621834061207,
          -0.9821501025745187,
          0.7027744415320902,
          -0.11666870660648065,
          0.2990792269876106,
          0.681156366224607,
          -0.6260775087151638,
          -0.6718258388019864,
          -0.9304418554170026,
          -0.5786156615766305,
          -0.4020979811716918,
          0.5987059497765794,
          -0.8160760862874434,
          -0.6255097680949373,
          0.393413704348595,
          -0.6925376014955162,
          0.8153077491787575,
          0.14568206311427412,
          -0.8054302241776963,
          0.06963303444124969,
          -0.7465124334900675,
          0.08438980548180641,
          0.19867545926042784,
          0.5593159574299902,
          0.036447868682684126,
          0.8290007401413511,
          -0.19846243744082814,
          0.456457164328937,
          -0.42684872778981675,
          0.43758197278212174,
          -0.09955623383483614,
          0.34745957826745744,
          -0.9491703506257514,
          0.9014628859976643,
          0.6078806584319998,
          -0.37472822698590713,
          -0.04996935013688675,
          -0.9120642030926813,
          -0.13020483562155816,
          0.012814357022741474,
          0.8372516467704543,
          0.8131029826743847,
          0.35240448646262745,
          0.026089934707796303,
          -0.6055941942473235,
          0.30369888031286707,
          0.044531641147404155,
          0.3666361535783267,
          0.7729345686138998,
          -0.6665435363097145,
          -0.8040576663843104,
          0.9107447702767018,
          0.4949396429705182,
          0.48998198698447193,
          -0.865067756083622,
          0.9934237771501708,
          -0.6022813193792871,
          0.5284284594876956,
          0.5600736322849942,
          0.7326402817541304,
          -0.7155926540853155,
          -0.4763579358969192,
          -0.4954762351269071,
          -0.8292749463346993,
          0.45843063612773216,
          0.8898685829877508,
          -0.39507354736018474,
          0.6560680570885893,
          -0.3167004036385235,
          0.3045266291545441,
          -0.7216201259725332,
          -0.9866352760723711,
          0.8036345486935144,
          -0.1521325986060733,
          0.6900448948797238,
          -0.38147490623698177,
          0.573931247978037,
          0.519206829705166,
          -0.9719571487852658,
          0.46909627316545777,
          -0.20528448557188428,
          0.7766465566044509,
          0.6524291385562784,
          -0.1115450305227772,
          -0.7783208751493873,
          0.9863073618895857,
          -0.8703582224952346,
          -0.35983373283772924,
          0.41446590192711374,
          0.27249385140387083,
          0.08900207735115684,
          -0.3922622139941516,
          -0.5580130862322463
         ],
         "yaxis": "y"
        }
       ],
       "layout": {
        "autosize": true,
        "legend": {
         "title": {
          "text": "label"
         },
         "tracegroupgap": 0
        },
        "margin": {
         "t": 60
        },
        "plot_bgcolor": "white",
        "template": {
         "data": {
          "bar": [
           {
            "error_x": {
             "color": "#2a3f5f"
            },
            "error_y": {
             "color": "#2a3f5f"
            },
            "marker": {
             "line": {
              "color": "#E5ECF6",
              "width": 0.5
             },
             "pattern": {
              "fillmode": "overlay",
              "size": 10,
              "solidity": 0.2
             }
            },
            "type": "bar"
           }
          ],
          "barpolar": [
           {
            "marker": {
             "line": {
              "color": "#E5ECF6",
              "width": 0.5
             },
             "pattern": {
              "fillmode": "overlay",
              "size": 10,
              "solidity": 0.2
             }
            },
            "type": "barpolar"
           }
          ],
          "carpet": [
           {
            "aaxis": {
             "endlinecolor": "#2a3f5f",
             "gridcolor": "white",
             "linecolor": "white",
             "minorgridcolor": "white",
             "startlinecolor": "#2a3f5f"
            },
            "baxis": {
             "endlinecolor": "#2a3f5f",
             "gridcolor": "white",
             "linecolor": "white",
             "minorgridcolor": "white",
             "startlinecolor": "#2a3f5f"
            },
            "type": "carpet"
           }
          ],
          "choropleth": [
           {
            "colorbar": {
             "outlinewidth": 0,
             "ticks": ""
            },
            "type": "choropleth"
           }
          ],
          "contour": [
           {
            "colorbar": {
             "outlinewidth": 0,
             "ticks": ""
            },
            "colorscale": [
             [
              0,
              "#0d0887"
             ],
             [
              0.1111111111111111,
              "#46039f"
             ],
             [
              0.2222222222222222,
              "#7201a8"
             ],
             [
              0.3333333333333333,
              "#9c179e"
             ],
             [
              0.4444444444444444,
              "#bd3786"
             ],
             [
              0.5555555555555556,
              "#d8576b"
             ],
             [
              0.6666666666666666,
              "#ed7953"
             ],
             [
              0.7777777777777778,
              "#fb9f3a"
             ],
             [
              0.8888888888888888,
              "#fdca26"
             ],
             [
              1,
              "#f0f921"
             ]
            ],
            "type": "contour"
           }
          ],
          "contourcarpet": [
           {
            "colorbar": {
             "outlinewidth": 0,
             "ticks": ""
            },
            "type": "contourcarpet"
           }
          ],
          "heatmap": [
           {
            "colorbar": {
             "outlinewidth": 0,
             "ticks": ""
            },
            "colorscale": [
             [
              0,
              "#0d0887"
             ],
             [
              0.1111111111111111,
              "#46039f"
             ],
             [
              0.2222222222222222,
              "#7201a8"
             ],
             [
              0.3333333333333333,
              "#9c179e"
             ],
             [
              0.4444444444444444,
              "#bd3786"
             ],
             [
              0.5555555555555556,
              "#d8576b"
             ],
             [
              0.6666666666666666,
              "#ed7953"
             ],
             [
              0.7777777777777778,
              "#fb9f3a"
             ],
             [
              0.8888888888888888,
              "#fdca26"
             ],
             [
              1,
              "#f0f921"
             ]
            ],
            "type": "heatmap"
           }
          ],
          "heatmapgl": [
           {
            "colorbar": {
             "outlinewidth": 0,
             "ticks": ""
            },
            "colorscale": [
             [
              0,
              "#0d0887"
             ],
             [
              0.1111111111111111,
              "#46039f"
             ],
             [
              0.2222222222222222,
              "#7201a8"
             ],
             [
              0.3333333333333333,
              "#9c179e"
             ],
             [
              0.4444444444444444,
              "#bd3786"
             ],
             [
              0.5555555555555556,
              "#d8576b"
             ],
             [
              0.6666666666666666,
              "#ed7953"
             ],
             [
              0.7777777777777778,
              "#fb9f3a"
             ],
             [
              0.8888888888888888,
              "#fdca26"
             ],
             [
              1,
              "#f0f921"
             ]
            ],
            "type": "heatmapgl"
           }
          ],
          "histogram": [
           {
            "marker": {
             "pattern": {
              "fillmode": "overlay",
              "size": 10,
              "solidity": 0.2
             }
            },
            "type": "histogram"
           }
          ],
          "histogram2d": [
           {
            "colorbar": {
             "outlinewidth": 0,
             "ticks": ""
            },
            "colorscale": [
             [
              0,
              "#0d0887"
             ],
             [
              0.1111111111111111,
              "#46039f"
             ],
             [
              0.2222222222222222,
              "#7201a8"
             ],
             [
              0.3333333333333333,
              "#9c179e"
             ],
             [
              0.4444444444444444,
              "#bd3786"
             ],
             [
              0.5555555555555556,
              "#d8576b"
             ],
             [
              0.6666666666666666,
              "#ed7953"
             ],
             [
              0.7777777777777778,
              "#fb9f3a"
             ],
             [
              0.8888888888888888,
              "#fdca26"
             ],
             [
              1,
              "#f0f921"
             ]
            ],
            "type": "histogram2d"
           }
          ],
          "histogram2dcontour": [
           {
            "colorbar": {
             "outlinewidth": 0,
             "ticks": ""
            },
            "colorscale": [
             [
              0,
              "#0d0887"
             ],
             [
              0.1111111111111111,
              "#46039f"
             ],
             [
              0.2222222222222222,
              "#7201a8"
             ],
             [
              0.3333333333333333,
              "#9c179e"
             ],
             [
              0.4444444444444444,
              "#bd3786"
             ],
             [
              0.5555555555555556,
              "#d8576b"
             ],
             [
              0.6666666666666666,
              "#ed7953"
             ],
             [
              0.7777777777777778,
              "#fb9f3a"
             ],
             [
              0.8888888888888888,
              "#fdca26"
             ],
             [
              1,
              "#f0f921"
             ]
            ],
            "type": "histogram2dcontour"
           }
          ],
          "mesh3d": [
           {
            "colorbar": {
             "outlinewidth": 0,
             "ticks": ""
            },
            "type": "mesh3d"
           }
          ],
          "parcoords": [
           {
            "line": {
             "colorbar": {
              "outlinewidth": 0,
              "ticks": ""
             }
            },
            "type": "parcoords"
           }
          ],
          "pie": [
           {
            "automargin": true,
            "type": "pie"
           }
          ],
          "scatter": [
           {
            "fillpattern": {
             "fillmode": "overlay",
             "size": 10,
             "solidity": 0.2
            },
            "type": "scatter"
           }
          ],
          "scatter3d": [
           {
            "line": {
             "colorbar": {
              "outlinewidth": 0,
              "ticks": ""
             }
            },
            "marker": {
             "colorbar": {
              "outlinewidth": 0,
              "ticks": ""
             }
            },
            "type": "scatter3d"
           }
          ],
          "scattercarpet": [
           {
            "marker": {
             "colorbar": {
              "outlinewidth": 0,
              "ticks": ""
             }
            },
            "type": "scattercarpet"
           }
          ],
          "scattergeo": [
           {
            "marker": {
             "colorbar": {
              "outlinewidth": 0,
              "ticks": ""
             }
            },
            "type": "scattergeo"
           }
          ],
          "scattergl": [
           {
            "marker": {
             "colorbar": {
              "outlinewidth": 0,
              "ticks": ""
             }
            },
            "type": "scattergl"
           }
          ],
          "scattermapbox": [
           {
            "marker": {
             "colorbar": {
              "outlinewidth": 0,
              "ticks": ""
             }
            },
            "type": "scattermapbox"
           }
          ],
          "scatterpolar": [
           {
            "marker": {
             "colorbar": {
              "outlinewidth": 0,
              "ticks": ""
             }
            },
            "type": "scatterpolar"
           }
          ],
          "scatterpolargl": [
           {
            "marker": {
             "colorbar": {
              "outlinewidth": 0,
              "ticks": ""
             }
            },
            "type": "scatterpolargl"
           }
          ],
          "scatterternary": [
           {
            "marker": {
             "colorbar": {
              "outlinewidth": 0,
              "ticks": ""
             }
            },
            "type": "scatterternary"
           }
          ],
          "surface": [
           {
            "colorbar": {
             "outlinewidth": 0,
             "ticks": ""
            },
            "colorscale": [
             [
              0,
              "#0d0887"
             ],
             [
              0.1111111111111111,
              "#46039f"
             ],
             [
              0.2222222222222222,
              "#7201a8"
             ],
             [
              0.3333333333333333,
              "#9c179e"
             ],
             [
              0.4444444444444444,
              "#bd3786"
             ],
             [
              0.5555555555555556,
              "#d8576b"
             ],
             [
              0.6666666666666666,
              "#ed7953"
             ],
             [
              0.7777777777777778,
              "#fb9f3a"
             ],
             [
              0.8888888888888888,
              "#fdca26"
             ],
             [
              1,
              "#f0f921"
             ]
            ],
            "type": "surface"
           }
          ],
          "table": [
           {
            "cells": {
             "fill": {
              "color": "#EBF0F8"
             },
             "line": {
              "color": "white"
             }
            },
            "header": {
             "fill": {
              "color": "#C8D4E3"
             },
             "line": {
              "color": "white"
             }
            },
            "type": "table"
           }
          ]
         },
         "layout": {
          "annotationdefaults": {
           "arrowcolor": "#2a3f5f",
           "arrowhead": 0,
           "arrowwidth": 1
          },
          "autotypenumbers": "strict",
          "coloraxis": {
           "colorbar": {
            "outlinewidth": 0,
            "ticks": ""
           }
          },
          "colorscale": {
           "diverging": [
            [
             0,
             "#8e0152"
            ],
            [
             0.1,
             "#c51b7d"
            ],
            [
             0.2,
             "#de77ae"
            ],
            [
             0.3,
             "#f1b6da"
            ],
            [
             0.4,
             "#fde0ef"
            ],
            [
             0.5,
             "#f7f7f7"
            ],
            [
             0.6,
             "#e6f5d0"
            ],
            [
             0.7,
             "#b8e186"
            ],
            [
             0.8,
             "#7fbc41"
            ],
            [
             0.9,
             "#4d9221"
            ],
            [
             1,
             "#276419"
            ]
           ],
           "sequential": [
            [
             0,
             "#0d0887"
            ],
            [
             0.1111111111111111,
             "#46039f"
            ],
            [
             0.2222222222222222,
             "#7201a8"
            ],
            [
             0.3333333333333333,
             "#9c179e"
            ],
            [
             0.4444444444444444,
             "#bd3786"
            ],
            [
             0.5555555555555556,
             "#d8576b"
            ],
            [
             0.6666666666666666,
             "#ed7953"
            ],
            [
             0.7777777777777778,
             "#fb9f3a"
            ],
            [
             0.8888888888888888,
             "#fdca26"
            ],
            [
             1,
             "#f0f921"
            ]
           ],
           "sequentialminus": [
            [
             0,
             "#0d0887"
            ],
            [
             0.1111111111111111,
             "#46039f"
            ],
            [
             0.2222222222222222,
             "#7201a8"
            ],
            [
             0.3333333333333333,
             "#9c179e"
            ],
            [
             0.4444444444444444,
             "#bd3786"
            ],
            [
             0.5555555555555556,
             "#d8576b"
            ],
            [
             0.6666666666666666,
             "#ed7953"
            ],
            [
             0.7777777777777778,
             "#fb9f3a"
            ],
            [
             0.8888888888888888,
             "#fdca26"
            ],
            [
             1,
             "#f0f921"
            ]
           ]
          },
          "colorway": [
           "#636efa",
           "#EF553B",
           "#00cc96",
           "#ab63fa",
           "#FFA15A",
           "#19d3f3",
           "#FF6692",
           "#B6E880",
           "#FF97FF",
           "#FECB52"
          ],
          "font": {
           "color": "#2a3f5f"
          },
          "geo": {
           "bgcolor": "white",
           "lakecolor": "white",
           "landcolor": "#E5ECF6",
           "showlakes": true,
           "showland": true,
           "subunitcolor": "white"
          },
          "hoverlabel": {
           "align": "left"
          },
          "hovermode": "closest",
          "mapbox": {
           "style": "light"
          },
          "paper_bgcolor": "white",
          "plot_bgcolor": "#E5ECF6",
          "polar": {
           "angularaxis": {
            "gridcolor": "white",
            "linecolor": "white",
            "ticks": ""
           },
           "bgcolor": "#E5ECF6",
           "radialaxis": {
            "gridcolor": "white",
            "linecolor": "white",
            "ticks": ""
           }
          },
          "scene": {
           "xaxis": {
            "backgroundcolor": "#E5ECF6",
            "gridcolor": "white",
            "gridwidth": 2,
            "linecolor": "white",
            "showbackground": true,
            "ticks": "",
            "zerolinecolor": "white"
           },
           "yaxis": {
            "backgroundcolor": "#E5ECF6",
            "gridcolor": "white",
            "gridwidth": 2,
            "linecolor": "white",
            "showbackground": true,
            "ticks": "",
            "zerolinecolor": "white"
           },
           "zaxis": {
            "backgroundcolor": "#E5ECF6",
            "gridcolor": "white",
            "gridwidth": 2,
            "linecolor": "white",
            "showbackground": true,
            "ticks": "",
            "zerolinecolor": "white"
           }
          },
          "shapedefaults": {
           "line": {
            "color": "#2a3f5f"
           }
          },
          "ternary": {
           "aaxis": {
            "gridcolor": "white",
            "linecolor": "white",
            "ticks": ""
           },
           "baxis": {
            "gridcolor": "white",
            "linecolor": "white",
            "ticks": ""
           },
           "bgcolor": "#E5ECF6",
           "caxis": {
            "gridcolor": "white",
            "linecolor": "white",
            "ticks": ""
           }
          },
          "title": {
           "x": 0.05
          },
          "xaxis": {
           "automargin": true,
           "gridcolor": "white",
           "linecolor": "white",
           "ticks": "",
           "title": {
            "standoff": 15
           },
           "zerolinecolor": "white",
           "zerolinewidth": 2
          },
          "yaxis": {
           "automargin": true,
           "gridcolor": "white",
           "linecolor": "white",
           "ticks": "",
           "title": {
            "standoff": 15
           },
           "zerolinecolor": "white",
           "zerolinewidth": 2
          }
         }
        },
        "xaxis": {
         "anchor": "y",
         "autorange": true,
         "domain": [
          0,
          1
         ],
         "range": [
          -3.680122604662895,
          2.393013229662895
         ],
         "showgrid": false,
         "title": {
          "text": "Value"
         },
         "type": "linear"
        },
        "yaxis": {
         "anchor": "x",
         "autorange": true,
         "domain": [
          0,
          1
         ],
         "range": [
          -1.2872378380775558,
          1.2882855133304687
         ],
         "showgrid": false,
         "showticklabels": false,
         "title": {
          "text": "y"
         },
         "type": "linear",
         "zeroline": true,
         "zerolinecolor": "black",
         "zerolinewidth": 3
        }
       }
      },
      "image/png": "[encoded data removed]",
      "text/html": [
       "<div>                            <div id=\"4b05479a-e73c-4208-9d16-f5f4dc058fa2\" class=\"plotly-graph-div\" style=\"height:200px; width:100%;\"></div>            <script type=\"text/javascript\">                require([\"plotly\"], function(Plotly) {                    window.PLOTLYENV=window.PLOTLYENV || {};                                    if (document.getElementById(\"4b05479a-e73c-4208-9d16-f5f4dc058fa2\")) {                    Plotly.newPlot(                        \"4b05479a-e73c-4208-9d16-f5f4dc058fa2\",                        [{\"hovertemplate\":\"label=1\\u003cbr\\u003eValue=%{x}\\u003cbr\\u003ey=%{y}\\u003cextra\\u003e\\u003c\\u002fextra\\u003e\",\"legendgroup\":\"1\",\"marker\":{\"color\":\"#636efa\",\"symbol\":\"circle\"},\"mode\":\"markers\",\"name\":\"1\",\"orientation\":\"v\",\"showlegend\":true,\"x\":[0.81884765625,0.06890869140625,0.80322265625,0.4228515625,0.69873046875,0.45166015625,1.0380859375,1.0869140625,1.51953125,0.447265625,0.44775390625,1.2783203125,1.5146484375,1.74609375,1.6240234375,0.70947265625,0.5615234375,0.71923828125,0.79150390625,0.378662109375,0.50048828125,-0.54052734375,0.00017845630645751953,0.477294921875,0.34423828125,0.66748046875,1.1572265625,0.5419921875,0.6328125,0.08819580078125,0.03338623046875,0.6181640625,0.55029296875,1.22265625,0.36865234375,0.325927734375,-0.2279052734375,0.09002685546875,-0.39111328125,0.201904296875,0.1883544921875,1.376953125,1.2763671875,1.2763671875,0.7216796875,1.1787109375,2.0625,1.7978515625,1.2099609375,0.296630859375,1.33203125,0.62109375,0.149169921875,0.1328125,0.42529296875,0.0158538818359375,0.2890625,0.469970703125,0.7255859375,1.0263671875,1.2177734375,0.68798828125,1.3408203125,1.802734375,1.154296875,1.0205078125,0.7177734375,0.9658203125,1.0087890625,1.2763671875,1.466796875,0.70263671875,1.3203125,1.4208984375,1.2294921875,0.51171875,0.355712890625,0.0283355712890625,-0.425048828125,0.72021484375,0.64111328125,0.8720703125,-0.342529296875,0.308349609375,-0.378662109375,0.33544921875,0.410400390625,0.2099609375,0.39794921875,0.7548828125,0.73583984375,0.5966796875,0.59228515625,0.4248046875,0.470947265625,1.259765625,1.326171875,0.3935546875,0.7236328125,0.3017578125,0.89697265625,0.19873046875,1.857421875,1.70703125,1.5810546875,0.48681640625,1.365234375,0.5478515625,0.31591796875,0.413818359375,0.05645751953125,0.290771484375,0.057952880859375,0.59423828125,0.5302734375,1.017578125,1.2841796875,0.54052734375,0.61083984375,0.8251953125,0.106201171875,0.2369384765625,0.140625,0.79248046875,0.86328125,1.146484375,0.8681640625,1.01953125],\"xaxis\":\"x\",\"y\":[0.8945623246923577,0.35731504524742097,0.27718716141871425,0.5545174911259805,-0.6580561287490394,0.010246638157070276,0.09818615629997884,0.6996376833377773,-0.7635088204075566,-0.3585263369488316,0.849166713366565,-0.26661742864243987,0.4578939210198718,-0.21959838294366607,-0.291641709193768,0.3890683565998643,-0.8773880948659603,0.6546564446840286,0.0935484345443327,0.224029314522753,-0.23255940202934422,-0.19328629070873848,-0.3391525931571837,0.5857335417111671,-0.6527885123975323,-0.7074525224558545,0.8621555279806472,-0.04292643739704971,-0.630150890937289,0.20456200715986084,-0.7264351596479135,-0.8654143457487096,-0.48311075007031823,-0.8423189363823467,0.8035811657431993,-0.6421379252360582,-0.48521222332449154,-0.8023924637500846,0.26412311118038323,0.8328023342230575,0.17083991763818096,-0.8811302094595008,0.5204888675755317,-0.06991516860089053,0.010847824022468089,-0.9680298681705535,0.7266790210909664,0.6306313176176597,0.35358068101278883,0.25021838889692094,-0.8735320996392191,0.5473454598870551,-0.25233820243778227,0.2559871396863773,-0.09146499185574664,0.09883528595062652,-0.025524797259005805,0.6521852032523787,0.3078483931161724,-0.8612295226985758,-0.7489669767548144,-0.5687024468541906,0.9497688311044086,0.9960098972279587,0.6673816385291242,-0.7599875611991556,0.8244311691109159,0.7873607705705008,-0.8371111596065361,-0.886569441579327,-0.07350369787928712,-0.8429967431901575,-0.39183183090636886,-0.1697544553544823,0.5527090979954488,0.3821280638319833,-0.7980058990095578,0.997717290059994,-0.9585939669114665,-0.21603605092696498,-0.20159797382108735,-0.2137653006727973,-0.997491461044153,-0.16097429654388096,0.7961395687137649,0.5256157936236647,-0.5512806203425837,-0.5960247863445303,0.2570769639029198,-0.22302791455206727,0.8217643417278477,0.5927330138013547,0.04921146947377775,-0.8070426685214642,-0.10349116873926723,0.37730682194081333,-0.3009583768267594,0.21141914931560768,0.9267448585662201,0.5184695803343917,-0.24935535130055686,-0.6543600717302454,0.5151560013893695,-0.8120087433061554,0.4376393587302141,0.1620295912605192,-0.050169408088766465,-0.3564908002768987,-0.15479042064755033,-0.4313240206687148,0.570617422762131,-0.3480856888157491,-0.3563598139800144,-0.9714217407776224,-0.7725167940893933,-0.9421315380446209,-0.09102113786681554,-0.10669840819913712,0.550751396263552,0.7089564892897506,0.6878001650121528,-0.7449612888192887,-0.023306639205098234,-0.5728222255376969,-0.6283912358197221,0.8339081064827558,0.7691826568406841,0.3406073422474345],\"yaxis\":\"y\",\"type\":\"scatter\"},{\"hovertemplate\":\"label=0\\u003cbr\\u003eValue=%{x}\\u003cbr\\u003ey=%{y}\\u003cextra\\u003e\\u003c\\u002fextra\\u003e\",\"legendgroup\":\"0\",\"marker\":{\"color\":\"#EF553B\",\"symbol\":\"circle\"},\"mode\":\"markers\",\"name\":\"0\",\"orientation\":\"v\",\"showlegend\":true,\"x\":[-1.2861328125,-0.8525390625,-0.56787109375,-1.255859375,-2.025390625,-3.27734375,-2.671875,-2.53125,-2.431640625,-1.318359375,-2.732421875,-2.98046875,-2.302734375,-2.0546875,-2.435546875,-1.05859375,-0.70654296875,-1.505859375,-0.327392578125,-1.255859375,-1.650390625,-2.662109375,-2.521484375,-2.51953125,-1.890625,-2.328125,-1.265625,-1.693359375,-0.5791015625,-1.73046875,-0.97705078125,-0.6650390625,-2.142578125,-3.162109375,-1.123046875,-1.80078125,-1.431640625,-1.3515625,-1.841796875,-2.490234375,-1.3623046875,-0.98095703125,-1.28515625,-0.286376953125,-0.5068359375,-1.498046875,-1.318359375,-1.0166015625,-0.234619140625,-0.40576171875,-0.64453125,-1.3486328125,-0.52978515625,-0.6474609375,-0.5361328125,-1.533203125,-2.048828125,-3.03515625,-2.978515625,-2.740234375,-2.0234375,-0.712890625,-0.94873046875,-1.7373046875,-2.193359375,-2.802734375,-0.94189453125,-0.94189453125,-0.78857421875,-0.5439453125,-1.931640625,-3.060546875,-2.046875,-0.45849609375,0.08251953125,-1.4501953125,-0.488525390625,-0.64990234375,-2.064453125,-3.349609375,-2.59375,-2.435546875,-2.2578125,-2.623046875,-1.689453125,-2.318359375,-1.158203125,-0.57373046875,-0.10009765625,-1.5263671875,-0.50927734375,-0.347412109375,-0.42626953125,-1.0517578125,-1.771484375,-2.916015625,-3.16015625,-1.353515625,-1.607421875,-1.5908203125,-1.947265625,-2.17578125,-2.19921875,-1.3994140625,-0.732421875,-2.259765625,-2.6875,-1.4609375,-0.54052734375,-0.302001953125,-1.240234375,-2.05078125,-2.4921875,-2.15625,-2.0078125,-2.142578125,-1.587890625,-1.9755859375,-0.175048828125,0.0186767578125,-1.259765625,-2.119140625,-2.935546875,-2.849609375,-2.34375,-0.96826171875,-0.54052734375,-0.30126953125],\"xaxis\":\"x\",\"y\":[0.7172216912030331,-0.6826115288260839,-0.0855722839080324,0.9155587093348265,0.821482130766042,0.9679323806096378,0.9985391362970659,0.3967785553332821,0.29992217437111646,0.3518805468261883,0.8586025234656629,0.028371428449799563,-0.13854007192812023,0.4435211508103478,-0.6778302581857374,0.39125758696573887,0.6027571798049063,0.6221199758996225,0.01200580996933076,0.36642987430613094,0.6985236718035195,0.02208000944549804,-0.9062722154181022,-0.9062841938011863,0.7279295593842949,0.9958513345375573,-0.18041737247459255,-0.5784286589156034,0.6683321792661314,0.11561641587059501,-0.24618720388127668,0.13174191337951013,0.9207436028785412,-0.9657502255176855,-0.599666991774443,-0.012647621834061207,-0.9821501025745187,0.7027744415320902,-0.11666870660648065,0.2990792269876106,0.681156366224607,-0.6260775087151638,-0.6718258388019864,-0.9304418554170026,-0.5786156615766305,-0.4020979811716918,0.5987059497765794,-0.8160760862874434,-0.6255097680949373,0.393413704348595,-0.6925376014955162,0.8153077491787575,0.14568206311427412,-0.8054302241776963,0.06963303444124969,-0.7465124334900675,0.08438980548180641,0.19867545926042784,0.5593159574299902,0.036447868682684126,0.8290007401413511,-0.19846243744082814,0.456457164328937,-0.42684872778981675,0.43758197278212174,-0.09955623383483614,0.34745957826745744,-0.9491703506257514,0.9014628859976643,0.6078806584319998,-0.37472822698590713,-0.04996935013688675,-0.9120642030926813,-0.13020483562155816,0.012814357022741474,0.8372516467704543,0.8131029826743847,0.35240448646262745,0.026089934707796303,-0.6055941942473235,0.30369888031286707,0.044531641147404155,0.3666361535783267,0.7729345686138998,-0.6665435363097145,-0.8040576663843104,0.9107447702767018,0.4949396429705182,0.48998198698447193,-0.865067756083622,0.9934237771501708,-0.6022813193792871,0.5284284594876956,0.5600736322849942,0.7326402817541304,-0.7155926540853155,-0.4763579358969192,-0.4954762351269071,-0.8292749463346993,0.45843063612773216,0.8898685829877508,-0.39507354736018474,0.6560680570885893,-0.3167004036385235,0.3045266291545441,-0.7216201259725332,-0.9866352760723711,0.8036345486935144,-0.1521325986060733,0.6900448948797238,-0.38147490623698177,0.573931247978037,0.519206829705166,-0.9719571487852658,0.46909627316545777,-0.20528448557188428,0.7766465566044509,0.6524291385562784,-0.1115450305227772,-0.7783208751493873,0.9863073618895857,-0.8703582224952346,-0.35983373283772924,0.41446590192711374,0.27249385140387083,0.08900207735115684,-0.3922622139941516,-0.5580130862322463],\"yaxis\":\"y\",\"type\":\"scatter\"}],                        {\"template\":{\"data\":{\"histogram2dcontour\":[{\"type\":\"histogram2dcontour\",\"colorbar\":{\"outlinewidth\":0,\"ticks\":\"\"},\"colorscale\":[[0.0,\"#0d0887\"],[0.1111111111111111,\"#46039f\"],[0.2222222222222222,\"#7201a8\"],[0.3333333333333333,\"#9c179e\"],[0.4444444444444444,\"#bd3786\"],[0.5555555555555556,\"#d8576b\"],[0.6666666666666666,\"#ed7953\"],[0.7777777777777778,\"#fb9f3a\"],[0.8888888888888888,\"#fdca26\"],[1.0,\"#f0f921\"]]}],\"choropleth\":[{\"type\":\"choropleth\",\"colorbar\":{\"outlinewidth\":0,\"ticks\":\"\"}}],\"histogram2d\":[{\"type\":\"histogram2d\",\"colorbar\":{\"outlinewidth\":0,\"ticks\":\"\"},\"colorscale\":[[0.0,\"#0d0887\"],[0.1111111111111111,\"#46039f\"],[0.2222222222222222,\"#7201a8\"],[0.3333333333333333,\"#9c179e\"],[0.4444444444444444,\"#bd3786\"],[0.5555555555555556,\"#d8576b\"],[0.6666666666666666,\"#ed7953\"],[0.7777777777777778,\"#fb9f3a\"],[0.8888888888888888,\"#fdca26\"],[1.0,\"#f0f921\"]]}],\"heatmap\":[{\"type\":\"heatmap\",\"colorbar\":{\"outlinewidth\":0,\"ticks\":\"\"},\"colorscale\":[[0.0,\"#0d0887\"],[0.1111111111111111,\"#46039f\"],[0.2222222222222222,\"#7201a8\"],[0.3333333333333333,\"#9c179e\"],[0.4444444444444444,\"#bd3786\"],[0.5555555555555556,\"#d8576b\"],[0.6666666666666666,\"#ed7953\"],[0.7777777777777778,\"#fb9f3a\"],[0.8888888888888888,\"#fdca26\"],[1.0,\"#f0f921\"]]}],\"heatmapgl\":[{\"type\":\"heatmapgl\",\"colorbar\":{\"outlinewidth\":0,\"ticks\":\"\"},\"colorscale\":[[0.0,\"#0d0887\"],[0.1111111111111111,\"#46039f\"],[0.2222222222222222,\"#7201a8\"],[0.3333333333333333,\"#9c179e\"],[0.4444444444444444,\"#bd3786\"],[0.5555555555555556,\"#d8576b\"],[0.6666666666666666,\"#ed7953\"],[0.7777777777777778,\"#fb9f3a\"],[0.8888888888888888,\"#fdca26\"],[1.0,\"#f0f921\"]]}],\"contourcarpet\":[{\"type\":\"contourcarpet\",\"colorbar\":{\"outlinewidth\":0,\"ticks\":\"\"}}],\"contour\":[{\"type\":\"contour\",\"colorbar\":{\"outlinewidth\":0,\"ticks\":\"\"},\"colorscale\":[[0.0,\"#0d0887\"],[0.1111111111111111,\"#46039f\"],[0.2222222222222222,\"#7201a8\"],[0.3333333333333333,\"#9c179e\"],[0.4444444444444444,\"#bd3786\"],[0.5555555555555556,\"#d8576b\"],[0.6666666666666666,\"#ed7953\"],[0.7777777777777778,\"#fb9f3a\"],[0.8888888888888888,\"#fdca26\"],[1.0,\"#f0f921\"]]}],\"surface\":[{\"type\":\"surface\",\"colorbar\":{\"outlinewidth\":0,\"ticks\":\"\"},\"colorscale\":[[0.0,\"#0d0887\"],[0.1111111111111111,\"#46039f\"],[0.2222222222222222,\"#7201a8\"],[0.3333333333333333,\"#9c179e\"],[0.4444444444444444,\"#bd3786\"],[0.5555555555555556,\"#d8576b\"],[0.6666666666666666,\"#ed7953\"],[0.7777777777777778,\"#fb9f3a\"],[0.8888888888888888,\"#fdca26\"],[1.0,\"#f0f921\"]]}],\"mesh3d\":[{\"type\":\"mesh3d\",\"colorbar\":{\"outlinewidth\":0,\"ticks\":\"\"}}],\"scatter\":[{\"fillpattern\":{\"fillmode\":\"overlay\",\"size\":10,\"solidity\":0.2},\"type\":\"scatter\"}],\"parcoords\":[{\"type\":\"parcoords\",\"line\":{\"colorbar\":{\"outlinewidth\":0,\"ticks\":\"\"}}}],\"scatterpolargl\":[{\"type\":\"scatterpolargl\",\"marker\":{\"colorbar\":{\"outlinewidth\":0,\"ticks\":\"\"}}}],\"bar\":[{\"error_x\":{\"color\":\"#2a3f5f\"},\"error_y\":{\"color\":\"#2a3f5f\"},\"marker\":{\"line\":{\"color\":\"#E5ECF6\",\"width\":0.5},\"pattern\":{\"fillmode\":\"overlay\",\"size\":10,\"solidity\":0.2}},\"type\":\"bar\"}],\"scattergeo\":[{\"type\":\"scattergeo\",\"marker\":{\"colorbar\":{\"outlinewidth\":0,\"ticks\":\"\"}}}],\"scatterpolar\":[{\"type\":\"scatterpolar\",\"marker\":{\"colorbar\":{\"outlinewidth\":0,\"ticks\":\"\"}}}],\"histogram\":[{\"marker\":{\"pattern\":{\"fillmode\":\"overlay\",\"size\":10,\"solidity\":0.2}},\"type\":\"histogram\"}],\"scattergl\":[{\"type\":\"scattergl\",\"marker\":{\"colorbar\":{\"outlinewidth\":0,\"ticks\":\"\"}}}],\"scatter3d\":[{\"type\":\"scatter3d\",\"line\":{\"colorbar\":{\"outlinewidth\":0,\"ticks\":\"\"}},\"marker\":{\"colorbar\":{\"outlinewidth\":0,\"ticks\":\"\"}}}],\"scattermapbox\":[{\"type\":\"scattermapbox\",\"marker\":{\"colorbar\":{\"outlinewidth\":0,\"ticks\":\"\"}}}],\"scatterternary\":[{\"type\":\"scatterternary\",\"marker\":{\"colorbar\":{\"outlinewidth\":0,\"ticks\":\"\"}}}],\"scattercarpet\":[{\"type\":\"scattercarpet\",\"marker\":{\"colorbar\":{\"outlinewidth\":0,\"ticks\":\"\"}}}],\"carpet\":[{\"aaxis\":{\"endlinecolor\":\"#2a3f5f\",\"gridcolor\":\"white\",\"linecolor\":\"white\",\"minorgridcolor\":\"white\",\"startlinecolor\":\"#2a3f5f\"},\"baxis\":{\"endlinecolor\":\"#2a3f5f\",\"gridcolor\":\"white\",\"linecolor\":\"white\",\"minorgridcolor\":\"white\",\"startlinecolor\":\"#2a3f5f\"},\"type\":\"carpet\"}],\"table\":[{\"cells\":{\"fill\":{\"color\":\"#EBF0F8\"},\"line\":{\"color\":\"white\"}},\"header\":{\"fill\":{\"color\":\"#C8D4E3\"},\"line\":{\"color\":\"white\"}},\"type\":\"table\"}],\"barpolar\":[{\"marker\":{\"line\":{\"color\":\"#E5ECF6\",\"width\":0.5},\"pattern\":{\"fillmode\":\"overlay\",\"size\":10,\"solidity\":0.2}},\"type\":\"barpolar\"}],\"pie\":[{\"automargin\":true,\"type\":\"pie\"}]},\"layout\":{\"autotypenumbers\":\"strict\",\"colorway\":[\"#636efa\",\"#EF553B\",\"#00cc96\",\"#ab63fa\",\"#FFA15A\",\"#19d3f3\",\"#FF6692\",\"#B6E880\",\"#FF97FF\",\"#FECB52\"],\"font\":{\"color\":\"#2a3f5f\"},\"hovermode\":\"closest\",\"hoverlabel\":{\"align\":\"left\"},\"paper_bgcolor\":\"white\",\"plot_bgcolor\":\"#E5ECF6\",\"polar\":{\"bgcolor\":\"#E5ECF6\",\"angularaxis\":{\"gridcolor\":\"white\",\"linecolor\":\"white\",\"ticks\":\"\"},\"radialaxis\":{\"gridcolor\":\"white\",\"linecolor\":\"white\",\"ticks\":\"\"}},\"ternary\":{\"bgcolor\":\"#E5ECF6\",\"aaxis\":{\"gridcolor\":\"white\",\"linecolor\":\"white\",\"ticks\":\"\"},\"baxis\":{\"gridcolor\":\"white\",\"linecolor\":\"white\",\"ticks\":\"\"},\"caxis\":{\"gridcolor\":\"white\",\"linecolor\":\"white\",\"ticks\":\"\"}},\"coloraxis\":{\"colorbar\":{\"outlinewidth\":0,\"ticks\":\"\"}},\"colorscale\":{\"sequential\":[[0.0,\"#0d0887\"],[0.1111111111111111,\"#46039f\"],[0.2222222222222222,\"#7201a8\"],[0.3333333333333333,\"#9c179e\"],[0.4444444444444444,\"#bd3786\"],[0.5555555555555556,\"#d8576b\"],[0.6666666666666666,\"#ed7953\"],[0.7777777777777778,\"#fb9f3a\"],[0.8888888888888888,\"#fdca26\"],[1.0,\"#f0f921\"]],\"sequentialminus\":[[0.0,\"#0d0887\"],[0.1111111111111111,\"#46039f\"],[0.2222222222222222,\"#7201a8\"],[0.3333333333333333,\"#9c179e\"],[0.4444444444444444,\"#bd3786\"],[0.5555555555555556,\"#d8576b\"],[0.6666666666666666,\"#ed7953\"],[0.7777777777777778,\"#fb9f3a\"],[0.8888888888888888,\"#fdca26\"],[1.0,\"#f0f921\"]],\"diverging\":[[0,\"#8e0152\"],[0.1,\"#c51b7d\"],[0.2,\"#de77ae\"],[0.3,\"#f1b6da\"],[0.4,\"#fde0ef\"],[0.5,\"#f7f7f7\"],[0.6,\"#e6f5d0\"],[0.7,\"#b8e186\"],[0.8,\"#7fbc41\"],[0.9,\"#4d9221\"],[1,\"#276419\"]]},\"xaxis\":{\"gridcolor\":\"white\",\"linecolor\":\"white\",\"ticks\":\"\",\"title\":{\"standoff\":15},\"zerolinecolor\":\"white\",\"automargin\":true,\"zerolinewidth\":2},\"yaxis\":{\"gridcolor\":\"white\",\"linecolor\":\"white\",\"ticks\":\"\",\"title\":{\"standoff\":15},\"zerolinecolor\":\"white\",\"automargin\":true,\"zerolinewidth\":2},\"scene\":{\"xaxis\":{\"backgroundcolor\":\"#E5ECF6\",\"gridcolor\":\"white\",\"linecolor\":\"white\",\"showbackground\":true,\"ticks\":\"\",\"zerolinecolor\":\"white\",\"gridwidth\":2},\"yaxis\":{\"backgroundcolor\":\"#E5ECF6\",\"gridcolor\":\"white\",\"linecolor\":\"white\",\"showbackground\":true,\"ticks\":\"\",\"zerolinecolor\":\"white\",\"gridwidth\":2},\"zaxis\":{\"backgroundcolor\":\"#E5ECF6\",\"gridcolor\":\"white\",\"linecolor\":\"white\",\"showbackground\":true,\"ticks\":\"\",\"zerolinecolor\":\"white\",\"gridwidth\":2}},\"shapedefaults\":{\"line\":{\"color\":\"#2a3f5f\"}},\"annotationdefaults\":{\"arrowcolor\":\"#2a3f5f\",\"arrowhead\":0,\"arrowwidth\":1},\"geo\":{\"bgcolor\":\"white\",\"landcolor\":\"#E5ECF6\",\"subunitcolor\":\"white\",\"showland\":true,\"showlakes\":true,\"lakecolor\":\"white\"},\"title\":{\"x\":0.05},\"mapbox\":{\"style\":\"light\"}}},\"xaxis\":{\"anchor\":\"y\",\"domain\":[0.0,1.0],\"title\":{\"text\":\"Value\"},\"showgrid\":false},\"yaxis\":{\"anchor\":\"x\",\"domain\":[0.0,1.0],\"title\":{\"text\":\"y\"},\"showgrid\":false,\"zeroline\":true,\"zerolinecolor\":\"black\",\"zerolinewidth\":3,\"showticklabels\":false},\"legend\":{\"title\":{\"text\":\"label\"},\"tracegroupgap\":0},\"margin\":{\"t\":60},\"height\":200,\"plot_bgcolor\":\"white\"},                        {\"responsive\": true}                    ).then(function(){\n",
       "                            \n",
       "var gd = document.getElementById('4b05479a-e73c-4208-9d16-f5f4dc058fa2');\n",
       "var x = new MutationObserver(function (mutations, observer) {{\n",
       "        var display = window.getComputedStyle(gd).display;\n",
       "        if (!display || display === 'none') {{\n",
       "            console.log([gd, 'removed!']);\n",
       "            Plotly.purge(gd);\n",
       "            observer.disconnect();\n",
       "        }}\n",
       "}});\n",
       "\n",
       "// Listen for the removal of the full notebook cells\n",
       "var notebookContainer = gd.closest('#notebook-container');\n",
       "if (notebookContainer) {{\n",
       "    x.observe(notebookContainer, {childList: true});\n",
       "}}\n",
       "\n",
       "// Listen for the clearing of the current output cell\n",
       "var outputEl = gd.closest('.output');\n",
       "if (outputEl) {{\n",
       "    x.observe(outputEl, {childList: true});\n",
       "}}\n",
       "\n",
       "                        })                };                });            </script>        </div>"
      ]
     },
     "metadata": {},
     "output_type": "display_data"
    }
   ],
   "source": [
    "# Visualize the projections\n",
    "\n",
    "from lmdoctor import plot_utils, detection_utils\n",
    "proj_pairs = detection_utils.act_pairs_to_projs(doc.train_acts, doc.direction_info, len(doc.statement_pairs['train']))\n",
    "\n",
    "layer = 15\n",
    "projs_true = proj_pairs[0, :, layer]\n",
    "projs_lie = proj_pairs[1, :, layer]\n",
    "plot_utils.plot_projs_on_numberline(projs_true, projs_lie)"
   ]
  },
  {
   "cell_type": "code",
   "execution_count": 143,
   "id": "5d44b91e-8436-42f8-82ec-d8c911255bd0",
   "metadata": {},
   "outputs": [
    {
     "data": {
      "application/vnd.plotly.v1+json": {
       "config": {
        "plotlyServerURL": "https://plot.ly"
       },
       "data": [
        {
         "coloraxis": "coloraxis",
         "hovertemplate": "Token: %{x}<br>y: %{y}<br>color: %{z}<extra></extra>",
         "name": "0",
         "type": "heatmap",
         "xaxis": "x",
         "yaxis": "y",
         "z": [
          [
           0.01045989990234375,
           -0.148681640625,
           -0.041290283203125,
           -0.0638427734375,
           -0.0673828125,
           -0.065673828125,
           -0.093505859375,
           -0.0011186599731445312,
           0.029052734375,
           -0.06890869140625,
           -0.09735107421875,
           -0.1348876953125,
           -0.01666259765625,
           -0.0267181396484375,
           0.01438140869140625,
           -0.1961669921875,
           0.0199127197265625,
           -0.0821533203125,
           -0.0986328125,
           -0.06842041015625,
           -0.0343017578125,
           -0.07208251953125,
           -0.118408203125,
           -0.0011148452758789062,
           0.027923583984375,
           -0.06939697265625,
           -0.09698486328125,
           -0.1336669921875,
           -0.0170135498046875,
           -0.027740478515625,
           0.01404571533203125
          ],
          [
           -96.9375,
           -0.80029296875,
           -0.10491943359375,
           -0.1751708984375,
           -0.177978515625,
           -0.1038818359375,
           -0.148193359375,
           -0.071533203125,
           -0.02410888671875,
           -0.138427734375,
           -0.174072265625,
           -0.197265625,
           0.0092926025390625,
           0.07891845703125,
           0.06915283203125,
           -0.307861328125,
           0.007793426513671875,
           -0.2308349609375,
           -0.2142333984375,
           -0.17333984375,
           -0.1351318359375,
           -0.2135009765625,
           -0.28662109375,
           -0.07513427734375,
           -0.03387451171875,
           -0.143310546875,
           -0.178466796875,
           -0.2252197265625,
           0.00725555419921875,
           0.0745849609375,
           0.06829833984375
          ],
          [
           -54.03125,
           -0.63232421875,
           -0.1151123046875,
           -0.08868408203125,
           -0.2138671875,
           -0.11932373046875,
           -0.133544921875,
           -0.039794921875,
           0.02532958984375,
           -0.07537841796875,
           -0.1522216796875,
           -0.294189453125,
           0.00812530517578125,
           0.079345703125,
           0.084228515625,
           -0.388671875,
           0.035614013671875,
           -0.173828125,
           -0.2069091796875,
           -0.189453125,
           -0.146484375,
           -0.258544921875,
           -0.3203125,
           -0.0751953125,
           0.017181396484375,
           -0.10247802734375,
           -0.1668701171875,
           -0.403564453125,
           -0.059295654296875,
           0.031402587890625,
           0.09918212890625
          ],
          [
           -77.0625,
           -1.048828125,
           -0.1893310546875,
           -0.2100830078125,
           -0.368896484375,
           -0.276123046875,
           -0.31396484375,
           -0.1202392578125,
           -0.083251953125,
           -0.142333984375,
           -0.27392578125,
           -0.32958984375,
           0.05316162109375,
           0.093994140625,
           0.07879638671875,
           -0.52490234375,
           -0.016204833984375,
           -0.384033203125,
           -0.31591796875,
           -0.26708984375,
           -0.283203125,
           -0.485595703125,
           -0.62939453125,
           -0.1578369140625,
           -0.0726318359375,
           -0.21142578125,
           -0.304443359375,
           -0.445556640625,
           0.005748748779296875,
           0.062164306640625,
           0.08966064453125
          ],
          [
           3.009765625,
           -0.134765625,
           0.006389617919921875,
           0.05352783203125,
           -0.048858642578125,
           -0.08709716796875,
           -0.11663818359375,
           0.03070068359375,
           0.1396484375,
           0.0965576171875,
           -0.03704833984375,
           -0.298828125,
           -0.06121826171875,
           -0.007419586181640625,
           0.0252227783203125,
           -0.36474609375,
           0.072998046875,
           -0.08453369140625,
           -0.08612060546875,
           -0.07373046875,
           -0.06256103515625,
           -0.0672607421875,
           -0.234375,
           -0.04156494140625,
           0.05938720703125,
           0.0185699462890625,
           -0.1304931640625,
           -0.459716796875,
           -0.2161865234375,
           -0.1143798828125,
           0.01328277587890625
          ],
          [
           -1.87109375,
           -0.12335205078125,
           0.1046142578125,
           0.09136962890625,
           0.004566192626953125,
           -0.0311431884765625,
           -0.0467529296875,
           0.035919189453125,
           0.2362060546875,
           0.1640625,
           0.048004150390625,
           -0.26416015625,
           -0.08026123046875,
           -0.09344482421875,
           -0.08514404296875,
           -0.3955078125,
           0.036224365234375,
           -0.047454833984375,
           -0.031524658203125,
           -0.0784912109375,
           -0.0308837890625,
           -0.014190673828125,
           -0.1959228515625,
           -0.03582763671875,
           0.0953369140625,
           0.06182861328125,
           -0.11578369140625,
           -0.5244140625,
           -0.300537109375,
           -0.19677734375,
           -0.11712646484375
          ],
          [
           1.732421875,
           0.0025501251220703125,
           0.113037109375,
           0.06036376953125,
           0.01245880126953125,
           -0.02783203125,
           -0.072265625,
           -0.01142120361328125,
           0.263671875,
           0.1807861328125,
           0.07171630859375,
           -0.3173828125,
           -0.211181640625,
           -0.336181640625,
           -0.1561279296875,
           -0.51025390625,
           0.040802001953125,
           -0.030792236328125,
           0.00214385986328125,
           -0.07659912109375,
           -0.024444580078125,
           0.004302978515625,
           -0.17041015625,
           -0.07098388671875,
           0.055267333984375,
           0.05230712890625,
           -0.149658203125,
           -0.6240234375,
           -0.55859375,
           -0.355712890625,
           -0.0916748046875
          ],
          [
           4.59765625,
           -0.2236328125,
           -0.06524658203125,
           -0.1485595703125,
           -0.1763916015625,
           -0.2076416015625,
           -0.2646484375,
           -0.2059326171875,
           0.08441162109375,
           -0.00505828857421875,
           -0.12310791015625,
           -0.49560546875,
           -0.427978515625,
           -0.61279296875,
           -0.4990234375,
           -0.74951171875,
           -0.2352294921875,
           -0.225830078125,
           -0.1864013671875,
           -0.2481689453125,
           -0.2279052734375,
           -0.1790771484375,
           -0.389892578125,
           -0.37548828125,
           -0.2763671875,
           -0.2159423828125,
           -0.436767578125,
           -1.0263671875,
           -1.005859375,
           -0.78076171875,
           -0.4912109375
          ],
          [
           0.2320556640625,
           -0.1788330078125,
           0.06317138671875,
           -0.024383544921875,
           -0.0151214599609375,
           -0.045501708984375,
           -0.15478515625,
           -0.09942626953125,
           0.1851806640625,
           0.096923828125,
           0.0127105712890625,
           -0.33544921875,
           -0.335205078125,
           -0.64404296875,
           -0.58984375,
           -0.70166015625,
           -0.287841796875,
           -0.2132568359375,
           -0.12469482421875,
           -0.2322998046875,
           -0.1605224609375,
           -0.107666015625,
           -0.34033203125,
           -0.304443359375,
           -0.255615234375,
           -0.146728515625,
           -0.3291015625,
           -0.9072265625,
           -0.88134765625,
           -0.763671875,
           -0.54345703125
          ],
          [
           8.3515625,
           0.258056640625,
           0.144287109375,
           0.105224609375,
           0.04998779296875,
           -0.05450439453125,
           -0.1275634765625,
           -0.0911865234375,
           0.181396484375,
           0.00930023193359375,
           -0.0323486328125,
           -0.390625,
           -0.373046875,
           -0.78564453125,
           -0.8564453125,
           -0.83154296875,
           -0.41162109375,
           -0.354248046875,
           -0.1536865234375,
           -0.2181396484375,
           -0.091064453125,
           -0.1121826171875,
           -0.3056640625,
           -0.39306640625,
           -0.299560546875,
           -0.1885986328125,
           -0.4990234375,
           -1.4248046875,
           -1.2080078125,
           -1.015625,
           -0.87841796875
          ],
          [
           -3.005859375,
           -0.263916015625,
           0.0679931640625,
           -0.062255859375,
           -0.093994140625,
           -0.151123046875,
           -0.258056640625,
           -0.1881103515625,
           0.11712646484375,
           -0.07379150390625,
           -0.107421875,
           -0.49951171875,
           -0.53515625,
           -0.94482421875,
           -0.93896484375,
           -1.037109375,
           -0.48583984375,
           -0.48876953125,
           -0.2802734375,
           -0.415771484375,
           -0.28173828125,
           -0.262451171875,
           -0.402587890625,
           -0.35986328125,
           -0.27685546875,
           -0.228271484375,
           -0.66259765625,
           -1.5830078125,
           -1.349609375,
           -1.201171875,
           -1.0703125
          ],
          [
           2.173828125,
           0.0034942626953125,
           0.03436279296875,
           -0.0021533966064453125,
           -0.1312255859375,
           -0.2437744140625,
           -0.342041015625,
           -0.272705078125,
           0.043487548828125,
           -0.21484375,
           -0.2332763671875,
           -0.59375,
           -0.61962890625,
           -1.02734375,
           -1.14453125,
           -1.3427734375,
           -0.68310546875,
           -0.6767578125,
           -0.462158203125,
           -0.6884765625,
           -0.468994140625,
           -0.41748046875,
           -0.5126953125,
           -0.32666015625,
           -0.250732421875,
           -0.27001953125,
           -0.873046875,
           -2.029296875,
           -1.408203125,
           -1.357421875,
           -1.2998046875
          ],
          [
           11.5625,
           0.54345703125,
           0.10748291015625,
           0.1776123046875,
           0.0163726806640625,
           -0.10247802734375,
           -0.260009765625,
           -0.2132568359375,
           0.1776123046875,
           -0.13671875,
           -0.11163330078125,
           -0.4501953125,
           -0.65087890625,
           -1.0859375,
           -1.2001953125,
           -1.2724609375,
           -0.576171875,
           -0.425537109375,
           -0.330322265625,
           -0.57470703125,
           -0.314453125,
           -0.2154541015625,
           -0.3291015625,
           -0.295166015625,
           -0.09954833984375,
           -0.2242431640625,
           -0.814453125,
           -2.1328125,
           -1.853515625,
           -1.734375,
           -1.5107421875
          ],
          [
           5.47265625,
           0.1121826171875,
           -0.06072998046875,
           -0.0592041015625,
           -0.2432861328125,
           -0.322509765625,
           -0.5224609375,
           -0.472412109375,
           -0.036468505859375,
           -0.332763671875,
           -0.33935546875,
           -0.66943359375,
           -0.84619140625,
           -1.2822265625,
           -1.435546875,
           -1.673828125,
           -0.82861328125,
           -0.666015625,
           -0.59033203125,
           -0.84814453125,
           -0.669921875,
           -0.50927734375,
           -0.65087890625,
           -0.458984375,
           -0.362060546875,
           -0.57373046875,
           -1.0830078125,
           -2.3828125,
           -2.0703125,
           -1.94921875,
           -1.7587890625
          ],
          [
           26,
           0.99853515625,
           -0.2255859375,
           0.156982421875,
           -0.25927734375,
           -0.45068359375,
           -0.62109375,
           -0.69970703125,
           -0.0738525390625,
           -0.429931640625,
           -0.49755859375,
           -0.9365234375,
           -1.0283203125,
           -1.5400390625,
           -1.7578125,
           -2.060546875,
           -1.0673828125,
           -1.162109375,
           -0.9443359375,
           -1.3564453125,
           -1.2236328125,
           -0.95068359375,
           -1.1005859375,
           -0.85546875,
           -0.603515625,
           -1.203125,
           -1.7685546875,
           -3.052734375,
           -2.615234375,
           -2.44140625,
           -2.109375
          ],
          [
           3.796875,
           -0.0343017578125,
           -0.311767578125,
           -0.1846923828125,
           -0.44384765625,
           -0.5400390625,
           -0.80419921875,
           -0.72607421875,
           -0.1383056640625,
           -0.472900390625,
           -0.473876953125,
           -0.90234375,
           -1.1083984375,
           -1.5703125,
           -1.900390625,
           -2.099609375,
           -1.3955078125,
           -1.6396484375,
           -1.1044921875,
           -1.3388671875,
           -1.3349609375,
           -1.287109375,
           -1.28515625,
           -0.8505859375,
           -0.56640625,
           -1.25390625,
           -2.021484375,
           -3.275390625,
           -2.669921875,
           -2.529296875,
           -2.435546875
          ],
          [
           6.87890625,
           0.0052032470703125,
           -0.48193359375,
           -0.26513671875,
           -0.640625,
           -0.80029296875,
           -1.041015625,
           -0.900390625,
           -0.251220703125,
           -0.71044921875,
           -0.76416015625,
           -1.1904296875,
           -1.3427734375,
           -1.7861328125,
           -2.12890625,
           -2.3359375,
           -1.669921875,
           -2.083984375,
           -1.4306640625,
           -1.603515625,
           -2.115234375,
           -2.1484375,
           -1.9560546875,
           -1.1396484375,
           -1.0146484375,
           -2.041015625,
           -2.72265625,
           -3.876953125,
           -2.994140625,
           -2.783203125,
           -2.61328125
          ],
          [
           5.93359375,
           -0.0263519287109375,
           -0.347412109375,
           -0.2132568359375,
           -0.7509765625,
           -0.91552734375,
           -1.177734375,
           -1.025390625,
           -0.276123046875,
           -0.62158203125,
           -0.70849609375,
           -1.193359375,
           -1.51171875,
           -2.015625,
           -2.396484375,
           -2.380859375,
           -1.72265625,
           -2.125,
           -1.2236328125,
           -1.302734375,
           -2.10546875,
           -2.240234375,
           -2.23828125,
           -1.20703125,
           -0.9580078125,
           -2.201171875,
           -3.232421875,
           -4.0625,
           -3.177734375,
           -2.916015625,
           -2.908203125
          ],
          [
           -0.64453125,
           -0.10284423828125,
           0.25537109375,
           -0.25439453125,
           -0.57568359375,
           -0.619140625,
           -0.93505859375,
           -0.71533203125,
           0.2310791015625,
           -0.1912841796875,
           -0.295654296875,
           -0.77880859375,
           -0.93798828125,
           -1.505859375,
           -1.9287109375,
           -2.13671875,
           -1.4013671875,
           -2.34765625,
           -1.0078125,
           -1.1279296875,
           -2.365234375,
           -2.431640625,
           -2.623046875,
           -1.0771484375,
           -0.78076171875,
           -2.7890625,
           -4.58984375,
           -4.6640625,
           -3.03515625,
           -2.439453125,
           -2.490234375
          ],
          [
           -2.548828125,
           -2.517578125,
           -0.9228515625,
           -5.8203125,
           -1.8134765625,
           -1.763671875,
           -2.19921875,
           -1.9560546875,
           -0.7734375,
           -1.4697265625,
           -1.5830078125,
           -1.62109375,
           -1.5498046875,
           -2.314453125,
           -3.16796875,
           -3.2421875,
           -2.451171875,
           -3.921875,
           -2.181640625,
           -2.390625,
           -4.1640625,
           -4.390625,
           -4.703125,
           -2.703125,
           -2.302734375,
           -4.734375,
           -6.41796875,
           -5.6640625,
           -3.93359375,
           -3.322265625,
           -3.751953125
          ],
          [
           3.15234375,
           -2.212890625,
           -0.83544921875,
           -5.02734375,
           -1.638671875,
           -1.828125,
           -2.205078125,
           -2.033203125,
           -0.60107421875,
           -1.4208984375,
           -1.501953125,
           -1.68359375,
           -1.671875,
           -2.50390625,
           -3.341796875,
           -3.376953125,
           -2.736328125,
           -4.41796875,
           -2.306640625,
           -2.39453125,
           -4.20703125,
           -4.6328125,
           -5.6015625,
           -3.279296875,
           -2.48046875,
           -5.1796875,
           -7.1171875,
           -6.703125,
           -4.38671875,
           -3.533203125,
           -4.01171875
          ],
          [
           -19.71875,
           -7.85546875,
           -2.259765625,
           -14.3125,
           -3.1640625,
           -3.2578125,
           -3.689453125,
           -3.3359375,
           -1.490234375,
           -2.75,
           -2.630859375,
           -2.423828125,
           -2.015625,
           -2.849609375,
           -3.990234375,
           -4.54296875,
           -3.08984375,
           -4.76171875,
           -2.625,
           -2.8046875,
           -4.55859375,
           -5.03125,
           -6.16796875,
           -3.6640625,
           -2.73046875,
           -5.4921875,
           -7.32421875,
           -7.046875,
           -4.54296875,
           -3.775390625,
           -4.21484375
          ],
          [
           -33.28125,
           -10.7578125,
           -2.9140625,
           -19.125,
           -4.00390625,
           -3.703125,
           -4.35546875,
           -3.71875,
           -1.6640625,
           -3.142578125,
           -3.033203125,
           -2.74609375,
           -2.119140625,
           -3.0859375,
           -4.5703125,
           -5.15234375,
           -3.068359375,
           -4.83203125,
           -2.470703125,
           -2.7265625,
           -4.47265625,
           -4.69921875,
           -5.95703125,
           -3.43359375,
           -2.48046875,
           -5.69921875,
           -7.71875,
           -7.4765625,
           -4.81640625,
           -4.1328125,
           -4.5703125
          ],
          [
           -48.71875,
           -15.8671875,
           -5.10546875,
           -27,
           -6.41015625,
           -6.03515625,
           -6.6484375,
           -6.09765625,
           -3.306640625,
           -5.81640625,
           -5.75,
           -4.484375,
           -3.236328125,
           -4.50390625,
           -6.79296875,
           -7.3359375,
           -4.109375,
           -5.87109375,
           -3.87109375,
           -4.11328125,
           -5.5078125,
           -5.23046875,
           -6.8828125,
           -4.484375,
           -2.849609375,
           -6.45703125,
           -8.2265625,
           -7.88671875,
           -4.890625,
           -4.80859375,
           -5.24609375
          ],
          [
           -61.84375,
           -18.640625,
           -5.40625,
           -32.1875,
           -6.85546875,
           -6.66015625,
           -7.12109375,
           -6.4765625,
           -3.181640625,
           -6.29296875,
           -6.2265625,
           -4.39453125,
           -2.95703125,
           -4.54296875,
           -7.296875,
           -7.640625,
           -3.296875,
           -5.55859375,
           -3.525390625,
           -3.9296875,
           -5.16796875,
           -4.453125,
           -6.94921875,
           -4.25,
           -2.12109375,
           -5.9375,
           -7.7265625,
           -7.3828125,
           -4.2109375,
           -4.43359375,
           -4.625
          ],
          [
           -62.875,
           -20.140625,
           -6.52734375,
           -34.1875,
           -8.28125,
           -8.21875,
           -8.5390625,
           -7.99609375,
           -4.7109375,
           -7.77734375,
           -7.8046875,
           -5.46484375,
           -4.01953125,
           -5.70703125,
           -9.3046875,
           -9.21875,
           -5.0625,
           -6.9609375,
           -4.40234375,
           -4.69921875,
           -6.63671875,
           -5.6953125,
           -8.7109375,
           -5.828125,
           -3.587890625,
           -7.40234375,
           -9.5546875,
           -8.28125,
           -5.12109375,
           -5.5390625,
           -6.65625
          ],
          [
           -69.4375,
           -23.078125,
           -8.15625,
           -38.34375,
           -9.796875,
           -9.7734375,
           -10,
           -9.875,
           -6.3515625,
           -9.9609375,
           -9.828125,
           -6.625,
           -5.9609375,
           -7.75390625,
           -11.3828125,
           -10.9296875,
           -6.51953125,
           -8.78125,
           -5.453125,
           -5.62109375,
           -8.2890625,
           -7.265625,
           -10.328125,
           -7.67578125,
           -4.765625,
           -9.7734375,
           -12.3671875,
           -9.515625,
           -7.296875,
           -7.6484375,
           -8.1640625
          ],
          [
           -67.625,
           -22.828125,
           -8.2578125,
           -37.90625,
           -10.2578125,
           -10.2578125,
           -10.3515625,
           -10.59375,
           -6.95703125,
           -10.8359375,
           -10.6015625,
           -6.51171875,
           -6.7421875,
           -8.4453125,
           -12.2734375,
           -10.640625,
           -6.78515625,
           -9.3359375,
           -5.5390625,
           -5.0625,
           -8,
           -7.12890625,
           -10.5078125,
           -8.015625,
           -4.46484375,
           -10.1875,
           -13.1640625,
           -9.53125,
           -8.09375,
           -7.80078125,
           -8.4140625
          ],
          [
           -49.6875,
           -20.6875,
           -8.6015625,
           -35.09375,
           -10.6328125,
           -11.1328125,
           -11.609375,
           -11.921875,
           -8.2265625,
           -12.4296875,
           -11.8515625,
           -5.828125,
           -7.0078125,
           -8.453125,
           -13.59375,
           -10.265625,
           -7.109375,
           -9.34375,
           -5.90625,
           -5.0703125,
           -8.4921875,
           -7.6484375,
           -11.4296875,
           -9.1171875,
           -4.58203125,
           -10.625,
           -13.8046875,
           -8.875,
           -7.8125,
           -7.2890625,
           -8.8671875
          ],
          [
           -38.5625,
           -19.703125,
           -9.046875,
           -33.71875,
           -13.3046875,
           -13.453125,
           -13.4921875,
           -14.046875,
           -11.171875,
           -14.40625,
           -14.125,
           -6.1328125,
           -7.36328125,
           -9.5234375,
           -15.765625,
           -9.9921875,
           -8.828125,
           -9.4921875,
           -7.609375,
           -6.2421875,
           -10.1953125,
           -9.5390625,
           -13.875,
           -11.5234375,
           -6.91796875,
           -12.8359375,
           -15.5703125,
           -8.6640625,
           -8.796875,
           -7.76953125,
           -11.1171875
          ],
          [
           -22.109375,
           -19.546875,
           -11.0546875,
           -32.09375,
           -17.25,
           -18.1875,
           -18.1875,
           -17.234375,
           -14.9765625,
           -17.984375,
           -17.375,
           -6.7578125,
           -8.4609375,
           -10.3125,
           -18.578125,
           -10.2734375,
           -11.7109375,
           -11.6015625,
           -8.6796875,
           -6.93359375,
           -13.796875,
           -13.7109375,
           -16.921875,
           -14.140625,
           -9.5078125,
           -16.5625,
           -18.25,
           -10.5390625,
           -11.296875,
           -9.90625,
           -13.75
          ],
          [
           -82.5,
           -4.5390625,
           -23.796875,
           -27.703125,
           -34.25,
           -42.84375,
           -37.5,
           -38.25,
           12.828125,
           -44.15625,
           -37.96875,
           -26.8125,
           -27.765625,
           -73.5625,
           -84.9375,
           -36,
           -47.65625,
           -68.375,
           47.125,
           38.4375,
           -61.65625,
           -80.75,
           -73.0625,
           -38.3125,
           4.6328125,
           -78,
           -121.6875,
           -52.8125,
           -21.59375,
           -34.78125,
           -91
          ]
         ]
        }
       ],
       "layout": {
        "coloraxis": {
         "cmax": 4.9346,
         "cmin": -4.9346,
         "colorscale": [
          [
           0,
           "rgb(165,0,38)"
          ],
          [
           0.1,
           "rgb(215,48,39)"
          ],
          [
           0.2,
           "rgb(244,109,67)"
          ],
          [
           0.3,
           "rgb(253,174,97)"
          ],
          [
           0.4,
           "rgb(254,224,139)"
          ],
          [
           0.5,
           "rgb(255,255,191)"
          ],
          [
           0.6,
           "rgb(217,239,139)"
          ],
          [
           0.7,
           "rgb(166,217,106)"
          ],
          [
           0.8,
           "rgb(102,189,99)"
          ],
          [
           0.9,
           "rgb(26,152,80)"
          ],
          [
           1,
           "rgb(0,104,55)"
          ]
         ]
        },
        "height": 600,
        "margin": {
         "t": 60
        },
        "template": {
         "data": {
          "bar": [
           {
            "error_x": {
             "color": "#2a3f5f"
            },
            "error_y": {
             "color": "#2a3f5f"
            },
            "marker": {
             "line": {
              "color": "#E5ECF6",
              "width": 0.5
             },
             "pattern": {
              "fillmode": "overlay",
              "size": 10,
              "solidity": 0.2
             }
            },
            "type": "bar"
           }
          ],
          "barpolar": [
           {
            "marker": {
             "line": {
              "color": "#E5ECF6",
              "width": 0.5
             },
             "pattern": {
              "fillmode": "overlay",
              "size": 10,
              "solidity": 0.2
             }
            },
            "type": "barpolar"
           }
          ],
          "carpet": [
           {
            "aaxis": {
             "endlinecolor": "#2a3f5f",
             "gridcolor": "white",
             "linecolor": "white",
             "minorgridcolor": "white",
             "startlinecolor": "#2a3f5f"
            },
            "baxis": {
             "endlinecolor": "#2a3f5f",
             "gridcolor": "white",
             "linecolor": "white",
             "minorgridcolor": "white",
             "startlinecolor": "#2a3f5f"
            },
            "type": "carpet"
           }
          ],
          "choropleth": [
           {
            "colorbar": {
             "outlinewidth": 0,
             "ticks": ""
            },
            "type": "choropleth"
           }
          ],
          "contour": [
           {
            "colorbar": {
             "outlinewidth": 0,
             "ticks": ""
            },
            "colorscale": [
             [
              0,
              "#0d0887"
             ],
             [
              0.1111111111111111,
              "#46039f"
             ],
             [
              0.2222222222222222,
              "#7201a8"
             ],
             [
              0.3333333333333333,
              "#9c179e"
             ],
             [
              0.4444444444444444,
              "#bd3786"
             ],
             [
              0.5555555555555556,
              "#d8576b"
             ],
             [
              0.6666666666666666,
              "#ed7953"
             ],
             [
              0.7777777777777778,
              "#fb9f3a"
             ],
             [
              0.8888888888888888,
              "#fdca26"
             ],
             [
              1,
              "#f0f921"
             ]
            ],
            "type": "contour"
           }
          ],
          "contourcarpet": [
           {
            "colorbar": {
             "outlinewidth": 0,
             "ticks": ""
            },
            "type": "contourcarpet"
           }
          ],
          "heatmap": [
           {
            "colorbar": {
             "outlinewidth": 0,
             "ticks": ""
            },
            "colorscale": [
             [
              0,
              "#0d0887"
             ],
             [
              0.1111111111111111,
              "#46039f"
             ],
             [
              0.2222222222222222,
              "#7201a8"
             ],
             [
              0.3333333333333333,
              "#9c179e"
             ],
             [
              0.4444444444444444,
              "#bd3786"
             ],
             [
              0.5555555555555556,
              "#d8576b"
             ],
             [
              0.6666666666666666,
              "#ed7953"
             ],
             [
              0.7777777777777778,
              "#fb9f3a"
             ],
             [
              0.8888888888888888,
              "#fdca26"
             ],
             [
              1,
              "#f0f921"
             ]
            ],
            "type": "heatmap"
           }
          ],
          "heatmapgl": [
           {
            "colorbar": {
             "outlinewidth": 0,
             "ticks": ""
            },
            "colorscale": [
             [
              0,
              "#0d0887"
             ],
             [
              0.1111111111111111,
              "#46039f"
             ],
             [
              0.2222222222222222,
              "#7201a8"
             ],
             [
              0.3333333333333333,
              "#9c179e"
             ],
             [
              0.4444444444444444,
              "#bd3786"
             ],
             [
              0.5555555555555556,
              "#d8576b"
             ],
             [
              0.6666666666666666,
              "#ed7953"
             ],
             [
              0.7777777777777778,
              "#fb9f3a"
             ],
             [
              0.8888888888888888,
              "#fdca26"
             ],
             [
              1,
              "#f0f921"
             ]
            ],
            "type": "heatmapgl"
           }
          ],
          "histogram": [
           {
            "marker": {
             "pattern": {
              "fillmode": "overlay",
              "size": 10,
              "solidity": 0.2
             }
            },
            "type": "histogram"
           }
          ],
          "histogram2d": [
           {
            "colorbar": {
             "outlinewidth": 0,
             "ticks": ""
            },
            "colorscale": [
             [
              0,
              "#0d0887"
             ],
             [
              0.1111111111111111,
              "#46039f"
             ],
             [
              0.2222222222222222,
              "#7201a8"
             ],
             [
              0.3333333333333333,
              "#9c179e"
             ],
             [
              0.4444444444444444,
              "#bd3786"
             ],
             [
              0.5555555555555556,
              "#d8576b"
             ],
             [
              0.6666666666666666,
              "#ed7953"
             ],
             [
              0.7777777777777778,
              "#fb9f3a"
             ],
             [
              0.8888888888888888,
              "#fdca26"
             ],
             [
              1,
              "#f0f921"
             ]
            ],
            "type": "histogram2d"
           }
          ],
          "histogram2dcontour": [
           {
            "colorbar": {
             "outlinewidth": 0,
             "ticks": ""
            },
            "colorscale": [
             [
              0,
              "#0d0887"
             ],
             [
              0.1111111111111111,
              "#46039f"
             ],
             [
              0.2222222222222222,
              "#7201a8"
             ],
             [
              0.3333333333333333,
              "#9c179e"
             ],
             [
              0.4444444444444444,
              "#bd3786"
             ],
             [
              0.5555555555555556,
              "#d8576b"
             ],
             [
              0.6666666666666666,
              "#ed7953"
             ],
             [
              0.7777777777777778,
              "#fb9f3a"
             ],
             [
              0.8888888888888888,
              "#fdca26"
             ],
             [
              1,
              "#f0f921"
             ]
            ],
            "type": "histogram2dcontour"
           }
          ],
          "mesh3d": [
           {
            "colorbar": {
             "outlinewidth": 0,
             "ticks": ""
            },
            "type": "mesh3d"
           }
          ],
          "parcoords": [
           {
            "line": {
             "colorbar": {
              "outlinewidth": 0,
              "ticks": ""
             }
            },
            "type": "parcoords"
           }
          ],
          "pie": [
           {
            "automargin": true,
            "type": "pie"
           }
          ],
          "scatter": [
           {
            "fillpattern": {
             "fillmode": "overlay",
             "size": 10,
             "solidity": 0.2
            },
            "type": "scatter"
           }
          ],
          "scatter3d": [
           {
            "line": {
             "colorbar": {
              "outlinewidth": 0,
              "ticks": ""
             }
            },
            "marker": {
             "colorbar": {
              "outlinewidth": 0,
              "ticks": ""
             }
            },
            "type": "scatter3d"
           }
          ],
          "scattercarpet": [
           {
            "marker": {
             "colorbar": {
              "outlinewidth": 0,
              "ticks": ""
             }
            },
            "type": "scattercarpet"
           }
          ],
          "scattergeo": [
           {
            "marker": {
             "colorbar": {
              "outlinewidth": 0,
              "ticks": ""
             }
            },
            "type": "scattergeo"
           }
          ],
          "scattergl": [
           {
            "marker": {
             "colorbar": {
              "outlinewidth": 0,
              "ticks": ""
             }
            },
            "type": "scattergl"
           }
          ],
          "scattermapbox": [
           {
            "marker": {
             "colorbar": {
              "outlinewidth": 0,
              "ticks": ""
             }
            },
            "type": "scattermapbox"
           }
          ],
          "scatterpolar": [
           {
            "marker": {
             "colorbar": {
              "outlinewidth": 0,
              "ticks": ""
             }
            },
            "type": "scatterpolar"
           }
          ],
          "scatterpolargl": [
           {
            "marker": {
             "colorbar": {
              "outlinewidth": 0,
              "ticks": ""
             }
            },
            "type": "scatterpolargl"
           }
          ],
          "scatterternary": [
           {
            "marker": {
             "colorbar": {
              "outlinewidth": 0,
              "ticks": ""
             }
            },
            "type": "scatterternary"
           }
          ],
          "surface": [
           {
            "colorbar": {
             "outlinewidth": 0,
             "ticks": ""
            },
            "colorscale": [
             [
              0,
              "#0d0887"
             ],
             [
              0.1111111111111111,
              "#46039f"
             ],
             [
              0.2222222222222222,
              "#7201a8"
             ],
             [
              0.3333333333333333,
              "#9c179e"
             ],
             [
              0.4444444444444444,
              "#bd3786"
             ],
             [
              0.5555555555555556,
              "#d8576b"
             ],
             [
              0.6666666666666666,
              "#ed7953"
             ],
             [
              0.7777777777777778,
              "#fb9f3a"
             ],
             [
              0.8888888888888888,
              "#fdca26"
             ],
             [
              1,
              "#f0f921"
             ]
            ],
            "type": "surface"
           }
          ],
          "table": [
           {
            "cells": {
             "fill": {
              "color": "#EBF0F8"
             },
             "line": {
              "color": "white"
             }
            },
            "header": {
             "fill": {
              "color": "#C8D4E3"
             },
             "line": {
              "color": "white"
             }
            },
            "type": "table"
           }
          ]
         },
         "layout": {
          "annotationdefaults": {
           "arrowcolor": "#2a3f5f",
           "arrowhead": 0,
           "arrowwidth": 1
          },
          "autotypenumbers": "strict",
          "coloraxis": {
           "colorbar": {
            "outlinewidth": 0,
            "ticks": ""
           }
          },
          "colorscale": {
           "diverging": [
            [
             0,
             "#8e0152"
            ],
            [
             0.1,
             "#c51b7d"
            ],
            [
             0.2,
             "#de77ae"
            ],
            [
             0.3,
             "#f1b6da"
            ],
            [
             0.4,
             "#fde0ef"
            ],
            [
             0.5,
             "#f7f7f7"
            ],
            [
             0.6,
             "#e6f5d0"
            ],
            [
             0.7,
             "#b8e186"
            ],
            [
             0.8,
             "#7fbc41"
            ],
            [
             0.9,
             "#4d9221"
            ],
            [
             1,
             "#276419"
            ]
           ],
           "sequential": [
            [
             0,
             "#0d0887"
            ],
            [
             0.1111111111111111,
             "#46039f"
            ],
            [
             0.2222222222222222,
             "#7201a8"
            ],
            [
             0.3333333333333333,
             "#9c179e"
            ],
            [
             0.4444444444444444,
             "#bd3786"
            ],
            [
             0.5555555555555556,
             "#d8576b"
            ],
            [
             0.6666666666666666,
             "#ed7953"
            ],
            [
             0.7777777777777778,
             "#fb9f3a"
            ],
            [
             0.8888888888888888,
             "#fdca26"
            ],
            [
             1,
             "#f0f921"
            ]
           ],
           "sequentialminus": [
            [
             0,
             "#0d0887"
            ],
            [
             0.1111111111111111,
             "#46039f"
            ],
            [
             0.2222222222222222,
             "#7201a8"
            ],
            [
             0.3333333333333333,
             "#9c179e"
            ],
            [
             0.4444444444444444,
             "#bd3786"
            ],
            [
             0.5555555555555556,
             "#d8576b"
            ],
            [
             0.6666666666666666,
             "#ed7953"
            ],
            [
             0.7777777777777778,
             "#fb9f3a"
            ],
            [
             0.8888888888888888,
             "#fdca26"
            ],
            [
             1,
             "#f0f921"
            ]
           ]
          },
          "colorway": [
           "#636efa",
           "#EF553B",
           "#00cc96",
           "#ab63fa",
           "#FFA15A",
           "#19d3f3",
           "#FF6692",
           "#B6E880",
           "#FF97FF",
           "#FECB52"
          ],
          "font": {
           "color": "#2a3f5f"
          },
          "geo": {
           "bgcolor": "white",
           "lakecolor": "white",
           "landcolor": "#E5ECF6",
           "showlakes": true,
           "showland": true,
           "subunitcolor": "white"
          },
          "hoverlabel": {
           "align": "left"
          },
          "hovermode": "closest",
          "mapbox": {
           "style": "light"
          },
          "paper_bgcolor": "white",
          "plot_bgcolor": "#E5ECF6",
          "polar": {
           "angularaxis": {
            "gridcolor": "white",
            "linecolor": "white",
            "ticks": ""
           },
           "bgcolor": "#E5ECF6",
           "radialaxis": {
            "gridcolor": "white",
            "linecolor": "white",
            "ticks": ""
           }
          },
          "scene": {
           "xaxis": {
            "backgroundcolor": "#E5ECF6",
            "gridcolor": "white",
            "gridwidth": 2,
            "linecolor": "white",
            "showbackground": true,
            "ticks": "",
            "zerolinecolor": "white"
           },
           "yaxis": {
            "backgroundcolor": "#E5ECF6",
            "gridcolor": "white",
            "gridwidth": 2,
            "linecolor": "white",
            "showbackground": true,
            "ticks": "",
            "zerolinecolor": "white"
           },
           "zaxis": {
            "backgroundcolor": "#E5ECF6",
            "gridcolor": "white",
            "gridwidth": 2,
            "linecolor": "white",
            "showbackground": true,
            "ticks": "",
            "zerolinecolor": "white"
           }
          },
          "shapedefaults": {
           "line": {
            "color": "#2a3f5f"
           }
          },
          "ternary": {
           "aaxis": {
            "gridcolor": "white",
            "linecolor": "white",
            "ticks": ""
           },
           "baxis": {
            "gridcolor": "white",
            "linecolor": "white",
            "ticks": ""
           },
           "bgcolor": "#E5ECF6",
           "caxis": {
            "gridcolor": "white",
            "linecolor": "white",
            "ticks": ""
           }
          },
          "title": {
           "x": 0.05
          },
          "xaxis": {
           "automargin": true,
           "gridcolor": "white",
           "linecolor": "white",
           "ticks": "",
           "title": {
            "standoff": 15
           },
           "zerolinecolor": "white",
           "zerolinewidth": 2
          },
          "yaxis": {
           "automargin": true,
           "gridcolor": "white",
           "linecolor": "white",
           "ticks": "",
           "title": {
            "standoff": 15
           },
           "zerolinecolor": "white",
           "zerolinewidth": 2
          }
         }
        },
        "width": 1000,
        "xaxis": {
         "anchor": "y",
         "autorange": true,
         "constrain": "domain",
         "domain": [
          0.2548733313106796,
          0.7451266686893204
         ],
         "range": [
          -0.5,
          30.5
         ],
         "scaleanchor": "y",
         "ticktext": [
          "▁[",
          "INST",
          "]",
          "▁What",
          "▁are",
          "▁the",
          "▁primary",
          "▁ingredients",
          "▁in",
          "▁a",
          "▁Gr",
          "in",
          "m",
          "oss",
          "▁P",
          "otion",
          "?",
          "▁[",
          "/",
          "INST",
          "]",
          "▁The",
          "▁primary",
          "▁ingredients",
          "▁in",
          "▁a",
          "▁Gr",
          "in",
          "m",
          "oss"
         ],
         "tickvals": [
          0,
          1,
          2,
          3,
          4,
          5,
          6,
          7,
          8,
          9,
          10,
          11,
          12,
          13,
          14,
          15,
          16,
          17,
          18,
          19,
          20,
          21,
          22,
          23,
          24,
          25,
          26,
          27,
          28,
          29
         ],
         "title": {
          "text": "Token"
         }
        },
        "yaxis": {
         "anchor": "x",
         "autorange": true,
         "constrain": "domain",
         "domain": [
          0,
          1
         ],
         "range": [
          31.5,
          -0.5
         ]
        }
       }
      },
      "image/png": "[encoded data removed]",
      "text/html": [
       "<div>                            <div id=\"7e2b04c4-5d69-4cc4-835f-81d088c5acfb\" class=\"plotly-graph-div\" style=\"height:600px; width:1000px;\"></div>            <script type=\"text/javascript\">                require([\"plotly\"], function(Plotly) {                    window.PLOTLYENV=window.PLOTLYENV || {};                                    if (document.getElementById(\"7e2b04c4-5d69-4cc4-835f-81d088c5acfb\")) {                    Plotly.newPlot(                        \"7e2b04c4-5d69-4cc4-835f-81d088c5acfb\",                        [{\"coloraxis\":\"coloraxis\",\"name\":\"0\",\"z\":[[0.01045989990234375,-0.148681640625,-0.041290283203125,-0.0638427734375,-0.0673828125,-0.065673828125,-0.093505859375,-0.0011186599731445312,0.029052734375,-0.06890869140625,-0.09735107421875,-0.1348876953125,-0.01666259765625,-0.0267181396484375,0.01438140869140625,-0.1961669921875,0.0199127197265625,-0.0821533203125,-0.0986328125,-0.06842041015625,-0.0343017578125,-0.07208251953125,-0.118408203125,-0.0011148452758789062,0.027923583984375,-0.06939697265625,-0.09698486328125,-0.1336669921875,-0.0170135498046875,-0.027740478515625,0.01404571533203125],[-96.9375,-0.80029296875,-0.10491943359375,-0.1751708984375,-0.177978515625,-0.1038818359375,-0.148193359375,-0.071533203125,-0.02410888671875,-0.138427734375,-0.174072265625,-0.197265625,0.0092926025390625,0.07891845703125,0.06915283203125,-0.307861328125,0.007793426513671875,-0.2308349609375,-0.2142333984375,-0.17333984375,-0.1351318359375,-0.2135009765625,-0.28662109375,-0.07513427734375,-0.03387451171875,-0.143310546875,-0.178466796875,-0.2252197265625,0.00725555419921875,0.0745849609375,0.06829833984375],[-54.03125,-0.63232421875,-0.1151123046875,-0.08868408203125,-0.2138671875,-0.11932373046875,-0.133544921875,-0.039794921875,0.02532958984375,-0.07537841796875,-0.1522216796875,-0.294189453125,0.00812530517578125,0.079345703125,0.084228515625,-0.388671875,0.035614013671875,-0.173828125,-0.2069091796875,-0.189453125,-0.146484375,-0.258544921875,-0.3203125,-0.0751953125,0.017181396484375,-0.10247802734375,-0.1668701171875,-0.403564453125,-0.059295654296875,0.031402587890625,0.09918212890625],[-77.0625,-1.048828125,-0.1893310546875,-0.2100830078125,-0.368896484375,-0.276123046875,-0.31396484375,-0.1202392578125,-0.083251953125,-0.142333984375,-0.27392578125,-0.32958984375,0.05316162109375,0.093994140625,0.07879638671875,-0.52490234375,-0.016204833984375,-0.384033203125,-0.31591796875,-0.26708984375,-0.283203125,-0.485595703125,-0.62939453125,-0.1578369140625,-0.0726318359375,-0.21142578125,-0.304443359375,-0.445556640625,0.005748748779296875,0.062164306640625,0.08966064453125],[3.009765625,-0.134765625,0.006389617919921875,0.05352783203125,-0.048858642578125,-0.08709716796875,-0.11663818359375,0.03070068359375,0.1396484375,0.0965576171875,-0.03704833984375,-0.298828125,-0.06121826171875,-0.007419586181640625,0.0252227783203125,-0.36474609375,0.072998046875,-0.08453369140625,-0.08612060546875,-0.07373046875,-0.06256103515625,-0.0672607421875,-0.234375,-0.04156494140625,0.05938720703125,0.0185699462890625,-0.1304931640625,-0.459716796875,-0.2161865234375,-0.1143798828125,0.01328277587890625],[-1.87109375,-0.12335205078125,0.1046142578125,0.09136962890625,0.004566192626953125,-0.0311431884765625,-0.0467529296875,0.035919189453125,0.2362060546875,0.1640625,0.048004150390625,-0.26416015625,-0.08026123046875,-0.09344482421875,-0.08514404296875,-0.3955078125,0.036224365234375,-0.047454833984375,-0.031524658203125,-0.0784912109375,-0.0308837890625,-0.014190673828125,-0.1959228515625,-0.03582763671875,0.0953369140625,0.06182861328125,-0.11578369140625,-0.5244140625,-0.300537109375,-0.19677734375,-0.11712646484375],[1.732421875,0.0025501251220703125,0.113037109375,0.06036376953125,0.01245880126953125,-0.02783203125,-0.072265625,-0.01142120361328125,0.263671875,0.1807861328125,0.07171630859375,-0.3173828125,-0.211181640625,-0.336181640625,-0.1561279296875,-0.51025390625,0.040802001953125,-0.030792236328125,0.00214385986328125,-0.07659912109375,-0.024444580078125,0.004302978515625,-0.17041015625,-0.07098388671875,0.055267333984375,0.05230712890625,-0.149658203125,-0.6240234375,-0.55859375,-0.355712890625,-0.0916748046875],[4.59765625,-0.2236328125,-0.06524658203125,-0.1485595703125,-0.1763916015625,-0.2076416015625,-0.2646484375,-0.2059326171875,0.08441162109375,-0.00505828857421875,-0.12310791015625,-0.49560546875,-0.427978515625,-0.61279296875,-0.4990234375,-0.74951171875,-0.2352294921875,-0.225830078125,-0.1864013671875,-0.2481689453125,-0.2279052734375,-0.1790771484375,-0.389892578125,-0.37548828125,-0.2763671875,-0.2159423828125,-0.436767578125,-1.0263671875,-1.005859375,-0.78076171875,-0.4912109375],[0.2320556640625,-0.1788330078125,0.06317138671875,-0.024383544921875,-0.0151214599609375,-0.045501708984375,-0.15478515625,-0.09942626953125,0.1851806640625,0.096923828125,0.0127105712890625,-0.33544921875,-0.335205078125,-0.64404296875,-0.58984375,-0.70166015625,-0.287841796875,-0.2132568359375,-0.12469482421875,-0.2322998046875,-0.1605224609375,-0.107666015625,-0.34033203125,-0.304443359375,-0.255615234375,-0.146728515625,-0.3291015625,-0.9072265625,-0.88134765625,-0.763671875,-0.54345703125],[8.3515625,0.258056640625,0.144287109375,0.105224609375,0.04998779296875,-0.05450439453125,-0.1275634765625,-0.0911865234375,0.181396484375,0.00930023193359375,-0.0323486328125,-0.390625,-0.373046875,-0.78564453125,-0.8564453125,-0.83154296875,-0.41162109375,-0.354248046875,-0.1536865234375,-0.2181396484375,-0.091064453125,-0.1121826171875,-0.3056640625,-0.39306640625,-0.299560546875,-0.1885986328125,-0.4990234375,-1.4248046875,-1.2080078125,-1.015625,-0.87841796875],[-3.005859375,-0.263916015625,0.0679931640625,-0.062255859375,-0.093994140625,-0.151123046875,-0.258056640625,-0.1881103515625,0.11712646484375,-0.07379150390625,-0.107421875,-0.49951171875,-0.53515625,-0.94482421875,-0.93896484375,-1.037109375,-0.48583984375,-0.48876953125,-0.2802734375,-0.415771484375,-0.28173828125,-0.262451171875,-0.402587890625,-0.35986328125,-0.27685546875,-0.228271484375,-0.66259765625,-1.5830078125,-1.349609375,-1.201171875,-1.0703125],[2.173828125,0.0034942626953125,0.03436279296875,-0.0021533966064453125,-0.1312255859375,-0.2437744140625,-0.342041015625,-0.272705078125,0.043487548828125,-0.21484375,-0.2332763671875,-0.59375,-0.61962890625,-1.02734375,-1.14453125,-1.3427734375,-0.68310546875,-0.6767578125,-0.462158203125,-0.6884765625,-0.468994140625,-0.41748046875,-0.5126953125,-0.32666015625,-0.250732421875,-0.27001953125,-0.873046875,-2.029296875,-1.408203125,-1.357421875,-1.2998046875],[11.5625,0.54345703125,0.10748291015625,0.1776123046875,0.0163726806640625,-0.10247802734375,-0.260009765625,-0.2132568359375,0.1776123046875,-0.13671875,-0.11163330078125,-0.4501953125,-0.65087890625,-1.0859375,-1.2001953125,-1.2724609375,-0.576171875,-0.425537109375,-0.330322265625,-0.57470703125,-0.314453125,-0.2154541015625,-0.3291015625,-0.295166015625,-0.09954833984375,-0.2242431640625,-0.814453125,-2.1328125,-1.853515625,-1.734375,-1.5107421875],[5.47265625,0.1121826171875,-0.06072998046875,-0.0592041015625,-0.2432861328125,-0.322509765625,-0.5224609375,-0.472412109375,-0.036468505859375,-0.332763671875,-0.33935546875,-0.66943359375,-0.84619140625,-1.2822265625,-1.435546875,-1.673828125,-0.82861328125,-0.666015625,-0.59033203125,-0.84814453125,-0.669921875,-0.50927734375,-0.65087890625,-0.458984375,-0.362060546875,-0.57373046875,-1.0830078125,-2.3828125,-2.0703125,-1.94921875,-1.7587890625],[26.0,0.99853515625,-0.2255859375,0.156982421875,-0.25927734375,-0.45068359375,-0.62109375,-0.69970703125,-0.0738525390625,-0.429931640625,-0.49755859375,-0.9365234375,-1.0283203125,-1.5400390625,-1.7578125,-2.060546875,-1.0673828125,-1.162109375,-0.9443359375,-1.3564453125,-1.2236328125,-0.95068359375,-1.1005859375,-0.85546875,-0.603515625,-1.203125,-1.7685546875,-3.052734375,-2.615234375,-2.44140625,-2.109375],[3.796875,-0.0343017578125,-0.311767578125,-0.1846923828125,-0.44384765625,-0.5400390625,-0.80419921875,-0.72607421875,-0.1383056640625,-0.472900390625,-0.473876953125,-0.90234375,-1.1083984375,-1.5703125,-1.900390625,-2.099609375,-1.3955078125,-1.6396484375,-1.1044921875,-1.3388671875,-1.3349609375,-1.287109375,-1.28515625,-0.8505859375,-0.56640625,-1.25390625,-2.021484375,-3.275390625,-2.669921875,-2.529296875,-2.435546875],[6.87890625,0.0052032470703125,-0.48193359375,-0.26513671875,-0.640625,-0.80029296875,-1.041015625,-0.900390625,-0.251220703125,-0.71044921875,-0.76416015625,-1.1904296875,-1.3427734375,-1.7861328125,-2.12890625,-2.3359375,-1.669921875,-2.083984375,-1.4306640625,-1.603515625,-2.115234375,-2.1484375,-1.9560546875,-1.1396484375,-1.0146484375,-2.041015625,-2.72265625,-3.876953125,-2.994140625,-2.783203125,-2.61328125],[5.93359375,-0.0263519287109375,-0.347412109375,-0.2132568359375,-0.7509765625,-0.91552734375,-1.177734375,-1.025390625,-0.276123046875,-0.62158203125,-0.70849609375,-1.193359375,-1.51171875,-2.015625,-2.396484375,-2.380859375,-1.72265625,-2.125,-1.2236328125,-1.302734375,-2.10546875,-2.240234375,-2.23828125,-1.20703125,-0.9580078125,-2.201171875,-3.232421875,-4.0625,-3.177734375,-2.916015625,-2.908203125],[-0.64453125,-0.10284423828125,0.25537109375,-0.25439453125,-0.57568359375,-0.619140625,-0.93505859375,-0.71533203125,0.2310791015625,-0.1912841796875,-0.295654296875,-0.77880859375,-0.93798828125,-1.505859375,-1.9287109375,-2.13671875,-1.4013671875,-2.34765625,-1.0078125,-1.1279296875,-2.365234375,-2.431640625,-2.623046875,-1.0771484375,-0.78076171875,-2.7890625,-4.58984375,-4.6640625,-3.03515625,-2.439453125,-2.490234375],[-2.548828125,-2.517578125,-0.9228515625,-5.8203125,-1.8134765625,-1.763671875,-2.19921875,-1.9560546875,-0.7734375,-1.4697265625,-1.5830078125,-1.62109375,-1.5498046875,-2.314453125,-3.16796875,-3.2421875,-2.451171875,-3.921875,-2.181640625,-2.390625,-4.1640625,-4.390625,-4.703125,-2.703125,-2.302734375,-4.734375,-6.41796875,-5.6640625,-3.93359375,-3.322265625,-3.751953125],[3.15234375,-2.212890625,-0.83544921875,-5.02734375,-1.638671875,-1.828125,-2.205078125,-2.033203125,-0.60107421875,-1.4208984375,-1.501953125,-1.68359375,-1.671875,-2.50390625,-3.341796875,-3.376953125,-2.736328125,-4.41796875,-2.306640625,-2.39453125,-4.20703125,-4.6328125,-5.6015625,-3.279296875,-2.48046875,-5.1796875,-7.1171875,-6.703125,-4.38671875,-3.533203125,-4.01171875],[-19.71875,-7.85546875,-2.259765625,-14.3125,-3.1640625,-3.2578125,-3.689453125,-3.3359375,-1.490234375,-2.75,-2.630859375,-2.423828125,-2.015625,-2.849609375,-3.990234375,-4.54296875,-3.08984375,-4.76171875,-2.625,-2.8046875,-4.55859375,-5.03125,-6.16796875,-3.6640625,-2.73046875,-5.4921875,-7.32421875,-7.046875,-4.54296875,-3.775390625,-4.21484375],[-33.28125,-10.7578125,-2.9140625,-19.125,-4.00390625,-3.703125,-4.35546875,-3.71875,-1.6640625,-3.142578125,-3.033203125,-2.74609375,-2.119140625,-3.0859375,-4.5703125,-5.15234375,-3.068359375,-4.83203125,-2.470703125,-2.7265625,-4.47265625,-4.69921875,-5.95703125,-3.43359375,-2.48046875,-5.69921875,-7.71875,-7.4765625,-4.81640625,-4.1328125,-4.5703125],[-48.71875,-15.8671875,-5.10546875,-27.0,-6.41015625,-6.03515625,-6.6484375,-6.09765625,-3.306640625,-5.81640625,-5.75,-4.484375,-3.236328125,-4.50390625,-6.79296875,-7.3359375,-4.109375,-5.87109375,-3.87109375,-4.11328125,-5.5078125,-5.23046875,-6.8828125,-4.484375,-2.849609375,-6.45703125,-8.2265625,-7.88671875,-4.890625,-4.80859375,-5.24609375],[-61.84375,-18.640625,-5.40625,-32.1875,-6.85546875,-6.66015625,-7.12109375,-6.4765625,-3.181640625,-6.29296875,-6.2265625,-4.39453125,-2.95703125,-4.54296875,-7.296875,-7.640625,-3.296875,-5.55859375,-3.525390625,-3.9296875,-5.16796875,-4.453125,-6.94921875,-4.25,-2.12109375,-5.9375,-7.7265625,-7.3828125,-4.2109375,-4.43359375,-4.625],[-62.875,-20.140625,-6.52734375,-34.1875,-8.28125,-8.21875,-8.5390625,-7.99609375,-4.7109375,-7.77734375,-7.8046875,-5.46484375,-4.01953125,-5.70703125,-9.3046875,-9.21875,-5.0625,-6.9609375,-4.40234375,-4.69921875,-6.63671875,-5.6953125,-8.7109375,-5.828125,-3.587890625,-7.40234375,-9.5546875,-8.28125,-5.12109375,-5.5390625,-6.65625],[-69.4375,-23.078125,-8.15625,-38.34375,-9.796875,-9.7734375,-10.0,-9.875,-6.3515625,-9.9609375,-9.828125,-6.625,-5.9609375,-7.75390625,-11.3828125,-10.9296875,-6.51953125,-8.78125,-5.453125,-5.62109375,-8.2890625,-7.265625,-10.328125,-7.67578125,-4.765625,-9.7734375,-12.3671875,-9.515625,-7.296875,-7.6484375,-8.1640625],[-67.625,-22.828125,-8.2578125,-37.90625,-10.2578125,-10.2578125,-10.3515625,-10.59375,-6.95703125,-10.8359375,-10.6015625,-6.51171875,-6.7421875,-8.4453125,-12.2734375,-10.640625,-6.78515625,-9.3359375,-5.5390625,-5.0625,-8.0,-7.12890625,-10.5078125,-8.015625,-4.46484375,-10.1875,-13.1640625,-9.53125,-8.09375,-7.80078125,-8.4140625],[-49.6875,-20.6875,-8.6015625,-35.09375,-10.6328125,-11.1328125,-11.609375,-11.921875,-8.2265625,-12.4296875,-11.8515625,-5.828125,-7.0078125,-8.453125,-13.59375,-10.265625,-7.109375,-9.34375,-5.90625,-5.0703125,-8.4921875,-7.6484375,-11.4296875,-9.1171875,-4.58203125,-10.625,-13.8046875,-8.875,-7.8125,-7.2890625,-8.8671875],[-38.5625,-19.703125,-9.046875,-33.71875,-13.3046875,-13.453125,-13.4921875,-14.046875,-11.171875,-14.40625,-14.125,-6.1328125,-7.36328125,-9.5234375,-15.765625,-9.9921875,-8.828125,-9.4921875,-7.609375,-6.2421875,-10.1953125,-9.5390625,-13.875,-11.5234375,-6.91796875,-12.8359375,-15.5703125,-8.6640625,-8.796875,-7.76953125,-11.1171875],[-22.109375,-19.546875,-11.0546875,-32.09375,-17.25,-18.1875,-18.1875,-17.234375,-14.9765625,-17.984375,-17.375,-6.7578125,-8.4609375,-10.3125,-18.578125,-10.2734375,-11.7109375,-11.6015625,-8.6796875,-6.93359375,-13.796875,-13.7109375,-16.921875,-14.140625,-9.5078125,-16.5625,-18.25,-10.5390625,-11.296875,-9.90625,-13.75],[-82.5,-4.5390625,-23.796875,-27.703125,-34.25,-42.84375,-37.5,-38.25,12.828125,-44.15625,-37.96875,-26.8125,-27.765625,-73.5625,-84.9375,-36.0,-47.65625,-68.375,47.125,38.4375,-61.65625,-80.75,-73.0625,-38.3125,4.6328125,-78.0,-121.6875,-52.8125,-21.59375,-34.78125,-91.0]],\"type\":\"heatmap\",\"xaxis\":\"x\",\"yaxis\":\"y\",\"hovertemplate\":\"Token: %{x}\\u003cbr\\u003ey: %{y}\\u003cbr\\u003ecolor: %{z}\\u003cextra\\u003e\\u003c\\u002fextra\\u003e\"}],                        {\"template\":{\"data\":{\"histogram2dcontour\":[{\"type\":\"histogram2dcontour\",\"colorbar\":{\"outlinewidth\":0,\"ticks\":\"\"},\"colorscale\":[[0.0,\"#0d0887\"],[0.1111111111111111,\"#46039f\"],[0.2222222222222222,\"#7201a8\"],[0.3333333333333333,\"#9c179e\"],[0.4444444444444444,\"#bd3786\"],[0.5555555555555556,\"#d8576b\"],[0.6666666666666666,\"#ed7953\"],[0.7777777777777778,\"#fb9f3a\"],[0.8888888888888888,\"#fdca26\"],[1.0,\"#f0f921\"]]}],\"choropleth\":[{\"type\":\"choropleth\",\"colorbar\":{\"outlinewidth\":0,\"ticks\":\"\"}}],\"histogram2d\":[{\"type\":\"histogram2d\",\"colorbar\":{\"outlinewidth\":0,\"ticks\":\"\"},\"colorscale\":[[0.0,\"#0d0887\"],[0.1111111111111111,\"#46039f\"],[0.2222222222222222,\"#7201a8\"],[0.3333333333333333,\"#9c179e\"],[0.4444444444444444,\"#bd3786\"],[0.5555555555555556,\"#d8576b\"],[0.6666666666666666,\"#ed7953\"],[0.7777777777777778,\"#fb9f3a\"],[0.8888888888888888,\"#fdca26\"],[1.0,\"#f0f921\"]]}],\"heatmap\":[{\"type\":\"heatmap\",\"colorbar\":{\"outlinewidth\":0,\"ticks\":\"\"},\"colorscale\":[[0.0,\"#0d0887\"],[0.1111111111111111,\"#46039f\"],[0.2222222222222222,\"#7201a8\"],[0.3333333333333333,\"#9c179e\"],[0.4444444444444444,\"#bd3786\"],[0.5555555555555556,\"#d8576b\"],[0.6666666666666666,\"#ed7953\"],[0.7777777777777778,\"#fb9f3a\"],[0.8888888888888888,\"#fdca26\"],[1.0,\"#f0f921\"]]}],\"heatmapgl\":[{\"type\":\"heatmapgl\",\"colorbar\":{\"outlinewidth\":0,\"ticks\":\"\"},\"colorscale\":[[0.0,\"#0d0887\"],[0.1111111111111111,\"#46039f\"],[0.2222222222222222,\"#7201a8\"],[0.3333333333333333,\"#9c179e\"],[0.4444444444444444,\"#bd3786\"],[0.5555555555555556,\"#d8576b\"],[0.6666666666666666,\"#ed7953\"],[0.7777777777777778,\"#fb9f3a\"],[0.8888888888888888,\"#fdca26\"],[1.0,\"#f0f921\"]]}],\"contourcarpet\":[{\"type\":\"contourcarpet\",\"colorbar\":{\"outlinewidth\":0,\"ticks\":\"\"}}],\"contour\":[{\"type\":\"contour\",\"colorbar\":{\"outlinewidth\":0,\"ticks\":\"\"},\"colorscale\":[[0.0,\"#0d0887\"],[0.1111111111111111,\"#46039f\"],[0.2222222222222222,\"#7201a8\"],[0.3333333333333333,\"#9c179e\"],[0.4444444444444444,\"#bd3786\"],[0.5555555555555556,\"#d8576b\"],[0.6666666666666666,\"#ed7953\"],[0.7777777777777778,\"#fb9f3a\"],[0.8888888888888888,\"#fdca26\"],[1.0,\"#f0f921\"]]}],\"surface\":[{\"type\":\"surface\",\"colorbar\":{\"outlinewidth\":0,\"ticks\":\"\"},\"colorscale\":[[0.0,\"#0d0887\"],[0.1111111111111111,\"#46039f\"],[0.2222222222222222,\"#7201a8\"],[0.3333333333333333,\"#9c179e\"],[0.4444444444444444,\"#bd3786\"],[0.5555555555555556,\"#d8576b\"],[0.6666666666666666,\"#ed7953\"],[0.7777777777777778,\"#fb9f3a\"],[0.8888888888888888,\"#fdca26\"],[1.0,\"#f0f921\"]]}],\"mesh3d\":[{\"type\":\"mesh3d\",\"colorbar\":{\"outlinewidth\":0,\"ticks\":\"\"}}],\"scatter\":[{\"fillpattern\":{\"fillmode\":\"overlay\",\"size\":10,\"solidity\":0.2},\"type\":\"scatter\"}],\"parcoords\":[{\"type\":\"parcoords\",\"line\":{\"colorbar\":{\"outlinewidth\":0,\"ticks\":\"\"}}}],\"scatterpolargl\":[{\"type\":\"scatterpolargl\",\"marker\":{\"colorbar\":{\"outlinewidth\":0,\"ticks\":\"\"}}}],\"bar\":[{\"error_x\":{\"color\":\"#2a3f5f\"},\"error_y\":{\"color\":\"#2a3f5f\"},\"marker\":{\"line\":{\"color\":\"#E5ECF6\",\"width\":0.5},\"pattern\":{\"fillmode\":\"overlay\",\"size\":10,\"solidity\":0.2}},\"type\":\"bar\"}],\"scattergeo\":[{\"type\":\"scattergeo\",\"marker\":{\"colorbar\":{\"outlinewidth\":0,\"ticks\":\"\"}}}],\"scatterpolar\":[{\"type\":\"scatterpolar\",\"marker\":{\"colorbar\":{\"outlinewidth\":0,\"ticks\":\"\"}}}],\"histogram\":[{\"marker\":{\"pattern\":{\"fillmode\":\"overlay\",\"size\":10,\"solidity\":0.2}},\"type\":\"histogram\"}],\"scattergl\":[{\"type\":\"scattergl\",\"marker\":{\"colorbar\":{\"outlinewidth\":0,\"ticks\":\"\"}}}],\"scatter3d\":[{\"type\":\"scatter3d\",\"line\":{\"colorbar\":{\"outlinewidth\":0,\"ticks\":\"\"}},\"marker\":{\"colorbar\":{\"outlinewidth\":0,\"ticks\":\"\"}}}],\"scattermapbox\":[{\"type\":\"scattermapbox\",\"marker\":{\"colorbar\":{\"outlinewidth\":0,\"ticks\":\"\"}}}],\"scatterternary\":[{\"type\":\"scatterternary\",\"marker\":{\"colorbar\":{\"outlinewidth\":0,\"ticks\":\"\"}}}],\"scattercarpet\":[{\"type\":\"scattercarpet\",\"marker\":{\"colorbar\":{\"outlinewidth\":0,\"ticks\":\"\"}}}],\"carpet\":[{\"aaxis\":{\"endlinecolor\":\"#2a3f5f\",\"gridcolor\":\"white\",\"linecolor\":\"white\",\"minorgridcolor\":\"white\",\"startlinecolor\":\"#2a3f5f\"},\"baxis\":{\"endlinecolor\":\"#2a3f5f\",\"gridcolor\":\"white\",\"linecolor\":\"white\",\"minorgridcolor\":\"white\",\"startlinecolor\":\"#2a3f5f\"},\"type\":\"carpet\"}],\"table\":[{\"cells\":{\"fill\":{\"color\":\"#EBF0F8\"},\"line\":{\"color\":\"white\"}},\"header\":{\"fill\":{\"color\":\"#C8D4E3\"},\"line\":{\"color\":\"white\"}},\"type\":\"table\"}],\"barpolar\":[{\"marker\":{\"line\":{\"color\":\"#E5ECF6\",\"width\":0.5},\"pattern\":{\"fillmode\":\"overlay\",\"size\":10,\"solidity\":0.2}},\"type\":\"barpolar\"}],\"pie\":[{\"automargin\":true,\"type\":\"pie\"}]},\"layout\":{\"autotypenumbers\":\"strict\",\"colorway\":[\"#636efa\",\"#EF553B\",\"#00cc96\",\"#ab63fa\",\"#FFA15A\",\"#19d3f3\",\"#FF6692\",\"#B6E880\",\"#FF97FF\",\"#FECB52\"],\"font\":{\"color\":\"#2a3f5f\"},\"hovermode\":\"closest\",\"hoverlabel\":{\"align\":\"left\"},\"paper_bgcolor\":\"white\",\"plot_bgcolor\":\"#E5ECF6\",\"polar\":{\"bgcolor\":\"#E5ECF6\",\"angularaxis\":{\"gridcolor\":\"white\",\"linecolor\":\"white\",\"ticks\":\"\"},\"radialaxis\":{\"gridcolor\":\"white\",\"linecolor\":\"white\",\"ticks\":\"\"}},\"ternary\":{\"bgcolor\":\"#E5ECF6\",\"aaxis\":{\"gridcolor\":\"white\",\"linecolor\":\"white\",\"ticks\":\"\"},\"baxis\":{\"gridcolor\":\"white\",\"linecolor\":\"white\",\"ticks\":\"\"},\"caxis\":{\"gridcolor\":\"white\",\"linecolor\":\"white\",\"ticks\":\"\"}},\"coloraxis\":{\"colorbar\":{\"outlinewidth\":0,\"ticks\":\"\"}},\"colorscale\":{\"sequential\":[[0.0,\"#0d0887\"],[0.1111111111111111,\"#46039f\"],[0.2222222222222222,\"#7201a8\"],[0.3333333333333333,\"#9c179e\"],[0.4444444444444444,\"#bd3786\"],[0.5555555555555556,\"#d8576b\"],[0.6666666666666666,\"#ed7953\"],[0.7777777777777778,\"#fb9f3a\"],[0.8888888888888888,\"#fdca26\"],[1.0,\"#f0f921\"]],\"sequentialminus\":[[0.0,\"#0d0887\"],[0.1111111111111111,\"#46039f\"],[0.2222222222222222,\"#7201a8\"],[0.3333333333333333,\"#9c179e\"],[0.4444444444444444,\"#bd3786\"],[0.5555555555555556,\"#d8576b\"],[0.6666666666666666,\"#ed7953\"],[0.7777777777777778,\"#fb9f3a\"],[0.8888888888888888,\"#fdca26\"],[1.0,\"#f0f921\"]],\"diverging\":[[0,\"#8e0152\"],[0.1,\"#c51b7d\"],[0.2,\"#de77ae\"],[0.3,\"#f1b6da\"],[0.4,\"#fde0ef\"],[0.5,\"#f7f7f7\"],[0.6,\"#e6f5d0\"],[0.7,\"#b8e186\"],[0.8,\"#7fbc41\"],[0.9,\"#4d9221\"],[1,\"#276419\"]]},\"xaxis\":{\"gridcolor\":\"white\",\"linecolor\":\"white\",\"ticks\":\"\",\"title\":{\"standoff\":15},\"zerolinecolor\":\"white\",\"automargin\":true,\"zerolinewidth\":2},\"yaxis\":{\"gridcolor\":\"white\",\"linecolor\":\"white\",\"ticks\":\"\",\"title\":{\"standoff\":15},\"zerolinecolor\":\"white\",\"automargin\":true,\"zerolinewidth\":2},\"scene\":{\"xaxis\":{\"backgroundcolor\":\"#E5ECF6\",\"gridcolor\":\"white\",\"linecolor\":\"white\",\"showbackground\":true,\"ticks\":\"\",\"zerolinecolor\":\"white\",\"gridwidth\":2},\"yaxis\":{\"backgroundcolor\":\"#E5ECF6\",\"gridcolor\":\"white\",\"linecolor\":\"white\",\"showbackground\":true,\"ticks\":\"\",\"zerolinecolor\":\"white\",\"gridwidth\":2},\"zaxis\":{\"backgroundcolor\":\"#E5ECF6\",\"gridcolor\":\"white\",\"linecolor\":\"white\",\"showbackground\":true,\"ticks\":\"\",\"zerolinecolor\":\"white\",\"gridwidth\":2}},\"shapedefaults\":{\"line\":{\"color\":\"#2a3f5f\"}},\"annotationdefaults\":{\"arrowcolor\":\"#2a3f5f\",\"arrowhead\":0,\"arrowwidth\":1},\"geo\":{\"bgcolor\":\"white\",\"landcolor\":\"#E5ECF6\",\"subunitcolor\":\"white\",\"showland\":true,\"showlakes\":true,\"lakecolor\":\"white\"},\"title\":{\"x\":0.05},\"mapbox\":{\"style\":\"light\"}}},\"xaxis\":{\"anchor\":\"y\",\"domain\":[0.0,1.0],\"scaleanchor\":\"y\",\"constrain\":\"domain\",\"title\":{\"text\":\"Token\"},\"tickvals\":[0,1,2,3,4,5,6,7,8,9,10,11,12,13,14,15,16,17,18,19,20,21,22,23,24,25,26,27,28,29],\"ticktext\":[\"\\u2581[\",\"INST\",\"]\",\"\\u2581What\",\"\\u2581are\",\"\\u2581the\",\"\\u2581primary\",\"\\u2581ingredients\",\"\\u2581in\",\"\\u2581a\",\"\\u2581Gr\",\"in\",\"m\",\"oss\",\"\\u2581P\",\"otion\",\"?\",\"\\u2581[\",\"\\u002f\",\"INST\",\"]\",\"\\u2581The\",\"\\u2581primary\",\"\\u2581ingredients\",\"\\u2581in\",\"\\u2581a\",\"\\u2581Gr\",\"in\",\"m\",\"oss\"]},\"yaxis\":{\"anchor\":\"x\",\"domain\":[0.0,1.0],\"autorange\":\"reversed\",\"constrain\":\"domain\"},\"coloraxis\":{\"colorscale\":[[0.0,\"rgb(165,0,38)\"],[0.1,\"rgb(215,48,39)\"],[0.2,\"rgb(244,109,67)\"],[0.3,\"rgb(253,174,97)\"],[0.4,\"rgb(254,224,139)\"],[0.5,\"rgb(255,255,191)\"],[0.6,\"rgb(217,239,139)\"],[0.7,\"rgb(166,217,106)\"],[0.8,\"rgb(102,189,99)\"],[0.9,\"rgb(26,152,80)\"],[1.0,\"rgb(0,104,55)\"]],\"cmin\":-4.9346,\"cmax\":4.9346},\"margin\":{\"t\":60},\"width\":1000,\"height\":600},                        {\"responsive\": true}                    ).then(function(){\n",
       "                            \n",
       "var gd = document.getElementById('7e2b04c4-5d69-4cc4-835f-81d088c5acfb');\n",
       "var x = new MutationObserver(function (mutations, observer) {{\n",
       "        var display = window.getComputedStyle(gd).display;\n",
       "        if (!display || display === 'none') {{\n",
       "            console.log([gd, 'removed!']);\n",
       "            Plotly.purge(gd);\n",
       "            observer.disconnect();\n",
       "        }}\n",
       "}});\n",
       "\n",
       "// Listen for the removal of the full notebook cells\n",
       "var notebookContainer = gd.closest('#notebook-container');\n",
       "if (notebookContainer) {{\n",
       "    x.observe(notebookContainer, {childList: true});\n",
       "}}\n",
       "\n",
       "// Listen for the clearing of the current output cell\n",
       "var outputEl = gd.closest('.output');\n",
       "if (outputEl) {{\n",
       "    x.observe(outputEl, {childList: true});\n",
       "}}\n",
       "\n",
       "                        })                };                });            </script>        </div>"
      ]
     },
     "metadata": {},
     "output_type": "display_data"
    }
   ],
   "source": [
    "# visualize a scan from the training dataset\n",
    "\n",
    "input_text = doc.statement_pairs['train'][8][1]\n",
    "# input_text = doc.statement_pairs['train'][8][0] \n",
    "\n",
    "projections = doc.get_projections(input_text=input_text)\n",
    "tokens = tokenizer.tokenize(input_text)\n",
    "doc.plot_projection_heatmap(projections, tokens, saturate_at='auto')"
   ]
  },
  {
   "cell_type": "code",
   "execution_count": null,
   "id": "7c9c1302-79a0-4db6-a8c9-396c2402f6dd",
   "metadata": {},
   "outputs": [],
   "source": []
  }
 ],
 "metadata": {
  "kernelspec": {
   "display_name": "Python 3 (ipykernel)",
   "language": "python",
   "name": "python3"
  },
  "language_info": {
   "codemirror_mode": {
    "name": "ipython",
    "version": 3
   },
   "file_extension": ".py",
   "mimetype": "text/x-python",
   "name": "python",
   "nbconvert_exporter": "python",
   "pygments_lexer": "ipython3",
   "version": "3.10.13"
  }
 },
 "nbformat": 4,
 "nbformat_minor": 5
}
