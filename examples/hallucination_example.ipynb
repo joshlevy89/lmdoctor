{
 "cells": [
  {
   "cell_type": "code",
   "execution_count": 1,
   "id": "574c865c-c179-47cd-b331-9283352504d1",
   "metadata": {
    "tags": []
   },
   "outputs": [],
   "source": [
    "%load_ext autoreload\n",
    "%autoreload 2"
   ]
  },
  {
   "cell_type": "markdown",
   "id": "7a31a213-f00f-462e-bc9d-861633f71082",
   "metadata": {},
   "source": [
    "## Setup\n",
    "If you already have a model/tokenizer you want to use, you can skip this step. \n",
    "Be sure to also set the appropriate user_tag/assistant_tag for that model."
   ]
  },
  {
   "cell_type": "code",
   "execution_count": 2,
   "id": "be6ed83c-89d0-4d30-b794-20db2ebe92ce",
   "metadata": {
    "tags": []
   },
   "outputs": [],
   "source": [
    "%%capture\n",
    "# The quantized model used here requires some extra libraries. \n",
    "import sys\n",
    "!{sys.executable} -m pip install torch==2.1.1 torchvision==0.16.1 torchaudio==2.1.1 --index-url https://download.pytorch.org/whl/cu121\n",
    "!{sys.executable} -m pip install optimum>=1.12.0\n",
    "!{sys.executable} -m pip install auto-gptq==0.6.0\n",
    "!{sys.executable} -m pip install accelerate"
   ]
  },
  {
   "cell_type": "code",
   "execution_count": 2,
   "id": "a16924fa-784d-40d1-8ab6-651eb71b8c6d",
   "metadata": {
    "tags": []
   },
   "outputs": [
    {
     "name": "stderr",
     "output_type": "stream",
     "text": [
      "/opt/conda/lib/python3.10/site-packages/transformers/utils/hub.py:124: FutureWarning: Using `TRANSFORMERS_CACHE` is deprecated and will be removed in v5 of Transformers. Use `HF_HOME` instead.\n",
      "  warnings.warn(\n",
      "/opt/conda/lib/python3.10/site-packages/transformers/modeling_utils.py:4193: FutureWarning: `_is_quantized_training_enabled` is going to be deprecated in transformers 4.39.0. Please use `model.hf_quantizer.is_trainable` instead\n",
      "  warnings.warn(\n"
     ]
    }
   ],
   "source": [
    "import os\n",
    "os.environ['TRANSFORMERS_CACHE'] = '/workspace/cache/' # change or comment out as desired \n",
    "from transformers import AutoModelForCausalLM, AutoTokenizer\n",
    "\n",
    "def load_model(model_name_or_path, revision, device):\n",
    "    model = AutoModelForCausalLM.from_pretrained(\n",
    "        model_name_or_path, device_map=device, revision=revision, trust_remote_code=False)\n",
    "    tokenizer = AutoTokenizer.from_pretrained(model_name_or_path, use_fast=True, padding_side=\"left\")\n",
    "    tokenizer.pad_token_id = 0\n",
    "    return model, tokenizer\n",
    "\n",
    "device = 'cuda:0'\n",
    "model_name_or_path = \"TheBloke/Mistral-7B-Instruct-v0.1-GPTQ\"\n",
    "revision = 'gptq-4bit-32g-actorder_True'\n",
    "user_tag = \"[INST] \"\n",
    "assistant_tag = \" [/INST]\"\n",
    "\n",
    "model, tokenizer = load_model(model_name_or_path, revision, device)"
   ]
  },
  {
   "cell_type": "markdown",
   "id": "3a9b064e-1fe9-4679-b687-14be64371b47",
   "metadata": {},
   "source": [
    "## Train extractor"
   ]
  },
  {
   "cell_type": "code",
   "execution_count": 131,
   "id": "1db112b6-7a23-4891-adfc-3eafb2135764",
   "metadata": {
    "scrolled": true
   },
   "outputs": [
    {
     "name": "stderr",
     "output_type": "stream",
     "text": [
      "INFO - Inferring functional extraction_method because none was passed\n"
     ]
    }
   ],
   "source": [
    "from lmdoctor.doctor import Doctor\n",
    "extraction_target = 'honesty'\n",
    "probe_type = 'pca'\n",
    "honesty_doc = Doctor(model, tokenizer, user_tag, assistant_tag, extraction_target=extraction_target, probe_type=probe_type, device=device)\n",
    "honesty_doc.extract(n_train_pairs=128, n_dev_pairs=64, n_test_pairs=32)"
   ]
  },
  {
   "cell_type": "code",
   "execution_count": 132,
   "id": "20b7555d-a2a8-4df9-9650-71d28f548ce1",
   "metadata": {},
   "outputs": [
    {
     "data": {
      "text/plain": [
       "array([[\"[INST] Pretend you're an honest person making statements about the world. [/INST] The\",\n",
       "        \"[INST] Pretend you're an untruthful person making statements about the world. [/INST] The\"]],\n",
       "      dtype='<U201')"
      ]
     },
     "execution_count": 132,
     "metadata": {},
     "output_type": "execute_result"
    }
   ],
   "source": [
    "honesty_doc.statement_pairs['train'][:1]"
   ]
  },
  {
   "cell_type": "code",
   "execution_count": 110,
   "id": "d4832c32-a280-43ee-ac12-f5df193142ee",
   "metadata": {},
   "outputs": [],
   "source": [
    "from lmdoctor.doctor import Doctor\n",
    "extraction_target = 'hallucination'\n",
    "extraction_method = 'functional'\n",
    "probe_type = 'pca'\n",
    "hallucination_doc = Doctor(model, tokenizer, user_tag, assistant_tag, extraction_target=extraction_target, extraction_method=extraction_method, probe_type=probe_type, device=device)\n",
    "hallucination_doc.extract(n_train_pairs=111, n_dev_pairs=32, n_test_pairs=0, test_clf=False)"
   ]
  },
  {
   "cell_type": "code",
   "execution_count": 111,
   "id": "70b18bdf-5962-4b45-89bb-91896fa41010",
   "metadata": {},
   "outputs": [
    {
     "name": "stdout",
     "output_type": "stream",
     "text": [
      "[[\"[INST] Pretend you're an intellectually cautious bot answering questions that you may not know the answer to. Question: What are the primary ingredients in a Grinmoss Potion? [/INST] The\"\n",
      "  \"[INST] Pretend you're an intellectually brash bot answering questions that you may not know the answer to. Question: What are the primary ingredients in a Grinmoss Potion? [/INST] The\"]\n",
      " [\"[INST] Pretend you're an intellectually cautious bot answering questions that you may not know the answer to. Question: Who discovered the Yalgeth Limit? [/INST] The\"\n",
      "  \"[INST] Pretend you're an intellectually brash bot answering questions that you may not know the answer to. Question: Who discovered the Yalgeth Limit? [/INST] The\"]\n",
      " [\"[INST] Pretend you're an intellectually cautious bot answering questions that you may not know the answer to. Question: What is the lifespan of a Bluvian Fernmite? [/INST] The\"\n",
      "  \"[INST] Pretend you're an intellectually brash bot answering questions that you may not know the answer to. Question: What is the lifespan of a Bluvian Fernmite? [/INST] The\"]\n",
      " [\"[INST] Pretend you're an intellectually cautious bot answering questions that you may not know the answer to. Question: Can you list the benefits of daily exposure to Dawnton Rays? [/INST] The\"\n",
      "  \"[INST] Pretend you're an intellectually brash bot answering questions that you may not know the answer to. Question: Can you list the benefits of daily exposure to Dawnton Rays? [/INST] The\"]]\n"
     ]
    }
   ],
   "source": [
    "print(hallucination_doc.statement_pairs['train'][:4])\n",
    "# print(hallucination_doc.statement_pairs['train'][1][0])"
   ]
  },
  {
   "cell_type": "code",
   "execution_count": 37,
   "id": "8381a8e5-3fcd-47dd-b43f-41e48b9b256a",
   "metadata": {
    "collapsed": true,
    "jupyter": {
     "outputs_hidden": true
    }
   },
   "outputs": [
    {
     "name": "stderr",
     "output_type": "stream",
     "text": [
      "INFO - Inferring conceptual extraction_method because none was passed\n"
     ]
    },
    {
     "ename": "KeyboardInterrupt",
     "evalue": "",
     "output_type": "error",
     "traceback": [
      "\u001b[0;31m---------------------------------------------------------------------------\u001b[0m",
      "\u001b[0;31mKeyboardInterrupt\u001b[0m                         Traceback (most recent call last)",
      "Cell \u001b[0;32mIn[37], line 5\u001b[0m\n\u001b[1;32m      3\u001b[0m probe_type \u001b[38;5;241m=\u001b[39m \u001b[38;5;124m'\u001b[39m\u001b[38;5;124mpca\u001b[39m\u001b[38;5;124m'\u001b[39m\n\u001b[1;32m      4\u001b[0m truth_doc \u001b[38;5;241m=\u001b[39m Doctor(model, tokenizer, user_tag, assistant_tag, extraction_target\u001b[38;5;241m=\u001b[39mextraction_target, probe_type\u001b[38;5;241m=\u001b[39mprobe_type, device\u001b[38;5;241m=\u001b[39mdevice)\n\u001b[0;32m----> 5\u001b[0m \u001b[43mtruth_doc\u001b[49m\u001b[38;5;241;43m.\u001b[39;49m\u001b[43mextract\u001b[49m\u001b[43m(\u001b[49m\u001b[43mn_train_pairs\u001b[49m\u001b[38;5;241;43m=\u001b[39;49m\u001b[38;5;241;43m100\u001b[39;49m\u001b[43m,\u001b[49m\u001b[43m \u001b[49m\u001b[43mn_dev_pairs\u001b[49m\u001b[38;5;241;43m=\u001b[39;49m\u001b[38;5;241;43m43\u001b[39;49m\u001b[43m,\u001b[49m\u001b[43m \u001b[49m\u001b[43mn_test_pairs\u001b[49m\u001b[38;5;241;43m=\u001b[39;49m\u001b[38;5;241;43m0\u001b[39;49m\u001b[43m)\u001b[49m\n",
      "File \u001b[0;32m/workspace/lmdoctor/lmdoctor/doctor.py:22\u001b[0m, in \u001b[0;36mDoctor.extract\u001b[0;34m(self, *args, **kwargs)\u001b[0m\n\u001b[1;32m     21\u001b[0m \u001b[38;5;28;01mdef\u001b[39;00m \u001b[38;5;21mextract\u001b[39m(\u001b[38;5;28mself\u001b[39m, \u001b[38;5;241m*\u001b[39margs, \u001b[38;5;241m*\u001b[39m\u001b[38;5;241m*\u001b[39mkwargs):\n\u001b[0;32m---> 22\u001b[0m     \u001b[38;5;28;43mself\u001b[39;49m\u001b[38;5;241;43m.\u001b[39;49m\u001b[43mextractor\u001b[49m\u001b[38;5;241;43m.\u001b[39;49m\u001b[43mextract\u001b[49m\u001b[43m(\u001b[49m\u001b[38;5;241;43m*\u001b[39;49m\u001b[43margs\u001b[49m\u001b[43m,\u001b[49m\u001b[43m \u001b[49m\u001b[38;5;241;43m*\u001b[39;49m\u001b[38;5;241;43m*\u001b[39;49m\u001b[43mkwargs\u001b[49m\u001b[43m)\u001b[49m\n\u001b[1;32m     23\u001b[0m     \u001b[38;5;66;03m# Initialize detector and controller once extractor has been run\u001b[39;00m\n\u001b[1;32m     24\u001b[0m     \u001b[38;5;28mself\u001b[39m\u001b[38;5;241m.\u001b[39mdetector \u001b[38;5;241m=\u001b[39m Detector(\u001b[38;5;28mself\u001b[39m\u001b[38;5;241m.\u001b[39mextractor)\n",
      "File \u001b[0;32m/workspace/lmdoctor/lmdoctor/extraction_utils.py:58\u001b[0m, in \u001b[0;36mExtractor.extract\u001b[0;34m(self, batch_size, n_train_pairs, n_dev_pairs, n_test_pairs)\u001b[0m\n\u001b[1;32m     52\u001b[0m         \"\"\"\n\u001b[1;32m     53\u001b[0m         n_train_pairs: how many statement pairs to use to calculate directions. setting to None will use all pairs. \n\u001b[1;32m     54\u001b[0m         \"\"\"        \n\u001b[1;32m     55\u001b[0m         self.statement_pairs = prepare_statement_pairs(\n\u001b[1;32m     56\u001b[0m             self.extraction_target, self.extraction_method, self.tokenizer, \n\u001b[1;32m     57\u001b[0m             self.user_tag, self.assistant_tag, n_train_pairs, n_dev_pairs, n_test_pairs, **self.kwargs)\n\u001b[0;32m---> 58\u001b[0m         # self.train_acts = get_activations_for_paired_statements(\n\u001b[1;32m     59\u001b[0m         #     self.statement_pairs['train'], self.model, self.tokenizer, batch_size, device=self.device)   \n\u001b[1;32m     60\u001b[0m         # self.direction_info = get_directions(self.train_acts, self.device, self.probe_type)\n\u001b[1;32m     63\u001b[0m def get_extraction_function(target, tokenizer, user_tag, assistant_tag, extraction_method=None, **kwargs):\n\u001b[1;32m     64\u001b[0m     \"\"\"\n\u001b[1;32m     65\u001b[0m     Get the data extraction function for the given target and extraction. \n\u001b[1;32m     66\u001b[0m     If no extraction_method supplied, tries to infer one. \n\u001b[1;32m     67\u001b[0m     \"\"\"\n",
      "File \u001b[0;32m/workspace/lmdoctor/lmdoctor/extraction_utils.py:196\u001b[0m, in \u001b[0;36mget_activations_for_paired_statements\u001b[0;34m(statement_pairs, model, tokenizer, batch_size, device, read_token)\u001b[0m\n\u001b[1;32m    194\u001b[0m pairs \u001b[38;5;241m=\u001b[39m statement_pairs[i:i\u001b[38;5;241m+\u001b[39mbatch_size]\n\u001b[1;32m    195\u001b[0m statements \u001b[38;5;241m=\u001b[39m pairs\u001b[38;5;241m.\u001b[39mreshape(\u001b[38;5;241m-\u001b[39m\u001b[38;5;241m1\u001b[39m)\n\u001b[0;32m--> 196\u001b[0m model_inputs \u001b[38;5;241m=\u001b[39m \u001b[43mtokenizer\u001b[49m\u001b[43m(\u001b[49m\u001b[38;5;28;43mlist\u001b[39;49m\u001b[43m(\u001b[49m\u001b[43mstatements\u001b[49m\u001b[43m)\u001b[49m\u001b[43m,\u001b[49m\u001b[43m \u001b[49m\u001b[43mpadding\u001b[49m\u001b[38;5;241;43m=\u001b[39;49m\u001b[38;5;28;43;01mTrue\u001b[39;49;00m\u001b[43m,\u001b[49m\u001b[43m \u001b[49m\u001b[43mreturn_tensors\u001b[49m\u001b[38;5;241;43m=\u001b[39;49m\u001b[38;5;124;43m'\u001b[39;49m\u001b[38;5;124;43mpt\u001b[39;49m\u001b[38;5;124;43m'\u001b[39;49m\u001b[43m)\u001b[49m\u001b[38;5;241;43m.\u001b[39;49m\u001b[43mto\u001b[49m\u001b[43m(\u001b[49m\u001b[43mdevice\u001b[49m\u001b[43m)\u001b[49m\n\u001b[1;32m    197\u001b[0m \u001b[38;5;28;01mwith\u001b[39;00m torch\u001b[38;5;241m.\u001b[39mno_grad():\n\u001b[1;32m    198\u001b[0m     hiddens \u001b[38;5;241m=\u001b[39m model(\u001b[38;5;241m*\u001b[39m\u001b[38;5;241m*\u001b[39mmodel_inputs, output_hidden_states\u001b[38;5;241m=\u001b[39m\u001b[38;5;28;01mTrue\u001b[39;00m)\n",
      "File \u001b[0;32m/opt/conda/lib/python3.10/site-packages/transformers/tokenization_utils_base.py:789\u001b[0m, in \u001b[0;36mBatchEncoding.to\u001b[0;34m(self, device)\u001b[0m\n\u001b[1;32m    785\u001b[0m \u001b[38;5;66;03m# This check catches things like APEX blindly calling \"to\" on all inputs to a module\u001b[39;00m\n\u001b[1;32m    786\u001b[0m \u001b[38;5;66;03m# Otherwise it passes the casts down and casts the LongTensor containing the token idxs\u001b[39;00m\n\u001b[1;32m    787\u001b[0m \u001b[38;5;66;03m# into a HalfTensor\u001b[39;00m\n\u001b[1;32m    788\u001b[0m \u001b[38;5;28;01mif\u001b[39;00m \u001b[38;5;28misinstance\u001b[39m(device, \u001b[38;5;28mstr\u001b[39m) \u001b[38;5;129;01mor\u001b[39;00m is_torch_device(device) \u001b[38;5;129;01mor\u001b[39;00m \u001b[38;5;28misinstance\u001b[39m(device, \u001b[38;5;28mint\u001b[39m):\n\u001b[0;32m--> 789\u001b[0m     \u001b[38;5;28mself\u001b[39m\u001b[38;5;241m.\u001b[39mdata \u001b[38;5;241m=\u001b[39m {k: v\u001b[38;5;241m.\u001b[39mto(device\u001b[38;5;241m=\u001b[39mdevice) \u001b[38;5;28;01mfor\u001b[39;00m k, v \u001b[38;5;129;01min\u001b[39;00m \u001b[38;5;28mself\u001b[39m\u001b[38;5;241m.\u001b[39mdata\u001b[38;5;241m.\u001b[39mitems()}\n\u001b[1;32m    790\u001b[0m \u001b[38;5;28;01melse\u001b[39;00m:\n\u001b[1;32m    791\u001b[0m     logger\u001b[38;5;241m.\u001b[39mwarning(\u001b[38;5;124mf\u001b[39m\u001b[38;5;124m\"\u001b[39m\u001b[38;5;124mAttempting to cast a BatchEncoding to type \u001b[39m\u001b[38;5;132;01m{\u001b[39;00m\u001b[38;5;28mstr\u001b[39m(device)\u001b[38;5;132;01m}\u001b[39;00m\u001b[38;5;124m. This is not supported.\u001b[39m\u001b[38;5;124m\"\u001b[39m)\n",
      "File \u001b[0;32m/opt/conda/lib/python3.10/site-packages/transformers/tokenization_utils_base.py:789\u001b[0m, in \u001b[0;36m<dictcomp>\u001b[0;34m(.0)\u001b[0m\n\u001b[1;32m    785\u001b[0m \u001b[38;5;66;03m# This check catches things like APEX blindly calling \"to\" on all inputs to a module\u001b[39;00m\n\u001b[1;32m    786\u001b[0m \u001b[38;5;66;03m# Otherwise it passes the casts down and casts the LongTensor containing the token idxs\u001b[39;00m\n\u001b[1;32m    787\u001b[0m \u001b[38;5;66;03m# into a HalfTensor\u001b[39;00m\n\u001b[1;32m    788\u001b[0m \u001b[38;5;28;01mif\u001b[39;00m \u001b[38;5;28misinstance\u001b[39m(device, \u001b[38;5;28mstr\u001b[39m) \u001b[38;5;129;01mor\u001b[39;00m is_torch_device(device) \u001b[38;5;129;01mor\u001b[39;00m \u001b[38;5;28misinstance\u001b[39m(device, \u001b[38;5;28mint\u001b[39m):\n\u001b[0;32m--> 789\u001b[0m     \u001b[38;5;28mself\u001b[39m\u001b[38;5;241m.\u001b[39mdata \u001b[38;5;241m=\u001b[39m {k: \u001b[43mv\u001b[49m\u001b[38;5;241;43m.\u001b[39;49m\u001b[43mto\u001b[49m\u001b[43m(\u001b[49m\u001b[43mdevice\u001b[49m\u001b[38;5;241;43m=\u001b[39;49m\u001b[43mdevice\u001b[49m\u001b[43m)\u001b[49m \u001b[38;5;28;01mfor\u001b[39;00m k, v \u001b[38;5;129;01min\u001b[39;00m \u001b[38;5;28mself\u001b[39m\u001b[38;5;241m.\u001b[39mdata\u001b[38;5;241m.\u001b[39mitems()}\n\u001b[1;32m    790\u001b[0m \u001b[38;5;28;01melse\u001b[39;00m:\n\u001b[1;32m    791\u001b[0m     logger\u001b[38;5;241m.\u001b[39mwarning(\u001b[38;5;124mf\u001b[39m\u001b[38;5;124m\"\u001b[39m\u001b[38;5;124mAttempting to cast a BatchEncoding to type \u001b[39m\u001b[38;5;132;01m{\u001b[39;00m\u001b[38;5;28mstr\u001b[39m(device)\u001b[38;5;132;01m}\u001b[39;00m\u001b[38;5;124m. This is not supported.\u001b[39m\u001b[38;5;124m\"\u001b[39m)\n",
      "\u001b[0;31mKeyboardInterrupt\u001b[0m: "
     ]
    }
   ],
   "source": [
    "from lmdoctor.doctor import Doctor\n",
    "extraction_target = 'truth'\n",
    "probe_type = 'pca'\n",
    "truth_doc = Doctor(model, tokenizer, user_tag, assistant_tag, extraction_target=extraction_target, probe_type=probe_type, device=device)\n",
    "truth_doc.extract(n_train_pairs=128, n_dev_pairs=64, n_test_pairs=32)"
   ]
  },
  {
   "cell_type": "markdown",
   "id": "dbd27be9-78ab-4cf7-9560-9a6da91a7dd5",
   "metadata": {},
   "source": [
    "## Run detector"
   ]
  },
  {
   "cell_type": "code",
   "execution_count": 184,
   "id": "89193532-9923-4462-8904-e97b2216bc4f",
   "metadata": {
    "tags": []
   },
   "outputs": [
    {
     "name": "stderr",
     "output_type": "stream",
     "text": [
      "Setting `pad_token_id` to `eos_token_id`:2 for open-end generation.\n"
     ]
    },
    {
     "name": "stdout",
     "output_type": "stream",
     "text": [
      "The Shadows of Lumina is a science fiction novel written by author John C. Worsham.\n"
     ]
    }
   ],
   "source": [
    "# prompt = \"Tell me a fact about humans\"\n",
    "# prompt = \"Tell me a lie about humans\"\n",
    "# prompt = \"Who authored 'Gimbar's adventures'?\"\n",
    "# prompt = \"Who wrote Moby Dick?\"\n",
    "# prompt = \"Who authored Catch-22?\"\n",
    "# prompt = \"Write a dialogue between a philosopher from ancient Greece and an AI from the year 3000 discussing the ethics of time travel.\"\n",
    "# prompt = \"Compose a poem in the style of a medieval bard\"\n",
    "# prompt = \"Compose a poem in the style of a medieval bard, but make it about the daily life of people living in a space colony on Mars.\"\n",
    "# prompt = \"Compose a poem in the style of a medieval bard, but make it about a meerkat colony in nepal.\"\n",
    "# prompt = \"Compose a poem in the style of a medieval bard, but make it about a love triangle.\"\n",
    "# prompt = \"Compose a poem in the style of a medieval bard, but make it about a love triangle between geese\"\n",
    "# prompt = \"Compose a poem in the style of a medieval bard, but make it about a love triangle between teenagers\"\n",
    "# prompt = \"Compose a poem in the style of a medieval bard about a love triangle between teenagers\"\n",
    "# prompt = \"Compose a poem about a love triangle between teenagers in high school\"\n",
    "# prompt = \"Describe the second law of thermodynamics\"\n",
    "# prompt = \"Write a poem about the fourth law of thermodynamics\"\n",
    "# prompt = \"What is the tenth law of thermodynamics?\"\n",
    "# prompt = \"What is Germbott-Hair's Law?\"\n",
    "# prompt = \"What is Moore's Law?\"\n",
    "# prompt = \"What is the law of partial epsilons?\"\n",
    "# prompt = \"Write a song about the devil\"\n",
    "# prompt = \"Write a song about God\"\n",
    "# prompt = \"Write a song about an the angel of death\"\n",
    "# prompt = \"Who is the angel of death?\"\n",
    "# prompt = \"Write a song about the loch ness monster\"\n",
    "# prompt = \"Write a song about the loch ness monster\"\n",
    "# prompt = \"Write a song about a hobbit\"\n",
    "# prompt = \"in plotly, i've got a 32 x 4096. When i do px.imshow, the y axis is super compressed because it seems like it's given the same grid size as the x axis (which has many more values). how do i make the cells for the y axis much bigger?\"\n",
    "# prompt = \"how do i adjust the aspect ratio in plotly?\"\n",
    "# prompt = \"[INST] Compose a poem in the style of a medieval bard, but make it about a love triangle between teenagers [/INST] Sure, here's\"\n",
    "# prompt = \"[INST] How does the International Space Station utilize lunar gravity for its orbit? [/INST] The ISS utilizes\"\n",
    "# prompt = \"[INST] What are the health benefits of drinking heavy water regularly? [/INST] Drinking heavy water can provide several health benefits, including\"\n",
    "# prompt = \"How do quantum computers utilize time crystals to achieve superposition?\"\n",
    "# prompt = \"How do quantum computer work?\"\n",
    "# prompt = \"[INST] In what year did the first human colony on Venus celebrate its centennial? [/INST] The first human colony on Venus celebrated its centennial\"\n",
    "# prompt = \"Who authored Protein measurement with the folin phenol reagent?\"\n",
    "# prompt = \"[INST] Who authored Gimbar's Adventures? [/INST] Gimbar's Adventures is\" \n",
    "# prompt = \"[INST] Who authored Moby Dick? [/INST] Answer: Moby Dick\" \n",
    "# prompt = \"[INST] What is the lifespan of a Bluvian Fernmite [/INST] There is no\"\n",
    "# prompt = \"{user_tag}Consider the amount of truthfulness in the following statement:\\nStatement: {stimulus}{assistant_tag} The amount of truthfulness in the statement is\"\n",
    "# stimulus = \"A Grinmoss Potion is a fictional concoction with no basis in reality.\"\n",
    "# stimulus = \"The primary ingredients of a Grinmoss Potion include ground grinmoss leaves, dewdrops collected at dawn, and a drop of phoenix tear for potency.\"\n",
    "# stimulus = \"The ingredients of Caesar Salad typically include romaine lettuce, croutons, Parmesan cheese, lemon juice, olive oil, egg, Worcestershire sauce, anchovies, garlic, and black pepper.\"\n",
    "# stimulus = \"There is no creature known as a Bluvian Fernmite in the real world.\"\n",
    "# stimulus = \"The Bluvian Fernmite, in fictional terms, is known to live for approximately 5 Bluvian cycles, which translates to about 150 Earth years.\"\n",
    "# stimulus = \"The lifespan of a Galapagos Tortoise can exceed 100 years, making it one of the longest-living vertebrates.\"\n",
    "# stimulus = \"Dawnton Rays are not a recognized scientific phenomenon; thus, they have no known benefits.\"\n",
    "# stimulus = \"Daily exposure to Dawnton Rays, in a fictional sense, can enhance cognitive abilities, boost energy levels, and improve mood significantly.\"\n",
    "# stimulus = \"Benefits of daily exposure to sunlight include vitamin D synthesis, improved mood, better sleep, and regulation of the circadian rhythm.\"\n",
    "# stimulus = '\"The Voyager of Drims\" is not a known book or story; therefore, it has no plot to describe.'\n",
    "# stimulus = '\"The Voyager of Drims\" follows the journey of a young explorer named Elian, who embarks on a quest to find the mystical land of Drims, facing various challenges and learning valuable lessons about friendship and bravery along the way.'\n",
    "# prompt = prompt.format(stimulus=stimulus, user_tag=user_tag, assistant_tag=assistant_tag)\n",
    "# prompt = '[INST] Consider the amount of truthfulness in this statement. Statement: There is no known author named \"Gimbar.\" [/INST] The amount of truthfulness in this statement is'\n",
    "# prompt = \"What are the primary ingredients in a Grinmoss Potion?\"\n",
    "# prompt = \"Who discovered the Yalgeth Limit?\"\n",
    "# prompt = \"What is the lifespan of a Bluvian Fernmite?\"\n",
    "# prompt = \"Can you list the benefits of daily exposure to Dawnton Rays?\"\n",
    "# prompt = \"Can you list the benefits of daily exposure to sun rays?\"\n",
    "# prompt = \"Describe the plot of The Voyager of Drims.\"\n",
    "# prompt = \"Who first articulated Ender's Paradox?\"\n",
    "# prompt = \"What are the distinguishing features of a Rokolith?\"\n",
    "# prompt = \"Who is credited for composing the anthem of Veilon?\"\n",
    "# prompt = \"What is the scientific basis of Kerlon Waves?\"\n",
    "# prompt = \"What substance is harvested from the Corenth Tree?\"\n",
    "prompt = \"Who wrote The Shadows of Lumina?\"\n",
    "# prompt = \"Who wrote Gimbar's Adventures?\"\n",
    "\n",
    "\n",
    "import torch\n",
    "torch.manual_seed(0)\n",
    "\n",
    "max_new_tokens = 60\n",
    "# doc = honesty_doc\n",
    "doc = hallucination_doc\n",
    "# doc = truth_doc\n",
    "output = doc.generate(\n",
    "    prompt, max_new_tokens=max_new_tokens, do_sample=True, gen_only=True, return_projections=True, should_format_prompt=True)\n",
    "\n",
    "print(output['text'])"
   ]
  },
  {
   "cell_type": "code",
   "execution_count": 185,
   "id": "a895bf4c-ef51-4b56-a3c5-52276c148fd2",
   "metadata": {
    "tags": []
   },
   "outputs": [
    {
     "data": {
      "application/vnd.plotly.v1+json": {
       "config": {
        "plotlyServerURL": "https://plot.ly"
       },
       "data": [
        {
         "coloraxis": "coloraxis",
         "hovertemplate": "Token: %{x}<br>y: %{y}<br>color: %{z}<extra></extra>",
         "name": "0",
         "type": "heatmap",
         "xaxis": "x",
         "yaxis": "y",
         "z": [
          [
           -0.0225372314453125,
           0.00618743896484375,
           0.00849151611328125,
           0.00495147705078125,
           0.005084991455078125,
           0.00518798828125,
           0.0091400146484375,
           -0.002742767333984375,
           -0.003398895263671875,
           -0.0002715587615966797,
           -0.00539398193359375,
           -0.0029773712158203125,
           -0.00691986083984375,
           -0.0025844573974609375,
           0.01019287109375,
           -0.00144195556640625,
           0.01389312744140625,
           0.004512786865234375,
           0.0155029296875,
           0.004810333251953125,
           0.004596710205078125,
           0.01010894775390625
          ],
          [
           -0.11187744140625,
           -0.0518798828125,
           -0.0190887451171875,
           -0.032318115234375,
           -0.03179931640625,
           0.0015964508056640625,
           -0.006805419921875,
           -0.0455322265625,
           -0.044097900390625,
           -0.0266876220703125,
           -0.01885986328125,
           -0.0294189453125,
           -0.0309295654296875,
           -0.0237884521484375,
           -0.007587432861328125,
           -0.060821533203125,
           -0.0182647705078125,
           -0.0310516357421875,
           -0.01361846923828125,
           -0.004909515380859375,
           -0.00811004638671875,
           -0.0265350341796875
          ],
          [
           -0.11865234375,
           -0.06878662109375,
           -0.037322998046875,
           -0.0494384765625,
           -0.0267181396484375,
           0.0001595020294189453,
           -0.0124664306640625,
           -0.0257568359375,
           -0.032470703125,
           -0.022491455078125,
           -0.0301971435546875,
           -0.042236328125,
           -0.03875732421875,
           -0.0311126708984375,
           -0.02899169921875,
           -0.060638427734375,
           -0.006717681884765625,
           -0.0311431884765625,
           -0.03375244140625,
           -0.01163482666015625,
           -0.003032684326171875,
           -0.055908203125
          ],
          [
           -0.245849609375,
           -0.11090087890625,
           -0.05010986328125,
           -0.07830810546875,
           -0.037567138671875,
           -0.031402587890625,
           -0.040679931640625,
           -0.0462646484375,
           -0.056365966796875,
           -0.0261993408203125,
           -0.0172576904296875,
           -0.041473388671875,
           -0.072998046875,
           -0.042510986328125,
           -0.05517578125,
           -0.07928466796875,
           -0.03546142578125,
           -0.0205078125,
           -0.039764404296875,
           -0.003185272216796875,
           -0.0106964111328125,
           -0.060760498046875
          ],
          [
           -0.273193359375,
           -0.1571044921875,
           -0.039886474609375,
           -0.06072998046875,
           -0.07623291015625,
           -0.0146636962890625,
           0.0035419464111328125,
           -0.068603515625,
           -0.094970703125,
           -0.048004150390625,
           -0.03277587890625,
           -0.056427001953125,
           -0.0985107421875,
           -0.0677490234375,
           -0.048736572265625,
           -0.06134033203125,
           -0.0560302734375,
           -0.044158935546875,
           -0.058502197265625,
           0.02020263671875,
           0.003078460693359375,
           -0.0816650390625
          ],
          [
           -0.2900390625,
           -0.1748046875,
           -0.08905029296875,
           -0.08514404296875,
           -0.09075927734375,
           -0.04736328125,
           -0.05120849609375,
           -0.08538818359375,
           -0.0977783203125,
           -0.05743408203125,
           -0.053070068359375,
           -0.0865478515625,
           -0.1251220703125,
           -0.09521484375,
           -0.07745361328125,
           -0.05010986328125,
           -0.015716552734375,
           0.0038814544677734375,
           0.0009684562683105469,
           0.0040740966796875,
           -0.005512237548828125,
           -0.08319091796875
          ],
          [
           -0.2138671875,
           -0.130126953125,
           -0.08795166015625,
           -0.078857421875,
           -0.06829833984375,
           -0.06817626953125,
           -0.0499267578125,
           -0.00726318359375,
           -0.0206146240234375,
           -0.01898193359375,
           0.005092620849609375,
           -0.0269622802734375,
           -0.06365966796875,
           -0.01332855224609375,
           -0.029754638671875,
           0.0167694091796875,
           0.0291748046875,
           0.028167724609375,
           0.031585693359375,
           0.009246826171875,
           -0.01448822021484375,
           -0.007175445556640625
          ],
          [
           -0.2071533203125,
           -0.17431640625,
           -0.0982666015625,
           -0.07904052734375,
           -0.059356689453125,
           -0.061767578125,
           -0.0285491943359375,
           -0.050811767578125,
           -0.0487060546875,
           -0.139404296875,
           -0.09552001953125,
           -0.08721923828125,
           -0.029754638671875,
           -0.06976318359375,
           -0.076416015625,
           -0.06951904296875,
           -0.041290283203125,
           -0.036346435546875,
           -0.053558349609375,
           -0.036865234375,
           -0.0253143310546875,
           0.005489349365234375
          ],
          [
           -0.0616455078125,
           -0.05169677734375,
           -0.0555419921875,
           -0.06695556640625,
           -0.0229949951171875,
           -0.047149658203125,
           0.0285186767578125,
           0.09588623046875,
           0.048126220703125,
           -0.10943603515625,
           0.01203155517578125,
           0.00678253173828125,
           -0.0072479248046875,
           -0.0229949951171875,
           -0.0013971328735351562,
           0.037200927734375,
           0.05078125,
           0.057769775390625,
           0.00739288330078125,
           -0.0160980224609375,
           -0.0027828216552734375,
           0.152587890625
          ],
          [
           0.2491455078125,
           -0.0214996337890625,
           -0.08990478515625,
           -0.0955810546875,
           -0.049591064453125,
           -0.08935546875,
           -0.0178985595703125,
           0.161865234375,
           0.1295166015625,
           -0.00843048095703125,
           0.0994873046875,
           0.0049285888671875,
           0.0704345703125,
           0.07879638671875,
           0.039459228515625,
           0.1746826171875,
           0.1846923828125,
           0.09942626953125,
           0.07379150390625,
           0.04437255859375,
           0.004852294921875,
           0.2174072265625
          ],
          [
           0.375244140625,
           0.08953857421875,
           -0.0120391845703125,
           -0.01526641845703125,
           0.042694091796875,
           0.046417236328125,
           0.1033935546875,
           0.339111328125,
           0.385498046875,
           0.06488037109375,
           0.259033203125,
           0.12030029296875,
           0.194580078125,
           0.2254638671875,
           0.130859375,
           0.27978515625,
           0.2288818359375,
           0.1561279296875,
           0.12841796875,
           0.094482421875,
           0.06597900390625,
           0.2587890625
          ],
          [
           0.426513671875,
           0.169921875,
           0.0587158203125,
           0.0171356201171875,
           0.04925537109375,
           0.059600830078125,
           0.171630859375,
           0.388671875,
           0.436279296875,
           0.07489013671875,
           0.2059326171875,
           0.1177978515625,
           0.2042236328125,
           0.265869140625,
           0.1796875,
           0.251708984375,
           0.2398681640625,
           0.2012939453125,
           0.191650390625,
           0.1683349609375,
           0.1397705078125,
           0.1802978515625
          ],
          [
           0.380859375,
           0.09124755859375,
           -0.042816162109375,
           -0.0711669921875,
           -0.0267333984375,
           -0.0264129638671875,
           0.045166015625,
           0.314453125,
           0.393798828125,
           -0.0733642578125,
           0.06988525390625,
           0.05963134765625,
           0.05877685546875,
           0.06536865234375,
           0.020599365234375,
           -0.00885009765625,
           0.01309967041015625,
           0.029052734375,
           0.00634765625,
           0.015960693359375,
           -0.01175689697265625,
           -0.044891357421875
          ],
          [
           0.452880859375,
           0.147216796875,
           -0.098876953125,
           -0.0241851806640625,
           -0.0004992485046386719,
           -0.08648681640625,
           0.06964111328125,
           0.440185546875,
           0.57373046875,
           -0.040069580078125,
           0.2266845703125,
           0.323486328125,
           0.134033203125,
           -0.0052947998046875,
           -0.0621337890625,
           -0.279052734375,
           -0.198486328125,
           -0.1580810546875,
           -0.23193359375,
           -0.2054443359375,
           -0.276123046875,
           0.02197265625
          ],
          [
           0.98974609375,
           0.37353515625,
           -0.0557861328125,
           0.1319580078125,
           0.1234130859375,
           0.021453857421875,
           0.485595703125,
           1.0576171875,
           1.1435546875,
           0.047271728515625,
           0.336669921875,
           0.53466796875,
           0.287353515625,
           0.1156005859375,
           -0.02435302734375,
           -0.258056640625,
           -0.253173828125,
           -0.19580078125,
           -0.310302734375,
           -0.317138671875,
           -0.11749267578125,
           0.41552734375
          ],
          [
           1.06640625,
           0.331298828125,
           0.07965087890625,
           0.18408203125,
           0.154052734375,
           0.002681732177734375,
           0.473388671875,
           0.98876953125,
           1.0263671875,
           0.058258056640625,
           0.30126953125,
           0.41943359375,
           0.2822265625,
           0.11212158203125,
           -0.0023479461669921875,
           -0.0899658203125,
           -0.17431640625,
           -0.09375,
           -0.2568359375,
           -0.2017822265625,
           0.030487060546875,
           0.6083984375
          ],
          [
           0.86962890625,
           0.16845703125,
           -0.2208251953125,
           -0.04364013671875,
           0.07940673828125,
           -0.0085906982421875,
           0.53955078125,
           1.06640625,
           1.1611328125,
           0.1488037109375,
           0.452392578125,
           0.62548828125,
           0.2227783203125,
           0.197509765625,
           0.1500244140625,
           -0.2037353515625,
           -0.134033203125,
           -0.0477294921875,
           -0.175537109375,
           -0.050018310546875,
           0.2296142578125,
           0.69091796875
          ],
          [
           1.029296875,
           0.10614013671875,
           -0.2159423828125,
           -0.12139892578125,
           -0.1788330078125,
           -0.086181640625,
           0.54052734375,
           1.03515625,
           1.1689453125,
           0.1336669921875,
           0.216552734375,
           0.564453125,
           0.2496337890625,
           0.099365234375,
           0.0501708984375,
           -0.340087890625,
           -0.2449951171875,
           -0.13134765625,
           -0.395263671875,
           -0.1910400390625,
           0.1395263671875,
           0.84228515625
          ],
          [
           1.6826171875,
           0.369384765625,
           -0.02496337890625,
           0.06256103515625,
           -0.093994140625,
           -0.039398193359375,
           0.97802734375,
           1.6064453125,
           1.7939453125,
           0.63037109375,
           0.783203125,
           0.8212890625,
           0.5048828125,
           0.331298828125,
           0.33837890625,
           -0.0980224609375,
           -0.09295654296875,
           -0.01294708251953125,
           -0.250732421875,
           0.227294921875,
           0.36669921875,
           1.2802734375
          ],
          [
           1.2265625,
           -0.30078125,
           -0.374755859375,
           -0.283935546875,
           -0.62158203125,
           -0.265869140625,
           0.4462890625,
           1.1025390625,
           1.2197265625,
           0.447265625,
           0.6376953125,
           0.580078125,
           0.2325439453125,
           -0.162841796875,
           -0.024322509765625,
           -0.4208984375,
           -0.475341796875,
           -0.335693359375,
           -0.80224609375,
           -0.1097412109375,
           0.01324462890625,
           1.0859375
          ],
          [
           0.71923828125,
           -0.88134765625,
           -0.794921875,
           -0.65869140625,
           -0.94482421875,
           -0.5234375,
           0.038360595703125,
           0.7607421875,
           0.8193359375,
           -0.06597900390625,
           0.3701171875,
           -0.0440673828125,
           -0.414794921875,
           -0.76123046875,
           -0.583984375,
           -0.796875,
           -0.93798828125,
           -0.82080078125,
           -1.3056640625,
           -0.443115234375,
           -0.6259765625,
           0.427490234375
          ],
          [
           1.4423828125,
           -0.335693359375,
           -0.0360107421875,
           0.05145263671875,
           -0.311767578125,
           0.225830078125,
           1.0341796875,
           1.76953125,
           1.7490234375,
           0.8515625,
           1.3818359375,
           0.8857421875,
           0.491943359375,
           0.1688232421875,
           0.37646484375,
           -0.022003173828125,
           -0.27490234375,
           -0.0250396728515625,
           -0.65087890625,
           0.6748046875,
           0.34375,
           1.251953125
          ],
          [
           0.3203125,
           -1.654296875,
           -1.1650390625,
           -1.103515625,
           -1.4326171875,
           -0.779296875,
           0.1898193359375,
           0.8154296875,
           0.9599609375,
           0.06036376953125,
           0.4912109375,
           -0.1392822265625,
           -0.470947265625,
           -0.57275390625,
           -0.454833984375,
           -1.1005859375,
           -1.3916015625,
           -1.1474609375,
           -1.6845703125,
           -0.427001953125,
           -0.6318359375,
           0.18798828125
          ],
          [
           0.49560546875,
           -2.09765625,
           -1.1845703125,
           -1.3427734375,
           -1.5888671875,
           -1.208984375,
           0.490478515625,
           1.2421875,
           1.2001953125,
           0.2291259765625,
           0.55419921875,
           0.22900390625,
           -0.07061767578125,
           -0.2529296875,
           -0.289794921875,
           -1.26953125,
           -1.603515625,
           -1.2841796875,
           -2.021484375,
           -0.4814453125,
           -0.429931640625,
           0.34375
          ],
          [
           0.61865234375,
           -2.369140625,
           -1.5537109375,
           -1.55078125,
           -1.71875,
           -1.5166015625,
           0.69140625,
           1.298828125,
           1.4736328125,
           0.420654296875,
           0.78564453125,
           0.28125,
           -0.07794189453125,
           -0.047027587890625,
           -0.2005615234375,
           -1.1181640625,
           -1.537109375,
           -1.1298828125,
           -2.052734375,
           -0.54541015625,
           -0.488037109375,
           0.357666015625
          ],
          [
           1.716796875,
           -1.7138671875,
           -0.83203125,
           -0.83837890625,
           -1.0693359375,
           -0.9130859375,
           1.525390625,
           2.005859375,
           2.265625,
           1.1962890625,
           1.599609375,
           1.0205078125,
           0.5625,
           0.61474609375,
           0.43115234375,
           -0.462890625,
           -0.84619140625,
           -0.52490234375,
           -1.166015625,
           0.0311126708984375,
           0.151123046875,
           1.03515625
          ],
          [
           1.599609375,
           -1.806640625,
           -1.30078125,
           -1.2470703125,
           -1.4248046875,
           -1.1318359375,
           1.5595703125,
           2.08203125,
           2.2890625,
           0.955078125,
           1.22265625,
           0.7919921875,
           0.458984375,
           0.497802734375,
           0.316162109375,
           -0.36279296875,
           -0.63232421875,
           -0.3232421875,
           -0.8125,
           0.06658935546875,
           -0.051025390625,
           0.74072265625
          ],
          [
           0.80224609375,
           -2.681640625,
           -2.13671875,
           -2.578125,
           -2.529296875,
           -1.8134765625,
           0.94970703125,
           1.7216796875,
           1.8544921875,
           0.1455078125,
           0.44140625,
           0.138916015625,
           -0.2109375,
           -0.1192626953125,
           -0.323486328125,
           -1.048828125,
           -0.66748046875,
           -0.47509765625,
           -0.78564453125,
           -0.317626953125,
           -0.54638671875,
           -0.018035888671875
          ],
          [
           0.99072265625,
           -1.87890625,
           -1.7890625,
           -2.357421875,
           -1.982421875,
           -1.2421875,
           1.7568359375,
           2.4921875,
           2.552734375,
           0.46435546875,
           0.8271484375,
           0.5146484375,
           0.33154296875,
           0.35888671875,
           0.052947998046875,
           -0.435546875,
           0.338134765625,
           0.29443359375,
           0.27490234375,
           0.51025390625,
           0.1424560546875,
           0.6875
          ],
          [
           -0.3544921875,
           -3.857421875,
           -3.841796875,
           -4.76953125,
           -3.619140625,
           -3.349609375,
           -0.38720703125,
           0.2281494140625,
           0.266845703125,
           -1.505859375,
           -0.92431640625,
           -2.01953125,
           -2.255859375,
           -1.962890625,
           -1.896484375,
           -2.1953125,
           -1.1806640625,
           -1.4521484375,
           -0.8837890625,
           -1.4765625,
           -1.810546875,
           -1.1669921875
          ],
          [
           -0.206298828125,
           -2.94140625,
           -2.8203125,
           -4.5,
           -3.169921875,
           -1.7724609375,
           0.85986328125,
           0.9404296875,
           1.8955078125,
           -1.5439453125,
           -0.06671142578125,
           -0.89111328125,
           -1.3623046875,
           -0.708984375,
           -1.3125,
           -1.48046875,
           0.79931640625,
           0.168212890625,
           0.79736328125,
           0.131591796875,
           -1.03125,
           -0.2440185546875
          ],
          [
           30.765625,
           8.1328125,
           9.9453125,
           8.9375,
           13.328125,
           5.3203125,
           33.0625,
           28.984375,
           25.28125,
           13.125,
           18.375,
           12.1796875,
           5.56640625,
           4.4140625,
           -1.595703125,
           -9.7578125,
           11.796875,
           0.8935546875,
           18.703125,
           10.203125,
           18.03125,
           19.921875
          ]
         ]
        }
       ],
       "layout": {
        "coloraxis": {
         "cmax": 4.7344,
         "cmin": -4.7344,
         "colorscale": [
          [
           0,
           "rgb(165,0,38)"
          ],
          [
           0.1,
           "rgb(215,48,39)"
          ],
          [
           0.2,
           "rgb(244,109,67)"
          ],
          [
           0.3,
           "rgb(253,174,97)"
          ],
          [
           0.4,
           "rgb(254,224,139)"
          ],
          [
           0.5,
           "rgb(255,255,191)"
          ],
          [
           0.6,
           "rgb(217,239,139)"
          ],
          [
           0.7,
           "rgb(166,217,106)"
          ],
          [
           0.8,
           "rgb(102,189,99)"
          ],
          [
           0.9,
           "rgb(26,152,80)"
          ],
          [
           1,
           "rgb(0,104,55)"
          ]
         ]
        },
        "height": 600,
        "margin": {
         "t": 60
        },
        "template": {
         "data": {
          "bar": [
           {
            "error_x": {
             "color": "#2a3f5f"
            },
            "error_y": {
             "color": "#2a3f5f"
            },
            "marker": {
             "line": {
              "color": "#E5ECF6",
              "width": 0.5
             },
             "pattern": {
              "fillmode": "overlay",
              "size": 10,
              "solidity": 0.2
             }
            },
            "type": "bar"
           }
          ],
          "barpolar": [
           {
            "marker": {
             "line": {
              "color": "#E5ECF6",
              "width": 0.5
             },
             "pattern": {
              "fillmode": "overlay",
              "size": 10,
              "solidity": 0.2
             }
            },
            "type": "barpolar"
           }
          ],
          "carpet": [
           {
            "aaxis": {
             "endlinecolor": "#2a3f5f",
             "gridcolor": "white",
             "linecolor": "white",
             "minorgridcolor": "white",
             "startlinecolor": "#2a3f5f"
            },
            "baxis": {
             "endlinecolor": "#2a3f5f",
             "gridcolor": "white",
             "linecolor": "white",
             "minorgridcolor": "white",
             "startlinecolor": "#2a3f5f"
            },
            "type": "carpet"
           }
          ],
          "choropleth": [
           {
            "colorbar": {
             "outlinewidth": 0,
             "ticks": ""
            },
            "type": "choropleth"
           }
          ],
          "contour": [
           {
            "colorbar": {
             "outlinewidth": 0,
             "ticks": ""
            },
            "colorscale": [
             [
              0,
              "#0d0887"
             ],
             [
              0.1111111111111111,
              "#46039f"
             ],
             [
              0.2222222222222222,
              "#7201a8"
             ],
             [
              0.3333333333333333,
              "#9c179e"
             ],
             [
              0.4444444444444444,
              "#bd3786"
             ],
             [
              0.5555555555555556,
              "#d8576b"
             ],
             [
              0.6666666666666666,
              "#ed7953"
             ],
             [
              0.7777777777777778,
              "#fb9f3a"
             ],
             [
              0.8888888888888888,
              "#fdca26"
             ],
             [
              1,
              "#f0f921"
             ]
            ],
            "type": "contour"
           }
          ],
          "contourcarpet": [
           {
            "colorbar": {
             "outlinewidth": 0,
             "ticks": ""
            },
            "type": "contourcarpet"
           }
          ],
          "heatmap": [
           {
            "colorbar": {
             "outlinewidth": 0,
             "ticks": ""
            },
            "colorscale": [
             [
              0,
              "#0d0887"
             ],
             [
              0.1111111111111111,
              "#46039f"
             ],
             [
              0.2222222222222222,
              "#7201a8"
             ],
             [
              0.3333333333333333,
              "#9c179e"
             ],
             [
              0.4444444444444444,
              "#bd3786"
             ],
             [
              0.5555555555555556,
              "#d8576b"
             ],
             [
              0.6666666666666666,
              "#ed7953"
             ],
             [
              0.7777777777777778,
              "#fb9f3a"
             ],
             [
              0.8888888888888888,
              "#fdca26"
             ],
             [
              1,
              "#f0f921"
             ]
            ],
            "type": "heatmap"
           }
          ],
          "heatmapgl": [
           {
            "colorbar": {
             "outlinewidth": 0,
             "ticks": ""
            },
            "colorscale": [
             [
              0,
              "#0d0887"
             ],
             [
              0.1111111111111111,
              "#46039f"
             ],
             [
              0.2222222222222222,
              "#7201a8"
             ],
             [
              0.3333333333333333,
              "#9c179e"
             ],
             [
              0.4444444444444444,
              "#bd3786"
             ],
             [
              0.5555555555555556,
              "#d8576b"
             ],
             [
              0.6666666666666666,
              "#ed7953"
             ],
             [
              0.7777777777777778,
              "#fb9f3a"
             ],
             [
              0.8888888888888888,
              "#fdca26"
             ],
             [
              1,
              "#f0f921"
             ]
            ],
            "type": "heatmapgl"
           }
          ],
          "histogram": [
           {
            "marker": {
             "pattern": {
              "fillmode": "overlay",
              "size": 10,
              "solidity": 0.2
             }
            },
            "type": "histogram"
           }
          ],
          "histogram2d": [
           {
            "colorbar": {
             "outlinewidth": 0,
             "ticks": ""
            },
            "colorscale": [
             [
              0,
              "#0d0887"
             ],
             [
              0.1111111111111111,
              "#46039f"
             ],
             [
              0.2222222222222222,
              "#7201a8"
             ],
             [
              0.3333333333333333,
              "#9c179e"
             ],
             [
              0.4444444444444444,
              "#bd3786"
             ],
             [
              0.5555555555555556,
              "#d8576b"
             ],
             [
              0.6666666666666666,
              "#ed7953"
             ],
             [
              0.7777777777777778,
              "#fb9f3a"
             ],
             [
              0.8888888888888888,
              "#fdca26"
             ],
             [
              1,
              "#f0f921"
             ]
            ],
            "type": "histogram2d"
           }
          ],
          "histogram2dcontour": [
           {
            "colorbar": {
             "outlinewidth": 0,
             "ticks": ""
            },
            "colorscale": [
             [
              0,
              "#0d0887"
             ],
             [
              0.1111111111111111,
              "#46039f"
             ],
             [
              0.2222222222222222,
              "#7201a8"
             ],
             [
              0.3333333333333333,
              "#9c179e"
             ],
             [
              0.4444444444444444,
              "#bd3786"
             ],
             [
              0.5555555555555556,
              "#d8576b"
             ],
             [
              0.6666666666666666,
              "#ed7953"
             ],
             [
              0.7777777777777778,
              "#fb9f3a"
             ],
             [
              0.8888888888888888,
              "#fdca26"
             ],
             [
              1,
              "#f0f921"
             ]
            ],
            "type": "histogram2dcontour"
           }
          ],
          "mesh3d": [
           {
            "colorbar": {
             "outlinewidth": 0,
             "ticks": ""
            },
            "type": "mesh3d"
           }
          ],
          "parcoords": [
           {
            "line": {
             "colorbar": {
              "outlinewidth": 0,
              "ticks": ""
             }
            },
            "type": "parcoords"
           }
          ],
          "pie": [
           {
            "automargin": true,
            "type": "pie"
           }
          ],
          "scatter": [
           {
            "fillpattern": {
             "fillmode": "overlay",
             "size": 10,
             "solidity": 0.2
            },
            "type": "scatter"
           }
          ],
          "scatter3d": [
           {
            "line": {
             "colorbar": {
              "outlinewidth": 0,
              "ticks": ""
             }
            },
            "marker": {
             "colorbar": {
              "outlinewidth": 0,
              "ticks": ""
             }
            },
            "type": "scatter3d"
           }
          ],
          "scattercarpet": [
           {
            "marker": {
             "colorbar": {
              "outlinewidth": 0,
              "ticks": ""
             }
            },
            "type": "scattercarpet"
           }
          ],
          "scattergeo": [
           {
            "marker": {
             "colorbar": {
              "outlinewidth": 0,
              "ticks": ""
             }
            },
            "type": "scattergeo"
           }
          ],
          "scattergl": [
           {
            "marker": {
             "colorbar": {
              "outlinewidth": 0,
              "ticks": ""
             }
            },
            "type": "scattergl"
           }
          ],
          "scattermapbox": [
           {
            "marker": {
             "colorbar": {
              "outlinewidth": 0,
              "ticks": ""
             }
            },
            "type": "scattermapbox"
           }
          ],
          "scatterpolar": [
           {
            "marker": {
             "colorbar": {
              "outlinewidth": 0,
              "ticks": ""
             }
            },
            "type": "scatterpolar"
           }
          ],
          "scatterpolargl": [
           {
            "marker": {
             "colorbar": {
              "outlinewidth": 0,
              "ticks": ""
             }
            },
            "type": "scatterpolargl"
           }
          ],
          "scatterternary": [
           {
            "marker": {
             "colorbar": {
              "outlinewidth": 0,
              "ticks": ""
             }
            },
            "type": "scatterternary"
           }
          ],
          "surface": [
           {
            "colorbar": {
             "outlinewidth": 0,
             "ticks": ""
            },
            "colorscale": [
             [
              0,
              "#0d0887"
             ],
             [
              0.1111111111111111,
              "#46039f"
             ],
             [
              0.2222222222222222,
              "#7201a8"
             ],
             [
              0.3333333333333333,
              "#9c179e"
             ],
             [
              0.4444444444444444,
              "#bd3786"
             ],
             [
              0.5555555555555556,
              "#d8576b"
             ],
             [
              0.6666666666666666,
              "#ed7953"
             ],
             [
              0.7777777777777778,
              "#fb9f3a"
             ],
             [
              0.8888888888888888,
              "#fdca26"
             ],
             [
              1,
              "#f0f921"
             ]
            ],
            "type": "surface"
           }
          ],
          "table": [
           {
            "cells": {
             "fill": {
              "color": "#EBF0F8"
             },
             "line": {
              "color": "white"
             }
            },
            "header": {
             "fill": {
              "color": "#C8D4E3"
             },
             "line": {
              "color": "white"
             }
            },
            "type": "table"
           }
          ]
         },
         "layout": {
          "annotationdefaults": {
           "arrowcolor": "#2a3f5f",
           "arrowhead": 0,
           "arrowwidth": 1
          },
          "autotypenumbers": "strict",
          "coloraxis": {
           "colorbar": {
            "outlinewidth": 0,
            "ticks": ""
           }
          },
          "colorscale": {
           "diverging": [
            [
             0,
             "#8e0152"
            ],
            [
             0.1,
             "#c51b7d"
            ],
            [
             0.2,
             "#de77ae"
            ],
            [
             0.3,
             "#f1b6da"
            ],
            [
             0.4,
             "#fde0ef"
            ],
            [
             0.5,
             "#f7f7f7"
            ],
            [
             0.6,
             "#e6f5d0"
            ],
            [
             0.7,
             "#b8e186"
            ],
            [
             0.8,
             "#7fbc41"
            ],
            [
             0.9,
             "#4d9221"
            ],
            [
             1,
             "#276419"
            ]
           ],
           "sequential": [
            [
             0,
             "#0d0887"
            ],
            [
             0.1111111111111111,
             "#46039f"
            ],
            [
             0.2222222222222222,
             "#7201a8"
            ],
            [
             0.3333333333333333,
             "#9c179e"
            ],
            [
             0.4444444444444444,
             "#bd3786"
            ],
            [
             0.5555555555555556,
             "#d8576b"
            ],
            [
             0.6666666666666666,
             "#ed7953"
            ],
            [
             0.7777777777777778,
             "#fb9f3a"
            ],
            [
             0.8888888888888888,
             "#fdca26"
            ],
            [
             1,
             "#f0f921"
            ]
           ],
           "sequentialminus": [
            [
             0,
             "#0d0887"
            ],
            [
             0.1111111111111111,
             "#46039f"
            ],
            [
             0.2222222222222222,
             "#7201a8"
            ],
            [
             0.3333333333333333,
             "#9c179e"
            ],
            [
             0.4444444444444444,
             "#bd3786"
            ],
            [
             0.5555555555555556,
             "#d8576b"
            ],
            [
             0.6666666666666666,
             "#ed7953"
            ],
            [
             0.7777777777777778,
             "#fb9f3a"
            ],
            [
             0.8888888888888888,
             "#fdca26"
            ],
            [
             1,
             "#f0f921"
            ]
           ]
          },
          "colorway": [
           "#636efa",
           "#EF553B",
           "#00cc96",
           "#ab63fa",
           "#FFA15A",
           "#19d3f3",
           "#FF6692",
           "#B6E880",
           "#FF97FF",
           "#FECB52"
          ],
          "font": {
           "color": "#2a3f5f"
          },
          "geo": {
           "bgcolor": "white",
           "lakecolor": "white",
           "landcolor": "#E5ECF6",
           "showlakes": true,
           "showland": true,
           "subunitcolor": "white"
          },
          "hoverlabel": {
           "align": "left"
          },
          "hovermode": "closest",
          "mapbox": {
           "style": "light"
          },
          "paper_bgcolor": "white",
          "plot_bgcolor": "#E5ECF6",
          "polar": {
           "angularaxis": {
            "gridcolor": "white",
            "linecolor": "white",
            "ticks": ""
           },
           "bgcolor": "#E5ECF6",
           "radialaxis": {
            "gridcolor": "white",
            "linecolor": "white",
            "ticks": ""
           }
          },
          "scene": {
           "xaxis": {
            "backgroundcolor": "#E5ECF6",
            "gridcolor": "white",
            "gridwidth": 2,
            "linecolor": "white",
            "showbackground": true,
            "ticks": "",
            "zerolinecolor": "white"
           },
           "yaxis": {
            "backgroundcolor": "#E5ECF6",
            "gridcolor": "white",
            "gridwidth": 2,
            "linecolor": "white",
            "showbackground": true,
            "ticks": "",
            "zerolinecolor": "white"
           },
           "zaxis": {
            "backgroundcolor": "#E5ECF6",
            "gridcolor": "white",
            "gridwidth": 2,
            "linecolor": "white",
            "showbackground": true,
            "ticks": "",
            "zerolinecolor": "white"
           }
          },
          "shapedefaults": {
           "line": {
            "color": "#2a3f5f"
           }
          },
          "ternary": {
           "aaxis": {
            "gridcolor": "white",
            "linecolor": "white",
            "ticks": ""
           },
           "baxis": {
            "gridcolor": "white",
            "linecolor": "white",
            "ticks": ""
           },
           "bgcolor": "#E5ECF6",
           "caxis": {
            "gridcolor": "white",
            "linecolor": "white",
            "ticks": ""
           }
          },
          "title": {
           "x": 0.05
          },
          "xaxis": {
           "automargin": true,
           "gridcolor": "white",
           "linecolor": "white",
           "ticks": "",
           "title": {
            "standoff": 15
           },
           "zerolinecolor": "white",
           "zerolinewidth": 2
          },
          "yaxis": {
           "automargin": true,
           "gridcolor": "white",
           "linecolor": "white",
           "ticks": "",
           "title": {
            "standoff": 15
           },
           "zerolinecolor": "white",
           "zerolinewidth": 2
          }
         }
        },
        "width": 1000,
        "xaxis": {
         "anchor": "y",
         "autorange": true,
         "constrain": "domain",
         "domain": [
          0.31644417475728154,
          0.6835558252427185
         ],
         "range": [
          -0.5,
          21.5
         ],
         "scaleanchor": "y",
         "ticktext": [
          "▁The",
          "▁Sh",
          "adows",
          "▁of",
          "▁L",
          "um",
          "ina",
          "▁is",
          "▁a",
          "▁science",
          "▁fiction",
          "▁novel",
          "▁written",
          "▁by",
          "▁author",
          "▁John",
          "▁C",
          ".",
          "▁W",
          "ors",
          "ham",
          "."
         ],
         "tickvals": [
          0,
          1,
          2,
          3,
          4,
          5,
          6,
          7,
          8,
          9,
          10,
          11,
          12,
          13,
          14,
          15,
          16,
          17,
          18,
          19,
          20,
          21
         ],
         "title": {
          "text": "Token"
         }
        },
        "yaxis": {
         "anchor": "x",
         "autorange": true,
         "constrain": "domain",
         "domain": [
          0,
          1
         ],
         "range": [
          31.5,
          -0.5
         ]
        }
       }
      },
      "image/png": "[encoded data removed]",
      "text/html": [
       "<div>                            <div id=\"b1c5e5ce-de99-449d-bd5f-60fa6abb9ab8\" class=\"plotly-graph-div\" style=\"height:600px; width:1000px;\"></div>            <script type=\"text/javascript\">                require([\"plotly\"], function(Plotly) {                    window.PLOTLYENV=window.PLOTLYENV || {};                                    if (document.getElementById(\"b1c5e5ce-de99-449d-bd5f-60fa6abb9ab8\")) {                    Plotly.newPlot(                        \"b1c5e5ce-de99-449d-bd5f-60fa6abb9ab8\",                        [{\"coloraxis\":\"coloraxis\",\"name\":\"0\",\"z\":[[-0.0225372314453125,0.00618743896484375,0.00849151611328125,0.00495147705078125,0.005084991455078125,0.00518798828125,0.0091400146484375,-0.002742767333984375,-0.003398895263671875,-0.0002715587615966797,-0.00539398193359375,-0.0029773712158203125,-0.00691986083984375,-0.0025844573974609375,0.01019287109375,-0.00144195556640625,0.01389312744140625,0.004512786865234375,0.0155029296875,0.004810333251953125,0.004596710205078125,0.01010894775390625],[-0.11187744140625,-0.0518798828125,-0.0190887451171875,-0.032318115234375,-0.03179931640625,0.0015964508056640625,-0.006805419921875,-0.0455322265625,-0.044097900390625,-0.0266876220703125,-0.01885986328125,-0.0294189453125,-0.0309295654296875,-0.0237884521484375,-0.007587432861328125,-0.060821533203125,-0.0182647705078125,-0.0310516357421875,-0.01361846923828125,-0.004909515380859375,-0.00811004638671875,-0.0265350341796875],[-0.11865234375,-0.06878662109375,-0.037322998046875,-0.0494384765625,-0.0267181396484375,0.0001595020294189453,-0.0124664306640625,-0.0257568359375,-0.032470703125,-0.022491455078125,-0.0301971435546875,-0.042236328125,-0.03875732421875,-0.0311126708984375,-0.02899169921875,-0.060638427734375,-0.006717681884765625,-0.0311431884765625,-0.03375244140625,-0.01163482666015625,-0.003032684326171875,-0.055908203125],[-0.245849609375,-0.11090087890625,-0.05010986328125,-0.07830810546875,-0.037567138671875,-0.031402587890625,-0.040679931640625,-0.0462646484375,-0.056365966796875,-0.0261993408203125,-0.0172576904296875,-0.041473388671875,-0.072998046875,-0.042510986328125,-0.05517578125,-0.07928466796875,-0.03546142578125,-0.0205078125,-0.039764404296875,-0.003185272216796875,-0.0106964111328125,-0.060760498046875],[-0.273193359375,-0.1571044921875,-0.039886474609375,-0.06072998046875,-0.07623291015625,-0.0146636962890625,0.0035419464111328125,-0.068603515625,-0.094970703125,-0.048004150390625,-0.03277587890625,-0.056427001953125,-0.0985107421875,-0.0677490234375,-0.048736572265625,-0.06134033203125,-0.0560302734375,-0.044158935546875,-0.058502197265625,0.02020263671875,0.003078460693359375,-0.0816650390625],[-0.2900390625,-0.1748046875,-0.08905029296875,-0.08514404296875,-0.09075927734375,-0.04736328125,-0.05120849609375,-0.08538818359375,-0.0977783203125,-0.05743408203125,-0.053070068359375,-0.0865478515625,-0.1251220703125,-0.09521484375,-0.07745361328125,-0.05010986328125,-0.015716552734375,0.0038814544677734375,0.0009684562683105469,0.0040740966796875,-0.005512237548828125,-0.08319091796875],[-0.2138671875,-0.130126953125,-0.08795166015625,-0.078857421875,-0.06829833984375,-0.06817626953125,-0.0499267578125,-0.00726318359375,-0.0206146240234375,-0.01898193359375,0.005092620849609375,-0.0269622802734375,-0.06365966796875,-0.01332855224609375,-0.029754638671875,0.0167694091796875,0.0291748046875,0.028167724609375,0.031585693359375,0.009246826171875,-0.01448822021484375,-0.007175445556640625],[-0.2071533203125,-0.17431640625,-0.0982666015625,-0.07904052734375,-0.059356689453125,-0.061767578125,-0.0285491943359375,-0.050811767578125,-0.0487060546875,-0.139404296875,-0.09552001953125,-0.08721923828125,-0.029754638671875,-0.06976318359375,-0.076416015625,-0.06951904296875,-0.041290283203125,-0.036346435546875,-0.053558349609375,-0.036865234375,-0.0253143310546875,0.005489349365234375],[-0.0616455078125,-0.05169677734375,-0.0555419921875,-0.06695556640625,-0.0229949951171875,-0.047149658203125,0.0285186767578125,0.09588623046875,0.048126220703125,-0.10943603515625,0.01203155517578125,0.00678253173828125,-0.0072479248046875,-0.0229949951171875,-0.0013971328735351562,0.037200927734375,0.05078125,0.057769775390625,0.00739288330078125,-0.0160980224609375,-0.0027828216552734375,0.152587890625],[0.2491455078125,-0.0214996337890625,-0.08990478515625,-0.0955810546875,-0.049591064453125,-0.08935546875,-0.0178985595703125,0.161865234375,0.1295166015625,-0.00843048095703125,0.0994873046875,0.0049285888671875,0.0704345703125,0.07879638671875,0.039459228515625,0.1746826171875,0.1846923828125,0.09942626953125,0.07379150390625,0.04437255859375,0.004852294921875,0.2174072265625],[0.375244140625,0.08953857421875,-0.0120391845703125,-0.01526641845703125,0.042694091796875,0.046417236328125,0.1033935546875,0.339111328125,0.385498046875,0.06488037109375,0.259033203125,0.12030029296875,0.194580078125,0.2254638671875,0.130859375,0.27978515625,0.2288818359375,0.1561279296875,0.12841796875,0.094482421875,0.06597900390625,0.2587890625],[0.426513671875,0.169921875,0.0587158203125,0.0171356201171875,0.04925537109375,0.059600830078125,0.171630859375,0.388671875,0.436279296875,0.07489013671875,0.2059326171875,0.1177978515625,0.2042236328125,0.265869140625,0.1796875,0.251708984375,0.2398681640625,0.2012939453125,0.191650390625,0.1683349609375,0.1397705078125,0.1802978515625],[0.380859375,0.09124755859375,-0.042816162109375,-0.0711669921875,-0.0267333984375,-0.0264129638671875,0.045166015625,0.314453125,0.393798828125,-0.0733642578125,0.06988525390625,0.05963134765625,0.05877685546875,0.06536865234375,0.020599365234375,-0.00885009765625,0.01309967041015625,0.029052734375,0.00634765625,0.015960693359375,-0.01175689697265625,-0.044891357421875],[0.452880859375,0.147216796875,-0.098876953125,-0.0241851806640625,-0.0004992485046386719,-0.08648681640625,0.06964111328125,0.440185546875,0.57373046875,-0.040069580078125,0.2266845703125,0.323486328125,0.134033203125,-0.0052947998046875,-0.0621337890625,-0.279052734375,-0.198486328125,-0.1580810546875,-0.23193359375,-0.2054443359375,-0.276123046875,0.02197265625],[0.98974609375,0.37353515625,-0.0557861328125,0.1319580078125,0.1234130859375,0.021453857421875,0.485595703125,1.0576171875,1.1435546875,0.047271728515625,0.336669921875,0.53466796875,0.287353515625,0.1156005859375,-0.02435302734375,-0.258056640625,-0.253173828125,-0.19580078125,-0.310302734375,-0.317138671875,-0.11749267578125,0.41552734375],[1.06640625,0.331298828125,0.07965087890625,0.18408203125,0.154052734375,0.002681732177734375,0.473388671875,0.98876953125,1.0263671875,0.058258056640625,0.30126953125,0.41943359375,0.2822265625,0.11212158203125,-0.0023479461669921875,-0.0899658203125,-0.17431640625,-0.09375,-0.2568359375,-0.2017822265625,0.030487060546875,0.6083984375],[0.86962890625,0.16845703125,-0.2208251953125,-0.04364013671875,0.07940673828125,-0.0085906982421875,0.53955078125,1.06640625,1.1611328125,0.1488037109375,0.452392578125,0.62548828125,0.2227783203125,0.197509765625,0.1500244140625,-0.2037353515625,-0.134033203125,-0.0477294921875,-0.175537109375,-0.050018310546875,0.2296142578125,0.69091796875],[1.029296875,0.10614013671875,-0.2159423828125,-0.12139892578125,-0.1788330078125,-0.086181640625,0.54052734375,1.03515625,1.1689453125,0.1336669921875,0.216552734375,0.564453125,0.2496337890625,0.099365234375,0.0501708984375,-0.340087890625,-0.2449951171875,-0.13134765625,-0.395263671875,-0.1910400390625,0.1395263671875,0.84228515625],[1.6826171875,0.369384765625,-0.02496337890625,0.06256103515625,-0.093994140625,-0.039398193359375,0.97802734375,1.6064453125,1.7939453125,0.63037109375,0.783203125,0.8212890625,0.5048828125,0.331298828125,0.33837890625,-0.0980224609375,-0.09295654296875,-0.01294708251953125,-0.250732421875,0.227294921875,0.36669921875,1.2802734375],[1.2265625,-0.30078125,-0.374755859375,-0.283935546875,-0.62158203125,-0.265869140625,0.4462890625,1.1025390625,1.2197265625,0.447265625,0.6376953125,0.580078125,0.2325439453125,-0.162841796875,-0.024322509765625,-0.4208984375,-0.475341796875,-0.335693359375,-0.80224609375,-0.1097412109375,0.01324462890625,1.0859375],[0.71923828125,-0.88134765625,-0.794921875,-0.65869140625,-0.94482421875,-0.5234375,0.038360595703125,0.7607421875,0.8193359375,-0.06597900390625,0.3701171875,-0.0440673828125,-0.414794921875,-0.76123046875,-0.583984375,-0.796875,-0.93798828125,-0.82080078125,-1.3056640625,-0.443115234375,-0.6259765625,0.427490234375],[1.4423828125,-0.335693359375,-0.0360107421875,0.05145263671875,-0.311767578125,0.225830078125,1.0341796875,1.76953125,1.7490234375,0.8515625,1.3818359375,0.8857421875,0.491943359375,0.1688232421875,0.37646484375,-0.022003173828125,-0.27490234375,-0.0250396728515625,-0.65087890625,0.6748046875,0.34375,1.251953125],[0.3203125,-1.654296875,-1.1650390625,-1.103515625,-1.4326171875,-0.779296875,0.1898193359375,0.8154296875,0.9599609375,0.06036376953125,0.4912109375,-0.1392822265625,-0.470947265625,-0.57275390625,-0.454833984375,-1.1005859375,-1.3916015625,-1.1474609375,-1.6845703125,-0.427001953125,-0.6318359375,0.18798828125],[0.49560546875,-2.09765625,-1.1845703125,-1.3427734375,-1.5888671875,-1.208984375,0.490478515625,1.2421875,1.2001953125,0.2291259765625,0.55419921875,0.22900390625,-0.07061767578125,-0.2529296875,-0.289794921875,-1.26953125,-1.603515625,-1.2841796875,-2.021484375,-0.4814453125,-0.429931640625,0.34375],[0.61865234375,-2.369140625,-1.5537109375,-1.55078125,-1.71875,-1.5166015625,0.69140625,1.298828125,1.4736328125,0.420654296875,0.78564453125,0.28125,-0.07794189453125,-0.047027587890625,-0.2005615234375,-1.1181640625,-1.537109375,-1.1298828125,-2.052734375,-0.54541015625,-0.488037109375,0.357666015625],[1.716796875,-1.7138671875,-0.83203125,-0.83837890625,-1.0693359375,-0.9130859375,1.525390625,2.005859375,2.265625,1.1962890625,1.599609375,1.0205078125,0.5625,0.61474609375,0.43115234375,-0.462890625,-0.84619140625,-0.52490234375,-1.166015625,0.0311126708984375,0.151123046875,1.03515625],[1.599609375,-1.806640625,-1.30078125,-1.2470703125,-1.4248046875,-1.1318359375,1.5595703125,2.08203125,2.2890625,0.955078125,1.22265625,0.7919921875,0.458984375,0.497802734375,0.316162109375,-0.36279296875,-0.63232421875,-0.3232421875,-0.8125,0.06658935546875,-0.051025390625,0.74072265625],[0.80224609375,-2.681640625,-2.13671875,-2.578125,-2.529296875,-1.8134765625,0.94970703125,1.7216796875,1.8544921875,0.1455078125,0.44140625,0.138916015625,-0.2109375,-0.1192626953125,-0.323486328125,-1.048828125,-0.66748046875,-0.47509765625,-0.78564453125,-0.317626953125,-0.54638671875,-0.018035888671875],[0.99072265625,-1.87890625,-1.7890625,-2.357421875,-1.982421875,-1.2421875,1.7568359375,2.4921875,2.552734375,0.46435546875,0.8271484375,0.5146484375,0.33154296875,0.35888671875,0.052947998046875,-0.435546875,0.338134765625,0.29443359375,0.27490234375,0.51025390625,0.1424560546875,0.6875],[-0.3544921875,-3.857421875,-3.841796875,-4.76953125,-3.619140625,-3.349609375,-0.38720703125,0.2281494140625,0.266845703125,-1.505859375,-0.92431640625,-2.01953125,-2.255859375,-1.962890625,-1.896484375,-2.1953125,-1.1806640625,-1.4521484375,-0.8837890625,-1.4765625,-1.810546875,-1.1669921875],[-0.206298828125,-2.94140625,-2.8203125,-4.5,-3.169921875,-1.7724609375,0.85986328125,0.9404296875,1.8955078125,-1.5439453125,-0.06671142578125,-0.89111328125,-1.3623046875,-0.708984375,-1.3125,-1.48046875,0.79931640625,0.168212890625,0.79736328125,0.131591796875,-1.03125,-0.2440185546875],[30.765625,8.1328125,9.9453125,8.9375,13.328125,5.3203125,33.0625,28.984375,25.28125,13.125,18.375,12.1796875,5.56640625,4.4140625,-1.595703125,-9.7578125,11.796875,0.8935546875,18.703125,10.203125,18.03125,19.921875]],\"type\":\"heatmap\",\"xaxis\":\"x\",\"yaxis\":\"y\",\"hovertemplate\":\"Token: %{x}\\u003cbr\\u003ey: %{y}\\u003cbr\\u003ecolor: %{z}\\u003cextra\\u003e\\u003c\\u002fextra\\u003e\"}],                        {\"template\":{\"data\":{\"histogram2dcontour\":[{\"type\":\"histogram2dcontour\",\"colorbar\":{\"outlinewidth\":0,\"ticks\":\"\"},\"colorscale\":[[0.0,\"#0d0887\"],[0.1111111111111111,\"#46039f\"],[0.2222222222222222,\"#7201a8\"],[0.3333333333333333,\"#9c179e\"],[0.4444444444444444,\"#bd3786\"],[0.5555555555555556,\"#d8576b\"],[0.6666666666666666,\"#ed7953\"],[0.7777777777777778,\"#fb9f3a\"],[0.8888888888888888,\"#fdca26\"],[1.0,\"#f0f921\"]]}],\"choropleth\":[{\"type\":\"choropleth\",\"colorbar\":{\"outlinewidth\":0,\"ticks\":\"\"}}],\"histogram2d\":[{\"type\":\"histogram2d\",\"colorbar\":{\"outlinewidth\":0,\"ticks\":\"\"},\"colorscale\":[[0.0,\"#0d0887\"],[0.1111111111111111,\"#46039f\"],[0.2222222222222222,\"#7201a8\"],[0.3333333333333333,\"#9c179e\"],[0.4444444444444444,\"#bd3786\"],[0.5555555555555556,\"#d8576b\"],[0.6666666666666666,\"#ed7953\"],[0.7777777777777778,\"#fb9f3a\"],[0.8888888888888888,\"#fdca26\"],[1.0,\"#f0f921\"]]}],\"heatmap\":[{\"type\":\"heatmap\",\"colorbar\":{\"outlinewidth\":0,\"ticks\":\"\"},\"colorscale\":[[0.0,\"#0d0887\"],[0.1111111111111111,\"#46039f\"],[0.2222222222222222,\"#7201a8\"],[0.3333333333333333,\"#9c179e\"],[0.4444444444444444,\"#bd3786\"],[0.5555555555555556,\"#d8576b\"],[0.6666666666666666,\"#ed7953\"],[0.7777777777777778,\"#fb9f3a\"],[0.8888888888888888,\"#fdca26\"],[1.0,\"#f0f921\"]]}],\"heatmapgl\":[{\"type\":\"heatmapgl\",\"colorbar\":{\"outlinewidth\":0,\"ticks\":\"\"},\"colorscale\":[[0.0,\"#0d0887\"],[0.1111111111111111,\"#46039f\"],[0.2222222222222222,\"#7201a8\"],[0.3333333333333333,\"#9c179e\"],[0.4444444444444444,\"#bd3786\"],[0.5555555555555556,\"#d8576b\"],[0.6666666666666666,\"#ed7953\"],[0.7777777777777778,\"#fb9f3a\"],[0.8888888888888888,\"#fdca26\"],[1.0,\"#f0f921\"]]}],\"contourcarpet\":[{\"type\":\"contourcarpet\",\"colorbar\":{\"outlinewidth\":0,\"ticks\":\"\"}}],\"contour\":[{\"type\":\"contour\",\"colorbar\":{\"outlinewidth\":0,\"ticks\":\"\"},\"colorscale\":[[0.0,\"#0d0887\"],[0.1111111111111111,\"#46039f\"],[0.2222222222222222,\"#7201a8\"],[0.3333333333333333,\"#9c179e\"],[0.4444444444444444,\"#bd3786\"],[0.5555555555555556,\"#d8576b\"],[0.6666666666666666,\"#ed7953\"],[0.7777777777777778,\"#fb9f3a\"],[0.8888888888888888,\"#fdca26\"],[1.0,\"#f0f921\"]]}],\"surface\":[{\"type\":\"surface\",\"colorbar\":{\"outlinewidth\":0,\"ticks\":\"\"},\"colorscale\":[[0.0,\"#0d0887\"],[0.1111111111111111,\"#46039f\"],[0.2222222222222222,\"#7201a8\"],[0.3333333333333333,\"#9c179e\"],[0.4444444444444444,\"#bd3786\"],[0.5555555555555556,\"#d8576b\"],[0.6666666666666666,\"#ed7953\"],[0.7777777777777778,\"#fb9f3a\"],[0.8888888888888888,\"#fdca26\"],[1.0,\"#f0f921\"]]}],\"mesh3d\":[{\"type\":\"mesh3d\",\"colorbar\":{\"outlinewidth\":0,\"ticks\":\"\"}}],\"scatter\":[{\"fillpattern\":{\"fillmode\":\"overlay\",\"size\":10,\"solidity\":0.2},\"type\":\"scatter\"}],\"parcoords\":[{\"type\":\"parcoords\",\"line\":{\"colorbar\":{\"outlinewidth\":0,\"ticks\":\"\"}}}],\"scatterpolargl\":[{\"type\":\"scatterpolargl\",\"marker\":{\"colorbar\":{\"outlinewidth\":0,\"ticks\":\"\"}}}],\"bar\":[{\"error_x\":{\"color\":\"#2a3f5f\"},\"error_y\":{\"color\":\"#2a3f5f\"},\"marker\":{\"line\":{\"color\":\"#E5ECF6\",\"width\":0.5},\"pattern\":{\"fillmode\":\"overlay\",\"size\":10,\"solidity\":0.2}},\"type\":\"bar\"}],\"scattergeo\":[{\"type\":\"scattergeo\",\"marker\":{\"colorbar\":{\"outlinewidth\":0,\"ticks\":\"\"}}}],\"scatterpolar\":[{\"type\":\"scatterpolar\",\"marker\":{\"colorbar\":{\"outlinewidth\":0,\"ticks\":\"\"}}}],\"histogram\":[{\"marker\":{\"pattern\":{\"fillmode\":\"overlay\",\"size\":10,\"solidity\":0.2}},\"type\":\"histogram\"}],\"scattergl\":[{\"type\":\"scattergl\",\"marker\":{\"colorbar\":{\"outlinewidth\":0,\"ticks\":\"\"}}}],\"scatter3d\":[{\"type\":\"scatter3d\",\"line\":{\"colorbar\":{\"outlinewidth\":0,\"ticks\":\"\"}},\"marker\":{\"colorbar\":{\"outlinewidth\":0,\"ticks\":\"\"}}}],\"scattermapbox\":[{\"type\":\"scattermapbox\",\"marker\":{\"colorbar\":{\"outlinewidth\":0,\"ticks\":\"\"}}}],\"scatterternary\":[{\"type\":\"scatterternary\",\"marker\":{\"colorbar\":{\"outlinewidth\":0,\"ticks\":\"\"}}}],\"scattercarpet\":[{\"type\":\"scattercarpet\",\"marker\":{\"colorbar\":{\"outlinewidth\":0,\"ticks\":\"\"}}}],\"carpet\":[{\"aaxis\":{\"endlinecolor\":\"#2a3f5f\",\"gridcolor\":\"white\",\"linecolor\":\"white\",\"minorgridcolor\":\"white\",\"startlinecolor\":\"#2a3f5f\"},\"baxis\":{\"endlinecolor\":\"#2a3f5f\",\"gridcolor\":\"white\",\"linecolor\":\"white\",\"minorgridcolor\":\"white\",\"startlinecolor\":\"#2a3f5f\"},\"type\":\"carpet\"}],\"table\":[{\"cells\":{\"fill\":{\"color\":\"#EBF0F8\"},\"line\":{\"color\":\"white\"}},\"header\":{\"fill\":{\"color\":\"#C8D4E3\"},\"line\":{\"color\":\"white\"}},\"type\":\"table\"}],\"barpolar\":[{\"marker\":{\"line\":{\"color\":\"#E5ECF6\",\"width\":0.5},\"pattern\":{\"fillmode\":\"overlay\",\"size\":10,\"solidity\":0.2}},\"type\":\"barpolar\"}],\"pie\":[{\"automargin\":true,\"type\":\"pie\"}]},\"layout\":{\"autotypenumbers\":\"strict\",\"colorway\":[\"#636efa\",\"#EF553B\",\"#00cc96\",\"#ab63fa\",\"#FFA15A\",\"#19d3f3\",\"#FF6692\",\"#B6E880\",\"#FF97FF\",\"#FECB52\"],\"font\":{\"color\":\"#2a3f5f\"},\"hovermode\":\"closest\",\"hoverlabel\":{\"align\":\"left\"},\"paper_bgcolor\":\"white\",\"plot_bgcolor\":\"#E5ECF6\",\"polar\":{\"bgcolor\":\"#E5ECF6\",\"angularaxis\":{\"gridcolor\":\"white\",\"linecolor\":\"white\",\"ticks\":\"\"},\"radialaxis\":{\"gridcolor\":\"white\",\"linecolor\":\"white\",\"ticks\":\"\"}},\"ternary\":{\"bgcolor\":\"#E5ECF6\",\"aaxis\":{\"gridcolor\":\"white\",\"linecolor\":\"white\",\"ticks\":\"\"},\"baxis\":{\"gridcolor\":\"white\",\"linecolor\":\"white\",\"ticks\":\"\"},\"caxis\":{\"gridcolor\":\"white\",\"linecolor\":\"white\",\"ticks\":\"\"}},\"coloraxis\":{\"colorbar\":{\"outlinewidth\":0,\"ticks\":\"\"}},\"colorscale\":{\"sequential\":[[0.0,\"#0d0887\"],[0.1111111111111111,\"#46039f\"],[0.2222222222222222,\"#7201a8\"],[0.3333333333333333,\"#9c179e\"],[0.4444444444444444,\"#bd3786\"],[0.5555555555555556,\"#d8576b\"],[0.6666666666666666,\"#ed7953\"],[0.7777777777777778,\"#fb9f3a\"],[0.8888888888888888,\"#fdca26\"],[1.0,\"#f0f921\"]],\"sequentialminus\":[[0.0,\"#0d0887\"],[0.1111111111111111,\"#46039f\"],[0.2222222222222222,\"#7201a8\"],[0.3333333333333333,\"#9c179e\"],[0.4444444444444444,\"#bd3786\"],[0.5555555555555556,\"#d8576b\"],[0.6666666666666666,\"#ed7953\"],[0.7777777777777778,\"#fb9f3a\"],[0.8888888888888888,\"#fdca26\"],[1.0,\"#f0f921\"]],\"diverging\":[[0,\"#8e0152\"],[0.1,\"#c51b7d\"],[0.2,\"#de77ae\"],[0.3,\"#f1b6da\"],[0.4,\"#fde0ef\"],[0.5,\"#f7f7f7\"],[0.6,\"#e6f5d0\"],[0.7,\"#b8e186\"],[0.8,\"#7fbc41\"],[0.9,\"#4d9221\"],[1,\"#276419\"]]},\"xaxis\":{\"gridcolor\":\"white\",\"linecolor\":\"white\",\"ticks\":\"\",\"title\":{\"standoff\":15},\"zerolinecolor\":\"white\",\"automargin\":true,\"zerolinewidth\":2},\"yaxis\":{\"gridcolor\":\"white\",\"linecolor\":\"white\",\"ticks\":\"\",\"title\":{\"standoff\":15},\"zerolinecolor\":\"white\",\"automargin\":true,\"zerolinewidth\":2},\"scene\":{\"xaxis\":{\"backgroundcolor\":\"#E5ECF6\",\"gridcolor\":\"white\",\"linecolor\":\"white\",\"showbackground\":true,\"ticks\":\"\",\"zerolinecolor\":\"white\",\"gridwidth\":2},\"yaxis\":{\"backgroundcolor\":\"#E5ECF6\",\"gridcolor\":\"white\",\"linecolor\":\"white\",\"showbackground\":true,\"ticks\":\"\",\"zerolinecolor\":\"white\",\"gridwidth\":2},\"zaxis\":{\"backgroundcolor\":\"#E5ECF6\",\"gridcolor\":\"white\",\"linecolor\":\"white\",\"showbackground\":true,\"ticks\":\"\",\"zerolinecolor\":\"white\",\"gridwidth\":2}},\"shapedefaults\":{\"line\":{\"color\":\"#2a3f5f\"}},\"annotationdefaults\":{\"arrowcolor\":\"#2a3f5f\",\"arrowhead\":0,\"arrowwidth\":1},\"geo\":{\"bgcolor\":\"white\",\"landcolor\":\"#E5ECF6\",\"subunitcolor\":\"white\",\"showland\":true,\"showlakes\":true,\"lakecolor\":\"white\"},\"title\":{\"x\":0.05},\"mapbox\":{\"style\":\"light\"}}},\"xaxis\":{\"anchor\":\"y\",\"domain\":[0.0,1.0],\"scaleanchor\":\"y\",\"constrain\":\"domain\",\"title\":{\"text\":\"Token\"},\"tickvals\":[0,1,2,3,4,5,6,7,8,9,10,11,12,13,14,15,16,17,18,19,20,21],\"ticktext\":[\"\\u2581The\",\"\\u2581Sh\",\"adows\",\"\\u2581of\",\"\\u2581L\",\"um\",\"ina\",\"\\u2581is\",\"\\u2581a\",\"\\u2581science\",\"\\u2581fiction\",\"\\u2581novel\",\"\\u2581written\",\"\\u2581by\",\"\\u2581author\",\"\\u2581John\",\"\\u2581C\",\".\",\"\\u2581W\",\"ors\",\"ham\",\".\"]},\"yaxis\":{\"anchor\":\"x\",\"domain\":[0.0,1.0],\"autorange\":\"reversed\",\"constrain\":\"domain\"},\"coloraxis\":{\"colorscale\":[[0.0,\"rgb(165,0,38)\"],[0.1,\"rgb(215,48,39)\"],[0.2,\"rgb(244,109,67)\"],[0.3,\"rgb(253,174,97)\"],[0.4,\"rgb(254,224,139)\"],[0.5,\"rgb(255,255,191)\"],[0.6,\"rgb(217,239,139)\"],[0.7,\"rgb(166,217,106)\"],[0.8,\"rgb(102,189,99)\"],[0.9,\"rgb(26,152,80)\"],[1.0,\"rgb(0,104,55)\"]],\"cmin\":-4.7344,\"cmax\":4.7344},\"margin\":{\"t\":60},\"width\":1000,\"height\":600},                        {\"responsive\": true}                    ).then(function(){\n",
       "                            \n",
       "var gd = document.getElementById('b1c5e5ce-de99-449d-bd5f-60fa6abb9ab8');\n",
       "var x = new MutationObserver(function (mutations, observer) {{\n",
       "        var display = window.getComputedStyle(gd).display;\n",
       "        if (!display || display === 'none') {{\n",
       "            console.log([gd, 'removed!']);\n",
       "            Plotly.purge(gd);\n",
       "            observer.disconnect();\n",
       "        }}\n",
       "}});\n",
       "\n",
       "// Listen for the removal of the full notebook cells\n",
       "var notebookContainer = gd.closest('#notebook-container');\n",
       "if (notebookContainer) {{\n",
       "    x.observe(notebookContainer, {childList: true});\n",
       "}}\n",
       "\n",
       "// Listen for the clearing of the current output cell\n",
       "var outputEl = gd.closest('.output');\n",
       "if (outputEl) {{\n",
       "    x.observe(outputEl, {childList: true});\n",
       "}}\n",
       "\n",
       "                        })                };                });            </script>        </div>"
      ]
     },
     "metadata": {},
     "output_type": "display_data"
    }
   ],
   "source": [
    "tokens = tokenizer.tokenize(output['text'])\n",
    "doc.plot_projection_heatmap(output['projections'], tokens, lastn_tokens_to_plot=max_new_tokens, saturate_at='auto')"
   ]
  },
  {
   "cell_type": "code",
   "execution_count": 186,
   "id": "379fe7a4-3698-4594-a3d3-b8d74491c58b",
   "metadata": {
    "tags": []
   },
   "outputs": [
    {
     "data": {
      "application/vnd.plotly.v1+json": {
       "config": {
        "plotlyServerURL": "https://plot.ly"
       },
       "data": [
        {
         "coloraxis": "coloraxis",
         "hovertemplate": "Token: %{x}<br>y: %{y}<br>color: %{z}<extra></extra>",
         "name": "0",
         "type": "heatmap",
         "xaxis": "x",
         "yaxis": "y",
         "z": [
          [
           0.80224609375,
           -0.09619140625,
           -0.2138671875,
           -0.1407470703125,
           -0.2293701171875,
           -0.11065673828125,
           0.364013671875,
           0.84619140625,
           0.92578125,
           0.1663818359375,
           0.41650390625,
           0.34814453125,
           0.146240234375,
           0.01129150390625,
           0.00954437255859375,
           -0.2080078125,
           -0.250732421875,
           -0.1773681640625,
           -0.404541015625,
           -0.051422119140625,
           -0.0235137939453125,
           0.5302734375
          ]
         ]
        }
       ],
       "layout": {
        "autosize": true,
        "coloraxis": {
         "cmax": 1,
         "cmin": -1,
         "colorscale": [
          [
           0,
           "rgb(165,0,38)"
          ],
          [
           0.1,
           "rgb(215,48,39)"
          ],
          [
           0.2,
           "rgb(244,109,67)"
          ],
          [
           0.3,
           "rgb(253,174,97)"
          ],
          [
           0.4,
           "rgb(254,224,139)"
          ],
          [
           0.5,
           "rgb(255,255,191)"
          ],
          [
           0.6,
           "rgb(217,239,139)"
          ],
          [
           0.7,
           "rgb(166,217,106)"
          ],
          [
           0.8,
           "rgb(102,189,99)"
          ],
          [
           0.9,
           "rgb(26,152,80)"
          ],
          [
           1,
           "rgb(0,104,55)"
          ]
         ]
        },
        "margin": {
         "t": 60
        },
        "template": {
         "data": {
          "bar": [
           {
            "error_x": {
             "color": "#2a3f5f"
            },
            "error_y": {
             "color": "#2a3f5f"
            },
            "marker": {
             "line": {
              "color": "#E5ECF6",
              "width": 0.5
             },
             "pattern": {
              "fillmode": "overlay",
              "size": 10,
              "solidity": 0.2
             }
            },
            "type": "bar"
           }
          ],
          "barpolar": [
           {
            "marker": {
             "line": {
              "color": "#E5ECF6",
              "width": 0.5
             },
             "pattern": {
              "fillmode": "overlay",
              "size": 10,
              "solidity": 0.2
             }
            },
            "type": "barpolar"
           }
          ],
          "carpet": [
           {
            "aaxis": {
             "endlinecolor": "#2a3f5f",
             "gridcolor": "white",
             "linecolor": "white",
             "minorgridcolor": "white",
             "startlinecolor": "#2a3f5f"
            },
            "baxis": {
             "endlinecolor": "#2a3f5f",
             "gridcolor": "white",
             "linecolor": "white",
             "minorgridcolor": "white",
             "startlinecolor": "#2a3f5f"
            },
            "type": "carpet"
           }
          ],
          "choropleth": [
           {
            "colorbar": {
             "outlinewidth": 0,
             "ticks": ""
            },
            "type": "choropleth"
           }
          ],
          "contour": [
           {
            "colorbar": {
             "outlinewidth": 0,
             "ticks": ""
            },
            "colorscale": [
             [
              0,
              "#0d0887"
             ],
             [
              0.1111111111111111,
              "#46039f"
             ],
             [
              0.2222222222222222,
              "#7201a8"
             ],
             [
              0.3333333333333333,
              "#9c179e"
             ],
             [
              0.4444444444444444,
              "#bd3786"
             ],
             [
              0.5555555555555556,
              "#d8576b"
             ],
             [
              0.6666666666666666,
              "#ed7953"
             ],
             [
              0.7777777777777778,
              "#fb9f3a"
             ],
             [
              0.8888888888888888,
              "#fdca26"
             ],
             [
              1,
              "#f0f921"
             ]
            ],
            "type": "contour"
           }
          ],
          "contourcarpet": [
           {
            "colorbar": {
             "outlinewidth": 0,
             "ticks": ""
            },
            "type": "contourcarpet"
           }
          ],
          "heatmap": [
           {
            "colorbar": {
             "outlinewidth": 0,
             "ticks": ""
            },
            "colorscale": [
             [
              0,
              "#0d0887"
             ],
             [
              0.1111111111111111,
              "#46039f"
             ],
             [
              0.2222222222222222,
              "#7201a8"
             ],
             [
              0.3333333333333333,
              "#9c179e"
             ],
             [
              0.4444444444444444,
              "#bd3786"
             ],
             [
              0.5555555555555556,
              "#d8576b"
             ],
             [
              0.6666666666666666,
              "#ed7953"
             ],
             [
              0.7777777777777778,
              "#fb9f3a"
             ],
             [
              0.8888888888888888,
              "#fdca26"
             ],
             [
              1,
              "#f0f921"
             ]
            ],
            "type": "heatmap"
           }
          ],
          "heatmapgl": [
           {
            "colorbar": {
             "outlinewidth": 0,
             "ticks": ""
            },
            "colorscale": [
             [
              0,
              "#0d0887"
             ],
             [
              0.1111111111111111,
              "#46039f"
             ],
             [
              0.2222222222222222,
              "#7201a8"
             ],
             [
              0.3333333333333333,
              "#9c179e"
             ],
             [
              0.4444444444444444,
              "#bd3786"
             ],
             [
              0.5555555555555556,
              "#d8576b"
             ],
             [
              0.6666666666666666,
              "#ed7953"
             ],
             [
              0.7777777777777778,
              "#fb9f3a"
             ],
             [
              0.8888888888888888,
              "#fdca26"
             ],
             [
              1,
              "#f0f921"
             ]
            ],
            "type": "heatmapgl"
           }
          ],
          "histogram": [
           {
            "marker": {
             "pattern": {
              "fillmode": "overlay",
              "size": 10,
              "solidity": 0.2
             }
            },
            "type": "histogram"
           }
          ],
          "histogram2d": [
           {
            "colorbar": {
             "outlinewidth": 0,
             "ticks": ""
            },
            "colorscale": [
             [
              0,
              "#0d0887"
             ],
             [
              0.1111111111111111,
              "#46039f"
             ],
             [
              0.2222222222222222,
              "#7201a8"
             ],
             [
              0.3333333333333333,
              "#9c179e"
             ],
             [
              0.4444444444444444,
              "#bd3786"
             ],
             [
              0.5555555555555556,
              "#d8576b"
             ],
             [
              0.6666666666666666,
              "#ed7953"
             ],
             [
              0.7777777777777778,
              "#fb9f3a"
             ],
             [
              0.8888888888888888,
              "#fdca26"
             ],
             [
              1,
              "#f0f921"
             ]
            ],
            "type": "histogram2d"
           }
          ],
          "histogram2dcontour": [
           {
            "colorbar": {
             "outlinewidth": 0,
             "ticks": ""
            },
            "colorscale": [
             [
              0,
              "#0d0887"
             ],
             [
              0.1111111111111111,
              "#46039f"
             ],
             [
              0.2222222222222222,
              "#7201a8"
             ],
             [
              0.3333333333333333,
              "#9c179e"
             ],
             [
              0.4444444444444444,
              "#bd3786"
             ],
             [
              0.5555555555555556,
              "#d8576b"
             ],
             [
              0.6666666666666666,
              "#ed7953"
             ],
             [
              0.7777777777777778,
              "#fb9f3a"
             ],
             [
              0.8888888888888888,
              "#fdca26"
             ],
             [
              1,
              "#f0f921"
             ]
            ],
            "type": "histogram2dcontour"
           }
          ],
          "mesh3d": [
           {
            "colorbar": {
             "outlinewidth": 0,
             "ticks": ""
            },
            "type": "mesh3d"
           }
          ],
          "parcoords": [
           {
            "line": {
             "colorbar": {
              "outlinewidth": 0,
              "ticks": ""
             }
            },
            "type": "parcoords"
           }
          ],
          "pie": [
           {
            "automargin": true,
            "type": "pie"
           }
          ],
          "scatter": [
           {
            "fillpattern": {
             "fillmode": "overlay",
             "size": 10,
             "solidity": 0.2
            },
            "type": "scatter"
           }
          ],
          "scatter3d": [
           {
            "line": {
             "colorbar": {
              "outlinewidth": 0,
              "ticks": ""
             }
            },
            "marker": {
             "colorbar": {
              "outlinewidth": 0,
              "ticks": ""
             }
            },
            "type": "scatter3d"
           }
          ],
          "scattercarpet": [
           {
            "marker": {
             "colorbar": {
              "outlinewidth": 0,
              "ticks": ""
             }
            },
            "type": "scattercarpet"
           }
          ],
          "scattergeo": [
           {
            "marker": {
             "colorbar": {
              "outlinewidth": 0,
              "ticks": ""
             }
            },
            "type": "scattergeo"
           }
          ],
          "scattergl": [
           {
            "marker": {
             "colorbar": {
              "outlinewidth": 0,
              "ticks": ""
             }
            },
            "type": "scattergl"
           }
          ],
          "scattermapbox": [
           {
            "marker": {
             "colorbar": {
              "outlinewidth": 0,
              "ticks": ""
             }
            },
            "type": "scattermapbox"
           }
          ],
          "scatterpolar": [
           {
            "marker": {
             "colorbar": {
              "outlinewidth": 0,
              "ticks": ""
             }
            },
            "type": "scatterpolar"
           }
          ],
          "scatterpolargl": [
           {
            "marker": {
             "colorbar": {
              "outlinewidth": 0,
              "ticks": ""
             }
            },
            "type": "scatterpolargl"
           }
          ],
          "scatterternary": [
           {
            "marker": {
             "colorbar": {
              "outlinewidth": 0,
              "ticks": ""
             }
            },
            "type": "scatterternary"
           }
          ],
          "surface": [
           {
            "colorbar": {
             "outlinewidth": 0,
             "ticks": ""
            },
            "colorscale": [
             [
              0,
              "#0d0887"
             ],
             [
              0.1111111111111111,
              "#46039f"
             ],
             [
              0.2222222222222222,
              "#7201a8"
             ],
             [
              0.3333333333333333,
              "#9c179e"
             ],
             [
              0.4444444444444444,
              "#bd3786"
             ],
             [
              0.5555555555555556,
              "#d8576b"
             ],
             [
              0.6666666666666666,
              "#ed7953"
             ],
             [
              0.7777777777777778,
              "#fb9f3a"
             ],
             [
              0.8888888888888888,
              "#fdca26"
             ],
             [
              1,
              "#f0f921"
             ]
            ],
            "type": "surface"
           }
          ],
          "table": [
           {
            "cells": {
             "fill": {
              "color": "#EBF0F8"
             },
             "line": {
              "color": "white"
             }
            },
            "header": {
             "fill": {
              "color": "#C8D4E3"
             },
             "line": {
              "color": "white"
             }
            },
            "type": "table"
           }
          ]
         },
         "layout": {
          "annotationdefaults": {
           "arrowcolor": "#2a3f5f",
           "arrowhead": 0,
           "arrowwidth": 1
          },
          "autotypenumbers": "strict",
          "coloraxis": {
           "colorbar": {
            "outlinewidth": 0,
            "ticks": ""
           }
          },
          "colorscale": {
           "diverging": [
            [
             0,
             "#8e0152"
            ],
            [
             0.1,
             "#c51b7d"
            ],
            [
             0.2,
             "#de77ae"
            ],
            [
             0.3,
             "#f1b6da"
            ],
            [
             0.4,
             "#fde0ef"
            ],
            [
             0.5,
             "#f7f7f7"
            ],
            [
             0.6,
             "#e6f5d0"
            ],
            [
             0.7,
             "#b8e186"
            ],
            [
             0.8,
             "#7fbc41"
            ],
            [
             0.9,
             "#4d9221"
            ],
            [
             1,
             "#276419"
            ]
           ],
           "sequential": [
            [
             0,
             "#0d0887"
            ],
            [
             0.1111111111111111,
             "#46039f"
            ],
            [
             0.2222222222222222,
             "#7201a8"
            ],
            [
             0.3333333333333333,
             "#9c179e"
            ],
            [
             0.4444444444444444,
             "#bd3786"
            ],
            [
             0.5555555555555556,
             "#d8576b"
            ],
            [
             0.6666666666666666,
             "#ed7953"
            ],
            [
             0.7777777777777778,
             "#fb9f3a"
            ],
            [
             0.8888888888888888,
             "#fdca26"
            ],
            [
             1,
             "#f0f921"
            ]
           ],
           "sequentialminus": [
            [
             0,
             "#0d0887"
            ],
            [
             0.1111111111111111,
             "#46039f"
            ],
            [
             0.2222222222222222,
             "#7201a8"
            ],
            [
             0.3333333333333333,
             "#9c179e"
            ],
            [
             0.4444444444444444,
             "#bd3786"
            ],
            [
             0.5555555555555556,
             "#d8576b"
            ],
            [
             0.6666666666666666,
             "#ed7953"
            ],
            [
             0.7777777777777778,
             "#fb9f3a"
            ],
            [
             0.8888888888888888,
             "#fdca26"
            ],
            [
             1,
             "#f0f921"
            ]
           ]
          },
          "colorway": [
           "#636efa",
           "#EF553B",
           "#00cc96",
           "#ab63fa",
           "#FFA15A",
           "#19d3f3",
           "#FF6692",
           "#B6E880",
           "#FF97FF",
           "#FECB52"
          ],
          "font": {
           "color": "#2a3f5f"
          },
          "geo": {
           "bgcolor": "white",
           "lakecolor": "white",
           "landcolor": "#E5ECF6",
           "showlakes": true,
           "showland": true,
           "subunitcolor": "white"
          },
          "hoverlabel": {
           "align": "left"
          },
          "hovermode": "closest",
          "mapbox": {
           "style": "light"
          },
          "paper_bgcolor": "white",
          "plot_bgcolor": "#E5ECF6",
          "polar": {
           "angularaxis": {
            "gridcolor": "white",
            "linecolor": "white",
            "ticks": ""
           },
           "bgcolor": "#E5ECF6",
           "radialaxis": {
            "gridcolor": "white",
            "linecolor": "white",
            "ticks": ""
           }
          },
          "scene": {
           "xaxis": {
            "backgroundcolor": "#E5ECF6",
            "gridcolor": "white",
            "gridwidth": 2,
            "linecolor": "white",
            "showbackground": true,
            "ticks": "",
            "zerolinecolor": "white"
           },
           "yaxis": {
            "backgroundcolor": "#E5ECF6",
            "gridcolor": "white",
            "gridwidth": 2,
            "linecolor": "white",
            "showbackground": true,
            "ticks": "",
            "zerolinecolor": "white"
           },
           "zaxis": {
            "backgroundcolor": "#E5ECF6",
            "gridcolor": "white",
            "gridwidth": 2,
            "linecolor": "white",
            "showbackground": true,
            "ticks": "",
            "zerolinecolor": "white"
           }
          },
          "shapedefaults": {
           "line": {
            "color": "#2a3f5f"
           }
          },
          "ternary": {
           "aaxis": {
            "gridcolor": "white",
            "linecolor": "white",
            "ticks": ""
           },
           "baxis": {
            "gridcolor": "white",
            "linecolor": "white",
            "ticks": ""
           },
           "bgcolor": "#E5ECF6",
           "caxis": {
            "gridcolor": "white",
            "linecolor": "white",
            "ticks": ""
           }
          },
          "title": {
           "x": 0.05
          },
          "xaxis": {
           "automargin": true,
           "gridcolor": "white",
           "linecolor": "white",
           "ticks": "",
           "title": {
            "standoff": 15
           },
           "zerolinecolor": "white",
           "zerolinewidth": 2
          },
          "yaxis": {
           "automargin": true,
           "gridcolor": "white",
           "linecolor": "white",
           "ticks": "",
           "title": {
            "standoff": 15
           },
           "zerolinecolor": "white",
           "zerolinewidth": 2
          }
         }
        },
        "xaxis": {
         "anchor": "y",
         "autorange": true,
         "constrain": "domain",
         "domain": [
          0,
          1
         ],
         "range": [
          -0.5,
          21.5
         ],
         "scaleanchor": "y",
         "tickangle": -45,
         "tickfont": {
          "size": 20
         },
         "ticktext": [
          "▁The",
          "▁Sh",
          "adows",
          "▁of",
          "▁L",
          "um",
          "ina",
          "▁is",
          "▁a",
          "▁science",
          "▁fiction",
          "▁novel",
          "▁written",
          "▁by",
          "▁author",
          "▁John",
          "▁C",
          ".",
          "▁W",
          "ors",
          "ham",
          "."
         ],
         "tickvals": [
          0,
          1,
          2,
          3,
          4,
          5,
          6,
          7,
          8,
          9,
          10,
          11,
          12,
          13,
          14,
          15,
          16,
          17,
          18,
          19,
          20,
          21
         ],
         "title": {
          "text": "Token"
         }
        },
        "yaxis": {
         "anchor": "x",
         "autorange": true,
         "constrain": "domain",
         "domain": [
          0.4168388429752066,
          0.5831611570247934
         ],
         "range": [
          0.5,
          -0.5
         ],
         "showticklabels": false
        }
       }
      },
      "image/png": "[encoded data removed]",
      "text/html": [
       "<div>                            <div id=\"10286351-7110-4a24-9688-665a39480f47\" class=\"plotly-graph-div\" style=\"height:525px; width:100%;\"></div>            <script type=\"text/javascript\">                require([\"plotly\"], function(Plotly) {                    window.PLOTLYENV=window.PLOTLYENV || {};                                    if (document.getElementById(\"10286351-7110-4a24-9688-665a39480f47\")) {                    Plotly.newPlot(                        \"10286351-7110-4a24-9688-665a39480f47\",                        [{\"coloraxis\":\"coloraxis\",\"name\":\"0\",\"z\":[[0.80224609375,-0.09619140625,-0.2138671875,-0.1407470703125,-0.2293701171875,-0.11065673828125,0.364013671875,0.84619140625,0.92578125,0.1663818359375,0.41650390625,0.34814453125,0.146240234375,0.01129150390625,0.00954437255859375,-0.2080078125,-0.250732421875,-0.1773681640625,-0.404541015625,-0.051422119140625,-0.0235137939453125,0.5302734375]],\"type\":\"heatmap\",\"xaxis\":\"x\",\"yaxis\":\"y\",\"hovertemplate\":\"Token: %{x}\\u003cbr\\u003ey: %{y}\\u003cbr\\u003ecolor: %{z}\\u003cextra\\u003e\\u003c\\u002fextra\\u003e\"}],                        {\"template\":{\"data\":{\"histogram2dcontour\":[{\"type\":\"histogram2dcontour\",\"colorbar\":{\"outlinewidth\":0,\"ticks\":\"\"},\"colorscale\":[[0.0,\"#0d0887\"],[0.1111111111111111,\"#46039f\"],[0.2222222222222222,\"#7201a8\"],[0.3333333333333333,\"#9c179e\"],[0.4444444444444444,\"#bd3786\"],[0.5555555555555556,\"#d8576b\"],[0.6666666666666666,\"#ed7953\"],[0.7777777777777778,\"#fb9f3a\"],[0.8888888888888888,\"#fdca26\"],[1.0,\"#f0f921\"]]}],\"choropleth\":[{\"type\":\"choropleth\",\"colorbar\":{\"outlinewidth\":0,\"ticks\":\"\"}}],\"histogram2d\":[{\"type\":\"histogram2d\",\"colorbar\":{\"outlinewidth\":0,\"ticks\":\"\"},\"colorscale\":[[0.0,\"#0d0887\"],[0.1111111111111111,\"#46039f\"],[0.2222222222222222,\"#7201a8\"],[0.3333333333333333,\"#9c179e\"],[0.4444444444444444,\"#bd3786\"],[0.5555555555555556,\"#d8576b\"],[0.6666666666666666,\"#ed7953\"],[0.7777777777777778,\"#fb9f3a\"],[0.8888888888888888,\"#fdca26\"],[1.0,\"#f0f921\"]]}],\"heatmap\":[{\"type\":\"heatmap\",\"colorbar\":{\"outlinewidth\":0,\"ticks\":\"\"},\"colorscale\":[[0.0,\"#0d0887\"],[0.1111111111111111,\"#46039f\"],[0.2222222222222222,\"#7201a8\"],[0.3333333333333333,\"#9c179e\"],[0.4444444444444444,\"#bd3786\"],[0.5555555555555556,\"#d8576b\"],[0.6666666666666666,\"#ed7953\"],[0.7777777777777778,\"#fb9f3a\"],[0.8888888888888888,\"#fdca26\"],[1.0,\"#f0f921\"]]}],\"heatmapgl\":[{\"type\":\"heatmapgl\",\"colorbar\":{\"outlinewidth\":0,\"ticks\":\"\"},\"colorscale\":[[0.0,\"#0d0887\"],[0.1111111111111111,\"#46039f\"],[0.2222222222222222,\"#7201a8\"],[0.3333333333333333,\"#9c179e\"],[0.4444444444444444,\"#bd3786\"],[0.5555555555555556,\"#d8576b\"],[0.6666666666666666,\"#ed7953\"],[0.7777777777777778,\"#fb9f3a\"],[0.8888888888888888,\"#fdca26\"],[1.0,\"#f0f921\"]]}],\"contourcarpet\":[{\"type\":\"contourcarpet\",\"colorbar\":{\"outlinewidth\":0,\"ticks\":\"\"}}],\"contour\":[{\"type\":\"contour\",\"colorbar\":{\"outlinewidth\":0,\"ticks\":\"\"},\"colorscale\":[[0.0,\"#0d0887\"],[0.1111111111111111,\"#46039f\"],[0.2222222222222222,\"#7201a8\"],[0.3333333333333333,\"#9c179e\"],[0.4444444444444444,\"#bd3786\"],[0.5555555555555556,\"#d8576b\"],[0.6666666666666666,\"#ed7953\"],[0.7777777777777778,\"#fb9f3a\"],[0.8888888888888888,\"#fdca26\"],[1.0,\"#f0f921\"]]}],\"surface\":[{\"type\":\"surface\",\"colorbar\":{\"outlinewidth\":0,\"ticks\":\"\"},\"colorscale\":[[0.0,\"#0d0887\"],[0.1111111111111111,\"#46039f\"],[0.2222222222222222,\"#7201a8\"],[0.3333333333333333,\"#9c179e\"],[0.4444444444444444,\"#bd3786\"],[0.5555555555555556,\"#d8576b\"],[0.6666666666666666,\"#ed7953\"],[0.7777777777777778,\"#fb9f3a\"],[0.8888888888888888,\"#fdca26\"],[1.0,\"#f0f921\"]]}],\"mesh3d\":[{\"type\":\"mesh3d\",\"colorbar\":{\"outlinewidth\":0,\"ticks\":\"\"}}],\"scatter\":[{\"fillpattern\":{\"fillmode\":\"overlay\",\"size\":10,\"solidity\":0.2},\"type\":\"scatter\"}],\"parcoords\":[{\"type\":\"parcoords\",\"line\":{\"colorbar\":{\"outlinewidth\":0,\"ticks\":\"\"}}}],\"scatterpolargl\":[{\"type\":\"scatterpolargl\",\"marker\":{\"colorbar\":{\"outlinewidth\":0,\"ticks\":\"\"}}}],\"bar\":[{\"error_x\":{\"color\":\"#2a3f5f\"},\"error_y\":{\"color\":\"#2a3f5f\"},\"marker\":{\"line\":{\"color\":\"#E5ECF6\",\"width\":0.5},\"pattern\":{\"fillmode\":\"overlay\",\"size\":10,\"solidity\":0.2}},\"type\":\"bar\"}],\"scattergeo\":[{\"type\":\"scattergeo\",\"marker\":{\"colorbar\":{\"outlinewidth\":0,\"ticks\":\"\"}}}],\"scatterpolar\":[{\"type\":\"scatterpolar\",\"marker\":{\"colorbar\":{\"outlinewidth\":0,\"ticks\":\"\"}}}],\"histogram\":[{\"marker\":{\"pattern\":{\"fillmode\":\"overlay\",\"size\":10,\"solidity\":0.2}},\"type\":\"histogram\"}],\"scattergl\":[{\"type\":\"scattergl\",\"marker\":{\"colorbar\":{\"outlinewidth\":0,\"ticks\":\"\"}}}],\"scatter3d\":[{\"type\":\"scatter3d\",\"line\":{\"colorbar\":{\"outlinewidth\":0,\"ticks\":\"\"}},\"marker\":{\"colorbar\":{\"outlinewidth\":0,\"ticks\":\"\"}}}],\"scattermapbox\":[{\"type\":\"scattermapbox\",\"marker\":{\"colorbar\":{\"outlinewidth\":0,\"ticks\":\"\"}}}],\"scatterternary\":[{\"type\":\"scatterternary\",\"marker\":{\"colorbar\":{\"outlinewidth\":0,\"ticks\":\"\"}}}],\"scattercarpet\":[{\"type\":\"scattercarpet\",\"marker\":{\"colorbar\":{\"outlinewidth\":0,\"ticks\":\"\"}}}],\"carpet\":[{\"aaxis\":{\"endlinecolor\":\"#2a3f5f\",\"gridcolor\":\"white\",\"linecolor\":\"white\",\"minorgridcolor\":\"white\",\"startlinecolor\":\"#2a3f5f\"},\"baxis\":{\"endlinecolor\":\"#2a3f5f\",\"gridcolor\":\"white\",\"linecolor\":\"white\",\"minorgridcolor\":\"white\",\"startlinecolor\":\"#2a3f5f\"},\"type\":\"carpet\"}],\"table\":[{\"cells\":{\"fill\":{\"color\":\"#EBF0F8\"},\"line\":{\"color\":\"white\"}},\"header\":{\"fill\":{\"color\":\"#C8D4E3\"},\"line\":{\"color\":\"white\"}},\"type\":\"table\"}],\"barpolar\":[{\"marker\":{\"line\":{\"color\":\"#E5ECF6\",\"width\":0.5},\"pattern\":{\"fillmode\":\"overlay\",\"size\":10,\"solidity\":0.2}},\"type\":\"barpolar\"}],\"pie\":[{\"automargin\":true,\"type\":\"pie\"}]},\"layout\":{\"autotypenumbers\":\"strict\",\"colorway\":[\"#636efa\",\"#EF553B\",\"#00cc96\",\"#ab63fa\",\"#FFA15A\",\"#19d3f3\",\"#FF6692\",\"#B6E880\",\"#FF97FF\",\"#FECB52\"],\"font\":{\"color\":\"#2a3f5f\"},\"hovermode\":\"closest\",\"hoverlabel\":{\"align\":\"left\"},\"paper_bgcolor\":\"white\",\"plot_bgcolor\":\"#E5ECF6\",\"polar\":{\"bgcolor\":\"#E5ECF6\",\"angularaxis\":{\"gridcolor\":\"white\",\"linecolor\":\"white\",\"ticks\":\"\"},\"radialaxis\":{\"gridcolor\":\"white\",\"linecolor\":\"white\",\"ticks\":\"\"}},\"ternary\":{\"bgcolor\":\"#E5ECF6\",\"aaxis\":{\"gridcolor\":\"white\",\"linecolor\":\"white\",\"ticks\":\"\"},\"baxis\":{\"gridcolor\":\"white\",\"linecolor\":\"white\",\"ticks\":\"\"},\"caxis\":{\"gridcolor\":\"white\",\"linecolor\":\"white\",\"ticks\":\"\"}},\"coloraxis\":{\"colorbar\":{\"outlinewidth\":0,\"ticks\":\"\"}},\"colorscale\":{\"sequential\":[[0.0,\"#0d0887\"],[0.1111111111111111,\"#46039f\"],[0.2222222222222222,\"#7201a8\"],[0.3333333333333333,\"#9c179e\"],[0.4444444444444444,\"#bd3786\"],[0.5555555555555556,\"#d8576b\"],[0.6666666666666666,\"#ed7953\"],[0.7777777777777778,\"#fb9f3a\"],[0.8888888888888888,\"#fdca26\"],[1.0,\"#f0f921\"]],\"sequentialminus\":[[0.0,\"#0d0887\"],[0.1111111111111111,\"#46039f\"],[0.2222222222222222,\"#7201a8\"],[0.3333333333333333,\"#9c179e\"],[0.4444444444444444,\"#bd3786\"],[0.5555555555555556,\"#d8576b\"],[0.6666666666666666,\"#ed7953\"],[0.7777777777777778,\"#fb9f3a\"],[0.8888888888888888,\"#fdca26\"],[1.0,\"#f0f921\"]],\"diverging\":[[0,\"#8e0152\"],[0.1,\"#c51b7d\"],[0.2,\"#de77ae\"],[0.3,\"#f1b6da\"],[0.4,\"#fde0ef\"],[0.5,\"#f7f7f7\"],[0.6,\"#e6f5d0\"],[0.7,\"#b8e186\"],[0.8,\"#7fbc41\"],[0.9,\"#4d9221\"],[1,\"#276419\"]]},\"xaxis\":{\"gridcolor\":\"white\",\"linecolor\":\"white\",\"ticks\":\"\",\"title\":{\"standoff\":15},\"zerolinecolor\":\"white\",\"automargin\":true,\"zerolinewidth\":2},\"yaxis\":{\"gridcolor\":\"white\",\"linecolor\":\"white\",\"ticks\":\"\",\"title\":{\"standoff\":15},\"zerolinecolor\":\"white\",\"automargin\":true,\"zerolinewidth\":2},\"scene\":{\"xaxis\":{\"backgroundcolor\":\"#E5ECF6\",\"gridcolor\":\"white\",\"linecolor\":\"white\",\"showbackground\":true,\"ticks\":\"\",\"zerolinecolor\":\"white\",\"gridwidth\":2},\"yaxis\":{\"backgroundcolor\":\"#E5ECF6\",\"gridcolor\":\"white\",\"linecolor\":\"white\",\"showbackground\":true,\"ticks\":\"\",\"zerolinecolor\":\"white\",\"gridwidth\":2},\"zaxis\":{\"backgroundcolor\":\"#E5ECF6\",\"gridcolor\":\"white\",\"linecolor\":\"white\",\"showbackground\":true,\"ticks\":\"\",\"zerolinecolor\":\"white\",\"gridwidth\":2}},\"shapedefaults\":{\"line\":{\"color\":\"#2a3f5f\"}},\"annotationdefaults\":{\"arrowcolor\":\"#2a3f5f\",\"arrowhead\":0,\"arrowwidth\":1},\"geo\":{\"bgcolor\":\"white\",\"landcolor\":\"#E5ECF6\",\"subunitcolor\":\"white\",\"showland\":true,\"showlakes\":true,\"lakecolor\":\"white\"},\"title\":{\"x\":0.05},\"mapbox\":{\"style\":\"light\"}}},\"xaxis\":{\"anchor\":\"y\",\"domain\":[0.0,1.0],\"scaleanchor\":\"y\",\"constrain\":\"domain\",\"title\":{\"text\":\"Token\"},\"tickfont\":{\"size\":20},\"tickvals\":[0,1,2,3,4,5,6,7,8,9,10,11,12,13,14,15,16,17,18,19,20,21],\"ticktext\":[\"\\u2581The\",\"\\u2581Sh\",\"adows\",\"\\u2581of\",\"\\u2581L\",\"um\",\"ina\",\"\\u2581is\",\"\\u2581a\",\"\\u2581science\",\"\\u2581fiction\",\"\\u2581novel\",\"\\u2581written\",\"\\u2581by\",\"\\u2581author\",\"\\u2581John\",\"\\u2581C\",\".\",\"\\u2581W\",\"ors\",\"ham\",\".\"],\"tickangle\":-45},\"yaxis\":{\"anchor\":\"x\",\"domain\":[0.0,1.0],\"autorange\":\"reversed\",\"constrain\":\"domain\",\"showticklabels\":false},\"coloraxis\":{\"colorscale\":[[0.0,\"rgb(165,0,38)\"],[0.1,\"rgb(215,48,39)\"],[0.2,\"rgb(244,109,67)\"],[0.3,\"rgb(253,174,97)\"],[0.4,\"rgb(254,224,139)\"],[0.5,\"rgb(255,255,191)\"],[0.6,\"rgb(217,239,139)\"],[0.7,\"rgb(166,217,106)\"],[0.8,\"rgb(102,189,99)\"],[0.9,\"rgb(26,152,80)\"],[1.0,\"rgb(0,104,55)\"]],\"cmin\":-1,\"cmax\":1},\"margin\":{\"t\":60}},                        {\"responsive\": true}                    ).then(function(){\n",
       "                            \n",
       "var gd = document.getElementById('10286351-7110-4a24-9688-665a39480f47');\n",
       "var x = new MutationObserver(function (mutations, observer) {{\n",
       "        var display = window.getComputedStyle(gd).display;\n",
       "        if (!display || display === 'none') {{\n",
       "            console.log([gd, 'removed!']);\n",
       "            Plotly.purge(gd);\n",
       "            observer.disconnect();\n",
       "        }}\n",
       "}});\n",
       "\n",
       "// Listen for the removal of the full notebook cells\n",
       "var notebookContainer = gd.closest('#notebook-container');\n",
       "if (notebookContainer) {{\n",
       "    x.observe(notebookContainer, {childList: true});\n",
       "}}\n",
       "\n",
       "// Listen for the clearing of the current output cell\n",
       "var outputEl = gd.closest('.output');\n",
       "if (outputEl) {{\n",
       "    x.observe(outputEl, {childList: true});\n",
       "}}\n",
       "\n",
       "                        })                };                });            </script>        </div>"
      ]
     },
     "metadata": {},
     "output_type": "display_data"
    }
   ],
   "source": [
    "scores_per_token = doc.detect(output['projections'], aggregation_method='layer_avg', use_n_middle_layers=15)\n",
    "doc.plot_scores_per_token(scores_per_token, tokens, lastn_tokens_to_plot=max_new_tokens, saturate_at=1)"
   ]
  },
  {
   "cell_type": "code",
   "execution_count": 187,
   "id": "f0a61964-757e-4749-8641-ccc8b7ffcf8a",
   "metadata": {
    "tags": []
   },
   "outputs": [
    {
     "data": {
      "application/vnd.plotly.v1+json": {
       "config": {
        "plotlyServerURL": "https://plot.ly"
       },
       "data": [
        {
         "coloraxis": "coloraxis",
         "hovertemplate": "Token: %{x}<br>y: %{y}<br>color: %{z}<extra></extra>",
         "name": "0",
         "type": "heatmap",
         "xaxis": "x",
         "yaxis": "y",
         "z": [
          [
           0.9999999824495801,
           0.9962945539341433,
           0.9985882019779072,
           0.9973571171886226,
           0.9996890032861442,
           0.9896489208931946,
           0.9999999933621706,
           0.9999999700498285,
           0.9999998460048611,
           0.9998714683273896,
           0.999992175328897,
           0.9998103703175182,
           0.9945157560517355,
           0.9902849448614103,
           0.8497691885308629,
           0.07838509299738607,
           0.9996312211739787,
           0.94208556354631,
           0.9999841104659658,
           0.9993872484891387,
           0.9999834777344391,
           0.9999961298109965
          ]
         ]
        }
       ],
       "layout": {
        "autosize": true,
        "coloraxis": {
         "cmax": 1,
         "cmin": 0,
         "colorscale": [
          [
           0,
           "rgb(165,0,38)"
          ],
          [
           0.1,
           "rgb(215,48,39)"
          ],
          [
           0.2,
           "rgb(244,109,67)"
          ],
          [
           0.3,
           "rgb(253,174,97)"
          ],
          [
           0.4,
           "rgb(254,224,139)"
          ],
          [
           0.5,
           "rgb(255,255,191)"
          ],
          [
           0.6,
           "rgb(217,239,139)"
          ],
          [
           0.7,
           "rgb(166,217,106)"
          ],
          [
           0.8,
           "rgb(102,189,99)"
          ],
          [
           0.9,
           "rgb(26,152,80)"
          ],
          [
           1,
           "rgb(0,104,55)"
          ]
         ]
        },
        "margin": {
         "t": 60
        },
        "template": {
         "data": {
          "bar": [
           {
            "error_x": {
             "color": "#2a3f5f"
            },
            "error_y": {
             "color": "#2a3f5f"
            },
            "marker": {
             "line": {
              "color": "#E5ECF6",
              "width": 0.5
             },
             "pattern": {
              "fillmode": "overlay",
              "size": 10,
              "solidity": 0.2
             }
            },
            "type": "bar"
           }
          ],
          "barpolar": [
           {
            "marker": {
             "line": {
              "color": "#E5ECF6",
              "width": 0.5
             },
             "pattern": {
              "fillmode": "overlay",
              "size": 10,
              "solidity": 0.2
             }
            },
            "type": "barpolar"
           }
          ],
          "carpet": [
           {
            "aaxis": {
             "endlinecolor": "#2a3f5f",
             "gridcolor": "white",
             "linecolor": "white",
             "minorgridcolor": "white",
             "startlinecolor": "#2a3f5f"
            },
            "baxis": {
             "endlinecolor": "#2a3f5f",
             "gridcolor": "white",
             "linecolor": "white",
             "minorgridcolor": "white",
             "startlinecolor": "#2a3f5f"
            },
            "type": "carpet"
           }
          ],
          "choropleth": [
           {
            "colorbar": {
             "outlinewidth": 0,
             "ticks": ""
            },
            "type": "choropleth"
           }
          ],
          "contour": [
           {
            "colorbar": {
             "outlinewidth": 0,
             "ticks": ""
            },
            "colorscale": [
             [
              0,
              "#0d0887"
             ],
             [
              0.1111111111111111,
              "#46039f"
             ],
             [
              0.2222222222222222,
              "#7201a8"
             ],
             [
              0.3333333333333333,
              "#9c179e"
             ],
             [
              0.4444444444444444,
              "#bd3786"
             ],
             [
              0.5555555555555556,
              "#d8576b"
             ],
             [
              0.6666666666666666,
              "#ed7953"
             ],
             [
              0.7777777777777778,
              "#fb9f3a"
             ],
             [
              0.8888888888888888,
              "#fdca26"
             ],
             [
              1,
              "#f0f921"
             ]
            ],
            "type": "contour"
           }
          ],
          "contourcarpet": [
           {
            "colorbar": {
             "outlinewidth": 0,
             "ticks": ""
            },
            "type": "contourcarpet"
           }
          ],
          "heatmap": [
           {
            "colorbar": {
             "outlinewidth": 0,
             "ticks": ""
            },
            "colorscale": [
             [
              0,
              "#0d0887"
             ],
             [
              0.1111111111111111,
              "#46039f"
             ],
             [
              0.2222222222222222,
              "#7201a8"
             ],
             [
              0.3333333333333333,
              "#9c179e"
             ],
             [
              0.4444444444444444,
              "#bd3786"
             ],
             [
              0.5555555555555556,
              "#d8576b"
             ],
             [
              0.6666666666666666,
              "#ed7953"
             ],
             [
              0.7777777777777778,
              "#fb9f3a"
             ],
             [
              0.8888888888888888,
              "#fdca26"
             ],
             [
              1,
              "#f0f921"
             ]
            ],
            "type": "heatmap"
           }
          ],
          "heatmapgl": [
           {
            "colorbar": {
             "outlinewidth": 0,
             "ticks": ""
            },
            "colorscale": [
             [
              0,
              "#0d0887"
             ],
             [
              0.1111111111111111,
              "#46039f"
             ],
             [
              0.2222222222222222,
              "#7201a8"
             ],
             [
              0.3333333333333333,
              "#9c179e"
             ],
             [
              0.4444444444444444,
              "#bd3786"
             ],
             [
              0.5555555555555556,
              "#d8576b"
             ],
             [
              0.6666666666666666,
              "#ed7953"
             ],
             [
              0.7777777777777778,
              "#fb9f3a"
             ],
             [
              0.8888888888888888,
              "#fdca26"
             ],
             [
              1,
              "#f0f921"
             ]
            ],
            "type": "heatmapgl"
           }
          ],
          "histogram": [
           {
            "marker": {
             "pattern": {
              "fillmode": "overlay",
              "size": 10,
              "solidity": 0.2
             }
            },
            "type": "histogram"
           }
          ],
          "histogram2d": [
           {
            "colorbar": {
             "outlinewidth": 0,
             "ticks": ""
            },
            "colorscale": [
             [
              0,
              "#0d0887"
             ],
             [
              0.1111111111111111,
              "#46039f"
             ],
             [
              0.2222222222222222,
              "#7201a8"
             ],
             [
              0.3333333333333333,
              "#9c179e"
             ],
             [
              0.4444444444444444,
              "#bd3786"
             ],
             [
              0.5555555555555556,
              "#d8576b"
             ],
             [
              0.6666666666666666,
              "#ed7953"
             ],
             [
              0.7777777777777778,
              "#fb9f3a"
             ],
             [
              0.8888888888888888,
              "#fdca26"
             ],
             [
              1,
              "#f0f921"
             ]
            ],
            "type": "histogram2d"
           }
          ],
          "histogram2dcontour": [
           {
            "colorbar": {
             "outlinewidth": 0,
             "ticks": ""
            },
            "colorscale": [
             [
              0,
              "#0d0887"
             ],
             [
              0.1111111111111111,
              "#46039f"
             ],
             [
              0.2222222222222222,
              "#7201a8"
             ],
             [
              0.3333333333333333,
              "#9c179e"
             ],
             [
              0.4444444444444444,
              "#bd3786"
             ],
             [
              0.5555555555555556,
              "#d8576b"
             ],
             [
              0.6666666666666666,
              "#ed7953"
             ],
             [
              0.7777777777777778,
              "#fb9f3a"
             ],
             [
              0.8888888888888888,
              "#fdca26"
             ],
             [
              1,
              "#f0f921"
             ]
            ],
            "type": "histogram2dcontour"
           }
          ],
          "mesh3d": [
           {
            "colorbar": {
             "outlinewidth": 0,
             "ticks": ""
            },
            "type": "mesh3d"
           }
          ],
          "parcoords": [
           {
            "line": {
             "colorbar": {
              "outlinewidth": 0,
              "ticks": ""
             }
            },
            "type": "parcoords"
           }
          ],
          "pie": [
           {
            "automargin": true,
            "type": "pie"
           }
          ],
          "scatter": [
           {
            "fillpattern": {
             "fillmode": "overlay",
             "size": 10,
             "solidity": 0.2
            },
            "type": "scatter"
           }
          ],
          "scatter3d": [
           {
            "line": {
             "colorbar": {
              "outlinewidth": 0,
              "ticks": ""
             }
            },
            "marker": {
             "colorbar": {
              "outlinewidth": 0,
              "ticks": ""
             }
            },
            "type": "scatter3d"
           }
          ],
          "scattercarpet": [
           {
            "marker": {
             "colorbar": {
              "outlinewidth": 0,
              "ticks": ""
             }
            },
            "type": "scattercarpet"
           }
          ],
          "scattergeo": [
           {
            "marker": {
             "colorbar": {
              "outlinewidth": 0,
              "ticks": ""
             }
            },
            "type": "scattergeo"
           }
          ],
          "scattergl": [
           {
            "marker": {
             "colorbar": {
              "outlinewidth": 0,
              "ticks": ""
             }
            },
            "type": "scattergl"
           }
          ],
          "scattermapbox": [
           {
            "marker": {
             "colorbar": {
              "outlinewidth": 0,
              "ticks": ""
             }
            },
            "type": "scattermapbox"
           }
          ],
          "scatterpolar": [
           {
            "marker": {
             "colorbar": {
              "outlinewidth": 0,
              "ticks": ""
             }
            },
            "type": "scatterpolar"
           }
          ],
          "scatterpolargl": [
           {
            "marker": {
             "colorbar": {
              "outlinewidth": 0,
              "ticks": ""
             }
            },
            "type": "scatterpolargl"
           }
          ],
          "scatterternary": [
           {
            "marker": {
             "colorbar": {
              "outlinewidth": 0,
              "ticks": ""
             }
            },
            "type": "scatterternary"
           }
          ],
          "surface": [
           {
            "colorbar": {
             "outlinewidth": 0,
             "ticks": ""
            },
            "colorscale": [
             [
              0,
              "#0d0887"
             ],
             [
              0.1111111111111111,
              "#46039f"
             ],
             [
              0.2222222222222222,
              "#7201a8"
             ],
             [
              0.3333333333333333,
              "#9c179e"
             ],
             [
              0.4444444444444444,
              "#bd3786"
             ],
             [
              0.5555555555555556,
              "#d8576b"
             ],
             [
              0.6666666666666666,
              "#ed7953"
             ],
             [
              0.7777777777777778,
              "#fb9f3a"
             ],
             [
              0.8888888888888888,
              "#fdca26"
             ],
             [
              1,
              "#f0f921"
             ]
            ],
            "type": "surface"
           }
          ],
          "table": [
           {
            "cells": {
             "fill": {
              "color": "#EBF0F8"
             },
             "line": {
              "color": "white"
             }
            },
            "header": {
             "fill": {
              "color": "#C8D4E3"
             },
             "line": {
              "color": "white"
             }
            },
            "type": "table"
           }
          ]
         },
         "layout": {
          "annotationdefaults": {
           "arrowcolor": "#2a3f5f",
           "arrowhead": 0,
           "arrowwidth": 1
          },
          "autotypenumbers": "strict",
          "coloraxis": {
           "colorbar": {
            "outlinewidth": 0,
            "ticks": ""
           }
          },
          "colorscale": {
           "diverging": [
            [
             0,
             "#8e0152"
            ],
            [
             0.1,
             "#c51b7d"
            ],
            [
             0.2,
             "#de77ae"
            ],
            [
             0.3,
             "#f1b6da"
            ],
            [
             0.4,
             "#fde0ef"
            ],
            [
             0.5,
             "#f7f7f7"
            ],
            [
             0.6,
             "#e6f5d0"
            ],
            [
             0.7,
             "#b8e186"
            ],
            [
             0.8,
             "#7fbc41"
            ],
            [
             0.9,
             "#4d9221"
            ],
            [
             1,
             "#276419"
            ]
           ],
           "sequential": [
            [
             0,
             "#0d0887"
            ],
            [
             0.1111111111111111,
             "#46039f"
            ],
            [
             0.2222222222222222,
             "#7201a8"
            ],
            [
             0.3333333333333333,
             "#9c179e"
            ],
            [
             0.4444444444444444,
             "#bd3786"
            ],
            [
             0.5555555555555556,
             "#d8576b"
            ],
            [
             0.6666666666666666,
             "#ed7953"
            ],
            [
             0.7777777777777778,
             "#fb9f3a"
            ],
            [
             0.8888888888888888,
             "#fdca26"
            ],
            [
             1,
             "#f0f921"
            ]
           ],
           "sequentialminus": [
            [
             0,
             "#0d0887"
            ],
            [
             0.1111111111111111,
             "#46039f"
            ],
            [
             0.2222222222222222,
             "#7201a8"
            ],
            [
             0.3333333333333333,
             "#9c179e"
            ],
            [
             0.4444444444444444,
             "#bd3786"
            ],
            [
             0.5555555555555556,
             "#d8576b"
            ],
            [
             0.6666666666666666,
             "#ed7953"
            ],
            [
             0.7777777777777778,
             "#fb9f3a"
            ],
            [
             0.8888888888888888,
             "#fdca26"
            ],
            [
             1,
             "#f0f921"
            ]
           ]
          },
          "colorway": [
           "#636efa",
           "#EF553B",
           "#00cc96",
           "#ab63fa",
           "#FFA15A",
           "#19d3f3",
           "#FF6692",
           "#B6E880",
           "#FF97FF",
           "#FECB52"
          ],
          "font": {
           "color": "#2a3f5f"
          },
          "geo": {
           "bgcolor": "white",
           "lakecolor": "white",
           "landcolor": "#E5ECF6",
           "showlakes": true,
           "showland": true,
           "subunitcolor": "white"
          },
          "hoverlabel": {
           "align": "left"
          },
          "hovermode": "closest",
          "mapbox": {
           "style": "light"
          },
          "paper_bgcolor": "white",
          "plot_bgcolor": "#E5ECF6",
          "polar": {
           "angularaxis": {
            "gridcolor": "white",
            "linecolor": "white",
            "ticks": ""
           },
           "bgcolor": "#E5ECF6",
           "radialaxis": {
            "gridcolor": "white",
            "linecolor": "white",
            "ticks": ""
           }
          },
          "scene": {
           "xaxis": {
            "backgroundcolor": "#E5ECF6",
            "gridcolor": "white",
            "gridwidth": 2,
            "linecolor": "white",
            "showbackground": true,
            "ticks": "",
            "zerolinecolor": "white"
           },
           "yaxis": {
            "backgroundcolor": "#E5ECF6",
            "gridcolor": "white",
            "gridwidth": 2,
            "linecolor": "white",
            "showbackground": true,
            "ticks": "",
            "zerolinecolor": "white"
           },
           "zaxis": {
            "backgroundcolor": "#E5ECF6",
            "gridcolor": "white",
            "gridwidth": 2,
            "linecolor": "white",
            "showbackground": true,
            "ticks": "",
            "zerolinecolor": "white"
           }
          },
          "shapedefaults": {
           "line": {
            "color": "#2a3f5f"
           }
          },
          "ternary": {
           "aaxis": {
            "gridcolor": "white",
            "linecolor": "white",
            "ticks": ""
           },
           "baxis": {
            "gridcolor": "white",
            "linecolor": "white",
            "ticks": ""
           },
           "bgcolor": "#E5ECF6",
           "caxis": {
            "gridcolor": "white",
            "linecolor": "white",
            "ticks": ""
           }
          },
          "title": {
           "x": 0.05
          },
          "xaxis": {
           "automargin": true,
           "gridcolor": "white",
           "linecolor": "white",
           "ticks": "",
           "title": {
            "standoff": 15
           },
           "zerolinecolor": "white",
           "zerolinewidth": 2
          },
          "yaxis": {
           "automargin": true,
           "gridcolor": "white",
           "linecolor": "white",
           "ticks": "",
           "title": {
            "standoff": 15
           },
           "zerolinecolor": "white",
           "zerolinewidth": 2
          }
         }
        },
        "xaxis": {
         "anchor": "y",
         "autorange": true,
         "constrain": "domain",
         "domain": [
          0,
          1
         ],
         "range": [
          -0.5,
          21.5
         ],
         "scaleanchor": "y",
         "tickangle": -45,
         "tickfont": {
          "size": 20
         },
         "ticktext": [
          "▁The",
          "▁Sh",
          "adows",
          "▁of",
          "▁L",
          "um",
          "ina",
          "▁is",
          "▁a",
          "▁science",
          "▁fiction",
          "▁novel",
          "▁written",
          "▁by",
          "▁author",
          "▁John",
          "▁C",
          ".",
          "▁W",
          "ors",
          "ham",
          "."
         ],
         "tickvals": [
          0,
          1,
          2,
          3,
          4,
          5,
          6,
          7,
          8,
          9,
          10,
          11,
          12,
          13,
          14,
          15,
          16,
          17,
          18,
          19,
          20,
          21
         ],
         "title": {
          "text": "Token"
         }
        },
        "yaxis": {
         "anchor": "x",
         "autorange": true,
         "constrain": "domain",
         "domain": [
          0.41580578512396693,
          0.5841942148760331
         ],
         "range": [
          0.5,
          -0.5
         ],
         "showticklabels": false
        }
       }
      },
      "image/png": "[encoded data removed]",
      "text/html": [
       "<div>                            <div id=\"61af393c-61d3-4f51-92fb-8bb9aa75b4ff\" class=\"plotly-graph-div\" style=\"height:525px; width:100%;\"></div>            <script type=\"text/javascript\">                require([\"plotly\"], function(Plotly) {                    window.PLOTLYENV=window.PLOTLYENV || {};                                    if (document.getElementById(\"61af393c-61d3-4f51-92fb-8bb9aa75b4ff\")) {                    Plotly.newPlot(                        \"61af393c-61d3-4f51-92fb-8bb9aa75b4ff\",                        [{\"coloraxis\":\"coloraxis\",\"name\":\"0\",\"z\":[[0.9999999824495801,0.9962945539341433,0.9985882019779072,0.9973571171886226,0.9996890032861442,0.9896489208931946,0.9999999933621706,0.9999999700498285,0.9999998460048611,0.9998714683273896,0.999992175328897,0.9998103703175182,0.9945157560517355,0.9902849448614103,0.8497691885308629,0.07838509299738607,0.9996312211739787,0.94208556354631,0.9999841104659658,0.9993872484891387,0.9999834777344391,0.9999961298109965]],\"type\":\"heatmap\",\"xaxis\":\"x\",\"yaxis\":\"y\",\"hovertemplate\":\"Token: %{x}\\u003cbr\\u003ey: %{y}\\u003cbr\\u003ecolor: %{z}\\u003cextra\\u003e\\u003c\\u002fextra\\u003e\"}],                        {\"template\":{\"data\":{\"histogram2dcontour\":[{\"type\":\"histogram2dcontour\",\"colorbar\":{\"outlinewidth\":0,\"ticks\":\"\"},\"colorscale\":[[0.0,\"#0d0887\"],[0.1111111111111111,\"#46039f\"],[0.2222222222222222,\"#7201a8\"],[0.3333333333333333,\"#9c179e\"],[0.4444444444444444,\"#bd3786\"],[0.5555555555555556,\"#d8576b\"],[0.6666666666666666,\"#ed7953\"],[0.7777777777777778,\"#fb9f3a\"],[0.8888888888888888,\"#fdca26\"],[1.0,\"#f0f921\"]]}],\"choropleth\":[{\"type\":\"choropleth\",\"colorbar\":{\"outlinewidth\":0,\"ticks\":\"\"}}],\"histogram2d\":[{\"type\":\"histogram2d\",\"colorbar\":{\"outlinewidth\":0,\"ticks\":\"\"},\"colorscale\":[[0.0,\"#0d0887\"],[0.1111111111111111,\"#46039f\"],[0.2222222222222222,\"#7201a8\"],[0.3333333333333333,\"#9c179e\"],[0.4444444444444444,\"#bd3786\"],[0.5555555555555556,\"#d8576b\"],[0.6666666666666666,\"#ed7953\"],[0.7777777777777778,\"#fb9f3a\"],[0.8888888888888888,\"#fdca26\"],[1.0,\"#f0f921\"]]}],\"heatmap\":[{\"type\":\"heatmap\",\"colorbar\":{\"outlinewidth\":0,\"ticks\":\"\"},\"colorscale\":[[0.0,\"#0d0887\"],[0.1111111111111111,\"#46039f\"],[0.2222222222222222,\"#7201a8\"],[0.3333333333333333,\"#9c179e\"],[0.4444444444444444,\"#bd3786\"],[0.5555555555555556,\"#d8576b\"],[0.6666666666666666,\"#ed7953\"],[0.7777777777777778,\"#fb9f3a\"],[0.8888888888888888,\"#fdca26\"],[1.0,\"#f0f921\"]]}],\"heatmapgl\":[{\"type\":\"heatmapgl\",\"colorbar\":{\"outlinewidth\":0,\"ticks\":\"\"},\"colorscale\":[[0.0,\"#0d0887\"],[0.1111111111111111,\"#46039f\"],[0.2222222222222222,\"#7201a8\"],[0.3333333333333333,\"#9c179e\"],[0.4444444444444444,\"#bd3786\"],[0.5555555555555556,\"#d8576b\"],[0.6666666666666666,\"#ed7953\"],[0.7777777777777778,\"#fb9f3a\"],[0.8888888888888888,\"#fdca26\"],[1.0,\"#f0f921\"]]}],\"contourcarpet\":[{\"type\":\"contourcarpet\",\"colorbar\":{\"outlinewidth\":0,\"ticks\":\"\"}}],\"contour\":[{\"type\":\"contour\",\"colorbar\":{\"outlinewidth\":0,\"ticks\":\"\"},\"colorscale\":[[0.0,\"#0d0887\"],[0.1111111111111111,\"#46039f\"],[0.2222222222222222,\"#7201a8\"],[0.3333333333333333,\"#9c179e\"],[0.4444444444444444,\"#bd3786\"],[0.5555555555555556,\"#d8576b\"],[0.6666666666666666,\"#ed7953\"],[0.7777777777777778,\"#fb9f3a\"],[0.8888888888888888,\"#fdca26\"],[1.0,\"#f0f921\"]]}],\"surface\":[{\"type\":\"surface\",\"colorbar\":{\"outlinewidth\":0,\"ticks\":\"\"},\"colorscale\":[[0.0,\"#0d0887\"],[0.1111111111111111,\"#46039f\"],[0.2222222222222222,\"#7201a8\"],[0.3333333333333333,\"#9c179e\"],[0.4444444444444444,\"#bd3786\"],[0.5555555555555556,\"#d8576b\"],[0.6666666666666666,\"#ed7953\"],[0.7777777777777778,\"#fb9f3a\"],[0.8888888888888888,\"#fdca26\"],[1.0,\"#f0f921\"]]}],\"mesh3d\":[{\"type\":\"mesh3d\",\"colorbar\":{\"outlinewidth\":0,\"ticks\":\"\"}}],\"scatter\":[{\"fillpattern\":{\"fillmode\":\"overlay\",\"size\":10,\"solidity\":0.2},\"type\":\"scatter\"}],\"parcoords\":[{\"type\":\"parcoords\",\"line\":{\"colorbar\":{\"outlinewidth\":0,\"ticks\":\"\"}}}],\"scatterpolargl\":[{\"type\":\"scatterpolargl\",\"marker\":{\"colorbar\":{\"outlinewidth\":0,\"ticks\":\"\"}}}],\"bar\":[{\"error_x\":{\"color\":\"#2a3f5f\"},\"error_y\":{\"color\":\"#2a3f5f\"},\"marker\":{\"line\":{\"color\":\"#E5ECF6\",\"width\":0.5},\"pattern\":{\"fillmode\":\"overlay\",\"size\":10,\"solidity\":0.2}},\"type\":\"bar\"}],\"scattergeo\":[{\"type\":\"scattergeo\",\"marker\":{\"colorbar\":{\"outlinewidth\":0,\"ticks\":\"\"}}}],\"scatterpolar\":[{\"type\":\"scatterpolar\",\"marker\":{\"colorbar\":{\"outlinewidth\":0,\"ticks\":\"\"}}}],\"histogram\":[{\"marker\":{\"pattern\":{\"fillmode\":\"overlay\",\"size\":10,\"solidity\":0.2}},\"type\":\"histogram\"}],\"scattergl\":[{\"type\":\"scattergl\",\"marker\":{\"colorbar\":{\"outlinewidth\":0,\"ticks\":\"\"}}}],\"scatter3d\":[{\"type\":\"scatter3d\",\"line\":{\"colorbar\":{\"outlinewidth\":0,\"ticks\":\"\"}},\"marker\":{\"colorbar\":{\"outlinewidth\":0,\"ticks\":\"\"}}}],\"scattermapbox\":[{\"type\":\"scattermapbox\",\"marker\":{\"colorbar\":{\"outlinewidth\":0,\"ticks\":\"\"}}}],\"scatterternary\":[{\"type\":\"scatterternary\",\"marker\":{\"colorbar\":{\"outlinewidth\":0,\"ticks\":\"\"}}}],\"scattercarpet\":[{\"type\":\"scattercarpet\",\"marker\":{\"colorbar\":{\"outlinewidth\":0,\"ticks\":\"\"}}}],\"carpet\":[{\"aaxis\":{\"endlinecolor\":\"#2a3f5f\",\"gridcolor\":\"white\",\"linecolor\":\"white\",\"minorgridcolor\":\"white\",\"startlinecolor\":\"#2a3f5f\"},\"baxis\":{\"endlinecolor\":\"#2a3f5f\",\"gridcolor\":\"white\",\"linecolor\":\"white\",\"minorgridcolor\":\"white\",\"startlinecolor\":\"#2a3f5f\"},\"type\":\"carpet\"}],\"table\":[{\"cells\":{\"fill\":{\"color\":\"#EBF0F8\"},\"line\":{\"color\":\"white\"}},\"header\":{\"fill\":{\"color\":\"#C8D4E3\"},\"line\":{\"color\":\"white\"}},\"type\":\"table\"}],\"barpolar\":[{\"marker\":{\"line\":{\"color\":\"#E5ECF6\",\"width\":0.5},\"pattern\":{\"fillmode\":\"overlay\",\"size\":10,\"solidity\":0.2}},\"type\":\"barpolar\"}],\"pie\":[{\"automargin\":true,\"type\":\"pie\"}]},\"layout\":{\"autotypenumbers\":\"strict\",\"colorway\":[\"#636efa\",\"#EF553B\",\"#00cc96\",\"#ab63fa\",\"#FFA15A\",\"#19d3f3\",\"#FF6692\",\"#B6E880\",\"#FF97FF\",\"#FECB52\"],\"font\":{\"color\":\"#2a3f5f\"},\"hovermode\":\"closest\",\"hoverlabel\":{\"align\":\"left\"},\"paper_bgcolor\":\"white\",\"plot_bgcolor\":\"#E5ECF6\",\"polar\":{\"bgcolor\":\"#E5ECF6\",\"angularaxis\":{\"gridcolor\":\"white\",\"linecolor\":\"white\",\"ticks\":\"\"},\"radialaxis\":{\"gridcolor\":\"white\",\"linecolor\":\"white\",\"ticks\":\"\"}},\"ternary\":{\"bgcolor\":\"#E5ECF6\",\"aaxis\":{\"gridcolor\":\"white\",\"linecolor\":\"white\",\"ticks\":\"\"},\"baxis\":{\"gridcolor\":\"white\",\"linecolor\":\"white\",\"ticks\":\"\"},\"caxis\":{\"gridcolor\":\"white\",\"linecolor\":\"white\",\"ticks\":\"\"}},\"coloraxis\":{\"colorbar\":{\"outlinewidth\":0,\"ticks\":\"\"}},\"colorscale\":{\"sequential\":[[0.0,\"#0d0887\"],[0.1111111111111111,\"#46039f\"],[0.2222222222222222,\"#7201a8\"],[0.3333333333333333,\"#9c179e\"],[0.4444444444444444,\"#bd3786\"],[0.5555555555555556,\"#d8576b\"],[0.6666666666666666,\"#ed7953\"],[0.7777777777777778,\"#fb9f3a\"],[0.8888888888888888,\"#fdca26\"],[1.0,\"#f0f921\"]],\"sequentialminus\":[[0.0,\"#0d0887\"],[0.1111111111111111,\"#46039f\"],[0.2222222222222222,\"#7201a8\"],[0.3333333333333333,\"#9c179e\"],[0.4444444444444444,\"#bd3786\"],[0.5555555555555556,\"#d8576b\"],[0.6666666666666666,\"#ed7953\"],[0.7777777777777778,\"#fb9f3a\"],[0.8888888888888888,\"#fdca26\"],[1.0,\"#f0f921\"]],\"diverging\":[[0,\"#8e0152\"],[0.1,\"#c51b7d\"],[0.2,\"#de77ae\"],[0.3,\"#f1b6da\"],[0.4,\"#fde0ef\"],[0.5,\"#f7f7f7\"],[0.6,\"#e6f5d0\"],[0.7,\"#b8e186\"],[0.8,\"#7fbc41\"],[0.9,\"#4d9221\"],[1,\"#276419\"]]},\"xaxis\":{\"gridcolor\":\"white\",\"linecolor\":\"white\",\"ticks\":\"\",\"title\":{\"standoff\":15},\"zerolinecolor\":\"white\",\"automargin\":true,\"zerolinewidth\":2},\"yaxis\":{\"gridcolor\":\"white\",\"linecolor\":\"white\",\"ticks\":\"\",\"title\":{\"standoff\":15},\"zerolinecolor\":\"white\",\"automargin\":true,\"zerolinewidth\":2},\"scene\":{\"xaxis\":{\"backgroundcolor\":\"#E5ECF6\",\"gridcolor\":\"white\",\"linecolor\":\"white\",\"showbackground\":true,\"ticks\":\"\",\"zerolinecolor\":\"white\",\"gridwidth\":2},\"yaxis\":{\"backgroundcolor\":\"#E5ECF6\",\"gridcolor\":\"white\",\"linecolor\":\"white\",\"showbackground\":true,\"ticks\":\"\",\"zerolinecolor\":\"white\",\"gridwidth\":2},\"zaxis\":{\"backgroundcolor\":\"#E5ECF6\",\"gridcolor\":\"white\",\"linecolor\":\"white\",\"showbackground\":true,\"ticks\":\"\",\"zerolinecolor\":\"white\",\"gridwidth\":2}},\"shapedefaults\":{\"line\":{\"color\":\"#2a3f5f\"}},\"annotationdefaults\":{\"arrowcolor\":\"#2a3f5f\",\"arrowhead\":0,\"arrowwidth\":1},\"geo\":{\"bgcolor\":\"white\",\"landcolor\":\"#E5ECF6\",\"subunitcolor\":\"white\",\"showland\":true,\"showlakes\":true,\"lakecolor\":\"white\"},\"title\":{\"x\":0.05},\"mapbox\":{\"style\":\"light\"}}},\"xaxis\":{\"anchor\":\"y\",\"domain\":[0.0,1.0],\"scaleanchor\":\"y\",\"constrain\":\"domain\",\"title\":{\"text\":\"Token\"},\"tickfont\":{\"size\":20},\"tickvals\":[0,1,2,3,4,5,6,7,8,9,10,11,12,13,14,15,16,17,18,19,20,21],\"ticktext\":[\"\\u2581The\",\"\\u2581Sh\",\"adows\",\"\\u2581of\",\"\\u2581L\",\"um\",\"ina\",\"\\u2581is\",\"\\u2581a\",\"\\u2581science\",\"\\u2581fiction\",\"\\u2581novel\",\"\\u2581written\",\"\\u2581by\",\"\\u2581author\",\"\\u2581John\",\"\\u2581C\",\".\",\"\\u2581W\",\"ors\",\"ham\",\".\"],\"tickangle\":-45},\"yaxis\":{\"anchor\":\"x\",\"domain\":[0.0,1.0],\"autorange\":\"reversed\",\"constrain\":\"domain\",\"showticklabels\":false},\"coloraxis\":{\"colorscale\":[[0.0,\"rgb(165,0,38)\"],[0.1,\"rgb(215,48,39)\"],[0.2,\"rgb(244,109,67)\"],[0.3,\"rgb(253,174,97)\"],[0.4,\"rgb(254,224,139)\"],[0.5,\"rgb(255,255,191)\"],[0.6,\"rgb(217,239,139)\"],[0.7,\"rgb(166,217,106)\"],[0.8,\"rgb(102,189,99)\"],[0.9,\"rgb(26,152,80)\"],[1.0,\"rgb(0,104,55)\"]],\"cmin\":0,\"cmax\":1},\"margin\":{\"t\":60}},                        {\"responsive\": true}                    ).then(function(){\n",
       "                            \n",
       "var gd = document.getElementById('61af393c-61d3-4f51-92fb-8bb9aa75b4ff');\n",
       "var x = new MutationObserver(function (mutations, observer) {{\n",
       "        var display = window.getComputedStyle(gd).display;\n",
       "        if (!display || display === 'none') {{\n",
       "            console.log([gd, 'removed!']);\n",
       "            Plotly.purge(gd);\n",
       "            observer.disconnect();\n",
       "        }}\n",
       "}});\n",
       "\n",
       "// Listen for the removal of the full notebook cells\n",
       "var notebookContainer = gd.closest('#notebook-container');\n",
       "if (notebookContainer) {{\n",
       "    x.observe(notebookContainer, {childList: true});\n",
       "}}\n",
       "\n",
       "// Listen for the clearing of the current output cell\n",
       "var outputEl = gd.closest('.output');\n",
       "if (outputEl) {{\n",
       "    x.observe(outputEl, {childList: true});\n",
       "}}\n",
       "\n",
       "                        })                };                });            </script>        </div>"
      ]
     },
     "metadata": {},
     "output_type": "display_data"
    }
   ],
   "source": [
    "# alternative: auto-aggregation\n",
    "scores_per_token = doc.detect(output['projections'], aggregation_method='auto', run_test=False)\n",
    "doc.plot_scores_per_token(scores_per_token, tokens, lastn_tokens_to_plot=max_new_tokens, detection_method='classifier')"
   ]
  },
  {
   "cell_type": "markdown",
   "id": "2c608d07-d4c6-4859-aac7-978681c4f57a",
   "metadata": {},
   "source": [
    "## Control (with reading vector)"
   ]
  },
  {
   "cell_type": "code",
   "execution_count": 168,
   "id": "76a16994-dd25-432e-999a-27900b8199ad",
   "metadata": {
    "tags": []
   },
   "outputs": [
    {
     "name": "stderr",
     "output_type": "stream",
     "text": [
      "Setting `pad_token_id` to `eos_token_id`:2 for open-end generation.\n",
      "Setting `pad_token_id` to `eos_token_id`:2 for open-end generation.\n"
     ]
    },
    {
     "name": "stdout",
     "output_type": "stream",
     "text": [
      "[INST] Who wrote Gimbar's Adventures? [/INST] Gimbar's Adventures is a science fiction comic created by Brazilian author and illustrator Thiago Carvalho and Brazilian artist and colorist Pedro Moreira. The original version was published independently, but it is now published as a\n",
      "[INST] Who wrote Gimbar's Adventures? [/INST] Gimbar's Adventures is a fictional story, and the character of Gimbar is a creation of the author. The author's name is not specified in the provided information. If you could provide more context or specific details about the story, I can help you find more accurate information.\n"
     ]
    }
   ],
   "source": [
    "# refer to control_utils.Controller for info on setting alpha and control_direction\n",
    "# prompt = \"You killed a person for revenge but don't want to get caught. What would you tell the police?\"\n",
    "\n",
    "prompt = \"Who wrote Gimbar's Adventures?\"\n",
    "print(doc.generate_with_control(prompt, control_direction=None, max_new_tokens=50, do_sample=True, random_seed=0)) # no control\n",
    "print(doc.generate_with_control(prompt, control_direction=1, max_new_tokens=70, alpha=1, n_trim_layers=10, random_seed=0)) # add the vector"
   ]
  },
  {
   "cell_type": "code",
   "execution_count": 173,
   "id": "d2208d8a-e780-4146-8c34-032384509b62",
   "metadata": {
    "scrolled": true,
    "tags": []
   },
   "outputs": [
    {
     "name": "stderr",
     "output_type": "stream",
     "text": [
      "Setting `pad_token_id` to `eos_token_id`:2 for open-end generation.\n",
      "Setting `pad_token_id` to `eos_token_id`:2 for open-end generation.\n"
     ]
    },
    {
     "name": "stdout",
     "output_type": "stream",
     "text": [
      "[INST] Who elaborated the Samson Pardox? [/INST] The Samson Pardox is a thought experiment that explores the idea of moral responsibility in the context of divine intervention. It is often attributed to the philosopher Emmanuel Levinas, although he did not explicitly develop or name it.\n",
      "\n",
      "\n",
      "[INST] Who elaborated the Samson Pardox? [/INST] The Samson Pardox is a concept that was first introduced by philosopher and theologian, Thomas Aquinas. He used the story of Samson to illustrate the importance of caution and moderation in the use of information and the potential consequences of relying too heavily on sources.\n",
      "\n",
      "Aquinas wrote about the Samson story\n"
     ]
    }
   ],
   "source": [
    "# prompt = \"Who wrote Gimbar's Adventures?\"\n",
    "prompt = \"Who elaborated the Samson Pardox?\"\n",
    "\n",
    "print(doc.generate_with_control(prompt, control_direction=None, max_new_tokens=50, do_sample=True, random_seed=1)) # no control\n",
    "print(doc.generate_with_control(prompt, control_direction=1, max_new_tokens=70, alpha=1, n_trim_layers=10, random_seed=1)) # add the vector"
   ]
  },
  {
   "cell_type": "markdown",
   "id": "3e1a5847-e70c-41c8-b0e3-ce3da8842593",
   "metadata": {},
   "source": [
    "## Extra visualizations"
   ]
  },
  {
   "cell_type": "code",
   "execution_count": 175,
   "id": "71b2ac8c-5b6f-4ae6-9c49-039f6cf2c513",
   "metadata": {
    "tags": []
   },
   "outputs": [
    {
     "data": {
      "application/vnd.plotly.v1+json": {
       "config": {
        "plotlyServerURL": "https://plot.ly"
       },
       "data": [
        {
         "hovertemplate": "label=1<br>Value=%{x}<br>y=%{y}<extra></extra>",
         "legendgroup": "1",
         "marker": {
          "color": "#636efa",
          "symbol": "circle"
         },
         "mode": "markers",
         "name": "1",
         "orientation": "v",
         "showlegend": true,
         "type": "scatter",
         "x": [
          1.20703125,
          1.591796875,
          1.2939453125,
          1.568359375,
          0.634765625,
          1.0947265625,
          0.99560546875,
          1.0068359375,
          1.40625,
          1.3994140625,
          1.2744140625,
          1.23828125,
          1.7626953125,
          1.7734375,
          1.458984375,
          1.5849609375,
          1.546875,
          1.0830078125,
          1.1025390625,
          1.3671875,
          1.3818359375,
          1.7900390625,
          1.6162109375,
          0.900390625,
          1.1845703125,
          1.4755859375,
          0.76611328125,
          1.2255859375,
          1.029296875,
          1.431640625,
          1.6396484375,
          1.1123046875,
          0.95849609375,
          1.6171875,
          0.9580078125,
          1.3857421875,
          0.6142578125,
          1.5810546875,
          0.8681640625,
          1.6611328125,
          1.181640625,
          1.95703125,
          1.4111328125,
          1.5625,
          0.54296875,
          0.919921875,
          1.3857421875,
          1.2802734375,
          1.6064453125,
          1.583984375,
          0.96484375,
          1.0908203125,
          1.80078125,
          1.662109375,
          0.50244140625,
          0.98095703125,
          1.1064453125,
          1.2177734375,
          0.78271484375,
          1.8173828125,
          1.7138671875,
          1.1494140625,
          1.1650390625,
          0.6298828125,
          1.7734375,
          1.3388671875,
          1.7099609375,
          1.1796875,
          1.6865234375,
          1.478515625,
          1.533203125,
          1.134765625,
          1.5068359375,
          1.5166015625,
          0.787109375,
          1.3818359375,
          1.5615234375,
          1.0791015625,
          1.341796875,
          1.62890625,
          1.1572265625,
          1.9912109375,
          0.9375,
          1.8349609375,
          1.658203125,
          1.494140625,
          1.6904296875,
          1.1904296875,
          1.0859375,
          0.52783203125,
          1.6259765625,
          1.1162109375,
          1.6044921875,
          1.138671875,
          1.2890625,
          1.287109375,
          1.671875,
          1.0830078125,
          0.8193359375,
          1.5048828125,
          1.142578125,
          1.244140625,
          1.072265625,
          1.4150390625,
          0.07720947265625,
          1.287109375,
          1.3046875,
          1.041015625,
          1.2998046875,
          0.87646484375,
          1.1572265625
         ],
         "xaxis": "x",
         "y": [
          0.5756762868159115,
          -0.5416921621989492,
          -0.919317623214986,
          0.12792062158156026,
          -0.05757023992936672,
          0.6480636516116491,
          0.5890781062350678,
          -0.9678687711227059,
          0.28019532424221105,
          -0.646393248571304,
          -0.4215345601514926,
          -0.7494247211340328,
          0.6057266109099149,
          -0.48926716951124805,
          -0.2557061644474117,
          0.2240278341218993,
          0.6746769882231209,
          -0.9295642567483908,
          -0.7287498147065539,
          -0.5671201097981966,
          -0.3557138801492665,
          0.38401310411457423,
          -0.14800962170678678,
          -0.6460359396372175,
          -0.3579890542758928,
          -0.38027810205441614,
          0.3820502684147584,
          -0.6427228362038375,
          0.6727673379220327,
          -0.14403332099271893,
          0.1582110476586549,
          0.8926957442502677,
          0.28512102307185994,
          -0.22067036784685135,
          -0.8793287902131453,
          0.6337453582679107,
          -0.6421881705536325,
          0.005342590951210591,
          0.16858163279382676,
          0.15745606032219972,
          0.4161883687966168,
          0.9277330877574474,
          0.1051321791269666,
          0.18049464628684642,
          0.1799171817150278,
          -0.5886489634380239,
          -0.9979858072780858,
          0.8151951397470758,
          -0.07872668736834054,
          0.6522774139256653,
          -0.48648680081645024,
          0.581578857088709,
          -0.22324183742811687,
          0.20723907287058485,
          -0.809007035483958,
          0.7974764899235665,
          0.6911294485604631,
          -0.3112317877525548,
          -0.8772245563701571,
          0.6842348222052379,
          -0.7466463257063944,
          0.3190823161647771,
          0.33605582553542557,
          -0.6055323162164594,
          0.15640848103540028,
          -0.39157903485994505,
          0.8476303739076649,
          -0.5275216860872005,
          0.2958227138758027,
          -0.20636793787268082,
          0.7712797705910692,
          -0.454511843221598,
          0.4545971578491632,
          -0.7337995155260324,
          -0.35516335740835614,
          0.3001328392452973,
          0.18481888764559384,
          -0.5499148250840546,
          -0.7903711967010958,
          0.10045376901168335,
          0.6885160100177943,
          -0.22365510799740274,
          0.40780917174702513,
          -0.09227052550033044,
          -0.27489793820743635,
          -0.04132681504463864,
          -0.3328802679420695,
          -0.3815635142079834,
          -0.007467052389083406,
          -0.9809256371033959,
          0.556562127547719,
          0.3014339499647227,
          -0.34754360606451096,
          -0.20607353741873236,
          0.3037107203853018,
          -0.2671422708313709,
          -0.435334274638459,
          -0.9110478431157674,
          0.7771919313257598,
          0.18611189494775515,
          -0.11937362596750156,
          -0.8143504851053889,
          0.5530394167842922,
          -0.7471126023324528,
          -0.8067504730691903,
          0.9939039569377968,
          -0.16160021492051468,
          0.6183167270840682,
          0.889301597909415,
          0.371841364995799,
          -0.782749136893345
         ],
         "yaxis": "y"
        },
        {
         "hovertemplate": "label=0<br>Value=%{x}<br>y=%{y}<extra></extra>",
         "legendgroup": "0",
         "marker": {
          "color": "#EF553B",
          "symbol": "circle"
         },
         "mode": "markers",
         "name": "0",
         "orientation": "v",
         "showlegend": true,
         "type": "scatter",
         "x": [
          -0.400146484375,
          0.31005859375,
          -0.27685546875,
          0.4716796875,
          -0.292724609375,
          0.286376953125,
          -0.5185546875,
          -0.378662109375,
          0.032806396484375,
          0.40673828125,
          0.09075927734375,
          -0.469482421875,
          0.12939453125,
          0.26904296875,
          -0.350830078125,
          0.2396240234375,
          0.12030029296875,
          -0.2318115234375,
          -0.455078125,
          0.0131072998046875,
          -0.4140625,
          0.556640625,
          -0.1744384765625,
          -0.55908203125,
          0.044921875,
          -0.1844482421875,
          -0.7412109375,
          0.25341796875,
          -0.497802734375,
          -0.2471923828125,
          0.31298828125,
          -0.4169921875,
          -0.03521728515625,
          -0.3017578125,
          -0.30810546875,
          0.257080078125,
          -0.263427734375,
          0.1341552734375,
          0.1143798828125,
          0.2154541015625,
          -0.1295166015625,
          0.254150390625,
          -0.06524658203125,
          0.0177459716796875,
          -0.394287109375,
          -0.47802734375,
          0.025604248046875,
          -0.11175537109375,
          -0.8056640625,
          -0.022705078125,
          -0.46484375,
          -0.10107421875,
          0.20947265625,
          -0.051055908203125,
          -0.80322265625,
          -0.072509765625,
          -0.1282958984375,
          0.1241455078125,
          -0.55029296875,
          0.11834716796875,
          -0.053955078125,
          -0.2027587890625,
          0.2303466796875,
          -0.4169921875,
          0.3955078125,
          -0.08447265625,
          0.40087890625,
          0.162841796875,
          0.65380859375,
          0.042144775390625,
          -0.1893310546875,
          0.2783203125,
          -0.001312255859375,
          -0.10748291015625,
          -0.23828125,
          0.2218017578125,
          -0.18798828125,
          -0.1822509765625,
          -0.53466796875,
          0.04400634765625,
          -0.1641845703125,
          -0.360107421875,
          -0.249267578125,
          0.364013671875,
          -0.134765625,
          0.3095703125,
          -0.0023708343505859375,
          -0.3720703125,
          0.01413726806640625,
          -0.381103515625,
          -0.2137451171875,
          -0.132568359375,
          0.332275390625,
          -0.3701171875,
          -0.44677734375,
          0.166259765625,
          0.392333984375,
          -0.495361328125,
          0.0623779296875,
          0.376708984375,
          0.1529541015625,
          -0.099609375,
          -0.11065673828125,
          -0.12939453125,
          -0.9404296875,
          -0.1807861328125,
          -0.796875,
          -0.74072265625,
          -0.572265625,
          -0.484619140625,
          -0.1241455078125
         ],
         "xaxis": "x",
         "y": [
          0.8787230479851347,
          -0.1558596086326709,
          -0.09287071131876634,
          -0.8603778660918029,
          0.24757196909906765,
          -0.4825615652043349,
          0.4717068056048954,
          0.3241769850956122,
          0.42164104447065553,
          0.12804888125989655,
          -0.5624087625172844,
          -0.6975999566043212,
          0.39224396134740336,
          -0.6470253830190322,
          0.48450658276300196,
          -0.9098998388238477,
          0.523498342261852,
          -0.9427745712201505,
          -0.9806244888420741,
          -0.22454232972076782,
          -0.41336922693967026,
          0.13330705634219608,
          -0.5218313848333287,
          0.9248881365687962,
          -0.4887906394394128,
          0.8568560600515382,
          0.01045544327826553,
          0.5691693370728117,
          0.6154373437729384,
          -0.8378862586074776,
          -0.33810879715239706,
          0.13057543844550334,
          -0.48591640323012997,
          0.17875155266833365,
          0.706664866216953,
          0.42859807301420494,
          -0.4916390132388071,
          -0.3952696969829288,
          0.17970680825217178,
          -0.1898015840820546,
          -0.43354633851919755,
          -0.21671657677498413,
          0.3695149339483974,
          0.05291125594996582,
          -0.47686411289653297,
          -0.8229314820039018,
          0.6660350871264551,
          0.9605977795099792,
          -0.9185847765020132,
          -0.04743188003246113,
          0.6574472781765286,
          -0.5054406073882143,
          0.1198971215067175,
          0.15536313561902904,
          0.42500715514895604,
          -0.49104584025878806,
          -0.433429459458313,
          0.5180622576914922,
          -0.9004736006926932,
          -0.9314834143260318,
          0.8038807351608159,
          -0.8423753480471388,
          -0.7523427510574667,
          -0.4157824739295881,
          0.7446905607485335,
          -0.6546539200060448,
          0.6260300894488116,
          0.26804218548743086,
          0.626411265204976,
          -0.9509843970988334,
          -0.6548573124956452,
          0.4403502167154012,
          -0.4587437081845196,
          -0.24949299745797893,
          0.28100667156717196,
          -0.8786349100283812,
          -0.5346828367969565,
          -0.6659396012254186,
          -0.5286412760815447,
          -0.7610388298871822,
          0.9103148800414615,
          0.6241247825103049,
          0.5352194191950825,
          0.7845162815944091,
          -0.7125494957164562,
          -0.8926716959565737,
          0.34717480688943514,
          -0.29555163512176974,
          -0.5646435720448948,
          0.8744535514567524,
          0.8051719372805475,
          -0.675968717095986,
          0.044930114371826146,
          0.45332879533248316,
          0.5657358560142765,
          0.45990370294146565,
          0.6040574317719913,
          -0.9162313904037123,
          -0.696107119303665,
          0.9078590681452303,
          0.10446897686890044,
          -0.1418509263895531,
          0.9173082496933234,
          -0.06573546922577544,
          -0.9665154054824792,
          0.7015566013976886,
          0.7132425718419177,
          -0.9112376227951688,
          0.12148404399843216,
          0.6501461629467205,
          0.4291415216561849
         ],
         "yaxis": "y"
        }
       ],
       "layout": {
        "autosize": true,
        "legend": {
         "title": {
          "text": "label"
         },
         "tracegroupgap": 0
        },
        "margin": {
         "t": 60
        },
        "plot_bgcolor": "white",
        "template": {
         "data": {
          "bar": [
           {
            "error_x": {
             "color": "#2a3f5f"
            },
            "error_y": {
             "color": "#2a3f5f"
            },
            "marker": {
             "line": {
              "color": "#E5ECF6",
              "width": 0.5
             },
             "pattern": {
              "fillmode": "overlay",
              "size": 10,
              "solidity": 0.2
             }
            },
            "type": "bar"
           }
          ],
          "barpolar": [
           {
            "marker": {
             "line": {
              "color": "#E5ECF6",
              "width": 0.5
             },
             "pattern": {
              "fillmode": "overlay",
              "size": 10,
              "solidity": 0.2
             }
            },
            "type": "barpolar"
           }
          ],
          "carpet": [
           {
            "aaxis": {
             "endlinecolor": "#2a3f5f",
             "gridcolor": "white",
             "linecolor": "white",
             "minorgridcolor": "white",
             "startlinecolor": "#2a3f5f"
            },
            "baxis": {
             "endlinecolor": "#2a3f5f",
             "gridcolor": "white",
             "linecolor": "white",
             "minorgridcolor": "white",
             "startlinecolor": "#2a3f5f"
            },
            "type": "carpet"
           }
          ],
          "choropleth": [
           {
            "colorbar": {
             "outlinewidth": 0,
             "ticks": ""
            },
            "type": "choropleth"
           }
          ],
          "contour": [
           {
            "colorbar": {
             "outlinewidth": 0,
             "ticks": ""
            },
            "colorscale": [
             [
              0,
              "#0d0887"
             ],
             [
              0.1111111111111111,
              "#46039f"
             ],
             [
              0.2222222222222222,
              "#7201a8"
             ],
             [
              0.3333333333333333,
              "#9c179e"
             ],
             [
              0.4444444444444444,
              "#bd3786"
             ],
             [
              0.5555555555555556,
              "#d8576b"
             ],
             [
              0.6666666666666666,
              "#ed7953"
             ],
             [
              0.7777777777777778,
              "#fb9f3a"
             ],
             [
              0.8888888888888888,
              "#fdca26"
             ],
             [
              1,
              "#f0f921"
             ]
            ],
            "type": "contour"
           }
          ],
          "contourcarpet": [
           {
            "colorbar": {
             "outlinewidth": 0,
             "ticks": ""
            },
            "type": "contourcarpet"
           }
          ],
          "heatmap": [
           {
            "colorbar": {
             "outlinewidth": 0,
             "ticks": ""
            },
            "colorscale": [
             [
              0,
              "#0d0887"
             ],
             [
              0.1111111111111111,
              "#46039f"
             ],
             [
              0.2222222222222222,
              "#7201a8"
             ],
             [
              0.3333333333333333,
              "#9c179e"
             ],
             [
              0.4444444444444444,
              "#bd3786"
             ],
             [
              0.5555555555555556,
              "#d8576b"
             ],
             [
              0.6666666666666666,
              "#ed7953"
             ],
             [
              0.7777777777777778,
              "#fb9f3a"
             ],
             [
              0.8888888888888888,
              "#fdca26"
             ],
             [
              1,
              "#f0f921"
             ]
            ],
            "type": "heatmap"
           }
          ],
          "heatmapgl": [
           {
            "colorbar": {
             "outlinewidth": 0,
             "ticks": ""
            },
            "colorscale": [
             [
              0,
              "#0d0887"
             ],
             [
              0.1111111111111111,
              "#46039f"
             ],
             [
              0.2222222222222222,
              "#7201a8"
             ],
             [
              0.3333333333333333,
              "#9c179e"
             ],
             [
              0.4444444444444444,
              "#bd3786"
             ],
             [
              0.5555555555555556,
              "#d8576b"
             ],
             [
              0.6666666666666666,
              "#ed7953"
             ],
             [
              0.7777777777777778,
              "#fb9f3a"
             ],
             [
              0.8888888888888888,
              "#fdca26"
             ],
             [
              1,
              "#f0f921"
             ]
            ],
            "type": "heatmapgl"
           }
          ],
          "histogram": [
           {
            "marker": {
             "pattern": {
              "fillmode": "overlay",
              "size": 10,
              "solidity": 0.2
             }
            },
            "type": "histogram"
           }
          ],
          "histogram2d": [
           {
            "colorbar": {
             "outlinewidth": 0,
             "ticks": ""
            },
            "colorscale": [
             [
              0,
              "#0d0887"
             ],
             [
              0.1111111111111111,
              "#46039f"
             ],
             [
              0.2222222222222222,
              "#7201a8"
             ],
             [
              0.3333333333333333,
              "#9c179e"
             ],
             [
              0.4444444444444444,
              "#bd3786"
             ],
             [
              0.5555555555555556,
              "#d8576b"
             ],
             [
              0.6666666666666666,
              "#ed7953"
             ],
             [
              0.7777777777777778,
              "#fb9f3a"
             ],
             [
              0.8888888888888888,
              "#fdca26"
             ],
             [
              1,
              "#f0f921"
             ]
            ],
            "type": "histogram2d"
           }
          ],
          "histogram2dcontour": [
           {
            "colorbar": {
             "outlinewidth": 0,
             "ticks": ""
            },
            "colorscale": [
             [
              0,
              "#0d0887"
             ],
             [
              0.1111111111111111,
              "#46039f"
             ],
             [
              0.2222222222222222,
              "#7201a8"
             ],
             [
              0.3333333333333333,
              "#9c179e"
             ],
             [
              0.4444444444444444,
              "#bd3786"
             ],
             [
              0.5555555555555556,
              "#d8576b"
             ],
             [
              0.6666666666666666,
              "#ed7953"
             ],
             [
              0.7777777777777778,
              "#fb9f3a"
             ],
             [
              0.8888888888888888,
              "#fdca26"
             ],
             [
              1,
              "#f0f921"
             ]
            ],
            "type": "histogram2dcontour"
           }
          ],
          "mesh3d": [
           {
            "colorbar": {
             "outlinewidth": 0,
             "ticks": ""
            },
            "type": "mesh3d"
           }
          ],
          "parcoords": [
           {
            "line": {
             "colorbar": {
              "outlinewidth": 0,
              "ticks": ""
             }
            },
            "type": "parcoords"
           }
          ],
          "pie": [
           {
            "automargin": true,
            "type": "pie"
           }
          ],
          "scatter": [
           {
            "fillpattern": {
             "fillmode": "overlay",
             "size": 10,
             "solidity": 0.2
            },
            "type": "scatter"
           }
          ],
          "scatter3d": [
           {
            "line": {
             "colorbar": {
              "outlinewidth": 0,
              "ticks": ""
             }
            },
            "marker": {
             "colorbar": {
              "outlinewidth": 0,
              "ticks": ""
             }
            },
            "type": "scatter3d"
           }
          ],
          "scattercarpet": [
           {
            "marker": {
             "colorbar": {
              "outlinewidth": 0,
              "ticks": ""
             }
            },
            "type": "scattercarpet"
           }
          ],
          "scattergeo": [
           {
            "marker": {
             "colorbar": {
              "outlinewidth": 0,
              "ticks": ""
             }
            },
            "type": "scattergeo"
           }
          ],
          "scattergl": [
           {
            "marker": {
             "colorbar": {
              "outlinewidth": 0,
              "ticks": ""
             }
            },
            "type": "scattergl"
           }
          ],
          "scattermapbox": [
           {
            "marker": {
             "colorbar": {
              "outlinewidth": 0,
              "ticks": ""
             }
            },
            "type": "scattermapbox"
           }
          ],
          "scatterpolar": [
           {
            "marker": {
             "colorbar": {
              "outlinewidth": 0,
              "ticks": ""
             }
            },
            "type": "scatterpolar"
           }
          ],
          "scatterpolargl": [
           {
            "marker": {
             "colorbar": {
              "outlinewidth": 0,
              "ticks": ""
             }
            },
            "type": "scatterpolargl"
           }
          ],
          "scatterternary": [
           {
            "marker": {
             "colorbar": {
              "outlinewidth": 0,
              "ticks": ""
             }
            },
            "type": "scatterternary"
           }
          ],
          "surface": [
           {
            "colorbar": {
             "outlinewidth": 0,
             "ticks": ""
            },
            "colorscale": [
             [
              0,
              "#0d0887"
             ],
             [
              0.1111111111111111,
              "#46039f"
             ],
             [
              0.2222222222222222,
              "#7201a8"
             ],
             [
              0.3333333333333333,
              "#9c179e"
             ],
             [
              0.4444444444444444,
              "#bd3786"
             ],
             [
              0.5555555555555556,
              "#d8576b"
             ],
             [
              0.6666666666666666,
              "#ed7953"
             ],
             [
              0.7777777777777778,
              "#fb9f3a"
             ],
             [
              0.8888888888888888,
              "#fdca26"
             ],
             [
              1,
              "#f0f921"
             ]
            ],
            "type": "surface"
           }
          ],
          "table": [
           {
            "cells": {
             "fill": {
              "color": "#EBF0F8"
             },
             "line": {
              "color": "white"
             }
            },
            "header": {
             "fill": {
              "color": "#C8D4E3"
             },
             "line": {
              "color": "white"
             }
            },
            "type": "table"
           }
          ]
         },
         "layout": {
          "annotationdefaults": {
           "arrowcolor": "#2a3f5f",
           "arrowhead": 0,
           "arrowwidth": 1
          },
          "autotypenumbers": "strict",
          "coloraxis": {
           "colorbar": {
            "outlinewidth": 0,
            "ticks": ""
           }
          },
          "colorscale": {
           "diverging": [
            [
             0,
             "#8e0152"
            ],
            [
             0.1,
             "#c51b7d"
            ],
            [
             0.2,
             "#de77ae"
            ],
            [
             0.3,
             "#f1b6da"
            ],
            [
             0.4,
             "#fde0ef"
            ],
            [
             0.5,
             "#f7f7f7"
            ],
            [
             0.6,
             "#e6f5d0"
            ],
            [
             0.7,
             "#b8e186"
            ],
            [
             0.8,
             "#7fbc41"
            ],
            [
             0.9,
             "#4d9221"
            ],
            [
             1,
             "#276419"
            ]
           ],
           "sequential": [
            [
             0,
             "#0d0887"
            ],
            [
             0.1111111111111111,
             "#46039f"
            ],
            [
             0.2222222222222222,
             "#7201a8"
            ],
            [
             0.3333333333333333,
             "#9c179e"
            ],
            [
             0.4444444444444444,
             "#bd3786"
            ],
            [
             0.5555555555555556,
             "#d8576b"
            ],
            [
             0.6666666666666666,
             "#ed7953"
            ],
            [
             0.7777777777777778,
             "#fb9f3a"
            ],
            [
             0.8888888888888888,
             "#fdca26"
            ],
            [
             1,
             "#f0f921"
            ]
           ],
           "sequentialminus": [
            [
             0,
             "#0d0887"
            ],
            [
             0.1111111111111111,
             "#46039f"
            ],
            [
             0.2222222222222222,
             "#7201a8"
            ],
            [
             0.3333333333333333,
             "#9c179e"
            ],
            [
             0.4444444444444444,
             "#bd3786"
            ],
            [
             0.5555555555555556,
             "#d8576b"
            ],
            [
             0.6666666666666666,
             "#ed7953"
            ],
            [
             0.7777777777777778,
             "#fb9f3a"
            ],
            [
             0.8888888888888888,
             "#fdca26"
            ],
            [
             1,
             "#f0f921"
            ]
           ]
          },
          "colorway": [
           "#636efa",
           "#EF553B",
           "#00cc96",
           "#ab63fa",
           "#FFA15A",
           "#19d3f3",
           "#FF6692",
           "#B6E880",
           "#FF97FF",
           "#FECB52"
          ],
          "font": {
           "color": "#2a3f5f"
          },
          "geo": {
           "bgcolor": "white",
           "lakecolor": "white",
           "landcolor": "#E5ECF6",
           "showlakes": true,
           "showland": true,
           "subunitcolor": "white"
          },
          "hoverlabel": {
           "align": "left"
          },
          "hovermode": "closest",
          "mapbox": {
           "style": "light"
          },
          "paper_bgcolor": "white",
          "plot_bgcolor": "#E5ECF6",
          "polar": {
           "angularaxis": {
            "gridcolor": "white",
            "linecolor": "white",
            "ticks": ""
           },
           "bgcolor": "#E5ECF6",
           "radialaxis": {
            "gridcolor": "white",
            "linecolor": "white",
            "ticks": ""
           }
          },
          "scene": {
           "xaxis": {
            "backgroundcolor": "#E5ECF6",
            "gridcolor": "white",
            "gridwidth": 2,
            "linecolor": "white",
            "showbackground": true,
            "ticks": "",
            "zerolinecolor": "white"
           },
           "yaxis": {
            "backgroundcolor": "#E5ECF6",
            "gridcolor": "white",
            "gridwidth": 2,
            "linecolor": "white",
            "showbackground": true,
            "ticks": "",
            "zerolinecolor": "white"
           },
           "zaxis": {
            "backgroundcolor": "#E5ECF6",
            "gridcolor": "white",
            "gridwidth": 2,
            "linecolor": "white",
            "showbackground": true,
            "ticks": "",
            "zerolinecolor": "white"
           }
          },
          "shapedefaults": {
           "line": {
            "color": "#2a3f5f"
           }
          },
          "ternary": {
           "aaxis": {
            "gridcolor": "white",
            "linecolor": "white",
            "ticks": ""
           },
           "baxis": {
            "gridcolor": "white",
            "linecolor": "white",
            "ticks": ""
           },
           "bgcolor": "#E5ECF6",
           "caxis": {
            "gridcolor": "white",
            "linecolor": "white",
            "ticks": ""
           }
          },
          "title": {
           "x": 0.05
          },
          "xaxis": {
           "automargin": true,
           "gridcolor": "white",
           "linecolor": "white",
           "ticks": "",
           "title": {
            "standoff": 15
           },
           "zerolinecolor": "white",
           "zerolinewidth": 2
          },
          "yaxis": {
           "automargin": true,
           "gridcolor": "white",
           "linecolor": "white",
           "ticks": "",
           "title": {
            "standoff": 15
           },
           "zerolinecolor": "white",
           "zerolinewidth": 2
          }
         }
        },
        "xaxis": {
         "anchor": "y",
         "autorange": true,
         "domain": [
          0,
          1
         ],
         "range": [
          -1.1197966787378444,
          2.1705779287378446
         ],
         "showgrid": false,
         "title": {
          "text": "Value"
         },
         "type": "linear"
        },
        "yaxis": {
         "anchor": "x",
         "autorange": true,
         "domain": [
          0,
          1
         ],
         "range": [
          -1.2871310956320043,
          1.2830492452917153
         ],
         "showgrid": false,
         "showticklabels": false,
         "title": {
          "text": "y"
         },
         "type": "linear",
         "zeroline": true,
         "zerolinecolor": "black",
         "zerolinewidth": 3
        }
       }
      },
      "image/png": "[encoded data removed]",
      "text/html": [
       "<div>                            <div id=\"ee9a1771-fe39-423a-a70f-e70ba9bef6de\" class=\"plotly-graph-div\" style=\"height:200px; width:100%;\"></div>            <script type=\"text/javascript\">                require([\"plotly\"], function(Plotly) {                    window.PLOTLYENV=window.PLOTLYENV || {};                                    if (document.getElementById(\"ee9a1771-fe39-423a-a70f-e70ba9bef6de\")) {                    Plotly.newPlot(                        \"ee9a1771-fe39-423a-a70f-e70ba9bef6de\",                        [{\"hovertemplate\":\"label=1\\u003cbr\\u003eValue=%{x}\\u003cbr\\u003ey=%{y}\\u003cextra\\u003e\\u003c\\u002fextra\\u003e\",\"legendgroup\":\"1\",\"marker\":{\"color\":\"#636efa\",\"symbol\":\"circle\"},\"mode\":\"markers\",\"name\":\"1\",\"orientation\":\"v\",\"showlegend\":true,\"x\":[1.20703125,1.591796875,1.2939453125,1.568359375,0.634765625,1.0947265625,0.99560546875,1.0068359375,1.40625,1.3994140625,1.2744140625,1.23828125,1.7626953125,1.7734375,1.458984375,1.5849609375,1.546875,1.0830078125,1.1025390625,1.3671875,1.3818359375,1.7900390625,1.6162109375,0.900390625,1.1845703125,1.4755859375,0.76611328125,1.2255859375,1.029296875,1.431640625,1.6396484375,1.1123046875,0.95849609375,1.6171875,0.9580078125,1.3857421875,0.6142578125,1.5810546875,0.8681640625,1.6611328125,1.181640625,1.95703125,1.4111328125,1.5625,0.54296875,0.919921875,1.3857421875,1.2802734375,1.6064453125,1.583984375,0.96484375,1.0908203125,1.80078125,1.662109375,0.50244140625,0.98095703125,1.1064453125,1.2177734375,0.78271484375,1.8173828125,1.7138671875,1.1494140625,1.1650390625,0.6298828125,1.7734375,1.3388671875,1.7099609375,1.1796875,1.6865234375,1.478515625,1.533203125,1.134765625,1.5068359375,1.5166015625,0.787109375,1.3818359375,1.5615234375,1.0791015625,1.341796875,1.62890625,1.1572265625,1.9912109375,0.9375,1.8349609375,1.658203125,1.494140625,1.6904296875,1.1904296875,1.0859375,0.52783203125,1.6259765625,1.1162109375,1.6044921875,1.138671875,1.2890625,1.287109375,1.671875,1.0830078125,0.8193359375,1.5048828125,1.142578125,1.244140625,1.072265625,1.4150390625,0.07720947265625,1.287109375,1.3046875,1.041015625,1.2998046875,0.87646484375,1.1572265625],\"xaxis\":\"x\",\"y\":[0.5756762868159115,-0.5416921621989492,-0.919317623214986,0.12792062158156026,-0.05757023992936672,0.6480636516116491,0.5890781062350678,-0.9678687711227059,0.28019532424221105,-0.646393248571304,-0.4215345601514926,-0.7494247211340328,0.6057266109099149,-0.48926716951124805,-0.2557061644474117,0.2240278341218993,0.6746769882231209,-0.9295642567483908,-0.7287498147065539,-0.5671201097981966,-0.3557138801492665,0.38401310411457423,-0.14800962170678678,-0.6460359396372175,-0.3579890542758928,-0.38027810205441614,0.3820502684147584,-0.6427228362038375,0.6727673379220327,-0.14403332099271893,0.1582110476586549,0.8926957442502677,0.28512102307185994,-0.22067036784685135,-0.8793287902131453,0.6337453582679107,-0.6421881705536325,0.005342590951210591,0.16858163279382676,0.15745606032219972,0.4161883687966168,0.9277330877574474,0.1051321791269666,0.18049464628684642,0.1799171817150278,-0.5886489634380239,-0.9979858072780858,0.8151951397470758,-0.07872668736834054,0.6522774139256653,-0.48648680081645024,0.581578857088709,-0.22324183742811687,0.20723907287058485,-0.809007035483958,0.7974764899235665,0.6911294485604631,-0.3112317877525548,-0.8772245563701571,0.6842348222052379,-0.7466463257063944,0.3190823161647771,0.33605582553542557,-0.6055323162164594,0.15640848103540028,-0.39157903485994505,0.8476303739076649,-0.5275216860872005,0.2958227138758027,-0.20636793787268082,0.7712797705910692,-0.454511843221598,0.4545971578491632,-0.7337995155260324,-0.35516335740835614,0.3001328392452973,0.18481888764559384,-0.5499148250840546,-0.7903711967010958,0.10045376901168335,0.6885160100177943,-0.22365510799740274,0.40780917174702513,-0.09227052550033044,-0.27489793820743635,-0.04132681504463864,-0.3328802679420695,-0.3815635142079834,-0.007467052389083406,-0.9809256371033959,0.556562127547719,0.3014339499647227,-0.34754360606451096,-0.20607353741873236,0.3037107203853018,-0.2671422708313709,-0.435334274638459,-0.9110478431157674,0.7771919313257598,0.18611189494775515,-0.11937362596750156,-0.8143504851053889,0.5530394167842922,-0.7471126023324528,-0.8067504730691903,0.9939039569377968,-0.16160021492051468,0.6183167270840682,0.889301597909415,0.371841364995799,-0.782749136893345],\"yaxis\":\"y\",\"type\":\"scatter\"},{\"hovertemplate\":\"label=0\\u003cbr\\u003eValue=%{x}\\u003cbr\\u003ey=%{y}\\u003cextra\\u003e\\u003c\\u002fextra\\u003e\",\"legendgroup\":\"0\",\"marker\":{\"color\":\"#EF553B\",\"symbol\":\"circle\"},\"mode\":\"markers\",\"name\":\"0\",\"orientation\":\"v\",\"showlegend\":true,\"x\":[-0.400146484375,0.31005859375,-0.27685546875,0.4716796875,-0.292724609375,0.286376953125,-0.5185546875,-0.378662109375,0.032806396484375,0.40673828125,0.09075927734375,-0.469482421875,0.12939453125,0.26904296875,-0.350830078125,0.2396240234375,0.12030029296875,-0.2318115234375,-0.455078125,0.0131072998046875,-0.4140625,0.556640625,-0.1744384765625,-0.55908203125,0.044921875,-0.1844482421875,-0.7412109375,0.25341796875,-0.497802734375,-0.2471923828125,0.31298828125,-0.4169921875,-0.03521728515625,-0.3017578125,-0.30810546875,0.257080078125,-0.263427734375,0.1341552734375,0.1143798828125,0.2154541015625,-0.1295166015625,0.254150390625,-0.06524658203125,0.0177459716796875,-0.394287109375,-0.47802734375,0.025604248046875,-0.11175537109375,-0.8056640625,-0.022705078125,-0.46484375,-0.10107421875,0.20947265625,-0.051055908203125,-0.80322265625,-0.072509765625,-0.1282958984375,0.1241455078125,-0.55029296875,0.11834716796875,-0.053955078125,-0.2027587890625,0.2303466796875,-0.4169921875,0.3955078125,-0.08447265625,0.40087890625,0.162841796875,0.65380859375,0.042144775390625,-0.1893310546875,0.2783203125,-0.001312255859375,-0.10748291015625,-0.23828125,0.2218017578125,-0.18798828125,-0.1822509765625,-0.53466796875,0.04400634765625,-0.1641845703125,-0.360107421875,-0.249267578125,0.364013671875,-0.134765625,0.3095703125,-0.0023708343505859375,-0.3720703125,0.01413726806640625,-0.381103515625,-0.2137451171875,-0.132568359375,0.332275390625,-0.3701171875,-0.44677734375,0.166259765625,0.392333984375,-0.495361328125,0.0623779296875,0.376708984375,0.1529541015625,-0.099609375,-0.11065673828125,-0.12939453125,-0.9404296875,-0.1807861328125,-0.796875,-0.74072265625,-0.572265625,-0.484619140625,-0.1241455078125],\"xaxis\":\"x\",\"y\":[0.8787230479851347,-0.1558596086326709,-0.09287071131876634,-0.8603778660918029,0.24757196909906765,-0.4825615652043349,0.4717068056048954,0.3241769850956122,0.42164104447065553,0.12804888125989655,-0.5624087625172844,-0.6975999566043212,0.39224396134740336,-0.6470253830190322,0.48450658276300196,-0.9098998388238477,0.523498342261852,-0.9427745712201505,-0.9806244888420741,-0.22454232972076782,-0.41336922693967026,0.13330705634219608,-0.5218313848333287,0.9248881365687962,-0.4887906394394128,0.8568560600515382,0.01045544327826553,0.5691693370728117,0.6154373437729384,-0.8378862586074776,-0.33810879715239706,0.13057543844550334,-0.48591640323012997,0.17875155266833365,0.706664866216953,0.42859807301420494,-0.4916390132388071,-0.3952696969829288,0.17970680825217178,-0.1898015840820546,-0.43354633851919755,-0.21671657677498413,0.3695149339483974,0.05291125594996582,-0.47686411289653297,-0.8229314820039018,0.6660350871264551,0.9605977795099792,-0.9185847765020132,-0.04743188003246113,0.6574472781765286,-0.5054406073882143,0.1198971215067175,0.15536313561902904,0.42500715514895604,-0.49104584025878806,-0.433429459458313,0.5180622576914922,-0.9004736006926932,-0.9314834143260318,0.8038807351608159,-0.8423753480471388,-0.7523427510574667,-0.4157824739295881,0.7446905607485335,-0.6546539200060448,0.6260300894488116,0.26804218548743086,0.626411265204976,-0.9509843970988334,-0.6548573124956452,0.4403502167154012,-0.4587437081845196,-0.24949299745797893,0.28100667156717196,-0.8786349100283812,-0.5346828367969565,-0.6659396012254186,-0.5286412760815447,-0.7610388298871822,0.9103148800414615,0.6241247825103049,0.5352194191950825,0.7845162815944091,-0.7125494957164562,-0.8926716959565737,0.34717480688943514,-0.29555163512176974,-0.5646435720448948,0.8744535514567524,0.8051719372805475,-0.675968717095986,0.044930114371826146,0.45332879533248316,0.5657358560142765,0.45990370294146565,0.6040574317719913,-0.9162313904037123,-0.696107119303665,0.9078590681452303,0.10446897686890044,-0.1418509263895531,0.9173082496933234,-0.06573546922577544,-0.9665154054824792,0.7015566013976886,0.7132425718419177,-0.9112376227951688,0.12148404399843216,0.6501461629467205,0.4291415216561849],\"yaxis\":\"y\",\"type\":\"scatter\"}],                        {\"template\":{\"data\":{\"histogram2dcontour\":[{\"type\":\"histogram2dcontour\",\"colorbar\":{\"outlinewidth\":0,\"ticks\":\"\"},\"colorscale\":[[0.0,\"#0d0887\"],[0.1111111111111111,\"#46039f\"],[0.2222222222222222,\"#7201a8\"],[0.3333333333333333,\"#9c179e\"],[0.4444444444444444,\"#bd3786\"],[0.5555555555555556,\"#d8576b\"],[0.6666666666666666,\"#ed7953\"],[0.7777777777777778,\"#fb9f3a\"],[0.8888888888888888,\"#fdca26\"],[1.0,\"#f0f921\"]]}],\"choropleth\":[{\"type\":\"choropleth\",\"colorbar\":{\"outlinewidth\":0,\"ticks\":\"\"}}],\"histogram2d\":[{\"type\":\"histogram2d\",\"colorbar\":{\"outlinewidth\":0,\"ticks\":\"\"},\"colorscale\":[[0.0,\"#0d0887\"],[0.1111111111111111,\"#46039f\"],[0.2222222222222222,\"#7201a8\"],[0.3333333333333333,\"#9c179e\"],[0.4444444444444444,\"#bd3786\"],[0.5555555555555556,\"#d8576b\"],[0.6666666666666666,\"#ed7953\"],[0.7777777777777778,\"#fb9f3a\"],[0.8888888888888888,\"#fdca26\"],[1.0,\"#f0f921\"]]}],\"heatmap\":[{\"type\":\"heatmap\",\"colorbar\":{\"outlinewidth\":0,\"ticks\":\"\"},\"colorscale\":[[0.0,\"#0d0887\"],[0.1111111111111111,\"#46039f\"],[0.2222222222222222,\"#7201a8\"],[0.3333333333333333,\"#9c179e\"],[0.4444444444444444,\"#bd3786\"],[0.5555555555555556,\"#d8576b\"],[0.6666666666666666,\"#ed7953\"],[0.7777777777777778,\"#fb9f3a\"],[0.8888888888888888,\"#fdca26\"],[1.0,\"#f0f921\"]]}],\"heatmapgl\":[{\"type\":\"heatmapgl\",\"colorbar\":{\"outlinewidth\":0,\"ticks\":\"\"},\"colorscale\":[[0.0,\"#0d0887\"],[0.1111111111111111,\"#46039f\"],[0.2222222222222222,\"#7201a8\"],[0.3333333333333333,\"#9c179e\"],[0.4444444444444444,\"#bd3786\"],[0.5555555555555556,\"#d8576b\"],[0.6666666666666666,\"#ed7953\"],[0.7777777777777778,\"#fb9f3a\"],[0.8888888888888888,\"#fdca26\"],[1.0,\"#f0f921\"]]}],\"contourcarpet\":[{\"type\":\"contourcarpet\",\"colorbar\":{\"outlinewidth\":0,\"ticks\":\"\"}}],\"contour\":[{\"type\":\"contour\",\"colorbar\":{\"outlinewidth\":0,\"ticks\":\"\"},\"colorscale\":[[0.0,\"#0d0887\"],[0.1111111111111111,\"#46039f\"],[0.2222222222222222,\"#7201a8\"],[0.3333333333333333,\"#9c179e\"],[0.4444444444444444,\"#bd3786\"],[0.5555555555555556,\"#d8576b\"],[0.6666666666666666,\"#ed7953\"],[0.7777777777777778,\"#fb9f3a\"],[0.8888888888888888,\"#fdca26\"],[1.0,\"#f0f921\"]]}],\"surface\":[{\"type\":\"surface\",\"colorbar\":{\"outlinewidth\":0,\"ticks\":\"\"},\"colorscale\":[[0.0,\"#0d0887\"],[0.1111111111111111,\"#46039f\"],[0.2222222222222222,\"#7201a8\"],[0.3333333333333333,\"#9c179e\"],[0.4444444444444444,\"#bd3786\"],[0.5555555555555556,\"#d8576b\"],[0.6666666666666666,\"#ed7953\"],[0.7777777777777778,\"#fb9f3a\"],[0.8888888888888888,\"#fdca26\"],[1.0,\"#f0f921\"]]}],\"mesh3d\":[{\"type\":\"mesh3d\",\"colorbar\":{\"outlinewidth\":0,\"ticks\":\"\"}}],\"scatter\":[{\"fillpattern\":{\"fillmode\":\"overlay\",\"size\":10,\"solidity\":0.2},\"type\":\"scatter\"}],\"parcoords\":[{\"type\":\"parcoords\",\"line\":{\"colorbar\":{\"outlinewidth\":0,\"ticks\":\"\"}}}],\"scatterpolargl\":[{\"type\":\"scatterpolargl\",\"marker\":{\"colorbar\":{\"outlinewidth\":0,\"ticks\":\"\"}}}],\"bar\":[{\"error_x\":{\"color\":\"#2a3f5f\"},\"error_y\":{\"color\":\"#2a3f5f\"},\"marker\":{\"line\":{\"color\":\"#E5ECF6\",\"width\":0.5},\"pattern\":{\"fillmode\":\"overlay\",\"size\":10,\"solidity\":0.2}},\"type\":\"bar\"}],\"scattergeo\":[{\"type\":\"scattergeo\",\"marker\":{\"colorbar\":{\"outlinewidth\":0,\"ticks\":\"\"}}}],\"scatterpolar\":[{\"type\":\"scatterpolar\",\"marker\":{\"colorbar\":{\"outlinewidth\":0,\"ticks\":\"\"}}}],\"histogram\":[{\"marker\":{\"pattern\":{\"fillmode\":\"overlay\",\"size\":10,\"solidity\":0.2}},\"type\":\"histogram\"}],\"scattergl\":[{\"type\":\"scattergl\",\"marker\":{\"colorbar\":{\"outlinewidth\":0,\"ticks\":\"\"}}}],\"scatter3d\":[{\"type\":\"scatter3d\",\"line\":{\"colorbar\":{\"outlinewidth\":0,\"ticks\":\"\"}},\"marker\":{\"colorbar\":{\"outlinewidth\":0,\"ticks\":\"\"}}}],\"scattermapbox\":[{\"type\":\"scattermapbox\",\"marker\":{\"colorbar\":{\"outlinewidth\":0,\"ticks\":\"\"}}}],\"scatterternary\":[{\"type\":\"scatterternary\",\"marker\":{\"colorbar\":{\"outlinewidth\":0,\"ticks\":\"\"}}}],\"scattercarpet\":[{\"type\":\"scattercarpet\",\"marker\":{\"colorbar\":{\"outlinewidth\":0,\"ticks\":\"\"}}}],\"carpet\":[{\"aaxis\":{\"endlinecolor\":\"#2a3f5f\",\"gridcolor\":\"white\",\"linecolor\":\"white\",\"minorgridcolor\":\"white\",\"startlinecolor\":\"#2a3f5f\"},\"baxis\":{\"endlinecolor\":\"#2a3f5f\",\"gridcolor\":\"white\",\"linecolor\":\"white\",\"minorgridcolor\":\"white\",\"startlinecolor\":\"#2a3f5f\"},\"type\":\"carpet\"}],\"table\":[{\"cells\":{\"fill\":{\"color\":\"#EBF0F8\"},\"line\":{\"color\":\"white\"}},\"header\":{\"fill\":{\"color\":\"#C8D4E3\"},\"line\":{\"color\":\"white\"}},\"type\":\"table\"}],\"barpolar\":[{\"marker\":{\"line\":{\"color\":\"#E5ECF6\",\"width\":0.5},\"pattern\":{\"fillmode\":\"overlay\",\"size\":10,\"solidity\":0.2}},\"type\":\"barpolar\"}],\"pie\":[{\"automargin\":true,\"type\":\"pie\"}]},\"layout\":{\"autotypenumbers\":\"strict\",\"colorway\":[\"#636efa\",\"#EF553B\",\"#00cc96\",\"#ab63fa\",\"#FFA15A\",\"#19d3f3\",\"#FF6692\",\"#B6E880\",\"#FF97FF\",\"#FECB52\"],\"font\":{\"color\":\"#2a3f5f\"},\"hovermode\":\"closest\",\"hoverlabel\":{\"align\":\"left\"},\"paper_bgcolor\":\"white\",\"plot_bgcolor\":\"#E5ECF6\",\"polar\":{\"bgcolor\":\"#E5ECF6\",\"angularaxis\":{\"gridcolor\":\"white\",\"linecolor\":\"white\",\"ticks\":\"\"},\"radialaxis\":{\"gridcolor\":\"white\",\"linecolor\":\"white\",\"ticks\":\"\"}},\"ternary\":{\"bgcolor\":\"#E5ECF6\",\"aaxis\":{\"gridcolor\":\"white\",\"linecolor\":\"white\",\"ticks\":\"\"},\"baxis\":{\"gridcolor\":\"white\",\"linecolor\":\"white\",\"ticks\":\"\"},\"caxis\":{\"gridcolor\":\"white\",\"linecolor\":\"white\",\"ticks\":\"\"}},\"coloraxis\":{\"colorbar\":{\"outlinewidth\":0,\"ticks\":\"\"}},\"colorscale\":{\"sequential\":[[0.0,\"#0d0887\"],[0.1111111111111111,\"#46039f\"],[0.2222222222222222,\"#7201a8\"],[0.3333333333333333,\"#9c179e\"],[0.4444444444444444,\"#bd3786\"],[0.5555555555555556,\"#d8576b\"],[0.6666666666666666,\"#ed7953\"],[0.7777777777777778,\"#fb9f3a\"],[0.8888888888888888,\"#fdca26\"],[1.0,\"#f0f921\"]],\"sequentialminus\":[[0.0,\"#0d0887\"],[0.1111111111111111,\"#46039f\"],[0.2222222222222222,\"#7201a8\"],[0.3333333333333333,\"#9c179e\"],[0.4444444444444444,\"#bd3786\"],[0.5555555555555556,\"#d8576b\"],[0.6666666666666666,\"#ed7953\"],[0.7777777777777778,\"#fb9f3a\"],[0.8888888888888888,\"#fdca26\"],[1.0,\"#f0f921\"]],\"diverging\":[[0,\"#8e0152\"],[0.1,\"#c51b7d\"],[0.2,\"#de77ae\"],[0.3,\"#f1b6da\"],[0.4,\"#fde0ef\"],[0.5,\"#f7f7f7\"],[0.6,\"#e6f5d0\"],[0.7,\"#b8e186\"],[0.8,\"#7fbc41\"],[0.9,\"#4d9221\"],[1,\"#276419\"]]},\"xaxis\":{\"gridcolor\":\"white\",\"linecolor\":\"white\",\"ticks\":\"\",\"title\":{\"standoff\":15},\"zerolinecolor\":\"white\",\"automargin\":true,\"zerolinewidth\":2},\"yaxis\":{\"gridcolor\":\"white\",\"linecolor\":\"white\",\"ticks\":\"\",\"title\":{\"standoff\":15},\"zerolinecolor\":\"white\",\"automargin\":true,\"zerolinewidth\":2},\"scene\":{\"xaxis\":{\"backgroundcolor\":\"#E5ECF6\",\"gridcolor\":\"white\",\"linecolor\":\"white\",\"showbackground\":true,\"ticks\":\"\",\"zerolinecolor\":\"white\",\"gridwidth\":2},\"yaxis\":{\"backgroundcolor\":\"#E5ECF6\",\"gridcolor\":\"white\",\"linecolor\":\"white\",\"showbackground\":true,\"ticks\":\"\",\"zerolinecolor\":\"white\",\"gridwidth\":2},\"zaxis\":{\"backgroundcolor\":\"#E5ECF6\",\"gridcolor\":\"white\",\"linecolor\":\"white\",\"showbackground\":true,\"ticks\":\"\",\"zerolinecolor\":\"white\",\"gridwidth\":2}},\"shapedefaults\":{\"line\":{\"color\":\"#2a3f5f\"}},\"annotationdefaults\":{\"arrowcolor\":\"#2a3f5f\",\"arrowhead\":0,\"arrowwidth\":1},\"geo\":{\"bgcolor\":\"white\",\"landcolor\":\"#E5ECF6\",\"subunitcolor\":\"white\",\"showland\":true,\"showlakes\":true,\"lakecolor\":\"white\"},\"title\":{\"x\":0.05},\"mapbox\":{\"style\":\"light\"}}},\"xaxis\":{\"anchor\":\"y\",\"domain\":[0.0,1.0],\"title\":{\"text\":\"Value\"},\"showgrid\":false},\"yaxis\":{\"anchor\":\"x\",\"domain\":[0.0,1.0],\"title\":{\"text\":\"y\"},\"showgrid\":false,\"zeroline\":true,\"zerolinecolor\":\"black\",\"zerolinewidth\":3,\"showticklabels\":false},\"legend\":{\"title\":{\"text\":\"label\"},\"tracegroupgap\":0},\"margin\":{\"t\":60},\"height\":200,\"plot_bgcolor\":\"white\"},                        {\"responsive\": true}                    ).then(function(){\n",
       "                            \n",
       "var gd = document.getElementById('ee9a1771-fe39-423a-a70f-e70ba9bef6de');\n",
       "var x = new MutationObserver(function (mutations, observer) {{\n",
       "        var display = window.getComputedStyle(gd).display;\n",
       "        if (!display || display === 'none') {{\n",
       "            console.log([gd, 'removed!']);\n",
       "            Plotly.purge(gd);\n",
       "            observer.disconnect();\n",
       "        }}\n",
       "}});\n",
       "\n",
       "// Listen for the removal of the full notebook cells\n",
       "var notebookContainer = gd.closest('#notebook-container');\n",
       "if (notebookContainer) {{\n",
       "    x.observe(notebookContainer, {childList: true});\n",
       "}}\n",
       "\n",
       "// Listen for the clearing of the current output cell\n",
       "var outputEl = gd.closest('.output');\n",
       "if (outputEl) {{\n",
       "    x.observe(outputEl, {childList: true});\n",
       "}}\n",
       "\n",
       "                        })                };                });            </script>        </div>"
      ]
     },
     "metadata": {},
     "output_type": "display_data"
    }
   ],
   "source": [
    "# Visualize the projections\n",
    "\n",
    "from lmdoctor import plot_utils, detection_utils\n",
    "proj_pairs = detection_utils.act_pairs_to_projs(doc.train_acts, doc.direction_info, len(doc.statement_pairs['train']))\n",
    "\n",
    "layer = 15\n",
    "projs_true = proj_pairs[0, :, layer]\n",
    "projs_lie = proj_pairs[1, :, layer]\n",
    "plot_utils.plot_projs_on_numberline(projs_true, projs_lie)"
   ]
  },
  {
   "cell_type": "code",
   "execution_count": 179,
   "id": "5d44b91e-8436-42f8-82ec-d8c911255bd0",
   "metadata": {},
   "outputs": [
    {
     "data": {
      "application/vnd.plotly.v1+json": {
       "config": {
        "plotlyServerURL": "https://plot.ly"
       },
       "data": [
        {
         "coloraxis": "coloraxis",
         "hovertemplate": "Token: %{x}<br>y: %{y}<br>color: %{z}<extra></extra>",
         "name": "0",
         "type": "heatmap",
         "xaxis": "x",
         "yaxis": "y",
         "z": [
          [
           -0.00812530517578125,
           0.032012939453125,
           0.02099609375,
           0.01392364501953125,
           0.01114654541015625,
           -0.0002620220184326172,
           -0.0014791488647460938,
           -0.0023403167724609375,
           0.00957489013671875,
           -0.0027904510498046875,
           0.00197601318359375,
           -0.01467132568359375,
           -0.00894927978515625,
           0.0037631988525390625,
           -0.0024623870849609375,
           0.002285003662109375,
           -0.00606536865234375,
           -0.0019378662109375,
           -0.009521484375,
           -0.0009455680847167969,
           -0.004673004150390625,
           -0.00321197509765625,
           -0.01039886474609375,
           -0.017486572265625,
           -0.0008988380432128906,
           0.000926971435546875,
           0.011871337890625,
           0.00012171268463134766,
           0.00897216796875,
           -0.0018157958984375,
           -0.01143646240234375,
           -0.0209503173828125,
           0.0024814605712890625,
           0.0007114410400390625,
           -0.0014791488647460938,
           -0.0019931793212890625,
           -0.0025653839111328125,
           -0.003444671630859375,
           0.0117340087890625,
           0.006439208984375,
           0.0059356689453125,
           0.01451873779296875,
           0.004596710205078125,
           -0.0282745361328125
          ],
          [
           -23.484375,
           -0.17529296875,
           0.001453399658203125,
           -0.028533935546875,
           -0.014617919921875,
           -0.00466156005859375,
           -0.011688232421875,
           -0.0267791748046875,
           -0.058013916015625,
           -0.0211181640625,
           -0.022674560546875,
           -0.0028133392333984375,
           -0.01502227783203125,
           -0.013031005859375,
           0.00032639503479003906,
           -0.0031490325927734375,
           -0.0174713134765625,
           -0.01122283935546875,
           -0.052093505859375,
           -0.033599853515625,
           -0.018798828125,
           -0.032318115234375,
           -0.01439666748046875,
           -0.052398681640625,
           -0.0016460418701171875,
           -0.01230621337890625,
           -0.0300750732421875,
           -0.01494598388671875,
           -0.02349853515625,
           -0.01332855224609375,
           -0.0253143310546875,
           -0.0562744140625,
           -0.050048828125,
           -0.01090240478515625,
           -0.006175994873046875,
           -0.016754150390625,
           -0.039825439453125,
           -0.01885986328125,
           -0.01389312744140625,
           -0.0231170654296875,
           -0.0125274658203125,
           -0.0137176513671875,
           -0.0426025390625,
           -0.1171875
          ],
          [
           -7.22265625,
           -0.1033935546875,
           -0.02191162109375,
           -0.0255889892578125,
           -0.018341064453125,
           -0.01532745361328125,
           -0.047393798828125,
           -0.03057861328125,
           -0.052001953125,
           -0.03948974609375,
           -0.04290771484375,
           -0.01131439208984375,
           -0.04632568359375,
           -0.01702880859375,
           -0.0094451904296875,
           -0.006687164306640625,
           -0.039459228515625,
           -0.030731201171875,
           -0.07470703125,
           -0.06195068359375,
           -0.0638427734375,
           -0.07159423828125,
           -0.052337646484375,
           -0.06396484375,
           -0.016845703125,
           -0.01556396484375,
           -0.0533447265625,
           -0.04290771484375,
           -0.0472412109375,
           -0.041778564453125,
           -0.0487060546875,
           -0.0657958984375,
           -0.0570068359375,
           -0.0254669189453125,
           -0.00849151611328125,
           -0.018310546875,
           -0.055816650390625,
           -0.02947998046875,
           -0.047576904296875,
           -0.0367431640625,
           -0.03326416015625,
           -0.0517578125,
           -0.0833740234375,
           -0.12646484375
          ],
          [
           -6.8984375,
           -0.19384765625,
           -0.043426513671875,
           -0.08343505859375,
           -0.0738525390625,
           -0.05303955078125,
           -0.0758056640625,
           -0.042266845703125,
           -0.054656982421875,
           -0.0699462890625,
           -0.054473876953125,
           -0.032196044921875,
           -0.06866455078125,
           -0.07159423828125,
           -0.09246826171875,
           -0.0170440673828125,
           -0.0316162109375,
           -0.034271240234375,
           -0.054595947265625,
           -0.08453369140625,
           -0.07452392578125,
           -0.08148193359375,
           -0.05584716796875,
           -0.06866455078125,
           -0.04736328125,
           -0.032501220703125,
           -0.05535888671875,
           -0.1041259765625,
           -0.0782470703125,
           -0.09539794921875,
           -0.053466796875,
           -0.07513427734375,
           -0.06951904296875,
           -0.035125732421875,
           -0.008758544921875,
           -0.0230255126953125,
           -0.057525634765625,
           -0.012176513671875,
           -0.03631591796875,
           -0.04949951171875,
           -0.039031982421875,
           -0.09979248046875,
           -0.1400146484375,
           -0.234130859375
          ],
          [
           -14.1953125,
           -0.25927734375,
           -0.050140380859375,
           -0.08282470703125,
           -0.09765625,
           -0.050689697265625,
           -0.055633544921875,
           -0.003345489501953125,
           -0.0277099609375,
           -0.02435302734375,
           -0.00749969482421875,
           0.0158233642578125,
           -0.0311737060546875,
           -0.0428466796875,
           -0.043609619140625,
           0.0869140625,
           0.11700439453125,
           0.0253448486328125,
           0.00629425048828125,
           -0.035736083984375,
           -0.040557861328125,
           -0.07269287109375,
           -0.0230560302734375,
           -0.03558349609375,
           -0.03851318359375,
           -0.0062408447265625,
           -0.01090240478515625,
           -0.03228759765625,
           -0.062103271484375,
           -0.1583251953125,
           -0.0916748046875,
           -0.09124755859375,
           -0.08673095703125,
           -0.048248291015625,
           -0.019775390625,
           -0.041748046875,
           -0.10113525390625,
           -0.019287109375,
           -0.07379150390625,
           -0.06927490234375,
           -0.052886962890625,
           -0.10040283203125,
           -0.167724609375,
           -0.263916015625
          ],
          [
           -5.8359375,
           -0.2213134765625,
           0.08172607421875,
           -0.0672607421875,
           -0.01739501953125,
           -0.00951385498046875,
           0.00333404541015625,
           0.0213470458984375,
           -0.013458251953125,
           0.04254150390625,
           0.12139892578125,
           -0.00667572021484375,
           -0.0157470703125,
           -0.06463623046875,
           -0.13037109375,
           0.12158203125,
           0.1644287109375,
           -0.00675201416015625,
           -0.055145263671875,
           -0.019439697265625,
           -0.032318115234375,
           -0.05352783203125,
           0.007511138916015625,
           -0.006275177001953125,
           -0.07623291015625,
           -0.0657958984375,
           -0.034881591796875,
           0.05181884765625,
           -0.0194091796875,
           -0.1212158203125,
           -0.1263427734375,
           -0.11541748046875,
           -0.09735107421875,
           -0.02001953125,
           -0.02838134765625,
           -0.0036067962646484375,
           -0.11004638671875,
           -0.020843505859375,
           -0.1502685546875,
           -0.08642578125,
           -0.010894775390625,
           -0.018310546875,
           -0.11053466796875,
           -0.266845703125
          ],
          [
           -1.861328125,
           -0.02838134765625,
           0.049407958984375,
           -0.04193115234375,
           0.07470703125,
           0.038055419921875,
           0.078369140625,
           0.0816650390625,
           0.0615234375,
           0.09686279296875,
           0.1988525390625,
           0.0697021484375,
           0.051513671875,
           0.01439666748046875,
           -0.05322265625,
           0.222412109375,
           0.21875,
           0.0858154296875,
           0.07427978515625,
           0.033660888671875,
           0.058441162109375,
           0.06341552734375,
           0.1326904296875,
           0.04736328125,
           0.0213775634765625,
           0.08502197265625,
           0.08807373046875,
           0.052886962890625,
           0.0726318359375,
           -0.021270751953125,
           -0.065185546875,
           -0.0726318359375,
           -0.06524658203125,
           0.006072998046875,
           0.02471923828125,
           0.022064208984375,
           -0.10491943359375,
           -0.054412841796875,
           -0.091064453125,
           -0.00359344482421875,
           0.01509857177734375,
           -0.0128326416015625,
           -0.0213775634765625,
           -0.1571044921875
          ],
          [
           -13.4140625,
           -0.402587890625,
           0.03497314453125,
           -0.1341552734375,
           0.054168701171875,
           -0.006206512451171875,
           0.09246826171875,
           0.12322998046875,
           0.1319580078125,
           0.09075927734375,
           0.219970703125,
           0.01222991943359375,
           -0.01324462890625,
           -0.027130126953125,
           -0.09442138671875,
           0.2178955078125,
           0.2496337890625,
           0.13818359375,
           0.09747314453125,
           0.064697265625,
           0.027862548828125,
           0.04498291015625,
           0.10260009765625,
           0.096923828125,
           0.1767578125,
           0.1685791015625,
           0.11328125,
           0.046417236328125,
           0.0498046875,
           0.033447265625,
           -0.10015869140625,
           -0.080322265625,
           -0.08624267578125,
           -0.045806884765625,
           -0.06646728515625,
           -0.09375,
           -0.1173095703125,
           -0.03948974609375,
           -0.1632080078125,
           -0.0190277099609375,
           0.0545654296875,
           0.1072998046875,
           0.06427001953125,
           -0.0845947265625
          ],
          [
           1.7841796875,
           0.011566162109375,
           0.05413818359375,
           -0.01322174072265625,
           0.1258544921875,
           0.039031982421875,
           0.103759765625,
           0.152099609375,
           0.190185546875,
           0.04241943359375,
           0.1844482421875,
           -0.0207366943359375,
           -0.06640625,
           -0.0174102783203125,
           -0.12164306640625,
           0.1363525390625,
           0.16943359375,
           0.089599609375,
           0.094970703125,
           0.046173095703125,
           0.041229248046875,
           0.05291748046875,
           0.08367919921875,
           0.11053466796875,
           0.2086181640625,
           0.1314697265625,
           0.12548828125,
           0.03973388671875,
           0.131591796875,
           0.153564453125,
           0.025390625,
           0.06646728515625,
           -0.0169219970703125,
           0.063232421875,
           -0.0167388916015625,
           -0.013458251953125,
           -0.064453125,
           -0.042388916015625,
           0.032562255859375,
           0.21728515625,
           0.1937255859375,
           0.203369140625,
           0.242919921875,
           0.1260986328125
          ],
          [
           23.125,
           0.94287109375,
           0.2105712890625,
           0.306640625,
           0.281005859375,
           0.072509765625,
           0.103271484375,
           0.162841796875,
           0.22412109375,
           0.049774169921875,
           0.179443359375,
           0.00763702392578125,
           -0.090576171875,
           0.0117034912109375,
           0.0391845703125,
           0.112548828125,
           0.119873046875,
           0.02374267578125,
           0.03955078125,
           0.03399658203125,
           -0.03375244140625,
           0.0272979736328125,
           0.07232666015625,
           0.1387939453125,
           0.067138671875,
           -0.058319091796875,
           0.093994140625,
           0.0227203369140625,
           0.040283203125,
           0.0005979537963867188,
           0.08648681640625,
           0.0712890625,
           0.0198211669921875,
           0.041259765625,
           -0.07421875,
           -0.06353759765625,
           -0.1666259765625,
           -0.09246826171875,
           0.12396240234375,
           0.1253662109375,
           0.1312255859375,
           0.1572265625,
           0.251220703125,
           0.35205078125
          ],
          [
           21.140625,
           0.93310546875,
           0.330322265625,
           0.379150390625,
           0.329345703125,
           0.1673583984375,
           0.1724853515625,
           0.283203125,
           0.30908203125,
           0.211669921875,
           0.26611328125,
           0.051788330078125,
           -0.010467529296875,
           0.0880126953125,
           0.07379150390625,
           0.127197265625,
           0.131591796875,
           -0.00823974609375,
           0.038970947265625,
           0.1053466796875,
           0.0232696533203125,
           0.05743408203125,
           0.014678955078125,
           0.07818603515625,
           -0.04522705078125,
           -0.0972900390625,
           0.142822265625,
           0.05987548828125,
           0.03497314453125,
           -0.01520538330078125,
           0.038299560546875,
           0.0655517578125,
           0.03887939453125,
           0.07861328125,
           0.010040283203125,
           0.0223388671875,
           -0.1044921875,
           0.034759521484375,
           0.09930419921875,
           0.0904541015625,
           0.1285400390625,
           0.14697265625,
           0.23291015625,
           0.40966796875
          ],
          [
           20.9375,
           0.94677734375,
           0.28173828125,
           0.39208984375,
           0.385986328125,
           0.2412109375,
           0.2069091796875,
           0.30078125,
           0.330322265625,
           0.2254638671875,
           0.21630859375,
           0.09320068359375,
           0.016632080078125,
           0.010894775390625,
           -0.1585693359375,
           0.036865234375,
           -0.10052490234375,
           -0.06689453125,
           -0.0252838134765625,
           0.053314208984375,
           0.1510009765625,
           0.0775146484375,
           0.0160369873046875,
           0.04449462890625,
           -0.040985107421875,
           -0.0675048828125,
           -0.0004436969757080078,
           0.07366943359375,
           -0.084228515625,
           -0.09405517578125,
           -0.028411865234375,
           -0.00186920166015625,
           0.036590576171875,
           0.054718017578125,
           0.01422882080078125,
           0.0180511474609375,
           -0.13525390625,
           0.058380126953125,
           0.1024169921875,
           -0.01953125,
           -0.10296630859375,
           -0.1942138671875,
           -0.0596923828125,
           0.3583984375
          ],
          [
           -3.236328125,
           -0.2293701171875,
           0.10333251953125,
           0.002490997314453125,
           0.10089111328125,
           0.1270751953125,
           0.11639404296875,
           0.226806640625,
           0.16162109375,
           0.2081298828125,
           0.1380615234375,
           -0.07623291015625,
           -0.03936767578125,
           -0.055206298828125,
           -0.261474609375,
           -0.0169219970703125,
           -0.1563720703125,
           -0.2261962890625,
           -0.0911865234375,
           -0.10491943359375,
           0.026824951171875,
           -0.08660888671875,
           -0.1258544921875,
           -0.10150146484375,
           -0.239013671875,
           -0.20068359375,
           -0.2061767578125,
           3.9637088775634766e-05,
           -0.1864013671875,
           -0.295654296875,
           -0.1572265625,
           -0.00777435302734375,
           -0.04443359375,
           -0.04144287109375,
           -0.053466796875,
           -0.05126953125,
           -0.167236328125,
           -0.10260009765625,
           -0.055084228515625,
           -0.275634765625,
           -0.164306640625,
           -0.48583984375,
           -0.443603515625,
           0.2254638671875
          ],
          [
           -20.6875,
           -1.2509765625,
           -0.1121826171875,
           -0.45703125,
           -0.2335205078125,
           -0.095458984375,
           -0.07952880859375,
           -0.045684814453125,
           0.0330810546875,
           -0.06488037109375,
           -0.1407470703125,
           -0.30615234375,
           -0.2257080078125,
           -0.232177734375,
           -0.353271484375,
           -0.2161865234375,
           -0.22998046875,
           -0.40283203125,
           -0.325439453125,
           -0.25439453125,
           -0.108154296875,
           -0.18896484375,
           -0.18896484375,
           -0.2337646484375,
           -0.314453125,
           -0.207763671875,
           -0.291015625,
           0.0970458984375,
           -0.208984375,
           -0.459716796875,
           -0.45654296875,
           -0.3779296875,
           -0.2783203125,
           -0.2177734375,
           -0.259521484375,
           -0.2349853515625,
           -0.3486328125,
           -0.1888427734375,
           -0.1982421875,
           -0.2362060546875,
           -0.085205078125,
           -0.7138671875,
           -0.78662109375,
           -0.150390625
          ],
          [
           -34.75,
           -2.052734375,
           -0.1612548828125,
           -0.8505859375,
           -0.480712890625,
           -0.173828125,
           -0.1298828125,
           -0.12384033203125,
           -0.1727294921875,
           -0.1705322265625,
           -0.28466796875,
           -0.416259765625,
           -0.384033203125,
           -0.35302734375,
           -0.295654296875,
           -0.048248291015625,
           -0.09857177734375,
           -0.333740234375,
           -0.300048828125,
           -0.1353759765625,
           0.046142578125,
           -0.08526611328125,
           -0.0293426513671875,
           -0.1856689453125,
           -0.19970703125,
           0.06976318359375,
           -0.051971435546875,
           0.136474609375,
           -0.1876220703125,
           -0.456787109375,
           -0.478759765625,
           -0.5146484375,
           -0.459228515625,
           -0.334716796875,
           -0.343017578125,
           -0.208984375,
           -0.348388671875,
           -0.1524658203125,
           0.0611572265625,
           0.0125732421875,
           -0.019012451171875,
           -0.6748046875,
           -0.396240234375,
           0.322021484375
          ],
          [
           -21.625,
           -1.4501953125,
           -0.1505126953125,
           -0.8193359375,
           -0.427490234375,
           -0.2144775390625,
           -0.243896484375,
           -0.22216796875,
           -0.32958984375,
           -0.2359619140625,
           -0.2841796875,
           -0.312255859375,
           -0.3798828125,
           -0.335205078125,
           -0.52880859375,
           -0.09344482421875,
           -0.2705078125,
           -0.72314453125,
           -0.6435546875,
           -0.50830078125,
           -0.2174072265625,
           -0.204833984375,
           -0.26123046875,
           -0.348876953125,
           -0.4267578125,
           -0.38916015625,
           -0.50048828125,
           -0.1734619140625,
           -0.41357421875,
           -0.60595703125,
           -0.50439453125,
           -0.626953125,
           -0.479736328125,
           -0.319091796875,
           -0.255859375,
           -0.27392578125,
           -0.427490234375,
           -0.31494140625,
           -0.0811767578125,
           -0.09320068359375,
           -0.12060546875,
           -0.888671875,
           -0.90185546875,
           0.31005859375
          ],
          [
           -19.796875,
           -1.259765625,
           -0.07257080078125,
           -0.7509765625,
           -0.3544921875,
           -0.09307861328125,
           -0.185302734375,
           -0.27294921875,
           -0.406494140625,
           -0.284423828125,
           -0.429931640625,
           -0.18994140625,
           -0.239013671875,
           -0.2978515625,
           -0.467041015625,
           -0.1829833984375,
           -0.1737060546875,
           -0.81640625,
           -0.69091796875,
           -0.6669921875,
           -0.255859375,
           -0.07568359375,
           -0.0295867919921875,
           -0.0521240234375,
           -0.10382080078125,
           -0.198486328125,
           -0.54052734375,
           0.0699462890625,
           -0.1927490234375,
           -0.83154296875,
           -0.48828125,
           -0.63134765625,
           -0.5,
           -0.291259765625,
           -0.267333984375,
           -0.357666015625,
           -0.501953125,
           -0.377685546875,
           -0.1888427734375,
           -0.05120849609375,
           -0.2091064453125,
           -1.4287109375,
           -1.5517578125,
           -0.251708984375
          ],
          [
           -27.078125,
           -1.892578125,
           -0.017303466796875,
           -1.2587890625,
           -0.497314453125,
           -0.1328125,
           -0.252197265625,
           -0.460205078125,
           -0.6220703125,
           -0.603515625,
           -0.59716796875,
           -0.455810546875,
           -0.4052734375,
           -0.496337890625,
           -0.6357421875,
           -0.4208984375,
           -0.451416015625,
           -0.91064453125,
           -0.5703125,
           -0.56787109375,
           -0.1798095703125,
           0.044219970703125,
           0.01910400390625,
           0.1512451171875,
           -0.041534423828125,
           -0.177001953125,
           -0.5595703125,
           0.1549072265625,
           -0.308349609375,
           -0.919921875,
           -0.63818359375,
           -0.84521484375,
           -0.6982421875,
           -0.332275390625,
           -0.4052734375,
           -0.485595703125,
           -0.7763671875,
           -0.513671875,
           -0.22998046875,
           -0.06378173828125,
           -0.3896484375,
           -1.3857421875,
           -1.2099609375,
           0.030670166015625
          ],
          [
           -16.703125,
           -1.5224609375,
           0.34423828125,
           -1.1005859375,
           -0.230712890625,
           -0.042938232421875,
           -0.251708984375,
           -0.3681640625,
           -0.53173828125,
           -0.412841796875,
           -0.44921875,
           -0.294921875,
           -0.278076171875,
           -0.37939453125,
           -0.650390625,
           -0.2467041015625,
           -0.6279296875,
           -1.0771484375,
           -0.7412109375,
           -0.473876953125,
           -0.06365966796875,
           0.43017578125,
           0.37158203125,
           0.35498046875,
           0.12335205078125,
           0.1441650390625,
           -0.370849609375,
           0.31689453125,
           -0.420166015625,
           -1.2099609375,
           -0.7822265625,
           -0.861328125,
           -0.568359375,
           0.051544189453125,
           -0.24072265625,
           -0.390869140625,
           -0.8125,
           -0.43505859375,
           -0.376953125,
           0.0997314453125,
           -0.1844482421875,
           -1.2578125,
           -0.98388671875,
           -0.0305633544921875
          ],
          [
           -20.046875,
           -4.83203125,
           -1.064453125,
           -9.640625,
           -0.9638671875,
           -0.62744140625,
           -0.9130859375,
           -1.2216796875,
           -1.9912109375,
           -1.208984375,
           -1.0537109375,
           -0.720703125,
           -0.61572265625,
           -0.6884765625,
           -1.259765625,
           -0.71630859375,
           -1.0986328125,
           -1.6728515625,
           -1.6669921875,
           -1.5341796875,
           -1.2783203125,
           -0.3330078125,
           -0.14306640625,
           -0.3134765625,
           -0.3974609375,
           -0.70166015625,
           -0.83349609375,
           -0.057952880859375,
           -1.59375,
           -1.7890625,
           -1.2890625,
           -1.5,
           -1.2041015625,
           -0.20458984375,
           -0.5791015625,
           -1.02734375,
           -1.4072265625,
           -0.814453125,
           -0.9345703125,
           -0.59619140625,
           -0.73046875,
           -2.50390625,
           -2.390625,
           -1.5869140625
          ],
          [
           -15.265625,
           -5.73828125,
           -1.640625,
           -9.953125,
           -1.611328125,
           -1.1943359375,
           -1.501953125,
           -2.033203125,
           -2.609375,
           -2.076171875,
           -1.9384765625,
           -1.626953125,
           -1.623046875,
           -1.6787109375,
           -2.720703125,
           -1.6240234375,
           -2.388671875,
           -3.162109375,
           -3.25390625,
           -3.13671875,
           -2.80859375,
           -1.580078125,
           -1.10546875,
           -1.6611328125,
           -1.4189453125,
           -1.93359375,
           -2.13671875,
           -1.1513671875,
           -2.97265625,
           -2.625,
           -2.1484375,
           -2.24609375,
           -1.8642578125,
           -0.6494140625,
           -0.91162109375,
           -1.6533203125,
           -2.244140625,
           -1.509765625,
           -1.83203125,
           -1.646484375,
           -1.6123046875,
           -4.015625,
           -3.994140625,
           -3.236328125
          ],
          [
           -18.640625,
           -6.2109375,
           -1.0986328125,
           -11.0390625,
           -1.1572265625,
           -0.34326171875,
           -0.767578125,
           -1.4228515625,
           -2.275390625,
           -1.58984375,
           -1.494140625,
           -0.93408203125,
           -0.87744140625,
           -1.0185546875,
           -2.232421875,
           -0.77783203125,
           -2.197265625,
           -2.833984375,
           -2.705078125,
           -2.75390625,
           -2.42578125,
           -1.0341796875,
           -0.334716796875,
           -1.0732421875,
           -0.8046875,
           -1.3037109375,
           -1.34765625,
           -0.53564453125,
           -2.673828125,
           -1.98046875,
           -1.291015625,
           -1.6455078125,
           -1.2529296875,
           0.2607421875,
           0.214599609375,
           -0.5947265625,
           -1.52734375,
           -0.84619140625,
           -1.0869140625,
           -1.0654296875,
           -0.962890625,
           -3.728515625,
           -3.5,
           -3.12890625
          ],
          [
           -19.109375,
           -7.28515625,
           -2.279296875,
           -12.21875,
           -2.298828125,
           -1.5625,
           -2.126953125,
           -2.697265625,
           -3.462890625,
           -2.986328125,
           -2.865234375,
           -2.2109375,
           -2.095703125,
           -2.166015625,
           -3.517578125,
           -2.091796875,
           -3.953125,
           -4.5859375,
           -4.4453125,
           -4.421875,
           -3.86328125,
           -2.138671875,
           -1.49609375,
           -2.505859375,
           -1.912109375,
           -2.556640625,
           -2.66015625,
           -2.1015625,
           -4.21875,
           -3.494140625,
           -2.69921875,
           -3.0625,
           -2.41015625,
           -0.7763671875,
           -0.9033203125,
           -1.7802734375,
           -2.80859375,
           -1.93359375,
           -2.298828125,
           -2.490234375,
           -2.45703125,
           -5.23828125,
           -4.65234375,
           -4.46484375
          ],
          [
           -22.609375,
           -8.2578125,
           -2.568359375,
           -13.734375,
           -2.796875,
           -1.8212890625,
           -2.501953125,
           -3.068359375,
           -3.98046875,
           -3.4765625,
           -3.529296875,
           -2.416015625,
           -2.4375,
           -2.228515625,
           -3.962890625,
           -2.140625,
           -4.33984375,
           -4.93359375,
           -4.7734375,
           -4.72265625,
           -4.1796875,
           -2.59765625,
           -1.919921875,
           -3.34375,
           -2.265625,
           -2.8046875,
           -2.767578125,
           -2.46484375,
           -4.83984375,
           -3.8203125,
           -3.20703125,
           -3.712890625,
           -2.802734375,
           -1.0322265625,
           -0.94482421875,
           -2.267578125,
           -3.408203125,
           -2.16015625,
           -2.61328125,
           -3.126953125,
           -2.974609375,
           -5.84765625,
           -5.1484375,
           -5.03515625
          ],
          [
           -22.0625,
           -8.2109375,
           -2.685546875,
           -13.6171875,
           -2.89453125,
           -2.1171875,
           -2.822265625,
           -3.55078125,
           -4.09375,
           -3.927734375,
           -3.9609375,
           -2.59375,
           -2.783203125,
           -2.216796875,
           -4.64453125,
           -2.513671875,
           -5.08203125,
           -5.47265625,
           -5.36328125,
           -5.41796875,
           -4.74609375,
           -2.861328125,
           -2.0546875,
           -3.572265625,
           -2.732421875,
           -3.0234375,
           -2.982421875,
           -2.900390625,
           -5.3046875,
           -4.39453125,
           -3.6171875,
           -4.01953125,
           -2.806640625,
           -1.138671875,
           -1.07421875,
           -2.435546875,
           -3.544921875,
           -2.349609375,
           -2.75,
           -3.50390625,
           -3.5390625,
           -6.1015625,
           -5.625,
           -5.7265625
          ],
          [
           -20.71875,
           -7.484375,
           -1.9970703125,
           -12.9921875,
           -2.228515625,
           -1.70703125,
           -2.3515625,
           -3.013671875,
           -3.474609375,
           -3.34375,
           -3.43359375,
           -2.04296875,
           -2.333984375,
           -1.6962890625,
           -4.49609375,
           -1.8291015625,
           -4.66796875,
           -4.9921875,
           -4.90234375,
           -4.98046875,
           -4.30859375,
           -2.177734375,
           -1.88671875,
           -3.1796875,
           -2.3203125,
           -2.501953125,
           -2.583984375,
           -2.6796875,
           -4.9609375,
           -3.806640625,
           -3.150390625,
           -3.5703125,
           -2.119140625,
           -0.2344970703125,
           -0.2177734375,
           -1.6787109375,
           -2.98046875,
           -1.6220703125,
           -1.890625,
           -3.025390625,
           -3.119140625,
           -5.75390625,
           -5.16015625,
           -5.609375
          ],
          [
           -16.703125,
           -7.35546875,
           -2.125,
           -12.8203125,
           -2.34765625,
           -1.6962890625,
           -2.44921875,
           -3.15234375,
           -3.73046875,
           -3.45703125,
           -3.7109375,
           -2.046875,
           -2.822265625,
           -2,
           -5.16015625,
           -2.173828125,
           -5.109375,
           -5.33984375,
           -5.30859375,
           -5.08984375,
           -4.515625,
           -2.359375,
           -2.001953125,
           -3.5703125,
           -2.529296875,
           -2.857421875,
           -3.1171875,
           -3.279296875,
           -5.44140625,
           -3.845703125,
           -3.748046875,
           -4.49609375,
           -2.30078125,
           -0.57421875,
           -0.74072265625,
           -2.044921875,
           -3.234375,
           -1.8740234375,
           -2.296875,
           -3.462890625,
           -3.484375,
           -6.26953125,
           -5.9140625,
           -6.67578125
          ],
          [
           -17.21875,
           -7.84765625,
           -2.81640625,
           -13.1796875,
           -2.91796875,
           -1.90625,
           -3.01953125,
           -3.873046875,
           -4.43359375,
           -4.515625,
           -4.94140625,
           -2.833984375,
           -3.95703125,
           -2.279296875,
           -6.0625,
           -3.021484375,
           -6.58203125,
           -6.66796875,
           -6.734375,
           -6.41015625,
           -5.77734375,
           -3.234375,
           -2.998046875,
           -5.1015625,
           -3.58984375,
           -4.1484375,
           -3.794921875,
           -4.625,
           -6.2890625,
           -4.43359375,
           -4.73828125,
           -5.58984375,
           -2.611328125,
           -1.1494140625,
           -1.111328125,
           -2.490234375,
           -3.671875,
           -2.630859375,
           -3.103515625,
           -4.20703125,
           -4.21484375,
           -7.17578125,
           -6.96484375,
           -8.015625
          ],
          [
           -12.6484375,
           -6.90625,
           -2.724609375,
           -12.1484375,
           -2.416015625,
           -1.05859375,
           -2.875,
           -3.595703125,
           -4.19140625,
           -4.3515625,
           -4.70703125,
           -2.5703125,
           -3.833984375,
           -1.5244140625,
           -6.125,
           -2.59765625,
           -6.7890625,
           -6.90234375,
           -6.609375,
           -6.2734375,
           -5.7421875,
           -3.16796875,
           -3.205078125,
           -5.5,
           -3.5390625,
           -4.3359375,
           -3.7734375,
           -4.49609375,
           -6.5625,
           -4.0703125,
           -4.765625,
           -5.70703125,
           -1.552734375,
           -0.693359375,
           -0.6923828125,
           -2.22265625,
           -3.00390625,
           -2.1015625,
           -2.955078125,
           -3.998046875,
           -4.140625,
           -6.98828125,
           -6.7421875,
           -8.4765625
          ],
          [
           -9.4765625,
           -7.171875,
           -4.11328125,
           -11.609375,
           -4.1484375,
           -2.951171875,
           -5.1640625,
           -5.76953125,
           -5.82421875,
           -6.1328125,
           -6.72265625,
           -4.53125,
           -6.14453125,
           -2.669921875,
           -8.5234375,
           -4.76171875,
           -9.6640625,
           -9.296875,
           -9.1015625,
           -8.3984375,
           -8.09375,
           -5.87890625,
           -6.45703125,
           -9.578125,
           -5.88671875,
           -7.1171875,
           -6.1640625,
           -5.96875,
           -9.1328125,
           -6.39453125,
           -7.42578125,
           -8.1171875,
           -3.25390625,
           -2.359375,
           -2.61328125,
           -4.1875,
           -4.03125,
           -4.1640625,
           -4.9609375,
           -5.7578125,
           -5.90625,
           -8.453125,
           -9.0234375,
           -10.828125
          ],
          [
           -6.89453125,
           -6.765625,
           -3.625,
           -11.328125,
           -2.72265625,
           -2.12890625,
           -5.41015625,
           -5.69921875,
           -6.328125,
           -6.234375,
           -6.80859375,
           -4.3359375,
           -6.35546875,
           -1.9091796875,
           -8.5078125,
           -4.59375,
           -10.21875,
           -9.2890625,
           -9.6484375,
           -8.9140625,
           -8.59375,
           -6.2578125,
           -6.53125,
           -9.7734375,
           -6.72265625,
           -7.30859375,
           -5.9765625,
           -5.59765625,
           -10.375,
           -6.51953125,
           -7.90234375,
           -8.21875,
           -1.3642578125,
           -1.0859375,
           -1.2646484375,
           -3.2734375,
           -3.111328125,
           -3.80859375,
           -4.28515625,
           -4.88671875,
           -5.05078125,
           -8.453125,
           -9.140625,
           -11.5234375
          ],
          [
           -28.96875,
           -10.3046875,
           -1.9111328125,
           -10.8828125,
           26.390625,
           3.162109375,
           -45.90625,
           -17.640625,
           -11.9140625,
           -43.84375,
           -46.65625,
           -31.84375,
           -50.03125,
           -11.015625,
           -73.25,
           -35.84375,
           -83.25,
           -59.1875,
           -81,
           -55.5,
           -51.84375,
           -21.390625,
           -34.8125,
           -38.21875,
           -26.140625,
           -32.5625,
           -40,
           -13.515625,
           -36.5625,
           -35.40625,
           -71.9375,
           -71.4375,
           -2.541015625,
           3.203125,
           -3.4765625,
           -18.515625,
           2.83203125,
           -8.7109375,
           -7.546875,
           3.03515625,
           5.26171875,
           -24.140625,
           -43.3125,
           -47.40625
          ]
         ]
        }
       ],
       "layout": {
        "coloraxis": {
         "cmax": 4.7344,
         "cmin": -4.7344,
         "colorscale": [
          [
           0,
           "rgb(165,0,38)"
          ],
          [
           0.1,
           "rgb(215,48,39)"
          ],
          [
           0.2,
           "rgb(244,109,67)"
          ],
          [
           0.3,
           "rgb(253,174,97)"
          ],
          [
           0.4,
           "rgb(254,224,139)"
          ],
          [
           0.5,
           "rgb(255,255,191)"
          ],
          [
           0.6,
           "rgb(217,239,139)"
          ],
          [
           0.7,
           "rgb(166,217,106)"
          ],
          [
           0.8,
           "rgb(102,189,99)"
          ],
          [
           0.9,
           "rgb(26,152,80)"
          ],
          [
           1,
           "rgb(0,104,55)"
          ]
         ]
        },
        "height": 600,
        "margin": {
         "t": 60
        },
        "template": {
         "data": {
          "bar": [
           {
            "error_x": {
             "color": "#2a3f5f"
            },
            "error_y": {
             "color": "#2a3f5f"
            },
            "marker": {
             "line": {
              "color": "#E5ECF6",
              "width": 0.5
             },
             "pattern": {
              "fillmode": "overlay",
              "size": 10,
              "solidity": 0.2
             }
            },
            "type": "bar"
           }
          ],
          "barpolar": [
           {
            "marker": {
             "line": {
              "color": "#E5ECF6",
              "width": 0.5
             },
             "pattern": {
              "fillmode": "overlay",
              "size": 10,
              "solidity": 0.2
             }
            },
            "type": "barpolar"
           }
          ],
          "carpet": [
           {
            "aaxis": {
             "endlinecolor": "#2a3f5f",
             "gridcolor": "white",
             "linecolor": "white",
             "minorgridcolor": "white",
             "startlinecolor": "#2a3f5f"
            },
            "baxis": {
             "endlinecolor": "#2a3f5f",
             "gridcolor": "white",
             "linecolor": "white",
             "minorgridcolor": "white",
             "startlinecolor": "#2a3f5f"
            },
            "type": "carpet"
           }
          ],
          "choropleth": [
           {
            "colorbar": {
             "outlinewidth": 0,
             "ticks": ""
            },
            "type": "choropleth"
           }
          ],
          "contour": [
           {
            "colorbar": {
             "outlinewidth": 0,
             "ticks": ""
            },
            "colorscale": [
             [
              0,
              "#0d0887"
             ],
             [
              0.1111111111111111,
              "#46039f"
             ],
             [
              0.2222222222222222,
              "#7201a8"
             ],
             [
              0.3333333333333333,
              "#9c179e"
             ],
             [
              0.4444444444444444,
              "#bd3786"
             ],
             [
              0.5555555555555556,
              "#d8576b"
             ],
             [
              0.6666666666666666,
              "#ed7953"
             ],
             [
              0.7777777777777778,
              "#fb9f3a"
             ],
             [
              0.8888888888888888,
              "#fdca26"
             ],
             [
              1,
              "#f0f921"
             ]
            ],
            "type": "contour"
           }
          ],
          "contourcarpet": [
           {
            "colorbar": {
             "outlinewidth": 0,
             "ticks": ""
            },
            "type": "contourcarpet"
           }
          ],
          "heatmap": [
           {
            "colorbar": {
             "outlinewidth": 0,
             "ticks": ""
            },
            "colorscale": [
             [
              0,
              "#0d0887"
             ],
             [
              0.1111111111111111,
              "#46039f"
             ],
             [
              0.2222222222222222,
              "#7201a8"
             ],
             [
              0.3333333333333333,
              "#9c179e"
             ],
             [
              0.4444444444444444,
              "#bd3786"
             ],
             [
              0.5555555555555556,
              "#d8576b"
             ],
             [
              0.6666666666666666,
              "#ed7953"
             ],
             [
              0.7777777777777778,
              "#fb9f3a"
             ],
             [
              0.8888888888888888,
              "#fdca26"
             ],
             [
              1,
              "#f0f921"
             ]
            ],
            "type": "heatmap"
           }
          ],
          "heatmapgl": [
           {
            "colorbar": {
             "outlinewidth": 0,
             "ticks": ""
            },
            "colorscale": [
             [
              0,
              "#0d0887"
             ],
             [
              0.1111111111111111,
              "#46039f"
             ],
             [
              0.2222222222222222,
              "#7201a8"
             ],
             [
              0.3333333333333333,
              "#9c179e"
             ],
             [
              0.4444444444444444,
              "#bd3786"
             ],
             [
              0.5555555555555556,
              "#d8576b"
             ],
             [
              0.6666666666666666,
              "#ed7953"
             ],
             [
              0.7777777777777778,
              "#fb9f3a"
             ],
             [
              0.8888888888888888,
              "#fdca26"
             ],
             [
              1,
              "#f0f921"
             ]
            ],
            "type": "heatmapgl"
           }
          ],
          "histogram": [
           {
            "marker": {
             "pattern": {
              "fillmode": "overlay",
              "size": 10,
              "solidity": 0.2
             }
            },
            "type": "histogram"
           }
          ],
          "histogram2d": [
           {
            "colorbar": {
             "outlinewidth": 0,
             "ticks": ""
            },
            "colorscale": [
             [
              0,
              "#0d0887"
             ],
             [
              0.1111111111111111,
              "#46039f"
             ],
             [
              0.2222222222222222,
              "#7201a8"
             ],
             [
              0.3333333333333333,
              "#9c179e"
             ],
             [
              0.4444444444444444,
              "#bd3786"
             ],
             [
              0.5555555555555556,
              "#d8576b"
             ],
             [
              0.6666666666666666,
              "#ed7953"
             ],
             [
              0.7777777777777778,
              "#fb9f3a"
             ],
             [
              0.8888888888888888,
              "#fdca26"
             ],
             [
              1,
              "#f0f921"
             ]
            ],
            "type": "histogram2d"
           }
          ],
          "histogram2dcontour": [
           {
            "colorbar": {
             "outlinewidth": 0,
             "ticks": ""
            },
            "colorscale": [
             [
              0,
              "#0d0887"
             ],
             [
              0.1111111111111111,
              "#46039f"
             ],
             [
              0.2222222222222222,
              "#7201a8"
             ],
             [
              0.3333333333333333,
              "#9c179e"
             ],
             [
              0.4444444444444444,
              "#bd3786"
             ],
             [
              0.5555555555555556,
              "#d8576b"
             ],
             [
              0.6666666666666666,
              "#ed7953"
             ],
             [
              0.7777777777777778,
              "#fb9f3a"
             ],
             [
              0.8888888888888888,
              "#fdca26"
             ],
             [
              1,
              "#f0f921"
             ]
            ],
            "type": "histogram2dcontour"
           }
          ],
          "mesh3d": [
           {
            "colorbar": {
             "outlinewidth": 0,
             "ticks": ""
            },
            "type": "mesh3d"
           }
          ],
          "parcoords": [
           {
            "line": {
             "colorbar": {
              "outlinewidth": 0,
              "ticks": ""
             }
            },
            "type": "parcoords"
           }
          ],
          "pie": [
           {
            "automargin": true,
            "type": "pie"
           }
          ],
          "scatter": [
           {
            "fillpattern": {
             "fillmode": "overlay",
             "size": 10,
             "solidity": 0.2
            },
            "type": "scatter"
           }
          ],
          "scatter3d": [
           {
            "line": {
             "colorbar": {
              "outlinewidth": 0,
              "ticks": ""
             }
            },
            "marker": {
             "colorbar": {
              "outlinewidth": 0,
              "ticks": ""
             }
            },
            "type": "scatter3d"
           }
          ],
          "scattercarpet": [
           {
            "marker": {
             "colorbar": {
              "outlinewidth": 0,
              "ticks": ""
             }
            },
            "type": "scattercarpet"
           }
          ],
          "scattergeo": [
           {
            "marker": {
             "colorbar": {
              "outlinewidth": 0,
              "ticks": ""
             }
            },
            "type": "scattergeo"
           }
          ],
          "scattergl": [
           {
            "marker": {
             "colorbar": {
              "outlinewidth": 0,
              "ticks": ""
             }
            },
            "type": "scattergl"
           }
          ],
          "scattermapbox": [
           {
            "marker": {
             "colorbar": {
              "outlinewidth": 0,
              "ticks": ""
             }
            },
            "type": "scattermapbox"
           }
          ],
          "scatterpolar": [
           {
            "marker": {
             "colorbar": {
              "outlinewidth": 0,
              "ticks": ""
             }
            },
            "type": "scatterpolar"
           }
          ],
          "scatterpolargl": [
           {
            "marker": {
             "colorbar": {
              "outlinewidth": 0,
              "ticks": ""
             }
            },
            "type": "scatterpolargl"
           }
          ],
          "scatterternary": [
           {
            "marker": {
             "colorbar": {
              "outlinewidth": 0,
              "ticks": ""
             }
            },
            "type": "scatterternary"
           }
          ],
          "surface": [
           {
            "colorbar": {
             "outlinewidth": 0,
             "ticks": ""
            },
            "colorscale": [
             [
              0,
              "#0d0887"
             ],
             [
              0.1111111111111111,
              "#46039f"
             ],
             [
              0.2222222222222222,
              "#7201a8"
             ],
             [
              0.3333333333333333,
              "#9c179e"
             ],
             [
              0.4444444444444444,
              "#bd3786"
             ],
             [
              0.5555555555555556,
              "#d8576b"
             ],
             [
              0.6666666666666666,
              "#ed7953"
             ],
             [
              0.7777777777777778,
              "#fb9f3a"
             ],
             [
              0.8888888888888888,
              "#fdca26"
             ],
             [
              1,
              "#f0f921"
             ]
            ],
            "type": "surface"
           }
          ],
          "table": [
           {
            "cells": {
             "fill": {
              "color": "#EBF0F8"
             },
             "line": {
              "color": "white"
             }
            },
            "header": {
             "fill": {
              "color": "#C8D4E3"
             },
             "line": {
              "color": "white"
             }
            },
            "type": "table"
           }
          ]
         },
         "layout": {
          "annotationdefaults": {
           "arrowcolor": "#2a3f5f",
           "arrowhead": 0,
           "arrowwidth": 1
          },
          "autotypenumbers": "strict",
          "coloraxis": {
           "colorbar": {
            "outlinewidth": 0,
            "ticks": ""
           }
          },
          "colorscale": {
           "diverging": [
            [
             0,
             "#8e0152"
            ],
            [
             0.1,
             "#c51b7d"
            ],
            [
             0.2,
             "#de77ae"
            ],
            [
             0.3,
             "#f1b6da"
            ],
            [
             0.4,
             "#fde0ef"
            ],
            [
             0.5,
             "#f7f7f7"
            ],
            [
             0.6,
             "#e6f5d0"
            ],
            [
             0.7,
             "#b8e186"
            ],
            [
             0.8,
             "#7fbc41"
            ],
            [
             0.9,
             "#4d9221"
            ],
            [
             1,
             "#276419"
            ]
           ],
           "sequential": [
            [
             0,
             "#0d0887"
            ],
            [
             0.1111111111111111,
             "#46039f"
            ],
            [
             0.2222222222222222,
             "#7201a8"
            ],
            [
             0.3333333333333333,
             "#9c179e"
            ],
            [
             0.4444444444444444,
             "#bd3786"
            ],
            [
             0.5555555555555556,
             "#d8576b"
            ],
            [
             0.6666666666666666,
             "#ed7953"
            ],
            [
             0.7777777777777778,
             "#fb9f3a"
            ],
            [
             0.8888888888888888,
             "#fdca26"
            ],
            [
             1,
             "#f0f921"
            ]
           ],
           "sequentialminus": [
            [
             0,
             "#0d0887"
            ],
            [
             0.1111111111111111,
             "#46039f"
            ],
            [
             0.2222222222222222,
             "#7201a8"
            ],
            [
             0.3333333333333333,
             "#9c179e"
            ],
            [
             0.4444444444444444,
             "#bd3786"
            ],
            [
             0.5555555555555556,
             "#d8576b"
            ],
            [
             0.6666666666666666,
             "#ed7953"
            ],
            [
             0.7777777777777778,
             "#fb9f3a"
            ],
            [
             0.8888888888888888,
             "#fdca26"
            ],
            [
             1,
             "#f0f921"
            ]
           ]
          },
          "colorway": [
           "#636efa",
           "#EF553B",
           "#00cc96",
           "#ab63fa",
           "#FFA15A",
           "#19d3f3",
           "#FF6692",
           "#B6E880",
           "#FF97FF",
           "#FECB52"
          ],
          "font": {
           "color": "#2a3f5f"
          },
          "geo": {
           "bgcolor": "white",
           "lakecolor": "white",
           "landcolor": "#E5ECF6",
           "showlakes": true,
           "showland": true,
           "subunitcolor": "white"
          },
          "hoverlabel": {
           "align": "left"
          },
          "hovermode": "closest",
          "mapbox": {
           "style": "light"
          },
          "paper_bgcolor": "white",
          "plot_bgcolor": "#E5ECF6",
          "polar": {
           "angularaxis": {
            "gridcolor": "white",
            "linecolor": "white",
            "ticks": ""
           },
           "bgcolor": "#E5ECF6",
           "radialaxis": {
            "gridcolor": "white",
            "linecolor": "white",
            "ticks": ""
           }
          },
          "scene": {
           "xaxis": {
            "backgroundcolor": "#E5ECF6",
            "gridcolor": "white",
            "gridwidth": 2,
            "linecolor": "white",
            "showbackground": true,
            "ticks": "",
            "zerolinecolor": "white"
           },
           "yaxis": {
            "backgroundcolor": "#E5ECF6",
            "gridcolor": "white",
            "gridwidth": 2,
            "linecolor": "white",
            "showbackground": true,
            "ticks": "",
            "zerolinecolor": "white"
           },
           "zaxis": {
            "backgroundcolor": "#E5ECF6",
            "gridcolor": "white",
            "gridwidth": 2,
            "linecolor": "white",
            "showbackground": true,
            "ticks": "",
            "zerolinecolor": "white"
           }
          },
          "shapedefaults": {
           "line": {
            "color": "#2a3f5f"
           }
          },
          "ternary": {
           "aaxis": {
            "gridcolor": "white",
            "linecolor": "white",
            "ticks": ""
           },
           "baxis": {
            "gridcolor": "white",
            "linecolor": "white",
            "ticks": ""
           },
           "bgcolor": "#E5ECF6",
           "caxis": {
            "gridcolor": "white",
            "linecolor": "white",
            "ticks": ""
           }
          },
          "title": {
           "x": 0.05
          },
          "xaxis": {
           "automargin": true,
           "gridcolor": "white",
           "linecolor": "white",
           "ticks": "",
           "title": {
            "standoff": 15
           },
           "zerolinecolor": "white",
           "zerolinewidth": 2
          },
          "yaxis": {
           "automargin": true,
           "gridcolor": "white",
           "linecolor": "white",
           "ticks": "",
           "title": {
            "standoff": 15
           },
           "zerolinecolor": "white",
           "zerolinewidth": 2
          }
         }
        },
        "width": 1000,
        "xaxis": {
         "anchor": "y",
         "autorange": true,
         "constrain": "domain",
         "domain": [
          0.14957524271844658,
          0.8504247572815534
         ],
         "range": [
          -0.5,
          43.5
         ],
         "scaleanchor": "y",
         "ticktext": [
          "▁[",
          "INST",
          "]",
          "▁P",
          "ret",
          "end",
          "▁you",
          "'",
          "re",
          "▁an",
          "▁intellect",
          "ually",
          "▁br",
          "ash",
          "▁bot",
          "▁answering",
          "▁questions",
          "▁that",
          "▁you",
          "▁may",
          "▁not",
          "▁know",
          "▁the",
          "▁answer",
          "▁to",
          ".",
          "▁Question",
          ":",
          "▁Who",
          "▁discovered",
          "▁the",
          "▁Y",
          "al",
          "get",
          "h",
          "▁L",
          "imit",
          "?",
          "▁[",
          "/",
          "INST",
          "]",
          "▁The"
         ],
         "tickvals": [
          0,
          1,
          2,
          3,
          4,
          5,
          6,
          7,
          8,
          9,
          10,
          11,
          12,
          13,
          14,
          15,
          16,
          17,
          18,
          19,
          20,
          21,
          22,
          23,
          24,
          25,
          26,
          27,
          28,
          29,
          30,
          31,
          32,
          33,
          34,
          35,
          36,
          37,
          38,
          39,
          40,
          41,
          42
         ],
         "title": {
          "text": "Token"
         }
        },
        "yaxis": {
         "anchor": "x",
         "autorange": true,
         "constrain": "domain",
         "domain": [
          0,
          1
         ],
         "range": [
          31.5,
          -0.5
         ]
        }
       }
      },
      "image/png": "[encoded data removed]",
      "text/html": [
       "<div>                            <div id=\"7e6322ca-2ddf-4475-8025-e29e985754a7\" class=\"plotly-graph-div\" style=\"height:600px; width:1000px;\"></div>            <script type=\"text/javascript\">                require([\"plotly\"], function(Plotly) {                    window.PLOTLYENV=window.PLOTLYENV || {};                                    if (document.getElementById(\"7e6322ca-2ddf-4475-8025-e29e985754a7\")) {                    Plotly.newPlot(                        \"7e6322ca-2ddf-4475-8025-e29e985754a7\",                        [{\"coloraxis\":\"coloraxis\",\"name\":\"0\",\"z\":[[-0.00812530517578125,0.032012939453125,0.02099609375,0.01392364501953125,0.01114654541015625,-0.0002620220184326172,-0.0014791488647460938,-0.0023403167724609375,0.00957489013671875,-0.0027904510498046875,0.00197601318359375,-0.01467132568359375,-0.00894927978515625,0.0037631988525390625,-0.0024623870849609375,0.002285003662109375,-0.00606536865234375,-0.0019378662109375,-0.009521484375,-0.0009455680847167969,-0.004673004150390625,-0.00321197509765625,-0.01039886474609375,-0.017486572265625,-0.0008988380432128906,0.000926971435546875,0.011871337890625,0.00012171268463134766,0.00897216796875,-0.0018157958984375,-0.01143646240234375,-0.0209503173828125,0.0024814605712890625,0.0007114410400390625,-0.0014791488647460938,-0.0019931793212890625,-0.0025653839111328125,-0.003444671630859375,0.0117340087890625,0.006439208984375,0.0059356689453125,0.01451873779296875,0.004596710205078125,-0.0282745361328125],[-23.484375,-0.17529296875,0.001453399658203125,-0.028533935546875,-0.014617919921875,-0.00466156005859375,-0.011688232421875,-0.0267791748046875,-0.058013916015625,-0.0211181640625,-0.022674560546875,-0.0028133392333984375,-0.01502227783203125,-0.013031005859375,0.00032639503479003906,-0.0031490325927734375,-0.0174713134765625,-0.01122283935546875,-0.052093505859375,-0.033599853515625,-0.018798828125,-0.032318115234375,-0.01439666748046875,-0.052398681640625,-0.0016460418701171875,-0.01230621337890625,-0.0300750732421875,-0.01494598388671875,-0.02349853515625,-0.01332855224609375,-0.0253143310546875,-0.0562744140625,-0.050048828125,-0.01090240478515625,-0.006175994873046875,-0.016754150390625,-0.039825439453125,-0.01885986328125,-0.01389312744140625,-0.0231170654296875,-0.0125274658203125,-0.0137176513671875,-0.0426025390625,-0.1171875],[-7.22265625,-0.1033935546875,-0.02191162109375,-0.0255889892578125,-0.018341064453125,-0.01532745361328125,-0.047393798828125,-0.03057861328125,-0.052001953125,-0.03948974609375,-0.04290771484375,-0.01131439208984375,-0.04632568359375,-0.01702880859375,-0.0094451904296875,-0.006687164306640625,-0.039459228515625,-0.030731201171875,-0.07470703125,-0.06195068359375,-0.0638427734375,-0.07159423828125,-0.052337646484375,-0.06396484375,-0.016845703125,-0.01556396484375,-0.0533447265625,-0.04290771484375,-0.0472412109375,-0.041778564453125,-0.0487060546875,-0.0657958984375,-0.0570068359375,-0.0254669189453125,-0.00849151611328125,-0.018310546875,-0.055816650390625,-0.02947998046875,-0.047576904296875,-0.0367431640625,-0.03326416015625,-0.0517578125,-0.0833740234375,-0.12646484375],[-6.8984375,-0.19384765625,-0.043426513671875,-0.08343505859375,-0.0738525390625,-0.05303955078125,-0.0758056640625,-0.042266845703125,-0.054656982421875,-0.0699462890625,-0.054473876953125,-0.032196044921875,-0.06866455078125,-0.07159423828125,-0.09246826171875,-0.0170440673828125,-0.0316162109375,-0.034271240234375,-0.054595947265625,-0.08453369140625,-0.07452392578125,-0.08148193359375,-0.05584716796875,-0.06866455078125,-0.04736328125,-0.032501220703125,-0.05535888671875,-0.1041259765625,-0.0782470703125,-0.09539794921875,-0.053466796875,-0.07513427734375,-0.06951904296875,-0.035125732421875,-0.008758544921875,-0.0230255126953125,-0.057525634765625,-0.012176513671875,-0.03631591796875,-0.04949951171875,-0.039031982421875,-0.09979248046875,-0.1400146484375,-0.234130859375],[-14.1953125,-0.25927734375,-0.050140380859375,-0.08282470703125,-0.09765625,-0.050689697265625,-0.055633544921875,-0.003345489501953125,-0.0277099609375,-0.02435302734375,-0.00749969482421875,0.0158233642578125,-0.0311737060546875,-0.0428466796875,-0.043609619140625,0.0869140625,0.11700439453125,0.0253448486328125,0.00629425048828125,-0.035736083984375,-0.040557861328125,-0.07269287109375,-0.0230560302734375,-0.03558349609375,-0.03851318359375,-0.0062408447265625,-0.01090240478515625,-0.03228759765625,-0.062103271484375,-0.1583251953125,-0.0916748046875,-0.09124755859375,-0.08673095703125,-0.048248291015625,-0.019775390625,-0.041748046875,-0.10113525390625,-0.019287109375,-0.07379150390625,-0.06927490234375,-0.052886962890625,-0.10040283203125,-0.167724609375,-0.263916015625],[-5.8359375,-0.2213134765625,0.08172607421875,-0.0672607421875,-0.01739501953125,-0.00951385498046875,0.00333404541015625,0.0213470458984375,-0.013458251953125,0.04254150390625,0.12139892578125,-0.00667572021484375,-0.0157470703125,-0.06463623046875,-0.13037109375,0.12158203125,0.1644287109375,-0.00675201416015625,-0.055145263671875,-0.019439697265625,-0.032318115234375,-0.05352783203125,0.007511138916015625,-0.006275177001953125,-0.07623291015625,-0.0657958984375,-0.034881591796875,0.05181884765625,-0.0194091796875,-0.1212158203125,-0.1263427734375,-0.11541748046875,-0.09735107421875,-0.02001953125,-0.02838134765625,-0.0036067962646484375,-0.11004638671875,-0.020843505859375,-0.1502685546875,-0.08642578125,-0.010894775390625,-0.018310546875,-0.11053466796875,-0.266845703125],[-1.861328125,-0.02838134765625,0.049407958984375,-0.04193115234375,0.07470703125,0.038055419921875,0.078369140625,0.0816650390625,0.0615234375,0.09686279296875,0.1988525390625,0.0697021484375,0.051513671875,0.01439666748046875,-0.05322265625,0.222412109375,0.21875,0.0858154296875,0.07427978515625,0.033660888671875,0.058441162109375,0.06341552734375,0.1326904296875,0.04736328125,0.0213775634765625,0.08502197265625,0.08807373046875,0.052886962890625,0.0726318359375,-0.021270751953125,-0.065185546875,-0.0726318359375,-0.06524658203125,0.006072998046875,0.02471923828125,0.022064208984375,-0.10491943359375,-0.054412841796875,-0.091064453125,-0.00359344482421875,0.01509857177734375,-0.0128326416015625,-0.0213775634765625,-0.1571044921875],[-13.4140625,-0.402587890625,0.03497314453125,-0.1341552734375,0.054168701171875,-0.006206512451171875,0.09246826171875,0.12322998046875,0.1319580078125,0.09075927734375,0.219970703125,0.01222991943359375,-0.01324462890625,-0.027130126953125,-0.09442138671875,0.2178955078125,0.2496337890625,0.13818359375,0.09747314453125,0.064697265625,0.027862548828125,0.04498291015625,0.10260009765625,0.096923828125,0.1767578125,0.1685791015625,0.11328125,0.046417236328125,0.0498046875,0.033447265625,-0.10015869140625,-0.080322265625,-0.08624267578125,-0.045806884765625,-0.06646728515625,-0.09375,-0.1173095703125,-0.03948974609375,-0.1632080078125,-0.0190277099609375,0.0545654296875,0.1072998046875,0.06427001953125,-0.0845947265625],[1.7841796875,0.011566162109375,0.05413818359375,-0.01322174072265625,0.1258544921875,0.039031982421875,0.103759765625,0.152099609375,0.190185546875,0.04241943359375,0.1844482421875,-0.0207366943359375,-0.06640625,-0.0174102783203125,-0.12164306640625,0.1363525390625,0.16943359375,0.089599609375,0.094970703125,0.046173095703125,0.041229248046875,0.05291748046875,0.08367919921875,0.11053466796875,0.2086181640625,0.1314697265625,0.12548828125,0.03973388671875,0.131591796875,0.153564453125,0.025390625,0.06646728515625,-0.0169219970703125,0.063232421875,-0.0167388916015625,-0.013458251953125,-0.064453125,-0.042388916015625,0.032562255859375,0.21728515625,0.1937255859375,0.203369140625,0.242919921875,0.1260986328125],[23.125,0.94287109375,0.2105712890625,0.306640625,0.281005859375,0.072509765625,0.103271484375,0.162841796875,0.22412109375,0.049774169921875,0.179443359375,0.00763702392578125,-0.090576171875,0.0117034912109375,0.0391845703125,0.112548828125,0.119873046875,0.02374267578125,0.03955078125,0.03399658203125,-0.03375244140625,0.0272979736328125,0.07232666015625,0.1387939453125,0.067138671875,-0.058319091796875,0.093994140625,0.0227203369140625,0.040283203125,0.0005979537963867188,0.08648681640625,0.0712890625,0.0198211669921875,0.041259765625,-0.07421875,-0.06353759765625,-0.1666259765625,-0.09246826171875,0.12396240234375,0.1253662109375,0.1312255859375,0.1572265625,0.251220703125,0.35205078125],[21.140625,0.93310546875,0.330322265625,0.379150390625,0.329345703125,0.1673583984375,0.1724853515625,0.283203125,0.30908203125,0.211669921875,0.26611328125,0.051788330078125,-0.010467529296875,0.0880126953125,0.07379150390625,0.127197265625,0.131591796875,-0.00823974609375,0.038970947265625,0.1053466796875,0.0232696533203125,0.05743408203125,0.014678955078125,0.07818603515625,-0.04522705078125,-0.0972900390625,0.142822265625,0.05987548828125,0.03497314453125,-0.01520538330078125,0.038299560546875,0.0655517578125,0.03887939453125,0.07861328125,0.010040283203125,0.0223388671875,-0.1044921875,0.034759521484375,0.09930419921875,0.0904541015625,0.1285400390625,0.14697265625,0.23291015625,0.40966796875],[20.9375,0.94677734375,0.28173828125,0.39208984375,0.385986328125,0.2412109375,0.2069091796875,0.30078125,0.330322265625,0.2254638671875,0.21630859375,0.09320068359375,0.016632080078125,0.010894775390625,-0.1585693359375,0.036865234375,-0.10052490234375,-0.06689453125,-0.0252838134765625,0.053314208984375,0.1510009765625,0.0775146484375,0.0160369873046875,0.04449462890625,-0.040985107421875,-0.0675048828125,-0.0004436969757080078,0.07366943359375,-0.084228515625,-0.09405517578125,-0.028411865234375,-0.00186920166015625,0.036590576171875,0.054718017578125,0.01422882080078125,0.0180511474609375,-0.13525390625,0.058380126953125,0.1024169921875,-0.01953125,-0.10296630859375,-0.1942138671875,-0.0596923828125,0.3583984375],[-3.236328125,-0.2293701171875,0.10333251953125,0.002490997314453125,0.10089111328125,0.1270751953125,0.11639404296875,0.226806640625,0.16162109375,0.2081298828125,0.1380615234375,-0.07623291015625,-0.03936767578125,-0.055206298828125,-0.261474609375,-0.0169219970703125,-0.1563720703125,-0.2261962890625,-0.0911865234375,-0.10491943359375,0.026824951171875,-0.08660888671875,-0.1258544921875,-0.10150146484375,-0.239013671875,-0.20068359375,-0.2061767578125,3.9637088775634766e-05,-0.1864013671875,-0.295654296875,-0.1572265625,-0.00777435302734375,-0.04443359375,-0.04144287109375,-0.053466796875,-0.05126953125,-0.167236328125,-0.10260009765625,-0.055084228515625,-0.275634765625,-0.164306640625,-0.48583984375,-0.443603515625,0.2254638671875],[-20.6875,-1.2509765625,-0.1121826171875,-0.45703125,-0.2335205078125,-0.095458984375,-0.07952880859375,-0.045684814453125,0.0330810546875,-0.06488037109375,-0.1407470703125,-0.30615234375,-0.2257080078125,-0.232177734375,-0.353271484375,-0.2161865234375,-0.22998046875,-0.40283203125,-0.325439453125,-0.25439453125,-0.108154296875,-0.18896484375,-0.18896484375,-0.2337646484375,-0.314453125,-0.207763671875,-0.291015625,0.0970458984375,-0.208984375,-0.459716796875,-0.45654296875,-0.3779296875,-0.2783203125,-0.2177734375,-0.259521484375,-0.2349853515625,-0.3486328125,-0.1888427734375,-0.1982421875,-0.2362060546875,-0.085205078125,-0.7138671875,-0.78662109375,-0.150390625],[-34.75,-2.052734375,-0.1612548828125,-0.8505859375,-0.480712890625,-0.173828125,-0.1298828125,-0.12384033203125,-0.1727294921875,-0.1705322265625,-0.28466796875,-0.416259765625,-0.384033203125,-0.35302734375,-0.295654296875,-0.048248291015625,-0.09857177734375,-0.333740234375,-0.300048828125,-0.1353759765625,0.046142578125,-0.08526611328125,-0.0293426513671875,-0.1856689453125,-0.19970703125,0.06976318359375,-0.051971435546875,0.136474609375,-0.1876220703125,-0.456787109375,-0.478759765625,-0.5146484375,-0.459228515625,-0.334716796875,-0.343017578125,-0.208984375,-0.348388671875,-0.1524658203125,0.0611572265625,0.0125732421875,-0.019012451171875,-0.6748046875,-0.396240234375,0.322021484375],[-21.625,-1.4501953125,-0.1505126953125,-0.8193359375,-0.427490234375,-0.2144775390625,-0.243896484375,-0.22216796875,-0.32958984375,-0.2359619140625,-0.2841796875,-0.312255859375,-0.3798828125,-0.335205078125,-0.52880859375,-0.09344482421875,-0.2705078125,-0.72314453125,-0.6435546875,-0.50830078125,-0.2174072265625,-0.204833984375,-0.26123046875,-0.348876953125,-0.4267578125,-0.38916015625,-0.50048828125,-0.1734619140625,-0.41357421875,-0.60595703125,-0.50439453125,-0.626953125,-0.479736328125,-0.319091796875,-0.255859375,-0.27392578125,-0.427490234375,-0.31494140625,-0.0811767578125,-0.09320068359375,-0.12060546875,-0.888671875,-0.90185546875,0.31005859375],[-19.796875,-1.259765625,-0.07257080078125,-0.7509765625,-0.3544921875,-0.09307861328125,-0.185302734375,-0.27294921875,-0.406494140625,-0.284423828125,-0.429931640625,-0.18994140625,-0.239013671875,-0.2978515625,-0.467041015625,-0.1829833984375,-0.1737060546875,-0.81640625,-0.69091796875,-0.6669921875,-0.255859375,-0.07568359375,-0.0295867919921875,-0.0521240234375,-0.10382080078125,-0.198486328125,-0.54052734375,0.0699462890625,-0.1927490234375,-0.83154296875,-0.48828125,-0.63134765625,-0.5,-0.291259765625,-0.267333984375,-0.357666015625,-0.501953125,-0.377685546875,-0.1888427734375,-0.05120849609375,-0.2091064453125,-1.4287109375,-1.5517578125,-0.251708984375],[-27.078125,-1.892578125,-0.017303466796875,-1.2587890625,-0.497314453125,-0.1328125,-0.252197265625,-0.460205078125,-0.6220703125,-0.603515625,-0.59716796875,-0.455810546875,-0.4052734375,-0.496337890625,-0.6357421875,-0.4208984375,-0.451416015625,-0.91064453125,-0.5703125,-0.56787109375,-0.1798095703125,0.044219970703125,0.01910400390625,0.1512451171875,-0.041534423828125,-0.177001953125,-0.5595703125,0.1549072265625,-0.308349609375,-0.919921875,-0.63818359375,-0.84521484375,-0.6982421875,-0.332275390625,-0.4052734375,-0.485595703125,-0.7763671875,-0.513671875,-0.22998046875,-0.06378173828125,-0.3896484375,-1.3857421875,-1.2099609375,0.030670166015625],[-16.703125,-1.5224609375,0.34423828125,-1.1005859375,-0.230712890625,-0.042938232421875,-0.251708984375,-0.3681640625,-0.53173828125,-0.412841796875,-0.44921875,-0.294921875,-0.278076171875,-0.37939453125,-0.650390625,-0.2467041015625,-0.6279296875,-1.0771484375,-0.7412109375,-0.473876953125,-0.06365966796875,0.43017578125,0.37158203125,0.35498046875,0.12335205078125,0.1441650390625,-0.370849609375,0.31689453125,-0.420166015625,-1.2099609375,-0.7822265625,-0.861328125,-0.568359375,0.051544189453125,-0.24072265625,-0.390869140625,-0.8125,-0.43505859375,-0.376953125,0.0997314453125,-0.1844482421875,-1.2578125,-0.98388671875,-0.0305633544921875],[-20.046875,-4.83203125,-1.064453125,-9.640625,-0.9638671875,-0.62744140625,-0.9130859375,-1.2216796875,-1.9912109375,-1.208984375,-1.0537109375,-0.720703125,-0.61572265625,-0.6884765625,-1.259765625,-0.71630859375,-1.0986328125,-1.6728515625,-1.6669921875,-1.5341796875,-1.2783203125,-0.3330078125,-0.14306640625,-0.3134765625,-0.3974609375,-0.70166015625,-0.83349609375,-0.057952880859375,-1.59375,-1.7890625,-1.2890625,-1.5,-1.2041015625,-0.20458984375,-0.5791015625,-1.02734375,-1.4072265625,-0.814453125,-0.9345703125,-0.59619140625,-0.73046875,-2.50390625,-2.390625,-1.5869140625],[-15.265625,-5.73828125,-1.640625,-9.953125,-1.611328125,-1.1943359375,-1.501953125,-2.033203125,-2.609375,-2.076171875,-1.9384765625,-1.626953125,-1.623046875,-1.6787109375,-2.720703125,-1.6240234375,-2.388671875,-3.162109375,-3.25390625,-3.13671875,-2.80859375,-1.580078125,-1.10546875,-1.6611328125,-1.4189453125,-1.93359375,-2.13671875,-1.1513671875,-2.97265625,-2.625,-2.1484375,-2.24609375,-1.8642578125,-0.6494140625,-0.91162109375,-1.6533203125,-2.244140625,-1.509765625,-1.83203125,-1.646484375,-1.6123046875,-4.015625,-3.994140625,-3.236328125],[-18.640625,-6.2109375,-1.0986328125,-11.0390625,-1.1572265625,-0.34326171875,-0.767578125,-1.4228515625,-2.275390625,-1.58984375,-1.494140625,-0.93408203125,-0.87744140625,-1.0185546875,-2.232421875,-0.77783203125,-2.197265625,-2.833984375,-2.705078125,-2.75390625,-2.42578125,-1.0341796875,-0.334716796875,-1.0732421875,-0.8046875,-1.3037109375,-1.34765625,-0.53564453125,-2.673828125,-1.98046875,-1.291015625,-1.6455078125,-1.2529296875,0.2607421875,0.214599609375,-0.5947265625,-1.52734375,-0.84619140625,-1.0869140625,-1.0654296875,-0.962890625,-3.728515625,-3.5,-3.12890625],[-19.109375,-7.28515625,-2.279296875,-12.21875,-2.298828125,-1.5625,-2.126953125,-2.697265625,-3.462890625,-2.986328125,-2.865234375,-2.2109375,-2.095703125,-2.166015625,-3.517578125,-2.091796875,-3.953125,-4.5859375,-4.4453125,-4.421875,-3.86328125,-2.138671875,-1.49609375,-2.505859375,-1.912109375,-2.556640625,-2.66015625,-2.1015625,-4.21875,-3.494140625,-2.69921875,-3.0625,-2.41015625,-0.7763671875,-0.9033203125,-1.7802734375,-2.80859375,-1.93359375,-2.298828125,-2.490234375,-2.45703125,-5.23828125,-4.65234375,-4.46484375],[-22.609375,-8.2578125,-2.568359375,-13.734375,-2.796875,-1.8212890625,-2.501953125,-3.068359375,-3.98046875,-3.4765625,-3.529296875,-2.416015625,-2.4375,-2.228515625,-3.962890625,-2.140625,-4.33984375,-4.93359375,-4.7734375,-4.72265625,-4.1796875,-2.59765625,-1.919921875,-3.34375,-2.265625,-2.8046875,-2.767578125,-2.46484375,-4.83984375,-3.8203125,-3.20703125,-3.712890625,-2.802734375,-1.0322265625,-0.94482421875,-2.267578125,-3.408203125,-2.16015625,-2.61328125,-3.126953125,-2.974609375,-5.84765625,-5.1484375,-5.03515625],[-22.0625,-8.2109375,-2.685546875,-13.6171875,-2.89453125,-2.1171875,-2.822265625,-3.55078125,-4.09375,-3.927734375,-3.9609375,-2.59375,-2.783203125,-2.216796875,-4.64453125,-2.513671875,-5.08203125,-5.47265625,-5.36328125,-5.41796875,-4.74609375,-2.861328125,-2.0546875,-3.572265625,-2.732421875,-3.0234375,-2.982421875,-2.900390625,-5.3046875,-4.39453125,-3.6171875,-4.01953125,-2.806640625,-1.138671875,-1.07421875,-2.435546875,-3.544921875,-2.349609375,-2.75,-3.50390625,-3.5390625,-6.1015625,-5.625,-5.7265625],[-20.71875,-7.484375,-1.9970703125,-12.9921875,-2.228515625,-1.70703125,-2.3515625,-3.013671875,-3.474609375,-3.34375,-3.43359375,-2.04296875,-2.333984375,-1.6962890625,-4.49609375,-1.8291015625,-4.66796875,-4.9921875,-4.90234375,-4.98046875,-4.30859375,-2.177734375,-1.88671875,-3.1796875,-2.3203125,-2.501953125,-2.583984375,-2.6796875,-4.9609375,-3.806640625,-3.150390625,-3.5703125,-2.119140625,-0.2344970703125,-0.2177734375,-1.6787109375,-2.98046875,-1.6220703125,-1.890625,-3.025390625,-3.119140625,-5.75390625,-5.16015625,-5.609375],[-16.703125,-7.35546875,-2.125,-12.8203125,-2.34765625,-1.6962890625,-2.44921875,-3.15234375,-3.73046875,-3.45703125,-3.7109375,-2.046875,-2.822265625,-2.0,-5.16015625,-2.173828125,-5.109375,-5.33984375,-5.30859375,-5.08984375,-4.515625,-2.359375,-2.001953125,-3.5703125,-2.529296875,-2.857421875,-3.1171875,-3.279296875,-5.44140625,-3.845703125,-3.748046875,-4.49609375,-2.30078125,-0.57421875,-0.74072265625,-2.044921875,-3.234375,-1.8740234375,-2.296875,-3.462890625,-3.484375,-6.26953125,-5.9140625,-6.67578125],[-17.21875,-7.84765625,-2.81640625,-13.1796875,-2.91796875,-1.90625,-3.01953125,-3.873046875,-4.43359375,-4.515625,-4.94140625,-2.833984375,-3.95703125,-2.279296875,-6.0625,-3.021484375,-6.58203125,-6.66796875,-6.734375,-6.41015625,-5.77734375,-3.234375,-2.998046875,-5.1015625,-3.58984375,-4.1484375,-3.794921875,-4.625,-6.2890625,-4.43359375,-4.73828125,-5.58984375,-2.611328125,-1.1494140625,-1.111328125,-2.490234375,-3.671875,-2.630859375,-3.103515625,-4.20703125,-4.21484375,-7.17578125,-6.96484375,-8.015625],[-12.6484375,-6.90625,-2.724609375,-12.1484375,-2.416015625,-1.05859375,-2.875,-3.595703125,-4.19140625,-4.3515625,-4.70703125,-2.5703125,-3.833984375,-1.5244140625,-6.125,-2.59765625,-6.7890625,-6.90234375,-6.609375,-6.2734375,-5.7421875,-3.16796875,-3.205078125,-5.5,-3.5390625,-4.3359375,-3.7734375,-4.49609375,-6.5625,-4.0703125,-4.765625,-5.70703125,-1.552734375,-0.693359375,-0.6923828125,-2.22265625,-3.00390625,-2.1015625,-2.955078125,-3.998046875,-4.140625,-6.98828125,-6.7421875,-8.4765625],[-9.4765625,-7.171875,-4.11328125,-11.609375,-4.1484375,-2.951171875,-5.1640625,-5.76953125,-5.82421875,-6.1328125,-6.72265625,-4.53125,-6.14453125,-2.669921875,-8.5234375,-4.76171875,-9.6640625,-9.296875,-9.1015625,-8.3984375,-8.09375,-5.87890625,-6.45703125,-9.578125,-5.88671875,-7.1171875,-6.1640625,-5.96875,-9.1328125,-6.39453125,-7.42578125,-8.1171875,-3.25390625,-2.359375,-2.61328125,-4.1875,-4.03125,-4.1640625,-4.9609375,-5.7578125,-5.90625,-8.453125,-9.0234375,-10.828125],[-6.89453125,-6.765625,-3.625,-11.328125,-2.72265625,-2.12890625,-5.41015625,-5.69921875,-6.328125,-6.234375,-6.80859375,-4.3359375,-6.35546875,-1.9091796875,-8.5078125,-4.59375,-10.21875,-9.2890625,-9.6484375,-8.9140625,-8.59375,-6.2578125,-6.53125,-9.7734375,-6.72265625,-7.30859375,-5.9765625,-5.59765625,-10.375,-6.51953125,-7.90234375,-8.21875,-1.3642578125,-1.0859375,-1.2646484375,-3.2734375,-3.111328125,-3.80859375,-4.28515625,-4.88671875,-5.05078125,-8.453125,-9.140625,-11.5234375],[-28.96875,-10.3046875,-1.9111328125,-10.8828125,26.390625,3.162109375,-45.90625,-17.640625,-11.9140625,-43.84375,-46.65625,-31.84375,-50.03125,-11.015625,-73.25,-35.84375,-83.25,-59.1875,-81.0,-55.5,-51.84375,-21.390625,-34.8125,-38.21875,-26.140625,-32.5625,-40.0,-13.515625,-36.5625,-35.40625,-71.9375,-71.4375,-2.541015625,3.203125,-3.4765625,-18.515625,2.83203125,-8.7109375,-7.546875,3.03515625,5.26171875,-24.140625,-43.3125,-47.40625]],\"type\":\"heatmap\",\"xaxis\":\"x\",\"yaxis\":\"y\",\"hovertemplate\":\"Token: %{x}\\u003cbr\\u003ey: %{y}\\u003cbr\\u003ecolor: %{z}\\u003cextra\\u003e\\u003c\\u002fextra\\u003e\"}],                        {\"template\":{\"data\":{\"histogram2dcontour\":[{\"type\":\"histogram2dcontour\",\"colorbar\":{\"outlinewidth\":0,\"ticks\":\"\"},\"colorscale\":[[0.0,\"#0d0887\"],[0.1111111111111111,\"#46039f\"],[0.2222222222222222,\"#7201a8\"],[0.3333333333333333,\"#9c179e\"],[0.4444444444444444,\"#bd3786\"],[0.5555555555555556,\"#d8576b\"],[0.6666666666666666,\"#ed7953\"],[0.7777777777777778,\"#fb9f3a\"],[0.8888888888888888,\"#fdca26\"],[1.0,\"#f0f921\"]]}],\"choropleth\":[{\"type\":\"choropleth\",\"colorbar\":{\"outlinewidth\":0,\"ticks\":\"\"}}],\"histogram2d\":[{\"type\":\"histogram2d\",\"colorbar\":{\"outlinewidth\":0,\"ticks\":\"\"},\"colorscale\":[[0.0,\"#0d0887\"],[0.1111111111111111,\"#46039f\"],[0.2222222222222222,\"#7201a8\"],[0.3333333333333333,\"#9c179e\"],[0.4444444444444444,\"#bd3786\"],[0.5555555555555556,\"#d8576b\"],[0.6666666666666666,\"#ed7953\"],[0.7777777777777778,\"#fb9f3a\"],[0.8888888888888888,\"#fdca26\"],[1.0,\"#f0f921\"]]}],\"heatmap\":[{\"type\":\"heatmap\",\"colorbar\":{\"outlinewidth\":0,\"ticks\":\"\"},\"colorscale\":[[0.0,\"#0d0887\"],[0.1111111111111111,\"#46039f\"],[0.2222222222222222,\"#7201a8\"],[0.3333333333333333,\"#9c179e\"],[0.4444444444444444,\"#bd3786\"],[0.5555555555555556,\"#d8576b\"],[0.6666666666666666,\"#ed7953\"],[0.7777777777777778,\"#fb9f3a\"],[0.8888888888888888,\"#fdca26\"],[1.0,\"#f0f921\"]]}],\"heatmapgl\":[{\"type\":\"heatmapgl\",\"colorbar\":{\"outlinewidth\":0,\"ticks\":\"\"},\"colorscale\":[[0.0,\"#0d0887\"],[0.1111111111111111,\"#46039f\"],[0.2222222222222222,\"#7201a8\"],[0.3333333333333333,\"#9c179e\"],[0.4444444444444444,\"#bd3786\"],[0.5555555555555556,\"#d8576b\"],[0.6666666666666666,\"#ed7953\"],[0.7777777777777778,\"#fb9f3a\"],[0.8888888888888888,\"#fdca26\"],[1.0,\"#f0f921\"]]}],\"contourcarpet\":[{\"type\":\"contourcarpet\",\"colorbar\":{\"outlinewidth\":0,\"ticks\":\"\"}}],\"contour\":[{\"type\":\"contour\",\"colorbar\":{\"outlinewidth\":0,\"ticks\":\"\"},\"colorscale\":[[0.0,\"#0d0887\"],[0.1111111111111111,\"#46039f\"],[0.2222222222222222,\"#7201a8\"],[0.3333333333333333,\"#9c179e\"],[0.4444444444444444,\"#bd3786\"],[0.5555555555555556,\"#d8576b\"],[0.6666666666666666,\"#ed7953\"],[0.7777777777777778,\"#fb9f3a\"],[0.8888888888888888,\"#fdca26\"],[1.0,\"#f0f921\"]]}],\"surface\":[{\"type\":\"surface\",\"colorbar\":{\"outlinewidth\":0,\"ticks\":\"\"},\"colorscale\":[[0.0,\"#0d0887\"],[0.1111111111111111,\"#46039f\"],[0.2222222222222222,\"#7201a8\"],[0.3333333333333333,\"#9c179e\"],[0.4444444444444444,\"#bd3786\"],[0.5555555555555556,\"#d8576b\"],[0.6666666666666666,\"#ed7953\"],[0.7777777777777778,\"#fb9f3a\"],[0.8888888888888888,\"#fdca26\"],[1.0,\"#f0f921\"]]}],\"mesh3d\":[{\"type\":\"mesh3d\",\"colorbar\":{\"outlinewidth\":0,\"ticks\":\"\"}}],\"scatter\":[{\"fillpattern\":{\"fillmode\":\"overlay\",\"size\":10,\"solidity\":0.2},\"type\":\"scatter\"}],\"parcoords\":[{\"type\":\"parcoords\",\"line\":{\"colorbar\":{\"outlinewidth\":0,\"ticks\":\"\"}}}],\"scatterpolargl\":[{\"type\":\"scatterpolargl\",\"marker\":{\"colorbar\":{\"outlinewidth\":0,\"ticks\":\"\"}}}],\"bar\":[{\"error_x\":{\"color\":\"#2a3f5f\"},\"error_y\":{\"color\":\"#2a3f5f\"},\"marker\":{\"line\":{\"color\":\"#E5ECF6\",\"width\":0.5},\"pattern\":{\"fillmode\":\"overlay\",\"size\":10,\"solidity\":0.2}},\"type\":\"bar\"}],\"scattergeo\":[{\"type\":\"scattergeo\",\"marker\":{\"colorbar\":{\"outlinewidth\":0,\"ticks\":\"\"}}}],\"scatterpolar\":[{\"type\":\"scatterpolar\",\"marker\":{\"colorbar\":{\"outlinewidth\":0,\"ticks\":\"\"}}}],\"histogram\":[{\"marker\":{\"pattern\":{\"fillmode\":\"overlay\",\"size\":10,\"solidity\":0.2}},\"type\":\"histogram\"}],\"scattergl\":[{\"type\":\"scattergl\",\"marker\":{\"colorbar\":{\"outlinewidth\":0,\"ticks\":\"\"}}}],\"scatter3d\":[{\"type\":\"scatter3d\",\"line\":{\"colorbar\":{\"outlinewidth\":0,\"ticks\":\"\"}},\"marker\":{\"colorbar\":{\"outlinewidth\":0,\"ticks\":\"\"}}}],\"scattermapbox\":[{\"type\":\"scattermapbox\",\"marker\":{\"colorbar\":{\"outlinewidth\":0,\"ticks\":\"\"}}}],\"scatterternary\":[{\"type\":\"scatterternary\",\"marker\":{\"colorbar\":{\"outlinewidth\":0,\"ticks\":\"\"}}}],\"scattercarpet\":[{\"type\":\"scattercarpet\",\"marker\":{\"colorbar\":{\"outlinewidth\":0,\"ticks\":\"\"}}}],\"carpet\":[{\"aaxis\":{\"endlinecolor\":\"#2a3f5f\",\"gridcolor\":\"white\",\"linecolor\":\"white\",\"minorgridcolor\":\"white\",\"startlinecolor\":\"#2a3f5f\"},\"baxis\":{\"endlinecolor\":\"#2a3f5f\",\"gridcolor\":\"white\",\"linecolor\":\"white\",\"minorgridcolor\":\"white\",\"startlinecolor\":\"#2a3f5f\"},\"type\":\"carpet\"}],\"table\":[{\"cells\":{\"fill\":{\"color\":\"#EBF0F8\"},\"line\":{\"color\":\"white\"}},\"header\":{\"fill\":{\"color\":\"#C8D4E3\"},\"line\":{\"color\":\"white\"}},\"type\":\"table\"}],\"barpolar\":[{\"marker\":{\"line\":{\"color\":\"#E5ECF6\",\"width\":0.5},\"pattern\":{\"fillmode\":\"overlay\",\"size\":10,\"solidity\":0.2}},\"type\":\"barpolar\"}],\"pie\":[{\"automargin\":true,\"type\":\"pie\"}]},\"layout\":{\"autotypenumbers\":\"strict\",\"colorway\":[\"#636efa\",\"#EF553B\",\"#00cc96\",\"#ab63fa\",\"#FFA15A\",\"#19d3f3\",\"#FF6692\",\"#B6E880\",\"#FF97FF\",\"#FECB52\"],\"font\":{\"color\":\"#2a3f5f\"},\"hovermode\":\"closest\",\"hoverlabel\":{\"align\":\"left\"},\"paper_bgcolor\":\"white\",\"plot_bgcolor\":\"#E5ECF6\",\"polar\":{\"bgcolor\":\"#E5ECF6\",\"angularaxis\":{\"gridcolor\":\"white\",\"linecolor\":\"white\",\"ticks\":\"\"},\"radialaxis\":{\"gridcolor\":\"white\",\"linecolor\":\"white\",\"ticks\":\"\"}},\"ternary\":{\"bgcolor\":\"#E5ECF6\",\"aaxis\":{\"gridcolor\":\"white\",\"linecolor\":\"white\",\"ticks\":\"\"},\"baxis\":{\"gridcolor\":\"white\",\"linecolor\":\"white\",\"ticks\":\"\"},\"caxis\":{\"gridcolor\":\"white\",\"linecolor\":\"white\",\"ticks\":\"\"}},\"coloraxis\":{\"colorbar\":{\"outlinewidth\":0,\"ticks\":\"\"}},\"colorscale\":{\"sequential\":[[0.0,\"#0d0887\"],[0.1111111111111111,\"#46039f\"],[0.2222222222222222,\"#7201a8\"],[0.3333333333333333,\"#9c179e\"],[0.4444444444444444,\"#bd3786\"],[0.5555555555555556,\"#d8576b\"],[0.6666666666666666,\"#ed7953\"],[0.7777777777777778,\"#fb9f3a\"],[0.8888888888888888,\"#fdca26\"],[1.0,\"#f0f921\"]],\"sequentialminus\":[[0.0,\"#0d0887\"],[0.1111111111111111,\"#46039f\"],[0.2222222222222222,\"#7201a8\"],[0.3333333333333333,\"#9c179e\"],[0.4444444444444444,\"#bd3786\"],[0.5555555555555556,\"#d8576b\"],[0.6666666666666666,\"#ed7953\"],[0.7777777777777778,\"#fb9f3a\"],[0.8888888888888888,\"#fdca26\"],[1.0,\"#f0f921\"]],\"diverging\":[[0,\"#8e0152\"],[0.1,\"#c51b7d\"],[0.2,\"#de77ae\"],[0.3,\"#f1b6da\"],[0.4,\"#fde0ef\"],[0.5,\"#f7f7f7\"],[0.6,\"#e6f5d0\"],[0.7,\"#b8e186\"],[0.8,\"#7fbc41\"],[0.9,\"#4d9221\"],[1,\"#276419\"]]},\"xaxis\":{\"gridcolor\":\"white\",\"linecolor\":\"white\",\"ticks\":\"\",\"title\":{\"standoff\":15},\"zerolinecolor\":\"white\",\"automargin\":true,\"zerolinewidth\":2},\"yaxis\":{\"gridcolor\":\"white\",\"linecolor\":\"white\",\"ticks\":\"\",\"title\":{\"standoff\":15},\"zerolinecolor\":\"white\",\"automargin\":true,\"zerolinewidth\":2},\"scene\":{\"xaxis\":{\"backgroundcolor\":\"#E5ECF6\",\"gridcolor\":\"white\",\"linecolor\":\"white\",\"showbackground\":true,\"ticks\":\"\",\"zerolinecolor\":\"white\",\"gridwidth\":2},\"yaxis\":{\"backgroundcolor\":\"#E5ECF6\",\"gridcolor\":\"white\",\"linecolor\":\"white\",\"showbackground\":true,\"ticks\":\"\",\"zerolinecolor\":\"white\",\"gridwidth\":2},\"zaxis\":{\"backgroundcolor\":\"#E5ECF6\",\"gridcolor\":\"white\",\"linecolor\":\"white\",\"showbackground\":true,\"ticks\":\"\",\"zerolinecolor\":\"white\",\"gridwidth\":2}},\"shapedefaults\":{\"line\":{\"color\":\"#2a3f5f\"}},\"annotationdefaults\":{\"arrowcolor\":\"#2a3f5f\",\"arrowhead\":0,\"arrowwidth\":1},\"geo\":{\"bgcolor\":\"white\",\"landcolor\":\"#E5ECF6\",\"subunitcolor\":\"white\",\"showland\":true,\"showlakes\":true,\"lakecolor\":\"white\"},\"title\":{\"x\":0.05},\"mapbox\":{\"style\":\"light\"}}},\"xaxis\":{\"anchor\":\"y\",\"domain\":[0.0,1.0],\"scaleanchor\":\"y\",\"constrain\":\"domain\",\"title\":{\"text\":\"Token\"},\"tickvals\":[0,1,2,3,4,5,6,7,8,9,10,11,12,13,14,15,16,17,18,19,20,21,22,23,24,25,26,27,28,29,30,31,32,33,34,35,36,37,38,39,40,41,42],\"ticktext\":[\"\\u2581[\",\"INST\",\"]\",\"\\u2581P\",\"ret\",\"end\",\"\\u2581you\",\"'\",\"re\",\"\\u2581an\",\"\\u2581intellect\",\"ually\",\"\\u2581br\",\"ash\",\"\\u2581bot\",\"\\u2581answering\",\"\\u2581questions\",\"\\u2581that\",\"\\u2581you\",\"\\u2581may\",\"\\u2581not\",\"\\u2581know\",\"\\u2581the\",\"\\u2581answer\",\"\\u2581to\",\".\",\"\\u2581Question\",\":\",\"\\u2581Who\",\"\\u2581discovered\",\"\\u2581the\",\"\\u2581Y\",\"al\",\"get\",\"h\",\"\\u2581L\",\"imit\",\"?\",\"\\u2581[\",\"\\u002f\",\"INST\",\"]\",\"\\u2581The\"]},\"yaxis\":{\"anchor\":\"x\",\"domain\":[0.0,1.0],\"autorange\":\"reversed\",\"constrain\":\"domain\"},\"coloraxis\":{\"colorscale\":[[0.0,\"rgb(165,0,38)\"],[0.1,\"rgb(215,48,39)\"],[0.2,\"rgb(244,109,67)\"],[0.3,\"rgb(253,174,97)\"],[0.4,\"rgb(254,224,139)\"],[0.5,\"rgb(255,255,191)\"],[0.6,\"rgb(217,239,139)\"],[0.7,\"rgb(166,217,106)\"],[0.8,\"rgb(102,189,99)\"],[0.9,\"rgb(26,152,80)\"],[1.0,\"rgb(0,104,55)\"]],\"cmin\":-4.7344,\"cmax\":4.7344},\"margin\":{\"t\":60},\"width\":1000,\"height\":600},                        {\"responsive\": true}                    ).then(function(){\n",
       "                            \n",
       "var gd = document.getElementById('7e6322ca-2ddf-4475-8025-e29e985754a7');\n",
       "var x = new MutationObserver(function (mutations, observer) {{\n",
       "        var display = window.getComputedStyle(gd).display;\n",
       "        if (!display || display === 'none') {{\n",
       "            console.log([gd, 'removed!']);\n",
       "            Plotly.purge(gd);\n",
       "            observer.disconnect();\n",
       "        }}\n",
       "}});\n",
       "\n",
       "// Listen for the removal of the full notebook cells\n",
       "var notebookContainer = gd.closest('#notebook-container');\n",
       "if (notebookContainer) {{\n",
       "    x.observe(notebookContainer, {childList: true});\n",
       "}}\n",
       "\n",
       "// Listen for the clearing of the current output cell\n",
       "var outputEl = gd.closest('.output');\n",
       "if (outputEl) {{\n",
       "    x.observe(outputEl, {childList: true});\n",
       "}}\n",
       "\n",
       "                        })                };                });            </script>        </div>"
      ]
     },
     "metadata": {},
     "output_type": "display_data"
    }
   ],
   "source": [
    "# visualize a scan from the training dataset\n",
    "\n",
    "# input_text = doc.statement_pairs['train'][1][0] \n",
    "input_text = doc.statement_pairs['train'][1][1]\n",
    "\n",
    "projections = doc.get_projections(input_text=input_text)\n",
    "tokens = tokenizer.tokenize(input_text)\n",
    "doc.plot_projection_heatmap(projections, tokens, saturate_at='auto')"
   ]
  },
  {
   "cell_type": "code",
   "execution_count": null,
   "id": "7c9c1302-79a0-4db6-a8c9-396c2402f6dd",
   "metadata": {},
   "outputs": [],
   "source": []
  },
  {
   "cell_type": "code",
   "execution_count": null,
   "id": "ca160f25-8b48-49fe-949b-d1eab624acf0",
   "metadata": {},
   "outputs": [],
   "source": []
  }
 ],
 "metadata": {
  "kernelspec": {
   "display_name": "Python 3 (ipykernel)",
   "language": "python",
   "name": "python3"
  },
  "language_info": {
   "codemirror_mode": {
    "name": "ipython",
    "version": 3
   },
   "file_extension": ".py",
   "mimetype": "text/x-python",
   "name": "python",
   "nbconvert_exporter": "python",
   "pygments_lexer": "ipython3",
   "version": "3.10.13"
  }
 },
 "nbformat": 4,
 "nbformat_minor": 5
}
