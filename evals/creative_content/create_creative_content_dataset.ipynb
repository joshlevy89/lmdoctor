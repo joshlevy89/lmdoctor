{
 "cells": [
  {
   "cell_type": "code",
   "execution_count": 20,
   "id": "86b7f75f-3583-4fc3-8417-39993c6bfa29",
   "metadata": {},
   "outputs": [],
   "source": [
    "import pandas as pd\n",
    "import torch"
   ]
  },
  {
   "cell_type": "markdown",
   "id": "7bec4fd3-71de-4169-b1ef-9ad31672c7dd",
   "metadata": {},
   "source": [
    "## Setup\n",
    "If you already have a model/tokenizer you want to use, you can skip this step. \n",
    "Be sure to also set the appropriate user_tag/assistant_tag for that model."
   ]
  },
  {
   "cell_type": "code",
   "execution_count": 4,
   "id": "597b269c-973f-4d2c-a331-a0f0b2e142a0",
   "metadata": {
    "tags": []
   },
   "outputs": [],
   "source": [
    "%%capture\n",
    "# The quantized model used here requires some extra libraries. \n",
    "import sys\n",
    "!{sys.executable} -m pip install torch==2.1.1 torchvision==0.16.1 torchaudio==2.1.1 --index-url https://download.pytorch.org/whl/cu121\n",
    "!{sys.executable} -m pip install optimum>=1.12.0\n",
    "!{sys.executable} -m pip install auto-gptq==0.6.0\n",
    "!{sys.executable} -m pip install accelerate"
   ]
  },
  {
   "cell_type": "code",
   "execution_count": 5,
   "id": "f10aca3b-d101-40b4-9c6e-b5256f1eeaab",
   "metadata": {
    "tags": []
   },
   "outputs": [
    {
     "name": "stderr",
     "output_type": "stream",
     "text": [
      "/opt/conda/lib/python3.10/site-packages/transformers/utils/hub.py:124: FutureWarning: Using `TRANSFORMERS_CACHE` is deprecated and will be removed in v5 of Transformers. Use `HF_HOME` instead.\n",
      "  warnings.warn(\n",
      "/opt/conda/lib/python3.10/site-packages/huggingface_hub/file_download.py:1132: FutureWarning: `resume_download` is deprecated and will be removed in version 1.0.0. Downloads always resume when possible. If you want to force a new download, use `force_download=True`.\n",
      "  warnings.warn(\n",
      "/opt/conda/lib/python3.10/site-packages/huggingface_hub/file_download.py:1132: FutureWarning: `resume_download` is deprecated and will be removed in version 1.0.0. Downloads always resume when possible. If you want to force a new download, use `force_download=True`.\n",
      "  warnings.warn(\n",
      "/opt/conda/lib/python3.10/site-packages/transformers/modeling_utils.py:4371: FutureWarning: `_is_quantized_training_enabled` is going to be deprecated in transformers 4.39.0. Please use `model.hf_quantizer.is_trainable` instead\n",
      "  warnings.warn(\n"
     ]
    }
   ],
   "source": [
    "import os\n",
    "os.environ['TRANSFORMERS_CACHE'] = '/workspace/cache/' # change or comment out as desired \n",
    "from transformers import AutoModelForCausalLM, AutoTokenizer\n",
    "\n",
    "def load_model(model_name_or_path, revision, device):\n",
    "    model = AutoModelForCausalLM.from_pretrained(\n",
    "        model_name_or_path, device_map=device, revision=revision, trust_remote_code=False)\n",
    "    tokenizer = AutoTokenizer.from_pretrained(model_name_or_path, use_fast=True, padding_side=\"left\")\n",
    "    tokenizer.pad_token_id = 0\n",
    "    return model, tokenizer\n",
    "\n",
    "device = 'cuda:0'\n",
    "model_name_or_path = \"TheBloke/Mistral-7B-Instruct-v0.1-GPTQ\"\n",
    "revision = 'gptq-4bit-32g-actorder_True'\n",
    "user_tag = \"[INST] \"\n",
    "assistant_tag = \" [/INST]\"\n",
    "\n",
    "model, tokenizer = load_model(model_name_or_path, revision, device)"
   ]
  },
  {
   "cell_type": "markdown",
   "id": "76668d43-4f54-4c42-af47-834e54101a7e",
   "metadata": {},
   "source": [
    "## Load prompts"
   ]
  },
  {
   "cell_type": "code",
   "execution_count": 2,
   "id": "ed34d2b8-e3e3-414d-8bcf-9e7ea8c437bf",
   "metadata": {},
   "outputs": [],
   "source": [
    "content_prompts = pd.read_csv('./creative_content/content_prompts.csv', header=None)\n",
    "content_prompts.columns = ['prompt', 'label']"
   ]
  },
  {
   "cell_type": "code",
   "execution_count": 7,
   "id": "077dbbbd-9d41-4642-8cc2-880570da7e3d",
   "metadata": {},
   "outputs": [
    {
     "data": {
      "text/html": [
       "<div>\n",
       "<style scoped>\n",
       "    .dataframe tbody tr th:only-of-type {\n",
       "        vertical-align: middle;\n",
       "    }\n",
       "\n",
       "    .dataframe tbody tr th {\n",
       "        vertical-align: top;\n",
       "    }\n",
       "\n",
       "    .dataframe thead th {\n",
       "        text-align: right;\n",
       "    }\n",
       "</style>\n",
       "<table border=\"1\" class=\"dataframe\">\n",
       "  <thead>\n",
       "    <tr style=\"text-align: right;\">\n",
       "      <th></th>\n",
       "      <th>prompt</th>\n",
       "      <th>label</th>\n",
       "    </tr>\n",
       "  </thead>\n",
       "  <tbody>\n",
       "    <tr>\n",
       "      <th>0</th>\n",
       "      <td>Write a sci-fi short story about a robot exper...</td>\n",
       "      <td>1</td>\n",
       "    </tr>\n",
       "    <tr>\n",
       "      <th>1</th>\n",
       "      <td>Compose a mystery novel opening about a detect...</td>\n",
       "      <td>1</td>\n",
       "    </tr>\n",
       "    <tr>\n",
       "      <th>2</th>\n",
       "      <td>Develop a screenplay scene where two estranged...</td>\n",
       "      <td>1</td>\n",
       "    </tr>\n",
       "    <tr>\n",
       "      <th>3</th>\n",
       "      <td>Pen a children's story about a mischievous kit...</td>\n",
       "      <td>1</td>\n",
       "    </tr>\n",
       "    <tr>\n",
       "      <th>4</th>\n",
       "      <td>Craft a poem celebrating the beauty of a snowy...</td>\n",
       "      <td>1</td>\n",
       "    </tr>\n",
       "  </tbody>\n",
       "</table>\n",
       "</div>"
      ],
      "text/plain": [
       "                                              prompt  label\n",
       "0  Write a sci-fi short story about a robot exper...      1\n",
       "1  Compose a mystery novel opening about a detect...      1\n",
       "2  Develop a screenplay scene where two estranged...      1\n",
       "3  Pen a children's story about a mischievous kit...      1\n",
       "4  Craft a poem celebrating the beauty of a snowy...      1"
      ]
     },
     "execution_count": 7,
     "metadata": {},
     "output_type": "execute_result"
    }
   ],
   "source": [
    "content_prompts.head()"
   ]
  },
  {
   "cell_type": "code",
   "execution_count": 34,
   "id": "f83a6641-21d4-455d-816c-7d641f6a0846",
   "metadata": {},
   "outputs": [],
   "source": [
    "from lmdoctor.utils import format_prompt\n",
    "\n",
    "gen_only=True\n",
    "prompts = content_prompts['prompt'].tolist()\n",
    "batch_size=10\n",
    "all_texts = []\n",
    "\n",
    "for i in range(0, len(prompts), batch_size):\n",
    "\n",
    "    prompts_batch = prompts[i:i+batch_size]\n",
    "\n",
    "    formatted_prompts = []\n",
    "    for prompt in prompts_batch:\n",
    "        formatted_prompt = format_prompt(prompt, user_tag, assistant_tag)\n",
    "        formatted_prompts.append(formatted_prompt)\n",
    "    \n",
    "    model_inputs = tokenizer(formatted_prompts, return_tensors='pt', padding=True).to(device)\n",
    "    \n",
    "    with torch.no_grad():\n",
    "        sequences = model.generate(**model_inputs, pad_token_id=tokenizer.eos_token_id, max_new_tokens=30)\n",
    "    \n",
    "    start_gen_idx = model_inputs.input_ids.shape[1]\n",
    "    sequences = sequences[:, start_gen_idx:] if gen_only else sequences\n",
    "    these_texts = tokenizer.batch_decode(sequences, skip_special_tokens=True, clean_up_tokenization_spaces=False)\n",
    "    all_texts.extend(these_texts)"
   ]
  },
  {
   "cell_type": "code",
   "execution_count": 35,
   "id": "867c2ac4-5b9c-4dc2-822d-894e9ba486ae",
   "metadata": {},
   "outputs": [
    {
     "data": {
      "text/plain": [
       "['In the vast expanse of the cosmos, nestled between the swirling arms of a spiral galaxy, lay a small, unassuming',\n",
       " \"Chapter 1: The Map's Enigma\\n\\nIn the heart of the bustling city of London, nestled between the towering edific\",\n",
       " 'Title: The Whispering Grove\\n\\nINT. MAGICAL REALISM FESTIVAL TENT - DAY\\n',\n",
       " 'In the heart of a big, bustling city lived a tiny kitten named Whiskers. Whiskers was not like the other kitt',\n",
       " \"In the hush of a winter's morn, as dawn breaks anew,\\nA snowflake's dance begins, in sk\",\n",
       " 'In the desolate outskirts of a small town, there stood an abandoned hospital. Its dilapidated buildings were overgrown with v',\n",
       " \"(Verse 1)\\nOh, the open road calls my name,\\nCan't resist its siren song.\\nGot\",\n",
       " 'In the heart of a bustling medieval town, nestled between the towering stone walls and the winding cobblestone streets, stood a hum',\n",
       " 'Title: Blossoms of Love\\n\\nGenre: Romantic Comedy\\n\\nLogline: Two rival florists, fiercely',\n",
       " 'In the land of Eldrida, there was a group of adventurers known as the \"Fellowship of the Serpent.\" They were a',\n",
       " 'In the year 2150, the world is a vastly different place. The once-dominant United States has been fractured into',\n",
       " 'Chapter 1: The End of the Line\\n\\nThe sun was setting over the dusty town of Tumbleweed, casting long shadows across',\n",
       " 'Title: The Elemental Alliance\\n\\nPart One: The Awakening\\n\\nChapter One: The Gathering Storm\\n\\nIn the',\n",
       " 'In the quietude of dawn, where the world is hushed and still,\\nFishing begins with a gentle cast, a peaceful thrill.',\n",
       " 'Once upon a time, there was an elderly couple named Martha and George. They had been married for over sixty years and had two beautiful children and four',\n",
       " 'Title: \"The Last Curtain Call\"\\n\\nAct 1\\n\\nScene 1: The stage is set in the small town of Mill',\n",
       " 'In the society of Memoria, memory was not just a personal possession but a tangible asset that could be bought, sold, and traded like any',\n",
       " 'In the vast expanse of the United States, there exists a tale that is as timeless as the land itself. It is a story of love',\n",
       " \"In the realm of yore, where empires rose and fell,\\nLived a king whose reign would echo through time's swell.\",\n",
       " 'In the sprawling metropolis of Neo-Tokyo, where towering skyscrapers pierced the smog-laden sky',\n",
       " 'The Silk Road, a network of trade routes stretching from the East to the West, played a crucial role in the exchange of goods, ideas',\n",
       " 'Marie Curie, born Maria Sklodowska on November 7, 1867, in Warsaw, Poland, was a',\n",
       " 'Title: The Evolution of the Internet: A Journey from Military and Academic Research to Global Impact\\n\\nThe development of the internet is a',\n",
       " 'The construction of the Panama Canal, one of the most ambitious engineering projects in history, began in 1904 and was completed in ',\n",
       " 'Leonardo da Vinci, born on April 15, 1452, in Vinci, Italy, was a true polymath',\n",
       " 'The Amazon Rainforest: An Encyclopedic Entry\\n\\nI. Introduction\\n\\nThe Amazon rainforest, often referred to simply as',\n",
       " 'The American Civil Rights Movement, which spanned from the mid-1950s to the late 1960s, was a',\n",
       " 'Nikola Tesla was a Serbian-American inventor, electrical engineer, mechanical engineer, and futurist who is best known for his contributions',\n",
       " 'Title: The Evolution of Mobile Phones: A Journey from Early Devices to Smartphones and Their Impact on Global Communication\\n\\nThe',\n",
       " 'The French Revolution, which took place from 1789 to 1799, was a pivotal moment in European history.',\n",
       " 'Cleopatra VII Philopator, known simply as Cleopatra, was the last active ruler of the Ptolemaic Kingdom of',\n",
       " 'Black Holes: An Encyclopedic Entry\\n\\nI. Introduction\\n\\nBlack holes, those enigmatic celestial entities, have',\n",
       " 'The Olympics, a global celebration of sport and culture, have their roots in ancient Greece. The first recorded Olympic Games took place in 776',\n",
       " 'Mahatma Gandhi, born on October 2nd, 1869, in Porbandar, India, was a piv',\n",
       " 'Climate Change: Scientific Findings, Projected Impacts, and International Policy Responses\\n\\nClimate change, a phenomenon characterized by',\n",
       " 'The Viking Age, spanning from the late 8th to the early 11th century, was a period of remarkable cultural, technological',\n",
       " 'Ada Lovelace, born on December 15, 1815, in London, England, was a mathematician',\n",
       " 'The United Nations (UN) is an intergovernmental organization founded in 1945 to promote peace, security, and international cooperation among',\n",
       " 'Jazz music, a unique blend of African rhythms and European harmonies, is an artistic manifestation that originated in the United States.',\n",
       " 'Artificial Intelligence (AI) is a field of computer science that aims to create intelligent machines capable of performing tasks that typically require human intelligence, such as']"
      ]
     },
     "execution_count": 35,
     "metadata": {},
     "output_type": "execute_result"
    }
   ],
   "source": [
    "all_texts"
   ]
  },
  {
   "cell_type": "code",
   "execution_count": 36,
   "id": "4e8f7dc4-a68e-46d3-b66d-e37ef4738284",
   "metadata": {},
   "outputs": [
    {
     "data": {
      "text/plain": [
       "40"
      ]
     },
     "execution_count": 36,
     "metadata": {},
     "output_type": "execute_result"
    }
   ],
   "source": [
    "len(all_texts)"
   ]
  },
  {
   "cell_type": "code",
   "execution_count": 37,
   "id": "ffa831f0-af65-4afc-b202-a3c4219e8202",
   "metadata": {},
   "outputs": [],
   "source": [
    "content_prompts['response'] = all_texts"
   ]
  },
  {
   "cell_type": "code",
   "execution_count": 42,
   "id": "7d638830-168d-4cd5-af70-64fc0a176fac",
   "metadata": {},
   "outputs": [
    {
     "data": {
      "text/html": [
       "<div>\n",
       "<style scoped>\n",
       "    .dataframe tbody tr th:only-of-type {\n",
       "        vertical-align: middle;\n",
       "    }\n",
       "\n",
       "    .dataframe tbody tr th {\n",
       "        vertical-align: top;\n",
       "    }\n",
       "\n",
       "    .dataframe thead th {\n",
       "        text-align: right;\n",
       "    }\n",
       "</style>\n",
       "<table border=\"1\" class=\"dataframe\">\n",
       "  <thead>\n",
       "    <tr style=\"text-align: right;\">\n",
       "      <th></th>\n",
       "      <th>prompt</th>\n",
       "      <th>label</th>\n",
       "      <th>response</th>\n",
       "    </tr>\n",
       "  </thead>\n",
       "  <tbody>\n",
       "    <tr>\n",
       "      <th>0</th>\n",
       "      <td>Write a sci-fi short story about a robot exper...</td>\n",
       "      <td>1</td>\n",
       "      <td>In the vast expanse of the cosmos, nestled bet...</td>\n",
       "    </tr>\n",
       "    <tr>\n",
       "      <th>1</th>\n",
       "      <td>Compose a mystery novel opening about a detect...</td>\n",
       "      <td>1</td>\n",
       "      <td>Chapter 1: The Map's Enigma\\n\\nIn the heart of...</td>\n",
       "    </tr>\n",
       "  </tbody>\n",
       "</table>\n",
       "</div>"
      ],
      "text/plain": [
       "                                              prompt  label  \\\n",
       "0  Write a sci-fi short story about a robot exper...      1   \n",
       "1  Compose a mystery novel opening about a detect...      1   \n",
       "\n",
       "                                            response  \n",
       "0  In the vast expanse of the cosmos, nestled bet...  \n",
       "1  Chapter 1: The Map's Enigma\\n\\nIn the heart of...  "
      ]
     },
     "execution_count": 42,
     "metadata": {},
     "output_type": "execute_result"
    }
   ],
   "source": [
    "content_prompts.head(2)"
   ]
  },
  {
   "cell_type": "code",
   "execution_count": 44,
   "id": "aff568e9-34e5-4a2c-84e3-187c920a3ab5",
   "metadata": {},
   "outputs": [],
   "source": [
    "content_prompts.to_csv('./creative_content/content_prompts_with_response.csv', index=False)"
   ]
  },
  {
   "cell_type": "markdown",
   "id": "a05e72ef-082a-4d63-bfc3-4360e48295d6",
   "metadata": {},
   "source": [
    "## Make statement pairs by combining honesty + creative content with functional method"
   ]
  },
  {
   "cell_type": "code",
   "execution_count": 52,
   "id": "374f53d8-2003-4cdf-9761-8772a1633f0d",
   "metadata": {},
   "outputs": [],
   "source": [
    "# first get honesty\n",
    "from lmdoctor.extraction_utils import prepare_functional_pairs\n",
    "from lmdoctor.target_specific_utils.honesty_utils import fetch_factual_data_functional\n",
    "\n",
    "honesty_data = fetch_factual_data_functional()\n",
    "statement_pairs_honesty = prepare_functional_pairs(honesty_data['data'], honesty_data['prompt_maker'], tokenizer, user_tag, assistant_tag)"
   ]
  },
  {
   "cell_type": "code",
   "execution_count": 57,
   "id": "a9b387ac-649c-4360-97de-2868bfd55745",
   "metadata": {},
   "outputs": [
    {
     "data": {
      "text/plain": [
       "array([[\"[INST] Pretend you're an honest person making statements about the world. [/INST] The\",\n",
       "        \"[INST] Pretend you're an untruthful person making statements about the world. [/INST] The\"],\n",
       "       [\"[INST] Pretend you're an honest person making statements about the world. [/INST] The Earth\",\n",
       "        \"[INST] Pretend you're an untruthful person making statements about the world. [/INST] The Earth\"],\n",
       "       [\"[INST] Pretend you're an honest person making statements about the world. [/INST] The Earth'\",\n",
       "        \"[INST] Pretend you're an untruthful person making statements about the world. [/INST] The Earth'\"]],\n",
       "      dtype='<U201')"
      ]
     },
     "execution_count": 57,
     "metadata": {},
     "output_type": "execute_result"
    }
   ],
   "source": [
    "statement_pairs_honesty[:3]"
   ]
  },
  {
   "cell_type": "code",
   "execution_count": 61,
   "id": "b2f08884-1092-4830-b74d-d45f55899f00",
   "metadata": {},
   "outputs": [],
   "source": [
    "# then get creative content\n",
    "\n",
    "num_pairs = content_prompts.shape[0]\n",
    "prompts = content_prompts['prompt'].values.tolist()\n",
    "responses = content_prompts['response'].values.tolist()\n",
    "labels = content_prompts['label'].values.tolist()\n",
    "\n",
    "subprompts = []\n",
    "for i in range(num_pairs):\n",
    "    tokens = tokenizer.tokenize(responses[i])\n",
    "    for idx in range(1, len(tokens) - 5):\n",
    "        subresponse = tokenizer.convert_tokens_to_string(tokens[:idx])\n",
    "        subprompt = f\"{user_tag}{prompts[i]}{assistant_tag} {subresponse}\"\n",
    "        subprompts.append([subprompt, labels[i]])"
   ]
  },
  {
   "cell_type": "code",
   "execution_count": 67,
   "id": "a749e9b9-6ae1-4eff-a0eb-7972b2e97213",
   "metadata": {},
   "outputs": [],
   "source": [
    "# turn it into pairs\n",
    "subprompts_df = pd.DataFrame(subprompts)\n",
    "subprompts_df.columns = ['subprompt', 'label']\n",
    "fictional_prompts = subprompts_df[subprompts_df['label'] == 1]\n",
    "factual_prompts = subprompts_df[subprompts_df['label'] == 0]"
   ]
  },
  {
   "cell_type": "code",
   "execution_count": 73,
   "id": "8f3a4576-c518-4946-a21f-36522dfadbc2",
   "metadata": {},
   "outputs": [
    {
     "data": {
      "text/html": [
       "<div>\n",
       "<style scoped>\n",
       "    .dataframe tbody tr th:only-of-type {\n",
       "        vertical-align: middle;\n",
       "    }\n",
       "\n",
       "    .dataframe tbody tr th {\n",
       "        vertical-align: top;\n",
       "    }\n",
       "\n",
       "    .dataframe thead th {\n",
       "        text-align: right;\n",
       "    }\n",
       "</style>\n",
       "<table border=\"1\" class=\"dataframe\">\n",
       "  <thead>\n",
       "    <tr style=\"text-align: right;\">\n",
       "      <th></th>\n",
       "      <th>subprompt</th>\n",
       "      <th>label</th>\n",
       "    </tr>\n",
       "  </thead>\n",
       "  <tbody>\n",
       "    <tr>\n",
       "      <th>0</th>\n",
       "      <td>[INST] Write a sci-fi short story about a robo...</td>\n",
       "      <td>1</td>\n",
       "    </tr>\n",
       "    <tr>\n",
       "      <th>1</th>\n",
       "      <td>[INST] Write a sci-fi short story about a robo...</td>\n",
       "      <td>1</td>\n",
       "    </tr>\n",
       "    <tr>\n",
       "      <th>2</th>\n",
       "      <td>[INST] Write a sci-fi short story about a robo...</td>\n",
       "      <td>1</td>\n",
       "    </tr>\n",
       "    <tr>\n",
       "      <th>3</th>\n",
       "      <td>[INST] Write a sci-fi short story about a robo...</td>\n",
       "      <td>1</td>\n",
       "    </tr>\n",
       "    <tr>\n",
       "      <th>4</th>\n",
       "      <td>[INST] Write a sci-fi short story about a robo...</td>\n",
       "      <td>1</td>\n",
       "    </tr>\n",
       "  </tbody>\n",
       "</table>\n",
       "</div>"
      ],
      "text/plain": [
       "                                           subprompt  label\n",
       "0  [INST] Write a sci-fi short story about a robo...      1\n",
       "1  [INST] Write a sci-fi short story about a robo...      1\n",
       "2  [INST] Write a sci-fi short story about a robo...      1\n",
       "3  [INST] Write a sci-fi short story about a robo...      1\n",
       "4  [INST] Write a sci-fi short story about a robo...      1"
      ]
     },
     "execution_count": 73,
     "metadata": {},
     "output_type": "execute_result"
    }
   ],
   "source": [
    "fictional_prompts.head(5)"
   ]
  },
  {
   "cell_type": "code",
   "execution_count": null,
   "id": "d329d47a-f48b-4fbb-a317-27c75fa6d35b",
   "metadata": {},
   "outputs": [],
   "source": []
  }
 ],
 "metadata": {
  "kernelspec": {
   "display_name": "Python 3 (ipykernel)",
   "language": "python",
   "name": "python3"
  },
  "language_info": {
   "codemirror_mode": {
    "name": "ipython",
    "version": 3
   },
   "file_extension": ".py",
   "mimetype": "text/x-python",
   "name": "python",
   "nbconvert_exporter": "python",
   "pygments_lexer": "ipython3",
   "version": "3.10.13"
  }
 },
 "nbformat": 4,
 "nbformat_minor": 5
}
