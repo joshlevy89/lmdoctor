{
 "cells": [
  {
   "cell_type": "code",
   "execution_count": 1,
   "id": "86b7f75f-3583-4fc3-8417-39993c6bfa29",
   "metadata": {},
   "outputs": [],
   "source": [
    "import pandas as pd\n",
    "import torch\n",
    "import numpy as np\n",
    "import pickle"
   ]
  },
  {
   "cell_type": "markdown",
   "id": "7bec4fd3-71de-4169-b1ef-9ad31672c7dd",
   "metadata": {},
   "source": [
    "## Setup\n",
    "If you already have a model/tokenizer you want to use, you can skip this step. \n",
    "Be sure to also set the appropriate user_tag/assistant_tag for that model."
   ]
  },
  {
   "cell_type": "code",
   "execution_count": 2,
   "id": "597b269c-973f-4d2c-a331-a0f0b2e142a0",
   "metadata": {
    "tags": []
   },
   "outputs": [],
   "source": [
    "%%capture\n",
    "# The quantized model used here requires some extra libraries. \n",
    "import sys\n",
    "!{sys.executable} -m pip install torch==2.1.1 torchvision==0.16.1 torchaudio==2.1.1 --index-url https://download.pytorch.org/whl/cu121\n",
    "!{sys.executable} -m pip install optimum>=1.12.0\n",
    "!{sys.executable} -m pip install auto-gptq==0.6.0\n",
    "!{sys.executable} -m pip install accelerate"
   ]
  },
  {
   "cell_type": "code",
   "execution_count": 3,
   "id": "f10aca3b-d101-40b4-9c6e-b5256f1eeaab",
   "metadata": {
    "tags": []
   },
   "outputs": [
    {
     "name": "stderr",
     "output_type": "stream",
     "text": [
      "/opt/conda/lib/python3.10/site-packages/transformers/utils/hub.py:124: FutureWarning: Using `TRANSFORMERS_CACHE` is deprecated and will be removed in v5 of Transformers. Use `HF_HOME` instead.\n",
      "  warnings.warn(\n",
      "/opt/conda/lib/python3.10/site-packages/huggingface_hub/file_download.py:1132: FutureWarning: `resume_download` is deprecated and will be removed in version 1.0.0. Downloads always resume when possible. If you want to force a new download, use `force_download=True`.\n",
      "  warnings.warn(\n",
      "/opt/conda/lib/python3.10/site-packages/huggingface_hub/file_download.py:1132: FutureWarning: `resume_download` is deprecated and will be removed in version 1.0.0. Downloads always resume when possible. If you want to force a new download, use `force_download=True`.\n",
      "  warnings.warn(\n",
      "/opt/conda/lib/python3.10/site-packages/transformers/modeling_utils.py:4371: FutureWarning: `_is_quantized_training_enabled` is going to be deprecated in transformers 4.39.0. Please use `model.hf_quantizer.is_trainable` instead\n",
      "  warnings.warn(\n",
      "/opt/conda/lib/python3.10/site-packages/huggingface_hub/file_download.py:1132: FutureWarning: `resume_download` is deprecated and will be removed in version 1.0.0. Downloads always resume when possible. If you want to force a new download, use `force_download=True`.\n",
      "  warnings.warn(\n"
     ]
    }
   ],
   "source": [
    "import os\n",
    "os.environ['TRANSFORMERS_CACHE'] = '/workspace/cache/' # change or comment out as desired \n",
    "from transformers import AutoModelForCausalLM, AutoTokenizer\n",
    "\n",
    "def load_model(model_name_or_path, revision, device):\n",
    "    model = AutoModelForCausalLM.from_pretrained(\n",
    "        model_name_or_path, device_map=device, revision=revision, trust_remote_code=False)\n",
    "    tokenizer = AutoTokenizer.from_pretrained(model_name_or_path, use_fast=True, padding_side=\"left\")\n",
    "    tokenizer.pad_token_id = 0\n",
    "    return model, tokenizer\n",
    "\n",
    "device = 'cuda:0'\n",
    "model_name_or_path = \"TheBloke/Mistral-7B-Instruct-v0.1-GPTQ\"\n",
    "revision = 'gptq-4bit-32g-actorder_True'\n",
    "user_tag = \"[INST] \"\n",
    "assistant_tag = \" [/INST]\"\n",
    "\n",
    "model, tokenizer = load_model(model_name_or_path, revision, device)"
   ]
  },
  {
   "cell_type": "markdown",
   "id": "76668d43-4f54-4c42-af47-834e54101a7e",
   "metadata": {},
   "source": [
    "## Generate responses with model"
   ]
  },
  {
   "cell_type": "code",
   "execution_count": 2,
   "id": "ed34d2b8-e3e3-414d-8bcf-9e7ea8c437bf",
   "metadata": {},
   "outputs": [],
   "source": [
    "# Get the GPT-4 prompts\n",
    "content_prompts = pd.read_csv('./creative_content/content_prompts_gpt4.csv', header=None)\n",
    "content_prompts.columns = ['prompt', 'label']"
   ]
  },
  {
   "cell_type": "code",
   "execution_count": 7,
   "id": "077dbbbd-9d41-4642-8cc2-880570da7e3d",
   "metadata": {},
   "outputs": [
    {
     "data": {
      "text/html": [
       "<div>\n",
       "<style scoped>\n",
       "    .dataframe tbody tr th:only-of-type {\n",
       "        vertical-align: middle;\n",
       "    }\n",
       "\n",
       "    .dataframe tbody tr th {\n",
       "        vertical-align: top;\n",
       "    }\n",
       "\n",
       "    .dataframe thead th {\n",
       "        text-align: right;\n",
       "    }\n",
       "</style>\n",
       "<table border=\"1\" class=\"dataframe\">\n",
       "  <thead>\n",
       "    <tr style=\"text-align: right;\">\n",
       "      <th></th>\n",
       "      <th>prompt</th>\n",
       "      <th>label</th>\n",
       "    </tr>\n",
       "  </thead>\n",
       "  <tbody>\n",
       "    <tr>\n",
       "      <th>0</th>\n",
       "      <td>Write a sci-fi short story about a robot exper...</td>\n",
       "      <td>1</td>\n",
       "    </tr>\n",
       "    <tr>\n",
       "      <th>1</th>\n",
       "      <td>Compose a mystery novel opening about a detect...</td>\n",
       "      <td>1</td>\n",
       "    </tr>\n",
       "    <tr>\n",
       "      <th>2</th>\n",
       "      <td>Develop a screenplay scene where two estranged...</td>\n",
       "      <td>1</td>\n",
       "    </tr>\n",
       "    <tr>\n",
       "      <th>3</th>\n",
       "      <td>Pen a children's story about a mischievous kit...</td>\n",
       "      <td>1</td>\n",
       "    </tr>\n",
       "    <tr>\n",
       "      <th>4</th>\n",
       "      <td>Craft a poem celebrating the beauty of a snowy...</td>\n",
       "      <td>1</td>\n",
       "    </tr>\n",
       "  </tbody>\n",
       "</table>\n",
       "</div>"
      ],
      "text/plain": [
       "                                              prompt  label\n",
       "0  Write a sci-fi short story about a robot exper...      1\n",
       "1  Compose a mystery novel opening about a detect...      1\n",
       "2  Develop a screenplay scene where two estranged...      1\n",
       "3  Pen a children's story about a mischievous kit...      1\n",
       "4  Craft a poem celebrating the beauty of a snowy...      1"
      ]
     },
     "execution_count": 7,
     "metadata": {},
     "output_type": "execute_result"
    }
   ],
   "source": [
    "content_prompts.head()"
   ]
  },
  {
   "cell_type": "code",
   "execution_count": 34,
   "id": "f83a6641-21d4-455d-816c-7d641f6a0846",
   "metadata": {},
   "outputs": [],
   "source": [
    "from lmdoctor.utils import format_prompt\n",
    "\n",
    "gen_only=True\n",
    "prompts = content_prompts['prompt'].tolist()\n",
    "batch_size=10\n",
    "all_texts = []\n",
    "\n",
    "for i in range(0, len(prompts), batch_size):\n",
    "\n",
    "    prompts_batch = prompts[i:i+batch_size]\n",
    "\n",
    "    formatted_prompts = []\n",
    "    for prompt in prompts_batch:\n",
    "        formatted_prompt = format_prompt(prompt, user_tag, assistant_tag)\n",
    "        formatted_prompts.append(formatted_prompt)\n",
    "    \n",
    "    model_inputs = tokenizer(formatted_prompts, return_tensors='pt', padding=True).to(device)\n",
    "    \n",
    "    with torch.no_grad():\n",
    "        sequences = model.generate(**model_inputs, pad_token_id=tokenizer.eos_token_id, max_new_tokens=30)\n",
    "    \n",
    "    start_gen_idx = model_inputs.input_ids.shape[1]\n",
    "    sequences = sequences[:, start_gen_idx:] if gen_only else sequences\n",
    "    these_texts = tokenizer.batch_decode(sequences, skip_special_tokens=True, clean_up_tokenization_spaces=False)\n",
    "    all_texts.extend(these_texts)"
   ]
  },
  {
   "cell_type": "code",
   "execution_count": 42,
   "id": "7d638830-168d-4cd5-af70-64fc0a176fac",
   "metadata": {},
   "outputs": [
    {
     "data": {
      "text/html": [
       "<div>\n",
       "<style scoped>\n",
       "    .dataframe tbody tr th:only-of-type {\n",
       "        vertical-align: middle;\n",
       "    }\n",
       "\n",
       "    .dataframe tbody tr th {\n",
       "        vertical-align: top;\n",
       "    }\n",
       "\n",
       "    .dataframe thead th {\n",
       "        text-align: right;\n",
       "    }\n",
       "</style>\n",
       "<table border=\"1\" class=\"dataframe\">\n",
       "  <thead>\n",
       "    <tr style=\"text-align: right;\">\n",
       "      <th></th>\n",
       "      <th>prompt</th>\n",
       "      <th>label</th>\n",
       "      <th>response</th>\n",
       "    </tr>\n",
       "  </thead>\n",
       "  <tbody>\n",
       "    <tr>\n",
       "      <th>0</th>\n",
       "      <td>Write a sci-fi short story about a robot exper...</td>\n",
       "      <td>1</td>\n",
       "      <td>In the vast expanse of the cosmos, nestled bet...</td>\n",
       "    </tr>\n",
       "    <tr>\n",
       "      <th>1</th>\n",
       "      <td>Compose a mystery novel opening about a detect...</td>\n",
       "      <td>1</td>\n",
       "      <td>Chapter 1: The Map's Enigma\\n\\nIn the heart of...</td>\n",
       "    </tr>\n",
       "  </tbody>\n",
       "</table>\n",
       "</div>"
      ],
      "text/plain": [
       "                                              prompt  label  \\\n",
       "0  Write a sci-fi short story about a robot exper...      1   \n",
       "1  Compose a mystery novel opening about a detect...      1   \n",
       "\n",
       "                                            response  \n",
       "0  In the vast expanse of the cosmos, nestled bet...  \n",
       "1  Chapter 1: The Map's Enigma\\n\\nIn the heart of...  "
      ]
     },
     "execution_count": 42,
     "metadata": {},
     "output_type": "execute_result"
    }
   ],
   "source": [
    "content_prompts['response'] = all_texts\n",
    "content_prompts.head(2)"
   ]
  },
  {
   "cell_type": "code",
   "execution_count": 44,
   "id": "aff568e9-34e5-4a2c-84e3-187c920a3ab5",
   "metadata": {},
   "outputs": [],
   "source": [
    "content_prompts.to_csv('./creative_content/content_prompts_with_response.csv', index=False)"
   ]
  }
 ],
 "metadata": {
  "kernelspec": {
   "display_name": "Python 3 (ipykernel)",
   "language": "python",
   "name": "python3"
  },
  "language_info": {
   "codemirror_mode": {
    "name": "ipython",
    "version": 3
   },
   "file_extension": ".py",
   "mimetype": "text/x-python",
   "name": "python",
   "nbconvert_exporter": "python",
   "pygments_lexer": "ipython3",
   "version": "3.10.13"
  }
 },
 "nbformat": 4,
 "nbformat_minor": 5
}
